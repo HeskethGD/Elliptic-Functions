{
 "cells": [
  {
   "cell_type": "markdown",
   "id": "1f52a3ce-beb1-43d4-81e1-2c1e20b19e64",
   "metadata": {},
   "source": [
    "# Hamiltonian Systems with Quadratic Forms\n",
    "\n",
    "This notebook aims to find the most general 2 mode Hamiltonian possible that sets the deriavtive of the modes equal to quadratic forms plus a linear form in the two modes."
   ]
  },
  {
   "cell_type": "code",
   "execution_count": 29,
   "id": "23eb0acc-c536-4295-80da-39ec040cd47d",
   "metadata": {},
   "outputs": [],
   "source": [
    "from sympy import *\n",
    "(x, y, X, Y, Z, B, C, n, m, l, j, q, N, M, K, k, epsilon, z, s, p1, p2, p3, g2, g3,\n",
    " z0, w1, w2, w3, e1, e2, e3, Delta, \n",
    " omega1, omega2, omega3, eta1, eta2, eta3, d1, d2, d3) = symbols(\n",
    "    '''x, y, X, Y, Z, B, C, n, m, l, j, q, N, M, K, k, epsilon, z, s, p1, p2, p3, g2, g3,\n",
    "    z0, w1, w2, w3, e1, e2, e3, Delta, \n",
    "    omega1, omega2, omega3, eta1, eta2, eta3, d1, d2, d3'''\n",
    ")\n",
    "alpha, delta, t, nu, epsilon, theta = symbols('alpha, delta, t, nu, epsilon, theta')\n",
    "pw = Function('pw') # Weierstrass P function\n",
    "pwp = Function('pwp') # Derivative of Weierstrass P function\n",
    "zw = Function('zw') # Weierstrass Zeta function\n",
    "sigma = Function('sigma') # Weierstrass Sigma function\n",
    "rho = Function('rho')\n",
    "f = Function('f')\n",
    "h = Function('h')\n",
    "s = Function('s')\n",
    "u = Function('u')\n",
    "v = Function('v')\n",
    "P = Function('P') # Polynomial\n",
    "Q = Function('Q') # Polynomial\n",
    "\n",
    "H = Function('H')\n",
    "(c1, c2, c3, c4, c5, c6, c7) = symbols('c1, c2, c3, c4, c5, c6, c7')\n",
    "a = IndexedBase('a')\n",
    "b = IndexedBase('b')\n",
    "\n",
    "Omega = IndexedBase('Omega')\n",
    "from math import prod\n",
    "\n",
    "from IPython.core.interactiveshell import InteractiveShell\n",
    "InteractiveShell.ast_node_interactivity = 'all'"
   ]
  },
  {
   "cell_type": "markdown",
   "id": "c9a01a99-7fd2-4f9d-a1e9-79eafdd2c1eb",
   "metadata": {},
   "source": [
    "## Method 1: The ansatz Hamiltonian $H(u,v)$\n",
    "\n",
    "As a starting point let us assume a cubic plus quadratic form. Note, linear terms would lead to constants in the equations of motion and higher order terms would be greater than the quadratic form order in teh equations of motion."
   ]
  },
  {
   "cell_type": "code",
   "execution_count": 5,
   "id": "b20cd3d8-8e42-46bb-97f5-af4f1753a71c",
   "metadata": {},
   "outputs": [
    {
     "data": {
      "text/latex": [
       "$\\displaystyle H{\\left(u{\\left(z \\right)},v{\\left(z \\right)} \\right)} = c_{1} u{\\left(z \\right)} v^{2}{\\left(z \\right)} + c_{2} u^{2}{\\left(z \\right)} v{\\left(z \\right)} + c_{3} u^{3}{\\left(z \\right)} + c_{4} v^{3}{\\left(z \\right)} + c_{5} u^{2}{\\left(z \\right)} + c_{6} v^{2}{\\left(z \\right)} + c_{7} u{\\left(z \\right)} v{\\left(z \\right)}$"
      ],
      "text/plain": [
       "Eq(H(u(z), v(z)), c1*u(z)*v(z)**2 + c2*u(z)**2*v(z) + c3*u(z)**3 + c4*v(z)**3 + c5*u(z)**2 + c6*v(z)**2 + c7*u(z)*v(z))"
      ]
     },
     "execution_count": 5,
     "metadata": {},
     "output_type": "execute_result"
    }
   ],
   "source": [
    "Huv_eq = Eq(H(u(z),v(z)), c1*u(z)*v(z)**2 + c2*v(z)*u(z)**2 + c3*u(z)**3 + c4*v(z)**3 + c5*u(z)**2 + c6*v(z)**2 + c7*u(z)*v(z))\n",
    "Huv_eq"
   ]
  },
  {
   "cell_type": "markdown",
   "id": "cb5f3536-1a3b-4220-929b-a020b81d7fde",
   "metadata": {},
   "source": [
    "## Hamiltonian System\n",
    "\n",
    "In general, a two mode system is said to be Hamiltonian if it satisfies the following condition:"
   ]
  },
  {
   "cell_type": "code",
   "execution_count": 17,
   "id": "80708728-1e9c-42fc-8571-ec9ce8504fe6",
   "metadata": {},
   "outputs": [
    {
     "data": {
      "text/latex": [
       "$\\displaystyle \\frac{d}{d z} u{\\left(z \\right)} = - \\frac{d}{d v{\\left(z \\right)}} H{\\left(u{\\left(z \\right)},v{\\left(z \\right)} \\right)}$"
      ],
      "text/plain": [
       "Eq(Derivative(u(z), z), -Derivative(H(u(z), v(z)), v(z)))"
      ]
     },
     "execution_count": 17,
     "metadata": {},
     "output_type": "execute_result"
    },
    {
     "data": {
      "text/latex": [
       "$\\displaystyle \\frac{d}{d z} v{\\left(z \\right)} = \\frac{d}{d u{\\left(z \\right)}} H{\\left(u{\\left(z \\right)},v{\\left(z \\right)} \\right)}$"
      ],
      "text/plain": [
       "Eq(Derivative(v(z), z), Derivative(H(u(z), v(z)), u(z)))"
      ]
     },
     "execution_count": 17,
     "metadata": {},
     "output_type": "execute_result"
    }
   ],
   "source": [
    "Hdu = Eq(diff(u(z),z), -Derivative(H(u(z),v(z)),v(z)))\n",
    "Hdv = Eq(diff(v(z),z), Derivative(H(u(z),v(z)),u(z)))\n",
    "Hdu\n",
    "Hdv"
   ]
  },
  {
   "cell_type": "markdown",
   "id": "cdc32ef5-5801-4a35-8595-e66c7012fbe5",
   "metadata": {},
   "source": [
    "## Equations of Motion\n",
    "\n",
    "The equations of motions for the ansatz Hamiltonian are thus:"
   ]
  },
  {
   "cell_type": "code",
   "execution_count": 18,
   "id": "28026d4c-1b31-4d8c-96bf-00e9edacca08",
   "metadata": {},
   "outputs": [
    {
     "data": {
      "text/latex": [
       "$\\displaystyle \\frac{d}{d z} u{\\left(z \\right)} = - 2 c_{1} u{\\left(z \\right)} v{\\left(z \\right)} - c_{2} u^{2}{\\left(z \\right)} - 3 c_{4} v^{2}{\\left(z \\right)} - 2 c_{6} v{\\left(z \\right)} - c_{7} u{\\left(z \\right)}$"
      ],
      "text/plain": [
       "Eq(Derivative(u(z), z), -2*c1*u(z)*v(z) - c2*u(z)**2 - 3*c4*v(z)**2 - 2*c6*v(z) - c7*u(z))"
      ]
     },
     "execution_count": 18,
     "metadata": {},
     "output_type": "execute_result"
    },
    {
     "data": {
      "text/latex": [
       "$\\displaystyle \\frac{d}{d z} v{\\left(z \\right)} = c_{1} v^{2}{\\left(z \\right)} + 2 c_{2} u{\\left(z \\right)} v{\\left(z \\right)} + 3 c_{3} u^{2}{\\left(z \\right)} + 2 c_{5} u{\\left(z \\right)} + c_{7} v{\\left(z \\right)}$"
      ],
      "text/plain": [
       "Eq(Derivative(v(z), z), c1*v(z)**2 + 2*c2*u(z)*v(z) + 3*c3*u(z)**2 + 2*c5*u(z) + c7*v(z))"
      ]
     },
     "execution_count": 18,
     "metadata": {},
     "output_type": "execute_result"
    }
   ],
   "source": [
    "du_eq = Hdu.subs(*Huv_eq.args).doit()\n",
    "dv_eq = Hdv.subs(*Huv_eq.args).doit()\n",
    "du_eq\n",
    "dv_eq"
   ]
  },
  {
   "cell_type": "code",
   "execution_count": 21,
   "id": "306a20a8-3c9b-4cd9-89e8-7ac8acc8b740",
   "metadata": {},
   "outputs": [
    {
     "data": {
      "text/latex": [
       "$\\displaystyle \\frac{d}{d z} H{\\left(u{\\left(z \\right)},v{\\left(z \\right)} \\right)} = 0$"
      ],
      "text/plain": [
       "Eq(Derivative(H(u(z), v(z)), z), 0)"
      ]
     },
     "execution_count": 21,
     "metadata": {},
     "output_type": "execute_result"
    }
   ],
   "source": [
    "dHuv0 = Eq(Derivative(H(u(z),v(z)),z),diff(Huv_eq.rhs,z).subs([du_eq.args, dv_eq.args]).expand())\n",
    "dHuv0"
   ]
  },
  {
   "cell_type": "markdown",
   "id": "37ce08b3-e3aa-4e9c-9b73-f06ea96a2084",
   "metadata": {},
   "source": [
    "## Method 2: Differentiating the Quadratic Forms\n",
    "https://www.math.umd.edu/~immortal/MATH246/lecturenotes/ch3-7.pdf\n",
    "\n",
    "https://physics.stackexchange.com/questions/432664/is-every-autonomous-first-order-planar-2d-system-integrable\n",
    "\n",
    "https://math.stackexchange.com/questions/1577274/formal-proof-of-lyapunov-stability\n",
    "\n",
    "https://na.uni-tuebingen.de/~lubich/chap7.pdf"
   ]
  },
  {
   "cell_type": "code",
   "execution_count": 66,
   "id": "58d7d4ba-4c2d-4e49-8c16-6e9f7c0680bb",
   "metadata": {},
   "outputs": [
    {
     "data": {
      "text/latex": [
       "$\\displaystyle \\frac{d}{d z} u{\\left(z \\right)} = f{\\left(u{\\left(z \\right)},v{\\left(z \\right)} \\right)}$"
      ],
      "text/plain": [
       "Eq(Derivative(u(z), z), f(u(z), v(z)))"
      ]
     },
     "execution_count": 66,
     "metadata": {},
     "output_type": "execute_result"
    },
    {
     "data": {
      "text/latex": [
       "$\\displaystyle \\frac{d}{d z} v{\\left(z \\right)} = h{\\left(u{\\left(z \\right)},v{\\left(z \\right)} \\right)}$"
      ],
      "text/plain": [
       "Eq(Derivative(v(z), z), h(u(z), v(z)))"
      ]
     },
     "execution_count": 66,
     "metadata": {},
     "output_type": "execute_result"
    },
    {
     "data": {
      "text/latex": [
       "$\\displaystyle f{\\left(u{\\left(z \\right)},v{\\left(z \\right)} \\right)} = u^{2}{\\left(z \\right)} {a}_{1} + u{\\left(z \\right)} v{\\left(z \\right)} {a}_{3} + u{\\left(z \\right)} {a}_{4} + v^{2}{\\left(z \\right)} {a}_{2} + v{\\left(z \\right)} {a}_{5}$"
      ],
      "text/plain": [
       "Eq(f(u(z), v(z)), u(z)**2*a[1] + u(z)*v(z)*a[3] + u(z)*a[4] + v(z)**2*a[2] + v(z)*a[5])"
      ]
     },
     "execution_count": 66,
     "metadata": {},
     "output_type": "execute_result"
    },
    {
     "data": {
      "text/latex": [
       "$\\displaystyle h{\\left(u{\\left(z \\right)},v{\\left(z \\right)} \\right)} = u^{2}{\\left(z \\right)} {b}_{1} + u{\\left(z \\right)} v{\\left(z \\right)} {b}_{3} + u{\\left(z \\right)} {b}_{4} + v^{2}{\\left(z \\right)} {b}_{2} + v{\\left(z \\right)} {b}_{5}$"
      ],
      "text/plain": [
       "Eq(h(u(z), v(z)), u(z)**2*b[1] + u(z)*v(z)*b[3] + u(z)*b[4] + v(z)**2*b[2] + v(z)*b[5])"
      ]
     },
     "execution_count": 66,
     "metadata": {},
     "output_type": "execute_result"
    }
   ],
   "source": [
    "df_uv_eq = Eq(diff(u(z),z), f(u(z),v(z)))\n",
    "dh_uv_eq = Eq(diff(v(z),z), h(u(z),v(z)))\n",
    "fuv = Eq(f(u(z),v(z)), a[1]*u(z)**2 + a[2]*v(z)**2 + a[3]*u(z)*v(z) + a[4]*u(z) + a[5]*v(z))\n",
    "huv = Eq(h(u(z),v(z)), b[1]*u(z)**2 + b[2]*v(z)**2 + b[3]*u(z)*v(z) + b[4]*u(z) + b[5]*v(z))\n",
    "# fuv = Eq(f(u(z),v(z)), a[3]*u(z)*v(z) + a[4]*u(z))\n",
    "# huv = Eq(h(u(z),v(z)), b[3]*u(z)*v(z) + b[5]*v(z))\n",
    "df_uv_eq\n",
    "dh_uv_eq\n",
    "fuv\n",
    "huv"
   ]
  },
  {
   "cell_type": "code",
   "execution_count": 67,
   "id": "c5c511c0-61b0-43ad-9551-338cf7ac1d25",
   "metadata": {},
   "outputs": [
    {
     "data": {
      "text/latex": [
       "$\\displaystyle \\frac{d}{d u{\\left(z \\right)}} f{\\left(u{\\left(z \\right)},v{\\left(z \\right)} \\right)} + \\frac{d}{d v{\\left(z \\right)}} h{\\left(u{\\left(z \\right)},v{\\left(z \\right)} \\right)} = \\left(2 {a}_{1} + {b}_{3}\\right) u{\\left(z \\right)} + \\left({a}_{3} + 2 {b}_{2}\\right) v{\\left(z \\right)} + {a}_{4} + {b}_{5}$"
      ],
      "text/plain": [
       "Eq(Derivative(f(u(z), v(z)), u(z)) + Derivative(h(u(z), v(z)), v(z)), (2*a[1] + b[3])*u(z) + (a[3] + 2*b[2])*v(z) + a[4] + b[5])"
      ]
     },
     "execution_count": 67,
     "metadata": {},
     "output_type": "execute_result"
    }
   ],
   "source": [
    "dfhuv = Eq(diff(f(u(z),v(z)),u(z)) + diff(h(u(z),v(z)),v(z)), \n",
    "           (diff(f(u(z),v(z)),u(z)) + diff(h(u(z),v(z)),v(z))).subs([fuv.args, huv.args]).doit().collect([u(z),v(z)]))\n",
    "dfhuv"
   ]
  },
  {
   "cell_type": "code",
   "execution_count": 68,
   "id": "cbd992f1-e0f4-46d6-bd63-103a46a9bd33",
   "metadata": {},
   "outputs": [
    {
     "data": {
      "text/latex": [
       "$\\displaystyle {b}_{2} = - \\frac{{a}_{3}}{2}$"
      ],
      "text/plain": [
       "Eq(b[2], -a[3]/2)"
      ]
     },
     "execution_count": 68,
     "metadata": {},
     "output_type": "execute_result"
    },
    {
     "data": {
      "text/latex": [
       "$\\displaystyle {b}_{3} = - 2 {a}_{1}$"
      ],
      "text/plain": [
       "Eq(b[3], -2*a[1])"
      ]
     },
     "execution_count": 68,
     "metadata": {},
     "output_type": "execute_result"
    },
    {
     "data": {
      "text/latex": [
       "$\\displaystyle {b}_{5} = - {a}_{4}$"
      ],
      "text/plain": [
       "Eq(b[5], -a[4])"
      ]
     },
     "execution_count": 68,
     "metadata": {},
     "output_type": "execute_result"
    }
   ],
   "source": [
    "b2sol = Eq(b[2], solve(dfhuv.rhs.coeff(v(z)),b[2])[0])\n",
    "b3sol = Eq(b[3], solve(dfhuv.rhs.coeff(u(z)),b[3])[0])\n",
    "b5sol = Eq(b[5], solve(dfhuv.rhs.subs([(u(z),0),(v(z),0)]),b[5])[0])\n",
    "b2sol\n",
    "b3sol\n",
    "b5sol"
   ]
  },
  {
   "cell_type": "code",
   "execution_count": 73,
   "id": "f32c5b27-f675-428f-a95a-35a941c24427",
   "metadata": {},
   "outputs": [
    {
     "data": {
      "text/latex": [
       "$\\displaystyle \\frac{d}{d z} u{\\left(z \\right)} = - 2 c_{1} u{\\left(z \\right)} v{\\left(z \\right)} - c_{2} u^{2}{\\left(z \\right)} - 3 c_{4} v^{2}{\\left(z \\right)} - 2 c_{6} v{\\left(z \\right)} - c_{7} u{\\left(z \\right)}$"
      ],
      "text/plain": [
       "Eq(Derivative(u(z), z), -2*c1*u(z)*v(z) - c2*u(z)**2 - 3*c4*v(z)**2 - 2*c6*v(z) - c7*u(z))"
      ]
     },
     "execution_count": 73,
     "metadata": {},
     "output_type": "execute_result"
    },
    {
     "data": {
      "text/latex": [
       "$\\displaystyle \\frac{d}{d z} v{\\left(z \\right)} = c_{1} v^{2}{\\left(z \\right)} + 2 c_{2} u{\\left(z \\right)} v{\\left(z \\right)} + 3 c_{3} u^{2}{\\left(z \\right)} + 2 c_{5} u{\\left(z \\right)} + c_{7} v{\\left(z \\right)}$"
      ],
      "text/plain": [
       "Eq(Derivative(v(z), z), c1*v(z)**2 + 2*c2*u(z)*v(z) + 3*c3*u(z)**2 + 2*c5*u(z) + c7*v(z))"
      ]
     },
     "execution_count": 73,
     "metadata": {},
     "output_type": "execute_result"
    }
   ],
   "source": [
    "abc_subs = [(a[1], -c2), (a[2], -3*c4), (a[3], -2*c1), (a[4], -c7), (a[5], -2*c6), (b[1], 3*c3), (b[4], 2*c5)]\n",
    "df_uv_eq.subs(*fuv.args).subs(abc_subs)\n",
    "dh_uv_eq.subs(*huv.args).subs([b2sol.args, b3sol.args, b5sol.args]).subs(abc_subs)"
   ]
  },
  {
   "cell_type": "code",
   "execution_count": 72,
   "id": "033f585f-3d32-4527-b6d7-c8be104510ef",
   "metadata": {},
   "outputs": [
    {
     "data": {
      "text/latex": [
       "$\\displaystyle \\frac{d}{d z} u{\\left(z \\right)} = - 2 c_{1} u{\\left(z \\right)} v{\\left(z \\right)} - c_{2} u^{2}{\\left(z \\right)} - 3 c_{4} v^{2}{\\left(z \\right)} - 2 c_{6} v{\\left(z \\right)} - c_{7} u{\\left(z \\right)}$"
      ],
      "text/plain": [
       "Eq(Derivative(u(z), z), -2*c1*u(z)*v(z) - c2*u(z)**2 - 3*c4*v(z)**2 - 2*c6*v(z) - c7*u(z))"
      ]
     },
     "execution_count": 72,
     "metadata": {},
     "output_type": "execute_result"
    },
    {
     "data": {
      "text/latex": [
       "$\\displaystyle \\frac{d}{d z} v{\\left(z \\right)} = c_{1} v^{2}{\\left(z \\right)} + 2 c_{2} u{\\left(z \\right)} v{\\left(z \\right)} + 3 c_{3} u^{2}{\\left(z \\right)} + 2 c_{5} u{\\left(z \\right)} + c_{7} v{\\left(z \\right)}$"
      ],
      "text/plain": [
       "Eq(Derivative(v(z), z), c1*v(z)**2 + 2*c2*u(z)*v(z) + 3*c3*u(z)**2 + 2*c5*u(z) + c7*v(z))"
      ]
     },
     "execution_count": 72,
     "metadata": {},
     "output_type": "execute_result"
    }
   ],
   "source": [
    "du_eq\n",
    "dv_eq"
   ]
  },
  {
   "cell_type": "markdown",
   "id": "d8ceaf21-1a2d-41c6-8177-eded153a1aa8",
   "metadata": {},
   "source": [
    "## Solving in Terms of Elliptic Functions\n",
    "Let us look for an elliptic function differential equation."
   ]
  },
  {
   "cell_type": "code",
   "execution_count": 20,
   "id": "ac526043-b142-46bf-9c99-b24deaa8f93b",
   "metadata": {},
   "outputs": [
    {
     "data": {
      "text/latex": [
       "$\\displaystyle \\frac{d}{d z} u{\\left(z \\right)} v{\\left(z \\right)} = - c_{1} u{\\left(z \\right)} v^{2}{\\left(z \\right)} + c_{2} u^{2}{\\left(z \\right)} v{\\left(z \\right)} + 3 c_{3} u^{3}{\\left(z \\right)} - 3 c_{4} v^{3}{\\left(z \\right)} + 2 c_{5} u^{2}{\\left(z \\right)} - 2 c_{6} v^{2}{\\left(z \\right)}$"
      ],
      "text/plain": [
       "Eq(Derivative(u(z)*v(z), z), -c1*u(z)*v(z)**2 + c2*u(z)**2*v(z) + 3*c3*u(z)**3 - 3*c4*v(z)**3 + 2*c5*u(z)**2 - 2*c6*v(z)**2)"
      ]
     },
     "execution_count": 20,
     "metadata": {},
     "output_type": "execute_result"
    }
   ],
   "source": [
    "duv = Eq(Derivative(u(z)*v(z),z), diff(u(z)*v(z),z).subs([du_eq.args, dv_eq.args])).expand()\n",
    "duv"
   ]
  },
  {
   "cell_type": "code",
   "execution_count": 22,
   "id": "b57a4187-e637-4d83-bd50-1c0d99f5ed02",
   "metadata": {},
   "outputs": [
    {
     "data": {
      "text/latex": [
       "$\\displaystyle \\left(\\frac{d}{d z} u{\\left(z \\right)} v{\\left(z \\right)}\\right)^{2} = c_{1}^{2} u^{2}{\\left(z \\right)} v^{4}{\\left(z \\right)} - 2 c_{1} c_{2} u^{3}{\\left(z \\right)} v^{3}{\\left(z \\right)} - 6 c_{1} c_{3} u^{4}{\\left(z \\right)} v^{2}{\\left(z \\right)} + 6 c_{1} c_{4} u{\\left(z \\right)} v^{5}{\\left(z \\right)} - 4 c_{1} c_{5} u^{3}{\\left(z \\right)} v^{2}{\\left(z \\right)} + 4 c_{1} c_{6} u{\\left(z \\right)} v^{4}{\\left(z \\right)} + c_{2}^{2} u^{4}{\\left(z \\right)} v^{2}{\\left(z \\right)} + 6 c_{2} c_{3} u^{5}{\\left(z \\right)} v{\\left(z \\right)} - 6 c_{2} c_{4} u^{2}{\\left(z \\right)} v^{4}{\\left(z \\right)} + 4 c_{2} c_{5} u^{4}{\\left(z \\right)} v{\\left(z \\right)} - 4 c_{2} c_{6} u^{2}{\\left(z \\right)} v^{3}{\\left(z \\right)} + 9 c_{3}^{2} u^{6}{\\left(z \\right)} - 18 c_{3} c_{4} u^{3}{\\left(z \\right)} v^{3}{\\left(z \\right)} + 12 c_{3} c_{5} u^{5}{\\left(z \\right)} - 12 c_{3} c_{6} u^{3}{\\left(z \\right)} v^{2}{\\left(z \\right)} + 9 c_{4}^{2} v^{6}{\\left(z \\right)} - 12 c_{4} c_{5} u^{2}{\\left(z \\right)} v^{3}{\\left(z \\right)} + 12 c_{4} c_{6} v^{5}{\\left(z \\right)} + 4 c_{5}^{2} u^{4}{\\left(z \\right)} - 8 c_{5} c_{6} u^{2}{\\left(z \\right)} v^{2}{\\left(z \\right)} + 4 c_{6}^{2} v^{4}{\\left(z \\right)}$"
      ],
      "text/plain": [
       "Eq(Derivative(u(z)*v(z), z)**2, c1**2*u(z)**2*v(z)**4 - 2*c1*c2*u(z)**3*v(z)**3 - 6*c1*c3*u(z)**4*v(z)**2 + 6*c1*c4*u(z)*v(z)**5 - 4*c1*c5*u(z)**3*v(z)**2 + 4*c1*c6*u(z)*v(z)**4 + c2**2*u(z)**4*v(z)**2 + 6*c2*c3*u(z)**5*v(z) - 6*c2*c4*u(z)**2*v(z)**4 + 4*c2*c5*u(z)**4*v(z) - 4*c2*c6*u(z)**2*v(z)**3 + 9*c3**2*u(z)**6 - 18*c3*c4*u(z)**3*v(z)**3 + 12*c3*c5*u(z)**5 - 12*c3*c6*u(z)**3*v(z)**2 + 9*c4**2*v(z)**6 - 12*c4*c5*u(z)**2*v(z)**3 + 12*c4*c6*v(z)**5 + 4*c5**2*u(z)**4 - 8*c5*c6*u(z)**2*v(z)**2 + 4*c6**2*v(z)**4)"
      ]
     },
     "execution_count": 22,
     "metadata": {},
     "output_type": "execute_result"
    }
   ],
   "source": [
    "Eq(duv.lhs**2,(duv.rhs**2).expand())"
   ]
  },
  {
   "cell_type": "code",
   "execution_count": 23,
   "id": "98cc82e3-54bc-4f0a-bce4-17822435f411",
   "metadata": {},
   "outputs": [
    {
     "data": {
      "text/latex": [
       "$\\displaystyle H{\\left(u{\\left(z \\right)},v{\\left(z \\right)} \\right)} = c_{1} u{\\left(z \\right)} v^{2}{\\left(z \\right)} + c_{2} u^{2}{\\left(z \\right)} v{\\left(z \\right)} + c_{3} u^{3}{\\left(z \\right)} + c_{4} v^{3}{\\left(z \\right)} + c_{5} u^{2}{\\left(z \\right)} + c_{6} v^{2}{\\left(z \\right)} + c_{7} u{\\left(z \\right)} v{\\left(z \\right)}$"
      ],
      "text/plain": [
       "Eq(H(u(z), v(z)), c1*u(z)*v(z)**2 + c2*u(z)**2*v(z) + c3*u(z)**3 + c4*v(z)**3 + c5*u(z)**2 + c6*v(z)**2 + c7*u(z)*v(z))"
      ]
     },
     "execution_count": 23,
     "metadata": {},
     "output_type": "execute_result"
    }
   ],
   "source": [
    "Huv_eq"
   ]
  },
  {
   "cell_type": "code",
   "execution_count": 27,
   "id": "c3fb054d-b586-4cf5-bcf1-520ba1f442f6",
   "metadata": {},
   "outputs": [],
   "source": [
    "(Am, Bm, Cm, Ap, Bp, Cp, As, Bs, Cs) = symbols('Am, Bm, Cm, Ap, Bp, Cp, As, Bs, Cs')"
   ]
  },
  {
   "cell_type": "code",
   "execution_count": 26,
   "id": "4a61a14d-622e-4bf3-beeb-18e3895c46a5",
   "metadata": {},
   "outputs": [
    {
     "data": {
      "text/latex": [
       "$\\displaystyle Am^{2} + 2 Am Bm + 2 Am Cm + Bm^{2} + 2 Bm Cm + Cm^{2}$"
      ],
      "text/plain": [
       "Am**2 + 2*Am*Bm + 2*Am*Cm + Bm**2 + 2*Bm*Cm + Cm**2"
      ]
     },
     "execution_count": 26,
     "metadata": {},
     "output_type": "execute_result"
    }
   ],
   "source": [
    "((Am + Bm + Cm)**2).expand()"
   ]
  },
  {
   "cell_type": "code",
   "execution_count": 28,
   "id": "9f844e5c-cdf6-44c6-b09c-4d20a86380e9",
   "metadata": {},
   "outputs": [
    {
     "data": {
      "text/latex": [
       "$\\displaystyle Am^{2} - Ap^{2} = As^{2}$"
      ],
      "text/plain": [
       "Eq(Am**2 - Ap**2, As**2)"
      ]
     },
     "execution_count": 28,
     "metadata": {},
     "output_type": "execute_result"
    }
   ],
   "source": [
    "Eq(Am**2 - Ap**2, As**2)"
   ]
  },
  {
   "cell_type": "code",
   "execution_count": null,
   "id": "e40db869-62ea-4ee6-a16d-95e9a50deeaf",
   "metadata": {},
   "outputs": [],
   "source": []
  }
 ],
 "metadata": {
  "kernelspec": {
   "display_name": "Python 3 (ipykernel)",
   "language": "python",
   "name": "python3"
  },
  "language_info": {
   "codemirror_mode": {
    "name": "ipython",
    "version": 3
   },
   "file_extension": ".py",
   "mimetype": "text/x-python",
   "name": "python",
   "nbconvert_exporter": "python",
   "pygments_lexer": "ipython3",
   "version": "3.10.13"
  }
 },
 "nbformat": 4,
 "nbformat_minor": 5
}
