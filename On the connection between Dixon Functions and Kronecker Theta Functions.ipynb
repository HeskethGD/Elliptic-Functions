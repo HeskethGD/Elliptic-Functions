{
 "cells": [
  {
   "cell_type": "markdown",
   "id": "a7b44f85-e617-4d3d-a3dc-72613a7aa4fd",
   "metadata": {},
   "source": [
    "# On the connection between Dixon Functions and Kronecker Theta Functions\n",
    "\n",
    "This notebook derives the solutions to a set of coupled mode equations in terms of Dixon functions (expresed in terms of Weierstrass elliptic functions) and Kronecker Theta functions and thus relates them. It also shows how Dixon functions can be expressed with more than one set of elliptic invariants.\n",
    "\n",
    "Dixon functions:\n",
    "\n",
    "https://arxiv.org/pdf/math/0507268.pdf\n",
    "\n",
    "https://gdz.sub.uni-goettingen.de/id/PPN600494829_0024?tify={%22pages%22:%5b179%5d}\n",
    "\n",
    "https://www.mathisfunforum.com/viewtopic.php?pid=436735\n",
    "\n",
    "https://core.ac.uk/download/pdf/48627189.pdf\n",
    "\n",
    "https://arxiv.org/pdf/1608.05677.pdf\n",
    "\n",
    "https://arxiv.org/pdf/1901.04296.pdf"
   ]
  },
  {
   "cell_type": "code",
   "execution_count": 1,
   "id": "366567ea-e84b-4d05-9868-6a72a5933627",
   "metadata": {},
   "outputs": [],
   "source": [
    "from sympy import *\n",
    "(\n",
    "    x, y, z, z0, delta0, g2, g3, h2, h3, X, Y, Z, omega1, omega2, omega3, eta1, eta2, eta3\n",
    ") = symbols('''\n",
    "    x, y, z, z0, delta0, g2, g3, h2, h3, X, Y, Z, omega1, omega2, omega3, eta1, eta2, eta3\n",
    "''')\n",
    "(\n",
    "    a1, a2, a3, a4, b1, b2, b3, b4, j, k, l, m, n\n",
    ") = symbols('''\n",
    "    a1, a2, a3, a4, b1, b2, b3, b4, j, k, l, m, n\n",
    "''')\n",
    "(\n",
    "    alpha, beta, delta, mu, nu, epsilon, theta, omega, kappa\n",
    ") = symbols('''\n",
    "    alpha, beta, delta, mu, nu, epsilon, theta, omega, kappa\n",
    "''')\n",
    "pw = Function('pw') # Weierstrass P function\n",
    "pwp = Function('pwp') # Derivative of Weierstrass P function\n",
    "zw = Function('zw') # Weierstrass Zeta function\n",
    "sigma = Function('sigma') # Weierstrass Sigma function\n",
    "rho = Function('rho')\n",
    "f = Function('f')\n",
    "u = Function('u')\n",
    "v = Function('v')\n",
    "w = Function('w')\n",
    "q = Function('q')\n",
    "r = Function('r')\n",
    "sm = Function('sm')\n",
    "cm = Function('cm')\n",
    "P = Function('P') # Polynomial\n",
    "Q = Function('Q') # Polynomial\n",
    "R = Function('R') # Polynomial\n",
    "phi = Function('phi')\n",
    "Phi = Function('Phi')\n",
    "phi1 = Function('phi1')\n",
    "phi2 = Function('phi2')\n",
    "phi3 = Function('phi3')\n",
    "\n",
    "j_g = Symbol('j_g')\n",
    "j_h = Symbol('j_h')\n",
    "\n",
    "Det = Function(\"Det\")\n",
    "\n",
    "mu = IndexedBase('mu')\n",
    "xi = IndexedBase('xi')\n",
    "a = IndexedBase('a')\n",
    "b = IndexedBase('b')\n",
    "c = IndexedBase('c')\n",
    "d = IndexedBase('d')\n",
    "\n",
    "from IPython.core.interactiveshell import InteractiveShell\n",
    "InteractiveShell.ast_node_interactivity = 'all'\n",
    "p = IndexedBase('p')\n",
    "G = IndexedBase('G')\n",
    "psi = IndexedBase('psi')\n",
    "upsilon = IndexedBase('upsilon')\n",
    "WPdet = Function('WPdet')\n",
    "\n",
    "Omega = IndexedBase('Omega')\n",
    "T = Function('T')\n",
    "V = Function('V')\n",
    "Dz = Function('Dz') # Derivate w.r.t z\n",
    "L = Function('L')\n",
    "U = Function(\"U\")\n",
    "W = Function(\"W\")\n",
    "W2 = Function(\"W2\")\n",
    "from math import prod\n",
    "\n",
    "from IPython.core.interactiveshell import InteractiveShell\n",
    "InteractiveShell.ast_node_interactivity = 'all'"
   ]
  },
  {
   "cell_type": "code",
   "execution_count": 2,
   "id": "f72f49a0-6d66-44df-9410-2fe63a87b3d3",
   "metadata": {},
   "outputs": [],
   "source": [
    "from numpy import linspace, absolute, angle, square, real, imag, conj, array as arraynp, concatenate\n",
    "from numpy import vectorize as np_vectorize # not to get confused with vectorise in other packages\n",
    "import scipy.integrate\n",
    "import matplotlib.pyplot as plt\n",
    "\n",
    "# The package containing mpmath expressions for Weierstrass elliptic functions\n",
    "from numerical_evaluation.weierstrass_modified import Weierstrass\n",
    "we = Weierstrass()\n",
    "from mpmath import exp as mpexp"
   ]
  },
  {
   "cell_type": "markdown",
   "id": "4bab4a48-b2dc-4802-92f5-aa8603cdbc9b",
   "metadata": {},
   "source": [
    "## Background Elliptic Function Theory"
   ]
  },
  {
   "cell_type": "code",
   "execution_count": 3,
   "id": "a4582c20-609d-41f3-9bd9-67b4597adcde",
   "metadata": {},
   "outputs": [
    {
     "data": {
      "text/latex": [
       "$\\displaystyle \\frac{\\operatorname{pwp}{\\left(x,g_{2},g_{3} \\right)} - \\operatorname{pwp}{\\left(y,g_{2},g_{3} \\right)}}{2 \\left(\\operatorname{pw}{\\left(x,g_{2},g_{3} \\right)} - \\operatorname{pw}{\\left(y,g_{2},g_{3} \\right)}\\right)} = - \\operatorname{zw}{\\left(x,g_{2},g_{3} \\right)} - \\operatorname{zw}{\\left(y,g_{2},g_{3} \\right)} + \\operatorname{zw}{\\left(x + y,g_{2},g_{3} \\right)}$"
      ],
      "text/plain": [
       "Eq((pwp(x, g2, g3) - pwp(y, g2, g3))/(2*(pw(x, g2, g3) - pw(y, g2, g3))), -zw(x, g2, g3) - zw(y, g2, g3) + zw(x + y, g2, g3))"
      ]
     },
     "execution_count": 3,
     "metadata": {},
     "output_type": "execute_result"
    },
    {
     "data": {
      "text/latex": [
       "$\\displaystyle - \\operatorname{pw}{\\left(x,g_{2},g_{3} \\right)} + \\operatorname{pw}{\\left(y,g_{2},g_{3} \\right)} = \\frac{\\sigma{\\left(x - y,g_{2},g_{3} \\right)} \\sigma{\\left(x + y,g_{2},g_{3} \\right)}}{\\sigma^{2}{\\left(x,g_{2},g_{3} \\right)} \\sigma^{2}{\\left(y,g_{2},g_{3} \\right)}}$"
      ],
      "text/plain": [
       "Eq(-pw(x, g2, g3) + pw(y, g2, g3), sigma(x - y, g2, g3)*sigma(x + y, g2, g3)/(sigma(x, g2, g3)**2*sigma(y, g2, g3)**2))"
      ]
     },
     "execution_count": 3,
     "metadata": {},
     "output_type": "execute_result"
    },
    {
     "data": {
      "text/latex": [
       "$\\displaystyle \\operatorname{pwp}^{2}{\\left(z,g_{2},g_{3} \\right)} = - g_{2} \\operatorname{pw}{\\left(z,g_{2},g_{3} \\right)} - g_{3} + 4 \\operatorname{pw}^{3}{\\left(z,g_{2},g_{3} \\right)}$"
      ],
      "text/plain": [
       "Eq(pwp(z, g2, g3)**2, -g2*pw(z, g2, g3) - g3 + 4*pw(z, g2, g3)**3)"
      ]
     },
     "execution_count": 3,
     "metadata": {},
     "output_type": "execute_result"
    },
    {
     "data": {
      "text/latex": [
       "$\\displaystyle \\frac{\\partial}{\\partial z} \\operatorname{pwp}{\\left(z,g_{2},g_{3} \\right)} = - \\frac{g_{2}}{2} + 6 \\operatorname{pw}^{2}{\\left(z,g_{2},g_{3} \\right)}$"
      ],
      "text/plain": [
       "Eq(Derivative(pwp(z, g2, g3), z), -g2/2 + 6*pw(z, g2, g3)**2)"
      ]
     },
     "execution_count": 3,
     "metadata": {},
     "output_type": "execute_result"
    },
    {
     "data": {
      "text/latex": [
       "$\\displaystyle \\frac{\\partial}{\\partial z} \\operatorname{zw}{\\left(z,g_{2},g_{3} \\right)} = - \\operatorname{pw}{\\left(z,g_{2},g_{3} \\right)}$"
      ],
      "text/plain": [
       "Eq(Derivative(zw(z, g2, g3), z), -pw(z, g2, g3))"
      ]
     },
     "execution_count": 3,
     "metadata": {},
     "output_type": "execute_result"
    },
    {
     "data": {
      "text/latex": [
       "$\\displaystyle \\frac{\\partial^{2}}{\\partial z^{2}} \\operatorname{zw}{\\left(z,g_{2},g_{3} \\right)} = - \\operatorname{pwp}{\\left(z,g_{2},g_{3} \\right)}$"
      ],
      "text/plain": [
       "Eq(Derivative(zw(z, g2, g3), (z, 2)), -pwp(z, g2, g3))"
      ]
     },
     "execution_count": 3,
     "metadata": {},
     "output_type": "execute_result"
    },
    {
     "data": {
      "text/latex": [
       "$\\displaystyle \\frac{\\partial^{3}}{\\partial z^{3}} \\operatorname{zw}{\\left(z,g_{2},g_{3} \\right)} = - \\frac{\\partial}{\\partial z} \\operatorname{pwp}{\\left(z,g_{2},g_{3} \\right)}$"
      ],
      "text/plain": [
       "Eq(Derivative(zw(z, g2, g3), (z, 3)), -Derivative(pwp(z, g2, g3), z))"
      ]
     },
     "execution_count": 3,
     "metadata": {},
     "output_type": "execute_result"
    },
    {
     "data": {
      "text/latex": [
       "$\\displaystyle \\operatorname{zw}{\\left(2 z,g_{2},g_{3} \\right)} = 2 \\operatorname{zw}{\\left(z,g_{2},g_{3} \\right)} + \\frac{\\frac{\\partial^{3}}{\\partial z^{3}} \\operatorname{zw}{\\left(z,g_{2},g_{3} \\right)}}{2 \\frac{\\partial^{2}}{\\partial z^{2}} \\operatorname{zw}{\\left(z,g_{2},g_{3} \\right)}}$"
      ],
      "text/plain": [
       "Eq(zw(2*z, g2, g3), 2*zw(z, g2, g3) + Derivative(zw(z, g2, g3), (z, 3))/(2*Derivative(zw(z, g2, g3), (z, 2))))"
      ]
     },
     "execution_count": 3,
     "metadata": {},
     "output_type": "execute_result"
    },
    {
     "data": {
      "text/latex": [
       "$\\displaystyle \\operatorname{zw}{\\left(2 z,g_{2},g_{3} \\right)} = \\frac{- \\frac{g_{2}}{2} + 6 \\operatorname{pw}^{2}{\\left(z,g_{2},g_{3} \\right)}}{2 \\operatorname{pwp}{\\left(z,g_{2},g_{3} \\right)}} + 2 \\operatorname{zw}{\\left(z,g_{2},g_{3} \\right)}$"
      ],
      "text/plain": [
       "Eq(zw(2*z, g2, g3), (-g2/2 + 6*pw(z, g2, g3)**2)/(2*pwp(z, g2, g3)) + 2*zw(z, g2, g3))"
      ]
     },
     "execution_count": 3,
     "metadata": {},
     "output_type": "execute_result"
    },
    {
     "data": {
      "text/latex": [
       "$\\displaystyle \\frac{\\sigma{\\left(3 z,g_{2},g_{3} \\right)}}{\\sigma^{9}{\\left(z,g_{2},g_{3} \\right)}} = 3 \\operatorname{pw}{\\left(z,g_{2},g_{3} \\right)} \\operatorname{pwp}^{2}{\\left(z,g_{2},g_{3} \\right)} - \\frac{\\left(\\frac{\\partial}{\\partial z} \\operatorname{pwp}{\\left(z,g_{2},g_{3} \\right)}\\right)^{2}}{4}$"
      ],
      "text/plain": [
       "Eq(sigma(3*z, g2, g3)/sigma(z, g2, g3)**9, 3*pw(z, g2, g3)*pwp(z, g2, g3)**2 - Derivative(pwp(z, g2, g3), z)**2/4)"
      ]
     },
     "execution_count": 3,
     "metadata": {},
     "output_type": "execute_result"
    },
    {
     "data": {
      "text/latex": [
       "$\\displaystyle \\frac{\\sigma{\\left(3 z,g_{2},g_{3} \\right)}}{\\sigma^{9}{\\left(z,g_{2},g_{3} \\right)}} = - \\frac{\\left(- \\frac{g_{2}}{2} + 6 \\operatorname{pw}^{2}{\\left(z,g_{2},g_{3} \\right)}\\right)^{2}}{4} + 3 \\operatorname{pw}{\\left(z,g_{2},g_{3} \\right)} \\operatorname{pwp}^{2}{\\left(z,g_{2},g_{3} \\right)}$"
      ],
      "text/plain": [
       "Eq(sigma(3*z, g2, g3)/sigma(z, g2, g3)**9, -(-g2/2 + 6*pw(z, g2, g3)**2)**2/4 + 3*pw(z, g2, g3)*pwp(z, g2, g3)**2)"
      ]
     },
     "execution_count": 3,
     "metadata": {},
     "output_type": "execute_result"
    }
   ],
   "source": [
    "pw_to_zw_identity = Eq(\n",
    "    (pwp(x,g2,g3) - pwp(y,g2,g3))/(pw(x,g2,g3) - pw(y,g2,g3))/2,\n",
    "    zw(x + y,g2, g3) - zw(x,g2, g3) - zw(y,g2, g3)\n",
    ")\n",
    "sigma_p_identity = Eq(\n",
    "    pw(y, g2, g3) - pw(x, g2, g3),\n",
    "    sigma(x + y, g2, g3) * sigma(x - y, g2, g3) / (sigma(x, g2, g3) ** 2 * sigma(y, g2, g3) ** 2) \n",
    ")\n",
    "# 23.10.9 https://dlmf.nist.gov/23.10#E9\n",
    "zw2z_2zwz = Eq(zw(2*z,g2,g3), 2*zw(z,g2,g3) + diff(zw(z,g2,g3),z,3)/diff(zw(z,g2,g3),z,2)/2)\n",
    "dzw_1 = Eq(diff(zw(z,g2,g3),z), -pw(z,g2,g3))\n",
    "dzw_2 = Eq(diff(zw(z,g2,g3),z,2), -pwp(z,g2,g3))\n",
    "dzw_3 = Eq(diff(zw(z,g2,g3),z,3), -diff(pwp(z,g2,g3),z))\n",
    "pwp_def = Eq(pwp(z,g2,g3)**2, 4*pw(z,g2,g3)**3 - g2*pw(z,g2,g3) - g3)\n",
    "pwp2_def = Eq(diff(pwp_def.lhs,z)/pwp(z,g2,g3)/2, diff(pwp_def.rhs,z).subs(diff(pw(z,g2,g3),z),pwp(z,g2,g3))/pwp(z,g2,g3)/2).expand()\n",
    "zw2z_2zwz_pw_pwp = zw2z_2zwz.subs([dzw_3.args, dzw_2.args]).subs(*pwp2_def.args)\n",
    "\n",
    "# Whittaker and Watson 5th edition excercise 20.24 p482\n",
    "sigma_3z = Eq(sigma(3*z,g2,g3)/sigma(z,g2,g3)**9, 3*pw(z,g2,g3)*pwp(z,g2,g3)**2 - diff(pwp(z,g2,g3),z)**2/4)\n",
    "sigma_3zb = sigma_3z.subs(*pwp2_def.args)\n",
    "\n",
    "pw_to_zw_identity\n",
    "sigma_p_identity\n",
    "pwp_def\n",
    "pwp2_def\n",
    "dzw_1\n",
    "dzw_2\n",
    "dzw_3\n",
    "zw2z_2zwz\n",
    "zw2z_2zwz_pw_pwp\n",
    "sigma_3z\n",
    "sigma_3zb"
   ]
  },
  {
   "cell_type": "code",
   "execution_count": 4,
   "id": "d151cc86-f370-43ba-b310-1cfefd56331e",
   "metadata": {},
   "outputs": [
    {
     "data": {
      "text/latex": [
       "$\\displaystyle \\operatorname{zw}{\\left(2 m \\omega_{3} + 2 n \\omega_{1} + z,g_{2},g_{3} \\right)} = 2 \\eta_{1} n + 2 \\eta_{3} m + \\operatorname{zw}{\\left(z,g_{2},g_{3} \\right)}$"
      ],
      "text/plain": [
       "Eq(zw(2*m*omega3 + 2*n*omega1 + z, g2, g3), 2*eta1*n + 2*eta3*m + zw(z, g2, g3))"
      ]
     },
     "execution_count": 4,
     "metadata": {},
     "output_type": "execute_result"
    },
    {
     "data": {
      "text/latex": [
       "$\\displaystyle \\sigma{\\left(2 n \\omega_{1} + z,g_{2},g_{3} \\right)} = \\left(-1\\right)^{n} \\sigma{\\left(z,g_{2},g_{3} \\right)} e^{2 \\eta_{1} n \\left(n \\omega_{1} + z\\right)}$"
      ],
      "text/plain": [
       "Eq(sigma(2*n*omega1 + z, g2, g3), (-1)**n*sigma(z, g2, g3)*exp(2*eta1*n*(n*omega1 + z)))"
      ]
     },
     "execution_count": 4,
     "metadata": {},
     "output_type": "execute_result"
    },
    {
     "data": {
      "text/latex": [
       "$\\displaystyle \\sigma{\\left(2 n \\omega_{2} + z,g_{2},g_{3} \\right)} = \\left(-1\\right)^{n} \\sigma{\\left(z,g_{2},g_{3} \\right)} e^{2 \\eta_{2} n \\left(n \\omega_{2} + z\\right)}$"
      ],
      "text/plain": [
       "Eq(sigma(2*n*omega2 + z, g2, g3), (-1)**n*sigma(z, g2, g3)*exp(2*eta2*n*(n*omega2 + z)))"
      ]
     },
     "execution_count": 4,
     "metadata": {},
     "output_type": "execute_result"
    },
    {
     "data": {
      "text/latex": [
       "$\\displaystyle \\sigma{\\left(2 n \\omega_{3} + z,g_{2},g_{3} \\right)} = \\left(-1\\right)^{n} \\sigma{\\left(z,g_{2},g_{3} \\right)} e^{2 \\eta_{3} n \\left(n \\omega_{3} + z\\right)}$"
      ],
      "text/plain": [
       "Eq(sigma(2*n*omega3 + z, g2, g3), (-1)**n*sigma(z, g2, g3)*exp(2*eta3*n*(n*omega3 + z)))"
      ]
     },
     "execution_count": 4,
     "metadata": {},
     "output_type": "execute_result"
    },
    {
     "data": {
      "text/latex": [
       "$\\displaystyle \\sigma{\\left(2 m \\omega_{3} + 2 n \\omega_{1} + z,g_{2},g_{3} \\right)} = \\left(-1\\right)^{m} \\left(-1\\right)^{n} \\sigma{\\left(z,g_{2},g_{3} \\right)} e^{2 \\eta_{1} n z} e^{2 \\eta_{1} n^{2} \\omega_{1}} e^{2 \\eta_{3} m z} e^{2 \\eta_{3} m^{2} \\omega_{3}} e^{4 \\eta_{1} m n \\omega_{3}}$"
      ],
      "text/plain": [
       "Eq(sigma(2*m*omega3 + 2*n*omega1 + z, g2, g3), (-1)**m*(-1)**n*sigma(z, g2, g3)*exp(2*eta1*n*z)*exp(2*eta1*n**2*omega1)*exp(2*eta3*m*z)*exp(2*eta3*m**2*omega3)*exp(4*eta1*m*n*omega3))"
      ]
     },
     "execution_count": 4,
     "metadata": {},
     "output_type": "execute_result"
    },
    {
     "data": {
      "text/latex": [
       "$\\displaystyle \\sigma{\\left(2 m \\omega_{3} + 2 n \\omega_{1} + z,g_{2},g_{3} \\right)} = \\left(-1\\right)^{m} \\left(-1\\right)^{n} \\sigma{\\left(z,g_{2},g_{3} \\right)} e^{2 \\eta_{1} n z} e^{2 \\eta_{1} n^{2} \\omega_{1}} e^{2 \\eta_{3} m z} e^{2 \\eta_{3} m^{2} \\omega_{3}} e^{4 \\eta_{3} m n \\omega_{1}}$"
      ],
      "text/plain": [
       "Eq(sigma(2*m*omega3 + 2*n*omega1 + z, g2, g3), (-1)**m*(-1)**n*sigma(z, g2, g3)*exp(2*eta1*n*z)*exp(2*eta1*n**2*omega1)*exp(2*eta3*m*z)*exp(2*eta3*m**2*omega3)*exp(4*eta3*m*n*omega1))"
      ]
     },
     "execution_count": 4,
     "metadata": {},
     "output_type": "execute_result"
    },
    {
     "data": {
      "text/latex": [
       "$\\displaystyle e^{4 m n \\left(\\eta_{1} \\omega_{3} - \\eta_{3} \\omega_{1}\\right)} = 1$"
      ],
      "text/plain": [
       "Eq(exp(4*m*n*(eta1*omega3 - eta3*omega1)), 1)"
      ]
     },
     "execution_count": 4,
     "metadata": {},
     "output_type": "execute_result"
    },
    {
     "data": {
      "text/latex": [
       "$\\displaystyle \\eta_{1} \\omega_{3} - \\eta_{3} \\omega_{1} = \\frac{i \\pi}{2}$"
      ],
      "text/plain": [
       "Eq(eta1*omega3 - eta3*omega1, I*pi/2)"
      ]
     },
     "execution_count": 4,
     "metadata": {},
     "output_type": "execute_result"
    },
    {
     "data": {
      "text/latex": [
       "$\\displaystyle \\left(-1\\right)^{m n} e^{2 m n \\left(\\eta_{1} \\omega_{3} - \\eta_{3} \\omega_{1}\\right)} = 1$"
      ],
      "text/plain": [
       "Eq((-1)**(m*n)*exp(2*m*n*(eta1*omega3 - eta3*omega1)), 1)"
      ]
     },
     "execution_count": 4,
     "metadata": {},
     "output_type": "execute_result"
    },
    {
     "data": {
      "text/latex": [
       "$\\displaystyle \\sigma{\\left(2 m \\omega_{3} + 2 n \\omega_{1} + z,g_{2},g_{3} \\right)} = \\left(-1\\right)^{m n + m + n} \\sigma{\\left(z,g_{2},g_{3} \\right)} e^{2 \\eta_{1} m n \\omega_{3} + 2 \\eta_{1} n^{2} \\omega_{1} + 2 \\eta_{1} n z + 2 \\eta_{3} m^{2} \\omega_{3} + 2 \\eta_{3} m n \\omega_{1} + 2 \\eta_{3} m z}$"
      ],
      "text/plain": [
       "Eq(sigma(2*m*omega3 + 2*n*omega1 + z, g2, g3), (-1)**(m*n + m + n)*sigma(z, g2, g3)*exp(2*eta1*m*n*omega3 + 2*eta1*n**2*omega1 + 2*eta1*n*z + 2*eta3*m**2*omega3 + 2*eta3*m*n*omega1 + 2*eta3*m*z))"
      ]
     },
     "execution_count": 4,
     "metadata": {},
     "output_type": "execute_result"
    }
   ],
   "source": [
    "zw_quasi_eq = Eq(zw(z + 2*omega1*n+ 2*omega3*m,g2,g3), zw(z,g2,g3) + 2*n*eta1 + 2*m*eta3)\n",
    "sigma_period_eq_1n = Eq(sigma(z + 2 * n * omega1, g2, g3), \n",
    "                       (-1) **n * sigma(z, g2, g3) * exp(2 * n * eta1 * (n * omega1 + z)))\n",
    "sigma_period_eq_2n = Eq(sigma(z + 2 * n * omega2, g2, g3), \n",
    "                        (-1) **n * sigma(z, g2, g3) * exp(2 * n * eta2 * (n * omega2 + z)))\n",
    "sigma_period_eq_3n = Eq(sigma(z + 2 * n * omega3, g2, g3), \n",
    "                        (-1) **n * sigma(z, g2, g3) * exp(2 * n * eta3 * (n * omega3 + z)))\n",
    "sigma_period_eq_n1_m3_a = (\n",
    "    sigma_period_eq_1n\n",
    "    .subs(z,z+2*m*omega3)\n",
    "    .subs(sigma_period_eq_3n.lhs.subs(n,m), sigma_period_eq_3n.rhs.subs(n,m))\n",
    "    .simplify()\n",
    ")\n",
    "sigma_period_eq_n1_m3_b = (\n",
    "    sigma_period_eq_3n\n",
    "    .subs(n,m)\n",
    "    .subs(z,z+2*n*omega1)\n",
    "    .subs(sigma_period_eq_1n.lhs, sigma_period_eq_1n.rhs)\n",
    "    .simplify()\n",
    ")\n",
    "eta1_eta3_omega_id = Eq(sigma_period_eq_n1_m3_a.lhs/sigma_period_eq_n1_m3_b.lhs,\n",
    "   sigma_period_eq_n1_m3_a.rhs/sigma_period_eq_n1_m3_b.rhs\n",
    "  ).simplify()\n",
    "eta_omega_ww = Eq(eta1*omega3-eta3*omega1,I*pi/2)\n",
    "symmetry_nm_eta_omega = Eq(exp(2*m*n*(eta1*omega3-eta3*omega1))*(\n",
    "    exp(2*m*n*(eta1*omega3-eta3*omega1)).subs(eta_omega_ww.lhs, eta_omega_ww.rhs).subs(exp(I*pi*n*m), (-1)**(n*m))),\n",
    "   (exp(2*m*n*(eta1*omega3-eta3*omega1))*exp(2*m*n*(eta1*omega3-eta3*omega1))\n",
    "   ).simplify().subs(eta1_eta3_omega_id.lhs, eta1_eta3_omega_id.rhs)\n",
    "  )\n",
    "sigma_period_eq_sym_nm = Eq(sigma_period_eq_n1_m3_b.lhs, \n",
    "                            sigma_period_eq_n1_m3_b.rhs*symmetry_nm_eta_omega.lhs).expand().simplify()\n",
    "\n",
    "zw_quasi_eq\n",
    "sigma_period_eq_1n\n",
    "sigma_period_eq_2n\n",
    "sigma_period_eq_3n\n",
    "sigma_period_eq_n1_m3_a.expand()\n",
    "sigma_period_eq_n1_m3_b.expand()\n",
    "eta1_eta3_omega_id\n",
    "eta_omega_ww\n",
    "symmetry_nm_eta_omega\n",
    "sigma_period_eq_sym_nm"
   ]
  },
  {
   "cell_type": "markdown",
   "id": "d0cbb1b7-8b8f-4a08-b04e-863e91b59aa4",
   "metadata": {},
   "source": [
    "## Dixon's original system is quadratic in the modes\n",
    "\n",
    "The starting point is the coupled system below. It will be shown that this system is solvable in terms of Kronecker theta functions (ratios of Weierstrass sigma functions). After this solution was developed it was noted that Dixon studied this system  at the end of the 19th century and solved it in terms of what became known as Dixon elliptic functions (See eq $40 [here](https://gdz.sub.uni-goettingen.de/id/PPN600494829_0024?tify=%7B%22pages%22%3A%5B199%5D%2C%22pan%22%3A%7B%22x%22%3A0.438%2C%22y%22%3A0.868%7D%2C%22view%22%3A%22info%22%2C%22zoom%22%3A0.525%7D))."
   ]
  },
  {
   "cell_type": "code",
   "execution_count": 5,
   "id": "730e9699-bca9-4563-b568-d2a7f97c91ee",
   "metadata": {},
   "outputs": [
    {
     "data": {
      "text/latex": [
       "$\\displaystyle \\frac{d}{d z} u{\\left(z \\right)} = \\alpha u{\\left(z \\right)} - v^{2}{\\left(z \\right)}$"
      ],
      "text/plain": [
       "Eq(Derivative(u(z), z), alpha*u(z) - v(z)**2)"
      ]
     },
     "execution_count": 5,
     "metadata": {},
     "output_type": "execute_result"
    },
    {
     "data": {
      "text/latex": [
       "$\\displaystyle \\frac{d}{d z} v{\\left(z \\right)} = - \\alpha v{\\left(z \\right)} + u^{2}{\\left(z \\right)}$"
      ],
      "text/plain": [
       "Eq(Derivative(v(z), z), -alpha*v(z) + u(z)**2)"
      ]
     },
     "execution_count": 5,
     "metadata": {},
     "output_type": "execute_result"
    }
   ],
   "source": [
    "du_eq = Eq(diff(u(z),z), alpha * u(z) - v(z)**2)\n",
    "dv_eq = Eq(diff(v(z),z), -alpha * v(z) + u(z)**2)\n",
    "du_dv_subs = [du_eq.args, dv_eq.args]\n",
    "du_eq\n",
    "dv_eq"
   ]
  },
  {
   "cell_type": "markdown",
   "id": "6f19f8a7-567c-44fd-ac5d-6a1d4605af47",
   "metadata": {},
   "source": [
    "In Dixon's notation this would be:"
   ]
  },
  {
   "cell_type": "code",
   "execution_count": 6,
   "id": "d6c45341-49dc-4365-a770-6e20bc1dad85",
   "metadata": {},
   "outputs": [
    {
     "data": {
      "text/latex": [
       "$\\displaystyle u{\\left(z \\right)} = \\operatorname{cm}{\\left(z \\right)}$"
      ],
      "text/plain": [
       "Eq(u(z), cm(z))"
      ]
     },
     "execution_count": 6,
     "metadata": {},
     "output_type": "execute_result"
    },
    {
     "data": {
      "text/latex": [
       "$\\displaystyle v{\\left(z \\right)} = \\operatorname{sm}{\\left(z \\right)}$"
      ],
      "text/plain": [
       "Eq(v(z), sm(z))"
      ]
     },
     "execution_count": 6,
     "metadata": {},
     "output_type": "execute_result"
    }
   ],
   "source": [
    "dixon_cm = Eq( u(z), cm(z),)\n",
    "dixon_sm = Eq(v(z), sm(z), )\n",
    "dixon_cm\n",
    "dixon_sm"
   ]
  },
  {
   "cell_type": "code",
   "execution_count": 7,
   "id": "b322db1c-eeed-4118-968c-01708a9665c4",
   "metadata": {},
   "outputs": [
    {
     "data": {
      "text/latex": [
       "$\\displaystyle \\frac{d}{d z} \\operatorname{cm}{\\left(z \\right)} = \\alpha \\operatorname{cm}{\\left(z \\right)} - \\operatorname{sm}^{2}{\\left(z \\right)}$"
      ],
      "text/plain": [
       "Eq(Derivative(cm(z), z), alpha*cm(z) - sm(z)**2)"
      ]
     },
     "execution_count": 7,
     "metadata": {},
     "output_type": "execute_result"
    },
    {
     "data": {
      "text/latex": [
       "$\\displaystyle \\frac{d}{d z} \\operatorname{sm}{\\left(z \\right)} = - \\alpha \\operatorname{sm}{\\left(z \\right)} + \\operatorname{cm}^{2}{\\left(z \\right)}$"
      ],
      "text/plain": [
       "Eq(Derivative(sm(z), z), -alpha*sm(z) + cm(z)**2)"
      ]
     },
     "execution_count": 7,
     "metadata": {},
     "output_type": "execute_result"
    }
   ],
   "source": [
    "du_eq.subs([dixon_cm.args, dixon_sm.args])\n",
    "dv_eq.subs([dixon_cm.args, dixon_sm.args])"
   ]
  },
  {
   "cell_type": "markdown",
   "id": "17b4daa3",
   "metadata": {},
   "source": [
    "Dixon functions are often defined subject to the particular initial conditions below, however in this work these will not be enforced initially but brought in later:"
   ]
  },
  {
   "cell_type": "code",
   "execution_count": 8,
   "id": "cbf5039c",
   "metadata": {},
   "outputs": [
    {
     "data": {
      "text/latex": [
       "$\\displaystyle \\operatorname{sm}{\\left(0 \\right)} = 0$"
      ],
      "text/plain": [
       "Eq(sm(0), 0)"
      ]
     },
     "execution_count": 8,
     "metadata": {},
     "output_type": "execute_result"
    },
    {
     "data": {
      "text/latex": [
       "$\\displaystyle \\operatorname{cm}{\\left(0 \\right)} = 1$"
      ],
      "text/plain": [
       "Eq(cm(0), 1)"
      ]
     },
     "execution_count": 8,
     "metadata": {},
     "output_type": "execute_result"
    },
    {
     "data": {
      "text/latex": [
       "$\\displaystyle u{\\left(0 \\right)} = 1$"
      ],
      "text/plain": [
       "Eq(u(0), 1)"
      ]
     },
     "execution_count": 8,
     "metadata": {},
     "output_type": "execute_result"
    },
    {
     "data": {
      "text/latex": [
       "$\\displaystyle v{\\left(0 \\right)} = 0$"
      ],
      "text/plain": [
       "Eq(v(0), 0)"
      ]
     },
     "execution_count": 8,
     "metadata": {},
     "output_type": "execute_result"
    }
   ],
   "source": [
    "sm0_init = Eq(sm(0),0)\n",
    "cm0_init = Eq(cm(0),1)\n",
    "u0_init_dix = Eq(u(0),1)\n",
    "v0_init_dix = Eq(v(0),0)\n",
    "sm0_init\n",
    "cm0_init\n",
    "u0_init_dix\n",
    "v0_init_dix"
   ]
  },
  {
   "cell_type": "markdown",
   "id": "358f2cba-2b1c-46e1-94d0-f55e03641496",
   "metadata": {},
   "source": [
    "## Method 1: Solving for the product $u(z)v(z)$ in terms of the Weierstrass P function"
   ]
  },
  {
   "cell_type": "code",
   "execution_count": 9,
   "id": "36eec7b8-5712-402e-9c6a-4362db684979",
   "metadata": {},
   "outputs": [
    {
     "data": {
      "text/latex": [
       "$\\displaystyle p = - 3 \\alpha u{\\left(z \\right)} v{\\left(z \\right)} + u^{3}{\\left(z \\right)} + v^{3}{\\left(z \\right)}$"
      ],
      "text/plain": [
       "Eq(p, -3*alpha*u(z)*v(z) + u(z)**3 + v(z)**3)"
      ]
     },
     "execution_count": 9,
     "metadata": {},
     "output_type": "execute_result"
    }
   ],
   "source": [
    "p_conserved = Eq(p, -3*alpha*u(z)*v(z) + u(z)**3 + v(z)**3)\n",
    "p_conserved"
   ]
  },
  {
   "cell_type": "code",
   "execution_count": 10,
   "id": "97da3603-9418-48d3-b1c1-19cad268f1eb",
   "metadata": {},
   "outputs": [
    {
     "data": {
      "text/latex": [
       "$\\displaystyle 0$"
      ],
      "text/plain": [
       "0"
      ]
     },
     "execution_count": 10,
     "metadata": {},
     "output_type": "execute_result"
    }
   ],
   "source": [
    "diff(p_conserved.rhs,z).subs(du_dv_subs).expand()"
   ]
  },
  {
   "cell_type": "code",
   "execution_count": 11,
   "id": "497b23fe-5b83-4cdb-ac4b-8019bb6d14de",
   "metadata": {},
   "outputs": [
    {
     "data": {
      "text/latex": [
       "$\\displaystyle \\frac{d}{d z} u{\\left(z \\right)} v{\\left(z \\right)} = u^{3}{\\left(z \\right)} - v^{3}{\\left(z \\right)}$"
      ],
      "text/plain": [
       "Eq(Derivative(u(z)*v(z), z), u(z)**3 - v(z)**3)"
      ]
     },
     "execution_count": 11,
     "metadata": {},
     "output_type": "execute_result"
    }
   ],
   "source": [
    "duv = Eq(Derivative(u(z)*v(z),z), diff(u(z)*v(z),z).subs(du_dv_subs).doit().expand())\n",
    "duv"
   ]
  },
  {
   "cell_type": "code",
   "execution_count": 12,
   "id": "91fc093d-955e-4bb6-b1a6-980b4353d3b3",
   "metadata": {},
   "outputs": [
    {
     "data": {
      "text/latex": [
       "$\\displaystyle \\left(\\frac{d}{d z} u{\\left(z \\right)} v{\\left(z \\right)}\\right)^{2} = u^{6}{\\left(z \\right)} - 2 u^{3}{\\left(z \\right)} v^{3}{\\left(z \\right)} + v^{6}{\\left(z \\right)}$"
      ],
      "text/plain": [
       "Eq(Derivative(u(z)*v(z), z)**2, u(z)**6 - 2*u(z)**3*v(z)**3 + v(z)**6)"
      ]
     },
     "execution_count": 12,
     "metadata": {},
     "output_type": "execute_result"
    }
   ],
   "source": [
    "duv_sqrd = Eq(duv.lhs**2, (duv.rhs**2).expand())\n",
    "duv_sqrd"
   ]
  },
  {
   "cell_type": "code",
   "execution_count": 13,
   "id": "4bfa59fa-04e3-4b16-983c-a6ca6526d787",
   "metadata": {},
   "outputs": [
    {
     "data": {
      "text/latex": [
       "$\\displaystyle 0 = 9 \\alpha^{2} u^{2}{\\left(z \\right)} v^{2}{\\left(z \\right)} + 6 \\alpha u{\\left(z \\right)} v{\\left(z \\right)} p - u^{6}{\\left(z \\right)} - 2 u^{3}{\\left(z \\right)} v^{3}{\\left(z \\right)} - v^{6}{\\left(z \\right)} + p^{2}$"
      ],
      "text/plain": [
       "Eq(0, 9*alpha**2*u(z)**2*v(z)**2 + 6*alpha*u(z)*v(z)*p - u(z)**6 - 2*u(z)**3*v(z)**3 - v(z)**6 + p**2)"
      ]
     },
     "execution_count": 13,
     "metadata": {},
     "output_type": "execute_result"
    }
   ],
   "source": [
    "alpha_uv_term = 3*alpha*u(z)*v(z)\n",
    "p_sqrd_zero = Eq(0, (p_conserved.lhs + alpha_uv_term)**2 - (p_conserved.rhs + alpha_uv_term)**2).expand()\n",
    "p_sqrd_zero"
   ]
  },
  {
   "cell_type": "code",
   "execution_count": 14,
   "id": "238600e0-8c1c-4b86-9215-0b46f4222cd1",
   "metadata": {},
   "outputs": [
    {
     "data": {
      "text/latex": [
       "$\\displaystyle \\left(\\frac{d}{d z} u{\\left(z \\right)} v{\\left(z \\right)}\\right)^{2} = 9 \\alpha^{2} u^{2}{\\left(z \\right)} v^{2}{\\left(z \\right)} + 6 \\alpha u{\\left(z \\right)} v{\\left(z \\right)} p - 4 u^{3}{\\left(z \\right)} v^{3}{\\left(z \\right)} + p^{2}$"
      ],
      "text/plain": [
       "Eq(Derivative(u(z)*v(z), z)**2, 9*alpha**2*u(z)**2*v(z)**2 + 6*alpha*u(z)*v(z)*p - 4*u(z)**3*v(z)**3 + p**2)"
      ]
     },
     "execution_count": 14,
     "metadata": {},
     "output_type": "execute_result"
    }
   ],
   "source": [
    "duv_sqrd_cubed = Eq(duv_sqrd.lhs, duv_sqrd.rhs + p_sqrd_zero.rhs)\n",
    "duv_sqrd_cubed"
   ]
  },
  {
   "cell_type": "code",
   "execution_count": 15,
   "id": "72ece88e-1b13-4e18-8850-ad69eb61e65b",
   "metadata": {},
   "outputs": [
    {
     "data": {
      "text/latex": [
       "$\\displaystyle u{\\left(z \\right)} v{\\left(z \\right)} = \\frac{3 \\alpha^{2}}{4} - W{\\left(z \\right)}$"
      ],
      "text/plain": [
       "Eq(u(z)*v(z), 3*alpha**2/4 - W(z))"
      ]
     },
     "execution_count": 15,
     "metadata": {},
     "output_type": "execute_result"
    }
   ],
   "source": [
    "uv_W = Eq(u(z)*v(z), - W(z) + alpha**2*Rational(3,4))\n",
    "uv_W"
   ]
  },
  {
   "cell_type": "code",
   "execution_count": 16,
   "id": "f8b6e531-1aec-4979-af6d-3cfd4258e11a",
   "metadata": {},
   "outputs": [
    {
     "data": {
      "text/latex": [
       "$\\displaystyle \\left(\\frac{d}{d z} W{\\left(z \\right)}\\right)^{2} = \\frac{27 \\alpha^{6}}{8} + \\frac{9 \\alpha^{3} p}{2} + \\left(- \\frac{27 \\alpha^{4}}{4} - 6 \\alpha p\\right) W{\\left(z \\right)} + 4 W^{3}{\\left(z \\right)} + p^{2}$"
      ],
      "text/plain": [
       "Eq(Derivative(W(z), z)**2, 27*alpha**6/8 + 9*alpha**3*p/2 + (-27*alpha**4/4 - 6*alpha*p)*W(z) + 4*W(z)**3 + p**2)"
      ]
     },
     "execution_count": 16,
     "metadata": {},
     "output_type": "execute_result"
    }
   ],
   "source": [
    "dW = duv_sqrd_cubed.subs(*uv_W.args).doit().expand()\n",
    "dW = Eq(dW.lhs, dW.rhs.collect(W(z), simplify))\n",
    "dW"
   ]
  },
  {
   "cell_type": "code",
   "execution_count": 17,
   "id": "1ba4e2c4-058e-4b3a-a2c0-8d8cec8d3bd0",
   "metadata": {},
   "outputs": [
    {
     "data": {
      "text/latex": [
       "$\\displaystyle W{\\left(z \\right)} = \\operatorname{pw}{\\left(z - z_{0},g_{2},g_{3} \\right)}$"
      ],
      "text/plain": [
       "Eq(W(z), pw(z - z0, g2, g3))"
      ]
     },
     "execution_count": 17,
     "metadata": {},
     "output_type": "execute_result"
    },
    {
     "data": {
      "text/latex": [
       "$\\displaystyle g_{2} = \\frac{27 \\alpha^{4}}{4} + 6 \\alpha p$"
      ],
      "text/plain": [
       "Eq(g2, 27*alpha**4/4 + 6*alpha*p)"
      ]
     },
     "execution_count": 17,
     "metadata": {},
     "output_type": "execute_result"
    },
    {
     "data": {
      "text/latex": [
       "$\\displaystyle g_{3} = - \\frac{27 \\alpha^{6}}{8} - \\frac{9 \\alpha^{3} p}{2} - p^{2}$"
      ],
      "text/plain": [
       "Eq(g3, -27*alpha**6/8 - 9*alpha**3*p/2 - p**2)"
      ]
     },
     "execution_count": 17,
     "metadata": {},
     "output_type": "execute_result"
    }
   ],
   "source": [
    "W_pw = Eq(W(z), pw(z-z0,g2,g3))\n",
    "g2_p = Eq(g2, -dW.rhs.coeff(W(z)))\n",
    "g3_p = Eq(g3, -dW.rhs.subs(W(z),0))\n",
    "W_pw\n",
    "g2_p\n",
    "g3_p"
   ]
  },
  {
   "cell_type": "code",
   "execution_count": 18,
   "id": "8bc67fbe-8515-47d2-bcf5-83cb39019a86",
   "metadata": {},
   "outputs": [
    {
     "data": {
      "text/latex": [
       "$\\displaystyle u{\\left(z \\right)} v{\\left(z \\right)} = \\frac{3 \\alpha^{2}}{4} - \\operatorname{pw}{\\left(z - z_{0},g_{2},g_{3} \\right)}$"
      ],
      "text/plain": [
       "Eq(u(z)*v(z), 3*alpha**2/4 - pw(z - z0, g2, g3))"
      ]
     },
     "execution_count": 18,
     "metadata": {},
     "output_type": "execute_result"
    }
   ],
   "source": [
    "uv_pw_z0_g2_g3 = uv_W.subs(*W_pw.args)\n",
    "uv_pw_z0_g2_g3"
   ]
  },
  {
   "cell_type": "code",
   "execution_count": 19,
   "id": "1ce8e155-c0b6-4a04-8aac-66e95bc5b20a",
   "metadata": {},
   "outputs": [
    {
     "data": {
      "text/latex": [
       "$\\displaystyle \\operatorname{pwp}{\\left({\\xi}_{0},g_{2},g_{3} \\right)} = p$"
      ],
      "text/plain": [
       "Eq(pwp(xi[0], g2, g3), p)"
      ]
     },
     "execution_count": 19,
     "metadata": {},
     "output_type": "execute_result"
    },
    {
     "data": {
      "text/latex": [
       "$\\displaystyle \\operatorname{pw}{\\left({\\xi}_{0},g_{2},g_{3} \\right)} = \\frac{3 \\alpha^{2}}{4}$"
      ],
      "text/plain": [
       "Eq(pw(xi[0], g2, g3), 3*alpha**2/4)"
      ]
     },
     "execution_count": 19,
     "metadata": {},
     "output_type": "execute_result"
    },
    {
     "data": {
      "text/latex": [
       "$\\displaystyle u{\\left(z \\right)} v{\\left(z \\right)} = - \\operatorname{pw}{\\left(z - z_{0},g_{2},g_{3} \\right)} + \\operatorname{pw}{\\left({\\xi}_{0},g_{2},g_{3} \\right)}$"
      ],
      "text/plain": [
       "Eq(u(z)*v(z), -pw(z - z0, g2, g3) + pw(xi[0], g2, g3))"
      ]
     },
     "execution_count": 19,
     "metadata": {},
     "output_type": "execute_result"
    },
    {
     "data": {
      "text/latex": [
       "$\\displaystyle u{\\left(z \\right)} v{\\left(z \\right)} = \\frac{\\sigma{\\left(z - z_{0} - {\\xi}_{0},g_{2},g_{3} \\right)} \\sigma{\\left(z - z_{0} + {\\xi}_{0},g_{2},g_{3} \\right)}}{\\sigma^{2}{\\left(z - z_{0},g_{2},g_{3} \\right)} \\sigma^{2}{\\left({\\xi}_{0},g_{2},g_{3} \\right)}}$"
      ],
      "text/plain": [
       "Eq(u(z)*v(z), sigma(z - z0 - xi[0], g2, g3)*sigma(z - z0 + xi[0], g2, g3)/(sigma(z - z0, g2, g3)**2*sigma(xi[0], g2, g3)**2))"
      ]
     },
     "execution_count": 19,
     "metadata": {},
     "output_type": "execute_result"
    }
   ],
   "source": [
    "xi_0_alpha_uv  = Eq(pw(xi[0], g2, g3), 3*alpha**2/4)\n",
    "# Eq(pwp(xi[0],g2,g3)**2, dW.rhs.subs(W(z), pw(xi[0],g2,g3)).subs(*xi_0_alpha_uv.args)).expand()\n",
    "pwp_p_uv = Eq(pwp(xi[0],g2,g3), p)\n",
    "uv_pw_xi0 = uv_pw_z0_g2_g3.subs(xi_0_alpha_uv.rhs, xi_0_alpha_uv.lhs)\n",
    "uv_sigma_xi0 = uv_pw_xi0.subs(*sigma_p_identity.subs([(y,xi[0]),(x,z-z0)]).args)\n",
    "pwp_p_uv\n",
    "xi_0_alpha_uv\n",
    "uv_pw_xi0\n",
    "uv_sigma_xi0"
   ]
  },
  {
   "cell_type": "code",
   "execution_count": 20,
   "id": "4f08a387-4c64-4e1e-98d1-743eea3ed1d9",
   "metadata": {},
   "outputs": [
    {
     "data": {
      "text/latex": [
       "$\\displaystyle \\frac{\\sigma{\\left(3 {\\xi}_{0},g_{2},g_{3} \\right)}}{\\sigma^{9}{\\left({\\xi}_{0},g_{2},g_{3} \\right)}} = 0$"
      ],
      "text/plain": [
       "Eq(sigma(3*xi[0], g2, g3)/sigma(xi[0], g2, g3)**9, 0)"
      ]
     },
     "execution_count": 20,
     "metadata": {},
     "output_type": "execute_result"
    },
    {
     "data": {
      "text/latex": [
       "$\\displaystyle {\\xi}_{0} = \\frac{2 m \\omega_{3}}{3} + \\frac{2 n \\omega_{1}}{3}$"
      ],
      "text/plain": [
       "Eq(xi[0], 2*m*omega3/3 + 2*n*omega1/3)"
      ]
     },
     "execution_count": 20,
     "metadata": {},
     "output_type": "execute_result"
    },
    {
     "data": {
      "text/latex": [
       "$\\displaystyle \\operatorname{zw}{\\left(2 {\\xi}_{0},g_{2},g_{3} \\right)} = 2 \\eta_{1} n + 2 \\eta_{3} m - \\operatorname{zw}{\\left({\\xi}_{0},g_{2},g_{3} \\right)}$"
      ],
      "text/plain": [
       "Eq(zw(2*xi[0], g2, g3), 2*eta1*n + 2*eta3*m - zw(xi[0], g2, g3))"
      ]
     },
     "execution_count": 20,
     "metadata": {},
     "output_type": "execute_result"
    },
    {
     "data": {
      "text/latex": [
       "$\\displaystyle \\operatorname{zw}{\\left(2 {\\xi}_{0},g_{2},g_{3} \\right)} = \\frac{- \\frac{g_{2}}{2} + 6 \\operatorname{pw}^{2}{\\left({\\xi}_{0},g_{2},g_{3} \\right)}}{2 \\operatorname{pwp}{\\left({\\xi}_{0},g_{2},g_{3} \\right)}} + 2 \\operatorname{zw}{\\left({\\xi}_{0},g_{2},g_{3} \\right)}$"
      ],
      "text/plain": [
       "Eq(zw(2*xi[0], g2, g3), (-g2/2 + 6*pw(xi[0], g2, g3)**2)/(2*pwp(xi[0], g2, g3)) + 2*zw(xi[0], g2, g3))"
      ]
     },
     "execution_count": 20,
     "metadata": {},
     "output_type": "execute_result"
    },
    {
     "data": {
      "text/latex": [
       "$\\displaystyle \\operatorname{zw}{\\left(2 {\\xi}_{0},g_{2},g_{3} \\right)} = - \\frac{3 \\alpha}{2} + 2 \\operatorname{zw}{\\left({\\xi}_{0},g_{2},g_{3} \\right)}$"
      ],
      "text/plain": [
       "Eq(zw(2*xi[0], g2, g3), -3*alpha/2 + 2*zw(xi[0], g2, g3))"
      ]
     },
     "execution_count": 20,
     "metadata": {},
     "output_type": "execute_result"
    },
    {
     "data": {
      "text/latex": [
       "$\\displaystyle - \\frac{\\alpha}{2} + \\operatorname{zw}{\\left({\\xi}_{0},g_{2},g_{3} \\right)} = \\frac{2 \\eta_{1} n}{3} + \\frac{2 \\eta_{3} m}{3}$"
      ],
      "text/plain": [
       "Eq(-alpha/2 + zw(xi[0], g2, g3), 2*eta1*n/3 + 2*eta3*m/3)"
      ]
     },
     "execution_count": 20,
     "metadata": {},
     "output_type": "execute_result"
    }
   ],
   "source": [
    "sigma_3_xi0_zero = Eq(sigma_3zb.lhs.subs([(z,xi[0])]), sigma_3zb.rhs.subs([(z,xi[0]),pwp_p_uv.args, xi_0_alpha_uv.args, g2_p.args, g3_p.args]))\n",
    "xi_0_omega_1_3 = Eq(xi[0], 2*n*omega1/3 +2*m*omega3/3)\n",
    "\n",
    "xi0_3_w1w3 = Eq(3*xi_0_omega_1_3.lhs - xi[0], 3*xi_0_omega_1_3.rhs - xi[0])\n",
    "xi0_3_w1w3 = Eq(3*xi_0_omega_1_3.lhs, 3*xi_0_omega_1_3.rhs)\n",
    "zw_quasi_eq_xi0 = zw_quasi_eq.subs(z,-xi[0]).subs(zw(-xi[0],g2,g3),-zw(xi[0],g2,g3)).subs(xi0_3_w1w3.rhs, xi0_3_w1w3.lhs)\n",
    "zw_2_xi0_1_xi0_alpha = Eq(zw2z_2zwz_pw_pwp.lhs.subs(z,xi[0]) , \n",
    "   2*zw(xi[0],g2,g3) + \n",
    "   (zw2z_2zwz_pw_pwp.rhs - 2*zw(xi[0],g2,g3)).subs(z,xi[0]).subs([pwp_p_uv.args, xi_0_alpha_uv.args, g2_p.args, g3_p.args]) \n",
    "  )\n",
    "alpha_zw_eta1_eta3 = zw_quasi_eq_xi0.subs(*zw_2_xi0_1_xi0_alpha.args)\n",
    "alpha_zw_eta1_eta3 = Eq((alpha_zw_eta1_eta3.lhs + zw(xi[0], g2, g3))/3, (alpha_zw_eta1_eta3.rhs + zw(xi[0], g2, g3))/3)\n",
    "\n",
    "sigma_3_xi0_zero\n",
    "xi_0_omega_1_3\n",
    "zw_quasi_eq_xi0\n",
    "zw2z_2zwz_pw_pwp.subs(z,xi[0])\n",
    "zw_2_xi0_1_xi0_alpha\n",
    "alpha_zw_eta1_eta3"
   ]
  },
  {
   "cell_type": "code",
   "execution_count": 21,
   "id": "bf226098-53e6-42a5-a3be-38d33c8472d3",
   "metadata": {},
   "outputs": [
    {
     "data": {
      "text/latex": [
       "$\\displaystyle \\operatorname{pw}{\\left(z_{0},g_{2},g_{3} \\right)} = \\frac{3 \\alpha^{2}}{4} - u{\\left(0 \\right)} v{\\left(0 \\right)}$"
      ],
      "text/plain": [
       "Eq(pw(z0, g2, g3), 3*alpha**2/4 - u(0)*v(0))"
      ]
     },
     "execution_count": 21,
     "metadata": {},
     "output_type": "execute_result"
    },
    {
     "data": {
      "text/latex": [
       "$\\displaystyle \\operatorname{pwp}{\\left(z_{0},g_{2},g_{3} \\right)} = u^{3}{\\left(0 \\right)} - v^{3}{\\left(0 \\right)}$"
      ],
      "text/plain": [
       "Eq(pwp(z0, g2, g3), u(0)**3 - v(0)**3)"
      ]
     },
     "execution_count": 21,
     "metadata": {},
     "output_type": "execute_result"
    }
   ],
   "source": [
    "pw_uv_g2_g2 = Eq(pw(z-z0,g2,g3), solve(uv_W.subs(*W_pw.args),pw(z-z0,g2,g3))[0])\n",
    "pwp_uv_g2_g2 = Eq(pwp(z-z0,g2,g3), diff(pw_uv_g2_g2.rhs, z).subs([du_eq.args, dv_eq.args]).expand())\n",
    "pw_uv_g2_g2_0 = pw_uv_g2_g2.subs(z,0).subs(pw(-z0,g2,g3), pw(z0,g2,g3)).simplify()\n",
    "pwp_uv_g2_g2_0 = pwp_uv_g2_g2.subs(z,0).subs(pwp(-z0,g2,g3), -pwp(z0,g2,g3)).simplify()\n",
    "pw_uv_g2_g2_0\n",
    "pwp_uv_g2_g2_0"
   ]
  },
  {
   "cell_type": "markdown",
   "id": "2e1832f5-81e2-4989-b95f-e5fadd2834a5",
   "metadata": {},
   "source": [
    "### The Dixon system has solutions in Weierstrass sigma ratios which match the Kronecker theta function"
   ]
  },
  {
   "cell_type": "code",
   "execution_count": 22,
   "id": "6ad68ae5-fef8-4ef2-af09-9bd2d9fb1376",
   "metadata": {
    "scrolled": false
   },
   "outputs": [
    {
     "data": {
      "text/latex": [
       "$\\displaystyle \\frac{\\frac{d}{d z} u{\\left(z \\right)}}{u{\\left(z \\right)}} = \\frac{\\frac{d}{d z} \\log{\\left(u{\\left(z \\right)} v{\\left(z \\right)} \\right)}}{2} - \\frac{\\frac{d}{d z} v{\\left(z \\right)}}{2 v{\\left(z \\right)}} + \\frac{\\frac{d}{d z} u{\\left(z \\right)}}{2 u{\\left(z \\right)}}$"
      ],
      "text/plain": [
       "Eq(Derivative(u(z), z)/u(z), Derivative(log(u(z)*v(z)), z)/2 - Derivative(v(z), z)/(2*v(z)) + Derivative(u(z), z)/(2*u(z)))"
      ]
     },
     "execution_count": 22,
     "metadata": {},
     "output_type": "execute_result"
    },
    {
     "data": {
      "text/latex": [
       "$\\displaystyle - \\alpha + \\frac{u^{2}{\\left(z \\right)}}{2 v{\\left(z \\right)}} - \\frac{\\frac{d}{d z} v{\\left(z \\right)}}{2 v{\\left(z \\right)}} + \\frac{v^{2}{\\left(z \\right)}}{2 u{\\left(z \\right)}} + \\frac{\\frac{d}{d z} u{\\left(z \\right)}}{2 u{\\left(z \\right)}} = 0$"
      ],
      "text/plain": [
       "Eq(-alpha + u(z)**2/(2*v(z)) - Derivative(v(z), z)/(2*v(z)) + v(z)**2/(2*u(z)) + Derivative(u(z), z)/(2*u(z)), 0)"
      ]
     },
     "execution_count": 22,
     "metadata": {},
     "output_type": "execute_result"
    },
    {
     "data": {
      "text/latex": [
       "$\\displaystyle \\frac{9 \\alpha}{2} - \\frac{3 u^{2}{\\left(z \\right)}}{2 v{\\left(z \\right)}} - \\frac{3 v^{2}{\\left(z \\right)}}{2 u{\\left(z \\right)}} + \\frac{3 p}{2 u{\\left(z \\right)} v{\\left(z \\right)}} = 0$"
      ],
      "text/plain": [
       "Eq(9*alpha/2 - 3*u(z)**2/(2*v(z)) - 3*v(z)**2/(2*u(z)) + 3*p/(2*u(z)*v(z)), 0)"
      ]
     },
     "execution_count": 22,
     "metadata": {},
     "output_type": "execute_result"
    },
    {
     "data": {
      "text/latex": [
       "$\\displaystyle \\frac{\\frac{d}{d z} u{\\left(z \\right)}}{u{\\left(z \\right)}} = - \\frac{\\alpha}{2} + \\frac{\\frac{d}{d z} \\log{\\left(u{\\left(z \\right)} v{\\left(z \\right)} \\right)}}{2} - \\frac{p}{2 u{\\left(z \\right)} v{\\left(z \\right)}}$"
      ],
      "text/plain": [
       "Eq(Derivative(u(z), z)/u(z), -alpha/2 + Derivative(log(u(z)*v(z)), z)/2 - p/(2*u(z)*v(z)))"
      ]
     },
     "execution_count": 22,
     "metadata": {},
     "output_type": "execute_result"
    },
    {
     "data": {
      "text/latex": [
       "$\\displaystyle \\frac{\\frac{d}{d z} u{\\left(z \\right)}}{u{\\left(z \\right)}} = - \\frac{\\alpha}{2} - \\frac{\\operatorname{pwp}{\\left(z - z_{0},g_{2},g_{3} \\right)} + \\operatorname{pwp}{\\left({\\xi}_{0},g_{2},g_{3} \\right)}}{2 \\left(- \\operatorname{pw}{\\left(z - z_{0},g_{2},g_{3} \\right)} + \\operatorname{pw}{\\left({\\xi}_{0},g_{2},g_{3} \\right)}\\right)}$"
      ],
      "text/plain": [
       "Eq(Derivative(u(z), z)/u(z), -alpha/2 - (pwp(z - z0, g2, g3) + pwp(xi[0], g2, g3))/(2*(-pw(z - z0, g2, g3) + pw(xi[0], g2, g3))))"
      ]
     },
     "execution_count": 22,
     "metadata": {},
     "output_type": "execute_result"
    },
    {
     "data": {
      "text/latex": [
       "$\\displaystyle \\frac{\\frac{d}{d z} u{\\left(z \\right)}}{u{\\left(z \\right)}} = - \\frac{\\alpha}{2} - \\operatorname{zw}{\\left(z - z_{0},g_{2},g_{3} \\right)} + \\operatorname{zw}{\\left(z - z_{0} - {\\xi}_{0},g_{2},g_{3} \\right)} + \\operatorname{zw}{\\left({\\xi}_{0},g_{2},g_{3} \\right)}$"
      ],
      "text/plain": [
       "Eq(Derivative(u(z), z)/u(z), -alpha/2 - zw(z - z0, g2, g3) + zw(z - z0 - xi[0], g2, g3) + zw(xi[0], g2, g3))"
      ]
     },
     "execution_count": 22,
     "metadata": {},
     "output_type": "execute_result"
    },
    {
     "data": {
      "text/latex": [
       "$\\displaystyle \\frac{d}{d z} \\log{\\left(u{\\left(z \\right)} \\right)} = - \\frac{\\alpha}{2} + \\operatorname{zw}{\\left({\\xi}_{0},g_{2},g_{3} \\right)} - \\frac{\\partial}{\\partial z} \\log{\\left(\\sigma{\\left(z - z_{0},g_{2},g_{3} \\right)} \\right)} + \\frac{\\partial}{\\partial z} \\log{\\left(\\sigma{\\left(z - z_{0} - {\\xi}_{0},g_{2},g_{3} \\right)} \\right)}$"
      ],
      "text/plain": [
       "Eq(Derivative(log(u(z)), z), -alpha/2 + zw(xi[0], g2, g3) - Derivative(log(sigma(z - z0, g2, g3)), z) + Derivative(log(sigma(z - z0 - xi[0], g2, g3)), z))"
      ]
     },
     "execution_count": 22,
     "metadata": {},
     "output_type": "execute_result"
    },
    {
     "data": {
      "text/latex": [
       "$\\displaystyle \\log{\\left(u{\\left(z \\right)} \\right)} = - \\frac{\\alpha z}{2} + z \\operatorname{zw}{\\left({\\xi}_{0},g_{2},g_{3} \\right)} - \\log{\\left(\\sigma{\\left(z - z_{0},g_{2},g_{3} \\right)} \\right)} + \\log{\\left(\\sigma{\\left(z - z_{0} - {\\xi}_{0},g_{2},g_{3} \\right)} \\right)} + c$"
      ],
      "text/plain": [
       "Eq(log(u(z)), -alpha*z/2 + z*zw(xi[0], g2, g3) - log(sigma(z - z0, g2, g3)) + log(sigma(z - z0 - xi[0], g2, g3)) + c)"
      ]
     },
     "execution_count": 22,
     "metadata": {},
     "output_type": "execute_result"
    },
    {
     "data": {
      "text/latex": [
       "$\\displaystyle u{\\left(z \\right)} = \\frac{\\sigma{\\left(z - z_{0} - {\\xi}_{0},g_{2},g_{3} \\right)} e^{- \\frac{\\alpha z}{2} + z \\operatorname{zw}{\\left({\\xi}_{0},g_{2},g_{3} \\right)} + c}}{\\sigma{\\left(z - z_{0},g_{2},g_{3} \\right)}}$"
      ],
      "text/plain": [
       "Eq(u(z), sigma(z - z0 - xi[0], g2, g3)*exp(-alpha*z/2 + z*zw(xi[0], g2, g3) + c)/sigma(z - z0, g2, g3))"
      ]
     },
     "execution_count": 22,
     "metadata": {},
     "output_type": "execute_result"
    },
    {
     "data": {
      "text/latex": [
       "$\\displaystyle v{\\left(z \\right)} = \\frac{\\sigma{\\left(z - z_{0} + {\\xi}_{0},g_{2},g_{3} \\right)} e^{\\frac{\\alpha z}{2} - z \\operatorname{zw}{\\left({\\xi}_{0},g_{2},g_{3} \\right)} - c}}{\\sigma{\\left(z - z_{0},g_{2},g_{3} \\right)} \\sigma^{2}{\\left({\\xi}_{0},g_{2},g_{3} \\right)}}$"
      ],
      "text/plain": [
       "Eq(v(z), sigma(z - z0 + xi[0], g2, g3)*exp(alpha*z/2 - z*zw(xi[0], g2, g3) - c)/(sigma(z - z0, g2, g3)*sigma(xi[0], g2, g3)**2))"
      ]
     },
     "execution_count": 22,
     "metadata": {},
     "output_type": "execute_result"
    }
   ],
   "source": [
    "dln_u_as_du_dv = Eq(diff(ln(u(z)),z), Derivative(ln(u(z)*v(z)),z)/2 + diff(ln(u(z)/v(z)),z).expand()/2)\n",
    "dln_u_over_v = Eq(diff(ln(u(z)/v(z)),z).expand()/2 - diff(ln(u(z)/v(z)),z).expand().subs([du_eq.args, dv_eq.args])/2, 0).expand()\n",
    "p_over_uv = Eq(3*p_conserved.lhs/u(z)/v(z)/2 - 3*(p_conserved.rhs/u(z)/v(z)).expand()/2, 0)\n",
    "dln_u_as_uv = Eq(dln_u_as_du_dv.lhs - dln_u_over_v.rhs - p_over_uv.rhs/3, dln_u_as_du_dv.rhs - dln_u_over_v.lhs  - p_over_uv.lhs/3).expand()\n",
    "dln_u_pw_pwp = dln_u_as_uv.subs(*uv_pw_xi0.args).doit().subs(pwp_p_uv.rhs, pwp_p_uv.lhs).subs(diff(pw(z-z0,g2,g3),z),pwp(z-z0,g2,g3))\n",
    "dln_u_pw_pwp = Eq(dln_u_pw_pwp.lhs, dln_u_pw_pwp.rhs.collect(alpha, factor))\n",
    "dln_u_zw = Eq(dln_u_pw_pwp.lhs, (dln_u_pw_pwp.rhs - (pw_to_zw_identity.lhs - pw_to_zw_identity.rhs)\n",
    "    .subs([(x,z-z0),(y,-xi[0])]).subs([(pwp(-xi[0],g2,g3), -pwp(xi[0],g2,g3)), (pw(-xi[0],g2,g3), pw(xi[0],g2,g3))])).collect(alpha, factor)\n",
    "             ).subs(zw(-xi[0], g2, g3), -zw(xi[0], g2, g3))\n",
    "dln_sigma_u = dln_u_zw.subs([\n",
    "    Eq(zw(z-z0,g2,g3), Derivative(ln(sigma(z-z0,g2,g3)),z)).args,\n",
    "    Eq(zw(z-z0-xi[0],g2,g3), Derivative(ln(sigma(z-z0-xi[0],g2,g3)),z)).args,\n",
    "    Eq(diff(ln(u(z)),z), Derivative(ln(u(z)),z)).args\n",
    "])\n",
    "ln_sigma_u = Eq(integrate(dln_sigma_u.lhs, z), integrate(dln_sigma_u.rhs, z) + c)\n",
    "u_sigma = Eq(exp(ln_sigma_u.lhs), exp(ln_sigma_u.rhs))\n",
    "v_sigma = Eq(uv_sigma_xi0.lhs/u_sigma.lhs, uv_sigma_xi0.rhs/u_sigma.rhs)\n",
    "\n",
    "\n",
    "dln_u_as_du_dv\n",
    "dln_u_over_v\n",
    "p_over_uv\n",
    "dln_u_as_uv\n",
    "dln_u_pw_pwp\n",
    "dln_u_zw\n",
    "dln_sigma_u\n",
    "ln_sigma_u\n",
    "u_sigma\n",
    "v_sigma"
   ]
  },
  {
   "cell_type": "markdown",
   "id": "f8699809",
   "metadata": {},
   "source": [
    "### Enforcing Dixon's initial conditions"
   ]
  },
  {
   "cell_type": "code",
   "execution_count": 23,
   "id": "14fe619c",
   "metadata": {},
   "outputs": [
    {
     "data": {
      "text/latex": [
       "$\\displaystyle u{\\left(0 \\right)} = 1$"
      ],
      "text/plain": [
       "Eq(u(0), 1)"
      ]
     },
     "execution_count": 23,
     "metadata": {},
     "output_type": "execute_result"
    },
    {
     "data": {
      "text/latex": [
       "$\\displaystyle v{\\left(0 \\right)} = 0$"
      ],
      "text/plain": [
       "Eq(v(0), 0)"
      ]
     },
     "execution_count": 23,
     "metadata": {},
     "output_type": "execute_result"
    },
    {
     "data": {
      "text/latex": [
       "$\\displaystyle p = 1$"
      ],
      "text/plain": [
       "Eq(p, 1)"
      ]
     },
     "execution_count": 23,
     "metadata": {},
     "output_type": "execute_result"
    },
    {
     "data": {
      "text/latex": [
       "$\\displaystyle g_{2} = \\frac{27 \\alpha^{4}}{4} + 6 \\alpha$"
      ],
      "text/plain": [
       "Eq(g2, 27*alpha**4/4 + 6*alpha)"
      ]
     },
     "execution_count": 23,
     "metadata": {},
     "output_type": "execute_result"
    },
    {
     "data": {
      "text/latex": [
       "$\\displaystyle g_{3} = - \\frac{27 \\alpha^{6}}{8} - \\frac{9 \\alpha^{3}}{2} - 1$"
      ],
      "text/plain": [
       "Eq(g3, -27*alpha**6/8 - 9*alpha**3/2 - 1)"
      ]
     },
     "execution_count": 23,
     "metadata": {},
     "output_type": "execute_result"
    }
   ],
   "source": [
    "p0_init_dix = p_conserved.subs(z,0).subs([u0_init_dix.args, v0_init_dix.args])\n",
    "g2_p_dix = g2_p.subs(*p0_init_dix.args)\n",
    "g3_p_dix = g3_p.subs(*p0_init_dix.args)\n",
    "\n",
    "u0_init_dix\n",
    "v0_init_dix\n",
    "p0_init_dix\n",
    "g2_p_dix\n",
    "g3_p_dix"
   ]
  },
  {
   "cell_type": "code",
   "execution_count": 24,
   "id": "6fa90ecd",
   "metadata": {},
   "outputs": [
    {
     "data": {
      "text/latex": [
       "$\\displaystyle v{\\left(0 \\right)} = \\frac{\\sigma{\\left(0,g_{2},g_{3} \\right)} e^{- c}}{\\sigma{\\left(- {\\xi}_{0},g_{2},g_{3} \\right)} \\sigma^{2}{\\left({\\xi}_{0},g_{2},g_{3} \\right)}}$"
      ],
      "text/plain": [
       "Eq(v(0), sigma(0, g2, g3)*exp(-c)/(sigma(-xi[0], g2, g3)*sigma(xi[0], g2, g3)**2))"
      ]
     },
     "execution_count": 24,
     "metadata": {},
     "output_type": "execute_result"
    },
    {
     "data": {
      "text/latex": [
       "$\\displaystyle e^{c} = \\frac{\\sigma{\\left({\\xi}_{0},g_{2},g_{3} \\right)}}{\\sigma{\\left(2 {\\xi}_{0},g_{2},g_{3} \\right)}}$"
      ],
      "text/plain": [
       "Eq(exp(c), sigma(xi[0], g2, g3)/sigma(2*xi[0], g2, g3))"
      ]
     },
     "execution_count": 24,
     "metadata": {},
     "output_type": "execute_result"
    }
   ],
   "source": [
    "exp_c_dix = Eq(exp(c), solve(u_sigma.subs(z,0).subs(z0,xi[0]).subs(xi[0],-xi[0]).subs(*u0_init_dix.args),exp(c))[0])\n",
    "v_sigma.subs(z,0).subs(z0,xi[0])\n",
    "exp_c_dix"
   ]
  },
  {
   "cell_type": "code",
   "execution_count": 25,
   "id": "e3707cbd",
   "metadata": {},
   "outputs": [
    {
     "data": {
      "text/latex": [
       "$\\displaystyle u{\\left(z \\right)} = \\frac{\\sigma{\\left(z - 2 {\\xi}_{0},g_{2},g_{3} \\right)} \\sigma{\\left({\\xi}_{0},g_{2},g_{3} \\right)} e^{- \\frac{\\alpha z}{2}} e^{z \\operatorname{zw}{\\left({\\xi}_{0},g_{2},g_{3} \\right)}}}{\\sigma{\\left(z - {\\xi}_{0},g_{2},g_{3} \\right)} \\sigma{\\left(2 {\\xi}_{0},g_{2},g_{3} \\right)}}$"
      ],
      "text/plain": [
       "Eq(u(z), sigma(z - 2*xi[0], g2, g3)*sigma(xi[0], g2, g3)*exp(-alpha*z/2)*exp(z*zw(xi[0], g2, g3))/(sigma(z - xi[0], g2, g3)*sigma(2*xi[0], g2, g3)))"
      ]
     },
     "execution_count": 25,
     "metadata": {},
     "output_type": "execute_result"
    },
    {
     "data": {
      "text/latex": [
       "$\\displaystyle v{\\left(z \\right)} = \\frac{\\sigma{\\left(z,g_{2},g_{3} \\right)} \\sigma{\\left(2 {\\xi}_{0},g_{2},g_{3} \\right)} e^{\\frac{\\alpha z}{2}} e^{- z \\operatorname{zw}{\\left({\\xi}_{0},g_{2},g_{3} \\right)}}}{\\sigma{\\left(z - {\\xi}_{0},g_{2},g_{3} \\right)} \\sigma^{3}{\\left({\\xi}_{0},g_{2},g_{3} \\right)}}$"
      ],
      "text/plain": [
       "Eq(v(z), sigma(z, g2, g3)*sigma(2*xi[0], g2, g3)*exp(alpha*z/2)*exp(-z*zw(xi[0], g2, g3))/(sigma(z - xi[0], g2, g3)*sigma(xi[0], g2, g3)**3))"
      ]
     },
     "execution_count": 25,
     "metadata": {},
     "output_type": "execute_result"
    }
   ],
   "source": [
    "u_sigma.subs(z0,xi[0]).expand().subs(*exp_c_dix.args)\n",
    "\n",
    "v_sigma.subs(z0,xi[0]).expand().subs(*exp_c_dix.args)"
   ]
  },
  {
   "cell_type": "markdown",
   "id": "26af6417-64e9-4122-ad02-9699da903678",
   "metadata": {},
   "source": [
    "## Method 2: Solving for $u(z)$ and $v(z)$ in terms of the Weierstrass P and P Prime functions"
   ]
  },
  {
   "cell_type": "code",
   "execution_count": 26,
   "id": "ca3d8112-1a02-4b41-9b0f-87d31ec48b71",
   "metadata": {},
   "outputs": [
    {
     "data": {
      "text/latex": [
       "$\\displaystyle u{\\left(z \\right)} = - \\frac{\\alpha}{2} + q{\\left(z \\right)} - r{\\left(z \\right)}$"
      ],
      "text/plain": [
       "Eq(u(z), -alpha/2 + q(z) - r(z))"
      ]
     },
     "execution_count": 26,
     "metadata": {},
     "output_type": "execute_result"
    },
    {
     "data": {
      "text/latex": [
       "$\\displaystyle v{\\left(z \\right)} = - \\frac{\\alpha}{2} + q{\\left(z \\right)} + r{\\left(z \\right)}$"
      ],
      "text/plain": [
       "Eq(v(z), -alpha/2 + q(z) + r(z))"
      ]
     },
     "execution_count": 26,
     "metadata": {},
     "output_type": "execute_result"
    }
   ],
   "source": [
    "u_q_min_r = Eq(u(z), q(z) - alpha*Rational(1,2) - r(z))\n",
    "v_q_plus_r = Eq(v(z), q(z) - alpha*Rational(1,2) + r(z))\n",
    "uv_qr_plus_min_subs = [u_q_min_r.args, v_q_plus_r.args]\n",
    "u_q_min_r\n",
    "v_q_plus_r"
   ]
  },
  {
   "cell_type": "code",
   "execution_count": 27,
   "id": "14046422-e80b-401c-94bb-caf0871c720c",
   "metadata": {},
   "outputs": [
    {
     "data": {
      "text/latex": [
       "$\\displaystyle q{\\left(z \\right)} = \\frac{\\alpha}{2} + \\frac{u{\\left(z \\right)}}{2} + \\frac{v{\\left(z \\right)}}{2}$"
      ],
      "text/plain": [
       "Eq(q(z), alpha/2 + u(z)/2 + v(z)/2)"
      ]
     },
     "execution_count": 27,
     "metadata": {},
     "output_type": "execute_result"
    },
    {
     "data": {
      "text/latex": [
       "$\\displaystyle r{\\left(z \\right)} = - \\frac{u{\\left(z \\right)}}{2} + \\frac{v{\\left(z \\right)}}{2}$"
      ],
      "text/plain": [
       "Eq(r(z), -u(z)/2 + v(z)/2)"
      ]
     },
     "execution_count": 27,
     "metadata": {},
     "output_type": "execute_result"
    }
   ],
   "source": [
    "_qruv= solve([u_q_min_r, v_q_plus_r], [q(z), r(z)])\n",
    "q_qruv = Eq(q(z), _qruv[q(z)])\n",
    "r_qruv = Eq(r(z), _qruv[r(z)])\n",
    "q_qruv\n",
    "r_qruv"
   ]
  },
  {
   "cell_type": "code",
   "execution_count": 28,
   "id": "63734c57-5bc3-419f-8acd-7f05acf1460a",
   "metadata": {},
   "outputs": [
    {
     "data": {
      "text/latex": [
       "$\\displaystyle p = - \\alpha^{3} + \\frac{9 \\alpha^{2} q{\\left(z \\right)}}{2} - 6 \\alpha q^{2}{\\left(z \\right)} + 2 q^{3}{\\left(z \\right)} + 6 q{\\left(z \\right)} r^{2}{\\left(z \\right)}$"
      ],
      "text/plain": [
       "Eq(p, -alpha**3 + 9*alpha**2*q(z)/2 - 6*alpha*q(z)**2 + 2*q(z)**3 + 6*q(z)*r(z)**2)"
      ]
     },
     "execution_count": 28,
     "metadata": {},
     "output_type": "execute_result"
    }
   ],
   "source": [
    "p_conserved_qr = p_conserved.subs(uv_qr_plus_min_subs).expand()\n",
    "p_conserved_qr"
   ]
  },
  {
   "cell_type": "code",
   "execution_count": 29,
   "id": "1236e477-f6be-4896-b55d-e67748facd1b",
   "metadata": {},
   "outputs": [
    {
     "data": {
      "text/latex": [
       "$\\displaystyle \\frac{d}{d z} q{\\left(z \\right)} = - 2 q{\\left(z \\right)} r{\\left(z \\right)}$"
      ],
      "text/plain": [
       "Eq(Derivative(q(z), z), -2*q(z)*r(z))"
      ]
     },
     "execution_count": 29,
     "metadata": {},
     "output_type": "execute_result"
    },
    {
     "data": {
      "text/latex": [
       "$\\displaystyle \\frac{d}{d z} r{\\left(z \\right)} = \\frac{3 \\alpha^{2}}{4} - 2 \\alpha q{\\left(z \\right)} + q^{2}{\\left(z \\right)} + r^{2}{\\left(z \\right)}$"
      ],
      "text/plain": [
       "Eq(Derivative(r(z), z), 3*alpha**2/4 - 2*alpha*q(z) + q(z)**2 + r(z)**2)"
      ]
     },
     "execution_count": 29,
     "metadata": {},
     "output_type": "execute_result"
    }
   ],
   "source": [
    "qr_sols_pm = solve([\n",
    "    du_eq.subs(uv_qr_plus_min_subs).doit().expand(),\n",
    "    dv_eq.subs(uv_qr_plus_min_subs).doit().expand()\n",
    "],[diff(q(z),z),(diff(r(z),z))])\n",
    "qr_sols_pm_eqs = [Eq(k, qr_sols_pm[k]) for k in qr_sols_pm]\n",
    "for eq_ in qr_sols_pm_eqs:\n",
    "    eq_"
   ]
  },
  {
   "cell_type": "code",
   "execution_count": 30,
   "id": "1788f367-c04f-47da-965d-82c7f5378a93",
   "metadata": {},
   "outputs": [
    {
     "data": {
      "text/latex": [
       "$\\displaystyle 0$"
      ],
      "text/plain": [
       "0"
      ]
     },
     "execution_count": 30,
     "metadata": {},
     "output_type": "execute_result"
    }
   ],
   "source": [
    "diff(p_conserved_qr.rhs,z).subs([_.args for _ in qr_sols_pm_eqs]).expand()"
   ]
  },
  {
   "cell_type": "markdown",
   "id": "cea85069-d170-4069-b162-59c9a5c72d17",
   "metadata": {},
   "source": [
    "For how to transform the quartic to a cubic see Whittaker and Watson 5th edition 20.6"
   ]
  },
  {
   "cell_type": "code",
   "execution_count": 31,
   "id": "8dfeb98d-9e08-469d-a9a7-5e639e78a353",
   "metadata": {},
   "outputs": [
    {
     "data": {
      "text/latex": [
       "$\\displaystyle \\left(\\frac{d}{d z} q{\\left(z \\right)}\\right)^{2} = - 3 \\alpha^{2} q^{2}{\\left(z \\right)} + 4 \\alpha q^{3}{\\left(z \\right)} + \\frac{2 \\left(\\alpha^{3} + p\\right) q{\\left(z \\right)}}{3} - \\frac{4 q^{4}{\\left(z \\right)}}{3}$"
      ],
      "text/plain": [
       "Eq(Derivative(q(z), z)**2, -3*alpha**2*q(z)**2 + 4*alpha*q(z)**3 + 2*(alpha**3 + p)*q(z)/3 - 4*q(z)**4/3)"
      ]
     },
     "execution_count": 31,
     "metadata": {},
     "output_type": "execute_result"
    }
   ],
   "source": [
    "dq_sqrd = Eq(qr_sols_pm_eqs[0].lhs**2, (qr_sols_pm_eqs[0].rhs**2).factor()).subs(r(z)**2, solve(p_conserved_qr, r(z)**2)[0])\n",
    "dq_sqrd = Eq(dq_sqrd.lhs, dq_sqrd.rhs.expand().collect(q(z), factor))\n",
    "dq_sqrd"
   ]
  },
  {
   "cell_type": "code",
   "execution_count": 32,
   "id": "2d77b184-8949-4302-b511-232bfe5a5357",
   "metadata": {},
   "outputs": [
    {
     "data": {
      "text/latex": [
       "$\\displaystyle 0$"
      ],
      "text/plain": [
       "0"
      ]
     },
     "execution_count": 32,
     "metadata": {},
     "output_type": "execute_result"
    }
   ],
   "source": [
    "coeff_eq_quart_transform = (Derivative(dq_sqrd.rhs,(q(z),n))/factorial(n)).subs(q(z),0)\n",
    "_dfs = [coeff_eq_quart_transform.subs(n,_n).doit() for _n in range(1,5)]\n",
    "dq_sqrd_taylor = Eq(diff(q(z),z)**2, sum([_dfs[n]*(q(z))**(n+1) for n in range(4)]))\n",
    "\n",
    "# coeff_eq_quart_transform\n",
    "# for _df in _dfs:\n",
    "#     _df\n",
    "\n",
    "(dq_sqrd_taylor.rhs - dq_sqrd.rhs).expand()"
   ]
  },
  {
   "cell_type": "code",
   "execution_count": 33,
   "id": "30829e0e-74c4-4521-9a20-117356857338",
   "metadata": {},
   "outputs": [
    {
     "data": {
      "text/latex": [
       "$\\displaystyle q{\\left(z \\right)} = \\frac{4 \\left(\\alpha^{3} + p\\right)}{3 \\left(\\alpha^{2} + 8 w{\\left(z \\right)}\\right)}$"
      ],
      "text/plain": [
       "Eq(q(z), 4*(alpha**3 + p)/(3*(alpha**2 + 8*w(z))))"
      ]
     },
     "execution_count": 33,
     "metadata": {},
     "output_type": "execute_result"
    }
   ],
   "source": [
    "qw_sub = Eq(q(z), _dfs[0] / ( w(z) - _dfs[1] / 24 ) / 4).simplify()\n",
    "qw_sub"
   ]
  },
  {
   "cell_type": "code",
   "execution_count": 34,
   "id": "4520f143-5339-4b7d-9dc4-d65f96def09a",
   "metadata": {},
   "outputs": [
    {
     "data": {
      "text/latex": [
       "$\\displaystyle \\left(\\frac{d}{d z} w{\\left(z \\right)}\\right)^{2} = \\frac{25 \\alpha^{6}}{3456} + \\frac{\\alpha^{3} p}{108} - \\frac{3 \\alpha^{2} w^{2}{\\left(z \\right)}}{2} + \\left(\\frac{5 \\alpha^{4}}{48} + \\frac{2 \\alpha p}{3}\\right) w{\\left(z \\right)} + 4 w^{3}{\\left(z \\right)} - \\frac{p^{2}}{27}$"
      ],
      "text/plain": [
       "Eq(Derivative(w(z), z)**2, 25*alpha**6/3456 + alpha**3*p/108 - 3*alpha**2*w(z)**2/2 + (5*alpha**4/48 + 2*alpha*p/3)*w(z) + 4*w(z)**3 - p**2/27)"
      ]
     },
     "execution_count": 34,
     "metadata": {},
     "output_type": "execute_result"
    }
   ],
   "source": [
    "dwsqrd = Eq(diff(w(z),z)**2, solve(dq_sqrd.subs(*qw_sub.args).doit(), diff(w(z),z)**2)[0].expand().simplify().collect(w(z)))\n",
    "dwsqrd"
   ]
  },
  {
   "cell_type": "code",
   "execution_count": 35,
   "id": "7683c020-b96f-4970-8146-73dc745e4bf5",
   "metadata": {},
   "outputs": [
    {
     "data": {
      "text/latex": [
       "$\\displaystyle w{\\left(z \\right)} = \\frac{\\alpha^{2}}{8} + W_{2}{\\left(z \\right)}$"
      ],
      "text/plain": [
       "Eq(w(z), alpha**2/8 + W2(z))"
      ]
     },
     "execution_count": 35,
     "metadata": {},
     "output_type": "execute_result"
    }
   ],
   "source": [
    "w_W2_sub = Eq(w(z), W2(z) + alpha**2/8)\n",
    "w_W2_sub"
   ]
  },
  {
   "cell_type": "code",
   "execution_count": 36,
   "id": "e156f6f6-74d0-41d8-90a5-87ff9291082a",
   "metadata": {},
   "outputs": [
    {
     "data": {
      "text/latex": [
       "$\\displaystyle \\left(\\frac{d}{d z} W_{2}{\\left(z \\right)}\\right)^{2} = \\frac{\\alpha \\left(- \\alpha^{3} + 8 p\\right) W_{2}{\\left(z \\right)}}{12} - \\frac{- \\alpha^{6} - 20 \\alpha^{3} p + 8 p^{2}}{216} + 4 W_{2}^{3}{\\left(z \\right)}$"
      ],
      "text/plain": [
       "Eq(Derivative(W2(z), z)**2, alpha*(-alpha**3 + 8*p)*W2(z)/12 - (-alpha**6 - 20*alpha**3*p + 8*p**2)/216 + 4*W2(z)**3)"
      ]
     },
     "execution_count": 36,
     "metadata": {},
     "output_type": "execute_result"
    }
   ],
   "source": [
    "dW2_sqrd = Eq(dwsqrd.lhs.subs(*w_W2_sub.args).doit(), dwsqrd.rhs.subs(*w_W2_sub.args).expand().collect(W2(z), factor))\n",
    "dW2_sqrd"
   ]
  },
  {
   "cell_type": "markdown",
   "id": "765ac289-3238-4937-be16-00a195def5a6",
   "metadata": {},
   "source": [
    "In the below expressions, $h_2$ and $h_3$ are the elliptic invariants denoted using $h$ here to differentiate them with the other elliptic invariants used elsewhere in this notebook which are denoted with the conventional $g_2, g_3$. That these are not equivalent, as determined by expressing $g_2, g_3, h_2, h_3$ in terms of $\\alpha$ and $p$, is of some signifigance and worthy of further exploration particularly as they do not appear to have the same value for the $j$ invariant."
   ]
  },
  {
   "cell_type": "code",
   "execution_count": 37,
   "id": "2eafb028-6477-4563-b1b1-bb1d141f6367",
   "metadata": {},
   "outputs": [
    {
     "data": {
      "text/latex": [
       "$\\displaystyle W_{2}{\\left(z \\right)} = \\operatorname{pw}{\\left(- \\delta_{0} + z,h_{2},h_{3} \\right)}$"
      ],
      "text/plain": [
       "Eq(W2(z), pw(-delta0 + z, h2, h3))"
      ]
     },
     "execution_count": 37,
     "metadata": {},
     "output_type": "execute_result"
    },
    {
     "data": {
      "text/latex": [
       "$\\displaystyle h_{2} = \\frac{\\alpha^{4}}{12} - \\frac{2 \\alpha p}{3}$"
      ],
      "text/plain": [
       "Eq(h2, alpha**4/12 - 2*alpha*p/3)"
      ]
     },
     "execution_count": 37,
     "metadata": {},
     "output_type": "execute_result"
    },
    {
     "data": {
      "text/latex": [
       "$\\displaystyle h_{3} = - \\frac{\\alpha^{6}}{216} - \\frac{5 \\alpha^{3} p}{54} + \\frac{p^{2}}{27}$"
      ],
      "text/plain": [
       "Eq(h3, -alpha**6/216 - 5*alpha**3*p/54 + p**2/27)"
      ]
     },
     "execution_count": 37,
     "metadata": {},
     "output_type": "execute_result"
    }
   ],
   "source": [
    "W2_pw = Eq(W2(z), pw(z-delta0,h2,h3))\n",
    "h2_p = Eq(h2, -dW2_sqrd.rhs.coeff(W2(z))).expand()\n",
    "h3_p = Eq(h3, -dW2_sqrd.rhs.subs(W2(z),0)).expand()\n",
    "W2_pw\n",
    "h2_p\n",
    "h3_p"
   ]
  },
  {
   "cell_type": "code",
   "execution_count": 38,
   "id": "9d3a7166-f98a-4f3c-b13a-92a3130c81d8",
   "metadata": {},
   "outputs": [
    {
     "data": {
      "text/latex": [
       "$\\displaystyle \\frac{\\alpha \\left(\\alpha - 2\\right) \\left(\\alpha^{2} + 2 \\alpha + 4\\right)}{12}$"
      ],
      "text/plain": [
       "alpha*(alpha - 2)*(alpha**2 + 2*alpha + 4)/12"
      ]
     },
     "execution_count": 38,
     "metadata": {},
     "output_type": "execute_result"
    },
    {
     "data": {
      "text/latex": [
       "$\\displaystyle - \\frac{\\left(\\alpha^{2} + 2 \\alpha - 2\\right) \\left(\\alpha^{4} - 2 \\alpha^{3} + 6 \\alpha^{2} + 4 \\alpha + 4\\right)}{216}$"
      ],
      "text/plain": [
       "-(alpha**2 + 2*alpha - 2)*(alpha**4 - 2*alpha**3 + 6*alpha**2 + 4*alpha + 4)/216"
      ]
     },
     "execution_count": 38,
     "metadata": {},
     "output_type": "execute_result"
    }
   ],
   "source": [
    "h2_p.subs(p,1).rhs.factor()\n",
    "h3_p.subs(p,1).rhs.factor()"
   ]
  },
  {
   "cell_type": "code",
   "execution_count": 39,
   "id": "2f552fdf-f35d-4112-9bb7-b841175c09e4",
   "metadata": {},
   "outputs": [
    {
     "data": {
      "text/latex": [
       "$\\displaystyle q{\\left(z \\right)} = \\frac{2 \\left(\\alpha^{3} + p\\right)}{3 \\left(\\alpha^{2} + 4 W_{2}{\\left(z \\right)}\\right)}$"
      ],
      "text/plain": [
       "Eq(q(z), 2*(alpha**3 + p)/(3*(alpha**2 + 4*W2(z))))"
      ]
     },
     "execution_count": 39,
     "metadata": {},
     "output_type": "execute_result"
    }
   ],
   "source": [
    "qW2 = qw_sub.subs(*w_W2_sub.args).simplify()\n",
    "qW2"
   ]
  },
  {
   "cell_type": "code",
   "execution_count": 40,
   "id": "9898a0f5-5aaf-475b-b55a-c8b144b4625c",
   "metadata": {},
   "outputs": [
    {
     "data": {
      "text/latex": [
       "$\\displaystyle r{\\left(z \\right)} = \\frac{2 \\frac{d}{d z} W_{2}{\\left(z \\right)}}{\\alpha^{2} + 4 W_{2}{\\left(z \\right)}}$"
      ],
      "text/plain": [
       "Eq(r(z), 2*Derivative(W2(z), z)/(alpha**2 + 4*W2(z)))"
      ]
     },
     "execution_count": 40,
     "metadata": {},
     "output_type": "execute_result"
    }
   ],
   "source": [
    "r_log_diff_q = Eq(r(z), solve(qr_sols_pm_eqs[0],r(z))[0]).subs(*qW2.args).doit()\n",
    "r_log_diff_q"
   ]
  },
  {
   "cell_type": "code",
   "execution_count": 41,
   "id": "bbc543fa-9d2e-404f-9b68-7e76568d219e",
   "metadata": {},
   "outputs": [
    {
     "data": {
      "text/latex": [
       "$\\displaystyle u{\\left(z \\right)} = - \\frac{\\alpha}{2} + \\frac{2 \\left(\\alpha^{3} + p\\right)}{3 \\left(\\alpha^{2} + 4 \\operatorname{pw}{\\left(- \\delta_{0} + z,h_{2},h_{3} \\right)}\\right)} - \\frac{2 \\operatorname{pwp}{\\left(- \\delta_{0} + z,h_{2},h_{3} \\right)}}{\\alpha^{2} + 4 \\operatorname{pw}{\\left(- \\delta_{0} + z,h_{2},h_{3} \\right)}}$"
      ],
      "text/plain": [
       "Eq(u(z), -alpha/2 + 2*(alpha**3 + p)/(3*(alpha**2 + 4*pw(-delta0 + z, h2, h3))) - 2*pwp(-delta0 + z, h2, h3)/(alpha**2 + 4*pw(-delta0 + z, h2, h3)))"
      ]
     },
     "execution_count": 41,
     "metadata": {},
     "output_type": "execute_result"
    },
    {
     "data": {
      "text/latex": [
       "$\\displaystyle v{\\left(z \\right)} = - \\frac{\\alpha}{2} + \\frac{2 \\left(\\alpha^{3} + p\\right)}{3 \\left(\\alpha^{2} + 4 \\operatorname{pw}{\\left(- \\delta_{0} + z,h_{2},h_{3} \\right)}\\right)} + \\frac{2 \\operatorname{pwp}{\\left(- \\delta_{0} + z,h_{2},h_{3} \\right)}}{\\alpha^{2} + 4 \\operatorname{pw}{\\left(- \\delta_{0} + z,h_{2},h_{3} \\right)}}$"
      ],
      "text/plain": [
       "Eq(v(z), -alpha/2 + 2*(alpha**3 + p)/(3*(alpha**2 + 4*pw(-delta0 + z, h2, h3))) + 2*pwp(-delta0 + z, h2, h3)/(alpha**2 + 4*pw(-delta0 + z, h2, h3)))"
      ]
     },
     "execution_count": 41,
     "metadata": {},
     "output_type": "execute_result"
    }
   ],
   "source": [
    "rqW_subs = [qW2.args, r_log_diff_q.args]\n",
    "u_W2 = u_q_min_r.subs(rqW_subs).subs(*W2_pw.args).subs(Derivative(pw(z-delta0,h2,h3),z), pwp(z-delta0,h2,h3))\n",
    "v_W2 = v_q_plus_r.subs(rqW_subs).subs(*W2_pw.args).subs(Derivative(pw(z-delta0,h2,h3),z), pwp(z-delta0,h2,h3))\n",
    "u_W2\n",
    "v_W2"
   ]
  },
  {
   "cell_type": "code",
   "execution_count": 42,
   "id": "c1d243fb-37fa-439e-9dc8-963a12e2d78b",
   "metadata": {},
   "outputs": [
    {
     "data": {
      "text/latex": [
       "$\\displaystyle \\operatorname{pw}{\\left(\\mu,h_{2},h_{3} \\right)} = - \\frac{\\alpha^{2}}{4}$"
      ],
      "text/plain": [
       "Eq(pw(mu, h2, h3), -alpha**2/4)"
      ]
     },
     "execution_count": 42,
     "metadata": {},
     "output_type": "execute_result"
    },
    {
     "data": {
      "text/latex": [
       "$\\displaystyle \\operatorname{pwp}{\\left(\\mu,h_{2},h_{3} \\right)} = \\frac{\\sqrt{3} i \\left(\\alpha^{3} + p\\right)}{9}$"
      ],
      "text/plain": [
       "Eq(pwp(mu, h2, h3), sqrt(3)*I*(alpha**3 + p)/9)"
      ]
     },
     "execution_count": 42,
     "metadata": {},
     "output_type": "execute_result"
    }
   ],
   "source": [
    "pw_mu_alpha = Eq(pw(mu, h2,h3), -alpha**2/4)\n",
    "pwp_mu_alpha = Eq(pwp(mu,h2,h3), I*(alpha**3+p)/sqrt(27))\n",
    "pw_mu_alpha\n",
    "pwp_mu_alpha"
   ]
  },
  {
   "cell_type": "code",
   "execution_count": 43,
   "id": "3da62896-3aab-446b-805f-3b10a5002c6a",
   "metadata": {},
   "outputs": [
    {
     "data": {
      "text/latex": [
       "$\\displaystyle u{\\left(z \\right)} = - \\frac{\\alpha}{2} - \\frac{2 \\operatorname{pwp}{\\left(- \\delta_{0} + z,h_{2},h_{3} \\right)}}{4 \\operatorname{pw}{\\left(- \\delta_{0} + z,h_{2},h_{3} \\right)} - 4 \\operatorname{pw}{\\left(\\mu,h_{2},h_{3} \\right)}} - \\frac{2 \\sqrt{3} i \\operatorname{pwp}{\\left(\\mu,h_{2},h_{3} \\right)}}{4 \\operatorname{pw}{\\left(- \\delta_{0} + z,h_{2},h_{3} \\right)} - 4 \\operatorname{pw}{\\left(\\mu,h_{2},h_{3} \\right)}}$"
      ],
      "text/plain": [
       "Eq(u(z), -alpha/2 - 2*pwp(-delta0 + z, h2, h3)/(4*pw(-delta0 + z, h2, h3) - 4*pw(mu, h2, h3)) - 2*sqrt(3)*I*pwp(mu, h2, h3)/(4*pw(-delta0 + z, h2, h3) - 4*pw(mu, h2, h3)))"
      ]
     },
     "execution_count": 43,
     "metadata": {},
     "output_type": "execute_result"
    },
    {
     "data": {
      "text/latex": [
       "$\\displaystyle v{\\left(z \\right)} = - \\frac{\\alpha}{2} + \\frac{2 \\operatorname{pwp}{\\left(- \\delta_{0} + z,h_{2},h_{3} \\right)}}{4 \\operatorname{pw}{\\left(- \\delta_{0} + z,h_{2},h_{3} \\right)} - 4 \\operatorname{pw}{\\left(\\mu,h_{2},h_{3} \\right)}} - \\frac{2 \\sqrt{3} i \\operatorname{pwp}{\\left(\\mu,h_{2},h_{3} \\right)}}{4 \\operatorname{pw}{\\left(- \\delta_{0} + z,h_{2},h_{3} \\right)} - 4 \\operatorname{pw}{\\left(\\mu,h_{2},h_{3} \\right)}}$"
      ],
      "text/plain": [
       "Eq(v(z), -alpha/2 + 2*pwp(-delta0 + z, h2, h3)/(4*pw(-delta0 + z, h2, h3) - 4*pw(mu, h2, h3)) - 2*sqrt(3)*I*pwp(mu, h2, h3)/(4*pw(-delta0 + z, h2, h3) - 4*pw(mu, h2, h3)))"
      ]
     },
     "execution_count": 43,
     "metadata": {},
     "output_type": "execute_result"
    }
   ],
   "source": [
    "p_alpha_wp_wpp_subs = [(alpha**2, solve(pw_mu_alpha, alpha**2)[0]), (p, solve(pwp_mu_alpha,p)[0])]\n",
    "u_W2.subs(p_alpha_wp_wpp_subs)\n",
    "v_W2.subs(p_alpha_wp_wpp_subs)"
   ]
  },
  {
   "cell_type": "code",
   "execution_count": 44,
   "id": "e04c6b00-a748-49ed-8071-44ed025e0462",
   "metadata": {},
   "outputs": [
    {
     "data": {
      "text/latex": [
       "$\\displaystyle e^{\\frac{2 i \\pi}{3}} = - \\frac{1}{2} + \\frac{\\sqrt{3} i}{2}$"
      ],
      "text/plain": [
       "Eq(exp(2*I*pi/3), -1/2 + sqrt(3)*I/2)"
      ]
     },
     "execution_count": 44,
     "metadata": {},
     "output_type": "execute_result"
    },
    {
     "data": {
      "text/latex": [
       "$\\displaystyle e^{- \\frac{2 i \\pi}{3}} = - \\frac{1}{2} - \\frac{\\sqrt{3} i}{2}$"
      ],
      "text/plain": [
       "Eq(exp(-2*I*pi/3), -1/2 - sqrt(3)*I/2)"
      ]
     },
     "execution_count": 44,
     "metadata": {},
     "output_type": "execute_result"
    },
    {
     "data": {
      "text/latex": [
       "$\\displaystyle u{\\left(z \\right)} = - \\frac{\\alpha}{2} + \\frac{\\left(\\operatorname{pwp}{\\left(- \\delta_{0} + z,h_{2},h_{3} \\right)} - \\operatorname{pwp}{\\left(\\mu,h_{2},h_{3} \\right)}\\right) e^{\\frac{2 i \\pi}{3}}}{2 \\left(\\operatorname{pw}{\\left(- \\delta_{0} + z,h_{2},h_{3} \\right)} - \\operatorname{pw}{\\left(\\mu,h_{2},h_{3} \\right)}\\right)} + \\frac{\\left(\\operatorname{pwp}{\\left(- \\delta_{0} + z,h_{2},h_{3} \\right)} + \\operatorname{pwp}{\\left(\\mu,h_{2},h_{3} \\right)}\\right) e^{- \\frac{2 i \\pi}{3}}}{2 \\left(\\operatorname{pw}{\\left(- \\delta_{0} + z,h_{2},h_{3} \\right)} - \\operatorname{pw}{\\left(\\mu,h_{2},h_{3} \\right)}\\right)}$"
      ],
      "text/plain": [
       "Eq(u(z), -alpha/2 + (pwp(-delta0 + z, h2, h3) - pwp(mu, h2, h3))*exp(2*I*pi/3)/(2*(pw(-delta0 + z, h2, h3) - pw(mu, h2, h3))) + (pwp(-delta0 + z, h2, h3) + pwp(mu, h2, h3))*exp(-2*I*pi/3)/(2*(pw(-delta0 + z, h2, h3) - pw(mu, h2, h3))))"
      ]
     },
     "execution_count": 44,
     "metadata": {},
     "output_type": "execute_result"
    },
    {
     "data": {
      "text/latex": [
       "$\\displaystyle v{\\left(z \\right)} = - \\frac{\\alpha}{2} - \\frac{\\left(\\operatorname{pwp}{\\left(- \\delta_{0} + z,h_{2},h_{3} \\right)} - \\operatorname{pwp}{\\left(\\mu,h_{2},h_{3} \\right)}\\right) e^{- \\frac{2 i \\pi}{3}}}{2 \\left(\\operatorname{pw}{\\left(- \\delta_{0} + z,h_{2},h_{3} \\right)} - \\operatorname{pw}{\\left(\\mu,h_{2},h_{3} \\right)}\\right)} - \\frac{\\left(\\operatorname{pwp}{\\left(- \\delta_{0} + z,h_{2},h_{3} \\right)} + \\operatorname{pwp}{\\left(\\mu,h_{2},h_{3} \\right)}\\right) e^{\\frac{2 i \\pi}{3}}}{2 \\left(\\operatorname{pw}{\\left(- \\delta_{0} + z,h_{2},h_{3} \\right)} - \\operatorname{pw}{\\left(\\mu,h_{2},h_{3} \\right)}\\right)}$"
      ],
      "text/plain": [
       "Eq(v(z), -alpha/2 - (pwp(-delta0 + z, h2, h3) - pwp(mu, h2, h3))*exp(-2*I*pi/3)/(2*(pw(-delta0 + z, h2, h3) - pw(mu, h2, h3))) - (pwp(-delta0 + z, h2, h3) + pwp(mu, h2, h3))*exp(2*I*pi/3)/(2*(pw(-delta0 + z, h2, h3) - pw(mu, h2, h3))))"
      ]
     },
     "execution_count": 44,
     "metadata": {},
     "output_type": "execute_result"
    },
    {
     "data": {
      "text/latex": [
       "$\\displaystyle u{\\left(z \\right)} = - \\frac{\\alpha}{2} + \\left(- \\operatorname{zw}{\\left(- \\delta_{0} + z,h_{2},h_{3} \\right)} + \\operatorname{zw}{\\left(- \\delta_{0} + z - \\mu,h_{2},h_{3} \\right)} - \\operatorname{zw}{\\left(- \\mu,h_{2},h_{3} \\right)}\\right) e^{- \\frac{2 i \\pi}{3}} + \\left(- \\operatorname{zw}{\\left(- \\delta_{0} + z,h_{2},h_{3} \\right)} + \\operatorname{zw}{\\left(- \\delta_{0} + z + \\mu,h_{2},h_{3} \\right)} - \\operatorname{zw}{\\left(\\mu,h_{2},h_{3} \\right)}\\right) e^{\\frac{2 i \\pi}{3}}$"
      ],
      "text/plain": [
       "Eq(u(z), -alpha/2 + (-zw(-delta0 + z, h2, h3) + zw(-delta0 + z - mu, h2, h3) - zw(-mu, h2, h3))*exp(-2*I*pi/3) + (-zw(-delta0 + z, h2, h3) + zw(-delta0 + z + mu, h2, h3) - zw(mu, h2, h3))*exp(2*I*pi/3))"
      ]
     },
     "execution_count": 44,
     "metadata": {},
     "output_type": "execute_result"
    },
    {
     "data": {
      "text/latex": [
       "$\\displaystyle v{\\left(z \\right)} = - \\frac{\\alpha}{2} - \\left(- \\operatorname{zw}{\\left(- \\delta_{0} + z,h_{2},h_{3} \\right)} + \\operatorname{zw}{\\left(- \\delta_{0} + z - \\mu,h_{2},h_{3} \\right)} - \\operatorname{zw}{\\left(- \\mu,h_{2},h_{3} \\right)}\\right) e^{\\frac{2 i \\pi}{3}} - \\left(- \\operatorname{zw}{\\left(- \\delta_{0} + z,h_{2},h_{3} \\right)} + \\operatorname{zw}{\\left(- \\delta_{0} + z + \\mu,h_{2},h_{3} \\right)} - \\operatorname{zw}{\\left(\\mu,h_{2},h_{3} \\right)}\\right) e^{- \\frac{2 i \\pi}{3}}$"
      ],
      "text/plain": [
       "Eq(v(z), -alpha/2 - (-zw(-delta0 + z, h2, h3) + zw(-delta0 + z - mu, h2, h3) - zw(-mu, h2, h3))*exp(2*I*pi/3) - (-zw(-delta0 + z, h2, h3) + zw(-delta0 + z + mu, h2, h3) - zw(mu, h2, h3))*exp(-2*I*pi/3))"
      ]
     },
     "execution_count": 44,
     "metadata": {},
     "output_type": "execute_result"
    }
   ],
   "source": [
    "Eq(exp(2*I*pi/3),(-1+I*sqrt(3))/2)\n",
    "Eq(exp(-2*I*pi/3),-(1+I*sqrt(3))/2)\n",
    "sqrt3_exp_id = Eq(I*sqrt(3)*Y,  X + exp(-2*I*pi/3)*(X-Y) + exp(2*I*pi/3)*(X+Y))\n",
    "\n",
    "_u_exp_pw_pwp = u_W2.subs(p_alpha_wp_wpp_subs).subs(*sqrt3_exp_id.subs([(X,-pwp(z-delta0, h2, h3)),(Y,pwp(mu, h2, h3))]).args)\n",
    "_u_exp_pw_pwp = Eq(_u_exp_pw_pwp.lhs, _u_exp_pw_pwp.rhs.expand().collect([exp(2*I*pi/3), exp(2*I*pi/3), alpha], factor))\n",
    "_v_exp_pw_pwp = v_W2.subs(p_alpha_wp_wpp_subs).subs(*sqrt3_exp_id.subs([(X,pwp(z-delta0, h2, h3)),(Y,pwp(mu, h2, h3))]).args)\n",
    "_v_exp_pw_pwp = Eq(_v_exp_pw_pwp.lhs, _v_exp_pw_pwp.rhs.expand().collect([exp(2*I*pi/3), exp(2*I*pi/3), alpha], factor))\n",
    "\n",
    "_u_exp_zw = Eq(_u_exp_pw_pwp.lhs, _u_exp_pw_pwp.rhs +\n",
    "   (pw_to_zw_identity.rhs*exp(2*I*pi/3) - pw_to_zw_identity.lhs*exp(2*I*pi/3))\n",
    "   .subs([(x,z-delta0), (y, mu), (g2, h2), (g3, h3)])\n",
    "   .subs([(pw(-mu,h2,h3), pw(mu,h2,h3)),(pwp(-mu,h2,h3), -pwp(mu,h2,h3))]) +\n",
    "   (pw_to_zw_identity.rhs*exp(-2*I*pi/3) - pw_to_zw_identity.lhs*exp(-2*I*pi/3))\n",
    "   .subs([(x,z-delta0), (y, -mu), (g2, h2), (g3, h3)])\n",
    "   .subs([(pw(-mu,h2,h3), pw(mu,h2,h3)),(pwp(-mu,h2,h3), -pwp(mu,h2,h3))])\n",
    "   \n",
    "  )\n",
    "_v_exp_zw = Eq(_v_exp_pw_pwp.lhs, _v_exp_pw_pwp.rhs - \n",
    "   (pw_to_zw_identity.rhs*exp(2*I*pi/3) - pw_to_zw_identity.lhs*exp(2*I*pi/3))\n",
    "   .subs([(x,z-delta0), (y, -mu), (g2, h2), (g3, h3)])\n",
    "   .subs([(pw(-mu,h2,h3), pw(mu,h2,h3)),(pwp(-mu,h2,h3), -pwp(mu,h2,h3))]) -\n",
    "   (pw_to_zw_identity.rhs*exp(-2*I*pi/3) - pw_to_zw_identity.lhs*exp(-2*I*pi/3))\n",
    "   .subs([(x,z-delta0), (y, mu), (g2, h2), (g3, h3)])\n",
    "   .subs([(pw(-mu,h2,h3), pw(mu,h2,h3)),(pwp(-mu,h2,h3), -pwp(mu,h2,h3))])\n",
    "   \n",
    "  )\n",
    "\n",
    "_u_exp_pw_pwp\n",
    "_v_exp_pw_pwp\n",
    "\n",
    "_u_exp_zw\n",
    "_v_exp_zw"
   ]
  },
  {
   "cell_type": "code",
   "execution_count": 45,
   "id": "559a660f-09be-4fd9-af46-f4e33b6e1c67",
   "metadata": {},
   "outputs": [
    {
     "data": {
      "text/latex": [
       "$\\displaystyle u{\\left(z \\right)} v{\\left(z \\right)} = \\left(- \\frac{\\alpha}{2} + \\frac{2 \\left(\\alpha^{3} + p\\right)}{3 \\left(\\alpha^{2} + 4 \\operatorname{pw}{\\left(- \\delta_{0} + z,h_{2},h_{3} \\right)}\\right)}\\right)^{2} - \\frac{4 \\operatorname{pwp}^{2}{\\left(- \\delta_{0} + z,h_{2},h_{3} \\right)}}{\\left(\\alpha^{2} + 4 \\operatorname{pw}{\\left(- \\delta_{0} + z,h_{2},h_{3} \\right)}\\right)^{2}}$"
      ],
      "text/plain": [
       "Eq(u(z)*v(z), (-alpha/2 + 2*(alpha**3 + p)/(3*(alpha**2 + 4*pw(-delta0 + z, h2, h3))))**2 - 4*pwp(-delta0 + z, h2, h3)**2/(alpha**2 + 4*pw(-delta0 + z, h2, h3))**2)"
      ]
     },
     "execution_count": 45,
     "metadata": {},
     "output_type": "execute_result"
    },
    {
     "data": {
      "text/latex": [
       "$\\displaystyle 0$"
      ],
      "text/plain": [
       "0"
      ]
     },
     "execution_count": 45,
     "metadata": {},
     "output_type": "execute_result"
    }
   ],
   "source": [
    "uv_W2 = Eq(u_W2.lhs*v_W2.lhs, (u_W2.rhs.args[0] + u_W2.rhs.args[2]) ** 2 - u_W2.rhs.args[1] ** 2)\n",
    "uv_W2\n",
    "(uv_W2.rhs - u_W2.rhs*v_W2.rhs).simplify()"
   ]
  },
  {
   "cell_type": "code",
   "execution_count": 46,
   "id": "95e90e4a-1b04-42f2-a9a1-8f72fec607b0",
   "metadata": {},
   "outputs": [
    {
     "data": {
      "text/latex": [
       "$\\displaystyle \\operatorname{pw}{\\left(- \\delta_{0} + z,h_{2},h_{3} \\right)} = \\frac{\\frac{\\alpha^{3}}{12} - \\frac{\\alpha^{2} u{\\left(z \\right)}}{4} - \\frac{\\alpha^{2} v{\\left(z \\right)}}{4} + \\frac{p}{3}}{\\alpha + u{\\left(z \\right)} + v{\\left(z \\right)}}$"
      ],
      "text/plain": [
       "Eq(pw(-delta0 + z, h2, h3), (alpha**3/12 - alpha**2*u(z)/4 - alpha**2*v(z)/4 + p/3)/(alpha + u(z) + v(z)))"
      ]
     },
     "execution_count": 46,
     "metadata": {},
     "output_type": "execute_result"
    },
    {
     "data": {
      "text/latex": [
       "$\\displaystyle \\operatorname{pwp}{\\left(- \\delta_{0} + z,h_{2},h_{3} \\right)} = - \\frac{\\alpha^{3} u{\\left(z \\right)}}{3 \\alpha + 3 u{\\left(z \\right)} + 3 v{\\left(z \\right)}} + \\frac{\\alpha^{3} v{\\left(z \\right)}}{3 \\alpha + 3 u{\\left(z \\right)} + 3 v{\\left(z \\right)}} - \\frac{u{\\left(z \\right)} p}{3 \\alpha + 3 u{\\left(z \\right)} + 3 v{\\left(z \\right)}} + \\frac{v{\\left(z \\right)} p}{3 \\alpha + 3 u{\\left(z \\right)} + 3 v{\\left(z \\right)}}$"
      ],
      "text/plain": [
       "Eq(pwp(-delta0 + z, h2, h3), -alpha**3*u(z)/(3*alpha + 3*u(z) + 3*v(z)) + alpha**3*v(z)/(3*alpha + 3*u(z) + 3*v(z)) - u(z)*p/(3*alpha + 3*u(z) + 3*v(z)) + v(z)*p/(3*alpha + 3*u(z) + 3*v(z)))"
      ]
     },
     "execution_count": 46,
     "metadata": {},
     "output_type": "execute_result"
    }
   ],
   "source": [
    "pw_uv = Eq(pw(z-delta0,h2,h3), solve(u_W2.lhs + v_W2.lhs - u_W2.rhs - v_W2.rhs, pw(z-delta0,h2,h3))[0])\n",
    "pwp_uv = Eq(pwp(z-delta0,h2,h3), solve(u_W2.lhs - v_W2.lhs - u_W2.rhs + v_W2.rhs, pwp(z-delta0,h2,h3))[0]).subs(*pw_uv.args).simplify().expand()\n",
    "pw_uv\n",
    "pwp_uv"
   ]
  },
  {
   "cell_type": "code",
   "execution_count": 47,
   "id": "20b65792-5f96-414d-94c0-ebf343095865",
   "metadata": {},
   "outputs": [
    {
     "data": {
      "text/latex": [
       "$\\displaystyle \\operatorname{pw}{\\left(- \\delta_{0} + z,h_{2},h_{3} \\right)} = \\frac{\\alpha^{2}}{12} - \\frac{\\alpha u{\\left(z \\right)}}{3} - \\frac{\\alpha v{\\left(z \\right)}}{3} + \\frac{u^{2}{\\left(z \\right)}}{3} - \\frac{u{\\left(z \\right)} v{\\left(z \\right)}}{3} + \\frac{v^{2}{\\left(z \\right)}}{3}$"
      ],
      "text/plain": [
       "Eq(pw(-delta0 + z, h2, h3), alpha**2/12 - alpha*u(z)/3 - alpha*v(z)/3 + u(z)**2/3 - u(z)*v(z)/3 + v(z)**2/3)"
      ]
     },
     "execution_count": 47,
     "metadata": {},
     "output_type": "execute_result"
    },
    {
     "data": {
      "text/latex": [
       "$\\displaystyle \\operatorname{pwp}{\\left(- \\delta_{0} + z,h_{2},h_{3} \\right)} = - \\frac{\\alpha^{2} u{\\left(z \\right)}}{3} + \\frac{\\alpha^{2} v{\\left(z \\right)}}{3} + \\frac{\\alpha u^{2}{\\left(z \\right)}}{3} - \\frac{\\alpha v^{2}{\\left(z \\right)}}{3} - \\frac{u^{3}{\\left(z \\right)}}{3} + \\frac{2 u^{2}{\\left(z \\right)} v{\\left(z \\right)}}{3} - \\frac{2 u{\\left(z \\right)} v^{2}{\\left(z \\right)}}{3} + \\frac{v^{3}{\\left(z \\right)}}{3}$"
      ],
      "text/plain": [
       "Eq(pwp(-delta0 + z, h2, h3), -alpha**2*u(z)/3 + alpha**2*v(z)/3 + alpha*u(z)**2/3 - alpha*v(z)**2/3 - u(z)**3/3 + 2*u(z)**2*v(z)/3 - 2*u(z)*v(z)**2/3 + v(z)**3/3)"
      ]
     },
     "execution_count": 47,
     "metadata": {},
     "output_type": "execute_result"
    }
   ],
   "source": [
    "pw_uv_no_p = pw_uv.subs(*p_conserved.args).simplify()\n",
    "pwp_uv_no_p = pwp_uv.subs(*p_conserved.args).simplify()\n",
    "pw_uv_no_p\n",
    "pwp_uv_no_p"
   ]
  },
  {
   "cell_type": "code",
   "execution_count": 48,
   "id": "35aad161-cc41-44c0-8f50-30f0d3a058f8",
   "metadata": {},
   "outputs": [
    {
     "data": {
      "text/latex": [
       "$\\displaystyle \\operatorname{pw}{\\left(\\delta_{0},h_{2},h_{3} \\right)} = \\frac{\\alpha^{2}}{12} - \\frac{\\alpha u{\\left(0 \\right)}}{3} - \\frac{\\alpha v{\\left(0 \\right)}}{3} + \\frac{u^{2}{\\left(0 \\right)}}{3} - \\frac{u{\\left(0 \\right)} v{\\left(0 \\right)}}{3} + \\frac{v^{2}{\\left(0 \\right)}}{3}$"
      ],
      "text/plain": [
       "Eq(pw(delta0, h2, h3), alpha**2/12 - alpha*u(0)/3 - alpha*v(0)/3 + u(0)**2/3 - u(0)*v(0)/3 + v(0)**2/3)"
      ]
     },
     "execution_count": 48,
     "metadata": {},
     "output_type": "execute_result"
    },
    {
     "data": {
      "text/latex": [
       "$\\displaystyle \\operatorname{pwp}{\\left(\\delta_{0},h_{2},h_{3} \\right)} = \\frac{\\alpha^{2} u{\\left(0 \\right)}}{3} - \\frac{\\alpha^{2} v{\\left(0 \\right)}}{3} - \\frac{\\alpha u^{2}{\\left(0 \\right)}}{3} + \\frac{\\alpha v^{2}{\\left(0 \\right)}}{3} + \\frac{u^{3}{\\left(0 \\right)}}{3} - \\frac{2 u^{2}{\\left(0 \\right)} v{\\left(0 \\right)}}{3} + \\frac{2 u{\\left(0 \\right)} v^{2}{\\left(0 \\right)}}{3} - \\frac{v^{3}{\\left(0 \\right)}}{3}$"
      ],
      "text/plain": [
       "Eq(pwp(delta0, h2, h3), alpha**2*u(0)/3 - alpha**2*v(0)/3 - alpha*u(0)**2/3 + alpha*v(0)**2/3 + u(0)**3/3 - 2*u(0)**2*v(0)/3 + 2*u(0)*v(0)**2/3 - v(0)**3/3)"
      ]
     },
     "execution_count": 48,
     "metadata": {},
     "output_type": "execute_result"
    }
   ],
   "source": [
    "pw_uv_0 = pw_uv.subs(z,0).subs(pw(-delta0,h2,h3), pw(delta0,h2,h3)).subs(*p_conserved.subs(z,0).args).simplify()\n",
    "pwp_uv_0 = pwp_uv.subs(z,0).subs(pwp(-delta0,h2,h3), -pwp(delta0,h2,h3)).subs(*p_conserved.subs(z,0).args).simplify()\n",
    "pw_uv_0\n",
    "pwp_uv_0"
   ]
  },
  {
   "cell_type": "code",
   "execution_count": 49,
   "id": "d9ba1428-092f-4124-821d-05badcafff48",
   "metadata": {},
   "outputs": [
    {
     "data": {
      "text/latex": [
       "$\\displaystyle 0$"
      ],
      "text/plain": [
       "0"
      ]
     },
     "execution_count": 49,
     "metadata": {},
     "output_type": "execute_result"
    }
   ],
   "source": [
    "((pwp_uv_0.lhs**2 - 4*pw_uv_0.lhs**3 + pw_uv_0.lhs*h2 + h3)\n",
    " .subs([pw_uv_0.args, pwp_uv_0.args])\n",
    " .subs([h2_p.args, h3_p.args])\n",
    " .subs(*p_conserved.subs(z,0).args)\n",
    " .expand().simplify()\n",
    ")"
   ]
  },
  {
   "cell_type": "markdown",
   "id": "f571cd17",
   "metadata": {},
   "source": [
    "### Enforcing Dixon's initial conditions"
   ]
  },
  {
   "cell_type": "code",
   "execution_count": 50,
   "id": "75f51b39",
   "metadata": {},
   "outputs": [
    {
     "data": {
      "text/latex": [
       "$\\displaystyle h_{2} = \\frac{\\alpha^{4}}{12} - \\frac{2 \\alpha}{3}$"
      ],
      "text/plain": [
       "Eq(h2, alpha**4/12 - 2*alpha/3)"
      ]
     },
     "execution_count": 50,
     "metadata": {},
     "output_type": "execute_result"
    },
    {
     "data": {
      "text/latex": [
       "$\\displaystyle h_{3} = - \\frac{\\alpha^{6}}{216} - \\frac{5 \\alpha^{3}}{54} + \\frac{1}{27}$"
      ],
      "text/plain": [
       "Eq(h3, -alpha**6/216 - 5*alpha**3/54 + 1/27)"
      ]
     },
     "execution_count": 50,
     "metadata": {},
     "output_type": "execute_result"
    },
    {
     "data": {
      "text/latex": [
       "$\\displaystyle u{\\left(z \\right)} = - \\frac{\\alpha}{2} + \\frac{2 \\left(\\alpha^{3} + 1\\right)}{3 \\left(\\alpha^{2} + 4 \\operatorname{pw}{\\left(- \\delta_{0} + z,h_{2},h_{3} \\right)}\\right)} - \\frac{2 \\operatorname{pwp}{\\left(- \\delta_{0} + z,h_{2},h_{3} \\right)}}{\\alpha^{2} + 4 \\operatorname{pw}{\\left(- \\delta_{0} + z,h_{2},h_{3} \\right)}}$"
      ],
      "text/plain": [
       "Eq(u(z), -alpha/2 + 2*(alpha**3 + 1)/(3*(alpha**2 + 4*pw(-delta0 + z, h2, h3))) - 2*pwp(-delta0 + z, h2, h3)/(alpha**2 + 4*pw(-delta0 + z, h2, h3)))"
      ]
     },
     "execution_count": 50,
     "metadata": {},
     "output_type": "execute_result"
    },
    {
     "data": {
      "text/latex": [
       "$\\displaystyle v{\\left(z \\right)} = - \\frac{\\alpha}{2} + \\frac{2 \\left(\\alpha^{3} + 1\\right)}{3 \\left(\\alpha^{2} + 4 \\operatorname{pw}{\\left(- \\delta_{0} + z,h_{2},h_{3} \\right)}\\right)} + \\frac{2 \\operatorname{pwp}{\\left(- \\delta_{0} + z,h_{2},h_{3} \\right)}}{\\alpha^{2} + 4 \\operatorname{pw}{\\left(- \\delta_{0} + z,h_{2},h_{3} \\right)}}$"
      ],
      "text/plain": [
       "Eq(v(z), -alpha/2 + 2*(alpha**3 + 1)/(3*(alpha**2 + 4*pw(-delta0 + z, h2, h3))) + 2*pwp(-delta0 + z, h2, h3)/(alpha**2 + 4*pw(-delta0 + z, h2, h3)))"
      ]
     },
     "execution_count": 50,
     "metadata": {},
     "output_type": "execute_result"
    }
   ],
   "source": [
    "h2_dix = h2_p.subs(p,1)\n",
    "h3_dix = h3_p.subs(p,1)\n",
    "u_W2_dix = u_W2.subs(p,1)\n",
    "v_W2_dix = v_W2.subs(p,1)\n",
    "\n",
    "h2_dix\n",
    "h3_dix\n",
    "u_W2_dix\n",
    "v_W2_dix"
   ]
  },
  {
   "cell_type": "code",
   "execution_count": 51,
   "id": "e8b92b61",
   "metadata": {},
   "outputs": [
    {
     "data": {
      "text/latex": [
       "$\\displaystyle \\alpha = 0$"
      ],
      "text/plain": [
       "Eq(alpha, 0)"
      ]
     },
     "execution_count": 51,
     "metadata": {},
     "output_type": "execute_result"
    },
    {
     "data": {
      "text/latex": [
       "$\\displaystyle h_{2} = 0$"
      ],
      "text/plain": [
       "Eq(h2, 0)"
      ]
     },
     "execution_count": 51,
     "metadata": {},
     "output_type": "execute_result"
    },
    {
     "data": {
      "text/latex": [
       "$\\displaystyle h_{3} = \\frac{1}{27}$"
      ],
      "text/plain": [
       "Eq(h3, 1/27)"
      ]
     },
     "execution_count": 51,
     "metadata": {},
     "output_type": "execute_result"
    },
    {
     "data": {
      "text/latex": [
       "$\\displaystyle u{\\left(z \\right)} = - \\frac{\\operatorname{pwp}{\\left(- \\delta_{0} + z,h_{2},h_{3} \\right)}}{2 \\operatorname{pw}{\\left(- \\delta_{0} + z,h_{2},h_{3} \\right)}} + \\frac{1}{6 \\operatorname{pw}{\\left(- \\delta_{0} + z,h_{2},h_{3} \\right)}}$"
      ],
      "text/plain": [
       "Eq(u(z), -pwp(-delta0 + z, h2, h3)/(2*pw(-delta0 + z, h2, h3)) + 1/(6*pw(-delta0 + z, h2, h3)))"
      ]
     },
     "execution_count": 51,
     "metadata": {},
     "output_type": "execute_result"
    },
    {
     "data": {
      "text/latex": [
       "$\\displaystyle v{\\left(z \\right)} = \\frac{\\operatorname{pwp}{\\left(- \\delta_{0} + z,h_{2},h_{3} \\right)}}{2 \\operatorname{pw}{\\left(- \\delta_{0} + z,h_{2},h_{3} \\right)}} + \\frac{1}{6 \\operatorname{pw}{\\left(- \\delta_{0} + z,h_{2},h_{3} \\right)}}$"
      ],
      "text/plain": [
       "Eq(v(z), pwp(-delta0 + z, h2, h3)/(2*pw(-delta0 + z, h2, h3)) + 1/(6*pw(-delta0 + z, h2, h3)))"
      ]
     },
     "execution_count": 51,
     "metadata": {},
     "output_type": "execute_result"
    }
   ],
   "source": [
    "Eq(alpha,0)\n",
    "h2_dix.subs(alpha,0)\n",
    "h3_dix.subs(alpha,0)\n",
    "u_W2_dix.subs(alpha,0)\n",
    "v_W2_dix.subs(alpha,0)"
   ]
  },
  {
   "cell_type": "code",
   "execution_count": 52,
   "id": "0b3afd2f",
   "metadata": {},
   "outputs": [
    {
     "data": {
      "text/latex": [
       "$\\displaystyle u{\\left(0 \\right)} = - \\frac{\\operatorname{pwp}{\\left(- \\delta_{0},h_{2},h_{3} \\right)}}{2 \\operatorname{pw}{\\left(- \\delta_{0},h_{2},h_{3} \\right)}} + \\frac{1}{6 \\operatorname{pw}{\\left(- \\delta_{0},h_{2},h_{3} \\right)}}$"
      ],
      "text/plain": [
       "Eq(u(0), -pwp(-delta0, h2, h3)/(2*pw(-delta0, h2, h3)) + 1/(6*pw(-delta0, h2, h3)))"
      ]
     },
     "execution_count": 52,
     "metadata": {},
     "output_type": "execute_result"
    },
    {
     "data": {
      "text/latex": [
       "$\\displaystyle u{\\left(0 \\right)} v{\\left(0 \\right)} = \\frac{1 - 9 \\operatorname{pwp}^{2}{\\left(- \\delta_{0},h_{2},h_{3} \\right)}}{36 \\operatorname{pw}^{2}{\\left(- \\delta_{0},h_{2},h_{3} \\right)}}$"
      ],
      "text/plain": [
       "Eq(u(0)*v(0), (1 - 9*pwp(-delta0, h2, h3)**2)/(36*pw(-delta0, h2, h3)**2))"
      ]
     },
     "execution_count": 52,
     "metadata": {},
     "output_type": "execute_result"
    }
   ],
   "source": [
    "u_W2_dix.subs(alpha,0).subs(z,0)\n",
    "\n",
    "uv_W2.subs(alpha,0).subs(z,0).subs(p,1).simplify()"
   ]
  },
  {
   "cell_type": "markdown",
   "id": "1008f871-0deb-476c-a82f-ea3bdd5bbe04",
   "metadata": {},
   "source": [
    "## Comparing $j(g_2,g_3)$ and $j(h_2,h_3)$"
   ]
  },
  {
   "cell_type": "code",
   "execution_count": 53,
   "id": "bec454ee-42be-4778-8abc-b8f819cf6c33",
   "metadata": {},
   "outputs": [
    {
     "data": {
      "text/latex": [
       "$\\displaystyle j_{g} = \\frac{1728 g_{2}^{3}}{g_{2}^{3} - 27 g_{3}^{2}}$"
      ],
      "text/plain": [
       "Eq(j_g, 1728*g2**3/(g2**3 - 27*g3**2))"
      ]
     },
     "execution_count": 53,
     "metadata": {},
     "output_type": "execute_result"
    }
   ],
   "source": [
    "jinv = Eq(j_g,1728*g2**3/(g2**3 - 27*g3**2))\n",
    "jinv"
   ]
  },
  {
   "cell_type": "code",
   "execution_count": 54,
   "id": "58cb63f5-f202-4bdc-9c5c-e968bd7382a4",
   "metadata": {},
   "outputs": [
    {
     "data": {
      "text/latex": [
       "$\\displaystyle j_{g} = \\frac{1728 \\left(\\frac{27 \\alpha^{4}}{4} + 6 \\alpha p\\right)^{3}}{\\left(\\frac{27 \\alpha^{4}}{4} + 6 \\alpha p\\right)^{3} - 27 \\left(- \\frac{27 \\alpha^{6}}{8} - \\frac{9 \\alpha^{3} p}{2} - p^{2}\\right)^{2}}$"
      ],
      "text/plain": [
       "Eq(j_g, 1728*(27*alpha**4/4 + 6*alpha*p)**3/((27*alpha**4/4 + 6*alpha*p)**3 - 27*(-27*alpha**6/8 - 9*alpha**3*p/2 - p**2)**2))"
      ]
     },
     "execution_count": 54,
     "metadata": {},
     "output_type": "execute_result"
    },
    {
     "data": {
      "text/latex": [
       "$\\displaystyle j_{h} = \\frac{1728 \\left(\\frac{\\alpha^{4}}{12} - \\frac{2 \\alpha p}{3}\\right)^{3}}{\\left(\\frac{\\alpha^{4}}{12} - \\frac{2 \\alpha p}{3}\\right)^{3} - 27 \\left(- \\frac{\\alpha^{6}}{216} - \\frac{5 \\alpha^{3} p}{54} + \\frac{p^{2}}{27}\\right)^{2}}$"
      ],
      "text/plain": [
       "Eq(j_h, 1728*(alpha**4/12 - 2*alpha*p/3)**3/((alpha**4/12 - 2*alpha*p/3)**3 - 27*(-alpha**6/216 - 5*alpha**3*p/54 + p**2/27)**2))"
      ]
     },
     "execution_count": 54,
     "metadata": {},
     "output_type": "execute_result"
    }
   ],
   "source": [
    "jinv_g =  jinv.subs([g2_p.args, g3_p.args])\n",
    "jinv_h = jinv.subs([(g2,h2),(g3, h3), (j_g, j_h)]).subs([h2_p.args, h3_p.args])\n",
    "jinv_g\n",
    "jinv_h"
   ]
  },
  {
   "cell_type": "markdown",
   "id": "b0e4241d-c97d-4081-8ea3-33e3d5c6d89e",
   "metadata": {},
   "source": [
    "## Numerical checks"
   ]
  },
  {
   "cell_type": "markdown",
   "id": "4ff75215-6395-40a5-9e1f-f5967c785a02",
   "metadata": {},
   "source": [
    "### Checking the analytic solutions for $u(z)$ and $v(z)$ against numerical solutions"
   ]
  },
  {
   "cell_type": "code",
   "execution_count": 55,
   "id": "d549c4f6-7559-4641-8b3b-3854b78e571f",
   "metadata": {},
   "outputs": [
    {
     "data": {
      "text/latex": [
       "$\\displaystyle \\frac{d}{d z} u{\\left(z \\right)} = \\alpha u{\\left(z \\right)} - v^{2}{\\left(z \\right)}$"
      ],
      "text/plain": [
       "Eq(Derivative(u(z), z), alpha*u(z) - v(z)**2)"
      ]
     },
     "execution_count": 55,
     "metadata": {},
     "output_type": "execute_result"
    },
    {
     "data": {
      "text/latex": [
       "$\\displaystyle \\frac{d}{d z} v{\\left(z \\right)} = - \\alpha v{\\left(z \\right)} + u^{2}{\\left(z \\right)}$"
      ],
      "text/plain": [
       "Eq(Derivative(v(z), z), -alpha*v(z) + u(z)**2)"
      ]
     },
     "execution_count": 55,
     "metadata": {},
     "output_type": "execute_result"
    },
    {
     "data": {
      "text/latex": [
       "$\\displaystyle u{\\left(z \\right)} = - \\frac{\\alpha}{2} + \\frac{2 \\left(\\alpha^{3} + p\\right)}{3 \\left(\\alpha^{2} + 4 \\operatorname{pw}{\\left(- \\delta_{0} + z,h_{2},h_{3} \\right)}\\right)} - \\frac{2 \\operatorname{pwp}{\\left(- \\delta_{0} + z,h_{2},h_{3} \\right)}}{\\alpha^{2} + 4 \\operatorname{pw}{\\left(- \\delta_{0} + z,h_{2},h_{3} \\right)}}$"
      ],
      "text/plain": [
       "Eq(u(z), -alpha/2 + 2*(alpha**3 + p)/(3*(alpha**2 + 4*pw(-delta0 + z, h2, h3))) - 2*pwp(-delta0 + z, h2, h3)/(alpha**2 + 4*pw(-delta0 + z, h2, h3)))"
      ]
     },
     "execution_count": 55,
     "metadata": {},
     "output_type": "execute_result"
    },
    {
     "data": {
      "text/latex": [
       "$\\displaystyle v{\\left(z \\right)} = - \\frac{\\alpha}{2} + \\frac{2 \\left(\\alpha^{3} + p\\right)}{3 \\left(\\alpha^{2} + 4 \\operatorname{pw}{\\left(- \\delta_{0} + z,h_{2},h_{3} \\right)}\\right)} + \\frac{2 \\operatorname{pwp}{\\left(- \\delta_{0} + z,h_{2},h_{3} \\right)}}{\\alpha^{2} + 4 \\operatorname{pw}{\\left(- \\delta_{0} + z,h_{2},h_{3} \\right)}}$"
      ],
      "text/plain": [
       "Eq(v(z), -alpha/2 + 2*(alpha**3 + p)/(3*(alpha**2 + 4*pw(-delta0 + z, h2, h3))) + 2*pwp(-delta0 + z, h2, h3)/(alpha**2 + 4*pw(-delta0 + z, h2, h3)))"
      ]
     },
     "execution_count": 55,
     "metadata": {},
     "output_type": "execute_result"
    }
   ],
   "source": [
    "du_eq\n",
    "dv_eq\n",
    "u_W2\n",
    "v_W2"
   ]
  },
  {
   "cell_type": "code",
   "execution_count": 56,
   "id": "28e1b59b-94e9-4182-8e29-57e27fefaf88",
   "metadata": {},
   "outputs": [],
   "source": [
    "def mpc_to_float(mpc_val):\n",
    "    return float(mpc_val.real) + float(mpc_val.imag)*1j\n",
    "\n",
    "mpc_to_float_np = np_vectorize(mpc_to_float)\n",
    "\n",
    "# The analytic solution\n",
    "def pw_pwp_sol(epsilon, alpha, p, delta0, omegas):\n",
    "    return lambda z: (\n",
    "        -alpha/2 + \n",
    "        2 * (alpha**3 + p) / (3 * (alpha**2 + 4 * we.wp(z - delta0, omegas))) - \n",
    "        epsilon*2* we.wpprime(z - delta0, omegas)/(alpha**2 + 4*we.wp(z - delta0, omegas))\n",
    "    )"
   ]
  },
  {
   "cell_type": "code",
   "execution_count": 57,
   "id": "da45b7ab-ff4d-4181-992e-2a10859e9e6b",
   "metadata": {},
   "outputs": [],
   "source": [
    "# initial conditions (initial values)\n",
    "u_v_0 = [-0.2, 1.4] \n",
    "\n",
    "# Calculate values for intermediate constants in terms of initial conditions\n",
    "u_v_init_subs = [(u(z), u_v_0[0]), (v(z), u_v_0[1])]\n",
    "u_v_0_init_subs = [(x[0].subs(z,0), x[1]) for x in u_v_init_subs]\n",
    "alpha_val_ = 0.4\n",
    "p_val_ = float(p_conserved.rhs.subs(u_v_init_subs).subs(alpha, alpha_val_).expand())\n",
    "p_alpha_val_subs = [(p, p_val_), (alpha, alpha_val_)]\n",
    "\n",
    "## -- PARAMETERS FOR h ---\n",
    "## -----------------------\n",
    "# Calculate values for elliptic invariants in terms of initial conditions\n",
    "h2val_ = float(h2_p.rhs.subs(p_alpha_val_subs))\n",
    "h3val_ = float(h3_p.rhs.subs(p_alpha_val_subs))\n",
    "# Calculate lattice of elliptic functions (half-periods) in terms of initial conditions\n",
    "omega_ = we.omega_from_g(h2val_, h3val_)\n",
    "omega1_ = mpc_to_float(omega_[0])\n",
    "omega2_ = mpc_to_float(omega_[1])\n",
    "omega3_ = mpc_to_float(omega_[2])\n",
    "if im(omega2_/omega1_) <= 0:\n",
    "    omega2_ = -omega2_\n",
    "omegas = (omega1_, omega2_)  \n",
    "# Calculate complex constants in the z plane in terms of initial conditions \n",
    "# via inverse Weierstrass P (elliptic integral)\n",
    "wdelta0 = pw_uv_0.rhs.subs(u_v_0_init_subs).subs(p_alpha_val_subs).expand()\n",
    "wdelta0p = pwp_uv_0.rhs.subs(u_v_0_init_subs).subs(p_alpha_val_subs).expand()\n",
    "delta0val_ = mpc_to_float(we.invwp(wdelta0, omegas, wdelta0p))\n",
    "\n",
    "## -- PARAMETERS FOR g --\n",
    "## ----------------------\n",
    "# Calculate values for elliptic invariants in terms of initial conditions\n",
    "g2val_ = float(g2_p.rhs.subs(p_alpha_val_subs))\n",
    "g3val_ = float(g3_p.rhs.subs(p_alpha_val_subs))\n",
    "# Calculate lattice of elliptic functions (half-periods) in terms of initial conditions\n",
    "omega_g_ = we.omega_from_g(g2val_, g3val_)\n",
    "omega1_g_ = mpc_to_float(omega_g_[0])\n",
    "omega2_g_ = mpc_to_float(omega_g_[1])\n",
    "omega3_g_ = mpc_to_float(omega_g_[2])\n",
    "if im(omega2_g_/omega1_g_) <= 0:\n",
    "    omega2_g_ = -omega2_g_\n",
    "omegas_g_ = (omega1_g_, omega2_g_)  \n",
    "# Calculate complex constants in the z plane in terms of initial conditions \n",
    "# via inverse Weierstrass P (elliptic integral)\n",
    "wz0 = pw_uv_g2_g2_0.rhs.subs(u_v_0_init_subs).subs(p_alpha_val_subs).expand()\n",
    "wz0p = pwp_uv_g2_g2_0.rhs.subs(u_v_0_init_subs).subs(p_alpha_val_subs).expand()\n",
    "z0val_ = mpc_to_float(we.invwp(wz0, omegas_g_, wz0p))\n",
    "\n",
    "# # Setup z array to evaluate over based on 2 complete periods (4 * omega1)\n",
    "# z_end = abs(4 * omega1_)\n",
    "z_end = abs(real(omega3_))*2\n",
    "n_points_z = 200\n",
    "z_eval = linspace(0, z_end, n_points_z) # evaluate integral from z = 0-10 for 50 points\n",
    "\n",
    "# # Complex valued analytic vector solution (numeric evaluation) (epsilon, alpha, p, delta0, omegas)\n",
    "u_v_sol_mpmath = arraynp([\n",
    "    mpc_to_float_np(np_vectorize(pw_pwp_sol(1, alpha_val_, p_val_, delta0val_, omegas))(z_eval)),\n",
    "    mpc_to_float_np(np_vectorize(pw_pwp_sol(-1, alpha_val_, p_val_, delta0val_, omegas))(z_eval))\n",
    "])"
   ]
  },
  {
   "cell_type": "code",
   "execution_count": 58,
   "id": "273b1775-e4fa-4afd-a0f3-0f9fe6df2505",
   "metadata": {},
   "outputs": [],
   "source": [
    "u_p = du_eq.rhs.subs(p_alpha_val_subs)\n",
    "v_p = dv_eq.rhs.subs(p_alpha_val_subs)\n",
    "u_v_dot = [u_p, v_p] # complex valued funtions\n",
    "_u_symb = Symbol('_u_symb')\n",
    "_v_symb = Symbol('_v_symb')\n",
    "u_v_dot_symb = [eq.subs([(u(z), _u_symb), (v(z), _v_symb)]) for eq in u_v_dot]\n",
    "f_ = lambdify((z, (_u_symb,_v_symb)), u_v_dot_symb)\n",
    "u_v_init_numeric_only = [x[1] for x in u_v_init_subs]\n",
    "# Call SciPy's ODE initial value problem solver solve_ivp by passing it\n",
    "#   the function f_,\n",
    "#   the interval of integration,\n",
    "#   the initial state, and\n",
    "#   the arguments to pass to the function f (if any)\n",
    "solution = scipy.integrate.solve_ivp(f_, (0, z_end), u_v_init_numeric_only, t_eval=z_eval)\n",
    "h_ri_sol = solution.y\n",
    "\n",
    "# complex valued numeric vector solution\n",
    "A_sol_scipy = h_ri_sol"
   ]
  },
  {
   "cell_type": "code",
   "execution_count": 59,
   "id": "b3399c72-d08d-40e4-be90-eccb69d15a4a",
   "metadata": {},
   "outputs": [
    {
     "data": {
      "text/plain": [
       "[<matplotlib.lines.Line2D at 0x138dee150>,\n",
       " <matplotlib.lines.Line2D at 0x138dbe050>]"
      ]
     },
     "execution_count": 59,
     "metadata": {},
     "output_type": "execute_result"
    },
    {
     "data": {
      "text/plain": [
       "[<matplotlib.lines.Line2D at 0x138dd7b10>,\n",
       " <matplotlib.lines.Line2D at 0x138de34d0>]"
      ]
     },
     "execution_count": 59,
     "metadata": {},
     "output_type": "execute_result"
    },
    {
     "data": {
      "text/plain": [
       "<matplotlib.legend.Legend at 0x1385ef890>"
      ]
     },
     "execution_count": 59,
     "metadata": {},
     "output_type": "execute_result"
    },
    {
     "data": {
      "text/plain": [
       "Text(0, 0.5, 'Absolute Value')"
      ]
     },
     "execution_count": 59,
     "metadata": {},
     "output_type": "execute_result"
    },
    {
     "data": {
      "text/plain": [
       "Text(0.5, 0, 'z')"
      ]
     },
     "execution_count": 59,
     "metadata": {},
     "output_type": "execute_result"
    },
    {
     "data": {
      "image/png": "[encoded data removed]",
      "text/plain": [
       "<Figure size 1600x600 with 1 Axes>"
      ]
     },
     "metadata": {},
     "output_type": "display_data"
    }
   ],
   "source": [
    "fig = plt.figure(figsize=(16, 6))\n",
    "plt.plot(z_eval, absolute(u_v_sol_mpmath.T)**2, linestyle=\"solid\", linewidth=4) \n",
    "__y_vals__ = absolute(A_sol_scipy.T)**2\n",
    "plt.plot(z_eval[0: len(__y_vals__)], __y_vals__, linestyle=\"dashed\", linewidth=4) \n",
    "plt.legend(['abs(u)**2 mpmath', 'abs(v)**2 mpmath', 'abs(v)**2 scipy', 'abs(v)**2 scipy'], shadow=True) \n",
    "plt.ylabel('Absolute Value')\n",
    "plt.xlabel('z')\n",
    "plt.show()"
   ]
  },
  {
   "cell_type": "code",
   "execution_count": 60,
   "id": "07480c3a-56ed-4e50-99e9-d96c24ccbfdf",
   "metadata": {},
   "outputs": [
    {
     "data": {
      "text/plain": [
       "[<matplotlib.lines.Line2D at 0x138d65150>,\n",
       " <matplotlib.lines.Line2D at 0x138e95250>]"
      ]
     },
     "execution_count": 60,
     "metadata": {},
     "output_type": "execute_result"
    },
    {
     "data": {
      "text/plain": [
       "[<matplotlib.lines.Line2D at 0x138e44d50>,\n",
       " <matplotlib.lines.Line2D at 0x138e8b3d0>]"
      ]
     },
     "execution_count": 60,
     "metadata": {},
     "output_type": "execute_result"
    },
    {
     "data": {
      "text/plain": [
       "<matplotlib.legend.Legend at 0x138e625d0>"
      ]
     },
     "execution_count": 60,
     "metadata": {},
     "output_type": "execute_result"
    },
    {
     "data": {
      "text/plain": [
       "Text(0, 0.5, 'Real Value')"
      ]
     },
     "execution_count": 60,
     "metadata": {},
     "output_type": "execute_result"
    },
    {
     "data": {
      "text/plain": [
       "Text(0.5, 0, 'z')"
      ]
     },
     "execution_count": 60,
     "metadata": {},
     "output_type": "execute_result"
    },
    {
     "data": {
      "image/png": "[encoded data removed]",
      "text/plain": [
       "<Figure size 1600x600 with 1 Axes>"
      ]
     },
     "metadata": {},
     "output_type": "display_data"
    }
   ],
   "source": [
    "fig = plt.figure(figsize=(16, 6))\n",
    "plt.plot(z_eval, real(u_v_sol_mpmath.T), linestyle=\"solid\", linewidth=4) \n",
    "__y_vals__ = real(A_sol_scipy.T)\n",
    "plt.plot(z_eval[0: len(__y_vals__)], __y_vals__, linestyle=\"dashed\", linewidth=4) \n",
    "plt.legend(['Re(u) mpmath', 'Re(v) mpmath', 'Re(v) scipy', 'Re(v) scipy'], shadow=True) \n",
    "plt.ylabel('Real Value')\n",
    "plt.xlabel('z')\n",
    "plt.show()"
   ]
  },
  {
   "cell_type": "markdown",
   "id": "cd5ee371-743b-4cc0-9195-6fb2bb01d664",
   "metadata": {},
   "source": [
    "### Checking the two analytic solutions for $u(z)v(z)$ against each other"
   ]
  },
  {
   "cell_type": "code",
   "execution_count": 61,
   "id": "063303e4-5005-449c-a8fc-e9d8c99a698f",
   "metadata": {},
   "outputs": [
    {
     "data": {
      "text/latex": [
       "$\\displaystyle u{\\left(z \\right)} v{\\left(z \\right)} = \\frac{3 \\alpha^{2}}{4} - \\operatorname{pw}{\\left(z - z_{0},g_{2},g_{3} \\right)}$"
      ],
      "text/plain": [
       "Eq(u(z)*v(z), 3*alpha**2/4 - pw(z - z0, g2, g3))"
      ]
     },
     "execution_count": 61,
     "metadata": {},
     "output_type": "execute_result"
    },
    {
     "data": {
      "text/latex": [
       "$\\displaystyle u{\\left(z \\right)} v{\\left(z \\right)} = \\left(- \\frac{\\alpha}{2} + \\frac{2 \\left(\\alpha^{3} + p\\right)}{3 \\left(\\alpha^{2} + 4 \\operatorname{pw}{\\left(- \\delta_{0} + z,h_{2},h_{3} \\right)}\\right)}\\right)^{2} - \\frac{4 \\operatorname{pwp}^{2}{\\left(- \\delta_{0} + z,h_{2},h_{3} \\right)}}{\\left(\\alpha^{2} + 4 \\operatorname{pw}{\\left(- \\delta_{0} + z,h_{2},h_{3} \\right)}\\right)^{2}}$"
      ],
      "text/plain": [
       "Eq(u(z)*v(z), (-alpha/2 + 2*(alpha**3 + p)/(3*(alpha**2 + 4*pw(-delta0 + z, h2, h3))))**2 - 4*pwp(-delta0 + z, h2, h3)**2/(alpha**2 + 4*pw(-delta0 + z, h2, h3))**2)"
      ]
     },
     "execution_count": 61,
     "metadata": {},
     "output_type": "execute_result"
    }
   ],
   "source": [
    "uv_pw_z0_g2_g3\n",
    "uv_W2"
   ]
  },
  {
   "cell_type": "code",
   "execution_count": 62,
   "id": "546d676a-7706-4988-a31e-56988d93ca9c",
   "metadata": {},
   "outputs": [],
   "source": [
    "# The analytic solutions\n",
    "def pw_pwp_sol_uv_g(alpha, p, z0, omegas):\n",
    "    return lambda z: ( 3 * alpha ** 2 / 4 - we.wp(z - z0, omegas) )\n",
    "\n",
    "def pw_pwp_sol_uv_h(alpha, p, delta0, omegas):\n",
    "    return lambda z: (\n",
    "        (-alpha / 2 + 2 * (alpha**3 + p) / (3 * (alpha**2 + 4 * we.wp(z - delta0, omegas))) ) ** 2 -\n",
    "        4* we.wpprime(z - delta0, omegas) ** 2/(alpha**2 + 4*we.wp(z - delta0, omegas)) ** 2\n",
    "    )\n",
    "\n"
   ]
  },
  {
   "cell_type": "code",
   "execution_count": 63,
   "id": "00f7ac80-b50e-4ea7-a396-198a423d9496",
   "metadata": {},
   "outputs": [],
   "source": [
    "# # Complex valued analytic vector solution (numeric evaluation) (epsilon, alpha, p, delta0, omegas)\n",
    "uv_gh_sol_mpmath = arraynp([\n",
    "    mpc_to_float_np(np_vectorize(pw_pwp_sol_uv_g(alpha_val_, p_val_, z0val_, omegas_g_))(z_eval)),\n",
    "    mpc_to_float_np(np_vectorize(pw_pwp_sol_uv_h(alpha_val_, p_val_, delta0val_, omegas))(z_eval)),\n",
    "    # (mpc_to_float_np(np_vectorize(pw_pwp_sol(1, alpha_val_, p_val_, delta0val_, omegas))(z_eval)) *\n",
    "    # mpc_to_float_np(np_vectorize(pw_pwp_sol(-1, alpha_val_, p_val_, delta0val_, omegas))(z_eval)))\n",
    "])"
   ]
  },
  {
   "cell_type": "code",
   "execution_count": 64,
   "id": "7e992938-2a55-4632-9c81-e7585dbc8bb8",
   "metadata": {},
   "outputs": [
    {
     "data": {
      "text/plain": [
       "[<matplotlib.lines.Line2D at 0x138f5ee90>]"
      ]
     },
     "execution_count": 64,
     "metadata": {},
     "output_type": "execute_result"
    },
    {
     "data": {
      "text/plain": [
       "[<matplotlib.lines.Line2D at 0x138f50f10>]"
      ]
     },
     "execution_count": 64,
     "metadata": {},
     "output_type": "execute_result"
    },
    {
     "data": {
      "text/plain": [
       "Text(0, 0.5, 'Real Part')"
      ]
     },
     "execution_count": 64,
     "metadata": {},
     "output_type": "execute_result"
    },
    {
     "data": {
      "text/plain": [
       "Text(0.5, 0, 'z')"
      ]
     },
     "execution_count": 64,
     "metadata": {},
     "output_type": "execute_result"
    },
    {
     "data": {
      "image/png": "[encoded data removed]",
      "text/plain": [
       "<Figure size 1600x600 with 1 Axes>"
      ]
     },
     "metadata": {},
     "output_type": "display_data"
    }
   ],
   "source": [
    "fig = plt.figure(figsize=(16, 6))\n",
    "plt.plot(z_eval, real(uv_gh_sol_mpmath[0]), linestyle=\"solid\", linewidth=4, color=\"blue\") \n",
    "plt.plot(z_eval, real(uv_gh_sol_mpmath[1]), linestyle=\"dashed\", linewidth=4, color=\"red\") \n",
    "plt.ylabel('Real Part')\n",
    "plt.xlabel('z')\n",
    "plt.show()"
   ]
  },
  {
   "cell_type": "code",
   "execution_count": 65,
   "id": "baa03bb8-7de1-4533-8c4e-651119d19cbc",
   "metadata": {},
   "outputs": [
    {
     "data": {
      "text/plain": [
       "[<matplotlib.lines.Line2D at 0x138fd1410>]"
      ]
     },
     "execution_count": 65,
     "metadata": {},
     "output_type": "execute_result"
    },
    {
     "data": {
      "text/plain": [
       "[<matplotlib.lines.Line2D at 0x138fd4890>]"
      ]
     },
     "execution_count": 65,
     "metadata": {},
     "output_type": "execute_result"
    },
    {
     "data": {
      "text/plain": [
       "Text(0, 0.5, 'Imaginary Part')"
      ]
     },
     "execution_count": 65,
     "metadata": {},
     "output_type": "execute_result"
    },
    {
     "data": {
      "text/plain": [
       "Text(0.5, 0, 'z')"
      ]
     },
     "execution_count": 65,
     "metadata": {},
     "output_type": "execute_result"
    },
    {
     "data": {
      "image/png": "[encoded data removed]",
      "text/plain": [
       "<Figure size 1600x600 with 1 Axes>"
      ]
     },
     "metadata": {},
     "output_type": "display_data"
    }
   ],
   "source": [
    "fig = plt.figure(figsize=(16, 6))\n",
    "plt.plot(z_eval, imag(uv_gh_sol_mpmath[0]), linestyle=\"solid\", linewidth=4, color=\"blue\") \n",
    "plt.plot(z_eval, imag(uv_gh_sol_mpmath[1]), linestyle=\"dashed\", linewidth=4, color=\"red\") \n",
    "plt.ylabel('Imaginary Part')\n",
    "plt.xlabel('z')\n",
    "plt.show()"
   ]
  },
  {
   "cell_type": "code",
   "execution_count": 66,
   "id": "1db491e1-c261-4820-8fa0-90419264244f",
   "metadata": {},
   "outputs": [
    {
     "data": {
      "text/plain": [
       "((8.881784197001252e-16+2.8122386197559397j),\n",
       " (-1.0048266317206083-1.4061193098779696j))"
      ]
     },
     "execution_count": 66,
     "metadata": {},
     "output_type": "execute_result"
    }
   ],
   "source": [
    "omegas"
   ]
  },
  {
   "cell_type": "code",
   "execution_count": 67,
   "id": "412b064c-ee5b-45d1-9a11-c2a2a544c837",
   "metadata": {},
   "outputs": [
    {
     "data": {
      "text/plain": [
       "((1.0048266317206094-0.468706436625991j),\n",
       " (1.0048266317206094+0.4687064366259911j))"
      ]
     },
     "execution_count": 67,
     "metadata": {},
     "output_type": "execute_result"
    }
   ],
   "source": [
    "omegas_g_"
   ]
  },
  {
   "cell_type": "code",
   "execution_count": 68,
   "id": "a8b9fbd9-a695-4c82-9df6-3d9b2a1880af",
   "metadata": {},
   "outputs": [
    {
     "data": {
      "text/plain": [
       "((8.881784197001252e-16+2.8122386197559397j),\n",
       " (-1.0048266317206083-1.4061193098779696j),\n",
       " (-1.0048266317206074+1.40611930987797j))"
      ]
     },
     "execution_count": 68,
     "metadata": {},
     "output_type": "execute_result"
    }
   ],
   "source": [
    "omega1_,omega2_,omega3_"
   ]
  },
  {
   "cell_type": "code",
   "execution_count": 69,
   "id": "e3bc8291-1977-44bf-866f-92a649450554",
   "metadata": {},
   "outputs": [
    {
     "data": {
      "text/plain": [
       "((1.0048266317206094-0.468706436625991j),\n",
       " (1.0048266317206094+0.4687064366259911j),\n",
       " (2.0096532634412188+1.1102230246251565e-16j))"
      ]
     },
     "execution_count": 69,
     "metadata": {},
     "output_type": "execute_result"
    }
   ],
   "source": [
    "omega1_g_,omega2_g_,omega3_g_"
   ]
  },
  {
   "cell_type": "code",
   "execution_count": 70,
   "id": "65ae261c-37f3-4427-a53a-200254f923c3",
   "metadata": {},
   "outputs": [
    {
     "data": {
      "text/plain": [
       "(1.0048266317206094-1.4061193098779732j)"
      ]
     },
     "execution_count": 70,
     "metadata": {},
     "output_type": "execute_result"
    }
   ],
   "source": [
    "3/2*(omega1_g_ - omega2_g_) + (omega1_g_ + omega2_g_)/2"
   ]
  },
  {
   "cell_type": "code",
   "execution_count": 71,
   "id": "fe439935-e7b4-41d8-8875-f79342d40246",
   "metadata": {},
   "outputs": [
    {
     "data": {
      "text/plain": [
       "(-1.1102230246251565e-15-3.552713678800501e-15j)"
      ]
     },
     "execution_count": 71,
     "metadata": {},
     "output_type": "execute_result"
    }
   ],
   "source": [
    "omega1_g_ - 2*omega2_g_ -omega2_"
   ]
  },
  {
   "cell_type": "code",
   "execution_count": 72,
   "id": "b7a3e5ce-07d1-4b1e-abc7-4e82b08c851f",
   "metadata": {},
   "outputs": [
    {
     "data": {
      "text/plain": [
       "(1.9984014443252818e-15-2.886579864025407e-15j)"
      ]
     },
     "execution_count": 72,
     "metadata": {},
     "output_type": "execute_result"
    }
   ],
   "source": [
    "2*omega1_g_ - omega2_g_ + omega3_"
   ]
  },
  {
   "cell_type": "code",
   "execution_count": 73,
   "id": "2ea4591a-1bb7-4e9a-aca9-95c429992e37",
   "metadata": {},
   "outputs": [
    {
     "data": {
      "text/plain": [
       "(-8.881784197001252e-16+6.661338147750939e-15j)"
      ]
     },
     "execution_count": 73,
     "metadata": {},
     "output_type": "execute_result"
    }
   ],
   "source": [
    "3*(omega2_g_ - omega1_g_) - omega1_"
   ]
  },
  {
   "cell_type": "code",
   "execution_count": 74,
   "id": "dc1cabe5-3dd4-4190-8619-e38b302de1eb",
   "metadata": {},
   "outputs": [
    {
     "data": {
      "text/latex": [
       "$\\displaystyle j_{g} = -302.427739357462$"
      ],
      "text/plain": [
       "Eq(j_g, -302.427739357462)"
      ]
     },
     "execution_count": 74,
     "metadata": {},
     "output_type": "execute_result"
    },
    {
     "data": {
      "text/latex": [
       "$\\displaystyle j_{h} = 268.615215067701$"
      ],
      "text/plain": [
       "Eq(j_h, 268.615215067701)"
      ]
     },
     "execution_count": 74,
     "metadata": {},
     "output_type": "execute_result"
    }
   ],
   "source": [
    "jinv_g.subs(p_alpha_val_subs)\n",
    "jinv_h.subs(p_alpha_val_subs)"
   ]
  },
  {
   "cell_type": "code",
   "execution_count": 75,
   "id": "ebf889c9-e934-4bb1-b0eb-34e8a964d99b",
   "metadata": {},
   "outputs": [
    {
     "data": {
      "text/latex": [
       "$\\displaystyle c^{2} \\left. \\frac{d}{d \\xi_{1}} U{\\left(\\xi_{1} \\right)} \\right|_{\\substack{ \\xi_{1}=z c }} = \\beta U{\\left(z c \\right)} c^{2} - V^{2}{\\left(z c \\right)} c^{2}$"
      ],
      "text/plain": [
       "Eq(c**2*Subs(Derivative(U(_xi_1), _xi_1), _xi_1, z*c), beta*U(z*c)*c**2 - V(z*c)**2*c**2)"
      ]
     },
     "execution_count": 75,
     "metadata": {},
     "output_type": "execute_result"
    },
    {
     "data": {
      "text/latex": [
       "$\\displaystyle c^{2} \\left. \\frac{d}{d \\xi_{1}} V{\\left(\\xi_{1} \\right)} \\right|_{\\substack{ \\xi_{1}=z c }} = - \\beta V{\\left(z c \\right)} c^{2} + U^{2}{\\left(z c \\right)} c^{2}$"
      ],
      "text/plain": [
       "Eq(c**2*Subs(Derivative(V(_xi_1), _xi_1), _xi_1, z*c), -beta*V(z*c)*c**2 + U(z*c)**2*c**2)"
      ]
     },
     "execution_count": 75,
     "metadata": {},
     "output_type": "execute_result"
    }
   ],
   "source": [
    "uUvV_alpha_beta_subs = [(u(z), c*U(c*z)), (v(z), c*V(c*z)), (alpha, c*beta)]\n",
    "du_eq.subs(uUvV_alpha_beta_subs).doit()\n",
    "dv_eq.subs(uUvV_alpha_beta_subs).doit()"
   ]
  },
  {
   "cell_type": "code",
   "execution_count": 76,
   "id": "b3a342a5-4b21-460f-a005-0293db47887b",
   "metadata": {},
   "outputs": [
    {
     "data": {
      "text/latex": [
       "$\\displaystyle u{\\left(z,\\alpha \\right)} = u{\\left(z c,\\frac{\\alpha}{c} \\right)} c$"
      ],
      "text/plain": [
       "Eq(u(z, alpha), u(z*c, alpha/c)*c)"
      ]
     },
     "execution_count": 76,
     "metadata": {},
     "output_type": "execute_result"
    },
    {
     "data": {
      "text/latex": [
       "$\\displaystyle v{\\left(z,\\alpha \\right)} = v{\\left(z c,\\frac{\\alpha}{c} \\right)} c$"
      ],
      "text/plain": [
       "Eq(v(z, alpha), v(z*c, alpha/c)*c)"
      ]
     },
     "execution_count": 76,
     "metadata": {},
     "output_type": "execute_result"
    }
   ],
   "source": [
    "u_scaled = Eq(u(z, alpha), c*u(z*c, alpha/c))\n",
    "v_scaled = Eq(v(z, alpha), c*v(z*c, alpha/c))\n",
    "u_scaled\n",
    "v_scaled"
   ]
  },
  {
   "cell_type": "code",
   "execution_count": 77,
   "id": "7afd4cd2-4687-45c0-bfc5-1288175e0cb8",
   "metadata": {},
   "outputs": [
    {
     "data": {
      "text/latex": [
       "$\\displaystyle j_{g} = \\frac{\\alpha^{3} \\left(- 19683 \\alpha^{9} - 52488 \\alpha^{6} p - 46656 \\alpha^{3} p^{2} - 13824 p^{3}\\right)}{\\left(\\alpha^{3} + p\\right) p^{3}}$"
      ],
      "text/plain": [
       "Eq(j_g, alpha**3*(-19683*alpha**9 - 52488*alpha**6*p - 46656*alpha**3*p**2 - 13824*p**3)/((alpha**3 + p)*p**3))"
      ]
     },
     "execution_count": 77,
     "metadata": {},
     "output_type": "execute_result"
    }
   ],
   "source": [
    "jinv_g.expand().simplify()"
   ]
  },
  {
   "cell_type": "code",
   "execution_count": 78,
   "id": "3ac31787-92e5-43d8-9547-1ec7ab5efe75",
   "metadata": {},
   "outputs": [
    {
     "data": {
      "text/latex": [
       "$\\displaystyle j_{h} = \\frac{\\alpha^{3} \\left(- 14348907 \\alpha^{9} + 12754584 \\alpha^{6} p - 3779136 \\alpha^{3} p^{2} + 373248 p^{3}\\right)}{\\left(19683 \\alpha^{9} + 2187 \\alpha^{6} p + 81 \\alpha^{3} p^{2} + p^{3}\\right) p}$"
      ],
      "text/plain": [
       "Eq(j_h, alpha**3*(-14348907*alpha**9 + 12754584*alpha**6*p - 3779136*alpha**3*p**2 + 373248*p**3)/((19683*alpha**9 + 2187*alpha**6*p + 81*alpha**3*p**2 + p**3)*p))"
      ]
     },
     "execution_count": 78,
     "metadata": {},
     "output_type": "execute_result"
    }
   ],
   "source": [
    "jinv_h.subs([(alpha,alpha*3)]).expand().simplify()"
   ]
  },
  {
   "cell_type": "code",
   "execution_count": 79,
   "id": "7c850a94-831f-4d43-bb19-c59b47e33f9a",
   "metadata": {},
   "outputs": [
    {
     "data": {
      "text/latex": [
       "$\\displaystyle p = - 3 \\alpha u{\\left(z \\right)} v{\\left(z \\right)} + u^{3}{\\left(z \\right)} + v^{3}{\\left(z \\right)}$"
      ],
      "text/plain": [
       "Eq(p, -3*alpha*u(z)*v(z) + u(z)**3 + v(z)**3)"
      ]
     },
     "execution_count": 79,
     "metadata": {},
     "output_type": "execute_result"
    }
   ],
   "source": [
    "p_conserved"
   ]
  },
  {
   "cell_type": "code",
   "execution_count": 80,
   "id": "03facb07-eb1b-462e-8f2a-95d0d1f2f63f",
   "metadata": {},
   "outputs": [
    {
     "data": {
      "text/latex": [
       "$\\displaystyle \\frac{p}{c^{3}} = - \\frac{3 \\alpha u{\\left(z c,\\frac{\\alpha}{c} \\right)} v{\\left(z c,\\frac{\\alpha}{c} \\right)}}{c} + u^{3}{\\left(z c,\\frac{\\alpha}{c} \\right)} + v^{3}{\\left(z c,\\frac{\\alpha}{c} \\right)}$"
      ],
      "text/plain": [
       "Eq(p/c**3, -3*alpha*u(z*c, alpha/c)*v(z*c, alpha/c)/c + u(z*c, alpha/c)**3 + v(z*c, alpha/c)**3)"
      ]
     },
     "execution_count": 80,
     "metadata": {},
     "output_type": "execute_result"
    }
   ],
   "source": [
    "p_conserved_scaled = p_conserved.subs([(u(z),u(z,alpha)), (v(z),v(z,alpha))]).subs([u_scaled.args, v_scaled.args])\n",
    "p_conserved_scaled = Eq(p_conserved_scaled.lhs/c**3, p_conserved_scaled.rhs/c**3).expand()\n",
    "p_conserved_scaled"
   ]
  },
  {
   "cell_type": "code",
   "execution_count": 81,
   "id": "d5e24424-748b-4aa6-970e-f1b39d2184e4",
   "metadata": {},
   "outputs": [
    {
     "data": {
      "text/latex": [
       "$\\displaystyle u{\\left(z,\\alpha,p \\right)} = u{\\left(z c,\\frac{\\alpha}{c},\\frac{p}{c^{3}} \\right)} c$"
      ],
      "text/plain": [
       "Eq(u(z, alpha, p), u(z*c, alpha/c, p/c**3)*c)"
      ]
     },
     "execution_count": 81,
     "metadata": {},
     "output_type": "execute_result"
    },
    {
     "data": {
      "text/latex": [
       "$\\displaystyle v{\\left(z,\\alpha,p \\right)} = v{\\left(z c,\\frac{\\alpha}{c},\\frac{p}{c^{3}} \\right)} c$"
      ],
      "text/plain": [
       "Eq(v(z, alpha, p), v(z*c, alpha/c, p/c**3)*c)"
      ]
     },
     "execution_count": 81,
     "metadata": {},
     "output_type": "execute_result"
    }
   ],
   "source": [
    "u_scaled_p = Eq(u(z, alpha, p), c*u(z*c, alpha/c, p/c**3))\n",
    "v_scaled_p = Eq(v(z, alpha, p), c*v(z*c, alpha/c, p/c**3))\n",
    "u_scaled_p\n",
    "v_scaled_p"
   ]
  },
  {
   "cell_type": "code",
   "execution_count": 82,
   "id": "cb91504d-1239-490b-8106-231e68dccaea",
   "metadata": {},
   "outputs": [
    {
     "data": {
      "text/latex": [
       "$\\displaystyle j_{g} = \\frac{1728 \\left(\\frac{27 \\alpha^{4}}{4} + 6 \\alpha p\\right)^{3}}{\\left(\\frac{27 \\alpha^{4}}{4} + 6 \\alpha p\\right)^{3} - 27 \\left(- \\frac{27 \\alpha^{6}}{8} - \\frac{9 \\alpha^{3} p}{2} - p^{2}\\right)^{2}}$"
      ],
      "text/plain": [
       "Eq(j_g, 1728*(27*alpha**4/4 + 6*alpha*p)**3/((27*alpha**4/4 + 6*alpha*p)**3 - 27*(-27*alpha**6/8 - 9*alpha**3*p/2 - p**2)**2))"
      ]
     },
     "execution_count": 82,
     "metadata": {},
     "output_type": "execute_result"
    }
   ],
   "source": [
    "jinv_g"
   ]
  },
  {
   "cell_type": "code",
   "execution_count": 83,
   "id": "a2cc4093-9336-43f6-8da6-1b2028a0cff4",
   "metadata": {},
   "outputs": [
    {
     "data": {
      "text/latex": [
       "$\\displaystyle j_{h} = \\frac{1728 \\left(\\frac{\\alpha^{4}}{12} - \\frac{2 \\alpha p}{3}\\right)^{3}}{\\left(\\frac{\\alpha^{4}}{12} - \\frac{2 \\alpha p}{3}\\right)^{3} - 27 \\left(- \\frac{\\alpha^{6}}{216} - \\frac{5 \\alpha^{3} p}{54} + \\frac{p^{2}}{27}\\right)^{2}}$"
      ],
      "text/plain": [
       "Eq(j_h, 1728*(alpha**4/12 - 2*alpha*p/3)**3/((alpha**4/12 - 2*alpha*p/3)**3 - 27*(-alpha**6/216 - 5*alpha**3*p/54 + p**2/27)**2))"
      ]
     },
     "execution_count": 83,
     "metadata": {},
     "output_type": "execute_result"
    }
   ],
   "source": [
    "jinv_h"
   ]
  },
  {
   "cell_type": "code",
   "execution_count": 84,
   "id": "64b64f32-8c2d-4aff-93b2-deb8d589eb39",
   "metadata": {},
   "outputs": [
    {
     "data": {
      "text/latex": [
       "$\\displaystyle p = X \\alpha^{3}$"
      ],
      "text/plain": [
       "Eq(p, X*alpha**3)"
      ]
     },
     "execution_count": 84,
     "metadata": {},
     "output_type": "execute_result"
    }
   ],
   "source": [
    "X_p = Eq(X, p / alpha ** 3)\n",
    "p_X = Eq(p, solve(X_p, p)[0])\n",
    "p_X"
   ]
  },
  {
   "cell_type": "code",
   "execution_count": 85,
   "id": "6e984c00-bc9b-4b08-9e87-8afa8ca4684e",
   "metadata": {},
   "outputs": [
    {
     "data": {
      "text/latex": [
       "$\\displaystyle j_{g} = - \\frac{27 \\left(8 X + 9\\right)^{3}}{X^{3} \\left(X + 1\\right)}$"
      ],
      "text/plain": [
       "Eq(j_g, -27*(8*X + 9)**3/(X**3*(X + 1)))"
      ]
     },
     "execution_count": 85,
     "metadata": {},
     "output_type": "execute_result"
    },
    {
     "data": {
      "text/latex": [
       "$\\displaystyle j_{h} = \\frac{27 \\left(8 X - 1\\right)^{3}}{X \\left(X + 1\\right)^{3}}$"
      ],
      "text/plain": [
       "Eq(j_h, 27*(8*X - 1)**3/(X*(X + 1)**3))"
      ]
     },
     "execution_count": 85,
     "metadata": {},
     "output_type": "execute_result"
    }
   ],
   "source": [
    "jinv_g_X = Eq(jinv_g.lhs, jinv_g.rhs.subs(*p_X.args).simplify().factor())\n",
    "jinv_h_X = Eq(jinv_h.lhs, jinv_h.rhs.subs(*p_X.args).simplify().factor())\n",
    "jinv_g_X\n",
    "jinv_h_X"
   ]
  },
  {
   "cell_type": "code",
   "execution_count": 86,
   "id": "5c0f31e7-d661-414e-8409-fb7934fc96ad",
   "metadata": {},
   "outputs": [
    {
     "data": {
      "text/latex": [
       "$\\displaystyle 0$"
      ],
      "text/plain": [
       "0"
      ]
     },
     "execution_count": 86,
     "metadata": {},
     "output_type": "execute_result"
    }
   ],
   "source": [
    "(jinv_g_X.subs(X, -X-1).rhs - jinv_h_X.rhs).expand().simplify()"
   ]
  },
  {
   "cell_type": "code",
   "execution_count": 87,
   "id": "b94b7d1f-4ca4-4573-b8a1-fdd6c5aaab9c",
   "metadata": {},
   "outputs": [
    {
     "data": {
      "text/latex": [
       "$\\displaystyle \\frac{j_{g}}{j_{h}} = - \\frac{\\left(X + 1\\right)^{2} \\left(8 X + 9\\right)^{3}}{X^{2} \\left(8 X - 1\\right)^{3}}$"
      ],
      "text/plain": [
       "Eq(j_g/j_h, -(X + 1)**2*(8*X + 9)**3/(X**2*(8*X - 1)**3))"
      ]
     },
     "execution_count": 87,
     "metadata": {},
     "output_type": "execute_result"
    }
   ],
   "source": [
    "Eq(jinv_g_X.lhs/jinv_h_X.lhs, jinv_g_X.rhs/jinv_h_X.rhs)"
   ]
  },
  {
   "cell_type": "code",
   "execution_count": 88,
   "id": "a20243a9-f3d3-44d3-be82-1fa0f9ea03d3",
   "metadata": {},
   "outputs": [
    {
     "data": {
      "text/latex": [
       "$\\displaystyle 0$"
      ],
      "text/plain": [
       "0"
      ]
     },
     "execution_count": 88,
     "metadata": {},
     "output_type": "execute_result"
    }
   ],
   "source": [
    "(jinv_h.rhs.subs([(alpha,alpha/c),(p,p/c**3)]) - jinv_h.rhs).simplify()"
   ]
  },
  {
   "cell_type": "code",
   "execution_count": 89,
   "id": "05f10984-459e-4e73-af9a-d05f7a715e88",
   "metadata": {},
   "outputs": [
    {
     "data": {
      "text/plain": [
       "mpc(real='0.64260214149352135', imag='0.76620003115892676')"
      ]
     },
     "execution_count": 89,
     "metadata": {},
     "output_type": "execute_result"
    },
    {
     "data": {
      "text/plain": [
       "mpc(real='0.32391836813003738', imag='0.94608503359263296')"
      ]
     },
     "execution_count": 89,
     "metadata": {},
     "output_type": "execute_result"
    }
   ],
   "source": [
    "we.tau_from_g(g2val_, g3val_)\n",
    "we.tau_from_g(h2val_, h3val_)"
   ]
  },
  {
   "cell_type": "code",
   "execution_count": 90,
   "id": "ab4b9c1b-7223-4718-81f7-2938e07c267b",
   "metadata": {},
   "outputs": [
    {
     "data": {
      "text/latex": [
       "$\\displaystyle u{\\left(z \\right)} v{\\left(z \\right)} = \\frac{3 \\alpha^{2}}{4} - \\operatorname{pw}{\\left(z - z_{0},\\frac{27 \\alpha^{4}}{4} + 6 \\alpha p,- \\frac{27 \\alpha^{6}}{8} - \\frac{9 \\alpha^{3} p}{2} - p^{2} \\right)}$"
      ],
      "text/plain": [
       "Eq(u(z)*v(z), 3*alpha**2/4 - pw(z - z0, 27*alpha**4/4 + 6*alpha*p, -27*alpha**6/8 - 9*alpha**3*p/2 - p**2))"
      ]
     },
     "execution_count": 90,
     "metadata": {},
     "output_type": "execute_result"
    }
   ],
   "source": [
    "uv_pw_z0_g2_g3.subs([g2_p.args, g3_p.args])"
   ]
  },
  {
   "cell_type": "code",
   "execution_count": 91,
   "id": "6abbf6a8-be95-4d07-b824-edbd5cc7b5f1",
   "metadata": {},
   "outputs": [
    {
     "ename": "TypeError",
     "evalue": "Weierstrass.wp() missing 1 required positional argument: 'omega'",
     "output_type": "error",
     "traceback": [
      "\u001b[0;31m---------------------------------------------------------------------------\u001b[0m",
      "\u001b[0;31mTypeError\u001b[0m                                 Traceback (most recent call last)",
      "Cell \u001b[0;32mIn[91], line 1\u001b[0m\n\u001b[0;32m----> 1\u001b[0m \u001b[38;5;241m3\u001b[39m\u001b[38;5;241m*\u001b[39malpha\u001b[38;5;241m*\u001b[39m\u001b[38;5;241m*\u001b[39m\u001b[38;5;241m2\u001b[39m\u001b[38;5;241m/\u001b[39m\u001b[38;5;241m4\u001b[39m \u001b[38;5;241m-\u001b[39m \u001b[43mwe\u001b[49m\u001b[38;5;241;43m.\u001b[39;49m\u001b[43mwp\u001b[49m\u001b[43m(\u001b[49m\u001b[43mz\u001b[49m\u001b[38;5;241;43m-\u001b[39;49m\u001b[43mz0\u001b[49m\u001b[43m)\u001b[49m\n",
      "\u001b[0;31mTypeError\u001b[0m: Weierstrass.wp() missing 1 required positional argument: 'omega'"
     ]
    }
   ],
   "source": [
    "3*alpha**2/4 - we.wp(z-z0)"
   ]
  },
  {
   "cell_type": "code",
   "execution_count": null,
   "id": "ac5f7a81-18ff-4e4e-ac7f-4cd5b9738f13",
   "metadata": {},
   "outputs": [],
   "source": [
    "eval_subs = [(z,0.2), (z0, 3), (alpha, -2), p]\n",
    "uv_pw_z0_g2_g3.subs([g2_p.args, g3_p.args]).subs(eval_subs)"
   ]
  },
  {
   "cell_type": "code",
   "execution_count": null,
   "id": "560fbbc5-acdf-4277-8d5c-92b4775a81b7",
   "metadata": {},
   "outputs": [],
   "source": [
    "g2_p\n",
    "g3_p"
   ]
  },
  {
   "cell_type": "code",
   "execution_count": null,
   "id": "a03dd0db-d1f7-483e-8f81-2df2c86010b8",
   "metadata": {},
   "outputs": [],
   "source": [
    "Eq(p, solve(g2_p,p)[0]).expand()"
   ]
  },
  {
   "cell_type": "code",
   "execution_count": null,
   "id": "724fc4f5-3990-4b34-9c05-4e8f4adb9757",
   "metadata": {},
   "outputs": [],
   "source": [
    "g3_p.subs(p, solve(g2_p,p)[0]).expand()"
   ]
  },
  {
   "cell_type": "code",
   "execution_count": 96,
   "id": "8270d61f-9268-4f8c-ae42-58633a9d56ce",
   "metadata": {},
   "outputs": [],
   "source": [
    "Su = Function('Su')\n",
    "Cu = Function('Cu')\n",
    "Du = Function('Du')\n",
    "Suc = Function('Suc')\n",
    "Cuc = Function('Cuc')\n",
    "Duc = Function('Duc')"
   ]
  },
  {
   "cell_type": "code",
   "execution_count": null,
   "id": "62c76911",
   "metadata": {},
   "outputs": [],
   "source": []
  },
  {
   "cell_type": "code",
   "execution_count": 125,
   "id": "d50bccb2",
   "metadata": {},
   "outputs": [
    {
     "data": {
      "text/latex": [
       "$\\displaystyle p = m \\left(1 - m\\right) \\operatorname{Cu}{\\left(z \\right)} \\operatorname{Duc}{\\left(z \\right)} \\operatorname{Su}{\\left(z \\right)} + \\left(1 - m\\right) \\operatorname{Cuc}{\\left(z \\right)} \\operatorname{Du}{\\left(z \\right)} \\operatorname{Suc}{\\left(z \\right)}$"
      ],
      "text/plain": [
       "Eq(p, m*(1 - m)*Cu(z)*Duc(z)*Su(z) + (1 - m)*Cuc(z)*Du(z)*Suc(z))"
      ]
     },
     "execution_count": 125,
     "metadata": {},
     "output_type": "execute_result"
    }
   ],
   "source": [
    "pfuv = Eq(p, \n",
    "          (1-m)*Su(z)*Cu(z)*Duc(z)*m + (1-m)*Suc(z)*Cuc(z)*Du(z)\n",
    "         )\n",
    "pfuv"
   ]
  },
  {
   "cell_type": "code",
   "execution_count": 126,
   "id": "c7f21376",
   "metadata": {},
   "outputs": [
    {
     "data": {
      "text/latex": [
       "$\\displaystyle \\frac{d}{d z} \\operatorname{Su}{\\left(z \\right)} = \\left(1 - m\\right) \\operatorname{Cuc}{\\left(z \\right)} \\operatorname{Du}{\\left(z \\right)}$"
      ],
      "text/plain": [
       "Eq(Derivative(Su(z), z), (1 - m)*Cuc(z)*Du(z))"
      ]
     },
     "execution_count": 126,
     "metadata": {},
     "output_type": "execute_result"
    },
    {
     "data": {
      "text/latex": [
       "$\\displaystyle \\frac{d}{d z} \\operatorname{Cu}{\\left(z \\right)} = \\left(1 - m\\right) \\operatorname{Du}{\\left(z \\right)} \\operatorname{Suc}{\\left(z \\right)}$"
      ],
      "text/plain": [
       "Eq(Derivative(Cu(z), z), (1 - m)*Du(z)*Suc(z))"
      ]
     },
     "execution_count": 126,
     "metadata": {},
     "output_type": "execute_result"
    },
    {
     "data": {
      "text/latex": [
       "$\\displaystyle \\frac{d}{d z} \\operatorname{Du}{\\left(z \\right)} = m \\left(1 - m\\right) \\operatorname{Cu}{\\left(z \\right)} \\operatorname{Su}{\\left(z \\right)}$"
      ],
      "text/plain": [
       "Eq(Derivative(Du(z), z), m*(1 - m)*Cu(z)*Su(z))"
      ]
     },
     "execution_count": 126,
     "metadata": {},
     "output_type": "execute_result"
    },
    {
     "data": {
      "text/latex": [
       "$\\displaystyle \\frac{d}{d z} \\operatorname{Suc}{\\left(z \\right)} = - m \\left(1 - m\\right) \\operatorname{Cu}{\\left(z \\right)} \\operatorname{Duc}{\\left(z \\right)}$"
      ],
      "text/plain": [
       "Eq(Derivative(Suc(z), z), -m*(1 - m)*Cu(z)*Duc(z))"
      ]
     },
     "execution_count": 126,
     "metadata": {},
     "output_type": "execute_result"
    },
    {
     "data": {
      "text/latex": [
       "$\\displaystyle \\frac{d}{d z} \\operatorname{Cuc}{\\left(z \\right)} = - m \\left(1 - m\\right) \\operatorname{Duc}{\\left(z \\right)} \\operatorname{Su}{\\left(z \\right)}$"
      ],
      "text/plain": [
       "Eq(Derivative(Cuc(z), z), -m*(1 - m)*Duc(z)*Su(z))"
      ]
     },
     "execution_count": 126,
     "metadata": {},
     "output_type": "execute_result"
    },
    {
     "data": {
      "text/latex": [
       "$\\displaystyle \\frac{d}{d z} \\operatorname{Duc}{\\left(z \\right)} = - \\left(1 - m\\right) \\operatorname{Cuc}{\\left(z \\right)} \\operatorname{Suc}{\\left(z \\right)}$"
      ],
      "text/plain": [
       "Eq(Derivative(Duc(z), z), -(1 - m)*Cuc(z)*Suc(z))"
      ]
     },
     "execution_count": 126,
     "metadata": {},
     "output_type": "execute_result"
    }
   ],
   "source": [
    "Eq(diff(Su(z),z), diff(pfuv.rhs,Suc(z)))\n",
    "Eq(diff(Cu(z),z), diff(pfuv.rhs,Cuc(z)))\n",
    "Eq(diff(Du(z),z), diff(pfuv.rhs,Duc(z)))\n",
    "Eq(diff(Suc(z),z), -diff(pfuv.rhs,Su(z)))\n",
    "Eq(diff(Cuc(z),z), -diff(pfuv.rhs,Cu(z)))\n",
    "Eq(diff(Duc(z),z), -diff(pfuv.rhs,Du(z)))"
   ]
  },
  {
   "cell_type": "code",
   "execution_count": 102,
   "id": "8f39dacb",
   "metadata": {},
   "outputs": [
    {
     "data": {
      "text/latex": [
       "$\\displaystyle f{\\left(z \\right)} e^{z {c}_{0}} {c}_{0} + e^{z {c}_{0}} \\frac{d}{d z} f{\\left(z \\right)} = \\operatorname{Cuc}{\\left(z \\right)} \\operatorname{Du}{\\left(z \\right)} + f{\\left(z \\right)} e^{z {c}_{0}} {c}_{0}$"
      ],
      "text/plain": [
       "Eq(f(z)*exp(z*c[0])*c[0] + exp(z*c[0])*Derivative(f(z), z), Cuc(z)*Du(z) + f(z)*exp(z*c[0])*c[0])"
      ]
     },
     "execution_count": 102,
     "metadata": {},
     "output_type": "execute_result"
    }
   ],
   "source": [
    "Eq(diff(Su(z),z), diff(pfuv.rhs,Suc(z))).subs(Su(z), f(z)*exp(c[0]*z)).doit()"
   ]
  },
  {
   "cell_type": "code",
   "execution_count": null,
   "id": "cbbb5100",
   "metadata": {},
   "outputs": [],
   "source": []
  }
 ],
 "metadata": {
  "kernelspec": {
   "display_name": "Python 3 (ipykernel)",
   "language": "python",
   "name": "python3"
  },
  "language_info": {
   "codemirror_mode": {
    "name": "ipython",
    "version": 3
   },
   "file_extension": ".py",
   "mimetype": "text/x-python",
   "name": "python",
   "nbconvert_exporter": "python",
   "pygments_lexer": "ipython3",
   "version": "3.11.10"
  }
 },
 "nbformat": 4,
 "nbformat_minor": 5
}
