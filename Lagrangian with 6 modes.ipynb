{
 "cells": [
  {
   "cell_type": "markdown",
   "metadata": {},
   "source": [
    "# Lagrangian with 6 modes"
   ]
  },
  {
   "cell_type": "code",
   "execution_count": 1,
   "metadata": {},
   "outputs": [],
   "source": [
    "from sympy import *\n",
    "(x, y, X, Y, Z, B, C, n, m, l, j, q, N, K, Q, S, k, epsilon, z, p1, p2, p3, g2, g3,\n",
    " z0, w1, w2, w3, e1, e2, e3, Delta, omega1, omega2, omega3, eta1, eta2, eta3, d1, d2, d3) = symbols(\n",
    "    '''x, y, X, Y, Z, B, C, n, m, l, j, q, N, K, Q, S, k, epsilon, z, p1, p2, p3, g2, g3,\n",
    "    z0, w1, w2, w3, e1, e2, e3, Delta, omega1, omega2, omega3, eta1, eta2, eta3, d1, d2, d3'''\n",
    ")\n",
    "t, nu, epsilon, theta = symbols('t, nu, epsilon, theta')\n",
    "pw = Function('pw') # Weierstrass P function\n",
    "pwp = Function('pwp') # Derivative of Weierstrass P function\n",
    "zw = Function('zw') # Weierstrass Zeta function\n",
    "sigma = Function('sigma') # Weierstrass Sigma function\n",
    "f = Function('f')\n",
    "h = Function('h')\n",
    "P = Function('P') # Polynomial\n",
    "s = Function(\"s\")\n",
    "Det = Function(\"Det\")\n",
    "kappa = IndexedBase('kappa')\n",
    "beta = IndexedBase('beta')\n",
    "mu = IndexedBase('mu')\n",
    "xi = IndexedBase('xi')\n",
    "rho = IndexedBase('rho')\n",
    "delta = IndexedBase('delta')\n",
    "b = IndexedBase('b')\n",
    "B = IndexedBase('B')\n",
    "c = IndexedBase('c')\n",
    "d = IndexedBase('d')\n",
    "p = IndexedBase('p')\n",
    "alpha = IndexedBase('alpha')\n",
    "Omega = IndexedBase('Omega')\n",
    "T = Function('T')\n",
    "V = Function('V')\n",
    "Dz = Function('Dz') # Derivate w.r.t z\n",
    "L = Function('L')\n",
    "U = Function(\"U\")\n",
    "W = Function(\"W\")\n",
    "from math import prod\n",
    "from IPython.core.interactiveshell import InteractiveShell\n",
    "InteractiveShell.ast_node_interactivity = 'all'"
   ]
  },
  {
   "cell_type": "markdown",
   "metadata": {},
   "source": [
    "## Modes and Modal Powers"
   ]
  },
  {
   "cell_type": "code",
   "execution_count": 2,
   "metadata": {},
   "outputs": [],
   "source": [
    "Nmodes = 6\n",
    "A = [Function(f\"A{i}\") for i in range(Nmodes)] # Mode Functions of z\n",
    "Ac = [Function(f\"Ac{i}\") for i in range(Nmodes)] # Conjugate mode functions of z. May be complex conjugates but not always\n",
    "# Uvec = [Function(f\"U{i}\") for i in range(Nmodes)] # Modal Power Functions of z. May be positive real but not always\n",
    "Az = [A[i](z) for i in range(Nmodes)]\n",
    "Acz = [Ac[i](z) for i in range(Nmodes)]\n",
    "Uz = [Function(f\"U{i}\")(z) for i in range(Nmodes)]\n",
    "DAz = [diff(A[i](z),z) for i in range(Nmodes)] \n",
    "DAcz = [diff(Ac[i](z),z) for i in range(Nmodes)]\n",
    "phi = [Function(f\"phi{i}\") for i in range(Nmodes)] # Phases\n",
    "phiz = [phi[i](z) for i in range(Nmodes)] # Phases"
   ]
  },
  {
   "cell_type": "markdown",
   "metadata": {},
   "source": [
    "The terminology from optics will be used in which the complex function $A_i(z)$ is refered to as a mode. Each mode has a corresponding conjugate mode $Ac_i(z)$ where conjugate will often, but not always, mean complex conjugate. A modal power function will be denoted $P_i(z)$ and defined as:"
   ]
  },
  {
   "cell_type": "code",
   "execution_count": 3,
   "metadata": {},
   "outputs": [
    {
     "data": {
      "text/latex": [
       "$\\displaystyle U_{0}{\\left(z \\right)} = A_{0}{\\left(z \\right)} \\operatorname{Ac}_{0}{\\left(z \\right)}$"
      ],
      "text/plain": [
       "Eq(U0(z), A0(z)*Ac0(z))"
      ]
     },
     "execution_count": 3,
     "metadata": {},
     "output_type": "execute_result"
    }
   ],
   "source": [
    "Eq(Uz[0], Az[0]*Acz[0])"
   ]
  },
  {
   "cell_type": "code",
   "execution_count": 4,
   "metadata": {},
   "outputs": [
    {
     "data": {
      "text/latex": [
       "$\\displaystyle U_{1}{\\left(z \\right)} = A_{1}{\\left(z \\right)} \\operatorname{Ac}_{1}{\\left(z \\right)}$"
      ],
      "text/plain": [
       "Eq(U1(z), A1(z)*Ac1(z))"
      ]
     },
     "execution_count": 4,
     "metadata": {},
     "output_type": "execute_result"
    }
   ],
   "source": [
    "Eq(Uz[1], Az[1]*Acz[1])"
   ]
  },
  {
   "cell_type": "markdown",
   "metadata": {},
   "source": [
    "And so on. When the conjugation is complex conjugation $P_i(z)$ is a positive real function."
   ]
  },
  {
   "cell_type": "markdown",
   "metadata": {},
   "source": [
    "## Lagrangians"
   ]
  },
  {
   "cell_type": "markdown",
   "metadata": {},
   "source": [
    "Lagrangians will be considered involving $2N$ modes made from $N$ pairs of conjugate modes. Lagrangians will be considered that are defined as kinetic terms coming from some function of the modes and their derivatives, minus some potential terms coming from some function of the modes."
   ]
  },
  {
   "cell_type": "markdown",
   "metadata": {},
   "source": [
    "### Kinetic terms"
   ]
  },
  {
   "cell_type": "markdown",
   "metadata": {},
   "source": [
    "Kinetic terms will be considered formed from each mode multiplied by the derivative of its conjugate, minus the corresponding conjugate pair, and weighted by the reciprocal of some constant $\\Omega_i$."
   ]
  },
  {
   "cell_type": "code",
   "execution_count": 5,
   "metadata": {},
   "outputs": [
    {
     "data": {
      "text/latex": [
       "$\\displaystyle - \\frac{i \\left(A_{0}{\\left(z \\right)} \\frac{d}{d z} \\operatorname{Ac}_{0}{\\left(z \\right)} - \\operatorname{Ac}_{0}{\\left(z \\right)} \\frac{d}{d z} A_{0}{\\left(z \\right)}\\right)}{2 {\\Omega}_{0}} - \\frac{i \\left(A_{1}{\\left(z \\right)} \\frac{d}{d z} \\operatorname{Ac}_{1}{\\left(z \\right)} - \\operatorname{Ac}_{1}{\\left(z \\right)} \\frac{d}{d z} A_{1}{\\left(z \\right)}\\right)}{2 {\\Omega}_{1}} - \\frac{i \\left(A_{2}{\\left(z \\right)} \\frac{d}{d z} \\operatorname{Ac}_{2}{\\left(z \\right)} - \\operatorname{Ac}_{2}{\\left(z \\right)} \\frac{d}{d z} A_{2}{\\left(z \\right)}\\right)}{2 {\\Omega}_{2}} - \\frac{i \\left(A_{3}{\\left(z \\right)} \\frac{d}{d z} \\operatorname{Ac}_{3}{\\left(z \\right)} - \\operatorname{Ac}_{3}{\\left(z \\right)} \\frac{d}{d z} A_{3}{\\left(z \\right)}\\right)}{2 {\\Omega}_{3}} - \\frac{i \\left(A_{4}{\\left(z \\right)} \\frac{d}{d z} \\operatorname{Ac}_{4}{\\left(z \\right)} - \\operatorname{Ac}_{4}{\\left(z \\right)} \\frac{d}{d z} A_{4}{\\left(z \\right)}\\right)}{2 {\\Omega}_{4}} - \\frac{i \\left(A_{5}{\\left(z \\right)} \\frac{d}{d z} \\operatorname{Ac}_{5}{\\left(z \\right)} - \\operatorname{Ac}_{5}{\\left(z \\right)} \\frac{d}{d z} A_{5}{\\left(z \\right)}\\right)}{2 {\\Omega}_{5}}$"
      ],
      "text/plain": [
       "-I*(A0(z)*Derivative(Ac0(z), z) - Ac0(z)*Derivative(A0(z), z))/(2*Omega[0]) - I*(A1(z)*Derivative(Ac1(z), z) - Ac1(z)*Derivative(A1(z), z))/(2*Omega[1]) - I*(A2(z)*Derivative(Ac2(z), z) - Ac2(z)*Derivative(A2(z), z))/(2*Omega[2]) - I*(A3(z)*Derivative(Ac3(z), z) - Ac3(z)*Derivative(A3(z), z))/(2*Omega[3]) - I*(A4(z)*Derivative(Ac4(z), z) - Ac4(z)*Derivative(A4(z), z))/(2*Omega[4]) - I*(A5(z)*Derivative(Ac5(z), z) - Ac5(z)*Derivative(A5(z), z))/(2*Omega[5])"
      ]
     },
     "execution_count": 5,
     "metadata": {},
     "output_type": "execute_result"
    }
   ],
   "source": [
    "kinetic = ((I/2*sum([(Acz[_i]*DAz[_i] - Az[_i]*DAcz[_i])/Omega[_i] for _i in range(Nmodes)]))\n",
    "           .expand()\n",
    "           .collect([Omega[_i] for _i in range(Nmodes)], factor))\n",
    "kinetic"
   ]
  },
  {
   "cell_type": "markdown",
   "metadata": {},
   "source": [
    "### Potential terms"
   ]
  },
  {
   "cell_type": "markdown",
   "metadata": {},
   "source": [
    "Potential terms will be considered that are made from two parts. The first part provides a nonlinear coupling between modes in the form of a product of all modes plus a product of all the conjugate modes. The second part is some function, $P$ of pairs of conjugate modes multiplied together."
   ]
  },
  {
   "cell_type": "code",
   "execution_count": 6,
   "metadata": {},
   "outputs": [
    {
     "data": {
      "text/latex": [
       "$\\displaystyle \\left(A_{0}{\\left(z \\right)} A_{1}{\\left(z \\right)} A_{2}{\\left(z \\right)} A_{3}{\\left(z \\right)} A_{4}{\\left(z \\right)} A_{5}{\\left(z \\right)} + \\operatorname{Ac}_{0}{\\left(z \\right)} \\operatorname{Ac}_{1}{\\left(z \\right)} \\operatorname{Ac}_{2}{\\left(z \\right)} \\operatorname{Ac}_{3}{\\left(z \\right)} \\operatorname{Ac}_{4}{\\left(z \\right)} \\operatorname{Ac}_{5}{\\left(z \\right)}\\right) \\kappa + P{\\left(A_{0}{\\left(z \\right)} \\operatorname{Ac}_{0}{\\left(z \\right)},A_{1}{\\left(z \\right)} \\operatorname{Ac}_{1}{\\left(z \\right)},A_{2}{\\left(z \\right)} \\operatorname{Ac}_{2}{\\left(z \\right)},A_{3}{\\left(z \\right)} \\operatorname{Ac}_{3}{\\left(z \\right)},A_{4}{\\left(z \\right)} \\operatorname{Ac}_{4}{\\left(z \\right)},A_{5}{\\left(z \\right)} \\operatorname{Ac}_{5}{\\left(z \\right)} \\right)}$"
      ],
      "text/plain": [
       "(A0(z)*A1(z)*A2(z)*A3(z)*A4(z)*A5(z) + Ac0(z)*Ac1(z)*Ac2(z)*Ac3(z)*Ac4(z)*Ac5(z))*kappa + P(A0(z)*Ac0(z), A1(z)*Ac1(z), A2(z)*Ac2(z), A3(z)*Ac3(z), A4(z)*Ac4(z), A5(z)*Ac5(z))"
      ]
     },
     "execution_count": 6,
     "metadata": {},
     "output_type": "execute_result"
    }
   ],
   "source": [
    "potential = kappa*(prod(Az)+prod(Acz)) + P(*[Az[_i]*Acz[_i] for _i in range(Nmodes)])\n",
    "# potential = kappa*(prod(Az)+prod(Acz)) + alpha*P(*[*Az, *Acz])\n",
    "potential"
   ]
  },
  {
   "cell_type": "markdown",
   "metadata": {},
   "source": [
    "An example potential is:"
   ]
  },
  {
   "cell_type": "code",
   "execution_count": 7,
   "metadata": {},
   "outputs": [
    {
     "data": {
      "text/latex": [
       "$\\displaystyle A_{0}^{2}{\\left(z \\right)} \\operatorname{Ac}_{0}^{2}{\\left(z \\right)} + A_{0}{\\left(z \\right)} A_{1}{\\left(z \\right)} A_{2}{\\left(z \\right)} A_{3}{\\left(z \\right)} A_{4}{\\left(z \\right)} A_{5}{\\left(z \\right)} \\kappa + A_{1}^{2}{\\left(z \\right)} \\operatorname{Ac}_{1}^{2}{\\left(z \\right)} + A_{2}^{2}{\\left(z \\right)} \\operatorname{Ac}_{2}^{2}{\\left(z \\right)} + A_{3}^{2}{\\left(z \\right)} \\operatorname{Ac}_{3}^{2}{\\left(z \\right)} + A_{4}^{2}{\\left(z \\right)} \\operatorname{Ac}_{4}^{2}{\\left(z \\right)} + A_{5}^{2}{\\left(z \\right)} \\operatorname{Ac}_{5}^{2}{\\left(z \\right)} + \\operatorname{Ac}_{0}{\\left(z \\right)} \\operatorname{Ac}_{1}{\\left(z \\right)} \\operatorname{Ac}_{2}{\\left(z \\right)} \\operatorname{Ac}_{3}{\\left(z \\right)} \\operatorname{Ac}_{4}{\\left(z \\right)} \\operatorname{Ac}_{5}{\\left(z \\right)} \\kappa$"
      ],
      "text/plain": [
       "A0(z)**2*Ac0(z)**2 + A0(z)*A1(z)*A2(z)*A3(z)*A4(z)*A5(z)*kappa + A1(z)**2*Ac1(z)**2 + A2(z)**2*Ac2(z)**2 + A3(z)**2*Ac3(z)**2 + A4(z)**2*Ac4(z)**2 + A5(z)**2*Ac5(z)**2 + Ac0(z)*Ac1(z)*Ac2(z)*Ac3(z)*Ac4(z)*Ac5(z)*kappa"
      ]
     },
     "execution_count": 7,
     "metadata": {},
     "output_type": "execute_result"
    }
   ],
   "source": [
    "example_potential = (kappa*(prod(Az)+prod(Acz)) + sum((Az[_i]*Acz[_i])**2 for _i in range(Nmodes))).expand()\n",
    "example_potential"
   ]
  },
  {
   "cell_type": "markdown",
   "metadata": {},
   "source": [
    "### Equations of Motion from Euler-Lagrange Equations"
   ]
  },
  {
   "cell_type": "markdown",
   "metadata": {},
   "source": [
    "The equation of motion for each mode will be obtained from the Lagrangian using the Euler-Lagrange equations for each mode. Note that the conjugate mode is considered distinct and unrelated for the Euler-Lagrange equations."
   ]
  },
  {
   "cell_type": "code",
   "execution_count": 8,
   "metadata": {},
   "outputs": [
    {
     "data": {
      "text/latex": [
       "$\\displaystyle - \\frac{i \\left(A_{0}{\\left(z \\right)} \\frac{d}{d z} \\operatorname{Ac}_{0}{\\left(z \\right)} - \\operatorname{Ac}_{0}{\\left(z \\right)} \\frac{d}{d z} A_{0}{\\left(z \\right)}\\right)}{2 {\\Omega}_{0}} - \\frac{i \\left(A_{1}{\\left(z \\right)} \\frac{d}{d z} \\operatorname{Ac}_{1}{\\left(z \\right)} - \\operatorname{Ac}_{1}{\\left(z \\right)} \\frac{d}{d z} A_{1}{\\left(z \\right)}\\right)}{2 {\\Omega}_{1}} - \\frac{i \\left(A_{2}{\\left(z \\right)} \\frac{d}{d z} \\operatorname{Ac}_{2}{\\left(z \\right)} - \\operatorname{Ac}_{2}{\\left(z \\right)} \\frac{d}{d z} A_{2}{\\left(z \\right)}\\right)}{2 {\\Omega}_{2}} - \\frac{i \\left(A_{3}{\\left(z \\right)} \\frac{d}{d z} \\operatorname{Ac}_{3}{\\left(z \\right)} - \\operatorname{Ac}_{3}{\\left(z \\right)} \\frac{d}{d z} A_{3}{\\left(z \\right)}\\right)}{2 {\\Omega}_{3}} - \\frac{i \\left(A_{4}{\\left(z \\right)} \\frac{d}{d z} \\operatorname{Ac}_{4}{\\left(z \\right)} - \\operatorname{Ac}_{4}{\\left(z \\right)} \\frac{d}{d z} A_{4}{\\left(z \\right)}\\right)}{2 {\\Omega}_{4}} - \\frac{i \\left(A_{5}{\\left(z \\right)} \\frac{d}{d z} \\operatorname{Ac}_{5}{\\left(z \\right)} - \\operatorname{Ac}_{5}{\\left(z \\right)} \\frac{d}{d z} A_{5}{\\left(z \\right)}\\right)}{2 {\\Omega}_{5}} - \\left(A_{0}{\\left(z \\right)} A_{1}{\\left(z \\right)} A_{2}{\\left(z \\right)} A_{3}{\\left(z \\right)} A_{4}{\\left(z \\right)} A_{5}{\\left(z \\right)} + \\operatorname{Ac}_{0}{\\left(z \\right)} \\operatorname{Ac}_{1}{\\left(z \\right)} \\operatorname{Ac}_{2}{\\left(z \\right)} \\operatorname{Ac}_{3}{\\left(z \\right)} \\operatorname{Ac}_{4}{\\left(z \\right)} \\operatorname{Ac}_{5}{\\left(z \\right)}\\right) \\kappa - P{\\left(A_{0}{\\left(z \\right)} \\operatorname{Ac}_{0}{\\left(z \\right)},A_{1}{\\left(z \\right)} \\operatorname{Ac}_{1}{\\left(z \\right)},A_{2}{\\left(z \\right)} \\operatorname{Ac}_{2}{\\left(z \\right)},A_{3}{\\left(z \\right)} \\operatorname{Ac}_{3}{\\left(z \\right)},A_{4}{\\left(z \\right)} \\operatorname{Ac}_{4}{\\left(z \\right)},A_{5}{\\left(z \\right)} \\operatorname{Ac}_{5}{\\left(z \\right)} \\right)}$"
      ],
      "text/plain": [
       "-I*(A0(z)*Derivative(Ac0(z), z) - Ac0(z)*Derivative(A0(z), z))/(2*Omega[0]) - I*(A1(z)*Derivative(Ac1(z), z) - Ac1(z)*Derivative(A1(z), z))/(2*Omega[1]) - I*(A2(z)*Derivative(Ac2(z), z) - Ac2(z)*Derivative(A2(z), z))/(2*Omega[2]) - I*(A3(z)*Derivative(Ac3(z), z) - Ac3(z)*Derivative(A3(z), z))/(2*Omega[3]) - I*(A4(z)*Derivative(Ac4(z), z) - Ac4(z)*Derivative(A4(z), z))/(2*Omega[4]) - I*(A5(z)*Derivative(Ac5(z), z) - Ac5(z)*Derivative(A5(z), z))/(2*Omega[5]) - (A0(z)*A1(z)*A2(z)*A3(z)*A4(z)*A5(z) + Ac0(z)*Ac1(z)*Ac2(z)*Ac3(z)*Ac4(z)*Ac5(z))*kappa - P(A0(z)*Ac0(z), A1(z)*Ac1(z), A2(z)*Ac2(z), A3(z)*Ac3(z), A4(z)*Ac4(z), A5(z)*Ac5(z))"
      ]
     },
     "execution_count": 8,
     "metadata": {},
     "output_type": "execute_result"
    }
   ],
   "source": [
    "lagrangian = kinetic - potential\n",
    "lagrangian"
   ]
  },
  {
   "cell_type": "markdown",
   "metadata": {},
   "source": [
    "As an example, the below Euler-Lagrange equation leads to the equation of motion for $A_0(z)$."
   ]
  },
  {
   "cell_type": "code",
   "execution_count": 9,
   "metadata": {},
   "outputs": [
    {
     "data": {
      "text/latex": [
       "$\\displaystyle \\frac{d}{d \\operatorname{Ac}_{0}{\\left(z \\right)}} L{\\left(\\operatorname{Ac}_{0}{\\left(z \\right)},\\frac{d}{d z} \\operatorname{Ac}_{0}{\\left(z \\right)} \\right)} - \\frac{d^{2}}{d zd \\frac{d}{d z} \\operatorname{Ac}_{0}{\\left(z \\right)}} L{\\left(\\operatorname{Ac}_{0}{\\left(z \\right)},\\frac{d}{d z} \\operatorname{Ac}_{0}{\\left(z \\right)} \\right)} = 0$"
      ],
      "text/plain": [
       "Eq(Derivative(L(Ac0(z), Derivative(Ac0(z), z)), Ac0(z)) - Derivative(L(Ac0(z), Derivative(Ac0(z), z)), Derivative(Ac0(z), z), z), 0)"
      ]
     },
     "execution_count": 9,
     "metadata": {},
     "output_type": "execute_result"
    }
   ],
   "source": [
    "Eq(Derivative(L(Ac[0](z),Derivative(Ac[0](z),z)),Ac[0](z)) - \n",
    "Derivative(Derivative(L(Ac[0](z),Derivative(Ac[0](z),z)),Derivative(Ac[0](z),z)),z),0)"
   ]
  },
  {
   "cell_type": "code",
   "execution_count": 10,
   "metadata": {},
   "outputs": [],
   "source": [
    "euler_lagrangian_eqs = [\n",
    "    Eq(\n",
    "        diff([*Az,*Acz][_i],z),\n",
    "        solve(diff(lagrangian, [*Acz,*Az][_i]) - diff(diff(lagrangian, [*DAcz,*DAz][_i]),z), diff([*Az,*Acz][_i],z))[0]\n",
    "    ).expand()\n",
    "    for _i in range(2*Nmodes)\n",
    "]"
   ]
  },
  {
   "cell_type": "markdown",
   "metadata": {},
   "source": [
    "This produces equations of the motion for the modes that are of the form:"
   ]
  },
  {
   "cell_type": "code",
   "execution_count": 11,
   "metadata": {},
   "outputs": [
    {
     "data": {
      "text/latex": [
       "$\\displaystyle \\frac{d}{d z} A_{0}{\\left(z \\right)} = - i A_{0}{\\left(z \\right)} {\\Omega}_{0} \\left. \\frac{\\partial}{\\partial \\xi_{1}} P{\\left(\\xi_{1},A_{1}{\\left(z \\right)} \\operatorname{Ac}_{1}{\\left(z \\right)},A_{2}{\\left(z \\right)} \\operatorname{Ac}_{2}{\\left(z \\right)},A_{3}{\\left(z \\right)} \\operatorname{Ac}_{3}{\\left(z \\right)},A_{4}{\\left(z \\right)} \\operatorname{Ac}_{4}{\\left(z \\right)},A_{5}{\\left(z \\right)} \\operatorname{Ac}_{5}{\\left(z \\right)} \\right)} \\right|_{\\substack{ \\xi_{1}=A_{0}{\\left(z \\right)} \\operatorname{Ac}_{0}{\\left(z \\right)} }} - i \\operatorname{Ac}_{1}{\\left(z \\right)} \\operatorname{Ac}_{2}{\\left(z \\right)} \\operatorname{Ac}_{3}{\\left(z \\right)} \\operatorname{Ac}_{4}{\\left(z \\right)} \\operatorname{Ac}_{5}{\\left(z \\right)} {\\Omega}_{0} \\kappa$"
      ],
      "text/plain": [
       "Eq(Derivative(A0(z), z), -I*A0(z)*Omega[0]*Subs(Derivative(P(_xi_1, A1(z)*Ac1(z), A2(z)*Ac2(z), A3(z)*Ac3(z), A4(z)*Ac4(z), A5(z)*Ac5(z)), _xi_1), _xi_1, A0(z)*Ac0(z)) - I*Ac1(z)*Ac2(z)*Ac3(z)*Ac4(z)*Ac5(z)*Omega[0]*kappa)"
      ]
     },
     "execution_count": 11,
     "metadata": {},
     "output_type": "execute_result"
    },
    {
     "data": {
      "text/latex": [
       "$\\displaystyle \\frac{d}{d z} A_{1}{\\left(z \\right)} = - i A_{1}{\\left(z \\right)} {\\Omega}_{1} \\left. \\frac{\\partial}{\\partial \\xi_{2}} P{\\left(A_{0}{\\left(z \\right)} \\operatorname{Ac}_{0}{\\left(z \\right)},\\xi_{2},A_{2}{\\left(z \\right)} \\operatorname{Ac}_{2}{\\left(z \\right)},A_{3}{\\left(z \\right)} \\operatorname{Ac}_{3}{\\left(z \\right)},A_{4}{\\left(z \\right)} \\operatorname{Ac}_{4}{\\left(z \\right)},A_{5}{\\left(z \\right)} \\operatorname{Ac}_{5}{\\left(z \\right)} \\right)} \\right|_{\\substack{ \\xi_{2}=A_{1}{\\left(z \\right)} \\operatorname{Ac}_{1}{\\left(z \\right)} }} - i \\operatorname{Ac}_{0}{\\left(z \\right)} \\operatorname{Ac}_{2}{\\left(z \\right)} \\operatorname{Ac}_{3}{\\left(z \\right)} \\operatorname{Ac}_{4}{\\left(z \\right)} \\operatorname{Ac}_{5}{\\left(z \\right)} {\\Omega}_{1} \\kappa$"
      ],
      "text/plain": [
       "Eq(Derivative(A1(z), z), -I*A1(z)*Omega[1]*Subs(Derivative(P(A0(z)*Ac0(z), _xi_2, A2(z)*Ac2(z), A3(z)*Ac3(z), A4(z)*Ac4(z), A5(z)*Ac5(z)), _xi_2), _xi_2, A1(z)*Ac1(z)) - I*Ac0(z)*Ac2(z)*Ac3(z)*Ac4(z)*Ac5(z)*Omega[1]*kappa)"
      ]
     },
     "execution_count": 11,
     "metadata": {},
     "output_type": "execute_result"
    },
    {
     "data": {
      "text/latex": [
       "$\\displaystyle \\frac{d}{d z} A_{2}{\\left(z \\right)} = - i A_{2}{\\left(z \\right)} {\\Omega}_{2} \\left. \\frac{\\partial}{\\partial \\xi_{3}} P{\\left(A_{0}{\\left(z \\right)} \\operatorname{Ac}_{0}{\\left(z \\right)},A_{1}{\\left(z \\right)} \\operatorname{Ac}_{1}{\\left(z \\right)},\\xi_{3},A_{3}{\\left(z \\right)} \\operatorname{Ac}_{3}{\\left(z \\right)},A_{4}{\\left(z \\right)} \\operatorname{Ac}_{4}{\\left(z \\right)},A_{5}{\\left(z \\right)} \\operatorname{Ac}_{5}{\\left(z \\right)} \\right)} \\right|_{\\substack{ \\xi_{3}=A_{2}{\\left(z \\right)} \\operatorname{Ac}_{2}{\\left(z \\right)} }} - i \\operatorname{Ac}_{0}{\\left(z \\right)} \\operatorname{Ac}_{1}{\\left(z \\right)} \\operatorname{Ac}_{3}{\\left(z \\right)} \\operatorname{Ac}_{4}{\\left(z \\right)} \\operatorname{Ac}_{5}{\\left(z \\right)} {\\Omega}_{2} \\kappa$"
      ],
      "text/plain": [
       "Eq(Derivative(A2(z), z), -I*A2(z)*Omega[2]*Subs(Derivative(P(A0(z)*Ac0(z), A1(z)*Ac1(z), _xi_3, A3(z)*Ac3(z), A4(z)*Ac4(z), A5(z)*Ac5(z)), _xi_3), _xi_3, A2(z)*Ac2(z)) - I*Ac0(z)*Ac1(z)*Ac3(z)*Ac4(z)*Ac5(z)*Omega[2]*kappa)"
      ]
     },
     "execution_count": 11,
     "metadata": {},
     "output_type": "execute_result"
    },
    {
     "data": {
      "text/latex": [
       "$\\displaystyle \\frac{d}{d z} A_{3}{\\left(z \\right)} = - i A_{3}{\\left(z \\right)} {\\Omega}_{3} \\left. \\frac{\\partial}{\\partial \\xi_{4}} P{\\left(A_{0}{\\left(z \\right)} \\operatorname{Ac}_{0}{\\left(z \\right)},A_{1}{\\left(z \\right)} \\operatorname{Ac}_{1}{\\left(z \\right)},A_{2}{\\left(z \\right)} \\operatorname{Ac}_{2}{\\left(z \\right)},\\xi_{4},A_{4}{\\left(z \\right)} \\operatorname{Ac}_{4}{\\left(z \\right)},A_{5}{\\left(z \\right)} \\operatorname{Ac}_{5}{\\left(z \\right)} \\right)} \\right|_{\\substack{ \\xi_{4}=A_{3}{\\left(z \\right)} \\operatorname{Ac}_{3}{\\left(z \\right)} }} - i \\operatorname{Ac}_{0}{\\left(z \\right)} \\operatorname{Ac}_{1}{\\left(z \\right)} \\operatorname{Ac}_{2}{\\left(z \\right)} \\operatorname{Ac}_{4}{\\left(z \\right)} \\operatorname{Ac}_{5}{\\left(z \\right)} {\\Omega}_{3} \\kappa$"
      ],
      "text/plain": [
       "Eq(Derivative(A3(z), z), -I*A3(z)*Omega[3]*Subs(Derivative(P(A0(z)*Ac0(z), A1(z)*Ac1(z), A2(z)*Ac2(z), _xi_4, A4(z)*Ac4(z), A5(z)*Ac5(z)), _xi_4), _xi_4, A3(z)*Ac3(z)) - I*Ac0(z)*Ac1(z)*Ac2(z)*Ac4(z)*Ac5(z)*Omega[3]*kappa)"
      ]
     },
     "execution_count": 11,
     "metadata": {},
     "output_type": "execute_result"
    },
    {
     "data": {
      "text/latex": [
       "$\\displaystyle \\frac{d}{d z} A_{4}{\\left(z \\right)} = - i A_{4}{\\left(z \\right)} {\\Omega}_{4} \\left. \\frac{\\partial}{\\partial \\xi_{5}} P{\\left(A_{0}{\\left(z \\right)} \\operatorname{Ac}_{0}{\\left(z \\right)},A_{1}{\\left(z \\right)} \\operatorname{Ac}_{1}{\\left(z \\right)},A_{2}{\\left(z \\right)} \\operatorname{Ac}_{2}{\\left(z \\right)},A_{3}{\\left(z \\right)} \\operatorname{Ac}_{3}{\\left(z \\right)},\\xi_{5},A_{5}{\\left(z \\right)} \\operatorname{Ac}_{5}{\\left(z \\right)} \\right)} \\right|_{\\substack{ \\xi_{5}=A_{4}{\\left(z \\right)} \\operatorname{Ac}_{4}{\\left(z \\right)} }} - i \\operatorname{Ac}_{0}{\\left(z \\right)} \\operatorname{Ac}_{1}{\\left(z \\right)} \\operatorname{Ac}_{2}{\\left(z \\right)} \\operatorname{Ac}_{3}{\\left(z \\right)} \\operatorname{Ac}_{5}{\\left(z \\right)} {\\Omega}_{4} \\kappa$"
      ],
      "text/plain": [
       "Eq(Derivative(A4(z), z), -I*A4(z)*Omega[4]*Subs(Derivative(P(A0(z)*Ac0(z), A1(z)*Ac1(z), A2(z)*Ac2(z), A3(z)*Ac3(z), _xi_5, A5(z)*Ac5(z)), _xi_5), _xi_5, A4(z)*Ac4(z)) - I*Ac0(z)*Ac1(z)*Ac2(z)*Ac3(z)*Ac5(z)*Omega[4]*kappa)"
      ]
     },
     "execution_count": 11,
     "metadata": {},
     "output_type": "execute_result"
    },
    {
     "data": {
      "text/latex": [
       "$\\displaystyle \\frac{d}{d z} A_{5}{\\left(z \\right)} = - i A_{5}{\\left(z \\right)} {\\Omega}_{5} \\left. \\frac{\\partial}{\\partial \\xi_{6}} P{\\left(A_{0}{\\left(z \\right)} \\operatorname{Ac}_{0}{\\left(z \\right)},A_{1}{\\left(z \\right)} \\operatorname{Ac}_{1}{\\left(z \\right)},A_{2}{\\left(z \\right)} \\operatorname{Ac}_{2}{\\left(z \\right)},A_{3}{\\left(z \\right)} \\operatorname{Ac}_{3}{\\left(z \\right)},A_{4}{\\left(z \\right)} \\operatorname{Ac}_{4}{\\left(z \\right)},\\xi_{6} \\right)} \\right|_{\\substack{ \\xi_{6}=A_{5}{\\left(z \\right)} \\operatorname{Ac}_{5}{\\left(z \\right)} }} - i \\operatorname{Ac}_{0}{\\left(z \\right)} \\operatorname{Ac}_{1}{\\left(z \\right)} \\operatorname{Ac}_{2}{\\left(z \\right)} \\operatorname{Ac}_{3}{\\left(z \\right)} \\operatorname{Ac}_{4}{\\left(z \\right)} {\\Omega}_{5} \\kappa$"
      ],
      "text/plain": [
       "Eq(Derivative(A5(z), z), -I*A5(z)*Omega[5]*Subs(Derivative(P(A0(z)*Ac0(z), A1(z)*Ac1(z), A2(z)*Ac2(z), A3(z)*Ac3(z), A4(z)*Ac4(z), _xi_6), _xi_6), _xi_6, A5(z)*Ac5(z)) - I*Ac0(z)*Ac1(z)*Ac2(z)*Ac3(z)*Ac4(z)*Omega[5]*kappa)"
      ]
     },
     "execution_count": 11,
     "metadata": {},
     "output_type": "execute_result"
    },
    {
     "data": {
      "text/latex": [
       "$\\displaystyle \\frac{d}{d z} \\operatorname{Ac}_{0}{\\left(z \\right)} = i A_{1}{\\left(z \\right)} A_{2}{\\left(z \\right)} A_{3}{\\left(z \\right)} A_{4}{\\left(z \\right)} A_{5}{\\left(z \\right)} {\\Omega}_{0} \\kappa + i \\operatorname{Ac}_{0}{\\left(z \\right)} {\\Omega}_{0} \\left. \\frac{\\partial}{\\partial \\xi_{1}} P{\\left(\\xi_{1},A_{1}{\\left(z \\right)} \\operatorname{Ac}_{1}{\\left(z \\right)},A_{2}{\\left(z \\right)} \\operatorname{Ac}_{2}{\\left(z \\right)},A_{3}{\\left(z \\right)} \\operatorname{Ac}_{3}{\\left(z \\right)},A_{4}{\\left(z \\right)} \\operatorname{Ac}_{4}{\\left(z \\right)},A_{5}{\\left(z \\right)} \\operatorname{Ac}_{5}{\\left(z \\right)} \\right)} \\right|_{\\substack{ \\xi_{1}=A_{0}{\\left(z \\right)} \\operatorname{Ac}_{0}{\\left(z \\right)} }}$"
      ],
      "text/plain": [
       "Eq(Derivative(Ac0(z), z), I*A1(z)*A2(z)*A3(z)*A4(z)*A5(z)*Omega[0]*kappa + I*Ac0(z)*Omega[0]*Subs(Derivative(P(_xi_1, A1(z)*Ac1(z), A2(z)*Ac2(z), A3(z)*Ac3(z), A4(z)*Ac4(z), A5(z)*Ac5(z)), _xi_1), _xi_1, A0(z)*Ac0(z)))"
      ]
     },
     "execution_count": 11,
     "metadata": {},
     "output_type": "execute_result"
    },
    {
     "data": {
      "text/latex": [
       "$\\displaystyle \\frac{d}{d z} \\operatorname{Ac}_{1}{\\left(z \\right)} = i A_{0}{\\left(z \\right)} A_{2}{\\left(z \\right)} A_{3}{\\left(z \\right)} A_{4}{\\left(z \\right)} A_{5}{\\left(z \\right)} {\\Omega}_{1} \\kappa + i \\operatorname{Ac}_{1}{\\left(z \\right)} {\\Omega}_{1} \\left. \\frac{\\partial}{\\partial \\xi_{2}} P{\\left(A_{0}{\\left(z \\right)} \\operatorname{Ac}_{0}{\\left(z \\right)},\\xi_{2},A_{2}{\\left(z \\right)} \\operatorname{Ac}_{2}{\\left(z \\right)},A_{3}{\\left(z \\right)} \\operatorname{Ac}_{3}{\\left(z \\right)},A_{4}{\\left(z \\right)} \\operatorname{Ac}_{4}{\\left(z \\right)},A_{5}{\\left(z \\right)} \\operatorname{Ac}_{5}{\\left(z \\right)} \\right)} \\right|_{\\substack{ \\xi_{2}=A_{1}{\\left(z \\right)} \\operatorname{Ac}_{1}{\\left(z \\right)} }}$"
      ],
      "text/plain": [
       "Eq(Derivative(Ac1(z), z), I*A0(z)*A2(z)*A3(z)*A4(z)*A5(z)*Omega[1]*kappa + I*Ac1(z)*Omega[1]*Subs(Derivative(P(A0(z)*Ac0(z), _xi_2, A2(z)*Ac2(z), A3(z)*Ac3(z), A4(z)*Ac4(z), A5(z)*Ac5(z)), _xi_2), _xi_2, A1(z)*Ac1(z)))"
      ]
     },
     "execution_count": 11,
     "metadata": {},
     "output_type": "execute_result"
    },
    {
     "data": {
      "text/latex": [
       "$\\displaystyle \\frac{d}{d z} \\operatorname{Ac}_{2}{\\left(z \\right)} = i A_{0}{\\left(z \\right)} A_{1}{\\left(z \\right)} A_{3}{\\left(z \\right)} A_{4}{\\left(z \\right)} A_{5}{\\left(z \\right)} {\\Omega}_{2} \\kappa + i \\operatorname{Ac}_{2}{\\left(z \\right)} {\\Omega}_{2} \\left. \\frac{\\partial}{\\partial \\xi_{3}} P{\\left(A_{0}{\\left(z \\right)} \\operatorname{Ac}_{0}{\\left(z \\right)},A_{1}{\\left(z \\right)} \\operatorname{Ac}_{1}{\\left(z \\right)},\\xi_{3},A_{3}{\\left(z \\right)} \\operatorname{Ac}_{3}{\\left(z \\right)},A_{4}{\\left(z \\right)} \\operatorname{Ac}_{4}{\\left(z \\right)},A_{5}{\\left(z \\right)} \\operatorname{Ac}_{5}{\\left(z \\right)} \\right)} \\right|_{\\substack{ \\xi_{3}=A_{2}{\\left(z \\right)} \\operatorname{Ac}_{2}{\\left(z \\right)} }}$"
      ],
      "text/plain": [
       "Eq(Derivative(Ac2(z), z), I*A0(z)*A1(z)*A3(z)*A4(z)*A5(z)*Omega[2]*kappa + I*Ac2(z)*Omega[2]*Subs(Derivative(P(A0(z)*Ac0(z), A1(z)*Ac1(z), _xi_3, A3(z)*Ac3(z), A4(z)*Ac4(z), A5(z)*Ac5(z)), _xi_3), _xi_3, A2(z)*Ac2(z)))"
      ]
     },
     "execution_count": 11,
     "metadata": {},
     "output_type": "execute_result"
    },
    {
     "data": {
      "text/latex": [
       "$\\displaystyle \\frac{d}{d z} \\operatorname{Ac}_{3}{\\left(z \\right)} = i A_{0}{\\left(z \\right)} A_{1}{\\left(z \\right)} A_{2}{\\left(z \\right)} A_{4}{\\left(z \\right)} A_{5}{\\left(z \\right)} {\\Omega}_{3} \\kappa + i \\operatorname{Ac}_{3}{\\left(z \\right)} {\\Omega}_{3} \\left. \\frac{\\partial}{\\partial \\xi_{4}} P{\\left(A_{0}{\\left(z \\right)} \\operatorname{Ac}_{0}{\\left(z \\right)},A_{1}{\\left(z \\right)} \\operatorname{Ac}_{1}{\\left(z \\right)},A_{2}{\\left(z \\right)} \\operatorname{Ac}_{2}{\\left(z \\right)},\\xi_{4},A_{4}{\\left(z \\right)} \\operatorname{Ac}_{4}{\\left(z \\right)},A_{5}{\\left(z \\right)} \\operatorname{Ac}_{5}{\\left(z \\right)} \\right)} \\right|_{\\substack{ \\xi_{4}=A_{3}{\\left(z \\right)} \\operatorname{Ac}_{3}{\\left(z \\right)} }}$"
      ],
      "text/plain": [
       "Eq(Derivative(Ac3(z), z), I*A0(z)*A1(z)*A2(z)*A4(z)*A5(z)*Omega[3]*kappa + I*Ac3(z)*Omega[3]*Subs(Derivative(P(A0(z)*Ac0(z), A1(z)*Ac1(z), A2(z)*Ac2(z), _xi_4, A4(z)*Ac4(z), A5(z)*Ac5(z)), _xi_4), _xi_4, A3(z)*Ac3(z)))"
      ]
     },
     "execution_count": 11,
     "metadata": {},
     "output_type": "execute_result"
    },
    {
     "data": {
      "text/latex": [
       "$\\displaystyle \\frac{d}{d z} \\operatorname{Ac}_{4}{\\left(z \\right)} = i A_{0}{\\left(z \\right)} A_{1}{\\left(z \\right)} A_{2}{\\left(z \\right)} A_{3}{\\left(z \\right)} A_{5}{\\left(z \\right)} {\\Omega}_{4} \\kappa + i \\operatorname{Ac}_{4}{\\left(z \\right)} {\\Omega}_{4} \\left. \\frac{\\partial}{\\partial \\xi_{5}} P{\\left(A_{0}{\\left(z \\right)} \\operatorname{Ac}_{0}{\\left(z \\right)},A_{1}{\\left(z \\right)} \\operatorname{Ac}_{1}{\\left(z \\right)},A_{2}{\\left(z \\right)} \\operatorname{Ac}_{2}{\\left(z \\right)},A_{3}{\\left(z \\right)} \\operatorname{Ac}_{3}{\\left(z \\right)},\\xi_{5},A_{5}{\\left(z \\right)} \\operatorname{Ac}_{5}{\\left(z \\right)} \\right)} \\right|_{\\substack{ \\xi_{5}=A_{4}{\\left(z \\right)} \\operatorname{Ac}_{4}{\\left(z \\right)} }}$"
      ],
      "text/plain": [
       "Eq(Derivative(Ac4(z), z), I*A0(z)*A1(z)*A2(z)*A3(z)*A5(z)*Omega[4]*kappa + I*Ac4(z)*Omega[4]*Subs(Derivative(P(A0(z)*Ac0(z), A1(z)*Ac1(z), A2(z)*Ac2(z), A3(z)*Ac3(z), _xi_5, A5(z)*Ac5(z)), _xi_5), _xi_5, A4(z)*Ac4(z)))"
      ]
     },
     "execution_count": 11,
     "metadata": {},
     "output_type": "execute_result"
    },
    {
     "data": {
      "text/latex": [
       "$\\displaystyle \\frac{d}{d z} \\operatorname{Ac}_{5}{\\left(z \\right)} = i A_{0}{\\left(z \\right)} A_{1}{\\left(z \\right)} A_{2}{\\left(z \\right)} A_{3}{\\left(z \\right)} A_{4}{\\left(z \\right)} {\\Omega}_{5} \\kappa + i \\operatorname{Ac}_{5}{\\left(z \\right)} {\\Omega}_{5} \\left. \\frac{\\partial}{\\partial \\xi_{6}} P{\\left(A_{0}{\\left(z \\right)} \\operatorname{Ac}_{0}{\\left(z \\right)},A_{1}{\\left(z \\right)} \\operatorname{Ac}_{1}{\\left(z \\right)},A_{2}{\\left(z \\right)} \\operatorname{Ac}_{2}{\\left(z \\right)},A_{3}{\\left(z \\right)} \\operatorname{Ac}_{3}{\\left(z \\right)},A_{4}{\\left(z \\right)} \\operatorname{Ac}_{4}{\\left(z \\right)},\\xi_{6} \\right)} \\right|_{\\substack{ \\xi_{6}=A_{5}{\\left(z \\right)} \\operatorname{Ac}_{5}{\\left(z \\right)} }}$"
      ],
      "text/plain": [
       "Eq(Derivative(Ac5(z), z), I*A0(z)*A1(z)*A2(z)*A3(z)*A4(z)*Omega[5]*kappa + I*Ac5(z)*Omega[5]*Subs(Derivative(P(A0(z)*Ac0(z), A1(z)*Ac1(z), A2(z)*Ac2(z), A3(z)*Ac3(z), A4(z)*Ac4(z), _xi_6), _xi_6), _xi_6, A5(z)*Ac5(z)))"
      ]
     },
     "execution_count": 11,
     "metadata": {},
     "output_type": "execute_result"
    }
   ],
   "source": [
    "for eq in euler_lagrangian_eqs:\n",
    "    eq"
   ]
  },
  {
   "cell_type": "markdown",
   "metadata": {},
   "source": [
    "and equations of motion for the modal powers that are of the form:"
   ]
  },
  {
   "cell_type": "code",
   "execution_count": 12,
   "metadata": {},
   "outputs": [],
   "source": [
    "power_eqns = [\n",
    "    Eq(diff(Uz[_i],z), diff(Az[_i]*Acz[_i],z)).expand().subs([\n",
    "        (euler_lagrangian_eqs[_i].lhs, euler_lagrangian_eqs[_i].rhs) for _i in range(2*Nmodes)\n",
    "    ]).simplify()\n",
    "    for _i in range(Nmodes)\n",
    "]"
   ]
  },
  {
   "cell_type": "code",
   "execution_count": 13,
   "metadata": {},
   "outputs": [
    {
     "data": {
      "text/latex": [
       "$\\displaystyle \\frac{d}{d z} U_{0}{\\left(z \\right)} = i \\left(A_{0}{\\left(z \\right)} A_{1}{\\left(z \\right)} A_{2}{\\left(z \\right)} A_{3}{\\left(z \\right)} A_{4}{\\left(z \\right)} A_{5}{\\left(z \\right)} - \\operatorname{Ac}_{0}{\\left(z \\right)} \\operatorname{Ac}_{1}{\\left(z \\right)} \\operatorname{Ac}_{2}{\\left(z \\right)} \\operatorname{Ac}_{3}{\\left(z \\right)} \\operatorname{Ac}_{4}{\\left(z \\right)} \\operatorname{Ac}_{5}{\\left(z \\right)}\\right) {\\Omega}_{0} \\kappa$"
      ],
      "text/plain": [
       "Eq(Derivative(U0(z), z), I*(A0(z)*A1(z)*A2(z)*A3(z)*A4(z)*A5(z) - Ac0(z)*Ac1(z)*Ac2(z)*Ac3(z)*Ac4(z)*Ac5(z))*Omega[0]*kappa)"
      ]
     },
     "execution_count": 13,
     "metadata": {},
     "output_type": "execute_result"
    },
    {
     "data": {
      "text/latex": [
       "$\\displaystyle \\frac{d}{d z} U_{1}{\\left(z \\right)} = i \\left(A_{0}{\\left(z \\right)} A_{1}{\\left(z \\right)} A_{2}{\\left(z \\right)} A_{3}{\\left(z \\right)} A_{4}{\\left(z \\right)} A_{5}{\\left(z \\right)} - \\operatorname{Ac}_{0}{\\left(z \\right)} \\operatorname{Ac}_{1}{\\left(z \\right)} \\operatorname{Ac}_{2}{\\left(z \\right)} \\operatorname{Ac}_{3}{\\left(z \\right)} \\operatorname{Ac}_{4}{\\left(z \\right)} \\operatorname{Ac}_{5}{\\left(z \\right)}\\right) {\\Omega}_{1} \\kappa$"
      ],
      "text/plain": [
       "Eq(Derivative(U1(z), z), I*(A0(z)*A1(z)*A2(z)*A3(z)*A4(z)*A5(z) - Ac0(z)*Ac1(z)*Ac2(z)*Ac3(z)*Ac4(z)*Ac5(z))*Omega[1]*kappa)"
      ]
     },
     "execution_count": 13,
     "metadata": {},
     "output_type": "execute_result"
    },
    {
     "data": {
      "text/latex": [
       "$\\displaystyle \\frac{d}{d z} U_{2}{\\left(z \\right)} = i \\left(A_{0}{\\left(z \\right)} A_{1}{\\left(z \\right)} A_{2}{\\left(z \\right)} A_{3}{\\left(z \\right)} A_{4}{\\left(z \\right)} A_{5}{\\left(z \\right)} - \\operatorname{Ac}_{0}{\\left(z \\right)} \\operatorname{Ac}_{1}{\\left(z \\right)} \\operatorname{Ac}_{2}{\\left(z \\right)} \\operatorname{Ac}_{3}{\\left(z \\right)} \\operatorname{Ac}_{4}{\\left(z \\right)} \\operatorname{Ac}_{5}{\\left(z \\right)}\\right) {\\Omega}_{2} \\kappa$"
      ],
      "text/plain": [
       "Eq(Derivative(U2(z), z), I*(A0(z)*A1(z)*A2(z)*A3(z)*A4(z)*A5(z) - Ac0(z)*Ac1(z)*Ac2(z)*Ac3(z)*Ac4(z)*Ac5(z))*Omega[2]*kappa)"
      ]
     },
     "execution_count": 13,
     "metadata": {},
     "output_type": "execute_result"
    },
    {
     "data": {
      "text/latex": [
       "$\\displaystyle \\frac{d}{d z} U_{3}{\\left(z \\right)} = i \\left(A_{0}{\\left(z \\right)} A_{1}{\\left(z \\right)} A_{2}{\\left(z \\right)} A_{3}{\\left(z \\right)} A_{4}{\\left(z \\right)} A_{5}{\\left(z \\right)} - \\operatorname{Ac}_{0}{\\left(z \\right)} \\operatorname{Ac}_{1}{\\left(z \\right)} \\operatorname{Ac}_{2}{\\left(z \\right)} \\operatorname{Ac}_{3}{\\left(z \\right)} \\operatorname{Ac}_{4}{\\left(z \\right)} \\operatorname{Ac}_{5}{\\left(z \\right)}\\right) {\\Omega}_{3} \\kappa$"
      ],
      "text/plain": [
       "Eq(Derivative(U3(z), z), I*(A0(z)*A1(z)*A2(z)*A3(z)*A4(z)*A5(z) - Ac0(z)*Ac1(z)*Ac2(z)*Ac3(z)*Ac4(z)*Ac5(z))*Omega[3]*kappa)"
      ]
     },
     "execution_count": 13,
     "metadata": {},
     "output_type": "execute_result"
    },
    {
     "data": {
      "text/latex": [
       "$\\displaystyle \\frac{d}{d z} U_{4}{\\left(z \\right)} = i \\left(A_{0}{\\left(z \\right)} A_{1}{\\left(z \\right)} A_{2}{\\left(z \\right)} A_{3}{\\left(z \\right)} A_{4}{\\left(z \\right)} A_{5}{\\left(z \\right)} - \\operatorname{Ac}_{0}{\\left(z \\right)} \\operatorname{Ac}_{1}{\\left(z \\right)} \\operatorname{Ac}_{2}{\\left(z \\right)} \\operatorname{Ac}_{3}{\\left(z \\right)} \\operatorname{Ac}_{4}{\\left(z \\right)} \\operatorname{Ac}_{5}{\\left(z \\right)}\\right) {\\Omega}_{4} \\kappa$"
      ],
      "text/plain": [
       "Eq(Derivative(U4(z), z), I*(A0(z)*A1(z)*A2(z)*A3(z)*A4(z)*A5(z) - Ac0(z)*Ac1(z)*Ac2(z)*Ac3(z)*Ac4(z)*Ac5(z))*Omega[4]*kappa)"
      ]
     },
     "execution_count": 13,
     "metadata": {},
     "output_type": "execute_result"
    },
    {
     "data": {
      "text/latex": [
       "$\\displaystyle \\frac{d}{d z} U_{5}{\\left(z \\right)} = i \\left(A_{0}{\\left(z \\right)} A_{1}{\\left(z \\right)} A_{2}{\\left(z \\right)} A_{3}{\\left(z \\right)} A_{4}{\\left(z \\right)} A_{5}{\\left(z \\right)} - \\operatorname{Ac}_{0}{\\left(z \\right)} \\operatorname{Ac}_{1}{\\left(z \\right)} \\operatorname{Ac}_{2}{\\left(z \\right)} \\operatorname{Ac}_{3}{\\left(z \\right)} \\operatorname{Ac}_{4}{\\left(z \\right)} \\operatorname{Ac}_{5}{\\left(z \\right)}\\right) {\\Omega}_{5} \\kappa$"
      ],
      "text/plain": [
       "Eq(Derivative(U5(z), z), I*(A0(z)*A1(z)*A2(z)*A3(z)*A4(z)*A5(z) - Ac0(z)*Ac1(z)*Ac2(z)*Ac3(z)*Ac4(z)*Ac5(z))*Omega[5]*kappa)"
      ]
     },
     "execution_count": 13,
     "metadata": {},
     "output_type": "execute_result"
    }
   ],
   "source": [
    "for eq in power_eqns:\n",
    "    eq"
   ]
  },
  {
   "cell_type": "markdown",
   "metadata": {},
   "source": [
    "## Conservation Laws"
   ]
  },
  {
   "cell_type": "markdown",
   "metadata": {},
   "source": [
    "### Conservation of total power"
   ]
  },
  {
   "cell_type": "markdown",
   "metadata": {},
   "source": [
    "The total modal power is defined as the sum of all modal powers:"
   ]
  },
  {
   "cell_type": "code",
   "execution_count": 14,
   "metadata": {},
   "outputs": [
    {
     "data": {
      "text/latex": [
       "$\\displaystyle s{\\left(z \\right)} = A_{0}{\\left(z \\right)} \\operatorname{Ac}_{0}{\\left(z \\right)} + A_{1}{\\left(z \\right)} \\operatorname{Ac}_{1}{\\left(z \\right)} + A_{2}{\\left(z \\right)} \\operatorname{Ac}_{2}{\\left(z \\right)} + A_{3}{\\left(z \\right)} \\operatorname{Ac}_{3}{\\left(z \\right)} + A_{4}{\\left(z \\right)} \\operatorname{Ac}_{4}{\\left(z \\right)} + A_{5}{\\left(z \\right)} \\operatorname{Ac}_{5}{\\left(z \\right)}$"
      ],
      "text/plain": [
       "Eq(s(z), A0(z)*Ac0(z) + A1(z)*Ac1(z) + A2(z)*Ac2(z) + A3(z)*Ac3(z) + A4(z)*Ac4(z) + A5(z)*Ac5(z))"
      ]
     },
     "execution_count": 14,
     "metadata": {},
     "output_type": "execute_result"
    }
   ],
   "source": [
    "sz_eq = Eq(s(z), sum([Az[_i]*Acz[_i] for _i in range(Nmodes)]))\n",
    "sz_eq"
   ]
  },
  {
   "cell_type": "markdown",
   "metadata": {},
   "source": [
    "From the equations of motion, it evolves accordingly:"
   ]
  },
  {
   "cell_type": "code",
   "execution_count": 15,
   "metadata": {},
   "outputs": [
    {
     "data": {
      "text/latex": [
       "$\\displaystyle \\frac{d}{d z} s{\\left(z \\right)} = A_{0}{\\left(z \\right)} \\frac{d}{d z} \\operatorname{Ac}_{0}{\\left(z \\right)} + A_{1}{\\left(z \\right)} \\frac{d}{d z} \\operatorname{Ac}_{1}{\\left(z \\right)} + A_{2}{\\left(z \\right)} \\frac{d}{d z} \\operatorname{Ac}_{2}{\\left(z \\right)} + A_{3}{\\left(z \\right)} \\frac{d}{d z} \\operatorname{Ac}_{3}{\\left(z \\right)} + A_{4}{\\left(z \\right)} \\frac{d}{d z} \\operatorname{Ac}_{4}{\\left(z \\right)} + A_{5}{\\left(z \\right)} \\frac{d}{d z} \\operatorname{Ac}_{5}{\\left(z \\right)} + \\operatorname{Ac}_{0}{\\left(z \\right)} \\frac{d}{d z} A_{0}{\\left(z \\right)} + \\operatorname{Ac}_{1}{\\left(z \\right)} \\frac{d}{d z} A_{1}{\\left(z \\right)} + \\operatorname{Ac}_{2}{\\left(z \\right)} \\frac{d}{d z} A_{2}{\\left(z \\right)} + \\operatorname{Ac}_{3}{\\left(z \\right)} \\frac{d}{d z} A_{3}{\\left(z \\right)} + \\operatorname{Ac}_{4}{\\left(z \\right)} \\frac{d}{d z} A_{4}{\\left(z \\right)} + \\operatorname{Ac}_{5}{\\left(z \\right)} \\frac{d}{d z} A_{5}{\\left(z \\right)}$"
      ],
      "text/plain": [
       "Eq(Derivative(s(z), z), A0(z)*Derivative(Ac0(z), z) + A1(z)*Derivative(Ac1(z), z) + A2(z)*Derivative(Ac2(z), z) + A3(z)*Derivative(Ac3(z), z) + A4(z)*Derivative(Ac4(z), z) + A5(z)*Derivative(Ac5(z), z) + Ac0(z)*Derivative(A0(z), z) + Ac1(z)*Derivative(A1(z), z) + Ac2(z)*Derivative(A2(z), z) + Ac3(z)*Derivative(A3(z), z) + Ac4(z)*Derivative(A4(z), z) + Ac5(z)*Derivative(A5(z), z))"
      ]
     },
     "execution_count": 15,
     "metadata": {},
     "output_type": "execute_result"
    }
   ],
   "source": [
    "DPz_eq = Eq(diff(s(z),z), diff(s(z),z).subs(sz_eq.lhs, sz_eq.rhs)).doit().subs([\n",
    "    (power_eqn.lhs, power_eqn.rhs) for power_eqn in power_eqns\n",
    "])\n",
    "DPz_eq = Eq(DPz_eq.lhs, DPz_eq.rhs.factor())\n",
    "DPz_eq"
   ]
  },
  {
   "cell_type": "markdown",
   "metadata": {},
   "source": [
    "For it to be a constant, a constraint must be placed on $\\Omega_i$ in the kinetic terms, that is:"
   ]
  },
  {
   "cell_type": "code",
   "execution_count": 16,
   "metadata": {
    "scrolled": true
   },
   "outputs": [
    {
     "data": {
      "text/latex": [
       "$\\displaystyle \\frac{d}{d z} s{\\left(z \\right)} = 0$"
      ],
      "text/plain": [
       "Eq(Derivative(s(z), z), 0)"
      ]
     },
     "execution_count": 16,
     "metadata": {},
     "output_type": "execute_result"
    }
   ],
   "source": [
    "Eq(diff(s(z),z),0)"
   ]
  },
  {
   "cell_type": "markdown",
   "metadata": {},
   "source": [
    "requires:"
   ]
  },
  {
   "cell_type": "code",
   "execution_count": 17,
   "metadata": {},
   "outputs": [
    {
     "data": {
      "text/latex": [
       "$\\displaystyle \\sum_{n=0}^{N} {\\Omega}_{n} = 0$"
      ],
      "text/plain": [
       "Eq(Sum(Omega[n], (n, 0, N)), 0)"
      ]
     },
     "execution_count": 17,
     "metadata": {},
     "output_type": "execute_result"
    }
   ],
   "source": [
    "Eq(Sum(Omega[n],(n,0,N)),0)"
   ]
  },
  {
   "cell_type": "markdown",
   "metadata": {},
   "source": [
    "### Conservation of modal power combinations"
   ]
  },
  {
   "cell_type": "code",
   "execution_count": 18,
   "metadata": {},
   "outputs": [],
   "source": [
    "B_U_subs = [ ( B[_j, _k,], Uz[_j] - Uz[_k] ) for _j in range(Nmodes) for _k in range(Nmodes) ]\n",
    "Ac_U_subs = [(Acz[_j], Uz[_j]/Az[_j]) for _j in range(Nmodes)]"
   ]
  },
  {
   "cell_type": "markdown",
   "metadata": {},
   "source": [
    "By making $P$ a function of the modes multiplied by their conjugates, conserved quantities manifest for combinations of modal powers. These conservation laws mean that any modal power can be expressed in terms of another."
   ]
  },
  {
   "cell_type": "code",
   "execution_count": 19,
   "metadata": {
    "scrolled": true
   },
   "outputs": [
    {
     "data": {
      "text/latex": [
       "$\\displaystyle \\frac{d}{d z} U_{0}{\\left(z \\right)} {\\Omega}_{1} - \\frac{d}{d z} U_{1}{\\left(z \\right)} {\\Omega}_{0} = 0$"
      ],
      "text/plain": [
       "Eq(Derivative(U0(z), z)*Omega[1] - Derivative(U1(z), z)*Omega[0], 0)"
      ]
     },
     "execution_count": 19,
     "metadata": {},
     "output_type": "execute_result"
    },
    {
     "data": {
      "text/latex": [
       "$\\displaystyle \\frac{d}{d z} U_{0}{\\left(z \\right)} {\\Omega}_{2} - \\frac{d}{d z} U_{2}{\\left(z \\right)} {\\Omega}_{0} = 0$"
      ],
      "text/plain": [
       "Eq(Derivative(U0(z), z)*Omega[2] - Derivative(U2(z), z)*Omega[0], 0)"
      ]
     },
     "execution_count": 19,
     "metadata": {},
     "output_type": "execute_result"
    },
    {
     "data": {
      "text/latex": [
       "$\\displaystyle \\frac{d}{d z} U_{0}{\\left(z \\right)} {\\Omega}_{3} - \\frac{d}{d z} U_{3}{\\left(z \\right)} {\\Omega}_{0} = 0$"
      ],
      "text/plain": [
       "Eq(Derivative(U0(z), z)*Omega[3] - Derivative(U3(z), z)*Omega[0], 0)"
      ]
     },
     "execution_count": 19,
     "metadata": {},
     "output_type": "execute_result"
    },
    {
     "data": {
      "text/latex": [
       "$\\displaystyle \\frac{d}{d z} U_{0}{\\left(z \\right)} {\\Omega}_{4} - \\frac{d}{d z} U_{4}{\\left(z \\right)} {\\Omega}_{0} = 0$"
      ],
      "text/plain": [
       "Eq(Derivative(U0(z), z)*Omega[4] - Derivative(U4(z), z)*Omega[0], 0)"
      ]
     },
     "execution_count": 19,
     "metadata": {},
     "output_type": "execute_result"
    },
    {
     "data": {
      "text/latex": [
       "$\\displaystyle \\frac{d}{d z} U_{0}{\\left(z \\right)} {\\Omega}_{5} - \\frac{d}{d z} U_{5}{\\left(z \\right)} {\\Omega}_{0} = 0$"
      ],
      "text/plain": [
       "Eq(Derivative(U0(z), z)*Omega[5] - Derivative(U5(z), z)*Omega[0], 0)"
      ]
     },
     "execution_count": 19,
     "metadata": {},
     "output_type": "execute_result"
    },
    {
     "data": {
      "text/latex": [
       "$\\displaystyle - \\frac{d}{d z} U_{0}{\\left(z \\right)} {\\Omega}_{1} + \\frac{d}{d z} U_{1}{\\left(z \\right)} {\\Omega}_{0} = 0$"
      ],
      "text/plain": [
       "Eq(-Derivative(U0(z), z)*Omega[1] + Derivative(U1(z), z)*Omega[0], 0)"
      ]
     },
     "execution_count": 19,
     "metadata": {},
     "output_type": "execute_result"
    },
    {
     "data": {
      "text/latex": [
       "$\\displaystyle \\frac{d}{d z} U_{1}{\\left(z \\right)} {\\Omega}_{2} - \\frac{d}{d z} U_{2}{\\left(z \\right)} {\\Omega}_{1} = 0$"
      ],
      "text/plain": [
       "Eq(Derivative(U1(z), z)*Omega[2] - Derivative(U2(z), z)*Omega[1], 0)"
      ]
     },
     "execution_count": 19,
     "metadata": {},
     "output_type": "execute_result"
    },
    {
     "data": {
      "text/latex": [
       "$\\displaystyle \\frac{d}{d z} U_{1}{\\left(z \\right)} {\\Omega}_{3} - \\frac{d}{d z} U_{3}{\\left(z \\right)} {\\Omega}_{1} = 0$"
      ],
      "text/plain": [
       "Eq(Derivative(U1(z), z)*Omega[3] - Derivative(U3(z), z)*Omega[1], 0)"
      ]
     },
     "execution_count": 19,
     "metadata": {},
     "output_type": "execute_result"
    },
    {
     "data": {
      "text/latex": [
       "$\\displaystyle \\frac{d}{d z} U_{1}{\\left(z \\right)} {\\Omega}_{4} - \\frac{d}{d z} U_{4}{\\left(z \\right)} {\\Omega}_{1} = 0$"
      ],
      "text/plain": [
       "Eq(Derivative(U1(z), z)*Omega[4] - Derivative(U4(z), z)*Omega[1], 0)"
      ]
     },
     "execution_count": 19,
     "metadata": {},
     "output_type": "execute_result"
    },
    {
     "data": {
      "text/latex": [
       "$\\displaystyle \\frac{d}{d z} U_{1}{\\left(z \\right)} {\\Omega}_{5} - \\frac{d}{d z} U_{5}{\\left(z \\right)} {\\Omega}_{1} = 0$"
      ],
      "text/plain": [
       "Eq(Derivative(U1(z), z)*Omega[5] - Derivative(U5(z), z)*Omega[1], 0)"
      ]
     },
     "execution_count": 19,
     "metadata": {},
     "output_type": "execute_result"
    },
    {
     "data": {
      "text/latex": [
       "$\\displaystyle - \\frac{d}{d z} U_{0}{\\left(z \\right)} {\\Omega}_{2} + \\frac{d}{d z} U_{2}{\\left(z \\right)} {\\Omega}_{0} = 0$"
      ],
      "text/plain": [
       "Eq(-Derivative(U0(z), z)*Omega[2] + Derivative(U2(z), z)*Omega[0], 0)"
      ]
     },
     "execution_count": 19,
     "metadata": {},
     "output_type": "execute_result"
    },
    {
     "data": {
      "text/latex": [
       "$\\displaystyle - \\frac{d}{d z} U_{1}{\\left(z \\right)} {\\Omega}_{2} + \\frac{d}{d z} U_{2}{\\left(z \\right)} {\\Omega}_{1} = 0$"
      ],
      "text/plain": [
       "Eq(-Derivative(U1(z), z)*Omega[2] + Derivative(U2(z), z)*Omega[1], 0)"
      ]
     },
     "execution_count": 19,
     "metadata": {},
     "output_type": "execute_result"
    },
    {
     "data": {
      "text/latex": [
       "$\\displaystyle \\frac{d}{d z} U_{2}{\\left(z \\right)} {\\Omega}_{3} - \\frac{d}{d z} U_{3}{\\left(z \\right)} {\\Omega}_{2} = 0$"
      ],
      "text/plain": [
       "Eq(Derivative(U2(z), z)*Omega[3] - Derivative(U3(z), z)*Omega[2], 0)"
      ]
     },
     "execution_count": 19,
     "metadata": {},
     "output_type": "execute_result"
    },
    {
     "data": {
      "text/latex": [
       "$\\displaystyle \\frac{d}{d z} U_{2}{\\left(z \\right)} {\\Omega}_{4} - \\frac{d}{d z} U_{4}{\\left(z \\right)} {\\Omega}_{2} = 0$"
      ],
      "text/plain": [
       "Eq(Derivative(U2(z), z)*Omega[4] - Derivative(U4(z), z)*Omega[2], 0)"
      ]
     },
     "execution_count": 19,
     "metadata": {},
     "output_type": "execute_result"
    },
    {
     "data": {
      "text/latex": [
       "$\\displaystyle \\frac{d}{d z} U_{2}{\\left(z \\right)} {\\Omega}_{5} - \\frac{d}{d z} U_{5}{\\left(z \\right)} {\\Omega}_{2} = 0$"
      ],
      "text/plain": [
       "Eq(Derivative(U2(z), z)*Omega[5] - Derivative(U5(z), z)*Omega[2], 0)"
      ]
     },
     "execution_count": 19,
     "metadata": {},
     "output_type": "execute_result"
    },
    {
     "data": {
      "text/latex": [
       "$\\displaystyle - \\frac{d}{d z} U_{0}{\\left(z \\right)} {\\Omega}_{3} + \\frac{d}{d z} U_{3}{\\left(z \\right)} {\\Omega}_{0} = 0$"
      ],
      "text/plain": [
       "Eq(-Derivative(U0(z), z)*Omega[3] + Derivative(U3(z), z)*Omega[0], 0)"
      ]
     },
     "execution_count": 19,
     "metadata": {},
     "output_type": "execute_result"
    },
    {
     "data": {
      "text/latex": [
       "$\\displaystyle - \\frac{d}{d z} U_{1}{\\left(z \\right)} {\\Omega}_{3} + \\frac{d}{d z} U_{3}{\\left(z \\right)} {\\Omega}_{1} = 0$"
      ],
      "text/plain": [
       "Eq(-Derivative(U1(z), z)*Omega[3] + Derivative(U3(z), z)*Omega[1], 0)"
      ]
     },
     "execution_count": 19,
     "metadata": {},
     "output_type": "execute_result"
    },
    {
     "data": {
      "text/latex": [
       "$\\displaystyle - \\frac{d}{d z} U_{2}{\\left(z \\right)} {\\Omega}_{3} + \\frac{d}{d z} U_{3}{\\left(z \\right)} {\\Omega}_{2} = 0$"
      ],
      "text/plain": [
       "Eq(-Derivative(U2(z), z)*Omega[3] + Derivative(U3(z), z)*Omega[2], 0)"
      ]
     },
     "execution_count": 19,
     "metadata": {},
     "output_type": "execute_result"
    },
    {
     "data": {
      "text/latex": [
       "$\\displaystyle \\frac{d}{d z} U_{3}{\\left(z \\right)} {\\Omega}_{4} - \\frac{d}{d z} U_{4}{\\left(z \\right)} {\\Omega}_{3} = 0$"
      ],
      "text/plain": [
       "Eq(Derivative(U3(z), z)*Omega[4] - Derivative(U4(z), z)*Omega[3], 0)"
      ]
     },
     "execution_count": 19,
     "metadata": {},
     "output_type": "execute_result"
    },
    {
     "data": {
      "text/latex": [
       "$\\displaystyle \\frac{d}{d z} U_{3}{\\left(z \\right)} {\\Omega}_{5} - \\frac{d}{d z} U_{5}{\\left(z \\right)} {\\Omega}_{3} = 0$"
      ],
      "text/plain": [
       "Eq(Derivative(U3(z), z)*Omega[5] - Derivative(U5(z), z)*Omega[3], 0)"
      ]
     },
     "execution_count": 19,
     "metadata": {},
     "output_type": "execute_result"
    },
    {
     "data": {
      "text/latex": [
       "$\\displaystyle - \\frac{d}{d z} U_{0}{\\left(z \\right)} {\\Omega}_{4} + \\frac{d}{d z} U_{4}{\\left(z \\right)} {\\Omega}_{0} = 0$"
      ],
      "text/plain": [
       "Eq(-Derivative(U0(z), z)*Omega[4] + Derivative(U4(z), z)*Omega[0], 0)"
      ]
     },
     "execution_count": 19,
     "metadata": {},
     "output_type": "execute_result"
    },
    {
     "data": {
      "text/latex": [
       "$\\displaystyle - \\frac{d}{d z} U_{1}{\\left(z \\right)} {\\Omega}_{4} + \\frac{d}{d z} U_{4}{\\left(z \\right)} {\\Omega}_{1} = 0$"
      ],
      "text/plain": [
       "Eq(-Derivative(U1(z), z)*Omega[4] + Derivative(U4(z), z)*Omega[1], 0)"
      ]
     },
     "execution_count": 19,
     "metadata": {},
     "output_type": "execute_result"
    },
    {
     "data": {
      "text/latex": [
       "$\\displaystyle - \\frac{d}{d z} U_{2}{\\left(z \\right)} {\\Omega}_{4} + \\frac{d}{d z} U_{4}{\\left(z \\right)} {\\Omega}_{2} = 0$"
      ],
      "text/plain": [
       "Eq(-Derivative(U2(z), z)*Omega[4] + Derivative(U4(z), z)*Omega[2], 0)"
      ]
     },
     "execution_count": 19,
     "metadata": {},
     "output_type": "execute_result"
    },
    {
     "data": {
      "text/latex": [
       "$\\displaystyle - \\frac{d}{d z} U_{3}{\\left(z \\right)} {\\Omega}_{4} + \\frac{d}{d z} U_{4}{\\left(z \\right)} {\\Omega}_{3} = 0$"
      ],
      "text/plain": [
       "Eq(-Derivative(U3(z), z)*Omega[4] + Derivative(U4(z), z)*Omega[3], 0)"
      ]
     },
     "execution_count": 19,
     "metadata": {},
     "output_type": "execute_result"
    },
    {
     "data": {
      "text/latex": [
       "$\\displaystyle \\frac{d}{d z} U_{4}{\\left(z \\right)} {\\Omega}_{5} - \\frac{d}{d z} U_{5}{\\left(z \\right)} {\\Omega}_{4} = 0$"
      ],
      "text/plain": [
       "Eq(Derivative(U4(z), z)*Omega[5] - Derivative(U5(z), z)*Omega[4], 0)"
      ]
     },
     "execution_count": 19,
     "metadata": {},
     "output_type": "execute_result"
    },
    {
     "data": {
      "text/latex": [
       "$\\displaystyle - \\frac{d}{d z} U_{0}{\\left(z \\right)} {\\Omega}_{5} + \\frac{d}{d z} U_{5}{\\left(z \\right)} {\\Omega}_{0} = 0$"
      ],
      "text/plain": [
       "Eq(-Derivative(U0(z), z)*Omega[5] + Derivative(U5(z), z)*Omega[0], 0)"
      ]
     },
     "execution_count": 19,
     "metadata": {},
     "output_type": "execute_result"
    },
    {
     "data": {
      "text/latex": [
       "$\\displaystyle - \\frac{d}{d z} U_{1}{\\left(z \\right)} {\\Omega}_{5} + \\frac{d}{d z} U_{5}{\\left(z \\right)} {\\Omega}_{1} = 0$"
      ],
      "text/plain": [
       "Eq(-Derivative(U1(z), z)*Omega[5] + Derivative(U5(z), z)*Omega[1], 0)"
      ]
     },
     "execution_count": 19,
     "metadata": {},
     "output_type": "execute_result"
    },
    {
     "data": {
      "text/latex": [
       "$\\displaystyle - \\frac{d}{d z} U_{2}{\\left(z \\right)} {\\Omega}_{5} + \\frac{d}{d z} U_{5}{\\left(z \\right)} {\\Omega}_{2} = 0$"
      ],
      "text/plain": [
       "Eq(-Derivative(U2(z), z)*Omega[5] + Derivative(U5(z), z)*Omega[2], 0)"
      ]
     },
     "execution_count": 19,
     "metadata": {},
     "output_type": "execute_result"
    },
    {
     "data": {
      "text/latex": [
       "$\\displaystyle - \\frac{d}{d z} U_{3}{\\left(z \\right)} {\\Omega}_{5} + \\frac{d}{d z} U_{5}{\\left(z \\right)} {\\Omega}_{3} = 0$"
      ],
      "text/plain": [
       "Eq(-Derivative(U3(z), z)*Omega[5] + Derivative(U5(z), z)*Omega[3], 0)"
      ]
     },
     "execution_count": 19,
     "metadata": {},
     "output_type": "execute_result"
    },
    {
     "data": {
      "text/latex": [
       "$\\displaystyle - \\frac{d}{d z} U_{4}{\\left(z \\right)} {\\Omega}_{5} + \\frac{d}{d z} U_{5}{\\left(z \\right)} {\\Omega}_{4} = 0$"
      ],
      "text/plain": [
       "Eq(-Derivative(U4(z), z)*Omega[5] + Derivative(U5(z), z)*Omega[4], 0)"
      ]
     },
     "execution_count": 19,
     "metadata": {},
     "output_type": "execute_result"
    }
   ],
   "source": [
    "for _i in range(Nmodes):\n",
    "    for _j in range(Nmodes):\n",
    "        if _i != _j:\n",
    "            Eq(\n",
    "                power_eqns[_i].lhs*Omega[_j]-power_eqns[_j].lhs*Omega[_i], \n",
    "                power_eqns[_i].rhs*Omega[_j]-power_eqns[_j].rhs*Omega[_i]\n",
    "            )"
   ]
  },
  {
   "cell_type": "code",
   "execution_count": 20,
   "metadata": {},
   "outputs": [],
   "source": [
    "B_defs = [[Eq(B[_i,_j], Uz[_i]*Omega[_j] - Uz[_j]*Omega[_i]) for _j in range(Nmodes)] for _i in range(Nmodes)]"
   ]
  },
  {
   "cell_type": "code",
   "execution_count": 21,
   "metadata": {},
   "outputs": [
    {
     "data": {
      "text/latex": [
       "$\\displaystyle {B}_{0,1} = U_{0}{\\left(z \\right)} {\\Omega}_{1} - U_{1}{\\left(z \\right)} {\\Omega}_{0}$"
      ],
      "text/plain": [
       "Eq(B[0, 1], U0(z)*Omega[1] - U1(z)*Omega[0])"
      ]
     },
     "execution_count": 21,
     "metadata": {},
     "output_type": "execute_result"
    },
    {
     "data": {
      "text/latex": [
       "$\\displaystyle {B}_{0,2} = U_{0}{\\left(z \\right)} {\\Omega}_{2} - U_{2}{\\left(z \\right)} {\\Omega}_{0}$"
      ],
      "text/plain": [
       "Eq(B[0, 2], U0(z)*Omega[2] - U2(z)*Omega[0])"
      ]
     },
     "execution_count": 21,
     "metadata": {},
     "output_type": "execute_result"
    },
    {
     "data": {
      "text/latex": [
       "$\\displaystyle {B}_{0,3} = U_{0}{\\left(z \\right)} {\\Omega}_{3} - U_{3}{\\left(z \\right)} {\\Omega}_{0}$"
      ],
      "text/plain": [
       "Eq(B[0, 3], U0(z)*Omega[3] - U3(z)*Omega[0])"
      ]
     },
     "execution_count": 21,
     "metadata": {},
     "output_type": "execute_result"
    },
    {
     "data": {
      "text/latex": [
       "$\\displaystyle {B}_{0,4} = U_{0}{\\left(z \\right)} {\\Omega}_{4} - U_{4}{\\left(z \\right)} {\\Omega}_{0}$"
      ],
      "text/plain": [
       "Eq(B[0, 4], U0(z)*Omega[4] - U4(z)*Omega[0])"
      ]
     },
     "execution_count": 21,
     "metadata": {},
     "output_type": "execute_result"
    },
    {
     "data": {
      "text/latex": [
       "$\\displaystyle {B}_{0,5} = U_{0}{\\left(z \\right)} {\\Omega}_{5} - U_{5}{\\left(z \\right)} {\\Omega}_{0}$"
      ],
      "text/plain": [
       "Eq(B[0, 5], U0(z)*Omega[5] - U5(z)*Omega[0])"
      ]
     },
     "execution_count": 21,
     "metadata": {},
     "output_type": "execute_result"
    },
    {
     "data": {
      "text/latex": [
       "$\\displaystyle {B}_{1,0} = - U_{0}{\\left(z \\right)} {\\Omega}_{1} + U_{1}{\\left(z \\right)} {\\Omega}_{0}$"
      ],
      "text/plain": [
       "Eq(B[1, 0], -U0(z)*Omega[1] + U1(z)*Omega[0])"
      ]
     },
     "execution_count": 21,
     "metadata": {},
     "output_type": "execute_result"
    },
    {
     "data": {
      "text/latex": [
       "$\\displaystyle {B}_{1,2} = U_{1}{\\left(z \\right)} {\\Omega}_{2} - U_{2}{\\left(z \\right)} {\\Omega}_{1}$"
      ],
      "text/plain": [
       "Eq(B[1, 2], U1(z)*Omega[2] - U2(z)*Omega[1])"
      ]
     },
     "execution_count": 21,
     "metadata": {},
     "output_type": "execute_result"
    },
    {
     "data": {
      "text/latex": [
       "$\\displaystyle {B}_{1,3} = U_{1}{\\left(z \\right)} {\\Omega}_{3} - U_{3}{\\left(z \\right)} {\\Omega}_{1}$"
      ],
      "text/plain": [
       "Eq(B[1, 3], U1(z)*Omega[3] - U3(z)*Omega[1])"
      ]
     },
     "execution_count": 21,
     "metadata": {},
     "output_type": "execute_result"
    },
    {
     "data": {
      "text/latex": [
       "$\\displaystyle {B}_{1,4} = U_{1}{\\left(z \\right)} {\\Omega}_{4} - U_{4}{\\left(z \\right)} {\\Omega}_{1}$"
      ],
      "text/plain": [
       "Eq(B[1, 4], U1(z)*Omega[4] - U4(z)*Omega[1])"
      ]
     },
     "execution_count": 21,
     "metadata": {},
     "output_type": "execute_result"
    },
    {
     "data": {
      "text/latex": [
       "$\\displaystyle {B}_{1,5} = U_{1}{\\left(z \\right)} {\\Omega}_{5} - U_{5}{\\left(z \\right)} {\\Omega}_{1}$"
      ],
      "text/plain": [
       "Eq(B[1, 5], U1(z)*Omega[5] - U5(z)*Omega[1])"
      ]
     },
     "execution_count": 21,
     "metadata": {},
     "output_type": "execute_result"
    },
    {
     "data": {
      "text/latex": [
       "$\\displaystyle {B}_{2,0} = - U_{0}{\\left(z \\right)} {\\Omega}_{2} + U_{2}{\\left(z \\right)} {\\Omega}_{0}$"
      ],
      "text/plain": [
       "Eq(B[2, 0], -U0(z)*Omega[2] + U2(z)*Omega[0])"
      ]
     },
     "execution_count": 21,
     "metadata": {},
     "output_type": "execute_result"
    },
    {
     "data": {
      "text/latex": [
       "$\\displaystyle {B}_{2,1} = - U_{1}{\\left(z \\right)} {\\Omega}_{2} + U_{2}{\\left(z \\right)} {\\Omega}_{1}$"
      ],
      "text/plain": [
       "Eq(B[2, 1], -U1(z)*Omega[2] + U2(z)*Omega[1])"
      ]
     },
     "execution_count": 21,
     "metadata": {},
     "output_type": "execute_result"
    },
    {
     "data": {
      "text/latex": [
       "$\\displaystyle {B}_{2,3} = U_{2}{\\left(z \\right)} {\\Omega}_{3} - U_{3}{\\left(z \\right)} {\\Omega}_{2}$"
      ],
      "text/plain": [
       "Eq(B[2, 3], U2(z)*Omega[3] - U3(z)*Omega[2])"
      ]
     },
     "execution_count": 21,
     "metadata": {},
     "output_type": "execute_result"
    },
    {
     "data": {
      "text/latex": [
       "$\\displaystyle {B}_{2,4} = U_{2}{\\left(z \\right)} {\\Omega}_{4} - U_{4}{\\left(z \\right)} {\\Omega}_{2}$"
      ],
      "text/plain": [
       "Eq(B[2, 4], U2(z)*Omega[4] - U4(z)*Omega[2])"
      ]
     },
     "execution_count": 21,
     "metadata": {},
     "output_type": "execute_result"
    },
    {
     "data": {
      "text/latex": [
       "$\\displaystyle {B}_{2,5} = U_{2}{\\left(z \\right)} {\\Omega}_{5} - U_{5}{\\left(z \\right)} {\\Omega}_{2}$"
      ],
      "text/plain": [
       "Eq(B[2, 5], U2(z)*Omega[5] - U5(z)*Omega[2])"
      ]
     },
     "execution_count": 21,
     "metadata": {},
     "output_type": "execute_result"
    },
    {
     "data": {
      "text/latex": [
       "$\\displaystyle {B}_{3,0} = - U_{0}{\\left(z \\right)} {\\Omega}_{3} + U_{3}{\\left(z \\right)} {\\Omega}_{0}$"
      ],
      "text/plain": [
       "Eq(B[3, 0], -U0(z)*Omega[3] + U3(z)*Omega[0])"
      ]
     },
     "execution_count": 21,
     "metadata": {},
     "output_type": "execute_result"
    },
    {
     "data": {
      "text/latex": [
       "$\\displaystyle {B}_{3,1} = - U_{1}{\\left(z \\right)} {\\Omega}_{3} + U_{3}{\\left(z \\right)} {\\Omega}_{1}$"
      ],
      "text/plain": [
       "Eq(B[3, 1], -U1(z)*Omega[3] + U3(z)*Omega[1])"
      ]
     },
     "execution_count": 21,
     "metadata": {},
     "output_type": "execute_result"
    },
    {
     "data": {
      "text/latex": [
       "$\\displaystyle {B}_{3,2} = - U_{2}{\\left(z \\right)} {\\Omega}_{3} + U_{3}{\\left(z \\right)} {\\Omega}_{2}$"
      ],
      "text/plain": [
       "Eq(B[3, 2], -U2(z)*Omega[3] + U3(z)*Omega[2])"
      ]
     },
     "execution_count": 21,
     "metadata": {},
     "output_type": "execute_result"
    },
    {
     "data": {
      "text/latex": [
       "$\\displaystyle {B}_{3,4} = U_{3}{\\left(z \\right)} {\\Omega}_{4} - U_{4}{\\left(z \\right)} {\\Omega}_{3}$"
      ],
      "text/plain": [
       "Eq(B[3, 4], U3(z)*Omega[4] - U4(z)*Omega[3])"
      ]
     },
     "execution_count": 21,
     "metadata": {},
     "output_type": "execute_result"
    },
    {
     "data": {
      "text/latex": [
       "$\\displaystyle {B}_{3,5} = U_{3}{\\left(z \\right)} {\\Omega}_{5} - U_{5}{\\left(z \\right)} {\\Omega}_{3}$"
      ],
      "text/plain": [
       "Eq(B[3, 5], U3(z)*Omega[5] - U5(z)*Omega[3])"
      ]
     },
     "execution_count": 21,
     "metadata": {},
     "output_type": "execute_result"
    },
    {
     "data": {
      "text/latex": [
       "$\\displaystyle {B}_{4,0} = - U_{0}{\\left(z \\right)} {\\Omega}_{4} + U_{4}{\\left(z \\right)} {\\Omega}_{0}$"
      ],
      "text/plain": [
       "Eq(B[4, 0], -U0(z)*Omega[4] + U4(z)*Omega[0])"
      ]
     },
     "execution_count": 21,
     "metadata": {},
     "output_type": "execute_result"
    },
    {
     "data": {
      "text/latex": [
       "$\\displaystyle {B}_{4,1} = - U_{1}{\\left(z \\right)} {\\Omega}_{4} + U_{4}{\\left(z \\right)} {\\Omega}_{1}$"
      ],
      "text/plain": [
       "Eq(B[4, 1], -U1(z)*Omega[4] + U4(z)*Omega[1])"
      ]
     },
     "execution_count": 21,
     "metadata": {},
     "output_type": "execute_result"
    },
    {
     "data": {
      "text/latex": [
       "$\\displaystyle {B}_{4,2} = - U_{2}{\\left(z \\right)} {\\Omega}_{4} + U_{4}{\\left(z \\right)} {\\Omega}_{2}$"
      ],
      "text/plain": [
       "Eq(B[4, 2], -U2(z)*Omega[4] + U4(z)*Omega[2])"
      ]
     },
     "execution_count": 21,
     "metadata": {},
     "output_type": "execute_result"
    },
    {
     "data": {
      "text/latex": [
       "$\\displaystyle {B}_{4,3} = - U_{3}{\\left(z \\right)} {\\Omega}_{4} + U_{4}{\\left(z \\right)} {\\Omega}_{3}$"
      ],
      "text/plain": [
       "Eq(B[4, 3], -U3(z)*Omega[4] + U4(z)*Omega[3])"
      ]
     },
     "execution_count": 21,
     "metadata": {},
     "output_type": "execute_result"
    },
    {
     "data": {
      "text/latex": [
       "$\\displaystyle {B}_{4,5} = U_{4}{\\left(z \\right)} {\\Omega}_{5} - U_{5}{\\left(z \\right)} {\\Omega}_{4}$"
      ],
      "text/plain": [
       "Eq(B[4, 5], U4(z)*Omega[5] - U5(z)*Omega[4])"
      ]
     },
     "execution_count": 21,
     "metadata": {},
     "output_type": "execute_result"
    },
    {
     "data": {
      "text/latex": [
       "$\\displaystyle {B}_{5,0} = - U_{0}{\\left(z \\right)} {\\Omega}_{5} + U_{5}{\\left(z \\right)} {\\Omega}_{0}$"
      ],
      "text/plain": [
       "Eq(B[5, 0], -U0(z)*Omega[5] + U5(z)*Omega[0])"
      ]
     },
     "execution_count": 21,
     "metadata": {},
     "output_type": "execute_result"
    },
    {
     "data": {
      "text/latex": [
       "$\\displaystyle {B}_{5,1} = - U_{1}{\\left(z \\right)} {\\Omega}_{5} + U_{5}{\\left(z \\right)} {\\Omega}_{1}$"
      ],
      "text/plain": [
       "Eq(B[5, 1], -U1(z)*Omega[5] + U5(z)*Omega[1])"
      ]
     },
     "execution_count": 21,
     "metadata": {},
     "output_type": "execute_result"
    },
    {
     "data": {
      "text/latex": [
       "$\\displaystyle {B}_{5,2} = - U_{2}{\\left(z \\right)} {\\Omega}_{5} + U_{5}{\\left(z \\right)} {\\Omega}_{2}$"
      ],
      "text/plain": [
       "Eq(B[5, 2], -U2(z)*Omega[5] + U5(z)*Omega[2])"
      ]
     },
     "execution_count": 21,
     "metadata": {},
     "output_type": "execute_result"
    },
    {
     "data": {
      "text/latex": [
       "$\\displaystyle {B}_{5,3} = - U_{3}{\\left(z \\right)} {\\Omega}_{5} + U_{5}{\\left(z \\right)} {\\Omega}_{3}$"
      ],
      "text/plain": [
       "Eq(B[5, 3], -U3(z)*Omega[5] + U5(z)*Omega[3])"
      ]
     },
     "execution_count": 21,
     "metadata": {},
     "output_type": "execute_result"
    },
    {
     "data": {
      "text/latex": [
       "$\\displaystyle {B}_{5,4} = - U_{4}{\\left(z \\right)} {\\Omega}_{5} + U_{5}{\\left(z \\right)} {\\Omega}_{4}$"
      ],
      "text/plain": [
       "Eq(B[5, 4], -U4(z)*Omega[5] + U5(z)*Omega[4])"
      ]
     },
     "execution_count": 21,
     "metadata": {},
     "output_type": "execute_result"
    }
   ],
   "source": [
    "for _i in range(Nmodes):\n",
    "    for _j in range(Nmodes):\n",
    "        if _i != _j:\n",
    "            B_defs[_i][_j]"
   ]
  },
  {
   "cell_type": "markdown",
   "metadata": {},
   "source": [
    "### Conservation of Energy (Hamiltonian)"
   ]
  },
  {
   "cell_type": "markdown",
   "metadata": {},
   "source": [
    "The conservation of the potential (also sometimes referred to as conservation of energy or conservation of the Hamiltonian) is a consequence of any potential that lacks an explicit $z$ dependence."
   ]
  },
  {
   "cell_type": "code",
   "execution_count": 22,
   "metadata": {},
   "outputs": [
    {
     "data": {
      "text/latex": [
       "$\\displaystyle 0$"
      ],
      "text/plain": [
       "0"
      ]
     },
     "execution_count": 22,
     "metadata": {},
     "output_type": "execute_result"
    }
   ],
   "source": [
    "diff(potential,z).subs([\n",
    "        (euler_lagrangian_eqs[_i].lhs, euler_lagrangian_eqs[_i].rhs) for _i in range(2*Nmodes)\n",
    "    ]).simplify()"
   ]
  },
  {
   "cell_type": "code",
   "execution_count": 23,
   "metadata": {
    "scrolled": true
   },
   "outputs": [
    {
     "data": {
      "text/latex": [
       "$\\displaystyle K = \\left(A_{0}{\\left(z \\right)} A_{1}{\\left(z \\right)} A_{2}{\\left(z \\right)} A_{3}{\\left(z \\right)} A_{4}{\\left(z \\right)} A_{5}{\\left(z \\right)} + \\operatorname{Ac}_{0}{\\left(z \\right)} \\operatorname{Ac}_{1}{\\left(z \\right)} \\operatorname{Ac}_{2}{\\left(z \\right)} \\operatorname{Ac}_{3}{\\left(z \\right)} \\operatorname{Ac}_{4}{\\left(z \\right)} \\operatorname{Ac}_{5}{\\left(z \\right)}\\right) \\kappa + P{\\left(A_{0}{\\left(z \\right)} \\operatorname{Ac}_{0}{\\left(z \\right)},A_{1}{\\left(z \\right)} \\operatorname{Ac}_{1}{\\left(z \\right)},A_{2}{\\left(z \\right)} \\operatorname{Ac}_{2}{\\left(z \\right)},A_{3}{\\left(z \\right)} \\operatorname{Ac}_{3}{\\left(z \\right)},A_{4}{\\left(z \\right)} \\operatorname{Ac}_{4}{\\left(z \\right)},A_{5}{\\left(z \\right)} \\operatorname{Ac}_{5}{\\left(z \\right)} \\right)}$"
      ],
      "text/plain": [
       "Eq(K, (A0(z)*A1(z)*A2(z)*A3(z)*A4(z)*A5(z) + Ac0(z)*Ac1(z)*Ac2(z)*Ac3(z)*Ac4(z)*Ac5(z))*kappa + P(A0(z)*Ac0(z), A1(z)*Ac1(z), A2(z)*Ac2(z), A3(z)*Ac3(z), A4(z)*Ac4(z), A5(z)*Ac5(z)))"
      ]
     },
     "execution_count": 23,
     "metadata": {},
     "output_type": "execute_result"
    }
   ],
   "source": [
    "K_eq = Eq(K, potential)\n",
    "K_eq"
   ]
  },
  {
   "cell_type": "markdown",
   "metadata": {},
   "source": [
    "## Squaring the equations of motion for the modal powers"
   ]
  },
  {
   "cell_type": "markdown",
   "metadata": {},
   "source": [
    "Squaring the equations of motion for the powers of the modes, combined with the square of the product term in the conservation of $K$, enables the derivation of equations that are functions of $U_j$ and thus, throught the modal power combination conservation laws, expressible as a function of one modal power exclusively, i.e., they are separable."
   ]
  },
  {
   "cell_type": "code",
   "execution_count": 24,
   "metadata": {},
   "outputs": [
    {
     "data": {
      "text/latex": [
       "$\\displaystyle K - P{\\left(A_{0}{\\left(z \\right)} \\operatorname{Ac}_{0}{\\left(z \\right)},A_{1}{\\left(z \\right)} \\operatorname{Ac}_{1}{\\left(z \\right)},A_{2}{\\left(z \\right)} \\operatorname{Ac}_{2}{\\left(z \\right)},A_{3}{\\left(z \\right)} \\operatorname{Ac}_{3}{\\left(z \\right)},A_{4}{\\left(z \\right)} \\operatorname{Ac}_{4}{\\left(z \\right)},A_{5}{\\left(z \\right)} \\operatorname{Ac}_{5}{\\left(z \\right)} \\right)} = \\left(A_{0}{\\left(z \\right)} A_{1}{\\left(z \\right)} A_{2}{\\left(z \\right)} A_{3}{\\left(z \\right)} A_{4}{\\left(z \\right)} A_{5}{\\left(z \\right)} + \\operatorname{Ac}_{0}{\\left(z \\right)} \\operatorname{Ac}_{1}{\\left(z \\right)} \\operatorname{Ac}_{2}{\\left(z \\right)} \\operatorname{Ac}_{3}{\\left(z \\right)} \\operatorname{Ac}_{4}{\\left(z \\right)} \\operatorname{Ac}_{5}{\\left(z \\right)}\\right) \\kappa$"
      ],
      "text/plain": [
       "Eq(K - P(A0(z)*Ac0(z), A1(z)*Ac1(z), A2(z)*Ac2(z), A3(z)*Ac3(z), A4(z)*Ac4(z), A5(z)*Ac5(z)), (A0(z)*A1(z)*A2(z)*A3(z)*A4(z)*A5(z) + Ac0(z)*Ac1(z)*Ac2(z)*Ac3(z)*Ac4(z)*Ac5(z))*kappa)"
      ]
     },
     "execution_count": 24,
     "metadata": {},
     "output_type": "execute_result"
    }
   ],
   "source": [
    "K_eq_2 = Eq(K - K_eq.rhs + kappa*(prod(Az)+prod(Acz)) , K - K_eq.lhs + kappa*(prod(Az)+prod(Acz)))\n",
    "K_eq_2"
   ]
  },
  {
   "cell_type": "code",
   "execution_count": 25,
   "metadata": {},
   "outputs": [],
   "source": [
    "squared_power_eqs = [\n",
    "    Eq(power_eqns[_i].lhs**2, (power_eqns[_i].rhs**2 + Omega[_i]**2*K_eq_2.rhs**2).expand()- Omega[_i]**2*K_eq_2.lhs**2)\n",
    "    .subs([(Acz[_j], Uz[_j]/Az[_j]) for _j in range(Nmodes)]) for _i in range(Nmodes)\n",
    "]"
   ]
  },
  {
   "cell_type": "code",
   "execution_count": 26,
   "metadata": {},
   "outputs": [
    {
     "data": {
      "text/latex": [
       "$\\displaystyle \\left(\\frac{d}{d z} U_{0}{\\left(z \\right)}\\right)^{2} = - \\left(K - P{\\left(U_{0}{\\left(z \\right)},U_{1}{\\left(z \\right)},U_{2}{\\left(z \\right)},U_{3}{\\left(z \\right)},U_{4}{\\left(z \\right)},U_{5}{\\left(z \\right)} \\right)}\\right)^{2} {\\Omega}_{0}^{2} + 4 U_{0}{\\left(z \\right)} U_{1}{\\left(z \\right)} U_{2}{\\left(z \\right)} U_{3}{\\left(z \\right)} U_{4}{\\left(z \\right)} U_{5}{\\left(z \\right)} {\\Omega}_{0}^{2} \\kappa^{2}$"
      ],
      "text/plain": [
       "Eq(Derivative(U0(z), z)**2, -(K - P(U0(z), U1(z), U2(z), U3(z), U4(z), U5(z)))**2*Omega[0]**2 + 4*U0(z)*U1(z)*U2(z)*U3(z)*U4(z)*U5(z)*Omega[0]**2*kappa**2)"
      ]
     },
     "execution_count": 26,
     "metadata": {},
     "output_type": "execute_result"
    },
    {
     "data": {
      "text/latex": [
       "$\\displaystyle \\left(\\frac{d}{d z} U_{1}{\\left(z \\right)}\\right)^{2} = - \\left(K - P{\\left(U_{0}{\\left(z \\right)},U_{1}{\\left(z \\right)},U_{2}{\\left(z \\right)},U_{3}{\\left(z \\right)},U_{4}{\\left(z \\right)},U_{5}{\\left(z \\right)} \\right)}\\right)^{2} {\\Omega}_{1}^{2} + 4 U_{0}{\\left(z \\right)} U_{1}{\\left(z \\right)} U_{2}{\\left(z \\right)} U_{3}{\\left(z \\right)} U_{4}{\\left(z \\right)} U_{5}{\\left(z \\right)} {\\Omega}_{1}^{2} \\kappa^{2}$"
      ],
      "text/plain": [
       "Eq(Derivative(U1(z), z)**2, -(K - P(U0(z), U1(z), U2(z), U3(z), U4(z), U5(z)))**2*Omega[1]**2 + 4*U0(z)*U1(z)*U2(z)*U3(z)*U4(z)*U5(z)*Omega[1]**2*kappa**2)"
      ]
     },
     "execution_count": 26,
     "metadata": {},
     "output_type": "execute_result"
    },
    {
     "data": {
      "text/latex": [
       "$\\displaystyle \\left(\\frac{d}{d z} U_{2}{\\left(z \\right)}\\right)^{2} = - \\left(K - P{\\left(U_{0}{\\left(z \\right)},U_{1}{\\left(z \\right)},U_{2}{\\left(z \\right)},U_{3}{\\left(z \\right)},U_{4}{\\left(z \\right)},U_{5}{\\left(z \\right)} \\right)}\\right)^{2} {\\Omega}_{2}^{2} + 4 U_{0}{\\left(z \\right)} U_{1}{\\left(z \\right)} U_{2}{\\left(z \\right)} U_{3}{\\left(z \\right)} U_{4}{\\left(z \\right)} U_{5}{\\left(z \\right)} {\\Omega}_{2}^{2} \\kappa^{2}$"
      ],
      "text/plain": [
       "Eq(Derivative(U2(z), z)**2, -(K - P(U0(z), U1(z), U2(z), U3(z), U4(z), U5(z)))**2*Omega[2]**2 + 4*U0(z)*U1(z)*U2(z)*U3(z)*U4(z)*U5(z)*Omega[2]**2*kappa**2)"
      ]
     },
     "execution_count": 26,
     "metadata": {},
     "output_type": "execute_result"
    },
    {
     "data": {
      "text/latex": [
       "$\\displaystyle \\left(\\frac{d}{d z} U_{3}{\\left(z \\right)}\\right)^{2} = - \\left(K - P{\\left(U_{0}{\\left(z \\right)},U_{1}{\\left(z \\right)},U_{2}{\\left(z \\right)},U_{3}{\\left(z \\right)},U_{4}{\\left(z \\right)},U_{5}{\\left(z \\right)} \\right)}\\right)^{2} {\\Omega}_{3}^{2} + 4 U_{0}{\\left(z \\right)} U_{1}{\\left(z \\right)} U_{2}{\\left(z \\right)} U_{3}{\\left(z \\right)} U_{4}{\\left(z \\right)} U_{5}{\\left(z \\right)} {\\Omega}_{3}^{2} \\kappa^{2}$"
      ],
      "text/plain": [
       "Eq(Derivative(U3(z), z)**2, -(K - P(U0(z), U1(z), U2(z), U3(z), U4(z), U5(z)))**2*Omega[3]**2 + 4*U0(z)*U1(z)*U2(z)*U3(z)*U4(z)*U5(z)*Omega[3]**2*kappa**2)"
      ]
     },
     "execution_count": 26,
     "metadata": {},
     "output_type": "execute_result"
    },
    {
     "data": {
      "text/latex": [
       "$\\displaystyle \\left(\\frac{d}{d z} U_{4}{\\left(z \\right)}\\right)^{2} = - \\left(K - P{\\left(U_{0}{\\left(z \\right)},U_{1}{\\left(z \\right)},U_{2}{\\left(z \\right)},U_{3}{\\left(z \\right)},U_{4}{\\left(z \\right)},U_{5}{\\left(z \\right)} \\right)}\\right)^{2} {\\Omega}_{4}^{2} + 4 U_{0}{\\left(z \\right)} U_{1}{\\left(z \\right)} U_{2}{\\left(z \\right)} U_{3}{\\left(z \\right)} U_{4}{\\left(z \\right)} U_{5}{\\left(z \\right)} {\\Omega}_{4}^{2} \\kappa^{2}$"
      ],
      "text/plain": [
       "Eq(Derivative(U4(z), z)**2, -(K - P(U0(z), U1(z), U2(z), U3(z), U4(z), U5(z)))**2*Omega[4]**2 + 4*U0(z)*U1(z)*U2(z)*U3(z)*U4(z)*U5(z)*Omega[4]**2*kappa**2)"
      ]
     },
     "execution_count": 26,
     "metadata": {},
     "output_type": "execute_result"
    },
    {
     "data": {
      "text/latex": [
       "$\\displaystyle \\left(\\frac{d}{d z} U_{5}{\\left(z \\right)}\\right)^{2} = - \\left(K - P{\\left(U_{0}{\\left(z \\right)},U_{1}{\\left(z \\right)},U_{2}{\\left(z \\right)},U_{3}{\\left(z \\right)},U_{4}{\\left(z \\right)},U_{5}{\\left(z \\right)} \\right)}\\right)^{2} {\\Omega}_{5}^{2} + 4 U_{0}{\\left(z \\right)} U_{1}{\\left(z \\right)} U_{2}{\\left(z \\right)} U_{3}{\\left(z \\right)} U_{4}{\\left(z \\right)} U_{5}{\\left(z \\right)} {\\Omega}_{5}^{2} \\kappa^{2}$"
      ],
      "text/plain": [
       "Eq(Derivative(U5(z), z)**2, -(K - P(U0(z), U1(z), U2(z), U3(z), U4(z), U5(z)))**2*Omega[5]**2 + 4*U0(z)*U1(z)*U2(z)*U3(z)*U4(z)*U5(z)*Omega[5]**2*kappa**2)"
      ]
     },
     "execution_count": 26,
     "metadata": {},
     "output_type": "execute_result"
    }
   ],
   "source": [
    "for eq in squared_power_eqs:\n",
    "    eq"
   ]
  },
  {
   "cell_type": "markdown",
   "metadata": {},
   "source": [
    "## Derivatives of the modal phases"
   ]
  },
  {
   "cell_type": "markdown",
   "metadata": {},
   "source": [
    "If mode conjugates are complex conjugates, the phase of mode $A_0$ would be:"
   ]
  },
  {
   "cell_type": "code",
   "execution_count": 27,
   "metadata": {
    "scrolled": true
   },
   "outputs": [
    {
     "data": {
      "text/latex": [
       "$\\displaystyle \\phi_{0}{\\left(z \\right)} = - \\frac{i \\log{\\left(\\frac{A_{0}{\\left(z \\right)}}{\\operatorname{Ac}_{0}{\\left(z \\right)}} \\right)}}{2}$"
      ],
      "text/plain": [
       "Eq(phi0(z), -I*log(A0(z)/Ac0(z))/2)"
      ]
     },
     "execution_count": 27,
     "metadata": {},
     "output_type": "execute_result"
    }
   ],
   "source": [
    "phi0_eq = Eq(phiz[0],-I*ln(Az[0]/Acz[0])/2)\n",
    "phi0_eq"
   ]
  },
  {
   "cell_type": "markdown",
   "metadata": {},
   "source": [
    "Inspired by this concept, equations for the modal phases are derived:"
   ]
  },
  {
   "cell_type": "code",
   "execution_count": 28,
   "metadata": {},
   "outputs": [],
   "source": [
    "phase_eqs = [\n",
    "    Eq(\n",
    "        diff(phiz[_i],z), \n",
    "        diff(-I*ln(Az[_i]/Acz[_i])/2,z).simplify().subs([\n",
    "            (euler_lagrangian_eqs[_i].lhs, euler_lagrangian_eqs[_i].rhs) for _i in range(2*Nmodes)\n",
    "        ]).simplify() + (\n",
    "            K_eq_2.rhs/(Az[_i]*Acz[_i])*Omega[_i] - K_eq_2.lhs/(Az[_i]*Acz[_i])*Omega[_i]\n",
    "        ).expand()/2\n",
    "      ).expand().subs([(Acz[_i], Uz[_i]/Az[_i]) for _i in range(Nmodes)]) for _i in range(Nmodes)\n",
    "]"
   ]
  },
  {
   "cell_type": "code",
   "execution_count": 29,
   "metadata": {},
   "outputs": [
    {
     "data": {
      "text/latex": [
       "$\\displaystyle \\frac{d}{d z} \\phi_{0}{\\left(z \\right)} = - \\frac{K {\\Omega}_{0}}{2 U_{0}{\\left(z \\right)}} + \\frac{P{\\left(U_{0}{\\left(z \\right)},U_{1}{\\left(z \\right)},U_{2}{\\left(z \\right)},U_{3}{\\left(z \\right)},U_{4}{\\left(z \\right)},U_{5}{\\left(z \\right)} \\right)} {\\Omega}_{0}}{2 U_{0}{\\left(z \\right)}} - {\\Omega}_{0} \\left. \\frac{\\partial}{\\partial \\xi_{1}} P{\\left(\\xi_{1},U_{1}{\\left(z \\right)},U_{2}{\\left(z \\right)},U_{3}{\\left(z \\right)},U_{4}{\\left(z \\right)},U_{5}{\\left(z \\right)} \\right)} \\right|_{\\substack{ \\xi_{1}=U_{0}{\\left(z \\right)} }}$"
      ],
      "text/plain": [
       "Eq(Derivative(phi0(z), z), -K*Omega[0]/(2*U0(z)) + P(U0(z), U1(z), U2(z), U3(z), U4(z), U5(z))*Omega[0]/(2*U0(z)) - Omega[0]*Subs(Derivative(P(_xi_1, U1(z), U2(z), U3(z), U4(z), U5(z)), _xi_1), _xi_1, U0(z)))"
      ]
     },
     "execution_count": 29,
     "metadata": {},
     "output_type": "execute_result"
    },
    {
     "data": {
      "text/latex": [
       "$\\displaystyle \\frac{d}{d z} \\phi_{1}{\\left(z \\right)} = - \\frac{K {\\Omega}_{1}}{2 U_{1}{\\left(z \\right)}} + \\frac{P{\\left(U_{0}{\\left(z \\right)},U_{1}{\\left(z \\right)},U_{2}{\\left(z \\right)},U_{3}{\\left(z \\right)},U_{4}{\\left(z \\right)},U_{5}{\\left(z \\right)} \\right)} {\\Omega}_{1}}{2 U_{1}{\\left(z \\right)}} - {\\Omega}_{1} \\left. \\frac{\\partial}{\\partial \\xi_{2}} P{\\left(U_{0}{\\left(z \\right)},\\xi_{2},U_{2}{\\left(z \\right)},U_{3}{\\left(z \\right)},U_{4}{\\left(z \\right)},U_{5}{\\left(z \\right)} \\right)} \\right|_{\\substack{ \\xi_{2}=U_{1}{\\left(z \\right)} }}$"
      ],
      "text/plain": [
       "Eq(Derivative(phi1(z), z), -K*Omega[1]/(2*U1(z)) + P(U0(z), U1(z), U2(z), U3(z), U4(z), U5(z))*Omega[1]/(2*U1(z)) - Omega[1]*Subs(Derivative(P(U0(z), _xi_2, U2(z), U3(z), U4(z), U5(z)), _xi_2), _xi_2, U1(z)))"
      ]
     },
     "execution_count": 29,
     "metadata": {},
     "output_type": "execute_result"
    },
    {
     "data": {
      "text/latex": [
       "$\\displaystyle \\frac{d}{d z} \\phi_{2}{\\left(z \\right)} = - \\frac{K {\\Omega}_{2}}{2 U_{2}{\\left(z \\right)}} + \\frac{P{\\left(U_{0}{\\left(z \\right)},U_{1}{\\left(z \\right)},U_{2}{\\left(z \\right)},U_{3}{\\left(z \\right)},U_{4}{\\left(z \\right)},U_{5}{\\left(z \\right)} \\right)} {\\Omega}_{2}}{2 U_{2}{\\left(z \\right)}} - {\\Omega}_{2} \\left. \\frac{\\partial}{\\partial \\xi_{3}} P{\\left(U_{0}{\\left(z \\right)},U_{1}{\\left(z \\right)},\\xi_{3},U_{3}{\\left(z \\right)},U_{4}{\\left(z \\right)},U_{5}{\\left(z \\right)} \\right)} \\right|_{\\substack{ \\xi_{3}=U_{2}{\\left(z \\right)} }}$"
      ],
      "text/plain": [
       "Eq(Derivative(phi2(z), z), -K*Omega[2]/(2*U2(z)) + P(U0(z), U1(z), U2(z), U3(z), U4(z), U5(z))*Omega[2]/(2*U2(z)) - Omega[2]*Subs(Derivative(P(U0(z), U1(z), _xi_3, U3(z), U4(z), U5(z)), _xi_3), _xi_3, U2(z)))"
      ]
     },
     "execution_count": 29,
     "metadata": {},
     "output_type": "execute_result"
    },
    {
     "data": {
      "text/latex": [
       "$\\displaystyle \\frac{d}{d z} \\phi_{3}{\\left(z \\right)} = - \\frac{K {\\Omega}_{3}}{2 U_{3}{\\left(z \\right)}} + \\frac{P{\\left(U_{0}{\\left(z \\right)},U_{1}{\\left(z \\right)},U_{2}{\\left(z \\right)},U_{3}{\\left(z \\right)},U_{4}{\\left(z \\right)},U_{5}{\\left(z \\right)} \\right)} {\\Omega}_{3}}{2 U_{3}{\\left(z \\right)}} - {\\Omega}_{3} \\left. \\frac{\\partial}{\\partial \\xi_{4}} P{\\left(U_{0}{\\left(z \\right)},U_{1}{\\left(z \\right)},U_{2}{\\left(z \\right)},\\xi_{4},U_{4}{\\left(z \\right)},U_{5}{\\left(z \\right)} \\right)} \\right|_{\\substack{ \\xi_{4}=U_{3}{\\left(z \\right)} }}$"
      ],
      "text/plain": [
       "Eq(Derivative(phi3(z), z), -K*Omega[3]/(2*U3(z)) + P(U0(z), U1(z), U2(z), U3(z), U4(z), U5(z))*Omega[3]/(2*U3(z)) - Omega[3]*Subs(Derivative(P(U0(z), U1(z), U2(z), _xi_4, U4(z), U5(z)), _xi_4), _xi_4, U3(z)))"
      ]
     },
     "execution_count": 29,
     "metadata": {},
     "output_type": "execute_result"
    },
    {
     "data": {
      "text/latex": [
       "$\\displaystyle \\frac{d}{d z} \\phi_{4}{\\left(z \\right)} = - \\frac{K {\\Omega}_{4}}{2 U_{4}{\\left(z \\right)}} + \\frac{P{\\left(U_{0}{\\left(z \\right)},U_{1}{\\left(z \\right)},U_{2}{\\left(z \\right)},U_{3}{\\left(z \\right)},U_{4}{\\left(z \\right)},U_{5}{\\left(z \\right)} \\right)} {\\Omega}_{4}}{2 U_{4}{\\left(z \\right)}} - {\\Omega}_{4} \\left. \\frac{\\partial}{\\partial \\xi_{5}} P{\\left(U_{0}{\\left(z \\right)},U_{1}{\\left(z \\right)},U_{2}{\\left(z \\right)},U_{3}{\\left(z \\right)},\\xi_{5},U_{5}{\\left(z \\right)} \\right)} \\right|_{\\substack{ \\xi_{5}=U_{4}{\\left(z \\right)} }}$"
      ],
      "text/plain": [
       "Eq(Derivative(phi4(z), z), -K*Omega[4]/(2*U4(z)) + P(U0(z), U1(z), U2(z), U3(z), U4(z), U5(z))*Omega[4]/(2*U4(z)) - Omega[4]*Subs(Derivative(P(U0(z), U1(z), U2(z), U3(z), _xi_5, U5(z)), _xi_5), _xi_5, U4(z)))"
      ]
     },
     "execution_count": 29,
     "metadata": {},
     "output_type": "execute_result"
    },
    {
     "data": {
      "text/latex": [
       "$\\displaystyle \\frac{d}{d z} \\phi_{5}{\\left(z \\right)} = - \\frac{K {\\Omega}_{5}}{2 U_{5}{\\left(z \\right)}} + \\frac{P{\\left(U_{0}{\\left(z \\right)},U_{1}{\\left(z \\right)},U_{2}{\\left(z \\right)},U_{3}{\\left(z \\right)},U_{4}{\\left(z \\right)},U_{5}{\\left(z \\right)} \\right)} {\\Omega}_{5}}{2 U_{5}{\\left(z \\right)}} - {\\Omega}_{5} \\left. \\frac{\\partial}{\\partial \\xi_{6}} P{\\left(U_{0}{\\left(z \\right)},U_{1}{\\left(z \\right)},U_{2}{\\left(z \\right)},U_{3}{\\left(z \\right)},U_{4}{\\left(z \\right)},\\xi_{6} \\right)} \\right|_{\\substack{ \\xi_{6}=U_{5}{\\left(z \\right)} }}$"
      ],
      "text/plain": [
       "Eq(Derivative(phi5(z), z), -K*Omega[5]/(2*U5(z)) + P(U0(z), U1(z), U2(z), U3(z), U4(z), U5(z))*Omega[5]/(2*U5(z)) - Omega[5]*Subs(Derivative(P(U0(z), U1(z), U2(z), U3(z), U4(z), _xi_6), _xi_6), _xi_6, U5(z)))"
      ]
     },
     "execution_count": 29,
     "metadata": {},
     "output_type": "execute_result"
    }
   ],
   "source": [
    "for eq in phase_eqs:\n",
    "    eq"
   ]
  },
  {
   "cell_type": "markdown",
   "metadata": {},
   "source": [
    "## Logarithmic derivatives of the modes"
   ]
  },
  {
   "cell_type": "markdown",
   "metadata": {},
   "source": [
    "If mode conjugates are complex conjugates, the logarithmic derivative of the $A_0$ mode would satisfy:"
   ]
  },
  {
   "cell_type": "code",
   "execution_count": 30,
   "metadata": {},
   "outputs": [
    {
     "data": {
      "text/latex": [
       "$\\displaystyle \\frac{\\frac{d}{d z} A_{0}{\\left(z \\right)}}{A_{0}{\\left(z \\right)}} = i \\frac{d}{d z} \\phi_{0}{\\left(z \\right)} + \\frac{\\frac{d}{d z} A_{0}{\\left(z \\right)} \\operatorname{Ac}_{0}{\\left(z \\right)}}{2 A_{0}{\\left(z \\right)} \\operatorname{Ac}_{0}{\\left(z \\right)}}$"
      ],
      "text/plain": [
       "Eq(Derivative(A0(z), z)/A0(z), I*Derivative(phi0(z), z) + Derivative(A0(z)*Ac0(z), z)/(2*A0(z)*Ac0(z)))"
      ]
     },
     "execution_count": 30,
     "metadata": {},
     "output_type": "execute_result"
    }
   ],
   "source": [
    "Eq(\n",
    "    (Derivative(Az[0]*Acz[0],z)/(Az[0]*Acz[0])/2 + Derivative(Az[0]/Acz[0],z)/(Az[0]/Acz[0])/2).doit().simplify(),\n",
    "    Derivative(Az[0]*Acz[0],z)/(Az[0]*Acz[0])/2 + diff(exp(2*I*phiz[0]),z)/(exp(2*I*phiz[0]))/2\n",
    "  )"
   ]
  },
  {
   "cell_type": "code",
   "execution_count": 31,
   "metadata": {},
   "outputs": [],
   "source": [
    "log_diff_eqns = [\n",
    "    Eq(\n",
    "        diff(Az[_i],z)/Az[_i], (I*diff(phiz[_i],z) + diff(Uz[_i],z)/Uz[_i]/2).subs(phase_eqs[_i].lhs, phase_eqs[_i].rhs)\n",
    "    ).expand()\n",
    "    for _i in range(Nmodes)\n",
    "]"
   ]
  },
  {
   "cell_type": "code",
   "execution_count": 32,
   "metadata": {},
   "outputs": [
    {
     "data": {
      "text/latex": [
       "$\\displaystyle \\frac{\\frac{d}{d z} A_{0}{\\left(z \\right)}}{A_{0}{\\left(z \\right)}} = - \\frac{i K {\\Omega}_{0}}{2 U_{0}{\\left(z \\right)}} + \\frac{i P{\\left(U_{0}{\\left(z \\right)},U_{1}{\\left(z \\right)},U_{2}{\\left(z \\right)},U_{3}{\\left(z \\right)},U_{4}{\\left(z \\right)},U_{5}{\\left(z \\right)} \\right)} {\\Omega}_{0}}{2 U_{0}{\\left(z \\right)}} - i {\\Omega}_{0} \\left. \\frac{\\partial}{\\partial \\xi_{1}} P{\\left(\\xi_{1},U_{1}{\\left(z \\right)},U_{2}{\\left(z \\right)},U_{3}{\\left(z \\right)},U_{4}{\\left(z \\right)},U_{5}{\\left(z \\right)} \\right)} \\right|_{\\substack{ \\xi_{1}=U_{0}{\\left(z \\right)} }} + \\frac{\\frac{d}{d z} U_{0}{\\left(z \\right)}}{2 U_{0}{\\left(z \\right)}}$"
      ],
      "text/plain": [
       "Eq(Derivative(A0(z), z)/A0(z), -I*K*Omega[0]/(2*U0(z)) + I*P(U0(z), U1(z), U2(z), U3(z), U4(z), U5(z))*Omega[0]/(2*U0(z)) - I*Omega[0]*Subs(Derivative(P(_xi_1, U1(z), U2(z), U3(z), U4(z), U5(z)), _xi_1), _xi_1, U0(z)) + Derivative(U0(z), z)/(2*U0(z)))"
      ]
     },
     "execution_count": 32,
     "metadata": {},
     "output_type": "execute_result"
    },
    {
     "data": {
      "text/latex": [
       "$\\displaystyle \\frac{\\frac{d}{d z} A_{1}{\\left(z \\right)}}{A_{1}{\\left(z \\right)}} = - \\frac{i K {\\Omega}_{1}}{2 U_{1}{\\left(z \\right)}} + \\frac{i P{\\left(U_{0}{\\left(z \\right)},U_{1}{\\left(z \\right)},U_{2}{\\left(z \\right)},U_{3}{\\left(z \\right)},U_{4}{\\left(z \\right)},U_{5}{\\left(z \\right)} \\right)} {\\Omega}_{1}}{2 U_{1}{\\left(z \\right)}} - i {\\Omega}_{1} \\left. \\frac{\\partial}{\\partial \\xi_{2}} P{\\left(U_{0}{\\left(z \\right)},\\xi_{2},U_{2}{\\left(z \\right)},U_{3}{\\left(z \\right)},U_{4}{\\left(z \\right)},U_{5}{\\left(z \\right)} \\right)} \\right|_{\\substack{ \\xi_{2}=U_{1}{\\left(z \\right)} }} + \\frac{\\frac{d}{d z} U_{1}{\\left(z \\right)}}{2 U_{1}{\\left(z \\right)}}$"
      ],
      "text/plain": [
       "Eq(Derivative(A1(z), z)/A1(z), -I*K*Omega[1]/(2*U1(z)) + I*P(U0(z), U1(z), U2(z), U3(z), U4(z), U5(z))*Omega[1]/(2*U1(z)) - I*Omega[1]*Subs(Derivative(P(U0(z), _xi_2, U2(z), U3(z), U4(z), U5(z)), _xi_2), _xi_2, U1(z)) + Derivative(U1(z), z)/(2*U1(z)))"
      ]
     },
     "execution_count": 32,
     "metadata": {},
     "output_type": "execute_result"
    },
    {
     "data": {
      "text/latex": [
       "$\\displaystyle \\frac{\\frac{d}{d z} A_{2}{\\left(z \\right)}}{A_{2}{\\left(z \\right)}} = - \\frac{i K {\\Omega}_{2}}{2 U_{2}{\\left(z \\right)}} + \\frac{i P{\\left(U_{0}{\\left(z \\right)},U_{1}{\\left(z \\right)},U_{2}{\\left(z \\right)},U_{3}{\\left(z \\right)},U_{4}{\\left(z \\right)},U_{5}{\\left(z \\right)} \\right)} {\\Omega}_{2}}{2 U_{2}{\\left(z \\right)}} - i {\\Omega}_{2} \\left. \\frac{\\partial}{\\partial \\xi_{3}} P{\\left(U_{0}{\\left(z \\right)},U_{1}{\\left(z \\right)},\\xi_{3},U_{3}{\\left(z \\right)},U_{4}{\\left(z \\right)},U_{5}{\\left(z \\right)} \\right)} \\right|_{\\substack{ \\xi_{3}=U_{2}{\\left(z \\right)} }} + \\frac{\\frac{d}{d z} U_{2}{\\left(z \\right)}}{2 U_{2}{\\left(z \\right)}}$"
      ],
      "text/plain": [
       "Eq(Derivative(A2(z), z)/A2(z), -I*K*Omega[2]/(2*U2(z)) + I*P(U0(z), U1(z), U2(z), U3(z), U4(z), U5(z))*Omega[2]/(2*U2(z)) - I*Omega[2]*Subs(Derivative(P(U0(z), U1(z), _xi_3, U3(z), U4(z), U5(z)), _xi_3), _xi_3, U2(z)) + Derivative(U2(z), z)/(2*U2(z)))"
      ]
     },
     "execution_count": 32,
     "metadata": {},
     "output_type": "execute_result"
    },
    {
     "data": {
      "text/latex": [
       "$\\displaystyle \\frac{\\frac{d}{d z} A_{3}{\\left(z \\right)}}{A_{3}{\\left(z \\right)}} = - \\frac{i K {\\Omega}_{3}}{2 U_{3}{\\left(z \\right)}} + \\frac{i P{\\left(U_{0}{\\left(z \\right)},U_{1}{\\left(z \\right)},U_{2}{\\left(z \\right)},U_{3}{\\left(z \\right)},U_{4}{\\left(z \\right)},U_{5}{\\left(z \\right)} \\right)} {\\Omega}_{3}}{2 U_{3}{\\left(z \\right)}} - i {\\Omega}_{3} \\left. \\frac{\\partial}{\\partial \\xi_{4}} P{\\left(U_{0}{\\left(z \\right)},U_{1}{\\left(z \\right)},U_{2}{\\left(z \\right)},\\xi_{4},U_{4}{\\left(z \\right)},U_{5}{\\left(z \\right)} \\right)} \\right|_{\\substack{ \\xi_{4}=U_{3}{\\left(z \\right)} }} + \\frac{\\frac{d}{d z} U_{3}{\\left(z \\right)}}{2 U_{3}{\\left(z \\right)}}$"
      ],
      "text/plain": [
       "Eq(Derivative(A3(z), z)/A3(z), -I*K*Omega[3]/(2*U3(z)) + I*P(U0(z), U1(z), U2(z), U3(z), U4(z), U5(z))*Omega[3]/(2*U3(z)) - I*Omega[3]*Subs(Derivative(P(U0(z), U1(z), U2(z), _xi_4, U4(z), U5(z)), _xi_4), _xi_4, U3(z)) + Derivative(U3(z), z)/(2*U3(z)))"
      ]
     },
     "execution_count": 32,
     "metadata": {},
     "output_type": "execute_result"
    },
    {
     "data": {
      "text/latex": [
       "$\\displaystyle \\frac{\\frac{d}{d z} A_{4}{\\left(z \\right)}}{A_{4}{\\left(z \\right)}} = - \\frac{i K {\\Omega}_{4}}{2 U_{4}{\\left(z \\right)}} + \\frac{i P{\\left(U_{0}{\\left(z \\right)},U_{1}{\\left(z \\right)},U_{2}{\\left(z \\right)},U_{3}{\\left(z \\right)},U_{4}{\\left(z \\right)},U_{5}{\\left(z \\right)} \\right)} {\\Omega}_{4}}{2 U_{4}{\\left(z \\right)}} - i {\\Omega}_{4} \\left. \\frac{\\partial}{\\partial \\xi_{5}} P{\\left(U_{0}{\\left(z \\right)},U_{1}{\\left(z \\right)},U_{2}{\\left(z \\right)},U_{3}{\\left(z \\right)},\\xi_{5},U_{5}{\\left(z \\right)} \\right)} \\right|_{\\substack{ \\xi_{5}=U_{4}{\\left(z \\right)} }} + \\frac{\\frac{d}{d z} U_{4}{\\left(z \\right)}}{2 U_{4}{\\left(z \\right)}}$"
      ],
      "text/plain": [
       "Eq(Derivative(A4(z), z)/A4(z), -I*K*Omega[4]/(2*U4(z)) + I*P(U0(z), U1(z), U2(z), U3(z), U4(z), U5(z))*Omega[4]/(2*U4(z)) - I*Omega[4]*Subs(Derivative(P(U0(z), U1(z), U2(z), U3(z), _xi_5, U5(z)), _xi_5), _xi_5, U4(z)) + Derivative(U4(z), z)/(2*U4(z)))"
      ]
     },
     "execution_count": 32,
     "metadata": {},
     "output_type": "execute_result"
    },
    {
     "data": {
      "text/latex": [
       "$\\displaystyle \\frac{\\frac{d}{d z} A_{5}{\\left(z \\right)}}{A_{5}{\\left(z \\right)}} = - \\frac{i K {\\Omega}_{5}}{2 U_{5}{\\left(z \\right)}} + \\frac{i P{\\left(U_{0}{\\left(z \\right)},U_{1}{\\left(z \\right)},U_{2}{\\left(z \\right)},U_{3}{\\left(z \\right)},U_{4}{\\left(z \\right)},U_{5}{\\left(z \\right)} \\right)} {\\Omega}_{5}}{2 U_{5}{\\left(z \\right)}} - i {\\Omega}_{5} \\left. \\frac{\\partial}{\\partial \\xi_{6}} P{\\left(U_{0}{\\left(z \\right)},U_{1}{\\left(z \\right)},U_{2}{\\left(z \\right)},U_{3}{\\left(z \\right)},U_{4}{\\left(z \\right)},\\xi_{6} \\right)} \\right|_{\\substack{ \\xi_{6}=U_{5}{\\left(z \\right)} }} + \\frac{\\frac{d}{d z} U_{5}{\\left(z \\right)}}{2 U_{5}{\\left(z \\right)}}$"
      ],
      "text/plain": [
       "Eq(Derivative(A5(z), z)/A5(z), -I*K*Omega[5]/(2*U5(z)) + I*P(U0(z), U1(z), U2(z), U3(z), U4(z), U5(z))*Omega[5]/(2*U5(z)) - I*Omega[5]*Subs(Derivative(P(U0(z), U1(z), U2(z), U3(z), U4(z), _xi_6), _xi_6), _xi_6, U5(z)) + Derivative(U5(z), z)/(2*U5(z)))"
      ]
     },
     "execution_count": 32,
     "metadata": {},
     "output_type": "execute_result"
    }
   ],
   "source": [
    "for eq in log_diff_eqns:\n",
    "    eq"
   ]
  },
  {
   "cell_type": "markdown",
   "metadata": {},
   "source": [
    "And thus, through the conservation laws that relate $U_j$, the logarithmic derivatives of the modes are separable."
   ]
  },
  {
   "cell_type": "markdown",
   "metadata": {},
   "source": [
    "## Finding an elliptic example with at most cubic terms for a Lagrangian with 6 modes"
   ]
  },
  {
   "cell_type": "markdown",
   "metadata": {},
   "source": [
    "The aim is to find the most general form of P that will leave the right hand side of the following equation cubic in $U_0(z)$, so the aim is to choose P to cancel the quartic and higher terms coming from the modal power product term. The motivation is to make it solvable quite simply in terms of the Weierstrass P function. Quartic terms could also be solved but it would involve having to find the roots of a quartic and performing a bilinear transformation which is not the focus of this work."
   ]
  },
  {
   "cell_type": "code",
   "execution_count": 33,
   "metadata": {
    "scrolled": true
   },
   "outputs": [
    {
     "data": {
      "text/latex": [
       "$\\displaystyle \\left(\\frac{d}{d z} U_{0}{\\left(z \\right)}\\right)^{2} = - \\left(K - P{\\left(U_{0}{\\left(z \\right)},U_{1}{\\left(z \\right)},U_{2}{\\left(z \\right)},U_{3}{\\left(z \\right)},U_{4}{\\left(z \\right)},U_{5}{\\left(z \\right)} \\right)}\\right)^{2} {\\Omega}_{0}^{2} + 4 U_{0}{\\left(z \\right)} U_{1}{\\left(z \\right)} U_{2}{\\left(z \\right)} U_{3}{\\left(z \\right)} U_{4}{\\left(z \\right)} U_{5}{\\left(z \\right)} {\\Omega}_{0}^{2} \\kappa^{2}$"
      ],
      "text/plain": [
       "Eq(Derivative(U0(z), z)**2, -(K - P(U0(z), U1(z), U2(z), U3(z), U4(z), U5(z)))**2*Omega[0]**2 + 4*U0(z)*U1(z)*U2(z)*U3(z)*U4(z)*U5(z)*Omega[0]**2*kappa**2)"
      ]
     },
     "execution_count": 33,
     "metadata": {},
     "output_type": "execute_result"
    }
   ],
   "source": [
    "squared_power_eqs[0]"
   ]
  },
  {
   "cell_type": "code",
   "execution_count": 34,
   "metadata": {},
   "outputs": [
    {
     "data": {
      "text/latex": [
       "$\\displaystyle U_{0}{\\left(z \\right)} U_{1}{\\left(z \\right)} U_{2}{\\left(z \\right)} U_{3}{\\left(z \\right)} U_{4}{\\left(z \\right)} U_{5}{\\left(z \\right)} = \\frac{\\left(U_{0}{\\left(z \\right)} {\\Omega}_{1} - {B}_{0,1}\\right) \\left(U_{0}{\\left(z \\right)} {\\Omega}_{2} - {B}_{0,2}\\right) \\left(U_{0}{\\left(z \\right)} {\\Omega}_{3} - {B}_{0,3}\\right) \\left(U_{0}{\\left(z \\right)} {\\Omega}_{4} - {B}_{0,4}\\right) \\left(U_{0}{\\left(z \\right)} {\\Omega}_{5} - {B}_{0,5}\\right) U_{0}{\\left(z \\right)}}{{\\Omega}_{0}^{5}}$"
      ],
      "text/plain": [
       "Eq(U0(z)*U1(z)*U2(z)*U3(z)*U4(z)*U5(z), (U0(z)*Omega[1] - B[0, 1])*(U0(z)*Omega[2] - B[0, 2])*(U0(z)*Omega[3] - B[0, 3])*(U0(z)*Omega[4] - B[0, 4])*(U0(z)*Omega[5] - B[0, 5])*U0(z)/Omega[0]**5)"
      ]
     },
     "execution_count": 34,
     "metadata": {},
     "output_type": "execute_result"
    }
   ],
   "source": [
    "u_n_term_prod = Eq(prod([Uz[_i] for _i in range(Nmodes)]),prod([Uz[_i] for _i in range(Nmodes)]).subs([\n",
    "    (Uz[_i], solve(B_defs[0][_i], Uz[_i])[0]) for _i in range(Nmodes) if _i != 0\n",
    "]))\n",
    "u_n_term_prod"
   ]
  },
  {
   "cell_type": "markdown",
   "metadata": {},
   "source": [
    "As $P$ will get squared, if when doing so it is to have no powers of $U$ greater than the number of modes, $P$ can be of order no greater than half the number of modes in $U$ terms. Thus, let:"
   ]
  },
  {
   "cell_type": "code",
   "execution_count": 35,
   "metadata": {},
   "outputs": [
    {
     "data": {
      "text/latex": [
       "$\\displaystyle P{\\left(U_{0}{\\left(z \\right)},U_{1}{\\left(z \\right)},U_{2}{\\left(z \\right)},U_{3}{\\left(z \\right)},U_{4}{\\left(z \\right)},U_{5}{\\left(z \\right)} \\right)} = \\left(U_{0}^{3}{\\left(z \\right)} + U_{0}^{2}{\\left(z \\right)} {d}_{2} + U_{0}{\\left(z \\right)} {d}_{1}\\right) \\alpha$"
      ],
      "text/plain": [
       "Eq(P(U0(z), U1(z), U2(z), U3(z), U4(z), U5(z)), (U0(z)**3 + U0(z)**2*d[2] + U0(z)*d[1])*alpha)"
      ]
     },
     "execution_count": 35,
     "metadata": {},
     "output_type": "execute_result"
    }
   ],
   "source": [
    "# P_u_n_term_prod = Eq(P(*[Uz[_i] for _i in range(Nmodes)]),\n",
    "#                      alpha*prod([Uz[0] - d[_i] for _i in range(floor(Nmodes/2))]))\n",
    "P_u_n_term_prod = Eq(P(*[Uz[_i] for _i in range(Nmodes)]),\n",
    "                     alpha*Sum(d[j]*Uz[0]**j, (j,1,floor(Nmodes/2))).doit().subs(d[floor(Nmodes/2)],1))\n",
    "P_u_n_term_prod"
   ]
  },
  {
   "cell_type": "code",
   "execution_count": 36,
   "metadata": {},
   "outputs": [
    {
     "data": {
      "text/latex": [
       "$\\displaystyle - K^{2} {\\Omega}_{0}^{2} + \\left(- {\\Omega}_{0}^{2} \\alpha^{2} + \\frac{4 {\\Omega}_{1} {\\Omega}_{2} {\\Omega}_{3} {\\Omega}_{4} {\\Omega}_{5} \\kappa^{2}}{{\\Omega}_{0}^{3}}\\right) U_{0}^{6}{\\left(z \\right)} + \\left(2 K {\\Omega}_{0}^{2} {d}_{1} \\alpha - \\frac{4 {B}_{0,1} {B}_{0,2} {B}_{0,3} {B}_{0,4} {B}_{0,5} \\kappa^{2}}{{\\Omega}_{0}^{3}}\\right) U_{0}{\\left(z \\right)} + \\left(- \\frac{4 {B}_{0,1} {\\Omega}_{2} {\\Omega}_{3} {\\Omega}_{4} {\\Omega}_{5} \\kappa^{2}}{{\\Omega}_{0}^{3}} - \\frac{4 {B}_{0,2} {\\Omega}_{1} {\\Omega}_{3} {\\Omega}_{4} {\\Omega}_{5} \\kappa^{2}}{{\\Omega}_{0}^{3}} - \\frac{4 {B}_{0,3} {\\Omega}_{1} {\\Omega}_{2} {\\Omega}_{4} {\\Omega}_{5} \\kappa^{2}}{{\\Omega}_{0}^{3}} - \\frac{4 {B}_{0,4} {\\Omega}_{1} {\\Omega}_{2} {\\Omega}_{3} {\\Omega}_{5} \\kappa^{2}}{{\\Omega}_{0}^{3}} - \\frac{4 {B}_{0,5} {\\Omega}_{1} {\\Omega}_{2} {\\Omega}_{3} {\\Omega}_{4} \\kappa^{2}}{{\\Omega}_{0}^{3}} - 2 {\\Omega}_{0}^{2} {d}_{2} \\alpha^{2}\\right) U_{0}^{5}{\\left(z \\right)} + \\left(2 K {\\Omega}_{0}^{2} {d}_{2} \\alpha + \\frac{4 {B}_{0,1} {B}_{0,2} {B}_{0,3} {B}_{0,4} {\\Omega}_{5} \\kappa^{2}}{{\\Omega}_{0}^{3}} + \\frac{4 {B}_{0,1} {B}_{0,2} {B}_{0,3} {B}_{0,5} {\\Omega}_{4} \\kappa^{2}}{{\\Omega}_{0}^{3}} + \\frac{4 {B}_{0,1} {B}_{0,2} {B}_{0,4} {B}_{0,5} {\\Omega}_{3} \\kappa^{2}}{{\\Omega}_{0}^{3}} + \\frac{4 {B}_{0,1} {B}_{0,3} {B}_{0,4} {B}_{0,5} {\\Omega}_{2} \\kappa^{2}}{{\\Omega}_{0}^{3}} + \\frac{4 {B}_{0,2} {B}_{0,3} {B}_{0,4} {B}_{0,5} {\\Omega}_{1} \\kappa^{2}}{{\\Omega}_{0}^{3}} - {\\Omega}_{0}^{2} {d}_{1}^{2} \\alpha^{2}\\right) U_{0}^{2}{\\left(z \\right)} + \\left(2 K {\\Omega}_{0}^{2} \\alpha - \\frac{4 {B}_{0,1} {B}_{0,2} {B}_{0,3} {\\Omega}_{4} {\\Omega}_{5} \\kappa^{2}}{{\\Omega}_{0}^{3}} - \\frac{4 {B}_{0,1} {B}_{0,2} {B}_{0,4} {\\Omega}_{3} {\\Omega}_{5} \\kappa^{2}}{{\\Omega}_{0}^{3}} - \\frac{4 {B}_{0,1} {B}_{0,2} {B}_{0,5} {\\Omega}_{3} {\\Omega}_{4} \\kappa^{2}}{{\\Omega}_{0}^{3}} - \\frac{4 {B}_{0,1} {B}_{0,3} {B}_{0,4} {\\Omega}_{2} {\\Omega}_{5} \\kappa^{2}}{{\\Omega}_{0}^{3}} - \\frac{4 {B}_{0,1} {B}_{0,3} {B}_{0,5} {\\Omega}_{2} {\\Omega}_{4} \\kappa^{2}}{{\\Omega}_{0}^{3}} - \\frac{4 {B}_{0,1} {B}_{0,4} {B}_{0,5} {\\Omega}_{2} {\\Omega}_{3} \\kappa^{2}}{{\\Omega}_{0}^{3}} - \\frac{4 {B}_{0,2} {B}_{0,3} {B}_{0,4} {\\Omega}_{1} {\\Omega}_{5} \\kappa^{2}}{{\\Omega}_{0}^{3}} - \\frac{4 {B}_{0,2} {B}_{0,3} {B}_{0,5} {\\Omega}_{1} {\\Omega}_{4} \\kappa^{2}}{{\\Omega}_{0}^{3}} - \\frac{4 {B}_{0,2} {B}_{0,4} {B}_{0,5} {\\Omega}_{1} {\\Omega}_{3} \\kappa^{2}}{{\\Omega}_{0}^{3}} - \\frac{4 {B}_{0,3} {B}_{0,4} {B}_{0,5} {\\Omega}_{1} {\\Omega}_{2} \\kappa^{2}}{{\\Omega}_{0}^{3}} - 2 {\\Omega}_{0}^{2} {d}_{1} {d}_{2} \\alpha^{2}\\right) U_{0}^{3}{\\left(z \\right)} + \\left(\\frac{4 {B}_{0,1} {B}_{0,2} {\\Omega}_{3} {\\Omega}_{4} {\\Omega}_{5} \\kappa^{2}}{{\\Omega}_{0}^{3}} + \\frac{4 {B}_{0,1} {B}_{0,3} {\\Omega}_{2} {\\Omega}_{4} {\\Omega}_{5} \\kappa^{2}}{{\\Omega}_{0}^{3}} + \\frac{4 {B}_{0,1} {B}_{0,4} {\\Omega}_{2} {\\Omega}_{3} {\\Omega}_{5} \\kappa^{2}}{{\\Omega}_{0}^{3}} + \\frac{4 {B}_{0,1} {B}_{0,5} {\\Omega}_{2} {\\Omega}_{3} {\\Omega}_{4} \\kappa^{2}}{{\\Omega}_{0}^{3}} + \\frac{4 {B}_{0,2} {B}_{0,3} {\\Omega}_{1} {\\Omega}_{4} {\\Omega}_{5} \\kappa^{2}}{{\\Omega}_{0}^{3}} + \\frac{4 {B}_{0,2} {B}_{0,4} {\\Omega}_{1} {\\Omega}_{3} {\\Omega}_{5} \\kappa^{2}}{{\\Omega}_{0}^{3}} + \\frac{4 {B}_{0,2} {B}_{0,5} {\\Omega}_{1} {\\Omega}_{3} {\\Omega}_{4} \\kappa^{2}}{{\\Omega}_{0}^{3}} + \\frac{4 {B}_{0,3} {B}_{0,4} {\\Omega}_{1} {\\Omega}_{2} {\\Omega}_{5} \\kappa^{2}}{{\\Omega}_{0}^{3}} + \\frac{4 {B}_{0,3} {B}_{0,5} {\\Omega}_{1} {\\Omega}_{2} {\\Omega}_{4} \\kappa^{2}}{{\\Omega}_{0}^{3}} + \\frac{4 {B}_{0,4} {B}_{0,5} {\\Omega}_{1} {\\Omega}_{2} {\\Omega}_{3} \\kappa^{2}}{{\\Omega}_{0}^{3}} - 2 {\\Omega}_{0}^{2} {d}_{1} \\alpha^{2} - {\\Omega}_{0}^{2} {d}_{2}^{2} \\alpha^{2}\\right) U_{0}^{4}{\\left(z \\right)}$"
      ],
      "text/plain": [
       "-K**2*Omega[0]**2 + (-Omega[0]**2*alpha**2 + 4*Omega[1]*Omega[2]*Omega[3]*Omega[4]*Omega[5]*kappa**2/Omega[0]**3)*U0(z)**6 + (2*K*Omega[0]**2*d[1]*alpha - 4*B[0, 1]*B[0, 2]*B[0, 3]*B[0, 4]*B[0, 5]*kappa**2/Omega[0]**3)*U0(z) + (-4*B[0, 1]*Omega[2]*Omega[3]*Omega[4]*Omega[5]*kappa**2/Omega[0]**3 - 4*B[0, 2]*Omega[1]*Omega[3]*Omega[4]*Omega[5]*kappa**2/Omega[0]**3 - 4*B[0, 3]*Omega[1]*Omega[2]*Omega[4]*Omega[5]*kappa**2/Omega[0]**3 - 4*B[0, 4]*Omega[1]*Omega[2]*Omega[3]*Omega[5]*kappa**2/Omega[0]**3 - 4*B[0, 5]*Omega[1]*Omega[2]*Omega[3]*Omega[4]*kappa**2/Omega[0]**3 - 2*Omega[0]**2*d[2]*alpha**2)*U0(z)**5 + (2*K*Omega[0]**2*d[2]*alpha + 4*B[0, 1]*B[0, 2]*B[0, 3]*B[0, 4]*Omega[5]*kappa**2/Omega[0]**3 + 4*B[0, 1]*B[0, 2]*B[0, 3]*B[0, 5]*Omega[4]*kappa**2/Omega[0]**3 + 4*B[0, 1]*B[0, 2]*B[0, 4]*B[0, 5]*Omega[3]*kappa**2/Omega[0]**3 + 4*B[0, 1]*B[0, 3]*B[0, 4]*B[0, 5]*Omega[2]*kappa**2/Omega[0]**3 + 4*B[0, 2]*B[0, 3]*B[0, 4]*B[0, 5]*Omega[1]*kappa**2/Omega[0]**3 - Omega[0]**2*d[1]**2*alpha**2)*U0(z)**2 + (2*K*Omega[0]**2*alpha - 4*B[0, 1]*B[0, 2]*B[0, 3]*Omega[4]*Omega[5]*kappa**2/Omega[0]**3 - 4*B[0, 1]*B[0, 2]*B[0, 4]*Omega[3]*Omega[5]*kappa**2/Omega[0]**3 - 4*B[0, 1]*B[0, 2]*B[0, 5]*Omega[3]*Omega[4]*kappa**2/Omega[0]**3 - 4*B[0, 1]*B[0, 3]*B[0, 4]*Omega[2]*Omega[5]*kappa**2/Omega[0]**3 - 4*B[0, 1]*B[0, 3]*B[0, 5]*Omega[2]*Omega[4]*kappa**2/Omega[0]**3 - 4*B[0, 1]*B[0, 4]*B[0, 5]*Omega[2]*Omega[3]*kappa**2/Omega[0]**3 - 4*B[0, 2]*B[0, 3]*B[0, 4]*Omega[1]*Omega[5]*kappa**2/Omega[0]**3 - 4*B[0, 2]*B[0, 3]*B[0, 5]*Omega[1]*Omega[4]*kappa**2/Omega[0]**3 - 4*B[0, 2]*B[0, 4]*B[0, 5]*Omega[1]*Omega[3]*kappa**2/Omega[0]**3 - 4*B[0, 3]*B[0, 4]*B[0, 5]*Omega[1]*Omega[2]*kappa**2/Omega[0]**3 - 2*Omega[0]**2*d[1]*d[2]*alpha**2)*U0(z)**3 + (4*B[0, 1]*B[0, 2]*Omega[3]*Omega[4]*Omega[5]*kappa**2/Omega[0]**3 + 4*B[0, 1]*B[0, 3]*Omega[2]*Omega[4]*Omega[5]*kappa**2/Omega[0]**3 + 4*B[0, 1]*B[0, 4]*Omega[2]*Omega[3]*Omega[5]*kappa**2/Omega[0]**3 + 4*B[0, 1]*B[0, 5]*Omega[2]*Omega[3]*Omega[4]*kappa**2/Omega[0]**3 + 4*B[0, 2]*B[0, 3]*Omega[1]*Omega[4]*Omega[5]*kappa**2/Omega[0]**3 + 4*B[0, 2]*B[0, 4]*Omega[1]*Omega[3]*Omega[5]*kappa**2/Omega[0]**3 + 4*B[0, 2]*B[0, 5]*Omega[1]*Omega[3]*Omega[4]*kappa**2/Omega[0]**3 + 4*B[0, 3]*B[0, 4]*Omega[1]*Omega[2]*Omega[5]*kappa**2/Omega[0]**3 + 4*B[0, 3]*B[0, 5]*Omega[1]*Omega[2]*Omega[4]*kappa**2/Omega[0]**3 + 4*B[0, 4]*B[0, 5]*Omega[1]*Omega[2]*Omega[3]*kappa**2/Omega[0]**3 - 2*Omega[0]**2*d[1]*alpha**2 - Omega[0]**2*d[2]**2*alpha**2)*U0(z)**4"
      ]
     },
     "execution_count": 36,
     "metadata": {},
     "output_type": "execute_result"
    }
   ],
   "source": [
    "U0_squared_power_poly = squared_power_eqs[0].rhs.subs([\n",
    "    (u_n_term_prod.lhs, u_n_term_prod.rhs),\n",
    "    (P_u_n_term_prod.lhs, P_u_n_term_prod.rhs)\n",
    "]).expand().collect(Uz[0])\n",
    "U0_squared_power_poly"
   ]
  },
  {
   "cell_type": "markdown",
   "metadata": {},
   "source": [
    "then to cancel the highest order terms in $U_0$, $\\alpha$ should be fixed such that:"
   ]
  },
  {
   "cell_type": "code",
   "execution_count": 37,
   "metadata": {},
   "outputs": [
    {
     "data": {
      "text/latex": [
       "$\\displaystyle - {\\Omega}_{0}^{2} \\alpha^{2} + \\frac{4 {\\Omega}_{1} {\\Omega}_{2} {\\Omega}_{3} {\\Omega}_{4} {\\Omega}_{5} \\kappa^{2}}{{\\Omega}_{0}^{3}} = 0$"
      ],
      "text/plain": [
       "Eq(-Omega[0]**2*alpha**2 + 4*Omega[1]*Omega[2]*Omega[3]*Omega[4]*Omega[5]*kappa**2/Omega[0]**3, 0)"
      ]
     },
     "execution_count": 37,
     "metadata": {},
     "output_type": "execute_result"
    }
   ],
   "source": [
    "no_highest_order_alpha_eq = Eq(U0_squared_power_poly.coeff(Uz[0]**Nmodes),0)\n",
    "no_highest_order_alpha_eq"
   ]
  },
  {
   "cell_type": "markdown",
   "metadata": {},
   "source": [
    "which has two solutions:"
   ]
  },
  {
   "cell_type": "code",
   "execution_count": 38,
   "metadata": {},
   "outputs": [
    {
     "data": {
      "text/latex": [
       "$\\displaystyle \\alpha = - 2 \\sqrt{\\frac{{\\Omega}_{1} {\\Omega}_{2} {\\Omega}_{3} {\\Omega}_{4} {\\Omega}_{5}}{{\\Omega}_{0}^{5}}} \\kappa$"
      ],
      "text/plain": [
       "Eq(alpha, -2*sqrt(Omega[1]*Omega[2]*Omega[3]*Omega[4]*Omega[5]/Omega[0]**5)*kappa)"
      ]
     },
     "execution_count": 38,
     "metadata": {},
     "output_type": "execute_result"
    }
   ],
   "source": [
    "alpha_minus_eq = Eq(alpha, solve(no_highest_order_alpha_eq, alpha)[0])\n",
    "alpha_minus_eq"
   ]
  },
  {
   "cell_type": "code",
   "execution_count": 39,
   "metadata": {},
   "outputs": [
    {
     "data": {
      "text/latex": [
       "$\\displaystyle \\alpha = 2 \\sqrt{\\frac{{\\Omega}_{1} {\\Omega}_{2} {\\Omega}_{3} {\\Omega}_{4} {\\Omega}_{5}}{{\\Omega}_{0}^{5}}} \\kappa$"
      ],
      "text/plain": [
       "Eq(alpha, 2*sqrt(Omega[1]*Omega[2]*Omega[3]*Omega[4]*Omega[5]/Omega[0]**5)*kappa)"
      ]
     },
     "execution_count": 39,
     "metadata": {},
     "output_type": "execute_result"
    }
   ],
   "source": [
    "alpha_plus_eq = Eq(alpha, solve(no_highest_order_alpha_eq, alpha)[1])\n",
    "alpha_plus_eq"
   ]
  },
  {
   "cell_type": "markdown",
   "metadata": {},
   "source": [
    "Substituting the positive $\\alpha$ choice, an expression can then be found to cancel the next highest order term:"
   ]
  },
  {
   "cell_type": "code",
   "execution_count": 40,
   "metadata": {},
   "outputs": [
    {
     "data": {
      "text/latex": [
       "$\\displaystyle - \\frac{4 {B}_{0,1} {\\Omega}_{2} {\\Omega}_{3} {\\Omega}_{4} {\\Omega}_{5} \\kappa^{2}}{{\\Omega}_{0}^{3}} - \\frac{4 {B}_{0,2} {\\Omega}_{1} {\\Omega}_{3} {\\Omega}_{4} {\\Omega}_{5} \\kappa^{2}}{{\\Omega}_{0}^{3}} - \\frac{4 {B}_{0,3} {\\Omega}_{1} {\\Omega}_{2} {\\Omega}_{4} {\\Omega}_{5} \\kappa^{2}}{{\\Omega}_{0}^{3}} - \\frac{4 {B}_{0,4} {\\Omega}_{1} {\\Omega}_{2} {\\Omega}_{3} {\\Omega}_{5} \\kappa^{2}}{{\\Omega}_{0}^{3}} - \\frac{4 {B}_{0,5} {\\Omega}_{1} {\\Omega}_{2} {\\Omega}_{3} {\\Omega}_{4} \\kappa^{2}}{{\\Omega}_{0}^{3}} - \\frac{8 {\\Omega}_{1} {\\Omega}_{2} {\\Omega}_{3} {\\Omega}_{4} {\\Omega}_{5} {d}_{2} \\kappa^{2}}{{\\Omega}_{0}^{3}} = 0$"
      ],
      "text/plain": [
       "Eq(-4*B[0, 1]*Omega[2]*Omega[3]*Omega[4]*Omega[5]*kappa**2/Omega[0]**3 - 4*B[0, 2]*Omega[1]*Omega[3]*Omega[4]*Omega[5]*kappa**2/Omega[0]**3 - 4*B[0, 3]*Omega[1]*Omega[2]*Omega[4]*Omega[5]*kappa**2/Omega[0]**3 - 4*B[0, 4]*Omega[1]*Omega[2]*Omega[3]*Omega[5]*kappa**2/Omega[0]**3 - 4*B[0, 5]*Omega[1]*Omega[2]*Omega[3]*Omega[4]*kappa**2/Omega[0]**3 - 8*Omega[1]*Omega[2]*Omega[3]*Omega[4]*Omega[5]*d[2]*kappa**2/Omega[0]**3, 0)"
      ]
     },
     "execution_count": 40,
     "metadata": {},
     "output_type": "execute_result"
    }
   ],
   "source": [
    "no_Nminus1_highest_order_d2_eq = Eq(\n",
    "    U0_squared_power_poly.subs(*alpha_plus_eq.args).collect(Uz[0]).coeff(Uz[0]**(Nmodes - 1)),0)\n",
    "no_Nminus1_highest_order_d2_eq"
   ]
  },
  {
   "cell_type": "code",
   "execution_count": 41,
   "metadata": {
    "scrolled": true
   },
   "outputs": [
    {
     "ename": "NameError",
     "evalue": "name 'no_Nminus1_highest_order_d0_eq' is not defined",
     "output_type": "error",
     "traceback": [
      "\u001b[0;31m---------------------------------------------------------------------------\u001b[0m",
      "\u001b[0;31mNameError\u001b[0m                                 Traceback (most recent call last)",
      "Cell \u001b[0;32mIn[41], line 1\u001b[0m\n\u001b[0;32m----> 1\u001b[0m no_Nminus1_highest_order_d2_val \u001b[38;5;241m=\u001b[39m Eq(d[\u001b[38;5;241m2\u001b[39m], solve(\u001b[43mno_Nminus1_highest_order_d0_eq\u001b[49m, d[\u001b[38;5;241m2\u001b[39m])[\u001b[38;5;241m0\u001b[39m])\n\u001b[1;32m      2\u001b[0m no_Nminus1_highest_order_d2_val\n",
      "\u001b[0;31mNameError\u001b[0m: name 'no_Nminus1_highest_order_d0_eq' is not defined"
     ]
    }
   ],
   "source": [
    "no_Nminus1_highest_order_d2_val = Eq(d[2], solve(no_Nminus1_highest_order_d0_eq, d[2])[0])\n",
    "no_Nminus1_highest_order_d2_val"
   ]
  },
  {
   "cell_type": "code",
   "execution_count": null,
   "metadata": {},
   "outputs": [],
   "source": [
    "no_Nminus2_highest_order_d1_eq = Eq(\n",
    "    U0_squared_power_poly.subs(*alpha_plus_eq.args).subs(*no_Nminus1_highest_order_d2_val.args)\n",
    "    .collect(Uz[0]).coeff(Uz[0]**(Nmodes - 2)),0)\n",
    "no_Nminus2_highest_order_d1_eq"
   ]
  },
  {
   "cell_type": "code",
   "execution_count": null,
   "metadata": {},
   "outputs": [],
   "source": [
    "no_Nminus2_highest_order_d1_val = Eq(d[1], solve(no_Nminus2_highest_order_d1_eq, d[1])[0])\n",
    "no_Nminus2_highest_order_d1_val "
   ]
  },
  {
   "cell_type": "code",
   "execution_count": null,
   "metadata": {},
   "outputs": [],
   "source": [
    "no_Nminus3_highest_order_d0_eq = Eq(\n",
    "    U0_squared_power_poly\n",
    "    .subs(*alpha_plus_eq.args)\n",
    "    .subs(*no_Nminus1_highest_order_d2_val.args)\n",
    "    .subs(*no_Nminus2_highest_order_d1_val.args)\n",
    "    .collect(Uz[0]).coeff(Uz[0]**(Nmodes - 3)),0)\n",
    "no_Nminus3_highest_order_d0_eq.expand()"
   ]
  },
  {
   "cell_type": "code",
   "execution_count": null,
   "metadata": {},
   "outputs": [],
   "source": [
    "no_Nminus3_highest_order_d0_val = Eq(d[0], solve(no_Nminus3_highest_order_d0_eq, d[0])[0])\n",
    "no_Nminus3_highest_order_d0_val.expand()"
   ]
  },
  {
   "cell_type": "markdown",
   "metadata": {},
   "source": [
    "One Lagrangian that woud yield a cubic in $U_0$ is thus:"
   ]
  },
  {
   "cell_type": "code",
   "execution_count": null,
   "metadata": {},
   "outputs": [],
   "source": [
    "lagrangian_n_term_alpha = lagrangian.subs(\n",
    "    P_u_n_term_prod.subs([(Uz[_i], Az[_i]*Acz[_i]) for _i in range(Nmodes)]).lhs,\n",
    "    P_u_n_term_prod.subs([(Uz[_i], Az[_i]*Acz[_i]) for _i in range(Nmodes)]).rhs\n",
    ")\n",
    "lagrangian_n_term_alpha"
   ]
  },
  {
   "cell_type": "code",
   "execution_count": null,
   "metadata": {},
   "outputs": [],
   "source": [
    "lagrangian_2_term_alpha_no_quartic = lagrangian_2_term_alpha.subs(alpha_plus_eq.lhs, alpha_plus_eq.rhs)\n",
    "lagrangian_2_term_alpha_no_quartic"
   ]
  },
  {
   "cell_type": "markdown",
   "metadata": {},
   "source": [
    "which after a suitable rescaling of the fields and parameters can be written:"
   ]
  },
  {
   "cell_type": "code",
   "execution_count": null,
   "metadata": {},
   "outputs": [],
   "source": [
    "L_4m_ex1_a = ((lagrangian_2_term_alpha_no_quartic.subs([    \n",
    "    *[(Az[_i], sqrt(Omega[_i])*Az[_i]) for _i in range(Nmodes)],\n",
    "    *[(Acz[_i], sqrt(Omega[_i])*Acz[_i]) for _i in range(Nmodes)],\n",
    "]).simplify().expand().subs([\n",
    "    (sqrt(Omega[1]*Omega[2]*Omega[3]/Omega[0]**3), \n",
    "     sqrt(Omega[1])*sqrt(Omega[2])*sqrt(Omega[3])/sqrt(Omega[0])**3\n",
    "    )\n",
    "]).subs([\n",
    "    (kappa, kappa/(sqrt(Omega[0])*sqrt(Omega[1])*sqrt(Omega[2])*sqrt(Omega[3]))),\n",
    "    (d[1],d[1]*Omega[0]), (d[2],d[2]*Omega[0])\n",
    "])/kappa).expand().subs(kappa,1).subs(2*d[1]*d[2],0).subs(d[2],d[0]/2-d[1]).expand() + \n",
    "           Az[1]*Acz[1]*d[1] + Az[2]*Acz[2]*d[2] + Az[3]*Acz[3]*d[3]\n",
    "           )\n",
    "L_4m_ex1_a"
   ]
  },
  {
   "cell_type": "markdown",
   "metadata": {},
   "source": [
    "which can then be made symmetric in modal powers by appropriately adding some squares of the other modal powers and compensating with a reduction in the weight of $|A_0|^2$."
   ]
  },
  {
   "cell_type": "code",
   "execution_count": null,
   "metadata": {},
   "outputs": [],
   "source": [
    "L_4m_ex1 = L_4m_ex1_a - ((Az[0]*Acz[0])**2 + (Az[1]*Acz[1])**2 + (Az[2]*Acz[2])**2 + (Az[3]*Acz[3])**2)/2 + 2*(Az[0]*Acz[0])**2\n",
    "L_4m_ex1"
   ]
  },
  {
   "cell_type": "markdown",
   "metadata": {},
   "source": [
    "This will conserve the constant $K$ (potential terms):"
   ]
  },
  {
   "cell_type": "code",
   "execution_count": null,
   "metadata": {},
   "outputs": [],
   "source": [
    "K_ex1 = Eq(K, L_4m_ex1 - kinetic.subs([(Omega[_i],1) for _i in range(Nmodes)]).expand())\n",
    "K_ex1"
   ]
  },
  {
   "cell_type": "code",
   "execution_count": null,
   "metadata": {},
   "outputs": [],
   "source": [
    "K_eq_2_ex1 = Eq(K - K_ex1.rhs - (prod(Az)+prod(Acz)) , K - K_ex1.lhs - (prod(Az)+prod(Acz)))\n",
    "K_eq_2_ex1"
   ]
  },
  {
   "cell_type": "markdown",
   "metadata": {},
   "source": [
    "such that the polynomial part $P$ is:"
   ]
  },
  {
   "cell_type": "code",
   "execution_count": null,
   "metadata": {},
   "outputs": [],
   "source": [
    "P_ex1 = Eq(P(*[Az[_i]*Acz[_i] for _i in range(Nmodes)]), K_ex1.rhs + (prod(Az)+prod(Acz)))\n",
    "P_ex1"
   ]
  },
  {
   "cell_type": "markdown",
   "metadata": {},
   "source": [
    "The equations of motion coming from the Euler-Lagrange equations are thus:"
   ]
  },
  {
   "cell_type": "code",
   "execution_count": null,
   "metadata": {},
   "outputs": [],
   "source": [
    "euler_lagrangian_eqs_ex1 = [\n",
    "    Eq(\n",
    "        diff([*Az,*Acz][_i],z),\n",
    "        solve(diff(L_4m_ex1, [*Acz,*Az][_i]) - diff(diff(L_4m_ex1, [*DAcz,*DAz][_i]),z), diff([*Az,*Acz][_i],z))[0]\n",
    "    ).expand()\n",
    "    for _i in range(2*Nmodes)\n",
    "]"
   ]
  },
  {
   "cell_type": "code",
   "execution_count": null,
   "metadata": {},
   "outputs": [],
   "source": [
    "euler_lagrangian_eqs_ex1[0]"
   ]
  },
  {
   "cell_type": "code",
   "execution_count": null,
   "metadata": {},
   "outputs": [],
   "source": [
    "euler_lagrangian_eqs_ex1[1]"
   ]
  },
  {
   "cell_type": "code",
   "execution_count": null,
   "metadata": {},
   "outputs": [],
   "source": [
    "euler_lagrangian_eqs_ex1[2]"
   ]
  },
  {
   "cell_type": "code",
   "execution_count": null,
   "metadata": {},
   "outputs": [],
   "source": [
    "euler_lagrangian_eqs_ex1[3]"
   ]
  },
  {
   "cell_type": "code",
   "execution_count": null,
   "metadata": {},
   "outputs": [],
   "source": [
    "euler_lagrangian_eqs_ex1[4]"
   ]
  },
  {
   "cell_type": "code",
   "execution_count": null,
   "metadata": {},
   "outputs": [],
   "source": [
    "euler_lagrangian_eqs_ex1[5]"
   ]
  },
  {
   "cell_type": "code",
   "execution_count": null,
   "metadata": {},
   "outputs": [],
   "source": [
    "euler_lagrangian_eqs_ex1[6]"
   ]
  },
  {
   "cell_type": "code",
   "execution_count": null,
   "metadata": {},
   "outputs": [],
   "source": [
    "euler_lagrangian_eqs_ex1[7]"
   ]
  },
  {
   "cell_type": "code",
   "execution_count": null,
   "metadata": {},
   "outputs": [],
   "source": [
    "power_eqns_ex1 = [\n",
    "    Eq(diff(Uz[_i],z), diff(Az[_i]*Acz[_i],z)).expand().subs([\n",
    "        (euler_lagrangian_eqs_ex1[_i].lhs, euler_lagrangian_eqs_ex1[_i].rhs) for _i in range(2*Nmodes)\n",
    "    ]).simplify()\n",
    "    for _i in range(Nmodes)\n",
    "]"
   ]
  },
  {
   "cell_type": "code",
   "execution_count": null,
   "metadata": {},
   "outputs": [],
   "source": [
    "power_eqns_ex1[0]"
   ]
  },
  {
   "cell_type": "code",
   "execution_count": null,
   "metadata": {},
   "outputs": [],
   "source": [
    "power_eqns_ex1[1]"
   ]
  },
  {
   "cell_type": "code",
   "execution_count": null,
   "metadata": {},
   "outputs": [],
   "source": [
    "power_eqns_ex1[2]"
   ]
  },
  {
   "cell_type": "code",
   "execution_count": null,
   "metadata": {},
   "outputs": [],
   "source": [
    "power_eqns_ex1[3]"
   ]
  },
  {
   "cell_type": "code",
   "execution_count": null,
   "metadata": {},
   "outputs": [],
   "source": [
    "squared_power_eqs_ex1 = [\n",
    "    Eq(\n",
    "        power_eqns_ex1[_i].lhs**2, \n",
    "        (power_eqns_ex1[_i].rhs**2 + K_eq_2_ex1.rhs**2).expand()- K_eq_2_ex1.lhs**2\n",
    "    ).subs([(Acz[_j], Uz[_j]/Az[_j]) for _j in range(Nmodes)]) for _i in range(Nmodes)\n",
    "]"
   ]
  },
  {
   "cell_type": "code",
   "execution_count": null,
   "metadata": {
    "scrolled": false
   },
   "outputs": [],
   "source": [
    "squared_power_eqs_ex1[0]"
   ]
  },
  {
   "cell_type": "code",
   "execution_count": null,
   "metadata": {},
   "outputs": [],
   "source": [
    "B_U_subs = [ ( B[_j, _k,], Uz[_j] - Uz[_k] ) for _j in range(Nmodes) for _k in range(Nmodes) ]\n",
    "Ac_U_subs = [(Acz[_j], Uz[_j]/Az[_j]) for _j in range(Nmodes)]"
   ]
  },
  {
   "cell_type": "code",
   "execution_count": null,
   "metadata": {},
   "outputs": [],
   "source": [
    "phase_mod_terms = [\n",
    "    Eq(\n",
    "        K_eq_2_ex1.lhs\n",
    "        .subs(Ac_U_subs),\n",
    "        K_eq_2_ex1.lhs\n",
    "        .subs(Ac_U_subs)\n",
    "        .subs([(Uz[_i], solve(Eq(B[_k,_i],Uz[_k]-Uz[_i]),Uz[_i])[0]) for _i in range(Nmodes) if _i != _k])\n",
    "        .expand()\n",
    "        .collect(Uz[_k],factor)\n",
    "        .subs([\n",
    "            (\n",
    "                ( K + Sum(d[j]*B[_k,j],(j,0,Nmodes-1)) + Sum(B[_k,j]**2,(j,0,Nmodes-1))/2 )\n",
    "                .doit().subs(B[_k,_k],0).factor(),\n",
    "                ( K + Sum(d[j]*B[_k,j],(j,0,Nmodes-1)) + Sum(B[_k,j]**2,(j,0,Nmodes-1))/2 )\n",
    "            ),\n",
    "            (\n",
    "                ( -Sum(d[j],(j,0,Nmodes-1)) - Sum(B[_k,j],(j,0,Nmodes-1)) )\n",
    "                .doit().subs(B[_k,_k], 0).factor(),\n",
    "                ( -Sum(d[j],(j,0,Nmodes-1)) - Sum(B[_k,j],(j,0,Nmodes-1)) )\n",
    "            )\n",
    "        ])\n",
    "    ) \n",
    "    for _k in range(Nmodes)\n",
    "]"
   ]
  },
  {
   "cell_type": "code",
   "execution_count": null,
   "metadata": {},
   "outputs": [],
   "source": [
    "fwm_terms = [\n",
    "    Eq(\n",
    "        4*prod([Uz[_i] for _i in range(Nmodes)]),\n",
    "        (4*prod([Uz[_i] for _i in range(Nmodes)]))\n",
    "        .subs([\n",
    "            (Uz[_i], solve(Eq(B[_k,_i],Uz[_k]-Uz[_i]),Uz[_i])[0]) for _i in range(Nmodes) if _i != _k\n",
    "        ])\n",
    "        .expand()\n",
    "        .collect(Uz[_k],factor)\n",
    "        .subs([\n",
    "            (\n",
    "                ( 2*(Sum(B[_k,j],(j,0,Nmodes-1))**2 - Sum(B[_k,j]**2,(j,0,Nmodes-1))) )\n",
    "                .doit().subs(B[_k,_k],0).factor(),\n",
    "                ( 2*(Sum(B[_k,j],(j,0,Nmodes-1))**2 - Sum(B[_k,j]**2,(j,0,Nmodes-1))) )\n",
    "            ),\n",
    "            (\n",
    "                (Sum(B[_k,j],(j,0,Nmodes-1) )).doit().subs(B[_k,_k],0).factor(),\n",
    "                Sum(B[_k,j],(j,0,Nmodes-1))\n",
    "            )\n",
    "        ])\n",
    "    )\n",
    "    for _k in range(Nmodes)\n",
    "]"
   ]
  },
  {
   "cell_type": "code",
   "execution_count": null,
   "metadata": {},
   "outputs": [],
   "source": [
    "[(phase_mod_terms[_j].lhs - phase_mod_terms[_j].rhs.doit().subs(B_U_subs)).simplify() == 0 for _j in range(Nmodes)]"
   ]
  },
  {
   "cell_type": "code",
   "execution_count": null,
   "metadata": {},
   "outputs": [],
   "source": [
    "[(fwm_terms[_j].lhs - fwm_terms[_j].rhs.doit().subs(B_U_subs)).simplify() == 0 for _j in range(Nmodes)]"
   ]
  },
  {
   "cell_type": "code",
   "execution_count": null,
   "metadata": {},
   "outputs": [],
   "source": [
    "phase_mod_terms[0]"
   ]
  },
  {
   "cell_type": "code",
   "execution_count": null,
   "metadata": {},
   "outputs": [],
   "source": [
    "fwm_terms[0]"
   ]
  },
  {
   "cell_type": "code",
   "execution_count": null,
   "metadata": {
    "scrolled": true
   },
   "outputs": [],
   "source": [
    "squared_power_eqs_ex1[0].subs([\n",
    "    (phase_mod_terms[0].lhs, phase_mod_terms[0].rhs),\n",
    "    (fwm_terms[0].lhs, fwm_terms[0].rhs),\n",
    "])"
   ]
  },
  {
   "cell_type": "code",
   "execution_count": null,
   "metadata": {},
   "outputs": [],
   "source": [
    "seperated_squared_power_eqs = [\n",
    "    Eq(\n",
    "        squared_power_eqs_ex1[_k].lhs,\n",
    "        squared_power_eqs_ex1[_k].rhs.subs([\n",
    "            (phase_mod_terms[_k].lhs, phase_mod_terms[_k].rhs),\n",
    "            (fwm_terms[_k].lhs, fwm_terms[_k].rhs),\n",
    "        ]).expand().collect(Uz[_k],factor)\n",
    "    ).subs(Sum(d[j],(j,0,3)),1)\n",
    "    for _k in range(Nmodes)\n",
    "]"
   ]
  },
  {
   "cell_type": "code",
   "execution_count": null,
   "metadata": {},
   "outputs": [],
   "source": [
    "U_coeffs_reversed = [Poly(seperated_squared_power_eqs[_k].rhs,Uz[_k]).coeffs()[::-1] for _k in range(Nmodes)]\n",
    "p_vals = [[Eq(p[_k,_i], U_coeffs_reversed[_k][_i].factor()) for _i in range(Nmodes)] for _k in range(Nmodes)]"
   ]
  },
  {
   "cell_type": "code",
   "execution_count": null,
   "metadata": {},
   "outputs": [],
   "source": [
    "p_vals[0][0]"
   ]
  },
  {
   "cell_type": "code",
   "execution_count": null,
   "metadata": {
    "scrolled": true
   },
   "outputs": [],
   "source": [
    "p_vals[0][1]"
   ]
  },
  {
   "cell_type": "code",
   "execution_count": null,
   "metadata": {},
   "outputs": [],
   "source": [
    "p_vals[0][2]"
   ]
  },
  {
   "cell_type": "code",
   "execution_count": null,
   "metadata": {},
   "outputs": [],
   "source": [
    "p_vals[0][3]"
   ]
  },
  {
   "cell_type": "code",
   "execution_count": null,
   "metadata": {},
   "outputs": [],
   "source": [
    "seperated_U_p_eqs = [\n",
    "    seperated_squared_power_eqs[_k].subs([(p_val.rhs, p_val.lhs) for p_val in p_vals[_k]]) for _k in range(Nmodes) \n",
    "]"
   ]
  },
  {
   "cell_type": "code",
   "execution_count": null,
   "metadata": {},
   "outputs": [],
   "source": [
    "seperated_U_p_eqs[0]"
   ]
  },
  {
   "cell_type": "code",
   "execution_count": null,
   "metadata": {},
   "outputs": [],
   "source": [
    "seperated_U_p_eqs[1]"
   ]
  },
  {
   "cell_type": "code",
   "execution_count": null,
   "metadata": {},
   "outputs": [],
   "source": [
    "seperated_U_p_eqs[2]"
   ]
  },
  {
   "cell_type": "code",
   "execution_count": null,
   "metadata": {},
   "outputs": [],
   "source": [
    "seperated_U_p_eqs[3]"
   ]
  },
  {
   "cell_type": "code",
   "execution_count": null,
   "metadata": {},
   "outputs": [],
   "source": [
    "U0_W_alpha = Eq(Uz[0],W(z) + alpha[0])\n",
    "U0_W_alpha"
   ]
  },
  {
   "cell_type": "code",
   "execution_count": null,
   "metadata": {},
   "outputs": [],
   "source": [
    "U_W_alpha_eqs = [Eq(Uz[_k],W(z) + alpha[_k]) for _k in range(Nmodes)]"
   ]
  },
  {
   "cell_type": "code",
   "execution_count": null,
   "metadata": {},
   "outputs": [],
   "source": [
    "W_alpha_p = [\n",
    "    Eq(seperated_U_p_eqs[_k].subs(U_W_alpha_eqs[_k].lhs, U_W_alpha_eqs[_k].rhs).lhs.simplify(), \n",
    "       seperated_U_p_eqs[_k].subs(Uz[_k],W(z) + alpha[_k]).expand().rhs.collect(W(z))\n",
    "    ).subs(p_vals[_k][3].lhs, p_vals[_k][3].rhs)\n",
    "    for _k in range(Nmodes)\n",
    "]"
   ]
  },
  {
   "cell_type": "code",
   "execution_count": null,
   "metadata": {},
   "outputs": [],
   "source": [
    "W_alpha_p[0]"
   ]
  },
  {
   "cell_type": "code",
   "execution_count": null,
   "metadata": {},
   "outputs": [],
   "source": [
    "W_alpha_p[1]"
   ]
  },
  {
   "cell_type": "code",
   "execution_count": null,
   "metadata": {},
   "outputs": [],
   "source": [
    "alpha_eqs = [Eq(alpha[_k], solve(W_alpha_p[_k].rhs.coeff(W(z)**2),alpha[_k])[0]) for _k in range(Nmodes)]"
   ]
  },
  {
   "cell_type": "code",
   "execution_count": null,
   "metadata": {},
   "outputs": [],
   "source": [
    "W_p_eqs = [W_alpha_p[_k].subs(alpha_eqs[_k].lhs, alpha_eqs[_k].rhs) for _k in range(Nmodes)]"
   ]
  },
  {
   "cell_type": "code",
   "execution_count": null,
   "metadata": {},
   "outputs": [],
   "source": [
    "W_p_eqs[0]"
   ]
  },
  {
   "cell_type": "code",
   "execution_count": null,
   "metadata": {},
   "outputs": [],
   "source": [
    "W_p_eqs[1]"
   ]
  },
  {
   "cell_type": "code",
   "execution_count": null,
   "metadata": {},
   "outputs": [],
   "source": [
    "W_p_eqs[2]"
   ]
  },
  {
   "cell_type": "code",
   "execution_count": null,
   "metadata": {},
   "outputs": [],
   "source": [
    "W_p_eqs[3]"
   ]
  },
  {
   "cell_type": "code",
   "execution_count": null,
   "metadata": {},
   "outputs": [],
   "source": [
    "g2_eqs = [Eq(g2,-W_p_eqs[_k].rhs.coeff(W(z))) for _k in range(Nmodes)]\n",
    "g3_eqs = [Eq(g3,-W_p_eqs[_k].rhs.subs(W(z),0)) for _k in range(Nmodes)]"
   ]
  },
  {
   "cell_type": "code",
   "execution_count": null,
   "metadata": {
    "scrolled": true
   },
   "outputs": [],
   "source": [
    "g2_eqs[0]"
   ]
  },
  {
   "cell_type": "code",
   "execution_count": null,
   "metadata": {},
   "outputs": [],
   "source": [
    "g2_eqs[1]"
   ]
  },
  {
   "cell_type": "code",
   "execution_count": null,
   "metadata": {},
   "outputs": [],
   "source": [
    "g3_eqs[0]"
   ]
  },
  {
   "cell_type": "code",
   "execution_count": null,
   "metadata": {},
   "outputs": [],
   "source": [
    "W_g2_g3_eqs = [\n",
    "    W_p_eqs[_k].subs([(g2_eqs[_k].rhs, g2_eqs[_k].lhs),(g3_eqs[_k].rhs, g3_eqs[_k].lhs)]) \n",
    "    for _k in range(Nmodes)\n",
    "]"
   ]
  },
  {
   "cell_type": "code",
   "execution_count": null,
   "metadata": {},
   "outputs": [],
   "source": [
    "W_g2_g3_eqs[0]"
   ]
  },
  {
   "cell_type": "code",
   "execution_count": null,
   "metadata": {},
   "outputs": [],
   "source": [
    "W_g2_g3_eqs[1]"
   ]
  },
  {
   "cell_type": "code",
   "execution_count": null,
   "metadata": {},
   "outputs": [],
   "source": [
    "U_pw_eqs = [\n",
    "    Eq(U_W_alpha_eqs[_k].lhs, U_W_alpha_eqs[_k].rhs.subs([(alpha_eqs[_k].lhs, alpha_eqs[_k].rhs),(W(z),pw(z-z0,g2,g3))]))\n",
    "    for _k in range(Nmodes)\n",
    "]"
   ]
  },
  {
   "cell_type": "code",
   "execution_count": null,
   "metadata": {},
   "outputs": [],
   "source": [
    "U_pw_eqs[0]"
   ]
  },
  {
   "cell_type": "code",
   "execution_count": null,
   "metadata": {},
   "outputs": [],
   "source": [
    "U_pw_eqs[1]"
   ]
  },
  {
   "cell_type": "code",
   "execution_count": null,
   "metadata": {},
   "outputs": [],
   "source": [
    "alpha_eqs[0]"
   ]
  },
  {
   "cell_type": "code",
   "execution_count": null,
   "metadata": {},
   "outputs": [],
   "source": [
    "xi_p_eqs = [Eq(pw(xi[_k],g2,g3),-alpha_eqs[_k].rhs) for _k in range(Nmodes)]"
   ]
  },
  {
   "cell_type": "code",
   "execution_count": null,
   "metadata": {
    "scrolled": false
   },
   "outputs": [],
   "source": [
    "xi_p_eqs[0]"
   ]
  },
  {
   "cell_type": "code",
   "execution_count": null,
   "metadata": {},
   "outputs": [],
   "source": [
    "U_pw_xi_eqs = [Eq(U_pw_eqs[_k].lhs, U_pw_eqs[_k].rhs.subs(xi_p_eqs[_k].rhs, xi_p_eqs[_k].lhs)) for _k in range(Nmodes)]"
   ]
  },
  {
   "cell_type": "code",
   "execution_count": null,
   "metadata": {},
   "outputs": [],
   "source": [
    "U_pw_xi_eqs[0]"
   ]
  },
  {
   "cell_type": "code",
   "execution_count": null,
   "metadata": {},
   "outputs": [],
   "source": [
    "U_pw_xi_eqs[1]"
   ]
  },
  {
   "cell_type": "code",
   "execution_count": null,
   "metadata": {},
   "outputs": [],
   "source": [
    "U_pw_xi_eqs[2]"
   ]
  },
  {
   "cell_type": "code",
   "execution_count": null,
   "metadata": {},
   "outputs": [],
   "source": [
    "U_pw_xi_eqs[3]"
   ]
  },
  {
   "cell_type": "code",
   "execution_count": null,
   "metadata": {},
   "outputs": [],
   "source": [
    "xi_pwp_sqrd_eqs = [\n",
    "    seperated_U_p_eqs[_i]\n",
    "    .subs(U_pw_xi_eqs[_i].lhs, U_pw_xi_eqs[_i].rhs)\n",
    "    .subs(z,z0+xi[_i])\n",
    "    .doit()\n",
    "    .subs(diff(pw(z,g2,g3),z).subs(z,xi[_i]), pwp(xi[_i],g2,g3))\n",
    "    for _i in range(Nmodes)\n",
    "]"
   ]
  },
  {
   "cell_type": "code",
   "execution_count": null,
   "metadata": {},
   "outputs": [],
   "source": [
    "xi_pwp_sqrd_eqs[0]"
   ]
  },
  {
   "cell_type": "code",
   "execution_count": null,
   "metadata": {},
   "outputs": [],
   "source": [
    "pwp_xi_eqs = [Eq(pwp(xi[_i],g2,g3), -I*phase_mod_terms[_i].rhs.subs(Uz[_i],0)) for _i in range(Nmodes)]"
   ]
  },
  {
   "cell_type": "code",
   "execution_count": null,
   "metadata": {},
   "outputs": [],
   "source": [
    "pwp_xi_eqs[0]"
   ]
  },
  {
   "cell_type": "code",
   "execution_count": null,
   "metadata": {},
   "outputs": [],
   "source": [
    "pwp_xi_checks = [\n",
    "    (xi_pwp_sqrd_eqs[_i].subs(p_vals[_i][0].lhs, p_vals[_i][0].rhs).rhs - pwp_xi_eqs[_i].rhs**2).simplify() == 0 \n",
    "     for _i in range(Nmodes)\n",
    "]\n",
    "pwp_xi_checks"
   ]
  },
  {
   "cell_type": "code",
   "execution_count": null,
   "metadata": {},
   "outputs": [],
   "source": [
    "g2_all_equal_checks = [\n",
    "    (g2_eqs[_jj].rhs - g2_eqs[_kk].rhs).subs([\n",
    "        (p_vals[_j][_k].lhs, p_vals[_j][_k].rhs) for _j in range(Nmodes) for _k in range(Nmodes)\n",
    "    ]).expand().doit().subs(d[3], 1 - d[0] - d[1] - d[2]).subs(B_U_subs).expand() == 0\n",
    "    for _jj in range(Nmodes) for _kk in range(Nmodes) if _jj != _kk\n",
    "]\n",
    "g2_all_equal_checks"
   ]
  },
  {
   "cell_type": "code",
   "execution_count": null,
   "metadata": {},
   "outputs": [],
   "source": [
    "g3_all_equal_checks = [\n",
    "    (g3_eqs[_jj].rhs - g3_eqs[_kk].rhs).subs([\n",
    "    (p_vals[_j][_k].lhs, p_vals[_j][_k].rhs) for _j in range(Nmodes) for _k in range(Nmodes)\n",
    "    ]).expand().doit().subs(d[3], 1 - d[0] - d[1] - d[2]).subs(B_U_subs).expand() == 0\n",
    "    for _jj in range(Nmodes) for _kk in range(Nmodes) if _jj != _kk\n",
    "]\n",
    "g3_all_equal_checks"
   ]
  },
  {
   "cell_type": "code",
   "execution_count": null,
   "metadata": {},
   "outputs": [],
   "source": [
    "g2_avg_eq = Eq(g2, sum([\n",
    "        g2_eqs[_jj].rhs.subs([\n",
    "            (p_vals[_j][_k].lhs, p_vals[_j][_k].rhs) for _j in range(Nmodes) for _k in range(Nmodes)\n",
    "        ])/Nmodes\n",
    "        for _jj in range(Nmodes) for _kk in range(Nmodes) if _jj != _kk\n",
    "    ]).expand().collect(K,factor)\n",
    "  )"
   ]
  },
  {
   "cell_type": "markdown",
   "metadata": {},
   "source": [
    "## Logarithmic Derivatives"
   ]
  },
  {
   "cell_type": "code",
   "execution_count": null,
   "metadata": {},
   "outputs": [],
   "source": [
    "K_eq_2_ex1_b = Eq(K_eq_2_ex1.lhs + P_ex1.rhs -  P_ex1.lhs, K_eq_2_ex1.rhs)"
   ]
  },
  {
   "cell_type": "code",
   "execution_count": null,
   "metadata": {},
   "outputs": [],
   "source": [
    "phase_eqs_ex1 = [\n",
    "    Eq(\n",
    "        diff(phiz[_i],z), \n",
    "        diff(-I*ln(Az[_i]/Acz[_i])/2,z).simplify().subs([\n",
    "            (euler_lagrangian_eqs_ex1[_i].lhs, euler_lagrangian_eqs_ex1[_i].rhs) for _i in range(2*Nmodes)\n",
    "        ])\n",
    "        .simplify()\n",
    "        - (\n",
    "            K_eq_2_ex1_b.rhs/(Az[_i]*Acz[_i]) - K_eq_2_ex1_b.lhs/(Az[_i]*Acz[_i])\n",
    "        ).expand()/2\n",
    "      )\n",
    "    .expand().subs([(Acz[_i], Uz[_i]/Az[_i]) for _i in range(Nmodes)]) \n",
    "    for _i in range(Nmodes)\n",
    "]"
   ]
  },
  {
   "cell_type": "code",
   "execution_count": null,
   "metadata": {},
   "outputs": [],
   "source": [
    "P_U_ex1 = P_ex1.subs([(Acz[_j], Uz[_j]/Az[_j]) for _j in range(Nmodes)])"
   ]
  },
  {
   "cell_type": "code",
   "execution_count": null,
   "metadata": {},
   "outputs": [],
   "source": [
    "rho_eqs = [Eq(rho[_i], d[_i] - Sum(B[_i,j],(j,0,Nmodes - 1))/2 - Rational(1,2)) for _i in range(Nmodes)]"
   ]
  },
  {
   "cell_type": "code",
   "execution_count": null,
   "metadata": {},
   "outputs": [],
   "source": [
    "rho_eqs[0]"
   ]
  },
  {
   "cell_type": "code",
   "execution_count": null,
   "metadata": {},
   "outputs": [],
   "source": [
    "Eq(\n",
    "    Sum(rho[j],(j,0,Nmodes -1)), \n",
    "    Sum(rho[j],(j,0,Nmodes -1))\n",
    "    .doit()\n",
    "    .subs([r.args for r in rho_eqs])\n",
    "    .doit()\n",
    "    .subs(B_U_subs)\n",
    "    .subs(Sum(d[j],(j,0,Nmodes -1)).doit(), 1)\n",
    ")"
   ]
  },
  {
   "cell_type": "code",
   "execution_count": null,
   "metadata": {},
   "outputs": [],
   "source": [
    "phase_eqs_ex1_b = [\n",
    "    Eq(phase_eqs_ex1[_i].lhs,\n",
    "        phase_eqs_ex1[_i]\n",
    "        .rhs.subs(P_U_ex1.lhs, P_U_ex1.rhs)\n",
    "        .subs(phase_mod_terms[_i].lhs - K, phase_mod_terms[_i].rhs - K)\n",
    "        .expand()\n",
    "        .collect(Uz[_i])\n",
    "       .subs(Sum(d[j],(j,0,3)),1)\n",
    "       .subs(-I*pwp_xi_eqs[_i].rhs/2, -I*pwp_xi_eqs[_i].lhs/2)\n",
    "       .subs(U_pw_xi_eqs[_i].lhs, U_pw_xi_eqs[_i].rhs)\n",
    "       .subs(rho_eqs[_i].rhs, rho_eqs[_i].lhs)\n",
    "    )\n",
    "    for _i in range(Nmodes)\n",
    "]"
   ]
  },
  {
   "cell_type": "code",
   "execution_count": null,
   "metadata": {},
   "outputs": [],
   "source": [
    "phase_eqs_ex1_b[0]"
   ]
  },
  {
   "cell_type": "code",
   "execution_count": null,
   "metadata": {},
   "outputs": [],
   "source": [
    "phase_eqs_ex1_b[1]"
   ]
  },
  {
   "cell_type": "code",
   "execution_count": null,
   "metadata": {},
   "outputs": [],
   "source": [
    "phase_eqs_ex1_b[2]"
   ]
  },
  {
   "cell_type": "code",
   "execution_count": null,
   "metadata": {},
   "outputs": [],
   "source": [
    "phase_eqs_ex1_b[3]"
   ]
  },
  {
   "cell_type": "code",
   "execution_count": null,
   "metadata": {},
   "outputs": [],
   "source": [
    "log_diff_eqns_ex1 = [\n",
    "    Eq(\n",
    "        diff(Az[_i],z)/Az[_i], \n",
    "        (I*diff(phiz[_i],z) + diff(Uz[_i],z)/Uz[_i]/2)\n",
    "        .subs(phase_eqs_ex1_b[_i].lhs, phase_eqs_ex1_b[_i].rhs)\n",
    "        .expand()\n",
    "        .subs(U_pw_xi_eqs[_i].lhs, U_pw_xi_eqs[_i].rhs)\n",
    "        .subs(Derivative(pw(z-z0,g2,g3) - pw(xi[_i],g2,g3),z),pwp(z-z0,g2,g3))\n",
    "        .collect(rho[_i], simplify)\n",
    "    )\n",
    "    for _i in range(Nmodes)\n",
    "]"
   ]
  },
  {
   "cell_type": "code",
   "execution_count": null,
   "metadata": {},
   "outputs": [],
   "source": [
    "log_diff_eqns_ex1[0]"
   ]
  },
  {
   "cell_type": "code",
   "execution_count": null,
   "metadata": {},
   "outputs": [],
   "source": [
    "log_diff_eqns_ex1[1]"
   ]
  },
  {
   "cell_type": "code",
   "execution_count": null,
   "metadata": {},
   "outputs": [],
   "source": [
    "log_diff_eqns_ex1[2]"
   ]
  },
  {
   "cell_type": "code",
   "execution_count": null,
   "metadata": {},
   "outputs": [],
   "source": [
    "log_diff_eqns_ex1[3]"
   ]
  },
  {
   "cell_type": "code",
   "execution_count": null,
   "metadata": {},
   "outputs": [],
   "source": [
    "pw_to_zw_identity = Eq(\n",
    "    (pwp(x,g2,g3) - pwp(y,g2,g3))/(pw(x,g2,g3) - pw(y,g2,g3))/2,\n",
    "    zw(x + y,g2, g3) - zw(x,g2, g3) - zw(y,g2, g3)\n",
    ")\n",
    "pw_to_zw_identity"
   ]
  },
  {
   "cell_type": "code",
   "execution_count": null,
   "metadata": {},
   "outputs": [],
   "source": [
    "pw_to_zw_1 = pw_to_zw_identity.subs([(x,xi1),(y,z-z0)])\n",
    "log_diff_A1_zw_xi = log_diff_A1_pw_xi.subs(pw_to_zw_1.lhs, pw_to_zw_1.rhs)\n",
    "log_diff_A1_zw_xi"
   ]
  },
  {
   "cell_type": "code",
   "execution_count": null,
   "metadata": {},
   "outputs": [],
   "source": [
    "log_diff_zeta_eqns = [\n",
    "    log_diff_eqns_ex1[_i]\n",
    "    .subs(\n",
    "        pw_to_zw_identity.subs([(x,xi[_i]),(y,z-z0)]).lhs.simplify(), \n",
    "        pw_to_zw_identity.subs([(x,xi[_i]),(y,z-z0)]).rhs\n",
    "    )\n",
    "    for _i in range(Nmodes)\n",
    "]"
   ]
  },
  {
   "cell_type": "code",
   "execution_count": null,
   "metadata": {},
   "outputs": [],
   "source": [
    "log_diff_zeta_eqns[0]"
   ]
  },
  {
   "cell_type": "code",
   "execution_count": null,
   "metadata": {},
   "outputs": [],
   "source": [
    "log_diff_zeta_eqns[1]"
   ]
  },
  {
   "cell_type": "code",
   "execution_count": null,
   "metadata": {},
   "outputs": [],
   "source": [
    "log_diff_zeta_eqns[2]"
   ]
  },
  {
   "cell_type": "code",
   "execution_count": null,
   "metadata": {},
   "outputs": [],
   "source": [
    "log_diff_zeta_eqns[3]"
   ]
  },
  {
   "cell_type": "code",
   "execution_count": null,
   "metadata": {},
   "outputs": [],
   "source": [
    "Eq(Integral(Derivative(f(z),z)/f(z)),log(f(z)))"
   ]
  },
  {
   "cell_type": "code",
   "execution_count": null,
   "metadata": {},
   "outputs": [],
   "source": [
    "integral_zeta_log_sigma = Eq(Integral(zw(z,g2,g3),z),log(sigma(z,g2,g3)))\n",
    "integral_zeta_log_sigma"
   ]
  },
  {
   "cell_type": "code",
   "execution_count": null,
   "metadata": {},
   "outputs": [],
   "source": [
    "log_diff_sigma_zeta = Eq(Derivative(log(sigma(z-x,g2,g3)),z), zw(z-x,g2,g3))\n",
    "log_diff_sigma_zeta_minus = Eq(Derivative(-log(sigma(z-x,g2,g3)),z), -zw(z-x,g2,g3))\n",
    "log_diff_sigma_zeta"
   ]
  },
  {
   "cell_type": "code",
   "execution_count": null,
   "metadata": {},
   "outputs": [],
   "source": [
    "sigma_p_identity = Eq(\n",
    "    pw(x, g2, g3) - pw(y, g2, g3),\n",
    "    -sigma(x + y, g2, g3) * sigma(x - y, g2, g3) / (sigma(x, g2, g3) ** 2 * sigma(y, g2, g3) ** 2) \n",
    ")\n",
    "sigma_p_identity"
   ]
  },
  {
   "cell_type": "code",
   "execution_count": null,
   "metadata": {},
   "outputs": [],
   "source": [
    "log_A_sigma_eqs = [\n",
    "    Eq(\n",
    "        log(Az[_i]), \n",
    "        log(c[_i]) + (I*rho[_i] - zw(xi[_i],g2,g3))*z + log(sigma(xi[_i] + z - z0, g2, g3)) - log(sigma(z - z0, g2, g3))\n",
    "    )\n",
    "    for _i in range(Nmodes)\n",
    "]"
   ]
  },
  {
   "cell_type": "code",
   "execution_count": null,
   "metadata": {},
   "outputs": [],
   "source": [
    "sigma_results_differentiated = [\n",
    "    Eq(\n",
    "        diff(log_A_sigma_eqs[_i].lhs, z), \n",
    "        sum(Derivative(_term, z) for _term in Add.make_args(log_A_sigma_eqs[_i].rhs))\n",
    "    ).subs([\n",
    "        log_diff_sigma_zeta.subs(x,z0-xi[_i]).args,\n",
    "        log_diff_sigma_zeta_minus.subs(x,z0).args \n",
    "    ]).doit()\n",
    "    for _i in range(Nmodes)\n",
    "]"
   ]
  },
  {
   "cell_type": "code",
   "execution_count": null,
   "metadata": {},
   "outputs": [],
   "source": [
    "sigma_results_tests = [\n",
    "    (log_diff_zeta_eqns[_i].lhs.subs(*sigma_results_differentiated[_i].args) - log_diff_zeta_eqns[_i].rhs) == 0\n",
    "    for _i in range(Nmodes)\n",
    "]   \n",
    "sigma_results_tests"
   ]
  },
  {
   "cell_type": "code",
   "execution_count": null,
   "metadata": {},
   "outputs": [],
   "source": [
    "A_sigma_results = [\n",
    "    Eq(\n",
    "        Az[_i], \n",
    "        c[_i]*exp((I*rho[_i] - zw(xi[_i],g2,g3))*z)*sigma(xi[_i] + z - z0, g2, g3)/sigma(z - z0, g2, g3)\n",
    "    )\n",
    "    for _i in range(Nmodes)\n",
    "]"
   ]
  },
  {
   "cell_type": "code",
   "execution_count": null,
   "metadata": {},
   "outputs": [],
   "source": [
    "A_sigma_results_conj = [\n",
    "    Eq(U_pw_xi_eqs[_i].lhs/Az[_i], U_pw_xi_eqs[_i].rhs/Az[_i])\n",
    "    .subs([(Uz[_i],Az[_i]*Acz[_i])])\n",
    "    .subs(*sigma_p_identity.subs([(x,z-z0),(y,xi[_i])]).args)\n",
    "    .subs(*A_sigma_results[_i].args)\n",
    "    for _i in range(Nmodes)\n",
    "]"
   ]
  },
  {
   "cell_type": "code",
   "execution_count": null,
   "metadata": {},
   "outputs": [],
   "source": [
    "A_sigma_results[0]"
   ]
  },
  {
   "cell_type": "code",
   "execution_count": null,
   "metadata": {},
   "outputs": [],
   "source": [
    "A_sigma_results[1]"
   ]
  },
  {
   "cell_type": "code",
   "execution_count": null,
   "metadata": {},
   "outputs": [],
   "source": [
    "A_sigma_results[2]"
   ]
  },
  {
   "cell_type": "code",
   "execution_count": null,
   "metadata": {
    "scrolled": true
   },
   "outputs": [],
   "source": [
    "A_sigma_results[3]"
   ]
  },
  {
   "cell_type": "code",
   "execution_count": null,
   "metadata": {},
   "outputs": [],
   "source": [
    "A_sigma_results_conj[0]"
   ]
  },
  {
   "cell_type": "code",
   "execution_count": null,
   "metadata": {},
   "outputs": [],
   "source": [
    "A_sigma_results_conj[1]"
   ]
  },
  {
   "cell_type": "code",
   "execution_count": null,
   "metadata": {},
   "outputs": [],
   "source": [
    "A_sigma_results_conj[2]"
   ]
  },
  {
   "cell_type": "code",
   "execution_count": null,
   "metadata": {},
   "outputs": [],
   "source": [
    "A_sigma_results_conj[3]"
   ]
  },
  {
   "cell_type": "code",
   "execution_count": null,
   "metadata": {},
   "outputs": [],
   "source": [
    "hz_eq = Eq(h(z), Product(exp(z*(zw(xi[j],g2,g3) - I*rho[j]))/(c[j]*sigma(xi[j],g2,g3)),(j,0,Nmodes - 1)))\n",
    "hz_eq"
   ]
  },
  {
   "cell_type": "code",
   "execution_count": null,
   "metadata": {},
   "outputs": [],
   "source": [
    "c_prod_h = Eq(hz_eq.doit().simplify().lhs*Product(c[j],(j,0,Nmodes - 1)).doit()/h(z),\n",
    "                 hz_eq.doit().simplify().rhs*Product(c[j],(j,0,Nmodes - 1)).doit()/h(z)\n",
    "                )\n",
    "c_prod_h"
   ]
  },
  {
   "cell_type": "code",
   "execution_count": null,
   "metadata": {},
   "outputs": [],
   "source": [
    "delta_eqs = [Eq(delta[_i],zw(xi[_i],g2,g3) + I*d[_i] - I*rho[_i]) for _i in range(Nmodes)]"
   ]
  },
  {
   "cell_type": "code",
   "execution_count": null,
   "metadata": {},
   "outputs": [],
   "source": [
    "delta_eqs[0]"
   ]
  },
  {
   "cell_type": "code",
   "execution_count": null,
   "metadata": {},
   "outputs": [],
   "source": [
    "xis_plus_minus = [xi[_k] for _k in range(Nmodes)] + [-xi[_k] for _k in range(Nmodes)]\n",
    "f_diff_eqs_a = [\n",
    "    el_eq.subs([\n",
    "        eq.args for eq in A_sigma_results + A_sigma_results_conj\n",
    "    ]).subs([\n",
    "        (sigma(z - z0 + _xi, g2, g3), f(z,_xi)*sigma(z - z0, g2, g3)*sigma(_xi, g2, g3)) \n",
    "        for _xi in xis_plus_minus\n",
    "    ]).doit()\n",
    "    for el_eq in euler_lagrangian_eqs_ex1\n",
    "]\n",
    "f_diff_eqs_b = [\n",
    "    Eq(\n",
    "        diff(f(z, xis_plus_minus[_i]),z), \n",
    "        solve(f_diff_eqs_a[_i].lhs - f_diff_eqs_a[_i].rhs, diff(f(z, xis_plus_minus[_i]),z))[0]\n",
    "        .subs([\n",
    "            (sigma(-xi[_j], g2, g3), -sigma(xi[_j], g2, g3))  for _j in range(Nmodes)\n",
    "        ])\n",
    "        .simplify()\n",
    "        .expand()\n",
    "        .subs(*c_prod_h.args)\n",
    "        .collect(f(z, xis_plus_minus[_i]), simplify)\n",
    "        .subs([eq.args[::-1] for eq in delta_eqs])\n",
    "    )\n",
    "    for _i in range(2*Nmodes)\n",
    "]"
   ]
  },
  {
   "cell_type": "code",
   "execution_count": null,
   "metadata": {},
   "outputs": [],
   "source": [
    "f_diff_eqs_b[0]"
   ]
  },
  {
   "cell_type": "code",
   "execution_count": null,
   "metadata": {},
   "outputs": [],
   "source": [
    "f_diff_eqs_b[1]"
   ]
  },
  {
   "cell_type": "code",
   "execution_count": null,
   "metadata": {},
   "outputs": [],
   "source": [
    "f_diff_eqs_b[2]"
   ]
  },
  {
   "cell_type": "code",
   "execution_count": null,
   "metadata": {},
   "outputs": [],
   "source": [
    "f_diff_eqs_b[3]"
   ]
  },
  {
   "cell_type": "code",
   "execution_count": null,
   "metadata": {},
   "outputs": [],
   "source": [
    "f_diff_eqs_b[4]"
   ]
  },
  {
   "cell_type": "code",
   "execution_count": null,
   "metadata": {},
   "outputs": [],
   "source": [
    "f_diff_eqs_b[5]"
   ]
  },
  {
   "cell_type": "code",
   "execution_count": null,
   "metadata": {},
   "outputs": [],
   "source": [
    "f_diff_eqs_b[6]"
   ]
  },
  {
   "cell_type": "code",
   "execution_count": null,
   "metadata": {},
   "outputs": [],
   "source": [
    "f_diff_eqs_b[7]"
   ]
  },
  {
   "cell_type": "code",
   "execution_count": null,
   "metadata": {},
   "outputs": [],
   "source": [
    "Eq(\n",
    "    Derivative(f(z,xi[0])*f(z,-xi[0]),z), \n",
    "    diff(f(z,xi[0])*f(z,-xi[0]),z).subs([f_diff_eqs_b[0].args, f_diff_eqs_b[4].args]).expand()\n",
    ")"
   ]
  },
  {
   "cell_type": "code",
   "execution_count": null,
   "metadata": {},
   "outputs": [],
   "source": [
    "Eq(\n",
    "    Derivative(f(z,xi[0])/f(z,-xi[0]),z), \n",
    "    diff(f(z,xi[0])/f(z,-xi[0]),z).subs([f_diff_eqs_b[0].args, f_diff_eqs_b[4].args]).expand()\n",
    ")"
   ]
  },
  {
   "cell_type": "code",
   "execution_count": null,
   "metadata": {},
   "outputs": [],
   "source": []
  },
  {
   "cell_type": "code",
   "execution_count": null,
   "metadata": {},
   "outputs": [],
   "source": []
  },
  {
   "cell_type": "code",
   "execution_count": null,
   "metadata": {},
   "outputs": [],
   "source": []
  }
 ],
 "metadata": {
  "kernelspec": {
   "display_name": "Python 3 (ipykernel)",
   "language": "python",
   "name": "python3"
  },
  "language_info": {
   "codemirror_mode": {
    "name": "ipython",
    "version": 3
   },
   "file_extension": ".py",
   "mimetype": "text/x-python",
   "name": "python",
   "nbconvert_exporter": "python",
   "pygments_lexer": "ipython3",
   "version": "3.11.6"
  }
 },
 "nbformat": 4,
 "nbformat_minor": 4
}
