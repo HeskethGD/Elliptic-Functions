{
 "cells": [
  {
   "cell_type": "markdown",
   "id": "a025d763",
   "metadata": {},
   "source": [
    "# Fifth order Dixon functions as Kronecker theta functions derived from the Frobenius-Stickelberger determinant\n",
    "\n",
    "This notebook explores fith order Dixon functions. Their name references Dixon functions because the well known Dixon functions are second order fully degenerate Kronecker theta functions, where degeneracy means taking the limit where all modes become the same in the Frobenius-Stickelberger determinant formula for Weierstrass sigma functions. Their name references fith order because in this example they are dervied from the Frobenius-Stickelberger determinant formula involving a product of five modes. This is a very interesting case because it is the first order at which two different Hamiltonian systems can be built from the same functional identity (conservation law). If the Hamiltonian is expressed as a polynomial in the mode and its conjugate, as is typically done at lower orders, then, unlike at lower orders, at this order that will build a dynamic system solved by hyperelliptic functions of genus 2. However, it is still possible to build a Hamiltonian that is solved by elliptic functions of genus 1 (fully degenerate Kronecker theta functions) but the Hamiltonian is no longer a polynomial in the modes but rather a rational function of them."
   ]
  },
  {
   "cell_type": "code",
   "execution_count": 1,
   "id": "c969311f",
   "metadata": {},
   "outputs": [],
   "source": [
    "from sympy import *\n",
    "(x, y, X, Y, Z, B, C, n, m, l, j, N, M, K, k, z, s, p1, p2, p3, g2, g3, rho,\n",
    " z0, w1, w2, w3, e1, e2, e3, Delta, \n",
    " omega1, omega2, omega3, eta1, eta2, eta3, d1, d2, d3, t, t0) = symbols(\n",
    "    '''x, y, X, Y, Z, B, C, n, m, l, j, N, M, K, k, z, s, p1, p2, p3, g2, g3, rho,\n",
    "    z0, w1, w2, w3, e1, e2, e3, Delta, \n",
    "    omega1, omega2, omega3, eta1, eta2, eta3, d1, d2, d3, t, t0'''\n",
    ")\n",
    "alpha, delta, nu, theta, Delta = symbols('alpha, delta, nu, theta, Delta')\n",
    "q = Function('q')\n",
    "pw = Function('pw') # Weierstrass P function\n",
    "pwp = Function('pwp') # Derivative of Weierstrass P function\n",
    "zw = Function('zw') # Weierstrass Zeta function\n",
    "sigma = Function('sigma') # Weierstrass Sigma function\n",
    "rho = Function('rho')\n",
    "f = Function('f')\n",
    "h = Function('h')\n",
    "s = Function('s')\n",
    "u = Function('u')\n",
    "v = Function('v')\n",
    "r = Function('r')\n",
    "chi = Function('chi')\n",
    "P = Function('P') # Polynomial\n",
    "Q = Function('Q') # Polynomial\n",
    "R = Function('R') # Polynomial\n",
    "T = Function('T') # Polynomial\n",
    "phi = Function('phi')\n",
    "Phi = Function('Phi')\n",
    "A = IndexedBase('A')\n",
    "Det = Function(\"Det\")\n",
    "\n",
    "t0 = Symbol('t0')\n",
    "\n",
    "kappa = IndexedBase('kappa')\n",
    "beta = IndexedBase('beta')\n",
    "mu = IndexedBase('mu')\n",
    "xi = IndexedBase('xi')\n",
    "a = IndexedBase('a')\n",
    "b = IndexedBase('b')\n",
    "c = IndexedBase('c')\n",
    "d = IndexedBase('d')\n",
    "p = IndexedBase('p')\n",
    "G = IndexedBase('G')\n",
    "psi = IndexedBase('psi')\n",
    "upsilon = IndexedBase('upsilon')\n",
    "epsilon = IndexedBase('epsilon')\n",
    "WPdet = Function('WPdet')\n",
    "U = Function('U')\n",
    "V = Function('V')\n",
    "W = Function('W')\n",
    "F = Function('F')\n",
    "\n",
    "wild = Wild('*')\n",
    "\n",
    "from IPython.core.interactiveshell import InteractiveShell\n",
    "InteractiveShell.ast_node_interactivity = 'all'\n",
    "\n",
    "# kth order derivatives of Weierstrass P\n",
    "from wpk import wpk, wzk, wsk, run_tests\n",
    "\n",
    "# The package containing mpmath expressions for Weierstrass elliptic functions\n",
    "from numerical_evaluation.weierstrass_modified import Weierstrass\n",
    "we = Weierstrass()\n",
    "from mpmath import exp as mpexp\n",
    "\n",
    "# Nuemric solutions to diff eqs\n",
    "from numpy import linspace, absolute, angle, square, real, imag, conj, array as arraynp, concatenate\n",
    "from numpy import vectorize as np_vectorize # not to get confused with vectorise in other packages\n",
    "import scipy.integrate\n",
    "import matplotlib.pyplot as plt\n",
    "from random import random\n",
    "\n",
    "%load_ext autoreload\n",
    "%autoreload 2"
   ]
  },
  {
   "cell_type": "code",
   "execution_count": 2,
   "id": "6337b681",
   "metadata": {},
   "outputs": [
    {
     "name": "stdout",
     "output_type": "stream",
     "text": [
      "True\n",
      "True\n",
      "True\n",
      "True\n",
      "True\n",
      "True\n",
      "True\n",
      "True\n",
      "True\n"
     ]
    }
   ],
   "source": [
    "run_tests()"
   ]
  },
  {
   "cell_type": "markdown",
   "id": "5735b4d3",
   "metadata": {},
   "source": [
    "## Weierstrass elliptic function identities"
   ]
  },
  {
   "cell_type": "code",
   "execution_count": 64,
   "id": "051f8c1d",
   "metadata": {
    "scrolled": false
   },
   "outputs": [
    {
     "data": {
      "text/latex": [
       "$\\displaystyle \\operatorname{pwp}^{2}{\\left(z,g_{2},g_{3} \\right)} = - g_{2} \\operatorname{pw}{\\left(z,g_{2},g_{3} \\right)} - g_{3} + 4 \\operatorname{pw}^{3}{\\left(z,g_{2},g_{3} \\right)}$"
      ],
      "text/plain": [
       "Eq(pwp(z, g2, g3)**2, -g2*pw(z, g2, g3) - g3 + 4*pw(z, g2, g3)**3)"
      ]
     },
     "execution_count": 64,
     "metadata": {},
     "output_type": "execute_result"
    },
    {
     "data": {
      "text/latex": [
       "$\\displaystyle \\operatorname{pw}{\\left(x + y,g_{2},g_{3} \\right)} = - \\operatorname{pw}{\\left(x,g_{2},g_{3} \\right)} - \\operatorname{pw}{\\left(y,g_{2},g_{3} \\right)} + \\frac{\\left(\\operatorname{pwp}{\\left(x,g_{2},g_{3} \\right)} - \\operatorname{pwp}{\\left(y,g_{2},g_{3} \\right)}\\right)^{2}}{4 \\left(\\operatorname{pw}{\\left(x,g_{2},g_{3} \\right)} - \\operatorname{pw}{\\left(y,g_{2},g_{3} \\right)}\\right)^{2}}$"
      ],
      "text/plain": [
       "Eq(pw(x + y, g2, g3), -pw(x, g2, g3) - pw(y, g2, g3) + (pwp(x, g2, g3) - pwp(y, g2, g3))**2/(4*(pw(x, g2, g3) - pw(y, g2, g3))**2))"
      ]
     },
     "execution_count": 64,
     "metadata": {},
     "output_type": "execute_result"
    },
    {
     "data": {
      "text/latex": [
       "$\\displaystyle \\operatorname{pw}{\\left(2 z,g_{2},g_{3} \\right)} = - 2 \\operatorname{pw}{\\left(z,g_{2},g_{3} \\right)} + \\frac{\\left(\\frac{\\partial^{2}}{\\partial z^{2}} \\operatorname{pw}{\\left(z,g_{2},g_{3} \\right)}\\right)^{2}}{4 \\left(\\frac{\\partial}{\\partial z} \\operatorname{pw}{\\left(z,g_{2},g_{3} \\right)}\\right)^{2}}$"
      ],
      "text/plain": [
       "Eq(pw(2*z, g2, g3), -2*pw(z, g2, g3) + Derivative(pw(z, g2, g3), (z, 2))**2/(4*Derivative(pw(z, g2, g3), z)**2))"
      ]
     },
     "execution_count": 64,
     "metadata": {},
     "output_type": "execute_result"
    },
    {
     "data": {
      "text/latex": [
       "$\\displaystyle \\operatorname{pw}{\\left(2 z,g_{2},g_{3} \\right)} = \\frac{\\left(- \\frac{g_{2}}{2} + 6 \\operatorname{pw}^{2}{\\left(z,g_{2},g_{3} \\right)}\\right)^{2}}{4 \\operatorname{pwp}^{2}{\\left(z,g_{2},g_{3} \\right)}} - 2 \\operatorname{pw}{\\left(z,g_{2},g_{3} \\right)}$"
      ],
      "text/plain": [
       "Eq(pw(2*z, g2, g3), (-g2/2 + 6*pw(z, g2, g3)**2)**2/(4*pwp(z, g2, g3)**2) - 2*pw(z, g2, g3))"
      ]
     },
     "execution_count": 64,
     "metadata": {},
     "output_type": "execute_result"
    },
    {
     "data": {
      "text/latex": [
       "$\\displaystyle \\operatorname{pw}{\\left(2 z,g_{2},g_{3} \\right)} = \\frac{\\left(- \\frac{g_{2}}{2} + 6 \\operatorname{pw}^{2}{\\left(z,g_{2},g_{3} \\right)}\\right)^{2}}{4 \\left(- g_{2} \\operatorname{pw}{\\left(z,g_{2},g_{3} \\right)} - g_{3} + 4 \\operatorname{pw}^{3}{\\left(z,g_{2},g_{3} \\right)}\\right)} - 2 \\operatorname{pw}{\\left(z,g_{2},g_{3} \\right)}$"
      ],
      "text/plain": [
       "Eq(pw(2*z, g2, g3), (-g2/2 + 6*pw(z, g2, g3)**2)**2/(4*(-g2*pw(z, g2, g3) - g3 + 4*pw(z, g2, g3)**3)) - 2*pw(z, g2, g3))"
      ]
     },
     "execution_count": 64,
     "metadata": {},
     "output_type": "execute_result"
    },
    {
     "data": {
      "text/latex": [
       "$\\displaystyle - \\operatorname{pw}{\\left(x,g_{2},g_{3} \\right)} + \\operatorname{pw}{\\left(y,g_{2},g_{3} \\right)} = \\frac{\\sigma{\\left(x - y,g_{2},g_{3} \\right)} \\sigma{\\left(x + y,g_{2},g_{3} \\right)}}{\\sigma^{2}{\\left(x,g_{2},g_{3} \\right)} \\sigma^{2}{\\left(y,g_{2},g_{3} \\right)}}$"
      ],
      "text/plain": [
       "Eq(-pw(x, g2, g3) + pw(y, g2, g3), sigma(x - y, g2, g3)*sigma(x + y, g2, g3)/(sigma(x, g2, g3)**2*sigma(y, g2, g3)**2))"
      ]
     },
     "execution_count": 64,
     "metadata": {},
     "output_type": "execute_result"
    },
    {
     "data": {
      "text/latex": [
       "$\\displaystyle \\frac{\\operatorname{pwp}{\\left(x,g_{2},g_{3} \\right)} - \\operatorname{pwp}{\\left(y,g_{2},g_{3} \\right)}}{2 \\left(\\operatorname{pw}{\\left(x,g_{2},g_{3} \\right)} - \\operatorname{pw}{\\left(y,g_{2},g_{3} \\right)}\\right)} = - \\operatorname{zw}{\\left(x,g_{2},g_{3} \\right)} - \\operatorname{zw}{\\left(y,g_{2},g_{3} \\right)} + \\operatorname{zw}{\\left(x + y,g_{2},g_{3} \\right)}$"
      ],
      "text/plain": [
       "Eq((pwp(x, g2, g3) - pwp(y, g2, g3))/(2*(pw(x, g2, g3) - pw(y, g2, g3))), -zw(x, g2, g3) - zw(y, g2, g3) + zw(x + y, g2, g3))"
      ]
     },
     "execution_count": 64,
     "metadata": {},
     "output_type": "execute_result"
    },
    {
     "data": {
      "text/latex": [
       "$\\displaystyle \\operatorname{zw}{\\left(2 z,g_{2},g_{3} \\right)} = \\frac{- \\frac{g_{2}}{2} + 6 \\operatorname{pw}^{2}{\\left(z,g_{2},g_{3} \\right)}}{2 \\operatorname{pwp}{\\left(z,g_{2},g_{3} \\right)}} + 2 \\operatorname{zw}{\\left(z,g_{2},g_{3} \\right)}$"
      ],
      "text/plain": [
       "Eq(zw(2*z, g2, g3), (-g2/2 + 6*pw(z, g2, g3)**2)/(2*pwp(z, g2, g3)) + 2*zw(z, g2, g3))"
      ]
     },
     "execution_count": 64,
     "metadata": {},
     "output_type": "execute_result"
    },
    {
     "data": {
      "text/latex": [
       "$\\displaystyle \\operatorname{pwp}{\\left(z,g_{2},g_{3} \\right)} = - \\frac{\\sigma{\\left(2 z,g_{2},g_{3} \\right)}}{\\sigma^{4}{\\left(z,g_{2},g_{3} \\right)}}$"
      ],
      "text/plain": [
       "Eq(pwp(z, g2, g3), -sigma(2*z, g2, g3)/sigma(z, g2, g3)**4)"
      ]
     },
     "execution_count": 64,
     "metadata": {},
     "output_type": "execute_result"
    },
    {
     "data": {
      "text/latex": [
       "$\\displaystyle \\frac{\\partial}{\\partial z} \\operatorname{zw}{\\left(z,g_{2},g_{3} \\right)} = - \\operatorname{pw}{\\left(z,g_{2},g_{3} \\right)}$"
      ],
      "text/plain": [
       "Eq(Derivative(zw(z, g2, g3), z), -pw(z, g2, g3))"
      ]
     },
     "execution_count": 64,
     "metadata": {},
     "output_type": "execute_result"
    },
    {
     "data": {
      "text/latex": [
       "$\\displaystyle \\frac{\\partial}{\\partial z} \\log{\\left(\\sigma{\\left(z,g_{2},g_{3} \\right)} \\right)} = \\operatorname{zw}{\\left(z,g_{2},g_{3} \\right)}$"
      ],
      "text/plain": [
       "Eq(Derivative(log(sigma(z, g2, g3)), z), zw(z, g2, g3))"
      ]
     },
     "execution_count": 64,
     "metadata": {},
     "output_type": "execute_result"
    },
    {
     "data": {
      "text/latex": [
       "$\\displaystyle \\frac{\\partial}{\\partial z} \\sigma{\\left(z,g_{2},g_{3} \\right)} = \\sigma{\\left(z,g_{2},g_{3} \\right)} \\operatorname{zw}{\\left(z,g_{2},g_{3} \\right)}$"
      ],
      "text/plain": [
       "Eq(Derivative(sigma(z, g2, g3), z), sigma(z, g2, g3)*zw(z, g2, g3))"
      ]
     },
     "execution_count": 64,
     "metadata": {},
     "output_type": "execute_result"
    },
    {
     "data": {
      "text/latex": [
       "$\\displaystyle \\frac{\\partial^{2}}{\\partial z^{2}} \\sigma{\\left(z,g_{2},g_{3} \\right)} = - \\operatorname{pw}{\\left(z,g_{2},g_{3} \\right)} \\sigma{\\left(z,g_{2},g_{3} \\right)} + \\sigma{\\left(z,g_{2},g_{3} \\right)} \\operatorname{zw}^{2}{\\left(z,g_{2},g_{3} \\right)}$"
      ],
      "text/plain": [
       "Eq(Derivative(sigma(z, g2, g3), (z, 2)), -pw(z, g2, g3)*sigma(z, g2, g3) + sigma(z, g2, g3)*zw(z, g2, g3)**2)"
      ]
     },
     "execution_count": 64,
     "metadata": {},
     "output_type": "execute_result"
    },
    {
     "data": {
      "text/latex": [
       "$\\displaystyle \\lim_{z \\to 0^+} \\frac{\\partial^{j}}{\\partial z^{j}} \\operatorname{pw}{\\left(z,g_{2},g_{3} \\right)} = \\left(-1\\right)^{j} z^{- j - 2} \\left(j + 1\\right)! - \\left(-1\\right)^{j} \\left(\\frac{\\left(-1\\right)^{j}}{2} + \\frac{1}{2}\\right) {\\left(- j - 1\\right)}^{\\left(j + 1\\right)} {G}_{j + 2}$"
      ],
      "text/plain": [
       "Eq(Limit(Derivative(pw(z, g2, g3), (z, j)), z, 0, dir='+'), (-1)**j*z**(-j - 2)*factorial(j + 1) - (-1)**j*((-1)**j/2 + 1/2)*RisingFactorial(-j - 1, j + 1)*G[j + 2])"
      ]
     },
     "execution_count": 64,
     "metadata": {},
     "output_type": "execute_result"
    },
    {
     "data": {
      "text/latex": [
       "$\\displaystyle \\operatorname{pw}{\\left(z,g_{2},g_{3} \\right)} = \\sum_{n=1}^{\\infty} z^{2 n} \\left(2 n + 1\\right) {G}_{2 n + 2} + \\frac{1}{z^{2}}$"
      ],
      "text/plain": [
       "Eq(pw(z, g2, g3), Sum(z**(2*n)*(2*n + 1)*G[2*n + 2], (n, 1, oo)) + z**(-2))"
      ]
     },
     "execution_count": 64,
     "metadata": {},
     "output_type": "execute_result"
    },
    {
     "data": {
      "text/latex": [
       "$\\displaystyle \\frac{1}{\\sigma{\\left(z,g_{2},g_{3} \\right)}} = \\frac{1}{z} + \\frac{6 g_{3} z^{5}}{7} + \\frac{g_{2} z^{3}}{10} + O\\left(z^{7}\\right)$"
      ],
      "text/plain": [
       "Eq(1/sigma(z, g2, g3), 1/z + 6*g3*z**5/7 + g2*z**3/10 + O(z**7))"
      ]
     },
     "execution_count": 64,
     "metadata": {},
     "output_type": "execute_result"
    },
    {
     "data": {
      "text/latex": [
       "$\\displaystyle \\sigma{\\left(z,g_{2},g_{3} \\right)} = \\frac{85860 g_{2}^{2} g_{3}^{2} z^{21}}{7} + \\frac{171 g_{2}^{2} g_{3} z^{15}}{10} - \\frac{g_{2}^{2} z^{9}}{4} + \\frac{9936 g_{2} g_{3}^{2} z^{17}}{17} - \\frac{18 g_{2} g_{3} z^{11}}{11} - \\frac{g_{2} z^{5}}{10} - \\frac{216 g_{3}^{2} z^{13}}{13} - \\frac{6 g_{3} z^{7}}{7} + z$"
      ],
      "text/plain": [
       "Eq(sigma(z, g2, g3), 85860*g2**2*g3**2*z**21/7 + 171*g2**2*g3*z**15/10 - g2**2*z**9/4 + 9936*g2*g3**2*z**17/17 - 18*g2*g3*z**11/11 - g2*z**5/10 - 216*g3**2*z**13/13 - 6*g3*z**7/7 + z)"
      ]
     },
     "execution_count": 64,
     "metadata": {},
     "output_type": "execute_result"
    },
    {
     "data": {
      "text/latex": [
       "$\\displaystyle \\sigma{\\left(2 m \\omega_{3} + 2 n \\omega_{1} + z,g_{2},g_{3} \\right)} = \\left(-1\\right)^{m n + m + n} \\sigma{\\left(z,g_{2},g_{3} \\right)} e^{2 \\eta_{1} m n \\omega_{3} + 2 \\eta_{1} n^{2} \\omega_{1} + 2 \\eta_{1} n z + 2 \\eta_{3} m^{2} \\omega_{3} + 2 \\eta_{3} m n \\omega_{1} + 2 \\eta_{3} m z}$"
      ],
      "text/plain": [
       "Eq(sigma(2*m*omega3 + 2*n*omega1 + z, g2, g3), (-1)**(m*n + m + n)*sigma(z, g2, g3)*exp(2*eta1*m*n*omega3 + 2*eta1*n**2*omega1 + 2*eta1*n*z + 2*eta3*m**2*omega3 + 2*eta3*m*n*omega1 + 2*eta3*m*z))"
      ]
     },
     "execution_count": 64,
     "metadata": {},
     "output_type": "execute_result"
    },
    {
     "data": {
      "text/latex": [
       "$\\displaystyle \\operatorname{zw}{\\left(2 m \\omega_{3} + 2 n \\omega_{1} + z,g_{2},g_{3} \\right)} = 2 \\eta_{1} n + 2 \\eta_{3} m + \\operatorname{zw}{\\left(z,g_{2},g_{3} \\right)}$"
      ],
      "text/plain": [
       "Eq(zw(2*m*omega3 + 2*n*omega1 + z, g2, g3), 2*eta1*n + 2*eta3*m + zw(z, g2, g3))"
      ]
     },
     "execution_count": 64,
     "metadata": {},
     "output_type": "execute_result"
    },
    {
     "data": {
      "text/latex": [
       "$\\displaystyle \\operatorname{zw}{\\left(\\omega_{1},g_{2},g_{3} \\right)} + \\operatorname{zw}{\\left(\\omega_{3},g_{2},g_{3} \\right)} - \\operatorname{zw}{\\left(\\omega_{1} + \\omega_{3},g_{2},g_{3} \\right)} = 0$"
      ],
      "text/plain": [
       "Eq(zw(omega1, g2, g3) + zw(omega3, g2, g3) - zw(omega1 + omega3, g2, g3), 0)"
      ]
     },
     "execution_count": 64,
     "metadata": {},
     "output_type": "execute_result"
    },
    {
     "data": {
      "text/latex": [
       "$\\displaystyle \\omega_{1} \\operatorname{zw}{\\left(\\omega_{3},g_{2},g_{3} \\right)} - \\omega_{3} \\operatorname{zw}{\\left(\\omega_{1},g_{2},g_{3} \\right)} = \\frac{i \\pi}{2}$"
      ],
      "text/plain": [
       "Eq(omega1*zw(omega3, g2, g3) - omega3*zw(omega1, g2, g3), I*pi/2)"
      ]
     },
     "execution_count": 64,
     "metadata": {},
     "output_type": "execute_result"
    },
    {
     "data": {
      "text/latex": [
       "$\\displaystyle f{\\left(x + a \\right)} = \\sum_{n=0}^{N} \\frac{x^{n} \\left. \\frac{d^{n}}{d x^{n}} f{\\left(x \\right)} \\right|_{\\substack{ x=a }}}{n!}$"
      ],
      "text/plain": [
       "Eq(f(x + a), Sum(x**n*Subs(Derivative(f(x), (x, n)), x, a)/factorial(n), (n, 0, N)))"
      ]
     },
     "execution_count": 64,
     "metadata": {},
     "output_type": "execute_result"
    }
   ],
   "source": [
    "pwp_sqrd = Eq(pwp(z,g2,g3)**2, 4*pw(z,g2,g3)**3 - g2*pw(z,g2,g3) - g3)\n",
    "\n",
    "pw_xy_addition = Eq(pw(x+y,g2,g3), \n",
    "   ((pwp(x, g2, g3) - pwp(y, g2, g3))**2/(pw(x, g2, g3) - pw(y, g2, g3))**2)/4 - pw(x, g2, g3) - pw(y, g2, g3)\n",
    ")\n",
    "p_duplication_a = Eq(pw(2*z,g2,g3), -2*pw(z,g2,g3) + ((diff(pw(z,g2,g3),z,2)/diff(pw(z,g2,g3),z,1))**2)/4)\n",
    "p_duplication_b = Eq(pw(2*z, g2, g3), (-g2/2 + 6*pw(z, g2, g3)**2)**2/(4*pwp(z, g2, g3)**2) - 2*pw(z, g2, g3))\n",
    "p_duplication_c = p_duplication_b.subs(pwp(z,g2,g3)**2, 4*pw(z,g2,g3)**3 - g2*pw(z,g2,g3) - g3)\n",
    "\n",
    "sigma_p_identity = Eq(\n",
    "    pw(y, g2, g3) - pw(x, g2, g3),\n",
    "    sigma(x + y, g2, g3) * sigma(x - y, g2, g3) / (sigma(x, g2, g3) ** 2 * sigma(y, g2, g3) ** 2) \n",
    ")\n",
    "\n",
    "pw_to_zw_identity = Eq(\n",
    "    (pwp(x,g2,g3) - pwp(y,g2,g3))/(pw(x,g2,g3) - pw(y,g2,g3))/2,\n",
    "    zw(x + y,g2, g3) - zw(x,g2, g3) - zw(y,g2, g3)\n",
    ")\n",
    "\n",
    "# 23.10.9 https://dlmf.nist.gov/23.10#E9\n",
    "zw2z_2zwz = Eq(zw(2*z,g2,g3), 2*zw(z,g2,g3) + diff(zw(z,g2,g3),z,3)/diff(zw(z,g2,g3),z,2)/2)\n",
    "dzw_2 = Eq(diff(zw(z,g2,g3),z,2), -pwp(z,g2,g3))\n",
    "dzw_3 = Eq(diff(zw(z,g2,g3),z,3), -diff(pwp(z,g2,g3),z))\n",
    "pwp_def = Eq(pwp(z,g2,g3)**2, 4*pw(z,g2,g3)**3 - g2*pw(z,g2,g3) - g3)\n",
    "pwp2_def = Eq(diff(pwp_def.lhs,z)/pwp(z,g2,g3)/2, \n",
    "              diff(pwp_def.rhs,z).subs(diff(pw(z,g2,g3),z),pwp(z,g2,g3))/pwp(z,g2,g3)/2).expand()\n",
    "zw2z_2zwz_pw_pwp = zw2z_2zwz.subs([dzw_3.args, dzw_2.args]).subs(*pwp2_def.args)\n",
    "\n",
    "pwp_sigma_dbl_ratio = Eq(pwp(z,g2,g3), - sigma(2*z,g2,g3)/sigma(z,g2,g3)**4)\n",
    "d_zw_pw = Eq(diff(zw(z,g2,g3),z), -pw(z,g2,g3))\n",
    "d_log_sigma_zw = Eq(Derivative(ln(sigma(z,g2,g3)),z), zw(z,g2,g3))\n",
    "d_sigma_zw = Eq(diff(sigma(z,g2,g3),z), solve(d_log_sigma_zw.doit(), diff(sigma(z,g2,g3),z))[0])\n",
    "d_sigma_zw_2 = Eq(diff(d_sigma_zw.lhs,z), diff(d_sigma_zw.rhs,z).subs([d_sigma_zw.args, d_zw_pw.args]))\n",
    "pw_diff_at_zero = Eq(Limit(Derivative(pw(z, g2, g3), (z, j)), z, 0, dir='+'),\n",
    " (-1)**j*z**(-j - 2)*factorial(j + 1) - \n",
    "                     (-1)**j*((-1)**j/2 + Rational(1,2))*RisingFactorial(-j - 1, j + 1)*G[j + 2])\n",
    "\n",
    "\n",
    "expansion_z_wp = Eq(pw(z,g2,g3), 1/z**2 + Sum((2*n+1)*G[2*n+2]*z**(2*n),(n,1,oo)))\n",
    "one_over_sigma_z_big_o = Eq(1/sigma(z,g2,g3), (1/z*(1 - (- g2*z**4/10 - 6*g3/7*z**6 + O(z**8)))).expand())\n",
    "sigma_expansion_g_2_3 = Eq(sigma(z, g2, g3),\n",
    "    85860*g2**2*g3**2*z**21/7 + 171*g2**2*g3*z**15/10 - g2**2*z**9/4 + \n",
    "    9936*g2*g3**2*z**17/17 - 18*g2*g3*z**11/11 - g2*z**5/10 - \n",
    "    216*g3**2*z**13/13 - 6*g3*z**7/7 + z\n",
    ")\n",
    "\n",
    "quasi_period = Eq(sigma(2*m*omega3 + 2*n*omega1 + z, g2, g3),\n",
    " (-1)**(m*n + m + n)*sigma(z, g2, g3)*\n",
    "                  exp(2*eta1*m*n*omega3 + 2*eta1*n**2*omega1 + 2*eta1*n*z + \n",
    "                      2*eta3*m**2*omega3 + 2*eta3*m*n*omega1 + 2*eta3*m*z)\n",
    "                 )\n",
    "\n",
    "quasi_period_zw = Eq(zw(2*m*omega3 + 2*n*omega1 + z, g2, g3), 2*eta1*n + 2*eta3*m + zw(z, g2, g3))\n",
    "quasi_period_zw_b = Eq(zw(2*m*omega3 + 2*n*omega1 + z, g2, g3), \n",
    "                       2*zw(omega1, g2, g3)*n + 2*zw(omega3, g2, g3)*m + zw(z, g2, g3))\n",
    "zw_omega_sum_0 = Eq(zw(omega1,g2,g3) + zw(omega3,g2,g3) - zw(omega1 + omega3,g2,g3),0)\n",
    "zw_1_2_i_pi_omega = Eq(omega1*zw(omega3,g2,g3) - omega3*zw(omega1,g2,g3),I*pi/2)\n",
    "\n",
    "taylor_series = Eq(f(x), Sum(Derivative(f(x),(x,n)).subs(x,a)/factorial(n) * (x - a)**n, (n,0,N)))\n",
    "taylor_series_b = taylor_series.subs(x,x+a)\n",
    "\n",
    "\n",
    "\n",
    "\n",
    "pwp_sqrd\n",
    "pw_xy_addition\n",
    "p_duplication_a\n",
    "p_duplication_b\n",
    "p_duplication_c\n",
    "sigma_p_identity\n",
    "pw_to_zw_identity\n",
    "zw2z_2zwz_pw_pwp\n",
    "pwp_sigma_dbl_ratio\n",
    "d_zw_pw\n",
    "d_log_sigma_zw\n",
    "d_sigma_zw\n",
    "d_sigma_zw_2\n",
    "\n",
    "pw_diff_at_zero\n",
    "expansion_z_wp\n",
    "one_over_sigma_z_big_o\n",
    "sigma_expansion_g_2_3\n",
    "quasi_period\n",
    "quasi_period_zw\n",
    "zw_omega_sum_0\n",
    "zw_1_2_i_pi_omega\n",
    "\n",
    "taylor_series_b"
   ]
  },
  {
   "cell_type": "code",
   "execution_count": 4,
   "id": "23bee6ee",
   "metadata": {},
   "outputs": [],
   "source": [
    "def sigma_taylor_series(_N: int, _x):\n",
    "    \"\"\"\n",
    "    Derives the Nth order Taylor series expansion of the Weiertrass sigma function about point x\n",
    "    \"\"\"\n",
    "    if not a:\n",
    "        print('The point x cannot be zero yet...')\n",
    "        raise\n",
    "    # Taylor series definition\n",
    "    sigma_taylor = Eq(sigma(z + _x,g2,g3), \n",
    "                      Sum(z**n*Subs(diff(sigma(z,g2,g3), (z, n)), z, _x)/factorial(n), (n, 0, _N)).doit())\n",
    "    # Substitute diffs of Weierstrass sigma for Weierstrass P, P Prime, and zeta\n",
    "    for _n in range(1, _N + 1):\n",
    "        sigma_taylor = sigma_taylor.replace(diff(sigma(wild,g2,g3),(wild,_n)), wsk(_n).rhs.subs(z, _x)).doit()\n",
    "    # Collect and simplify\n",
    "    return Eq(sigma_taylor.lhs, sigma_taylor.rhs.expand().collect(z,factor))"
   ]
  },
  {
   "cell_type": "code",
   "execution_count": 5,
   "id": "c07991e5",
   "metadata": {},
   "outputs": [
    {
     "data": {
      "text/latex": [
       "$\\displaystyle \\sigma{\\left(x + z,g_{2},g_{3} \\right)} = - \\frac{z^{3} \\cdot \\left(3 \\operatorname{pw}{\\left(x,g_{2},g_{3} \\right)} \\operatorname{zw}{\\left(x,g_{2},g_{3} \\right)} + \\operatorname{pwp}{\\left(x,g_{2},g_{3} \\right)} - \\operatorname{zw}^{3}{\\left(x,g_{2},g_{3} \\right)}\\right) \\sigma{\\left(x,g_{2},g_{3} \\right)}}{6} - \\frac{z^{2} \\left(\\operatorname{pw}{\\left(x,g_{2},g_{3} \\right)} - \\operatorname{zw}^{2}{\\left(x,g_{2},g_{3} \\right)}\\right) \\sigma{\\left(x,g_{2},g_{3} \\right)}}{2} + z \\sigma{\\left(x,g_{2},g_{3} \\right)} \\operatorname{zw}{\\left(x,g_{2},g_{3} \\right)} + \\sigma{\\left(x,g_{2},g_{3} \\right)}$"
      ],
      "text/plain": [
       "Eq(sigma(x + z, g2, g3), -z**3*(3*pw(x, g2, g3)*zw(x, g2, g3) + pwp(x, g2, g3) - zw(x, g2, g3)**3)*sigma(x, g2, g3)/6 - z**2*(pw(x, g2, g3) - zw(x, g2, g3)**2)*sigma(x, g2, g3)/2 + z*sigma(x, g2, g3)*zw(x, g2, g3) + sigma(x, g2, g3))"
      ]
     },
     "execution_count": 5,
     "metadata": {},
     "output_type": "execute_result"
    }
   ],
   "source": [
    "sigma_taylor_series(3, x)"
   ]
  },
  {
   "cell_type": "code",
   "execution_count": 6,
   "id": "353e9706",
   "metadata": {},
   "outputs": [
    {
     "data": {
      "text/latex": [
       "$\\displaystyle \\frac{\\operatorname{pwp}{\\left(x,g_{2},g_{3} \\right)} - \\operatorname{pwp}{\\left(y,g_{2},g_{3} \\right)}}{2 \\left(\\operatorname{pw}{\\left(x,g_{2},g_{3} \\right)} - \\operatorname{pw}{\\left(y,g_{2},g_{3} \\right)}\\right)} = - \\operatorname{zw}{\\left(x,g_{2},g_{3} \\right)} - \\operatorname{zw}{\\left(y,g_{2},g_{3} \\right)} + \\operatorname{zw}{\\left(x + y,g_{2},g_{3} \\right)}$"
      ],
      "text/plain": [
       "Eq((pwp(x, g2, g3) - pwp(y, g2, g3))/(2*(pw(x, g2, g3) - pw(y, g2, g3))), -zw(x, g2, g3) - zw(y, g2, g3) + zw(x + y, g2, g3))"
      ]
     },
     "execution_count": 6,
     "metadata": {},
     "output_type": "execute_result"
    },
    {
     "data": {
      "text/latex": [
       "$\\displaystyle \\frac{\\partial}{\\partial y} \\log{\\left(\\frac{\\sigma{\\left(x + y,g_{2},g_{3} \\right)}}{\\sigma{\\left(y,g_{2},g_{3} \\right)}} \\right)} = - \\operatorname{zw}{\\left(y,g_{2},g_{3} \\right)} + \\operatorname{zw}{\\left(x + y,g_{2},g_{3} \\right)}$"
      ],
      "text/plain": [
       "Eq(Derivative(log(sigma(x + y, g2, g3)/sigma(y, g2, g3)), y), -zw(y, g2, g3) + zw(x + y, g2, g3))"
      ]
     },
     "execution_count": 6,
     "metadata": {},
     "output_type": "execute_result"
    },
    {
     "data": {
      "text/latex": [
       "$\\displaystyle \\frac{\\partial}{\\partial y} \\log{\\left(\\frac{\\sigma{\\left(x + y,g_{2},g_{3} \\right)} e^{- y \\operatorname{zw}{\\left(x,g_{2},g_{3} \\right)}}}{\\sigma{\\left(y,g_{2},g_{3} \\right)}} \\right)} = - \\operatorname{zw}{\\left(x,g_{2},g_{3} \\right)} - \\operatorname{zw}{\\left(y,g_{2},g_{3} \\right)} + \\operatorname{zw}{\\left(x + y,g_{2},g_{3} \\right)}$"
      ],
      "text/plain": [
       "Eq(Derivative(log(sigma(x + y, g2, g3)*exp(-y*zw(x, g2, g3))/sigma(y, g2, g3)), y), -zw(x, g2, g3) - zw(y, g2, g3) + zw(x + y, g2, g3))"
      ]
     },
     "execution_count": 6,
     "metadata": {},
     "output_type": "execute_result"
    },
    {
     "data": {
      "text/latex": [
       "$\\displaystyle \\frac{\\operatorname{pwp}{\\left(x,g_{2},g_{3} \\right)}}{\\operatorname{pw}{\\left(x,g_{2},g_{3} \\right)} - \\operatorname{pw}{\\left(y,g_{2},g_{3} \\right)}} = 2 \\frac{\\partial}{\\partial y} \\log{\\left(\\frac{\\sigma{\\left(x + y,g_{2},g_{3} \\right)} e^{- y \\operatorname{zw}{\\left(x,g_{2},g_{3} \\right)}}}{\\sigma{\\left(y,g_{2},g_{3} \\right)}} \\right)} - \\frac{\\partial}{\\partial y} \\log{\\left(\\operatorname{pw}{\\left(x,g_{2},g_{3} \\right)} - \\operatorname{pw}{\\left(y,g_{2},g_{3} \\right)} \\right)}$"
      ],
      "text/plain": [
       "Eq(pwp(x, g2, g3)/(pw(x, g2, g3) - pw(y, g2, g3)), 2*Derivative(log(sigma(x + y, g2, g3)*exp(-y*zw(x, g2, g3))/sigma(y, g2, g3)), y) - Derivative(log(pw(x, g2, g3) - pw(y, g2, g3)), y))"
      ]
     },
     "execution_count": 6,
     "metadata": {},
     "output_type": "execute_result"
    },
    {
     "data": {
      "text/latex": [
       "$\\displaystyle \\frac{\\operatorname{pwp}{\\left(x,g_{2},g_{3} \\right)}}{\\operatorname{pw}{\\left(x,g_{2},g_{3} \\right)} - \\operatorname{pw}{\\left(y,g_{2},g_{3} \\right)}} = - \\frac{\\partial}{\\partial y} \\log{\\left(\\frac{\\sigma{\\left(- x + y,g_{2},g_{3} \\right)} e^{y \\operatorname{zw}{\\left(x,g_{2},g_{3} \\right)}}}{\\sigma{\\left(x,g_{2},g_{3} \\right)} \\sigma{\\left(y,g_{2},g_{3} \\right)}} \\right)} + \\frac{\\partial}{\\partial y} \\log{\\left(\\frac{\\sigma{\\left(x + y,g_{2},g_{3} \\right)} e^{- y \\operatorname{zw}{\\left(x,g_{2},g_{3} \\right)}}}{\\sigma{\\left(x,g_{2},g_{3} \\right)} \\sigma{\\left(y,g_{2},g_{3} \\right)}} \\right)}$"
      ],
      "text/plain": [
       "Eq(pwp(x, g2, g3)/(pw(x, g2, g3) - pw(y, g2, g3)), -Derivative(log(sigma(-x + y, g2, g3)*exp(y*zw(x, g2, g3))/(sigma(x, g2, g3)*sigma(y, g2, g3))), y) + Derivative(log(sigma(x + y, g2, g3)*exp(-y*zw(x, g2, g3))/(sigma(x, g2, g3)*sigma(y, g2, g3))), y))"
      ]
     },
     "execution_count": 6,
     "metadata": {},
     "output_type": "execute_result"
    },
    {
     "data": {
      "text/latex": [
       "$\\displaystyle \\frac{\\operatorname{pwp}{\\left(x,g_{2},g_{3} \\right)}}{\\operatorname{pw}{\\left(x,g_{2},g_{3} \\right)} - \\operatorname{pw}{\\left(y,g_{2},g_{3} \\right)}} = \\frac{\\partial}{\\partial y} \\log{\\left(\\frac{\\sigma{\\left(x + y,g_{2},g_{3} \\right)} e^{- 2 y \\operatorname{zw}{\\left(x,g_{2},g_{3} \\right)}}}{\\sigma{\\left(- x + y,g_{2},g_{3} \\right)}} \\right)}$"
      ],
      "text/plain": [
       "Eq(pwp(x, g2, g3)/(pw(x, g2, g3) - pw(y, g2, g3)), Derivative(log(sigma(x + y, g2, g3)*exp(-2*y*zw(x, g2, g3))/sigma(-x + y, g2, g3)), y))"
      ]
     },
     "execution_count": 6,
     "metadata": {},
     "output_type": "execute_result"
    }
   ],
   "source": [
    "log_sigma_xy_a = Eq(Derivative(log(sigma(x+y,g2,g3)/sigma(y,g2,g3)),y), zw(x+y,g2,g3) - zw(y,g2,g3))\n",
    "log_sigma_xy_b = Eq(Derivative(log(sigma(x+y,g2,g3)/sigma(y,g2,g3)*exp(-zw(x,g2,g3)*y)),y), \n",
    "   -zw(x, g2, g3) + zw(x+y,g2,g3) - zw(y,g2,g3))\n",
    "\n",
    "pwp_x_y_log_sigma_diff = Eq(pwp(x, g2, g3)/((pw(x, g2, g3) - pw(y, g2, g3))),\n",
    " 2*Derivative(log(sigma(x+y,g2,g3)/sigma(y,g2,g3)*exp(-zw(x,g2,g3)*y)),y) \n",
    "   - Derivative(log(pw(x,g2,g3) - pw(y,g2,g3)),y)\n",
    "  )\n",
    "\n",
    "pwp_x_y_log_sigma_diff_b = Eq(pwp_x_y_log_sigma_diff.lhs,\n",
    " 2*Derivative(log(sigma(x + y, g2, g3)*exp(-y*zw(x, g2, g3))/sigma(y, g2, g3)/sigma(x, g2, g3)), y) - \n",
    "   Derivative(log(sigma(x + y, g2, g3)*exp(-y*zw(x, g2, g3))/\n",
    "                  (sigma(x, g2, g3)*sigma(y, g2, g3))), y)-\n",
    "   Derivative(log(sigma(-x + y, g2, g3)*exp(y*zw(x, g2, g3))/\n",
    "                  (sigma(x, g2, g3)*sigma(y, g2, g3))), y)\n",
    "  \n",
    ")\n",
    "pwp_x_y_log_sigma_diff_c = Eq(pwp(x, g2, g3)/(pw(x, g2, g3) - pw(y, g2, g3)),\n",
    "    Derivative(log(sigma(x + y, g2, g3)*exp(-2*y*zw(x, g2, g3))/sigma(-x + y, g2, g3)), y)\n",
    ")\n",
    "\n",
    "pw_to_zw_identity\n",
    "log_sigma_xy_a\n",
    "log_sigma_xy_b\n",
    "pwp_x_y_log_sigma_diff\n",
    "pwp_x_y_log_sigma_diff_b\n",
    "pwp_x_y_log_sigma_diff_c"
   ]
  },
  {
   "cell_type": "markdown",
   "id": "eb55a9db",
   "metadata": {},
   "source": [
    "## Frobenius Stickelberger determinant formula for Kronecker theta functions"
   ]
  },
  {
   "cell_type": "code",
   "execution_count": 7,
   "id": "523319c6",
   "metadata": {},
   "outputs": [],
   "source": [
    "sigma_product_f_s = (\n",
    "    (-1)**(N*(N-1)/2)*\n",
    "    Product(factorial(k),(k,1,N))*\n",
    "    sigma(Sum(mu[j],(j,0,N)),g2,g3)*\n",
    "    Product(Product(Piecewise((sigma(mu[l] - mu[m], g2, g3),l<m),(1,True)),(l,0,N)),(m,0,N))/\n",
    "    Product(sigma(mu[n],g2,g3)**(N+1),(n,0,N))\n",
    ")\n",
    "\n",
    "def frob_stick(Nval, evaluated=False, WPversion=False):\n",
    "    \"\"\"\n",
    "    Frobenius Stickelberger in its original form\n",
    "    \"\"\"\n",
    "    if evaluated:\n",
    "        return Eq(p_matrix_f_s(Nval).det(), sigma_product_f_s.subs(N,Nval).doit())\n",
    "    elif WPversion:\n",
    "        return Eq(WPdet(Nval), sigma_product_f_s.subs(N,Nval).doit())\n",
    "    return Eq(Det(p_matrix_f_s(Nval)), sigma_product_f_s.subs(N,Nval).doit())"
   ]
  },
  {
   "cell_type": "code",
   "execution_count": 8,
   "id": "8fee0e64",
   "metadata": {},
   "outputs": [],
   "source": [
    "sigma_product_f_s_N_factored = (\n",
    "    (-1)**(N*(N-1)/2)*\n",
    "    Product(factorial(k),(k,1,N-1))*\n",
    "    factorial(N)*\n",
    "    sigma(Sum(mu[j],(j,0,N)),g2,g3)*\n",
    "    Product(Product(Piecewise((sigma(mu[l] - mu[m], g2, g3),l<m),(1,True)),(l,0,N-1)),(m,0,N-1))*\n",
    "    Product(Piecewise((sigma(mu[l] - mu[N], g2, g3),l<N),(1,True)),(l,0,N))/\n",
    "    Product(sigma(mu[n],g2,g3)**(N),(n,0,N))/\n",
    "    Product(sigma(mu[n],g2,g3),(n,0,N))\n",
    ")\n",
    "\n",
    "sigma_product_f_s_N_over_N_minus_1 = (sigma_product_f_s_N_factored/sigma_product_f_s.subs(N,N-1))\n",
    "\n",
    "subs1_list = [\n",
    "    (Product(Piecewise((sigma(mu[l] - mu[N], g2, g3),l<N),(1,True)),(l,0,N)), \n",
    "     (-1)**N*Product(sigma(z - xi[l], g2, g3),(l,0,N))/sigma(z - xi[N], g2, g3)),\n",
    "    (Product(sigma(mu[n],g2,g3),(n,0,N)),Product(sigma(xi[n],g2,g3),(n,0,N))*sigma(z,g2,g3)/sigma(xi[N],g2,g3)),\n",
    "    (sigma(Sum(mu[j],(j,0,N-1)),g2,g3),-sigma(xi[N],g2,g3)),\n",
    "    (Sum(mu[j],(j,0,N)),-xi[N]+z),\n",
    "    (sigma(mu[N],g2,g3),sigma(z,g2,g3))\n",
    "]\n",
    "subs2_list = [\n",
    "    ((-1)**(2*N)*Product(sigma(z - xi[l], g2, g3),(l,0,N)), \n",
    "   Product(sigma(z - xi[l], g2, g3)/sigma(xi[l], g2, g3)/sigma(z, g2, g3),(l,0,N)) *\n",
    "   Product(sigma(xi[n], g2, g3),(n,0,N)) *\n",
    "   (Product(sigma(z, g2, g3),(l,0,N)).doit()))\n",
    "]\n",
    "\n",
    "wp_sigma_product_fs_N_over_N_minus_1_mu_n = Eq(WPdet(N)/WPdet(N-1), sigma_product_f_s_N_over_N_minus_1).subs(\n",
    "    Product(sigma(mu[n],g2,g3)**N,(n,0,N)),sigma(mu[N],g2,g3)**N*Product(sigma(mu[n],g2,g3)**N,(n,0,N-1))\n",
    ").expand()\n",
    "\n",
    "wp_sigma_product_fs_N_over_N_minus_1 = (\n",
    "    wp_sigma_product_fs_N_over_N_minus_1_mu_n\n",
    "    .subs(subs1_list)\n",
    "    .subs(subs2_list)\n",
    ").expand()\n",
    "sigma_product_f_s_N_over_N_minus_1 = wp_sigma_product_fs_N_over_N_minus_1.rhs\n",
    "\n",
    "\n",
    "def p_matrix_f_s(N): \n",
    "    return Matrix([[1, *[pw(x,g2,g3).diff((x,j)).subs(x,mu[k]) for j in range(N)]] for k in range(N+1)])\n",
    "\n",
    "def p_matrix_f_s_1dz(N): \n",
    "    return Matrix([*[[1, *[pw(x,g2,g3).diff((x,j)).subs(x,mu[k]) for j in range(N)]] for k in range(N)],\n",
    "       [1, *[pw(z,g2,g3).diff((z,j)) for j in range(N)]]])\n",
    "\n",
    "def frob_stick_1dz_ratio(Nval, evaluated=False):\n",
    "    \"\"\"\n",
    "    Frobenius Stickelberger adapted for Kronecker theta functions\n",
    "    \"\"\"\n",
    "    if evaluated:\n",
    "        return Eq(\n",
    "            (((-1)**(Nval-1)/factorial(Nval) * p_matrix_f_s_1dz(Nval).det()/p_matrix_f_s(Nval-1).det()).expand())\n",
    "                  .collect([pw(z,g2,g3), diff(pw(z,g2,g3),z)],factor), \n",
    "            (-1)**(Nval-1)/factorial(Nval) * sigma_product_f_s_N_over_N_minus_1.subs(N,Nval).doit().subs(\n",
    "            xi[Nval],-Sum(xi[j],(j,0,Nval-1)).doit()\n",
    "        ).subs([(xi[j],mu[j]) for j in range(Nval)]))\n",
    "    \n",
    "    return Eq(\n",
    "        (-1)**(Nval-1)/factorial(Nval) * Det(p_matrix_f_s_1dz(Nval))/Det(p_matrix_f_s(Nval-1)), \n",
    "        \n",
    "        (-1)**(Nval-1)/factorial(Nval) * sigma_product_f_s_N_over_N_minus_1.subs(N,Nval).doit().subs(\n",
    "            xi[Nval],-Sum(xi[j],(j,0,Nval-1)).doit()\n",
    "        ).subs([(xi[j],mu[j]) for j in range(Nval)]))"
   ]
  },
  {
   "cell_type": "markdown",
   "id": "cd68e7f6",
   "metadata": {},
   "source": [
    "## General completely degenerate case"
   ]
  },
  {
   "cell_type": "code",
   "execution_count": 9,
   "id": "3402fdf1",
   "metadata": {},
   "outputs": [],
   "source": [
    "def diff_mu_0_deg(Nval):\n",
    "    return Matrix([\n",
    "        [1 if j == 0 else 0, *[diff(pw(mu[0], g2, g3), (mu[0], i + j)) for i in range(Nval - 1)]]\n",
    "        for j in range(Nval)\n",
    "    ])\n",
    "\n",
    "def diff_mu_0_z_deg(Nval):\n",
    "    return Matrix([\n",
    "        *[\n",
    "            [1 if j == 0 else 0, *[diff(pw(mu[0], g2, g3), (mu[0], i + j)) for i in range(Nval)]]\n",
    "            for j in range(Nval)\n",
    "        ],\n",
    "        [1, *[diff(pw(z, g2, g3), (z, i)) for i in range(Nval)]]\n",
    "   ])\n",
    "\n",
    "def det_ratio_deg_case(Nval, evaluated=False):\n",
    "    if evaluated:\n",
    "        return Eq(1/factorial(Nval) * det(diff_mu_0_z_deg(Nval))/det(diff_mu_0_deg(Nval)), \n",
    "                  -sigma(z - mu[0], g2, g3)**Nval*sigma(z + Nval*mu[0], g2, g3)\n",
    "                  /sigma(Nval*mu[0], g2, g3)/sigma(mu[0], g2, g3)**Nval/sigma(z, g2, g3)**(Nval +1))\n",
    "    return Eq(1/factorial(Nval) * Det(diff_mu_0_z_deg(Nval))/Det(diff_mu_0_deg(Nval)),\n",
    "              -sigma(z - mu[0], g2, g3)**Nval*sigma(z + Nval*mu[0], g2, g3)\n",
    "                  /sigma(Nval*mu[0], g2, g3)/sigma(mu[0], g2, g3)**Nval/sigma(z, g2, g3)**(Nval+1))\n",
    "    "
   ]
  },
  {
   "cell_type": "code",
   "execution_count": 10,
   "id": "b84260d0",
   "metadata": {},
   "outputs": [],
   "source": [
    "sigma_product_f_sb = (\n",
    "    (-1)**(N*(N-1)/2)*\n",
    "    Product(factorial(k),(k,1,N))*\n",
    "    sigma(Sum(mu[0] + epsilon[j],(j,0,N)),g2,g3)*\n",
    "    Product(Product(Piecewise((sigma(mu[0] + epsilon[l] - mu[0] - epsilon[m], g2, g3),l<m),(1,True)),(l,0,N)),(m,0,N))/\n",
    "    Product(sigma(mu[0] + epsilon[n],g2,g3)**(N+1),(n,0,N))\n",
    ")\n",
    "sigma_product_f_sc = (\n",
    "    (-1)**(N*(N-1)/2)*\n",
    "    Product(factorial(k),(k,1,N))*\n",
    "    sigma(Sum(mu[0],(j,0,N)).doit(),g2,g3)*\n",
    "    Product(Product(Piecewise((sigma(mu[0] + epsilon[l] - mu[0] - epsilon[m], g2, g3),l<m),(1,True)),(l,0,N)),(m,0,N))/\n",
    "    Product(sigma(mu[0],g2,g3)**(N+1),(n,0,N)).doit()\n",
    ")\n",
    "\n",
    "sigma_product_f_sd = (\n",
    "    (-1)**(N*(N-1)/2)*\n",
    "    Product(factorial(k),(k,1,N))**2 *\n",
    "    sigma((N+1)*mu[0],g2,g3)*\n",
    "    Product(Product(Piecewise((sigma(epsilon[l] - epsilon[m], g2, g3),l<m),(1,True)),(l,0,N)),(m,0,N))/\n",
    "    sigma(mu[0],g2,g3)**(N+1)**2/Product(epsilon[j]**j, (j,1,N))\n",
    ")\n",
    "\n",
    "sigma_product_f_se = (\n",
    "    (-1)**(N**2)*Product(factorial(k),(k,1,N))**2 * sigma((N+1)*mu[0],g2,g3)/sigma(mu[0],g2,g3)**(N+1)**2\n",
    ")"
   ]
  },
  {
   "cell_type": "code",
   "execution_count": 11,
   "id": "af8a078f",
   "metadata": {},
   "outputs": [],
   "source": [
    "def det_const_deg_case(Nval, evaluated=False):\n",
    "    if evaluated:\n",
    "        return Eq(det(diff_mu_0_deg(Nval)), \n",
    "            (-1)**((Nval-1)**2)*product(factorial(k),(k,1,Nval - 1))**2 * \n",
    "            sigma(Nval*mu[0],g2,g3)/sigma(mu[0],g2,g3)**((Nval)**2)\n",
    "                 )\n",
    "    return Eq(Det(diff_mu_0_deg(Nval)),\n",
    "        (-1)**((Nval-1)**2)*product(factorial(k),(k,1,Nval - 1))**2 * \n",
    "            sigma(Nval*mu[0],g2,g3)/sigma(mu[0],g2,g3)**((Nval)**2)\n",
    "             )"
   ]
  },
  {
   "cell_type": "code",
   "execution_count": 12,
   "id": "b39e1d4a",
   "metadata": {},
   "outputs": [],
   "source": [
    "def det_ratio_deg_case(Nval, evaluated=False):\n",
    "    if evaluated:\n",
    "        return Eq(1/factorial(Nval) * det(diff_mu_0_z_deg(Nval))/det(diff_mu_0_deg(Nval)), \n",
    "                  -sigma(z - mu[0], g2, g3)**Nval*sigma(z + Nval*mu[0], g2, g3)\n",
    "                  /sigma(Nval*mu[0], g2, g3)/sigma(mu[0], g2, g3)**Nval/sigma(z, g2, g3)**(Nval +1))\n",
    "    return Eq(1/factorial(Nval) * Det(diff_mu_0_z_deg(Nval))/Det(diff_mu_0_deg(Nval)),\n",
    "              -sigma(z - mu[0], g2, g3)**Nval*sigma(z + Nval*mu[0], g2, g3)\n",
    "                  /sigma(Nval*mu[0], g2, g3)/sigma(mu[0], g2, g3)**Nval/sigma(z, g2, g3)**(Nval+1))"
   ]
  },
  {
   "cell_type": "markdown",
   "id": "73017e67",
   "metadata": {},
   "source": [
    "## Numerical test"
   ]
  },
  {
   "cell_type": "code",
   "execution_count": 13,
   "id": "92104233",
   "metadata": {},
   "outputs": [],
   "source": [
    "def mpc_to_float(mpc_val):\n",
    "    return float(mpc_val.real) + float(mpc_val.imag)*1j\n",
    "\n",
    "def sigma_prod_const(_z, _N, omegas):\n",
    "    return (    \n",
    "        (-1)**((_N - 1)**2)*product(factorial(k),(k,1,_N - 1))**2 * \n",
    "        we.wsigma(_N *_z, omegas)/we.wsigma(_z, omegas)**(_N**2)\n",
    "    ).expand().evalf()\n",
    "\n",
    "def test_const_det_sigma_power(_z, _g2, _g3, _N):\n",
    "    omega_ = we.omega_from_g(_g2, _g3)\n",
    "    omega1_ = mpc_to_float(omega_[0])\n",
    "    omega2_ = mpc_to_float(omega_[1])\n",
    "    omega3_ = mpc_to_float(omega_[2])\n",
    "    if im(omega2_/omega1_) <= 0:\n",
    "        omega2_ = -omega2_\n",
    "    omegas_ = (omega1_, omega2_)  \n",
    "\n",
    "    pw_val = mpc_to_float(we.wp(_z, omegas_))\n",
    "    pwp_val = mpc_to_float(we.wpprime(_z, omegas_))\n",
    "\n",
    "    sigma_N_val = sigma_prod_const(_z, _N, omegas_)\n",
    "\n",
    "    det_N_val_ = (\n",
    "        det_const_deg_case(Nval=_N, evaluated=False).lhs.args[0]\n",
    "        .subs([wpk(_i).subs(z,mu[0]).args for _i in range(1, 2*_N - 1)][::-1])\n",
    "        .subs([(pw(mu[0],g2,g3),pw_val), (pwp(mu[0],g2,g3),pwp_val), (g2, _g2), (g3, _g3)])\n",
    "        .expand()\n",
    "        .det()\n",
    "    )\n",
    "\n",
    "    err_val = abs(sigma_N_val - det_N_val_)/(sigma_N_val + det_N_val_)\n",
    "    \n",
    "    return {\n",
    "        \"sigma_N_val\": sigma_N_val,\n",
    "        \"det_N_val_\": det_N_val_,\n",
    "        \"err_val\": err_val\n",
    "    }\n",
    "\n",
    "\n",
    "def sigma_prod(_z, _mu0, _N, omegas): \n",
    "    return (    \n",
    "        -we.wsigma(_z - _mu0, omegas)**_N*we.wsigma(_z + _N*_mu0, omegas)/\n",
    "        we.wsigma(_N*_mu0, omegas)/\n",
    "        we.wsigma(_mu0, omegas)**_N/\n",
    "        we.wsigma(_z, omegas)**(_N+1)\n",
    "    )\n",
    "\n",
    "def test_det_ratio(_z, _mu0, _g2, _g3, _N):\n",
    "    omega_ = we.omega_from_g(_g2, _g3)\n",
    "    omega1_ = mpc_to_float(omega_[0])\n",
    "    omega2_ = mpc_to_float(omega_[1])\n",
    "    omega3_ = mpc_to_float(omega_[2])\n",
    "    if im(omega2_/omega1_) <= 0:\n",
    "        omega2_ = -omega2_\n",
    "    omegas_ = (omega1_, omega2_)  \n",
    "\n",
    "    pw_val_mu0 = mpc_to_float(we.wp(_mu0, omegas_))\n",
    "    pwp_val_mu0 = mpc_to_float(we.wpprime(_mu0, omegas_))\n",
    "    pw_val_z = mpc_to_float(we.wp(_z, omegas_))\n",
    "    pwp_val_z = mpc_to_float(we.wpprime(_z, omegas_))\n",
    "\n",
    "    sigma_N_val = sigma_prod(_z, _mu0, _N, omegas_)\n",
    "\n",
    "    det_ratio_N_val_ = ( \n",
    "        diff_mu_0_z_deg(_N)\n",
    "        .subs([wpk(_i).subs(z,mu[0]).args for _i in range(1, 2*_N - 1)][::-1])\n",
    "        .subs([wpk(_i).args for _i in range(1, 2*_N - 1)][::-1])\n",
    "        .subs([(pw(mu[0],g2,g3), pw_val_mu0), (pwp(mu[0],g2,g3),pwp_val_mu0)])\n",
    "        .subs([(pw(z,g2,g3), pw_val_z), (pwp(z,g2,g3), pwp_val_z), (g2, _g2), (g3, _g3)])\n",
    "        .expand()\n",
    "        .det() /\n",
    "        diff_mu_0_deg(_N)\n",
    "        .subs([wpk(_i).subs(z,mu[0]).args for _i in range(1, 2*_N - 1)][::-1])\n",
    "        .subs([wpk(_i).args for _i in range(1, 2*_N - 1)][::-1])\n",
    "        .subs([(pw(mu[0],g2,g3), pw_val_mu0), (pwp(mu[0],g2,g3),pwp_val_mu0)])\n",
    "        .subs([(pw(z,g2,g3), pw_val_z), (pwp(z,g2,g3), pwp_val_z), (g2, _g2), (g3, _g3)])\n",
    "        .expand()\n",
    "        .det() /\n",
    "        factorial(_N)\n",
    "   ).expand().evalf()\n",
    "\n",
    "    err_val = abs(sigma_N_val - det_ratio_N_val_)/(sigma_N_val + det_ratio_N_val_)\n",
    "    \n",
    "    return {\n",
    "        \"sigma_N_val\": sigma_N_val,\n",
    "        \"det_ratio_N_val_\": det_ratio_N_val_,\n",
    "        \"err_val\": err_val\n",
    "    }\n",
    "\n",
    "def num_evaluate_weierstrass(expression, values, show_expression=True):\n",
    "\n",
    "    lhs_value = (expression.lhs\n",
    "        .subs(values)\n",
    "        .replace(sigma, we.wsigma_from_g2_g3)\n",
    "        .replace(zw, we.wzeta_from_g2_g3)\n",
    "        .replace(pw, we.wp_from_g2_g3)\n",
    "        .replace(pwp, we.wpprime_from_g2_g3)\n",
    "    )\n",
    "\n",
    "    rhs_value = (expression.rhs\n",
    "        .subs(values)\n",
    "        .replace(sigma, we.wsigma_from_g2_g3)\n",
    "        .replace(zw, we.wzeta_from_g2_g3)\n",
    "        .replace(pw, we.wp_from_g2_g3)\n",
    "        .replace(pwp, we.wpprime_from_g2_g3)\n",
    "    )\n",
    "    \n",
    "    try:\n",
    "        lhs_value = lhs_value.evalf()\n",
    "    except:\n",
    "        pass\n",
    "    try:\n",
    "        rhs_value = rhs_value.evalf()\n",
    "    except:\n",
    "        pass\n",
    "        \n",
    "    print('LHS', lhs_value)\n",
    "    print('RHS', rhs_value)\n",
    "    # Symmetric Mean Absolute Percentage Error (SMAPE)\n",
    "    print('ERROR (SMAPE)', abs(lhs_value - rhs_value) * 2/(abs(lhs_value) + abs(rhs_value)))\n",
    "    \n",
    "    if show_expression:\n",
    "        return expression"
   ]
  },
  {
   "cell_type": "code",
   "execution_count": 14,
   "id": "8fe84ee2",
   "metadata": {},
   "outputs": [],
   "source": [
    "from random import random\n",
    "g2val_ = (random() - 0.5) + (random() - 0.5)*1j\n",
    "g3val_ = (random() - 0.5) + (random() - 0.5)*1j\n",
    "zval_ = (random() - 0.5) + (random() - 0.5)*1j\n",
    "\n",
    "omega_ = we.omega_from_g(g2val_, g3val_)\n",
    "omega1_ = mpc_to_float(omega_[0])\n",
    "omega2_ = mpc_to_float(omega_[1])\n",
    "omega3_ = mpc_to_float(omega_[2])\n",
    "if im(omega2_/omega1_) <= 0:\n",
    "    omega2_ = -omega2_\n",
    "omegas = (omega1_, omega2_)  \n",
    "\n",
    "num_subs_simple = [\n",
    "    (eta1, zw(omega1, g2, g3)), (g2, g2val_), (g3, g3val_), (omega1, omega1_), (z,zval_)\n",
    "]"
   ]
  },
  {
   "cell_type": "markdown",
   "id": "3da4a685",
   "metadata": {},
   "source": [
    "## The fith order case\n",
    "\n",
    "The starting point is the Frobenius-Stickelberger determinant formula involving a product of five Kronecker theta functions in the limit that all the free $\\mu_j$ parameters in the determinant tend to the same value (degeneracy)."
   ]
  },
  {
   "cell_type": "code",
   "execution_count": 15,
   "id": "a31caa81",
   "metadata": {},
   "outputs": [],
   "source": [
    "N_order = 5"
   ]
  },
  {
   "cell_type": "code",
   "execution_count": 16,
   "id": "49165281",
   "metadata": {},
   "outputs": [],
   "source": [
    "vals = [mu[_k] for _k in range(N_order)]\n",
    "vals.append(z)\n",
    "wpk_subs = [wpk(_n).subs(z, val) for val in vals for _n in range(1,N_order + 2)][::-1]"
   ]
  },
  {
   "cell_type": "code",
   "execution_count": 17,
   "id": "1cb62547",
   "metadata": {
    "scrolled": false
   },
   "outputs": [
    {
     "data": {
      "text/latex": [
       "$\\displaystyle \\frac{\\operatorname{Det}{\\left(\\left[\\begin{matrix}1 & \\operatorname{pw}{\\left({\\mu}_{0},g_{2},g_{3} \\right)} & \\frac{\\partial}{\\partial {\\mu}_{0}} \\operatorname{pw}{\\left({\\mu}_{0},g_{2},g_{3} \\right)} & \\frac{\\partial^{2}}{\\partial {\\mu}_{0}^{2}} \\operatorname{pw}{\\left({\\mu}_{0},g_{2},g_{3} \\right)} & \\frac{\\partial^{3}}{\\partial {\\mu}_{0}^{3}} \\operatorname{pw}{\\left({\\mu}_{0},g_{2},g_{3} \\right)}\\\\0 & \\frac{\\partial}{\\partial {\\mu}_{0}} \\operatorname{pw}{\\left({\\mu}_{0},g_{2},g_{3} \\right)} & \\frac{\\partial^{2}}{\\partial {\\mu}_{0}^{2}} \\operatorname{pw}{\\left({\\mu}_{0},g_{2},g_{3} \\right)} & \\frac{\\partial^{3}}{\\partial {\\mu}_{0}^{3}} \\operatorname{pw}{\\left({\\mu}_{0},g_{2},g_{3} \\right)} & \\frac{\\partial^{4}}{\\partial {\\mu}_{0}^{4}} \\operatorname{pw}{\\left({\\mu}_{0},g_{2},g_{3} \\right)}\\\\0 & \\frac{\\partial^{2}}{\\partial {\\mu}_{0}^{2}} \\operatorname{pw}{\\left({\\mu}_{0},g_{2},g_{3} \\right)} & \\frac{\\partial^{3}}{\\partial {\\mu}_{0}^{3}} \\operatorname{pw}{\\left({\\mu}_{0},g_{2},g_{3} \\right)} & \\frac{\\partial^{4}}{\\partial {\\mu}_{0}^{4}} \\operatorname{pw}{\\left({\\mu}_{0},g_{2},g_{3} \\right)} & \\frac{\\partial^{5}}{\\partial {\\mu}_{0}^{5}} \\operatorname{pw}{\\left({\\mu}_{0},g_{2},g_{3} \\right)}\\\\0 & \\frac{\\partial^{3}}{\\partial {\\mu}_{0}^{3}} \\operatorname{pw}{\\left({\\mu}_{0},g_{2},g_{3} \\right)} & \\frac{\\partial^{4}}{\\partial {\\mu}_{0}^{4}} \\operatorname{pw}{\\left({\\mu}_{0},g_{2},g_{3} \\right)} & \\frac{\\partial^{5}}{\\partial {\\mu}_{0}^{5}} \\operatorname{pw}{\\left({\\mu}_{0},g_{2},g_{3} \\right)} & \\frac{\\partial^{6}}{\\partial {\\mu}_{0}^{6}} \\operatorname{pw}{\\left({\\mu}_{0},g_{2},g_{3} \\right)}\\\\1 & \\operatorname{pw}{\\left(z,g_{2},g_{3} \\right)} & \\frac{\\partial}{\\partial z} \\operatorname{pw}{\\left(z,g_{2},g_{3} \\right)} & \\frac{\\partial^{2}}{\\partial z^{2}} \\operatorname{pw}{\\left(z,g_{2},g_{3} \\right)} & \\frac{\\partial^{3}}{\\partial z^{3}} \\operatorname{pw}{\\left(z,g_{2},g_{3} \\right)}\\end{matrix}\\right] \\right)} \\operatorname{Det}^{-1}{\\left(\\left[\\begin{matrix}1 & \\operatorname{pw}{\\left({\\mu}_{0},g_{2},g_{3} \\right)} & \\frac{\\partial}{\\partial {\\mu}_{0}} \\operatorname{pw}{\\left({\\mu}_{0},g_{2},g_{3} \\right)} & \\frac{\\partial^{2}}{\\partial {\\mu}_{0}^{2}} \\operatorname{pw}{\\left({\\mu}_{0},g_{2},g_{3} \\right)}\\\\0 & \\frac{\\partial}{\\partial {\\mu}_{0}} \\operatorname{pw}{\\left({\\mu}_{0},g_{2},g_{3} \\right)} & \\frac{\\partial^{2}}{\\partial {\\mu}_{0}^{2}} \\operatorname{pw}{\\left({\\mu}_{0},g_{2},g_{3} \\right)} & \\frac{\\partial^{3}}{\\partial {\\mu}_{0}^{3}} \\operatorname{pw}{\\left({\\mu}_{0},g_{2},g_{3} \\right)}\\\\0 & \\frac{\\partial^{2}}{\\partial {\\mu}_{0}^{2}} \\operatorname{pw}{\\left({\\mu}_{0},g_{2},g_{3} \\right)} & \\frac{\\partial^{3}}{\\partial {\\mu}_{0}^{3}} \\operatorname{pw}{\\left({\\mu}_{0},g_{2},g_{3} \\right)} & \\frac{\\partial^{4}}{\\partial {\\mu}_{0}^{4}} \\operatorname{pw}{\\left({\\mu}_{0},g_{2},g_{3} \\right)}\\\\0 & \\frac{\\partial^{3}}{\\partial {\\mu}_{0}^{3}} \\operatorname{pw}{\\left({\\mu}_{0},g_{2},g_{3} \\right)} & \\frac{\\partial^{4}}{\\partial {\\mu}_{0}^{4}} \\operatorname{pw}{\\left({\\mu}_{0},g_{2},g_{3} \\right)} & \\frac{\\partial^{5}}{\\partial {\\mu}_{0}^{5}} \\operatorname{pw}{\\left({\\mu}_{0},g_{2},g_{3} \\right)}\\end{matrix}\\right] \\right)}}{24} = - \\frac{\\sigma^{4}{\\left(z - {\\mu}_{0},g_{2},g_{3} \\right)} \\sigma{\\left(z + 4 {\\mu}_{0},g_{2},g_{3} \\right)}}{\\sigma^{5}{\\left(z,g_{2},g_{3} \\right)} \\sigma^{4}{\\left({\\mu}_{0},g_{2},g_{3} \\right)} \\sigma{\\left(4 {\\mu}_{0},g_{2},g_{3} \\right)}}$"
      ],
      "text/plain": [
       "Eq(Det(Matrix([\n",
       "[1,                         pw(mu[0], g2, g3),      Derivative(pw(mu[0], g2, g3), mu[0]), Derivative(pw(mu[0], g2, g3), (mu[0], 2)), Derivative(pw(mu[0], g2, g3), (mu[0], 3))],\n",
       "[0,      Derivative(pw(mu[0], g2, g3), mu[0]), Derivative(pw(mu[0], g2, g3), (mu[0], 2)), Derivative(pw(mu[0], g2, g3), (mu[0], 3)), Derivative(pw(mu[0], g2, g3), (mu[0], 4))],\n",
       "[0, Derivative(pw(mu[0], g2, g3), (mu[0], 2)), Derivative(pw(mu[0], g2, g3), (mu[0], 3)), Derivative(pw(mu[0], g2, g3), (mu[0], 4)), Derivative(pw(mu[0], g2, g3), (mu[0], 5))],\n",
       "[0, Derivative(pw(mu[0], g2, g3), (mu[0], 3)), Derivative(pw(mu[0], g2, g3), (mu[0], 4)), Derivative(pw(mu[0], g2, g3), (mu[0], 5)), Derivative(pw(mu[0], g2, g3), (mu[0], 6))],\n",
       "[1,                             pw(z, g2, g3),              Derivative(pw(z, g2, g3), z),         Derivative(pw(z, g2, g3), (z, 2)),         Derivative(pw(z, g2, g3), (z, 3))]]))*Det(Matrix([\n",
       "[1,                         pw(mu[0], g2, g3),      Derivative(pw(mu[0], g2, g3), mu[0]), Derivative(pw(mu[0], g2, g3), (mu[0], 2))],\n",
       "[0,      Derivative(pw(mu[0], g2, g3), mu[0]), Derivative(pw(mu[0], g2, g3), (mu[0], 2)), Derivative(pw(mu[0], g2, g3), (mu[0], 3))],\n",
       "[0, Derivative(pw(mu[0], g2, g3), (mu[0], 2)), Derivative(pw(mu[0], g2, g3), (mu[0], 3)), Derivative(pw(mu[0], g2, g3), (mu[0], 4))],\n",
       "[0, Derivative(pw(mu[0], g2, g3), (mu[0], 3)), Derivative(pw(mu[0], g2, g3), (mu[0], 4)), Derivative(pw(mu[0], g2, g3), (mu[0], 5))]]))**(-1)/24, -sigma(z - mu[0], g2, g3)**4*sigma(z + 4*mu[0], g2, g3)/(sigma(z, g2, g3)**5*sigma(mu[0], g2, g3)**4*sigma(4*mu[0], g2, g3)))"
      ]
     },
     "execution_count": 17,
     "metadata": {},
     "output_type": "execute_result"
    },
    {
     "data": {
      "text/latex": [
       "$\\displaystyle \\frac{\\operatorname{Det}{\\left(\\left[\\begin{matrix}1 & \\operatorname{pw}{\\left({\\mu}_{0},g_{2},g_{3} \\right)} & \\operatorname{pwp}{\\left({\\mu}_{0},g_{2},g_{3} \\right)} & - \\frac{g_{2}}{2} + 6 \\operatorname{pw}^{2}{\\left({\\mu}_{0},g_{2},g_{3} \\right)} & 12 \\operatorname{pw}{\\left({\\mu}_{0},g_{2},g_{3} \\right)} \\operatorname{pwp}{\\left({\\mu}_{0},g_{2},g_{3} \\right)}\\\\0 & \\operatorname{pwp}{\\left({\\mu}_{0},g_{2},g_{3} \\right)} & - \\frac{g_{2}}{2} + 6 \\operatorname{pw}^{2}{\\left({\\mu}_{0},g_{2},g_{3} \\right)} & 12 \\operatorname{pw}{\\left({\\mu}_{0},g_{2},g_{3} \\right)} \\operatorname{pwp}{\\left({\\mu}_{0},g_{2},g_{3} \\right)} & - 18 g_{2} \\operatorname{pw}{\\left({\\mu}_{0},g_{2},g_{3} \\right)} - 12 g_{3} + 120 \\operatorname{pw}^{3}{\\left({\\mu}_{0},g_{2},g_{3} \\right)}\\\\0 & - \\frac{g_{2}}{2} + 6 \\operatorname{pw}^{2}{\\left({\\mu}_{0},g_{2},g_{3} \\right)} & 12 \\operatorname{pw}{\\left({\\mu}_{0},g_{2},g_{3} \\right)} \\operatorname{pwp}{\\left({\\mu}_{0},g_{2},g_{3} \\right)} & - 18 g_{2} \\operatorname{pw}{\\left({\\mu}_{0},g_{2},g_{3} \\right)} - 12 g_{3} + 120 \\operatorname{pw}^{3}{\\left({\\mu}_{0},g_{2},g_{3} \\right)} & - 18 \\left(g_{2} - 20 \\operatorname{pw}^{2}{\\left({\\mu}_{0},g_{2},g_{3} \\right)}\\right) \\operatorname{pwp}{\\left({\\mu}_{0},g_{2},g_{3} \\right)}\\\\0 & 12 \\operatorname{pw}{\\left({\\mu}_{0},g_{2},g_{3} \\right)} \\operatorname{pwp}{\\left({\\mu}_{0},g_{2},g_{3} \\right)} & - 18 g_{2} \\operatorname{pw}{\\left({\\mu}_{0},g_{2},g_{3} \\right)} - 12 g_{3} + 120 \\operatorname{pw}^{3}{\\left({\\mu}_{0},g_{2},g_{3} \\right)} & - 18 \\left(g_{2} - 20 \\operatorname{pw}^{2}{\\left({\\mu}_{0},g_{2},g_{3} \\right)}\\right) \\operatorname{pwp}{\\left({\\mu}_{0},g_{2},g_{3} \\right)} & 9 g_{2}^{2} - 1008 g_{2} \\operatorname{pw}^{2}{\\left({\\mu}_{0},g_{2},g_{3} \\right)} - 720 g_{3} \\operatorname{pw}{\\left({\\mu}_{0},g_{2},g_{3} \\right)} + 5040 \\operatorname{pw}^{4}{\\left({\\mu}_{0},g_{2},g_{3} \\right)}\\\\1 & \\operatorname{pw}{\\left(z,g_{2},g_{3} \\right)} & \\operatorname{pwp}{\\left(z,g_{2},g_{3} \\right)} & - \\frac{g_{2}}{2} + 6 \\operatorname{pw}^{2}{\\left(z,g_{2},g_{3} \\right)} & 12 \\operatorname{pw}{\\left(z,g_{2},g_{3} \\right)} \\operatorname{pwp}{\\left(z,g_{2},g_{3} \\right)}\\end{matrix}\\right] \\right)} \\operatorname{Det}^{-1}{\\left(\\left[\\begin{matrix}1 & \\operatorname{pw}{\\left({\\mu}_{0},g_{2},g_{3} \\right)} & \\operatorname{pwp}{\\left({\\mu}_{0},g_{2},g_{3} \\right)} & - \\frac{g_{2}}{2} + 6 \\operatorname{pw}^{2}{\\left({\\mu}_{0},g_{2},g_{3} \\right)}\\\\0 & \\operatorname{pwp}{\\left({\\mu}_{0},g_{2},g_{3} \\right)} & - \\frac{g_{2}}{2} + 6 \\operatorname{pw}^{2}{\\left({\\mu}_{0},g_{2},g_{3} \\right)} & 12 \\operatorname{pw}{\\left({\\mu}_{0},g_{2},g_{3} \\right)} \\operatorname{pwp}{\\left({\\mu}_{0},g_{2},g_{3} \\right)}\\\\0 & - \\frac{g_{2}}{2} + 6 \\operatorname{pw}^{2}{\\left({\\mu}_{0},g_{2},g_{3} \\right)} & 12 \\operatorname{pw}{\\left({\\mu}_{0},g_{2},g_{3} \\right)} \\operatorname{pwp}{\\left({\\mu}_{0},g_{2},g_{3} \\right)} & - 18 g_{2} \\operatorname{pw}{\\left({\\mu}_{0},g_{2},g_{3} \\right)} - 12 g_{3} + 120 \\operatorname{pw}^{3}{\\left({\\mu}_{0},g_{2},g_{3} \\right)}\\\\0 & 12 \\operatorname{pw}{\\left({\\mu}_{0},g_{2},g_{3} \\right)} \\operatorname{pwp}{\\left({\\mu}_{0},g_{2},g_{3} \\right)} & - 18 g_{2} \\operatorname{pw}{\\left({\\mu}_{0},g_{2},g_{3} \\right)} - 12 g_{3} + 120 \\operatorname{pw}^{3}{\\left({\\mu}_{0},g_{2},g_{3} \\right)} & - 18 \\left(g_{2} - 20 \\operatorname{pw}^{2}{\\left({\\mu}_{0},g_{2},g_{3} \\right)}\\right) \\operatorname{pwp}{\\left({\\mu}_{0},g_{2},g_{3} \\right)}\\end{matrix}\\right] \\right)}}{24} = - \\frac{\\sigma^{4}{\\left(z - {\\mu}_{0},g_{2},g_{3} \\right)} \\sigma{\\left(z + 4 {\\mu}_{0},g_{2},g_{3} \\right)}}{\\sigma^{5}{\\left(z,g_{2},g_{3} \\right)} \\sigma^{4}{\\left({\\mu}_{0},g_{2},g_{3} \\right)} \\sigma{\\left(4 {\\mu}_{0},g_{2},g_{3} \\right)}}$"
      ],
      "text/plain": [
       "Eq(Det(Matrix([\n",
       "[1,                       pw(mu[0], g2, g3),                                          pwp(mu[0], g2, g3),                              -g2/2 + 6*pw(mu[0], g2, g3)**2,                                                       12*pw(mu[0], g2, g3)*pwp(mu[0], g2, g3)],\n",
       "[0,                      pwp(mu[0], g2, g3),                              -g2/2 + 6*pw(mu[0], g2, g3)**2,                     12*pw(mu[0], g2, g3)*pwp(mu[0], g2, g3),                                   -18*g2*pw(mu[0], g2, g3) - 12*g3 + 120*pw(mu[0], g2, g3)**3],\n",
       "[0,          -g2/2 + 6*pw(mu[0], g2, g3)**2,                     12*pw(mu[0], g2, g3)*pwp(mu[0], g2, g3), -18*g2*pw(mu[0], g2, g3) - 12*g3 + 120*pw(mu[0], g2, g3)**3,                                         -18*(g2 - 20*pw(mu[0], g2, g3)**2)*pwp(mu[0], g2, g3)],\n",
       "[0, 12*pw(mu[0], g2, g3)*pwp(mu[0], g2, g3), -18*g2*pw(mu[0], g2, g3) - 12*g3 + 120*pw(mu[0], g2, g3)**3,       -18*(g2 - 20*pw(mu[0], g2, g3)**2)*pwp(mu[0], g2, g3), 9*g2**2 - 1008*g2*pw(mu[0], g2, g3)**2 - 720*g3*pw(mu[0], g2, g3) + 5040*pw(mu[0], g2, g3)**4],\n",
       "[1,                           pw(z, g2, g3),                                              pwp(z, g2, g3),                                  -g2/2 + 6*pw(z, g2, g3)**2,                                                               12*pw(z, g2, g3)*pwp(z, g2, g3)]]))*Det(Matrix([\n",
       "[1,                       pw(mu[0], g2, g3),                                          pwp(mu[0], g2, g3),                              -g2/2 + 6*pw(mu[0], g2, g3)**2],\n",
       "[0,                      pwp(mu[0], g2, g3),                              -g2/2 + 6*pw(mu[0], g2, g3)**2,                     12*pw(mu[0], g2, g3)*pwp(mu[0], g2, g3)],\n",
       "[0,          -g2/2 + 6*pw(mu[0], g2, g3)**2,                     12*pw(mu[0], g2, g3)*pwp(mu[0], g2, g3), -18*g2*pw(mu[0], g2, g3) - 12*g3 + 120*pw(mu[0], g2, g3)**3],\n",
       "[0, 12*pw(mu[0], g2, g3)*pwp(mu[0], g2, g3), -18*g2*pw(mu[0], g2, g3) - 12*g3 + 120*pw(mu[0], g2, g3)**3,       -18*(g2 - 20*pw(mu[0], g2, g3)**2)*pwp(mu[0], g2, g3)]]))**(-1)/24, -sigma(z - mu[0], g2, g3)**4*sigma(z + 4*mu[0], g2, g3)/(sigma(z, g2, g3)**5*sigma(mu[0], g2, g3)**4*sigma(4*mu[0], g2, g3)))"
      ]
     },
     "execution_count": 17,
     "metadata": {},
     "output_type": "execute_result"
    },
    {
     "data": {
      "text/latex": [
       "$\\displaystyle - \\frac{\\sigma^{16}{\\left({\\mu}_{0},g_{2},g_{3} \\right)} \\operatorname{Det}{\\left(\\left[\\begin{matrix}1 & \\operatorname{pw}{\\left({\\mu}_{0},g_{2},g_{3} \\right)} & \\operatorname{pwp}{\\left({\\mu}_{0},g_{2},g_{3} \\right)} & - \\frac{g_{2}}{2} + 6 \\operatorname{pw}^{2}{\\left({\\mu}_{0},g_{2},g_{3} \\right)} & 12 \\operatorname{pw}{\\left({\\mu}_{0},g_{2},g_{3} \\right)} \\operatorname{pwp}{\\left({\\mu}_{0},g_{2},g_{3} \\right)}\\\\0 & \\operatorname{pwp}{\\left({\\mu}_{0},g_{2},g_{3} \\right)} & - \\frac{g_{2}}{2} + 6 \\operatorname{pw}^{2}{\\left({\\mu}_{0},g_{2},g_{3} \\right)} & 12 \\operatorname{pw}{\\left({\\mu}_{0},g_{2},g_{3} \\right)} \\operatorname{pwp}{\\left({\\mu}_{0},g_{2},g_{3} \\right)} & - 18 g_{2} \\operatorname{pw}{\\left({\\mu}_{0},g_{2},g_{3} \\right)} - 12 g_{3} + 120 \\operatorname{pw}^{3}{\\left({\\mu}_{0},g_{2},g_{3} \\right)}\\\\0 & - \\frac{g_{2}}{2} + 6 \\operatorname{pw}^{2}{\\left({\\mu}_{0},g_{2},g_{3} \\right)} & 12 \\operatorname{pw}{\\left({\\mu}_{0},g_{2},g_{3} \\right)} \\operatorname{pwp}{\\left({\\mu}_{0},g_{2},g_{3} \\right)} & - 18 g_{2} \\operatorname{pw}{\\left({\\mu}_{0},g_{2},g_{3} \\right)} - 12 g_{3} + 120 \\operatorname{pw}^{3}{\\left({\\mu}_{0},g_{2},g_{3} \\right)} & - 18 \\left(g_{2} - 20 \\operatorname{pw}^{2}{\\left({\\mu}_{0},g_{2},g_{3} \\right)}\\right) \\operatorname{pwp}{\\left({\\mu}_{0},g_{2},g_{3} \\right)}\\\\0 & 12 \\operatorname{pw}{\\left({\\mu}_{0},g_{2},g_{3} \\right)} \\operatorname{pwp}{\\left({\\mu}_{0},g_{2},g_{3} \\right)} & - 18 g_{2} \\operatorname{pw}{\\left({\\mu}_{0},g_{2},g_{3} \\right)} - 12 g_{3} + 120 \\operatorname{pw}^{3}{\\left({\\mu}_{0},g_{2},g_{3} \\right)} & - 18 \\left(g_{2} - 20 \\operatorname{pw}^{2}{\\left({\\mu}_{0},g_{2},g_{3} \\right)}\\right) \\operatorname{pwp}{\\left({\\mu}_{0},g_{2},g_{3} \\right)} & 9 g_{2}^{2} - 1008 g_{2} \\operatorname{pw}^{2}{\\left({\\mu}_{0},g_{2},g_{3} \\right)} - 720 g_{3} \\operatorname{pw}{\\left({\\mu}_{0},g_{2},g_{3} \\right)} + 5040 \\operatorname{pw}^{4}{\\left({\\mu}_{0},g_{2},g_{3} \\right)}\\\\1 & \\operatorname{pw}{\\left(z,g_{2},g_{3} \\right)} & \\operatorname{pwp}{\\left(z,g_{2},g_{3} \\right)} & - \\frac{g_{2}}{2} + 6 \\operatorname{pw}^{2}{\\left(z,g_{2},g_{3} \\right)} & 12 \\operatorname{pw}{\\left(z,g_{2},g_{3} \\right)} \\operatorname{pwp}{\\left(z,g_{2},g_{3} \\right)}\\end{matrix}\\right] \\right)}}{3456 \\sigma{\\left(4 {\\mu}_{0},g_{2},g_{3} \\right)}} = - \\frac{\\sigma^{4}{\\left(z - {\\mu}_{0},g_{2},g_{3} \\right)} \\sigma{\\left(z + 4 {\\mu}_{0},g_{2},g_{3} \\right)}}{\\sigma^{5}{\\left(z,g_{2},g_{3} \\right)} \\sigma^{4}{\\left({\\mu}_{0},g_{2},g_{3} \\right)} \\sigma{\\left(4 {\\mu}_{0},g_{2},g_{3} \\right)}}$"
      ],
      "text/plain": [
       "Eq(-sigma(mu[0], g2, g3)**16*Det(Matrix([\n",
       "[1,                       pw(mu[0], g2, g3),                                          pwp(mu[0], g2, g3),                              -g2/2 + 6*pw(mu[0], g2, g3)**2,                                                       12*pw(mu[0], g2, g3)*pwp(mu[0], g2, g3)],\n",
       "[0,                      pwp(mu[0], g2, g3),                              -g2/2 + 6*pw(mu[0], g2, g3)**2,                     12*pw(mu[0], g2, g3)*pwp(mu[0], g2, g3),                                   -18*g2*pw(mu[0], g2, g3) - 12*g3 + 120*pw(mu[0], g2, g3)**3],\n",
       "[0,          -g2/2 + 6*pw(mu[0], g2, g3)**2,                     12*pw(mu[0], g2, g3)*pwp(mu[0], g2, g3), -18*g2*pw(mu[0], g2, g3) - 12*g3 + 120*pw(mu[0], g2, g3)**3,                                         -18*(g2 - 20*pw(mu[0], g2, g3)**2)*pwp(mu[0], g2, g3)],\n",
       "[0, 12*pw(mu[0], g2, g3)*pwp(mu[0], g2, g3), -18*g2*pw(mu[0], g2, g3) - 12*g3 + 120*pw(mu[0], g2, g3)**3,       -18*(g2 - 20*pw(mu[0], g2, g3)**2)*pwp(mu[0], g2, g3), 9*g2**2 - 1008*g2*pw(mu[0], g2, g3)**2 - 720*g3*pw(mu[0], g2, g3) + 5040*pw(mu[0], g2, g3)**4],\n",
       "[1,                           pw(z, g2, g3),                                              pwp(z, g2, g3),                                  -g2/2 + 6*pw(z, g2, g3)**2,                                                               12*pw(z, g2, g3)*pwp(z, g2, g3)]]))/(3456*sigma(4*mu[0], g2, g3)), -sigma(z - mu[0], g2, g3)**4*sigma(z + 4*mu[0], g2, g3)/(sigma(z, g2, g3)**5*sigma(mu[0], g2, g3)**4*sigma(4*mu[0], g2, g3)))"
      ]
     },
     "execution_count": 17,
     "metadata": {},
     "output_type": "execute_result"
    }
   ],
   "source": [
    "drdc_3 = det_ratio_deg_case(N_order - 1)\n",
    "drdc_3_with_subs = drdc_3.subs([_eq.args for _eq in wpk_subs])\n",
    "\n",
    "__xx = (drdc_3\n",
    "        .subs(*det_const_deg_case(Nval=N_order - 1, evaluated=False).args)\n",
    "        .subs([_eq.args for _eq in wpk_subs])\n",
    "       )\n",
    "\n",
    "drdc_3\n",
    "drdc_3_with_subs\n",
    "__xx\n",
    "\n",
    "# det_ratio_deg_case(3).subs(*det_const_deg_case(Nval=3, evaluated=False).args)"
   ]
  },
  {
   "cell_type": "markdown",
   "id": "156a044d",
   "metadata": {},
   "source": [
    "The final level of degeneracy is achieved by making the parameter $\\mu_0$ take the appropriate rational multiple of a lattice point $\\psi_{n,m}=n\\omega_1 + m\\omega_3$ such that the right hand side of the determinant formula is a monomial in a Kronecker theta function. If $k$ is the order of the monomial, the following condition must be satisifed:"
   ]
  },
  {
   "cell_type": "code",
   "execution_count": 18,
   "id": "bb371c5f",
   "metadata": {
    "scrolled": true
   },
   "outputs": [
    {
     "data": {
      "text/latex": [
       "$\\displaystyle {\\psi}_{n,m} = m \\omega_{3} + n \\omega_{1}$"
      ],
      "text/plain": [
       "Eq(psi[n, m], m*omega3 + n*omega1)"
      ]
     },
     "execution_count": 18,
     "metadata": {},
     "output_type": "execute_result"
    },
    {
     "data": {
      "text/latex": [
       "$\\displaystyle \\left(k - 1\\right) {\\mu}_{0} = - {\\mu}_{0} + 2 {\\psi}_{n,m}$"
      ],
      "text/plain": [
       "Eq((k - 1)*mu[0], -mu[0] + 2*psi[n, m])"
      ]
     },
     "execution_count": 18,
     "metadata": {},
     "output_type": "execute_result"
    },
    {
     "data": {
      "text/latex": [
       "$\\displaystyle {\\mu}_{0} = \\frac{2 {\\psi}_{n,m}}{k}$"
      ],
      "text/plain": [
       "Eq(mu[0], 2*psi[n, m]/k)"
      ]
     },
     "execution_count": 18,
     "metadata": {},
     "output_type": "execute_result"
    },
    {
     "data": {
      "text/latex": [
       "$\\displaystyle {\\mu}_{0} = \\frac{2 {\\psi}_{n,m}}{5}$"
      ],
      "text/plain": [
       "Eq(mu[0], 2*psi[n, m]/5)"
      ]
     },
     "execution_count": 18,
     "metadata": {},
     "output_type": "execute_result"
    }
   ],
   "source": [
    "psi_nm_def = Eq(psi[n,m], n*omega1 + m*omega3)\n",
    "k_mu_psi = Eq((k-1)*mu[0],2*psi[n,m] - mu[0])\n",
    "mu_psi_k = Eq(mu[0],2*psi[n,m]/k)\n",
    "full_deg_mu0_5 = Eq(mu[0],2*psi[n,m]/N_order)\n",
    "\n",
    "psi_nm_def\n",
    "k_mu_psi\n",
    "mu_psi_k\n",
    "full_deg_mu0_5"
   ]
  },
  {
   "cell_type": "markdown",
   "id": "949caf7a",
   "metadata": {},
   "source": [
    "Thereafter we may define $U(z),V(z)$ as follows:"
   ]
  },
  {
   "cell_type": "code",
   "execution_count": 74,
   "id": "d22c900b",
   "metadata": {
    "scrolled": false
   },
   "outputs": [
    {
     "data": {
      "text/latex": [
       "$\\displaystyle \\frac{\\sigma{\\left(z + \\frac{8 {\\psi}_{n,m}}{5},g_{2},g_{3} \\right)}}{\\sigma{\\left(\\frac{8 {\\psi}_{n,m}}{5},g_{2},g_{3} \\right)}} = - \\frac{\\sigma{\\left(z - \\frac{2 {\\psi}_{n,m}}{5},g_{2},g_{3} \\right)} e^{2 z \\left(\\eta_{1} n + \\eta_{3} m\\right)}}{\\sigma{\\left(\\frac{2 {\\psi}_{n,m}}{5},g_{2},g_{3} \\right)}}$"
      ],
      "text/plain": [
       "Eq(sigma(z + 8*psi[n, m]/5, g2, g3)/sigma(8*psi[n, m]/5, g2, g3), -sigma(z - 2*psi[n, m]/5, g2, g3)*exp(2*z*(eta1*n + eta3*m))/sigma(2*psi[n, m]/5, g2, g3))"
      ]
     },
     "execution_count": 74,
     "metadata": {},
     "output_type": "execute_result"
    },
    {
     "data": {
      "text/latex": [
       "$\\displaystyle \\frac{\\sigma{\\left(- z + \\frac{8 {\\psi}_{n,m}}{5},g_{2},g_{3} \\right)}}{\\sigma{\\left(\\frac{8 {\\psi}_{n,m}}{5},g_{2},g_{3} \\right)}} = - \\frac{\\sigma{\\left(- z - \\frac{2 {\\psi}_{n,m}}{5},g_{2},g_{3} \\right)} e^{- 2 z \\left(\\eta_{1} n + \\eta_{3} m\\right)}}{\\sigma{\\left(\\frac{2 {\\psi}_{n,m}}{5},g_{2},g_{3} \\right)}}$"
      ],
      "text/plain": [
       "Eq(sigma(-z + 8*psi[n, m]/5, g2, g3)/sigma(8*psi[n, m]/5, g2, g3), -sigma(-z - 2*psi[n, m]/5, g2, g3)*exp(-2*z*(eta1*n + eta3*m))/sigma(2*psi[n, m]/5, g2, g3))"
      ]
     },
     "execution_count": 74,
     "metadata": {},
     "output_type": "execute_result"
    },
    {
     "data": {
      "text/latex": [
       "$\\displaystyle \\operatorname{zw}{\\left({\\psi}_{n,m},g_{2},g_{3} \\right)} = \\eta_{1} n + \\eta_{3} m$"
      ],
      "text/plain": [
       "Eq(zw(psi[n, m], g2, g3), eta1*n + eta3*m)"
      ]
     },
     "execution_count": 74,
     "metadata": {},
     "output_type": "execute_result"
    },
    {
     "data": {
      "text/latex": [
       "$\\displaystyle U{\\left(z \\right)} = \\frac{\\sigma{\\left(z - \\frac{2 {\\psi}_{n,m}}{5},g_{2},g_{3} \\right)} e^{\\frac{2 z \\left(\\eta_{1} n + \\eta_{3} m\\right)}{5}}}{\\sigma{\\left(z,g_{2},g_{3} \\right)} \\sigma{\\left(\\frac{2 {\\psi}_{n,m}}{5},g_{2},g_{3} \\right)}}$"
      ],
      "text/plain": [
       "Eq(U(z), sigma(z - 2*psi[n, m]/5, g2, g3)*exp(2*z*(eta1*n + eta3*m)/5)/(sigma(z, g2, g3)*sigma(2*psi[n, m]/5, g2, g3)))"
      ]
     },
     "execution_count": 74,
     "metadata": {},
     "output_type": "execute_result"
    },
    {
     "data": {
      "text/latex": [
       "$\\displaystyle V{\\left(z \\right)} = \\frac{\\sigma{\\left(z + \\frac{2 {\\psi}_{n,m}}{5},g_{2},g_{3} \\right)} e^{- \\frac{2 z \\left(\\eta_{1} n + \\eta_{3} m\\right)}{5}}}{\\sigma{\\left(z,g_{2},g_{3} \\right)} \\sigma{\\left(\\frac{2 {\\psi}_{n,m}}{5},g_{2},g_{3} \\right)}}$"
      ],
      "text/plain": [
       "Eq(V(z), sigma(z + 2*psi[n, m]/5, g2, g3)*exp(-2*z*(eta1*n + eta3*m)/5)/(sigma(z, g2, g3)*sigma(2*psi[n, m]/5, g2, g3)))"
      ]
     },
     "execution_count": 74,
     "metadata": {},
     "output_type": "execute_result"
    },
    {
     "data": {
      "text/latex": [
       "$\\displaystyle U{\\left(z \\right)} = V{\\left(- z \\right)}$"
      ],
      "text/plain": [
       "Eq(U(z), V(-z))"
      ]
     },
     "execution_count": 74,
     "metadata": {},
     "output_type": "execute_result"
    },
    {
     "data": {
      "text/latex": [
       "$\\displaystyle U{\\left(z \\right)} V{\\left(z \\right)} = \\frac{\\sigma{\\left(z - \\frac{2 {\\psi}_{n,m}}{5},g_{2},g_{3} \\right)} \\sigma{\\left(z + \\frac{2 {\\psi}_{n,m}}{5},g_{2},g_{3} \\right)}}{\\sigma^{2}{\\left(z,g_{2},g_{3} \\right)} \\sigma^{2}{\\left(\\frac{2 {\\psi}_{n,m}}{5},g_{2},g_{3} \\right)}}$"
      ],
      "text/plain": [
       "Eq(U(z)*V(z), sigma(z - 2*psi[n, m]/5, g2, g3)*sigma(z + 2*psi[n, m]/5, g2, g3)/(sigma(z, g2, g3)**2*sigma(2*psi[n, m]/5, g2, g3)**2))"
      ]
     },
     "execution_count": 74,
     "metadata": {},
     "output_type": "execute_result"
    },
    {
     "data": {
      "text/latex": [
       "$\\displaystyle U{\\left(z \\right)} V{\\left(z \\right)} = - \\operatorname{pw}{\\left(z,g_{2},g_{3} \\right)} + \\operatorname{pw}{\\left(\\frac{2 {\\psi}_{n,m}}{5},g_{2},g_{3} \\right)}$"
      ],
      "text/plain": [
       "Eq(U(z)*V(z), -pw(z, g2, g3) + pw(2*psi[n, m]/5, g2, g3))"
      ]
     },
     "execution_count": 74,
     "metadata": {},
     "output_type": "execute_result"
    },
    {
     "data": {
      "text/plain": [
       "True"
      ]
     },
     "execution_count": 74,
     "metadata": {},
     "output_type": "execute_result"
    }
   ],
   "source": [
    "_qq_a = quasi_period.subs(z, z - 2*psi[n,m]/N_order).subs(omega3, solve(psi_nm_def, omega3)[0]).simplify()\n",
    "\n",
    "_qq_b = Eq(_qq_a.lhs/_qq_a.lhs.subs(z,0), (_qq_a.rhs/_qq_a.rhs.subs(z,0)).simplify()).subs([\n",
    "    (sigma(-2*psi[n,m]/N_order, g2, g3), -sigma(2*psi[n,m]/N_order, g2, g3))\n",
    "])\n",
    "_qq_b_min = _qq_b.subs(z,-z)\n",
    "\n",
    "zw_psi_nm_eta = Eq(\n",
    "    zw(psi[n,m],g2,g3),\n",
    "    solve(quasi_period_zw\n",
    "        .subs(psi_nm_def.rhs*2, psi_nm_def.lhs*2)\n",
    "        .subs(z,-psi[n,m])\n",
    "        .subs(zw(-psi[n,m],g2,g3), -zw(psi[n,m],g2,g3))\n",
    "    ,zw(psi[n,m],g2,g3))[0]\n",
    ")\n",
    "\n",
    "Uz_sig = Eq(U(z), \n",
    "            sigma(-2*psi[n,m]/5 + z, g2, g3)*exp(2*z/5*(eta1*n+eta3*m))/\n",
    "            (sigma(2*psi[n,m]/5, g2, g3)*sigma(z, g2, g3))\n",
    "           )\n",
    "Vz_sig = Eq(V(z), Uz_sig.rhs.subs(z,-z).subs([\n",
    "    (sigma(-z,g2,g3),-sigma(z,g2,g3)), (sigma(-z-2*psi[n,m]/5,g2,g3),-sigma(z+2*psi[n,m]/5,g2,g3))\n",
    "]))\n",
    "UVz_sig = Eq(U(z)*V(z),(U(z)*V(z)).subs([Uz_sig.args, Vz_sig.args]))\n",
    "UVz_pw = UVz_sig.subs(*sigma_p_identity.subs([(y,2*psi[n,m]/5),(x,z)]).args[::-1])\n",
    "\n",
    "Uz5_check = __xx.rhs.subs(*full_deg_mu0_5.args).subs([_qq_b.args, _qq_b_min.args]) - Uz_sig.rhs**5 == 0\n",
    "\n",
    "_qq_b\n",
    "_qq_b_min\n",
    "zw_psi_nm_eta\n",
    "Uz_sig\n",
    "Vz_sig\n",
    "Eq(U(z), V(-z))\n",
    "UVz_sig\n",
    "UVz_pw\n",
    "Uz5_check"
   ]
  },
  {
   "cell_type": "markdown",
   "id": "79a9a8b5",
   "metadata": {},
   "source": [
    "## Finding the weights for $\\mathrm{pw}(z,g_2,g_3), \\mathrm{pwp}(z,g_2,g_3)$ in the expanded determinant"
   ]
  },
  {
   "cell_type": "markdown",
   "id": "ba3390b3",
   "metadata": {},
   "source": [
    "By Laplace expansion along the bottom row of the detreminant, it is clear that this determinant formula takes the form shown below. There are a few different ways to find expressions for the coefficients $c_j$. They could be expressed in terms of $\\mathrm{pw}(2\\psi_{n,m}/5,g_2,g_3), \\mathrm{pwp}(2\\psi_{n,m}/5,g_2,g_3), g_2, g_3$ via the co-factors in the determinant, but that often gives quite complicated expressions. With some patience, it is often possible to find simpler expressions by other means as shown below."
   ]
  },
  {
   "cell_type": "code",
   "execution_count": 20,
   "id": "173a6564",
   "metadata": {
    "scrolled": false
   },
   "outputs": [
    {
     "data": {
      "text/latex": [
       "$\\displaystyle \\operatorname{pw}^{2}{\\left(z,g_{2},g_{3} \\right)} {c}_{3} + \\frac{\\operatorname{pw}{\\left(z,g_{2},g_{3} \\right)} \\operatorname{pwp}{\\left(z,g_{2},g_{3} \\right)}}{2} + \\operatorname{pw}{\\left(z,g_{2},g_{3} \\right)} {c}_{1} + \\operatorname{pwp}{\\left(z,g_{2},g_{3} \\right)} {c}_{2} + {c}_{0} = \\frac{\\sigma^{5}{\\left(z - \\frac{2 {\\psi}_{n,m}}{5},g_{2},g_{3} \\right)} e^{2 z \\left(\\eta_{1} n + \\eta_{3} m\\right)}}{\\sigma^{5}{\\left(z,g_{2},g_{3} \\right)} \\sigma^{5}{\\left(\\frac{2 {\\psi}_{n,m}}{5},g_{2},g_{3} \\right)}}$"
      ],
      "text/plain": [
       "Eq(pw(z, g2, g3)**2*c[3] + pw(z, g2, g3)*pwp(z, g2, g3)/2 + pw(z, g2, g3)*c[1] + pwp(z, g2, g3)*c[2] + c[0], sigma(z - 2*psi[n, m]/5, g2, g3)**5*exp(2*z*(eta1*n + eta3*m))/(sigma(z, g2, g3)**5*sigma(2*psi[n, m]/5, g2, g3)**5))"
      ]
     },
     "execution_count": 20,
     "metadata": {},
     "output_type": "execute_result"
    },
    {
     "data": {
      "text/latex": [
       "$\\displaystyle \\operatorname{pw}^{2}{\\left(z,g_{2},g_{3} \\right)} {c}_{3} + \\frac{\\operatorname{pw}{\\left(z,g_{2},g_{3} \\right)} \\operatorname{pwp}{\\left(z,g_{2},g_{3} \\right)}}{2} + \\operatorname{pw}{\\left(z,g_{2},g_{3} \\right)} {c}_{1} + \\operatorname{pwp}{\\left(z,g_{2},g_{3} \\right)} {c}_{2} + {c}_{0} = U^{5}{\\left(z \\right)}$"
      ],
      "text/plain": [
       "Eq(pw(z, g2, g3)**2*c[3] + pw(z, g2, g3)*pwp(z, g2, g3)/2 + pw(z, g2, g3)*c[1] + pwp(z, g2, g3)*c[2] + c[0], U(z)**5)"
      ]
     },
     "execution_count": 20,
     "metadata": {},
     "output_type": "execute_result"
    },
    {
     "data": {
      "text/latex": [
       "$\\displaystyle \\operatorname{pw}^{2}{\\left(z,g_{2},g_{3} \\right)} {c}_{3} - \\frac{\\operatorname{pw}{\\left(z,g_{2},g_{3} \\right)} \\operatorname{pwp}{\\left(z,g_{2},g_{3} \\right)}}{2} + \\operatorname{pw}{\\left(z,g_{2},g_{3} \\right)} {c}_{1} - \\operatorname{pwp}{\\left(z,g_{2},g_{3} \\right)} {c}_{2} + {c}_{0} = V^{5}{\\left(z \\right)}$"
      ],
      "text/plain": [
       "Eq(pw(z, g2, g3)**2*c[3] - pw(z, g2, g3)*pwp(z, g2, g3)/2 + pw(z, g2, g3)*c[1] - pwp(z, g2, g3)*c[2] + c[0], V(z)**5)"
      ]
     },
     "execution_count": 20,
     "metadata": {},
     "output_type": "execute_result"
    },
    {
     "data": {
      "text/latex": [
       "$\\displaystyle 2 \\operatorname{pw}^{2}{\\left(z,g_{2},g_{3} \\right)} {c}_{3} + 2 \\operatorname{pw}{\\left(z,g_{2},g_{3} \\right)} {c}_{1} + 2 {c}_{0} = \\frac{\\sigma^{5}{\\left(z - \\frac{2 {\\psi}_{n,m}}{5},g_{2},g_{3} \\right)} e^{2 z \\left(\\eta_{1} n + \\eta_{3} m\\right)}}{\\sigma^{5}{\\left(z,g_{2},g_{3} \\right)} \\sigma^{5}{\\left(\\frac{2 {\\psi}_{n,m}}{5},g_{2},g_{3} \\right)}} + \\frac{\\sigma^{5}{\\left(z + \\frac{2 {\\psi}_{n,m}}{5},g_{2},g_{3} \\right)} e^{- 2 z \\left(\\eta_{1} n + \\eta_{3} m\\right)}}{\\sigma^{5}{\\left(z,g_{2},g_{3} \\right)} \\sigma^{5}{\\left(\\frac{2 {\\psi}_{n,m}}{5},g_{2},g_{3} \\right)}}$"
      ],
      "text/plain": [
       "Eq(2*pw(z, g2, g3)**2*c[3] + 2*pw(z, g2, g3)*c[1] + 2*c[0], sigma(z - 2*psi[n, m]/5, g2, g3)**5*exp(2*z*(eta1*n + eta3*m))/(sigma(z, g2, g3)**5*sigma(2*psi[n, m]/5, g2, g3)**5) + sigma(z + 2*psi[n, m]/5, g2, g3)**5*exp(-2*z*(eta1*n + eta3*m))/(sigma(z, g2, g3)**5*sigma(2*psi[n, m]/5, g2, g3)**5))"
      ]
     },
     "execution_count": 20,
     "metadata": {},
     "output_type": "execute_result"
    },
    {
     "data": {
      "text/latex": [
       "$\\displaystyle \\operatorname{pw}{\\left(z,g_{2},g_{3} \\right)} \\operatorname{pwp}{\\left(z,g_{2},g_{3} \\right)} + 2 \\operatorname{pwp}{\\left(z,g_{2},g_{3} \\right)} {c}_{2} = \\frac{\\sigma^{5}{\\left(z - \\frac{2 {\\psi}_{n,m}}{5},g_{2},g_{3} \\right)} e^{2 z \\left(\\eta_{1} n + \\eta_{3} m\\right)}}{\\sigma^{5}{\\left(z,g_{2},g_{3} \\right)} \\sigma^{5}{\\left(\\frac{2 {\\psi}_{n,m}}{5},g_{2},g_{3} \\right)}} - \\frac{\\sigma^{5}{\\left(z + \\frac{2 {\\psi}_{n,m}}{5},g_{2},g_{3} \\right)} e^{- 2 z \\left(\\eta_{1} n + \\eta_{3} m\\right)}}{\\sigma^{5}{\\left(z,g_{2},g_{3} \\right)} \\sigma^{5}{\\left(\\frac{2 {\\psi}_{n,m}}{5},g_{2},g_{3} \\right)}}$"
      ],
      "text/plain": [
       "Eq(pw(z, g2, g3)*pwp(z, g2, g3) + 2*pwp(z, g2, g3)*c[2], sigma(z - 2*psi[n, m]/5, g2, g3)**5*exp(2*z*(eta1*n + eta3*m))/(sigma(z, g2, g3)**5*sigma(2*psi[n, m]/5, g2, g3)**5) - sigma(z + 2*psi[n, m]/5, g2, g3)**5*exp(-2*z*(eta1*n + eta3*m))/(sigma(z, g2, g3)**5*sigma(2*psi[n, m]/5, g2, g3)**5))"
      ]
     },
     "execution_count": 20,
     "metadata": {},
     "output_type": "execute_result"
    },
    {
     "data": {
      "text/latex": [
       "$\\displaystyle \\operatorname{pw}{\\left(z,g_{2},g_{3} \\right)} \\operatorname{pwp}{\\left(z,g_{2},g_{3} \\right)} + 2 \\operatorname{pwp}{\\left(z,g_{2},g_{3} \\right)} {c}_{2} = U^{5}{\\left(z \\right)} - V^{5}{\\left(z \\right)}$"
      ],
      "text/plain": [
       "Eq(pw(z, g2, g3)*pwp(z, g2, g3) + 2*pwp(z, g2, g3)*c[2], U(z)**5 - V(z)**5)"
      ]
     },
     "execution_count": 20,
     "metadata": {},
     "output_type": "execute_result"
    },
    {
     "data": {
      "text/latex": [
       "$\\displaystyle 2 \\operatorname{pw}^{2}{\\left(z,g_{2},g_{3} \\right)} {c}_{3} + 2 \\operatorname{pw}{\\left(z,g_{2},g_{3} \\right)} {c}_{1} + 2 {c}_{0} = U^{5}{\\left(z \\right)} + V^{5}{\\left(z \\right)}$"
      ],
      "text/plain": [
       "Eq(2*pw(z, g2, g3)**2*c[3] + 2*pw(z, g2, g3)*c[1] + 2*c[0], U(z)**5 + V(z)**5)"
      ]
     },
     "execution_count": 20,
     "metadata": {},
     "output_type": "execute_result"
    }
   ],
   "source": [
    "c_unknown_sigma = Eq(\n",
    "    c[0] + c[1]*pw(z,g2,g3) + c[2]*pwp(z,g2,g3) + c[3]*pw(z,g2,g3)**2 + pw(z,g2,g3)*pwp(z,g2,g3)/2,\n",
    "    __xx.rhs.subs(*full_deg_mu0_5.args).subs(*_qq_b.args)\n",
    ")\n",
    "c_unknown_U = c_unknown_sigma.subs(Uz_sig.rhs, Uz_sig.lhs)\n",
    "c_unknown_V = (c_unknown_U.subs(z,-z)\n",
    "               .subs([(pw(-z,g2,g3), pw(z,g2,g3)), (pwp(-z,g2,g3), -pwp(z,g2,g3)), (U(-z),V(z))]))\n",
    "pw_pwp_sig5_subs = [\n",
    "    (pw(-z,g2,g3),pw(z,g2,g3)), \n",
    "    (pwp(-z,g2,g3),-pwp(z,g2,g3)), \n",
    "    (sigma(-z,g2,g3),-sigma(z,g2,g3)), \n",
    "    (sigma(-z-2*psi[n,m]/5,g2,g3),-sigma(z+2*psi[n,m]/5,g2,g3))\n",
    "]\n",
    "pw_pwp_sig5_even = Eq(\n",
    "    c_unknown_sigma.lhs + c_unknown_sigma.lhs.subs(z,-z), \n",
    "    c_unknown_sigma.rhs + c_unknown_sigma.rhs.subs(z,-z)\n",
    ").subs(pw_pwp_sig5_subs)\n",
    "\n",
    "pw_pwp_sig5_odd = Eq(\n",
    "    (c_unknown_sigma.lhs - c_unknown_sigma.lhs.subs(z,-z)), \n",
    "    c_unknown_sigma.rhs - c_unknown_sigma.rhs.subs(z,-z)\n",
    ").subs(pw_pwp_sig5_subs)\n",
    "\n",
    "c_unknown_UV_odd = Eq(c_unknown_U.lhs - c_unknown_V.lhs, c_unknown_U.rhs - c_unknown_V.rhs)\n",
    "c_unknown_UV_even = Eq(c_unknown_U.lhs + c_unknown_V.lhs, c_unknown_U.rhs + c_unknown_V.rhs)\n",
    "\n",
    "c_unknown_sigma\n",
    "c_unknown_U\n",
    "c_unknown_V\n",
    "pw_pwp_sig5_even\n",
    "pw_pwp_sig5_odd\n",
    "c_unknown_UV_odd\n",
    "c_unknown_UV_even"
   ]
  },
  {
   "cell_type": "code",
   "execution_count": 21,
   "id": "0e50a4de",
   "metadata": {},
   "outputs": [
    {
     "data": {
      "text/latex": [
       "$\\displaystyle \\operatorname{pw}{\\left(\\frac{2 {\\psi}_{n,m}}{5},g_{2},g_{3} \\right)} \\operatorname{pwp}{\\left(\\frac{2 {\\psi}_{n,m}}{5},g_{2},g_{3} \\right)} + 2 \\operatorname{pwp}{\\left(\\frac{2 {\\psi}_{n,m}}{5},g_{2},g_{3} \\right)} {c}_{2} = - \\frac{\\sigma^{5}{\\left(\\frac{4 {\\psi}_{n,m}}{5},g_{2},g_{3} \\right)} e^{- \\frac{4 \\left(\\eta_{1} n + \\eta_{3} m\\right) {\\psi}_{n,m}}{5}}}{\\sigma^{10}{\\left(\\frac{2 {\\psi}_{n,m}}{5},g_{2},g_{3} \\right)}}$"
      ],
      "text/plain": [
       "Eq(pw(2*psi[n, m]/5, g2, g3)*pwp(2*psi[n, m]/5, g2, g3) + 2*pwp(2*psi[n, m]/5, g2, g3)*c[2], -sigma(4*psi[n, m]/5, g2, g3)**5*exp(-4*(eta1*n + eta3*m)*psi[n, m]/5)/sigma(2*psi[n, m]/5, g2, g3)**10)"
      ]
     },
     "execution_count": 21,
     "metadata": {},
     "output_type": "execute_result"
    },
    {
     "data": {
      "text/latex": [
       "$\\displaystyle \\operatorname{pw}{\\left(\\frac{4 {\\psi}_{n,m}}{5},g_{2},g_{3} \\right)} \\operatorname{pwp}{\\left(\\frac{4 {\\psi}_{n,m}}{5},g_{2},g_{3} \\right)} + 2 \\operatorname{pwp}{\\left(\\frac{4 {\\psi}_{n,m}}{5},g_{2},g_{3} \\right)} {c}_{2} = \\frac{e^{\\frac{8 \\left(\\eta_{1} n + \\eta_{3} m\\right) {\\psi}_{n,m}}{5}}}{\\sigma^{5}{\\left(\\frac{4 {\\psi}_{n,m}}{5},g_{2},g_{3} \\right)}} - \\frac{\\sigma^{5}{\\left(\\frac{6 {\\psi}_{n,m}}{5},g_{2},g_{3} \\right)} e^{- \\frac{8 \\left(\\eta_{1} n + \\eta_{3} m\\right) {\\psi}_{n,m}}{5}}}{\\sigma^{5}{\\left(\\frac{2 {\\psi}_{n,m}}{5},g_{2},g_{3} \\right)} \\sigma^{5}{\\left(\\frac{4 {\\psi}_{n,m}}{5},g_{2},g_{3} \\right)}}$"
      ],
      "text/plain": [
       "Eq(pw(4*psi[n, m]/5, g2, g3)*pwp(4*psi[n, m]/5, g2, g3) + 2*pwp(4*psi[n, m]/5, g2, g3)*c[2], exp(8*(eta1*n + eta3*m)*psi[n, m]/5)/sigma(4*psi[n, m]/5, g2, g3)**5 - sigma(6*psi[n, m]/5, g2, g3)**5*exp(-8*(eta1*n + eta3*m)*psi[n, m]/5)/(sigma(2*psi[n, m]/5, g2, g3)**5*sigma(4*psi[n, m]/5, g2, g3)**5))"
      ]
     },
     "execution_count": 21,
     "metadata": {},
     "output_type": "execute_result"
    },
    {
     "data": {
      "text/latex": [
       "$\\displaystyle \\operatorname{pw}^{2}{\\left(\\frac{2 {\\psi}_{n,m}}{5},g_{2},g_{3} \\right)} {c}_{3} + \\frac{\\operatorname{pw}{\\left(\\frac{2 {\\psi}_{n,m}}{5},g_{2},g_{3} \\right)} \\operatorname{pwp}{\\left(\\frac{2 {\\psi}_{n,m}}{5},g_{2},g_{3} \\right)}}{2} + \\operatorname{pw}{\\left(\\frac{2 {\\psi}_{n,m}}{5},g_{2},g_{3} \\right)} {c}_{1} + \\operatorname{pwp}{\\left(\\frac{2 {\\psi}_{n,m}}{5},g_{2},g_{3} \\right)} {c}_{2} + {c}_{0} = 0$"
      ],
      "text/plain": [
       "Eq(pw(2*psi[n, m]/5, g2, g3)**2*c[3] + pw(2*psi[n, m]/5, g2, g3)*pwp(2*psi[n, m]/5, g2, g3)/2 + pw(2*psi[n, m]/5, g2, g3)*c[1] + pwp(2*psi[n, m]/5, g2, g3)*c[2] + c[0], 0)"
      ]
     },
     "execution_count": 21,
     "metadata": {},
     "output_type": "execute_result"
    },
    {
     "data": {
      "text/latex": [
       "$\\displaystyle \\operatorname{pw}^{2}{\\left(\\frac{4 {\\psi}_{n,m}}{5},g_{2},g_{3} \\right)} {c}_{3} + \\frac{\\operatorname{pw}{\\left(\\frac{4 {\\psi}_{n,m}}{5},g_{2},g_{3} \\right)} \\operatorname{pwp}{\\left(\\frac{4 {\\psi}_{n,m}}{5},g_{2},g_{3} \\right)}}{2} + \\operatorname{pw}{\\left(\\frac{4 {\\psi}_{n,m}}{5},g_{2},g_{3} \\right)} {c}_{1} + \\operatorname{pwp}{\\left(\\frac{4 {\\psi}_{n,m}}{5},g_{2},g_{3} \\right)} {c}_{2} + {c}_{0} = \\frac{e^{\\frac{8 \\left(\\eta_{1} n + \\eta_{3} m\\right) {\\psi}_{n,m}}{5}}}{\\sigma^{5}{\\left(\\frac{4 {\\psi}_{n,m}}{5},g_{2},g_{3} \\right)}}$"
      ],
      "text/plain": [
       "Eq(pw(4*psi[n, m]/5, g2, g3)**2*c[3] + pw(4*psi[n, m]/5, g2, g3)*pwp(4*psi[n, m]/5, g2, g3)/2 + pw(4*psi[n, m]/5, g2, g3)*c[1] + pwp(4*psi[n, m]/5, g2, g3)*c[2] + c[0], exp(8*(eta1*n + eta3*m)*psi[n, m]/5)/sigma(4*psi[n, m]/5, g2, g3)**5)"
      ]
     },
     "execution_count": 21,
     "metadata": {},
     "output_type": "execute_result"
    },
    {
     "data": {
      "text/latex": [
       "$\\displaystyle \\operatorname{pw}^{2}{\\left(\\frac{4 {\\psi}_{n,m}}{5},g_{2},g_{3} \\right)} {c}_{3} - \\frac{\\operatorname{pw}{\\left(\\frac{4 {\\psi}_{n,m}}{5},g_{2},g_{3} \\right)} \\operatorname{pwp}{\\left(\\frac{4 {\\psi}_{n,m}}{5},g_{2},g_{3} \\right)}}{2} + \\operatorname{pw}{\\left(\\frac{4 {\\psi}_{n,m}}{5},g_{2},g_{3} \\right)} {c}_{1} - \\operatorname{pwp}{\\left(\\frac{4 {\\psi}_{n,m}}{5},g_{2},g_{3} \\right)} {c}_{2} + {c}_{0} = \\frac{\\sigma^{5}{\\left(\\frac{4 {\\psi}_{n,m}}{5},g_{2},g_{3} \\right)} e^{\\frac{12 \\left(\\eta_{1} n + \\eta_{3} m\\right) {\\psi}_{n,m}}{5}}}{\\sigma^{5}{\\left(\\frac{2 {\\psi}_{n,m}}{5},g_{2},g_{3} \\right)} \\sigma^{5}{\\left(\\frac{6 {\\psi}_{n,m}}{5},g_{2},g_{3} \\right)}}$"
      ],
      "text/plain": [
       "Eq(pw(4*psi[n, m]/5, g2, g3)**2*c[3] - pw(4*psi[n, m]/5, g2, g3)*pwp(4*psi[n, m]/5, g2, g3)/2 + pw(4*psi[n, m]/5, g2, g3)*c[1] - pwp(4*psi[n, m]/5, g2, g3)*c[2] + c[0], sigma(4*psi[n, m]/5, g2, g3)**5*exp(12*(eta1*n + eta3*m)*psi[n, m]/5)/(sigma(2*psi[n, m]/5, g2, g3)**5*sigma(6*psi[n, m]/5, g2, g3)**5))"
      ]
     },
     "execution_count": 21,
     "metadata": {},
     "output_type": "execute_result"
    },
    {
     "data": {
      "text/latex": [
       "$\\displaystyle \\operatorname{pw}^{2}{\\left(\\frac{2 {\\psi}_{n,m}}{5},g_{2},g_{3} \\right)} {c}_{3} - \\frac{\\operatorname{pw}{\\left(\\frac{2 {\\psi}_{n,m}}{5},g_{2},g_{3} \\right)} \\operatorname{pwp}{\\left(\\frac{2 {\\psi}_{n,m}}{5},g_{2},g_{3} \\right)}}{2} + \\operatorname{pw}{\\left(\\frac{2 {\\psi}_{n,m}}{5},g_{2},g_{3} \\right)} {c}_{1} - \\operatorname{pwp}{\\left(\\frac{2 {\\psi}_{n,m}}{5},g_{2},g_{3} \\right)} {c}_{2} + {c}_{0} = \\frac{\\sigma^{5}{\\left(\\frac{6 {\\psi}_{n,m}}{5},g_{2},g_{3} \\right)} e^{\\frac{16 \\left(\\eta_{1} n + \\eta_{3} m\\right) {\\psi}_{n,m}}{5}}}{\\sigma^{5}{\\left(\\frac{2 {\\psi}_{n,m}}{5},g_{2},g_{3} \\right)} \\sigma^{5}{\\left(\\frac{8 {\\psi}_{n,m}}{5},g_{2},g_{3} \\right)}}$"
      ],
      "text/plain": [
       "Eq(pw(2*psi[n, m]/5, g2, g3)**2*c[3] - pw(2*psi[n, m]/5, g2, g3)*pwp(2*psi[n, m]/5, g2, g3)/2 + pw(2*psi[n, m]/5, g2, g3)*c[1] - pwp(2*psi[n, m]/5, g2, g3)*c[2] + c[0], sigma(6*psi[n, m]/5, g2, g3)**5*exp(16*(eta1*n + eta3*m)*psi[n, m]/5)/(sigma(2*psi[n, m]/5, g2, g3)**5*sigma(8*psi[n, m]/5, g2, g3)**5))"
      ]
     },
     "execution_count": 21,
     "metadata": {},
     "output_type": "execute_result"
    },
    {
     "data": {
      "text/latex": [
       "$\\displaystyle {c}_{0} = - \\operatorname{pw}^{2}{\\left(\\frac{2 {\\psi}_{n,m}}{5},g_{2},g_{3} \\right)} {c}_{3} - \\frac{\\operatorname{pw}{\\left(\\frac{2 {\\psi}_{n,m}}{5},g_{2},g_{3} \\right)} \\operatorname{pwp}{\\left(\\frac{2 {\\psi}_{n,m}}{5},g_{2},g_{3} \\right)}}{2} - \\operatorname{pw}{\\left(\\frac{2 {\\psi}_{n,m}}{5},g_{2},g_{3} \\right)} {c}_{1} - \\operatorname{pwp}{\\left(\\frac{2 {\\psi}_{n,m}}{5},g_{2},g_{3} \\right)} {c}_{2}$"
      ],
      "text/plain": [
       "Eq(c[0], -pw(2*psi[n, m]/5, g2, g3)**2*c[3] - pw(2*psi[n, m]/5, g2, g3)*pwp(2*psi[n, m]/5, g2, g3)/2 - pw(2*psi[n, m]/5, g2, g3)*c[1] - pwp(2*psi[n, m]/5, g2, g3)*c[2])"
      ]
     },
     "execution_count": 21,
     "metadata": {},
     "output_type": "execute_result"
    },
    {
     "data": {
      "text/latex": [
       "$\\displaystyle \\operatorname{pw}{\\left(\\frac{4 {\\psi}_{n,m}}{5},g_{2},g_{3} \\right)} \\operatorname{pwp}{\\left(\\frac{4 {\\psi}_{n,m}}{5},g_{2},g_{3} \\right)} + 2 \\operatorname{pwp}{\\left(\\frac{4 {\\psi}_{n,m}}{5},g_{2},g_{3} \\right)} {c}_{2} = \\frac{e^{\\frac{8 \\left(\\eta_{1} n + \\eta_{3} m\\right) {\\psi}_{n,m}}{5}}}{\\sigma^{5}{\\left(\\frac{4 {\\psi}_{n,m}}{5},g_{2},g_{3} \\right)}} - \\frac{\\sigma^{5}{\\left(\\frac{4 {\\psi}_{n,m}}{5},g_{2},g_{3} \\right)} e^{\\frac{12 \\left(\\eta_{1} n + \\eta_{3} m\\right) {\\psi}_{n,m}}{5}}}{\\sigma^{5}{\\left(\\frac{2 {\\psi}_{n,m}}{5},g_{2},g_{3} \\right)} \\sigma^{5}{\\left(\\frac{6 {\\psi}_{n,m}}{5},g_{2},g_{3} \\right)}}$"
      ],
      "text/plain": [
       "Eq(pw(4*psi[n, m]/5, g2, g3)*pwp(4*psi[n, m]/5, g2, g3) + 2*pwp(4*psi[n, m]/5, g2, g3)*c[2], exp(8*(eta1*n + eta3*m)*psi[n, m]/5)/sigma(4*psi[n, m]/5, g2, g3)**5 - sigma(4*psi[n, m]/5, g2, g3)**5*exp(12*(eta1*n + eta3*m)*psi[n, m]/5)/(sigma(2*psi[n, m]/5, g2, g3)**5*sigma(6*psi[n, m]/5, g2, g3)**5))"
      ]
     },
     "execution_count": 21,
     "metadata": {},
     "output_type": "execute_result"
    },
    {
     "data": {
      "text/latex": [
       "$\\displaystyle \\operatorname{pw}{\\left(\\frac{2 {\\psi}_{n,m}}{5},g_{2},g_{3} \\right)} \\operatorname{pwp}{\\left(\\frac{2 {\\psi}_{n,m}}{5},g_{2},g_{3} \\right)} + 2 \\operatorname{pwp}{\\left(\\frac{2 {\\psi}_{n,m}}{5},g_{2},g_{3} \\right)} {c}_{2} = - \\frac{\\sigma^{5}{\\left(\\frac{6 {\\psi}_{n,m}}{5},g_{2},g_{3} \\right)} e^{\\frac{16 \\left(\\eta_{1} n + \\eta_{3} m\\right) {\\psi}_{n,m}}{5}}}{\\sigma^{5}{\\left(\\frac{2 {\\psi}_{n,m}}{5},g_{2},g_{3} \\right)} \\sigma^{5}{\\left(\\frac{8 {\\psi}_{n,m}}{5},g_{2},g_{3} \\right)}}$"
      ],
      "text/plain": [
       "Eq(pw(2*psi[n, m]/5, g2, g3)*pwp(2*psi[n, m]/5, g2, g3) + 2*pwp(2*psi[n, m]/5, g2, g3)*c[2], -sigma(6*psi[n, m]/5, g2, g3)**5*exp(16*(eta1*n + eta3*m)*psi[n, m]/5)/(sigma(2*psi[n, m]/5, g2, g3)**5*sigma(8*psi[n, m]/5, g2, g3)**5))"
      ]
     },
     "execution_count": 21,
     "metadata": {},
     "output_type": "execute_result"
    },
    {
     "data": {
      "text/latex": [
       "$\\displaystyle 2 \\operatorname{pw}^{2}{\\left(\\frac{4 {\\psi}_{n,m}}{5},g_{2},g_{3} \\right)} {c}_{3} + 2 \\operatorname{pw}{\\left(\\frac{4 {\\psi}_{n,m}}{5},g_{2},g_{3} \\right)} {c}_{1} + 2 {c}_{0} = \\frac{e^{\\frac{8 \\left(\\eta_{1} n + \\eta_{3} m\\right) {\\psi}_{n,m}}{5}}}{\\sigma^{5}{\\left(\\frac{4 {\\psi}_{n,m}}{5},g_{2},g_{3} \\right)}} + \\frac{\\sigma^{5}{\\left(\\frac{4 {\\psi}_{n,m}}{5},g_{2},g_{3} \\right)} e^{\\frac{12 \\left(\\eta_{1} n + \\eta_{3} m\\right) {\\psi}_{n,m}}{5}}}{\\sigma^{5}{\\left(\\frac{2 {\\psi}_{n,m}}{5},g_{2},g_{3} \\right)} \\sigma^{5}{\\left(\\frac{6 {\\psi}_{n,m}}{5},g_{2},g_{3} \\right)}}$"
      ],
      "text/plain": [
       "Eq(2*pw(4*psi[n, m]/5, g2, g3)**2*c[3] + 2*pw(4*psi[n, m]/5, g2, g3)*c[1] + 2*c[0], exp(8*(eta1*n + eta3*m)*psi[n, m]/5)/sigma(4*psi[n, m]/5, g2, g3)**5 + sigma(4*psi[n, m]/5, g2, g3)**5*exp(12*(eta1*n + eta3*m)*psi[n, m]/5)/(sigma(2*psi[n, m]/5, g2, g3)**5*sigma(6*psi[n, m]/5, g2, g3)**5))"
      ]
     },
     "execution_count": 21,
     "metadata": {},
     "output_type": "execute_result"
    },
    {
     "data": {
      "text/latex": [
       "$\\displaystyle 2 \\operatorname{pw}^{2}{\\left(\\frac{2 {\\psi}_{n,m}}{5},g_{2},g_{3} \\right)} {c}_{3} + 2 \\operatorname{pw}{\\left(\\frac{2 {\\psi}_{n,m}}{5},g_{2},g_{3} \\right)} {c}_{1} + 2 {c}_{0} = \\frac{\\sigma^{5}{\\left(\\frac{6 {\\psi}_{n,m}}{5},g_{2},g_{3} \\right)} e^{\\frac{16 \\left(\\eta_{1} n + \\eta_{3} m\\right) {\\psi}_{n,m}}{5}}}{\\sigma^{5}{\\left(\\frac{2 {\\psi}_{n,m}}{5},g_{2},g_{3} \\right)} \\sigma^{5}{\\left(\\frac{8 {\\psi}_{n,m}}{5},g_{2},g_{3} \\right)}}$"
      ],
      "text/plain": [
       "Eq(2*pw(2*psi[n, m]/5, g2, g3)**2*c[3] + 2*pw(2*psi[n, m]/5, g2, g3)*c[1] + 2*c[0], sigma(6*psi[n, m]/5, g2, g3)**5*exp(16*(eta1*n + eta3*m)*psi[n, m]/5)/(sigma(2*psi[n, m]/5, g2, g3)**5*sigma(8*psi[n, m]/5, g2, g3)**5))"
      ]
     },
     "execution_count": 21,
     "metadata": {},
     "output_type": "execute_result"
    },
    {
     "data": {
      "text/latex": [
       "$\\displaystyle {c}_{2} = - \\frac{\\operatorname{pw}{\\left(\\frac{2 {\\psi}_{n,m}}{5},g_{2},g_{3} \\right)}}{2} - \\frac{\\sigma^{5}{\\left(\\frac{6 {\\psi}_{n,m}}{5},g_{2},g_{3} \\right)} e^{\\frac{16 \\eta_{1} n {\\psi}_{n,m}}{5} + \\frac{16 \\eta_{3} m {\\psi}_{n,m}}{5}}}{2 \\operatorname{pwp}{\\left(\\frac{2 {\\psi}_{n,m}}{5},g_{2},g_{3} \\right)} \\sigma^{5}{\\left(\\frac{2 {\\psi}_{n,m}}{5},g_{2},g_{3} \\right)} \\sigma^{5}{\\left(\\frac{8 {\\psi}_{n,m}}{5},g_{2},g_{3} \\right)}}$"
      ],
      "text/plain": [
       "Eq(c[2], -pw(2*psi[n, m]/5, g2, g3)/2 - sigma(6*psi[n, m]/5, g2, g3)**5*exp(16*eta1*n*psi[n, m]/5 + 16*eta3*m*psi[n, m]/5)/(2*pwp(2*psi[n, m]/5, g2, g3)*sigma(2*psi[n, m]/5, g2, g3)**5*sigma(8*psi[n, m]/5, g2, g3)**5))"
      ]
     },
     "execution_count": 21,
     "metadata": {},
     "output_type": "execute_result"
    },
    {
     "data": {
      "text/latex": [
       "$\\displaystyle {c}_{0} = - \\operatorname{pw}^{2}{\\left(\\frac{2 {\\psi}_{n,m}}{5},g_{2},g_{3} \\right)} {c}_{3} - \\operatorname{pw}{\\left(\\frac{2 {\\psi}_{n,m}}{5},g_{2},g_{3} \\right)} {c}_{1} + \\frac{\\sigma^{5}{\\left(\\frac{6 {\\psi}_{n,m}}{5},g_{2},g_{3} \\right)} e^{\\frac{16 \\eta_{1} n {\\psi}_{n,m}}{5}} e^{\\frac{16 \\eta_{3} m {\\psi}_{n,m}}{5}}}{2 \\sigma^{5}{\\left(\\frac{2 {\\psi}_{n,m}}{5},g_{2},g_{3} \\right)} \\sigma^{5}{\\left(\\frac{8 {\\psi}_{n,m}}{5},g_{2},g_{3} \\right)}}$"
      ],
      "text/plain": [
       "Eq(c[0], -pw(2*psi[n, m]/5, g2, g3)**2*c[3] - pw(2*psi[n, m]/5, g2, g3)*c[1] + sigma(6*psi[n, m]/5, g2, g3)**5*exp(16*eta1*n*psi[n, m]/5)*exp(16*eta3*m*psi[n, m]/5)/(2*sigma(2*psi[n, m]/5, g2, g3)**5*sigma(8*psi[n, m]/5, g2, g3)**5))"
      ]
     },
     "execution_count": 21,
     "metadata": {},
     "output_type": "execute_result"
    }
   ],
   "source": [
    "pw_pwp_sig5_odd.subs(z,2*psi[n,m]/5).subs(sigma(0,g2,g3),0)\n",
    "pw_pwp_sig5_odd.subs(z,4*psi[n,m]/5).subs(sigma(0,g2,g3),0)\n",
    "\n",
    "pw_pwp_even_odd_2_4_subs = [\n",
    "    (pw(-2*psi[n,m]/5,g2,g3), pw(2*psi[n,m]/5,g2,g3)),\n",
    "    (pw(-4*psi[n,m]/5,g2,g3), pw(4*psi[n,m]/5,g2,g3)),\n",
    "    (pwp(-2*psi[n,m]/5,g2,g3), -pwp(2*psi[n,m]/5,g2,g3)),\n",
    "    (pwp(-4*psi[n,m]/5,g2,g3), -pwp(4*psi[n,m]/5,g2,g3)),\n",
    "]\n",
    "c_unknown_2_psi = c_unknown_sigma.subs(z, 2*psi[n,m]/5).subs(sigma(0,g2,g3),0)\n",
    "c_unknown_4_psi = c_unknown_sigma.subs(z, 4*psi[n,m]/5)\n",
    "c_unknown_6_psi = c_unknown_sigma.subs(z, 6*psi[n,m]/5)\n",
    "c_unknown_6_psi = Eq(\n",
    "    c_unknown_6_psi.lhs.subs(6*psi[n,m]/5, -2*psi[n,m] + 6*psi[n,m]/5).subs(pw_pwp_even_odd_2_4_subs), \n",
    "    c_unknown_6_psi.rhs\n",
    ")\n",
    "c_unknown_8_psi = c_unknown_sigma.subs(z, 8*psi[n,m]/5)\n",
    "c_unknown_8_psi = Eq(\n",
    "    c_unknown_8_psi.lhs.subs(8*psi[n,m]/5, -2*psi[n,m] + 8*psi[n,m]/5).subs(pw_pwp_even_odd_2_4_subs), \n",
    "    c_unknown_8_psi.rhs\n",
    ")\n",
    "\n",
    "c_unknown_2_psi\n",
    "c_unknown_4_psi\n",
    "c_unknown_6_psi\n",
    "c_unknown_8_psi\n",
    "\n",
    "Eq(c[0], solve(c_unknown_2_psi,c[0])[0])\n",
    "c_unknown_4_min_6 = Eq(c_unknown_4_psi.lhs - c_unknown_6_psi.lhs, c_unknown_4_psi.rhs - c_unknown_6_psi.rhs)\n",
    "c_unknown_2_min_6 = Eq(c_unknown_2_psi.lhs - c_unknown_8_psi.lhs, c_unknown_2_psi.rhs - c_unknown_8_psi.rhs)\n",
    "c_unknown_4_plus_6 = Eq(c_unknown_4_psi.lhs + c_unknown_6_psi.lhs, c_unknown_4_psi.rhs + c_unknown_6_psi.rhs)\n",
    "c_unknown_2_plus_8 = Eq(c_unknown_2_psi.lhs + c_unknown_8_psi.lhs, c_unknown_2_psi.rhs + c_unknown_8_psi.rhs)\n",
    "\n",
    "c_c2_sol = Eq(c[2], solve(c_unknown_2_min_6,c[2])[0])\n",
    "c_unknown_c0_sol_c1_c3 =Eq(c[0], \n",
    "                           solve(c_unknown_2_psi,c[0])[0].subs(*c_c2_sol.args)\n",
    "                           .expand().collect([c[1],c[3]],factor)\n",
    "                          )\n",
    "\n",
    "c_unknown_4_min_6\n",
    "c_unknown_2_min_6\n",
    "c_unknown_4_plus_6\n",
    "c_unknown_2_plus_8\n",
    "c_c2_sol\n",
    "c_unknown_c0_sol_c1_c3"
   ]
  },
  {
   "cell_type": "code",
   "execution_count": 22,
   "id": "71933088",
   "metadata": {},
   "outputs": [
    {
     "data": {
      "text/latex": [
       "$\\displaystyle g_{3} {c}_{2}^{2} + \\left(- 5 \\operatorname{pw}{\\left(\\frac{2 {\\psi}_{n,m}}{5},g_{2},g_{3} \\right)} - 4 {c}_{2} + {c}_{3}^{2}\\right) \\operatorname{pw}^{4}{\\left(z,g_{2},g_{3} \\right)} + \\frac{\\left(g_{2} + 40 \\operatorname{pw}^{2}{\\left(\\frac{2 {\\psi}_{n,m}}{5},g_{2},g_{3} \\right)} + 8 {c}_{1} {c}_{3} - 16 {c}_{2}^{2}\\right) \\operatorname{pw}^{3}{\\left(z,g_{2},g_{3} \\right)}}{4} + \\left(g_{2} {c}_{2}^{2} + g_{3} {c}_{2} + 5 \\operatorname{pw}^{4}{\\left(\\frac{2 {\\psi}_{n,m}}{5},g_{2},g_{3} \\right)} + 2 {c}_{0} {c}_{1}\\right) \\operatorname{pw}{\\left(z,g_{2},g_{3} \\right)} + \\frac{\\left(4 g_{2} {c}_{2} + g_{3} - 40 \\operatorname{pw}^{3}{\\left(\\frac{2 {\\psi}_{n,m}}{5},g_{2},g_{3} \\right)} + 8 {c}_{0} {c}_{3} + 4 {c}_{1}^{2}\\right) \\operatorname{pw}^{2}{\\left(z,g_{2},g_{3} \\right)}}{4} - \\operatorname{pw}^{5}{\\left(\\frac{2 {\\psi}_{n,m}}{5},g_{2},g_{3} \\right)} + {c}_{0}^{2} = 0$"
      ],
      "text/plain": [
       "Eq(g3*c[2]**2 + (-5*pw(2*psi[n, m]/5, g2, g3) - 4*c[2] + c[3]**2)*pw(z, g2, g3)**4 + (g2 + 40*pw(2*psi[n, m]/5, g2, g3)**2 + 8*c[1]*c[3] - 16*c[2]**2)*pw(z, g2, g3)**3/4 + (g2*c[2]**2 + g3*c[2] + 5*pw(2*psi[n, m]/5, g2, g3)**4 + 2*c[0]*c[1])*pw(z, g2, g3) + (4*g2*c[2] + g3 - 40*pw(2*psi[n, m]/5, g2, g3)**3 + 8*c[0]*c[3] + 4*c[1]**2)*pw(z, g2, g3)**2/4 - pw(2*psi[n, m]/5, g2, g3)**5 + c[0]**2, 0)"
      ]
     },
     "execution_count": 22,
     "metadata": {},
     "output_type": "execute_result"
    },
    {
     "data": {
      "text/latex": [
       "$\\displaystyle {c}_{2} = - \\frac{5 \\operatorname{pw}{\\left(\\frac{2 {\\psi}_{n,m}}{5},g_{2},g_{3} \\right)}}{4} + \\frac{{c}_{3}^{2}}{4}$"
      ],
      "text/plain": [
       "Eq(c[2], -5*pw(2*psi[n, m]/5, g2, g3)/4 + c[3]**2/4)"
      ]
     },
     "execution_count": 22,
     "metadata": {},
     "output_type": "execute_result"
    },
    {
     "data": {
      "text/latex": [
       "$\\displaystyle {c}_{1} = - \\frac{g_{2}}{8 {c}_{3}} - \\frac{15 \\operatorname{pw}^{2}{\\left(\\frac{2 {\\psi}_{n,m}}{5},g_{2},g_{3} \\right)}}{8 {c}_{3}} - \\frac{5 \\operatorname{pw}{\\left(\\frac{2 {\\psi}_{n,m}}{5},g_{2},g_{3} \\right)} {c}_{3}}{4} + \\frac{{c}_{3}^{3}}{8}$"
      ],
      "text/plain": [
       "Eq(c[1], -g2/(8*c[3]) - 15*pw(2*psi[n, m]/5, g2, g3)**2/(8*c[3]) - 5*pw(2*psi[n, m]/5, g2, g3)*c[3]/4 + c[3]**3/8)"
      ]
     },
     "execution_count": 22,
     "metadata": {},
     "output_type": "execute_result"
    },
    {
     "data": {
      "text/latex": [
       "$\\displaystyle {c}_{0} = - \\frac{g_{2}^{2}}{128 {c}_{3}^{3}} - \\frac{15 g_{2} \\operatorname{pw}^{2}{\\left(\\frac{2 {\\psi}_{n,m}}{5},g_{2},g_{3} \\right)}}{64 {c}_{3}^{3}} + \\frac{15 g_{2} \\operatorname{pw}{\\left(\\frac{2 {\\psi}_{n,m}}{5},g_{2},g_{3} \\right)}}{32 {c}_{3}} - \\frac{7 g_{2} {c}_{3}}{64} - \\frac{g_{3}}{8 {c}_{3}} - \\frac{225 \\operatorname{pw}^{4}{\\left(\\frac{2 {\\psi}_{n,m}}{5},g_{2},g_{3} \\right)}}{128 {c}_{3}^{3}} + \\frac{85 \\operatorname{pw}^{3}{\\left(\\frac{2 {\\psi}_{n,m}}{5},g_{2},g_{3} \\right)}}{32 {c}_{3}} - \\frac{35 \\operatorname{pw}^{2}{\\left(\\frac{2 {\\psi}_{n,m}}{5},g_{2},g_{3} \\right)} {c}_{3}}{64} + \\frac{5 \\operatorname{pw}{\\left(\\frac{2 {\\psi}_{n,m}}{5},g_{2},g_{3} \\right)} {c}_{3}^{3}}{32} - \\frac{{c}_{3}^{5}}{128}$"
      ],
      "text/plain": [
       "Eq(c[0], -g2**2/(128*c[3]**3) - 15*g2*pw(2*psi[n, m]/5, g2, g3)**2/(64*c[3]**3) + 15*g2*pw(2*psi[n, m]/5, g2, g3)/(32*c[3]) - 7*g2*c[3]/64 - g3/(8*c[3]) - 225*pw(2*psi[n, m]/5, g2, g3)**4/(128*c[3]**3) + 85*pw(2*psi[n, m]/5, g2, g3)**3/(32*c[3]) - 35*pw(2*psi[n, m]/5, g2, g3)**2*c[3]/64 + 5*pw(2*psi[n, m]/5, g2, g3)*c[3]**3/32 - c[3]**5/128)"
      ]
     },
     "execution_count": 22,
     "metadata": {},
     "output_type": "execute_result"
    }
   ],
   "source": [
    "pw_only_g2_g3_cn = Eq(\n",
    "    c_unknown_sigma.lhs * c_unknown_sigma.lhs.subs(z,-z) - \n",
    "    c_unknown_sigma.rhs * c_unknown_sigma.rhs.subs(z,-z),\n",
    "    0\n",
    ").subs([\n",
    "    (sigma(-z,g2,g3), -sigma(z,g2,g3)), \n",
    "    (sigma(-z-2*psi[n,m]/5,g2,g3), -sigma(z + 2*psi[n,m]/5,g2,g3)),\n",
    "    (pwp(-z,g2,g3), -pwp(z,g2,g3)),\n",
    "    (pw(-z,g2,g3), pw(z,g2,g3))\n",
    "]).subs(\n",
    "    *Eq(sigma_p_identity.rhs**5, sigma_p_identity.lhs**5).subs([(y,2*psi[n,m]/5),(x,z)]).args\n",
    ").expand().subs(\n",
    "    pwp(z,g2,g3)**2, 4*pw(z,g2,g3)**3 - g2*pw(z,g2,g3) - g3\n",
    ")\n",
    "pw_only_g2_g3_cn = Eq(pw_only_g2_g3_cn.lhs.expand().collect(pw(z,g2,g3),factor), pw_only_g2_g3_cn.rhs)\n",
    "\n",
    "c2_pw_only_g2_g3 = Eq(c[2], solve(pw_only_g2_g3_cn.lhs.coeff(pw(z,g2,g3),4),c[2])[0])\n",
    "c1_pw_only_g2_g3 = Eq(\n",
    "    c[1], \n",
    "    solve(pw_only_g2_g3_cn.lhs.coeff(pw(z,g2,g3),3)\n",
    "    .subs(*c2_pw_only_g2_g3.args),c[1])[0].expand()\n",
    ")\n",
    "c0_pw_only_g2_g3 = Eq(\n",
    "    c[0], \n",
    "    solve(pw_only_g2_g3_cn.lhs.coeff(pw(z,g2,g3),2)\n",
    "    .subs([c2_pw_only_g2_g3.args, c1_pw_only_g2_g3.args]),c[0])[0].expand()\n",
    ")\n",
    "c0_pw_only_g2_g3_b = Eq(\n",
    "    c[0], \n",
    "    solve(pw_only_g2_g3_cn.lhs.coeff(pw(z,g2,g3),1)\n",
    "    .subs([c2_pw_only_g2_g3.args, c1_pw_only_g2_g3.args]),c[0])[0].expand()\n",
    ")\n",
    "c0_pw_only_g2_g3_c = Eq(\n",
    "    c[0],\n",
    "    solve(c_unknown_sigma.subs(z,2*psi[n,m]/5).subs(sigma(0,g2,g3),0),c[0])[0]\n",
    "    .subs([c2_pw_only_g2_g3.args, c1_pw_only_g2_g3.args]).expand()\n",
    ")\n",
    "\n",
    "pw_only_g2_g3_cn\n",
    "c2_pw_only_g2_g3\n",
    "c1_pw_only_g2_g3\n",
    "c0_pw_only_g2_g3\n",
    "# c0_pw_only_g2_g3_b\n",
    "# c0_pw_only_g2_g3_c\n"
   ]
  },
  {
   "cell_type": "markdown",
   "id": "aadf1bde",
   "metadata": {},
   "source": [
    "### Coefficient $c_3$"
   ]
  },
  {
   "cell_type": "code",
   "execution_count": 76,
   "id": "4371932c",
   "metadata": {},
   "outputs": [
    {
     "data": {
      "text/latex": [
       "$\\displaystyle {c}_{3} = - 2 \\eta_{1} n - 2 \\eta_{3} m + 5 \\operatorname{zw}{\\left(\\frac{2 {\\psi}_{n,m}}{5},g_{2},g_{3} \\right)}$"
      ],
      "text/plain": [
       "Eq(c[3], -2*eta1*n - 2*eta3*m + 5*zw(2*psi[n, m]/5, g2, g3))"
      ]
     },
     "execution_count": 76,
     "metadata": {},
     "output_type": "execute_result"
    },
    {
     "data": {
      "text/latex": [
       "$\\displaystyle {c}_{3} = 5 \\operatorname{zw}{\\left(\\frac{2 {\\psi}_{n,m}}{5},g_{2},g_{3} \\right)} - 2 \\operatorname{zw}{\\left({\\psi}_{n,m},g_{2},g_{3} \\right)}$"
      ],
      "text/plain": [
       "Eq(c[3], 5*zw(2*psi[n, m]/5, g2, g3) - 2*zw(psi[n, m], g2, g3))"
      ]
     },
     "execution_count": 76,
     "metadata": {},
     "output_type": "execute_result"
    }
   ],
   "source": [
    "c3_limit_a = Eq(Limit(pw(z,g2,g3)**2*sigma(z,g2,g3)**4*c[3], z,0),\n",
    "   Limit((sigma(z,g2,g3)**4*pw_pwp_sig5_even.rhs/2).expand(),z,0))\n",
    "\n",
    "c3_limit_b = Eq(Limit(pw(z,g2,g3)**2*sigma(z,g2,g3)**4*c[3], z,0),\n",
    "   Limit((sigma(z,g2,g3)**5*pw_pwp_sig5_even.rhs/z/2).expand(),z,0))\n",
    "\n",
    "G4_g2_60 = Eq(G[4], g2/60)\n",
    "lim_sigma_0 = Eq(Limit(sigma(z,g2,g3),z,0), z)\n",
    "pw_diff_2_at_zero = pw_diff_at_zero.subs(j,2).subs(*G4_g2_60.args)\n",
    "\n",
    "pw_sqrd = Eq((diff(pw(z,g2,g3),z,2).subs([_eq.args for _eq in wpk_subs])  + g2/2)/6, \n",
    "             (diff(pw(z,g2,g3),z,2) + g2/2)/6)\n",
    "pw_sqrd_nr_0 = Eq(Limit(pw_sqrd.lhs,z,0), \n",
    "                  g2/12 + Limit(6*(pw_sqrd.rhs -g2/12),z,0)/6).subs(*pw_diff_2_at_zero.args)\n",
    "\n",
    "f_diff_def = Eq(Limit((f(z) - f(-z))/z/2,z,0), limit((f(z) - f(-z))/2/z,z,0))\n",
    "\n",
    "Uzsig5_sig5 = Uz_sig.rhs**5*sigma(z,g2,g3)**5\n",
    "c3_as_diff = Eq(c[3], Derivative(Uzsig5_sig5,z).subs(z,0))\n",
    "c3_coeff_sol = (c3_as_diff.doit()\n",
    "    .replace(sigma(wild,g2,g3).diff(wild), sigma(wild,g2,g3)*zw(wild, g2, g3))\n",
    "    .doit()\n",
    "    .subs([\n",
    "        (sigma(-2*psi[n,m]/5,g2,g3), -sigma(2*psi[n,m]/5,g2,g3)),\n",
    "        (zw(-2*psi[n,m]/5,g2,g3), -zw(2*psi[n,m]/5,g2,g3))\n",
    "    ])\n",
    "    \n",
    ")\n",
    "c3_coeff_sol_b = c3_coeff_sol.subs(-2*zw_psi_nm_eta.rhs, -2*zw_psi_nm_eta.lhs)\n",
    "\n",
    "# c3_limit_a\n",
    "# lim_sigma_0\n",
    "# c3_limit_b\n",
    "# pw_sqrd\n",
    "# pw_diff_2_at_zero\n",
    "# pw_sqrd_nr_0\n",
    "# f_diff_def\n",
    "# c3_as_diff\n",
    "c3_coeff_sol\n",
    "c3_coeff_sol_b"
   ]
  },
  {
   "cell_type": "markdown",
   "id": "dd789254",
   "metadata": {},
   "source": [
    "### Coefficient $c_2$"
   ]
  },
  {
   "cell_type": "code",
   "execution_count": 24,
   "id": "aa6ce90f",
   "metadata": {},
   "outputs": [
    {
     "data": {
      "text/latex": [
       "$\\displaystyle {c}_{2} = - \\frac{\\operatorname{pw}{\\left(\\frac{2 {\\psi}_{n,m}}{5},g_{2},g_{3} \\right)}}{2} + \\frac{\\operatorname{pwp}^{2}{\\left(\\frac{2 {\\psi}_{n,m}}{5},g_{2},g_{3} \\right)}}{2 \\left(- \\operatorname{pw}{\\left(\\frac{2 {\\psi}_{n,m}}{5},g_{2},g_{3} \\right)} + \\operatorname{pw}{\\left(\\frac{4 {\\psi}_{n,m}}{5},g_{2},g_{3} \\right)}\\right)^{2}}$"
      ],
      "text/plain": [
       "Eq(c[2], -pw(2*psi[n, m]/5, g2, g3)/2 + pwp(2*psi[n, m]/5, g2, g3)**2/(2*(-pw(2*psi[n, m]/5, g2, g3) + pw(4*psi[n, m]/5, g2, g3))**2))"
      ]
     },
     "execution_count": 24,
     "metadata": {},
     "output_type": "execute_result"
    }
   ],
   "source": [
    "c2_only_odd = Eq(c[2], solve(pw_pwp_sig5_odd.subs(z,2*psi[n,m]/5).subs(sigma(0,g2,g3),0),c[2])[0])\n",
    "\n",
    "pwp_lattice_point_sigma_5 = pwp_sigma_dbl_ratio.subs(z,2*psi[n,m]/5)\n",
    "pw_2_4_5 = sigma_p_identity.subs([(x,2*psi[n,m]/5), (y,4*psi[n,m]/5)]).subs(\n",
    "    sigma(-2*psi[n,m]/5,g2,g3), -sigma(2*psi[n,m]/5,g2,g3))\n",
    "\n",
    "c2_only_odd_b = c2_only_odd.subs(*pwp_lattice_point_sigma_5.args)\n",
    "\n",
    "pwp_lattice_point_sigma_sqrd = Eq(pwp_lattice_point_sigma_5.lhs**2/pw_2_4_5.lhs**2, \n",
    "   pwp_lattice_point_sigma_5.rhs**2/pw_2_4_5.rhs**2)\n",
    "\n",
    "quasi_period_psi_nm = quasi_period.subs(2*psi_nm_def.rhs, 2*psi_nm_def.lhs)\n",
    "quasi_period_psi_nm_b = (quasi_period_psi_nm\n",
    "                       .subs(z,-psi[n, m])\n",
    "                       .subs(sigma(-psi[n,m],g2,g3), -sigma(psi[n,m],g2,g3))\n",
    "                      )\n",
    "quasi_period_psi_nm_b = Eq(1, quasi_period_psi_nm_b.rhs/quasi_period_psi_nm_b.lhs)\n",
    "quasi_period_psi_nm_6_4 = quasi_period.subs(2*psi_nm_def.rhs, 2*psi_nm_def.lhs).subs(z,-4*psi[n, m]/5)\n",
    "quasi_period_psi_nm_6_4 = Eq(\n",
    "    quasi_period_psi_nm_6_4.lhs/quasi_period_psi_nm_b.lhs, \n",
    "    (quasi_period_psi_nm_6_4.rhs/quasi_period_psi_nm_b.rhs).simplify()\n",
    "    .subs(sigma(-4*psi[n,m]/5,g2,g3), -sigma(4*psi[n,m]/5,g2,g3))\n",
    ")\n",
    "quasi_period_psi_nm_6_4_b = Eq(1, quasi_period_psi_nm_6_4.lhs**2/quasi_period_psi_nm_6_4.rhs**2)\n",
    "\n",
    "pwp_lattice_point_sigma_sqrd_b = Eq(\n",
    "    (pwp_lattice_point_sigma_sqrd.rhs*quasi_period_psi_nm_6_4_b.rhs/2).expand(), \n",
    "    pwp_lattice_point_sigma_sqrd.lhs*quasi_period_psi_nm_6_4_b.lhs/2\n",
    ")\n",
    "\n",
    "c2_coeff_sol = c2_only_odd_b.expand().subs(*pwp_lattice_point_sigma_sqrd_b.args)\n",
    "\n",
    "# pw_pwp_sig5_odd\n",
    "# c2_only_odd\n",
    "# pwp_lattice_point_sigma_5\n",
    "# pw_2_4_5\n",
    "# c2_only_odd_b\n",
    "# pwp_lattice_point_sigma_sqrd\n",
    "\n",
    "# quasi_period_psi_nm\n",
    "# quasi_period_psi_nm_b\n",
    "# quasi_period_psi_nm_6_4\n",
    "# quasi_period_psi_nm_6_4_b\n",
    "# pwp_lattice_point_sigma_sqrd_b\n",
    "c2_coeff_sol"
   ]
  },
  {
   "cell_type": "code",
   "execution_count": 25,
   "id": "b57b3ea7",
   "metadata": {},
   "outputs": [],
   "source": [
    "# num_evaluate_weierstrass(pwp_c_known.subs(mu[0], 2*omega1/5), num_subs_simple)\n",
    "# num_evaluate_weierstrass(UVz_sig.subs(z,omega1*4/5).subs(*UVz_pw.subs(z,4*omega1/5).args), num_subs_simple)\n",
    "# num_evaluate_weierstrass(pwp_c_known_deg_b, num_subs_simple)\n",
    "# num_evaluate_weierstrass(sigma_c_pw_pwp, num_subs_simple)\n",
    "# num_evaluate_weierstrass(pwp_z_UV_sig, num_subs_simple)\n",
    "# num_evaluate_weierstrass(_pwp_omega1, num_subs_simple)"
   ]
  },
  {
   "cell_type": "markdown",
   "id": "5e5115e8",
   "metadata": {},
   "source": [
    "### Coefficient $c_1$"
   ]
  },
  {
   "cell_type": "code",
   "execution_count": 26,
   "id": "d309d4e8",
   "metadata": {},
   "outputs": [
    {
     "data": {
      "text/latex": [
       "$\\displaystyle {c}_{1} = \\frac{\\left(\\operatorname{pw}{\\left(\\frac{2 {\\psi}_{n,m}}{5},g_{2},g_{3} \\right)} - \\operatorname{pw}{\\left(\\frac{4 {\\psi}_{n,m}}{5},g_{2},g_{3} \\right)}\\right)^{3}}{2 \\operatorname{pwp}{\\left(\\frac{2 {\\psi}_{n,m}}{5},g_{2},g_{3} \\right)}} + \\left(\\operatorname{pw}{\\left(\\frac{2 {\\psi}_{n,m}}{5},g_{2},g_{3} \\right)} + \\operatorname{pw}{\\left(\\frac{4 {\\psi}_{n,m}}{5},g_{2},g_{3} \\right)}\\right) \\left(2 \\eta_{1} n + 2 \\eta_{3} m - 5 \\operatorname{zw}{\\left(\\frac{2 {\\psi}_{n,m}}{5},g_{2},g_{3} \\right)}\\right) + \\frac{\\operatorname{pwp}{\\left(\\frac{2 {\\psi}_{n,m}}{5},g_{2},g_{3} \\right)}}{2} - \\frac{\\operatorname{pwp}^{3}{\\left(\\frac{2 {\\psi}_{n,m}}{5},g_{2},g_{3} \\right)}}{2 \\left(\\operatorname{pw}{\\left(\\frac{2 {\\psi}_{n,m}}{5},g_{2},g_{3} \\right)} - \\operatorname{pw}{\\left(\\frac{4 {\\psi}_{n,m}}{5},g_{2},g_{3} \\right)}\\right)^{3}}$"
      ],
      "text/plain": [
       "Eq(c[1], (pw(2*psi[n, m]/5, g2, g3) - pw(4*psi[n, m]/5, g2, g3))**3/(2*pwp(2*psi[n, m]/5, g2, g3)) + (pw(2*psi[n, m]/5, g2, g3) + pw(4*psi[n, m]/5, g2, g3))*(2*eta1*n + 2*eta3*m - 5*zw(2*psi[n, m]/5, g2, g3)) + pwp(2*psi[n, m]/5, g2, g3)/2 - pwp(2*psi[n, m]/5, g2, g3)**3/(2*(pw(2*psi[n, m]/5, g2, g3) - pw(4*psi[n, m]/5, g2, g3))**3))"
      ]
     },
     "execution_count": 26,
     "metadata": {},
     "output_type": "execute_result"
    }
   ],
   "source": [
    "c0_c1_pwp2_psi_nm_a = Eq(c[0], \n",
    "                    solve(c_unknown_sigma.subs(z,2*psi[n,m]/5).subs(sigma(0,g2,g3),0),c[0])[0]\n",
    "                    .subs(*c3_coeff_sol.args)\n",
    "                    .subs(*c2_coeff_sol.args)\n",
    "                    .expand().collect(pw(2*psi[n,m]/5,g2,g3),factor)\n",
    "                   )\n",
    "\n",
    "pw_4psi_nm = (pw_pwp_sig5_even\n",
    "    .subs(z,4*psi[n,m]/5)\n",
    "    .subs(sigma(0,g2,g3),0)\n",
    "    .subs(sigma(-6*psi[n,m]/5,g2,g3), -sigma(6*psi[n,m]/5,g2,g3))\n",
    ")\n",
    "\n",
    "c1_sol_a = (pw_4psi_nm.subs(*quasi_period_psi_nm_6_4.args)\n",
    "    .subs(*c3_coeff_sol.args)\n",
    "    .subs(*c2_coeff_sol.args)\n",
    "    .subs(*c0_c1_pwp2_psi_nm_a.args)\n",
    ")\n",
    "c1_sol_a =  Eq(c1_sol_a.lhs.collect([c[1],pwp(2*psi[n,m]/5,g2,g3)**3],factor), c1_sol_a.rhs)\n",
    "\n",
    "pw_2_4_psi_nm = (\n",
    "    sigma_p_identity\n",
    "    .subs(y,z)\n",
    "    .subs(x, 2*psi[n,m]/5)\n",
    "    .subs(z,4*psi[n,m]/5)\n",
    "    .subs(\n",
    "        sigma(-2*psi[n,m]/5,g2,g3), -sigma(2*psi[n,m]/5,g2,g3)\n",
    "    )\n",
    "    .subs(*quasi_period_psi_nm_6_4.args)\n",
    ")\n",
    "\n",
    "pwp_2_4_psi_nm = pwp_sigma_dbl_ratio.subs(z,2*psi[n,m]/5)\n",
    "pw_pwp_2_4_psi_nm = Eq(pwp_2_4_psi_nm.rhs*pw_2_4_psi_nm.rhs, pwp_2_4_psi_nm.lhs*pw_2_4_psi_nm.lhs)\n",
    "\n",
    "pw_pwp_sig_4_5_psi_nm = pwp_2_4_psi_nm.subs(\n",
    "    sigma(2*psi[n,m]/5,g2,g3), solve(pw_2_4_psi_nm, sigma(2*psi[n,m]/5,g2,g3))[0]\n",
    ")                      \n",
    "pw_pwp_sig_4_5_psi_nm = Eq(\n",
    "    -(pw_2_4_psi_nm.lhs)**4/pw_pwp_sig_4_5_psi_nm.rhs,\n",
    "    -(pw_2_4_psi_nm.lhs)**4/pw_pwp_sig_4_5_psi_nm.lhs,\n",
    ").simplify()\n",
    "\n",
    "c1_sol_b = c1_sol_a.subs([pw_pwp_2_4_psi_nm.args, pw_pwp_sig_4_5_psi_nm.args])\n",
    "c1_sol_b = Eq(c1_sol_b.lhs - c1_sol_b.lhs.subs(c[1],0), c1_sol_b.rhs - c1_sol_b.lhs.subs(c[1],0))\n",
    "c1_coeff_sol = Eq(\n",
    "    (c1_sol_b.lhs/c1_sol_b.lhs.subs(c[1],1)).simplify(), \n",
    "    (c1_sol_b.rhs/c1_sol_b.lhs.subs(c[1],1)).expand().collect(pwp(2*psi[n,m]/5,g2,g3),factor)\n",
    ")\n",
    "\n",
    "# c0_c1_pwp2_psi_nm_a\n",
    "# pw_4psi_nm\n",
    "# quasi_period_psi_nm_6_4\n",
    "# c1_sol_a\n",
    "# pw_2_4_psi_nm\n",
    "# pwp_2_4_psi_nm\n",
    "# pw_pwp_2_4_psi_nm\n",
    "# pw_pwp_sig_4_5_psi_nm\n",
    "# c1_sol_b\n",
    "c1_coeff_sol"
   ]
  },
  {
   "cell_type": "markdown",
   "id": "00f370b7",
   "metadata": {},
   "source": [
    "### Coefficient $c_0$"
   ]
  },
  {
   "cell_type": "code",
   "execution_count": 27,
   "id": "211b6dfe",
   "metadata": {
    "scrolled": true
   },
   "outputs": [
    {
     "data": {
      "text/latex": [
       "$\\displaystyle {c}_{0} = - \\frac{\\left(\\operatorname{pw}{\\left(\\frac{2 {\\psi}_{n,m}}{5},g_{2},g_{3} \\right)} - \\operatorname{pw}{\\left(\\frac{4 {\\psi}_{n,m}}{5},g_{2},g_{3} \\right)}\\right)^{3} \\operatorname{pw}{\\left(\\frac{2 {\\psi}_{n,m}}{5},g_{2},g_{3} \\right)}}{2 \\operatorname{pwp}{\\left(\\frac{2 {\\psi}_{n,m}}{5},g_{2},g_{3} \\right)}} - \\left(2 \\eta_{1} n + 2 \\eta_{3} m - 5 \\operatorname{zw}{\\left(\\frac{2 {\\psi}_{n,m}}{5},g_{2},g_{3} \\right)}\\right) \\operatorname{pw}{\\left(\\frac{2 {\\psi}_{n,m}}{5},g_{2},g_{3} \\right)} \\operatorname{pw}{\\left(\\frac{4 {\\psi}_{n,m}}{5},g_{2},g_{3} \\right)} - \\frac{\\operatorname{pw}{\\left(\\frac{2 {\\psi}_{n,m}}{5},g_{2},g_{3} \\right)} \\operatorname{pwp}{\\left(\\frac{2 {\\psi}_{n,m}}{5},g_{2},g_{3} \\right)}}{2} + \\frac{\\operatorname{pw}{\\left(\\frac{4 {\\psi}_{n,m}}{5},g_{2},g_{3} \\right)} \\operatorname{pwp}^{3}{\\left(\\frac{2 {\\psi}_{n,m}}{5},g_{2},g_{3} \\right)}}{2 \\left(\\operatorname{pw}{\\left(\\frac{2 {\\psi}_{n,m}}{5},g_{2},g_{3} \\right)} - \\operatorname{pw}{\\left(\\frac{4 {\\psi}_{n,m}}{5},g_{2},g_{3} \\right)}\\right)^{3}}$"
      ],
      "text/plain": [
       "Eq(c[0], -(pw(2*psi[n, m]/5, g2, g3) - pw(4*psi[n, m]/5, g2, g3))**3*pw(2*psi[n, m]/5, g2, g3)/(2*pwp(2*psi[n, m]/5, g2, g3)) - (2*eta1*n + 2*eta3*m - 5*zw(2*psi[n, m]/5, g2, g3))*pw(2*psi[n, m]/5, g2, g3)*pw(4*psi[n, m]/5, g2, g3) - pw(2*psi[n, m]/5, g2, g3)*pwp(2*psi[n, m]/5, g2, g3)/2 + pw(4*psi[n, m]/5, g2, g3)*pwp(2*psi[n, m]/5, g2, g3)**3/(2*(pw(2*psi[n, m]/5, g2, g3) - pw(4*psi[n, m]/5, g2, g3))**3))"
      ]
     },
     "execution_count": 27,
     "metadata": {},
     "output_type": "execute_result"
    }
   ],
   "source": [
    "c0_coeff_sol = c0_c1_pwp2_psi_nm_a.subs(*c1_coeff_sol.args)\n",
    "c0_coeff_sol = Eq(\n",
    "    c0_coeff_sol.lhs, \n",
    "    c0_coeff_sol.rhs.expand().collect(pwp(2*psi[n,m]/5,g2,g3),factor)\n",
    ")\n",
    "\n",
    "c0_coeff_sol"
   ]
  },
  {
   "cell_type": "markdown",
   "id": "c889bba5",
   "metadata": {},
   "source": [
    "## System 1: The system solved by Kronecker theta functions\n",
    "\n",
    "Two systems will be considered that conserve the quantity that stems from the curve generated by the Frobenius Stickelberger determinant at 5th order, the quantity that is considered herein for generating Hamiltonians. \n",
    "\n",
    "System 1 normalises the curve such that the derivative of the product of the two modes is the Weierstrass P function. It will be shown then that System 1 can be solved in terms of Kronecker theta functions. It will be shown that the system can be derived in two ways which we refer to as Method 1 and Method 2. Method 1 uses the defining differential equation of the Kronecker theta function and an expression for Weierstrass P in terms of the modes as a coupling term. Method 2 uses a Hamiltonian based on the normalised Frobenius Sticklberger determinant to derive the system. The study of System 1 is complete and agreement with numerical solutions is demonstrated.\n",
    "\n",
    "A word of caution in System 1, we should be aware that by fixing the value of the constant term, or rather the value of the Hamiltonian, we are describing a system in which we have given up some freedom in the initial conditions. If the system parameters are fixed and the value of the Hamiltonian is fixed, then if we pick say $U(0)$ then we lose the freedom to arbitrarily pick $V(0)$ as its value must already be decided by the fixed Hamiltonian. This was not an issue at lower order systems where we were free to pick arbitrary launch conditions and still solve in terms of elliptic functions. When we construct a Hamiltonian set to a non-fixed value it yields hyperelliptic functions but this is not explored further herein.\n",
    "\n",
    "\n",
    "In System 2 it is shown that the simpler polynomial Hamiltonian without normalisation leads to pseudo-hyperelliptic functions, albeit with a repeated root. This is a system of considerable interest and it is intimately related to System 1 and possibly related to the Carlson symmetric $R_j$ elliptic integral. The study of System 2 is ongoing and the complete solutions are not yet obtained, although some insights are obtained."
   ]
  },
  {
   "cell_type": "markdown",
   "id": "4d8aca85",
   "metadata": {},
   "source": [
    "### Method 1: Deriving the dynamic system from the differential equation for the Kronecker theta function and coupling via Weierstrass P Prime (no Hamiltonian method)\n",
    "\n",
    "By deriving expressions for the even and odd parts of the determinant identity, it is possible to isolate an expression for Weierstrass P Prime in terms of $U(z),V(z)$. This expression can be used as a substitution in the general expression for the logarithmic derivative of a Kronecker theta function to build a coupled system. In general, the logarithmic derivative of the Kronecker theta function is given by:"
   ]
  },
  {
   "cell_type": "code",
   "execution_count": 28,
   "id": "f3c4deb3",
   "metadata": {},
   "outputs": [
    {
     "data": {
      "text/latex": [
       "$\\displaystyle \\frac{\\partial}{\\partial z} \\log{\\left(\\frac{\\sigma{\\left(x + z,g_{2},g_{3} \\right)}}{\\sigma{\\left(x,g_{2},g_{3} \\right)} \\sigma{\\left(z,g_{2},g_{3} \\right)}} \\right)} = \\operatorname{zw}{\\left(x,g_{2},g_{3} \\right)} + \\frac{\\operatorname{pwp}{\\left(x,g_{2},g_{3} \\right)} - \\operatorname{pwp}{\\left(z,g_{2},g_{3} \\right)}}{2 \\operatorname{pw}{\\left(x,g_{2},g_{3} \\right)} - 2 \\operatorname{pw}{\\left(z,g_{2},g_{3} \\right)}}$"
      ],
      "text/plain": [
       "Eq(Derivative(log(sigma(x + z, g2, g3)/(sigma(x, g2, g3)*sigma(z, g2, g3))), z), zw(x, g2, g3) + (pwp(x, g2, g3) - pwp(z, g2, g3))/(2*pw(x, g2, g3) - 2*pw(z, g2, g3)))"
      ]
     },
     "execution_count": 28,
     "metadata": {},
     "output_type": "execute_result"
    },
    {
     "data": {
      "text/latex": [
       "$\\displaystyle \\frac{\\partial}{\\partial z} \\log{\\left(\\frac{\\sigma{\\left(- x + z,g_{2},g_{3} \\right)}}{\\sigma{\\left(x,g_{2},g_{3} \\right)} \\sigma{\\left(z,g_{2},g_{3} \\right)}} \\right)} = - \\operatorname{zw}{\\left(x,g_{2},g_{3} \\right)} + \\frac{- \\operatorname{pwp}{\\left(x,g_{2},g_{3} \\right)} - \\operatorname{pwp}{\\left(z,g_{2},g_{3} \\right)}}{2 \\operatorname{pw}{\\left(x,g_{2},g_{3} \\right)} - 2 \\operatorname{pw}{\\left(z,g_{2},g_{3} \\right)}}$"
      ],
      "text/plain": [
       "Eq(Derivative(log(sigma(-x + z, g2, g3)/(sigma(x, g2, g3)*sigma(z, g2, g3))), z), -zw(x, g2, g3) + (-pwp(x, g2, g3) - pwp(z, g2, g3))/(2*pw(x, g2, g3) - 2*pw(z, g2, g3)))"
      ]
     },
     "execution_count": 28,
     "metadata": {},
     "output_type": "execute_result"
    },
    {
     "data": {
      "text/latex": [
       "$\\displaystyle \\frac{\\partial}{\\partial z} \\log{\\left(\\frac{\\sigma{\\left(x + z,g_{2},g_{3} \\right)} e^{- z \\operatorname{zw}{\\left(x,g_{2},g_{3} \\right)}}}{\\sigma{\\left(x,g_{2},g_{3} \\right)} \\sigma{\\left(z,g_{2},g_{3} \\right)}} \\right)} = \\frac{\\operatorname{pwp}{\\left(x,g_{2},g_{3} \\right)} - \\operatorname{pwp}{\\left(z,g_{2},g_{3} \\right)}}{2 \\operatorname{pw}{\\left(x,g_{2},g_{3} \\right)} - 2 \\operatorname{pw}{\\left(z,g_{2},g_{3} \\right)}}$"
      ],
      "text/plain": [
       "Eq(Derivative(log(sigma(x + z, g2, g3)*exp(-z*zw(x, g2, g3))/(sigma(x, g2, g3)*sigma(z, g2, g3))), z), (pwp(x, g2, g3) - pwp(z, g2, g3))/(2*pw(x, g2, g3) - 2*pw(z, g2, g3)))"
      ]
     },
     "execution_count": 28,
     "metadata": {},
     "output_type": "execute_result"
    },
    {
     "data": {
      "text/latex": [
       "$\\displaystyle \\frac{\\partial}{\\partial z} \\log{\\left(\\frac{\\sigma{\\left(- x + z,g_{2},g_{3} \\right)} e^{z \\operatorname{zw}{\\left(x,g_{2},g_{3} \\right)}}}{\\sigma{\\left(x,g_{2},g_{3} \\right)} \\sigma{\\left(z,g_{2},g_{3} \\right)}} \\right)} = \\frac{- \\operatorname{pwp}{\\left(x,g_{2},g_{3} \\right)} - \\operatorname{pwp}{\\left(z,g_{2},g_{3} \\right)}}{2 \\operatorname{pw}{\\left(x,g_{2},g_{3} \\right)} - 2 \\operatorname{pw}{\\left(z,g_{2},g_{3} \\right)}}$"
      ],
      "text/plain": [
       "Eq(Derivative(log(sigma(-x + z, g2, g3)*exp(z*zw(x, g2, g3))/(sigma(x, g2, g3)*sigma(z, g2, g3))), z), (-pwp(x, g2, g3) - pwp(z, g2, g3))/(2*pw(x, g2, g3) - 2*pw(z, g2, g3)))"
      ]
     },
     "execution_count": 28,
     "metadata": {},
     "output_type": "execute_result"
    }
   ],
   "source": [
    "log_kron_diff = Eq(Derivative(log(sigma(x + z, g2, g3)/(sigma(x, g2, g3)*sigma(z, g2, g3))), z),\n",
    " zw(x, g2, g3) + (pwp(x, g2, g3) - pwp(z, g2, g3))/(2*(pw(x, g2, g3) - pw(z, g2, g3)))\n",
    "  )\n",
    "\n",
    "# Note: the minus sign is ignored inside the log as the derivative would kill the 2*I*pi anyway\n",
    "log_kron_diff_conj = log_kron_diff.subs(x,-x).subs([\n",
    "    (pwp(-x,g2,g3), -pwp(x,g2,g3)), (pw(-x,g2,g3), pw(x,g2,g3)), (zw(-x,g2,g3), -zw(x,g2,g3))\n",
    "]).subs(sigma(-x,g2,g3), sigma(x,g2,g3))\n",
    "\n",
    "log_diff_kron2 = Eq(\n",
    "    Derivative(log(sigma(x + z, g2, g3)/(sigma(x, g2, g3)*sigma(z, g2, g3))*exp(-zw(x, g2, g3)*z)), z),\n",
    "    (pwp(x, g2, g3) - pwp(z, g2, g3))/(2*pw(x, g2, g3) - 2*pw(z, g2, g3))\n",
    ")\n",
    "\n",
    "log_diff_kron2_conj = Eq(\n",
    "    Derivative(log(sigma(-x + z, g2, g3)/(sigma(x, g2, g3)*sigma(z, g2, g3))*exp(zw(x, g2, g3)*z)), z),\n",
    "    (-pwp(x, g2, g3) - pwp(z, g2, g3))/(2*pw(x, g2, g3) - 2*pw(z, g2, g3))\n",
    ")\n",
    "\n",
    "log_kron_diff\n",
    "log_kron_diff_conj\n",
    "\n",
    "log_diff_kron2\n",
    "log_diff_kron2_conj"
   ]
  },
  {
   "cell_type": "markdown",
   "id": "7ac1ad7a",
   "metadata": {},
   "source": [
    "By equating the odd parts of the determinant expression it can be shown that:"
   ]
  },
  {
   "cell_type": "code",
   "execution_count": 29,
   "id": "7542513c",
   "metadata": {},
   "outputs": [
    {
     "data": {
      "text/latex": [
       "$\\displaystyle \\kappa = \\frac{\\operatorname{pwp}^{2}{\\left(\\frac{2 {\\psi}_{n,m}}{5},g_{2},g_{3} \\right)}}{\\left(\\operatorname{pw}{\\left(\\frac{2 {\\psi}_{n,m}}{5},g_{2},g_{3} \\right)} - \\operatorname{pw}{\\left(\\frac{4 {\\psi}_{n,m}}{5},g_{2},g_{3} \\right)}\\right)^{2}}$"
      ],
      "text/plain": [
       "Eq(kappa, pwp(2*psi[n, m]/5, g2, g3)**2/(pw(2*psi[n, m]/5, g2, g3) - pw(4*psi[n, m]/5, g2, g3))**2)"
      ]
     },
     "execution_count": 29,
     "metadata": {},
     "output_type": "execute_result"
    },
    {
     "data": {
      "text/latex": [
       "$\\displaystyle 2 U^{5}{\\left(z \\right)} - 2 V^{5}{\\left(z \\right)} = 2 \\left(- U{\\left(z \\right)} V{\\left(z \\right)} + \\kappa\\right) \\operatorname{pwp}{\\left(z,g_{2},g_{3} \\right)}$"
      ],
      "text/plain": [
       "Eq(2*U(z)**5 - 2*V(z)**5, 2*(-U(z)*V(z) + kappa)*pwp(z, g2, g3))"
      ]
     },
     "execution_count": 29,
     "metadata": {},
     "output_type": "execute_result"
    },
    {
     "data": {
      "text/latex": [
       "$\\displaystyle \\operatorname{pwp}{\\left(z,g_{2},g_{3} \\right)} = \\frac{- U^{5}{\\left(z \\right)} + V^{5}{\\left(z \\right)}}{U{\\left(z \\right)} V{\\left(z \\right)} - \\kappa}$"
      ],
      "text/plain": [
       "Eq(pwp(z, g2, g3), (-U(z)**5 + V(z)**5)/(U(z)*V(z) - kappa))"
      ]
     },
     "execution_count": 29,
     "metadata": {},
     "output_type": "execute_result"
    }
   ],
   "source": [
    "sigma_Uz_sub = Eq(sigma(-2*psi[n,m]/5 + z, g2, g3), solve(Uz_sig,sigma(-2*psi[n,m]/5 + z, g2, g3))[0])\n",
    "sigma_Vz_sub = Eq(sigma(2*psi[n,m]/5 + z, g2, g3), solve(Vz_sig,sigma(2*psi[n,m]/5 + z, g2, g3))[0])\n",
    "\n",
    "kappa_UV = Eq(kappa, pwp(2*psi[n,m]/5, g2, g3)**2/U(4*psi[n,m]/5)**2/V(4*psi[n,m]/5)**2)\n",
    "kappa_pw = kappa_UV.subs(*UVz_pw.subs(z,4*psi[n,m]/5).args)\n",
    "\n",
    "UV_pwp_z = pw_pwp_sig5_odd.subs([\n",
    "    sigma_Uz_sub.args, \n",
    "    sigma_Vz_sub.args, \n",
    "    (pw(z,g2,g3), solve(UVz_pw, pw(z,g2,g3))[0]),\n",
    "    (pwp(2*psi[n,m]/5, g2, g3)**2, solve(kappa_pw, pwp(2*psi[n,m]/5, g2, g3)**2)[0]),\n",
    "    \n",
    "]).expand().subs(*c2_coeff_sol.args).subs(\n",
    "    pwp(2*psi[n,m]/5, g2, g3)**2, solve(kappa_pw, pwp(2*psi[n,m]/5, g2, g3)**2)[0]\n",
    ").simplify()\n",
    "\n",
    "UV_pwp_z = Eq(UV_pwp_z.lhs*2, UV_pwp_z.rhs*2)\n",
    "pwp_z_UV = Eq(pwp(z,g2,g3), (solve(UV_pwp_z, pwp(z,g2,g3))[0]).collect([U(z), V(z)]))\n",
    "\n",
    "# kappa_UV\n",
    "kappa_pw\n",
    "# sigma_Uz_sub\n",
    "UV_pwp_z\n",
    "pwp_z_UV"
   ]
  },
  {
   "cell_type": "markdown",
   "id": "e8c601fd",
   "metadata": {},
   "source": [
    "By inserting that expression for Weierstrass P Prime into the the logarithmic derivative of the Kronecker theta function, the following coupled system is obtained:"
   ]
  },
  {
   "cell_type": "code",
   "execution_count": 30,
   "id": "b4027c23",
   "metadata": {},
   "outputs": [
    {
     "data": {
      "text/latex": [
       "$\\displaystyle \\frac{d}{d z} U{\\left(z \\right)} = \\frac{2 \\eta_{1} n U{\\left(z \\right)}}{5} + \\frac{2 \\eta_{3} m U{\\left(z \\right)}}{5} - U{\\left(z \\right)} \\operatorname{zw}{\\left(\\frac{2 {\\psi}_{n,m}}{5},g_{2},g_{3} \\right)} - \\frac{\\operatorname{pwp}{\\left(\\frac{2 {\\psi}_{n,m}}{5},g_{2},g_{3} \\right)}}{2 V{\\left(z \\right)}} - \\frac{U{\\left(z \\right)} V^{4}{\\left(z \\right)}}{2 U^{2}{\\left(z \\right)} V{\\left(z \\right)} - 2 U{\\left(z \\right)} \\kappa} + \\frac{U^{5}{\\left(z \\right)}}{2 U{\\left(z \\right)} V^{2}{\\left(z \\right)} - 2 V{\\left(z \\right)} \\kappa}$"
      ],
      "text/plain": [
       "Eq(Derivative(U(z), z), 2*eta1*n*U(z)/5 + 2*eta3*m*U(z)/5 - U(z)*zw(2*psi[n, m]/5, g2, g3) - pwp(2*psi[n, m]/5, g2, g3)/(2*V(z)) - U(z)*V(z)**4/(2*U(z)**2*V(z) - 2*U(z)*kappa) + U(z)**5/(2*U(z)*V(z)**2 - 2*V(z)*kappa))"
      ]
     },
     "execution_count": 30,
     "metadata": {},
     "output_type": "execute_result"
    },
    {
     "data": {
      "text/latex": [
       "$\\displaystyle \\frac{d}{d z} V{\\left(z \\right)} = - \\frac{2 \\eta_{1} n V{\\left(z \\right)}}{5} - \\frac{2 \\eta_{3} m V{\\left(z \\right)}}{5} + V{\\left(z \\right)} \\operatorname{zw}{\\left(\\frac{2 {\\psi}_{n,m}}{5},g_{2},g_{3} \\right)} + \\frac{\\operatorname{pwp}{\\left(\\frac{2 {\\psi}_{n,m}}{5},g_{2},g_{3} \\right)}}{2 U{\\left(z \\right)}} - \\frac{V^{5}{\\left(z \\right)}}{2 U^{2}{\\left(z \\right)} V{\\left(z \\right)} - 2 U{\\left(z \\right)} \\kappa} + \\frac{U^{4}{\\left(z \\right)} V{\\left(z \\right)}}{2 U{\\left(z \\right)} V^{2}{\\left(z \\right)} - 2 V{\\left(z \\right)} \\kappa}$"
      ],
      "text/plain": [
       "Eq(Derivative(V(z), z), -2*eta1*n*V(z)/5 - 2*eta3*m*V(z)/5 + V(z)*zw(2*psi[n, m]/5, g2, g3) + pwp(2*psi[n, m]/5, g2, g3)/(2*U(z)) - V(z)**5/(2*U(z)**2*V(z) - 2*U(z)*kappa) + U(z)**4*V(z)/(2*U(z)*V(z)**2 - 2*V(z)*kappa))"
      ]
     },
     "execution_count": 30,
     "metadata": {},
     "output_type": "execute_result"
    },
    {
     "data": {
      "text/latex": [
       "$\\displaystyle U{\\left(z \\right)} \\frac{d}{d z} V{\\left(z \\right)} + V{\\left(z \\right)} \\frac{d}{d z} U{\\left(z \\right)} = \\frac{U^{5}{\\left(z \\right)} - V^{5}{\\left(z \\right)}}{U{\\left(z \\right)} V{\\left(z \\right)} - \\kappa}$"
      ],
      "text/plain": [
       "Eq(U(z)*Derivative(V(z), z) + V(z)*Derivative(U(z), z), (U(z)**5 - V(z)**5)/(U(z)*V(z) - kappa))"
      ]
     },
     "execution_count": 30,
     "metadata": {},
     "output_type": "execute_result"
    },
    {
     "data": {
      "text/latex": [
       "$\\displaystyle U{\\left(z \\right)} V{\\left(z \\right)} = - \\operatorname{pw}{\\left(z,g_{2},g_{3} \\right)} + \\operatorname{pw}{\\left(\\frac{2 {\\psi}_{n,m}}{5},g_{2},g_{3} \\right)}$"
      ],
      "text/plain": [
       "Eq(U(z)*V(z), -pw(z, g2, g3) + pw(2*psi[n, m]/5, g2, g3))"
      ]
     },
     "execution_count": 30,
     "metadata": {},
     "output_type": "execute_result"
    },
    {
     "data": {
      "text/latex": [
       "$\\displaystyle U{\\left(z \\right)} \\frac{d}{d z} V{\\left(z \\right)} + V{\\left(z \\right)} \\frac{d}{d z} U{\\left(z \\right)} = - \\operatorname{pwp}{\\left(z,g_{2},g_{3} \\right)}$"
      ],
      "text/plain": [
       "Eq(U(z)*Derivative(V(z), z) + V(z)*Derivative(U(z), z), -pwp(z, g2, g3))"
      ]
     },
     "execution_count": 30,
     "metadata": {},
     "output_type": "execute_result"
    }
   ],
   "source": [
    "log_kron_diff_U = log_kron_diff_conj.subs(x, 2*psi[n,m]/5).subs([\n",
    "    sigma_Uz_sub.args, \n",
    "    (2*UVz_pw.rhs, 2*UVz_pw.lhs),\n",
    "    pwp_z_UV.args\n",
    "]).doit().expand()\n",
    "psi_eta_nm = 2*eta1*n/5 + 2*eta3*m/5\n",
    "log_kron_diff_U = Eq((log_kron_diff_U.lhs + psi_eta_nm)*U(z), ((log_kron_diff_U.rhs + psi_eta_nm)*U(z)).expand())\n",
    "\n",
    "log_kron_diff_V = log_kron_diff.subs(x, 2*psi[n,m]/5).subs([\n",
    "    sigma_Vz_sub.args, \n",
    "    (2*UVz_pw.rhs, 2*UVz_pw.lhs),\n",
    "    pwp_z_UV.args\n",
    "]).doit().expand()\n",
    "log_kron_diff_V = Eq((log_kron_diff_V.lhs - psi_eta_nm)*V(z), ((log_kron_diff_V.rhs - psi_eta_nm)*V(z)).expand())\n",
    "\n",
    "dUV_U5_V5 = Eq(\n",
    "    log_kron_diff_U.lhs*V(z) + log_kron_diff_V.lhs*U(z),\n",
    "    ((log_kron_diff_U.rhs*V(z) + log_kron_diff_V.rhs*U(z)).expand()).simplify()\n",
    ")\n",
    "\n",
    "log_kron_diff_U\n",
    "log_kron_diff_V\n",
    "dUV_U5_V5\n",
    "\n",
    "UVz_pw\n",
    "\n",
    "Eq(\n",
    "    log_kron_diff_U.lhs*V(z) + log_kron_diff_V.lhs*U(z),\n",
    "    ((log_kron_diff_U.rhs*V(z) + log_kron_diff_V.rhs*U(z)).expand() + pwp_z_UV.rhs - pwp_z_UV.lhs).simplify()\n",
    ")"
   ]
  },
  {
   "cell_type": "markdown",
   "id": "fadaf515",
   "metadata": {},
   "source": [
    "#### Simplifying the coefficients to express them as rational functions of just two parameters\n",
    "\n",
    "By isolating an expression involving only even functions of $z$, it is possible to replace $\\mathrm{pw}(z,g_2,g_3)$ with $U(z),V(z)$."
   ]
  },
  {
   "cell_type": "code",
   "execution_count": 31,
   "id": "4e35c88b",
   "metadata": {},
   "outputs": [
    {
     "data": {
      "text/latex": [
       "$\\displaystyle U{\\left(z \\right)} V{\\left(z \\right)} = - \\operatorname{pw}{\\left(z,g_{2},g_{3} \\right)} + \\operatorname{pw}{\\left(\\frac{2 {\\psi}_{n,m}}{5},g_{2},g_{3} \\right)}$"
      ],
      "text/plain": [
       "Eq(U(z)*V(z), -pw(z, g2, g3) + pw(2*psi[n, m]/5, g2, g3))"
      ]
     },
     "execution_count": 31,
     "metadata": {},
     "output_type": "execute_result"
    },
    {
     "data": {
      "text/latex": [
       "$\\displaystyle 2 {c}_{3} = {d}_{3}$"
      ],
      "text/plain": [
       "Eq(2*c[3], d[3])"
      ]
     },
     "execution_count": 31,
     "metadata": {},
     "output_type": "execute_result"
    },
    {
     "data": {
      "text/latex": [
       "$\\displaystyle - 4 \\operatorname{pw}{\\left(\\frac{2 {\\psi}_{n,m}}{5},g_{2},g_{3} \\right)} {c}_{3} - 2 {c}_{1} = {d}_{1}$"
      ],
      "text/plain": [
       "Eq(-4*pw(2*psi[n, m]/5, g2, g3)*c[3] - 2*c[1], d[1])"
      ]
     },
     "execution_count": 31,
     "metadata": {},
     "output_type": "execute_result"
    },
    {
     "data": {
      "text/latex": [
       "$\\displaystyle 2 \\operatorname{pw}^{2}{\\left(\\frac{2 {\\psi}_{n,m}}{5},g_{2},g_{3} \\right)} {c}_{3} + 2 \\operatorname{pw}{\\left(\\frac{2 {\\psi}_{n,m}}{5},g_{2},g_{3} \\right)} {c}_{1} + 2 {c}_{0} = {d}_{0}$"
      ],
      "text/plain": [
       "Eq(2*pw(2*psi[n, m]/5, g2, g3)**2*c[3] + 2*pw(2*psi[n, m]/5, g2, g3)*c[1] + 2*c[0], d[0])"
      ]
     },
     "execution_count": 31,
     "metadata": {},
     "output_type": "execute_result"
    },
    {
     "data": {
      "text/latex": [
       "$\\displaystyle {d}_{0} = - \\frac{\\operatorname{pwp}^{3}{\\left(\\frac{2 {\\psi}_{n,m}}{5},g_{2},g_{3} \\right)}}{\\left(\\operatorname{pw}{\\left(\\frac{2 {\\psi}_{n,m}}{5},g_{2},g_{3} \\right)} - \\operatorname{pw}{\\left(\\frac{4 {\\psi}_{n,m}}{5},g_{2},g_{3} \\right)}\\right)^{2}}$"
      ],
      "text/plain": [
       "Eq(d[0], -pwp(2*psi[n, m]/5, g2, g3)**3/(pw(2*psi[n, m]/5, g2, g3) - pw(4*psi[n, m]/5, g2, g3))**2)"
      ]
     },
     "execution_count": 31,
     "metadata": {},
     "output_type": "execute_result"
    },
    {
     "data": {
      "text/latex": [
       "$\\displaystyle {d}_{1} = - \\frac{\\left(\\operatorname{pw}{\\left(\\frac{2 {\\psi}_{n,m}}{5},g_{2},g_{3} \\right)} - \\operatorname{pw}{\\left(\\frac{4 {\\psi}_{n,m}}{5},g_{2},g_{3} \\right)}\\right)^{3}}{\\operatorname{pwp}{\\left(\\frac{2 {\\psi}_{n,m}}{5},g_{2},g_{3} \\right)}} + 2 \\left(\\operatorname{pw}{\\left(\\frac{2 {\\psi}_{n,m}}{5},g_{2},g_{3} \\right)} - \\operatorname{pw}{\\left(\\frac{4 {\\psi}_{n,m}}{5},g_{2},g_{3} \\right)}\\right) \\left(2 \\eta_{1} n + 2 \\eta_{3} m - 5 \\operatorname{zw}{\\left(\\frac{2 {\\psi}_{n,m}}{5},g_{2},g_{3} \\right)}\\right) - \\operatorname{pwp}{\\left(\\frac{2 {\\psi}_{n,m}}{5},g_{2},g_{3} \\right)} + \\frac{\\operatorname{pwp}^{3}{\\left(\\frac{2 {\\psi}_{n,m}}{5},g_{2},g_{3} \\right)}}{\\left(\\operatorname{pw}{\\left(\\frac{2 {\\psi}_{n,m}}{5},g_{2},g_{3} \\right)} - \\operatorname{pw}{\\left(\\frac{4 {\\psi}_{n,m}}{5},g_{2},g_{3} \\right)}\\right)^{3}}$"
      ],
      "text/plain": [
       "Eq(d[1], -(pw(2*psi[n, m]/5, g2, g3) - pw(4*psi[n, m]/5, g2, g3))**3/pwp(2*psi[n, m]/5, g2, g3) + 2*(pw(2*psi[n, m]/5, g2, g3) - pw(4*psi[n, m]/5, g2, g3))*(2*eta1*n + 2*eta3*m - 5*zw(2*psi[n, m]/5, g2, g3)) - pwp(2*psi[n, m]/5, g2, g3) + pwp(2*psi[n, m]/5, g2, g3)**3/(pw(2*psi[n, m]/5, g2, g3) - pw(4*psi[n, m]/5, g2, g3))**3)"
      ]
     },
     "execution_count": 31,
     "metadata": {},
     "output_type": "execute_result"
    },
    {
     "data": {
      "text/latex": [
       "$\\displaystyle {d}_{3} = - 4 \\eta_{1} n - 4 \\eta_{3} m + 10 \\operatorname{zw}{\\left(\\frac{2 {\\psi}_{n,m}}{5},g_{2},g_{3} \\right)}$"
      ],
      "text/plain": [
       "Eq(d[3], -4*eta1*n - 4*eta3*m + 10*zw(2*psi[n, m]/5, g2, g3))"
      ]
     },
     "execution_count": 31,
     "metadata": {},
     "output_type": "execute_result"
    },
    {
     "data": {
      "text/latex": [
       "$\\displaystyle {d}_{0} = U^{5}{\\left(z \\right)} - U^{2}{\\left(z \\right)} V^{2}{\\left(z \\right)} {d}_{3} - U{\\left(z \\right)} V{\\left(z \\right)} {d}_{1} + V^{5}{\\left(z \\right)}$"
      ],
      "text/plain": [
       "Eq(d[0], U(z)**5 - U(z)**2*V(z)**2*d[3] - U(z)*V(z)*d[1] + V(z)**5)"
      ]
     },
     "execution_count": 31,
     "metadata": {},
     "output_type": "execute_result"
    }
   ],
   "source": [
    "pw_pwp_sig5_even_UV = (c_unknown_UV_even\n",
    "                       .subs([(Uz_sig.rhs, Uz_sig.lhs),(Vz_sig.rhs, Vz_sig.lhs)])\n",
    "                       .subs(pw(z,g2,g3), solve(UVz_pw,pw(z,g2,g3))[0])\n",
    "                      )\n",
    "pw_pwp_sig5_even_UV = Eq(pw_pwp_sig5_even_UV.lhs.expand().collect(U(z)*V(z)), pw_pwp_sig5_even_UV.rhs)\n",
    "\n",
    "d3_c_UV = Eq(pw_pwp_sig5_even_UV.lhs.coeff(U(z)*V(z),2),d[3])\n",
    "d1_c_UV = Eq(pw_pwp_sig5_even_UV.lhs.coeff(U(z)*V(z),1),d[1])\n",
    "d0_c_UV = Eq(pw_pwp_sig5_even_UV.lhs.subs(U(z)*V(z),0), d[0])\n",
    "\n",
    "pw_pwp_sig5_even_UV_d = pw_pwp_sig5_even_UV.subs([d0_c_UV.args, d1_c_UV.args, d3_c_UV.args])\n",
    "pw_pwp_sig5_even_UV_d = Eq(d[0], pw_pwp_sig5_even_UV_d.rhs - pw_pwp_sig5_even_UV_d.lhs + d[0])\n",
    "\n",
    "d3_pw_pwp = Eq(d3_c_UV.rhs, d3_c_UV.lhs.subs(*c3_coeff_sol.args))\n",
    "d1_pw_pwp = Eq(d1_c_UV.rhs, \n",
    "   d1_c_UV.subs([c1_coeff_sol.args, c3_coeff_sol.args]).lhs\n",
    "   .expand().collect(pwp(2*psi[n,m]/5,g2,g3),factor)\n",
    "  )\n",
    "d0_pw_pwp = Eq(d0_c_UV.rhs, \n",
    "   d0_c_UV.subs([c0_coeff_sol.args, c1_coeff_sol.args, c3_coeff_sol.args, c2_coeff_sol.args]).lhs\n",
    "   .expand().collect(pwp(2*psi[n,m]/5,g2,g3),factor)\n",
    "  )\n",
    "\n",
    "\n",
    "UVz_pw\n",
    "d3_c_UV\n",
    "d1_c_UV\n",
    "d0_c_UV\n",
    "\n",
    "d0_pw_pwp\n",
    "d1_pw_pwp\n",
    "d3_pw_pwp\n",
    "\n",
    "pw_pwp_sig5_even_UV_d"
   ]
  },
  {
   "cell_type": "markdown",
   "id": "80aec101",
   "metadata": {},
   "source": [
    "By differentiating the expression for $d_0$ w.r.t $z$ and then using the differential equations for $U(z),V(z)$ derived earlier, it is possible to show the following interesting identity relating the Weierstrass zeta terms to Weierstrass P and P Prime:"
   ]
  },
  {
   "cell_type": "code",
   "execution_count": 32,
   "id": "c16695c2",
   "metadata": {
    "scrolled": false
   },
   "outputs": [
    {
     "data": {
      "text/latex": [
       "$\\displaystyle {d}_{0} = U^{5}{\\left(z \\right)} - U^{2}{\\left(z \\right)} V^{2}{\\left(z \\right)} {d}_{3} - U{\\left(z \\right)} V{\\left(z \\right)} {d}_{1} + V^{5}{\\left(z \\right)}$"
      ],
      "text/plain": [
       "Eq(d[0], U(z)**5 - U(z)**2*V(z)**2*d[3] - U(z)*V(z)*d[1] + V(z)**5)"
      ]
     },
     "execution_count": 32,
     "metadata": {},
     "output_type": "execute_result"
    },
    {
     "data": {
      "text/latex": [
       "$\\displaystyle 2 \\cdot \\left(2 \\eta_{1} n + 2 \\eta_{3} m - 5 \\operatorname{zw}{\\left(\\frac{2 {\\psi}_{n,m}}{5},g_{2},g_{3} \\right)} - 2 {d}_{3}\\right) U^{7}{\\left(z \\right)} V^{2}{\\left(z \\right)} - 2 \\cdot \\left(2 \\eta_{1} n + 2 \\eta_{3} m - 5 \\operatorname{zw}{\\left(\\frac{2 {\\psi}_{n,m}}{5},g_{2},g_{3} \\right)} - 2 {d}_{3}\\right) U^{2}{\\left(z \\right)} V^{7}{\\left(z \\right)} - \\left(4 \\eta_{1} n \\kappa + 4 \\eta_{3} m \\kappa + 5 \\operatorname{pwp}{\\left(\\frac{2 {\\psi}_{n,m}}{5},g_{2},g_{3} \\right)} - 10 \\operatorname{zw}{\\left(\\frac{2 {\\psi}_{n,m}}{5},g_{2},g_{3} \\right)} \\kappa + 2 {d}_{1}\\right) U^{6}{\\left(z \\right)} V{\\left(z \\right)} + \\left(4 \\eta_{1} n \\kappa + 4 \\eta_{3} m \\kappa + 5 \\operatorname{pwp}{\\left(\\frac{2 {\\psi}_{n,m}}{5},g_{2},g_{3} \\right)} - 10 \\operatorname{zw}{\\left(\\frac{2 {\\psi}_{n,m}}{5},g_{2},g_{3} \\right)} \\kappa + 2 {d}_{1}\\right) U{\\left(z \\right)} V^{6}{\\left(z \\right)} + 5 U^{10}{\\left(z \\right)} + 5 U^{5}{\\left(z \\right)} \\operatorname{pwp}{\\left(\\frac{2 {\\psi}_{n,m}}{5},g_{2},g_{3} \\right)} \\kappa - 5 V^{10}{\\left(z \\right)} - 5 V^{5}{\\left(z \\right)} \\operatorname{pwp}{\\left(\\frac{2 {\\psi}_{n,m}}{5},g_{2},g_{3} \\right)} \\kappa$"
      ],
      "text/plain": [
       "2*(2*eta1*n + 2*eta3*m - 5*zw(2*psi[n, m]/5, g2, g3) - 2*d[3])*U(z)**7*V(z)**2 - 2*(2*eta1*n + 2*eta3*m - 5*zw(2*psi[n, m]/5, g2, g3) - 2*d[3])*U(z)**2*V(z)**7 - (4*eta1*n*kappa + 4*eta3*m*kappa + 5*pwp(2*psi[n, m]/5, g2, g3) - 10*zw(2*psi[n, m]/5, g2, g3)*kappa + 2*d[1])*U(z)**6*V(z) + (4*eta1*n*kappa + 4*eta3*m*kappa + 5*pwp(2*psi[n, m]/5, g2, g3) - 10*zw(2*psi[n, m]/5, g2, g3)*kappa + 2*d[1])*U(z)*V(z)**6 + 5*U(z)**10 + 5*U(z)**5*pwp(2*psi[n, m]/5, g2, g3)*kappa - 5*V(z)**10 - 5*V(z)**5*pwp(2*psi[n, m]/5, g2, g3)*kappa"
      ]
     },
     "execution_count": 32,
     "metadata": {},
     "output_type": "execute_result"
    },
    {
     "data": {
      "text/latex": [
       "$\\displaystyle - \\left(\\frac{4 \\eta_{1} n \\operatorname{pwp}^{2}{\\left(\\frac{2 {\\psi}_{n,m}}{5},g_{2},g_{3} \\right)}}{\\left(\\operatorname{pw}{\\left(\\frac{2 {\\psi}_{n,m}}{5},g_{2},g_{3} \\right)} - \\operatorname{pw}{\\left(\\frac{4 {\\psi}_{n,m}}{5},g_{2},g_{3} \\right)}\\right)^{2}} + \\frac{4 \\eta_{3} m \\operatorname{pwp}^{2}{\\left(\\frac{2 {\\psi}_{n,m}}{5},g_{2},g_{3} \\right)}}{\\left(\\operatorname{pw}{\\left(\\frac{2 {\\psi}_{n,m}}{5},g_{2},g_{3} \\right)} - \\operatorname{pw}{\\left(\\frac{4 {\\psi}_{n,m}}{5},g_{2},g_{3} \\right)}\\right)^{2}} + \\frac{3 \\left(\\operatorname{pw}{\\left(\\frac{2 {\\psi}_{n,m}}{5},g_{2},g_{3} \\right)} - \\operatorname{pw}{\\left(\\frac{4 {\\psi}_{n,m}}{5},g_{2},g_{3} \\right)}\\right)^{3}}{\\operatorname{pwp}{\\left(\\frac{2 {\\psi}_{n,m}}{5},g_{2},g_{3} \\right)}} - 6 \\left(\\operatorname{pw}{\\left(\\frac{2 {\\psi}_{n,m}}{5},g_{2},g_{3} \\right)} - \\operatorname{pw}{\\left(\\frac{4 {\\psi}_{n,m}}{5},g_{2},g_{3} \\right)}\\right) \\left(2 \\eta_{1} n + 2 \\eta_{3} m - 5 \\operatorname{zw}{\\left(\\frac{2 {\\psi}_{n,m}}{5},g_{2},g_{3} \\right)}\\right) + 8 \\operatorname{pwp}{\\left(\\frac{2 {\\psi}_{n,m}}{5},g_{2},g_{3} \\right)} - \\frac{10 \\operatorname{pwp}^{2}{\\left(\\frac{2 {\\psi}_{n,m}}{5},g_{2},g_{3} \\right)} \\operatorname{zw}{\\left(\\frac{2 {\\psi}_{n,m}}{5},g_{2},g_{3} \\right)}}{\\left(\\operatorname{pw}{\\left(\\frac{2 {\\psi}_{n,m}}{5},g_{2},g_{3} \\right)} - \\operatorname{pw}{\\left(\\frac{4 {\\psi}_{n,m}}{5},g_{2},g_{3} \\right)}\\right)^{2}} - \\frac{3 \\operatorname{pwp}^{3}{\\left(\\frac{2 {\\psi}_{n,m}}{5},g_{2},g_{3} \\right)}}{\\left(\\operatorname{pw}{\\left(\\frac{2 {\\psi}_{n,m}}{5},g_{2},g_{3} \\right)} - \\operatorname{pw}{\\left(\\frac{4 {\\psi}_{n,m}}{5},g_{2},g_{3} \\right)}\\right)^{3}}\\right) U{\\left(z \\right)} V{\\left(z \\right)}$"
      ],
      "text/plain": [
       "-(4*eta1*n*pwp(2*psi[n, m]/5, g2, g3)**2/(pw(2*psi[n, m]/5, g2, g3) - pw(4*psi[n, m]/5, g2, g3))**2 + 4*eta3*m*pwp(2*psi[n, m]/5, g2, g3)**2/(pw(2*psi[n, m]/5, g2, g3) - pw(4*psi[n, m]/5, g2, g3))**2 + 3*(pw(2*psi[n, m]/5, g2, g3) - pw(4*psi[n, m]/5, g2, g3))**3/pwp(2*psi[n, m]/5, g2, g3) - 6*(pw(2*psi[n, m]/5, g2, g3) - pw(4*psi[n, m]/5, g2, g3))*(2*eta1*n + 2*eta3*m - 5*zw(2*psi[n, m]/5, g2, g3)) + 8*pwp(2*psi[n, m]/5, g2, g3) - 10*pwp(2*psi[n, m]/5, g2, g3)**2*zw(2*psi[n, m]/5, g2, g3)/(pw(2*psi[n, m]/5, g2, g3) - pw(4*psi[n, m]/5, g2, g3))**2 - 3*pwp(2*psi[n, m]/5, g2, g3)**3/(pw(2*psi[n, m]/5, g2, g3) - pw(4*psi[n, m]/5, g2, g3))**3)*U(z)*V(z)"
      ]
     },
     "execution_count": 32,
     "metadata": {},
     "output_type": "execute_result"
    },
    {
     "data": {
      "text/latex": [
       "$\\displaystyle Z = \\frac{3 X^{2} + Y^{3}}{2 X Y}$"
      ],
      "text/plain": [
       "Eq(Z, (3*X**2 + Y**3)/(2*X*Y))"
      ]
     },
     "execution_count": 32,
     "metadata": {},
     "output_type": "execute_result"
    },
    {
     "data": {
      "text/latex": [
       "$\\displaystyle 2 \\eta_{1} n + 2 \\eta_{3} m - 5 \\operatorname{zw}{\\left(\\frac{2 {\\psi}_{n,m}}{5},g_{2},g_{3} \\right)} = \\frac{\\left(\\operatorname{pw}{\\left(\\frac{2 {\\psi}_{n,m}}{5},g_{2},g_{3} \\right)} - \\operatorname{pw}{\\left(\\frac{4 {\\psi}_{n,m}}{5},g_{2},g_{3} \\right)}\\right)^{3} + 3 \\operatorname{pwp}^{2}{\\left(\\frac{2 {\\psi}_{n,m}}{5},g_{2},g_{3} \\right)}}{2 \\left(\\operatorname{pw}{\\left(\\frac{2 {\\psi}_{n,m}}{5},g_{2},g_{3} \\right)} - \\operatorname{pw}{\\left(\\frac{4 {\\psi}_{n,m}}{5},g_{2},g_{3} \\right)}\\right) \\operatorname{pwp}{\\left(\\frac{2 {\\psi}_{n,m}}{5},g_{2},g_{3} \\right)}}$"
      ],
      "text/plain": [
       "Eq(2*eta1*n + 2*eta3*m - 5*zw(2*psi[n, m]/5, g2, g3), ((pw(2*psi[n, m]/5, g2, g3) - pw(4*psi[n, m]/5, g2, g3))**3 + 3*pwp(2*psi[n, m]/5, g2, g3)**2)/(2*(pw(2*psi[n, m]/5, g2, g3) - pw(4*psi[n, m]/5, g2, g3))*pwp(2*psi[n, m]/5, g2, g3)))"
      ]
     },
     "execution_count": 32,
     "metadata": {},
     "output_type": "execute_result"
    }
   ],
   "source": [
    "_nn, _dd = (fraction(diff(pw_pwp_sig5_even_UV_d.rhs,z)\n",
    "                     .subs([log_kron_diff_U.args, log_kron_diff_V.args])\n",
    "                     .simplify())\n",
    "           )\n",
    "UV_dz_polynomial = _nn.expand().collect([U(z),V(z)],factor)\n",
    "UV_dz_polynomial_b = (\n",
    "    (\n",
    "        factor(UV_dz_polynomial.expand()).args[2].expand().collect([U(z),V(z)],factor) \n",
    "        - pw_pwp_sig5_even_UV_d.rhs*5 + pw_pwp_sig5_even_UV_d.lhs*5\n",
    "    )\n",
    "    .expand().collect([U(z),V(z)],factor)\n",
    "    .subs([\n",
    "        d0_pw_pwp.args, \n",
    "        kappa_pw.args, \n",
    "        d3_pw_pwp.args, \n",
    "        d1_pw_pwp.args\n",
    "    ])\n",
    ")\n",
    "\n",
    "X_def_pw_pwp = Eq(X, pwp(2*psi[n,m]/5,g2,g3))\n",
    "Y_def_pw_pwp = Eq(Y, pw(2*psi[n,m]/5, g2, g3) - pw(4*psi[n,m]/5, g2, g3))\n",
    "Z_def_pw_pwp = Eq(Z, UV_dz_polynomial.coeff(U(z)**7).subs(V(z)**2,Rational(1,2)).subs(d[3],0))\n",
    "\n",
    "_ZXY = Eq(Z, \n",
    "          solve(\n",
    "                UV_dz_polynomial_b\n",
    "                .expand().collect(pwp(2*psi[n,m]/5,g2,g3),factor)\n",
    "                .subs(U(z)*V(z),1)\n",
    "                .subs([\n",
    "                    (X_def_pw_pwp.rhs, X_def_pw_pwp.lhs),\n",
    "                    (Y_def_pw_pwp.rhs, Y_def_pw_pwp.lhs), \n",
    "                    (Z_def_pw_pwp.rhs, Z_def_pw_pwp.lhs)\n",
    "                ])\n",
    "              ,Z)[0]\n",
    "  )\n",
    "\n",
    "eta_zw_pw_pwp_2_5 = _ZXY.subs([X_def_pw_pwp.args, Y_def_pw_pwp.args, Z_def_pw_pwp.args])\n",
    "\n",
    "\n",
    "pw_pwp_sig5_even_UV_d\n",
    "UV_dz_polynomial\n",
    "UV_dz_polynomial_b\n",
    "_ZXY\n",
    "eta_zw_pw_pwp_2_5\n",
    "# num_evaluate_weierstrass(eta_zw_pw_pwp_2_5, num_subs_simple)"
   ]
  },
  {
   "cell_type": "markdown",
   "id": "eb504d39",
   "metadata": {},
   "source": [
    "Consequently, it turns out all coefficients can be expressed as rational functions of two parameters $X,Y$:"
   ]
  },
  {
   "cell_type": "code",
   "execution_count": 33,
   "id": "dd4c84cd",
   "metadata": {},
   "outputs": [
    {
     "data": {
      "text/latex": [
       "$\\displaystyle {d}_{0} = - \\frac{\\operatorname{pwp}^{3}{\\left(\\frac{2 {\\psi}_{n,m}}{5},g_{2},g_{3} \\right)}}{\\left(\\operatorname{pw}{\\left(\\frac{2 {\\psi}_{n,m}}{5},g_{2},g_{3} \\right)} - \\operatorname{pw}{\\left(\\frac{4 {\\psi}_{n,m}}{5},g_{2},g_{3} \\right)}\\right)^{2}}$"
      ],
      "text/plain": [
       "Eq(d[0], -pwp(2*psi[n, m]/5, g2, g3)**3/(pw(2*psi[n, m]/5, g2, g3) - pw(4*psi[n, m]/5, g2, g3))**2)"
      ]
     },
     "execution_count": 33,
     "metadata": {},
     "output_type": "execute_result"
    },
    {
     "data": {
      "text/latex": [
       "$\\displaystyle {d}_{1} = 2 \\operatorname{pwp}{\\left(\\frac{2 {\\psi}_{n,m}}{5},g_{2},g_{3} \\right)} + \\frac{\\operatorname{pwp}^{3}{\\left(\\frac{2 {\\psi}_{n,m}}{5},g_{2},g_{3} \\right)}}{\\left(\\operatorname{pw}{\\left(\\frac{2 {\\psi}_{n,m}}{5},g_{2},g_{3} \\right)} - \\operatorname{pw}{\\left(\\frac{4 {\\psi}_{n,m}}{5},g_{2},g_{3} \\right)}\\right)^{3}}$"
      ],
      "text/plain": [
       "Eq(d[1], 2*pwp(2*psi[n, m]/5, g2, g3) + pwp(2*psi[n, m]/5, g2, g3)**3/(pw(2*psi[n, m]/5, g2, g3) - pw(4*psi[n, m]/5, g2, g3))**3)"
      ]
     },
     "execution_count": 33,
     "metadata": {},
     "output_type": "execute_result"
    },
    {
     "data": {
      "text/latex": [
       "$\\displaystyle {d}_{3} = - \\frac{\\left(\\operatorname{pw}{\\left(\\frac{2 {\\psi}_{n,m}}{5},g_{2},g_{3} \\right)} - \\operatorname{pw}{\\left(\\frac{4 {\\psi}_{n,m}}{5},g_{2},g_{3} \\right)}\\right)^{3} + 3 \\operatorname{pwp}^{2}{\\left(\\frac{2 {\\psi}_{n,m}}{5},g_{2},g_{3} \\right)}}{\\left(\\operatorname{pw}{\\left(\\frac{2 {\\psi}_{n,m}}{5},g_{2},g_{3} \\right)} - \\operatorname{pw}{\\left(\\frac{4 {\\psi}_{n,m}}{5},g_{2},g_{3} \\right)}\\right) \\operatorname{pwp}{\\left(\\frac{2 {\\psi}_{n,m}}{5},g_{2},g_{3} \\right)}}$"
      ],
      "text/plain": [
       "Eq(d[3], -((pw(2*psi[n, m]/5, g2, g3) - pw(4*psi[n, m]/5, g2, g3))**3 + 3*pwp(2*psi[n, m]/5, g2, g3)**2)/((pw(2*psi[n, m]/5, g2, g3) - pw(4*psi[n, m]/5, g2, g3))*pwp(2*psi[n, m]/5, g2, g3)))"
      ]
     },
     "execution_count": 33,
     "metadata": {},
     "output_type": "execute_result"
    },
    {
     "data": {
      "text/latex": [
       "$\\displaystyle {c}_{2} = - \\frac{\\operatorname{pw}{\\left(\\frac{2 {\\psi}_{n,m}}{5},g_{2},g_{3} \\right)}}{2} + \\frac{\\operatorname{pwp}^{2}{\\left(\\frac{2 {\\psi}_{n,m}}{5},g_{2},g_{3} \\right)}}{2 \\left(- \\operatorname{pw}{\\left(\\frac{2 {\\psi}_{n,m}}{5},g_{2},g_{3} \\right)} + \\operatorname{pw}{\\left(\\frac{4 {\\psi}_{n,m}}{5},g_{2},g_{3} \\right)}\\right)^{2}}$"
      ],
      "text/plain": [
       "Eq(c[2], -pw(2*psi[n, m]/5, g2, g3)/2 + pwp(2*psi[n, m]/5, g2, g3)**2/(2*(-pw(2*psi[n, m]/5, g2, g3) + pw(4*psi[n, m]/5, g2, g3))**2))"
      ]
     },
     "execution_count": 33,
     "metadata": {},
     "output_type": "execute_result"
    },
    {
     "data": {
      "text/latex": [
       "$\\displaystyle \\kappa = \\frac{\\operatorname{pwp}^{2}{\\left(\\frac{2 {\\psi}_{n,m}}{5},g_{2},g_{3} \\right)}}{\\left(\\operatorname{pw}{\\left(\\frac{2 {\\psi}_{n,m}}{5},g_{2},g_{3} \\right)} - \\operatorname{pw}{\\left(\\frac{4 {\\psi}_{n,m}}{5},g_{2},g_{3} \\right)}\\right)^{2}}$"
      ],
      "text/plain": [
       "Eq(kappa, pwp(2*psi[n, m]/5, g2, g3)**2/(pw(2*psi[n, m]/5, g2, g3) - pw(4*psi[n, m]/5, g2, g3))**2)"
      ]
     },
     "execution_count": 33,
     "metadata": {},
     "output_type": "execute_result"
    },
    {
     "data": {
      "text/latex": [
       "$\\displaystyle \\operatorname{pwp}{\\left(\\frac{2 {\\psi}_{n,m}}{5},g_{2},g_{3} \\right)} = X$"
      ],
      "text/plain": [
       "Eq(pwp(2*psi[n, m]/5, g2, g3), X)"
      ]
     },
     "execution_count": 33,
     "metadata": {},
     "output_type": "execute_result"
    },
    {
     "data": {
      "text/latex": [
       "$\\displaystyle \\operatorname{pw}{\\left(\\frac{2 {\\psi}_{n,m}}{5},g_{2},g_{3} \\right)} - \\operatorname{pw}{\\left(\\frac{4 {\\psi}_{n,m}}{5},g_{2},g_{3} \\right)} = Y$"
      ],
      "text/plain": [
       "Eq(pw(2*psi[n, m]/5, g2, g3) - pw(4*psi[n, m]/5, g2, g3), Y)"
      ]
     },
     "execution_count": 33,
     "metadata": {},
     "output_type": "execute_result"
    },
    {
     "data": {
      "text/latex": [
       "$\\displaystyle - \\frac{X^{3}}{Y^{2}} = - \\left(\\frac{X^{3}}{Y^{3}} + 2 X\\right) U{\\left(z \\right)} V{\\left(z \\right)} + U^{5}{\\left(z \\right)} + V^{5}{\\left(z \\right)} + \\frac{\\left(3 X^{2} + Y^{3}\\right) U^{2}{\\left(z \\right)} V^{2}{\\left(z \\right)}}{X Y}$"
      ],
      "text/plain": [
       "Eq(-X**3/Y**2, -(X**3/Y**3 + 2*X)*U(z)*V(z) + U(z)**5 + V(z)**5 + (3*X**2 + Y**3)*U(z)**2*V(z)**2/(X*Y))"
      ]
     },
     "execution_count": 33,
     "metadata": {},
     "output_type": "execute_result"
    }
   ],
   "source": [
    "d1_pw_pwp_b = d1_pw_pwp.subs(*eta_zw_pw_pwp_2_5.args).simplify()\n",
    "d3_pw_pwp_b = d3_pw_pwp.subs(eta_zw_pw_pwp_2_5.lhs*2, eta_zw_pw_pwp_2_5.rhs*2)\n",
    "\n",
    "d0_pw_pwp\n",
    "d1_pw_pwp_b\n",
    "d3_pw_pwp_b\n",
    "c2_coeff_sol\n",
    "kappa_pw\n",
    "\n",
    "pwp_X_5 = Eq(X_def_pw_pwp.rhs, X_def_pw_pwp.lhs)\n",
    "pw_X_245 = Eq(Y_def_pw_pwp.rhs, Y_def_pw_pwp.lhs)\n",
    "UV_ham_XY_poly = (pw_pwp_sig5_even_UV_d\n",
    "    .subs([d0_pw_pwp.args, d1_pw_pwp_b.args, d3_pw_pwp_b.args, kappa_pw.args])\n",
    "    .subs([pwp_X_5.args, pw_X_245.args])\n",
    "                 )\n",
    "\n",
    "pwp_X_5\n",
    "pw_X_245\n",
    "UV_ham_XY_poly"
   ]
  },
  {
   "cell_type": "code",
   "execution_count": 34,
   "id": "c9fe23f1",
   "metadata": {
    "scrolled": false
   },
   "outputs": [
    {
     "data": {
      "text/latex": [
       "$\\displaystyle U{\\left(z \\right)} \\frac{d}{d z} V{\\left(z \\right)} + V{\\left(z \\right)} \\frac{d}{d z} U{\\left(z \\right)} = \\frac{U^{5}{\\left(z \\right)} - V^{5}{\\left(z \\right)}}{U{\\left(z \\right)} V{\\left(z \\right)} - \\kappa}$"
      ],
      "text/plain": [
       "Eq(U(z)*Derivative(V(z), z) + V(z)*Derivative(U(z), z), (U(z)**5 - V(z)**5)/(U(z)*V(z) - kappa))"
      ]
     },
     "execution_count": 34,
     "metadata": {},
     "output_type": "execute_result"
    },
    {
     "data": {
      "text/latex": [
       "$\\displaystyle U{\\left(z \\right)} V{\\left(z \\right)} = - \\operatorname{pw}{\\left(z,g_{2},g_{3} \\right)} + \\operatorname{pw}{\\left(\\frac{2 {\\psi}_{n,m}}{5},g_{2},g_{3} \\right)}$"
      ],
      "text/plain": [
       "Eq(U(z)*V(z), -pw(z, g2, g3) + pw(2*psi[n, m]/5, g2, g3))"
      ]
     },
     "execution_count": 34,
     "metadata": {},
     "output_type": "execute_result"
    },
    {
     "data": {
      "text/latex": [
       "$\\displaystyle U{\\left(z \\right)} \\frac{d}{d z} V{\\left(z \\right)} + V{\\left(z \\right)} \\frac{d}{d z} U{\\left(z \\right)} = - \\operatorname{pwp}{\\left(z,g_{2},g_{3} \\right)}$"
      ],
      "text/plain": [
       "Eq(U(z)*Derivative(V(z), z) + V(z)*Derivative(U(z), z), -pwp(z, g2, g3))"
      ]
     },
     "execution_count": 34,
     "metadata": {},
     "output_type": "execute_result"
    },
    {
     "data": {
      "text/latex": [
       "$\\displaystyle \\frac{U^{5}{\\left(z \\right)} - V^{5}{\\left(z \\right)}}{U{\\left(z \\right)} V{\\left(z \\right)} - \\kappa} = - \\operatorname{pwp}{\\left(z,g_{2},g_{3} \\right)}$"
      ],
      "text/plain": [
       "Eq((U(z)**5 - V(z)**5)/(U(z)*V(z) - kappa), -pwp(z, g2, g3))"
      ]
     },
     "execution_count": 34,
     "metadata": {},
     "output_type": "execute_result"
    },
    {
     "data": {
      "text/latex": [
       "$\\displaystyle - \\left(U{\\left(z \\right)} V{\\left(z \\right)} - \\kappa\\right)^{2} \\left(- g_{2} \\left(- U{\\left(z \\right)} V{\\left(z \\right)} + \\operatorname{pw}{\\left(\\frac{2 {\\psi}_{n,m}}{5},g_{2},g_{3} \\right)}\\right) - g_{3} + 4 \\left(- U{\\left(z \\right)} V{\\left(z \\right)} + \\operatorname{pw}{\\left(\\frac{2 {\\psi}_{n,m}}{5},g_{2},g_{3} \\right)}\\right)^{3}\\right) + \\left(U^{5}{\\left(z \\right)} - V^{5}{\\left(z \\right)}\\right)^{2} = 0$"
      ],
      "text/plain": [
       "Eq(-(U(z)*V(z) - kappa)**2*(-g2*(-U(z)*V(z) + pw(2*psi[n, m]/5, g2, g3)) - g3 + 4*(-U(z)*V(z) + pw(2*psi[n, m]/5, g2, g3))**3) + (U(z)**5 - V(z)**5)**2, 0)"
      ]
     },
     "execution_count": 34,
     "metadata": {},
     "output_type": "execute_result"
    },
    {
     "data": {
      "text/latex": [
       "$\\displaystyle U^{2}{\\left(z \\right)} V^{2}{\\left(z \\right)} {d}_{3} + U{\\left(z \\right)} V{\\left(z \\right)} {d}_{1} + {d}_{0} = U^{5}{\\left(z \\right)} + V^{5}{\\left(z \\right)}$"
      ],
      "text/plain": [
       "Eq(U(z)**2*V(z)**2*d[3] + U(z)*V(z)*d[1] + d[0], U(z)**5 + V(z)**5)"
      ]
     },
     "execution_count": 34,
     "metadata": {},
     "output_type": "execute_result"
    },
    {
     "data": {
      "text/latex": [
       "$\\displaystyle g_{2} \\operatorname{pw}{\\left(\\frac{2 {\\psi}_{n,m}}{5},g_{2},g_{3} \\right)} \\kappa^{2} + g_{3} \\kappa^{2} + \\left(- 12 \\operatorname{pw}{\\left(\\frac{2 {\\psi}_{n,m}}{5},g_{2},g_{3} \\right)} + {d}_{3}^{2} - 8 \\kappa\\right) U^{4}{\\left(z \\right)} V^{4}{\\left(z \\right)} + \\left(- g_{2} + 12 \\operatorname{pw}^{2}{\\left(\\frac{2 {\\psi}_{n,m}}{5},g_{2},g_{3} \\right)} + 24 \\operatorname{pw}{\\left(\\frac{2 {\\psi}_{n,m}}{5},g_{2},g_{3} \\right)} \\kappa + 2 {d}_{1} {d}_{3} + 4 \\kappa^{2}\\right) U^{3}{\\left(z \\right)} V^{3}{\\left(z \\right)} + \\left(- 2 g_{2} \\operatorname{pw}{\\left(\\frac{2 {\\psi}_{n,m}}{5},g_{2},g_{3} \\right)} \\kappa - g_{2} \\kappa^{2} - 2 g_{3} \\kappa + 8 \\operatorname{pw}^{3}{\\left(\\frac{2 {\\psi}_{n,m}}{5},g_{2},g_{3} \\right)} \\kappa + 12 \\operatorname{pw}^{2}{\\left(\\frac{2 {\\psi}_{n,m}}{5},g_{2},g_{3} \\right)} \\kappa^{2} + 2 {d}_{0} {d}_{1}\\right) U{\\left(z \\right)} V{\\left(z \\right)} + \\left(g_{2} \\operatorname{pw}{\\left(\\frac{2 {\\psi}_{n,m}}{5},g_{2},g_{3} \\right)} + 2 g_{2} \\kappa + g_{3} - 4 \\operatorname{pw}^{3}{\\left(\\frac{2 {\\psi}_{n,m}}{5},g_{2},g_{3} \\right)} - 24 \\operatorname{pw}^{2}{\\left(\\frac{2 {\\psi}_{n,m}}{5},g_{2},g_{3} \\right)} \\kappa - 12 \\operatorname{pw}{\\left(\\frac{2 {\\psi}_{n,m}}{5},g_{2},g_{3} \\right)} \\kappa^{2} + 2 {d}_{0} {d}_{3} + {d}_{1}^{2}\\right) U^{2}{\\left(z \\right)} V^{2}{\\left(z \\right)} - 4 \\operatorname{pw}^{3}{\\left(\\frac{2 {\\psi}_{n,m}}{5},g_{2},g_{3} \\right)} \\kappa^{2} + {d}_{0}^{2} = 0$"
      ],
      "text/plain": [
       "Eq(g2*pw(2*psi[n, m]/5, g2, g3)*kappa**2 + g3*kappa**2 + (-12*pw(2*psi[n, m]/5, g2, g3) + d[3]**2 - 8*kappa)*U(z)**4*V(z)**4 + (-g2 + 12*pw(2*psi[n, m]/5, g2, g3)**2 + 24*pw(2*psi[n, m]/5, g2, g3)*kappa + 2*d[1]*d[3] + 4*kappa**2)*U(z)**3*V(z)**3 + (-2*g2*pw(2*psi[n, m]/5, g2, g3)*kappa - g2*kappa**2 - 2*g3*kappa + 8*pw(2*psi[n, m]/5, g2, g3)**3*kappa + 12*pw(2*psi[n, m]/5, g2, g3)**2*kappa**2 + 2*d[0]*d[1])*U(z)*V(z) + (g2*pw(2*psi[n, m]/5, g2, g3) + 2*g2*kappa + g3 - 4*pw(2*psi[n, m]/5, g2, g3)**3 - 24*pw(2*psi[n, m]/5, g2, g3)**2*kappa - 12*pw(2*psi[n, m]/5, g2, g3)*kappa**2 + 2*d[0]*d[3] + d[1]**2)*U(z)**2*V(z)**2 - 4*pw(2*psi[n, m]/5, g2, g3)**3*kappa**2 + d[0]**2, 0)"
      ]
     },
     "execution_count": 34,
     "metadata": {},
     "output_type": "execute_result"
    },
    {
     "data": {
      "text/latex": [
       "$\\displaystyle \\operatorname{pw}{\\left(\\frac{2 {\\psi}_{n,m}}{5},g_{2},g_{3} \\right)} = \\frac{- 8 X^{4} + \\left(3 X^{2} + Y^{3}\\right)^{2}}{12 X^{2} Y^{2}}$"
      ],
      "text/plain": [
       "Eq(pw(2*psi[n, m]/5, g2, g3), (-8*X**4 + (3*X**2 + Y**3)**2)/(12*X**2*Y**2))"
      ]
     },
     "execution_count": 34,
     "metadata": {},
     "output_type": "execute_result"
    },
    {
     "data": {
      "text/latex": [
       "$\\displaystyle \\operatorname{pw}{\\left(\\frac{4 {\\psi}_{n,m}}{5},g_{2},g_{3} \\right)} = \\frac{X^{2}}{12 Y^{2}} - \\frac{Y}{2} + \\frac{Y^{4}}{12 X^{2}}$"
      ],
      "text/plain": [
       "Eq(pw(4*psi[n, m]/5, g2, g3), X**2/(12*Y**2) - Y/2 + Y**4/(12*X**2))"
      ]
     },
     "execution_count": 34,
     "metadata": {},
     "output_type": "execute_result"
    },
    {
     "data": {
      "text/latex": [
       "$\\displaystyle g_{2} = \\frac{X^{4}}{12 Y^{4}} - \\frac{X^{2}}{Y} + \\frac{7 Y^{2}}{6} + \\frac{Y^{5}}{X^{2}} + \\frac{Y^{8}}{12 X^{4}}$"
      ],
      "text/plain": [
       "Eq(g2, X**4/(12*Y**4) - X**2/Y + 7*Y**2/6 + Y**5/X**2 + Y**8/(12*X**4))"
      ]
     },
     "execution_count": 34,
     "metadata": {},
     "output_type": "execute_result"
    },
    {
     "data": {
      "text/latex": [
       "$\\displaystyle g_{3} = - \\frac{X^{6}}{216 Y^{6}} + \\frac{X^{4}}{12 Y^{3}} - \\frac{25 X^{2}}{72} - \\frac{25 Y^{6}}{72 X^{2}} - \\frac{Y^{9}}{12 X^{4}} - \\frac{Y^{12}}{216 X^{6}}$"
      ],
      "text/plain": [
       "Eq(g3, -X**6/(216*Y**6) + X**4/(12*Y**3) - 25*X**2/72 - 25*Y**6/(72*X**2) - Y**9/(12*X**4) - Y**12/(216*X**6))"
      ]
     },
     "execution_count": 34,
     "metadata": {},
     "output_type": "execute_result"
    }
   ],
   "source": [
    "dUV_pwp = Eq(diff(UVz_pw.lhs,z), diff(UVz_pw.rhs,z).subs(diff(pw(z,g2,g3),z),pwp(z,g2,g3)))\n",
    "dUV_pwp_b = Eq(dUV_U5_V5.rhs, dUV_U5_V5.lhs).subs(*dUV_pwp.args)\n",
    "g2_g3_UV_a = Eq(dUV_U5_V5.rhs**2*(U(z)*V(z)-kappa)**2 - \n",
    "   (4*pw(z,g2,g3)**3 - g2*pw(z,g2,g3) - g3).subs(pw(z,g2,g3), solve(UVz_pw, pw(z,g2,g3))[0])*(U(z)*V(z)-kappa)**2\n",
    "   ,0)\n",
    "\n",
    "UV5_K = Eq(-pw_pwp_sig5_even_UV_d.rhs + d[0] + U(z)**5 + V(z)**5, \n",
    "           -pw_pwp_sig5_even_UV_d.lhs + d[0] + U(z)**5 + V(z)**5)\n",
    "\n",
    "g2_g3_UV_b = Eq((g2_g3_UV_a.lhs - UV5_K.rhs**2 + UV5_K.lhs**2).expand().collect(U(z)*V(z),factor),0)\n",
    "\n",
    "uvz4_coeff = Eq(g2_g3_UV_b.lhs.coeff(U(z)*V(z),4).subs([d3_pw_pwp_b.args, kappa_pw.args]),0)\n",
    "pwXY25 = Eq(pw(2*psi[n,m]/5,g2,g3), solve(uvz4_coeff.subs([pwp_X_5.args, pw_X_245.args]), pw(2*psi[n,m]/5,g2,g3))[0])\n",
    "\n",
    "\n",
    "g2XY = Eq(g2, \n",
    "   g2 + \n",
    "   g2_g3_UV_b.lhs\n",
    "   .coeff(U(z)*V(z),3)\n",
    "   .subs([d3_pw_pwp_b.args, d1_pw_pwp_b.args, kappa_pw.args])\n",
    "   .subs([pwp_X_5.args, pw_X_245.args])\n",
    "   .subs(*pwXY25.args)\n",
    "   .simplify()\n",
    "  )\n",
    "\n",
    "g3XY = Eq(pwp_X_5.lhs**2 - X**2,0).subs(\n",
    "    pwp(2*psi[n,m]/5,g2,g3)**2, 4*pw(2*psi[n,m]/5,g2,g3)**3 -g2*pw(2*psi[n,m]/5,g2,g3)-g3\n",
    ").subs(*pwXY25.args).subs(*g2XY.args)\n",
    "g3XY = Eq(g3, solve(g3XY.lhs,g3)[0].expand())\n",
    "\n",
    "pwXY45 = Eq(p_duplication_c.lhs.subs(z,2*psi[n,m]/5), \n",
    "   p_duplication_c.rhs\n",
    "   .subs(z,2*psi[n,m]/5)\n",
    "   .subs(*pwp_X_5.args)\n",
    "   .subs([pwXY25.args, g2XY.args, g3XY.args])\n",
    "   .simplify()\n",
    "  )\n",
    "\n",
    "dUV_U5_V5\n",
    "UVz_pw\n",
    "dUV_pwp\n",
    "dUV_pwp_b\n",
    "g2_g3_UV_a\n",
    "UV5_K\n",
    "g2_g3_UV_b\n",
    "# num_evaluate_weierstrass(uvz4_coeff, num_subs_simple)\n",
    "pwXY25\n",
    "pwXY45\n",
    "g2XY\n",
    "g3XY"
   ]
  },
  {
   "cell_type": "code",
   "execution_count": 35,
   "id": "bd91f354",
   "metadata": {},
   "outputs": [
    {
     "data": {
      "text/latex": [
       "$\\displaystyle \\operatorname{pw}{\\left(x,g_{2},g_{3} \\right)} = \\operatorname{pw}{\\left(\\frac{2 {\\psi}_{n,m}}{5},g_{2},g_{3} \\right)} - \\frac{\\operatorname{pwp}^{2}{\\left(\\frac{2 {\\psi}_{n,m}}{5},g_{2},g_{3} \\right)}}{\\left(\\operatorname{pw}{\\left(\\frac{2 {\\psi}_{n,m}}{5},g_{2},g_{3} \\right)} - \\operatorname{pw}{\\left(\\frac{4 {\\psi}_{n,m}}{5},g_{2},g_{3} \\right)}\\right)^{2}}$"
      ],
      "text/plain": [
       "Eq(pw(x, g2, g3), pw(2*psi[n, m]/5, g2, g3) - pwp(2*psi[n, m]/5, g2, g3)**2/(pw(2*psi[n, m]/5, g2, g3) - pw(4*psi[n, m]/5, g2, g3))**2)"
      ]
     },
     "execution_count": 35,
     "metadata": {},
     "output_type": "execute_result"
    },
    {
     "data": {
      "text/latex": [
       "$\\displaystyle \\operatorname{pw}{\\left(x,g_{2},g_{3} \\right)} = - \\frac{11 X^{2}}{12 Y^{2}} + \\frac{Y}{2} + \\frac{Y^{4}}{12 X^{2}}$"
      ],
      "text/plain": [
       "Eq(pw(x, g2, g3), -11*X**2/(12*Y**2) + Y/2 + Y**4/(12*X**2))"
      ]
     },
     "execution_count": 35,
     "metadata": {},
     "output_type": "execute_result"
    },
    {
     "data": {
      "text/latex": [
       "$\\displaystyle - \\frac{11 X^{2}}{12 Y^{2}} + \\frac{Y}{2} + \\frac{Y^{4}}{12 X^{2}} = \\operatorname{pw}{\\left(\\frac{2 {\\psi}_{n,m}}{5},g_{2},g_{3} \\right)} - \\frac{\\operatorname{pwp}^{2}{\\left(\\frac{2 {\\psi}_{n,m}}{5},g_{2},g_{3} \\right)}}{\\left(\\operatorname{pw}{\\left(\\frac{2 {\\psi}_{n,m}}{5},g_{2},g_{3} \\right)} - \\operatorname{pw}{\\left(\\frac{4 {\\psi}_{n,m}}{5},g_{2},g_{3} \\right)}\\right)^{2}}$"
      ],
      "text/plain": [
       "Eq(-11*X**2/(12*Y**2) + Y/2 + Y**4/(12*X**2), pw(2*psi[n, m]/5, g2, g3) - pwp(2*psi[n, m]/5, g2, g3)**2/(pw(2*psi[n, m]/5, g2, g3) - pw(4*psi[n, m]/5, g2, g3))**2)"
      ]
     },
     "execution_count": 35,
     "metadata": {},
     "output_type": "execute_result"
    },
    {
     "data": {
      "text/latex": [
       "$\\displaystyle \\operatorname{pw}{\\left(\\frac{2 {\\psi}_{n,m}}{5},g_{2},g_{3} \\right)} = \\frac{X^{2}}{12 Y^{2}} + \\frac{Y}{2} + \\frac{Y^{4}}{12 X^{2}}$"
      ],
      "text/plain": [
       "Eq(pw(2*psi[n, m]/5, g2, g3), X**2/(12*Y**2) + Y/2 + Y**4/(12*X**2))"
      ]
     },
     "execution_count": 35,
     "metadata": {},
     "output_type": "execute_result"
    }
   ],
   "source": [
    "pwx_2_4 = Eq(pw(x,g2,g3) , pw(z,g2,g3)+(U(z)*V(z) - kappa).subs(*UVz_pw.args).subs(*kappa_pw.args))\n",
    "pwx_2_4_XY = pwx_2_4.subs([pwXY25.args, pwXY45.args, pwp_X_5.args]).simplify()\n",
    "pwx_2_4_XY_b = pwx_2_4.subs(*pwx_2_4_XY.args)\n",
    "\n",
    "pwx_2_4\n",
    "pwx_2_4_XY\n",
    "pwx_2_4_XY_b\n",
    "pwXY25.expand()"
   ]
  },
  {
   "cell_type": "markdown",
   "id": "d06365fd",
   "metadata": {},
   "source": [
    "#### Attempting to solve for $X,Y$ in terms of $g_2,g_3$\n",
    "In theory, there is an algebraic relation between $X,Y$ and $g_2,g_3$ but this appears to involve solving a high order polynomial."
   ]
  },
  {
   "cell_type": "code",
   "execution_count": 36,
   "id": "4bb55f91",
   "metadata": {},
   "outputs": [
    {
     "data": {
      "text/latex": [
       "$\\displaystyle g_{2}^{3} - 27 g_{3}^{2} = \\Delta$"
      ],
      "text/plain": [
       "Eq(g2**3 - 27*g3**2, Delta)"
      ]
     },
     "execution_count": 36,
     "metadata": {},
     "output_type": "execute_result"
    },
    {
     "data": {
      "text/latex": [
       "$\\displaystyle g_{2}^{3} - 27 g_{3}^{2} = X^{2} Y^{3} - 11 Y^{6} - \\frac{Y^{9}}{X^{2}}$"
      ],
      "text/plain": [
       "Eq(g2**3 - 27*g3**2, X**2*Y**3 - 11*Y**6 - Y**9/X**2)"
      ]
     },
     "execution_count": 36,
     "metadata": {},
     "output_type": "execute_result"
    },
    {
     "data": {
      "text/latex": [
       "$\\displaystyle X^{2} = \\frac{\\Delta + 11 Y^{6} - \\sqrt{\\Delta^{2} + 22 \\Delta Y^{6} + 125 Y^{12}}}{2 Y^{3}}$"
      ],
      "text/plain": [
       "Eq(X**2, (Delta + 11*Y**6 - sqrt(Delta**2 + 22*Delta*Y**6 + 125*Y**12))/(2*Y**3))"
      ]
     },
     "execution_count": 36,
     "metadata": {},
     "output_type": "execute_result"
    },
    {
     "data": {
      "text/latex": [
       "$\\displaystyle X^{2} = \\frac{\\Delta + 11 Y^{6} + \\sqrt{\\Delta^{2} + 22 \\Delta Y^{6} + 125 Y^{12}}}{2 Y^{3}}$"
      ],
      "text/plain": [
       "Eq(X**2, (Delta + 11*Y**6 + sqrt(Delta**2 + 22*Delta*Y**6 + 125*Y**12))/(2*Y**3))"
      ]
     },
     "execution_count": 36,
     "metadata": {},
     "output_type": "execute_result"
    },
    {
     "data": {
      "text/latex": [
       "$\\displaystyle \\frac{1}{X^{2}} = - \\frac{\\Delta + 11 Y^{6} + \\sqrt{\\Delta^{2} + 22 \\Delta Y^{6} + 125 Y^{12}}}{2 Y^{9}}$"
      ],
      "text/plain": [
       "Eq(X**(-2), -(Delta + 11*Y**6 + sqrt(Delta**2 + 22*Delta*Y**6 + 125*Y**12))/(2*Y**9))"
      ]
     },
     "execution_count": 36,
     "metadata": {},
     "output_type": "execute_result"
    }
   ],
   "source": [
    "discrim_g_2_3 = Eq(g2**3 - 27*g3**2, (g2**3 - 27*g3**2).subs([g2XY.args,g3XY.args]).expand())\n",
    "discrim_g_2_3_delta = Eq(discrim_g_2_3.lhs, Delta)\n",
    "x_discrim = discrim_g_2_3.subs([discrim_g_2_3_delta.args, (X**2,x)])\n",
    "x_discrim_sols = solve(x_discrim,x)\n",
    "X_discrim_Y_a = Eq(X**2, x_discrim_sols[0])\n",
    "X_discrim_Y_b =Eq(X**2, x_discrim_sols[1])\n",
    "X_discrim_Y_a_one_over = Eq(1/X_discrim_Y_a.lhs, \n",
    "                            (X_discrim_Y_b.rhs/(X_discrim_Y_a.rhs*X_discrim_Y_b.rhs).expand()))\n",
    "\n",
    "discrim_g_2_3_delta\n",
    "discrim_g_2_3\n",
    "X_discrim_Y_a\n",
    "X_discrim_Y_b\n",
    "X_discrim_Y_a_one_over"
   ]
  },
  {
   "cell_type": "code",
   "execution_count": 37,
   "id": "6b8094e1",
   "metadata": {},
   "outputs": [
    {
     "data": {
      "text/latex": [
       "$\\displaystyle \\text{True}$"
      ],
      "text/plain": [
       "True"
      ]
     },
     "execution_count": 37,
     "metadata": {},
     "output_type": "execute_result"
    }
   ],
   "source": [
    "X_discrim_Y_b.subs(discrim_g_2_3_delta.rhs, discrim_g_2_3_delta.lhs).subs([\n",
    "    g2XY.args, g3XY.args\n",
    "]).simplify().subs(sqrt(X**4*Y**6 + 2*Y**12 + Y**18/X**4) , Y**3*(X**4+Y**6)/X**2).expand()"
   ]
  },
  {
   "cell_type": "code",
   "execution_count": 38,
   "id": "1edaa2c0",
   "metadata": {},
   "outputs": [
    {
     "data": {
      "text/latex": [
       "$\\displaystyle g_{2} = \\frac{\\Delta^{2}}{12 Y^{10}} + \\frac{5 \\Delta}{6 Y^{4}} + \\frac{5 Y^{2}}{12}$"
      ],
      "text/plain": [
       "Eq(g2, Delta**2/(12*Y**10) + 5*Delta/(6*Y**4) + 5*Y**2/12)"
      ]
     },
     "execution_count": 38,
     "metadata": {},
     "output_type": "execute_result"
    },
    {
     "data": {
      "text/latex": [
       "$\\displaystyle g_{3} = \\frac{\\Delta^{2} \\sqrt{\\Delta^{2} + 22 \\Delta Y^{6} + 125 Y^{12}}}{216 Y^{15}} + \\frac{\\Delta \\sqrt{\\Delta^{2} + 22 \\Delta Y^{6} + 125 Y^{12}}}{54 Y^{9}} - \\frac{\\sqrt{\\Delta^{2} + 22 \\Delta Y^{6} + 125 Y^{12}}}{216 Y^{3}}$"
      ],
      "text/plain": [
       "Eq(g3, Delta**2*sqrt(Delta**2 + 22*Delta*Y**6 + 125*Y**12)/(216*Y**15) + Delta*sqrt(Delta**2 + 22*Delta*Y**6 + 125*Y**12)/(54*Y**9) - sqrt(Delta**2 + 22*Delta*Y**6 + 125*Y**12)/(216*Y**3))"
      ]
     },
     "execution_count": 38,
     "metadata": {},
     "output_type": "execute_result"
    }
   ],
   "source": [
    "g2_Y = Eq(g2, \n",
    "   (X**4/(12*Y**4) - X**2/Y + 7*Y**2/6).subs(*X_discrim_Y_a.args) + \n",
    "   (Y**5/X**2 + Y**8/(12*X**4)).subs(*X_discrim_Y_a_one_over.args)\n",
    ").expand()\n",
    "\n",
    "g3_Y = Eq(g3,\n",
    "    (-X**6/(216*Y**6) + X**4/(12*Y**3) - 25*X**2/72).subs(*X_discrim_Y_a.args) + \n",
    "    (-25*Y**6/(72*X**2) - Y**9/(12*X**4) - Y**12/(216*X**6)).subs(*X_discrim_Y_a_one_over.args)\n",
    ").expand()\n",
    "\n",
    "g2_Y\n",
    "g3_Y"
   ]
  },
  {
   "cell_type": "code",
   "execution_count": 39,
   "id": "d4a48326",
   "metadata": {
    "scrolled": true
   },
   "outputs": [
    {
     "data": {
      "text/latex": [
       "$\\displaystyle X = Y^{\\frac{3}{2}} x$"
      ],
      "text/plain": [
       "Eq(X, Y**(3/2)*x)"
      ]
     },
     "execution_count": 39,
     "metadata": {},
     "output_type": "execute_result"
    },
    {
     "data": {
      "text/latex": [
       "$\\displaystyle \\Delta = Y^{6} \\cdot \\left(2 y - 11\\right)$"
      ],
      "text/plain": [
       "Eq(Delta, Y**6*(2*y - 11))"
      ]
     },
     "execution_count": 39,
     "metadata": {},
     "output_type": "execute_result"
    },
    {
     "data": {
      "text/latex": [
       "$\\displaystyle Y^{3} x^{2} = \\frac{\\Delta + 11 Y^{6} - \\sqrt{\\Delta^{2} + 22 \\Delta Y^{6} + 125 Y^{12}}}{2 Y^{3}}$"
      ],
      "text/plain": [
       "Eq(Y**3*x**2, (Delta + 11*Y**6 - sqrt(Delta**2 + 22*Delta*Y**6 + 125*Y**12))/(2*Y**3))"
      ]
     },
     "execution_count": 39,
     "metadata": {},
     "output_type": "execute_result"
    }
   ],
   "source": [
    "Xxy32 = Eq(X,x*Y**Rational(3,2))\n",
    "DeltaYy = Eq(Delta,(2*y-11)*Y**6)\n",
    "\n",
    "Xxy32\n",
    "DeltaYy\n",
    "X_discrim_Y_a.subs([Xxy32.args,]).simplify()"
   ]
  },
  {
   "cell_type": "code",
   "execution_count": 40,
   "id": "cf82b95b",
   "metadata": {},
   "outputs": [
    {
     "data": {
      "text/latex": [
       "$\\displaystyle x^{2} = y - \\sqrt{y^{2} + 1}$"
      ],
      "text/plain": [
       "Eq(x**2, y - sqrt(y**2 + 1))"
      ]
     },
     "execution_count": 40,
     "metadata": {},
     "output_type": "execute_result"
    },
    {
     "data": {
      "text/latex": [
       "$\\displaystyle y = \\frac{t}{2} - \\frac{1}{2 t}$"
      ],
      "text/plain": [
       "Eq(y, t/2 - 1/(2*t))"
      ]
     },
     "execution_count": 40,
     "metadata": {},
     "output_type": "execute_result"
    },
    {
     "data": {
      "text/latex": [
       "$\\displaystyle \\frac{1}{t} = - x^{2}$"
      ],
      "text/plain": [
       "Eq(1/t, -x**2)"
      ]
     },
     "execution_count": 40,
     "metadata": {},
     "output_type": "execute_result"
    },
    {
     "data": {
      "text/latex": [
       "$\\displaystyle y = \\frac{x^{2}}{2} - \\frac{1}{2 x^{2}}$"
      ],
      "text/plain": [
       "Eq(y, x**2/2 - 1/(2*x**2))"
      ]
     },
     "execution_count": 40,
     "metadata": {},
     "output_type": "execute_result"
    }
   ],
   "source": [
    "xy_sqrt = Eq(x**2, y - sqrt(y**2+1))\n",
    "yt_sub = Eq(y,(t - 1/t)/2)\n",
    "xsqrd_one_over_t = xy_sqrt.subs(*yt_sub.args).simplify().subs(sqrt(t**2 + 2 + 1/t**2),t + 1/t).simplify()\n",
    "yt_sub_b = yt_sub.subs(t, solve(xsqrd_one_over_t,t)[0])\n",
    "xy_sqrt\n",
    "yt_sub\n",
    "xsqrd_one_over_t\n",
    "yt_sub_b"
   ]
  },
  {
   "cell_type": "code",
   "execution_count": 41,
   "id": "6ec9f6c2",
   "metadata": {},
   "outputs": [
    {
     "data": {
      "text/latex": [
       "$\\displaystyle y = \\frac{X^{2}}{2 Y^{3}} - \\frac{Y^{3}}{2 X^{2}}$"
      ],
      "text/plain": [
       "Eq(y, X**2/(2*Y**3) - Y**3/(2*X**2))"
      ]
     },
     "execution_count": 41,
     "metadata": {},
     "output_type": "execute_result"
    }
   ],
   "source": [
    "yt_sub_b.subs(x, solve(Xxy32,x)[0])"
   ]
  },
  {
   "cell_type": "code",
   "execution_count": 42,
   "id": "75999b76",
   "metadata": {},
   "outputs": [
    {
     "data": {
      "text/latex": [
       "$\\displaystyle g_{2}^{3} - 27 g_{3}^{2} = \\frac{\\Delta x^{2}}{2 y - 11} - \\frac{11 \\Delta}{2 y - 11} - \\frac{\\Delta}{x^{2} \\cdot \\left(2 y - 11\\right)}$"
      ],
      "text/plain": [
       "Eq(g2**3 - 27*g3**2, Delta*x**2/(2*y - 11) - 11*Delta/(2*y - 11) - Delta/(x**2*(2*y - 11)))"
      ]
     },
     "execution_count": 42,
     "metadata": {},
     "output_type": "execute_result"
    }
   ],
   "source": [
    "discrim_g_2_3.subs(Xxy32.lhs**2, Xxy32.rhs**2).subs(Y**6, solve(DeltaYy,Y**6)[0])"
   ]
  },
  {
   "cell_type": "markdown",
   "id": "6643afff",
   "metadata": {},
   "source": [
    "### Method 2: Elliptic Hamiltonian\n",
    "\n",
    "In this example, the polynomial from the previous section is divided by the terms that were multiplying the Weierstrass P Prime function to give a new Hamiltonian system that is solved by Kronecker theta functions. The starting Hamiltonian for the system solved by Kronecker theta functions is:"
   ]
  },
  {
   "cell_type": "code",
   "execution_count": 43,
   "id": "6453d36c",
   "metadata": {
    "scrolled": false
   },
   "outputs": [
    {
     "data": {
      "text/latex": [
       "$\\displaystyle \\frac{2 X^{5}}{5 Y^{3} \\left(X^{2} - Y^{2} U{\\left(z \\right)} V{\\left(z \\right)}\\right)} + \\frac{Y^{2} U^{5}{\\left(z \\right)}}{5 \\left(X^{2} - Y^{2} U{\\left(z \\right)} V{\\left(z \\right)}\\right)} + \\frac{Y^{2} V^{5}{\\left(z \\right)}}{5 \\left(X^{2} - Y^{2} U{\\left(z \\right)} V{\\left(z \\right)}\\right)} - \\frac{\\left(3 X^{2} + Y^{3}\\right) U{\\left(z \\right)} V{\\left(z \\right)}}{5 X Y} = \\frac{2 X^{3} - X Y^{3}}{5 Y^{3}}$"
      ],
      "text/plain": [
       "Eq(2*X**5/(5*Y**3*(X**2 - Y**2*U(z)*V(z))) + Y**2*U(z)**5/(5*(X**2 - Y**2*U(z)*V(z))) + Y**2*V(z)**5/(5*(X**2 - Y**2*U(z)*V(z))) - (3*X**2 + Y**3)*U(z)*V(z)/(5*X*Y), (2*X**3 - X*Y**3)/(5*Y**3))"
      ]
     },
     "execution_count": 43,
     "metadata": {},
     "output_type": "execute_result"
    },
    {
     "data": {
      "text/latex": [
       "$\\displaystyle - \\frac{2 X^{5}}{5 Y \\left(- X^{2} + Y^{2} U{\\left(z \\right)} V{\\left(z \\right)}\\right)^{2}} - \\frac{Y^{4} U^{5}{\\left(z \\right)}}{5 \\left(- X^{2} + Y^{2} U{\\left(z \\right)} V{\\left(z \\right)}\\right)^{2}} - \\frac{Y^{4} V^{5}{\\left(z \\right)}}{5 \\left(- X^{2} + Y^{2} U{\\left(z \\right)} V{\\left(z \\right)}\\right)^{2}} = - \\frac{X \\left(2 X^{2} - Y^{3}\\right)}{5 Y \\left(X^{2} - Y^{2} U{\\left(z \\right)} V{\\left(z \\right)}\\right)} - \\frac{X \\left(3 X^{2} + Y^{3}\\right)}{5 Y \\left(X^{2} - Y^{2} U{\\left(z \\right)} V{\\left(z \\right)}\\right)} + \\frac{3 X^{2} + Y^{3}}{5 X Y}$"
      ],
      "text/plain": [
       "Eq(-2*X**5/(5*Y*(-X**2 + Y**2*U(z)*V(z))**2) - Y**4*U(z)**5/(5*(-X**2 + Y**2*U(z)*V(z))**2) - Y**4*V(z)**5/(5*(-X**2 + Y**2*U(z)*V(z))**2), -X*(2*X**2 - Y**3)/(5*Y*(X**2 - Y**2*U(z)*V(z))) - X*(3*X**2 + Y**3)/(5*Y*(X**2 - Y**2*U(z)*V(z))) + (3*X**2 + Y**3)/(5*X*Y))"
      ]
     },
     "execution_count": 43,
     "metadata": {},
     "output_type": "execute_result"
    }
   ],
   "source": [
    "K_UV_ellip = Eq(\n",
    "    ((pw_pwp_sig5_even_UV_d.lhs - pw_pwp_sig5_even_UV_d.rhs)/(U(z)*V(z)-kappa)/5)\n",
    "    .expand()\n",
    "    .subs([d0_pw_pwp.args, d1_pw_pwp_b.args, d3_pw_pwp_b.args, kappa_pw.args])\n",
    "    .subs([pwp_X_5.args, pw_X_245.args])\n",
    "    .simplify().expand().collect([U(z),V(z)],simplify)\n",
    "        ,0)\n",
    "\n",
    "K_UV_ellip_apart = Eq(\n",
    "    (apart(K_UV_ellip.lhs.subs([(U(z)**5,0), (V(z)**5,0)]).subs(U(z),Z/V(z)), Z) + \n",
    "    (K_UV_ellip.lhs - K_UV_ellip.lhs.subs([(U(z)**5,0), (V(z)**5,0)])))\n",
    "    .subs(Z,U(z)*V(z)),\n",
    "    K_UV_ellip.rhs\n",
    ")\n",
    "non_UV_part = sum(t for t in K_UV_ellip_apart.lhs.args if x not in t.subs([(U(z),x),(V(z),x)]).free_symbols)\n",
    "K_UV_ellip_b = Eq(K_UV_ellip_apart.lhs - non_UV_part, K_UV_ellip_apart.rhs - non_UV_part)\n",
    "\n",
    "non_UV5_part = sum(t for t in K_UV_ellip_b.lhs.args if x not in t.subs([(U(z)**5,x),(V(z)**5,x)]).free_symbols)\n",
    "K_UV_ellip_b2 = Eq(K_UV_ellip_b.lhs - non_UV5_part, K_UV_ellip_b.rhs - non_UV5_part)\n",
    "\n",
    "_UV_term__ = (3*X**2 + Y**3)/(5*X*Y)*U(z)*V(z)\n",
    "_UV_term_denom = -X**2 + Y**2*U(z)*V(z)\n",
    "K_UV_ellip_b3 = Eq(\n",
    "    sum((Y**2*t/_UV_term_denom).factor() for t in  (K_UV_ellip_b.lhs + _UV_term__).args), \n",
    "    sum(apart((Y**2*t/_UV_term_denom).subs(U(z)*V(z),Z),Z).subs(Z,U(z)*V(z)) \n",
    "        for t in  (K_UV_ellip_b.rhs + _UV_term__).args)\n",
    ")\n",
    "\n",
    "# K_UV_ellip\n",
    "# K_UV_ellip_apart\n",
    "K_UV_ellip_b\n",
    "# K_UV_ellip_b2\n",
    "K_UV_ellip_b3"
   ]
  },
  {
   "cell_type": "markdown",
   "id": "c3805a45",
   "metadata": {},
   "source": [
    "The system of differential equations and their solutions are:"
   ]
  },
  {
   "cell_type": "code",
   "execution_count": 79,
   "id": "92e90147",
   "metadata": {
    "scrolled": false
   },
   "outputs": [
    {
     "data": {
      "text/latex": [
       "$\\displaystyle \\frac{d}{d z} U{\\left(z \\right)} = \\frac{2 X^{5} U{\\left(z \\right)}}{5 Y \\left(- X^{2} + Y^{2} U{\\left(z \\right)} V{\\left(z \\right)}\\right)^{2}} + \\frac{Y^{4} U^{6}{\\left(z \\right)}}{5 \\left(- X^{2} + Y^{2} U{\\left(z \\right)} V{\\left(z \\right)}\\right)^{2}} + \\frac{Y^{4} U{\\left(z \\right)} V^{5}{\\left(z \\right)}}{5 \\left(- X^{2} + Y^{2} U{\\left(z \\right)} V{\\left(z \\right)}\\right)^{2}} - \\frac{Y^{2} V^{4}{\\left(z \\right)}}{- X^{2} + Y^{2} U{\\left(z \\right)} V{\\left(z \\right)}} - \\frac{\\left(3 X^{2} + Y^{3}\\right) U{\\left(z \\right)}}{5 X Y}$"
      ],
      "text/plain": [
       "Eq(Derivative(U(z), z), 2*X**5*U(z)/(5*Y*(-X**2 + Y**2*U(z)*V(z))**2) + Y**4*U(z)**6/(5*(-X**2 + Y**2*U(z)*V(z))**2) + Y**4*U(z)*V(z)**5/(5*(-X**2 + Y**2*U(z)*V(z))**2) - Y**2*V(z)**4/(-X**2 + Y**2*U(z)*V(z)) - (3*X**2 + Y**3)*U(z)/(5*X*Y))"
      ]
     },
     "execution_count": 79,
     "metadata": {},
     "output_type": "execute_result"
    },
    {
     "data": {
      "text/latex": [
       "$\\displaystyle \\frac{d}{d z} V{\\left(z \\right)} = - \\frac{2 X^{5} V{\\left(z \\right)}}{5 Y \\left(- X^{2} + Y^{2} U{\\left(z \\right)} V{\\left(z \\right)}\\right)^{2}} - \\frac{Y^{4} U^{5}{\\left(z \\right)} V{\\left(z \\right)}}{5 \\left(- X^{2} + Y^{2} U{\\left(z \\right)} V{\\left(z \\right)}\\right)^{2}} - \\frac{Y^{4} V^{6}{\\left(z \\right)}}{5 \\left(- X^{2} + Y^{2} U{\\left(z \\right)} V{\\left(z \\right)}\\right)^{2}} + \\frac{Y^{2} U^{4}{\\left(z \\right)}}{- X^{2} + Y^{2} U{\\left(z \\right)} V{\\left(z \\right)}} + \\frac{\\left(3 X^{2} + Y^{3}\\right) V{\\left(z \\right)}}{5 X Y}$"
      ],
      "text/plain": [
       "Eq(Derivative(V(z), z), -2*X**5*V(z)/(5*Y*(-X**2 + Y**2*U(z)*V(z))**2) - Y**4*U(z)**5*V(z)/(5*(-X**2 + Y**2*U(z)*V(z))**2) - Y**4*V(z)**6/(5*(-X**2 + Y**2*U(z)*V(z))**2) + Y**2*U(z)**4/(-X**2 + Y**2*U(z)*V(z)) + (3*X**2 + Y**3)*V(z)/(5*X*Y))"
      ]
     },
     "execution_count": 79,
     "metadata": {},
     "output_type": "execute_result"
    },
    {
     "data": {
      "text/latex": [
       "$\\displaystyle \\frac{d}{d z} U{\\left(z \\right)} = - \\frac{X^{3} U{\\left(z \\right)}}{Y \\left(- X^{2} + Y^{2} U{\\left(z \\right)} V{\\left(z \\right)}\\right)} - \\frac{Y^{2} V^{4}{\\left(z \\right)}}{- X^{2} + Y^{2} U{\\left(z \\right)} V{\\left(z \\right)}} - \\frac{2 \\cdot \\left(3 X^{2} + Y^{3}\\right) U{\\left(z \\right)}}{5 X Y}$"
      ],
      "text/plain": [
       "Eq(Derivative(U(z), z), -X**3*U(z)/(Y*(-X**2 + Y**2*U(z)*V(z))) - Y**2*V(z)**4/(-X**2 + Y**2*U(z)*V(z)) - 2*(3*X**2 + Y**3)*U(z)/(5*X*Y))"
      ]
     },
     "execution_count": 79,
     "metadata": {},
     "output_type": "execute_result"
    },
    {
     "data": {
      "text/latex": [
       "$\\displaystyle \\frac{d}{d z} V{\\left(z \\right)} = \\frac{X^{3} V{\\left(z \\right)}}{Y \\left(- X^{2} + Y^{2} U{\\left(z \\right)} V{\\left(z \\right)}\\right)} + \\frac{Y^{2} U^{4}{\\left(z \\right)}}{- X^{2} + Y^{2} U{\\left(z \\right)} V{\\left(z \\right)}} + \\frac{2 \\cdot \\left(3 X^{2} + Y^{3}\\right) V{\\left(z \\right)}}{5 X Y}$"
      ],
      "text/plain": [
       "Eq(Derivative(V(z), z), X**3*V(z)/(Y*(-X**2 + Y**2*U(z)*V(z))) + Y**2*U(z)**4/(-X**2 + Y**2*U(z)*V(z)) + 2*(3*X**2 + Y**3)*V(z)/(5*X*Y))"
      ]
     },
     "execution_count": 79,
     "metadata": {},
     "output_type": "execute_result"
    },
    {
     "data": {
      "text/latex": [
       "$\\displaystyle \\frac{d}{d z} U{\\left(z \\right)} V{\\left(z \\right)} = \\frac{Y^{2} \\left(U^{5}{\\left(z \\right)} - V^{5}{\\left(z \\right)}\\right)}{- X^{2} + Y^{2} U{\\left(z \\right)} V{\\left(z \\right)}}$"
      ],
      "text/plain": [
       "Eq(Derivative(U(z)*V(z), z), Y**2*(U(z)**5 - V(z)**5)/(-X**2 + Y**2*U(z)*V(z)))"
      ]
     },
     "execution_count": 79,
     "metadata": {},
     "output_type": "execute_result"
    },
    {
     "data": {
      "text/latex": [
       "$\\displaystyle \\left(\\frac{d}{d z} U{\\left(z \\right)} V{\\left(z \\right)}\\right)^{2} = X^{2} - 4 U^{3}{\\left(z \\right)} V^{3}{\\left(z \\right)} - \\frac{2 \\left(X^{2} + Y^{3}\\right) U{\\left(z \\right)} V{\\left(z \\right)}}{Y} + \\frac{\\left(X^{4} + 6 X^{2} Y^{3} + Y^{6}\\right) U^{2}{\\left(z \\right)} V^{2}{\\left(z \\right)}}{X^{2} Y^{2}}$"
      ],
      "text/plain": [
       "Eq(Derivative(U(z)*V(z), z)**2, X**2 - 4*U(z)**3*V(z)**3 - 2*(X**2 + Y**3)*U(z)*V(z)/Y + (X**4 + 6*X**2*Y**3 + Y**6)*U(z)**2*V(z)**2/(X**2*Y**2))"
      ]
     },
     "execution_count": 79,
     "metadata": {},
     "output_type": "execute_result"
    },
    {
     "data": {
      "text/latex": [
       "$\\displaystyle U{\\left(z \\right)} V{\\left(z \\right)} = \\frac{X^{2}}{12 Y^{2}} + \\frac{Y}{2} - W{\\left(z \\right)} + \\frac{Y^{4}}{12 X^{2}}$"
      ],
      "text/plain": [
       "Eq(U(z)*V(z), X**2/(12*Y**2) + Y/2 - W(z) + Y**4/(12*X**2))"
      ]
     },
     "execution_count": 79,
     "metadata": {},
     "output_type": "execute_result"
    },
    {
     "data": {
      "text/latex": [
       "$\\displaystyle \\left(\\frac{d}{d z} W{\\left(z \\right)}\\right)^{2} = \\frac{X^{6}}{216 Y^{6}} - \\frac{X^{4}}{12 Y^{3}} + \\frac{25 X^{2}}{72} + \\left(- \\frac{X^{4}}{12 Y^{4}} + \\frac{X^{2}}{Y} - \\frac{7 Y^{2}}{6} - \\frac{Y^{5}}{X^{2}} - \\frac{Y^{8}}{12 X^{4}}\\right) W{\\left(z \\right)} + 4 W^{3}{\\left(z \\right)} + \\frac{25 Y^{6}}{72 X^{2}} + \\frac{Y^{9}}{12 X^{4}} + \\frac{Y^{12}}{216 X^{6}}$"
      ],
      "text/plain": [
       "Eq(Derivative(W(z), z)**2, X**6/(216*Y**6) - X**4/(12*Y**3) + 25*X**2/72 + (-X**4/(12*Y**4) + X**2/Y - 7*Y**2/6 - Y**5/X**2 - Y**8/(12*X**4))*W(z) + 4*W(z)**3 + 25*Y**6/(72*X**2) + Y**9/(12*X**4) + Y**12/(216*X**6))"
      ]
     },
     "execution_count": 79,
     "metadata": {},
     "output_type": "execute_result"
    },
    {
     "data": {
      "text/latex": [
       "$\\displaystyle g_{2} = \\frac{X^{4}}{12 Y^{4}} - \\frac{X^{2}}{Y} + \\frac{7 Y^{2}}{6} + \\frac{Y^{5}}{X^{2}} + \\frac{Y^{8}}{12 X^{4}}$"
      ],
      "text/plain": [
       "Eq(g2, X**4/(12*Y**4) - X**2/Y + 7*Y**2/6 + Y**5/X**2 + Y**8/(12*X**4))"
      ]
     },
     "execution_count": 79,
     "metadata": {},
     "output_type": "execute_result"
    },
    {
     "data": {
      "text/latex": [
       "$\\displaystyle g_{3} = - \\frac{X^{6}}{216 Y^{6}} + \\frac{X^{4}}{12 Y^{3}} - \\frac{25 X^{2}}{72} - \\frac{25 Y^{6}}{72 X^{2}} - \\frac{Y^{9}}{12 X^{4}} - \\frac{Y^{12}}{216 X^{6}}$"
      ],
      "text/plain": [
       "Eq(g3, -X**6/(216*Y**6) + X**4/(12*Y**3) - 25*X**2/72 - 25*Y**6/(72*X**2) - Y**9/(12*X**4) - Y**12/(216*X**6))"
      ]
     },
     "execution_count": 79,
     "metadata": {},
     "output_type": "execute_result"
    },
    {
     "data": {
      "text/latex": [
       "$\\displaystyle \\operatorname{pw}{\\left(y,g_{2},g_{3} \\right)} = \\frac{X^{2}}{12 Y^{2}} + \\frac{Y}{2} + \\frac{Y^{4}}{12 X^{2}}$"
      ],
      "text/plain": [
       "Eq(pw(y, g2, g3), X**2/(12*Y**2) + Y/2 + Y**4/(12*X**2))"
      ]
     },
     "execution_count": 79,
     "metadata": {},
     "output_type": "execute_result"
    },
    {
     "data": {
      "text/latex": [
       "$\\displaystyle \\operatorname{pwp}{\\left(y,g_{2},g_{3} \\right)} = X$"
      ],
      "text/plain": [
       "Eq(pwp(y, g2, g3), X)"
      ]
     },
     "execution_count": 79,
     "metadata": {},
     "output_type": "execute_result"
    },
    {
     "name": "stdout",
     "output_type": "stream",
     "text": [
      "y existence check: True\n"
     ]
    },
    {
     "data": {
      "text/latex": [
       "$\\displaystyle U{\\left(z \\right)} V{\\left(z \\right)} = \\operatorname{pw}{\\left(y,g_{2},g_{3} \\right)} - \\operatorname{pw}{\\left(z - z_{0},g_{2},g_{3} \\right)}$"
      ],
      "text/plain": [
       "Eq(U(z)*V(z), pw(y, g2, g3) - pw(z - z0, g2, g3))"
      ]
     },
     "execution_count": 79,
     "metadata": {},
     "output_type": "execute_result"
    },
    {
     "data": {
      "text/latex": [
       "$\\displaystyle \\frac{\\frac{d}{d z} U{\\left(z \\right)}}{U{\\left(z \\right)}} = - \\frac{X^{3}}{Y \\left(- X^{2} + Y^{2} U{\\left(z \\right)} V{\\left(z \\right)}\\right)} - \\frac{Y^{2} V^{4}{\\left(z \\right)}}{\\left(- X^{2} + Y^{2} U{\\left(z \\right)} V{\\left(z \\right)}\\right) U{\\left(z \\right)}} - \\frac{2 \\cdot \\left(3 X^{2} + Y^{3}\\right)}{5 X Y}$"
      ],
      "text/plain": [
       "Eq(Derivative(U(z), z)/U(z), -X**3/(Y*(-X**2 + Y**2*U(z)*V(z))) - Y**2*V(z)**4/((-X**2 + Y**2*U(z)*V(z))*U(z)) - 2*(3*X**2 + Y**3)/(5*X*Y))"
      ]
     },
     "execution_count": 79,
     "metadata": {},
     "output_type": "execute_result"
    },
    {
     "data": {
      "text/latex": [
       "$\\displaystyle \\frac{\\frac{d}{d z} U{\\left(z \\right)}}{U{\\left(z \\right)}} = \\frac{X^{5}}{Y^{3} \\left(- X^{2} + Y^{2} U{\\left(z \\right)} V{\\left(z \\right)}\\right) U{\\left(z \\right)} V{\\left(z \\right)}} - \\frac{X^{3}}{Y \\left(- X^{2} + Y^{2} U{\\left(z \\right)} V{\\left(z \\right)}\\right)} + \\frac{X \\left(2 X^{2} - Y^{3}\\right)}{2 Y^{3} U{\\left(z \\right)} V{\\left(z \\right)}} + \\frac{\\frac{d}{d z} U{\\left(z \\right)} V{\\left(z \\right)}}{2 U{\\left(z \\right)} V{\\left(z \\right)}} + \\frac{3 X^{2} + Y^{3}}{10 X Y}$"
      ],
      "text/plain": [
       "Eq(Derivative(U(z), z)/U(z), X**5/(Y**3*(-X**2 + Y**2*U(z)*V(z))*U(z)*V(z)) - X**3/(Y*(-X**2 + Y**2*U(z)*V(z))) + X*(2*X**2 - Y**3)/(2*Y**3*U(z)*V(z)) + Derivative(U(z)*V(z), z)/(2*U(z)*V(z)) + (3*X**2 + Y**3)/(10*X*Y))"
      ]
     },
     "execution_count": 79,
     "metadata": {},
     "output_type": "execute_result"
    },
    {
     "data": {
      "text/latex": [
       "$\\displaystyle \\frac{\\frac{d}{d z} U{\\left(z \\right)}}{U{\\left(z \\right)}} = \\frac{6 X^{2} Y^{2} \\left(X + \\frac{d}{d z} W{\\left(z \\right)}\\right)}{- X^{4} - 6 X^{2} Y^{3} + 12 X^{2} Y^{2} W{\\left(z \\right)} - Y^{6}} + \\frac{3 X^{2} + Y^{3}}{10 X Y}$"
      ],
      "text/plain": [
       "Eq(Derivative(U(z), z)/U(z), 6*X**2*Y**2*(X + Derivative(W(z), z))/(-X**4 - 6*X**2*Y**3 + 12*X**2*Y**2*W(z) - Y**6) + (3*X**2 + Y**3)/(10*X*Y))"
      ]
     },
     "execution_count": 79,
     "metadata": {},
     "output_type": "execute_result"
    },
    {
     "data": {
      "text/latex": [
       "$\\displaystyle \\frac{\\frac{d}{d z} U{\\left(z \\right)}}{U{\\left(z \\right)}} = \\frac{\\operatorname{pwp}{\\left(y,g_{2},g_{3} \\right)} + \\operatorname{pwp}{\\left(z - z_{0},g_{2},g_{3} \\right)}}{2 \\left(- \\operatorname{pw}{\\left(y,g_{2},g_{3} \\right)} + \\operatorname{pw}{\\left(z - z_{0},g_{2},g_{3} \\right)}\\right)} + \\frac{Y^{3} + 3 \\operatorname{pwp}^{2}{\\left(y,g_{2},g_{3} \\right)}}{10 Y \\operatorname{pwp}{\\left(y,g_{2},g_{3} \\right)}}$"
      ],
      "text/plain": [
       "Eq(Derivative(U(z), z)/U(z), (pwp(y, g2, g3) + pwp(z - z0, g2, g3))/(2*(-pw(y, g2, g3) + pw(z - z0, g2, g3))) + (Y**3 + 3*pwp(y, g2, g3)**2)/(10*Y*pwp(y, g2, g3)))"
      ]
     },
     "execution_count": 79,
     "metadata": {},
     "output_type": "execute_result"
    },
    {
     "data": {
      "text/latex": [
       "$\\displaystyle \\frac{\\frac{d}{d z} U{\\left(z \\right)}}{U{\\left(z \\right)}} = \\operatorname{zw}{\\left(y,g_{2},g_{3} \\right)} - \\operatorname{zw}{\\left(z - z_{0},g_{2},g_{3} \\right)} + \\operatorname{zw}{\\left(- y + z - z_{0},g_{2},g_{3} \\right)} + \\frac{Y^{3} + 3 \\operatorname{pwp}^{2}{\\left(y,g_{2},g_{3} \\right)}}{10 Y \\operatorname{pwp}{\\left(y,g_{2},g_{3} \\right)}}$"
      ],
      "text/plain": [
       "Eq(Derivative(U(z), z)/U(z), zw(y, g2, g3) - zw(z - z0, g2, g3) + zw(-y + z - z0, g2, g3) + (Y**3 + 3*pwp(y, g2, g3)**2)/(10*Y*pwp(y, g2, g3)))"
      ]
     },
     "execution_count": 79,
     "metadata": {},
     "output_type": "execute_result"
    },
    {
     "data": {
      "text/latex": [
       "$\\displaystyle \\frac{d}{d z} \\log{\\left(U{\\left(z \\right)} \\right)} = \\operatorname{zw}{\\left(y,g_{2},g_{3} \\right)} - \\frac{\\partial}{\\partial z} \\log{\\left(\\sigma{\\left(z - z_{0},g_{2},g_{3} \\right)} \\right)} + \\frac{\\partial}{\\partial z} \\log{\\left(\\sigma{\\left(- y + z - z_{0},g_{2},g_{3} \\right)} \\right)} + \\frac{Y^{3} + 3 \\operatorname{pwp}^{2}{\\left(y,g_{2},g_{3} \\right)}}{10 Y \\operatorname{pwp}{\\left(y,g_{2},g_{3} \\right)}}$"
      ],
      "text/plain": [
       "Eq(Derivative(log(U(z)), z), zw(y, g2, g3) - Derivative(log(sigma(z - z0, g2, g3)), z) + Derivative(log(sigma(-y + z - z0, g2, g3)), z) + (Y**3 + 3*pwp(y, g2, g3)**2)/(10*Y*pwp(y, g2, g3)))"
      ]
     },
     "execution_count": 79,
     "metadata": {},
     "output_type": "execute_result"
    },
    {
     "data": {
      "text/latex": [
       "$\\displaystyle U{\\left(z \\right)} = \\frac{\\sigma{\\left(- y + z - z_{0},g_{2},g_{3} \\right)} e^{\\frac{Y^{2} z}{10 \\operatorname{pwp}{\\left(y,g_{2},g_{3} \\right)}} + z \\operatorname{zw}{\\left(y,g_{2},g_{3} \\right)} + c + \\frac{3 z \\operatorname{pwp}{\\left(y,g_{2},g_{3} \\right)}}{10 Y}}}{\\sigma{\\left(z - z_{0},g_{2},g_{3} \\right)}}$"
      ],
      "text/plain": [
       "Eq(U(z), sigma(-y + z - z0, g2, g3)*exp(Y**2*z/(10*pwp(y, g2, g3)) + z*zw(y, g2, g3) + c + 3*z*pwp(y, g2, g3)/(10*Y))/sigma(z - z0, g2, g3))"
      ]
     },
     "execution_count": 79,
     "metadata": {},
     "output_type": "execute_result"
    },
    {
     "data": {
      "text/latex": [
       "$\\displaystyle V{\\left(z \\right)} = \\frac{\\sigma{\\left(y + z - z_{0},g_{2},g_{3} \\right)} e^{- \\frac{Y^{2} z}{10 \\operatorname{pwp}{\\left(y,g_{2},g_{3} \\right)}} - z \\operatorname{zw}{\\left(y,g_{2},g_{3} \\right)} - c - \\frac{3 z \\operatorname{pwp}{\\left(y,g_{2},g_{3} \\right)}}{10 Y}}}{\\sigma^{2}{\\left(y,g_{2},g_{3} \\right)} \\sigma{\\left(z - z_{0},g_{2},g_{3} \\right)}}$"
      ],
      "text/plain": [
       "Eq(V(z), sigma(y + z - z0, g2, g3)*exp(-Y**2*z/(10*pwp(y, g2, g3)) - z*zw(y, g2, g3) - c - 3*z*pwp(y, g2, g3)/(10*Y))/(sigma(y, g2, g3)**2*sigma(z - z0, g2, g3)))"
      ]
     },
     "execution_count": 79,
     "metadata": {},
     "output_type": "execute_result"
    },
    {
     "data": {
      "text/latex": [
       "$\\displaystyle \\frac{U^{5}{\\left(z \\right)}}{U^{5}{\\left(z + 2 {\\psi}_{n,m} \\right)}} = 1$"
      ],
      "text/plain": [
       "Eq(U(z)**5/U(z + 2*psi[n, m])**5, 1)"
      ]
     },
     "execution_count": 79,
     "metadata": {},
     "output_type": "execute_result"
    },
    {
     "data": {
      "text/latex": [
       "$\\displaystyle 1 = e^{- \\frac{Y^{2} {\\psi}_{n,m}}{\\operatorname{pwp}{\\left(y,g_{2},g_{3} \\right)}} + 10 \\eta_{1} n y + 10 \\eta_{3} m y - 10 \\operatorname{zw}{\\left(y,g_{2},g_{3} \\right)} {\\psi}_{n,m} - \\frac{3 \\operatorname{pwp}{\\left(y,g_{2},g_{3} \\right)} {\\psi}_{n,m}}{Y}}$"
      ],
      "text/plain": [
       "Eq(1, exp(-Y**2*psi[n, m]/pwp(y, g2, g3) + 10*eta1*n*y + 10*eta3*m*y - 10*zw(y, g2, g3)*psi[n, m] - 3*pwp(y, g2, g3)*psi[n, m]/Y))"
      ]
     },
     "execution_count": 79,
     "metadata": {},
     "output_type": "execute_result"
    },
    {
     "data": {
      "text/latex": [
       "$\\displaystyle 2 i \\pi j = - \\frac{Y^{2} {\\psi}_{n,m}}{\\operatorname{pwp}{\\left(y,g_{2},g_{3} \\right)}} + 10 \\eta_{1} n y + 10 \\eta_{3} m y - 10 \\operatorname{zw}{\\left(y,g_{2},g_{3} \\right)} {\\psi}_{n,m} - \\frac{3 \\operatorname{pwp}{\\left(y,g_{2},g_{3} \\right)} {\\psi}_{n,m}}{Y}$"
      ],
      "text/plain": [
       "Eq(2*I*pi*j, -Y**2*psi[n, m]/pwp(y, g2, g3) + 10*eta1*n*y + 10*eta3*m*y - 10*zw(y, g2, g3)*psi[n, m] - 3*pwp(y, g2, g3)*psi[n, m]/Y)"
      ]
     },
     "execution_count": 79,
     "metadata": {},
     "output_type": "execute_result"
    },
    {
     "data": {
      "text/latex": [
       "$\\displaystyle \\operatorname{zw}{\\left(y,g_{2},g_{3} \\right)} = - \\frac{Y^{2}}{10 \\operatorname{pwp}{\\left(y,g_{2},g_{3} \\right)}} + \\frac{\\eta_{1} n y}{{\\psi}_{n,m}} + \\frac{\\eta_{3} m y}{{\\psi}_{n,m}} - \\frac{i \\pi j}{5 {\\psi}_{n,m}} - \\frac{3 \\operatorname{pwp}{\\left(y,g_{2},g_{3} \\right)}}{10 Y}$"
      ],
      "text/plain": [
       "Eq(zw(y, g2, g3), -Y**2/(10*pwp(y, g2, g3)) + eta1*n*y/psi[n, m] + eta3*m*y/psi[n, m] - I*pi*j/(5*psi[n, m]) - 3*pwp(y, g2, g3)/(10*Y))"
      ]
     },
     "execution_count": 79,
     "metadata": {},
     "output_type": "execute_result"
    },
    {
     "data": {
      "text/latex": [
       "$\\displaystyle U{\\left(z \\right)} = \\frac{\\sigma{\\left(- y + z - z_{0},g_{2},g_{3} \\right)} e^{\\frac{\\eta_{1} n y z}{{\\psi}_{n,m}} + \\frac{\\eta_{3} m y z}{{\\psi}_{n,m}} - \\frac{i \\pi j z}{5 {\\psi}_{n,m}} + c}}{\\sigma{\\left(z - z_{0},g_{2},g_{3} \\right)}}$"
      ],
      "text/plain": [
       "Eq(U(z), sigma(-y + z - z0, g2, g3)*exp(eta1*n*y*z/psi[n, m] + eta3*m*y*z/psi[n, m] - I*pi*j*z/(5*psi[n, m]) + c)/sigma(z - z0, g2, g3))"
      ]
     },
     "execution_count": 79,
     "metadata": {},
     "output_type": "execute_result"
    },
    {
     "data": {
      "text/latex": [
       "$\\displaystyle V{\\left(z \\right)} = \\frac{\\sigma{\\left(y + z - z_{0},g_{2},g_{3} \\right)} e^{- \\frac{\\eta_{1} n y z}{{\\psi}_{n,m}} - \\frac{\\eta_{3} m y z}{{\\psi}_{n,m}} + \\frac{i \\pi j z}{5 {\\psi}_{n,m}} - c}}{\\sigma^{2}{\\left(y,g_{2},g_{3} \\right)} \\sigma{\\left(z - z_{0},g_{2},g_{3} \\right)}}$"
      ],
      "text/plain": [
       "Eq(V(z), sigma(y + z - z0, g2, g3)*exp(-eta1*n*y*z/psi[n, m] - eta3*m*y*z/psi[n, m] + I*pi*j*z/(5*psi[n, m]) - c)/(sigma(y, g2, g3)**2*sigma(z - z0, g2, g3)))"
      ]
     },
     "execution_count": 79,
     "metadata": {},
     "output_type": "execute_result"
    }
   ],
   "source": [
    "dU_ellip = Eq(diff(U(z),z), sum(t.factor() for t in diff(K_UV_ellip_b.lhs, V(z)).args))\n",
    "dV_ellip = Eq(diff(V(z),z), -sum(t.factor() for t in diff(K_UV_ellip_b.lhs, U(z)).args))\n",
    "dU_ellip_b = dU_ellip.subs(sum(t*U(z) for t in K_UV_ellip_b3.lhs.args), \n",
    "                           sum(t*U(z) for t in K_UV_ellip_b3.rhs.args))\n",
    "dU_ellip_b = Eq(dU_ellip_b.lhs, \n",
    "                sum(t.factor() for t in dU_ellip_b.rhs.collect([U(z)/(-_UV_term_denom)/(5*Y)]).args)\n",
    "                   )\n",
    "dV_ellip_b = dV_ellip.subs(-sum(t*V(z) for t in K_UV_ellip_b3.lhs.args), \n",
    "                           -sum(t*V(z) for t in K_UV_ellip_b3.rhs.args))\n",
    "dV_ellip_b = Eq(dV_ellip_b.lhs, \n",
    "                sum(t.factor() for t in dV_ellip_b.rhs.collect([V(z)/(-_UV_term_denom)/(5*Y)]).args)\n",
    "                   )\n",
    "dUV_ellip = Eq(Derivative(U(z)*V(z),z), \n",
    "               Derivative(U(z)*V(z),z).doit().subs([dU_ellip_b.args, dV_ellip_b.args]).simplify())\n",
    "\n",
    "dUV_ellip_sqrd = Eq(dUV_ellip.lhs**2, \n",
    "   (dUV_ellip.rhs**2 - (5*K_UV_ellip_b2.lhs)**2 + (5*K_UV_ellip_b2.rhs)**2)\n",
    "   .simplify().factor().expand().collect(U(z)*V(z), factor)\n",
    "  )\n",
    "\n",
    "W_alpha_UV = Eq(U(z)*V(z), -W(z)+alpha)\n",
    "dW_alpha = Eq(\n",
    "    dUV_ellip_sqrd.lhs.subs(*W_alpha_UV.args).doit(), \n",
    "    dUV_ellip_sqrd.rhs.subs(*W_alpha_UV.args).expand().collect(W(z),factor)\n",
    "  )\n",
    "alpha_no_sqrd = Eq(alpha, solve(dW_alpha.rhs.coeff(W(z),2), alpha)[0])\n",
    "dW_elliptic = Eq(dW_alpha.lhs, dW_alpha.rhs.subs(*alpha_no_sqrd.args).expand().collect(W(z)))\n",
    "\n",
    "W_UV_ellptic = W_alpha_UV.subs(*alpha_no_sqrd.args)\n",
    "\n",
    "g2_ellip = Eq(g2, -dW_elliptic.rhs.coeff(W(z)))\n",
    "g3_ellip = Eq(g3, -dW_elliptic.rhs.coeff(W(z),0))\n",
    "\n",
    "\n",
    "\n",
    "ln_dU_ellip = Eq(dU_ellip_b.lhs/U(z), sum(t/U(z) for t in dU_ellip_b.rhs.args))\n",
    "ln_dUV_ellip = Eq(dUV_ellip.lhs/(U(z)*V(z)) - (dUV_ellip.rhs/(U(z)*V(z))).expand().collect(V(z)**5, factor),0)\n",
    "\n",
    "ham_sub_for_ln_dUV_ellip = Eq(sum((5*t/(U(z)*V(z))).factor() for t in K_UV_ellip_b2.lhs.args) - \n",
    "   sum((5*t/(U(z)*V(z))).factor() for t in K_UV_ellip_b2.rhs.args),\n",
    "  0\n",
    "  )\n",
    "\n",
    "ln_dUV_ellip_b = Eq((ln_dUV_ellip.lhs - ham_sub_for_ln_dUV_ellip.lhs)/2, \n",
    "                    (ln_dUV_ellip.rhs - ham_sub_for_ln_dUV_ellip.rhs)/2)\n",
    "\n",
    "ln_dU_ellip_b = Eq(ln_dU_ellip.lhs + ln_dUV_ellip_b.rhs, ln_dU_ellip.rhs + ln_dUV_ellip_b.lhs)\n",
    "ln_dU_ellip_c = Eq(ln_dU_ellip_b.lhs, \n",
    "                   sum(t.factor().doit() for t in ln_dU_ellip_b.rhs.subs(*W_UV_ellptic.args).args)\n",
    "                  )\n",
    "__terms_for_simp = sum(t for t in ln_dU_ellip_c.rhs.args if \n",
    "    ((x in t.subs([(diff(W(z),z),y),(W(z),x)]).free_symbols) and \n",
    "     (y not in t.subs([(diff(W(z),z),y),(W(z),x)]).free_symbols)\n",
    "    ))\n",
    "ln_dU_ellip_c = ln_dU_ellip_c.subs(__terms_for_simp, __terms_for_simp.simplify())\n",
    "ln_dU_ellip_c = Eq(ln_dU_ellip_c.lhs, ln_dU_ellip_c.rhs.collect((3*X**2+Y**3)/(10*X*Y), factor))\n",
    "\n",
    "__denom_term_Wb = (12*X**2*Y**2)\n",
    "pw_y_XY = Eq(pw(y,g2,g3), W(z) - (fraction(ln_dU_ellip_c.rhs.args[1])[1]/__denom_term_Wb).expand())\n",
    "pwp_y_XY_choice = Eq(pwp(y,g2,g3),X)\n",
    "pwp_sqrd_y_XY = Eq(dW_elliptic.lhs.subs(diff(W(z),z),pwp(y,g2,g3)), \n",
    "   dW_elliptic.rhs.subs(W(z),pw(y,g2,g3)).subs(*pw_y_XY.args).simplify())\n",
    "\n",
    "pwp_y_XY_choice_check = ((pwp_y_XY_choice.lhs**2 - pwp_sqrd_y_XY.lhs == 0) and \n",
    "                         (pwp_y_XY_choice.rhs**2 - pwp_sqrd_y_XY.rhs == 0))\n",
    "pw_y_XY_W = Eq(((W(z) - pw_y_XY.rhs)*__denom_term_Wb).expand(), (W(z) - pw_y_XY.lhs)*__denom_term_Wb)\n",
    "\n",
    "W_UV_ellptic_b = W_UV_ellptic.subs([(pw_y_XY.rhs, pw_y_XY.lhs), (W(z), pw(z-z0,g2,g3))])\n",
    "\n",
    "ln_dU_ellip_d = (ln_dU_ellip_c.subs(*pw_y_XY_W.args)\n",
    " .subs([(pwp_y_XY_choice.rhs, pwp_y_XY_choice.lhs),(diff(W(z),z),pwp(z-z0,g2,g3)), (W(z), pw(z-z0,g2,g3))])\n",
    ")\n",
    "\n",
    "\n",
    "\n",
    "pw_z_y_to_zw = (pw_to_zw_identity\n",
    " .subs([(x,z),(y,-y)])\n",
    " .subs([(pwp(-y,g2,g3),-pwp(y,g2,g3)), (pw(-y,g2,g3),pw(y,g2,g3)), (zw(-y,g2,g3),-zw(y,g2,g3))])\n",
    ").subs(z,z-z0)\n",
    "ln_dU_ellip_e = ln_dU_ellip_d.subs(*pw_z_y_to_zw.args)\n",
    "\n",
    "zw_z_y_subs = [\n",
    "    (Derivative(ln(U(z)),z).doit(), Derivative(ln(U(z)),z)),\n",
    "    (d_log_sigma_zw.subs(z,z-y).lhs.subs(*d_log_sigma_zw.subs(z,z-y).args).subs(y,z0), \n",
    "     Derivative(ln(sigma(z-y,g2,g3)),z).subs(y,z0)),\n",
    "    (d_log_sigma_zw.subs(z,z-y).lhs.subs(*d_log_sigma_zw.subs(z,z-y).args).subs(y,y+z0), \n",
    "     Derivative(ln(sigma(z-y,g2,g3)),z).subs(y,y+z0))\n",
    "]\n",
    "ln_dU_ellip_f = ln_dU_ellip_e.subs(zw_z_y_subs)\n",
    "\n",
    "Uz_sol_ellip = Eq(U(z), \n",
    "                  solve(Eq(integrate(ln_dU_ellip_f.lhs,z), \n",
    "                           integrate(ln_dU_ellip_f.rhs,z) + c), U(z))[0]\n",
    "                 )\n",
    "\n",
    "UV_sigma_z_y = (sigma_p_identity\n",
    "               .subs([(x,z),(y,-y)])\n",
    "               .subs(pw(-y,g2,g3),pw(y,g2,g3))\n",
    "               .subs(z,z-z0)\n",
    "               .subs(W_UV_ellptic_b.rhs, W_UV_ellptic_b.lhs)\n",
    "              )\n",
    "\n",
    "Vz_sol_ellip = Eq(UV_sigma_z_y.lhs/Uz_sol_ellip.lhs, \n",
    "   (UV_sigma_z_y.rhs/Uz_sol_ellip.rhs).subs(sigma(-y,g2,g3), -sigma(y,g2,g3)))\n",
    "\n",
    "quasi_period_psi_nm_c = Eq(quasi_period_psi_nm.lhs/quasi_period_psi_nm_b.lhs, \n",
    "   (quasi_period_psi_nm.rhs/quasi_period_psi_nm_b.rhs).simplify()\n",
    "  )\n",
    "quasi_period_z_y = quasi_period_psi_nm_c.subs(z,z - y - z0).simplify()\n",
    "Uz_sol_ellip_2_psi_nm = (Uz_sol_ellip\n",
    "                         .subs(z,z+2*psi[n,m])\n",
    "                         .subs([quasi_period_z_y.args, quasi_period_z_y.subs(y,0).args])\n",
    "                         .expand().simplify())\n",
    "U5_periodic = Eq(U(z)**5/U(2*psi[n,m] + z)**5, 1)\n",
    "\n",
    "U5_periodic_cond_psi_nm = Eq(\n",
    "    Uz_sol_ellip.lhs**5/Uz_sol_ellip_2_psi_nm.lhs**5,\n",
    "    (Uz_sol_ellip.rhs**5/Uz_sol_ellip_2_psi_nm.rhs**5).simplify()\n",
    ").subs(*U5_periodic.args)\n",
    "\n",
    "y_UR_periodic = Eq(2*I*pi*j, U5_periodic_cond_psi_nm.rhs.args[0])\n",
    "\n",
    "y_solve_UR_periodic = Eq(zw(y,g2,g3), solve(y_UR_periodic, zw(y,g2,g3))[0])\n",
    "\n",
    "Uz_sol_ellip_eta_psi = Uz_sol_ellip.subs(*y_solve_UR_periodic.args).simplify()\n",
    "Vz_sol_ellip_eta_psi = Vz_sol_ellip.subs(*y_solve_UR_periodic.args).simplify()\n",
    "\n",
    "dU_ellip\n",
    "dV_ellip\n",
    "dU_ellip_b\n",
    "dV_ellip_b\n",
    "dUV_ellip\n",
    "dUV_ellip_sqrd\n",
    "W_UV_ellptic\n",
    "dW_elliptic\n",
    "g2_ellip\n",
    "g3_ellip\n",
    "pw_y_XY\n",
    "pwp_y_XY_choice\n",
    "print('y existence check:',pwp_y_XY_choice_check)\n",
    "W_UV_ellptic_b\n",
    "\n",
    "ln_dU_ellip\n",
    "ln_dU_ellip_b\n",
    "ln_dU_ellip_c\n",
    "ln_dU_ellip_d\n",
    "ln_dU_ellip_e\n",
    "ln_dU_ellip_f\n",
    "Uz_sol_ellip\n",
    "Vz_sol_ellip\n",
    "\n",
    "U5_periodic\n",
    "U5_periodic_cond_psi_nm\n",
    "y_UR_periodic\n",
    "y_solve_UR_periodic\n",
    "Uz_sol_ellip_eta_psi\n",
    "Vz_sol_ellip_eta_psi"
   ]
  },
  {
   "cell_type": "markdown",
   "id": "0f62a348",
   "metadata": {},
   "source": [
    "From these differential equations, conservation laws, and solutions, it is evident that $U^5(z),V^5(z)$ are doubly periodic elliptic functions and that they are related by a reflection in $z$ about $z_0$:"
   ]
  },
  {
   "cell_type": "code",
   "execution_count": 125,
   "id": "2a17540a",
   "metadata": {},
   "outputs": [
    {
     "data": {
      "text/latex": [
       "$\\displaystyle U^{5}{\\left(z \\right)} = \\frac{X^{5}}{32 Y^{5}} - \\frac{85 X^{3}}{288 Y^{2}} + \\frac{5 X Y}{48} + \\left(- \\frac{3 X}{2 Y} - \\frac{Y^{2}}{2 X}\\right) \\operatorname{pw}^{2}{\\left(z - z_{0},g_{2},g_{3} \\right)} + \\left(\\frac{11 X^{2}}{24 Y^{2}} - \\frac{Y}{4} + \\frac{\\operatorname{pw}{\\left(z - z_{0},g_{2},g_{3} \\right)}}{2} - \\frac{Y^{4}}{24 X^{2}}\\right) \\operatorname{pwp}{\\left(z - z_{0},g_{2},g_{3} \\right)} + \\left(- \\frac{X^{3}}{4 Y^{3}} + \\frac{7 X}{12} + \\frac{3 Y^{3}}{4 X} + \\frac{Y^{6}}{12 X^{3}}\\right) \\operatorname{pw}{\\left(z - z_{0},g_{2},g_{3} \\right)} - \\frac{25 Y^{4}}{144 X} - \\frac{5 Y^{7}}{96 X^{3}} - \\frac{Y^{10}}{288 X^{5}}$"
      ],
      "text/plain": [
       "Eq(U(z)**5, X**5/(32*Y**5) - 85*X**3/(288*Y**2) + 5*X*Y/48 + (-3*X/(2*Y) - Y**2/(2*X))*pw(z - z0, g2, g3)**2 + (11*X**2/(24*Y**2) - Y/4 + pw(z - z0, g2, g3)/2 - Y**4/(24*X**2))*pwp(z - z0, g2, g3) + (-X**3/(4*Y**3) + 7*X/12 + 3*Y**3/(4*X) + Y**6/(12*X**3))*pw(z - z0, g2, g3) - 25*Y**4/(144*X) - 5*Y**7/(96*X**3) - Y**10/(288*X**5))"
      ]
     },
     "execution_count": 125,
     "metadata": {},
     "output_type": "execute_result"
    },
    {
     "data": {
      "text/latex": [
       "$\\displaystyle V^{5}{\\left(z \\right)} = \\frac{X^{5}}{32 Y^{5}} - \\frac{85 X^{3}}{288 Y^{2}} + \\frac{5 X Y}{48} + \\left(- \\frac{3 X}{2 Y} - \\frac{Y^{2}}{2 X}\\right) \\operatorname{pw}^{2}{\\left(z - z_{0},g_{2},g_{3} \\right)} + \\left(- \\frac{11 X^{2}}{24 Y^{2}} + \\frac{Y}{4} - \\frac{\\operatorname{pw}{\\left(z - z_{0},g_{2},g_{3} \\right)}}{2} + \\frac{Y^{4}}{24 X^{2}}\\right) \\operatorname{pwp}{\\left(z - z_{0},g_{2},g_{3} \\right)} + \\left(- \\frac{X^{3}}{4 Y^{3}} + \\frac{7 X}{12} + \\frac{3 Y^{3}}{4 X} + \\frac{Y^{6}}{12 X^{3}}\\right) \\operatorname{pw}{\\left(z - z_{0},g_{2},g_{3} \\right)} - \\frac{25 Y^{4}}{144 X} - \\frac{5 Y^{7}}{96 X^{3}} - \\frac{Y^{10}}{288 X^{5}}$"
      ],
      "text/plain": [
       "Eq(V(z)**5, X**5/(32*Y**5) - 85*X**3/(288*Y**2) + 5*X*Y/48 + (-3*X/(2*Y) - Y**2/(2*X))*pw(z - z0, g2, g3)**2 + (-11*X**2/(24*Y**2) + Y/4 - pw(z - z0, g2, g3)/2 + Y**4/(24*X**2))*pwp(z - z0, g2, g3) + (-X**3/(4*Y**3) + 7*X/12 + 3*Y**3/(4*X) + Y**6/(12*X**3))*pw(z - z0, g2, g3) - 25*Y**4/(144*X) - 5*Y**7/(96*X**3) - Y**10/(288*X**5))"
      ]
     },
     "execution_count": 125,
     "metadata": {},
     "output_type": "execute_result"
    },
    {
     "data": {
      "text/latex": [
       "$\\displaystyle U^{5}{\\left(z + z_{0} \\right)} - V^{5}{\\left(- z + z_{0} \\right)} = 0$"
      ],
      "text/plain": [
       "Eq(U(z + z0)**5 - V(-z + z0)**5, 0)"
      ]
     },
     "execution_count": 125,
     "metadata": {},
     "output_type": "execute_result"
    }
   ],
   "source": [
    "UV_XY_zconj = Eq((K_UV_ellip_b3.lhs - K_UV_ellip_b3.rhs).simplify(), 0)\n",
    "_n_UV_XY_zconj, _d_UV_XY_zconj = fraction(UV_XY_zconj.lhs)\n",
    "XYUV5_add_term = X*Y**5*(U(z)**5 + V(z)**5)\n",
    "UV_plus_from_ellip_ham = Eq((_n_UV_XY_zconj + XYUV5_add_term)/X/Y**5, XYUV5_add_term/X/Y**5).expand()\n",
    "UV_pw_pwp_plus_from_ellip_ham = UV_plus_from_ellip_ham.subs(*W_UV_ellptic_b.args).subs(*pw_y_XY.args).expand()\n",
    "UV_pw_pwp_plus_from_ellip_ham = Eq(UV_pw_pwp_plus_from_ellip_ham.lhs.collect(pw(z-z0,g2,g3)),\n",
    "                                  UV_pw_pwp_plus_from_ellip_ham.rhs)\n",
    "\n",
    "\n",
    "dW_UV_ellptic_b = Eq(Derivative(W_UV_ellptic_b.lhs,z), \n",
    "                     diff(W_UV_ellptic_b.rhs,z).replace(diff(pw(wild,g2,g3),wild), pwp(wild,g2,g3)).doit()\n",
    "                    )\n",
    "pwp_UV_ellip_hamm = dUV_ellip.subs(*dW_UV_ellptic_b.args)\n",
    "XYUV5_subtract_term = -X**2 + Y**2*U(z)*V(z)\n",
    "UV_minus_from_ellip_ham = Eq(pwp_UV_ellip_hamm.lhs*(XYUV5_subtract_term)/Y**2,\n",
    "                             pwp_UV_ellip_hamm.rhs*(XYUV5_subtract_term)/Y**2\n",
    "                            )\n",
    "UV_pw_pwp_minus_from_ellip_ham = UV_minus_from_ellip_ham.subs(*W_UV_ellptic_b.args).subs(*pw_y_XY.args)\n",
    "UV_pw_pwp_minus_from_ellip_ham = Eq(\n",
    "    UV_pw_pwp_minus_from_ellip_ham.lhs.expand().collect([pw(z-z0,g2,g3), pwp(z-z0,g2,g3)]),\n",
    "    UV_pw_pwp_minus_from_ellip_ham.rhs\n",
    ")\n",
    "U5_pw_pwp_from_ellip_ham = Eq(\n",
    "    (UV_pw_pwp_plus_from_ellip_ham.rhs + UV_pw_pwp_minus_from_ellip_ham.rhs)/2,\n",
    "    ((UV_pw_pwp_plus_from_ellip_ham.lhs + UV_pw_pwp_minus_from_ellip_ham.lhs)/2)\n",
    "    .expand().collect([pwp(z-z0,g2,g3), pw(z-z0,g2,g3)]),\n",
    ")\n",
    "V5_pw_pwp_from_ellip_ham = Eq(\n",
    "    (UV_pw_pwp_plus_from_ellip_ham.rhs - UV_pw_pwp_minus_from_ellip_ham.rhs)/2,\n",
    "    ((UV_pw_pwp_plus_from_ellip_ham.lhs - UV_pw_pwp_minus_from_ellip_ham.lhs)/2)\n",
    "    .expand().collect([pwp(z-z0,g2,g3), pw(z-z0,g2,g3)]),\n",
    ")\n",
    "UV5_z_z0_zero = Eq(\n",
    "    (U(z+z0)**5 - V(-z+z0)**5), \n",
    "    (U(z+z0)**5 - V(-z+z0)**5).subs([\n",
    "        U5_pw_pwp_from_ellip_ham.subs(z,z+z0).args, V5_pw_pwp_from_ellip_ham.subs(z,-z+z0).args\n",
    "    ]).subs([(pw(-z,g2,g3),pw(z,g2,g3)), (pwp(-z,g2,g3),-pwp(z,g2,g3))]).simplify()\n",
    ")\n",
    "\n",
    "# UV_pw_pwp_plus_from_ellip_ham\n",
    "# UV_pw_pwp_minus_from_ellip_ham\n",
    "\n",
    "U5_pw_pwp_from_ellip_ham\n",
    "V5_pw_pwp_from_ellip_ham\n",
    "UV5_z_z0_zero"
   ]
  },
  {
   "cell_type": "markdown",
   "id": "46c9eb24",
   "metadata": {},
   "source": [
    "From the $z$ reflection relation between $U^5(z),V^5(z)$, the constant of integration $c$ can be found. There remains a 10th root of unity to pick."
   ]
  },
  {
   "cell_type": "code",
   "execution_count": 126,
   "id": "bc9111a5",
   "metadata": {},
   "outputs": [
    {
     "data": {
      "text/latex": [
       "$\\displaystyle \\sigma^{10}{\\left(y,g_{2},g_{3} \\right)} e^{\\frac{10 \\eta_{1} n y z_{0}}{{\\psi}_{n,m}}} e^{\\frac{10 \\eta_{3} m y z_{0}}{{\\psi}_{n,m}}} e^{10 c} - e^{\\frac{2 i \\pi j z_{0}}{{\\psi}_{n,m}}} = 0$"
      ],
      "text/plain": [
       "Eq(sigma(y, g2, g3)**10*exp(10*eta1*n*y*z0/psi[n, m])*exp(10*eta3*m*y*z0/psi[n, m])*exp(10*c) - exp(2*I*pi*j*z0/psi[n, m]), 0)"
      ]
     },
     "execution_count": 126,
     "metadata": {},
     "output_type": "execute_result"
    },
    {
     "data": {
      "text/latex": [
       "$\\displaystyle e^{10 c} = \\frac{e^{\\frac{2 z_{0} \\left(- 5 \\eta_{1} n y - 5 \\eta_{3} m y + i \\pi j\\right)}{{\\psi}_{n,m}}}}{\\sigma^{10}{\\left(y,g_{2},g_{3} \\right)}}$"
      ],
      "text/plain": [
       "Eq(exp(10*c), exp(2*z0*(-5*eta1*n*y - 5*eta3*m*y + I*pi*j)/psi[n, m])/sigma(y, g2, g3)**10)"
      ]
     },
     "execution_count": 126,
     "metadata": {},
     "output_type": "execute_result"
    },
    {
     "data": {
      "text/latex": [
       "$\\displaystyle e^{c} = \\frac{e^{\\frac{i \\pi k}{5}} e^{\\frac{z_{0} \\left(- 5 \\eta_{1} n y - 5 \\eta_{3} m y + i \\pi j\\right)}{5 {\\psi}_{n,m}}}}{\\sigma{\\left(y,g_{2},g_{3} \\right)}}$"
      ],
      "text/plain": [
       "Eq(exp(c), exp(I*pi*k/5)*exp(z0*(-5*eta1*n*y - 5*eta3*m*y + I*pi*j)/(5*psi[n, m]))/sigma(y, g2, g3))"
      ]
     },
     "execution_count": 126,
     "metadata": {},
     "output_type": "execute_result"
    },
    {
     "data": {
      "text/latex": [
       "$\\displaystyle U{\\left(z \\right)} = \\frac{\\sigma{\\left(- y + z - z_{0},g_{2},g_{3} \\right)} e^{\\frac{5 \\eta_{1} n y z - 5 \\eta_{1} n y z_{0} + 5 \\eta_{3} m y z - 5 \\eta_{3} m y z_{0} - i \\pi j z + i \\pi j z_{0} + i \\pi k {\\psi}_{n,m}}{5 {\\psi}_{n,m}}}}{\\sigma{\\left(y,g_{2},g_{3} \\right)} \\sigma{\\left(z - z_{0},g_{2},g_{3} \\right)}}$"
      ],
      "text/plain": [
       "Eq(U(z), sigma(-y + z - z0, g2, g3)*exp((5*eta1*n*y*z - 5*eta1*n*y*z0 + 5*eta3*m*y*z - 5*eta3*m*y*z0 - I*pi*j*z + I*pi*j*z0 + I*pi*k*psi[n, m])/(5*psi[n, m]))/(sigma(y, g2, g3)*sigma(z - z0, g2, g3)))"
      ]
     },
     "execution_count": 126,
     "metadata": {},
     "output_type": "execute_result"
    },
    {
     "data": {
      "text/latex": [
       "$\\displaystyle V{\\left(z \\right)} = \\frac{\\sigma{\\left(y + z - z_{0},g_{2},g_{3} \\right)} e^{\\frac{- 5 \\eta_{1} n y z + 5 \\eta_{1} n y z_{0} - 5 \\eta_{3} m y z + 5 \\eta_{3} m y z_{0} + i \\pi j z - i \\pi j z_{0} - i \\pi k {\\psi}_{n,m}}{5 {\\psi}_{n,m}}}}{\\sigma{\\left(y,g_{2},g_{3} \\right)} \\sigma{\\left(z - z_{0},g_{2},g_{3} \\right)}}$"
      ],
      "text/plain": [
       "Eq(V(z), sigma(y + z - z0, g2, g3)*exp((-5*eta1*n*y*z + 5*eta1*n*y*z0 - 5*eta3*m*y*z + 5*eta3*m*y*z0 + I*pi*j*z - I*pi*j*z0 - I*pi*k*psi[n, m])/(5*psi[n, m]))/(sigma(y, g2, g3)*sigma(z - z0, g2, g3)))"
      ]
     },
     "execution_count": 126,
     "metadata": {},
     "output_type": "execute_result"
    }
   ],
   "source": [
    "c_cond = Eq(\n",
    "    (\n",
    "        (Uz_sol_ellip_eta_psi.rhs.subs(z,z+z0)**5 - Vz_sol_ellip_eta_psi.rhs.subs(z,-z+z0)**5)\n",
    "        .subs([(sigma(-z,g2,g3), -sigma(z,g2,g3)), (sigma(y-z,g2,g3), -sigma(-y+z,g2,g3))])\n",
    "        .expand().simplify()\n",
    "    ).args[3].expand(),\n",
    "    (Uz_sol_ellip_eta_psi.lhs.subs(z,z+z0)**5 - Vz_sol_ellip_eta_psi.lhs.subs(z,-z+z0)**5)\n",
    "    .subs(*UV5_z_z0_zero.args)\n",
    ")\n",
    "c_cond_b = Eq(exp(10*c), solve(c_cond,exp(10*c))[0])\n",
    "c_cond_b_num, c_cond_b_den = fraction(c_cond_b.rhs)\n",
    "exp_c_sol = Eq(exp(c), exp(c_cond_b_num.args[0]/10)/c_cond_b_den.args[0]*exp(2*I*pi*k/10))\n",
    "\n",
    "Uz_sol_ellip_eta_psi_z0 = Uz_sol_ellip_eta_psi.expand().subs(*exp_c_sol.args).expand().simplify()\n",
    "Vz_sol_ellip_eta_psi_z0 = Vz_sol_ellip_eta_psi.expand().subs(*exp_c_sol.args).expand().simplify()\n",
    "\n",
    "c_cond\n",
    "c_cond_b\n",
    "exp_c_sol\n",
    "Uz_sol_ellip_eta_psi_z0\n",
    "Vz_sol_ellip_eta_psi_z0"
   ]
  },
  {
   "cell_type": "markdown",
   "id": "1c56821b",
   "metadata": {},
   "source": [
    "Furthermore, via applications of the addition formula it is possible to show that the point $4y$ is congruent to $-y$, and therefore, it can be expressed in terms of a lattice point $\\psi_{n,m}$:"
   ]
  },
  {
   "cell_type": "code",
   "execution_count": 47,
   "id": "528527b4",
   "metadata": {},
   "outputs": [
    {
     "data": {
      "text/latex": [
       "$\\displaystyle \\operatorname{pw}{\\left(4 y,g_{2},g_{3} \\right)} = \\frac{\\left(- \\frac{g_{2}}{2} + 6 \\operatorname{pw}^{2}{\\left(2 y,g_{2},g_{3} \\right)}\\right)^{2}}{4 \\left(- g_{2} \\operatorname{pw}{\\left(2 y,g_{2},g_{3} \\right)} - g_{3} + 4 \\operatorname{pw}^{3}{\\left(2 y,g_{2},g_{3} \\right)}\\right)} - 2 \\operatorname{pw}{\\left(2 y,g_{2},g_{3} \\right)}$"
      ],
      "text/plain": [
       "Eq(pw(4*y, g2, g3), (-g2/2 + 6*pw(2*y, g2, g3)**2)**2/(4*(-g2*pw(2*y, g2, g3) - g3 + 4*pw(2*y, g2, g3)**3)) - 2*pw(2*y, g2, g3))"
      ]
     },
     "execution_count": 47,
     "metadata": {},
     "output_type": "execute_result"
    },
    {
     "data": {
      "text/latex": [
       "$\\displaystyle \\operatorname{pw}{\\left(2 y,g_{2},g_{3} \\right)} = \\frac{\\left(- \\frac{g_{2}}{2} + 6 \\operatorname{pw}^{2}{\\left(y,g_{2},g_{3} \\right)}\\right)^{2}}{4 \\left(- g_{2} \\operatorname{pw}{\\left(y,g_{2},g_{3} \\right)} - g_{3} + 4 \\operatorname{pw}^{3}{\\left(y,g_{2},g_{3} \\right)}\\right)} - 2 \\operatorname{pw}{\\left(y,g_{2},g_{3} \\right)}$"
      ],
      "text/plain": [
       "Eq(pw(2*y, g2, g3), (-g2/2 + 6*pw(y, g2, g3)**2)**2/(4*(-g2*pw(y, g2, g3) - g3 + 4*pw(y, g2, g3)**3)) - 2*pw(y, g2, g3))"
      ]
     },
     "execution_count": 47,
     "metadata": {},
     "output_type": "execute_result"
    },
    {
     "data": {
      "text/latex": [
       "$\\displaystyle g_{2} = \\frac{X^{4}}{12 Y^{4}} - \\frac{X^{2}}{Y} + \\frac{7 Y^{2}}{6} + \\frac{Y^{5}}{X^{2}} + \\frac{Y^{8}}{12 X^{4}}$"
      ],
      "text/plain": [
       "Eq(g2, X**4/(12*Y**4) - X**2/Y + 7*Y**2/6 + Y**5/X**2 + Y**8/(12*X**4))"
      ]
     },
     "execution_count": 47,
     "metadata": {},
     "output_type": "execute_result"
    },
    {
     "data": {
      "text/latex": [
       "$\\displaystyle g_{3} = - \\frac{X^{6}}{216 Y^{6}} + \\frac{X^{4}}{12 Y^{3}} - \\frac{25 X^{2}}{72} - \\frac{25 Y^{6}}{72 X^{2}} - \\frac{Y^{9}}{12 X^{4}} - \\frac{Y^{12}}{216 X^{6}}$"
      ],
      "text/plain": [
       "Eq(g3, -X**6/(216*Y**6) + X**4/(12*Y**3) - 25*X**2/72 - 25*Y**6/(72*X**2) - Y**9/(12*X**4) - Y**12/(216*X**6))"
      ]
     },
     "execution_count": 47,
     "metadata": {},
     "output_type": "execute_result"
    },
    {
     "data": {
      "text/latex": [
       "$\\displaystyle \\operatorname{pw}{\\left(y,g_{2},g_{3} \\right)} = \\frac{X^{2}}{12 Y^{2}} + \\frac{Y}{2} + \\frac{Y^{4}}{12 X^{2}}$"
      ],
      "text/plain": [
       "Eq(pw(y, g2, g3), X**2/(12*Y**2) + Y/2 + Y**4/(12*X**2))"
      ]
     },
     "execution_count": 47,
     "metadata": {},
     "output_type": "execute_result"
    },
    {
     "data": {
      "text/latex": [
       "$\\displaystyle \\operatorname{pwp}{\\left(y,g_{2},g_{3} \\right)} = X$"
      ],
      "text/plain": [
       "Eq(pwp(y, g2, g3), X)"
      ]
     },
     "execution_count": 47,
     "metadata": {},
     "output_type": "execute_result"
    },
    {
     "data": {
      "text/latex": [
       "$\\displaystyle \\operatorname{pw}{\\left(2 y,g_{2},g_{3} \\right)} = \\frac{X^{2}}{12 Y^{2}} - \\frac{Y}{2} + \\frac{Y^{4}}{12 X^{2}}$"
      ],
      "text/plain": [
       "Eq(pw(2*y, g2, g3), X**2/(12*Y**2) - Y/2 + Y**4/(12*X**2))"
      ]
     },
     "execution_count": 47,
     "metadata": {},
     "output_type": "execute_result"
    },
    {
     "data": {
      "text/latex": [
       "$\\displaystyle \\operatorname{pwp}{\\left(2 y,g_{2},g_{3} \\right)} = \\frac{Y^{3}}{X}$"
      ],
      "text/plain": [
       "Eq(pwp(2*y, g2, g3), Y**3/X)"
      ]
     },
     "execution_count": 47,
     "metadata": {},
     "output_type": "execute_result"
    },
    {
     "data": {
      "text/latex": [
       "$\\displaystyle \\operatorname{pw}{\\left(4 y,g_{2},g_{3} \\right)} = \\frac{X^{2}}{12 Y^{2}} + \\frac{Y}{2} + \\frac{Y^{4}}{12 X^{2}}$"
      ],
      "text/plain": [
       "Eq(pw(4*y, g2, g3), X**2/(12*Y**2) + Y/2 + Y**4/(12*X**2))"
      ]
     },
     "execution_count": 47,
     "metadata": {},
     "output_type": "execute_result"
    },
    {
     "data": {
      "text/latex": [
       "$\\displaystyle \\operatorname{pwp}{\\left(4 y,g_{2},g_{3} \\right)} = - X$"
      ],
      "text/plain": [
       "Eq(pwp(4*y, g2, g3), -X)"
      ]
     },
     "execution_count": 47,
     "metadata": {},
     "output_type": "execute_result"
    },
    {
     "data": {
      "text/latex": [
       "$\\displaystyle 4 y = 2 l {\\psi}_{n,m} - y$"
      ],
      "text/plain": [
       "Eq(4*y, 2*l*psi[n, m] - y)"
      ]
     },
     "execution_count": 47,
     "metadata": {},
     "output_type": "execute_result"
    },
    {
     "data": {
      "text/latex": [
       "$\\displaystyle y = \\frac{2 l {\\psi}_{n,m}}{5}$"
      ],
      "text/plain": [
       "Eq(y, 2*l*psi[n, m]/5)"
      ]
     },
     "execution_count": 47,
     "metadata": {},
     "output_type": "execute_result"
    },
    {
     "data": {
      "text/latex": [
       "$\\displaystyle U{\\left(z \\right)} = \\frac{\\sigma{\\left(- \\frac{2 l {\\psi}_{n,m}}{5} + z - z_{0},g_{2},g_{3} \\right)} e^{\\frac{2 \\eta_{1} l n z {\\psi}_{n,m} - 2 \\eta_{1} l n z_{0} {\\psi}_{n,m} + 2 \\eta_{3} l m z {\\psi}_{n,m} - 2 \\eta_{3} l m z_{0} {\\psi}_{n,m} - i \\pi j z + i \\pi j z_{0} + i \\pi k {\\psi}_{n,m}}{5 {\\psi}_{n,m}}}}{\\sigma{\\left(\\frac{2 l {\\psi}_{n,m}}{5},g_{2},g_{3} \\right)} \\sigma{\\left(z - z_{0},g_{2},g_{3} \\right)}}$"
      ],
      "text/plain": [
       "Eq(U(z), sigma(-2*l*psi[n, m]/5 + z - z0, g2, g3)*exp((2*eta1*l*n*z*psi[n, m] - 2*eta1*l*n*z0*psi[n, m] + 2*eta3*l*m*z*psi[n, m] - 2*eta3*l*m*z0*psi[n, m] - I*pi*j*z + I*pi*j*z0 + I*pi*k*psi[n, m])/(5*psi[n, m]))/(sigma(2*l*psi[n, m]/5, g2, g3)*sigma(z - z0, g2, g3)))"
      ]
     },
     "execution_count": 47,
     "metadata": {},
     "output_type": "execute_result"
    },
    {
     "data": {
      "text/latex": [
       "$\\displaystyle V{\\left(z \\right)} = \\frac{\\sigma{\\left(\\frac{2 l {\\psi}_{n,m}}{5} + z - z_{0},g_{2},g_{3} \\right)} e^{\\frac{- 2 \\eta_{1} l n z {\\psi}_{n,m} + 2 \\eta_{1} l n z_{0} {\\psi}_{n,m} - 2 \\eta_{3} l m z {\\psi}_{n,m} + 2 \\eta_{3} l m z_{0} {\\psi}_{n,m} + i \\pi j z - i \\pi j z_{0} - i \\pi k {\\psi}_{n,m}}{5 {\\psi}_{n,m}}}}{\\sigma{\\left(\\frac{2 l {\\psi}_{n,m}}{5},g_{2},g_{3} \\right)} \\sigma{\\left(z - z_{0},g_{2},g_{3} \\right)}}$"
      ],
      "text/plain": [
       "Eq(V(z), sigma(2*l*psi[n, m]/5 + z - z0, g2, g3)*exp((-2*eta1*l*n*z*psi[n, m] + 2*eta1*l*n*z0*psi[n, m] - 2*eta3*l*m*z*psi[n, m] + 2*eta3*l*m*z0*psi[n, m] + I*pi*j*z - I*pi*j*z0 - I*pi*k*psi[n, m])/(5*psi[n, m]))/(sigma(2*l*psi[n, m]/5, g2, g3)*sigma(z - z0, g2, g3)))"
      ]
     },
     "execution_count": 47,
     "metadata": {},
     "output_type": "execute_result"
    }
   ],
   "source": [
    "pw4y_XY = Eq(\n",
    "    p_duplication_c.lhs.subs(z,2*y),\n",
    "   (p_duplication_c.rhs.subs(z,2*y)\n",
    "     .subs(*p_duplication_c.subs(z,y).args)\n",
    "     .subs(*pw_y_XY.args)\n",
    "     .subs([g2_ellip.args, g3_ellip.args])\n",
    "    ).simplify()\n",
    "  )\n",
    "\n",
    "pw4_subd_y = p_duplication_c.subs(z,2*y).subs(*p_duplication_c.subs(z,y).args)\n",
    "\n",
    "pwp4y_XY = Eq(diff(pw4_subd_y.lhs, y), diff(pw4_subd_y.rhs, y).doit()\n",
    "    .subs([(diff(pw(y,g2,g3),y),X), pw_y_XY.args, g2_ellip.args, g3_ellip.args])\n",
    "    .simplify())\n",
    "pwp4y_XY = pwp4y_XY.subs(pwp4y_XY.lhs, 4*pwp(4*y,g2,g3))\n",
    "pwp4y_XY = Eq(pwp4y_XY.lhs/4, pwp4y_XY.rhs/4)\n",
    "\n",
    "pw2y_XYa = p_duplication_c.subs(z,y)\n",
    "pw2y_XY = Eq(pw2y_XYa.lhs, pw2y_XYa.rhs.subs([pw_y_XY.args, g2_ellip.args, g3_ellip.args]).simplify())\n",
    "pwp2y_XY = Eq(diff(pw2y_XYa.lhs, y), diff(pw2y_XYa.rhs, y).doit()\n",
    "    .subs([(diff(pw(y,g2,g3),y),X), pw_y_XY.args, g2_ellip.args, g3_ellip.args])\n",
    "    .simplify())\n",
    "pwp2y_XY = pwp2y_XY.subs(pwp2y_XY.lhs, 2*pwp(2*y,g2,g3))\n",
    "pwp2y_XY = Eq(pwp2y_XY.lhs/2, pwp2y_XY.rhs/2)\n",
    "\n",
    "y_congruent = Eq(4*y, 2*l*psi[n,m] - y)\n",
    "y_ham = Eq(y, solve(y_congruent,y)[0])\n",
    "\n",
    "Uz_sol_ellip_eta_psi_z0_ham = Uz_sol_ellip_eta_psi_z0.subs(*y_ham.args)\n",
    "Vz_sol_ellip_eta_psi_z0_ham = Vz_sol_ellip_eta_psi_z0.subs(*y_ham.args)\n",
    "\n",
    "\n",
    "p_duplication_c.subs(z,2*y)\n",
    "p_duplication_c.subs(z,y)\n",
    "g2_ellip\n",
    "g3_ellip\n",
    "pw_y_XY\n",
    "pwp_y_XY_choice\n",
    "pw2y_XY\n",
    "pwp2y_XY\n",
    "pw4y_XY\n",
    "pwp4y_XY\n",
    "y_congruent\n",
    "y_ham\n",
    "Uz_sol_ellip_eta_psi_z0_ham\n",
    "Vz_sol_ellip_eta_psi_z0_ham"
   ]
  },
  {
   "cell_type": "code",
   "execution_count": 128,
   "id": "2ba31aae",
   "metadata": {},
   "outputs": [
    {
     "data": {
      "text/latex": [
       "$\\displaystyle 0$"
      ],
      "text/plain": [
       "0"
      ]
     },
     "execution_count": 128,
     "metadata": {},
     "output_type": "execute_result"
    }
   ],
   "source": [
    "# If l=1, j=0\n",
    "(y_UR_periodic\n",
    " .subs(*pwp_y_XY_choice.args)\n",
    " .subs(y,2*l*psi[n,m]/5).rhs.subs(l,1) \n",
    " - 2*Z_def_pw_pwp.rhs*psi[n,m] + 2*Z_def_pw_pwp.lhs*psi[n,m]\n",
    ").expand().subs(*_ZXY.args).expand()"
   ]
  },
  {
   "cell_type": "markdown",
   "id": "ff5038ad",
   "metadata": {},
   "source": [
    "#### Rescaling the fields to reduce the parameters"
   ]
  },
  {
   "cell_type": "code",
   "execution_count": 129,
   "id": "372fac90",
   "metadata": {
    "scrolled": false
   },
   "outputs": [
    {
     "data": {
      "text/latex": [
       "$\\displaystyle \\alpha = - \\frac{X}{Y}$"
      ],
      "text/plain": [
       "Eq(alpha, -X/Y)"
      ]
     },
     "execution_count": 129,
     "metadata": {},
     "output_type": "execute_result"
    },
    {
     "data": {
      "text/latex": [
       "$\\displaystyle \\beta = \\frac{2 \\cdot \\left(3 X^{2} + Y^{3}\\right)}{5 X Y}$"
      ],
      "text/plain": [
       "Eq(beta, 2*(3*X**2 + Y**3)/(5*X*Y))"
      ]
     },
     "execution_count": 129,
     "metadata": {},
     "output_type": "execute_result"
    },
    {
     "data": {
      "text/latex": [
       "$\\displaystyle X = 3 \\alpha^{3} + \\frac{5 \\alpha^{2} \\beta}{2}$"
      ],
      "text/plain": [
       "Eq(X, 3*alpha**3 + 5*alpha**2*beta/2)"
      ]
     },
     "execution_count": 129,
     "metadata": {},
     "output_type": "execute_result"
    },
    {
     "data": {
      "text/latex": [
       "$\\displaystyle Y = - 3 \\alpha^{2} - \\frac{5 \\alpha \\beta}{2}$"
      ],
      "text/plain": [
       "Eq(Y, -3*alpha**2 - 5*alpha*beta/2)"
      ]
     },
     "execution_count": 129,
     "metadata": {},
     "output_type": "execute_result"
    },
    {
     "data": {
      "text/latex": [
       "$\\displaystyle g_{2} = - \\frac{20 \\alpha^{4}}{3} - 25 \\alpha^{3} \\beta - \\frac{125 \\alpha^{2} \\beta^{2}}{6} + \\frac{625 \\beta^{4}}{192}$"
      ],
      "text/plain": [
       "Eq(g2, -20*alpha**4/3 - 25*alpha**3*beta - 125*alpha**2*beta**2/6 + 625*beta**4/192)"
      ]
     },
     "execution_count": 129,
     "metadata": {},
     "output_type": "execute_result"
    },
    {
     "data": {
      "text/latex": [
       "$\\displaystyle g_{3} = - \\frac{395 \\alpha^{6}}{27} - \\frac{95 \\alpha^{5} \\beta}{3} - \\frac{125 \\alpha^{4} \\beta^{2}}{9} + \\frac{625 \\alpha^{3} \\beta^{3}}{48} + \\frac{3125 \\alpha^{2} \\beta^{4}}{288} - \\frac{15625 \\beta^{6}}{13824}$"
      ],
      "text/plain": [
       "Eq(g3, -395*alpha**6/27 - 95*alpha**5*beta/3 - 125*alpha**4*beta**2/9 + 625*alpha**3*beta**3/48 + 3125*alpha**2*beta**4/288 - 15625*beta**6/13824)"
      ]
     },
     "execution_count": 129,
     "metadata": {},
     "output_type": "execute_result"
    },
    {
     "data": {
      "text/latex": [
       "$\\displaystyle U{\\left(z \\right)} = \\alpha u{\\left(z \\right)}$"
      ],
      "text/plain": [
       "Eq(U(z), alpha*u(z))"
      ]
     },
     "execution_count": 129,
     "metadata": {},
     "output_type": "execute_result"
    },
    {
     "data": {
      "text/latex": [
       "$\\displaystyle V{\\left(z \\right)} = \\alpha v{\\left(z \\right)}$"
      ],
      "text/plain": [
       "Eq(V(z), alpha*v(z))"
      ]
     },
     "execution_count": 129,
     "metadata": {},
     "output_type": "execute_result"
    },
    {
     "data": {
      "text/latex": [
       "$\\displaystyle \\frac{d}{d z} u{\\left(z \\right)} = \\frac{\\alpha u{\\left(z \\right)}}{u{\\left(z \\right)} v{\\left(z \\right)} - 1} - \\frac{\\alpha v^{4}{\\left(z \\right)}}{u{\\left(z \\right)} v{\\left(z \\right)} - 1} - u{\\left(z \\right)} \\beta$"
      ],
      "text/plain": [
       "Eq(Derivative(u(z), z), alpha*u(z)/(u(z)*v(z) - 1) - alpha*v(z)**4/(u(z)*v(z) - 1) - u(z)*beta)"
      ]
     },
     "execution_count": 129,
     "metadata": {},
     "output_type": "execute_result"
    },
    {
     "data": {
      "text/latex": [
       "$\\displaystyle \\frac{d}{d z} v{\\left(z \\right)} = \\frac{\\alpha u^{4}{\\left(z \\right)}}{u{\\left(z \\right)} v{\\left(z \\right)} - 1} - \\frac{\\alpha v{\\left(z \\right)}}{u{\\left(z \\right)} v{\\left(z \\right)} - 1} + v{\\left(z \\right)} \\beta$"
      ],
      "text/plain": [
       "Eq(Derivative(v(z), z), alpha*u(z)**4/(u(z)*v(z) - 1) - alpha*v(z)/(u(z)*v(z) - 1) + v(z)*beta)"
      ]
     },
     "execution_count": 129,
     "metadata": {},
     "output_type": "execute_result"
    },
    {
     "data": {
      "text/latex": [
       "$\\displaystyle 3 + \\frac{5 \\beta}{2 \\alpha} = - u^{5}{\\left(z \\right)} + 5 u{\\left(z \\right)} v{\\left(z \\right)} - v^{5}{\\left(z \\right)} - \\frac{5 u^{2}{\\left(z \\right)} v^{2}{\\left(z \\right)} \\beta}{2 \\alpha} + \\frac{5 u{\\left(z \\right)} v{\\left(z \\right)} \\beta}{\\alpha}$"
      ],
      "text/plain": [
       "Eq(3 + 5*beta/(2*alpha), -u(z)**5 + 5*u(z)*v(z) - v(z)**5 - 5*u(z)**2*v(z)**2*beta/(2*alpha) + 5*u(z)*v(z)*beta/alpha)"
      ]
     },
     "execution_count": 129,
     "metadata": {},
     "output_type": "execute_result"
    },
    {
     "data": {
      "text/latex": [
       "$\\displaystyle 0$"
      ],
      "text/plain": [
       "0"
      ]
     },
     "execution_count": 129,
     "metadata": {},
     "output_type": "execute_result"
    }
   ],
   "source": [
    "XY_alph_bet_sols = solve([Eq(X**2,alpha**2*Y**2), Eq(X, 2*(Y**3+3*Y**2*alpha**2)/5/beta/Y).expand()],[X,Y])\n",
    "\n",
    "X_alph_bet = Eq(X, XY_alph_bet_sols[1][0].expand())\n",
    "Y_alph_bet = Eq(Y, XY_alph_bet_sols[1][1].expand())\n",
    "\n",
    "g2_alph_bet = g2_ellip.subs([X_alph_bet.args, Y_alph_bet.args]).simplify()\n",
    "g3_alph_bet = g3_ellip.subs([X_alph_bet.args, Y_alph_bet.args]).simplify()\n",
    "\n",
    "Uusub = Eq(U(z),alpha*u(z))\n",
    "Vvsub = Eq(V(z),alpha*v(z))\n",
    "\n",
    "du_alpha_beta = Eq(dU_ellip_b.lhs.subs([Uusub.args, Vvsub.args]).doit()/alpha, \n",
    "    sum(t.factor()/alpha for t in \n",
    "    dU_ellip_b.rhs.subs([X_alph_bet.args, Y_alph_bet.args]).subs([Uusub.args, Vvsub.args]).args)\n",
    ")\n",
    "dv_alpha_beta = Eq(dV_ellip_b.lhs.subs([Uusub.args, Vvsub.args]).doit()/alpha, \n",
    "    sum(t.factor()/alpha for t in \n",
    "    dV_ellip_b.rhs.subs([X_alph_bet.args, Y_alph_bet.args]).subs([Uusub.args, Vvsub.args]).args)\n",
    ")\n",
    "Eq(alpha, solve([X_alph_bet,Y_alph_bet], [alpha, beta])[0][0])\n",
    "Eq(beta, solve([X_alph_bet,Y_alph_bet], [alpha, beta])[0][1])\n",
    "\n",
    "X_alph_bet\n",
    "Y_alph_bet\n",
    "g2_alph_bet\n",
    "g3_alph_bet\n",
    "Uusub\n",
    "Vvsub\n",
    "du_alpha_beta\n",
    "dv_alpha_beta\n",
    "\n",
    "uv_ham_beta_over_alpha = (Eq(UV_ham_XY_poly.lhs/alpha**5, UV_ham_XY_poly.rhs/alpha**5)\n",
    ".subs([X_alph_bet.args, Y_alph_bet.args, Uusub.args, Vvsub.args]).simplify().expand())\n",
    "uv_ham_beta_over_alpha\n",
    "\n",
    "diff(uv_ham_beta_over_alpha.rhs,z).subs([du_alpha_beta.args, dv_alpha_beta.args]).simplify()"
   ]
  },
  {
   "cell_type": "markdown",
   "id": "942299d8",
   "metadata": {},
   "source": [
    "#### Dixon initial conditions\n",
    "\n",
    "Here we consider $u(0)=0$, $v(0)=1$ but we may also want to consider initial conditions which make $g_2=0$. In the original third order Dixon system those conditions were simultaneously true but that is not the case here."
   ]
  },
  {
   "cell_type": "code",
   "execution_count": 130,
   "id": "831a79c7",
   "metadata": {},
   "outputs": [
    {
     "data": {
      "text/latex": [
       "$\\displaystyle u{\\left(0 \\right)} = 0$"
      ],
      "text/plain": [
       "Eq(u(0), 0)"
      ]
     },
     "execution_count": 130,
     "metadata": {},
     "output_type": "execute_result"
    },
    {
     "data": {
      "text/latex": [
       "$\\displaystyle v{\\left(0 \\right)} = 1$"
      ],
      "text/plain": [
       "Eq(v(0), 1)"
      ]
     },
     "execution_count": 130,
     "metadata": {},
     "output_type": "execute_result"
    },
    {
     "data": {
      "text/latex": [
       "$\\displaystyle \\beta = - \\frac{8 \\alpha}{5}$"
      ],
      "text/plain": [
       "Eq(beta, -8*alpha/5)"
      ]
     },
     "execution_count": 130,
     "metadata": {},
     "output_type": "execute_result"
    },
    {
     "data": {
      "text/latex": [
       "$\\displaystyle 1 = u^{5}{\\left(z \\right)} - 4 u^{2}{\\left(z \\right)} v^{2}{\\left(z \\right)} + 3 u{\\left(z \\right)} v{\\left(z \\right)} + v^{5}{\\left(z \\right)}$"
      ],
      "text/plain": [
       "Eq(1, u(z)**5 - 4*u(z)**2*v(z)**2 + 3*u(z)*v(z) + v(z)**5)"
      ]
     },
     "execution_count": 130,
     "metadata": {},
     "output_type": "execute_result"
    },
    {
     "data": {
      "text/latex": [
       "$\\displaystyle g_{2} = \\frac{4}{3}$"
      ],
      "text/plain": [
       "Eq(g2, 4/3)"
      ]
     },
     "execution_count": 130,
     "metadata": {},
     "output_type": "execute_result"
    },
    {
     "data": {
      "text/latex": [
       "$\\displaystyle g_{3} = - \\frac{19}{27}$"
      ],
      "text/plain": [
       "Eq(g3, -19/27)"
      ]
     },
     "execution_count": 130,
     "metadata": {},
     "output_type": "execute_result"
    },
    {
     "data": {
      "text/latex": [
       "$\\displaystyle \\frac{d}{d z} u{\\left(z \\right)} = \\frac{8 u{\\left(z \\right)}}{5} + \\frac{u{\\left(z \\right)}}{u{\\left(z \\right)} v{\\left(z \\right)} - 1} - \\frac{v^{4}{\\left(z \\right)}}{u{\\left(z \\right)} v{\\left(z \\right)} - 1}$"
      ],
      "text/plain": [
       "Eq(Derivative(u(z), z), 8*u(z)/5 + u(z)/(u(z)*v(z) - 1) - v(z)**4/(u(z)*v(z) - 1))"
      ]
     },
     "execution_count": 130,
     "metadata": {},
     "output_type": "execute_result"
    },
    {
     "data": {
      "text/latex": [
       "$\\displaystyle \\frac{d}{d z} v{\\left(z \\right)} = - \\frac{8 v{\\left(z \\right)}}{5} + \\frac{u^{4}{\\left(z \\right)}}{u{\\left(z \\right)} v{\\left(z \\right)} - 1} - \\frac{v{\\left(z \\right)}}{u{\\left(z \\right)} v{\\left(z \\right)} - 1}$"
      ],
      "text/plain": [
       "Eq(Derivative(v(z), z), -8*v(z)/5 + u(z)**4/(u(z)*v(z) - 1) - v(z)/(u(z)*v(z) - 1))"
      ]
     },
     "execution_count": 130,
     "metadata": {},
     "output_type": "execute_result"
    },
    {
     "data": {
      "text/latex": [
       "$\\displaystyle \\left. \\frac{d}{d z} u{\\left(z \\right)} \\right|_{\\substack{ z=0 }} = 1$"
      ],
      "text/plain": [
       "Eq(Subs(Derivative(u(z), z), z, 0), 1)"
      ]
     },
     "execution_count": 130,
     "metadata": {},
     "output_type": "execute_result"
    },
    {
     "data": {
      "text/latex": [
       "$\\displaystyle \\left. \\frac{d}{d z} v{\\left(z \\right)} \\right|_{\\substack{ z=0 }} = - \\frac{3}{5}$"
      ],
      "text/plain": [
       "Eq(Subs(Derivative(v(z), z), z, 0), -3/5)"
      ]
     },
     "execution_count": 130,
     "metadata": {},
     "output_type": "execute_result"
    },
    {
     "data": {
      "text/latex": [
       "$\\displaystyle u{\\left(z \\right)} = \\frac{\\sigma{\\left(z,\\frac{4}{3},- \\frac{19}{27} \\right)} e^{\\frac{i \\pi k}{5}} e^{- \\frac{2 i \\pi j l}{25}} e^{\\frac{2 \\eta_{1} l n z}{5}} e^{\\frac{4 \\eta_{1} l^{2} n {\\psi}_{n,m}}{25}} e^{\\frac{2 \\eta_{3} l m z}{5}} e^{\\frac{4 \\eta_{3} l^{2} m {\\psi}_{n,m}}{25}} e^{- \\frac{i \\pi j z}{5 {\\psi}_{n,m}}}}{\\sigma{\\left(\\frac{2 l {\\psi}_{n,m}}{5},\\frac{4}{3},- \\frac{19}{27} \\right)} \\sigma{\\left(\\frac{2 l {\\psi}_{n,m}}{5} + z,\\frac{4}{3},- \\frac{19}{27} \\right)}}$"
      ],
      "text/plain": [
       "Eq(u(z), sigma(z, 4/3, -19/27)*exp(I*pi*k/5)*exp(-2*I*pi*j*l/25)*exp(2*eta1*l*n*z/5)*exp(4*eta1*l**2*n*psi[n, m]/25)*exp(2*eta3*l*m*z/5)*exp(4*eta3*l**2*m*psi[n, m]/25)*exp(-I*pi*j*z/(5*psi[n, m]))/(sigma(2*l*psi[n, m]/5, 4/3, -19/27)*sigma(2*l*psi[n, m]/5 + z, 4/3, -19/27)))"
      ]
     },
     "execution_count": 130,
     "metadata": {},
     "output_type": "execute_result"
    },
    {
     "data": {
      "text/latex": [
       "$\\displaystyle v{\\left(z \\right)} = \\frac{\\sigma{\\left(\\frac{4 l {\\psi}_{n,m}}{5} + z,\\frac{4}{3},- \\frac{19}{27} \\right)} e^{- \\frac{i \\pi k}{5}} e^{\\frac{2 i \\pi j l}{25}} e^{- \\frac{2 \\eta_{1} l n z}{5}} e^{- \\frac{4 \\eta_{1} l^{2} n {\\psi}_{n,m}}{25}} e^{- \\frac{2 \\eta_{3} l m z}{5}} e^{- \\frac{4 \\eta_{3} l^{2} m {\\psi}_{n,m}}{25}} e^{\\frac{i \\pi j z}{5 {\\psi}_{n,m}}}}{\\sigma{\\left(\\frac{2 l {\\psi}_{n,m}}{5},\\frac{4}{3},- \\frac{19}{27} \\right)} \\sigma{\\left(\\frac{2 l {\\psi}_{n,m}}{5} + z,\\frac{4}{3},- \\frac{19}{27} \\right)}}$"
      ],
      "text/plain": [
       "Eq(v(z), sigma(4*l*psi[n, m]/5 + z, 4/3, -19/27)*exp(-I*pi*k/5)*exp(2*I*pi*j*l/25)*exp(-2*eta1*l*n*z/5)*exp(-4*eta1*l**2*n*psi[n, m]/25)*exp(-2*eta3*l*m*z/5)*exp(-4*eta3*l**2*m*psi[n, m]/25)*exp(I*pi*j*z/(5*psi[n, m]))/(sigma(2*l*psi[n, m]/5, 4/3, -19/27)*sigma(2*l*psi[n, m]/5 + z, 4/3, -19/27)))"
      ]
     },
     "execution_count": 130,
     "metadata": {},
     "output_type": "execute_result"
    }
   ],
   "source": [
    "alpha_1_dix = Eq(alpha,1)\n",
    "u0_0_dix = Eq(u(0),0)\n",
    "v0_0_dix = Eq(v(0),1)\n",
    "\n",
    "beta_dix = Eq(beta, solve(uv_ham_beta_over_alpha.subs(z,0).subs([u0_0_dix.args, v0_0_dix.args]),beta)[0])\n",
    "uv_ham_dix = uv_ham_beta_over_alpha.subs(*beta_dix.args)\n",
    "uv_ham_dix = Eq(-uv_ham_dix.lhs, -uv_ham_dix.rhs)\n",
    "\n",
    "g2_dix = g2_alph_bet.subs(*beta_dix.args).subs(*alpha_1_dix.args)\n",
    "g3_dix = g3_alph_bet.subs(*beta_dix.args).subs(*alpha_1_dix.args)\n",
    "\n",
    "du_dix = du_alpha_beta.subs(*beta_dix.args).subs(*alpha_1_dix.args)\n",
    "dv_dix = dv_alpha_beta.subs(*beta_dix.args).subs(*alpha_1_dix.args)\n",
    "\n",
    "uz_dix = (\n",
    "    Uz_sol_ellip_eta_psi_z0_ham.subs([(U(z),u(z)), g2_dix.args, g3_dix.args])\n",
    "    .subs(z0,-2*l*psi[n,m]/5).expand()\n",
    "    .subs(exp(4*eta1*omega1/25), \n",
    "          1/(sigma(2*omega1/5, Rational(4,3), -Rational(19,27))**2/\n",
    "             sigma(4*omega1/5, Rational(4,3), -Rational(19,27))))\n",
    ")\n",
    "vz_dix = (Vz_sol_ellip_eta_psi_z0_ham.subs([(V(z),v(z)), g2_dix.args, g3_dix.args])\n",
    "          .subs(z0,-2*l*psi[n,m]/5).expand()\n",
    "          .subs(exp(-4*eta1*omega1/25), \n",
    "                sigma(2*omega1/5, Rational(4,3), -Rational(19,27))**2/\n",
    "                sigma(4*omega1/5, Rational(4,3), -Rational(19,27)))\n",
    "         )\n",
    "\n",
    "u0_0_dix\n",
    "v0_0_dix\n",
    "beta_dix\n",
    "uv_ham_dix\n",
    "g2_dix\n",
    "g3_dix\n",
    "du_dix\n",
    "dv_dix\n",
    "du_dix.subs(z,0).subs([u0_0_dix.args, v0_0_dix.args])\n",
    "dv_dix.subs(z,0).subs([u0_0_dix.args, v0_0_dix.args])\n",
    "\n",
    "uz_dix\n",
    "vz_dix"
   ]
  },
  {
   "cell_type": "markdown",
   "id": "23a8292f",
   "metadata": {},
   "source": [
    "### General case with arbitrary valued p\n",
    "\n",
    "The particular case considered up until this point i.e. the one that fixed the constant to $3 + 5\\beta/2\\alpha$, is a special case that enabled the factorisation of a polynomial that cancelled the denominator to leave a cubic. When that condition is relaxed to instead consider arbitrary constant $p$, it would lead to hyperelliptic functions."
   ]
  },
  {
   "cell_type": "code",
   "execution_count": 51,
   "id": "62b943f1",
   "metadata": {},
   "outputs": [
    {
     "data": {
      "text/latex": [
       "$\\displaystyle p = - u^{5}{\\left(z \\right)} - \\frac{5 u^{2}{\\left(z \\right)} v^{2}{\\left(z \\right)} \\beta}{2} + 5 u{\\left(z \\right)} v{\\left(z \\right)} \\beta + 5 u{\\left(z \\right)} v{\\left(z \\right)} - v^{5}{\\left(z \\right)}$"
      ],
      "text/plain": [
       "Eq(p, -u(z)**5 - 5*u(z)**2*v(z)**2*beta/2 + 5*u(z)*v(z)*beta + 5*u(z)*v(z) - v(z)**5)"
      ]
     },
     "execution_count": 51,
     "metadata": {},
     "output_type": "execute_result"
    },
    {
     "data": {
      "text/plain": [
       "True"
      ]
     },
     "execution_count": 51,
     "metadata": {},
     "output_type": "execute_result"
    },
    {
     "data": {
      "text/latex": [
       "$\\displaystyle \\frac{d}{d z} u{\\left(z \\right)} = - u{\\left(z \\right)} \\beta + \\frac{u{\\left(z \\right)}}{u{\\left(z \\right)} v{\\left(z \\right)} - 1} - \\frac{v^{4}{\\left(z \\right)}}{u{\\left(z \\right)} v{\\left(z \\right)} - 1}$"
      ],
      "text/plain": [
       "Eq(Derivative(u(z), z), -u(z)*beta + u(z)/(u(z)*v(z) - 1) - v(z)**4/(u(z)*v(z) - 1))"
      ]
     },
     "execution_count": 51,
     "metadata": {},
     "output_type": "execute_result"
    },
    {
     "data": {
      "text/latex": [
       "$\\displaystyle \\frac{d}{d z} v{\\left(z \\right)} = v{\\left(z \\right)} \\beta + \\frac{u^{4}{\\left(z \\right)}}{u{\\left(z \\right)} v{\\left(z \\right)} - 1} - \\frac{v{\\left(z \\right)}}{u{\\left(z \\right)} v{\\left(z \\right)} - 1}$"
      ],
      "text/plain": [
       "Eq(Derivative(v(z), z), v(z)*beta + u(z)**4/(u(z)*v(z) - 1) - v(z)/(u(z)*v(z) - 1))"
      ]
     },
     "execution_count": 51,
     "metadata": {},
     "output_type": "execute_result"
    },
    {
     "data": {
      "text/latex": [
       "$\\displaystyle \\frac{d}{d z} u{\\left(z \\right)} v{\\left(z \\right)} = \\frac{u^{5}{\\left(z \\right)} - v^{5}{\\left(z \\right)}}{u{\\left(z \\right)} v{\\left(z \\right)} - 1}$"
      ],
      "text/plain": [
       "Eq(Derivative(u(z)*v(z), z), (u(z)**5 - v(z)**5)/(u(z)*v(z) - 1))"
      ]
     },
     "execution_count": 51,
     "metadata": {},
     "output_type": "execute_result"
    }
   ],
   "source": [
    "gen_conserved_p = Eq(p, uv_ham_beta_over_alpha.rhs.subs(alpha,1))\n",
    "du_gen = du_alpha_beta.subs(alpha,1)\n",
    "dv_gen = dv_alpha_beta.subs(alpha,1)\n",
    "duv_gen = Eq(Derivative(u(z)*v(z),z), diff(u(z)*v(z),z).subs([du_gen.args, dv_gen.args]).simplify())\n",
    "\n",
    "gen_conserved_p\n",
    "# Conserved check\n",
    "diff(gen_conserved_p.rhs,z).subs([du_gen.args, dv_gen.args]).simplify() == 0\n",
    "\n",
    "du_gen\n",
    "dv_gen\n",
    "duv_gen"
   ]
  },
  {
   "cell_type": "markdown",
   "id": "6bc4d054",
   "metadata": {},
   "source": [
    "For abitrary $p$ this no longer factors:"
   ]
  },
  {
   "cell_type": "code",
   "execution_count": 131,
   "id": "be1bcb5f",
   "metadata": {},
   "outputs": [
    {
     "data": {
      "text/latex": [
       "$\\displaystyle \\left(\\frac{d}{d z} u{\\left(z \\right)} v{\\left(z \\right)}\\right)^{2} = \\frac{- 16 u^{5}{\\left(z \\right)} v^{5}{\\left(z \\right)} + 25 u^{4}{\\left(z \\right)} v^{4}{\\left(z \\right)} \\beta^{2} - 100 u^{3}{\\left(z \\right)} v^{3}{\\left(z \\right)} \\beta^{2} - 100 u^{3}{\\left(z \\right)} v^{3}{\\left(z \\right)} \\beta + 100 u^{2}{\\left(z \\right)} v^{2}{\\left(z \\right)} \\beta^{2} + 20 u^{2}{\\left(z \\right)} v^{2}{\\left(z \\right)} \\beta p + 200 u^{2}{\\left(z \\right)} v^{2}{\\left(z \\right)} \\beta + 100 u^{2}{\\left(z \\right)} v^{2}{\\left(z \\right)} - 40 u{\\left(z \\right)} v{\\left(z \\right)} \\beta p - 40 u{\\left(z \\right)} v{\\left(z \\right)} p + 4 p^{2}}{4 \\left(u{\\left(z \\right)} v{\\left(z \\right)} - 1\\right)^{2}}$"
      ],
      "text/plain": [
       "Eq(Derivative(u(z)*v(z), z)**2, (-16*u(z)**5*v(z)**5 + 25*u(z)**4*v(z)**4*beta**2 - 100*u(z)**3*v(z)**3*beta**2 - 100*u(z)**3*v(z)**3*beta + 100*u(z)**2*v(z)**2*beta**2 + 20*u(z)**2*v(z)**2*beta*p + 200*u(z)**2*v(z)**2*beta + 100*u(z)**2*v(z)**2 - 40*u(z)*v(z)*beta*p - 40*u(z)*v(z)*p + 4*p**2)/(4*(u(z)*v(z) - 1)**2))"
      ]
     },
     "execution_count": 131,
     "metadata": {},
     "output_type": "execute_result"
    }
   ],
   "source": [
    "duv_gen_sqrd = Eq(duv_gen.lhs**2, \n",
    "   (duv_gen.rhs**2 - \n",
    "   ((gen_conserved_p.lhs - p + u(z)**5 + v(z)**5)**2 - (gen_conserved_p.rhs - p + u(z)**5 + v(z)**5)**2) /\n",
    "   (1 - u(z)*v(z))**2).expand().factor()\n",
    "  )\n",
    "duv_gen_sqrd"
   ]
  },
  {
   "cell_type": "markdown",
   "id": "21c07f69",
   "metadata": {},
   "source": [
    "but for the particualr value of $p=3 + 5\\beta/2$ it does:"
   ]
  },
  {
   "cell_type": "code",
   "execution_count": 132,
   "id": "f430400a",
   "metadata": {},
   "outputs": [
    {
     "data": {
      "text/latex": [
       "$\\displaystyle \\left(\\frac{d}{d z} u{\\left(z \\right)} v{\\left(z \\right)}\\right)^{2} = - \\frac{\\left(5 \\beta + 4\\right) \\left(5 \\beta + 6\\right) u{\\left(z \\right)} v{\\left(z \\right)}}{2} + \\frac{\\left(5 \\beta + 6\\right)^{2}}{4} + \\frac{\\left(25 \\beta^{2} - 32\\right) u^{2}{\\left(z \\right)} v^{2}{\\left(z \\right)}}{4} - 4 u^{3}{\\left(z \\right)} v^{3}{\\left(z \\right)}$"
      ],
      "text/plain": [
       "Eq(Derivative(u(z)*v(z), z)**2, -(5*beta + 4)*(5*beta + 6)*u(z)*v(z)/2 + (5*beta + 6)**2/4 + (25*beta**2 - 32)*u(z)**2*v(z)**2/4 - 4*u(z)**3*v(z)**3)"
      ]
     },
     "execution_count": 132,
     "metadata": {},
     "output_type": "execute_result"
    }
   ],
   "source": [
    "Eq(duv_gen_sqrd.lhs, duv_gen_sqrd.rhs.subs(p,3 + 5*beta/2).factor().expand().collect(u(z)*v(z),factor))"
   ]
  },
  {
   "cell_type": "code",
   "execution_count": 133,
   "id": "0fe8465f",
   "metadata": {
    "scrolled": true
   },
   "outputs": [
    {
     "data": {
      "text/latex": [
       "$\\displaystyle \\left(\\frac{d}{d z} F{\\left(z \\right)}\\right)^{2} = \\left(- 25 \\beta - 40\\right) F^{3}{\\left(z \\right)} + \\left(\\frac{25 \\beta^{2}}{4} - 20\\right) F^{2}{\\left(z \\right)} + \\left(25 \\beta - 10 p + 30\\right) F^{5}{\\left(z \\right)} + \\left(- \\frac{25 \\beta^{2}}{2} + 5 \\beta p - 25 \\beta - 15\\right) F^{4}{\\left(z \\right)} + \\left(\\frac{25 \\beta^{2}}{4} - 5 \\beta p + 25 \\beta + p^{2} - 10 p + 21\\right) F^{6}{\\left(z \\right)} - 4 F{\\left(z \\right)}$"
      ],
      "text/plain": [
       "Eq(Derivative(F(z), z)**2, (-25*beta - 40)*F(z)**3 + (25*beta**2/4 - 20)*F(z)**2 + (25*beta - 10*p + 30)*F(z)**5 + (-25*beta**2/2 + 5*beta*p - 25*beta - 15)*F(z)**4 + (25*beta**2/4 - 5*beta*p + 25*beta + p**2 - 10*p + 21)*F(z)**6 - 4*F(z))"
      ]
     },
     "execution_count": 133,
     "metadata": {},
     "output_type": "execute_result"
    }
   ],
   "source": [
    "duv_gen_sqrd_b = duv_gen_sqrd.subs(u(z),(1/F(z)+1)/v(z)).doit()\n",
    "duv_gen_sqrd_b = Eq(duv_gen_sqrd_b.lhs*F(z)**4, (duv_gen_sqrd_b.rhs*F(z)**4).expand().collect(F(z)))\n",
    "duv_gen_sqrd_b"
   ]
  },
  {
   "cell_type": "code",
   "execution_count": 134,
   "id": "b62bdce4",
   "metadata": {},
   "outputs": [
    {
     "data": {
      "text/latex": [
       "$\\displaystyle \\left(\\frac{d}{d z} F{\\left(z \\right)}\\right)^{2} = \\frac{\\left(- 40 F^{3}{\\left(z \\right)} \\beta - 60 F^{3}{\\left(z \\right)} - 100 F^{2}{\\left(z \\right)} \\beta - 160 F^{2}{\\left(z \\right)} + 25 F{\\left(z \\right)} \\beta^{2} - 80 F{\\left(z \\right)} - 16\\right) F{\\left(z \\right)}}{4}$"
      ],
      "text/plain": [
       "Eq(Derivative(F(z), z)**2, (-40*F(z)**3*beta - 60*F(z)**3 - 100*F(z)**2*beta - 160*F(z)**2 + 25*F(z)*beta**2 - 80*F(z) - 16)*F(z)/4)"
      ]
     },
     "execution_count": 134,
     "metadata": {},
     "output_type": "execute_result"
    },
    {
     "data": {
      "text/latex": [
       "$\\displaystyle \\left(\\frac{d}{d z} F{\\left(z \\right)}\\right)^{2} = \\frac{\\left(- 160 F^{4}{\\left(z \\right)} + 40 F^{3}{\\left(z \\right)} \\beta - 60 F^{3}{\\left(z \\right)} - 100 F^{2}{\\left(z \\right)} \\beta - 160 F^{2}{\\left(z \\right)} + 25 F{\\left(z \\right)} \\beta^{2} - 80 F{\\left(z \\right)} - 16\\right) F{\\left(z \\right)}}{4}$"
      ],
      "text/plain": [
       "Eq(Derivative(F(z), z)**2, (-160*F(z)**4 + 40*F(z)**3*beta - 60*F(z)**3 - 100*F(z)**2*beta - 160*F(z)**2 + 25*F(z)*beta**2 - 80*F(z) - 16)*F(z)/4)"
      ]
     },
     "execution_count": 134,
     "metadata": {},
     "output_type": "execute_result"
    }
   ],
   "source": [
    "special_p_vals = solve(duv_gen_sqrd_b.rhs.coeff(F(z),6),p)\n",
    "duv_gen_sqrd_b.subs(p,special_p_vals[0]).simplify()\n",
    "duv_gen_sqrd_b.subs(p,special_p_vals[1]).simplify()"
   ]
  },
  {
   "cell_type": "markdown",
   "id": "40bb2242",
   "metadata": {},
   "source": [
    "### Numerical Solutions"
   ]
  },
  {
   "cell_type": "code",
   "execution_count": 135,
   "id": "26f92d66",
   "metadata": {
    "scrolled": false
   },
   "outputs": [
    {
     "data": {
      "text/latex": [
       "$\\displaystyle - \\frac{X^{3}}{Y^{2}} = - \\left(\\frac{X^{3}}{Y^{3}} + 2 X\\right) U{\\left(z \\right)} V{\\left(z \\right)} + U^{5}{\\left(z \\right)} + V^{5}{\\left(z \\right)} + \\frac{\\left(3 X^{2} + Y^{3}\\right) U^{2}{\\left(z \\right)} V^{2}{\\left(z \\right)}}{X Y}$"
      ],
      "text/plain": [
       "Eq(-X**3/Y**2, -(X**3/Y**3 + 2*X)*U(z)*V(z) + U(z)**5 + V(z)**5 + (3*X**2 + Y**3)*U(z)**2*V(z)**2/(X*Y))"
      ]
     },
     "execution_count": 135,
     "metadata": {},
     "output_type": "execute_result"
    },
    {
     "data": {
      "text/latex": [
       "$\\displaystyle \\frac{d}{d z} U{\\left(z \\right)} = - \\frac{X^{3} U{\\left(z \\right)}}{Y \\left(- X^{2} + Y^{2} U{\\left(z \\right)} V{\\left(z \\right)}\\right)} - \\frac{Y^{2} V^{4}{\\left(z \\right)}}{- X^{2} + Y^{2} U{\\left(z \\right)} V{\\left(z \\right)}} - \\frac{2 \\cdot \\left(3 X^{2} + Y^{3}\\right) U{\\left(z \\right)}}{5 X Y}$"
      ],
      "text/plain": [
       "Eq(Derivative(U(z), z), -X**3*U(z)/(Y*(-X**2 + Y**2*U(z)*V(z))) - Y**2*V(z)**4/(-X**2 + Y**2*U(z)*V(z)) - 2*(3*X**2 + Y**3)*U(z)/(5*X*Y))"
      ]
     },
     "execution_count": 135,
     "metadata": {},
     "output_type": "execute_result"
    },
    {
     "data": {
      "text/latex": [
       "$\\displaystyle \\frac{d}{d z} V{\\left(z \\right)} = \\frac{X^{3} V{\\left(z \\right)}}{Y \\left(- X^{2} + Y^{2} U{\\left(z \\right)} V{\\left(z \\right)}\\right)} + \\frac{Y^{2} U^{4}{\\left(z \\right)}}{- X^{2} + Y^{2} U{\\left(z \\right)} V{\\left(z \\right)}} + \\frac{2 \\cdot \\left(3 X^{2} + Y^{3}\\right) V{\\left(z \\right)}}{5 X Y}$"
      ],
      "text/plain": [
       "Eq(Derivative(V(z), z), X**3*V(z)/(Y*(-X**2 + Y**2*U(z)*V(z))) + Y**2*U(z)**4/(-X**2 + Y**2*U(z)*V(z)) + 2*(3*X**2 + Y**3)*V(z)/(5*X*Y))"
      ]
     },
     "execution_count": 135,
     "metadata": {},
     "output_type": "execute_result"
    },
    {
     "data": {
      "text/latex": [
       "$\\displaystyle U{\\left(z \\right)} = \\frac{\\sigma{\\left(z - z_{0} - \\frac{2 {\\psi}_{n,m}}{5},g_{2},g_{3} \\right)} e^{\\frac{2 \\eta_{1} n z}{5}} e^{- \\frac{2 \\eta_{1} n z_{0}}{5}} e^{\\frac{2 \\eta_{3} m z}{5}} e^{- \\frac{2 \\eta_{3} m z_{0}}{5}}}{\\sigma{\\left(z - z_{0},g_{2},g_{3} \\right)} \\sigma{\\left(\\frac{2 {\\psi}_{n,m}}{5},g_{2},g_{3} \\right)}}$"
      ],
      "text/plain": [
       "Eq(U(z), sigma(z - z0 - 2*psi[n, m]/5, g2, g3)*exp(2*eta1*n*z/5)*exp(-2*eta1*n*z0/5)*exp(2*eta3*m*z/5)*exp(-2*eta3*m*z0/5)/(sigma(z - z0, g2, g3)*sigma(2*psi[n, m]/5, g2, g3)))"
      ]
     },
     "execution_count": 135,
     "metadata": {},
     "output_type": "execute_result"
    },
    {
     "data": {
      "text/latex": [
       "$\\displaystyle V{\\left(z \\right)} = \\frac{\\sigma{\\left(z - z_{0} + \\frac{2 {\\psi}_{n,m}}{5},g_{2},g_{3} \\right)} e^{- \\frac{2 \\eta_{1} n z}{5}} e^{\\frac{2 \\eta_{1} n z_{0}}{5}} e^{- \\frac{2 \\eta_{3} m z}{5}} e^{\\frac{2 \\eta_{3} m z_{0}}{5}}}{\\sigma{\\left(z - z_{0},g_{2},g_{3} \\right)} \\sigma{\\left(\\frac{2 {\\psi}_{n,m}}{5},g_{2},g_{3} \\right)}}$"
      ],
      "text/plain": [
       "Eq(V(z), sigma(z - z0 + 2*psi[n, m]/5, g2, g3)*exp(-2*eta1*n*z/5)*exp(2*eta1*n*z0/5)*exp(-2*eta3*m*z/5)*exp(2*eta3*m*z0/5)/(sigma(z - z0, g2, g3)*sigma(2*psi[n, m]/5, g2, g3)))"
      ]
     },
     "execution_count": 135,
     "metadata": {},
     "output_type": "execute_result"
    },
    {
     "data": {
      "text/latex": [
       "$\\displaystyle g_{2} = \\frac{X^{4}}{12 Y^{4}} - \\frac{X^{2}}{Y} + \\frac{7 Y^{2}}{6} + \\frac{Y^{5}}{X^{2}} + \\frac{Y^{8}}{12 X^{4}}$"
      ],
      "text/plain": [
       "Eq(g2, X**4/(12*Y**4) - X**2/Y + 7*Y**2/6 + Y**5/X**2 + Y**8/(12*X**4))"
      ]
     },
     "execution_count": 135,
     "metadata": {},
     "output_type": "execute_result"
    },
    {
     "data": {
      "text/latex": [
       "$\\displaystyle g_{3} = - \\frac{X^{6}}{216 Y^{6}} + \\frac{X^{4}}{12 Y^{3}} - \\frac{25 X^{2}}{72} - \\frac{25 Y^{6}}{72 X^{2}} - \\frac{Y^{9}}{12 X^{4}} - \\frac{Y^{12}}{216 X^{6}}$"
      ],
      "text/plain": [
       "Eq(g3, -X**6/(216*Y**6) + X**4/(12*Y**3) - 25*X**2/72 - 25*Y**6/(72*X**2) - Y**9/(12*X**4) - Y**12/(216*X**6))"
      ]
     },
     "execution_count": 135,
     "metadata": {},
     "output_type": "execute_result"
    },
    {
     "data": {
      "text/latex": [
       "$\\displaystyle \\operatorname{pw}{\\left(y,g_{2},g_{3} \\right)} = \\frac{X^{2}}{12 Y^{2}} + \\frac{Y}{2} + \\frac{Y^{4}}{12 X^{2}}$"
      ],
      "text/plain": [
       "Eq(pw(y, g2, g3), X**2/(12*Y**2) + Y/2 + Y**4/(12*X**2))"
      ]
     },
     "execution_count": 135,
     "metadata": {},
     "output_type": "execute_result"
    },
    {
     "data": {
      "text/latex": [
       "$\\displaystyle \\operatorname{pwp}{\\left(y,g_{2},g_{3} \\right)} = X$"
      ],
      "text/plain": [
       "Eq(pwp(y, g2, g3), X)"
      ]
     },
     "execution_count": 135,
     "metadata": {},
     "output_type": "execute_result"
    }
   ],
   "source": [
    "UV_ham_XY_poly\n",
    "\n",
    "dU_ellip_b\n",
    "dV_ellip_b\n",
    "\n",
    "Uz_sol_ellip_eta_psi_z0_ham_l1_jk0 = Uz_sol_ellip_eta_psi_z0_ham.subs([(l,1),(j,0),(k,0)]).expand()\n",
    "Vz_sol_ellip_eta_psi_z0_ham_l1_jk0 = Vz_sol_ellip_eta_psi_z0_ham.subs([(l,1),(j,0),(k,0)]).expand()\n",
    "Uz_sol_ellip_eta_psi_z0_ham_l1_jk0\n",
    "Vz_sol_ellip_eta_psi_z0_ham_l1_jk0\n",
    "\n",
    "g2_ellip\n",
    "g3_ellip\n",
    "\n",
    "pw_y_XY\n",
    "pwp_y_XY_choice"
   ]
  },
  {
   "cell_type": "code",
   "execution_count": 136,
   "id": "cf5ea801",
   "metadata": {},
   "outputs": [
    {
     "data": {
      "text/latex": [
       "$\\displaystyle \\left(U^{5}{\\left(z \\right)} + V^{5}{\\left(z \\right)}\\right)^{2} = \\left(\\frac{X^{3}}{Y^{2}} - \\left(\\frac{X^{3}}{Y^{3}} + 2 X\\right) U{\\left(z \\right)} V{\\left(z \\right)} + \\frac{\\left(3 X^{2} + Y^{3}\\right) U^{2}{\\left(z \\right)} V^{2}{\\left(z \\right)}}{X Y}\\right)^{2}$"
      ],
      "text/plain": [
       "Eq((U(z)**5 + V(z)**5)**2, (X**3/Y**2 - (X**3/Y**3 + 2*X)*U(z)*V(z) + (3*X**2 + Y**3)*U(z)**2*V(z)**2/(X*Y))**2)"
      ]
     },
     "execution_count": 136,
     "metadata": {},
     "output_type": "execute_result"
    },
    {
     "data": {
      "text/latex": [
       "$\\displaystyle \\left(U^{5}{\\left(z \\right)} - V^{5}{\\left(z \\right)}\\right)^{2} = \\left(U^{5}{\\left(z \\right)} + V^{5}{\\left(z \\right)}\\right)^{2} - 4 U^{5}{\\left(z \\right)} V^{5}{\\left(z \\right)}$"
      ],
      "text/plain": [
       "Eq((U(z)**5 - V(z)**5)**2, (U(z)**5 + V(z)**5)**2 - 4*U(z)**5*V(z)**5)"
      ]
     },
     "execution_count": 136,
     "metadata": {},
     "output_type": "execute_result"
    },
    {
     "data": {
      "text/latex": [
       "$\\displaystyle \\left(\\frac{d}{d z} U{\\left(z \\right)} V{\\left(z \\right)}\\right)^{2} = \\frac{Y^{4} \\left(U^{5}{\\left(z \\right)} - V^{5}{\\left(z \\right)}\\right)^{2}}{\\left(- X^{2} + Y^{2} U{\\left(z \\right)} V{\\left(z \\right)}\\right)^{2}}$"
      ],
      "text/plain": [
       "Eq(Derivative(U(z)*V(z), z)**2, Y**4*(U(z)**5 - V(z)**5)**2/(-X**2 + Y**2*U(z)*V(z))**2)"
      ]
     },
     "execution_count": 136,
     "metadata": {},
     "output_type": "execute_result"
    },
    {
     "data": {
      "text/latex": [
       "$\\displaystyle U{\\left(z \\right)} V{\\left(z \\right)} = \\frac{X^{2}}{12 Y^{2}} + \\frac{Y}{2} - W{\\left(z \\right)} + \\frac{Y^{4}}{12 X^{2}}$"
      ],
      "text/plain": [
       "Eq(U(z)*V(z), X**2/(12*Y**2) + Y/2 - W(z) + Y**4/(12*X**2))"
      ]
     },
     "execution_count": 136,
     "metadata": {},
     "output_type": "execute_result"
    },
    {
     "data": {
      "text/latex": [
       "$\\displaystyle \\left(\\frac{d}{d z} W{\\left(z \\right)}\\right)^{2} = 4 W^{3}{\\left(z \\right)} - \\frac{\\left(X^{8} - 12 X^{6} Y^{3} + 14 X^{4} Y^{6} + 12 X^{2} Y^{9} + Y^{12}\\right) W{\\left(z \\right)}}{12 X^{4} Y^{4}} + \\frac{\\left(X^{4} + Y^{6}\\right) \\left(X^{8} - 18 X^{6} Y^{3} + 74 X^{4} Y^{6} + 18 X^{2} Y^{9} + Y^{12}\\right)}{216 X^{6} Y^{6}}$"
      ],
      "text/plain": [
       "Eq(Derivative(W(z), z)**2, 4*W(z)**3 - (X**8 - 12*X**6*Y**3 + 14*X**4*Y**6 + 12*X**2*Y**9 + Y**12)*W(z)/(12*X**4*Y**4) + (X**4 + Y**6)*(X**8 - 18*X**6*Y**3 + 74*X**4*Y**6 + 18*X**2*Y**9 + Y**12)/(216*X**6*Y**6))"
      ]
     },
     "execution_count": 136,
     "metadata": {},
     "output_type": "execute_result"
    },
    {
     "data": {
      "text/latex": [
       "$\\displaystyle 0$"
      ],
      "text/plain": [
       "0"
      ]
     },
     "execution_count": 136,
     "metadata": {},
     "output_type": "execute_result"
    },
    {
     "data": {
      "text/latex": [
       "$\\displaystyle 0$"
      ],
      "text/plain": [
       "0"
      ]
     },
     "execution_count": 136,
     "metadata": {},
     "output_type": "execute_result"
    },
    {
     "data": {
      "text/latex": [
       "$\\displaystyle U{\\left(z \\right)} V{\\left(z \\right)} = - \\frac{\\sigma{\\left(- z + z_{0} + \\frac{2 {\\psi}_{n,m}}{5},g_{2},g_{3} \\right)} \\sigma{\\left(z - z_{0} + \\frac{2 {\\psi}_{n,m}}{5},g_{2},g_{3} \\right)}}{\\sigma^{2}{\\left(z - z_{0},g_{2},g_{3} \\right)} \\sigma^{2}{\\left(\\frac{2 {\\psi}_{n,m}}{5},g_{2},g_{3} \\right)}}$"
      ],
      "text/plain": [
       "Eq(U(z)*V(z), -sigma(-z + z0 + 2*psi[n, m]/5, g2, g3)*sigma(z - z0 + 2*psi[n, m]/5, g2, g3)/(sigma(z - z0, g2, g3)**2*sigma(2*psi[n, m]/5, g2, g3)**2))"
      ]
     },
     "execution_count": 136,
     "metadata": {},
     "output_type": "execute_result"
    },
    {
     "data": {
      "text/latex": [
       "$\\displaystyle 0$"
      ],
      "text/plain": [
       "0"
      ]
     },
     "execution_count": 136,
     "metadata": {},
     "output_type": "execute_result"
    }
   ],
   "source": [
    "UV_plus_min_ham = Eq(\n",
    "    ((UV_ham_XY_poly.lhs - UV_ham_XY_poly.lhs - U(z)**5 - V(z)**5)**2).simplify(), \n",
    "    (UV_ham_XY_poly.rhs - UV_ham_XY_poly.lhs - U(z)**5 - V(z)**5)**2\n",
    ")\n",
    "UV5_plus_min = Eq((U(z)**5 - V(z)**5)**2, (U(z)**5 + V(z)**5)**2 - 4*U(z)**5*V(z)**5)\n",
    "dUV_again = Eq(Derivative(U(z)*V(z),z)**2, \n",
    "   diff(U(z)*V(z),z).subs([dU_ellip_b.args, dV_ellip_b.args]).simplify()**2\n",
    "  )\n",
    "Wzc_no_sqrd_sub = Eq(U(z)*V(z), -W(z) + Y/2 + Y**4/(12*X**2) + X**2/(12*Y**2))\n",
    "dUV_again_b = Eq(dUV_again.lhs.subs(*Wzc_no_sqrd_sub.args).doit(), \n",
    "                 dUV_again.rhs\n",
    "                 .subs(*UV5_plus_min.args)\n",
    "                 .subs(*UV_plus_min_ham.args)\n",
    "                 .expand().factor()\n",
    "                 .subs(*Wzc_no_sqrd_sub.args)\n",
    "                 .expand().collect(W(z),factor)\n",
    "                )\n",
    "g2_again = Eq(g2, -dUV_again_b.rhs.coeff(W(z),1).expand())\n",
    "g3_again = Eq(g3, -dUV_again_b.rhs.coeff(W(z),0).expand())\n",
    "\n",
    "UV_pw_again = Eq(\n",
    "    Uz_sol_ellip_eta_psi_z0_ham_l1_jk0.lhs * Vz_sol_ellip_eta_psi_z0_ham_l1_jk0.lhs,\n",
    "    (Uz_sol_ellip_eta_psi_z0_ham_l1_jk0.rhs * Vz_sol_ellip_eta_psi_z0_ham_l1_jk0.rhs).simplify()\n",
    "    .subs(sigma(-2*psi[n,m]/5 + z - z0,g2,g3), -sigma(2*psi[n,m]/5 - z + z0,g2,g3))\n",
    "    .subs(sigma_p_identity.rhs.subs([(x,2*omega1/5),(y,z-z0)]), \n",
    "          sigma_p_identity.lhs.subs([(x,2*omega1/5),(y,z-z0)]))\n",
    ")\n",
    "\n",
    "\n",
    "UV_plus_min_ham\n",
    "UV5_plus_min\n",
    "dUV_again\n",
    "Wzc_no_sqrd_sub\n",
    "dUV_again_b\n",
    "g2_again.rhs - g2_ellip.rhs\n",
    "g3_again.rhs - g3_ellip.rhs\n",
    "UV_pw_again\n",
    "diff(UV_ham_XY_poly.rhs,z).subs([dU_ellip_b.args, dV_ellip_b.args]).simplify()"
   ]
  },
  {
   "cell_type": "code",
   "execution_count": 137,
   "id": "7e4b0dd5",
   "metadata": {},
   "outputs": [],
   "source": [
    "def mpc_to_float(mpc_val):\n",
    "    return float(mpc_val.real) + float(mpc_val.imag)*1j\n",
    "\n",
    "mpc_to_float_np = np_vectorize(mpc_to_float)\n",
    "\n",
    "def kron_weierstrass_sigma(_z0, _lattice_point, _omegas, conj=False):\n",
    "    \"\"\"\n",
    "    Kronecker theta function analytic solution to 5th order Dixon system\n",
    "    \"\"\"\n",
    "    if not conj:\n",
    "        return lambda z: (            \n",
    "            we.wsigma(-2*_lattice_point/5 + z - _z0, _omegas) * \n",
    "#             mpexp( 2 * we.wzeta(_lattice_point, _omegas) / 5 * (z - _z0) ) /\n",
    "            ( we.wsigma(2*_lattice_point/5, _omegas) * we.wsigma(z - _z0, _omegas) )\n",
    "        )\n",
    "    \n",
    "    return lambda z: (            \n",
    "        we.wsigma(2*_lattice_point/5 + z - _z0, _omegas) * \n",
    "#         mpexp( - 2 * we.wzeta(_lattice_point, _omegas) / 5 * (z - _z0) ) /\n",
    "        ( we.wsigma(2*_lattice_point/5, _omegas) * we.wsigma(z - _z0, _omegas) )\n",
    "    )"
   ]
  },
  {
   "cell_type": "markdown",
   "id": "9c483ea7",
   "metadata": {},
   "source": [
    "#### Initial conditions"
   ]
  },
  {
   "cell_type": "code",
   "execution_count": 166,
   "id": "2c74d789",
   "metadata": {},
   "outputs": [
    {
     "data": {
      "text/latex": [
       "$\\displaystyle 3.25348998927958 \\cdot 10^{-18} + 2.83017054291458 \\cdot 10^{-18} i$"
      ],
      "text/plain": [
       "3.25348998927958e-18 + 2.83017054291458e-18*I"
      ]
     },
     "execution_count": 166,
     "metadata": {},
     "output_type": "execute_result"
    }
   ],
   "source": [
    "X_val_ = (random() - 0.5) + (random() - 0.5)*1j\n",
    "Y_val_ = (random() - 0.5) + (random() - 0.5)*1j\n",
    "X_Y_val_subs = [(X, X_val_), (Y, Y_val_)]\n",
    "\n",
    "g2val_ = g2_ellip.rhs.subs(X_Y_val_subs).evalf()\n",
    "g3val_ = g3_ellip.rhs.subs(X_Y_val_subs).evalf()\n",
    "\n",
    "omega_ = we.omega_from_g(g2val_, g3val_)\n",
    "omega1_ = mpc_to_float(omega_[0])\n",
    "omega2_ = mpc_to_float(omega_[1])\n",
    "omega3_ = mpc_to_float(omega_[2])\n",
    "if im(omega2_/omega1_) <= 0:\n",
    "    omega2_ = -omega2_\n",
    "omegas = (omega1_, omega2_) \n",
    "\n",
    "# Valid point on Weierstrass curve check\n",
    "pw_y_val_ = pw_y_XY.rhs.subs(X_Y_val_subs).evalf()\n",
    "pwp_y_val_ = pwp_y_XY_choice.rhs.subs(X_Y_val_subs).evalf()\n",
    "(pwp_y_val_**2 - (4*pw_y_val_**3 - g2val_*pw_y_val_ - g3val_)).evalf()"
   ]
  },
  {
   "cell_type": "code",
   "execution_count": 167,
   "id": "9ec7d20b",
   "metadata": {
    "scrolled": true
   },
   "outputs": [
    {
     "name": "stdout",
     "output_type": "stream",
     "text": [
      "Lattice point y from elliptic integral: (2.936112735968539-2.061439545403197j)\n",
      "Lattice point from omegas: (2.936112735968538-2.0614395454031924j)\n",
      "Error in lattice point differences: (8.881784197001252e-16-4.440892098500626e-15j)\n",
      "n and m values: 4 -3\n"
     ]
    },
    {
     "data": {
      "text/latex": [
       "$\\displaystyle {\\psi}_{n,m} = 4 \\omega_{1} - 3 \\omega_{2}$"
      ],
      "text/plain": [
       "Eq(psi[n, m], 4*omega1 - 3*omega2)"
      ]
     },
     "execution_count": 167,
     "metadata": {},
     "output_type": "execute_result"
    }
   ],
   "source": [
    "# Calculate y in terms of initial conditions \n",
    "# via inverse Weierstrass P (elliptic integral)\n",
    "_y_point_inv = mpc_to_float(we.invwp(\n",
    "    pw_y_val_, \n",
    "    omegas, \n",
    "    pwp_y_val_\n",
    "))\n",
    "print('Lattice point y from elliptic integral:',_y_point_inv)\n",
    "nm_lim = 5\n",
    "\n",
    "y_point_omega_err_tolerance = 1e-10\n",
    "found = False\n",
    "for __n in range(-nm_lim, nm_lim):\n",
    "    for __m in range(-nm_lim, nm_lim):\n",
    "        psi_nm_val_ = __n * omega1_ + __m * omega2_\n",
    "        y_point_omega_ = 2*psi_nm_val_/5\n",
    "        y_point_omega_err = _y_point_inv - y_point_omega_\n",
    "        if abs(y_point_omega_err) < y_point_omega_err_tolerance:\n",
    "            print('Lattice point from omegas:', y_point_omega_)\n",
    "            print('Error in lattice point differences:', y_point_omega_err)\n",
    "            n_omega1_val_ = __n\n",
    "            m_omega2_val_ = __m\n",
    "            print('n and m values:', n_omega1_val_, m_omega2_val_)\n",
    "            found = True\n",
    "            break\n",
    "    if found:\n",
    "        break\n",
    "Eq(psi[n,m], n_omega1_val_*omega1 + m_omega2_val_*omega2)"
   ]
  },
  {
   "cell_type": "code",
   "execution_count": 168,
   "id": "5fa43930",
   "metadata": {},
   "outputs": [
    {
     "name": "stdout",
     "output_type": "stream",
     "text": [
      "LHS -0.15774717107303 + 0.011720197449624*I\n",
      "RHS -0.15774717107303 + 0.011720197449625*I\n",
      "ERROR (SMAPE) 6.08323970236439e-15\n"
     ]
    },
    {
     "data": {
      "text/latex": [
       "$\\displaystyle \\operatorname{pw}{\\left(\\frac{2 {\\psi}_{n,m}}{5},g_{2},g_{3} \\right)} + 1.0 \\cdot 10^{-16} = \\frac{X^{2}}{12 Y^{2}} + \\frac{Y}{2} + \\frac{Y^{4}}{12 X^{2}}$"
      ],
      "text/plain": [
       "Eq(pw(2*psi[n, m]/5, g2, g3) + 1.0e-16, X**2/(12*Y**2) + Y/2 + Y**4/(12*X**2))"
      ]
     },
     "execution_count": 168,
     "metadata": {},
     "output_type": "execute_result"
    },
    {
     "name": "stdout",
     "output_type": "stream",
     "text": [
      "LHS (0.0206688030317429 - 0.219807917358121j)\n",
      "RHS 0.0206688030317432 - 0.21980791735812*I\n",
      "ERROR (SMAPE) 2.86201272643802e-15\n"
     ]
    },
    {
     "data": {
      "text/latex": [
       "$\\displaystyle \\operatorname{pwp}{\\left(\\frac{2 {\\psi}_{n,m}}{5},g_{2},g_{3} \\right)} = X$"
      ],
      "text/plain": [
       "Eq(pwp(2*psi[n, m]/5, g2, g3), X)"
      ]
     },
     "execution_count": 168,
     "metadata": {},
     "output_type": "execute_result"
    }
   ],
   "source": [
    "init_condition_check_nums_1 = [\n",
    "     (g2, g2val_), (g3, g3val_), (omega1, omega1_), (omega2, omega2_), (omega3, omega3_), \n",
    "     (X, X_val_), (Y, Y_val_), (psi[n,m], psi_nm_val_)\n",
    "]\n",
    "num_evaluate_weierstrass(Eq(pw_y_XY.lhs + 1e-16, pw_y_XY.rhs).subs(y,2*psi[n,m]/5), init_condition_check_nums_1)\n",
    "num_evaluate_weierstrass(pwp_y_XY_choice.subs(y,2*psi[n,m]/5), init_condition_check_nums_1)"
   ]
  },
  {
   "cell_type": "code",
   "execution_count": 171,
   "id": "ef86c8e3",
   "metadata": {},
   "outputs": [],
   "source": [
    "# Setup z array to evaluate over based on multiple periods (multiples of 2*omega1)\n",
    "show_n_periods = 0.5\n",
    "z_end = abs(show_n_periods * 2 * omega1_)\n",
    "n_points_z = 200\n",
    "z_eval = linspace(0, z_end, n_points_z)\n",
    "z0val_ = (random() - 0.5) + (random() - 0.5)*1j\n",
    "\n",
    "# initial conditions (initial values)\n",
    "U_V_0 = [\n",
    "    mpc_to_float_np(np_vectorize(\n",
    "        kron_weierstrass_sigma(z0val_, psi_nm_val_, omegas, conj=False)\n",
    "    )(0)),\n",
    "    mpc_to_float_np(np_vectorize(\n",
    "        kron_weierstrass_sigma(z0val_, psi_nm_val_, omegas, conj=True)\n",
    "    )(0))\n",
    "] \n",
    "# print(abs(U_V_0[0])**2, abs(U_V_0[1])**2)\n",
    "\n",
    "# Calculate values for intermediate constants in terms of initial conditions\n",
    "U_V_init_subs = [(U(z), U_V_0[0]), (V(z), U_V_0[1])]\n",
    "U_V_0_init_subs = [(x[0].subs(z,0), x[1]) for x in U_V_init_subs]"
   ]
  },
  {
   "cell_type": "code",
   "execution_count": 172,
   "id": "a4820990",
   "metadata": {
    "scrolled": false
   },
   "outputs": [
    {
     "name": "stdout",
     "output_type": "stream",
     "text": [
      "LHS 0.128373414209599 - 0.0783011569433774*I\n",
      "RHS 0.128373414209598 - 0.0783011569433814*I\n",
      "ERROR (SMAPE) 2.66320077430423e-14\n"
     ]
    },
    {
     "data": {
      "text/latex": [
       "$\\displaystyle - \\frac{X^{3}}{Y^{2}} = - \\frac{\\left(\\frac{X^{3}}{Y^{3}} + 2 X\\right) \\sigma{\\left(z - z_{0} - \\frac{2 {\\psi}_{n,m}}{5},g_{2},g_{3} \\right)} \\sigma{\\left(z - z_{0} + \\frac{2 {\\psi}_{n,m}}{5},g_{2},g_{3} \\right)}}{\\sigma^{2}{\\left(z - z_{0},g_{2},g_{3} \\right)} \\sigma^{2}{\\left(\\frac{2 {\\psi}_{n,m}}{5},g_{2},g_{3} \\right)}} + \\frac{\\sigma^{5}{\\left(z - z_{0} - \\frac{2 {\\psi}_{n,m}}{5},g_{2},g_{3} \\right)} e^{2 m z \\operatorname{zw}{\\left(\\omega_{2},g_{2},g_{3} \\right)}} e^{- 2 m z_{0} \\operatorname{zw}{\\left(\\omega_{2},g_{2},g_{3} \\right)}} e^{2 n z \\operatorname{zw}{\\left(\\omega_{1},g_{2},g_{3} \\right)}} e^{- 2 n z_{0} \\operatorname{zw}{\\left(\\omega_{1},g_{2},g_{3} \\right)}}}{\\sigma^{5}{\\left(z - z_{0},g_{2},g_{3} \\right)} \\sigma^{5}{\\left(\\frac{2 {\\psi}_{n,m}}{5},g_{2},g_{3} \\right)}} + \\frac{\\sigma^{5}{\\left(z - z_{0} + \\frac{2 {\\psi}_{n,m}}{5},g_{2},g_{3} \\right)} e^{- 2 m z \\operatorname{zw}{\\left(\\omega_{2},g_{2},g_{3} \\right)}} e^{2 m z_{0} \\operatorname{zw}{\\left(\\omega_{2},g_{2},g_{3} \\right)}} e^{- 2 n z \\operatorname{zw}{\\left(\\omega_{1},g_{2},g_{3} \\right)}} e^{2 n z_{0} \\operatorname{zw}{\\left(\\omega_{1},g_{2},g_{3} \\right)}}}{\\sigma^{5}{\\left(z - z_{0},g_{2},g_{3} \\right)} \\sigma^{5}{\\left(\\frac{2 {\\psi}_{n,m}}{5},g_{2},g_{3} \\right)}} + \\frac{\\left(3 X^{2} + Y^{3}\\right) \\sigma^{2}{\\left(z - z_{0} - \\frac{2 {\\psi}_{n,m}}{5},g_{2},g_{3} \\right)} \\sigma^{2}{\\left(z - z_{0} + \\frac{2 {\\psi}_{n,m}}{5},g_{2},g_{3} \\right)}}{X Y \\sigma^{4}{\\left(z - z_{0},g_{2},g_{3} \\right)} \\sigma^{4}{\\left(\\frac{2 {\\psi}_{n,m}}{5},g_{2},g_{3} \\right)}}$"
      ],
      "text/plain": [
       "Eq(-X**3/Y**2, -(X**3/Y**3 + 2*X)*sigma(z - z0 - 2*psi[n, m]/5, g2, g3)*sigma(z - z0 + 2*psi[n, m]/5, g2, g3)/(sigma(z - z0, g2, g3)**2*sigma(2*psi[n, m]/5, g2, g3)**2) + sigma(z - z0 - 2*psi[n, m]/5, g2, g3)**5*exp(2*m*z*zw(omega2, g2, g3))*exp(-2*m*z0*zw(omega2, g2, g3))*exp(2*n*z*zw(omega1, g2, g3))*exp(-2*n*z0*zw(omega1, g2, g3))/(sigma(z - z0, g2, g3)**5*sigma(2*psi[n, m]/5, g2, g3)**5) + sigma(z - z0 + 2*psi[n, m]/5, g2, g3)**5*exp(-2*m*z*zw(omega2, g2, g3))*exp(2*m*z0*zw(omega2, g2, g3))*exp(-2*n*z*zw(omega1, g2, g3))*exp(2*n*z0*zw(omega1, g2, g3))/(sigma(z - z0, g2, g3)**5*sigma(2*psi[n, m]/5, g2, g3)**5) + (3*X**2 + Y**3)*sigma(z - z0 - 2*psi[n, m]/5, g2, g3)**2*sigma(z - z0 + 2*psi[n, m]/5, g2, g3)**2/(X*Y*sigma(z - z0, g2, g3)**4*sigma(2*psi[n, m]/5, g2, g3)**4))"
      ]
     },
     "execution_count": 172,
     "metadata": {},
     "output_type": "execute_result"
    },
    {
     "name": "stdout",
     "output_type": "stream",
     "text": [
      "LHS (0.0206688030317429 - 0.219807917358121j)\n",
      "RHS 0.0206688030317432 - 0.21980791735812*I\n",
      "ERROR (SMAPE) 2.86201272643802e-15\n"
     ]
    },
    {
     "data": {
      "text/latex": [
       "$\\displaystyle \\operatorname{pwp}{\\left(\\frac{2 {\\psi}_{n,m}}{5},g_{2},g_{3} \\right)} = X$"
      ],
      "text/plain": [
       "Eq(pwp(2*psi[n, m]/5, g2, g3), X)"
      ]
     },
     "execution_count": 172,
     "metadata": {},
     "output_type": "execute_result"
    },
    {
     "name": "stdout",
     "output_type": "stream",
     "text": [
      "LHS -0.249326031260922 + 0.0969665485281472*I\n",
      "RHS -0.249326031260924 + 0.096966548528147*I\n",
      "ERROR (SMAPE) 7.79868083142153e-15\n"
     ]
    },
    {
     "data": {
      "text/latex": [
       "$\\displaystyle \\operatorname{pw}{\\left(\\frac{2 {\\psi}_{n,m}}{5},g_{2},g_{3} \\right)} - \\operatorname{pw}{\\left(\\frac{4 {\\psi}_{n,m}}{5},g_{2},g_{3} \\right)} = Y$"
      ],
      "text/plain": [
       "Eq(pw(2*psi[n, m]/5, g2, g3) - pw(4*psi[n, m]/5, g2, g3), Y)"
      ]
     },
     "execution_count": 172,
     "metadata": {},
     "output_type": "execute_result"
    },
    {
     "name": "stdout",
     "output_type": "stream",
     "text": [
      "LHS (1.14218077157468e-16 - 6.76093949303691e-16j)\n",
      "RHS 0\n",
      "ERROR (SMAPE) 2.0\n"
     ]
    },
    {
     "data": {
      "text/latex": [
       "$\\displaystyle \\operatorname{pwp}{\\left(\\omega_{1},g_{2},g_{3} \\right)} = 0$"
      ],
      "text/plain": [
       "Eq(pwp(omega1, g2, g3), 0)"
      ]
     },
     "execution_count": 172,
     "metadata": {},
     "output_type": "execute_result"
    },
    {
     "name": "stdout",
     "output_type": "stream",
     "text": [
      "LHS -0.15774717107303 + 0.011720197449624*I\n",
      "RHS -0.15774717107303 + 0.011720197449625*I\n",
      "ERROR (SMAPE) 6.04261462522165e-15\n"
     ]
    },
    {
     "data": {
      "text/latex": [
       "$\\displaystyle \\operatorname{pw}{\\left(\\frac{2 {\\psi}_{n,m}}{5},g_{2},g_{3} \\right)} + 1.0 \\cdot 10^{-16} = \\frac{X^{2}}{12 Y^{2}} + \\frac{Y}{2} + 1.0 \\cdot 10^{-16} + \\frac{Y^{4}}{12 X^{2}}$"
      ],
      "text/plain": [
       "Eq(pw(2*psi[n, m]/5, g2, g3) + 1.0e-16, X**2/(12*Y**2) + Y/2 + 1.0e-16 + Y**4/(12*X**2))"
      ]
     },
     "execution_count": 172,
     "metadata": {},
     "output_type": "execute_result"
    }
   ],
   "source": [
    "XY_ham_num = (UV_ham_XY_poly\n",
    "    .subs([\n",
    "        Uz_sol_ellip_eta_psi_z0_ham_l1_jk0.args, \n",
    "        Vz_sol_ellip_eta_psi_z0_ham_l1_jk0.args\n",
    "    ])\n",
    "    .subs([\n",
    "        (eta1, zw(omega1,g2,g3)),\n",
    "        # I historically use omega2 in numerics but in the analysis I referred to omega3\n",
    "        # The 3 is matched to 2 as a temprary hack\n",
    "        (eta3, zw(omega2,g2,g3)) \n",
    "    ])\n",
    ")\n",
    "# XY_ham_num\n",
    "\n",
    "init_condition_check_nums_2 = [\n",
    "     (g2, g2val_), (g3, g3val_), (omega1, omega1_), (omega2, omega2_), (omega3, omega3_), \n",
    "     (X, X_val_), (Y, Y_val_), (psi[n,m], psi_nm_val_), \n",
    "    (z, 1.734), (z0, z0val_), (n, n_omega1_val_), (m, m_omega2_val_)\n",
    "]\n",
    "num_evaluate_weierstrass(XY_ham_num, init_condition_check_nums_2)\n",
    "num_evaluate_weierstrass(pwp_X_5, init_condition_check_nums_2)\n",
    "num_evaluate_weierstrass(pw_X_245, init_condition_check_nums_2)\n",
    "num_evaluate_weierstrass(Eq(pwp(omega1,g2,g3),0), init_condition_check_nums_2)\n",
    "num_evaluate_weierstrass(Eq(pw(2*psi[n,m]/5, g2, g3)+1e-16,Wzc_no_sqrd_sub.rhs.subs(W(z),0)+1e-16), \n",
    "                         init_condition_check_nums_2)"
   ]
  },
  {
   "cell_type": "code",
   "execution_count": 190,
   "id": "6f41c3ee",
   "metadata": {},
   "outputs": [],
   "source": [
    "# abs(dU_ellip_b.rhs.subs(z,0).subs(U_V_0_init_subs).subs(X_Y_val_subs).evalf())"
   ]
  },
  {
   "cell_type": "markdown",
   "id": "6a934d5d",
   "metadata": {},
   "source": [
    "#### Numeric Solutions with scipy"
   ]
  },
  {
   "cell_type": "code",
   "execution_count": 175,
   "id": "6cfe7164",
   "metadata": {},
   "outputs": [],
   "source": [
    "# Define differential equation\n",
    "U_p = dU_ellip_b.rhs.subs(X_Y_val_subs)\n",
    "V_p = dV_ellip_b.rhs.subs(X_Y_val_subs)\n",
    "U_V_dot = [U_p, V_p] # complex valued functions\n",
    "_U_symb = Symbol('_U_symb')\n",
    "_V_symb = Symbol('_V_symb')\n",
    "U_V_dot_symb = [eq.subs([(U(z), _U_symb), (V(z), _V_symb)]) for eq in U_V_dot]\n",
    "f_ = lambdify((z, (_U_symb,_V_symb)), U_V_dot_symb)\n",
    "U_V_init_numeric_only = [x[1] for x in U_V_init_subs]\n",
    "\n",
    "# Call SciPy's ODE initial value problem solver solve_ivp by passing it\n",
    "#   the function f_,\n",
    "#   the interval of integration,\n",
    "#   the initial state, and\n",
    "#   the arguments to pass to the function f (if any)\n",
    "solution = scipy.integrate.solve_ivp(f_, (0, z_end), U_V_init_numeric_only, t_eval=z_eval)\n",
    "\n",
    "# complex valued numeric vector solution\n",
    "A_sol_scipy = solution.y"
   ]
  },
  {
   "cell_type": "markdown",
   "id": "be056f30",
   "metadata": {},
   "source": [
    "#### Analytic solution"
   ]
  },
  {
   "cell_type": "code",
   "execution_count": 176,
   "id": "85bf4463",
   "metadata": {},
   "outputs": [],
   "source": [
    "# Complex valued analytic vector solution (numeric evaluation)\n",
    "kron_sol_mpmath = arraynp([\n",
    "    mpc_to_float_np(np_vectorize(\n",
    "        kron_weierstrass_sigma(z0val_, psi_nm_val_, omegas, conj=False)\n",
    "    )(z_eval)),\n",
    "    mpc_to_float_np(np_vectorize(\n",
    "        kron_weierstrass_sigma(z0val_, psi_nm_val_, omegas, conj=True)\n",
    "    )(z_eval))\n",
    "])"
   ]
  },
  {
   "cell_type": "code",
   "execution_count": 179,
   "id": "35bd67ed",
   "metadata": {},
   "outputs": [
    {
     "name": "stdout",
     "output_type": "stream",
     "text": [
      "True\n",
      "(4.866539975491936+3.420117261566352j) (-6.9608683055840785-2.0182307860151565j)\n",
      "[array(4.86653998+3.42011726j), array(-6.96086831-2.01823079j)]\n"
     ]
    }
   ],
   "source": [
    "print(abs(kron_sol_mpmath[0][0]*kron_sol_mpmath[1][0]) - abs(A_sol_scipy[0][0]*A_sol_scipy[1][0]) == 0)\n",
    "print(kron_sol_mpmath[0][0], kron_sol_mpmath[1][0])\n",
    "print(U_V_0)"
   ]
  },
  {
   "cell_type": "code",
   "execution_count": 154,
   "id": "df6ae623",
   "metadata": {
    "scrolled": false
   },
   "outputs": [
    {
     "data": {
      "text/plain": [
       "[<matplotlib.lines.Line2D at 0x16152f2d0>,\n",
       " <matplotlib.lines.Line2D at 0x1618ca810>]"
      ]
     },
     "execution_count": 154,
     "metadata": {},
     "output_type": "execute_result"
    },
    {
     "data": {
      "text/plain": [
       "<matplotlib.legend.Legend at 0x160facc90>"
      ]
     },
     "execution_count": 154,
     "metadata": {},
     "output_type": "execute_result"
    },
    {
     "data": {
      "text/plain": [
       "Text(0, 0.5, 'Absolute Value')"
      ]
     },
     "execution_count": 154,
     "metadata": {},
     "output_type": "execute_result"
    },
    {
     "data": {
      "text/plain": [
       "Text(0.5, 0, 'z')"
      ]
     },
     "execution_count": 154,
     "metadata": {},
     "output_type": "execute_result"
    },
    {
     "data": {
      "image/png": "[encoded data removed]",
      "text/plain": [
       "<Figure size 1600x600 with 1 Axes>"
      ]
     },
     "metadata": {},
     "output_type": "display_data"
    },
    {
     "data": {
      "text/plain": [
       "[<matplotlib.lines.Line2D at 0x163bcfe10>]"
      ]
     },
     "execution_count": 154,
     "metadata": {},
     "output_type": "execute_result"
    },
    {
     "data": {
      "text/plain": [
       "<matplotlib.legend.Legend at 0x163bcb690>"
      ]
     },
     "execution_count": 154,
     "metadata": {},
     "output_type": "execute_result"
    },
    {
     "data": {
      "text/plain": [
       "Text(0, 0.5, 'Absolute Value')"
      ]
     },
     "execution_count": 154,
     "metadata": {},
     "output_type": "execute_result"
    },
    {
     "data": {
      "text/plain": [
       "Text(0.5, 0, 'z')"
      ]
     },
     "execution_count": 154,
     "metadata": {},
     "output_type": "execute_result"
    },
    {
     "data": {
      "image/png": "[encoded data removed]",
      "text/plain": [
       "<Figure size 1600x600 with 1 Axes>"
      ]
     },
     "metadata": {},
     "output_type": "display_data"
    }
   ],
   "source": [
    "fig = plt.figure(figsize=(16, 6))\n",
    "# plt.plot(z_eval, absolute(u_v_sol_mpmath.T)**2, linestyle=\"solid\", linewidth=4) \n",
    "__y_vals__ = absolute(A_sol_scipy.T)**2\n",
    "plt.plot(z_eval[0: len(__y_vals__)], __y_vals__, linestyle=\"dashed\", linewidth=4) \n",
    "plt.legend(['abs(U)**2 scipy', 'abs(V)**2 scipy'], shadow=True) \n",
    "plt.ylabel('Absolute Value')\n",
    "plt.xlabel('z')\n",
    "plt.show()\n",
    "\n",
    "fig = plt.figure(figsize=(16, 6))\n",
    "# plt.plot(z_eval, absolute(u_v_sol_mpmath.T)**2, linestyle=\"solid\", linewidth=4) \n",
    "plt.plot(z_eval[0: len(__y_vals__)], abs(A_sol_scipy[0] * A_sol_scipy[1])**2, linestyle=\"dashed\", linewidth=4) \n",
    "plt.legend(['abs(UV)**2 scipy'], shadow=True) \n",
    "plt.ylabel('Absolute Value')\n",
    "plt.xlabel('z')\n",
    "plt.show()"
   ]
  },
  {
   "cell_type": "code",
   "execution_count": 155,
   "id": "905ab1df",
   "metadata": {},
   "outputs": [
    {
     "data": {
      "text/plain": [
       "[<matplotlib.lines.Line2D at 0x163c86910>,\n",
       " <matplotlib.lines.Line2D at 0x163c86c50>]"
      ]
     },
     "execution_count": 155,
     "metadata": {},
     "output_type": "execute_result"
    },
    {
     "data": {
      "text/plain": [
       "<matplotlib.legend.Legend at 0x163c3b690>"
      ]
     },
     "execution_count": 155,
     "metadata": {},
     "output_type": "execute_result"
    },
    {
     "data": {
      "text/plain": [
       "Text(0, 0.5, 'Absolute Value')"
      ]
     },
     "execution_count": 155,
     "metadata": {},
     "output_type": "execute_result"
    },
    {
     "data": {
      "text/plain": [
       "Text(0.5, 0, 'z')"
      ]
     },
     "execution_count": 155,
     "metadata": {},
     "output_type": "execute_result"
    },
    {
     "data": {
      "text/plain": [
       "[<matplotlib.lines.Line2D at 0x163c92f90>]"
      ]
     },
     "execution_count": 155,
     "metadata": {},
     "output_type": "execute_result"
    },
    {
     "data": {
      "text/plain": [
       "<matplotlib.legend.Legend at 0x163c84310>"
      ]
     },
     "execution_count": 155,
     "metadata": {},
     "output_type": "execute_result"
    },
    {
     "data": {
      "text/plain": [
       "Text(0, 0.5, 'Absolute Value')"
      ]
     },
     "execution_count": 155,
     "metadata": {},
     "output_type": "execute_result"
    },
    {
     "data": {
      "text/plain": [
       "Text(0.5, 0, 'z')"
      ]
     },
     "execution_count": 155,
     "metadata": {},
     "output_type": "execute_result"
    },
    {
     "data": {
      "image/png": "[encoded data removed]",
      "text/plain": [
       "<Figure size 1600x600 with 1 Axes>"
      ]
     },
     "metadata": {},
     "output_type": "display_data"
    },
    {
     "data": {
      "image/png": "[encoded data removed]",
      "text/plain": [
       "<Figure size 1600x600 with 1 Axes>"
      ]
     },
     "metadata": {},
     "output_type": "display_data"
    }
   ],
   "source": [
    "fig = plt.figure(figsize=(16, 6))\n",
    "plt.plot(z_eval, square(absolute(kron_sol_mpmath.T)), linestyle=\"solid\", linewidth=4)  \n",
    "plt.legend(['abs(U)**2', 'abs(V)**2'], shadow=True) \n",
    "plt.ylabel('Absolute Value')\n",
    "plt.xlabel('z')\n",
    "\n",
    "fig = plt.figure(figsize=(16, 6))\n",
    "plt.plot(z_eval, absolute(kron_sol_mpmath[0]*kron_sol_mpmath[1]), linestyle=\"solid\", linewidth=4)  \n",
    "plt.legend(['abs(UV)**2'], shadow=True) \n",
    "plt.ylabel('Absolute Value')\n",
    "plt.xlabel('z')"
   ]
  },
  {
   "cell_type": "markdown",
   "id": "1e75b5e8",
   "metadata": {},
   "source": [
    "## System 2: Pseudo-Hyperelliptic Hamiltonian\n",
    "\n",
    "In this section we do not renormalise the Hamiltonian to obtain elliptic function solutions as we did in System 1. Instead we use the following polynomial in $U,V$ as the Hamiltonian and we end up with a differential equation for $U(z)V(z)$ that, were it not for the repeated root, would suggest it is hyperelliptic (genus 2). Because of the repeated root I'm refering to this as pseudo-hyperelliptic for now. It may even be the case that because of the repeated root this differential equation is pseudo-elliptic. It may in fact be related to [Carlson's $R_J$ elliptic integral](https://dlmf.nist.gov/19.16) in a similar way that [$\\wp$ is related to $R_F$](https://dlmf.nist.gov/19.25)."
   ]
  },
  {
   "cell_type": "code",
   "execution_count": null,
   "id": "9dbc256a",
   "metadata": {},
   "outputs": [],
   "source": [
    "\n",
    "UV_ham_XY_poly_b = Eq(-UV_ham_XY_poly.lhs - X**3/Y**2 + U(z)**5 + V(z)**5, \n",
    "                      -UV_ham_XY_poly.rhs - X**3/Y**2 + U(z)**5 + V(z)**5)\n",
    "dUgen2 = Eq(diff(U(z),z), diff(UV_ham_XY_poly.rhs, V(z)))\n",
    "dVgen2 = Eq(diff(V(z),z), -diff(UV_ham_XY_poly.rhs, U(z)))\n",
    "dUVgen2 = Eq(Derivative(U(z)*V(z),z), diff(U(z)*V(z),z).doit().subs([dUgen2.args, dVgen2.args]).expand())\n",
    "dUVgen2_sqrd = Eq(dUVgen2.lhs**2, dUVgen2.rhs**2 )\n",
    "dUVgen2_sqrd_b = Eq(dUVgen2_sqrd.lhs, \n",
    "                    (dUVgen2_sqrd.rhs - (5*UV_ham_XY_poly_b.lhs)**2 + (5*UV_ham_XY_poly_b.rhs)**2)\n",
    "                    .expand().collect(U(z)*V(z), factor)\n",
    "                   )\n",
    "dUVgen2_sqrd_c = Eq(dUVgen2_sqrd_b.lhs, \n",
    "                    (dUVgen2_sqrd_b.rhs.factor()/(-X**2 +Y**2*U(z)*V(z))**2)\n",
    "                    .collect(U(z)*V(z), factor)\n",
    "                    *(-X**2 +Y**2*U(z)*V(z))**2\n",
    "                   )\n",
    "dW_UV_XY_hyp = Eq(U(z)*V(z), W(z))\n",
    "dW_sqrd_hyp = dUVgen2_sqrd_c.subs(U(z),solve(dW_UV_XY_hyp,U(z))[0]).doit()\n",
    "dW_sqrd_hyp = Eq(dW_sqrd_hyp.lhs,\n",
    "                 (dW_sqrd_hyp.rhs/(W(z)*Y**2-X**2)**2).expand().collect(W(z),factor) * (W(z)*Y**2-X**2)**2\n",
    "                )\n",
    "\n",
    "ln_dUgen2 = Eq(dUgen2.lhs/U(z), dUgen2.rhs/U(z)).expand().subs(*dW_UV_XY_hyp.args)\n",
    "\n",
    "UV_ham_XY_poly_c = Eq((5*UV_ham_XY_poly_b.lhs/(U(z)*V(z))).expand(), \n",
    "                      (5*UV_ham_XY_poly_b.rhs/(U(z)*V(z))).subs(*dW_UV_XY_hyp.args).expand().collect(W(z), factor)\n",
    "                     )\n",
    "\n",
    "ln_dUVgen2 = Eq((dUVgen2.rhs/(U(z)*V(z))).expand(), (dUVgen2.lhs/(U(z)*V(z))).subs(*dW_UV_XY_hyp.args))\n",
    "\n",
    "V4_U = Eq((UV_ham_XY_poly_c.lhs + ln_dUVgen2.lhs)/2, (UV_ham_XY_poly_c.rhs + ln_dUVgen2.rhs)/2)\n",
    "ln_dUgen2_W = Eq(ln_dUgen2.lhs, ln_dUgen2.rhs.subs(*V4_U.args).expand().collect(W(z), factor))\n",
    "\n",
    "\n",
    "UV_ham_XY_poly\n",
    "UV_ham_XY_poly_b\n",
    "dUgen2\n",
    "dVgen2\n",
    "dUVgen2\n",
    "dUVgen2_sqrd\n",
    "dUVgen2_sqrd_b\n",
    "dUVgen2_sqrd_c\n",
    "dW_UV_XY_hyp\n",
    "dW_sqrd_hyp\n",
    "\n",
    "# ln_dUgen2\n",
    "# UV_ham_XY_poly_c\n",
    "# ln_dUVgen2\n",
    "# V4_U\n",
    "ln_dUgen2_W"
   ]
  },
  {
   "cell_type": "markdown",
   "id": "3ab03b29",
   "metadata": {},
   "source": [
    "As well as observing the repeated root, it is noteworthy that that the other cubic part takes the identical form as the cubic in the Weierstrass P differential equation."
   ]
  },
  {
   "cell_type": "code",
   "execution_count": null,
   "id": "d7c8afb4",
   "metadata": {},
   "outputs": [],
   "source": [
    "dW_sqrd_hyp_b = Eq(Derivative(W(z), z)**2,\n",
    " (-X**2/Y**2 + W(z))**2*\n",
    "   25*((25*X**2/Y**4 - 100*W(z)**3/Y**4 - 50*(X**2 + Y**3)*W(z)/Y**5 + \n",
    "    25*(X**4 + 6*X**2*Y**3 + Y**6)*W(z)**2/(X**2*Y**6))*(Y**4)/25).expand().collect(W(z)))\n",
    "\n",
    "W_f_XY_sub = Eq(W(z), f(z) + X**2/(12*Y**2) + Y/2 + Y**4/(12*X**2))\n",
    "dW_sqrd_hyp_c = dW_sqrd_hyp_b.subs(*W_f_XY_sub.args).doit()\n",
    "\n",
    "dW_sqrd_hyp_c = Eq(Derivative(f(z), z)**2,\n",
    " (X**2 + (-2*X**2/Y - 2*Y**2)*(X**2/(12*Y**2) + Y/2 + f(z) + Y**4/(12*X**2)) + \n",
    "     (X**2/Y**2 + 6*Y + Y**4/X**2)*(X**2/(12*Y**2) + Y/2 + f(z) + Y**4/(12*X**2))**2 - \n",
    "     4*(X**2/(12*Y**2) + Y/2 + f(z) + Y**4/(12*X**2))**3).expand().collect(f(z))\n",
    "                   *(-11*X**2/(12*Y**2) + Y/2 + f(z) + Y**4/(12*X**2)).expand()**2*25\n",
    "                  )\n",
    "f_g2_g3_subs = [(-g2XY.rhs, -g2XY.lhs), (-g3XY.rhs, -g3XY.lhs), pwx_2_4_XY_b.args]\n",
    "df_hyp = dW_sqrd_hyp_c.subs(f_g2_g3_subs)\n",
    "pwx = Eq(\n",
    "    pw(2*omega1/5, g2, g3) - pwp(2*omega1/5, g2, g3)**2/(pw(2*omega1/5, g2, g3) - pw(4*omega1/5, g2, g3))**2, \n",
    "   pw(x,g2,g3)\n",
    ")\n",
    "df_hyp_b = df_hyp.subs(*pwx.args)\n",
    "\n",
    "dW_sqrd_hyp_b\n",
    "W_f_XY_sub\n",
    "dW_sqrd_hyp_c\n",
    "df_hyp\n",
    "pwx\n",
    "df_hyp_b"
   ]
  },
  {
   "cell_type": "markdown",
   "id": "22cf603d",
   "metadata": {},
   "source": [
    "By setting $f$ to be a function of some other function that meets a certain criteria, then by the chain rule it can be shown that there is a connection between $f$ and the Weierstrass P function. The other function is the inverse of the Kronecker theta phase."
   ]
  },
  {
   "cell_type": "code",
   "execution_count": null,
   "id": "9732b00a",
   "metadata": {},
   "outputs": [],
   "source": [
    "fh_rho_sub = Eq(f(z),-h(rho(z)))\n",
    "\n",
    "dh_rhoz = df_hyp.subs(*pwx.args).subs(*fh_rho_sub.args).doit()\n",
    "d_rhoz_h = Eq(diff(rho(z),z), 5*(h(rho(z)) - pw(x,g2,g3)))\n",
    "dh_rhoz_b = dh_rhoz.subs(*d_rhoz_h.args)\n",
    "dh_rhoz_c = Eq(\n",
    "    dh_rhoz_b.lhs/(dh_rhoz_b.lhs.subs(diff(h(rho(z)),rho(z)),1)), \n",
    "    dh_rhoz_b.rhs/(dh_rhoz_b.lhs.subs(diff(h(rho(z)),rho(z)),1))\n",
    ").subs(rho(z), t).simplify()\n",
    "h_pw = Eq(h(t), pw(t-t0,g2,g3))\n",
    "fp_rho_sub = Eq(f(z),-pw(rho(z)-t0,g2,g3))\n",
    "\n",
    "integral_rhoz_t = Eq(Integral(1/(pw(t-t0,g2,g3) - pw(x,g2,g3)),(t,rho(z),c)), z + C)\n",
    "integral_rhoz_t_b = Eq(Integral(pwp(x,g2,g3)/(-pw(y,g2,g3) + pw(x,g2,g3)),(y,rho(z) - t0, c - t0)), \n",
    "                     -pwp(x,g2,g3)*z  - pwp(x,g2,g3)*C)\n",
    "integral_rhoz_t_c = Eq(Integral(\n",
    "    (pwp(x,g2,g3)/(-pw(y,g2,g3) + pw(x,g2,g3))).subs(*pwp_x_y_log_sigma_diff_c.args),(y,rho(z) - t0,c - t0)), \n",
    "                     -pwp(x,g2,g3)*z + -pwp(x,g2,g3)*C)\n",
    "integral_rhoz_t_d = Eq(\n",
    "    (log(sigma(x + y, g2, g3)*exp(-2*y*zw(x, g2, g3))/sigma(-x + y, g2, g3))).subs(y, -t0 + rho(z))\n",
    "    -(log(sigma(x + y, g2, g3)*exp(-2*y*zw(x, g2, g3))/sigma(-x + y, g2, g3))).subs(y, -t0 + c),\n",
    "    C*pwp(x, g2, g3) + z*pwp(x, g2, g3)\n",
    ")\n",
    "mu_const = Eq(mu,\n",
    "    (log(sigma(x + y, g2, g3)*exp(-2*y*zw(x, g2, g3))/sigma(-x + y, g2, g3))).subs(y, -t0 + c) + C*pwp(x, g2, g3)\n",
    ")\n",
    "rho_r = Eq(rho(z), r(z) + t0)\n",
    "integral_r = Eq(\n",
    "    (log(sigma(x + y, g2, g3)*exp(-2*y*zw(x, g2, g3))/sigma(-x + y, g2, g3)))\n",
    "    .subs(y, -t0 + rho(z)).subs(*rho_r.args),\n",
    "    mu\n",
    "    + z*pwp(x, g2, g3)\n",
    ")\n",
    "\n",
    "fr_sub = fp_rho_sub.subs(*rho_r.args)\n",
    "integral_rhoz_t_d = integral_rhoz_t_d\n",
    "d_rz_h = d_rhoz_h.subs(*h_pw.subs(t,rho(z)).args).subs(*rho_r.args).doit()\n",
    "\n",
    "fh_rho_sub\n",
    "dh_rhoz\n",
    "d_rhoz_h\n",
    "dh_rhoz_c\n",
    "h_pw\n",
    "fp_rho_sub\n",
    "\n",
    "integral_rhoz_t\n",
    "integral_rhoz_t_b\n",
    "pwp_x_y_log_sigma_diff_c\n",
    "integral_rhoz_t_c\n",
    "integral_rhoz_t_d\n",
    "rho_r\n",
    "mu_const\n",
    "\n",
    "fr_sub\n",
    "integral_r\n",
    "d_rz_h"
   ]
  },
  {
   "cell_type": "code",
   "execution_count": null,
   "id": "0196b830",
   "metadata": {},
   "outputs": [],
   "source": [
    "# https://dlmf.nist.gov/19.16\n",
    "RJ = Function('RJ')\n",
    "Rj_carlson = Eq(RJ(x,y,z,p), Rational(3,2)*Integral(1/(t+p)/sqrt((t+x)*(t+y)*(t+z)),(t,0,oo)))\n",
    "Rj_carlson_b = Eq(RJ(x,y,z,p), Rational(3,2)*Integral(\n",
    "    1/(t+p - epsilon)/sqrt((t+x - epsilon)*(t+y - epsilon)*(t+z - epsilon)),(t,epsilon,oo)))\n",
    "Rj_carlson_c = (Rj_carlson_b\n",
    "                .subs([(x,x+epsilon),(y,y+epsilon),(z,z+epsilon),(p,p+epsilon)])\n",
    "                .subs([(x,mu[1]),(y,mu[2]),(z,mu[3])])\n",
    "                .subs([(epsilon,r(z))])\n",
    "               )\n",
    "Rj_carlson_c_z = Eq(Rj_carlson_c.lhs, z + c)\n",
    "Rj_carlson_d_z = Rj_carlson_c.subs(*Rj_carlson_c_z.args)\n",
    "Rj_carlson_d_z_diff = Eq(diff(Rj_carlson_d_z.lhs,z), diff(Rj_carlson_d_z.rhs,z))\n",
    "Rj_carlson_d_z_diff_b = Eq(diff(r(z),z)**2, \n",
    "                           solve(Eq(Rj_carlson_d_z_diff.lhs**2, Rj_carlson_d_z_diff.rhs**2),\n",
    "                                 diff(r(z),z)**2)[0].factor()\n",
    "                          )\n",
    "rz_chi_sub = Eq(r(z),h(chi(z)))\n",
    "chi_r = Rj_carlson_d_z_diff_b.subs(*rz_chi_sub.args).doit()\n",
    "drz_chi_sub = Eq(diff(chi(z),z), (h(chi(z))+p)/3)\n",
    "h_chi_z = Eq(h(t), pw(t,g2,g3))\n",
    "mu_omega1 = Eq(mu[1], -pw(omega1,g2,g3))\n",
    "mu_omega2 = Eq(mu[2], -pw(omega2,g2,g3))\n",
    "mu_omega3 = Eq(mu[3], -pw(omega3,g2,g3))\n",
    "p_pw_x = Eq(p, -pw(x,g2,g3))\n",
    "zZ3 = Eq(z, Z*3)\n",
    "dh_chi_sub_Z = Eq(Derivative(chi(Z*3),Z), (pw(chi(Z*3),g2,g3) - pw(x,g2,g3)))\n",
    "\n",
    "carlson_chi_inv = Rj_carlson_c_z.subs([\n",
    "    (r(z),pw(chi(z),g2,g3)), mu_omega1.args, mu_omega2.args, mu_omega3.args, p_pw_x.args])\n",
    "\n",
    "dphi_Z5 = Eq(Derivative(phi(Z/5), z), -pw(x, g2, g3) + pw(phi(Z/5), g2, g3))\n",
    "\n",
    "chi_phi = Eq(chi(3*Z), phi(Z/5)).subs(Z,z/3)\n",
    "\n",
    "Rj_carlson\n",
    "Rj_carlson_b\n",
    "Rj_carlson_c\n",
    "Rj_carlson_c_z\n",
    "Rj_carlson_d_z\n",
    "Rj_carlson_d_z_diff\n",
    "Rj_carlson_d_z_diff_b\n",
    "rz_chi_sub\n",
    "chi_r\n",
    "drz_chi_sub\n",
    "h_chi_z\n",
    "mu_omega1\n",
    "mu_omega2\n",
    "mu_omega3\n",
    "p_pw_x\n",
    "carlson_chi_inv\n",
    "\n",
    "dh_chi_sub_Z\n",
    "dphi_Z5\n",
    "chi_phi"
   ]
  },
  {
   "cell_type": "markdown",
   "id": "0f77000e",
   "metadata": {},
   "source": [
    "### Rescaling the second system"
   ]
  },
  {
   "cell_type": "code",
   "execution_count": null,
   "id": "14176c89",
   "metadata": {},
   "outputs": [],
   "source": [
    "delta_alpha_beta = Eq(5*beta/2/alpha, delta)\n",
    "uv__delta_ham = Eq(uv_ham_beta_over_alpha.lhs - 5*beta/2/alpha, \n",
    "   (uv_ham_beta_over_alpha.rhs - 5*beta/2/alpha).subs(beta,solve(delta_alpha_beta,beta)[0]).collect(delta,factor)\n",
    "  )\n",
    "uv__delta_ham_b = Eq(uv__delta_ham.lhs - 3 + u(z)**5 + v(z)**5, uv__delta_ham.rhs - 3 + u(z)**5 + v(z)**5)\n",
    "\n",
    "delta_alpha_beta\n",
    "uv__delta_ham\n",
    "uv__delta_ham_b"
   ]
  },
  {
   "cell_type": "code",
   "execution_count": null,
   "id": "36499d69",
   "metadata": {},
   "outputs": [],
   "source": [
    "du_delta = Eq(diff(u(z),z), diff(uv__delta_ham.rhs, v(z)))\n",
    "dv_delta = Eq(diff(v(z),z), -diff(uv__delta_ham.rhs, u(z)))\n",
    "\n",
    "du_delta\n",
    "dv_delta"
   ]
  },
  {
   "cell_type": "code",
   "execution_count": null,
   "id": "dd4c31e6",
   "metadata": {},
   "outputs": [],
   "source": [
    "(5*uv__delta_ham.lhs - 5*uv__delta_ham.rhs).expand()"
   ]
  },
  {
   "cell_type": "code",
   "execution_count": null,
   "id": "371498df",
   "metadata": {},
   "outputs": [],
   "source": [
    "Eq(Derivative(ln(u(z)/v(z)),z,z), \n",
    "   diff(diff(ln(u(z)/v(z)),z).doit().subs([du_delta.args, dv_delta.args]).simplify(),z)\n",
    "   .doit().subs([du_delta.args, dv_delta.args]).factor()\n",
    "  )"
   ]
  },
  {
   "cell_type": "code",
   "execution_count": null,
   "id": "0f98f76d",
   "metadata": {},
   "outputs": [],
   "source": [
    "duv_delta = Eq(Derivative(u(z)*v(z),z), diff(u(z)*v(z),z).subs([du_delta.args, dv_delta.args]).simplify())\n",
    "duv_delta_sqrd = Eq(duv_delta.lhs**2, \n",
    "                    (duv_delta.rhs**2).expand() -\n",
    "                    ((5*uv__delta_ham_b.lhs)**2).expand() + (5*uv__delta_ham_b.rhs)**2\n",
    "                   )\n",
    "\n",
    "\n",
    "duv_delta\n",
    "duv_delta_sqrd"
   ]
  },
  {
   "cell_type": "code",
   "execution_count": null,
   "id": "e9c1b93e",
   "metadata": {},
   "outputs": [],
   "source": [
    "duv_delta_sqrd.subs(u(z),(W(z))/v(z)).rhs.expand().factor()"
   ]
  },
  {
   "cell_type": "code",
   "execution_count": null,
   "id": "0b519412",
   "metadata": {},
   "outputs": [],
   "source": [
    "dW_delta = duv_delta_sqrd.subs(u(z),(W(z))/v(z))\n",
    "dW_delta"
   ]
  },
  {
   "cell_type": "code",
   "execution_count": null,
   "id": "262bfd9b",
   "metadata": {},
   "outputs": [],
   "source": [
    "v4_duv = Eq(0, \n",
    "   duv_delta.lhs/u(z)/v(z)/2 -\n",
    "   ((duv_delta.rhs - 5* uv__delta_ham_b.lhs + 5*uv__delta_ham_b.rhs)/u(z)/v(z)/2)\n",
    "   .expand().collect([delta,v(z)**4], factor)\n",
    "  )\n",
    "v4_duv"
   ]
  },
  {
   "cell_type": "code",
   "execution_count": null,
   "id": "ac633b13",
   "metadata": {},
   "outputs": [],
   "source": [
    "Eq(du_delta.lhs/u(z) + v4_duv.lhs, \n",
    "   apart(\n",
    "       ((du_delta.rhs/u(z)).expand().collect([v(z)**4,delta], factor) + v4_duv.rhs)\n",
    "       .subs(v(z),W(z)/u(z)).subs(diff(W(z),z),Y),\n",
    "       W(z)\n",
    "  ).subs(Y,diff(W(z),z))\n",
    ")"
   ]
  },
  {
   "cell_type": "markdown",
   "id": "c9aa9f50",
   "metadata": {},
   "source": [
    "## On the connection between System 1 and System 2\n",
    "\n",
    "The two different Hamiltonian systems can be related through a substitution that changes the argument of the function into a function of some other variable. In what folows, $U(z),V(z)$ are the modes in System 1 and are known to be Kronecker theta functions, and $u(z),v(z)$ are the unknown modes in System 2."
   ]
  },
  {
   "cell_type": "code",
   "execution_count": null,
   "id": "4176f38f",
   "metadata": {},
   "outputs": [],
   "source": [
    "du_pseudo_hyp = dUgen2.subs([(U(z),u(z)), (V(z),v(z))])\n",
    "dv_pseudo_hyp = dVgen2.subs([(U(z),u(z)), (V(z),v(z))])\n",
    "\n",
    "Uuq = Eq(U(z),u(q(z)))\n",
    "Vvq = Eq(V(z),v(q(z)))\n",
    "dq_uq_vq = Eq(diff(q(z),z), -Y**2/(-X**2+Y**2*u(q(z))*v(q(z)))/5)\n",
    "dUu_qz = (dU_ellip_b\n",
    " .subs([Uuq.args, Vvq.args]).doit()\n",
    " .subs(*dq_uq_vq.args)\n",
    " .subs([(q(z),y)]).subs(y,z)\n",
    ")\n",
    "dUu_qz_numer, dUu_qz_denom = fraction(dUu_qz.lhs)\n",
    "dUu_qz = Eq((-dUu_qz.lhs*dUu_qz_denom/Y**2).simplify(), \n",
    "            (-dUu_qz.rhs*dUu_qz_denom/Y**2).simplify().expand().collect([u(z),v(z)], factor))\n",
    "dVv_qz= (dV_ellip_b\n",
    " .subs([Uuq.args, Vvq.args]).doit()\n",
    " .subs(*dq_uq_vq.args)\n",
    " .subs([(q(z),y)]).subs(y,z)\n",
    ")\n",
    "dVv_qz_numer, dVv_qz_denom = fraction(dVv_qz.lhs)\n",
    "dVv_qz = Eq((-dVv_qz.lhs*dVv_qz_denom/Y**2).simplify(), \n",
    "            (-dVv_qz.rhs*dVv_qz_denom/Y**2).simplify().expand().collect([u(z),v(z)], factor))\n",
    "\n",
    "Uuq\n",
    "Vvq\n",
    "dq_uq_vq\n",
    "\n",
    "dUu_qz\n",
    "dVv_qz\n",
    "\n",
    "du_pseudo_hyp\n",
    "du_pseudo_hyp\n",
    "dU_ellip_b\n",
    "dV_ellip_b\n",
    "\n",
    "(dUu_qz.lhs - du_pseudo_hyp.lhs).simplify() == 0\n",
    "(dUu_qz.rhs - du_pseudo_hyp.rhs).simplify() == 0\n",
    "(dVv_qz.lhs - dv_pseudo_hyp.lhs).simplify() == 0\n",
    "(dVv_qz.rhs - dv_pseudo_hyp.rhs).simplify() == 0"
   ]
  },
  {
   "cell_type": "code",
   "execution_count": null,
   "id": "d2d4f75b",
   "metadata": {},
   "outputs": [],
   "source": [
    "dq_uq_vq_b = (dq_uq_vq\n",
    " .subs([(Uuq.rhs, Uuq.lhs), (Vvq.rhs, Vvq.lhs)])\n",
    " .subs(*W_UV_ellptic_b.args)\n",
    " .subs(*pw_y_XY.args).expand()\n",
    ")\n",
    "XY_pwx = pwx.subs([\n",
    "    pw_y_XY.subs(*y_ham.args).args,\n",
    "    pwp_y_XY_choice.subs(*y_ham.args).args,\n",
    "    pw2y_XY.subs(*y_ham.args).args,\n",
    "    pwp2y_XY.subs(*y_ham.args).args,\n",
    "    pw4y_XY.subs(*y_ham.args).args,\n",
    "    pwp4y_XY.subs(*y_ham.args).args,\n",
    "])\n",
    "\n",
    "dq__n_, dq__d_ = fraction(dq_uq_vq_b.rhs)\n",
    "dq_uq_vq_c = Eq(dq_uq_vq_b.lhs, 1/(dq__d_/5/Y**2).expand().subs(*XY_pwx.args))\n",
    "qz_sol = Eq(q(z), integrate(pwp_x_y_log_sigma_diff_c.subs(y,z).rhs,z).subs(z,z-z0) + C)\n",
    "\n",
    "XY_pwx\n",
    "dq_uq_vq_b\n",
    "dq_uq_vq_c\n",
    "pwp_x_y_log_sigma_diff_c.subs(y,z)\n",
    "qz_sol"
   ]
  },
  {
   "cell_type": "code",
   "execution_count": null,
   "id": "4265c3cf",
   "metadata": {},
   "outputs": [],
   "source": []
  },
  {
   "cell_type": "code",
   "execution_count": null,
   "id": "21f802c6",
   "metadata": {},
   "outputs": [],
   "source": []
  },
  {
   "cell_type": "code",
   "execution_count": null,
   "id": "058e79fe",
   "metadata": {},
   "outputs": [],
   "source": []
  },
  {
   "cell_type": "code",
   "execution_count": null,
   "id": "4716105e",
   "metadata": {},
   "outputs": [],
   "source": []
  },
  {
   "cell_type": "code",
   "execution_count": null,
   "id": "868c879e",
   "metadata": {},
   "outputs": [],
   "source": []
  },
  {
   "cell_type": "code",
   "execution_count": null,
   "id": "22945c07",
   "metadata": {},
   "outputs": [],
   "source": []
  },
  {
   "cell_type": "code",
   "execution_count": null,
   "id": "0c8527d7",
   "metadata": {},
   "outputs": [],
   "source": []
  },
  {
   "cell_type": "code",
   "execution_count": null,
   "id": "57da3f76",
   "metadata": {},
   "outputs": [],
   "source": []
  }
 ],
 "metadata": {
  "kernelspec": {
   "display_name": "Python 3 (ipykernel)",
   "language": "python",
   "name": "python3"
  },
  "language_info": {
   "codemirror_mode": {
    "name": "ipython",
    "version": 3
   },
   "file_extension": ".py",
   "mimetype": "text/x-python",
   "name": "python",
   "nbconvert_exporter": "python",
   "pygments_lexer": "ipython3",
   "version": "3.11.10"
  }
 },
 "nbformat": 4,
 "nbformat_minor": 5
}
