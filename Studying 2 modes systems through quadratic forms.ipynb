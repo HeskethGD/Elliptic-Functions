{
 "cells": [
  {
   "cell_type": "markdown",
   "id": "aa0ee2ea-0d59-4e2b-ad36-e423f9d85aa1",
   "metadata": {},
   "source": [
    "# Studying 2 modes systems through quadratic forms\n",
    "\n",
    "Interesting paper https://arxiv.org/pdf/2206.03728.pdf\n"
   ]
  },
  {
   "cell_type": "code",
   "execution_count": 1,
   "id": "162133c1-526a-45b5-923f-d844bd45b62b",
   "metadata": {},
   "outputs": [],
   "source": [
    "from sympy import *\n",
    "(x, y, X, Y, Z, B, C, n, m, l, j, q, N, M, K, k, epsilon, z, s, p1, p2, p3, g2, g3, a0, a1, a2, a3, b0, b1, b2, b3, c0, c1, c2, c3,\n",
    " z0, e1, e2, e3, Delta, s0, s1, s2, s3, r0, r1, r2, r3,\n",
    " omega1, omega2, omega3, eta1, eta2, eta3, d1, d2, d3) = symbols(\n",
    "    '''x, y, X, Y, Z, B, C, n, m, l, j, q, N, M, K, k, epsilon, z, s, p1, p2, p3, g2, g3, a0, a1, a2, a3, b0, b1, b2, b3, c0, c1, c2, c3,\n",
    "    z0, e1, e2, e3, Delta, s0, s1, s2, s3, r0, r1, r2, r3,\n",
    "    omega1, omega2, omega3, eta1, eta2, eta3, d1, d2, d3'''\n",
    ")\n",
    "alpha, delta, t, nu, epsilon, theta = symbols('alpha, delta, t, nu, epsilon, theta')\n",
    "pw = Function('pw') # Weierstrass P function\n",
    "pwp = Function('pwp') # Derivative of Weierstrass P function\n",
    "zw = Function('zw') # Weierstrass Zeta function\n",
    "sigma = Function('sigma') # Weierstrass Sigma function\n",
    "rho = Function('rho')\n",
    "f = Function('f')\n",
    "h = Function('h')\n",
    "s = Function('s')\n",
    "u = Function('u')\n",
    "v = Function('v')\n",
    "P = Function('P') # Polynomial\n",
    "Q = Function('Q') # Polynomial\n",
    "phi = Function('phi')\n",
    "Phi = Function('Phi')\n",
    "phi1 = Function('phi1')\n",
    "phi2 = Function('phi2')\n",
    "phi3 = Function('phi3')\n",
    "A = Function('A')\n",
    "Ac = Function('Ac')\n",
    "A1 = Function('A1')\n",
    "A2 = Function('A2')\n",
    "A3 = Function('A3')\n",
    "Ac1 = Function('Ac1')\n",
    "Ac2 = Function('Ac2')\n",
    "Ac3 = Function('Ac3')\n",
    "A4 = Function('A4')\n",
    "A5 = Function('A5')\n",
    "A6 = Function('A6')\n",
    "A7 = Function('A7')\n",
    "A8 = Function('A8')\n",
    "Kk = Function('Kk')\n",
    "Det = Function(\"Det\")\n",
    "\n",
    "kappa = IndexedBase('kappa')\n",
    "beta = IndexedBase('beta')\n",
    "mu = IndexedBase('mu')\n",
    "xi = IndexedBase('xi')\n",
    "# a = IndexedBase('a')\n",
    "# b = IndexedBase('b')\n",
    "# c = IndexedBase('c')\n",
    "d = IndexedBase('d')\n",
    "p = IndexedBase('p')\n",
    "G = IndexedBase('G')\n",
    "r = IndexedBase('r')\n",
    "w = IndexedBase('w')\n",
    "psi = IndexedBase('psi')\n",
    "upsilon = IndexedBase('upsilon')\n",
    "WPdet = Function('WPdet')\n",
    "\n",
    "Omega = IndexedBase('Omega')\n",
    "T = Function('T')\n",
    "V = Function('V')\n",
    "Dz = Function('Dz') # Derivate w.r.t z\n",
    "L = Function('L')\n",
    "U = Function(\"U\")\n",
    "Qa = Function(\"Qa\")\n",
    "Qb = Function(\"Qb\")\n",
    "Qc = Function(\"Qc\")\n",
    "from math import prod\n",
    "\n",
    "from IPython.core.interactiveshell import InteractiveShell\n",
    "InteractiveShell.ast_node_interactivity = 'all'"
   ]
  },
  {
   "cell_type": "markdown",
   "id": "20da5a5f-2353-4f3d-8829-848b0d23b51c",
   "metadata": {},
   "source": [
    "## 2 mode nonlinear coupled ordinary differential equations and associated pairs of quadratic forms\n",
    "\n",
    "This work is interested in studying differential equations involving quadratic forms $\\mathrm{Qa}, \\mathrm{Qb}$ of the form:"
   ]
  },
  {
   "cell_type": "code",
   "execution_count": 2,
   "id": "1d6bf11c-850c-45c3-b6ac-598792916003",
   "metadata": {},
   "outputs": [
    {
     "data": {
      "text/latex": [
       "$\\displaystyle \\frac{d}{d z} u{\\left(z \\right)} = \\operatorname{Qa}{\\left(u{\\left(z \\right)},v{\\left(z \\right)} \\right)} + u{\\left(z \\right)}$"
      ],
      "text/plain": [
       "Eq(Derivative(u(z), z), Qa(u(z), v(z)) + u(z))"
      ]
     },
     "execution_count": 2,
     "metadata": {},
     "output_type": "execute_result"
    },
    {
     "data": {
      "text/latex": [
       "$\\displaystyle \\frac{d}{d z} v{\\left(z \\right)} = \\operatorname{Qb}{\\left(u{\\left(z \\right)},v{\\left(z \\right)} \\right)} - v{\\left(z \\right)}$"
      ],
      "text/plain": [
       "Eq(Derivative(v(z), z), Qb(u(z), v(z)) - v(z))"
      ]
     },
     "execution_count": 2,
     "metadata": {},
     "output_type": "execute_result"
    }
   ],
   "source": [
    "du_Qa = Eq(diff(u(z),z), u(z) + Qa(u(z),v(z)))\n",
    "dv_Qb = Eq(diff(v(z),z), -v(z) + Qb(u(z),v(z)))\n",
    "du_Qa\n",
    "dv_Qb"
   ]
  },
  {
   "cell_type": "markdown",
   "id": "24476246-a3c2-4430-844a-81c355a32a92",
   "metadata": {},
   "source": [
    "The quadratic forms are associated with two by two matrices and a single quadratic form may be associated with multiple matrices but one of them is symmetric and this is unique. It is thus convenient to study these equations using the symmetric matrices associated with the quadratic form to reduce the free parameters. Two by two matrices can be expressed in terms of the Pauli spin matrices, and symmetric two by two matrices do not need anti-symmetric matrices in their basis. Thus:"
   ]
  },
  {
   "cell_type": "code",
   "execution_count": 3,
   "id": "a93c8174-cf75-4494-8d80-29ad38745370",
   "metadata": {},
   "outputs": [],
   "source": [
    "sigma0 = Matrix([[1,0], [0, 1]])\n",
    "sigma1 = Matrix([[0,1], [1, 0]])\n",
    "sigma2 = Matrix([[0,-I], [I, 0]])\n",
    "sigma3 = Matrix([[1,0], [0, -1]])\n",
    "uv_vec = Matrix([u(z),v(z)])"
   ]
  },
  {
   "cell_type": "code",
   "execution_count": 4,
   "id": "5a1117d0-7503-4870-aa39-45536119c61c",
   "metadata": {},
   "outputs": [
    {
     "data": {
      "text/latex": [
       "$\\displaystyle \\left[\\begin{matrix}a_{0} + a_{3} & a_{1}\\\\a_{1} & a_{0} - a_{3}\\end{matrix}\\right]$"
      ],
      "text/plain": [
       "Matrix([\n",
       "[a0 + a3,      a1],\n",
       "[     a1, a0 - a3]])"
      ]
     },
     "execution_count": 4,
     "metadata": {},
     "output_type": "execute_result"
    },
    {
     "data": {
      "text/latex": [
       "$\\displaystyle \\left[\\begin{matrix}b_{0} + b_{3} & b_{1}\\\\b_{1} & b_{0} - b_{3}\\end{matrix}\\right]$"
      ],
      "text/plain": [
       "Matrix([\n",
       "[b0 + b3,      b1],\n",
       "[     b1, b0 - b3]])"
      ]
     },
     "execution_count": 4,
     "metadata": {},
     "output_type": "execute_result"
    }
   ],
   "source": [
    "A = a0*sigma0 + a1*sigma1 + a3*sigma3\n",
    "B = b0*sigma0 + b1*sigma1 + b3*sigma3\n",
    "A\n",
    "B"
   ]
  },
  {
   "cell_type": "code",
   "execution_count": 5,
   "id": "b6b96ece-4a4f-4be9-8c13-1158de84c252",
   "metadata": {},
   "outputs": [
    {
     "data": {
      "text/latex": [
       "$\\displaystyle \\operatorname{Qa}{\\left(u{\\left(z \\right)},v{\\left(z \\right)} \\right)} = 2 a_{1} u{\\left(z \\right)} v{\\left(z \\right)} + \\left(a_{0} - a_{3}\\right) v^{2}{\\left(z \\right)} + \\left(a_{0} + a_{3}\\right) u^{2}{\\left(z \\right)}$"
      ],
      "text/plain": [
       "Eq(Qa(u(z), v(z)), 2*a1*u(z)*v(z) + (a0 - a3)*v(z)**2 + (a0 + a3)*u(z)**2)"
      ]
     },
     "execution_count": 5,
     "metadata": {},
     "output_type": "execute_result"
    },
    {
     "data": {
      "text/latex": [
       "$\\displaystyle \\operatorname{Qb}{\\left(u{\\left(z \\right)},v{\\left(z \\right)} \\right)} = 2 b_{1} u{\\left(z \\right)} v{\\left(z \\right)} + \\left(b_{0} - b_{3}\\right) v^{2}{\\left(z \\right)} + \\left(b_{0} + b_{3}\\right) u^{2}{\\left(z \\right)}$"
      ],
      "text/plain": [
       "Eq(Qb(u(z), v(z)), 2*b1*u(z)*v(z) + (b0 - b3)*v(z)**2 + (b0 + b3)*u(z)**2)"
      ]
     },
     "execution_count": 5,
     "metadata": {},
     "output_type": "execute_result"
    }
   ],
   "source": [
    "Qa_eq = Eq(Qa(u(z),v(z)), (uv_vec.T * A * uv_vec)[0].expand().collect([u(z),v(z),u(z)*v(z)]))\n",
    "Qb_eq = Eq(Qb(u(z),v(z)), (uv_vec.T * B * uv_vec)[0].expand().collect([u(z),v(z),u(z)*v(z)]))\n",
    "Q_subs = [Qa_eq.args, Qb_eq.args]\n",
    "Qa_eq\n",
    "Qb_eq"
   ]
  },
  {
   "cell_type": "code",
   "execution_count": 6,
   "id": "fbe9ca7b-9b36-483a-a7ec-288c43961b84",
   "metadata": {},
   "outputs": [
    {
     "data": {
      "text/latex": [
       "$\\displaystyle \\frac{d}{d z} u{\\left(z \\right)} = 2 a_{1} u{\\left(z \\right)} v{\\left(z \\right)} + \\left(a_{0} - a_{3}\\right) v^{2}{\\left(z \\right)} + \\left(a_{0} + a_{3}\\right) u^{2}{\\left(z \\right)} + u{\\left(z \\right)}$"
      ],
      "text/plain": [
       "Eq(Derivative(u(z), z), 2*a1*u(z)*v(z) + (a0 - a3)*v(z)**2 + (a0 + a3)*u(z)**2 + u(z))"
      ]
     },
     "execution_count": 6,
     "metadata": {},
     "output_type": "execute_result"
    },
    {
     "data": {
      "text/latex": [
       "$\\displaystyle \\frac{d}{d z} v{\\left(z \\right)} = 2 b_{1} u{\\left(z \\right)} v{\\left(z \\right)} + \\left(b_{0} - b_{3}\\right) v^{2}{\\left(z \\right)} + \\left(b_{0} + b_{3}\\right) u^{2}{\\left(z \\right)} - v{\\left(z \\right)}$"
      ],
      "text/plain": [
       "Eq(Derivative(v(z), z), 2*b1*u(z)*v(z) + (b0 - b3)*v(z)**2 + (b0 + b3)*u(z)**2 - v(z))"
      ]
     },
     "execution_count": 6,
     "metadata": {},
     "output_type": "execute_result"
    }
   ],
   "source": [
    "du_a = du_Qa.subs(Q_subs)\n",
    "dv_b = dv_Qb.subs(Q_subs)\n",
    "du_a\n",
    "dv_b"
   ]
  },
  {
   "cell_type": "markdown",
   "id": "f76469d0-d309-49ae-948e-1830975e4623",
   "metadata": {},
   "source": [
    "### Exploring conserved quantities\n",
    "\n",
    "Inspired by known conservation laws in such systems, the following section explores under what conditions there exists a cubic polynomial $\\mathrm{Kk}{(u(z),v(z))}$ that is conserved"
   ]
  },
  {
   "cell_type": "code",
   "execution_count": 7,
   "id": "40c45051-0168-4bb9-b2af-35cd3e6efb92",
   "metadata": {},
   "outputs": [
    {
     "data": {
      "text/latex": [
       "$\\displaystyle \\operatorname{Kk}{\\left(u{\\left(z \\right)},v{\\left(z \\right)} \\right)} = \\left({r}_{0,1} + {r}_{1,0}\\right) u{\\left(z \\right)} v{\\left(z \\right)} + \\left({r}_{0,2} + {r}_{2,0}\\right) u{\\left(z \\right)} + \\left({r}_{1,2} + {r}_{2,1}\\right) v{\\left(z \\right)} + u^{3}{\\left(z \\right)} {w}_{0} + u^{2}{\\left(z \\right)} v{\\left(z \\right)} {w}_{3} + u^{2}{\\left(z \\right)} {r}_{0,0} + u{\\left(z \\right)} v^{2}{\\left(z \\right)} {w}_{2} + v^{3}{\\left(z \\right)} {w}_{1} + v^{2}{\\left(z \\right)} {r}_{1,1} + \\log{\\left(u{\\left(z \\right)} v{\\left(z \\right)} \\right)} \\beta + {r}_{2,2}$"
      ],
      "text/plain": [
       "Eq(Kk(u(z), v(z)), (r[0, 1] + r[1, 0])*u(z)*v(z) + (r[0, 2] + r[2, 0])*u(z) + (r[1, 2] + r[2, 1])*v(z) + u(z)**3*w[0] + u(z)**2*v(z)*w[3] + u(z)**2*r[0, 0] + u(z)*v(z)**2*w[2] + v(z)**3*w[1] + v(z)**2*r[1, 1] + log(u(z)*v(z))*beta + r[2, 2])"
      ]
     },
     "execution_count": 7,
     "metadata": {},
     "output_type": "execute_result"
    }
   ],
   "source": [
    "R = Matrix([\n",
    "    [r[0,0], r[0,1], r[0,2]],\n",
    "    [r[1,0], r[1,1], r[1,2]],\n",
    "    [r[2,0], r[2,1], r[2,2]]\n",
    "])\n",
    "Wuv = w[0]*u(z)**3 + w[1]*v(z)**3 + w[2]*u(z)*v(z)**2 + w[3]*v(z)*u(z)**2\n",
    "uv3vec = Matrix([u(z), v(z), 1])\n",
    "Ruv = (uv3vec.T*R*uv3vec)[0].expand().collect([u(z),v(z),u(z)*v(z)])\n",
    "Luv = beta*ln(u(z)*v(z))\n",
    "Kuv = Ruv + Wuv + Luv\n",
    "Kuv_eq = Eq(Kk(u(z),v(z)), Kuv)\n",
    "Kuv_eq"
   ]
  },
  {
   "cell_type": "code",
   "execution_count": 8,
   "id": "9dc7b7c7-def4-4337-9577-5dad2c41922d",
   "metadata": {},
   "outputs": [
    {
     "name": "stdout",
     "output_type": "stream",
     "text": [
      "True\n"
     ]
    },
    {
     "data": {
      "text/latex": [
       "$\\displaystyle \\frac{d}{d z} \\operatorname{Kk}{\\left(u{\\left(z \\right)},v{\\left(z \\right)} \\right)} = \\frac{\\left(a_{0} - a_{3}\\right) v^{2}{\\left(z \\right)} \\beta}{u{\\left(z \\right)}} + \\frac{\\left(b_{0} + b_{3}\\right) u^{2}{\\left(z \\right)} \\beta}{v{\\left(z \\right)}} + \\left(3 a_{0} {w}_{0} + 3 a_{3} {w}_{0} + b_{0} {w}_{3} + b_{3} {w}_{3}\\right) u^{4}{\\left(z \\right)} + \\left(a_{0} {w}_{2} - a_{3} {w}_{2} + 3 b_{0} {w}_{1} - 3 b_{3} {w}_{1}\\right) v^{4}{\\left(z \\right)} + 2 \\left(a_{1} {r}_{0,2} + a_{1} {r}_{2,0} + b_{1} {r}_{1,2} + b_{1} {r}_{2,1}\\right) u{\\left(z \\right)} v{\\left(z \\right)} + \\left(a_{0} \\beta + a_{3} \\beta + 2 b_{1} \\beta + {r}_{0,2} + {r}_{2,0}\\right) u{\\left(z \\right)} + \\left(2 a_{1} \\beta + b_{0} \\beta - b_{3} \\beta - {r}_{1,2} - {r}_{2,1}\\right) v{\\left(z \\right)} + 2 \\left(a_{0} {w}_{3} + 3 a_{1} {w}_{0} + a_{3} {w}_{3} + b_{0} {w}_{2} + b_{1} {w}_{3} + b_{3} {w}_{2}\\right) u^{3}{\\left(z \\right)} v{\\left(z \\right)} + 2 \\left(a_{0} {w}_{3} + a_{1} {w}_{2} - a_{3} {w}_{3} + b_{0} {w}_{2} + 3 b_{1} {w}_{1} - b_{3} {w}_{2}\\right) u{\\left(z \\right)} v^{3}{\\left(z \\right)} + \\left(2 a_{0} {r}_{0,0} + 2 a_{3} {r}_{0,0} + b_{0} {r}_{0,1} + b_{0} {r}_{1,0} + b_{3} {r}_{0,1} + b_{3} {r}_{1,0} + 3 {w}_{0}\\right) u^{3}{\\left(z \\right)} + \\left(a_{0} {r}_{0,1} + a_{0} {r}_{1,0} - a_{3} {r}_{0,1} - a_{3} {r}_{1,0} + 2 b_{0} {r}_{1,1} - 2 b_{3} {r}_{1,1} - 3 {w}_{1}\\right) v^{3}{\\left(z \\right)} + \\left(a_{0} {r}_{0,2} + a_{0} {r}_{2,0} - a_{3} {r}_{0,2} - a_{3} {r}_{2,0} + b_{0} {r}_{1,2} + b_{0} {r}_{2,1} - b_{3} {r}_{1,2} - b_{3} {r}_{2,1} - 2 {r}_{1,1}\\right) v^{2}{\\left(z \\right)} + \\left(a_{0} {r}_{0,2} + a_{0} {r}_{2,0} + a_{3} {r}_{0,2} + a_{3} {r}_{2,0} + b_{0} {r}_{1,2} + b_{0} {r}_{2,1} + b_{3} {r}_{1,2} + b_{3} {r}_{2,1} + 2 {r}_{0,0}\\right) u^{2}{\\left(z \\right)} + \\left(2 a_{0} {r}_{0,0} + 2 a_{1} {r}_{0,1} + 2 a_{1} {r}_{1,0} - 2 a_{3} {r}_{0,0} + b_{0} {r}_{0,1} + b_{0} {r}_{1,0} + 4 b_{1} {r}_{1,1} - b_{3} {r}_{0,1} - b_{3} {r}_{1,0} - {w}_{2}\\right) u{\\left(z \\right)} v^{2}{\\left(z \\right)} + \\left(a_{0} {r}_{0,1} + a_{0} {r}_{1,0} + 4 a_{1} {r}_{0,0} + a_{3} {r}_{0,1} + a_{3} {r}_{1,0} + 2 b_{0} {r}_{1,1} + 2 b_{1} {r}_{0,1} + 2 b_{1} {r}_{1,0} + 2 b_{3} {r}_{1,1} + {w}_{3}\\right) u^{2}{\\left(z \\right)} v{\\left(z \\right)} + \\left(3 a_{0} {w}_{0} + a_{0} {w}_{2} + 4 a_{1} {w}_{3} - 3 a_{3} {w}_{0} + a_{3} {w}_{2} + 3 b_{0} {w}_{1} + b_{0} {w}_{3} + 4 b_{1} {w}_{2} + 3 b_{3} {w}_{1} - b_{3} {w}_{3}\\right) u^{2}{\\left(z \\right)} v^{2}{\\left(z \\right)}$"
      ],
      "text/plain": [
       "Eq(Derivative(Kk(u(z), v(z)), z), (a0 - a3)*v(z)**2*beta/u(z) + (b0 + b3)*u(z)**2*beta/v(z) + (3*a0*w[0] + 3*a3*w[0] + b0*w[3] + b3*w[3])*u(z)**4 + (a0*w[2] - a3*w[2] + 3*b0*w[1] - 3*b3*w[1])*v(z)**4 + 2*(a1*r[0, 2] + a1*r[2, 0] + b1*r[1, 2] + b1*r[2, 1])*u(z)*v(z) + (a0*beta + a3*beta + 2*b1*beta + r[0, 2] + r[2, 0])*u(z) + (2*a1*beta + b0*beta - b3*beta - r[1, 2] - r[2, 1])*v(z) + 2*(a0*w[3] + 3*a1*w[0] + a3*w[3] + b0*w[2] + b1*w[3] + b3*w[2])*u(z)**3*v(z) + 2*(a0*w[3] + a1*w[2] - a3*w[3] + b0*w[2] + 3*b1*w[1] - b3*w[2])*u(z)*v(z)**3 + (2*a0*r[0, 0] + 2*a3*r[0, 0] + b0*r[0, 1] + b0*r[1, 0] + b3*r[0, 1] + b3*r[1, 0] + 3*w[0])*u(z)**3 + (a0*r[0, 1] + a0*r[1, 0] - a3*r[0, 1] - a3*r[1, 0] + 2*b0*r[1, 1] - 2*b3*r[1, 1] - 3*w[1])*v(z)**3 + (a0*r[0, 2] + a0*r[2, 0] - a3*r[0, 2] - a3*r[2, 0] + b0*r[1, 2] + b0*r[2, 1] - b3*r[1, 2] - b3*r[2, 1] - 2*r[1, 1])*v(z)**2 + (a0*r[0, 2] + a0*r[2, 0] + a3*r[0, 2] + a3*r[2, 0] + b0*r[1, 2] + b0*r[2, 1] + b3*r[1, 2] + b3*r[2, 1] + 2*r[0, 0])*u(z)**2 + (2*a0*r[0, 0] + 2*a1*r[0, 1] + 2*a1*r[1, 0] - 2*a3*r[0, 0] + b0*r[0, 1] + b0*r[1, 0] + 4*b1*r[1, 1] - b3*r[0, 1] - b3*r[1, 0] - w[2])*u(z)*v(z)**2 + (a0*r[0, 1] + a0*r[1, 0] + 4*a1*r[0, 0] + a3*r[0, 1] + a3*r[1, 0] + 2*b0*r[1, 1] + 2*b1*r[0, 1] + 2*b1*r[1, 0] + 2*b3*r[1, 1] + w[3])*u(z)**2*v(z) + (3*a0*w[0] + a0*w[2] + 4*a1*w[3] - 3*a3*w[0] + a3*w[2] + 3*b0*w[1] + b0*w[3] + 4*b1*w[2] + 3*b3*w[1] - b3*w[3])*u(z)**2*v(z)**2)"
      ]
     },
     "execution_count": 8,
     "metadata": {},
     "output_type": "execute_result"
    }
   ],
   "source": [
    "uv_ratio_terms = [u(z)**2/v(z), v(z)**2/u(z)]\n",
    "uv4_terms = [u(z)**4,v(z)**4, u(z)*v(z)**3, v(z)*u(z)**3, v(z)**2*u(z)**2]\n",
    "uv3_terms = [u(z)**3,v(z)**3, u(z)*v(z)**2, v(z)*u(z)**2]\n",
    "uv2_terms = [u(z)*v(z), u(z)**2, v(z)**2]\n",
    "uv1_terms = [u(z), v(z)]\n",
    "\n",
    "\n",
    "dKuv_expanded = diff(Kuv_eq.rhs,z).subs([du_a.args, dv_b.args]).expand()\n",
    "dKuv_collected_ratio = [term * dKuv_expanded.coeff(term).factor() for term in uv_ratio_terms]\n",
    "dKuv_collected_4 = [term * dKuv_expanded.subs([(t,0) for t in uv_ratio_terms]).coeff(term).factor() for term in uv4_terms]\n",
    "dKuv_collected_3 = [term * dKuv_expanded.subs([(t,0) for t in (uv4_terms + uv_ratio_terms)]).coeff(term).factor() for term in uv3_terms]\n",
    "dKuv_collected_2 = [term * dKuv_expanded.subs([(t,0) for t in (uv4_terms+uv3_terms+uv_ratio_terms)]).coeff(term).factor() for term in uv2_terms]\n",
    "dKuv_collected_1 = [term * dKuv_expanded.subs([(t,0) for t in (uv4_terms+uv3_terms+uv2_terms+uv_ratio_terms)]).coeff(term).factor() \n",
    "                    for term in uv1_terms]\n",
    "dKuv_collected_0 = [dKuv_expanded.subs([(t,0) for t in uv_ratio_terms]).subs([(u(z),0),(v(z),0)])]\n",
    "dKuv_collected = sum(dKuv_collected_ratio+dKuv_collected_4 + dKuv_collected_3 + dKuv_collected_2 + dKuv_collected_1 + dKuv_collected_0)\n",
    "print((dKuv_collected - dKuv_expanded).expand() == 0)\n",
    "dKuv_eq = Eq(Derivative(Kuv_eq.lhs,z), dKuv_collected)\n",
    "dKuv_eq"
   ]
  },
  {
   "cell_type": "markdown",
   "id": "415bb535-ded0-4a79-84eb-0143c90237e9",
   "metadata": {},
   "source": [
    "### No log terms case $\\beta=0$"
   ]
  },
  {
   "cell_type": "code",
   "execution_count": 9,
   "id": "859469cc-2478-42fc-9d08-b5189ec5cb18",
   "metadata": {},
   "outputs": [
    {
     "data": {
      "text/latex": [
       "$\\displaystyle 0$"
      ],
      "text/plain": [
       "0"
      ]
     },
     "execution_count": 9,
     "metadata": {},
     "output_type": "execute_result"
    }
   ],
   "source": [
    "beta_0_sub = [(beta,0)]\n",
    "r_sym_sub_a = [(r[2,0],r[0,2]), (r[2,1],r[1,2])]\n",
    "no_uv_sub = [(r[1,2], -r[0,2]*a1/b1)]\n",
    "rs_0 = [(r[0,2],0), (r[0,0],0), (r[1,1],0)]\n",
    "w3_w2_sub =[(w[3], 3*(-a0 - a3)*w[0]/(b0 + b3)), (w[2], 3*(-b0 + b3)*w[1]/(a0 - a3))]\n",
    "w1_w0_sub = [(w[1], (a0 - a3)*(r[0, 1] + r[1, 0])/3),(w[0], -(b0 + b3)*(r[0, 1] + r[1, 0])/3)]\n",
    "b1_b3_sub = [(b1, -a0-a3), (b3, a1+b0)]\n",
    "dKuv_cancelled = dKuv_eq.rhs.subs(beta_0_sub).subs(r_sym_sub_a).subs(no_uv_sub).subs(rs_0).subs(w3_w2_sub).subs(w1_w0_sub).subs(b1_b3_sub)\n",
    "dKuv_cancelled.simplify().expand()"
   ]
  },
  {
   "cell_type": "code",
   "execution_count": 10,
   "id": "274f39e7-6b16-4f6b-b5eb-9fbccd078f68",
   "metadata": {},
   "outputs": [
    {
     "data": {
      "text/latex": [
       "$\\displaystyle 2 a_{1} u{\\left(z \\right)} v^{2}{\\left(z \\right)} + \\frac{2 \\left(- 3 a_{0} - 3 a_{3}\\right) \\left(- a_{1} - 2 b_{0}\\right) u^{2}{\\left(z \\right)} v{\\left(z \\right)}}{3 \\left(a_{1} + 2 b_{0}\\right)} + \\frac{2 \\left(a_{0} - a_{3}\\right) v^{3}{\\left(z \\right)}}{3} + \\frac{2 \\left(- a_{1} - 2 b_{0}\\right) u^{3}{\\left(z \\right)}}{3}$"
      ],
      "text/plain": [
       "2*a1*u(z)*v(z)**2 + 2*(-3*a0 - 3*a3)*(-a1 - 2*b0)*u(z)**2*v(z)/(3*(a1 + 2*b0)) + 2*(a0 - a3)*v(z)**3/3 + 2*(-a1 - 2*b0)*u(z)**3/3"
      ]
     },
     "execution_count": 10,
     "metadata": {},
     "output_type": "execute_result"
    }
   ],
   "source": [
    "Wuv.subs(beta_0_sub).subs(w3_w2_sub).subs(w1_w0_sub).subs(b1_b3_sub).subs([(r[0,1],1), (r[1,0],1)])"
   ]
  },
  {
   "cell_type": "code",
   "execution_count": 11,
   "id": "f396884a-2a11-48c0-81ff-2824606ab6b0",
   "metadata": {},
   "outputs": [
    {
     "data": {
      "text/latex": [
       "$\\displaystyle \\operatorname{Kk}{\\left(u{\\left(z \\right)},v{\\left(z \\right)} \\right)} = a_{1} \\left({r}_{0,1} + {r}_{1,0}\\right) u{\\left(z \\right)} v^{2}{\\left(z \\right)} + \\frac{\\left(- 3 a_{0} - 3 a_{3}\\right) \\left(- a_{1} - 2 b_{0}\\right) \\left({r}_{0,1} + {r}_{1,0}\\right) u^{2}{\\left(z \\right)} v{\\left(z \\right)}}{3 \\left(a_{1} + 2 b_{0}\\right)} + \\frac{\\left(a_{0} - a_{3}\\right) \\left({r}_{0,1} + {r}_{1,0}\\right) v^{3}{\\left(z \\right)}}{3} + \\frac{\\left(- a_{1} - 2 b_{0}\\right) \\left({r}_{0,1} + {r}_{1,0}\\right) u^{3}{\\left(z \\right)}}{3} + \\left({r}_{0,1} + {r}_{1,0}\\right) u{\\left(z \\right)} v{\\left(z \\right)} + {r}_{2,2}$"
      ],
      "text/plain": [
       "Eq(Kk(u(z), v(z)), a1*(r[0, 1] + r[1, 0])*u(z)*v(z)**2 + (-3*a0 - 3*a3)*(-a1 - 2*b0)*(r[0, 1] + r[1, 0])*u(z)**2*v(z)/(3*(a1 + 2*b0)) + (a0 - a3)*(r[0, 1] + r[1, 0])*v(z)**3/3 + (-a1 - 2*b0)*(r[0, 1] + r[1, 0])*u(z)**3/3 + (r[0, 1] + r[1, 0])*u(z)*v(z) + r[2, 2])"
      ]
     },
     "execution_count": 11,
     "metadata": {},
     "output_type": "execute_result"
    }
   ],
   "source": [
    "Kuv_eq.subs(beta_0_sub).subs(r_sym_sub_a).subs(no_uv_sub).subs(rs_0).subs(w3_w2_sub).subs(w1_w0_sub).subs(b1_b3_sub)"
   ]
  },
  {
   "cell_type": "markdown",
   "id": "4661f218-e68b-4314-853d-c5fc7d902904",
   "metadata": {},
   "source": [
    "So the following case can be identified, if for $A$ given by:"
   ]
  },
  {
   "cell_type": "code",
   "execution_count": 12,
   "id": "8983fac8-da6e-488f-affe-652ebab91aa6",
   "metadata": {},
   "outputs": [
    {
     "data": {
      "text/latex": [
       "$\\displaystyle \\left[\\begin{matrix}a_{0} + a_{3} & a_{1}\\\\a_{1} & a_{0} - a_{3}\\end{matrix}\\right]$"
      ],
      "text/plain": [
       "Matrix([\n",
       "[a0 + a3,      a1],\n",
       "[     a1, a0 - a3]])"
      ]
     },
     "execution_count": 12,
     "metadata": {},
     "output_type": "execute_result"
    }
   ],
   "source": [
    "A"
   ]
  },
  {
   "cell_type": "markdown",
   "id": "55621743-683b-4c33-9b20-a6badd09aff1",
   "metadata": {},
   "source": [
    "the matrix $B$ can be written:"
   ]
  },
  {
   "cell_type": "code",
   "execution_count": 13,
   "id": "a6c905d6-f358-44aa-8135-f7252a7342d9",
   "metadata": {},
   "outputs": [
    {
     "data": {
      "text/latex": [
       "$\\displaystyle \\left[\\begin{matrix}a_{1} + 2 b_{0} & - a_{0} - a_{3}\\\\- a_{0} - a_{3} & - a_{1}\\end{matrix}\\right]$"
      ],
      "text/plain": [
       "Matrix([\n",
       "[a1 + 2*b0, -a0 - a3],\n",
       "[ -a0 - a3,      -a1]])"
      ]
     },
     "execution_count": 13,
     "metadata": {},
     "output_type": "execute_result"
    }
   ],
   "source": [
    "B.subs(b1_b3_sub)"
   ]
  },
  {
   "cell_type": "markdown",
   "id": "1f2a6741-fd46-40e1-aa2d-b4995b7173a7",
   "metadata": {},
   "source": [
    "Then the following quantity $K$ is a constant:"
   ]
  },
  {
   "cell_type": "code",
   "execution_count": 14,
   "id": "ab0e3c69-241a-42c4-8a88-f10796166fe8",
   "metadata": {},
   "outputs": [
    {
     "data": {
      "text/latex": [
       "$\\displaystyle K = a_{1} u{\\left(z \\right)} v^{2}{\\left(z \\right)} + \\frac{\\left(a_{0} - a_{3}\\right) v^{3}{\\left(z \\right)}}{3} + \\left(a_{0} + a_{3}\\right) u^{2}{\\left(z \\right)} v{\\left(z \\right)} - \\frac{\\left(a_{1} + 2 b_{0}\\right) u^{3}{\\left(z \\right)}}{3} + u{\\left(z \\right)} v{\\left(z \\right)} + \\log{\\left(u{\\left(z \\right)} v{\\left(z \\right)} \\right)} \\beta$"
      ],
      "text/plain": [
       "Eq(K, a1*u(z)*v(z)**2 + (a0 - a3)*v(z)**3/3 + (a0 + a3)*u(z)**2*v(z) - (a1 + 2*b0)*u(z)**3/3 + u(z)*v(z) + log(u(z)*v(z))*beta)"
      ]
     },
     "execution_count": 14,
     "metadata": {},
     "output_type": "execute_result"
    }
   ],
   "source": [
    "irrelevant_r_no_log = [(r[2,2],0),(r[1,0],1),(r[0,1],0)]\n",
    "K_const_eq = Eq(K, \n",
    "                Kuv_eq.rhs.subs(r_sym_sub_a).subs(no_uv_sub).subs(rs_0)\n",
    "                .subs(w3_w2_sub).subs(w1_w0_sub).subs(b1_b3_sub).subs(irrelevant_r_no_log)\n",
    "                .expand().collect([u(z)**3,v(z)**3, u(z)*v(z)**2, v(z)*u(z)**2],factor)\n",
    "               )\n",
    "K_const_eq"
   ]
  },
  {
   "cell_type": "code",
   "execution_count": 15,
   "id": "9d9dfd73-75b3-475f-b64b-2e3f84da4825",
   "metadata": {},
   "outputs": [
    {
     "data": {
      "text/latex": [
       "$\\displaystyle \\frac{d}{d z} u{\\left(z \\right)} = 2 a_{1} u{\\left(z \\right)} v{\\left(z \\right)} + \\left(a_{0} - a_{3}\\right) v^{2}{\\left(z \\right)} + \\left(a_{0} + a_{3}\\right) u^{2}{\\left(z \\right)} + u{\\left(z \\right)}$"
      ],
      "text/plain": [
       "Eq(Derivative(u(z), z), 2*a1*u(z)*v(z) + (a0 - a3)*v(z)**2 + (a0 + a3)*u(z)**2 + u(z))"
      ]
     },
     "execution_count": 15,
     "metadata": {},
     "output_type": "execute_result"
    },
    {
     "data": {
      "text/latex": [
       "$\\displaystyle \\frac{d}{d z} v{\\left(z \\right)} = - a_{1} v^{2}{\\left(z \\right)} - 2 \\left(a_{0} + a_{3}\\right) u{\\left(z \\right)} v{\\left(z \\right)} + \\left(a_{1} + 2 b_{0}\\right) u^{2}{\\left(z \\right)} - v{\\left(z \\right)}$"
      ],
      "text/plain": [
       "Eq(Derivative(v(z), z), -a1*v(z)**2 - 2*(a0 + a3)*u(z)*v(z) + (a1 + 2*b0)*u(z)**2 - v(z))"
      ]
     },
     "execution_count": 15,
     "metadata": {},
     "output_type": "execute_result"
    }
   ],
   "source": [
    "du_a_const_K = (du_a.subs(r_sym_sub_a).subs(no_uv_sub).subs(rs_0)\n",
    "                .subs(w3_w2_sub).subs(w1_w0_sub).subs(b1_b3_sub).subs(irrelevant_r_no_log)\n",
    "                .expand())\n",
    "dv_b_const_K = (dv_b.subs(r_sym_sub_a).subs(no_uv_sub).subs(rs_0)\n",
    "                .subs(w3_w2_sub).subs(w1_w0_sub).subs(b1_b3_sub).subs(irrelevant_r_no_log)\n",
    "                .expand())\n",
    "du_a_const_K = Eq(du_a_const_K.lhs, du_a_const_K.rhs.collect([u(z)**2,v(z)**2, u(z)*v(z)],factor))\n",
    "dv_b_const_K = Eq(dv_b_const_K.lhs, dv_b_const_K.rhs.collect([u(z)**2,v(z)**2, u(z)*v(z)],factor))\n",
    "du_a_const_K\n",
    "dv_b_const_K"
   ]
  },
  {
   "cell_type": "code",
   "execution_count": 16,
   "id": "c736f8ef-aa89-40fc-9e80-b7a537685090",
   "metadata": {},
   "outputs": [
    {
     "data": {
      "text/latex": [
       "$\\displaystyle \\frac{d}{d z} u{\\left(z \\right)} v{\\left(z \\right)} = a_{1} u{\\left(z \\right)} v^{2}{\\left(z \\right)} + \\left(- a_{0} - a_{3}\\right) u^{2}{\\left(z \\right)} v{\\left(z \\right)} + \\left(a_{0} - a_{3}\\right) v^{3}{\\left(z \\right)} + \\left(a_{1} + 2 b_{0}\\right) u^{3}{\\left(z \\right)}$"
      ],
      "text/plain": [
       "Eq(Derivative(u(z)*v(z), z), a1*u(z)*v(z)**2 + (-a0 - a3)*u(z)**2*v(z) + (a0 - a3)*v(z)**3 + (a1 + 2*b0)*u(z)**3)"
      ]
     },
     "execution_count": 16,
     "metadata": {},
     "output_type": "execute_result"
    }
   ],
   "source": [
    "Eq(Derivative(u(z)*v(z),z), \n",
    "   diff(u(z)*v(z),z).subs([du_a_const_K.args, dv_b_const_K.args]).expand().collect([u(z)**2*v(z), v(z)**2*u(z), u(z)**3, v(z)**3]))"
   ]
  },
  {
   "cell_type": "markdown",
   "id": "f2bfddc2-d840-42b8-ba10-c6faa3c94ab1",
   "metadata": {},
   "source": [
    "More generally, if some function $f(x,y)$ is a constant then:"
   ]
  },
  {
   "cell_type": "code",
   "execution_count": 17,
   "id": "5b23bd82-789d-40d6-9f13-4c2443092818",
   "metadata": {},
   "outputs": [
    {
     "data": {
      "text/latex": [
       "$\\displaystyle \\left(x + \\operatorname{Qa}{\\left(x,y \\right)}\\right) \\frac{\\partial}{\\partial x} f{\\left(x,y \\right)} + \\left(- y + \\operatorname{Qb}{\\left(x,y \\right)}\\right) \\frac{\\partial}{\\partial y} f{\\left(x,y \\right)} = 0$"
      ],
      "text/plain": [
       "Eq((x + Qa(x, y))*Derivative(f(x, y), x) + (-y + Qb(x, y))*Derivative(f(x, y), y), 0)"
      ]
     },
     "execution_count": 17,
     "metadata": {},
     "output_type": "execute_result"
    }
   ],
   "source": [
    "f_const_eq = Eq(diff(f(u(z),v(z)),z).subs([du_Qa.args, dv_Qb.args]).subs([(u(z),x),(v(z),y)]),0)\n",
    "f_const_eq"
   ]
  },
  {
   "cell_type": "markdown",
   "id": "57bd64a6-544b-4847-b417-3965232d5d20",
   "metadata": {},
   "source": [
    "Attempting to guess trivial solutions seems to lead to a special case of $K$"
   ]
  },
  {
   "cell_type": "code",
   "execution_count": 18,
   "id": "9f5fdb94-d2f7-4995-bd1e-1950622b286d",
   "metadata": {},
   "outputs": [
    {
     "data": {
      "text/latex": [
       "$\\displaystyle \\frac{\\partial}{\\partial x} f{\\left(x,y \\right)} = - y + \\operatorname{Qb}{\\left(x,y \\right)}$"
      ],
      "text/plain": [
       "Eq(Derivative(f(x, y), x), -y + Qb(x, y))"
      ]
     },
     "execution_count": 18,
     "metadata": {},
     "output_type": "execute_result"
    },
    {
     "data": {
      "text/latex": [
       "$\\displaystyle \\frac{\\partial}{\\partial y} f{\\left(x,y \\right)} = - x - \\operatorname{Qa}{\\left(x,y \\right)}$"
      ],
      "text/plain": [
       "Eq(Derivative(f(x, y), y), -x - Qa(x, y))"
      ]
     },
     "execution_count": 18,
     "metadata": {},
     "output_type": "execute_result"
    }
   ],
   "source": [
    "Eq(diff(f(x,y),x), dv_Qb.rhs).subs([(u(z),x),(v(z),y)])\n",
    "Eq(diff(f(x,y),y), -du_Qa.rhs).subs([(u(z),x),(v(z),y)])"
   ]
  },
  {
   "cell_type": "code",
   "execution_count": 19,
   "id": "82889ba2-2612-4a8a-becd-754695d45e9f",
   "metadata": {},
   "outputs": [
    {
     "data": {
      "text/latex": [
       "$\\displaystyle f{\\left(x,y \\right)} = - x y + \\int \\operatorname{Qb}{\\left(x,y \\right)}\\, dx$"
      ],
      "text/plain": [
       "Eq(f(x, y), -x*y + Integral(Qb(x, y), x))"
      ]
     },
     "execution_count": 19,
     "metadata": {},
     "output_type": "execute_result"
    },
    {
     "data": {
      "text/latex": [
       "$\\displaystyle f{\\left(x,y \\right)} = - x y - \\int \\operatorname{Qa}{\\left(x,y \\right)}\\, dy$"
      ],
      "text/plain": [
       "Eq(f(x, y), -x*y - Integral(Qa(x, y), y))"
      ]
     },
     "execution_count": 19,
     "metadata": {},
     "output_type": "execute_result"
    }
   ],
   "source": [
    "Eq(f(x,y), -y*x + Integral(Qb(x,y),x))\n",
    "Eq(f(x,y), -y*x - Integral(Qa(x,y),y))"
   ]
  },
  {
   "cell_type": "code",
   "execution_count": 20,
   "id": "817bf0e3-a0b3-4fcb-92e2-cbf95bfbef90",
   "metadata": {},
   "outputs": [
    {
     "data": {
      "text/latex": [
       "$\\displaystyle f{\\left(x,y \\right)} = b_{1} x^{2} y + x^{3} \\left(\\frac{b_{0}}{3} + \\frac{b_{3}}{3}\\right) - x y + x \\left(b_{0} y^{2} - b_{3} y^{2}\\right)$"
      ],
      "text/plain": [
       "Eq(f(x, y), b1*x**2*y + x**3*(b0/3 + b3/3) - x*y + x*(b0*y**2 - b3*y**2))"
      ]
     },
     "execution_count": 20,
     "metadata": {},
     "output_type": "execute_result"
    },
    {
     "data": {
      "text/latex": [
       "$\\displaystyle f{\\left(x,y \\right)} = - a_{1} x y^{2} - x y - y^{3} \\left(\\frac{a_{0}}{3} - \\frac{a_{3}}{3}\\right) - y \\left(a_{0} x^{2} + a_{3} x^{2}\\right)$"
      ],
      "text/plain": [
       "Eq(f(x, y), -a1*x*y**2 - x*y - y**3*(a0/3 - a3/3) - y*(a0*x**2 + a3*x**2))"
      ]
     },
     "execution_count": 20,
     "metadata": {},
     "output_type": "execute_result"
    }
   ],
   "source": [
    "fxyb = Eq(f(x,y), -y*x + Integral(Qb(x,y),x)).subs(*Qb_eq.subs([(u(z),x),(v(z),y)]).args).doit()\n",
    "fxya = Eq(f(x,y), -y*x - Integral(Qa(x,y),y)).subs(*Qa_eq.subs([(u(z),x),(v(z),y)]).args).doit()\n",
    "fxyb\n",
    "fxya"
   ]
  },
  {
   "cell_type": "code",
   "execution_count": 21,
   "id": "646d714b-41bc-418e-9807-662f9a8b3ff7",
   "metadata": {},
   "outputs": [
    {
     "data": {
      "text/latex": [
       "$\\displaystyle x^{3} \\left(\\frac{b_{0}}{3} + \\frac{b_{3}}{3}\\right) + x^{2} y \\left(a_{0} + a_{3} + b_{1}\\right) + x y^{2} \\left(a_{1} + b_{0} - b_{3}\\right) + y^{3} \\left(\\frac{a_{0}}{3} - \\frac{a_{3}}{3}\\right)$"
      ],
      "text/plain": [
       "x**3*(b0/3 + b3/3) + x**2*y*(a0 + a3 + b1) + x*y**2*(a1 + b0 - b3) + y**3*(a0/3 - a3/3)"
      ]
     },
     "execution_count": 21,
     "metadata": {},
     "output_type": "execute_result"
    }
   ],
   "source": [
    "f_equiv = (fxyb.rhs - fxya.rhs).expand().collect([x**2*y, y**2*x, y**3, x**3])\n",
    "f_equiv"
   ]
  },
  {
   "cell_type": "code",
   "execution_count": 22,
   "id": "8f27633e-4085-4686-8664-33665ae24239",
   "metadata": {},
   "outputs": [
    {
     "data": {
      "text/latex": [
       "$\\displaystyle 0$"
      ],
      "text/plain": [
       "0"
      ]
     },
     "execution_count": 22,
     "metadata": {},
     "output_type": "execute_result"
    }
   ],
   "source": [
    "xy_f_equiv_subs = [(a3,a0), (b3,-b0), (b1,-a0*2), (b0,-a1/2)]\n",
    "f_equiv.subs(xy_f_equiv_subs)"
   ]
  },
  {
   "cell_type": "code",
   "execution_count": 23,
   "id": "10a6831f-462e-4e05-9f7b-22cc8b478ce7",
   "metadata": {},
   "outputs": [
    {
     "data": {
      "text/latex": [
       "$\\displaystyle f{\\left(x,y \\right)} = - 2 a_{0} x^{2} y - a_{1} x y^{2} - x y$"
      ],
      "text/plain": [
       "Eq(f(x, y), -2*a0*x**2*y - a1*x*y**2 - x*y)"
      ]
     },
     "execution_count": 23,
     "metadata": {},
     "output_type": "execute_result"
    },
    {
     "data": {
      "text/latex": [
       "$\\displaystyle f{\\left(x,y \\right)} = - 2 a_{0} x^{2} y - a_{1} x y^{2} - x y$"
      ],
      "text/plain": [
       "Eq(f(x, y), -2*a0*x**2*y - a1*x*y**2 - x*y)"
      ]
     },
     "execution_count": 23,
     "metadata": {},
     "output_type": "execute_result"
    }
   ],
   "source": [
    "fxyb.subs(xy_f_equiv_subs)\n",
    "fxya.subs(xy_f_equiv_subs)"
   ]
  },
  {
   "cell_type": "code",
   "execution_count": 24,
   "id": "0e341d54-8176-4e1b-bdb6-86f572af7c6b",
   "metadata": {},
   "outputs": [
    {
     "data": {
      "text/latex": [
       "$\\displaystyle \\left[\\begin{matrix}2 a_{0} & a_{1}\\\\a_{1} & 0\\end{matrix}\\right]$"
      ],
      "text/plain": [
       "Matrix([\n",
       "[2*a0, a1],\n",
       "[  a1,  0]])"
      ]
     },
     "execution_count": 24,
     "metadata": {},
     "output_type": "execute_result"
    },
    {
     "data": {
      "text/latex": [
       "$\\displaystyle \\left[\\begin{matrix}0 & - 2 a_{0}\\\\- 2 a_{0} & - a_{1}\\end{matrix}\\right]$"
      ],
      "text/plain": [
       "Matrix([\n",
       "[    0, -2*a0],\n",
       "[-2*a0,   -a1]])"
      ]
     },
     "execution_count": 24,
     "metadata": {},
     "output_type": "execute_result"
    }
   ],
   "source": [
    "A.subs(xy_f_equiv_subs)#.subs(a0,a0/2)\n",
    "B.subs(xy_f_equiv_subs)#.subs(a0,a0/2)"
   ]
  },
  {
   "cell_type": "code",
   "execution_count": 25,
   "id": "3d3f91f5-db97-47ff-9982-96b9cb3daa8f",
   "metadata": {},
   "outputs": [
    {
     "data": {
      "text/latex": [
       "$\\displaystyle \\left[\\begin{matrix}2 a_{0} & a_{1}\\\\a_{1} & 0\\end{matrix}\\right]$"
      ],
      "text/plain": [
       "Matrix([\n",
       "[2*a0, a1],\n",
       "[  a1,  0]])"
      ]
     },
     "execution_count": 25,
     "metadata": {},
     "output_type": "execute_result"
    },
    {
     "data": {
      "text/latex": [
       "$\\displaystyle \\left[\\begin{matrix}0 & - 2 a_{0}\\\\- 2 a_{0} & - a_{1}\\end{matrix}\\right]$"
      ],
      "text/plain": [
       "Matrix([\n",
       "[    0, -2*a0],\n",
       "[-2*a0,   -a1]])"
      ]
     },
     "execution_count": 25,
     "metadata": {},
     "output_type": "execute_result"
    }
   ],
   "source": [
    "A.subs(a3,a0)\n",
    "B.subs(b1_b3_sub).subs(a3,a0).subs(b0,-a1/2)"
   ]
  },
  {
   "cell_type": "markdown",
   "id": "c0967ea1-023c-4dad-a7b5-4da048f9b3bc",
   "metadata": {},
   "source": [
    "### The case with log terms $\\beta \\ne 0$\n",
    "\n",
    "#### Case a"
   ]
  },
  {
   "cell_type": "code",
   "execution_count": 26,
   "id": "b5771767-d834-4faf-b17d-9b7a3c4fe5b7",
   "metadata": {},
   "outputs": [
    {
     "data": {
      "text/plain": [
       "True"
      ]
     },
     "execution_count": 26,
     "metadata": {},
     "output_type": "execute_result"
    },
    {
     "data": {
      "text/latex": [
       "$\\displaystyle 0$"
      ],
      "text/plain": [
       "0"
      ]
     },
     "execution_count": 26,
     "metadata": {},
     "output_type": "execute_result"
    }
   ],
   "source": [
    "no_ratio_sub = [(a3,a0),(b3,-b0)]\n",
    "no_quartic_sub = [(w[0],0),(w[1],0)]\n",
    "no_cubic_sub = [(r[0,0],0),(r[1,1],0)]\n",
    "no_quadratic_sub = [(r[2,0],-r[0,2]),(r[2,1],-r[1,2])]\n",
    "no_mixed_cubic = [(w[3],0),(w[2],0)]\n",
    "no_linear = [(b1,-a0),(b0,-a1)]\n",
    "dKuv_cancelled_log = dKuv_eq.rhs.subs(no_ratio_sub).subs(no_quartic_sub).subs(no_cubic_sub).subs(no_quadratic_sub).subs(no_mixed_cubic).subs(no_linear)\n",
    "dKuv_cancelled_log==0\n",
    "dKuv_cancelled_log"
   ]
  },
  {
   "cell_type": "code",
   "execution_count": 27,
   "id": "a885869f-b460-4c91-892c-25b48bbf4417",
   "metadata": {},
   "outputs": [],
   "source": [
    "r_irrelevant = [(r[0,1],1),(r[1,0],0),(r[2,2],0)]"
   ]
  },
  {
   "cell_type": "code",
   "execution_count": 28,
   "id": "e6f97592-3ef1-4b81-a8fe-54b9106fb48d",
   "metadata": {},
   "outputs": [
    {
     "data": {
      "text/latex": [
       "$\\displaystyle \\operatorname{Kk}{\\left(u{\\left(z \\right)},v{\\left(z \\right)} \\right)} = u{\\left(z \\right)} v{\\left(z \\right)} + \\log{\\left(u{\\left(z \\right)} v{\\left(z \\right)} \\right)} \\beta$"
      ],
      "text/plain": [
       "Eq(Kk(u(z), v(z)), u(z)*v(z) + log(u(z)*v(z))*beta)"
      ]
     },
     "execution_count": 28,
     "metadata": {},
     "output_type": "execute_result"
    }
   ],
   "source": [
    "Kuv_eq.subs(no_ratio_sub).subs(no_quartic_sub).subs(no_cubic_sub).subs(no_quadratic_sub).subs(no_mixed_cubic).subs(no_linear).subs(r_irrelevant)"
   ]
  },
  {
   "cell_type": "code",
   "execution_count": 29,
   "id": "3a3726d5-9c9a-4ad7-820c-cc47d866e524",
   "metadata": {},
   "outputs": [
    {
     "data": {
      "text/latex": [
       "$\\displaystyle e^{K} = \\left(u{\\left(z \\right)} v{\\left(z \\right)}\\right)^{\\beta} e^{u{\\left(z \\right)} v{\\left(z \\right)}}$"
      ],
      "text/plain": [
       "Eq(exp(K), (u(z)*v(z))**beta*exp(u(z)*v(z)))"
      ]
     },
     "execution_count": 29,
     "metadata": {},
     "output_type": "execute_result"
    }
   ],
   "source": [
    "Eq(exp(K),exp(u(z)*v(z))*(u(z)*v(z))**beta)"
   ]
  },
  {
   "cell_type": "code",
   "execution_count": 30,
   "id": "d3bbace3-f629-4ef6-afe8-8dda625a1c0f",
   "metadata": {},
   "outputs": [
    {
     "data": {
      "text/latex": [
       "$\\displaystyle \\frac{d}{d z} u{\\left(z \\right)} = 2 a_{0} u^{2}{\\left(z \\right)} + 2 a_{1} u{\\left(z \\right)} v{\\left(z \\right)} + u{\\left(z \\right)}$"
      ],
      "text/plain": [
       "Eq(Derivative(u(z), z), 2*a0*u(z)**2 + 2*a1*u(z)*v(z) + u(z))"
      ]
     },
     "execution_count": 30,
     "metadata": {},
     "output_type": "execute_result"
    },
    {
     "data": {
      "text/latex": [
       "$\\displaystyle \\frac{d}{d z} v{\\left(z \\right)} = - 2 a_{0} u{\\left(z \\right)} v{\\left(z \\right)} - 2 a_{1} v^{2}{\\left(z \\right)} - v{\\left(z \\right)}$"
      ],
      "text/plain": [
       "Eq(Derivative(v(z), z), -2*a0*u(z)*v(z) - 2*a1*v(z)**2 - v(z))"
      ]
     },
     "execution_count": 30,
     "metadata": {},
     "output_type": "execute_result"
    }
   ],
   "source": [
    "du_a_log = du_a.subs(no_ratio_sub).subs(no_quartic_sub).subs(no_cubic_sub).subs(no_quadratic_sub).subs(no_mixed_cubic).subs(no_linear)\n",
    "du_b_log = dv_b.subs(no_ratio_sub).subs(no_quartic_sub).subs(no_cubic_sub).subs(no_quadratic_sub).subs(no_mixed_cubic).subs(no_linear)\n",
    "du_a_log\n",
    "du_b_log"
   ]
  },
  {
   "cell_type": "code",
   "execution_count": 31,
   "id": "5eca0403-142d-47f2-923a-316fd8304f28",
   "metadata": {},
   "outputs": [
    {
     "data": {
      "text/latex": [
       "$\\displaystyle \\frac{d}{d z} u{\\left(z \\right)} v{\\left(z \\right)} = 0$"
      ],
      "text/plain": [
       "Eq(Derivative(u(z)*v(z), z), 0)"
      ]
     },
     "execution_count": 31,
     "metadata": {},
     "output_type": "execute_result"
    }
   ],
   "source": [
    "Eq(Derivative(u(z)*v(z),z), \n",
    "   diff(u(z)*v(z),z).subs([du_a_log.args, du_b_log.args]).expand().collect([u(z)**2*v(z), v(z)**2*u(z), u(z)**3, v(z)**3]))"
   ]
  },
  {
   "cell_type": "markdown",
   "id": "eca22676-2e12-4a0f-a319-bf8bc59b6661",
   "metadata": {},
   "source": [
    "#### Case b"
   ]
  },
  {
   "cell_type": "code",
   "execution_count": 32,
   "id": "4c7bb498-bc7e-45b0-aee5-1822021605cf",
   "metadata": {},
   "outputs": [
    {
     "data": {
      "text/plain": [
       "False"
      ]
     },
     "execution_count": 32,
     "metadata": {},
     "output_type": "execute_result"
    },
    {
     "data": {
      "text/latex": [
       "$\\displaystyle 0$"
      ],
      "text/plain": [
       "0"
      ]
     },
     "execution_count": 32,
     "metadata": {},
     "output_type": "execute_result"
    }
   ],
   "source": [
    "no_ratio_sub = [(a3,a0),(b3,-b0)]\n",
    "no_quartic_sub_ab = [(a0,0),(b0,0)]\n",
    "no_cubic_sub_w = [(w[0],0),(w[1],0)]\n",
    "no_quadratic_sub_r0011 = [(r[0,0],0),(r[1,1],0)]\n",
    "no_mixed_quartic = [(w[3],0),(w[2],0)]\n",
    "no_mixed_cubic_r = [(r[1,0],-r[0,1])]\n",
    "no_linear_r = [(r[2,1], 2*a1*beta - r[1, 2]), (r[2,0], -2*b1*beta - r[0, 2])]\n",
    "dKuv_cancelled_log = (dKuv_eq.rhs.subs(no_ratio_sub).subs(no_quartic_sub_ab).subs(no_cubic_sub_w)\n",
    "                      .subs(no_quadratic_sub_r0011).subs(no_mixed_quartic).subs(no_mixed_cubic_r).subs(no_linear_r))#.subs(no_linear))\n",
    "dKuv_cancelled_log==0\n",
    "dKuv_cancelled_log.simplify()"
   ]
  },
  {
   "cell_type": "code",
   "execution_count": 33,
   "id": "23f0e6cf-bb73-4b2f-ba94-797391cab345",
   "metadata": {},
   "outputs": [
    {
     "data": {
      "text/latex": [
       "$\\displaystyle \\operatorname{Kk}{\\left(u{\\left(z \\right)},v{\\left(z \\right)} \\right)} = 2 a_{1} v{\\left(z \\right)} - 2 b_{1} u{\\left(z \\right)} + \\log{\\left(u{\\left(z \\right)} v{\\left(z \\right)} \\right)}$"
      ],
      "text/plain": [
       "Eq(Kk(u(z), v(z)), 2*a1*v(z) - 2*b1*u(z) + log(u(z)*v(z)))"
      ]
     },
     "execution_count": 33,
     "metadata": {},
     "output_type": "execute_result"
    }
   ],
   "source": [
    "irrelevant_log = [(beta, 1),(r[2,2],0)]\n",
    "Kuv_log_beta = (Kuv_eq.subs(no_ratio_sub).subs(no_quartic_sub_ab).subs(no_cubic_sub_w)\n",
    "                      .subs(no_quadratic_sub_r0011).subs(no_mixed_quartic).subs(no_mixed_cubic_r).subs(no_linear_r).subs(irrelevant_log))\n",
    "Kuv_log_beta"
   ]
  },
  {
   "cell_type": "code",
   "execution_count": 34,
   "id": "e3352042-9e39-4505-8221-c6c3b48a7c56",
   "metadata": {},
   "outputs": [
    {
     "data": {
      "text/latex": [
       "$\\displaystyle \\delta \\operatorname{Kk}{\\left(u{\\left(z \\right)},v{\\left(z \\right)} \\right)} = 2 a_{1} \\delta v{\\left(z \\right)} - 2 b_{1} \\delta u{\\left(z \\right)} + \\left(u{\\left(z \\right)} v{\\left(z \\right)}\\right)^{\\delta}$"
      ],
      "text/plain": [
       "Eq(delta*Kk(u(z), v(z)), 2*a1*delta*v(z) - 2*b1*delta*u(z) + (u(z)*v(z))**delta)"
      ]
     },
     "execution_count": 34,
     "metadata": {},
     "output_type": "execute_result"
    }
   ],
   "source": [
    "Eq(Kk(u(z),v(z))*delta, 2*a1*v(z)*delta - 2*b1*u(z)*delta + (u(z)*v(z))**delta)"
   ]
  },
  {
   "cell_type": "code",
   "execution_count": 35,
   "id": "2dd4b16d-3539-44c4-980c-2b2e4489b74d",
   "metadata": {},
   "outputs": [
    {
     "data": {
      "text/latex": [
       "$\\displaystyle \\left[\\begin{matrix}0 & a_{1}\\\\a_{1} & 0\\end{matrix}\\right]$"
      ],
      "text/plain": [
       "Matrix([\n",
       "[ 0, a1],\n",
       "[a1,  0]])"
      ]
     },
     "execution_count": 35,
     "metadata": {},
     "output_type": "execute_result"
    },
    {
     "data": {
      "text/latex": [
       "$\\displaystyle \\left[\\begin{matrix}0 & b_{1}\\\\b_{1} & 0\\end{matrix}\\right]$"
      ],
      "text/plain": [
       "Matrix([\n",
       "[ 0, b1],\n",
       "[b1,  0]])"
      ]
     },
     "execution_count": 35,
     "metadata": {},
     "output_type": "execute_result"
    }
   ],
   "source": [
    "(A.subs(no_ratio_sub).subs(no_quartic_sub_ab).subs(no_cubic_sub_w)\n",
    "                      .subs(no_quadratic_sub_r0011).subs(no_mixed_quartic).subs(no_mixed_cubic_r).subs(no_linear_r))\n",
    "(B.subs(no_ratio_sub).subs(no_quartic_sub_ab).subs(no_cubic_sub_w)\n",
    "                      .subs(no_quadratic_sub_r0011).subs(no_mixed_quartic).subs(no_mixed_cubic_r).subs(no_linear_r))"
   ]
  },
  {
   "cell_type": "code",
   "execution_count": 36,
   "id": "459bb955-d149-449e-9ca2-7ae41a00e4f7",
   "metadata": {},
   "outputs": [
    {
     "data": {
      "text/latex": [
       "$\\displaystyle e^{K} = u{\\left(z \\right)} v{\\left(z \\right)} e^{2 a_{1} v{\\left(z \\right)} - 2 b_{1} u{\\left(z \\right)}}$"
      ],
      "text/plain": [
       "Eq(exp(K), u(z)*v(z)*exp(2*a1*v(z) - 2*b1*u(z)))"
      ]
     },
     "execution_count": 36,
     "metadata": {},
     "output_type": "execute_result"
    }
   ],
   "source": [
    "exp_K_uv = Eq(exp(K), exp(2*a1*v(z) - 2*b1*u(z))*u(z)*v(z))\n",
    "exp_K_uv"
   ]
  },
  {
   "cell_type": "code",
   "execution_count": 37,
   "id": "1ec65a4a-1ca0-4d14-a05e-a674208753d3",
   "metadata": {},
   "outputs": [
    {
     "data": {
      "text/latex": [
       "$\\displaystyle f{\\left(z \\right)} = - 2 b_{1} u{\\left(z \\right)} e^{- 2 b_{1} u{\\left(z \\right)}}$"
      ],
      "text/plain": [
       "Eq(f(z), -2*b1*u(z)*exp(-2*b1*u(z)))"
      ]
     },
     "execution_count": 37,
     "metadata": {},
     "output_type": "execute_result"
    },
    {
     "data": {
      "text/latex": [
       "$\\displaystyle h{\\left(z \\right)} = 2 a_{1} v{\\left(z \\right)} e^{2 a_{1} v{\\left(z \\right)}}$"
      ],
      "text/plain": [
       "Eq(h(z), 2*a1*v(z)*exp(2*a1*v(z)))"
      ]
     },
     "execution_count": 37,
     "metadata": {},
     "output_type": "execute_result"
    },
    {
     "data": {
      "text/latex": [
       "$\\displaystyle \\text{True}$"
      ],
      "text/plain": [
       "True"
      ]
     },
     "execution_count": 37,
     "metadata": {},
     "output_type": "execute_result"
    },
    {
     "data": {
      "text/latex": [
       "$\\displaystyle - 4 a_{1} b_{1} e^{K} = f{\\left(z \\right)} h{\\left(z \\right)}$"
      ],
      "text/plain": [
       "Eq(-4*a1*b1*exp(K), f(z)*h(z))"
      ]
     },
     "execution_count": 37,
     "metadata": {},
     "output_type": "execute_result"
    }
   ],
   "source": [
    "f_lamb_u = Eq(f(z), -2*b1*u(z)*exp(-2*b1*u(z)))\n",
    "h_lamb_v = Eq(h(z), 2*a1*v(z)*exp(2*a1*v(z)))\n",
    "f_lamb_u\n",
    "h_lamb_v\n",
    "fh_K = Eq(-exp(K)*4*a1*b1, f(z)*h(z))\n",
    "fh_K.subs([f_lamb_u.args, h_lamb_v.args, exp_K_uv.args]).simplify()\n",
    "fh_K"
   ]
  },
  {
   "cell_type": "code",
   "execution_count": 38,
   "id": "c2254aff-3a75-44c6-a1dd-912eef29b7c9",
   "metadata": {},
   "outputs": [
    {
     "data": {
      "text/latex": [
       "$\\displaystyle u{\\left(z \\right)} = - \\frac{W\\left(f{\\left(z \\right)}\\right)}{2 b_{1}}$"
      ],
      "text/plain": [
       "Eq(u(z), -LambertW(f(z))/(2*b1))"
      ]
     },
     "execution_count": 38,
     "metadata": {},
     "output_type": "execute_result"
    },
    {
     "data": {
      "text/latex": [
       "$\\displaystyle v{\\left(z \\right)} = \\frac{W\\left(h{\\left(z \\right)}\\right)}{2 a_{1}}$"
      ],
      "text/plain": [
       "Eq(v(z), LambertW(h(z))/(2*a1))"
      ]
     },
     "execution_count": 38,
     "metadata": {},
     "output_type": "execute_result"
    }
   ],
   "source": [
    "u_f_lamb = Eq(u(z), -LambertW(f(z))/(2*b1))\n",
    "v_h_lamb = Eq(v(z), LambertW(h(z))/(2*a1))\n",
    "uv_fh_lambert_subs = [u_f_lamb.args, v_h_lamb.args]\n",
    "u_f_lamb\n",
    "v_h_lamb\n"
   ]
  },
  {
   "cell_type": "code",
   "execution_count": 39,
   "id": "1f296f05-39ae-45e5-947d-2bc37e6c83e7",
   "metadata": {},
   "outputs": [
    {
     "data": {
      "text/latex": [
       "$\\displaystyle K = \\log{\\left(- \\frac{W\\left(f{\\left(z \\right)}\\right) W\\left(h{\\left(z \\right)}\\right)}{4 a_{1} b_{1}} \\right)} + W\\left(f{\\left(z \\right)}\\right) + W\\left(h{\\left(z \\right)}\\right)$"
      ],
      "text/plain": [
       "Eq(K, log(-LambertW(f(z))*LambertW(h(z))/(4*a1*b1)) + LambertW(f(z)) + LambertW(h(z)))"
      ]
     },
     "execution_count": 39,
     "metadata": {},
     "output_type": "execute_result"
    }
   ],
   "source": [
    "Eq(K, Kuv_log_beta.rhs.subs(uv_fh_lambert_subs))"
   ]
  },
  {
   "cell_type": "code",
   "execution_count": 40,
   "id": "187389ea-f248-49f9-a5b5-ec8bc40c7d31",
   "metadata": {},
   "outputs": [
    {
     "data": {
      "text/latex": [
       "$\\displaystyle \\log{\\left(- \\frac{W\\left(f{\\left(z \\right)}\\right) W\\left(h{\\left(z \\right)}\\right)}{4 a_{1} b_{1}} \\right)} = - \\log{\\left(- 4 a_{1} b_{1} \\right)} + \\log{\\left(W\\left(f{\\left(z \\right)}\\right) \\right)} + \\log{\\left(W\\left(h{\\left(z \\right)}\\right) \\right)}$"
      ],
      "text/plain": [
       "Eq(log(-LambertW(f(z))*LambertW(h(z))/(4*a1*b1)), -log(-4*a1*b1) + log(LambertW(f(z))) + log(LambertW(h(z))))"
      ]
     },
     "execution_count": 40,
     "metadata": {},
     "output_type": "execute_result"
    }
   ],
   "source": [
    "Eq(log(-LambertW(f(z))*LambertW(h(z))/4/a1/b1),-log(-4*a1*b1) + log(LambertW(f(z))) + log(LambertW(h(z))))"
   ]
  },
  {
   "cell_type": "code",
   "execution_count": 41,
   "id": "b65a5cba-0f6f-47b5-aba8-7577af031457",
   "metadata": {},
   "outputs": [
    {
     "data": {
      "text/latex": [
       "$\\displaystyle \\log{\\left(- \\frac{W\\left(f{\\left(z \\right)}\\right) W\\left(h{\\left(z \\right)}\\right)}{4 a_{1} b_{1}} \\right)} = - \\log{\\left(- 4 a_{1} b_{1} \\right)} + \\log{\\left(W\\left(f{\\left(z \\right)}\\right) \\right)} + \\log{\\left(W\\left(h{\\left(z \\right)}\\right) \\right)}$"
      ],
      "text/plain": [
       "Eq(log(-LambertW(f(z))*LambertW(h(z))/(4*a1*b1)), -log(-4*a1*b1) + log(LambertW(f(z))) + log(LambertW(h(z))))"
      ]
     },
     "execution_count": 41,
     "metadata": {},
     "output_type": "execute_result"
    }
   ],
   "source": [
    "Eq(log(-LambertW(f(z))*LambertW(h(z))/4/a1/b1),-log(-4*a1*b1) + log(LambertW(f(z))) + log(LambertW(h(z))))"
   ]
  },
  {
   "cell_type": "code",
   "execution_count": 42,
   "id": "8a1c0f1c-9171-437e-835b-54968958b509",
   "metadata": {},
   "outputs": [
    {
     "data": {
      "text/latex": [
       "$\\displaystyle \\frac{d}{d z} u{\\left(z \\right)} = 2 a_{1} u{\\left(z \\right)} v{\\left(z \\right)} + u{\\left(z \\right)}$"
      ],
      "text/plain": [
       "Eq(Derivative(u(z), z), 2*a1*u(z)*v(z) + u(z))"
      ]
     },
     "execution_count": 42,
     "metadata": {},
     "output_type": "execute_result"
    },
    {
     "data": {
      "text/latex": [
       "$\\displaystyle \\frac{d}{d z} v{\\left(z \\right)} = 2 b_{1} u{\\left(z \\right)} v{\\left(z \\right)} - v{\\left(z \\right)}$"
      ],
      "text/plain": [
       "Eq(Derivative(v(z), z), 2*b1*u(z)*v(z) - v(z))"
      ]
     },
     "execution_count": 42,
     "metadata": {},
     "output_type": "execute_result"
    }
   ],
   "source": [
    "du_a_log_case_b= (du_a.subs(no_ratio_sub).subs(no_quartic_sub_ab).subs(no_cubic_sub_w)\n",
    "                      .subs(no_quadratic_sub_r0011).subs(no_mixed_quartic).subs(no_mixed_cubic_r).subs(no_linear_r).subs(irrelevant_log))\n",
    "dv_b_log_case_b = (dv_b.subs(no_ratio_sub).subs(no_quartic_sub_ab).subs(no_cubic_sub_w)\n",
    "                      .subs(no_quadratic_sub_r0011).subs(no_mixed_quartic).subs(no_mixed_cubic_r).subs(no_linear_r).subs(irrelevant_log))\n",
    "du_a_log_case_b = Eq(du_a_log_case_b.lhs, du_a_log_case_b.rhs.collect([u(z)**2,v(z)**2, u(z)*v(z)],factor))\n",
    "dv_b_log_case_b = Eq(dv_b_log_case_b.lhs, dv_b_log_case_b.rhs.collect([u(z)**2,v(z)**2, u(z)*v(z)],factor))\n",
    "du_a_log_case_b\n",
    "dv_b_log_case_b"
   ]
  },
  {
   "cell_type": "code",
   "execution_count": 43,
   "id": "af8c8f75-6ad9-4403-b687-2dccde329d86",
   "metadata": {},
   "outputs": [
    {
     "data": {
      "text/latex": [
       "$\\displaystyle \\frac{\\partial}{\\partial z} e^{2 b_{1} u{\\left(z \\right)}} = 2 b_{1} \\cdot \\left(2 a_{1} u{\\left(z \\right)} v{\\left(z \\right)} + u{\\left(z \\right)}\\right) e^{2 b_{1} u{\\left(z \\right)}}$"
      ],
      "text/plain": [
       "Eq(Derivative(exp(2*b1*u(z)), z), 2*b1*(2*a1*u(z)*v(z) + u(z))*exp(2*b1*u(z)))"
      ]
     },
     "execution_count": 43,
     "metadata": {},
     "output_type": "execute_result"
    },
    {
     "data": {
      "text/latex": [
       "$\\displaystyle \\frac{\\partial}{\\partial z} e^{- 2 a_{1} v{\\left(z \\right)}} = - 2 a_{1} \\cdot \\left(2 b_{1} u{\\left(z \\right)} v{\\left(z \\right)} - v{\\left(z \\right)}\\right) e^{- 2 a_{1} v{\\left(z \\right)}}$"
      ],
      "text/plain": [
       "Eq(Derivative(exp(-2*a1*v(z)), z), -2*a1*(2*b1*u(z)*v(z) - v(z))*exp(-2*a1*v(z)))"
      ]
     },
     "execution_count": 43,
     "metadata": {},
     "output_type": "execute_result"
    }
   ],
   "source": [
    "Eq(Derivative(exp(2*b1*u(z)),z), diff(exp(2*b1*u(z)),z).subs(*du_a_log_case_b.args))\n",
    "Eq(Derivative(exp(-2*a1*v(z)),z), diff(exp(-2*a1*v(z)),z).subs(*dv_b_log_case_b.args))"
   ]
  },
  {
   "cell_type": "code",
   "execution_count": 44,
   "id": "c00b5c69-4243-4403-b1ba-29ed0d51dd6e",
   "metadata": {},
   "outputs": [
    {
     "data": {
      "text/latex": [
       "$\\displaystyle - \\frac{W\\left(f{\\left(z \\right)}\\right) \\frac{d}{d z} f{\\left(z \\right)}}{2 b_{1} \\left(W\\left(f{\\left(z \\right)}\\right) + 1\\right) f{\\left(z \\right)}} = - \\frac{W\\left(f{\\left(z \\right)}\\right) W\\left(h{\\left(z \\right)}\\right)}{2 b_{1}} - \\frac{W\\left(f{\\left(z \\right)}\\right)}{2 b_{1}}$"
      ],
      "text/plain": [
       "Eq(-LambertW(f(z))*Derivative(f(z), z)/(2*b1*(LambertW(f(z)) + 1)*f(z)), -LambertW(f(z))*LambertW(h(z))/(2*b1) - LambertW(f(z))/(2*b1))"
      ]
     },
     "execution_count": 44,
     "metadata": {},
     "output_type": "execute_result"
    },
    {
     "data": {
      "text/latex": [
       "$\\displaystyle \\frac{W\\left(h{\\left(z \\right)}\\right) \\frac{d}{d z} h{\\left(z \\right)}}{2 a_{1} \\left(W\\left(h{\\left(z \\right)}\\right) + 1\\right) h{\\left(z \\right)}} = - \\frac{W\\left(f{\\left(z \\right)}\\right) W\\left(h{\\left(z \\right)}\\right)}{2 a_{1}} - \\frac{W\\left(h{\\left(z \\right)}\\right)}{2 a_{1}}$"
      ],
      "text/plain": [
       "Eq(LambertW(h(z))*Derivative(h(z), z)/(2*a1*(LambertW(h(z)) + 1)*h(z)), -LambertW(f(z))*LambertW(h(z))/(2*a1) - LambertW(h(z))/(2*a1))"
      ]
     },
     "execution_count": 44,
     "metadata": {},
     "output_type": "execute_result"
    }
   ],
   "source": [
    "du_a_log_case_b.subs(uv_fh_lambert_subs).doit()\n",
    "dv_b_log_case_b.subs(uv_fh_lambert_subs).doit()"
   ]
  },
  {
   "cell_type": "code",
   "execution_count": 45,
   "id": "3acfb748-2acc-4940-b410-10926cf149df",
   "metadata": {},
   "outputs": [
    {
     "data": {
      "text/latex": [
       "$\\displaystyle \\frac{d}{d z} f{\\left(z \\right)} = \\left(W\\left(f{\\left(z \\right)}\\right) + 1\\right) \\left(W\\left(h{\\left(z \\right)}\\right) + 1\\right) f{\\left(z \\right)}$"
      ],
      "text/plain": [
       "Eq(Derivative(f(z), z), (LambertW(f(z)) + 1)*(LambertW(h(z)) + 1)*f(z))"
      ]
     },
     "execution_count": 45,
     "metadata": {},
     "output_type": "execute_result"
    },
    {
     "data": {
      "text/latex": [
       "$\\displaystyle \\frac{d}{d z} h{\\left(z \\right)} = - \\left(W\\left(f{\\left(z \\right)}\\right) + 1\\right) \\left(W\\left(h{\\left(z \\right)}\\right) + 1\\right) h{\\left(z \\right)}$"
      ],
      "text/plain": [
       "Eq(Derivative(h(z), z), -(LambertW(f(z)) + 1)*(LambertW(h(z)) + 1)*h(z))"
      ]
     },
     "execution_count": 45,
     "metadata": {},
     "output_type": "execute_result"
    }
   ],
   "source": [
    "fh_sols_lamb = solve([\n",
    "    du_a_log_case_b.subs(uv_fh_lambert_subs).doit(),\n",
    "    dv_b_log_case_b.subs(uv_fh_lambert_subs).doit()\n",
    "],[diff(f(z),z),diff(h(z),z)])\n",
    "for k in fh_sols_lamb:\n",
    "    Eq(k, fh_sols_lamb[k].factor())"
   ]
  },
  {
   "cell_type": "code",
   "execution_count": 46,
   "id": "4e0278eb-0cc9-4125-9113-92c0c5a7163e",
   "metadata": {},
   "outputs": [
    {
     "data": {
      "text/latex": [
       "$\\displaystyle \\text{True}$"
      ],
      "text/plain": [
       "True"
      ]
     },
     "execution_count": 46,
     "metadata": {},
     "output_type": "execute_result"
    }
   ],
   "source": [
    "Eq(diff(f(z),z),solve(Eq(Derivative(LambertW(f(z)),z), diff(LambertW(f(z)),z)), diff(f(z),z))[0])"
   ]
  },
  {
   "cell_type": "code",
   "execution_count": 47,
   "id": "0eac9597-dc7b-4fe4-8d10-d48d9a3bb580",
   "metadata": {},
   "outputs": [
    {
     "data": {
      "text/latex": [
       "$\\displaystyle \\frac{\\left(W\\left(f{\\left(z \\right)}\\right) + 1\\right) f{\\left(z \\right)} \\frac{d}{d z} W\\left(f{\\left(z \\right)}\\right)}{W\\left(f{\\left(z \\right)}\\right)}$"
      ],
      "text/plain": [
       "(LambertW(f(z)) + 1)*f(z)*Derivative(LambertW(f(z)), z)/LambertW(f(z))"
      ]
     },
     "execution_count": 47,
     "metadata": {},
     "output_type": "execute_result"
    }
   ],
   "source": [
    "solve(Eq(U(LambertW(f(z)),z), diff(LambertW(f(z)),z)), diff(f(z),z))[0].subs(U(LambertW(f(z)),z), Derivative(LambertW(f(z)),z))"
   ]
  },
  {
   "cell_type": "code",
   "execution_count": 48,
   "id": "8cf8fcca-ac8e-4e54-a991-e5c2070f11c2",
   "metadata": {},
   "outputs": [
    {
     "data": {
      "text/latex": [
       "$\\displaystyle - 4 a_{1} b_{1} u^{2}{\\left(z \\right)} v{\\left(z \\right)} e^{- 2 b_{1} u{\\left(z \\right)}} + 2 a_{1} u{\\left(z \\right)} v{\\left(z \\right)} e^{- 2 b_{1} u{\\left(z \\right)}} - 2 b_{1} u^{2}{\\left(z \\right)} e^{- 2 b_{1} u{\\left(z \\right)}} + u{\\left(z \\right)} e^{- 2 b_{1} u{\\left(z \\right)}}$"
      ],
      "text/plain": [
       "-4*a1*b1*u(z)**2*v(z)*exp(-2*b1*u(z)) + 2*a1*u(z)*v(z)*exp(-2*b1*u(z)) - 2*b1*u(z)**2*exp(-2*b1*u(z)) + u(z)*exp(-2*b1*u(z))"
      ]
     },
     "execution_count": 48,
     "metadata": {},
     "output_type": "execute_result"
    }
   ],
   "source": [
    "diff(u(z)*exp(-2*b1*u(z)),z).subs(*du_a_log_case_b.args).expand()"
   ]
  },
  {
   "cell_type": "code",
   "execution_count": 49,
   "id": "fb78a6a1-b144-4ef2-a548-be30719e285a",
   "metadata": {},
   "outputs": [
    {
     "data": {
      "text/latex": [
       "$\\displaystyle \\frac{d}{d z} u{\\left(z \\right)} v{\\left(z \\right)} = 2 a_{1} u{\\left(z \\right)} v^{2}{\\left(z \\right)} + 2 b_{1} u^{2}{\\left(z \\right)} v{\\left(z \\right)}$"
      ],
      "text/plain": [
       "Eq(Derivative(u(z)*v(z), z), 2*a1*u(z)*v(z)**2 + 2*b1*u(z)**2*v(z))"
      ]
     },
     "execution_count": 49,
     "metadata": {},
     "output_type": "execute_result"
    }
   ],
   "source": [
    "duv_case_b_beta = Eq(Derivative(u(z)*v(z),z), \n",
    "   diff(u(z)*v(z),z).subs([du_a_log_case_b.args, dv_b_log_case_b.args]).expand().collect([u(z)**2*v(z), v(z)**2*u(z), u(z)**3, v(z)**3]))\n",
    "duv_case_b_beta"
   ]
  },
  {
   "cell_type": "code",
   "execution_count": 50,
   "id": "111c50a5-79a3-41e1-b3d0-9c80a0808fc4",
   "metadata": {},
   "outputs": [
    {
     "data": {
      "text/latex": [
       "$\\displaystyle \\frac{\\partial}{\\partial z} \\left(- \\frac{W\\left(f{\\left(z \\right)}\\right) W\\left(h{\\left(z \\right)}\\right)}{4 a_{1} b_{1}}\\right) = \\frac{W^{2}\\left(f{\\left(z \\right)}\\right) W\\left(h{\\left(z \\right)}\\right)}{4 a_{1} b_{1}} - \\frac{W\\left(f{\\left(z \\right)}\\right) W^{2}\\left(h{\\left(z \\right)}\\right)}{4 a_{1} b_{1}}$"
      ],
      "text/plain": [
       "Eq(Derivative(-LambertW(f(z))*LambertW(h(z))/(4*a1*b1), z), LambertW(f(z))**2*LambertW(h(z))/(4*a1*b1) - LambertW(f(z))*LambertW(h(z))**2/(4*a1*b1))"
      ]
     },
     "execution_count": 50,
     "metadata": {},
     "output_type": "execute_result"
    }
   ],
   "source": [
    "duv_case_b_beta.subs(uv_fh_lambert_subs)"
   ]
  },
  {
   "cell_type": "markdown",
   "id": "d83b67e1-d65e-424e-8f58-d175c9dbed3d",
   "metadata": {},
   "source": [
    "## The dynamics of the case with constant $K$"
   ]
  },
  {
   "cell_type": "code",
   "execution_count": 51,
   "id": "c4c68daf-2003-40af-a35c-e469a2b69fc2",
   "metadata": {},
   "outputs": [
    {
     "data": {
      "text/latex": [
       "$\\displaystyle \\frac{d}{d z} u{\\left(z \\right)} = 2 a_{1} u{\\left(z \\right)} v{\\left(z \\right)} + \\left(a_{0} - a_{3}\\right) v^{2}{\\left(z \\right)} + \\left(a_{0} + a_{3}\\right) u^{2}{\\left(z \\right)} + u{\\left(z \\right)}$"
      ],
      "text/plain": [
       "Eq(Derivative(u(z), z), 2*a1*u(z)*v(z) + (a0 - a3)*v(z)**2 + (a0 + a3)*u(z)**2 + u(z))"
      ]
     },
     "execution_count": 51,
     "metadata": {},
     "output_type": "execute_result"
    },
    {
     "data": {
      "text/latex": [
       "$\\displaystyle \\frac{d}{d z} v{\\left(z \\right)} = - a_{1} v^{2}{\\left(z \\right)} + 2 \\left(- a_{0} - a_{3}\\right) u{\\left(z \\right)} v{\\left(z \\right)} + \\left(a_{1} + 2 b_{0}\\right) u^{2}{\\left(z \\right)} - v{\\left(z \\right)}$"
      ],
      "text/plain": [
       "Eq(Derivative(v(z), z), -a1*v(z)**2 + 2*(-a0 - a3)*u(z)*v(z) + (a1 + 2*b0)*u(z)**2 - v(z))"
      ]
     },
     "execution_count": 51,
     "metadata": {},
     "output_type": "execute_result"
    }
   ],
   "source": [
    "du_a_const_K = du_a.subs(b1_b3_sub)\n",
    "dv_b_const_K = dv_b.subs(b1_b3_sub)\n",
    "du_a_const_K\n",
    "dv_b_const_K"
   ]
  },
  {
   "cell_type": "code",
   "execution_count": 52,
   "id": "61d3bac2-4453-485d-9a5f-318b6630a682",
   "metadata": {},
   "outputs": [
    {
     "data": {
      "text/latex": [
       "$\\displaystyle \\frac{d}{d z} u{\\left(z \\right)} v{\\left(z \\right)} = a_{1} u{\\left(z \\right)} v^{2}{\\left(z \\right)} + \\left(- a_{0} - a_{3}\\right) u^{2}{\\left(z \\right)} v{\\left(z \\right)} + \\left(a_{0} - a_{3}\\right) v^{3}{\\left(z \\right)} + \\left(a_{1} + 2 b_{0}\\right) u^{3}{\\left(z \\right)}$"
      ],
      "text/plain": [
       "Eq(Derivative(u(z)*v(z), z), a1*u(z)*v(z)**2 + (-a0 - a3)*u(z)**2*v(z) + (a0 - a3)*v(z)**3 + (a1 + 2*b0)*u(z)**3)"
      ]
     },
     "execution_count": 52,
     "metadata": {},
     "output_type": "execute_result"
    }
   ],
   "source": [
    "Eq(Derivative(u(z)*v(z),z), \n",
    "   diff(u(z)*v(z),z).subs([du_a_const_K.args, dv_b_const_K.args]).expand().collect([u(z)**2*v(z), v(z)**2*u(z), u(z)**3, v(z)**3]))"
   ]
  },
  {
   "cell_type": "code",
   "execution_count": 53,
   "id": "a8d6c9dc-de80-48f1-9452-54e131d2fba4",
   "metadata": {},
   "outputs": [
    {
     "data": {
      "text/latex": [
       "$\\displaystyle K = a_{1} u{\\left(z \\right)} v^{2}{\\left(z \\right)} + \\frac{\\left(a_{0} - a_{3}\\right) v^{3}{\\left(z \\right)}}{3} + \\left(a_{0} + a_{3}\\right) u^{2}{\\left(z \\right)} v{\\left(z \\right)} - \\frac{\\left(a_{1} + 2 b_{0}\\right) u^{3}{\\left(z \\right)}}{3} + u{\\left(z \\right)} v{\\left(z \\right)} + \\log{\\left(u{\\left(z \\right)} v{\\left(z \\right)} \\right)} \\beta$"
      ],
      "text/plain": [
       "Eq(K, a1*u(z)*v(z)**2 + (a0 - a3)*v(z)**3/3 + (a0 + a3)*u(z)**2*v(z) - (a1 + 2*b0)*u(z)**3/3 + u(z)*v(z) + log(u(z)*v(z))*beta)"
      ]
     },
     "execution_count": 53,
     "metadata": {},
     "output_type": "execute_result"
    }
   ],
   "source": [
    "K_const_eq"
   ]
  },
  {
   "cell_type": "code",
   "execution_count": 54,
   "id": "bf867160-1d62-4e15-a29c-f79f860b9db8",
   "metadata": {},
   "outputs": [],
   "source": [
    "uv_vec = Matrix([u(z),v(z)])\n",
    "R2 = Matrix([[r[0,0], r[0,1]], [r[1,0], r[1,1]]])\n",
    "W2 = Matrix([[w[0,0], w[0,1]], [w[1,0], w[1,1]]])\n",
    "alpha_matrix = Matrix([[alpha, 0], [0, -alpha]])\n",
    "RW_matrix = Matrix([uv_vec.T * R2 * uv_vec, uv_vec.T * W2 * uv_vec])\n",
    "v_2 = R2 * uv_vec\n",
    "dvec = diff(uv_vec,z)"
   ]
  },
  {
   "cell_type": "code",
   "execution_count": 55,
   "id": "318d3b8a-8799-4a45-859e-38b3ce96719a",
   "metadata": {},
   "outputs": [
    {
     "data": {
      "text/latex": [
       "$\\displaystyle \\left[\\begin{matrix}\\frac{d}{d z} u{\\left(z \\right)}\\\\\\frac{d}{d z} v{\\left(z \\right)}\\end{matrix}\\right] = \\left[\\begin{matrix}\\alpha u{\\left(z \\right)} + \\left(u{\\left(z \\right)} {r}_{0,0} + v{\\left(z \\right)} {r}_{1,0}\\right) u{\\left(z \\right)} + \\left(u{\\left(z \\right)} {r}_{0,1} + v{\\left(z \\right)} {r}_{1,1}\\right) v{\\left(z \\right)}\\\\- \\alpha v{\\left(z \\right)} + \\left(u{\\left(z \\right)} {w}_{0,0} + v{\\left(z \\right)} {w}_{1,0}\\right) u{\\left(z \\right)} + \\left(u{\\left(z \\right)} {w}_{0,1} + v{\\left(z \\right)} {w}_{1,1}\\right) v{\\left(z \\right)}\\end{matrix}\\right]$"
      ],
      "text/plain": [
       "Eq(Matrix([\n",
       "[Derivative(u(z), z)],\n",
       "[Derivative(v(z), z)]]), Matrix([\n",
       "[ alpha*u(z) + (u(z)*r[0, 0] + v(z)*r[1, 0])*u(z) + (u(z)*r[0, 1] + v(z)*r[1, 1])*v(z)],\n",
       "[-alpha*v(z) + (u(z)*w[0, 0] + v(z)*w[1, 0])*u(z) + (u(z)*w[0, 1] + v(z)*w[1, 1])*v(z)]]))"
      ]
     },
     "execution_count": 55,
     "metadata": {},
     "output_type": "execute_result"
    }
   ],
   "source": [
    "dvec_eq = Eq(dvec, alpha_matrix * uv_vec + RW_matrix)\n",
    "dvec_eq"
   ]
  },
  {
   "cell_type": "code",
   "execution_count": 56,
   "id": "b9e9a379-b2a5-4ce9-8d7d-3d3bd4cd6df5",
   "metadata": {},
   "outputs": [
    {
     "data": {
      "text/latex": [
       "$\\displaystyle \\frac{d}{d z} u{\\left(z \\right)} = \\alpha u{\\left(z \\right)} + \\left({r}_{0,1} + {r}_{1,0}\\right) u{\\left(z \\right)} v{\\left(z \\right)} + u^{2}{\\left(z \\right)} {r}_{0,0} + v^{2}{\\left(z \\right)} {r}_{1,1}$"
      ],
      "text/plain": [
       "Eq(Derivative(u(z), z), alpha*u(z) + (r[0, 1] + r[1, 0])*u(z)*v(z) + u(z)**2*r[0, 0] + v(z)**2*r[1, 1])"
      ]
     },
     "execution_count": 56,
     "metadata": {},
     "output_type": "execute_result"
    },
    {
     "data": {
      "text/latex": [
       "$\\displaystyle \\frac{d}{d z} v{\\left(z \\right)} = - \\alpha v{\\left(z \\right)} + \\left({w}_{0,1} + {w}_{1,0}\\right) u{\\left(z \\right)} v{\\left(z \\right)} + u^{2}{\\left(z \\right)} {w}_{0,0} + v^{2}{\\left(z \\right)} {w}_{1,1}$"
      ],
      "text/plain": [
       "Eq(Derivative(v(z), z), -alpha*v(z) + (w[0, 1] + w[1, 0])*u(z)*v(z) + u(z)**2*w[0, 0] + v(z)**2*w[1, 1])"
      ]
     },
     "execution_count": 56,
     "metadata": {},
     "output_type": "execute_result"
    }
   ],
   "source": [
    "uv_eqs_2matrix = [Eq(dvec_eq.lhs[i], dvec_eq.rhs[i].expand().collect([u(z),v(z), u(z)*v(z), u(z)**2, v(z)**2])) for i in range(2)]\n",
    "for eq in uv_eqs_2matrix:\n",
    "    eq"
   ]
  },
  {
   "cell_type": "code",
   "execution_count": 57,
   "id": "93703bb2-aa79-464b-b8e3-6633f53d8631",
   "metadata": {},
   "outputs": [
    {
     "data": {
      "text/latex": [
       "$\\displaystyle \\left[\\begin{matrix}0 & {r}_{0,1}\\\\\\delta - {r}_{0,1} & 0\\end{matrix}\\right]$"
      ],
      "text/plain": [
       "Matrix([\n",
       "[              0, r[0, 1]],\n",
       "[delta - r[0, 1],       0]])"
      ]
     },
     "execution_count": 57,
     "metadata": {},
     "output_type": "execute_result"
    },
    {
     "data": {
      "text/latex": [
       "$\\displaystyle \\left[\\begin{matrix}0 & {w}_{0,1}\\\\\\delta - {w}_{0,1} & 0\\end{matrix}\\right]$"
      ],
      "text/plain": [
       "Matrix([\n",
       "[              0, w[0, 1]],\n",
       "[delta - w[0, 1],       0]])"
      ]
     },
     "execution_count": 57,
     "metadata": {},
     "output_type": "execute_result"
    },
    {
     "data": {
      "text/latex": [
       "$\\displaystyle \\left[\\begin{matrix}\\delta {r}_{0,1} - \\delta {w}_{0,1} & 0\\\\0 & - \\delta {r}_{0,1} + \\delta {w}_{0,1}\\end{matrix}\\right]$"
      ],
      "text/plain": [
       "Matrix([\n",
       "[delta*r[0, 1] - delta*w[0, 1],                              0],\n",
       "[                            0, -delta*r[0, 1] + delta*w[0, 1]]])"
      ]
     },
     "execution_count": 57,
     "metadata": {},
     "output_type": "execute_result"
    },
    {
     "data": {
      "text/latex": [
       "$\\displaystyle \\frac{d}{d z} u{\\left(z \\right)} = \\alpha u{\\left(z \\right)} + \\delta u{\\left(z \\right)} v{\\left(z \\right)}$"
      ],
      "text/plain": [
       "Eq(Derivative(u(z), z), alpha*u(z) + delta*u(z)*v(z))"
      ]
     },
     "execution_count": 57,
     "metadata": {},
     "output_type": "execute_result"
    },
    {
     "data": {
      "text/latex": [
       "$\\displaystyle \\frac{d}{d z} v{\\left(z \\right)} = - \\alpha v{\\left(z \\right)} + \\delta u{\\left(z \\right)} v{\\left(z \\right)}$"
      ],
      "text/plain": [
       "Eq(Derivative(v(z), z), -alpha*v(z) + delta*u(z)*v(z))"
      ]
     },
     "execution_count": 57,
     "metadata": {},
     "output_type": "execute_result"
    }
   ],
   "source": [
    "# LV case\n",
    "lv_subs = [(r[0,0],0), (r[1,1], 0), (w[0,0],0), (w[1,1], 0), (r[1,0], delta - r[0,1]), (w[1,0], delta - w[0,1])]\n",
    "R2.subs(lv_subs)\n",
    "W2.subs(lv_subs)\n",
    "(R2*W2 - W2*R2).subs(lv_subs).expand()\n",
    "for eq in uv_eqs_2matrix:\n",
    "    eq.subs(lv_subs)"
   ]
  },
  {
   "cell_type": "code",
   "execution_count": 58,
   "id": "357b525f-fd2d-4152-a455-1a8b3c1a3473",
   "metadata": {},
   "outputs": [
    {
     "data": {
      "text/latex": [
       "$\\displaystyle \\frac{d}{d z} u{\\left(z \\right)} = \\alpha u{\\left(z \\right)} + \\delta u{\\left(z \\right)} v{\\left(z \\right)}$"
      ],
      "text/plain": [
       "Eq(Derivative(u(z), z), alpha*u(z) + delta*u(z)*v(z))"
      ]
     },
     "execution_count": 58,
     "metadata": {},
     "output_type": "execute_result"
    }
   ],
   "source": [
    "uv_eqs_2matrix[0].subs(lv_subs)"
   ]
  },
  {
   "cell_type": "code",
   "execution_count": 59,
   "id": "3dc94ff0-690f-46df-a8fd-02afedf0d75e",
   "metadata": {},
   "outputs": [
    {
     "data": {
      "text/latex": [
       "$\\displaystyle \\operatorname{Qa}{\\left(u{\\left(z \\right)},v{\\left(z \\right)} \\right)} = 2 a_{1} u{\\left(z \\right)} v{\\left(z \\right)} + \\left(a_{0} - a_{3}\\right) v^{2}{\\left(z \\right)} + \\left(a_{0} + a_{3}\\right) u^{2}{\\left(z \\right)}$"
      ],
      "text/plain": [
       "Eq(Qa(u(z), v(z)), 2*a1*u(z)*v(z) + (a0 - a3)*v(z)**2 + (a0 + a3)*u(z)**2)"
      ]
     },
     "execution_count": 59,
     "metadata": {},
     "output_type": "execute_result"
    }
   ],
   "source": [
    "Qa_eq"
   ]
  },
  {
   "cell_type": "code",
   "execution_count": 60,
   "id": "1dfe8b97-3a42-4d85-a24c-34857ea7e8ab",
   "metadata": {},
   "outputs": [
    {
     "data": {
      "text/latex": [
       "$\\displaystyle \\frac{d}{d z} \\operatorname{Qa}{\\left(u{\\left(z \\right)},v{\\left(z \\right)} \\right)} = - 2 \\alpha \\left(a_{0} - a_{3}\\right) v^{2}{\\left(z \\right)} + 2 \\alpha \\left(a_{0} + a_{3}\\right) u^{2}{\\left(z \\right)} + 2 \\delta \\left(a_{0} + a_{1} - a_{3}\\right) u{\\left(z \\right)} v^{2}{\\left(z \\right)} + 2 \\delta \\left(a_{0} + a_{1} + a_{3}\\right) u^{2}{\\left(z \\right)} v{\\left(z \\right)}$"
      ],
      "text/plain": [
       "Eq(Derivative(Qa(u(z), v(z)), z), -2*alpha*(a0 - a3)*v(z)**2 + 2*alpha*(a0 + a3)*u(z)**2 + 2*delta*(a0 + a1 - a3)*u(z)*v(z)**2 + 2*delta*(a0 + a1 + a3)*u(z)**2*v(z))"
      ]
     },
     "execution_count": 60,
     "metadata": {},
     "output_type": "execute_result"
    }
   ],
   "source": [
    "Eq(Derivative(Qa_eq.lhs,z), \n",
    "   diff(Qa_eq.rhs,z).subs([uv_eqs_2matrix[0].subs(lv_subs).args, uv_eqs_2matrix[1].subs(lv_subs).args]).expand().collect([\n",
    "       u(z),v(z),u(z)**3, v(z)**3, u(z)*v(z), u(z)*v(z)**2, v(z)*u(z)**2,\n",
    "   ],factor)\n",
    "  )"
   ]
  },
  {
   "cell_type": "code",
   "execution_count": 61,
   "id": "6745709c-b59f-4b39-a8c1-a508ae3ea4b6",
   "metadata": {},
   "outputs": [
    {
     "data": {
      "text/latex": [
       "$\\displaystyle \\frac{d}{d z} f{\\left(z \\right)} = \\alpha f{\\left(z \\right)} + \\frac{\\delta f{\\left(z \\right)} h{\\left(z \\right)}}{U{\\left(z \\right)}} + \\frac{f{\\left(z \\right)} \\frac{d}{d z} U{\\left(z \\right)}}{U{\\left(z \\right)}}$"
      ],
      "text/plain": [
       "Eq(Derivative(f(z), z), alpha*f(z) + delta*f(z)*h(z)/U(z) + f(z)*Derivative(U(z), z)/U(z))"
      ]
     },
     "execution_count": 61,
     "metadata": {},
     "output_type": "execute_result"
    },
    {
     "data": {
      "text/latex": [
       "$\\displaystyle \\frac{d}{d z} h{\\left(z \\right)} = - \\alpha h{\\left(z \\right)} + \\frac{\\delta f{\\left(z \\right)} h{\\left(z \\right)}}{U{\\left(z \\right)}} + \\frac{h{\\left(z \\right)} \\frac{d}{d z} U{\\left(z \\right)}}{U{\\left(z \\right)}}$"
      ],
      "text/plain": [
       "Eq(Derivative(h(z), z), -alpha*h(z) + delta*f(z)*h(z)/U(z) + h(z)*Derivative(U(z), z)/U(z))"
      ]
     },
     "execution_count": 61,
     "metadata": {},
     "output_type": "execute_result"
    }
   ],
   "source": [
    "fhsolsUV = solve([\n",
    "    uv_eqs_2matrix[0].subs(lv_subs).subs([(u(z),f(z)/U(z)),(v(z),h(z)/U(z))]).doit(),\n",
    "    uv_eqs_2matrix[1].subs(lv_subs).subs([(u(z),f(z)/U(z)),(v(z),h(z)/U(z))]).doit()\n",
    "],[diff(f(z),z),diff(h(z),z)])\n",
    "fhsolsUV_eqs = [Eq(k, fhsolsUV[k]) for k in fhsolsUV]\n",
    "for eq in fhsolsUV_eqs:\n",
    "    eq"
   ]
  },
  {
   "cell_type": "code",
   "execution_count": 62,
   "id": "d0e35915-a8e3-4097-99a7-5e2002c9e309",
   "metadata": {},
   "outputs": [
    {
     "data": {
      "text/latex": [
       "$\\displaystyle \\frac{d}{d z} u{\\left(z \\right)} = \\alpha u{\\left(z \\right)} + \\delta u{\\left(z \\right)} v{\\left(z \\right)}$"
      ],
      "text/plain": [
       "Eq(Derivative(u(z), z), alpha*u(z) + delta*u(z)*v(z))"
      ]
     },
     "execution_count": 62,
     "metadata": {},
     "output_type": "execute_result"
    }
   ],
   "source": [
    "uv_eqs_2matrix[0].subs(lv_subs)"
   ]
  },
  {
   "cell_type": "markdown",
   "id": "1cb415e6-1a0a-4c25-82d3-a30994b3e041",
   "metadata": {},
   "source": [
    "### Exploring biquadratic transformations"
   ]
  },
  {
   "cell_type": "markdown",
   "id": "9e7d038f-213f-426e-97b6-785963ad4d12",
   "metadata": {},
   "source": [
    "Starting with the Lotka-Volterra system:"
   ]
  },
  {
   "cell_type": "code",
   "execution_count": 63,
   "id": "e97b9891-5fa4-4ac4-aeab-047cbd040c13",
   "metadata": {},
   "outputs": [
    {
     "data": {
      "text/latex": [
       "$\\displaystyle \\frac{d}{d z} u{\\left(z \\right)} = 2 a_{1} u{\\left(z \\right)} v{\\left(z \\right)} + u{\\left(z \\right)}$"
      ],
      "text/plain": [
       "Eq(Derivative(u(z), z), 2*a1*u(z)*v(z) + u(z))"
      ]
     },
     "execution_count": 63,
     "metadata": {},
     "output_type": "execute_result"
    },
    {
     "data": {
      "text/latex": [
       "$\\displaystyle \\frac{d}{d z} v{\\left(z \\right)} = 2 b_{1} u{\\left(z \\right)} v{\\left(z \\right)} - v{\\left(z \\right)}$"
      ],
      "text/plain": [
       "Eq(Derivative(v(z), z), 2*b1*u(z)*v(z) - v(z))"
      ]
     },
     "execution_count": 63,
     "metadata": {},
     "output_type": "execute_result"
    }
   ],
   "source": [
    "du_a_log_case_b\n",
    "dv_b_log_case_b"
   ]
  },
  {
   "cell_type": "code",
   "execution_count": 64,
   "id": "e9491b51-8c3e-4cca-a749-3c7f5ff343cc",
   "metadata": {},
   "outputs": [],
   "source": [
    "Qf1 = Function('Qf1')\n",
    "Qf2 = Function('Qf2')\n",
    "Qf3 = Function('Qf3')"
   ]
  },
  {
   "cell_type": "markdown",
   "id": "b2c88936-afd2-4e94-9713-c7a779a7c541",
   "metadata": {},
   "source": [
    "Two new functions are defined as a biquadratic transform of $u(z), v(z)$ where $\\mathrm{Qf1}$ is a quadratic form:"
   ]
  },
  {
   "cell_type": "code",
   "execution_count": 65,
   "id": "1601405e-b8d1-4653-9838-d2872771df1e",
   "metadata": {},
   "outputs": [
    {
     "data": {
      "text/latex": [
       "$\\displaystyle f{\\left(z \\right)} = \\frac{u{\\left(z \\right)}}{\\operatorname{Qf}_{1}{\\left(u{\\left(z \\right)},v{\\left(z \\right)} \\right)}}$"
      ],
      "text/plain": [
       "Eq(f(z), u(z)/Qf1(u(z), v(z)))"
      ]
     },
     "execution_count": 65,
     "metadata": {},
     "output_type": "execute_result"
    },
    {
     "data": {
      "text/latex": [
       "$\\displaystyle h{\\left(z \\right)} = \\frac{v{\\left(z \\right)}}{\\operatorname{Qf}_{1}{\\left(u{\\left(z \\right)},v{\\left(z \\right)} \\right)}}$"
      ],
      "text/plain": [
       "Eq(h(z), v(z)/Qf1(u(z), v(z)))"
      ]
     },
     "execution_count": 65,
     "metadata": {},
     "output_type": "execute_result"
    }
   ],
   "source": [
    "fbiquad = Eq(f(z), u(z)/Qf1(u(z),v(z)))\n",
    "hbiquad = Eq(h(z), v(z)/Qf1(u(z),v(z)))\n",
    "fbiquad\n",
    "hbiquad"
   ]
  },
  {
   "cell_type": "code",
   "execution_count": 66,
   "id": "73bd9a42-2fc7-454c-943d-47bbea90bf6c",
   "metadata": {},
   "outputs": [
    {
     "data": {
      "text/latex": [
       "$\\displaystyle \\operatorname{Qf}_{1}{\\left(u{\\left(z \\right)},v{\\left(z \\right)} \\right)} = 2 c_{1} u{\\left(z \\right)} v{\\left(z \\right)} + \\left(c_{0} - c_{3}\\right) v^{2}{\\left(z \\right)} + \\left(c_{0} + c_{3}\\right) u^{2}{\\left(z \\right)}$"
      ],
      "text/plain": [
       "Eq(Qf1(u(z), v(z)), 2*c1*u(z)*v(z) + (c0 - c3)*v(z)**2 + (c0 + c3)*u(z)**2)"
      ]
     },
     "execution_count": 66,
     "metadata": {},
     "output_type": "execute_result"
    }
   ],
   "source": [
    "C = c0*sigma0 + c1*sigma1 + c3*sigma3\n",
    "Qf1_eq = Eq(Qf1(u(z),v(z)), (uv_vec.T * C * uv_vec)[0].expand().collect([u(z),v(z),u(z)*v(z)]))\n",
    "Qf1_eq"
   ]
  },
  {
   "cell_type": "markdown",
   "id": "90c50651-d903-4ed6-abb7-ba7d56d1258d",
   "metadata": {},
   "source": [
    "Let $\\mathrm{Qf2}, \\mathrm{Qf3}$ be two other quadratic forms such that:"
   ]
  },
  {
   "cell_type": "code",
   "execution_count": 67,
   "id": "81990094-8ee4-4388-82fd-1f968d79c0ba",
   "metadata": {},
   "outputs": [
    {
     "data": {
      "text/latex": [
       "$\\displaystyle \\operatorname{Qf}_{2}{\\left(f{\\left(z \\right)},h{\\left(z \\right)} \\right)} = 2 r_{1} f{\\left(z \\right)} h{\\left(z \\right)} + \\left(r_{0} - r_{3}\\right) h^{2}{\\left(z \\right)} + \\left(r_{0} + r_{3}\\right) f^{2}{\\left(z \\right)}$"
      ],
      "text/plain": [
       "Eq(Qf2(f(z), h(z)), 2*r1*f(z)*h(z) + (r0 - r3)*h(z)**2 + (r0 + r3)*f(z)**2)"
      ]
     },
     "execution_count": 67,
     "metadata": {},
     "output_type": "execute_result"
    },
    {
     "data": {
      "text/latex": [
       "$\\displaystyle \\operatorname{Qf}_{3}{\\left(f{\\left(z \\right)},h{\\left(z \\right)} \\right)} = 2 s_{1} f{\\left(z \\right)} h{\\left(z \\right)} + \\left(s_{0} - s_{3}\\right) h^{2}{\\left(z \\right)} + \\left(s_{0} + s_{3}\\right) f^{2}{\\left(z \\right)}$"
      ],
      "text/plain": [
       "Eq(Qf3(f(z), h(z)), 2*s1*f(z)*h(z) + (s0 - s3)*h(z)**2 + (s0 + s3)*f(z)**2)"
      ]
     },
     "execution_count": 67,
     "metadata": {},
     "output_type": "execute_result"
    }
   ],
   "source": [
    "S = s0*sigma0 + s1*sigma1 + s3*sigma3\n",
    "R = r0*sigma0 + r1*sigma1 + r3*sigma3\n",
    "\n",
    "fh_vec = Matrix([f(z),h(z)])\n",
    "\n",
    "Qf2_eq = Eq(Qf2(f(z),h(z)), (fh_vec.T * R * fh_vec)[0].expand().collect([f(z),h(z),f(z)*h(z)]))\n",
    "Qf3_eq = Eq(Qf3(f(z),h(z)), (fh_vec.T * S * fh_vec)[0].expand().collect([f(z),h(z),f(z)*h(z)]))\n",
    "\n",
    "Qf2_eq\n",
    "Qf3_eq"
   ]
  },
  {
   "cell_type": "markdown",
   "id": "f35b3ee1-8b1e-43c3-89ef-355cf9e13f3c",
   "metadata": {},
   "source": [
    "Suppose the aim is to obtain the following new system, where $\\mathrm{Qf2}, \\mathrm{Qf3}$ are not simply trivially related to the original Lotka-Volterra system, in the hope that this new system is solvable, e.g. with elliptic functions."
   ]
  },
  {
   "cell_type": "code",
   "execution_count": 68,
   "id": "94aec646-c763-4188-82f2-4eb3ebe4cbd3",
   "metadata": {},
   "outputs": [
    {
     "data": {
      "text/latex": [
       "$\\displaystyle \\frac{d}{d z} f{\\left(z \\right)} = \\operatorname{Qf}_{2}{\\left(f{\\left(z \\right)},h{\\left(z \\right)} \\right)} + f{\\left(z \\right)}$"
      ],
      "text/plain": [
       "Eq(Derivative(f(z), z), Qf2(f(z), h(z)) + f(z))"
      ]
     },
     "execution_count": 68,
     "metadata": {},
     "output_type": "execute_result"
    },
    {
     "data": {
      "text/latex": [
       "$\\displaystyle \\frac{d}{d z} h{\\left(z \\right)} = \\operatorname{Qf}_{3}{\\left(f{\\left(z \\right)},h{\\left(z \\right)} \\right)} - h{\\left(z \\right)}$"
      ],
      "text/plain": [
       "Eq(Derivative(h(z), z), Qf3(f(z), h(z)) - h(z))"
      ]
     },
     "execution_count": 68,
     "metadata": {},
     "output_type": "execute_result"
    }
   ],
   "source": [
    "dfq = Eq(diff(f(z),z), f(z) + Qf2(f(z),h(z)))\n",
    "dhq = Eq(diff(h(z),z), -h(z) + Qf3(f(z),h(z)))\n",
    "dfq\n",
    "dhq"
   ]
  },
  {
   "cell_type": "markdown",
   "id": "3f144bbd-d9f8-4c12-836e-ffb48ae6102d",
   "metadata": {},
   "source": [
    "The following identity is note worthy:"
   ]
  },
  {
   "cell_type": "code",
   "execution_count": 69,
   "id": "1b85c3e7-360f-44eb-bfd8-801bc100469d",
   "metadata": {},
   "outputs": [
    {
     "data": {
      "text/latex": [
       "$\\displaystyle \\operatorname{Qf}_{2}{\\left(f{\\left(z \\right)},h{\\left(z \\right)} \\right)} = \\frac{2 r_{1} u{\\left(z \\right)} v{\\left(z \\right)}}{\\operatorname{Qf}_{1}^{2}{\\left(u{\\left(z \\right)},v{\\left(z \\right)} \\right)}} + \\frac{\\left(r_{0} - r_{3}\\right) v^{2}{\\left(z \\right)}}{\\operatorname{Qf}_{1}^{2}{\\left(u{\\left(z \\right)},v{\\left(z \\right)} \\right)}} + \\frac{\\left(r_{0} + r_{3}\\right) u^{2}{\\left(z \\right)}}{\\operatorname{Qf}_{1}^{2}{\\left(u{\\left(z \\right)},v{\\left(z \\right)} \\right)}}$"
      ],
      "text/plain": [
       "Eq(Qf2(f(z), h(z)), 2*r1*u(z)*v(z)/Qf1(u(z), v(z))**2 + (r0 - r3)*v(z)**2/Qf1(u(z), v(z))**2 + (r0 + r3)*u(z)**2/Qf1(u(z), v(z))**2)"
      ]
     },
     "execution_count": 69,
     "metadata": {},
     "output_type": "execute_result"
    }
   ],
   "source": [
    "Eq(Qf2_eq.lhs, Qf2_eq.rhs.subs([fbiquad.args, hbiquad.args]))"
   ]
  },
  {
   "cell_type": "code",
   "execution_count": 70,
   "id": "d3accc32-258d-4f78-8267-a460f1ec89e5",
   "metadata": {},
   "outputs": [
    {
     "data": {
      "text/latex": [
       "$\\displaystyle \\operatorname{Qf}_{2}{\\left(f{\\left(z \\right)},h{\\left(z \\right)} \\right)} = \\frac{2 r_{1} u{\\left(z \\right)} v{\\left(z \\right)} + \\left(r_{0} - r_{3}\\right) v^{2}{\\left(z \\right)} + \\left(r_{0} + r_{3}\\right) u^{2}{\\left(z \\right)}}{\\operatorname{Qf}_{1}^{2}{\\left(u{\\left(z \\right)},v{\\left(z \\right)} \\right)}}$"
      ],
      "text/plain": [
       "Eq(Qf2(f(z), h(z)), (2*r1*u(z)*v(z) + (r0 - r3)*v(z)**2 + (r0 + r3)*u(z)**2)/Qf1(u(z), v(z))**2)"
      ]
     },
     "execution_count": 70,
     "metadata": {},
     "output_type": "execute_result"
    }
   ],
   "source": [
    "Eq(Qf2_eq.lhs, Qf2_eq.rhs.subs([(f(z),u(z)), (h(z),v(z))])/Qf1(u(z),v(z))**2)"
   ]
  },
  {
   "cell_type": "code",
   "execution_count": 71,
   "id": "d6f301e5-7d48-4be7-8870-5c977f3974af",
   "metadata": {},
   "outputs": [
    {
     "data": {
      "text/latex": [
       "$\\displaystyle \\operatorname{Qf}_{2}{\\left(f{\\left(z \\right)},h{\\left(z \\right)} \\right)} = \\frac{\\operatorname{Qf}_{2}{\\left(u{\\left(z \\right)},v{\\left(z \\right)} \\right)}}{\\operatorname{Qf}_{1}^{2}{\\left(u{\\left(z \\right)},v{\\left(z \\right)} \\right)}}$"
      ],
      "text/plain": [
       "Eq(Qf2(f(z), h(z)), Qf2(u(z), v(z))/Qf1(u(z), v(z))**2)"
      ]
     },
     "execution_count": 71,
     "metadata": {},
     "output_type": "execute_result"
    }
   ],
   "source": [
    "Qf2_Qf1_eq = Eq(Qf2_eq.lhs, Qf2_eq.lhs.subs([(f(z),u(z)), (h(z),v(z))])/Qf1(u(z),v(z))**2)\n",
    "Qf2_Qf1_eq"
   ]
  },
  {
   "cell_type": "code",
   "execution_count": 72,
   "id": "f207b0e5-a757-48a4-b0d0-4c98e424c22d",
   "metadata": {},
   "outputs": [
    {
     "data": {
      "text/latex": [
       "$\\displaystyle \\frac{d}{d z} f{\\left(z \\right)} = \\frac{2 a_{1} u{\\left(z \\right)} v{\\left(z \\right)} + u{\\left(z \\right)}}{X} + \\frac{\\left(- \\left(2 a_{1} u{\\left(z \\right)} v{\\left(z \\right)} + u{\\left(z \\right)}\\right) \\frac{d}{d u{\\left(z \\right)}} \\operatorname{Qf}_{1}{\\left(u{\\left(z \\right)},v{\\left(z \\right)} \\right)} - \\left(2 b_{1} u{\\left(z \\right)} v{\\left(z \\right)} - v{\\left(z \\right)}\\right) \\frac{d}{d v{\\left(z \\right)}} \\operatorname{Qf}_{1}{\\left(u{\\left(z \\right)},v{\\left(z \\right)} \\right)}\\right) u{\\left(z \\right)}}{X^{2}}$"
      ],
      "text/plain": [
       "Eq(Derivative(f(z), z), (2*a1*u(z)*v(z) + u(z))/X + (-(2*a1*u(z)*v(z) + u(z))*Derivative(Qf1(u(z), v(z)), u(z)) - (2*b1*u(z)*v(z) - v(z))*Derivative(Qf1(u(z), v(z)), v(z)))*u(z)/X**2)"
      ]
     },
     "execution_count": 72,
     "metadata": {},
     "output_type": "execute_result"
    },
    {
     "data": {
      "text/latex": [
       "$\\displaystyle \\frac{d}{d z} h{\\left(z \\right)} = \\frac{2 b_{1} u{\\left(z \\right)} v{\\left(z \\right)} - v{\\left(z \\right)}}{X} + \\frac{\\left(- \\left(2 a_{1} u{\\left(z \\right)} v{\\left(z \\right)} + u{\\left(z \\right)}\\right) \\frac{d}{d u{\\left(z \\right)}} \\operatorname{Qf}_{1}{\\left(u{\\left(z \\right)},v{\\left(z \\right)} \\right)} - \\left(2 b_{1} u{\\left(z \\right)} v{\\left(z \\right)} - v{\\left(z \\right)}\\right) \\frac{d}{d v{\\left(z \\right)}} \\operatorname{Qf}_{1}{\\left(u{\\left(z \\right)},v{\\left(z \\right)} \\right)}\\right) v{\\left(z \\right)}}{X^{2}}$"
      ],
      "text/plain": [
       "Eq(Derivative(h(z), z), (2*b1*u(z)*v(z) - v(z))/X + (-(2*a1*u(z)*v(z) + u(z))*Derivative(Qf1(u(z), v(z)), u(z)) - (2*b1*u(z)*v(z) - v(z))*Derivative(Qf1(u(z), v(z)), v(z)))*v(z)/X**2)"
      ]
     },
     "execution_count": 72,
     "metadata": {},
     "output_type": "execute_result"
    }
   ],
   "source": [
    "dfq_from_uv = (Eq(diff(fbiquad.lhs,z), diff(fbiquad.rhs,z))\n",
    "               .subs([du_a_log_case_b.args, dv_b_log_case_b.args])\n",
    "               .subs([(1/Qf1(u(z),v(z))**2, 1/X**2), (1/Qf1(u(z),v(z)), 1/X)])\n",
    "              # .subs(*Qf1_eq.args).doit()\n",
    "              )\n",
    "dhq_from_uv = (Eq(diff(hbiquad.lhs,z), diff(hbiquad.rhs,z))\n",
    "               .subs([du_a_log_case_b.args, dv_b_log_case_b.args])\n",
    "               .subs([(1/Qf1(u(z),v(z))**2, 1/X**2), (1/Qf1(u(z),v(z)), 1/X)])\n",
    "               # .subs(*Qf1_eq.args).doit()\n",
    "              )\n",
    "\n",
    "dfq_from_uv\n",
    "dhq_from_uv"
   ]
  },
  {
   "cell_type": "code",
   "execution_count": 73,
   "id": "91c1f923-24a4-4042-a18f-73bf6be114b6",
   "metadata": {},
   "outputs": [
    {
     "data": {
      "text/latex": [
       "$\\displaystyle \\frac{d}{d z} f{\\left(z \\right)} = f{\\left(z \\right)} + \\frac{\\operatorname{Qf}_{2}{\\left(u{\\left(z \\right)},v{\\left(z \\right)} \\right)}}{X^{2}}$"
      ],
      "text/plain": [
       "Eq(Derivative(f(z), z), f(z) + Qf2(u(z), v(z))/X**2)"
      ]
     },
     "execution_count": 73,
     "metadata": {},
     "output_type": "execute_result"
    }
   ],
   "source": [
    "dfq_Qf2_X = dfq.subs(*Qf2_Qf1_eq.args).subs([(1/Qf1(u(z),v(z))**2, 1/X**2), (1/Qf1(u(z),v(z)), 1/X)])\n",
    "dfq_Qf2_X"
   ]
  },
  {
   "cell_type": "code",
   "execution_count": 74,
   "id": "e9532bf5-4d19-4305-8ae5-125b4e347a3b",
   "metadata": {},
   "outputs": [
    {
     "data": {
      "text/latex": [
       "$\\displaystyle \\frac{2 a_{1} u{\\left(z \\right)} v{\\left(z \\right)} + u{\\left(z \\right)}}{X} - \\frac{u{\\left(z \\right)}}{X} + \\frac{\\left(- \\left(2 a_{1} u{\\left(z \\right)} v{\\left(z \\right)} + u{\\left(z \\right)}\\right) \\frac{d}{d u{\\left(z \\right)}} \\operatorname{Qf}_{1}{\\left(u{\\left(z \\right)},v{\\left(z \\right)} \\right)} - \\left(2 b_{1} u{\\left(z \\right)} v{\\left(z \\right)} - v{\\left(z \\right)}\\right) \\frac{d}{d v{\\left(z \\right)}} \\operatorname{Qf}_{1}{\\left(u{\\left(z \\right)},v{\\left(z \\right)} \\right)}\\right) u{\\left(z \\right)}}{X^{2}} - \\frac{\\operatorname{Qf}_{2}{\\left(u{\\left(z \\right)},v{\\left(z \\right)} \\right)}}{X^{2}}$"
      ],
      "text/plain": [
       "(2*a1*u(z)*v(z) + u(z))/X - u(z)/X + (-(2*a1*u(z)*v(z) + u(z))*Derivative(Qf1(u(z), v(z)), u(z)) - (2*b1*u(z)*v(z) - v(z))*Derivative(Qf1(u(z), v(z)), v(z)))*u(z)/X**2 - Qf2(u(z), v(z))/X**2"
      ]
     },
     "execution_count": 74,
     "metadata": {},
     "output_type": "execute_result"
    }
   ],
   "source": [
    "Xeq = dfq_from_uv.rhs - dfq_Qf2_X.rhs.subs(*fbiquad.args).subs([(1/Qf1(u(z),v(z))**2, 1/X**2), (1/Qf1(u(z),v(z)), 1/X)])\n",
    "Xeq"
   ]
  },
  {
   "cell_type": "code",
   "execution_count": 75,
   "id": "1e2abafb-a394-4602-816e-32d2eaf2e1a0",
   "metadata": {},
   "outputs": [
    {
     "data": {
      "text/latex": [
       "$\\displaystyle 2 a_{1} \\operatorname{Qf}_{1}{\\left(u{\\left(z \\right)},v{\\left(z \\right)} \\right)} u{\\left(z \\right)} v{\\left(z \\right)} - \\left(2 a_{1} v{\\left(z \\right)} + 1\\right) u^{2}{\\left(z \\right)} \\frac{d}{d u{\\left(z \\right)}} \\operatorname{Qf}_{1}{\\left(u{\\left(z \\right)},v{\\left(z \\right)} \\right)} - \\left(2 b_{1} u{\\left(z \\right)} - 1\\right) u{\\left(z \\right)} v{\\left(z \\right)} \\frac{d}{d v{\\left(z \\right)}} \\operatorname{Qf}_{1}{\\left(u{\\left(z \\right)},v{\\left(z \\right)} \\right)} - \\operatorname{Qf}_{2}{\\left(u{\\left(z \\right)},v{\\left(z \\right)} \\right)}$"
      ],
      "text/plain": [
       "2*a1*Qf1(u(z), v(z))*u(z)*v(z) - (2*a1*v(z) + 1)*u(z)**2*Derivative(Qf1(u(z), v(z)), u(z)) - (2*b1*u(z) - 1)*u(z)*v(z)*Derivative(Qf1(u(z), v(z)), v(z)) - Qf2(u(z), v(z))"
      ]
     },
     "execution_count": 75,
     "metadata": {},
     "output_type": "execute_result"
    }
   ],
   "source": [
    "Qf2_eq_long = (Xeq.simplify()*X**2).subs(X, Qf1_eq.lhs).expand().collect(\n",
    "    [u(z)**3*v(z), v(z)**3*u(z), u(z),v(z),u(z)*v(z), u(z)**2*v(z), v(z)**2*u(z), u(z)**2*v(z)**2]).expand().collect(\n",
    "    [diff(Qf1(u(z),v(z)),u(z)), diff(Qf1(u(z),v(z)),v(z))],factor\n",
    ")\n",
    "Qf2_eq_long"
   ]
  },
  {
   "cell_type": "code",
   "execution_count": 76,
   "id": "69962562-49d4-4366-b631-841644cdbc24",
   "metadata": {},
   "outputs": [
    {
     "data": {
      "text/latex": [
       "$\\displaystyle 2 a_{1} \\operatorname{Qf}_{1}{\\left(u{\\left(z \\right)},v{\\left(z \\right)} \\right)} u{\\left(z \\right)} v{\\left(z \\right)} - 2 a_{1} u^{2}{\\left(z \\right)} v{\\left(z \\right)} \\frac{d}{d u{\\left(z \\right)}} \\operatorname{Qf}_{1}{\\left(u{\\left(z \\right)},v{\\left(z \\right)} \\right)} - 2 b_{1} u^{2}{\\left(z \\right)} v{\\left(z \\right)} \\frac{d}{d v{\\left(z \\right)}} \\operatorname{Qf}_{1}{\\left(u{\\left(z \\right)},v{\\left(z \\right)} \\right)} - \\operatorname{Qf}_{2}{\\left(u{\\left(z \\right)},v{\\left(z \\right)} \\right)} - u^{2}{\\left(z \\right)} \\frac{d}{d u{\\left(z \\right)}} \\operatorname{Qf}_{1}{\\left(u{\\left(z \\right)},v{\\left(z \\right)} \\right)} + u{\\left(z \\right)} v{\\left(z \\right)} \\frac{d}{d v{\\left(z \\right)}} \\operatorname{Qf}_{1}{\\left(u{\\left(z \\right)},v{\\left(z \\right)} \\right)}$"
      ],
      "text/plain": [
       "2*a1*Qf1(u(z), v(z))*u(z)*v(z) - 2*a1*u(z)**2*v(z)*Derivative(Qf1(u(z), v(z)), u(z)) - 2*b1*u(z)**2*v(z)*Derivative(Qf1(u(z), v(z)), v(z)) - Qf2(u(z), v(z)) - u(z)**2*Derivative(Qf1(u(z), v(z)), u(z)) + u(z)*v(z)*Derivative(Qf1(u(z), v(z)), v(z))"
      ]
     },
     "execution_count": 76,
     "metadata": {},
     "output_type": "execute_result"
    }
   ],
   "source": [
    "Qf2_eq_long.subs(c3,c0).expand().collect(u(z)**3*v(z),factor)"
   ]
  },
  {
   "cell_type": "code",
   "execution_count": 77,
   "id": "a2cbe58c-c82a-4914-b2b4-b2bccfc9978b",
   "metadata": {},
   "outputs": [
    {
     "data": {
      "text/latex": [
       "$\\displaystyle 2 a_{1} \\operatorname{Qf}_{1}{\\left(u{\\left(z \\right)},v{\\left(z \\right)} \\right)} u{\\left(z \\right)} v{\\left(z \\right)} - 2 a_{1} u^{2}{\\left(z \\right)} v{\\left(z \\right)} \\frac{d}{d u{\\left(z \\right)}} \\operatorname{Qf}_{1}{\\left(u{\\left(z \\right)},v{\\left(z \\right)} \\right)} - 2 b_{1} u^{2}{\\left(z \\right)} v{\\left(z \\right)} \\frac{d}{d v{\\left(z \\right)}} \\operatorname{Qf}_{1}{\\left(u{\\left(z \\right)},v{\\left(z \\right)} \\right)} - \\operatorname{Qf}_{2}{\\left(u{\\left(z \\right)},v{\\left(z \\right)} \\right)} - u^{2}{\\left(z \\right)} \\frac{d}{d u{\\left(z \\right)}} \\operatorname{Qf}_{1}{\\left(u{\\left(z \\right)},v{\\left(z \\right)} \\right)} + u{\\left(z \\right)} v{\\left(z \\right)} \\frac{d}{d v{\\left(z \\right)}} \\operatorname{Qf}_{1}{\\left(u{\\left(z \\right)},v{\\left(z \\right)} \\right)}$"
      ],
      "text/plain": [
       "2*a1*Qf1(u(z), v(z))*u(z)*v(z) - 2*a1*u(z)**2*v(z)*Derivative(Qf1(u(z), v(z)), u(z)) - 2*b1*u(z)**2*v(z)*Derivative(Qf1(u(z), v(z)), v(z)) - Qf2(u(z), v(z)) - u(z)**2*Derivative(Qf1(u(z), v(z)), u(z)) + u(z)*v(z)*Derivative(Qf1(u(z), v(z)), v(z))"
      ]
     },
     "execution_count": 77,
     "metadata": {},
     "output_type": "execute_result"
    }
   ],
   "source": [
    "Qf2_eq_long.collect([a1,b1,a3],factor)"
   ]
  },
  {
   "cell_type": "markdown",
   "id": "949f17ec-4c6c-45f8-8ddf-36c40994f326",
   "metadata": {},
   "source": [
    "### Bilinear transform"
   ]
  },
  {
   "cell_type": "code",
   "execution_count": 78,
   "id": "72d190c3-6397-4fd0-8865-92f969398465",
   "metadata": {},
   "outputs": [
    {
     "data": {
      "text/latex": [
       "$\\displaystyle \\frac{d}{d z} u{\\left(z \\right)} = 2 a_{1} u{\\left(z \\right)} v{\\left(z \\right)} + u{\\left(z \\right)}$"
      ],
      "text/plain": [
       "Eq(Derivative(u(z), z), 2*a1*u(z)*v(z) + u(z))"
      ]
     },
     "execution_count": 78,
     "metadata": {},
     "output_type": "execute_result"
    },
    {
     "data": {
      "text/latex": [
       "$\\displaystyle \\frac{d}{d z} v{\\left(z \\right)} = 2 b_{1} u{\\left(z \\right)} v{\\left(z \\right)} - v{\\left(z \\right)}$"
      ],
      "text/plain": [
       "Eq(Derivative(v(z), z), 2*b1*u(z)*v(z) - v(z))"
      ]
     },
     "execution_count": 78,
     "metadata": {},
     "output_type": "execute_result"
    }
   ],
   "source": [
    "du_a_log_case_b\n",
    "dv_b_log_case_b"
   ]
  },
  {
   "cell_type": "code",
   "execution_count": 112,
   "id": "11cd1559-0c9d-4c26-9878-1cc86f66a436",
   "metadata": {},
   "outputs": [],
   "source": [
    "rho1 = Symbol('rho1')\n",
    "rho2 = Symbol('rho2')\n",
    "rho3 = Symbol('rho3')\n",
    "rho4 = Symbol('rho4')\n",
    "rho5 = Symbol('rho5')\n",
    "rho6 = Symbol('rho6')\n",
    "rho7 = Symbol('rho7')"
   ]
  },
  {
   "cell_type": "code",
   "execution_count": 374,
   "id": "18c89dc2-9f31-405f-8d3e-5f2949b8c07d",
   "metadata": {},
   "outputs": [
    {
     "data": {
      "text/latex": [
       "$\\displaystyle f{\\left(z \\right)} = \\rho_{3} u{\\left(z \\right)} + \\rho_{4} v{\\left(z \\right)}$"
      ],
      "text/plain": [
       "Eq(f(z), rho3*u(z) + rho4*v(z))"
      ]
     },
     "execution_count": 374,
     "metadata": {},
     "output_type": "execute_result"
    },
    {
     "data": {
      "text/latex": [
       "$\\displaystyle h{\\left(z \\right)} = \\frac{\\rho_{1} u{\\left(z \\right)} + \\rho_{2} v{\\left(z \\right)}}{\\rho_{3} u{\\left(z \\right)} + \\rho_{4} v{\\left(z \\right)}}$"
      ],
      "text/plain": [
       "Eq(h(z), (rho1*u(z) + rho2*v(z))/(rho3*u(z) + rho4*v(z)))"
      ]
     },
     "execution_count": 374,
     "metadata": {},
     "output_type": "execute_result"
    }
   ],
   "source": [
    "# fuvxy = Eq(f(z), 0*rho5 + rho3*u(z)+rho4*v(z))\n",
    "huvxy = Eq(h(z), (rho1*u(z)+rho2*v(z))/(rho3*u(z)+rho4*v(z)))\n",
    "# huvxy = Eq(h(z), 0*rho6 + rho1*u(z)+rho2*v(z))\n",
    "\n",
    "fuvxy\n",
    "huvxy"
   ]
  },
  {
   "cell_type": "code",
   "execution_count": 375,
   "id": "6bc7c1b8-9bd3-46b2-9ebb-70ec3f3e4e89",
   "metadata": {},
   "outputs": [
    {
     "data": {
      "text/latex": [
       "$\\displaystyle u{\\left(z \\right)} = \\frac{\\left(- \\rho_{2} + \\rho_{4} h{\\left(z \\right)}\\right) f{\\left(z \\right)}}{\\rho_{1} \\rho_{4} - \\rho_{2} \\rho_{3}}$"
      ],
      "text/plain": [
       "Eq(u(z), (-rho2 + rho4*h(z))*f(z)/(rho1*rho4 - rho2*rho3))"
      ]
     },
     "execution_count": 375,
     "metadata": {},
     "output_type": "execute_result"
    },
    {
     "data": {
      "text/latex": [
       "$\\displaystyle v{\\left(z \\right)} = \\frac{\\left(\\rho_{1} - \\rho_{3} h{\\left(z \\right)}\\right) f{\\left(z \\right)}}{\\rho_{1} \\rho_{4} - \\rho_{2} \\rho_{3}}$"
      ],
      "text/plain": [
       "Eq(v(z), (rho1 - rho3*h(z))*f(z)/(rho1*rho4 - rho2*rho3))"
      ]
     },
     "execution_count": 375,
     "metadata": {},
     "output_type": "execute_result"
    }
   ],
   "source": [
    "uv_bilinear_fh = solve([fuvxy,huvxy],[u(z),v(z)])\n",
    "uv_bilinear_fh_eqs = [Eq(_k, uv_bilinear_fh[_k]) for _k in uv_bilinear_fh]\n",
    "for eq in uv_bilinear_fh_eqs:\n",
    "    eq "
   ]
  },
  {
   "cell_type": "code",
   "execution_count": 193,
   "id": "cae78447-489b-4e86-bc98-5652fb41e1a3",
   "metadata": {},
   "outputs": [],
   "source": [
    "\n",
    "uv_as_fh_bilinear_subs = [(_k, uv_bilinear_fh[_k]) for _k in uv_bilinear_fh]\n",
    "fh_diff_sols = solve([\n",
    "    du_a_log_case_b.subs(uv_as_fh_bilinear_subs).doit(),dv_b_log_case_b.subs(uv_as_fh_bilinear_subs).doit()\n",
    "],[diff(f(z),z), diff(h(z),z)])"
   ]
  },
  {
   "cell_type": "code",
   "execution_count": 194,
   "id": "9f22b7a2-2ddc-40b9-9d08-a1feb5680500",
   "metadata": {
    "scrolled": true
   },
   "outputs": [
    {
     "data": {
      "text/latex": [
       "$\\displaystyle \\frac{d}{d z} f{\\left(z \\right)} = - \\frac{2 \\rho_{1} \\rho_{2} \\left(a_{1} \\rho_{3} + b_{1} \\rho_{4}\\right) f^{2}{\\left(z \\right)}}{\\left(\\rho_{1} \\rho_{4} - \\rho_{2} \\rho_{3}\\right)^{2}} - \\frac{2 \\rho_{3} \\rho_{4} \\left(a_{1} \\rho_{3} + b_{1} \\rho_{4}\\right) h^{2}{\\left(z \\right)}}{\\left(\\rho_{1} \\rho_{4} - \\rho_{2} \\rho_{3}\\right)^{2}} + \\frac{2 \\rho_{3} \\rho_{4} h{\\left(z \\right)}}{\\rho_{1} \\rho_{4} - \\rho_{2} \\rho_{3}} + \\frac{2 \\left(a_{1} \\rho_{3} + b_{1} \\rho_{4}\\right) \\left(\\rho_{1} \\rho_{4} + \\rho_{2} \\rho_{3}\\right) f{\\left(z \\right)} h{\\left(z \\right)}}{\\left(\\rho_{1} \\rho_{4} - \\rho_{2} \\rho_{3}\\right)^{2}} - \\frac{\\left(\\rho_{1} \\rho_{4} + \\rho_{2} \\rho_{3}\\right) f{\\left(z \\right)}}{\\rho_{1} \\rho_{4} - \\rho_{2} \\rho_{3}}$"
      ],
      "text/plain": [
       "Eq(Derivative(f(z), z), -2*rho1*rho2*(a1*rho3 + b1*rho4)*f(z)**2/(rho1*rho4 - rho2*rho3)**2 - 2*rho3*rho4*(a1*rho3 + b1*rho4)*h(z)**2/(rho1*rho4 - rho2*rho3)**2 + 2*rho3*rho4*h(z)/(rho1*rho4 - rho2*rho3) + 2*(a1*rho3 + b1*rho4)*(rho1*rho4 + rho2*rho3)*f(z)*h(z)/(rho1*rho4 - rho2*rho3)**2 - (rho1*rho4 + rho2*rho3)*f(z)/(rho1*rho4 - rho2*rho3))"
      ]
     },
     "execution_count": 194,
     "metadata": {},
     "output_type": "execute_result"
    },
    {
     "data": {
      "text/latex": [
       "$\\displaystyle \\frac{d}{d z} h{\\left(z \\right)} = - \\frac{2 \\rho_{1} \\rho_{2} \\left(a_{1} \\rho_{1} + b_{1} \\rho_{2}\\right) f^{2}{\\left(z \\right)}}{\\left(\\rho_{1} \\rho_{4} - \\rho_{2} \\rho_{3}\\right)^{2}} - \\frac{2 \\rho_{1} \\rho_{2} f{\\left(z \\right)}}{\\rho_{1} \\rho_{4} - \\rho_{2} \\rho_{3}} - \\frac{2 \\rho_{3} \\rho_{4} \\left(a_{1} \\rho_{1} + b_{1} \\rho_{2}\\right) h^{2}{\\left(z \\right)}}{\\left(\\rho_{1} \\rho_{4} - \\rho_{2} \\rho_{3}\\right)^{2}} + \\frac{2 \\left(a_{1} \\rho_{1} + b_{1} \\rho_{2}\\right) \\left(\\rho_{1} \\rho_{4} + \\rho_{2} \\rho_{3}\\right) f{\\left(z \\right)} h{\\left(z \\right)}}{\\left(\\rho_{1} \\rho_{4} - \\rho_{2} \\rho_{3}\\right)^{2}} + \\frac{\\left(\\rho_{1} \\rho_{4} + \\rho_{2} \\rho_{3}\\right) h{\\left(z \\right)}}{\\rho_{1} \\rho_{4} - \\rho_{2} \\rho_{3}}$"
      ],
      "text/plain": [
       "Eq(Derivative(h(z), z), -2*rho1*rho2*(a1*rho1 + b1*rho2)*f(z)**2/(rho1*rho4 - rho2*rho3)**2 - 2*rho1*rho2*f(z)/(rho1*rho4 - rho2*rho3) - 2*rho3*rho4*(a1*rho1 + b1*rho2)*h(z)**2/(rho1*rho4 - rho2*rho3)**2 + 2*(a1*rho1 + b1*rho2)*(rho1*rho4 + rho2*rho3)*f(z)*h(z)/(rho1*rho4 - rho2*rho3)**2 + (rho1*rho4 + rho2*rho3)*h(z)/(rho1*rho4 - rho2*rho3))"
      ]
     },
     "execution_count": 194,
     "metadata": {},
     "output_type": "execute_result"
    }
   ],
   "source": [
    "fh_eqs_blin_factored = [Eq(_k, fh_diff_sols[_k].simplify().expand().collect([f(z),h(z), f(z)*h(z)], factor)) for _k in fh_diff_sols]\n",
    "for eq in fh_eqs_blin_factored:\n",
    "    eq"
   ]
  },
  {
   "cell_type": "code",
   "execution_count": 171,
   "id": "8f08794b-d4a2-4d71-bba5-227375c502ab",
   "metadata": {},
   "outputs": [],
   "source": [
    "# rho_subs = [(rho4, -a1*rho1/b1), (rho2, a1*rho1/b1), (rho3,rho1), (rho5,0), (rho1, b1)]"
   ]
  },
  {
   "cell_type": "code",
   "execution_count": 196,
   "id": "d58524ed-d079-436c-83f0-5fb8df522332",
   "metadata": {},
   "outputs": [
    {
     "data": {
      "text/latex": [
       "$\\displaystyle \\frac{d}{d z} f{\\left(z \\right)} = - \\frac{2 \\rho_{1} \\rho_{2} \\left(a_{1} \\rho_{3} + b_{1} \\rho_{4}\\right) f^{2}{\\left(z \\right)}}{\\left(\\rho_{1} \\rho_{4} - \\rho_{2} \\rho_{3}\\right)^{2}} - \\frac{2 \\rho_{3} \\rho_{4} \\left(a_{1} \\rho_{3} + b_{1} \\rho_{4}\\right) h^{2}{\\left(z \\right)}}{\\left(\\rho_{1} \\rho_{4} - \\rho_{2} \\rho_{3}\\right)^{2}} + \\frac{2 \\rho_{3} \\rho_{4} h{\\left(z \\right)}}{\\rho_{1} \\rho_{4} - \\rho_{2} \\rho_{3}} + \\frac{2 \\left(a_{1} \\rho_{3} + b_{1} \\rho_{4}\\right) \\left(\\rho_{1} \\rho_{4} + \\rho_{2} \\rho_{3}\\right) f{\\left(z \\right)} h{\\left(z \\right)}}{\\left(\\rho_{1} \\rho_{4} - \\rho_{2} \\rho_{3}\\right)^{2}} - \\frac{\\left(\\rho_{1} \\rho_{4} + \\rho_{2} \\rho_{3}\\right) f{\\left(z \\right)}}{\\rho_{1} \\rho_{4} - \\rho_{2} \\rho_{3}}$"
      ],
      "text/plain": [
       "Eq(Derivative(f(z), z), -2*rho1*rho2*(a1*rho3 + b1*rho4)*f(z)**2/(rho1*rho4 - rho2*rho3)**2 - 2*rho3*rho4*(a1*rho3 + b1*rho4)*h(z)**2/(rho1*rho4 - rho2*rho3)**2 + 2*rho3*rho4*h(z)/(rho1*rho4 - rho2*rho3) + 2*(a1*rho3 + b1*rho4)*(rho1*rho4 + rho2*rho3)*f(z)*h(z)/(rho1*rho4 - rho2*rho3)**2 - (rho1*rho4 + rho2*rho3)*f(z)/(rho1*rho4 - rho2*rho3))"
      ]
     },
     "execution_count": 196,
     "metadata": {},
     "output_type": "execute_result"
    }
   ],
   "source": [
    "fh1_eq = fh_eqs_blin_factored[0]#.subs(rho_subs).simplify()\n",
    "fh1_eq"
   ]
  },
  {
   "cell_type": "code",
   "execution_count": 197,
   "id": "98c56a41-0401-440d-abb4-ec4fa433c21f",
   "metadata": {},
   "outputs": [
    {
     "data": {
      "text/latex": [
       "$\\displaystyle \\frac{d}{d z} h{\\left(z \\right)} = - \\frac{2 \\rho_{1} \\rho_{2} \\left(a_{1} \\rho_{1} + b_{1} \\rho_{2}\\right) f^{2}{\\left(z \\right)}}{\\left(\\rho_{1} \\rho_{4} - \\rho_{2} \\rho_{3}\\right)^{2}} - \\frac{2 \\rho_{1} \\rho_{2} f{\\left(z \\right)}}{\\rho_{1} \\rho_{4} - \\rho_{2} \\rho_{3}} - \\frac{2 \\rho_{3} \\rho_{4} \\left(a_{1} \\rho_{1} + b_{1} \\rho_{2}\\right) h^{2}{\\left(z \\right)}}{\\left(\\rho_{1} \\rho_{4} - \\rho_{2} \\rho_{3}\\right)^{2}} + \\frac{2 \\left(a_{1} \\rho_{1} + b_{1} \\rho_{2}\\right) \\left(\\rho_{1} \\rho_{4} + \\rho_{2} \\rho_{3}\\right) f{\\left(z \\right)} h{\\left(z \\right)}}{\\left(\\rho_{1} \\rho_{4} - \\rho_{2} \\rho_{3}\\right)^{2}} + \\frac{\\left(\\rho_{1} \\rho_{4} + \\rho_{2} \\rho_{3}\\right) h{\\left(z \\right)}}{\\rho_{1} \\rho_{4} - \\rho_{2} \\rho_{3}}$"
      ],
      "text/plain": [
       "Eq(Derivative(h(z), z), -2*rho1*rho2*(a1*rho1 + b1*rho2)*f(z)**2/(rho1*rho4 - rho2*rho3)**2 - 2*rho1*rho2*f(z)/(rho1*rho4 - rho2*rho3) - 2*rho3*rho4*(a1*rho1 + b1*rho2)*h(z)**2/(rho1*rho4 - rho2*rho3)**2 + 2*(a1*rho1 + b1*rho2)*(rho1*rho4 + rho2*rho3)*f(z)*h(z)/(rho1*rho4 - rho2*rho3)**2 + (rho1*rho4 + rho2*rho3)*h(z)/(rho1*rho4 - rho2*rho3))"
      ]
     },
     "execution_count": 197,
     "metadata": {},
     "output_type": "execute_result"
    }
   ],
   "source": [
    "fh2_eq = fh_eqs_blin_factored[1]#.subs(rho_subs).simplify()\n",
    "fh2_eq"
   ]
  },
  {
   "cell_type": "code",
   "execution_count": 201,
   "id": "7e7196f7-2e5e-45dd-98ef-94e0ae90c6bc",
   "metadata": {},
   "outputs": [
    {
     "data": {
      "text/latex": [
       "$\\displaystyle - \\frac{2 \\rho_{1} \\rho_{2} \\left(a_{1} \\rho_{1} + b_{1} \\rho_{2}\\right) f^{3}{\\left(z \\right)}}{\\left(\\rho_{1} \\rho_{4} - \\rho_{2} \\rho_{3}\\right)^{2}} - \\frac{2 \\rho_{1} \\rho_{2} f^{2}{\\left(z \\right)}}{\\rho_{1} \\rho_{4} - \\rho_{2} \\rho_{3}} - \\frac{2 \\rho_{3} \\rho_{4} \\left(a_{1} \\rho_{3} + b_{1} \\rho_{4}\\right) h^{3}{\\left(z \\right)}}{\\left(\\rho_{1} \\rho_{4} - \\rho_{2} \\rho_{3}\\right)^{2}} + \\frac{2 \\rho_{3} \\rho_{4} h^{2}{\\left(z \\right)}}{\\rho_{1} \\rho_{4} - \\rho_{2} \\rho_{3}} + \\frac{2 \\left(a_{1} \\rho_{1}^{2} \\rho_{4} + b_{1} \\rho_{2}^{2} \\rho_{3}\\right) f^{2}{\\left(z \\right)} h{\\left(z \\right)}}{\\left(\\rho_{1} \\rho_{4} - \\rho_{2} \\rho_{3}\\right)^{2}} + \\frac{2 \\left(a_{1} \\rho_{2} \\rho_{3}^{2} + b_{1} \\rho_{1} \\rho_{4}^{2}\\right) f{\\left(z \\right)} h^{2}{\\left(z \\right)}}{\\left(\\rho_{1} \\rho_{4} - \\rho_{2} \\rho_{3}\\right)^{2}}$"
      ],
      "text/plain": [
       "-2*rho1*rho2*(a1*rho1 + b1*rho2)*f(z)**3/(rho1*rho4 - rho2*rho3)**2 - 2*rho1*rho2*f(z)**2/(rho1*rho4 - rho2*rho3) - 2*rho3*rho4*(a1*rho3 + b1*rho4)*h(z)**3/(rho1*rho4 - rho2*rho3)**2 + 2*rho3*rho4*h(z)**2/(rho1*rho4 - rho2*rho3) + 2*(a1*rho1**2*rho4 + b1*rho2**2*rho3)*f(z)**2*h(z)/(rho1*rho4 - rho2*rho3)**2 + 2*(a1*rho2*rho3**2 + b1*rho1*rho4**2)*f(z)*h(z)**2/(rho1*rho4 - rho2*rho3)**2"
      ]
     },
     "execution_count": 201,
     "metadata": {},
     "output_type": "execute_result"
    }
   ],
   "source": [
    "(fh1_eq.rhs*h(z) + fh2_eq.rhs*f(z)).expand().collect([f(z),h(z), f(z)*h(z)], factor)"
   ]
  },
  {
   "cell_type": "code",
   "execution_count": 174,
   "id": "b6e5420a-1070-484a-9793-b2d605c3398b",
   "metadata": {},
   "outputs": [
    {
     "data": {
      "text/latex": [
       "$\\displaystyle \\frac{d}{d z} u{\\left(z \\right)} = 2 a_{1} u{\\left(z \\right)} v{\\left(z \\right)} + u{\\left(z \\right)}$"
      ],
      "text/plain": [
       "Eq(Derivative(u(z), z), 2*a1*u(z)*v(z) + u(z))"
      ]
     },
     "execution_count": 174,
     "metadata": {},
     "output_type": "execute_result"
    },
    {
     "data": {
      "text/latex": [
       "$\\displaystyle \\frac{d}{d z} v{\\left(z \\right)} = 2 b_{1} u{\\left(z \\right)} v{\\left(z \\right)} - v{\\left(z \\right)}$"
      ],
      "text/plain": [
       "Eq(Derivative(v(z), z), 2*b1*u(z)*v(z) - v(z))"
      ]
     },
     "execution_count": 174,
     "metadata": {},
     "output_type": "execute_result"
    }
   ],
   "source": [
    "du_a_log_case_b\n",
    "dv_b_log_case_b"
   ]
  },
  {
   "cell_type": "code",
   "execution_count": 270,
   "id": "468bc28e-db1e-4093-9d9b-36926d5fc565",
   "metadata": {},
   "outputs": [
    {
     "data": {
      "text/latex": [
       "$\\displaystyle 2 b_{1} u^{3}{\\left(z \\right)} - 2 b_{1} u^{2}{\\left(z \\right)} \\frac{d}{d z} u{\\left(z \\right)} - u^{2}{\\left(z \\right)} + u{\\left(z \\right)} \\frac{d}{d z} u{\\left(z \\right)} + u{\\left(z \\right)} \\frac{d^{2}}{d z^{2}} u{\\left(z \\right)} - \\left(\\frac{d}{d z} u{\\left(z \\right)}\\right)^{2} = 0$"
      ],
      "text/plain": [
       "Eq(2*b1*u(z)**3 - 2*b1*u(z)**2*Derivative(u(z), z) - u(z)**2 + u(z)*Derivative(u(z), z) + u(z)*Derivative(u(z), (z, 2)) - Derivative(u(z), z)**2, 0)"
      ]
     },
     "execution_count": 270,
     "metadata": {},
     "output_type": "execute_result"
    }
   ],
   "source": [
    "ueq_alone = Eq((dv_b_log_case_b.lhs - dv_b_log_case_b.rhs)*u(z)**2*2*a1,0).subs(v(z),solve(du_a_log_case_b,v(z))[0]).doit().expand()\n",
    "ueq_alone"
   ]
  },
  {
   "cell_type": "code",
   "execution_count": 206,
   "id": "ddc0c247-108d-47dc-8405-09ba708ec99a",
   "metadata": {},
   "outputs": [
    {
     "data": {
      "text/latex": [
       "$\\displaystyle \\frac{d}{d z} u{\\left(z \\right)} v{\\left(z \\right)} = 2 a_{1} u{\\left(z \\right)} v^{2}{\\left(z \\right)} - 2 b_{1} u^{2}{\\left(z \\right)} v{\\left(z \\right)} + 2 u{\\left(z \\right)} v{\\left(z \\right)}$"
      ],
      "text/plain": [
       "Eq(Derivative(u(z)*v(z), z), 2*a1*u(z)*v(z)**2 - 2*b1*u(z)**2*v(z) + 2*u(z)*v(z))"
      ]
     },
     "execution_count": 206,
     "metadata": {},
     "output_type": "execute_result"
    }
   ],
   "source": [
    "duv = Eq(Derivative(u(z)*v(z),z), (du_a_log_case_b.rhs*v(z) - dv_b_log_case_b.rhs*u(z)).expand())\n",
    "duv"
   ]
  },
  {
   "cell_type": "code",
   "execution_count": 212,
   "id": "4819c60f-0f98-4f7b-b13a-ad3f0526fffc",
   "metadata": {},
   "outputs": [
    {
     "data": {
      "text/latex": [
       "$\\displaystyle \\frac{d^{2}}{d z^{2}} u{\\left(z \\right)} v{\\left(z \\right)} = 4 a_{1}^{2} u{\\left(z \\right)} v^{3}{\\left(z \\right)} + 16 a_{1} b_{1} u^{2}{\\left(z \\right)} v^{2}{\\left(z \\right)} - 2 a_{1} u{\\left(z \\right)} v^{2}{\\left(z \\right)} + 4 b_{1}^{2} u^{3}{\\left(z \\right)} v{\\left(z \\right)} + 2 b_{1} u^{2}{\\left(z \\right)} v{\\left(z \\right)}$"
      ],
      "text/plain": [
       "Eq(Derivative(u(z)*v(z), (z, 2)), 4*a1**2*u(z)*v(z)**3 + 16*a1*b1*u(z)**2*v(z)**2 - 2*a1*u(z)*v(z)**2 + 4*b1**2*u(z)**3*v(z) + 2*b1*u(z)**2*v(z))"
      ]
     },
     "execution_count": 212,
     "metadata": {},
     "output_type": "execute_result"
    }
   ],
   "source": [
    "duv2 = Eq(Derivative(u(z)*v(z),z,2), \n",
    "          diff(u(z)*v(z),z,2).subs([du_a_log_case_b.args, dv_b_log_case_b.args]).doit().subs([du_a_log_case_b.args, dv_b_log_case_b.args]).expand()\n",
    "         )\n",
    "duv2"
   ]
  },
  {
   "cell_type": "code",
   "execution_count": 220,
   "id": "932a0c19-9620-4565-8b30-e6c57ea66181",
   "metadata": {},
   "outputs": [
    {
     "data": {
      "text/latex": [
       "$\\displaystyle \\left(\\frac{d}{d z} u{\\left(z \\right)} v{\\left(z \\right)}\\right)^{2} = 4 \\left(a_{1} v{\\left(z \\right)} - b_{1} u{\\left(z \\right)} + 1\\right)^{2} u^{2}{\\left(z \\right)} v^{2}{\\left(z \\right)}$"
      ],
      "text/plain": [
       "Eq(Derivative(u(z)*v(z), z)**2, 4*(a1*v(z) - b1*u(z) + 1)**2*u(z)**2*v(z)**2)"
      ]
     },
     "execution_count": 220,
     "metadata": {},
     "output_type": "execute_result"
    }
   ],
   "source": [
    "duv_sqrd = Eq(duv.lhs**2, (duv.rhs**2).expand().factor())\n",
    "duv_sqrd"
   ]
  },
  {
   "cell_type": "code",
   "execution_count": 231,
   "id": "ebd6a1f9-93fc-47b0-a0a1-554440604085",
   "metadata": {},
   "outputs": [
    {
     "data": {
      "text/latex": [
       "$\\displaystyle \\frac{d}{d z} u{\\left(z \\right)} v{\\left(z \\right)} + \\frac{d^{2}}{d z^{2}} u{\\left(z \\right)} v{\\left(z \\right)} = 16 a_{1} b_{1} u^{2}{\\left(z \\right)} v^{2}{\\left(z \\right)} + 2 \\cdot \\left(2 a_{1}^{2} v^{2}{\\left(z \\right)} + 2 b_{1}^{2} u^{2}{\\left(z \\right)} + 1\\right) u{\\left(z \\right)} v{\\left(z \\right)}$"
      ],
      "text/plain": [
       "Eq(Derivative(u(z)*v(z), z) + Derivative(u(z)*v(z), (z, 2)), 16*a1*b1*u(z)**2*v(z)**2 + 2*(2*a1**2*v(z)**2 + 2*b1**2*u(z)**2 + 1)*u(z)*v(z))"
      ]
     },
     "execution_count": 231,
     "metadata": {},
     "output_type": "execute_result"
    }
   ],
   "source": [
    "Eq(duv2.lhs + duv.lhs,(duv2.rhs + duv.rhs).collect([u(z)*v(z)],factor))"
   ]
  },
  {
   "cell_type": "code",
   "execution_count": 230,
   "id": "64c7e45c-50a3-46a5-b086-ee875c51e17a",
   "metadata": {},
   "outputs": [
    {
     "data": {
      "text/latex": [
       "$\\displaystyle 2 a_{1}^{2} v^{2}{\\left(z \\right)} + 2 b_{1}^{2} u^{2}{\\left(z \\right)} + 1 = 4 a_{1} b_{1} u{\\left(z \\right)} v{\\left(z \\right)} + 3 - \\frac{2 \\frac{d}{d z} u{\\left(z \\right)} v{\\left(z \\right)}}{u{\\left(z \\right)} v{\\left(z \\right)}} + \\frac{\\left(\\frac{d}{d z} u{\\left(z \\right)} v{\\left(z \\right)}\\right)^{2}}{2 u^{2}{\\left(z \\right)} v^{2}{\\left(z \\right)}}$"
      ],
      "text/plain": [
       "Eq(2*a1**2*v(z)**2 + 2*b1**2*u(z)**2 + 1, 4*a1*b1*u(z)*v(z) + 3 - 2*Derivative(u(z)*v(z), z)/(u(z)*v(z)) + Derivative(u(z)*v(z), z)**2/(2*u(z)**2*v(z)**2))"
      ]
     },
     "execution_count": 230,
     "metadata": {},
     "output_type": "execute_result"
    }
   ],
   "source": [
    "duv_sqrd_b = Eq(\n",
    "    (duv.rhs**2)/u(z)**2/v(z)**2/2 - 2*duv.rhs/u(z)/v(z)  + 3 + 4*a1*b1*u(z)*v(z),\n",
    "    duv.lhs**2/u(z)**2/v(z)**2/2 - 2*duv.lhs/u(z)/v(z) + 3 + 4*a1*b1*u(z)*v(z), \n",
    ").expand()\n",
    "duv_sqrd_b"
   ]
  },
  {
   "cell_type": "code",
   "execution_count": 237,
   "id": "dc3b7f71-7538-43ae-9d3d-7118fc2e0842",
   "metadata": {},
   "outputs": [
    {
     "data": {
      "text/latex": [
       "$\\displaystyle - 24 a_{1} b_{1} u^{3}{\\left(z \\right)} v^{3}{\\left(z \\right)} - 6 u^{2}{\\left(z \\right)} v^{2}{\\left(z \\right)} + 5 u{\\left(z \\right)} v{\\left(z \\right)} \\frac{d}{d z} u{\\left(z \\right)} v{\\left(z \\right)} + u{\\left(z \\right)} v{\\left(z \\right)} \\frac{d^{2}}{d z^{2}} u{\\left(z \\right)} v{\\left(z \\right)} - \\left(\\frac{d}{d z} u{\\left(z \\right)} v{\\left(z \\right)}\\right)^{2} = 0$"
      ],
      "text/plain": [
       "Eq(-24*a1*b1*u(z)**3*v(z)**3 - 6*u(z)**2*v(z)**2 + 5*u(z)*v(z)*Derivative(u(z)*v(z), z) + u(z)*v(z)*Derivative(u(z)*v(z), (z, 2)) - Derivative(u(z)*v(z), z)**2, 0)"
      ]
     },
     "execution_count": 237,
     "metadata": {},
     "output_type": "execute_result"
    }
   ],
   "source": [
    "duv_c = Eq((u(z)*v(z)*(duv2.lhs + duv.lhs - duv2.rhs - duv.rhs)).collect([u(z)*v(z)],factor), 0).subs(*duv_sqrd_b.args).expand()\n",
    "duv_c"
   ]
  },
  {
   "cell_type": "code",
   "execution_count": 314,
   "id": "dce4cc5c-1c17-4063-85fd-5e59b5faa2ab",
   "metadata": {},
   "outputs": [
    {
     "data": {
      "text/latex": [
       "$\\displaystyle \\left(5 f^{2}{\\left(z \\right)} \\frac{d^{2}}{d z^{2}} f{\\left(z \\right)} + f^{2}{\\left(z \\right)} \\frac{d^{3}}{d z^{3}} f{\\left(z \\right)}\\right) \\frac{d}{d z} f{\\left(z \\right)} + \\left(- 24 a_{1} b_{1} f^{3}{\\left(z \\right)} + 5 f{\\left(z \\right)}\\right) \\left(\\frac{d}{d z} f{\\left(z \\right)}\\right)^{3} - 6 f^{2}{\\left(z \\right)} \\left(\\frac{d}{d z} f{\\left(z \\right)}\\right)^{2} - f^{2}{\\left(z \\right)} \\left(\\frac{d^{2}}{d z^{2}} f{\\left(z \\right)}\\right)^{2} + f{\\left(z \\right)} \\left(\\frac{d}{d z} f{\\left(z \\right)}\\right)^{2} \\frac{d^{2}}{d z^{2}} f{\\left(z \\right)} - \\left(\\frac{d}{d z} f{\\left(z \\right)}\\right)^{4}$"
      ],
      "text/plain": [
       "(5*f(z)**2*Derivative(f(z), (z, 2)) + f(z)**2*Derivative(f(z), (z, 3)))*Derivative(f(z), z) + (-24*a1*b1*f(z)**3 + 5*f(z))*Derivative(f(z), z)**3 - 6*f(z)**2*Derivative(f(z), z)**2 - f(z)**2*Derivative(f(z), (z, 2))**2 + f(z)*Derivative(f(z), z)**2*Derivative(f(z), (z, 2)) - Derivative(f(z), z)**4"
      ]
     },
     "execution_count": 314,
     "metadata": {},
     "output_type": "execute_result"
    }
   ],
   "source": [
    "# feq_rho = duv_c.subs(u(z)*v(z),rho1 + rho2*f(z) + rho3*diff(f(z),z)).lhs.doit().expand().collect([diff(f(z),z), diff(f(z),z,3)])\n",
    "# feq_rho = ueq_alone.lhs.subs(u(z), rho1 + rho2*f(z) + rho3*diff(f(z),z)).doit().expand().collect([diff(f(z),z), diff(f(z),z,3)])\n",
    "# feq_rho = ueq_alone.lhs.subs(u(z), rho1 + f(z)**x).doit().expand().collect([diff(f(z),z), diff(f(z),z,3)],factor)\n",
    "feq_rho = duv_c.subs(u(z)*v(z),f(z)*diff(f(z),z)).lhs.doit().expand().collect([diff(f(z),z)])\n",
    "feq_rho"
   ]
  },
  {
   "cell_type": "code",
   "execution_count": 273,
   "id": "01aadee6-08ce-403c-8017-6873d9b4a04b",
   "metadata": {},
   "outputs": [],
   "source": [
    "fsubs_pw = [\n",
    "    Eq(diff(f(z),z,3), 12*pw(z,g2,g3)*pwp(z,g2,g3)),\n",
    "    Eq(diff(f(z),z,2), -g2/2 + 6* pw(z,g2,g3)**2),\n",
    "    Eq(diff(f(z),z), pwp(z,g2,g3)),\n",
    "    Eq(diff(f(z),z)**2, 4*pw(z,g2,g3)**3 -g2*pw(z,g2,g3) - g3),\n",
    "    Eq(diff(f(z),z)**3, pwp(z,g2,g3)*(4*pw(z,g2,g3)**3 -g2*pw(z,g2,g3) - g3)),\n",
    "    Eq(f(z), pw(z,g2,g3)),\n",
    "    Eq(pwp(z,g2,g3)**3, pwp(z,g2,g3)*(4*pw(z,g2,g3)**3 -g2*pw(z,g2,g3) - g3)),\n",
    "    Eq(pwp(z,g2,g3)**2, 4*pw(z,g2,g3)**3 -g2*pw(z,g2,g3) - g3)\n",
    "]"
   ]
  },
  {
   "cell_type": "code",
   "execution_count": 288,
   "id": "2ec2379e-b99f-4122-84f9-4b2a49cb5a5f",
   "metadata": {},
   "outputs": [
    {
     "data": {
      "text/latex": [
       "$\\displaystyle - b_{1} g_{2} g_{3} \\rho_{3}^{3} + b_{1} g_{2} \\rho_{1}^{2} \\rho_{3} + 4 b_{1} g_{3} \\rho_{1} \\rho_{2} \\rho_{3} - 6 b_{1} g_{3} \\rho_{1} \\rho_{3}^{2} + 2 b_{1} \\rho_{1}^{3} - 48 b_{1} \\rho_{3}^{3} \\operatorname{pw}^{5}{\\left(z,g_{2},g_{3} \\right)} - \\frac{g_{2}^{2} \\rho_{3}^{2}}{4} - \\frac{g_{2} \\rho_{1} \\rho_{2}}{2} - \\frac{g_{2} \\rho_{1} \\rho_{3}}{2} + g_{3} \\rho_{2}^{2} - g_{3} \\rho_{2} \\rho_{3} + g_{3} \\rho_{3}^{2} - \\rho_{1}^{2} + \\left(- 28 b_{1} \\rho_{2}^{2} \\rho_{3} + 24 b_{1} \\rho_{2} \\rho_{3}^{2} + 12 \\rho_{3}^{2}\\right) \\operatorname{pw}^{4}{\\left(z,g_{2},g_{3} \\right)} + \\left(16 b_{1} g_{2} \\rho_{3}^{3} - 40 b_{1} \\rho_{1} \\rho_{2} \\rho_{3} + 24 b_{1} \\rho_{1} \\rho_{3}^{2} + 2 b_{1} \\rho_{2}^{3} + 2 \\rho_{2}^{2} + 10 \\rho_{2} \\rho_{3} - 4 \\rho_{3}^{2}\\right) \\operatorname{pw}^{3}{\\left(z,g_{2},g_{3} \\right)} + \\left(5 b_{1} g_{2} \\rho_{2}^{2} \\rho_{3} - 6 b_{1} g_{2} \\rho_{2} \\rho_{3}^{2} + 12 b_{1} g_{3} \\rho_{3}^{3} - 12 b_{1} \\rho_{1}^{2} \\rho_{3} + 6 b_{1} \\rho_{1} \\rho_{2}^{2} - 6 g_{2} \\rho_{3}^{2} + 6 \\rho_{1} \\rho_{2} + 6 \\rho_{1} \\rho_{3} - \\rho_{2}^{2}\\right) \\operatorname{pw}^{2}{\\left(z,g_{2},g_{3} \\right)} + \\left(- b_{1} g_{2}^{2} \\rho_{3}^{3} + 6 b_{1} g_{2} \\rho_{1} \\rho_{2} \\rho_{3} - 6 b_{1} g_{2} \\rho_{1} \\rho_{3}^{2} + 4 b_{1} g_{3} \\rho_{2}^{2} \\rho_{3} - 6 b_{1} g_{3} \\rho_{2} \\rho_{3}^{2} + 6 b_{1} \\rho_{1}^{2} \\rho_{2} + \\frac{g_{2} \\rho_{2}^{2}}{2} - \\frac{3 g_{2} \\rho_{2} \\rho_{3}}{2} + g_{2} \\rho_{3}^{2} - 12 g_{3} \\rho_{3}^{2} - 2 \\rho_{1} \\rho_{2}\\right) \\operatorname{pw}{\\left(z,g_{2},g_{3} \\right)}$"
      ],
      "text/plain": [
       "-b1*g2*g3*rho3**3 + b1*g2*rho1**2*rho3 + 4*b1*g3*rho1*rho2*rho3 - 6*b1*g3*rho1*rho3**2 + 2*b1*rho1**3 - 48*b1*rho3**3*pw(z, g2, g3)**5 - g2**2*rho3**2/4 - g2*rho1*rho2/2 - g2*rho1*rho3/2 + g3*rho2**2 - g3*rho2*rho3 + g3*rho3**2 - rho1**2 + (-28*b1*rho2**2*rho3 + 24*b1*rho2*rho3**2 + 12*rho3**2)*pw(z, g2, g3)**4 + (16*b1*g2*rho3**3 - 40*b1*rho1*rho2*rho3 + 24*b1*rho1*rho3**2 + 2*b1*rho2**3 + 2*rho2**2 + 10*rho2*rho3 - 4*rho3**2)*pw(z, g2, g3)**3 + (5*b1*g2*rho2**2*rho3 - 6*b1*g2*rho2*rho3**2 + 12*b1*g3*rho3**3 - 12*b1*rho1**2*rho3 + 6*b1*rho1*rho2**2 - 6*g2*rho3**2 + 6*rho1*rho2 + 6*rho1*rho3 - rho2**2)*pw(z, g2, g3)**2 + (-b1*g2**2*rho3**3 + 6*b1*g2*rho1*rho2*rho3 - 6*b1*g2*rho1*rho3**2 + 4*b1*g3*rho2**2*rho3 - 6*b1*g3*rho2*rho3**2 + 6*b1*rho1**2*rho2 + g2*rho2**2/2 - 3*g2*rho2*rho3/2 + g2*rho3**2 - 12*g3*rho3**2 - 2*rho1*rho2)*pw(z, g2, g3)"
      ]
     },
     "execution_count": 288,
     "metadata": {},
     "output_type": "execute_result"
    }
   ],
   "source": [
    "pw_eq = feq_rho.subs([eq.args for eq in fsubs_pw]).expand().subs([eq.args for eq in fsubs_pw]).collect(pwp(z,g2,g3),factor)\n",
    "pw_eq.subs(pwp(z,g2,g3),0).collect(pw(z,g2,g3))"
   ]
  },
  {
   "cell_type": "code",
   "execution_count": 287,
   "id": "4ec12d0d-6636-447b-b73b-ad4dbe7f9629",
   "metadata": {},
   "outputs": [
    {
     "data": {
      "text/latex": [
       "$\\displaystyle - \\frac{884736 b_{1}^{3} g_{3} \\rho_{2}^{3} - 1331 b_{1}^{3} \\rho_{2}^{3} - 7524 b_{1}^{2} \\rho_{2}^{2} - 9072 b_{1} \\rho_{2} - 8640}{9216 b_{1}^{2}}$"
      ],
      "text/plain": [
       "-(884736*b1**3*g3*rho2**3 - 1331*b1**3*rho2**3 - 7524*b1**2*rho2**2 - 9072*b1*rho2 - 8640)/(9216*b1**2)"
      ]
     },
     "execution_count": 287,
     "metadata": {},
     "output_type": "execute_result"
    }
   ],
   "source": [
    "(pw_eq.coeff(pwp(z,g2,g3)).collect(pw(z,g2,g3),factor).subs(rho3, 4*rho2)\n",
    " .subs(rho1, (11*b1*rho2 + 60)/(192*b1))\n",
    " .subs(g2, Rational(121,3072) + Rational(19,128)/(b1*rho2) + Rational(15,64)/(b1**2*rho2**2))\n",
    ").expand().collect(pw(z,g2,g3),factor)"
   ]
  },
  {
   "cell_type": "code",
   "execution_count": 284,
   "id": "108fb7b6-f6c6-40a3-bd29-b4895a0e6c00",
   "metadata": {},
   "outputs": [
    {
     "data": {
      "text/plain": [
       "[121/3072 + 19/(128*b1*rho2) + 15/(64*b1**2*rho2**2)]"
      ]
     },
     "execution_count": 284,
     "metadata": {},
     "output_type": "execute_result"
    }
   ],
   "source": [
    "solve((pw_eq.coeff(pwp(z,g2,g3)).collect(pw(z,g2,g3),factor)\n",
    " .subs(rho3, 4*rho2).subs(rho1, (11*b1*rho2 + 60)/(192*b1))\n",
    " .expand().collect(pw(z,g2,g3),factor)).coeff(pw(z,g2,g3)),g2)"
   ]
  },
  {
   "cell_type": "code",
   "execution_count": 345,
   "id": "d5aefce6-0e2b-4e92-8cd7-c058ab2eef73",
   "metadata": {},
   "outputs": [
    {
     "data": {
      "text/latex": [
       "$\\displaystyle \\frac{d}{d z} u{\\left(z \\right)} = a_{1} u^{2}{\\left(z \\right)} + a_{2} v^{2}{\\left(z \\right)} + a_{3} u{\\left(z \\right)} v{\\left(z \\right)} + c_{1} u{\\left(z \\right)}$"
      ],
      "text/plain": [
       "Eq(Derivative(u(z), z), a1*u(z)**2 + a2*v(z)**2 + a3*u(z)*v(z) + c1*u(z))"
      ]
     },
     "execution_count": 345,
     "metadata": {},
     "output_type": "execute_result"
    },
    {
     "data": {
      "text/latex": [
       "$\\displaystyle \\frac{d}{d z} v{\\left(z \\right)} = b_{1} u^{2}{\\left(z \\right)} + b_{2} v^{2}{\\left(z \\right)} + b_{3} u{\\left(z \\right)} v{\\left(z \\right)} + c_{2} v{\\left(z \\right)}$"
      ],
      "text/plain": [
       "Eq(Derivative(v(z), z), b1*u(z)**2 + b2*v(z)**2 + b3*u(z)*v(z) + c2*v(z))"
      ]
     },
     "execution_count": 345,
     "metadata": {},
     "output_type": "execute_result"
    }
   ],
   "source": [
    "eq1_ = Eq(diff(u(z),z), a1*u(z)**2 + a2*v(z)**2 + a3*u(z)*v(z) + c1*u(z))\n",
    "eq2_ = Eq(diff(v(z),z), b1*u(z)**2 + b2*v(z)**2 + b3*u(z)*v(z) + c2*v(z))\n",
    "eq1_\n",
    "eq2_"
   ]
  },
  {
   "cell_type": "code",
   "execution_count": 352,
   "id": "f0697710-ece4-4edd-aa3a-518e6b1a6e22",
   "metadata": {},
   "outputs": [
    {
     "data": {
      "text/latex": [
       "$\\displaystyle u{\\left(z \\right)} = d_{1} f{\\left(z \\right)} + d_{2} h{\\left(z \\right)}$"
      ],
      "text/plain": [
       "Eq(u(z), d1*f(z) + d2*h(z))"
      ]
     },
     "execution_count": 352,
     "metadata": {},
     "output_type": "execute_result"
    },
    {
     "data": {
      "text/latex": [
       "$\\displaystyle v{\\left(z \\right)} = d_{3} f{\\left(z \\right)} + d_{4} h{\\left(z \\right)}$"
      ],
      "text/plain": [
       "Eq(v(z), d3*f(z) + d4*h(z))"
      ]
     },
     "execution_count": 352,
     "metadata": {},
     "output_type": "execute_result"
    }
   ],
   "source": [
    "d4 = Symbol('d4')\n",
    "ud_eq_ = Eq(u(z),d1*f(z)+d2*h(z))\n",
    "vd_eq_ = Eq(v(z),d3*f(z)+d4*h(z))\n",
    "ud_eq_\n",
    "vd_eq_"
   ]
  },
  {
   "cell_type": "code",
   "execution_count": 361,
   "id": "b1d2953b-ff84-4eba-bdbc-ab098e818328",
   "metadata": {},
   "outputs": [
    {
     "data": {
      "text/latex": [
       "$\\displaystyle \\frac{d}{d z} f{\\left(z \\right)} = \\frac{d_{2} d_{4} \\left(c_{1} - c_{2}\\right) h{\\left(z \\right)}}{d_{1} d_{4} - d_{2} d_{3}} + \\frac{\\left(c_{1} d_{1} d_{4} - c_{2} d_{2} d_{3}\\right) f{\\left(z \\right)}}{d_{1} d_{4} - d_{2} d_{3}} + \\frac{\\left(a_{1} d_{1}^{2} d_{4} + a_{2} d_{3}^{2} d_{4} + a_{3} d_{1} d_{3} d_{4} - b_{1} d_{1}^{2} d_{2} - b_{2} d_{2} d_{3}^{2} - b_{3} d_{1} d_{2} d_{3}\\right) f^{2}{\\left(z \\right)}}{d_{1} d_{4} - d_{2} d_{3}} + \\frac{\\left(a_{1} d_{2}^{2} d_{4} + a_{2} d_{4}^{3} + a_{3} d_{2} d_{4}^{2} - b_{1} d_{2}^{3} - b_{2} d_{2} d_{4}^{2} - b_{3} d_{2}^{2} d_{4}\\right) h^{2}{\\left(z \\right)}}{d_{1} d_{4} - d_{2} d_{3}} + \\frac{\\left(2 a_{1} d_{1} d_{2} d_{4} + 2 a_{2} d_{3} d_{4}^{2} + a_{3} d_{1} d_{4}^{2} + a_{3} d_{2} d_{3} d_{4} - 2 b_{1} d_{1} d_{2}^{2} - 2 b_{2} d_{2} d_{3} d_{4} - b_{3} d_{1} d_{2} d_{4} - b_{3} d_{2}^{2} d_{3}\\right) f{\\left(z \\right)} h{\\left(z \\right)}}{d_{1} d_{4} - d_{2} d_{3}}$"
      ],
      "text/plain": [
       "Eq(Derivative(f(z), z), d2*d4*(c1 - c2)*h(z)/(d1*d4 - d2*d3) + (c1*d1*d4 - c2*d2*d3)*f(z)/(d1*d4 - d2*d3) + (a1*d1**2*d4 + a2*d3**2*d4 + a3*d1*d3*d4 - b1*d1**2*d2 - b2*d2*d3**2 - b3*d1*d2*d3)*f(z)**2/(d1*d4 - d2*d3) + (a1*d2**2*d4 + a2*d4**3 + a3*d2*d4**2 - b1*d2**3 - b2*d2*d4**2 - b3*d2**2*d4)*h(z)**2/(d1*d4 - d2*d3) + (2*a1*d1*d2*d4 + 2*a2*d3*d4**2 + a3*d1*d4**2 + a3*d2*d3*d4 - 2*b1*d1*d2**2 - 2*b2*d2*d3*d4 - b3*d1*d2*d4 - b3*d2**2*d3)*f(z)*h(z)/(d1*d4 - d2*d3))"
      ]
     },
     "execution_count": 361,
     "metadata": {},
     "output_type": "execute_result"
    },
    {
     "data": {
      "text/latex": [
       "$\\displaystyle \\frac{d}{d z} h{\\left(z \\right)} = - \\frac{d_{1} d_{3} \\left(c_{1} - c_{2}\\right) f{\\left(z \\right)}}{d_{1} d_{4} - d_{2} d_{3}} - \\frac{\\left(c_{1} d_{2} d_{3} - c_{2} d_{1} d_{4}\\right) h{\\left(z \\right)}}{d_{1} d_{4} - d_{2} d_{3}} - \\frac{\\left(a_{1} d_{1}^{2} d_{3} + a_{2} d_{3}^{3} + a_{3} d_{1} d_{3}^{2} - b_{1} d_{1}^{3} - b_{2} d_{1} d_{3}^{2} - b_{3} d_{1}^{2} d_{3}\\right) f^{2}{\\left(z \\right)}}{d_{1} d_{4} - d_{2} d_{3}} - \\frac{\\left(a_{1} d_{2}^{2} d_{3} + a_{2} d_{3} d_{4}^{2} + a_{3} d_{2} d_{3} d_{4} - b_{1} d_{1} d_{2}^{2} - b_{2} d_{1} d_{4}^{2} - b_{3} d_{1} d_{2} d_{4}\\right) h^{2}{\\left(z \\right)}}{d_{1} d_{4} - d_{2} d_{3}} - \\frac{\\left(2 a_{1} d_{1} d_{2} d_{3} + 2 a_{2} d_{3}^{2} d_{4} + a_{3} d_{1} d_{3} d_{4} + a_{3} d_{2} d_{3}^{2} - 2 b_{1} d_{1}^{2} d_{2} - 2 b_{2} d_{1} d_{3} d_{4} - b_{3} d_{1}^{2} d_{4} - b_{3} d_{1} d_{2} d_{3}\\right) f{\\left(z \\right)} h{\\left(z \\right)}}{d_{1} d_{4} - d_{2} d_{3}}$"
      ],
      "text/plain": [
       "Eq(Derivative(h(z), z), -d1*d3*(c1 - c2)*f(z)/(d1*d4 - d2*d3) - (c1*d2*d3 - c2*d1*d4)*h(z)/(d1*d4 - d2*d3) - (a1*d1**2*d3 + a2*d3**3 + a3*d1*d3**2 - b1*d1**3 - b2*d1*d3**2 - b3*d1**2*d3)*f(z)**2/(d1*d4 - d2*d3) - (a1*d2**2*d3 + a2*d3*d4**2 + a3*d2*d3*d4 - b1*d1*d2**2 - b2*d1*d4**2 - b3*d1*d2*d4)*h(z)**2/(d1*d4 - d2*d3) - (2*a1*d1*d2*d3 + 2*a2*d3**2*d4 + a3*d1*d3*d4 + a3*d2*d3**2 - 2*b1*d1**2*d2 - 2*b2*d1*d3*d4 - b3*d1**2*d4 - b3*d1*d2*d3)*f(z)*h(z)/(d1*d4 - d2*d3))"
      ]
     },
     "execution_count": 361,
     "metadata": {},
     "output_type": "execute_result"
    }
   ],
   "source": [
    "uvfhd_sols = solve([eq1_.subs([ud_eq_.args, vd_eq_.args]).doit(), eq2_.subs([ud_eq_.args, vd_eq_.args]).doit()],[diff(f(z),z),diff(h(z),z)])\n",
    "\n",
    "uvfhd_sols_eqs =  [Eq(k, uvfhd_sols[k].collect([f(z)**2, h(z)**2, f(z)*h(z), f(z), h(z)],factor)) for k in uvfhd_sols]\n",
    "for eq in uvfhd_sols_eqs:\n",
    "    eq"
   ]
  },
  {
   "cell_type": "code",
   "execution_count": 369,
   "id": "6f5a8e0e-4c29-40d4-bdf4-5ddde4322b23",
   "metadata": {},
   "outputs": [
    {
     "data": {
      "text/latex": [
       "$\\displaystyle \\frac{a_{2} d_{4}^{3} - b_{1} d_{2}^{3} + d_{2}^{2} d_{4} \\left(a_{1} - b_{3}\\right) + d_{2} d_{4}^{2} \\left(a_{3} - b_{2}\\right)}{d_{1} d_{4} - d_{2} d_{3}}$"
      ],
      "text/plain": [
       "(a2*d4**3 - b1*d2**3 + d2**2*d4*(a1 - b3) + d2*d4**2*(a3 - b2))/(d1*d4 - d2*d3)"
      ]
     },
     "execution_count": 369,
     "metadata": {},
     "output_type": "execute_result"
    }
   ],
   "source": [
    "uvfhd_sols_eqs[0].rhs.coeff(h(z)**2).collect([d4,d2],factor)"
   ]
  },
  {
   "cell_type": "code",
   "execution_count": 371,
   "id": "c4d6cc75-8852-4c0b-8b7d-7ad6f3b2d60d",
   "metadata": {},
   "outputs": [
    {
     "data": {
      "text/plain": [
       "{d2: 0, d4: 0}"
      ]
     },
     "execution_count": 371,
     "metadata": {},
     "output_type": "execute_result"
    }
   ],
   "source": [
    "solve([Eq(-b1*d2+d4*(a1-b3),0),Eq(a2*d4+d2*(a3-b2),0)],[d2,d4])"
   ]
  },
  {
   "cell_type": "code",
   "execution_count": 372,
   "id": "948a5ef0-2607-48ad-b1b1-0691f51b55ef",
   "metadata": {},
   "outputs": [
    {
     "data": {
      "text/plain": [
       "[d4*(a1 - b3)/b1]"
      ]
     },
     "execution_count": 372,
     "metadata": {},
     "output_type": "execute_result"
    }
   ],
   "source": [
    "solve(Eq(-b1*d2+d4*(a1-b3),0),d2)"
   ]
  },
  {
   "cell_type": "code",
   "execution_count": 377,
   "id": "325ea194-2ec5-4c08-b7b3-a4be01dc7f3d",
   "metadata": {},
   "outputs": [
    {
     "data": {
      "text/latex": [
       "$\\displaystyle p = 2 a_{1} v{\\left(z \\right)} - 2 b_{1} u{\\left(z \\right)} + \\log{\\left(u{\\left(z \\right)} v{\\left(z \\right)} \\right)}$"
      ],
      "text/plain": [
       "Eq(p, 2*a1*v(z) - 2*b1*u(z) + log(u(z)*v(z)))"
      ]
     },
     "execution_count": 377,
     "metadata": {},
     "output_type": "execute_result"
    }
   ],
   "source": [
    "ppp = Eq(p, Kuv_log_beta.rhs)\n",
    "ppp"
   ]
  },
  {
   "cell_type": "code",
   "execution_count": 378,
   "id": "113bfbb1-3708-43ff-84f2-35c78d3153b2",
   "metadata": {},
   "outputs": [
    {
     "data": {
      "text/plain": [
       "[-2*a1*v(z) + 2*b1*u(z) + p]"
      ]
     },
     "execution_count": 378,
     "metadata": {},
     "output_type": "execute_result"
    }
   ],
   "source": [
    "solve(ppp, log(u(z)*v(z)))"
   ]
  },
  {
   "cell_type": "code",
   "execution_count": 382,
   "id": "c0d6955d-a3f7-4aa3-b28e-d014b308c82f",
   "metadata": {},
   "outputs": [
    {
     "data": {
      "text/latex": [
       "$\\displaystyle \\text{True}$"
      ],
      "text/plain": [
       "True"
      ]
     },
     "execution_count": 382,
     "metadata": {},
     "output_type": "execute_result"
    }
   ],
   "source": [
    "Eq(ppp.lhs**2, ppp.rhs**2).expand().subs(log(u(z)*v(z)), -2*a1*v(z) + 2*b1*u(z) + p).expand()"
   ]
  },
  {
   "cell_type": "code",
   "execution_count": null,
   "id": "45c54247-9948-4eed-b9db-e133e4d71eef",
   "metadata": {},
   "outputs": [],
   "source": []
  }
 ],
 "metadata": {
  "kernelspec": {
   "display_name": "Python 3 (ipykernel)",
   "language": "python",
   "name": "python3"
  },
  "language_info": {
   "codemirror_mode": {
    "name": "ipython",
    "version": 3
   },
   "file_extension": ".py",
   "mimetype": "text/x-python",
   "name": "python",
   "nbconvert_exporter": "python",
   "pygments_lexer": "ipython3",
   "version": "3.10.13"
  }
 },
 "nbformat": 4,
 "nbformat_minor": 5
}
