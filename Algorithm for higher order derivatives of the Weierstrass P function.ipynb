{
 "cells": [
  {
   "cell_type": "markdown",
   "id": "09b60f30",
   "metadata": {},
   "source": [
    "# Algorithm for higher order derivatives of the Weierstrass P function"
   ]
  },
  {
   "cell_type": "code",
   "execution_count": 1,
   "id": "3781ea14",
   "metadata": {},
   "outputs": [],
   "source": [
    "from IPython.core.interactiveshell import InteractiveShell\n",
    "InteractiveShell.ast_node_interactivity = 'all'\n",
    "\n",
    "from nth_diff_pw import nth_diff_pw"
   ]
  },
  {
   "cell_type": "code",
   "execution_count": 2,
   "id": "7e2fd6af",
   "metadata": {},
   "outputs": [
    {
     "data": {
      "text/latex": [
       "$\\displaystyle \\frac{\\partial}{\\partial z} \\operatorname{pw}{\\left(z,g_{2},g_{3} \\right)} = \\operatorname{pwp}{\\left(z,g_{2},g_{3} \\right)}$"
      ],
      "text/plain": [
       "Eq(Derivative(pw(z, g2, g3), z), pwp(z, g2, g3))"
      ]
     },
     "execution_count": 2,
     "metadata": {},
     "output_type": "execute_result"
    },
    {
     "data": {
      "text/latex": [
       "$\\displaystyle \\frac{\\partial^{2}}{\\partial z^{2}} \\operatorname{pw}{\\left(z,g_{2},g_{3} \\right)} = - \\frac{g_{2}}{2} + 6 \\operatorname{pw}^{2}{\\left(z,g_{2},g_{3} \\right)}$"
      ],
      "text/plain": [
       "Eq(Derivative(pw(z, g2, g3), (z, 2)), -g2/2 + 6*pw(z, g2, g3)**2)"
      ]
     },
     "execution_count": 2,
     "metadata": {},
     "output_type": "execute_result"
    },
    {
     "data": {
      "text/latex": [
       "$\\displaystyle \\frac{\\partial^{3}}{\\partial z^{3}} \\operatorname{pw}{\\left(z,g_{2},g_{3} \\right)} = 12 \\operatorname{pw}{\\left(z,g_{2},g_{3} \\right)} \\operatorname{pwp}{\\left(z,g_{2},g_{3} \\right)}$"
      ],
      "text/plain": [
       "Eq(Derivative(pw(z, g2, g3), (z, 3)), 12*pw(z, g2, g3)*pwp(z, g2, g3))"
      ]
     },
     "execution_count": 2,
     "metadata": {},
     "output_type": "execute_result"
    },
    {
     "data": {
      "text/latex": [
       "$\\displaystyle \\frac{\\partial^{4}}{\\partial z^{4}} \\operatorname{pw}{\\left(z,g_{2},g_{3} \\right)} = - 6 \\cdot \\left(3 g_{2} \\operatorname{pw}{\\left(z,g_{2},g_{3} \\right)} + 2 g_{3} - 20 \\operatorname{pw}^{3}{\\left(z,g_{2},g_{3} \\right)}\\right)$"
      ],
      "text/plain": [
       "Eq(Derivative(pw(z, g2, g3), (z, 4)), -6*(3*g2*pw(z, g2, g3) + 2*g3 - 20*pw(z, g2, g3)**3))"
      ]
     },
     "execution_count": 2,
     "metadata": {},
     "output_type": "execute_result"
    },
    {
     "data": {
      "text/latex": [
       "$\\displaystyle \\frac{\\partial^{5}}{\\partial z^{5}} \\operatorname{pw}{\\left(z,g_{2},g_{3} \\right)} = - 18 \\left(g_{2} - 20 \\operatorname{pw}^{2}{\\left(z,g_{2},g_{3} \\right)}\\right) \\operatorname{pwp}{\\left(z,g_{2},g_{3} \\right)}$"
      ],
      "text/plain": [
       "Eq(Derivative(pw(z, g2, g3), (z, 5)), -18*(g2 - 20*pw(z, g2, g3)**2)*pwp(z, g2, g3))"
      ]
     },
     "execution_count": 2,
     "metadata": {},
     "output_type": "execute_result"
    },
    {
     "data": {
      "text/latex": [
       "$\\displaystyle \\frac{\\partial^{6}}{\\partial z^{6}} \\operatorname{pw}{\\left(z,g_{2},g_{3} \\right)} = 9 \\left(g_{2}^{2} - 112 g_{2} \\operatorname{pw}^{2}{\\left(z,g_{2},g_{3} \\right)} - 80 g_{3} \\operatorname{pw}{\\left(z,g_{2},g_{3} \\right)} + 560 \\operatorname{pw}^{4}{\\left(z,g_{2},g_{3} \\right)}\\right)$"
      ],
      "text/plain": [
       "Eq(Derivative(pw(z, g2, g3), (z, 6)), 9*(g2**2 - 112*g2*pw(z, g2, g3)**2 - 80*g3*pw(z, g2, g3) + 560*pw(z, g2, g3)**4))"
      ]
     },
     "execution_count": 2,
     "metadata": {},
     "output_type": "execute_result"
    },
    {
     "data": {
      "text/latex": [
       "$\\displaystyle \\frac{\\partial^{7}}{\\partial z^{7}} \\operatorname{pw}{\\left(z,g_{2},g_{3} \\right)} = - 144 \\cdot \\left(14 g_{2} \\operatorname{pw}{\\left(z,g_{2},g_{3} \\right)} + 5 g_{3} - 140 \\operatorname{pw}^{3}{\\left(z,g_{2},g_{3} \\right)}\\right) \\operatorname{pwp}{\\left(z,g_{2},g_{3} \\right)}$"
      ],
      "text/plain": [
       "Eq(Derivative(pw(z, g2, g3), (z, 7)), -144*(14*g2*pw(z, g2, g3) + 5*g3 - 140*pw(z, g2, g3)**3)*pwp(z, g2, g3))"
      ]
     },
     "execution_count": 2,
     "metadata": {},
     "output_type": "execute_result"
    },
    {
     "data": {
      "text/latex": [
       "$\\displaystyle \\frac{\\partial^{8}}{\\partial z^{8}} \\operatorname{pw}{\\left(z,g_{2},g_{3} \\right)} = 216 \\cdot \\left(14 g_{2}^{2} \\operatorname{pw}{\\left(z,g_{2},g_{3} \\right)} + 11 g_{2} g_{3} - 420 g_{2} \\operatorname{pw}^{3}{\\left(z,g_{2},g_{3} \\right)} - 300 g_{3} \\operatorname{pw}^{2}{\\left(z,g_{2},g_{3} \\right)} + 1680 \\operatorname{pw}^{5}{\\left(z,g_{2},g_{3} \\right)}\\right)$"
      ],
      "text/plain": [
       "Eq(Derivative(pw(z, g2, g3), (z, 8)), 216*(14*g2**2*pw(z, g2, g3) + 11*g2*g3 - 420*g2*pw(z, g2, g3)**3 - 300*g3*pw(z, g2, g3)**2 + 1680*pw(z, g2, g3)**5))"
      ]
     },
     "execution_count": 2,
     "metadata": {},
     "output_type": "execute_result"
    },
    {
     "data": {
      "text/latex": [
       "$\\displaystyle \\frac{\\partial^{9}}{\\partial z^{9}} \\operatorname{pw}{\\left(z,g_{2},g_{3} \\right)} = 432 \\cdot \\left(7 g_{2}^{2} - 630 g_{2} \\operatorname{pw}^{2}{\\left(z,g_{2},g_{3} \\right)} - 300 g_{3} \\operatorname{pw}{\\left(z,g_{2},g_{3} \\right)} + 4200 \\operatorname{pw}^{4}{\\left(z,g_{2},g_{3} \\right)}\\right) \\operatorname{pwp}{\\left(z,g_{2},g_{3} \\right)}$"
      ],
      "text/plain": [
       "Eq(Derivative(pw(z, g2, g3), (z, 9)), 432*(7*g2**2 - 630*g2*pw(z, g2, g3)**2 - 300*g3*pw(z, g2, g3) + 4200*pw(z, g2, g3)**4)*pwp(z, g2, g3))"
      ]
     },
     "execution_count": 2,
     "metadata": {},
     "output_type": "execute_result"
    }
   ],
   "source": [
    "for m in range(1,10):\n",
    "    nth_diff_pw(m)"
   ]
  },
  {
   "cell_type": "code",
   "execution_count": null,
   "id": "15759073",
   "metadata": {},
   "outputs": [],
   "source": []
  }
 ],
 "metadata": {
  "kernelspec": {
   "display_name": "Python 3 (ipykernel)",
   "language": "python",
   "name": "python3"
  },
  "language_info": {
   "codemirror_mode": {
    "name": "ipython",
    "version": 3
   },
   "file_extension": ".py",
   "mimetype": "text/x-python",
   "name": "python",
   "nbconvert_exporter": "python",
   "pygments_lexer": "ipython3",
   "version": "3.11.10"
  }
 },
 "nbformat": 4,
 "nbformat_minor": 5
}
