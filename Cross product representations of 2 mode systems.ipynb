{
 "cells": [
  {
   "cell_type": "markdown",
   "id": "36cd300c-c49c-44aa-8189-a02c40ccdb82",
   "metadata": {},
   "source": [
    "# Cross Product Representations of 3 Mode System with Quadratic Coupling\n",
    "\n",
    "This notebook will investigate whether 2 mode systems with quadratic coupling such as the Lotka-Voltera system and the similar systems that are known to be solvable in terms of Weierstrass Sigma functions, can be considered as special cases of a 3 mode system involving the cross-product with one constant mode. This may yield some useful geometric insights."
   ]
  },
  {
   "cell_type": "code",
   "execution_count": 21,
   "id": "ca7a6d60-a6b7-41e8-9e77-e28069cca365",
   "metadata": {},
   "outputs": [],
   "source": [
    "from sympy import *\n",
    "(x, y, X, Y, Z, B, C, n, m, l, j, q, N, M, K, k, epsilon, z, s, p1, p2, p3, g2, g3,\n",
    " z0, e1, e2, e3, Delta, \n",
    " omega1, omega2, omega3, eta1, eta2, eta3, d1, d2, d3) = symbols(\n",
    "    '''x, y, X, Y, Z, B, C, n, m, l, j, q, N, M, K, k, epsilon, z, s, p1, p2, p3, g2, g3,\n",
    "    z0, e1, e2, e3, Delta, \n",
    "    omega1, omega2, omega3, eta1, eta2, eta3, d1, d2, d3'''\n",
    ")\n",
    "alpha, delta, t, nu, epsilon, theta = symbols('alpha, delta, t, nu, epsilon, theta')\n",
    "pw = Function('pw') # Weierstrass P function\n",
    "pwp = Function('pwp') # Derivative of Weierstrass P function\n",
    "zw = Function('zw') # Weierstrass Zeta function\n",
    "sigma = Function('sigma') # Weierstrass Sigma function\n",
    "rho = Function('rho')\n",
    "f = Function('f')\n",
    "h = Function('h')\n",
    "s = Function('s')\n",
    "u = Function('u')\n",
    "v = Function('v')\n",
    "P = Function('P') # Polynomial\n",
    "Q = Function('Q') # Polynomial\n",
    "phi = Function('phi')\n",
    "Phi = Function('Phi')\n",
    "phi1 = Function('phi1')\n",
    "phi2 = Function('phi2')\n",
    "phi3 = Function('phi3')\n",
    "A = Function('A')\n",
    "Ac = Function('Ac')\n",
    "A1 = Function('A1')\n",
    "A2 = Function('A2')\n",
    "A3 = Function('A3')\n",
    "Ac1 = Function('Ac1')\n",
    "Ac2 = Function('Ac2')\n",
    "Ac3 = Function('Ac3')\n",
    "A4 = Function('A4')\n",
    "A5 = Function('A5')\n",
    "A6 = Function('A6')\n",
    "A7 = Function('A7')\n",
    "A8 = Function('A8')\n",
    "Det = Function(\"Det\")\n",
    "\n",
    "kappa = IndexedBase('kappa')\n",
    "beta = IndexedBase('beta')\n",
    "mu = IndexedBase('mu')\n",
    "xi = IndexedBase('xi')\n",
    "a = IndexedBase('a')\n",
    "b = IndexedBase('b')\n",
    "c = IndexedBase('c')\n",
    "d = IndexedBase('d')\n",
    "p = IndexedBase('p')\n",
    "G = IndexedBase('G')\n",
    "r = IndexedBase('r')\n",
    "w = IndexedBase('w')\n",
    "psi = IndexedBase('psi')\n",
    "upsilon = IndexedBase('upsilon')\n",
    "WPdet = Function('WPdet')\n",
    "\n",
    "Omega = IndexedBase('Omega')\n",
    "T = Function('T')\n",
    "V = Function('V')\n",
    "Dz = Function('Dz') # Derivate w.r.t z\n",
    "L = Function('L')\n",
    "U = Function(\"U\")\n",
    "from math import prod\n",
    "\n",
    "from IPython.core.interactiveshell import InteractiveShell\n",
    "InteractiveShell.ast_node_interactivity = 'all'"
   ]
  },
  {
   "cell_type": "code",
   "execution_count": 138,
   "id": "5a0336bb-3b20-4e55-9ce7-95fa2bcbbb69",
   "metadata": {},
   "outputs": [
    {
     "data": {
      "text/latex": [
       "$\\displaystyle \\left[\\begin{matrix}\\frac{d}{d z} u{\\left(z \\right)}\\\\\\frac{d}{d z} v{\\left(z \\right)}\\\\0\\end{matrix}\\right] = \\left[\\begin{matrix}- \\left(u{\\left(z \\right)} {r}_{1,0} + v{\\left(z \\right)} {r}_{1,1} + {r}_{1,2} c\\right) \\left(u{\\left(z \\right)} {w}_{2,0} + v{\\left(z \\right)} {w}_{2,1} + {w}_{2,2} c\\right) + \\left(u{\\left(z \\right)} {r}_{2,0} + v{\\left(z \\right)} {r}_{2,1} + {r}_{2,2} c\\right) \\left(u{\\left(z \\right)} {w}_{1,0} + v{\\left(z \\right)} {w}_{1,1} + {w}_{1,2} c\\right)\\\\\\left(u{\\left(z \\right)} {r}_{0,0} + v{\\left(z \\right)} {r}_{0,1} + {r}_{0,2} c\\right) \\left(u{\\left(z \\right)} {w}_{2,0} + v{\\left(z \\right)} {w}_{2,1} + {w}_{2,2} c\\right) - \\left(u{\\left(z \\right)} {r}_{2,0} + v{\\left(z \\right)} {r}_{2,1} + {r}_{2,2} c\\right) \\left(u{\\left(z \\right)} {w}_{0,0} + v{\\left(z \\right)} {w}_{0,1} + {w}_{0,2} c\\right)\\\\- \\left(u{\\left(z \\right)} {r}_{0,0} + v{\\left(z \\right)} {r}_{0,1} + {r}_{0,2} c\\right) \\left(u{\\left(z \\right)} {w}_{1,0} + v{\\left(z \\right)} {w}_{1,1} + {w}_{1,2} c\\right) + \\left(u{\\left(z \\right)} {r}_{1,0} + v{\\left(z \\right)} {r}_{1,1} + {r}_{1,2} c\\right) \\left(u{\\left(z \\right)} {w}_{0,0} + v{\\left(z \\right)} {w}_{0,1} + {w}_{0,2} c\\right)\\end{matrix}\\right]$"
      ],
      "text/plain": [
       "Eq(Matrix([\n",
       "[Derivative(u(z), z)],\n",
       "[Derivative(v(z), z)],\n",
       "[                  0]]), Matrix([\n",
       "[-(u(z)*r[1, 0] + v(z)*r[1, 1] + r[1, 2]*c)*(u(z)*w[2, 0] + v(z)*w[2, 1] + w[2, 2]*c) + (u(z)*r[2, 0] + v(z)*r[2, 1] + r[2, 2]*c)*(u(z)*w[1, 0] + v(z)*w[1, 1] + w[1, 2]*c)],\n",
       "[ (u(z)*r[0, 0] + v(z)*r[0, 1] + r[0, 2]*c)*(u(z)*w[2, 0] + v(z)*w[2, 1] + w[2, 2]*c) - (u(z)*r[2, 0] + v(z)*r[2, 1] + r[2, 2]*c)*(u(z)*w[0, 0] + v(z)*w[0, 1] + w[0, 2]*c)],\n",
       "[-(u(z)*r[0, 0] + v(z)*r[0, 1] + r[0, 2]*c)*(u(z)*w[1, 0] + v(z)*w[1, 1] + w[1, 2]*c) + (u(z)*r[1, 0] + v(z)*r[1, 1] + r[1, 2]*c)*(u(z)*w[0, 0] + v(z)*w[0, 1] + w[0, 2]*c)]]))"
      ]
     },
     "execution_count": 138,
     "metadata": {},
     "output_type": "execute_result"
    }
   ],
   "source": [
    "v0 = Matrix([u(z),v(z),c])\n",
    "R = Matrix([[r[0,0], r[0,1], r[0,2]], [r[1,0], r[1,1], r[1,2]], [r[2,0], r[2,1], r[2,2]]])\n",
    "W = Matrix([[w[0,0], w[0,1], w[0,2]], [w[1,0], w[1,1], w[1,2]], [w[2,0], w[2,1], w[2,2]]])\n",
    "v1 = W *v0\n",
    "v2 = R * v0\n",
    "dv0 = diff(v0,z)\n",
    "cross_result = v1.cross(v2)\n",
    "Eq(dv0, cross_result)"
   ]
  },
  {
   "cell_type": "code",
   "execution_count": 139,
   "id": "e6332beb-6cd0-4706-b7e8-ee01ce39a5ec",
   "metadata": {},
   "outputs": [
    {
     "data": {
      "text/latex": [
       "$\\displaystyle \\frac{d}{d z} u{\\left(z \\right)} = \\left(- {r}_{1,0} {w}_{2,0} + {r}_{2,0} {w}_{1,0}\\right) u^{2}{\\left(z \\right)} + \\left(- {r}_{1,1} {w}_{2,1} + {r}_{2,1} {w}_{1,1}\\right) v^{2}{\\left(z \\right)} - \\left({r}_{1,2} {w}_{2,2} - {r}_{2,2} {w}_{1,2}\\right) c^{2} - \\left({r}_{1,1} {w}_{2,2} + {r}_{1,2} {w}_{2,1} - {r}_{2,1} {w}_{1,2} - {r}_{2,2} {w}_{1,1}\\right) v{\\left(z \\right)} c + \\left(- v{\\left(z \\right)} {r}_{1,0} {w}_{2,1} - v{\\left(z \\right)} {r}_{1,1} {w}_{2,0} + v{\\left(z \\right)} {r}_{2,0} {w}_{1,1} + v{\\left(z \\right)} {r}_{2,1} {w}_{1,0} - {r}_{1,0} {w}_{2,2} c - {r}_{1,2} {w}_{2,0} c + {r}_{2,0} {w}_{1,2} c + {r}_{2,2} {w}_{1,0} c\\right) u{\\left(z \\right)}$"
      ],
      "text/plain": [
       "Eq(Derivative(u(z), z), (-r[1, 0]*w[2, 0] + r[2, 0]*w[1, 0])*u(z)**2 + (-r[1, 1]*w[2, 1] + r[2, 1]*w[1, 1])*v(z)**2 - (r[1, 2]*w[2, 2] - r[2, 2]*w[1, 2])*c**2 - (r[1, 1]*w[2, 2] + r[1, 2]*w[2, 1] - r[2, 1]*w[1, 2] - r[2, 2]*w[1, 1])*v(z)*c + (-v(z)*r[1, 0]*w[2, 1] - v(z)*r[1, 1]*w[2, 0] + v(z)*r[2, 0]*w[1, 1] + v(z)*r[2, 1]*w[1, 0] - r[1, 0]*w[2, 2]*c - r[1, 2]*w[2, 0]*c + r[2, 0]*w[1, 2]*c + r[2, 2]*w[1, 0]*c)*u(z))"
      ]
     },
     "execution_count": 139,
     "metadata": {},
     "output_type": "execute_result"
    },
    {
     "data": {
      "text/latex": [
       "$\\displaystyle \\frac{d}{d z} v{\\left(z \\right)} = \\left({r}_{0,0} {w}_{2,0} - {r}_{2,0} {w}_{0,0}\\right) u^{2}{\\left(z \\right)} + \\left({r}_{0,1} {w}_{2,1} - {r}_{2,1} {w}_{0,1}\\right) v^{2}{\\left(z \\right)} + \\left({r}_{0,2} {w}_{2,2} - {r}_{2,2} {w}_{0,2}\\right) c^{2} + \\left({r}_{0,1} {w}_{2,2} + {r}_{0,2} {w}_{2,1} - {r}_{2,1} {w}_{0,2} - {r}_{2,2} {w}_{0,1}\\right) v{\\left(z \\right)} c + \\left(v{\\left(z \\right)} {r}_{0,0} {w}_{2,1} + v{\\left(z \\right)} {r}_{0,1} {w}_{2,0} - v{\\left(z \\right)} {r}_{2,0} {w}_{0,1} - v{\\left(z \\right)} {r}_{2,1} {w}_{0,0} + {r}_{0,0} {w}_{2,2} c + {r}_{0,2} {w}_{2,0} c - {r}_{2,0} {w}_{0,2} c - {r}_{2,2} {w}_{0,0} c\\right) u{\\left(z \\right)}$"
      ],
      "text/plain": [
       "Eq(Derivative(v(z), z), (r[0, 0]*w[2, 0] - r[2, 0]*w[0, 0])*u(z)**2 + (r[0, 1]*w[2, 1] - r[2, 1]*w[0, 1])*v(z)**2 + (r[0, 2]*w[2, 2] - r[2, 2]*w[0, 2])*c**2 + (r[0, 1]*w[2, 2] + r[0, 2]*w[2, 1] - r[2, 1]*w[0, 2] - r[2, 2]*w[0, 1])*v(z)*c + (v(z)*r[0, 0]*w[2, 1] + v(z)*r[0, 1]*w[2, 0] - v(z)*r[2, 0]*w[0, 1] - v(z)*r[2, 1]*w[0, 0] + r[0, 0]*w[2, 2]*c + r[0, 2]*w[2, 0]*c - r[2, 0]*w[0, 2]*c - r[2, 2]*w[0, 0]*c)*u(z))"
      ]
     },
     "execution_count": 139,
     "metadata": {},
     "output_type": "execute_result"
    },
    {
     "data": {
      "text/latex": [
       "$\\displaystyle 0 = \\left(- {r}_{0,0} {w}_{1,0} + {r}_{1,0} {w}_{0,0}\\right) u^{2}{\\left(z \\right)} + \\left(- {r}_{0,1} {w}_{1,1} + {r}_{1,1} {w}_{0,1}\\right) v^{2}{\\left(z \\right)} - \\left({r}_{0,2} {w}_{1,2} - {r}_{1,2} {w}_{0,2}\\right) c^{2} - \\left({r}_{0,1} {w}_{1,2} + {r}_{0,2} {w}_{1,1} - {r}_{1,1} {w}_{0,2} - {r}_{1,2} {w}_{0,1}\\right) v{\\left(z \\right)} c + \\left(- v{\\left(z \\right)} {r}_{0,0} {w}_{1,1} - v{\\left(z \\right)} {r}_{0,1} {w}_{1,0} + v{\\left(z \\right)} {r}_{1,0} {w}_{0,1} + v{\\left(z \\right)} {r}_{1,1} {w}_{0,0} - {r}_{0,0} {w}_{1,2} c - {r}_{0,2} {w}_{1,0} c + {r}_{1,0} {w}_{0,2} c + {r}_{1,2} {w}_{0,0} c\\right) u{\\left(z \\right)}$"
      ],
      "text/plain": [
       "Eq(0, (-r[0, 0]*w[1, 0] + r[1, 0]*w[0, 0])*u(z)**2 + (-r[0, 1]*w[1, 1] + r[1, 1]*w[0, 1])*v(z)**2 - (r[0, 2]*w[1, 2] - r[1, 2]*w[0, 2])*c**2 - (r[0, 1]*w[1, 2] + r[0, 2]*w[1, 1] - r[1, 1]*w[0, 2] - r[1, 2]*w[0, 1])*v(z)*c + (-v(z)*r[0, 0]*w[1, 1] - v(z)*r[0, 1]*w[1, 0] + v(z)*r[1, 0]*w[0, 1] + v(z)*r[1, 1]*w[0, 0] - r[0, 0]*w[1, 2]*c - r[0, 2]*w[1, 0]*c + r[1, 0]*w[0, 2]*c + r[1, 2]*w[0, 0]*c)*u(z))"
      ]
     },
     "execution_count": 139,
     "metadata": {},
     "output_type": "execute_result"
    }
   ],
   "source": [
    "eqs3 = [Eq(dv0[i], cross_result[i].expand().collect([u(z),v(z)],factor)) for i in range(3)]\n",
    "for eq in eqs3:\n",
    "    eq"
   ]
  },
  {
   "cell_type": "code",
   "execution_count": 140,
   "id": "fde1dc80-37f6-42c8-9a4c-d9249ef9ad0d",
   "metadata": {},
   "outputs": [],
   "source": [
    "uvsqrd_coeffs = [\n",
    "    eqs3[0].rhs.coeff(u(z)**2), eqs3[1].rhs.coeff(u(z)**2), eqs3[0].rhs.coeff(v(z)**2), eqs3[1].rhs.coeff(v(z)**2)]"
   ]
  },
  {
   "cell_type": "code",
   "execution_count": 141,
   "id": "8317ea5e-10ac-46a5-bb86-f329f3ddc29a",
   "metadata": {},
   "outputs": [
    {
     "data": {
      "text/plain": [
       "[(w[0, 1], r[0, 1]*w[1, 1]/r[1, 1]),\n",
       " (w[1, 0], r[1, 0]*w[0, 0]/r[0, 0]),\n",
       " (w[2, 0], r[2, 0]*w[0, 0]/r[0, 0]),\n",
       " (w[2, 1], r[2, 1]*w[1, 1]/r[1, 1])]"
      ]
     },
     "execution_count": 141,
     "metadata": {},
     "output_type": "execute_result"
    }
   ],
   "source": [
    "solve_dict = solve(uvsqrd_coeffs, [w[2,1], w[0,1],w[1,0],w[2,0]])\n",
    "solve_subs = [(k, solve_dict[k]) for k in solve_dict]\n",
    "solve_subs"
   ]
  },
  {
   "cell_type": "code",
   "execution_count": 142,
   "id": "68e00ecb-feaa-4fb5-bf1b-44e673d9f36c",
   "metadata": {},
   "outputs": [
    {
     "data": {
      "text/latex": [
       "$\\displaystyle \\frac{d}{d z} u{\\left(z \\right)} = - \\frac{\\left({r}_{0,0} {w}_{1,1} - {r}_{1,1} {w}_{0,0}\\right) \\left({r}_{1,0} {r}_{2,1} - {r}_{1,1} {r}_{2,0}\\right) u{\\left(z \\right)} v{\\left(z \\right)}}{{r}_{0,0} {r}_{1,1}} - \\left({r}_{1,2} {w}_{2,2} - {r}_{2,2} {w}_{1,2}\\right) c^{2} - \\frac{\\left({r}_{1,1}^{2} {w}_{2,2} - {r}_{1,1} {r}_{2,1} {w}_{1,2} - {r}_{1,1} {r}_{2,2} {w}_{1,1} + {r}_{1,2} {r}_{2,1} {w}_{1,1}\\right) v{\\left(z \\right)} c}{{r}_{1,1}} - \\frac{\\left({r}_{0,0} {r}_{1,0} {w}_{2,2} - {r}_{0,0} {r}_{2,0} {w}_{1,2} - {r}_{1,0} {r}_{2,2} {w}_{0,0} + {r}_{1,2} {r}_{2,0} {w}_{0,0}\\right) u{\\left(z \\right)} c}{{r}_{0,0}}$"
      ],
      "text/plain": [
       "Eq(Derivative(u(z), z), -(r[0, 0]*w[1, 1] - r[1, 1]*w[0, 0])*(r[1, 0]*r[2, 1] - r[1, 1]*r[2, 0])*u(z)*v(z)/(r[0, 0]*r[1, 1]) - (r[1, 2]*w[2, 2] - r[2, 2]*w[1, 2])*c**2 - (r[1, 1]**2*w[2, 2] - r[1, 1]*r[2, 1]*w[1, 2] - r[1, 1]*r[2, 2]*w[1, 1] + r[1, 2]*r[2, 1]*w[1, 1])*v(z)*c/r[1, 1] - (r[0, 0]*r[1, 0]*w[2, 2] - r[0, 0]*r[2, 0]*w[1, 2] - r[1, 0]*r[2, 2]*w[0, 0] + r[1, 2]*r[2, 0]*w[0, 0])*u(z)*c/r[0, 0])"
      ]
     },
     "execution_count": 142,
     "metadata": {},
     "output_type": "execute_result"
    },
    {
     "data": {
      "text/latex": [
       "$\\displaystyle \\frac{d}{d z} v{\\left(z \\right)} = \\frac{\\left({r}_{0,0} {r}_{2,1} - {r}_{0,1} {r}_{2,0}\\right) \\left({r}_{0,0} {w}_{1,1} - {r}_{1,1} {w}_{0,0}\\right) u{\\left(z \\right)} v{\\left(z \\right)}}{{r}_{0,0} {r}_{1,1}} + \\left({r}_{0,2} {w}_{2,2} - {r}_{2,2} {w}_{0,2}\\right) c^{2} + \\frac{\\left({r}_{0,0}^{2} {w}_{2,2} - {r}_{0,0} {r}_{2,0} {w}_{0,2} - {r}_{0,0} {r}_{2,2} {w}_{0,0} + {r}_{0,2} {r}_{2,0} {w}_{0,0}\\right) u{\\left(z \\right)} c}{{r}_{0,0}} + \\frac{\\left({r}_{0,1} {r}_{1,1} {w}_{2,2} - {r}_{0,1} {r}_{2,2} {w}_{1,1} + {r}_{0,2} {r}_{2,1} {w}_{1,1} - {r}_{1,1} {r}_{2,1} {w}_{0,2}\\right) v{\\left(z \\right)} c}{{r}_{1,1}}$"
      ],
      "text/plain": [
       "Eq(Derivative(v(z), z), (r[0, 0]*r[2, 1] - r[0, 1]*r[2, 0])*(r[0, 0]*w[1, 1] - r[1, 1]*w[0, 0])*u(z)*v(z)/(r[0, 0]*r[1, 1]) + (r[0, 2]*w[2, 2] - r[2, 2]*w[0, 2])*c**2 + (r[0, 0]**2*w[2, 2] - r[0, 0]*r[2, 0]*w[0, 2] - r[0, 0]*r[2, 2]*w[0, 0] + r[0, 2]*r[2, 0]*w[0, 0])*u(z)*c/r[0, 0] + (r[0, 1]*r[1, 1]*w[2, 2] - r[0, 1]*r[2, 2]*w[1, 1] + r[0, 2]*r[2, 1]*w[1, 1] - r[1, 1]*r[2, 1]*w[0, 2])*v(z)*c/r[1, 1])"
      ]
     },
     "execution_count": 142,
     "metadata": {},
     "output_type": "execute_result"
    },
    {
     "data": {
      "text/latex": [
       "$\\displaystyle 0 = - \\frac{\\left({r}_{0,0} {r}_{1,1} - {r}_{0,1} {r}_{1,0}\\right) \\left({r}_{0,0} {w}_{1,1} - {r}_{1,1} {w}_{0,0}\\right) u{\\left(z \\right)} v{\\left(z \\right)}}{{r}_{0,0} {r}_{1,1}} - \\left({r}_{0,2} {w}_{1,2} - {r}_{1,2} {w}_{0,2}\\right) c^{2} - \\frac{\\left({r}_{0,0}^{2} {w}_{1,2} - {r}_{0,0} {r}_{1,0} {w}_{0,2} - {r}_{0,0} {r}_{1,2} {w}_{0,0} + {r}_{0,2} {r}_{1,0} {w}_{0,0}\\right) u{\\left(z \\right)} c}{{r}_{0,0}} - \\frac{\\left({r}_{0,1} {r}_{1,1} {w}_{1,2} - {r}_{0,1} {r}_{1,2} {w}_{1,1} + {r}_{0,2} {r}_{1,1} {w}_{1,1} - {r}_{1,1}^{2} {w}_{0,2}\\right) v{\\left(z \\right)} c}{{r}_{1,1}}$"
      ],
      "text/plain": [
       "Eq(0, -(r[0, 0]*r[1, 1] - r[0, 1]*r[1, 0])*(r[0, 0]*w[1, 1] - r[1, 1]*w[0, 0])*u(z)*v(z)/(r[0, 0]*r[1, 1]) - (r[0, 2]*w[1, 2] - r[1, 2]*w[0, 2])*c**2 - (r[0, 0]**2*w[1, 2] - r[0, 0]*r[1, 0]*w[0, 2] - r[0, 0]*r[1, 2]*w[0, 0] + r[0, 2]*r[1, 0]*w[0, 0])*u(z)*c/r[0, 0] - (r[0, 1]*r[1, 1]*w[1, 2] - r[0, 1]*r[1, 2]*w[1, 1] + r[0, 2]*r[1, 1]*w[1, 1] - r[1, 1]**2*w[0, 2])*v(z)*c/r[1, 1])"
      ]
     },
     "execution_count": 142,
     "metadata": {},
     "output_type": "execute_result"
    }
   ],
   "source": [
    "noSqrdeqs3 = [Eq(eq.lhs, eq.rhs.subs(solve_subs).expand().collect([u(z),v(z), u(z)*v(z)],factor)) for eq in eqs3]\n",
    "for eq in noSqrdeqs3:\n",
    "    eq"
   ]
  },
  {
   "cell_type": "code",
   "execution_count": 154,
   "id": "cf83d3a6-e437-4d3b-9c9c-9646d5528ca6",
   "metadata": {},
   "outputs": [
    {
     "data": {
      "text/latex": [
       "$\\displaystyle \\frac{d}{d z} u{\\left(z \\right)} = - \\frac{\\left({r}_{1,0} {r}_{2,1} - {r}_{1,1} {r}_{2,0}\\right) \\left({r}_{0,0} - {r}_{1,1}\\right) u{\\left(z \\right)} v{\\left(z \\right)}}{{r}_{0,0} {r}_{1,1}} + \\frac{\\left({r}_{1,0} {r}_{2,2} - {r}_{1,2} {r}_{2,0}\\right) u{\\left(z \\right)} c}{{r}_{0,0}} + \\frac{\\left({r}_{1,1} {r}_{2,2} - {r}_{1,2} {r}_{2,1}\\right) v{\\left(z \\right)} c}{{r}_{1,1}}$"
      ],
      "text/plain": [
       "Eq(Derivative(u(z), z), -(r[1, 0]*r[2, 1] - r[1, 1]*r[2, 0])*(r[0, 0] - r[1, 1])*u(z)*v(z)/(r[0, 0]*r[1, 1]) + (r[1, 0]*r[2, 2] - r[1, 2]*r[2, 0])*u(z)*c/r[0, 0] + (r[1, 1]*r[2, 2] - r[1, 2]*r[2, 1])*v(z)*c/r[1, 1])"
      ]
     },
     "execution_count": 154,
     "metadata": {},
     "output_type": "execute_result"
    },
    {
     "data": {
      "text/latex": [
       "$\\displaystyle \\frac{d}{d z} v{\\left(z \\right)} = \\frac{\\left({r}_{0,0} {r}_{2,1} - {r}_{0,1} {r}_{2,0}\\right) \\left({r}_{0,0} - {r}_{1,1}\\right) u{\\left(z \\right)} v{\\left(z \\right)}}{{r}_{0,0} {r}_{1,1}} - \\frac{\\left({r}_{0,0} {r}_{2,2} - {r}_{0,2} {r}_{2,0}\\right) u{\\left(z \\right)} c}{{r}_{0,0}} - \\frac{\\left({r}_{0,1} {r}_{2,2} - {r}_{0,2} {r}_{2,1}\\right) v{\\left(z \\right)} c}{{r}_{1,1}}$"
      ],
      "text/plain": [
       "Eq(Derivative(v(z), z), (r[0, 0]*r[2, 1] - r[0, 1]*r[2, 0])*(r[0, 0] - r[1, 1])*u(z)*v(z)/(r[0, 0]*r[1, 1]) - (r[0, 0]*r[2, 2] - r[0, 2]*r[2, 0])*u(z)*c/r[0, 0] - (r[0, 1]*r[2, 2] - r[0, 2]*r[2, 1])*v(z)*c/r[1, 1])"
      ]
     },
     "execution_count": 154,
     "metadata": {},
     "output_type": "execute_result"
    },
    {
     "data": {
      "text/latex": [
       "$\\displaystyle 0 = - \\frac{\\left({r}_{0,0} {r}_{1,1} - {r}_{0,1} {r}_{1,0}\\right) \\left({r}_{0,0} - {r}_{1,1}\\right) u{\\left(z \\right)} v{\\left(z \\right)}}{{r}_{0,0} {r}_{1,1}} + \\frac{\\left({r}_{0,0} {r}_{1,2} - {r}_{0,2} {r}_{1,0}\\right) u{\\left(z \\right)} c}{{r}_{0,0}} + \\frac{\\left({r}_{0,1} {r}_{1,2} - {r}_{0,2} {r}_{1,1}\\right) v{\\left(z \\right)} c}{{r}_{1,1}}$"
      ],
      "text/plain": [
       "Eq(0, -(r[0, 0]*r[1, 1] - r[0, 1]*r[1, 0])*(r[0, 0] - r[1, 1])*u(z)*v(z)/(r[0, 0]*r[1, 1]) + (r[0, 0]*r[1, 2] - r[0, 2]*r[1, 0])*u(z)*c/r[0, 0] + (r[0, 1]*r[1, 2] - r[0, 2]*r[1, 1])*v(z)*c/r[1, 1])"
      ]
     },
     "execution_count": 154,
     "metadata": {},
     "output_type": "execute_result"
    }
   ],
   "source": [
    "reduced_w_subs = [(w[0,2],0),(w[1,2],0),(w[2,2],0),(w[0,0],1),(w[1,1],1)]\n",
    "reduced_w = [\n",
    "    Eq(eq.lhs, eq.rhs.subs(reduced_w_subs).expand().collect([u(z),v(z), u(z)*v(z)],factor))\n",
    "    for eq in noSqrdeqs3]\n",
    "for eq in reduced_w:\n",
    "    eq"
   ]
  },
  {
   "cell_type": "code",
   "execution_count": 155,
   "id": "aa2c9338-0301-4109-85b7-eea73a9c98cc",
   "metadata": {},
   "outputs": [
    {
     "data": {
      "text/plain": [
       "[(r[2, 2], r[1, 2]*r[2, 1]/r[1, 1])]"
      ]
     },
     "execution_count": 155,
     "metadata": {},
     "output_type": "execute_result"
    }
   ],
   "source": [
    "r22_sub = [(r[2,2], solve(reduced_w[0].rhs.coeff(v(z)).coeff(c),r[2,2])[0])]\n",
    "r22_sub"
   ]
  },
  {
   "cell_type": "code",
   "execution_count": 156,
   "id": "e025d8d9-8b8a-49b4-9fd0-a77ac7356260",
   "metadata": {},
   "outputs": [
    {
     "data": {
      "text/plain": [
       "[(r[2, 0], r[0, 0]*r[2, 2]/r[0, 2]), (r[2, 1], r[1, 1]*r[2, 2]/r[1, 2])]"
      ]
     },
     "execution_count": 156,
     "metadata": {},
     "output_type": "execute_result"
    }
   ],
   "source": [
    "no_lin_coupling_sols = solve([reduced_w[0].rhs.coeff(v(z)).coeff(c), reduced_w[1].rhs.coeff(u(z)).coeff(c)], [r[2,1],r[2,0]])\n",
    "no_lin_coupling_subs = [(k, no_lin_coupling_sols[k]) for k in no_lin_coupling_sols]\n",
    "no_lin_coupling_subs"
   ]
  },
  {
   "cell_type": "code",
   "execution_count": 68,
   "id": "018e8c44-ac33-41ca-97ca-fe58a475b4b3",
   "metadata": {},
   "outputs": [
    {
     "data": {
      "text/latex": [
       "$\\displaystyle \\frac{d}{d z} u{\\left(z \\right)} = \\frac{\\left({r}_{0,0} {r}_{1,2} - {r}_{0,2} {r}_{1,0}\\right) \\left({r}_{0,0} - {r}_{1,1}\\right) u{\\left(z \\right)} v{\\left(z \\right)} {r}_{2,2}}{{r}_{0,0} {r}_{0,2} {r}_{1,2}} - \\frac{\\left({r}_{0,0} {r}_{1,2} - {r}_{0,2} {r}_{1,0}\\right) u{\\left(z \\right)} {r}_{2,2} c}{{r}_{0,0} {r}_{0,2}}$"
      ],
      "text/plain": [
       "Eq(Derivative(u(z), z), (r[0, 0]*r[1, 2] - r[0, 2]*r[1, 0])*(r[0, 0] - r[1, 1])*u(z)*v(z)*r[2, 2]/(r[0, 0]*r[0, 2]*r[1, 2]) - (r[0, 0]*r[1, 2] - r[0, 2]*r[1, 0])*u(z)*r[2, 2]*c/(r[0, 0]*r[0, 2]))"
      ]
     },
     "execution_count": 68,
     "metadata": {},
     "output_type": "execute_result"
    },
    {
     "data": {
      "text/latex": [
       "$\\displaystyle \\frac{d}{d z} v{\\left(z \\right)} = - \\frac{\\left({r}_{0,1} {r}_{1,2} - {r}_{0,2} {r}_{1,1}\\right) \\left({r}_{0,0} - {r}_{1,1}\\right) u{\\left(z \\right)} v{\\left(z \\right)} {r}_{2,2}}{{r}_{0,2} {r}_{1,1} {r}_{1,2}} - \\frac{\\left({r}_{0,1} {r}_{1,2} - {r}_{0,2} {r}_{1,1}\\right) v{\\left(z \\right)} {r}_{2,2} c}{{r}_{1,1} {r}_{1,2}}$"
      ],
      "text/plain": [
       "Eq(Derivative(v(z), z), -(r[0, 1]*r[1, 2] - r[0, 2]*r[1, 1])*(r[0, 0] - r[1, 1])*u(z)*v(z)*r[2, 2]/(r[0, 2]*r[1, 1]*r[1, 2]) - (r[0, 1]*r[1, 2] - r[0, 2]*r[1, 1])*v(z)*r[2, 2]*c/(r[1, 1]*r[1, 2]))"
      ]
     },
     "execution_count": 68,
     "metadata": {},
     "output_type": "execute_result"
    },
    {
     "data": {
      "text/latex": [
       "$\\displaystyle 0 = - \\frac{\\left({r}_{0,0} {r}_{1,1} - {r}_{0,1} {r}_{1,0}\\right) \\left({r}_{0,0} - {r}_{1,1}\\right) u{\\left(z \\right)} v{\\left(z \\right)}}{{r}_{0,0} {r}_{1,1}} + \\frac{\\left({r}_{0,0} {r}_{1,2} - {r}_{0,2} {r}_{1,0}\\right) u{\\left(z \\right)} c}{{r}_{0,0}} + \\frac{\\left({r}_{0,1} {r}_{1,2} - {r}_{0,2} {r}_{1,1}\\right) v{\\left(z \\right)} c}{{r}_{1,1}}$"
      ],
      "text/plain": [
       "Eq(0, -(r[0, 0]*r[1, 1] - r[0, 1]*r[1, 0])*(r[0, 0] - r[1, 1])*u(z)*v(z)/(r[0, 0]*r[1, 1]) + (r[0, 0]*r[1, 2] - r[0, 2]*r[1, 0])*u(z)*c/r[0, 0] + (r[0, 1]*r[1, 2] - r[0, 2]*r[1, 1])*v(z)*c/r[1, 1])"
      ]
     },
     "execution_count": 68,
     "metadata": {},
     "output_type": "execute_result"
    }
   ],
   "source": [
    "no_lin_coupling_eqs = [\n",
    "    Eq(eq.lhs, eq.rhs.subs(no_lin_coupling_subs).expand().collect([u(z),v(z), u(z)*v(z)],factor)) for eq in reduced_w]\n",
    "for eq in no_lin_coupling_eqs:\n",
    "    eq\n",
    "    "
   ]
  },
  {
   "cell_type": "code",
   "execution_count": 69,
   "id": "99d855ca-178f-45e5-ac97-79a39bf32f26",
   "metadata": {},
   "outputs": [],
   "source": [
    "rescaled_subs = [(u(z),a*f(z)),(v(z), b*h(z))]"
   ]
  },
  {
   "cell_type": "code",
   "execution_count": 80,
   "id": "3c9e1828-af6a-423b-bc5c-9a829cc98e09",
   "metadata": {},
   "outputs": [
    {
     "data": {
      "text/latex": [
       "$\\displaystyle \\frac{d}{d z} f{\\left(z \\right)} = \\frac{\\left({r}_{0,0} {r}_{1,2} - {r}_{0,2} {r}_{1,0}\\right) \\left({r}_{0,0} - {r}_{1,1}\\right) f{\\left(z \\right)} h{\\left(z \\right)} {r}_{2,2} b}{{r}_{0,0} {r}_{0,2} {r}_{1,2}} - \\frac{\\left({r}_{0,0} {r}_{1,2} - {r}_{0,2} {r}_{1,0}\\right) f{\\left(z \\right)} {r}_{2,2} c}{{r}_{0,0} {r}_{0,2}}$"
      ],
      "text/plain": [
       "Eq(Derivative(f(z), z), (r[0, 0]*r[1, 2] - r[0, 2]*r[1, 0])*(r[0, 0] - r[1, 1])*f(z)*h(z)*r[2, 2]*b/(r[0, 0]*r[0, 2]*r[1, 2]) - (r[0, 0]*r[1, 2] - r[0, 2]*r[1, 0])*f(z)*r[2, 2]*c/(r[0, 0]*r[0, 2]))"
      ]
     },
     "execution_count": 80,
     "metadata": {},
     "output_type": "execute_result"
    },
    {
     "data": {
      "text/latex": [
       "$\\displaystyle \\frac{d}{d z} h{\\left(z \\right)} = - \\frac{\\left({r}_{0,1} {r}_{1,2} - {r}_{0,2} {r}_{1,1}\\right) \\left({r}_{0,0} - {r}_{1,1}\\right) f{\\left(z \\right)} h{\\left(z \\right)} {r}_{2,2} a}{{r}_{0,2} {r}_{1,1} {r}_{1,2}} - \\frac{\\left({r}_{0,1} {r}_{1,2} - {r}_{0,2} {r}_{1,1}\\right) h{\\left(z \\right)} {r}_{2,2} c}{{r}_{1,1} {r}_{1,2}}$"
      ],
      "text/plain": [
       "Eq(Derivative(h(z), z), -(r[0, 1]*r[1, 2] - r[0, 2]*r[1, 1])*(r[0, 0] - r[1, 1])*f(z)*h(z)*r[2, 2]*a/(r[0, 2]*r[1, 1]*r[1, 2]) - (r[0, 1]*r[1, 2] - r[0, 2]*r[1, 1])*h(z)*r[2, 2]*c/(r[1, 1]*r[1, 2]))"
      ]
     },
     "execution_count": 80,
     "metadata": {},
     "output_type": "execute_result"
    },
    {
     "data": {
      "text/latex": [
       "$\\displaystyle 0 = - \\frac{\\left({r}_{0,0} {r}_{1,1} - {r}_{0,1} {r}_{1,0}\\right) \\left({r}_{0,0} - {r}_{1,1}\\right) f{\\left(z \\right)} h{\\left(z \\right)} a b}{{r}_{0,0} {r}_{1,1}} + \\frac{\\left({r}_{0,0} {r}_{1,2} - {r}_{0,2} {r}_{1,0}\\right) f{\\left(z \\right)} a c}{{r}_{0,0}} + \\frac{\\left({r}_{0,1} {r}_{1,2} - {r}_{0,2} {r}_{1,1}\\right) h{\\left(z \\right)} b c}{{r}_{1,1}}$"
      ],
      "text/plain": [
       "Eq(0, -(r[0, 0]*r[1, 1] - r[0, 1]*r[1, 0])*(r[0, 0] - r[1, 1])*f(z)*h(z)*a*b/(r[0, 0]*r[1, 1]) + (r[0, 0]*r[1, 2] - r[0, 2]*r[1, 0])*f(z)*a*c/r[0, 0] + (r[0, 1]*r[1, 2] - r[0, 2]*r[1, 1])*h(z)*b*c/r[1, 1])"
      ]
     },
     "execution_count": 80,
     "metadata": {},
     "output_type": "execute_result"
    }
   ],
   "source": [
    "rescaled_sols = solve(\n",
    "    [eq.lhs.subs(rescaled_subs).doit().expand() - eq.rhs.subs(rescaled_subs) for eq in no_lin_coupling_eqs[0:2]],\n",
    "    [diff(f(z),z),diff(h(z),z)])\n",
    "rescaled_eqs = [Eq(k, rescaled_sols[k].collect([f(z),h(z),f(z)*h(z)],factor)) for k in  rescaled_sols] + [no_lin_coupling_eqs[2].subs(rescaled_subs)]\n",
    "for eq in rescaled_eqs:\n",
    "    eq"
   ]
  },
  {
   "cell_type": "code",
   "execution_count": 83,
   "id": "610df7c6-6529-442f-adff-83bab21d6e1b",
   "metadata": {},
   "outputs": [
    {
     "data": {
      "text/latex": [
       "$\\displaystyle b = \\frac{{r}_{0,0} {r}_{0,2} {r}_{1,2}}{\\left({r}_{0,0} {r}_{1,2} - {r}_{0,2} {r}_{1,0}\\right) \\left({r}_{0,0} - {r}_{1,1}\\right) {r}_{2,2}}$"
      ],
      "text/plain": [
       "Eq(b, r[0, 0]*r[0, 2]*r[1, 2]/((r[0, 0]*r[1, 2] - r[0, 2]*r[1, 0])*(r[0, 0] - r[1, 1])*r[2, 2]))"
      ]
     },
     "execution_count": 83,
     "metadata": {},
     "output_type": "execute_result"
    }
   ],
   "source": [
    "Eq(b, solve(rescaled_eqs[0].rhs.coeff(f(z)*h(z)) - 1,b)[0].factor())"
   ]
  },
  {
   "cell_type": "code",
   "execution_count": 85,
   "id": "24b81d63-7578-47be-8c5c-5bb157b5e7cd",
   "metadata": {},
   "outputs": [
    {
     "data": {
      "text/latex": [
       "$\\displaystyle a = - \\frac{{r}_{0,2} {r}_{1,1} {r}_{1,2}}{\\left({r}_{0,1} {r}_{1,2} - {r}_{0,2} {r}_{1,1}\\right) \\left({r}_{0,0} - {r}_{1,1}\\right) {r}_{2,2}}$"
      ],
      "text/plain": [
       "Eq(a, -r[0, 2]*r[1, 1]*r[1, 2]/((r[0, 1]*r[1, 2] - r[0, 2]*r[1, 1])*(r[0, 0] - r[1, 1])*r[2, 2]))"
      ]
     },
     "execution_count": 85,
     "metadata": {},
     "output_type": "execute_result"
    }
   ],
   "source": [
    "Eq(a, solve(rescaled_eqs[1].rhs.coeff(f(z)*h(z)) - 1,a)[0].factor())"
   ]
  },
  {
   "cell_type": "code",
   "execution_count": 90,
   "id": "7f64d894-cc4d-4897-8dc0-a052a08c6cc2",
   "metadata": {},
   "outputs": [
    {
     "data": {
      "text/latex": [
       "$\\displaystyle \\frac{d}{d z} f{\\left(z \\right)} = - \\frac{\\left({r}_{0,0} {r}_{1,2} - {r}_{0,2} {r}_{1,0}\\right) f{\\left(z \\right)} {r}_{2,2} c}{{r}_{0,0} {r}_{0,2}} + f{\\left(z \\right)} h{\\left(z \\right)}$"
      ],
      "text/plain": [
       "Eq(Derivative(f(z), z), -(r[0, 0]*r[1, 2] - r[0, 2]*r[1, 0])*f(z)*r[2, 2]*c/(r[0, 0]*r[0, 2]) + f(z)*h(z))"
      ]
     },
     "execution_count": 90,
     "metadata": {},
     "output_type": "execute_result"
    },
    {
     "data": {
      "text/latex": [
       "$\\displaystyle \\frac{d}{d z} h{\\left(z \\right)} = - \\frac{\\left({r}_{0,1} {r}_{1,2} - {r}_{0,2} {r}_{1,1}\\right) h{\\left(z \\right)} {r}_{2,2} c}{{r}_{1,1} {r}_{1,2}} + f{\\left(z \\right)} h{\\left(z \\right)}$"
      ],
      "text/plain": [
       "Eq(Derivative(h(z), z), -(r[0, 1]*r[1, 2] - r[0, 2]*r[1, 1])*h(z)*r[2, 2]*c/(r[1, 1]*r[1, 2]) + f(z)*h(z))"
      ]
     },
     "execution_count": 90,
     "metadata": {},
     "output_type": "execute_result"
    },
    {
     "data": {
      "text/latex": [
       "$\\displaystyle 0 = \\frac{\\left({r}_{0,0} {r}_{1,1} - {r}_{0,1} {r}_{1,0}\\right) f{\\left(z \\right)} h{\\left(z \\right)} {r}_{0,2}^{2} {r}_{1,2}^{2}}{\\left({r}_{0,0} {r}_{1,2} - {r}_{0,2} {r}_{1,0}\\right) \\left({r}_{0,1} {r}_{1,2} - {r}_{0,2} {r}_{1,1}\\right) \\left({r}_{0,0} - {r}_{1,1}\\right) {r}_{2,2}^{2}} - \\frac{\\left({r}_{0,0} {r}_{1,2} - {r}_{0,2} {r}_{1,0}\\right) f{\\left(z \\right)} {r}_{0,2} {r}_{1,1} {r}_{1,2} c}{\\left({r}_{0,1} {r}_{1,2} - {r}_{0,2} {r}_{1,1}\\right) \\left({r}_{0,0} - {r}_{1,1}\\right) {r}_{0,0} {r}_{2,2}} + \\frac{\\left({r}_{0,1} {r}_{1,2} - {r}_{0,2} {r}_{1,1}\\right) h{\\left(z \\right)} {r}_{0,0} {r}_{0,2} {r}_{1,2} c}{\\left({r}_{0,0} {r}_{1,2} - {r}_{0,2} {r}_{1,0}\\right) \\left({r}_{0,0} - {r}_{1,1}\\right) {r}_{1,1} {r}_{2,2}}$"
      ],
      "text/plain": [
       "Eq(0, (r[0, 0]*r[1, 1] - r[0, 1]*r[1, 0])*f(z)*h(z)*r[0, 2]**2*r[1, 2]**2/((r[0, 0]*r[1, 2] - r[0, 2]*r[1, 0])*(r[0, 1]*r[1, 2] - r[0, 2]*r[1, 1])*(r[0, 0] - r[1, 1])*r[2, 2]**2) - (r[0, 0]*r[1, 2] - r[0, 2]*r[1, 0])*f(z)*r[0, 2]*r[1, 1]*r[1, 2]*c/((r[0, 1]*r[1, 2] - r[0, 2]*r[1, 1])*(r[0, 0] - r[1, 1])*r[0, 0]*r[2, 2]) + (r[0, 1]*r[1, 2] - r[0, 2]*r[1, 1])*h(z)*r[0, 0]*r[0, 2]*r[1, 2]*c/((r[0, 0]*r[1, 2] - r[0, 2]*r[1, 0])*(r[0, 0] - r[1, 1])*r[1, 1]*r[2, 2]))"
      ]
     },
     "execution_count": 90,
     "metadata": {},
     "output_type": "execute_result"
    }
   ],
   "source": [
    "normalised_sols = solve([rescaled_eqs[0].rhs.coeff(f(z)*h(z)) - 1, rescaled_eqs[1].rhs.coeff(f(z)*h(z)) - 1],[a,b])\n",
    "normalised_subs = [(k, normalised_sols[k]) for k in normalised_sols]\n",
    "normalised_eqs = [Eq(eq.lhs, eq.rhs.subs(normalised_subs).collect([f(z),h(z),f(z)*h(z)],factor)) for eq in rescaled_eqs]\n",
    "for eq in normalised_eqs:\n",
    "    eq"
   ]
  },
  {
   "cell_type": "code",
   "execution_count": 113,
   "id": "f93c7a10-2d5a-4589-ba11-32ced2880c03",
   "metadata": {},
   "outputs": [
    {
     "data": {
      "text/latex": [
       "$\\displaystyle {r}_{0,2} = \\frac{{r}_{0,0} {r}_{1,2} {r}_{2,2}}{{r}_{0,0} + {r}_{1,0} {r}_{2,2}}$"
      ],
      "text/plain": [
       "Eq(r[0, 2], r[0, 0]*r[1, 2]*r[2, 2]/(r[0, 0] + r[1, 0]*r[2, 2]))"
      ]
     },
     "execution_count": 113,
     "metadata": {},
     "output_type": "execute_result"
    }
   ],
   "source": [
    "r02_coeff_eqs1 = Eq(r[0,2], solve(normalised_eqs[0].rhs.coeff(f(z)).coeff(c) + 1,r[0,2])[0])\n",
    "r02_coeff_eqs1"
   ]
  },
  {
   "cell_type": "code",
   "execution_count": 114,
   "id": "9174552a-27a5-4324-a775-6d4782f9d990",
   "metadata": {},
   "outputs": [
    {
     "data": {
      "text/latex": [
       "$\\displaystyle {r}_{0,1} = \\frac{\\left({r}_{0,0} {r}_{2,2}^{2} - {r}_{0,0} - {r}_{1,0} {r}_{2,2}\\right) {r}_{1,1}}{\\left({r}_{0,0} + {r}_{1,0} {r}_{2,2}\\right) {r}_{2,2}}$"
      ],
      "text/plain": [
       "Eq(r[0, 1], (r[0, 0]*r[2, 2]**2 - r[0, 0] - r[1, 0]*r[2, 2])*r[1, 1]/((r[0, 0] + r[1, 0]*r[2, 2])*r[2, 2]))"
      ]
     },
     "execution_count": 114,
     "metadata": {},
     "output_type": "execute_result"
    }
   ],
   "source": [
    "r01_coeff_eqs1 = Eq(r[0,1], solve(normalised_eqs[1].rhs.coeff(h(z)).coeff(c).subs(*r02_coeff_eqs1.args) - 1,r[0,1])[0])\n",
    "r01_coeff_eqs1"
   ]
  },
  {
   "cell_type": "code",
   "execution_count": 190,
   "id": "c3e01fdd-270d-4b0b-92c7-1c7cac284b38",
   "metadata": {},
   "outputs": [
    {
     "data": {
      "text/latex": [
       "$\\displaystyle \\frac{d}{d z} f{\\left(z \\right)} = f{\\left(z \\right)} h{\\left(z \\right)} - f{\\left(z \\right)} c$"
      ],
      "text/plain": [
       "Eq(Derivative(f(z), z), f(z)*h(z) - f(z)*c)"
      ]
     },
     "execution_count": 190,
     "metadata": {},
     "output_type": "execute_result"
    },
    {
     "data": {
      "text/latex": [
       "$\\displaystyle \\frac{d}{d z} h{\\left(z \\right)} = f{\\left(z \\right)} h{\\left(z \\right)} + h{\\left(z \\right)} c$"
      ],
      "text/plain": [
       "Eq(Derivative(h(z), z), f(z)*h(z) + h(z)*c)"
      ]
     },
     "execution_count": 190,
     "metadata": {},
     "output_type": "execute_result"
    },
    {
     "data": {
      "text/latex": [
       "$\\displaystyle 0 = - \\frac{h{\\left(z \\right)} {r}_{1,2}^{2} c}{\\left({r}_{0,0} - {r}_{1,1}\\right) {r}_{2,2}} - \\frac{\\left({r}_{0,0}^{2} {r}_{2,2} + {r}_{0,0} {r}_{1,0} + {r}_{1,0}^{2} {r}_{2,2}\\right) f{\\left(z \\right)} h{\\left(z \\right)} {r}_{1,2}^{2}}{\\left({r}_{0,0} + {r}_{1,0} {r}_{2,2}\\right)^{2} \\left({r}_{0,0} - {r}_{1,1}\\right)} + \\frac{f{\\left(z \\right)} {r}_{0,0}^{2} {r}_{1,2}^{2} {r}_{2,2} c}{\\left({r}_{0,0} + {r}_{1,0} {r}_{2,2}\\right)^{2} \\left({r}_{0,0} - {r}_{1,1}\\right)}$"
      ],
      "text/plain": [
       "Eq(0, -h(z)*r[1, 2]**2*c/((r[0, 0] - r[1, 1])*r[2, 2]) - (r[0, 0]**2*r[2, 2] + r[0, 0]*r[1, 0] + r[1, 0]**2*r[2, 2])*f(z)*h(z)*r[1, 2]**2/((r[0, 0] + r[1, 0]*r[2, 2])**2*(r[0, 0] - r[1, 1])) + f(z)*r[0, 0]**2*r[1, 2]**2*r[2, 2]*c/((r[0, 0] + r[1, 0]*r[2, 2])**2*(r[0, 0] - r[1, 1])))"
      ]
     },
     "execution_count": 190,
     "metadata": {},
     "output_type": "execute_result"
    }
   ],
   "source": [
    "r02_01_coeff_eqs_subs = [r02_coeff_eqs1.args, r01_coeff_eqs1.args]\n",
    "normalised_to_1_lc_eqs = [Eq(eq.lhs, eq.rhs.subs(r02_01_coeff_eqs_subs).collect([f(z),h(z),f(z)*h(z)],factor)) \n",
    "                          for eq in normalised_eqs]\n",
    "for eq in normalised_to_1_lc_eqs:\n",
    "    eq"
   ]
  },
  {
   "cell_type": "code",
   "execution_count": 189,
   "id": "aa9d0186-d259-46a6-913e-f7acb4496a1d",
   "metadata": {},
   "outputs": [
    {
     "data": {
      "text/latex": [
       "$\\displaystyle - \\frac{h{\\left(z \\right)}}{{r}_{2,2}} - \\frac{\\left({r}_{0,0}^{2} {r}_{2,2} + {r}_{0,0} {r}_{1,0} + {r}_{1,0}^{2} {r}_{2,2}\\right) f{\\left(z \\right)} h{\\left(z \\right)}}{\\left({r}_{0,0} + {r}_{1,0} {r}_{2,2}\\right)^{2} c} + \\frac{f{\\left(z \\right)} {r}_{0,0}^{2} {r}_{2,2}}{\\left({r}_{0,0} + {r}_{1,0} {r}_{2,2}\\right)^{2}}$"
      ],
      "text/plain": [
       "-h(z)/r[2, 2] - (r[0, 0]**2*r[2, 2] + r[0, 0]*r[1, 0] + r[1, 0]**2*r[2, 2])*f(z)*h(z)/((r[0, 0] + r[1, 0]*r[2, 2])**2*c) + f(z)*r[0, 0]**2*r[2, 2]/(r[0, 0] + r[1, 0]*r[2, 2])**2"
      ]
     },
     "execution_count": 189,
     "metadata": {},
     "output_type": "execute_result"
    }
   ],
   "source": [
    "(normalised_to_1_lc_eqs[2].rhs/(r[1,2]**2*c/(r[0,0] - r[1,1]))).expand().collect([f(z),h(z),f(z)*h(z)],factor)"
   ]
  },
  {
   "cell_type": "markdown",
   "id": "2aa74d24-7213-42eb-9ef2-2312790510ed",
   "metadata": {},
   "source": [
    "## Checks"
   ]
  },
  {
   "cell_type": "code",
   "execution_count": 278,
   "id": "a448d6e3-f5d6-415e-88a3-79be37c7db88",
   "metadata": {},
   "outputs": [],
   "source": [
    "r12sub = [(r[1,2], r[0,0] - r[1,1])]\n",
    "r10sub = [(r[1,0], r[0,0]*(1-1/r[2,2]))]\n",
    "r22_1 = [(r[2,2],1),(r[0,0],2),(r[1,1],1)]"
   ]
  },
  {
   "cell_type": "code",
   "execution_count": 279,
   "id": "2a69cf40-60a7-45bb-84ae-336a70325175",
   "metadata": {},
   "outputs": [
    {
     "data": {
      "text/latex": [
       "$\\displaystyle \\left[\\begin{matrix}{r}_{0,0} & {r}_{1,1} - \\frac{{r}_{1,1}}{{r}_{2,2}} & {r}_{0,0} - {r}_{1,1}\\\\{r}_{0,0} - \\frac{{r}_{0,0}}{{r}_{2,2}} & {r}_{1,1} & {r}_{0,0} - {r}_{1,1}\\\\\\frac{{r}_{0,0} {r}_{2,2}}{{r}_{0,0} - {r}_{1,1}} & \\frac{{r}_{1,1} {r}_{2,2}}{{r}_{0,0} - {r}_{1,1}} & {r}_{2,2}\\end{matrix}\\right]$"
      ],
      "text/plain": [
       "Matrix([\n",
       "[                            r[0, 0],           r[1, 1] - r[1, 1]/r[2, 2], r[0, 0] - r[1, 1]],\n",
       "[          r[0, 0] - r[0, 0]/r[2, 2],                             r[1, 1], r[0, 0] - r[1, 1]],\n",
       "[r[0, 0]*r[2, 2]/(r[0, 0] - r[1, 1]), r[1, 1]*r[2, 2]/(r[0, 0] - r[1, 1]),           r[2, 2]]])"
      ]
     },
     "execution_count": 279,
     "metadata": {},
     "output_type": "execute_result"
    }
   ],
   "source": [
    "RR = R.subs(r22_sub).subs(no_lin_coupling_subs).subs(r02_01_coeff_eqs_subs).subs(r12sub).subs(r10sub)#.subs(r[2,2],Rational(1,2))#.expand().subs(r22_1)\n",
    "RR.expand()"
   ]
  },
  {
   "cell_type": "code",
   "execution_count": 280,
   "id": "3536da2c-8517-4bde-97f8-a4ad3eb24c6f",
   "metadata": {},
   "outputs": [
    {
     "data": {
      "text/latex": [
       "$\\displaystyle \\left[\\begin{matrix}1 & 1 - \\frac{1}{{r}_{2,2}} & 0\\\\1 - \\frac{1}{{r}_{2,2}} & 1 & 0\\\\\\frac{{r}_{2,2}}{{r}_{0,0} - {r}_{1,1}} & \\frac{{r}_{2,2}}{{r}_{0,0} - {r}_{1,1}} & 0\\end{matrix}\\right]$"
      ],
      "text/plain": [
       "Matrix([\n",
       "[                          1,               1 - 1/r[2, 2], 0],\n",
       "[              1 - 1/r[2, 2],                           1, 0],\n",
       "[r[2, 2]/(r[0, 0] - r[1, 1]), r[2, 2]/(r[0, 0] - r[1, 1]), 0]])"
      ]
     },
     "execution_count": 280,
     "metadata": {},
     "output_type": "execute_result"
    }
   ],
   "source": [
    "WW = W.subs(solve_subs).subs(reduced_w_subs).subs(r22_sub).subs(no_lin_coupling_subs).subs(r02_01_coeff_eqs_subs).subs(r12sub).subs(r10sub)#.subs(r[2,2],Rational(1,2))#.expand().subs(r22_1)\n",
    "WW.expand()"
   ]
  },
  {
   "cell_type": "code",
   "execution_count": 281,
   "id": "564a106d-8ee6-458a-bf2e-bb51588aff0f",
   "metadata": {},
   "outputs": [
    {
     "data": {
      "text/latex": [
       "$\\displaystyle \\left[\\begin{matrix}\\frac{d}{d z} u{\\left(z \\right)}\\\\\\frac{d}{d z} v{\\left(z \\right)}\\\\0\\end{matrix}\\right] = \\left[\\begin{matrix}\\left(\\left(1 - \\frac{1}{{r}_{2,2}}\\right) u{\\left(z \\right)} + v{\\left(z \\right)}\\right) \\left(\\frac{\\left(\\left(1 - \\frac{1}{{r}_{2,2}}\\right) {r}_{0,0} {r}_{2,2} + {r}_{0,0}\\right) u{\\left(z \\right)}}{{r}_{0,0} - {r}_{1,1}} + {r}_{2,2} c + \\frac{v{\\left(z \\right)} {r}_{1,1} {r}_{2,2}}{{r}_{0,0} - {r}_{1,1}}\\right) - \\left(\\frac{\\left(\\left(1 - \\frac{1}{{r}_{2,2}}\\right) {r}_{0,0} {r}_{2,2} + {r}_{0,0}\\right) u{\\left(z \\right)}}{\\left({r}_{0,0} - {r}_{1,1}\\right) {r}_{0,0}} + \\frac{v{\\left(z \\right)} {r}_{2,2}}{{r}_{0,0} - {r}_{1,1}}\\right) \\left(\\left(1 - \\frac{1}{{r}_{2,2}}\\right) u{\\left(z \\right)} {r}_{0,0} + \\left({r}_{0,0} - {r}_{1,1}\\right) c + v{\\left(z \\right)} {r}_{1,1}\\right)\\\\\\left(\\frac{\\left(\\left(1 - \\frac{1}{{r}_{2,2}}\\right) {r}_{0,0} {r}_{2,2} + {r}_{0,0}\\right) u{\\left(z \\right)}}{\\left({r}_{0,0} - {r}_{1,1}\\right) {r}_{0,0}} + \\frac{v{\\left(z \\right)} {r}_{2,2}}{{r}_{0,0} - {r}_{1,1}}\\right) \\left(u{\\left(z \\right)} {r}_{0,0} + \\frac{\\left({r}_{0,0} - {r}_{1,1}\\right) {r}_{0,0} {r}_{2,2} c}{\\left(1 - \\frac{1}{{r}_{2,2}}\\right) {r}_{0,0} {r}_{2,2} + {r}_{0,0}} + \\frac{\\left(- \\left(1 - \\frac{1}{{r}_{2,2}}\\right) {r}_{0,0} {r}_{2,2} + {r}_{0,0} {r}_{2,2}^{2} - {r}_{0,0}\\right) v{\\left(z \\right)} {r}_{1,1}}{\\left(\\left(1 - \\frac{1}{{r}_{2,2}}\\right) {r}_{0,0} {r}_{2,2} + {r}_{0,0}\\right) {r}_{2,2}}\\right) - \\left(u{\\left(z \\right)} + \\frac{\\left(- \\left(1 - \\frac{1}{{r}_{2,2}}\\right) {r}_{0,0} {r}_{2,2} + {r}_{0,0} {r}_{2,2}^{2} - {r}_{0,0}\\right) v{\\left(z \\right)}}{\\left(\\left(1 - \\frac{1}{{r}_{2,2}}\\right) {r}_{0,0} {r}_{2,2} + {r}_{0,0}\\right) {r}_{2,2}}\\right) \\left(\\frac{\\left(\\left(1 - \\frac{1}{{r}_{2,2}}\\right) {r}_{0,0} {r}_{2,2} + {r}_{0,0}\\right) u{\\left(z \\right)}}{{r}_{0,0} - {r}_{1,1}} + {r}_{2,2} c + \\frac{v{\\left(z \\right)} {r}_{1,1} {r}_{2,2}}{{r}_{0,0} - {r}_{1,1}}\\right)\\\\- \\left(\\left(1 - \\frac{1}{{r}_{2,2}}\\right) u{\\left(z \\right)} + v{\\left(z \\right)}\\right) \\left(u{\\left(z \\right)} {r}_{0,0} + \\frac{\\left({r}_{0,0} - {r}_{1,1}\\right) {r}_{0,0} {r}_{2,2} c}{\\left(1 - \\frac{1}{{r}_{2,2}}\\right) {r}_{0,0} {r}_{2,2} + {r}_{0,0}} + \\frac{\\left(- \\left(1 - \\frac{1}{{r}_{2,2}}\\right) {r}_{0,0} {r}_{2,2} + {r}_{0,0} {r}_{2,2}^{2} - {r}_{0,0}\\right) v{\\left(z \\right)} {r}_{1,1}}{\\left(\\left(1 - \\frac{1}{{r}_{2,2}}\\right) {r}_{0,0} {r}_{2,2} + {r}_{0,0}\\right) {r}_{2,2}}\\right) + \\left(u{\\left(z \\right)} + \\frac{\\left(- \\left(1 - \\frac{1}{{r}_{2,2}}\\right) {r}_{0,0} {r}_{2,2} + {r}_{0,0} {r}_{2,2}^{2} - {r}_{0,0}\\right) v{\\left(z \\right)}}{\\left(\\left(1 - \\frac{1}{{r}_{2,2}}\\right) {r}_{0,0} {r}_{2,2} + {r}_{0,0}\\right) {r}_{2,2}}\\right) \\left(\\left(1 - \\frac{1}{{r}_{2,2}}\\right) u{\\left(z \\right)} {r}_{0,0} + \\left({r}_{0,0} - {r}_{1,1}\\right) c + v{\\left(z \\right)} {r}_{1,1}\\right)\\end{matrix}\\right]$"
      ],
      "text/plain": [
       "Eq(Matrix([\n",
       "[Derivative(u(z), z)],\n",
       "[Derivative(v(z), z)],\n",
       "[                  0]]), Matrix([\n",
       "[                                                                                                                                                                                                                                                                            ((1 - 1/r[2, 2])*u(z) + v(z))*(((1 - 1/r[2, 2])*r[0, 0]*r[2, 2] + r[0, 0])*u(z)/(r[0, 0] - r[1, 1]) + r[2, 2]*c + v(z)*r[1, 1]*r[2, 2]/(r[0, 0] - r[1, 1])) - (((1 - 1/r[2, 2])*r[0, 0]*r[2, 2] + r[0, 0])*u(z)/((r[0, 0] - r[1, 1])*r[0, 0]) + v(z)*r[2, 2]/(r[0, 0] - r[1, 1]))*((1 - 1/r[2, 2])*u(z)*r[0, 0] + (r[0, 0] - r[1, 1])*c + v(z)*r[1, 1])],\n",
       "[(((1 - 1/r[2, 2])*r[0, 0]*r[2, 2] + r[0, 0])*u(z)/((r[0, 0] - r[1, 1])*r[0, 0]) + v(z)*r[2, 2]/(r[0, 0] - r[1, 1]))*(u(z)*r[0, 0] + (r[0, 0] - r[1, 1])*r[0, 0]*r[2, 2]*c/((1 - 1/r[2, 2])*r[0, 0]*r[2, 2] + r[0, 0]) + (-(1 - 1/r[2, 2])*r[0, 0]*r[2, 2] + r[0, 0]*r[2, 2]**2 - r[0, 0])*v(z)*r[1, 1]/(((1 - 1/r[2, 2])*r[0, 0]*r[2, 2] + r[0, 0])*r[2, 2])) - (u(z) + (-(1 - 1/r[2, 2])*r[0, 0]*r[2, 2] + r[0, 0]*r[2, 2]**2 - r[0, 0])*v(z)/(((1 - 1/r[2, 2])*r[0, 0]*r[2, 2] + r[0, 0])*r[2, 2]))*(((1 - 1/r[2, 2])*r[0, 0]*r[2, 2] + r[0, 0])*u(z)/(r[0, 0] - r[1, 1]) + r[2, 2]*c + v(z)*r[1, 1]*r[2, 2]/(r[0, 0] - r[1, 1]))],\n",
       "[                                                                                                                                             -((1 - 1/r[2, 2])*u(z) + v(z))*(u(z)*r[0, 0] + (r[0, 0] - r[1, 1])*r[0, 0]*r[2, 2]*c/((1 - 1/r[2, 2])*r[0, 0]*r[2, 2] + r[0, 0]) + (-(1 - 1/r[2, 2])*r[0, 0]*r[2, 2] + r[0, 0]*r[2, 2]**2 - r[0, 0])*v(z)*r[1, 1]/(((1 - 1/r[2, 2])*r[0, 0]*r[2, 2] + r[0, 0])*r[2, 2])) + (u(z) + (-(1 - 1/r[2, 2])*r[0, 0]*r[2, 2] + r[0, 0]*r[2, 2]**2 - r[0, 0])*v(z)/(((1 - 1/r[2, 2])*r[0, 0]*r[2, 2] + r[0, 0])*r[2, 2]))*((1 - 1/r[2, 2])*u(z)*r[0, 0] + (r[0, 0] - r[1, 1])*c + v(z)*r[1, 1])]]))"
      ]
     },
     "execution_count": 281,
     "metadata": {},
     "output_type": "execute_result"
    }
   ],
   "source": [
    "v0 = Matrix([u(z),v(z),c])\n",
    "vv1 = WW *v0\n",
    "vv2 = RR * v0\n",
    "dvv0 = diff(v0,z)\n",
    "cross_result_2 = vv1.cross(vv2)\n",
    "Eq(dvv0, cross_result_2)"
   ]
  },
  {
   "cell_type": "code",
   "execution_count": 282,
   "id": "71094a3b-2893-4b52-b799-ac4f84747847",
   "metadata": {},
   "outputs": [
    {
     "data": {
      "text/latex": [
       "$\\displaystyle \\frac{d}{d z} u{\\left(z \\right)} = u{\\left(z \\right)} v{\\left(z \\right)} - u{\\left(z \\right)} c$"
      ],
      "text/plain": [
       "Eq(Derivative(u(z), z), u(z)*v(z) - u(z)*c)"
      ]
     },
     "execution_count": 282,
     "metadata": {},
     "output_type": "execute_result"
    },
    {
     "data": {
      "text/latex": [
       "$\\displaystyle \\frac{d}{d z} v{\\left(z \\right)} = u{\\left(z \\right)} v{\\left(z \\right)} + v{\\left(z \\right)} c$"
      ],
      "text/plain": [
       "Eq(Derivative(v(z), z), u(z)*v(z) + v(z)*c)"
      ]
     },
     "execution_count": 282,
     "metadata": {},
     "output_type": "execute_result"
    },
    {
     "data": {
      "text/latex": [
       "$\\displaystyle 0 = - \\frac{\\left({r}_{0,0} - {r}_{1,1}\\right) \\left(2 {r}_{2,2} - 1\\right) u{\\left(z \\right)} v{\\left(z \\right)}}{{r}_{2,2}^{2}} + \\frac{\\left({r}_{0,0} - {r}_{1,1}\\right) u{\\left(z \\right)} c}{{r}_{2,2}} - \\frac{\\left({r}_{0,0} - {r}_{1,1}\\right) v{\\left(z \\right)} c}{{r}_{2,2}}$"
      ],
      "text/plain": [
       "Eq(0, -(r[0, 0] - r[1, 1])*(2*r[2, 2] - 1)*u(z)*v(z)/r[2, 2]**2 + (r[0, 0] - r[1, 1])*u(z)*c/r[2, 2] - (r[0, 0] - r[1, 1])*v(z)*c/r[2, 2])"
      ]
     },
     "execution_count": 282,
     "metadata": {},
     "output_type": "execute_result"
    }
   ],
   "source": [
    "eqs3_2 = [Eq(dvv0[i], cross_result_2[i].expand().collect([u(z),v(z), u(z)*v(z)],factor)) for i in range(3)]\n",
    "for eq in eqs3_2:\n",
    "    eq"
   ]
  },
  {
   "cell_type": "code",
   "execution_count": 313,
   "id": "3374508f-9980-4886-997b-8fcff18cd16b",
   "metadata": {},
   "outputs": [
    {
     "data": {
      "text/latex": [
       "$\\displaystyle \\left(e^{2 z c} b + a\\right) u{\\left(z \\right)} v{\\left(z \\right)} e^{- z c} - 2 u{\\left(z \\right)} e^{- z c} a c + 2 v{\\left(z \\right)} e^{z c} b c$"
      ],
      "text/plain": [
       "(exp(2*z*c)*b + a)*u(z)*v(z)*exp(-z*c) - 2*u(z)*exp(-z*c)*a*c + 2*v(z)*exp(z*c)*b*c"
      ]
     },
     "execution_count": 313,
     "metadata": {},
     "output_type": "execute_result"
    }
   ],
   "source": [
    "diff(a*u(z)*exp(-c*z)+b*v(z)*exp(c*z),z).subs([eq.args for eq in eqs3_2[0:2]]).expand().collect([u(z),v(z),u(z)*v(z)],factor)"
   ]
  },
  {
   "cell_type": "code",
   "execution_count": 299,
   "id": "e89716e7-2da7-4349-bdd9-dc5aca55868f",
   "metadata": {},
   "outputs": [
    {
     "data": {
      "text/latex": [
       "$\\displaystyle \\frac{u{\\left(z \\right)} v{\\left(z \\right)}}{{r}_{2,2}}$"
      ],
      "text/plain": [
       "u(z)*v(z)/r[2, 2]"
      ]
     },
     "execution_count": 299,
     "metadata": {},
     "output_type": "execute_result"
    }
   ],
   "source": [
    "((eqs3_2[2].rhs*r[2,2]/(r[0,0]-r[1,1])).factor().expand() + eqs3_2[0].rhs + eqs3_2[1].rhs).collect(u(z)*v(z))"
   ]
  },
  {
   "cell_type": "code",
   "execution_count": 295,
   "id": "437599d7-0100-4150-b087-01db6571cd62",
   "metadata": {},
   "outputs": [
    {
     "data": {
      "text/latex": [
       "$\\displaystyle -2 + \\frac{1}{{r}_{2,2}}$"
      ],
      "text/plain": [
       "-2 + 1/r[2, 2]"
      ]
     },
     "execution_count": 295,
     "metadata": {},
     "output_type": "execute_result"
    }
   ],
   "source": [
    "(eqs3_2[2].rhs*r[2,2]/(r[0,0]-r[1,1])).factor().expand().coeff(u(z)*v(z))"
   ]
  },
  {
   "cell_type": "code",
   "execution_count": 288,
   "id": "a771db48-cecb-4a7f-be36-94e10218d585",
   "metadata": {},
   "outputs": [
    {
     "data": {
      "text/latex": [
       "$\\displaystyle \\frac{{r}_{0,0} - {r}_{1,1}}{{r}_{2,2}^{2}}$"
      ],
      "text/plain": [
       "(r[0, 0] - r[1, 1])/r[2, 2]**2"
      ]
     },
     "execution_count": 288,
     "metadata": {},
     "output_type": "execute_result"
    }
   ],
   "source": [
    "(eqs3_2[2].rhs.coeff(u(z)*v(z)) + 2*eqs3_2[2].rhs.coeff(u(z)).coeff(c)).simplify()"
   ]
  },
  {
   "cell_type": "code",
   "execution_count": 241,
   "id": "3d00754e-c818-4184-8b0c-2d523069987e",
   "metadata": {},
   "outputs": [
    {
     "data": {
      "text/plain": [
       "[Eq(Derivative(u(z), z), u(z)*v(z) - u(z)*c)]"
      ]
     },
     "execution_count": 241,
     "metadata": {},
     "output_type": "execute_result"
    }
   ],
   "source": [
    "eqs3_2[0:1]"
   ]
  },
  {
   "cell_type": "code",
   "execution_count": 261,
   "id": "1a1df46b-a8ce-45c0-9077-1290be9bed84",
   "metadata": {},
   "outputs": [
    {
     "data": {
      "text/latex": [
       "$\\displaystyle \\left[\\begin{matrix}0 & - \\frac{1}{2 {r}_{0,0}} & 1 - \\frac{{r}_{1,1}}{{r}_{0,0}}\\\\- \\frac{1}{2 {r}_{1,1}} & 0 & \\frac{{r}_{0,0}}{{r}_{1,1}} - 1\\\\\\frac{1}{2 {r}_{0,0} - 2 {r}_{1,1}} & \\frac{1}{2 {r}_{0,0} - 2 {r}_{1,1}} & 0\\end{matrix}\\right]$"
      ],
      "text/plain": [
       "Matrix([\n",
       "[                        0,            -1/(2*r[0, 0]), 1 - r[1, 1]/r[0, 0]],\n",
       "[           -1/(2*r[1, 1]),                         0, r[0, 0]/r[1, 1] - 1],\n",
       "[1/(2*r[0, 0] - 2*r[1, 1]), 1/(2*r[0, 0] - 2*r[1, 1]),                   0]])"
      ]
     },
     "execution_count": 261,
     "metadata": {},
     "output_type": "execute_result"
    }
   ],
   "source": [
    "RR.inv()"
   ]
  },
  {
   "cell_type": "code",
   "execution_count": 267,
   "id": "5040a714-1734-4a3d-921b-d096d57f948c",
   "metadata": {},
   "outputs": [
    {
     "data": {
      "text/latex": [
       "$\\displaystyle - \\frac{{r}_{0,0} {r}_{1,1}}{{r}_{2,2}}$"
      ],
      "text/plain": [
       "-r[0, 0]*r[1, 1]/r[2, 2]"
      ]
     },
     "execution_count": 267,
     "metadata": {},
     "output_type": "execute_result"
    }
   ],
   "source": [
    "det(RR)"
   ]
  },
  {
   "cell_type": "code",
   "execution_count": 268,
   "id": "988a139f-28cd-4ac7-9b32-7a8ac8a0a1b8",
   "metadata": {},
   "outputs": [
    {
     "data": {
      "text/latex": [
       "$\\displaystyle 0$"
      ],
      "text/plain": [
       "0"
      ]
     },
     "execution_count": 268,
     "metadata": {},
     "output_type": "execute_result"
    }
   ],
   "source": [
    "det(WW)"
   ]
  },
  {
   "cell_type": "code",
   "execution_count": 274,
   "id": "8cb5f7c4-faf5-4efc-9d08-0d8803494809",
   "metadata": {},
   "outputs": [],
   "source": [
    "xxx = (WW*RR.inv()).expand()"
   ]
  },
  {
   "cell_type": "code",
   "execution_count": 277,
   "id": "9c350c36-b3bf-4797-bacb-68d8c619aef9",
   "metadata": {},
   "outputs": [
    {
     "data": {
      "text/latex": [
       "$\\displaystyle \\left[\\begin{matrix}\\frac{1}{2 {r}_{1,1}} & \\frac{1}{2 {r}_{1,1}} & 4\\\\- \\frac{1}{2 {r}_{1,1}} & - \\frac{1}{2 {r}_{1,1}} & -4\\\\\\frac{1}{8 {r}_{1,1}^{2}} & - \\frac{1}{8 {r}_{1,1}^{2}} & 0\\end{matrix}\\right]$"
      ],
      "text/plain": [
       "Matrix([\n",
       "[   1/(2*r[1, 1]),     1/(2*r[1, 1]),  4],\n",
       "[  -1/(2*r[1, 1]),    -1/(2*r[1, 1]), -4],\n",
       "[1/(8*r[1, 1]**2), -1/(8*r[1, 1]**2),  0]])"
      ]
     },
     "execution_count": 277,
     "metadata": {},
     "output_type": "execute_result"
    }
   ],
   "source": [
    "xxx.subs(r[2,2],Rational(1,2)).subs(r[0,0],-r[1,1]).expand()"
   ]
  }
 ],
 "metadata": {
  "kernelspec": {
   "display_name": "Python 3 (ipykernel)",
   "language": "python",
   "name": "python3"
  },
  "language_info": {
   "codemirror_mode": {
    "name": "ipython",
    "version": 3
   },
   "file_extension": ".py",
   "mimetype": "text/x-python",
   "name": "python",
   "nbconvert_exporter": "python",
   "pygments_lexer": "ipython3",
   "version": "3.10.13"
  }
 },
 "nbformat": 4,
 "nbformat_minor": 5
}
