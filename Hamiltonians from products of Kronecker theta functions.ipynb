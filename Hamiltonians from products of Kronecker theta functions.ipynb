{
 "cells": [
  {
   "cell_type": "markdown",
   "id": "3f1f8198",
   "metadata": {},
   "source": [
    "# Hamiltonians from products of Kronecker theta functions"
   ]
  },
  {
   "cell_type": "code",
   "execution_count": 13,
   "id": "d7053130",
   "metadata": {},
   "outputs": [],
   "source": [
    "from sympy import *\n",
    "(x, y, X, Y, Z, B, C, n, m, l, j, q, N, M, K, k, z, s, p1, p2, p3, g2, g3,\n",
    " z0, w1, w2, w3, e1, e2, e3, Delta, \n",
    " omega1, omega2, omega3, eta1, eta2, eta3, d1, d2, d3) = symbols(\n",
    "    '''x, y, X, Y, Z, B, C, n, m, l, j, q, N, M, K, k, z, s, p1, p2, p3, g2, g3,\n",
    "    z0, w1, w2, w3, e1, e2, e3, Delta, \n",
    "    omega1, omega2, omega3, eta1, eta2, eta3, d1, d2, d3'''\n",
    ")\n",
    "alpha, delta, t, nu, theta = symbols('alpha, delta, t, nu, theta')\n",
    "pw = Function('pw') # Weierstrass P function\n",
    "pwp = Function('pwp') # Derivative of Weierstrass P function\n",
    "zw = Function('zw') # Weierstrass Zeta function\n",
    "sigma = Function('sigma') # Weierstrass Sigma function\n",
    "rho = Function('rho')\n",
    "f = Function('f')\n",
    "h = Function('h')\n",
    "s = Function('s')\n",
    "P = Function('P') # Polynomial\n",
    "Q = Function('Q') # Polynomial\n",
    "phi = Function('phi')\n",
    "Phi = Function('Phi')\n",
    "phi1 = Function('phi1')\n",
    "phi2 = Function('phi2')\n",
    "phi3 = Function('phi3')\n",
    "A = IndexedBase('A')\n",
    "W1 = Function('W1')\n",
    "W2 = Function('W2')\n",
    "W3 = Function('W3')\n",
    "W4 = Function('W4')\n",
    "W5 = Function('W5')\n",
    "W6 = Function('W6')\n",
    "Det = Function(\"Det\")\n",
    "\n",
    "kappa = IndexedBase('kappa')\n",
    "beta = IndexedBase('beta')\n",
    "mu = IndexedBase('mu')\n",
    "xi = IndexedBase('xi')\n",
    "a = IndexedBase('a')\n",
    "b = IndexedBase('b')\n",
    "c = IndexedBase('c')\n",
    "d = IndexedBase('d')\n",
    "p = IndexedBase('p')\n",
    "G = IndexedBase('G')\n",
    "psi = IndexedBase('psi')\n",
    "upsilon = IndexedBase('upsilon')\n",
    "epsilon = IndexedBase('epsilon')\n",
    "WPdet = Function('WPdet')\n",
    "u = Function('u')\n",
    "v = Function('v')\n",
    "U = Function('U')\n",
    "V = Function('V')\n",
    "W = Function('W')\n",
    "\n",
    "from IPython.core.interactiveshell import InteractiveShell\n",
    "InteractiveShell.ast_node_interactivity = 'all'\n",
    "\n",
    "# kth order derivatives of Weierstrass P\n",
    "from wpk import wpk, run_tests\n",
    "\n",
    "# The package containing mpmath expressions for Weierstrass elliptic functions\n",
    "from numerical_evaluation.weierstrass_modified import Weierstrass\n",
    "we = Weierstrass()\n",
    "from mpmath import exp as mpexp"
   ]
  },
  {
   "cell_type": "code",
   "execution_count": 95,
   "id": "b66a70c9",
   "metadata": {},
   "outputs": [
    {
     "data": {
      "text/latex": [
       "$\\displaystyle - \\operatorname{pw}{\\left(x,g_{2},g_{3} \\right)} + \\operatorname{pw}{\\left(y,g_{2},g_{3} \\right)} = \\frac{\\sigma{\\left(x - y,g_{2},g_{3} \\right)} \\sigma{\\left(x + y,g_{2},g_{3} \\right)}}{\\sigma^{2}{\\left(x,g_{2},g_{3} \\right)} \\sigma^{2}{\\left(y,g_{2},g_{3} \\right)}}$"
      ],
      "text/plain": [
       "Eq(-pw(x, g2, g3) + pw(y, g2, g3), sigma(x - y, g2, g3)*sigma(x + y, g2, g3)/(sigma(x, g2, g3)**2*sigma(y, g2, g3)**2))"
      ]
     },
     "execution_count": 95,
     "metadata": {},
     "output_type": "execute_result"
    },
    {
     "data": {
      "text/latex": [
       "$\\displaystyle \\operatorname{pwp}{\\left(z,g_{2},g_{3} \\right)} = - \\frac{\\sigma{\\left(2 z,g_{2},g_{3} \\right)}}{\\sigma^{4}{\\left(z,g_{2},g_{3} \\right)}}$"
      ],
      "text/plain": [
       "Eq(pwp(z, g2, g3), -sigma(2*z, g2, g3)/sigma(z, g2, g3)**4)"
      ]
     },
     "execution_count": 95,
     "metadata": {},
     "output_type": "execute_result"
    },
    {
     "data": {
      "text/latex": [
       "$\\displaystyle e^{\\eta_{1} \\omega_{1}} = \\left(\\operatorname{pw}{\\left(\\frac{\\omega_{1}}{2},g_{2},g_{3} \\right)} - \\operatorname{pw}{\\left(\\omega_{1},g_{2},g_{3} \\right)}\\right) \\sigma^{2}{\\left(\\omega_{1},g_{2},g_{3} \\right)}$"
      ],
      "text/plain": [
       "Eq(exp(eta1*omega1), (pw(omega1/2, g2, g3) - pw(omega1, g2, g3))*sigma(omega1, g2, g3)**2)"
      ]
     },
     "execution_count": 95,
     "metadata": {},
     "output_type": "execute_result"
    },
    {
     "data": {
      "text/latex": [
       "$\\displaystyle \\sigma{\\left(\\omega_{1},g_{2},g_{3} \\right)} = - \\operatorname{pwp}{\\left(\\frac{\\omega_{1}}{2},g_{2},g_{3} \\right)} \\sigma^{4}{\\left(\\frac{\\omega_{1}}{2},g_{2},g_{3} \\right)}$"
      ],
      "text/plain": [
       "Eq(sigma(omega1, g2, g3), -pwp(omega1/2, g2, g3)*sigma(omega1/2, g2, g3)**4)"
      ]
     },
     "execution_count": 95,
     "metadata": {},
     "output_type": "execute_result"
    }
   ],
   "source": [
    "sigma_p_identity = Eq(-pw(x, g2, g3) + pw(y, g2, g3),\n",
    "                    sigma(x - y, g2, g3)*sigma(x + y, g2, g3)/(sigma(x, g2, g3)**2*sigma(y, g2, g3)**2))\n",
    "\n",
    "order2 = Eq(-pw(omega1, g2, g3) + pw(z, g2, g3),\n",
    " sigma(-omega1 + z, g2, g3)**2*exp(2*eta1*z)/(sigma(omega1, g2, g3)**2*sigma(z, g2, g3)**2))\n",
    "\n",
    "pwp_sigma_dbl_ratio = Eq(pwp(z,g2,g3), - sigma(2*z,g2,g3)/sigma(z,g2,g3)**4)\n",
    "\n",
    "exp_eta1_omega1 = Eq(exp(eta1*omega1), \n",
    "   solve(order2.subs(z, omega1/2).subs(sigma(-omega1/2,g2,g3), sigma(omega1/2,g2,g3)), exp(eta1*omega1))[0])\n",
    "\n",
    "pwp_omega1_ov2 = Eq(sigma(omega1,g2,g3),solve(pwp_sigma_dbl_ratio.subs(z,omega1/2),sigma(omega1,g2,g3))[0])\n",
    "\n",
    "sigma_p_identity\n",
    "pwp_sigma_dbl_ratio\n",
    "exp_eta1_omega1\n",
    "pwp_omega1_ov2"
   ]
  },
  {
   "cell_type": "code",
   "execution_count": 7,
   "id": "2dbfbf90",
   "metadata": {},
   "outputs": [
    {
     "data": {
      "text/latex": [
       "$\\displaystyle - \\operatorname{pw}{\\left(\\omega_{1},g_{2},g_{3} \\right)} + \\operatorname{pw}{\\left(z,g_{2},g_{3} \\right)} = \\frac{\\sigma^{2}{\\left(- \\omega_{1} + z,g_{2},g_{3} \\right)} e^{2 \\eta_{1} z}}{\\sigma^{2}{\\left(\\omega_{1},g_{2},g_{3} \\right)} \\sigma^{2}{\\left(z,g_{2},g_{3} \\right)}}$"
      ],
      "text/plain": [
       "Eq(-pw(omega1, g2, g3) + pw(z, g2, g3), sigma(-omega1 + z, g2, g3)**2*exp(2*eta1*z)/(sigma(omega1, g2, g3)**2*sigma(z, g2, g3)**2))"
      ]
     },
     "execution_count": 7,
     "metadata": {},
     "output_type": "execute_result"
    }
   ],
   "source": [
    "# See Degenerate determinant formulas for Kronecker theta functions\n",
    "\n",
    "order2"
   ]
  },
  {
   "cell_type": "code",
   "execution_count": 96,
   "id": "1a2865ad",
   "metadata": {},
   "outputs": [
    {
     "data": {
      "text/latex": [
       "$\\displaystyle \\frac{\\left(- g_{2} + 12 \\operatorname{pw}^{2}{\\left(\\frac{\\omega_{1}}{2},g_{2},g_{3} \\right)}\\right) \\left(- \\operatorname{pw}{\\left(\\frac{\\omega_{1}}{2},g_{2},g_{3} \\right)} + \\operatorname{pw}{\\left(z,g_{2},g_{3} \\right)}\\right) \\sigma^{2}{\\left(\\omega_{1},g_{2},g_{3} \\right)} e^{- \\eta_{1} \\omega_{1}}}{4} + \\left(\\operatorname{pw}{\\left(\\frac{\\omega_{1}}{2},g_{2},g_{3} \\right)} - \\operatorname{pw}{\\left(z,g_{2},g_{3} \\right)}\\right)^{2} + \\frac{\\left(\\operatorname{pwp}{\\left(z,g_{2},g_{3} \\right)} + \\frac{\\sigma{\\left(\\omega_{1},g_{2},g_{3} \\right)}}{\\sigma^{4}{\\left(\\frac{\\omega_{1}}{2},g_{2},g_{3} \\right)}}\\right) \\sigma^{3}{\\left(\\omega_{1},g_{2},g_{3} \\right)} e^{- \\eta_{1} \\omega_{1}}}{2 \\sigma^{4}{\\left(\\frac{\\omega_{1}}{2},g_{2},g_{3} \\right)}} = \\frac{\\sigma^{4}{\\left(- \\frac{\\omega_{1}}{2} + z,g_{2},g_{3} \\right)} e^{2 \\eta_{1} z}}{\\sigma^{4}{\\left(\\frac{\\omega_{1}}{2},g_{2},g_{3} \\right)} \\sigma^{4}{\\left(z,g_{2},g_{3} \\right)}}$"
      ],
      "text/plain": [
       "Eq((-g2 + 12*pw(omega1/2, g2, g3)**2)*(-pw(omega1/2, g2, g3) + pw(z, g2, g3))*sigma(omega1, g2, g3)**2*exp(-eta1*omega1)/4 + (pw(omega1/2, g2, g3) - pw(z, g2, g3))**2 + (pwp(z, g2, g3) + sigma(omega1, g2, g3)/sigma(omega1/2, g2, g3)**4)*sigma(omega1, g2, g3)**3*exp(-eta1*omega1)/(2*sigma(omega1/2, g2, g3)**4), sigma(-omega1/2 + z, g2, g3)**4*exp(2*eta1*z)/(sigma(omega1/2, g2, g3)**4*sigma(z, g2, g3)**4))"
      ]
     },
     "execution_count": 96,
     "metadata": {},
     "output_type": "execute_result"
    },
    {
     "data": {
      "text/latex": [
       "$\\displaystyle \\frac{\\left(- g_{2} + 12 \\operatorname{pw}^{2}{\\left(\\frac{\\omega_{1}}{2},g_{2},g_{3} \\right)}\\right) \\left(- \\operatorname{pw}{\\left(\\frac{\\omega_{1}}{2},g_{2},g_{3} \\right)} + \\operatorname{pw}{\\left(z,g_{2},g_{3} \\right)}\\right)}{4 \\left(\\operatorname{pw}{\\left(\\frac{\\omega_{1}}{2},g_{2},g_{3} \\right)} - \\operatorname{pw}{\\left(\\omega_{1},g_{2},g_{3} \\right)}\\right)} + \\left(\\operatorname{pw}{\\left(\\frac{\\omega_{1}}{2},g_{2},g_{3} \\right)} - \\operatorname{pw}{\\left(z,g_{2},g_{3} \\right)}\\right)^{2} - \\frac{\\left(- \\operatorname{pwp}{\\left(\\frac{\\omega_{1}}{2},g_{2},g_{3} \\right)} + \\operatorname{pwp}{\\left(z,g_{2},g_{3} \\right)}\\right) \\operatorname{pwp}{\\left(\\frac{\\omega_{1}}{2},g_{2},g_{3} \\right)}}{2 \\left(\\operatorname{pw}{\\left(\\frac{\\omega_{1}}{2},g_{2},g_{3} \\right)} - \\operatorname{pw}{\\left(\\omega_{1},g_{2},g_{3} \\right)}\\right)} = \\frac{\\sigma^{4}{\\left(- \\frac{\\omega_{1}}{2} + z,g_{2},g_{3} \\right)} e^{2 \\eta_{1} z}}{\\sigma^{4}{\\left(\\frac{\\omega_{1}}{2},g_{2},g_{3} \\right)} \\sigma^{4}{\\left(z,g_{2},g_{3} \\right)}}$"
      ],
      "text/plain": [
       "Eq((-g2 + 12*pw(omega1/2, g2, g3)**2)*(-pw(omega1/2, g2, g3) + pw(z, g2, g3))/(4*(pw(omega1/2, g2, g3) - pw(omega1, g2, g3))) + (pw(omega1/2, g2, g3) - pw(z, g2, g3))**2 - (-pwp(omega1/2, g2, g3) + pwp(z, g2, g3))*pwp(omega1/2, g2, g3)/(2*(pw(omega1/2, g2, g3) - pw(omega1, g2, g3))), sigma(-omega1/2 + z, g2, g3)**4*exp(2*eta1*z)/(sigma(omega1/2, g2, g3)**4*sigma(z, g2, g3)**4))"
      ]
     },
     "execution_count": 96,
     "metadata": {},
     "output_type": "execute_result"
    }
   ],
   "source": [
    "# See Fourth order Dixon functions as Kronecker theta functions derived from the Frobenius-Stickelberger determinant\n",
    "order4 = Eq(-(g2 - 12*pw(omega1/2, g2, g3)**2)*(-pw(omega1/2, g2, g3) + pw(z, g2, g3))*sigma(omega1, g2, g3)**2*exp(-eta1*omega1)/4 + (pw(omega1/2, g2, g3) - pw(z, g2, g3))**2 + (pwp(z, g2, g3) + sigma(omega1, g2, g3)/sigma(omega1/2, g2, g3)**4)*sigma(omega1, g2, g3)**3*exp(-eta1*omega1)/(2*sigma(omega1/2, g2, g3)**4),\n",
    " sigma(-omega1/2 + z, g2, g3)**4*exp(2*eta1*z)/(sigma(omega1/2, g2, g3)**4*sigma(z, g2, g3)**4))\n",
    "\n",
    "order4b = order4.subs([exp_eta1_omega1.args, pwp_omega1_ov2.args])\n",
    "\n",
    "order4\n",
    "order4b"
   ]
  },
  {
   "cell_type": "code",
   "execution_count": 174,
   "id": "20a5ffe3",
   "metadata": {},
   "outputs": [
    {
     "data": {
      "text/latex": [
       "$\\displaystyle y = \\frac{- x + a}{- x + b}$"
      ],
      "text/plain": [
       "Eq(y, (-x + a)/(-x + b))"
      ]
     },
     "execution_count": 174,
     "metadata": {},
     "output_type": "execute_result"
    },
    {
     "data": {
      "text/latex": [
       "$\\displaystyle x = \\frac{y b - a}{y - 1}$"
      ],
      "text/plain": [
       "Eq(x, (y*b - a)/(y - 1))"
      ]
     },
     "execution_count": 174,
     "metadata": {},
     "output_type": "execute_result"
    }
   ],
   "source": [
    "Eq(y,(a-x)/(b-x))\n",
    "Eq(x, solve(Eq(y,(a-x)/(b-x)),x)[0])"
   ]
  },
  {
   "cell_type": "code",
   "execution_count": 97,
   "id": "1dace9d6",
   "metadata": {},
   "outputs": [
    {
     "data": {
      "text/latex": [
       "$\\displaystyle \\left(- \\operatorname{pw}{\\left(\\omega_{1},g_{2},g_{3} \\right)} + \\operatorname{pw}{\\left(z,g_{2},g_{3} \\right)}\\right)^{2} \\left(\\frac{\\left(- g_{2} + 12 \\operatorname{pw}^{2}{\\left(\\frac{\\omega_{1}}{2},g_{2},g_{3} \\right)}\\right) \\left(- \\operatorname{pw}{\\left(\\frac{\\omega_{1}}{2},g_{2},g_{3} \\right)} + \\operatorname{pw}{\\left(z,g_{2},g_{3} \\right)}\\right)}{4 \\left(\\operatorname{pw}{\\left(\\frac{\\omega_{1}}{2},g_{2},g_{3} \\right)} - \\operatorname{pw}{\\left(\\omega_{1},g_{2},g_{3} \\right)}\\right)} + \\left(\\operatorname{pw}{\\left(\\frac{\\omega_{1}}{2},g_{2},g_{3} \\right)} - \\operatorname{pw}{\\left(z,g_{2},g_{3} \\right)}\\right)^{2} - \\frac{\\left(- \\operatorname{pwp}{\\left(\\frac{\\omega_{1}}{2},g_{2},g_{3} \\right)} + \\operatorname{pwp}{\\left(z,g_{2},g_{3} \\right)}\\right) \\operatorname{pwp}{\\left(\\frac{\\omega_{1}}{2},g_{2},g_{3} \\right)}}{2 \\left(\\operatorname{pw}{\\left(\\frac{\\omega_{1}}{2},g_{2},g_{3} \\right)} - \\operatorname{pw}{\\left(\\omega_{1},g_{2},g_{3} \\right)}\\right)}\\right) = \\frac{\\sigma^{4}{\\left(- \\omega_{1} + z,g_{2},g_{3} \\right)} \\sigma^{4}{\\left(- \\frac{\\omega_{1}}{2} + z,g_{2},g_{3} \\right)} e^{6 \\eta_{1} z}}{\\sigma^{4}{\\left(\\frac{\\omega_{1}}{2},g_{2},g_{3} \\right)} \\sigma^{4}{\\left(\\omega_{1},g_{2},g_{3} \\right)} \\sigma^{8}{\\left(z,g_{2},g_{3} \\right)}}$"
      ],
      "text/plain": [
       "Eq((-pw(omega1, g2, g3) + pw(z, g2, g3))**2*((-g2 + 12*pw(omega1/2, g2, g3)**2)*(-pw(omega1/2, g2, g3) + pw(z, g2, g3))/(4*(pw(omega1/2, g2, g3) - pw(omega1, g2, g3))) + (pw(omega1/2, g2, g3) - pw(z, g2, g3))**2 - (-pwp(omega1/2, g2, g3) + pwp(z, g2, g3))*pwp(omega1/2, g2, g3)/(2*(pw(omega1/2, g2, g3) - pw(omega1, g2, g3)))), sigma(-omega1 + z, g2, g3)**4*sigma(-omega1/2 + z, g2, g3)**4*exp(6*eta1*z)/(sigma(omega1/2, g2, g3)**4*sigma(omega1, g2, g3)**4*sigma(z, g2, g3)**8))"
      ]
     },
     "execution_count": 97,
     "metadata": {},
     "output_type": "execute_result"
    }
   ],
   "source": [
    "prod_2sqrd_4 = Eq((order2.lhs)**2*order4b.lhs, (order2.rhs)**2*order4b.rhs)\n",
    "prod_2sqrd_4"
   ]
  },
  {
   "cell_type": "code",
   "execution_count": 98,
   "id": "ddaff354",
   "metadata": {},
   "outputs": [
    {
     "data": {
      "text/latex": [
       "$\\displaystyle u{\\left(z \\right)} = \\frac{\\sigma{\\left(- \\omega_{1} + z,g_{2},g_{3} \\right)} \\sigma{\\left(- \\frac{\\omega_{1}}{2} + z,g_{2},g_{3} \\right)} e^{\\frac{3 \\eta_{1} z}{2}}}{\\sigma{\\left(\\frac{\\omega_{1}}{2},g_{2},g_{3} \\right)} \\sigma{\\left(\\omega_{1},g_{2},g_{3} \\right)} \\sigma^{2}{\\left(z,g_{2},g_{3} \\right)}}$"
      ],
      "text/plain": [
       "Eq(u(z), sigma(-omega1 + z, g2, g3)*sigma(-omega1/2 + z, g2, g3)*exp(3*eta1*z/2)/(sigma(omega1/2, g2, g3)*sigma(omega1, g2, g3)*sigma(z, g2, g3)**2))"
      ]
     },
     "execution_count": 98,
     "metadata": {},
     "output_type": "execute_result"
    },
    {
     "data": {
      "text/latex": [
       "$\\displaystyle v{\\left(z \\right)} = \\frac{\\sigma{\\left(\\frac{\\omega_{1}}{2} + z,g_{2},g_{3} \\right)} \\sigma{\\left(\\omega_{1} + z,g_{2},g_{3} \\right)} e^{- \\frac{3 \\eta_{1} z}{2}}}{\\sigma{\\left(\\frac{\\omega_{1}}{2},g_{2},g_{3} \\right)} \\sigma{\\left(\\omega_{1},g_{2},g_{3} \\right)} \\sigma^{2}{\\left(z,g_{2},g_{3} \\right)}}$"
      ],
      "text/plain": [
       "Eq(v(z), sigma(omega1/2 + z, g2, g3)*sigma(omega1 + z, g2, g3)*exp(-3*eta1*z/2)/(sigma(omega1/2, g2, g3)*sigma(omega1, g2, g3)*sigma(z, g2, g3)**2))"
      ]
     },
     "execution_count": 98,
     "metadata": {},
     "output_type": "execute_result"
    }
   ],
   "source": [
    "uz = Eq(u(z), sigma(omega1, g2, g3)**(-1)*sigma(z, g2, g3)**(-2)*sigma(omega1/2, g2, g3)**(-1)*\n",
    "          sigma(-omega1 + z, g2, g3)*sigma(-omega1/2 + z, g2, g3)*exp(3*eta1*z/2))\n",
    "vz = Eq(v(z),\n",
    " sigma(omega1 + z, g2, g3)*sigma(omega1/2 + z, g2, g3)*exp(-3*eta1*z/2)/\n",
    "   (sigma(omega1/2, g2, g3)*sigma(omega1, g2, g3)*sigma(z, g2, g3)**2))\n",
    "\n",
    "uz\n",
    "vz"
   ]
  },
  {
   "cell_type": "code",
   "execution_count": 141,
   "id": "aeea5b06",
   "metadata": {},
   "outputs": [
    {
     "data": {
      "text/latex": [
       "$\\displaystyle - \\frac{\\sigma{\\left(- \\frac{\\omega_{1}}{2} + z,g_{2},g_{3} \\right)} \\sigma{\\left(\\frac{\\omega_{1}}{2} + z,g_{2},g_{3} \\right)}}{\\sigma^{2}{\\left(\\frac{\\omega_{1}}{2},g_{2},g_{3} \\right)} \\sigma^{2}{\\left(z,g_{2},g_{3} \\right)}} = - \\operatorname{pw}{\\left(\\frac{\\omega_{1}}{2},g_{2},g_{3} \\right)} + \\operatorname{pw}{\\left(z,g_{2},g_{3} \\right)}$"
      ],
      "text/plain": [
       "Eq(-sigma(-omega1/2 + z, g2, g3)*sigma(omega1/2 + z, g2, g3)/(sigma(omega1/2, g2, g3)**2*sigma(z, g2, g3)**2), -pw(omega1/2, g2, g3) + pw(z, g2, g3))"
      ]
     },
     "execution_count": 141,
     "metadata": {},
     "output_type": "execute_result"
    },
    {
     "data": {
      "text/latex": [
       "$\\displaystyle - \\frac{\\sigma{\\left(- \\omega_{1} + z,g_{2},g_{3} \\right)} \\sigma{\\left(\\omega_{1} + z,g_{2},g_{3} \\right)}}{\\sigma^{2}{\\left(\\omega_{1},g_{2},g_{3} \\right)} \\sigma^{2}{\\left(z,g_{2},g_{3} \\right)}} = - \\operatorname{pw}{\\left(\\omega_{1},g_{2},g_{3} \\right)} + \\operatorname{pw}{\\left(z,g_{2},g_{3} \\right)}$"
      ],
      "text/plain": [
       "Eq(-sigma(-omega1 + z, g2, g3)*sigma(omega1 + z, g2, g3)/(sigma(omega1, g2, g3)**2*sigma(z, g2, g3)**2), -pw(omega1, g2, g3) + pw(z, g2, g3))"
      ]
     },
     "execution_count": 141,
     "metadata": {},
     "output_type": "execute_result"
    },
    {
     "data": {
      "text/latex": [
       "$\\displaystyle u{\\left(z \\right)} v{\\left(z \\right)} = \\frac{\\sigma{\\left(- \\omega_{1} + z,g_{2},g_{3} \\right)} \\sigma{\\left(- \\frac{\\omega_{1}}{2} + z,g_{2},g_{3} \\right)} \\sigma{\\left(\\frac{\\omega_{1}}{2} + z,g_{2},g_{3} \\right)} \\sigma{\\left(\\omega_{1} + z,g_{2},g_{3} \\right)}}{\\sigma^{2}{\\left(\\frac{\\omega_{1}}{2},g_{2},g_{3} \\right)} \\sigma^{2}{\\left(\\omega_{1},g_{2},g_{3} \\right)} \\sigma^{4}{\\left(z,g_{2},g_{3} \\right)}}$"
      ],
      "text/plain": [
       "Eq(u(z)*v(z), sigma(-omega1 + z, g2, g3)*sigma(-omega1/2 + z, g2, g3)*sigma(omega1/2 + z, g2, g3)*sigma(omega1 + z, g2, g3)/(sigma(omega1/2, g2, g3)**2*sigma(omega1, g2, g3)**2*sigma(z, g2, g3)**4))"
      ]
     },
     "execution_count": 141,
     "metadata": {},
     "output_type": "execute_result"
    },
    {
     "data": {
      "text/latex": [
       "$\\displaystyle u{\\left(z \\right)} v{\\left(z \\right)} = \\left(- \\operatorname{pw}{\\left(\\frac{\\omega_{1}}{2},g_{2},g_{3} \\right)} + \\operatorname{pw}{\\left(z,g_{2},g_{3} \\right)}\\right) \\left(- \\operatorname{pw}{\\left(\\omega_{1},g_{2},g_{3} \\right)} + \\operatorname{pw}{\\left(z,g_{2},g_{3} \\right)}\\right)$"
      ],
      "text/plain": [
       "Eq(u(z)*v(z), (-pw(omega1/2, g2, g3) + pw(z, g2, g3))*(-pw(omega1, g2, g3) + pw(z, g2, g3)))"
      ]
     },
     "execution_count": 141,
     "metadata": {},
     "output_type": "execute_result"
    },
    {
     "data": {
      "text/latex": [
       "$\\displaystyle \\operatorname{pw}{\\left(z,g_{2},g_{3} \\right)} = - \\frac{\\sqrt{\\operatorname{pw}^{2}{\\left(\\frac{\\omega_{1}}{2},g_{2},g_{3} \\right)} - 2 \\operatorname{pw}{\\left(\\frac{\\omega_{1}}{2},g_{2},g_{3} \\right)} \\operatorname{pw}{\\left(\\omega_{1},g_{2},g_{3} \\right)} + \\operatorname{pw}^{2}{\\left(\\omega_{1},g_{2},g_{3} \\right)} + 4 u{\\left(z \\right)} v{\\left(z \\right)}}}{2} + \\frac{\\operatorname{pw}{\\left(\\frac{\\omega_{1}}{2},g_{2},g_{3} \\right)}}{2} + \\frac{\\operatorname{pw}{\\left(\\omega_{1},g_{2},g_{3} \\right)}}{2}$"
      ],
      "text/plain": [
       "Eq(pw(z, g2, g3), -sqrt(pw(omega1/2, g2, g3)**2 - 2*pw(omega1/2, g2, g3)*pw(omega1, g2, g3) + pw(omega1, g2, g3)**2 + 4*u(z)*v(z))/2 + pw(omega1/2, g2, g3)/2 + pw(omega1, g2, g3)/2)"
      ]
     },
     "execution_count": 141,
     "metadata": {},
     "output_type": "execute_result"
    },
    {
     "data": {
      "text/latex": [
       "$\\displaystyle \\operatorname{pw}{\\left(z,g_{2},g_{3} \\right)} = \\frac{\\sqrt{\\operatorname{pw}^{2}{\\left(\\frac{\\omega_{1}}{2},g_{2},g_{3} \\right)} - 2 \\operatorname{pw}{\\left(\\frac{\\omega_{1}}{2},g_{2},g_{3} \\right)} \\operatorname{pw}{\\left(\\omega_{1},g_{2},g_{3} \\right)} + \\operatorname{pw}^{2}{\\left(\\omega_{1},g_{2},g_{3} \\right)} + 4 u{\\left(z \\right)} v{\\left(z \\right)}}}{2} + \\frac{\\operatorname{pw}{\\left(\\frac{\\omega_{1}}{2},g_{2},g_{3} \\right)}}{2} + \\frac{\\operatorname{pw}{\\left(\\omega_{1},g_{2},g_{3} \\right)}}{2}$"
      ],
      "text/plain": [
       "Eq(pw(z, g2, g3), sqrt(pw(omega1/2, g2, g3)**2 - 2*pw(omega1/2, g2, g3)*pw(omega1, g2, g3) + pw(omega1, g2, g3)**2 + 4*u(z)*v(z))/2 + pw(omega1/2, g2, g3)/2 + pw(omega1, g2, g3)/2)"
      ]
     },
     "execution_count": 141,
     "metadata": {},
     "output_type": "execute_result"
    },
    {
     "data": {
      "text/latex": [
       "$\\displaystyle \\frac{\\sqrt{\\operatorname{pw}^{2}{\\left(\\frac{\\omega_{1}}{2},g_{2},g_{3} \\right)} - 2 \\operatorname{pw}{\\left(\\frac{\\omega_{1}}{2},g_{2},g_{3} \\right)} \\operatorname{pw}{\\left(\\omega_{1},g_{2},g_{3} \\right)} + \\operatorname{pw}^{2}{\\left(\\omega_{1},g_{2},g_{3} \\right)} + 4 u{\\left(z \\right)} v{\\left(z \\right)}}}{2} = X$"
      ],
      "text/plain": [
       "Eq(sqrt(pw(omega1/2, g2, g3)**2 - 2*pw(omega1/2, g2, g3)*pw(omega1, g2, g3) + pw(omega1, g2, g3)**2 + 4*u(z)*v(z))/2, X)"
      ]
     },
     "execution_count": 141,
     "metadata": {},
     "output_type": "execute_result"
    },
    {
     "data": {
      "text/latex": [
       "$\\displaystyle \\operatorname{pw}{\\left(z,g_{2},g_{3} \\right)} = - X + \\frac{\\operatorname{pw}{\\left(\\frac{\\omega_{1}}{2},g_{2},g_{3} \\right)}}{2} + \\frac{\\operatorname{pw}{\\left(\\omega_{1},g_{2},g_{3} \\right)}}{2}$"
      ],
      "text/plain": [
       "Eq(pw(z, g2, g3), -X + pw(omega1/2, g2, g3)/2 + pw(omega1, g2, g3)/2)"
      ]
     },
     "execution_count": 141,
     "metadata": {},
     "output_type": "execute_result"
    }
   ],
   "source": [
    "sig_p_omega1_a = Eq(sigma_p_identity.rhs, sigma_p_identity.lhs).subs([(y,z),(x, -omega1/2)]).subs([\n",
    "    (sigma(-omega1/2,g2,g3), -sigma(omega1/2,g2,g3)),\n",
    "    (sigma(-omega1/2 - z,g2,g3), -sigma(omega1/2 + z,g2,g3)),\n",
    "    (pw(-omega1/2,g2,g3), pw(omega1/2,g2,g3))\n",
    "])\n",
    "\n",
    "sig_p_omega1_b = sig_p_omega1_a.subs(omega1,2*omega1)\n",
    "\n",
    "uv_sig = Eq(uz.lhs*vz.lhs, uz.rhs*vz.rhs)\n",
    "uv_p = Eq(uv_sig.lhs, uv_sig.rhs*sig_p_omega1_a.rhs/sig_p_omega1_a.lhs*sig_p_omega1_b.rhs/sig_p_omega1_b.lhs)\n",
    "\n",
    "p_uv_sols = solve(uv_p,pw(z,g2,g3))\n",
    "p_uv_sol_a = Eq(pw(z,g2,g3), p_uv_sols[0])\n",
    "p_uv_sol_b = Eq(pw(z,g2,g3), p_uv_sols[1])\n",
    "Xsqrt = Eq(\n",
    "    sqrt(pw(omega1/2, g2, g3)**2 - 2*pw(omega1/2, g2, g3)*pw(omega1, g2, g3) + pw(omega1, g2, g3)**2 \n",
    "         + 4*u(z)*v(z))/2, X)\n",
    "p_uv_sol_a_X = p_uv_sol_a.subs(*Xsqrt.args)\n",
    "\n",
    "\n",
    "sig_p_omega1_a\n",
    "sig_p_omega1_b\n",
    "uv_sig\n",
    "uv_p\n",
    "p_uv_sol_a\n",
    "p_uv_sol_b\n",
    "Xsqrt\n",
    "p_uv_sol_a_X"
   ]
  },
  {
   "cell_type": "code",
   "execution_count": 167,
   "id": "5baa211f",
   "metadata": {},
   "outputs": [
    {
     "data": {
      "text/latex": [
       "$\\displaystyle g_{2} - 12 \\operatorname{pw}^{2}{\\left(\\frac{\\omega_{1}}{2},g_{2},g_{3} \\right)} = \\frac{2 \\operatorname{pwp}^{2}{\\left(\\frac{\\omega_{1}}{2},g_{2},g_{3} \\right)}}{- \\operatorname{pw}{\\left(\\frac{\\omega_{1}}{2},g_{2},g_{3} \\right)} + \\operatorname{pw}{\\left(\\omega_{1},g_{2},g_{3} \\right)}}$"
      ],
      "text/plain": [
       "Eq(g2 - 12*pw(omega1/2, g2, g3)**2, 2*pwp(omega1/2, g2, g3)**2/(-pw(omega1/2, g2, g3) + pw(omega1, g2, g3)))"
      ]
     },
     "execution_count": 167,
     "metadata": {},
     "output_type": "execute_result"
    }
   ],
   "source": [
    "g2_12 = Eq(\n",
    "    (g2 - 12*pw(omega1/2, g2, g3)**2),\n",
    "    2*pwp(omega1/2, g2, g3)**2/(-pw(omega1/2, g2, g3) + pw(omega1, g2, g3))\n",
    ")\n",
    "g2_12"
   ]
  },
  {
   "cell_type": "code",
   "execution_count": 168,
   "id": "c97725c4",
   "metadata": {},
   "outputs": [
    {
     "data": {
      "text/latex": [
       "$\\displaystyle \\left(- \\operatorname{pw}{\\left(\\omega_{1},g_{2},g_{3} \\right)} + \\operatorname{pw}{\\left(z,g_{2},g_{3} \\right)}\\right)^{2} \\left(\\left(\\operatorname{pw}{\\left(\\frac{\\omega_{1}}{2},g_{2},g_{3} \\right)} - \\operatorname{pw}{\\left(z,g_{2},g_{3} \\right)}\\right)^{2} - \\frac{\\left(- \\operatorname{pwp}{\\left(\\frac{\\omega_{1}}{2},g_{2},g_{3} \\right)} + \\operatorname{pwp}{\\left(z,g_{2},g_{3} \\right)}\\right) \\operatorname{pwp}{\\left(\\frac{\\omega_{1}}{2},g_{2},g_{3} \\right)}}{2 \\operatorname{pw}{\\left(\\frac{\\omega_{1}}{2},g_{2},g_{3} \\right)} - 2 \\operatorname{pw}{\\left(\\omega_{1},g_{2},g_{3} \\right)}} - \\frac{2 \\left(- \\operatorname{pw}{\\left(\\frac{\\omega_{1}}{2},g_{2},g_{3} \\right)} + \\operatorname{pw}{\\left(z,g_{2},g_{3} \\right)}\\right) \\operatorname{pwp}^{2}{\\left(\\frac{\\omega_{1}}{2},g_{2},g_{3} \\right)}}{\\left(- \\operatorname{pw}{\\left(\\frac{\\omega_{1}}{2},g_{2},g_{3} \\right)} + \\operatorname{pw}{\\left(\\omega_{1},g_{2},g_{3} \\right)}\\right) \\left(4 \\operatorname{pw}{\\left(\\frac{\\omega_{1}}{2},g_{2},g_{3} \\right)} - 4 \\operatorname{pw}{\\left(\\omega_{1},g_{2},g_{3} \\right)}\\right)}\\right) = u^{4}{\\left(z \\right)}$"
      ],
      "text/plain": [
       "Eq((-pw(omega1, g2, g3) + pw(z, g2, g3))**2*((pw(omega1/2, g2, g3) - pw(z, g2, g3))**2 - (-pwp(omega1/2, g2, g3) + pwp(z, g2, g3))*pwp(omega1/2, g2, g3)/(2*pw(omega1/2, g2, g3) - 2*pw(omega1, g2, g3)) - 2*(-pw(omega1/2, g2, g3) + pw(z, g2, g3))*pwp(omega1/2, g2, g3)**2/((-pw(omega1/2, g2, g3) + pw(omega1, g2, g3))*(4*pw(omega1/2, g2, g3) - 4*pw(omega1, g2, g3)))), u(z)**4)"
      ]
     },
     "execution_count": 168,
     "metadata": {},
     "output_type": "execute_result"
    },
    {
     "data": {
      "text/latex": [
       "$\\displaystyle \\left(- \\operatorname{pw}{\\left(\\omega_{1},g_{2},g_{3} \\right)} + \\operatorname{pw}{\\left(z,g_{2},g_{3} \\right)}\\right)^{2} \\left(\\left(\\operatorname{pw}{\\left(\\frac{\\omega_{1}}{2},g_{2},g_{3} \\right)} - \\operatorname{pw}{\\left(z,g_{2},g_{3} \\right)}\\right)^{2} - \\frac{\\left(- \\operatorname{pwp}{\\left(\\frac{\\omega_{1}}{2},g_{2},g_{3} \\right)} - \\operatorname{pwp}{\\left(z,g_{2},g_{3} \\right)}\\right) \\operatorname{pwp}{\\left(\\frac{\\omega_{1}}{2},g_{2},g_{3} \\right)}}{2 \\operatorname{pw}{\\left(\\frac{\\omega_{1}}{2},g_{2},g_{3} \\right)} - 2 \\operatorname{pw}{\\left(\\omega_{1},g_{2},g_{3} \\right)}} - \\frac{2 \\left(- \\operatorname{pw}{\\left(\\frac{\\omega_{1}}{2},g_{2},g_{3} \\right)} + \\operatorname{pw}{\\left(z,g_{2},g_{3} \\right)}\\right) \\operatorname{pwp}^{2}{\\left(\\frac{\\omega_{1}}{2},g_{2},g_{3} \\right)}}{\\left(- \\operatorname{pw}{\\left(\\frac{\\omega_{1}}{2},g_{2},g_{3} \\right)} + \\operatorname{pw}{\\left(\\omega_{1},g_{2},g_{3} \\right)}\\right) \\left(4 \\operatorname{pw}{\\left(\\frac{\\omega_{1}}{2},g_{2},g_{3} \\right)} - 4 \\operatorname{pw}{\\left(\\omega_{1},g_{2},g_{3} \\right)}\\right)}\\right) = v^{4}{\\left(z \\right)}$"
      ],
      "text/plain": [
       "Eq((-pw(omega1, g2, g3) + pw(z, g2, g3))**2*((pw(omega1/2, g2, g3) - pw(z, g2, g3))**2 - (-pwp(omega1/2, g2, g3) - pwp(z, g2, g3))*pwp(omega1/2, g2, g3)/(2*pw(omega1/2, g2, g3) - 2*pw(omega1, g2, g3)) - 2*(-pw(omega1/2, g2, g3) + pw(z, g2, g3))*pwp(omega1/2, g2, g3)**2/((-pw(omega1/2, g2, g3) + pw(omega1, g2, g3))*(4*pw(omega1/2, g2, g3) - 4*pw(omega1, g2, g3)))), v(z)**4)"
      ]
     },
     "execution_count": 168,
     "metadata": {},
     "output_type": "execute_result"
    }
   ],
   "source": [
    "uz4th = prod_2sqrd_4.subs((uz.rhs**4).simplify(), uz.lhs**4).subs(*g2_12.args)\n",
    "vz4th = uz4th.subs([(pwp(z,g2,g3), -pwp(z,g2,g3)),(u(z),v(z))]).subs(*g2_12.args)\n",
    "uz4th\n",
    "vz4th"
   ]
  },
  {
   "cell_type": "code",
   "execution_count": 169,
   "id": "0181b97c",
   "metadata": {},
   "outputs": [
    {
     "data": {
      "text/latex": [
       "$\\displaystyle X^{4} - \\frac{X^{3} \\operatorname{pwp}^{2}{\\left(\\frac{\\omega_{1}}{2},g_{2},g_{3} \\right)}}{2 \\left(- \\operatorname{pw}{\\left(\\frac{\\omega_{1}}{2},g_{2},g_{3} \\right)} + \\operatorname{pw}{\\left(\\omega_{1},g_{2},g_{3} \\right)}\\right)^{2}} - \\frac{X^{2} \\left(- 2 \\operatorname{pw}^{3}{\\left(\\frac{\\omega_{1}}{2},g_{2},g_{3} \\right)} + 6 \\operatorname{pw}^{2}{\\left(\\frac{\\omega_{1}}{2},g_{2},g_{3} \\right)} \\operatorname{pw}{\\left(\\omega_{1},g_{2},g_{3} \\right)} - 6 \\operatorname{pw}{\\left(\\frac{\\omega_{1}}{2},g_{2},g_{3} \\right)} \\operatorname{pw}^{2}{\\left(\\omega_{1},g_{2},g_{3} \\right)} + 2 \\operatorname{pw}^{3}{\\left(\\omega_{1},g_{2},g_{3} \\right)} + 3 \\operatorname{pwp}^{2}{\\left(\\frac{\\omega_{1}}{2},g_{2},g_{3} \\right)} - 2 \\operatorname{pwp}{\\left(\\frac{\\omega_{1}}{2},g_{2},g_{3} \\right)} \\operatorname{pwp}{\\left(z,g_{2},g_{3} \\right)}\\right)}{4 \\left(- \\operatorname{pw}{\\left(\\frac{\\omega_{1}}{2},g_{2},g_{3} \\right)} + \\operatorname{pw}{\\left(\\omega_{1},g_{2},g_{3} \\right)}\\right)} - \\frac{X \\left(3 \\operatorname{pwp}{\\left(\\frac{\\omega_{1}}{2},g_{2},g_{3} \\right)} - 4 \\operatorname{pwp}{\\left(z,g_{2},g_{3} \\right)}\\right) \\operatorname{pwp}{\\left(\\frac{\\omega_{1}}{2},g_{2},g_{3} \\right)}}{8} + \\frac{\\left(- \\operatorname{pw}{\\left(\\frac{\\omega_{1}}{2},g_{2},g_{3} \\right)} + \\operatorname{pw}{\\left(\\omega_{1},g_{2},g_{3} \\right)}\\right) \\left(- \\operatorname{pw}^{3}{\\left(\\frac{\\omega_{1}}{2},g_{2},g_{3} \\right)} + 3 \\operatorname{pw}^{2}{\\left(\\frac{\\omega_{1}}{2},g_{2},g_{3} \\right)} \\operatorname{pw}{\\left(\\omega_{1},g_{2},g_{3} \\right)} - 3 \\operatorname{pw}{\\left(\\frac{\\omega_{1}}{2},g_{2},g_{3} \\right)} \\operatorname{pw}^{2}{\\left(\\omega_{1},g_{2},g_{3} \\right)} + \\operatorname{pw}^{3}{\\left(\\omega_{1},g_{2},g_{3} \\right)} - \\operatorname{pwp}^{2}{\\left(\\frac{\\omega_{1}}{2},g_{2},g_{3} \\right)} + 2 \\operatorname{pwp}{\\left(\\frac{\\omega_{1}}{2},g_{2},g_{3} \\right)} \\operatorname{pwp}{\\left(z,g_{2},g_{3} \\right)}\\right)}{16} = u^{4}{\\left(z \\right)}$"
      ],
      "text/plain": [
       "Eq(X**4 - X**3*pwp(omega1/2, g2, g3)**2/(2*(-pw(omega1/2, g2, g3) + pw(omega1, g2, g3))**2) - X**2*(-2*pw(omega1/2, g2, g3)**3 + 6*pw(omega1/2, g2, g3)**2*pw(omega1, g2, g3) - 6*pw(omega1/2, g2, g3)*pw(omega1, g2, g3)**2 + 2*pw(omega1, g2, g3)**3 + 3*pwp(omega1/2, g2, g3)**2 - 2*pwp(omega1/2, g2, g3)*pwp(z, g2, g3))/(4*(-pw(omega1/2, g2, g3) + pw(omega1, g2, g3))) - X*(3*pwp(omega1/2, g2, g3) - 4*pwp(z, g2, g3))*pwp(omega1/2, g2, g3)/8 + (-pw(omega1/2, g2, g3) + pw(omega1, g2, g3))*(-pw(omega1/2, g2, g3)**3 + 3*pw(omega1/2, g2, g3)**2*pw(omega1, g2, g3) - 3*pw(omega1/2, g2, g3)*pw(omega1, g2, g3)**2 + pw(omega1, g2, g3)**3 - pwp(omega1/2, g2, g3)**2 + 2*pwp(omega1/2, g2, g3)*pwp(z, g2, g3))/16, u(z)**4)"
      ]
     },
     "execution_count": 169,
     "metadata": {},
     "output_type": "execute_result"
    }
   ],
   "source": [
    "Eq(uz4th.lhs.subs(*p_uv_sol_a_X.args).expand().collect(X,factor), uz4th.rhs)"
   ]
  },
  {
   "cell_type": "code",
   "execution_count": 116,
   "id": "8dba80d5",
   "metadata": {},
   "outputs": [
    {
     "data": {
      "text/latex": [
       "$\\displaystyle \\operatorname{pw}{\\left(\\omega_{1},g_{2},g_{3} \\right)} = \\frac{- g_{2} \\operatorname{pw}{\\left(\\frac{\\omega_{1}}{2},g_{2},g_{3} \\right)} - 2 g_{3} - 4 \\operatorname{pw}^{3}{\\left(\\frac{\\omega_{1}}{2},g_{2},g_{3} \\right)}}{g_{2} - 12 \\operatorname{pw}^{2}{\\left(\\frac{\\omega_{1}}{2},g_{2},g_{3} \\right)}}$"
      ],
      "text/plain": [
       "Eq(pw(omega1, g2, g3), (-g2*pw(omega1/2, g2, g3) - 2*g3 - 4*pw(omega1/2, g2, g3)**3)/(g2 - 12*pw(omega1/2, g2, g3)**2))"
      ]
     },
     "execution_count": 116,
     "metadata": {},
     "output_type": "execute_result"
    }
   ],
   "source": [
    "pw7 = Eq(\n",
    "    ((uz4th.lhs*vz4th.lhs - uz4th.rhs*vz4th.rhs).subs(*uv_p.args)).expand()\n",
    "    .subs(pwp(z,g2,g3)**2, 4*pw(z,g2,g3)**3 - g2*pw(z,g2,g3) - g3).expand().collect(pw(z,g2,g3),factor)\n",
    "    .subs(pwp(omega1/2,g2,g3)**2, 4*pw(omega1/2,g2,g3)**3 - g2*pw(omega1/2,g2,g3) - g3).expand().collect(pw(z,g2,g3),factor),\n",
    "    0)\n",
    "\n",
    "pw_omega1_g2g3 = Eq(pw(omega1,g2,g3), \n",
    "   solve(pw7.lhs.coeff(pw(z,g2,g3),7)*((-pw(omega1/2, g2, g3) + pw(omega1, g2, g3))**(2)), pw(omega1,g2,g3))[0]\n",
    "  )\n",
    "pw_omega1_g2g3\n",
    "\n",
    "# pw7b = Eq(pw7.lhs.subs(*pw_omega1_g2g3.args).expand().collect(pw(z,g2,g3),factor),0)\n",
    "# pw7b"
   ]
  },
  {
   "cell_type": "code",
   "execution_count": 147,
   "id": "618e6eba",
   "metadata": {},
   "outputs": [
    {
     "data": {
      "text/latex": [
       "$\\displaystyle u^{4}{\\left(z \\right)} - v^{4}{\\left(z \\right)} = \\frac{\\left(\\operatorname{pw}{\\left(\\omega_{1},g_{2},g_{3} \\right)} - \\operatorname{pw}{\\left(z,g_{2},g_{3} \\right)}\\right)^{2} \\operatorname{pwp}{\\left(\\frac{\\omega_{1}}{2},g_{2},g_{3} \\right)} \\operatorname{pwp}{\\left(z,g_{2},g_{3} \\right)}}{- \\operatorname{pw}{\\left(\\frac{\\omega_{1}}{2},g_{2},g_{3} \\right)} + \\operatorname{pw}{\\left(\\omega_{1},g_{2},g_{3} \\right)}}$"
      ],
      "text/plain": [
       "Eq(u(z)**4 - v(z)**4, (pw(omega1, g2, g3) - pw(z, g2, g3))**2*pwp(omega1/2, g2, g3)*pwp(z, g2, g3)/(-pw(omega1/2, g2, g3) + pw(omega1, g2, g3)))"
      ]
     },
     "execution_count": 147,
     "metadata": {},
     "output_type": "execute_result"
    },
    {
     "data": {
      "text/latex": [
       "$\\displaystyle u^{4}{\\left(z \\right)} + v^{4}{\\left(z \\right)} = 2 \\operatorname{pw}^{4}{\\left(z,g_{2},g_{3} \\right)} - \\frac{\\left(g_{2}^{3} - 36 g_{2}^{2} \\operatorname{pw}^{2}{\\left(\\frac{\\omega_{1}}{2},g_{2},g_{3} \\right)} - 32 g_{2} g_{3} \\operatorname{pw}{\\left(\\frac{\\omega_{1}}{2},g_{2},g_{3} \\right)} + 176 g_{2} \\operatorname{pw}^{4}{\\left(\\frac{\\omega_{1}}{2},g_{2},g_{3} \\right)} - 32 g_{3}^{2} - 128 g_{3} \\operatorname{pw}^{3}{\\left(\\frac{\\omega_{1}}{2},g_{2},g_{3} \\right)} - 704 \\operatorname{pw}^{6}{\\left(\\frac{\\omega_{1}}{2},g_{2},g_{3} \\right)}\\right) \\operatorname{pw}^{3}{\\left(z,g_{2},g_{3} \\right)}}{4 \\left(g_{2} - 12 \\operatorname{pw}^{2}{\\left(\\frac{\\omega_{1}}{2},g_{2},g_{3} \\right)}\\right) \\left(g_{2} \\operatorname{pw}{\\left(\\frac{\\omega_{1}}{2},g_{2},g_{3} \\right)} + g_{3} - 4 \\operatorname{pw}^{3}{\\left(\\frac{\\omega_{1}}{2},g_{2},g_{3} \\right)}\\right)} - \\frac{\\left(g_{2} \\operatorname{pw}{\\left(\\frac{\\omega_{1}}{2},g_{2},g_{3} \\right)} + 2 g_{3} + 4 \\operatorname{pw}^{3}{\\left(\\frac{\\omega_{1}}{2},g_{2},g_{3} \\right)}\\right)^{2} \\left(g_{2}^{2} \\operatorname{pw}{\\left(\\frac{\\omega_{1}}{2},g_{2},g_{3} \\right)} + 2 g_{2} g_{3} - 16 g_{2} \\operatorname{pw}^{3}{\\left(\\frac{\\omega_{1}}{2},g_{2},g_{3} \\right)} - 32 g_{3} \\operatorname{pw}^{2}{\\left(\\frac{\\omega_{1}}{2},g_{2},g_{3} \\right)} - 16 \\operatorname{pw}^{5}{\\left(\\frac{\\omega_{1}}{2},g_{2},g_{3} \\right)}\\right)}{4 \\left(g_{2} - 12 \\operatorname{pw}^{2}{\\left(\\frac{\\omega_{1}}{2},g_{2},g_{3} \\right)}\\right)^{2} \\left(g_{2} \\operatorname{pw}{\\left(\\frac{\\omega_{1}}{2},g_{2},g_{3} \\right)} + g_{3} - 4 \\operatorname{pw}^{3}{\\left(\\frac{\\omega_{1}}{2},g_{2},g_{3} \\right)}\\right)} - \\frac{\\left(g_{2} \\operatorname{pw}{\\left(\\frac{\\omega_{1}}{2},g_{2},g_{3} \\right)} + 2 g_{3} + 4 \\operatorname{pw}^{3}{\\left(\\frac{\\omega_{1}}{2},g_{2},g_{3} \\right)}\\right) \\left(3 g_{2}^{3} \\operatorname{pw}{\\left(\\frac{\\omega_{1}}{2},g_{2},g_{3} \\right)} + 6 g_{2}^{2} g_{3} - 60 g_{2}^{2} \\operatorname{pw}^{3}{\\left(\\frac{\\omega_{1}}{2},g_{2},g_{3} \\right)} - 112 g_{2} g_{3} \\operatorname{pw}^{2}{\\left(\\frac{\\omega_{1}}{2},g_{2},g_{3} \\right)} + 400 g_{2} \\operatorname{pw}^{5}{\\left(\\frac{\\omega_{1}}{2},g_{2},g_{3} \\right)} + 32 g_{3}^{2} \\operatorname{pw}{\\left(\\frac{\\omega_{1}}{2},g_{2},g_{3} \\right)} + 992 g_{3} \\operatorname{pw}^{4}{\\left(\\frac{\\omega_{1}}{2},g_{2},g_{3} \\right)} + 704 \\operatorname{pw}^{7}{\\left(\\frac{\\omega_{1}}{2},g_{2},g_{3} \\right)}\\right) \\operatorname{pw}{\\left(z,g_{2},g_{3} \\right)}}{4 \\left(g_{2} - 12 \\operatorname{pw}^{2}{\\left(\\frac{\\omega_{1}}{2},g_{2},g_{3} \\right)}\\right)^{2} \\left(g_{2} \\operatorname{pw}{\\left(\\frac{\\omega_{1}}{2},g_{2},g_{3} \\right)} + g_{3} - 4 \\operatorname{pw}^{3}{\\left(\\frac{\\omega_{1}}{2},g_{2},g_{3} \\right)}\\right)} - \\frac{\\left(3 g_{2}^{4} \\operatorname{pw}{\\left(\\frac{\\omega_{1}}{2},g_{2},g_{3} \\right)} + 6 g_{2}^{3} g_{3} - 80 g_{2}^{3} \\operatorname{pw}^{3}{\\left(\\frac{\\omega_{1}}{2},g_{2},g_{3} \\right)} - 168 g_{2}^{2} g_{3} \\operatorname{pw}^{2}{\\left(\\frac{\\omega_{1}}{2},g_{2},g_{3} \\right)} + 672 g_{2}^{2} \\operatorname{pw}^{5}{\\left(\\frac{\\omega_{1}}{2},g_{2},g_{3} \\right)} + 1440 g_{2} g_{3} \\operatorname{pw}^{4}{\\left(\\frac{\\omega_{1}}{2},g_{2},g_{3} \\right)} - 2304 g_{2} \\operatorname{pw}^{7}{\\left(\\frac{\\omega_{1}}{2},g_{2},g_{3} \\right)} - 32 g_{3}^{3} - 768 g_{3}^{2} \\operatorname{pw}^{3}{\\left(\\frac{\\omega_{1}}{2},g_{2},g_{3} \\right)} - 9600 g_{3} \\operatorname{pw}^{6}{\\left(\\frac{\\omega_{1}}{2},g_{2},g_{3} \\right)} - 9472 \\operatorname{pw}^{9}{\\left(\\frac{\\omega_{1}}{2},g_{2},g_{3} \\right)}\\right) \\operatorname{pw}^{2}{\\left(z,g_{2},g_{3} \\right)}}{4 \\left(g_{2} - 12 \\operatorname{pw}^{2}{\\left(\\frac{\\omega_{1}}{2},g_{2},g_{3} \\right)}\\right)^{2} \\left(g_{2} \\operatorname{pw}{\\left(\\frac{\\omega_{1}}{2},g_{2},g_{3} \\right)} + g_{3} - 4 \\operatorname{pw}^{3}{\\left(\\frac{\\omega_{1}}{2},g_{2},g_{3} \\right)}\\right)}$"
      ],
      "text/plain": [
       "Eq(u(z)**4 + v(z)**4, 2*pw(z, g2, g3)**4 - (g2**3 - 36*g2**2*pw(omega1/2, g2, g3)**2 - 32*g2*g3*pw(omega1/2, g2, g3) + 176*g2*pw(omega1/2, g2, g3)**4 - 32*g3**2 - 128*g3*pw(omega1/2, g2, g3)**3 - 704*pw(omega1/2, g2, g3)**6)*pw(z, g2, g3)**3/(4*(g2 - 12*pw(omega1/2, g2, g3)**2)*(g2*pw(omega1/2, g2, g3) + g3 - 4*pw(omega1/2, g2, g3)**3)) - (g2*pw(omega1/2, g2, g3) + 2*g3 + 4*pw(omega1/2, g2, g3)**3)**2*(g2**2*pw(omega1/2, g2, g3) + 2*g2*g3 - 16*g2*pw(omega1/2, g2, g3)**3 - 32*g3*pw(omega1/2, g2, g3)**2 - 16*pw(omega1/2, g2, g3)**5)/(4*(g2 - 12*pw(omega1/2, g2, g3)**2)**2*(g2*pw(omega1/2, g2, g3) + g3 - 4*pw(omega1/2, g2, g3)**3)) - (g2*pw(omega1/2, g2, g3) + 2*g3 + 4*pw(omega1/2, g2, g3)**3)*(3*g2**3*pw(omega1/2, g2, g3) + 6*g2**2*g3 - 60*g2**2*pw(omega1/2, g2, g3)**3 - 112*g2*g3*pw(omega1/2, g2, g3)**2 + 400*g2*pw(omega1/2, g2, g3)**5 + 32*g3**2*pw(omega1/2, g2, g3) + 992*g3*pw(omega1/2, g2, g3)**4 + 704*pw(omega1/2, g2, g3)**7)*pw(z, g2, g3)/(4*(g2 - 12*pw(omega1/2, g2, g3)**2)**2*(g2*pw(omega1/2, g2, g3) + g3 - 4*pw(omega1/2, g2, g3)**3)) - (3*g2**4*pw(omega1/2, g2, g3) + 6*g2**3*g3 - 80*g2**3*pw(omega1/2, g2, g3)**3 - 168*g2**2*g3*pw(omega1/2, g2, g3)**2 + 672*g2**2*pw(omega1/2, g2, g3)**5 + 1440*g2*g3*pw(omega1/2, g2, g3)**4 - 2304*g2*pw(omega1/2, g2, g3)**7 - 32*g3**3 - 768*g3**2*pw(omega1/2, g2, g3)**3 - 9600*g3*pw(omega1/2, g2, g3)**6 - 9472*pw(omega1/2, g2, g3)**9)*pw(z, g2, g3)**2/(4*(g2 - 12*pw(omega1/2, g2, g3)**2)**2*(g2*pw(omega1/2, g2, g3) + g3 - 4*pw(omega1/2, g2, g3)**3)))"
      ]
     },
     "execution_count": 147,
     "metadata": {},
     "output_type": "execute_result"
    }
   ],
   "source": [
    "uv_minus = Eq(uz4th.rhs - vz4th.rhs, (uz4th.lhs - vz4th.lhs).simplify().factor())\n",
    "uv_plus = Eq(\n",
    "    uz4th.rhs + vz4th.rhs, \n",
    "    (uz4th.lhs + vz4th.lhs).simplify().expand().collect(pw(z,g2,g3), factor)\n",
    "    .subs(pwp(omega1/2,g2,g3)**2, 4*pw(omega1/2,g2,g3)**3 - g2*pw(omega1/2,g2,g3) - g3)\n",
    "    .subs(*pw_omega1_g2g3.args)\n",
    "    .expand().collect(pw(z,g2,g3), factor)\n",
    ")\n",
    "\n",
    "uv_minus\n",
    "uv_plus"
   ]
  },
  {
   "cell_type": "code",
   "execution_count": 131,
   "id": "180b99d1",
   "metadata": {},
   "outputs": [
    {
     "data": {
      "text/latex": [
       "$\\displaystyle \\operatorname{pw}{\\left(z,g_{2},g_{3} \\right)} = - \\frac{\\sqrt{\\operatorname{pw}^{2}{\\left(\\frac{\\omega_{1}}{2},g_{2},g_{3} \\right)} - 2 \\operatorname{pw}{\\left(\\frac{\\omega_{1}}{2},g_{2},g_{3} \\right)} \\operatorname{pw}{\\left(\\omega_{1},g_{2},g_{3} \\right)} + \\operatorname{pw}^{2}{\\left(\\omega_{1},g_{2},g_{3} \\right)} + 4 u{\\left(z \\right)} v{\\left(z \\right)}}}{2} + \\frac{\\operatorname{pw}{\\left(\\frac{\\omega_{1}}{2},g_{2},g_{3} \\right)}}{2} + \\frac{\\operatorname{pw}{\\left(\\omega_{1},g_{2},g_{3} \\right)}}{2}$"
      ],
      "text/plain": [
       "Eq(pw(z, g2, g3), -sqrt(pw(omega1/2, g2, g3)**2 - 2*pw(omega1/2, g2, g3)*pw(omega1, g2, g3) + pw(omega1, g2, g3)**2 + 4*u(z)*v(z))/2 + pw(omega1/2, g2, g3)/2 + pw(omega1, g2, g3)/2)"
      ]
     },
     "execution_count": 131,
     "metadata": {},
     "output_type": "execute_result"
    }
   ],
   "source": [
    "p_uv_sol_a"
   ]
  },
  {
   "cell_type": "code",
   "execution_count": 148,
   "id": "9a4d2c51",
   "metadata": {},
   "outputs": [
    {
     "data": {
      "text/latex": [
       "$\\displaystyle u^{4}{\\left(z \\right)} + v^{4}{\\left(z \\right)} = 2 X^{4} + \\frac{X^{3} \\left(g_{2}^{3} - 52 g_{2}^{2} \\operatorname{pw}^{2}{\\left(\\frac{\\omega_{1}}{2},g_{2},g_{3} \\right)} - 16 g_{2}^{2} \\operatorname{pw}{\\left(\\frac{\\omega_{1}}{2},g_{2},g_{3} \\right)} \\operatorname{pw}{\\left(\\omega_{1},g_{2},g_{3} \\right)} - 48 g_{2} g_{3} \\operatorname{pw}{\\left(\\frac{\\omega_{1}}{2},g_{2},g_{3} \\right)} - 16 g_{2} g_{3} \\operatorname{pw}{\\left(\\omega_{1},g_{2},g_{3} \\right)} + 432 g_{2} \\operatorname{pw}^{4}{\\left(\\frac{\\omega_{1}}{2},g_{2},g_{3} \\right)} + 256 g_{2} \\operatorname{pw}^{3}{\\left(\\frac{\\omega_{1}}{2},g_{2},g_{3} \\right)} \\operatorname{pw}{\\left(\\omega_{1},g_{2},g_{3} \\right)} - 32 g_{3}^{2} + 64 g_{3} \\operatorname{pw}^{3}{\\left(\\frac{\\omega_{1}}{2},g_{2},g_{3} \\right)} + 192 g_{3} \\operatorname{pw}^{2}{\\left(\\frac{\\omega_{1}}{2},g_{2},g_{3} \\right)} \\operatorname{pw}{\\left(\\omega_{1},g_{2},g_{3} \\right)} - 1472 \\operatorname{pw}^{6}{\\left(\\frac{\\omega_{1}}{2},g_{2},g_{3} \\right)} - 768 \\operatorname{pw}^{5}{\\left(\\frac{\\omega_{1}}{2},g_{2},g_{3} \\right)} \\operatorname{pw}{\\left(\\omega_{1},g_{2},g_{3} \\right)}\\right)}{4 \\left(g_{2} - 12 \\operatorname{pw}^{2}{\\left(\\frac{\\omega_{1}}{2},g_{2},g_{3} \\right)}\\right) \\left(g_{2} \\operatorname{pw}{\\left(\\frac{\\omega_{1}}{2},g_{2},g_{3} \\right)} + g_{3} - 4 \\operatorname{pw}^{3}{\\left(\\frac{\\omega_{1}}{2},g_{2},g_{3} \\right)}\\right)} - \\frac{X^{2} \\cdot \\left(9 g_{2}^{4} \\operatorname{pw}{\\left(\\frac{\\omega_{1}}{2},g_{2},g_{3} \\right)} + 3 g_{2}^{4} \\operatorname{pw}{\\left(\\omega_{1},g_{2},g_{3} \\right)} + 12 g_{2}^{3} g_{3} - 328 g_{2}^{3} \\operatorname{pw}^{3}{\\left(\\frac{\\omega_{1}}{2},g_{2},g_{3} \\right)} - 192 g_{2}^{3} \\operatorname{pw}^{2}{\\left(\\frac{\\omega_{1}}{2},g_{2},g_{3} \\right)} \\operatorname{pw}{\\left(\\omega_{1},g_{2},g_{3} \\right)} - 24 g_{2}^{3} \\operatorname{pw}{\\left(\\frac{\\omega_{1}}{2},g_{2},g_{3} \\right)} \\operatorname{pw}^{2}{\\left(\\omega_{1},g_{2},g_{3} \\right)} - 456 g_{2}^{2} g_{3} \\operatorname{pw}^{2}{\\left(\\frac{\\omega_{1}}{2},g_{2},g_{3} \\right)} - 144 g_{2}^{2} g_{3} \\operatorname{pw}{\\left(\\frac{\\omega_{1}}{2},g_{2},g_{3} \\right)} \\operatorname{pw}{\\left(\\omega_{1},g_{2},g_{3} \\right)} - 24 g_{2}^{2} g_{3} \\operatorname{pw}^{2}{\\left(\\omega_{1},g_{2},g_{3} \\right)} + 3840 g_{2}^{2} \\operatorname{pw}^{5}{\\left(\\frac{\\omega_{1}}{2},g_{2},g_{3} \\right)} + 3168 g_{2}^{2} \\operatorname{pw}^{4}{\\left(\\frac{\\omega_{1}}{2},g_{2},g_{3} \\right)} \\operatorname{pw}{\\left(\\omega_{1},g_{2},g_{3} \\right)} + 672 g_{2}^{2} \\operatorname{pw}^{3}{\\left(\\frac{\\omega_{1}}{2},g_{2},g_{3} \\right)} \\operatorname{pw}^{2}{\\left(\\omega_{1},g_{2},g_{3} \\right)} - 96 g_{2} g_{3}^{2} \\operatorname{pw}{\\left(\\frac{\\omega_{1}}{2},g_{2},g_{3} \\right)} - 96 g_{2} g_{3}^{2} \\operatorname{pw}{\\left(\\omega_{1},g_{2},g_{3} \\right)} + 4224 g_{2} g_{3} \\operatorname{pw}^{4}{\\left(\\frac{\\omega_{1}}{2},g_{2},g_{3} \\right)} + 1920 g_{2} g_{3} \\operatorname{pw}^{3}{\\left(\\frac{\\omega_{1}}{2},g_{2},g_{3} \\right)} \\operatorname{pw}{\\left(\\omega_{1},g_{2},g_{3} \\right)} + 576 g_{2} g_{3} \\operatorname{pw}^{2}{\\left(\\frac{\\omega_{1}}{2},g_{2},g_{3} \\right)} \\operatorname{pw}^{2}{\\left(\\omega_{1},g_{2},g_{3} \\right)} - 18816 g_{2} \\operatorname{pw}^{7}{\\left(\\frac{\\omega_{1}}{2},g_{2},g_{3} \\right)} - 19968 g_{2} \\operatorname{pw}^{6}{\\left(\\frac{\\omega_{1}}{2},g_{2},g_{3} \\right)} \\operatorname{pw}{\\left(\\omega_{1},g_{2},g_{3} \\right)} - 5760 g_{2} \\operatorname{pw}^{5}{\\left(\\frac{\\omega_{1}}{2},g_{2},g_{3} \\right)} \\operatorname{pw}^{2}{\\left(\\omega_{1},g_{2},g_{3} \\right)} - 64 g_{3}^{3} - 384 g_{3}^{2} \\operatorname{pw}^{3}{\\left(\\frac{\\omega_{1}}{2},g_{2},g_{3} \\right)} + 1152 g_{3}^{2} \\operatorname{pw}^{2}{\\left(\\frac{\\omega_{1}}{2},g_{2},g_{3} \\right)} \\operatorname{pw}{\\left(\\omega_{1},g_{2},g_{3} \\right)} - 18048 g_{3} \\operatorname{pw}^{6}{\\left(\\frac{\\omega_{1}}{2},g_{2},g_{3} \\right)} - 2304 g_{3} \\operatorname{pw}^{5}{\\left(\\frac{\\omega_{1}}{2},g_{2},g_{3} \\right)} \\operatorname{pw}{\\left(\\omega_{1},g_{2},g_{3} \\right)} - 3456 g_{3} \\operatorname{pw}^{4}{\\left(\\frac{\\omega_{1}}{2},g_{2},g_{3} \\right)} \\operatorname{pw}^{2}{\\left(\\omega_{1},g_{2},g_{3} \\right)} + 20224 \\operatorname{pw}^{9}{\\left(\\frac{\\omega_{1}}{2},g_{2},g_{3} \\right)} + 52992 \\operatorname{pw}^{8}{\\left(\\frac{\\omega_{1}}{2},g_{2},g_{3} \\right)} \\operatorname{pw}{\\left(\\omega_{1},g_{2},g_{3} \\right)} + 13824 \\operatorname{pw}^{7}{\\left(\\frac{\\omega_{1}}{2},g_{2},g_{3} \\right)} \\operatorname{pw}^{2}{\\left(\\omega_{1},g_{2},g_{3} \\right)}\\right)}{8 \\left(g_{2} - 12 \\operatorname{pw}^{2}{\\left(\\frac{\\omega_{1}}{2},g_{2},g_{3} \\right)}\\right)^{2} \\left(g_{2} \\operatorname{pw}{\\left(\\frac{\\omega_{1}}{2},g_{2},g_{3} \\right)} + g_{3} - 4 \\operatorname{pw}^{3}{\\left(\\frac{\\omega_{1}}{2},g_{2},g_{3} \\right)}\\right)} + \\frac{X \\left(3 g_{2} \\operatorname{pw}{\\left(\\frac{\\omega_{1}}{2},g_{2},g_{3} \\right)} + g_{2} \\operatorname{pw}{\\left(\\omega_{1},g_{2},g_{3} \\right)} + 4 g_{3} - 4 \\operatorname{pw}^{3}{\\left(\\frac{\\omega_{1}}{2},g_{2},g_{3} \\right)} - 12 \\operatorname{pw}^{2}{\\left(\\frac{\\omega_{1}}{2},g_{2},g_{3} \\right)} \\operatorname{pw}{\\left(\\omega_{1},g_{2},g_{3} \\right)}\\right) \\left(9 g_{2}^{3} \\operatorname{pw}{\\left(\\frac{\\omega_{1}}{2},g_{2},g_{3} \\right)} + 3 g_{2}^{3} \\operatorname{pw}{\\left(\\omega_{1},g_{2},g_{3} \\right)} + 12 g_{2}^{2} g_{3} - 212 g_{2}^{2} \\operatorname{pw}^{3}{\\left(\\frac{\\omega_{1}}{2},g_{2},g_{3} \\right)} - 108 g_{2}^{2} \\operatorname{pw}^{2}{\\left(\\frac{\\omega_{1}}{2},g_{2},g_{3} \\right)} \\operatorname{pw}{\\left(\\omega_{1},g_{2},g_{3} \\right)} - 16 g_{2}^{2} \\operatorname{pw}{\\left(\\frac{\\omega_{1}}{2},g_{2},g_{3} \\right)} \\operatorname{pw}^{2}{\\left(\\omega_{1},g_{2},g_{3} \\right)} - 240 g_{2} g_{3} \\operatorname{pw}^{2}{\\left(\\frac{\\omega_{1}}{2},g_{2},g_{3} \\right)} - 32 g_{2} g_{3} \\operatorname{pw}{\\left(\\frac{\\omega_{1}}{2},g_{2},g_{3} \\right)} \\operatorname{pw}{\\left(\\omega_{1},g_{2},g_{3} \\right)} - 16 g_{2} g_{3} \\operatorname{pw}^{2}{\\left(\\omega_{1},g_{2},g_{3} \\right)} + 1584 g_{2} \\operatorname{pw}^{5}{\\left(\\frac{\\omega_{1}}{2},g_{2},g_{3} \\right)} + 1040 g_{2} \\operatorname{pw}^{4}{\\left(\\frac{\\omega_{1}}{2},g_{2},g_{3} \\right)} \\operatorname{pw}{\\left(\\omega_{1},g_{2},g_{3} \\right)} + 256 g_{2} \\operatorname{pw}^{3}{\\left(\\frac{\\omega_{1}}{2},g_{2},g_{3} \\right)} \\operatorname{pw}^{2}{\\left(\\omega_{1},g_{2},g_{3} \\right)} + 32 g_{3}^{2} \\operatorname{pw}{\\left(\\frac{\\omega_{1}}{2},g_{2},g_{3} \\right)} - 32 g_{3}^{2} \\operatorname{pw}{\\left(\\omega_{1},g_{2},g_{3} \\right)} + 1664 g_{3} \\operatorname{pw}^{4}{\\left(\\frac{\\omega_{1}}{2},g_{2},g_{3} \\right)} - 128 g_{3} \\operatorname{pw}^{3}{\\left(\\frac{\\omega_{1}}{2},g_{2},g_{3} \\right)} \\operatorname{pw}{\\left(\\omega_{1},g_{2},g_{3} \\right)} + 192 g_{3} \\operatorname{pw}^{2}{\\left(\\frac{\\omega_{1}}{2},g_{2},g_{3} \\right)} \\operatorname{pw}^{2}{\\left(\\omega_{1},g_{2},g_{3} \\right)} - 1984 \\operatorname{pw}^{7}{\\left(\\frac{\\omega_{1}}{2},g_{2},g_{3} \\right)} - 4160 \\operatorname{pw}^{6}{\\left(\\frac{\\omega_{1}}{2},g_{2},g_{3} \\right)} \\operatorname{pw}{\\left(\\omega_{1},g_{2},g_{3} \\right)} - 768 \\operatorname{pw}^{5}{\\left(\\frac{\\omega_{1}}{2},g_{2},g_{3} \\right)} \\operatorname{pw}^{2}{\\left(\\omega_{1},g_{2},g_{3} \\right)}\\right)}{16 \\left(g_{2} - 12 \\operatorname{pw}^{2}{\\left(\\frac{\\omega_{1}}{2},g_{2},g_{3} \\right)}\\right)^{2} \\left(g_{2} \\operatorname{pw}{\\left(\\frac{\\omega_{1}}{2},g_{2},g_{3} \\right)} + g_{3} - 4 \\operatorname{pw}^{3}{\\left(\\frac{\\omega_{1}}{2},g_{2},g_{3} \\right)}\\right)} - \\frac{\\left(3 g_{2} \\operatorname{pw}{\\left(\\frac{\\omega_{1}}{2},g_{2},g_{3} \\right)} + g_{2} \\operatorname{pw}{\\left(\\omega_{1},g_{2},g_{3} \\right)} + 4 g_{3} - 4 \\operatorname{pw}^{3}{\\left(\\frac{\\omega_{1}}{2},g_{2},g_{3} \\right)} - 12 \\operatorname{pw}^{2}{\\left(\\frac{\\omega_{1}}{2},g_{2},g_{3} \\right)} \\operatorname{pw}{\\left(\\omega_{1},g_{2},g_{3} \\right)}\\right)^{2} \\cdot \\left(3 g_{2}^{2} \\operatorname{pw}{\\left(\\frac{\\omega_{1}}{2},g_{2},g_{3} \\right)} + g_{2}^{2} \\operatorname{pw}{\\left(\\omega_{1},g_{2},g_{3} \\right)} + 4 g_{2} g_{3} - 44 g_{2} \\operatorname{pw}^{3}{\\left(\\frac{\\omega_{1}}{2},g_{2},g_{3} \\right)} - 16 g_{2} \\operatorname{pw}^{2}{\\left(\\frac{\\omega_{1}}{2},g_{2},g_{3} \\right)} \\operatorname{pw}{\\left(\\omega_{1},g_{2},g_{3} \\right)} - 4 g_{2} \\operatorname{pw}{\\left(\\frac{\\omega_{1}}{2},g_{2},g_{3} \\right)} \\operatorname{pw}^{2}{\\left(\\omega_{1},g_{2},g_{3} \\right)} - 52 g_{3} \\operatorname{pw}^{2}{\\left(\\frac{\\omega_{1}}{2},g_{2},g_{3} \\right)} + 8 g_{3} \\operatorname{pw}{\\left(\\frac{\\omega_{1}}{2},g_{2},g_{3} \\right)} \\operatorname{pw}{\\left(\\omega_{1},g_{2},g_{3} \\right)} - 4 g_{3} \\operatorname{pw}^{2}{\\left(\\omega_{1},g_{2},g_{3} \\right)} + 64 \\operatorname{pw}^{5}{\\left(\\frac{\\omega_{1}}{2},g_{2},g_{3} \\right)} + 112 \\operatorname{pw}^{4}{\\left(\\frac{\\omega_{1}}{2},g_{2},g_{3} \\right)} \\operatorname{pw}{\\left(\\omega_{1},g_{2},g_{3} \\right)} + 16 \\operatorname{pw}^{3}{\\left(\\frac{\\omega_{1}}{2},g_{2},g_{3} \\right)} \\operatorname{pw}^{2}{\\left(\\omega_{1},g_{2},g_{3} \\right)}\\right)}{32 \\left(g_{2} - 12 \\operatorname{pw}^{2}{\\left(\\frac{\\omega_{1}}{2},g_{2},g_{3} \\right)}\\right)^{2} \\left(g_{2} \\operatorname{pw}{\\left(\\frac{\\omega_{1}}{2},g_{2},g_{3} \\right)} + g_{3} - 4 \\operatorname{pw}^{3}{\\left(\\frac{\\omega_{1}}{2},g_{2},g_{3} \\right)}\\right)}$"
      ],
      "text/plain": [
       "Eq(u(z)**4 + v(z)**4, 2*X**4 + X**3*(g2**3 - 52*g2**2*pw(omega1/2, g2, g3)**2 - 16*g2**2*pw(omega1/2, g2, g3)*pw(omega1, g2, g3) - 48*g2*g3*pw(omega1/2, g2, g3) - 16*g2*g3*pw(omega1, g2, g3) + 432*g2*pw(omega1/2, g2, g3)**4 + 256*g2*pw(omega1/2, g2, g3)**3*pw(omega1, g2, g3) - 32*g3**2 + 64*g3*pw(omega1/2, g2, g3)**3 + 192*g3*pw(omega1/2, g2, g3)**2*pw(omega1, g2, g3) - 1472*pw(omega1/2, g2, g3)**6 - 768*pw(omega1/2, g2, g3)**5*pw(omega1, g2, g3))/(4*(g2 - 12*pw(omega1/2, g2, g3)**2)*(g2*pw(omega1/2, g2, g3) + g3 - 4*pw(omega1/2, g2, g3)**3)) - X**2*(9*g2**4*pw(omega1/2, g2, g3) + 3*g2**4*pw(omega1, g2, g3) + 12*g2**3*g3 - 328*g2**3*pw(omega1/2, g2, g3)**3 - 192*g2**3*pw(omega1/2, g2, g3)**2*pw(omega1, g2, g3) - 24*g2**3*pw(omega1/2, g2, g3)*pw(omega1, g2, g3)**2 - 456*g2**2*g3*pw(omega1/2, g2, g3)**2 - 144*g2**2*g3*pw(omega1/2, g2, g3)*pw(omega1, g2, g3) - 24*g2**2*g3*pw(omega1, g2, g3)**2 + 3840*g2**2*pw(omega1/2, g2, g3)**5 + 3168*g2**2*pw(omega1/2, g2, g3)**4*pw(omega1, g2, g3) + 672*g2**2*pw(omega1/2, g2, g3)**3*pw(omega1, g2, g3)**2 - 96*g2*g3**2*pw(omega1/2, g2, g3) - 96*g2*g3**2*pw(omega1, g2, g3) + 4224*g2*g3*pw(omega1/2, g2, g3)**4 + 1920*g2*g3*pw(omega1/2, g2, g3)**3*pw(omega1, g2, g3) + 576*g2*g3*pw(omega1/2, g2, g3)**2*pw(omega1, g2, g3)**2 - 18816*g2*pw(omega1/2, g2, g3)**7 - 19968*g2*pw(omega1/2, g2, g3)**6*pw(omega1, g2, g3) - 5760*g2*pw(omega1/2, g2, g3)**5*pw(omega1, g2, g3)**2 - 64*g3**3 - 384*g3**2*pw(omega1/2, g2, g3)**3 + 1152*g3**2*pw(omega1/2, g2, g3)**2*pw(omega1, g2, g3) - 18048*g3*pw(omega1/2, g2, g3)**6 - 2304*g3*pw(omega1/2, g2, g3)**5*pw(omega1, g2, g3) - 3456*g3*pw(omega1/2, g2, g3)**4*pw(omega1, g2, g3)**2 + 20224*pw(omega1/2, g2, g3)**9 + 52992*pw(omega1/2, g2, g3)**8*pw(omega1, g2, g3) + 13824*pw(omega1/2, g2, g3)**7*pw(omega1, g2, g3)**2)/(8*(g2 - 12*pw(omega1/2, g2, g3)**2)**2*(g2*pw(omega1/2, g2, g3) + g3 - 4*pw(omega1/2, g2, g3)**3)) + X*(3*g2*pw(omega1/2, g2, g3) + g2*pw(omega1, g2, g3) + 4*g3 - 4*pw(omega1/2, g2, g3)**3 - 12*pw(omega1/2, g2, g3)**2*pw(omega1, g2, g3))*(9*g2**3*pw(omega1/2, g2, g3) + 3*g2**3*pw(omega1, g2, g3) + 12*g2**2*g3 - 212*g2**2*pw(omega1/2, g2, g3)**3 - 108*g2**2*pw(omega1/2, g2, g3)**2*pw(omega1, g2, g3) - 16*g2**2*pw(omega1/2, g2, g3)*pw(omega1, g2, g3)**2 - 240*g2*g3*pw(omega1/2, g2, g3)**2 - 32*g2*g3*pw(omega1/2, g2, g3)*pw(omega1, g2, g3) - 16*g2*g3*pw(omega1, g2, g3)**2 + 1584*g2*pw(omega1/2, g2, g3)**5 + 1040*g2*pw(omega1/2, g2, g3)**4*pw(omega1, g2, g3) + 256*g2*pw(omega1/2, g2, g3)**3*pw(omega1, g2, g3)**2 + 32*g3**2*pw(omega1/2, g2, g3) - 32*g3**2*pw(omega1, g2, g3) + 1664*g3*pw(omega1/2, g2, g3)**4 - 128*g3*pw(omega1/2, g2, g3)**3*pw(omega1, g2, g3) + 192*g3*pw(omega1/2, g2, g3)**2*pw(omega1, g2, g3)**2 - 1984*pw(omega1/2, g2, g3)**7 - 4160*pw(omega1/2, g2, g3)**6*pw(omega1, g2, g3) - 768*pw(omega1/2, g2, g3)**5*pw(omega1, g2, g3)**2)/(16*(g2 - 12*pw(omega1/2, g2, g3)**2)**2*(g2*pw(omega1/2, g2, g3) + g3 - 4*pw(omega1/2, g2, g3)**3)) - (3*g2*pw(omega1/2, g2, g3) + g2*pw(omega1, g2, g3) + 4*g3 - 4*pw(omega1/2, g2, g3)**3 - 12*pw(omega1/2, g2, g3)**2*pw(omega1, g2, g3))**2*(3*g2**2*pw(omega1/2, g2, g3) + g2**2*pw(omega1, g2, g3) + 4*g2*g3 - 44*g2*pw(omega1/2, g2, g3)**3 - 16*g2*pw(omega1/2, g2, g3)**2*pw(omega1, g2, g3) - 4*g2*pw(omega1/2, g2, g3)*pw(omega1, g2, g3)**2 - 52*g3*pw(omega1/2, g2, g3)**2 + 8*g3*pw(omega1/2, g2, g3)*pw(omega1, g2, g3) - 4*g3*pw(omega1, g2, g3)**2 + 64*pw(omega1/2, g2, g3)**5 + 112*pw(omega1/2, g2, g3)**4*pw(omega1, g2, g3) + 16*pw(omega1/2, g2, g3)**3*pw(omega1, g2, g3)**2)/(32*(g2 - 12*pw(omega1/2, g2, g3)**2)**2*(g2*pw(omega1/2, g2, g3) + g3 - 4*pw(omega1/2, g2, g3)**3)))"
      ]
     },
     "execution_count": 148,
     "metadata": {},
     "output_type": "execute_result"
    }
   ],
   "source": [
    "Eq(uv_plus.lhs,uv_plus.rhs.subs(*p_uv_sol_a_X.args).expand().collect(X,factor))"
   ]
  },
  {
   "cell_type": "code",
   "execution_count": 140,
   "id": "f7c15180",
   "metadata": {},
   "outputs": [
    {
     "data": {
      "text/latex": [
       "$\\displaystyle \\operatorname{pw}{\\left(z,g_{2},g_{3} \\right)} = - X + \\frac{\\operatorname{pw}{\\left(\\frac{\\omega_{1}}{2},g_{2},g_{3} \\right)}}{2} + \\frac{\\operatorname{pw}{\\left(\\omega_{1},g_{2},g_{3} \\right)}}{2}$"
      ],
      "text/plain": [
       "Eq(pw(z, g2, g3), -X + pw(omega1/2, g2, g3)/2 + pw(omega1, g2, g3)/2)"
      ]
     },
     "execution_count": 140,
     "metadata": {},
     "output_type": "execute_result"
    }
   ],
   "source": []
  },
  {
   "cell_type": "code",
   "execution_count": 138,
   "id": "ff447954",
   "metadata": {},
   "outputs": [
    {
     "data": {
      "text/latex": [
       "$\\displaystyle \\frac{\\sqrt{\\operatorname{pw}^{2}{\\left(\\frac{\\omega_{1}}{2},g_{2},g_{3} \\right)} - 2 \\operatorname{pw}{\\left(\\frac{\\omega_{1}}{2},g_{2},g_{3} \\right)} \\operatorname{pw}{\\left(\\omega_{1},g_{2},g_{3} \\right)} + \\operatorname{pw}^{2}{\\left(\\omega_{1},g_{2},g_{3} \\right)} + 4 u{\\left(z \\right)} v{\\left(z \\right)}}}{2} = X$"
      ],
      "text/plain": [
       "Eq(sqrt(pw(omega1/2, g2, g3)**2 - 2*pw(omega1/2, g2, g3)*pw(omega1, g2, g3) + pw(omega1, g2, g3)**2 + 4*u(z)*v(z))/2, X)"
      ]
     },
     "execution_count": 138,
     "metadata": {},
     "output_type": "execute_result"
    }
   ],
   "source": []
  },
  {
   "cell_type": "code",
   "execution_count": null,
   "id": "efed0892",
   "metadata": {},
   "outputs": [],
   "source": []
  }
 ],
 "metadata": {
  "kernelspec": {
   "display_name": "Python 3 (ipykernel)",
   "language": "python",
   "name": "python3"
  },
  "language_info": {
   "codemirror_mode": {
    "name": "ipython",
    "version": 3
   },
   "file_extension": ".py",
   "mimetype": "text/x-python",
   "name": "python",
   "nbconvert_exporter": "python",
   "pygments_lexer": "ipython3",
   "version": "3.11.10"
  }
 },
 "nbformat": 4,
 "nbformat_minor": 5
}
