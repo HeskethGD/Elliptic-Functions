{
 "cells": [
  {
   "cell_type": "markdown",
   "id": "a025d763",
   "metadata": {},
   "source": [
    "# Degenerate determinant formulas for Kronecker theta functions"
   ]
  },
  {
   "cell_type": "code",
   "execution_count": 1,
   "id": "c969311f",
   "metadata": {},
   "outputs": [],
   "source": [
    "from sympy import *\n",
    "(x, y, X, Y, Z, B, C, n, m, l, j, q, N, M, K, k, z, s, p1, p2, p3, g2, g3,\n",
    " z0, w1, w2, w3, e1, e2, e3, Delta, \n",
    " omega1, omega2, omega3, eta1, eta2, eta3, d1, d2, d3) = symbols(\n",
    "    '''x, y, X, Y, Z, B, C, n, m, l, j, q, N, M, K, k, z, s, p1, p2, p3, g2, g3,\n",
    "    z0, w1, w2, w3, e1, e2, e3, Delta, \n",
    "    omega1, omega2, omega3, eta1, eta2, eta3, d1, d2, d3'''\n",
    ")\n",
    "alpha, delta, t, nu, theta = symbols('alpha, delta, t, nu, theta')\n",
    "pw = Function('pw') # Weierstrass P function\n",
    "pwp = Function('pwp') # Derivative of Weierstrass P function\n",
    "zw = Function('zw') # Weierstrass Zeta function\n",
    "sigma = Function('sigma') # Weierstrass Sigma function\n",
    "rho = Function('rho')\n",
    "f = Function('f')\n",
    "h = Function('h')\n",
    "s = Function('s')\n",
    "P = Function('P') # Polynomial\n",
    "Q = Function('Q') # Polynomial\n",
    "phi = Function('phi')\n",
    "Phi = Function('Phi')\n",
    "phi1 = Function('phi1')\n",
    "phi2 = Function('phi2')\n",
    "phi3 = Function('phi3')\n",
    "A = IndexedBase('A')\n",
    "W1 = Function('W1')\n",
    "W2 = Function('W2')\n",
    "W3 = Function('W3')\n",
    "W4 = Function('W4')\n",
    "W5 = Function('W5')\n",
    "W6 = Function('W6')\n",
    "Det = Function(\"Det\")\n",
    "\n",
    "kappa = IndexedBase('kappa')\n",
    "beta = IndexedBase('beta')\n",
    "mu = IndexedBase('mu')\n",
    "xi = IndexedBase('xi')\n",
    "a = IndexedBase('a')\n",
    "b = IndexedBase('b')\n",
    "c = IndexedBase('c')\n",
    "d = IndexedBase('d')\n",
    "p = IndexedBase('p')\n",
    "G = IndexedBase('G')\n",
    "psi = IndexedBase('psi')\n",
    "upsilon = IndexedBase('upsilon')\n",
    "epsilon = IndexedBase('epsilon')\n",
    "WPdet = Function('WPdet')\n",
    "\n",
    "from IPython.core.interactiveshell import InteractiveShell\n",
    "InteractiveShell.ast_node_interactivity = 'all'\n",
    "\n",
    "# kth order derivatives of Weierstrass P\n",
    "from wpk import wpk, run_tests\n",
    "\n",
    "# The package containing mpmath expressions for Weierstrass elliptic functions\n",
    "from numerical_evaluation.weierstrass_modified import Weierstrass\n",
    "we = Weierstrass()\n",
    "from mpmath import exp as mpexp"
   ]
  },
  {
   "cell_type": "code",
   "execution_count": 2,
   "id": "6337b681",
   "metadata": {},
   "outputs": [
    {
     "name": "stdout",
     "output_type": "stream",
     "text": [
      "True\n",
      "True\n",
      "True\n",
      "True\n",
      "True\n",
      "True\n"
     ]
    }
   ],
   "source": [
    "run_tests()"
   ]
  },
  {
   "cell_type": "markdown",
   "id": "a115ff36",
   "metadata": {},
   "source": [
    "## Taylor Series"
   ]
  },
  {
   "cell_type": "code",
   "execution_count": 3,
   "id": "7d1803d5",
   "metadata": {
    "scrolled": true
   },
   "outputs": [
    {
     "data": {
      "text/latex": [
       "$\\displaystyle f{\\left(x \\right)} = \\sum_{n=0}^{\\infty} \\frac{\\left(x - a\\right)^{n} \\left. \\frac{d^{n}}{d x^{n}} f{\\left(x \\right)} \\right|_{\\substack{ x=a }}}{n!}$"
      ],
      "text/plain": [
       "Eq(f(x), Sum((x - a)**n*Subs(Derivative(f(x), (x, n)), x, a)/factorial(n), (n, 0, oo)))"
      ]
     },
     "execution_count": 3,
     "metadata": {},
     "output_type": "execute_result"
    },
    {
     "data": {
      "text/latex": [
       "$\\displaystyle f{\\left(x + a \\right)} = \\sum_{n=0}^{\\infty} \\frac{x^{n} \\left. \\frac{d^{n}}{d x^{n}} f{\\left(x \\right)} \\right|_{\\substack{ x=a }}}{n!}$"
      ],
      "text/plain": [
       "Eq(f(x + a), Sum(x**n*Subs(Derivative(f(x), (x, n)), x, a)/factorial(n), (n, 0, oo)))"
      ]
     },
     "execution_count": 3,
     "metadata": {},
     "output_type": "execute_result"
    }
   ],
   "source": [
    "taylor_series = Eq(f(x), Sum(Derivative(f(x),(x,n)).subs(x,a)/factorial(n) * (x - a)**n, (n,0,oo)))\n",
    "taylor_series_b = taylor_series.subs(x,x+a)\n",
    "\n",
    "taylor_series\n",
    "taylor_series_b"
   ]
  },
  {
   "cell_type": "code",
   "execution_count": 4,
   "id": "8dd735d9",
   "metadata": {},
   "outputs": [
    {
     "data": {
      "text/latex": [
       "$\\displaystyle f{\\left(z + \\epsilon \\right)} = \\sum_{n=0}^{N} \\frac{\\frac{d^{n}}{d z^{n}} f{\\left(z \\right)} \\epsilon^{n}}{n!}$"
      ],
      "text/plain": [
       "Eq(f(z + epsilon), Sum(Derivative(f(z), (z, n))*epsilon**n/factorial(n), (n, 0, N)))"
      ]
     },
     "execution_count": 4,
     "metadata": {},
     "output_type": "execute_result"
    }
   ],
   "source": [
    "taylor_series_epsilon = Eq(f(z + epsilon), Sum(Derivative(f(z),(z,n))/factorial(n) * epsilon**n, (n,0,N)))\n",
    "taylor_series_epsilon"
   ]
  },
  {
   "cell_type": "code",
   "execution_count": 5,
   "id": "909328ab",
   "metadata": {
    "scrolled": true
   },
   "outputs": [
    {
     "data": {
      "text/latex": [
       "$\\displaystyle \\left. \\frac{d^{n}}{d y^{n}} f{\\left(y \\right)} \\right|_{\\substack{ y=x + a }} = \\frac{\\partial^{n}}{\\partial x^{n}} f{\\left(x + a \\right)}$"
      ],
      "text/plain": [
       "Eq(Subs(Derivative(f(y), (y, n)), y, x + a), Derivative(f(x + a), (x, n)))"
      ]
     },
     "execution_count": 5,
     "metadata": {},
     "output_type": "execute_result"
    },
    {
     "data": {
      "text/latex": [
       "$\\displaystyle \\text{True}$"
      ],
      "text/plain": [
       "True"
      ]
     },
     "execution_count": 5,
     "metadata": {},
     "output_type": "execute_result"
    }
   ],
   "source": [
    "diff_at_a = Eq(diff(f(y),(y,n)).subs(y,x+a), Derivative(f(x+a),(x,n)))\n",
    "\n",
    "diff_at_a\n",
    "\n",
    "Eq(Derivative(f(x+a),(x,n)), diff(f(y),(y,n)).subs(y,x+a)).subs(n,18).doit()"
   ]
  },
  {
   "cell_type": "markdown",
   "id": "5fbca18f",
   "metadata": {},
   "source": [
    "## Quasi Periodicity"
   ]
  },
  {
   "cell_type": "code",
   "execution_count": 6,
   "id": "a52f48fc",
   "metadata": {},
   "outputs": [
    {
     "data": {
      "text/latex": [
       "$\\displaystyle \\sigma{\\left(2 m \\omega_{3} + 2 n \\omega_{1} + z,g_{2},g_{3} \\right)} = \\left(-1\\right)^{m n + m + n} \\sigma{\\left(z,g_{2},g_{3} \\right)} e^{2 \\eta_{1} m n \\omega_{3} + 2 \\eta_{1} n^{2} \\omega_{1} + 2 \\eta_{1} n z + 2 \\eta_{3} m^{2} \\omega_{3} + 2 \\eta_{3} m n \\omega_{1} + 2 \\eta_{3} m z}$"
      ],
      "text/plain": [
       "Eq(sigma(2*m*omega3 + 2*n*omega1 + z, g2, g3), (-1)**(m*n + m + n)*sigma(z, g2, g3)*exp(2*eta1*m*n*omega3 + 2*eta1*n**2*omega1 + 2*eta1*n*z + 2*eta3*m**2*omega3 + 2*eta3*m*n*omega1 + 2*eta3*m*z))"
      ]
     },
     "execution_count": 6,
     "metadata": {},
     "output_type": "execute_result"
    }
   ],
   "source": [
    "quasi_period = Eq(sigma(2*m*omega3 + 2*n*omega1 + z, g2, g3),\n",
    " (-1)**(m*n + m + n)*sigma(z, g2, g3)*\n",
    "                  exp(2*eta1*m*n*omega3 + 2*eta1*n**2*omega1 + 2*eta1*n*z + \n",
    "                      2*eta3*m**2*omega3 + 2*eta3*m*n*omega1 + 2*eta3*m*z)\n",
    "                 )\n",
    "\n",
    "quasi_period"
   ]
  },
  {
   "cell_type": "markdown",
   "id": "7a844b18",
   "metadata": {},
   "source": [
    "## Pole expansion"
   ]
  },
  {
   "cell_type": "code",
   "execution_count": 7,
   "id": "a86f7478",
   "metadata": {},
   "outputs": [
    {
     "data": {
      "text/latex": [
       "$\\displaystyle \\operatorname{pw}{\\left(z,g_{2},g_{3} \\right)} = \\sum_{\\substack{-\\infty \\leq n \\leq \\infty\\\\-\\infty \\leq m \\leq \\infty}} \\left(\\frac{1}{\\left(m \\omega_{1} + n \\omega_{2} + z\\right)^{2}} - \\frac{1}{\\left(m \\omega_{1} + n \\omega_{2}\\right)^{2}}\\right) + \\frac{1}{z^{2}}$"
      ],
      "text/plain": [
       "Eq(pw(z, g2, g3), Sum((m*omega1 + n*omega2 + z)**(-2) - 1/(m*omega1 + n*omega2)**2, (n, -oo, oo), (m, -oo, oo)) + z**(-2))"
      ]
     },
     "execution_count": 7,
     "metadata": {},
     "output_type": "execute_result"
    },
    {
     "data": {
      "text/latex": [
       "$\\displaystyle \\frac{\\partial^{k}}{\\partial z^{k}} \\operatorname{pw}{\\left(z,g_{2},g_{3} \\right)} = \\left(-1\\right)^{k} \\left(k + 1\\right)! \\sum_{\\substack{-\\infty \\leq n \\leq \\infty\\\\-\\infty \\leq m \\leq \\infty}} \\left(m \\omega_{1} + n \\omega_{2} + z\\right)^{- k - 2}$"
      ],
      "text/plain": [
       "Eq(Derivative(pw(z, g2, g3), (z, k)), (-1)**k*factorial(k + 1)*Sum((m*omega1 + n*omega2 + z)**(-k - 2), (n, -oo, oo), (m, -oo, oo)))"
      ]
     },
     "execution_count": 7,
     "metadata": {},
     "output_type": "execute_result"
    }
   ],
   "source": [
    "# The point m = n = 0 should be excluded but it is difficult to write that in sympy\n",
    "pw_pole_exp = Eq(\n",
    "    pw(z,g2,g3), \n",
    "    1/z**2 + Sum(1/(z + m*omega1 + n*omega2)**2 - 1/(m*omega1 + n*omega2)**2,(n,-oo,oo),(m,-oo,oo))\n",
    ")\n",
    "\n",
    "# Eq(Derivative(1/z**2,(z,k)),(-1)**k*factorial(k+1)/z**(2+k))\n",
    "# Eq(Derivative(1/(z + m*omega1 + n*omega2)**2,(z,k)),(-1)**k*factorial(k+1)/(z + m*omega1 + n*omega2)**(2+k))\n",
    "\n",
    "# For k > 0\n",
    "pw_ho_diff_pole_exp = Eq(\n",
    "    diff(pw(z,g2,g3),(z,k)), \n",
    "    (-1)**k*factorial(k+1)*Sum(1/(z + m*omega1 + n*omega2)**(2+k),(n,-oo,oo),(m,-oo,oo))\n",
    ")\n",
    "\n",
    "pw_pole_exp\n",
    "pw_ho_diff_pole_exp"
   ]
  },
  {
   "cell_type": "markdown",
   "id": "eb55a9db",
   "metadata": {},
   "source": [
    "## Frobenius Stickelberger determinant formula for Kronecker theta functions"
   ]
  },
  {
   "cell_type": "code",
   "execution_count": 8,
   "id": "523319c6",
   "metadata": {},
   "outputs": [],
   "source": [
    "sigma_product_f_s = (\n",
    "    (-1)**(N*(N-1)/2)*\n",
    "    Product(factorial(k),(k,1,N))*\n",
    "    sigma(Sum(mu[j],(j,0,N)),g2,g3)*\n",
    "    Product(Product(Piecewise((sigma(mu[l] - mu[m], g2, g3),l<m),(1,True)),(l,0,N)),(m,0,N))/\n",
    "    Product(sigma(mu[n],g2,g3)**(N+1),(n,0,N))\n",
    ")\n",
    "\n",
    "def frob_stick(Nval, evaluated=False, WPversion=False):\n",
    "    \"\"\"\n",
    "    Frobenius Stickelberger in its original form\n",
    "    \"\"\"\n",
    "    if evaluated:\n",
    "        return Eq(p_matrix_f_s(Nval).det(), sigma_product_f_s.subs(N,Nval).doit())\n",
    "    elif WPversion:\n",
    "        return Eq(WPdet(Nval), sigma_product_f_s.subs(N,Nval).doit())\n",
    "    return Eq(Det(p_matrix_f_s(Nval)), sigma_product_f_s.subs(N,Nval).doit())"
   ]
  },
  {
   "cell_type": "code",
   "execution_count": 9,
   "id": "8fee0e64",
   "metadata": {},
   "outputs": [],
   "source": [
    "sigma_product_f_s_N_factored = (\n",
    "    (-1)**(N*(N-1)/2)*\n",
    "    Product(factorial(k),(k,1,N-1))*\n",
    "    factorial(N)*\n",
    "    sigma(Sum(mu[j],(j,0,N)),g2,g3)*\n",
    "    Product(Product(Piecewise((sigma(mu[l] - mu[m], g2, g3),l<m),(1,True)),(l,0,N-1)),(m,0,N-1))*\n",
    "    Product(Piecewise((sigma(mu[l] - mu[N], g2, g3),l<N),(1,True)),(l,0,N))/\n",
    "    Product(sigma(mu[n],g2,g3)**(N),(n,0,N))/\n",
    "    Product(sigma(mu[n],g2,g3),(n,0,N))\n",
    ")\n",
    "\n",
    "sigma_product_f_s_N_over_N_minus_1 = (sigma_product_f_s_N_factored/sigma_product_f_s.subs(N,N-1))\n",
    "\n",
    "subs1_list = [\n",
    "    (Product(Piecewise((sigma(mu[l] - mu[N], g2, g3),l<N),(1,True)),(l,0,N)), \n",
    "     (-1)**N*Product(sigma(z - xi[l], g2, g3),(l,0,N))/sigma(z - xi[N], g2, g3)),\n",
    "    (Product(sigma(mu[n],g2,g3),(n,0,N)),Product(sigma(xi[n],g2,g3),(n,0,N))*sigma(z,g2,g3)/sigma(xi[N],g2,g3)),\n",
    "    (sigma(Sum(mu[j],(j,0,N-1)),g2,g3),-sigma(xi[N],g2,g3)),\n",
    "    (Sum(mu[j],(j,0,N)),-xi[N]+z),\n",
    "    (sigma(mu[N],g2,g3),sigma(z,g2,g3))\n",
    "]\n",
    "subs2_list = [\n",
    "    ((-1)**(2*N)*Product(sigma(z - xi[l], g2, g3),(l,0,N)), \n",
    "   Product(sigma(z - xi[l], g2, g3)/sigma(xi[l], g2, g3)/sigma(z, g2, g3),(l,0,N)) *\n",
    "   Product(sigma(xi[n], g2, g3),(n,0,N)) *\n",
    "   (Product(sigma(z, g2, g3),(l,0,N)).doit()))\n",
    "]\n",
    "\n",
    "wp_sigma_product_fs_N_over_N_minus_1_mu_n = Eq(WPdet(N)/WPdet(N-1), sigma_product_f_s_N_over_N_minus_1).subs(\n",
    "    Product(sigma(mu[n],g2,g3)**N,(n,0,N)),sigma(mu[N],g2,g3)**N*Product(sigma(mu[n],g2,g3)**N,(n,0,N-1))\n",
    ").expand()\n",
    "\n",
    "wp_sigma_product_fs_N_over_N_minus_1 = (\n",
    "    wp_sigma_product_fs_N_over_N_minus_1_mu_n\n",
    "    .subs(subs1_list)\n",
    "    .subs(subs2_list)\n",
    ").expand()\n",
    "sigma_product_f_s_N_over_N_minus_1 = wp_sigma_product_fs_N_over_N_minus_1.rhs\n",
    "\n",
    "\n",
    "def p_matrix_f_s(N): \n",
    "    return Matrix([[1, *[pw(x,g2,g3).diff((x,j)).subs(x,mu[k]) for j in range(N)]] for k in range(N+1)])\n",
    "\n",
    "def p_matrix_f_s_1dz(N): \n",
    "    return Matrix([*[[1, *[pw(x,g2,g3).diff((x,j)).subs(x,mu[k]) for j in range(N)]] for k in range(N)],\n",
    "       [1, *[pw(z,g2,g3).diff((z,j)) for j in range(N)]]])\n",
    "\n",
    "def frob_stick_1dz_ratio(Nval, evaluated=False):\n",
    "    \"\"\"\n",
    "    Frobenius Stickelberger adapted for Kronecker theta functions\n",
    "    \"\"\"\n",
    "    if evaluated:\n",
    "        return Eq(\n",
    "            (((-1)**(Nval-1)/factorial(Nval) * p_matrix_f_s_1dz(Nval).det()/p_matrix_f_s(Nval-1).det()).expand())\n",
    "                  .collect([pw(z,g2,g3), diff(pw(z,g2,g3),z)],factor), \n",
    "            (-1)**(Nval-1)/factorial(Nval) * sigma_product_f_s_N_over_N_minus_1.subs(N,Nval).doit().subs(\n",
    "            xi[Nval],-Sum(xi[j],(j,0,Nval-1)).doit()\n",
    "        ).subs([(xi[j],mu[j]) for j in range(Nval)]))\n",
    "    \n",
    "    return Eq(\n",
    "        (-1)**(Nval-1)/factorial(Nval) * Det(p_matrix_f_s_1dz(Nval))/Det(p_matrix_f_s(Nval-1)), \n",
    "        \n",
    "        (-1)**(Nval-1)/factorial(Nval) * sigma_product_f_s_N_over_N_minus_1.subs(N,Nval).doit().subs(\n",
    "            xi[Nval],-Sum(xi[j],(j,0,Nval-1)).doit()\n",
    "        ).subs([(xi[j],mu[j]) for j in range(Nval)]))"
   ]
  },
  {
   "cell_type": "markdown",
   "id": "178b8ae9",
   "metadata": {},
   "source": [
    "## Keipert formula"
   ]
  },
  {
   "cell_type": "code",
   "execution_count": 10,
   "id": "abc03c2c",
   "metadata": {},
   "outputs": [
    {
     "data": {
      "text/latex": [
       "$\\displaystyle \\operatorname{Det}{\\left(\\left[\\begin{matrix}\\frac{\\partial}{\\partial x} \\operatorname{pw}{\\left(x,g_{2},g_{3} \\right)} & \\frac{\\partial^{2}}{\\partial x^{2}} \\operatorname{pw}{\\left(x,g_{2},g_{3} \\right)} & \\frac{\\partial^{3}}{\\partial x^{3}} \\operatorname{pw}{\\left(x,g_{2},g_{3} \\right)}\\\\\\frac{\\partial^{2}}{\\partial x^{2}} \\operatorname{pw}{\\left(x,g_{2},g_{3} \\right)} & \\frac{\\partial^{3}}{\\partial x^{3}} \\operatorname{pw}{\\left(x,g_{2},g_{3} \\right)} & \\frac{\\partial^{4}}{\\partial x^{4}} \\operatorname{pw}{\\left(x,g_{2},g_{3} \\right)}\\\\\\frac{\\partial^{3}}{\\partial x^{3}} \\operatorname{pw}{\\left(x,g_{2},g_{3} \\right)} & \\frac{\\partial^{4}}{\\partial x^{4}} \\operatorname{pw}{\\left(x,g_{2},g_{3} \\right)} & \\frac{\\partial^{5}}{\\partial x^{5}} \\operatorname{pw}{\\left(x,g_{2},g_{3} \\right)}\\end{matrix}\\right] \\right)} = - \\frac{\\sigma{\\left(4 x,g_{2},g_{3} \\right)} \\left(\\prod_{k=1}^{3} k!\\right)^{2}}{\\sigma^{16}{\\left(x,g_{2},g_{3} \\right)}}$"
      ],
      "text/plain": [
       "Eq(Det(Matrix([\n",
       "[     Derivative(pw(x, g2, g3), x), Derivative(pw(x, g2, g3), (x, 2)), Derivative(pw(x, g2, g3), (x, 3))],\n",
       "[Derivative(pw(x, g2, g3), (x, 2)), Derivative(pw(x, g2, g3), (x, 3)), Derivative(pw(x, g2, g3), (x, 4))],\n",
       "[Derivative(pw(x, g2, g3), (x, 3)), Derivative(pw(x, g2, g3), (x, 4)), Derivative(pw(x, g2, g3), (x, 5))]])), -sigma(4*x, g2, g3)*Product(factorial(k), (k, 1, 3))**2/sigma(x, g2, g3)**16)"
      ]
     },
     "execution_count": 10,
     "metadata": {},
     "output_type": "execute_result"
    }
   ],
   "source": [
    "def keipert_p_matrix_f_s_1dz(N): \n",
    "    return Matrix([[pw(x,g2,g3).diff((x,j)) for j in range(k + 1, N + k)] for k in range(N-1)])\n",
    "\n",
    "\n",
    "def keipert_det_sigma(N, evaluated=False):\n",
    "    \"\"\"Kleipert determinant formula for the degenerate case\"\"\"\n",
    "    \n",
    "    formula = Eq(Det(keipert_p_matrix_f_s_1dz(N)), \n",
    "                 (-1)**(N-1)*Product(factorial(k),(k,1,N-1))**2*sigma(N*x,g2,g3)/sigma(x,g2,g3)**N**2\n",
    "                )\n",
    "                 \n",
    "    if evaluated:\n",
    "        return formula.replace(Det, det)\n",
    "    return formula\n",
    "\n",
    "keipert_det_sigma(4)"
   ]
  },
  {
   "cell_type": "markdown",
   "id": "872b19d3",
   "metadata": {},
   "source": [
    "### Classic Frobenius Stickelberger formula example"
   ]
  },
  {
   "cell_type": "code",
   "execution_count": 11,
   "id": "76fe9f97",
   "metadata": {
    "scrolled": true
   },
   "outputs": [
    {
     "data": {
      "text/latex": [
       "$\\displaystyle \\operatorname{Det}{\\left(\\left[\\begin{matrix}1 & \\operatorname{pw}{\\left({\\mu}_{0},g_{2},g_{3} \\right)} & \\frac{\\partial}{\\partial {\\mu}_{0}} \\operatorname{pw}{\\left({\\mu}_{0},g_{2},g_{3} \\right)} & \\frac{\\partial^{2}}{\\partial {\\mu}_{0}^{2}} \\operatorname{pw}{\\left({\\mu}_{0},g_{2},g_{3} \\right)}\\\\1 & \\operatorname{pw}{\\left({\\mu}_{1},g_{2},g_{3} \\right)} & \\frac{\\partial}{\\partial {\\mu}_{1}} \\operatorname{pw}{\\left({\\mu}_{1},g_{2},g_{3} \\right)} & \\frac{\\partial^{2}}{\\partial {\\mu}_{1}^{2}} \\operatorname{pw}{\\left({\\mu}_{1},g_{2},g_{3} \\right)}\\\\1 & \\operatorname{pw}{\\left({\\mu}_{2},g_{2},g_{3} \\right)} & \\frac{\\partial}{\\partial {\\mu}_{2}} \\operatorname{pw}{\\left({\\mu}_{2},g_{2},g_{3} \\right)} & \\frac{\\partial^{2}}{\\partial {\\mu}_{2}^{2}} \\operatorname{pw}{\\left({\\mu}_{2},g_{2},g_{3} \\right)}\\\\1 & \\operatorname{pw}{\\left({\\mu}_{3},g_{2},g_{3} \\right)} & \\frac{\\partial}{\\partial {\\mu}_{3}} \\operatorname{pw}{\\left({\\mu}_{3},g_{2},g_{3} \\right)} & \\frac{\\partial^{2}}{\\partial {\\mu}_{3}^{2}} \\operatorname{pw}{\\left({\\mu}_{3},g_{2},g_{3} \\right)}\\end{matrix}\\right] \\right)} = - \\frac{12 \\sigma{\\left({\\mu}_{0} - {\\mu}_{1},g_{2},g_{3} \\right)} \\sigma{\\left({\\mu}_{0} - {\\mu}_{2},g_{2},g_{3} \\right)} \\sigma{\\left({\\mu}_{0} - {\\mu}_{3},g_{2},g_{3} \\right)} \\sigma{\\left({\\mu}_{1} - {\\mu}_{2},g_{2},g_{3} \\right)} \\sigma{\\left({\\mu}_{1} - {\\mu}_{3},g_{2},g_{3} \\right)} \\sigma{\\left({\\mu}_{2} - {\\mu}_{3},g_{2},g_{3} \\right)} \\sigma{\\left({\\mu}_{0} + {\\mu}_{1} + {\\mu}_{2} + {\\mu}_{3},g_{2},g_{3} \\right)}}{\\sigma^{4}{\\left({\\mu}_{0},g_{2},g_{3} \\right)} \\sigma^{4}{\\left({\\mu}_{1},g_{2},g_{3} \\right)} \\sigma^{4}{\\left({\\mu}_{2},g_{2},g_{3} \\right)} \\sigma^{4}{\\left({\\mu}_{3},g_{2},g_{3} \\right)}}$"
      ],
      "text/plain": [
       "Eq(Det(Matrix([\n",
       "[1, pw(mu[0], g2, g3), Derivative(pw(mu[0], g2, g3), mu[0]), Derivative(pw(mu[0], g2, g3), (mu[0], 2))],\n",
       "[1, pw(mu[1], g2, g3), Derivative(pw(mu[1], g2, g3), mu[1]), Derivative(pw(mu[1], g2, g3), (mu[1], 2))],\n",
       "[1, pw(mu[2], g2, g3), Derivative(pw(mu[2], g2, g3), mu[2]), Derivative(pw(mu[2], g2, g3), (mu[2], 2))],\n",
       "[1, pw(mu[3], g2, g3), Derivative(pw(mu[3], g2, g3), mu[3]), Derivative(pw(mu[3], g2, g3), (mu[3], 2))]])), -12*sigma(mu[0] - mu[1], g2, g3)*sigma(mu[0] - mu[2], g2, g3)*sigma(mu[0] - mu[3], g2, g3)*sigma(mu[1] - mu[2], g2, g3)*sigma(mu[1] - mu[3], g2, g3)*sigma(mu[2] - mu[3], g2, g3)*sigma(mu[0] + mu[1] + mu[2] + mu[3], g2, g3)/(sigma(mu[0], g2, g3)**4*sigma(mu[1], g2, g3)**4*sigma(mu[2], g2, g3)**4*sigma(mu[3], g2, g3)**4))"
      ]
     },
     "execution_count": 11,
     "metadata": {},
     "output_type": "execute_result"
    }
   ],
   "source": [
    "frob_stick(Nval=3, evaluated=False, WPversion=False)"
   ]
  },
  {
   "cell_type": "markdown",
   "id": "f25098d8",
   "metadata": {},
   "source": [
    "### Frobenius Stickelberger formula adapted for Kronecker theta functions example"
   ]
  },
  {
   "cell_type": "code",
   "execution_count": 12,
   "id": "7b2ac550",
   "metadata": {},
   "outputs": [
    {
     "data": {
      "text/latex": [
       "$\\displaystyle \\frac{\\operatorname{Det}{\\left(\\left[\\begin{matrix}1 & \\operatorname{pw}{\\left({\\mu}_{0},g_{2},g_{3} \\right)} & \\frac{\\partial}{\\partial {\\mu}_{0}} \\operatorname{pw}{\\left({\\mu}_{0},g_{2},g_{3} \\right)} & \\frac{\\partial^{2}}{\\partial {\\mu}_{0}^{2}} \\operatorname{pw}{\\left({\\mu}_{0},g_{2},g_{3} \\right)}\\\\1 & \\operatorname{pw}{\\left({\\mu}_{1},g_{2},g_{3} \\right)} & \\frac{\\partial}{\\partial {\\mu}_{1}} \\operatorname{pw}{\\left({\\mu}_{1},g_{2},g_{3} \\right)} & \\frac{\\partial^{2}}{\\partial {\\mu}_{1}^{2}} \\operatorname{pw}{\\left({\\mu}_{1},g_{2},g_{3} \\right)}\\\\1 & \\operatorname{pw}{\\left({\\mu}_{2},g_{2},g_{3} \\right)} & \\frac{\\partial}{\\partial {\\mu}_{2}} \\operatorname{pw}{\\left({\\mu}_{2},g_{2},g_{3} \\right)} & \\frac{\\partial^{2}}{\\partial {\\mu}_{2}^{2}} \\operatorname{pw}{\\left({\\mu}_{2},g_{2},g_{3} \\right)}\\\\1 & \\operatorname{pw}{\\left(z,g_{2},g_{3} \\right)} & \\frac{\\partial}{\\partial z} \\operatorname{pw}{\\left(z,g_{2},g_{3} \\right)} & \\frac{\\partial^{2}}{\\partial z^{2}} \\operatorname{pw}{\\left(z,g_{2},g_{3} \\right)}\\end{matrix}\\right] \\right)} \\operatorname{Det}^{-1}{\\left(\\left[\\begin{matrix}1 & \\operatorname{pw}{\\left({\\mu}_{0},g_{2},g_{3} \\right)} & \\frac{\\partial}{\\partial {\\mu}_{0}} \\operatorname{pw}{\\left({\\mu}_{0},g_{2},g_{3} \\right)}\\\\1 & \\operatorname{pw}{\\left({\\mu}_{1},g_{2},g_{3} \\right)} & \\frac{\\partial}{\\partial {\\mu}_{1}} \\operatorname{pw}{\\left({\\mu}_{1},g_{2},g_{3} \\right)}\\\\1 & \\operatorname{pw}{\\left({\\mu}_{2},g_{2},g_{3} \\right)} & \\frac{\\partial}{\\partial {\\mu}_{2}} \\operatorname{pw}{\\left({\\mu}_{2},g_{2},g_{3} \\right)}\\end{matrix}\\right] \\right)}}{6} = \\frac{\\sigma{\\left(z - {\\mu}_{0},g_{2},g_{3} \\right)} \\sigma{\\left(z - {\\mu}_{1},g_{2},g_{3} \\right)} \\sigma{\\left(z - {\\mu}_{2},g_{2},g_{3} \\right)} \\sigma{\\left(z + {\\mu}_{0} + {\\mu}_{1} + {\\mu}_{2},g_{2},g_{3} \\right)}}{\\sigma^{4}{\\left(z,g_{2},g_{3} \\right)} \\sigma{\\left(- {\\mu}_{0} - {\\mu}_{1} - {\\mu}_{2},g_{2},g_{3} \\right)} \\sigma{\\left({\\mu}_{0},g_{2},g_{3} \\right)} \\sigma{\\left({\\mu}_{1},g_{2},g_{3} \\right)} \\sigma{\\left({\\mu}_{2},g_{2},g_{3} \\right)}}$"
      ],
      "text/plain": [
       "Eq(Det(Matrix([\n",
       "[1, pw(mu[0], g2, g3), Derivative(pw(mu[0], g2, g3), mu[0]), Derivative(pw(mu[0], g2, g3), (mu[0], 2))],\n",
       "[1, pw(mu[1], g2, g3), Derivative(pw(mu[1], g2, g3), mu[1]), Derivative(pw(mu[1], g2, g3), (mu[1], 2))],\n",
       "[1, pw(mu[2], g2, g3), Derivative(pw(mu[2], g2, g3), mu[2]), Derivative(pw(mu[2], g2, g3), (mu[2], 2))],\n",
       "[1,     pw(z, g2, g3),         Derivative(pw(z, g2, g3), z),         Derivative(pw(z, g2, g3), (z, 2))]]))*Det(Matrix([\n",
       "[1, pw(mu[0], g2, g3), Derivative(pw(mu[0], g2, g3), mu[0])],\n",
       "[1, pw(mu[1], g2, g3), Derivative(pw(mu[1], g2, g3), mu[1])],\n",
       "[1, pw(mu[2], g2, g3), Derivative(pw(mu[2], g2, g3), mu[2])]]))**(-1)/6, sigma(z - mu[0], g2, g3)*sigma(z - mu[1], g2, g3)*sigma(z - mu[2], g2, g3)*sigma(z + mu[0] + mu[1] + mu[2], g2, g3)/(sigma(z, g2, g3)**4*sigma(-mu[0] - mu[1] - mu[2], g2, g3)*sigma(mu[0], g2, g3)*sigma(mu[1], g2, g3)*sigma(mu[2], g2, g3)))"
      ]
     },
     "execution_count": 12,
     "metadata": {},
     "output_type": "execute_result"
    }
   ],
   "source": [
    "frob_stick_1dz_ratio(Nval=3, evaluated=False)"
   ]
  },
  {
   "cell_type": "code",
   "execution_count": 13,
   "id": "14ff96cf",
   "metadata": {},
   "outputs": [],
   "source": [
    "def ff(Nval):\n",
    "    _num = frob_stick(Nval=Nval, evaluated=False, WPversion=False).subs(mu[Nval],z)\n",
    "    _den = frob_stick(Nval=Nval-1, evaluated=False, WPversion=False)\n",
    "    return Eq(_num.lhs/_den.lhs, _num.rhs/_den.rhs)"
   ]
  },
  {
   "cell_type": "code",
   "execution_count": 14,
   "id": "aa5b57e7",
   "metadata": {},
   "outputs": [
    {
     "data": {
      "text/latex": [
       "$\\displaystyle \\operatorname{Det}{\\left(\\left[\\begin{matrix}1 & \\operatorname{pw}{\\left({\\mu}_{0},g_{2},g_{3} \\right)} & \\frac{\\partial}{\\partial {\\mu}_{0}} \\operatorname{pw}{\\left({\\mu}_{0},g_{2},g_{3} \\right)} & \\frac{\\partial^{2}}{\\partial {\\mu}_{0}^{2}} \\operatorname{pw}{\\left({\\mu}_{0},g_{2},g_{3} \\right)}\\\\1 & \\operatorname{pw}{\\left({\\mu}_{1},g_{2},g_{3} \\right)} & \\frac{\\partial}{\\partial {\\mu}_{1}} \\operatorname{pw}{\\left({\\mu}_{1},g_{2},g_{3} \\right)} & \\frac{\\partial^{2}}{\\partial {\\mu}_{1}^{2}} \\operatorname{pw}{\\left({\\mu}_{1},g_{2},g_{3} \\right)}\\\\1 & \\operatorname{pw}{\\left({\\mu}_{2},g_{2},g_{3} \\right)} & \\frac{\\partial}{\\partial {\\mu}_{2}} \\operatorname{pw}{\\left({\\mu}_{2},g_{2},g_{3} \\right)} & \\frac{\\partial^{2}}{\\partial {\\mu}_{2}^{2}} \\operatorname{pw}{\\left({\\mu}_{2},g_{2},g_{3} \\right)}\\\\1 & \\operatorname{pw}{\\left(z,g_{2},g_{3} \\right)} & \\frac{\\partial}{\\partial z} \\operatorname{pw}{\\left(z,g_{2},g_{3} \\right)} & \\frac{\\partial^{2}}{\\partial z^{2}} \\operatorname{pw}{\\left(z,g_{2},g_{3} \\right)}\\end{matrix}\\right] \\right)} \\operatorname{Det}^{-1}{\\left(\\left[\\begin{matrix}1 & \\operatorname{pw}{\\left({\\mu}_{0},g_{2},g_{3} \\right)} & \\frac{\\partial}{\\partial {\\mu}_{0}} \\operatorname{pw}{\\left({\\mu}_{0},g_{2},g_{3} \\right)}\\\\1 & \\operatorname{pw}{\\left({\\mu}_{1},g_{2},g_{3} \\right)} & \\frac{\\partial}{\\partial {\\mu}_{1}} \\operatorname{pw}{\\left({\\mu}_{1},g_{2},g_{3} \\right)}\\\\1 & \\operatorname{pw}{\\left({\\mu}_{2},g_{2},g_{3} \\right)} & \\frac{\\partial}{\\partial {\\mu}_{2}} \\operatorname{pw}{\\left({\\mu}_{2},g_{2},g_{3} \\right)}\\end{matrix}\\right] \\right)} = \\frac{6 \\sigma{\\left(- z + {\\mu}_{0},g_{2},g_{3} \\right)} \\sigma{\\left(- z + {\\mu}_{1},g_{2},g_{3} \\right)} \\sigma{\\left(- z + {\\mu}_{2},g_{2},g_{3} \\right)} \\sigma{\\left(z + {\\mu}_{0} + {\\mu}_{1} + {\\mu}_{2},g_{2},g_{3} \\right)}}{\\sigma^{4}{\\left(z,g_{2},g_{3} \\right)} \\sigma{\\left({\\mu}_{0} + {\\mu}_{1} + {\\mu}_{2},g_{2},g_{3} \\right)} \\sigma{\\left({\\mu}_{0},g_{2},g_{3} \\right)} \\sigma{\\left({\\mu}_{1},g_{2},g_{3} \\right)} \\sigma{\\left({\\mu}_{2},g_{2},g_{3} \\right)}}$"
      ],
      "text/plain": [
       "Eq(Det(Matrix([\n",
       "[1, pw(mu[0], g2, g3), Derivative(pw(mu[0], g2, g3), mu[0]), Derivative(pw(mu[0], g2, g3), (mu[0], 2))],\n",
       "[1, pw(mu[1], g2, g3), Derivative(pw(mu[1], g2, g3), mu[1]), Derivative(pw(mu[1], g2, g3), (mu[1], 2))],\n",
       "[1, pw(mu[2], g2, g3), Derivative(pw(mu[2], g2, g3), mu[2]), Derivative(pw(mu[2], g2, g3), (mu[2], 2))],\n",
       "[1,     pw(z, g2, g3),         Derivative(pw(z, g2, g3), z),         Derivative(pw(z, g2, g3), (z, 2))]]))*Det(Matrix([\n",
       "[1, pw(mu[0], g2, g3), Derivative(pw(mu[0], g2, g3), mu[0])],\n",
       "[1, pw(mu[1], g2, g3), Derivative(pw(mu[1], g2, g3), mu[1])],\n",
       "[1, pw(mu[2], g2, g3), Derivative(pw(mu[2], g2, g3), mu[2])]]))**(-1), 6*sigma(-z + mu[0], g2, g3)*sigma(-z + mu[1], g2, g3)*sigma(-z + mu[2], g2, g3)*sigma(z + mu[0] + mu[1] + mu[2], g2, g3)/(sigma(z, g2, g3)**4*sigma(mu[0] + mu[1] + mu[2], g2, g3)*sigma(mu[0], g2, g3)*sigma(mu[1], g2, g3)*sigma(mu[2], g2, g3)))"
      ]
     },
     "execution_count": 14,
     "metadata": {},
     "output_type": "execute_result"
    }
   ],
   "source": [
    "ff(Nval=3)"
   ]
  },
  {
   "cell_type": "code",
   "execution_count": 15,
   "id": "6b19e525",
   "metadata": {},
   "outputs": [
    {
     "data": {
      "text/latex": [
       "$\\displaystyle \\operatorname{Det}{\\left(\\left[\\begin{matrix}1 & \\operatorname{pw}{\\left({\\mu}_{0},g_{2},g_{3} \\right)} & \\frac{\\partial}{\\partial {\\mu}_{0}} \\operatorname{pw}{\\left({\\mu}_{0},g_{2},g_{3} \\right)}\\\\1 & \\operatorname{pw}{\\left({\\mu}_{1},g_{2},g_{3} \\right)} & \\frac{\\partial}{\\partial {\\mu}_{1}} \\operatorname{pw}{\\left({\\mu}_{1},g_{2},g_{3} \\right)}\\\\1 & \\operatorname{pw}{\\left(z,g_{2},g_{3} \\right)} & \\frac{\\partial}{\\partial z} \\operatorname{pw}{\\left(z,g_{2},g_{3} \\right)}\\end{matrix}\\right] \\right)} \\operatorname{Det}^{-1}{\\left(\\left[\\begin{matrix}1 & \\operatorname{pw}{\\left({\\mu}_{0},g_{2},g_{3} \\right)}\\\\1 & \\operatorname{pw}{\\left({\\mu}_{1},g_{2},g_{3} \\right)}\\end{matrix}\\right] \\right)} = - \\frac{2 \\sigma{\\left(- z + {\\mu}_{0},g_{2},g_{3} \\right)} \\sigma{\\left(- z + {\\mu}_{1},g_{2},g_{3} \\right)} \\sigma{\\left(z + {\\mu}_{0} + {\\mu}_{1},g_{2},g_{3} \\right)}}{\\sigma^{3}{\\left(z,g_{2},g_{3} \\right)} \\sigma{\\left({\\mu}_{0} + {\\mu}_{1},g_{2},g_{3} \\right)} \\sigma{\\left({\\mu}_{0},g_{2},g_{3} \\right)} \\sigma{\\left({\\mu}_{1},g_{2},g_{3} \\right)}}$"
      ],
      "text/plain": [
       "Eq(Det(Matrix([\n",
       "[1, pw(mu[0], g2, g3), Derivative(pw(mu[0], g2, g3), mu[0])],\n",
       "[1, pw(mu[1], g2, g3), Derivative(pw(mu[1], g2, g3), mu[1])],\n",
       "[1,     pw(z, g2, g3),         Derivative(pw(z, g2, g3), z)]]))*Det(Matrix([\n",
       "[1, pw(mu[0], g2, g3)],\n",
       "[1, pw(mu[1], g2, g3)]]))**(-1), -2*sigma(-z + mu[0], g2, g3)*sigma(-z + mu[1], g2, g3)*sigma(z + mu[0] + mu[1], g2, g3)/(sigma(z, g2, g3)**3*sigma(mu[0] + mu[1], g2, g3)*sigma(mu[0], g2, g3)*sigma(mu[1], g2, g3)))"
      ]
     },
     "execution_count": 15,
     "metadata": {},
     "output_type": "execute_result"
    }
   ],
   "source": [
    "ff(Nval=2)"
   ]
  },
  {
   "cell_type": "markdown",
   "id": "70978455",
   "metadata": {},
   "source": [
    "## General procedure for taking limits in degenerate cases"
   ]
  },
  {
   "cell_type": "markdown",
   "id": "8cae2da2",
   "metadata": {},
   "source": [
    "If any two $\\mu_j$ are the same, the determinants in the Frobenius Stickelberger determinant formula (adapted for Kronecker theta functions) would be zero as the determinant is always zero whenever a row or column is repeated. The product of Kronecker theta functions (Weierstrass sigma product) is well defined though and the ratio of determinants can be evaluated as a limit. It is quite simple to take such limits due to some well known rules for manipulating determinants.\n",
    "\n",
    "Consider the following example:"
   ]
  },
  {
   "cell_type": "code",
   "execution_count": 16,
   "id": "b3d7fa99",
   "metadata": {
    "scrolled": false
   },
   "outputs": [
    {
     "data": {
      "text/latex": [
       "$\\displaystyle - \\frac{\\operatorname{Det}{\\left(\\left[\\begin{matrix}1 & \\operatorname{pw}{\\left({\\mu}_{0},g_{2},g_{3} \\right)} & \\frac{\\partial}{\\partial {\\mu}_{0}} \\operatorname{pw}{\\left({\\mu}_{0},g_{2},g_{3} \\right)} & \\frac{\\partial^{2}}{\\partial {\\mu}_{0}^{2}} \\operatorname{pw}{\\left({\\mu}_{0},g_{2},g_{3} \\right)} & \\frac{\\partial^{3}}{\\partial {\\mu}_{0}^{3}} \\operatorname{pw}{\\left({\\mu}_{0},g_{2},g_{3} \\right)}\\\\1 & \\operatorname{pw}{\\left({\\mu}_{1},g_{2},g_{3} \\right)} & \\frac{\\partial}{\\partial {\\mu}_{1}} \\operatorname{pw}{\\left({\\mu}_{1},g_{2},g_{3} \\right)} & \\frac{\\partial^{2}}{\\partial {\\mu}_{1}^{2}} \\operatorname{pw}{\\left({\\mu}_{1},g_{2},g_{3} \\right)} & \\frac{\\partial^{3}}{\\partial {\\mu}_{1}^{3}} \\operatorname{pw}{\\left({\\mu}_{1},g_{2},g_{3} \\right)}\\\\1 & \\operatorname{pw}{\\left({\\mu}_{2},g_{2},g_{3} \\right)} & \\frac{\\partial}{\\partial {\\mu}_{2}} \\operatorname{pw}{\\left({\\mu}_{2},g_{2},g_{3} \\right)} & \\frac{\\partial^{2}}{\\partial {\\mu}_{2}^{2}} \\operatorname{pw}{\\left({\\mu}_{2},g_{2},g_{3} \\right)} & \\frac{\\partial^{3}}{\\partial {\\mu}_{2}^{3}} \\operatorname{pw}{\\left({\\mu}_{2},g_{2},g_{3} \\right)}\\\\1 & \\operatorname{pw}{\\left({\\mu}_{3},g_{2},g_{3} \\right)} & \\frac{\\partial}{\\partial {\\mu}_{3}} \\operatorname{pw}{\\left({\\mu}_{3},g_{2},g_{3} \\right)} & \\frac{\\partial^{2}}{\\partial {\\mu}_{3}^{2}} \\operatorname{pw}{\\left({\\mu}_{3},g_{2},g_{3} \\right)} & \\frac{\\partial^{3}}{\\partial {\\mu}_{3}^{3}} \\operatorname{pw}{\\left({\\mu}_{3},g_{2},g_{3} \\right)}\\\\1 & \\operatorname{pw}{\\left(z,g_{2},g_{3} \\right)} & \\frac{\\partial}{\\partial z} \\operatorname{pw}{\\left(z,g_{2},g_{3} \\right)} & \\frac{\\partial^{2}}{\\partial z^{2}} \\operatorname{pw}{\\left(z,g_{2},g_{3} \\right)} & \\frac{\\partial^{3}}{\\partial z^{3}} \\operatorname{pw}{\\left(z,g_{2},g_{3} \\right)}\\end{matrix}\\right] \\right)} \\operatorname{Det}^{-1}{\\left(\\left[\\begin{matrix}1 & \\operatorname{pw}{\\left({\\mu}_{0},g_{2},g_{3} \\right)} & \\frac{\\partial}{\\partial {\\mu}_{0}} \\operatorname{pw}{\\left({\\mu}_{0},g_{2},g_{3} \\right)} & \\frac{\\partial^{2}}{\\partial {\\mu}_{0}^{2}} \\operatorname{pw}{\\left({\\mu}_{0},g_{2},g_{3} \\right)}\\\\1 & \\operatorname{pw}{\\left({\\mu}_{1},g_{2},g_{3} \\right)} & \\frac{\\partial}{\\partial {\\mu}_{1}} \\operatorname{pw}{\\left({\\mu}_{1},g_{2},g_{3} \\right)} & \\frac{\\partial^{2}}{\\partial {\\mu}_{1}^{2}} \\operatorname{pw}{\\left({\\mu}_{1},g_{2},g_{3} \\right)}\\\\1 & \\operatorname{pw}{\\left({\\mu}_{2},g_{2},g_{3} \\right)} & \\frac{\\partial}{\\partial {\\mu}_{2}} \\operatorname{pw}{\\left({\\mu}_{2},g_{2},g_{3} \\right)} & \\frac{\\partial^{2}}{\\partial {\\mu}_{2}^{2}} \\operatorname{pw}{\\left({\\mu}_{2},g_{2},g_{3} \\right)}\\\\1 & \\operatorname{pw}{\\left({\\mu}_{3},g_{2},g_{3} \\right)} & \\frac{\\partial}{\\partial {\\mu}_{3}} \\operatorname{pw}{\\left({\\mu}_{3},g_{2},g_{3} \\right)} & \\frac{\\partial^{2}}{\\partial {\\mu}_{3}^{2}} \\operatorname{pw}{\\left({\\mu}_{3},g_{2},g_{3} \\right)}\\end{matrix}\\right] \\right)}}{24} = - \\frac{\\sigma{\\left(z - {\\mu}_{0},g_{2},g_{3} \\right)} \\sigma{\\left(z - {\\mu}_{1},g_{2},g_{3} \\right)} \\sigma{\\left(z - {\\mu}_{2},g_{2},g_{3} \\right)} \\sigma{\\left(z - {\\mu}_{3},g_{2},g_{3} \\right)} \\sigma{\\left(z + {\\mu}_{0} + {\\mu}_{1} + {\\mu}_{2} + {\\mu}_{3},g_{2},g_{3} \\right)}}{\\sigma^{5}{\\left(z,g_{2},g_{3} \\right)} \\sigma{\\left(- {\\mu}_{0} - {\\mu}_{1} - {\\mu}_{2} - {\\mu}_{3},g_{2},g_{3} \\right)} \\sigma{\\left({\\mu}_{0},g_{2},g_{3} \\right)} \\sigma{\\left({\\mu}_{1},g_{2},g_{3} \\right)} \\sigma{\\left({\\mu}_{2},g_{2},g_{3} \\right)} \\sigma{\\left({\\mu}_{3},g_{2},g_{3} \\right)}}$"
      ],
      "text/plain": [
       "Eq(-Det(Matrix([\n",
       "[1, pw(mu[0], g2, g3), Derivative(pw(mu[0], g2, g3), mu[0]), Derivative(pw(mu[0], g2, g3), (mu[0], 2)), Derivative(pw(mu[0], g2, g3), (mu[0], 3))],\n",
       "[1, pw(mu[1], g2, g3), Derivative(pw(mu[1], g2, g3), mu[1]), Derivative(pw(mu[1], g2, g3), (mu[1], 2)), Derivative(pw(mu[1], g2, g3), (mu[1], 3))],\n",
       "[1, pw(mu[2], g2, g3), Derivative(pw(mu[2], g2, g3), mu[2]), Derivative(pw(mu[2], g2, g3), (mu[2], 2)), Derivative(pw(mu[2], g2, g3), (mu[2], 3))],\n",
       "[1, pw(mu[3], g2, g3), Derivative(pw(mu[3], g2, g3), mu[3]), Derivative(pw(mu[3], g2, g3), (mu[3], 2)), Derivative(pw(mu[3], g2, g3), (mu[3], 3))],\n",
       "[1,     pw(z, g2, g3),         Derivative(pw(z, g2, g3), z),         Derivative(pw(z, g2, g3), (z, 2)),         Derivative(pw(z, g2, g3), (z, 3))]]))*Det(Matrix([\n",
       "[1, pw(mu[0], g2, g3), Derivative(pw(mu[0], g2, g3), mu[0]), Derivative(pw(mu[0], g2, g3), (mu[0], 2))],\n",
       "[1, pw(mu[1], g2, g3), Derivative(pw(mu[1], g2, g3), mu[1]), Derivative(pw(mu[1], g2, g3), (mu[1], 2))],\n",
       "[1, pw(mu[2], g2, g3), Derivative(pw(mu[2], g2, g3), mu[2]), Derivative(pw(mu[2], g2, g3), (mu[2], 2))],\n",
       "[1, pw(mu[3], g2, g3), Derivative(pw(mu[3], g2, g3), mu[3]), Derivative(pw(mu[3], g2, g3), (mu[3], 2))]]))**(-1)/24, -sigma(z - mu[0], g2, g3)*sigma(z - mu[1], g2, g3)*sigma(z - mu[2], g2, g3)*sigma(z - mu[3], g2, g3)*sigma(z + mu[0] + mu[1] + mu[2] + mu[3], g2, g3)/(sigma(z, g2, g3)**5*sigma(-mu[0] - mu[1] - mu[2] - mu[3], g2, g3)*sigma(mu[0], g2, g3)*sigma(mu[1], g2, g3)*sigma(mu[2], g2, g3)*sigma(mu[3], g2, g3)))"
      ]
     },
     "execution_count": 16,
     "metadata": {},
     "output_type": "execute_result"
    }
   ],
   "source": [
    "_Nval = 4\n",
    "\n",
    "example_det_formula = frob_stick_1dz_ratio(_Nval, evaluated=False)\n",
    "example_det_formula"
   ]
  },
  {
   "cell_type": "markdown",
   "id": "c6ba8e31",
   "metadata": {},
   "source": [
    "Suppose we are interested in the degenerate case in which $\\mu_1 = \\mu_0$. We can parameterise this as the limit:"
   ]
  },
  {
   "cell_type": "code",
   "execution_count": 17,
   "id": "6c727105",
   "metadata": {
    "scrolled": true
   },
   "outputs": [
    {
     "data": {
      "text/latex": [
       "$\\displaystyle {\\mu}_{1} = \\lim_{{\\epsilon}_{1} \\to 0^+}\\left({\\epsilon}_{1} + {\\mu}_{0}\\right)$"
      ],
      "text/plain": [
       "Eq(mu[1], Limit(epsilon[1] + mu[0], epsilon[1], 0, dir='+'))"
      ]
     },
     "execution_count": 17,
     "metadata": {},
     "output_type": "execute_result"
    }
   ],
   "source": [
    "Eq(mu[1], Limit(mu[0]+epsilon[1], epsilon[1], 0))"
   ]
  },
  {
   "cell_type": "markdown",
   "id": "8fc5d16a",
   "metadata": {},
   "source": [
    "and utilise the following Taylor series in $\\epsilon_j$ where $ \\lim_{N \\to \\infty}$:"
   ]
  },
  {
   "cell_type": "code",
   "execution_count": 18,
   "id": "26205c22",
   "metadata": {
    "scrolled": false
   },
   "outputs": [
    {
     "data": {
      "text/latex": [
       "$\\displaystyle \\operatorname{pw}{\\left({\\epsilon}_{j} + {\\mu}_{0},g_{2},g_{3} \\right)} = \\sum_{n=0}^{N} \\frac{\\frac{\\partial^{n}}{\\partial {\\mu}_{0}^{n}} \\operatorname{pw}{\\left({\\mu}_{0},g_{2},g_{3} \\right)} {\\epsilon}_{j}^{n}}{n!}$"
      ],
      "text/plain": [
       "Eq(pw(epsilon[j] + mu[0], g2, g3), Sum(Derivative(pw(mu[0], g2, g3), (mu[0], n))*epsilon[j]**n/factorial(n), (n, 0, N)))"
      ]
     },
     "execution_count": 18,
     "metadata": {},
     "output_type": "execute_result"
    },
    {
     "data": {
      "text/latex": [
       "$\\displaystyle \\frac{\\partial^{m}}{\\partial {\\mu}_{j}^{m}} \\operatorname{pw}{\\left({\\mu}_{j},g_{2},g_{3} \\right)} = \\sum_{n=0}^{N} \\frac{\\frac{\\partial^{m + n}}{\\partial {\\mu}_{0}^{m + n}} \\operatorname{pw}{\\left({\\mu}_{0},g_{2},g_{3} \\right)} {\\epsilon}_{j}^{n}}{n!}$"
      ],
      "text/plain": [
       "Eq(Derivative(pw(mu[j], g2, g3), (mu[j], m)), Sum(Derivative(pw(mu[0], g2, g3), (mu[0], m + n))*epsilon[j]**n/factorial(n), (n, 0, N)))"
      ]
     },
     "execution_count": 18,
     "metadata": {},
     "output_type": "execute_result"
    },
    {
     "data": {
      "text/latex": [
       "$\\displaystyle \\operatorname{pw}{\\left({\\epsilon}_{j} + {\\mu}_{0},g_{2},g_{3} \\right)} = \\frac{\\frac{\\partial^{2}}{\\partial {\\mu}_{0}^{2}} \\operatorname{pw}{\\left({\\mu}_{0},g_{2},g_{3} \\right)} {\\epsilon}_{j}^{2}}{2} + \\frac{\\partial}{\\partial {\\mu}_{0}} \\operatorname{pw}{\\left({\\mu}_{0},g_{2},g_{3} \\right)} {\\epsilon}_{j} + \\operatorname{pw}{\\left({\\mu}_{0},g_{2},g_{3} \\right)} + O\\left({\\epsilon}_{j}^{3}\\right)$"
      ],
      "text/plain": [
       "Eq(pw(epsilon[j] + mu[0], g2, g3), Derivative(pw(mu[0], g2, g3), (mu[0], 2))*epsilon[j]**2/2 + Derivative(pw(mu[0], g2, g3), mu[0])*epsilon[j] + pw(mu[0], g2, g3) + O(epsilon[j]**3))"
      ]
     },
     "execution_count": 18,
     "metadata": {},
     "output_type": "execute_result"
    }
   ],
   "source": [
    "pw_taylor_epsilon_j = taylor_series_epsilon.subs(\n",
    "    [(f(z), pw(z,g2,g3)), (f(z+epsilon), pw(z+epsilon,g2,g3))]\n",
    ").subs([(z, mu[0]), (epsilon, epsilon[j])])\n",
    "\n",
    "\n",
    "pw_taylor_epsilon_j_diff_m = Eq(diff(pw(mu[j],g2,g3),(mu[j],m)),\n",
    "   Sum(Derivative(pw(mu[0],g2,g3),(mu[0],n+m))/factorial(n)*epsilon[j]**(n), (n,0,N)))\n",
    "\n",
    "\n",
    "pw_taylor_epsilon_j\n",
    "pw_taylor_epsilon_j_diff_m\n",
    "Eq(pw_taylor_epsilon_j.lhs,  pw_taylor_epsilon_j.rhs.subs(N,2).doit() + O(epsilon[j]**3, epsilon[j])) "
   ]
  },
  {
   "cell_type": "code",
   "execution_count": 19,
   "id": "3ce79491",
   "metadata": {},
   "outputs": [],
   "source": [
    "# Taylor expansions\n",
    "taylor_subs = [pw_taylor_epsilon_j_diff_m.subs([(N,1),(j,1), (m,_Nval - 1 -_m)]).doit().args for _m in range(_Nval)]\n",
    "\n",
    "# Denominator determinant\n",
    "Md = p_matrix_f_s(_Nval - 1)\n",
    "Md_b = Matrix([ Md.row(i) if i !=1 else Md.row(i).subs(taylor_subs) for i in range(len(Md.col(0))) ])\n",
    "Md_c = Matrix([ Md_b.row(i) if i !=1 else Md_b.row(1) - Md_b.row(0) for i in range(len(Md_b.col(0))) ])\n",
    "Md_epsilon_factored = Eq(Det(Md), epsilon[1]*Det(Md_c.subs(epsilon[1],1)))\n",
    "\n",
    "# Numerator determinant\n",
    "Mn = p_matrix_f_s_1dz(_Nval)\n",
    "Mn_b = Matrix([ Mn.row(i) if i !=1 else Mn.row(i).subs(taylor_subs) for i in range(len(Mn.col(0))) ])\n",
    "Mn_c = Matrix([ Mn_b.row(i) if i !=1 else Mn_b.row(1) - Mn_b.row(0) for i in range(len(Mn_b.col(0))) ])\n",
    "Mn_epsilon_factored = Eq(Det(Mn), epsilon[1]*Det(Mn_c.subs(epsilon[1],1)))"
   ]
  },
  {
   "cell_type": "markdown",
   "id": "3ef13c49",
   "metadata": {},
   "source": [
    "For the determinant in the denominator, we set $\\mu_1=\\mu_0 + \\epsilon_1$ and take the Taylor series expansion to $O(\\epsilon_1)$:"
   ]
  },
  {
   "cell_type": "code",
   "execution_count": 20,
   "id": "70599725",
   "metadata": {},
   "outputs": [
    {
     "data": {
      "text/latex": [
       "$\\displaystyle \\operatorname{Det}{\\left(\\left[\\begin{matrix}1 & \\operatorname{pw}{\\left({\\mu}_{0},g_{2},g_{3} \\right)} & \\frac{\\partial}{\\partial {\\mu}_{0}} \\operatorname{pw}{\\left({\\mu}_{0},g_{2},g_{3} \\right)} & \\frac{\\partial^{2}}{\\partial {\\mu}_{0}^{2}} \\operatorname{pw}{\\left({\\mu}_{0},g_{2},g_{3} \\right)}\\\\1 & \\operatorname{pw}{\\left({\\mu}_{1},g_{2},g_{3} \\right)} & \\frac{\\partial}{\\partial {\\mu}_{1}} \\operatorname{pw}{\\left({\\mu}_{1},g_{2},g_{3} \\right)} & \\frac{\\partial^{2}}{\\partial {\\mu}_{1}^{2}} \\operatorname{pw}{\\left({\\mu}_{1},g_{2},g_{3} \\right)}\\\\1 & \\operatorname{pw}{\\left({\\mu}_{2},g_{2},g_{3} \\right)} & \\frac{\\partial}{\\partial {\\mu}_{2}} \\operatorname{pw}{\\left({\\mu}_{2},g_{2},g_{3} \\right)} & \\frac{\\partial^{2}}{\\partial {\\mu}_{2}^{2}} \\operatorname{pw}{\\left({\\mu}_{2},g_{2},g_{3} \\right)}\\\\1 & \\operatorname{pw}{\\left({\\mu}_{3},g_{2},g_{3} \\right)} & \\frac{\\partial}{\\partial {\\mu}_{3}} \\operatorname{pw}{\\left({\\mu}_{3},g_{2},g_{3} \\right)} & \\frac{\\partial^{2}}{\\partial {\\mu}_{3}^{2}} \\operatorname{pw}{\\left({\\mu}_{3},g_{2},g_{3} \\right)}\\end{matrix}\\right] \\right)} = \\operatorname{Det}{\\left(\\left[\\begin{matrix}1 & \\operatorname{pw}{\\left({\\mu}_{0},g_{2},g_{3} \\right)} & \\frac{\\partial}{\\partial {\\mu}_{0}} \\operatorname{pw}{\\left({\\mu}_{0},g_{2},g_{3} \\right)} & \\frac{\\partial^{2}}{\\partial {\\mu}_{0}^{2}} \\operatorname{pw}{\\left({\\mu}_{0},g_{2},g_{3} \\right)}\\\\1 & \\operatorname{pw}{\\left({\\mu}_{0},g_{2},g_{3} \\right)} + \\frac{\\partial}{\\partial {\\mu}_{0}} \\operatorname{pw}{\\left({\\mu}_{0},g_{2},g_{3} \\right)} {\\epsilon}_{1} & \\frac{\\partial}{\\partial {\\mu}_{0}} \\operatorname{pw}{\\left({\\mu}_{0},g_{2},g_{3} \\right)} + \\frac{\\partial^{2}}{\\partial {\\mu}_{0}^{2}} \\operatorname{pw}{\\left({\\mu}_{0},g_{2},g_{3} \\right)} {\\epsilon}_{1} & \\frac{\\partial^{2}}{\\partial {\\mu}_{0}^{2}} \\operatorname{pw}{\\left({\\mu}_{0},g_{2},g_{3} \\right)} + \\frac{\\partial^{3}}{\\partial {\\mu}_{0}^{3}} \\operatorname{pw}{\\left({\\mu}_{0},g_{2},g_{3} \\right)} {\\epsilon}_{1}\\\\1 & \\operatorname{pw}{\\left({\\mu}_{2},g_{2},g_{3} \\right)} & \\frac{\\partial}{\\partial {\\mu}_{2}} \\operatorname{pw}{\\left({\\mu}_{2},g_{2},g_{3} \\right)} & \\frac{\\partial^{2}}{\\partial {\\mu}_{2}^{2}} \\operatorname{pw}{\\left({\\mu}_{2},g_{2},g_{3} \\right)}\\\\1 & \\operatorname{pw}{\\left({\\mu}_{3},g_{2},g_{3} \\right)} & \\frac{\\partial}{\\partial {\\mu}_{3}} \\operatorname{pw}{\\left({\\mu}_{3},g_{2},g_{3} \\right)} & \\frac{\\partial^{2}}{\\partial {\\mu}_{3}^{2}} \\operatorname{pw}{\\left({\\mu}_{3},g_{2},g_{3} \\right)}\\end{matrix}\\right] \\right)}$"
      ],
      "text/plain": [
       "Eq(Det(Matrix([\n",
       "[1, pw(mu[0], g2, g3), Derivative(pw(mu[0], g2, g3), mu[0]), Derivative(pw(mu[0], g2, g3), (mu[0], 2))],\n",
       "[1, pw(mu[1], g2, g3), Derivative(pw(mu[1], g2, g3), mu[1]), Derivative(pw(mu[1], g2, g3), (mu[1], 2))],\n",
       "[1, pw(mu[2], g2, g3), Derivative(pw(mu[2], g2, g3), mu[2]), Derivative(pw(mu[2], g2, g3), (mu[2], 2))],\n",
       "[1, pw(mu[3], g2, g3), Derivative(pw(mu[3], g2, g3), mu[3]), Derivative(pw(mu[3], g2, g3), (mu[3], 2))]])), Det(Matrix([\n",
       "[1,                                                   pw(mu[0], g2, g3),                                                        Derivative(pw(mu[0], g2, g3), mu[0]),                                                        Derivative(pw(mu[0], g2, g3), (mu[0], 2))],\n",
       "[1, pw(mu[0], g2, g3) + Derivative(pw(mu[0], g2, g3), mu[0])*epsilon[1], Derivative(pw(mu[0], g2, g3), mu[0]) + Derivative(pw(mu[0], g2, g3), (mu[0], 2))*epsilon[1], Derivative(pw(mu[0], g2, g3), (mu[0], 2)) + Derivative(pw(mu[0], g2, g3), (mu[0], 3))*epsilon[1]],\n",
       "[1,                                                   pw(mu[2], g2, g3),                                                        Derivative(pw(mu[2], g2, g3), mu[2]),                                                        Derivative(pw(mu[2], g2, g3), (mu[2], 2))],\n",
       "[1,                                                   pw(mu[3], g2, g3),                                                        Derivative(pw(mu[3], g2, g3), mu[3]),                                                        Derivative(pw(mu[3], g2, g3), (mu[3], 2))]])))"
      ]
     },
     "execution_count": 20,
     "metadata": {},
     "output_type": "execute_result"
    }
   ],
   "source": [
    "Eq(Det(Md), Det(Md_b))"
   ]
  },
  {
   "cell_type": "markdown",
   "id": "36c30f03",
   "metadata": {},
   "source": [
    "The determinant is unchanged when we subtract a constant multiple of one row from another so we can subtract the first from the second:"
   ]
  },
  {
   "cell_type": "code",
   "execution_count": 21,
   "id": "be58f388",
   "metadata": {},
   "outputs": [
    {
     "data": {
      "text/latex": [
       "$\\displaystyle \\operatorname{Det}{\\left(\\left[\\begin{matrix}1 & \\operatorname{pw}{\\left({\\mu}_{0},g_{2},g_{3} \\right)} & \\frac{\\partial}{\\partial {\\mu}_{0}} \\operatorname{pw}{\\left({\\mu}_{0},g_{2},g_{3} \\right)} & \\frac{\\partial^{2}}{\\partial {\\mu}_{0}^{2}} \\operatorname{pw}{\\left({\\mu}_{0},g_{2},g_{3} \\right)}\\\\1 & \\operatorname{pw}{\\left({\\mu}_{1},g_{2},g_{3} \\right)} & \\frac{\\partial}{\\partial {\\mu}_{1}} \\operatorname{pw}{\\left({\\mu}_{1},g_{2},g_{3} \\right)} & \\frac{\\partial^{2}}{\\partial {\\mu}_{1}^{2}} \\operatorname{pw}{\\left({\\mu}_{1},g_{2},g_{3} \\right)}\\\\1 & \\operatorname{pw}{\\left({\\mu}_{2},g_{2},g_{3} \\right)} & \\frac{\\partial}{\\partial {\\mu}_{2}} \\operatorname{pw}{\\left({\\mu}_{2},g_{2},g_{3} \\right)} & \\frac{\\partial^{2}}{\\partial {\\mu}_{2}^{2}} \\operatorname{pw}{\\left({\\mu}_{2},g_{2},g_{3} \\right)}\\\\1 & \\operatorname{pw}{\\left({\\mu}_{3},g_{2},g_{3} \\right)} & \\frac{\\partial}{\\partial {\\mu}_{3}} \\operatorname{pw}{\\left({\\mu}_{3},g_{2},g_{3} \\right)} & \\frac{\\partial^{2}}{\\partial {\\mu}_{3}^{2}} \\operatorname{pw}{\\left({\\mu}_{3},g_{2},g_{3} \\right)}\\end{matrix}\\right] \\right)} = \\operatorname{Det}{\\left(\\left[\\begin{matrix}1 & \\operatorname{pw}{\\left({\\mu}_{0},g_{2},g_{3} \\right)} & \\frac{\\partial}{\\partial {\\mu}_{0}} \\operatorname{pw}{\\left({\\mu}_{0},g_{2},g_{3} \\right)} & \\frac{\\partial^{2}}{\\partial {\\mu}_{0}^{2}} \\operatorname{pw}{\\left({\\mu}_{0},g_{2},g_{3} \\right)}\\\\0 & \\frac{\\partial}{\\partial {\\mu}_{0}} \\operatorname{pw}{\\left({\\mu}_{0},g_{2},g_{3} \\right)} {\\epsilon}_{1} & \\frac{\\partial^{2}}{\\partial {\\mu}_{0}^{2}} \\operatorname{pw}{\\left({\\mu}_{0},g_{2},g_{3} \\right)} {\\epsilon}_{1} & \\frac{\\partial^{3}}{\\partial {\\mu}_{0}^{3}} \\operatorname{pw}{\\left({\\mu}_{0},g_{2},g_{3} \\right)} {\\epsilon}_{1}\\\\1 & \\operatorname{pw}{\\left({\\mu}_{2},g_{2},g_{3} \\right)} & \\frac{\\partial}{\\partial {\\mu}_{2}} \\operatorname{pw}{\\left({\\mu}_{2},g_{2},g_{3} \\right)} & \\frac{\\partial^{2}}{\\partial {\\mu}_{2}^{2}} \\operatorname{pw}{\\left({\\mu}_{2},g_{2},g_{3} \\right)}\\\\1 & \\operatorname{pw}{\\left({\\mu}_{3},g_{2},g_{3} \\right)} & \\frac{\\partial}{\\partial {\\mu}_{3}} \\operatorname{pw}{\\left({\\mu}_{3},g_{2},g_{3} \\right)} & \\frac{\\partial^{2}}{\\partial {\\mu}_{3}^{2}} \\operatorname{pw}{\\left({\\mu}_{3},g_{2},g_{3} \\right)}\\end{matrix}\\right] \\right)}$"
      ],
      "text/plain": [
       "Eq(Det(Matrix([\n",
       "[1, pw(mu[0], g2, g3), Derivative(pw(mu[0], g2, g3), mu[0]), Derivative(pw(mu[0], g2, g3), (mu[0], 2))],\n",
       "[1, pw(mu[1], g2, g3), Derivative(pw(mu[1], g2, g3), mu[1]), Derivative(pw(mu[1], g2, g3), (mu[1], 2))],\n",
       "[1, pw(mu[2], g2, g3), Derivative(pw(mu[2], g2, g3), mu[2]), Derivative(pw(mu[2], g2, g3), (mu[2], 2))],\n",
       "[1, pw(mu[3], g2, g3), Derivative(pw(mu[3], g2, g3), mu[3]), Derivative(pw(mu[3], g2, g3), (mu[3], 2))]])), Det(Matrix([\n",
       "[1,                               pw(mu[0], g2, g3),                 Derivative(pw(mu[0], g2, g3), mu[0]),            Derivative(pw(mu[0], g2, g3), (mu[0], 2))],\n",
       "[0, Derivative(pw(mu[0], g2, g3), mu[0])*epsilon[1], Derivative(pw(mu[0], g2, g3), (mu[0], 2))*epsilon[1], Derivative(pw(mu[0], g2, g3), (mu[0], 3))*epsilon[1]],\n",
       "[1,                               pw(mu[2], g2, g3),                 Derivative(pw(mu[2], g2, g3), mu[2]),            Derivative(pw(mu[2], g2, g3), (mu[2], 2))],\n",
       "[1,                               pw(mu[3], g2, g3),                 Derivative(pw(mu[3], g2, g3), mu[3]),            Derivative(pw(mu[3], g2, g3), (mu[3], 2))]])))"
      ]
     },
     "execution_count": 21,
     "metadata": {},
     "output_type": "execute_result"
    }
   ],
   "source": [
    "Eq(Det(Md), Det(Md_c))"
   ]
  },
  {
   "cell_type": "markdown",
   "id": "fb1aa985",
   "metadata": {},
   "source": [
    "A multiple of a row can be factored out from the determinant so $\\epsilon_1$ can be pulled out which ultimately will enable the limit to be taken:"
   ]
  },
  {
   "cell_type": "code",
   "execution_count": 22,
   "id": "818e32f5",
   "metadata": {},
   "outputs": [
    {
     "data": {
      "text/latex": [
       "$\\displaystyle \\operatorname{Det}{\\left(\\left[\\begin{matrix}1 & \\operatorname{pw}{\\left({\\mu}_{0},g_{2},g_{3} \\right)} & \\frac{\\partial}{\\partial {\\mu}_{0}} \\operatorname{pw}{\\left({\\mu}_{0},g_{2},g_{3} \\right)} & \\frac{\\partial^{2}}{\\partial {\\mu}_{0}^{2}} \\operatorname{pw}{\\left({\\mu}_{0},g_{2},g_{3} \\right)}\\\\1 & \\operatorname{pw}{\\left({\\mu}_{1},g_{2},g_{3} \\right)} & \\frac{\\partial}{\\partial {\\mu}_{1}} \\operatorname{pw}{\\left({\\mu}_{1},g_{2},g_{3} \\right)} & \\frac{\\partial^{2}}{\\partial {\\mu}_{1}^{2}} \\operatorname{pw}{\\left({\\mu}_{1},g_{2},g_{3} \\right)}\\\\1 & \\operatorname{pw}{\\left({\\mu}_{2},g_{2},g_{3} \\right)} & \\frac{\\partial}{\\partial {\\mu}_{2}} \\operatorname{pw}{\\left({\\mu}_{2},g_{2},g_{3} \\right)} & \\frac{\\partial^{2}}{\\partial {\\mu}_{2}^{2}} \\operatorname{pw}{\\left({\\mu}_{2},g_{2},g_{3} \\right)}\\\\1 & \\operatorname{pw}{\\left({\\mu}_{3},g_{2},g_{3} \\right)} & \\frac{\\partial}{\\partial {\\mu}_{3}} \\operatorname{pw}{\\left({\\mu}_{3},g_{2},g_{3} \\right)} & \\frac{\\partial^{2}}{\\partial {\\mu}_{3}^{2}} \\operatorname{pw}{\\left({\\mu}_{3},g_{2},g_{3} \\right)}\\end{matrix}\\right] \\right)} = {\\epsilon}_{1} \\operatorname{Det}{\\left(\\left[\\begin{matrix}1 & \\operatorname{pw}{\\left({\\mu}_{0},g_{2},g_{3} \\right)} & \\frac{\\partial}{\\partial {\\mu}_{0}} \\operatorname{pw}{\\left({\\mu}_{0},g_{2},g_{3} \\right)} & \\frac{\\partial^{2}}{\\partial {\\mu}_{0}^{2}} \\operatorname{pw}{\\left({\\mu}_{0},g_{2},g_{3} \\right)}\\\\0 & \\frac{\\partial}{\\partial {\\mu}_{0}} \\operatorname{pw}{\\left({\\mu}_{0},g_{2},g_{3} \\right)} & \\frac{\\partial^{2}}{\\partial {\\mu}_{0}^{2}} \\operatorname{pw}{\\left({\\mu}_{0},g_{2},g_{3} \\right)} & \\frac{\\partial^{3}}{\\partial {\\mu}_{0}^{3}} \\operatorname{pw}{\\left({\\mu}_{0},g_{2},g_{3} \\right)}\\\\1 & \\operatorname{pw}{\\left({\\mu}_{2},g_{2},g_{3} \\right)} & \\frac{\\partial}{\\partial {\\mu}_{2}} \\operatorname{pw}{\\left({\\mu}_{2},g_{2},g_{3} \\right)} & \\frac{\\partial^{2}}{\\partial {\\mu}_{2}^{2}} \\operatorname{pw}{\\left({\\mu}_{2},g_{2},g_{3} \\right)}\\\\1 & \\operatorname{pw}{\\left({\\mu}_{3},g_{2},g_{3} \\right)} & \\frac{\\partial}{\\partial {\\mu}_{3}} \\operatorname{pw}{\\left({\\mu}_{3},g_{2},g_{3} \\right)} & \\frac{\\partial^{2}}{\\partial {\\mu}_{3}^{2}} \\operatorname{pw}{\\left({\\mu}_{3},g_{2},g_{3} \\right)}\\end{matrix}\\right] \\right)}$"
      ],
      "text/plain": [
       "Eq(Det(Matrix([\n",
       "[1, pw(mu[0], g2, g3), Derivative(pw(mu[0], g2, g3), mu[0]), Derivative(pw(mu[0], g2, g3), (mu[0], 2))],\n",
       "[1, pw(mu[1], g2, g3), Derivative(pw(mu[1], g2, g3), mu[1]), Derivative(pw(mu[1], g2, g3), (mu[1], 2))],\n",
       "[1, pw(mu[2], g2, g3), Derivative(pw(mu[2], g2, g3), mu[2]), Derivative(pw(mu[2], g2, g3), (mu[2], 2))],\n",
       "[1, pw(mu[3], g2, g3), Derivative(pw(mu[3], g2, g3), mu[3]), Derivative(pw(mu[3], g2, g3), (mu[3], 2))]])), epsilon[1]*Det(Matrix([\n",
       "[1,                    pw(mu[0], g2, g3),      Derivative(pw(mu[0], g2, g3), mu[0]), Derivative(pw(mu[0], g2, g3), (mu[0], 2))],\n",
       "[0, Derivative(pw(mu[0], g2, g3), mu[0]), Derivative(pw(mu[0], g2, g3), (mu[0], 2)), Derivative(pw(mu[0], g2, g3), (mu[0], 3))],\n",
       "[1,                    pw(mu[2], g2, g3),      Derivative(pw(mu[2], g2, g3), mu[2]), Derivative(pw(mu[2], g2, g3), (mu[2], 2))],\n",
       "[1,                    pw(mu[3], g2, g3),      Derivative(pw(mu[3], g2, g3), mu[3]), Derivative(pw(mu[3], g2, g3), (mu[3], 2))]])))"
      ]
     },
     "execution_count": 22,
     "metadata": {},
     "output_type": "execute_result"
    }
   ],
   "source": [
    "Md_epsilon_factored"
   ]
  },
  {
   "cell_type": "markdown",
   "id": "cc18193e",
   "metadata": {},
   "source": [
    "For the determinant in the numerator we proceed in a similar manner for the row containing $\\mu_1$:"
   ]
  },
  {
   "cell_type": "code",
   "execution_count": 23,
   "id": "87371b8a",
   "metadata": {},
   "outputs": [
    {
     "data": {
      "text/latex": [
       "$\\displaystyle \\operatorname{Det}{\\left(\\left[\\begin{matrix}1 & \\operatorname{pw}{\\left({\\mu}_{0},g_{2},g_{3} \\right)} & \\frac{\\partial}{\\partial {\\mu}_{0}} \\operatorname{pw}{\\left({\\mu}_{0},g_{2},g_{3} \\right)} & \\frac{\\partial^{2}}{\\partial {\\mu}_{0}^{2}} \\operatorname{pw}{\\left({\\mu}_{0},g_{2},g_{3} \\right)} & \\frac{\\partial^{3}}{\\partial {\\mu}_{0}^{3}} \\operatorname{pw}{\\left({\\mu}_{0},g_{2},g_{3} \\right)}\\\\1 & \\operatorname{pw}{\\left({\\mu}_{1},g_{2},g_{3} \\right)} & \\frac{\\partial}{\\partial {\\mu}_{1}} \\operatorname{pw}{\\left({\\mu}_{1},g_{2},g_{3} \\right)} & \\frac{\\partial^{2}}{\\partial {\\mu}_{1}^{2}} \\operatorname{pw}{\\left({\\mu}_{1},g_{2},g_{3} \\right)} & \\frac{\\partial^{3}}{\\partial {\\mu}_{1}^{3}} \\operatorname{pw}{\\left({\\mu}_{1},g_{2},g_{3} \\right)}\\\\1 & \\operatorname{pw}{\\left({\\mu}_{2},g_{2},g_{3} \\right)} & \\frac{\\partial}{\\partial {\\mu}_{2}} \\operatorname{pw}{\\left({\\mu}_{2},g_{2},g_{3} \\right)} & \\frac{\\partial^{2}}{\\partial {\\mu}_{2}^{2}} \\operatorname{pw}{\\left({\\mu}_{2},g_{2},g_{3} \\right)} & \\frac{\\partial^{3}}{\\partial {\\mu}_{2}^{3}} \\operatorname{pw}{\\left({\\mu}_{2},g_{2},g_{3} \\right)}\\\\1 & \\operatorname{pw}{\\left({\\mu}_{3},g_{2},g_{3} \\right)} & \\frac{\\partial}{\\partial {\\mu}_{3}} \\operatorname{pw}{\\left({\\mu}_{3},g_{2},g_{3} \\right)} & \\frac{\\partial^{2}}{\\partial {\\mu}_{3}^{2}} \\operatorname{pw}{\\left({\\mu}_{3},g_{2},g_{3} \\right)} & \\frac{\\partial^{3}}{\\partial {\\mu}_{3}^{3}} \\operatorname{pw}{\\left({\\mu}_{3},g_{2},g_{3} \\right)}\\\\1 & \\operatorname{pw}{\\left(z,g_{2},g_{3} \\right)} & \\frac{\\partial}{\\partial z} \\operatorname{pw}{\\left(z,g_{2},g_{3} \\right)} & \\frac{\\partial^{2}}{\\partial z^{2}} \\operatorname{pw}{\\left(z,g_{2},g_{3} \\right)} & \\frac{\\partial^{3}}{\\partial z^{3}} \\operatorname{pw}{\\left(z,g_{2},g_{3} \\right)}\\end{matrix}\\right] \\right)} = \\operatorname{Det}{\\left(\\left[\\begin{matrix}1 & \\operatorname{pw}{\\left({\\mu}_{0},g_{2},g_{3} \\right)} & \\frac{\\partial}{\\partial {\\mu}_{0}} \\operatorname{pw}{\\left({\\mu}_{0},g_{2},g_{3} \\right)} & \\frac{\\partial^{2}}{\\partial {\\mu}_{0}^{2}} \\operatorname{pw}{\\left({\\mu}_{0},g_{2},g_{3} \\right)} & \\frac{\\partial^{3}}{\\partial {\\mu}_{0}^{3}} \\operatorname{pw}{\\left({\\mu}_{0},g_{2},g_{3} \\right)}\\\\1 & \\operatorname{pw}{\\left({\\mu}_{0},g_{2},g_{3} \\right)} + \\frac{\\partial}{\\partial {\\mu}_{0}} \\operatorname{pw}{\\left({\\mu}_{0},g_{2},g_{3} \\right)} {\\epsilon}_{1} & \\frac{\\partial}{\\partial {\\mu}_{0}} \\operatorname{pw}{\\left({\\mu}_{0},g_{2},g_{3} \\right)} + \\frac{\\partial^{2}}{\\partial {\\mu}_{0}^{2}} \\operatorname{pw}{\\left({\\mu}_{0},g_{2},g_{3} \\right)} {\\epsilon}_{1} & \\frac{\\partial^{2}}{\\partial {\\mu}_{0}^{2}} \\operatorname{pw}{\\left({\\mu}_{0},g_{2},g_{3} \\right)} + \\frac{\\partial^{3}}{\\partial {\\mu}_{0}^{3}} \\operatorname{pw}{\\left({\\mu}_{0},g_{2},g_{3} \\right)} {\\epsilon}_{1} & \\frac{\\partial^{3}}{\\partial {\\mu}_{0}^{3}} \\operatorname{pw}{\\left({\\mu}_{0},g_{2},g_{3} \\right)} + \\frac{\\partial^{4}}{\\partial {\\mu}_{0}^{4}} \\operatorname{pw}{\\left({\\mu}_{0},g_{2},g_{3} \\right)} {\\epsilon}_{1}\\\\1 & \\operatorname{pw}{\\left({\\mu}_{2},g_{2},g_{3} \\right)} & \\frac{\\partial}{\\partial {\\mu}_{2}} \\operatorname{pw}{\\left({\\mu}_{2},g_{2},g_{3} \\right)} & \\frac{\\partial^{2}}{\\partial {\\mu}_{2}^{2}} \\operatorname{pw}{\\left({\\mu}_{2},g_{2},g_{3} \\right)} & \\frac{\\partial^{3}}{\\partial {\\mu}_{2}^{3}} \\operatorname{pw}{\\left({\\mu}_{2},g_{2},g_{3} \\right)}\\\\1 & \\operatorname{pw}{\\left({\\mu}_{3},g_{2},g_{3} \\right)} & \\frac{\\partial}{\\partial {\\mu}_{3}} \\operatorname{pw}{\\left({\\mu}_{3},g_{2},g_{3} \\right)} & \\frac{\\partial^{2}}{\\partial {\\mu}_{3}^{2}} \\operatorname{pw}{\\left({\\mu}_{3},g_{2},g_{3} \\right)} & \\frac{\\partial^{3}}{\\partial {\\mu}_{3}^{3}} \\operatorname{pw}{\\left({\\mu}_{3},g_{2},g_{3} \\right)}\\\\1 & \\operatorname{pw}{\\left(z,g_{2},g_{3} \\right)} & \\frac{\\partial}{\\partial z} \\operatorname{pw}{\\left(z,g_{2},g_{3} \\right)} & \\frac{\\partial^{2}}{\\partial z^{2}} \\operatorname{pw}{\\left(z,g_{2},g_{3} \\right)} & \\frac{\\partial^{3}}{\\partial z^{3}} \\operatorname{pw}{\\left(z,g_{2},g_{3} \\right)}\\end{matrix}\\right] \\right)}$"
      ],
      "text/plain": [
       "Eq(Det(Matrix([\n",
       "[1, pw(mu[0], g2, g3), Derivative(pw(mu[0], g2, g3), mu[0]), Derivative(pw(mu[0], g2, g3), (mu[0], 2)), Derivative(pw(mu[0], g2, g3), (mu[0], 3))],\n",
       "[1, pw(mu[1], g2, g3), Derivative(pw(mu[1], g2, g3), mu[1]), Derivative(pw(mu[1], g2, g3), (mu[1], 2)), Derivative(pw(mu[1], g2, g3), (mu[1], 3))],\n",
       "[1, pw(mu[2], g2, g3), Derivative(pw(mu[2], g2, g3), mu[2]), Derivative(pw(mu[2], g2, g3), (mu[2], 2)), Derivative(pw(mu[2], g2, g3), (mu[2], 3))],\n",
       "[1, pw(mu[3], g2, g3), Derivative(pw(mu[3], g2, g3), mu[3]), Derivative(pw(mu[3], g2, g3), (mu[3], 2)), Derivative(pw(mu[3], g2, g3), (mu[3], 3))],\n",
       "[1,     pw(z, g2, g3),         Derivative(pw(z, g2, g3), z),         Derivative(pw(z, g2, g3), (z, 2)),         Derivative(pw(z, g2, g3), (z, 3))]])), Det(Matrix([\n",
       "[1,                                                   pw(mu[0], g2, g3),                                                        Derivative(pw(mu[0], g2, g3), mu[0]),                                                        Derivative(pw(mu[0], g2, g3), (mu[0], 2)),                                                        Derivative(pw(mu[0], g2, g3), (mu[0], 3))],\n",
       "[1, pw(mu[0], g2, g3) + Derivative(pw(mu[0], g2, g3), mu[0])*epsilon[1], Derivative(pw(mu[0], g2, g3), mu[0]) + Derivative(pw(mu[0], g2, g3), (mu[0], 2))*epsilon[1], Derivative(pw(mu[0], g2, g3), (mu[0], 2)) + Derivative(pw(mu[0], g2, g3), (mu[0], 3))*epsilon[1], Derivative(pw(mu[0], g2, g3), (mu[0], 3)) + Derivative(pw(mu[0], g2, g3), (mu[0], 4))*epsilon[1]],\n",
       "[1,                                                   pw(mu[2], g2, g3),                                                        Derivative(pw(mu[2], g2, g3), mu[2]),                                                        Derivative(pw(mu[2], g2, g3), (mu[2], 2)),                                                        Derivative(pw(mu[2], g2, g3), (mu[2], 3))],\n",
       "[1,                                                   pw(mu[3], g2, g3),                                                        Derivative(pw(mu[3], g2, g3), mu[3]),                                                        Derivative(pw(mu[3], g2, g3), (mu[3], 2)),                                                        Derivative(pw(mu[3], g2, g3), (mu[3], 3))],\n",
       "[1,                                                       pw(z, g2, g3),                                                                Derivative(pw(z, g2, g3), z),                                                                Derivative(pw(z, g2, g3), (z, 2)),                                                                Derivative(pw(z, g2, g3), (z, 3))]])))"
      ]
     },
     "execution_count": 23,
     "metadata": {},
     "output_type": "execute_result"
    }
   ],
   "source": [
    "Eq(Det(Mn), Det(Mn_b))"
   ]
  },
  {
   "cell_type": "code",
   "execution_count": 24,
   "id": "c315771b",
   "metadata": {},
   "outputs": [
    {
     "data": {
      "text/latex": [
       "$\\displaystyle \\operatorname{Det}{\\left(\\left[\\begin{matrix}1 & \\operatorname{pw}{\\left({\\mu}_{0},g_{2},g_{3} \\right)} & \\frac{\\partial}{\\partial {\\mu}_{0}} \\operatorname{pw}{\\left({\\mu}_{0},g_{2},g_{3} \\right)} & \\frac{\\partial^{2}}{\\partial {\\mu}_{0}^{2}} \\operatorname{pw}{\\left({\\mu}_{0},g_{2},g_{3} \\right)} & \\frac{\\partial^{3}}{\\partial {\\mu}_{0}^{3}} \\operatorname{pw}{\\left({\\mu}_{0},g_{2},g_{3} \\right)}\\\\1 & \\operatorname{pw}{\\left({\\mu}_{1},g_{2},g_{3} \\right)} & \\frac{\\partial}{\\partial {\\mu}_{1}} \\operatorname{pw}{\\left({\\mu}_{1},g_{2},g_{3} \\right)} & \\frac{\\partial^{2}}{\\partial {\\mu}_{1}^{2}} \\operatorname{pw}{\\left({\\mu}_{1},g_{2},g_{3} \\right)} & \\frac{\\partial^{3}}{\\partial {\\mu}_{1}^{3}} \\operatorname{pw}{\\left({\\mu}_{1},g_{2},g_{3} \\right)}\\\\1 & \\operatorname{pw}{\\left({\\mu}_{2},g_{2},g_{3} \\right)} & \\frac{\\partial}{\\partial {\\mu}_{2}} \\operatorname{pw}{\\left({\\mu}_{2},g_{2},g_{3} \\right)} & \\frac{\\partial^{2}}{\\partial {\\mu}_{2}^{2}} \\operatorname{pw}{\\left({\\mu}_{2},g_{2},g_{3} \\right)} & \\frac{\\partial^{3}}{\\partial {\\mu}_{2}^{3}} \\operatorname{pw}{\\left({\\mu}_{2},g_{2},g_{3} \\right)}\\\\1 & \\operatorname{pw}{\\left({\\mu}_{3},g_{2},g_{3} \\right)} & \\frac{\\partial}{\\partial {\\mu}_{3}} \\operatorname{pw}{\\left({\\mu}_{3},g_{2},g_{3} \\right)} & \\frac{\\partial^{2}}{\\partial {\\mu}_{3}^{2}} \\operatorname{pw}{\\left({\\mu}_{3},g_{2},g_{3} \\right)} & \\frac{\\partial^{3}}{\\partial {\\mu}_{3}^{3}} \\operatorname{pw}{\\left({\\mu}_{3},g_{2},g_{3} \\right)}\\\\1 & \\operatorname{pw}{\\left(z,g_{2},g_{3} \\right)} & \\frac{\\partial}{\\partial z} \\operatorname{pw}{\\left(z,g_{2},g_{3} \\right)} & \\frac{\\partial^{2}}{\\partial z^{2}} \\operatorname{pw}{\\left(z,g_{2},g_{3} \\right)} & \\frac{\\partial^{3}}{\\partial z^{3}} \\operatorname{pw}{\\left(z,g_{2},g_{3} \\right)}\\end{matrix}\\right] \\right)} = \\operatorname{Det}{\\left(\\left[\\begin{matrix}1 & \\operatorname{pw}{\\left({\\mu}_{0},g_{2},g_{3} \\right)} & \\frac{\\partial}{\\partial {\\mu}_{0}} \\operatorname{pw}{\\left({\\mu}_{0},g_{2},g_{3} \\right)} & \\frac{\\partial^{2}}{\\partial {\\mu}_{0}^{2}} \\operatorname{pw}{\\left({\\mu}_{0},g_{2},g_{3} \\right)} & \\frac{\\partial^{3}}{\\partial {\\mu}_{0}^{3}} \\operatorname{pw}{\\left({\\mu}_{0},g_{2},g_{3} \\right)}\\\\0 & \\frac{\\partial}{\\partial {\\mu}_{0}} \\operatorname{pw}{\\left({\\mu}_{0},g_{2},g_{3} \\right)} {\\epsilon}_{1} & \\frac{\\partial^{2}}{\\partial {\\mu}_{0}^{2}} \\operatorname{pw}{\\left({\\mu}_{0},g_{2},g_{3} \\right)} {\\epsilon}_{1} & \\frac{\\partial^{3}}{\\partial {\\mu}_{0}^{3}} \\operatorname{pw}{\\left({\\mu}_{0},g_{2},g_{3} \\right)} {\\epsilon}_{1} & \\frac{\\partial^{4}}{\\partial {\\mu}_{0}^{4}} \\operatorname{pw}{\\left({\\mu}_{0},g_{2},g_{3} \\right)} {\\epsilon}_{1}\\\\1 & \\operatorname{pw}{\\left({\\mu}_{2},g_{2},g_{3} \\right)} & \\frac{\\partial}{\\partial {\\mu}_{2}} \\operatorname{pw}{\\left({\\mu}_{2},g_{2},g_{3} \\right)} & \\frac{\\partial^{2}}{\\partial {\\mu}_{2}^{2}} \\operatorname{pw}{\\left({\\mu}_{2},g_{2},g_{3} \\right)} & \\frac{\\partial^{3}}{\\partial {\\mu}_{2}^{3}} \\operatorname{pw}{\\left({\\mu}_{2},g_{2},g_{3} \\right)}\\\\1 & \\operatorname{pw}{\\left({\\mu}_{3},g_{2},g_{3} \\right)} & \\frac{\\partial}{\\partial {\\mu}_{3}} \\operatorname{pw}{\\left({\\mu}_{3},g_{2},g_{3} \\right)} & \\frac{\\partial^{2}}{\\partial {\\mu}_{3}^{2}} \\operatorname{pw}{\\left({\\mu}_{3},g_{2},g_{3} \\right)} & \\frac{\\partial^{3}}{\\partial {\\mu}_{3}^{3}} \\operatorname{pw}{\\left({\\mu}_{3},g_{2},g_{3} \\right)}\\\\1 & \\operatorname{pw}{\\left(z,g_{2},g_{3} \\right)} & \\frac{\\partial}{\\partial z} \\operatorname{pw}{\\left(z,g_{2},g_{3} \\right)} & \\frac{\\partial^{2}}{\\partial z^{2}} \\operatorname{pw}{\\left(z,g_{2},g_{3} \\right)} & \\frac{\\partial^{3}}{\\partial z^{3}} \\operatorname{pw}{\\left(z,g_{2},g_{3} \\right)}\\end{matrix}\\right] \\right)}$"
      ],
      "text/plain": [
       "Eq(Det(Matrix([\n",
       "[1, pw(mu[0], g2, g3), Derivative(pw(mu[0], g2, g3), mu[0]), Derivative(pw(mu[0], g2, g3), (mu[0], 2)), Derivative(pw(mu[0], g2, g3), (mu[0], 3))],\n",
       "[1, pw(mu[1], g2, g3), Derivative(pw(mu[1], g2, g3), mu[1]), Derivative(pw(mu[1], g2, g3), (mu[1], 2)), Derivative(pw(mu[1], g2, g3), (mu[1], 3))],\n",
       "[1, pw(mu[2], g2, g3), Derivative(pw(mu[2], g2, g3), mu[2]), Derivative(pw(mu[2], g2, g3), (mu[2], 2)), Derivative(pw(mu[2], g2, g3), (mu[2], 3))],\n",
       "[1, pw(mu[3], g2, g3), Derivative(pw(mu[3], g2, g3), mu[3]), Derivative(pw(mu[3], g2, g3), (mu[3], 2)), Derivative(pw(mu[3], g2, g3), (mu[3], 3))],\n",
       "[1,     pw(z, g2, g3),         Derivative(pw(z, g2, g3), z),         Derivative(pw(z, g2, g3), (z, 2)),         Derivative(pw(z, g2, g3), (z, 3))]])), Det(Matrix([\n",
       "[1,                               pw(mu[0], g2, g3),                 Derivative(pw(mu[0], g2, g3), mu[0]),            Derivative(pw(mu[0], g2, g3), (mu[0], 2)),            Derivative(pw(mu[0], g2, g3), (mu[0], 3))],\n",
       "[0, Derivative(pw(mu[0], g2, g3), mu[0])*epsilon[1], Derivative(pw(mu[0], g2, g3), (mu[0], 2))*epsilon[1], Derivative(pw(mu[0], g2, g3), (mu[0], 3))*epsilon[1], Derivative(pw(mu[0], g2, g3), (mu[0], 4))*epsilon[1]],\n",
       "[1,                               pw(mu[2], g2, g3),                 Derivative(pw(mu[2], g2, g3), mu[2]),            Derivative(pw(mu[2], g2, g3), (mu[2], 2)),            Derivative(pw(mu[2], g2, g3), (mu[2], 3))],\n",
       "[1,                               pw(mu[3], g2, g3),                 Derivative(pw(mu[3], g2, g3), mu[3]),            Derivative(pw(mu[3], g2, g3), (mu[3], 2)),            Derivative(pw(mu[3], g2, g3), (mu[3], 3))],\n",
       "[1,                                   pw(z, g2, g3),                         Derivative(pw(z, g2, g3), z),                    Derivative(pw(z, g2, g3), (z, 2)),                    Derivative(pw(z, g2, g3), (z, 3))]])))"
      ]
     },
     "execution_count": 24,
     "metadata": {},
     "output_type": "execute_result"
    }
   ],
   "source": [
    "Eq(Det(Mn), Det(Mn_c))"
   ]
  },
  {
   "cell_type": "code",
   "execution_count": 25,
   "id": "fb3f92f7",
   "metadata": {},
   "outputs": [
    {
     "data": {
      "text/latex": [
       "$\\displaystyle \\operatorname{Det}{\\left(\\left[\\begin{matrix}1 & \\operatorname{pw}{\\left({\\mu}_{0},g_{2},g_{3} \\right)} & \\frac{\\partial}{\\partial {\\mu}_{0}} \\operatorname{pw}{\\left({\\mu}_{0},g_{2},g_{3} \\right)} & \\frac{\\partial^{2}}{\\partial {\\mu}_{0}^{2}} \\operatorname{pw}{\\left({\\mu}_{0},g_{2},g_{3} \\right)} & \\frac{\\partial^{3}}{\\partial {\\mu}_{0}^{3}} \\operatorname{pw}{\\left({\\mu}_{0},g_{2},g_{3} \\right)}\\\\1 & \\operatorname{pw}{\\left({\\mu}_{1},g_{2},g_{3} \\right)} & \\frac{\\partial}{\\partial {\\mu}_{1}} \\operatorname{pw}{\\left({\\mu}_{1},g_{2},g_{3} \\right)} & \\frac{\\partial^{2}}{\\partial {\\mu}_{1}^{2}} \\operatorname{pw}{\\left({\\mu}_{1},g_{2},g_{3} \\right)} & \\frac{\\partial^{3}}{\\partial {\\mu}_{1}^{3}} \\operatorname{pw}{\\left({\\mu}_{1},g_{2},g_{3} \\right)}\\\\1 & \\operatorname{pw}{\\left({\\mu}_{2},g_{2},g_{3} \\right)} & \\frac{\\partial}{\\partial {\\mu}_{2}} \\operatorname{pw}{\\left({\\mu}_{2},g_{2},g_{3} \\right)} & \\frac{\\partial^{2}}{\\partial {\\mu}_{2}^{2}} \\operatorname{pw}{\\left({\\mu}_{2},g_{2},g_{3} \\right)} & \\frac{\\partial^{3}}{\\partial {\\mu}_{2}^{3}} \\operatorname{pw}{\\left({\\mu}_{2},g_{2},g_{3} \\right)}\\\\1 & \\operatorname{pw}{\\left({\\mu}_{3},g_{2},g_{3} \\right)} & \\frac{\\partial}{\\partial {\\mu}_{3}} \\operatorname{pw}{\\left({\\mu}_{3},g_{2},g_{3} \\right)} & \\frac{\\partial^{2}}{\\partial {\\mu}_{3}^{2}} \\operatorname{pw}{\\left({\\mu}_{3},g_{2},g_{3} \\right)} & \\frac{\\partial^{3}}{\\partial {\\mu}_{3}^{3}} \\operatorname{pw}{\\left({\\mu}_{3},g_{2},g_{3} \\right)}\\\\1 & \\operatorname{pw}{\\left(z,g_{2},g_{3} \\right)} & \\frac{\\partial}{\\partial z} \\operatorname{pw}{\\left(z,g_{2},g_{3} \\right)} & \\frac{\\partial^{2}}{\\partial z^{2}} \\operatorname{pw}{\\left(z,g_{2},g_{3} \\right)} & \\frac{\\partial^{3}}{\\partial z^{3}} \\operatorname{pw}{\\left(z,g_{2},g_{3} \\right)}\\end{matrix}\\right] \\right)} = {\\epsilon}_{1} \\operatorname{Det}{\\left(\\left[\\begin{matrix}1 & \\operatorname{pw}{\\left({\\mu}_{0},g_{2},g_{3} \\right)} & \\frac{\\partial}{\\partial {\\mu}_{0}} \\operatorname{pw}{\\left({\\mu}_{0},g_{2},g_{3} \\right)} & \\frac{\\partial^{2}}{\\partial {\\mu}_{0}^{2}} \\operatorname{pw}{\\left({\\mu}_{0},g_{2},g_{3} \\right)} & \\frac{\\partial^{3}}{\\partial {\\mu}_{0}^{3}} \\operatorname{pw}{\\left({\\mu}_{0},g_{2},g_{3} \\right)}\\\\0 & \\frac{\\partial}{\\partial {\\mu}_{0}} \\operatorname{pw}{\\left({\\mu}_{0},g_{2},g_{3} \\right)} & \\frac{\\partial^{2}}{\\partial {\\mu}_{0}^{2}} \\operatorname{pw}{\\left({\\mu}_{0},g_{2},g_{3} \\right)} & \\frac{\\partial^{3}}{\\partial {\\mu}_{0}^{3}} \\operatorname{pw}{\\left({\\mu}_{0},g_{2},g_{3} \\right)} & \\frac{\\partial^{4}}{\\partial {\\mu}_{0}^{4}} \\operatorname{pw}{\\left({\\mu}_{0},g_{2},g_{3} \\right)}\\\\1 & \\operatorname{pw}{\\left({\\mu}_{2},g_{2},g_{3} \\right)} & \\frac{\\partial}{\\partial {\\mu}_{2}} \\operatorname{pw}{\\left({\\mu}_{2},g_{2},g_{3} \\right)} & \\frac{\\partial^{2}}{\\partial {\\mu}_{2}^{2}} \\operatorname{pw}{\\left({\\mu}_{2},g_{2},g_{3} \\right)} & \\frac{\\partial^{3}}{\\partial {\\mu}_{2}^{3}} \\operatorname{pw}{\\left({\\mu}_{2},g_{2},g_{3} \\right)}\\\\1 & \\operatorname{pw}{\\left({\\mu}_{3},g_{2},g_{3} \\right)} & \\frac{\\partial}{\\partial {\\mu}_{3}} \\operatorname{pw}{\\left({\\mu}_{3},g_{2},g_{3} \\right)} & \\frac{\\partial^{2}}{\\partial {\\mu}_{3}^{2}} \\operatorname{pw}{\\left({\\mu}_{3},g_{2},g_{3} \\right)} & \\frac{\\partial^{3}}{\\partial {\\mu}_{3}^{3}} \\operatorname{pw}{\\left({\\mu}_{3},g_{2},g_{3} \\right)}\\\\1 & \\operatorname{pw}{\\left(z,g_{2},g_{3} \\right)} & \\frac{\\partial}{\\partial z} \\operatorname{pw}{\\left(z,g_{2},g_{3} \\right)} & \\frac{\\partial^{2}}{\\partial z^{2}} \\operatorname{pw}{\\left(z,g_{2},g_{3} \\right)} & \\frac{\\partial^{3}}{\\partial z^{3}} \\operatorname{pw}{\\left(z,g_{2},g_{3} \\right)}\\end{matrix}\\right] \\right)}$"
      ],
      "text/plain": [
       "Eq(Det(Matrix([\n",
       "[1, pw(mu[0], g2, g3), Derivative(pw(mu[0], g2, g3), mu[0]), Derivative(pw(mu[0], g2, g3), (mu[0], 2)), Derivative(pw(mu[0], g2, g3), (mu[0], 3))],\n",
       "[1, pw(mu[1], g2, g3), Derivative(pw(mu[1], g2, g3), mu[1]), Derivative(pw(mu[1], g2, g3), (mu[1], 2)), Derivative(pw(mu[1], g2, g3), (mu[1], 3))],\n",
       "[1, pw(mu[2], g2, g3), Derivative(pw(mu[2], g2, g3), mu[2]), Derivative(pw(mu[2], g2, g3), (mu[2], 2)), Derivative(pw(mu[2], g2, g3), (mu[2], 3))],\n",
       "[1, pw(mu[3], g2, g3), Derivative(pw(mu[3], g2, g3), mu[3]), Derivative(pw(mu[3], g2, g3), (mu[3], 2)), Derivative(pw(mu[3], g2, g3), (mu[3], 3))],\n",
       "[1,     pw(z, g2, g3),         Derivative(pw(z, g2, g3), z),         Derivative(pw(z, g2, g3), (z, 2)),         Derivative(pw(z, g2, g3), (z, 3))]])), epsilon[1]*Det(Matrix([\n",
       "[1,                    pw(mu[0], g2, g3),      Derivative(pw(mu[0], g2, g3), mu[0]), Derivative(pw(mu[0], g2, g3), (mu[0], 2)), Derivative(pw(mu[0], g2, g3), (mu[0], 3))],\n",
       "[0, Derivative(pw(mu[0], g2, g3), mu[0]), Derivative(pw(mu[0], g2, g3), (mu[0], 2)), Derivative(pw(mu[0], g2, g3), (mu[0], 3)), Derivative(pw(mu[0], g2, g3), (mu[0], 4))],\n",
       "[1,                    pw(mu[2], g2, g3),      Derivative(pw(mu[2], g2, g3), mu[2]), Derivative(pw(mu[2], g2, g3), (mu[2], 2)), Derivative(pw(mu[2], g2, g3), (mu[2], 3))],\n",
       "[1,                    pw(mu[3], g2, g3),      Derivative(pw(mu[3], g2, g3), mu[3]), Derivative(pw(mu[3], g2, g3), (mu[3], 2)), Derivative(pw(mu[3], g2, g3), (mu[3], 3))],\n",
       "[1,                        pw(z, g2, g3),              Derivative(pw(z, g2, g3), z),         Derivative(pw(z, g2, g3), (z, 2)),         Derivative(pw(z, g2, g3), (z, 3))]])))"
      ]
     },
     "execution_count": 25,
     "metadata": {},
     "output_type": "execute_result"
    }
   ],
   "source": [
    "Mn_epsilon_factored"
   ]
  },
  {
   "cell_type": "markdown",
   "id": "10367fb1",
   "metadata": {},
   "source": [
    "Therefore, $\\epsilon_1$ vanishes in the ratio of determinants to give the expression for the degenerate case in which $\\mu_1=\\mu_0$:"
   ]
  },
  {
   "cell_type": "code",
   "execution_count": 26,
   "id": "3d50a080",
   "metadata": {},
   "outputs": [
    {
     "data": {
      "text/latex": [
       "$\\displaystyle - \\frac{\\operatorname{Det}{\\left(\\left[\\begin{matrix}1 & \\operatorname{pw}{\\left({\\mu}_{0},g_{2},g_{3} \\right)} & \\frac{\\partial}{\\partial {\\mu}_{0}} \\operatorname{pw}{\\left({\\mu}_{0},g_{2},g_{3} \\right)} & \\frac{\\partial^{2}}{\\partial {\\mu}_{0}^{2}} \\operatorname{pw}{\\left({\\mu}_{0},g_{2},g_{3} \\right)} & \\frac{\\partial^{3}}{\\partial {\\mu}_{0}^{3}} \\operatorname{pw}{\\left({\\mu}_{0},g_{2},g_{3} \\right)}\\\\0 & \\frac{\\partial}{\\partial {\\mu}_{0}} \\operatorname{pw}{\\left({\\mu}_{0},g_{2},g_{3} \\right)} & \\frac{\\partial^{2}}{\\partial {\\mu}_{0}^{2}} \\operatorname{pw}{\\left({\\mu}_{0},g_{2},g_{3} \\right)} & \\frac{\\partial^{3}}{\\partial {\\mu}_{0}^{3}} \\operatorname{pw}{\\left({\\mu}_{0},g_{2},g_{3} \\right)} & \\frac{\\partial^{4}}{\\partial {\\mu}_{0}^{4}} \\operatorname{pw}{\\left({\\mu}_{0},g_{2},g_{3} \\right)}\\\\1 & \\operatorname{pw}{\\left({\\mu}_{2},g_{2},g_{3} \\right)} & \\frac{\\partial}{\\partial {\\mu}_{2}} \\operatorname{pw}{\\left({\\mu}_{2},g_{2},g_{3} \\right)} & \\frac{\\partial^{2}}{\\partial {\\mu}_{2}^{2}} \\operatorname{pw}{\\left({\\mu}_{2},g_{2},g_{3} \\right)} & \\frac{\\partial^{3}}{\\partial {\\mu}_{2}^{3}} \\operatorname{pw}{\\left({\\mu}_{2},g_{2},g_{3} \\right)}\\\\1 & \\operatorname{pw}{\\left({\\mu}_{3},g_{2},g_{3} \\right)} & \\frac{\\partial}{\\partial {\\mu}_{3}} \\operatorname{pw}{\\left({\\mu}_{3},g_{2},g_{3} \\right)} & \\frac{\\partial^{2}}{\\partial {\\mu}_{3}^{2}} \\operatorname{pw}{\\left({\\mu}_{3},g_{2},g_{3} \\right)} & \\frac{\\partial^{3}}{\\partial {\\mu}_{3}^{3}} \\operatorname{pw}{\\left({\\mu}_{3},g_{2},g_{3} \\right)}\\\\1 & \\operatorname{pw}{\\left(z,g_{2},g_{3} \\right)} & \\frac{\\partial}{\\partial z} \\operatorname{pw}{\\left(z,g_{2},g_{3} \\right)} & \\frac{\\partial^{2}}{\\partial z^{2}} \\operatorname{pw}{\\left(z,g_{2},g_{3} \\right)} & \\frac{\\partial^{3}}{\\partial z^{3}} \\operatorname{pw}{\\left(z,g_{2},g_{3} \\right)}\\end{matrix}\\right] \\right)} \\operatorname{Det}^{-1}{\\left(\\left[\\begin{matrix}1 & \\operatorname{pw}{\\left({\\mu}_{0},g_{2},g_{3} \\right)} & \\frac{\\partial}{\\partial {\\mu}_{0}} \\operatorname{pw}{\\left({\\mu}_{0},g_{2},g_{3} \\right)} & \\frac{\\partial^{2}}{\\partial {\\mu}_{0}^{2}} \\operatorname{pw}{\\left({\\mu}_{0},g_{2},g_{3} \\right)}\\\\0 & \\frac{\\partial}{\\partial {\\mu}_{0}} \\operatorname{pw}{\\left({\\mu}_{0},g_{2},g_{3} \\right)} & \\frac{\\partial^{2}}{\\partial {\\mu}_{0}^{2}} \\operatorname{pw}{\\left({\\mu}_{0},g_{2},g_{3} \\right)} & \\frac{\\partial^{3}}{\\partial {\\mu}_{0}^{3}} \\operatorname{pw}{\\left({\\mu}_{0},g_{2},g_{3} \\right)}\\\\1 & \\operatorname{pw}{\\left({\\mu}_{2},g_{2},g_{3} \\right)} & \\frac{\\partial}{\\partial {\\mu}_{2}} \\operatorname{pw}{\\left({\\mu}_{2},g_{2},g_{3} \\right)} & \\frac{\\partial^{2}}{\\partial {\\mu}_{2}^{2}} \\operatorname{pw}{\\left({\\mu}_{2},g_{2},g_{3} \\right)}\\\\1 & \\operatorname{pw}{\\left({\\mu}_{3},g_{2},g_{3} \\right)} & \\frac{\\partial}{\\partial {\\mu}_{3}} \\operatorname{pw}{\\left({\\mu}_{3},g_{2},g_{3} \\right)} & \\frac{\\partial^{2}}{\\partial {\\mu}_{3}^{2}} \\operatorname{pw}{\\left({\\mu}_{3},g_{2},g_{3} \\right)}\\end{matrix}\\right] \\right)}}{24} = - \\frac{\\sigma^{2}{\\left(z - {\\mu}_{0},g_{2},g_{3} \\right)} \\sigma{\\left(z - {\\mu}_{2},g_{2},g_{3} \\right)} \\sigma{\\left(z - {\\mu}_{3},g_{2},g_{3} \\right)} \\sigma{\\left(z + 2 {\\mu}_{0} + {\\mu}_{2} + {\\mu}_{3},g_{2},g_{3} \\right)}}{\\sigma^{5}{\\left(z,g_{2},g_{3} \\right)} \\sigma{\\left(- 2 {\\mu}_{0} - {\\mu}_{2} - {\\mu}_{3},g_{2},g_{3} \\right)} \\sigma^{2}{\\left({\\mu}_{0},g_{2},g_{3} \\right)} \\sigma{\\left({\\mu}_{2},g_{2},g_{3} \\right)} \\sigma{\\left({\\mu}_{3},g_{2},g_{3} \\right)}}$"
      ],
      "text/plain": [
       "Eq(-Det(Matrix([\n",
       "[1,                    pw(mu[0], g2, g3),      Derivative(pw(mu[0], g2, g3), mu[0]), Derivative(pw(mu[0], g2, g3), (mu[0], 2)), Derivative(pw(mu[0], g2, g3), (mu[0], 3))],\n",
       "[0, Derivative(pw(mu[0], g2, g3), mu[0]), Derivative(pw(mu[0], g2, g3), (mu[0], 2)), Derivative(pw(mu[0], g2, g3), (mu[0], 3)), Derivative(pw(mu[0], g2, g3), (mu[0], 4))],\n",
       "[1,                    pw(mu[2], g2, g3),      Derivative(pw(mu[2], g2, g3), mu[2]), Derivative(pw(mu[2], g2, g3), (mu[2], 2)), Derivative(pw(mu[2], g2, g3), (mu[2], 3))],\n",
       "[1,                    pw(mu[3], g2, g3),      Derivative(pw(mu[3], g2, g3), mu[3]), Derivative(pw(mu[3], g2, g3), (mu[3], 2)), Derivative(pw(mu[3], g2, g3), (mu[3], 3))],\n",
       "[1,                        pw(z, g2, g3),              Derivative(pw(z, g2, g3), z),         Derivative(pw(z, g2, g3), (z, 2)),         Derivative(pw(z, g2, g3), (z, 3))]]))*Det(Matrix([\n",
       "[1,                    pw(mu[0], g2, g3),      Derivative(pw(mu[0], g2, g3), mu[0]), Derivative(pw(mu[0], g2, g3), (mu[0], 2))],\n",
       "[0, Derivative(pw(mu[0], g2, g3), mu[0]), Derivative(pw(mu[0], g2, g3), (mu[0], 2)), Derivative(pw(mu[0], g2, g3), (mu[0], 3))],\n",
       "[1,                    pw(mu[2], g2, g3),      Derivative(pw(mu[2], g2, g3), mu[2]), Derivative(pw(mu[2], g2, g3), (mu[2], 2))],\n",
       "[1,                    pw(mu[3], g2, g3),      Derivative(pw(mu[3], g2, g3), mu[3]), Derivative(pw(mu[3], g2, g3), (mu[3], 2))]]))**(-1)/24, -sigma(z - mu[0], g2, g3)**2*sigma(z - mu[2], g2, g3)*sigma(z - mu[3], g2, g3)*sigma(z + 2*mu[0] + mu[2] + mu[3], g2, g3)/(sigma(z, g2, g3)**5*sigma(-2*mu[0] - mu[2] - mu[3], g2, g3)*sigma(mu[0], g2, g3)**2*sigma(mu[2], g2, g3)*sigma(mu[3], g2, g3)))"
      ]
     },
     "execution_count": 26,
     "metadata": {},
     "output_type": "execute_result"
    }
   ],
   "source": [
    "example_det_formula_limit = example_det_formula.subs([Mn_epsilon_factored.args, Md_epsilon_factored.args]).subs(mu[1], mu[0])\n",
    "example_det_formula_limit"
   ]
  },
  {
   "cell_type": "markdown",
   "id": "8c325efb",
   "metadata": {},
   "source": [
    "To introduce further degeneracy by letting $\\mu_3 \\rightarrow \\mu_2$, a similar procedure should be followed as before. However, if $\\mu_2 \\rightarrow \\mu_0$ from here there would be a need to avoid duplicating the second row in the third. This is avoidable by taking the Taylor series expansion in the third row to higher orders in $\\epsilon_j$ and subtracting the first and second rows from the third. In the fully degenerate case where $\\mu_j \\rightarrow \\mu_0 \\forall j$, the pattern that emerges is that each subsequent row is the derivative of the previous w.r.t $\\mu_0$ if the limiting process is carried out from the top down."
   ]
  },
  {
   "cell_type": "code",
   "execution_count": 27,
   "id": "4c00fb63",
   "metadata": {},
   "outputs": [],
   "source": [
    "taylor_subs_b = [\n",
    "    pw_taylor_epsilon_j_diff_m.subs([(N,2),(j,2), (m,_Nval - 1 -_m)]).doit().args for _m in range(_Nval)]"
   ]
  },
  {
   "cell_type": "code",
   "execution_count": 28,
   "id": "6a072183",
   "metadata": {
    "scrolled": true
   },
   "outputs": [],
   "source": [
    "M2n = Mn_epsilon_factored.rhs.args[1].args[0].subs(taylor_subs_b)\n",
    "M2d = Md_epsilon_factored.rhs.args[1].args[0].subs(taylor_subs_b)\n",
    "\n",
    "M2n_b = Matrix([\n",
    "    M2n.row(i) if i != 2 else M2n.row(2) - M2n.row(0) - Matrix([_c*epsilon[2] for _c in M2n.row(1)]).T \n",
    "    for i in range(len(M2n.col(0)))\n",
    "])\n",
    "M2d_b = Matrix([\n",
    "    M2d.row(i) if i != 2 else M2d.row(2) - M2d.row(0) - Matrix([_c*epsilon[2] for _c in M2d.row(1)]).T \n",
    "    for i in range(len(M2d.col(0)))\n",
    "])"
   ]
  },
  {
   "cell_type": "markdown",
   "id": "d4e597a3",
   "metadata": {},
   "source": [
    "For the determinant in the numerator this becomes:"
   ]
  },
  {
   "cell_type": "code",
   "execution_count": 29,
   "id": "d4adf3ab",
   "metadata": {},
   "outputs": [
    {
     "data": {
      "text/latex": [
       "$\\displaystyle \\operatorname{Det}{\\left(\\left[\\begin{matrix}1 & \\operatorname{pw}{\\left({\\mu}_{0},g_{2},g_{3} \\right)} & \\frac{\\partial}{\\partial {\\mu}_{0}} \\operatorname{pw}{\\left({\\mu}_{0},g_{2},g_{3} \\right)} & \\frac{\\partial^{2}}{\\partial {\\mu}_{0}^{2}} \\operatorname{pw}{\\left({\\mu}_{0},g_{2},g_{3} \\right)} & \\frac{\\partial^{3}}{\\partial {\\mu}_{0}^{3}} \\operatorname{pw}{\\left({\\mu}_{0},g_{2},g_{3} \\right)}\\\\0 & \\frac{\\partial}{\\partial {\\mu}_{0}} \\operatorname{pw}{\\left({\\mu}_{0},g_{2},g_{3} \\right)} & \\frac{\\partial^{2}}{\\partial {\\mu}_{0}^{2}} \\operatorname{pw}{\\left({\\mu}_{0},g_{2},g_{3} \\right)} & \\frac{\\partial^{3}}{\\partial {\\mu}_{0}^{3}} \\operatorname{pw}{\\left({\\mu}_{0},g_{2},g_{3} \\right)} & \\frac{\\partial^{4}}{\\partial {\\mu}_{0}^{4}} \\operatorname{pw}{\\left({\\mu}_{0},g_{2},g_{3} \\right)}\\\\1 & \\operatorname{pw}{\\left({\\mu}_{2},g_{2},g_{3} \\right)} & \\frac{\\partial}{\\partial {\\mu}_{2}} \\operatorname{pw}{\\left({\\mu}_{2},g_{2},g_{3} \\right)} & \\frac{\\partial^{2}}{\\partial {\\mu}_{2}^{2}} \\operatorname{pw}{\\left({\\mu}_{2},g_{2},g_{3} \\right)} & \\frac{\\partial^{3}}{\\partial {\\mu}_{2}^{3}} \\operatorname{pw}{\\left({\\mu}_{2},g_{2},g_{3} \\right)}\\\\1 & \\operatorname{pw}{\\left({\\mu}_{3},g_{2},g_{3} \\right)} & \\frac{\\partial}{\\partial {\\mu}_{3}} \\operatorname{pw}{\\left({\\mu}_{3},g_{2},g_{3} \\right)} & \\frac{\\partial^{2}}{\\partial {\\mu}_{3}^{2}} \\operatorname{pw}{\\left({\\mu}_{3},g_{2},g_{3} \\right)} & \\frac{\\partial^{3}}{\\partial {\\mu}_{3}^{3}} \\operatorname{pw}{\\left({\\mu}_{3},g_{2},g_{3} \\right)}\\\\1 & \\operatorname{pw}{\\left(z,g_{2},g_{3} \\right)} & \\frac{\\partial}{\\partial z} \\operatorname{pw}{\\left(z,g_{2},g_{3} \\right)} & \\frac{\\partial^{2}}{\\partial z^{2}} \\operatorname{pw}{\\left(z,g_{2},g_{3} \\right)} & \\frac{\\partial^{3}}{\\partial z^{3}} \\operatorname{pw}{\\left(z,g_{2},g_{3} \\right)}\\end{matrix}\\right] \\right)} = \\operatorname{Det}{\\left(\\left[\\begin{matrix}1 & \\operatorname{pw}{\\left({\\mu}_{0},g_{2},g_{3} \\right)} & \\frac{\\partial}{\\partial {\\mu}_{0}} \\operatorname{pw}{\\left({\\mu}_{0},g_{2},g_{3} \\right)} & \\frac{\\partial^{2}}{\\partial {\\mu}_{0}^{2}} \\operatorname{pw}{\\left({\\mu}_{0},g_{2},g_{3} \\right)} & \\frac{\\partial^{3}}{\\partial {\\mu}_{0}^{3}} \\operatorname{pw}{\\left({\\mu}_{0},g_{2},g_{3} \\right)}\\\\0 & \\frac{\\partial}{\\partial {\\mu}_{0}} \\operatorname{pw}{\\left({\\mu}_{0},g_{2},g_{3} \\right)} & \\frac{\\partial^{2}}{\\partial {\\mu}_{0}^{2}} \\operatorname{pw}{\\left({\\mu}_{0},g_{2},g_{3} \\right)} & \\frac{\\partial^{3}}{\\partial {\\mu}_{0}^{3}} \\operatorname{pw}{\\left({\\mu}_{0},g_{2},g_{3} \\right)} & \\frac{\\partial^{4}}{\\partial {\\mu}_{0}^{4}} \\operatorname{pw}{\\left({\\mu}_{0},g_{2},g_{3} \\right)}\\\\0 & \\frac{\\frac{\\partial^{2}}{\\partial {\\mu}_{0}^{2}} \\operatorname{pw}{\\left({\\mu}_{0},g_{2},g_{3} \\right)} {\\epsilon}_{2}^{2}}{2} & \\frac{\\frac{\\partial^{3}}{\\partial {\\mu}_{0}^{3}} \\operatorname{pw}{\\left({\\mu}_{0},g_{2},g_{3} \\right)} {\\epsilon}_{2}^{2}}{2} & \\frac{\\frac{\\partial^{4}}{\\partial {\\mu}_{0}^{4}} \\operatorname{pw}{\\left({\\mu}_{0},g_{2},g_{3} \\right)} {\\epsilon}_{2}^{2}}{2} & \\frac{\\frac{\\partial^{5}}{\\partial {\\mu}_{0}^{5}} \\operatorname{pw}{\\left({\\mu}_{0},g_{2},g_{3} \\right)} {\\epsilon}_{2}^{2}}{2}\\\\1 & \\operatorname{pw}{\\left({\\mu}_{3},g_{2},g_{3} \\right)} & \\frac{\\partial}{\\partial {\\mu}_{3}} \\operatorname{pw}{\\left({\\mu}_{3},g_{2},g_{3} \\right)} & \\frac{\\partial^{2}}{\\partial {\\mu}_{3}^{2}} \\operatorname{pw}{\\left({\\mu}_{3},g_{2},g_{3} \\right)} & \\frac{\\partial^{3}}{\\partial {\\mu}_{3}^{3}} \\operatorname{pw}{\\left({\\mu}_{3},g_{2},g_{3} \\right)}\\\\1 & \\operatorname{pw}{\\left(z,g_{2},g_{3} \\right)} & \\frac{\\partial}{\\partial z} \\operatorname{pw}{\\left(z,g_{2},g_{3} \\right)} & \\frac{\\partial^{2}}{\\partial z^{2}} \\operatorname{pw}{\\left(z,g_{2},g_{3} \\right)} & \\frac{\\partial^{3}}{\\partial z^{3}} \\operatorname{pw}{\\left(z,g_{2},g_{3} \\right)}\\end{matrix}\\right] \\right)}$"
      ],
      "text/plain": [
       "Eq(Det(Matrix([\n",
       "[1,                    pw(mu[0], g2, g3),      Derivative(pw(mu[0], g2, g3), mu[0]), Derivative(pw(mu[0], g2, g3), (mu[0], 2)), Derivative(pw(mu[0], g2, g3), (mu[0], 3))],\n",
       "[0, Derivative(pw(mu[0], g2, g3), mu[0]), Derivative(pw(mu[0], g2, g3), (mu[0], 2)), Derivative(pw(mu[0], g2, g3), (mu[0], 3)), Derivative(pw(mu[0], g2, g3), (mu[0], 4))],\n",
       "[1,                    pw(mu[2], g2, g3),      Derivative(pw(mu[2], g2, g3), mu[2]), Derivative(pw(mu[2], g2, g3), (mu[2], 2)), Derivative(pw(mu[2], g2, g3), (mu[2], 3))],\n",
       "[1,                    pw(mu[3], g2, g3),      Derivative(pw(mu[3], g2, g3), mu[3]), Derivative(pw(mu[3], g2, g3), (mu[3], 2)), Derivative(pw(mu[3], g2, g3), (mu[3], 3))],\n",
       "[1,                        pw(z, g2, g3),              Derivative(pw(z, g2, g3), z),         Derivative(pw(z, g2, g3), (z, 2)),         Derivative(pw(z, g2, g3), (z, 3))]])), Det(Matrix([\n",
       "[1,                                         pw(mu[0], g2, g3),                      Derivative(pw(mu[0], g2, g3), mu[0]),                 Derivative(pw(mu[0], g2, g3), (mu[0], 2)),                 Derivative(pw(mu[0], g2, g3), (mu[0], 3))],\n",
       "[0,                      Derivative(pw(mu[0], g2, g3), mu[0]),                 Derivative(pw(mu[0], g2, g3), (mu[0], 2)),                 Derivative(pw(mu[0], g2, g3), (mu[0], 3)),                 Derivative(pw(mu[0], g2, g3), (mu[0], 4))],\n",
       "[0, Derivative(pw(mu[0], g2, g3), (mu[0], 2))*epsilon[2]**2/2, Derivative(pw(mu[0], g2, g3), (mu[0], 3))*epsilon[2]**2/2, Derivative(pw(mu[0], g2, g3), (mu[0], 4))*epsilon[2]**2/2, Derivative(pw(mu[0], g2, g3), (mu[0], 5))*epsilon[2]**2/2],\n",
       "[1,                                         pw(mu[3], g2, g3),                      Derivative(pw(mu[3], g2, g3), mu[3]),                 Derivative(pw(mu[3], g2, g3), (mu[3], 2)),                 Derivative(pw(mu[3], g2, g3), (mu[3], 3))],\n",
       "[1,                                             pw(z, g2, g3),                              Derivative(pw(z, g2, g3), z),                         Derivative(pw(z, g2, g3), (z, 2)),                         Derivative(pw(z, g2, g3), (z, 3))]])))"
      ]
     },
     "execution_count": 29,
     "metadata": {},
     "output_type": "execute_result"
    }
   ],
   "source": [
    "Eq(Det(Mn_epsilon_factored.rhs.args[1].args[0]), Det(M2n_b))"
   ]
  },
  {
   "cell_type": "code",
   "execution_count": 30,
   "id": "7e3287af",
   "metadata": {
    "scrolled": true
   },
   "outputs": [
    {
     "data": {
      "text/latex": [
       "$\\displaystyle \\operatorname{Det}{\\left(\\left[\\begin{matrix}1 & \\operatorname{pw}{\\left({\\mu}_{0},g_{2},g_{3} \\right)} & \\frac{\\partial}{\\partial {\\mu}_{0}} \\operatorname{pw}{\\left({\\mu}_{0},g_{2},g_{3} \\right)} & \\frac{\\partial^{2}}{\\partial {\\mu}_{0}^{2}} \\operatorname{pw}{\\left({\\mu}_{0},g_{2},g_{3} \\right)} & \\frac{\\partial^{3}}{\\partial {\\mu}_{0}^{3}} \\operatorname{pw}{\\left({\\mu}_{0},g_{2},g_{3} \\right)}\\\\0 & \\frac{\\partial}{\\partial {\\mu}_{0}} \\operatorname{pw}{\\left({\\mu}_{0},g_{2},g_{3} \\right)} & \\frac{\\partial^{2}}{\\partial {\\mu}_{0}^{2}} \\operatorname{pw}{\\left({\\mu}_{0},g_{2},g_{3} \\right)} & \\frac{\\partial^{3}}{\\partial {\\mu}_{0}^{3}} \\operatorname{pw}{\\left({\\mu}_{0},g_{2},g_{3} \\right)} & \\frac{\\partial^{4}}{\\partial {\\mu}_{0}^{4}} \\operatorname{pw}{\\left({\\mu}_{0},g_{2},g_{3} \\right)}\\\\1 & \\operatorname{pw}{\\left({\\mu}_{2},g_{2},g_{3} \\right)} & \\frac{\\partial}{\\partial {\\mu}_{2}} \\operatorname{pw}{\\left({\\mu}_{2},g_{2},g_{3} \\right)} & \\frac{\\partial^{2}}{\\partial {\\mu}_{2}^{2}} \\operatorname{pw}{\\left({\\mu}_{2},g_{2},g_{3} \\right)} & \\frac{\\partial^{3}}{\\partial {\\mu}_{2}^{3}} \\operatorname{pw}{\\left({\\mu}_{2},g_{2},g_{3} \\right)}\\\\1 & \\operatorname{pw}{\\left({\\mu}_{3},g_{2},g_{3} \\right)} & \\frac{\\partial}{\\partial {\\mu}_{3}} \\operatorname{pw}{\\left({\\mu}_{3},g_{2},g_{3} \\right)} & \\frac{\\partial^{2}}{\\partial {\\mu}_{3}^{2}} \\operatorname{pw}{\\left({\\mu}_{3},g_{2},g_{3} \\right)} & \\frac{\\partial^{3}}{\\partial {\\mu}_{3}^{3}} \\operatorname{pw}{\\left({\\mu}_{3},g_{2},g_{3} \\right)}\\\\1 & \\operatorname{pw}{\\left(z,g_{2},g_{3} \\right)} & \\frac{\\partial}{\\partial z} \\operatorname{pw}{\\left(z,g_{2},g_{3} \\right)} & \\frac{\\partial^{2}}{\\partial z^{2}} \\operatorname{pw}{\\left(z,g_{2},g_{3} \\right)} & \\frac{\\partial^{3}}{\\partial z^{3}} \\operatorname{pw}{\\left(z,g_{2},g_{3} \\right)}\\end{matrix}\\right] \\right)} = \\frac{{\\epsilon}_{2}^{2} \\operatorname{Det}{\\left(\\left[\\begin{matrix}1 & \\operatorname{pw}{\\left({\\mu}_{0},g_{2},g_{3} \\right)} & \\frac{\\partial}{\\partial {\\mu}_{0}} \\operatorname{pw}{\\left({\\mu}_{0},g_{2},g_{3} \\right)} & \\frac{\\partial^{2}}{\\partial {\\mu}_{0}^{2}} \\operatorname{pw}{\\left({\\mu}_{0},g_{2},g_{3} \\right)} & \\frac{\\partial^{3}}{\\partial {\\mu}_{0}^{3}} \\operatorname{pw}{\\left({\\mu}_{0},g_{2},g_{3} \\right)}\\\\0 & \\frac{\\partial}{\\partial {\\mu}_{0}} \\operatorname{pw}{\\left({\\mu}_{0},g_{2},g_{3} \\right)} & \\frac{\\partial^{2}}{\\partial {\\mu}_{0}^{2}} \\operatorname{pw}{\\left({\\mu}_{0},g_{2},g_{3} \\right)} & \\frac{\\partial^{3}}{\\partial {\\mu}_{0}^{3}} \\operatorname{pw}{\\left({\\mu}_{0},g_{2},g_{3} \\right)} & \\frac{\\partial^{4}}{\\partial {\\mu}_{0}^{4}} \\operatorname{pw}{\\left({\\mu}_{0},g_{2},g_{3} \\right)}\\\\0 & \\frac{\\partial^{2}}{\\partial {\\mu}_{0}^{2}} \\operatorname{pw}{\\left({\\mu}_{0},g_{2},g_{3} \\right)} & \\frac{\\partial^{3}}{\\partial {\\mu}_{0}^{3}} \\operatorname{pw}{\\left({\\mu}_{0},g_{2},g_{3} \\right)} & \\frac{\\partial^{4}}{\\partial {\\mu}_{0}^{4}} \\operatorname{pw}{\\left({\\mu}_{0},g_{2},g_{3} \\right)} & \\frac{\\partial^{5}}{\\partial {\\mu}_{0}^{5}} \\operatorname{pw}{\\left({\\mu}_{0},g_{2},g_{3} \\right)}\\\\1 & \\operatorname{pw}{\\left({\\mu}_{3},g_{2},g_{3} \\right)} & \\frac{\\partial}{\\partial {\\mu}_{3}} \\operatorname{pw}{\\left({\\mu}_{3},g_{2},g_{3} \\right)} & \\frac{\\partial^{2}}{\\partial {\\mu}_{3}^{2}} \\operatorname{pw}{\\left({\\mu}_{3},g_{2},g_{3} \\right)} & \\frac{\\partial^{3}}{\\partial {\\mu}_{3}^{3}} \\operatorname{pw}{\\left({\\mu}_{3},g_{2},g_{3} \\right)}\\\\1 & \\operatorname{pw}{\\left(z,g_{2},g_{3} \\right)} & \\frac{\\partial}{\\partial z} \\operatorname{pw}{\\left(z,g_{2},g_{3} \\right)} & \\frac{\\partial^{2}}{\\partial z^{2}} \\operatorname{pw}{\\left(z,g_{2},g_{3} \\right)} & \\frac{\\partial^{3}}{\\partial z^{3}} \\operatorname{pw}{\\left(z,g_{2},g_{3} \\right)}\\end{matrix}\\right] \\right)}}{2}$"
      ],
      "text/plain": [
       "Eq(Det(Matrix([\n",
       "[1,                    pw(mu[0], g2, g3),      Derivative(pw(mu[0], g2, g3), mu[0]), Derivative(pw(mu[0], g2, g3), (mu[0], 2)), Derivative(pw(mu[0], g2, g3), (mu[0], 3))],\n",
       "[0, Derivative(pw(mu[0], g2, g3), mu[0]), Derivative(pw(mu[0], g2, g3), (mu[0], 2)), Derivative(pw(mu[0], g2, g3), (mu[0], 3)), Derivative(pw(mu[0], g2, g3), (mu[0], 4))],\n",
       "[1,                    pw(mu[2], g2, g3),      Derivative(pw(mu[2], g2, g3), mu[2]), Derivative(pw(mu[2], g2, g3), (mu[2], 2)), Derivative(pw(mu[2], g2, g3), (mu[2], 3))],\n",
       "[1,                    pw(mu[3], g2, g3),      Derivative(pw(mu[3], g2, g3), mu[3]), Derivative(pw(mu[3], g2, g3), (mu[3], 2)), Derivative(pw(mu[3], g2, g3), (mu[3], 3))],\n",
       "[1,                        pw(z, g2, g3),              Derivative(pw(z, g2, g3), z),         Derivative(pw(z, g2, g3), (z, 2)),         Derivative(pw(z, g2, g3), (z, 3))]])), epsilon[2]**2*Det(Matrix([\n",
       "[1,                         pw(mu[0], g2, g3),      Derivative(pw(mu[0], g2, g3), mu[0]), Derivative(pw(mu[0], g2, g3), (mu[0], 2)), Derivative(pw(mu[0], g2, g3), (mu[0], 3))],\n",
       "[0,      Derivative(pw(mu[0], g2, g3), mu[0]), Derivative(pw(mu[0], g2, g3), (mu[0], 2)), Derivative(pw(mu[0], g2, g3), (mu[0], 3)), Derivative(pw(mu[0], g2, g3), (mu[0], 4))],\n",
       "[0, Derivative(pw(mu[0], g2, g3), (mu[0], 2)), Derivative(pw(mu[0], g2, g3), (mu[0], 3)), Derivative(pw(mu[0], g2, g3), (mu[0], 4)), Derivative(pw(mu[0], g2, g3), (mu[0], 5))],\n",
       "[1,                         pw(mu[3], g2, g3),      Derivative(pw(mu[3], g2, g3), mu[3]), Derivative(pw(mu[3], g2, g3), (mu[3], 2)), Derivative(pw(mu[3], g2, g3), (mu[3], 3))],\n",
       "[1,                             pw(z, g2, g3),              Derivative(pw(z, g2, g3), z),         Derivative(pw(z, g2, g3), (z, 2)),         Derivative(pw(z, g2, g3), (z, 3))]]))/2)"
      ]
     },
     "execution_count": 30,
     "metadata": {},
     "output_type": "execute_result"
    }
   ],
   "source": [
    "Mn_epsilon_2_factored = Eq(Det(Mn_epsilon_factored.rhs.args[1].args[0]), \n",
    "                           epsilon[2]**2/2*Det(M2n_b.subs(epsilon[2]**2,2)))\n",
    "Mn_epsilon_2_factored"
   ]
  },
  {
   "cell_type": "markdown",
   "id": "3d50f459",
   "metadata": {},
   "source": [
    "For the determinant in the denominator this becomes:"
   ]
  },
  {
   "cell_type": "code",
   "execution_count": 31,
   "id": "fcd3b5e7",
   "metadata": {},
   "outputs": [
    {
     "data": {
      "text/latex": [
       "$\\displaystyle \\operatorname{Det}{\\left(\\left[\\begin{matrix}1 & \\operatorname{pw}{\\left({\\mu}_{0},g_{2},g_{3} \\right)} & \\frac{\\partial}{\\partial {\\mu}_{0}} \\operatorname{pw}{\\left({\\mu}_{0},g_{2},g_{3} \\right)} & \\frac{\\partial^{2}}{\\partial {\\mu}_{0}^{2}} \\operatorname{pw}{\\left({\\mu}_{0},g_{2},g_{3} \\right)}\\\\0 & \\frac{\\partial}{\\partial {\\mu}_{0}} \\operatorname{pw}{\\left({\\mu}_{0},g_{2},g_{3} \\right)} & \\frac{\\partial^{2}}{\\partial {\\mu}_{0}^{2}} \\operatorname{pw}{\\left({\\mu}_{0},g_{2},g_{3} \\right)} & \\frac{\\partial^{3}}{\\partial {\\mu}_{0}^{3}} \\operatorname{pw}{\\left({\\mu}_{0},g_{2},g_{3} \\right)}\\\\1 & \\operatorname{pw}{\\left({\\mu}_{2},g_{2},g_{3} \\right)} & \\frac{\\partial}{\\partial {\\mu}_{2}} \\operatorname{pw}{\\left({\\mu}_{2},g_{2},g_{3} \\right)} & \\frac{\\partial^{2}}{\\partial {\\mu}_{2}^{2}} \\operatorname{pw}{\\left({\\mu}_{2},g_{2},g_{3} \\right)}\\\\1 & \\operatorname{pw}{\\left({\\mu}_{3},g_{2},g_{3} \\right)} & \\frac{\\partial}{\\partial {\\mu}_{3}} \\operatorname{pw}{\\left({\\mu}_{3},g_{2},g_{3} \\right)} & \\frac{\\partial^{2}}{\\partial {\\mu}_{3}^{2}} \\operatorname{pw}{\\left({\\mu}_{3},g_{2},g_{3} \\right)}\\end{matrix}\\right] \\right)} = \\operatorname{Det}{\\left(\\left[\\begin{matrix}1 & \\operatorname{pw}{\\left({\\mu}_{0},g_{2},g_{3} \\right)} & \\frac{\\partial}{\\partial {\\mu}_{0}} \\operatorname{pw}{\\left({\\mu}_{0},g_{2},g_{3} \\right)} & \\frac{\\partial^{2}}{\\partial {\\mu}_{0}^{2}} \\operatorname{pw}{\\left({\\mu}_{0},g_{2},g_{3} \\right)}\\\\0 & \\frac{\\partial}{\\partial {\\mu}_{0}} \\operatorname{pw}{\\left({\\mu}_{0},g_{2},g_{3} \\right)} & \\frac{\\partial^{2}}{\\partial {\\mu}_{0}^{2}} \\operatorname{pw}{\\left({\\mu}_{0},g_{2},g_{3} \\right)} & \\frac{\\partial^{3}}{\\partial {\\mu}_{0}^{3}} \\operatorname{pw}{\\left({\\mu}_{0},g_{2},g_{3} \\right)}\\\\0 & \\frac{\\frac{\\partial^{2}}{\\partial {\\mu}_{0}^{2}} \\operatorname{pw}{\\left({\\mu}_{0},g_{2},g_{3} \\right)} {\\epsilon}_{2}^{2}}{2} & \\frac{\\frac{\\partial^{3}}{\\partial {\\mu}_{0}^{3}} \\operatorname{pw}{\\left({\\mu}_{0},g_{2},g_{3} \\right)} {\\epsilon}_{2}^{2}}{2} & \\frac{\\frac{\\partial^{4}}{\\partial {\\mu}_{0}^{4}} \\operatorname{pw}{\\left({\\mu}_{0},g_{2},g_{3} \\right)} {\\epsilon}_{2}^{2}}{2}\\\\1 & \\operatorname{pw}{\\left({\\mu}_{3},g_{2},g_{3} \\right)} & \\frac{\\partial}{\\partial {\\mu}_{3}} \\operatorname{pw}{\\left({\\mu}_{3},g_{2},g_{3} \\right)} & \\frac{\\partial^{2}}{\\partial {\\mu}_{3}^{2}} \\operatorname{pw}{\\left({\\mu}_{3},g_{2},g_{3} \\right)}\\end{matrix}\\right] \\right)}$"
      ],
      "text/plain": [
       "Eq(Det(Matrix([\n",
       "[1,                    pw(mu[0], g2, g3),      Derivative(pw(mu[0], g2, g3), mu[0]), Derivative(pw(mu[0], g2, g3), (mu[0], 2))],\n",
       "[0, Derivative(pw(mu[0], g2, g3), mu[0]), Derivative(pw(mu[0], g2, g3), (mu[0], 2)), Derivative(pw(mu[0], g2, g3), (mu[0], 3))],\n",
       "[1,                    pw(mu[2], g2, g3),      Derivative(pw(mu[2], g2, g3), mu[2]), Derivative(pw(mu[2], g2, g3), (mu[2], 2))],\n",
       "[1,                    pw(mu[3], g2, g3),      Derivative(pw(mu[3], g2, g3), mu[3]), Derivative(pw(mu[3], g2, g3), (mu[3], 2))]])), Det(Matrix([\n",
       "[1,                                         pw(mu[0], g2, g3),                      Derivative(pw(mu[0], g2, g3), mu[0]),                 Derivative(pw(mu[0], g2, g3), (mu[0], 2))],\n",
       "[0,                      Derivative(pw(mu[0], g2, g3), mu[0]),                 Derivative(pw(mu[0], g2, g3), (mu[0], 2)),                 Derivative(pw(mu[0], g2, g3), (mu[0], 3))],\n",
       "[0, Derivative(pw(mu[0], g2, g3), (mu[0], 2))*epsilon[2]**2/2, Derivative(pw(mu[0], g2, g3), (mu[0], 3))*epsilon[2]**2/2, Derivative(pw(mu[0], g2, g3), (mu[0], 4))*epsilon[2]**2/2],\n",
       "[1,                                         pw(mu[3], g2, g3),                      Derivative(pw(mu[3], g2, g3), mu[3]),                 Derivative(pw(mu[3], g2, g3), (mu[3], 2))]])))"
      ]
     },
     "execution_count": 31,
     "metadata": {},
     "output_type": "execute_result"
    }
   ],
   "source": [
    "Eq(Det(Md_epsilon_factored.rhs.args[1].args[0]), Det(M2d_b))"
   ]
  },
  {
   "cell_type": "code",
   "execution_count": 32,
   "id": "c8a725b5",
   "metadata": {},
   "outputs": [
    {
     "data": {
      "text/latex": [
       "$\\displaystyle \\operatorname{Det}{\\left(\\left[\\begin{matrix}1 & \\operatorname{pw}{\\left({\\mu}_{0},g_{2},g_{3} \\right)} & \\frac{\\partial}{\\partial {\\mu}_{0}} \\operatorname{pw}{\\left({\\mu}_{0},g_{2},g_{3} \\right)} & \\frac{\\partial^{2}}{\\partial {\\mu}_{0}^{2}} \\operatorname{pw}{\\left({\\mu}_{0},g_{2},g_{3} \\right)}\\\\0 & \\frac{\\partial}{\\partial {\\mu}_{0}} \\operatorname{pw}{\\left({\\mu}_{0},g_{2},g_{3} \\right)} & \\frac{\\partial^{2}}{\\partial {\\mu}_{0}^{2}} \\operatorname{pw}{\\left({\\mu}_{0},g_{2},g_{3} \\right)} & \\frac{\\partial^{3}}{\\partial {\\mu}_{0}^{3}} \\operatorname{pw}{\\left({\\mu}_{0},g_{2},g_{3} \\right)}\\\\1 & \\operatorname{pw}{\\left({\\mu}_{2},g_{2},g_{3} \\right)} & \\frac{\\partial}{\\partial {\\mu}_{2}} \\operatorname{pw}{\\left({\\mu}_{2},g_{2},g_{3} \\right)} & \\frac{\\partial^{2}}{\\partial {\\mu}_{2}^{2}} \\operatorname{pw}{\\left({\\mu}_{2},g_{2},g_{3} \\right)}\\\\1 & \\operatorname{pw}{\\left({\\mu}_{3},g_{2},g_{3} \\right)} & \\frac{\\partial}{\\partial {\\mu}_{3}} \\operatorname{pw}{\\left({\\mu}_{3},g_{2},g_{3} \\right)} & \\frac{\\partial^{2}}{\\partial {\\mu}_{3}^{2}} \\operatorname{pw}{\\left({\\mu}_{3},g_{2},g_{3} \\right)}\\end{matrix}\\right] \\right)} = \\frac{{\\epsilon}_{2}^{2} \\operatorname{Det}{\\left(\\left[\\begin{matrix}1 & \\operatorname{pw}{\\left({\\mu}_{0},g_{2},g_{3} \\right)} & \\frac{\\partial}{\\partial {\\mu}_{0}} \\operatorname{pw}{\\left({\\mu}_{0},g_{2},g_{3} \\right)} & \\frac{\\partial^{2}}{\\partial {\\mu}_{0}^{2}} \\operatorname{pw}{\\left({\\mu}_{0},g_{2},g_{3} \\right)}\\\\0 & \\frac{\\partial}{\\partial {\\mu}_{0}} \\operatorname{pw}{\\left({\\mu}_{0},g_{2},g_{3} \\right)} & \\frac{\\partial^{2}}{\\partial {\\mu}_{0}^{2}} \\operatorname{pw}{\\left({\\mu}_{0},g_{2},g_{3} \\right)} & \\frac{\\partial^{3}}{\\partial {\\mu}_{0}^{3}} \\operatorname{pw}{\\left({\\mu}_{0},g_{2},g_{3} \\right)}\\\\0 & \\frac{\\partial^{2}}{\\partial {\\mu}_{0}^{2}} \\operatorname{pw}{\\left({\\mu}_{0},g_{2},g_{3} \\right)} & \\frac{\\partial^{3}}{\\partial {\\mu}_{0}^{3}} \\operatorname{pw}{\\left({\\mu}_{0},g_{2},g_{3} \\right)} & \\frac{\\partial^{4}}{\\partial {\\mu}_{0}^{4}} \\operatorname{pw}{\\left({\\mu}_{0},g_{2},g_{3} \\right)}\\\\1 & \\operatorname{pw}{\\left({\\mu}_{3},g_{2},g_{3} \\right)} & \\frac{\\partial}{\\partial {\\mu}_{3}} \\operatorname{pw}{\\left({\\mu}_{3},g_{2},g_{3} \\right)} & \\frac{\\partial^{2}}{\\partial {\\mu}_{3}^{2}} \\operatorname{pw}{\\left({\\mu}_{3},g_{2},g_{3} \\right)}\\end{matrix}\\right] \\right)}}{2}$"
      ],
      "text/plain": [
       "Eq(Det(Matrix([\n",
       "[1,                    pw(mu[0], g2, g3),      Derivative(pw(mu[0], g2, g3), mu[0]), Derivative(pw(mu[0], g2, g3), (mu[0], 2))],\n",
       "[0, Derivative(pw(mu[0], g2, g3), mu[0]), Derivative(pw(mu[0], g2, g3), (mu[0], 2)), Derivative(pw(mu[0], g2, g3), (mu[0], 3))],\n",
       "[1,                    pw(mu[2], g2, g3),      Derivative(pw(mu[2], g2, g3), mu[2]), Derivative(pw(mu[2], g2, g3), (mu[2], 2))],\n",
       "[1,                    pw(mu[3], g2, g3),      Derivative(pw(mu[3], g2, g3), mu[3]), Derivative(pw(mu[3], g2, g3), (mu[3], 2))]])), epsilon[2]**2*Det(Matrix([\n",
       "[1,                         pw(mu[0], g2, g3),      Derivative(pw(mu[0], g2, g3), mu[0]), Derivative(pw(mu[0], g2, g3), (mu[0], 2))],\n",
       "[0,      Derivative(pw(mu[0], g2, g3), mu[0]), Derivative(pw(mu[0], g2, g3), (mu[0], 2)), Derivative(pw(mu[0], g2, g3), (mu[0], 3))],\n",
       "[0, Derivative(pw(mu[0], g2, g3), (mu[0], 2)), Derivative(pw(mu[0], g2, g3), (mu[0], 3)), Derivative(pw(mu[0], g2, g3), (mu[0], 4))],\n",
       "[1,                         pw(mu[3], g2, g3),      Derivative(pw(mu[3], g2, g3), mu[3]), Derivative(pw(mu[3], g2, g3), (mu[3], 2))]]))/2)"
      ]
     },
     "execution_count": 32,
     "metadata": {},
     "output_type": "execute_result"
    }
   ],
   "source": [
    "Md_epsilon_2_factored = Eq(Det(Md_epsilon_factored.rhs.args[1].args[0]), \n",
    "                           epsilon[2]**2/2*Det(M2d_b.subs(epsilon[2]**2,2)))\n",
    "\n",
    "Md_epsilon_2_factored"
   ]
  },
  {
   "cell_type": "markdown",
   "id": "981e88c2",
   "metadata": {},
   "source": [
    "Therefore, when $\\mu_2 \\rightarrow \\mu_0$ this becomes:"
   ]
  },
  {
   "cell_type": "code",
   "execution_count": 33,
   "id": "8024b8fb",
   "metadata": {},
   "outputs": [
    {
     "data": {
      "text/latex": [
       "$\\displaystyle - \\frac{\\operatorname{Det}{\\left(\\left[\\begin{matrix}1 & \\operatorname{pw}{\\left({\\mu}_{0},g_{2},g_{3} \\right)} & \\frac{\\partial}{\\partial {\\mu}_{0}} \\operatorname{pw}{\\left({\\mu}_{0},g_{2},g_{3} \\right)} & \\frac{\\partial^{2}}{\\partial {\\mu}_{0}^{2}} \\operatorname{pw}{\\left({\\mu}_{0},g_{2},g_{3} \\right)} & \\frac{\\partial^{3}}{\\partial {\\mu}_{0}^{3}} \\operatorname{pw}{\\left({\\mu}_{0},g_{2},g_{3} \\right)}\\\\0 & \\frac{\\partial}{\\partial {\\mu}_{0}} \\operatorname{pw}{\\left({\\mu}_{0},g_{2},g_{3} \\right)} & \\frac{\\partial^{2}}{\\partial {\\mu}_{0}^{2}} \\operatorname{pw}{\\left({\\mu}_{0},g_{2},g_{3} \\right)} & \\frac{\\partial^{3}}{\\partial {\\mu}_{0}^{3}} \\operatorname{pw}{\\left({\\mu}_{0},g_{2},g_{3} \\right)} & \\frac{\\partial^{4}}{\\partial {\\mu}_{0}^{4}} \\operatorname{pw}{\\left({\\mu}_{0},g_{2},g_{3} \\right)}\\\\0 & \\frac{\\partial^{2}}{\\partial {\\mu}_{0}^{2}} \\operatorname{pw}{\\left({\\mu}_{0},g_{2},g_{3} \\right)} & \\frac{\\partial^{3}}{\\partial {\\mu}_{0}^{3}} \\operatorname{pw}{\\left({\\mu}_{0},g_{2},g_{3} \\right)} & \\frac{\\partial^{4}}{\\partial {\\mu}_{0}^{4}} \\operatorname{pw}{\\left({\\mu}_{0},g_{2},g_{3} \\right)} & \\frac{\\partial^{5}}{\\partial {\\mu}_{0}^{5}} \\operatorname{pw}{\\left({\\mu}_{0},g_{2},g_{3} \\right)}\\\\1 & \\operatorname{pw}{\\left({\\mu}_{3},g_{2},g_{3} \\right)} & \\frac{\\partial}{\\partial {\\mu}_{3}} \\operatorname{pw}{\\left({\\mu}_{3},g_{2},g_{3} \\right)} & \\frac{\\partial^{2}}{\\partial {\\mu}_{3}^{2}} \\operatorname{pw}{\\left({\\mu}_{3},g_{2},g_{3} \\right)} & \\frac{\\partial^{3}}{\\partial {\\mu}_{3}^{3}} \\operatorname{pw}{\\left({\\mu}_{3},g_{2},g_{3} \\right)}\\\\1 & \\operatorname{pw}{\\left(z,g_{2},g_{3} \\right)} & \\frac{\\partial}{\\partial z} \\operatorname{pw}{\\left(z,g_{2},g_{3} \\right)} & \\frac{\\partial^{2}}{\\partial z^{2}} \\operatorname{pw}{\\left(z,g_{2},g_{3} \\right)} & \\frac{\\partial^{3}}{\\partial z^{3}} \\operatorname{pw}{\\left(z,g_{2},g_{3} \\right)}\\end{matrix}\\right] \\right)} \\operatorname{Det}^{-1}{\\left(\\left[\\begin{matrix}1 & \\operatorname{pw}{\\left({\\mu}_{0},g_{2},g_{3} \\right)} & \\frac{\\partial}{\\partial {\\mu}_{0}} \\operatorname{pw}{\\left({\\mu}_{0},g_{2},g_{3} \\right)} & \\frac{\\partial^{2}}{\\partial {\\mu}_{0}^{2}} \\operatorname{pw}{\\left({\\mu}_{0},g_{2},g_{3} \\right)}\\\\0 & \\frac{\\partial}{\\partial {\\mu}_{0}} \\operatorname{pw}{\\left({\\mu}_{0},g_{2},g_{3} \\right)} & \\frac{\\partial^{2}}{\\partial {\\mu}_{0}^{2}} \\operatorname{pw}{\\left({\\mu}_{0},g_{2},g_{3} \\right)} & \\frac{\\partial^{3}}{\\partial {\\mu}_{0}^{3}} \\operatorname{pw}{\\left({\\mu}_{0},g_{2},g_{3} \\right)}\\\\0 & \\frac{\\partial^{2}}{\\partial {\\mu}_{0}^{2}} \\operatorname{pw}{\\left({\\mu}_{0},g_{2},g_{3} \\right)} & \\frac{\\partial^{3}}{\\partial {\\mu}_{0}^{3}} \\operatorname{pw}{\\left({\\mu}_{0},g_{2},g_{3} \\right)} & \\frac{\\partial^{4}}{\\partial {\\mu}_{0}^{4}} \\operatorname{pw}{\\left({\\mu}_{0},g_{2},g_{3} \\right)}\\\\1 & \\operatorname{pw}{\\left({\\mu}_{3},g_{2},g_{3} \\right)} & \\frac{\\partial}{\\partial {\\mu}_{3}} \\operatorname{pw}{\\left({\\mu}_{3},g_{2},g_{3} \\right)} & \\frac{\\partial^{2}}{\\partial {\\mu}_{3}^{2}} \\operatorname{pw}{\\left({\\mu}_{3},g_{2},g_{3} \\right)}\\end{matrix}\\right] \\right)}}{24} = - \\frac{\\sigma^{3}{\\left(z - {\\mu}_{0},g_{2},g_{3} \\right)} \\sigma{\\left(z - {\\mu}_{3},g_{2},g_{3} \\right)} \\sigma{\\left(z + 3 {\\mu}_{0} + {\\mu}_{3},g_{2},g_{3} \\right)}}{\\sigma^{5}{\\left(z,g_{2},g_{3} \\right)} \\sigma{\\left(- 3 {\\mu}_{0} - {\\mu}_{3},g_{2},g_{3} \\right)} \\sigma^{3}{\\left({\\mu}_{0},g_{2},g_{3} \\right)} \\sigma{\\left({\\mu}_{3},g_{2},g_{3} \\right)}}$"
      ],
      "text/plain": [
       "Eq(-Det(Matrix([\n",
       "[1,                         pw(mu[0], g2, g3),      Derivative(pw(mu[0], g2, g3), mu[0]), Derivative(pw(mu[0], g2, g3), (mu[0], 2)), Derivative(pw(mu[0], g2, g3), (mu[0], 3))],\n",
       "[0,      Derivative(pw(mu[0], g2, g3), mu[0]), Derivative(pw(mu[0], g2, g3), (mu[0], 2)), Derivative(pw(mu[0], g2, g3), (mu[0], 3)), Derivative(pw(mu[0], g2, g3), (mu[0], 4))],\n",
       "[0, Derivative(pw(mu[0], g2, g3), (mu[0], 2)), Derivative(pw(mu[0], g2, g3), (mu[0], 3)), Derivative(pw(mu[0], g2, g3), (mu[0], 4)), Derivative(pw(mu[0], g2, g3), (mu[0], 5))],\n",
       "[1,                         pw(mu[3], g2, g3),      Derivative(pw(mu[3], g2, g3), mu[3]), Derivative(pw(mu[3], g2, g3), (mu[3], 2)), Derivative(pw(mu[3], g2, g3), (mu[3], 3))],\n",
       "[1,                             pw(z, g2, g3),              Derivative(pw(z, g2, g3), z),         Derivative(pw(z, g2, g3), (z, 2)),         Derivative(pw(z, g2, g3), (z, 3))]]))*Det(Matrix([\n",
       "[1,                         pw(mu[0], g2, g3),      Derivative(pw(mu[0], g2, g3), mu[0]), Derivative(pw(mu[0], g2, g3), (mu[0], 2))],\n",
       "[0,      Derivative(pw(mu[0], g2, g3), mu[0]), Derivative(pw(mu[0], g2, g3), (mu[0], 2)), Derivative(pw(mu[0], g2, g3), (mu[0], 3))],\n",
       "[0, Derivative(pw(mu[0], g2, g3), (mu[0], 2)), Derivative(pw(mu[0], g2, g3), (mu[0], 3)), Derivative(pw(mu[0], g2, g3), (mu[0], 4))],\n",
       "[1,                         pw(mu[3], g2, g3),      Derivative(pw(mu[3], g2, g3), mu[3]), Derivative(pw(mu[3], g2, g3), (mu[3], 2))]]))**(-1)/24, -sigma(z - mu[0], g2, g3)**3*sigma(z - mu[3], g2, g3)*sigma(z + 3*mu[0] + mu[3], g2, g3)/(sigma(z, g2, g3)**5*sigma(-3*mu[0] - mu[3], g2, g3)*sigma(mu[0], g2, g3)**3*sigma(mu[3], g2, g3)))"
      ]
     },
     "execution_count": 33,
     "metadata": {},
     "output_type": "execute_result"
    }
   ],
   "source": [
    "example_det_formula_limit_2 = example_det_formula_limit.subs([Mn_epsilon_2_factored.args, Md_epsilon_2_factored.args]).subs(mu[2], mu[0])\n",
    "example_det_formula_limit_2"
   ]
  },
  {
   "cell_type": "markdown",
   "id": "cd68e7f6",
   "metadata": {},
   "source": [
    "## General completely degenerate case"
   ]
  },
  {
   "cell_type": "code",
   "execution_count": 34,
   "id": "3402fdf1",
   "metadata": {},
   "outputs": [],
   "source": [
    "def diff_mu_0_deg(Nval):\n",
    "    return Matrix([\n",
    "        [1 if j == 0 else 0, *[diff(pw(mu[0], g2, g3), (mu[0], i + j)) for i in range(Nval - 1)]]\n",
    "        for j in range(Nval)\n",
    "    ])\n",
    "\n",
    "def diff_mu_0_z_deg(Nval):\n",
    "    return Matrix([\n",
    "        *[\n",
    "            [1 if j == 0 else 0, *[diff(pw(mu[0], g2, g3), (mu[0], i + j)) for i in range(Nval)]]\n",
    "            for j in range(Nval)\n",
    "        ],\n",
    "        [1, *[diff(pw(z, g2, g3), (z, i)) for i in range(Nval)]]\n",
    "   ])\n",
    "\n",
    "def det_ratio_deg_case(Nval, evaluated=False):\n",
    "    if evaluated:\n",
    "        return Eq(1/factorial(Nval) * det(diff_mu_0_z_deg(Nval))/det(diff_mu_0_deg(Nval)), \n",
    "                  -sigma(z - mu[0], g2, g3)**Nval*sigma(z + Nval*mu[0], g2, g3)\n",
    "                  /sigma(Nval*mu[0], g2, g3)/sigma(mu[0], g2, g3)**Nval/sigma(z, g2, g3)**(Nval +1))\n",
    "    return Eq(1/factorial(Nval) * Det(diff_mu_0_z_deg(Nval))/Det(diff_mu_0_deg(Nval)),\n",
    "              -sigma(z - mu[0], g2, g3)**Nval*sigma(z + Nval*mu[0], g2, g3)\n",
    "                  /sigma(Nval*mu[0], g2, g3)/sigma(mu[0], g2, g3)**Nval/sigma(z, g2, g3)**(Nval+1))\n",
    "    "
   ]
  },
  {
   "cell_type": "code",
   "execution_count": 35,
   "id": "09c068c8",
   "metadata": {},
   "outputs": [
    {
     "data": {
      "text/latex": [
       "$\\displaystyle \\operatorname{Det}{\\left(\\left[\\begin{matrix}1 & \\operatorname{pw}{\\left({\\mu}_{0},g_{2},g_{3} \\right)}\\\\1 & \\operatorname{pw}{\\left(z,g_{2},g_{3} \\right)}\\end{matrix}\\right] \\right)} \\operatorname{Det}^{-1}{\\left(\\left[\\begin{matrix}1\\end{matrix}\\right] \\right)} = - \\frac{\\sigma{\\left(z - {\\mu}_{0},g_{2},g_{3} \\right)} \\sigma{\\left(z + {\\mu}_{0},g_{2},g_{3} \\right)}}{\\sigma^{2}{\\left(z,g_{2},g_{3} \\right)} \\sigma^{2}{\\left({\\mu}_{0},g_{2},g_{3} \\right)}}$"
      ],
      "text/plain": [
       "Eq(Det(Matrix([\n",
       "[1, pw(mu[0], g2, g3)],\n",
       "[1,     pw(z, g2, g3)]]))*Det(Matrix([[1]]))**(-1), -sigma(z - mu[0], g2, g3)*sigma(z + mu[0], g2, g3)/(sigma(z, g2, g3)**2*sigma(mu[0], g2, g3)**2))"
      ]
     },
     "execution_count": 35,
     "metadata": {},
     "output_type": "execute_result"
    }
   ],
   "source": [
    "det_ratio_deg_case(1)"
   ]
  },
  {
   "cell_type": "code",
   "execution_count": 36,
   "id": "fefe62d7",
   "metadata": {},
   "outputs": [
    {
     "data": {
      "text/latex": [
       "$\\displaystyle \\frac{\\operatorname{Det}{\\left(\\left[\\begin{matrix}1 & \\operatorname{pw}{\\left({\\mu}_{0},g_{2},g_{3} \\right)} & \\frac{\\partial}{\\partial {\\mu}_{0}} \\operatorname{pw}{\\left({\\mu}_{0},g_{2},g_{3} \\right)}\\\\0 & \\frac{\\partial}{\\partial {\\mu}_{0}} \\operatorname{pw}{\\left({\\mu}_{0},g_{2},g_{3} \\right)} & \\frac{\\partial^{2}}{\\partial {\\mu}_{0}^{2}} \\operatorname{pw}{\\left({\\mu}_{0},g_{2},g_{3} \\right)}\\\\1 & \\operatorname{pw}{\\left(z,g_{2},g_{3} \\right)} & \\frac{\\partial}{\\partial z} \\operatorname{pw}{\\left(z,g_{2},g_{3} \\right)}\\end{matrix}\\right] \\right)} \\operatorname{Det}^{-1}{\\left(\\left[\\begin{matrix}1 & \\operatorname{pw}{\\left({\\mu}_{0},g_{2},g_{3} \\right)}\\\\0 & \\frac{\\partial}{\\partial {\\mu}_{0}} \\operatorname{pw}{\\left({\\mu}_{0},g_{2},g_{3} \\right)}\\end{matrix}\\right] \\right)}}{2} = - \\frac{\\sigma^{2}{\\left(z - {\\mu}_{0},g_{2},g_{3} \\right)} \\sigma{\\left(z + 2 {\\mu}_{0},g_{2},g_{3} \\right)}}{\\sigma^{3}{\\left(z,g_{2},g_{3} \\right)} \\sigma^{2}{\\left({\\mu}_{0},g_{2},g_{3} \\right)} \\sigma{\\left(2 {\\mu}_{0},g_{2},g_{3} \\right)}}$"
      ],
      "text/plain": [
       "Eq(Det(Matrix([\n",
       "[1,                    pw(mu[0], g2, g3),      Derivative(pw(mu[0], g2, g3), mu[0])],\n",
       "[0, Derivative(pw(mu[0], g2, g3), mu[0]), Derivative(pw(mu[0], g2, g3), (mu[0], 2))],\n",
       "[1,                        pw(z, g2, g3),              Derivative(pw(z, g2, g3), z)]]))*Det(Matrix([\n",
       "[1,                    pw(mu[0], g2, g3)],\n",
       "[0, Derivative(pw(mu[0], g2, g3), mu[0])]]))**(-1)/2, -sigma(z - mu[0], g2, g3)**2*sigma(z + 2*mu[0], g2, g3)/(sigma(z, g2, g3)**3*sigma(mu[0], g2, g3)**2*sigma(2*mu[0], g2, g3)))"
      ]
     },
     "execution_count": 36,
     "metadata": {},
     "output_type": "execute_result"
    }
   ],
   "source": [
    "det_ratio_deg_case(2)"
   ]
  },
  {
   "cell_type": "code",
   "execution_count": 37,
   "id": "9f82e60a",
   "metadata": {},
   "outputs": [
    {
     "data": {
      "text/latex": [
       "$\\displaystyle \\frac{\\operatorname{Det}{\\left(\\left[\\begin{matrix}1 & \\operatorname{pw}{\\left({\\mu}_{0},g_{2},g_{3} \\right)} & \\frac{\\partial}{\\partial {\\mu}_{0}} \\operatorname{pw}{\\left({\\mu}_{0},g_{2},g_{3} \\right)} & \\frac{\\partial^{2}}{\\partial {\\mu}_{0}^{2}} \\operatorname{pw}{\\left({\\mu}_{0},g_{2},g_{3} \\right)}\\\\0 & \\frac{\\partial}{\\partial {\\mu}_{0}} \\operatorname{pw}{\\left({\\mu}_{0},g_{2},g_{3} \\right)} & \\frac{\\partial^{2}}{\\partial {\\mu}_{0}^{2}} \\operatorname{pw}{\\left({\\mu}_{0},g_{2},g_{3} \\right)} & \\frac{\\partial^{3}}{\\partial {\\mu}_{0}^{3}} \\operatorname{pw}{\\left({\\mu}_{0},g_{2},g_{3} \\right)}\\\\0 & \\frac{\\partial^{2}}{\\partial {\\mu}_{0}^{2}} \\operatorname{pw}{\\left({\\mu}_{0},g_{2},g_{3} \\right)} & \\frac{\\partial^{3}}{\\partial {\\mu}_{0}^{3}} \\operatorname{pw}{\\left({\\mu}_{0},g_{2},g_{3} \\right)} & \\frac{\\partial^{4}}{\\partial {\\mu}_{0}^{4}} \\operatorname{pw}{\\left({\\mu}_{0},g_{2},g_{3} \\right)}\\\\1 & \\operatorname{pw}{\\left(z,g_{2},g_{3} \\right)} & \\frac{\\partial}{\\partial z} \\operatorname{pw}{\\left(z,g_{2},g_{3} \\right)} & \\frac{\\partial^{2}}{\\partial z^{2}} \\operatorname{pw}{\\left(z,g_{2},g_{3} \\right)}\\end{matrix}\\right] \\right)} \\operatorname{Det}^{-1}{\\left(\\left[\\begin{matrix}1 & \\operatorname{pw}{\\left({\\mu}_{0},g_{2},g_{3} \\right)} & \\frac{\\partial}{\\partial {\\mu}_{0}} \\operatorname{pw}{\\left({\\mu}_{0},g_{2},g_{3} \\right)}\\\\0 & \\frac{\\partial}{\\partial {\\mu}_{0}} \\operatorname{pw}{\\left({\\mu}_{0},g_{2},g_{3} \\right)} & \\frac{\\partial^{2}}{\\partial {\\mu}_{0}^{2}} \\operatorname{pw}{\\left({\\mu}_{0},g_{2},g_{3} \\right)}\\\\0 & \\frac{\\partial^{2}}{\\partial {\\mu}_{0}^{2}} \\operatorname{pw}{\\left({\\mu}_{0},g_{2},g_{3} \\right)} & \\frac{\\partial^{3}}{\\partial {\\mu}_{0}^{3}} \\operatorname{pw}{\\left({\\mu}_{0},g_{2},g_{3} \\right)}\\end{matrix}\\right] \\right)}}{6} = - \\frac{\\sigma^{3}{\\left(z - {\\mu}_{0},g_{2},g_{3} \\right)} \\sigma{\\left(z + 3 {\\mu}_{0},g_{2},g_{3} \\right)}}{\\sigma^{4}{\\left(z,g_{2},g_{3} \\right)} \\sigma^{3}{\\left({\\mu}_{0},g_{2},g_{3} \\right)} \\sigma{\\left(3 {\\mu}_{0},g_{2},g_{3} \\right)}}$"
      ],
      "text/plain": [
       "Eq(Det(Matrix([\n",
       "[1,                         pw(mu[0], g2, g3),      Derivative(pw(mu[0], g2, g3), mu[0]), Derivative(pw(mu[0], g2, g3), (mu[0], 2))],\n",
       "[0,      Derivative(pw(mu[0], g2, g3), mu[0]), Derivative(pw(mu[0], g2, g3), (mu[0], 2)), Derivative(pw(mu[0], g2, g3), (mu[0], 3))],\n",
       "[0, Derivative(pw(mu[0], g2, g3), (mu[0], 2)), Derivative(pw(mu[0], g2, g3), (mu[0], 3)), Derivative(pw(mu[0], g2, g3), (mu[0], 4))],\n",
       "[1,                             pw(z, g2, g3),              Derivative(pw(z, g2, g3), z),         Derivative(pw(z, g2, g3), (z, 2))]]))*Det(Matrix([\n",
       "[1,                         pw(mu[0], g2, g3),      Derivative(pw(mu[0], g2, g3), mu[0])],\n",
       "[0,      Derivative(pw(mu[0], g2, g3), mu[0]), Derivative(pw(mu[0], g2, g3), (mu[0], 2))],\n",
       "[0, Derivative(pw(mu[0], g2, g3), (mu[0], 2)), Derivative(pw(mu[0], g2, g3), (mu[0], 3))]]))**(-1)/6, -sigma(z - mu[0], g2, g3)**3*sigma(z + 3*mu[0], g2, g3)/(sigma(z, g2, g3)**4*sigma(mu[0], g2, g3)**3*sigma(3*mu[0], g2, g3)))"
      ]
     },
     "execution_count": 37,
     "metadata": {},
     "output_type": "execute_result"
    }
   ],
   "source": [
    "det_ratio_deg_case(3)"
   ]
  },
  {
   "cell_type": "code",
   "execution_count": 38,
   "id": "7f4b0e13",
   "metadata": {},
   "outputs": [
    {
     "data": {
      "text/latex": [
       "$\\displaystyle \\frac{\\operatorname{Det}{\\left(\\left[\\begin{matrix}1 & \\operatorname{pw}{\\left({\\mu}_{0},g_{2},g_{3} \\right)} & \\frac{\\partial}{\\partial {\\mu}_{0}} \\operatorname{pw}{\\left({\\mu}_{0},g_{2},g_{3} \\right)} & \\frac{\\partial^{2}}{\\partial {\\mu}_{0}^{2}} \\operatorname{pw}{\\left({\\mu}_{0},g_{2},g_{3} \\right)} & \\frac{\\partial^{3}}{\\partial {\\mu}_{0}^{3}} \\operatorname{pw}{\\left({\\mu}_{0},g_{2},g_{3} \\right)}\\\\0 & \\frac{\\partial}{\\partial {\\mu}_{0}} \\operatorname{pw}{\\left({\\mu}_{0},g_{2},g_{3} \\right)} & \\frac{\\partial^{2}}{\\partial {\\mu}_{0}^{2}} \\operatorname{pw}{\\left({\\mu}_{0},g_{2},g_{3} \\right)} & \\frac{\\partial^{3}}{\\partial {\\mu}_{0}^{3}} \\operatorname{pw}{\\left({\\mu}_{0},g_{2},g_{3} \\right)} & \\frac{\\partial^{4}}{\\partial {\\mu}_{0}^{4}} \\operatorname{pw}{\\left({\\mu}_{0},g_{2},g_{3} \\right)}\\\\0 & \\frac{\\partial^{2}}{\\partial {\\mu}_{0}^{2}} \\operatorname{pw}{\\left({\\mu}_{0},g_{2},g_{3} \\right)} & \\frac{\\partial^{3}}{\\partial {\\mu}_{0}^{3}} \\operatorname{pw}{\\left({\\mu}_{0},g_{2},g_{3} \\right)} & \\frac{\\partial^{4}}{\\partial {\\mu}_{0}^{4}} \\operatorname{pw}{\\left({\\mu}_{0},g_{2},g_{3} \\right)} & \\frac{\\partial^{5}}{\\partial {\\mu}_{0}^{5}} \\operatorname{pw}{\\left({\\mu}_{0},g_{2},g_{3} \\right)}\\\\0 & \\frac{\\partial^{3}}{\\partial {\\mu}_{0}^{3}} \\operatorname{pw}{\\left({\\mu}_{0},g_{2},g_{3} \\right)} & \\frac{\\partial^{4}}{\\partial {\\mu}_{0}^{4}} \\operatorname{pw}{\\left({\\mu}_{0},g_{2},g_{3} \\right)} & \\frac{\\partial^{5}}{\\partial {\\mu}_{0}^{5}} \\operatorname{pw}{\\left({\\mu}_{0},g_{2},g_{3} \\right)} & \\frac{\\partial^{6}}{\\partial {\\mu}_{0}^{6}} \\operatorname{pw}{\\left({\\mu}_{0},g_{2},g_{3} \\right)}\\\\1 & \\operatorname{pw}{\\left(z,g_{2},g_{3} \\right)} & \\frac{\\partial}{\\partial z} \\operatorname{pw}{\\left(z,g_{2},g_{3} \\right)} & \\frac{\\partial^{2}}{\\partial z^{2}} \\operatorname{pw}{\\left(z,g_{2},g_{3} \\right)} & \\frac{\\partial^{3}}{\\partial z^{3}} \\operatorname{pw}{\\left(z,g_{2},g_{3} \\right)}\\end{matrix}\\right] \\right)} \\operatorname{Det}^{-1}{\\left(\\left[\\begin{matrix}1 & \\operatorname{pw}{\\left({\\mu}_{0},g_{2},g_{3} \\right)} & \\frac{\\partial}{\\partial {\\mu}_{0}} \\operatorname{pw}{\\left({\\mu}_{0},g_{2},g_{3} \\right)} & \\frac{\\partial^{2}}{\\partial {\\mu}_{0}^{2}} \\operatorname{pw}{\\left({\\mu}_{0},g_{2},g_{3} \\right)}\\\\0 & \\frac{\\partial}{\\partial {\\mu}_{0}} \\operatorname{pw}{\\left({\\mu}_{0},g_{2},g_{3} \\right)} & \\frac{\\partial^{2}}{\\partial {\\mu}_{0}^{2}} \\operatorname{pw}{\\left({\\mu}_{0},g_{2},g_{3} \\right)} & \\frac{\\partial^{3}}{\\partial {\\mu}_{0}^{3}} \\operatorname{pw}{\\left({\\mu}_{0},g_{2},g_{3} \\right)}\\\\0 & \\frac{\\partial^{2}}{\\partial {\\mu}_{0}^{2}} \\operatorname{pw}{\\left({\\mu}_{0},g_{2},g_{3} \\right)} & \\frac{\\partial^{3}}{\\partial {\\mu}_{0}^{3}} \\operatorname{pw}{\\left({\\mu}_{0},g_{2},g_{3} \\right)} & \\frac{\\partial^{4}}{\\partial {\\mu}_{0}^{4}} \\operatorname{pw}{\\left({\\mu}_{0},g_{2},g_{3} \\right)}\\\\0 & \\frac{\\partial^{3}}{\\partial {\\mu}_{0}^{3}} \\operatorname{pw}{\\left({\\mu}_{0},g_{2},g_{3} \\right)} & \\frac{\\partial^{4}}{\\partial {\\mu}_{0}^{4}} \\operatorname{pw}{\\left({\\mu}_{0},g_{2},g_{3} \\right)} & \\frac{\\partial^{5}}{\\partial {\\mu}_{0}^{5}} \\operatorname{pw}{\\left({\\mu}_{0},g_{2},g_{3} \\right)}\\end{matrix}\\right] \\right)}}{24} = - \\frac{\\sigma^{4}{\\left(z - {\\mu}_{0},g_{2},g_{3} \\right)} \\sigma{\\left(z + 4 {\\mu}_{0},g_{2},g_{3} \\right)}}{\\sigma^{5}{\\left(z,g_{2},g_{3} \\right)} \\sigma^{4}{\\left({\\mu}_{0},g_{2},g_{3} \\right)} \\sigma{\\left(4 {\\mu}_{0},g_{2},g_{3} \\right)}}$"
      ],
      "text/plain": [
       "Eq(Det(Matrix([\n",
       "[1,                         pw(mu[0], g2, g3),      Derivative(pw(mu[0], g2, g3), mu[0]), Derivative(pw(mu[0], g2, g3), (mu[0], 2)), Derivative(pw(mu[0], g2, g3), (mu[0], 3))],\n",
       "[0,      Derivative(pw(mu[0], g2, g3), mu[0]), Derivative(pw(mu[0], g2, g3), (mu[0], 2)), Derivative(pw(mu[0], g2, g3), (mu[0], 3)), Derivative(pw(mu[0], g2, g3), (mu[0], 4))],\n",
       "[0, Derivative(pw(mu[0], g2, g3), (mu[0], 2)), Derivative(pw(mu[0], g2, g3), (mu[0], 3)), Derivative(pw(mu[0], g2, g3), (mu[0], 4)), Derivative(pw(mu[0], g2, g3), (mu[0], 5))],\n",
       "[0, Derivative(pw(mu[0], g2, g3), (mu[0], 3)), Derivative(pw(mu[0], g2, g3), (mu[0], 4)), Derivative(pw(mu[0], g2, g3), (mu[0], 5)), Derivative(pw(mu[0], g2, g3), (mu[0], 6))],\n",
       "[1,                             pw(z, g2, g3),              Derivative(pw(z, g2, g3), z),         Derivative(pw(z, g2, g3), (z, 2)),         Derivative(pw(z, g2, g3), (z, 3))]]))*Det(Matrix([\n",
       "[1,                         pw(mu[0], g2, g3),      Derivative(pw(mu[0], g2, g3), mu[0]), Derivative(pw(mu[0], g2, g3), (mu[0], 2))],\n",
       "[0,      Derivative(pw(mu[0], g2, g3), mu[0]), Derivative(pw(mu[0], g2, g3), (mu[0], 2)), Derivative(pw(mu[0], g2, g3), (mu[0], 3))],\n",
       "[0, Derivative(pw(mu[0], g2, g3), (mu[0], 2)), Derivative(pw(mu[0], g2, g3), (mu[0], 3)), Derivative(pw(mu[0], g2, g3), (mu[0], 4))],\n",
       "[0, Derivative(pw(mu[0], g2, g3), (mu[0], 3)), Derivative(pw(mu[0], g2, g3), (mu[0], 4)), Derivative(pw(mu[0], g2, g3), (mu[0], 5))]]))**(-1)/24, -sigma(z - mu[0], g2, g3)**4*sigma(z + 4*mu[0], g2, g3)/(sigma(z, g2, g3)**5*sigma(mu[0], g2, g3)**4*sigma(4*mu[0], g2, g3)))"
      ]
     },
     "execution_count": 38,
     "metadata": {},
     "output_type": "execute_result"
    }
   ],
   "source": [
    "det_ratio_deg_case(4)"
   ]
  },
  {
   "cell_type": "markdown",
   "id": "345e9ed1",
   "metadata": {},
   "source": [
    "## Expressing the degenerate determinant in the denominator in terms of Weierstrass sigma\n",
    "\n",
    "The limiting process followed thus far can be used to find an expression for the determinant in the denominator in terms of Weierstrass sigma functions using the Frob Stickelberger formula in its original form. The result is the well known Keipert formula."
   ]
  },
  {
   "cell_type": "code",
   "execution_count": 39,
   "id": "71326cad",
   "metadata": {},
   "outputs": [
    {
     "data": {
      "text/latex": [
       "$\\displaystyle \\operatorname{WPdet}{\\left(N \\right)} = \\frac{\\left(-1\\right)^{\\frac{N \\left(N - 1\\right)}{2}} \\left(\\sigma{\\left(\\sum_{j=0}^{N} {\\mu}_{j},g_{2},g_{3} \\right)}\\right) \\left(\\prod_{k=1}^{N} k!\\right) \\prod_{\\substack{0 \\leq l \\leq N\\\\0 \\leq m \\leq N}} \\begin{cases} \\sigma{\\left({\\mu}_{l} - {\\mu}_{m},g_{2},g_{3} \\right)} & \\text{for}\\: l < m \\\\1 & \\text{otherwise} \\end{cases}}{\\prod_{n=0}^{N} \\sigma^{N + 1}{\\left({\\mu}_{n},g_{2},g_{3} \\right)}}$"
      ],
      "text/plain": [
       "Eq(WPdet(N), (-1)**(N*(N - 1)/2)*sigma(Sum(mu[j], (j, 0, N)), g2, g3)*Product(factorial(k), (k, 1, N))*Product(Piecewise((sigma(mu[l] - mu[m], g2, g3), l < m), (1, True)), (l, 0, N), (m, 0, N))/Product(sigma(mu[n], g2, g3)**(N + 1), (n, 0, N)))"
      ]
     },
     "execution_count": 39,
     "metadata": {},
     "output_type": "execute_result"
    }
   ],
   "source": [
    "Eq(WPdet(N), sigma_product_f_s)"
   ]
  },
  {
   "cell_type": "markdown",
   "id": "0caf8b28",
   "metadata": {},
   "source": [
    "### Examples"
   ]
  },
  {
   "cell_type": "markdown",
   "id": "d3c8d12d",
   "metadata": {},
   "source": [
    "Consider the following as $\\mu_j \\rightarrow \\mu_0$:"
   ]
  },
  {
   "cell_type": "code",
   "execution_count": 40,
   "id": "53e09ddc",
   "metadata": {},
   "outputs": [
    {
     "data": {
      "text/latex": [
       "$\\displaystyle \\operatorname{Det}{\\left(\\left[\\begin{matrix}1 & \\operatorname{pw}{\\left({\\mu}_{0},g_{2},g_{3} \\right)} & \\frac{\\partial}{\\partial {\\mu}_{0}} \\operatorname{pw}{\\left({\\mu}_{0},g_{2},g_{3} \\right)} & \\frac{\\partial^{2}}{\\partial {\\mu}_{0}^{2}} \\operatorname{pw}{\\left({\\mu}_{0},g_{2},g_{3} \\right)}\\\\1 & \\operatorname{pw}{\\left({\\mu}_{1},g_{2},g_{3} \\right)} & \\frac{\\partial}{\\partial {\\mu}_{1}} \\operatorname{pw}{\\left({\\mu}_{1},g_{2},g_{3} \\right)} & \\frac{\\partial^{2}}{\\partial {\\mu}_{1}^{2}} \\operatorname{pw}{\\left({\\mu}_{1},g_{2},g_{3} \\right)}\\\\1 & \\operatorname{pw}{\\left({\\mu}_{2},g_{2},g_{3} \\right)} & \\frac{\\partial}{\\partial {\\mu}_{2}} \\operatorname{pw}{\\left({\\mu}_{2},g_{2},g_{3} \\right)} & \\frac{\\partial^{2}}{\\partial {\\mu}_{2}^{2}} \\operatorname{pw}{\\left({\\mu}_{2},g_{2},g_{3} \\right)}\\\\1 & \\operatorname{pw}{\\left({\\mu}_{3},g_{2},g_{3} \\right)} & \\frac{\\partial}{\\partial {\\mu}_{3}} \\operatorname{pw}{\\left({\\mu}_{3},g_{2},g_{3} \\right)} & \\frac{\\partial^{2}}{\\partial {\\mu}_{3}^{2}} \\operatorname{pw}{\\left({\\mu}_{3},g_{2},g_{3} \\right)}\\end{matrix}\\right] \\right)} = - \\frac{12 \\sigma{\\left({\\mu}_{0} - {\\mu}_{1},g_{2},g_{3} \\right)} \\sigma{\\left({\\mu}_{0} - {\\mu}_{2},g_{2},g_{3} \\right)} \\sigma{\\left({\\mu}_{0} - {\\mu}_{3},g_{2},g_{3} \\right)} \\sigma{\\left({\\mu}_{1} - {\\mu}_{2},g_{2},g_{3} \\right)} \\sigma{\\left({\\mu}_{1} - {\\mu}_{3},g_{2},g_{3} \\right)} \\sigma{\\left({\\mu}_{2} - {\\mu}_{3},g_{2},g_{3} \\right)} \\sigma{\\left({\\mu}_{0} + {\\mu}_{1} + {\\mu}_{2} + {\\mu}_{3},g_{2},g_{3} \\right)}}{\\sigma^{4}{\\left({\\mu}_{0},g_{2},g_{3} \\right)} \\sigma^{4}{\\left({\\mu}_{1},g_{2},g_{3} \\right)} \\sigma^{4}{\\left({\\mu}_{2},g_{2},g_{3} \\right)} \\sigma^{4}{\\left({\\mu}_{3},g_{2},g_{3} \\right)}}$"
      ],
      "text/plain": [
       "Eq(Det(Matrix([\n",
       "[1, pw(mu[0], g2, g3), Derivative(pw(mu[0], g2, g3), mu[0]), Derivative(pw(mu[0], g2, g3), (mu[0], 2))],\n",
       "[1, pw(mu[1], g2, g3), Derivative(pw(mu[1], g2, g3), mu[1]), Derivative(pw(mu[1], g2, g3), (mu[1], 2))],\n",
       "[1, pw(mu[2], g2, g3), Derivative(pw(mu[2], g2, g3), mu[2]), Derivative(pw(mu[2], g2, g3), (mu[2], 2))],\n",
       "[1, pw(mu[3], g2, g3), Derivative(pw(mu[3], g2, g3), mu[3]), Derivative(pw(mu[3], g2, g3), (mu[3], 2))]])), -12*sigma(mu[0] - mu[1], g2, g3)*sigma(mu[0] - mu[2], g2, g3)*sigma(mu[0] - mu[3], g2, g3)*sigma(mu[1] - mu[2], g2, g3)*sigma(mu[1] - mu[3], g2, g3)*sigma(mu[2] - mu[3], g2, g3)*sigma(mu[0] + mu[1] + mu[2] + mu[3], g2, g3)/(sigma(mu[0], g2, g3)**4*sigma(mu[1], g2, g3)**4*sigma(mu[2], g2, g3)**4*sigma(mu[3], g2, g3)**4))"
      ]
     },
     "execution_count": 40,
     "metadata": {},
     "output_type": "execute_result"
    }
   ],
   "source": [
    "FS3_det = frob_stick(Nval=3, evaluated=False, WPversion=False)\n",
    "FS3 = FS3_det.lhs.args[0]\n",
    "FS3_det"
   ]
  },
  {
   "cell_type": "code",
   "execution_count": 41,
   "id": "5c9384c6",
   "metadata": {},
   "outputs": [
    {
     "data": {
      "text/latex": [
       "$\\displaystyle \\operatorname{Det}{\\left(\\left[\\begin{matrix}1 & \\operatorname{pw}{\\left({\\mu}_{0},g_{2},g_{3} \\right)} & \\frac{\\partial}{\\partial {\\mu}_{0}} \\operatorname{pw}{\\left({\\mu}_{0},g_{2},g_{3} \\right)} & \\frac{\\partial^{2}}{\\partial {\\mu}_{0}^{2}} \\operatorname{pw}{\\left({\\mu}_{0},g_{2},g_{3} \\right)}\\\\0 & \\frac{\\partial}{\\partial {\\mu}_{0}} \\operatorname{pw}{\\left({\\mu}_{0},g_{2},g_{3} \\right)} & \\frac{\\partial^{2}}{\\partial {\\mu}_{0}^{2}} \\operatorname{pw}{\\left({\\mu}_{0},g_{2},g_{3} \\right)} & \\frac{\\partial^{3}}{\\partial {\\mu}_{0}^{3}} \\operatorname{pw}{\\left({\\mu}_{0},g_{2},g_{3} \\right)}\\\\1 & \\operatorname{pw}{\\left({\\mu}_{2},g_{2},g_{3} \\right)} & \\frac{\\partial}{\\partial {\\mu}_{2}} \\operatorname{pw}{\\left({\\mu}_{2},g_{2},g_{3} \\right)} & \\frac{\\partial^{2}}{\\partial {\\mu}_{2}^{2}} \\operatorname{pw}{\\left({\\mu}_{2},g_{2},g_{3} \\right)}\\\\1 & \\operatorname{pw}{\\left({\\mu}_{3},g_{2},g_{3} \\right)} & \\frac{\\partial}{\\partial {\\mu}_{3}} \\operatorname{pw}{\\left({\\mu}_{3},g_{2},g_{3} \\right)} & \\frac{\\partial^{2}}{\\partial {\\mu}_{3}^{2}} \\operatorname{pw}{\\left({\\mu}_{3},g_{2},g_{3} \\right)}\\end{matrix}\\right] \\right)} = - \\frac{12 \\sigma{\\left({\\mu}_{0} - {\\mu}_{2},g_{2},g_{3} \\right)} \\sigma{\\left({\\mu}_{0} - {\\mu}_{3},g_{2},g_{3} \\right)} \\sigma{\\left({\\mu}_{2} - {\\mu}_{3},g_{2},g_{3} \\right)} \\sigma{\\left({\\epsilon}_{1} + {\\mu}_{0} - {\\mu}_{2},g_{2},g_{3} \\right)} \\sigma{\\left({\\epsilon}_{1} + {\\mu}_{0} - {\\mu}_{3},g_{2},g_{3} \\right)} \\sigma{\\left({\\epsilon}_{1} + 2 {\\mu}_{0} + {\\mu}_{2} + {\\mu}_{3},g_{2},g_{3} \\right)} \\sigma{\\left(- {\\epsilon}_{1},g_{2},g_{3} \\right)}}{\\sigma^{4}{\\left({\\epsilon}_{1} + {\\mu}_{0},g_{2},g_{3} \\right)} \\sigma^{4}{\\left({\\mu}_{0},g_{2},g_{3} \\right)} \\sigma^{4}{\\left({\\mu}_{2},g_{2},g_{3} \\right)} \\sigma^{4}{\\left({\\mu}_{3},g_{2},g_{3} \\right)} {\\epsilon}_{1}}$"
      ],
      "text/plain": [
       "Eq(Det(Matrix([\n",
       "[1,                    pw(mu[0], g2, g3),      Derivative(pw(mu[0], g2, g3), mu[0]), Derivative(pw(mu[0], g2, g3), (mu[0], 2))],\n",
       "[0, Derivative(pw(mu[0], g2, g3), mu[0]), Derivative(pw(mu[0], g2, g3), (mu[0], 2)), Derivative(pw(mu[0], g2, g3), (mu[0], 3))],\n",
       "[1,                    pw(mu[2], g2, g3),      Derivative(pw(mu[2], g2, g3), mu[2]), Derivative(pw(mu[2], g2, g3), (mu[2], 2))],\n",
       "[1,                    pw(mu[3], g2, g3),      Derivative(pw(mu[3], g2, g3), mu[3]), Derivative(pw(mu[3], g2, g3), (mu[3], 2))]])), -12*sigma(mu[0] - mu[2], g2, g3)*sigma(mu[0] - mu[3], g2, g3)*sigma(mu[2] - mu[3], g2, g3)*sigma(epsilon[1] + mu[0] - mu[2], g2, g3)*sigma(epsilon[1] + mu[0] - mu[3], g2, g3)*sigma(epsilon[1] + 2*mu[0] + mu[2] + mu[3], g2, g3)*sigma(-epsilon[1], g2, g3)/(sigma(epsilon[1] + mu[0], g2, g3)**4*sigma(mu[0], g2, g3)**4*sigma(mu[2], g2, g3)**4*sigma(mu[3], g2, g3)**4*epsilon[1]))"
      ]
     },
     "execution_count": 41,
     "metadata": {},
     "output_type": "execute_result"
    }
   ],
   "source": [
    "FS3_eps_1 = Matrix([FS3.row(i) if i != 1 else diff(FS3.row(0),mu[0]) for i in range(len(FS3.col(0)))])\n",
    "FS3_eps_1_det = Eq(Det(FS3_eps_1), FS3_det.rhs.subs(mu[1], mu[0] + epsilon[1])/epsilon[1])\n",
    "FS3_eps_1_det"
   ]
  },
  {
   "cell_type": "code",
   "execution_count": 42,
   "id": "091f5de6",
   "metadata": {},
   "outputs": [
    {
     "data": {
      "text/latex": [
       "$\\displaystyle \\operatorname{Det}{\\left(\\left[\\begin{matrix}1 & \\operatorname{pw}{\\left({\\mu}_{0},g_{2},g_{3} \\right)} & \\frac{\\partial}{\\partial {\\mu}_{0}} \\operatorname{pw}{\\left({\\mu}_{0},g_{2},g_{3} \\right)} & \\frac{\\partial^{2}}{\\partial {\\mu}_{0}^{2}} \\operatorname{pw}{\\left({\\mu}_{0},g_{2},g_{3} \\right)}\\\\0 & \\frac{\\partial}{\\partial {\\mu}_{0}} \\operatorname{pw}{\\left({\\mu}_{0},g_{2},g_{3} \\right)} & \\frac{\\partial^{2}}{\\partial {\\mu}_{0}^{2}} \\operatorname{pw}{\\left({\\mu}_{0},g_{2},g_{3} \\right)} & \\frac{\\partial^{3}}{\\partial {\\mu}_{0}^{3}} \\operatorname{pw}{\\left({\\mu}_{0},g_{2},g_{3} \\right)}\\\\0 & \\frac{\\partial^{2}}{\\partial {\\mu}_{0}^{2}} \\operatorname{pw}{\\left({\\mu}_{0},g_{2},g_{3} \\right)} & \\frac{\\partial^{3}}{\\partial {\\mu}_{0}^{3}} \\operatorname{pw}{\\left({\\mu}_{0},g_{2},g_{3} \\right)} & \\frac{\\partial^{4}}{\\partial {\\mu}_{0}^{4}} \\operatorname{pw}{\\left({\\mu}_{0},g_{2},g_{3} \\right)}\\\\1 & \\operatorname{pw}{\\left({\\mu}_{3},g_{2},g_{3} \\right)} & \\frac{\\partial}{\\partial {\\mu}_{3}} \\operatorname{pw}{\\left({\\mu}_{3},g_{2},g_{3} \\right)} & \\frac{\\partial^{2}}{\\partial {\\mu}_{3}^{2}} \\operatorname{pw}{\\left({\\mu}_{3},g_{2},g_{3} \\right)}\\end{matrix}\\right] \\right)} = - \\frac{24 \\sigma{\\left({\\epsilon}_{1} - {\\epsilon}_{2},g_{2},g_{3} \\right)} \\sigma{\\left({\\mu}_{0} - {\\mu}_{3},g_{2},g_{3} \\right)} \\sigma{\\left({\\epsilon}_{1} + {\\mu}_{0} - {\\mu}_{3},g_{2},g_{3} \\right)} \\sigma{\\left({\\epsilon}_{2} + {\\mu}_{0} - {\\mu}_{3},g_{2},g_{3} \\right)} \\sigma{\\left({\\epsilon}_{1} + {\\epsilon}_{2} + 3 {\\mu}_{0} + {\\mu}_{3},g_{2},g_{3} \\right)} \\sigma{\\left(- {\\epsilon}_{1},g_{2},g_{3} \\right)} \\sigma{\\left(- {\\epsilon}_{2},g_{2},g_{3} \\right)}}{\\sigma^{4}{\\left({\\epsilon}_{1} + {\\mu}_{0},g_{2},g_{3} \\right)} \\sigma^{4}{\\left({\\epsilon}_{2} + {\\mu}_{0},g_{2},g_{3} \\right)} \\sigma^{4}{\\left({\\mu}_{0},g_{2},g_{3} \\right)} \\sigma^{4}{\\left({\\mu}_{3},g_{2},g_{3} \\right)} {\\epsilon}_{1} {\\epsilon}_{2}^{2}}$"
      ],
      "text/plain": [
       "Eq(Det(Matrix([\n",
       "[1,                         pw(mu[0], g2, g3),      Derivative(pw(mu[0], g2, g3), mu[0]), Derivative(pw(mu[0], g2, g3), (mu[0], 2))],\n",
       "[0,      Derivative(pw(mu[0], g2, g3), mu[0]), Derivative(pw(mu[0], g2, g3), (mu[0], 2)), Derivative(pw(mu[0], g2, g3), (mu[0], 3))],\n",
       "[0, Derivative(pw(mu[0], g2, g3), (mu[0], 2)), Derivative(pw(mu[0], g2, g3), (mu[0], 3)), Derivative(pw(mu[0], g2, g3), (mu[0], 4))],\n",
       "[1,                         pw(mu[3], g2, g3),      Derivative(pw(mu[3], g2, g3), mu[3]), Derivative(pw(mu[3], g2, g3), (mu[3], 2))]])), -24*sigma(epsilon[1] - epsilon[2], g2, g3)*sigma(mu[0] - mu[3], g2, g3)*sigma(epsilon[1] + mu[0] - mu[3], g2, g3)*sigma(epsilon[2] + mu[0] - mu[3], g2, g3)*sigma(epsilon[1] + epsilon[2] + 3*mu[0] + mu[3], g2, g3)*sigma(-epsilon[1], g2, g3)*sigma(-epsilon[2], g2, g3)/(sigma(epsilon[1] + mu[0], g2, g3)**4*sigma(epsilon[2] + mu[0], g2, g3)**4*sigma(mu[0], g2, g3)**4*sigma(mu[3], g2, g3)**4*epsilon[1]*epsilon[2]**2))"
      ]
     },
     "execution_count": 42,
     "metadata": {},
     "output_type": "execute_result"
    }
   ],
   "source": [
    "FS3_eps_2 = Matrix([FS3_eps_1.row(i) if i != 2 else diff(FS3_eps_1.row(1),mu[0]) for i in range(len(FS3.col(0)))])\n",
    "FS3_eps_2_det = Eq(Det(FS3_eps_2), FS3_eps_1_det.rhs.subs(mu[2], mu[0] + epsilon[2])/(epsilon[2]**2/2))\n",
    "FS3_eps_2_det"
   ]
  },
  {
   "cell_type": "code",
   "execution_count": 43,
   "id": "dd1b8615",
   "metadata": {
    "scrolled": true
   },
   "outputs": [
    {
     "data": {
      "text/latex": [
       "$\\displaystyle \\operatorname{Det}{\\left(\\left[\\begin{matrix}1 & \\operatorname{pw}{\\left({\\mu}_{0},g_{2},g_{3} \\right)} & \\frac{\\partial}{\\partial {\\mu}_{0}} \\operatorname{pw}{\\left({\\mu}_{0},g_{2},g_{3} \\right)} & \\frac{\\partial^{2}}{\\partial {\\mu}_{0}^{2}} \\operatorname{pw}{\\left({\\mu}_{0},g_{2},g_{3} \\right)}\\\\0 & \\frac{\\partial}{\\partial {\\mu}_{0}} \\operatorname{pw}{\\left({\\mu}_{0},g_{2},g_{3} \\right)} & \\frac{\\partial^{2}}{\\partial {\\mu}_{0}^{2}} \\operatorname{pw}{\\left({\\mu}_{0},g_{2},g_{3} \\right)} & \\frac{\\partial^{3}}{\\partial {\\mu}_{0}^{3}} \\operatorname{pw}{\\left({\\mu}_{0},g_{2},g_{3} \\right)}\\\\0 & \\frac{\\partial^{2}}{\\partial {\\mu}_{0}^{2}} \\operatorname{pw}{\\left({\\mu}_{0},g_{2},g_{3} \\right)} & \\frac{\\partial^{3}}{\\partial {\\mu}_{0}^{3}} \\operatorname{pw}{\\left({\\mu}_{0},g_{2},g_{3} \\right)} & \\frac{\\partial^{4}}{\\partial {\\mu}_{0}^{4}} \\operatorname{pw}{\\left({\\mu}_{0},g_{2},g_{3} \\right)}\\\\0 & \\frac{\\partial^{3}}{\\partial {\\mu}_{0}^{3}} \\operatorname{pw}{\\left({\\mu}_{0},g_{2},g_{3} \\right)} & \\frac{\\partial^{4}}{\\partial {\\mu}_{0}^{4}} \\operatorname{pw}{\\left({\\mu}_{0},g_{2},g_{3} \\right)} & \\frac{\\partial^{5}}{\\partial {\\mu}_{0}^{5}} \\operatorname{pw}{\\left({\\mu}_{0},g_{2},g_{3} \\right)}\\end{matrix}\\right] \\right)} = - \\frac{144 \\sigma{\\left({\\epsilon}_{1} - {\\epsilon}_{2},g_{2},g_{3} \\right)} \\sigma{\\left({\\epsilon}_{1} - {\\epsilon}_{3},g_{2},g_{3} \\right)} \\sigma{\\left({\\epsilon}_{2} - {\\epsilon}_{3},g_{2},g_{3} \\right)} \\sigma{\\left({\\epsilon}_{1} + {\\epsilon}_{2} + {\\epsilon}_{3} + 4 {\\mu}_{0},g_{2},g_{3} \\right)} \\sigma{\\left(- {\\epsilon}_{1},g_{2},g_{3} \\right)} \\sigma{\\left(- {\\epsilon}_{2},g_{2},g_{3} \\right)} \\sigma{\\left(- {\\epsilon}_{3},g_{2},g_{3} \\right)}}{\\sigma^{4}{\\left({\\epsilon}_{1} + {\\mu}_{0},g_{2},g_{3} \\right)} \\sigma^{4}{\\left({\\epsilon}_{2} + {\\mu}_{0},g_{2},g_{3} \\right)} \\sigma^{4}{\\left({\\epsilon}_{3} + {\\mu}_{0},g_{2},g_{3} \\right)} \\sigma^{4}{\\left({\\mu}_{0},g_{2},g_{3} \\right)} {\\epsilon}_{1} {\\epsilon}_{2}^{2} {\\epsilon}_{3}^{3}}$"
      ],
      "text/plain": [
       "Eq(Det(Matrix([\n",
       "[1,                         pw(mu[0], g2, g3),      Derivative(pw(mu[0], g2, g3), mu[0]), Derivative(pw(mu[0], g2, g3), (mu[0], 2))],\n",
       "[0,      Derivative(pw(mu[0], g2, g3), mu[0]), Derivative(pw(mu[0], g2, g3), (mu[0], 2)), Derivative(pw(mu[0], g2, g3), (mu[0], 3))],\n",
       "[0, Derivative(pw(mu[0], g2, g3), (mu[0], 2)), Derivative(pw(mu[0], g2, g3), (mu[0], 3)), Derivative(pw(mu[0], g2, g3), (mu[0], 4))],\n",
       "[0, Derivative(pw(mu[0], g2, g3), (mu[0], 3)), Derivative(pw(mu[0], g2, g3), (mu[0], 4)), Derivative(pw(mu[0], g2, g3), (mu[0], 5))]])), -144*sigma(epsilon[1] - epsilon[2], g2, g3)*sigma(epsilon[1] - epsilon[3], g2, g3)*sigma(epsilon[2] - epsilon[3], g2, g3)*sigma(epsilon[1] + epsilon[2] + epsilon[3] + 4*mu[0], g2, g3)*sigma(-epsilon[1], g2, g3)*sigma(-epsilon[2], g2, g3)*sigma(-epsilon[3], g2, g3)/(sigma(epsilon[1] + mu[0], g2, g3)**4*sigma(epsilon[2] + mu[0], g2, g3)**4*sigma(epsilon[3] + mu[0], g2, g3)**4*sigma(mu[0], g2, g3)**4*epsilon[1]*epsilon[2]**2*epsilon[3]**3))"
      ]
     },
     "execution_count": 43,
     "metadata": {},
     "output_type": "execute_result"
    }
   ],
   "source": [
    "FS3_eps_3 = Matrix([FS3_eps_2.row(i) if i != 3 else diff(FS3_eps_2.row(2),mu[0]) for i in range(len(FS3.col(0)))])\n",
    "FS3_eps_3_det = Eq(Det(FS3_eps_3), FS3_eps_2_det.rhs.subs(mu[3], mu[0] + epsilon[3])/(epsilon[3]**3/6))\n",
    "FS3_eps_3_det"
   ]
  },
  {
   "cell_type": "markdown",
   "id": "d7a713a2",
   "metadata": {},
   "source": [
    "Taking the limits in order from $\\epsilon_1 \\rightarrow 0$ to $\\epsilon_3 \\rightarrow 0$ gives the result for this case:"
   ]
  },
  {
   "cell_type": "code",
   "execution_count": 44,
   "id": "d419f27e",
   "metadata": {},
   "outputs": [
    {
     "data": {
      "text/latex": [
       "$\\displaystyle \\operatorname{Det}{\\left(\\left[\\begin{matrix}1 & \\operatorname{pw}{\\left({\\mu}_{0},g_{2},g_{3} \\right)} & \\frac{\\partial}{\\partial {\\mu}_{0}} \\operatorname{pw}{\\left({\\mu}_{0},g_{2},g_{3} \\right)} & \\frac{\\partial^{2}}{\\partial {\\mu}_{0}^{2}} \\operatorname{pw}{\\left({\\mu}_{0},g_{2},g_{3} \\right)}\\\\0 & \\frac{\\partial}{\\partial {\\mu}_{0}} \\operatorname{pw}{\\left({\\mu}_{0},g_{2},g_{3} \\right)} & \\frac{\\partial^{2}}{\\partial {\\mu}_{0}^{2}} \\operatorname{pw}{\\left({\\mu}_{0},g_{2},g_{3} \\right)} & \\frac{\\partial^{3}}{\\partial {\\mu}_{0}^{3}} \\operatorname{pw}{\\left({\\mu}_{0},g_{2},g_{3} \\right)}\\\\0 & \\frac{\\partial^{2}}{\\partial {\\mu}_{0}^{2}} \\operatorname{pw}{\\left({\\mu}_{0},g_{2},g_{3} \\right)} & \\frac{\\partial^{3}}{\\partial {\\mu}_{0}^{3}} \\operatorname{pw}{\\left({\\mu}_{0},g_{2},g_{3} \\right)} & \\frac{\\partial^{4}}{\\partial {\\mu}_{0}^{4}} \\operatorname{pw}{\\left({\\mu}_{0},g_{2},g_{3} \\right)}\\\\0 & \\frac{\\partial^{3}}{\\partial {\\mu}_{0}^{3}} \\operatorname{pw}{\\left({\\mu}_{0},g_{2},g_{3} \\right)} & \\frac{\\partial^{4}}{\\partial {\\mu}_{0}^{4}} \\operatorname{pw}{\\left({\\mu}_{0},g_{2},g_{3} \\right)} & \\frac{\\partial^{5}}{\\partial {\\mu}_{0}^{5}} \\operatorname{pw}{\\left({\\mu}_{0},g_{2},g_{3} \\right)}\\end{matrix}\\right] \\right)} = - \\frac{144 \\sigma{\\left(4 {\\mu}_{0},g_{2},g_{3} \\right)}}{\\sigma^{16}{\\left({\\mu}_{0},g_{2},g_{3} \\right)}}$"
      ],
      "text/plain": [
       "Eq(Det(Matrix([\n",
       "[1,                         pw(mu[0], g2, g3),      Derivative(pw(mu[0], g2, g3), mu[0]), Derivative(pw(mu[0], g2, g3), (mu[0], 2))],\n",
       "[0,      Derivative(pw(mu[0], g2, g3), mu[0]), Derivative(pw(mu[0], g2, g3), (mu[0], 2)), Derivative(pw(mu[0], g2, g3), (mu[0], 3))],\n",
       "[0, Derivative(pw(mu[0], g2, g3), (mu[0], 2)), Derivative(pw(mu[0], g2, g3), (mu[0], 3)), Derivative(pw(mu[0], g2, g3), (mu[0], 4))],\n",
       "[0, Derivative(pw(mu[0], g2, g3), (mu[0], 3)), Derivative(pw(mu[0], g2, g3), (mu[0], 4)), Derivative(pw(mu[0], g2, g3), (mu[0], 5))]])), -144*sigma(4*mu[0], g2, g3)/sigma(mu[0], g2, g3)**16)"
      ]
     },
     "execution_count": 44,
     "metadata": {},
     "output_type": "execute_result"
    }
   ],
   "source": [
    "FS3_eps_4_det = (FS3_eps_3_det\n",
    ".subs(sigma(-epsilon[1],g2,g3),-epsilon[1]).subs(epsilon[1],0)\n",
    ".subs(sigma(-epsilon[2],g2,g3),-epsilon[2]).subs(epsilon[2],0)\n",
    ".subs(sigma(-epsilon[3],g2,g3),-epsilon[3]).subs(epsilon[3],0)\n",
    ")\n",
    "FS3_eps_4_det"
   ]
  },
  {
   "cell_type": "markdown",
   "id": "57a2ddf3",
   "metadata": {},
   "source": [
    "By Laplace expansion of the determinant along the first column, it is evident that there is only one cofactor contribution and therefore:"
   ]
  },
  {
   "cell_type": "code",
   "execution_count": 45,
   "id": "08d52793",
   "metadata": {},
   "outputs": [
    {
     "data": {
      "text/latex": [
       "$\\displaystyle \\operatorname{Det}{\\left(\\left[\\begin{matrix}1 & \\operatorname{pw}{\\left({\\mu}_{0},g_{2},g_{3} \\right)} & \\frac{\\partial}{\\partial {\\mu}_{0}} \\operatorname{pw}{\\left({\\mu}_{0},g_{2},g_{3} \\right)} & \\frac{\\partial^{2}}{\\partial {\\mu}_{0}^{2}} \\operatorname{pw}{\\left({\\mu}_{0},g_{2},g_{3} \\right)}\\\\0 & \\frac{\\partial}{\\partial {\\mu}_{0}} \\operatorname{pw}{\\left({\\mu}_{0},g_{2},g_{3} \\right)} & \\frac{\\partial^{2}}{\\partial {\\mu}_{0}^{2}} \\operatorname{pw}{\\left({\\mu}_{0},g_{2},g_{3} \\right)} & \\frac{\\partial^{3}}{\\partial {\\mu}_{0}^{3}} \\operatorname{pw}{\\left({\\mu}_{0},g_{2},g_{3} \\right)}\\\\0 & \\frac{\\partial^{2}}{\\partial {\\mu}_{0}^{2}} \\operatorname{pw}{\\left({\\mu}_{0},g_{2},g_{3} \\right)} & \\frac{\\partial^{3}}{\\partial {\\mu}_{0}^{3}} \\operatorname{pw}{\\left({\\mu}_{0},g_{2},g_{3} \\right)} & \\frac{\\partial^{4}}{\\partial {\\mu}_{0}^{4}} \\operatorname{pw}{\\left({\\mu}_{0},g_{2},g_{3} \\right)}\\\\0 & \\frac{\\partial^{3}}{\\partial {\\mu}_{0}^{3}} \\operatorname{pw}{\\left({\\mu}_{0},g_{2},g_{3} \\right)} & \\frac{\\partial^{4}}{\\partial {\\mu}_{0}^{4}} \\operatorname{pw}{\\left({\\mu}_{0},g_{2},g_{3} \\right)} & \\frac{\\partial^{5}}{\\partial {\\mu}_{0}^{5}} \\operatorname{pw}{\\left({\\mu}_{0},g_{2},g_{3} \\right)}\\end{matrix}\\right] \\right)} = \\operatorname{Det}{\\left(\\left[\\begin{matrix}\\frac{\\partial}{\\partial {\\mu}_{0}} \\operatorname{pw}{\\left({\\mu}_{0},g_{2},g_{3} \\right)} & \\frac{\\partial^{2}}{\\partial {\\mu}_{0}^{2}} \\operatorname{pw}{\\left({\\mu}_{0},g_{2},g_{3} \\right)} & \\frac{\\partial^{3}}{\\partial {\\mu}_{0}^{3}} \\operatorname{pw}{\\left({\\mu}_{0},g_{2},g_{3} \\right)}\\\\\\frac{\\partial^{2}}{\\partial {\\mu}_{0}^{2}} \\operatorname{pw}{\\left({\\mu}_{0},g_{2},g_{3} \\right)} & \\frac{\\partial^{3}}{\\partial {\\mu}_{0}^{3}} \\operatorname{pw}{\\left({\\mu}_{0},g_{2},g_{3} \\right)} & \\frac{\\partial^{4}}{\\partial {\\mu}_{0}^{4}} \\operatorname{pw}{\\left({\\mu}_{0},g_{2},g_{3} \\right)}\\\\\\frac{\\partial^{3}}{\\partial {\\mu}_{0}^{3}} \\operatorname{pw}{\\left({\\mu}_{0},g_{2},g_{3} \\right)} & \\frac{\\partial^{4}}{\\partial {\\mu}_{0}^{4}} \\operatorname{pw}{\\left({\\mu}_{0},g_{2},g_{3} \\right)} & \\frac{\\partial^{5}}{\\partial {\\mu}_{0}^{5}} \\operatorname{pw}{\\left({\\mu}_{0},g_{2},g_{3} \\right)}\\end{matrix}\\right] \\right)}$"
      ],
      "text/plain": [
       "Eq(Det(Matrix([\n",
       "[1,                         pw(mu[0], g2, g3),      Derivative(pw(mu[0], g2, g3), mu[0]), Derivative(pw(mu[0], g2, g3), (mu[0], 2))],\n",
       "[0,      Derivative(pw(mu[0], g2, g3), mu[0]), Derivative(pw(mu[0], g2, g3), (mu[0], 2)), Derivative(pw(mu[0], g2, g3), (mu[0], 3))],\n",
       "[0, Derivative(pw(mu[0], g2, g3), (mu[0], 2)), Derivative(pw(mu[0], g2, g3), (mu[0], 3)), Derivative(pw(mu[0], g2, g3), (mu[0], 4))],\n",
       "[0, Derivative(pw(mu[0], g2, g3), (mu[0], 3)), Derivative(pw(mu[0], g2, g3), (mu[0], 4)), Derivative(pw(mu[0], g2, g3), (mu[0], 5))]])), Det(Matrix([\n",
       "[     Derivative(pw(mu[0], g2, g3), mu[0]), Derivative(pw(mu[0], g2, g3), (mu[0], 2)), Derivative(pw(mu[0], g2, g3), (mu[0], 3))],\n",
       "[Derivative(pw(mu[0], g2, g3), (mu[0], 2)), Derivative(pw(mu[0], g2, g3), (mu[0], 3)), Derivative(pw(mu[0], g2, g3), (mu[0], 4))],\n",
       "[Derivative(pw(mu[0], g2, g3), (mu[0], 3)), Derivative(pw(mu[0], g2, g3), (mu[0], 4)), Derivative(pw(mu[0], g2, g3), (mu[0], 5))]])))"
      ]
     },
     "execution_count": 45,
     "metadata": {},
     "output_type": "execute_result"
    }
   ],
   "source": [
    "keipert_form_fs34 = Eq(FS3_eps_4_det.lhs, Det(keipert_p_matrix_f_s_1dz(4).subs(x,mu[0])))\n",
    "keipert_form_fs34"
   ]
  },
  {
   "cell_type": "code",
   "execution_count": 46,
   "id": "11780835",
   "metadata": {},
   "outputs": [
    {
     "data": {
      "text/latex": [
       "$\\displaystyle \\operatorname{Det}{\\left(\\left[\\begin{matrix}\\frac{\\partial}{\\partial {\\mu}_{0}} \\operatorname{pw}{\\left({\\mu}_{0},g_{2},g_{3} \\right)} & \\frac{\\partial^{2}}{\\partial {\\mu}_{0}^{2}} \\operatorname{pw}{\\left({\\mu}_{0},g_{2},g_{3} \\right)} & \\frac{\\partial^{3}}{\\partial {\\mu}_{0}^{3}} \\operatorname{pw}{\\left({\\mu}_{0},g_{2},g_{3} \\right)}\\\\\\frac{\\partial^{2}}{\\partial {\\mu}_{0}^{2}} \\operatorname{pw}{\\left({\\mu}_{0},g_{2},g_{3} \\right)} & \\frac{\\partial^{3}}{\\partial {\\mu}_{0}^{3}} \\operatorname{pw}{\\left({\\mu}_{0},g_{2},g_{3} \\right)} & \\frac{\\partial^{4}}{\\partial {\\mu}_{0}^{4}} \\operatorname{pw}{\\left({\\mu}_{0},g_{2},g_{3} \\right)}\\\\\\frac{\\partial^{3}}{\\partial {\\mu}_{0}^{3}} \\operatorname{pw}{\\left({\\mu}_{0},g_{2},g_{3} \\right)} & \\frac{\\partial^{4}}{\\partial {\\mu}_{0}^{4}} \\operatorname{pw}{\\left({\\mu}_{0},g_{2},g_{3} \\right)} & \\frac{\\partial^{5}}{\\partial {\\mu}_{0}^{5}} \\operatorname{pw}{\\left({\\mu}_{0},g_{2},g_{3} \\right)}\\end{matrix}\\right] \\right)} = - \\frac{144 \\sigma{\\left(4 {\\mu}_{0},g_{2},g_{3} \\right)}}{\\sigma^{16}{\\left({\\mu}_{0},g_{2},g_{3} \\right)}}$"
      ],
      "text/plain": [
       "Eq(Det(Matrix([\n",
       "[     Derivative(pw(mu[0], g2, g3), mu[0]), Derivative(pw(mu[0], g2, g3), (mu[0], 2)), Derivative(pw(mu[0], g2, g3), (mu[0], 3))],\n",
       "[Derivative(pw(mu[0], g2, g3), (mu[0], 2)), Derivative(pw(mu[0], g2, g3), (mu[0], 3)), Derivative(pw(mu[0], g2, g3), (mu[0], 4))],\n",
       "[Derivative(pw(mu[0], g2, g3), (mu[0], 3)), Derivative(pw(mu[0], g2, g3), (mu[0], 4)), Derivative(pw(mu[0], g2, g3), (mu[0], 5))]])), -144*sigma(4*mu[0], g2, g3)/sigma(mu[0], g2, g3)**16)"
      ]
     },
     "execution_count": 46,
     "metadata": {},
     "output_type": "execute_result"
    }
   ],
   "source": [
    "FS3_eps_5_det = FS3_eps_4_det.subs(*keipert_form_fs34.args)\n",
    "FS3_eps_5_det"
   ]
  },
  {
   "cell_type": "markdown",
   "id": "e7f5bd82",
   "metadata": {},
   "source": [
    "Which is the well known Keipert formula."
   ]
  },
  {
   "cell_type": "code",
   "execution_count": 47,
   "id": "bb83b88c",
   "metadata": {},
   "outputs": [],
   "source": [
    "# keipert form test\n",
    "# for _n__ in range(7):\n",
    "#     (Det(diff_mu_0_deg(_n__)) - Det(keipert_p_matrix_f_s_1dz(_n__).subs(x,mu[0]))).replace(Det,det).simplify() == 0"
   ]
  },
  {
   "cell_type": "markdown",
   "id": "f439b0d3",
   "metadata": {},
   "source": [
    "### The formula for the degenerate case in terms of sigma"
   ]
  },
  {
   "cell_type": "markdown",
   "id": "5f11be1d",
   "metadata": {},
   "source": [
    "Let us introduce the elliptic function $\\mathrm{WDetDegDiff}(N)$ defined such that:"
   ]
  },
  {
   "cell_type": "code",
   "execution_count": 48,
   "id": "de4d1148",
   "metadata": {},
   "outputs": [],
   "source": [
    "WDetDegDiff = Function('WDetDegDiff')"
   ]
  },
  {
   "cell_type": "code",
   "execution_count": 49,
   "id": "be0a80b5",
   "metadata": {},
   "outputs": [
    {
     "data": {
      "text/latex": [
       "$\\displaystyle \\operatorname{WDetDegDiff}{\\left(2 \\right)} = \\operatorname{Det}{\\left(\\left[\\begin{matrix}1 & \\operatorname{pw}{\\left({\\mu}_{0},g_{2},g_{3} \\right)}\\\\0 & \\frac{\\partial}{\\partial {\\mu}_{0}} \\operatorname{pw}{\\left({\\mu}_{0},g_{2},g_{3} \\right)}\\end{matrix}\\right] \\right)}$"
      ],
      "text/plain": [
       "Eq(WDetDegDiff(2), Det(Matrix([\n",
       "[1,                    pw(mu[0], g2, g3)],\n",
       "[0, Derivative(pw(mu[0], g2, g3), mu[0])]])))"
      ]
     },
     "execution_count": 49,
     "metadata": {},
     "output_type": "execute_result"
    },
    {
     "data": {
      "text/latex": [
       "$\\displaystyle \\operatorname{WDetDegDiff}{\\left(3 \\right)} = \\operatorname{Det}{\\left(\\left[\\begin{matrix}1 & \\operatorname{pw}{\\left({\\mu}_{0},g_{2},g_{3} \\right)} & \\frac{\\partial}{\\partial {\\mu}_{0}} \\operatorname{pw}{\\left({\\mu}_{0},g_{2},g_{3} \\right)}\\\\0 & \\frac{\\partial}{\\partial {\\mu}_{0}} \\operatorname{pw}{\\left({\\mu}_{0},g_{2},g_{3} \\right)} & \\frac{\\partial^{2}}{\\partial {\\mu}_{0}^{2}} \\operatorname{pw}{\\left({\\mu}_{0},g_{2},g_{3} \\right)}\\\\0 & \\frac{\\partial^{2}}{\\partial {\\mu}_{0}^{2}} \\operatorname{pw}{\\left({\\mu}_{0},g_{2},g_{3} \\right)} & \\frac{\\partial^{3}}{\\partial {\\mu}_{0}^{3}} \\operatorname{pw}{\\left({\\mu}_{0},g_{2},g_{3} \\right)}\\end{matrix}\\right] \\right)}$"
      ],
      "text/plain": [
       "Eq(WDetDegDiff(3), Det(Matrix([\n",
       "[1,                         pw(mu[0], g2, g3),      Derivative(pw(mu[0], g2, g3), mu[0])],\n",
       "[0,      Derivative(pw(mu[0], g2, g3), mu[0]), Derivative(pw(mu[0], g2, g3), (mu[0], 2))],\n",
       "[0, Derivative(pw(mu[0], g2, g3), (mu[0], 2)), Derivative(pw(mu[0], g2, g3), (mu[0], 3))]])))"
      ]
     },
     "execution_count": 49,
     "metadata": {},
     "output_type": "execute_result"
    },
    {
     "data": {
      "text/latex": [
       "$\\displaystyle \\operatorname{WDetDegDiff}{\\left(4 \\right)} = \\operatorname{Det}{\\left(\\left[\\begin{matrix}1 & \\operatorname{pw}{\\left({\\mu}_{0},g_{2},g_{3} \\right)} & \\frac{\\partial}{\\partial {\\mu}_{0}} \\operatorname{pw}{\\left({\\mu}_{0},g_{2},g_{3} \\right)} & \\frac{\\partial^{2}}{\\partial {\\mu}_{0}^{2}} \\operatorname{pw}{\\left({\\mu}_{0},g_{2},g_{3} \\right)}\\\\0 & \\frac{\\partial}{\\partial {\\mu}_{0}} \\operatorname{pw}{\\left({\\mu}_{0},g_{2},g_{3} \\right)} & \\frac{\\partial^{2}}{\\partial {\\mu}_{0}^{2}} \\operatorname{pw}{\\left({\\mu}_{0},g_{2},g_{3} \\right)} & \\frac{\\partial^{3}}{\\partial {\\mu}_{0}^{3}} \\operatorname{pw}{\\left({\\mu}_{0},g_{2},g_{3} \\right)}\\\\0 & \\frac{\\partial^{2}}{\\partial {\\mu}_{0}^{2}} \\operatorname{pw}{\\left({\\mu}_{0},g_{2},g_{3} \\right)} & \\frac{\\partial^{3}}{\\partial {\\mu}_{0}^{3}} \\operatorname{pw}{\\left({\\mu}_{0},g_{2},g_{3} \\right)} & \\frac{\\partial^{4}}{\\partial {\\mu}_{0}^{4}} \\operatorname{pw}{\\left({\\mu}_{0},g_{2},g_{3} \\right)}\\\\0 & \\frac{\\partial^{3}}{\\partial {\\mu}_{0}^{3}} \\operatorname{pw}{\\left({\\mu}_{0},g_{2},g_{3} \\right)} & \\frac{\\partial^{4}}{\\partial {\\mu}_{0}^{4}} \\operatorname{pw}{\\left({\\mu}_{0},g_{2},g_{3} \\right)} & \\frac{\\partial^{5}}{\\partial {\\mu}_{0}^{5}} \\operatorname{pw}{\\left({\\mu}_{0},g_{2},g_{3} \\right)}\\end{matrix}\\right] \\right)}$"
      ],
      "text/plain": [
       "Eq(WDetDegDiff(4), Det(Matrix([\n",
       "[1,                         pw(mu[0], g2, g3),      Derivative(pw(mu[0], g2, g3), mu[0]), Derivative(pw(mu[0], g2, g3), (mu[0], 2))],\n",
       "[0,      Derivative(pw(mu[0], g2, g3), mu[0]), Derivative(pw(mu[0], g2, g3), (mu[0], 2)), Derivative(pw(mu[0], g2, g3), (mu[0], 3))],\n",
       "[0, Derivative(pw(mu[0], g2, g3), (mu[0], 2)), Derivative(pw(mu[0], g2, g3), (mu[0], 3)), Derivative(pw(mu[0], g2, g3), (mu[0], 4))],\n",
       "[0, Derivative(pw(mu[0], g2, g3), (mu[0], 3)), Derivative(pw(mu[0], g2, g3), (mu[0], 4)), Derivative(pw(mu[0], g2, g3), (mu[0], 5))]])))"
      ]
     },
     "execution_count": 49,
     "metadata": {},
     "output_type": "execute_result"
    },
    {
     "data": {
      "text/latex": [
       "$\\displaystyle \\operatorname{WDetDegDiff}{\\left(5 \\right)} = \\operatorname{Det}{\\left(\\left[\\begin{matrix}1 & \\operatorname{pw}{\\left({\\mu}_{0},g_{2},g_{3} \\right)} & \\frac{\\partial}{\\partial {\\mu}_{0}} \\operatorname{pw}{\\left({\\mu}_{0},g_{2},g_{3} \\right)} & \\frac{\\partial^{2}}{\\partial {\\mu}_{0}^{2}} \\operatorname{pw}{\\left({\\mu}_{0},g_{2},g_{3} \\right)} & \\frac{\\partial^{3}}{\\partial {\\mu}_{0}^{3}} \\operatorname{pw}{\\left({\\mu}_{0},g_{2},g_{3} \\right)}\\\\0 & \\frac{\\partial}{\\partial {\\mu}_{0}} \\operatorname{pw}{\\left({\\mu}_{0},g_{2},g_{3} \\right)} & \\frac{\\partial^{2}}{\\partial {\\mu}_{0}^{2}} \\operatorname{pw}{\\left({\\mu}_{0},g_{2},g_{3} \\right)} & \\frac{\\partial^{3}}{\\partial {\\mu}_{0}^{3}} \\operatorname{pw}{\\left({\\mu}_{0},g_{2},g_{3} \\right)} & \\frac{\\partial^{4}}{\\partial {\\mu}_{0}^{4}} \\operatorname{pw}{\\left({\\mu}_{0},g_{2},g_{3} \\right)}\\\\0 & \\frac{\\partial^{2}}{\\partial {\\mu}_{0}^{2}} \\operatorname{pw}{\\left({\\mu}_{0},g_{2},g_{3} \\right)} & \\frac{\\partial^{3}}{\\partial {\\mu}_{0}^{3}} \\operatorname{pw}{\\left({\\mu}_{0},g_{2},g_{3} \\right)} & \\frac{\\partial^{4}}{\\partial {\\mu}_{0}^{4}} \\operatorname{pw}{\\left({\\mu}_{0},g_{2},g_{3} \\right)} & \\frac{\\partial^{5}}{\\partial {\\mu}_{0}^{5}} \\operatorname{pw}{\\left({\\mu}_{0},g_{2},g_{3} \\right)}\\\\0 & \\frac{\\partial^{3}}{\\partial {\\mu}_{0}^{3}} \\operatorname{pw}{\\left({\\mu}_{0},g_{2},g_{3} \\right)} & \\frac{\\partial^{4}}{\\partial {\\mu}_{0}^{4}} \\operatorname{pw}{\\left({\\mu}_{0},g_{2},g_{3} \\right)} & \\frac{\\partial^{5}}{\\partial {\\mu}_{0}^{5}} \\operatorname{pw}{\\left({\\mu}_{0},g_{2},g_{3} \\right)} & \\frac{\\partial^{6}}{\\partial {\\mu}_{0}^{6}} \\operatorname{pw}{\\left({\\mu}_{0},g_{2},g_{3} \\right)}\\\\0 & \\frac{\\partial^{4}}{\\partial {\\mu}_{0}^{4}} \\operatorname{pw}{\\left({\\mu}_{0},g_{2},g_{3} \\right)} & \\frac{\\partial^{5}}{\\partial {\\mu}_{0}^{5}} \\operatorname{pw}{\\left({\\mu}_{0},g_{2},g_{3} \\right)} & \\frac{\\partial^{6}}{\\partial {\\mu}_{0}^{6}} \\operatorname{pw}{\\left({\\mu}_{0},g_{2},g_{3} \\right)} & \\frac{\\partial^{7}}{\\partial {\\mu}_{0}^{7}} \\operatorname{pw}{\\left({\\mu}_{0},g_{2},g_{3} \\right)}\\end{matrix}\\right] \\right)}$"
      ],
      "text/plain": [
       "Eq(WDetDegDiff(5), Det(Matrix([\n",
       "[1,                         pw(mu[0], g2, g3),      Derivative(pw(mu[0], g2, g3), mu[0]), Derivative(pw(mu[0], g2, g3), (mu[0], 2)), Derivative(pw(mu[0], g2, g3), (mu[0], 3))],\n",
       "[0,      Derivative(pw(mu[0], g2, g3), mu[0]), Derivative(pw(mu[0], g2, g3), (mu[0], 2)), Derivative(pw(mu[0], g2, g3), (mu[0], 3)), Derivative(pw(mu[0], g2, g3), (mu[0], 4))],\n",
       "[0, Derivative(pw(mu[0], g2, g3), (mu[0], 2)), Derivative(pw(mu[0], g2, g3), (mu[0], 3)), Derivative(pw(mu[0], g2, g3), (mu[0], 4)), Derivative(pw(mu[0], g2, g3), (mu[0], 5))],\n",
       "[0, Derivative(pw(mu[0], g2, g3), (mu[0], 3)), Derivative(pw(mu[0], g2, g3), (mu[0], 4)), Derivative(pw(mu[0], g2, g3), (mu[0], 5)), Derivative(pw(mu[0], g2, g3), (mu[0], 6))],\n",
       "[0, Derivative(pw(mu[0], g2, g3), (mu[0], 4)), Derivative(pw(mu[0], g2, g3), (mu[0], 5)), Derivative(pw(mu[0], g2, g3), (mu[0], 6)), Derivative(pw(mu[0], g2, g3), (mu[0], 7))]])))"
      ]
     },
     "execution_count": 49,
     "metadata": {},
     "output_type": "execute_result"
    }
   ],
   "source": [
    "Eq(WDetDegDiff(2), Det(diff_mu_0_deg(2)))\n",
    "Eq(WDetDegDiff(3), Det(diff_mu_0_deg(3)))\n",
    "Eq(WDetDegDiff(4), Det(diff_mu_0_deg(4)))\n",
    "Eq(WDetDegDiff(5), Det(diff_mu_0_deg(5)))"
   ]
  },
  {
   "cell_type": "markdown",
   "id": "60a039b8",
   "metadata": {},
   "source": [
    "In the degenerate limit in which we set $\\mu_j = \\mu_0 + \\epsilon_j$ and take $\\epsilon_j \\rightarrow 0$ the Frobenius Stickelberger determinant can be approximated as:"
   ]
  },
  {
   "cell_type": "code",
   "execution_count": 50,
   "id": "f6ddd178",
   "metadata": {},
   "outputs": [
    {
     "data": {
      "text/latex": [
       "$\\displaystyle \\lim_{{\\mu}_{j} \\to 0^+} \\operatorname{WPdet}{\\left(N \\right)} = \\frac{\\operatorname{WDetDegDiff}{\\left(N \\right)} \\prod_{j=1}^{N} {\\epsilon}_{j}^{j}}{\\prod_{k=1}^{N} k!}$"
      ],
      "text/plain": [
       "Eq(Limit(WPdet(N), mu[j], 0, dir='+'), WDetDegDiff(N)*Product(epsilon[j]**j, (j, 1, N))/Product(factorial(k), (k, 1, N)))"
      ]
     },
     "execution_count": 50,
     "metadata": {},
     "output_type": "execute_result"
    }
   ],
   "source": [
    "Eq(Limit(WPdet(N),mu[j],0), Product(epsilon[j]**j, (j,1,N))/Product(factorial(k),(k,1,N))*WDetDegDiff(N))"
   ]
  },
  {
   "cell_type": "code",
   "execution_count": 51,
   "id": "b84260d0",
   "metadata": {},
   "outputs": [],
   "source": [
    "sigma_product_f_sb = (\n",
    "    (-1)**(N*(N-1)/2)*\n",
    "    Product(factorial(k),(k,1,N))*\n",
    "    sigma(Sum(mu[0] + epsilon[j],(j,0,N)),g2,g3)*\n",
    "    Product(Product(Piecewise((sigma(mu[0] + epsilon[l] - mu[0] - epsilon[m], g2, g3),l<m),(1,True)),(l,0,N)),(m,0,N))/\n",
    "    Product(sigma(mu[0] + epsilon[n],g2,g3)**(N+1),(n,0,N))\n",
    ")\n",
    "sigma_product_f_sc = (\n",
    "    (-1)**(N*(N-1)/2)*\n",
    "    Product(factorial(k),(k,1,N))*\n",
    "    sigma(Sum(mu[0],(j,0,N)).doit(),g2,g3)*\n",
    "    Product(Product(Piecewise((sigma(mu[0] + epsilon[l] - mu[0] - epsilon[m], g2, g3),l<m),(1,True)),(l,0,N)),(m,0,N))/\n",
    "    Product(sigma(mu[0],g2,g3)**(N+1),(n,0,N)).doit()\n",
    ")\n",
    "\n",
    "sigma_product_f_sd = (\n",
    "    (-1)**(N*(N-1)/2)*\n",
    "    Product(factorial(k),(k,1,N))**2 *\n",
    "    sigma((N+1)*mu[0],g2,g3)*\n",
    "    Product(Product(Piecewise((sigma(epsilon[l] - epsilon[m], g2, g3),l<m),(1,True)),(l,0,N)),(m,0,N))/\n",
    "    sigma(mu[0],g2,g3)**(N+1)**2/Product(epsilon[j]**j, (j,1,N))\n",
    ")\n",
    "\n",
    "sigma_product_f_se = (\n",
    "    (-1)**(N**2)*Product(factorial(k),(k,1,N))**2 * sigma((N+1)*mu[0],g2,g3)/sigma(mu[0],g2,g3)**(N+1)**2\n",
    ")"
   ]
  },
  {
   "cell_type": "code",
   "execution_count": 52,
   "id": "af8a078f",
   "metadata": {},
   "outputs": [],
   "source": [
    "def det_const_deg_case(Nval, evaluated=False):\n",
    "    if evaluated:\n",
    "        return Eq(det(diff_mu_0_deg(Nval)), \n",
    "            (-1)**((Nval-1)**2)*product(factorial(k),(k,1,Nval - 1))**2 * \n",
    "            sigma(Nval*mu[0],g2,g3)/sigma(mu[0],g2,g3)**((Nval)**2)\n",
    "                 )\n",
    "    return Eq(Det(diff_mu_0_deg(Nval)),\n",
    "        (-1)**((Nval-1)**2)*product(factorial(k),(k,1,Nval - 1))**2 * \n",
    "            sigma(Nval*mu[0],g2,g3)/sigma(mu[0],g2,g3)**((Nval)**2)\n",
    "             )"
   ]
  },
  {
   "cell_type": "code",
   "execution_count": 53,
   "id": "361cce01",
   "metadata": {},
   "outputs": [
    {
     "data": {
      "text/latex": [
       "$\\displaystyle \\operatorname{WPdet}{\\left(N \\right)} = \\frac{\\left(-1\\right)^{\\frac{N \\left(N - 1\\right)}{2}} \\left(\\sigma{\\left(\\sum_{j=0}^{N} \\left({\\epsilon}_{j} + {\\mu}_{0}\\right),g_{2},g_{3} \\right)}\\right) \\left(\\prod_{k=1}^{N} k!\\right) \\prod_{\\substack{0 \\leq l \\leq N\\\\0 \\leq m \\leq N}} \\begin{cases} \\sigma{\\left({\\epsilon}_{l} - {\\epsilon}_{m},g_{2},g_{3} \\right)} & \\text{for}\\: l < m \\\\1 & \\text{otherwise} \\end{cases}}{\\prod_{n=0}^{N} \\sigma^{N + 1}{\\left({\\epsilon}_{n} + {\\mu}_{0},g_{2},g_{3} \\right)}}$"
      ],
      "text/plain": [
       "Eq(WPdet(N), (-1)**(N*(N - 1)/2)*sigma(Sum(epsilon[j] + mu[0], (j, 0, N)), g2, g3)*Product(factorial(k), (k, 1, N))*Product(Piecewise((sigma(epsilon[l] - epsilon[m], g2, g3), l < m), (1, True)), (l, 0, N), (m, 0, N))/Product(sigma(epsilon[n] + mu[0], g2, g3)**(N + 1), (n, 0, N)))"
      ]
     },
     "execution_count": 53,
     "metadata": {},
     "output_type": "execute_result"
    }
   ],
   "source": [
    "Eq(WPdet(N), sigma_product_f_sb)"
   ]
  },
  {
   "cell_type": "code",
   "execution_count": 54,
   "id": "867b3011",
   "metadata": {
    "scrolled": true
   },
   "outputs": [
    {
     "data": {
      "text/latex": [
       "$\\displaystyle \\operatorname{WPdet}{\\left(N \\right)} = \\left(-1\\right)^{\\frac{N \\left(N - 1\\right)}{2}} \\left(\\sigma^{N + 1}{\\left({\\mu}_{0},g_{2},g_{3} \\right)}\\right)^{- N - 1} \\sigma{\\left(\\left(N + 1\\right) {\\mu}_{0},g_{2},g_{3} \\right)} \\left(\\prod_{k=1}^{N} k!\\right) \\prod_{\\substack{0 \\leq l \\leq N\\\\0 \\leq m \\leq N}} \\begin{cases} \\sigma{\\left({\\epsilon}_{l} - {\\epsilon}_{m},g_{2},g_{3} \\right)} & \\text{for}\\: l < m \\\\1 & \\text{otherwise} \\end{cases}$"
      ],
      "text/plain": [
       "Eq(WPdet(N), (-1)**(N*(N - 1)/2)*(sigma(mu[0], g2, g3)**(N + 1))**(-N - 1)*sigma((N + 1)*mu[0], g2, g3)*Product(factorial(k), (k, 1, N))*Product(Piecewise((sigma(epsilon[l] - epsilon[m], g2, g3), l < m), (1, True)), (l, 0, N), (m, 0, N)))"
      ]
     },
     "execution_count": 54,
     "metadata": {},
     "output_type": "execute_result"
    }
   ],
   "source": [
    "Eq(WPdet(N), sigma_product_f_sc )"
   ]
  },
  {
   "cell_type": "code",
   "execution_count": 55,
   "id": "bea4ef8b",
   "metadata": {
    "scrolled": true
   },
   "outputs": [
    {
     "data": {
      "text/latex": [
       "$\\displaystyle \\operatorname{WDetDegDiff}{\\left(N \\right)} = \\frac{\\left(-1\\right)^{\\frac{N \\left(N - 1\\right)}{2}} \\sigma{\\left(\\left(N + 1\\right) {\\mu}_{0},g_{2},g_{3} \\right)} \\sigma^{- \\left(N + 1\\right)^{2}}{\\left({\\mu}_{0},g_{2},g_{3} \\right)} \\left(\\left(\\prod_{k=1}^{N} k!\\right)^{2}\\right) \\prod_{\\substack{0 \\leq l \\leq N\\\\0 \\leq m \\leq N}} \\begin{cases} \\sigma{\\left({\\epsilon}_{l} - {\\epsilon}_{m},g_{2},g_{3} \\right)} & \\text{for}\\: l < m \\\\1 & \\text{otherwise} \\end{cases}}{\\prod_{j=1}^{N} {\\epsilon}_{j}^{j}}$"
      ],
      "text/plain": [
       "Eq(WDetDegDiff(N), (-1)**(N*(N - 1)/2)*sigma((N + 1)*mu[0], g2, g3)*Product(factorial(k), (k, 1, N))**2*Product(Piecewise((sigma(epsilon[l] - epsilon[m], g2, g3), l < m), (1, True)), (l, 0, N), (m, 0, N))/(sigma(mu[0], g2, g3)**((N + 1)**2)*Product(epsilon[j]**j, (j, 1, N))))"
      ]
     },
     "execution_count": 55,
     "metadata": {},
     "output_type": "execute_result"
    }
   ],
   "source": [
    "Eq(WDetDegDiff(N), sigma_product_f_sd)"
   ]
  },
  {
   "cell_type": "code",
   "execution_count": 56,
   "id": "0a5cef74",
   "metadata": {},
   "outputs": [
    {
     "data": {
      "text/latex": [
       "$\\displaystyle {\\epsilon}_{0} = 0$"
      ],
      "text/plain": [
       "Eq(epsilon[0], 0)"
      ]
     },
     "execution_count": 56,
     "metadata": {},
     "output_type": "execute_result"
    },
    {
     "data": {
      "text/latex": [
       "$\\displaystyle \\lim_{{\\epsilon}_{j} \\to 0^+}\\left(\\frac{\\prod_{\\substack{0 \\leq l \\leq N\\\\0 \\leq m \\leq N}} \\begin{cases} {\\epsilon}_{l} - {\\epsilon}_{m} & \\text{for}\\: l < m \\\\1 & \\text{otherwise} \\end{cases}}{\\prod_{j=1}^{N} {\\epsilon}_{j}^{j}}\\right) = \\left(-1\\right)^{\\frac{N \\left(N + 1\\right)}{2}}$"
      ],
      "text/plain": [
       "Eq(Limit(Product(Piecewise((epsilon[l] - epsilon[m], l < m), (1, True)), (l, 0, N), (m, 0, N))/Product(epsilon[j]**j, (j, 1, N)), epsilon[j], 0, dir='+'), (-1)**(N*(N + 1)/2))"
      ]
     },
     "execution_count": 56,
     "metadata": {},
     "output_type": "execute_result"
    }
   ],
   "source": [
    "Eq(epsilon[0], 0)\n",
    "Eq(Limit((Product(Product(Piecewise((epsilon[l] - epsilon[m],l<m),(1,True)),(l,0,N)),(m,0,N))/\n",
    "    Product(epsilon[j]**j, (j,1,N))), epsilon[j],0), (-1)**(N*(N+1)/2))\n",
    "\n",
    "# for _NN in range(1, 40):\n",
    "#     print((Product(Product(Piecewise((epsilon[l] - epsilon[m],l<m),(1,True)),(l,0,N)),(m,0,N))/\n",
    "#     Product(epsilon[j]**j, (j,1,N))).subs(N,_NN).doit().subs([(epsilon[i],0) for i in range(_NN)])\n",
    "#          - (-1)**(_NN*(_NN+1)/2))"
   ]
  },
  {
   "cell_type": "code",
   "execution_count": 57,
   "id": "559e174f",
   "metadata": {},
   "outputs": [
    {
     "data": {
      "text/latex": [
       "$\\displaystyle \\operatorname{WDetDegDiff}{\\left(N \\right)} = \\left(-1\\right)^{N^{2}} \\sigma{\\left(\\left(N + 1\\right) {\\mu}_{0},g_{2},g_{3} \\right)} \\sigma^{- \\left(N + 1\\right)^{2}}{\\left({\\mu}_{0},g_{2},g_{3} \\right)} \\left(\\prod_{k=1}^{N} k!\\right)^{2}$"
      ],
      "text/plain": [
       "Eq(WDetDegDiff(N), (-1)**(N**2)*sigma((N + 1)*mu[0], g2, g3)*Product(factorial(k), (k, 1, N))**2/sigma(mu[0], g2, g3)**((N + 1)**2))"
      ]
     },
     "execution_count": 57,
     "metadata": {},
     "output_type": "execute_result"
    }
   ],
   "source": [
    "Eq(WDetDegDiff(N), sigma_product_f_se)"
   ]
  },
  {
   "cell_type": "markdown",
   "id": "73017e67",
   "metadata": {},
   "source": [
    "## Numerical test"
   ]
  },
  {
   "cell_type": "code",
   "execution_count": 58,
   "id": "92104233",
   "metadata": {},
   "outputs": [],
   "source": [
    "def mpc_to_float(mpc_val):\n",
    "    return float(mpc_val.real) + float(mpc_val.imag)*1j\n",
    "\n",
    "def sigma_prod_const(_z, _N, omegas):\n",
    "    return (    \n",
    "        (-1)**((_N - 1)**2)*product(factorial(k),(k,1,_N - 1))**2 * \n",
    "        we.wsigma(_N *_z, omegas)/we.wsigma(_z, omegas)**(_N**2)\n",
    "    ).expand().evalf()\n",
    "\n",
    "def test_const_det_sigma_power(_z, _g2, _g3, _N):\n",
    "    omega_ = we.omega_from_g(_g2, _g3)\n",
    "    omega1_ = mpc_to_float(omega_[0])\n",
    "    omega2_ = mpc_to_float(omega_[1])\n",
    "    omega3_ = mpc_to_float(omega_[2])\n",
    "    if im(omega2_/omega1_) <= 0:\n",
    "        omega2_ = -omega2_\n",
    "    omegas_ = (omega1_, omega2_)  \n",
    "\n",
    "    pw_val = mpc_to_float(we.wp(_z, omegas_))\n",
    "    pwp_val = mpc_to_float(we.wpprime(_z, omegas_))\n",
    "\n",
    "    sigma_N_val = sigma_prod_const(_z, _N, omegas_)\n",
    "\n",
    "    det_N_val_ = (\n",
    "        det_const_deg_case(Nval=_N, evaluated=False).lhs.args[0]\n",
    "        .subs([wpk(_i).subs(z,mu[0]).args for _i in range(1, 2*_N - 1)][::-1])\n",
    "        .subs([(pw(mu[0],g2,g3),pw_val), (pwp(mu[0],g2,g3),pwp_val), (g2, _g2), (g3, _g3)])\n",
    "        .expand()\n",
    "        .det()\n",
    "    )\n",
    "\n",
    "    err_val = abs(sigma_N_val - det_N_val_)/(sigma_N_val + det_N_val_)\n",
    "    \n",
    "    return {\n",
    "        \"sigma_N_val\": sigma_N_val,\n",
    "        \"det_N_val_\": det_N_val_,\n",
    "        \"err_val\": err_val\n",
    "    }\n",
    "\n",
    "\n",
    "def sigma_prod(_z, _mu0, _N, omegas): \n",
    "    return (    \n",
    "        -we.wsigma(_z - _mu0, omegas)**_N*we.wsigma(_z + _N*_mu0, omegas)/\n",
    "        we.wsigma(_N*_mu0, omegas)/\n",
    "        we.wsigma(_mu0, omegas)**_N/\n",
    "        we.wsigma(_z, omegas)**(_N+1)\n",
    "    )\n",
    "\n",
    "def test_det_ratio(_z, _mu0, _g2, _g3, _N):\n",
    "    omega_ = we.omega_from_g(_g2, _g3)\n",
    "    omega1_ = mpc_to_float(omega_[0])\n",
    "    omega2_ = mpc_to_float(omega_[1])\n",
    "    omega3_ = mpc_to_float(omega_[2])\n",
    "    if im(omega2_/omega1_) <= 0:\n",
    "        omega2_ = -omega2_\n",
    "    omegas_ = (omega1_, omega2_)  \n",
    "\n",
    "    pw_val_mu0 = mpc_to_float(we.wp(_mu0, omegas_))\n",
    "    pwp_val_mu0 = mpc_to_float(we.wpprime(_mu0, omegas_))\n",
    "    pw_val_z = mpc_to_float(we.wp(_z, omegas_))\n",
    "    pwp_val_z = mpc_to_float(we.wpprime(_z, omegas_))\n",
    "\n",
    "    sigma_N_val = sigma_prod(_z, _mu0, _N, omegas_)\n",
    "\n",
    "    det_ratio_N_val_ = ( \n",
    "        diff_mu_0_z_deg(_N)\n",
    "        .subs([wpk(_i).subs(z,mu[0]).args for _i in range(1, 2*_N - 1)][::-1])\n",
    "        .subs([wpk(_i).args for _i in range(1, 2*_N - 1)][::-1])\n",
    "        .subs([(pw(mu[0],g2,g3), pw_val_mu0), (pwp(mu[0],g2,g3),pwp_val_mu0)])\n",
    "        .subs([(pw(z,g2,g3), pw_val_z), (pwp(z,g2,g3), pwp_val_z), (g2, _g2), (g3, _g3)])\n",
    "        .expand()\n",
    "        .det() /\n",
    "        diff_mu_0_deg(_N)\n",
    "        .subs([wpk(_i).subs(z,mu[0]).args for _i in range(1, 2*_N - 1)][::-1])\n",
    "        .subs([wpk(_i).args for _i in range(1, 2*_N - 1)][::-1])\n",
    "        .subs([(pw(mu[0],g2,g3), pw_val_mu0), (pwp(mu[0],g2,g3),pwp_val_mu0)])\n",
    "        .subs([(pw(z,g2,g3), pw_val_z), (pwp(z,g2,g3), pwp_val_z), (g2, _g2), (g3, _g3)])\n",
    "        .expand()\n",
    "        .det() /\n",
    "        factorial(_N)\n",
    "   ).expand().evalf()\n",
    "\n",
    "    err_val = abs(sigma_N_val - det_ratio_N_val_)/(sigma_N_val + det_ratio_N_val_)\n",
    "    \n",
    "    return {\n",
    "        \"sigma_N_val\": sigma_N_val,\n",
    "        \"det_ratio_N_val_\": det_ratio_N_val_,\n",
    "        \"err_val\": err_val\n",
    "    }"
   ]
  },
  {
   "cell_type": "code",
   "execution_count": 59,
   "id": "9fb52d34",
   "metadata": {},
   "outputs": [],
   "source": [
    "def det_ratio_deg_case(Nval, evaluated=False):\n",
    "    if evaluated:\n",
    "        return Eq(1/factorial(Nval) * det(diff_mu_0_z_deg(Nval))/det(diff_mu_0_deg(Nval)), \n",
    "                  -sigma(z - mu[0], g2, g3)**Nval*sigma(z + Nval*mu[0], g2, g3)\n",
    "                  /sigma(Nval*mu[0], g2, g3)/sigma(mu[0], g2, g3)**Nval/sigma(z, g2, g3)**(Nval +1))\n",
    "    return Eq(1/factorial(Nval) * Det(diff_mu_0_z_deg(Nval))/Det(diff_mu_0_deg(Nval)),\n",
    "              -sigma(z - mu[0], g2, g3)**Nval*sigma(z + Nval*mu[0], g2, g3)\n",
    "                  /sigma(Nval*mu[0], g2, g3)/sigma(mu[0], g2, g3)**Nval/sigma(z, g2, g3)**(Nval+1))"
   ]
  },
  {
   "cell_type": "code",
   "execution_count": 60,
   "id": "f4d315e1",
   "metadata": {},
   "outputs": [],
   "source": [
    "g2val_ = 0.34\n",
    "g3val_ = 0.67\n",
    "z_val_ = 0.2\n",
    "mu0_val_ = 0.34"
   ]
  },
  {
   "cell_type": "markdown",
   "id": "d2fc7469",
   "metadata": {},
   "source": [
    "#### Testing the constant in the denominator in terms of Weierstrass sigma"
   ]
  },
  {
   "cell_type": "code",
   "execution_count": 61,
   "id": "911fc642",
   "metadata": {},
   "outputs": [
    {
     "data": {
      "text/latex": [
       "$\\displaystyle \\operatorname{Det}{\\left(\\left[\\begin{matrix}1\\end{matrix}\\right] \\right)} = 1$"
      ],
      "text/plain": [
       "Eq(Det(Matrix([[1]])), 1)"
      ]
     },
     "execution_count": 61,
     "metadata": {},
     "output_type": "execute_result"
    },
    {
     "name": "stdout",
     "output_type": "stream",
     "text": [
      "sigma_N_val: 1.00000000000000\n",
      "\n",
      "det_N_val_: 1\n",
      "\n",
      "err_val: 5.55111512312578e-17\n",
      "\n"
     ]
    }
   ],
   "source": [
    "det_const_deg_case(Nval=1, evaluated=False)\n",
    "_r = test_const_det_sigma_power(mu0_val_, g2val_, g3val_, 1)\n",
    "for _k in _r:\n",
    "    print(f'{_k}:', _r[_k])\n",
    "    print('')"
   ]
  },
  {
   "cell_type": "code",
   "execution_count": 62,
   "id": "b8c62c24",
   "metadata": {},
   "outputs": [
    {
     "data": {
      "text/latex": [
       "$\\displaystyle \\operatorname{Det}{\\left(\\left[\\begin{matrix}1 & \\operatorname{pw}{\\left({\\mu}_{0},g_{2},g_{3} \\right)}\\\\0 & \\frac{\\partial}{\\partial {\\mu}_{0}} \\operatorname{pw}{\\left({\\mu}_{0},g_{2},g_{3} \\right)}\\end{matrix}\\right] \\right)} = - \\frac{\\sigma{\\left(2 {\\mu}_{0},g_{2},g_{3} \\right)}}{\\sigma^{4}{\\left({\\mu}_{0},g_{2},g_{3} \\right)}}$"
      ],
      "text/plain": [
       "Eq(Det(Matrix([\n",
       "[1,                    pw(mu[0], g2, g3)],\n",
       "[0, Derivative(pw(mu[0], g2, g3), mu[0])]])), -sigma(2*mu[0], g2, g3)/sigma(mu[0], g2, g3)**4)"
      ]
     },
     "execution_count": 62,
     "metadata": {},
     "output_type": "execute_result"
    },
    {
     "name": "stdout",
     "output_type": "stream",
     "text": [
      "sigma_N_val: -50.8700809919919 - 4.34012889210672e-15*I\n",
      "\n",
      "det_N_val_: -50.8700809919919 - 6.17507030592399e-16*I\n",
      "\n",
      "err_val: -7.88433404960106e-17 + 3.84191030843998e-33*I\n",
      "\n"
     ]
    }
   ],
   "source": [
    "det_const_deg_case(Nval=2, evaluated=False)\n",
    "_r = test_const_det_sigma_power(mu0_val_, g2val_, g3val_, 2)\n",
    "for _k in _r:\n",
    "    print(f'{_k}:', _r[_k])\n",
    "    print('')"
   ]
  },
  {
   "cell_type": "code",
   "execution_count": 63,
   "id": "9189ef59",
   "metadata": {},
   "outputs": [
    {
     "data": {
      "text/latex": [
       "$\\displaystyle \\operatorname{Det}{\\left(\\left[\\begin{matrix}1 & \\operatorname{pw}{\\left({\\mu}_{0},g_{2},g_{3} \\right)} & \\frac{\\partial}{\\partial {\\mu}_{0}} \\operatorname{pw}{\\left({\\mu}_{0},g_{2},g_{3} \\right)}\\\\0 & \\frac{\\partial}{\\partial {\\mu}_{0}} \\operatorname{pw}{\\left({\\mu}_{0},g_{2},g_{3} \\right)} & \\frac{\\partial^{2}}{\\partial {\\mu}_{0}^{2}} \\operatorname{pw}{\\left({\\mu}_{0},g_{2},g_{3} \\right)}\\\\0 & \\frac{\\partial^{2}}{\\partial {\\mu}_{0}^{2}} \\operatorname{pw}{\\left({\\mu}_{0},g_{2},g_{3} \\right)} & \\frac{\\partial^{3}}{\\partial {\\mu}_{0}^{3}} \\operatorname{pw}{\\left({\\mu}_{0},g_{2},g_{3} \\right)}\\end{matrix}\\right] \\right)} = \\frac{4 \\sigma{\\left(3 {\\mu}_{0},g_{2},g_{3} \\right)}}{\\sigma^{9}{\\left({\\mu}_{0},g_{2},g_{3} \\right)}}$"
      ],
      "text/plain": [
       "Eq(Det(Matrix([\n",
       "[1,                         pw(mu[0], g2, g3),      Derivative(pw(mu[0], g2, g3), mu[0])],\n",
       "[0,      Derivative(pw(mu[0], g2, g3), mu[0]), Derivative(pw(mu[0], g2, g3), (mu[0], 2))],\n",
       "[0, Derivative(pw(mu[0], g2, g3), (mu[0], 2)), Derivative(pw(mu[0], g2, g3), (mu[0], 3))]])), 4*sigma(3*mu[0], g2, g3)/sigma(mu[0], g2, g3)**9)"
      ]
     },
     "execution_count": 63,
     "metadata": {},
     "output_type": "execute_result"
    },
    {
     "name": "stdout",
     "output_type": "stream",
     "text": [
      "sigma_N_val: 67045.7012122209 + 1.13225781033218e-11*I\n",
      "\n",
      "det_N_val_: 67045.7012122208 + 8.6517908162655e-11*I\n",
      "\n",
      "err_val: 1.03354004184528e-15 - 7.54127844449096e-31*I\n",
      "\n"
     ]
    }
   ],
   "source": [
    "det_const_deg_case(Nval=3, evaluated=False)\n",
    "_r = test_const_det_sigma_power(mu0_val_, g2val_, g3val_, 3)\n",
    "for _k in _r:\n",
    "    print(f'{_k}:', _r[_k])\n",
    "    print('')"
   ]
  },
  {
   "cell_type": "code",
   "execution_count": 64,
   "id": "74390a96",
   "metadata": {},
   "outputs": [
    {
     "data": {
      "text/latex": [
       "$\\displaystyle \\operatorname{Det}{\\left(\\left[\\begin{matrix}1 & \\operatorname{pw}{\\left({\\mu}_{0},g_{2},g_{3} \\right)} & \\frac{\\partial}{\\partial {\\mu}_{0}} \\operatorname{pw}{\\left({\\mu}_{0},g_{2},g_{3} \\right)} & \\frac{\\partial^{2}}{\\partial {\\mu}_{0}^{2}} \\operatorname{pw}{\\left({\\mu}_{0},g_{2},g_{3} \\right)}\\\\0 & \\frac{\\partial}{\\partial {\\mu}_{0}} \\operatorname{pw}{\\left({\\mu}_{0},g_{2},g_{3} \\right)} & \\frac{\\partial^{2}}{\\partial {\\mu}_{0}^{2}} \\operatorname{pw}{\\left({\\mu}_{0},g_{2},g_{3} \\right)} & \\frac{\\partial^{3}}{\\partial {\\mu}_{0}^{3}} \\operatorname{pw}{\\left({\\mu}_{0},g_{2},g_{3} \\right)}\\\\0 & \\frac{\\partial^{2}}{\\partial {\\mu}_{0}^{2}} \\operatorname{pw}{\\left({\\mu}_{0},g_{2},g_{3} \\right)} & \\frac{\\partial^{3}}{\\partial {\\mu}_{0}^{3}} \\operatorname{pw}{\\left({\\mu}_{0},g_{2},g_{3} \\right)} & \\frac{\\partial^{4}}{\\partial {\\mu}_{0}^{4}} \\operatorname{pw}{\\left({\\mu}_{0},g_{2},g_{3} \\right)}\\\\0 & \\frac{\\partial^{3}}{\\partial {\\mu}_{0}^{3}} \\operatorname{pw}{\\left({\\mu}_{0},g_{2},g_{3} \\right)} & \\frac{\\partial^{4}}{\\partial {\\mu}_{0}^{4}} \\operatorname{pw}{\\left({\\mu}_{0},g_{2},g_{3} \\right)} & \\frac{\\partial^{5}}{\\partial {\\mu}_{0}^{5}} \\operatorname{pw}{\\left({\\mu}_{0},g_{2},g_{3} \\right)}\\end{matrix}\\right] \\right)} = - \\frac{144 \\sigma{\\left(4 {\\mu}_{0},g_{2},g_{3} \\right)}}{\\sigma^{16}{\\left({\\mu}_{0},g_{2},g_{3} \\right)}}$"
      ],
      "text/plain": [
       "Eq(Det(Matrix([\n",
       "[1,                         pw(mu[0], g2, g3),      Derivative(pw(mu[0], g2, g3), mu[0]), Derivative(pw(mu[0], g2, g3), (mu[0], 2))],\n",
       "[0,      Derivative(pw(mu[0], g2, g3), mu[0]), Derivative(pw(mu[0], g2, g3), (mu[0], 2)), Derivative(pw(mu[0], g2, g3), (mu[0], 3))],\n",
       "[0, Derivative(pw(mu[0], g2, g3), (mu[0], 2)), Derivative(pw(mu[0], g2, g3), (mu[0], 3)), Derivative(pw(mu[0], g2, g3), (mu[0], 4))],\n",
       "[0, Derivative(pw(mu[0], g2, g3), (mu[0], 3)), Derivative(pw(mu[0], g2, g3), (mu[0], 4)), Derivative(pw(mu[0], g2, g3), (mu[0], 5))]])), -144*sigma(4*mu[0], g2, g3)/sigma(mu[0], g2, g3)**16)"
      ]
     },
     "execution_count": 64,
     "metadata": {},
     "output_type": "execute_result"
    },
    {
     "name": "stdout",
     "output_type": "stream",
     "text": [
      "sigma_N_val: -6082132432.57945 - 1.78442593381015e-6*I\n",
      "\n",
      "det_N_val_: -6082132432.57933 - 9.86171164427816e-5*I\n",
      "\n",
      "err_val: -1.26256688736578e-14 + 1.04209883828012e-28*I\n",
      "\n"
     ]
    }
   ],
   "source": [
    "det_const_deg_case(Nval=4, evaluated=False)\n",
    "_r = test_const_det_sigma_power(mu0_val_, g2val_, g3val_, 4)\n",
    "for _k in _r:\n",
    "    print(f'{_k}:', _r[_k])\n",
    "    print('')"
   ]
  },
  {
   "cell_type": "code",
   "execution_count": 65,
   "id": "5eb7be6d",
   "metadata": {},
   "outputs": [
    {
     "data": {
      "text/latex": [
       "$\\displaystyle \\operatorname{Det}{\\left(\\left[\\begin{matrix}1 & \\operatorname{pw}{\\left({\\mu}_{0},g_{2},g_{3} \\right)} & \\frac{\\partial}{\\partial {\\mu}_{0}} \\operatorname{pw}{\\left({\\mu}_{0},g_{2},g_{3} \\right)} & \\frac{\\partial^{2}}{\\partial {\\mu}_{0}^{2}} \\operatorname{pw}{\\left({\\mu}_{0},g_{2},g_{3} \\right)} & \\frac{\\partial^{3}}{\\partial {\\mu}_{0}^{3}} \\operatorname{pw}{\\left({\\mu}_{0},g_{2},g_{3} \\right)}\\\\0 & \\frac{\\partial}{\\partial {\\mu}_{0}} \\operatorname{pw}{\\left({\\mu}_{0},g_{2},g_{3} \\right)} & \\frac{\\partial^{2}}{\\partial {\\mu}_{0}^{2}} \\operatorname{pw}{\\left({\\mu}_{0},g_{2},g_{3} \\right)} & \\frac{\\partial^{3}}{\\partial {\\mu}_{0}^{3}} \\operatorname{pw}{\\left({\\mu}_{0},g_{2},g_{3} \\right)} & \\frac{\\partial^{4}}{\\partial {\\mu}_{0}^{4}} \\operatorname{pw}{\\left({\\mu}_{0},g_{2},g_{3} \\right)}\\\\0 & \\frac{\\partial^{2}}{\\partial {\\mu}_{0}^{2}} \\operatorname{pw}{\\left({\\mu}_{0},g_{2},g_{3} \\right)} & \\frac{\\partial^{3}}{\\partial {\\mu}_{0}^{3}} \\operatorname{pw}{\\left({\\mu}_{0},g_{2},g_{3} \\right)} & \\frac{\\partial^{4}}{\\partial {\\mu}_{0}^{4}} \\operatorname{pw}{\\left({\\mu}_{0},g_{2},g_{3} \\right)} & \\frac{\\partial^{5}}{\\partial {\\mu}_{0}^{5}} \\operatorname{pw}{\\left({\\mu}_{0},g_{2},g_{3} \\right)}\\\\0 & \\frac{\\partial^{3}}{\\partial {\\mu}_{0}^{3}} \\operatorname{pw}{\\left({\\mu}_{0},g_{2},g_{3} \\right)} & \\frac{\\partial^{4}}{\\partial {\\mu}_{0}^{4}} \\operatorname{pw}{\\left({\\mu}_{0},g_{2},g_{3} \\right)} & \\frac{\\partial^{5}}{\\partial {\\mu}_{0}^{5}} \\operatorname{pw}{\\left({\\mu}_{0},g_{2},g_{3} \\right)} & \\frac{\\partial^{6}}{\\partial {\\mu}_{0}^{6}} \\operatorname{pw}{\\left({\\mu}_{0},g_{2},g_{3} \\right)}\\\\0 & \\frac{\\partial^{4}}{\\partial {\\mu}_{0}^{4}} \\operatorname{pw}{\\left({\\mu}_{0},g_{2},g_{3} \\right)} & \\frac{\\partial^{5}}{\\partial {\\mu}_{0}^{5}} \\operatorname{pw}{\\left({\\mu}_{0},g_{2},g_{3} \\right)} & \\frac{\\partial^{6}}{\\partial {\\mu}_{0}^{6}} \\operatorname{pw}{\\left({\\mu}_{0},g_{2},g_{3} \\right)} & \\frac{\\partial^{7}}{\\partial {\\mu}_{0}^{7}} \\operatorname{pw}{\\left({\\mu}_{0},g_{2},g_{3} \\right)}\\end{matrix}\\right] \\right)} = \\frac{82944 \\sigma{\\left(5 {\\mu}_{0},g_{2},g_{3} \\right)}}{\\sigma^{25}{\\left({\\mu}_{0},g_{2},g_{3} \\right)}}$"
      ],
      "text/plain": [
       "Eq(Det(Matrix([\n",
       "[1,                         pw(mu[0], g2, g3),      Derivative(pw(mu[0], g2, g3), mu[0]), Derivative(pw(mu[0], g2, g3), (mu[0], 2)), Derivative(pw(mu[0], g2, g3), (mu[0], 3))],\n",
       "[0,      Derivative(pw(mu[0], g2, g3), mu[0]), Derivative(pw(mu[0], g2, g3), (mu[0], 2)), Derivative(pw(mu[0], g2, g3), (mu[0], 3)), Derivative(pw(mu[0], g2, g3), (mu[0], 4))],\n",
       "[0, Derivative(pw(mu[0], g2, g3), (mu[0], 2)), Derivative(pw(mu[0], g2, g3), (mu[0], 3)), Derivative(pw(mu[0], g2, g3), (mu[0], 4)), Derivative(pw(mu[0], g2, g3), (mu[0], 5))],\n",
       "[0, Derivative(pw(mu[0], g2, g3), (mu[0], 3)), Derivative(pw(mu[0], g2, g3), (mu[0], 4)), Derivative(pw(mu[0], g2, g3), (mu[0], 5)), Derivative(pw(mu[0], g2, g3), (mu[0], 6))],\n",
       "[0, Derivative(pw(mu[0], g2, g3), (mu[0], 4)), Derivative(pw(mu[0], g2, g3), (mu[0], 5)), Derivative(pw(mu[0], g2, g3), (mu[0], 6)), Derivative(pw(mu[0], g2, g3), (mu[0], 7))]])), 82944*sigma(5*mu[0], g2, g3)/sigma(mu[0], g2, g3)**25)"
      ]
     },
     "execution_count": 65,
     "metadata": {},
     "output_type": "execute_result"
    },
    {
     "name": "stdout",
     "output_type": "stream",
     "text": [
      "sigma_N_val: 7.0587853422893e+16 + 39.8348371575665*I\n",
      "\n",
      "det_N_val_: 7.05878534228859e+16 + 11221.8287974589*I\n",
      "\n",
      "err_val: 9.38693833920691e-14 - 7.48801224353099e-27*I\n",
      "\n"
     ]
    }
   ],
   "source": [
    "det_const_deg_case(Nval=5, evaluated=False)\n",
    "_r = test_const_det_sigma_power(mu0_val_, g2val_, g3val_, 5)\n",
    "for _k in _r:\n",
    "    print(f'{_k}:', _r[_k])\n",
    "    print('')"
   ]
  },
  {
   "cell_type": "code",
   "execution_count": 66,
   "id": "f0ee6339",
   "metadata": {},
   "outputs": [
    {
     "data": {
      "text/latex": [
       "$\\displaystyle \\operatorname{Det}{\\left(\\left[\\begin{matrix}1 & \\operatorname{pw}{\\left({\\mu}_{0},g_{2},g_{3} \\right)} & \\frac{\\partial}{\\partial {\\mu}_{0}} \\operatorname{pw}{\\left({\\mu}_{0},g_{2},g_{3} \\right)} & \\frac{\\partial^{2}}{\\partial {\\mu}_{0}^{2}} \\operatorname{pw}{\\left({\\mu}_{0},g_{2},g_{3} \\right)} & \\frac{\\partial^{3}}{\\partial {\\mu}_{0}^{3}} \\operatorname{pw}{\\left({\\mu}_{0},g_{2},g_{3} \\right)} & \\frac{\\partial^{4}}{\\partial {\\mu}_{0}^{4}} \\operatorname{pw}{\\left({\\mu}_{0},g_{2},g_{3} \\right)}\\\\0 & \\frac{\\partial}{\\partial {\\mu}_{0}} \\operatorname{pw}{\\left({\\mu}_{0},g_{2},g_{3} \\right)} & \\frac{\\partial^{2}}{\\partial {\\mu}_{0}^{2}} \\operatorname{pw}{\\left({\\mu}_{0},g_{2},g_{3} \\right)} & \\frac{\\partial^{3}}{\\partial {\\mu}_{0}^{3}} \\operatorname{pw}{\\left({\\mu}_{0},g_{2},g_{3} \\right)} & \\frac{\\partial^{4}}{\\partial {\\mu}_{0}^{4}} \\operatorname{pw}{\\left({\\mu}_{0},g_{2},g_{3} \\right)} & \\frac{\\partial^{5}}{\\partial {\\mu}_{0}^{5}} \\operatorname{pw}{\\left({\\mu}_{0},g_{2},g_{3} \\right)}\\\\0 & \\frac{\\partial^{2}}{\\partial {\\mu}_{0}^{2}} \\operatorname{pw}{\\left({\\mu}_{0},g_{2},g_{3} \\right)} & \\frac{\\partial^{3}}{\\partial {\\mu}_{0}^{3}} \\operatorname{pw}{\\left({\\mu}_{0},g_{2},g_{3} \\right)} & \\frac{\\partial^{4}}{\\partial {\\mu}_{0}^{4}} \\operatorname{pw}{\\left({\\mu}_{0},g_{2},g_{3} \\right)} & \\frac{\\partial^{5}}{\\partial {\\mu}_{0}^{5}} \\operatorname{pw}{\\left({\\mu}_{0},g_{2},g_{3} \\right)} & \\frac{\\partial^{6}}{\\partial {\\mu}_{0}^{6}} \\operatorname{pw}{\\left({\\mu}_{0},g_{2},g_{3} \\right)}\\\\0 & \\frac{\\partial^{3}}{\\partial {\\mu}_{0}^{3}} \\operatorname{pw}{\\left({\\mu}_{0},g_{2},g_{3} \\right)} & \\frac{\\partial^{4}}{\\partial {\\mu}_{0}^{4}} \\operatorname{pw}{\\left({\\mu}_{0},g_{2},g_{3} \\right)} & \\frac{\\partial^{5}}{\\partial {\\mu}_{0}^{5}} \\operatorname{pw}{\\left({\\mu}_{0},g_{2},g_{3} \\right)} & \\frac{\\partial^{6}}{\\partial {\\mu}_{0}^{6}} \\operatorname{pw}{\\left({\\mu}_{0},g_{2},g_{3} \\right)} & \\frac{\\partial^{7}}{\\partial {\\mu}_{0}^{7}} \\operatorname{pw}{\\left({\\mu}_{0},g_{2},g_{3} \\right)}\\\\0 & \\frac{\\partial^{4}}{\\partial {\\mu}_{0}^{4}} \\operatorname{pw}{\\left({\\mu}_{0},g_{2},g_{3} \\right)} & \\frac{\\partial^{5}}{\\partial {\\mu}_{0}^{5}} \\operatorname{pw}{\\left({\\mu}_{0},g_{2},g_{3} \\right)} & \\frac{\\partial^{6}}{\\partial {\\mu}_{0}^{6}} \\operatorname{pw}{\\left({\\mu}_{0},g_{2},g_{3} \\right)} & \\frac{\\partial^{7}}{\\partial {\\mu}_{0}^{7}} \\operatorname{pw}{\\left({\\mu}_{0},g_{2},g_{3} \\right)} & \\frac{\\partial^{8}}{\\partial {\\mu}_{0}^{8}} \\operatorname{pw}{\\left({\\mu}_{0},g_{2},g_{3} \\right)}\\\\0 & \\frac{\\partial^{5}}{\\partial {\\mu}_{0}^{5}} \\operatorname{pw}{\\left({\\mu}_{0},g_{2},g_{3} \\right)} & \\frac{\\partial^{6}}{\\partial {\\mu}_{0}^{6}} \\operatorname{pw}{\\left({\\mu}_{0},g_{2},g_{3} \\right)} & \\frac{\\partial^{7}}{\\partial {\\mu}_{0}^{7}} \\operatorname{pw}{\\left({\\mu}_{0},g_{2},g_{3} \\right)} & \\frac{\\partial^{8}}{\\partial {\\mu}_{0}^{8}} \\operatorname{pw}{\\left({\\mu}_{0},g_{2},g_{3} \\right)} & \\frac{\\partial^{9}}{\\partial {\\mu}_{0}^{9}} \\operatorname{pw}{\\left({\\mu}_{0},g_{2},g_{3} \\right)}\\end{matrix}\\right] \\right)} = - \\frac{1194393600 \\sigma{\\left(6 {\\mu}_{0},g_{2},g_{3} \\right)}}{\\sigma^{36}{\\left({\\mu}_{0},g_{2},g_{3} \\right)}}$"
      ],
      "text/plain": [
       "Eq(Det(Matrix([\n",
       "[1,                         pw(mu[0], g2, g3),      Derivative(pw(mu[0], g2, g3), mu[0]), Derivative(pw(mu[0], g2, g3), (mu[0], 2)), Derivative(pw(mu[0], g2, g3), (mu[0], 3)), Derivative(pw(mu[0], g2, g3), (mu[0], 4))],\n",
       "[0,      Derivative(pw(mu[0], g2, g3), mu[0]), Derivative(pw(mu[0], g2, g3), (mu[0], 2)), Derivative(pw(mu[0], g2, g3), (mu[0], 3)), Derivative(pw(mu[0], g2, g3), (mu[0], 4)), Derivative(pw(mu[0], g2, g3), (mu[0], 5))],\n",
       "[0, Derivative(pw(mu[0], g2, g3), (mu[0], 2)), Derivative(pw(mu[0], g2, g3), (mu[0], 3)), Derivative(pw(mu[0], g2, g3), (mu[0], 4)), Derivative(pw(mu[0], g2, g3), (mu[0], 5)), Derivative(pw(mu[0], g2, g3), (mu[0], 6))],\n",
       "[0, Derivative(pw(mu[0], g2, g3), (mu[0], 3)), Derivative(pw(mu[0], g2, g3), (mu[0], 4)), Derivative(pw(mu[0], g2, g3), (mu[0], 5)), Derivative(pw(mu[0], g2, g3), (mu[0], 6)), Derivative(pw(mu[0], g2, g3), (mu[0], 7))],\n",
       "[0, Derivative(pw(mu[0], g2, g3), (mu[0], 4)), Derivative(pw(mu[0], g2, g3), (mu[0], 5)), Derivative(pw(mu[0], g2, g3), (mu[0], 6)), Derivative(pw(mu[0], g2, g3), (mu[0], 7)), Derivative(pw(mu[0], g2, g3), (mu[0], 8))],\n",
       "[0, Derivative(pw(mu[0], g2, g3), (mu[0], 5)), Derivative(pw(mu[0], g2, g3), (mu[0], 6)), Derivative(pw(mu[0], g2, g3), (mu[0], 7)), Derivative(pw(mu[0], g2, g3), (mu[0], 8)), Derivative(pw(mu[0], g2, g3), (mu[0], 9))]])), -1194393600*sigma(6*mu[0], g2, g3)/sigma(mu[0], g2, g3)**36)"
      ]
     },
     "execution_count": 66,
     "metadata": {},
     "output_type": "execute_result"
    },
    {
     "name": "stdout",
     "output_type": "stream",
     "text": [
      "sigma_N_val: -1.64620339220509e+26 - 165426128826.572*I\n",
      "\n",
      "det_N_val_: -1.64620339220395e+26 - 246521589171699.0*I\n",
      "\n",
      "err_val: -8.23923773275957e-13 + 6.17333488155456e-25*I\n",
      "\n"
     ]
    }
   ],
   "source": [
    "det_const_deg_case(Nval=6, evaluated=False)\n",
    "_r = test_const_det_sigma_power(mu0_val_, g2val_, g3val_, 6)\n",
    "for _k in _r:\n",
    "    print(f'{_k}:', _r[_k])\n",
    "    print('')"
   ]
  },
  {
   "cell_type": "code",
   "execution_count": 67,
   "id": "a4dee26a",
   "metadata": {
    "scrolled": false
   },
   "outputs": [
    {
     "data": {
      "text/latex": [
       "$\\displaystyle \\frac{\\operatorname{Det}{\\left(\\left[\\begin{matrix}1 & \\operatorname{pw}{\\left({\\mu}_{0},g_{2},g_{3} \\right)} & \\frac{\\partial}{\\partial {\\mu}_{0}} \\operatorname{pw}{\\left({\\mu}_{0},g_{2},g_{3} \\right)} & \\frac{\\partial^{2}}{\\partial {\\mu}_{0}^{2}} \\operatorname{pw}{\\left({\\mu}_{0},g_{2},g_{3} \\right)} & \\frac{\\partial^{3}}{\\partial {\\mu}_{0}^{3}} \\operatorname{pw}{\\left({\\mu}_{0},g_{2},g_{3} \\right)}\\\\0 & \\frac{\\partial}{\\partial {\\mu}_{0}} \\operatorname{pw}{\\left({\\mu}_{0},g_{2},g_{3} \\right)} & \\frac{\\partial^{2}}{\\partial {\\mu}_{0}^{2}} \\operatorname{pw}{\\left({\\mu}_{0},g_{2},g_{3} \\right)} & \\frac{\\partial^{3}}{\\partial {\\mu}_{0}^{3}} \\operatorname{pw}{\\left({\\mu}_{0},g_{2},g_{3} \\right)} & \\frac{\\partial^{4}}{\\partial {\\mu}_{0}^{4}} \\operatorname{pw}{\\left({\\mu}_{0},g_{2},g_{3} \\right)}\\\\0 & \\frac{\\partial^{2}}{\\partial {\\mu}_{0}^{2}} \\operatorname{pw}{\\left({\\mu}_{0},g_{2},g_{3} \\right)} & \\frac{\\partial^{3}}{\\partial {\\mu}_{0}^{3}} \\operatorname{pw}{\\left({\\mu}_{0},g_{2},g_{3} \\right)} & \\frac{\\partial^{4}}{\\partial {\\mu}_{0}^{4}} \\operatorname{pw}{\\left({\\mu}_{0},g_{2},g_{3} \\right)} & \\frac{\\partial^{5}}{\\partial {\\mu}_{0}^{5}} \\operatorname{pw}{\\left({\\mu}_{0},g_{2},g_{3} \\right)}\\\\0 & \\frac{\\partial^{3}}{\\partial {\\mu}_{0}^{3}} \\operatorname{pw}{\\left({\\mu}_{0},g_{2},g_{3} \\right)} & \\frac{\\partial^{4}}{\\partial {\\mu}_{0}^{4}} \\operatorname{pw}{\\left({\\mu}_{0},g_{2},g_{3} \\right)} & \\frac{\\partial^{5}}{\\partial {\\mu}_{0}^{5}} \\operatorname{pw}{\\left({\\mu}_{0},g_{2},g_{3} \\right)} & \\frac{\\partial^{6}}{\\partial {\\mu}_{0}^{6}} \\operatorname{pw}{\\left({\\mu}_{0},g_{2},g_{3} \\right)}\\\\1 & \\operatorname{pw}{\\left(z,g_{2},g_{3} \\right)} & \\frac{\\partial}{\\partial z} \\operatorname{pw}{\\left(z,g_{2},g_{3} \\right)} & \\frac{\\partial^{2}}{\\partial z^{2}} \\operatorname{pw}{\\left(z,g_{2},g_{3} \\right)} & \\frac{\\partial^{3}}{\\partial z^{3}} \\operatorname{pw}{\\left(z,g_{2},g_{3} \\right)}\\end{matrix}\\right] \\right)} \\operatorname{Det}^{-1}{\\left(\\left[\\begin{matrix}1 & \\operatorname{pw}{\\left({\\mu}_{0},g_{2},g_{3} \\right)} & \\frac{\\partial}{\\partial {\\mu}_{0}} \\operatorname{pw}{\\left({\\mu}_{0},g_{2},g_{3} \\right)} & \\frac{\\partial^{2}}{\\partial {\\mu}_{0}^{2}} \\operatorname{pw}{\\left({\\mu}_{0},g_{2},g_{3} \\right)}\\\\0 & \\frac{\\partial}{\\partial {\\mu}_{0}} \\operatorname{pw}{\\left({\\mu}_{0},g_{2},g_{3} \\right)} & \\frac{\\partial^{2}}{\\partial {\\mu}_{0}^{2}} \\operatorname{pw}{\\left({\\mu}_{0},g_{2},g_{3} \\right)} & \\frac{\\partial^{3}}{\\partial {\\mu}_{0}^{3}} \\operatorname{pw}{\\left({\\mu}_{0},g_{2},g_{3} \\right)}\\\\0 & \\frac{\\partial^{2}}{\\partial {\\mu}_{0}^{2}} \\operatorname{pw}{\\left({\\mu}_{0},g_{2},g_{3} \\right)} & \\frac{\\partial^{3}}{\\partial {\\mu}_{0}^{3}} \\operatorname{pw}{\\left({\\mu}_{0},g_{2},g_{3} \\right)} & \\frac{\\partial^{4}}{\\partial {\\mu}_{0}^{4}} \\operatorname{pw}{\\left({\\mu}_{0},g_{2},g_{3} \\right)}\\\\0 & \\frac{\\partial^{3}}{\\partial {\\mu}_{0}^{3}} \\operatorname{pw}{\\left({\\mu}_{0},g_{2},g_{3} \\right)} & \\frac{\\partial^{4}}{\\partial {\\mu}_{0}^{4}} \\operatorname{pw}{\\left({\\mu}_{0},g_{2},g_{3} \\right)} & \\frac{\\partial^{5}}{\\partial {\\mu}_{0}^{5}} \\operatorname{pw}{\\left({\\mu}_{0},g_{2},g_{3} \\right)}\\end{matrix}\\right] \\right)}}{24} = - \\frac{\\sigma^{4}{\\left(z - {\\mu}_{0},g_{2},g_{3} \\right)} \\sigma{\\left(z + 4 {\\mu}_{0},g_{2},g_{3} \\right)}}{\\sigma^{5}{\\left(z,g_{2},g_{3} \\right)} \\sigma^{4}{\\left({\\mu}_{0},g_{2},g_{3} \\right)} \\sigma{\\left(4 {\\mu}_{0},g_{2},g_{3} \\right)}}$"
      ],
      "text/plain": [
       "Eq(Det(Matrix([\n",
       "[1,                         pw(mu[0], g2, g3),      Derivative(pw(mu[0], g2, g3), mu[0]), Derivative(pw(mu[0], g2, g3), (mu[0], 2)), Derivative(pw(mu[0], g2, g3), (mu[0], 3))],\n",
       "[0,      Derivative(pw(mu[0], g2, g3), mu[0]), Derivative(pw(mu[0], g2, g3), (mu[0], 2)), Derivative(pw(mu[0], g2, g3), (mu[0], 3)), Derivative(pw(mu[0], g2, g3), (mu[0], 4))],\n",
       "[0, Derivative(pw(mu[0], g2, g3), (mu[0], 2)), Derivative(pw(mu[0], g2, g3), (mu[0], 3)), Derivative(pw(mu[0], g2, g3), (mu[0], 4)), Derivative(pw(mu[0], g2, g3), (mu[0], 5))],\n",
       "[0, Derivative(pw(mu[0], g2, g3), (mu[0], 3)), Derivative(pw(mu[0], g2, g3), (mu[0], 4)), Derivative(pw(mu[0], g2, g3), (mu[0], 5)), Derivative(pw(mu[0], g2, g3), (mu[0], 6))],\n",
       "[1,                             pw(z, g2, g3),              Derivative(pw(z, g2, g3), z),         Derivative(pw(z, g2, g3), (z, 2)),         Derivative(pw(z, g2, g3), (z, 3))]]))*Det(Matrix([\n",
       "[1,                         pw(mu[0], g2, g3),      Derivative(pw(mu[0], g2, g3), mu[0]), Derivative(pw(mu[0], g2, g3), (mu[0], 2))],\n",
       "[0,      Derivative(pw(mu[0], g2, g3), mu[0]), Derivative(pw(mu[0], g2, g3), (mu[0], 2)), Derivative(pw(mu[0], g2, g3), (mu[0], 3))],\n",
       "[0, Derivative(pw(mu[0], g2, g3), (mu[0], 2)), Derivative(pw(mu[0], g2, g3), (mu[0], 3)), Derivative(pw(mu[0], g2, g3), (mu[0], 4))],\n",
       "[0, Derivative(pw(mu[0], g2, g3), (mu[0], 3)), Derivative(pw(mu[0], g2, g3), (mu[0], 4)), Derivative(pw(mu[0], g2, g3), (mu[0], 5))]]))**(-1)/24, -sigma(z - mu[0], g2, g3)**4*sigma(z + 4*mu[0], g2, g3)/(sigma(z, g2, g3)**5*sigma(mu[0], g2, g3)**4*sigma(4*mu[0], g2, g3)))"
      ]
     },
     "execution_count": 67,
     "metadata": {},
     "output_type": "execute_result"
    }
   ],
   "source": [
    "det_ratio_deg_case(4)"
   ]
  },
  {
   "cell_type": "markdown",
   "id": "65f05844",
   "metadata": {},
   "source": [
    "#### Testing the degenerate determinate ratio formula with z dependence"
   ]
  },
  {
   "cell_type": "code",
   "execution_count": 68,
   "id": "e4ac1ba4",
   "metadata": {},
   "outputs": [
    {
     "data": {
      "text/latex": [
       "$\\displaystyle \\frac{\\operatorname{Det}{\\left(\\left[\\begin{matrix}1 & \\operatorname{pw}{\\left({\\mu}_{0},g_{2},g_{3} \\right)} & \\frac{\\partial}{\\partial {\\mu}_{0}} \\operatorname{pw}{\\left({\\mu}_{0},g_{2},g_{3} \\right)}\\\\0 & \\frac{\\partial}{\\partial {\\mu}_{0}} \\operatorname{pw}{\\left({\\mu}_{0},g_{2},g_{3} \\right)} & \\frac{\\partial^{2}}{\\partial {\\mu}_{0}^{2}} \\operatorname{pw}{\\left({\\mu}_{0},g_{2},g_{3} \\right)}\\\\1 & \\operatorname{pw}{\\left(z,g_{2},g_{3} \\right)} & \\frac{\\partial}{\\partial z} \\operatorname{pw}{\\left(z,g_{2},g_{3} \\right)}\\end{matrix}\\right] \\right)} \\operatorname{Det}^{-1}{\\left(\\left[\\begin{matrix}1 & \\operatorname{pw}{\\left({\\mu}_{0},g_{2},g_{3} \\right)}\\\\0 & \\frac{\\partial}{\\partial {\\mu}_{0}} \\operatorname{pw}{\\left({\\mu}_{0},g_{2},g_{3} \\right)}\\end{matrix}\\right] \\right)}}{2} = - \\frac{\\sigma^{2}{\\left(z - {\\mu}_{0},g_{2},g_{3} \\right)} \\sigma{\\left(z + 2 {\\mu}_{0},g_{2},g_{3} \\right)}}{\\sigma^{3}{\\left(z,g_{2},g_{3} \\right)} \\sigma^{2}{\\left({\\mu}_{0},g_{2},g_{3} \\right)} \\sigma{\\left(2 {\\mu}_{0},g_{2},g_{3} \\right)}}$"
      ],
      "text/plain": [
       "Eq(Det(Matrix([\n",
       "[1,                    pw(mu[0], g2, g3),      Derivative(pw(mu[0], g2, g3), mu[0])],\n",
       "[0, Derivative(pw(mu[0], g2, g3), mu[0]), Derivative(pw(mu[0], g2, g3), (mu[0], 2))],\n",
       "[1,                        pw(z, g2, g3),              Derivative(pw(z, g2, g3), z)]]))*Det(Matrix([\n",
       "[1,                    pw(mu[0], g2, g3)],\n",
       "[0, Derivative(pw(mu[0], g2, g3), mu[0])]]))**(-1)/2, -sigma(z - mu[0], g2, g3)**2*sigma(z + 2*mu[0], g2, g3)/(sigma(z, g2, g3)**3*sigma(mu[0], g2, g3)**2*sigma(2*mu[0], g2, g3)))"
      ]
     },
     "execution_count": 68,
     "metadata": {},
     "output_type": "execute_result"
    },
    {
     "data": {
      "text/plain": [
       "{'sigma_N_val': mpc(real='-27.405493492146082', imag='-9.0611616665229551e-16'),\n",
       " 'det_ratio_N_val_': -27.4054934921461 - 4.10381907436008e-14*I,\n",
       " 'err_val': mpc(real='-7.3219032871000082e-16', imag='5.6031130898870001e-31')}"
      ]
     },
     "execution_count": 68,
     "metadata": {},
     "output_type": "execute_result"
    }
   ],
   "source": [
    "det_ratio_deg_case(2)\n",
    "test_det_ratio(z_val_, mu0_val_, g2val_, g3val_, 2)"
   ]
  },
  {
   "cell_type": "code",
   "execution_count": 69,
   "id": "735139ef",
   "metadata": {},
   "outputs": [
    {
     "data": {
      "text/latex": [
       "$\\displaystyle \\frac{\\operatorname{Det}{\\left(\\left[\\begin{matrix}1 & \\operatorname{pw}{\\left({\\mu}_{0},g_{2},g_{3} \\right)} & \\frac{\\partial}{\\partial {\\mu}_{0}} \\operatorname{pw}{\\left({\\mu}_{0},g_{2},g_{3} \\right)} & \\frac{\\partial^{2}}{\\partial {\\mu}_{0}^{2}} \\operatorname{pw}{\\left({\\mu}_{0},g_{2},g_{3} \\right)}\\\\0 & \\frac{\\partial}{\\partial {\\mu}_{0}} \\operatorname{pw}{\\left({\\mu}_{0},g_{2},g_{3} \\right)} & \\frac{\\partial^{2}}{\\partial {\\mu}_{0}^{2}} \\operatorname{pw}{\\left({\\mu}_{0},g_{2},g_{3} \\right)} & \\frac{\\partial^{3}}{\\partial {\\mu}_{0}^{3}} \\operatorname{pw}{\\left({\\mu}_{0},g_{2},g_{3} \\right)}\\\\0 & \\frac{\\partial^{2}}{\\partial {\\mu}_{0}^{2}} \\operatorname{pw}{\\left({\\mu}_{0},g_{2},g_{3} \\right)} & \\frac{\\partial^{3}}{\\partial {\\mu}_{0}^{3}} \\operatorname{pw}{\\left({\\mu}_{0},g_{2},g_{3} \\right)} & \\frac{\\partial^{4}}{\\partial {\\mu}_{0}^{4}} \\operatorname{pw}{\\left({\\mu}_{0},g_{2},g_{3} \\right)}\\\\1 & \\operatorname{pw}{\\left(z,g_{2},g_{3} \\right)} & \\frac{\\partial}{\\partial z} \\operatorname{pw}{\\left(z,g_{2},g_{3} \\right)} & \\frac{\\partial^{2}}{\\partial z^{2}} \\operatorname{pw}{\\left(z,g_{2},g_{3} \\right)}\\end{matrix}\\right] \\right)} \\operatorname{Det}^{-1}{\\left(\\left[\\begin{matrix}1 & \\operatorname{pw}{\\left({\\mu}_{0},g_{2},g_{3} \\right)} & \\frac{\\partial}{\\partial {\\mu}_{0}} \\operatorname{pw}{\\left({\\mu}_{0},g_{2},g_{3} \\right)}\\\\0 & \\frac{\\partial}{\\partial {\\mu}_{0}} \\operatorname{pw}{\\left({\\mu}_{0},g_{2},g_{3} \\right)} & \\frac{\\partial^{2}}{\\partial {\\mu}_{0}^{2}} \\operatorname{pw}{\\left({\\mu}_{0},g_{2},g_{3} \\right)}\\\\0 & \\frac{\\partial^{2}}{\\partial {\\mu}_{0}^{2}} \\operatorname{pw}{\\left({\\mu}_{0},g_{2},g_{3} \\right)} & \\frac{\\partial^{3}}{\\partial {\\mu}_{0}^{3}} \\operatorname{pw}{\\left({\\mu}_{0},g_{2},g_{3} \\right)}\\end{matrix}\\right] \\right)}}{6} = - \\frac{\\sigma^{3}{\\left(z - {\\mu}_{0},g_{2},g_{3} \\right)} \\sigma{\\left(z + 3 {\\mu}_{0},g_{2},g_{3} \\right)}}{\\sigma^{4}{\\left(z,g_{2},g_{3} \\right)} \\sigma^{3}{\\left({\\mu}_{0},g_{2},g_{3} \\right)} \\sigma{\\left(3 {\\mu}_{0},g_{2},g_{3} \\right)}}$"
      ],
      "text/plain": [
       "Eq(Det(Matrix([\n",
       "[1,                         pw(mu[0], g2, g3),      Derivative(pw(mu[0], g2, g3), mu[0]), Derivative(pw(mu[0], g2, g3), (mu[0], 2))],\n",
       "[0,      Derivative(pw(mu[0], g2, g3), mu[0]), Derivative(pw(mu[0], g2, g3), (mu[0], 2)), Derivative(pw(mu[0], g2, g3), (mu[0], 3))],\n",
       "[0, Derivative(pw(mu[0], g2, g3), (mu[0], 2)), Derivative(pw(mu[0], g2, g3), (mu[0], 3)), Derivative(pw(mu[0], g2, g3), (mu[0], 4))],\n",
       "[1,                             pw(z, g2, g3),              Derivative(pw(z, g2, g3), z),         Derivative(pw(z, g2, g3), (z, 2))]]))*Det(Matrix([\n",
       "[1,                         pw(mu[0], g2, g3),      Derivative(pw(mu[0], g2, g3), mu[0])],\n",
       "[0,      Derivative(pw(mu[0], g2, g3), mu[0]), Derivative(pw(mu[0], g2, g3), (mu[0], 2))],\n",
       "[0, Derivative(pw(mu[0], g2, g3), (mu[0], 2)), Derivative(pw(mu[0], g2, g3), (mu[0], 3))]]))**(-1)/6, -sigma(z - mu[0], g2, g3)**3*sigma(z + 3*mu[0], g2, g3)/(sigma(z, g2, g3)**4*sigma(mu[0], g2, g3)**3*sigma(3*mu[0], g2, g3)))"
      ]
     },
     "execution_count": 69,
     "metadata": {},
     "output_type": "execute_result"
    },
    {
     "data": {
      "text/plain": [
       "{'sigma_N_val': mpc(real='52.018764235055201', imag='4.7862198754686756e-15'),\n",
       " 'det_ratio_N_val_': 52.0187642350549 - 2.91834284029822e-14*I,\n",
       " 'err_val': mpc(real='2.8869879027293065e-15', imag='6.770099877904319e-31')}"
      ]
     },
     "execution_count": 69,
     "metadata": {},
     "output_type": "execute_result"
    }
   ],
   "source": [
    "det_ratio_deg_case(3)\n",
    "test_det_ratio(z_val_, mu0_val_, g2val_, g3val_, 3)"
   ]
  },
  {
   "cell_type": "code",
   "execution_count": 70,
   "id": "8b2ff35d",
   "metadata": {},
   "outputs": [
    {
     "data": {
      "text/latex": [
       "$\\displaystyle \\frac{\\operatorname{Det}{\\left(\\left[\\begin{matrix}1 & \\operatorname{pw}{\\left({\\mu}_{0},g_{2},g_{3} \\right)} & \\frac{\\partial}{\\partial {\\mu}_{0}} \\operatorname{pw}{\\left({\\mu}_{0},g_{2},g_{3} \\right)} & \\frac{\\partial^{2}}{\\partial {\\mu}_{0}^{2}} \\operatorname{pw}{\\left({\\mu}_{0},g_{2},g_{3} \\right)} & \\frac{\\partial^{3}}{\\partial {\\mu}_{0}^{3}} \\operatorname{pw}{\\left({\\mu}_{0},g_{2},g_{3} \\right)}\\\\0 & \\frac{\\partial}{\\partial {\\mu}_{0}} \\operatorname{pw}{\\left({\\mu}_{0},g_{2},g_{3} \\right)} & \\frac{\\partial^{2}}{\\partial {\\mu}_{0}^{2}} \\operatorname{pw}{\\left({\\mu}_{0},g_{2},g_{3} \\right)} & \\frac{\\partial^{3}}{\\partial {\\mu}_{0}^{3}} \\operatorname{pw}{\\left({\\mu}_{0},g_{2},g_{3} \\right)} & \\frac{\\partial^{4}}{\\partial {\\mu}_{0}^{4}} \\operatorname{pw}{\\left({\\mu}_{0},g_{2},g_{3} \\right)}\\\\0 & \\frac{\\partial^{2}}{\\partial {\\mu}_{0}^{2}} \\operatorname{pw}{\\left({\\mu}_{0},g_{2},g_{3} \\right)} & \\frac{\\partial^{3}}{\\partial {\\mu}_{0}^{3}} \\operatorname{pw}{\\left({\\mu}_{0},g_{2},g_{3} \\right)} & \\frac{\\partial^{4}}{\\partial {\\mu}_{0}^{4}} \\operatorname{pw}{\\left({\\mu}_{0},g_{2},g_{3} \\right)} & \\frac{\\partial^{5}}{\\partial {\\mu}_{0}^{5}} \\operatorname{pw}{\\left({\\mu}_{0},g_{2},g_{3} \\right)}\\\\0 & \\frac{\\partial^{3}}{\\partial {\\mu}_{0}^{3}} \\operatorname{pw}{\\left({\\mu}_{0},g_{2},g_{3} \\right)} & \\frac{\\partial^{4}}{\\partial {\\mu}_{0}^{4}} \\operatorname{pw}{\\left({\\mu}_{0},g_{2},g_{3} \\right)} & \\frac{\\partial^{5}}{\\partial {\\mu}_{0}^{5}} \\operatorname{pw}{\\left({\\mu}_{0},g_{2},g_{3} \\right)} & \\frac{\\partial^{6}}{\\partial {\\mu}_{0}^{6}} \\operatorname{pw}{\\left({\\mu}_{0},g_{2},g_{3} \\right)}\\\\1 & \\operatorname{pw}{\\left(z,g_{2},g_{3} \\right)} & \\frac{\\partial}{\\partial z} \\operatorname{pw}{\\left(z,g_{2},g_{3} \\right)} & \\frac{\\partial^{2}}{\\partial z^{2}} \\operatorname{pw}{\\left(z,g_{2},g_{3} \\right)} & \\frac{\\partial^{3}}{\\partial z^{3}} \\operatorname{pw}{\\left(z,g_{2},g_{3} \\right)}\\end{matrix}\\right] \\right)} \\operatorname{Det}^{-1}{\\left(\\left[\\begin{matrix}1 & \\operatorname{pw}{\\left({\\mu}_{0},g_{2},g_{3} \\right)} & \\frac{\\partial}{\\partial {\\mu}_{0}} \\operatorname{pw}{\\left({\\mu}_{0},g_{2},g_{3} \\right)} & \\frac{\\partial^{2}}{\\partial {\\mu}_{0}^{2}} \\operatorname{pw}{\\left({\\mu}_{0},g_{2},g_{3} \\right)}\\\\0 & \\frac{\\partial}{\\partial {\\mu}_{0}} \\operatorname{pw}{\\left({\\mu}_{0},g_{2},g_{3} \\right)} & \\frac{\\partial^{2}}{\\partial {\\mu}_{0}^{2}} \\operatorname{pw}{\\left({\\mu}_{0},g_{2},g_{3} \\right)} & \\frac{\\partial^{3}}{\\partial {\\mu}_{0}^{3}} \\operatorname{pw}{\\left({\\mu}_{0},g_{2},g_{3} \\right)}\\\\0 & \\frac{\\partial^{2}}{\\partial {\\mu}_{0}^{2}} \\operatorname{pw}{\\left({\\mu}_{0},g_{2},g_{3} \\right)} & \\frac{\\partial^{3}}{\\partial {\\mu}_{0}^{3}} \\operatorname{pw}{\\left({\\mu}_{0},g_{2},g_{3} \\right)} & \\frac{\\partial^{4}}{\\partial {\\mu}_{0}^{4}} \\operatorname{pw}{\\left({\\mu}_{0},g_{2},g_{3} \\right)}\\\\0 & \\frac{\\partial^{3}}{\\partial {\\mu}_{0}^{3}} \\operatorname{pw}{\\left({\\mu}_{0},g_{2},g_{3} \\right)} & \\frac{\\partial^{4}}{\\partial {\\mu}_{0}^{4}} \\operatorname{pw}{\\left({\\mu}_{0},g_{2},g_{3} \\right)} & \\frac{\\partial^{5}}{\\partial {\\mu}_{0}^{5}} \\operatorname{pw}{\\left({\\mu}_{0},g_{2},g_{3} \\right)}\\end{matrix}\\right] \\right)}}{24} = - \\frac{\\sigma^{4}{\\left(z - {\\mu}_{0},g_{2},g_{3} \\right)} \\sigma{\\left(z + 4 {\\mu}_{0},g_{2},g_{3} \\right)}}{\\sigma^{5}{\\left(z,g_{2},g_{3} \\right)} \\sigma^{4}{\\left({\\mu}_{0},g_{2},g_{3} \\right)} \\sigma{\\left(4 {\\mu}_{0},g_{2},g_{3} \\right)}}$"
      ],
      "text/plain": [
       "Eq(Det(Matrix([\n",
       "[1,                         pw(mu[0], g2, g3),      Derivative(pw(mu[0], g2, g3), mu[0]), Derivative(pw(mu[0], g2, g3), (mu[0], 2)), Derivative(pw(mu[0], g2, g3), (mu[0], 3))],\n",
       "[0,      Derivative(pw(mu[0], g2, g3), mu[0]), Derivative(pw(mu[0], g2, g3), (mu[0], 2)), Derivative(pw(mu[0], g2, g3), (mu[0], 3)), Derivative(pw(mu[0], g2, g3), (mu[0], 4))],\n",
       "[0, Derivative(pw(mu[0], g2, g3), (mu[0], 2)), Derivative(pw(mu[0], g2, g3), (mu[0], 3)), Derivative(pw(mu[0], g2, g3), (mu[0], 4)), Derivative(pw(mu[0], g2, g3), (mu[0], 5))],\n",
       "[0, Derivative(pw(mu[0], g2, g3), (mu[0], 3)), Derivative(pw(mu[0], g2, g3), (mu[0], 4)), Derivative(pw(mu[0], g2, g3), (mu[0], 5)), Derivative(pw(mu[0], g2, g3), (mu[0], 6))],\n",
       "[1,                             pw(z, g2, g3),              Derivative(pw(z, g2, g3), z),         Derivative(pw(z, g2, g3), (z, 2)),         Derivative(pw(z, g2, g3), (z, 3))]]))*Det(Matrix([\n",
       "[1,                         pw(mu[0], g2, g3),      Derivative(pw(mu[0], g2, g3), mu[0]), Derivative(pw(mu[0], g2, g3), (mu[0], 2))],\n",
       "[0,      Derivative(pw(mu[0], g2, g3), mu[0]), Derivative(pw(mu[0], g2, g3), (mu[0], 2)), Derivative(pw(mu[0], g2, g3), (mu[0], 3))],\n",
       "[0, Derivative(pw(mu[0], g2, g3), (mu[0], 2)), Derivative(pw(mu[0], g2, g3), (mu[0], 3)), Derivative(pw(mu[0], g2, g3), (mu[0], 4))],\n",
       "[0, Derivative(pw(mu[0], g2, g3), (mu[0], 3)), Derivative(pw(mu[0], g2, g3), (mu[0], 4)), Derivative(pw(mu[0], g2, g3), (mu[0], 5))]]))**(-1)/24, -sigma(z - mu[0], g2, g3)**4*sigma(z + 4*mu[0], g2, g3)/(sigma(z, g2, g3)**5*sigma(mu[0], g2, g3)**4*sigma(4*mu[0], g2, g3)))"
      ]
     },
     "execution_count": 70,
     "metadata": {},
     "output_type": "execute_result"
    },
    {
     "data": {
      "text/plain": [
       "{'sigma_N_val': mpc(real='-102.01274011228493', imag='-1.5279232097039971e-14'),\n",
       " 'det_ratio_N_val_': -102.012740112281 - 7.00172190979946e-12*I,\n",
       " 'err_val': mpc(real='-3.9407310612776023e-14', imag='1.3553265173769431e-27')}"
      ]
     },
     "execution_count": 70,
     "metadata": {},
     "output_type": "execute_result"
    }
   ],
   "source": [
    "det_ratio_deg_case(4)\n",
    "test_det_ratio(z_val_, mu0_val_, g2val_, g3val_, 4)"
   ]
  },
  {
   "cell_type": "code",
   "execution_count": 71,
   "id": "5f509add",
   "metadata": {},
   "outputs": [
    {
     "data": {
      "text/latex": [
       "$\\displaystyle \\frac{\\operatorname{Det}{\\left(\\left[\\begin{matrix}1 & \\operatorname{pw}{\\left({\\mu}_{0},g_{2},g_{3} \\right)} & \\frac{\\partial}{\\partial {\\mu}_{0}} \\operatorname{pw}{\\left({\\mu}_{0},g_{2},g_{3} \\right)} & \\frac{\\partial^{2}}{\\partial {\\mu}_{0}^{2}} \\operatorname{pw}{\\left({\\mu}_{0},g_{2},g_{3} \\right)} & \\frac{\\partial^{3}}{\\partial {\\mu}_{0}^{3}} \\operatorname{pw}{\\left({\\mu}_{0},g_{2},g_{3} \\right)} & \\frac{\\partial^{4}}{\\partial {\\mu}_{0}^{4}} \\operatorname{pw}{\\left({\\mu}_{0},g_{2},g_{3} \\right)}\\\\0 & \\frac{\\partial}{\\partial {\\mu}_{0}} \\operatorname{pw}{\\left({\\mu}_{0},g_{2},g_{3} \\right)} & \\frac{\\partial^{2}}{\\partial {\\mu}_{0}^{2}} \\operatorname{pw}{\\left({\\mu}_{0},g_{2},g_{3} \\right)} & \\frac{\\partial^{3}}{\\partial {\\mu}_{0}^{3}} \\operatorname{pw}{\\left({\\mu}_{0},g_{2},g_{3} \\right)} & \\frac{\\partial^{4}}{\\partial {\\mu}_{0}^{4}} \\operatorname{pw}{\\left({\\mu}_{0},g_{2},g_{3} \\right)} & \\frac{\\partial^{5}}{\\partial {\\mu}_{0}^{5}} \\operatorname{pw}{\\left({\\mu}_{0},g_{2},g_{3} \\right)}\\\\0 & \\frac{\\partial^{2}}{\\partial {\\mu}_{0}^{2}} \\operatorname{pw}{\\left({\\mu}_{0},g_{2},g_{3} \\right)} & \\frac{\\partial^{3}}{\\partial {\\mu}_{0}^{3}} \\operatorname{pw}{\\left({\\mu}_{0},g_{2},g_{3} \\right)} & \\frac{\\partial^{4}}{\\partial {\\mu}_{0}^{4}} \\operatorname{pw}{\\left({\\mu}_{0},g_{2},g_{3} \\right)} & \\frac{\\partial^{5}}{\\partial {\\mu}_{0}^{5}} \\operatorname{pw}{\\left({\\mu}_{0},g_{2},g_{3} \\right)} & \\frac{\\partial^{6}}{\\partial {\\mu}_{0}^{6}} \\operatorname{pw}{\\left({\\mu}_{0},g_{2},g_{3} \\right)}\\\\0 & \\frac{\\partial^{3}}{\\partial {\\mu}_{0}^{3}} \\operatorname{pw}{\\left({\\mu}_{0},g_{2},g_{3} \\right)} & \\frac{\\partial^{4}}{\\partial {\\mu}_{0}^{4}} \\operatorname{pw}{\\left({\\mu}_{0},g_{2},g_{3} \\right)} & \\frac{\\partial^{5}}{\\partial {\\mu}_{0}^{5}} \\operatorname{pw}{\\left({\\mu}_{0},g_{2},g_{3} \\right)} & \\frac{\\partial^{6}}{\\partial {\\mu}_{0}^{6}} \\operatorname{pw}{\\left({\\mu}_{0},g_{2},g_{3} \\right)} & \\frac{\\partial^{7}}{\\partial {\\mu}_{0}^{7}} \\operatorname{pw}{\\left({\\mu}_{0},g_{2},g_{3} \\right)}\\\\0 & \\frac{\\partial^{4}}{\\partial {\\mu}_{0}^{4}} \\operatorname{pw}{\\left({\\mu}_{0},g_{2},g_{3} \\right)} & \\frac{\\partial^{5}}{\\partial {\\mu}_{0}^{5}} \\operatorname{pw}{\\left({\\mu}_{0},g_{2},g_{3} \\right)} & \\frac{\\partial^{6}}{\\partial {\\mu}_{0}^{6}} \\operatorname{pw}{\\left({\\mu}_{0},g_{2},g_{3} \\right)} & \\frac{\\partial^{7}}{\\partial {\\mu}_{0}^{7}} \\operatorname{pw}{\\left({\\mu}_{0},g_{2},g_{3} \\right)} & \\frac{\\partial^{8}}{\\partial {\\mu}_{0}^{8}} \\operatorname{pw}{\\left({\\mu}_{0},g_{2},g_{3} \\right)}\\\\1 & \\operatorname{pw}{\\left(z,g_{2},g_{3} \\right)} & \\frac{\\partial}{\\partial z} \\operatorname{pw}{\\left(z,g_{2},g_{3} \\right)} & \\frac{\\partial^{2}}{\\partial z^{2}} \\operatorname{pw}{\\left(z,g_{2},g_{3} \\right)} & \\frac{\\partial^{3}}{\\partial z^{3}} \\operatorname{pw}{\\left(z,g_{2},g_{3} \\right)} & \\frac{\\partial^{4}}{\\partial z^{4}} \\operatorname{pw}{\\left(z,g_{2},g_{3} \\right)}\\end{matrix}\\right] \\right)} \\operatorname{Det}^{-1}{\\left(\\left[\\begin{matrix}1 & \\operatorname{pw}{\\left({\\mu}_{0},g_{2},g_{3} \\right)} & \\frac{\\partial}{\\partial {\\mu}_{0}} \\operatorname{pw}{\\left({\\mu}_{0},g_{2},g_{3} \\right)} & \\frac{\\partial^{2}}{\\partial {\\mu}_{0}^{2}} \\operatorname{pw}{\\left({\\mu}_{0},g_{2},g_{3} \\right)} & \\frac{\\partial^{3}}{\\partial {\\mu}_{0}^{3}} \\operatorname{pw}{\\left({\\mu}_{0},g_{2},g_{3} \\right)}\\\\0 & \\frac{\\partial}{\\partial {\\mu}_{0}} \\operatorname{pw}{\\left({\\mu}_{0},g_{2},g_{3} \\right)} & \\frac{\\partial^{2}}{\\partial {\\mu}_{0}^{2}} \\operatorname{pw}{\\left({\\mu}_{0},g_{2},g_{3} \\right)} & \\frac{\\partial^{3}}{\\partial {\\mu}_{0}^{3}} \\operatorname{pw}{\\left({\\mu}_{0},g_{2},g_{3} \\right)} & \\frac{\\partial^{4}}{\\partial {\\mu}_{0}^{4}} \\operatorname{pw}{\\left({\\mu}_{0},g_{2},g_{3} \\right)}\\\\0 & \\frac{\\partial^{2}}{\\partial {\\mu}_{0}^{2}} \\operatorname{pw}{\\left({\\mu}_{0},g_{2},g_{3} \\right)} & \\frac{\\partial^{3}}{\\partial {\\mu}_{0}^{3}} \\operatorname{pw}{\\left({\\mu}_{0},g_{2},g_{3} \\right)} & \\frac{\\partial^{4}}{\\partial {\\mu}_{0}^{4}} \\operatorname{pw}{\\left({\\mu}_{0},g_{2},g_{3} \\right)} & \\frac{\\partial^{5}}{\\partial {\\mu}_{0}^{5}} \\operatorname{pw}{\\left({\\mu}_{0},g_{2},g_{3} \\right)}\\\\0 & \\frac{\\partial^{3}}{\\partial {\\mu}_{0}^{3}} \\operatorname{pw}{\\left({\\mu}_{0},g_{2},g_{3} \\right)} & \\frac{\\partial^{4}}{\\partial {\\mu}_{0}^{4}} \\operatorname{pw}{\\left({\\mu}_{0},g_{2},g_{3} \\right)} & \\frac{\\partial^{5}}{\\partial {\\mu}_{0}^{5}} \\operatorname{pw}{\\left({\\mu}_{0},g_{2},g_{3} \\right)} & \\frac{\\partial^{6}}{\\partial {\\mu}_{0}^{6}} \\operatorname{pw}{\\left({\\mu}_{0},g_{2},g_{3} \\right)}\\\\0 & \\frac{\\partial^{4}}{\\partial {\\mu}_{0}^{4}} \\operatorname{pw}{\\left({\\mu}_{0},g_{2},g_{3} \\right)} & \\frac{\\partial^{5}}{\\partial {\\mu}_{0}^{5}} \\operatorname{pw}{\\left({\\mu}_{0},g_{2},g_{3} \\right)} & \\frac{\\partial^{6}}{\\partial {\\mu}_{0}^{6}} \\operatorname{pw}{\\left({\\mu}_{0},g_{2},g_{3} \\right)} & \\frac{\\partial^{7}}{\\partial {\\mu}_{0}^{7}} \\operatorname{pw}{\\left({\\mu}_{0},g_{2},g_{3} \\right)}\\end{matrix}\\right] \\right)}}{120} = - \\frac{\\sigma^{5}{\\left(z - {\\mu}_{0},g_{2},g_{3} \\right)} \\sigma{\\left(z + 5 {\\mu}_{0},g_{2},g_{3} \\right)}}{\\sigma^{6}{\\left(z,g_{2},g_{3} \\right)} \\sigma^{5}{\\left({\\mu}_{0},g_{2},g_{3} \\right)} \\sigma{\\left(5 {\\mu}_{0},g_{2},g_{3} \\right)}}$"
      ],
      "text/plain": [
       "Eq(Det(Matrix([\n",
       "[1,                         pw(mu[0], g2, g3),      Derivative(pw(mu[0], g2, g3), mu[0]), Derivative(pw(mu[0], g2, g3), (mu[0], 2)), Derivative(pw(mu[0], g2, g3), (mu[0], 3)), Derivative(pw(mu[0], g2, g3), (mu[0], 4))],\n",
       "[0,      Derivative(pw(mu[0], g2, g3), mu[0]), Derivative(pw(mu[0], g2, g3), (mu[0], 2)), Derivative(pw(mu[0], g2, g3), (mu[0], 3)), Derivative(pw(mu[0], g2, g3), (mu[0], 4)), Derivative(pw(mu[0], g2, g3), (mu[0], 5))],\n",
       "[0, Derivative(pw(mu[0], g2, g3), (mu[0], 2)), Derivative(pw(mu[0], g2, g3), (mu[0], 3)), Derivative(pw(mu[0], g2, g3), (mu[0], 4)), Derivative(pw(mu[0], g2, g3), (mu[0], 5)), Derivative(pw(mu[0], g2, g3), (mu[0], 6))],\n",
       "[0, Derivative(pw(mu[0], g2, g3), (mu[0], 3)), Derivative(pw(mu[0], g2, g3), (mu[0], 4)), Derivative(pw(mu[0], g2, g3), (mu[0], 5)), Derivative(pw(mu[0], g2, g3), (mu[0], 6)), Derivative(pw(mu[0], g2, g3), (mu[0], 7))],\n",
       "[0, Derivative(pw(mu[0], g2, g3), (mu[0], 4)), Derivative(pw(mu[0], g2, g3), (mu[0], 5)), Derivative(pw(mu[0], g2, g3), (mu[0], 6)), Derivative(pw(mu[0], g2, g3), (mu[0], 7)), Derivative(pw(mu[0], g2, g3), (mu[0], 8))],\n",
       "[1,                             pw(z, g2, g3),              Derivative(pw(z, g2, g3), z),         Derivative(pw(z, g2, g3), (z, 2)),         Derivative(pw(z, g2, g3), (z, 3)),         Derivative(pw(z, g2, g3), (z, 4))]]))*Det(Matrix([\n",
       "[1,                         pw(mu[0], g2, g3),      Derivative(pw(mu[0], g2, g3), mu[0]), Derivative(pw(mu[0], g2, g3), (mu[0], 2)), Derivative(pw(mu[0], g2, g3), (mu[0], 3))],\n",
       "[0,      Derivative(pw(mu[0], g2, g3), mu[0]), Derivative(pw(mu[0], g2, g3), (mu[0], 2)), Derivative(pw(mu[0], g2, g3), (mu[0], 3)), Derivative(pw(mu[0], g2, g3), (mu[0], 4))],\n",
       "[0, Derivative(pw(mu[0], g2, g3), (mu[0], 2)), Derivative(pw(mu[0], g2, g3), (mu[0], 3)), Derivative(pw(mu[0], g2, g3), (mu[0], 4)), Derivative(pw(mu[0], g2, g3), (mu[0], 5))],\n",
       "[0, Derivative(pw(mu[0], g2, g3), (mu[0], 3)), Derivative(pw(mu[0], g2, g3), (mu[0], 4)), Derivative(pw(mu[0], g2, g3), (mu[0], 5)), Derivative(pw(mu[0], g2, g3), (mu[0], 6))],\n",
       "[0, Derivative(pw(mu[0], g2, g3), (mu[0], 4)), Derivative(pw(mu[0], g2, g3), (mu[0], 5)), Derivative(pw(mu[0], g2, g3), (mu[0], 6)), Derivative(pw(mu[0], g2, g3), (mu[0], 7))]]))**(-1)/120, -sigma(z - mu[0], g2, g3)**5*sigma(z + 5*mu[0], g2, g3)/(sigma(z, g2, g3)**6*sigma(mu[0], g2, g3)**5*sigma(5*mu[0], g2, g3)))"
      ]
     },
     "execution_count": 71,
     "metadata": {},
     "output_type": "execute_result"
    },
    {
     "data": {
      "text/plain": [
       "{'sigma_N_val': mpc(real='201.39386719081543', imag='4.4240048598020281e-14'),\n",
       " 'det_ratio_N_val_': 201.393867190786 + 6.57432859646022e-11*I,\n",
       " 'err_val': mpc(real='1.7831300916828784e-13', imag='-2.9123954698275396e-26')}"
      ]
     },
     "execution_count": 71,
     "metadata": {},
     "output_type": "execute_result"
    }
   ],
   "source": [
    "det_ratio_deg_case(5)\n",
    "test_det_ratio(z_val_, mu0_val_, g2val_, g3val_, 5)"
   ]
  },
  {
   "cell_type": "code",
   "execution_count": 72,
   "id": "8307e168",
   "metadata": {
    "scrolled": false
   },
   "outputs": [
    {
     "data": {
      "text/latex": [
       "$\\displaystyle \\frac{\\operatorname{Det}{\\left(\\left[\\begin{matrix}1 & \\operatorname{pw}{\\left({\\mu}_{0},g_{2},g_{3} \\right)} & \\frac{\\partial}{\\partial {\\mu}_{0}} \\operatorname{pw}{\\left({\\mu}_{0},g_{2},g_{3} \\right)} & \\frac{\\partial^{2}}{\\partial {\\mu}_{0}^{2}} \\operatorname{pw}{\\left({\\mu}_{0},g_{2},g_{3} \\right)} & \\frac{\\partial^{3}}{\\partial {\\mu}_{0}^{3}} \\operatorname{pw}{\\left({\\mu}_{0},g_{2},g_{3} \\right)} & \\frac{\\partial^{4}}{\\partial {\\mu}_{0}^{4}} \\operatorname{pw}{\\left({\\mu}_{0},g_{2},g_{3} \\right)} & \\frac{\\partial^{5}}{\\partial {\\mu}_{0}^{5}} \\operatorname{pw}{\\left({\\mu}_{0},g_{2},g_{3} \\right)}\\\\0 & \\frac{\\partial}{\\partial {\\mu}_{0}} \\operatorname{pw}{\\left({\\mu}_{0},g_{2},g_{3} \\right)} & \\frac{\\partial^{2}}{\\partial {\\mu}_{0}^{2}} \\operatorname{pw}{\\left({\\mu}_{0},g_{2},g_{3} \\right)} & \\frac{\\partial^{3}}{\\partial {\\mu}_{0}^{3}} \\operatorname{pw}{\\left({\\mu}_{0},g_{2},g_{3} \\right)} & \\frac{\\partial^{4}}{\\partial {\\mu}_{0}^{4}} \\operatorname{pw}{\\left({\\mu}_{0},g_{2},g_{3} \\right)} & \\frac{\\partial^{5}}{\\partial {\\mu}_{0}^{5}} \\operatorname{pw}{\\left({\\mu}_{0},g_{2},g_{3} \\right)} & \\frac{\\partial^{6}}{\\partial {\\mu}_{0}^{6}} \\operatorname{pw}{\\left({\\mu}_{0},g_{2},g_{3} \\right)}\\\\0 & \\frac{\\partial^{2}}{\\partial {\\mu}_{0}^{2}} \\operatorname{pw}{\\left({\\mu}_{0},g_{2},g_{3} \\right)} & \\frac{\\partial^{3}}{\\partial {\\mu}_{0}^{3}} \\operatorname{pw}{\\left({\\mu}_{0},g_{2},g_{3} \\right)} & \\frac{\\partial^{4}}{\\partial {\\mu}_{0}^{4}} \\operatorname{pw}{\\left({\\mu}_{0},g_{2},g_{3} \\right)} & \\frac{\\partial^{5}}{\\partial {\\mu}_{0}^{5}} \\operatorname{pw}{\\left({\\mu}_{0},g_{2},g_{3} \\right)} & \\frac{\\partial^{6}}{\\partial {\\mu}_{0}^{6}} \\operatorname{pw}{\\left({\\mu}_{0},g_{2},g_{3} \\right)} & \\frac{\\partial^{7}}{\\partial {\\mu}_{0}^{7}} \\operatorname{pw}{\\left({\\mu}_{0},g_{2},g_{3} \\right)}\\\\0 & \\frac{\\partial^{3}}{\\partial {\\mu}_{0}^{3}} \\operatorname{pw}{\\left({\\mu}_{0},g_{2},g_{3} \\right)} & \\frac{\\partial^{4}}{\\partial {\\mu}_{0}^{4}} \\operatorname{pw}{\\left({\\mu}_{0},g_{2},g_{3} \\right)} & \\frac{\\partial^{5}}{\\partial {\\mu}_{0}^{5}} \\operatorname{pw}{\\left({\\mu}_{0},g_{2},g_{3} \\right)} & \\frac{\\partial^{6}}{\\partial {\\mu}_{0}^{6}} \\operatorname{pw}{\\left({\\mu}_{0},g_{2},g_{3} \\right)} & \\frac{\\partial^{7}}{\\partial {\\mu}_{0}^{7}} \\operatorname{pw}{\\left({\\mu}_{0},g_{2},g_{3} \\right)} & \\frac{\\partial^{8}}{\\partial {\\mu}_{0}^{8}} \\operatorname{pw}{\\left({\\mu}_{0},g_{2},g_{3} \\right)}\\\\0 & \\frac{\\partial^{4}}{\\partial {\\mu}_{0}^{4}} \\operatorname{pw}{\\left({\\mu}_{0},g_{2},g_{3} \\right)} & \\frac{\\partial^{5}}{\\partial {\\mu}_{0}^{5}} \\operatorname{pw}{\\left({\\mu}_{0},g_{2},g_{3} \\right)} & \\frac{\\partial^{6}}{\\partial {\\mu}_{0}^{6}} \\operatorname{pw}{\\left({\\mu}_{0},g_{2},g_{3} \\right)} & \\frac{\\partial^{7}}{\\partial {\\mu}_{0}^{7}} \\operatorname{pw}{\\left({\\mu}_{0},g_{2},g_{3} \\right)} & \\frac{\\partial^{8}}{\\partial {\\mu}_{0}^{8}} \\operatorname{pw}{\\left({\\mu}_{0},g_{2},g_{3} \\right)} & \\frac{\\partial^{9}}{\\partial {\\mu}_{0}^{9}} \\operatorname{pw}{\\left({\\mu}_{0},g_{2},g_{3} \\right)}\\\\0 & \\frac{\\partial^{5}}{\\partial {\\mu}_{0}^{5}} \\operatorname{pw}{\\left({\\mu}_{0},g_{2},g_{3} \\right)} & \\frac{\\partial^{6}}{\\partial {\\mu}_{0}^{6}} \\operatorname{pw}{\\left({\\mu}_{0},g_{2},g_{3} \\right)} & \\frac{\\partial^{7}}{\\partial {\\mu}_{0}^{7}} \\operatorname{pw}{\\left({\\mu}_{0},g_{2},g_{3} \\right)} & \\frac{\\partial^{8}}{\\partial {\\mu}_{0}^{8}} \\operatorname{pw}{\\left({\\mu}_{0},g_{2},g_{3} \\right)} & \\frac{\\partial^{9}}{\\partial {\\mu}_{0}^{9}} \\operatorname{pw}{\\left({\\mu}_{0},g_{2},g_{3} \\right)} & \\frac{\\partial^{10}}{\\partial {\\mu}_{0}^{10}} \\operatorname{pw}{\\left({\\mu}_{0},g_{2},g_{3} \\right)}\\\\1 & \\operatorname{pw}{\\left(z,g_{2},g_{3} \\right)} & \\frac{\\partial}{\\partial z} \\operatorname{pw}{\\left(z,g_{2},g_{3} \\right)} & \\frac{\\partial^{2}}{\\partial z^{2}} \\operatorname{pw}{\\left(z,g_{2},g_{3} \\right)} & \\frac{\\partial^{3}}{\\partial z^{3}} \\operatorname{pw}{\\left(z,g_{2},g_{3} \\right)} & \\frac{\\partial^{4}}{\\partial z^{4}} \\operatorname{pw}{\\left(z,g_{2},g_{3} \\right)} & \\frac{\\partial^{5}}{\\partial z^{5}} \\operatorname{pw}{\\left(z,g_{2},g_{3} \\right)}\\end{matrix}\\right] \\right)} \\operatorname{Det}^{-1}{\\left(\\left[\\begin{matrix}1 & \\operatorname{pw}{\\left({\\mu}_{0},g_{2},g_{3} \\right)} & \\frac{\\partial}{\\partial {\\mu}_{0}} \\operatorname{pw}{\\left({\\mu}_{0},g_{2},g_{3} \\right)} & \\frac{\\partial^{2}}{\\partial {\\mu}_{0}^{2}} \\operatorname{pw}{\\left({\\mu}_{0},g_{2},g_{3} \\right)} & \\frac{\\partial^{3}}{\\partial {\\mu}_{0}^{3}} \\operatorname{pw}{\\left({\\mu}_{0},g_{2},g_{3} \\right)} & \\frac{\\partial^{4}}{\\partial {\\mu}_{0}^{4}} \\operatorname{pw}{\\left({\\mu}_{0},g_{2},g_{3} \\right)}\\\\0 & \\frac{\\partial}{\\partial {\\mu}_{0}} \\operatorname{pw}{\\left({\\mu}_{0},g_{2},g_{3} \\right)} & \\frac{\\partial^{2}}{\\partial {\\mu}_{0}^{2}} \\operatorname{pw}{\\left({\\mu}_{0},g_{2},g_{3} \\right)} & \\frac{\\partial^{3}}{\\partial {\\mu}_{0}^{3}} \\operatorname{pw}{\\left({\\mu}_{0},g_{2},g_{3} \\right)} & \\frac{\\partial^{4}}{\\partial {\\mu}_{0}^{4}} \\operatorname{pw}{\\left({\\mu}_{0},g_{2},g_{3} \\right)} & \\frac{\\partial^{5}}{\\partial {\\mu}_{0}^{5}} \\operatorname{pw}{\\left({\\mu}_{0},g_{2},g_{3} \\right)}\\\\0 & \\frac{\\partial^{2}}{\\partial {\\mu}_{0}^{2}} \\operatorname{pw}{\\left({\\mu}_{0},g_{2},g_{3} \\right)} & \\frac{\\partial^{3}}{\\partial {\\mu}_{0}^{3}} \\operatorname{pw}{\\left({\\mu}_{0},g_{2},g_{3} \\right)} & \\frac{\\partial^{4}}{\\partial {\\mu}_{0}^{4}} \\operatorname{pw}{\\left({\\mu}_{0},g_{2},g_{3} \\right)} & \\frac{\\partial^{5}}{\\partial {\\mu}_{0}^{5}} \\operatorname{pw}{\\left({\\mu}_{0},g_{2},g_{3} \\right)} & \\frac{\\partial^{6}}{\\partial {\\mu}_{0}^{6}} \\operatorname{pw}{\\left({\\mu}_{0},g_{2},g_{3} \\right)}\\\\0 & \\frac{\\partial^{3}}{\\partial {\\mu}_{0}^{3}} \\operatorname{pw}{\\left({\\mu}_{0},g_{2},g_{3} \\right)} & \\frac{\\partial^{4}}{\\partial {\\mu}_{0}^{4}} \\operatorname{pw}{\\left({\\mu}_{0},g_{2},g_{3} \\right)} & \\frac{\\partial^{5}}{\\partial {\\mu}_{0}^{5}} \\operatorname{pw}{\\left({\\mu}_{0},g_{2},g_{3} \\right)} & \\frac{\\partial^{6}}{\\partial {\\mu}_{0}^{6}} \\operatorname{pw}{\\left({\\mu}_{0},g_{2},g_{3} \\right)} & \\frac{\\partial^{7}}{\\partial {\\mu}_{0}^{7}} \\operatorname{pw}{\\left({\\mu}_{0},g_{2},g_{3} \\right)}\\\\0 & \\frac{\\partial^{4}}{\\partial {\\mu}_{0}^{4}} \\operatorname{pw}{\\left({\\mu}_{0},g_{2},g_{3} \\right)} & \\frac{\\partial^{5}}{\\partial {\\mu}_{0}^{5}} \\operatorname{pw}{\\left({\\mu}_{0},g_{2},g_{3} \\right)} & \\frac{\\partial^{6}}{\\partial {\\mu}_{0}^{6}} \\operatorname{pw}{\\left({\\mu}_{0},g_{2},g_{3} \\right)} & \\frac{\\partial^{7}}{\\partial {\\mu}_{0}^{7}} \\operatorname{pw}{\\left({\\mu}_{0},g_{2},g_{3} \\right)} & \\frac{\\partial^{8}}{\\partial {\\mu}_{0}^{8}} \\operatorname{pw}{\\left({\\mu}_{0},g_{2},g_{3} \\right)}\\\\0 & \\frac{\\partial^{5}}{\\partial {\\mu}_{0}^{5}} \\operatorname{pw}{\\left({\\mu}_{0},g_{2},g_{3} \\right)} & \\frac{\\partial^{6}}{\\partial {\\mu}_{0}^{6}} \\operatorname{pw}{\\left({\\mu}_{0},g_{2},g_{3} \\right)} & \\frac{\\partial^{7}}{\\partial {\\mu}_{0}^{7}} \\operatorname{pw}{\\left({\\mu}_{0},g_{2},g_{3} \\right)} & \\frac{\\partial^{8}}{\\partial {\\mu}_{0}^{8}} \\operatorname{pw}{\\left({\\mu}_{0},g_{2},g_{3} \\right)} & \\frac{\\partial^{9}}{\\partial {\\mu}_{0}^{9}} \\operatorname{pw}{\\left({\\mu}_{0},g_{2},g_{3} \\right)}\\end{matrix}\\right] \\right)}}{720} = - \\frac{\\sigma^{6}{\\left(z - {\\mu}_{0},g_{2},g_{3} \\right)} \\sigma{\\left(z + 6 {\\mu}_{0},g_{2},g_{3} \\right)}}{\\sigma^{7}{\\left(z,g_{2},g_{3} \\right)} \\sigma^{6}{\\left({\\mu}_{0},g_{2},g_{3} \\right)} \\sigma{\\left(6 {\\mu}_{0},g_{2},g_{3} \\right)}}$"
      ],
      "text/plain": [
       "Eq(Det(Matrix([\n",
       "[1,                         pw(mu[0], g2, g3),      Derivative(pw(mu[0], g2, g3), mu[0]), Derivative(pw(mu[0], g2, g3), (mu[0], 2)), Derivative(pw(mu[0], g2, g3), (mu[0], 3)), Derivative(pw(mu[0], g2, g3), (mu[0], 4)),  Derivative(pw(mu[0], g2, g3), (mu[0], 5))],\n",
       "[0,      Derivative(pw(mu[0], g2, g3), mu[0]), Derivative(pw(mu[0], g2, g3), (mu[0], 2)), Derivative(pw(mu[0], g2, g3), (mu[0], 3)), Derivative(pw(mu[0], g2, g3), (mu[0], 4)), Derivative(pw(mu[0], g2, g3), (mu[0], 5)),  Derivative(pw(mu[0], g2, g3), (mu[0], 6))],\n",
       "[0, Derivative(pw(mu[0], g2, g3), (mu[0], 2)), Derivative(pw(mu[0], g2, g3), (mu[0], 3)), Derivative(pw(mu[0], g2, g3), (mu[0], 4)), Derivative(pw(mu[0], g2, g3), (mu[0], 5)), Derivative(pw(mu[0], g2, g3), (mu[0], 6)),  Derivative(pw(mu[0], g2, g3), (mu[0], 7))],\n",
       "[0, Derivative(pw(mu[0], g2, g3), (mu[0], 3)), Derivative(pw(mu[0], g2, g3), (mu[0], 4)), Derivative(pw(mu[0], g2, g3), (mu[0], 5)), Derivative(pw(mu[0], g2, g3), (mu[0], 6)), Derivative(pw(mu[0], g2, g3), (mu[0], 7)),  Derivative(pw(mu[0], g2, g3), (mu[0], 8))],\n",
       "[0, Derivative(pw(mu[0], g2, g3), (mu[0], 4)), Derivative(pw(mu[0], g2, g3), (mu[0], 5)), Derivative(pw(mu[0], g2, g3), (mu[0], 6)), Derivative(pw(mu[0], g2, g3), (mu[0], 7)), Derivative(pw(mu[0], g2, g3), (mu[0], 8)),  Derivative(pw(mu[0], g2, g3), (mu[0], 9))],\n",
       "[0, Derivative(pw(mu[0], g2, g3), (mu[0], 5)), Derivative(pw(mu[0], g2, g3), (mu[0], 6)), Derivative(pw(mu[0], g2, g3), (mu[0], 7)), Derivative(pw(mu[0], g2, g3), (mu[0], 8)), Derivative(pw(mu[0], g2, g3), (mu[0], 9)), Derivative(pw(mu[0], g2, g3), (mu[0], 10))],\n",
       "[1,                             pw(z, g2, g3),              Derivative(pw(z, g2, g3), z),         Derivative(pw(z, g2, g3), (z, 2)),         Derivative(pw(z, g2, g3), (z, 3)),         Derivative(pw(z, g2, g3), (z, 4)),          Derivative(pw(z, g2, g3), (z, 5))]]))*Det(Matrix([\n",
       "[1,                         pw(mu[0], g2, g3),      Derivative(pw(mu[0], g2, g3), mu[0]), Derivative(pw(mu[0], g2, g3), (mu[0], 2)), Derivative(pw(mu[0], g2, g3), (mu[0], 3)), Derivative(pw(mu[0], g2, g3), (mu[0], 4))],\n",
       "[0,      Derivative(pw(mu[0], g2, g3), mu[0]), Derivative(pw(mu[0], g2, g3), (mu[0], 2)), Derivative(pw(mu[0], g2, g3), (mu[0], 3)), Derivative(pw(mu[0], g2, g3), (mu[0], 4)), Derivative(pw(mu[0], g2, g3), (mu[0], 5))],\n",
       "[0, Derivative(pw(mu[0], g2, g3), (mu[0], 2)), Derivative(pw(mu[0], g2, g3), (mu[0], 3)), Derivative(pw(mu[0], g2, g3), (mu[0], 4)), Derivative(pw(mu[0], g2, g3), (mu[0], 5)), Derivative(pw(mu[0], g2, g3), (mu[0], 6))],\n",
       "[0, Derivative(pw(mu[0], g2, g3), (mu[0], 3)), Derivative(pw(mu[0], g2, g3), (mu[0], 4)), Derivative(pw(mu[0], g2, g3), (mu[0], 5)), Derivative(pw(mu[0], g2, g3), (mu[0], 6)), Derivative(pw(mu[0], g2, g3), (mu[0], 7))],\n",
       "[0, Derivative(pw(mu[0], g2, g3), (mu[0], 4)), Derivative(pw(mu[0], g2, g3), (mu[0], 5)), Derivative(pw(mu[0], g2, g3), (mu[0], 6)), Derivative(pw(mu[0], g2, g3), (mu[0], 7)), Derivative(pw(mu[0], g2, g3), (mu[0], 8))],\n",
       "[0, Derivative(pw(mu[0], g2, g3), (mu[0], 5)), Derivative(pw(mu[0], g2, g3), (mu[0], 6)), Derivative(pw(mu[0], g2, g3), (mu[0], 7)), Derivative(pw(mu[0], g2, g3), (mu[0], 8)), Derivative(pw(mu[0], g2, g3), (mu[0], 9))]]))**(-1)/720, -sigma(z - mu[0], g2, g3)**6*sigma(z + 6*mu[0], g2, g3)/(sigma(z, g2, g3)**7*sigma(mu[0], g2, g3)**6*sigma(6*mu[0], g2, g3)))"
      ]
     },
     "execution_count": 72,
     "metadata": {},
     "output_type": "execute_result"
    },
    {
     "data": {
      "text/plain": [
       "{'sigma_N_val': mpc(real='-393.10915965424664', imag='-1.411220865097811e-13'),\n",
       " 'det_ratio_N_val_': -393.109159653258 - 1.76970417540945e-9*I,\n",
       " 'err_val': mpc(real='-2.5784449929394659e-12', imag='5.8043022320128376e-24')}"
      ]
     },
     "execution_count": 72,
     "metadata": {},
     "output_type": "execute_result"
    }
   ],
   "source": [
    "det_ratio_deg_case(6)\n",
    "test_det_ratio(z_val_, mu0_val_, g2val_, g3val_, 6)"
   ]
  },
  {
   "cell_type": "markdown",
   "id": "2c81e9a9",
   "metadata": {},
   "source": [
    "## Complete degeneracy\n",
    "\n",
    "The final level of degeneracy is achieved by making the parameter $\\mu_0$ take the appropriate rational multiple of a period $\\omega_i$ such that the right hand side of the determinat formula is a monomial in a Kronecker theta function. If $k$ is the order of the monomial, the following condition must be satisifed:"
   ]
  },
  {
   "cell_type": "code",
   "execution_count": 73,
   "id": "e0bd0b02",
   "metadata": {},
   "outputs": [
    {
     "data": {
      "text/latex": [
       "$\\displaystyle \\left(k - 1\\right) {\\mu}_{0} = 2 \\omega_{1} - {\\mu}_{0}$"
      ],
      "text/plain": [
       "Eq((k - 1)*mu[0], 2*omega1 - mu[0])"
      ]
     },
     "execution_count": 73,
     "metadata": {},
     "output_type": "execute_result"
    },
    {
     "data": {
      "text/latex": [
       "$\\displaystyle {\\mu}_{0} = \\frac{2 \\omega_{1}}{k}$"
      ],
      "text/plain": [
       "Eq(mu[0], 2*omega1/k)"
      ]
     },
     "execution_count": 73,
     "metadata": {},
     "output_type": "execute_result"
    }
   ],
   "source": [
    "Eq((k-1)*mu[0],2*omega1 - mu[0])\n",
    "Eq(mu[0],2*omega1/k)"
   ]
  },
  {
   "cell_type": "markdown",
   "id": "7956fc16",
   "metadata": {},
   "source": [
    "thereafter complete degeneracy is achieved by quasi-periodicity: "
   ]
  },
  {
   "cell_type": "code",
   "execution_count": 74,
   "id": "a1d72d2b",
   "metadata": {},
   "outputs": [
    {
     "data": {
      "text/latex": [
       "$\\displaystyle \\sigma{\\left(2 \\omega_{1} + z,g_{2},g_{3} \\right)} = - \\sigma{\\left(z,g_{2},g_{3} \\right)} e^{2 \\eta_{1} \\omega_{1} + 2 \\eta_{1} z}$"
      ],
      "text/plain": [
       "Eq(sigma(2*omega1 + z, g2, g3), -sigma(z, g2, g3)*exp(2*eta1*omega1 + 2*eta1*z))"
      ]
     },
     "execution_count": 74,
     "metadata": {},
     "output_type": "execute_result"
    }
   ],
   "source": [
    "quasi_period.subs([(m,0),(n,1)])"
   ]
  },
  {
   "cell_type": "code",
   "execution_count": 75,
   "id": "6a775a1a",
   "metadata": {},
   "outputs": [
    {
     "data": {
      "text/latex": [
       "$\\displaystyle \\sigma{\\left(2 \\omega_{1} + z - \\frac{2 \\omega_{1}}{k},g_{2},g_{3} \\right)} = - \\sigma{\\left(z - \\frac{2 \\omega_{1}}{k},g_{2},g_{3} \\right)} e^{2 \\eta_{1} \\omega_{1}} e^{2 \\eta_{1} z} e^{- \\frac{4 \\eta_{1} \\omega_{1}}{k}}$"
      ],
      "text/plain": [
       "Eq(sigma(2*omega1 + z - 2*omega1/k, g2, g3), -sigma(z - 2*omega1/k, g2, g3)*exp(2*eta1*omega1)*exp(2*eta1*z)*exp(-4*eta1*omega1/k))"
      ]
     },
     "execution_count": 75,
     "metadata": {},
     "output_type": "execute_result"
    },
    {
     "data": {
      "text/latex": [
       "$\\displaystyle \\frac{\\sigma{\\left(2 \\omega_{1} + z - \\frac{2 \\omega_{1}}{k},g_{2},g_{3} \\right)}}{\\sigma{\\left(2 \\omega_{1} - \\frac{2 \\omega_{1}}{k},g_{2},g_{3} \\right)}} = - \\frac{\\sigma{\\left(z - \\frac{2 \\omega_{1}}{k},g_{2},g_{3} \\right)} e^{2 \\eta_{1} z}}{\\sigma{\\left(\\frac{2 \\omega_{1}}{k},g_{2},g_{3} \\right)}}$"
      ],
      "text/plain": [
       "Eq(sigma(2*omega1 + z - 2*omega1/k, g2, g3)/sigma(2*omega1 - 2*omega1/k, g2, g3), -sigma(z - 2*omega1/k, g2, g3)*exp(2*eta1*z)/sigma(2*omega1/k, g2, g3))"
      ]
     },
     "execution_count": 75,
     "metadata": {},
     "output_type": "execute_result"
    }
   ],
   "source": [
    "_qq_a = quasi_period.subs([(m,0),(n,1),(z,z-2*omega1/k)]).expand()\n",
    "_qq_a0 = _qq_a.subs(z,0)\n",
    "_qq_a\n",
    "_qq_b = Eq(_qq_a.lhs/_qq_a.lhs.subs(z,0), _qq_a.rhs/_qq_a.rhs.subs(z,0)).subs(\n",
    "    sigma(-2*omega1/k,g2,g3), -sigma(2*omega1/k,g2,g3))\n",
    "_qq_b"
   ]
  },
  {
   "cell_type": "code",
   "execution_count": 76,
   "id": "e1a0fcc0",
   "metadata": {
    "scrolled": true
   },
   "outputs": [
    {
     "data": {
      "text/latex": [
       "$\\displaystyle \\sigma{\\left(z,g_{2},g_{3} \\right)} = - \\sigma{\\left(- 2 \\omega_{1} + z,g_{2},g_{3} \\right)} e^{- 2 \\eta_{1} \\omega_{1}} e^{2 \\eta_{1} z}$"
      ],
      "text/plain": [
       "Eq(sigma(z, g2, g3), -sigma(-2*omega1 + z, g2, g3)*exp(-2*eta1*omega1)*exp(2*eta1*z))"
      ]
     },
     "execution_count": 76,
     "metadata": {},
     "output_type": "execute_result"
    },
    {
     "data": {
      "text/latex": [
       "$\\displaystyle \\sigma{\\left(\\omega_{1} + z,g_{2},g_{3} \\right)} = - \\sigma{\\left(- \\omega_{1} + z,g_{2},g_{3} \\right)} e^{2 \\eta_{1} z}$"
      ],
      "text/plain": [
       "Eq(sigma(omega1 + z, g2, g3), -sigma(-omega1 + z, g2, g3)*exp(2*eta1*z))"
      ]
     },
     "execution_count": 76,
     "metadata": {},
     "output_type": "execute_result"
    },
    {
     "data": {
      "text/latex": [
       "$\\displaystyle \\sigma{\\left(\\frac{4 \\omega_{1}}{3} + z,g_{2},g_{3} \\right)} = - \\sigma{\\left(- \\frac{2 \\omega_{1}}{3} + z,g_{2},g_{3} \\right)} e^{\\frac{2 \\eta_{1} \\omega_{1}}{3}} e^{2 \\eta_{1} z}$"
      ],
      "text/plain": [
       "Eq(sigma(4*omega1/3 + z, g2, g3), -sigma(-2*omega1/3 + z, g2, g3)*exp(2*eta1*omega1/3)*exp(2*eta1*z))"
      ]
     },
     "execution_count": 76,
     "metadata": {},
     "output_type": "execute_result"
    },
    {
     "data": {
      "text/latex": [
       "$\\displaystyle \\sigma{\\left(\\frac{3 \\omega_{1}}{2} + z,g_{2},g_{3} \\right)} = - \\sigma{\\left(- \\frac{\\omega_{1}}{2} + z,g_{2},g_{3} \\right)} e^{\\eta_{1} \\omega_{1}} e^{2 \\eta_{1} z}$"
      ],
      "text/plain": [
       "Eq(sigma(3*omega1/2 + z, g2, g3), -sigma(-omega1/2 + z, g2, g3)*exp(eta1*omega1)*exp(2*eta1*z))"
      ]
     },
     "execution_count": 76,
     "metadata": {},
     "output_type": "execute_result"
    },
    {
     "data": {
      "text/latex": [
       "$\\displaystyle \\sigma{\\left(\\frac{8 \\omega_{1}}{5} + z,g_{2},g_{3} \\right)} = - \\sigma{\\left(- \\frac{2 \\omega_{1}}{5} + z,g_{2},g_{3} \\right)} e^{\\frac{6 \\eta_{1} \\omega_{1}}{5}} e^{2 \\eta_{1} z}$"
      ],
      "text/plain": [
       "Eq(sigma(8*omega1/5 + z, g2, g3), -sigma(-2*omega1/5 + z, g2, g3)*exp(6*eta1*omega1/5)*exp(2*eta1*z))"
      ]
     },
     "execution_count": 76,
     "metadata": {},
     "output_type": "execute_result"
    }
   ],
   "source": [
    "for _k in range(1,6):\n",
    "    _qq_a.subs(k,_k)"
   ]
  },
  {
   "cell_type": "markdown",
   "id": "7d96b021",
   "metadata": {},
   "source": [
    "### Examples"
   ]
  },
  {
   "cell_type": "code",
   "execution_count": 77,
   "id": "c8f28d25",
   "metadata": {},
   "outputs": [],
   "source": [
    "def complete_det_ratio_deg_case(_N):\n",
    "    return det_ratio_deg_case(_N).subs(mu[0],2*omega1/(_N + 1)).subs(*_qq_b.subs(k,_N+1).args)"
   ]
  },
  {
   "cell_type": "code",
   "execution_count": 78,
   "id": "003e2d2e",
   "metadata": {},
   "outputs": [
    {
     "data": {
      "text/latex": [
       "$\\displaystyle \\operatorname{Det}{\\left(\\left[\\begin{matrix}1 & \\operatorname{pw}{\\left(\\omega_{1},g_{2},g_{3} \\right)}\\\\1 & \\operatorname{pw}{\\left(z,g_{2},g_{3} \\right)}\\end{matrix}\\right] \\right)} \\operatorname{Det}^{-1}{\\left(\\left[\\begin{matrix}1\\end{matrix}\\right] \\right)} = \\frac{\\sigma^{2}{\\left(- \\omega_{1} + z,g_{2},g_{3} \\right)} e^{2 \\eta_{1} z}}{\\sigma^{2}{\\left(\\omega_{1},g_{2},g_{3} \\right)} \\sigma^{2}{\\left(z,g_{2},g_{3} \\right)}}$"
      ],
      "text/plain": [
       "Eq(Det(Matrix([\n",
       "[1, pw(omega1, g2, g3)],\n",
       "[1,      pw(z, g2, g3)]]))*Det(Matrix([[1]]))**(-1), sigma(-omega1 + z, g2, g3)**2*exp(2*eta1*z)/(sigma(omega1, g2, g3)**2*sigma(z, g2, g3)**2))"
      ]
     },
     "execution_count": 78,
     "metadata": {},
     "output_type": "execute_result"
    }
   ],
   "source": [
    "complete_det_ratio_deg_case(1)"
   ]
  },
  {
   "cell_type": "code",
   "execution_count": 79,
   "id": "8f441ffe",
   "metadata": {},
   "outputs": [
    {
     "data": {
      "text/latex": [
       "$\\displaystyle \\frac{\\operatorname{Det}{\\left(\\left[\\begin{matrix}1 & \\operatorname{pw}{\\left(\\frac{2 \\omega_{1}}{3},g_{2},g_{3} \\right)} & \\left. \\frac{\\partial}{\\partial \\xi} \\operatorname{pw}{\\left(\\xi,g_{2},g_{3} \\right)} \\right|_{\\substack{ \\xi=\\frac{2 \\omega_{1}}{3} }}\\\\0 & \\left. \\frac{\\partial}{\\partial \\xi} \\operatorname{pw}{\\left(\\xi,g_{2},g_{3} \\right)} \\right|_{\\substack{ \\xi=\\frac{2 \\omega_{1}}{3} }} & \\left. \\frac{\\partial^{2}}{\\partial \\xi^{2}} \\operatorname{pw}{\\left(\\xi,g_{2},g_{3} \\right)} \\right|_{\\substack{ \\xi=\\frac{2 \\omega_{1}}{3} }}\\\\1 & \\operatorname{pw}{\\left(z,g_{2},g_{3} \\right)} & \\frac{\\partial}{\\partial z} \\operatorname{pw}{\\left(z,g_{2},g_{3} \\right)}\\end{matrix}\\right] \\right)} \\operatorname{Det}^{-1}{\\left(\\left[\\begin{matrix}1 & \\operatorname{pw}{\\left(\\frac{2 \\omega_{1}}{3},g_{2},g_{3} \\right)}\\\\0 & \\left. \\frac{\\partial}{\\partial \\xi} \\operatorname{pw}{\\left(\\xi,g_{2},g_{3} \\right)} \\right|_{\\substack{ \\xi=\\frac{2 \\omega_{1}}{3} }}\\end{matrix}\\right] \\right)}}{2} = \\frac{\\sigma^{3}{\\left(- \\frac{2 \\omega_{1}}{3} + z,g_{2},g_{3} \\right)} e^{2 \\eta_{1} z}}{\\sigma^{3}{\\left(\\frac{2 \\omega_{1}}{3},g_{2},g_{3} \\right)} \\sigma^{3}{\\left(z,g_{2},g_{3} \\right)}}$"
      ],
      "text/plain": [
       "Eq(Det(Matrix([\n",
       "[1,                                  pw(2*omega1/3, g2, g3),      Subs(Derivative(pw(_xi, g2, g3), _xi), _xi, 2*omega1/3)],\n",
       "[0, Subs(Derivative(pw(_xi, g2, g3), _xi), _xi, 2*omega1/3), Subs(Derivative(pw(_xi, g2, g3), (_xi, 2)), _xi, 2*omega1/3)],\n",
       "[1,                                           pw(z, g2, g3),                                 Derivative(pw(z, g2, g3), z)]]))*Det(Matrix([\n",
       "[1,                                  pw(2*omega1/3, g2, g3)],\n",
       "[0, Subs(Derivative(pw(_xi, g2, g3), _xi), _xi, 2*omega1/3)]]))**(-1)/2, sigma(-2*omega1/3 + z, g2, g3)**3*exp(2*eta1*z)/(sigma(2*omega1/3, g2, g3)**3*sigma(z, g2, g3)**3))"
      ]
     },
     "execution_count": 79,
     "metadata": {},
     "output_type": "execute_result"
    }
   ],
   "source": [
    "complete_det_ratio_deg_case(2)"
   ]
  },
  {
   "cell_type": "code",
   "execution_count": 80,
   "id": "319246b3",
   "metadata": {},
   "outputs": [
    {
     "data": {
      "text/latex": [
       "$\\displaystyle \\frac{\\operatorname{Det}{\\left(\\left[\\begin{matrix}1 & \\operatorname{pw}{\\left(\\frac{\\omega_{1}}{2},g_{2},g_{3} \\right)} & \\left. \\frac{\\partial}{\\partial \\xi} \\operatorname{pw}{\\left(\\xi,g_{2},g_{3} \\right)} \\right|_{\\substack{ \\xi=\\frac{\\omega_{1}}{2} }} & \\left. \\frac{\\partial^{2}}{\\partial \\xi^{2}} \\operatorname{pw}{\\left(\\xi,g_{2},g_{3} \\right)} \\right|_{\\substack{ \\xi=\\frac{\\omega_{1}}{2} }}\\\\0 & \\left. \\frac{\\partial}{\\partial \\xi} \\operatorname{pw}{\\left(\\xi,g_{2},g_{3} \\right)} \\right|_{\\substack{ \\xi=\\frac{\\omega_{1}}{2} }} & \\left. \\frac{\\partial^{2}}{\\partial \\xi^{2}} \\operatorname{pw}{\\left(\\xi,g_{2},g_{3} \\right)} \\right|_{\\substack{ \\xi=\\frac{\\omega_{1}}{2} }} & \\left. \\frac{\\partial^{3}}{\\partial \\xi^{3}} \\operatorname{pw}{\\left(\\xi,g_{2},g_{3} \\right)} \\right|_{\\substack{ \\xi=\\frac{\\omega_{1}}{2} }}\\\\0 & \\left. \\frac{\\partial^{2}}{\\partial \\xi^{2}} \\operatorname{pw}{\\left(\\xi,g_{2},g_{3} \\right)} \\right|_{\\substack{ \\xi=\\frac{\\omega_{1}}{2} }} & \\left. \\frac{\\partial^{3}}{\\partial \\xi^{3}} \\operatorname{pw}{\\left(\\xi,g_{2},g_{3} \\right)} \\right|_{\\substack{ \\xi=\\frac{\\omega_{1}}{2} }} & \\left. \\frac{\\partial^{4}}{\\partial \\xi^{4}} \\operatorname{pw}{\\left(\\xi,g_{2},g_{3} \\right)} \\right|_{\\substack{ \\xi=\\frac{\\omega_{1}}{2} }}\\\\1 & \\operatorname{pw}{\\left(z,g_{2},g_{3} \\right)} & \\frac{\\partial}{\\partial z} \\operatorname{pw}{\\left(z,g_{2},g_{3} \\right)} & \\frac{\\partial^{2}}{\\partial z^{2}} \\operatorname{pw}{\\left(z,g_{2},g_{3} \\right)}\\end{matrix}\\right] \\right)} \\operatorname{Det}^{-1}{\\left(\\left[\\begin{matrix}1 & \\operatorname{pw}{\\left(\\frac{\\omega_{1}}{2},g_{2},g_{3} \\right)} & \\left. \\frac{\\partial}{\\partial \\xi} \\operatorname{pw}{\\left(\\xi,g_{2},g_{3} \\right)} \\right|_{\\substack{ \\xi=\\frac{\\omega_{1}}{2} }}\\\\0 & \\left. \\frac{\\partial}{\\partial \\xi} \\operatorname{pw}{\\left(\\xi,g_{2},g_{3} \\right)} \\right|_{\\substack{ \\xi=\\frac{\\omega_{1}}{2} }} & \\left. \\frac{\\partial^{2}}{\\partial \\xi^{2}} \\operatorname{pw}{\\left(\\xi,g_{2},g_{3} \\right)} \\right|_{\\substack{ \\xi=\\frac{\\omega_{1}}{2} }}\\\\0 & \\left. \\frac{\\partial^{2}}{\\partial \\xi^{2}} \\operatorname{pw}{\\left(\\xi,g_{2},g_{3} \\right)} \\right|_{\\substack{ \\xi=\\frac{\\omega_{1}}{2} }} & \\left. \\frac{\\partial^{3}}{\\partial \\xi^{3}} \\operatorname{pw}{\\left(\\xi,g_{2},g_{3} \\right)} \\right|_{\\substack{ \\xi=\\frac{\\omega_{1}}{2} }}\\end{matrix}\\right] \\right)}}{6} = \\frac{\\sigma^{4}{\\left(- \\frac{\\omega_{1}}{2} + z,g_{2},g_{3} \\right)} e^{2 \\eta_{1} z}}{\\sigma^{4}{\\left(\\frac{\\omega_{1}}{2},g_{2},g_{3} \\right)} \\sigma^{4}{\\left(z,g_{2},g_{3} \\right)}}$"
      ],
      "text/plain": [
       "Eq(Det(Matrix([\n",
       "[1,                                       pw(omega1/2, g2, g3),      Subs(Derivative(pw(_xi, g2, g3), _xi), _xi, omega1/2), Subs(Derivative(pw(_xi, g2, g3), (_xi, 2)), _xi, omega1/2)],\n",
       "[0,      Subs(Derivative(pw(_xi, g2, g3), _xi), _xi, omega1/2), Subs(Derivative(pw(_xi, g2, g3), (_xi, 2)), _xi, omega1/2), Subs(Derivative(pw(_xi, g2, g3), (_xi, 3)), _xi, omega1/2)],\n",
       "[0, Subs(Derivative(pw(_xi, g2, g3), (_xi, 2)), _xi, omega1/2), Subs(Derivative(pw(_xi, g2, g3), (_xi, 3)), _xi, omega1/2), Subs(Derivative(pw(_xi, g2, g3), (_xi, 4)), _xi, omega1/2)],\n",
       "[1,                                              pw(z, g2, g3),                               Derivative(pw(z, g2, g3), z),                          Derivative(pw(z, g2, g3), (z, 2))]]))*Det(Matrix([\n",
       "[1,                                       pw(omega1/2, g2, g3),      Subs(Derivative(pw(_xi, g2, g3), _xi), _xi, omega1/2)],\n",
       "[0,      Subs(Derivative(pw(_xi, g2, g3), _xi), _xi, omega1/2), Subs(Derivative(pw(_xi, g2, g3), (_xi, 2)), _xi, omega1/2)],\n",
       "[0, Subs(Derivative(pw(_xi, g2, g3), (_xi, 2)), _xi, omega1/2), Subs(Derivative(pw(_xi, g2, g3), (_xi, 3)), _xi, omega1/2)]]))**(-1)/6, sigma(-omega1/2 + z, g2, g3)**4*exp(2*eta1*z)/(sigma(omega1/2, g2, g3)**4*sigma(z, g2, g3)**4))"
      ]
     },
     "execution_count": 80,
     "metadata": {},
     "output_type": "execute_result"
    }
   ],
   "source": [
    "complete_det_ratio_deg_case(3)"
   ]
  },
  {
   "cell_type": "code",
   "execution_count": 81,
   "id": "84533ebc",
   "metadata": {
    "scrolled": false
   },
   "outputs": [
    {
     "data": {
      "text/latex": [
       "$\\displaystyle \\frac{\\operatorname{Det}{\\left(\\left[\\begin{matrix}1 & \\operatorname{pw}{\\left(\\frac{2 \\omega_{1}}{5},g_{2},g_{3} \\right)} & \\left. \\frac{\\partial}{\\partial \\xi} \\operatorname{pw}{\\left(\\xi,g_{2},g_{3} \\right)} \\right|_{\\substack{ \\xi=\\frac{2 \\omega_{1}}{5} }} & \\left. \\frac{\\partial^{2}}{\\partial \\xi^{2}} \\operatorname{pw}{\\left(\\xi,g_{2},g_{3} \\right)} \\right|_{\\substack{ \\xi=\\frac{2 \\omega_{1}}{5} }} & \\left. \\frac{\\partial^{3}}{\\partial \\xi^{3}} \\operatorname{pw}{\\left(\\xi,g_{2},g_{3} \\right)} \\right|_{\\substack{ \\xi=\\frac{2 \\omega_{1}}{5} }}\\\\0 & \\left. \\frac{\\partial}{\\partial \\xi} \\operatorname{pw}{\\left(\\xi,g_{2},g_{3} \\right)} \\right|_{\\substack{ \\xi=\\frac{2 \\omega_{1}}{5} }} & \\left. \\frac{\\partial^{2}}{\\partial \\xi^{2}} \\operatorname{pw}{\\left(\\xi,g_{2},g_{3} \\right)} \\right|_{\\substack{ \\xi=\\frac{2 \\omega_{1}}{5} }} & \\left. \\frac{\\partial^{3}}{\\partial \\xi^{3}} \\operatorname{pw}{\\left(\\xi,g_{2},g_{3} \\right)} \\right|_{\\substack{ \\xi=\\frac{2 \\omega_{1}}{5} }} & \\left. \\frac{\\partial^{4}}{\\partial \\xi^{4}} \\operatorname{pw}{\\left(\\xi,g_{2},g_{3} \\right)} \\right|_{\\substack{ \\xi=\\frac{2 \\omega_{1}}{5} }}\\\\0 & \\left. \\frac{\\partial^{2}}{\\partial \\xi^{2}} \\operatorname{pw}{\\left(\\xi,g_{2},g_{3} \\right)} \\right|_{\\substack{ \\xi=\\frac{2 \\omega_{1}}{5} }} & \\left. \\frac{\\partial^{3}}{\\partial \\xi^{3}} \\operatorname{pw}{\\left(\\xi,g_{2},g_{3} \\right)} \\right|_{\\substack{ \\xi=\\frac{2 \\omega_{1}}{5} }} & \\left. \\frac{\\partial^{4}}{\\partial \\xi^{4}} \\operatorname{pw}{\\left(\\xi,g_{2},g_{3} \\right)} \\right|_{\\substack{ \\xi=\\frac{2 \\omega_{1}}{5} }} & \\left. \\frac{\\partial^{5}}{\\partial \\xi^{5}} \\operatorname{pw}{\\left(\\xi,g_{2},g_{3} \\right)} \\right|_{\\substack{ \\xi=\\frac{2 \\omega_{1}}{5} }}\\\\0 & \\left. \\frac{\\partial^{3}}{\\partial \\xi^{3}} \\operatorname{pw}{\\left(\\xi,g_{2},g_{3} \\right)} \\right|_{\\substack{ \\xi=\\frac{2 \\omega_{1}}{5} }} & \\left. \\frac{\\partial^{4}}{\\partial \\xi^{4}} \\operatorname{pw}{\\left(\\xi,g_{2},g_{3} \\right)} \\right|_{\\substack{ \\xi=\\frac{2 \\omega_{1}}{5} }} & \\left. \\frac{\\partial^{5}}{\\partial \\xi^{5}} \\operatorname{pw}{\\left(\\xi,g_{2},g_{3} \\right)} \\right|_{\\substack{ \\xi=\\frac{2 \\omega_{1}}{5} }} & \\left. \\frac{\\partial^{6}}{\\partial \\xi^{6}} \\operatorname{pw}{\\left(\\xi,g_{2},g_{3} \\right)} \\right|_{\\substack{ \\xi=\\frac{2 \\omega_{1}}{5} }}\\\\1 & \\operatorname{pw}{\\left(z,g_{2},g_{3} \\right)} & \\frac{\\partial}{\\partial z} \\operatorname{pw}{\\left(z,g_{2},g_{3} \\right)} & \\frac{\\partial^{2}}{\\partial z^{2}} \\operatorname{pw}{\\left(z,g_{2},g_{3} \\right)} & \\frac{\\partial^{3}}{\\partial z^{3}} \\operatorname{pw}{\\left(z,g_{2},g_{3} \\right)}\\end{matrix}\\right] \\right)} \\operatorname{Det}^{-1}{\\left(\\left[\\begin{matrix}1 & \\operatorname{pw}{\\left(\\frac{2 \\omega_{1}}{5},g_{2},g_{3} \\right)} & \\left. \\frac{\\partial}{\\partial \\xi} \\operatorname{pw}{\\left(\\xi,g_{2},g_{3} \\right)} \\right|_{\\substack{ \\xi=\\frac{2 \\omega_{1}}{5} }} & \\left. \\frac{\\partial^{2}}{\\partial \\xi^{2}} \\operatorname{pw}{\\left(\\xi,g_{2},g_{3} \\right)} \\right|_{\\substack{ \\xi=\\frac{2 \\omega_{1}}{5} }}\\\\0 & \\left. \\frac{\\partial}{\\partial \\xi} \\operatorname{pw}{\\left(\\xi,g_{2},g_{3} \\right)} \\right|_{\\substack{ \\xi=\\frac{2 \\omega_{1}}{5} }} & \\left. \\frac{\\partial^{2}}{\\partial \\xi^{2}} \\operatorname{pw}{\\left(\\xi,g_{2},g_{3} \\right)} \\right|_{\\substack{ \\xi=\\frac{2 \\omega_{1}}{5} }} & \\left. \\frac{\\partial^{3}}{\\partial \\xi^{3}} \\operatorname{pw}{\\left(\\xi,g_{2},g_{3} \\right)} \\right|_{\\substack{ \\xi=\\frac{2 \\omega_{1}}{5} }}\\\\0 & \\left. \\frac{\\partial^{2}}{\\partial \\xi^{2}} \\operatorname{pw}{\\left(\\xi,g_{2},g_{3} \\right)} \\right|_{\\substack{ \\xi=\\frac{2 \\omega_{1}}{5} }} & \\left. \\frac{\\partial^{3}}{\\partial \\xi^{3}} \\operatorname{pw}{\\left(\\xi,g_{2},g_{3} \\right)} \\right|_{\\substack{ \\xi=\\frac{2 \\omega_{1}}{5} }} & \\left. \\frac{\\partial^{4}}{\\partial \\xi^{4}} \\operatorname{pw}{\\left(\\xi,g_{2},g_{3} \\right)} \\right|_{\\substack{ \\xi=\\frac{2 \\omega_{1}}{5} }}\\\\0 & \\left. \\frac{\\partial^{3}}{\\partial \\xi^{3}} \\operatorname{pw}{\\left(\\xi,g_{2},g_{3} \\right)} \\right|_{\\substack{ \\xi=\\frac{2 \\omega_{1}}{5} }} & \\left. \\frac{\\partial^{4}}{\\partial \\xi^{4}} \\operatorname{pw}{\\left(\\xi,g_{2},g_{3} \\right)} \\right|_{\\substack{ \\xi=\\frac{2 \\omega_{1}}{5} }} & \\left. \\frac{\\partial^{5}}{\\partial \\xi^{5}} \\operatorname{pw}{\\left(\\xi,g_{2},g_{3} \\right)} \\right|_{\\substack{ \\xi=\\frac{2 \\omega_{1}}{5} }}\\end{matrix}\\right] \\right)}}{24} = \\frac{\\sigma^{5}{\\left(- \\frac{2 \\omega_{1}}{5} + z,g_{2},g_{3} \\right)} e^{2 \\eta_{1} z}}{\\sigma^{5}{\\left(\\frac{2 \\omega_{1}}{5},g_{2},g_{3} \\right)} \\sigma^{5}{\\left(z,g_{2},g_{3} \\right)}}$"
      ],
      "text/plain": [
       "Eq(Det(Matrix([\n",
       "[1,                                       pw(2*omega1/5, g2, g3),      Subs(Derivative(pw(_xi, g2, g3), _xi), _xi, 2*omega1/5), Subs(Derivative(pw(_xi, g2, g3), (_xi, 2)), _xi, 2*omega1/5), Subs(Derivative(pw(_xi, g2, g3), (_xi, 3)), _xi, 2*omega1/5)],\n",
       "[0,      Subs(Derivative(pw(_xi, g2, g3), _xi), _xi, 2*omega1/5), Subs(Derivative(pw(_xi, g2, g3), (_xi, 2)), _xi, 2*omega1/5), Subs(Derivative(pw(_xi, g2, g3), (_xi, 3)), _xi, 2*omega1/5), Subs(Derivative(pw(_xi, g2, g3), (_xi, 4)), _xi, 2*omega1/5)],\n",
       "[0, Subs(Derivative(pw(_xi, g2, g3), (_xi, 2)), _xi, 2*omega1/5), Subs(Derivative(pw(_xi, g2, g3), (_xi, 3)), _xi, 2*omega1/5), Subs(Derivative(pw(_xi, g2, g3), (_xi, 4)), _xi, 2*omega1/5), Subs(Derivative(pw(_xi, g2, g3), (_xi, 5)), _xi, 2*omega1/5)],\n",
       "[0, Subs(Derivative(pw(_xi, g2, g3), (_xi, 3)), _xi, 2*omega1/5), Subs(Derivative(pw(_xi, g2, g3), (_xi, 4)), _xi, 2*omega1/5), Subs(Derivative(pw(_xi, g2, g3), (_xi, 5)), _xi, 2*omega1/5), Subs(Derivative(pw(_xi, g2, g3), (_xi, 6)), _xi, 2*omega1/5)],\n",
       "[1,                                                pw(z, g2, g3),                                 Derivative(pw(z, g2, g3), z),                            Derivative(pw(z, g2, g3), (z, 2)),                            Derivative(pw(z, g2, g3), (z, 3))]]))*Det(Matrix([\n",
       "[1,                                       pw(2*omega1/5, g2, g3),      Subs(Derivative(pw(_xi, g2, g3), _xi), _xi, 2*omega1/5), Subs(Derivative(pw(_xi, g2, g3), (_xi, 2)), _xi, 2*omega1/5)],\n",
       "[0,      Subs(Derivative(pw(_xi, g2, g3), _xi), _xi, 2*omega1/5), Subs(Derivative(pw(_xi, g2, g3), (_xi, 2)), _xi, 2*omega1/5), Subs(Derivative(pw(_xi, g2, g3), (_xi, 3)), _xi, 2*omega1/5)],\n",
       "[0, Subs(Derivative(pw(_xi, g2, g3), (_xi, 2)), _xi, 2*omega1/5), Subs(Derivative(pw(_xi, g2, g3), (_xi, 3)), _xi, 2*omega1/5), Subs(Derivative(pw(_xi, g2, g3), (_xi, 4)), _xi, 2*omega1/5)],\n",
       "[0, Subs(Derivative(pw(_xi, g2, g3), (_xi, 3)), _xi, 2*omega1/5), Subs(Derivative(pw(_xi, g2, g3), (_xi, 4)), _xi, 2*omega1/5), Subs(Derivative(pw(_xi, g2, g3), (_xi, 5)), _xi, 2*omega1/5)]]))**(-1)/24, sigma(-2*omega1/5 + z, g2, g3)**5*exp(2*eta1*z)/(sigma(2*omega1/5, g2, g3)**5*sigma(z, g2, g3)**5))"
      ]
     },
     "execution_count": 81,
     "metadata": {},
     "output_type": "execute_result"
    }
   ],
   "source": [
    "complete_det_ratio_deg_case(4)"
   ]
  },
  {
   "cell_type": "markdown",
   "id": "4b252927",
   "metadata": {},
   "source": [
    "## Derivatives of the Weierstrass P function\n",
    "\n",
    "It is evident that the completely degenerate Kronecker theta functions can be expressed as a finite sum over derivatives of the Weierstrass P function. Conversely, the $k^{th}$ order derivative of Weierstrass P function will likely have an expression in terms of a finite sum over Kronecker theta functions, and by Taylor's theorem, it should be possible to expand the Weierstrass P function in an infinite sum over Kronecker theta functions. "
   ]
  },
  {
   "cell_type": "markdown",
   "id": "aab57aac",
   "metadata": {},
   "source": [
    "## Generalised degenerate Kronecker theta functions"
   ]
  },
  {
   "cell_type": "code",
   "execution_count": 83,
   "id": "8699c84b",
   "metadata": {},
   "outputs": [
    {
     "data": {
      "text/latex": [
       "$\\displaystyle \\operatorname{Det}{\\left(\\left[\\begin{matrix}1 & \\operatorname{pw}{\\left(\\omega_{1},g_{2},g_{3} \\right)}\\\\1 & \\operatorname{pw}{\\left(z,g_{2},g_{3} \\right)}\\end{matrix}\\right] \\right)} \\operatorname{Det}^{-1}{\\left(\\left[\\begin{matrix}1\\end{matrix}\\right] \\right)} = \\frac{\\sigma^{2}{\\left(- \\omega_{1} + z,g_{2},g_{3} \\right)} e^{2 \\eta_{1} z}}{\\sigma^{2}{\\left(\\omega_{1},g_{2},g_{3} \\right)} \\sigma^{2}{\\left(z,g_{2},g_{3} \\right)}}$"
      ],
      "text/plain": [
       "Eq(Det(Matrix([\n",
       "[1, pw(omega1, g2, g3)],\n",
       "[1,      pw(z, g2, g3)]]))*Det(Matrix([[1]]))**(-1), sigma(-omega1 + z, g2, g3)**2*exp(2*eta1*z)/(sigma(omega1, g2, g3)**2*sigma(z, g2, g3)**2))"
      ]
     },
     "execution_count": 83,
     "metadata": {},
     "output_type": "execute_result"
    }
   ],
   "source": [
    "complete_det_ratio_deg_case(1)"
   ]
  },
  {
   "cell_type": "code",
   "execution_count": 84,
   "id": "b98a57ad",
   "metadata": {},
   "outputs": [
    {
     "data": {
      "text/latex": [
       "$\\displaystyle \\frac{\\operatorname{Det}{\\left(\\left[\\begin{matrix}1 & \\operatorname{pw}{\\left(\\frac{\\omega_{1}}{2},g_{2},g_{3} \\right)} & \\left. \\frac{\\partial}{\\partial \\xi} \\operatorname{pw}{\\left(\\xi,g_{2},g_{3} \\right)} \\right|_{\\substack{ \\xi=\\frac{\\omega_{1}}{2} }} & \\left. \\frac{\\partial^{2}}{\\partial \\xi^{2}} \\operatorname{pw}{\\left(\\xi,g_{2},g_{3} \\right)} \\right|_{\\substack{ \\xi=\\frac{\\omega_{1}}{2} }}\\\\0 & \\left. \\frac{\\partial}{\\partial \\xi} \\operatorname{pw}{\\left(\\xi,g_{2},g_{3} \\right)} \\right|_{\\substack{ \\xi=\\frac{\\omega_{1}}{2} }} & \\left. \\frac{\\partial^{2}}{\\partial \\xi^{2}} \\operatorname{pw}{\\left(\\xi,g_{2},g_{3} \\right)} \\right|_{\\substack{ \\xi=\\frac{\\omega_{1}}{2} }} & \\left. \\frac{\\partial^{3}}{\\partial \\xi^{3}} \\operatorname{pw}{\\left(\\xi,g_{2},g_{3} \\right)} \\right|_{\\substack{ \\xi=\\frac{\\omega_{1}}{2} }}\\\\0 & \\left. \\frac{\\partial^{2}}{\\partial \\xi^{2}} \\operatorname{pw}{\\left(\\xi,g_{2},g_{3} \\right)} \\right|_{\\substack{ \\xi=\\frac{\\omega_{1}}{2} }} & \\left. \\frac{\\partial^{3}}{\\partial \\xi^{3}} \\operatorname{pw}{\\left(\\xi,g_{2},g_{3} \\right)} \\right|_{\\substack{ \\xi=\\frac{\\omega_{1}}{2} }} & \\left. \\frac{\\partial^{4}}{\\partial \\xi^{4}} \\operatorname{pw}{\\left(\\xi,g_{2},g_{3} \\right)} \\right|_{\\substack{ \\xi=\\frac{\\omega_{1}}{2} }}\\\\1 & \\operatorname{pw}{\\left(z,g_{2},g_{3} \\right)} & \\frac{\\partial}{\\partial z} \\operatorname{pw}{\\left(z,g_{2},g_{3} \\right)} & \\frac{\\partial^{2}}{\\partial z^{2}} \\operatorname{pw}{\\left(z,g_{2},g_{3} \\right)}\\end{matrix}\\right] \\right)} \\operatorname{Det}^{-1}{\\left(\\left[\\begin{matrix}1 & \\operatorname{pw}{\\left(\\frac{\\omega_{1}}{2},g_{2},g_{3} \\right)} & \\left. \\frac{\\partial}{\\partial \\xi} \\operatorname{pw}{\\left(\\xi,g_{2},g_{3} \\right)} \\right|_{\\substack{ \\xi=\\frac{\\omega_{1}}{2} }}\\\\0 & \\left. \\frac{\\partial}{\\partial \\xi} \\operatorname{pw}{\\left(\\xi,g_{2},g_{3} \\right)} \\right|_{\\substack{ \\xi=\\frac{\\omega_{1}}{2} }} & \\left. \\frac{\\partial^{2}}{\\partial \\xi^{2}} \\operatorname{pw}{\\left(\\xi,g_{2},g_{3} \\right)} \\right|_{\\substack{ \\xi=\\frac{\\omega_{1}}{2} }}\\\\0 & \\left. \\frac{\\partial^{2}}{\\partial \\xi^{2}} \\operatorname{pw}{\\left(\\xi,g_{2},g_{3} \\right)} \\right|_{\\substack{ \\xi=\\frac{\\omega_{1}}{2} }} & \\left. \\frac{\\partial^{3}}{\\partial \\xi^{3}} \\operatorname{pw}{\\left(\\xi,g_{2},g_{3} \\right)} \\right|_{\\substack{ \\xi=\\frac{\\omega_{1}}{2} }}\\end{matrix}\\right] \\right)}}{6} = \\frac{\\sigma^{4}{\\left(- \\frac{\\omega_{1}}{2} + z,g_{2},g_{3} \\right)} e^{2 \\eta_{1} z}}{\\sigma^{4}{\\left(\\frac{\\omega_{1}}{2},g_{2},g_{3} \\right)} \\sigma^{4}{\\left(z,g_{2},g_{3} \\right)}}$"
      ],
      "text/plain": [
       "Eq(Det(Matrix([\n",
       "[1,                                       pw(omega1/2, g2, g3),      Subs(Derivative(pw(_xi, g2, g3), _xi), _xi, omega1/2), Subs(Derivative(pw(_xi, g2, g3), (_xi, 2)), _xi, omega1/2)],\n",
       "[0,      Subs(Derivative(pw(_xi, g2, g3), _xi), _xi, omega1/2), Subs(Derivative(pw(_xi, g2, g3), (_xi, 2)), _xi, omega1/2), Subs(Derivative(pw(_xi, g2, g3), (_xi, 3)), _xi, omega1/2)],\n",
       "[0, Subs(Derivative(pw(_xi, g2, g3), (_xi, 2)), _xi, omega1/2), Subs(Derivative(pw(_xi, g2, g3), (_xi, 3)), _xi, omega1/2), Subs(Derivative(pw(_xi, g2, g3), (_xi, 4)), _xi, omega1/2)],\n",
       "[1,                                              pw(z, g2, g3),                               Derivative(pw(z, g2, g3), z),                          Derivative(pw(z, g2, g3), (z, 2))]]))*Det(Matrix([\n",
       "[1,                                       pw(omega1/2, g2, g3),      Subs(Derivative(pw(_xi, g2, g3), _xi), _xi, omega1/2)],\n",
       "[0,      Subs(Derivative(pw(_xi, g2, g3), _xi), _xi, omega1/2), Subs(Derivative(pw(_xi, g2, g3), (_xi, 2)), _xi, omega1/2)],\n",
       "[0, Subs(Derivative(pw(_xi, g2, g3), (_xi, 2)), _xi, omega1/2), Subs(Derivative(pw(_xi, g2, g3), (_xi, 3)), _xi, omega1/2)]]))**(-1)/6, sigma(-omega1/2 + z, g2, g3)**4*exp(2*eta1*z)/(sigma(omega1/2, g2, g3)**4*sigma(z, g2, g3)**4))"
      ]
     },
     "execution_count": 84,
     "metadata": {},
     "output_type": "execute_result"
    }
   ],
   "source": [
    "complete_det_ratio_deg_case(3)"
   ]
  },
  {
   "cell_type": "code",
   "execution_count": 86,
   "id": "f1d9db9c",
   "metadata": {},
   "outputs": [
    {
     "data": {
      "text/plain": [
       "(-pw(omega1, g2, g3) + pw(z, g2, g3),\n",
       " sigma(-omega1 + z, g2, g3)**2*exp(2*eta1*z)/(sigma(omega1, g2, g3)**2*sigma(z, g2, g3)**2))"
      ]
     },
     "execution_count": 86,
     "metadata": {},
     "output_type": "execute_result"
    }
   ],
   "source": [
    "complete_det_ratio_deg_case(1).replace(Det,det).args"
   ]
  },
  {
   "cell_type": "code",
   "execution_count": null,
   "id": "9467b5bf",
   "metadata": {},
   "outputs": [],
   "source": []
  }
 ],
 "metadata": {
  "kernelspec": {
   "display_name": "Python 3 (ipykernel)",
   "language": "python",
   "name": "python3"
  },
  "language_info": {
   "codemirror_mode": {
    "name": "ipython",
    "version": 3
   },
   "file_extension": ".py",
   "mimetype": "text/x-python",
   "name": "python",
   "nbconvert_exporter": "python",
   "pygments_lexer": "ipython3",
   "version": "3.11.10"
  }
 },
 "nbformat": 4,
 "nbformat_minor": 5
}
