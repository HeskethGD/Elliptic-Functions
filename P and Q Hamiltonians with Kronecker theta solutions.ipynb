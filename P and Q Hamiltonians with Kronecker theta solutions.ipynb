{
 "cells": [
  {
   "cell_type": "markdown",
   "id": "439691ab",
   "metadata": {},
   "source": [
    "# P and Q Hamiltonians with Kronecker theta solutions"
   ]
  },
  {
   "cell_type": "code",
   "execution_count": 59,
   "id": "ba506d40",
   "metadata": {},
   "outputs": [],
   "source": [
    "from sympy import *\n",
    "(x, y, X, Y, Z, B, C, n, m, l, j, q, N, M, K, k, epsilon, z, s, p1, p2, p3, g2, g3,\n",
    " z0, w1, w2, w3, e1, e2, e3, Delta, \n",
    " omega1, omega2, omega3, eta1, eta2, eta3, d1, d2, d3) = symbols(\n",
    "    '''x, y, X, Y, Z, B, C, n, m, l, j, q, N, M, K, k, epsilon, z, s, p1, p2, p3, g2, g3,\n",
    "    z0, w1, w2, w3, e1, e2, e3, Delta, \n",
    "    omega1, omega2, omega3, eta1, eta2, eta3, d1, d2, d3'''\n",
    ")\n",
    "alpha, delta, t, nu, epsilon, theta = symbols('alpha, delta, t, nu, epsilon, theta')\n",
    "pw = Function('pw') # Weierstrass P function\n",
    "pwp = Function('pwp') # Derivative of Weierstrass P function\n",
    "zw = Function('zw') # Weierstrass Zeta function\n",
    "sigma = Function('sigma') # Weierstrass Sigma function\n",
    "U = Function('U')\n",
    "V = Function('V')\n",
    "Q = Function('Q')\n",
    "P = Function('P')\n",
    "mu = IndexedBase('mu')\n",
    "xi = IndexedBase('xi')\n",
    "from IPython.core.interactiveshell import InteractiveShell\n",
    "InteractiveShell.ast_node_interactivity = 'all'"
   ]
  },
  {
   "cell_type": "markdown",
   "id": "ada77f9e",
   "metadata": {},
   "source": [
    "Let $Q(N,x), P(N,x)$ be polynomials of order $N$ in $x$ and let $U(\\mu_n,z)$ be Kronecker theta functions and let $V(\\mu_n,z)$ be the conjugate of $U(\\mu_n,z)$ such that:"
   ]
  },
  {
   "cell_type": "code",
   "execution_count": 49,
   "id": "985d53d8",
   "metadata": {},
   "outputs": [
    {
     "data": {
      "text/latex": [
       "$\\displaystyle U{\\left({\\mu}_{n},z \\right)} V{\\left({\\mu}_{n},z \\right)} = \\operatorname{pw}{\\left(z,g_{2},g_{3} \\right)} - \\operatorname{pw}{\\left({\\mu}_{n},g_{2},g_{3} \\right)}$"
      ],
      "text/plain": [
       "Eq(U(mu[n], z)*V(mu[n], z), pw(z, g2, g3) - pw(mu[n], g2, g3))"
      ]
     },
     "execution_count": 49,
     "metadata": {},
     "output_type": "execute_result"
    }
   ],
   "source": [
    "Eq(U(mu[n],z)*V(mu[n],z), pw(z,g2,g3) - pw(mu[n],g2,g3))"
   ]
  },
  {
   "cell_type": "markdown",
   "id": "4a034127",
   "metadata": {},
   "source": [
    "Then by the Frobenius-Stickelberger determinant formula (See the notebook *Weierstrass Sigma Ratios from the Frobenius Stickelberger Elliptic Function Determinant Formula - With Q and P Polynomials*):"
   ]
  },
  {
   "cell_type": "code",
   "execution_count": 54,
   "id": "3044eceb",
   "metadata": {},
   "outputs": [
    {
     "data": {
      "text/latex": [
       "$\\displaystyle N > 3$"
      ],
      "text/plain": [
       "N > 3"
      ]
     },
     "execution_count": 54,
     "metadata": {},
     "output_type": "execute_result"
    },
    {
     "data": {
      "text/latex": [
       "$\\displaystyle \\sum_{n=0}^{N - 1} {\\mu}_{n} = 0$"
      ],
      "text/plain": [
       "Eq(Sum(mu[n], (n, 0, N - 1)), 0)"
      ]
     },
     "execution_count": 54,
     "metadata": {},
     "output_type": "execute_result"
    },
    {
     "data": {
      "text/latex": [
       "$\\displaystyle \\prod_{n=0}^{N - 1} U{\\left({\\mu}_{n},z \\right)} - \\prod_{n=0}^{N - 1} V{\\left({\\mu}_{n},z \\right)} = Q{\\left(\\left\\lfloor{\\frac{N}{2} - \\frac{1}{2}}\\right\\rfloor - 1,\\operatorname{pw}{\\left(z,g_{2},g_{3} \\right)} \\right)} \\operatorname{pwp}{\\left(z,g_{2},g_{3} \\right)}$"
      ],
      "text/plain": [
       "Eq(Product(U(mu[n], z), (n, 0, N - 1)) - Product(V(mu[n], z), (n, 0, N - 1)), Q(floor(N/2 - 1/2) - 1, pw(z, g2, g3))*pwp(z, g2, g3))"
      ]
     },
     "execution_count": 54,
     "metadata": {},
     "output_type": "execute_result"
    },
    {
     "data": {
      "text/latex": [
       "$\\displaystyle \\prod_{n=0}^{N - 1} U{\\left({\\mu}_{n},z \\right)} + \\prod_{n=0}^{N - 1} V{\\left({\\mu}_{n},z \\right)} = P{\\left(\\left\\lfloor{\\frac{N}{2}}\\right\\rfloor,\\operatorname{pw}{\\left(z,g_{2},g_{3} \\right)} \\right)}$"
      ],
      "text/plain": [
       "Eq(Product(U(mu[n], z), (n, 0, N - 1)) + Product(V(mu[n], z), (n, 0, N - 1)), P(floor(N/2), pw(z, g2, g3)))"
      ]
     },
     "execution_count": 54,
     "metadata": {},
     "output_type": "execute_result"
    }
   ],
   "source": [
    "N>3\n",
    "Eq(Sum(mu[n],(n,0,N-1)),0)\n",
    "Eq(Product(U(mu[n],z),(n,0,N-1)) - Product(V(mu[n],z),(n,0,N-1)),Q(floor((N-1)/2)-1,pw(z,g2,g3))*pwp(z,g2,g3))\n",
    "Eq(Product(U(mu[n],z),(n,0,N-1)) + Product(V(mu[n],z),(n,0,N-1)),P(floor((N)/2),pw(z,g2,g3)))"
   ]
  },
  {
   "cell_type": "code",
   "execution_count": 71,
   "id": "56511467",
   "metadata": {},
   "outputs": [
    {
     "data": {
      "text/latex": [
       "$\\displaystyle \\operatorname{pw}{\\left(z,g_{2},g_{3} \\right)} = \\frac{\\sum_{n=0}^{N - 1} U{\\left({\\mu}_{n},z \\right)} V{\\left({\\mu}_{n},z \\right)}}{N} + \\frac{\\sum_{n=0}^{N - 1} \\operatorname{pw}{\\left({\\mu}_{n},g_{2},g_{3} \\right)}}{N}$"
      ],
      "text/plain": [
       "Eq(pw(z, g2, g3), Sum(U(mu[n], z)*V(mu[n], z), (n, 0, N - 1))/N + Sum(pw(mu[n], g2, g3), (n, 0, N - 1))/N)"
      ]
     },
     "execution_count": 71,
     "metadata": {},
     "output_type": "execute_result"
    }
   ],
   "source": [
    "pwzN = Eq(pw(z,g2,g3), Sum(U(mu[n],z)*V(mu[n],z),(n,0,N-1))/N + Sum(pw(mu[n],g2,g3),(n,0,N-1))/N)\n",
    "pwzN"
   ]
  },
  {
   "cell_type": "code",
   "execution_count": 93,
   "id": "9ce1834e",
   "metadata": {},
   "outputs": [
    {
     "data": {
      "text/latex": [
       "$\\displaystyle \\frac{\\prod_{n=0}^{N - 1} U{\\left({\\mu}_{n},z \\right)} - \\prod_{n=0}^{N - 1} V{\\left({\\mu}_{n},z \\right)}}{Q{\\left(\\left\\lfloor{\\frac{N}{2} - \\frac{1}{2}}\\right\\rfloor - 1,\\operatorname{pw}{\\left(z,g_{2},g_{3} \\right)} \\right)}} = \\operatorname{pwp}{\\left(z,g_{2},g_{3} \\right)}$"
      ],
      "text/plain": [
       "Eq((Product(U(mu[n], z), (n, 0, N - 1)) - Product(V(mu[n], z), (n, 0, N - 1)))/Q(floor(N/2 - 1/2) - 1, pw(z, g2, g3)), pwp(z, g2, g3))"
      ]
     },
     "execution_count": 93,
     "metadata": {},
     "output_type": "execute_result"
    },
    {
     "data": {
      "text/latex": [
       "$\\displaystyle K = - \\frac{P{\\left(\\left\\lfloor{\\frac{N}{2}}\\right\\rfloor,\\operatorname{pw}{\\left(z,g_{2},g_{3} \\right)} \\right)}}{Q{\\left(\\left\\lfloor{\\frac{N}{2} - \\frac{1}{2}}\\right\\rfloor - 1,\\operatorname{pw}{\\left(z,g_{2},g_{3} \\right)} \\right)}} + \\frac{\\prod_{n=0}^{N - 1} U{\\left({\\mu}_{n},z \\right)}}{Q{\\left(\\left\\lfloor{\\frac{N}{2} - \\frac{1}{2}}\\right\\rfloor - 1,\\operatorname{pw}{\\left(z,g_{2},g_{3} \\right)} \\right)}} + \\frac{\\prod_{n=0}^{N - 1} V{\\left({\\mu}_{n},z \\right)}}{Q{\\left(\\left\\lfloor{\\frac{N}{2} - \\frac{1}{2}}\\right\\rfloor - 1,\\operatorname{pw}{\\left(z,g_{2},g_{3} \\right)} \\right)}}$"
      ],
      "text/plain": [
       "Eq(K, -P(floor(N/2), pw(z, g2, g3))/Q(floor(N/2 - 1/2) - 1, pw(z, g2, g3)) + Product(U(mu[n], z), (n, 0, N - 1))/Q(floor(N/2 - 1/2) - 1, pw(z, g2, g3)) + Product(V(mu[n], z), (n, 0, N - 1))/Q(floor(N/2 - 1/2) - 1, pw(z, g2, g3)))"
      ]
     },
     "execution_count": 93,
     "metadata": {},
     "output_type": "execute_result"
    }
   ],
   "source": [
    "Keq = Eq(K, \n",
    "   Product(U(mu[n],z),(n,0,N-1))/Q(floor((N-1)/2)-1,pw(z,g2,g3)) + \n",
    "   Product(V(mu[n],z),(n,0,N-1))/Q(floor((N-1)/2)-1,pw(z,g2,g3)) - \n",
    "   P(floor((N)/2),pw(z,g2,g3))/Q(floor((N-1)/2)-1,pw(z,g2,g3))\n",
    ")\n",
    "\n",
    "\n",
    "\n",
    "Keq"
   ]
  },
  {
   "cell_type": "code",
   "execution_count": 94,
   "id": "09f461db",
   "metadata": {},
   "outputs": [
    {
     "data": {
      "text/latex": [
       "$\\displaystyle K = - \\frac{P{\\left(\\left\\lfloor{\\frac{N}{2}}\\right\\rfloor,\\frac{\\sum_{n=0}^{N - 1} U{\\left({\\mu}_{n},z \\right)} V{\\left({\\mu}_{n},z \\right)}}{N} + \\frac{\\sum_{n=0}^{N - 1} \\operatorname{pw}{\\left({\\mu}_{n},g_{2},g_{3} \\right)}}{N} \\right)}}{Q{\\left(\\left\\lfloor{\\frac{N}{2} - \\frac{1}{2}}\\right\\rfloor - 1,\\frac{\\sum_{n=0}^{N - 1} U{\\left({\\mu}_{n},z \\right)} V{\\left({\\mu}_{n},z \\right)}}{N} + \\frac{\\sum_{n=0}^{N - 1} \\operatorname{pw}{\\left({\\mu}_{n},g_{2},g_{3} \\right)}}{N} \\right)}} + \\frac{\\prod_{n=0}^{N - 1} U{\\left({\\mu}_{n},z \\right)}}{Q{\\left(\\left\\lfloor{\\frac{N}{2} - \\frac{1}{2}}\\right\\rfloor - 1,\\frac{\\sum_{n=0}^{N - 1} U{\\left({\\mu}_{n},z \\right)} V{\\left({\\mu}_{n},z \\right)}}{N} + \\frac{\\sum_{n=0}^{N - 1} \\operatorname{pw}{\\left({\\mu}_{n},g_{2},g_{3} \\right)}}{N} \\right)}} + \\frac{\\prod_{n=0}^{N - 1} V{\\left({\\mu}_{n},z \\right)}}{Q{\\left(\\left\\lfloor{\\frac{N}{2} - \\frac{1}{2}}\\right\\rfloor - 1,\\frac{\\sum_{n=0}^{N - 1} U{\\left({\\mu}_{n},z \\right)} V{\\left({\\mu}_{n},z \\right)}}{N} + \\frac{\\sum_{n=0}^{N - 1} \\operatorname{pw}{\\left({\\mu}_{n},g_{2},g_{3} \\right)}}{N} \\right)}}$"
      ],
      "text/plain": [
       "Eq(K, -P(floor(N/2), Sum(U(mu[n], z)*V(mu[n], z), (n, 0, N - 1))/N + Sum(pw(mu[n], g2, g3), (n, 0, N - 1))/N)/Q(floor(N/2 - 1/2) - 1, Sum(U(mu[n], z)*V(mu[n], z), (n, 0, N - 1))/N + Sum(pw(mu[n], g2, g3), (n, 0, N - 1))/N) + Product(U(mu[n], z), (n, 0, N - 1))/Q(floor(N/2 - 1/2) - 1, Sum(U(mu[n], z)*V(mu[n], z), (n, 0, N - 1))/N + Sum(pw(mu[n], g2, g3), (n, 0, N - 1))/N) + Product(V(mu[n], z), (n, 0, N - 1))/Q(floor(N/2 - 1/2) - 1, Sum(U(mu[n], z)*V(mu[n], z), (n, 0, N - 1))/N + Sum(pw(mu[n], g2, g3), (n, 0, N - 1))/N))"
      ]
     },
     "execution_count": 94,
     "metadata": {},
     "output_type": "execute_result"
    },
    {
     "data": {
      "text/latex": [
       "$\\displaystyle \\frac{\\prod_{n=0}^{N - 1} U{\\left({\\mu}_{n},z \\right)} - \\prod_{n=0}^{N - 1} V{\\left({\\mu}_{n},z \\right)}}{Q{\\left(\\left\\lfloor{\\frac{N}{2} - \\frac{1}{2}}\\right\\rfloor - 1,\\frac{\\sum_{n=0}^{N - 1} U{\\left({\\mu}_{n},z \\right)} V{\\left({\\mu}_{n},z \\right)}}{N} + \\frac{\\sum_{n=0}^{N - 1} \\operatorname{pw}{\\left({\\mu}_{n},g_{2},g_{3} \\right)}}{N} \\right)}} = \\operatorname{pwp}{\\left(z,g_{2},g_{3} \\right)}$"
      ],
      "text/plain": [
       "Eq((Product(U(mu[n], z), (n, 0, N - 1)) - Product(V(mu[n], z), (n, 0, N - 1)))/Q(floor(N/2 - 1/2) - 1, Sum(U(mu[n], z)*V(mu[n], z), (n, 0, N - 1))/N + Sum(pw(mu[n], g2, g3), (n, 0, N - 1))/N), pwp(z, g2, g3))"
      ]
     },
     "execution_count": 94,
     "metadata": {},
     "output_type": "execute_result"
    }
   ],
   "source": [
    "Keqb = Eq(K, \n",
    "   Product(U(mu[n],z),(n,0,N-1))/Q(floor((N-1)/2)-1,\n",
    "                                   Sum(U(mu[n],z)*V(mu[n],z),(n,0,N-1))/N + Sum(pw(mu[n],g2,g3),(n,0,N-1))/N) + \n",
    "   Product(V(mu[n],z),(n,0,N-1))/Q(floor((N-1)/2)-1,\n",
    "                                   Sum(U(mu[n],z)*V(mu[n],z),(n,0,N-1))/N + Sum(pw(mu[n],g2,g3),(n,0,N-1))/N) - \n",
    "   P(floor((N)/2),Sum(U(mu[n],z)*V(mu[n],z),(n,0,N-1))/N + Sum(pw(mu[n],g2,g3),(n,0,N-1))/N)/Q(floor((N-1)/2)-1,\n",
    "                                 Sum(U(mu[n],z)*V(mu[n],z),(n,0,N-1))/N + Sum(pw(mu[n],g2,g3),(n,0,N-1))/N)\n",
    ")\n",
    "\n",
    "pwpQ = Eq((Product(U(mu[n],z),(n,0,N-1)) - \n",
    "    Product(V(mu[n],z),(n,0,N-1)))/Q(floor((N-1)/2)-1, \n",
    "                                     Sum(U(mu[n],z)*V(mu[n],z),(n,0,N-1))/N + Sum(pw(mu[n],g2,g3),(n,0,N-1))/N),\n",
    "   pwp(z,g2,g3))\n",
    "\n",
    "\n",
    "Keqb\n",
    "\n",
    "pwpQ"
   ]
  },
  {
   "cell_type": "code",
   "execution_count": 104,
   "id": "ed7c4ede",
   "metadata": {},
   "outputs": [
    {
     "data": {
      "text/latex": [
       "$\\displaystyle U{\\left({\\mu}_{0},z \\right)} \\frac{\\partial}{\\partial z} V{\\left({\\mu}_{0},z \\right)} + V{\\left({\\mu}_{0},z \\right)} \\frac{\\partial}{\\partial z} U{\\left({\\mu}_{0},z \\right)} = \\operatorname{pwp}{\\left(z,g_{2},g_{3} \\right)}$"
      ],
      "text/plain": [
       "Eq(U(mu[0], z)*Derivative(V(mu[0], z), z) + V(mu[0], z)*Derivative(U(mu[0], z), z), pwp(z, g2, g3))"
      ]
     },
     "execution_count": 104,
     "metadata": {},
     "output_type": "execute_result"
    },
    {
     "data": {
      "text/latex": [
       "$\\displaystyle U{\\left({\\mu}_{1},z \\right)} \\frac{\\partial}{\\partial z} V{\\left({\\mu}_{1},z \\right)} + V{\\left({\\mu}_{1},z \\right)} \\frac{\\partial}{\\partial z} U{\\left({\\mu}_{1},z \\right)} = \\operatorname{pwp}{\\left(z,g_{2},g_{3} \\right)}$"
      ],
      "text/plain": [
       "Eq(U(mu[1], z)*Derivative(V(mu[1], z), z) + V(mu[1], z)*Derivative(U(mu[1], z), z), pwp(z, g2, g3))"
      ]
     },
     "execution_count": 104,
     "metadata": {},
     "output_type": "execute_result"
    }
   ],
   "source": [
    "Nval = 4\n",
    "KeqbNsub = Keqb.subs(N,Nval).doit()\n",
    "\n",
    "dU0 = Eq(diff(U(mu[0],z),z), -diff(KeqbNsub.rhs,V(mu[0],z)))\n",
    "dV0 = Eq(diff(V(mu[0],z),z), diff(KeqbNsub.rhs,U(mu[0],z)))\n",
    "\n",
    "dU1 = Eq(diff(U(mu[1],z),z), -diff(KeqbNsub.rhs,V(mu[1],z)))\n",
    "dV1 = Eq(diff(V(mu[1],z),z), diff(KeqbNsub.rhs,U(mu[1],z)))\n",
    "\n",
    "Eq(dU0.lhs*V(mu[0],z) + dV0.lhs*U(mu[0],z), \n",
    "   dU0.rhs*V(mu[0],z) + dV0.rhs*U(mu[0],z)).simplify().subs(*pwpQ.subs(N,Nval).doit().args)\n",
    "\n",
    "Eq(dU1.lhs*V(mu[1],z) + dV1.lhs*U(mu[1],z), \n",
    "   dU1.rhs*V(mu[1],z) + dV1.rhs*U(mu[1],z)).simplify().subs(*pwpQ.subs(N,Nval).doit().args)"
   ]
  },
  {
   "cell_type": "code",
   "execution_count": 106,
   "id": "ce7fb1f7",
   "metadata": {},
   "outputs": [
    {
     "data": {
      "text/latex": [
       "$\\displaystyle \\frac{\\left. \\frac{d}{d \\xi_{2}} P{\\left(2,\\xi_{2} \\right)} \\right|_{\\substack{ \\xi_{2}=\\frac{U{\\left({\\mu}_{0},z \\right)} V{\\left({\\mu}_{0},z \\right)}}{4} + \\frac{U{\\left({\\mu}_{1},z \\right)} V{\\left({\\mu}_{1},z \\right)}}{4} + \\frac{U{\\left({\\mu}_{2},z \\right)} V{\\left({\\mu}_{2},z \\right)}}{4} + \\frac{U{\\left({\\mu}_{3},z \\right)} V{\\left({\\mu}_{3},z \\right)}}{4} + \\frac{\\operatorname{pw}{\\left({\\mu}_{0},g_{2},g_{3} \\right)}}{4} + \\frac{\\operatorname{pw}{\\left({\\mu}_{1},g_{2},g_{3} \\right)}}{4} + \\frac{\\operatorname{pw}{\\left({\\mu}_{2},g_{2},g_{3} \\right)}}{4} + \\frac{\\operatorname{pw}{\\left({\\mu}_{3},g_{2},g_{3} \\right)}}{4} }}}{4 Q{\\left(0,\\frac{U{\\left({\\mu}_{0},z \\right)} V{\\left({\\mu}_{0},z \\right)}}{4} + \\frac{U{\\left({\\mu}_{1},z \\right)} V{\\left({\\mu}_{1},z \\right)}}{4} + \\frac{U{\\left({\\mu}_{2},z \\right)} V{\\left({\\mu}_{2},z \\right)}}{4} + \\frac{U{\\left({\\mu}_{3},z \\right)} V{\\left({\\mu}_{3},z \\right)}}{4} + \\frac{\\operatorname{pw}{\\left({\\mu}_{0},g_{2},g_{3} \\right)}}{4} + \\frac{\\operatorname{pw}{\\left({\\mu}_{1},g_{2},g_{3} \\right)}}{4} + \\frac{\\operatorname{pw}{\\left({\\mu}_{2},g_{2},g_{3} \\right)}}{4} + \\frac{\\operatorname{pw}{\\left({\\mu}_{3},g_{2},g_{3} \\right)}}{4} \\right)}}$"
      ],
      "text/plain": [
       "Subs(Derivative(P(2, _xi_2), _xi_2), _xi_2, U(mu[0], z)*V(mu[0], z)/4 + U(mu[1], z)*V(mu[1], z)/4 + U(mu[2], z)*V(mu[2], z)/4 + U(mu[3], z)*V(mu[3], z)/4 + pw(mu[0], g2, g3)/4 + pw(mu[1], g2, g3)/4 + pw(mu[2], g2, g3)/4 + pw(mu[3], g2, g3)/4)/(4*Q(0, U(mu[0], z)*V(mu[0], z)/4 + U(mu[1], z)*V(mu[1], z)/4 + U(mu[2], z)*V(mu[2], z)/4 + U(mu[3], z)*V(mu[3], z)/4 + pw(mu[0], g2, g3)/4 + pw(mu[1], g2, g3)/4 + pw(mu[2], g2, g3)/4 + pw(mu[3], g2, g3)/4))"
      ]
     },
     "execution_count": 106,
     "metadata": {},
     "output_type": "execute_result"
    },
    {
     "data": {
      "text/latex": [
       "$\\displaystyle - \\frac{V{\\left({\\mu}_{1},z \\right)} V{\\left({\\mu}_{2},z \\right)} V{\\left({\\mu}_{3},z \\right)}}{Q{\\left(0,\\frac{U{\\left({\\mu}_{0},z \\right)} V{\\left({\\mu}_{0},z \\right)}}{4} + \\frac{U{\\left({\\mu}_{1},z \\right)} V{\\left({\\mu}_{1},z \\right)}}{4} + \\frac{U{\\left({\\mu}_{2},z \\right)} V{\\left({\\mu}_{2},z \\right)}}{4} + \\frac{U{\\left({\\mu}_{3},z \\right)} V{\\left({\\mu}_{3},z \\right)}}{4} + \\frac{\\operatorname{pw}{\\left({\\mu}_{0},g_{2},g_{3} \\right)}}{4} + \\frac{\\operatorname{pw}{\\left({\\mu}_{1},g_{2},g_{3} \\right)}}{4} + \\frac{\\operatorname{pw}{\\left({\\mu}_{2},g_{2},g_{3} \\right)}}{4} + \\frac{\\operatorname{pw}{\\left({\\mu}_{3},g_{2},g_{3} \\right)}}{4} \\right)} U{\\left({\\mu}_{0},z \\right)}}$"
      ],
      "text/plain": [
       "-V(mu[1], z)*V(mu[2], z)*V(mu[3], z)/(Q(0, U(mu[0], z)*V(mu[0], z)/4 + U(mu[1], z)*V(mu[1], z)/4 + U(mu[2], z)*V(mu[2], z)/4 + U(mu[3], z)*V(mu[3], z)/4 + pw(mu[0], g2, g3)/4 + pw(mu[1], g2, g3)/4 + pw(mu[2], g2, g3)/4 + pw(mu[3], g2, g3)/4)*U(mu[0], z))"
      ]
     },
     "execution_count": 106,
     "metadata": {},
     "output_type": "execute_result"
    },
    {
     "data": {
      "text/latex": [
       "$\\displaystyle - \\frac{P{\\left(2,\\frac{U{\\left({\\mu}_{0},z \\right)} V{\\left({\\mu}_{0},z \\right)}}{4} + \\frac{U{\\left({\\mu}_{1},z \\right)} V{\\left({\\mu}_{1},z \\right)}}{4} + \\frac{U{\\left({\\mu}_{2},z \\right)} V{\\left({\\mu}_{2},z \\right)}}{4} + \\frac{U{\\left({\\mu}_{3},z \\right)} V{\\left({\\mu}_{3},z \\right)}}{4} + \\frac{\\operatorname{pw}{\\left({\\mu}_{0},g_{2},g_{3} \\right)}}{4} + \\frac{\\operatorname{pw}{\\left({\\mu}_{1},g_{2},g_{3} \\right)}}{4} + \\frac{\\operatorname{pw}{\\left({\\mu}_{2},g_{2},g_{3} \\right)}}{4} + \\frac{\\operatorname{pw}{\\left({\\mu}_{3},g_{2},g_{3} \\right)}}{4} \\right)} \\left. \\frac{d}{d \\xi_{2}} Q{\\left(0,\\xi_{2} \\right)} \\right|_{\\substack{ \\xi_{2}=\\frac{U{\\left({\\mu}_{0},z \\right)} V{\\left({\\mu}_{0},z \\right)}}{4} + \\frac{U{\\left({\\mu}_{1},z \\right)} V{\\left({\\mu}_{1},z \\right)}}{4} + \\frac{U{\\left({\\mu}_{2},z \\right)} V{\\left({\\mu}_{2},z \\right)}}{4} + \\frac{U{\\left({\\mu}_{3},z \\right)} V{\\left({\\mu}_{3},z \\right)}}{4} + \\frac{\\operatorname{pw}{\\left({\\mu}_{0},g_{2},g_{3} \\right)}}{4} + \\frac{\\operatorname{pw}{\\left({\\mu}_{1},g_{2},g_{3} \\right)}}{4} + \\frac{\\operatorname{pw}{\\left({\\mu}_{2},g_{2},g_{3} \\right)}}{4} + \\frac{\\operatorname{pw}{\\left({\\mu}_{3},g_{2},g_{3} \\right)}}{4} }}}{4 Q^{2}{\\left(0,\\frac{U{\\left({\\mu}_{0},z \\right)} V{\\left({\\mu}_{0},z \\right)}}{4} + \\frac{U{\\left({\\mu}_{1},z \\right)} V{\\left({\\mu}_{1},z \\right)}}{4} + \\frac{U{\\left({\\mu}_{2},z \\right)} V{\\left({\\mu}_{2},z \\right)}}{4} + \\frac{U{\\left({\\mu}_{3},z \\right)} V{\\left({\\mu}_{3},z \\right)}}{4} + \\frac{\\operatorname{pw}{\\left({\\mu}_{0},g_{2},g_{3} \\right)}}{4} + \\frac{\\operatorname{pw}{\\left({\\mu}_{1},g_{2},g_{3} \\right)}}{4} + \\frac{\\operatorname{pw}{\\left({\\mu}_{2},g_{2},g_{3} \\right)}}{4} + \\frac{\\operatorname{pw}{\\left({\\mu}_{3},g_{2},g_{3} \\right)}}{4} \\right)}}$"
      ],
      "text/plain": [
       "-P(2, U(mu[0], z)*V(mu[0], z)/4 + U(mu[1], z)*V(mu[1], z)/4 + U(mu[2], z)*V(mu[2], z)/4 + U(mu[3], z)*V(mu[3], z)/4 + pw(mu[0], g2, g3)/4 + pw(mu[1], g2, g3)/4 + pw(mu[2], g2, g3)/4 + pw(mu[3], g2, g3)/4)*Subs(Derivative(Q(0, _xi_2), _xi_2), _xi_2, U(mu[0], z)*V(mu[0], z)/4 + U(mu[1], z)*V(mu[1], z)/4 + U(mu[2], z)*V(mu[2], z)/4 + U(mu[3], z)*V(mu[3], z)/4 + pw(mu[0], g2, g3)/4 + pw(mu[1], g2, g3)/4 + pw(mu[2], g2, g3)/4 + pw(mu[3], g2, g3)/4)/(4*Q(0, U(mu[0], z)*V(mu[0], z)/4 + U(mu[1], z)*V(mu[1], z)/4 + U(mu[2], z)*V(mu[2], z)/4 + U(mu[3], z)*V(mu[3], z)/4 + pw(mu[0], g2, g3)/4 + pw(mu[1], g2, g3)/4 + pw(mu[2], g2, g3)/4 + pw(mu[3], g2, g3)/4)**2)"
      ]
     },
     "execution_count": 106,
     "metadata": {},
     "output_type": "execute_result"
    },
    {
     "data": {
      "text/latex": [
       "$\\displaystyle \\frac{U{\\left({\\mu}_{0},z \\right)} U{\\left({\\mu}_{1},z \\right)} U{\\left({\\mu}_{2},z \\right)} U{\\left({\\mu}_{3},z \\right)} \\left. \\frac{d}{d \\xi_{2}} Q{\\left(0,\\xi_{2} \\right)} \\right|_{\\substack{ \\xi_{2}=\\frac{U{\\left({\\mu}_{0},z \\right)} V{\\left({\\mu}_{0},z \\right)}}{4} + \\frac{U{\\left({\\mu}_{1},z \\right)} V{\\left({\\mu}_{1},z \\right)}}{4} + \\frac{U{\\left({\\mu}_{2},z \\right)} V{\\left({\\mu}_{2},z \\right)}}{4} + \\frac{U{\\left({\\mu}_{3},z \\right)} V{\\left({\\mu}_{3},z \\right)}}{4} + \\frac{\\operatorname{pw}{\\left({\\mu}_{0},g_{2},g_{3} \\right)}}{4} + \\frac{\\operatorname{pw}{\\left({\\mu}_{1},g_{2},g_{3} \\right)}}{4} + \\frac{\\operatorname{pw}{\\left({\\mu}_{2},g_{2},g_{3} \\right)}}{4} + \\frac{\\operatorname{pw}{\\left({\\mu}_{3},g_{2},g_{3} \\right)}}{4} }}}{4 Q^{2}{\\left(0,\\frac{U{\\left({\\mu}_{0},z \\right)} V{\\left({\\mu}_{0},z \\right)}}{4} + \\frac{U{\\left({\\mu}_{1},z \\right)} V{\\left({\\mu}_{1},z \\right)}}{4} + \\frac{U{\\left({\\mu}_{2},z \\right)} V{\\left({\\mu}_{2},z \\right)}}{4} + \\frac{U{\\left({\\mu}_{3},z \\right)} V{\\left({\\mu}_{3},z \\right)}}{4} + \\frac{\\operatorname{pw}{\\left({\\mu}_{0},g_{2},g_{3} \\right)}}{4} + \\frac{\\operatorname{pw}{\\left({\\mu}_{1},g_{2},g_{3} \\right)}}{4} + \\frac{\\operatorname{pw}{\\left({\\mu}_{2},g_{2},g_{3} \\right)}}{4} + \\frac{\\operatorname{pw}{\\left({\\mu}_{3},g_{2},g_{3} \\right)}}{4} \\right)}}$"
      ],
      "text/plain": [
       "U(mu[0], z)*U(mu[1], z)*U(mu[2], z)*U(mu[3], z)*Subs(Derivative(Q(0, _xi_2), _xi_2), _xi_2, U(mu[0], z)*V(mu[0], z)/4 + U(mu[1], z)*V(mu[1], z)/4 + U(mu[2], z)*V(mu[2], z)/4 + U(mu[3], z)*V(mu[3], z)/4 + pw(mu[0], g2, g3)/4 + pw(mu[1], g2, g3)/4 + pw(mu[2], g2, g3)/4 + pw(mu[3], g2, g3)/4)/(4*Q(0, U(mu[0], z)*V(mu[0], z)/4 + U(mu[1], z)*V(mu[1], z)/4 + U(mu[2], z)*V(mu[2], z)/4 + U(mu[3], z)*V(mu[3], z)/4 + pw(mu[0], g2, g3)/4 + pw(mu[1], g2, g3)/4 + pw(mu[2], g2, g3)/4 + pw(mu[3], g2, g3)/4)**2)"
      ]
     },
     "execution_count": 106,
     "metadata": {},
     "output_type": "execute_result"
    },
    {
     "data": {
      "text/latex": [
       "$\\displaystyle \\frac{V{\\left({\\mu}_{0},z \\right)} V{\\left({\\mu}_{1},z \\right)} V{\\left({\\mu}_{2},z \\right)} V{\\left({\\mu}_{3},z \\right)} \\left. \\frac{d}{d \\xi_{2}} Q{\\left(0,\\xi_{2} \\right)} \\right|_{\\substack{ \\xi_{2}=\\frac{U{\\left({\\mu}_{0},z \\right)} V{\\left({\\mu}_{0},z \\right)}}{4} + \\frac{U{\\left({\\mu}_{1},z \\right)} V{\\left({\\mu}_{1},z \\right)}}{4} + \\frac{U{\\left({\\mu}_{2},z \\right)} V{\\left({\\mu}_{2},z \\right)}}{4} + \\frac{U{\\left({\\mu}_{3},z \\right)} V{\\left({\\mu}_{3},z \\right)}}{4} + \\frac{\\operatorname{pw}{\\left({\\mu}_{0},g_{2},g_{3} \\right)}}{4} + \\frac{\\operatorname{pw}{\\left({\\mu}_{1},g_{2},g_{3} \\right)}}{4} + \\frac{\\operatorname{pw}{\\left({\\mu}_{2},g_{2},g_{3} \\right)}}{4} + \\frac{\\operatorname{pw}{\\left({\\mu}_{3},g_{2},g_{3} \\right)}}{4} }}}{4 Q^{2}{\\left(0,\\frac{U{\\left({\\mu}_{0},z \\right)} V{\\left({\\mu}_{0},z \\right)}}{4} + \\frac{U{\\left({\\mu}_{1},z \\right)} V{\\left({\\mu}_{1},z \\right)}}{4} + \\frac{U{\\left({\\mu}_{2},z \\right)} V{\\left({\\mu}_{2},z \\right)}}{4} + \\frac{U{\\left({\\mu}_{3},z \\right)} V{\\left({\\mu}_{3},z \\right)}}{4} + \\frac{\\operatorname{pw}{\\left({\\mu}_{0},g_{2},g_{3} \\right)}}{4} + \\frac{\\operatorname{pw}{\\left({\\mu}_{1},g_{2},g_{3} \\right)}}{4} + \\frac{\\operatorname{pw}{\\left({\\mu}_{2},g_{2},g_{3} \\right)}}{4} + \\frac{\\operatorname{pw}{\\left({\\mu}_{3},g_{2},g_{3} \\right)}}{4} \\right)}}$"
      ],
      "text/plain": [
       "V(mu[0], z)*V(mu[1], z)*V(mu[2], z)*V(mu[3], z)*Subs(Derivative(Q(0, _xi_2), _xi_2), _xi_2, U(mu[0], z)*V(mu[0], z)/4 + U(mu[1], z)*V(mu[1], z)/4 + U(mu[2], z)*V(mu[2], z)/4 + U(mu[3], z)*V(mu[3], z)/4 + pw(mu[0], g2, g3)/4 + pw(mu[1], g2, g3)/4 + pw(mu[2], g2, g3)/4 + pw(mu[3], g2, g3)/4)/(4*Q(0, U(mu[0], z)*V(mu[0], z)/4 + U(mu[1], z)*V(mu[1], z)/4 + U(mu[2], z)*V(mu[2], z)/4 + U(mu[3], z)*V(mu[3], z)/4 + pw(mu[0], g2, g3)/4 + pw(mu[1], g2, g3)/4 + pw(mu[2], g2, g3)/4 + pw(mu[3], g2, g3)/4)**2)"
      ]
     },
     "execution_count": 106,
     "metadata": {},
     "output_type": "execute_result"
    }
   ],
   "source": [
    "for t in dU0.rhs.args:\n",
    "    t/U(mu[0],z)"
   ]
  },
  {
   "cell_type": "code",
   "execution_count": 107,
   "id": "0ab2f540",
   "metadata": {},
   "outputs": [
    {
     "data": {
      "text/latex": [
       "$\\displaystyle U{\\left({\\mu}_{0},z \\right)} \\frac{\\partial}{\\partial z} V{\\left({\\mu}_{0},z \\right)} + V{\\left({\\mu}_{0},z \\right)} \\frac{\\partial}{\\partial z} U{\\left({\\mu}_{0},z \\right)} = \\frac{U{\\left({\\mu}_{0},z \\right)} U{\\left({\\mu}_{1},z \\right)} U{\\left({\\mu}_{2},z \\right)} U{\\left({\\mu}_{3},z \\right)} - V{\\left({\\mu}_{0},z \\right)} V{\\left({\\mu}_{1},z \\right)} V{\\left({\\mu}_{2},z \\right)} V{\\left({\\mu}_{3},z \\right)}}{Q{\\left(0,\\frac{U{\\left({\\mu}_{0},z \\right)} V{\\left({\\mu}_{0},z \\right)}}{4} + \\frac{U{\\left({\\mu}_{1},z \\right)} V{\\left({\\mu}_{1},z \\right)}}{4} + \\frac{U{\\left({\\mu}_{2},z \\right)} V{\\left({\\mu}_{2},z \\right)}}{4} + \\frac{U{\\left({\\mu}_{3},z \\right)} V{\\left({\\mu}_{3},z \\right)}}{4} + \\frac{\\operatorname{pw}{\\left({\\mu}_{0},g_{2},g_{3} \\right)}}{4} + \\frac{\\operatorname{pw}{\\left({\\mu}_{1},g_{2},g_{3} \\right)}}{4} + \\frac{\\operatorname{pw}{\\left({\\mu}_{2},g_{2},g_{3} \\right)}}{4} + \\frac{\\operatorname{pw}{\\left({\\mu}_{3},g_{2},g_{3} \\right)}}{4} \\right)}}$"
      ],
      "text/plain": [
       "Eq(U(mu[0], z)*Derivative(V(mu[0], z), z) + V(mu[0], z)*Derivative(U(mu[0], z), z), (U(mu[0], z)*U(mu[1], z)*U(mu[2], z)*U(mu[3], z) - V(mu[0], z)*V(mu[1], z)*V(mu[2], z)*V(mu[3], z))/Q(0, U(mu[0], z)*V(mu[0], z)/4 + U(mu[1], z)*V(mu[1], z)/4 + U(mu[2], z)*V(mu[2], z)/4 + U(mu[3], z)*V(mu[3], z)/4 + pw(mu[0], g2, g3)/4 + pw(mu[1], g2, g3)/4 + pw(mu[2], g2, g3)/4 + pw(mu[3], g2, g3)/4))"
      ]
     },
     "execution_count": 107,
     "metadata": {},
     "output_type": "execute_result"
    }
   ],
   "source": [
    "Eq(dU0.lhs*V(mu[0],z) + dV0.lhs*U(mu[0],z), \n",
    "   dU0.rhs*V(mu[0],z) + dV0.rhs*U(mu[0],z)).simplify()"
   ]
  },
  {
   "cell_type": "code",
   "execution_count": null,
   "id": "02b28b49",
   "metadata": {},
   "outputs": [],
   "source": []
  }
 ],
 "metadata": {
  "kernelspec": {
   "display_name": "Python 3 (ipykernel)",
   "language": "python",
   "name": "python3"
  },
  "language_info": {
   "codemirror_mode": {
    "name": "ipython",
    "version": 3
   },
   "file_extension": ".py",
   "mimetype": "text/x-python",
   "name": "python",
   "nbconvert_exporter": "python",
   "pygments_lexer": "ipython3",
   "version": "3.11.6"
  }
 },
 "nbformat": 4,
 "nbformat_minor": 5
}
