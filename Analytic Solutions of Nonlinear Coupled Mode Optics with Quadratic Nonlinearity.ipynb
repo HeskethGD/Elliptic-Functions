{
 "cells": [
  {
   "cell_type": "markdown",
   "metadata": {},
   "source": [
    "# Analytic Solutions of Nonlinear Coupled Mode Optics with Quadratic Nonlinearity\n",
    "\n",
    "This notebook follows the paper published here:\n",
    "https://arxiv.org/pdf/1512.03092.pdf\n",
    "\n",
    "Other useful links:\n",
    "\n",
    "https://gist.github.com/stla/d771e0a8c351d16d186c79bc838b6c48\n",
    "\n",
    "https://github.com/stla/pyweierstrass\n",
    "\n",
    "https://dlmf.nist.gov/search/search?q=Weierstrass%20sigma%20function#:~:text=2%3A%2023.2%20Definitions%20and%20Periodic%20Properties&text=%E2%80%A6%20%E2%96%BAThe%20function%20%E2%81%A1%20is,zeros%20at%20the%20lattice%20points.%20%E2%80%A6\n",
    "\n",
    "https://www.ncbi.nlm.nih.gov/pmc/articles/PMC4197466/\n",
    "\n",
    "https://math.stackexchange.com/questions/4475194/half-periods-ratio-for-the-wp-weierstrass-function\n",
    "\n",
    "http://www.paris8.free.fr/Apostol%20T.M.%20Modular%20functions%20and%20Dirichlet%20series%20in%20number%20theory%20(Springer,1990)(600dpi)(T)(216s)_MT_.pdf\n",
    "\n",
    "Lame stuff\n",
    "\n",
    "https://arxiv.org/pdf/1706.07371.pdf\n",
    "\n",
    "https://en.wikipedia.org/wiki/Lam%C3%A9_function\n",
    "\n",
    "Numeric Weierstrass package by Stephane Laurent on mathstack STLA on github\n",
    "\n",
    "Other numeric stuff:\n",
    "\n",
    "https://arxiv.org/pdf/1806.06725.pdf\n",
    "\n",
    "https://arxiv.org/abs/1601.04963\n",
    "\n",
    "Other interesting stuff:\n",
    "\n",
    "https://aip.scitation.org/doi/10.1063/1.4960722 HF Jones\n",
    "\n",
    "https://arxiv.org/pdf/1609.07481.pdf\n",
    "\n",
    "https://downloads.hindawi.com/journals/aaa/2014/769561.pdf"
   ]
  },
  {
   "cell_type": "markdown",
   "metadata": {},
   "source": [
    "## Notation"
   ]
  },
  {
   "cell_type": "code",
   "execution_count": 221,
   "metadata": {},
   "outputs": [],
   "source": [
    "from sympy import *\n",
    "(x, y, n, m, K, P, Q, k, epsilon, z, s, p1, p2, p3, g2, g3,c1, c2, c3, \n",
    " z0, xi1, xi2, xi3, xi4, rho1, rho2, rho3, w1, w2, w3, e1, e2, e3, Delta, \n",
    " omega1, omega2, omega3, eta1, eta2, eta3, d1, d2, d3) = symbols(\n",
    "    '''x, y, n, m, K, P, Q, k, epsilon, z, s, p1, p2, p3, g2, g3, c1, c2, c3,\n",
    "    z0, xi1, xi2, xi3, xi4, rho1, rho2, rho3, w1, w2, w3, e1, e2, e3, Delta, \n",
    "    omega1, omega2, omega3, eta1, eta2, eta3, d1, d2, d3'''\n",
    ")\n",
    "alpha, delta, t, nu, epsilon, theta = symbols('alpha, delta, t, nu, epsilon, theta')\n",
    "pw = Function('pw') # Weierstrass P function\n",
    "pwp = Function('pwp') # Derivative of Weierstrass P function\n",
    "zw = Function('zw') # Weierstrass Zeta function\n",
    "sigma = Function('sigma') # Weierstrass Sigma function\n",
    "f = Function('f')\n",
    "phi = Function('phi')\n",
    "phi1 = Function('phi1')\n",
    "phi2 = Function('phi2')\n",
    "phi3 = Function('phi3')\n",
    "A = Function('A')\n",
    "Ac = Function('Ac')\n",
    "A1 = Function('A1')\n",
    "A2 = Function('A2')\n",
    "A3 = Function('A3')\n",
    "Ac1 = Function('Ac1')\n",
    "Ac2 = Function('Ac2')\n",
    "Ac3 = Function('Ac3')\n",
    "A4 = Function('A4')\n",
    "A5 = Function('A5')\n",
    "A6 = Function('A6')\n",
    "A7 = Function('A7')\n",
    "A8 = Function('A8')\n",
    "W1 = Function('W1')\n",
    "W2 = Function('W2')\n",
    "W3 = Function('W3')\n",
    "W4 = Function('W4')\n",
    "W5 = Function('W5')\n",
    "W6 = Function('W6')\n",
    "p = IndexedBase('p')\n",
    "\n",
    "mu = Function('mu')\n",
    "kappa = IndexedBase('kappa')\n",
    "beta = IndexedBase('beta')\n",
    "a = IndexedBase('a')\n"
   ]
  },
  {
   "cell_type": "markdown",
   "metadata": {},
   "source": [
    "The term mode function is used to refer to the complex functions of the coupled nonlinear system of differential equations. They are each denoted with a subscript to distinguish them like:"
   ]
  },
  {
   "cell_type": "code",
   "execution_count": 2,
   "metadata": {},
   "outputs": [
    {
     "data": {
      "text/latex": [
       "$\\displaystyle \\operatorname{A_{1}}{\\left(z \\right)}$"
      ],
      "text/plain": [
       "A1(z)"
      ]
     },
     "execution_count": 2,
     "metadata": {},
     "output_type": "execute_result"
    }
   ],
   "source": [
    "A1(z)"
   ]
  },
  {
   "cell_type": "markdown",
   "metadata": {},
   "source": [
    "The following is used to denote the complex conjugate of the field:"
   ]
  },
  {
   "cell_type": "code",
   "execution_count": 3,
   "metadata": {},
   "outputs": [
    {
     "data": {
      "text/latex": [
       "$\\displaystyle \\operatorname{Ac_{1}}{\\left(z \\right)}$"
      ],
      "text/plain": [
       "Ac1(z)"
      ]
     },
     "execution_count": 3,
     "metadata": {},
     "output_type": "execute_result"
    }
   ],
   "source": [
    "Ac1(z)"
   ]
  },
  {
   "cell_type": "markdown",
   "metadata": {},
   "source": [
    "The product of a complex field with it's complex conjugate is referred to as the modal power:"
   ]
  },
  {
   "cell_type": "code",
   "execution_count": 4,
   "metadata": {},
   "outputs": [
    {
     "data": {
      "text/latex": [
       "$\\displaystyle \\left|{\\operatorname{A_{1}}{\\left(z \\right)}}\\right|^{2} = \\operatorname{A_{1}}{\\left(z \\right)} \\operatorname{Ac_{1}}{\\left(z \\right)}$"
      ],
      "text/plain": [
       "Eq(Abs(A1(z))**2, A1(z)*Ac1(z))"
      ]
     },
     "execution_count": 4,
     "metadata": {},
     "output_type": "execute_result"
    }
   ],
   "source": [
    "Eq(abs(A1(z))**2, A1(z)*Ac1(z))"
   ]
  },
  {
   "cell_type": "markdown",
   "metadata": {},
   "source": [
    "For complex variable z, and elliptic invariants $g_2$ and $g_3$, the following is used to denote the Weierstrass P function:"
   ]
  },
  {
   "cell_type": "code",
   "execution_count": 5,
   "metadata": {},
   "outputs": [
    {
     "data": {
      "text/latex": [
       "$\\displaystyle \\operatorname{pw}{\\left(z,g_{2},g_{3} \\right)}$"
      ],
      "text/plain": [
       "pw(z, g2, g3)"
      ]
     },
     "execution_count": 5,
     "metadata": {},
     "output_type": "execute_result"
    }
   ],
   "source": [
    "pw(z,g2,g3)"
   ]
  },
  {
   "cell_type": "markdown",
   "metadata": {},
   "source": [
    "The following is used to denote the Weierstrass P Prime function (derivative of Weierstrass P):"
   ]
  },
  {
   "cell_type": "code",
   "execution_count": 6,
   "metadata": {},
   "outputs": [
    {
     "data": {
      "text/latex": [
       "$\\displaystyle \\operatorname{pwp}{\\left(z,g_{2},g_{3} \\right)}$"
      ],
      "text/plain": [
       "pwp(z, g2, g3)"
      ]
     },
     "execution_count": 6,
     "metadata": {},
     "output_type": "execute_result"
    }
   ],
   "source": [
    "pwp(z,g2,g3)"
   ]
  },
  {
   "cell_type": "markdown",
   "metadata": {},
   "source": [
    "The following is used to denote the Weierstrass Zeta function:"
   ]
  },
  {
   "cell_type": "code",
   "execution_count": 7,
   "metadata": {},
   "outputs": [
    {
     "data": {
      "text/latex": [
       "$\\displaystyle \\operatorname{zw}{\\left(z,g_{2},g_{3} \\right)}$"
      ],
      "text/plain": [
       "zw(z, g2, g3)"
      ]
     },
     "execution_count": 7,
     "metadata": {},
     "output_type": "execute_result"
    }
   ],
   "source": [
    "zw(z,g2,g3)"
   ]
  },
  {
   "cell_type": "markdown",
   "metadata": {},
   "source": [
    "The following is used to denote the Weierstrass Sigma function:"
   ]
  },
  {
   "cell_type": "code",
   "execution_count": 8,
   "metadata": {},
   "outputs": [
    {
     "data": {
      "text/latex": [
       "$\\displaystyle \\sigma{\\left(z,g_{2},g_{3} \\right)}$"
      ],
      "text/plain": [
       "sigma(z, g2, g3)"
      ]
     },
     "execution_count": 8,
     "metadata": {},
     "output_type": "execute_result"
    }
   ],
   "source": [
    "sigma(z,g2,g3)"
   ]
  },
  {
   "cell_type": "markdown",
   "metadata": {},
   "source": [
    "## Quadratic Case"
   ]
  },
  {
   "cell_type": "markdown",
   "metadata": {},
   "source": [
    "When the system of nonlinear coupled differential equations has, at most, terms that are products of two fields it is said to have quadratic nonlinearity. This is the case being considered here while cubic nonlinearity is to be considered in subsequent notbooks."
   ]
  },
  {
   "cell_type": "markdown",
   "metadata": {},
   "source": [
    "### Equations of Motion\n",
    "\n",
    "This notebook will derive analytic solutions to the following system of nonlinear coupled differential equations:"
   ]
  },
  {
   "cell_type": "code",
   "execution_count": 9,
   "metadata": {},
   "outputs": [
    {
     "data": {
      "text/latex": [
       "$\\displaystyle \\frac{d}{d z} \\operatorname{A_{1}}{\\left(z \\right)} = i \\operatorname{A_{1}}{\\left(z \\right)} + i \\operatorname{A_{3}}{\\left(z \\right)} \\operatorname{Ac_{2}}{\\left(z \\right)}$"
      ],
      "text/plain": [
       "Eq(Derivative(A1(z), z), I*A1(z) + I*A3(z)*Ac2(z))"
      ]
     },
     "execution_count": 9,
     "metadata": {},
     "output_type": "execute_result"
    }
   ],
   "source": [
    "A1p = I*A1(z) + I*Ac2(z)*A3(z)\n",
    "Ac1p = -I*Ac1(z) - I*A2(z)*Ac3(z)\n",
    "Eq(diff(A1(z),z), A1p)"
   ]
  },
  {
   "cell_type": "code",
   "execution_count": 10,
   "metadata": {},
   "outputs": [
    {
     "data": {
      "text/latex": [
       "$\\displaystyle \\frac{d}{d z} \\operatorname{A_{2}}{\\left(z \\right)} = i \\operatorname{A_{2}}{\\left(z \\right)} + i \\operatorname{A_{3}}{\\left(z \\right)} \\operatorname{Ac_{1}}{\\left(z \\right)}$"
      ],
      "text/plain": [
       "Eq(Derivative(A2(z), z), I*A2(z) + I*A3(z)*Ac1(z))"
      ]
     },
     "execution_count": 10,
     "metadata": {},
     "output_type": "execute_result"
    }
   ],
   "source": [
    "A2p = I*A2(z) + I*Ac1(z)*A3(z)\n",
    "Ac2p = -I*Ac2(z) - I*A1(z)*Ac3(z)\n",
    "Eq(diff(A2(z),z), A2p)"
   ]
  },
  {
   "cell_type": "code",
   "execution_count": 11,
   "metadata": {},
   "outputs": [
    {
     "data": {
      "text/latex": [
       "$\\displaystyle \\frac{d}{d z} \\operatorname{A_{3}}{\\left(z \\right)} = 2 i \\operatorname{A_{1}}{\\left(z \\right)} \\operatorname{A_{2}}{\\left(z \\right)} + i \\operatorname{A_{3}}{\\left(z \\right)}$"
      ],
      "text/plain": [
       "Eq(Derivative(A3(z), z), 2*I*A1(z)*A2(z) + I*A3(z))"
      ]
     },
     "execution_count": 11,
     "metadata": {},
     "output_type": "execute_result"
    }
   ],
   "source": [
    "A3p = I*A3(z) + 2*I*A1(z)*A2(z)\n",
    "Ac3p = -I*Ac3(z) - 2*I*Ac1(z)*Ac2(z)\n",
    "Eq(diff(A3(z),z), A3p)"
   ]
  },
  {
   "cell_type": "markdown",
   "metadata": {},
   "source": [
    "### Conserved Quantities\n",
    "\n",
    "The system of equations conserves the following quantities:"
   ]
  },
  {
   "cell_type": "code",
   "execution_count": 12,
   "metadata": {},
   "outputs": [],
   "source": [
    "Pval = A1(z)*Ac1(z) + A2(z)*Ac2(z) + A3(z)*Ac3(z)\n",
    "Qval = A1(z)*Ac1(z) - A2(z)*Ac2(z)\n",
    "Kval = A1(z)*Ac1(z) + A2(z)*Ac2(z) + A3(z)*Ac3(z)/2 + A1(z)*A2(z)*Ac3(z) + Ac1(z)*Ac2(z)*A3(z)\n",
    "diff_subs = [\n",
    "    (diff(A1(z),z),A1p),(diff(A2(z),z),A2p),(diff(A3(z),z),A3p),\n",
    "    (diff(Ac1(z),z),Ac1p),(diff(Ac2(z),z),Ac2p),(diff(Ac3(z),z),Ac3p)\n",
    "]\n",
    "conserved_subs = [(P, Pval), (Q, Qval), (K, Kval)]"
   ]
  },
  {
   "cell_type": "code",
   "execution_count": 13,
   "metadata": {},
   "outputs": [
    {
     "data": {
      "text/latex": [
       "$\\displaystyle P = \\operatorname{A_{1}}{\\left(z \\right)} \\operatorname{Ac_{1}}{\\left(z \\right)} + \\operatorname{A_{2}}{\\left(z \\right)} \\operatorname{Ac_{2}}{\\left(z \\right)} + \\operatorname{A_{3}}{\\left(z \\right)} \\operatorname{Ac_{3}}{\\left(z \\right)}$"
      ],
      "text/plain": [
       "Eq(P, A1(z)*Ac1(z) + A2(z)*Ac2(z) + A3(z)*Ac3(z))"
      ]
     },
     "execution_count": 13,
     "metadata": {},
     "output_type": "execute_result"
    }
   ],
   "source": [
    "Eq(P,Pval)"
   ]
  },
  {
   "cell_type": "code",
   "execution_count": 14,
   "metadata": {},
   "outputs": [
    {
     "data": {
      "text/latex": [
       "$\\displaystyle 0$"
      ],
      "text/plain": [
       "0"
      ]
     },
     "execution_count": 14,
     "metadata": {},
     "output_type": "execute_result"
    }
   ],
   "source": [
    "diff(Pval,z).subs(diff_subs).simplify()"
   ]
  },
  {
   "cell_type": "code",
   "execution_count": 15,
   "metadata": {},
   "outputs": [
    {
     "data": {
      "text/latex": [
       "$\\displaystyle Q = \\operatorname{A_{1}}{\\left(z \\right)} \\operatorname{Ac_{1}}{\\left(z \\right)} - \\operatorname{A_{2}}{\\left(z \\right)} \\operatorname{Ac_{2}}{\\left(z \\right)}$"
      ],
      "text/plain": [
       "Eq(Q, A1(z)*Ac1(z) - A2(z)*Ac2(z))"
      ]
     },
     "execution_count": 15,
     "metadata": {},
     "output_type": "execute_result"
    }
   ],
   "source": [
    "Eq(Q,Qval)"
   ]
  },
  {
   "cell_type": "code",
   "execution_count": 16,
   "metadata": {},
   "outputs": [
    {
     "data": {
      "text/latex": [
       "$\\displaystyle 0$"
      ],
      "text/plain": [
       "0"
      ]
     },
     "execution_count": 16,
     "metadata": {},
     "output_type": "execute_result"
    }
   ],
   "source": [
    "diff(Qval,z).subs(diff_subs).simplify()"
   ]
  },
  {
   "cell_type": "code",
   "execution_count": 17,
   "metadata": {},
   "outputs": [
    {
     "data": {
      "text/latex": [
       "$\\displaystyle K = \\operatorname{A_{1}}{\\left(z \\right)} \\operatorname{A_{2}}{\\left(z \\right)} \\operatorname{Ac_{3}}{\\left(z \\right)} + \\operatorname{A_{1}}{\\left(z \\right)} \\operatorname{Ac_{1}}{\\left(z \\right)} + \\operatorname{A_{2}}{\\left(z \\right)} \\operatorname{Ac_{2}}{\\left(z \\right)} + \\operatorname{A_{3}}{\\left(z \\right)} \\operatorname{Ac_{1}}{\\left(z \\right)} \\operatorname{Ac_{2}}{\\left(z \\right)} + \\frac{\\operatorname{A_{3}}{\\left(z \\right)} \\operatorname{Ac_{3}}{\\left(z \\right)}}{2}$"
      ],
      "text/plain": [
       "Eq(K, A1(z)*A2(z)*Ac3(z) + A1(z)*Ac1(z) + A2(z)*Ac2(z) + A3(z)*Ac1(z)*Ac2(z) + A3(z)*Ac3(z)/2)"
      ]
     },
     "execution_count": 17,
     "metadata": {},
     "output_type": "execute_result"
    }
   ],
   "source": [
    "Kval_eq = Eq(K,Kval)\n",
    "Kval_eq"
   ]
  },
  {
   "cell_type": "code",
   "execution_count": 18,
   "metadata": {},
   "outputs": [
    {
     "data": {
      "text/latex": [
       "$\\displaystyle 0$"
      ],
      "text/plain": [
       "0"
      ]
     },
     "execution_count": 18,
     "metadata": {},
     "output_type": "execute_result"
    }
   ],
   "source": [
    "diff(Kval,z).subs(diff_subs).simplify()"
   ]
  },
  {
   "cell_type": "markdown",
   "metadata": {},
   "source": [
    "### Solving the Modal Power Analytically\n",
    "\n",
    "The first step is to derive a differential equation for the power in one mode which is decoupled from the other fields:"
   ]
  },
  {
   "cell_type": "code",
   "execution_count": 19,
   "metadata": {},
   "outputs": [
    {
     "data": {
      "text/latex": [
       "$\\displaystyle \\frac{d}{d z} \\operatorname{A_{1}}{\\left(z \\right)} \\operatorname{Ac_{1}}{\\left(z \\right)} = i \\left(- \\operatorname{A_{1}}{\\left(z \\right)} \\operatorname{A_{2}}{\\left(z \\right)} \\operatorname{Ac_{3}}{\\left(z \\right)} + \\operatorname{A_{3}}{\\left(z \\right)} \\operatorname{Ac_{1}}{\\left(z \\right)} \\operatorname{Ac_{2}}{\\left(z \\right)}\\right)$"
      ],
      "text/plain": [
       "Eq(Derivative(A1(z)*Ac1(z), z), I*(-A1(z)*A2(z)*Ac3(z) + A3(z)*Ac1(z)*Ac2(z)))"
      ]
     },
     "execution_count": 19,
     "metadata": {},
     "output_type": "execute_result"
    }
   ],
   "source": [
    "P1p_eq = Eq(Derivative(A1(z)*Ac1(z),z),diff(A1(z)*Ac1(z),z).subs(diff_subs).simplify())\n",
    "P1p_eq"
   ]
  },
  {
   "cell_type": "markdown",
   "metadata": {},
   "source": [
    "By using the conserved quantities it can be seen that the derivative squared is proportional to a cubic and that this can be made to resemble the differential equation for the Weiertrass P function:"
   ]
  },
  {
   "cell_type": "code",
   "execution_count": 20,
   "metadata": {},
   "outputs": [
    {
     "data": {
      "text/latex": [
       "$\\displaystyle \\left(\\frac{d}{d z} \\operatorname{A_{1}}{\\left(z \\right)} \\operatorname{Ac_{1}}{\\left(z \\right)}\\right)^{2} = - \\left(K - \\frac{P}{2} + \\frac{Q}{2}\\right)^{2} - \\left(- 4 P - 12 Q + 1\\right) \\operatorname{A_{1}}^{2}{\\left(z \\right)} \\operatorname{Ac_{1}}^{2}{\\left(z \\right)} + \\left(2 K - 4 P Q - P - 4 Q^{2} + Q\\right) \\operatorname{A_{1}}{\\left(z \\right)} \\operatorname{Ac_{1}}{\\left(z \\right)} - 8 \\operatorname{A_{1}}^{3}{\\left(z \\right)} \\operatorname{Ac_{1}}^{3}{\\left(z \\right)}$"
      ],
      "text/plain": [
       "Eq(Derivative(A1(z)*Ac1(z), z)**2, -(K - P/2 + Q/2)**2 - (-4*P - 12*Q + 1)*A1(z)**2*Ac1(z)**2 + (2*K - 4*P*Q - P - 4*Q**2 + Q)*A1(z)*Ac1(z) - 8*A1(z)**3*Ac1(z)**3)"
      ]
     },
     "execution_count": 20,
     "metadata": {},
     "output_type": "execute_result"
    }
   ],
   "source": [
    "P1pSqrd = (-8*(A1(z)*Ac1(z))**3 - (1 - 12*Q - 4*P)*(A1(z)*Ac1(z))**2 + (2*K - P + Q - 4*Q*P - 4*Q**2)*(A1(z)*Ac1(z)) -\n",
    "   (K - P/2 + Q/2)**2)\n",
    "Eq(Derivative(A1(z)*Ac1(z),z)**2, P1pSqrd)"
   ]
  },
  {
   "cell_type": "code",
   "execution_count": 21,
   "metadata": {
    "scrolled": true
   },
   "outputs": [
    {
     "data": {
      "text/latex": [
       "$\\displaystyle 0$"
      ],
      "text/plain": [
       "0"
      ]
     },
     "execution_count": 21,
     "metadata": {},
     "output_type": "execute_result"
    }
   ],
   "source": [
    "(diff(A1(z)*Ac1(z),z)**2 - P1pSqrd).subs(diff_subs + conserved_subs).simplify()"
   ]
  },
  {
   "cell_type": "markdown",
   "metadata": {},
   "source": [
    "It is useful at this stage to define the following constants to simplify the algebra:"
   ]
  },
  {
   "cell_type": "code",
   "execution_count": 22,
   "metadata": {},
   "outputs": [],
   "source": [
    "p1val = (P/3 - Rational(1,12) + Q)\n",
    "p2val = (P/3 - Rational(1,12) - Q)\n",
    "p3val = (2*K - P + Q)\n",
    "P_val_in_p = (p1+p2)*Rational(3/2) + Rational(1/4)\n",
    "Q_val_in_p = (p1-p2)/2\n",
    "K_val_in_p = (p1 + p3)/2 + p2 + Rational(1/8)\n",
    "PQK_sub_vals = [(Q,Q_val_in_p), (P,P_val_in_p), (K,K_val_in_p)]"
   ]
  },
  {
   "cell_type": "code",
   "execution_count": 23,
   "metadata": {},
   "outputs": [
    {
     "data": {
      "text/latex": [
       "$\\displaystyle p_{1} = \\frac{P}{3} + Q - \\frac{1}{12}$"
      ],
      "text/plain": [
       "Eq(p1, P/3 + Q - 1/12)"
      ]
     },
     "execution_count": 23,
     "metadata": {},
     "output_type": "execute_result"
    }
   ],
   "source": [
    "Eq(p1, p1val)"
   ]
  },
  {
   "cell_type": "code",
   "execution_count": 24,
   "metadata": {},
   "outputs": [
    {
     "data": {
      "text/latex": [
       "$\\displaystyle p_{1} = \\frac{4 \\operatorname{A_{1}}{\\left(z \\right)} \\operatorname{Ac_{1}}{\\left(z \\right)}}{3} - \\frac{2 \\operatorname{A_{2}}{\\left(z \\right)} \\operatorname{Ac_{2}}{\\left(z \\right)}}{3} + \\frac{\\operatorname{A_{3}}{\\left(z \\right)} \\operatorname{Ac_{3}}{\\left(z \\right)}}{3} - \\frac{1}{12}$"
      ],
      "text/plain": [
       "Eq(p1, 4*A1(z)*Ac1(z)/3 - 2*A2(z)*Ac2(z)/3 + A3(z)*Ac3(z)/3 - 1/12)"
      ]
     },
     "execution_count": 24,
     "metadata": {},
     "output_type": "execute_result"
    }
   ],
   "source": [
    "Eq(p1, p1val.subs(conserved_subs))"
   ]
  },
  {
   "cell_type": "code",
   "execution_count": 25,
   "metadata": {},
   "outputs": [
    {
     "data": {
      "text/latex": [
       "$\\displaystyle p_{2} = \\frac{P}{3} - Q - \\frac{1}{12}$"
      ],
      "text/plain": [
       "Eq(p2, P/3 - Q - 1/12)"
      ]
     },
     "execution_count": 25,
     "metadata": {},
     "output_type": "execute_result"
    }
   ],
   "source": [
    "Eq(p2, p2val)"
   ]
  },
  {
   "cell_type": "code",
   "execution_count": 26,
   "metadata": {},
   "outputs": [
    {
     "data": {
      "text/latex": [
       "$\\displaystyle p_{2} = - \\frac{2 \\operatorname{A_{1}}{\\left(z \\right)} \\operatorname{Ac_{1}}{\\left(z \\right)}}{3} + \\frac{4 \\operatorname{A_{2}}{\\left(z \\right)} \\operatorname{Ac_{2}}{\\left(z \\right)}}{3} + \\frac{\\operatorname{A_{3}}{\\left(z \\right)} \\operatorname{Ac_{3}}{\\left(z \\right)}}{3} - \\frac{1}{12}$"
      ],
      "text/plain": [
       "Eq(p2, -2*A1(z)*Ac1(z)/3 + 4*A2(z)*Ac2(z)/3 + A3(z)*Ac3(z)/3 - 1/12)"
      ]
     },
     "execution_count": 26,
     "metadata": {},
     "output_type": "execute_result"
    }
   ],
   "source": [
    "Eq(p2, p2val.subs(conserved_subs))"
   ]
  },
  {
   "cell_type": "code",
   "execution_count": 27,
   "metadata": {},
   "outputs": [
    {
     "data": {
      "text/latex": [
       "$\\displaystyle p_{3} = 2 K - P + Q$"
      ],
      "text/plain": [
       "Eq(p3, 2*K - P + Q)"
      ]
     },
     "execution_count": 27,
     "metadata": {},
     "output_type": "execute_result"
    }
   ],
   "source": [
    "Eq(p3, p3val)"
   ]
  },
  {
   "cell_type": "code",
   "execution_count": 28,
   "metadata": {},
   "outputs": [
    {
     "data": {
      "text/latex": [
       "$\\displaystyle p_{3} = 2 \\operatorname{A_{1}}{\\left(z \\right)} \\operatorname{A_{2}}{\\left(z \\right)} \\operatorname{Ac_{3}}{\\left(z \\right)} + 2 \\operatorname{A_{1}}{\\left(z \\right)} \\operatorname{Ac_{1}}{\\left(z \\right)} + 2 \\operatorname{A_{3}}{\\left(z \\right)} \\operatorname{Ac_{1}}{\\left(z \\right)} \\operatorname{Ac_{2}}{\\left(z \\right)}$"
      ],
      "text/plain": [
       "Eq(p3, 2*A1(z)*A2(z)*Ac3(z) + 2*A1(z)*Ac1(z) + 2*A3(z)*Ac1(z)*Ac2(z))"
      ]
     },
     "execution_count": 28,
     "metadata": {},
     "output_type": "execute_result"
    }
   ],
   "source": [
    "Eq(p3, p3val.subs(conserved_subs))"
   ]
  },
  {
   "cell_type": "markdown",
   "metadata": {},
   "source": [
    "The following quantities g2 and g3 are the elliptic invariants:"
   ]
  },
  {
   "cell_type": "code",
   "execution_count": 29,
   "metadata": {},
   "outputs": [],
   "source": [
    "g2val = 4*(p1val**2 + p1val*p2val + p2val**2) + 2*p3val - p1val + p2val\n",
    "g3val = (p1val - p3val)**2 - 4*(p1val*p2val**2 + p2val*p1val**2) - p1val*p2val"
   ]
  },
  {
   "cell_type": "code",
   "execution_count": 30,
   "metadata": {},
   "outputs": [
    {
     "data": {
      "text/latex": [
       "$\\displaystyle g_{2} = 4 p_{1}^{2} + 4 p_{1} p_{2} - p_{1} + 4 p_{2}^{2} + p_{2} + 2 p_{3}$"
      ],
      "text/plain": [
       "Eq(g2, 4*p1**2 + 4*p1*p2 - p1 + 4*p2**2 + p2 + 2*p3)"
      ]
     },
     "execution_count": 30,
     "metadata": {},
     "output_type": "execute_result"
    }
   ],
   "source": [
    "g2_p = Eq(g2, 4*(p1**2 + p1*p2 + p2**2) + 2*p3 - p1 + p2)\n",
    "g2_p"
   ]
  },
  {
   "cell_type": "code",
   "execution_count": 31,
   "metadata": {},
   "outputs": [
    {
     "data": {
      "text/latex": [
       "$\\displaystyle g_{2} = 4 K - 2 P + 4 \\left(\\frac{P}{3} - Q - \\frac{1}{12}\\right)^{2} + 4 \\left(\\frac{P}{3} - Q - \\frac{1}{12}\\right) \\left(\\frac{P}{3} + Q - \\frac{1}{12}\\right) + 4 \\left(\\frac{P}{3} + Q - \\frac{1}{12}\\right)^{2}$"
      ],
      "text/plain": [
       "Eq(g2, 4*K - 2*P + 4*(P/3 - Q - 1/12)**2 + 4*(P/3 - Q - 1/12)*(P/3 + Q - 1/12) + 4*(P/3 + Q - 1/12)**2)"
      ]
     },
     "execution_count": 31,
     "metadata": {},
     "output_type": "execute_result"
    }
   ],
   "source": [
    "Eq(g2, g2val)"
   ]
  },
  {
   "cell_type": "code",
   "execution_count": 32,
   "metadata": {},
   "outputs": [
    {
     "data": {
      "text/latex": [
       "$\\displaystyle g_{3} = - 4 p_{1}^{2} p_{2} - 4 p_{1} p_{2}^{2} - p_{1} p_{2} + \\left(p_{1} - p_{3}\\right)^{2}$"
      ],
      "text/plain": [
       "Eq(g3, -4*p1**2*p2 - 4*p1*p2**2 - p1*p2 + (p1 - p3)**2)"
      ]
     },
     "execution_count": 32,
     "metadata": {},
     "output_type": "execute_result"
    }
   ],
   "source": [
    "g3_p = Eq(g3, (p1 - p3)**2 - 4*(p1*p2**2 + p2*p1**2) - p1*p2)\n",
    "g3_p"
   ]
  },
  {
   "cell_type": "code",
   "execution_count": 33,
   "metadata": {},
   "outputs": [
    {
     "data": {
      "text/latex": [
       "$\\displaystyle g_{3} = \\left(- 2 K + \\frac{4 P}{3} - \\frac{1}{12}\\right)^{2} - 4 \\left(\\frac{P}{3} - Q - \\frac{1}{12}\\right)^{2} \\left(\\frac{P}{3} + Q - \\frac{1}{12}\\right) - 4 \\left(\\frac{P}{3} - Q - \\frac{1}{12}\\right) \\left(\\frac{P}{3} + Q - \\frac{1}{12}\\right)^{2} - \\left(\\frac{P}{3} - Q - \\frac{1}{12}\\right) \\left(\\frac{P}{3} + Q - \\frac{1}{12}\\right)$"
      ],
      "text/plain": [
       "Eq(g3, (-2*K + 4*P/3 - 1/12)**2 - 4*(P/3 - Q - 1/12)**2*(P/3 + Q - 1/12) - 4*(P/3 - Q - 1/12)*(P/3 + Q - 1/12)**2 - (P/3 - Q - 1/12)*(P/3 + Q - 1/12))"
      ]
     },
     "execution_count": 33,
     "metadata": {},
     "output_type": "execute_result"
    }
   ],
   "source": [
    "Eq(g3, g3val)"
   ]
  },
  {
   "cell_type": "markdown",
   "metadata": {},
   "source": [
    "Then, if the following function is defined it can be shown that the differential equation for the power in mode 1 is transformed into the differential equation for the Weierstrass P function:"
   ]
  },
  {
   "cell_type": "code",
   "execution_count": 34,
   "metadata": {},
   "outputs": [
    {
     "data": {
      "text/latex": [
       "$\\displaystyle \\operatorname{W_{1}}{\\left(z \\right)} = p_{1} - 2 \\operatorname{A_{1}}{\\left(z \\right)} \\operatorname{Ac_{1}}{\\left(z \\right)}$"
      ],
      "text/plain": [
       "Eq(W1(z), p1 - 2*A1(z)*Ac1(z))"
      ]
     },
     "execution_count": 34,
     "metadata": {},
     "output_type": "execute_result"
    }
   ],
   "source": [
    "Eq(W1(z), p1 - 2*A1(z)*Ac1(z))"
   ]
  },
  {
   "cell_type": "code",
   "execution_count": 35,
   "metadata": {},
   "outputs": [
    {
     "data": {
      "text/latex": [
       "$\\displaystyle \\left(\\frac{d}{d z} \\operatorname{W_{1}}{\\left(z \\right)}\\right)^{2} = - g_{2} \\operatorname{W_{1}}{\\left(z \\right)} - g_{3} + 4 \\operatorname{W_{1}}^{3}{\\left(z \\right)}$"
      ],
      "text/plain": [
       "Eq(Derivative(W1(z), z)**2, -g2*W1(z) - g3 + 4*W1(z)**3)"
      ]
     },
     "execution_count": 35,
     "metadata": {},
     "output_type": "execute_result"
    }
   ],
   "source": [
    "eq1 = Eq(4*Derivative(A1(z)*Ac1(z),z)**2, 4*P1pSqrd).subs(Ac1(z), (p1 - W1(z)).subs(p1, p1val)/A1(z)/2).expand()\n",
    "eq2 = Eq(diff(W1(z),z)**2,4*W1(z)**3 - g2*W1(z) - g3)\n",
    "eq2"
   ]
  },
  {
   "cell_type": "code",
   "execution_count": 36,
   "metadata": {},
   "outputs": [
    {
     "data": {
      "text/latex": [
       "$\\displaystyle \\operatorname{W_{1}}{\\left(z \\right)} = \\operatorname{pw}{\\left(z - z_{0},g_{2},g_{3} \\right)}$"
      ],
      "text/plain": [
       "Eq(W1(z), pw(z - z0, g2, g3))"
      ]
     },
     "execution_count": 36,
     "metadata": {},
     "output_type": "execute_result"
    }
   ],
   "source": [
    "Eq(W1(z),pw(z-z0, g2, g3))"
   ]
  },
  {
   "cell_type": "code",
   "execution_count": 37,
   "metadata": {},
   "outputs": [
    {
     "data": {
      "text/latex": [
       "$\\displaystyle 0$"
      ],
      "text/plain": [
       "0"
      ]
     },
     "execution_count": 37,
     "metadata": {},
     "output_type": "execute_result"
    }
   ],
   "source": [
    "(eq2.rhs - eq1.rhs).subs([(g2,g2val), (g3,g3val)]).subs([(p1, p1val),(p2,p2val), (p3,p3val)]).simplify()"
   ]
  },
  {
   "cell_type": "code",
   "execution_count": 38,
   "metadata": {},
   "outputs": [
    {
     "data": {
      "text/latex": [
       "$\\displaystyle \\operatorname{A_{1}}{\\left(z \\right)} \\operatorname{Ac_{1}}{\\left(z \\right)} = \\frac{p_{1}}{2} - \\frac{\\operatorname{pw}{\\left(z - z_{0},g_{2},g_{3} \\right)}}{2}$"
      ],
      "text/plain": [
       "Eq(A1(z)*Ac1(z), p1/2 - pw(z - z0, g2, g3)/2)"
      ]
     },
     "execution_count": 38,
     "metadata": {},
     "output_type": "execute_result"
    }
   ],
   "source": [
    "eq_pow_1_p = Eq(A1(z)*Ac1(z),(p1 - W1(z))/2).subs(W1(z),pw(z-z0, g2, g3))\n",
    "eq_pow_1_p"
   ]
  },
  {
   "cell_type": "code",
   "execution_count": 39,
   "metadata": {},
   "outputs": [
    {
     "data": {
      "text/latex": [
       "$\\displaystyle \\operatorname{A_{1}}{\\left(z \\right)} \\operatorname{Ac_{1}}{\\left(z \\right)} = \\frac{P}{6} + \\frac{Q}{2} - \\frac{\\operatorname{pw}{\\left(z - z_{0},g_{2},g_{3} \\right)}}{2} - \\frac{1}{24}$"
      ],
      "text/plain": [
       "Eq(A1(z)*Ac1(z), P/6 + Q/2 - pw(z - z0, g2, g3)/2 - 1/24)"
      ]
     },
     "execution_count": 39,
     "metadata": {},
     "output_type": "execute_result"
    }
   ],
   "source": [
    "eq_pow_1 = eq_pow_1_p.subs(p1,p1val)\n",
    "eq_pow_1"
   ]
  },
  {
   "cell_type": "markdown",
   "metadata": {},
   "source": [
    "The point $z_0$ is then defined by the initial conditions as follows:"
   ]
  },
  {
   "cell_type": "code",
   "execution_count": 40,
   "metadata": {},
   "outputs": [],
   "source": [
    "w_symmetries = [(pw(-z0,g2,g3), pw(z0,g2,g3)), (pwp(-z0,g2,g3), -pwp(z0,g2,g3))]"
   ]
  },
  {
   "cell_type": "code",
   "execution_count": 41,
   "metadata": {
    "scrolled": true
   },
   "outputs": [
    {
     "data": {
      "text/latex": [
       "$\\displaystyle \\operatorname{pw}{\\left(z_{0},g_{2},g_{3} \\right)} = p_{1} - 2 \\operatorname{A_{1}}{\\left(0 \\right)} \\operatorname{Ac_{1}}{\\left(0 \\right)}$"
      ],
      "text/plain": [
       "Eq(pw(z0, g2, g3), p1 - 2*A1(0)*Ac1(0))"
      ]
     },
     "execution_count": 41,
     "metadata": {},
     "output_type": "execute_result"
    }
   ],
   "source": [
    "pw_z0_eq = Eq(-eq_pow_1_p.rhs*2 + p1, -eq_pow_1_p.lhs*2 + p1).subs(z,0).subs(w_symmetries)\n",
    "pw_z0_eq"
   ]
  },
  {
   "cell_type": "code",
   "execution_count": 42,
   "metadata": {},
   "outputs": [
    {
     "data": {
      "text/latex": [
       "$\\displaystyle \\operatorname{pwp}{\\left(z_{0},g_{2},g_{3} \\right)} = 2 i \\left(- \\operatorname{A_{1}}{\\left(0 \\right)} \\operatorname{A_{2}}{\\left(0 \\right)} \\operatorname{Ac_{3}}{\\left(0 \\right)} + \\operatorname{A_{3}}{\\left(0 \\right)} \\operatorname{Ac_{1}}{\\left(0 \\right)} \\operatorname{Ac_{2}}{\\left(0 \\right)}\\right)$"
      ],
      "text/plain": [
       "Eq(pwp(z0, g2, g3), 2*I*(-A1(0)*A2(0)*Ac3(0) + A3(0)*Ac1(0)*Ac2(0)))"
      ]
     },
     "execution_count": 42,
     "metadata": {},
     "output_type": "execute_result"
    }
   ],
   "source": [
    "pwp_z0_eq = Eq(\n",
    "    diff(eq_pow_1_p.rhs*2 - p1,z), \n",
    "    2*Derivative(eq_pow_1_p.lhs,z) - diff(p1,z)\n",
    ").subs(\n",
    "    [(diff(-eq_pow_1_p.rhs*2 + p1,z),pwp(z-z0,g2,g3)), (P1p_eq.lhs, P1p_eq.rhs)]\n",
    ").subs(z,0).subs(w_symmetries)\n",
    "pwp_z0_eq"
   ]
  },
  {
   "cell_type": "markdown",
   "metadata": {},
   "source": [
    "Having shown that the power in mode 1 is expressible in terms of the Weierstrass P function, the power in modes 2 and 3 can be found using the conserved quantities:"
   ]
  },
  {
   "cell_type": "code",
   "execution_count": 43,
   "metadata": {},
   "outputs": [
    {
     "data": {
      "text/latex": [
       "$\\displaystyle \\operatorname{A_{2}}{\\left(z \\right)} \\operatorname{Ac_{2}}{\\left(z \\right)} = \\frac{P}{6} - \\frac{Q}{2} - \\frac{\\operatorname{pw}{\\left(z - z_{0},g_{2},g_{3} \\right)}}{2} - \\frac{1}{24}$"
      ],
      "text/plain": [
       "Eq(A2(z)*Ac2(z), P/6 - Q/2 - pw(z - z0, g2, g3)/2 - 1/24)"
      ]
     },
     "execution_count": 43,
     "metadata": {},
     "output_type": "execute_result"
    }
   ],
   "source": [
    "eq_pow_2 = Eq(Q,Qval).subs(A1(z)*Ac1(z),eq_pow_1.rhs).subs(p1,p1val)\n",
    "_a2q = A2(z)*Ac2(z) - Q\n",
    "eq_pow_2 = Eq(eq_pow_2.lhs + _a2q, eq_pow_2.rhs + _a2q)\n",
    "eq_pow_2"
   ]
  },
  {
   "cell_type": "code",
   "execution_count": 44,
   "metadata": {},
   "outputs": [
    {
     "data": {
      "text/latex": [
       "$\\displaystyle \\operatorname{A_{2}}{\\left(z \\right)} \\operatorname{Ac_{2}}{\\left(z \\right)} = \\frac{p_{2}}{2} - \\frac{\\operatorname{pw}{\\left(z - z_{0},g_{2},g_{3} \\right)}}{2}$"
      ],
      "text/plain": [
       "Eq(A2(z)*Ac2(z), p2/2 - pw(z - z0, g2, g3)/2)"
      ]
     },
     "execution_count": 44,
     "metadata": {},
     "output_type": "execute_result"
    }
   ],
   "source": [
    "eq_pow_2_p = eq_pow_2.subs(PQK_sub_vals)\n",
    "eq_pow_2_p"
   ]
  },
  {
   "cell_type": "code",
   "execution_count": 45,
   "metadata": {},
   "outputs": [
    {
     "data": {
      "text/latex": [
       "$\\displaystyle \\operatorname{A_{3}}{\\left(z \\right)} \\operatorname{Ac_{3}}{\\left(z \\right)} = \\frac{2 P}{3} + \\operatorname{pw}{\\left(z - z_{0},g_{2},g_{3} \\right)} + \\frac{1}{12}$"
      ],
      "text/plain": [
       "Eq(A3(z)*Ac3(z), 2*P/3 + pw(z - z0, g2, g3) + 1/12)"
      ]
     },
     "execution_count": 45,
     "metadata": {},
     "output_type": "execute_result"
    }
   ],
   "source": [
    "eq_pow_3 = (Eq(P,Pval)\n",
    "            .subs([(A1(z)*Ac1(z),eq_pow_1.rhs), (A2(z)*Ac2(z),eq_pow_2.rhs)])\n",
    "            .subs(p1,p1val))\n",
    "_a3p = A3(z)*Ac3(z) + P \n",
    "eq_pow_3 = Eq(-eq_pow_3.lhs + _a3p, -eq_pow_3.rhs + _a3p)\n",
    "eq_pow_3"
   ]
  },
  {
   "cell_type": "code",
   "execution_count": 46,
   "metadata": {},
   "outputs": [
    {
     "data": {
      "text/latex": [
       "$\\displaystyle \\operatorname{A_{3}}{\\left(z \\right)} \\operatorname{Ac_{3}}{\\left(z \\right)} = p_{1} + p_{2} + \\operatorname{pw}{\\left(z - z_{0},g_{2},g_{3} \\right)} + \\frac{1}{4}$"
      ],
      "text/plain": [
       "Eq(A3(z)*Ac3(z), p1 + p2 + pw(z - z0, g2, g3) + 1/4)"
      ]
     },
     "execution_count": 46,
     "metadata": {},
     "output_type": "execute_result"
    }
   ],
   "source": [
    "eq_pow_3_p = eq_pow_3.subs(PQK_sub_vals)\n",
    "eq_pow_3_p"
   ]
  },
  {
   "cell_type": "markdown",
   "metadata": {},
   "source": [
    "The derivative of the power in each mode is then expressible in terms of the Weierstrass P Prime function:"
   ]
  },
  {
   "cell_type": "code",
   "execution_count": 47,
   "metadata": {},
   "outputs": [
    {
     "data": {
      "text/latex": [
       "$\\displaystyle \\frac{d}{d z} \\operatorname{A_{1}}{\\left(z \\right)} \\operatorname{Ac_{1}}{\\left(z \\right)} = - \\frac{\\operatorname{pwp}{\\left(z - z_{0},g_{2},g_{3} \\right)}}{2}$"
      ],
      "text/plain": [
       "Eq(Derivative(A1(z)*Ac1(z), z), -pwp(z - z0, g2, g3)/2)"
      ]
     },
     "execution_count": 47,
     "metadata": {},
     "output_type": "execute_result"
    }
   ],
   "source": [
    "eq_pow_1_div = Eq(Derivative(eq_pow_1.lhs,z), diff(eq_pow_1.rhs,z)).subs(diff(pw(z-z0, g2, g3),z),pwp(z-z0, g2, g3))\n",
    "eq_pow_1_div"
   ]
  },
  {
   "cell_type": "code",
   "execution_count": 48,
   "metadata": {},
   "outputs": [
    {
     "data": {
      "text/latex": [
       "$\\displaystyle \\frac{d}{d z} \\operatorname{A_{2}}{\\left(z \\right)} \\operatorname{Ac_{2}}{\\left(z \\right)} = - \\frac{\\operatorname{pwp}{\\left(z - z_{0},g_{2},g_{3} \\right)}}{2}$"
      ],
      "text/plain": [
       "Eq(Derivative(A2(z)*Ac2(z), z), -pwp(z - z0, g2, g3)/2)"
      ]
     },
     "execution_count": 48,
     "metadata": {},
     "output_type": "execute_result"
    }
   ],
   "source": [
    "eq_pow_2_div = Eq(Derivative(eq_pow_2.lhs,z), diff(eq_pow_2.rhs,z)).subs(diff(pw(z-z0, g2, g3),z),pwp(z-z0, g2, g3))\n",
    "eq_pow_2_div"
   ]
  },
  {
   "cell_type": "code",
   "execution_count": 49,
   "metadata": {},
   "outputs": [
    {
     "data": {
      "text/latex": [
       "$\\displaystyle \\frac{d}{d z} \\operatorname{A_{3}}{\\left(z \\right)} \\operatorname{Ac_{3}}{\\left(z \\right)} = \\operatorname{pwp}{\\left(z - z_{0},g_{2},g_{3} \\right)}$"
      ],
      "text/plain": [
       "Eq(Derivative(A3(z)*Ac3(z), z), pwp(z - z0, g2, g3))"
      ]
     },
     "execution_count": 49,
     "metadata": {},
     "output_type": "execute_result"
    }
   ],
   "source": [
    "eq_pow_3_div = Eq(Derivative(eq_pow_3.lhs,z), diff(eq_pow_3.rhs,z)).subs(diff(pw(z-z0, g2, g3),z),pwp(z-z0, g2, g3))\n",
    "eq_pow_3_div"
   ]
  },
  {
   "cell_type": "markdown",
   "metadata": {},
   "source": [
    "It is then useful to define the following complex constants $\\xi_1, \\xi_2, \\xi_3$ and relate them via Weiertrass P and P Prime to the $p_1, p_2, p_3$ constants. "
   ]
  },
  {
   "cell_type": "code",
   "execution_count": 50,
   "metadata": {},
   "outputs": [
    {
     "data": {
      "text/latex": [
       "$\\displaystyle \\operatorname{pw}{\\left(\\xi_{1},g_{2},g_{3} \\right)} = p_{1}$"
      ],
      "text/plain": [
       "Eq(pw(xi1, g2, g3), p1)"
      ]
     },
     "execution_count": 50,
     "metadata": {},
     "output_type": "execute_result"
    }
   ],
   "source": [
    "xi1_p1 = Eq(pw(xi1,g2,g3), p1)\n",
    "xi1_p1"
   ]
  },
  {
   "cell_type": "code",
   "execution_count": 51,
   "metadata": {},
   "outputs": [
    {
     "data": {
      "text/latex": [
       "$\\displaystyle \\operatorname{pw}{\\left(\\xi_{2},g_{2},g_{3} \\right)} = p_{2}$"
      ],
      "text/plain": [
       "Eq(pw(xi2, g2, g3), p2)"
      ]
     },
     "execution_count": 51,
     "metadata": {},
     "output_type": "execute_result"
    }
   ],
   "source": [
    "xi2_p2 = Eq(pw(xi2,g2,g3), p2)\n",
    "xi2_p2 "
   ]
  },
  {
   "cell_type": "code",
   "execution_count": 52,
   "metadata": {},
   "outputs": [
    {
     "data": {
      "text/latex": [
       "$\\displaystyle \\operatorname{pw}{\\left(\\xi_{3},g_{2},g_{3} \\right)} = - p_{1} - p_{2} - \\frac{1}{4}$"
      ],
      "text/plain": [
       "Eq(pw(xi3, g2, g3), -p1 - p2 - 1/4)"
      ]
     },
     "execution_count": 52,
     "metadata": {},
     "output_type": "execute_result"
    }
   ],
   "source": [
    "xi3_p1_p2 = Eq(pw(xi3,g2,g3), - p1 - p2 - Rational(1,4))\n",
    "xi3_p1_p2"
   ]
  },
  {
   "cell_type": "code",
   "execution_count": 53,
   "metadata": {},
   "outputs": [],
   "source": [
    "pw_for_pvals_subs = [(xi1_p1.lhs, xi1_p1.rhs), (xi2_p2.lhs, xi2_p2.rhs), (xi3_p1_p2.lhs, xi3_p1_p2.rhs)]\n",
    "pvals_for_pw_subs = [(xi1_p1.rhs, xi1_p1.lhs), (xi2_p2.rhs, xi2_p2.lhs), (xi3_p1_p2.rhs, xi3_p1_p2.lhs)]"
   ]
  },
  {
   "cell_type": "markdown",
   "metadata": {},
   "source": [
    "Then from the differential equation for the Weierstrass P function it is seen that the Weierstrass P Prime function squared takes the following values in $p_1,p_2,p_3$, when evaluated at $\\xi_1,\\xi_2,\\xi_3$:"
   ]
  },
  {
   "cell_type": "code",
   "execution_count": 54,
   "metadata": {},
   "outputs": [
    {
     "data": {
      "text/latex": [
       "$\\displaystyle \\operatorname{pwp}^{2}{\\left(\\xi_{1},g_{2},g_{3} \\right)} = - p_{3}^{2}$"
      ],
      "text/plain": [
       "Eq(pwp(xi1, g2, g3)**2, -p3**2)"
      ]
     },
     "execution_count": 54,
     "metadata": {},
     "output_type": "execute_result"
    }
   ],
   "source": [
    "(eq2\n",
    ".subs([(eq2.lhs, pwp(xi1)**2), (W1(z), pw(xi1,g2,g3))])\n",
    ".subs(pw_for_pvals_subs)\n",
    ".subs([(g2_p.lhs, g2_p.rhs), (g3_p.lhs, g3_p.rhs)])\n",
    " .subs([(pwp(xi1)**2, pwp(xi1,g2,g3)**2)])\n",
    ").expand()"
   ]
  },
  {
   "cell_type": "code",
   "execution_count": 55,
   "metadata": {},
   "outputs": [
    {
     "data": {
      "text/latex": [
       "$\\displaystyle \\operatorname{pwp}^{2}{\\left(\\xi_{2},g_{2},g_{3} \\right)} = - \\left(p_{1} - p_{2} - p_{3}\\right)^{2}$"
      ],
      "text/plain": [
       "Eq(pwp(xi2, g2, g3)**2, -(p1 - p2 - p3)**2)"
      ]
     },
     "execution_count": 55,
     "metadata": {},
     "output_type": "execute_result"
    }
   ],
   "source": [
    "factor((eq2\n",
    ".subs([(eq2.lhs, pwp(xi2)**2), (W1(z), pw(xi2,g2,g3))])\n",
    ".subs(pw_for_pvals_subs)\n",
    ".subs([(g2_p.lhs, g2_p.rhs), (g3_p.lhs, g3_p.rhs)])\n",
    " .subs([(pwp(xi2)**2, pwp(xi2,g2,g3)**2)])\n",
    ").simplify())"
   ]
  },
  {
   "cell_type": "code",
   "execution_count": 56,
   "metadata": {},
   "outputs": [
    {
     "data": {
      "text/latex": [
       "$\\displaystyle \\operatorname{pwp}^{2}{\\left(\\xi_{3},g_{2},g_{3} \\right)} = - \\frac{\\left(8 p_{1} + 4 p_{2} - 4 p_{3} + 1\\right)^{2}}{16}$"
      ],
      "text/plain": [
       "Eq(pwp(xi3, g2, g3)**2, -(8*p1 + 4*p2 - 4*p3 + 1)**2/16)"
      ]
     },
     "execution_count": 56,
     "metadata": {},
     "output_type": "execute_result"
    }
   ],
   "source": [
    "factor((eq2\n",
    ".subs([(eq2.lhs, pwp(xi3)**2), (W1(z), pw(xi3,g2,g3))])\n",
    ".subs(pw_for_pvals_subs)\n",
    ".subs([(g2_p.lhs, g2_p.rhs), (g3_p.lhs, g3_p.rhs)])\n",
    " .subs([(pwp(xi3)**2, pwp(xi3,g2,g3)**2)])\n",
    ").simplify())"
   ]
  },
  {
   "cell_type": "markdown",
   "metadata": {},
   "source": [
    "There is some freedom to pick the sign for the square root but swapping the sign in front of $\\xi$ would give the other root anyway so it doesn't matter much. Therefore, the following properties are used to further design the $\\xi$ constants:"
   ]
  },
  {
   "cell_type": "code",
   "execution_count": 57,
   "metadata": {},
   "outputs": [
    {
     "data": {
      "text/latex": [
       "$\\displaystyle \\operatorname{pwp}{\\left(\\xi_{1},g_{2},g_{3} \\right)} = i p_{3}$"
      ],
      "text/plain": [
       "Eq(pwp(xi1, g2, g3), I*p3)"
      ]
     },
     "execution_count": 57,
     "metadata": {},
     "output_type": "execute_result"
    }
   ],
   "source": [
    "eq_pwp_xi1 = Eq(pwp(xi1,g2,g3), I*p3)\n",
    "eq_pwp_xi1"
   ]
  },
  {
   "cell_type": "code",
   "execution_count": 58,
   "metadata": {},
   "outputs": [
    {
     "data": {
      "text/latex": [
       "$\\displaystyle \\operatorname{pwp}{\\left(\\xi_{2},g_{2},g_{3} \\right)} = i \\left(- p_{1} + p_{2} + p_{3}\\right)$"
      ],
      "text/plain": [
       "Eq(pwp(xi2, g2, g3), I*(-p1 + p2 + p3))"
      ]
     },
     "execution_count": 58,
     "metadata": {},
     "output_type": "execute_result"
    }
   ],
   "source": [
    "eq_pwp_xi2 = Eq(pwp(xi2,g2,g3), I*(p3 - p1 + p2))\n",
    "eq_pwp_xi2"
   ]
  },
  {
   "cell_type": "code",
   "execution_count": 59,
   "metadata": {},
   "outputs": [
    {
     "data": {
      "text/latex": [
       "$\\displaystyle \\operatorname{pwp}{\\left(\\xi_{3},g_{2},g_{3} \\right)} = i \\left(2 p_{1} + p_{2} - p_{3} + \\frac{1}{4}\\right)$"
      ],
      "text/plain": [
       "Eq(pwp(xi3, g2, g3), I*(2*p1 + p2 - p3 + 1/4))"
      ]
     },
     "execution_count": 59,
     "metadata": {},
     "output_type": "execute_result"
    }
   ],
   "source": [
    "eq_pwp_xi3 = Eq(pwp(xi3,g2,g3), I*(2*p1 + p2 - p3 + Rational(1,4)))\n",
    "eq_pwp_xi3"
   ]
  },
  {
   "cell_type": "markdown",
   "metadata": {},
   "source": [
    "Then, the solutions for the power in each mode can be written in terms of $\\xi_1,\\xi_2,\\xi_3$ as follows:"
   ]
  },
  {
   "cell_type": "code",
   "execution_count": 60,
   "metadata": {},
   "outputs": [
    {
     "data": {
      "text/latex": [
       "$\\displaystyle \\operatorname{A_{1}}{\\left(z \\right)} \\operatorname{Ac_{1}}{\\left(z \\right)} = \\frac{\\operatorname{pw}{\\left(\\xi_{1},g_{2},g_{3} \\right)}}{2} - \\frac{\\operatorname{pw}{\\left(z - z_{0},g_{2},g_{3} \\right)}}{2}$"
      ],
      "text/plain": [
       "Eq(A1(z)*Ac1(z), pw(xi1, g2, g3)/2 - pw(z - z0, g2, g3)/2)"
      ]
     },
     "execution_count": 60,
     "metadata": {},
     "output_type": "execute_result"
    }
   ],
   "source": [
    "eq_pow_1_pw = eq_pow_1_p.subs(*pvals_for_pw_subs[0])\n",
    "eq_pow_1_pw"
   ]
  },
  {
   "cell_type": "code",
   "execution_count": 61,
   "metadata": {},
   "outputs": [
    {
     "data": {
      "text/latex": [
       "$\\displaystyle \\operatorname{A_{2}}{\\left(z \\right)} \\operatorname{Ac_{2}}{\\left(z \\right)} = \\frac{\\operatorname{pw}{\\left(\\xi_{2},g_{2},g_{3} \\right)}}{2} - \\frac{\\operatorname{pw}{\\left(z - z_{0},g_{2},g_{3} \\right)}}{2}$"
      ],
      "text/plain": [
       "Eq(A2(z)*Ac2(z), pw(xi2, g2, g3)/2 - pw(z - z0, g2, g3)/2)"
      ]
     },
     "execution_count": 61,
     "metadata": {},
     "output_type": "execute_result"
    }
   ],
   "source": [
    "eq_pow_2_pw = eq_pow_2_p.subs(*pvals_for_pw_subs[1])\n",
    "eq_pow_2_pw"
   ]
  },
  {
   "cell_type": "code",
   "execution_count": 62,
   "metadata": {},
   "outputs": [
    {
     "data": {
      "text/latex": [
       "$\\displaystyle \\operatorname{A_{3}}{\\left(z \\right)} \\operatorname{Ac_{3}}{\\left(z \\right)} = - \\operatorname{pw}{\\left(\\xi_{3},g_{2},g_{3} \\right)} + \\operatorname{pw}{\\left(z - z_{0},g_{2},g_{3} \\right)}$"
      ],
      "text/plain": [
       "Eq(A3(z)*Ac3(z), -pw(xi3, g2, g3) + pw(z - z0, g2, g3))"
      ]
     },
     "execution_count": 62,
     "metadata": {},
     "output_type": "execute_result"
    }
   ],
   "source": [
    "eq_pow_3_pw = eq_pow_3_p.subs(*pvals_for_pw_subs[2])\n",
    "eq_pow_3_pw"
   ]
  },
  {
   "cell_type": "markdown",
   "metadata": {},
   "source": [
    "#### On the congruence of $\\xi_1,\\xi_2,\\xi_3$"
   ]
  },
  {
   "cell_type": "markdown",
   "metadata": {},
   "source": [
    "The following is an addition identity for the Weierstrass P function:\n",
    "https://dlmf.nist.gov/23.10"
   ]
  },
  {
   "cell_type": "code",
   "execution_count": 331,
   "metadata": {},
   "outputs": [
    {
     "data": {
      "text/latex": [
       "$\\displaystyle \\operatorname{pw}{\\left(x + y,g_{2},g_{3} \\right)} = - \\operatorname{pw}{\\left(x,g_{2},g_{3} \\right)} - \\operatorname{pw}{\\left(y,g_{2},g_{3} \\right)} + \\frac{\\left(\\operatorname{pwp}{\\left(x,g_{2},g_{3} \\right)} - \\operatorname{pwp}{\\left(y,g_{2},g_{3} \\right)}\\right)^{2}}{4 \\left(\\operatorname{pw}{\\left(x,g_{2},g_{3} \\right)} - \\operatorname{pw}{\\left(y,g_{2},g_{3} \\right)}\\right)^{2}}$"
      ],
      "text/plain": [
       "Eq(pw(x + y, g2, g3), -pw(x, g2, g3) - pw(y, g2, g3) + (pwp(x, g2, g3) - pwp(y, g2, g3))**2/(4*(pw(x, g2, g3) - pw(y, g2, g3))**2))"
      ]
     },
     "execution_count": 331,
     "metadata": {},
     "output_type": "execute_result"
    }
   ],
   "source": [
    "wp_add_id = Eq(pw(x+y, g2, g3),\n",
    "               (((pwp(x,g2,g3) - pwp(y,g2,g3))/(pw(x,g2,g3) - pw(y,g2,g3)))**2)/4 - pw(x, g2, g3) - pw(y, g2, g3))\n",
    "wp_add_id"
   ]
  },
  {
   "cell_type": "code",
   "execution_count": 333,
   "metadata": {},
   "outputs": [
    {
     "data": {
      "text/latex": [
       "$\\displaystyle - \\operatorname{pw}{\\left(\\xi_{3},g_{2},g_{3} \\right)} + \\operatorname{pw}{\\left(\\xi_{1} + \\xi_{2},g_{2},g_{3} \\right)} = - \\operatorname{pw}{\\left(\\xi_{1},g_{2},g_{3} \\right)} - \\operatorname{pw}{\\left(\\xi_{2},g_{2},g_{3} \\right)} - \\operatorname{pw}{\\left(\\xi_{3},g_{2},g_{3} \\right)} + \\frac{\\left(\\operatorname{pwp}{\\left(\\xi_{1},g_{2},g_{3} \\right)} - \\operatorname{pwp}{\\left(\\xi_{2},g_{2},g_{3} \\right)}\\right)^{2}}{4 \\left(\\operatorname{pw}{\\left(\\xi_{1},g_{2},g_{3} \\right)} - \\operatorname{pw}{\\left(\\xi_{2},g_{2},g_{3} \\right)}\\right)^{2}}$"
      ],
      "text/plain": [
       "Eq(-pw(xi3, g2, g3) + pw(xi1 + xi2, g2, g3), -pw(xi1, g2, g3) - pw(xi2, g2, g3) - pw(xi3, g2, g3) + (pwp(xi1, g2, g3) - pwp(xi2, g2, g3))**2/(4*(pw(xi1, g2, g3) - pw(xi2, g2, g3))**2))"
      ]
     },
     "execution_count": 333,
     "metadata": {},
     "output_type": "execute_result"
    }
   ],
   "source": [
    "xi_congruence_eq = wp_add_id.subs([(x,xi1),(y,xi2)])\n",
    "xi_congruence_eq = Eq(xi_congruence_eq.lhs - pw(xi3,g2,g3), xi_congruence_eq.rhs - pw(xi3,g2,g3))\n",
    "xi_congruence_eq"
   ]
  },
  {
   "cell_type": "code",
   "execution_count": 346,
   "metadata": {},
   "outputs": [
    {
     "data": {
      "text/latex": [
       "$\\displaystyle \\operatorname{pw}{\\left(\\xi_{3},g_{2},g_{3} \\right)} - \\operatorname{pw}{\\left(\\xi_{1} + \\xi_{2},g_{2},g_{3} \\right)} = 0$"
      ],
      "text/plain": [
       "Eq(pw(xi3, g2, g3) - pw(xi1 + xi2, g2, g3), 0)"
      ]
     },
     "execution_count": 346,
     "metadata": {},
     "output_type": "execute_result"
    }
   ],
   "source": [
    "xi_p_subs = [\n",
    "    (xi1_p1.lhs, xi1_p1.rhs), (xi2_p2.lhs, xi2_p2.rhs), (xi3_p1_p2.lhs, xi3_p1_p2.rhs),\n",
    "    (eq_pwp_xi1.lhs, eq_pwp_xi1.rhs), (eq_pwp_xi2.lhs, eq_pwp_xi2.rhs), (eq_pwp_xi3.lhs, eq_pwp_xi3.rhs)\n",
    "]\n",
    "Eq(xi_congruence_eq.lhs, xi_congruence_eq.rhs.subs(xi_p_subs)).simplify()"
   ]
  },
  {
   "cell_type": "markdown",
   "metadata": {},
   "source": [
    "Thus $\\xi_3$ is congruent to $\\xi_1 + \\xi_2$, that is, there exist integers n and m such that, for two independent half-periods $\\omega_1$ and $\\omega_3$:"
   ]
  },
  {
   "cell_type": "code",
   "execution_count": 365,
   "metadata": {},
   "outputs": [
    {
     "data": {
      "text/latex": [
       "$\\displaystyle 2 m \\omega_{3} + 2 n \\omega_{1} + \\xi_{3} = \\xi_{1} + \\xi_{2}$"
      ],
      "text/plain": [
       "Eq(2*m*omega3 + 2*n*omega1 + xi3, xi1 + xi2)"
      ]
     },
     "execution_count": 365,
     "metadata": {},
     "output_type": "execute_result"
    }
   ],
   "source": [
    "xi_3_congruence_eq = Eq(xi3 + 2*n*omega1 + 2*m*omega3, xi2 + xi1)\n",
    "xi_3_congruence_eq"
   ]
  },
  {
   "cell_type": "markdown",
   "metadata": {},
   "source": [
    "The following two variable identity is given as an unproven example in Example 2 p444 of Whittaker and Watson, A course of Modern Analysis, 2nd Edition:"
   ]
  },
  {
   "cell_type": "code",
   "execution_count": 351,
   "metadata": {},
   "outputs": [
    {
     "data": {
      "text/latex": [
       "$\\displaystyle \\frac{\\operatorname{pwp}{\\left(x,g_{2},g_{3} \\right)} - \\operatorname{pwp}{\\left(y,g_{2},g_{3} \\right)}}{2 \\left(\\operatorname{pw}{\\left(x,g_{2},g_{3} \\right)} - \\operatorname{pw}{\\left(y,g_{2},g_{3} \\right)}\\right)} = - \\operatorname{zw}{\\left(x,g_{2},g_{3} \\right)} - \\operatorname{zw}{\\left(y,g_{2},g_{3} \\right)} + \\operatorname{zw}{\\left(x + y,g_{2},g_{3} \\right)}$"
      ],
      "text/plain": [
       "Eq((pwp(x, g2, g3) - pwp(y, g2, g3))/(2*(pw(x, g2, g3) - pw(y, g2, g3))), -zw(x, g2, g3) - zw(y, g2, g3) + zw(x + y, g2, g3))"
      ]
     },
     "execution_count": 351,
     "metadata": {},
     "output_type": "execute_result"
    }
   ],
   "source": [
    "pw_to_zw_identity = Eq(\n",
    "    (pwp(x,g2,g3) - pwp(y,g2,g3))/(pw(x,g2,g3) - pw(y,g2,g3))/2,\n",
    "    zw(x + y,g2, g3) - zw(x,g2, g3) - zw(y,g2, g3)\n",
    ")\n",
    "pw_to_zw_identity"
   ]
  },
  {
   "cell_type": "markdown",
   "metadata": {},
   "source": [
    "from which it is shown that:"
   ]
  },
  {
   "cell_type": "code",
   "execution_count": 369,
   "metadata": {},
   "outputs": [
    {
     "data": {
      "text/latex": [
       "$\\displaystyle \\operatorname{zw}{\\left(\\xi_{1},g_{2},g_{3} \\right)} + \\operatorname{zw}{\\left(\\xi_{2},g_{2},g_{3} \\right)} - \\operatorname{zw}{\\left(\\xi_{1} + \\xi_{2},g_{2},g_{3} \\right)} = - \\frac{i}{2}$"
      ],
      "text/plain": [
       "Eq(zw(xi1, g2, g3) + zw(xi2, g2, g3) - zw(xi1 + xi2, g2, g3), -I/2)"
      ]
     },
     "execution_count": 369,
     "metadata": {},
     "output_type": "execute_result"
    }
   ],
   "source": [
    "zw_xi1_xi2_eq = pw_to_zw_identity.subs([(x,xi1),(y,xi2)]).subs(xi_p_subs).simplify()\n",
    "zw_xi1_xi2_eq"
   ]
  },
  {
   "cell_type": "markdown",
   "metadata": {},
   "source": [
    "Using the known quasi periodicity of the Weierstrass Zeta function:"
   ]
  },
  {
   "cell_type": "code",
   "execution_count": 359,
   "metadata": {},
   "outputs": [
    {
     "data": {
      "text/latex": [
       "$\\displaystyle \\operatorname{zw}{\\left(2 n \\omega_{1} + z,g_{2},g_{3} \\right)} = 2 \\eta_{1} n + \\operatorname{zw}{\\left(z,g_{2},g_{3} \\right)}$"
      ],
      "text/plain": [
       "Eq(zw(2*n*omega1 + z, g2, g3), 2*eta1*n + zw(z, g2, g3))"
      ]
     },
     "execution_count": 359,
     "metadata": {},
     "output_type": "execute_result"
    }
   ],
   "source": [
    "Eq(zw(z + 2*omega1*n,g2,g3),zw(z,g2,g3) + 2*n*eta1)"
   ]
  },
  {
   "cell_type": "code",
   "execution_count": 360,
   "metadata": {},
   "outputs": [
    {
     "data": {
      "text/latex": [
       "$\\displaystyle \\operatorname{zw}{\\left(2 m \\omega_{3} + z,g_{2},g_{3} \\right)} = 2 \\eta_{3} m + \\operatorname{zw}{\\left(z,g_{2},g_{3} \\right)}$"
      ],
      "text/plain": [
       "Eq(zw(2*m*omega3 + z, g2, g3), 2*eta3*m + zw(z, g2, g3))"
      ]
     },
     "execution_count": 360,
     "metadata": {},
     "output_type": "execute_result"
    }
   ],
   "source": [
    "Eq(zw(z + 2*omega3*m,g2,g3),zw(z,g2,g3) + 2*m*eta3)"
   ]
  },
  {
   "cell_type": "code",
   "execution_count": 367,
   "metadata": {},
   "outputs": [
    {
     "data": {
      "text/latex": [
       "$\\displaystyle \\operatorname{zw}{\\left(2 m \\omega_{3} + 2 n \\omega_{1} + z,g_{2},g_{3} \\right)} = 2 \\eta_{1} n + 2 \\eta_{3} m + \\operatorname{zw}{\\left(z,g_{2},g_{3} \\right)}$"
      ],
      "text/plain": [
       "Eq(zw(2*m*omega3 + 2*n*omega1 + z, g2, g3), 2*eta1*n + 2*eta3*m + zw(z, g2, g3))"
      ]
     },
     "execution_count": 367,
     "metadata": {},
     "output_type": "execute_result"
    }
   ],
   "source": [
    "zw_quasi_eq = Eq(zw(z + 2*omega1*n+ 2*omega3*m,g2,g3), zw(z,g2,g3) + 2*n*eta1 + 2*m*eta3)\n",
    "zw_quasi_eq"
   ]
  },
  {
   "cell_type": "code",
   "execution_count": 373,
   "metadata": {},
   "outputs": [
    {
     "data": {
      "text/latex": [
       "$\\displaystyle \\operatorname{zw}{\\left(\\xi_{1} + \\xi_{2},g_{2},g_{3} \\right)} = 2 \\eta_{1} n + 2 \\eta_{3} m + \\operatorname{zw}{\\left(\\xi_{3},g_{2},g_{3} \\right)}$"
      ],
      "text/plain": [
       "Eq(zw(xi1 + xi2, g2, g3), 2*eta1*n + 2*eta3*m + zw(xi3, g2, g3))"
      ]
     },
     "execution_count": 373,
     "metadata": {},
     "output_type": "execute_result"
    }
   ],
   "source": [
    "zw_xi1_xi2_xi3_a = zw_quasi_eq.subs(z,xi3).subs(xi_3_congruence_eq.lhs, xi_3_congruence_eq.rhs)\n",
    "zw_xi1_xi2_xi3_a"
   ]
  },
  {
   "cell_type": "code",
   "execution_count": 376,
   "metadata": {},
   "outputs": [
    {
     "data": {
      "text/latex": [
       "$\\displaystyle - 2 \\eta_{1} n - 2 \\eta_{3} m + \\operatorname{zw}{\\left(\\xi_{1},g_{2},g_{3} \\right)} + \\operatorname{zw}{\\left(\\xi_{2},g_{2},g_{3} \\right)} - \\operatorname{zw}{\\left(\\xi_{3},g_{2},g_{3} \\right)} = - \\frac{i}{2}$"
      ],
      "text/plain": [
       "Eq(-2*eta1*n - 2*eta3*m + zw(xi1, g2, g3) + zw(xi2, g2, g3) - zw(xi3, g2, g3), -I/2)"
      ]
     },
     "execution_count": 376,
     "metadata": {},
     "output_type": "execute_result"
    }
   ],
   "source": [
    "zw_xi1_xi2_xi3_eq = zw_xi1_xi2_eq.subs(zw_xi1_xi2_xi3_a.lhs, zw_xi1_xi2_xi3_a.rhs)\n",
    "zw_xi1_xi2_xi3_eq"
   ]
  },
  {
   "cell_type": "markdown",
   "metadata": {},
   "source": [
    "where:"
   ]
  },
  {
   "cell_type": "code",
   "execution_count": 361,
   "metadata": {},
   "outputs": [
    {
     "data": {
      "text/latex": [
       "$\\displaystyle \\eta_{1} = \\operatorname{zw}{\\left(\\omega_{1},g_{2},g_{3} \\right)}$"
      ],
      "text/plain": [
       "Eq(eta1, zw(omega1, g2, g3))"
      ]
     },
     "execution_count": 361,
     "metadata": {},
     "output_type": "execute_result"
    }
   ],
   "source": [
    "Eq(eta1, zw(omega1, g2, g3))"
   ]
  },
  {
   "cell_type": "code",
   "execution_count": 362,
   "metadata": {},
   "outputs": [
    {
     "data": {
      "text/latex": [
       "$\\displaystyle \\eta_{3} = \\operatorname{zw}{\\left(\\omega_{3},g_{2},g_{3} \\right)}$"
      ],
      "text/plain": [
       "Eq(eta3, zw(omega3, g2, g3))"
      ]
     },
     "execution_count": 362,
     "metadata": {},
     "output_type": "execute_result"
    }
   ],
   "source": [
    "Eq(eta3, zw(omega3, g2, g3))"
   ]
  },
  {
   "cell_type": "markdown",
   "metadata": {},
   "source": [
    "### Logarithmic derivative identities for complex functions"
   ]
  },
  {
   "cell_type": "code",
   "execution_count": 63,
   "metadata": {},
   "outputs": [
    {
     "data": {
      "text/latex": [
       "$\\displaystyle A{\\left(z \\right)} = e^{i \\phi{\\left(z \\right)}} \\left|{A{\\left(z \\right)}}\\right|$"
      ],
      "text/plain": [
       "Eq(A(z), exp(I*phi(z))*Abs(A(z)))"
      ]
     },
     "execution_count": 63,
     "metadata": {},
     "output_type": "execute_result"
    }
   ],
   "source": [
    "Eq(A(z),abs(A(z))*exp(I*phi(z)))"
   ]
  },
  {
   "cell_type": "code",
   "execution_count": 64,
   "metadata": {},
   "outputs": [
    {
     "data": {
      "text/latex": [
       "$\\displaystyle \\frac{d}{d z} \\log{\\left(\\frac{A{\\left(z \\right)}}{\\operatorname{Ac}{\\left(z \\right)}} \\right)} = \\frac{d}{d z} \\log{\\left(e^{2 i \\phi{\\left(z \\right)}} \\right)}$"
      ],
      "text/plain": [
       "Eq(Derivative(log(A(z)/Ac(z)), z), Derivative(log(exp(2*I*phi(z))), z))"
      ]
     },
     "execution_count": 64,
     "metadata": {},
     "output_type": "execute_result"
    }
   ],
   "source": [
    "Eq(Derivative(log(A(z)/Ac(z)),z), Derivative(log(exp(I*2*phi(z))),z))"
   ]
  },
  {
   "cell_type": "code",
   "execution_count": 65,
   "metadata": {},
   "outputs": [
    {
     "data": {
      "text/latex": [
       "$\\displaystyle \\frac{\\operatorname{Ac}{\\left(z \\right)} \\frac{d}{d z} \\frac{A{\\left(z \\right)}}{\\operatorname{Ac}{\\left(z \\right)}}}{A{\\left(z \\right)}} = 2 i \\frac{d}{d z} \\phi{\\left(z \\right)}$"
      ],
      "text/plain": [
       "Eq(Ac(z)*Derivative(A(z)/Ac(z), z)/A(z), 2*I*Derivative(phi(z), z))"
      ]
     },
     "execution_count": 65,
     "metadata": {},
     "output_type": "execute_result"
    }
   ],
   "source": [
    "Eq(Derivative(A(z)/Ac(z),z)/(A(z)/Ac(z)), I*2*Derivative(phi(z),z))"
   ]
  },
  {
   "cell_type": "code",
   "execution_count": 66,
   "metadata": {},
   "outputs": [
    {
     "data": {
      "text/latex": [
       "$\\displaystyle 2 A{\\left(z \\right)} \\operatorname{Ac}{\\left(z \\right)} \\frac{d}{d z} \\phi{\\left(z \\right)} = i \\left(A{\\left(z \\right)} \\frac{d}{d z} \\operatorname{Ac}{\\left(z \\right)} - \\operatorname{Ac}{\\left(z \\right)} \\frac{d}{d z} A{\\left(z \\right)}\\right)$"
      ],
      "text/plain": [
       "Eq(2*A(z)*Ac(z)*Derivative(phi(z), z), I*(A(z)*Derivative(Ac(z), z) - Ac(z)*Derivative(A(z), z)))"
      ]
     },
     "execution_count": 66,
     "metadata": {},
     "output_type": "execute_result"
    }
   ],
   "source": [
    "phase_to_modes_diff = Eq(\n",
    "    I*Derivative(Ac(z)/A(z),z)/(Ac(z)/A(z))*A(z)*Ac(z),\n",
    "    2*Derivative(phi(z),z)*A(z)*Ac(z)\n",
    ").doit().simplify()\n",
    "phase_to_modes_diff"
   ]
  },
  {
   "cell_type": "code",
   "execution_count": 67,
   "metadata": {},
   "outputs": [
    {
     "data": {
      "text/latex": [
       "$\\displaystyle \\frac{d}{d z} \\log{\\left(A{\\left(z \\right)} \\right)} = \\frac{d}{d z} \\log{\\left(e^{i \\phi{\\left(z \\right)}} \\right)} + \\frac{\\frac{d}{d z} \\log{\\left(\\left|{A{\\left(z \\right)}}\\right|^{2} \\right)}}{2}$"
      ],
      "text/plain": [
       "Eq(Derivative(log(A(z)), z), Derivative(log(exp(I*phi(z))), z) + Derivative(log(Abs(A(z))**2), z)/2)"
      ]
     },
     "execution_count": 67,
     "metadata": {},
     "output_type": "execute_result"
    }
   ],
   "source": [
    "Eq(Derivative(log(A(z)),z),Derivative(log(abs(A(z))**2),z)*Rational(1,2) + Derivative(log(exp(I*phi(z))),z))"
   ]
  },
  {
   "cell_type": "code",
   "execution_count": 68,
   "metadata": {
    "scrolled": true
   },
   "outputs": [
    {
     "data": {
      "text/latex": [
       "$\\displaystyle \\frac{\\frac{d}{d z} A{\\left(z \\right)}}{A{\\left(z \\right)}} = i \\frac{d}{d z} \\phi{\\left(z \\right)} + \\frac{\\frac{d}{d z} \\left|{A{\\left(z \\right)}}\\right|^{2}}{2 \\left|{A{\\left(z \\right)}}\\right|^{2}}$"
      ],
      "text/plain": [
       "Eq(Derivative(A(z), z)/A(z), I*Derivative(phi(z), z) + Derivative(Abs(A(z))**2, z)/(2*Abs(A(z))**2))"
      ]
     },
     "execution_count": 68,
     "metadata": {},
     "output_type": "execute_result"
    }
   ],
   "source": [
    "log_diff_in_phi_A = Eq(Derivative(A(z),z)/A(z),Derivative(abs(A(z))**2,z)/(2*abs(A(z))**2) + I*Derivative(phi(z),z))\n",
    "log_diff_in_phi_A"
   ]
  },
  {
   "cell_type": "markdown",
   "metadata": {},
   "source": [
    "### The differential equations for the modal phase"
   ]
  },
  {
   "cell_type": "markdown",
   "metadata": {},
   "source": [
    "The terms in K that are products of 3 fields can be written in terms of the derivatve in each field and its complex conjuagte:"
   ]
  },
  {
   "cell_type": "code",
   "execution_count": 69,
   "metadata": {},
   "outputs": [],
   "source": [
    "K_3_term_part = A1(z)*A2(z)*Ac3(z) + Ac1(z)*Ac2(z)*A3(z)\n",
    "A_diff_subs = [\n",
    "    (diff(A1(z),z),A1p),(diff(Ac1(z),z),Ac1p),\n",
    "    (diff(A2(z),z),A2p),(diff(Ac2(z),z),Ac2p),\n",
    "    (diff(A3(z),z),A3p),(diff(Ac3(z),z),Ac3p)\n",
    "]\n",
    "eq_conj_diff_1 = -I*Ac1(z)*diff(A1(z),z) + I*A1(z)*diff(Ac1(z),z) - 2*A1(z)*Ac1(z)\n",
    "eq_conj_diff_2 = eq_conj_diff_1.subs([(A1(z),A2(z)),(Ac1(z),Ac2(z))])\n",
    "eq_conj_diff_3 = eq_conj_diff_1.subs([(A1(z),A3(z)),(Ac1(z),Ac3(z))])"
   ]
  },
  {
   "cell_type": "code",
   "execution_count": 70,
   "metadata": {},
   "outputs": [
    {
     "data": {
      "text/latex": [
       "$\\displaystyle - 2 \\operatorname{A_{1}}{\\left(z \\right)} \\operatorname{Ac_{1}}{\\left(z \\right)} + i \\operatorname{A_{1}}{\\left(z \\right)} \\frac{d}{d z} \\operatorname{Ac_{1}}{\\left(z \\right)} - i \\operatorname{Ac_{1}}{\\left(z \\right)} \\frac{d}{d z} \\operatorname{A_{1}}{\\left(z \\right)} = \\operatorname{A_{1}}{\\left(z \\right)} \\operatorname{A_{2}}{\\left(z \\right)} \\operatorname{Ac_{3}}{\\left(z \\right)} + \\operatorname{A_{3}}{\\left(z \\right)} \\operatorname{Ac_{1}}{\\left(z \\right)} \\operatorname{Ac_{2}}{\\left(z \\right)}$"
      ],
      "text/plain": [
       "Eq(-2*A1(z)*Ac1(z) + I*A1(z)*Derivative(Ac1(z), z) - I*Ac1(z)*Derivative(A1(z), z), A1(z)*A2(z)*Ac3(z) + A3(z)*Ac1(z)*Ac2(z))"
      ]
     },
     "execution_count": 70,
     "metadata": {},
     "output_type": "execute_result"
    }
   ],
   "source": [
    "eq_K_3_term_part_1 = Eq(eq_conj_diff_1, eq_conj_diff_1.subs(A_diff_subs)).expand()\n",
    "eq_K_3_term_part_1"
   ]
  },
  {
   "cell_type": "code",
   "execution_count": 71,
   "metadata": {},
   "outputs": [
    {
     "data": {
      "text/latex": [
       "$\\displaystyle - 2 \\operatorname{A_{2}}{\\left(z \\right)} \\operatorname{Ac_{2}}{\\left(z \\right)} + i \\operatorname{A_{2}}{\\left(z \\right)} \\frac{d}{d z} \\operatorname{Ac_{2}}{\\left(z \\right)} - i \\operatorname{Ac_{2}}{\\left(z \\right)} \\frac{d}{d z} \\operatorname{A_{2}}{\\left(z \\right)} = \\operatorname{A_{1}}{\\left(z \\right)} \\operatorname{A_{2}}{\\left(z \\right)} \\operatorname{Ac_{3}}{\\left(z \\right)} + \\operatorname{A_{3}}{\\left(z \\right)} \\operatorname{Ac_{1}}{\\left(z \\right)} \\operatorname{Ac_{2}}{\\left(z \\right)}$"
      ],
      "text/plain": [
       "Eq(-2*A2(z)*Ac2(z) + I*A2(z)*Derivative(Ac2(z), z) - I*Ac2(z)*Derivative(A2(z), z), A1(z)*A2(z)*Ac3(z) + A3(z)*Ac1(z)*Ac2(z))"
      ]
     },
     "execution_count": 71,
     "metadata": {},
     "output_type": "execute_result"
    }
   ],
   "source": [
    "eq_K_3_term_part_2 = Eq(eq_conj_diff_2, eq_conj_diff_2.subs(A_diff_subs)).expand()\n",
    "eq_K_3_term_part_2"
   ]
  },
  {
   "cell_type": "code",
   "execution_count": 72,
   "metadata": {},
   "outputs": [
    {
     "data": {
      "text/latex": [
       "$\\displaystyle - 2 \\operatorname{A_{3}}{\\left(z \\right)} \\operatorname{Ac_{3}}{\\left(z \\right)} + i \\operatorname{A_{3}}{\\left(z \\right)} \\frac{d}{d z} \\operatorname{Ac_{3}}{\\left(z \\right)} - i \\operatorname{Ac_{3}}{\\left(z \\right)} \\frac{d}{d z} \\operatorname{A_{3}}{\\left(z \\right)} = 2 \\operatorname{A_{1}}{\\left(z \\right)} \\operatorname{A_{2}}{\\left(z \\right)} \\operatorname{Ac_{3}}{\\left(z \\right)} + 2 \\operatorname{A_{3}}{\\left(z \\right)} \\operatorname{Ac_{1}}{\\left(z \\right)} \\operatorname{Ac_{2}}{\\left(z \\right)}$"
      ],
      "text/plain": [
       "Eq(-2*A3(z)*Ac3(z) + I*A3(z)*Derivative(Ac3(z), z) - I*Ac3(z)*Derivative(A3(z), z), 2*A1(z)*A2(z)*Ac3(z) + 2*A3(z)*Ac1(z)*Ac2(z))"
      ]
     },
     "execution_count": 72,
     "metadata": {},
     "output_type": "execute_result"
    }
   ],
   "source": [
    "eq_K_3_term_part_3 = Eq(eq_conj_diff_3, eq_conj_diff_3.subs(A_diff_subs)).expand()\n",
    "eq_K_3_term_part_3"
   ]
  },
  {
   "cell_type": "markdown",
   "metadata": {},
   "source": [
    "The expressions for the 3 mode terms in K in terms of the derivative of each mode and its conjugate are the starting point for deriving the differnetial equations for the phases $\\phi_1, \\phi_2, \\phi_3$ of each mode:"
   ]
  },
  {
   "cell_type": "code",
   "execution_count": 73,
   "metadata": {},
   "outputs": [
    {
     "data": {
      "text/latex": [
       "$\\displaystyle - 2 \\operatorname{A_{1}}{\\left(z \\right)} \\operatorname{Ac_{1}}{\\left(z \\right)} + i \\operatorname{A_{1}}{\\left(z \\right)} \\frac{d}{d z} \\operatorname{Ac_{1}}{\\left(z \\right)} - i \\operatorname{Ac_{1}}{\\left(z \\right)} \\frac{d}{d z} \\operatorname{A_{1}}{\\left(z \\right)} = \\operatorname{A_{1}}{\\left(z \\right)} \\operatorname{A_{2}}{\\left(z \\right)} \\operatorname{Ac_{3}}{\\left(z \\right)} + \\operatorname{A_{3}}{\\left(z \\right)} \\operatorname{Ac_{1}}{\\left(z \\right)} \\operatorname{Ac_{2}}{\\left(z \\right)}$"
      ],
      "text/plain": [
       "Eq(-2*A1(z)*Ac1(z) + I*A1(z)*Derivative(Ac1(z), z) - I*Ac1(z)*Derivative(A1(z), z), A1(z)*A2(z)*Ac3(z) + A3(z)*Ac1(z)*Ac2(z))"
      ]
     },
     "execution_count": 73,
     "metadata": {},
     "output_type": "execute_result"
    }
   ],
   "source": [
    "eq_K_3_term_part_1"
   ]
  },
  {
   "cell_type": "markdown",
   "metadata": {},
   "source": [
    "Then using the general identity:"
   ]
  },
  {
   "cell_type": "code",
   "execution_count": 74,
   "metadata": {},
   "outputs": [
    {
     "data": {
      "text/latex": [
       "$\\displaystyle 2 A{\\left(z \\right)} \\operatorname{Ac}{\\left(z \\right)} \\frac{d}{d z} \\phi{\\left(z \\right)} = i \\left(A{\\left(z \\right)} \\frac{d}{d z} \\operatorname{Ac}{\\left(z \\right)} - \\operatorname{Ac}{\\left(z \\right)} \\frac{d}{d z} A{\\left(z \\right)}\\right)$"
      ],
      "text/plain": [
       "Eq(2*A(z)*Ac(z)*Derivative(phi(z), z), I*(A(z)*Derivative(Ac(z), z) - Ac(z)*Derivative(A(z), z)))"
      ]
     },
     "execution_count": 74,
     "metadata": {},
     "output_type": "execute_result"
    }
   ],
   "source": [
    "phase_to_modes_diff"
   ]
  },
  {
   "cell_type": "code",
   "execution_count": 75,
   "metadata": {},
   "outputs": [
    {
     "data": {
      "text/latex": [
       "$\\displaystyle 2 \\operatorname{A_{1}}{\\left(z \\right)} \\operatorname{Ac_{1}}{\\left(z \\right)} \\frac{d}{d z} \\phi_{1}{\\left(z \\right)} - 2 \\operatorname{A_{1}}{\\left(z \\right)} \\operatorname{Ac_{1}}{\\left(z \\right)} = K - \\frac{P}{2} + \\frac{Q}{2} - \\operatorname{A_{1}}{\\left(z \\right)} \\operatorname{Ac_{1}}{\\left(z \\right)}$"
      ],
      "text/plain": [
       "Eq(2*A1(z)*Ac1(z)*Derivative(phi1(z), z) - 2*A1(z)*Ac1(z), K - P/2 + Q/2 - A1(z)*Ac1(z))"
      ]
     },
     "execution_count": 75,
     "metadata": {},
     "output_type": "execute_result"
    }
   ],
   "source": [
    "phi1_to_K = Eq(\n",
    "    eq_K_3_term_part_1.lhs + \n",
    "    (phase_to_modes_diff.lhs - phase_to_modes_diff.rhs).subs([(A(z),A1(z)),(Ac(z),Ac1(z)),(phi(z),phi1(z))]),\n",
    "    eq_K_3_term_part_1.rhs - Kval + K - (Qval - Q)*Rational(1,2) + (Pval - P)*Rational(1,2)\n",
    ").expand()\n",
    "phi1_to_K"
   ]
  },
  {
   "cell_type": "code",
   "execution_count": 76,
   "metadata": {},
   "outputs": [
    {
     "data": {
      "text/latex": [
       "$\\displaystyle \\frac{d}{d z} \\phi_{1}{\\left(z \\right)} = \\frac{2 K - P + Q + 2 \\operatorname{A_{1}}{\\left(z \\right)} \\operatorname{Ac_{1}}{\\left(z \\right)}}{4 \\operatorname{A_{1}}{\\left(z \\right)} \\operatorname{Ac_{1}}{\\left(z \\right)}}$"
      ],
      "text/plain": [
       "Eq(Derivative(phi1(z), z), (2*K - P + Q + 2*A1(z)*Ac1(z))/(4*A1(z)*Ac1(z)))"
      ]
     },
     "execution_count": 76,
     "metadata": {},
     "output_type": "execute_result"
    }
   ],
   "source": [
    "phi1_to_A1 = Eq(Derivative(phi1(z),z), solve(phi1_to_K,Derivative(phi1(z),z))[0])\n",
    "phi1_to_A1"
   ]
  },
  {
   "cell_type": "code",
   "execution_count": 77,
   "metadata": {},
   "outputs": [
    {
     "data": {
      "text/latex": [
       "$\\displaystyle 2 \\operatorname{A_{2}}{\\left(z \\right)} \\operatorname{Ac_{2}}{\\left(z \\right)} \\frac{d}{d z} \\phi_{2}{\\left(z \\right)} - 2 \\operatorname{A_{2}}{\\left(z \\right)} \\operatorname{Ac_{2}}{\\left(z \\right)} = K - \\frac{P}{2} - \\frac{Q}{2} - \\operatorname{A_{2}}{\\left(z \\right)} \\operatorname{Ac_{2}}{\\left(z \\right)}$"
      ],
      "text/plain": [
       "Eq(2*A2(z)*Ac2(z)*Derivative(phi2(z), z) - 2*A2(z)*Ac2(z), K - P/2 - Q/2 - A2(z)*Ac2(z))"
      ]
     },
     "execution_count": 77,
     "metadata": {},
     "output_type": "execute_result"
    }
   ],
   "source": [
    "phi2_to_K = Eq(\n",
    "    eq_K_3_term_part_2.lhs + \n",
    "    (phase_to_modes_diff.lhs - phase_to_modes_diff.rhs).subs([(A(z),A2(z)),(Ac(z),Ac2(z)),(phi(z),phi2(z))]),\n",
    "    eq_K_3_term_part_2.rhs - Kval + K + (Qval - Q)*Rational(1,2) + (Pval - P)*Rational(1,2)\n",
    ").expand()\n",
    "phi2_to_K"
   ]
  },
  {
   "cell_type": "code",
   "execution_count": 78,
   "metadata": {},
   "outputs": [
    {
     "data": {
      "text/latex": [
       "$\\displaystyle \\frac{d}{d z} \\phi_{2}{\\left(z \\right)} = \\frac{2 K - P - Q + 2 \\operatorname{A_{2}}{\\left(z \\right)} \\operatorname{Ac_{2}}{\\left(z \\right)}}{4 \\operatorname{A_{2}}{\\left(z \\right)} \\operatorname{Ac_{2}}{\\left(z \\right)}}$"
      ],
      "text/plain": [
       "Eq(Derivative(phi2(z), z), (2*K - P - Q + 2*A2(z)*Ac2(z))/(4*A2(z)*Ac2(z)))"
      ]
     },
     "execution_count": 78,
     "metadata": {},
     "output_type": "execute_result"
    }
   ],
   "source": [
    "phi2_to_A2 = Eq(Derivative(phi2(z),z), solve(phi2_to_K,Derivative(phi2(z),z))[0])\n",
    "phi2_to_A2"
   ]
  },
  {
   "cell_type": "code",
   "execution_count": 79,
   "metadata": {},
   "outputs": [
    {
     "data": {
      "text/latex": [
       "$\\displaystyle 2 \\operatorname{A_{3}}{\\left(z \\right)} \\operatorname{Ac_{3}}{\\left(z \\right)} \\frac{d}{d z} \\phi_{3}{\\left(z \\right)} - 2 \\operatorname{A_{3}}{\\left(z \\right)} \\operatorname{Ac_{3}}{\\left(z \\right)} = 2 K - 2 P + \\operatorname{A_{3}}{\\left(z \\right)} \\operatorname{Ac_{3}}{\\left(z \\right)}$"
      ],
      "text/plain": [
       "Eq(2*A3(z)*Ac3(z)*Derivative(phi3(z), z) - 2*A3(z)*Ac3(z), 2*K - 2*P + A3(z)*Ac3(z))"
      ]
     },
     "execution_count": 79,
     "metadata": {},
     "output_type": "execute_result"
    }
   ],
   "source": [
    "phi3_to_K = Eq(\n",
    "    eq_K_3_term_part_3.lhs + \n",
    "    (phase_to_modes_diff.lhs - phase_to_modes_diff.rhs).subs([(A(z),A3(z)),(Ac(z),Ac3(z)),(phi(z),phi3(z))]),\n",
    "    eq_K_3_term_part_3.rhs  - 2*Kval + 2*K + 2*(Pval - P)\n",
    ").expand()\n",
    "phi3_to_K"
   ]
  },
  {
   "cell_type": "code",
   "execution_count": 80,
   "metadata": {},
   "outputs": [
    {
     "data": {
      "text/latex": [
       "$\\displaystyle \\frac{d}{d z} \\phi_{3}{\\left(z \\right)} = \\frac{K - P + \\frac{3 \\operatorname{A_{3}}{\\left(z \\right)} \\operatorname{Ac_{3}}{\\left(z \\right)}}{2}}{\\operatorname{A_{3}}{\\left(z \\right)} \\operatorname{Ac_{3}}{\\left(z \\right)}}$"
      ],
      "text/plain": [
       "Eq(Derivative(phi3(z), z), (K - P + 3*A3(z)*Ac3(z)/2)/(A3(z)*Ac3(z)))"
      ]
     },
     "execution_count": 80,
     "metadata": {},
     "output_type": "execute_result"
    }
   ],
   "source": [
    "phi3_to_A3 = Eq(Derivative(phi3(z),z), solve(phi3_to_K, Derivative(phi3(z),z))[0])\n",
    "phi3_to_A3"
   ]
  },
  {
   "cell_type": "code",
   "execution_count": 81,
   "metadata": {},
   "outputs": [
    {
     "data": {
      "text/latex": [
       "$\\displaystyle \\frac{d}{d z} \\phi_{1}{\\left(z \\right)} = \\frac{p_{3}}{2 \\left(p_{1} - \\operatorname{pw}{\\left(z - z_{0},g_{2},g_{3} \\right)}\\right)} + \\frac{1}{2}$"
      ],
      "text/plain": [
       "Eq(Derivative(phi1(z), z), p3/(2*(p1 - pw(z - z0, g2, g3))) + 1/2)"
      ]
     },
     "execution_count": 81,
     "metadata": {},
     "output_type": "execute_result"
    }
   ],
   "source": [
    "phi1_to_pw = phi1_to_A1.subs([(eq_pow_1_p.lhs, eq_pow_1_p.rhs)]).subs(PQK_sub_vals)\n",
    "phi1_to_pw = Eq(phi1_to_pw.lhs, (phi1_to_pw.rhs - Rational(1,2)).simplify() + Rational(1,2))\n",
    "phi1_to_pw"
   ]
  },
  {
   "cell_type": "code",
   "execution_count": 82,
   "metadata": {},
   "outputs": [
    {
     "data": {
      "text/latex": [
       "$\\displaystyle \\frac{d}{d z} \\phi_{2}{\\left(z \\right)} = \\frac{1}{2} + \\frac{- p_{1} + p_{2} + p_{3}}{2 \\left(p_{2} - \\operatorname{pw}{\\left(z - z_{0},g_{2},g_{3} \\right)}\\right)}$"
      ],
      "text/plain": [
       "Eq(Derivative(phi2(z), z), 1/2 + (-p1 + p2 + p3)/(2*(p2 - pw(z - z0, g2, g3))))"
      ]
     },
     "execution_count": 82,
     "metadata": {},
     "output_type": "execute_result"
    }
   ],
   "source": [
    "phi2_to_pw = phi2_to_A2.subs([(eq_pow_2_p.lhs, eq_pow_2_p.rhs)]).subs(PQK_sub_vals)\n",
    "phi2_to_pw = Eq(phi2_to_pw.lhs, (phi2_to_pw.rhs - Rational(1,2)).simplify() + Rational(1,2))\n",
    "phi2_to_pw"
   ]
  },
  {
   "cell_type": "code",
   "execution_count": 83,
   "metadata": {},
   "outputs": [
    {
     "data": {
      "text/latex": [
       "$\\displaystyle \\frac{d}{d z} \\phi_{3}{\\left(z \\right)} = \\frac{- 8 p_{1} - 4 p_{2} + 4 p_{3} - 1}{2 \\left(4 p_{1} + 4 p_{2} + 4 \\operatorname{pw}{\\left(z - z_{0},g_{2},g_{3} \\right)} + 1\\right)} + \\frac{3}{2}$"
      ],
      "text/plain": [
       "Eq(Derivative(phi3(z), z), (-8*p1 - 4*p2 + 4*p3 - 1)/(2*(4*p1 + 4*p2 + 4*pw(z - z0, g2, g3) + 1)) + 3/2)"
      ]
     },
     "execution_count": 83,
     "metadata": {},
     "output_type": "execute_result"
    }
   ],
   "source": [
    "phi3_to_pw = phi3_to_A3.subs([(eq_pow_3_p.lhs, eq_pow_3_p.rhs)]).subs(PQK_sub_vals)\n",
    "phi3_to_pw = Eq(phi3_to_pw.lhs, (phi3_to_pw.rhs - Rational(3,2)).simplify() + Rational(3,2))\n",
    "phi3_to_pw"
   ]
  },
  {
   "cell_type": "markdown",
   "metadata": {},
   "source": [
    "Finally arriving at differential equations for the phases in terms of Weierstrass P and Weierstrass P Prime functions. These will be used in subsequent section to solve for the mode functions."
   ]
  },
  {
   "cell_type": "code",
   "execution_count": 84,
   "metadata": {},
   "outputs": [
    {
     "data": {
      "text/latex": [
       "$\\displaystyle \\frac{d}{d z} \\phi_{1}{\\left(z \\right)} = \\frac{1}{2} - \\frac{i \\operatorname{pwp}{\\left(\\xi_{1},g_{2},g_{3} \\right)}}{2 \\left(\\operatorname{pw}{\\left(\\xi_{1},g_{2},g_{3} \\right)} - \\operatorname{pw}{\\left(z - z_{0},g_{2},g_{3} \\right)}\\right)}$"
      ],
      "text/plain": [
       "Eq(Derivative(phi1(z), z), 1/2 - I*pwp(xi1, g2, g3)/(2*(pw(xi1, g2, g3) - pw(z - z0, g2, g3))))"
      ]
     },
     "execution_count": 84,
     "metadata": {},
     "output_type": "execute_result"
    }
   ],
   "source": [
    "phi1_to_pw_xi =phi1_to_pw.subs([(p3, solve(eq_pwp_xi1,p3)[0]),(p1, solve(xi1_p1,p1)[0])])\n",
    "phi1_to_pw_xi"
   ]
  },
  {
   "cell_type": "code",
   "execution_count": 85,
   "metadata": {},
   "outputs": [
    {
     "data": {
      "text/latex": [
       "$\\displaystyle \\frac{d}{d z} \\phi_{2}{\\left(z \\right)} = \\frac{1}{2} - \\frac{i \\operatorname{pwp}{\\left(\\xi_{2},g_{2},g_{3} \\right)}}{2 \\left(\\operatorname{pw}{\\left(\\xi_{2},g_{2},g_{3} \\right)} - \\operatorname{pw}{\\left(z - z_{0},g_{2},g_{3} \\right)}\\right)}$"
      ],
      "text/plain": [
       "Eq(Derivative(phi2(z), z), 1/2 - I*pwp(xi2, g2, g3)/(2*(pw(xi2, g2, g3) - pw(z - z0, g2, g3))))"
      ]
     },
     "execution_count": 85,
     "metadata": {},
     "output_type": "execute_result"
    }
   ],
   "source": [
    "phi2_to_pw_xi = phi2_to_pw.subs([(p3, solve(eq_pwp_xi2,p3)[0]),(p2, solve(xi2_p2,p2)[0])])\n",
    "phi2_to_pw_xi"
   ]
  },
  {
   "cell_type": "code",
   "execution_count": 86,
   "metadata": {},
   "outputs": [
    {
     "data": {
      "text/latex": [
       "$\\displaystyle \\frac{d}{d z} \\phi_{3}{\\left(z \\right)} = \\frac{3}{2} + \\frac{2 i \\operatorname{pwp}{\\left(\\xi_{3},g_{2},g_{3} \\right)}}{- 4 \\operatorname{pw}{\\left(\\xi_{3},g_{2},g_{3} \\right)} + 4 \\operatorname{pw}{\\left(z - z_{0},g_{2},g_{3} \\right)}}$"
      ],
      "text/plain": [
       "Eq(Derivative(phi3(z), z), 3/2 + 2*I*pwp(xi3, g2, g3)/(-4*pw(xi3, g2, g3) + 4*pw(z - z0, g2, g3)))"
      ]
     },
     "execution_count": 86,
     "metadata": {},
     "output_type": "execute_result"
    }
   ],
   "source": [
    "phi3_to_pw_xi = phi3_to_pw.subs([(p3, solve(eq_pwp_xi3,p3)[0]),(p2, solve(xi3_p1_p2,p2)[0])])\n",
    "phi3_to_pw_xi"
   ]
  },
  {
   "cell_type": "markdown",
   "metadata": {},
   "source": [
    "### Expressing the logarithmic derivatives in terms of the Weierstrass Zeta function"
   ]
  },
  {
   "cell_type": "markdown",
   "metadata": {},
   "source": [
    "To solve for the modes themselves, the starting point is the logarithmic derivative identity:"
   ]
  },
  {
   "cell_type": "code",
   "execution_count": 87,
   "metadata": {},
   "outputs": [
    {
     "data": {
      "text/latex": [
       "$\\displaystyle \\frac{\\frac{d}{d z} A{\\left(z \\right)}}{A{\\left(z \\right)}} = i \\frac{d}{d z} \\phi{\\left(z \\right)} + \\frac{\\frac{d}{d z} \\left|{A{\\left(z \\right)}}\\right|^{2}}{2 \\left|{A{\\left(z \\right)}}\\right|^{2}}$"
      ],
      "text/plain": [
       "Eq(Derivative(A(z), z)/A(z), I*Derivative(phi(z), z) + Derivative(Abs(A(z))**2, z)/(2*Abs(A(z))**2))"
      ]
     },
     "execution_count": 87,
     "metadata": {},
     "output_type": "execute_result"
    }
   ],
   "source": [
    "log_diff_in_phi_A"
   ]
  },
  {
   "cell_type": "code",
   "execution_count": 88,
   "metadata": {},
   "outputs": [
    {
     "data": {
      "text/latex": [
       "$\\displaystyle \\frac{\\frac{d}{d z} \\operatorname{A_{1}}{\\left(z \\right)}}{\\operatorname{A_{1}}{\\left(z \\right)}} = i \\frac{d}{d z} \\phi_{1}{\\left(z \\right)} + \\frac{\\frac{d}{d z} \\operatorname{A_{1}}{\\left(z \\right)} \\operatorname{Ac_{1}}{\\left(z \\right)}}{2 \\operatorname{A_{1}}{\\left(z \\right)} \\operatorname{Ac_{1}}{\\left(z \\right)}}$"
      ],
      "text/plain": [
       "Eq(Derivative(A1(z), z)/A1(z), I*Derivative(phi1(z), z) + Derivative(A1(z)*Ac1(z), z)/(2*A1(z)*Ac1(z)))"
      ]
     },
     "execution_count": 88,
     "metadata": {},
     "output_type": "execute_result"
    }
   ],
   "source": [
    "log_diff_in_phi_A_1 = (\n",
    "    log_diff_in_phi_A\n",
    "    .subs([(abs(A(z))**2,A(z)*Ac(z))])\n",
    "    .subs([(Ac(z),Ac1(z)),(A(z),A1(z)),(phi(z),phi1(z))])\n",
    ")\n",
    "log_diff_in_phi_A_1"
   ]
  },
  {
   "cell_type": "markdown",
   "metadata": {},
   "source": [
    "Then substitutions are made into this expression for the power, the derivative of the power, and the derivative of the power in terms of Weierstrass P and Weierstrass P Prime functions to give:"
   ]
  },
  {
   "cell_type": "code",
   "execution_count": 89,
   "metadata": {},
   "outputs": [
    {
     "data": {
      "text/latex": [
       "$\\displaystyle \\frac{\\frac{d}{d z} \\operatorname{A_{1}}{\\left(z \\right)}}{\\operatorname{A_{1}}{\\left(z \\right)}} = \\frac{i}{2} + \\frac{\\operatorname{pwp}{\\left(\\xi_{1},g_{2},g_{3} \\right)} - \\operatorname{pwp}{\\left(z - z_{0},g_{2},g_{3} \\right)}}{2 \\left(\\operatorname{pw}{\\left(\\xi_{1},g_{2},g_{3} \\right)} - \\operatorname{pw}{\\left(z - z_{0},g_{2},g_{3} \\right)}\\right)}$"
      ],
      "text/plain": [
       "Eq(Derivative(A1(z), z)/A1(z), I/2 + (pwp(xi1, g2, g3) - pwp(z - z0, g2, g3))/(2*(pw(xi1, g2, g3) - pw(z - z0, g2, g3))))"
      ]
     },
     "execution_count": 89,
     "metadata": {},
     "output_type": "execute_result"
    }
   ],
   "source": [
    "log_diff_A1_pw_xi = log_diff_in_phi_A_1.subs([\n",
    "    (eq_pow_1_div.lhs, eq_pow_1_div.rhs),\n",
    "    (phi1_to_pw_xi.lhs, phi1_to_pw_xi.rhs),\n",
    "    (eq_pow_1_pw.lhs, eq_pow_1_pw.rhs)\n",
    "])\n",
    "log_diff_A1_pw_xi = Eq(log_diff_A1_pw_xi.lhs, (log_diff_A1_pw_xi.rhs - I*Rational(1,2)).simplify() + I*Rational(1,2))\n",
    "log_diff_A1_pw_xi"
   ]
  },
  {
   "cell_type": "code",
   "execution_count": 90,
   "metadata": {},
   "outputs": [
    {
     "data": {
      "text/latex": [
       "$\\displaystyle \\frac{\\frac{d}{d z} \\operatorname{A_{2}}{\\left(z \\right)}}{\\operatorname{A_{2}}{\\left(z \\right)}} = i \\frac{d}{d z} \\phi_{2}{\\left(z \\right)} + \\frac{\\frac{d}{d z} \\operatorname{A_{2}}{\\left(z \\right)} \\operatorname{Ac_{2}}{\\left(z \\right)}}{2 \\operatorname{A_{2}}{\\left(z \\right)} \\operatorname{Ac_{2}}{\\left(z \\right)}}$"
      ],
      "text/plain": [
       "Eq(Derivative(A2(z), z)/A2(z), I*Derivative(phi2(z), z) + Derivative(A2(z)*Ac2(z), z)/(2*A2(z)*Ac2(z)))"
      ]
     },
     "execution_count": 90,
     "metadata": {},
     "output_type": "execute_result"
    }
   ],
   "source": [
    "log_diff_in_phi_A_2 = (\n",
    "    log_diff_in_phi_A\n",
    "    .subs([(abs(A(z))**2,A(z)*Ac(z))])\n",
    "    .subs([(Ac(z),Ac2(z)),(A(z),A2(z)),(phi(z), phi2(z))])\n",
    ")\n",
    "log_diff_in_phi_A_2"
   ]
  },
  {
   "cell_type": "code",
   "execution_count": 91,
   "metadata": {},
   "outputs": [
    {
     "data": {
      "text/latex": [
       "$\\displaystyle \\frac{\\frac{d}{d z} \\operatorname{A_{2}}{\\left(z \\right)}}{\\operatorname{A_{2}}{\\left(z \\right)}} = \\frac{i}{2} + \\frac{\\operatorname{pwp}{\\left(\\xi_{2},g_{2},g_{3} \\right)} - \\operatorname{pwp}{\\left(z - z_{0},g_{2},g_{3} \\right)}}{2 \\left(\\operatorname{pw}{\\left(\\xi_{2},g_{2},g_{3} \\right)} - \\operatorname{pw}{\\left(z - z_{0},g_{2},g_{3} \\right)}\\right)}$"
      ],
      "text/plain": [
       "Eq(Derivative(A2(z), z)/A2(z), I/2 + (pwp(xi2, g2, g3) - pwp(z - z0, g2, g3))/(2*(pw(xi2, g2, g3) - pw(z - z0, g2, g3))))"
      ]
     },
     "execution_count": 91,
     "metadata": {},
     "output_type": "execute_result"
    }
   ],
   "source": [
    "log_diff_A2_pw_xi = log_diff_in_phi_A_2.subs([\n",
    "    (eq_pow_2_div.lhs, eq_pow_2_div.rhs),\n",
    "    (phi2_to_pw_xi.lhs, phi2_to_pw_xi.rhs),\n",
    "    (eq_pow_2_pw.lhs, eq_pow_2_pw.rhs)\n",
    "])\n",
    "log_diff_A2_pw_xi = Eq(log_diff_A2_pw_xi.lhs, (log_diff_A2_pw_xi.rhs - I*Rational(1,2)).simplify() + I*Rational(1,2))\n",
    "log_diff_A2_pw_xi"
   ]
  },
  {
   "cell_type": "code",
   "execution_count": 92,
   "metadata": {},
   "outputs": [
    {
     "data": {
      "text/latex": [
       "$\\displaystyle \\frac{\\frac{d}{d z} \\operatorname{A_{3}}{\\left(z \\right)}}{\\operatorname{A_{3}}{\\left(z \\right)}} = i \\frac{d}{d z} \\phi_{3}{\\left(z \\right)} + \\frac{\\frac{d}{d z} \\operatorname{A_{3}}{\\left(z \\right)} \\operatorname{Ac_{3}}{\\left(z \\right)}}{2 \\operatorname{A_{3}}{\\left(z \\right)} \\operatorname{Ac_{3}}{\\left(z \\right)}}$"
      ],
      "text/plain": [
       "Eq(Derivative(A3(z), z)/A3(z), I*Derivative(phi3(z), z) + Derivative(A3(z)*Ac3(z), z)/(2*A3(z)*Ac3(z)))"
      ]
     },
     "execution_count": 92,
     "metadata": {},
     "output_type": "execute_result"
    }
   ],
   "source": [
    "log_diff_in_phi_A_3 = (\n",
    "    log_diff_in_phi_A\n",
    "    .subs([(abs(A(z))**2,A(z)*Ac(z))])\n",
    "    .subs([(Ac(z),Ac3(z)),(A(z),A3(z)),(phi(z),phi3(z))])\n",
    ")\n",
    "log_diff_in_phi_A_3"
   ]
  },
  {
   "cell_type": "code",
   "execution_count": 93,
   "metadata": {},
   "outputs": [
    {
     "data": {
      "text/latex": [
       "$\\displaystyle \\frac{\\frac{d}{d z} \\operatorname{A_{3}}{\\left(z \\right)}}{\\operatorname{A_{3}}{\\left(z \\right)}} = \\frac{3 i}{2} + \\frac{\\operatorname{pwp}{\\left(\\xi_{3},g_{2},g_{3} \\right)} - \\operatorname{pwp}{\\left(z - z_{0},g_{2},g_{3} \\right)}}{2 \\left(\\operatorname{pw}{\\left(\\xi_{3},g_{2},g_{3} \\right)} - \\operatorname{pw}{\\left(z - z_{0},g_{2},g_{3} \\right)}\\right)}$"
      ],
      "text/plain": [
       "Eq(Derivative(A3(z), z)/A3(z), 3*I/2 + (pwp(xi3, g2, g3) - pwp(z - z0, g2, g3))/(2*(pw(xi3, g2, g3) - pw(z - z0, g2, g3))))"
      ]
     },
     "execution_count": 93,
     "metadata": {},
     "output_type": "execute_result"
    }
   ],
   "source": [
    "log_diff_A3_pw_xi =log_diff_in_phi_A_3.subs([\n",
    "    (eq_pow_3_div.lhs, eq_pow_3_div.rhs),\n",
    "    (phi3_to_pw_xi.lhs, phi3_to_pw_xi.rhs),\n",
    "    (eq_pow_3_pw.lhs, eq_pow_3_pw.rhs)\n",
    "])\n",
    "log_diff_A3_pw_xi = Eq(log_diff_A3_pw_xi.lhs, (log_diff_A3_pw_xi.rhs - I*Rational(3,2)).simplify() + I*Rational(3,2))\n",
    "log_diff_A3_pw_xi"
   ]
  },
  {
   "cell_type": "markdown",
   "metadata": {},
   "source": [
    "The logarithmic derivatives of the modes can then be expressed in terms of the Weierstrass Zeta function using the following two variable identity which is given as an unproven example in Example 2 p444 of Whittaker and Watson, A course of Modern Analysis, 2nd Edition:"
   ]
  },
  {
   "cell_type": "code",
   "execution_count": 350,
   "metadata": {},
   "outputs": [
    {
     "data": {
      "text/latex": [
       "$\\displaystyle \\frac{\\operatorname{pwp}{\\left(x,g_{2},g_{3} \\right)} - \\operatorname{pwp}{\\left(y,g_{2},g_{3} \\right)}}{2 \\left(\\operatorname{pw}{\\left(x,g_{2},g_{3} \\right)} - \\operatorname{pw}{\\left(y,g_{2},g_{3} \\right)}\\right)} = - \\operatorname{zw}{\\left(x,g_{2},g_{3} \\right)} - \\operatorname{zw}{\\left(y,g_{2},g_{3} \\right)} + \\operatorname{zw}{\\left(x + y,g_{2},g_{3} \\right)}$"
      ],
      "text/plain": [
       "Eq((pwp(x, g2, g3) - pwp(y, g2, g3))/(2*(pw(x, g2, g3) - pw(y, g2, g3))), -zw(x, g2, g3) - zw(y, g2, g3) + zw(x + y, g2, g3))"
      ]
     },
     "execution_count": 350,
     "metadata": {},
     "output_type": "execute_result"
    }
   ],
   "source": [
    "pw_to_zw_identity"
   ]
  },
  {
   "cell_type": "markdown",
   "metadata": {},
   "source": [
    "From which it follows that:"
   ]
  },
  {
   "cell_type": "code",
   "execution_count": 95,
   "metadata": {},
   "outputs": [
    {
     "data": {
      "text/latex": [
       "$\\displaystyle \\frac{\\frac{d}{d z} \\operatorname{A_{1}}{\\left(z \\right)}}{\\operatorname{A_{1}}{\\left(z \\right)}} = - \\operatorname{zw}{\\left(\\xi_{1},g_{2},g_{3} \\right)} - \\operatorname{zw}{\\left(z - z_{0},g_{2},g_{3} \\right)} + \\operatorname{zw}{\\left(\\xi_{1} + z - z_{0},g_{2},g_{3} \\right)} + \\frac{i}{2}$"
      ],
      "text/plain": [
       "Eq(Derivative(A1(z), z)/A1(z), -zw(xi1, g2, g3) - zw(z - z0, g2, g3) + zw(xi1 + z - z0, g2, g3) + I/2)"
      ]
     },
     "execution_count": 95,
     "metadata": {},
     "output_type": "execute_result"
    }
   ],
   "source": [
    "pw_to_zw_1 = pw_to_zw_identity.subs([(x,xi1),(y,z-z0)])\n",
    "log_diff_A1_zw_xi = log_diff_A1_pw_xi.subs(pw_to_zw_1.lhs, pw_to_zw_1.rhs)\n",
    "log_diff_A1_zw_xi"
   ]
  },
  {
   "cell_type": "code",
   "execution_count": 96,
   "metadata": {},
   "outputs": [
    {
     "data": {
      "text/latex": [
       "$\\displaystyle \\frac{\\frac{d}{d z} \\operatorname{A_{2}}{\\left(z \\right)}}{\\operatorname{A_{2}}{\\left(z \\right)}} = - \\operatorname{zw}{\\left(\\xi_{2},g_{2},g_{3} \\right)} - \\operatorname{zw}{\\left(z - z_{0},g_{2},g_{3} \\right)} + \\operatorname{zw}{\\left(\\xi_{2} + z - z_{0},g_{2},g_{3} \\right)} + \\frac{i}{2}$"
      ],
      "text/plain": [
       "Eq(Derivative(A2(z), z)/A2(z), -zw(xi2, g2, g3) - zw(z - z0, g2, g3) + zw(xi2 + z - z0, g2, g3) + I/2)"
      ]
     },
     "execution_count": 96,
     "metadata": {},
     "output_type": "execute_result"
    }
   ],
   "source": [
    "pw_to_zw_2 = pw_to_zw_identity.subs([(x,xi2),(y,z-z0)])\n",
    "log_diff_A2_zw_xi = log_diff_A2_pw_xi.subs(pw_to_zw_2.lhs, pw_to_zw_2.rhs)\n",
    "log_diff_A2_zw_xi"
   ]
  },
  {
   "cell_type": "code",
   "execution_count": 97,
   "metadata": {},
   "outputs": [
    {
     "data": {
      "text/latex": [
       "$\\displaystyle \\frac{\\frac{d}{d z} \\operatorname{A_{3}}{\\left(z \\right)}}{\\operatorname{A_{3}}{\\left(z \\right)}} = - \\operatorname{zw}{\\left(\\xi_{3},g_{2},g_{3} \\right)} - \\operatorname{zw}{\\left(z - z_{0},g_{2},g_{3} \\right)} + \\operatorname{zw}{\\left(\\xi_{3} + z - z_{0},g_{2},g_{3} \\right)} + \\frac{3 i}{2}$"
      ],
      "text/plain": [
       "Eq(Derivative(A3(z), z)/A3(z), -zw(xi3, g2, g3) - zw(z - z0, g2, g3) + zw(xi3 + z - z0, g2, g3) + 3*I/2)"
      ]
     },
     "execution_count": 97,
     "metadata": {},
     "output_type": "execute_result"
    }
   ],
   "source": [
    "pw_to_zw_3 = pw_to_zw_identity.subs([(x,xi3),(y,z-z0)])\n",
    "log_diff_A3_zw_xi = log_diff_A3_pw_xi.subs(pw_to_zw_3.lhs, pw_to_zw_3.rhs)\n",
    "log_diff_A3_zw_xi"
   ]
  },
  {
   "cell_type": "markdown",
   "metadata": {},
   "source": [
    "### Solving for the Modes in terms of Weierstrass Sigma functions"
   ]
  },
  {
   "cell_type": "markdown",
   "metadata": {},
   "source": [
    "The following anti-derivative equations enable the logarithmic derivative equations for the modes in terms of Weierstrass Zeta functions, to be solved in terms of Weierstrass Sigma functions:"
   ]
  },
  {
   "cell_type": "code",
   "execution_count": 98,
   "metadata": {},
   "outputs": [
    {
     "data": {
      "text/latex": [
       "$\\displaystyle \\int \\frac{\\frac{d}{d z} A{\\left(z \\right)}}{A{\\left(z \\right)}}\\, dz = \\log{\\left(A{\\left(z \\right)} \\right)}$"
      ],
      "text/plain": [
       "Eq(Integral(Derivative(A(z), z)/A(z), z), log(A(z)))"
      ]
     },
     "execution_count": 98,
     "metadata": {},
     "output_type": "execute_result"
    }
   ],
   "source": [
    "Eq(Integral(Derivative(A(z),z)/A(z)),log(A(z)))"
   ]
  },
  {
   "cell_type": "code",
   "execution_count": 99,
   "metadata": {
    "scrolled": true
   },
   "outputs": [
    {
     "data": {
      "text/latex": [
       "$\\displaystyle \\int \\operatorname{zw}{\\left(z,g_{2},g_{3} \\right)}\\, dz = \\log{\\left(\\sigma{\\left(z \\right)} \\right)}$"
      ],
      "text/plain": [
       "Eq(Integral(zw(z, g2, g3), z), log(sigma(z)))"
      ]
     },
     "execution_count": 99,
     "metadata": {},
     "output_type": "execute_result"
    }
   ],
   "source": [
    "Eq(Integral(zw(z,g2,g3),z),log(sigma(z)))"
   ]
  },
  {
   "cell_type": "markdown",
   "metadata": {},
   "source": [
    "Such that:"
   ]
  },
  {
   "cell_type": "code",
   "execution_count": 100,
   "metadata": {},
   "outputs": [
    {
     "data": {
      "text/latex": [
       "$\\displaystyle \\log{\\left(\\operatorname{A_{1}}{\\left(z \\right)} \\right)} = \\frac{\\int i\\, dz}{2} + \\frac{\\int \\left(- 2 \\operatorname{zw}{\\left(\\xi_{1},g_{2},g_{3} \\right)}\\right)\\, dz}{2} + \\frac{\\int \\left(- 2 \\operatorname{zw}{\\left(z - z_{0},g_{2},g_{3} \\right)}\\right)\\, dz}{2} + \\frac{\\int 2 \\operatorname{zw}{\\left(\\xi_{1} + z - z_{0},g_{2},g_{3} \\right)}\\, dz}{2}$"
      ],
      "text/plain": [
       "Eq(log(A1(z)), Integral(I, z)/2 + Integral(-2*zw(xi1, g2, g3), z)/2 + Integral(-2*zw(z - z0, g2, g3), z)/2 + Integral(2*zw(xi1 + z - z0, g2, g3), z)/2)"
      ]
     },
     "execution_count": 100,
     "metadata": {},
     "output_type": "execute_result"
    }
   ],
   "source": [
    "Eq(Integral(log_diff_A1_zw_xi.lhs,z), Integral(log_diff_A1_zw_xi.rhs,z)).doit().expand()"
   ]
  },
  {
   "cell_type": "code",
   "execution_count": 101,
   "metadata": {},
   "outputs": [
    {
     "data": {
      "text/latex": [
       "$\\displaystyle \\log{\\left(\\operatorname{A_{2}}{\\left(z \\right)} \\right)} = \\frac{\\int i\\, dz}{2} + \\frac{\\int \\left(- 2 \\operatorname{zw}{\\left(\\xi_{2},g_{2},g_{3} \\right)}\\right)\\, dz}{2} + \\frac{\\int \\left(- 2 \\operatorname{zw}{\\left(z - z_{0},g_{2},g_{3} \\right)}\\right)\\, dz}{2} + \\frac{\\int 2 \\operatorname{zw}{\\left(\\xi_{2} + z - z_{0},g_{2},g_{3} \\right)}\\, dz}{2}$"
      ],
      "text/plain": [
       "Eq(log(A2(z)), Integral(I, z)/2 + Integral(-2*zw(xi2, g2, g3), z)/2 + Integral(-2*zw(z - z0, g2, g3), z)/2 + Integral(2*zw(xi2 + z - z0, g2, g3), z)/2)"
      ]
     },
     "execution_count": 101,
     "metadata": {},
     "output_type": "execute_result"
    }
   ],
   "source": [
    "Eq(Integral(log_diff_A2_zw_xi.lhs,z), Integral(log_diff_A2_zw_xi.rhs,z)).doit().expand()"
   ]
  },
  {
   "cell_type": "code",
   "execution_count": 102,
   "metadata": {},
   "outputs": [
    {
     "data": {
      "text/latex": [
       "$\\displaystyle \\log{\\left(\\operatorname{A_{3}}{\\left(z \\right)} \\right)} = \\frac{\\int 3 i\\, dz}{2} + \\frac{\\int \\left(- 2 \\operatorname{zw}{\\left(\\xi_{3},g_{2},g_{3} \\right)}\\right)\\, dz}{2} + \\frac{\\int \\left(- 2 \\operatorname{zw}{\\left(z - z_{0},g_{2},g_{3} \\right)}\\right)\\, dz}{2} + \\frac{\\int 2 \\operatorname{zw}{\\left(\\xi_{3} + z - z_{0},g_{2},g_{3} \\right)}\\, dz}{2}$"
      ],
      "text/plain": [
       "Eq(log(A3(z)), Integral(3*I, z)/2 + Integral(-2*zw(xi3, g2, g3), z)/2 + Integral(-2*zw(z - z0, g2, g3), z)/2 + Integral(2*zw(xi3 + z - z0, g2, g3), z)/2)"
      ]
     },
     "execution_count": 102,
     "metadata": {},
     "output_type": "execute_result"
    }
   ],
   "source": [
    "Eq(Integral(log_diff_A3_zw_xi.lhs,z), Integral(log_diff_A3_zw_xi.rhs,z)).doit().expand()"
   ]
  },
  {
   "cell_type": "markdown",
   "metadata": {},
   "source": [
    "Leading to the main result, in which c are the integration constants which can be fixed by initial conditions:"
   ]
  },
  {
   "cell_type": "code",
   "execution_count": 103,
   "metadata": {},
   "outputs": [
    {
     "data": {
      "text/latex": [
       "$\\displaystyle \\operatorname{A_{1}}{\\left(z \\right)} = \\frac{c_{1} \\sigma{\\left(\\xi_{1} + z - z_{0},g_{2},g_{3} \\right)} e^{z \\left(- \\operatorname{zw}{\\left(\\xi_{1},g_{2},g_{3} \\right)} + \\frac{i}{2}\\right)}}{\\sigma{\\left(z - z_{0},g_{2},g_{3} \\right)}}$"
      ],
      "text/plain": [
       "Eq(A1(z), c1*sigma(xi1 + z - z0, g2, g3)*exp(z*(-zw(xi1, g2, g3) + I/2))/sigma(z - z0, g2, g3))"
      ]
     },
     "execution_count": 103,
     "metadata": {},
     "output_type": "execute_result"
    }
   ],
   "source": [
    "eq1_result_c = Eq(A1(z), c1*exp((I/2 - zw(xi1,g2,g3))*z)*sigma(xi1 + z - z0, g2, g3)/sigma(z - z0, g2, g3))\n",
    "eq1_result_c"
   ]
  },
  {
   "cell_type": "code",
   "execution_count": 104,
   "metadata": {},
   "outputs": [
    {
     "data": {
      "text/latex": [
       "$\\displaystyle \\operatorname{A_{2}}{\\left(z \\right)} = \\frac{c_{2} \\sigma{\\left(\\xi_{2} + z - z_{0},g_{2},g_{3} \\right)} e^{z \\left(- \\operatorname{zw}{\\left(\\xi_{2},g_{2},g_{3} \\right)} + \\frac{i}{2}\\right)}}{\\sigma{\\left(z - z_{0},g_{2},g_{3} \\right)}}$"
      ],
      "text/plain": [
       "Eq(A2(z), c2*sigma(xi2 + z - z0, g2, g3)*exp(z*(-zw(xi2, g2, g3) + I/2))/sigma(z - z0, g2, g3))"
      ]
     },
     "execution_count": 104,
     "metadata": {},
     "output_type": "execute_result"
    }
   ],
   "source": [
    "eq2_result_c = Eq(A2(z), c2*exp((I/2 - zw(xi2,g2,g3))*z)*sigma(xi2 + z - z0, g2, g3)/sigma(z - z0, g2, g3))\n",
    "eq2_result_c"
   ]
  },
  {
   "cell_type": "code",
   "execution_count": 105,
   "metadata": {},
   "outputs": [
    {
     "data": {
      "text/latex": [
       "$\\displaystyle \\operatorname{A_{3}}{\\left(z \\right)} = \\frac{c_{3} \\sigma{\\left(\\xi_{3} + z - z_{0},g_{2},g_{3} \\right)} e^{z \\left(- \\operatorname{zw}{\\left(\\xi_{3},g_{2},g_{3} \\right)} + \\frac{3 i}{2}\\right)}}{\\sigma{\\left(z - z_{0},g_{2},g_{3} \\right)}}$"
      ],
      "text/plain": [
       "Eq(A3(z), c3*sigma(xi3 + z - z0, g2, g3)*exp(z*(-zw(xi3, g2, g3) + 3*I/2))/sigma(z - z0, g2, g3))"
      ]
     },
     "execution_count": 105,
     "metadata": {},
     "output_type": "execute_result"
    }
   ],
   "source": [
    "eq3_result_c = Eq(A3(z), c3*exp((I*Rational(3,2) - zw(xi3,g2,g3))*z)*sigma(xi3 + z - z0, g2, g3)/sigma(z - z0, g2, g3))\n",
    "eq3_result_c"
   ]
  },
  {
   "cell_type": "code",
   "execution_count": 106,
   "metadata": {},
   "outputs": [
    {
     "data": {
      "text/latex": [
       "$\\displaystyle c_{1} = \\frac{\\operatorname{A_{1}}{\\left(0 \\right)} \\sigma{\\left(- z_{0},g_{2},g_{3} \\right)}}{\\sigma{\\left(\\xi_{1} - z_{0},g_{2},g_{3} \\right)}}$"
      ],
      "text/plain": [
       "Eq(c1, A1(0)*sigma(-z0, g2, g3)/sigma(xi1 - z0, g2, g3))"
      ]
     },
     "execution_count": 106,
     "metadata": {},
     "output_type": "execute_result"
    }
   ],
   "source": [
    "c1_z0_eq = Eq(c1, solve(eq1_result_c.subs(z,0),c1)[0])\n",
    "c1_z0_eq"
   ]
  },
  {
   "cell_type": "code",
   "execution_count": 107,
   "metadata": {},
   "outputs": [
    {
     "data": {
      "text/latex": [
       "$\\displaystyle c_{2} = \\frac{\\operatorname{A_{2}}{\\left(0 \\right)} \\sigma{\\left(- z_{0},g_{2},g_{3} \\right)}}{\\sigma{\\left(\\xi_{2} - z_{0},g_{2},g_{3} \\right)}}$"
      ],
      "text/plain": [
       "Eq(c2, A2(0)*sigma(-z0, g2, g3)/sigma(xi2 - z0, g2, g3))"
      ]
     },
     "execution_count": 107,
     "metadata": {},
     "output_type": "execute_result"
    }
   ],
   "source": [
    "c2_z0_eq = Eq(c2, solve(eq2_result_c.subs(z,0),c2)[0])\n",
    "c2_z0_eq"
   ]
  },
  {
   "cell_type": "code",
   "execution_count": 108,
   "metadata": {},
   "outputs": [
    {
     "data": {
      "text/latex": [
       "$\\displaystyle c_{3} = \\frac{\\operatorname{A_{3}}{\\left(0 \\right)} \\sigma{\\left(- z_{0},g_{2},g_{3} \\right)}}{\\sigma{\\left(\\xi_{3} - z_{0},g_{2},g_{3} \\right)}}$"
      ],
      "text/plain": [
       "Eq(c3, A3(0)*sigma(-z0, g2, g3)/sigma(xi3 - z0, g2, g3))"
      ]
     },
     "execution_count": 108,
     "metadata": {},
     "output_type": "execute_result"
    }
   ],
   "source": [
    "c3_z0_eq = Eq(c3, solve(eq3_result_c.subs(z,0),c3)[0])\n",
    "c3_z0_eq"
   ]
  },
  {
   "cell_type": "code",
   "execution_count": 109,
   "metadata": {},
   "outputs": [
    {
     "data": {
      "text/latex": [
       "$\\displaystyle \\operatorname{A_{1}}{\\left(z \\right)} = \\frac{\\operatorname{A_{1}}{\\left(0 \\right)} \\sigma{\\left(- z_{0},g_{2},g_{3} \\right)} \\sigma{\\left(\\xi_{1} + z - z_{0},g_{2},g_{3} \\right)} e^{z \\left(- \\operatorname{zw}{\\left(\\xi_{1},g_{2},g_{3} \\right)} + \\frac{i}{2}\\right)}}{\\sigma{\\left(\\xi_{1} - z_{0},g_{2},g_{3} \\right)} \\sigma{\\left(z - z_{0},g_{2},g_{3} \\right)}}$"
      ],
      "text/plain": [
       "Eq(A1(z), A1(0)*sigma(-z0, g2, g3)*sigma(xi1 + z - z0, g2, g3)*exp(z*(-zw(xi1, g2, g3) + I/2))/(sigma(xi1 - z0, g2, g3)*sigma(z - z0, g2, g3)))"
      ]
     },
     "execution_count": 109,
     "metadata": {},
     "output_type": "execute_result"
    }
   ],
   "source": [
    "eq1_result_z0 = eq1_result_c.subs(c1_z0_eq.lhs, c1_z0_eq.rhs)\n",
    "eq1_result_z0"
   ]
  },
  {
   "cell_type": "code",
   "execution_count": 110,
   "metadata": {},
   "outputs": [
    {
     "data": {
      "text/latex": [
       "$\\displaystyle \\operatorname{A_{2}}{\\left(z \\right)} = \\frac{\\operatorname{A_{2}}{\\left(0 \\right)} \\sigma{\\left(- z_{0},g_{2},g_{3} \\right)} \\sigma{\\left(\\xi_{2} + z - z_{0},g_{2},g_{3} \\right)} e^{z \\left(- \\operatorname{zw}{\\left(\\xi_{2},g_{2},g_{3} \\right)} + \\frac{i}{2}\\right)}}{\\sigma{\\left(\\xi_{2} - z_{0},g_{2},g_{3} \\right)} \\sigma{\\left(z - z_{0},g_{2},g_{3} \\right)}}$"
      ],
      "text/plain": [
       "Eq(A2(z), A2(0)*sigma(-z0, g2, g3)*sigma(xi2 + z - z0, g2, g3)*exp(z*(-zw(xi2, g2, g3) + I/2))/(sigma(xi2 - z0, g2, g3)*sigma(z - z0, g2, g3)))"
      ]
     },
     "execution_count": 110,
     "metadata": {},
     "output_type": "execute_result"
    }
   ],
   "source": [
    "eq2_result_z0 = eq2_result_c.subs(c2_z0_eq.lhs, c2_z0_eq.rhs)\n",
    "eq2_result_z0"
   ]
  },
  {
   "cell_type": "code",
   "execution_count": 111,
   "metadata": {},
   "outputs": [
    {
     "data": {
      "text/latex": [
       "$\\displaystyle \\operatorname{A_{3}}{\\left(z \\right)} = \\frac{\\operatorname{A_{3}}{\\left(0 \\right)} \\sigma{\\left(- z_{0},g_{2},g_{3} \\right)} \\sigma{\\left(\\xi_{3} + z - z_{0},g_{2},g_{3} \\right)} e^{z \\left(- \\operatorname{zw}{\\left(\\xi_{3},g_{2},g_{3} \\right)} + \\frac{3 i}{2}\\right)}}{\\sigma{\\left(\\xi_{3} - z_{0},g_{2},g_{3} \\right)} \\sigma{\\left(z - z_{0},g_{2},g_{3} \\right)}}$"
      ],
      "text/plain": [
       "Eq(A3(z), A3(0)*sigma(-z0, g2, g3)*sigma(xi3 + z - z0, g2, g3)*exp(z*(-zw(xi3, g2, g3) + 3*I/2))/(sigma(xi3 - z0, g2, g3)*sigma(z - z0, g2, g3)))"
      ]
     },
     "execution_count": 111,
     "metadata": {},
     "output_type": "execute_result"
    }
   ],
   "source": [
    "eq3_result_z0 = eq3_result_c.subs(c3_z0_eq.lhs, c3_z0_eq.rhs)\n",
    "eq3_result_z0"
   ]
  },
  {
   "cell_type": "markdown",
   "metadata": {},
   "source": [
    "### Conjugate Modes"
   ]
  },
  {
   "cell_type": "markdown",
   "metadata": {},
   "source": [
    "The conjugate modes can easily be derived, without taking conjugates of all parameters, by using the following identity:"
   ]
  },
  {
   "cell_type": "code",
   "execution_count": 112,
   "metadata": {},
   "outputs": [
    {
     "data": {
      "text/latex": [
       "$\\displaystyle - \\operatorname{pw}{\\left(x,g_{2},g_{3} \\right)} + \\operatorname{pw}{\\left(y,g_{2},g_{3} \\right)} = \\frac{\\sigma{\\left(x - y,g_{2},g_{3} \\right)} \\sigma{\\left(x + y,g_{2},g_{3} \\right)}}{\\sigma^{2}{\\left(x,g_{2},g_{3} \\right)} \\sigma^{2}{\\left(y,g_{2},g_{3} \\right)}}$"
      ],
      "text/plain": [
       "Eq(-pw(x, g2, g3) + pw(y, g2, g3), sigma(x - y, g2, g3)*sigma(x + y, g2, g3)/(sigma(x, g2, g3)**2*sigma(y, g2, g3)**2))"
      ]
     },
     "execution_count": 112,
     "metadata": {},
     "output_type": "execute_result"
    }
   ],
   "source": [
    "sigma_p_identity = Eq(\n",
    "    pw(y, g2, g3) - pw(x, g2, g3),\n",
    "    sigma(x + y, g2, g3) * sigma(x - y, g2, g3) / (sigma(x, g2, g3) ** 2 * sigma(y, g2, g3) ** 2) \n",
    ")\n",
    "sigma_p_identity"
   ]
  },
  {
   "cell_type": "code",
   "execution_count": 113,
   "metadata": {},
   "outputs": [
    {
     "data": {
      "text/latex": [
       "$\\displaystyle \\operatorname{Ac_{1}}{\\left(z \\right)} = \\frac{\\sigma{\\left(- \\xi_{1} + z - z_{0},g_{2},g_{3} \\right)} e^{\\frac{z \\left(2 \\operatorname{zw}{\\left(\\xi_{1},g_{2},g_{3} \\right)} - i\\right)}{2}}}{2 c_{1} \\sigma^{2}{\\left(\\xi_{1},g_{2},g_{3} \\right)} \\sigma{\\left(z - z_{0},g_{2},g_{3} \\right)}}$"
      ],
      "text/plain": [
       "Eq(Ac1(z), sigma(-xi1 + z - z0, g2, g3)*exp(z*(2*zw(xi1, g2, g3) - I)/2)/(2*c1*sigma(xi1, g2, g3)**2*sigma(z - z0, g2, g3)))"
      ]
     },
     "execution_count": 113,
     "metadata": {},
     "output_type": "execute_result"
    }
   ],
   "source": [
    "eq1_result_c_conj = Eq(Ac1(z), solve(eq_pow_1_pw.subs(\n",
    "    (sigma_p_identity.lhs/2).subs([(x,z-z0),(y, xi1)]), (sigma_p_identity.rhs/2).subs([(x,z-z0),(y, xi1)])\n",
    ").subs(eq1_result_c.lhs, eq1_result_c.rhs), Ac1(z))[0])\n",
    "eq1_result_c_conj"
   ]
  },
  {
   "cell_type": "code",
   "execution_count": 114,
   "metadata": {},
   "outputs": [
    {
     "data": {
      "text/latex": [
       "$\\displaystyle \\operatorname{Ac_{2}}{\\left(z \\right)} = \\frac{\\sigma{\\left(- \\xi_{2} + z - z_{0},g_{2},g_{3} \\right)} e^{\\frac{z \\left(2 \\operatorname{zw}{\\left(\\xi_{2},g_{2},g_{3} \\right)} - i\\right)}{2}}}{2 c_{2} \\sigma^{2}{\\left(\\xi_{2},g_{2},g_{3} \\right)} \\sigma{\\left(z - z_{0},g_{2},g_{3} \\right)}}$"
      ],
      "text/plain": [
       "Eq(Ac2(z), sigma(-xi2 + z - z0, g2, g3)*exp(z*(2*zw(xi2, g2, g3) - I)/2)/(2*c2*sigma(xi2, g2, g3)**2*sigma(z - z0, g2, g3)))"
      ]
     },
     "execution_count": 114,
     "metadata": {},
     "output_type": "execute_result"
    }
   ],
   "source": [
    "eq2_result_c_conj = Eq(Ac2(z), solve(eq_pow_2_pw.subs(\n",
    "    (sigma_p_identity.lhs/2).subs([(x,z-z0),(y, xi2)]), (sigma_p_identity.rhs/2).subs([(x,z-z0),(y, xi2)])\n",
    ").subs(eq2_result_c.lhs, eq2_result_c.rhs), Ac2(z))[0])\n",
    "eq2_result_c_conj"
   ]
  },
  {
   "cell_type": "code",
   "execution_count": 115,
   "metadata": {},
   "outputs": [
    {
     "data": {
      "text/latex": [
       "$\\displaystyle \\operatorname{Ac_{3}}{\\left(z \\right)} = - \\frac{\\sigma{\\left(- \\xi_{3} + z - z_{0},g_{2},g_{3} \\right)} e^{\\frac{z \\left(2 \\operatorname{zw}{\\left(\\xi_{3},g_{2},g_{3} \\right)} - 3 i\\right)}{2}}}{c_{3} \\sigma^{2}{\\left(\\xi_{3},g_{2},g_{3} \\right)} \\sigma{\\left(z - z_{0},g_{2},g_{3} \\right)}}$"
      ],
      "text/plain": [
       "Eq(Ac3(z), -sigma(-xi3 + z - z0, g2, g3)*exp(z*(2*zw(xi3, g2, g3) - 3*I)/2)/(c3*sigma(xi3, g2, g3)**2*sigma(z - z0, g2, g3)))"
      ]
     },
     "execution_count": 115,
     "metadata": {},
     "output_type": "execute_result"
    }
   ],
   "source": [
    "eq3_result_c_conj = Eq(Ac3(z), solve(eq_pow_3_pw.subs(\n",
    "    (sigma_p_identity.lhs).subs([(x,z-z0),(y, xi3)]), (sigma_p_identity.rhs).subs([(x,z-z0),(y, xi3)])\n",
    ").subs(eq3_result_c.lhs, eq3_result_c.rhs), Ac3(z))[0])\n",
    "eq3_result_c_conj"
   ]
  },
  {
   "cell_type": "markdown",
   "metadata": {},
   "source": [
    "### Solving for the phases of the modes"
   ]
  },
  {
   "cell_type": "code",
   "execution_count": 209,
   "metadata": {},
   "outputs": [
    {
     "data": {
      "text/latex": [
       "$\\displaystyle \\frac{\\operatorname{A_{1}}{\\left(z \\right)}}{\\operatorname{Ac_{1}}{\\left(z \\right)}} = \\frac{2 c_{1}^{2} \\sigma^{2}{\\left(\\xi_{1},g_{2},g_{3} \\right)} \\sigma{\\left(\\xi_{1} + z - z_{0},g_{2},g_{3} \\right)} e^{- z \\left(2 \\operatorname{zw}{\\left(\\xi_{1},g_{2},g_{3} \\right)} - i\\right)}}{\\sigma{\\left(- \\xi_{1} + z - z_{0},g_{2},g_{3} \\right)}}$"
      ],
      "text/plain": [
       "Eq(A1(z)/Ac1(z), 2*c1**2*sigma(xi1, g2, g3)**2*sigma(xi1 + z - z0, g2, g3)*exp(-z*(2*zw(xi1, g2, g3) - I))/sigma(-xi1 + z - z0, g2, g3))"
      ]
     },
     "execution_count": 209,
     "metadata": {},
     "output_type": "execute_result"
    }
   ],
   "source": [
    "Eq(eq1_result_c.lhs/eq1_result_c_conj.lhs, eq1_result_c.rhs/eq1_result_c_conj.rhs).simplify()"
   ]
  },
  {
   "cell_type": "code",
   "execution_count": 212,
   "metadata": {},
   "outputs": [
    {
     "data": {
      "text/latex": [
       "$\\displaystyle e^{2 i \\phi_{1}{\\left(z \\right)}} = \\frac{2 c_{1}^{2} \\sigma^{2}{\\left(\\xi_{1},g_{2},g_{3} \\right)} \\sigma{\\left(\\xi_{1} + z - z_{0},g_{2},g_{3} \\right)} e^{- z \\left(2 \\operatorname{zw}{\\left(\\xi_{1},g_{2},g_{3} \\right)} - i\\right)}}{\\sigma{\\left(- \\xi_{1} + z - z_{0},g_{2},g_{3} \\right)}}$"
      ],
      "text/plain": [
       "Eq(exp(2*I*phi1(z)), 2*c1**2*sigma(xi1, g2, g3)**2*sigma(xi1 + z - z0, g2, g3)*exp(-z*(2*zw(xi1, g2, g3) - I))/sigma(-xi1 + z - z0, g2, g3))"
      ]
     },
     "execution_count": 212,
     "metadata": {},
     "output_type": "execute_result"
    }
   ],
   "source": [
    "exp_phi1_res = Eq(exp(I*phi1(z)*2), eq1_result_c.rhs/eq1_result_c_conj.rhs).simplify()\n",
    "exp_phi1_res"
   ]
  },
  {
   "cell_type": "markdown",
   "metadata": {},
   "source": [
    "### Pseudo periodicity property\n",
    "\n",
    "https://dlmf.nist.gov/23.2"
   ]
  },
  {
   "cell_type": "markdown",
   "metadata": {},
   "source": [
    "From the following quasi periodicity expressions of the Weierstrass Sigma functions:"
   ]
  },
  {
   "cell_type": "code",
   "execution_count": 156,
   "metadata": {},
   "outputs": [
    {
     "data": {
      "text/latex": [
       "$\\displaystyle \\sigma{\\left(2 \\omega_{1} + z,g_{2},g_{3} \\right)} = - \\sigma{\\left(z,g_{2},g_{3} \\right)} e^{2 \\eta_{1} \\left(\\omega_{1} + z\\right)}$"
      ],
      "text/plain": [
       "Eq(sigma(2*omega1 + z, g2, g3), -sigma(z, g2, g3)*exp(2*eta1*(omega1 + z)))"
      ]
     },
     "execution_count": 156,
     "metadata": {},
     "output_type": "execute_result"
    }
   ],
   "source": [
    "sigma_period_eq_1 = Eq(sigma(z + 2 * omega1, g2, g3), -sigma(z, g2, g3)*exp(2*eta1*(z+omega1)))\n",
    "sigma_period_eq_1"
   ]
  },
  {
   "cell_type": "code",
   "execution_count": 165,
   "metadata": {},
   "outputs": [
    {
     "data": {
      "text/latex": [
       "$\\displaystyle \\sigma{\\left(2 n \\omega_{1} + z,g_{2},g_{3} \\right)} = \\left(-1\\right)^{n} \\sigma{\\left(z,g_{2},g_{3} \\right)} e^{2 \\eta_{1} n \\left(n \\omega_{1} + z\\right)}$"
      ],
      "text/plain": [
       "Eq(sigma(2*n*omega1 + z, g2, g3), (-1)**n*sigma(z, g2, g3)*exp(2*eta1*n*(n*omega1 + z)))"
      ]
     },
     "execution_count": 165,
     "metadata": {},
     "output_type": "execute_result"
    }
   ],
   "source": [
    "Eq(sigma(z + 2 * n * omega1, g2, g3), (-1) **n * sigma(z, g2, g3) * exp(2 * n * eta1 * (n * omega1 + z)))"
   ]
  },
  {
   "cell_type": "code",
   "execution_count": 166,
   "metadata": {},
   "outputs": [
    {
     "data": {
      "text/latex": [
       "$\\displaystyle \\sigma{\\left(2 n \\omega_{2} + z,g_{2},g_{3} \\right)} = \\left(-1\\right)^{n} \\sigma{\\left(z,g_{2},g_{3} \\right)} e^{2 \\eta_{2} n \\left(n \\omega_{2} + z\\right)}$"
      ],
      "text/plain": [
       "Eq(sigma(2*n*omega2 + z, g2, g3), (-1)**n*sigma(z, g2, g3)*exp(2*eta2*n*(n*omega2 + z)))"
      ]
     },
     "execution_count": 166,
     "metadata": {},
     "output_type": "execute_result"
    }
   ],
   "source": [
    "Eq(sigma(z + 2 * n * omega2, g2, g3), (-1) **n * sigma(z, g2, g3) * exp(2 * n * eta2 * (n * omega2 + z)))"
   ]
  },
  {
   "cell_type": "code",
   "execution_count": 167,
   "metadata": {},
   "outputs": [
    {
     "data": {
      "text/latex": [
       "$\\displaystyle \\sigma{\\left(2 n \\omega_{3} + z,g_{2},g_{3} \\right)} = \\left(-1\\right)^{n} \\sigma{\\left(z,g_{2},g_{3} \\right)} e^{2 \\eta_{3} n \\left(n \\omega_{3} + z\\right)}$"
      ],
      "text/plain": [
       "Eq(sigma(2*n*omega3 + z, g2, g3), (-1)**n*sigma(z, g2, g3)*exp(2*eta3*n*(n*omega3 + z)))"
      ]
     },
     "execution_count": 167,
     "metadata": {},
     "output_type": "execute_result"
    }
   ],
   "source": [
    "Eq(sigma(z + 2 * n * omega3, g2, g3), (-1) **n * sigma(z, g2, g3) * exp(2 * n * eta3 * (n * omega3 + z)))"
   ]
  },
  {
   "cell_type": "markdown",
   "metadata": {},
   "source": [
    "it follows that the modes obey the following quasi periodicity conditions:"
   ]
  },
  {
   "cell_type": "code",
   "execution_count": 178,
   "metadata": {},
   "outputs": [
    {
     "data": {
      "text/latex": [
       "$\\displaystyle \\operatorname{A_{1}}{\\left(2 \\omega_{1} + z \\right)} = \\operatorname{A_{1}}{\\left(z \\right)} e^{2 \\eta_{1} \\xi_{1} - 2 \\omega_{1} \\operatorname{zw}{\\left(\\xi_{1},g_{2},g_{3} \\right)} + i \\omega_{1}}$"
      ],
      "text/plain": [
       "Eq(A1(2*omega1 + z), A1(z)*exp(2*eta1*xi1 - 2*omega1*zw(xi1, g2, g3) + I*omega1))"
      ]
     },
     "execution_count": 178,
     "metadata": {},
     "output_type": "execute_result"
    }
   ],
   "source": [
    "eq1_result_c_2omega1_shift = (eq1_result_c.subs(z,z+2*omega1)\n",
    " .subs(sigma_period_eq_1.lhs.subs(z, z-z0+xi1), sigma_period_eq_1.rhs.subs(z, z-z0+xi1))\n",
    " .subs(sigma_period_eq_1.lhs.subs(z, z-z0), sigma_period_eq_1.rhs.subs(z, z-z0))\n",
    ")\n",
    "eq1_result_c_2omega1_shift = Eq(\n",
    "    eq1_result_c_2omega1_shift.lhs, eq1_result_c_2omega1_shift.rhs*eq1_result_c.lhs/eq1_result_c.rhs).simplify()\n",
    "eq1_result_c_2omega1_shift"
   ]
  },
  {
   "cell_type": "code",
   "execution_count": 181,
   "metadata": {},
   "outputs": [
    {
     "data": {
      "text/latex": [
       "$\\displaystyle \\operatorname{A_{2}}{\\left(2 \\omega_{1} + z \\right)} = \\operatorname{A_{2}}{\\left(z \\right)} e^{2 \\eta_{1} \\xi_{2} - 2 \\omega_{1} \\operatorname{zw}{\\left(\\xi_{2},g_{2},g_{3} \\right)} + i \\omega_{1}}$"
      ],
      "text/plain": [
       "Eq(A2(2*omega1 + z), A2(z)*exp(2*eta1*xi2 - 2*omega1*zw(xi2, g2, g3) + I*omega1))"
      ]
     },
     "execution_count": 181,
     "metadata": {},
     "output_type": "execute_result"
    }
   ],
   "source": [
    "eq2_result_c_2omega1_shift = (eq2_result_c.subs(z,z+2*omega1)\n",
    " .subs(sigma_period_eq_1.lhs.subs(z, z-z0+xi2), sigma_period_eq_1.rhs.subs(z, z-z0+xi2))\n",
    " .subs(sigma_period_eq_1.lhs.subs(z, z-z0), sigma_period_eq_1.rhs.subs(z, z-z0))\n",
    ")\n",
    "eq2_result_c_2omega1_shift = Eq(\n",
    "    eq2_result_c_2omega1_shift.lhs, eq2_result_c_2omega1_shift.rhs*eq2_result_c.lhs/eq2_result_c.rhs).simplify()\n",
    "eq2_result_c_2omega1_shift"
   ]
  },
  {
   "cell_type": "code",
   "execution_count": 182,
   "metadata": {},
   "outputs": [
    {
     "data": {
      "text/latex": [
       "$\\displaystyle \\operatorname{A_{3}}{\\left(2 \\omega_{1} + z \\right)} = \\operatorname{A_{3}}{\\left(z \\right)} e^{2 \\eta_{1} \\xi_{3} - 2 \\omega_{1} \\operatorname{zw}{\\left(\\xi_{3},g_{2},g_{3} \\right)} + 3 i \\omega_{1}}$"
      ],
      "text/plain": [
       "Eq(A3(2*omega1 + z), A3(z)*exp(2*eta1*xi3 - 2*omega1*zw(xi3, g2, g3) + 3*I*omega1))"
      ]
     },
     "execution_count": 182,
     "metadata": {},
     "output_type": "execute_result"
    }
   ],
   "source": [
    "eq3_result_c_2omega1_shift = (eq3_result_c.subs(z,z+2*omega1)\n",
    " .subs(sigma_period_eq_1.lhs.subs(z, z-z0+xi3), sigma_period_eq_1.rhs.subs(z, z-z0+xi3))\n",
    " .subs(sigma_period_eq_1.lhs.subs(z, z-z0), sigma_period_eq_1.rhs.subs(z, z-z0))\n",
    ")\n",
    "eq3_result_c_2omega1_shift = Eq(\n",
    "    eq3_result_c_2omega1_shift.lhs, eq3_result_c_2omega1_shift.rhs*eq3_result_c.lhs/eq3_result_c.rhs).simplify()\n",
    "eq3_result_c_2omega1_shift"
   ]
  },
  {
   "cell_type": "code",
   "execution_count": 183,
   "metadata": {},
   "outputs": [
    {
     "data": {
      "text/latex": [
       "$\\displaystyle \\operatorname{Ac_{1}}{\\left(2 \\omega_{1} + z \\right)} = \\operatorname{Ac_{1}}{\\left(z \\right)} e^{- 2 \\eta_{1} \\xi_{1} + 2 \\omega_{1} \\operatorname{zw}{\\left(\\xi_{1},g_{2},g_{3} \\right)} - i \\omega_{1}}$"
      ],
      "text/plain": [
       "Eq(Ac1(2*omega1 + z), Ac1(z)*exp(-2*eta1*xi1 + 2*omega1*zw(xi1, g2, g3) - I*omega1))"
      ]
     },
     "execution_count": 183,
     "metadata": {},
     "output_type": "execute_result"
    }
   ],
   "source": [
    "eq1_result_c_2omega1_shift_conj = (eq1_result_c_conj.subs(z,z+2*omega1)\n",
    " .subs(sigma_period_eq_1.lhs.subs(z, z-z0-xi1), sigma_period_eq_1.rhs.subs(z, z-z0-xi1))\n",
    " .subs(sigma_period_eq_1.lhs.subs(z, z-z0), sigma_period_eq_1.rhs.subs(z, z-z0))\n",
    ")\n",
    "eq1_result_c_2omega1_shift_conj = Eq(\n",
    "    eq1_result_c_2omega1_shift_conj.lhs,\n",
    "    eq1_result_c_2omega1_shift_conj.rhs*eq1_result_c_conj.lhs/eq1_result_c_conj.rhs).simplify()\n",
    "eq1_result_c_2omega1_shift_conj"
   ]
  },
  {
   "cell_type": "code",
   "execution_count": 184,
   "metadata": {},
   "outputs": [
    {
     "data": {
      "text/latex": [
       "$\\displaystyle \\operatorname{Ac_{2}}{\\left(2 \\omega_{1} + z \\right)} = \\operatorname{Ac_{2}}{\\left(z \\right)} e^{- 2 \\eta_{1} \\xi_{2} + 2 \\omega_{1} \\operatorname{zw}{\\left(\\xi_{2},g_{2},g_{3} \\right)} - i \\omega_{1}}$"
      ],
      "text/plain": [
       "Eq(Ac2(2*omega1 + z), Ac2(z)*exp(-2*eta1*xi2 + 2*omega1*zw(xi2, g2, g3) - I*omega1))"
      ]
     },
     "execution_count": 184,
     "metadata": {},
     "output_type": "execute_result"
    }
   ],
   "source": [
    "eq2_result_c_2omega1_shift_conj = (eq2_result_c_conj.subs(z,z+2*omega1)\n",
    " .subs(sigma_period_eq_1.lhs.subs(z, z-z0-xi2), sigma_period_eq_1.rhs.subs(z, z-z0-xi2))\n",
    " .subs(sigma_period_eq_1.lhs.subs(z, z-z0), sigma_period_eq_1.rhs.subs(z, z-z0))\n",
    ")\n",
    "eq2_result_c_2omega1_shift_conj = Eq(\n",
    "    eq2_result_c_2omega1_shift_conj.lhs,\n",
    "    eq2_result_c_2omega1_shift_conj.rhs*eq2_result_c_conj.lhs/eq2_result_c_conj.rhs).simplify()\n",
    "eq2_result_c_2omega1_shift_conj"
   ]
  },
  {
   "cell_type": "code",
   "execution_count": 186,
   "metadata": {},
   "outputs": [
    {
     "data": {
      "text/latex": [
       "$\\displaystyle \\operatorname{Ac_{3}}{\\left(2 \\omega_{1} + z \\right)} = \\operatorname{Ac_{3}}{\\left(z \\right)} e^{- 2 \\eta_{1} \\xi_{3} + 2 \\omega_{1} \\operatorname{zw}{\\left(\\xi_{3},g_{2},g_{3} \\right)} - 3 i \\omega_{1}}$"
      ],
      "text/plain": [
       "Eq(Ac3(2*omega1 + z), Ac3(z)*exp(-2*eta1*xi3 + 2*omega1*zw(xi3, g2, g3) - 3*I*omega1))"
      ]
     },
     "execution_count": 186,
     "metadata": {},
     "output_type": "execute_result"
    }
   ],
   "source": [
    "eq3_result_c_2omega1_shift_conj = (eq3_result_c_conj.subs(z,z+2*omega1)\n",
    " .subs(sigma_period_eq_1.lhs.subs(z, z-z0-xi3), sigma_period_eq_1.rhs.subs(z, z-z0-xi3))\n",
    " .subs(sigma_period_eq_1.lhs.subs(z, z-z0), sigma_period_eq_1.rhs.subs(z, z-z0))\n",
    ")\n",
    "eq3_result_c_2omega1_shift_conj = Eq(\n",
    "    eq3_result_c_2omega1_shift_conj.lhs,\n",
    "    eq3_result_c_2omega1_shift_conj.rhs*eq3_result_c_conj.lhs/eq3_result_c_conj.rhs).simplify()\n",
    "eq3_result_c_2omega1_shift_conj"
   ]
  },
  {
   "cell_type": "markdown",
   "metadata": {},
   "source": [
    "## Checks Against Numeric Solutions"
   ]
  },
  {
   "cell_type": "markdown",
   "metadata": {},
   "source": [
    "In this section the validity of the analytic solutions are checked by plotting the solution expressions in terms of Weierstrass Sigma functions (uses Jacobi theta functions under the hood from mpmath), against numerical solutions of the differential equations obtained using the SciPy integrtaion of an initial value problem. Plotting the two approaches on the same graph shows agreement."
   ]
  },
  {
   "cell_type": "code",
   "execution_count": 116,
   "metadata": {},
   "outputs": [],
   "source": [
    "from numpy import linspace, absolute, angle, square, real, imag, conj, array as arraynp, vectorize, concatenate\n",
    "import scipy.integrate\n",
    "import matplotlib.pyplot as plt\n",
    "\n",
    "# The package containing mpmath expressions for Weierstrass elliptic functions\n",
    "from numerical_evaluation.weierstrass_modified import Weierstrass\n",
    "we = Weierstrass()\n",
    "from mpmath import exp as mpexp\n",
    "\n",
    "# %load_ext autoreload\n",
    "# %autoreload 2"
   ]
  },
  {
   "cell_type": "markdown",
   "metadata": {},
   "source": [
    "### Initial Conditions"
   ]
  },
  {
   "cell_type": "code",
   "execution_count": 117,
   "metadata": {},
   "outputs": [],
   "source": [
    "A_0 = [1 + 1j, 2 + 3.2j, 0 + 3j] # initial conditions (initial values)"
   ]
  },
  {
   "cell_type": "markdown",
   "metadata": {},
   "source": [
    "### Analytic Solution Using Weierstrass Sigma Functions"
   ]
  },
  {
   "cell_type": "code",
   "execution_count": 118,
   "metadata": {},
   "outputs": [],
   "source": [
    "def mpc_to_float(mpc_val):\n",
    "    return float(mpc_val.real) + float(mpc_val.imag)*1j\n",
    "\n",
    "mpc_to_float_np = vectorize(mpc_to_float)\n",
    "\n",
    "# The analytic solution\n",
    "def sigma_sol(A0, z0, xi, rho, omegas):\n",
    "    return lambda z: (\n",
    "        A0 * (we.wsigma(-z0, omegas) * we.wsigma(xi + z -z0, omegas) / \n",
    "        (we.wsigma(xi - z0, omegas) * we.wsigma(z - z0, omegas))) *mpexp(z * rho)\n",
    "    )"
   ]
  },
  {
   "cell_type": "code",
   "execution_count": 138,
   "metadata": {},
   "outputs": [],
   "source": [
    "# Calculate values for intermediate constants in terms of initial conditions\n",
    "A_init_subs = [\n",
    "    (A1(z), A_0[0]), (A2(z), A_0[1]), (A3(z), A_0[2]), \n",
    "    (Ac1(z), conj(A_0[0])), (Ac2(z), conj(A_0[1])), (Ac3(z), conj(A_0[2]))\n",
    "]\n",
    "A0_init_subs = [(x[0].subs(z,0), x[1]) for x in A_init_subs]\n",
    "Pval_ = float(Pval.subs(A_init_subs).expand())\n",
    "Qval_ = float(Qval.subs(A_init_subs).expand())\n",
    "Kval_ = float(Kval.subs(A_init_subs).expand())\n",
    "PQK_val_subs = [(P, Pval_), (Q, Qval_), (K, Kval_)]\n",
    "p1val_ = float(p1val.subs(PQK_val_subs))\n",
    "p2val_ = float(p2val.subs(PQK_val_subs))\n",
    "p3val_ = float(p3val.subs(PQK_val_subs))\n",
    "p_subs = [(p1, p1val_), (p2, p2val_), (p3, p3val_)]\n",
    "# Calculate values for elliptic invariants in terms of initial conditions\n",
    "g2val_ = float(g2val.subs(PQK_val_subs))\n",
    "g3val_ = float(g3val.subs(PQK_val_subs))\n",
    "# Calculate lattice of elliptic functions (half-periods) in terms of initial conditions\n",
    "omega_ = we.omega_from_g(g2val_, g3val_)\n",
    "omega1_ = mpc_to_float(omega[0])\n",
    "omega2_ = mpc_to_float(omega[1])\n",
    "if im(omega2_/omega1_) <= 0:\n",
    "    omega2_ = -omega2_\n",
    "omegas = (omega1_, omega2_)  \n",
    "# Calculate complex constants in the z plane in terms of initial conditions via inverse Weierstrass P (elliptic integral)\n",
    "xi1val_ = mpc_to_float(we.invwp(xi1_p1.rhs.subs(p_subs), omegas, w_prime=eq_pwp_xi1.rhs.subs(p_subs)))\n",
    "xi2val_ = mpc_to_float(we.invwp(xi2_p2.rhs.subs(p_subs), omegas, w_prime=eq_pwp_xi2.rhs.subs(p_subs)))\n",
    "xi3val_ = mpc_to_float(we.invwp(xi3_p1_p2.rhs.subs(p_subs), omegas, w_prime=eq_pwp_xi3.rhs.subs(p_subs)))\n",
    "wz0 = pw_z0_eq.rhs.subs(A0_init_subs).subs(p_subs).expand()\n",
    "wz0p = pwp_z0_eq.rhs.subs(A0_init_subs).subs(p_subs).expand()\n",
    "z0val_ = mpc_to_float(we.invwp(wz0, omegas, wz0p))\n",
    "# Calculate constants dependant on Weierstrass Zeta\n",
    "zw_xi1val_ = mpc_to_float(we.wzeta(xi1val_, omegas))\n",
    "zw_xi2val_ = mpc_to_float(we.wzeta(xi2val_, omegas))\n",
    "zw_xi3val_ = mpc_to_float(we.wzeta(xi3val_, omegas))\n",
    "rho1val_ = -zw_xi1val_ + 1j/2\n",
    "rho2val_ = -zw_xi2val_ + 1j/2\n",
    "rho3val_ = -zw_xi3val_ + 3j/2\n",
    "\n",
    "# Setup z array to evaluate over based on 2 complete periods (4 * omega1)\n",
    "z_end = abs(4 * omega1)\n",
    "n_points_z = 200\n",
    "z_eval = linspace(0, z_end, n_points_z) # evaluate integral from z = 0-10 for 50 points\n",
    "\n",
    "# Complex valued analytic vector solution (numeric evaluation)\n",
    "A_sol_mpmath = arraynp([\n",
    "    mpc_to_float_np(vectorize(sigma_sol(A_0[0], z0val_, xi1val_, rho1val_, omegas))(z_eval)),\n",
    "    mpc_to_float_np(vectorize(sigma_sol(A_0[1], z0val_, xi2val_, rho2val_, omegas))(z_eval)),\n",
    "    mpc_to_float_np(vectorize(sigma_sol(A_0[2], z0val_, xi3val_, rho3val_, omegas))(z_eval))\n",
    "])"
   ]
  },
  {
   "cell_type": "code",
   "execution_count": 326,
   "metadata": {},
   "outputs": [
    {
     "data": {
      "text/plain": [
       "mpc(real='-3.8857805861880479e-15', imag='-9.9920072216264089e-16')"
      ]
     },
     "execution_count": 326,
     "metadata": {},
     "output_type": "execute_result"
    }
   ],
   "source": [
    "xi1val_ + xi2val_ - xi3val_ + (2*omega1_+2*omega_[2])"
   ]
  },
  {
   "cell_type": "markdown",
   "metadata": {},
   "source": [
    "### Numeric Solution Using SciPy"
   ]
  },
  {
   "cell_type": "code",
   "execution_count": 139,
   "metadata": {},
   "outputs": [],
   "source": [
    "hr = symbols('hr:3') # real valued functions\n",
    "hi = symbols('hi:3') # real valued functions\n",
    "h_ri = hr + hi # real valued functions\n",
    "h_subs = [\n",
    "    (A1(z), hr[0] + I*hi[0]), (A2(z), hr[1] + I*hi[1]), (A3(z), hr[2] + I*hi[2]), \n",
    "    (Ac1(z), hr[0] - I*hi[0]), (Ac2(z), hr[1] - I*hi[1]), (Ac3(z), hr[2] - I*hi[2])\n",
    "]\n",
    "\n",
    "A_dot = [A1p, A2p, A3p] # complex valued funtions\n",
    "A_dot_r = [eq_.subs(h_subs).expand().subs(I,0) for eq_ in A_dot]\n",
    "A_dot_i = [(-I*eq_.subs(h_subs)).expand().subs(I,0) for eq_ in A_dot]\n",
    "\n",
    "h_ri_dot = A_dot_r + A_dot_i # real valued functions\n",
    "\n",
    "f_ = lambdify((z, h_ri), h_ri_dot)\n",
    "\n",
    "# initial conditions (initial values)\n",
    "h_ri0 = [\n",
    "    real(A_0[0]), real(A_0[1]), real(A_0[2]), imag(A_0[0]), imag(A_0[1]), imag(A_0[2])\n",
    "]\n",
    "# Call SciPy's ODE initial value problem solver solve_ivp by passing it\n",
    "#   the function f_,\n",
    "#   the interval of integration,\n",
    "#   the initial state, and\n",
    "#   the arguments to pass to the function f (if any)\n",
    "solution = scipy.integrate.solve_ivp(f_, (0, z_end), h_ri0, t_eval=z_eval)\n",
    "h_ri_sol = solution.y\n",
    "\n",
    "# complex valued numeric vector solution\n",
    "A_sol_scipy = h_ri_sol[0:3] + 1j * h_ri_sol[3:6]"
   ]
  },
  {
   "cell_type": "markdown",
   "metadata": {},
   "source": [
    "### Comparing the numeric and analytic solutions for validation"
   ]
  },
  {
   "cell_type": "code",
   "execution_count": 140,
   "metadata": {},
   "outputs": [
    {
     "data": {
      "image/png": "[encoded data removed]",
      "text/plain": [
       "<Figure size 1152x432 with 1 Axes>"
      ]
     },
     "metadata": {
      "needs_background": "light"
     },
     "output_type": "display_data"
    }
   ],
   "source": [
    "fig = plt.figure(figsize=(16, 6))\n",
    "plt.plot(z_eval, square(absolute(A_sol_mpmath.T)), linestyle=\"solid\", linewidth=4) \n",
    "plt.plot(z_eval, square(absolute(A_sol_scipy.T)), linestyle=\"dashed\", linewidth=4) \n",
    "plt.legend(['abs(A1)**2 mpmath', 'abs(A2)**2 mpmath', 'abs(A3)**2 mpmath',\n",
    "           'abs(A1)**2 scipy', 'abs(A2)**2 scipy', 'abs(A3)**2 scipy'], shadow=True) \n",
    "plt.ylabel('Absolute Value')\n",
    "plt.xlabel('z')\n",
    "plt.show()"
   ]
  },
  {
   "cell_type": "code",
   "execution_count": 141,
   "metadata": {},
   "outputs": [
    {
     "data": {
      "image/png": "[encoded data removed]",
      "text/plain": [
       "<Figure size 1152x432 with 1 Axes>"
      ]
     },
     "metadata": {
      "needs_background": "light"
     },
     "output_type": "display_data"
    }
   ],
   "source": [
    "fig = plt.figure(figsize=(16, 6))\n",
    "plt.plot(z_eval, angle(A_sol_mpmath.T), linestyle=\"solid\", linewidth=4) \n",
    "plt.plot(z_eval, angle(A_sol_scipy.T), linestyle=\"dashed\", linewidth=4) \n",
    "plt.legend(['phi1 mpmath', 'phi2 mpmath', 'phi3 mpmath',\n",
    "           'phi1 scipy', 'phi2 scipy', 'phi3 scipy'], shadow=True) \n",
    "plt.ylabel('Phase (Radians)')\n",
    "plt.xlabel('z')\n",
    "plt.show()"
   ]
  },
  {
   "cell_type": "markdown",
   "metadata": {},
   "source": [
    "## Conservation of K, quasi periodicity, and congruent points"
   ]
  },
  {
   "cell_type": "markdown",
   "metadata": {},
   "source": [
    "By the equations of motion, the following equation is constant for all z:"
   ]
  },
  {
   "cell_type": "code",
   "execution_count": 187,
   "metadata": {
    "scrolled": false
   },
   "outputs": [
    {
     "data": {
      "text/latex": [
       "$\\displaystyle K = \\operatorname{A_{1}}{\\left(z \\right)} \\operatorname{A_{2}}{\\left(z \\right)} \\operatorname{Ac_{3}}{\\left(z \\right)} + \\operatorname{A_{1}}{\\left(z \\right)} \\operatorname{Ac_{1}}{\\left(z \\right)} + \\operatorname{A_{2}}{\\left(z \\right)} \\operatorname{Ac_{2}}{\\left(z \\right)} + \\operatorname{A_{3}}{\\left(z \\right)} \\operatorname{Ac_{1}}{\\left(z \\right)} \\operatorname{Ac_{2}}{\\left(z \\right)} + \\frac{\\operatorname{A_{3}}{\\left(z \\right)} \\operatorname{Ac_{3}}{\\left(z \\right)}}{2}$"
      ],
      "text/plain": [
       "Eq(K, A1(z)*A2(z)*Ac3(z) + A1(z)*Ac1(z) + A2(z)*Ac2(z) + A3(z)*Ac1(z)*Ac2(z) + A3(z)*Ac3(z)/2)"
      ]
     },
     "execution_count": 187,
     "metadata": {},
     "output_type": "execute_result"
    }
   ],
   "source": [
    "Kval_eq"
   ]
  },
  {
   "cell_type": "markdown",
   "metadata": {},
   "source": [
    "Thus after shifting z by $2\\omega_1$ the value is unchanged:"
   ]
  },
  {
   "cell_type": "code",
   "execution_count": 188,
   "metadata": {
    "scrolled": true
   },
   "outputs": [
    {
     "data": {
      "text/latex": [
       "$\\displaystyle K = \\operatorname{A_{1}}{\\left(2 \\omega_{1} + z \\right)} \\operatorname{A_{2}}{\\left(2 \\omega_{1} + z \\right)} \\operatorname{Ac_{3}}{\\left(2 \\omega_{1} + z \\right)} + \\operatorname{A_{1}}{\\left(2 \\omega_{1} + z \\right)} \\operatorname{Ac_{1}}{\\left(2 \\omega_{1} + z \\right)} + \\operatorname{A_{2}}{\\left(2 \\omega_{1} + z \\right)} \\operatorname{Ac_{2}}{\\left(2 \\omega_{1} + z \\right)} + \\operatorname{A_{3}}{\\left(2 \\omega_{1} + z \\right)} \\operatorname{Ac_{1}}{\\left(2 \\omega_{1} + z \\right)} \\operatorname{Ac_{2}}{\\left(2 \\omega_{1} + z \\right)} + \\frac{\\operatorname{A_{3}}{\\left(2 \\omega_{1} + z \\right)} \\operatorname{Ac_{3}}{\\left(2 \\omega_{1} + z \\right)}}{2}$"
      ],
      "text/plain": [
       "Eq(K, A1(2*omega1 + z)*A2(2*omega1 + z)*Ac3(2*omega1 + z) + A1(2*omega1 + z)*Ac1(2*omega1 + z) + A2(2*omega1 + z)*Ac2(2*omega1 + z) + A3(2*omega1 + z)*Ac1(2*omega1 + z)*Ac2(2*omega1 + z) + A3(2*omega1 + z)*Ac3(2*omega1 + z)/2)"
      ]
     },
     "execution_count": 188,
     "metadata": {},
     "output_type": "execute_result"
    }
   ],
   "source": [
    "Kval_eq.subs(z,z+2*omega1)"
   ]
  },
  {
   "cell_type": "markdown",
   "metadata": {},
   "source": [
    "and by the quasi periodicity expressions for the modes this is equivalent to:"
   ]
  },
  {
   "cell_type": "code",
   "execution_count": 193,
   "metadata": {
    "scrolled": true
   },
   "outputs": [
    {
     "data": {
      "text/latex": [
       "$\\displaystyle K = \\operatorname{A_{1}}{\\left(z \\right)} \\operatorname{A_{2}}{\\left(z \\right)} \\operatorname{Ac_{3}}{\\left(z \\right)} e^{2 \\eta_{1} \\xi_{1} + 2 \\eta_{1} \\xi_{2} - 2 \\eta_{1} \\xi_{3} - 2 \\omega_{1} \\operatorname{zw}{\\left(\\xi_{1},g_{2},g_{3} \\right)} - 2 \\omega_{1} \\operatorname{zw}{\\left(\\xi_{2},g_{2},g_{3} \\right)} + 2 \\omega_{1} \\operatorname{zw}{\\left(\\xi_{3},g_{2},g_{3} \\right)} - i \\omega_{1}} + \\operatorname{A_{1}}{\\left(z \\right)} \\operatorname{Ac_{1}}{\\left(z \\right)} + \\operatorname{A_{2}}{\\left(z \\right)} \\operatorname{Ac_{2}}{\\left(z \\right)} + \\operatorname{A_{3}}{\\left(z \\right)} \\operatorname{Ac_{1}}{\\left(z \\right)} \\operatorname{Ac_{2}}{\\left(z \\right)} e^{- 2 \\eta_{1} \\xi_{1} - 2 \\eta_{1} \\xi_{2} + 2 \\eta_{1} \\xi_{3} + 2 \\omega_{1} \\operatorname{zw}{\\left(\\xi_{1},g_{2},g_{3} \\right)} + 2 \\omega_{1} \\operatorname{zw}{\\left(\\xi_{2},g_{2},g_{3} \\right)} - 2 \\omega_{1} \\operatorname{zw}{\\left(\\xi_{3},g_{2},g_{3} \\right)} + i \\omega_{1}} + \\frac{\\operatorname{A_{3}}{\\left(z \\right)} \\operatorname{Ac_{3}}{\\left(z \\right)}}{2}$"
      ],
      "text/plain": [
       "Eq(K, A1(z)*A2(z)*Ac3(z)*exp(2*eta1*xi1 + 2*eta1*xi2 - 2*eta1*xi3 - 2*omega1*zw(xi1, g2, g3) - 2*omega1*zw(xi2, g2, g3) + 2*omega1*zw(xi3, g2, g3) - I*omega1) + A1(z)*Ac1(z) + A2(z)*Ac2(z) + A3(z)*Ac1(z)*Ac2(z)*exp(-2*eta1*xi1 - 2*eta1*xi2 + 2*eta1*xi3 + 2*omega1*zw(xi1, g2, g3) + 2*omega1*zw(xi2, g2, g3) - 2*omega1*zw(xi3, g2, g3) + I*omega1) + A3(z)*Ac3(z)/2)"
      ]
     },
     "execution_count": 193,
     "metadata": {},
     "output_type": "execute_result"
    }
   ],
   "source": [
    "Kval_eq_2omega1_shift = Kval_eq.subs(z,z+2*omega1).subs([\n",
    "    (eq1_result_c_2omega1_shift.lhs, eq1_result_c_2omega1_shift.rhs), \n",
    "    (eq2_result_c_2omega1_shift.lhs, eq2_result_c_2omega1_shift.rhs), \n",
    "    (eq3_result_c_2omega1_shift.lhs, eq3_result_c_2omega1_shift.rhs), \n",
    "    (eq1_result_c_2omega1_shift_conj.lhs, eq1_result_c_2omega1_shift_conj.rhs), \n",
    "    (eq2_result_c_2omega1_shift_conj.lhs, eq2_result_c_2omega1_shift_conj.rhs), \n",
    "    (eq3_result_c_2omega1_shift_conj.lhs, eq3_result_c_2omega1_shift_conj.rhs)\n",
    "]).simplify()\n",
    "Kval_eq_2omega1_shift"
   ]
  },
  {
   "cell_type": "markdown",
   "metadata": {},
   "source": [
    "Thus, subtracting the shifted from the unshifted K indicates that:"
   ]
  },
  {
   "cell_type": "code",
   "execution_count": 297,
   "metadata": {},
   "outputs": [
    {
     "data": {
      "text/latex": [
       "$\\displaystyle 0 = \\left(1 - e^{- 2 \\eta_{1} \\xi_{1} - 2 \\eta_{1} \\xi_{2} + 2 \\eta_{1} \\xi_{3} + 2 \\omega_{1} \\operatorname{zw}{\\left(\\xi_{1},g_{2},g_{3} \\right)} + 2 \\omega_{1} \\operatorname{zw}{\\left(\\xi_{2},g_{2},g_{3} \\right)} - 2 \\omega_{1} \\operatorname{zw}{\\left(\\xi_{3},g_{2},g_{3} \\right)} + i \\omega_{1}}\\right) \\operatorname{A_{3}}{\\left(z \\right)} \\operatorname{Ac_{1}}{\\left(z \\right)} \\operatorname{Ac_{2}}{\\left(z \\right)} + \\left(1 - e^{2 \\eta_{1} \\xi_{1} + 2 \\eta_{1} \\xi_{2} - 2 \\eta_{1} \\xi_{3} - 2 \\omega_{1} \\operatorname{zw}{\\left(\\xi_{1},g_{2},g_{3} \\right)} - 2 \\omega_{1} \\operatorname{zw}{\\left(\\xi_{2},g_{2},g_{3} \\right)} + 2 \\omega_{1} \\operatorname{zw}{\\left(\\xi_{3},g_{2},g_{3} \\right)} - i \\omega_{1}}\\right) \\operatorname{A_{1}}{\\left(z \\right)} \\operatorname{A_{2}}{\\left(z \\right)} \\operatorname{Ac_{3}}{\\left(z \\right)}$"
      ],
      "text/plain": [
       "Eq(0, (1 - exp(-2*eta1*xi1 - 2*eta1*xi2 + 2*eta1*xi3 + 2*omega1*zw(xi1, g2, g3) + 2*omega1*zw(xi2, g2, g3) - 2*omega1*zw(xi3, g2, g3) + I*omega1))*A3(z)*Ac1(z)*Ac2(z) + (1 - exp(2*eta1*xi1 + 2*eta1*xi2 - 2*eta1*xi3 - 2*omega1*zw(xi1, g2, g3) - 2*omega1*zw(xi2, g2, g3) + 2*omega1*zw(xi3, g2, g3) - I*omega1))*A1(z)*A2(z)*Ac3(z))"
      ]
     },
     "execution_count": 297,
     "metadata": {},
     "output_type": "execute_result"
    }
   ],
   "source": [
    "eta_K_eq = Eq(Kval_eq.lhs - Kval_eq_2omega1_shift.lhs, \n",
    "   (Kval_eq.rhs - Kval_eq_2omega1_shift.rhs).collect([A1(z)*A2(z)*Ac3(z), Ac1(z)*Ac2(z)*A3(z)])\n",
    "  )\n",
    "eta_K_eq"
   ]
  },
  {
   "cell_type": "code",
   "execution_count": 405,
   "metadata": {},
   "outputs": [],
   "source": [
    "eta_phase_eq = (factor(2*eta1*xi1 + 2*eta1*xi2 - 2*eta1*xi3) +  \n",
    "      factor(- 2*omega1*zw(xi1, g2, g3) - 2*omega1*zw(xi2, g2, g3) + 2*omega1*zw(xi3, g2, g3)) - I*omega1\n",
    "     )"
   ]
  },
  {
   "cell_type": "markdown",
   "metadata": {},
   "source": [
    "but by the congruence relations between $\\xi_1,\\xi_2,\\xi_3$:"
   ]
  },
  {
   "cell_type": "code",
   "execution_count": 382,
   "metadata": {},
   "outputs": [
    {
     "data": {
      "text/latex": [
       "$\\displaystyle \\operatorname{zw}{\\left(\\xi_{1},g_{2},g_{3} \\right)} + \\operatorname{zw}{\\left(\\xi_{2},g_{2},g_{3} \\right)} - \\operatorname{zw}{\\left(\\xi_{3},g_{2},g_{3} \\right)} = 2 \\eta_{1} n + 2 \\eta_{3} m - \\frac{i}{2}$"
      ],
      "text/plain": [
       "Eq(zw(xi1, g2, g3) + zw(xi2, g2, g3) - zw(xi3, g2, g3), 2*eta1*n + 2*eta3*m - I/2)"
      ]
     },
     "execution_count": 382,
     "metadata": {},
     "output_type": "execute_result"
    }
   ],
   "source": [
    "eta_1_3_terms = 2*eta1*n+2*eta3*m\n",
    "zw_xi_1_2_3_eta_1_3 = Eq(zw_xi1_xi2_xi3_eq.lhs + eta_1_3_terms,zw_xi1_xi2_xi3_eq.rhs + eta_1_3_terms)\n",
    "zw_xi_1_2_3_eta_1_3"
   ]
  },
  {
   "cell_type": "code",
   "execution_count": 381,
   "metadata": {},
   "outputs": [
    {
     "data": {
      "text/latex": [
       "$\\displaystyle 2 m \\omega_{3} + 2 n \\omega_{1} + \\xi_{3} = \\xi_{1} + \\xi_{2}$"
      ],
      "text/plain": [
       "Eq(2*m*omega3 + 2*n*omega1 + xi3, xi1 + xi2)"
      ]
     },
     "execution_count": 381,
     "metadata": {},
     "output_type": "execute_result"
    }
   ],
   "source": [
    "xi_3_congruence_eq"
   ]
  },
  {
   "cell_type": "code",
   "execution_count": 390,
   "metadata": {},
   "outputs": [
    {
     "data": {
      "text/latex": [
       "$\\displaystyle 2 \\eta_{1} \\left(\\xi_{1} + \\xi_{2} - \\xi_{3}\\right) - 2 \\omega_{1} \\left(\\operatorname{zw}{\\left(\\xi_{1},g_{2},g_{3} \\right)} + \\operatorname{zw}{\\left(\\xi_{2},g_{2},g_{3} \\right)} - \\operatorname{zw}{\\left(\\xi_{3},g_{2},g_{3} \\right)}\\right) - i \\omega_{1} = 4 m \\left(\\eta_{1} \\omega_{3} - \\eta_{3} \\omega_{1}\\right)$"
      ],
      "text/plain": [
       "Eq(2*eta1*(xi1 + xi2 - xi3) - 2*omega1*(zw(xi1, g2, g3) + zw(xi2, g2, g3) - zw(xi3, g2, g3)) - I*omega1, 4*m*(eta1*omega3 - eta3*omega1))"
      ]
     },
     "execution_count": 390,
     "metadata": {},
     "output_type": "execute_result"
    }
   ],
   "source": [
    "eta_phase_eq_eta_omega_id = Eq(eta_phase_eq,\n",
    "eta_phase_eq.subs(zw_xi_1_2_3_eta_1_3.lhs, zw_xi_1_2_3_eta_1_3.rhs).subs(xi3, solve(xi_3_congruence_eq,xi3)[0]).simplify()\n",
    "  )\n",
    "eta_phase_eq_eta_omega_id"
   ]
  },
  {
   "cell_type": "markdown",
   "metadata": {},
   "source": [
    "and the following known identity:\n",
    "https://dlmf.nist.gov/23.2"
   ]
  },
  {
   "cell_type": "code",
   "execution_count": 389,
   "metadata": {},
   "outputs": [
    {
     "data": {
      "text/latex": [
       "$\\displaystyle \\eta_{1} \\omega_{3} - \\eta_{3} \\omega_{1} = \\frac{i \\pi}{2}$"
      ],
      "text/plain": [
       "Eq(eta1*omega3 - eta3*omega1, I*pi/2)"
      ]
     },
     "execution_count": 389,
     "metadata": {},
     "output_type": "execute_result"
    }
   ],
   "source": [
    "eta_omega_id = Eq(eta1*omega3 - eta3*omega1, I*pi/2)\n",
    "eta_omega_id"
   ]
  },
  {
   "cell_type": "markdown",
   "metadata": {},
   "source": [
    "it is seen that:"
   ]
  },
  {
   "cell_type": "code",
   "execution_count": 392,
   "metadata": {},
   "outputs": [
    {
     "data": {
      "text/latex": [
       "$\\displaystyle 2 \\eta_{1} \\left(\\xi_{1} + \\xi_{2} - \\xi_{3}\\right) - 2 \\omega_{1} \\left(\\operatorname{zw}{\\left(\\xi_{1},g_{2},g_{3} \\right)} + \\operatorname{zw}{\\left(\\xi_{2},g_{2},g_{3} \\right)} - \\operatorname{zw}{\\left(\\xi_{3},g_{2},g_{3} \\right)}\\right) - i \\omega_{1} = 2 i \\pi m$"
      ],
      "text/plain": [
       "Eq(2*eta1*(xi1 + xi2 - xi3) - 2*omega1*(zw(xi1, g2, g3) + zw(xi2, g2, g3) - zw(xi3, g2, g3)) - I*omega1, 2*I*pi*m)"
      ]
     },
     "execution_count": 392,
     "metadata": {},
     "output_type": "execute_result"
    }
   ],
   "source": [
    "eta_phase_2pi_m_eq = eta_phase_eq_eta_omega_id.subs(eta_omega_id.lhs, eta_omega_id.rhs)\n",
    "eta_phase_2pi_m_eq"
   ]
  },
  {
   "cell_type": "code",
   "execution_count": 393,
   "metadata": {},
   "outputs": [
    {
     "data": {
      "text/latex": [
       "$\\displaystyle e^{2 \\eta_{1} \\left(\\xi_{1} + \\xi_{2} - \\xi_{3}\\right) - 2 \\omega_{1} \\left(\\operatorname{zw}{\\left(\\xi_{1},g_{2},g_{3} \\right)} + \\operatorname{zw}{\\left(\\xi_{2},g_{2},g_{3} \\right)} - \\operatorname{zw}{\\left(\\xi_{3},g_{2},g_{3} \\right)}\\right) - i \\omega_{1}} = 1$"
      ],
      "text/plain": [
       "Eq(exp(2*eta1*(xi1 + xi2 - xi3) - 2*omega1*(zw(xi1, g2, g3) + zw(xi2, g2, g3) - zw(xi3, g2, g3)) - I*omega1), 1)"
      ]
     },
     "execution_count": 393,
     "metadata": {},
     "output_type": "execute_result"
    }
   ],
   "source": [
    "Eq(exp(eta_phase_2pi_m_eq.lhs),1)"
   ]
  },
  {
   "cell_type": "markdown",
   "metadata": {},
   "source": [
    "and thus the conservation of K (Hamiltonian) further validates the congruence relationship between $\\xi_1,\\xi_2,\\xi_3$ and the quasi periodicty relations for the modes."
   ]
  },
  {
   "cell_type": "markdown",
   "metadata": {},
   "source": [
    "## Conservation of K as an identity in sigma"
   ]
  },
  {
   "cell_type": "code",
   "execution_count": 123,
   "metadata": {},
   "outputs": [],
   "source": [
    "A_sigma_subs = [\n",
    "    (eq1_result_c.lhs, eq1_result_c.rhs), (eq2_result_c.lhs, eq2_result_c.rhs), (eq3_result_c.lhs, eq3_result_c.rhs),\n",
    "    (eq1_result_c_conj.lhs, eq1_result_c_conj.rhs), (eq2_result_c_conj.lhs, eq2_result_c_conj.rhs), \n",
    "    (eq3_result_c_conj.lhs, eq3_result_c_conj.rhs)\n",
    "]"
   ]
  },
  {
   "cell_type": "code",
   "execution_count": 124,
   "metadata": {},
   "outputs": [
    {
     "data": {
      "text/latex": [
       "$\\displaystyle K = - \\frac{c_{1} c_{2} \\sigma{\\left(\\xi_{1} + z - z_{0},g_{2},g_{3} \\right)} \\sigma{\\left(\\xi_{2} + z - z_{0},g_{2},g_{3} \\right)} \\sigma{\\left(- \\xi_{3} + z - z_{0},g_{2},g_{3} \\right)} e^{- \\frac{i z}{2}} e^{- z \\operatorname{zw}{\\left(\\xi_{1},g_{2},g_{3} \\right)}} e^{- z \\operatorname{zw}{\\left(\\xi_{2},g_{2},g_{3} \\right)}} e^{z \\operatorname{zw}{\\left(\\xi_{3},g_{2},g_{3} \\right)}}}{c_{3} \\sigma^{2}{\\left(\\xi_{3},g_{2},g_{3} \\right)} \\sigma^{3}{\\left(z - z_{0},g_{2},g_{3} \\right)}} - \\frac{\\sigma{\\left(- \\xi_{3} + z - z_{0},g_{2},g_{3} \\right)} \\sigma{\\left(\\xi_{3} + z - z_{0},g_{2},g_{3} \\right)}}{2 \\sigma^{2}{\\left(\\xi_{3},g_{2},g_{3} \\right)} \\sigma^{2}{\\left(z - z_{0},g_{2},g_{3} \\right)}} + \\frac{\\sigma{\\left(- \\xi_{2} + z - z_{0},g_{2},g_{3} \\right)} \\sigma{\\left(\\xi_{2} + z - z_{0},g_{2},g_{3} \\right)}}{2 \\sigma^{2}{\\left(\\xi_{2},g_{2},g_{3} \\right)} \\sigma^{2}{\\left(z - z_{0},g_{2},g_{3} \\right)}} + \\frac{\\sigma{\\left(- \\xi_{1} + z - z_{0},g_{2},g_{3} \\right)} \\sigma{\\left(\\xi_{1} + z - z_{0},g_{2},g_{3} \\right)}}{2 \\sigma^{2}{\\left(\\xi_{1},g_{2},g_{3} \\right)} \\sigma^{2}{\\left(z - z_{0},g_{2},g_{3} \\right)}} + \\frac{c_{3} \\sigma{\\left(- \\xi_{1} + z - z_{0},g_{2},g_{3} \\right)} \\sigma{\\left(- \\xi_{2} + z - z_{0},g_{2},g_{3} \\right)} \\sigma{\\left(\\xi_{3} + z - z_{0},g_{2},g_{3} \\right)} e^{\\frac{i z}{2}} e^{z \\operatorname{zw}{\\left(\\xi_{1},g_{2},g_{3} \\right)}} e^{z \\operatorname{zw}{\\left(\\xi_{2},g_{2},g_{3} \\right)}} e^{- z \\operatorname{zw}{\\left(\\xi_{3},g_{2},g_{3} \\right)}}}{4 c_{1} c_{2} \\sigma^{2}{\\left(\\xi_{1},g_{2},g_{3} \\right)} \\sigma^{2}{\\left(\\xi_{2},g_{2},g_{3} \\right)} \\sigma^{3}{\\left(z - z_{0},g_{2},g_{3} \\right)}}$"
      ],
      "text/plain": [
       "Eq(K, -c1*c2*sigma(xi1 + z - z0, g2, g3)*sigma(xi2 + z - z0, g2, g3)*sigma(-xi3 + z - z0, g2, g3)*exp(-I*z/2)*exp(-z*zw(xi1, g2, g3))*exp(-z*zw(xi2, g2, g3))*exp(z*zw(xi3, g2, g3))/(c3*sigma(xi3, g2, g3)**2*sigma(z - z0, g2, g3)**3) - sigma(-xi3 + z - z0, g2, g3)*sigma(xi3 + z - z0, g2, g3)/(2*sigma(xi3, g2, g3)**2*sigma(z - z0, g2, g3)**2) + sigma(-xi2 + z - z0, g2, g3)*sigma(xi2 + z - z0, g2, g3)/(2*sigma(xi2, g2, g3)**2*sigma(z - z0, g2, g3)**2) + sigma(-xi1 + z - z0, g2, g3)*sigma(xi1 + z - z0, g2, g3)/(2*sigma(xi1, g2, g3)**2*sigma(z - z0, g2, g3)**2) + c3*sigma(-xi1 + z - z0, g2, g3)*sigma(-xi2 + z - z0, g2, g3)*sigma(xi3 + z - z0, g2, g3)*exp(I*z/2)*exp(z*zw(xi1, g2, g3))*exp(z*zw(xi2, g2, g3))*exp(-z*zw(xi3, g2, g3))/(4*c1*c2*sigma(xi1, g2, g3)**2*sigma(xi2, g2, g3)**2*sigma(z - z0, g2, g3)**3))"
      ]
     },
     "execution_count": 124,
     "metadata": {},
     "output_type": "execute_result"
    }
   ],
   "source": [
    "K_sigma_id_1 = Kval_eq.subs(A_sigma_subs).simplify().expand()\n",
    "K_sigma_id_1"
   ]
  },
  {
   "cell_type": "code",
   "execution_count": 125,
   "metadata": {},
   "outputs": [
    {
     "data": {
      "text/latex": [
       "$\\displaystyle K - \\frac{\\operatorname{pw}{\\left(\\xi_{1},g_{2},g_{3} \\right)}}{2} - \\frac{\\operatorname{pw}{\\left(\\xi_{2},g_{2},g_{3} \\right)}}{2} + \\frac{\\operatorname{pw}{\\left(\\xi_{3},g_{2},g_{3} \\right)}}{2} + \\frac{\\operatorname{pw}{\\left(z - z_{0},g_{2},g_{3} \\right)}}{2} = - \\frac{c_{1} c_{2} \\sigma{\\left(\\xi_{1} + z - z_{0},g_{2},g_{3} \\right)} \\sigma{\\left(\\xi_{2} + z - z_{0},g_{2},g_{3} \\right)} \\sigma{\\left(- \\xi_{3} + z - z_{0},g_{2},g_{3} \\right)} e^{- \\frac{i z}{2}} e^{- z \\operatorname{zw}{\\left(\\xi_{1},g_{2},g_{3} \\right)}} e^{- z \\operatorname{zw}{\\left(\\xi_{2},g_{2},g_{3} \\right)}} e^{z \\operatorname{zw}{\\left(\\xi_{3},g_{2},g_{3} \\right)}}}{c_{3} \\sigma^{2}{\\left(\\xi_{3},g_{2},g_{3} \\right)} \\sigma^{3}{\\left(z - z_{0},g_{2},g_{3} \\right)}} + \\frac{c_{3} \\sigma{\\left(- \\xi_{1} + z - z_{0},g_{2},g_{3} \\right)} \\sigma{\\left(- \\xi_{2} + z - z_{0},g_{2},g_{3} \\right)} \\sigma{\\left(\\xi_{3} + z - z_{0},g_{2},g_{3} \\right)} e^{\\frac{i z}{2}} e^{z \\operatorname{zw}{\\left(\\xi_{1},g_{2},g_{3} \\right)}} e^{z \\operatorname{zw}{\\left(\\xi_{2},g_{2},g_{3} \\right)}} e^{- z \\operatorname{zw}{\\left(\\xi_{3},g_{2},g_{3} \\right)}}}{4 c_{1} c_{2} \\sigma^{2}{\\left(\\xi_{1},g_{2},g_{3} \\right)} \\sigma^{2}{\\left(\\xi_{2},g_{2},g_{3} \\right)} \\sigma^{3}{\\left(z - z_{0},g_{2},g_{3} \\right)}}$"
      ],
      "text/plain": [
       "Eq(K - pw(xi1, g2, g3)/2 - pw(xi2, g2, g3)/2 + pw(xi3, g2, g3)/2 + pw(z - z0, g2, g3)/2, -c1*c2*sigma(xi1 + z - z0, g2, g3)*sigma(xi2 + z - z0, g2, g3)*sigma(-xi3 + z - z0, g2, g3)*exp(-I*z/2)*exp(-z*zw(xi1, g2, g3))*exp(-z*zw(xi2, g2, g3))*exp(z*zw(xi3, g2, g3))/(c3*sigma(xi3, g2, g3)**2*sigma(z - z0, g2, g3)**3) + c3*sigma(-xi1 + z - z0, g2, g3)*sigma(-xi2 + z - z0, g2, g3)*sigma(xi3 + z - z0, g2, g3)*exp(I*z/2)*exp(z*zw(xi1, g2, g3))*exp(z*zw(xi2, g2, g3))*exp(-z*zw(xi3, g2, g3))/(4*c1*c2*sigma(xi1, g2, g3)**2*sigma(xi2, g2, g3)**2*sigma(z - z0, g2, g3)**3))"
      ]
     },
     "execution_count": 125,
     "metadata": {},
     "output_type": "execute_result"
    }
   ],
   "source": [
    "K_sigma_id_2 = K_sigma_id_1.subs([\n",
    "    (sigma_p_identity.rhs.subs([(x,z-z0),(y,xi1)]),sigma_p_identity.lhs.subs([(x,z-z0),(y,xi1)])),\n",
    "    (sigma_p_identity.rhs.subs([(x,z-z0),(y,xi2)]),sigma_p_identity.lhs.subs([(x,z-z0),(y,xi2)])),\n",
    "    (sigma_p_identity.rhs.subs([(x,z-z0),(y,xi3)]),sigma_p_identity.lhs.subs([(x,z-z0),(y,xi3)]))\n",
    "])\n",
    "pw_terms_in_K_sigma_id_2 = pw(xi1,g2,g3)/2 + pw(xi2,g2,g3)/2 - pw(xi3,g2,g3)/2 - pw(z - z0,g2,g3)/2\n",
    "K_sigma_id_2 = Eq(K_sigma_id_2.lhs - pw_terms_in_K_sigma_id_2, K_sigma_id_2.rhs - pw_terms_in_K_sigma_id_2)\n",
    "K_sigma_id_2"
   ]
  },
  {
   "cell_type": "code",
   "execution_count": 340,
   "metadata": {},
   "outputs": [
    {
     "data": {
      "text/latex": [
       "$\\displaystyle - \\frac{p_{1}}{2} + \\frac{p_{3}}{2} + \\frac{\\operatorname{pw}{\\left(z - z_{0},g_{2},g_{3} \\right)}}{2} = - \\frac{c_{1} c_{2} \\sigma{\\left(\\xi_{1} + z - z_{0},g_{2},g_{3} \\right)} \\sigma{\\left(\\xi_{2} + z - z_{0},g_{2},g_{3} \\right)} \\sigma{\\left(- \\xi_{3} + z - z_{0},g_{2},g_{3} \\right)} e^{- \\frac{i z}{2}} e^{- z \\operatorname{zw}{\\left(\\xi_{1},g_{2},g_{3} \\right)}} e^{- z \\operatorname{zw}{\\left(\\xi_{2},g_{2},g_{3} \\right)}} e^{z \\operatorname{zw}{\\left(\\xi_{3},g_{2},g_{3} \\right)}}}{c_{3} \\sigma^{2}{\\left(\\xi_{3},g_{2},g_{3} \\right)} \\sigma^{3}{\\left(z - z_{0},g_{2},g_{3} \\right)}} + \\frac{c_{3} \\sigma{\\left(- \\xi_{1} + z - z_{0},g_{2},g_{3} \\right)} \\sigma{\\left(- \\xi_{2} + z - z_{0},g_{2},g_{3} \\right)} \\sigma{\\left(\\xi_{3} + z - z_{0},g_{2},g_{3} \\right)} e^{\\frac{i z}{2}} e^{z \\operatorname{zw}{\\left(\\xi_{1},g_{2},g_{3} \\right)}} e^{z \\operatorname{zw}{\\left(\\xi_{2},g_{2},g_{3} \\right)}} e^{- z \\operatorname{zw}{\\left(\\xi_{3},g_{2},g_{3} \\right)}}}{4 c_{1} c_{2} \\sigma^{2}{\\left(\\xi_{1},g_{2},g_{3} \\right)} \\sigma^{2}{\\left(\\xi_{2},g_{2},g_{3} \\right)} \\sigma^{3}{\\left(z - z_{0},g_{2},g_{3} \\right)}}$"
      ],
      "text/plain": [
       "Eq(-p1/2 + p3/2 + pw(z - z0, g2, g3)/2, -c1*c2*sigma(xi1 + z - z0, g2, g3)*sigma(xi2 + z - z0, g2, g3)*sigma(-xi3 + z - z0, g2, g3)*exp(-I*z/2)*exp(-z*zw(xi1, g2, g3))*exp(-z*zw(xi2, g2, g3))*exp(z*zw(xi3, g2, g3))/(c3*sigma(xi3, g2, g3)**2*sigma(z - z0, g2, g3)**3) + c3*sigma(-xi1 + z - z0, g2, g3)*sigma(-xi2 + z - z0, g2, g3)*sigma(xi3 + z - z0, g2, g3)*exp(I*z/2)*exp(z*zw(xi1, g2, g3))*exp(z*zw(xi2, g2, g3))*exp(-z*zw(xi3, g2, g3))/(4*c1*c2*sigma(xi1, g2, g3)**2*sigma(xi2, g2, g3)**2*sigma(z - z0, g2, g3)**3))"
      ]
     },
     "execution_count": 340,
     "metadata": {},
     "output_type": "execute_result"
    }
   ],
   "source": [
    "K_sigma_id_3 = K_sigma_id_2.subs([\n",
    "    (xi1_p1.lhs, xi1_p1.rhs), (xi2_p2.lhs, xi2_p2.rhs), (xi3_p1_p2.lhs, xi3_p1_p2.rhs), (K, K_val_in_p)\n",
    "])\n",
    "K_sigma_id_3"
   ]
  },
  {
   "cell_type": "code",
   "execution_count": 401,
   "metadata": {},
   "outputs": [
    {
     "data": {
      "text/latex": [
       "$\\displaystyle \\frac{\\operatorname{pw}{\\left(\\xi_{4},g_{2},g_{3} \\right)}}{2} = \\frac{p_{1}}{2} - \\frac{p_{3}}{2}$"
      ],
      "text/plain": [
       "Eq(pw(xi4, g2, g3)/2, p1/2 - p3/2)"
      ]
     },
     "execution_count": 401,
     "metadata": {},
     "output_type": "execute_result"
    }
   ],
   "source": [
    "xi4_p2_p3 = Eq(pw(xi4,g2,g3)/2, p1/2 - p3/2)\n",
    "xi4_p2_p3"
   ]
  },
  {
   "cell_type": "code",
   "execution_count": 402,
   "metadata": {
    "scrolled": true
   },
   "outputs": [
    {
     "data": {
      "text/latex": [
       "$\\displaystyle - \\frac{\\operatorname{pw}{\\left(\\xi_{4},g_{2},g_{3} \\right)}}{2} + \\frac{\\operatorname{pw}{\\left(z - z_{0},g_{2},g_{3} \\right)}}{2} = - \\frac{c_{1} c_{2} \\sigma{\\left(\\xi_{1} + z - z_{0},g_{2},g_{3} \\right)} \\sigma{\\left(\\xi_{2} + z - z_{0},g_{2},g_{3} \\right)} \\sigma{\\left(- \\xi_{3} + z - z_{0},g_{2},g_{3} \\right)} e^{- \\frac{i z}{2}} e^{- z \\operatorname{zw}{\\left(\\xi_{1},g_{2},g_{3} \\right)}} e^{- z \\operatorname{zw}{\\left(\\xi_{2},g_{2},g_{3} \\right)}} e^{z \\operatorname{zw}{\\left(\\xi_{3},g_{2},g_{3} \\right)}}}{c_{3} \\sigma^{2}{\\left(\\xi_{3},g_{2},g_{3} \\right)} \\sigma^{3}{\\left(z - z_{0},g_{2},g_{3} \\right)}} + \\frac{c_{3} \\sigma{\\left(- \\xi_{1} + z - z_{0},g_{2},g_{3} \\right)} \\sigma{\\left(- \\xi_{2} + z - z_{0},g_{2},g_{3} \\right)} \\sigma{\\left(\\xi_{3} + z - z_{0},g_{2},g_{3} \\right)} e^{\\frac{i z}{2}} e^{z \\operatorname{zw}{\\left(\\xi_{1},g_{2},g_{3} \\right)}} e^{z \\operatorname{zw}{\\left(\\xi_{2},g_{2},g_{3} \\right)}} e^{- z \\operatorname{zw}{\\left(\\xi_{3},g_{2},g_{3} \\right)}}}{4 c_{1} c_{2} \\sigma^{2}{\\left(\\xi_{1},g_{2},g_{3} \\right)} \\sigma^{2}{\\left(\\xi_{2},g_{2},g_{3} \\right)} \\sigma^{3}{\\left(z - z_{0},g_{2},g_{3} \\right)}}$"
      ],
      "text/plain": [
       "Eq(-pw(xi4, g2, g3)/2 + pw(z - z0, g2, g3)/2, -c1*c2*sigma(xi1 + z - z0, g2, g3)*sigma(xi2 + z - z0, g2, g3)*sigma(-xi3 + z - z0, g2, g3)*exp(-I*z/2)*exp(-z*zw(xi1, g2, g3))*exp(-z*zw(xi2, g2, g3))*exp(z*zw(xi3, g2, g3))/(c3*sigma(xi3, g2, g3)**2*sigma(z - z0, g2, g3)**3) + c3*sigma(-xi1 + z - z0, g2, g3)*sigma(-xi2 + z - z0, g2, g3)*sigma(xi3 + z - z0, g2, g3)*exp(I*z/2)*exp(z*zw(xi1, g2, g3))*exp(z*zw(xi2, g2, g3))*exp(-z*zw(xi3, g2, g3))/(4*c1*c2*sigma(xi1, g2, g3)**2*sigma(xi2, g2, g3)**2*sigma(z - z0, g2, g3)**3))"
      ]
     },
     "execution_count": 402,
     "metadata": {},
     "output_type": "execute_result"
    }
   ],
   "source": [
    "K_sigma_id_4 = K_sigma_id_3.subs(xi4_p2_p3.rhs,xi4_p2_p3.lhs)\n",
    "K_sigma_id_4"
   ]
  },
  {
   "cell_type": "code",
   "execution_count": 403,
   "metadata": {},
   "outputs": [
    {
     "data": {
      "text/latex": [
       "$\\displaystyle \\frac{\\sigma{\\left(\\xi_{4} - z + z_{0},g_{2},g_{3} \\right)} \\sigma{\\left(\\xi_{4} + z - z_{0},g_{2},g_{3} \\right)}}{2 \\sigma^{2}{\\left(\\xi_{4},g_{2},g_{3} \\right)} \\sigma^{2}{\\left(z - z_{0},g_{2},g_{3} \\right)}} = - \\frac{c_{1} c_{2} \\sigma{\\left(\\xi_{1} + z - z_{0},g_{2},g_{3} \\right)} \\sigma{\\left(\\xi_{2} + z - z_{0},g_{2},g_{3} \\right)} \\sigma{\\left(- \\xi_{3} + z - z_{0},g_{2},g_{3} \\right)} e^{- \\frac{i z}{2}} e^{- z \\operatorname{zw}{\\left(\\xi_{1},g_{2},g_{3} \\right)}} e^{- z \\operatorname{zw}{\\left(\\xi_{2},g_{2},g_{3} \\right)}} e^{z \\operatorname{zw}{\\left(\\xi_{3},g_{2},g_{3} \\right)}}}{c_{3} \\sigma^{2}{\\left(\\xi_{3},g_{2},g_{3} \\right)} \\sigma^{3}{\\left(z - z_{0},g_{2},g_{3} \\right)}} + \\frac{c_{3} \\sigma{\\left(- \\xi_{1} + z - z_{0},g_{2},g_{3} \\right)} \\sigma{\\left(- \\xi_{2} + z - z_{0},g_{2},g_{3} \\right)} \\sigma{\\left(\\xi_{3} + z - z_{0},g_{2},g_{3} \\right)} e^{\\frac{i z}{2}} e^{z \\operatorname{zw}{\\left(\\xi_{1},g_{2},g_{3} \\right)}} e^{z \\operatorname{zw}{\\left(\\xi_{2},g_{2},g_{3} \\right)}} e^{- z \\operatorname{zw}{\\left(\\xi_{3},g_{2},g_{3} \\right)}}}{4 c_{1} c_{2} \\sigma^{2}{\\left(\\xi_{1},g_{2},g_{3} \\right)} \\sigma^{2}{\\left(\\xi_{2},g_{2},g_{3} \\right)} \\sigma^{3}{\\left(z - z_{0},g_{2},g_{3} \\right)}}$"
      ],
      "text/plain": [
       "Eq(sigma(xi4 - z + z0, g2, g3)*sigma(xi4 + z - z0, g2, g3)/(2*sigma(xi4, g2, g3)**2*sigma(z - z0, g2, g3)**2), -c1*c2*sigma(xi1 + z - z0, g2, g3)*sigma(xi2 + z - z0, g2, g3)*sigma(-xi3 + z - z0, g2, g3)*exp(-I*z/2)*exp(-z*zw(xi1, g2, g3))*exp(-z*zw(xi2, g2, g3))*exp(z*zw(xi3, g2, g3))/(c3*sigma(xi3, g2, g3)**2*sigma(z - z0, g2, g3)**3) + c3*sigma(-xi1 + z - z0, g2, g3)*sigma(-xi2 + z - z0, g2, g3)*sigma(xi3 + z - z0, g2, g3)*exp(I*z/2)*exp(z*zw(xi1, g2, g3))*exp(z*zw(xi2, g2, g3))*exp(-z*zw(xi3, g2, g3))/(4*c1*c2*sigma(xi1, g2, g3)**2*sigma(xi2, g2, g3)**2*sigma(z - z0, g2, g3)**3))"
      ]
     },
     "execution_count": 403,
     "metadata": {},
     "output_type": "execute_result"
    }
   ],
   "source": [
    "K_sigma_id_5 = K_sigma_id_4.subs(\n",
    "    sigma_p_identity.subs([(x,xi4),(y,z-z0)]).lhs/2, sigma_p_identity.subs([(x,xi4),(y,z-z0)]).rhs/2\n",
    ")\n",
    "K_sigma_id_5"
   ]
  },
  {
   "cell_type": "code",
   "execution_count": 404,
   "metadata": {},
   "outputs": [
    {
     "data": {
      "text/latex": [
       "$\\displaystyle \\sigma^{2}{\\left(\\xi_{1},g_{2},g_{3} \\right)} \\sigma^{2}{\\left(\\xi_{2},g_{2},g_{3} \\right)} \\sigma^{2}{\\left(\\xi_{3},g_{2},g_{3} \\right)} \\sigma{\\left(z - z_{0},g_{2},g_{3} \\right)} \\sigma{\\left(\\xi_{4} - z + z_{0},g_{2},g_{3} \\right)} \\sigma{\\left(\\xi_{4} + z - z_{0},g_{2},g_{3} \\right)} = - \\frac{2 c_{1} c_{2} \\sigma^{2}{\\left(\\xi_{1},g_{2},g_{3} \\right)} \\sigma^{2}{\\left(\\xi_{2},g_{2},g_{3} \\right)} \\sigma^{2}{\\left(\\xi_{4},g_{2},g_{3} \\right)} \\sigma{\\left(\\xi_{1} + z - z_{0},g_{2},g_{3} \\right)} \\sigma{\\left(\\xi_{2} + z - z_{0},g_{2},g_{3} \\right)} \\sigma{\\left(- \\xi_{3} + z - z_{0},g_{2},g_{3} \\right)} e^{- \\frac{i z}{2}} e^{- z \\operatorname{zw}{\\left(\\xi_{1},g_{2},g_{3} \\right)}} e^{- z \\operatorname{zw}{\\left(\\xi_{2},g_{2},g_{3} \\right)}} e^{z \\operatorname{zw}{\\left(\\xi_{3},g_{2},g_{3} \\right)}}}{c_{3}} + \\frac{c_{3} \\sigma^{2}{\\left(\\xi_{3},g_{2},g_{3} \\right)} \\sigma^{2}{\\left(\\xi_{4},g_{2},g_{3} \\right)} \\sigma{\\left(- \\xi_{1} + z - z_{0},g_{2},g_{3} \\right)} \\sigma{\\left(- \\xi_{2} + z - z_{0},g_{2},g_{3} \\right)} \\sigma{\\left(\\xi_{3} + z - z_{0},g_{2},g_{3} \\right)} e^{\\frac{i z}{2}} e^{z \\operatorname{zw}{\\left(\\xi_{1},g_{2},g_{3} \\right)}} e^{z \\operatorname{zw}{\\left(\\xi_{2},g_{2},g_{3} \\right)}} e^{- z \\operatorname{zw}{\\left(\\xi_{3},g_{2},g_{3} \\right)}}}{2 c_{1} c_{2}}$"
      ],
      "text/plain": [
       "Eq(sigma(xi1, g2, g3)**2*sigma(xi2, g2, g3)**2*sigma(xi3, g2, g3)**2*sigma(z - z0, g2, g3)*sigma(xi4 - z + z0, g2, g3)*sigma(xi4 + z - z0, g2, g3), -2*c1*c2*sigma(xi1, g2, g3)**2*sigma(xi2, g2, g3)**2*sigma(xi4, g2, g3)**2*sigma(xi1 + z - z0, g2, g3)*sigma(xi2 + z - z0, g2, g3)*sigma(-xi3 + z - z0, g2, g3)*exp(-I*z/2)*exp(-z*zw(xi1, g2, g3))*exp(-z*zw(xi2, g2, g3))*exp(z*zw(xi3, g2, g3))/c3 + c3*sigma(xi3, g2, g3)**2*sigma(xi4, g2, g3)**2*sigma(-xi1 + z - z0, g2, g3)*sigma(-xi2 + z - z0, g2, g3)*sigma(xi3 + z - z0, g2, g3)*exp(I*z/2)*exp(z*zw(xi1, g2, g3))*exp(z*zw(xi2, g2, g3))*exp(-z*zw(xi3, g2, g3))/(2*c1*c2))"
      ]
     },
     "execution_count": 404,
     "metadata": {},
     "output_type": "execute_result"
    }
   ],
   "source": [
    "z0_multiply_terms = 2*sigma(z-z0,g2,g3)**3*sigma(xi1,g2,g3)**2*sigma(xi2,g2,g3)**2*sigma(xi3,g2,g3)**2*sigma(xi4,g2,g3)**2\n",
    "Eq(K_sigma_id_5.lhs*z0_multiply_terms, K_sigma_id_5.rhs*z0_multiply_terms).expand()"
   ]
  },
  {
   "cell_type": "code",
   "execution_count": 131,
   "metadata": {},
   "outputs": [
    {
     "data": {
      "text/latex": [
       "$\\displaystyle \\operatorname{pw}{\\left(\\xi_{1},g_{2},g_{3} \\right)} = p_{1}$"
      ],
      "text/plain": [
       "Eq(pw(xi1, g2, g3), p1)"
      ]
     },
     "execution_count": 131,
     "metadata": {},
     "output_type": "execute_result"
    }
   ],
   "source": [
    "xi1_p1"
   ]
  },
  {
   "cell_type": "code",
   "execution_count": 132,
   "metadata": {},
   "outputs": [
    {
     "data": {
      "text/latex": [
       "$\\displaystyle \\operatorname{pw}{\\left(\\xi_{2},g_{2},g_{3} \\right)} = p_{2}$"
      ],
      "text/plain": [
       "Eq(pw(xi2, g2, g3), p2)"
      ]
     },
     "execution_count": 132,
     "metadata": {},
     "output_type": "execute_result"
    }
   ],
   "source": [
    "xi2_p2"
   ]
  },
  {
   "cell_type": "code",
   "execution_count": 133,
   "metadata": {},
   "outputs": [
    {
     "data": {
      "text/latex": [
       "$\\displaystyle \\operatorname{pw}{\\left(\\xi_{3},g_{2},g_{3} \\right)} = - p_{1} - p_{2} - \\frac{1}{4}$"
      ],
      "text/plain": [
       "Eq(pw(xi3, g2, g3), -p1 - p2 - 1/4)"
      ]
     },
     "execution_count": 133,
     "metadata": {},
     "output_type": "execute_result"
    }
   ],
   "source": [
    "xi3_p1_p2"
   ]
  },
  {
   "cell_type": "code",
   "execution_count": 134,
   "metadata": {},
   "outputs": [
    {
     "data": {
      "text/latex": [
       "$\\displaystyle \\operatorname{pwp}{\\left(\\xi_{1},g_{2},g_{3} \\right)} = i p_{3}$"
      ],
      "text/plain": [
       "Eq(pwp(xi1, g2, g3), I*p3)"
      ]
     },
     "execution_count": 134,
     "metadata": {},
     "output_type": "execute_result"
    }
   ],
   "source": [
    "eq_pwp_xi1"
   ]
  },
  {
   "cell_type": "code",
   "execution_count": 135,
   "metadata": {},
   "outputs": [
    {
     "data": {
      "text/latex": [
       "$\\displaystyle \\operatorname{pwp}{\\left(\\xi_{2},g_{2},g_{3} \\right)} = i \\left(- p_{1} + p_{2} + p_{3}\\right)$"
      ],
      "text/plain": [
       "Eq(pwp(xi2, g2, g3), I*(-p1 + p2 + p3))"
      ]
     },
     "execution_count": 135,
     "metadata": {},
     "output_type": "execute_result"
    }
   ],
   "source": [
    "eq_pwp_xi2"
   ]
  },
  {
   "cell_type": "code",
   "execution_count": 136,
   "metadata": {},
   "outputs": [
    {
     "data": {
      "text/latex": [
       "$\\displaystyle \\operatorname{pwp}{\\left(\\xi_{3},g_{2},g_{3} \\right)} = i \\left(2 p_{1} + p_{2} - p_{3} + \\frac{1}{4}\\right)$"
      ],
      "text/plain": [
       "Eq(pwp(xi3, g2, g3), I*(2*p1 + p2 - p3 + 1/4))"
      ]
     },
     "execution_count": 136,
     "metadata": {},
     "output_type": "execute_result"
    }
   ],
   "source": [
    "eq_pwp_xi3"
   ]
  },
  {
   "cell_type": "code",
   "execution_count": 411,
   "metadata": {},
   "outputs": [
    {
     "data": {
      "text/latex": [
       "$\\displaystyle \\operatorname{pw}{\\left(\\xi_{1},g_{2},g_{3} \\right)} + i \\operatorname{pwp}{\\left(\\xi_{1},g_{2},g_{3} \\right)} = \\operatorname{pw}{\\left(\\xi_{4},g_{2},g_{3} \\right)}$"
      ],
      "text/plain": [
       "Eq(pw(xi1, g2, g3) + I*pwp(xi1, g2, g3), pw(xi4, g2, g3))"
      ]
     },
     "execution_count": 411,
     "metadata": {},
     "output_type": "execute_result"
    }
   ],
   "source": [
    "Eq(xi1_p1.lhs + I*eq_pwp_xi1.lhs, xi1_p1.rhs + I*eq_pwp_xi1.rhs).subs(xi4_p2_p3.rhs*2,xi4_p2_p3.lhs*2)"
   ]
  },
  {
   "cell_type": "code",
   "execution_count": 412,
   "metadata": {},
   "outputs": [
    {
     "data": {
      "text/latex": [
       "$\\displaystyle \\operatorname{pw}{\\left(\\xi_{2},g_{2},g_{3} \\right)} + i \\operatorname{pwp}{\\left(\\xi_{2},g_{2},g_{3} \\right)} = \\operatorname{pw}{\\left(\\xi_{4},g_{2},g_{3} \\right)}$"
      ],
      "text/plain": [
       "Eq(pw(xi2, g2, g3) + I*pwp(xi2, g2, g3), pw(xi4, g2, g3))"
      ]
     },
     "execution_count": 412,
     "metadata": {},
     "output_type": "execute_result"
    }
   ],
   "source": [
    "Eq(xi2_p2.lhs + I*eq_pwp_xi2.lhs, xi2_p2.rhs + I*eq_pwp_xi2.rhs).subs(xi4_p2_p3.rhs*2,xi4_p2_p3.lhs*2)"
   ]
  },
  {
   "cell_type": "code",
   "execution_count": 415,
   "metadata": {},
   "outputs": [
    {
     "data": {
      "text/latex": [
       "$\\displaystyle \\operatorname{pw}{\\left(\\xi_{3},g_{2},g_{3} \\right)} - i \\operatorname{pwp}{\\left(\\xi_{3},g_{2},g_{3} \\right)} = \\operatorname{pw}{\\left(\\xi_{4},g_{2},g_{3} \\right)}$"
      ],
      "text/plain": [
       "Eq(pw(xi3, g2, g3) - I*pwp(xi3, g2, g3), pw(xi4, g2, g3))"
      ]
     },
     "execution_count": 415,
     "metadata": {},
     "output_type": "execute_result"
    }
   ],
   "source": [
    "Eq(xi3_p1_p2.lhs - I*eq_pwp_xi3.lhs, xi3_p1_p2.rhs - I*eq_pwp_xi3.rhs).subs(xi4_p2_p3.rhs*2,xi4_p2_p3.lhs*2)"
   ]
  },
  {
   "cell_type": "markdown",
   "metadata": {},
   "source": [
    "Known idenity:\n",
    "https://dlmf.nist.gov/23.10"
   ]
  },
  {
   "cell_type": "code",
   "execution_count": 419,
   "metadata": {},
   "outputs": [
    {
     "data": {
      "text/latex": [
       "$\\displaystyle \\sigma{\\left(2 z,g_{2},g_{3} \\right)} = - \\operatorname{pwp}{\\left(z,g_{2},g_{3} \\right)} \\sigma^{4}{\\left(z,g_{2},g_{3} \\right)}$"
      ],
      "text/plain": [
       "Eq(sigma(2*z, g2, g3), -pwp(z, g2, g3)*sigma(z, g2, g3)**4)"
      ]
     },
     "execution_count": 419,
     "metadata": {},
     "output_type": "execute_result"
    }
   ],
   "source": [
    "Eq(sigma(2*z,g2,g3), - pwp(z,g2,g3) * sigma(z,g2,g3)**4)"
   ]
  },
  {
   "cell_type": "code",
   "execution_count": null,
   "metadata": {},
   "outputs": [],
   "source": []
  }
 ],
 "metadata": {
  "kernelspec": {
   "display_name": "Python 3",
   "language": "python",
   "name": "python3"
  },
  "language_info": {
   "codemirror_mode": {
    "name": "ipython",
    "version": 3
   },
   "file_extension": ".py",
   "mimetype": "text/x-python",
   "name": "python",
   "nbconvert_exporter": "python",
   "pygments_lexer": "ipython3",
   "version": "3.8.10"
  }
 },
 "nbformat": 4,
 "nbformat_minor": 4
}
