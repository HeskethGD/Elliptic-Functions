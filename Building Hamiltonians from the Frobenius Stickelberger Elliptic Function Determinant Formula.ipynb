{
 "cells": [
  {
   "cell_type": "markdown",
   "metadata": {},
   "source": [
    "# Building Hamiltonians from the Frobenius Stickelberger Elliptic Function Determinant Formula"
   ]
  },
  {
   "cell_type": "code",
   "execution_count": 3,
   "metadata": {},
   "outputs": [],
   "source": [
    "from sympy import *\n",
    "(x, y, X, Y, Z, B, C, n, m, l, j, q, N, K, Q, k, epsilon, z, s, p1, p2, p3, g2, g3,\n",
    " z0, w1, w2, w3, e1, e2, e3, Delta, \n",
    " omega1, omega2, omega3, eta1, eta2, eta3, d1, d2, d3) = symbols(\n",
    "    '''x, y, X, Y, Z, B, C, n, m, l, j, q, N, K, Q, k, epsilon, z, s, p1, p2, p3, g2, g3,\n",
    "    z0, w1, w2, w3, e1, e2, e3, Delta, \n",
    "    omega1, omega2, omega3, eta1, eta2, eta3, d1, d2, d3'''\n",
    ")\n",
    "alpha, delta, t, nu, epsilon, theta = symbols('alpha, delta, t, nu, epsilon, theta')\n",
    "pw = Function('pw') # Weierstrass P function\n",
    "pwp = Function('pwp') # Derivative of Weierstrass P function\n",
    "zw = Function('zw') # Weierstrass Zeta function\n",
    "sigma = Function('sigma') # Weierstrass Sigma function\n",
    "rho = Function('rho')\n",
    "f = Function('f')\n",
    "h = Function('h')\n",
    "P = Function('P') # Polynomial\n",
    "phi = Function('phi')\n",
    "Phi = Function('Phi')\n",
    "phi1 = Function('phi1')\n",
    "phi2 = Function('phi2')\n",
    "phi3 = Function('phi3')\n",
    "A = Function('A')\n",
    "Ac = Function('Ac')\n",
    "A1 = Function('A1')\n",
    "A2 = Function('A2')\n",
    "A3 = Function('A3')\n",
    "Ac1 = Function('Ac1')\n",
    "Ac2 = Function('Ac2')\n",
    "Ac3 = Function('Ac3')\n",
    "A4 = Function('A4')\n",
    "A5 = Function('A5')\n",
    "A6 = Function('A6')\n",
    "A7 = Function('A7')\n",
    "A8 = Function('A8')\n",
    "W1 = Function('W1')\n",
    "W2 = Function('W2')\n",
    "W3 = Function('W3')\n",
    "W4 = Function('W4')\n",
    "W5 = Function('W5')\n",
    "W6 = Function('W6')\n",
    "Det = Function(\"Det\")\n",
    "\n",
    "kappa = IndexedBase('kappa')\n",
    "beta = IndexedBase('beta')\n",
    "mu = IndexedBase('mu')\n",
    "xi = IndexedBase('xi')\n",
    "a = IndexedBase('a')\n",
    "b = IndexedBase('b')\n",
    "c = IndexedBase('c')\n",
    "d = IndexedBase('d')\n",
    "p = IndexedBase('p')\n",
    "G = IndexedBase('G')\n",
    "\n",
    "from IPython.core.interactiveshell import InteractiveShell\n",
    "InteractiveShell.ast_node_interactivity = 'all'"
   ]
  },
  {
   "cell_type": "markdown",
   "metadata": {},
   "source": [
    "## Frobenius Stickelberger Elliptic Function Determinant Formula"
   ]
  },
  {
   "cell_type": "markdown",
   "metadata": {},
   "source": [
    "The following addition formula is from Whittaker and Watson 5th edition Example 20.21 p481. It relates a product of Weierstrass Sigma functions to a matrix determinant of the Weierstrass P function and its derivatives. It is attributed to Frobenius and Stickelberger."
   ]
  },
  {
   "cell_type": "code",
   "execution_count": 4,
   "metadata": {},
   "outputs": [
    {
     "data": {
      "text/latex": [
       "$\\displaystyle \\frac{\\left(-1\\right)^{\\frac{N \\left(N - 1\\right)}{2}} \\left(\\sigma{\\left(\\sum_{j=0}^{N} {\\mu}_{j},g_{2},g_{3} \\right)}\\right) \\left(\\prod_{k=1}^{N} k!\\right) \\prod_{\\substack{0 \\leq l \\leq N\\\\0 \\leq m \\leq N}} \\begin{cases} \\sigma{\\left({\\mu}_{l} - {\\mu}_{m},g_{2},g_{3} \\right)} & \\text{for}\\: l < m \\\\1 & \\text{otherwise} \\end{cases}}{\\prod_{n=0}^{N} \\sigma^{N + 1}{\\left({\\mu}_{n},g_{2},g_{3} \\right)}}$"
      ],
      "text/plain": [
       "(-1)**(N*(N - 1)/2)*sigma(Sum(mu[j], (j, 0, N)), g2, g3)*Product(factorial(k), (k, 1, N))*Product(Piecewise((sigma(mu[l] - mu[m], g2, g3), l < m), (1, True)), (l, 0, N), (m, 0, N))/Product(sigma(mu[n], g2, g3)**(N + 1), (n, 0, N))"
      ]
     },
     "execution_count": 4,
     "metadata": {},
     "output_type": "execute_result"
    }
   ],
   "source": [
    "sigma_product_f_s = (\n",
    "    (-1)**(N*(N-1)/2)*\n",
    "    Product(factorial(k),(k,1,N))*\n",
    "    sigma(Sum(mu[j],(j,0,N)),g2,g3)*\n",
    "    Product(Product(Piecewise((sigma(mu[l] - mu[m], g2, g3),l<m),(1,True)),(l,0,N)),(m,0,N))/\n",
    "    Product(sigma(mu[n],g2,g3)**(N+1),(n,0,N))\n",
    ")\n",
    "\n",
    "def p_matrix_f_s(N): \n",
    "    return Matrix([[1, *[pw(x,g2,g3).diff((x,j)).subs(x,mu[k]) for j in range(N)]] for k in range(N+1)])\n",
    "\n",
    "def frob_stick(Nval, evaluated=False):\n",
    "    if evaluated:\n",
    "        return Eq(p_matrix_f_s(Nval).det(), sigma_product_f_s.subs(N,Nval).doit())\n",
    "    return Eq(Det(p_matrix_f_s(Nval)), sigma_product_f_s.subs(N,Nval).doit())\n",
    "\n",
    "sigma_product_f_s"
   ]
  },
  {
   "cell_type": "markdown",
   "metadata": {},
   "source": [
    "### N=1 Case gives the familiar relation between Sigma and Weierstrass P in Ex 20.5.2 p473 Whittaker and Watson 5th edition"
   ]
  },
  {
   "cell_type": "markdown",
   "metadata": {},
   "source": [
    "Typed in explicitly from teh example for testing purposes gives:"
   ]
  },
  {
   "cell_type": "code",
   "execution_count": 5,
   "metadata": {},
   "outputs": [
    {
     "data": {
      "text/latex": [
       "$\\displaystyle - \\operatorname{pw}{\\left(x,g_{2},g_{3} \\right)} + \\operatorname{pw}{\\left(y,g_{2},g_{3} \\right)} = \\frac{\\sigma{\\left(x - y,g_{2},g_{3} \\right)} \\sigma{\\left(x + y,g_{2},g_{3} \\right)}}{\\sigma^{2}{\\left(x,g_{2},g_{3} \\right)} \\sigma^{2}{\\left(y,g_{2},g_{3} \\right)}}$"
      ],
      "text/plain": [
       "Eq(-pw(x, g2, g3) + pw(y, g2, g3), sigma(x - y, g2, g3)*sigma(x + y, g2, g3)/(sigma(x, g2, g3)**2*sigma(y, g2, g3)**2))"
      ]
     },
     "execution_count": 5,
     "metadata": {},
     "output_type": "execute_result"
    }
   ],
   "source": [
    "sigma_p_identity = Eq(\n",
    "    pw(y, g2, g3) - pw(x, g2, g3),\n",
    "    sigma(x + y, g2, g3) * sigma(x - y, g2, g3) / (sigma(x, g2, g3) ** 2 * sigma(y, g2, g3) ** 2) \n",
    ")\n",
    "sigma_p_identity"
   ]
  },
  {
   "cell_type": "markdown",
   "metadata": {},
   "source": [
    "The general formula typed into this notebook for the $N=1$ case gives:"
   ]
  },
  {
   "cell_type": "code",
   "execution_count": 6,
   "metadata": {
    "scrolled": true
   },
   "outputs": [
    {
     "data": {
      "text/latex": [
       "$\\displaystyle \\operatorname{Det}{\\left(\\left[\\begin{matrix}1 & \\operatorname{pw}{\\left({\\mu}_{0},g_{2},g_{3} \\right)}\\\\1 & \\operatorname{pw}{\\left({\\mu}_{1},g_{2},g_{3} \\right)}\\end{matrix}\\right] \\right)} = \\frac{\\sigma{\\left({\\mu}_{0} - {\\mu}_{1},g_{2},g_{3} \\right)} \\sigma{\\left({\\mu}_{0} + {\\mu}_{1},g_{2},g_{3} \\right)}}{\\sigma^{2}{\\left({\\mu}_{0},g_{2},g_{3} \\right)} \\sigma^{2}{\\left({\\mu}_{1},g_{2},g_{3} \\right)}}$"
      ],
      "text/plain": [
       "Eq(Det(Matrix([\n",
       "[1, pw(mu[0], g2, g3)],\n",
       "[1, pw(mu[1], g2, g3)]])), sigma(mu[0] - mu[1], g2, g3)*sigma(mu[0] + mu[1], g2, g3)/(sigma(mu[0], g2, g3)**2*sigma(mu[1], g2, g3)**2))"
      ]
     },
     "execution_count": 6,
     "metadata": {},
     "output_type": "execute_result"
    }
   ],
   "source": [
    "frob_stick(1)"
   ]
  },
  {
   "cell_type": "code",
   "execution_count": 7,
   "metadata": {},
   "outputs": [
    {
     "data": {
      "text/latex": [
       "$\\displaystyle - \\operatorname{pw}{\\left({\\mu}_{0},g_{2},g_{3} \\right)} + \\operatorname{pw}{\\left({\\mu}_{1},g_{2},g_{3} \\right)} = \\frac{\\sigma{\\left({\\mu}_{0} - {\\mu}_{1},g_{2},g_{3} \\right)} \\sigma{\\left({\\mu}_{0} + {\\mu}_{1},g_{2},g_{3} \\right)}}{\\sigma^{2}{\\left({\\mu}_{0},g_{2},g_{3} \\right)} \\sigma^{2}{\\left({\\mu}_{1},g_{2},g_{3} \\right)}}$"
      ],
      "text/plain": [
       "Eq(-pw(mu[0], g2, g3) + pw(mu[1], g2, g3), sigma(mu[0] - mu[1], g2, g3)*sigma(mu[0] + mu[1], g2, g3)/(sigma(mu[0], g2, g3)**2*sigma(mu[1], g2, g3)**2))"
      ]
     },
     "execution_count": 7,
     "metadata": {},
     "output_type": "execute_result"
    }
   ],
   "source": [
    "frob_stick(1, evaluated=True)"
   ]
  },
  {
   "cell_type": "code",
   "execution_count": 8,
   "metadata": {},
   "outputs": [
    {
     "data": {
      "text/latex": [
       "$\\displaystyle - \\operatorname{pw}{\\left(x,g_{2},g_{3} \\right)} + \\operatorname{pw}{\\left(y,g_{2},g_{3} \\right)} = \\frac{\\sigma{\\left(x - y,g_{2},g_{3} \\right)} \\sigma{\\left(x + y,g_{2},g_{3} \\right)}}{\\sigma^{2}{\\left(x,g_{2},g_{3} \\right)} \\sigma^{2}{\\left(y,g_{2},g_{3} \\right)}}$"
      ],
      "text/plain": [
       "Eq(-pw(x, g2, g3) + pw(y, g2, g3), sigma(x - y, g2, g3)*sigma(x + y, g2, g3)/(sigma(x, g2, g3)**2*sigma(y, g2, g3)**2))"
      ]
     },
     "execution_count": 8,
     "metadata": {},
     "output_type": "execute_result"
    }
   ],
   "source": [
    "N_1_case_f_s = frob_stick(1, evaluated=True).subs([(mu[0],x),(mu[1],y),(mu[2],z)])\n",
    "N_1_case_f_s"
   ]
  },
  {
   "cell_type": "markdown",
   "metadata": {},
   "source": [
    "The test shows these to be equivalent:"
   ]
  },
  {
   "cell_type": "code",
   "execution_count": 9,
   "metadata": {},
   "outputs": [
    {
     "data": {
      "text/plain": [
       "True"
      ]
     },
     "execution_count": 9,
     "metadata": {},
     "output_type": "execute_result"
    }
   ],
   "source": [
    "(N_1_case_f_s.lhs - sigma_p_identity.lhs == 0) & (N_1_case_f_s.rhs - sigma_p_identity.rhs == 0)"
   ]
  },
  {
   "cell_type": "markdown",
   "metadata": {},
   "source": [
    "### N=2 Case gives the example in Ex 20.20 Whittaker and Watson 5th edition p481"
   ]
  },
  {
   "cell_type": "markdown",
   "metadata": {},
   "source": [
    "Typed in explicitly from the example for testing purposes gives:"
   ]
  },
  {
   "cell_type": "code",
   "execution_count": 10,
   "metadata": {
    "scrolled": true
   },
   "outputs": [
    {
     "data": {
      "text/latex": [
       "$\\displaystyle \\operatorname{pw}{\\left(x,g_{2},g_{3} \\right)} \\operatorname{pwp}{\\left(y,g_{2},g_{3} \\right)} - \\operatorname{pw}{\\left(x,g_{2},g_{3} \\right)} \\operatorname{pwp}{\\left(z,g_{2},g_{3} \\right)} - \\operatorname{pw}{\\left(y,g_{2},g_{3} \\right)} \\operatorname{pwp}{\\left(x,g_{2},g_{3} \\right)} + \\operatorname{pw}{\\left(y,g_{2},g_{3} \\right)} \\operatorname{pwp}{\\left(z,g_{2},g_{3} \\right)} + \\operatorname{pw}{\\left(z,g_{2},g_{3} \\right)} \\operatorname{pwp}{\\left(x,g_{2},g_{3} \\right)} - \\operatorname{pw}{\\left(z,g_{2},g_{3} \\right)} \\operatorname{pwp}{\\left(y,g_{2},g_{3} \\right)} = - \\frac{2 \\sigma{\\left(x - y,g_{2},g_{3} \\right)} \\sigma{\\left(x - z,g_{2},g_{3} \\right)} \\sigma{\\left(y - z,g_{2},g_{3} \\right)} \\sigma{\\left(x + y + z,g_{2},g_{3} \\right)}}{\\sigma^{3}{\\left(x,g_{2},g_{3} \\right)} \\sigma^{3}{\\left(y,g_{2},g_{3} \\right)} \\sigma^{3}{\\left(z,g_{2},g_{3} \\right)}}$"
      ],
      "text/plain": [
       "Eq(pw(x, g2, g3)*pwp(y, g2, g3) - pw(x, g2, g3)*pwp(z, g2, g3) - pw(y, g2, g3)*pwp(x, g2, g3) + pw(y, g2, g3)*pwp(z, g2, g3) + pw(z, g2, g3)*pwp(x, g2, g3) - pw(z, g2, g3)*pwp(y, g2, g3), -2*sigma(x - y, g2, g3)*sigma(x - z, g2, g3)*sigma(y - z, g2, g3)*sigma(x + y + z, g2, g3)/(sigma(x, g2, g3)**3*sigma(y, g2, g3)**3*sigma(z, g2, g3)**3))"
      ]
     },
     "execution_count": 10,
     "metadata": {},
     "output_type": "execute_result"
    }
   ],
   "source": [
    "sigma_3_vars_det_id = Eq(\n",
    "   Matrix([[1, pw(x,g2,g3), pwp(x,g2,g3)],[1, pw(y,g2,g3), pwp(y,g2,g3)],[1, pw(z,g2,g3), pwp(z,g2,g3)]]).det(),\n",
    "    -2*sigma(x+y+z,g2,g3)*sigma(x-y,g2,g3)*sigma(y-z,g2,g3)*sigma(x-z,g2,g3)/\n",
    "    (sigma(x,g2,g3)**3*sigma(y,g2,g3)**3*sigma(z,g2,g3)**3)\n",
    ")\n",
    "sigma_3_vars_det_id"
   ]
  },
  {
   "cell_type": "markdown",
   "metadata": {},
   "source": [
    "The general formula typed into this notebook for the $N=2$ case gives:"
   ]
  },
  {
   "cell_type": "code",
   "execution_count": 11,
   "metadata": {},
   "outputs": [
    {
     "data": {
      "text/latex": [
       "$\\displaystyle \\operatorname{Det}{\\left(\\left[\\begin{matrix}1 & \\operatorname{pw}{\\left({\\mu}_{0},g_{2},g_{3} \\right)} & \\frac{\\partial}{\\partial {\\mu}_{0}} \\operatorname{pw}{\\left({\\mu}_{0},g_{2},g_{3} \\right)}\\\\1 & \\operatorname{pw}{\\left({\\mu}_{1},g_{2},g_{3} \\right)} & \\frac{\\partial}{\\partial {\\mu}_{1}} \\operatorname{pw}{\\left({\\mu}_{1},g_{2},g_{3} \\right)}\\\\1 & \\operatorname{pw}{\\left({\\mu}_{2},g_{2},g_{3} \\right)} & \\frac{\\partial}{\\partial {\\mu}_{2}} \\operatorname{pw}{\\left({\\mu}_{2},g_{2},g_{3} \\right)}\\end{matrix}\\right] \\right)} = - \\frac{2 \\sigma{\\left({\\mu}_{0} - {\\mu}_{1},g_{2},g_{3} \\right)} \\sigma{\\left({\\mu}_{0} - {\\mu}_{2},g_{2},g_{3} \\right)} \\sigma{\\left({\\mu}_{1} - {\\mu}_{2},g_{2},g_{3} \\right)} \\sigma{\\left({\\mu}_{0} + {\\mu}_{1} + {\\mu}_{2},g_{2},g_{3} \\right)}}{\\sigma^{3}{\\left({\\mu}_{0},g_{2},g_{3} \\right)} \\sigma^{3}{\\left({\\mu}_{1},g_{2},g_{3} \\right)} \\sigma^{3}{\\left({\\mu}_{2},g_{2},g_{3} \\right)}}$"
      ],
      "text/plain": [
       "Eq(Det(Matrix([\n",
       "[1, pw(mu[0], g2, g3), Derivative(pw(mu[0], g2, g3), mu[0])],\n",
       "[1, pw(mu[1], g2, g3), Derivative(pw(mu[1], g2, g3), mu[1])],\n",
       "[1, pw(mu[2], g2, g3), Derivative(pw(mu[2], g2, g3), mu[2])]])), -2*sigma(mu[0] - mu[1], g2, g3)*sigma(mu[0] - mu[2], g2, g3)*sigma(mu[1] - mu[2], g2, g3)*sigma(mu[0] + mu[1] + mu[2], g2, g3)/(sigma(mu[0], g2, g3)**3*sigma(mu[1], g2, g3)**3*sigma(mu[2], g2, g3)**3))"
      ]
     },
     "execution_count": 11,
     "metadata": {},
     "output_type": "execute_result"
    }
   ],
   "source": [
    "frob_stick(2)"
   ]
  },
  {
   "cell_type": "code",
   "execution_count": 12,
   "metadata": {},
   "outputs": [
    {
     "data": {
      "text/latex": [
       "$\\displaystyle \\operatorname{pw}{\\left({\\mu}_{0},g_{2},g_{3} \\right)} \\frac{\\partial}{\\partial {\\mu}_{1}} \\operatorname{pw}{\\left({\\mu}_{1},g_{2},g_{3} \\right)} - \\operatorname{pw}{\\left({\\mu}_{0},g_{2},g_{3} \\right)} \\frac{\\partial}{\\partial {\\mu}_{2}} \\operatorname{pw}{\\left({\\mu}_{2},g_{2},g_{3} \\right)} - \\operatorname{pw}{\\left({\\mu}_{1},g_{2},g_{3} \\right)} \\frac{\\partial}{\\partial {\\mu}_{0}} \\operatorname{pw}{\\left({\\mu}_{0},g_{2},g_{3} \\right)} + \\operatorname{pw}{\\left({\\mu}_{1},g_{2},g_{3} \\right)} \\frac{\\partial}{\\partial {\\mu}_{2}} \\operatorname{pw}{\\left({\\mu}_{2},g_{2},g_{3} \\right)} + \\operatorname{pw}{\\left({\\mu}_{2},g_{2},g_{3} \\right)} \\frac{\\partial}{\\partial {\\mu}_{0}} \\operatorname{pw}{\\left({\\mu}_{0},g_{2},g_{3} \\right)} - \\operatorname{pw}{\\left({\\mu}_{2},g_{2},g_{3} \\right)} \\frac{\\partial}{\\partial {\\mu}_{1}} \\operatorname{pw}{\\left({\\mu}_{1},g_{2},g_{3} \\right)} = - \\frac{2 \\sigma{\\left({\\mu}_{0} - {\\mu}_{1},g_{2},g_{3} \\right)} \\sigma{\\left({\\mu}_{0} - {\\mu}_{2},g_{2},g_{3} \\right)} \\sigma{\\left({\\mu}_{1} - {\\mu}_{2},g_{2},g_{3} \\right)} \\sigma{\\left({\\mu}_{0} + {\\mu}_{1} + {\\mu}_{2},g_{2},g_{3} \\right)}}{\\sigma^{3}{\\left({\\mu}_{0},g_{2},g_{3} \\right)} \\sigma^{3}{\\left({\\mu}_{1},g_{2},g_{3} \\right)} \\sigma^{3}{\\left({\\mu}_{2},g_{2},g_{3} \\right)}}$"
      ],
      "text/plain": [
       "Eq(pw(mu[0], g2, g3)*Derivative(pw(mu[1], g2, g3), mu[1]) - pw(mu[0], g2, g3)*Derivative(pw(mu[2], g2, g3), mu[2]) - pw(mu[1], g2, g3)*Derivative(pw(mu[0], g2, g3), mu[0]) + pw(mu[1], g2, g3)*Derivative(pw(mu[2], g2, g3), mu[2]) + pw(mu[2], g2, g3)*Derivative(pw(mu[0], g2, g3), mu[0]) - pw(mu[2], g2, g3)*Derivative(pw(mu[1], g2, g3), mu[1]), -2*sigma(mu[0] - mu[1], g2, g3)*sigma(mu[0] - mu[2], g2, g3)*sigma(mu[1] - mu[2], g2, g3)*sigma(mu[0] + mu[1] + mu[2], g2, g3)/(sigma(mu[0], g2, g3)**3*sigma(mu[1], g2, g3)**3*sigma(mu[2], g2, g3)**3))"
      ]
     },
     "execution_count": 12,
     "metadata": {},
     "output_type": "execute_result"
    }
   ],
   "source": [
    "frob_stick(2, evaluated=True)"
   ]
  },
  {
   "cell_type": "code",
   "execution_count": 13,
   "metadata": {},
   "outputs": [
    {
     "data": {
      "text/latex": [
       "$\\displaystyle \\operatorname{pw}{\\left(x,g_{2},g_{3} \\right)} \\operatorname{pwp}{\\left(y,g_{2},g_{3} \\right)} - \\operatorname{pw}{\\left(x,g_{2},g_{3} \\right)} \\operatorname{pwp}{\\left(z,g_{2},g_{3} \\right)} - \\operatorname{pw}{\\left(y,g_{2},g_{3} \\right)} \\operatorname{pwp}{\\left(x,g_{2},g_{3} \\right)} + \\operatorname{pw}{\\left(y,g_{2},g_{3} \\right)} \\operatorname{pwp}{\\left(z,g_{2},g_{3} \\right)} + \\operatorname{pw}{\\left(z,g_{2},g_{3} \\right)} \\operatorname{pwp}{\\left(x,g_{2},g_{3} \\right)} - \\operatorname{pw}{\\left(z,g_{2},g_{3} \\right)} \\operatorname{pwp}{\\left(y,g_{2},g_{3} \\right)} = - \\frac{2 \\sigma{\\left(x - y,g_{2},g_{3} \\right)} \\sigma{\\left(x - z,g_{2},g_{3} \\right)} \\sigma{\\left(y - z,g_{2},g_{3} \\right)} \\sigma{\\left(x + y + z,g_{2},g_{3} \\right)}}{\\sigma^{3}{\\left(x,g_{2},g_{3} \\right)} \\sigma^{3}{\\left(y,g_{2},g_{3} \\right)} \\sigma^{3}{\\left(z,g_{2},g_{3} \\right)}}$"
      ],
      "text/plain": [
       "Eq(pw(x, g2, g3)*pwp(y, g2, g3) - pw(x, g2, g3)*pwp(z, g2, g3) - pw(y, g2, g3)*pwp(x, g2, g3) + pw(y, g2, g3)*pwp(z, g2, g3) + pw(z, g2, g3)*pwp(x, g2, g3) - pw(z, g2, g3)*pwp(y, g2, g3), -2*sigma(x - y, g2, g3)*sigma(x - z, g2, g3)*sigma(y - z, g2, g3)*sigma(x + y + z, g2, g3)/(sigma(x, g2, g3)**3*sigma(y, g2, g3)**3*sigma(z, g2, g3)**3))"
      ]
     },
     "execution_count": 13,
     "metadata": {},
     "output_type": "execute_result"
    }
   ],
   "source": [
    "N_2_case_f_s = frob_stick(2, evaluated=True).subs([\n",
    "    *[(Derivative(pw(mu[k], g2, g3), mu[k]), pwp(mu[k],g2,g3)) for k in range(2+1)]\n",
    "]).subs([(mu[0],x),(mu[1],y),(mu[2],z)])\n",
    "N_2_case_f_s"
   ]
  },
  {
   "cell_type": "markdown",
   "metadata": {},
   "source": [
    "The test shows these to be equivalent:"
   ]
  },
  {
   "cell_type": "code",
   "execution_count": 14,
   "metadata": {},
   "outputs": [
    {
     "data": {
      "text/plain": [
       "True"
      ]
     },
     "execution_count": 14,
     "metadata": {},
     "output_type": "execute_result"
    }
   ],
   "source": [
    "(sigma_3_vars_det_id.lhs-N_2_case_f_s.lhs == 0) & (sigma_3_vars_det_id.rhs-N_2_case_f_s.rhs == 0)"
   ]
  },
  {
   "cell_type": "markdown",
   "metadata": {},
   "source": [
    "## The one-dimensional z case"
   ]
  },
  {
   "cell_type": "markdown",
   "metadata": {},
   "source": [
    "In this section, it is shown that the product of sigma functions can be factored into a simpler form by dividing the determinant of the $N$ case by the determinant of the $N-1$ case. Thereafter, the final row of the matrix is considered to be a function of a single variable $z$ and the other rows are considered constants, therfore the $N-1$ case is a constant when considering only the $N^{th}$ row as a function of $z$."
   ]
  },
  {
   "cell_type": "code",
   "execution_count": 15,
   "metadata": {},
   "outputs": [
    {
     "data": {
      "text/latex": [
       "$\\displaystyle \\frac{\\left(-1\\right)^{\\frac{N \\left(N - 1\\right)}{2}} \\left(\\sigma{\\left(\\sum_{j=0}^{N} {\\mu}_{j},g_{2},g_{3} \\right)}\\right) N! \\left(\\prod_{l=0}^{N} \\begin{cases} \\sigma{\\left(- {\\mu}_{N} + {\\mu}_{l},g_{2},g_{3} \\right)} & \\text{for}\\: N > l \\\\1 & \\text{otherwise} \\end{cases}\\right) \\left(\\prod_{k=1}^{N - 1} k!\\right) \\prod_{\\substack{0 \\leq l \\leq N - 1\\\\0 \\leq m \\leq N - 1}} \\begin{cases} \\sigma{\\left({\\mu}_{l} - {\\mu}_{m},g_{2},g_{3} \\right)} & \\text{for}\\: l < m \\\\1 & \\text{otherwise} \\end{cases}}{\\left(\\prod_{n=0}^{N} \\sigma{\\left({\\mu}_{n},g_{2},g_{3} \\right)}\\right) \\prod_{n=0}^{N} \\sigma^{N}{\\left({\\mu}_{n},g_{2},g_{3} \\right)}}$"
      ],
      "text/plain": [
       "(-1)**(N*(N - 1)/2)*sigma(Sum(mu[j], (j, 0, N)), g2, g3)*factorial(N)*Product(Piecewise((sigma(-mu[N] + mu[l], g2, g3), N > l), (1, True)), (l, 0, N))*Product(factorial(k), (k, 1, N - 1))*Product(Piecewise((sigma(mu[l] - mu[m], g2, g3), l < m), (1, True)), (l, 0, N - 1), (m, 0, N - 1))/(Product(sigma(mu[n], g2, g3), (n, 0, N))*Product(sigma(mu[n], g2, g3)**N, (n, 0, N)))"
      ]
     },
     "execution_count": 15,
     "metadata": {},
     "output_type": "execute_result"
    }
   ],
   "source": [
    "sigma_product_f_s_N_factored = (\n",
    "    (-1)**(N*(N-1)/2)*\n",
    "    Product(factorial(k),(k,1,N-1))*\n",
    "    factorial(N)*\n",
    "    sigma(Sum(mu[j],(j,0,N)),g2,g3)*\n",
    "    Product(Product(Piecewise((sigma(mu[l] - mu[m], g2, g3),l<m),(1,True)),(l,0,N-1)),(m,0,N-1))*\n",
    "    Product(Piecewise((sigma(mu[l] - mu[N], g2, g3),l<N),(1,True)),(l,0,N))/\n",
    "    Product(sigma(mu[n],g2,g3)**(N),(n,0,N))/\n",
    "    Product(sigma(mu[n],g2,g3),(n,0,N))\n",
    ")\n",
    "sigma_product_f_s_N_factored"
   ]
  },
  {
   "cell_type": "code",
   "execution_count": 16,
   "metadata": {},
   "outputs": [],
   "source": [
    "def p_matrix_f_s_1dz(N): \n",
    "    return Matrix([*[[1, *[pw(x,g2,g3).diff((x,j)).subs(x,mu[k]) for j in range(N)]] for k in range(N)],\n",
    "       [1, *[pw(z,g2,g3).diff((z,j)) for j in range(N)]]])\n",
    "\n",
    "def frob_stick_1dz(Nval, evaluated=False):\n",
    "    if evaluated:\n",
    "        return Eq(p_matrix_f_s_1dz(Nval).det(), sigma_product_f_s_1dz.subs(N,Nval).doit())\n",
    "    return Eq(Det(p_matrix_f_s_1dz(Nval)), sigma_product_f_s_1dz.subs(N,Nval).doit())\n"
   ]
  },
  {
   "cell_type": "code",
   "execution_count": 17,
   "metadata": {},
   "outputs": [
    {
     "data": {
      "text/latex": [
       "$\\displaystyle \\frac{\\left(-1\\right)^{\\frac{N \\left(N - 1\\right)}{2}} \\left(-1\\right)^{- \\frac{\\left(N - 2\\right) \\left(N - 1\\right)}{2}} \\left(\\sigma{\\left(\\sum_{j=0}^{N} {\\mu}_{j},g_{2},g_{3} \\right)}\\right) N! \\left(\\prod_{l=0}^{N} \\begin{cases} \\sigma{\\left(- {\\mu}_{N} + {\\mu}_{l},g_{2},g_{3} \\right)} & \\text{for}\\: N > l \\\\1 & \\text{otherwise} \\end{cases}\\right) \\prod_{n=0}^{N - 1} \\sigma^{N}{\\left({\\mu}_{n},g_{2},g_{3} \\right)}}{\\left(\\sigma{\\left(\\sum_{j=0}^{N - 1} {\\mu}_{j},g_{2},g_{3} \\right)}\\right) \\left(\\prod_{n=0}^{N} \\sigma{\\left({\\mu}_{n},g_{2},g_{3} \\right)}\\right) \\prod_{n=0}^{N} \\sigma^{N}{\\left({\\mu}_{n},g_{2},g_{3} \\right)}}$"
      ],
      "text/plain": [
       "(-1)**(N*(N - 1)/2)*(-1)**(-(N - 2)*(N - 1)/2)*sigma(Sum(mu[j], (j, 0, N)), g2, g3)*factorial(N)*Product(Piecewise((sigma(-mu[N] + mu[l], g2, g3), N > l), (1, True)), (l, 0, N))*Product(sigma(mu[n], g2, g3)**N, (n, 0, N - 1))/(sigma(Sum(mu[j], (j, 0, N - 1)), g2, g3)*Product(sigma(mu[n], g2, g3), (n, 0, N))*Product(sigma(mu[n], g2, g3)**N, (n, 0, N)))"
      ]
     },
     "execution_count": 17,
     "metadata": {},
     "output_type": "execute_result"
    }
   ],
   "source": [
    "sigma_product_f_s_N_over_N_minus_1_a = (sigma_product_f_s_N_factored/sigma_product_f_s.subs(N,N-1))\n",
    "sigma_product_f_s_N_over_N_minus_1_a"
   ]
  },
  {
   "cell_type": "code",
   "execution_count": 18,
   "metadata": {},
   "outputs": [
    {
     "data": {
      "text/latex": [
       "$\\displaystyle \\frac{\\left(-1\\right)^{\\frac{N \\left(N - 1\\right)}{2}} \\left(-1\\right)^{\\frac{\\left(2 - N\\right) \\left(N - 1\\right)}{2}} \\left(\\sigma{\\left(\\sum_{j=0}^{N} {\\mu}_{j},g_{2},g_{3} \\right)}\\right) N! \\left(\\prod_{l=0}^{N} \\begin{cases} \\sigma{\\left(- {\\mu}_{N} + {\\mu}_{l},g_{2},g_{3} \\right)} & \\text{for}\\: N > l \\\\1 & \\text{otherwise} \\end{cases}\\right) \\prod_{n=0}^{N - 1} \\sigma^{N}{\\left({\\mu}_{n},g_{2},g_{3} \\right)}}{\\left(\\sigma{\\left(\\sum_{j=0}^{N - 1} {\\mu}_{j},g_{2},g_{3} \\right)}\\right) \\left(\\prod_{n=0}^{N} \\sigma{\\left({\\mu}_{n},g_{2},g_{3} \\right)}\\right) \\prod_{n=0}^{N} \\sigma^{N}{\\left({\\mu}_{n},g_{2},g_{3} \\right)}}$"
      ],
      "text/plain": [
       "(-1)**(N*(N - 1)/2)*(-1)**((2 - N)*(N - 1)/2)*sigma(Sum(mu[j], (j, 0, N)), g2, g3)*factorial(N)*Product(Piecewise((sigma(-mu[N] + mu[l], g2, g3), N > l), (1, True)), (l, 0, N))*Product(sigma(mu[n], g2, g3)**N, (n, 0, N - 1))/(sigma(Sum(mu[j], (j, 0, N - 1)), g2, g3)*Product(sigma(mu[n], g2, g3), (n, 0, N))*Product(sigma(mu[n], g2, g3)**N, (n, 0, N)))"
      ]
     },
     "execution_count": 18,
     "metadata": {},
     "output_type": "execute_result"
    }
   ],
   "source": [
    "sigma_product_f_s_N_over_N_minus_1_b = (\n",
    "    (-1)**(N*(N-1)/2)*\n",
    "    (-1)**(-(N-2)*(N-1)/2)*\n",
    "    sigma(Sum(mu[j],(j,0,N)),g2,g3)*\n",
    "    factorial(N)*\n",
    "    Product(Piecewise((sigma(mu[l] - mu[N], g2, g3),l<N),(1,True)),(l,0,N))*\n",
    "    Product(sigma(mu[n],g2,g3)**(N),(n,0,N-1))/\n",
    "    sigma(Sum(mu[j],(j,0,N-1)),g2,g3)/\n",
    "    Product(sigma(mu[n],g2,g3),(n,0,N))/\n",
    "    Product(sigma(mu[n],g2,g3)**N,(n,0,N))\n",
    ")\n",
    "sigma_product_f_s_N_over_N_minus_1_b"
   ]
  },
  {
   "cell_type": "code",
   "execution_count": 19,
   "metadata": {},
   "outputs": [
    {
     "data": {
      "text/latex": [
       "$\\displaystyle 0$"
      ],
      "text/plain": [
       "0"
      ]
     },
     "execution_count": 19,
     "metadata": {},
     "output_type": "execute_result"
    }
   ],
   "source": [
    "(sigma_product_f_s_N_over_N_minus_1_b-sigma_product_f_s_N_over_N_minus_1_a).simplify()"
   ]
  },
  {
   "cell_type": "code",
   "execution_count": 20,
   "metadata": {},
   "outputs": [
    {
     "data": {
      "text/latex": [
       "$\\displaystyle {\\mu}_{N} = z$"
      ],
      "text/plain": [
       "Eq(mu[N], z)"
      ]
     },
     "execution_count": 20,
     "metadata": {},
     "output_type": "execute_result"
    }
   ],
   "source": [
    "Eq(mu[N],z)"
   ]
  },
  {
   "cell_type": "code",
   "execution_count": 21,
   "metadata": {},
   "outputs": [
    {
     "data": {
      "text/latex": [
       "$\\displaystyle {\\xi}_{k} = \\begin{cases} {\\mu}_{k} & \\text{for}\\: N > k \\\\- \\sum_{j=0}^{N - 1} {\\mu}_{j} & \\text{for}\\: N = k \\end{cases}$"
      ],
      "text/plain": [
       "Eq(xi[k], Piecewise((mu[k], N > k), (-Sum(mu[j], (j, 0, N - 1)), Eq(N, k))))"
      ]
     },
     "execution_count": 21,
     "metadata": {},
     "output_type": "execute_result"
    }
   ],
   "source": [
    "Eq(xi[k],Piecewise((mu[k],k<N),(-Sum(mu[j],(j,0,N-1)),Eq(k,N))))"
   ]
  },
  {
   "cell_type": "code",
   "execution_count": 22,
   "metadata": {},
   "outputs": [
    {
     "data": {
      "text/latex": [
       "$\\displaystyle \\sum_{j=0}^{N} {\\xi}_{j} = 0$"
      ],
      "text/plain": [
       "Eq(Sum(xi[j], (j, 0, N)), 0)"
      ]
     },
     "execution_count": 22,
     "metadata": {},
     "output_type": "execute_result"
    }
   ],
   "source": [
    "Eq(Sum(xi[j],(j,0,N)),0)"
   ]
  },
  {
   "cell_type": "code",
   "execution_count": 23,
   "metadata": {},
   "outputs": [
    {
     "data": {
      "text/latex": [
       "$\\displaystyle \\left(-1\\right)^{N - 1} N! \\prod_{l=0}^{N} \\frac{\\sigma{\\left(- z + {\\xi}_{l},g_{2},g_{3} \\right)}}{\\sigma{\\left(z,g_{2},g_{3} \\right)} \\sigma{\\left({\\xi}_{l},g_{2},g_{3} \\right)}}$"
      ],
      "text/plain": [
       "(-1)**(N - 1)*factorial(N)*Product(sigma(-z + xi[l], g2, g3)/(sigma(z, g2, g3)*sigma(xi[l], g2, g3)), (l, 0, N))"
      ]
     },
     "execution_count": 23,
     "metadata": {},
     "output_type": "execute_result"
    }
   ],
   "source": [
    "sigma_product_f_s_N_over_N_minus_1 = (\n",
    "    (-1)**(N-1)*\n",
    "    sigma(Sum(mu[j],(j,0,N)),g2,g3)*\n",
    "    factorial(N)*\n",
    "    Product(Piecewise((sigma(mu[l] - mu[N], g2, g3),l<N),(1,True)),(l,0,N))*\n",
    "    Product(sigma(mu[n],g2,g3)**(N),(n,0,N-1))/\n",
    "    sigma(Sum(mu[j],(j,0,N-1)),g2,g3)/\n",
    "    Product(sigma(mu[n],g2,g3),(n,0,N))/\n",
    "    Product(sigma(mu[n],g2,g3)**N,(n,0,N))\n",
    ").subs([\n",
    "    (Sum(mu[j],(j,0,N-1)),-xi[N]),\n",
    "    (Sum(mu[j],(j,0,N)),-xi[N]+z),\n",
    "    (Product(sigma(mu[n],g2,g3),(n,0,N)),Product(sigma(xi[n],g2,g3),(n,0,N-1))*sigma(z,g2,g3)),\n",
    "    (Product(sigma(mu[n],g2,g3)**N,(n,0,N)),Product(sigma(mu[n],g2,g3)**N,(n,0,N-1))*sigma(z,g2,g3)**N),\n",
    "    (Product(Piecewise((sigma(mu[l] - mu[N], g2, g3),l<N),(1,True)),(l,0,N)), Product(sigma(xi[l] - z, g2, g3),(l,0,N-1)))\n",
    "]).subs([\n",
    "    (Product(sigma(xi[l] - z, g2, g3),(l,0,N-1)), -Product(sigma(xi[l] - z, g2, g3),(l,0,N))/sigma(z-xi[N],g2,g3)),\n",
    "    (Product(sigma(xi[n], g2, g3),(n,0,N-1)), -Product(sigma(xi[l], g2, g3),(l,0,N))/sigma(-xi[N],g2,g3))\n",
    "]).subs([\n",
    "    (Product(sigma(xi[l] - z, g2, g3),(l,0,N))*sigma(z,g2,g3)**(-N)/sigma(z,g2,g3), \n",
    "    Product(sigma(xi[l] - z, g2, g3)/sigma(xi[l], g2, g3)/sigma(z,g2,g3),(l,0,N))*Product(sigma(xi[l], g2, g3),(l,0,N)))\n",
    "])\n",
    "sigma_product_f_s_N_over_N_minus_1"
   ]
  },
  {
   "cell_type": "code",
   "execution_count": 24,
   "metadata": {},
   "outputs": [],
   "source": [
    "\n",
    "def p_matrix_f_s_1dz(N): \n",
    "    return Matrix([*[[1, *[pw(x,g2,g3).diff((x,j)).subs(x,mu[k]) for j in range(N)]] for k in range(N)],\n",
    "       [1, *[pw(z,g2,g3).diff((z,j)) for j in range(N)]]])\n",
    "\n",
    "def frob_stick_1dz_ratio(Nval, evaluated=False):\n",
    "    if evaluated:\n",
    "        return Eq((((-1)**(Nval-1)/factorial(Nval)*p_matrix_f_s_1dz(Nval).det()/p_matrix_f_s(Nval-1).det()).expand())\n",
    "                  .collect([pw(z,g2,g3), diff(pw(z,g2,g3),z)],factor), \n",
    "                  (-1)**(Nval-1)/factorial(Nval)*sigma_product_f_s_N_over_N_minus_1.subs(N,Nval).doit().subs(\n",
    "            xi[Nval],-Sum(xi[j],(j,0,Nval-1)).doit()\n",
    "        ).subs([(xi[j],mu[j]) for j in range(Nval)]))\n",
    "    return Eq((-1)**(Nval-1)/factorial(Nval)*Det(p_matrix_f_s_1dz(Nval))/Det(p_matrix_f_s(Nval-1)), \n",
    "              (-1)**(Nval-1)/factorial(Nval)*sigma_product_f_s_N_over_N_minus_1.subs(N,Nval).doit().subs(\n",
    "            xi[Nval],-Sum(xi[j],(j,0,Nval-1)).doit()\n",
    "        ).subs([(xi[j],mu[j]) for j in range(Nval)]))\n"
   ]
  },
  {
   "cell_type": "markdown",
   "metadata": {},
   "source": [
    "### Example for the $N=1$ case"
   ]
  },
  {
   "cell_type": "code",
   "execution_count": 25,
   "metadata": {},
   "outputs": [
    {
     "data": {
      "text/latex": [
       "$\\displaystyle \\operatorname{Det}{\\left(\\left[\\begin{matrix}1 & \\operatorname{pw}{\\left({\\mu}_{0},g_{2},g_{3} \\right)}\\\\1 & \\operatorname{pw}{\\left(z,g_{2},g_{3} \\right)}\\end{matrix}\\right] \\right)} \\operatorname{Det}^{-1}{\\left(\\left[\\begin{matrix}1\\end{matrix}\\right] \\right)} = \\frac{\\sigma{\\left(- z - {\\mu}_{0},g_{2},g_{3} \\right)} \\sigma{\\left(- z + {\\mu}_{0},g_{2},g_{3} \\right)}}{\\sigma^{2}{\\left(z,g_{2},g_{3} \\right)} \\sigma{\\left(- {\\mu}_{0},g_{2},g_{3} \\right)} \\sigma{\\left({\\mu}_{0},g_{2},g_{3} \\right)}}$"
      ],
      "text/plain": [
       "Eq(Det(Matrix([\n",
       "[1, pw(mu[0], g2, g3)],\n",
       "[1,     pw(z, g2, g3)]]))*Det(Matrix([[1]]))**(-1), sigma(-z - mu[0], g2, g3)*sigma(-z + mu[0], g2, g3)/(sigma(z, g2, g3)**2*sigma(-mu[0], g2, g3)*sigma(mu[0], g2, g3)))"
      ]
     },
     "execution_count": 25,
     "metadata": {},
     "output_type": "execute_result"
    }
   ],
   "source": [
    "frob_stick_1dz_ratio(1)"
   ]
  },
  {
   "cell_type": "code",
   "execution_count": 26,
   "metadata": {},
   "outputs": [
    {
     "data": {
      "text/latex": [
       "$\\displaystyle \\operatorname{pw}{\\left(z,g_{2},g_{3} \\right)} - \\operatorname{pw}{\\left({\\mu}_{0},g_{2},g_{3} \\right)} = \\frac{\\sigma{\\left(- z - {\\mu}_{0},g_{2},g_{3} \\right)} \\sigma{\\left(- z + {\\mu}_{0},g_{2},g_{3} \\right)}}{\\sigma^{2}{\\left(z,g_{2},g_{3} \\right)} \\sigma{\\left(- {\\mu}_{0},g_{2},g_{3} \\right)} \\sigma{\\left({\\mu}_{0},g_{2},g_{3} \\right)}}$"
      ],
      "text/plain": [
       "Eq(pw(z, g2, g3) - pw(mu[0], g2, g3), sigma(-z - mu[0], g2, g3)*sigma(-z + mu[0], g2, g3)/(sigma(z, g2, g3)**2*sigma(-mu[0], g2, g3)*sigma(mu[0], g2, g3)))"
      ]
     },
     "execution_count": 26,
     "metadata": {},
     "output_type": "execute_result"
    }
   ],
   "source": [
    "frob_stick_1dz_ratio(1,evaluated=True)"
   ]
  },
  {
   "cell_type": "markdown",
   "metadata": {},
   "source": [
    "### Example for the $N=2$ case"
   ]
  },
  {
   "cell_type": "code",
   "execution_count": 27,
   "metadata": {},
   "outputs": [
    {
     "data": {
      "text/latex": [
       "$\\displaystyle - \\frac{\\operatorname{Det}{\\left(\\left[\\begin{matrix}1 & \\operatorname{pw}{\\left({\\mu}_{0},g_{2},g_{3} \\right)} & \\frac{\\partial}{\\partial {\\mu}_{0}} \\operatorname{pw}{\\left({\\mu}_{0},g_{2},g_{3} \\right)}\\\\1 & \\operatorname{pw}{\\left({\\mu}_{1},g_{2},g_{3} \\right)} & \\frac{\\partial}{\\partial {\\mu}_{1}} \\operatorname{pw}{\\left({\\mu}_{1},g_{2},g_{3} \\right)}\\\\1 & \\operatorname{pw}{\\left(z,g_{2},g_{3} \\right)} & \\frac{\\partial}{\\partial z} \\operatorname{pw}{\\left(z,g_{2},g_{3} \\right)}\\end{matrix}\\right] \\right)} \\operatorname{Det}^{-1}{\\left(\\left[\\begin{matrix}1 & \\operatorname{pw}{\\left({\\mu}_{0},g_{2},g_{3} \\right)}\\\\1 & \\operatorname{pw}{\\left({\\mu}_{1},g_{2},g_{3} \\right)}\\end{matrix}\\right] \\right)}}{2} = \\frac{\\sigma{\\left(- z + {\\mu}_{0},g_{2},g_{3} \\right)} \\sigma{\\left(- z + {\\mu}_{1},g_{2},g_{3} \\right)} \\sigma{\\left(- z - {\\mu}_{0} - {\\mu}_{1},g_{2},g_{3} \\right)}}{\\sigma^{3}{\\left(z,g_{2},g_{3} \\right)} \\sigma{\\left(- {\\mu}_{0} - {\\mu}_{1},g_{2},g_{3} \\right)} \\sigma{\\left({\\mu}_{0},g_{2},g_{3} \\right)} \\sigma{\\left({\\mu}_{1},g_{2},g_{3} \\right)}}$"
      ],
      "text/plain": [
       "Eq(-Det(Matrix([\n",
       "[1, pw(mu[0], g2, g3), Derivative(pw(mu[0], g2, g3), mu[0])],\n",
       "[1, pw(mu[1], g2, g3), Derivative(pw(mu[1], g2, g3), mu[1])],\n",
       "[1,     pw(z, g2, g3),         Derivative(pw(z, g2, g3), z)]]))*Det(Matrix([\n",
       "[1, pw(mu[0], g2, g3)],\n",
       "[1, pw(mu[1], g2, g3)]]))**(-1)/2, sigma(-z + mu[0], g2, g3)*sigma(-z + mu[1], g2, g3)*sigma(-z - mu[0] - mu[1], g2, g3)/(sigma(z, g2, g3)**3*sigma(-mu[0] - mu[1], g2, g3)*sigma(mu[0], g2, g3)*sigma(mu[1], g2, g3)))"
      ]
     },
     "execution_count": 27,
     "metadata": {},
     "output_type": "execute_result"
    }
   ],
   "source": [
    "frob_stick_1dz_ratio(2)"
   ]
  },
  {
   "cell_type": "code",
   "execution_count": 28,
   "metadata": {},
   "outputs": [
    {
     "data": {
      "text/latex": [
       "$\\displaystyle - \\frac{- \\operatorname{pw}{\\left({\\mu}_{0},g_{2},g_{3} \\right)} \\frac{\\partial}{\\partial {\\mu}_{1}} \\operatorname{pw}{\\left({\\mu}_{1},g_{2},g_{3} \\right)} + \\operatorname{pw}{\\left({\\mu}_{1},g_{2},g_{3} \\right)} \\frac{\\partial}{\\partial {\\mu}_{0}} \\operatorname{pw}{\\left({\\mu}_{0},g_{2},g_{3} \\right)}}{2 \\left(\\operatorname{pw}{\\left({\\mu}_{0},g_{2},g_{3} \\right)} - \\operatorname{pw}{\\left({\\mu}_{1},g_{2},g_{3} \\right)}\\right)} - \\frac{\\frac{\\partial}{\\partial z} \\operatorname{pw}{\\left(z,g_{2},g_{3} \\right)}}{2} + \\frac{\\left(\\frac{\\partial}{\\partial {\\mu}_{0}} \\operatorname{pw}{\\left({\\mu}_{0},g_{2},g_{3} \\right)} - \\frac{\\partial}{\\partial {\\mu}_{1}} \\operatorname{pw}{\\left({\\mu}_{1},g_{2},g_{3} \\right)}\\right) \\operatorname{pw}{\\left(z,g_{2},g_{3} \\right)}}{2 \\left(\\operatorname{pw}{\\left({\\mu}_{0},g_{2},g_{3} \\right)} - \\operatorname{pw}{\\left({\\mu}_{1},g_{2},g_{3} \\right)}\\right)} = \\frac{\\sigma{\\left(- z + {\\mu}_{0},g_{2},g_{3} \\right)} \\sigma{\\left(- z + {\\mu}_{1},g_{2},g_{3} \\right)} \\sigma{\\left(- z - {\\mu}_{0} - {\\mu}_{1},g_{2},g_{3} \\right)}}{\\sigma^{3}{\\left(z,g_{2},g_{3} \\right)} \\sigma{\\left(- {\\mu}_{0} - {\\mu}_{1},g_{2},g_{3} \\right)} \\sigma{\\left({\\mu}_{0},g_{2},g_{3} \\right)} \\sigma{\\left({\\mu}_{1},g_{2},g_{3} \\right)}}$"
      ],
      "text/plain": [
       "Eq(-(-pw(mu[0], g2, g3)*Derivative(pw(mu[1], g2, g3), mu[1]) + pw(mu[1], g2, g3)*Derivative(pw(mu[0], g2, g3), mu[0]))/(2*(pw(mu[0], g2, g3) - pw(mu[1], g2, g3))) - Derivative(pw(z, g2, g3), z)/2 + (Derivative(pw(mu[0], g2, g3), mu[0]) - Derivative(pw(mu[1], g2, g3), mu[1]))*pw(z, g2, g3)/(2*(pw(mu[0], g2, g3) - pw(mu[1], g2, g3))), sigma(-z + mu[0], g2, g3)*sigma(-z + mu[1], g2, g3)*sigma(-z - mu[0] - mu[1], g2, g3)/(sigma(z, g2, g3)**3*sigma(-mu[0] - mu[1], g2, g3)*sigma(mu[0], g2, g3)*sigma(mu[1], g2, g3)))"
      ]
     },
     "execution_count": 28,
     "metadata": {},
     "output_type": "execute_result"
    }
   ],
   "source": [
    "frob_stick_1dz_ratio(2,evaluated=True)"
   ]
  },
  {
   "cell_type": "markdown",
   "metadata": {},
   "source": [
    "### Example for the $N=3$ case"
   ]
  },
  {
   "cell_type": "code",
   "execution_count": 29,
   "metadata": {},
   "outputs": [
    {
     "data": {
      "text/latex": [
       "$\\displaystyle \\frac{\\operatorname{Det}{\\left(\\left[\\begin{matrix}1 & \\operatorname{pw}{\\left({\\mu}_{0},g_{2},g_{3} \\right)} & \\frac{\\partial}{\\partial {\\mu}_{0}} \\operatorname{pw}{\\left({\\mu}_{0},g_{2},g_{3} \\right)} & \\frac{\\partial^{2}}{\\partial {\\mu}_{0}^{2}} \\operatorname{pw}{\\left({\\mu}_{0},g_{2},g_{3} \\right)}\\\\1 & \\operatorname{pw}{\\left({\\mu}_{1},g_{2},g_{3} \\right)} & \\frac{\\partial}{\\partial {\\mu}_{1}} \\operatorname{pw}{\\left({\\mu}_{1},g_{2},g_{3} \\right)} & \\frac{\\partial^{2}}{\\partial {\\mu}_{1}^{2}} \\operatorname{pw}{\\left({\\mu}_{1},g_{2},g_{3} \\right)}\\\\1 & \\operatorname{pw}{\\left({\\mu}_{2},g_{2},g_{3} \\right)} & \\frac{\\partial}{\\partial {\\mu}_{2}} \\operatorname{pw}{\\left({\\mu}_{2},g_{2},g_{3} \\right)} & \\frac{\\partial^{2}}{\\partial {\\mu}_{2}^{2}} \\operatorname{pw}{\\left({\\mu}_{2},g_{2},g_{3} \\right)}\\\\1 & \\operatorname{pw}{\\left(z,g_{2},g_{3} \\right)} & \\frac{\\partial}{\\partial z} \\operatorname{pw}{\\left(z,g_{2},g_{3} \\right)} & \\frac{\\partial^{2}}{\\partial z^{2}} \\operatorname{pw}{\\left(z,g_{2},g_{3} \\right)}\\end{matrix}\\right] \\right)} \\operatorname{Det}^{-1}{\\left(\\left[\\begin{matrix}1 & \\operatorname{pw}{\\left({\\mu}_{0},g_{2},g_{3} \\right)} & \\frac{\\partial}{\\partial {\\mu}_{0}} \\operatorname{pw}{\\left({\\mu}_{0},g_{2},g_{3} \\right)}\\\\1 & \\operatorname{pw}{\\left({\\mu}_{1},g_{2},g_{3} \\right)} & \\frac{\\partial}{\\partial {\\mu}_{1}} \\operatorname{pw}{\\left({\\mu}_{1},g_{2},g_{3} \\right)}\\\\1 & \\operatorname{pw}{\\left({\\mu}_{2},g_{2},g_{3} \\right)} & \\frac{\\partial}{\\partial {\\mu}_{2}} \\operatorname{pw}{\\left({\\mu}_{2},g_{2},g_{3} \\right)}\\end{matrix}\\right] \\right)}}{6} = \\frac{\\sigma{\\left(- z + {\\mu}_{0},g_{2},g_{3} \\right)} \\sigma{\\left(- z + {\\mu}_{1},g_{2},g_{3} \\right)} \\sigma{\\left(- z + {\\mu}_{2},g_{2},g_{3} \\right)} \\sigma{\\left(- z - {\\mu}_{0} - {\\mu}_{1} - {\\mu}_{2},g_{2},g_{3} \\right)}}{\\sigma^{4}{\\left(z,g_{2},g_{3} \\right)} \\sigma{\\left(- {\\mu}_{0} - {\\mu}_{1} - {\\mu}_{2},g_{2},g_{3} \\right)} \\sigma{\\left({\\mu}_{0},g_{2},g_{3} \\right)} \\sigma{\\left({\\mu}_{1},g_{2},g_{3} \\right)} \\sigma{\\left({\\mu}_{2},g_{2},g_{3} \\right)}}$"
      ],
      "text/plain": [
       "Eq(Det(Matrix([\n",
       "[1, pw(mu[0], g2, g3), Derivative(pw(mu[0], g2, g3), mu[0]), Derivative(pw(mu[0], g2, g3), (mu[0], 2))],\n",
       "[1, pw(mu[1], g2, g3), Derivative(pw(mu[1], g2, g3), mu[1]), Derivative(pw(mu[1], g2, g3), (mu[1], 2))],\n",
       "[1, pw(mu[2], g2, g3), Derivative(pw(mu[2], g2, g3), mu[2]), Derivative(pw(mu[2], g2, g3), (mu[2], 2))],\n",
       "[1,     pw(z, g2, g3),         Derivative(pw(z, g2, g3), z),         Derivative(pw(z, g2, g3), (z, 2))]]))*Det(Matrix([\n",
       "[1, pw(mu[0], g2, g3), Derivative(pw(mu[0], g2, g3), mu[0])],\n",
       "[1, pw(mu[1], g2, g3), Derivative(pw(mu[1], g2, g3), mu[1])],\n",
       "[1, pw(mu[2], g2, g3), Derivative(pw(mu[2], g2, g3), mu[2])]]))**(-1)/6, sigma(-z + mu[0], g2, g3)*sigma(-z + mu[1], g2, g3)*sigma(-z + mu[2], g2, g3)*sigma(-z - mu[0] - mu[1] - mu[2], g2, g3)/(sigma(z, g2, g3)**4*sigma(-mu[0] - mu[1] - mu[2], g2, g3)*sigma(mu[0], g2, g3)*sigma(mu[1], g2, g3)*sigma(mu[2], g2, g3)))"
      ]
     },
     "execution_count": 29,
     "metadata": {},
     "output_type": "execute_result"
    }
   ],
   "source": [
    "frob_stick_1dz_ratio(3)"
   ]
  },
  {
   "cell_type": "code",
   "execution_count": 30,
   "metadata": {},
   "outputs": [
    {
     "data": {
      "text/latex": [
       "$\\displaystyle \\frac{\\frac{\\partial^{2}}{\\partial z^{2}} \\operatorname{pw}{\\left(z,g_{2},g_{3} \\right)}}{6} - \\frac{\\left(- \\operatorname{pw}{\\left({\\mu}_{0},g_{2},g_{3} \\right)} \\frac{\\partial^{2}}{\\partial {\\mu}_{1}^{2}} \\operatorname{pw}{\\left({\\mu}_{1},g_{2},g_{3} \\right)} + \\operatorname{pw}{\\left({\\mu}_{0},g_{2},g_{3} \\right)} \\frac{\\partial^{2}}{\\partial {\\mu}_{2}^{2}} \\operatorname{pw}{\\left({\\mu}_{2},g_{2},g_{3} \\right)} + \\operatorname{pw}{\\left({\\mu}_{1},g_{2},g_{3} \\right)} \\frac{\\partial^{2}}{\\partial {\\mu}_{0}^{2}} \\operatorname{pw}{\\left({\\mu}_{0},g_{2},g_{3} \\right)} - \\operatorname{pw}{\\left({\\mu}_{1},g_{2},g_{3} \\right)} \\frac{\\partial^{2}}{\\partial {\\mu}_{2}^{2}} \\operatorname{pw}{\\left({\\mu}_{2},g_{2},g_{3} \\right)} - \\operatorname{pw}{\\left({\\mu}_{2},g_{2},g_{3} \\right)} \\frac{\\partial^{2}}{\\partial {\\mu}_{0}^{2}} \\operatorname{pw}{\\left({\\mu}_{0},g_{2},g_{3} \\right)} + \\operatorname{pw}{\\left({\\mu}_{2},g_{2},g_{3} \\right)} \\frac{\\partial^{2}}{\\partial {\\mu}_{1}^{2}} \\operatorname{pw}{\\left({\\mu}_{1},g_{2},g_{3} \\right)}\\right) \\frac{\\partial}{\\partial z} \\operatorname{pw}{\\left(z,g_{2},g_{3} \\right)}}{6 \\left(- \\operatorname{pw}{\\left({\\mu}_{0},g_{2},g_{3} \\right)} \\frac{\\partial}{\\partial {\\mu}_{1}} \\operatorname{pw}{\\left({\\mu}_{1},g_{2},g_{3} \\right)} + \\operatorname{pw}{\\left({\\mu}_{0},g_{2},g_{3} \\right)} \\frac{\\partial}{\\partial {\\mu}_{2}} \\operatorname{pw}{\\left({\\mu}_{2},g_{2},g_{3} \\right)} + \\operatorname{pw}{\\left({\\mu}_{1},g_{2},g_{3} \\right)} \\frac{\\partial}{\\partial {\\mu}_{0}} \\operatorname{pw}{\\left({\\mu}_{0},g_{2},g_{3} \\right)} - \\operatorname{pw}{\\left({\\mu}_{1},g_{2},g_{3} \\right)} \\frac{\\partial}{\\partial {\\mu}_{2}} \\operatorname{pw}{\\left({\\mu}_{2},g_{2},g_{3} \\right)} - \\operatorname{pw}{\\left({\\mu}_{2},g_{2},g_{3} \\right)} \\frac{\\partial}{\\partial {\\mu}_{0}} \\operatorname{pw}{\\left({\\mu}_{0},g_{2},g_{3} \\right)} + \\operatorname{pw}{\\left({\\mu}_{2},g_{2},g_{3} \\right)} \\frac{\\partial}{\\partial {\\mu}_{1}} \\operatorname{pw}{\\left({\\mu}_{1},g_{2},g_{3} \\right)}\\right)} + \\frac{\\left(- \\frac{\\partial}{\\partial {\\mu}_{0}} \\operatorname{pw}{\\left({\\mu}_{0},g_{2},g_{3} \\right)} \\frac{\\partial^{2}}{\\partial {\\mu}_{1}^{2}} \\operatorname{pw}{\\left({\\mu}_{1},g_{2},g_{3} \\right)} + \\frac{\\partial}{\\partial {\\mu}_{0}} \\operatorname{pw}{\\left({\\mu}_{0},g_{2},g_{3} \\right)} \\frac{\\partial^{2}}{\\partial {\\mu}_{2}^{2}} \\operatorname{pw}{\\left({\\mu}_{2},g_{2},g_{3} \\right)} + \\frac{\\partial^{2}}{\\partial {\\mu}_{0}^{2}} \\operatorname{pw}{\\left({\\mu}_{0},g_{2},g_{3} \\right)} \\frac{\\partial}{\\partial {\\mu}_{1}} \\operatorname{pw}{\\left({\\mu}_{1},g_{2},g_{3} \\right)} - \\frac{\\partial^{2}}{\\partial {\\mu}_{0}^{2}} \\operatorname{pw}{\\left({\\mu}_{0},g_{2},g_{3} \\right)} \\frac{\\partial}{\\partial {\\mu}_{2}} \\operatorname{pw}{\\left({\\mu}_{2},g_{2},g_{3} \\right)} - \\frac{\\partial}{\\partial {\\mu}_{1}} \\operatorname{pw}{\\left({\\mu}_{1},g_{2},g_{3} \\right)} \\frac{\\partial^{2}}{\\partial {\\mu}_{2}^{2}} \\operatorname{pw}{\\left({\\mu}_{2},g_{2},g_{3} \\right)} + \\frac{\\partial^{2}}{\\partial {\\mu}_{1}^{2}} \\operatorname{pw}{\\left({\\mu}_{1},g_{2},g_{3} \\right)} \\frac{\\partial}{\\partial {\\mu}_{2}} \\operatorname{pw}{\\left({\\mu}_{2},g_{2},g_{3} \\right)}\\right) \\operatorname{pw}{\\left(z,g_{2},g_{3} \\right)}}{6 \\left(- \\operatorname{pw}{\\left({\\mu}_{0},g_{2},g_{3} \\right)} \\frac{\\partial}{\\partial {\\mu}_{1}} \\operatorname{pw}{\\left({\\mu}_{1},g_{2},g_{3} \\right)} + \\operatorname{pw}{\\left({\\mu}_{0},g_{2},g_{3} \\right)} \\frac{\\partial}{\\partial {\\mu}_{2}} \\operatorname{pw}{\\left({\\mu}_{2},g_{2},g_{3} \\right)} + \\operatorname{pw}{\\left({\\mu}_{1},g_{2},g_{3} \\right)} \\frac{\\partial}{\\partial {\\mu}_{0}} \\operatorname{pw}{\\left({\\mu}_{0},g_{2},g_{3} \\right)} - \\operatorname{pw}{\\left({\\mu}_{1},g_{2},g_{3} \\right)} \\frac{\\partial}{\\partial {\\mu}_{2}} \\operatorname{pw}{\\left({\\mu}_{2},g_{2},g_{3} \\right)} - \\operatorname{pw}{\\left({\\mu}_{2},g_{2},g_{3} \\right)} \\frac{\\partial}{\\partial {\\mu}_{0}} \\operatorname{pw}{\\left({\\mu}_{0},g_{2},g_{3} \\right)} + \\operatorname{pw}{\\left({\\mu}_{2},g_{2},g_{3} \\right)} \\frac{\\partial}{\\partial {\\mu}_{1}} \\operatorname{pw}{\\left({\\mu}_{1},g_{2},g_{3} \\right)}\\right)} - \\frac{- \\operatorname{pw}{\\left({\\mu}_{0},g_{2},g_{3} \\right)} \\frac{\\partial}{\\partial {\\mu}_{1}} \\operatorname{pw}{\\left({\\mu}_{1},g_{2},g_{3} \\right)} \\frac{\\partial^{2}}{\\partial {\\mu}_{2}^{2}} \\operatorname{pw}{\\left({\\mu}_{2},g_{2},g_{3} \\right)} + \\operatorname{pw}{\\left({\\mu}_{0},g_{2},g_{3} \\right)} \\frac{\\partial^{2}}{\\partial {\\mu}_{1}^{2}} \\operatorname{pw}{\\left({\\mu}_{1},g_{2},g_{3} \\right)} \\frac{\\partial}{\\partial {\\mu}_{2}} \\operatorname{pw}{\\left({\\mu}_{2},g_{2},g_{3} \\right)} + \\operatorname{pw}{\\left({\\mu}_{1},g_{2},g_{3} \\right)} \\frac{\\partial}{\\partial {\\mu}_{0}} \\operatorname{pw}{\\left({\\mu}_{0},g_{2},g_{3} \\right)} \\frac{\\partial^{2}}{\\partial {\\mu}_{2}^{2}} \\operatorname{pw}{\\left({\\mu}_{2},g_{2},g_{3} \\right)} - \\operatorname{pw}{\\left({\\mu}_{1},g_{2},g_{3} \\right)} \\frac{\\partial^{2}}{\\partial {\\mu}_{0}^{2}} \\operatorname{pw}{\\left({\\mu}_{0},g_{2},g_{3} \\right)} \\frac{\\partial}{\\partial {\\mu}_{2}} \\operatorname{pw}{\\left({\\mu}_{2},g_{2},g_{3} \\right)} - \\operatorname{pw}{\\left({\\mu}_{2},g_{2},g_{3} \\right)} \\frac{\\partial}{\\partial {\\mu}_{0}} \\operatorname{pw}{\\left({\\mu}_{0},g_{2},g_{3} \\right)} \\frac{\\partial^{2}}{\\partial {\\mu}_{1}^{2}} \\operatorname{pw}{\\left({\\mu}_{1},g_{2},g_{3} \\right)} + \\operatorname{pw}{\\left({\\mu}_{2},g_{2},g_{3} \\right)} \\frac{\\partial^{2}}{\\partial {\\mu}_{0}^{2}} \\operatorname{pw}{\\left({\\mu}_{0},g_{2},g_{3} \\right)} \\frac{\\partial}{\\partial {\\mu}_{1}} \\operatorname{pw}{\\left({\\mu}_{1},g_{2},g_{3} \\right)}}{6 \\left(- \\operatorname{pw}{\\left({\\mu}_{0},g_{2},g_{3} \\right)} \\frac{\\partial}{\\partial {\\mu}_{1}} \\operatorname{pw}{\\left({\\mu}_{1},g_{2},g_{3} \\right)} + \\operatorname{pw}{\\left({\\mu}_{0},g_{2},g_{3} \\right)} \\frac{\\partial}{\\partial {\\mu}_{2}} \\operatorname{pw}{\\left({\\mu}_{2},g_{2},g_{3} \\right)} + \\operatorname{pw}{\\left({\\mu}_{1},g_{2},g_{3} \\right)} \\frac{\\partial}{\\partial {\\mu}_{0}} \\operatorname{pw}{\\left({\\mu}_{0},g_{2},g_{3} \\right)} - \\operatorname{pw}{\\left({\\mu}_{1},g_{2},g_{3} \\right)} \\frac{\\partial}{\\partial {\\mu}_{2}} \\operatorname{pw}{\\left({\\mu}_{2},g_{2},g_{3} \\right)} - \\operatorname{pw}{\\left({\\mu}_{2},g_{2},g_{3} \\right)} \\frac{\\partial}{\\partial {\\mu}_{0}} \\operatorname{pw}{\\left({\\mu}_{0},g_{2},g_{3} \\right)} + \\operatorname{pw}{\\left({\\mu}_{2},g_{2},g_{3} \\right)} \\frac{\\partial}{\\partial {\\mu}_{1}} \\operatorname{pw}{\\left({\\mu}_{1},g_{2},g_{3} \\right)}\\right)} = \\frac{\\sigma{\\left(- z + {\\mu}_{0},g_{2},g_{3} \\right)} \\sigma{\\left(- z + {\\mu}_{1},g_{2},g_{3} \\right)} \\sigma{\\left(- z + {\\mu}_{2},g_{2},g_{3} \\right)} \\sigma{\\left(- z - {\\mu}_{0} - {\\mu}_{1} - {\\mu}_{2},g_{2},g_{3} \\right)}}{\\sigma^{4}{\\left(z,g_{2},g_{3} \\right)} \\sigma{\\left(- {\\mu}_{0} - {\\mu}_{1} - {\\mu}_{2},g_{2},g_{3} \\right)} \\sigma{\\left({\\mu}_{0},g_{2},g_{3} \\right)} \\sigma{\\left({\\mu}_{1},g_{2},g_{3} \\right)} \\sigma{\\left({\\mu}_{2},g_{2},g_{3} \\right)}}$"
      ],
      "text/plain": [
       "Eq(Derivative(pw(z, g2, g3), (z, 2))/6 - (-pw(mu[0], g2, g3)*Derivative(pw(mu[1], g2, g3), (mu[1], 2)) + pw(mu[0], g2, g3)*Derivative(pw(mu[2], g2, g3), (mu[2], 2)) + pw(mu[1], g2, g3)*Derivative(pw(mu[0], g2, g3), (mu[0], 2)) - pw(mu[1], g2, g3)*Derivative(pw(mu[2], g2, g3), (mu[2], 2)) - pw(mu[2], g2, g3)*Derivative(pw(mu[0], g2, g3), (mu[0], 2)) + pw(mu[2], g2, g3)*Derivative(pw(mu[1], g2, g3), (mu[1], 2)))*Derivative(pw(z, g2, g3), z)/(6*(-pw(mu[0], g2, g3)*Derivative(pw(mu[1], g2, g3), mu[1]) + pw(mu[0], g2, g3)*Derivative(pw(mu[2], g2, g3), mu[2]) + pw(mu[1], g2, g3)*Derivative(pw(mu[0], g2, g3), mu[0]) - pw(mu[1], g2, g3)*Derivative(pw(mu[2], g2, g3), mu[2]) - pw(mu[2], g2, g3)*Derivative(pw(mu[0], g2, g3), mu[0]) + pw(mu[2], g2, g3)*Derivative(pw(mu[1], g2, g3), mu[1]))) + (-Derivative(pw(mu[0], g2, g3), mu[0])*Derivative(pw(mu[1], g2, g3), (mu[1], 2)) + Derivative(pw(mu[0], g2, g3), mu[0])*Derivative(pw(mu[2], g2, g3), (mu[2], 2)) + Derivative(pw(mu[0], g2, g3), (mu[0], 2))*Derivative(pw(mu[1], g2, g3), mu[1]) - Derivative(pw(mu[0], g2, g3), (mu[0], 2))*Derivative(pw(mu[2], g2, g3), mu[2]) - Derivative(pw(mu[1], g2, g3), mu[1])*Derivative(pw(mu[2], g2, g3), (mu[2], 2)) + Derivative(pw(mu[1], g2, g3), (mu[1], 2))*Derivative(pw(mu[2], g2, g3), mu[2]))*pw(z, g2, g3)/(6*(-pw(mu[0], g2, g3)*Derivative(pw(mu[1], g2, g3), mu[1]) + pw(mu[0], g2, g3)*Derivative(pw(mu[2], g2, g3), mu[2]) + pw(mu[1], g2, g3)*Derivative(pw(mu[0], g2, g3), mu[0]) - pw(mu[1], g2, g3)*Derivative(pw(mu[2], g2, g3), mu[2]) - pw(mu[2], g2, g3)*Derivative(pw(mu[0], g2, g3), mu[0]) + pw(mu[2], g2, g3)*Derivative(pw(mu[1], g2, g3), mu[1]))) - (-pw(mu[0], g2, g3)*Derivative(pw(mu[1], g2, g3), mu[1])*Derivative(pw(mu[2], g2, g3), (mu[2], 2)) + pw(mu[0], g2, g3)*Derivative(pw(mu[1], g2, g3), (mu[1], 2))*Derivative(pw(mu[2], g2, g3), mu[2]) + pw(mu[1], g2, g3)*Derivative(pw(mu[0], g2, g3), mu[0])*Derivative(pw(mu[2], g2, g3), (mu[2], 2)) - pw(mu[1], g2, g3)*Derivative(pw(mu[0], g2, g3), (mu[0], 2))*Derivative(pw(mu[2], g2, g3), mu[2]) - pw(mu[2], g2, g3)*Derivative(pw(mu[0], g2, g3), mu[0])*Derivative(pw(mu[1], g2, g3), (mu[1], 2)) + pw(mu[2], g2, g3)*Derivative(pw(mu[0], g2, g3), (mu[0], 2))*Derivative(pw(mu[1], g2, g3), mu[1]))/(6*(-pw(mu[0], g2, g3)*Derivative(pw(mu[1], g2, g3), mu[1]) + pw(mu[0], g2, g3)*Derivative(pw(mu[2], g2, g3), mu[2]) + pw(mu[1], g2, g3)*Derivative(pw(mu[0], g2, g3), mu[0]) - pw(mu[1], g2, g3)*Derivative(pw(mu[2], g2, g3), mu[2]) - pw(mu[2], g2, g3)*Derivative(pw(mu[0], g2, g3), mu[0]) + pw(mu[2], g2, g3)*Derivative(pw(mu[1], g2, g3), mu[1]))), sigma(-z + mu[0], g2, g3)*sigma(-z + mu[1], g2, g3)*sigma(-z + mu[2], g2, g3)*sigma(-z - mu[0] - mu[1] - mu[2], g2, g3)/(sigma(z, g2, g3)**4*sigma(-mu[0] - mu[1] - mu[2], g2, g3)*sigma(mu[0], g2, g3)*sigma(mu[1], g2, g3)*sigma(mu[2], g2, g3)))"
      ]
     },
     "execution_count": 30,
     "metadata": {},
     "output_type": "execute_result"
    }
   ],
   "source": [
    "fb3 = frob_stick_1dz_ratio(3,evaluated=True)\n",
    "fb3"
   ]
  },
  {
   "cell_type": "markdown",
   "metadata": {},
   "source": [
    "Consequently it has been shown that:"
   ]
  },
  {
   "cell_type": "code",
   "execution_count": 31,
   "metadata": {},
   "outputs": [
    {
     "data": {
      "text/latex": [
       "$\\displaystyle \\prod_{l=0}^{N} \\frac{\\sigma{\\left(- z + {\\xi}_{l},g_{2},g_{3} \\right)}}{\\sigma{\\left(z,g_{2},g_{3} \\right)} \\sigma{\\left({\\xi}_{l},g_{2},g_{3} \\right)}} = {c}_{0} + \\sum_{j=0}^{N - 1} \\frac{\\partial^{j}}{\\partial z^{j}} \\operatorname{pw}{\\left(z,g_{2},g_{3} \\right)} {c}_{j + 1}$"
      ],
      "text/plain": [
       "Eq(Product(sigma(-z + xi[l], g2, g3)/(sigma(z, g2, g3)*sigma(xi[l], g2, g3)), (l, 0, N)), c[0] + Sum(Derivative(pw(z, g2, g3), (z, j))*c[j + 1], (j, 0, N - 1)))"
      ]
     },
     "execution_count": 31,
     "metadata": {},
     "output_type": "execute_result"
    }
   ],
   "source": [
    "sigma_product_wp_diff_eq = Eq((sigma_product_f_s_N_over_N_minus_1/((-1)**(N-1)*factorial(N))).simplify(),\n",
    "   c[0] + Sum(c[j+1]*Derivative(pw(z,g2,g3),(z,j)),(j,0,N-1))\n",
    "  )\n",
    "sigma_product_wp_diff_eq"
   ]
  },
  {
   "cell_type": "code",
   "execution_count": 32,
   "metadata": {},
   "outputs": [
    {
     "data": {
      "text/latex": [
       "$\\displaystyle \\prod_{l=0}^{N} - \\frac{\\sigma{\\left(z + {\\xi}_{l},g_{2},g_{3} \\right)}}{\\sigma{\\left(z,g_{2},g_{3} \\right)} \\sigma{\\left({\\xi}_{l},g_{2},g_{3} \\right)}} = {c}_{0} + \\sum_{j=0}^{N - 1} {c}_{j + 1} \\left. \\frac{\\partial^{j}}{\\partial z^{j}} \\operatorname{pw}{\\left(z,g_{2},g_{3} \\right)} \\right|_{\\substack{ z=- z }}$"
      ],
      "text/plain": [
       "Eq(Product(-sigma(z + xi[l], g2, g3)/(sigma(z, g2, g3)*sigma(xi[l], g2, g3)), (l, 0, N)), c[0] + Sum(c[j + 1]*Subs(Derivative(pw(z, g2, g3), (z, j)), z, -z), (j, 0, N - 1)))"
      ]
     },
     "execution_count": 32,
     "metadata": {},
     "output_type": "execute_result"
    }
   ],
   "source": [
    "sigma_product_wp_diff_eq.subs(z,-z).subs([\n",
    "    (sigma(-z,g2,g3),-sigma(z,g2,g3)),\n",
    "    (Derivative(pw(z,g2,g3),(z,j)).subs(z,-z),(-1)**j*Derivative(pw(z,g2,g3),(z,j)))\n",
    "])"
   ]
  },
  {
   "cell_type": "code",
   "execution_count": 33,
   "metadata": {},
   "outputs": [
    {
     "data": {
      "text/latex": [
       "$\\displaystyle \\left. \\frac{\\partial^{j}}{\\partial z^{j}} \\operatorname{pw}{\\left(z,g_{2},g_{3} \\right)} \\right|_{\\substack{ z=- z }} = \\left(-1\\right)^{j} \\frac{\\partial^{j}}{\\partial z^{j}} \\operatorname{pw}{\\left(z,g_{2},g_{3} \\right)}$"
      ],
      "text/plain": [
       "Eq(Subs(Derivative(pw(z, g2, g3), (z, j)), z, -z), (-1)**j*Derivative(pw(z, g2, g3), (z, j)))"
      ]
     },
     "execution_count": 33,
     "metadata": {},
     "output_type": "execute_result"
    }
   ],
   "source": [
    "Eq(Derivative(pw(z,g2,g3),(z,j)).subs(z,-z),(-1)**j*Derivative(pw(z,g2,g3),(z,j)))"
   ]
  },
  {
   "cell_type": "code",
   "execution_count": 34,
   "metadata": {},
   "outputs": [
    {
     "data": {
      "text/latex": [
       "$\\displaystyle \\left(-1\\right)^{N + 1} \\prod_{l=0}^{N} \\frac{\\sigma{\\left(z + {\\xi}_{l},g_{2},g_{3} \\right)}}{\\sigma{\\left(z,g_{2},g_{3} \\right)} \\sigma{\\left({\\xi}_{l},g_{2},g_{3} \\right)}} = {c}_{0} + \\sum_{j=0}^{N - 1} \\left(-1\\right)^{j} \\frac{\\partial^{j}}{\\partial z^{j}} \\operatorname{pw}{\\left(z,g_{2},g_{3} \\right)} {c}_{j + 1}$"
      ],
      "text/plain": [
       "Eq((-1)**(N + 1)*Product(sigma(z + xi[l], g2, g3)/(sigma(z, g2, g3)*sigma(xi[l], g2, g3)), (l, 0, N)), c[0] + Sum((-1)**j*Derivative(pw(z, g2, g3), (z, j))*c[j + 1], (j, 0, N - 1)))"
      ]
     },
     "execution_count": 34,
     "metadata": {},
     "output_type": "execute_result"
    }
   ],
   "source": [
    "sigma_product_wp_diff_eq_minus = Eq((-1)**(N+1)*Product(sigma(z+xi[l],g2,g3)/sigma(z,g2,g3)/sigma(xi[l],g2,g3),(l,0,N)),\n",
    "   c[0] + Sum((-1)**j*c[j+1]*Derivative(pw(z,g2,g3),(z,j)),(j,0,N-1))\n",
    "  )\n",
    "sigma_product_wp_diff_eq_minus"
   ]
  },
  {
   "cell_type": "code",
   "execution_count": 35,
   "metadata": {},
   "outputs": [
    {
     "data": {
      "text/latex": [
       "$\\displaystyle \\left(-1\\right)^{N + 1} \\prod_{l=0}^{N} \\frac{\\sigma{\\left(z + {\\xi}_{l},g_{2},g_{3} \\right)}}{\\sigma{\\left(z,g_{2},g_{3} \\right)} \\sigma{\\left({\\xi}_{l},g_{2},g_{3} \\right)}} + \\prod_{l=0}^{N} \\frac{\\sigma{\\left(- z + {\\xi}_{l},g_{2},g_{3} \\right)}}{\\sigma{\\left(z,g_{2},g_{3} \\right)} \\sigma{\\left({\\xi}_{l},g_{2},g_{3} \\right)}} = 2 {c}_{0} + \\sum_{j=0}^{N - 1} \\frac{\\partial^{j}}{\\partial z^{j}} \\operatorname{pw}{\\left(z,g_{2},g_{3} \\right)} {c}_{j + 1} + \\sum_{j=0}^{N - 1} \\left(-1\\right)^{j} \\frac{\\partial^{j}}{\\partial z^{j}} \\operatorname{pw}{\\left(z,g_{2},g_{3} \\right)} {c}_{j + 1}$"
      ],
      "text/plain": [
       "Eq((-1)**(N + 1)*Product(sigma(z + xi[l], g2, g3)/(sigma(z, g2, g3)*sigma(xi[l], g2, g3)), (l, 0, N)) + Product(sigma(-z + xi[l], g2, g3)/(sigma(z, g2, g3)*sigma(xi[l], g2, g3)), (l, 0, N)), 2*c[0] + Sum(Derivative(pw(z, g2, g3), (z, j))*c[j + 1], (j, 0, N - 1)) + Sum((-1)**j*Derivative(pw(z, g2, g3), (z, j))*c[j + 1], (j, 0, N - 1)))"
      ]
     },
     "execution_count": 35,
     "metadata": {},
     "output_type": "execute_result"
    }
   ],
   "source": [
    "Eq(Product(sigma(-z+xi[l],g2,g3)/sigma(z,g2,g3)/sigma(xi[l],g2,g3),(l,0,N)) +\n",
    "   (-1)**(N+1)*Product(sigma(z+xi[l],g2,g3)/sigma(z,g2,g3)/sigma(xi[l],g2,g3),(l,0,N)),\n",
    "   c[0] + Sum(c[j+1]*Derivative(pw(z,g2,g3),(z,j)),(j,0,N-1)) +\n",
    "  c[0] + Sum((-1)**j*c[j+1]*Derivative(pw(z,g2,g3),(z,j)),(j,0,N-1)) \n",
    "  )"
   ]
  },
  {
   "cell_type": "code",
   "execution_count": 36,
   "metadata": {},
   "outputs": [
    {
     "data": {
      "text/latex": [
       "$\\displaystyle \\left(-1\\right)^{N + 1} \\prod_{l=0}^{N} \\frac{\\sigma{\\left(z + {\\xi}_{l},g_{2},g_{3} \\right)}}{\\sigma{\\left(z,g_{2},g_{3} \\right)} \\sigma{\\left({\\xi}_{l},g_{2},g_{3} \\right)}} + \\prod_{l=0}^{N} \\frac{\\sigma{\\left(- z + {\\xi}_{l},g_{2},g_{3} \\right)}}{\\sigma{\\left(z,g_{2},g_{3} \\right)} \\sigma{\\left({\\xi}_{l},g_{2},g_{3} \\right)}} = 2 {c}_{0} + 2 \\sum_{j=0}^{\\left\\lfloor{\\frac{N}{2} - \\frac{1}{2}}\\right\\rfloor} \\frac{\\partial^{2 j}}{\\partial z^{2 j}} \\operatorname{pw}{\\left(z,g_{2},g_{3} \\right)} {c}_{2 j + 1}$"
      ],
      "text/plain": [
       "Eq((-1)**(N + 1)*Product(sigma(z + xi[l], g2, g3)/(sigma(z, g2, g3)*sigma(xi[l], g2, g3)), (l, 0, N)) + Product(sigma(-z + xi[l], g2, g3)/(sigma(z, g2, g3)*sigma(xi[l], g2, g3)), (l, 0, N)), 2*c[0] + 2*Sum(Derivative(pw(z, g2, g3), (z, 2*j))*c[2*j + 1], (j, 0, floor(N/2 - 1/2))))"
      ]
     },
     "execution_count": 36,
     "metadata": {},
     "output_type": "execute_result"
    }
   ],
   "source": [
    "sigma_product_wp_sum_sym = Eq(Product(sigma(-z+xi[l],g2,g3)/sigma(z,g2,g3)/sigma(xi[l],g2,g3),(l,0,N)) +\n",
    "   (-1)**(N+1)*Product(sigma(z+xi[l],g2,g3)/sigma(z,g2,g3)/sigma(xi[l],g2,g3),(l,0,N)),\n",
    "   2*c[0] + 2*Sum(c[2*j+1]*Derivative(pw(z,g2,g3),(z,2*j)),(j,0,floor((N-1)/2)))\n",
    "  )\n",
    "sigma_product_wp_sum_sym"
   ]
  },
  {
   "cell_type": "markdown",
   "metadata": {},
   "source": [
    "As the higher order derivatives of the Weierstrass P function can be written as polynomials in the Weierstrass P function for even order derivatives and polynomials in the Weierstrass P function multiplied by Weierstrass P Prime for odd order derivatives, it follows that by constructing a function with products of sigma that is even in z, it must be equal to a polynomial in Weierstrass P:"
   ]
  },
  {
   "cell_type": "code",
   "execution_count": 37,
   "metadata": {},
   "outputs": [
    {
     "data": {
      "text/latex": [
       "$\\displaystyle \\left(-1\\right)^{N + 1} \\prod_{l=0}^{N} \\frac{\\sigma{\\left(z + {\\xi}_{l},g_{2},g_{3} \\right)}}{\\sigma{\\left(z,g_{2},g_{3} \\right)} \\sigma{\\left({\\xi}_{l},g_{2},g_{3} \\right)}} + \\prod_{l=0}^{N} \\frac{\\sigma{\\left(- z + {\\xi}_{l},g_{2},g_{3} \\right)}}{\\sigma{\\left(z,g_{2},g_{3} \\right)} \\sigma{\\left({\\xi}_{l},g_{2},g_{3} \\right)}} = P{\\left(\\operatorname{pw}{\\left(z,g_{2},g_{3} \\right)} \\right)}$"
      ],
      "text/plain": [
       "Eq((-1)**(N + 1)*Product(sigma(z + xi[l], g2, g3)/(sigma(z, g2, g3)*sigma(xi[l], g2, g3)), (l, 0, N)) + Product(sigma(-z + xi[l], g2, g3)/(sigma(z, g2, g3)*sigma(xi[l], g2, g3)), (l, 0, N)), P(pw(z, g2, g3)))"
      ]
     },
     "execution_count": 37,
     "metadata": {},
     "output_type": "execute_result"
    }
   ],
   "source": [
    "Eq(Product(sigma(-z+xi[l],g2,g3)/sigma(z,g2,g3)/sigma(xi[l],g2,g3),(l,0,N)) +\n",
    "   (-1)**(N+1)*Product(sigma(z+xi[l],g2,g3)/sigma(z,g2,g3)/sigma(xi[l],g2,g3),(l,0,N)),\n",
    "   P(pw(z,g2,g3))\n",
    "  )"
   ]
  },
  {
   "cell_type": "markdown",
   "metadata": {},
   "source": [
    "The coefficients $c_j$ can be expressed as determinants via [Laplace expansion](https://en.wikipedia.org/wiki/Laplace_expansion). For matrix $B$, entry $b_j,_k$ of $B$ in the $j^{th}$ row and $k^{th}$ column, and $d_j,_k$ the determinant of the submatrix obtained by removing the $j^{th}$ row and the $k^{th}$ column of $B$, the determinant of $B$ can be expanded along the $j^{th}$ row using:"
   ]
  },
  {
   "cell_type": "code",
   "execution_count": 38,
   "metadata": {},
   "outputs": [
    {
     "data": {
      "text/latex": [
       "$\\displaystyle \\operatorname{Det}{\\left(B \\right)} = \\sum_{k=0}^{N - 1} \\left(-1\\right)^{j + k} {b}_{j,k} {d}_{j,k}$"
      ],
      "text/plain": [
       "Eq(Det(B), Sum((-1)**(j + k)*b[j, k]*d[j, k], (k, 0, N - 1)))"
      ]
     },
     "execution_count": 38,
     "metadata": {},
     "output_type": "execute_result"
    }
   ],
   "source": [
    "Eq(Det(B), Sum((-1)**(j+k)*b[j,k]*d[j,k],(k,0,N-1)))"
   ]
  },
  {
   "cell_type": "markdown",
   "metadata": {},
   "source": [
    "The below functions explicitly calculate the $c_j$ coefficients using the Laplace expansion method but it is very inefficient and struggles at orders greater than 5."
   ]
  },
  {
   "cell_type": "code",
   "execution_count": 39,
   "metadata": {},
   "outputs": [],
   "source": [
    "def laplace_expansion(Nval, evaluated=True):\n",
    "    if evaluated:\n",
    "        return ((-1)**(Nval)*p_matrix_f_s_1dz(Nval).minor_submatrix(Nval, 0).det() + \n",
    "                (-1)**(Nval)*sum([\n",
    "                    (-1)**k*Derivative(pw(z,g2,g3),(z,k-1))*(p_matrix_f_s_1dz(Nval).minor_submatrix(Nval, k)).det()\n",
    "                    for k in range(1,Nval + 1)\n",
    "                ]))\n",
    "    else:\n",
    "        return ((-1)**(Nval)*Det(p_matrix_f_s_1dz(Nval).minor_submatrix(Nval, 0)) + \n",
    "                (-1)**(Nval)*sum([\n",
    "                    (-1)**k*Derivative(pw(z,g2,g3),(z,k-1))*(Det(p_matrix_f_s_1dz(Nval).minor_submatrix(Nval, k)))\n",
    "                    for k in range(1,Nval + 1)\n",
    "                ]))\n",
    "    \n",
    "def c_coeff(k, Nval):\n",
    "    return -(-1)**k/factorial(Nval)*p_matrix_f_s_1dz(Nval).minor_submatrix(Nval, k).det()/p_matrix_f_s(Nval-1).det()\n",
    "\n",
    "def weierstrass_p_and_diffs(Nval):\n",
    "    return (c_coeff(0, Nval).simplify() + \n",
    "            sum([c_coeff(j+1, Nval).simplify()*Derivative(pw(z,g2,g3),(z,j)) for j in range(Nval)]))"
   ]
  },
  {
   "cell_type": "code",
   "execution_count": 40,
   "metadata": {},
   "outputs": [
    {
     "data": {
      "text/latex": [
       "$\\displaystyle 0$"
      ],
      "text/plain": [
       "0"
      ]
     },
     "execution_count": 40,
     "metadata": {},
     "output_type": "execute_result"
    }
   ],
   "source": [
    "(p_matrix_f_s_1dz(5).det() - laplace_expansion(5)).expand()"
   ]
  },
  {
   "cell_type": "code",
   "execution_count": 41,
   "metadata": {},
   "outputs": [
    {
     "data": {
      "text/latex": [
       "$\\displaystyle 0$"
      ],
      "text/plain": [
       "0"
      ]
     },
     "execution_count": 41,
     "metadata": {},
     "output_type": "execute_result"
    }
   ],
   "source": [
    "(frob_stick_1dz_ratio(4,evaluated=True).lhs - weierstrass_p_and_diffs(4)).simplify()"
   ]
  },
  {
   "cell_type": "markdown",
   "metadata": {},
   "source": [
    "## Higher order derivatives of the Weierstrass P function"
   ]
  },
  {
   "cell_type": "markdown",
   "metadata": {},
   "source": [
    "Higher order derivatives of the Weierstrass P funciton can be determined subsequent differentiation of the defining differential equation."
   ]
  },
  {
   "cell_type": "code",
   "execution_count": 42,
   "metadata": {},
   "outputs": [
    {
     "data": {
      "text/latex": [
       "$\\displaystyle \\left(\\frac{\\partial}{\\partial z} \\operatorname{pw}{\\left(z,g_{2},g_{3} \\right)}\\right)^{2} = - g_{2} \\operatorname{pw}{\\left(z,g_{2},g_{3} \\right)} - g_{3} + 4 \\operatorname{pw}^{3}{\\left(z,g_{2},g_{3} \\right)}$"
      ],
      "text/plain": [
       "Eq(Derivative(pw(z, g2, g3), z)**2, -g2*pw(z, g2, g3) - g3 + 4*pw(z, g2, g3)**3)"
      ]
     },
     "execution_count": 42,
     "metadata": {},
     "output_type": "execute_result"
    }
   ],
   "source": [
    "wp_diff_eq_1 = Eq((diff(pw(z,g2,g3),z))**2, 4*pw(z,g2,g3)**3 - g2 * pw(z,g2,g3) - g3)\n",
    "wp_diff_eq_1"
   ]
  },
  {
   "cell_type": "code",
   "execution_count": 43,
   "metadata": {},
   "outputs": [
    {
     "data": {
      "text/latex": [
       "$\\displaystyle \\frac{\\partial^{2}}{\\partial z^{2}} \\operatorname{pw}{\\left(z,g_{2},g_{3} \\right)} = - \\frac{g_{2}}{2} + 6 \\operatorname{pw}^{2}{\\left(z,g_{2},g_{3} \\right)}$"
      ],
      "text/plain": [
       "Eq(Derivative(pw(z, g2, g3), (z, 2)), -g2/2 + 6*pw(z, g2, g3)**2)"
      ]
     },
     "execution_count": 43,
     "metadata": {},
     "output_type": "execute_result"
    }
   ],
   "source": [
    "wp_diff_eq_2 = Eq(wp_diff_eq_1.lhs.diff(z)/pw(z,g2,g3).diff(z)/2, wp_diff_eq_1.rhs.diff(z)/pw(z,g2,g3).diff(z)/2).expand()\n",
    "wp_diff_eq_2"
   ]
  },
  {
   "cell_type": "code",
   "execution_count": 44,
   "metadata": {},
   "outputs": [
    {
     "data": {
      "text/latex": [
       "$\\displaystyle \\frac{\\partial^{3}}{\\partial z^{3}} \\operatorname{pw}{\\left(z,g_{2},g_{3} \\right)} = 12 \\operatorname{pw}{\\left(z,g_{2},g_{3} \\right)} \\frac{\\partial}{\\partial z} \\operatorname{pw}{\\left(z,g_{2},g_{3} \\right)}$"
      ],
      "text/plain": [
       "Eq(Derivative(pw(z, g2, g3), (z, 3)), 12*pw(z, g2, g3)*Derivative(pw(z, g2, g3), z))"
      ]
     },
     "execution_count": 44,
     "metadata": {},
     "output_type": "execute_result"
    }
   ],
   "source": [
    "wp_diff_eq_3 = Eq(wp_diff_eq_2.lhs.diff(z), wp_diff_eq_2.rhs.diff(z))\n",
    "wp_diff_eq_3"
   ]
  },
  {
   "cell_type": "code",
   "execution_count": 45,
   "metadata": {},
   "outputs": [
    {
     "data": {
      "text/latex": [
       "$\\displaystyle \\frac{\\partial^{4}}{\\partial z^{4}} \\operatorname{pw}{\\left(z,g_{2},g_{3} \\right)} = - 18 g_{2} \\operatorname{pw}{\\left(z,g_{2},g_{3} \\right)} - 12 g_{3} + 120 \\operatorname{pw}^{3}{\\left(z,g_{2},g_{3} \\right)}$"
      ],
      "text/plain": [
       "Eq(Derivative(pw(z, g2, g3), (z, 4)), -18*g2*pw(z, g2, g3) - 12*g3 + 120*pw(z, g2, g3)**3)"
      ]
     },
     "execution_count": 45,
     "metadata": {},
     "output_type": "execute_result"
    }
   ],
   "source": [
    "wp_diff_eq_4 = Eq(wp_diff_eq_2.lhs.diff(z,2), wp_diff_eq_2.rhs.diff(z,2).subs([\n",
    "        (wp_diff_eq_3.lhs, wp_diff_eq_3.rhs),\n",
    "        (wp_diff_eq_2.lhs, wp_diff_eq_2.rhs),\n",
    "        (wp_diff_eq_1.lhs, wp_diff_eq_1.rhs),\n",
    "    ]).expand()\n",
    ")\n",
    "wp_diff_eq_4"
   ]
  },
  {
   "cell_type": "code",
   "execution_count": 46,
   "metadata": {},
   "outputs": [
    {
     "data": {
      "text/latex": [
       "$\\displaystyle \\frac{\\partial^{5}}{\\partial z^{5}} \\operatorname{pw}{\\left(z,g_{2},g_{3} \\right)} = - 18 g_{2} \\frac{\\partial}{\\partial z} \\operatorname{pw}{\\left(z,g_{2},g_{3} \\right)} + 360 \\operatorname{pw}^{2}{\\left(z,g_{2},g_{3} \\right)} \\frac{\\partial}{\\partial z} \\operatorname{pw}{\\left(z,g_{2},g_{3} \\right)}$"
      ],
      "text/plain": [
       "Eq(Derivative(pw(z, g2, g3), (z, 5)), -18*g2*Derivative(pw(z, g2, g3), z) + 360*pw(z, g2, g3)**2*Derivative(pw(z, g2, g3), z))"
      ]
     },
     "execution_count": 46,
     "metadata": {},
     "output_type": "execute_result"
    }
   ],
   "source": [
    "wp_diff_eq_5 = Eq(wp_diff_eq_2.lhs.diff(z,3), wp_diff_eq_2.rhs.diff(z,3).subs([\n",
    "        (wp_diff_eq_4.lhs, wp_diff_eq_4.rhs),\n",
    "        (wp_diff_eq_3.lhs, wp_diff_eq_3.rhs),\n",
    "        (wp_diff_eq_2.lhs, wp_diff_eq_2.rhs),\n",
    "        (wp_diff_eq_1.lhs, wp_diff_eq_1.rhs),\n",
    "    ]).expand()\n",
    ")\n",
    "wp_diff_eq_5"
   ]
  },
  {
   "cell_type": "code",
   "execution_count": 47,
   "metadata": {
    "scrolled": true
   },
   "outputs": [
    {
     "data": {
      "text/latex": [
       "$\\displaystyle \\frac{\\partial^{6}}{\\partial z^{6}} \\operatorname{pw}{\\left(z,g_{2},g_{3} \\right)} = 9 g_{2}^{2} - 1008 g_{2} \\operatorname{pw}^{2}{\\left(z,g_{2},g_{3} \\right)} - 720 g_{3} \\operatorname{pw}{\\left(z,g_{2},g_{3} \\right)} + 5040 \\operatorname{pw}^{4}{\\left(z,g_{2},g_{3} \\right)}$"
      ],
      "text/plain": [
       "Eq(Derivative(pw(z, g2, g3), (z, 6)), 9*g2**2 - 1008*g2*pw(z, g2, g3)**2 - 720*g3*pw(z, g2, g3) + 5040*pw(z, g2, g3)**4)"
      ]
     },
     "execution_count": 47,
     "metadata": {},
     "output_type": "execute_result"
    }
   ],
   "source": [
    "wp_diff_eq_6 = Eq(wp_diff_eq_2.lhs.diff(z,4), wp_diff_eq_2.rhs.diff(z,4).subs([\n",
    "        (wp_diff_eq_5.lhs, wp_diff_eq_5.rhs),\n",
    "        (wp_diff_eq_4.lhs, wp_diff_eq_4.rhs),\n",
    "        (wp_diff_eq_3.lhs, wp_diff_eq_3.rhs),\n",
    "        (wp_diff_eq_2.lhs, wp_diff_eq_2.rhs),\n",
    "        (wp_diff_eq_1.lhs, wp_diff_eq_1.rhs),\n",
    "    ]).expand()\n",
    ")\n",
    "wp_diff_eq_6"
   ]
  },
  {
   "cell_type": "code",
   "execution_count": 48,
   "metadata": {},
   "outputs": [],
   "source": [
    "higher_order_diffs = [\n",
    "    (wp_diff_eq_6.lhs, wp_diff_eq_6.rhs),\n",
    "    (wp_diff_eq_5.lhs, wp_diff_eq_5.rhs),\n",
    "    (wp_diff_eq_4.lhs, wp_diff_eq_4.rhs),\n",
    "    (wp_diff_eq_3.lhs, wp_diff_eq_3.rhs),\n",
    "    (wp_diff_eq_2.lhs, wp_diff_eq_2.rhs),\n",
    "    (wp_diff_eq_1.lhs, wp_diff_eq_1.rhs),\n",
    "]"
   ]
  },
  {
   "cell_type": "code",
   "execution_count": 49,
   "metadata": {},
   "outputs": [
    {
     "data": {
      "text/latex": [
       "$\\displaystyle - \\frac{2 \\sigma{\\left(z - {\\mu}_{0},g_{2},g_{3} \\right)} \\sigma{\\left(z + {\\mu}_{0},g_{2},g_{3} \\right)}}{\\sigma^{2}{\\left(z,g_{2},g_{3} \\right)} \\sigma^{2}{\\left({\\mu}_{0},g_{2},g_{3} \\right)}} = 2 \\operatorname{pw}{\\left(z,g_{2},g_{3} \\right)} - 2 \\operatorname{pw}{\\left({\\mu}_{0},g_{2},g_{3} \\right)}$"
      ],
      "text/plain": [
       "Eq(-2*sigma(z - mu[0], g2, g3)*sigma(z + mu[0], g2, g3)/(sigma(z, g2, g3)**2*sigma(mu[0], g2, g3)**2), 2*pw(z, g2, g3) - 2*pw(mu[0], g2, g3))"
      ]
     },
     "execution_count": 49,
     "metadata": {},
     "output_type": "execute_result"
    }
   ],
   "source": [
    "sigma_product_wp_sum_sym.subs(N,1).doit().subs(higher_order_diffs).expand().subs([\n",
    "    (c[0], c_coeff(0, 1).simplify()),\n",
    "    (c[1], c_coeff(1, 1).simplify()),\n",
    "]).subs(xi[1],-Sum(xi[j],(j,0,0)).doit()).subs([(xi[j],mu[j]) for j in range(1)]).subs([\n",
    "    (sigma(-mu[0],g2,g3), -sigma(mu[0],g2,g3)),\n",
    "    (sigma(-z-mu[0],g2,g3), -sigma(z+mu[0],g2,g3)),\n",
    "    (sigma(-z+mu[0],g2,g3), -sigma(z-mu[0],g2,g3)),\n",
    "])"
   ]
  },
  {
   "cell_type": "code",
   "execution_count": 50,
   "metadata": {},
   "outputs": [
    {
     "data": {
      "text/latex": [
       "$\\displaystyle \\frac{\\sigma{\\left(- z + {\\mu}_{0},g_{2},g_{3} \\right)} \\sigma{\\left(- z + {\\mu}_{1},g_{2},g_{3} \\right)} \\sigma{\\left(- z - {\\mu}_{0} - {\\mu}_{1},g_{2},g_{3} \\right)}}{\\sigma^{3}{\\left(z,g_{2},g_{3} \\right)} \\sigma{\\left(- {\\mu}_{0} - {\\mu}_{1},g_{2},g_{3} \\right)} \\sigma{\\left({\\mu}_{0},g_{2},g_{3} \\right)} \\sigma{\\left({\\mu}_{1},g_{2},g_{3} \\right)}} - \\frac{\\sigma{\\left(z + {\\mu}_{0},g_{2},g_{3} \\right)} \\sigma{\\left(z + {\\mu}_{1},g_{2},g_{3} \\right)} \\sigma{\\left(z - {\\mu}_{0} - {\\mu}_{1},g_{2},g_{3} \\right)}}{\\sigma^{3}{\\left(z,g_{2},g_{3} \\right)} \\sigma{\\left(- {\\mu}_{0} - {\\mu}_{1},g_{2},g_{3} \\right)} \\sigma{\\left({\\mu}_{0},g_{2},g_{3} \\right)} \\sigma{\\left({\\mu}_{1},g_{2},g_{3} \\right)}} = \\frac{\\operatorname{pw}{\\left({\\mu}_{0},g_{2},g_{3} \\right)} \\frac{\\partial}{\\partial {\\mu}_{1}} \\operatorname{pw}{\\left({\\mu}_{1},g_{2},g_{3} \\right)} - \\operatorname{pw}{\\left({\\mu}_{1},g_{2},g_{3} \\right)} \\frac{\\partial}{\\partial {\\mu}_{0}} \\operatorname{pw}{\\left({\\mu}_{0},g_{2},g_{3} \\right)}}{\\operatorname{pw}{\\left({\\mu}_{0},g_{2},g_{3} \\right)} - \\operatorname{pw}{\\left({\\mu}_{1},g_{2},g_{3} \\right)}} + \\frac{\\left(\\frac{\\partial}{\\partial {\\mu}_{0}} \\operatorname{pw}{\\left({\\mu}_{0},g_{2},g_{3} \\right)} - \\frac{\\partial}{\\partial {\\mu}_{1}} \\operatorname{pw}{\\left({\\mu}_{1},g_{2},g_{3} \\right)}\\right) \\operatorname{pw}{\\left(z,g_{2},g_{3} \\right)}}{\\operatorname{pw}{\\left({\\mu}_{0},g_{2},g_{3} \\right)} - \\operatorname{pw}{\\left({\\mu}_{1},g_{2},g_{3} \\right)}}$"
      ],
      "text/plain": [
       "Eq(sigma(-z + mu[0], g2, g3)*sigma(-z + mu[1], g2, g3)*sigma(-z - mu[0] - mu[1], g2, g3)/(sigma(z, g2, g3)**3*sigma(-mu[0] - mu[1], g2, g3)*sigma(mu[0], g2, g3)*sigma(mu[1], g2, g3)) - sigma(z + mu[0], g2, g3)*sigma(z + mu[1], g2, g3)*sigma(z - mu[0] - mu[1], g2, g3)/(sigma(z, g2, g3)**3*sigma(-mu[0] - mu[1], g2, g3)*sigma(mu[0], g2, g3)*sigma(mu[1], g2, g3)), (pw(mu[0], g2, g3)*Derivative(pw(mu[1], g2, g3), mu[1]) - pw(mu[1], g2, g3)*Derivative(pw(mu[0], g2, g3), mu[0]))/(pw(mu[0], g2, g3) - pw(mu[1], g2, g3)) + (Derivative(pw(mu[0], g2, g3), mu[0]) - Derivative(pw(mu[1], g2, g3), mu[1]))*pw(z, g2, g3)/(pw(mu[0], g2, g3) - pw(mu[1], g2, g3)))"
      ]
     },
     "execution_count": 50,
     "metadata": {},
     "output_type": "execute_result"
    }
   ],
   "source": [
    "sigma_product_wp_sum_sym.subs(N,2).doit().subs(higher_order_diffs).expand().subs([\n",
    "    (c[0], c_coeff(0, 2).simplify()),\n",
    "    (c[1], c_coeff(1, 2).simplify()),\n",
    "]).subs(xi[2],-Sum(xi[j],(j,0,1)).doit()).subs([(xi[j],mu[j]) for j in range(2)])"
   ]
  },
  {
   "cell_type": "code",
   "execution_count": 51,
   "metadata": {},
   "outputs": [
    {
     "data": {
      "text/latex": [
       "$\\displaystyle \\frac{\\sigma{\\left(- z + {\\mu}_{0},g_{2},g_{3} \\right)} \\sigma{\\left(- z + {\\mu}_{1},g_{2},g_{3} \\right)} \\sigma{\\left(- z + {\\mu}_{2},g_{2},g_{3} \\right)} \\sigma{\\left(- z - {\\mu}_{0} - {\\mu}_{1} - {\\mu}_{2},g_{2},g_{3} \\right)}}{\\sigma^{4}{\\left(z,g_{2},g_{3} \\right)} \\sigma{\\left(- {\\mu}_{0} - {\\mu}_{1} - {\\mu}_{2},g_{2},g_{3} \\right)} \\sigma{\\left({\\mu}_{0},g_{2},g_{3} \\right)} \\sigma{\\left({\\mu}_{1},g_{2},g_{3} \\right)} \\sigma{\\left({\\mu}_{2},g_{2},g_{3} \\right)}} + \\frac{\\sigma{\\left(z + {\\mu}_{0},g_{2},g_{3} \\right)} \\sigma{\\left(z + {\\mu}_{1},g_{2},g_{3} \\right)} \\sigma{\\left(z + {\\mu}_{2},g_{2},g_{3} \\right)} \\sigma{\\left(z - {\\mu}_{0} - {\\mu}_{1} - {\\mu}_{2},g_{2},g_{3} \\right)}}{\\sigma^{4}{\\left(z,g_{2},g_{3} \\right)} \\sigma{\\left(- {\\mu}_{0} - {\\mu}_{1} - {\\mu}_{2},g_{2},g_{3} \\right)} \\sigma{\\left({\\mu}_{0},g_{2},g_{3} \\right)} \\sigma{\\left({\\mu}_{1},g_{2},g_{3} \\right)} \\sigma{\\left({\\mu}_{2},g_{2},g_{3} \\right)}} = - \\frac{g_{2}}{6} + 2 \\operatorname{pw}^{2}{\\left(z,g_{2},g_{3} \\right)} + 2 \\operatorname{pw}{\\left(z,g_{2},g_{3} \\right)} {c}_{1} + 2 {c}_{0}$"
      ],
      "text/plain": [
       "Eq(sigma(-z + mu[0], g2, g3)*sigma(-z + mu[1], g2, g3)*sigma(-z + mu[2], g2, g3)*sigma(-z - mu[0] - mu[1] - mu[2], g2, g3)/(sigma(z, g2, g3)**4*sigma(-mu[0] - mu[1] - mu[2], g2, g3)*sigma(mu[0], g2, g3)*sigma(mu[1], g2, g3)*sigma(mu[2], g2, g3)) + sigma(z + mu[0], g2, g3)*sigma(z + mu[1], g2, g3)*sigma(z + mu[2], g2, g3)*sigma(z - mu[0] - mu[1] - mu[2], g2, g3)/(sigma(z, g2, g3)**4*sigma(-mu[0] - mu[1] - mu[2], g2, g3)*sigma(mu[0], g2, g3)*sigma(mu[1], g2, g3)*sigma(mu[2], g2, g3)), -g2/6 + 2*pw(z, g2, g3)**2 + 2*pw(z, g2, g3)*c[1] + 2*c[0])"
      ]
     },
     "execution_count": 51,
     "metadata": {},
     "output_type": "execute_result"
    }
   ],
   "source": [
    "(sigma_product_wp_sum_sym.subs(N,3).doit().subs(higher_order_diffs).expand().subs(c[3], c_coeff(3, 3).simplify())\n",
    ".subs(xi[3],-Sum(xi[j],(j,0,2)).doit()).subs([(xi[j],mu[j]) for j in range(3)]))"
   ]
  },
  {
   "cell_type": "code",
   "execution_count": 52,
   "metadata": {},
   "outputs": [
    {
     "data": {
      "text/latex": [
       "$\\displaystyle \\frac{\\sigma{\\left(- z + {\\xi}_{0},g_{2},g_{3} \\right)} \\sigma{\\left(- z + {\\xi}_{1},g_{2},g_{3} \\right)} \\sigma{\\left(- z + {\\xi}_{2},g_{2},g_{3} \\right)} \\sigma{\\left(- z + {\\xi}_{3},g_{2},g_{3} \\right)} \\sigma{\\left(- z + {\\xi}_{4},g_{2},g_{3} \\right)}}{\\sigma^{5}{\\left(z,g_{2},g_{3} \\right)} \\sigma{\\left({\\xi}_{0},g_{2},g_{3} \\right)} \\sigma{\\left({\\xi}_{1},g_{2},g_{3} \\right)} \\sigma{\\left({\\xi}_{2},g_{2},g_{3} \\right)} \\sigma{\\left({\\xi}_{3},g_{2},g_{3} \\right)} \\sigma{\\left({\\xi}_{4},g_{2},g_{3} \\right)}} - \\frac{\\sigma{\\left(z + {\\xi}_{0},g_{2},g_{3} \\right)} \\sigma{\\left(z + {\\xi}_{1},g_{2},g_{3} \\right)} \\sigma{\\left(z + {\\xi}_{2},g_{2},g_{3} \\right)} \\sigma{\\left(z + {\\xi}_{3},g_{2},g_{3} \\right)} \\sigma{\\left(z + {\\xi}_{4},g_{2},g_{3} \\right)}}{\\sigma^{5}{\\left(z,g_{2},g_{3} \\right)} \\sigma{\\left({\\xi}_{0},g_{2},g_{3} \\right)} \\sigma{\\left({\\xi}_{1},g_{2},g_{3} \\right)} \\sigma{\\left({\\xi}_{2},g_{2},g_{3} \\right)} \\sigma{\\left({\\xi}_{3},g_{2},g_{3} \\right)} \\sigma{\\left({\\xi}_{4},g_{2},g_{3} \\right)}} = - g_{2} {c}_{3} + 12 \\operatorname{pw}^{2}{\\left(z,g_{2},g_{3} \\right)} {c}_{3} + 2 \\operatorname{pw}{\\left(z,g_{2},g_{3} \\right)} {c}_{1} + 2 {c}_{0}$"
      ],
      "text/plain": [
       "Eq(sigma(-z + xi[0], g2, g3)*sigma(-z + xi[1], g2, g3)*sigma(-z + xi[2], g2, g3)*sigma(-z + xi[3], g2, g3)*sigma(-z + xi[4], g2, g3)/(sigma(z, g2, g3)**5*sigma(xi[0], g2, g3)*sigma(xi[1], g2, g3)*sigma(xi[2], g2, g3)*sigma(xi[3], g2, g3)*sigma(xi[4], g2, g3)) - sigma(z + xi[0], g2, g3)*sigma(z + xi[1], g2, g3)*sigma(z + xi[2], g2, g3)*sigma(z + xi[3], g2, g3)*sigma(z + xi[4], g2, g3)/(sigma(z, g2, g3)**5*sigma(xi[0], g2, g3)*sigma(xi[1], g2, g3)*sigma(xi[2], g2, g3)*sigma(xi[3], g2, g3)*sigma(xi[4], g2, g3)), -g2*c[3] + 12*pw(z, g2, g3)**2*c[3] + 2*pw(z, g2, g3)*c[1] + 2*c[0])"
      ]
     },
     "execution_count": 52,
     "metadata": {},
     "output_type": "execute_result"
    }
   ],
   "source": [
    "sigma_product_wp_sum_sym.subs(N,4).doit().subs(higher_order_diffs).expand()"
   ]
  },
  {
   "cell_type": "code",
   "execution_count": 53,
   "metadata": {},
   "outputs": [
    {
     "data": {
      "text/latex": [
       "$\\displaystyle \\frac{\\sigma{\\left(- z + {\\xi}_{0},g_{2},g_{3} \\right)} \\sigma{\\left(- z + {\\xi}_{1},g_{2},g_{3} \\right)} \\sigma{\\left(- z + {\\xi}_{2},g_{2},g_{3} \\right)} \\sigma{\\left(- z + {\\xi}_{3},g_{2},g_{3} \\right)} \\sigma{\\left(- z + {\\xi}_{4},g_{2},g_{3} \\right)} \\sigma{\\left(- z + {\\xi}_{5},g_{2},g_{3} \\right)}}{\\sigma^{6}{\\left(z,g_{2},g_{3} \\right)} \\sigma{\\left({\\xi}_{0},g_{2},g_{3} \\right)} \\sigma{\\left({\\xi}_{1},g_{2},g_{3} \\right)} \\sigma{\\left({\\xi}_{2},g_{2},g_{3} \\right)} \\sigma{\\left({\\xi}_{3},g_{2},g_{3} \\right)} \\sigma{\\left({\\xi}_{4},g_{2},g_{3} \\right)} \\sigma{\\left({\\xi}_{5},g_{2},g_{3} \\right)}} + \\frac{\\sigma{\\left(z + {\\xi}_{0},g_{2},g_{3} \\right)} \\sigma{\\left(z + {\\xi}_{1},g_{2},g_{3} \\right)} \\sigma{\\left(z + {\\xi}_{2},g_{2},g_{3} \\right)} \\sigma{\\left(z + {\\xi}_{3},g_{2},g_{3} \\right)} \\sigma{\\left(z + {\\xi}_{4},g_{2},g_{3} \\right)} \\sigma{\\left(z + {\\xi}_{5},g_{2},g_{3} \\right)}}{\\sigma^{6}{\\left(z,g_{2},g_{3} \\right)} \\sigma{\\left({\\xi}_{0},g_{2},g_{3} \\right)} \\sigma{\\left({\\xi}_{1},g_{2},g_{3} \\right)} \\sigma{\\left({\\xi}_{2},g_{2},g_{3} \\right)} \\sigma{\\left({\\xi}_{3},g_{2},g_{3} \\right)} \\sigma{\\left({\\xi}_{4},g_{2},g_{3} \\right)} \\sigma{\\left({\\xi}_{5},g_{2},g_{3} \\right)}} = - 36 g_{2} \\operatorname{pw}{\\left(z,g_{2},g_{3} \\right)} {c}_{5} - g_{2} {c}_{3} - 24 g_{3} {c}_{5} + 240 \\operatorname{pw}^{3}{\\left(z,g_{2},g_{3} \\right)} {c}_{5} + 12 \\operatorname{pw}^{2}{\\left(z,g_{2},g_{3} \\right)} {c}_{3} + 2 \\operatorname{pw}{\\left(z,g_{2},g_{3} \\right)} {c}_{1} + 2 {c}_{0}$"
      ],
      "text/plain": [
       "Eq(sigma(-z + xi[0], g2, g3)*sigma(-z + xi[1], g2, g3)*sigma(-z + xi[2], g2, g3)*sigma(-z + xi[3], g2, g3)*sigma(-z + xi[4], g2, g3)*sigma(-z + xi[5], g2, g3)/(sigma(z, g2, g3)**6*sigma(xi[0], g2, g3)*sigma(xi[1], g2, g3)*sigma(xi[2], g2, g3)*sigma(xi[3], g2, g3)*sigma(xi[4], g2, g3)*sigma(xi[5], g2, g3)) + sigma(z + xi[0], g2, g3)*sigma(z + xi[1], g2, g3)*sigma(z + xi[2], g2, g3)*sigma(z + xi[3], g2, g3)*sigma(z + xi[4], g2, g3)*sigma(z + xi[5], g2, g3)/(sigma(z, g2, g3)**6*sigma(xi[0], g2, g3)*sigma(xi[1], g2, g3)*sigma(xi[2], g2, g3)*sigma(xi[3], g2, g3)*sigma(xi[4], g2, g3)*sigma(xi[5], g2, g3)), -36*g2*pw(z, g2, g3)*c[5] - g2*c[3] - 24*g3*c[5] + 240*pw(z, g2, g3)**3*c[5] + 12*pw(z, g2, g3)**2*c[3] + 2*pw(z, g2, g3)*c[1] + 2*c[0])"
      ]
     },
     "execution_count": 53,
     "metadata": {},
     "output_type": "execute_result"
    }
   ],
   "source": [
    "sigma_product_wp_sum_sym.subs(N,5).doit().subs(higher_order_diffs).expand()"
   ]
  },
  {
   "cell_type": "code",
   "execution_count": 54,
   "metadata": {},
   "outputs": [
    {
     "data": {
      "text/latex": [
       "$\\displaystyle \\frac{\\sigma{\\left(- z + {\\xi}_{0},g_{2},g_{3} \\right)} \\sigma{\\left(- z + {\\xi}_{1},g_{2},g_{3} \\right)} \\sigma{\\left(- z + {\\xi}_{2},g_{2},g_{3} \\right)} \\sigma{\\left(- z + {\\xi}_{3},g_{2},g_{3} \\right)} \\sigma{\\left(- z + {\\xi}_{4},g_{2},g_{3} \\right)} \\sigma{\\left(- z + {\\xi}_{5},g_{2},g_{3} \\right)} \\sigma{\\left(- z + {\\xi}_{6},g_{2},g_{3} \\right)}}{\\sigma^{7}{\\left(z,g_{2},g_{3} \\right)} \\sigma{\\left({\\xi}_{0},g_{2},g_{3} \\right)} \\sigma{\\left({\\xi}_{1},g_{2},g_{3} \\right)} \\sigma{\\left({\\xi}_{2},g_{2},g_{3} \\right)} \\sigma{\\left({\\xi}_{3},g_{2},g_{3} \\right)} \\sigma{\\left({\\xi}_{4},g_{2},g_{3} \\right)} \\sigma{\\left({\\xi}_{5},g_{2},g_{3} \\right)} \\sigma{\\left({\\xi}_{6},g_{2},g_{3} \\right)}} - \\frac{\\sigma{\\left(z + {\\xi}_{0},g_{2},g_{3} \\right)} \\sigma{\\left(z + {\\xi}_{1},g_{2},g_{3} \\right)} \\sigma{\\left(z + {\\xi}_{2},g_{2},g_{3} \\right)} \\sigma{\\left(z + {\\xi}_{3},g_{2},g_{3} \\right)} \\sigma{\\left(z + {\\xi}_{4},g_{2},g_{3} \\right)} \\sigma{\\left(z + {\\xi}_{5},g_{2},g_{3} \\right)} \\sigma{\\left(z + {\\xi}_{6},g_{2},g_{3} \\right)}}{\\sigma^{7}{\\left(z,g_{2},g_{3} \\right)} \\sigma{\\left({\\xi}_{0},g_{2},g_{3} \\right)} \\sigma{\\left({\\xi}_{1},g_{2},g_{3} \\right)} \\sigma{\\left({\\xi}_{2},g_{2},g_{3} \\right)} \\sigma{\\left({\\xi}_{3},g_{2},g_{3} \\right)} \\sigma{\\left({\\xi}_{4},g_{2},g_{3} \\right)} \\sigma{\\left({\\xi}_{5},g_{2},g_{3} \\right)} \\sigma{\\left({\\xi}_{6},g_{2},g_{3} \\right)}} = - 36 g_{2} \\operatorname{pw}{\\left(z,g_{2},g_{3} \\right)} {c}_{5} - g_{2} {c}_{3} - 24 g_{3} {c}_{5} + 240 \\operatorname{pw}^{3}{\\left(z,g_{2},g_{3} \\right)} {c}_{5} + 12 \\operatorname{pw}^{2}{\\left(z,g_{2},g_{3} \\right)} {c}_{3} + 2 \\operatorname{pw}{\\left(z,g_{2},g_{3} \\right)} {c}_{1} + 2 {c}_{0}$"
      ],
      "text/plain": [
       "Eq(sigma(-z + xi[0], g2, g3)*sigma(-z + xi[1], g2, g3)*sigma(-z + xi[2], g2, g3)*sigma(-z + xi[3], g2, g3)*sigma(-z + xi[4], g2, g3)*sigma(-z + xi[5], g2, g3)*sigma(-z + xi[6], g2, g3)/(sigma(z, g2, g3)**7*sigma(xi[0], g2, g3)*sigma(xi[1], g2, g3)*sigma(xi[2], g2, g3)*sigma(xi[3], g2, g3)*sigma(xi[4], g2, g3)*sigma(xi[5], g2, g3)*sigma(xi[6], g2, g3)) - sigma(z + xi[0], g2, g3)*sigma(z + xi[1], g2, g3)*sigma(z + xi[2], g2, g3)*sigma(z + xi[3], g2, g3)*sigma(z + xi[4], g2, g3)*sigma(z + xi[5], g2, g3)*sigma(z + xi[6], g2, g3)/(sigma(z, g2, g3)**7*sigma(xi[0], g2, g3)*sigma(xi[1], g2, g3)*sigma(xi[2], g2, g3)*sigma(xi[3], g2, g3)*sigma(xi[4], g2, g3)*sigma(xi[5], g2, g3)*sigma(xi[6], g2, g3)), -36*g2*pw(z, g2, g3)*c[5] - g2*c[3] - 24*g3*c[5] + 240*pw(z, g2, g3)**3*c[5] + 12*pw(z, g2, g3)**2*c[3] + 2*pw(z, g2, g3)*c[1] + 2*c[0])"
      ]
     },
     "execution_count": 54,
     "metadata": {},
     "output_type": "execute_result"
    }
   ],
   "source": [
    "sigma_product_wp_sum_sym.subs(N,6).doit().subs(higher_order_diffs).expand()"
   ]
  },
  {
   "cell_type": "code",
   "execution_count": 55,
   "metadata": {},
   "outputs": [
    {
     "data": {
      "text/latex": [
       "$\\displaystyle \\frac{1}{6}$"
      ],
      "text/plain": [
       "1/6"
      ]
     },
     "execution_count": 55,
     "metadata": {},
     "output_type": "execute_result"
    }
   ],
   "source": [
    "c_coeff(3, 3).simplify()"
   ]
  },
  {
   "cell_type": "code",
   "execution_count": 56,
   "metadata": {},
   "outputs": [],
   "source": [
    "def sigma_product_wp_c(NN):\n",
    "    return (sigma_product_wp_diff_eq.subs(N,NN).doit().subs(higher_order_diffs).expand()\n",
    "     .subs(xi[NN],-Sum(xi[j],(j,0,NN-1)).doit()).subs([(xi[j],mu[j]) for j in range(NN)])\n",
    "    )"
   ]
  },
  {
   "cell_type": "code",
   "execution_count": 57,
   "metadata": {},
   "outputs": [
    {
     "data": {
      "text/latex": [
       "$\\displaystyle \\frac{\\sigma{\\left(- z + {\\mu}_{0},g_{2},g_{3} \\right)} \\sigma{\\left(- z + {\\mu}_{1},g_{2},g_{3} \\right)} \\sigma{\\left(- z - {\\mu}_{0} - {\\mu}_{1},g_{2},g_{3} \\right)}}{\\sigma^{3}{\\left(z,g_{2},g_{3} \\right)} \\sigma{\\left(- {\\mu}_{0} - {\\mu}_{1},g_{2},g_{3} \\right)} \\sigma{\\left({\\mu}_{0},g_{2},g_{3} \\right)} \\sigma{\\left({\\mu}_{1},g_{2},g_{3} \\right)}} = \\operatorname{pw}{\\left(z,g_{2},g_{3} \\right)} {c}_{1} + \\frac{\\partial}{\\partial z} \\operatorname{pw}{\\left(z,g_{2},g_{3} \\right)} {c}_{2} + {c}_{0}$"
      ],
      "text/plain": [
       "Eq(sigma(-z + mu[0], g2, g3)*sigma(-z + mu[1], g2, g3)*sigma(-z - mu[0] - mu[1], g2, g3)/(sigma(z, g2, g3)**3*sigma(-mu[0] - mu[1], g2, g3)*sigma(mu[0], g2, g3)*sigma(mu[1], g2, g3)), pw(z, g2, g3)*c[1] + Derivative(pw(z, g2, g3), z)*c[2] + c[0])"
      ]
     },
     "execution_count": 57,
     "metadata": {},
     "output_type": "execute_result"
    }
   ],
   "source": [
    "N2_sigma_product_wp_c = sigma_product_wp_c(2)\n",
    "N2_sigma_product_wp_c"
   ]
  },
  {
   "cell_type": "code",
   "execution_count": 58,
   "metadata": {},
   "outputs": [
    {
     "data": {
      "text/latex": [
       "$\\displaystyle \\operatorname{pw}{\\left(z,g_{2},g_{3} \\right)} = \\sum_{n=1}^{\\infty} z^{2 n} \\left(2 n + 1\\right) {G}_{2 n + 2} + \\frac{1}{z^{2}}$"
      ],
      "text/plain": [
       "Eq(pw(z, g2, g3), Sum(z**(2*n)*(2*n + 1)*G[2*n + 2], (n, 1, oo)) + z**(-2))"
      ]
     },
     "execution_count": 58,
     "metadata": {},
     "output_type": "execute_result"
    }
   ],
   "source": [
    "Eq(pw(z,g2,g3), 1/z**2 + Sum((2*n+1)*G[2*n+2]*z**(2*n),(n,1,oo)))"
   ]
  },
  {
   "cell_type": "code",
   "execution_count": 59,
   "metadata": {},
   "outputs": [
    {
     "data": {
      "text/latex": [
       "$\\displaystyle \\frac{\\partial}{\\partial z} \\operatorname{pw}{\\left(z,g_{2},g_{3} \\right)} = \\sum_{n=1}^{\\infty} 2 n z^{2 n - 1} \\left(2 n + 1\\right) {G}_{2 n + 2} - \\frac{2}{z^{3}}$"
      ],
      "text/plain": [
       "Eq(Derivative(pw(z, g2, g3), z), Sum(2*n*z**(2*n - 1)*(2*n + 1)*G[2*n + 2], (n, 1, oo)) - 2/z**3)"
      ]
     },
     "execution_count": 59,
     "metadata": {},
     "output_type": "execute_result"
    }
   ],
   "source": [
    "Eq(diff(pw(z,g2,g3),z), diff(1/z**2,z) + Sum((2*n+1)*G[2*n+2]*diff(z**(2*n),z).simplify(),(n,1,oo)))"
   ]
  },
  {
   "cell_type": "code",
   "execution_count": 60,
   "metadata": {},
   "outputs": [
    {
     "data": {
      "text/latex": [
       "$\\displaystyle \\lim_{z \\to 0^+}\\left(\\frac{z^{3} \\sigma{\\left(- z + {\\mu}_{0},g_{2},g_{3} \\right)} \\sigma{\\left(- z + {\\mu}_{1},g_{2},g_{3} \\right)} \\sigma{\\left(- z - {\\mu}_{0} - {\\mu}_{1},g_{2},g_{3} \\right)}}{\\sigma^{3}{\\left(z,g_{2},g_{3} \\right)} \\sigma{\\left(- {\\mu}_{0} - {\\mu}_{1},g_{2},g_{3} \\right)} \\sigma{\\left({\\mu}_{0},g_{2},g_{3} \\right)} \\sigma{\\left({\\mu}_{1},g_{2},g_{3} \\right)}}\\right) = \\lim_{z \\to 0^+}\\left(z^{3} \\left(\\operatorname{pw}{\\left(z,g_{2},g_{3} \\right)} {c}_{1} + \\frac{\\partial}{\\partial z} \\operatorname{pw}{\\left(z,g_{2},g_{3} \\right)} {c}_{2} + {c}_{0}\\right)\\right)$"
      ],
      "text/plain": [
       "Eq(Limit(z**3*sigma(-z + mu[0], g2, g3)*sigma(-z + mu[1], g2, g3)*sigma(-z - mu[0] - mu[1], g2, g3)/(sigma(z, g2, g3)**3*sigma(-mu[0] - mu[1], g2, g3)*sigma(mu[0], g2, g3)*sigma(mu[1], g2, g3)), z, 0), Limit(z**3*(pw(z, g2, g3)*c[1] + Derivative(pw(z, g2, g3), z)*c[2] + c[0]), z, 0))"
      ]
     },
     "execution_count": 60,
     "metadata": {},
     "output_type": "execute_result"
    }
   ],
   "source": [
    "Eq(Limit(z**3*N2_sigma_product_wp_c.lhs,z,0), Limit(z**3*N2_sigma_product_wp_c.rhs,z,0))"
   ]
  },
  {
   "cell_type": "code",
   "execution_count": 61,
   "metadata": {},
   "outputs": [
    {
     "data": {
      "text/latex": [
       "$\\displaystyle 1 = \\lim_{z \\to 0^+}\\left(z^{3} \\frac{\\partial}{\\partial z} \\operatorname{pw}{\\left(z,g_{2},g_{3} \\right)} {c}_{2}\\right)$"
      ],
      "text/plain": [
       "Eq(1, Limit(z**3*Derivative(pw(z, g2, g3), z)*c[2], z, 0))"
      ]
     },
     "execution_count": 61,
     "metadata": {},
     "output_type": "execute_result"
    }
   ],
   "source": [
    "Eq((sigma(z,g2,g3)**3*N2_sigma_product_wp_c.lhs).subs(z,0), Limit(z**3*diff(pw(z,g2,g3),z)*c[2],z,0))"
   ]
  },
  {
   "cell_type": "code",
   "execution_count": 62,
   "metadata": {},
   "outputs": [
    {
     "data": {
      "text/latex": [
       "$\\displaystyle 1 = - 2 {c}_{2}$"
      ],
      "text/plain": [
       "Eq(1, -2*c[2])"
      ]
     },
     "execution_count": 62,
     "metadata": {},
     "output_type": "execute_result"
    }
   ],
   "source": [
    "Eq(1, -2*c[2])"
   ]
  },
  {
   "cell_type": "code",
   "execution_count": 63,
   "metadata": {},
   "outputs": [
    {
     "data": {
      "text/latex": [
       "$\\displaystyle {c}_{2} = - \\frac{1}{2}$"
      ],
      "text/plain": [
       "Eq(c[2], -1/2)"
      ]
     },
     "execution_count": 63,
     "metadata": {},
     "output_type": "execute_result"
    }
   ],
   "source": [
    "N2_c2_eq = Eq(c[2],-Rational(1,2))\n",
    "N2_c2_eq"
   ]
  },
  {
   "cell_type": "code",
   "execution_count": 64,
   "metadata": {},
   "outputs": [
    {
     "data": {
      "text/latex": [
       "$\\displaystyle \\frac{\\sigma{\\left(- z + {\\mu}_{0},g_{2},g_{3} \\right)} \\sigma{\\left(- z + {\\mu}_{1},g_{2},g_{3} \\right)} \\sigma{\\left(- z - {\\mu}_{0} - {\\mu}_{1},g_{2},g_{3} \\right)}}{\\sigma^{3}{\\left(z,g_{2},g_{3} \\right)} \\sigma{\\left(- {\\mu}_{0} - {\\mu}_{1},g_{2},g_{3} \\right)} \\sigma{\\left({\\mu}_{0},g_{2},g_{3} \\right)} \\sigma{\\left({\\mu}_{1},g_{2},g_{3} \\right)}} = \\operatorname{pw}{\\left(z,g_{2},g_{3} \\right)} {c}_{1} - \\frac{\\frac{\\partial}{\\partial z} \\operatorname{pw}{\\left(z,g_{2},g_{3} \\right)}}{2} + {c}_{0}$"
      ],
      "text/plain": [
       "Eq(sigma(-z + mu[0], g2, g3)*sigma(-z + mu[1], g2, g3)*sigma(-z - mu[0] - mu[1], g2, g3)/(sigma(z, g2, g3)**3*sigma(-mu[0] - mu[1], g2, g3)*sigma(mu[0], g2, g3)*sigma(mu[1], g2, g3)), pw(z, g2, g3)*c[1] - Derivative(pw(z, g2, g3), z)/2 + c[0])"
      ]
     },
     "execution_count": 64,
     "metadata": {},
     "output_type": "execute_result"
    }
   ],
   "source": [
    "N2_sigma_product_wp_c_with_c2 = N2_sigma_product_wp_c.subs(N2_c2_eq.lhs, N2_c2_eq.rhs)\n",
    "N2_sigma_product_wp_c_with_c2"
   ]
  },
  {
   "cell_type": "code",
   "execution_count": 65,
   "metadata": {},
   "outputs": [
    {
     "data": {
      "text/latex": [
       "$\\displaystyle \\lim_{z \\to 0^+}\\left(z^{2} \\left(\\frac{\\frac{\\partial}{\\partial z} \\operatorname{pw}{\\left(z,g_{2},g_{3} \\right)}}{2} + \\frac{\\sigma{\\left(- z + {\\mu}_{0},g_{2},g_{3} \\right)} \\sigma{\\left(- z + {\\mu}_{1},g_{2},g_{3} \\right)} \\sigma{\\left(- z - {\\mu}_{0} - {\\mu}_{1},g_{2},g_{3} \\right)}}{\\sigma^{3}{\\left(z,g_{2},g_{3} \\right)} \\sigma{\\left(- {\\mu}_{0} - {\\mu}_{1},g_{2},g_{3} \\right)} \\sigma{\\left({\\mu}_{0},g_{2},g_{3} \\right)} \\sigma{\\left({\\mu}_{1},g_{2},g_{3} \\right)}}\\right)\\right) = \\lim_{z \\to 0^+}\\left(z^{2} \\left(\\operatorname{pw}{\\left(z,g_{2},g_{3} \\right)} {c}_{1} + {c}_{0}\\right)\\right)$"
      ],
      "text/plain": [
       "Eq(Limit(z**2*(Derivative(pw(z, g2, g3), z)/2 + sigma(-z + mu[0], g2, g3)*sigma(-z + mu[1], g2, g3)*sigma(-z - mu[0] - mu[1], g2, g3)/(sigma(z, g2, g3)**3*sigma(-mu[0] - mu[1], g2, g3)*sigma(mu[0], g2, g3)*sigma(mu[1], g2, g3))), z, 0), Limit(z**2*(pw(z, g2, g3)*c[1] + c[0]), z, 0))"
      ]
     },
     "execution_count": 65,
     "metadata": {},
     "output_type": "execute_result"
    }
   ],
   "source": [
    "Eq(Limit(z**2*(N2_sigma_product_wp_c.lhs+diff(pw(z,g2,g3),z)/2),z,0), Limit(z**2*(pw(z,g2,g3)*c[1] + c[0]),z,0))"
   ]
  },
  {
   "cell_type": "code",
   "execution_count": 66,
   "metadata": {},
   "outputs": [
    {
     "data": {
      "text/latex": [
       "$\\displaystyle \\frac{\\sigma{\\left(- z + {\\mu}_{0},g_{2},g_{3} \\right)} \\sigma{\\left(- z + {\\mu}_{1},g_{2},g_{3} \\right)} \\sigma{\\left(- z - {\\mu}_{0} - {\\mu}_{1},g_{2},g_{3} \\right)}}{\\sigma^{3}{\\left(z,g_{2},g_{3} \\right)} \\sigma{\\left(- {\\mu}_{0} - {\\mu}_{1},g_{2},g_{3} \\right)} \\sigma{\\left({\\mu}_{0},g_{2},g_{3} \\right)} \\sigma{\\left({\\mu}_{1},g_{2},g_{3} \\right)}} - \\frac{\\sigma{\\left(z + {\\mu}_{0},g_{2},g_{3} \\right)} \\sigma{\\left(z + {\\mu}_{1},g_{2},g_{3} \\right)} \\sigma{\\left(z - {\\mu}_{0} - {\\mu}_{1},g_{2},g_{3} \\right)}}{\\sigma^{3}{\\left(- z,g_{2},g_{3} \\right)} \\sigma{\\left(- {\\mu}_{0} - {\\mu}_{1},g_{2},g_{3} \\right)} \\sigma{\\left({\\mu}_{0},g_{2},g_{3} \\right)} \\sigma{\\left({\\mu}_{1},g_{2},g_{3} \\right)}} = - \\frac{\\partial}{\\partial z} \\operatorname{pw}{\\left(z,g_{2},g_{3} \\right)}$"
      ],
      "text/plain": [
       "Eq(sigma(-z + mu[0], g2, g3)*sigma(-z + mu[1], g2, g3)*sigma(-z - mu[0] - mu[1], g2, g3)/(sigma(z, g2, g3)**3*sigma(-mu[0] - mu[1], g2, g3)*sigma(mu[0], g2, g3)*sigma(mu[1], g2, g3)) - sigma(z + mu[0], g2, g3)*sigma(z + mu[1], g2, g3)*sigma(z - mu[0] - mu[1], g2, g3)/(sigma(-z, g2, g3)**3*sigma(-mu[0] - mu[1], g2, g3)*sigma(mu[0], g2, g3)*sigma(mu[1], g2, g3)), -Derivative(pw(z, g2, g3), z))"
      ]
     },
     "execution_count": 66,
     "metadata": {},
     "output_type": "execute_result"
    }
   ],
   "source": [
    "N2_wp_diff = Eq(\n",
    "    N2_sigma_product_wp_c_with_c2.lhs - N2_sigma_product_wp_c_with_c2.lhs.subs(z,-z),\n",
    "    N2_sigma_product_wp_c_with_c2.rhs - N2_sigma_product_wp_c_with_c2.rhs.subs(z,-z)\n",
    ").subs([\n",
    "    (pw(-z,g2,g3), pw(z,g2,g3)), \n",
    "    (diff(pw(z,g2,g3),z).subs(z,-z), -diff(pw(z,g2,g3),z))\n",
    "])\n",
    "N2_wp_diff"
   ]
  },
  {
   "cell_type": "code",
   "execution_count": 67,
   "metadata": {},
   "outputs": [
    {
     "data": {
      "text/latex": [
       "$\\displaystyle \\left(\\frac{\\sigma{\\left(- z + {\\mu}_{0},g_{2},g_{3} \\right)} \\sigma{\\left(- z + {\\mu}_{1},g_{2},g_{3} \\right)} \\sigma{\\left(- z - {\\mu}_{0} - {\\mu}_{1},g_{2},g_{3} \\right)}}{\\sigma^{3}{\\left(z,g_{2},g_{3} \\right)} \\sigma{\\left(- {\\mu}_{0} - {\\mu}_{1},g_{2},g_{3} \\right)} \\sigma{\\left({\\mu}_{0},g_{2},g_{3} \\right)} \\sigma{\\left({\\mu}_{1},g_{2},g_{3} \\right)}} - \\frac{\\sigma{\\left(z + {\\mu}_{0},g_{2},g_{3} \\right)} \\sigma{\\left(z + {\\mu}_{1},g_{2},g_{3} \\right)} \\sigma{\\left(z - {\\mu}_{0} - {\\mu}_{1},g_{2},g_{3} \\right)}}{\\sigma^{3}{\\left(- z,g_{2},g_{3} \\right)} \\sigma{\\left(- {\\mu}_{0} - {\\mu}_{1},g_{2},g_{3} \\right)} \\sigma{\\left({\\mu}_{0},g_{2},g_{3} \\right)} \\sigma{\\left({\\mu}_{1},g_{2},g_{3} \\right)}}\\right)^{2} = \\left(\\frac{\\partial}{\\partial z} \\operatorname{pw}{\\left(z,g_{2},g_{3} \\right)}\\right)^{2}$"
      ],
      "text/plain": [
       "Eq((sigma(-z + mu[0], g2, g3)*sigma(-z + mu[1], g2, g3)*sigma(-z - mu[0] - mu[1], g2, g3)/(sigma(z, g2, g3)**3*sigma(-mu[0] - mu[1], g2, g3)*sigma(mu[0], g2, g3)*sigma(mu[1], g2, g3)) - sigma(z + mu[0], g2, g3)*sigma(z + mu[1], g2, g3)*sigma(z - mu[0] - mu[1], g2, g3)/(sigma(-z, g2, g3)**3*sigma(-mu[0] - mu[1], g2, g3)*sigma(mu[0], g2, g3)*sigma(mu[1], g2, g3)))**2, Derivative(pw(z, g2, g3), z)**2)"
      ]
     },
     "execution_count": 67,
     "metadata": {},
     "output_type": "execute_result"
    }
   ],
   "source": [
    "Eq(N2_wp_diff.lhs**2, N2_wp_diff.rhs**2)"
   ]
  },
  {
   "cell_type": "code",
   "execution_count": 68,
   "metadata": {},
   "outputs": [
    {
     "data": {
      "text/latex": [
       "$\\displaystyle \\left(\\frac{\\sigma{\\left(- z + {\\mu}_{0},g_{2},g_{3} \\right)} \\sigma{\\left(- z + {\\mu}_{1},g_{2},g_{3} \\right)} \\sigma{\\left(- z - {\\mu}_{0} - {\\mu}_{1},g_{2},g_{3} \\right)}}{\\sigma^{3}{\\left(z,g_{2},g_{3} \\right)} \\sigma{\\left(- {\\mu}_{0} - {\\mu}_{1},g_{2},g_{3} \\right)} \\sigma{\\left({\\mu}_{0},g_{2},g_{3} \\right)} \\sigma{\\left({\\mu}_{1},g_{2},g_{3} \\right)}} - \\frac{\\sigma{\\left(z + {\\mu}_{0},g_{2},g_{3} \\right)} \\sigma{\\left(z + {\\mu}_{1},g_{2},g_{3} \\right)} \\sigma{\\left(z - {\\mu}_{0} - {\\mu}_{1},g_{2},g_{3} \\right)}}{\\sigma^{3}{\\left(- z,g_{2},g_{3} \\right)} \\sigma{\\left(- {\\mu}_{0} - {\\mu}_{1},g_{2},g_{3} \\right)} \\sigma{\\left({\\mu}_{0},g_{2},g_{3} \\right)} \\sigma{\\left({\\mu}_{1},g_{2},g_{3} \\right)}}\\right)^{2} = \\left(- 4 e_{1} + 4 \\operatorname{pw}{\\left(z,g_{2},g_{3} \\right)}\\right) \\left(- e_{2} + \\operatorname{pw}{\\left(z,g_{2},g_{3} \\right)}\\right) \\left(- e_{3} + \\operatorname{pw}{\\left(z,g_{2},g_{3} \\right)}\\right)$"
      ],
      "text/plain": [
       "Eq((sigma(-z + mu[0], g2, g3)*sigma(-z + mu[1], g2, g3)*sigma(-z - mu[0] - mu[1], g2, g3)/(sigma(z, g2, g3)**3*sigma(-mu[0] - mu[1], g2, g3)*sigma(mu[0], g2, g3)*sigma(mu[1], g2, g3)) - sigma(z + mu[0], g2, g3)*sigma(z + mu[1], g2, g3)*sigma(z - mu[0] - mu[1], g2, g3)/(sigma(-z, g2, g3)**3*sigma(-mu[0] - mu[1], g2, g3)*sigma(mu[0], g2, g3)*sigma(mu[1], g2, g3)))**2, (-4*e1 + 4*pw(z, g2, g3))*(-e2 + pw(z, g2, g3))*(-e3 + pw(z, g2, g3)))"
      ]
     },
     "execution_count": 68,
     "metadata": {},
     "output_type": "execute_result"
    }
   ],
   "source": [
    "Eq((N2_wp_diff.lhs**2), (N2_wp_diff.rhs**2)).subs(\n",
    "    diff(pw(z,g2,g3),z)**2,4*(pw(z,g2,g3) - e1)*(pw(z,g2,g3) - e2)*(pw(z,g2,g3) - e3)\n",
    ")"
   ]
  },
  {
   "cell_type": "code",
   "execution_count": 69,
   "metadata": {},
   "outputs": [
    {
     "data": {
      "text/latex": [
       "$\\displaystyle \\operatorname{A_{1}}{\\left(z \\right)} \\operatorname{A_{2}}{\\left(z \\right)} \\operatorname{A_{3}}{\\left(z \\right)} \\operatorname{Ac_{1}}{\\left(z \\right)} \\operatorname{Ac_{2}}{\\left(z \\right)} \\operatorname{Ac_{3}}{\\left(z \\right)} - \\operatorname{A_{1}}{\\left(z \\right)} \\operatorname{A_{2}}{\\left(z \\right)} \\operatorname{Ac_{1}}{\\left(z \\right)} \\operatorname{Ac_{2}}{\\left(z \\right)} {d}_{3} - \\operatorname{A_{1}}{\\left(z \\right)} \\operatorname{A_{3}}{\\left(z \\right)} \\operatorname{Ac_{1}}{\\left(z \\right)} \\operatorname{Ac_{3}}{\\left(z \\right)} {d}_{2} + \\operatorname{A_{1}}{\\left(z \\right)} \\operatorname{Ac_{1}}{\\left(z \\right)} {d}_{2} {d}_{3} - \\operatorname{A_{2}}{\\left(z \\right)} \\operatorname{A_{3}}{\\left(z \\right)} \\operatorname{Ac_{2}}{\\left(z \\right)} \\operatorname{Ac_{3}}{\\left(z \\right)} {d}_{1} + \\operatorname{A_{2}}{\\left(z \\right)} \\operatorname{Ac_{2}}{\\left(z \\right)} {d}_{1} {d}_{3} + \\operatorname{A_{3}}{\\left(z \\right)} \\operatorname{Ac_{3}}{\\left(z \\right)} {d}_{1} {d}_{2} - {d}_{1} {d}_{2} {d}_{3}$"
      ],
      "text/plain": [
       "A1(z)*A2(z)*A3(z)*Ac1(z)*Ac2(z)*Ac3(z) - A1(z)*A2(z)*Ac1(z)*Ac2(z)*d[3] - A1(z)*A3(z)*Ac1(z)*Ac3(z)*d[2] + A1(z)*Ac1(z)*d[2]*d[3] - A2(z)*A3(z)*Ac2(z)*Ac3(z)*d[1] + A2(z)*Ac2(z)*d[1]*d[3] + A3(z)*Ac3(z)*d[1]*d[2] - d[1]*d[2]*d[3]"
      ]
     },
     "execution_count": 69,
     "metadata": {},
     "output_type": "execute_result"
    }
   ],
   "source": [
    "((A1(z)*Ac1(z) - d[1])*(A2(z)*Ac2(z) - d[2])*(A3(z)*Ac3(z) - d[3])).expand()"
   ]
  },
  {
   "cell_type": "code",
   "execution_count": 70,
   "metadata": {},
   "outputs": [
    {
     "data": {
      "text/latex": [
       "$\\displaystyle \\frac{\\sigma{\\left(- z + {\\mu}_{0},g_{2},g_{3} \\right)} \\sigma{\\left(- z + {\\mu}_{1},g_{2},g_{3} \\right)} \\sigma{\\left(- z + {\\mu}_{2},g_{2},g_{3} \\right)} \\sigma{\\left(- z - {\\mu}_{0} - {\\mu}_{1} - {\\mu}_{2},g_{2},g_{3} \\right)}}{\\sigma^{4}{\\left(z,g_{2},g_{3} \\right)} \\sigma{\\left(- {\\mu}_{0} - {\\mu}_{1} - {\\mu}_{2},g_{2},g_{3} \\right)} \\sigma{\\left({\\mu}_{0},g_{2},g_{3} \\right)} \\sigma{\\left({\\mu}_{1},g_{2},g_{3} \\right)} \\sigma{\\left({\\mu}_{2},g_{2},g_{3} \\right)}} = - \\frac{g_{2} {c}_{3}}{2} + 6 \\operatorname{pw}^{2}{\\left(z,g_{2},g_{3} \\right)} {c}_{3} + \\operatorname{pw}{\\left(z,g_{2},g_{3} \\right)} {c}_{1} + \\frac{\\partial}{\\partial z} \\operatorname{pw}{\\left(z,g_{2},g_{3} \\right)} {c}_{2} + {c}_{0}$"
      ],
      "text/plain": [
       "Eq(sigma(-z + mu[0], g2, g3)*sigma(-z + mu[1], g2, g3)*sigma(-z + mu[2], g2, g3)*sigma(-z - mu[0] - mu[1] - mu[2], g2, g3)/(sigma(z, g2, g3)**4*sigma(-mu[0] - mu[1] - mu[2], g2, g3)*sigma(mu[0], g2, g3)*sigma(mu[1], g2, g3)*sigma(mu[2], g2, g3)), -g2*c[3]/2 + 6*pw(z, g2, g3)**2*c[3] + pw(z, g2, g3)*c[1] + Derivative(pw(z, g2, g3), z)*c[2] + c[0])"
      ]
     },
     "execution_count": 70,
     "metadata": {},
     "output_type": "execute_result"
    }
   ],
   "source": [
    "sigma_product_wp_c(3)"
   ]
  },
  {
   "cell_type": "code",
   "execution_count": 71,
   "metadata": {},
   "outputs": [
    {
     "data": {
      "text/latex": [
       "$\\displaystyle \\frac{\\sigma^{2}{\\left(- z + {\\mu}_{0},g_{2},g_{3} \\right)} \\sigma{\\left(- z + {\\mu}_{2},g_{2},g_{3} \\right)} \\sigma{\\left(- z - 2 {\\mu}_{0} - {\\mu}_{2},g_{2},g_{3} \\right)}}{\\sigma^{4}{\\left(z,g_{2},g_{3} \\right)} \\sigma{\\left(- 2 {\\mu}_{0} - {\\mu}_{2},g_{2},g_{3} \\right)} \\sigma^{2}{\\left({\\mu}_{0},g_{2},g_{3} \\right)} \\sigma{\\left({\\mu}_{2},g_{2},g_{3} \\right)}} = - \\frac{g_{2} {c}_{3}}{2} + 6 \\operatorname{pw}^{2}{\\left(z,g_{2},g_{3} \\right)} {c}_{3} + \\operatorname{pw}{\\left(z,g_{2},g_{3} \\right)} {c}_{1} + \\frac{\\partial}{\\partial z} \\operatorname{pw}{\\left(z,g_{2},g_{3} \\right)} {c}_{2} + {c}_{0}$"
      ],
      "text/plain": [
       "Eq(sigma(-z + mu[0], g2, g3)**2*sigma(-z + mu[2], g2, g3)*sigma(-z - 2*mu[0] - mu[2], g2, g3)/(sigma(z, g2, g3)**4*sigma(-2*mu[0] - mu[2], g2, g3)*sigma(mu[0], g2, g3)**2*sigma(mu[2], g2, g3)), -g2*c[3]/2 + 6*pw(z, g2, g3)**2*c[3] + pw(z, g2, g3)*c[1] + Derivative(pw(z, g2, g3), z)*c[2] + c[0])"
      ]
     },
     "execution_count": 71,
     "metadata": {},
     "output_type": "execute_result"
    }
   ],
   "source": [
    "sigma_product_wp_c(3).subs(mu[1],mu[0])"
   ]
  },
  {
   "cell_type": "code",
   "execution_count": 72,
   "metadata": {},
   "outputs": [
    {
     "data": {
      "text/latex": [
       "$\\displaystyle - 2 {\\mu}_{0} - {\\mu}_{2} = 2 \\omega_{1} + {\\mu}_{2}$"
      ],
      "text/plain": [
       "Eq(-2*mu[0] - mu[2], 2*omega1 + mu[2])"
      ]
     },
     "execution_count": 72,
     "metadata": {},
     "output_type": "execute_result"
    }
   ],
   "source": [
    "Eq(-2*mu[0]-mu[2],mu[2]+2*omega1)"
   ]
  },
  {
   "cell_type": "code",
   "execution_count": 73,
   "metadata": {},
   "outputs": [
    {
     "data": {
      "text/latex": [
       "$\\displaystyle \\frac{\\sigma{\\left(- z + {\\mu}_{0},g_{2},g_{3} \\right)} \\sigma{\\left(- z + {\\mu}_{1},g_{2},g_{3} \\right)} \\sigma{\\left(- z - {\\mu}_{0} - {\\mu}_{1},g_{2},g_{3} \\right)}}{\\sigma^{3}{\\left(z,g_{2},g_{3} \\right)} \\sigma{\\left(- {\\mu}_{0} - {\\mu}_{1},g_{2},g_{3} \\right)} \\sigma{\\left({\\mu}_{0},g_{2},g_{3} \\right)} \\sigma{\\left({\\mu}_{1},g_{2},g_{3} \\right)}} = \\operatorname{pw}{\\left(z,g_{2},g_{3} \\right)} {c}_{1} + \\frac{\\partial}{\\partial z} \\operatorname{pw}{\\left(z,g_{2},g_{3} \\right)} {c}_{2} + {c}_{0}$"
      ],
      "text/plain": [
       "Eq(sigma(-z + mu[0], g2, g3)*sigma(-z + mu[1], g2, g3)*sigma(-z - mu[0] - mu[1], g2, g3)/(sigma(z, g2, g3)**3*sigma(-mu[0] - mu[1], g2, g3)*sigma(mu[0], g2, g3)*sigma(mu[1], g2, g3)), pw(z, g2, g3)*c[1] + Derivative(pw(z, g2, g3), z)*c[2] + c[0])"
      ]
     },
     "execution_count": 73,
     "metadata": {},
     "output_type": "execute_result"
    }
   ],
   "source": [
    "N2_eq_ = sigma_product_wp_c(2)\n",
    "N2_eq_"
   ]
  },
  {
   "cell_type": "code",
   "execution_count": 74,
   "metadata": {},
   "outputs": [
    {
     "data": {
      "text/latex": [
       "$\\displaystyle - \\left(\\operatorname{pw}{\\left(z,g_{2},g_{3} \\right)} {c}_{1} - \\frac{\\partial}{\\partial z} \\operatorname{pw}{\\left(z,g_{2},g_{3} \\right)} {c}_{2} + {c}_{0}\\right) \\left(\\operatorname{pw}{\\left(z,g_{2},g_{3} \\right)} {c}_{1} + \\frac{\\partial}{\\partial z} \\operatorname{pw}{\\left(z,g_{2},g_{3} \\right)} {c}_{2} + {c}_{0}\\right) - \\frac{\\sigma{\\left(- z + {\\mu}_{0},g_{2},g_{3} \\right)} \\sigma{\\left(- z + {\\mu}_{1},g_{2},g_{3} \\right)} \\sigma{\\left(z + {\\mu}_{0},g_{2},g_{3} \\right)} \\sigma{\\left(z + {\\mu}_{1},g_{2},g_{3} \\right)} \\sigma{\\left(- z - {\\mu}_{0} - {\\mu}_{1},g_{2},g_{3} \\right)} \\sigma{\\left(z - {\\mu}_{0} - {\\mu}_{1},g_{2},g_{3} \\right)}}{\\sigma^{6}{\\left(z,g_{2},g_{3} \\right)} \\sigma^{2}{\\left(- {\\mu}_{0} - {\\mu}_{1},g_{2},g_{3} \\right)} \\sigma^{2}{\\left({\\mu}_{0},g_{2},g_{3} \\right)} \\sigma^{2}{\\left({\\mu}_{1},g_{2},g_{3} \\right)}} = 0$"
      ],
      "text/plain": [
       "Eq(-(pw(z, g2, g3)*c[1] - Derivative(pw(z, g2, g3), z)*c[2] + c[0])*(pw(z, g2, g3)*c[1] + Derivative(pw(z, g2, g3), z)*c[2] + c[0]) - sigma(-z + mu[0], g2, g3)*sigma(-z + mu[1], g2, g3)*sigma(z + mu[0], g2, g3)*sigma(z + mu[1], g2, g3)*sigma(-z - mu[0] - mu[1], g2, g3)*sigma(z - mu[0] - mu[1], g2, g3)/(sigma(z, g2, g3)**6*sigma(-mu[0] - mu[1], g2, g3)**2*sigma(mu[0], g2, g3)**2*sigma(mu[1], g2, g3)**2), 0)"
      ]
     },
     "execution_count": 74,
     "metadata": {},
     "output_type": "execute_result"
    }
   ],
   "source": [
    "N2_eq_sym_z = Eq(N2_eq_.lhs*N2_eq_.lhs.subs(z,-z) - N2_eq_.rhs*N2_eq_.rhs.subs(z,-z), 0).subs([\n",
    "    (diff(pw(z,g2,g3),z).subs(z,-z), -diff(pw(z,g2,g3),z)),\n",
    "    (pw(-z,g2,g3), pw(z,g2,g3)),\n",
    "    (sigma(-z,g2,g3),-sigma(z,g2,g3))\n",
    "])\n",
    "N2_eq_sym_z"
   ]
  },
  {
   "cell_type": "code",
   "execution_count": 75,
   "metadata": {},
   "outputs": [
    {
     "data": {
      "text/latex": [
       "$\\displaystyle - \\operatorname{pw}^{2}{\\left(z,g_{2},g_{3} \\right)} {c}_{1}^{2} - 2 \\operatorname{pw}{\\left(z,g_{2},g_{3} \\right)} {c}_{0} {c}_{1} + \\left(\\frac{\\partial}{\\partial z} \\operatorname{pw}{\\left(z,g_{2},g_{3} \\right)}\\right)^{2} {c}_{2}^{2} - {c}_{0}^{2} - \\frac{\\sigma{\\left(- z + {\\mu}_{0},g_{2},g_{3} \\right)} \\sigma{\\left(- z + {\\mu}_{1},g_{2},g_{3} \\right)} \\sigma{\\left(z + {\\mu}_{0},g_{2},g_{3} \\right)} \\sigma{\\left(z + {\\mu}_{1},g_{2},g_{3} \\right)} \\sigma{\\left(- z - {\\mu}_{0} - {\\mu}_{1},g_{2},g_{3} \\right)} \\sigma{\\left(z - {\\mu}_{0} - {\\mu}_{1},g_{2},g_{3} \\right)}}{\\sigma^{6}{\\left(z,g_{2},g_{3} \\right)} \\sigma^{2}{\\left(- {\\mu}_{0} - {\\mu}_{1},g_{2},g_{3} \\right)} \\sigma^{2}{\\left({\\mu}_{0},g_{2},g_{3} \\right)} \\sigma^{2}{\\left({\\mu}_{1},g_{2},g_{3} \\right)}} = 0$"
      ],
      "text/plain": [
       "Eq(-pw(z, g2, g3)**2*c[1]**2 - 2*pw(z, g2, g3)*c[0]*c[1] + Derivative(pw(z, g2, g3), z)**2*c[2]**2 - c[0]**2 - sigma(-z + mu[0], g2, g3)*sigma(-z + mu[1], g2, g3)*sigma(z + mu[0], g2, g3)*sigma(z + mu[1], g2, g3)*sigma(-z - mu[0] - mu[1], g2, g3)*sigma(z - mu[0] - mu[1], g2, g3)/(sigma(z, g2, g3)**6*sigma(-mu[0] - mu[1], g2, g3)**2*sigma(mu[0], g2, g3)**2*sigma(mu[1], g2, g3)**2), 0)"
      ]
     },
     "execution_count": 75,
     "metadata": {},
     "output_type": "execute_result"
    }
   ],
   "source": [
    "N2_eq_sym_z.expand()"
   ]
  },
  {
   "cell_type": "code",
   "execution_count": 76,
   "metadata": {},
   "outputs": [
    {
     "data": {
      "text/latex": [
       "$\\displaystyle \\frac{\\sigma{\\left(- z - {\\mu}_{0},g_{2},g_{3} \\right)} \\sigma{\\left(- z + {\\mu}_{0},g_{2},g_{3} \\right)}}{\\sigma^{2}{\\left(z,g_{2},g_{3} \\right)} \\sigma^{2}{\\left({\\mu}_{0},g_{2},g_{3} \\right)}} = - \\operatorname{pw}{\\left(z,g_{2},g_{3} \\right)} + \\operatorname{pw}{\\left({\\mu}_{0},g_{2},g_{3} \\right)}$"
      ],
      "text/plain": [
       "Eq(sigma(-z - mu[0], g2, g3)*sigma(-z + mu[0], g2, g3)/(sigma(z, g2, g3)**2*sigma(mu[0], g2, g3)**2), -pw(z, g2, g3) + pw(mu[0], g2, g3))"
      ]
     },
     "execution_count": 76,
     "metadata": {},
     "output_type": "execute_result"
    }
   ],
   "source": [
    "Eq(sigma_p_identity.rhs.subs([(x,-z),(y,-mu[0])]), sigma_p_identity.lhs.subs([(x,-z),(y,-mu[0])])).subs([\n",
    "    (diff(pw(z,g2,g3),z).subs(z,-z), -diff(pw(z,g2,g3),z)),\n",
    "    (pw(-z,g2,g3), pw(z,g2,g3)),\n",
    "    (pw(-mu[0],g2,g3), pw(mu[0],g2,g3)),\n",
    "    (sigma(-z,g2,g3),-sigma(z,g2,g3)),\n",
    "    (sigma(-mu[0],g2,g3),-sigma(mu[0],g2,g3))\n",
    "])"
   ]
  },
  {
   "cell_type": "code",
   "execution_count": 77,
   "metadata": {},
   "outputs": [
    {
     "data": {
      "text/latex": [
       "$\\displaystyle \\frac{\\sigma{\\left(- z + {\\mu}_{0},g_{2},g_{3} \\right)} \\sigma{\\left(z + {\\mu}_{0},g_{2},g_{3} \\right)}}{\\sigma^{2}{\\left(z,g_{2},g_{3} \\right)} \\sigma^{2}{\\left({\\mu}_{0},g_{2},g_{3} \\right)}} = \\operatorname{pw}{\\left(z,g_{2},g_{3} \\right)} - \\operatorname{pw}{\\left({\\mu}_{0},g_{2},g_{3} \\right)}$"
      ],
      "text/plain": [
       "Eq(sigma(-z + mu[0], g2, g3)*sigma(z + mu[0], g2, g3)/(sigma(z, g2, g3)**2*sigma(mu[0], g2, g3)**2), pw(z, g2, g3) - pw(mu[0], g2, g3))"
      ]
     },
     "execution_count": 77,
     "metadata": {},
     "output_type": "execute_result"
    }
   ],
   "source": [
    "eq_Xxx = Eq(sigma_p_identity.rhs.subs([(y,-z),(x,mu[0])]), sigma_p_identity.lhs.subs([(y,-z),(x,mu[0])])).subs([\n",
    "    (pw(-z,g2,g3), pw(z,g2,g3)),\n",
    "    (sigma(-z,g2,g3),-sigma(z,g2,g3)),\n",
    "])\n",
    "eq_Xxx"
   ]
  },
  {
   "cell_type": "code",
   "execution_count": 78,
   "metadata": {},
   "outputs": [
    {
     "data": {
      "text/latex": [
       "$\\displaystyle \\frac{\\sigma{\\left(- z + {\\mu}_{0},g_{2},g_{3} \\right)} \\sigma{\\left(- z + {\\mu}_{1},g_{2},g_{3} \\right)} \\sigma{\\left(z + {\\mu}_{0},g_{2},g_{3} \\right)} \\sigma{\\left(z + {\\mu}_{1},g_{2},g_{3} \\right)} \\sigma{\\left(- z - {\\mu}_{0} - {\\mu}_{1},g_{2},g_{3} \\right)} \\sigma{\\left(z - {\\mu}_{0} - {\\mu}_{1},g_{2},g_{3} \\right)}}{\\sigma^{6}{\\left(z,g_{2},g_{3} \\right)} \\sigma^{2}{\\left(- {\\mu}_{0} - {\\mu}_{1},g_{2},g_{3} \\right)} \\sigma^{2}{\\left({\\mu}_{0},g_{2},g_{3} \\right)} \\sigma^{2}{\\left({\\mu}_{1},g_{2},g_{3} \\right)}} = \\left(\\operatorname{pw}{\\left(z,g_{2},g_{3} \\right)} - \\operatorname{pw}{\\left(- {\\mu}_{0} - {\\mu}_{1},g_{2},g_{3} \\right)}\\right) \\left(\\operatorname{pw}{\\left(z,g_{2},g_{3} \\right)} - \\operatorname{pw}{\\left({\\mu}_{0},g_{2},g_{3} \\right)}\\right) \\left(\\operatorname{pw}{\\left(z,g_{2},g_{3} \\right)} - \\operatorname{pw}{\\left({\\mu}_{1},g_{2},g_{3} \\right)}\\right)$"
      ],
      "text/plain": [
       "Eq(sigma(-z + mu[0], g2, g3)*sigma(-z + mu[1], g2, g3)*sigma(z + mu[0], g2, g3)*sigma(z + mu[1], g2, g3)*sigma(-z - mu[0] - mu[1], g2, g3)*sigma(z - mu[0] - mu[1], g2, g3)/(sigma(z, g2, g3)**6*sigma(-mu[0] - mu[1], g2, g3)**2*sigma(mu[0], g2, g3)**2*sigma(mu[1], g2, g3)**2), (pw(z, g2, g3) - pw(-mu[0] - mu[1], g2, g3))*(pw(z, g2, g3) - pw(mu[0], g2, g3))*(pw(z, g2, g3) - pw(mu[1], g2, g3)))"
      ]
     },
     "execution_count": 78,
     "metadata": {},
     "output_type": "execute_result"
    }
   ],
   "source": [
    "eq_Xxx_3 = Eq(eq_Xxx.lhs * eq_Xxx.lhs.subs(mu[0],mu[1]) * eq_Xxx.lhs.subs(mu[0],-mu[0] - mu[1]),\n",
    "  eq_Xxx.rhs * eq_Xxx.rhs.subs(mu[0],mu[1]) * eq_Xxx.rhs.subs(mu[0],-mu[0] - mu[1])\n",
    "  )\n",
    "eq_Xxx_3"
   ]
  },
  {
   "cell_type": "code",
   "execution_count": 79,
   "metadata": {},
   "outputs": [
    {
     "data": {
      "text/latex": [
       "$\\displaystyle - g_{3} {c}_{2}^{2} + \\left(4 {c}_{2}^{2} - 1\\right) \\operatorname{pw}^{3}{\\left(z,g_{2},g_{3} \\right)} + \\left(\\operatorname{pw}{\\left(- {\\mu}_{0} - {\\mu}_{1},g_{2},g_{3} \\right)} + \\operatorname{pw}{\\left({\\mu}_{0},g_{2},g_{3} \\right)} + \\operatorname{pw}{\\left({\\mu}_{1},g_{2},g_{3} \\right)} - {c}_{1}^{2}\\right) \\operatorname{pw}^{2}{\\left(z,g_{2},g_{3} \\right)} + \\left(- g_{2} {c}_{2}^{2} - \\operatorname{pw}{\\left(- {\\mu}_{0} - {\\mu}_{1},g_{2},g_{3} \\right)} \\operatorname{pw}{\\left({\\mu}_{0},g_{2},g_{3} \\right)} - \\operatorname{pw}{\\left(- {\\mu}_{0} - {\\mu}_{1},g_{2},g_{3} \\right)} \\operatorname{pw}{\\left({\\mu}_{1},g_{2},g_{3} \\right)} - \\operatorname{pw}{\\left({\\mu}_{0},g_{2},g_{3} \\right)} \\operatorname{pw}{\\left({\\mu}_{1},g_{2},g_{3} \\right)} - 2 {c}_{0} {c}_{1}\\right) \\operatorname{pw}{\\left(z,g_{2},g_{3} \\right)} + \\operatorname{pw}{\\left(- {\\mu}_{0} - {\\mu}_{1},g_{2},g_{3} \\right)} \\operatorname{pw}{\\left({\\mu}_{0},g_{2},g_{3} \\right)} \\operatorname{pw}{\\left({\\mu}_{1},g_{2},g_{3} \\right)} - {c}_{0}^{2} = 0$"
      ],
      "text/plain": [
       "Eq(-g3*c[2]**2 + (4*c[2]**2 - 1)*pw(z, g2, g3)**3 + (pw(-mu[0] - mu[1], g2, g3) + pw(mu[0], g2, g3) + pw(mu[1], g2, g3) - c[1]**2)*pw(z, g2, g3)**2 + (-g2*c[2]**2 - pw(-mu[0] - mu[1], g2, g3)*pw(mu[0], g2, g3) - pw(-mu[0] - mu[1], g2, g3)*pw(mu[1], g2, g3) - pw(mu[0], g2, g3)*pw(mu[1], g2, g3) - 2*c[0]*c[1])*pw(z, g2, g3) + pw(-mu[0] - mu[1], g2, g3)*pw(mu[0], g2, g3)*pw(mu[1], g2, g3) - c[0]**2, 0)"
      ]
     },
     "execution_count": 79,
     "metadata": {},
     "output_type": "execute_result"
    }
   ],
   "source": [
    "N2_eq_wp = N2_eq_sym_z.expand().subs([\n",
    "    (eq_Xxx_3.lhs, eq_Xxx_3.rhs),\n",
    "    (diff(pw(z,g2,g3),z)**2, 4*pw(z,g2,g3)**3 - g2*pw(z,g2,g3) - g3)\n",
    "])\n",
    "N2_eq_wp = Eq(N2_eq_wp.lhs.expand().collect(pw(z,g2,g3)),0)\n",
    "N2_eq_wp"
   ]
  },
  {
   "cell_type": "code",
   "execution_count": 80,
   "metadata": {},
   "outputs": [
    {
     "data": {
      "text/latex": [
       "$\\displaystyle 4 {c}_{2}^{2} - 1 = 0$"
      ],
      "text/plain": [
       "Eq(4*c[2]**2 - 1, 0)"
      ]
     },
     "execution_count": 80,
     "metadata": {},
     "output_type": "execute_result"
    }
   ],
   "source": [
    "Eq(N2_eq_wp.lhs.coeff(pw(z,g2,g3)**3),0)"
   ]
  },
  {
   "cell_type": "code",
   "execution_count": 81,
   "metadata": {},
   "outputs": [
    {
     "data": {
      "text/latex": [
       "$\\displaystyle \\operatorname{pw}{\\left(- {\\mu}_{0} - {\\mu}_{1},g_{2},g_{3} \\right)} + \\operatorname{pw}{\\left({\\mu}_{0},g_{2},g_{3} \\right)} + \\operatorname{pw}{\\left({\\mu}_{1},g_{2},g_{3} \\right)} - {c}_{1}^{2} = 0$"
      ],
      "text/plain": [
       "Eq(pw(-mu[0] - mu[1], g2, g3) + pw(mu[0], g2, g3) + pw(mu[1], g2, g3) - c[1]**2, 0)"
      ]
     },
     "execution_count": 81,
     "metadata": {},
     "output_type": "execute_result"
    }
   ],
   "source": [
    "Eq(N2_eq_wp.lhs.coeff(pw(z,g2,g3)**2),0)"
   ]
  },
  {
   "cell_type": "code",
   "execution_count": 82,
   "metadata": {},
   "outputs": [
    {
     "data": {
      "text/latex": [
       "$\\displaystyle - g_{2} {c}_{2}^{2} - \\operatorname{pw}{\\left(- {\\mu}_{0} - {\\mu}_{1},g_{2},g_{3} \\right)} \\operatorname{pw}{\\left({\\mu}_{0},g_{2},g_{3} \\right)} - \\operatorname{pw}{\\left(- {\\mu}_{0} - {\\mu}_{1},g_{2},g_{3} \\right)} \\operatorname{pw}{\\left({\\mu}_{1},g_{2},g_{3} \\right)} - \\operatorname{pw}{\\left({\\mu}_{0},g_{2},g_{3} \\right)} \\operatorname{pw}{\\left({\\mu}_{1},g_{2},g_{3} \\right)} - 2 {c}_{0} {c}_{1} = 0$"
      ],
      "text/plain": [
       "Eq(-g2*c[2]**2 - pw(-mu[0] - mu[1], g2, g3)*pw(mu[0], g2, g3) - pw(-mu[0] - mu[1], g2, g3)*pw(mu[1], g2, g3) - pw(mu[0], g2, g3)*pw(mu[1], g2, g3) - 2*c[0]*c[1], 0)"
      ]
     },
     "execution_count": 82,
     "metadata": {},
     "output_type": "execute_result"
    }
   ],
   "source": [
    "Eq(N2_eq_wp.lhs.coeff(pw(z,g2,g3)),0)"
   ]
  },
  {
   "cell_type": "code",
   "execution_count": 83,
   "metadata": {},
   "outputs": [
    {
     "data": {
      "text/latex": [
       "$\\displaystyle - g_{3} {c}_{2}^{2} + \\operatorname{pw}{\\left(- {\\mu}_{0} - {\\mu}_{1},g_{2},g_{3} \\right)} \\operatorname{pw}{\\left({\\mu}_{0},g_{2},g_{3} \\right)} \\operatorname{pw}{\\left({\\mu}_{1},g_{2},g_{3} \\right)} - {c}_{0}^{2} = 0$"
      ],
      "text/plain": [
       "Eq(-g3*c[2]**2 + pw(-mu[0] - mu[1], g2, g3)*pw(mu[0], g2, g3)*pw(mu[1], g2, g3) - c[0]**2, 0)"
      ]
     },
     "execution_count": 83,
     "metadata": {},
     "output_type": "execute_result"
    }
   ],
   "source": [
    "Eq(N2_eq_wp.lhs.subs(pw(z,g2,g3),0),0)"
   ]
  },
  {
   "cell_type": "code",
   "execution_count": 84,
   "metadata": {},
   "outputs": [
    {
     "data": {
      "text/latex": [
       "$\\displaystyle - 4 e_{1} e_{2} e_{3} {c}_{2}^{2} + \\left(4 {c}_{2}^{2} - 1\\right) \\operatorname{pw}^{3}{\\left(z,g_{2},g_{3} \\right)} + \\left(- 4 e_{1} {c}_{2}^{2} - 4 e_{2} {c}_{2}^{2} - 4 e_{3} {c}_{2}^{2} + \\operatorname{pw}{\\left(- {\\mu}_{0} - {\\mu}_{1},g_{2},g_{3} \\right)} + \\operatorname{pw}{\\left({\\mu}_{0},g_{2},g_{3} \\right)} + \\operatorname{pw}{\\left({\\mu}_{1},g_{2},g_{3} \\right)} - {c}_{1}^{2}\\right) \\operatorname{pw}^{2}{\\left(z,g_{2},g_{3} \\right)} + \\left(4 e_{1} e_{2} {c}_{2}^{2} + 4 e_{1} e_{3} {c}_{2}^{2} + 4 e_{2} e_{3} {c}_{2}^{2} - \\operatorname{pw}{\\left(- {\\mu}_{0} - {\\mu}_{1},g_{2},g_{3} \\right)} \\operatorname{pw}{\\left({\\mu}_{0},g_{2},g_{3} \\right)} - \\operatorname{pw}{\\left(- {\\mu}_{0} - {\\mu}_{1},g_{2},g_{3} \\right)} \\operatorname{pw}{\\left({\\mu}_{1},g_{2},g_{3} \\right)} - \\operatorname{pw}{\\left({\\mu}_{0},g_{2},g_{3} \\right)} \\operatorname{pw}{\\left({\\mu}_{1},g_{2},g_{3} \\right)} - 2 {c}_{0} {c}_{1}\\right) \\operatorname{pw}{\\left(z,g_{2},g_{3} \\right)} + \\operatorname{pw}{\\left(- {\\mu}_{0} - {\\mu}_{1},g_{2},g_{3} \\right)} \\operatorname{pw}{\\left({\\mu}_{0},g_{2},g_{3} \\right)} \\operatorname{pw}{\\left({\\mu}_{1},g_{2},g_{3} \\right)} - {c}_{0}^{2} = 0$"
      ],
      "text/plain": [
       "Eq(-4*e1*e2*e3*c[2]**2 + (4*c[2]**2 - 1)*pw(z, g2, g3)**3 + (-4*e1*c[2]**2 - 4*e2*c[2]**2 - 4*e3*c[2]**2 + pw(-mu[0] - mu[1], g2, g3) + pw(mu[0], g2, g3) + pw(mu[1], g2, g3) - c[1]**2)*pw(z, g2, g3)**2 + (4*e1*e2*c[2]**2 + 4*e1*e3*c[2]**2 + 4*e2*e3*c[2]**2 - pw(-mu[0] - mu[1], g2, g3)*pw(mu[0], g2, g3) - pw(-mu[0] - mu[1], g2, g3)*pw(mu[1], g2, g3) - pw(mu[0], g2, g3)*pw(mu[1], g2, g3) - 2*c[0]*c[1])*pw(z, g2, g3) + pw(-mu[0] - mu[1], g2, g3)*pw(mu[0], g2, g3)*pw(mu[1], g2, g3) - c[0]**2, 0)"
      ]
     },
     "execution_count": 84,
     "metadata": {},
     "output_type": "execute_result"
    }
   ],
   "source": [
    "N2_eq_wp_roots = N2_eq_sym_z.expand().subs([\n",
    "    (eq_Xxx_3.lhs, eq_Xxx_3.rhs),\n",
    "    (diff(pw(z,g2,g3),z)**2, 4*(pw(z,g2,g3) - e1)*(pw(z,g2,g3) - e2)*(pw(z,g2,g3) - e3))\n",
    "])\n",
    "N2_eq_wp_roots = Eq(N2_eq_wp_roots.lhs.expand().collect(pw(z,g2,g3)),0)\n",
    "N2_eq_wp_roots"
   ]
  },
  {
   "cell_type": "markdown",
   "metadata": {},
   "source": [
    "## Logarithmic derivates with respect to each variable\n",
    "\n",
    "This section derives a system of coupled differential equations for logs of ratios of sigma functions.The motivation is that such systems describe among other things nonlinear optics and yet they do not seem to be studied or documented in the literature."
   ]
  },
  {
   "cell_type": "code",
   "execution_count": 85,
   "metadata": {},
   "outputs": [],
   "source": [
    "def p_matrix_f_s_diff(N, row_index): \n",
    "    return Matrix([\n",
    "        [1, *[pw(x,g2,g3).diff((x,j)).subs(x,mu[k]) for j in range(N)]] \n",
    "        if k != row_index else\n",
    "        [0, *[pw(x,g2,g3).diff((x,j + 1)).subs(x,mu[k]) for j in range(N)]]\n",
    "        for k in range(N+1) \n",
    "    ])\n",
    "\n",
    "def p_matrix_f_s_1dz_diff(N, row_index): \n",
    "    if row_index == N:\n",
    "        z_row = [0, *[pw(z,g2,g3).diff((z,j + 1)).subs(x,mu[k]) for j in range(N)]]\n",
    "    else:\n",
    "        z_row = [1, *[pw(z,g2,g3).diff((z,j)) for j in range(N)]]\n",
    "    return Matrix([\n",
    "        *[\n",
    "            [1, *[pw(x,g2,g3).diff((x,j)).subs(x,mu[k]) for j in range(N)]]\n",
    "            if k != row_index else\n",
    "            [0, *[pw(x,g2,g3).diff((x,j + 1)).subs(x,mu[k]) for j in range(N)]]\n",
    "          for k in range(N)],\n",
    "         z_row\n",
    "    ])"
   ]
  },
  {
   "cell_type": "code",
   "execution_count": 86,
   "metadata": {},
   "outputs": [
    {
     "data": {
      "text/latex": [
       "$\\displaystyle 0$"
      ],
      "text/plain": [
       "0"
      ]
     },
     "execution_count": 86,
     "metadata": {},
     "output_type": "execute_result"
    }
   ],
   "source": [
    "ii = 2\n",
    "det(p_matrix_f_s_diff(2, ii)) - diff(det(p_matrix_f_s(2)), mu[ii])"
   ]
  },
  {
   "cell_type": "code",
   "execution_count": 87,
   "metadata": {},
   "outputs": [
    {
     "data": {
      "text/latex": [
       "$\\displaystyle 0$"
      ],
      "text/plain": [
       "0"
      ]
     },
     "execution_count": 87,
     "metadata": {},
     "output_type": "execute_result"
    }
   ],
   "source": [
    "ii = 2\n",
    "det(p_matrix_f_s_1dz_diff(2, ii))  - diff(det(p_matrix_f_s_1dz(2)), z)"
   ]
  },
  {
   "cell_type": "code",
   "execution_count": 88,
   "metadata": {
    "scrolled": true
   },
   "outputs": [
    {
     "data": {
      "text/latex": [
       "$\\displaystyle \\int \\operatorname{zw}{\\left(z,g_{2},g_{3} \\right)}\\, dz = \\log{\\left(\\sigma{\\left(z,g_{2},g_{3} \\right)} \\right)}$"
      ],
      "text/plain": [
       "Eq(Integral(zw(z, g2, g3), z), log(sigma(z, g2, g3)))"
      ]
     },
     "execution_count": 88,
     "metadata": {},
     "output_type": "execute_result"
    }
   ],
   "source": [
    "integral_zeta_log_sigma = Eq(Integral(zw(z,g2,g3),z),log(sigma(z,g2,g3)))\n",
    "integral_zeta_log_sigma"
   ]
  },
  {
   "cell_type": "code",
   "execution_count": 89,
   "metadata": {},
   "outputs": [
    {
     "data": {
      "text/latex": [
       "$\\displaystyle \\operatorname{zw}{\\left(z,g_{2},g_{3} \\right)} = \\frac{\\frac{\\partial}{\\partial z} \\sigma{\\left(z,g_{2},g_{3} \\right)}}{\\sigma{\\left(z,g_{2},g_{3} \\right)}}$"
      ],
      "text/plain": [
       "Eq(zw(z, g2, g3), Derivative(sigma(z, g2, g3), z)/sigma(z, g2, g3))"
      ]
     },
     "execution_count": 89,
     "metadata": {},
     "output_type": "execute_result"
    }
   ],
   "source": [
    "zeta_eq = Eq(diff(integral_zeta_log_sigma.lhs,z), diff(integral_zeta_log_sigma.rhs,z))\n",
    "zeta_eq"
   ]
  },
  {
   "cell_type": "code",
   "execution_count": 90,
   "metadata": {},
   "outputs": [
    {
     "data": {
      "text/latex": [
       "$\\displaystyle \\rho{\\left(x,y \\right)} = \\frac{\\sigma{\\left(- x + y,g_{2},g_{3} \\right)}}{\\sigma{\\left(x,g_{2},g_{3} \\right)} \\sigma{\\left(y,g_{2},g_{3} \\right)}}$"
      ],
      "text/plain": [
       "Eq(rho(x, y), sigma(-x + y, g2, g3)/(sigma(x, g2, g3)*sigma(y, g2, g3)))"
      ]
     },
     "execution_count": 90,
     "metadata": {},
     "output_type": "execute_result"
    }
   ],
   "source": [
    "rho_def_xy = Eq(rho(x,y), sigma(-x+y,g2,g3)/sigma(x,g2,g3)/sigma(y,g2,g3))\n",
    "rho_def_xy"
   ]
  },
  {
   "cell_type": "code",
   "execution_count": 91,
   "metadata": {},
   "outputs": [
    {
     "data": {
      "text/latex": [
       "$\\displaystyle \\rho{\\left(- x,y \\right)} = - \\frac{\\sigma{\\left(x + y,g_{2},g_{3} \\right)}}{\\sigma{\\left(x,g_{2},g_{3} \\right)} \\sigma{\\left(y,g_{2},g_{3} \\right)}}$"
      ],
      "text/plain": [
       "Eq(rho(-x, y), -sigma(x + y, g2, g3)/(sigma(x, g2, g3)*sigma(y, g2, g3)))"
      ]
     },
     "execution_count": 91,
     "metadata": {},
     "output_type": "execute_result"
    }
   ],
   "source": [
    "rho_def_xy.subs(x,-x).subs([(sigma(-x,g2,g3), -sigma(x,g2,g3)), (sigma(-y,g2,g3), -sigma(y,g2,g3))])"
   ]
  },
  {
   "cell_type": "code",
   "execution_count": 92,
   "metadata": {},
   "outputs": [
    {
     "data": {
      "text/latex": [
       "$\\displaystyle \\rho{\\left(x,- y \\right)} = \\frac{\\sigma{\\left(x + y,g_{2},g_{3} \\right)}}{\\sigma{\\left(x,g_{2},g_{3} \\right)} \\sigma{\\left(y,g_{2},g_{3} \\right)}}$"
      ],
      "text/plain": [
       "Eq(rho(x, -y), sigma(x + y, g2, g3)/(sigma(x, g2, g3)*sigma(y, g2, g3)))"
      ]
     },
     "execution_count": 92,
     "metadata": {},
     "output_type": "execute_result"
    }
   ],
   "source": [
    "rho_def_xy.subs(y,-y).subs([(sigma(-x,g2,g3), -sigma(x,g2,g3)), (sigma(-y,g2,g3), -sigma(y,g2,g3)),\n",
    "                           (sigma(-x-y,g2,g3), -sigma(x+y,g2,g3))])"
   ]
  },
  {
   "cell_type": "code",
   "execution_count": 93,
   "metadata": {},
   "outputs": [
    {
     "data": {
      "text/latex": [
       "$\\displaystyle \\rho{\\left(- x,y \\right)} = - \\rho{\\left(x,- y \\right)}$"
      ],
      "text/plain": [
       "Eq(rho(-x, y), -rho(x, -y))"
      ]
     },
     "execution_count": 93,
     "metadata": {},
     "output_type": "execute_result"
    }
   ],
   "source": [
    "Eq(rho(-x,y),-rho(x,-y))"
   ]
  },
  {
   "cell_type": "markdown",
   "metadata": {},
   "source": [
    "The starting point is the Frobenius Stickelberger determinant identity. This example uses the 3 variable version but the idea scales to the $N$ dimensional case."
   ]
  },
  {
   "cell_type": "code",
   "execution_count": 94,
   "metadata": {},
   "outputs": [
    {
     "data": {
      "text/latex": [
       "$\\displaystyle \\frac{\\operatorname{Det}{\\left(\\left[\\begin{matrix}1 & \\operatorname{pw}{\\left({\\mu}_{0},g_{2},g_{3} \\right)} & \\frac{\\partial}{\\partial {\\mu}_{0}} \\operatorname{pw}{\\left({\\mu}_{0},g_{2},g_{3} \\right)} & \\frac{\\partial^{2}}{\\partial {\\mu}_{0}^{2}} \\operatorname{pw}{\\left({\\mu}_{0},g_{2},g_{3} \\right)}\\\\1 & \\operatorname{pw}{\\left({\\mu}_{1},g_{2},g_{3} \\right)} & \\frac{\\partial}{\\partial {\\mu}_{1}} \\operatorname{pw}{\\left({\\mu}_{1},g_{2},g_{3} \\right)} & \\frac{\\partial^{2}}{\\partial {\\mu}_{1}^{2}} \\operatorname{pw}{\\left({\\mu}_{1},g_{2},g_{3} \\right)}\\\\1 & \\operatorname{pw}{\\left({\\mu}_{2},g_{2},g_{3} \\right)} & \\frac{\\partial}{\\partial {\\mu}_{2}} \\operatorname{pw}{\\left({\\mu}_{2},g_{2},g_{3} \\right)} & \\frac{\\partial^{2}}{\\partial {\\mu}_{2}^{2}} \\operatorname{pw}{\\left({\\mu}_{2},g_{2},g_{3} \\right)}\\\\1 & \\operatorname{pw}{\\left(z,g_{2},g_{3} \\right)} & \\frac{\\partial}{\\partial z} \\operatorname{pw}{\\left(z,g_{2},g_{3} \\right)} & \\frac{\\partial^{2}}{\\partial z^{2}} \\operatorname{pw}{\\left(z,g_{2},g_{3} \\right)}\\end{matrix}\\right] \\right)} \\operatorname{Det}^{-1}{\\left(\\left[\\begin{matrix}1 & \\operatorname{pw}{\\left({\\mu}_{0},g_{2},g_{3} \\right)} & \\frac{\\partial}{\\partial {\\mu}_{0}} \\operatorname{pw}{\\left({\\mu}_{0},g_{2},g_{3} \\right)}\\\\1 & \\operatorname{pw}{\\left({\\mu}_{1},g_{2},g_{3} \\right)} & \\frac{\\partial}{\\partial {\\mu}_{1}} \\operatorname{pw}{\\left({\\mu}_{1},g_{2},g_{3} \\right)}\\\\1 & \\operatorname{pw}{\\left({\\mu}_{2},g_{2},g_{3} \\right)} & \\frac{\\partial}{\\partial {\\mu}_{2}} \\operatorname{pw}{\\left({\\mu}_{2},g_{2},g_{3} \\right)}\\end{matrix}\\right] \\right)}}{6} = \\frac{\\sigma{\\left(- z + {\\mu}_{0},g_{2},g_{3} \\right)} \\sigma{\\left(- z + {\\mu}_{1},g_{2},g_{3} \\right)} \\sigma{\\left(- z + {\\mu}_{2},g_{2},g_{3} \\right)} \\sigma{\\left(- z - {\\mu}_{0} - {\\mu}_{1} - {\\mu}_{2},g_{2},g_{3} \\right)}}{\\sigma^{4}{\\left(z,g_{2},g_{3} \\right)} \\sigma{\\left(- {\\mu}_{0} - {\\mu}_{1} - {\\mu}_{2},g_{2},g_{3} \\right)} \\sigma{\\left({\\mu}_{0},g_{2},g_{3} \\right)} \\sigma{\\left({\\mu}_{1},g_{2},g_{3} \\right)} \\sigma{\\left({\\mu}_{2},g_{2},g_{3} \\right)}}$"
      ],
      "text/plain": [
       "Eq(Det(Matrix([\n",
       "[1, pw(mu[0], g2, g3), Derivative(pw(mu[0], g2, g3), mu[0]), Derivative(pw(mu[0], g2, g3), (mu[0], 2))],\n",
       "[1, pw(mu[1], g2, g3), Derivative(pw(mu[1], g2, g3), mu[1]), Derivative(pw(mu[1], g2, g3), (mu[1], 2))],\n",
       "[1, pw(mu[2], g2, g3), Derivative(pw(mu[2], g2, g3), mu[2]), Derivative(pw(mu[2], g2, g3), (mu[2], 2))],\n",
       "[1,     pw(z, g2, g3),         Derivative(pw(z, g2, g3), z),         Derivative(pw(z, g2, g3), (z, 2))]]))*Det(Matrix([\n",
       "[1, pw(mu[0], g2, g3), Derivative(pw(mu[0], g2, g3), mu[0])],\n",
       "[1, pw(mu[1], g2, g3), Derivative(pw(mu[1], g2, g3), mu[1])],\n",
       "[1, pw(mu[2], g2, g3), Derivative(pw(mu[2], g2, g3), mu[2])]]))**(-1)/6, sigma(-z + mu[0], g2, g3)*sigma(-z + mu[1], g2, g3)*sigma(-z + mu[2], g2, g3)*sigma(-z - mu[0] - mu[1] - mu[2], g2, g3)/(sigma(z, g2, g3)**4*sigma(-mu[0] - mu[1] - mu[2], g2, g3)*sigma(mu[0], g2, g3)*sigma(mu[1], g2, g3)*sigma(mu[2], g2, g3)))"
      ]
     },
     "execution_count": 94,
     "metadata": {},
     "output_type": "execute_result"
    }
   ],
   "source": [
    "frob_stick_1dz_ratio(3)"
   ]
  },
  {
   "cell_type": "code",
   "execution_count": 95,
   "metadata": {},
   "outputs": [],
   "source": [
    "def constraints_and_subs(Nval):\n",
    "    fsz = frob_stick_1dz_ratio(Nval)\n",
    "    mu_constraint = (mu[Nval], -sum([mu[_i] for _i in range(Nval)]))\n",
    "    sigma_U_subs = [\n",
    "        (\n",
    "            sigma(-z + mu[_i],g2,g3).subs(*mu_constraint), \n",
    "            (rho(z,mu[_i])*sigma(mu[_i],g2,g3)*sigma(z,g2,g3)).subs(*mu_constraint)\n",
    "        ) \n",
    "        for _i in range(Nval+1)\n",
    "    ]\n",
    "    rho_U_subs = [\n",
    "        (\n",
    "            (rho(z,mu[_i])).subs(*mu_constraint),\n",
    "            (sigma(-z + mu[_i],g2,g3)/sigma(mu[_i],g2,g3)/sigma(z,g2,g3)).subs(*mu_constraint)\n",
    "        ) \n",
    "        for _i in range(Nval+1)\n",
    "    ]\n",
    "    all_vars = [*[mu[_i] for _i in range(Nval)], z]\n",
    "    log_diff_eqs = [Eq(Derivative(log(fsz.lhs), mu[0]), Derivative(log(fsz.rhs), mu[0])) for v in all_vars]\n",
    "    Phi_diff_eq = Eq(Phi(*[mu[_i] for _i in range(Nval)],z),fsz.lhs)\n",
    "    phi_rho_eq = Eq(log(fsz.lhs.subs(Phi_diff_eq.rhs, Phi_diff_eq.lhs)), log(fsz.rhs).subs(sigma_U_subs))\n",
    "    phi_rho_system = [ Eq(diff(phi_rho_eq.lhs, v), diff(phi_rho_eq.rhs, v).expand()) for v in all_vars]\n",
    "    phi_rho_system_explicit = [\n",
    "        Eq(\n",
    "            Det(p_matrix_f_s_1dz_diff(Nval, _i))/Det(p_matrix_f_s_1dz(Nval)) -\n",
    "            Det(p_matrix_f_s_diff(Nval - 1, _i))/Det(p_matrix_f_s(Nval - 1)), \n",
    "            Derivative(log(fsz.rhs).subs(sigma_U_subs), mu[_i]).doit().expand()\n",
    "        )\n",
    "        for _i in range(3)\n",
    "    ]\n",
    "    mu_z_diff_equivalences = [\n",
    "        Eq(Derivative(log(fsz.rhs), mu[_k]).expand(),\n",
    "           - Derivative(log(sigma(-z+mu[_k],g2,g3)/sigma(z,g2,g3)/sigma(mu[_k],g2,g3)),z).expand() \n",
    "           + Derivative(log(sigma(-z+mu[3],g2,g3)/sigma(z,g2,g3)/sigma(-mu[0]+mu[Nval],g2,g3)),z).expand() \n",
    "           - zeta_eq.subs(z,mu[_k]).lhs\n",
    "           + zeta_eq.subs(z,mu[Nval]).lhs\n",
    "          ).subs(*mu_constraint)\n",
    "        for _k in range(Nval)\n",
    "    ]\n",
    "    checks_1 = [eq.doit().expand().subs([zeta_eq.subs(z,mu[_i]).args, zeta_eq.subs(z,mu[Nval]).subs(*mu_constraint).args])\n",
    "        for _i, eq in enumerate(mu_z_diff_equivalences)]\n",
    "    rho_mu_z_diff_equivalences = [eq.subs(sigma_U_subs).doit().expand() for eq in mu_z_diff_equivalences]\n",
    "    phi_rho_system_z_diffs = [ex.subs([eq.args for eq in rho_mu_z_diff_equivalences]) for ex in phi_rho_system]\n",
    "    return {\n",
    "        \"mu_constraint\": mu_constraint,\n",
    "        \"sigma_U_subs\": sigma_U_subs,\n",
    "        \"rho_U_subs\": rho_U_subs,\n",
    "        \"all_vars\": all_vars,\n",
    "        \"log_diff_eqs\": log_diff_eqs,\n",
    "        \"Phi_diff_eq\": Phi_diff_eq,\n",
    "        \"phi_rho_eq\": phi_rho_eq,\n",
    "        \"phi_rho_system\": phi_rho_system,\n",
    "        \"phi_rho_system_explicit\": phi_rho_system_explicit,\n",
    "        \"mu_z_diff_equivalences\": mu_z_diff_equivalences,\n",
    "        \"rho_mu_z_diff_equivalences\": rho_mu_z_diff_equivalences,\n",
    "        \"phi_rho_system_z_diffs\": phi_rho_system_z_diffs,\n",
    "        \"checks_1\": checks_1\n",
    "    }"
   ]
  },
  {
   "cell_type": "code",
   "execution_count": 96,
   "metadata": {},
   "outputs": [],
   "source": [
    "setup_n = constraints_and_subs(3)"
   ]
  },
  {
   "cell_type": "markdown",
   "metadata": {},
   "source": [
    "### Example derivation for $\\mu_0$"
   ]
  },
  {
   "cell_type": "markdown",
   "metadata": {},
   "source": [
    "To get separate equations, the identity is differentiated with respect to each of the variables. An example for $\\mu_0$ is shown:"
   ]
  },
  {
   "cell_type": "code",
   "execution_count": 97,
   "metadata": {},
   "outputs": [
    {
     "data": {
      "text/latex": [
       "$\\displaystyle \\frac{\\partial}{\\partial {\\mu}_{0}} \\log{\\left(\\frac{\\operatorname{Det}{\\left(\\left[\\begin{matrix}1 & \\operatorname{pw}{\\left({\\mu}_{0},g_{2},g_{3} \\right)} & \\frac{\\partial}{\\partial {\\mu}_{0}} \\operatorname{pw}{\\left({\\mu}_{0},g_{2},g_{3} \\right)} & \\frac{\\partial^{2}}{\\partial {\\mu}_{0}^{2}} \\operatorname{pw}{\\left({\\mu}_{0},g_{2},g_{3} \\right)}\\\\1 & \\operatorname{pw}{\\left({\\mu}_{1},g_{2},g_{3} \\right)} & \\frac{\\partial}{\\partial {\\mu}_{1}} \\operatorname{pw}{\\left({\\mu}_{1},g_{2},g_{3} \\right)} & \\frac{\\partial^{2}}{\\partial {\\mu}_{1}^{2}} \\operatorname{pw}{\\left({\\mu}_{1},g_{2},g_{3} \\right)}\\\\1 & \\operatorname{pw}{\\left({\\mu}_{2},g_{2},g_{3} \\right)} & \\frac{\\partial}{\\partial {\\mu}_{2}} \\operatorname{pw}{\\left({\\mu}_{2},g_{2},g_{3} \\right)} & \\frac{\\partial^{2}}{\\partial {\\mu}_{2}^{2}} \\operatorname{pw}{\\left({\\mu}_{2},g_{2},g_{3} \\right)}\\\\1 & \\operatorname{pw}{\\left(z,g_{2},g_{3} \\right)} & \\frac{\\partial}{\\partial z} \\operatorname{pw}{\\left(z,g_{2},g_{3} \\right)} & \\frac{\\partial^{2}}{\\partial z^{2}} \\operatorname{pw}{\\left(z,g_{2},g_{3} \\right)}\\end{matrix}\\right] \\right)} \\operatorname{Det}^{-1}{\\left(\\left[\\begin{matrix}1 & \\operatorname{pw}{\\left({\\mu}_{0},g_{2},g_{3} \\right)} & \\frac{\\partial}{\\partial {\\mu}_{0}} \\operatorname{pw}{\\left({\\mu}_{0},g_{2},g_{3} \\right)}\\\\1 & \\operatorname{pw}{\\left({\\mu}_{1},g_{2},g_{3} \\right)} & \\frac{\\partial}{\\partial {\\mu}_{1}} \\operatorname{pw}{\\left({\\mu}_{1},g_{2},g_{3} \\right)}\\\\1 & \\operatorname{pw}{\\left({\\mu}_{2},g_{2},g_{3} \\right)} & \\frac{\\partial}{\\partial {\\mu}_{2}} \\operatorname{pw}{\\left({\\mu}_{2},g_{2},g_{3} \\right)}\\end{matrix}\\right] \\right)}}{6} \\right)} = \\frac{\\partial}{\\partial {\\mu}_{0}} \\log{\\left(\\frac{\\sigma{\\left(- z + {\\mu}_{0},g_{2},g_{3} \\right)} \\sigma{\\left(- z + {\\mu}_{1},g_{2},g_{3} \\right)} \\sigma{\\left(- z + {\\mu}_{2},g_{2},g_{3} \\right)} \\sigma{\\left(- z - {\\mu}_{0} - {\\mu}_{1} - {\\mu}_{2},g_{2},g_{3} \\right)}}{\\sigma^{4}{\\left(z,g_{2},g_{3} \\right)} \\sigma{\\left(- {\\mu}_{0} - {\\mu}_{1} - {\\mu}_{2},g_{2},g_{3} \\right)} \\sigma{\\left({\\mu}_{0},g_{2},g_{3} \\right)} \\sigma{\\left({\\mu}_{1},g_{2},g_{3} \\right)} \\sigma{\\left({\\mu}_{2},g_{2},g_{3} \\right)}} \\right)}$"
      ],
      "text/plain": [
       "Eq(Derivative(log(Det(Matrix([\n",
       "[1, pw(mu[0], g2, g3), Derivative(pw(mu[0], g2, g3), mu[0]), Derivative(pw(mu[0], g2, g3), (mu[0], 2))],\n",
       "[1, pw(mu[1], g2, g3), Derivative(pw(mu[1], g2, g3), mu[1]), Derivative(pw(mu[1], g2, g3), (mu[1], 2))],\n",
       "[1, pw(mu[2], g2, g3), Derivative(pw(mu[2], g2, g3), mu[2]), Derivative(pw(mu[2], g2, g3), (mu[2], 2))],\n",
       "[1,     pw(z, g2, g3),         Derivative(pw(z, g2, g3), z),         Derivative(pw(z, g2, g3), (z, 2))]]))*Det(Matrix([\n",
       "[1, pw(mu[0], g2, g3), Derivative(pw(mu[0], g2, g3), mu[0])],\n",
       "[1, pw(mu[1], g2, g3), Derivative(pw(mu[1], g2, g3), mu[1])],\n",
       "[1, pw(mu[2], g2, g3), Derivative(pw(mu[2], g2, g3), mu[2])]]))**(-1)/6), mu[0]), Derivative(log(sigma(-z + mu[0], g2, g3)*sigma(-z + mu[1], g2, g3)*sigma(-z + mu[2], g2, g3)*sigma(-z - mu[0] - mu[1] - mu[2], g2, g3)/(sigma(z, g2, g3)**4*sigma(-mu[0] - mu[1] - mu[2], g2, g3)*sigma(mu[0], g2, g3)*sigma(mu[1], g2, g3)*sigma(mu[2], g2, g3))), mu[0]))"
      ]
     },
     "execution_count": 97,
     "metadata": {},
     "output_type": "execute_result"
    }
   ],
   "source": [
    "setup_n[\"log_diff_eqs\"][0]"
   ]
  },
  {
   "cell_type": "code",
   "execution_count": 99,
   "metadata": {},
   "outputs": [
    {
     "data": {
      "text/latex": [
       "$\\displaystyle \\frac{\\partial}{\\partial {\\mu}_{0}} \\log{\\left(\\frac{\\operatorname{Det}{\\left(\\left[\\begin{matrix}1 & \\operatorname{pw}{\\left({\\mu}_{0},g_{2},g_{3} \\right)} & \\frac{\\partial}{\\partial {\\mu}_{0}} \\operatorname{pw}{\\left({\\mu}_{0},g_{2},g_{3} \\right)} & \\frac{\\partial^{2}}{\\partial {\\mu}_{0}^{2}} \\operatorname{pw}{\\left({\\mu}_{0},g_{2},g_{3} \\right)}\\\\1 & \\operatorname{pw}{\\left({\\mu}_{1},g_{2},g_{3} \\right)} & \\frac{\\partial}{\\partial {\\mu}_{1}} \\operatorname{pw}{\\left({\\mu}_{1},g_{2},g_{3} \\right)} & \\frac{\\partial^{2}}{\\partial {\\mu}_{1}^{2}} \\operatorname{pw}{\\left({\\mu}_{1},g_{2},g_{3} \\right)}\\\\1 & \\operatorname{pw}{\\left({\\mu}_{2},g_{2},g_{3} \\right)} & \\frac{\\partial}{\\partial {\\mu}_{2}} \\operatorname{pw}{\\left({\\mu}_{2},g_{2},g_{3} \\right)} & \\frac{\\partial^{2}}{\\partial {\\mu}_{2}^{2}} \\operatorname{pw}{\\left({\\mu}_{2},g_{2},g_{3} \\right)}\\\\1 & \\operatorname{pw}{\\left(z,g_{2},g_{3} \\right)} & \\frac{\\partial}{\\partial z} \\operatorname{pw}{\\left(z,g_{2},g_{3} \\right)} & \\frac{\\partial^{2}}{\\partial z^{2}} \\operatorname{pw}{\\left(z,g_{2},g_{3} \\right)}\\end{matrix}\\right] \\right)} \\operatorname{Det}^{-1}{\\left(\\left[\\begin{matrix}1 & \\operatorname{pw}{\\left({\\mu}_{0},g_{2},g_{3} \\right)} & \\frac{\\partial}{\\partial {\\mu}_{0}} \\operatorname{pw}{\\left({\\mu}_{0},g_{2},g_{3} \\right)}\\\\1 & \\operatorname{pw}{\\left({\\mu}_{1},g_{2},g_{3} \\right)} & \\frac{\\partial}{\\partial {\\mu}_{1}} \\operatorname{pw}{\\left({\\mu}_{1},g_{2},g_{3} \\right)}\\\\1 & \\operatorname{pw}{\\left({\\mu}_{2},g_{2},g_{3} \\right)} & \\frac{\\partial}{\\partial {\\mu}_{2}} \\operatorname{pw}{\\left({\\mu}_{2},g_{2},g_{3} \\right)}\\end{matrix}\\right] \\right)}}{6} \\right)} = \\frac{\\partial}{\\partial {\\mu}_{0}} \\log{\\left(\\rho{\\left(z,- {\\mu}_{0} - {\\mu}_{1} - {\\mu}_{2} \\right)} \\rho{\\left(z,{\\mu}_{0} \\right)} \\rho{\\left(z,{\\mu}_{1} \\right)} \\rho{\\left(z,{\\mu}_{2} \\right)} \\right)}$"
      ],
      "text/plain": [
       "Eq(Derivative(log(Det(Matrix([\n",
       "[1, pw(mu[0], g2, g3), Derivative(pw(mu[0], g2, g3), mu[0]), Derivative(pw(mu[0], g2, g3), (mu[0], 2))],\n",
       "[1, pw(mu[1], g2, g3), Derivative(pw(mu[1], g2, g3), mu[1]), Derivative(pw(mu[1], g2, g3), (mu[1], 2))],\n",
       "[1, pw(mu[2], g2, g3), Derivative(pw(mu[2], g2, g3), mu[2]), Derivative(pw(mu[2], g2, g3), (mu[2], 2))],\n",
       "[1,     pw(z, g2, g3),         Derivative(pw(z, g2, g3), z),         Derivative(pw(z, g2, g3), (z, 2))]]))*Det(Matrix([\n",
       "[1, pw(mu[0], g2, g3), Derivative(pw(mu[0], g2, g3), mu[0])],\n",
       "[1, pw(mu[1], g2, g3), Derivative(pw(mu[1], g2, g3), mu[1])],\n",
       "[1, pw(mu[2], g2, g3), Derivative(pw(mu[2], g2, g3), mu[2])]]))**(-1)/6), mu[0]), Derivative(log(rho(z, -mu[0] - mu[1] - mu[2])*rho(z, mu[0])*rho(z, mu[1])*rho(z, mu[2])), mu[0]))"
      ]
     },
     "execution_count": 99,
     "metadata": {},
     "output_type": "execute_result"
    }
   ],
   "source": [
    "setup_n[\"log_diff_eqs\"][0].subs(setup_n[\"sigma_U_subs\"])"
   ]
  },
  {
   "cell_type": "code",
   "execution_count": null,
   "metadata": {},
   "outputs": [],
   "source": [
    "# mu_0_example_a = Eq(\n",
    "#     setup_n[\"log_diff_eqs\"][0].subs(sigma_U_subs).lhs, \n",
    "#     setup_n[\"log_diff_eqs\"][0].subs(sigma_U_subs).rhs.doit().expand()\n",
    "# )\n",
    "# mu_0_example_a"
   ]
  },
  {
   "cell_type": "code",
   "execution_count": null,
   "metadata": {},
   "outputs": [],
   "source": [
    "# Eq(Derivative(log(fs3uz.lhs), mu[0]), \n",
    "#    Derivative(log(Det(p_matrix_f_s_1dz(3))), mu[0]) - Derivative(log(Det(p_matrix_f_s(2))), mu[0])\n",
    "#   )"
   ]
  },
  {
   "cell_type": "code",
   "execution_count": null,
   "metadata": {},
   "outputs": [],
   "source": [
    "# Eq(Derivative(log(fs3uz.lhs), mu[0]), \n",
    "#    Derivative(Det(p_matrix_f_s_1dz(3)), mu[0])/Det(p_matrix_f_s_1dz(3)) - \n",
    "#    Derivative(Det(p_matrix_f_s(2)), mu[0])/Det(p_matrix_f_s(2))\n",
    "#   )"
   ]
  },
  {
   "cell_type": "code",
   "execution_count": null,
   "metadata": {},
   "outputs": [],
   "source": [
    "# mu_0_example_b = Eq(Derivative(log(fs3uz.lhs), mu[0]), \n",
    "#    Det(p_matrix_f_s_1dz_diff(3, 0))/Det(p_matrix_f_s_1dz(3)) - Det(p_matrix_f_s_diff(2, 0))/Det(p_matrix_f_s(2))\n",
    "#   )\n",
    "# mu_0_example_b"
   ]
  },
  {
   "cell_type": "code",
   "execution_count": null,
   "metadata": {
    "scrolled": true
   },
   "outputs": [],
   "source": [
    "# mu_0_example_a.subs(*mu_0_example_b.args)"
   ]
  },
  {
   "cell_type": "markdown",
   "metadata": {},
   "source": [
    "### General case for $\\mu_i$\n",
    "\n",
    "The function $\\Phi$ is a function of $z, \\mu_i$, it is used here to denote the FS determinant and thus it can be expressed in terms of derivatives of Weierstrass P or as products of Weierstrass Sigma functions."
   ]
  },
  {
   "cell_type": "code",
   "execution_count": 100,
   "metadata": {
    "scrolled": true
   },
   "outputs": [
    {
     "data": {
      "text/latex": [
       "$\\displaystyle \\Phi{\\left({\\mu}_{0},{\\mu}_{1},{\\mu}_{2},z \\right)} = \\frac{\\operatorname{Det}{\\left(\\left[\\begin{matrix}1 & \\operatorname{pw}{\\left({\\mu}_{0},g_{2},g_{3} \\right)} & \\frac{\\partial}{\\partial {\\mu}_{0}} \\operatorname{pw}{\\left({\\mu}_{0},g_{2},g_{3} \\right)} & \\frac{\\partial^{2}}{\\partial {\\mu}_{0}^{2}} \\operatorname{pw}{\\left({\\mu}_{0},g_{2},g_{3} \\right)}\\\\1 & \\operatorname{pw}{\\left({\\mu}_{1},g_{2},g_{3} \\right)} & \\frac{\\partial}{\\partial {\\mu}_{1}} \\operatorname{pw}{\\left({\\mu}_{1},g_{2},g_{3} \\right)} & \\frac{\\partial^{2}}{\\partial {\\mu}_{1}^{2}} \\operatorname{pw}{\\left({\\mu}_{1},g_{2},g_{3} \\right)}\\\\1 & \\operatorname{pw}{\\left({\\mu}_{2},g_{2},g_{3} \\right)} & \\frac{\\partial}{\\partial {\\mu}_{2}} \\operatorname{pw}{\\left({\\mu}_{2},g_{2},g_{3} \\right)} & \\frac{\\partial^{2}}{\\partial {\\mu}_{2}^{2}} \\operatorname{pw}{\\left({\\mu}_{2},g_{2},g_{3} \\right)}\\\\1 & \\operatorname{pw}{\\left(z,g_{2},g_{3} \\right)} & \\frac{\\partial}{\\partial z} \\operatorname{pw}{\\left(z,g_{2},g_{3} \\right)} & \\frac{\\partial^{2}}{\\partial z^{2}} \\operatorname{pw}{\\left(z,g_{2},g_{3} \\right)}\\end{matrix}\\right] \\right)} \\operatorname{Det}^{-1}{\\left(\\left[\\begin{matrix}1 & \\operatorname{pw}{\\left({\\mu}_{0},g_{2},g_{3} \\right)} & \\frac{\\partial}{\\partial {\\mu}_{0}} \\operatorname{pw}{\\left({\\mu}_{0},g_{2},g_{3} \\right)}\\\\1 & \\operatorname{pw}{\\left({\\mu}_{1},g_{2},g_{3} \\right)} & \\frac{\\partial}{\\partial {\\mu}_{1}} \\operatorname{pw}{\\left({\\mu}_{1},g_{2},g_{3} \\right)}\\\\1 & \\operatorname{pw}{\\left({\\mu}_{2},g_{2},g_{3} \\right)} & \\frac{\\partial}{\\partial {\\mu}_{2}} \\operatorname{pw}{\\left({\\mu}_{2},g_{2},g_{3} \\right)}\\end{matrix}\\right] \\right)}}{6}$"
      ],
      "text/plain": [
       "Eq(Phi(mu[0], mu[1], mu[2], z), Det(Matrix([\n",
       "[1, pw(mu[0], g2, g3), Derivative(pw(mu[0], g2, g3), mu[0]), Derivative(pw(mu[0], g2, g3), (mu[0], 2))],\n",
       "[1, pw(mu[1], g2, g3), Derivative(pw(mu[1], g2, g3), mu[1]), Derivative(pw(mu[1], g2, g3), (mu[1], 2))],\n",
       "[1, pw(mu[2], g2, g3), Derivative(pw(mu[2], g2, g3), mu[2]), Derivative(pw(mu[2], g2, g3), (mu[2], 2))],\n",
       "[1,     pw(z, g2, g3),         Derivative(pw(z, g2, g3), z),         Derivative(pw(z, g2, g3), (z, 2))]]))*Det(Matrix([\n",
       "[1, pw(mu[0], g2, g3), Derivative(pw(mu[0], g2, g3), mu[0])],\n",
       "[1, pw(mu[1], g2, g3), Derivative(pw(mu[1], g2, g3), mu[1])],\n",
       "[1, pw(mu[2], g2, g3), Derivative(pw(mu[2], g2, g3), mu[2])]]))**(-1)/6)"
      ]
     },
     "execution_count": 100,
     "metadata": {},
     "output_type": "execute_result"
    }
   ],
   "source": [
    "setup_n[\"Phi_diff_eq\"]"
   ]
  },
  {
   "cell_type": "code",
   "execution_count": 101,
   "metadata": {},
   "outputs": [
    {
     "data": {
      "text/latex": [
       "$\\displaystyle \\log{\\left(\\Phi{\\left({\\mu}_{0},{\\mu}_{1},{\\mu}_{2},z \\right)} \\right)} = \\log{\\left(\\rho{\\left(z,- {\\mu}_{0} - {\\mu}_{1} - {\\mu}_{2} \\right)} \\rho{\\left(z,{\\mu}_{0} \\right)} \\rho{\\left(z,{\\mu}_{1} \\right)} \\rho{\\left(z,{\\mu}_{2} \\right)} \\right)}$"
      ],
      "text/plain": [
       "Eq(log(Phi(mu[0], mu[1], mu[2], z)), log(rho(z, -mu[0] - mu[1] - mu[2])*rho(z, mu[0])*rho(z, mu[1])*rho(z, mu[2])))"
      ]
     },
     "execution_count": 101,
     "metadata": {},
     "output_type": "execute_result"
    }
   ],
   "source": [
    "setup_n[\"phi_rho_eq\"]"
   ]
  },
  {
   "cell_type": "code",
   "execution_count": 102,
   "metadata": {},
   "outputs": [
    {
     "data": {
      "text/latex": [
       "$\\displaystyle \\frac{\\frac{\\partial}{\\partial {\\mu}_{0}} \\Phi{\\left({\\mu}_{0},{\\mu}_{1},{\\mu}_{2},z \\right)}}{\\Phi{\\left({\\mu}_{0},{\\mu}_{1},{\\mu}_{2},z \\right)}} = \\frac{\\frac{\\partial}{\\partial {\\mu}_{0}} \\rho{\\left(z,{\\mu}_{0} \\right)}}{\\rho{\\left(z,{\\mu}_{0} \\right)}} - \\frac{\\left. \\frac{\\partial}{\\partial \\xi_{2}} \\rho{\\left(z,\\xi_{2} \\right)} \\right|_{\\substack{ \\xi_{2}=- {\\mu}_{0} - {\\mu}_{1} - {\\mu}_{2} }}}{\\rho{\\left(z,- {\\mu}_{0} - {\\mu}_{1} - {\\mu}_{2} \\right)}}$"
      ],
      "text/plain": [
       "Eq(Derivative(Phi(mu[0], mu[1], mu[2], z), mu[0])/Phi(mu[0], mu[1], mu[2], z), Derivative(rho(z, mu[0]), mu[0])/rho(z, mu[0]) - Subs(Derivative(rho(z, _xi_2), _xi_2), _xi_2, -mu[0] - mu[1] - mu[2])/rho(z, -mu[0] - mu[1] - mu[2]))"
      ]
     },
     "execution_count": 102,
     "metadata": {},
     "output_type": "execute_result"
    },
    {
     "data": {
      "text/latex": [
       "$\\displaystyle \\frac{\\frac{\\partial}{\\partial {\\mu}_{1}} \\Phi{\\left({\\mu}_{0},{\\mu}_{1},{\\mu}_{2},z \\right)}}{\\Phi{\\left({\\mu}_{0},{\\mu}_{1},{\\mu}_{2},z \\right)}} = \\frac{\\frac{\\partial}{\\partial {\\mu}_{1}} \\rho{\\left(z,{\\mu}_{1} \\right)}}{\\rho{\\left(z,{\\mu}_{1} \\right)}} - \\frac{\\left. \\frac{\\partial}{\\partial \\xi_{2}} \\rho{\\left(z,\\xi_{2} \\right)} \\right|_{\\substack{ \\xi_{2}=- {\\mu}_{0} - {\\mu}_{1} - {\\mu}_{2} }}}{\\rho{\\left(z,- {\\mu}_{0} - {\\mu}_{1} - {\\mu}_{2} \\right)}}$"
      ],
      "text/plain": [
       "Eq(Derivative(Phi(mu[0], mu[1], mu[2], z), mu[1])/Phi(mu[0], mu[1], mu[2], z), Derivative(rho(z, mu[1]), mu[1])/rho(z, mu[1]) - Subs(Derivative(rho(z, _xi_2), _xi_2), _xi_2, -mu[0] - mu[1] - mu[2])/rho(z, -mu[0] - mu[1] - mu[2]))"
      ]
     },
     "execution_count": 102,
     "metadata": {},
     "output_type": "execute_result"
    },
    {
     "data": {
      "text/latex": [
       "$\\displaystyle \\frac{\\frac{\\partial}{\\partial {\\mu}_{2}} \\Phi{\\left({\\mu}_{0},{\\mu}_{1},{\\mu}_{2},z \\right)}}{\\Phi{\\left({\\mu}_{0},{\\mu}_{1},{\\mu}_{2},z \\right)}} = \\frac{\\frac{\\partial}{\\partial {\\mu}_{2}} \\rho{\\left(z,{\\mu}_{2} \\right)}}{\\rho{\\left(z,{\\mu}_{2} \\right)}} - \\frac{\\left. \\frac{\\partial}{\\partial \\xi_{2}} \\rho{\\left(z,\\xi_{2} \\right)} \\right|_{\\substack{ \\xi_{2}=- {\\mu}_{0} - {\\mu}_{1} - {\\mu}_{2} }}}{\\rho{\\left(z,- {\\mu}_{0} - {\\mu}_{1} - {\\mu}_{2} \\right)}}$"
      ],
      "text/plain": [
       "Eq(Derivative(Phi(mu[0], mu[1], mu[2], z), mu[2])/Phi(mu[0], mu[1], mu[2], z), Derivative(rho(z, mu[2]), mu[2])/rho(z, mu[2]) - Subs(Derivative(rho(z, _xi_2), _xi_2), _xi_2, -mu[0] - mu[1] - mu[2])/rho(z, -mu[0] - mu[1] - mu[2]))"
      ]
     },
     "execution_count": 102,
     "metadata": {},
     "output_type": "execute_result"
    },
    {
     "data": {
      "text/latex": [
       "$\\displaystyle \\frac{\\frac{\\partial}{\\partial z} \\Phi{\\left({\\mu}_{0},{\\mu}_{1},{\\mu}_{2},z \\right)}}{\\Phi{\\left({\\mu}_{0},{\\mu}_{1},{\\mu}_{2},z \\right)}} = \\frac{\\frac{\\partial}{\\partial z} \\rho{\\left(z,{\\mu}_{2} \\right)}}{\\rho{\\left(z,{\\mu}_{2} \\right)}} + \\frac{\\frac{\\partial}{\\partial z} \\rho{\\left(z,{\\mu}_{1} \\right)}}{\\rho{\\left(z,{\\mu}_{1} \\right)}} + \\frac{\\frac{\\partial}{\\partial z} \\rho{\\left(z,{\\mu}_{0} \\right)}}{\\rho{\\left(z,{\\mu}_{0} \\right)}} + \\frac{\\frac{\\partial}{\\partial z} \\rho{\\left(z,- {\\mu}_{0} - {\\mu}_{1} - {\\mu}_{2} \\right)}}{\\rho{\\left(z,- {\\mu}_{0} - {\\mu}_{1} - {\\mu}_{2} \\right)}}$"
      ],
      "text/plain": [
       "Eq(Derivative(Phi(mu[0], mu[1], mu[2], z), z)/Phi(mu[0], mu[1], mu[2], z), Derivative(rho(z, mu[2]), z)/rho(z, mu[2]) + Derivative(rho(z, mu[1]), z)/rho(z, mu[1]) + Derivative(rho(z, mu[0]), z)/rho(z, mu[0]) + Derivative(rho(z, -mu[0] - mu[1] - mu[2]), z)/rho(z, -mu[0] - mu[1] - mu[2]))"
      ]
     },
     "execution_count": 102,
     "metadata": {},
     "output_type": "execute_result"
    }
   ],
   "source": [
    "for i in range(4):\n",
    "    setup_n[\"phi_rho_system\"][i]"
   ]
  },
  {
   "cell_type": "code",
   "execution_count": 103,
   "metadata": {},
   "outputs": [],
   "source": [
    "# setup_n[\"phi_rho_system_explicit\"][0]"
   ]
  },
  {
   "cell_type": "code",
   "execution_count": 104,
   "metadata": {},
   "outputs": [],
   "source": [
    "# setup_n[\"phi_rho_system_explicit\"][1]"
   ]
  },
  {
   "cell_type": "code",
   "execution_count": 105,
   "metadata": {},
   "outputs": [],
   "source": [
    "# setup_n[\"phi_rho_system_explicit\"][2]"
   ]
  },
  {
   "cell_type": "markdown",
   "metadata": {},
   "source": [
    "### Differentiating the FS determinant w.r.t $z$"
   ]
  },
  {
   "cell_type": "code",
   "execution_count": 106,
   "metadata": {},
   "outputs": [],
   "source": [
    "# Eq(Derivative(log(fs3uz.lhs), z), Derivative(log(fs3uz.rhs).subs(sigma_U_subs), z).doit().expand())"
   ]
  },
  {
   "cell_type": "code",
   "execution_count": 107,
   "metadata": {
    "scrolled": true
   },
   "outputs": [],
   "source": [
    "# Eq(Derivative(Det(p_matrix_f_s_1dz(3)), z)/Det(p_matrix_f_s_1dz(3)),\n",
    "#    Derivative(log(fs3uz.rhs).subs(sigma_U_subs), z).doit().expand())"
   ]
  },
  {
   "cell_type": "code",
   "execution_count": 108,
   "metadata": {
    "scrolled": true
   },
   "outputs": [],
   "source": [
    "# Eq(Det(p_matrix_f_s_1dz_diff(3,3))/Det(p_matrix_f_s_1dz(3)),\n",
    "#    Derivative(log(fs3uz.rhs).subs(sigma_U_subs), z).doit().expand())"
   ]
  },
  {
   "cell_type": "markdown",
   "metadata": {},
   "source": [
    "### Relating differentiation w.r.t $\\mu_i$ to differentiation w.r.t $z$\n",
    "\n",
    "Now that separate equations have been derived by differentiating w.r.t to each of the variables, the derivatives w.r.t to the variables other than $z$ can be expressed as derivatives w.r.t. $z$ thus making a system of ordinary differential equations."
   ]
  },
  {
   "cell_type": "code",
   "execution_count": 109,
   "metadata": {},
   "outputs": [
    {
     "data": {
      "text/latex": [
       "$\\displaystyle \\frac{\\frac{\\partial}{\\partial {\\mu}_{0}} \\Phi{\\left({\\mu}_{0},{\\mu}_{1},{\\mu}_{2},z \\right)}}{\\Phi{\\left({\\mu}_{0},{\\mu}_{1},{\\mu}_{2},z \\right)}} = \\operatorname{zw}{\\left(- {\\mu}_{0} - {\\mu}_{1} - {\\mu}_{2},g_{2},g_{3} \\right)} - \\operatorname{zw}{\\left({\\mu}_{0},g_{2},g_{3} \\right)} - \\frac{\\frac{\\partial}{\\partial z} \\rho{\\left(z,{\\mu}_{0} \\right)}}{\\rho{\\left(z,{\\mu}_{0} \\right)}} + \\frac{\\frac{\\partial}{\\partial z} \\rho{\\left(z,- {\\mu}_{0} - {\\mu}_{1} - {\\mu}_{2} \\right)}}{\\rho{\\left(z,- {\\mu}_{0} - {\\mu}_{1} - {\\mu}_{2} \\right)}}$"
      ],
      "text/plain": [
       "Eq(Derivative(Phi(mu[0], mu[1], mu[2], z), mu[0])/Phi(mu[0], mu[1], mu[2], z), zw(-mu[0] - mu[1] - mu[2], g2, g3) - zw(mu[0], g2, g3) - Derivative(rho(z, mu[0]), z)/rho(z, mu[0]) + Derivative(rho(z, -mu[0] - mu[1] - mu[2]), z)/rho(z, -mu[0] - mu[1] - mu[2]))"
      ]
     },
     "execution_count": 109,
     "metadata": {},
     "output_type": "execute_result"
    },
    {
     "data": {
      "text/latex": [
       "$\\displaystyle \\frac{\\frac{\\partial}{\\partial {\\mu}_{1}} \\Phi{\\left({\\mu}_{0},{\\mu}_{1},{\\mu}_{2},z \\right)}}{\\Phi{\\left({\\mu}_{0},{\\mu}_{1},{\\mu}_{2},z \\right)}} = \\operatorname{zw}{\\left(- {\\mu}_{0} - {\\mu}_{1} - {\\mu}_{2},g_{2},g_{3} \\right)} - \\operatorname{zw}{\\left({\\mu}_{1},g_{2},g_{3} \\right)} - \\frac{\\frac{\\partial}{\\partial z} \\rho{\\left(z,{\\mu}_{1} \\right)}}{\\rho{\\left(z,{\\mu}_{1} \\right)}} + \\frac{\\frac{\\partial}{\\partial z} \\rho{\\left(z,- {\\mu}_{0} - {\\mu}_{1} - {\\mu}_{2} \\right)}}{\\rho{\\left(z,- {\\mu}_{0} - {\\mu}_{1} - {\\mu}_{2} \\right)}}$"
      ],
      "text/plain": [
       "Eq(Derivative(Phi(mu[0], mu[1], mu[2], z), mu[1])/Phi(mu[0], mu[1], mu[2], z), zw(-mu[0] - mu[1] - mu[2], g2, g3) - zw(mu[1], g2, g3) - Derivative(rho(z, mu[1]), z)/rho(z, mu[1]) + Derivative(rho(z, -mu[0] - mu[1] - mu[2]), z)/rho(z, -mu[0] - mu[1] - mu[2]))"
      ]
     },
     "execution_count": 109,
     "metadata": {},
     "output_type": "execute_result"
    },
    {
     "data": {
      "text/latex": [
       "$\\displaystyle \\frac{\\frac{\\partial}{\\partial {\\mu}_{2}} \\Phi{\\left({\\mu}_{0},{\\mu}_{1},{\\mu}_{2},z \\right)}}{\\Phi{\\left({\\mu}_{0},{\\mu}_{1},{\\mu}_{2},z \\right)}} = \\operatorname{zw}{\\left(- {\\mu}_{0} - {\\mu}_{1} - {\\mu}_{2},g_{2},g_{3} \\right)} - \\operatorname{zw}{\\left({\\mu}_{2},g_{2},g_{3} \\right)} - \\frac{\\frac{\\partial}{\\partial z} \\rho{\\left(z,{\\mu}_{2} \\right)}}{\\rho{\\left(z,{\\mu}_{2} \\right)}} + \\frac{\\frac{\\partial}{\\partial z} \\rho{\\left(z,- {\\mu}_{0} - {\\mu}_{1} - {\\mu}_{2} \\right)}}{\\rho{\\left(z,- {\\mu}_{0} - {\\mu}_{1} - {\\mu}_{2} \\right)}}$"
      ],
      "text/plain": [
       "Eq(Derivative(Phi(mu[0], mu[1], mu[2], z), mu[2])/Phi(mu[0], mu[1], mu[2], z), zw(-mu[0] - mu[1] - mu[2], g2, g3) - zw(mu[2], g2, g3) - Derivative(rho(z, mu[2]), z)/rho(z, mu[2]) + Derivative(rho(z, -mu[0] - mu[1] - mu[2]), z)/rho(z, -mu[0] - mu[1] - mu[2]))"
      ]
     },
     "execution_count": 109,
     "metadata": {},
     "output_type": "execute_result"
    },
    {
     "data": {
      "text/latex": [
       "$\\displaystyle \\frac{\\frac{\\partial}{\\partial z} \\Phi{\\left({\\mu}_{0},{\\mu}_{1},{\\mu}_{2},z \\right)}}{\\Phi{\\left({\\mu}_{0},{\\mu}_{1},{\\mu}_{2},z \\right)}} = \\frac{\\frac{\\partial}{\\partial z} \\rho{\\left(z,{\\mu}_{2} \\right)}}{\\rho{\\left(z,{\\mu}_{2} \\right)}} + \\frac{\\frac{\\partial}{\\partial z} \\rho{\\left(z,{\\mu}_{1} \\right)}}{\\rho{\\left(z,{\\mu}_{1} \\right)}} + \\frac{\\frac{\\partial}{\\partial z} \\rho{\\left(z,{\\mu}_{0} \\right)}}{\\rho{\\left(z,{\\mu}_{0} \\right)}} + \\frac{\\frac{\\partial}{\\partial z} \\rho{\\left(z,- {\\mu}_{0} - {\\mu}_{1} - {\\mu}_{2} \\right)}}{\\rho{\\left(z,- {\\mu}_{0} - {\\mu}_{1} - {\\mu}_{2} \\right)}}$"
      ],
      "text/plain": [
       "Eq(Derivative(Phi(mu[0], mu[1], mu[2], z), z)/Phi(mu[0], mu[1], mu[2], z), Derivative(rho(z, mu[2]), z)/rho(z, mu[2]) + Derivative(rho(z, mu[1]), z)/rho(z, mu[1]) + Derivative(rho(z, mu[0]), z)/rho(z, mu[0]) + Derivative(rho(z, -mu[0] - mu[1] - mu[2]), z)/rho(z, -mu[0] - mu[1] - mu[2]))"
      ]
     },
     "execution_count": 109,
     "metadata": {},
     "output_type": "execute_result"
    }
   ],
   "source": [
    "for eq in setup_n[\"phi_rho_system_z_diffs\"]:\n",
    "    eq"
   ]
  },
  {
   "cell_type": "markdown",
   "metadata": {},
   "source": [
    "### Matrix formalism\n",
    "\n",
    "The system of ordinary diffrential equations in the $z$ variable can then be put into matrix form where it is observed that the matrix coupling logarithmic derivatives of $\\rho$ w.r.t $z$ has a very special form that is easily inverted. This pattern scales to higher dimensions."
   ]
  },
  {
   "cell_type": "code",
   "execution_count": 110,
   "metadata": {},
   "outputs": [],
   "source": [
    "def n_coupling_matrix(Nval, zero_last_row=False):\n",
    "    def ij_val(i, j, Nval):\n",
    "        if (i == j):\n",
    "            if zero_last_row & (i == Nval):\n",
    "                return 0\n",
    "            else:\n",
    "                return 1\n",
    "        elif i == Nval:\n",
    "            return -1\n",
    "        elif j == Nval:\n",
    "            if zero_last_row:\n",
    "                return 0\n",
    "            else:\n",
    "                return 1\n",
    "        else:\n",
    "            return 0\n",
    "    return Matrix([ [ij_val(i, j, Nval) for i in range(Nval + 1)] for j in range(Nval + 1) ])\n",
    "\n",
    "def inv_n_coupling_matrix(Nval):\n",
    "    def ij_val(i, j, Nval):\n",
    "        if (i == j) & (i != Nval):\n",
    "            return Nval\n",
    "        elif i == Nval:\n",
    "            return 1\n",
    "        else:\n",
    "            return -1\n",
    "    return Matrix([ [ij_val(i, j, Nval) for i in range(Nval + 1)] for j in range(Nval + 1) ]) / (Nval + 1)\n",
    "\n",
    "# n_coupling_matrix(8)*inv_n_coupling_matrix(8)\n",
    "\n",
    "def matrix_formalism_rho_phi(Nval):\n",
    "    setup_n = constraints_and_subs(Nval)\n",
    "    return Eq(Matrix([eq.lhs for eq in setup_n[\"phi_rho_system_z_diffs\"]]),\n",
    "       -n_coupling_matrix(Nval) * \n",
    "       Matrix([*[diff(log(rho(z,mu[_i])),z) for _i in range(Nval)], \n",
    "               diff(log(rho(z,-sum([mu[_i] for _i in range(Nval)]))),z)]) -\n",
    "       n_coupling_matrix(Nval, zero_last_row=True) * \n",
    "       Matrix([*[zw(mu[_i], g2, g3) for _i in range(Nval)], zw(-sum([mu[_i] for _i in range(Nval)]), g2, g3)])\n",
    "      )\n",
    "\n",
    "def matrix_formalism_solved_for_rho(Nval):\n",
    "    return Eq(\n",
    "        inv_n_coupling_matrix(Nval) * matrix_formalism_rho_phi(Nval).lhs, \n",
    "        inv_n_coupling_matrix(Nval) * matrix_formalism_rho_phi(Nval).rhs\n",
    "    )"
   ]
  },
  {
   "cell_type": "code",
   "execution_count": 111,
   "metadata": {
    "scrolled": true
   },
   "outputs": [
    {
     "data": {
      "text/latex": [
       "$\\displaystyle \\left[\\begin{matrix}\\frac{\\frac{\\partial}{\\partial z} \\Phi{\\left({\\mu}_{0},{\\mu}_{1},z \\right)}}{3 \\Phi{\\left({\\mu}_{0},{\\mu}_{1},z \\right)}} + \\frac{2 \\frac{\\partial}{\\partial {\\mu}_{0}} \\Phi{\\left({\\mu}_{0},{\\mu}_{1},z \\right)}}{3 \\Phi{\\left({\\mu}_{0},{\\mu}_{1},z \\right)}} - \\frac{\\frac{\\partial}{\\partial {\\mu}_{1}} \\Phi{\\left({\\mu}_{0},{\\mu}_{1},z \\right)}}{3 \\Phi{\\left({\\mu}_{0},{\\mu}_{1},z \\right)}}\\\\\\frac{\\frac{\\partial}{\\partial z} \\Phi{\\left({\\mu}_{0},{\\mu}_{1},z \\right)}}{3 \\Phi{\\left({\\mu}_{0},{\\mu}_{1},z \\right)}} - \\frac{\\frac{\\partial}{\\partial {\\mu}_{0}} \\Phi{\\left({\\mu}_{0},{\\mu}_{1},z \\right)}}{3 \\Phi{\\left({\\mu}_{0},{\\mu}_{1},z \\right)}} + \\frac{2 \\frac{\\partial}{\\partial {\\mu}_{1}} \\Phi{\\left({\\mu}_{0},{\\mu}_{1},z \\right)}}{3 \\Phi{\\left({\\mu}_{0},{\\mu}_{1},z \\right)}}\\\\\\frac{\\frac{\\partial}{\\partial z} \\Phi{\\left({\\mu}_{0},{\\mu}_{1},z \\right)}}{3 \\Phi{\\left({\\mu}_{0},{\\mu}_{1},z \\right)}} - \\frac{\\frac{\\partial}{\\partial {\\mu}_{0}} \\Phi{\\left({\\mu}_{0},{\\mu}_{1},z \\right)}}{3 \\Phi{\\left({\\mu}_{0},{\\mu}_{1},z \\right)}} - \\frac{\\frac{\\partial}{\\partial {\\mu}_{1}} \\Phi{\\left({\\mu}_{0},{\\mu}_{1},z \\right)}}{3 \\Phi{\\left({\\mu}_{0},{\\mu}_{1},z \\right)}}\\end{matrix}\\right] = \\left[\\begin{matrix}\\frac{\\operatorname{zw}{\\left(- {\\mu}_{0} - {\\mu}_{1},g_{2},g_{3} \\right)}}{3} - \\frac{2 \\operatorname{zw}{\\left({\\mu}_{0},g_{2},g_{3} \\right)}}{3} + \\frac{\\operatorname{zw}{\\left({\\mu}_{1},g_{2},g_{3} \\right)}}{3} - \\frac{\\frac{\\partial}{\\partial z} \\rho{\\left(z,{\\mu}_{0} \\right)}}{\\rho{\\left(z,{\\mu}_{0} \\right)}}\\\\\\frac{\\operatorname{zw}{\\left(- {\\mu}_{0} - {\\mu}_{1},g_{2},g_{3} \\right)}}{3} + \\frac{\\operatorname{zw}{\\left({\\mu}_{0},g_{2},g_{3} \\right)}}{3} - \\frac{2 \\operatorname{zw}{\\left({\\mu}_{1},g_{2},g_{3} \\right)}}{3} - \\frac{\\frac{\\partial}{\\partial z} \\rho{\\left(z,{\\mu}_{1} \\right)}}{\\rho{\\left(z,{\\mu}_{1} \\right)}}\\\\- \\frac{2 \\operatorname{zw}{\\left(- {\\mu}_{0} - {\\mu}_{1},g_{2},g_{3} \\right)}}{3} + \\frac{\\operatorname{zw}{\\left({\\mu}_{0},g_{2},g_{3} \\right)}}{3} + \\frac{\\operatorname{zw}{\\left({\\mu}_{1},g_{2},g_{3} \\right)}}{3} - \\frac{\\frac{\\partial}{\\partial z} \\rho{\\left(z,- {\\mu}_{0} - {\\mu}_{1} \\right)}}{\\rho{\\left(z,- {\\mu}_{0} - {\\mu}_{1} \\right)}}\\end{matrix}\\right]$"
      ],
      "text/plain": [
       "Eq(Matrix([\n",
       "[Derivative(Phi(mu[0], mu[1], z), z)/(3*Phi(mu[0], mu[1], z)) + 2*Derivative(Phi(mu[0], mu[1], z), mu[0])/(3*Phi(mu[0], mu[1], z)) - Derivative(Phi(mu[0], mu[1], z), mu[1])/(3*Phi(mu[0], mu[1], z))],\n",
       "[Derivative(Phi(mu[0], mu[1], z), z)/(3*Phi(mu[0], mu[1], z)) - Derivative(Phi(mu[0], mu[1], z), mu[0])/(3*Phi(mu[0], mu[1], z)) + 2*Derivative(Phi(mu[0], mu[1], z), mu[1])/(3*Phi(mu[0], mu[1], z))],\n",
       "[  Derivative(Phi(mu[0], mu[1], z), z)/(3*Phi(mu[0], mu[1], z)) - Derivative(Phi(mu[0], mu[1], z), mu[0])/(3*Phi(mu[0], mu[1], z)) - Derivative(Phi(mu[0], mu[1], z), mu[1])/(3*Phi(mu[0], mu[1], z))]]), Matrix([\n",
       "[                   zw(-mu[0] - mu[1], g2, g3)/3 - 2*zw(mu[0], g2, g3)/3 + zw(mu[1], g2, g3)/3 - Derivative(rho(z, mu[0]), z)/rho(z, mu[0])],\n",
       "[                   zw(-mu[0] - mu[1], g2, g3)/3 + zw(mu[0], g2, g3)/3 - 2*zw(mu[1], g2, g3)/3 - Derivative(rho(z, mu[1]), z)/rho(z, mu[1])],\n",
       "[-2*zw(-mu[0] - mu[1], g2, g3)/3 + zw(mu[0], g2, g3)/3 + zw(mu[1], g2, g3)/3 - Derivative(rho(z, -mu[0] - mu[1]), z)/rho(z, -mu[0] - mu[1])]]))"
      ]
     },
     "execution_count": 111,
     "metadata": {},
     "output_type": "execute_result"
    }
   ],
   "source": [
    "matrix_formalism_solved_for_rho(2)"
   ]
  },
  {
   "cell_type": "markdown",
   "metadata": {},
   "source": [
    "At this point it has been shown that a system of coupled ordinary differential equations relates the mode functions $\\rho(z,\\mu_i)$ to logarithmic derivatives of the determinant of derivatives of Weierstrass P functions. These determinants can be Laplace expanded in derivatives of Weierstrass P w.r.t $z$. The plan then is to substitute derivatives of Weierstrass P w.r.t $z$ for polynomials in $\\rho(z,\\mu_i)$ and their conjugates $\\rho(z,-\\mu_i)$ (sometimes but not always complex conjugates) to obtain the coupled mode system for $\\rho(z,\\mu_i)$. Hopefully these will be easily recognisable as the coupled mode systems of Nonlinear optics at least for the quadratic and cubic nonlinearity cases."
   ]
  },
  {
   "cell_type": "code",
   "execution_count": 115,
   "metadata": {},
   "outputs": [],
   "source": [
    "setup_2 = constraints_and_subs(2)"
   ]
  },
  {
   "cell_type": "code",
   "execution_count": 116,
   "metadata": {},
   "outputs": [
    {
     "data": {
      "text/latex": [
       "$\\displaystyle \\Phi{\\left({\\mu}_{0},{\\mu}_{1},z \\right)} = - \\frac{\\operatorname{Det}{\\left(\\left[\\begin{matrix}1 & \\operatorname{pw}{\\left({\\mu}_{0},g_{2},g_{3} \\right)} & \\frac{\\partial}{\\partial {\\mu}_{0}} \\operatorname{pw}{\\left({\\mu}_{0},g_{2},g_{3} \\right)}\\\\1 & \\operatorname{pw}{\\left({\\mu}_{1},g_{2},g_{3} \\right)} & \\frac{\\partial}{\\partial {\\mu}_{1}} \\operatorname{pw}{\\left({\\mu}_{1},g_{2},g_{3} \\right)}\\\\1 & \\operatorname{pw}{\\left(z,g_{2},g_{3} \\right)} & \\frac{\\partial}{\\partial z} \\operatorname{pw}{\\left(z,g_{2},g_{3} \\right)}\\end{matrix}\\right] \\right)} \\operatorname{Det}^{-1}{\\left(\\left[\\begin{matrix}1 & \\operatorname{pw}{\\left({\\mu}_{0},g_{2},g_{3} \\right)}\\\\1 & \\operatorname{pw}{\\left({\\mu}_{1},g_{2},g_{3} \\right)}\\end{matrix}\\right] \\right)}}{2}$"
      ],
      "text/plain": [
       "Eq(Phi(mu[0], mu[1], z), -Det(Matrix([\n",
       "[1, pw(mu[0], g2, g3), Derivative(pw(mu[0], g2, g3), mu[0])],\n",
       "[1, pw(mu[1], g2, g3), Derivative(pw(mu[1], g2, g3), mu[1])],\n",
       "[1,     pw(z, g2, g3),         Derivative(pw(z, g2, g3), z)]]))*Det(Matrix([\n",
       "[1, pw(mu[0], g2, g3)],\n",
       "[1, pw(mu[1], g2, g3)]]))**(-1)/2)"
      ]
     },
     "execution_count": 116,
     "metadata": {},
     "output_type": "execute_result"
    }
   ],
   "source": [
    "setup_2[\"Phi_diff_eq\"]"
   ]
  },
  {
   "cell_type": "code",
   "execution_count": 144,
   "metadata": {},
   "outputs": [
    {
     "data": {
      "text/latex": [
       "$\\displaystyle 0$"
      ],
      "text/plain": [
       "0"
      ]
     },
     "execution_count": 144,
     "metadata": {},
     "output_type": "execute_result"
    }
   ],
   "source": [
    "(frob_stick_1dz_ratio(2,evaluated=True).lhs - laplace_expansion_phi(2, evaluated=True)).simplify()"
   ]
  },
  {
   "cell_type": "code",
   "execution_count": 123,
   "metadata": {},
   "outputs": [
    {
     "data": {
      "text/latex": [
       "$\\displaystyle - \\frac{\\operatorname{Det}{\\left(\\left[\\begin{matrix}1 & \\operatorname{pw}{\\left({\\mu}_{0},g_{2},g_{3} \\right)} & \\frac{\\partial}{\\partial {\\mu}_{0}} \\operatorname{pw}{\\left({\\mu}_{0},g_{2},g_{3} \\right)}\\\\1 & \\operatorname{pw}{\\left({\\mu}_{1},g_{2},g_{3} \\right)} & \\frac{\\partial}{\\partial {\\mu}_{1}} \\operatorname{pw}{\\left({\\mu}_{1},g_{2},g_{3} \\right)}\\\\1 & \\operatorname{pw}{\\left(z,g_{2},g_{3} \\right)} & \\frac{\\partial}{\\partial z} \\operatorname{pw}{\\left(z,g_{2},g_{3} \\right)}\\end{matrix}\\right] \\right)} \\operatorname{Det}^{-1}{\\left(\\left[\\begin{matrix}1 & \\operatorname{pw}{\\left({\\mu}_{0},g_{2},g_{3} \\right)}\\\\1 & \\operatorname{pw}{\\left({\\mu}_{1},g_{2},g_{3} \\right)}\\end{matrix}\\right] \\right)}}{2}$"
      ],
      "text/plain": [
       "-Det(Matrix([\n",
       "[1, pw(mu[0], g2, g3), Derivative(pw(mu[0], g2, g3), mu[0])],\n",
       "[1, pw(mu[1], g2, g3), Derivative(pw(mu[1], g2, g3), mu[1])],\n",
       "[1,     pw(z, g2, g3),         Derivative(pw(z, g2, g3), z)]]))*Det(Matrix([\n",
       "[1, pw(mu[0], g2, g3)],\n",
       "[1, pw(mu[1], g2, g3)]]))**(-1)/2"
      ]
     },
     "execution_count": 123,
     "metadata": {},
     "output_type": "execute_result"
    }
   ],
   "source": [
    "-Det(p_matrix_f_s_1dz(2))/Det(p_matrix_f_s(1))/2"
   ]
  },
  {
   "cell_type": "code",
   "execution_count": 151,
   "metadata": {
    "scrolled": true
   },
   "outputs": [
    {
     "data": {
      "text/latex": [
       "$\\displaystyle - \\frac{\\frac{d}{d z} f{\\left(z \\right)}}{f^{2}{\\left(z \\right)}}$"
      ],
      "text/plain": [
       "-Derivative(f(z), z)/f(z)**2"
      ]
     },
     "execution_count": 151,
     "metadata": {},
     "output_type": "execute_result"
    }
   ],
   "source": [
    "diff(1/f(z),z)"
   ]
  },
  {
   "cell_type": "code",
   "execution_count": 155,
   "metadata": {},
   "outputs": [
    {
     "data": {
      "text/latex": [
       "$\\displaystyle \\operatorname{Det}{\\left(\\left[\\begin{matrix}0 & \\frac{\\partial}{\\partial {\\mu}_{0}} \\operatorname{pw}{\\left({\\mu}_{0},g_{2},g_{3} \\right)} & \\frac{\\partial^{2}}{\\partial {\\mu}_{0}^{2}} \\operatorname{pw}{\\left({\\mu}_{0},g_{2},g_{3} \\right)}\\\\1 & \\operatorname{pw}{\\left({\\mu}_{1},g_{2},g_{3} \\right)} & \\frac{\\partial}{\\partial {\\mu}_{1}} \\operatorname{pw}{\\left({\\mu}_{1},g_{2},g_{3} \\right)}\\\\1 & \\operatorname{pw}{\\left(z,g_{2},g_{3} \\right)} & \\frac{\\partial}{\\partial z} \\operatorname{pw}{\\left(z,g_{2},g_{3} \\right)}\\end{matrix}\\right] \\right)} \\operatorname{Det}^{-1}{\\left(\\left[\\begin{matrix}1 & \\operatorname{pw}{\\left({\\mu}_{0},g_{2},g_{3} \\right)}\\\\1 & \\operatorname{pw}{\\left({\\mu}_{1},g_{2},g_{3} \\right)}\\end{matrix}\\right] \\right)} - \\operatorname{Det}{\\left(\\left[\\begin{matrix}1 & \\operatorname{pw}{\\left({\\mu}_{0},g_{2},g_{3} \\right)} & \\frac{\\partial}{\\partial {\\mu}_{0}} \\operatorname{pw}{\\left({\\mu}_{0},g_{2},g_{3} \\right)}\\\\1 & \\operatorname{pw}{\\left({\\mu}_{1},g_{2},g_{3} \\right)} & \\frac{\\partial}{\\partial {\\mu}_{1}} \\operatorname{pw}{\\left({\\mu}_{1},g_{2},g_{3} \\right)}\\\\1 & \\operatorname{pw}{\\left(z,g_{2},g_{3} \\right)} & \\frac{\\partial}{\\partial z} \\operatorname{pw}{\\left(z,g_{2},g_{3} \\right)}\\end{matrix}\\right] \\right)} \\operatorname{Det}{\\left(\\left[\\begin{matrix}0 & \\frac{\\partial}{\\partial {\\mu}_{0}} \\operatorname{pw}{\\left({\\mu}_{0},g_{2},g_{3} \\right)}\\\\1 & \\operatorname{pw}{\\left({\\mu}_{1},g_{2},g_{3} \\right)}\\end{matrix}\\right] \\right)} \\operatorname{Det}^{-2}{\\left(\\left[\\begin{matrix}1 & \\operatorname{pw}{\\left({\\mu}_{0},g_{2},g_{3} \\right)}\\\\1 & \\operatorname{pw}{\\left({\\mu}_{1},g_{2},g_{3} \\right)}\\end{matrix}\\right] \\right)}$"
      ],
      "text/plain": [
       "Det(Matrix([\n",
       "[0, Derivative(pw(mu[0], g2, g3), mu[0]), Derivative(pw(mu[0], g2, g3), (mu[0], 2))],\n",
       "[1,                    pw(mu[1], g2, g3),      Derivative(pw(mu[1], g2, g3), mu[1])],\n",
       "[1,                        pw(z, g2, g3),              Derivative(pw(z, g2, g3), z)]]))*Det(Matrix([\n",
       "[1, pw(mu[0], g2, g3)],\n",
       "[1, pw(mu[1], g2, g3)]]))**(-1) - Det(Matrix([\n",
       "[1, pw(mu[0], g2, g3), Derivative(pw(mu[0], g2, g3), mu[0])],\n",
       "[1, pw(mu[1], g2, g3), Derivative(pw(mu[1], g2, g3), mu[1])],\n",
       "[1,     pw(z, g2, g3),         Derivative(pw(z, g2, g3), z)]]))*Det(Matrix([\n",
       "[0, Derivative(pw(mu[0], g2, g3), mu[0])],\n",
       "[1,                    pw(mu[1], g2, g3)]]))*Det(Matrix([\n",
       "[1, pw(mu[0], g2, g3)],\n",
       "[1, pw(mu[1], g2, g3)]]))**(-2)"
      ]
     },
     "execution_count": 155,
     "metadata": {},
     "output_type": "execute_result"
    }
   ],
   "source": [
    "(Det(p_matrix_f_s_1dz_diff(2,0))/Det(p_matrix_f_s(1)) - \n",
    " Det(p_matrix_f_s_1dz(2))*Det(p_matrix_f_s_diff(1,0))/Det(p_matrix_f_s(1))**2)"
   ]
  },
  {
   "cell_type": "code",
   "execution_count": 138,
   "metadata": {},
   "outputs": [],
   "source": [
    "def laplace_expansion_phi(Nval, evaluated=False):\n",
    "    if evaluated:\n",
    "        return -laplace_expansion(Nval, evaluated=True)/p_matrix_f_s(Nval - 1).det()/Nval\n",
    "    else:\n",
    "        return -laplace_expansion(Nval, evaluated=False)/Det(p_matrix_f_s(Nval - 1))/Nval"
   ]
  },
  {
   "cell_type": "code",
   "execution_count": null,
   "metadata": {},
   "outputs": [],
   "source": [
    "all_vars_higher_order_diffs = [\n",
    "    (hd[0].subs(z,v), hd[1].subs(z,v)) for hd in higher_order_diffs for v in [mu[0], mu[1], mu[2], z]\n",
    "]"
   ]
  },
  {
   "cell_type": "code",
   "execution_count": null,
   "metadata": {},
   "outputs": [],
   "source": [
    "frob_stick_1dz_ratio(2, evaluated=True).subs(all_vars_higher_order_diffs)"
   ]
  },
  {
   "cell_type": "code",
   "execution_count": null,
   "metadata": {},
   "outputs": [],
   "source": [
    "_x1 = (2*frob_stick_1dz_ratio(2, evaluated=True)\n",
    " .subs(all_vars_higher_order_diffs).lhs.diff(mu[0])\n",
    " .subs(all_vars_higher_order_diffs)\n",
    " +\n",
    " frob_stick_1dz_ratio(2, evaluated=True)\n",
    " .subs(all_vars_higher_order_diffs).lhs.diff(z)\n",
    " .subs(all_vars_higher_order_diffs)\n",
    " -\n",
    " frob_stick_1dz_ratio(2, evaluated=True)\n",
    " .subs(all_vars_higher_order_diffs).lhs.diff(mu[1])\n",
    " .subs(all_vars_higher_order_diffs)\n",
    ").simplify().expand().collect([pw(z,g2,g3),diff(pw(z,g2,g3),z)],factor).subs([\n",
    "    (diff(pw(mu[0],g2,g3),mu[0]), pwp(mu[0],g2,g3)), (diff(pw(mu[1],g2,g3),mu[1]), pwp(mu[1],g2,g3))\n",
    "])\n",
    "_x1"
   ]
  },
  {
   "cell_type": "code",
   "execution_count": null,
   "metadata": {},
   "outputs": [],
   "source": [
    "pw_to_zw_identity = Eq(\n",
    "    (pwp(x,g2,g3) - pwp(y,g2,g3))/(pw(x,g2,g3) - pw(y,g2,g3))/2,\n",
    "    zw(x + y,g2, g3) - zw(x,g2, g3) - zw(y,g2, g3)\n",
    ")\n",
    "pw_to_zw_identity"
   ]
  },
  {
   "cell_type": "code",
   "execution_count": null,
   "metadata": {},
   "outputs": [],
   "source": [
    "wp_add_id = Eq(pw(x+y, g2, g3),\n",
    "               (((pwp(x,g2,g3) - pwp(y,g2,g3))/(pw(x,g2,g3) - pw(y,g2,g3)))**2)/4 - pw(x, g2, g3) - pw(y, g2, g3))\n",
    "wp_add_id"
   ]
  },
  {
   "cell_type": "code",
   "execution_count": null,
   "metadata": {},
   "outputs": [],
   "source": [
    "eq__ = (\n",
    "    wp_add_id\n",
    "    .subs([(x,mu[0]),(y,mu[1])]).expand()\n",
    "    .subs(pwp(mu[0],g2,g3)**2,4*pw(mu[0],g2,g3)**3 - g2*pw(mu[0],g2,g3) - g3)\n",
    "    .subs(pwp(mu[1],g2,g3)**2,4*pw(mu[1],g2,g3)**3 - g2*pw(mu[1],g2,g3) - g3)\n",
    ")\n",
    "_x2 = Eq(pwp(mu[1],g2,g3), solve(eq__.lhs - eq__.rhs,pwp(mu[1],g2,g3))[0])\n",
    "_x2   \n",
    "   "
   ]
  },
  {
   "cell_type": "code",
   "execution_count": null,
   "metadata": {},
   "outputs": [],
   "source": [
    "_x1.args[0].subs(*_x2.args)"
   ]
  },
  {
   "cell_type": "code",
   "execution_count": null,
   "metadata": {},
   "outputs": [],
   "source": [
    "num_1, den_2 = fraction((_x1.args[1]\n",
    " .subs(*_x2.args)\n",
    " .subs(pwp(mu[0],g2,g3)**2,4*pw(mu[0],g2,g3)**3 - g2*pw(mu[0],g2,g3) - g3)\n",
    " .subs(pwp(mu[1],g2,g3)**2,4*pw(mu[1],g2,g3)**3 - g2*pw(mu[1],g2,g3) - g3)\n",
    ").factor())"
   ]
  },
  {
   "cell_type": "code",
   "execution_count": null,
   "metadata": {},
   "outputs": [],
   "source": [
    "num_1.collect([g2,g3],factor)"
   ]
  },
  {
   "cell_type": "code",
   "execution_count": null,
   "metadata": {},
   "outputs": [],
   "source": [
    "_x1.args[2]"
   ]
  },
  {
   "cell_type": "code",
   "execution_count": null,
   "metadata": {},
   "outputs": [],
   "source": [
    "num_2, den_2 = fraction((_x1.args[3]\n",
    " .subs(*_x2.args)\n",
    " .subs(pwp(mu[0],g2,g3)**2,4*pw(mu[0],g2,g3)**3 - g2*pw(mu[0],g2,g3) - g3)\n",
    " .subs(pwp(mu[1],g2,g3)**2,4*pw(mu[1],g2,g3)**3 - g2*pw(mu[1],g2,g3) - g3)\n",
    ").factor())"
   ]
  },
  {
   "cell_type": "code",
   "execution_count": null,
   "metadata": {},
   "outputs": [],
   "source": [
    "num_2.collect([g2,g3],factor)"
   ]
  },
  {
   "cell_type": "code",
   "execution_count": null,
   "metadata": {},
   "outputs": [],
   "source": [
    "laplace_expansion(2, evaluated=False)"
   ]
  },
  {
   "cell_type": "markdown",
   "metadata": {},
   "source": [
    "## The General expression for the logarithmic derivative of $\\rho$"
   ]
  },
  {
   "cell_type": "code",
   "execution_count": 219,
   "metadata": {},
   "outputs": [
    {
     "data": {
      "text/latex": [
       "$\\displaystyle \\rho{\\left(z,x \\right)} = \\frac{\\sigma{\\left(x - z,g_{2},g_{3} \\right)}}{\\sigma{\\left(x,g_{2},g_{3} \\right)} \\sigma{\\left(z,g_{2},g_{3} \\right)}}$"
      ],
      "text/plain": [
       "Eq(rho(z, x), sigma(x - z, g2, g3)/(sigma(x, g2, g3)*sigma(z, g2, g3)))"
      ]
     },
     "execution_count": 219,
     "metadata": {},
     "output_type": "execute_result"
    }
   ],
   "source": [
    "rho_def_zx = Eq(rho(x,y), sigma(-x+y,g2,g3)/sigma(x,g2,g3)/sigma(y,g2,g3)).subs(x,z).subs(y,x)\n",
    "rho_def_zx"
   ]
  },
  {
   "cell_type": "code",
   "execution_count": 221,
   "metadata": {},
   "outputs": [
    {
     "data": {
      "text/latex": [
       "$\\displaystyle \\log{\\left(\\rho{\\left(z,x \\right)} \\right)} = \\frac{\\log{\\left(\\frac{\\rho{\\left(z,x \\right)}}{\\rho{\\left(z,- x \\right)}} \\right)}}{2} + \\frac{\\log{\\left(\\rho{\\left(z,- x \\right)} \\rho{\\left(z,x \\right)} \\right)}}{2}$"
      ],
      "text/plain": [
       "Eq(log(rho(z, x)), log(rho(z, x)/rho(z, -x))/2 + log(rho(z, -x)*rho(z, x))/2)"
      ]
     },
     "execution_count": 221,
     "metadata": {},
     "output_type": "execute_result"
    }
   ],
   "source": [
    "Eq(log(rho(z,x)), log(rho(z,x)*rho(z,-x))/2 + log(rho(z,x)/rho(z,-x))/2)"
   ]
  },
  {
   "cell_type": "code",
   "execution_count": 161,
   "metadata": {},
   "outputs": [
    {
     "data": {
      "text/latex": [
       "$\\displaystyle \\frac{\\operatorname{pwp}{\\left(x,g_{2},g_{3} \\right)} - \\operatorname{pwp}{\\left(y,g_{2},g_{3} \\right)}}{2 \\left(\\operatorname{pw}{\\left(x,g_{2},g_{3} \\right)} - \\operatorname{pw}{\\left(y,g_{2},g_{3} \\right)}\\right)} = - \\operatorname{zw}{\\left(x,g_{2},g_{3} \\right)} - \\operatorname{zw}{\\left(y,g_{2},g_{3} \\right)} + \\operatorname{zw}{\\left(x + y,g_{2},g_{3} \\right)}$"
      ],
      "text/plain": [
       "Eq((pwp(x, g2, g3) - pwp(y, g2, g3))/(2*(pw(x, g2, g3) - pw(y, g2, g3))), -zw(x, g2, g3) - zw(y, g2, g3) + zw(x + y, g2, g3))"
      ]
     },
     "execution_count": 161,
     "metadata": {},
     "output_type": "execute_result"
    }
   ],
   "source": [
    "pw_to_zw_identity = Eq(\n",
    "    (pwp(x,g2,g3) - pwp(y,g2,g3))/(pw(x,g2,g3) - pw(y,g2,g3))/2,\n",
    "    zw(x + y,g2, g3) - zw(x,g2, g3) - zw(y,g2, g3)\n",
    ")\n",
    "pw_to_zw_identity"
   ]
  },
  {
   "cell_type": "code",
   "execution_count": 222,
   "metadata": {},
   "outputs": [
    {
     "data": {
      "text/latex": [
       "$\\displaystyle \\operatorname{zw}{\\left(z,g_{2},g_{3} \\right)} = \\frac{\\frac{\\partial}{\\partial z} \\sigma{\\left(z,g_{2},g_{3} \\right)}}{\\sigma{\\left(z,g_{2},g_{3} \\right)}}$"
      ],
      "text/plain": [
       "Eq(zw(z, g2, g3), Derivative(sigma(z, g2, g3), z)/sigma(z, g2, g3))"
      ]
     },
     "execution_count": 222,
     "metadata": {},
     "output_type": "execute_result"
    }
   ],
   "source": [
    "zeta_eq = Eq(diff(integral_zeta_log_sigma.lhs,z), diff(integral_zeta_log_sigma.rhs,z))\n",
    "zeta_eq"
   ]
  },
  {
   "cell_type": "code",
   "execution_count": 223,
   "metadata": {},
   "outputs": [
    {
     "data": {
      "text/latex": [
       "$\\displaystyle \\frac{\\partial}{\\partial z} \\log{\\left(\\frac{\\sigma{\\left(x + z,g_{2},g_{3} \\right)}}{\\sigma{\\left(x,g_{2},g_{3} \\right)} \\sigma{\\left(z,g_{2},g_{3} \\right)}} \\right)} = \\frac{\\left. \\frac{\\partial}{\\partial \\xi_{1}} \\sigma{\\left(\\xi_{1},g_{2},g_{3} \\right)} \\right|_{\\substack{ \\xi_{1}=x + z }}}{\\sigma{\\left(x + z,g_{2},g_{3} \\right)}} - \\frac{\\frac{\\partial}{\\partial z} \\sigma{\\left(z,g_{2},g_{3} \\right)}}{\\sigma{\\left(z,g_{2},g_{3} \\right)}}$"
      ],
      "text/plain": [
       "Eq(Derivative(log(sigma(x + z, g2, g3)/(sigma(x, g2, g3)*sigma(z, g2, g3))), z), Subs(Derivative(sigma(_xi_1, g2, g3), _xi_1), _xi_1, x + z)/sigma(x + z, g2, g3) - Derivative(sigma(z, g2, g3), z)/sigma(z, g2, g3))"
      ]
     },
     "execution_count": 223,
     "metadata": {},
     "output_type": "execute_result"
    }
   ],
   "source": [
    "log_rho_diff = Eq(Derivative(log(sigma(z + x,g2,g3)/sigma(z,g2,g3)/sigma(x,g2,g3)),z), \n",
    "   diff(log(sigma(z + x,g2,g3)/sigma(z,g2,g3)/sigma(x,g2,g3)),z).expand()\n",
    "  )\n",
    "log_rho_diff"
   ]
  },
  {
   "cell_type": "code",
   "execution_count": 224,
   "metadata": {},
   "outputs": [
    {
     "data": {
      "text/latex": [
       "$\\displaystyle \\operatorname{zw}{\\left(x + z,g_{2},g_{3} \\right)} = \\frac{\\left. \\frac{\\partial}{\\partial \\xi_{1}} \\sigma{\\left(\\xi_{1},g_{2},g_{3} \\right)} \\right|_{\\substack{ \\xi_{1}=x + z }}}{\\sigma{\\left(x + z,g_{2},g_{3} \\right)}}$"
      ],
      "text/plain": [
       "Eq(zw(x + z, g2, g3), Subs(Derivative(sigma(z, g2, g3), z), z, x + z)/sigma(x + z, g2, g3))"
      ]
     },
     "execution_count": 224,
     "metadata": {},
     "output_type": "execute_result"
    }
   ],
   "source": [
    "zeta_eq.subs(z,z+x)"
   ]
  },
  {
   "cell_type": "code",
   "execution_count": 225,
   "metadata": {},
   "outputs": [
    {
     "data": {
      "text/latex": [
       "$\\displaystyle \\frac{\\partial}{\\partial z} \\log{\\left(\\frac{\\sigma{\\left(x + z,g_{2},g_{3} \\right)}}{\\sigma{\\left(x,g_{2},g_{3} \\right)} \\sigma{\\left(z,g_{2},g_{3} \\right)}} \\right)} = - \\operatorname{zw}{\\left(z,g_{2},g_{3} \\right)} + \\operatorname{zw}{\\left(x + z,g_{2},g_{3} \\right)}$"
      ],
      "text/plain": [
       "Eq(Derivative(log(sigma(x + z, g2, g3)/(sigma(x, g2, g3)*sigma(z, g2, g3))), z), -zw(z, g2, g3) + zw(x + z, g2, g3))"
      ]
     },
     "execution_count": 225,
     "metadata": {},
     "output_type": "execute_result"
    }
   ],
   "source": [
    "log_sig_ratio_zx = Eq(log_rho_diff.lhs, \n",
    "   log_rho_diff.rhs \n",
    "   + zeta_eq.subs(z,z+x).lhs - zeta_eq.subs(z,z+x).rhs\n",
    "   - zeta_eq.lhs + zeta_eq.rhs\n",
    "  )\n",
    "\n",
    "log_sig_ratio_zx"
   ]
  },
  {
   "cell_type": "code",
   "execution_count": 226,
   "metadata": {},
   "outputs": [
    {
     "data": {
      "text/latex": [
       "$\\displaystyle \\frac{\\operatorname{pwp}{\\left(x,g_{2},g_{3} \\right)} - \\operatorname{pwp}{\\left(z,g_{2},g_{3} \\right)}}{2 \\left(\\operatorname{pw}{\\left(x,g_{2},g_{3} \\right)} - \\operatorname{pw}{\\left(z,g_{2},g_{3} \\right)}\\right)} = - \\operatorname{zw}{\\left(x,g_{2},g_{3} \\right)} - \\operatorname{zw}{\\left(z,g_{2},g_{3} \\right)} + \\operatorname{zw}{\\left(x + z,g_{2},g_{3} \\right)}$"
      ],
      "text/plain": [
       "Eq((pwp(x, g2, g3) - pwp(z, g2, g3))/(2*(pw(x, g2, g3) - pw(z, g2, g3))), -zw(x, g2, g3) - zw(z, g2, g3) + zw(x + z, g2, g3))"
      ]
     },
     "execution_count": 226,
     "metadata": {},
     "output_type": "execute_result"
    }
   ],
   "source": [
    "pw_to_zw_identity.subs(y,z)"
   ]
  },
  {
   "cell_type": "code",
   "execution_count": 227,
   "metadata": {},
   "outputs": [
    {
     "data": {
      "text/latex": [
       "$\\displaystyle \\frac{\\partial}{\\partial z} \\log{\\left(\\frac{\\sigma{\\left(x + z,g_{2},g_{3} \\right)}}{\\sigma{\\left(x,g_{2},g_{3} \\right)} \\sigma{\\left(z,g_{2},g_{3} \\right)}} \\right)} = \\operatorname{zw}{\\left(x,g_{2},g_{3} \\right)} + \\frac{\\operatorname{pwp}{\\left(x,g_{2},g_{3} \\right)} - \\operatorname{pwp}{\\left(z,g_{2},g_{3} \\right)}}{2 \\left(\\operatorname{pw}{\\left(x,g_{2},g_{3} \\right)} - \\operatorname{pw}{\\left(z,g_{2},g_{3} \\right)}\\right)}$"
      ],
      "text/plain": [
       "Eq(Derivative(log(sigma(x + z, g2, g3)/(sigma(x, g2, g3)*sigma(z, g2, g3))), z), zw(x, g2, g3) + (pwp(x, g2, g3) - pwp(z, g2, g3))/(2*(pw(x, g2, g3) - pw(z, g2, g3))))"
      ]
     },
     "execution_count": 227,
     "metadata": {},
     "output_type": "execute_result"
    }
   ],
   "source": [
    "log_sig_ratio_zx_p_conj = Eq(log_sig_ratio_zx.lhs, \n",
    "   log_sig_ratio_zx.rhs + pw_to_zw_identity.subs(y,z).lhs - pw_to_zw_identity.subs(y,z).rhs\n",
    "  )\n",
    "log_sig_ratio_zx_p_conj"
   ]
  },
  {
   "cell_type": "code",
   "execution_count": 234,
   "metadata": {},
   "outputs": [
    {
     "data": {
      "text/latex": [
       "$\\displaystyle \\frac{\\partial}{\\partial z} \\log{\\left(\\frac{\\sigma{\\left(x - z,g_{2},g_{3} \\right)}}{\\sigma{\\left(x,g_{2},g_{3} \\right)} \\sigma{\\left(z,g_{2},g_{3} \\right)}} \\right)} = - \\operatorname{zw}{\\left(x,g_{2},g_{3} \\right)} + \\frac{- \\operatorname{pwp}{\\left(x,g_{2},g_{3} \\right)} - \\operatorname{pwp}{\\left(z,g_{2},g_{3} \\right)}}{2 \\left(\\operatorname{pw}{\\left(x,g_{2},g_{3} \\right)} - \\operatorname{pw}{\\left(z,g_{2},g_{3} \\right)}\\right)}$"
      ],
      "text/plain": [
       "Eq(Derivative(log(sigma(x - z, g2, g3)/(sigma(x, g2, g3)*sigma(z, g2, g3))), z), -zw(x, g2, g3) + (-pwp(x, g2, g3) - pwp(z, g2, g3))/(2*(pw(x, g2, g3) - pw(z, g2, g3))))"
      ]
     },
     "execution_count": 234,
     "metadata": {},
     "output_type": "execute_result"
    }
   ],
   "source": [
    "log_sig_ratio_zx_p = Eq(log_sig_ratio_zx.lhs, \n",
    "   log_sig_ratio_zx.rhs + pw_to_zw_identity.subs(y,z).lhs - pw_to_zw_identity.subs(y,z).rhs\n",
    "  ).subs(x,-x).subs([\n",
    "    (sigma(-x,g2,g3), -sigma(x,g2,g3)),\n",
    "    (zw(-x,g2,g3), -zw(x,g2,g3)),\n",
    "    (pwp(-x,g2,g3), -pwp(x,g2,g3)),\n",
    "    (pw(-x,g2,g3), pw(x,g2,g3))\n",
    "]).subs(sigma(-x+z,g2,g3), -sigma(x-z,g2,g3))\n",
    "log_sig_ratio_zx_p"
   ]
  },
  {
   "cell_type": "code",
   "execution_count": 254,
   "metadata": {},
   "outputs": [
    {
     "data": {
      "text/latex": [
       "$\\displaystyle \\frac{\\frac{\\partial}{\\partial z} \\rho{\\left(z,x \\right)}}{\\rho{\\left(z,x \\right)}} = - \\operatorname{zw}{\\left(x,g_{2},g_{3} \\right)} + \\frac{- \\operatorname{pwp}{\\left(x,g_{2},g_{3} \\right)} - \\operatorname{pwp}{\\left(z,g_{2},g_{3} \\right)}}{2 \\operatorname{pw}{\\left(x,g_{2},g_{3} \\right)} - 2 \\operatorname{pw}{\\left(z,g_{2},g_{3} \\right)}}$"
      ],
      "text/plain": [
       "Eq(Derivative(rho(z, x), z)/rho(z, x), -zw(x, g2, g3) + (-pwp(x, g2, g3) - pwp(z, g2, g3))/(2*pw(x, g2, g3) - 2*pw(z, g2, g3)))"
      ]
     },
     "execution_count": 254,
     "metadata": {},
     "output_type": "execute_result"
    }
   ],
   "source": [
    "log_rho_zx_p = log_sig_ratio_zx_p.subs(rho_def_zx.subs(y,z).rhs, rho_def_zx.subs(y,z).lhs).doit()\n",
    "log_rho_zx_p"
   ]
  },
  {
   "cell_type": "code",
   "execution_count": 246,
   "metadata": {},
   "outputs": [
    {
     "data": {
      "text/latex": [
       "$\\displaystyle \\frac{\\sigma{\\left(x - z,g_{2},g_{3} \\right)} \\sigma{\\left(x + z,g_{2},g_{3} \\right)}}{\\sigma^{2}{\\left(x,g_{2},g_{3} \\right)} \\sigma^{2}{\\left(z,g_{2},g_{3} \\right)}} = - \\operatorname{pw}{\\left(x,g_{2},g_{3} \\right)} + \\operatorname{pw}{\\left(z,g_{2},g_{3} \\right)}$"
      ],
      "text/plain": [
       "Eq(sigma(x - z, g2, g3)*sigma(x + z, g2, g3)/(sigma(x, g2, g3)**2*sigma(z, g2, g3)**2), -pw(x, g2, g3) + pw(z, g2, g3))"
      ]
     },
     "execution_count": 246,
     "metadata": {},
     "output_type": "execute_result"
    }
   ],
   "source": [
    "sigma_p_identity = Eq(\n",
    "    sigma(x + y, g2, g3) * sigma(x - y, g2, g3) / (sigma(x, g2, g3) ** 2 * sigma(y, g2, g3) ** 2) ,\n",
    "    pw(y, g2, g3) - pw(x, g2, g3),\n",
    ").subs(y,z)\n",
    "sigma_p_identity"
   ]
  },
  {
   "cell_type": "code",
   "execution_count": 247,
   "metadata": {},
   "outputs": [
    {
     "data": {
      "text/latex": [
       "$\\displaystyle \\rho{\\left(z,- x \\right)} \\rho{\\left(z,x \\right)} = \\frac{\\sigma{\\left(x - z,g_{2},g_{3} \\right)} \\sigma{\\left(x + z,g_{2},g_{3} \\right)}}{\\sigma^{2}{\\left(x,g_{2},g_{3} \\right)} \\sigma^{2}{\\left(z,g_{2},g_{3} \\right)}}$"
      ],
      "text/plain": [
       "Eq(rho(z, -x)*rho(z, x), sigma(x - z, g2, g3)*sigma(x + z, g2, g3)/(sigma(x, g2, g3)**2*sigma(z, g2, g3)**2))"
      ]
     },
     "execution_count": 247,
     "metadata": {},
     "output_type": "execute_result"
    }
   ],
   "source": [
    "sigma_p_rho = Eq(\n",
    "    rho_def_zx.lhs*(rho_def_zx.lhs.subs(x,-x)), \n",
    "    rho_def_zx.rhs*(rho_def_zx.rhs.subs(x,-x))\n",
    ").subs([\n",
    "    (sigma(-x,g2,g3), -sigma(x,g2,g3)),\n",
    "    (sigma(-x-z,g2,g3), -sigma(x+z,g2,g3))\n",
    "])\n",
    "sigma_p_rho"
   ]
  },
  {
   "cell_type": "code",
   "execution_count": 255,
   "metadata": {},
   "outputs": [
    {
     "data": {
      "text/latex": [
       "$\\displaystyle \\rho{\\left(z,- x \\right)} \\rho{\\left(z,x \\right)} = - \\operatorname{pw}{\\left(x,g_{2},g_{3} \\right)} + \\operatorname{pw}{\\left(z,g_{2},g_{3} \\right)}$"
      ],
      "text/plain": [
       "Eq(rho(z, -x)*rho(z, x), -pw(x, g2, g3) + pw(z, g2, g3))"
      ]
     },
     "execution_count": 255,
     "metadata": {},
     "output_type": "execute_result"
    }
   ],
   "source": [
    "rho_p_zx = sigma_p_rho.subs(*sigma_p_identity.args)\n",
    "rho_p_zx"
   ]
  },
  {
   "cell_type": "code",
   "execution_count": 261,
   "metadata": {},
   "outputs": [
    {
     "data": {
      "text/latex": [
       "$\\displaystyle \\frac{\\partial}{\\partial z} \\rho{\\left(z,x \\right)} = \\frac{\\operatorname{pwp}{\\left(x,g_{2},g_{3} \\right)}}{2 \\rho{\\left(z,- x \\right)}} + \\frac{\\operatorname{pwp}{\\left(z,g_{2},g_{3} \\right)}}{2 \\rho{\\left(z,- x \\right)}} - \\rho{\\left(z,x \\right)} \\operatorname{zw}{\\left(x,g_{2},g_{3} \\right)}$"
      ],
      "text/plain": [
       "Eq(Derivative(rho(z, x), z), pwp(x, g2, g3)/(2*rho(z, -x)) + pwp(z, g2, g3)/(2*rho(z, -x)) - rho(z, x)*zw(x, g2, g3))"
      ]
     },
     "execution_count": 261,
     "metadata": {},
     "output_type": "execute_result"
    }
   ],
   "source": [
    "rho_zx_p_prime = log_rho_zx_p.subs(-2*rho_p_zx.rhs, -2*rho_p_zx.lhs)\n",
    "rho_zx_p_prime = Eq(rho_zx_p_prime.lhs*rho(z,x), rho_zx_p_prime.rhs*rho(z,x)).expand()\n",
    "rho_zx_p_prime"
   ]
  },
  {
   "cell_type": "code",
   "execution_count": 266,
   "metadata": {
    "scrolled": true
   },
   "outputs": [
    {
     "data": {
      "text/latex": [
       "$\\displaystyle \\frac{\\sigma{\\left(- z + {\\mu}_{0},g_{2},g_{3} \\right)} \\sigma{\\left(- z + {\\mu}_{1},g_{2},g_{3} \\right)} \\sigma{\\left(- z - {\\mu}_{0} - {\\mu}_{1},g_{2},g_{3} \\right)}}{\\sigma^{3}{\\left(z,g_{2},g_{3} \\right)} \\sigma{\\left(- {\\mu}_{0} - {\\mu}_{1},g_{2},g_{3} \\right)} \\sigma{\\left({\\mu}_{0},g_{2},g_{3} \\right)} \\sigma{\\left({\\mu}_{1},g_{2},g_{3} \\right)}} = \\operatorname{pw}{\\left(z,g_{2},g_{3} \\right)} {c}_{1} + \\frac{\\partial}{\\partial z} \\operatorname{pw}{\\left(z,g_{2},g_{3} \\right)} {c}_{2} + {c}_{0}$"
      ],
      "text/plain": [
       "Eq(sigma(-z + mu[0], g2, g3)*sigma(-z + mu[1], g2, g3)*sigma(-z - mu[0] - mu[1], g2, g3)/(sigma(z, g2, g3)**3*sigma(-mu[0] - mu[1], g2, g3)*sigma(mu[0], g2, g3)*sigma(mu[1], g2, g3)), pw(z, g2, g3)*c[1] + Derivative(pw(z, g2, g3), z)*c[2] + c[0])"
      ]
     },
     "execution_count": 266,
     "metadata": {},
     "output_type": "execute_result"
    }
   ],
   "source": [
    "sigma_product_wp_c(2)"
   ]
  },
  {
   "cell_type": "code",
   "execution_count": 316,
   "metadata": {},
   "outputs": [],
   "source": [
    "def rho_product_p_prime(Nval, conjugate=False):\n",
    "    result = (sigma_product_wp_c(Nval - 1).subs([*[\n",
    "        (rho_def_zx.rhs.subs(x, mu[_i]), rho_def_zx.lhs.subs(x, mu[_i])) for _i in range(Nval - 1)\n",
    "    ], (\n",
    "        rho_def_zx.rhs.subs(x, -sum([mu[_i] for _i in range(Nval - 1)])).doit(), \n",
    "        rho_def_zx.lhs.subs(x, -sum([mu[_i] for _i in range(Nval - 1)])).doit()\n",
    "    )]).subs([(c[_i], f(_i, *[mu[_j] for _j in range(Nval - 1)])) for _i in range(Nval)])\n",
    "    .subs(diff(pw(z,g2,g3),z),pwp(z,g2,g3)))\n",
    "    if conjugate:\n",
    "        result = result.subs([(mu[_i], -mu[_i]) for _i in range(Nval)])\n",
    "    return result"
   ]
  },
  {
   "cell_type": "code",
   "execution_count": 317,
   "metadata": {},
   "outputs": [
    {
     "data": {
      "text/latex": [
       "$\\displaystyle \\rho{\\left(z,- {\\mu}_{0} - {\\mu}_{1} \\right)} \\rho{\\left(z,{\\mu}_{0} \\right)} \\rho{\\left(z,{\\mu}_{1} \\right)} = f{\\left(0,{\\mu}_{0},{\\mu}_{1} \\right)} + f{\\left(1,{\\mu}_{0},{\\mu}_{1} \\right)} \\operatorname{pw}{\\left(z,g_{2},g_{3} \\right)} + f{\\left(2,{\\mu}_{0},{\\mu}_{1} \\right)} \\operatorname{pwp}{\\left(z,g_{2},g_{3} \\right)}$"
      ],
      "text/plain": [
       "Eq(rho(z, -mu[0] - mu[1])*rho(z, mu[0])*rho(z, mu[1]), f(0, mu[0], mu[1]) + f(1, mu[0], mu[1])*pw(z, g2, g3) + f(2, mu[0], mu[1])*pwp(z, g2, g3))"
      ]
     },
     "execution_count": 317,
     "metadata": {},
     "output_type": "execute_result"
    }
   ],
   "source": [
    "rho_product_p_prime(3)"
   ]
  },
  {
   "cell_type": "code",
   "execution_count": 318,
   "metadata": {},
   "outputs": [
    {
     "data": {
      "text/latex": [
       "$\\displaystyle \\rho{\\left(z,{\\mu}_{0} + {\\mu}_{1} \\right)} \\rho{\\left(z,- {\\mu}_{0} \\right)} \\rho{\\left(z,- {\\mu}_{1} \\right)} = f{\\left(0,- {\\mu}_{0},- {\\mu}_{1} \\right)} + f{\\left(1,- {\\mu}_{0},- {\\mu}_{1} \\right)} \\operatorname{pw}{\\left(z,g_{2},g_{3} \\right)} + f{\\left(2,- {\\mu}_{0},- {\\mu}_{1} \\right)} \\operatorname{pwp}{\\left(z,g_{2},g_{3} \\right)}$"
      ],
      "text/plain": [
       "Eq(rho(z, mu[0] + mu[1])*rho(z, -mu[0])*rho(z, -mu[1]), f(0, -mu[0], -mu[1]) + f(1, -mu[0], -mu[1])*pw(z, g2, g3) + f(2, -mu[0], -mu[1])*pwp(z, g2, g3))"
      ]
     },
     "execution_count": 318,
     "metadata": {},
     "output_type": "execute_result"
    }
   ],
   "source": [
    "rho_product_p_prime(3, conjugate=True)"
   ]
  },
  {
   "cell_type": "code",
   "execution_count": 314,
   "metadata": {},
   "outputs": [
    {
     "data": {
      "text/latex": [
       "$\\displaystyle \\rho{\\left(x,x \\right)} = \\frac{\\sigma{\\left(0,g_{2},g_{3} \\right)}}{\\sigma^{2}{\\left(x,g_{2},g_{3} \\right)}}$"
      ],
      "text/plain": [
       "Eq(rho(x, x), sigma(0, g2, g3)/sigma(x, g2, g3)**2)"
      ]
     },
     "execution_count": 314,
     "metadata": {},
     "output_type": "execute_result"
    }
   ],
   "source": [
    "rho_def_zx.subs(z,x)"
   ]
  },
  {
   "cell_type": "code",
   "execution_count": 321,
   "metadata": {},
   "outputs": [
    {
     "data": {
      "text/latex": [
       "$\\displaystyle \\rho{\\left(- {\\mu}_{0},{\\mu}_{0} + {\\mu}_{1} \\right)} \\rho{\\left(- {\\mu}_{0},- {\\mu}_{0} \\right)} \\rho{\\left(- {\\mu}_{0},- {\\mu}_{1} \\right)} = f{\\left(0,- {\\mu}_{0},- {\\mu}_{1} \\right)} + f{\\left(1,- {\\mu}_{0},- {\\mu}_{1} \\right)} \\operatorname{pw}{\\left(- {\\mu}_{0},g_{2},g_{3} \\right)} + f{\\left(2,- {\\mu}_{0},- {\\mu}_{1} \\right)} \\operatorname{pwp}{\\left(- {\\mu}_{0},g_{2},g_{3} \\right)}$"
      ],
      "text/plain": [
       "Eq(rho(-mu[0], mu[0] + mu[1])*rho(-mu[0], -mu[0])*rho(-mu[0], -mu[1]), f(0, -mu[0], -mu[1]) + f(1, -mu[0], -mu[1])*pw(-mu[0], g2, g3) + f(2, -mu[0], -mu[1])*pwp(-mu[0], g2, g3))"
      ]
     },
     "execution_count": 321,
     "metadata": {},
     "output_type": "execute_result"
    }
   ],
   "source": [
    "rho_product_p_prime(3, conjugate=True).subs(z,-mu[0])"
   ]
  },
  {
   "cell_type": "code",
   "execution_count": 320,
   "metadata": {},
   "outputs": [
    {
     "data": {
      "text/latex": [
       "$\\displaystyle \\rho{\\left(z,x \\right)} = \\frac{\\sigma{\\left(x - z,g_{2},g_{3} \\right)}}{\\sigma{\\left(x,g_{2},g_{3} \\right)} \\sigma{\\left(z,g_{2},g_{3} \\right)}}$"
      ],
      "text/plain": [
       "Eq(rho(z, x), sigma(x - z, g2, g3)/(sigma(x, g2, g3)*sigma(z, g2, g3)))"
      ]
     },
     "execution_count": 320,
     "metadata": {},
     "output_type": "execute_result"
    }
   ],
   "source": [
    "rho_def_zx"
   ]
  },
  {
   "cell_type": "code",
   "execution_count": 322,
   "metadata": {},
   "outputs": [
    {
     "data": {
      "text/latex": [
       "$\\displaystyle f{\\left(0,- {\\mu}_{0},- {\\mu}_{1} \\right)} + f{\\left(1,- {\\mu}_{0},- {\\mu}_{1} \\right)} \\operatorname{pw}{\\left(- {\\mu}_{0},g_{2},g_{3} \\right)} + f{\\left(2,- {\\mu}_{0},- {\\mu}_{1} \\right)} \\operatorname{pwp}{\\left(- {\\mu}_{0},g_{2},g_{3} \\right)}$"
      ],
      "text/plain": [
       "f(0, -mu[0], -mu[1]) + f(1, -mu[0], -mu[1])*pw(-mu[0], g2, g3) + f(2, -mu[0], -mu[1])*pwp(-mu[0], g2, g3)"
      ]
     },
     "execution_count": 322,
     "metadata": {},
     "output_type": "execute_result"
    }
   ],
   "source": [
    "rho_product_p_prime(3, conjugate=True).subs(z,-mu[0]).rhs"
   ]
  },
  {
   "cell_type": "code",
   "execution_count": 329,
   "metadata": {},
   "outputs": [
    {
     "data": {
      "text/latex": [
       "$\\displaystyle \\rho{\\left(z,{\\mu}_{0} + {\\mu}_{1} \\right)} \\rho{\\left(z,- {\\mu}_{0} \\right)} \\rho{\\left(z,- {\\mu}_{1} \\right)} = f{\\left(1,- {\\mu}_{0},- {\\mu}_{1} \\right)} \\operatorname{pw}{\\left(z,g_{2},g_{3} \\right)} - f{\\left(1,- {\\mu}_{0},- {\\mu}_{1} \\right)} \\operatorname{pw}{\\left({\\mu}_{0},g_{2},g_{3} \\right)} + f{\\left(2,- {\\mu}_{0},- {\\mu}_{1} \\right)} \\operatorname{pwp}{\\left(z,g_{2},g_{3} \\right)} + f{\\left(2,- {\\mu}_{0},- {\\mu}_{1} \\right)} \\operatorname{pwp}{\\left({\\mu}_{0},g_{2},g_{3} \\right)}$"
      ],
      "text/plain": [
       "Eq(rho(z, mu[0] + mu[1])*rho(z, -mu[0])*rho(z, -mu[1]), f(1, -mu[0], -mu[1])*pw(z, g2, g3) - f(1, -mu[0], -mu[1])*pw(mu[0], g2, g3) + f(2, -mu[0], -mu[1])*pwp(z, g2, g3) + f(2, -mu[0], -mu[1])*pwp(mu[0], g2, g3))"
      ]
     },
     "execution_count": 329,
     "metadata": {},
     "output_type": "execute_result"
    }
   ],
   "source": [
    "xx = Eq(rho_product_p_prime(3, conjugate=True).lhs, \n",
    "   rho_product_p_prime(3, conjugate=True).rhs - rho_product_p_prime(3, conjugate=True).subs(z,-mu[0]).rhs\n",
    "  ).subs([\n",
    "    (pw(-mu[0], g2, g3), pw(mu[0], g2, g3)),\n",
    "    (pwp(-mu[0], g2, g3), -pwp(mu[0], g2, g3))\n",
    "])\n",
    "xx"
   ]
  },
  {
   "cell_type": "code",
   "execution_count": 350,
   "metadata": {},
   "outputs": [],
   "source": [
    "def rho_system(Nval):\n",
    "    all_vals = [*[mu[_i] for _i in range(Nval-1)], -sum([mu[_i] for _i in range(Nval-1)])]\n",
    "    return [   \n",
    "            rho_zx_p_prime.subs([\n",
    "                (x, v),\n",
    "                (\n",
    "                    pwp(z,g2,g3), \n",
    "                    solve(\n",
    "                        Eq(\n",
    "                            rho_product_p_prime(Nval, conjugate=True).lhs, \n",
    "                            rho_product_p_prime(Nval, conjugate=True).rhs - \n",
    "                            rho_product_p_prime(Nval, conjugate=True).subs(z,-v).rhs\n",
    "                        ).subs([\n",
    "                            (pw(-v, g2, g3), pw(v, g2, g3)),\n",
    "                            (pwp(-v, g2, g3), -pwp(v, g2, g3))\n",
    "                        ]), \n",
    "                        pwp(z,g2,g3)\n",
    "                    )[0]\n",
    "                ),\n",
    "                (pw(z,g2,g3), solve(rho_p_zx.subs(x, v), pw(z,g2,g3))[0]),\n",
    "            ]).expand()\n",
    "            for v in all_vals\n",
    "    ]\n",
    "        "
   ]
  },
  {
   "cell_type": "code",
   "execution_count": 354,
   "metadata": {},
   "outputs": [
    {
     "data": {
      "text/latex": [
       "$\\displaystyle \\frac{\\partial}{\\partial z} \\rho{\\left(z,{\\mu}_{0} \\right)} = - \\frac{f{\\left(1,- {\\mu}_{0},- {\\mu}_{1} \\right)} \\rho{\\left(z,{\\mu}_{0} \\right)}}{2 f{\\left(2,- {\\mu}_{0},- {\\mu}_{1} \\right)}} - \\rho{\\left(z,{\\mu}_{0} \\right)} \\operatorname{zw}{\\left({\\mu}_{0},g_{2},g_{3} \\right)} + \\frac{\\rho{\\left(z,{\\mu}_{0} + {\\mu}_{1} \\right)} \\rho{\\left(z,- {\\mu}_{1} \\right)}}{2 f{\\left(2,- {\\mu}_{0},- {\\mu}_{1} \\right)}}$"
      ],
      "text/plain": [
       "Eq(Derivative(rho(z, mu[0]), z), -f(1, -mu[0], -mu[1])*rho(z, mu[0])/(2*f(2, -mu[0], -mu[1])) - rho(z, mu[0])*zw(mu[0], g2, g3) + rho(z, mu[0] + mu[1])*rho(z, -mu[1])/(2*f(2, -mu[0], -mu[1])))"
      ]
     },
     "execution_count": 354,
     "metadata": {},
     "output_type": "execute_result"
    },
    {
     "data": {
      "text/latex": [
       "$\\displaystyle \\frac{\\partial}{\\partial z} \\rho{\\left(z,{\\mu}_{1} \\right)} = - \\frac{f{\\left(1,- {\\mu}_{0},- {\\mu}_{1} \\right)} \\rho{\\left(z,{\\mu}_{1} \\right)}}{2 f{\\left(2,- {\\mu}_{0},- {\\mu}_{1} \\right)}} - \\rho{\\left(z,{\\mu}_{1} \\right)} \\operatorname{zw}{\\left({\\mu}_{1},g_{2},g_{3} \\right)} + \\frac{\\rho{\\left(z,{\\mu}_{0} + {\\mu}_{1} \\right)} \\rho{\\left(z,- {\\mu}_{0} \\right)}}{2 f{\\left(2,- {\\mu}_{0},- {\\mu}_{1} \\right)}}$"
      ],
      "text/plain": [
       "Eq(Derivative(rho(z, mu[1]), z), -f(1, -mu[0], -mu[1])*rho(z, mu[1])/(2*f(2, -mu[0], -mu[1])) - rho(z, mu[1])*zw(mu[1], g2, g3) + rho(z, mu[0] + mu[1])*rho(z, -mu[0])/(2*f(2, -mu[0], -mu[1])))"
      ]
     },
     "execution_count": 354,
     "metadata": {},
     "output_type": "execute_result"
    },
    {
     "data": {
      "text/latex": [
       "$\\displaystyle \\frac{\\partial}{\\partial z} \\rho{\\left(z,- {\\mu}_{0} - {\\mu}_{1} \\right)} = - \\frac{f{\\left(1,- {\\mu}_{0},- {\\mu}_{1} \\right)} \\rho{\\left(z,- {\\mu}_{0} - {\\mu}_{1} \\right)}}{2 f{\\left(2,- {\\mu}_{0},- {\\mu}_{1} \\right)}} - \\rho{\\left(z,- {\\mu}_{0} - {\\mu}_{1} \\right)} \\operatorname{zw}{\\left(- {\\mu}_{0} - {\\mu}_{1},g_{2},g_{3} \\right)} + \\frac{\\rho{\\left(z,- {\\mu}_{0} \\right)} \\rho{\\left(z,- {\\mu}_{1} \\right)}}{2 f{\\left(2,- {\\mu}_{0},- {\\mu}_{1} \\right)}}$"
      ],
      "text/plain": [
       "Eq(Derivative(rho(z, -mu[0] - mu[1]), z), -f(1, -mu[0], -mu[1])*rho(z, -mu[0] - mu[1])/(2*f(2, -mu[0], -mu[1])) - rho(z, -mu[0] - mu[1])*zw(-mu[0] - mu[1], g2, g3) + rho(z, -mu[0])*rho(z, -mu[1])/(2*f(2, -mu[0], -mu[1])))"
      ]
     },
     "execution_count": 354,
     "metadata": {},
     "output_type": "execute_result"
    }
   ],
   "source": [
    "for eq in rho_system(3):\n",
    "    eq"
   ]
  },
  {
   "cell_type": "code",
   "execution_count": 356,
   "metadata": {},
   "outputs": [
    {
     "data": {
      "text/latex": [
       "$\\displaystyle \\frac{\\partial}{\\partial z} \\rho{\\left(z,{\\mu}_{0} \\right)} = - \\frac{f{\\left(1,- {\\mu}_{0},- {\\mu}_{1},- {\\mu}_{2} \\right)} \\rho{\\left(z,{\\mu}_{0} \\right)}}{2 f{\\left(2,- {\\mu}_{0},- {\\mu}_{1},- {\\mu}_{2} \\right)}} - \\rho{\\left(z,{\\mu}_{0} \\right)} \\operatorname{zw}{\\left({\\mu}_{0},g_{2},g_{3} \\right)} - \\frac{6 f{\\left(3,- {\\mu}_{0},- {\\mu}_{1},- {\\mu}_{2} \\right)} \\operatorname{pw}{\\left({\\mu}_{0},g_{2},g_{3} \\right)} \\rho{\\left(z,{\\mu}_{0} \\right)}}{f{\\left(2,- {\\mu}_{0},- {\\mu}_{1},- {\\mu}_{2} \\right)}} - \\frac{3 f{\\left(3,- {\\mu}_{0},- {\\mu}_{1},- {\\mu}_{2} \\right)} \\rho{\\left(z,- {\\mu}_{0} \\right)} \\rho^{2}{\\left(z,{\\mu}_{0} \\right)}}{f{\\left(2,- {\\mu}_{0},- {\\mu}_{1},- {\\mu}_{2} \\right)}} + \\frac{\\rho{\\left(z,{\\mu}_{0} + {\\mu}_{1} + {\\mu}_{2} \\right)} \\rho{\\left(z,- {\\mu}_{1} \\right)} \\rho{\\left(z,- {\\mu}_{2} \\right)}}{2 f{\\left(2,- {\\mu}_{0},- {\\mu}_{1},- {\\mu}_{2} \\right)}}$"
      ],
      "text/plain": [
       "Eq(Derivative(rho(z, mu[0]), z), -f(1, -mu[0], -mu[1], -mu[2])*rho(z, mu[0])/(2*f(2, -mu[0], -mu[1], -mu[2])) - rho(z, mu[0])*zw(mu[0], g2, g3) - 6*f(3, -mu[0], -mu[1], -mu[2])*pw(mu[0], g2, g3)*rho(z, mu[0])/f(2, -mu[0], -mu[1], -mu[2]) - 3*f(3, -mu[0], -mu[1], -mu[2])*rho(z, -mu[0])*rho(z, mu[0])**2/f(2, -mu[0], -mu[1], -mu[2]) + rho(z, mu[0] + mu[1] + mu[2])*rho(z, -mu[1])*rho(z, -mu[2])/(2*f(2, -mu[0], -mu[1], -mu[2])))"
      ]
     },
     "execution_count": 356,
     "metadata": {},
     "output_type": "execute_result"
    },
    {
     "data": {
      "text/latex": [
       "$\\displaystyle \\frac{\\partial}{\\partial z} \\rho{\\left(z,{\\mu}_{1} \\right)} = - \\frac{f{\\left(1,- {\\mu}_{0},- {\\mu}_{1},- {\\mu}_{2} \\right)} \\rho{\\left(z,{\\mu}_{1} \\right)}}{2 f{\\left(2,- {\\mu}_{0},- {\\mu}_{1},- {\\mu}_{2} \\right)}} - \\rho{\\left(z,{\\mu}_{1} \\right)} \\operatorname{zw}{\\left({\\mu}_{1},g_{2},g_{3} \\right)} - \\frac{6 f{\\left(3,- {\\mu}_{0},- {\\mu}_{1},- {\\mu}_{2} \\right)} \\operatorname{pw}{\\left({\\mu}_{1},g_{2},g_{3} \\right)} \\rho{\\left(z,{\\mu}_{1} \\right)}}{f{\\left(2,- {\\mu}_{0},- {\\mu}_{1},- {\\mu}_{2} \\right)}} - \\frac{3 f{\\left(3,- {\\mu}_{0},- {\\mu}_{1},- {\\mu}_{2} \\right)} \\rho{\\left(z,- {\\mu}_{1} \\right)} \\rho^{2}{\\left(z,{\\mu}_{1} \\right)}}{f{\\left(2,- {\\mu}_{0},- {\\mu}_{1},- {\\mu}_{2} \\right)}} + \\frac{\\rho{\\left(z,{\\mu}_{0} + {\\mu}_{1} + {\\mu}_{2} \\right)} \\rho{\\left(z,- {\\mu}_{0} \\right)} \\rho{\\left(z,- {\\mu}_{2} \\right)}}{2 f{\\left(2,- {\\mu}_{0},- {\\mu}_{1},- {\\mu}_{2} \\right)}}$"
      ],
      "text/plain": [
       "Eq(Derivative(rho(z, mu[1]), z), -f(1, -mu[0], -mu[1], -mu[2])*rho(z, mu[1])/(2*f(2, -mu[0], -mu[1], -mu[2])) - rho(z, mu[1])*zw(mu[1], g2, g3) - 6*f(3, -mu[0], -mu[1], -mu[2])*pw(mu[1], g2, g3)*rho(z, mu[1])/f(2, -mu[0], -mu[1], -mu[2]) - 3*f(3, -mu[0], -mu[1], -mu[2])*rho(z, -mu[1])*rho(z, mu[1])**2/f(2, -mu[0], -mu[1], -mu[2]) + rho(z, mu[0] + mu[1] + mu[2])*rho(z, -mu[0])*rho(z, -mu[2])/(2*f(2, -mu[0], -mu[1], -mu[2])))"
      ]
     },
     "execution_count": 356,
     "metadata": {},
     "output_type": "execute_result"
    },
    {
     "data": {
      "text/latex": [
       "$\\displaystyle \\frac{\\partial}{\\partial z} \\rho{\\left(z,{\\mu}_{2} \\right)} = - \\frac{f{\\left(1,- {\\mu}_{0},- {\\mu}_{1},- {\\mu}_{2} \\right)} \\rho{\\left(z,{\\mu}_{2} \\right)}}{2 f{\\left(2,- {\\mu}_{0},- {\\mu}_{1},- {\\mu}_{2} \\right)}} - \\rho{\\left(z,{\\mu}_{2} \\right)} \\operatorname{zw}{\\left({\\mu}_{2},g_{2},g_{3} \\right)} - \\frac{6 f{\\left(3,- {\\mu}_{0},- {\\mu}_{1},- {\\mu}_{2} \\right)} \\operatorname{pw}{\\left({\\mu}_{2},g_{2},g_{3} \\right)} \\rho{\\left(z,{\\mu}_{2} \\right)}}{f{\\left(2,- {\\mu}_{0},- {\\mu}_{1},- {\\mu}_{2} \\right)}} - \\frac{3 f{\\left(3,- {\\mu}_{0},- {\\mu}_{1},- {\\mu}_{2} \\right)} \\rho{\\left(z,- {\\mu}_{2} \\right)} \\rho^{2}{\\left(z,{\\mu}_{2} \\right)}}{f{\\left(2,- {\\mu}_{0},- {\\mu}_{1},- {\\mu}_{2} \\right)}} + \\frac{\\rho{\\left(z,{\\mu}_{0} + {\\mu}_{1} + {\\mu}_{2} \\right)} \\rho{\\left(z,- {\\mu}_{0} \\right)} \\rho{\\left(z,- {\\mu}_{1} \\right)}}{2 f{\\left(2,- {\\mu}_{0},- {\\mu}_{1},- {\\mu}_{2} \\right)}}$"
      ],
      "text/plain": [
       "Eq(Derivative(rho(z, mu[2]), z), -f(1, -mu[0], -mu[1], -mu[2])*rho(z, mu[2])/(2*f(2, -mu[0], -mu[1], -mu[2])) - rho(z, mu[2])*zw(mu[2], g2, g3) - 6*f(3, -mu[0], -mu[1], -mu[2])*pw(mu[2], g2, g3)*rho(z, mu[2])/f(2, -mu[0], -mu[1], -mu[2]) - 3*f(3, -mu[0], -mu[1], -mu[2])*rho(z, -mu[2])*rho(z, mu[2])**2/f(2, -mu[0], -mu[1], -mu[2]) + rho(z, mu[0] + mu[1] + mu[2])*rho(z, -mu[0])*rho(z, -mu[1])/(2*f(2, -mu[0], -mu[1], -mu[2])))"
      ]
     },
     "execution_count": 356,
     "metadata": {},
     "output_type": "execute_result"
    },
    {
     "data": {
      "text/latex": [
       "$\\displaystyle \\frac{\\partial}{\\partial z} \\rho{\\left(z,- {\\mu}_{0} - {\\mu}_{1} - {\\mu}_{2} \\right)} = - \\frac{f{\\left(1,- {\\mu}_{0},- {\\mu}_{1},- {\\mu}_{2} \\right)} \\rho{\\left(z,- {\\mu}_{0} - {\\mu}_{1} - {\\mu}_{2} \\right)}}{2 f{\\left(2,- {\\mu}_{0},- {\\mu}_{1},- {\\mu}_{2} \\right)}} - \\rho{\\left(z,- {\\mu}_{0} - {\\mu}_{1} - {\\mu}_{2} \\right)} \\operatorname{zw}{\\left(- {\\mu}_{0} - {\\mu}_{1} - {\\mu}_{2},g_{2},g_{3} \\right)} - \\frac{6 f{\\left(3,- {\\mu}_{0},- {\\mu}_{1},- {\\mu}_{2} \\right)} \\operatorname{pw}{\\left(- {\\mu}_{0} - {\\mu}_{1} - {\\mu}_{2},g_{2},g_{3} \\right)} \\rho{\\left(z,- {\\mu}_{0} - {\\mu}_{1} - {\\mu}_{2} \\right)}}{f{\\left(2,- {\\mu}_{0},- {\\mu}_{1},- {\\mu}_{2} \\right)}} - \\frac{3 f{\\left(3,- {\\mu}_{0},- {\\mu}_{1},- {\\mu}_{2} \\right)} \\rho^{2}{\\left(z,- {\\mu}_{0} - {\\mu}_{1} - {\\mu}_{2} \\right)} \\rho{\\left(z,{\\mu}_{0} + {\\mu}_{1} + {\\mu}_{2} \\right)}}{f{\\left(2,- {\\mu}_{0},- {\\mu}_{1},- {\\mu}_{2} \\right)}} + \\frac{\\rho{\\left(z,- {\\mu}_{0} \\right)} \\rho{\\left(z,- {\\mu}_{1} \\right)} \\rho{\\left(z,- {\\mu}_{2} \\right)}}{2 f{\\left(2,- {\\mu}_{0},- {\\mu}_{1},- {\\mu}_{2} \\right)}}$"
      ],
      "text/plain": [
       "Eq(Derivative(rho(z, -mu[0] - mu[1] - mu[2]), z), -f(1, -mu[0], -mu[1], -mu[2])*rho(z, -mu[0] - mu[1] - mu[2])/(2*f(2, -mu[0], -mu[1], -mu[2])) - rho(z, -mu[0] - mu[1] - mu[2])*zw(-mu[0] - mu[1] - mu[2], g2, g3) - 6*f(3, -mu[0], -mu[1], -mu[2])*pw(-mu[0] - mu[1] - mu[2], g2, g3)*rho(z, -mu[0] - mu[1] - mu[2])/f(2, -mu[0], -mu[1], -mu[2]) - 3*f(3, -mu[0], -mu[1], -mu[2])*rho(z, -mu[0] - mu[1] - mu[2])**2*rho(z, mu[0] + mu[1] + mu[2])/f(2, -mu[0], -mu[1], -mu[2]) + rho(z, -mu[0])*rho(z, -mu[1])*rho(z, -mu[2])/(2*f(2, -mu[0], -mu[1], -mu[2])))"
      ]
     },
     "execution_count": 356,
     "metadata": {},
     "output_type": "execute_result"
    }
   ],
   "source": [
    "for eq in rho_system(4):\n",
    "    eq"
   ]
  },
  {
   "cell_type": "code",
   "execution_count": 357,
   "metadata": {},
   "outputs": [
    {
     "data": {
      "text/latex": [
       "$\\displaystyle \\frac{\\partial}{\\partial z} \\rho{\\left(z,{\\mu}_{0} \\right)} = \\frac{\\operatorname{pwp}{\\left({\\mu}_{0},g_{2},g_{3} \\right)}}{2 \\rho{\\left(z,- {\\mu}_{0} \\right)}} - \\rho{\\left(z,{\\mu}_{0} \\right)} \\operatorname{zw}{\\left({\\mu}_{0},g_{2},g_{3} \\right)} - \\frac{f{\\left(1,- {\\mu}_{0},- {\\mu}_{1},- {\\mu}_{2},- {\\mu}_{3} \\right)} \\rho{\\left(z,- {\\mu}_{0} \\right)} \\rho{\\left(z,{\\mu}_{0} \\right)}}{2 f{\\left(2,- {\\mu}_{0},- {\\mu}_{1},- {\\mu}_{2},- {\\mu}_{3} \\right)} \\rho{\\left(z,- {\\mu}_{0} \\right)} + 24 f{\\left(4,- {\\mu}_{0},- {\\mu}_{1},- {\\mu}_{2},- {\\mu}_{3} \\right)} \\operatorname{pw}{\\left({\\mu}_{0},g_{2},g_{3} \\right)} \\rho{\\left(z,- {\\mu}_{0} \\right)} + 24 f{\\left(4,- {\\mu}_{0},- {\\mu}_{1},- {\\mu}_{2},- {\\mu}_{3} \\right)} \\rho^{2}{\\left(z,- {\\mu}_{0} \\right)} \\rho{\\left(z,{\\mu}_{0} \\right)}} - \\frac{f{\\left(2,- {\\mu}_{0},- {\\mu}_{1},- {\\mu}_{2},- {\\mu}_{3} \\right)} \\operatorname{pwp}{\\left({\\mu}_{0},g_{2},g_{3} \\right)}}{2 f{\\left(2,- {\\mu}_{0},- {\\mu}_{1},- {\\mu}_{2},- {\\mu}_{3} \\right)} \\rho{\\left(z,- {\\mu}_{0} \\right)} + 24 f{\\left(4,- {\\mu}_{0},- {\\mu}_{1},- {\\mu}_{2},- {\\mu}_{3} \\right)} \\operatorname{pw}{\\left({\\mu}_{0},g_{2},g_{3} \\right)} \\rho{\\left(z,- {\\mu}_{0} \\right)} + 24 f{\\left(4,- {\\mu}_{0},- {\\mu}_{1},- {\\mu}_{2},- {\\mu}_{3} \\right)} \\rho^{2}{\\left(z,- {\\mu}_{0} \\right)} \\rho{\\left(z,{\\mu}_{0} \\right)}} - \\frac{12 f{\\left(3,- {\\mu}_{0},- {\\mu}_{1},- {\\mu}_{2},- {\\mu}_{3} \\right)} \\operatorname{pw}{\\left({\\mu}_{0},g_{2},g_{3} \\right)} \\rho{\\left(z,- {\\mu}_{0} \\right)} \\rho{\\left(z,{\\mu}_{0} \\right)}}{2 f{\\left(2,- {\\mu}_{0},- {\\mu}_{1},- {\\mu}_{2},- {\\mu}_{3} \\right)} \\rho{\\left(z,- {\\mu}_{0} \\right)} + 24 f{\\left(4,- {\\mu}_{0},- {\\mu}_{1},- {\\mu}_{2},- {\\mu}_{3} \\right)} \\operatorname{pw}{\\left({\\mu}_{0},g_{2},g_{3} \\right)} \\rho{\\left(z,- {\\mu}_{0} \\right)} + 24 f{\\left(4,- {\\mu}_{0},- {\\mu}_{1},- {\\mu}_{2},- {\\mu}_{3} \\right)} \\rho^{2}{\\left(z,- {\\mu}_{0} \\right)} \\rho{\\left(z,{\\mu}_{0} \\right)}} - \\frac{6 f{\\left(3,- {\\mu}_{0},- {\\mu}_{1},- {\\mu}_{2},- {\\mu}_{3} \\right)} \\rho^{2}{\\left(z,- {\\mu}_{0} \\right)} \\rho^{2}{\\left(z,{\\mu}_{0} \\right)}}{2 f{\\left(2,- {\\mu}_{0},- {\\mu}_{1},- {\\mu}_{2},- {\\mu}_{3} \\right)} \\rho{\\left(z,- {\\mu}_{0} \\right)} + 24 f{\\left(4,- {\\mu}_{0},- {\\mu}_{1},- {\\mu}_{2},- {\\mu}_{3} \\right)} \\operatorname{pw}{\\left({\\mu}_{0},g_{2},g_{3} \\right)} \\rho{\\left(z,- {\\mu}_{0} \\right)} + 24 f{\\left(4,- {\\mu}_{0},- {\\mu}_{1},- {\\mu}_{2},- {\\mu}_{3} \\right)} \\rho^{2}{\\left(z,- {\\mu}_{0} \\right)} \\rho{\\left(z,{\\mu}_{0} \\right)}} - \\frac{12 f{\\left(4,- {\\mu}_{0},- {\\mu}_{1},- {\\mu}_{2},- {\\mu}_{3} \\right)} \\operatorname{pw}{\\left({\\mu}_{0},g_{2},g_{3} \\right)} \\operatorname{pwp}{\\left({\\mu}_{0},g_{2},g_{3} \\right)}}{2 f{\\left(2,- {\\mu}_{0},- {\\mu}_{1},- {\\mu}_{2},- {\\mu}_{3} \\right)} \\rho{\\left(z,- {\\mu}_{0} \\right)} + 24 f{\\left(4,- {\\mu}_{0},- {\\mu}_{1},- {\\mu}_{2},- {\\mu}_{3} \\right)} \\operatorname{pw}{\\left({\\mu}_{0},g_{2},g_{3} \\right)} \\rho{\\left(z,- {\\mu}_{0} \\right)} + 24 f{\\left(4,- {\\mu}_{0},- {\\mu}_{1},- {\\mu}_{2},- {\\mu}_{3} \\right)} \\rho^{2}{\\left(z,- {\\mu}_{0} \\right)} \\rho{\\left(z,{\\mu}_{0} \\right)}} + \\frac{\\rho{\\left(z,{\\mu}_{0} + {\\mu}_{1} + {\\mu}_{2} + {\\mu}_{3} \\right)} \\rho{\\left(z,- {\\mu}_{0} \\right)} \\rho{\\left(z,- {\\mu}_{1} \\right)} \\rho{\\left(z,- {\\mu}_{2} \\right)} \\rho{\\left(z,- {\\mu}_{3} \\right)}}{2 f{\\left(2,- {\\mu}_{0},- {\\mu}_{1},- {\\mu}_{2},- {\\mu}_{3} \\right)} \\rho{\\left(z,- {\\mu}_{0} \\right)} + 24 f{\\left(4,- {\\mu}_{0},- {\\mu}_{1},- {\\mu}_{2},- {\\mu}_{3} \\right)} \\operatorname{pw}{\\left({\\mu}_{0},g_{2},g_{3} \\right)} \\rho{\\left(z,- {\\mu}_{0} \\right)} + 24 f{\\left(4,- {\\mu}_{0},- {\\mu}_{1},- {\\mu}_{2},- {\\mu}_{3} \\right)} \\rho^{2}{\\left(z,- {\\mu}_{0} \\right)} \\rho{\\left(z,{\\mu}_{0} \\right)}}$"
      ],
      "text/plain": [
       "Eq(Derivative(rho(z, mu[0]), z), pwp(mu[0], g2, g3)/(2*rho(z, -mu[0])) - rho(z, mu[0])*zw(mu[0], g2, g3) - f(1, -mu[0], -mu[1], -mu[2], -mu[3])*rho(z, -mu[0])*rho(z, mu[0])/(2*f(2, -mu[0], -mu[1], -mu[2], -mu[3])*rho(z, -mu[0]) + 24*f(4, -mu[0], -mu[1], -mu[2], -mu[3])*pw(mu[0], g2, g3)*rho(z, -mu[0]) + 24*f(4, -mu[0], -mu[1], -mu[2], -mu[3])*rho(z, -mu[0])**2*rho(z, mu[0])) - f(2, -mu[0], -mu[1], -mu[2], -mu[3])*pwp(mu[0], g2, g3)/(2*f(2, -mu[0], -mu[1], -mu[2], -mu[3])*rho(z, -mu[0]) + 24*f(4, -mu[0], -mu[1], -mu[2], -mu[3])*pw(mu[0], g2, g3)*rho(z, -mu[0]) + 24*f(4, -mu[0], -mu[1], -mu[2], -mu[3])*rho(z, -mu[0])**2*rho(z, mu[0])) - 12*f(3, -mu[0], -mu[1], -mu[2], -mu[3])*pw(mu[0], g2, g3)*rho(z, -mu[0])*rho(z, mu[0])/(2*f(2, -mu[0], -mu[1], -mu[2], -mu[3])*rho(z, -mu[0]) + 24*f(4, -mu[0], -mu[1], -mu[2], -mu[3])*pw(mu[0], g2, g3)*rho(z, -mu[0]) + 24*f(4, -mu[0], -mu[1], -mu[2], -mu[3])*rho(z, -mu[0])**2*rho(z, mu[0])) - 6*f(3, -mu[0], -mu[1], -mu[2], -mu[3])*rho(z, -mu[0])**2*rho(z, mu[0])**2/(2*f(2, -mu[0], -mu[1], -mu[2], -mu[3])*rho(z, -mu[0]) + 24*f(4, -mu[0], -mu[1], -mu[2], -mu[3])*pw(mu[0], g2, g3)*rho(z, -mu[0]) + 24*f(4, -mu[0], -mu[1], -mu[2], -mu[3])*rho(z, -mu[0])**2*rho(z, mu[0])) - 12*f(4, -mu[0], -mu[1], -mu[2], -mu[3])*pw(mu[0], g2, g3)*pwp(mu[0], g2, g3)/(2*f(2, -mu[0], -mu[1], -mu[2], -mu[3])*rho(z, -mu[0]) + 24*f(4, -mu[0], -mu[1], -mu[2], -mu[3])*pw(mu[0], g2, g3)*rho(z, -mu[0]) + 24*f(4, -mu[0], -mu[1], -mu[2], -mu[3])*rho(z, -mu[0])**2*rho(z, mu[0])) + rho(z, mu[0] + mu[1] + mu[2] + mu[3])*rho(z, -mu[0])*rho(z, -mu[1])*rho(z, -mu[2])*rho(z, -mu[3])/(2*f(2, -mu[0], -mu[1], -mu[2], -mu[3])*rho(z, -mu[0]) + 24*f(4, -mu[0], -mu[1], -mu[2], -mu[3])*pw(mu[0], g2, g3)*rho(z, -mu[0]) + 24*f(4, -mu[0], -mu[1], -mu[2], -mu[3])*rho(z, -mu[0])**2*rho(z, mu[0])))"
      ]
     },
     "execution_count": 357,
     "metadata": {},
     "output_type": "execute_result"
    },
    {
     "data": {
      "text/latex": [
       "$\\displaystyle \\frac{\\partial}{\\partial z} \\rho{\\left(z,{\\mu}_{1} \\right)} = \\frac{\\operatorname{pwp}{\\left({\\mu}_{1},g_{2},g_{3} \\right)}}{2 \\rho{\\left(z,- {\\mu}_{1} \\right)}} - \\rho{\\left(z,{\\mu}_{1} \\right)} \\operatorname{zw}{\\left({\\mu}_{1},g_{2},g_{3} \\right)} - \\frac{f{\\left(1,- {\\mu}_{0},- {\\mu}_{1},- {\\mu}_{2},- {\\mu}_{3} \\right)} \\rho{\\left(z,- {\\mu}_{1} \\right)} \\rho{\\left(z,{\\mu}_{1} \\right)}}{2 f{\\left(2,- {\\mu}_{0},- {\\mu}_{1},- {\\mu}_{2},- {\\mu}_{3} \\right)} \\rho{\\left(z,- {\\mu}_{1} \\right)} + 24 f{\\left(4,- {\\mu}_{0},- {\\mu}_{1},- {\\mu}_{2},- {\\mu}_{3} \\right)} \\operatorname{pw}{\\left({\\mu}_{1},g_{2},g_{3} \\right)} \\rho{\\left(z,- {\\mu}_{1} \\right)} + 24 f{\\left(4,- {\\mu}_{0},- {\\mu}_{1},- {\\mu}_{2},- {\\mu}_{3} \\right)} \\rho^{2}{\\left(z,- {\\mu}_{1} \\right)} \\rho{\\left(z,{\\mu}_{1} \\right)}} - \\frac{f{\\left(2,- {\\mu}_{0},- {\\mu}_{1},- {\\mu}_{2},- {\\mu}_{3} \\right)} \\operatorname{pwp}{\\left({\\mu}_{1},g_{2},g_{3} \\right)}}{2 f{\\left(2,- {\\mu}_{0},- {\\mu}_{1},- {\\mu}_{2},- {\\mu}_{3} \\right)} \\rho{\\left(z,- {\\mu}_{1} \\right)} + 24 f{\\left(4,- {\\mu}_{0},- {\\mu}_{1},- {\\mu}_{2},- {\\mu}_{3} \\right)} \\operatorname{pw}{\\left({\\mu}_{1},g_{2},g_{3} \\right)} \\rho{\\left(z,- {\\mu}_{1} \\right)} + 24 f{\\left(4,- {\\mu}_{0},- {\\mu}_{1},- {\\mu}_{2},- {\\mu}_{3} \\right)} \\rho^{2}{\\left(z,- {\\mu}_{1} \\right)} \\rho{\\left(z,{\\mu}_{1} \\right)}} - \\frac{12 f{\\left(3,- {\\mu}_{0},- {\\mu}_{1},- {\\mu}_{2},- {\\mu}_{3} \\right)} \\operatorname{pw}{\\left({\\mu}_{1},g_{2},g_{3} \\right)} \\rho{\\left(z,- {\\mu}_{1} \\right)} \\rho{\\left(z,{\\mu}_{1} \\right)}}{2 f{\\left(2,- {\\mu}_{0},- {\\mu}_{1},- {\\mu}_{2},- {\\mu}_{3} \\right)} \\rho{\\left(z,- {\\mu}_{1} \\right)} + 24 f{\\left(4,- {\\mu}_{0},- {\\mu}_{1},- {\\mu}_{2},- {\\mu}_{3} \\right)} \\operatorname{pw}{\\left({\\mu}_{1},g_{2},g_{3} \\right)} \\rho{\\left(z,- {\\mu}_{1} \\right)} + 24 f{\\left(4,- {\\mu}_{0},- {\\mu}_{1},- {\\mu}_{2},- {\\mu}_{3} \\right)} \\rho^{2}{\\left(z,- {\\mu}_{1} \\right)} \\rho{\\left(z,{\\mu}_{1} \\right)}} - \\frac{6 f{\\left(3,- {\\mu}_{0},- {\\mu}_{1},- {\\mu}_{2},- {\\mu}_{3} \\right)} \\rho^{2}{\\left(z,- {\\mu}_{1} \\right)} \\rho^{2}{\\left(z,{\\mu}_{1} \\right)}}{2 f{\\left(2,- {\\mu}_{0},- {\\mu}_{1},- {\\mu}_{2},- {\\mu}_{3} \\right)} \\rho{\\left(z,- {\\mu}_{1} \\right)} + 24 f{\\left(4,- {\\mu}_{0},- {\\mu}_{1},- {\\mu}_{2},- {\\mu}_{3} \\right)} \\operatorname{pw}{\\left({\\mu}_{1},g_{2},g_{3} \\right)} \\rho{\\left(z,- {\\mu}_{1} \\right)} + 24 f{\\left(4,- {\\mu}_{0},- {\\mu}_{1},- {\\mu}_{2},- {\\mu}_{3} \\right)} \\rho^{2}{\\left(z,- {\\mu}_{1} \\right)} \\rho{\\left(z,{\\mu}_{1} \\right)}} - \\frac{12 f{\\left(4,- {\\mu}_{0},- {\\mu}_{1},- {\\mu}_{2},- {\\mu}_{3} \\right)} \\operatorname{pw}{\\left({\\mu}_{1},g_{2},g_{3} \\right)} \\operatorname{pwp}{\\left({\\mu}_{1},g_{2},g_{3} \\right)}}{2 f{\\left(2,- {\\mu}_{0},- {\\mu}_{1},- {\\mu}_{2},- {\\mu}_{3} \\right)} \\rho{\\left(z,- {\\mu}_{1} \\right)} + 24 f{\\left(4,- {\\mu}_{0},- {\\mu}_{1},- {\\mu}_{2},- {\\mu}_{3} \\right)} \\operatorname{pw}{\\left({\\mu}_{1},g_{2},g_{3} \\right)} \\rho{\\left(z,- {\\mu}_{1} \\right)} + 24 f{\\left(4,- {\\mu}_{0},- {\\mu}_{1},- {\\mu}_{2},- {\\mu}_{3} \\right)} \\rho^{2}{\\left(z,- {\\mu}_{1} \\right)} \\rho{\\left(z,{\\mu}_{1} \\right)}} + \\frac{\\rho{\\left(z,{\\mu}_{0} + {\\mu}_{1} + {\\mu}_{2} + {\\mu}_{3} \\right)} \\rho{\\left(z,- {\\mu}_{0} \\right)} \\rho{\\left(z,- {\\mu}_{1} \\right)} \\rho{\\left(z,- {\\mu}_{2} \\right)} \\rho{\\left(z,- {\\mu}_{3} \\right)}}{2 f{\\left(2,- {\\mu}_{0},- {\\mu}_{1},- {\\mu}_{2},- {\\mu}_{3} \\right)} \\rho{\\left(z,- {\\mu}_{1} \\right)} + 24 f{\\left(4,- {\\mu}_{0},- {\\mu}_{1},- {\\mu}_{2},- {\\mu}_{3} \\right)} \\operatorname{pw}{\\left({\\mu}_{1},g_{2},g_{3} \\right)} \\rho{\\left(z,- {\\mu}_{1} \\right)} + 24 f{\\left(4,- {\\mu}_{0},- {\\mu}_{1},- {\\mu}_{2},- {\\mu}_{3} \\right)} \\rho^{2}{\\left(z,- {\\mu}_{1} \\right)} \\rho{\\left(z,{\\mu}_{1} \\right)}}$"
      ],
      "text/plain": [
       "Eq(Derivative(rho(z, mu[1]), z), pwp(mu[1], g2, g3)/(2*rho(z, -mu[1])) - rho(z, mu[1])*zw(mu[1], g2, g3) - f(1, -mu[0], -mu[1], -mu[2], -mu[3])*rho(z, -mu[1])*rho(z, mu[1])/(2*f(2, -mu[0], -mu[1], -mu[2], -mu[3])*rho(z, -mu[1]) + 24*f(4, -mu[0], -mu[1], -mu[2], -mu[3])*pw(mu[1], g2, g3)*rho(z, -mu[1]) + 24*f(4, -mu[0], -mu[1], -mu[2], -mu[3])*rho(z, -mu[1])**2*rho(z, mu[1])) - f(2, -mu[0], -mu[1], -mu[2], -mu[3])*pwp(mu[1], g2, g3)/(2*f(2, -mu[0], -mu[1], -mu[2], -mu[3])*rho(z, -mu[1]) + 24*f(4, -mu[0], -mu[1], -mu[2], -mu[3])*pw(mu[1], g2, g3)*rho(z, -mu[1]) + 24*f(4, -mu[0], -mu[1], -mu[2], -mu[3])*rho(z, -mu[1])**2*rho(z, mu[1])) - 12*f(3, -mu[0], -mu[1], -mu[2], -mu[3])*pw(mu[1], g2, g3)*rho(z, -mu[1])*rho(z, mu[1])/(2*f(2, -mu[0], -mu[1], -mu[2], -mu[3])*rho(z, -mu[1]) + 24*f(4, -mu[0], -mu[1], -mu[2], -mu[3])*pw(mu[1], g2, g3)*rho(z, -mu[1]) + 24*f(4, -mu[0], -mu[1], -mu[2], -mu[3])*rho(z, -mu[1])**2*rho(z, mu[1])) - 6*f(3, -mu[0], -mu[1], -mu[2], -mu[3])*rho(z, -mu[1])**2*rho(z, mu[1])**2/(2*f(2, -mu[0], -mu[1], -mu[2], -mu[3])*rho(z, -mu[1]) + 24*f(4, -mu[0], -mu[1], -mu[2], -mu[3])*pw(mu[1], g2, g3)*rho(z, -mu[1]) + 24*f(4, -mu[0], -mu[1], -mu[2], -mu[3])*rho(z, -mu[1])**2*rho(z, mu[1])) - 12*f(4, -mu[0], -mu[1], -mu[2], -mu[3])*pw(mu[1], g2, g3)*pwp(mu[1], g2, g3)/(2*f(2, -mu[0], -mu[1], -mu[2], -mu[3])*rho(z, -mu[1]) + 24*f(4, -mu[0], -mu[1], -mu[2], -mu[3])*pw(mu[1], g2, g3)*rho(z, -mu[1]) + 24*f(4, -mu[0], -mu[1], -mu[2], -mu[3])*rho(z, -mu[1])**2*rho(z, mu[1])) + rho(z, mu[0] + mu[1] + mu[2] + mu[3])*rho(z, -mu[0])*rho(z, -mu[1])*rho(z, -mu[2])*rho(z, -mu[3])/(2*f(2, -mu[0], -mu[1], -mu[2], -mu[3])*rho(z, -mu[1]) + 24*f(4, -mu[0], -mu[1], -mu[2], -mu[3])*pw(mu[1], g2, g3)*rho(z, -mu[1]) + 24*f(4, -mu[0], -mu[1], -mu[2], -mu[3])*rho(z, -mu[1])**2*rho(z, mu[1])))"
      ]
     },
     "execution_count": 357,
     "metadata": {},
     "output_type": "execute_result"
    },
    {
     "data": {
      "text/latex": [
       "$\\displaystyle \\frac{\\partial}{\\partial z} \\rho{\\left(z,{\\mu}_{2} \\right)} = \\frac{\\operatorname{pwp}{\\left({\\mu}_{2},g_{2},g_{3} \\right)}}{2 \\rho{\\left(z,- {\\mu}_{2} \\right)}} - \\rho{\\left(z,{\\mu}_{2} \\right)} \\operatorname{zw}{\\left({\\mu}_{2},g_{2},g_{3} \\right)} - \\frac{f{\\left(1,- {\\mu}_{0},- {\\mu}_{1},- {\\mu}_{2},- {\\mu}_{3} \\right)} \\rho{\\left(z,- {\\mu}_{2} \\right)} \\rho{\\left(z,{\\mu}_{2} \\right)}}{2 f{\\left(2,- {\\mu}_{0},- {\\mu}_{1},- {\\mu}_{2},- {\\mu}_{3} \\right)} \\rho{\\left(z,- {\\mu}_{2} \\right)} + 24 f{\\left(4,- {\\mu}_{0},- {\\mu}_{1},- {\\mu}_{2},- {\\mu}_{3} \\right)} \\operatorname{pw}{\\left({\\mu}_{2},g_{2},g_{3} \\right)} \\rho{\\left(z,- {\\mu}_{2} \\right)} + 24 f{\\left(4,- {\\mu}_{0},- {\\mu}_{1},- {\\mu}_{2},- {\\mu}_{3} \\right)} \\rho^{2}{\\left(z,- {\\mu}_{2} \\right)} \\rho{\\left(z,{\\mu}_{2} \\right)}} - \\frac{f{\\left(2,- {\\mu}_{0},- {\\mu}_{1},- {\\mu}_{2},- {\\mu}_{3} \\right)} \\operatorname{pwp}{\\left({\\mu}_{2},g_{2},g_{3} \\right)}}{2 f{\\left(2,- {\\mu}_{0},- {\\mu}_{1},- {\\mu}_{2},- {\\mu}_{3} \\right)} \\rho{\\left(z,- {\\mu}_{2} \\right)} + 24 f{\\left(4,- {\\mu}_{0},- {\\mu}_{1},- {\\mu}_{2},- {\\mu}_{3} \\right)} \\operatorname{pw}{\\left({\\mu}_{2},g_{2},g_{3} \\right)} \\rho{\\left(z,- {\\mu}_{2} \\right)} + 24 f{\\left(4,- {\\mu}_{0},- {\\mu}_{1},- {\\mu}_{2},- {\\mu}_{3} \\right)} \\rho^{2}{\\left(z,- {\\mu}_{2} \\right)} \\rho{\\left(z,{\\mu}_{2} \\right)}} - \\frac{12 f{\\left(3,- {\\mu}_{0},- {\\mu}_{1},- {\\mu}_{2},- {\\mu}_{3} \\right)} \\operatorname{pw}{\\left({\\mu}_{2},g_{2},g_{3} \\right)} \\rho{\\left(z,- {\\mu}_{2} \\right)} \\rho{\\left(z,{\\mu}_{2} \\right)}}{2 f{\\left(2,- {\\mu}_{0},- {\\mu}_{1},- {\\mu}_{2},- {\\mu}_{3} \\right)} \\rho{\\left(z,- {\\mu}_{2} \\right)} + 24 f{\\left(4,- {\\mu}_{0},- {\\mu}_{1},- {\\mu}_{2},- {\\mu}_{3} \\right)} \\operatorname{pw}{\\left({\\mu}_{2},g_{2},g_{3} \\right)} \\rho{\\left(z,- {\\mu}_{2} \\right)} + 24 f{\\left(4,- {\\mu}_{0},- {\\mu}_{1},- {\\mu}_{2},- {\\mu}_{3} \\right)} \\rho^{2}{\\left(z,- {\\mu}_{2} \\right)} \\rho{\\left(z,{\\mu}_{2} \\right)}} - \\frac{6 f{\\left(3,- {\\mu}_{0},- {\\mu}_{1},- {\\mu}_{2},- {\\mu}_{3} \\right)} \\rho^{2}{\\left(z,- {\\mu}_{2} \\right)} \\rho^{2}{\\left(z,{\\mu}_{2} \\right)}}{2 f{\\left(2,- {\\mu}_{0},- {\\mu}_{1},- {\\mu}_{2},- {\\mu}_{3} \\right)} \\rho{\\left(z,- {\\mu}_{2} \\right)} + 24 f{\\left(4,- {\\mu}_{0},- {\\mu}_{1},- {\\mu}_{2},- {\\mu}_{3} \\right)} \\operatorname{pw}{\\left({\\mu}_{2},g_{2},g_{3} \\right)} \\rho{\\left(z,- {\\mu}_{2} \\right)} + 24 f{\\left(4,- {\\mu}_{0},- {\\mu}_{1},- {\\mu}_{2},- {\\mu}_{3} \\right)} \\rho^{2}{\\left(z,- {\\mu}_{2} \\right)} \\rho{\\left(z,{\\mu}_{2} \\right)}} - \\frac{12 f{\\left(4,- {\\mu}_{0},- {\\mu}_{1},- {\\mu}_{2},- {\\mu}_{3} \\right)} \\operatorname{pw}{\\left({\\mu}_{2},g_{2},g_{3} \\right)} \\operatorname{pwp}{\\left({\\mu}_{2},g_{2},g_{3} \\right)}}{2 f{\\left(2,- {\\mu}_{0},- {\\mu}_{1},- {\\mu}_{2},- {\\mu}_{3} \\right)} \\rho{\\left(z,- {\\mu}_{2} \\right)} + 24 f{\\left(4,- {\\mu}_{0},- {\\mu}_{1},- {\\mu}_{2},- {\\mu}_{3} \\right)} \\operatorname{pw}{\\left({\\mu}_{2},g_{2},g_{3} \\right)} \\rho{\\left(z,- {\\mu}_{2} \\right)} + 24 f{\\left(4,- {\\mu}_{0},- {\\mu}_{1},- {\\mu}_{2},- {\\mu}_{3} \\right)} \\rho^{2}{\\left(z,- {\\mu}_{2} \\right)} \\rho{\\left(z,{\\mu}_{2} \\right)}} + \\frac{\\rho{\\left(z,{\\mu}_{0} + {\\mu}_{1} + {\\mu}_{2} + {\\mu}_{3} \\right)} \\rho{\\left(z,- {\\mu}_{0} \\right)} \\rho{\\left(z,- {\\mu}_{1} \\right)} \\rho{\\left(z,- {\\mu}_{2} \\right)} \\rho{\\left(z,- {\\mu}_{3} \\right)}}{2 f{\\left(2,- {\\mu}_{0},- {\\mu}_{1},- {\\mu}_{2},- {\\mu}_{3} \\right)} \\rho{\\left(z,- {\\mu}_{2} \\right)} + 24 f{\\left(4,- {\\mu}_{0},- {\\mu}_{1},- {\\mu}_{2},- {\\mu}_{3} \\right)} \\operatorname{pw}{\\left({\\mu}_{2},g_{2},g_{3} \\right)} \\rho{\\left(z,- {\\mu}_{2} \\right)} + 24 f{\\left(4,- {\\mu}_{0},- {\\mu}_{1},- {\\mu}_{2},- {\\mu}_{3} \\right)} \\rho^{2}{\\left(z,- {\\mu}_{2} \\right)} \\rho{\\left(z,{\\mu}_{2} \\right)}}$"
      ],
      "text/plain": [
       "Eq(Derivative(rho(z, mu[2]), z), pwp(mu[2], g2, g3)/(2*rho(z, -mu[2])) - rho(z, mu[2])*zw(mu[2], g2, g3) - f(1, -mu[0], -mu[1], -mu[2], -mu[3])*rho(z, -mu[2])*rho(z, mu[2])/(2*f(2, -mu[0], -mu[1], -mu[2], -mu[3])*rho(z, -mu[2]) + 24*f(4, -mu[0], -mu[1], -mu[2], -mu[3])*pw(mu[2], g2, g3)*rho(z, -mu[2]) + 24*f(4, -mu[0], -mu[1], -mu[2], -mu[3])*rho(z, -mu[2])**2*rho(z, mu[2])) - f(2, -mu[0], -mu[1], -mu[2], -mu[3])*pwp(mu[2], g2, g3)/(2*f(2, -mu[0], -mu[1], -mu[2], -mu[3])*rho(z, -mu[2]) + 24*f(4, -mu[0], -mu[1], -mu[2], -mu[3])*pw(mu[2], g2, g3)*rho(z, -mu[2]) + 24*f(4, -mu[0], -mu[1], -mu[2], -mu[3])*rho(z, -mu[2])**2*rho(z, mu[2])) - 12*f(3, -mu[0], -mu[1], -mu[2], -mu[3])*pw(mu[2], g2, g3)*rho(z, -mu[2])*rho(z, mu[2])/(2*f(2, -mu[0], -mu[1], -mu[2], -mu[3])*rho(z, -mu[2]) + 24*f(4, -mu[0], -mu[1], -mu[2], -mu[3])*pw(mu[2], g2, g3)*rho(z, -mu[2]) + 24*f(4, -mu[0], -mu[1], -mu[2], -mu[3])*rho(z, -mu[2])**2*rho(z, mu[2])) - 6*f(3, -mu[0], -mu[1], -mu[2], -mu[3])*rho(z, -mu[2])**2*rho(z, mu[2])**2/(2*f(2, -mu[0], -mu[1], -mu[2], -mu[3])*rho(z, -mu[2]) + 24*f(4, -mu[0], -mu[1], -mu[2], -mu[3])*pw(mu[2], g2, g3)*rho(z, -mu[2]) + 24*f(4, -mu[0], -mu[1], -mu[2], -mu[3])*rho(z, -mu[2])**2*rho(z, mu[2])) - 12*f(4, -mu[0], -mu[1], -mu[2], -mu[3])*pw(mu[2], g2, g3)*pwp(mu[2], g2, g3)/(2*f(2, -mu[0], -mu[1], -mu[2], -mu[3])*rho(z, -mu[2]) + 24*f(4, -mu[0], -mu[1], -mu[2], -mu[3])*pw(mu[2], g2, g3)*rho(z, -mu[2]) + 24*f(4, -mu[0], -mu[1], -mu[2], -mu[3])*rho(z, -mu[2])**2*rho(z, mu[2])) + rho(z, mu[0] + mu[1] + mu[2] + mu[3])*rho(z, -mu[0])*rho(z, -mu[1])*rho(z, -mu[2])*rho(z, -mu[3])/(2*f(2, -mu[0], -mu[1], -mu[2], -mu[3])*rho(z, -mu[2]) + 24*f(4, -mu[0], -mu[1], -mu[2], -mu[3])*pw(mu[2], g2, g3)*rho(z, -mu[2]) + 24*f(4, -mu[0], -mu[1], -mu[2], -mu[3])*rho(z, -mu[2])**2*rho(z, mu[2])))"
      ]
     },
     "execution_count": 357,
     "metadata": {},
     "output_type": "execute_result"
    },
    {
     "data": {
      "text/latex": [
       "$\\displaystyle \\frac{\\partial}{\\partial z} \\rho{\\left(z,{\\mu}_{3} \\right)} = \\frac{\\operatorname{pwp}{\\left({\\mu}_{3},g_{2},g_{3} \\right)}}{2 \\rho{\\left(z,- {\\mu}_{3} \\right)}} - \\rho{\\left(z,{\\mu}_{3} \\right)} \\operatorname{zw}{\\left({\\mu}_{3},g_{2},g_{3} \\right)} - \\frac{f{\\left(1,- {\\mu}_{0},- {\\mu}_{1},- {\\mu}_{2},- {\\mu}_{3} \\right)} \\rho{\\left(z,- {\\mu}_{3} \\right)} \\rho{\\left(z,{\\mu}_{3} \\right)}}{2 f{\\left(2,- {\\mu}_{0},- {\\mu}_{1},- {\\mu}_{2},- {\\mu}_{3} \\right)} \\rho{\\left(z,- {\\mu}_{3} \\right)} + 24 f{\\left(4,- {\\mu}_{0},- {\\mu}_{1},- {\\mu}_{2},- {\\mu}_{3} \\right)} \\operatorname{pw}{\\left({\\mu}_{3},g_{2},g_{3} \\right)} \\rho{\\left(z,- {\\mu}_{3} \\right)} + 24 f{\\left(4,- {\\mu}_{0},- {\\mu}_{1},- {\\mu}_{2},- {\\mu}_{3} \\right)} \\rho^{2}{\\left(z,- {\\mu}_{3} \\right)} \\rho{\\left(z,{\\mu}_{3} \\right)}} - \\frac{f{\\left(2,- {\\mu}_{0},- {\\mu}_{1},- {\\mu}_{2},- {\\mu}_{3} \\right)} \\operatorname{pwp}{\\left({\\mu}_{3},g_{2},g_{3} \\right)}}{2 f{\\left(2,- {\\mu}_{0},- {\\mu}_{1},- {\\mu}_{2},- {\\mu}_{3} \\right)} \\rho{\\left(z,- {\\mu}_{3} \\right)} + 24 f{\\left(4,- {\\mu}_{0},- {\\mu}_{1},- {\\mu}_{2},- {\\mu}_{3} \\right)} \\operatorname{pw}{\\left({\\mu}_{3},g_{2},g_{3} \\right)} \\rho{\\left(z,- {\\mu}_{3} \\right)} + 24 f{\\left(4,- {\\mu}_{0},- {\\mu}_{1},- {\\mu}_{2},- {\\mu}_{3} \\right)} \\rho^{2}{\\left(z,- {\\mu}_{3} \\right)} \\rho{\\left(z,{\\mu}_{3} \\right)}} - \\frac{12 f{\\left(3,- {\\mu}_{0},- {\\mu}_{1},- {\\mu}_{2},- {\\mu}_{3} \\right)} \\operatorname{pw}{\\left({\\mu}_{3},g_{2},g_{3} \\right)} \\rho{\\left(z,- {\\mu}_{3} \\right)} \\rho{\\left(z,{\\mu}_{3} \\right)}}{2 f{\\left(2,- {\\mu}_{0},- {\\mu}_{1},- {\\mu}_{2},- {\\mu}_{3} \\right)} \\rho{\\left(z,- {\\mu}_{3} \\right)} + 24 f{\\left(4,- {\\mu}_{0},- {\\mu}_{1},- {\\mu}_{2},- {\\mu}_{3} \\right)} \\operatorname{pw}{\\left({\\mu}_{3},g_{2},g_{3} \\right)} \\rho{\\left(z,- {\\mu}_{3} \\right)} + 24 f{\\left(4,- {\\mu}_{0},- {\\mu}_{1},- {\\mu}_{2},- {\\mu}_{3} \\right)} \\rho^{2}{\\left(z,- {\\mu}_{3} \\right)} \\rho{\\left(z,{\\mu}_{3} \\right)}} - \\frac{6 f{\\left(3,- {\\mu}_{0},- {\\mu}_{1},- {\\mu}_{2},- {\\mu}_{3} \\right)} \\rho^{2}{\\left(z,- {\\mu}_{3} \\right)} \\rho^{2}{\\left(z,{\\mu}_{3} \\right)}}{2 f{\\left(2,- {\\mu}_{0},- {\\mu}_{1},- {\\mu}_{2},- {\\mu}_{3} \\right)} \\rho{\\left(z,- {\\mu}_{3} \\right)} + 24 f{\\left(4,- {\\mu}_{0},- {\\mu}_{1},- {\\mu}_{2},- {\\mu}_{3} \\right)} \\operatorname{pw}{\\left({\\mu}_{3},g_{2},g_{3} \\right)} \\rho{\\left(z,- {\\mu}_{3} \\right)} + 24 f{\\left(4,- {\\mu}_{0},- {\\mu}_{1},- {\\mu}_{2},- {\\mu}_{3} \\right)} \\rho^{2}{\\left(z,- {\\mu}_{3} \\right)} \\rho{\\left(z,{\\mu}_{3} \\right)}} - \\frac{12 f{\\left(4,- {\\mu}_{0},- {\\mu}_{1},- {\\mu}_{2},- {\\mu}_{3} \\right)} \\operatorname{pw}{\\left({\\mu}_{3},g_{2},g_{3} \\right)} \\operatorname{pwp}{\\left({\\mu}_{3},g_{2},g_{3} \\right)}}{2 f{\\left(2,- {\\mu}_{0},- {\\mu}_{1},- {\\mu}_{2},- {\\mu}_{3} \\right)} \\rho{\\left(z,- {\\mu}_{3} \\right)} + 24 f{\\left(4,- {\\mu}_{0},- {\\mu}_{1},- {\\mu}_{2},- {\\mu}_{3} \\right)} \\operatorname{pw}{\\left({\\mu}_{3},g_{2},g_{3} \\right)} \\rho{\\left(z,- {\\mu}_{3} \\right)} + 24 f{\\left(4,- {\\mu}_{0},- {\\mu}_{1},- {\\mu}_{2},- {\\mu}_{3} \\right)} \\rho^{2}{\\left(z,- {\\mu}_{3} \\right)} \\rho{\\left(z,{\\mu}_{3} \\right)}} + \\frac{\\rho{\\left(z,{\\mu}_{0} + {\\mu}_{1} + {\\mu}_{2} + {\\mu}_{3} \\right)} \\rho{\\left(z,- {\\mu}_{0} \\right)} \\rho{\\left(z,- {\\mu}_{1} \\right)} \\rho{\\left(z,- {\\mu}_{2} \\right)} \\rho{\\left(z,- {\\mu}_{3} \\right)}}{2 f{\\left(2,- {\\mu}_{0},- {\\mu}_{1},- {\\mu}_{2},- {\\mu}_{3} \\right)} \\rho{\\left(z,- {\\mu}_{3} \\right)} + 24 f{\\left(4,- {\\mu}_{0},- {\\mu}_{1},- {\\mu}_{2},- {\\mu}_{3} \\right)} \\operatorname{pw}{\\left({\\mu}_{3},g_{2},g_{3} \\right)} \\rho{\\left(z,- {\\mu}_{3} \\right)} + 24 f{\\left(4,- {\\mu}_{0},- {\\mu}_{1},- {\\mu}_{2},- {\\mu}_{3} \\right)} \\rho^{2}{\\left(z,- {\\mu}_{3} \\right)} \\rho{\\left(z,{\\mu}_{3} \\right)}}$"
      ],
      "text/plain": [
       "Eq(Derivative(rho(z, mu[3]), z), pwp(mu[3], g2, g3)/(2*rho(z, -mu[3])) - rho(z, mu[3])*zw(mu[3], g2, g3) - f(1, -mu[0], -mu[1], -mu[2], -mu[3])*rho(z, -mu[3])*rho(z, mu[3])/(2*f(2, -mu[0], -mu[1], -mu[2], -mu[3])*rho(z, -mu[3]) + 24*f(4, -mu[0], -mu[1], -mu[2], -mu[3])*pw(mu[3], g2, g3)*rho(z, -mu[3]) + 24*f(4, -mu[0], -mu[1], -mu[2], -mu[3])*rho(z, -mu[3])**2*rho(z, mu[3])) - f(2, -mu[0], -mu[1], -mu[2], -mu[3])*pwp(mu[3], g2, g3)/(2*f(2, -mu[0], -mu[1], -mu[2], -mu[3])*rho(z, -mu[3]) + 24*f(4, -mu[0], -mu[1], -mu[2], -mu[3])*pw(mu[3], g2, g3)*rho(z, -mu[3]) + 24*f(4, -mu[0], -mu[1], -mu[2], -mu[3])*rho(z, -mu[3])**2*rho(z, mu[3])) - 12*f(3, -mu[0], -mu[1], -mu[2], -mu[3])*pw(mu[3], g2, g3)*rho(z, -mu[3])*rho(z, mu[3])/(2*f(2, -mu[0], -mu[1], -mu[2], -mu[3])*rho(z, -mu[3]) + 24*f(4, -mu[0], -mu[1], -mu[2], -mu[3])*pw(mu[3], g2, g3)*rho(z, -mu[3]) + 24*f(4, -mu[0], -mu[1], -mu[2], -mu[3])*rho(z, -mu[3])**2*rho(z, mu[3])) - 6*f(3, -mu[0], -mu[1], -mu[2], -mu[3])*rho(z, -mu[3])**2*rho(z, mu[3])**2/(2*f(2, -mu[0], -mu[1], -mu[2], -mu[3])*rho(z, -mu[3]) + 24*f(4, -mu[0], -mu[1], -mu[2], -mu[3])*pw(mu[3], g2, g3)*rho(z, -mu[3]) + 24*f(4, -mu[0], -mu[1], -mu[2], -mu[3])*rho(z, -mu[3])**2*rho(z, mu[3])) - 12*f(4, -mu[0], -mu[1], -mu[2], -mu[3])*pw(mu[3], g2, g3)*pwp(mu[3], g2, g3)/(2*f(2, -mu[0], -mu[1], -mu[2], -mu[3])*rho(z, -mu[3]) + 24*f(4, -mu[0], -mu[1], -mu[2], -mu[3])*pw(mu[3], g2, g3)*rho(z, -mu[3]) + 24*f(4, -mu[0], -mu[1], -mu[2], -mu[3])*rho(z, -mu[3])**2*rho(z, mu[3])) + rho(z, mu[0] + mu[1] + mu[2] + mu[3])*rho(z, -mu[0])*rho(z, -mu[1])*rho(z, -mu[2])*rho(z, -mu[3])/(2*f(2, -mu[0], -mu[1], -mu[2], -mu[3])*rho(z, -mu[3]) + 24*f(4, -mu[0], -mu[1], -mu[2], -mu[3])*pw(mu[3], g2, g3)*rho(z, -mu[3]) + 24*f(4, -mu[0], -mu[1], -mu[2], -mu[3])*rho(z, -mu[3])**2*rho(z, mu[3])))"
      ]
     },
     "execution_count": 357,
     "metadata": {},
     "output_type": "execute_result"
    },
    {
     "data": {
      "text/latex": [
       "$\\displaystyle \\frac{\\partial}{\\partial z} \\rho{\\left(z,- {\\mu}_{0} - {\\mu}_{1} - {\\mu}_{2} - {\\mu}_{3} \\right)} = \\frac{\\operatorname{pwp}{\\left(- {\\mu}_{0} - {\\mu}_{1} - {\\mu}_{2} - {\\mu}_{3},g_{2},g_{3} \\right)}}{2 \\rho{\\left(z,{\\mu}_{0} + {\\mu}_{1} + {\\mu}_{2} + {\\mu}_{3} \\right)}} - \\rho{\\left(z,- {\\mu}_{0} - {\\mu}_{1} - {\\mu}_{2} - {\\mu}_{3} \\right)} \\operatorname{zw}{\\left(- {\\mu}_{0} - {\\mu}_{1} - {\\mu}_{2} - {\\mu}_{3},g_{2},g_{3} \\right)} - \\frac{f{\\left(1,- {\\mu}_{0},- {\\mu}_{1},- {\\mu}_{2},- {\\mu}_{3} \\right)} \\rho{\\left(z,- {\\mu}_{0} - {\\mu}_{1} - {\\mu}_{2} - {\\mu}_{3} \\right)} \\rho{\\left(z,{\\mu}_{0} + {\\mu}_{1} + {\\mu}_{2} + {\\mu}_{3} \\right)}}{2 f{\\left(2,- {\\mu}_{0},- {\\mu}_{1},- {\\mu}_{2},- {\\mu}_{3} \\right)} \\rho{\\left(z,{\\mu}_{0} + {\\mu}_{1} + {\\mu}_{2} + {\\mu}_{3} \\right)} + 24 f{\\left(4,- {\\mu}_{0},- {\\mu}_{1},- {\\mu}_{2},- {\\mu}_{3} \\right)} \\operatorname{pw}{\\left(- {\\mu}_{0} - {\\mu}_{1} - {\\mu}_{2} - {\\mu}_{3},g_{2},g_{3} \\right)} \\rho{\\left(z,{\\mu}_{0} + {\\mu}_{1} + {\\mu}_{2} + {\\mu}_{3} \\right)} + 24 f{\\left(4,- {\\mu}_{0},- {\\mu}_{1},- {\\mu}_{2},- {\\mu}_{3} \\right)} \\rho{\\left(z,- {\\mu}_{0} - {\\mu}_{1} - {\\mu}_{2} - {\\mu}_{3} \\right)} \\rho^{2}{\\left(z,{\\mu}_{0} + {\\mu}_{1} + {\\mu}_{2} + {\\mu}_{3} \\right)}} - \\frac{f{\\left(2,- {\\mu}_{0},- {\\mu}_{1},- {\\mu}_{2},- {\\mu}_{3} \\right)} \\operatorname{pwp}{\\left(- {\\mu}_{0} - {\\mu}_{1} - {\\mu}_{2} - {\\mu}_{3},g_{2},g_{3} \\right)}}{2 f{\\left(2,- {\\mu}_{0},- {\\mu}_{1},- {\\mu}_{2},- {\\mu}_{3} \\right)} \\rho{\\left(z,{\\mu}_{0} + {\\mu}_{1} + {\\mu}_{2} + {\\mu}_{3} \\right)} + 24 f{\\left(4,- {\\mu}_{0},- {\\mu}_{1},- {\\mu}_{2},- {\\mu}_{3} \\right)} \\operatorname{pw}{\\left(- {\\mu}_{0} - {\\mu}_{1} - {\\mu}_{2} - {\\mu}_{3},g_{2},g_{3} \\right)} \\rho{\\left(z,{\\mu}_{0} + {\\mu}_{1} + {\\mu}_{2} + {\\mu}_{3} \\right)} + 24 f{\\left(4,- {\\mu}_{0},- {\\mu}_{1},- {\\mu}_{2},- {\\mu}_{3} \\right)} \\rho{\\left(z,- {\\mu}_{0} - {\\mu}_{1} - {\\mu}_{2} - {\\mu}_{3} \\right)} \\rho^{2}{\\left(z,{\\mu}_{0} + {\\mu}_{1} + {\\mu}_{2} + {\\mu}_{3} \\right)}} - \\frac{12 f{\\left(3,- {\\mu}_{0},- {\\mu}_{1},- {\\mu}_{2},- {\\mu}_{3} \\right)} \\operatorname{pw}{\\left(- {\\mu}_{0} - {\\mu}_{1} - {\\mu}_{2} - {\\mu}_{3},g_{2},g_{3} \\right)} \\rho{\\left(z,- {\\mu}_{0} - {\\mu}_{1} - {\\mu}_{2} - {\\mu}_{3} \\right)} \\rho{\\left(z,{\\mu}_{0} + {\\mu}_{1} + {\\mu}_{2} + {\\mu}_{3} \\right)}}{2 f{\\left(2,- {\\mu}_{0},- {\\mu}_{1},- {\\mu}_{2},- {\\mu}_{3} \\right)} \\rho{\\left(z,{\\mu}_{0} + {\\mu}_{1} + {\\mu}_{2} + {\\mu}_{3} \\right)} + 24 f{\\left(4,- {\\mu}_{0},- {\\mu}_{1},- {\\mu}_{2},- {\\mu}_{3} \\right)} \\operatorname{pw}{\\left(- {\\mu}_{0} - {\\mu}_{1} - {\\mu}_{2} - {\\mu}_{3},g_{2},g_{3} \\right)} \\rho{\\left(z,{\\mu}_{0} + {\\mu}_{1} + {\\mu}_{2} + {\\mu}_{3} \\right)} + 24 f{\\left(4,- {\\mu}_{0},- {\\mu}_{1},- {\\mu}_{2},- {\\mu}_{3} \\right)} \\rho{\\left(z,- {\\mu}_{0} - {\\mu}_{1} - {\\mu}_{2} - {\\mu}_{3} \\right)} \\rho^{2}{\\left(z,{\\mu}_{0} + {\\mu}_{1} + {\\mu}_{2} + {\\mu}_{3} \\right)}} - \\frac{6 f{\\left(3,- {\\mu}_{0},- {\\mu}_{1},- {\\mu}_{2},- {\\mu}_{3} \\right)} \\rho^{2}{\\left(z,- {\\mu}_{0} - {\\mu}_{1} - {\\mu}_{2} - {\\mu}_{3} \\right)} \\rho^{2}{\\left(z,{\\mu}_{0} + {\\mu}_{1} + {\\mu}_{2} + {\\mu}_{3} \\right)}}{2 f{\\left(2,- {\\mu}_{0},- {\\mu}_{1},- {\\mu}_{2},- {\\mu}_{3} \\right)} \\rho{\\left(z,{\\mu}_{0} + {\\mu}_{1} + {\\mu}_{2} + {\\mu}_{3} \\right)} + 24 f{\\left(4,- {\\mu}_{0},- {\\mu}_{1},- {\\mu}_{2},- {\\mu}_{3} \\right)} \\operatorname{pw}{\\left(- {\\mu}_{0} - {\\mu}_{1} - {\\mu}_{2} - {\\mu}_{3},g_{2},g_{3} \\right)} \\rho{\\left(z,{\\mu}_{0} + {\\mu}_{1} + {\\mu}_{2} + {\\mu}_{3} \\right)} + 24 f{\\left(4,- {\\mu}_{0},- {\\mu}_{1},- {\\mu}_{2},- {\\mu}_{3} \\right)} \\rho{\\left(z,- {\\mu}_{0} - {\\mu}_{1} - {\\mu}_{2} - {\\mu}_{3} \\right)} \\rho^{2}{\\left(z,{\\mu}_{0} + {\\mu}_{1} + {\\mu}_{2} + {\\mu}_{3} \\right)}} - \\frac{12 f{\\left(4,- {\\mu}_{0},- {\\mu}_{1},- {\\mu}_{2},- {\\mu}_{3} \\right)} \\operatorname{pw}{\\left(- {\\mu}_{0} - {\\mu}_{1} - {\\mu}_{2} - {\\mu}_{3},g_{2},g_{3} \\right)} \\operatorname{pwp}{\\left(- {\\mu}_{0} - {\\mu}_{1} - {\\mu}_{2} - {\\mu}_{3},g_{2},g_{3} \\right)}}{2 f{\\left(2,- {\\mu}_{0},- {\\mu}_{1},- {\\mu}_{2},- {\\mu}_{3} \\right)} \\rho{\\left(z,{\\mu}_{0} + {\\mu}_{1} + {\\mu}_{2} + {\\mu}_{3} \\right)} + 24 f{\\left(4,- {\\mu}_{0},- {\\mu}_{1},- {\\mu}_{2},- {\\mu}_{3} \\right)} \\operatorname{pw}{\\left(- {\\mu}_{0} - {\\mu}_{1} - {\\mu}_{2} - {\\mu}_{3},g_{2},g_{3} \\right)} \\rho{\\left(z,{\\mu}_{0} + {\\mu}_{1} + {\\mu}_{2} + {\\mu}_{3} \\right)} + 24 f{\\left(4,- {\\mu}_{0},- {\\mu}_{1},- {\\mu}_{2},- {\\mu}_{3} \\right)} \\rho{\\left(z,- {\\mu}_{0} - {\\mu}_{1} - {\\mu}_{2} - {\\mu}_{3} \\right)} \\rho^{2}{\\left(z,{\\mu}_{0} + {\\mu}_{1} + {\\mu}_{2} + {\\mu}_{3} \\right)}} + \\frac{\\rho{\\left(z,{\\mu}_{0} + {\\mu}_{1} + {\\mu}_{2} + {\\mu}_{3} \\right)} \\rho{\\left(z,- {\\mu}_{0} \\right)} \\rho{\\left(z,- {\\mu}_{1} \\right)} \\rho{\\left(z,- {\\mu}_{2} \\right)} \\rho{\\left(z,- {\\mu}_{3} \\right)}}{2 f{\\left(2,- {\\mu}_{0},- {\\mu}_{1},- {\\mu}_{2},- {\\mu}_{3} \\right)} \\rho{\\left(z,{\\mu}_{0} + {\\mu}_{1} + {\\mu}_{2} + {\\mu}_{3} \\right)} + 24 f{\\left(4,- {\\mu}_{0},- {\\mu}_{1},- {\\mu}_{2},- {\\mu}_{3} \\right)} \\operatorname{pw}{\\left(- {\\mu}_{0} - {\\mu}_{1} - {\\mu}_{2} - {\\mu}_{3},g_{2},g_{3} \\right)} \\rho{\\left(z,{\\mu}_{0} + {\\mu}_{1} + {\\mu}_{2} + {\\mu}_{3} \\right)} + 24 f{\\left(4,- {\\mu}_{0},- {\\mu}_{1},- {\\mu}_{2},- {\\mu}_{3} \\right)} \\rho{\\left(z,- {\\mu}_{0} - {\\mu}_{1} - {\\mu}_{2} - {\\mu}_{3} \\right)} \\rho^{2}{\\left(z,{\\mu}_{0} + {\\mu}_{1} + {\\mu}_{2} + {\\mu}_{3} \\right)}}$"
      ],
      "text/plain": [
       "Eq(Derivative(rho(z, -mu[0] - mu[1] - mu[2] - mu[3]), z), pwp(-mu[0] - mu[1] - mu[2] - mu[3], g2, g3)/(2*rho(z, mu[0] + mu[1] + mu[2] + mu[3])) - rho(z, -mu[0] - mu[1] - mu[2] - mu[3])*zw(-mu[0] - mu[1] - mu[2] - mu[3], g2, g3) - f(1, -mu[0], -mu[1], -mu[2], -mu[3])*rho(z, -mu[0] - mu[1] - mu[2] - mu[3])*rho(z, mu[0] + mu[1] + mu[2] + mu[3])/(2*f(2, -mu[0], -mu[1], -mu[2], -mu[3])*rho(z, mu[0] + mu[1] + mu[2] + mu[3]) + 24*f(4, -mu[0], -mu[1], -mu[2], -mu[3])*pw(-mu[0] - mu[1] - mu[2] - mu[3], g2, g3)*rho(z, mu[0] + mu[1] + mu[2] + mu[3]) + 24*f(4, -mu[0], -mu[1], -mu[2], -mu[3])*rho(z, -mu[0] - mu[1] - mu[2] - mu[3])*rho(z, mu[0] + mu[1] + mu[2] + mu[3])**2) - f(2, -mu[0], -mu[1], -mu[2], -mu[3])*pwp(-mu[0] - mu[1] - mu[2] - mu[3], g2, g3)/(2*f(2, -mu[0], -mu[1], -mu[2], -mu[3])*rho(z, mu[0] + mu[1] + mu[2] + mu[3]) + 24*f(4, -mu[0], -mu[1], -mu[2], -mu[3])*pw(-mu[0] - mu[1] - mu[2] - mu[3], g2, g3)*rho(z, mu[0] + mu[1] + mu[2] + mu[3]) + 24*f(4, -mu[0], -mu[1], -mu[2], -mu[3])*rho(z, -mu[0] - mu[1] - mu[2] - mu[3])*rho(z, mu[0] + mu[1] + mu[2] + mu[3])**2) - 12*f(3, -mu[0], -mu[1], -mu[2], -mu[3])*pw(-mu[0] - mu[1] - mu[2] - mu[3], g2, g3)*rho(z, -mu[0] - mu[1] - mu[2] - mu[3])*rho(z, mu[0] + mu[1] + mu[2] + mu[3])/(2*f(2, -mu[0], -mu[1], -mu[2], -mu[3])*rho(z, mu[0] + mu[1] + mu[2] + mu[3]) + 24*f(4, -mu[0], -mu[1], -mu[2], -mu[3])*pw(-mu[0] - mu[1] - mu[2] - mu[3], g2, g3)*rho(z, mu[0] + mu[1] + mu[2] + mu[3]) + 24*f(4, -mu[0], -mu[1], -mu[2], -mu[3])*rho(z, -mu[0] - mu[1] - mu[2] - mu[3])*rho(z, mu[0] + mu[1] + mu[2] + mu[3])**2) - 6*f(3, -mu[0], -mu[1], -mu[2], -mu[3])*rho(z, -mu[0] - mu[1] - mu[2] - mu[3])**2*rho(z, mu[0] + mu[1] + mu[2] + mu[3])**2/(2*f(2, -mu[0], -mu[1], -mu[2], -mu[3])*rho(z, mu[0] + mu[1] + mu[2] + mu[3]) + 24*f(4, -mu[0], -mu[1], -mu[2], -mu[3])*pw(-mu[0] - mu[1] - mu[2] - mu[3], g2, g3)*rho(z, mu[0] + mu[1] + mu[2] + mu[3]) + 24*f(4, -mu[0], -mu[1], -mu[2], -mu[3])*rho(z, -mu[0] - mu[1] - mu[2] - mu[3])*rho(z, mu[0] + mu[1] + mu[2] + mu[3])**2) - 12*f(4, -mu[0], -mu[1], -mu[2], -mu[3])*pw(-mu[0] - mu[1] - mu[2] - mu[3], g2, g3)*pwp(-mu[0] - mu[1] - mu[2] - mu[3], g2, g3)/(2*f(2, -mu[0], -mu[1], -mu[2], -mu[3])*rho(z, mu[0] + mu[1] + mu[2] + mu[3]) + 24*f(4, -mu[0], -mu[1], -mu[2], -mu[3])*pw(-mu[0] - mu[1] - mu[2] - mu[3], g2, g3)*rho(z, mu[0] + mu[1] + mu[2] + mu[3]) + 24*f(4, -mu[0], -mu[1], -mu[2], -mu[3])*rho(z, -mu[0] - mu[1] - mu[2] - mu[3])*rho(z, mu[0] + mu[1] + mu[2] + mu[3])**2) + rho(z, mu[0] + mu[1] + mu[2] + mu[3])*rho(z, -mu[0])*rho(z, -mu[1])*rho(z, -mu[2])*rho(z, -mu[3])/(2*f(2, -mu[0], -mu[1], -mu[2], -mu[3])*rho(z, mu[0] + mu[1] + mu[2] + mu[3]) + 24*f(4, -mu[0], -mu[1], -mu[2], -mu[3])*pw(-mu[0] - mu[1] - mu[2] - mu[3], g2, g3)*rho(z, mu[0] + mu[1] + mu[2] + mu[3]) + 24*f(4, -mu[0], -mu[1], -mu[2], -mu[3])*rho(z, -mu[0] - mu[1] - mu[2] - mu[3])*rho(z, mu[0] + mu[1] + mu[2] + mu[3])**2))"
      ]
     },
     "execution_count": 357,
     "metadata": {},
     "output_type": "execute_result"
    }
   ],
   "source": [
    "for eq in rho_system(5):\n",
    "    eq"
   ]
  },
  {
   "cell_type": "code",
   "execution_count": 359,
   "metadata": {},
   "outputs": [
    {
     "data": {
      "text/latex": [
       "$\\displaystyle \\frac{\\partial}{\\partial z} \\rho{\\left(z,{\\mu}_{0} \\right)} = \\frac{18 g_{2} f{\\left(5,- {\\mu}_{0},- {\\mu}_{1},- {\\mu}_{2},- {\\mu}_{3},- {\\mu}_{4} \\right)} \\rho{\\left(z,{\\mu}_{0} \\right)}}{2 f{\\left(2,- {\\mu}_{0},- {\\mu}_{1},- {\\mu}_{2},- {\\mu}_{3},- {\\mu}_{4} \\right)} + 24 f{\\left(4,- {\\mu}_{0},- {\\mu}_{1},- {\\mu}_{2},- {\\mu}_{3},- {\\mu}_{4} \\right)} \\operatorname{pw}{\\left({\\mu}_{0},g_{2},g_{3} \\right)} + 24 f{\\left(4,- {\\mu}_{0},- {\\mu}_{1},- {\\mu}_{2},- {\\mu}_{3},- {\\mu}_{4} \\right)} \\rho{\\left(z,- {\\mu}_{0} \\right)} \\rho{\\left(z,{\\mu}_{0} \\right)}} - \\frac{f{\\left(1,- {\\mu}_{0},- {\\mu}_{1},- {\\mu}_{2},- {\\mu}_{3},- {\\mu}_{4} \\right)} \\rho{\\left(z,{\\mu}_{0} \\right)}}{2 f{\\left(2,- {\\mu}_{0},- {\\mu}_{1},- {\\mu}_{2},- {\\mu}_{3},- {\\mu}_{4} \\right)} + 24 f{\\left(4,- {\\mu}_{0},- {\\mu}_{1},- {\\mu}_{2},- {\\mu}_{3},- {\\mu}_{4} \\right)} \\operatorname{pw}{\\left({\\mu}_{0},g_{2},g_{3} \\right)} + 24 f{\\left(4,- {\\mu}_{0},- {\\mu}_{1},- {\\mu}_{2},- {\\mu}_{3},- {\\mu}_{4} \\right)} \\rho{\\left(z,- {\\mu}_{0} \\right)} \\rho{\\left(z,{\\mu}_{0} \\right)}} - \\frac{2 f{\\left(2,- {\\mu}_{0},- {\\mu}_{1},- {\\mu}_{2},- {\\mu}_{3},- {\\mu}_{4} \\right)} \\rho{\\left(z,{\\mu}_{0} \\right)} \\operatorname{zw}{\\left({\\mu}_{0},g_{2},g_{3} \\right)}}{2 f{\\left(2,- {\\mu}_{0},- {\\mu}_{1},- {\\mu}_{2},- {\\mu}_{3},- {\\mu}_{4} \\right)} + 24 f{\\left(4,- {\\mu}_{0},- {\\mu}_{1},- {\\mu}_{2},- {\\mu}_{3},- {\\mu}_{4} \\right)} \\operatorname{pw}{\\left({\\mu}_{0},g_{2},g_{3} \\right)} + 24 f{\\left(4,- {\\mu}_{0},- {\\mu}_{1},- {\\mu}_{2},- {\\mu}_{3},- {\\mu}_{4} \\right)} \\rho{\\left(z,- {\\mu}_{0} \\right)} \\rho{\\left(z,{\\mu}_{0} \\right)}} - \\frac{12 f{\\left(3,- {\\mu}_{0},- {\\mu}_{1},- {\\mu}_{2},- {\\mu}_{3},- {\\mu}_{4} \\right)} \\operatorname{pw}{\\left({\\mu}_{0},g_{2},g_{3} \\right)} \\rho{\\left(z,{\\mu}_{0} \\right)}}{2 f{\\left(2,- {\\mu}_{0},- {\\mu}_{1},- {\\mu}_{2},- {\\mu}_{3},- {\\mu}_{4} \\right)} + 24 f{\\left(4,- {\\mu}_{0},- {\\mu}_{1},- {\\mu}_{2},- {\\mu}_{3},- {\\mu}_{4} \\right)} \\operatorname{pw}{\\left({\\mu}_{0},g_{2},g_{3} \\right)} + 24 f{\\left(4,- {\\mu}_{0},- {\\mu}_{1},- {\\mu}_{2},- {\\mu}_{3},- {\\mu}_{4} \\right)} \\rho{\\left(z,- {\\mu}_{0} \\right)} \\rho{\\left(z,{\\mu}_{0} \\right)}} - \\frac{6 f{\\left(3,- {\\mu}_{0},- {\\mu}_{1},- {\\mu}_{2},- {\\mu}_{3},- {\\mu}_{4} \\right)} \\rho{\\left(z,- {\\mu}_{0} \\right)} \\rho^{2}{\\left(z,{\\mu}_{0} \\right)}}{2 f{\\left(2,- {\\mu}_{0},- {\\mu}_{1},- {\\mu}_{2},- {\\mu}_{3},- {\\mu}_{4} \\right)} + 24 f{\\left(4,- {\\mu}_{0},- {\\mu}_{1},- {\\mu}_{2},- {\\mu}_{3},- {\\mu}_{4} \\right)} \\operatorname{pw}{\\left({\\mu}_{0},g_{2},g_{3} \\right)} + 24 f{\\left(4,- {\\mu}_{0},- {\\mu}_{1},- {\\mu}_{2},- {\\mu}_{3},- {\\mu}_{4} \\right)} \\rho{\\left(z,- {\\mu}_{0} \\right)} \\rho{\\left(z,{\\mu}_{0} \\right)}} - \\frac{24 f{\\left(4,- {\\mu}_{0},- {\\mu}_{1},- {\\mu}_{2},- {\\mu}_{3},- {\\mu}_{4} \\right)} \\operatorname{pw}{\\left({\\mu}_{0},g_{2},g_{3} \\right)} \\rho{\\left(z,{\\mu}_{0} \\right)} \\operatorname{zw}{\\left({\\mu}_{0},g_{2},g_{3} \\right)}}{2 f{\\left(2,- {\\mu}_{0},- {\\mu}_{1},- {\\mu}_{2},- {\\mu}_{3},- {\\mu}_{4} \\right)} + 24 f{\\left(4,- {\\mu}_{0},- {\\mu}_{1},- {\\mu}_{2},- {\\mu}_{3},- {\\mu}_{4} \\right)} \\operatorname{pw}{\\left({\\mu}_{0},g_{2},g_{3} \\right)} + 24 f{\\left(4,- {\\mu}_{0},- {\\mu}_{1},- {\\mu}_{2},- {\\mu}_{3},- {\\mu}_{4} \\right)} \\rho{\\left(z,- {\\mu}_{0} \\right)} \\rho{\\left(z,{\\mu}_{0} \\right)}} + \\frac{12 f{\\left(4,- {\\mu}_{0},- {\\mu}_{1},- {\\mu}_{2},- {\\mu}_{3},- {\\mu}_{4} \\right)} \\operatorname{pwp}{\\left({\\mu}_{0},g_{2},g_{3} \\right)} \\rho{\\left(z,{\\mu}_{0} \\right)}}{2 f{\\left(2,- {\\mu}_{0},- {\\mu}_{1},- {\\mu}_{2},- {\\mu}_{3},- {\\mu}_{4} \\right)} + 24 f{\\left(4,- {\\mu}_{0},- {\\mu}_{1},- {\\mu}_{2},- {\\mu}_{3},- {\\mu}_{4} \\right)} \\operatorname{pw}{\\left({\\mu}_{0},g_{2},g_{3} \\right)} + 24 f{\\left(4,- {\\mu}_{0},- {\\mu}_{1},- {\\mu}_{2},- {\\mu}_{3},- {\\mu}_{4} \\right)} \\rho{\\left(z,- {\\mu}_{0} \\right)} \\rho{\\left(z,{\\mu}_{0} \\right)}} - \\frac{24 f{\\left(4,- {\\mu}_{0},- {\\mu}_{1},- {\\mu}_{2},- {\\mu}_{3},- {\\mu}_{4} \\right)} \\rho{\\left(z,- {\\mu}_{0} \\right)} \\rho^{2}{\\left(z,{\\mu}_{0} \\right)} \\operatorname{zw}{\\left({\\mu}_{0},g_{2},g_{3} \\right)}}{2 f{\\left(2,- {\\mu}_{0},- {\\mu}_{1},- {\\mu}_{2},- {\\mu}_{3},- {\\mu}_{4} \\right)} + 24 f{\\left(4,- {\\mu}_{0},- {\\mu}_{1},- {\\mu}_{2},- {\\mu}_{3},- {\\mu}_{4} \\right)} \\operatorname{pw}{\\left({\\mu}_{0},g_{2},g_{3} \\right)} + 24 f{\\left(4,- {\\mu}_{0},- {\\mu}_{1},- {\\mu}_{2},- {\\mu}_{3},- {\\mu}_{4} \\right)} \\rho{\\left(z,- {\\mu}_{0} \\right)} \\rho{\\left(z,{\\mu}_{0} \\right)}} - \\frac{360 f{\\left(5,- {\\mu}_{0},- {\\mu}_{1},- {\\mu}_{2},- {\\mu}_{3},- {\\mu}_{4} \\right)} \\operatorname{pw}^{2}{\\left({\\mu}_{0},g_{2},g_{3} \\right)} \\rho{\\left(z,{\\mu}_{0} \\right)}}{2 f{\\left(2,- {\\mu}_{0},- {\\mu}_{1},- {\\mu}_{2},- {\\mu}_{3},- {\\mu}_{4} \\right)} + 24 f{\\left(4,- {\\mu}_{0},- {\\mu}_{1},- {\\mu}_{2},- {\\mu}_{3},- {\\mu}_{4} \\right)} \\operatorname{pw}{\\left({\\mu}_{0},g_{2},g_{3} \\right)} + 24 f{\\left(4,- {\\mu}_{0},- {\\mu}_{1},- {\\mu}_{2},- {\\mu}_{3},- {\\mu}_{4} \\right)} \\rho{\\left(z,- {\\mu}_{0} \\right)} \\rho{\\left(z,{\\mu}_{0} \\right)}} - \\frac{360 f{\\left(5,- {\\mu}_{0},- {\\mu}_{1},- {\\mu}_{2},- {\\mu}_{3},- {\\mu}_{4} \\right)} \\operatorname{pw}{\\left({\\mu}_{0},g_{2},g_{3} \\right)} \\rho{\\left(z,- {\\mu}_{0} \\right)} \\rho^{2}{\\left(z,{\\mu}_{0} \\right)}}{2 f{\\left(2,- {\\mu}_{0},- {\\mu}_{1},- {\\mu}_{2},- {\\mu}_{3},- {\\mu}_{4} \\right)} + 24 f{\\left(4,- {\\mu}_{0},- {\\mu}_{1},- {\\mu}_{2},- {\\mu}_{3},- {\\mu}_{4} \\right)} \\operatorname{pw}{\\left({\\mu}_{0},g_{2},g_{3} \\right)} + 24 f{\\left(4,- {\\mu}_{0},- {\\mu}_{1},- {\\mu}_{2},- {\\mu}_{3},- {\\mu}_{4} \\right)} \\rho{\\left(z,- {\\mu}_{0} \\right)} \\rho{\\left(z,{\\mu}_{0} \\right)}} - \\frac{120 f{\\left(5,- {\\mu}_{0},- {\\mu}_{1},- {\\mu}_{2},- {\\mu}_{3},- {\\mu}_{4} \\right)} \\rho^{2}{\\left(z,- {\\mu}_{0} \\right)} \\rho^{3}{\\left(z,{\\mu}_{0} \\right)}}{2 f{\\left(2,- {\\mu}_{0},- {\\mu}_{1},- {\\mu}_{2},- {\\mu}_{3},- {\\mu}_{4} \\right)} + 24 f{\\left(4,- {\\mu}_{0},- {\\mu}_{1},- {\\mu}_{2},- {\\mu}_{3},- {\\mu}_{4} \\right)} \\operatorname{pw}{\\left({\\mu}_{0},g_{2},g_{3} \\right)} + 24 f{\\left(4,- {\\mu}_{0},- {\\mu}_{1},- {\\mu}_{2},- {\\mu}_{3},- {\\mu}_{4} \\right)} \\rho{\\left(z,- {\\mu}_{0} \\right)} \\rho{\\left(z,{\\mu}_{0} \\right)}} + \\frac{\\rho{\\left(z,{\\mu}_{0} + {\\mu}_{1} + {\\mu}_{2} + {\\mu}_{3} + {\\mu}_{4} \\right)} \\rho{\\left(z,- {\\mu}_{1} \\right)} \\rho{\\left(z,- {\\mu}_{2} \\right)} \\rho{\\left(z,- {\\mu}_{3} \\right)} \\rho{\\left(z,- {\\mu}_{4} \\right)}}{2 f{\\left(2,- {\\mu}_{0},- {\\mu}_{1},- {\\mu}_{2},- {\\mu}_{3},- {\\mu}_{4} \\right)} + 24 f{\\left(4,- {\\mu}_{0},- {\\mu}_{1},- {\\mu}_{2},- {\\mu}_{3},- {\\mu}_{4} \\right)} \\operatorname{pw}{\\left({\\mu}_{0},g_{2},g_{3} \\right)} + 24 f{\\left(4,- {\\mu}_{0},- {\\mu}_{1},- {\\mu}_{2},- {\\mu}_{3},- {\\mu}_{4} \\right)} \\rho{\\left(z,- {\\mu}_{0} \\right)} \\rho{\\left(z,{\\mu}_{0} \\right)}}$"
      ],
      "text/plain": [
       "Eq(Derivative(rho(z, mu[0]), z), 18*g2*f(5, -mu[0], -mu[1], -mu[2], -mu[3], -mu[4])*rho(z, mu[0])/(2*f(2, -mu[0], -mu[1], -mu[2], -mu[3], -mu[4]) + 24*f(4, -mu[0], -mu[1], -mu[2], -mu[3], -mu[4])*pw(mu[0], g2, g3) + 24*f(4, -mu[0], -mu[1], -mu[2], -mu[3], -mu[4])*rho(z, -mu[0])*rho(z, mu[0])) - f(1, -mu[0], -mu[1], -mu[2], -mu[3], -mu[4])*rho(z, mu[0])/(2*f(2, -mu[0], -mu[1], -mu[2], -mu[3], -mu[4]) + 24*f(4, -mu[0], -mu[1], -mu[2], -mu[3], -mu[4])*pw(mu[0], g2, g3) + 24*f(4, -mu[0], -mu[1], -mu[2], -mu[3], -mu[4])*rho(z, -mu[0])*rho(z, mu[0])) - 2*f(2, -mu[0], -mu[1], -mu[2], -mu[3], -mu[4])*rho(z, mu[0])*zw(mu[0], g2, g3)/(2*f(2, -mu[0], -mu[1], -mu[2], -mu[3], -mu[4]) + 24*f(4, -mu[0], -mu[1], -mu[2], -mu[3], -mu[4])*pw(mu[0], g2, g3) + 24*f(4, -mu[0], -mu[1], -mu[2], -mu[3], -mu[4])*rho(z, -mu[0])*rho(z, mu[0])) - 12*f(3, -mu[0], -mu[1], -mu[2], -mu[3], -mu[4])*pw(mu[0], g2, g3)*rho(z, mu[0])/(2*f(2, -mu[0], -mu[1], -mu[2], -mu[3], -mu[4]) + 24*f(4, -mu[0], -mu[1], -mu[2], -mu[3], -mu[4])*pw(mu[0], g2, g3) + 24*f(4, -mu[0], -mu[1], -mu[2], -mu[3], -mu[4])*rho(z, -mu[0])*rho(z, mu[0])) - 6*f(3, -mu[0], -mu[1], -mu[2], -mu[3], -mu[4])*rho(z, -mu[0])*rho(z, mu[0])**2/(2*f(2, -mu[0], -mu[1], -mu[2], -mu[3], -mu[4]) + 24*f(4, -mu[0], -mu[1], -mu[2], -mu[3], -mu[4])*pw(mu[0], g2, g3) + 24*f(4, -mu[0], -mu[1], -mu[2], -mu[3], -mu[4])*rho(z, -mu[0])*rho(z, mu[0])) - 24*f(4, -mu[0], -mu[1], -mu[2], -mu[3], -mu[4])*pw(mu[0], g2, g3)*rho(z, mu[0])*zw(mu[0], g2, g3)/(2*f(2, -mu[0], -mu[1], -mu[2], -mu[3], -mu[4]) + 24*f(4, -mu[0], -mu[1], -mu[2], -mu[3], -mu[4])*pw(mu[0], g2, g3) + 24*f(4, -mu[0], -mu[1], -mu[2], -mu[3], -mu[4])*rho(z, -mu[0])*rho(z, mu[0])) + 12*f(4, -mu[0], -mu[1], -mu[2], -mu[3], -mu[4])*pwp(mu[0], g2, g3)*rho(z, mu[0])/(2*f(2, -mu[0], -mu[1], -mu[2], -mu[3], -mu[4]) + 24*f(4, -mu[0], -mu[1], -mu[2], -mu[3], -mu[4])*pw(mu[0], g2, g3) + 24*f(4, -mu[0], -mu[1], -mu[2], -mu[3], -mu[4])*rho(z, -mu[0])*rho(z, mu[0])) - 24*f(4, -mu[0], -mu[1], -mu[2], -mu[3], -mu[4])*rho(z, -mu[0])*rho(z, mu[0])**2*zw(mu[0], g2, g3)/(2*f(2, -mu[0], -mu[1], -mu[2], -mu[3], -mu[4]) + 24*f(4, -mu[0], -mu[1], -mu[2], -mu[3], -mu[4])*pw(mu[0], g2, g3) + 24*f(4, -mu[0], -mu[1], -mu[2], -mu[3], -mu[4])*rho(z, -mu[0])*rho(z, mu[0])) - 360*f(5, -mu[0], -mu[1], -mu[2], -mu[3], -mu[4])*pw(mu[0], g2, g3)**2*rho(z, mu[0])/(2*f(2, -mu[0], -mu[1], -mu[2], -mu[3], -mu[4]) + 24*f(4, -mu[0], -mu[1], -mu[2], -mu[3], -mu[4])*pw(mu[0], g2, g3) + 24*f(4, -mu[0], -mu[1], -mu[2], -mu[3], -mu[4])*rho(z, -mu[0])*rho(z, mu[0])) - 360*f(5, -mu[0], -mu[1], -mu[2], -mu[3], -mu[4])*pw(mu[0], g2, g3)*rho(z, -mu[0])*rho(z, mu[0])**2/(2*f(2, -mu[0], -mu[1], -mu[2], -mu[3], -mu[4]) + 24*f(4, -mu[0], -mu[1], -mu[2], -mu[3], -mu[4])*pw(mu[0], g2, g3) + 24*f(4, -mu[0], -mu[1], -mu[2], -mu[3], -mu[4])*rho(z, -mu[0])*rho(z, mu[0])) - 120*f(5, -mu[0], -mu[1], -mu[2], -mu[3], -mu[4])*rho(z, -mu[0])**2*rho(z, mu[0])**3/(2*f(2, -mu[0], -mu[1], -mu[2], -mu[3], -mu[4]) + 24*f(4, -mu[0], -mu[1], -mu[2], -mu[3], -mu[4])*pw(mu[0], g2, g3) + 24*f(4, -mu[0], -mu[1], -mu[2], -mu[3], -mu[4])*rho(z, -mu[0])*rho(z, mu[0])) + rho(z, mu[0] + mu[1] + mu[2] + mu[3] + mu[4])*rho(z, -mu[1])*rho(z, -mu[2])*rho(z, -mu[3])*rho(z, -mu[4])/(2*f(2, -mu[0], -mu[1], -mu[2], -mu[3], -mu[4]) + 24*f(4, -mu[0], -mu[1], -mu[2], -mu[3], -mu[4])*pw(mu[0], g2, g3) + 24*f(4, -mu[0], -mu[1], -mu[2], -mu[3], -mu[4])*rho(z, -mu[0])*rho(z, mu[0])))"
      ]
     },
     "execution_count": 359,
     "metadata": {},
     "output_type": "execute_result"
    }
   ],
   "source": [
    "rho_system(6)[0].simplify().expand()"
   ]
  },
  {
   "cell_type": "code",
   "execution_count": 365,
   "metadata": {},
   "outputs": [
    {
     "data": {
      "text/latex": [
       "$\\displaystyle - \\frac{g_{2} f{\\left(3,- {\\mu}_{0},- {\\mu}_{1},- {\\mu}_{2},- {\\mu}_{3} \\right)}}{2} + \\left(f{\\left(2,- {\\mu}_{0},- {\\mu}_{1},- {\\mu}_{2},- {\\mu}_{3} \\right)} + 12 f{\\left(4,- {\\mu}_{0},- {\\mu}_{1},- {\\mu}_{2},- {\\mu}_{3} \\right)} \\operatorname{pw}{\\left(z,g_{2},g_{3} \\right)}\\right) \\operatorname{pwp}{\\left(z,g_{2},g_{3} \\right)} + f{\\left(0,- {\\mu}_{0},- {\\mu}_{1},- {\\mu}_{2},- {\\mu}_{3} \\right)} + f{\\left(1,- {\\mu}_{0},- {\\mu}_{1},- {\\mu}_{2},- {\\mu}_{3} \\right)} \\operatorname{pw}{\\left(z,g_{2},g_{3} \\right)} + 6 f{\\left(3,- {\\mu}_{0},- {\\mu}_{1},- {\\mu}_{2},- {\\mu}_{3} \\right)} \\operatorname{pw}^{2}{\\left(z,g_{2},g_{3} \\right)}$"
      ],
      "text/plain": [
       "-g2*f(3, -mu[0], -mu[1], -mu[2], -mu[3])/2 + (f(2, -mu[0], -mu[1], -mu[2], -mu[3]) + 12*f(4, -mu[0], -mu[1], -mu[2], -mu[3])*pw(z, g2, g3))*pwp(z, g2, g3) + f(0, -mu[0], -mu[1], -mu[2], -mu[3]) + f(1, -mu[0], -mu[1], -mu[2], -mu[3])*pw(z, g2, g3) + 6*f(3, -mu[0], -mu[1], -mu[2], -mu[3])*pw(z, g2, g3)**2"
      ]
     },
     "execution_count": 365,
     "metadata": {},
     "output_type": "execute_result"
    }
   ],
   "source": [
    "rho_product_p_prime(5, conjugate=True).rhs.collect(pwp(z,g2,g3))"
   ]
  },
  {
   "cell_type": "code",
   "execution_count": 366,
   "metadata": {},
   "outputs": [
    {
     "data": {
      "text/latex": [
       "$\\displaystyle - \\frac{g_{2} f{\\left(3,- {\\mu}_{0},- {\\mu}_{1},- {\\mu}_{2},- {\\mu}_{3},- {\\mu}_{4} \\right)}}{2} - 18 g_{2} f{\\left(5,- {\\mu}_{0},- {\\mu}_{1},- {\\mu}_{2},- {\\mu}_{3},- {\\mu}_{4} \\right)} \\operatorname{pw}{\\left(z,g_{2},g_{3} \\right)} - 12 g_{3} f{\\left(5,- {\\mu}_{0},- {\\mu}_{1},- {\\mu}_{2},- {\\mu}_{3},- {\\mu}_{4} \\right)} + \\left(f{\\left(2,- {\\mu}_{0},- {\\mu}_{1},- {\\mu}_{2},- {\\mu}_{3},- {\\mu}_{4} \\right)} + 12 f{\\left(4,- {\\mu}_{0},- {\\mu}_{1},- {\\mu}_{2},- {\\mu}_{3},- {\\mu}_{4} \\right)} \\operatorname{pw}{\\left(z,g_{2},g_{3} \\right)}\\right) \\operatorname{pwp}{\\left(z,g_{2},g_{3} \\right)} + f{\\left(0,- {\\mu}_{0},- {\\mu}_{1},- {\\mu}_{2},- {\\mu}_{3},- {\\mu}_{4} \\right)} + f{\\left(1,- {\\mu}_{0},- {\\mu}_{1},- {\\mu}_{2},- {\\mu}_{3},- {\\mu}_{4} \\right)} \\operatorname{pw}{\\left(z,g_{2},g_{3} \\right)} + 6 f{\\left(3,- {\\mu}_{0},- {\\mu}_{1},- {\\mu}_{2},- {\\mu}_{3},- {\\mu}_{4} \\right)} \\operatorname{pw}^{2}{\\left(z,g_{2},g_{3} \\right)} + 120 f{\\left(5,- {\\mu}_{0},- {\\mu}_{1},- {\\mu}_{2},- {\\mu}_{3},- {\\mu}_{4} \\right)} \\operatorname{pw}^{3}{\\left(z,g_{2},g_{3} \\right)}$"
      ],
      "text/plain": [
       "-g2*f(3, -mu[0], -mu[1], -mu[2], -mu[3], -mu[4])/2 - 18*g2*f(5, -mu[0], -mu[1], -mu[2], -mu[3], -mu[4])*pw(z, g2, g3) - 12*g3*f(5, -mu[0], -mu[1], -mu[2], -mu[3], -mu[4]) + (f(2, -mu[0], -mu[1], -mu[2], -mu[3], -mu[4]) + 12*f(4, -mu[0], -mu[1], -mu[2], -mu[3], -mu[4])*pw(z, g2, g3))*pwp(z, g2, g3) + f(0, -mu[0], -mu[1], -mu[2], -mu[3], -mu[4]) + f(1, -mu[0], -mu[1], -mu[2], -mu[3], -mu[4])*pw(z, g2, g3) + 6*f(3, -mu[0], -mu[1], -mu[2], -mu[3], -mu[4])*pw(z, g2, g3)**2 + 120*f(5, -mu[0], -mu[1], -mu[2], -mu[3], -mu[4])*pw(z, g2, g3)**3"
      ]
     },
     "execution_count": 366,
     "metadata": {},
     "output_type": "execute_result"
    }
   ],
   "source": [
    "rho_product_p_prime(6, conjugate=True).rhs.collect(pwp(z,g2,g3))"
   ]
  },
  {
   "cell_type": "code",
   "execution_count": null,
   "metadata": {},
   "outputs": [],
   "source": []
  }
 ],
 "metadata": {
  "kernelspec": {
   "display_name": "Python 3 (ipykernel)",
   "language": "python",
   "name": "python3"
  },
  "language_info": {
   "codemirror_mode": {
    "name": "ipython",
    "version": 3
   },
   "file_extension": ".py",
   "mimetype": "text/x-python",
   "name": "python",
   "nbconvert_exporter": "python",
   "pygments_lexer": "ipython3",
   "version": "3.11.6"
  }
 },
 "nbformat": 4,
 "nbformat_minor": 4
}
