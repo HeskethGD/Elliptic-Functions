{
 "cells": [
  {
   "cell_type": "markdown",
   "id": "aa0ee2ea-0d59-4e2b-ad36-e423f9d85aa1",
   "metadata": {},
   "source": [
    "# Studying 2 modes systems through quadratic forms - Reducing Parameters\n",
    "\n",
    "Interesting paper https://arxiv.org/pdf/2206.03728.pdf\n"
   ]
  },
  {
   "cell_type": "code",
   "execution_count": 1,
   "id": "162133c1-526a-45b5-923f-d844bd45b62b",
   "metadata": {},
   "outputs": [],
   "source": [
    "from sympy import *\n",
    "(x, y, X, Y, Z, B, C, n, m, l, j, q, N, M, K, k, epsilon, z, s, p1, p2, p3, g2, g3, \n",
    " a0, a1, a2, a3, b0, b1, b2, b3, c0, c1, c2, c3, A0, A1, A2, A3, B0, B1, B2, B3,\n",
    " z0, e1, e2, e3, Delta, s0, s1, s2, s3, r0, r1, r2, r3,\n",
    " omega1, omega2, omega3, eta1, eta2, eta3, d1, d2, d3) = symbols(\n",
    "    '''x, y, X, Y, Z, B, C, n, m, l, j, q, N, M, K, k, epsilon, z, s, p1, p2, p3, g2, g3, \n",
    "    a0, a1, a2, a3, b0, b1, b2, b3, c0, c1, c2, c3, A0, A1, A2, A3, B0, B1, B2, B3,\n",
    "    z0, e1, e2, e3, Delta, s0, s1, s2, s3, r0, r1, r2, r3,\n",
    "    omega1, omega2, omega3, eta1, eta2, eta3, d1, d2, d3'''\n",
    ")\n",
    "alpha, delta, t, nu, epsilon, theta = symbols('alpha, delta, t, nu, epsilon, theta')\n",
    "pw = Function('pw') # Weierstrass P function\n",
    "pwp = Function('pwp') # Derivative of Weierstrass P function\n",
    "zw = Function('zw') # Weierstrass Zeta function\n",
    "sigma = Function('sigma') # Weierstrass Sigma function\n",
    "rho = Function('rho')\n",
    "f = Function('f')\n",
    "h = Function('h')\n",
    "u = Function('u')\n",
    "v = Function('v')\n",
    "P = Function('P') # Polynomial\n",
    "Q = Function('Q') # Polynomial\n",
    "phi = Function('phi')\n",
    "Phi = Function('Phi')\n",
    "phi1 = Function('phi1')\n",
    "phi2 = Function('phi2')\n",
    "phi3 = Function('phi3')\n",
    "Kk = Function('Kk')\n",
    "Det = Function(\"Det\")\n",
    "\n",
    "kappa = IndexedBase('kappa')\n",
    "beta = IndexedBase('beta')\n",
    "su = IndexedBase('su')\n",
    "sv = IndexedBase('sv')\n",
    "mu = IndexedBase('mu')\n",
    "xi = IndexedBase('xi')\n",
    "# a = IndexedBase('a')\n",
    "# b = IndexedBase('b')\n",
    "# c = IndexedBase('c')\n",
    "d = IndexedBase('d')\n",
    "p = IndexedBase('p')\n",
    "G = IndexedBase('G')\n",
    "r = IndexedBase('r')\n",
    "s = IndexedBase('s')\n",
    "w = IndexedBase('w')\n",
    "psi = IndexedBase('psi')\n",
    "upsilon = IndexedBase('upsilon')\n",
    "WPdet = Function('WPdet')\n",
    "\n",
    "Omega = IndexedBase('Omega')\n",
    "T = Function('T')\n",
    "V = Function('V')\n",
    "Dz = Function('Dz') # Derivate w.r.t z\n",
    "L = Function('L')\n",
    "U = Function(\"U\")\n",
    "Qa = Function(\"Qa\")\n",
    "Qb = Function(\"Qb\")\n",
    "Qc = Function(\"Qc\")\n",
    "from math import prod\n",
    "\n",
    "from IPython.core.interactiveshell import InteractiveShell\n",
    "InteractiveShell.ast_node_interactivity = 'all'"
   ]
  },
  {
   "cell_type": "markdown",
   "id": "20da5a5f-2353-4f3d-8829-848b0d23b51c",
   "metadata": {},
   "source": [
    "## 2 mode nonlinear coupled ordinary differential equations and associated pairs of quadratic forms\n",
    "\n",
    "This work is interested in studying differential equations involving quadratic forms $\\mathrm{Qa}, \\mathrm{Qb}$ of the form:"
   ]
  },
  {
   "cell_type": "code",
   "execution_count": 2,
   "id": "1d6bf11c-850c-45c3-b6ac-598792916003",
   "metadata": {},
   "outputs": [
    {
     "data": {
      "text/latex": [
       "$\\displaystyle \\frac{d}{d z} u{\\left(z \\right)} = \\operatorname{Qa}{\\left(u{\\left(z \\right)},v{\\left(z \\right)} \\right)} + u{\\left(z \\right)}$"
      ],
      "text/plain": [
       "Eq(Derivative(u(z), z), Qa(u(z), v(z)) + u(z))"
      ]
     },
     "execution_count": 2,
     "metadata": {},
     "output_type": "execute_result"
    },
    {
     "data": {
      "text/latex": [
       "$\\displaystyle \\frac{d}{d z} v{\\left(z \\right)} = \\operatorname{Qb}{\\left(u{\\left(z \\right)},v{\\left(z \\right)} \\right)} - v{\\left(z \\right)}$"
      ],
      "text/plain": [
       "Eq(Derivative(v(z), z), Qb(u(z), v(z)) - v(z))"
      ]
     },
     "execution_count": 2,
     "metadata": {},
     "output_type": "execute_result"
    }
   ],
   "source": [
    "du_Qa = Eq(diff(u(z),z), u(z) + Qa(u(z),v(z)))\n",
    "dv_Qb = Eq(diff(v(z),z), -v(z) + Qb(u(z),v(z)))\n",
    "du_Qa\n",
    "dv_Qb"
   ]
  },
  {
   "cell_type": "markdown",
   "id": "24476246-a3c2-4430-844a-81c355a32a92",
   "metadata": {},
   "source": [
    "The quadratic forms are associated with two by two matrices and a single quadratic form may be associated with multiple matrices but one of them is symmetric and this is unique. It is thus convenient to study these equations using the symmetric matrices associated with the quadratic form to reduce the free parameters."
   ]
  },
  {
   "cell_type": "code",
   "execution_count": 3,
   "id": "a93c8174-cf75-4494-8d80-29ad38745370",
   "metadata": {},
   "outputs": [],
   "source": [
    "# sigma0 = Matrix([[1,0], [0, 1]])\n",
    "# sigma1 = Matrix([[0,1], [1, 0]])\n",
    "# sigma2 = Matrix([[0,-I], [I, 0]])\n",
    "# sigma3 = Matrix([[1,0], [0, -1]])\n",
    "# A = a0*sigma0 + a1*sigma1 + a3*sigma3\n",
    "# B = b0*sigma0 + b1*sigma1 + b3*sigma3\n",
    "# A\n",
    "# B\n"
   ]
  },
  {
   "cell_type": "code",
   "execution_count": 4,
   "id": "5a1117d0-7503-4870-aa39-45536119c61c",
   "metadata": {},
   "outputs": [
    {
     "data": {
      "text/latex": [
       "$\\displaystyle \\left[\\begin{matrix}a_{1} & a_{2}\\\\a_{2} & a_{3}\\end{matrix}\\right]$"
      ],
      "text/plain": [
       "Matrix([\n",
       "[a1, a2],\n",
       "[a2, a3]])"
      ]
     },
     "execution_count": 4,
     "metadata": {},
     "output_type": "execute_result"
    },
    {
     "data": {
      "text/latex": [
       "$\\displaystyle \\left[\\begin{matrix}b_{1} & b_{2}\\\\b_{2} & b_{3}\\end{matrix}\\right]$"
      ],
      "text/plain": [
       "Matrix([\n",
       "[b1, b2],\n",
       "[b2, b3]])"
      ]
     },
     "execution_count": 4,
     "metadata": {},
     "output_type": "execute_result"
    }
   ],
   "source": [
    "uv_vec = Matrix([u(z),v(z)])\n",
    "A = Matrix([[a1,a2],[a2,a3]])\n",
    "B = Matrix([[b1,b2],[b2,b3]])\n",
    "A\n",
    "B"
   ]
  },
  {
   "cell_type": "code",
   "execution_count": 5,
   "id": "b6b96ece-4a4f-4be9-8c13-1158de84c252",
   "metadata": {},
   "outputs": [
    {
     "data": {
      "text/latex": [
       "$\\displaystyle \\operatorname{Qa}{\\left(u{\\left(z \\right)},v{\\left(z \\right)} \\right)} = a_{1} u^{2}{\\left(z \\right)} + 2 a_{2} u{\\left(z \\right)} v{\\left(z \\right)} + a_{3} v^{2}{\\left(z \\right)}$"
      ],
      "text/plain": [
       "Eq(Qa(u(z), v(z)), a1*u(z)**2 + 2*a2*u(z)*v(z) + a3*v(z)**2)"
      ]
     },
     "execution_count": 5,
     "metadata": {},
     "output_type": "execute_result"
    },
    {
     "data": {
      "text/latex": [
       "$\\displaystyle \\operatorname{Qb}{\\left(u{\\left(z \\right)},v{\\left(z \\right)} \\right)} = b_{1} u^{2}{\\left(z \\right)} + 2 b_{2} u{\\left(z \\right)} v{\\left(z \\right)} + b_{3} v^{2}{\\left(z \\right)}$"
      ],
      "text/plain": [
       "Eq(Qb(u(z), v(z)), b1*u(z)**2 + 2*b2*u(z)*v(z) + b3*v(z)**2)"
      ]
     },
     "execution_count": 5,
     "metadata": {},
     "output_type": "execute_result"
    }
   ],
   "source": [
    "Qa_eq = Eq(Qa(u(z),v(z)), (uv_vec.T * A * uv_vec)[0].expand().collect([u(z),v(z),u(z)*v(z)]))\n",
    "Qb_eq = Eq(Qb(u(z),v(z)), (uv_vec.T * B * uv_vec)[0].expand().collect([u(z),v(z),u(z)*v(z)]))\n",
    "Q_subs = [Qa_eq.args, Qb_eq.args]\n",
    "Qa_eq\n",
    "Qb_eq"
   ]
  },
  {
   "cell_type": "code",
   "execution_count": 6,
   "id": "fbe9ca7b-9b36-483a-a7ec-288c43961b84",
   "metadata": {},
   "outputs": [
    {
     "data": {
      "text/latex": [
       "$\\displaystyle \\frac{d}{d z} u{\\left(z \\right)} = a_{1} u^{2}{\\left(z \\right)} + 2 a_{2} u{\\left(z \\right)} v{\\left(z \\right)} + a_{3} v^{2}{\\left(z \\right)} + u{\\left(z \\right)}$"
      ],
      "text/plain": [
       "Eq(Derivative(u(z), z), a1*u(z)**2 + 2*a2*u(z)*v(z) + a3*v(z)**2 + u(z))"
      ]
     },
     "execution_count": 6,
     "metadata": {},
     "output_type": "execute_result"
    },
    {
     "data": {
      "text/latex": [
       "$\\displaystyle \\frac{d}{d z} v{\\left(z \\right)} = b_{1} u^{2}{\\left(z \\right)} + 2 b_{2} u{\\left(z \\right)} v{\\left(z \\right)} + b_{3} v^{2}{\\left(z \\right)} - v{\\left(z \\right)}$"
      ],
      "text/plain": [
       "Eq(Derivative(v(z), z), b1*u(z)**2 + 2*b2*u(z)*v(z) + b3*v(z)**2 - v(z))"
      ]
     },
     "execution_count": 6,
     "metadata": {},
     "output_type": "execute_result"
    }
   ],
   "source": [
    "du_a = du_Qa.subs(Q_subs)\n",
    "dv_b = dv_Qb.subs(Q_subs)\n",
    "du_a\n",
    "dv_b"
   ]
  },
  {
   "cell_type": "markdown",
   "id": "c291a131-3497-4314-81f6-5f76f3ac4577",
   "metadata": {},
   "source": [
    "## Categorising Cases"
   ]
  },
  {
   "cell_type": "markdown",
   "id": "d1f2bda7-36eb-4dae-98fb-0762b6aa81f2",
   "metadata": {},
   "source": [
    "### Case 1"
   ]
  },
  {
   "cell_type": "code",
   "execution_count": 7,
   "id": "2cac3778-3964-4e5f-8250-643f6532095c",
   "metadata": {},
   "outputs": [
    {
     "data": {
      "text/latex": [
       "$\\displaystyle a_{1} \\neq 0$"
      ],
      "text/plain": [
       "Ne(a1, 0)"
      ]
     },
     "execution_count": 7,
     "metadata": {},
     "output_type": "execute_result"
    },
    {
     "data": {
      "text/latex": [
       "$\\displaystyle a_{3} \\neq 0$"
      ],
      "text/plain": [
       "Ne(a3, 0)"
      ]
     },
     "execution_count": 7,
     "metadata": {},
     "output_type": "execute_result"
    }
   ],
   "source": [
    "Ne(a1,0)\n",
    "Ne(a3,0)"
   ]
  },
  {
   "cell_type": "code",
   "execution_count": 8,
   "id": "33c14644-ee4e-48d0-827c-bf5721f6f711",
   "metadata": {},
   "outputs": [
    {
     "data": {
      "text/latex": [
       "$\\displaystyle u{\\left(z \\right)} = c_{1} f{\\left(z \\right)}$"
      ],
      "text/plain": [
       "Eq(u(z), c1*f(z))"
      ]
     },
     "execution_count": 8,
     "metadata": {},
     "output_type": "execute_result"
    },
    {
     "data": {
      "text/latex": [
       "$\\displaystyle v{\\left(z \\right)} = d_{1} h{\\left(z \\right)}$"
      ],
      "text/plain": [
       "Eq(v(z), d1*h(z))"
      ]
     },
     "execution_count": 8,
     "metadata": {},
     "output_type": "execute_result"
    },
    {
     "data": {
      "text/latex": [
       "$\\displaystyle c_{1} \\neq 0$"
      ],
      "text/plain": [
       "Ne(c1, 0)"
      ]
     },
     "execution_count": 8,
     "metadata": {},
     "output_type": "execute_result"
    },
    {
     "data": {
      "text/latex": [
       "$\\displaystyle d_{1} \\neq 0$"
      ],
      "text/plain": [
       "Ne(d1, 0)"
      ]
     },
     "execution_count": 8,
     "metadata": {},
     "output_type": "execute_result"
    }
   ],
   "source": [
    "uf_eq_case_1 = Eq(u(z), c1*f(z))\n",
    "vh_eq_case_1 = Eq(v(z), d1*h(z))\n",
    "uv_fh_subs_case_1 = [uf_eq_case_1.args, vh_eq_case_1.args]\n",
    "uf_eq_case_1\n",
    "vh_eq_case_1\n",
    "Ne(c1,0)\n",
    "Ne(d1,0)"
   ]
  },
  {
   "cell_type": "code",
   "execution_count": 9,
   "id": "256d6f09-7632-4f93-b92c-033a271a7cff",
   "metadata": {},
   "outputs": [
    {
     "data": {
      "text/latex": [
       "$\\displaystyle \\frac{d}{d z} f{\\left(z \\right)} = 2 A_{2} f{\\left(z \\right)} h{\\left(z \\right)} + f^{2}{\\left(z \\right)} + f{\\left(z \\right)} + h^{2}{\\left(z \\right)}$"
      ],
      "text/plain": [
       "Eq(Derivative(f(z), z), 2*A2*f(z)*h(z) + f(z)**2 + f(z) + h(z)**2)"
      ]
     },
     "execution_count": 9,
     "metadata": {},
     "output_type": "execute_result"
    },
    {
     "data": {
      "text/latex": [
       "$\\displaystyle \\frac{d}{d z} h{\\left(z \\right)} = B_{1} f^{2}{\\left(z \\right)} + 2 B_{2} f{\\left(z \\right)} h{\\left(z \\right)} + B_{3} h^{2}{\\left(z \\right)} - h{\\left(z \\right)}$"
      ],
      "text/plain": [
       "Eq(Derivative(h(z), z), B1*f(z)**2 + 2*B2*f(z)*h(z) + B3*h(z)**2 - h(z))"
      ]
     },
     "execution_count": 9,
     "metadata": {},
     "output_type": "execute_result"
    }
   ],
   "source": [
    "case_1_param_subs = [\n",
    "    (c1,1/a1),(d1,1/sqrt(a1*a3)),(a2, A2*sqrt(a1*a3)), (b1, B1*a1**2/sqrt(a1*a3)), (b2, B2*a1), (b3, B3*sqrt(a1*a3))\n",
    "]\n",
    "\n",
    "df_eq_case_1 = du_a.subs(uv_fh_subs_case_1).doit()\n",
    "df_eq_case_1 = Eq(df_eq_case_1.lhs/c1, df_eq_case_1.rhs/c1).expand().subs(case_1_param_subs)\n",
    "df_eq_case_1\n",
    "\n",
    "dh_eq_case_1 = dv_b.subs(uv_fh_subs_case_1).doit()\n",
    "dh_eq_case_1 = Eq(dh_eq_case_1.lhs/d1, dh_eq_case_1.rhs/d1).expand().subs(case_1_param_subs)\n",
    "dh_eq_case_1"
   ]
  },
  {
   "cell_type": "markdown",
   "id": "873bbb6b-b825-4dc2-b757-c546dbacd42d",
   "metadata": {},
   "source": [
    "### Case 2"
   ]
  },
  {
   "cell_type": "code",
   "execution_count": 10,
   "id": "35c94196-ba23-4c55-ae04-961f0f1ccaaa",
   "metadata": {},
   "outputs": [
    {
     "data": {
      "text/latex": [
       "$\\displaystyle a_{1} \\neq 0$"
      ],
      "text/plain": [
       "Ne(a1, 0)"
      ]
     },
     "execution_count": 10,
     "metadata": {},
     "output_type": "execute_result"
    },
    {
     "data": {
      "text/latex": [
       "$\\displaystyle a_{2} \\neq 0$"
      ],
      "text/plain": [
       "Ne(a2, 0)"
      ]
     },
     "execution_count": 10,
     "metadata": {},
     "output_type": "execute_result"
    }
   ],
   "source": [
    "Ne(a1,0)\n",
    "Ne(a2,0)"
   ]
  },
  {
   "cell_type": "code",
   "execution_count": 11,
   "id": "42fcf0e6-e18e-4630-89fa-e54fe11558cb",
   "metadata": {},
   "outputs": [
    {
     "data": {
      "text/latex": [
       "$\\displaystyle u{\\left(z \\right)} = c_{1} f{\\left(z \\right)}$"
      ],
      "text/plain": [
       "Eq(u(z), c1*f(z))"
      ]
     },
     "execution_count": 11,
     "metadata": {},
     "output_type": "execute_result"
    },
    {
     "data": {
      "text/latex": [
       "$\\displaystyle v{\\left(z \\right)} = d_{1} h{\\left(z \\right)}$"
      ],
      "text/plain": [
       "Eq(v(z), d1*h(z))"
      ]
     },
     "execution_count": 11,
     "metadata": {},
     "output_type": "execute_result"
    },
    {
     "data": {
      "text/latex": [
       "$\\displaystyle c_{1} \\neq 0$"
      ],
      "text/plain": [
       "Ne(c1, 0)"
      ]
     },
     "execution_count": 11,
     "metadata": {},
     "output_type": "execute_result"
    },
    {
     "data": {
      "text/latex": [
       "$\\displaystyle d_{1} \\neq 0$"
      ],
      "text/plain": [
       "Ne(d1, 0)"
      ]
     },
     "execution_count": 11,
     "metadata": {},
     "output_type": "execute_result"
    }
   ],
   "source": [
    "uf_eq_case_2 = Eq(u(z), c1*f(z))\n",
    "vh_eq_case_2 = Eq(v(z), d1*h(z))\n",
    "uv_fh_subs_case_2 = [uf_eq_case_2.args, vh_eq_case_2.args]\n",
    "uf_eq_case_2\n",
    "vh_eq_case_2\n",
    "Ne(c1,0)\n",
    "Ne(d1,0)"
   ]
  },
  {
   "cell_type": "code",
   "execution_count": 12,
   "id": "f960eeab-ad85-4c33-96c0-f2b2fef1fdc3",
   "metadata": {},
   "outputs": [
    {
     "data": {
      "text/latex": [
       "$\\displaystyle \\frac{d}{d z} f{\\left(z \\right)} = A_{3} h^{2}{\\left(z \\right)} + f^{2}{\\left(z \\right)} + 2 f{\\left(z \\right)} h{\\left(z \\right)} + f{\\left(z \\right)}$"
      ],
      "text/plain": [
       "Eq(Derivative(f(z), z), A3*h(z)**2 + f(z)**2 + 2*f(z)*h(z) + f(z))"
      ]
     },
     "execution_count": 12,
     "metadata": {},
     "output_type": "execute_result"
    },
    {
     "data": {
      "text/latex": [
       "$\\displaystyle \\frac{d}{d z} h{\\left(z \\right)} = B_{1} f^{2}{\\left(z \\right)} + 2 B_{2} f{\\left(z \\right)} h{\\left(z \\right)} + B_{3} h^{2}{\\left(z \\right)} - h{\\left(z \\right)}$"
      ],
      "text/plain": [
       "Eq(Derivative(h(z), z), B1*f(z)**2 + 2*B2*f(z)*h(z) + B3*h(z)**2 - h(z))"
      ]
     },
     "execution_count": 12,
     "metadata": {},
     "output_type": "execute_result"
    }
   ],
   "source": [
    "case_2_param_subs = [\n",
    "    (c1,1/a1),(d1,1/a2),(a3, A3*a2**2/a1),\n",
    "    (b1, B1*a1**2/a2), (b2, B2*a1), (b3, B3*a2)\n",
    "]\n",
    "\n",
    "df_eq_case_2 = du_a.subs(uv_fh_subs_case_2).doit()\n",
    "df_eq_case_2 = Eq(df_eq_case_2.lhs/c1, df_eq_case_2.rhs/c1).expand().subs(case_2_param_subs)\n",
    "df_eq_case_2\n",
    "\n",
    "dh_eq_case_2 = dv_b.subs(uv_fh_subs_case_2).doit()\n",
    "dh_eq_case_2 = Eq(dh_eq_case_2.lhs/d1, dh_eq_case_2.rhs/d1).expand().subs(case_2_param_subs)\n",
    "dh_eq_case_2"
   ]
  },
  {
   "cell_type": "markdown",
   "id": "3b5ad05f-3ec3-400e-90b4-98a738d9b5b1",
   "metadata": {},
   "source": [
    "### Case 3"
   ]
  },
  {
   "cell_type": "code",
   "execution_count": 13,
   "id": "ff2bd7a9-f640-4721-b55d-e05f266d1642",
   "metadata": {},
   "outputs": [
    {
     "data": {
      "text/latex": [
       "$\\displaystyle a_{3} \\neq 0$"
      ],
      "text/plain": [
       "Ne(a3, 0)"
      ]
     },
     "execution_count": 13,
     "metadata": {},
     "output_type": "execute_result"
    },
    {
     "data": {
      "text/latex": [
       "$\\displaystyle a_{2} \\neq 0$"
      ],
      "text/plain": [
       "Ne(a2, 0)"
      ]
     },
     "execution_count": 13,
     "metadata": {},
     "output_type": "execute_result"
    }
   ],
   "source": [
    "Ne(a3,0)\n",
    "Ne(a2,0)"
   ]
  },
  {
   "cell_type": "code",
   "execution_count": 14,
   "id": "c9750eb0-d5af-497c-b6db-4feae9138557",
   "metadata": {},
   "outputs": [
    {
     "data": {
      "text/latex": [
       "$\\displaystyle u{\\left(z \\right)} = c_{1} f{\\left(z \\right)}$"
      ],
      "text/plain": [
       "Eq(u(z), c1*f(z))"
      ]
     },
     "execution_count": 14,
     "metadata": {},
     "output_type": "execute_result"
    },
    {
     "data": {
      "text/latex": [
       "$\\displaystyle v{\\left(z \\right)} = d_{1} h{\\left(z \\right)}$"
      ],
      "text/plain": [
       "Eq(v(z), d1*h(z))"
      ]
     },
     "execution_count": 14,
     "metadata": {},
     "output_type": "execute_result"
    },
    {
     "data": {
      "text/latex": [
       "$\\displaystyle c_{1} \\neq 0$"
      ],
      "text/plain": [
       "Ne(c1, 0)"
      ]
     },
     "execution_count": 14,
     "metadata": {},
     "output_type": "execute_result"
    },
    {
     "data": {
      "text/latex": [
       "$\\displaystyle d_{1} \\neq 0$"
      ],
      "text/plain": [
       "Ne(d1, 0)"
      ]
     },
     "execution_count": 14,
     "metadata": {},
     "output_type": "execute_result"
    }
   ],
   "source": [
    "uf_eq_case_3 = Eq(u(z), c1*f(z))\n",
    "vh_eq_case_3 = Eq(v(z), d1*h(z))\n",
    "uv_fh_subs_case_3 = [uf_eq_case_3.args, vh_eq_case_3.args]\n",
    "uf_eq_case_3\n",
    "vh_eq_case_3\n",
    "Ne(c1,0)\n",
    "Ne(d1,0)"
   ]
  },
  {
   "cell_type": "code",
   "execution_count": 15,
   "id": "92ce2cd7-1cff-424e-928f-971b3bca9b1d",
   "metadata": {},
   "outputs": [
    {
     "data": {
      "text/latex": [
       "$\\displaystyle \\frac{d}{d z} f{\\left(z \\right)} = A_{1} f^{2}{\\left(z \\right)} + 2 f{\\left(z \\right)} h{\\left(z \\right)} + f{\\left(z \\right)} + h^{2}{\\left(z \\right)}$"
      ],
      "text/plain": [
       "Eq(Derivative(f(z), z), A1*f(z)**2 + 2*f(z)*h(z) + f(z) + h(z)**2)"
      ]
     },
     "execution_count": 15,
     "metadata": {},
     "output_type": "execute_result"
    },
    {
     "data": {
      "text/latex": [
       "$\\displaystyle \\frac{d}{d z} h{\\left(z \\right)} = B_{1} f^{2}{\\left(z \\right)} + 2 B_{2} f{\\left(z \\right)} h{\\left(z \\right)} + B_{3} h^{2}{\\left(z \\right)} - h{\\left(z \\right)}$"
      ],
      "text/plain": [
       "Eq(Derivative(h(z), z), B1*f(z)**2 + 2*B2*f(z)*h(z) + B3*h(z)**2 - h(z))"
      ]
     },
     "execution_count": 15,
     "metadata": {},
     "output_type": "execute_result"
    }
   ],
   "source": [
    "case_3_param_subs = [\n",
    "    (c1,a3*d1**2),(d1,1/a2),(a1, A1*a2**2/a3),\n",
    "   (b1, B1*a2**3/a3**2), (b2, B2*a2**2/a3), (b3, B3*a2)\n",
    "]\n",
    "\n",
    "df_eq_case_3 = du_a.subs(uv_fh_subs_case_3).doit()\n",
    "df_eq_case_3 = Eq(df_eq_case_3.lhs/c1, df_eq_case_3.rhs/c1).expand().subs(case_3_param_subs)\n",
    "df_eq_case_3\n",
    "\n",
    "dh_eq_case_3 = dv_b.subs(uv_fh_subs_case_3).doit()\n",
    "dh_eq_case_3 = Eq(dh_eq_case_3.lhs/d1, dh_eq_case_3.rhs/d1).expand().subs(case_3_param_subs)\n",
    "dh_eq_case_3"
   ]
  },
  {
   "cell_type": "markdown",
   "id": "cd8308ef-5523-4cd5-aac4-a8767eba56c7",
   "metadata": {},
   "source": [
    "### Case 4"
   ]
  },
  {
   "cell_type": "code",
   "execution_count": 16,
   "id": "29949faf-ac3c-45e8-b3c8-77df3e2b445c",
   "metadata": {},
   "outputs": [
    {
     "data": {
      "text/latex": [
       "$\\displaystyle a_{2} \\neq 0$"
      ],
      "text/plain": [
       "Ne(a2, 0)"
      ]
     },
     "execution_count": 16,
     "metadata": {},
     "output_type": "execute_result"
    },
    {
     "data": {
      "text/latex": [
       "$\\displaystyle b_{2} \\neq 0$"
      ],
      "text/plain": [
       "Ne(b2, 0)"
      ]
     },
     "execution_count": 16,
     "metadata": {},
     "output_type": "execute_result"
    }
   ],
   "source": [
    "# Eq(a1,0)\n",
    "Ne(a2,0)\n",
    "# Eq(a3,0)\n",
    "Ne(b2,0)"
   ]
  },
  {
   "cell_type": "code",
   "execution_count": 17,
   "id": "96851136-a048-4afb-8244-23b15ee0050c",
   "metadata": {},
   "outputs": [
    {
     "data": {
      "text/latex": [
       "$\\displaystyle u{\\left(z \\right)} = c_{1} f{\\left(z \\right)}$"
      ],
      "text/plain": [
       "Eq(u(z), c1*f(z))"
      ]
     },
     "execution_count": 17,
     "metadata": {},
     "output_type": "execute_result"
    },
    {
     "data": {
      "text/latex": [
       "$\\displaystyle v{\\left(z \\right)} = d_{1} h{\\left(z \\right)}$"
      ],
      "text/plain": [
       "Eq(v(z), d1*h(z))"
      ]
     },
     "execution_count": 17,
     "metadata": {},
     "output_type": "execute_result"
    },
    {
     "data": {
      "text/latex": [
       "$\\displaystyle c_{1} \\neq 0$"
      ],
      "text/plain": [
       "Ne(c1, 0)"
      ]
     },
     "execution_count": 17,
     "metadata": {},
     "output_type": "execute_result"
    },
    {
     "data": {
      "text/latex": [
       "$\\displaystyle d_{1} \\neq 0$"
      ],
      "text/plain": [
       "Ne(d1, 0)"
      ]
     },
     "execution_count": 17,
     "metadata": {},
     "output_type": "execute_result"
    }
   ],
   "source": [
    "uf_eq_case_4 = Eq(u(z), c1*f(z))\n",
    "vh_eq_case_4 = Eq(v(z), d1*h(z))\n",
    "uv_fh_subs_case_4 = [uf_eq_case_4.args, vh_eq_case_4.args]\n",
    "uf_eq_case_4\n",
    "vh_eq_case_4\n",
    "Ne(c1,0)\n",
    "Ne(d1,0)"
   ]
  },
  {
   "cell_type": "code",
   "execution_count": 18,
   "id": "328f1a93-b489-4b3f-ba46-db37b45ae083",
   "metadata": {
    "scrolled": true
   },
   "outputs": [
    {
     "data": {
      "text/latex": [
       "$\\displaystyle \\frac{d}{d z} f{\\left(z \\right)} = A_{1} f^{2}{\\left(z \\right)} + A_{3} h^{2}{\\left(z \\right)} + 2 f{\\left(z \\right)} h{\\left(z \\right)} + f{\\left(z \\right)}$"
      ],
      "text/plain": [
       "Eq(Derivative(f(z), z), A1*f(z)**2 + A3*h(z)**2 + 2*f(z)*h(z) + f(z))"
      ]
     },
     "execution_count": 18,
     "metadata": {},
     "output_type": "execute_result"
    },
    {
     "data": {
      "text/latex": [
       "$\\displaystyle \\frac{d}{d z} h{\\left(z \\right)} = B_{1} f^{2}{\\left(z \\right)} + B_{3} h^{2}{\\left(z \\right)} + 2 f{\\left(z \\right)} h{\\left(z \\right)} - h{\\left(z \\right)}$"
      ],
      "text/plain": [
       "Eq(Derivative(h(z), z), B1*f(z)**2 + B3*h(z)**2 + 2*f(z)*h(z) - h(z))"
      ]
     },
     "execution_count": 18,
     "metadata": {},
     "output_type": "execute_result"
    }
   ],
   "source": [
    "case_4_param_subs = [\n",
    "    (d1,1/a2), (c1,1/b2), (a1, A1*b2), (a3, A3*a2**2/b2),\n",
    "   (b1, B1*b2**2/a2), (b3, B3*a2)\n",
    "]\n",
    "\n",
    "df_eq_case_4 = du_a.subs(uv_fh_subs_case_4).doit()\n",
    "df_eq_case_4 = Eq(df_eq_case_4.lhs/c1, df_eq_case_4.rhs/c1).expand().subs(case_4_param_subs)\n",
    "df_eq_case_4\n",
    "\n",
    "dh_eq_case_4 = dv_b.subs(uv_fh_subs_case_4).doit()\n",
    "dh_eq_case_4 = Eq(dh_eq_case_4.lhs/d1, dh_eq_case_4.rhs/d1).expand().subs(case_4_param_subs)\n",
    "dh_eq_case_4"
   ]
  },
  {
   "cell_type": "markdown",
   "id": "f76469d0-d309-49ae-948e-1830975e4623",
   "metadata": {},
   "source": [
    "### Exploring conserved quantities\n",
    "\n",
    "Inspired by known conservation laws in such systems, the following section explores under what conditions there exists a function $\\mathrm{Kk}{(u(z),v(z))}$ in the form of a cubic polynomial plus a log term that is conserved. The general starting expression for $\\mathrm{Kk}{(u(z),v(z))}$ is:"
   ]
  },
  {
   "cell_type": "code",
   "execution_count": 19,
   "id": "40c45051-0168-4bb9-b2af-35cd3e6efb92",
   "metadata": {},
   "outputs": [
    {
     "data": {
      "text/latex": [
       "$\\displaystyle \\operatorname{Kk}{\\left(u{\\left(z \\right)},v{\\left(z \\right)} \\right)} = u^{3}{\\left(z \\right)} {w}_{0} + u^{2}{\\left(z \\right)} v{\\left(z \\right)} {w}_{3} + u^{2}{\\left(z \\right)} {r}_{1} + u{\\left(z \\right)} v^{2}{\\left(z \\right)} {w}_{2} + u{\\left(z \\right)} v{\\left(z \\right)} {r}_{2} + u{\\left(z \\right)} {s}_{1} + v^{3}{\\left(z \\right)} {w}_{1} + v^{2}{\\left(z \\right)} {r}_{3} + v{\\left(z \\right)} {s}_{2} + \\log{\\left(u{\\left(z \\right)} v{\\left(z \\right)} \\right)} \\beta$"
      ],
      "text/plain": [
       "Eq(Kk(u(z), v(z)), u(z)**3*w[0] + u(z)**2*v(z)*w[3] + u(z)**2*r[1] + u(z)*v(z)**2*w[2] + u(z)*v(z)*r[2] + u(z)*s[1] + v(z)**3*w[1] + v(z)**2*r[3] + v(z)*s[2] + log(u(z)*v(z))*beta)"
      ]
     },
     "execution_count": 19,
     "metadata": {},
     "output_type": "execute_result"
    }
   ],
   "source": [
    "Wuv = w[0]*u(z)**3 + w[1]*v(z)**3 + w[2]*u(z)*v(z)**2 + w[3]*v(z)*u(z)**2\n",
    "uv3vec = Matrix([u(z), v(z), 1])\n",
    "Ruv = r[2]*u(z)*v(z) + r[1]*u(z)**2 + r[3]*v(z)**2\n",
    "Suv = s[1]*u(z) + s[2]*v(z)\n",
    "Luv = beta*ln(u(z)*v(z))\n",
    "Kuv = Ruv + Wuv + Suv + Luv\n",
    "Kuv_eq = Eq(Kk(u(z),v(z)), Kuv)\n",
    "Kuv_eq"
   ]
  },
  {
   "cell_type": "markdown",
   "id": "7e03c3ad-98f5-47a1-8061-9effdcb8106d",
   "metadata": {},
   "source": [
    "Taking the derivative of $\\mathrm{Kk}{(u(z),v(z))}$ with respect to $z$, then substituting the differential equations for $u(z),v(z)$ leads to an expression it is hoped can be made to vanish through appropriate conditions on parameters:"
   ]
  },
  {
   "cell_type": "code",
   "execution_count": 20,
   "id": "9dc7b7c7-def4-4337-9577-5dad2c41922d",
   "metadata": {},
   "outputs": [
    {
     "name": "stdout",
     "output_type": "stream",
     "text": [
      "True\n"
     ]
    },
    {
     "data": {
      "text/latex": [
       "$\\displaystyle \\frac{d}{d z} \\operatorname{Kk}{\\left(u{\\left(z \\right)},v{\\left(z \\right)} \\right)} = \\frac{a_{3} v^{2}{\\left(z \\right)} \\beta}{u{\\left(z \\right)}} + \\frac{b_{1} u^{2}{\\left(z \\right)} \\beta}{v{\\left(z \\right)}} + \\left(3 a_{1} {w}_{0} + b_{1} {w}_{3}\\right) u^{4}{\\left(z \\right)} + 2 \\left(a_{2} {s}_{1} + b_{2} {s}_{2}\\right) u{\\left(z \\right)} v{\\left(z \\right)} + \\left(a_{3} {w}_{2} + 3 b_{3} {w}_{1}\\right) v^{4}{\\left(z \\right)} + \\left(2 a_{1} {r}_{1} + b_{1} {r}_{2} + 3 {w}_{0}\\right) u^{3}{\\left(z \\right)} + \\left(a_{1} {s}_{1} + b_{1} {s}_{2} + 2 {r}_{1}\\right) u^{2}{\\left(z \\right)} + \\left(a_{1} \\beta + 2 b_{2} \\beta + {s}_{1}\\right) u{\\left(z \\right)} + \\left(2 a_{2} \\beta + b_{3} \\beta - {s}_{2}\\right) v{\\left(z \\right)} + \\left(a_{3} {r}_{2} + 2 b_{3} {r}_{3} - 3 {w}_{1}\\right) v^{3}{\\left(z \\right)} + \\left(a_{3} {s}_{1} + b_{3} {s}_{2} - 2 {r}_{3}\\right) v^{2}{\\left(z \\right)} + 2 \\left(a_{1} {w}_{3} + 3 a_{2} {w}_{0} + b_{1} {w}_{2} + b_{2} {w}_{3}\\right) u^{3}{\\left(z \\right)} v{\\left(z \\right)} + 2 \\left(a_{2} {w}_{2} + a_{3} {w}_{3} + 3 b_{2} {w}_{1} + b_{3} {w}_{2}\\right) u{\\left(z \\right)} v^{3}{\\left(z \\right)} + \\left(a_{1} {r}_{2} + 4 a_{2} {r}_{1} + 2 b_{1} {r}_{3} + 2 b_{2} {r}_{2} + {w}_{3}\\right) u^{2}{\\left(z \\right)} v{\\left(z \\right)} + \\left(2 a_{2} {r}_{2} + 2 a_{3} {r}_{1} + 4 b_{2} {r}_{3} + b_{3} {r}_{2} - {w}_{2}\\right) u{\\left(z \\right)} v^{2}{\\left(z \\right)} + \\left(a_{1} {w}_{2} + 4 a_{2} {w}_{3} + 3 a_{3} {w}_{0} + 3 b_{1} {w}_{1} + 4 b_{2} {w}_{2} + b_{3} {w}_{3}\\right) u^{2}{\\left(z \\right)} v^{2}{\\left(z \\right)}$"
      ],
      "text/plain": [
       "Eq(Derivative(Kk(u(z), v(z)), z), a3*v(z)**2*beta/u(z) + b1*u(z)**2*beta/v(z) + (3*a1*w[0] + b1*w[3])*u(z)**4 + 2*(a2*s[1] + b2*s[2])*u(z)*v(z) + (a3*w[2] + 3*b3*w[1])*v(z)**4 + (2*a1*r[1] + b1*r[2] + 3*w[0])*u(z)**3 + (a1*s[1] + b1*s[2] + 2*r[1])*u(z)**2 + (a1*beta + 2*b2*beta + s[1])*u(z) + (2*a2*beta + b3*beta - s[2])*v(z) + (a3*r[2] + 2*b3*r[3] - 3*w[1])*v(z)**3 + (a3*s[1] + b3*s[2] - 2*r[3])*v(z)**2 + 2*(a1*w[3] + 3*a2*w[0] + b1*w[2] + b2*w[3])*u(z)**3*v(z) + 2*(a2*w[2] + a3*w[3] + 3*b2*w[1] + b3*w[2])*u(z)*v(z)**3 + (a1*r[2] + 4*a2*r[1] + 2*b1*r[3] + 2*b2*r[2] + w[3])*u(z)**2*v(z) + (2*a2*r[2] + 2*a3*r[1] + 4*b2*r[3] + b3*r[2] - w[2])*u(z)*v(z)**2 + (a1*w[2] + 4*a2*w[3] + 3*a3*w[0] + 3*b1*w[1] + 4*b2*w[2] + b3*w[3])*u(z)**2*v(z)**2)"
      ]
     },
     "execution_count": 20,
     "metadata": {},
     "output_type": "execute_result"
    }
   ],
   "source": [
    "uv_ratio_terms = [u(z)**2/v(z), v(z)**2/u(z)]\n",
    "uv4_terms = [u(z)**4,v(z)**4, u(z)*v(z)**3, v(z)*u(z)**3, v(z)**2*u(z)**2]\n",
    "uv3_terms = [u(z)**3,v(z)**3, u(z)*v(z)**2, v(z)*u(z)**2]\n",
    "uv2_terms = [u(z)*v(z), u(z)**2, v(z)**2]\n",
    "uv1_terms = [u(z), v(z)]\n",
    "\n",
    "\n",
    "dKuv_expanded = diff(Kuv_eq.rhs,z).subs([du_a.args, dv_b.args]).expand()\n",
    "dKuv_collected_ratio = [term * dKuv_expanded.coeff(term).factor() for term in uv_ratio_terms]\n",
    "dKuv_collected_4 = [term * dKuv_expanded.subs([(t,0) for t in uv_ratio_terms]).coeff(term).factor() for term in uv4_terms]\n",
    "dKuv_collected_3 = [term * dKuv_expanded.subs([(t,0) for t in (uv4_terms + uv_ratio_terms)]).coeff(term).factor() for term in uv3_terms]\n",
    "dKuv_collected_2 = [term * dKuv_expanded.subs([(t,0) for t in (uv4_terms+uv3_terms+uv_ratio_terms)]).coeff(term).factor() for term in uv2_terms]\n",
    "dKuv_collected_1 = [term * dKuv_expanded.subs([(t,0) for t in (uv4_terms+uv3_terms+uv2_terms+uv_ratio_terms)]).coeff(term).factor() \n",
    "                    for term in uv1_terms]\n",
    "dKuv_collected_0 = [dKuv_expanded.subs([(t,0) for t in uv_ratio_terms]).subs([(u(z),0),(v(z),0)])]\n",
    "dKuv_collected = sum(dKuv_collected_ratio+dKuv_collected_4 + dKuv_collected_3 + dKuv_collected_2 + dKuv_collected_1 + dKuv_collected_0)\n",
    "print((dKuv_collected - dKuv_expanded).expand() == 0)\n",
    "dKuv_eq = Eq(Derivative(Kuv_eq.lhs,z), dKuv_collected)\n",
    "dKuv_eq"
   ]
  },
  {
   "cell_type": "code",
   "execution_count": 21,
   "id": "bef547d1-ede6-4037-a385-d5aff8430451",
   "metadata": {},
   "outputs": [],
   "source": [
    "## General Conserved Function"
   ]
  },
  {
   "cell_type": "code",
   "execution_count": 22,
   "id": "ef77c7d6-0920-42cd-8e37-b835e9839a83",
   "metadata": {},
   "outputs": [
    {
     "data": {
      "text/latex": [
       "$\\displaystyle \\operatorname{Kk}{\\left(u{\\left(z \\right)},v{\\left(z \\right)} \\right)} = \\sum_{\\substack{-\\infty \\leq n \\leq \\infty\\\\-\\infty \\leq m \\leq \\infty}} u^{n}{\\left(z \\right)} v^{m}{\\left(z \\right)} {s}_{n,m}$"
      ],
      "text/plain": [
       "Eq(Kk(u(z), v(z)), Sum(u(z)**n*v(z)**m*s[n, m], (n, -oo, oo), (m, -oo, oo)))"
      ]
     },
     "execution_count": 22,
     "metadata": {},
     "output_type": "execute_result"
    }
   ],
   "source": [
    "Eq(Kk(u(z),v(z)),Sum(Sum(s[n,m]*u(z)**n*v(z)**m,(n,-oo,oo)),(m,-oo,oo)))"
   ]
  },
  {
   "cell_type": "code",
   "execution_count": 23,
   "id": "3b0134c6-25ad-4638-b691-7171cc38726a",
   "metadata": {},
   "outputs": [
    {
     "data": {
      "text/latex": [
       "$\\displaystyle \\frac{m u^{n}{\\left(z \\right)} v^{m}{\\left(z \\right)} \\frac{d}{d z} v{\\left(z \\right)}}{v{\\left(z \\right)}} + \\frac{n u^{n}{\\left(z \\right)} v^{m}{\\left(z \\right)} \\frac{d}{d z} u{\\left(z \\right)}}{u{\\left(z \\right)}}$"
      ],
      "text/plain": [
       "m*u(z)**n*v(z)**m*Derivative(v(z), z)/v(z) + n*u(z)**n*v(z)**m*Derivative(u(z), z)/u(z)"
      ]
     },
     "execution_count": 23,
     "metadata": {},
     "output_type": "execute_result"
    }
   ],
   "source": [
    "diff(u(z)**n*v(z)**m,z)"
   ]
  },
  {
   "cell_type": "code",
   "execution_count": 24,
   "id": "3a1c55b5-fd3c-4932-9fbe-6099ebd2629f",
   "metadata": {},
   "outputs": [],
   "source": [
    "Nu_low = Symbol('Nu_low')\n",
    "Nu_up = Symbol('Nu_up')\n",
    "Nv_low = Symbol('Nv_low')\n",
    "Nv_up = Symbol('Nv_up')"
   ]
  },
  {
   "cell_type": "code",
   "execution_count": 25,
   "id": "9d55f23c-9526-4bc3-86f0-f2c1f1610de8",
   "metadata": {},
   "outputs": [
    {
     "data": {
      "text/latex": [
       "$\\displaystyle \\frac{d}{d z} u{\\left(z \\right)} = \\sum_{\\substack{- \\mathrm{N}_{low} \\leq j \\leq \\mathrm{N}_{up}\\\\- Nv_{low} \\leq k \\leq Nv_{up}}} u^{j}{\\left(z \\right)} v^{k}{\\left(z \\right)} {su}_{j,k}$"
      ],
      "text/plain": [
       "Eq(Derivative(u(z), z), Sum(u(z)**j*v(z)**k*su[j, k], (j, -Nu_low, Nu_up), (k, -Nv_low, Nv_up)))"
      ]
     },
     "execution_count": 25,
     "metadata": {},
     "output_type": "execute_result"
    },
    {
     "data": {
      "text/latex": [
       "$\\displaystyle \\frac{d}{d z} v{\\left(z \\right)} = \\sum_{\\substack{- \\mathrm{N}_{low} \\leq j \\leq \\mathrm{N}_{up}\\\\- Nv_{low} \\leq k \\leq Nv_{up}}} u^{j}{\\left(z \\right)} v^{k}{\\left(z \\right)} {sv}_{j,k}$"
      ],
      "text/plain": [
       "Eq(Derivative(v(z), z), Sum(u(z)**j*v(z)**k*sv[j, k], (j, -Nu_low, Nu_up), (k, -Nv_low, Nv_up)))"
      ]
     },
     "execution_count": 25,
     "metadata": {},
     "output_type": "execute_result"
    }
   ],
   "source": [
    "du_su = Eq(diff(u(z),z), Sum(Sum(su[j,k]*u(z)**j*v(z)**k,(j,-Nu_low, Nu_up)), (k,-Nv_low, Nv_up)))\n",
    "dv_sv = Eq(diff(v(z),z), Sum(Sum(sv[j,k]*u(z)**j*v(z)**k,(j,-Nu_low, Nu_up)), (k,-Nv_low, Nv_up)))\n",
    "du_su\n",
    "dv_sv"
   ]
  },
  {
   "cell_type": "code",
   "execution_count": 26,
   "id": "c30be04b-61cd-4370-b0a9-67b82095652e",
   "metadata": {},
   "outputs": [
    {
     "data": {
      "text/latex": [
       "$\\displaystyle \\frac{d}{d z} \\operatorname{Kk}{\\left(u{\\left(z \\right)},v{\\left(z \\right)} \\right)} = \\sum_{\\substack{-\\infty \\leq n \\leq \\infty\\\\-\\infty \\leq m \\leq \\infty}} \\left(\\frac{m u^{n}{\\left(z \\right)} v^{m}{\\left(z \\right)} \\sum_{\\substack{- \\mathrm{N}_{low} \\leq j \\leq \\mathrm{N}_{up}\\\\- Nv_{low} \\leq k \\leq Nv_{up}}} u^{j}{\\left(z \\right)} v^{k}{\\left(z \\right)} {sv}_{j,k}}{v{\\left(z \\right)}} + \\frac{n u^{n}{\\left(z \\right)} v^{m}{\\left(z \\right)} \\sum_{\\substack{- \\mathrm{N}_{low} \\leq j \\leq \\mathrm{N}_{up}\\\\- Nv_{low} \\leq k \\leq Nv_{up}}} u^{j}{\\left(z \\right)} v^{k}{\\left(z \\right)} {su}_{j,k}}{u{\\left(z \\right)}}\\right) {s}_{n,m}$"
      ],
      "text/plain": [
       "Eq(Derivative(Kk(u(z), v(z)), z), Sum((m*u(z)**n*v(z)**m*Sum(u(z)**j*v(z)**k*sv[j, k], (j, -Nu_low, Nu_up), (k, -Nv_low, Nv_up))/v(z) + n*u(z)**n*v(z)**m*Sum(u(z)**j*v(z)**k*su[j, k], (j, -Nu_low, Nu_up), (k, -Nv_low, Nv_up))/u(z))*s[n, m], (n, -oo, oo), (m, -oo, oo)))"
      ]
     },
     "execution_count": 26,
     "metadata": {},
     "output_type": "execute_result"
    }
   ],
   "source": [
    "Kk_diff_s_general = Eq(Derivative(Kk(u(z),v(z)),z), \n",
    "                       Sum(Sum(s[n,m]*diff(u(z)**n*v(z)**m,z).doit().subs([du_su.args, dv_sv.args]),(n,-oo,oo)),(m,-oo,oo)))\n",
    "Kk_diff_s_general"
   ]
  },
  {
   "cell_type": "code",
   "execution_count": 27,
   "id": "27936e27-199e-4aa8-9e81-e9d96e5fa6af",
   "metadata": {},
   "outputs": [
    {
     "data": {
      "text/plain": [
       "(m*u(z)**n*v(z)**m*s[n, m]*Sum(u(z)**j*v(z)**k*sv[j, k], (j, -Nu_low, Nu_up), (k, -Nv_low, Nv_up))/v(z),\n",
       " n*u(z)**n*v(z)**m*s[n, m]*Sum(u(z)**j*v(z)**k*su[j, k], (j, -Nu_low, Nu_up), (k, -Nv_low, Nv_up))/u(z))"
      ]
     },
     "execution_count": 27,
     "metadata": {},
     "output_type": "execute_result"
    }
   ],
   "source": [
    "Add.make_args(Kk_diff_s_general.rhs.args[0].expand())"
   ]
  },
  {
   "cell_type": "code",
   "execution_count": 28,
   "id": "3adca77f-1be0-477d-a2a9-96577ba9b931",
   "metadata": {},
   "outputs": [
    {
     "data": {
      "text/latex": [
       "$\\displaystyle \\sum_{\\substack{- \\mathrm{N}_{low} \\leq j \\leq \\mathrm{N}_{up}\\\\- Nv_{low} \\leq k \\leq Nv_{up}\\\\-\\infty \\leq n \\leq \\infty\\\\-\\infty \\leq m \\leq \\infty}} \\left(- k + m + 1\\right) u^{n}{\\left(z \\right)} v^{m}{\\left(z \\right)} {s}_{- j + n,- k + m + 1} {sv}_{j,k}$"
      ],
      "text/plain": [
       "Sum((-k + m + 1)*u(z)**n*v(z)**m*s[-j + n, -k + m + 1]*sv[j, k], (j, -Nu_low, Nu_up), (k, -Nv_low, Nv_up), (n, -oo, oo), (m, -oo, oo))"
      ]
     },
     "execution_count": 28,
     "metadata": {},
     "output_type": "execute_result"
    },
    {
     "data": {
      "text/latex": [
       "$\\displaystyle \\sum_{\\substack{- \\mathrm{N}_{low} \\leq j \\leq \\mathrm{N}_{up}\\\\- Nv_{low} \\leq k \\leq Nv_{up}\\\\-\\infty \\leq n \\leq \\infty\\\\-\\infty \\leq m \\leq \\infty}} \\left(- j + n + 1\\right) u^{n}{\\left(z \\right)} v^{m}{\\left(z \\right)} {s}_{- j + n + 1,- k + m} {su}_{j,k}$"
      ],
      "text/plain": [
       "Sum((-j + n + 1)*u(z)**n*v(z)**m*s[-j + n + 1, -k + m]*su[j, k], (j, -Nu_low, Nu_up), (k, -Nv_low, Nv_up), (n, -oo, oo), (m, -oo, oo))"
      ]
     },
     "execution_count": 28,
     "metadata": {},
     "output_type": "execute_result"
    }
   ],
   "source": [
    "sum_term_1 = Sum(Sum(\n",
    "    Sum(Sum(\n",
    "        (m*u(z)**n*v(z)**m*s[n, m]*u(z)**j*v(z)**k*sv[j, k]/v(z)).powsimp().subs([(n,n-j),(m,m-k+1)]),\n",
    "            (j, -Nu_low, Nu_up)), \n",
    "        (k, -Nv_low, Nv_up))\n",
    "    ,(n,-oo,oo))\n",
    "    ,(m,-oo,oo))\n",
    "\n",
    "sum_term_2 = Sum(Sum(\n",
    "    Sum(Sum(\n",
    "        (n*u(z)**n*v(z)**m*s[n, m]*u(z)**j*v(z)**k*su[j, k]/u(z)).powsimp().subs([(n,n-j+1),(m,m-k)]),\n",
    "            (j, -Nu_low, Nu_up)), \n",
    "        (k, -Nv_low, Nv_up))\n",
    "    ,(n,-oo,oo))\n",
    "    ,(m,-oo,oo))\n",
    "\n",
    "sum_term_1\n",
    "sum_term_2"
   ]
  },
  {
   "cell_type": "code",
   "execution_count": 29,
   "id": "3fa84c2c-0ea2-40ff-88f9-a974e04130de",
   "metadata": {},
   "outputs": [
    {
     "data": {
      "text/latex": [
       "$\\displaystyle \\sum_{\\substack{-\\infty \\leq n \\leq \\infty\\\\-\\infty \\leq m \\leq \\infty}} u^{n}{\\left(z \\right)} v^{m}{\\left(z \\right)} \\sum_{\\substack{- \\mathrm{N}_{low} \\leq j \\leq \\mathrm{N}_{up}\\\\- Nv_{low} \\leq k \\leq Nv_{up}}} \\left(\\left(- j + n + 1\\right) {s}_{- j + n + 1,- k + m} {su}_{j,k} + \\left(- k + m + 1\\right) {s}_{- j + n,- k + m + 1} {sv}_{j,k}\\right)$"
      ],
      "text/plain": [
       "Sum(u(z)**n*v(z)**m*Sum((-j + n + 1)*s[-j + n + 1, -k + m]*su[j, k] + (-k + m + 1)*s[-j + n, -k + m + 1]*sv[j, k], (j, -Nu_low, Nu_up), (k, -Nv_low, Nv_up)), (n, -oo, oo), (m, -oo, oo))"
      ]
     },
     "execution_count": 29,
     "metadata": {},
     "output_type": "execute_result"
    }
   ],
   "source": [
    "Sum(Sum(Sum(Sum(\n",
    "    sum_term_1.args[0].subs([(u(z),1),(v(z),1)]) + sum_term_2.args[0].subs([(u(z),1),(v(z),1)])\n",
    "    ,(j, -Nu_low, Nu_up)),  (k, -Nv_low, Nv_up))*u(z)**n*v(z)**m,(n,-oo,oo))\n",
    "    ,(m,-oo,oo))"
   ]
  },
  {
   "cell_type": "code",
   "execution_count": 30,
   "id": "47657499-b933-4102-920a-c3083f9ccd7a",
   "metadata": {},
   "outputs": [
    {
     "data": {
      "text/latex": [
       "$\\displaystyle \\frac{d}{d z} \\operatorname{Kk}{\\left(u{\\left(z \\right)},v{\\left(z \\right)} \\right)} = \\sum_{\\substack{-\\infty \\leq n \\leq \\infty\\\\-\\infty \\leq m \\leq \\infty}} \\left(a_{1} n u^{n + 1}{\\left(z \\right)} v^{m}{\\left(z \\right)} + 2 a_{2} n u^{n}{\\left(z \\right)} v^{m + 1}{\\left(z \\right)} + a_{3} n u^{n - 1}{\\left(z \\right)} v^{m + 2}{\\left(z \\right)} + b_{1} m u^{n + 2}{\\left(z \\right)} v^{m - 1}{\\left(z \\right)} + 2 b_{2} m u^{n + 1}{\\left(z \\right)} v^{m}{\\left(z \\right)} + b_{3} m u^{n}{\\left(z \\right)} v^{m + 1}{\\left(z \\right)} - m u^{n}{\\left(z \\right)} v^{m}{\\left(z \\right)} + n u^{n}{\\left(z \\right)} v^{m}{\\left(z \\right)}\\right) {s}_{n,m}$"
      ],
      "text/plain": [
       "Eq(Derivative(Kk(u(z), v(z)), z), Sum((a1*n*u(z)**(n + 1)*v(z)**m + 2*a2*n*u(z)**n*v(z)**(m + 1) + a3*n*u(z)**(n - 1)*v(z)**(m + 2) + b1*m*u(z)**(n + 2)*v(z)**(m - 1) + 2*b2*m*u(z)**(n + 1)*v(z)**m + b3*m*u(z)**n*v(z)**(m + 1) - m*u(z)**n*v(z)**m + n*u(z)**n*v(z)**m)*s[n, m], (n, -oo, oo), (m, -oo, oo)))"
      ]
     },
     "execution_count": 30,
     "metadata": {},
     "output_type": "execute_result"
    }
   ],
   "source": [
    "Kk_big_sum_eq = Eq(Derivative(Kk(u(z),v(z)),z),\n",
    "                   Sum(Sum(s[n,m]*diff(u(z)**n*v(z)**m,z).doit().subs([du_a.args, dv_b.args]).expand().powsimp(),(n,-oo,oo)),(m,-oo,oo)))\n",
    "Kk_big_sum_eq"
   ]
  },
  {
   "cell_type": "code",
   "execution_count": 31,
   "id": "17543f0b-f8dc-4f6c-a822-8b53d8c0b7ef",
   "metadata": {},
   "outputs": [
    {
     "data": {
      "text/latex": [
       "$\\displaystyle \\sum_{\\substack{-\\infty \\leq n \\leq \\infty\\\\-\\infty \\leq m \\leq \\infty}} - m u^{n}{\\left(z \\right)} v^{m}{\\left(z \\right)} {s}_{n,m} + \\sum_{\\substack{-\\infty \\leq n \\leq \\infty\\\\-\\infty \\leq m \\leq \\infty}} n u^{n}{\\left(z \\right)} v^{m}{\\left(z \\right)} {s}_{n,m} + \\sum_{\\substack{-\\infty \\leq n \\leq \\infty\\\\-\\infty \\leq m \\leq \\infty}} a_{1} n u^{n + 1}{\\left(z \\right)} v^{m}{\\left(z \\right)} {s}_{n,m} + \\sum_{\\substack{-\\infty \\leq n \\leq \\infty\\\\-\\infty \\leq m \\leq \\infty}} 2 a_{2} n u^{n}{\\left(z \\right)} v^{m + 1}{\\left(z \\right)} {s}_{n,m} + \\sum_{\\substack{-\\infty \\leq n \\leq \\infty\\\\-\\infty \\leq m \\leq \\infty}} a_{3} n u^{n - 1}{\\left(z \\right)} v^{m + 2}{\\left(z \\right)} {s}_{n,m} + \\sum_{\\substack{-\\infty \\leq n \\leq \\infty\\\\-\\infty \\leq m \\leq \\infty}} b_{1} m u^{n + 2}{\\left(z \\right)} v^{m - 1}{\\left(z \\right)} {s}_{n,m} + \\sum_{\\substack{-\\infty \\leq n \\leq \\infty\\\\-\\infty \\leq m \\leq \\infty}} 2 b_{2} m u^{n + 1}{\\left(z \\right)} v^{m}{\\left(z \\right)} {s}_{n,m} + \\sum_{\\substack{-\\infty \\leq n \\leq \\infty\\\\-\\infty \\leq m \\leq \\infty}} b_{3} m u^{n}{\\left(z \\right)} v^{m + 1}{\\left(z \\right)} {s}_{n,m}$"
      ],
      "text/plain": [
       "Sum(-m*u(z)**n*v(z)**m*s[n, m], (n, -oo, oo), (m, -oo, oo)) + Sum(n*u(z)**n*v(z)**m*s[n, m], (n, -oo, oo), (m, -oo, oo)) + Sum(a1*n*u(z)**(n + 1)*v(z)**m*s[n, m], (n, -oo, oo), (m, -oo, oo)) + Sum(2*a2*n*u(z)**n*v(z)**(m + 1)*s[n, m], (n, -oo, oo), (m, -oo, oo)) + Sum(a3*n*u(z)**(n - 1)*v(z)**(m + 2)*s[n, m], (n, -oo, oo), (m, -oo, oo)) + Sum(b1*m*u(z)**(n + 2)*v(z)**(m - 1)*s[n, m], (n, -oo, oo), (m, -oo, oo)) + Sum(2*b2*m*u(z)**(n + 1)*v(z)**m*s[n, m], (n, -oo, oo), (m, -oo, oo)) + Sum(b3*m*u(z)**n*v(z)**(m + 1)*s[n, m], (n, -oo, oo), (m, -oo, oo))"
      ]
     },
     "execution_count": 31,
     "metadata": {},
     "output_type": "execute_result"
    }
   ],
   "source": [
    "Kk_big_sum_parts = [Sum(Sum(term,Kk_big_sum_eq.rhs.args[1]), Kk_big_sum_eq.rhs.args[2]) \n",
    "                    for term in Add.make_args(Kk_big_sum_eq.rhs.args[0].expand().collect([u(z),v(z)]))]\n",
    "Kk_big_sum_split = sum(Kk_big_sum_parts)\n",
    "Kk_big_sum_split          "
   ]
  },
  {
   "cell_type": "code",
   "execution_count": null,
   "id": "4d98bab7-12fe-4bd0-bb41-105ab92c1d9c",
   "metadata": {},
   "outputs": [],
   "source": []
  },
  {
   "cell_type": "markdown",
   "id": "415bb535-ded0-4a79-84eb-0143c90237e9",
   "metadata": {},
   "source": [
    "### No log terms case $\\beta=0$"
   ]
  },
  {
   "cell_type": "code",
   "execution_count": 32,
   "id": "2cd3e504-14ce-4b73-a3fe-efe18c298d0e",
   "metadata": {},
   "outputs": [
    {
     "data": {
      "text/latex": [
       "$\\displaystyle \\left(3 a_{1} {w}_{0} + b_{1} {w}_{3}\\right) u^{4}{\\left(z \\right)} + 2 \\left(a_{2} {s}_{1} + b_{2} {s}_{2}\\right) u{\\left(z \\right)} v{\\left(z \\right)} + \\left(a_{3} {w}_{2} + 3 b_{3} {w}_{1}\\right) v^{4}{\\left(z \\right)} + \\left(2 a_{1} {r}_{1} + b_{1} {r}_{2} + 3 {w}_{0}\\right) u^{3}{\\left(z \\right)} + \\left(a_{1} {s}_{1} + b_{1} {s}_{2} + 2 {r}_{1}\\right) u^{2}{\\left(z \\right)} + \\left(a_{3} {r}_{2} + 2 b_{3} {r}_{3} - 3 {w}_{1}\\right) v^{3}{\\left(z \\right)} + \\left(a_{3} {s}_{1} + b_{3} {s}_{2} - 2 {r}_{3}\\right) v^{2}{\\left(z \\right)} + 2 \\left(a_{1} {w}_{3} + 3 a_{2} {w}_{0} + b_{1} {w}_{2} + b_{2} {w}_{3}\\right) u^{3}{\\left(z \\right)} v{\\left(z \\right)} + 2 \\left(a_{2} {w}_{2} + a_{3} {w}_{3} + 3 b_{2} {w}_{1} + b_{3} {w}_{2}\\right) u{\\left(z \\right)} v^{3}{\\left(z \\right)} + \\left(a_{1} {r}_{2} + 4 a_{2} {r}_{1} + 2 b_{1} {r}_{3} + 2 b_{2} {r}_{2} + {w}_{3}\\right) u^{2}{\\left(z \\right)} v{\\left(z \\right)} + \\left(2 a_{2} {r}_{2} + 2 a_{3} {r}_{1} + 4 b_{2} {r}_{3} + b_{3} {r}_{2} - {w}_{2}\\right) u{\\left(z \\right)} v^{2}{\\left(z \\right)} + \\left(a_{1} {w}_{2} + 4 a_{2} {w}_{3} + 3 a_{3} {w}_{0} + 3 b_{1} {w}_{1} + 4 b_{2} {w}_{2} + b_{3} {w}_{3}\\right) u^{2}{\\left(z \\right)} v^{2}{\\left(z \\right)} + u{\\left(z \\right)} {s}_{1} - v{\\left(z \\right)} {s}_{2}$"
      ],
      "text/plain": [
       "(3*a1*w[0] + b1*w[3])*u(z)**4 + 2*(a2*s[1] + b2*s[2])*u(z)*v(z) + (a3*w[2] + 3*b3*w[1])*v(z)**4 + (2*a1*r[1] + b1*r[2] + 3*w[0])*u(z)**3 + (a1*s[1] + b1*s[2] + 2*r[1])*u(z)**2 + (a3*r[2] + 2*b3*r[3] - 3*w[1])*v(z)**3 + (a3*s[1] + b3*s[2] - 2*r[3])*v(z)**2 + 2*(a1*w[3] + 3*a2*w[0] + b1*w[2] + b2*w[3])*u(z)**3*v(z) + 2*(a2*w[2] + a3*w[3] + 3*b2*w[1] + b3*w[2])*u(z)*v(z)**3 + (a1*r[2] + 4*a2*r[1] + 2*b1*r[3] + 2*b2*r[2] + w[3])*u(z)**2*v(z) + (2*a2*r[2] + 2*a3*r[1] + 4*b2*r[3] + b3*r[2] - w[2])*u(z)*v(z)**2 + (a1*w[2] + 4*a2*w[3] + 3*a3*w[0] + 3*b1*w[1] + 4*b2*w[2] + b3*w[3])*u(z)**2*v(z)**2 + u(z)*s[1] - v(z)*s[2]"
      ]
     },
     "execution_count": 32,
     "metadata": {},
     "output_type": "execute_result"
    }
   ],
   "source": [
    "beta_0_sub = [(beta,0)]\n",
    "dKuv_cancelled = dKuv_eq.rhs.subs(beta_0_sub)\n",
    "dKuv_cancelled"
   ]
  },
  {
   "cell_type": "code",
   "execution_count": 33,
   "id": "962db5d0-97f9-4299-aa8d-a28fc24faef1",
   "metadata": {},
   "outputs": [],
   "source": [
    "s_sols_subs = [(s[1],0),(s[2],0)]\n",
    "r_13_sols_subs = [(r[1],0), (r[3],0)]"
   ]
  },
  {
   "cell_type": "code",
   "execution_count": 34,
   "id": "5f320ecf-c554-49b1-9e7d-30365e154ab9",
   "metadata": {},
   "outputs": [
    {
     "data": {
      "text/latex": [
       "$\\displaystyle \\left(3 a_{1} {w}_{0} + b_{1} {w}_{3}\\right) u^{4}{\\left(z \\right)} + \\left(a_{3} {r}_{2} - 3 {w}_{1}\\right) v^{3}{\\left(z \\right)} + \\left(a_{3} {w}_{2} + 3 b_{3} {w}_{1}\\right) v^{4}{\\left(z \\right)} + \\left(b_{1} {r}_{2} + 3 {w}_{0}\\right) u^{3}{\\left(z \\right)} + \\left(a_{1} {r}_{2} + 2 b_{2} {r}_{2} + {w}_{3}\\right) u^{2}{\\left(z \\right)} v{\\left(z \\right)} + \\left(2 a_{2} {r}_{2} + b_{3} {r}_{2} - {w}_{2}\\right) u{\\left(z \\right)} v^{2}{\\left(z \\right)} + 2 \\left(a_{1} {w}_{3} + 3 a_{2} {w}_{0} + b_{1} {w}_{2} + b_{2} {w}_{3}\\right) u^{3}{\\left(z \\right)} v{\\left(z \\right)} + 2 \\left(a_{2} {w}_{2} + a_{3} {w}_{3} + 3 b_{2} {w}_{1} + b_{3} {w}_{2}\\right) u{\\left(z \\right)} v^{3}{\\left(z \\right)} + \\left(a_{1} {w}_{2} + 4 a_{2} {w}_{3} + 3 a_{3} {w}_{0} + 3 b_{1} {w}_{1} + 4 b_{2} {w}_{2} + b_{3} {w}_{3}\\right) u^{2}{\\left(z \\right)} v^{2}{\\left(z \\right)}$"
      ],
      "text/plain": [
       "(3*a1*w[0] + b1*w[3])*u(z)**4 + (a3*r[2] - 3*w[1])*v(z)**3 + (a3*w[2] + 3*b3*w[1])*v(z)**4 + (b1*r[2] + 3*w[0])*u(z)**3 + (a1*r[2] + 2*b2*r[2] + w[3])*u(z)**2*v(z) + (2*a2*r[2] + b3*r[2] - w[2])*u(z)*v(z)**2 + 2*(a1*w[3] + 3*a2*w[0] + b1*w[2] + b2*w[3])*u(z)**3*v(z) + 2*(a2*w[2] + a3*w[3] + 3*b2*w[1] + b3*w[2])*u(z)*v(z)**3 + (a1*w[2] + 4*a2*w[3] + 3*a3*w[0] + 3*b1*w[1] + 4*b2*w[2] + b3*w[3])*u(z)**2*v(z)**2"
      ]
     },
     "execution_count": 34,
     "metadata": {},
     "output_type": "execute_result"
    }
   ],
   "source": [
    "dKuv_cancelled.subs(s_sols_subs).subs(r_13_sols_subs)"
   ]
  },
  {
   "cell_type": "code",
   "execution_count": 35,
   "id": "c0c640ab-e8b4-4ec1-ab05-c97f40790288",
   "metadata": {},
   "outputs": [
    {
     "data": {
      "text/latex": [
       "$\\displaystyle {w}_{0} = - \\frac{b_{1} {r}_{2}}{3}$"
      ],
      "text/plain": [
       "Eq(w[0], -b1*r[2]/3)"
      ]
     },
     "execution_count": 35,
     "metadata": {},
     "output_type": "execute_result"
    },
    {
     "data": {
      "text/latex": [
       "$\\displaystyle {w}_{1} = \\frac{a_{3} {r}_{2}}{3}$"
      ],
      "text/plain": [
       "Eq(w[1], a3*r[2]/3)"
      ]
     },
     "execution_count": 35,
     "metadata": {},
     "output_type": "execute_result"
    },
    {
     "data": {
      "text/latex": [
       "$\\displaystyle {w}_{2} = - b_{3} {r}_{2}$"
      ],
      "text/plain": [
       "Eq(w[2], -b3*r[2])"
      ]
     },
     "execution_count": 35,
     "metadata": {},
     "output_type": "execute_result"
    },
    {
     "data": {
      "text/latex": [
       "$\\displaystyle {w}_{3} = a_{1} {r}_{2}$"
      ],
      "text/plain": [
       "Eq(w[3], a1*r[2])"
      ]
     },
     "execution_count": 35,
     "metadata": {},
     "output_type": "execute_result"
    }
   ],
   "source": [
    "w_terms = [dKuv_cancelled.subs(s_sols_subs).subs(r_13_sols_subs).coeff(term).subs([(u(z),0), (v(z),0)]) \n",
    "           for term in [u(z)**3, v(z)**3, u(z)**4, v(z)**4]]\n",
    "w_terms_sols = solve(w_terms, [w[0],w[1],w[2],w[3]])\n",
    "w_sols_eqs = [Eq(k, w_terms_sols[k]) for k in w_terms_sols]\n",
    "w_sols_subs = [eq.args for eq in w_sols_eqs]\n",
    "for eq_ in w_sols_eqs:\n",
    "    eq_\n",
    "           "
   ]
  },
  {
   "cell_type": "code",
   "execution_count": 36,
   "id": "6d3a30aa-7ba5-4636-80a2-30c143cdf778",
   "metadata": {},
   "outputs": [
    {
     "data": {
      "text/latex": [
       "$\\displaystyle 4 \\left(a_{1} a_{2} - b_{2} b_{3}\\right) u^{2}{\\left(z \\right)} v^{2}{\\left(z \\right)} {r}_{2} + 2 \\left(a_{1}^{2} + a_{1} b_{2} - a_{2} b_{1} - b_{1} b_{3}\\right) u^{3}{\\left(z \\right)} v{\\left(z \\right)} {r}_{2} + 2 \\left(a_{1} a_{3} - a_{2} b_{3} + a_{3} b_{2} - b_{3}^{2}\\right) u{\\left(z \\right)} v^{3}{\\left(z \\right)} {r}_{2} + 2 \\left(a_{1} u{\\left(z \\right)} + a_{2} v{\\left(z \\right)} + b_{2} u{\\left(z \\right)} + b_{3} v{\\left(z \\right)}\\right) u{\\left(z \\right)} v{\\left(z \\right)} {r}_{2}$"
      ],
      "text/plain": [
       "4*(a1*a2 - b2*b3)*u(z)**2*v(z)**2*r[2] + 2*(a1**2 + a1*b2 - a2*b1 - b1*b3)*u(z)**3*v(z)*r[2] + 2*(a1*a3 - a2*b3 + a3*b2 - b3**2)*u(z)*v(z)**3*r[2] + 2*(a1*u(z) + a2*v(z) + b2*u(z) + b3*v(z))*u(z)*v(z)*r[2]"
      ]
     },
     "execution_count": 36,
     "metadata": {},
     "output_type": "execute_result"
    }
   ],
   "source": [
    "dKuv_cancelled.subs(s_sols_subs).subs(r_13_sols_subs).subs(w_sols_subs).expand().collect([u(z)**3, v(z)**3, u(z)**2*v(z)**2],factor)"
   ]
  },
  {
   "cell_type": "code",
   "execution_count": 37,
   "id": "1ff1907d-4c4b-4594-b7e6-f6d448860bba",
   "metadata": {},
   "outputs": [
    {
     "data": {
      "text/latex": [
       "$\\displaystyle 0$"
      ],
      "text/plain": [
       "0"
      ]
     },
     "execution_count": 37,
     "metadata": {},
     "output_type": "execute_result"
    }
   ],
   "source": [
    "b_sols_subs = [(b3,-a2),(b2,-a1)]\n",
    "dKuv_cancelled.subs(s_sols_subs).subs(r_13_sols_subs).subs(w_sols_subs).subs(b_sols_subs).expand().collect([u(z)**3, v(z)**3, u(z)**2*v(z)**2],factor)"
   ]
  },
  {
   "cell_type": "code",
   "execution_count": 38,
   "id": "edb4b421-d55e-44b3-b113-cae107334359",
   "metadata": {},
   "outputs": [
    {
     "data": {
      "text/latex": [
       "$\\displaystyle p = a_{1} u^{2}{\\left(z \\right)} v{\\left(z \\right)} + a_{2} u{\\left(z \\right)} v^{2}{\\left(z \\right)} + \\frac{a_{3} v^{3}{\\left(z \\right)}}{3} - \\frac{b_{1} u^{3}{\\left(z \\right)}}{3} + u{\\left(z \\right)} v{\\left(z \\right)}$"
      ],
      "text/plain": [
       "Eq(p, a1*u(z)**2*v(z) + a2*u(z)*v(z)**2 + a3*v(z)**3/3 - b1*u(z)**3/3 + u(z)*v(z))"
      ]
     },
     "execution_count": 38,
     "metadata": {},
     "output_type": "execute_result"
    }
   ],
   "source": [
    "p_conserved_case_A = (Kuv_eq.subs(s_sols_subs).subs(r_13_sols_subs).\n",
    "subs(w_sols_subs).subs(b_sols_subs).subs([(beta,0),(r[2],1)])).subs(Kk(u(z),v(z)),p)\n",
    "p_conserved_case_A"
   ]
  },
  {
   "cell_type": "code",
   "execution_count": 39,
   "id": "90cee0ba-7c5f-47e8-9533-35376ec8f961",
   "metadata": {},
   "outputs": [
    {
     "data": {
      "text/latex": [
       "$\\displaystyle \\frac{d}{d z} u{\\left(z \\right)} = a_{1} u^{2}{\\left(z \\right)} + 2 a_{2} u{\\left(z \\right)} v{\\left(z \\right)} + a_{3} v^{2}{\\left(z \\right)} + u{\\left(z \\right)}$"
      ],
      "text/plain": [
       "Eq(Derivative(u(z), z), a1*u(z)**2 + 2*a2*u(z)*v(z) + a3*v(z)**2 + u(z))"
      ]
     },
     "execution_count": 39,
     "metadata": {},
     "output_type": "execute_result"
    },
    {
     "data": {
      "text/latex": [
       "$\\displaystyle \\frac{d}{d z} v{\\left(z \\right)} = - 2 a_{1} u{\\left(z \\right)} v{\\left(z \\right)} - a_{2} v^{2}{\\left(z \\right)} + b_{1} u^{2}{\\left(z \\right)} - v{\\left(z \\right)}$"
      ],
      "text/plain": [
       "Eq(Derivative(v(z), z), -2*a1*u(z)*v(z) - a2*v(z)**2 + b1*u(z)**2 - v(z))"
      ]
     },
     "execution_count": 39,
     "metadata": {},
     "output_type": "execute_result"
    }
   ],
   "source": [
    "du_case_A = du_a\n",
    "dv_case_A = dv_b.subs(b_sols_subs)\n",
    "du_case_A\n",
    "dv_case_A"
   ]
  },
  {
   "cell_type": "code",
   "execution_count": 40,
   "id": "7d642285-6022-4da8-85b6-3f94fee13be4",
   "metadata": {},
   "outputs": [
    {
     "data": {
      "text/latex": [
       "$\\displaystyle 0$"
      ],
      "text/plain": [
       "0"
      ]
     },
     "execution_count": 40,
     "metadata": {},
     "output_type": "execute_result"
    }
   ],
   "source": [
    "diff(p_conserved_case_A.rhs,z).subs([du_case_A.args, dv_case_A.args]).expand()"
   ]
  },
  {
   "cell_type": "code",
   "execution_count": 41,
   "id": "bc4291af-462b-437a-99f6-3410744c52df",
   "metadata": {},
   "outputs": [
    {
     "data": {
      "text/latex": [
       "$\\displaystyle \\frac{d}{d z} u{\\left(z \\right)} v{\\left(z \\right)} = - a_{1} u^{2}{\\left(z \\right)} v{\\left(z \\right)} + a_{2} u{\\left(z \\right)} v^{2}{\\left(z \\right)} + a_{3} v^{3}{\\left(z \\right)} + b_{1} u^{3}{\\left(z \\right)}$"
      ],
      "text/plain": [
       "Eq(Derivative(u(z)*v(z), z), -a1*u(z)**2*v(z) + a2*u(z)*v(z)**2 + a3*v(z)**3 + b1*u(z)**3)"
      ]
     },
     "execution_count": 41,
     "metadata": {},
     "output_type": "execute_result"
    }
   ],
   "source": [
    "duv_case_A = Eq(Derivative(u(z)*v(z),z), diff(u(z)*v(z),z).doit().subs([du_case_A.args, dv_case_A.args]).expand())\n",
    "duv_case_A"
   ]
  },
  {
   "cell_type": "code",
   "execution_count": 42,
   "id": "d5b5941a-356b-4dcd-87ac-89cc9730e2cd",
   "metadata": {},
   "outputs": [
    {
     "data": {
      "text/latex": [
       "$\\displaystyle \\frac{d^{2}}{d z^{2}} u{\\left(z \\right)} v{\\left(z \\right)} = - 6 a_{1} a_{2} u^{2}{\\left(z \\right)} v^{2}{\\left(z \\right)} - 8 a_{1} a_{3} u{\\left(z \\right)} v^{3}{\\left(z \\right)} + 2 a_{1} b_{1} u^{4}{\\left(z \\right)} - a_{1} u^{2}{\\left(z \\right)} v{\\left(z \\right)} - 2 a_{2} a_{3} v^{4}{\\left(z \\right)} + 8 a_{2} b_{1} u^{3}{\\left(z \\right)} v{\\left(z \\right)} - a_{2} u{\\left(z \\right)} v^{2}{\\left(z \\right)} + 6 a_{3} b_{1} u^{2}{\\left(z \\right)} v^{2}{\\left(z \\right)} - 3 a_{3} v^{3}{\\left(z \\right)} + 3 b_{1} u^{3}{\\left(z \\right)}$"
      ],
      "text/plain": [
       "Eq(Derivative(u(z)*v(z), (z, 2)), -6*a1*a2*u(z)**2*v(z)**2 - 8*a1*a3*u(z)*v(z)**3 + 2*a1*b1*u(z)**4 - a1*u(z)**2*v(z) - 2*a2*a3*v(z)**4 + 8*a2*b1*u(z)**3*v(z) - a2*u(z)*v(z)**2 + 6*a3*b1*u(z)**2*v(z)**2 - 3*a3*v(z)**3 + 3*b1*u(z)**3)"
      ]
     },
     "execution_count": 42,
     "metadata": {},
     "output_type": "execute_result"
    }
   ],
   "source": [
    "duv2_case_A = Eq(Derivative(u(z)*v(z),z,2), \n",
    "                  diff(u(z)*v(z),z,2).doit().subs([du_case_A.args, dv_case_A.args]).expand().doit().subs([du_case_A.args, dv_case_A.args])\n",
    "                ).expand()\n",
    "duv2_case_A"
   ]
  },
  {
   "cell_type": "code",
   "execution_count": 43,
   "id": "1eea656a-a545-4392-a1d0-38240d1467a0",
   "metadata": {},
   "outputs": [
    {
     "data": {
      "text/latex": [
       "$\\displaystyle \\left(\\frac{d}{d z} u{\\left(z \\right)} v{\\left(z \\right)}\\right)^{2} = \\left(- a_{1} u^{2}{\\left(z \\right)} v{\\left(z \\right)} + a_{2} u{\\left(z \\right)} v^{2}{\\left(z \\right)} + a_{3} v^{3}{\\left(z \\right)} + b_{1} u^{3}{\\left(z \\right)}\\right)^{2}$"
      ],
      "text/plain": [
       "Eq(Derivative(u(z)*v(z), z)**2, (-a1*u(z)**2*v(z) + a2*u(z)*v(z)**2 + a3*v(z)**3 + b1*u(z)**3)**2)"
      ]
     },
     "execution_count": 43,
     "metadata": {},
     "output_type": "execute_result"
    }
   ],
   "source": [
    "duv_case_A_sqrd = Eq(duv_case_A.lhs**2, (duv_case_A.rhs**2))\n",
    "duv_case_A_sqrd"
   ]
  },
  {
   "cell_type": "code",
   "execution_count": 44,
   "id": "b0dbe635-ee01-4054-8dd3-ff4bce164718",
   "metadata": {},
   "outputs": [
    {
     "data": {
      "text/latex": [
       "$\\displaystyle 0 = - a_{1}^{2} u^{4}{\\left(z \\right)} v^{2}{\\left(z \\right)} - 2 a_{1} a_{2} u^{3}{\\left(z \\right)} v^{3}{\\left(z \\right)} - \\frac{2 a_{1} a_{3} u^{2}{\\left(z \\right)} v^{4}{\\left(z \\right)}}{3} + \\frac{2 a_{1} b_{1} u^{5}{\\left(z \\right)} v{\\left(z \\right)}}{3} - a_{2}^{2} u^{2}{\\left(z \\right)} v^{4}{\\left(z \\right)} - \\frac{2 a_{2} a_{3} u{\\left(z \\right)} v^{5}{\\left(z \\right)}}{3} + \\frac{2 a_{2} b_{1} u^{4}{\\left(z \\right)} v^{2}{\\left(z \\right)}}{3} - \\frac{a_{3}^{2} v^{6}{\\left(z \\right)}}{9} + \\frac{2 a_{3} b_{1} u^{3}{\\left(z \\right)} v^{3}{\\left(z \\right)}}{9} - \\frac{b_{1}^{2} u^{6}{\\left(z \\right)}}{9} + u^{2}{\\left(z \\right)} v^{2}{\\left(z \\right)} - 2 u{\\left(z \\right)} v{\\left(z \\right)} p + p^{2}$"
      ],
      "text/plain": [
       "Eq(0, -a1**2*u(z)**4*v(z)**2 - 2*a1*a2*u(z)**3*v(z)**3 - 2*a1*a3*u(z)**2*v(z)**4/3 + 2*a1*b1*u(z)**5*v(z)/3 - a2**2*u(z)**2*v(z)**4 - 2*a2*a3*u(z)*v(z)**5/3 + 2*a2*b1*u(z)**4*v(z)**2/3 - a3**2*v(z)**6/9 + 2*a3*b1*u(z)**3*v(z)**3/9 - b1**2*u(z)**6/9 + u(z)**2*v(z)**2 - 2*u(z)*v(z)*p + p**2)"
      ]
     },
     "execution_count": 44,
     "metadata": {},
     "output_type": "execute_result"
    }
   ],
   "source": [
    "p_conserved_0_case_A = Eq(0, (p_conserved_case_A.lhs-u(z)*v(z))**2 - (p_conserved_case_A.rhs-u(z)*v(z))**2).expand()\n",
    "p_conserved_0_case_A"
   ]
  },
  {
   "cell_type": "code",
   "execution_count": 45,
   "id": "33f57925-03a5-4344-bda8-684e34dac023",
   "metadata": {},
   "outputs": [
    {
     "data": {
      "text/latex": [
       "$\\displaystyle \\left(\\frac{d}{d z} u{\\left(z \\right)} v{\\left(z \\right)}\\right)^{2} = - a_{1}^{2} u^{4}{\\left(z \\right)} v^{2}{\\left(z \\right)} - 2 a_{1} a_{2} u^{3}{\\left(z \\right)} v^{3}{\\left(z \\right)} - \\frac{2 a_{1} a_{3} u^{2}{\\left(z \\right)} v^{4}{\\left(z \\right)}}{3} + \\frac{2 a_{1} b_{1} u^{5}{\\left(z \\right)} v{\\left(z \\right)}}{3} - a_{2}^{2} u^{2}{\\left(z \\right)} v^{4}{\\left(z \\right)} - \\frac{2 a_{2} a_{3} u{\\left(z \\right)} v^{5}{\\left(z \\right)}}{3} + \\frac{2 a_{2} b_{1} u^{4}{\\left(z \\right)} v^{2}{\\left(z \\right)}}{3} - \\frac{a_{3}^{2} v^{6}{\\left(z \\right)}}{9} + \\frac{2 a_{3} b_{1} u^{3}{\\left(z \\right)} v^{3}{\\left(z \\right)}}{9} - \\frac{b_{1}^{2} u^{6}{\\left(z \\right)}}{9} + \\left(- a_{1} u^{2}{\\left(z \\right)} v{\\left(z \\right)} + a_{2} u{\\left(z \\right)} v^{2}{\\left(z \\right)} + a_{3} v^{3}{\\left(z \\right)} + b_{1} u^{3}{\\left(z \\right)}\\right)^{2} + u^{2}{\\left(z \\right)} v^{2}{\\left(z \\right)} - 2 u{\\left(z \\right)} v{\\left(z \\right)} p + p^{2}$"
      ],
      "text/plain": [
       "Eq(Derivative(u(z)*v(z), z)**2, -a1**2*u(z)**4*v(z)**2 - 2*a1*a2*u(z)**3*v(z)**3 - 2*a1*a3*u(z)**2*v(z)**4/3 + 2*a1*b1*u(z)**5*v(z)/3 - a2**2*u(z)**2*v(z)**4 - 2*a2*a3*u(z)*v(z)**5/3 + 2*a2*b1*u(z)**4*v(z)**2/3 - a3**2*v(z)**6/9 + 2*a3*b1*u(z)**3*v(z)**3/9 - b1**2*u(z)**6/9 + (-a1*u(z)**2*v(z) + a2*u(z)*v(z)**2 + a3*v(z)**3 + b1*u(z)**3)**2 + u(z)**2*v(z)**2 - 2*u(z)*v(z)*p + p**2)"
      ]
     },
     "execution_count": 45,
     "metadata": {},
     "output_type": "execute_result"
    }
   ],
   "source": [
    "Eq(duv_case_A_sqrd.lhs, duv_case_A_sqrd.rhs + p_conserved_0_case_A.rhs)"
   ]
  },
  {
   "cell_type": "code",
   "execution_count": 46,
   "id": "11cd1559-0c9d-4c26-9878-1cc86f66a436",
   "metadata": {},
   "outputs": [],
   "source": [
    "rho1 = Symbol('rho1')\n",
    "rho2 = Symbol('rho2')\n",
    "rho3 = Symbol('rho3')\n",
    "rho4 = Symbol('rho4')\n",
    "rho5 = Symbol('rho5')\n",
    "rho6 = Symbol('rho6')\n",
    "rho7 = Symbol('rho7')"
   ]
  },
  {
   "cell_type": "code",
   "execution_count": 47,
   "id": "b5f00952-f9bb-49cb-b001-a2381b2c3d7f",
   "metadata": {},
   "outputs": [
    {
     "data": {
      "text/latex": [
       "$\\displaystyle \\frac{d}{d z} u{\\left(z \\right)} = \\alpha u{\\left(z \\right)} + \\delta u{\\left(z \\right)} v{\\left(z \\right)}$"
      ],
      "text/plain": [
       "Eq(Derivative(u(z), z), alpha*u(z) + delta*u(z)*v(z))"
      ]
     },
     "execution_count": 47,
     "metadata": {},
     "output_type": "execute_result"
    },
    {
     "data": {
      "text/latex": [
       "$\\displaystyle \\frac{d}{d z} v{\\left(z \\right)} = - \\alpha v{\\left(z \\right)} + \\delta u{\\left(z \\right)} v{\\left(z \\right)}$"
      ],
      "text/plain": [
       "Eq(Derivative(v(z), z), -alpha*v(z) + delta*u(z)*v(z))"
      ]
     },
     "execution_count": 47,
     "metadata": {},
     "output_type": "execute_result"
    }
   ],
   "source": [
    "du_lv = Eq(diff(u(z),z), alpha*u(z) + delta*u(z)*v(z))\n",
    "dv_lv = Eq(diff(v(z),z), -alpha*v(z) + delta*u(z)*v(z))\n",
    "du_lv\n",
    "dv_lv"
   ]
  },
  {
   "cell_type": "code",
   "execution_count": 48,
   "id": "18c89dc2-9f31-405f-8d3e-5f2949b8c07d",
   "metadata": {},
   "outputs": [
    {
     "data": {
      "text/latex": [
       "$\\displaystyle f{\\left(z \\right)} = \\rho_{3} u{\\left(z \\right)} + \\rho_{4} v{\\left(z \\right)}$"
      ],
      "text/plain": [
       "Eq(f(z), rho3*u(z) + rho4*v(z))"
      ]
     },
     "execution_count": 48,
     "metadata": {},
     "output_type": "execute_result"
    },
    {
     "data": {
      "text/latex": [
       "$\\displaystyle h{\\left(z \\right)} = \\frac{\\rho_{1} u{\\left(z \\right)} + \\rho_{2} v{\\left(z \\right)}}{\\rho_{3} u{\\left(z \\right)} + \\rho_{4} v{\\left(z \\right)}}$"
      ],
      "text/plain": [
       "Eq(h(z), (rho1*u(z) + rho2*v(z))/(rho3*u(z) + rho4*v(z)))"
      ]
     },
     "execution_count": 48,
     "metadata": {},
     "output_type": "execute_result"
    }
   ],
   "source": [
    "fuvxy = Eq(f(z), (rho3*u(z)+rho4*v(z)))\n",
    "huvxy = Eq(h(z), (rho1*u(z)+rho2*v(z))/(rho3*u(z)+rho4*v(z)))\n",
    "\n",
    "fuvxy\n",
    "huvxy"
   ]
  },
  {
   "cell_type": "code",
   "execution_count": 49,
   "id": "6bc7c1b8-9bd3-46b2-9ebb-70ec3f3e4e89",
   "metadata": {},
   "outputs": [
    {
     "data": {
      "text/latex": [
       "$\\displaystyle u{\\left(z \\right)} = \\frac{\\left(- \\rho_{2} + \\rho_{4} h{\\left(z \\right)}\\right) f{\\left(z \\right)}}{\\rho_{1} \\rho_{4} - \\rho_{2} \\rho_{3}}$"
      ],
      "text/plain": [
       "Eq(u(z), (-rho2 + rho4*h(z))*f(z)/(rho1*rho4 - rho2*rho3))"
      ]
     },
     "execution_count": 49,
     "metadata": {},
     "output_type": "execute_result"
    },
    {
     "data": {
      "text/latex": [
       "$\\displaystyle v{\\left(z \\right)} = \\frac{\\left(\\rho_{1} - \\rho_{3} h{\\left(z \\right)}\\right) f{\\left(z \\right)}}{\\rho_{1} \\rho_{4} - \\rho_{2} \\rho_{3}}$"
      ],
      "text/plain": [
       "Eq(v(z), (rho1 - rho3*h(z))*f(z)/(rho1*rho4 - rho2*rho3))"
      ]
     },
     "execution_count": 49,
     "metadata": {},
     "output_type": "execute_result"
    }
   ],
   "source": [
    "uv_bilinear_fh = solve([fuvxy,huvxy],[u(z),v(z)])\n",
    "uv_bilinear_fh_eqs = [Eq(_k, uv_bilinear_fh[_k]) for _k in uv_bilinear_fh]\n",
    "for eq in uv_bilinear_fh_eqs:\n",
    "    eq "
   ]
  },
  {
   "cell_type": "code",
   "execution_count": 50,
   "id": "cae78447-489b-4e86-bc98-5652fb41e1a3",
   "metadata": {},
   "outputs": [],
   "source": [
    "uv_as_fh_bilinear_subs = [(_k, uv_bilinear_fh[_k]) for _k in uv_bilinear_fh]\n",
    "fh_diff_sols = solve([\n",
    "    du_lv.subs(uv_as_fh_bilinear_subs).doit(),dv_lv.subs(uv_as_fh_bilinear_subs).doit()\n",
    "],[diff(f(z),z), diff(h(z),z)])"
   ]
  },
  {
   "cell_type": "code",
   "execution_count": 51,
   "id": "9f22b7a2-2ddc-40b9-9d08-a1feb5680500",
   "metadata": {
    "scrolled": true
   },
   "outputs": [
    {
     "data": {
      "text/latex": [
       "$\\displaystyle \\frac{d}{d z} f{\\left(z \\right)} = \\frac{2 \\alpha \\rho_{3} \\rho_{4} f{\\left(z \\right)} h{\\left(z \\right)}}{\\rho_{1} \\rho_{4} - \\rho_{2} \\rho_{3}} - \\frac{\\delta \\rho_{1} \\rho_{2} \\left(\\rho_{3} + \\rho_{4}\\right) f^{2}{\\left(z \\right)}}{\\left(\\rho_{1} \\rho_{4} - \\rho_{2} \\rho_{3}\\right)^{2}} - \\frac{\\delta \\rho_{3} \\rho_{4} \\left(\\rho_{3} + \\rho_{4}\\right) f^{2}{\\left(z \\right)} h^{2}{\\left(z \\right)}}{\\left(\\rho_{1} \\rho_{4} - \\rho_{2} \\rho_{3}\\right)^{2}} + \\frac{\\left(\\rho_{1} \\rho_{4} + \\rho_{2} \\rho_{3}\\right) \\left(- \\alpha \\rho_{1} \\rho_{4} + \\alpha \\rho_{2} \\rho_{3} + \\delta \\rho_{3} f{\\left(z \\right)} h{\\left(z \\right)} + \\delta \\rho_{4} f{\\left(z \\right)} h{\\left(z \\right)}\\right) f{\\left(z \\right)}}{\\left(\\rho_{1} \\rho_{4} - \\rho_{2} \\rho_{3}\\right)^{2}}$"
      ],
      "text/plain": [
       "Eq(Derivative(f(z), z), 2*alpha*rho3*rho4*f(z)*h(z)/(rho1*rho4 - rho2*rho3) - delta*rho1*rho2*(rho3 + rho4)*f(z)**2/(rho1*rho4 - rho2*rho3)**2 - delta*rho3*rho4*(rho3 + rho4)*f(z)**2*h(z)**2/(rho1*rho4 - rho2*rho3)**2 + (rho1*rho4 + rho2*rho3)*(-alpha*rho1*rho4 + alpha*rho2*rho3 + delta*rho3*f(z)*h(z) + delta*rho4*f(z)*h(z))*f(z)/(rho1*rho4 - rho2*rho3)**2)"
      ]
     },
     "execution_count": 51,
     "metadata": {},
     "output_type": "execute_result"
    },
    {
     "data": {
      "text/latex": [
       "$\\displaystyle \\frac{d}{d z} h{\\left(z \\right)} = - \\frac{2 \\alpha \\rho_{1} \\rho_{2}}{\\rho_{1} \\rho_{4} - \\rho_{2} \\rho_{3}} - \\frac{\\delta \\rho_{1} \\rho_{2} \\left(\\rho_{1} + \\rho_{2}\\right) f{\\left(z \\right)}}{\\left(\\rho_{1} \\rho_{4} - \\rho_{2} \\rho_{3}\\right)^{2}} + \\frac{\\delta \\left(\\rho_{1}^{2} \\rho_{4} + 2 \\rho_{1} \\rho_{2} \\rho_{3} + 2 \\rho_{1} \\rho_{2} \\rho_{4} + \\rho_{2}^{2} \\rho_{3}\\right) f{\\left(z \\right)} h{\\left(z \\right)}}{\\left(\\rho_{1} \\rho_{4} - \\rho_{2} \\rho_{3}\\right)^{2}} + \\frac{\\rho_{3} \\rho_{4} \\left(- 2 \\alpha \\rho_{1} \\rho_{4} + 2 \\alpha \\rho_{2} \\rho_{3} + \\delta \\rho_{3} f{\\left(z \\right)} h{\\left(z \\right)} + \\delta \\rho_{4} f{\\left(z \\right)} h{\\left(z \\right)}\\right) h^{2}{\\left(z \\right)}}{\\left(\\rho_{1} \\rho_{4} - \\rho_{2} \\rho_{3}\\right)^{2}} - \\frac{\\left(- 2 \\alpha \\rho_{1}^{2} \\rho_{4}^{2} + 2 \\alpha \\rho_{2}^{2} \\rho_{3}^{2} + 2 \\delta \\rho_{1} \\rho_{3} \\rho_{4} f{\\left(z \\right)} h{\\left(z \\right)} + \\delta \\rho_{1} \\rho_{4}^{2} f{\\left(z \\right)} h{\\left(z \\right)} + \\delta \\rho_{2} \\rho_{3}^{2} f{\\left(z \\right)} h{\\left(z \\right)} + 2 \\delta \\rho_{2} \\rho_{3} \\rho_{4} f{\\left(z \\right)} h{\\left(z \\right)}\\right) h{\\left(z \\right)}}{\\left(\\rho_{1} \\rho_{4} - \\rho_{2} \\rho_{3}\\right)^{2}}$"
      ],
      "text/plain": [
       "Eq(Derivative(h(z), z), -2*alpha*rho1*rho2/(rho1*rho4 - rho2*rho3) - delta*rho1*rho2*(rho1 + rho2)*f(z)/(rho1*rho4 - rho2*rho3)**2 + delta*(rho1**2*rho4 + 2*rho1*rho2*rho3 + 2*rho1*rho2*rho4 + rho2**2*rho3)*f(z)*h(z)/(rho1*rho4 - rho2*rho3)**2 + rho3*rho4*(-2*alpha*rho1*rho4 + 2*alpha*rho2*rho3 + delta*rho3*f(z)*h(z) + delta*rho4*f(z)*h(z))*h(z)**2/(rho1*rho4 - rho2*rho3)**2 - (-2*alpha*rho1**2*rho4**2 + 2*alpha*rho2**2*rho3**2 + 2*delta*rho1*rho3*rho4*f(z)*h(z) + delta*rho1*rho4**2*f(z)*h(z) + delta*rho2*rho3**2*f(z)*h(z) + 2*delta*rho2*rho3*rho4*f(z)*h(z))*h(z)/(rho1*rho4 - rho2*rho3)**2)"
      ]
     },
     "execution_count": 51,
     "metadata": {},
     "output_type": "execute_result"
    }
   ],
   "source": [
    "fh_eqs_blin_factored = [Eq(_k, fh_diff_sols[_k].simplify().expand().collect([f(z),h(z), f(z)*h(z)], factor)) for _k in fh_diff_sols]\n",
    "for eq in fh_eqs_blin_factored:\n",
    "    eq"
   ]
  },
  {
   "cell_type": "code",
   "execution_count": 52,
   "id": "8f08794b-d4a2-4d71-bba5-227375c502ab",
   "metadata": {},
   "outputs": [],
   "source": [
    "rho_subs = [(rho4, -rho3), (rho2, rho1)]"
   ]
  },
  {
   "cell_type": "code",
   "execution_count": 53,
   "id": "d58524ed-d079-436c-83f0-5fb8df522332",
   "metadata": {},
   "outputs": [
    {
     "data": {
      "text/latex": [
       "$\\displaystyle \\frac{d}{d z} f{\\left(z \\right)} = \\frac{\\alpha \\rho_{3} f{\\left(z \\right)} h{\\left(z \\right)}}{\\rho_{1}}$"
      ],
      "text/plain": [
       "Eq(Derivative(f(z), z), alpha*rho3*f(z)*h(z)/rho1)"
      ]
     },
     "execution_count": 53,
     "metadata": {},
     "output_type": "execute_result"
    }
   ],
   "source": [
    "fh1_eq = fh_eqs_blin_factored[0].subs(rho_subs).simplify()\n",
    "fh1_eq"
   ]
  },
  {
   "cell_type": "code",
   "execution_count": 54,
   "id": "98c56a41-0401-440d-abb4-ec4fa433c21f",
   "metadata": {},
   "outputs": [
    {
     "data": {
      "text/latex": [
       "$\\displaystyle \\frac{d}{d z} h{\\left(z \\right)} = - \\frac{\\left(- \\rho_{1} + \\rho_{3} h{\\left(z \\right)}\\right) \\left(\\rho_{1} + \\rho_{3} h{\\left(z \\right)}\\right) \\left(2 \\alpha \\rho_{3} - \\delta f{\\left(z \\right)}\\right)}{2 \\rho_{1} \\rho_{3}^{2}}$"
      ],
      "text/plain": [
       "Eq(Derivative(h(z), z), -(-rho1 + rho3*h(z))*(rho1 + rho3*h(z))*(2*alpha*rho3 - delta*f(z))/(2*rho1*rho3**2))"
      ]
     },
     "execution_count": 54,
     "metadata": {},
     "output_type": "execute_result"
    }
   ],
   "source": [
    "fh2_eq = fh_eqs_blin_factored[1].subs(rho_subs).simplify()\n",
    "fh2_eq = Eq(fh2_eq.lhs, fh2_eq.rhs.factor())\n",
    "fh2_eq"
   ]
  },
  {
   "cell_type": "code",
   "execution_count": 55,
   "id": "325ea194-2ec5-4c08-b7b3-a4be01dc7f3d",
   "metadata": {},
   "outputs": [
    {
     "data": {
      "text/latex": [
       "$\\displaystyle - 2 \\alpha^{3} \\rho_{1} \\rho_{3} f{\\left(z \\right)} + \\alpha^{2} \\delta \\rho_{1} f^{2}{\\left(z \\right)} + 2 \\alpha \\rho_{1} \\rho_{3} \\frac{d^{2}}{d z^{2}} f{\\left(z \\right)} - \\delta \\rho_{1} \\left(\\frac{d}{d z} f{\\left(z \\right)}\\right)^{2} = 0$"
      ],
      "text/plain": [
       "Eq(-2*alpha**3*rho1*rho3*f(z) + alpha**2*delta*rho1*f(z)**2 + 2*alpha*rho1*rho3*Derivative(f(z), (z, 2)) - delta*rho1*Derivative(f(z), z)**2, 0)"
      ]
     },
     "execution_count": 55,
     "metadata": {},
     "output_type": "execute_result"
    }
   ],
   "source": [
    "dff = fh2_eq.expand().subs(h(z),solve(fh1_eq,h(z))[0]).doit()\n",
    "dff = Eq(((dff.lhs - dff.rhs)*f(z)*rho3**2*alpha**2*2).expand(), 0)\n",
    "dff"
   ]
  },
  {
   "cell_type": "code",
   "execution_count": 56,
   "id": "efaf5406-feb0-4453-93be-bd92b484bffd",
   "metadata": {},
   "outputs": [
    {
     "data": {
      "text/latex": [
       "$\\displaystyle - \\alpha^{2} \\rho_{1} \\cdot \\left(2 \\alpha \\rho_{3} - \\delta u^{x}{\\left(z \\right)}\\right) u^{x}{\\left(z \\right)} + \\frac{2 \\alpha \\rho_{1} \\rho_{3} x u^{x}{\\left(z \\right)} \\frac{d^{2}}{d z^{2}} u{\\left(z \\right)}}{u{\\left(z \\right)}} + \\frac{\\rho_{1} x \\left(2 \\alpha \\rho_{3} x - 2 \\alpha \\rho_{3} - \\delta x u^{x}{\\left(z \\right)}\\right) u^{x}{\\left(z \\right)} \\left(\\frac{d}{d z} u{\\left(z \\right)}\\right)^{2}}{u^{2}{\\left(z \\right)}}$"
      ],
      "text/plain": [
       "-alpha**2*rho1*(2*alpha*rho3 - delta*u(z)**x)*u(z)**x + 2*alpha*rho1*rho3*x*u(z)**x*Derivative(u(z), (z, 2))/u(z) + rho1*x*(2*alpha*rho3*x - 2*alpha*rho3 - delta*x*u(z)**x)*u(z)**x*Derivative(u(z), z)**2/u(z)**2"
      ]
     },
     "execution_count": 56,
     "metadata": {},
     "output_type": "execute_result"
    }
   ],
   "source": [
    "dff.subs(f(z),u(z)**x).doit().lhs.expand().collect(diff(u(z),z),factor)"
   ]
  },
  {
   "cell_type": "code",
   "execution_count": 57,
   "id": "5244aa94-c6d0-433b-b3de-255482ee465a",
   "metadata": {},
   "outputs": [
    {
     "data": {
      "text/latex": [
       "$\\displaystyle \\frac{d}{d z} \\operatorname{Kk}{\\left(u{\\left(z \\right)},v{\\left(z \\right)} \\right)} = a_{2} v{\\left(z \\right)} \\beta + \\left(a_{2} {r}_{2} - {w}_{2}\\right) u{\\left(z \\right)} v^{2}{\\left(z \\right)}$"
      ],
      "text/plain": [
       "Eq(Derivative(Kk(u(z), v(z)), z), a2*v(z)*beta + (a2*r[2] - w[2])*u(z)*v(z)**2)"
      ]
     },
     "execution_count": 57,
     "metadata": {},
     "output_type": "execute_result"
    }
   ],
   "source": [
    "dKuv_eq.subs([(a3,0),(b1,0)]).subs([(w[0],0),(w[1],0)]).subs([(r[1],0),(r[3],0)]).subs([(s[1],0),(s[2],0)]).subs([(b2,0),(a1,0)]).subs(w[3],0).subs(b3,-a2)"
   ]
  },
  {
   "cell_type": "code",
   "execution_count": 58,
   "id": "8e9c6e4e-ffdd-4573-ac57-06fa8a4eef08",
   "metadata": {},
   "outputs": [
    {
     "data": {
      "text/latex": [
       "$\\displaystyle \\frac{a_{3} v^{2}{\\left(z \\right)}}{u{\\left(z \\right)}} + \\frac{b_{1} u^{2}{\\left(z \\right)}}{v{\\left(z \\right)}}$"
      ],
      "text/plain": [
       "a3*v(z)**2/u(z) + b1*u(z)**2/v(z)"
      ]
     },
     "execution_count": 58,
     "metadata": {},
     "output_type": "execute_result"
    }
   ],
   "source": [
    "dKuv_eq.rhs.coeff(beta)"
   ]
  },
  {
   "cell_type": "code",
   "execution_count": null,
   "id": "9014162c-0581-4658-b13b-71362a42fe2d",
   "metadata": {},
   "outputs": [],
   "source": []
  },
  {
   "cell_type": "code",
   "execution_count": 59,
   "id": "1bdc5eb4-96ee-43dd-a641-008826d27679",
   "metadata": {},
   "outputs": [
    {
     "data": {
      "text/latex": [
       "$\\displaystyle \\frac{d}{d u{\\left(z \\right)}} \\operatorname{Kk}{\\left(u{\\left(z \\right)},v{\\left(z \\right)} \\right)} \\frac{d}{d z} u{\\left(z \\right)} + \\frac{d}{d v{\\left(z \\right)}} \\operatorname{Kk}{\\left(u{\\left(z \\right)},v{\\left(z \\right)} \\right)} \\frac{d}{d z} v{\\left(z \\right)}$"
      ],
      "text/plain": [
       "Derivative(Kk(u(z), v(z)), u(z))*Derivative(u(z), z) + Derivative(Kk(u(z), v(z)), v(z))*Derivative(v(z), z)"
      ]
     },
     "execution_count": 59,
     "metadata": {},
     "output_type": "execute_result"
    }
   ],
   "source": [
    "diff(Kk(u(z),v(z)),z)"
   ]
  },
  {
   "cell_type": "code",
   "execution_count": 61,
   "id": "c58bbe53-7e24-4854-a053-ab7abb767cb2",
   "metadata": {},
   "outputs": [
    {
     "data": {
      "text/latex": [
       "$\\displaystyle \\frac{d}{d z} u{\\left(z \\right)} = \\alpha u{\\left(z \\right)} + \\delta u{\\left(z \\right)} v{\\left(z \\right)}$"
      ],
      "text/plain": [
       "Eq(Derivative(u(z), z), alpha*u(z) + delta*u(z)*v(z))"
      ]
     },
     "execution_count": 61,
     "metadata": {},
     "output_type": "execute_result"
    },
    {
     "data": {
      "text/latex": [
       "$\\displaystyle \\frac{d}{d z} v{\\left(z \\right)} = - \\alpha v{\\left(z \\right)} + \\delta u{\\left(z \\right)} v{\\left(z \\right)}$"
      ],
      "text/plain": [
       "Eq(Derivative(v(z), z), -alpha*v(z) + delta*u(z)*v(z))"
      ]
     },
     "execution_count": 61,
     "metadata": {},
     "output_type": "execute_result"
    }
   ],
   "source": [
    "du_lv\n",
    "dv_lv"
   ]
  },
  {
   "cell_type": "code",
   "execution_count": 62,
   "id": "91092ef5-8e69-4fec-89a3-a527b5484aaf",
   "metadata": {},
   "outputs": [
    {
     "data": {
      "text/latex": [
       "$\\displaystyle \\left(\\alpha u{\\left(z \\right)} + \\delta u{\\left(z \\right)} v{\\left(z \\right)}\\right) \\frac{d}{d u{\\left(z \\right)}} \\operatorname{Kk}{\\left(u{\\left(z \\right)},v{\\left(z \\right)} \\right)} + \\left(- \\alpha v{\\left(z \\right)} + \\delta u{\\left(z \\right)} v{\\left(z \\right)}\\right) \\frac{d}{d v{\\left(z \\right)}} \\operatorname{Kk}{\\left(u{\\left(z \\right)},v{\\left(z \\right)} \\right)}$"
      ],
      "text/plain": [
       "(alpha*u(z) + delta*u(z)*v(z))*Derivative(Kk(u(z), v(z)), u(z)) + (-alpha*v(z) + delta*u(z)*v(z))*Derivative(Kk(u(z), v(z)), v(z))"
      ]
     },
     "execution_count": 62,
     "metadata": {},
     "output_type": "execute_result"
    }
   ],
   "source": [
    "diff(Kk(u(z),v(z)),z).subs([du_lv.args, dv_lv.args])"
   ]
  },
  {
   "cell_type": "code",
   "execution_count": 67,
   "id": "ee793071-df00-4fbd-b4b5-ee6c5a5bd7d6",
   "metadata": {},
   "outputs": [
    {
     "data": {
      "text/latex": [
       "$\\displaystyle \\frac{1}{y} + \\frac{1}{x}$"
      ],
      "text/plain": [
       "1/y + 1/x"
      ]
     },
     "execution_count": 67,
     "metadata": {},
     "output_type": "execute_result"
    }
   ],
   "source": [
    "xy_eq = ln(x*y) #x-y\n",
    "diff(xy_eq,x)+ diff(xy_eq,y)"
   ]
  },
  {
   "cell_type": "code",
   "execution_count": 68,
   "id": "3632a7c6-67f8-4c5c-99e6-f8a51fea79a8",
   "metadata": {},
   "outputs": [
    {
     "data": {
      "text/latex": [
       "$\\displaystyle f{\\left(z \\right)} = \\frac{\\alpha + \\delta v{\\left(z \\right)}}{v{\\left(z \\right)}}$"
      ],
      "text/plain": [
       "Eq(f(z), (alpha + delta*v(z))/v(z))"
      ]
     },
     "execution_count": 68,
     "metadata": {},
     "output_type": "execute_result"
    },
    {
     "data": {
      "text/latex": [
       "$\\displaystyle h{\\left(z \\right)} = \\frac{u{\\left(z \\right)}}{- \\alpha + u{\\left(z \\right)}}$"
      ],
      "text/plain": [
       "Eq(h(z), u(z)/(-alpha + u(z)))"
      ]
     },
     "execution_count": 68,
     "metadata": {},
     "output_type": "execute_result"
    }
   ],
   "source": [
    "solve([Eq(f(z),(delta*v(z)+alpha)/v(z)),\n",
    "Eq(h(z),u(z)/(-alpha+u(z)))],[]"
   ]
  },
  {
   "cell_type": "code",
   "execution_count": 75,
   "id": "94f87daa-d119-4b9f-b899-f66122ca1c7e",
   "metadata": {},
   "outputs": [
    {
     "data": {
      "text/latex": [
       "$\\displaystyle 2 x \\left. \\frac{d}{d \\xi_{1}} f{\\left(\\xi_{1} \\right)} \\right|_{\\substack{ \\xi_{1}=x^{2} }}$"
      ],
      "text/plain": [
       "2*x*Subs(Derivative(f(_xi_1), _xi_1), _xi_1, x**2)"
      ]
     },
     "execution_count": 75,
     "metadata": {},
     "output_type": "execute_result"
    }
   ],
   "source": [
    "diff(f(x**2),x)"
   ]
  },
  {
   "cell_type": "code",
   "execution_count": 70,
   "id": "2c7e5419-15fc-44f5-8583-e62ffb4a3f54",
   "metadata": {},
   "outputs": [
    {
     "data": {
      "text/plain": [
       "[alpha*h(z)/(h(z) - 1)]"
      ]
     },
     "execution_count": 70,
     "metadata": {},
     "output_type": "execute_result"
    }
   ],
   "source": [
    "solve(Eq(h(z),u(z)/(-alpha+u(z))),u(z))"
   ]
  },
  {
   "cell_type": "code",
   "execution_count": 73,
   "id": "56f00f58-ec83-4da5-a91a-3425a5568f78",
   "metadata": {},
   "outputs": [
    {
     "data": {
      "text/latex": [
       "$\\displaystyle \\frac{d}{d z} h{\\left(z \\right)} = \\frac{\\alpha \\left(h{\\left(z \\right)} - 1\\right) f{\\left(z \\right)} h{\\left(z \\right)}}{\\delta - f{\\left(z \\right)}}$"
      ],
      "text/plain": [
       "Eq(Derivative(h(z), z), alpha*(h(z) - 1)*f(z)*h(z)/(delta - f(z)))"
      ]
     },
     "execution_count": 73,
     "metadata": {},
     "output_type": "execute_result"
    }
   ],
   "source": [
    "Eq(diff(h(z),z),solve(du_lv.subs([(v(z), -alpha/(delta - f(z))), (u(z), alpha*h(z)/(h(z) - 1))]).doit(), diff(h(z),z))[0])"
   ]
  },
  {
   "cell_type": "code",
   "execution_count": 74,
   "id": "8fc8c876-344f-4403-9f93-94189aa1d971",
   "metadata": {},
   "outputs": [
    {
     "data": {
      "text/latex": [
       "$\\displaystyle \\frac{d}{d z} f{\\left(z \\right)} = \\frac{\\alpha \\left(\\delta - f{\\left(z \\right)}\\right) \\left(\\delta h{\\left(z \\right)} - h{\\left(z \\right)} + 1\\right)}{h{\\left(z \\right)} - 1}$"
      ],
      "text/plain": [
       "Eq(Derivative(f(z), z), alpha*(delta - f(z))*(delta*h(z) - h(z) + 1)/(h(z) - 1))"
      ]
     },
     "execution_count": 74,
     "metadata": {},
     "output_type": "execute_result"
    }
   ],
   "source": [
    "Eq(diff(f(z),z),solve(dv_lv.subs([(v(z), -alpha/(delta - f(z))), (u(z), alpha*h(z)/(h(z) - 1))]).doit(), diff(f(z),z))[0])"
   ]
  },
  {
   "cell_type": "code",
   "execution_count": null,
   "id": "90170170-bc9a-4656-872d-54e287cbc032",
   "metadata": {},
   "outputs": [],
   "source": []
  }
 ],
 "metadata": {
  "kernelspec": {
   "display_name": "Python 3 (ipykernel)",
   "language": "python",
   "name": "python3"
  },
  "language_info": {
   "codemirror_mode": {
    "name": "ipython",
    "version": 3
   },
   "file_extension": ".py",
   "mimetype": "text/x-python",
   "name": "python",
   "nbconvert_exporter": "python",
   "pygments_lexer": "ipython3",
   "version": "3.10.13"
  }
 },
 "nbformat": 4,
 "nbformat_minor": 5
}
