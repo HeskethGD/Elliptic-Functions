{
 "cells": [
  {
   "cell_type": "markdown",
   "id": "fba6e501",
   "metadata": {},
   "source": [
    "# On the integral representation of the Kronecker theta function\n",
    "\n",
    "Important paper that inspired the quadrant idea for appropriate collection of terms and use of symmetries to establish a convergent integral.  https://www.sciencedirect.com/science/article/pii/S0022247X05003719?ref=pdf_download&fr=RR-2&rr=8744281078b16f49\n",
    "\n",
    "That paper also cites these:\n",
    "https://cpsc.yale.edu/sites/default/files/files/tr533.pdf\n",
    "\n",
    "\n",
    "These may also be interesting:\n",
    "\n",
    "https://core.ac.uk/reader/77006820\n"
   ]
  },
  {
   "cell_type": "code",
   "execution_count": 170,
   "id": "11635465",
   "metadata": {},
   "outputs": [],
   "source": [
    "from sympy import *\n",
    "from sympy.core.assumptions import assumptions\n",
    "(xi, eta, u, tau, N, M, K, n, m, k, l, z, x, y, t, p, q, a, w, v, s, g2, g3, \n",
    " omega1, omega2, omega3, x1, x2, T, R, alpha, beta, mu, nu, kappa, Lambda, phi, Phi\n",
    ") = symbols(\n",
    "    '''\n",
    "    xi, eta, u, tau, N, M, K, n, m, k, l, z, x, y, t, p, q, a, w, v, s, g2, g3, \n",
    "    omega1, omega2, omega3, x1, x2, T, R, alpha, beta, mu, nu, kappa, Lambda, phi, Phi\n",
    "    '''\n",
    ")\n",
    "Ser = Function('Ser')\n",
    "pw = Function('pw') # Weierstrass P function\n",
    "pwp = Function('pwp') # Derivative of Weierstrass P function\n",
    "zw = Function('zw') # Weierstrass Zeta function\n",
    "sigma = Function('sigma') # Weierstrass Sigma function\n",
    "f = Function('f')\n",
    "h = Function('h')\n",
    "F = Function('F')\n",
    "H = Function('H')\n",
    "mu = Function('mu')\n",
    "delta = Function('delta')\n",
    "theta = Function('theta')\n",
    "# Theta = Function('Theta')\n",
    "# vartheta = IndexedBase('vartheta')\n",
    "# from math import prod\n",
    "\n",
    "from IPython.core.interactiveshell import InteractiveShell\n",
    "InteractiveShell.ast_node_interactivity = 'all'\\\n",
    "\n",
    "from mpmath import exp as mpexp\n",
    "from mpmath import jtheta, mpf\n",
    "def mpc_to_float(mpc_val):\n",
    "    return float(mpc_val.real) + float(mpc_val.imag)*1j"
   ]
  },
  {
   "cell_type": "markdown",
   "id": "7379a0de",
   "metadata": {},
   "source": [
    "## Aim\n",
    "\n",
    "We wish to find an integral representation of the following double sum, i.e. we seek $f$. Kronecker showed that for $s=1$ such double sums could be expressed as a ratio of Jacobi theta functions, or equivalently Weierstrass sigma functions, and that ratio has since been referred to as a Kronecker theta function. In the below we would anticpate the integral to specify suitable integration limits and if it was an invertible integral transfrom even better. "
   ]
  },
  {
   "cell_type": "code",
   "execution_count": 111,
   "id": "0b068946",
   "metadata": {},
   "outputs": [
    {
     "data": {
      "text/latex": [
       "$\\displaystyle \\lim_{M \\to \\infty} \\lim_{N \\to \\infty} \\sum_{\\substack{- N \\leq n \\leq N\\\\- M \\leq m \\leq M}} \\left(2 m \\omega_{1} + 2 n \\omega_{2} + z\\right)^{- s} e^{2 i \\pi \\left(m x_{1} + n x_{2}\\right)} = \\int f{\\left(x_{1},x_{2},\\omega_{1},\\omega_{2},z,s,t \\right)}\\, dt$"
      ],
      "text/plain": [
       "Eq(Limit(Limit(Sum(exp(2*I*pi*(m*x1 + n*x2))/(2*m*omega1 + 2*n*omega2 + z)**s, (n, -N, N), (m, -M, M)), N, oo, dir='-'), M, oo, dir='-'), Integral(f(x1, x2, omega1, omega2, z, s, t), t))"
      ]
     },
     "execution_count": 111,
     "metadata": {},
     "output_type": "execute_result"
    }
   ],
   "source": [
    "Eq(Limit(Limit(Sum(exp(2*I*pi*(m*x1 + n*x2))/(2*m*omega1 + 2*n*omega2 + z)**s,(n,-N,N),(m,-M,M)), N,oo), M,oo), \n",
    "   Integral(f(x1,x2,omega1,omega2,z,s,t),t))"
   ]
  },
  {
   "cell_type": "markdown",
   "id": "956f1a62",
   "metadata": {},
   "source": [
    "## The Gamma function and Mellin transforms of complex exponentials"
   ]
  },
  {
   "cell_type": "code",
   "execution_count": 112,
   "id": "1c7c8a34",
   "metadata": {},
   "outputs": [],
   "source": [
    "s = symbols('s', positive=True)\n",
    "r = symbols('r', positive=True, real=True)"
   ]
  },
  {
   "cell_type": "code",
   "execution_count": 113,
   "id": "25377aeb",
   "metadata": {
    "scrolled": false
   },
   "outputs": [
    {
     "data": {
      "text/latex": [
       "$\\displaystyle \\Gamma\\left(s\\right) = \\int\\limits_{0}^{\\infty} t^{s - 1} e^{- t}\\, dt$"
      ],
      "text/plain": [
       "Eq(gamma(s), Integral(t**(s - 1)*exp(-t), (t, 0, oo)))"
      ]
     },
     "execution_count": 113,
     "metadata": {},
     "output_type": "execute_result"
    },
    {
     "data": {
      "text/latex": [
       "$\\displaystyle \\text{True}$"
      ],
      "text/plain": [
       "True"
      ]
     },
     "execution_count": 113,
     "metadata": {},
     "output_type": "execute_result"
    }
   ],
   "source": [
    "gamma_integral = Eq(gamma(s),Integral(t**(s-1)*exp(-t),(t,0,oo)))\n",
    "gamma_integral\n",
    "gamma_integral.doit()"
   ]
  },
  {
   "cell_type": "markdown",
   "id": "38125355",
   "metadata": {},
   "source": [
    "### Residue theorem"
   ]
  },
  {
   "cell_type": "markdown",
   "id": "da32d5a8",
   "metadata": {},
   "source": [
    "#### Case when $\\cos(\\Phi)\\ge0$"
   ]
  },
  {
   "cell_type": "code",
   "execution_count": 114,
   "id": "83409bed",
   "metadata": {},
   "outputs": [
    {
     "data": {
      "text/latex": [
       "$\\displaystyle z^{s - 1} e^{- z}$"
      ],
      "text/plain": [
       "z**(s - 1)*exp(-z)"
      ]
     },
     "execution_count": 114,
     "metadata": {},
     "output_type": "execute_result"
    },
    {
     "data": {
      "text/latex": [
       "$\\displaystyle z = t$"
      ],
      "text/plain": [
       "Eq(z, t)"
      ]
     },
     "execution_count": 114,
     "metadata": {},
     "output_type": "execute_result"
    },
    {
     "data": {
      "text/latex": [
       "$\\displaystyle z = R e^{i \\phi}$"
      ],
      "text/plain": [
       "Eq(z, R*exp(I*phi))"
      ]
     },
     "execution_count": 114,
     "metadata": {},
     "output_type": "execute_result"
    },
    {
     "data": {
      "text/latex": [
       "$\\displaystyle z = t e^{i \\phi}$"
      ],
      "text/plain": [
       "Eq(z, t*exp(I*phi))"
      ]
     },
     "execution_count": 114,
     "metadata": {},
     "output_type": "execute_result"
    },
    {
     "data": {
      "text/latex": [
       "$\\displaystyle \\cos{\\left(\\Phi \\right)} \\geq 0$"
      ],
      "text/plain": [
       "cos(Phi) >= 0"
      ]
     },
     "execution_count": 114,
     "metadata": {},
     "output_type": "execute_result"
    }
   ],
   "source": [
    "z**(s-1)*exp(-z)\n",
    "Eq(z,t)\n",
    "Eq(z,R*exp(I*phi))\n",
    "Eq(z,t*exp(I*phi))\n",
    "cos(Phi)>=0 "
   ]
  },
  {
   "cell_type": "code",
   "execution_count": 115,
   "id": "8b4b05b4",
   "metadata": {},
   "outputs": [
    {
     "data": {
      "text/latex": [
       "$\\displaystyle \\lim_{R \\to \\infty} \\int\\limits_{0}^{\\Phi} i R^{s} e^{- R e^{i \\phi}} e^{i \\phi s}\\, d\\phi = 0$"
      ],
      "text/plain": [
       "Eq(Limit(Integral(I*R**s*exp(-R*exp(I*phi))*exp(I*phi*s), (phi, 0, Phi)), R, oo, dir='-'), 0)"
      ]
     },
     "execution_count": 115,
     "metadata": {},
     "output_type": "execute_result"
    },
    {
     "data": {
      "text/latex": [
       "$\\displaystyle \\int\\limits_{0}^{R} t^{s - 1} e^{- t}\\, dt - \\int\\limits_{0}^{R} t^{s - 1} e^{- t e^{i \\Phi}} e^{i \\Phi s}\\, dt + \\int\\limits_{0}^{\\Phi} i R^{s} e^{- R e^{i \\phi}} e^{i \\phi s}\\, d\\phi = 0$"
      ],
      "text/plain": [
       "Eq(Integral(t**(s - 1)*exp(-t), (t, 0, R)) - Integral(t**(s - 1)*exp(-t*exp(I*Phi))*exp(I*Phi*s), (t, 0, R)) + Integral(I*R**s*exp(-R*exp(I*phi))*exp(I*phi*s), (phi, 0, Phi)), 0)"
      ]
     },
     "execution_count": 115,
     "metadata": {},
     "output_type": "execute_result"
    }
   ],
   "source": [
    "gamma_arc = Eq(\n",
    "    Integral(t**(s-1)*exp(-t),(t,0,R)) + \n",
    "    Integral(R**s*exp(I*phi*s)*exp(-R*exp(I*phi))*I,(phi,0,Phi)) - \n",
    "    Integral(t**(s-1)*exp(I*Phi*s)*exp(-t*exp(I*Phi)),(t,0,R)),0\n",
    ")\n",
    "Eq(Limit(Integral(R**s*exp(I*phi*s)*exp(-R*exp(I*phi))*I,(phi,0,Phi)), R, oo), 0)\n",
    "gamma_arc"
   ]
  },
  {
   "cell_type": "code",
   "execution_count": 116,
   "id": "73a0335b",
   "metadata": {},
   "outputs": [
    {
     "data": {
      "text/latex": [
       "$\\displaystyle -4.0 \\cdot 10^{-130} + 5.0 \\cdot 10^{-131} i$"
      ],
      "text/plain": [
       "-0.e-130 + 0.e-131*I"
      ]
     },
     "execution_count": 116,
     "metadata": {},
     "output_type": "execute_result"
    }
   ],
   "source": [
    "gamma_arc.lhs.subs([(R,4),(Phi,pi/2), (s,2.5)]).doit().evalf()"
   ]
  },
  {
   "cell_type": "code",
   "execution_count": 117,
   "id": "73c4c540",
   "metadata": {
    "scrolled": false
   },
   "outputs": [
    {
     "data": {
      "text/latex": [
       "$\\displaystyle \\Gamma\\left(s\\right) = \\int\\limits_{0}^{\\infty} t^{s - 1} e^{- t e^{i \\Phi}} e^{i \\Phi s}\\, dt$"
      ],
      "text/plain": [
       "Eq(gamma(s), Integral(t**(s - 1)*exp(-t*exp(I*Phi))*exp(I*Phi*s), (t, 0, oo)))"
      ]
     },
     "execution_count": 117,
     "metadata": {},
     "output_type": "execute_result"
    },
    {
     "data": {
      "text/latex": [
       "$\\displaystyle t = r u$"
      ],
      "text/plain": [
       "Eq(t, r*u)"
      ]
     },
     "execution_count": 117,
     "metadata": {},
     "output_type": "execute_result"
    },
    {
     "data": {
      "text/latex": [
       "$\\displaystyle \\Gamma\\left(s\\right) = \\left(r e^{i \\Phi}\\right)^{s} \\int\\limits_{0}^{\\infty} u^{s - 1} e^{- r u e^{i \\Phi}}\\, du$"
      ],
      "text/plain": [
       "Eq(gamma(s), (r*exp(I*Phi))**s*Integral(u**(s - 1)*exp(-r*u*exp(I*Phi)), (u, 0, oo)))"
      ]
     },
     "execution_count": 117,
     "metadata": {},
     "output_type": "execute_result"
    },
    {
     "data": {
      "text/latex": [
       "$\\displaystyle w = r e^{i \\Phi}$"
      ],
      "text/plain": [
       "Eq(w, r*exp(I*Phi))"
      ]
     },
     "execution_count": 117,
     "metadata": {},
     "output_type": "execute_result"
    },
    {
     "data": {
      "text/latex": [
       "$\\displaystyle \\operatorname{re}{\\left(w\\right)} \\geq 0$"
      ],
      "text/plain": [
       "re(w) >= 0"
      ]
     },
     "execution_count": 117,
     "metadata": {},
     "output_type": "execute_result"
    },
    {
     "data": {
      "text/latex": [
       "$\\displaystyle \\Gamma\\left(s\\right) = w^{s} \\int\\limits_{0}^{\\infty} u^{s - 1} e^{- u w}\\, du$"
      ],
      "text/plain": [
       "Eq(gamma(s), w**s*Integral(u**(s - 1)*exp(-u*w), (u, 0, oo)))"
      ]
     },
     "execution_count": 117,
     "metadata": {},
     "output_type": "execute_result"
    },
    {
     "data": {
      "text/latex": [
       "$\\displaystyle w = - i v$"
      ],
      "text/plain": [
       "Eq(w, -I*v)"
      ]
     },
     "execution_count": 117,
     "metadata": {},
     "output_type": "execute_result"
    },
    {
     "data": {
      "text/latex": [
       "$\\displaystyle \\operatorname{im}{\\left(v\\right)} \\geq 0$"
      ],
      "text/plain": [
       "im(v) >= 0"
      ]
     },
     "execution_count": 117,
     "metadata": {},
     "output_type": "execute_result"
    },
    {
     "data": {
      "text/latex": [
       "$\\displaystyle \\Gamma\\left(s\\right) = v^{s} e^{- \\frac{i \\pi s}{2}} \\int\\limits_{0}^{\\infty} u^{s - 1} e^{i u v}\\, du$"
      ],
      "text/plain": [
       "Eq(gamma(s), v**s*exp(-I*pi*s/2)*Integral(u**(s - 1)*exp(I*u*v), (u, 0, oo)))"
      ]
     },
     "execution_count": 117,
     "metadata": {},
     "output_type": "execute_result"
    },
    {
     "data": {
      "text/latex": [
       "$\\displaystyle v = - \\kappa$"
      ],
      "text/plain": [
       "Eq(v, -kappa)"
      ]
     },
     "execution_count": 117,
     "metadata": {},
     "output_type": "execute_result"
    },
    {
     "data": {
      "text/latex": [
       "$\\displaystyle \\operatorname{im}{\\left(\\kappa\\right)} \\leq 0$"
      ],
      "text/plain": [
       "im(kappa) <= 0"
      ]
     },
     "execution_count": 117,
     "metadata": {},
     "output_type": "execute_result"
    },
    {
     "data": {
      "text/latex": [
       "$\\displaystyle \\Gamma\\left(s\\right) = \\kappa^{s} e^{\\frac{i \\pi s}{2}} \\int\\limits_{0}^{\\infty} u^{s - 1} e^{- i \\kappa u}\\, du$"
      ],
      "text/plain": [
       "Eq(gamma(s), kappa**s*exp(I*pi*s/2)*Integral(u**(s - 1)*exp(-I*kappa*u), (u, 0, oo)))"
      ]
     },
     "execution_count": 117,
     "metadata": {},
     "output_type": "execute_result"
    }
   ],
   "source": [
    "Eq(\n",
    "    Integral(t**(s-1)*exp(-t),(t,0,oo)).doit(),\n",
    "    Integral(t**(s-1)*exp(I*Phi*s)*exp(-t*exp(I*Phi)),(t,0,oo))\n",
    ")\n",
    "Eq(t,r*u)\n",
    "Eq(\n",
    "    Integral(t**(s-1)*exp(-t),(t,0,oo)).doit(),\n",
    "    (r*exp(I*Phi))**s*Integral(u**(s-1)*exp(-r*exp(I*Phi)*u),(u,0,oo))\n",
    ")\n",
    "Eq(w,r*exp(I*Phi))\n",
    "re(w)>=0\n",
    "Eq(\n",
    "    Integral(t**(s-1)*exp(-t),(t,0,oo)).doit(),\n",
    "    (w)**s*Integral(u**(s-1)*exp(-w*u),(u,0,oo))\n",
    ")\n",
    "Eq(w,-I*v)\n",
    "im(v)>=0\n",
    "Eq(\n",
    "    Integral(t**(s-1)*exp(-t),(t,0,oo)).doit(),\n",
    "    exp(-I*pi/2*s)*v**s*Integral(u**(s-1)*exp(I*v*u),(u,0,oo))\n",
    ")\n",
    "Eq(v,-kappa)\n",
    "im(kappa)<=0\n",
    "Eq(\n",
    "    Integral(t**(s-1)*exp(-t),(t,0,oo)).doit(),\n",
    "    exp(I*pi*s/2)*kappa**s*Integral(u**(s-1)*exp(-I*kappa*u),(u,0,oo))\n",
    ")"
   ]
  },
  {
   "cell_type": "code",
   "execution_count": 118,
   "id": "5e753820",
   "metadata": {},
   "outputs": [
    {
     "data": {
      "text/latex": [
       "$\\displaystyle 1.32934038817914 + 2.31828251236672 \\cdot 10^{-16} i$"
      ],
      "text/plain": [
       "1.32934038817914 + 2.31828251236672e-16*I"
      ]
     },
     "execution_count": 118,
     "metadata": {},
     "output_type": "execute_result"
    },
    {
     "data": {
      "text/latex": [
       "$\\displaystyle 1.32934038817914$"
      ],
      "text/plain": [
       "1.32934038817914"
      ]
     },
     "execution_count": 118,
     "metadata": {},
     "output_type": "execute_result"
    }
   ],
   "source": [
    "((r*exp(I*Phi))**s*Integral(u**(s-1)*exp(-r*exp(I*Phi)*u),(u,0,oo))\n",
    ").subs([(r,1.23), (s,2.5), (Phi, -pi*0.4)]).evalf()\n",
    "gamma(2.5)"
   ]
  },
  {
   "cell_type": "code",
   "execution_count": 119,
   "id": "d143fee0",
   "metadata": {},
   "outputs": [
    {
     "data": {
      "text/latex": [
       "$\\displaystyle -1.19086239914619 \\cdot 10^{-16} + 2.04093404508048 \\cdot 10^{-15} i$"
      ],
      "text/plain": [
       "-1.19086239914619e-16 + 2.04093404508048e-15*I"
      ]
     },
     "execution_count": 119,
     "metadata": {},
     "output_type": "execute_result"
    }
   ],
   "source": [
    "(gamma(s) - exp(-I*pi/2*s)*v**s*Integral(u**(s-1)*exp(I*v*u),(u,0,oo))\n",
    ").subs([(v,3+2.23j), (s,4.8)]).evalf()"
   ]
  },
  {
   "cell_type": "code",
   "execution_count": 120,
   "id": "2319b74b",
   "metadata": {},
   "outputs": [
    {
     "data": {
      "text/latex": [
       "$\\displaystyle 1.0 \\cdot 10^{-134}$"
      ],
      "text/plain": [
       "0.e-134"
      ]
     },
     "execution_count": 120,
     "metadata": {},
     "output_type": "execute_result"
    }
   ],
   "source": [
    "(gamma(s) - exp(I*pi/2*s)*v**s*Integral(u**(s-1)*exp(-I*v*u),(u,0,oo))\n",
    ").subs([(v,3-2.23j), (s,6)]).evalf()"
   ]
  },
  {
   "cell_type": "markdown",
   "id": "c7003faa",
   "metadata": {},
   "source": [
    "#### Integrals for lattice points in the upper and lower half planes"
   ]
  },
  {
   "cell_type": "code",
   "execution_count": 121,
   "id": "0c4b63c1",
   "metadata": {},
   "outputs": [
    {
     "data": {
      "text/latex": [
       "$\\displaystyle \\operatorname{im}{\\left(\\Lambda\\right)} \\geq 0$"
      ],
      "text/plain": [
       "im(Lambda) >= 0"
      ]
     },
     "execution_count": 121,
     "metadata": {},
     "output_type": "execute_result"
    },
    {
     "data": {
      "text/latex": [
       "$\\displaystyle \\Lambda^{- s} = \\frac{e^{- \\frac{i \\pi s}{2}} \\int\\limits_{0}^{\\infty} t^{s - 1} e^{i \\Lambda t}\\, dt}{\\Gamma\\left(s\\right)}$"
      ],
      "text/plain": [
       "Eq(Lambda**(-s), exp(-I*pi*s/2)*Integral(t**(s - 1)*exp(I*Lambda*t), (t, 0, oo))/gamma(s))"
      ]
     },
     "execution_count": 121,
     "metadata": {},
     "output_type": "execute_result"
    }
   ],
   "source": [
    "im(Lambda)>=0\n",
    "Eq(1/Lambda**s, exp(-I*pi/2*s)/gamma(s)*Integral(t**(s-1)*exp(I*Lambda*t),(t,0,oo)))"
   ]
  },
  {
   "cell_type": "code",
   "execution_count": 122,
   "id": "ccd7af5c",
   "metadata": {},
   "outputs": [
    {
     "data": {
      "text/latex": [
       "$\\displaystyle \\operatorname{im}{\\left(\\Lambda\\right)} \\leq 0$"
      ],
      "text/plain": [
       "im(Lambda) <= 0"
      ]
     },
     "execution_count": 122,
     "metadata": {},
     "output_type": "execute_result"
    },
    {
     "data": {
      "text/latex": [
       "$\\displaystyle \\Lambda^{- s} = \\frac{e^{\\frac{i \\pi s}{2}} \\int\\limits_{0}^{\\infty} t^{s - 1} e^{- i \\Lambda t}\\, dt}{\\Gamma\\left(s\\right)}$"
      ],
      "text/plain": [
       "Eq(Lambda**(-s), exp(I*pi*s/2)*Integral(t**(s - 1)*exp(-I*Lambda*t), (t, 0, oo))/gamma(s))"
      ]
     },
     "execution_count": 122,
     "metadata": {},
     "output_type": "execute_result"
    }
   ],
   "source": [
    "im(Lambda)<=0\n",
    "Eq(1/Lambda**s, exp(I*pi/2*s)/gamma(s)*Integral(t**(s-1)*exp(-I*Lambda*t),(t,0,oo)))"
   ]
  },
  {
   "cell_type": "markdown",
   "id": "c5fee2d2",
   "metadata": {},
   "source": [
    "## Lattice sum as an integral"
   ]
  },
  {
   "cell_type": "code",
   "execution_count": 351,
   "id": "8192ee96",
   "metadata": {},
   "outputs": [
    {
     "data": {
      "text/latex": [
       "$\\displaystyle \\operatorname{im}{\\left(\\tau\\right)} > 0$"
      ],
      "text/plain": [
       "im(tau) > 0"
      ]
     },
     "execution_count": 351,
     "metadata": {},
     "output_type": "execute_result"
    },
    {
     "data": {
      "text/latex": [
       "$\\displaystyle \\operatorname{im}{\\left(z\\right)} \\geq 0$"
      ],
      "text/plain": [
       "im(z) >= 0"
      ]
     },
     "execution_count": 351,
     "metadata": {},
     "output_type": "execute_result"
    },
    {
     "data": {
      "text/latex": [
       "$\\displaystyle \\operatorname{im}{\\left(z\\right)} < \\operatorname{im}{\\left(\\tau\\right)}$"
      ],
      "text/plain": [
       "im(z) < im(tau)"
      ]
     },
     "execution_count": 351,
     "metadata": {},
     "output_type": "execute_result"
    },
    {
     "data": {
      "text/latex": [
       "$\\displaystyle \\Lambda = m + n \\tau + z$"
      ],
      "text/plain": [
       "Eq(Lambda, m + n*tau + z)"
      ]
     },
     "execution_count": 351,
     "metadata": {},
     "output_type": "execute_result"
    },
    {
     "data": {
      "text/latex": [
       "$\\displaystyle \\sum_{\\substack{- K \\leq m \\leq K\\\\- K \\leq n \\leq K}} \\left(m + n \\tau + z\\right)^{- s} e^{2 i \\pi \\left(m x + n y\\right)} = \\sum_{m=- K}^{K} \\left(m + z\\right)^{- s} e^{2 i \\pi m x} + \\sum_{\\substack{- K \\leq m \\leq K\\\\1 \\leq n \\leq K}} \\left(m - n \\tau + z\\right)^{- s} e^{2 i \\pi \\left(m x - n y\\right)} + \\sum_{\\substack{- K \\leq m \\leq K\\\\1 \\leq n \\leq K}} \\left(m + n \\tau + z\\right)^{- s} e^{2 i \\pi \\left(m x + n y\\right)}$"
      ],
      "text/plain": [
       "Eq(Sum(exp(2*I*pi*(m*x + n*y))/(m + n*tau + z)**s, (m, -K, K), (n, -K, K)), Sum(exp(2*I*pi*m*x)/(m + z)**s, (m, -K, K)) + Sum(exp(2*I*pi*(m*x - n*y))/(m - n*tau + z)**s, (m, -K, K), (n, 1, K)) + Sum(exp(2*I*pi*(m*x + n*y))/(m + n*tau + z)**s, (m, -K, K), (n, 1, K)))"
      ]
     },
     "execution_count": 351,
     "metadata": {},
     "output_type": "execute_result"
    },
    {
     "data": {
      "text/latex": [
       "$\\displaystyle - \\Gamma\\left(s\\right) \\sum_{m=- K}^{K} \\left(m + z\\right)^{- s} e^{2 i \\pi m x} + \\Gamma\\left(s\\right) \\sum_{\\substack{- K \\leq m \\leq K\\\\- K \\leq n \\leq K}} \\left(m + n \\tau + z\\right)^{- s} e^{2 i \\pi \\left(m x + n y\\right)} = \\sum_{\\substack{- K \\leq m \\leq K\\\\1 \\leq n \\leq K}} e^{- \\frac{i \\pi s}{2}} \\int\\limits_{0}^{\\infty} t^{s - 1} e^{m \\left(i t + 2 i \\pi x\\right) + n \\left(i t \\tau + 2 i \\pi y\\right) + i t z}\\, dt + \\sum_{\\substack{- K \\leq m \\leq K\\\\1 \\leq n \\leq K}} e^{\\frac{i \\pi s}{2}} \\int\\limits_{0}^{\\infty} t^{s - 1} e^{m \\left(- i t + 2 i \\pi x\\right) + n \\left(i t \\tau - 2 i \\pi y\\right) - i t z}\\, dt$"
      ],
      "text/plain": [
       "Eq(-gamma(s)*Sum(exp(2*I*pi*m*x)/(m + z)**s, (m, -K, K)) + gamma(s)*Sum(exp(2*I*pi*(m*x + n*y))/(m + n*tau + z)**s, (m, -K, K), (n, -K, K)), Sum(exp(-I*pi*s/2)*Integral(t**(s - 1)*exp(m*(I*t + 2*I*pi*x) + n*(I*t*tau + 2*I*pi*y) + I*t*z), (t, 0, oo)), (m, -K, K), (n, 1, K)) + Sum(exp(I*pi*s/2)*Integral(t**(s - 1)*exp(m*(-I*t + 2*I*pi*x) + n*(I*t*tau - 2*I*pi*y) - I*t*z), (t, 0, oo)), (m, -K, K), (n, 1, K)))"
      ]
     },
     "execution_count": 351,
     "metadata": {},
     "output_type": "execute_result"
    },
    {
     "data": {
      "text/latex": [
       "$\\displaystyle - \\Gamma\\left(s\\right) \\sum_{m=- K}^{K} \\left(m + z\\right)^{- s} e^{2 i \\pi m x} + \\Gamma\\left(s\\right) \\sum_{\\substack{- K \\leq m \\leq K\\\\- K \\leq n \\leq K}} \\left(m + n \\tau + z\\right)^{- s} e^{2 i \\pi \\left(m x + n y\\right)} = e^{\\frac{i \\pi s}{2}} \\int\\limits_{0}^{\\infty} t^{s - 1} e^{- i t z} \\left(\\sum_{m=- K}^{K} e^{m \\left(- i t + 2 i \\pi x\\right)}\\right) \\sum_{n=1}^{K} e^{n \\left(i t \\tau - 2 i \\pi y\\right)}\\, dt + e^{- \\frac{i \\pi s}{2}} \\int\\limits_{0}^{\\infty} t^{s - 1} e^{i t z} \\left(\\sum_{m=- K}^{K} e^{m \\left(i t + 2 i \\pi x\\right)}\\right) \\sum_{n=1}^{K} e^{n \\left(i t \\tau + 2 i \\pi y\\right)}\\, dt$"
      ],
      "text/plain": [
       "Eq(-gamma(s)*Sum(exp(2*I*pi*m*x)/(m + z)**s, (m, -K, K)) + gamma(s)*Sum(exp(2*I*pi*(m*x + n*y))/(m + n*tau + z)**s, (m, -K, K), (n, -K, K)), exp(I*pi*s/2)*Integral(t**(s - 1)*exp(-I*t*z)*Sum(exp(m*(-I*t + 2*I*pi*x)), (m, -K, K))*Sum(exp(n*(I*t*tau - 2*I*pi*y)), (n, 1, K)), (t, 0, oo)) + exp(-I*pi*s/2)*Integral(t**(s - 1)*exp(I*t*z)*Sum(exp(m*(I*t + 2*I*pi*x)), (m, -K, K))*Sum(exp(n*(I*t*tau + 2*I*pi*y)), (n, 1, K)), (t, 0, oo)))"
      ]
     },
     "execution_count": 351,
     "metadata": {},
     "output_type": "execute_result"
    }
   ],
   "source": [
    "im(tau)>0\n",
    "im(z)>=0\n",
    "im(z)<im(tau)\n",
    "Eq(Lambda, m + n*tau + z)\n",
    "Eq(Sum(exp(2*I*pi*(m*x+n*y))/(m+n*tau+z)**s,(m,-K,K),(n,-K,K)),\n",
    "   Sum(exp(2*I*pi*m*x)/(m+z)**s,(m,-K,K)) + \n",
    "   Sum(exp(2*I*pi*(m*x+n*y))/(m+n*tau+z)**s,(m,-K,K),(n,1,K)) + \n",
    "   Sum(exp(2*I*pi*(m*x-n*y))/(m-n*tau+z)**s,(m,-K,K),(n,1,K))\n",
    ")\n",
    "\n",
    "Eq(gamma(s)*Sum(exp(2*I*pi*(m*x+n*y))/(m+n*tau+z)**s,(m,-K,K),(n,-K,K))\n",
    "   -gamma(s)*Sum(exp(2*I*pi*m*x)/(m+z)**s,(m,-K,K)),\n",
    "   Sum(\n",
    "       exp(-I*pi/2*s)*Integral(t**(s-1)*exp(collect(expand(I*(m+n*tau+z)*t + 2*I*pi*(m*x+n*y)),[n,m])),(t,0,oo))\n",
    "       ,(m,-K,K),(n,1,K)) + \n",
    "   Sum(\n",
    "       exp(I*pi/2*s)*Integral(t**(s-1)*exp(collect(expand(I*(-m+n*tau-z)*t + 2*I*pi*(m*x-n*y)),[n,m])),(t,0,oo))\n",
    "       ,(m,-K,K),(n,1,K))\n",
    "  )\n",
    "\n",
    "K_sum_integral = Eq(\n",
    "    gamma(s)*Sum(exp(2*I*pi*(m*x+n*y))/(m+n*tau+z)**s,(m,-K,K),(n,-K,K))\n",
    "    -gamma(s)*Sum(exp(2*I*pi*m*x)/(m+z)**s,(m,-K,K)),\n",
    "       exp(-I*pi/2*s)*Integral(t**(s-1)*\n",
    "                               Sum(exp(m*(I*t+2*I*pi*x)),(m,-K,K))*\n",
    "                               Sum(exp(n*(I*t*tau + 2*I*pi*y)),(n,1,K))\n",
    "                               *exp(I*t*z)\n",
    "                               ,(t,0,oo)) + \n",
    "       exp(I*pi/2*s)*Integral(t**(s-1)*\n",
    "                              Sum(exp(m*(-I*t+2*I*pi*x)),(m,-K,K))*\n",
    "                               Sum(exp(n*(I*t*tau - 2*I*pi*y)),(n,1,K))\n",
    "                               *exp(-I*t*z)\n",
    "                              ,(t,0,oo))\n",
    "  )\n",
    "K_sum_integral"
   ]
  },
  {
   "cell_type": "code",
   "execution_count": 352,
   "id": "c852f28e",
   "metadata": {
    "scrolled": true
   },
   "outputs": [
    {
     "data": {
      "text/latex": [
       "$\\displaystyle \\sum_{n=1}^{K} e^{n \\left(i t \\tau - 2 i \\pi y\\right)} = \\frac{e^{i t \\tau - 2 i \\pi y} - \\left(e^{i t \\tau - 2 i \\pi y}\\right)^{K + 1}}{1 - e^{i t \\tau - 2 i \\pi y}}$"
      ],
      "text/plain": [
       "Eq(Sum(exp(n*(I*t*tau - 2*I*pi*y)), (n, 1, K)), (exp(I*t*tau - 2*I*pi*y) - exp(I*t*tau - 2*I*pi*y)**(K + 1))/(1 - exp(I*t*tau - 2*I*pi*y)))"
      ]
     },
     "execution_count": 352,
     "metadata": {},
     "output_type": "execute_result"
    },
    {
     "data": {
      "text/latex": [
       "$\\displaystyle \\sum_{n=1}^{K} e^{n \\left(i t \\tau + 2 i \\pi y\\right)} = \\frac{e^{i t \\tau + 2 i \\pi y} - \\left(e^{i t \\tau + 2 i \\pi y}\\right)^{K + 1}}{1 - e^{i t \\tau + 2 i \\pi y}}$"
      ],
      "text/plain": [
       "Eq(Sum(exp(n*(I*t*tau + 2*I*pi*y)), (n, 1, K)), (exp(I*t*tau + 2*I*pi*y) - exp(I*t*tau + 2*I*pi*y)**(K + 1))/(1 - exp(I*t*tau + 2*I*pi*y)))"
      ]
     },
     "execution_count": 352,
     "metadata": {},
     "output_type": "execute_result"
    },
    {
     "data": {
      "text/latex": [
       "$\\displaystyle \\sum_{m=- K}^{K} e^{m \\left(i t + 2 i \\pi x\\right)} = \\frac{\\sin{\\left(\\left(K + \\frac{1}{2}\\right) \\left(t + 2 \\pi x\\right) \\right)}}{\\sin{\\left(\\frac{t}{2} + \\pi x \\right)}}$"
      ],
      "text/plain": [
       "Eq(Sum(exp(m*(I*t + 2*I*pi*x)), (m, -K, K)), sin((K + 1/2)*(t + 2*pi*x))/sin(t/2 + pi*x))"
      ]
     },
     "execution_count": 352,
     "metadata": {},
     "output_type": "execute_result"
    },
    {
     "data": {
      "text/latex": [
       "$\\displaystyle \\sum_{m=- K}^{K} e^{m \\left(- i t + 2 i \\pi x\\right)} = - \\frac{\\sin{\\left(\\left(K + \\frac{1}{2}\\right) \\left(- t + 2 \\pi x\\right) \\right)}}{\\sin{\\left(\\frac{t}{2} - \\pi x \\right)}}$"
      ],
      "text/plain": [
       "Eq(Sum(exp(m*(-I*t + 2*I*pi*x)), (m, -K, K)), -sin((K + 1/2)*(-t + 2*pi*x))/sin(t/2 - pi*x))"
      ]
     },
     "execution_count": 352,
     "metadata": {},
     "output_type": "execute_result"
    }
   ],
   "source": [
    "Eq(Sum(exp(n*(I*t*tau - 2*I*pi*y)),(n,1,K)), Sum(exp(n*(I*t*tau - 2*I*pi*y)),(n,1,K)).doit().args[1].args[0])\n",
    "Eq(Sum(exp(n*(I*t*tau + 2*I*pi*y)),(n,1,K)), Sum(exp(n*(I*t*tau + 2*I*pi*y)),(n,1,K)).doit().args[1].args[0])\n",
    "Eq(Sum(exp(m*(I*t+2*I*pi*x)),(m,-K,K)), sin((K+Rational(1,2))*(t+2*pi*x))/sin((t+2*pi*x)/2))\n",
    "Eq(Sum(exp(m*(-I*t+2*I*pi*x)),(m,-K,K)), sin((K+Rational(1,2))*(-t+2*pi*x))/sin((-t+2*pi*x)/2))"
   ]
  },
  {
   "cell_type": "code",
   "execution_count": 353,
   "id": "3ebcbb19",
   "metadata": {
    "scrolled": true
   },
   "outputs": [
    {
     "data": {
      "text/latex": [
       "$\\displaystyle - \\sum_{m=- K}^{K} \\left(m + z\\right)^{- s} e^{2 i \\pi m x} + \\sum_{\\substack{- K \\leq m \\leq K\\\\- K \\leq n \\leq K}} \\left(m + n \\tau + z\\right)^{- s} e^{2 i \\pi \\left(m x + n y\\right)} = \\frac{e^{\\frac{i \\pi s}{2}} \\int\\limits_{0}^{\\infty} \\left(- \\frac{t^{s - 1} \\left(e^{i t \\tau - 2 i \\pi y} - \\left(e^{i t \\tau - 2 i \\pi y}\\right)^{K + 1}\\right) e^{- i t z} \\sin{\\left(\\left(K + \\frac{1}{2}\\right) \\left(- t + 2 \\pi x\\right) \\right)}}{\\left(1 - e^{i t \\tau - 2 i \\pi y}\\right) \\sin{\\left(\\frac{t}{2} - \\pi x \\right)}}\\right)\\, dt}{\\Gamma\\left(s\\right)} + \\frac{e^{- \\frac{i \\pi s}{2}} \\int\\limits_{0}^{\\infty} \\frac{t^{s - 1} \\left(e^{i t \\tau + 2 i \\pi y} - \\left(e^{i t \\tau + 2 i \\pi y}\\right)^{K + 1}\\right) e^{i t z} \\sin{\\left(\\left(K + \\frac{1}{2}\\right) \\left(t + 2 \\pi x\\right) \\right)}}{\\left(1 - e^{i t \\tau + 2 i \\pi y}\\right) \\sin{\\left(\\frac{t}{2} + \\pi x \\right)}}\\, dt}{\\Gamma\\left(s\\right)}$"
      ],
      "text/plain": [
       "Eq(-Sum(exp(2*I*pi*m*x)/(m + z)**s, (m, -K, K)) + Sum(exp(2*I*pi*(m*x + n*y))/(m + n*tau + z)**s, (m, -K, K), (n, -K, K)), exp(I*pi*s/2)*Integral(-t**(s - 1)*(exp(I*t*tau - 2*I*pi*y) - exp(I*t*tau - 2*I*pi*y)**(K + 1))*exp(-I*t*z)*sin((K + 1/2)*(-t + 2*pi*x))/((1 - exp(I*t*tau - 2*I*pi*y))*sin(t/2 - pi*x)), (t, 0, oo))/gamma(s) + exp(-I*pi*s/2)*Integral(t**(s - 1)*(exp(I*t*tau + 2*I*pi*y) - exp(I*t*tau + 2*I*pi*y)**(K + 1))*exp(I*t*z)*sin((K + 1/2)*(t + 2*pi*x))/((1 - exp(I*t*tau + 2*I*pi*y))*sin(t/2 + pi*x)), (t, 0, oo))/gamma(s))"
      ]
     },
     "execution_count": 353,
     "metadata": {},
     "output_type": "execute_result"
    }
   ],
   "source": [
    "K_integral_kronecker_partial = Eq(Sum(exp(2*I*pi*(m*x+n*y))/(m+n*tau+z)**s,(m,-K,K),(n,-K,K))\n",
    "                                  -Sum(exp(2*I*pi*m*x)/(m+z)**s,(m,-K,K)),\n",
    "       exp(-I*pi/2*s)/gamma(s)*Integral(t**(s-1)*\n",
    "                               sin((K+Rational(1,2))*(t+2*pi*x))/sin((t+2*pi*x)/2)*\n",
    "                               (exp(I*t*tau + 2*I*pi*y) - exp(I*t*tau + 2*I*pi*y)**(K + 1))/(1 - exp(I*t*tau + 2*I*pi*y))\n",
    "                               *exp(I*t*z)\n",
    "                               ,(t,0,oo)) + \n",
    "       exp(I*pi/2*s)/gamma(s)*Integral(t**(s-1)*\n",
    "                               sin((K+Rational(1,2))*(-t+2*pi*x))/sin((-t+2*pi*x)/2)*\n",
    "                               (exp(I*t*tau - 2*I*pi*y) - exp(I*t*tau - 2*I*pi*y)**(K + 1))/(1 - exp(I*t*tau - 2*I*pi*y))\n",
    "                               *exp(-I*t*z)\n",
    "                              ,(t,0,oo))\n",
    "  )\n",
    "K_integral_kronecker_partial"
   ]
  },
  {
   "cell_type": "code",
   "execution_count": 400,
   "id": "549b4dda",
   "metadata": {},
   "outputs": [
    {
     "data": {
      "text/latex": [
       "$\\displaystyle \\sum_{n=1}^{\\infty} e^{n \\left(i t \\tau - 2 i \\pi y\\right)} = \\frac{1}{e^{- i t \\tau + 2 i \\pi y} - 1}$"
      ],
      "text/plain": [
       "Eq(Sum(exp(n*(I*t*tau - 2*I*pi*y)), (n, 1, oo)), 1/(exp(-I*t*tau + 2*I*pi*y) - 1))"
      ]
     },
     "execution_count": 400,
     "metadata": {},
     "output_type": "execute_result"
    },
    {
     "data": {
      "text/latex": [
       "$\\displaystyle \\sum_{n=1}^{\\infty} e^{n \\left(i t \\tau + 2 i \\pi y\\right)} = \\frac{1}{e^{- i t \\tau - 2 i \\pi y} - 1}$"
      ],
      "text/plain": [
       "Eq(Sum(exp(n*(I*t*tau + 2*I*pi*y)), (n, 1, oo)), 1/(exp(-I*t*tau - 2*I*pi*y) - 1))"
      ]
     },
     "execution_count": 400,
     "metadata": {},
     "output_type": "execute_result"
    },
    {
     "data": {
      "text/latex": [
       "$\\displaystyle \\sum_{m=-\\infty}^{\\infty} e^{m \\left(i t + 2 i \\pi x\\right)} = 2 \\pi \\sum_{m=-\\infty}^{\\infty} \\delta{\\left(- 2 \\pi m + t + 2 \\pi x \\right)}$"
      ],
      "text/plain": [
       "Eq(Sum(exp(m*(I*t + 2*I*pi*x)), (m, -oo, oo)), 2*pi*Sum(delta(-2*pi*m + t + 2*pi*x), (m, -oo, oo)))"
      ]
     },
     "execution_count": 400,
     "metadata": {},
     "output_type": "execute_result"
    },
    {
     "data": {
      "text/latex": [
       "$\\displaystyle \\sum_{m=-\\infty}^{\\infty} e^{m \\left(- i t + 2 i \\pi x\\right)} = 2 \\pi \\sum_{m=-\\infty}^{\\infty} \\delta{\\left(- 2 \\pi m - t + 2 \\pi x \\right)}$"
      ],
      "text/plain": [
       "Eq(Sum(exp(m*(-I*t + 2*I*pi*x)), (m, -oo, oo)), 2*pi*Sum(delta(-2*pi*m - t + 2*pi*x), (m, -oo, oo)))"
      ]
     },
     "execution_count": 400,
     "metadata": {},
     "output_type": "execute_result"
    }
   ],
   "source": [
    "sum_t_minus = Eq(Sum(exp(n*(I*t*tau - 2*I*pi*y)),(n,1,oo)), 1/(exp(-I*t*tau + 2*I*pi*y) - 1))\n",
    "sum_t_plus = Eq(Sum(exp(n*(I*t*tau + 2*I*pi*y)),(n,1,oo)), 1/(exp(-I*t*tau - 2*I*pi*y) - 1))\n",
    "db_sum_t_plus = Eq(Sum(exp(m*(I*t+2*I*pi*x)),(m,-oo,oo)), 2*pi*Sum(delta(t+2*pi*x - 2*pi*m), (m,-oo,oo)))\n",
    "db_sum_t_minus = Eq(Sum(exp(m*(-I*t+2*I*pi*x)),(m,-oo,oo)), 2*pi*Sum(delta(-t+2*pi*x - 2*pi*m), (m,-oo,oo)))\n",
    "sum_t_minus\n",
    "sum_t_plus\n",
    "db_sum_t_plus\n",
    "db_sum_t_minus"
   ]
  },
  {
   "cell_type": "code",
   "execution_count": 357,
   "id": "1f81da7b",
   "metadata": {},
   "outputs": [
    {
     "data": {
      "text/latex": [
       "$\\displaystyle \\sum_{m=-\\infty}^{\\infty} \\left(m + z\\right)^{- s} e^{2 i \\pi m x}$"
      ],
      "text/plain": [
       "Sum(exp(2*I*pi*m*x)/(m + z)**s, (m, -oo, oo))"
      ]
     },
     "execution_count": 357,
     "metadata": {},
     "output_type": "execute_result"
    }
   ],
   "source": [
    "# see p54 Weil Kron and Eisen, and/or Lerch series\n",
    "Sum(exp(2*I*pi*m*x)/(m+z)**s,(m,-oo,oo)).doit()"
   ]
  },
  {
   "cell_type": "code",
   "execution_count": 385,
   "id": "1e1f90d4",
   "metadata": {},
   "outputs": [
    {
     "data": {
      "text/latex": [
       "$\\displaystyle - \\Gamma\\left(s\\right) \\sum_{m=-\\infty}^{\\infty} \\left(m + z\\right)^{- s} e^{2 i \\pi m x} + \\Gamma\\left(s\\right) \\sum_{\\substack{-\\infty \\leq m \\leq \\infty\\\\-\\infty \\leq n \\leq \\infty}} \\left(m + n \\tau + z\\right)^{- s} e^{2 i \\pi \\left(m x + n y\\right)} = e^{\\frac{i \\pi s}{2}} \\int\\limits_{0}^{\\infty} t^{s - 1} e^{- i t z} \\left(\\sum_{m=-\\infty}^{\\infty} e^{m \\left(- i t + 2 i \\pi x\\right)}\\right) \\sum_{n=1}^{\\infty} e^{n \\left(i t \\tau - 2 i \\pi y\\right)}\\, dt + e^{- \\frac{i \\pi s}{2}} \\int\\limits_{0}^{\\infty} t^{s - 1} e^{i t z} \\left(\\sum_{m=-\\infty}^{\\infty} e^{m \\left(i t + 2 i \\pi x\\right)}\\right) \\sum_{n=1}^{\\infty} e^{n \\left(i t \\tau + 2 i \\pi y\\right)}\\, dt$"
      ],
      "text/plain": [
       "Eq(-gamma(s)*Sum(exp(2*I*pi*m*x)/(m + z)**s, (m, -oo, oo)) + gamma(s)*Sum(exp(2*I*pi*(m*x + n*y))/(m + n*tau + z)**s, (m, -oo, oo), (n, -oo, oo)), exp(I*pi*s/2)*Integral(t**(s - 1)*exp(-I*t*z)*Sum(exp(m*(-I*t + 2*I*pi*x)), (m, -oo, oo))*Sum(exp(n*(I*t*tau - 2*I*pi*y)), (n, 1, oo)), (t, 0, oo)) + exp(-I*pi*s/2)*Integral(t**(s - 1)*exp(I*t*z)*Sum(exp(m*(I*t + 2*I*pi*x)), (m, -oo, oo))*Sum(exp(n*(I*t*tau + 2*I*pi*y)), (n, 1, oo)), (t, 0, oo)))"
      ]
     },
     "execution_count": 385,
     "metadata": {},
     "output_type": "execute_result"
    }
   ],
   "source": [
    "K_sum_integral_inf = K_sum_integral.subs(K,oo)\n",
    "K_sum_integral_inf"
   ]
  },
  {
   "cell_type": "code",
   "execution_count": 390,
   "id": "6c471d3a",
   "metadata": {},
   "outputs": [
    {
     "data": {
      "text/latex": [
       "$\\displaystyle \\int\\limits_{0}^{\\infty} t^{s - 1} e^{i t z} \\left(\\sum_{m=-\\infty}^{\\infty} e^{m \\left(i t + 2 i \\pi x\\right)}\\right) \\sum_{n=1}^{\\infty} e^{n \\left(i t \\tau + 2 i \\pi y\\right)}\\, dt = \\int\\limits_{0}^{\\infty} \\frac{2 \\pi t^{s - 1} e^{i t z} \\sum_{m=-\\infty}^{\\infty} \\delta{\\left(- 2 \\pi m + t + 2 \\pi x \\right)}}{e^{- i t \\tau - 2 i \\pi y} - 1}\\, dt$"
      ],
      "text/plain": [
       "Eq(Integral(t**(s - 1)*exp(I*t*z)*Sum(exp(m*(I*t + 2*I*pi*x)), (m, -oo, oo))*Sum(exp(n*(I*t*tau + 2*I*pi*y)), (n, 1, oo)), (t, 0, oo)), Integral(2*pi*t**(s - 1)*exp(I*t*z)*Sum(delta(-2*pi*m + t + 2*pi*x), (m, -oo, oo))/(exp(-I*t*tau - 2*I*pi*y) - 1), (t, 0, oo)))"
      ]
     },
     "execution_count": 390,
     "metadata": {},
     "output_type": "execute_result"
    },
    {
     "data": {
      "text/latex": [
       "$\\displaystyle \\int\\limits_{0}^{\\infty} t^{s - 1} e^{- i t z} \\left(\\sum_{m=-\\infty}^{\\infty} e^{m \\left(- i t + 2 i \\pi x\\right)}\\right) \\sum_{n=1}^{\\infty} e^{n \\left(i t \\tau - 2 i \\pi y\\right)}\\, dt = \\int\\limits_{0}^{\\infty} \\frac{2 \\pi t^{s - 1} e^{- i t z} \\sum_{m=-\\infty}^{\\infty} \\delta{\\left(- 2 \\pi m - t + 2 \\pi x \\right)}}{e^{- i t \\tau + 2 i \\pi y} - 1}\\, dt$"
      ],
      "text/plain": [
       "Eq(Integral(t**(s - 1)*exp(-I*t*z)*Sum(exp(m*(-I*t + 2*I*pi*x)), (m, -oo, oo))*Sum(exp(n*(I*t*tau - 2*I*pi*y)), (n, 1, oo)), (t, 0, oo)), Integral(2*pi*t**(s - 1)*exp(-I*t*z)*Sum(delta(-2*pi*m - t + 2*pi*x), (m, -oo, oo))/(exp(-I*t*tau + 2*I*pi*y) - 1), (t, 0, oo)))"
      ]
     },
     "execution_count": 390,
     "metadata": {},
     "output_type": "execute_result"
    }
   ],
   "source": [
    "sum_K_inf_1 = Eq(Integral(K_sum_integral_inf.rhs.args[0].args[0].args[0],(t,0,oo)),\n",
    "   Integral(K_sum_integral_inf.rhs.args[0].args[0].args[0].subs([\n",
    "        sum_t_minus.args,\n",
    "        sum_t_plus.args,\n",
    "        db_sum_t_plus.args,\n",
    "        db_sum_t_minus.args,\n",
    "    ]),(t,0,oo))\n",
    "  )\n",
    "sum_K_inf_2 = Eq(Integral(K_sum_integral_inf.rhs.args[1].args[0].args[0],(t,0,oo)),\n",
    "   Integral(K_sum_integral_inf.rhs.args[1].args[0].args[0].subs([\n",
    "        sum_t_minus.args,\n",
    "        sum_t_plus.args,\n",
    "        db_sum_t_plus.args,\n",
    "        db_sum_t_minus.args,\n",
    "    ]),(t,0,oo))\n",
    "  )\n",
    "\n",
    "sum_K_inf_1\n",
    "sum_K_inf_2"
   ]
  },
  {
   "cell_type": "code",
   "execution_count": 391,
   "id": "d345da29",
   "metadata": {},
   "outputs": [
    {
     "data": {
      "text/latex": [
       "$\\displaystyle - \\Gamma\\left(s\\right) \\sum_{m=-\\infty}^{\\infty} \\left(m + z\\right)^{- s} e^{2 i \\pi m x} + \\Gamma\\left(s\\right) \\sum_{\\substack{-\\infty \\leq m \\leq \\infty\\\\-\\infty \\leq n \\leq \\infty}} \\left(m + n \\tau + z\\right)^{- s} e^{2 i \\pi \\left(m x + n y\\right)} = e^{\\frac{i \\pi s}{2}} \\int\\limits_{0}^{\\infty} \\frac{2 \\pi t^{s - 1} e^{- i t z} \\sum_{m=-\\infty}^{\\infty} \\delta{\\left(- 2 \\pi m - t + 2 \\pi x \\right)}}{e^{- i t \\tau + 2 i \\pi y} - 1}\\, dt + e^{- \\frac{i \\pi s}{2}} \\int\\limits_{0}^{\\infty} \\frac{2 \\pi t^{s - 1} e^{i t z} \\sum_{m=-\\infty}^{\\infty} \\delta{\\left(- 2 \\pi m + t + 2 \\pi x \\right)}}{e^{- i t \\tau - 2 i \\pi y} - 1}\\, dt$"
      ],
      "text/plain": [
       "Eq(-gamma(s)*Sum(exp(2*I*pi*m*x)/(m + z)**s, (m, -oo, oo)) + gamma(s)*Sum(exp(2*I*pi*(m*x + n*y))/(m + n*tau + z)**s, (m, -oo, oo), (n, -oo, oo)), exp(I*pi*s/2)*Integral(2*pi*t**(s - 1)*exp(-I*t*z)*Sum(delta(-2*pi*m - t + 2*pi*x), (m, -oo, oo))/(exp(-I*t*tau + 2*I*pi*y) - 1), (t, 0, oo)) + exp(-I*pi*s/2)*Integral(2*pi*t**(s - 1)*exp(I*t*z)*Sum(delta(-2*pi*m + t + 2*pi*x), (m, -oo, oo))/(exp(-I*t*tau - 2*I*pi*y) - 1), (t, 0, oo)))"
      ]
     },
     "execution_count": 391,
     "metadata": {},
     "output_type": "execute_result"
    }
   ],
   "source": [
    "K_sum_integral_inf.subs([sum_K_inf_1.args, sum_K_inf_2.args])"
   ]
  },
  {
   "cell_type": "code",
   "execution_count": 395,
   "id": "77075b32",
   "metadata": {},
   "outputs": [
    {
     "data": {
      "text/latex": [
       "$\\displaystyle - \\sum_{m=-\\infty}^{\\infty} \\frac{e^{2 i \\pi m x}}{m + z} + \\sum_{\\substack{-\\infty \\leq m \\leq \\infty\\\\-\\infty \\leq n \\leq \\infty}} \\frac{e^{2 i \\pi \\left(m x + n y\\right)}}{m + n \\tau + z} = - i \\int\\limits_{0}^{\\infty} \\frac{2 \\pi e^{i t z} \\sum_{m=-\\infty}^{\\infty} \\delta{\\left(- 2 \\pi m + t + 2 \\pi x \\right)}}{e^{- i t \\tau - 2 i \\pi y} - 1}\\, dt + i \\int\\limits_{0}^{\\infty} \\frac{2 \\pi e^{- i t z} \\sum_{m=-\\infty}^{\\infty} \\delta{\\left(- 2 \\pi m - t + 2 \\pi x \\right)}}{e^{- i t \\tau + 2 i \\pi y} - 1}\\, dt$"
      ],
      "text/plain": [
       "Eq(-Sum(exp(2*I*pi*m*x)/(m + z), (m, -oo, oo)) + Sum(exp(2*I*pi*(m*x + n*y))/(m + n*tau + z), (m, -oo, oo), (n, -oo, oo)), -I*Integral(2*pi*exp(I*t*z)*Sum(delta(-2*pi*m + t + 2*pi*x), (m, -oo, oo))/(exp(-I*t*tau - 2*I*pi*y) - 1), (t, 0, oo)) + I*Integral(2*pi*exp(-I*t*z)*Sum(delta(-2*pi*m - t + 2*pi*x), (m, -oo, oo))/(exp(-I*t*tau + 2*I*pi*y) - 1), (t, 0, oo)))"
      ]
     },
     "execution_count": 395,
     "metadata": {},
     "output_type": "execute_result"
    }
   ],
   "source": [
    "K_sum_integral_inf.subs([sum_K_inf_1.args, sum_K_inf_2.args]).subs(s,1)"
   ]
  },
  {
   "cell_type": "code",
   "execution_count": 402,
   "id": "288d1a11",
   "metadata": {},
   "outputs": [
    {
     "data": {
      "text/latex": [
       "$\\displaystyle - \\sum_{m=-\\infty}^{\\infty} \\frac{e^{2 i \\pi m x}}{m + z} + \\sum_{\\substack{-\\infty \\leq m \\leq \\infty\\\\-\\infty \\leq n \\leq \\infty}} \\frac{e^{2 i \\pi \\left(m x + n y\\right)}}{m + n \\tau + z} = - i \\int\\limits_{0}^{\\infty} \\frac{2 \\pi e^{i t z} \\sum_{m=-\\infty}^{\\infty} \\delta{\\left(- 2 \\pi m + t + 2 \\pi x \\right)}}{e^{- i t \\tau - 2 i \\pi y} - 1}\\, dt + i \\int\\limits_{0}^{\\infty} \\frac{2 \\pi e^{- i t z} \\sum_{m=-\\infty}^{\\infty} \\delta{\\left(- 2 \\pi m + t - 2 \\pi x \\right)}}{e^{- i t \\tau + 2 i \\pi y} - 1}\\, dt$"
      ],
      "text/plain": [
       "Eq(-Sum(exp(2*I*pi*m*x)/(m + z), (m, -oo, oo)) + Sum(exp(2*I*pi*(m*x + n*y))/(m + n*tau + z), (m, -oo, oo), (n, -oo, oo)), -I*Integral(2*pi*exp(I*t*z)*Sum(delta(-2*pi*m + t + 2*pi*x), (m, -oo, oo))/(exp(-I*t*tau - 2*I*pi*y) - 1), (t, 0, oo)) + I*Integral(2*pi*exp(-I*t*z)*Sum(delta(-2*pi*m + t - 2*pi*x), (m, -oo, oo))/(exp(-I*t*tau + 2*I*pi*y) - 1), (t, 0, oo)))"
      ]
     },
     "execution_count": 402,
     "metadata": {},
     "output_type": "execute_result"
    }
   ],
   "source": [
    "Eq(-Sum(exp(2*I*pi*m*x)/(m + z), (m, -oo, oo)) + Sum(exp(2*I*pi*(m*x + n*y))/(m + n*tau + z), (m, -oo, oo), (n, -oo, oo)),\n",
    " -I*Integral(2*pi*exp(I*t*z)*Sum(delta(-2*pi*m + t + 2*pi*x), (m, -oo, oo))/(exp(-I*t*tau - 2*I*pi*y) - 1), (t, 0, oo)) + \n",
    "   I*Integral(2*pi*exp(-I*t*z)*Sum(delta(-2*pi*m + t - 2*pi*x), (m, -oo, oo))/(exp(-I*t*tau + 2*I*pi*y) - 1), (t, 0, oo)))"
   ]
  },
  {
   "cell_type": "code",
   "execution_count": 403,
   "id": "8a30369c",
   "metadata": {},
   "outputs": [
    {
     "data": {
      "text/latex": [
       "$\\displaystyle - \\sum_{m=-\\infty}^{\\infty} \\frac{e^{2 i \\pi m x}}{m + z} + \\sum_{\\substack{-\\infty \\leq m \\leq \\infty\\\\-\\infty \\leq n \\leq \\infty}} \\frac{e^{2 i \\pi \\left(m x + n y\\right)}}{m + n \\tau + z} = - i \\sum_{m=1}^{\\infty} \\frac{2 \\pi e^{2 i \\pi z \\left(m - x\\right)}}{e^{- 2 i \\pi \\tau \\left(m - x\\right) - 2 i \\pi y} - 1} + i \\sum_{m=0}^{\\infty} \\frac{2 \\pi e^{- 2 i \\pi z \\left(m + x\\right)}}{e^{- 2 i \\pi \\tau \\left(m + x\\right) + 2 i \\pi y} - 1}$"
      ],
      "text/plain": [
       "Eq(-Sum(exp(2*I*pi*m*x)/(m + z), (m, -oo, oo)) + Sum(exp(2*I*pi*(m*x + n*y))/(m + n*tau + z), (m, -oo, oo), (n, -oo, oo)), -I*Sum(2*pi*exp(2*I*pi*z*(m - x))/(exp(-2*I*pi*tau*(m - x) - 2*I*pi*y) - 1), (m, 1, oo)) + I*Sum(2*pi*exp(-2*I*pi*z*(m + x))/(exp(-2*I*pi*tau*(m + x) + 2*I*pi*y) - 1), (m, 0, oo)))"
      ]
     },
     "execution_count": 403,
     "metadata": {},
     "output_type": "execute_result"
    }
   ],
   "source": [
    "Eq(-Sum(exp(2*I*pi*m*x)/(m + z), (m, -oo, oo)) + \n",
    "   Sum(exp(2*I*pi*(m*x + n*y))/(m + n*tau + z), (m, -oo, oo), (n, -oo, oo)),\n",
    " -I*Sum(2*pi*exp(I*2*pi*(m-x)*z)/(exp(-I*2*pi*(m-x)*tau - 2*I*pi*y) - 1), (m, 1, oo)) +\n",
    "   I*Sum(2*pi*exp(-I*2*pi*(m+x)*z)/(exp(-I*2*pi*(m+x)*tau + 2*I*pi*y) - 1), (m, 0, oo))\n",
    "  )"
   ]
  },
  {
   "cell_type": "code",
   "execution_count": 408,
   "id": "d285d0f5",
   "metadata": {},
   "outputs": [
    {
     "data": {
      "text/latex": [
       "$\\displaystyle - \\sum_{m=-\\infty}^{\\infty} \\frac{e^{2 i \\pi m x}}{m + z} + \\sum_{\\substack{-\\infty \\leq m \\leq \\infty\\\\-\\infty \\leq n \\leq \\infty}} \\frac{e^{2 i \\pi \\left(m x + n y\\right)}}{m + n \\tau + z} = - 2 i \\pi e^{- 2 i \\pi x z} \\sum_{m=1}^{\\infty} \\frac{e^{2 i \\pi m z}}{e^{- 2 i \\pi \\tau \\left(m - x\\right) - 2 i \\pi y} - 1} + 2 i \\pi e^{- 2 i \\pi x z} \\sum_{m=1}^{\\infty} \\frac{e^{- 2 i \\pi m z}}{e^{- 2 i \\pi \\tau \\left(m + x\\right) + 2 i \\pi y} - 1} + \\frac{2 i \\pi e^{- 2 i \\pi x z}}{e^{- 2 i \\pi \\tau x + 2 i \\pi y} - 1}$"
      ],
      "text/plain": [
       "Eq(-Sum(exp(2*I*pi*m*x)/(m + z), (m, -oo, oo)) + Sum(exp(2*I*pi*(m*x + n*y))/(m + n*tau + z), (m, -oo, oo), (n, -oo, oo)), -2*I*pi*exp(-2*I*pi*x*z)*Sum(exp(2*I*pi*m*z)/(exp(-2*I*pi*tau*(m - x) - 2*I*pi*y) - 1), (m, 1, oo)) + 2*I*pi*exp(-2*I*pi*x*z)*Sum(exp(-2*I*pi*m*z)/(exp(-2*I*pi*tau*(m + x) + 2*I*pi*y) - 1), (m, 1, oo)) + 2*I*pi*exp(-2*I*pi*x*z)/(exp(-2*I*pi*tau*x + 2*I*pi*y) - 1))"
      ]
     },
     "execution_count": 408,
     "metadata": {},
     "output_type": "execute_result"
    }
   ],
   "source": [
    "nome_2 = Eq(-Sum(exp(2*I*pi*m*x)/(m + z), (m, -oo, oo)) + \n",
    "   Sum(exp(2*I*pi*(m*x + n*y))/(m + n*tau + z), (m, -oo, oo), (n, -oo, oo)),\n",
    " -I*2*pi*exp(-I*2*pi*x*z)*Sum(exp(I*2*pi*m*z)/(exp(-I*2*pi*(m-x)*tau - 2*I*pi*y) - 1), (m, 1, oo)) +\n",
    "   I*2*pi*exp(-I*2*pi*x*z)*Sum(exp(-I*2*pi*m*z)/(exp(-I*2*pi*(m+x)*tau + 2*I*pi*y) - 1), (m, 1, oo)) +\n",
    "   I*2*pi*exp(-I*2*pi*x*z)/(exp(-I*2*pi*x*tau + 2*I*pi*y) - 1)\n",
    "  )\n",
    "nome_2"
   ]
  },
  {
   "cell_type": "code",
   "execution_count": 481,
   "id": "132b5c54",
   "metadata": {},
   "outputs": [
    {
     "data": {
      "text/latex": [
       "$\\displaystyle \\sum_{m=-\\infty}^{\\infty} \\frac{e^{2 i \\pi m x}}{m + z} = \\frac{2 i \\pi e^{- 2 i \\pi x z}}{1 - e^{- 2 i \\pi z}}$"
      ],
      "text/plain": [
       "Eq(Sum(exp(2*I*pi*m*x)/(m + z), (m, -oo, oo)), 2*I*pi*exp(-2*I*pi*x*z)/(1 - exp(-2*I*pi*z)))"
      ]
     },
     "execution_count": 481,
     "metadata": {},
     "output_type": "execute_result"
    }
   ],
   "source": [
    "Eq(Sum(exp(2*I*pi*m*x)/(m + z), (m, -oo, oo)),2*pi*I*exp(-2*I*pi*x*z)/(1 - exp(-2*I*pi*z)))"
   ]
  },
  {
   "cell_type": "code",
   "execution_count": 545,
   "id": "63524393",
   "metadata": {},
   "outputs": [
    {
     "data": {
      "text/latex": [
       "$\\displaystyle \\sum_{m=-\\infty}^{\\infty} \\frac{e^{2 i \\pi \\left(m x + n y\\right)}}{m + n \\tau + z} = \\frac{2 i \\pi e^{2 i \\pi n y} e^{- 2 i \\pi x \\left(n \\tau + z\\right)}}{1 - e^{- 2 i \\pi \\left(n \\tau + z\\right)}}$"
      ],
      "text/plain": [
       "Eq(Sum(exp(2*I*pi*(m*x + n*y))/(m + n*tau + z), (m, -oo, oo)), 2*I*pi*exp(2*I*pi*n*y)*exp(-2*I*pi*x*(n*tau + z))/(1 - exp(-2*I*pi*(n*tau + z))))"
      ]
     },
     "execution_count": 545,
     "metadata": {},
     "output_type": "execute_result"
    }
   ],
   "source": [
    "Eq(Sum(exp(2*I*pi*(m*x+n*y))/(m + z), (m, -oo, oo)),\n",
    "   2*pi*I*exp(2*I*pi*n*y)*exp(-2*I*pi*x*z)/(1 - exp(-2*I*pi*z))).subs(z,z+n*tau)"
   ]
  },
  {
   "cell_type": "code",
   "execution_count": 533,
   "id": "11e86182",
   "metadata": {},
   "outputs": [
    {
     "data": {
      "text/latex": [
       "$\\displaystyle 3.27859976528777 + 2.0532217006704 i$"
      ],
      "text/plain": [
       "3.27859976528777 + 2.0532217006704*I"
      ]
     },
     "execution_count": 533,
     "metadata": {},
     "output_type": "execute_result"
    }
   ],
   "source": [
    "Sum(exp(2*I*pi*m*x)/(m + z), (m, -50, 50)).subs([(x,0.2),(z,0.3)]).evalf()"
   ]
  },
  {
   "cell_type": "code",
   "execution_count": 534,
   "id": "fba5946c",
   "metadata": {},
   "outputs": [
    {
     "data": {
      "text/latex": [
       "$\\displaystyle 3.27871284091777 + 2.08073443995221 i$"
      ],
      "text/plain": [
       "3.27871284091777 + 2.08073443995221*I"
      ]
     },
     "execution_count": 534,
     "metadata": {},
     "output_type": "execute_result"
    }
   ],
   "source": [
    "(2*pi*I*exp(-2*I*pi*x*z)/(1 - exp(-2*I*pi*z))).subs([(x,0.2),(z,0.3)]).evalf()"
   ]
  },
  {
   "cell_type": "code",
   "execution_count": 507,
   "id": "dcd8a375",
   "metadata": {},
   "outputs": [
    {
     "data": {
      "text/latex": [
       "$\\displaystyle \\sum_{\\substack{-\\infty \\leq m \\leq \\infty\\\\-\\infty \\leq n \\leq \\infty}} \\frac{e^{2 i \\pi \\left(m x + n y\\right)}}{m + n \\tau + z} = - 2 i \\pi e^{- 2 i \\pi x z} \\sum_{m=1}^{\\infty} \\frac{e^{2 i \\pi m z}}{e^{- 2 i \\pi \\tau \\left(m - x\\right) - 2 i \\pi y} - 1} + 2 i \\pi e^{- 2 i \\pi x z} \\sum_{m=1}^{\\infty} \\frac{e^{- 2 i \\pi m z}}{e^{- 2 i \\pi \\tau \\left(m + x\\right) + 2 i \\pi y} - 1} + \\frac{2 i \\pi e^{- 2 i \\pi x z}}{e^{- 2 i \\pi \\tau x + 2 i \\pi y} - 1} + \\frac{2 i \\pi e^{- 2 i \\pi x z}}{1 - e^{- 2 i \\pi z}}$"
      ],
      "text/plain": [
       "Eq(Sum(exp(2*I*pi*(m*x + n*y))/(m + n*tau + z), (m, -oo, oo), (n, -oo, oo)), -2*I*pi*exp(-2*I*pi*x*z)*Sum(exp(2*I*pi*m*z)/(exp(-2*I*pi*tau*(m - x) - 2*I*pi*y) - 1), (m, 1, oo)) + 2*I*pi*exp(-2*I*pi*x*z)*Sum(exp(-2*I*pi*m*z)/(exp(-2*I*pi*tau*(m + x) + 2*I*pi*y) - 1), (m, 1, oo)) + 2*I*pi*exp(-2*I*pi*x*z)/(exp(-2*I*pi*tau*x + 2*I*pi*y) - 1) + 2*I*pi*exp(-2*I*pi*x*z)/(1 - exp(-2*I*pi*z)))"
      ]
     },
     "execution_count": 507,
     "metadata": {},
     "output_type": "execute_result"
    }
   ],
   "source": [
    "nome_2b = Eq(\n",
    "   Sum(exp(2*I*pi*(m*x + n*y))/(m + n*tau + z), (m, -oo, oo), (n, -oo, oo)),\n",
    " -I*2*pi*exp(-I*2*pi*x*z)*Sum(exp(I*2*pi*m*z)/(exp(-I*2*pi*(m-x)*tau - 2*I*pi*y) - 1), (m, 1, oo)) +\n",
    "   I*2*pi*exp(-I*2*pi*x*z)*Sum(exp(-I*2*pi*m*z)/(exp(-I*2*pi*(m+x)*tau + 2*I*pi*y) - 1), (m, 1, oo)) +\n",
    "   I*2*pi*exp(-I*2*pi*x*z)/(exp(-I*2*pi*x*tau + 2*I*pi*y) - 1) + \n",
    "    2*pi*I*exp(-2*I*pi*x*z)/(1 - exp(-2*I*pi*z))\n",
    "  )\n",
    "nome_2b"
   ]
  },
  {
   "cell_type": "code",
   "execution_count": 494,
   "id": "e91108a3",
   "metadata": {
    "scrolled": true
   },
   "outputs": [
    {
     "data": {
      "text/latex": [
       "$\\displaystyle \\frac{\\theta{\\left(- \\tau x + y + z,\\tau \\right)} \\theta{\\left(0,\\tau,1 \\right)}}{\\theta{\\left(z,\\tau \\right)} \\theta{\\left(- \\tau x + y,\\tau \\right)}} = - 2 i \\pi \\sum_{m=1}^{\\infty} \\frac{e^{2 i \\pi m z}}{e^{- 2 i \\pi \\tau \\left(m - x\\right) - 2 i \\pi y} - 1} + 2 i \\pi \\sum_{m=1}^{\\infty} \\frac{e^{- 2 i \\pi m z}}{e^{- 2 i \\pi \\tau \\left(m + x\\right) + 2 i \\pi y} - 1} + \\frac{2 i \\pi}{e^{- 2 i \\pi \\tau x + 2 i \\pi y} - 1} + \\frac{2 i \\pi}{1 - e^{- 2 i \\pi z}}$"
      ],
      "text/plain": [
       "Eq(theta(-tau*x + y + z, tau)*theta(0, tau, 1)/(theta(z, tau)*theta(-tau*x + y, tau)), -2*I*pi*Sum(exp(2*I*pi*m*z)/(exp(-2*I*pi*tau*(m - x) - 2*I*pi*y) - 1), (m, 1, oo)) + 2*I*pi*Sum(exp(-2*I*pi*m*z)/(exp(-2*I*pi*tau*(m + x) + 2*I*pi*y) - 1), (m, 1, oo)) + 2*I*pi/(exp(-2*I*pi*tau*x + 2*I*pi*y) - 1) + 2*I*pi/(1 - exp(-2*I*pi*z)))"
      ]
     },
     "execution_count": 494,
     "metadata": {},
     "output_type": "execute_result"
    }
   ],
   "source": [
    "nome_3 = Eq(\n",
    "   theta(-tau*x + y + z, tau)*theta(0, tau, 1)/theta(z, tau)/theta(-tau*x + y, tau),\n",
    " -I*2*pi*Sum(exp(I*2*pi*m*z)/(exp(-I*2*pi*(m-x)*tau - 2*I*pi*y) - 1), (m, 1, oo)) +\n",
    "   I*2*pi*Sum(exp(-I*2*pi*m*z)/(exp(-I*2*pi*(m+x)*tau + 2*I*pi*y) - 1), (m, 1, oo)) +\n",
    "   I*2*pi/(exp(-I*2*pi*x*tau + 2*I*pi*y) - 1) + 2*pi*I/(1 - exp(-2*I*pi*z))\n",
    "  )\n",
    "nome_3"
   ]
  },
  {
   "cell_type": "code",
   "execution_count": 549,
   "id": "96fbc24f",
   "metadata": {},
   "outputs": [
    {
     "data": {
      "text/latex": [
       "$\\displaystyle \\frac{\\theta{\\left(- \\tau x + y + z,\\tau \\right)} \\theta{\\left(0,\\tau,1 \\right)}}{\\theta{\\left(z,\\tau \\right)} \\theta{\\left(- \\tau x + y,\\tau \\right)}} = - 2 i \\pi \\sum_{m=1}^{\\infty} \\frac{e^{2 i \\pi m z}}{e^{- 2 i \\pi \\tau \\left(m - x\\right) - 2 i \\pi y} - 1} + 2 i \\pi \\sum_{m=1}^{\\infty} \\frac{e^{- 2 i \\pi m z}}{e^{- 2 i \\pi \\tau \\left(m + x\\right) + 2 i \\pi y} - 1} + \\frac{2 i \\pi}{e^{- 2 i \\pi \\tau x + 2 i \\pi y} - 1} + \\frac{2 i \\pi}{1 - e^{- 2 i \\pi z}}$"
      ],
      "text/plain": [
       "Eq(theta(-tau*x + y + z, tau)*theta(0, tau, 1)/(theta(z, tau)*theta(-tau*x + y, tau)), -2*I*pi*Sum(exp(2*I*pi*m*z)/(exp(-2*I*pi*tau*(m - x) - 2*I*pi*y) - 1), (m, 1, oo)) + 2*I*pi*Sum(exp(-2*I*pi*m*z)/(exp(-2*I*pi*tau*(m + x) + 2*I*pi*y) - 1), (m, 1, oo)) + 2*I*pi/(exp(-2*I*pi*tau*x + 2*I*pi*y) - 1) + 2*I*pi/(1 - exp(-2*I*pi*z)))"
      ]
     },
     "execution_count": 549,
     "metadata": {},
     "output_type": "execute_result"
    }
   ],
   "source": [
    "nome_4 = Eq(\n",
    "   theta(-tau*x + y + z, tau)*theta(0, tau, 1)/theta(z, tau)/theta(-tau*x + y, tau),\n",
    " -I*2*pi*Sum(exp(I*2*pi*m*z)/(exp(-I*2*pi*(m-x)*tau - 2*I*pi*y) - 1), (m, 1, oo)) +\n",
    "   I*2*pi*Sum(exp(-I*2*pi*m*z)/(exp(-I*2*pi*(m+x)*tau + 2*I*pi*y) - 1), (m, 1, oo)) +\n",
    "   I*2*pi/(exp(-I*2*pi*x*tau + 2*I*pi*y) - 1) + 2*pi*I/(1 - exp(-2*I*pi*z))\n",
    "  )\n",
    "nome_4"
   ]
  },
  {
   "cell_type": "code",
   "execution_count": 553,
   "id": "38cdc496",
   "metadata": {},
   "outputs": [
    {
     "data": {
      "text/latex": [
       "$\\displaystyle \\sum_{n=0}^{\\infty} \\left(e^{- 2 i \\pi \\tau \\left(m - x\\right) - 2 i \\pi y}\\right)^{n} = \\frac{1}{1 - e^{- 2 i \\pi \\tau \\left(m - x\\right) - 2 i \\pi y}}$"
      ],
      "text/plain": [
       "Eq(Sum(exp(-2*I*pi*tau*(m - x) - 2*I*pi*y)**n, (n, 0, oo)), 1/(1 - exp(-2*I*pi*tau*(m - x) - 2*I*pi*y)))"
      ]
     },
     "execution_count": 553,
     "metadata": {},
     "output_type": "execute_result"
    }
   ],
   "source": [
    "Eq(Sum(x**n,(n,0,oo)), Sum(x**n,(n,0,oo)).doit().args[0].args[0]).subs(x,exp(-2*I*pi*tau*(m-x)-2*I*pi*y))"
   ]
  },
  {
   "cell_type": "code",
   "execution_count": 128,
   "id": "a49f55ef",
   "metadata": {},
   "outputs": [
    {
     "data": {
      "text/latex": [
       "$\\displaystyle H{\\left(x \\right)} = \\begin{cases} 1 & \\text{for}\\: x \\geq 0 \\\\-1 & \\text{otherwise} \\end{cases}$"
      ],
      "text/plain": [
       "Eq(H(x), Piecewise((1, x >= 0), (-1, True)))"
      ]
     },
     "execution_count": 128,
     "metadata": {},
     "output_type": "execute_result"
    },
    {
     "data": {
      "text/latex": [
       "$\\displaystyle f{\\left(z \\right)} = \\int\\limits_{-\\infty}^{\\infty} \\delta{\\left(- t + z \\right)} f{\\left(t \\right)}\\, dt$"
      ],
      "text/plain": [
       "Eq(f(z), Integral(delta(-t + z)*f(t), (t, -oo, oo)))"
      ]
     },
     "execution_count": 128,
     "metadata": {},
     "output_type": "execute_result"
    }
   ],
   "source": [
    "# Heaviside\n",
    "Eq(H(x), Piecewise((1,x>=0),(-1,x<0)))\n",
    "\n",
    "# Dirac delta\n",
    "Eq(f(z), Integral(delta(z-t)*f(t),(t,-oo,oo)))"
   ]
  },
  {
   "cell_type": "markdown",
   "id": "81000a55",
   "metadata": {},
   "source": [
    "$\\theta(z,\\tau,k)=\\pi^k \\mathrm{jtheta}(1,\\pi z,\\exp(i \\pi \\tau),k)$"
   ]
  },
  {
   "cell_type": "code",
   "execution_count": 359,
   "id": "9078a405",
   "metadata": {},
   "outputs": [
    {
     "data": {
      "text/latex": [
       "$\\displaystyle \\Gamma\\left(s\\right) \\sum_{\\substack{-\\infty \\leq m \\leq \\infty\\\\-\\infty \\leq n \\leq \\infty}} \\left(m + n \\tau + z\\right)^{- s} e^{2 i \\pi \\left(m x + n y\\right)} = e^{\\frac{i \\pi s}{2}} \\int\\limits_{0}^{\\infty} \\frac{2 \\pi t^{s - 1} e^{- i t z} \\sum_{m=-\\infty}^{\\infty} \\delta{\\left(- 2 \\pi m - t + 2 \\pi x \\right)}}{e^{- i t \\tau + 2 i \\pi y} - 1}\\, dt + e^{- \\frac{i \\pi s}{2}} \\int\\limits_{0}^{\\infty} \\frac{2 \\pi t^{s - 1} e^{i t z} \\sum_{m=-\\infty}^{\\infty} \\delta{\\left(- 2 \\pi m + t + 2 \\pi x \\right)}}{e^{i t \\tau + 2 i \\pi y} - 1}\\, dt$"
      ],
      "text/plain": [
       "Eq(gamma(s)*Sum(exp(2*I*pi*(m*x + n*y))/(m + n*tau + z)**s, (m, -oo, oo), (n, -oo, oo)), exp(I*pi*s/2)*Integral(2*pi*t**(s - 1)*exp(-I*t*z)*Sum(delta(-2*pi*m - t + 2*pi*x), (m, -oo, oo))/(exp(-I*t*tau + 2*I*pi*y) - 1), (t, 0, oo)) + exp(-I*pi*s/2)*Integral(2*pi*t**(s - 1)*exp(I*t*z)*Sum(delta(-2*pi*m + t + 2*pi*x), (m, -oo, oo))/(exp(I*t*tau + 2*I*pi*y) - 1), (t, 0, oo)))"
      ]
     },
     "execution_count": 359,
     "metadata": {},
     "output_type": "execute_result"
    },
    {
     "data": {
      "text/latex": [
       "$\\displaystyle \\Gamma\\left(s\\right) \\sum_{\\substack{-\\infty \\leq m \\leq \\infty\\\\-\\infty \\leq n \\leq \\infty}} \\left(m + n \\tau + z\\right)^{- s} e^{2 i \\pi \\left(m x + n y\\right)} = \\sum_{m=-\\infty}^{\\infty} \\left(e^{\\frac{i \\pi s}{2}} \\int\\limits_{0}^{\\infty} \\frac{2 \\pi t^{s - 1} \\delta{\\left(- 2 \\pi m - t + 2 \\pi x \\right)} e^{- i t z}}{e^{- i t \\tau + 2 i \\pi y} - 1}\\, dt + e^{- \\frac{i \\pi s}{2}} \\int\\limits_{0}^{\\infty} \\frac{2 \\pi t^{s - 1} \\delta{\\left(- 2 \\pi m + t + 2 \\pi x \\right)} e^{i t z}}{e^{i t \\tau + 2 i \\pi y} - 1}\\, dt\\right)$"
      ],
      "text/plain": [
       "Eq(gamma(s)*Sum(exp(2*I*pi*(m*x + n*y))/(m + n*tau + z)**s, (m, -oo, oo), (n, -oo, oo)), Sum(exp(I*pi*s/2)*Integral(2*pi*t**(s - 1)*delta(-2*pi*m - t + 2*pi*x)*exp(-I*t*z)/(exp(-I*t*tau + 2*I*pi*y) - 1), (t, 0, oo)) + exp(-I*pi*s/2)*Integral(2*pi*t**(s - 1)*delta(-2*pi*m + t + 2*pi*x)*exp(I*t*z)/(exp(I*t*tau + 2*I*pi*y) - 1), (t, 0, oo)), (m, -oo, oo)))"
      ]
     },
     "execution_count": 359,
     "metadata": {},
     "output_type": "execute_result"
    },
    {
     "data": {
      "text/latex": [
       "$\\displaystyle \\Gamma\\left(s\\right) \\sum_{\\substack{-\\infty \\leq m \\leq \\infty\\\\-\\infty \\leq n \\leq \\infty}} \\left(m + n \\tau + z\\right)^{- s} e^{2 i \\pi \\left(m x + n y\\right)} = \\sum_{m=-\\infty}^{\\infty} \\left(e^{\\frac{i \\pi s}{2}} \\int\\limits_{0}^{\\infty} \\frac{2 \\pi t^{s - 1} \\delta{\\left(- 2 \\pi m - t + 2 \\pi x \\right)} e^{- i t z}}{e^{- i t \\tau + 2 i \\pi y} - 1}\\, dt + e^{- \\frac{i \\pi s}{2}} \\int\\limits_{-\\infty}^{0} \\frac{2 \\pi \\left(- t\\right)^{s - 1} \\delta{\\left(- 2 \\pi m - t + 2 \\pi x \\right)} e^{- i t z}}{e^{- i t \\tau + 2 i \\pi y} - 1}\\, dt\\right)$"
      ],
      "text/plain": [
       "Eq(gamma(s)*Sum(exp(2*I*pi*(m*x + n*y))/(m + n*tau + z)**s, (m, -oo, oo), (n, -oo, oo)), Sum(exp(I*pi*s/2)*Integral(2*pi*t**(s - 1)*delta(-2*pi*m - t + 2*pi*x)*exp(-I*t*z)/(exp(-I*t*tau + 2*I*pi*y) - 1), (t, 0, oo)) + exp(-I*pi*s/2)*Integral(2*pi*(-t)**(s - 1)*delta(-2*pi*m - t + 2*pi*x)*exp(-I*t*z)/(exp(-I*t*tau + 2*I*pi*y) - 1), (t, -oo, 0)), (m, -oo, oo)))"
      ]
     },
     "execution_count": 359,
     "metadata": {},
     "output_type": "execute_result"
    },
    {
     "data": {
      "text/latex": [
       "$\\displaystyle \\Gamma\\left(s\\right) \\sum_{\\substack{-\\infty \\leq m \\leq \\infty\\\\-\\infty \\leq n \\leq \\infty}} \\left(m + n \\tau + z\\right)^{- s} e^{2 i \\pi \\left(m x + n y\\right)} = \\sum_{m=-\\infty}^{\\infty} \\left(- e^{\\frac{i \\pi s}{2}} \\int\\limits_{-\\infty}^{0} \\frac{2 \\pi t^{s - 1} \\delta{\\left(- 2 \\pi m - t + 2 \\pi x \\right)} e^{- i t z}}{e^{- i t \\tau + 2 i \\pi y} - 1}\\, dt + e^{\\frac{i \\pi s}{2}} \\int\\limits_{0}^{\\infty} \\frac{2 \\pi t^{s - 1} \\delta{\\left(- 2 \\pi m - t + 2 \\pi x \\right)} e^{- i t z}}{e^{- i t \\tau + 2 i \\pi y} - 1}\\, dt\\right)$"
      ],
      "text/plain": [
       "Eq(gamma(s)*Sum(exp(2*I*pi*(m*x + n*y))/(m + n*tau + z)**s, (m, -oo, oo), (n, -oo, oo)), Sum(-exp(I*pi*s/2)*Integral(2*pi*t**(s - 1)*delta(-2*pi*m - t + 2*pi*x)*exp(-I*t*z)/(exp(-I*t*tau + 2*I*pi*y) - 1), (t, -oo, 0)) + exp(I*pi*s/2)*Integral(2*pi*t**(s - 1)*delta(-2*pi*m - t + 2*pi*x)*exp(-I*t*z)/(exp(-I*t*tau + 2*I*pi*y) - 1), (t, 0, oo)), (m, -oo, oo)))"
      ]
     },
     "execution_count": 359,
     "metadata": {},
     "output_type": "execute_result"
    },
    {
     "data": {
      "text/latex": [
       "$\\displaystyle \\Gamma\\left(s\\right) \\sum_{\\substack{-\\infty \\leq m \\leq \\infty\\\\-\\infty \\leq n \\leq \\infty}} \\left(m + n \\tau + z\\right)^{- s} e^{2 i \\pi \\left(m x + n y\\right)} = \\sum_{m=-\\infty}^{\\infty} e^{\\frac{i \\pi s}{2}} \\int\\limits_{-\\infty}^{\\infty} \\frac{2 \\pi t^{s - 1} H{\\left(t \\right)} \\delta{\\left(- 2 \\pi m - t + 2 \\pi x \\right)} e^{- i t z}}{e^{- i t \\tau + 2 i \\pi y} - 1}\\, dt$"
      ],
      "text/plain": [
       "Eq(gamma(s)*Sum(exp(2*I*pi*(m*x + n*y))/(m + n*tau + z)**s, (m, -oo, oo), (n, -oo, oo)), Sum(exp(I*pi*s/2)*Integral(2*pi*t**(s - 1)*H(t)*delta(-2*pi*m - t + 2*pi*x)*exp(-I*t*z)/(exp(-I*t*tau + 2*I*pi*y) - 1), (t, -oo, oo)), (m, -oo, oo)))"
      ]
     },
     "execution_count": 359,
     "metadata": {},
     "output_type": "execute_result"
    }
   ],
   "source": [
    "Eq(gamma(s)*Sum(exp(2*I*pi*(m*x+n*y))/(m+n*tau+z)**s,(m,-oo,oo),(n,-oo,oo)),\n",
    "       exp(-I*pi/2*s)*Integral(t**(s-1)*\n",
    "                               2*pi*Sum(delta(t+2*pi*x - 2*pi*m), (m,-oo,oo))*\n",
    "                               1/(exp(I*t*tau + 2*I*pi*y) - 1)\n",
    "                               *exp(I*t*z)\n",
    "                               ,(t,0,oo)) + \n",
    "       exp(I*pi/2*s)*Integral(t**(s-1)*\n",
    "                              2*pi*Sum(delta(-t+2*pi*x - 2*pi*m), (m,-oo,oo))*\n",
    "                               1/(exp(-I*t*tau + 2*I*pi*y) - 1)\n",
    "                               *exp(-I*t*z)\n",
    "                              ,(t,0,oo))\n",
    "  )\n",
    "\n",
    "Eq(gamma(s)*Sum(exp(2*I*pi*(m*x+n*y))/(m+n*tau+z)**s,(m,-oo,oo),(n,-oo,oo)),\n",
    "       Sum(exp(-I*pi/2*s)*Integral(t**(s-1)*\n",
    "                               2*pi*delta(t+2*pi*x - 2*pi*m)*\n",
    "                               1/(exp(I*t*tau + 2*I*pi*y) - 1)\n",
    "                               *exp(I*t*z)\n",
    "                               ,(t,0,oo)) + \n",
    "       exp(I*pi/2*s)*Integral(t**(s-1)*\n",
    "                              2*pi*delta(-t+2*pi*x - 2*pi*m)*\n",
    "                               1/(exp(-I*t*tau + 2*I*pi*y) - 1)\n",
    "                               *exp(-I*t*z)\n",
    "                              ,(t,0,oo)), (m,-oo,oo))\n",
    "  )\n",
    "\n",
    "Eq(gamma(s)*Sum(exp(2*I*pi*(m*x+n*y))/(m+n*tau+z)**s,(m,-oo,oo),(n,-oo,oo)),\n",
    "       Sum(exp(-I*pi/2*s)*Integral((-t)**(s-1)*\n",
    "                               2*pi*delta(-t+2*pi*x - 2*pi*m)*\n",
    "                               1/(exp(-I*t*tau + 2*I*pi*y) - 1)\n",
    "                               *exp(-I*t*z)\n",
    "                               ,(t,-oo,0)) + \n",
    "       exp(I*pi/2*s)*Integral(t**(s-1)*\n",
    "                              2*pi*delta(-t+2*pi*x - 2*pi*m)*\n",
    "                               1/(exp(-I*t*tau + 2*I*pi*y) - 1)\n",
    "                               *exp(-I*t*z)\n",
    "                              ,(t,0,oo)), (m,-oo,oo))\n",
    "  )\n",
    "\n",
    "Eq(gamma(s)*Sum(exp(2*I*pi*(m*x+n*y))/(m+n*tau+z)**s,(m,-oo,oo),(n,-oo,oo)),\n",
    "       Sum(simplify(exp(-I*pi/2*s)*exp(I*pi*(s-1))).expand()*Integral(t**(s-1)*\n",
    "                               2*pi*delta(-t+2*pi*x - 2*pi*m)*\n",
    "                               1/(exp(-I*t*tau + 2*I*pi*y) - 1)\n",
    "                               *exp(-I*t*z)\n",
    "                               ,(t,-oo,0)) + \n",
    "       exp(I*pi/2*s)*Integral(t**(s-1)*\n",
    "                              2*pi*delta(-t+2*pi*x - 2*pi*m)*\n",
    "                               1/(exp(-I*t*tau + 2*I*pi*y) - 1)\n",
    "                               *exp(-I*t*z)\n",
    "                              ,(t,0,oo)), (m,-oo,oo))\n",
    "  )\n",
    "\n",
    "Eq(gamma(s)*Sum(exp(2*I*pi*(m*x+n*y))/(m+n*tau+z)**s,(m,-oo,oo),(n,-oo,oo)),\n",
    "       Sum(exp(I*pi/2*s)*Integral(\n",
    "           H(t)*t**(s-1)*2*pi*delta(-t+2*pi*x - 2*pi*m)/(exp(-I*t*tau + 2*I*pi*y) - 1)*exp(-I*t*z)\n",
    "                              ,(t,-oo,oo)), (m,-oo,oo))\n",
    "  )"
   ]
  },
  {
   "cell_type": "code",
   "execution_count": 130,
   "id": "cb0ad90a",
   "metadata": {},
   "outputs": [
    {
     "data": {
      "text/latex": [
       "$\\displaystyle e^{\\frac{i \\pi s}{2}} \\int\\limits_{-\\infty}^{\\infty} \\frac{2 \\pi t^{s - 1} H{\\left(t \\right)} \\delta{\\left(- 2 \\pi m - t + 2 \\pi x \\right)} e^{- i t z}}{e^{- i t \\tau + 2 i \\pi y} - 1}\\, dt = - \\frac{\\left(2 \\pi\\right)^{s} \\left(- m + x\\right)^{s - 1} e^{\\frac{i \\pi s}{2}} e^{2 i \\pi m z} e^{- 2 i \\pi x z} \\operatorname{sign}{\\left(m \\right)}}{e^{2 i \\pi m \\tau - 2 i \\pi \\tau x + 2 i \\pi y} - 1}$"
      ],
      "text/plain": [
       "Eq(exp(I*pi*s/2)*Integral(2*pi*t**(s - 1)*H(t)*delta(-2*pi*m - t + 2*pi*x)*exp(-I*t*z)/(exp(-I*t*tau + 2*I*pi*y) - 1), (t, -oo, oo)), -(2*pi)**s*(-m + x)**(s - 1)*exp(I*pi*s/2)*exp(2*I*pi*m*z)*exp(-2*I*pi*x*z)*sign(m)/(exp(2*I*pi*m*tau - 2*I*pi*tau*x + 2*I*pi*y) - 1))"
      ]
     },
     "execution_count": 130,
     "metadata": {},
     "output_type": "execute_result"
    }
   ],
   "source": [
    "Eq(exp(I*pi/2*s)*Integral(\n",
    "           H(t)*t**(s-1)*2*pi*delta(-t+2*pi*x - 2*pi*m)/(exp(-I*t*tau + 2*I*pi*y) - 1)*exp(-I*t*z)\n",
    "                              ,(t,-oo,oo)),\n",
    "#    (exp(I*pi/2*s)*H(t)*t**(s-1)*2*pi/(exp(-I*t*tau + 2*I*pi*y) - 1)*exp(-I*t*z)\n",
    "#    ).subs(t,2*pi*x - 2*pi*m)\n",
    "   -exp(I*pi/2*s)*sign(m)*(2*pi)**s*(x-m)**(s-1)/(exp(expand(-I*(2*pi*x - 2*pi*m)*tau) + 2*I*pi*y) - 1)*exp(-I*(2*pi*x - 2*pi*m)*z).expand()\n",
    "  )"
   ]
  },
  {
   "cell_type": "code",
   "execution_count": 252,
   "id": "6d26394c",
   "metadata": {},
   "outputs": [
    {
     "data": {
      "text/latex": [
       "$\\displaystyle \\sum_{\\substack{-\\infty \\leq m \\leq \\infty\\\\-\\infty \\leq n \\leq \\infty}} \\left(m + n \\tau + z\\right)^{- s} e^{2 i \\pi \\left(m x + n y\\right)} = \\frac{\\left(2 \\pi\\right)^{s} e^{\\frac{i \\pi s}{2}} e^{- 2 i \\pi x z} \\sum_{m=-\\infty}^{\\infty} \\frac{\\left(- m + x\\right)^{s - 1} e^{2 i \\pi m z} \\operatorname{sign}{\\left(m \\right)}}{1 - e^{2 i \\pi m \\tau - 2 i \\pi \\tau x + 2 i \\pi y}}}{\\Gamma\\left(s\\right)}$"
      ],
      "text/plain": [
       "Eq(Sum(exp(2*I*pi*(m*x + n*y))/(m + n*tau + z)**s, (m, -oo, oo), (n, -oo, oo)), (2*pi)**s*exp(I*pi*s/2)*exp(-2*I*pi*x*z)*Sum((-m + x)**(s - 1)*exp(2*I*pi*m*z)*sign(m)/(1 - exp(2*I*pi*m*tau - 2*I*pi*tau*x + 2*I*pi*y)), (m, -oo, oo))/gamma(s))"
      ]
     },
     "execution_count": 252,
     "metadata": {},
     "output_type": "execute_result"
    }
   ],
   "source": [
    "s_fourier_series_in_z = Eq(Sum(exp(2*I*pi*(m*x+n*y))/(m+n*tau+z)**s,(m,-oo,oo),(n,-oo,oo)),\n",
    "       exp(-I*2*pi*x*z)*exp(I*pi/2*s)*(2*pi)**s/gamma(s)*Sum(\n",
    "           sign(m)*(x-m)**(s-1)/(1 - exp(-I*2*pi*x*tau + 2*pi*I*m*tau + 2*I*pi*y))*exp(I*2*pi*m*z)\n",
    "           , (m,-oo,oo))\n",
    "  )\n",
    "s_fourier_series_in_z"
   ]
  },
  {
   "cell_type": "code",
   "execution_count": 251,
   "id": "e889a41d",
   "metadata": {},
   "outputs": [
    {
     "data": {
      "text/latex": [
       "$\\displaystyle \\frac{\\theta{\\left(- \\tau x + y + z,\\tau \\right)} \\theta{\\left(0,\\tau,1 \\right)} e^{- 2 i \\pi x z}}{\\theta{\\left(z,\\tau \\right)} \\theta{\\left(- \\tau x + y,\\tau \\right)}} = \\sum_{\\substack{-\\infty \\leq m \\leq \\infty\\\\-\\infty \\leq n \\leq \\infty}} \\frac{e^{2 i \\pi \\left(m x + n y\\right)}}{m + n \\tau + z}$"
      ],
      "text/plain": [
       "Eq(theta(-tau*x + y + z, tau)*theta(0, tau, 1)*exp(-2*I*pi*x*z)/(theta(z, tau)*theta(-tau*x + y, tau)), Sum(exp(2*I*pi*(m*x + n*y))/(m + n*tau + z), (m, -oo, oo), (n, -oo, oo)))"
      ]
     },
     "execution_count": 251,
     "metadata": {},
     "output_type": "execute_result"
    }
   ],
   "source": [
    "kronekcer_theta_series = Eq(\n",
    "    exp(2*I*pi*xi*u)*theta(0,tau,1)*theta(u + eta + tau*xi, tau)/theta(u, tau)/theta(eta + tau*xi, tau),\n",
    "    Sum(Sum(exp(2*I*pi*(-m*xi + n*eta))/(u + m + n*tau),(m,-oo, oo)),(n,-oo, oo))\n",
    ").subs([(u,z),(xi,-x),(eta,y)])\n",
    "kronekcer_theta_series"
   ]
  },
  {
   "cell_type": "code",
   "execution_count": 142,
   "id": "4f42c2ab",
   "metadata": {},
   "outputs": [
    {
     "data": {
      "text/latex": [
       "$\\displaystyle \\sum_{\\substack{-\\infty \\leq m \\leq \\infty\\\\-\\infty \\leq n \\leq \\infty}} \\frac{e^{2 i \\pi \\left(m x + n y\\right)}}{m + n \\tau + z} = 2 i \\pi e^{- 2 i \\pi x z} \\sum_{m=-\\infty}^{\\infty} \\frac{e^{2 i \\pi m z} \\operatorname{sign}{\\left(m \\right)}}{1 - e^{2 i \\pi m \\tau - 2 i \\pi \\tau x + 2 i \\pi y}}$"
      ],
      "text/plain": [
       "Eq(Sum(exp(2*I*pi*(m*x + n*y))/(m + n*tau + z), (m, -oo, oo), (n, -oo, oo)), 2*I*pi*exp(-2*I*pi*x*z)*Sum(exp(2*I*pi*m*z)*sign(m)/(1 - exp(2*I*pi*m*tau - 2*I*pi*tau*x + 2*I*pi*y)), (m, -oo, oo)))"
      ]
     },
     "execution_count": 142,
     "metadata": {},
     "output_type": "execute_result"
    }
   ],
   "source": [
    "s1_fourier_series_in_z = s_fourier_series_in_z.subs(s,1)\n",
    "s1_fourier_series_in_z"
   ]
  },
  {
   "cell_type": "code",
   "execution_count": 260,
   "id": "8e64bd64",
   "metadata": {},
   "outputs": [
    {
     "data": {
      "text/latex": [
       "$\\displaystyle \\frac{\\theta{\\left(- \\tau x + y + z,\\tau \\right)} \\theta{\\left(0,\\tau,1 \\right)}}{\\theta{\\left(z,\\tau \\right)} \\theta{\\left(- \\tau x + y,\\tau \\right)}} = 2 i \\pi \\sum_{m=-\\infty}^{\\infty} \\frac{e^{2 i \\pi m z} \\operatorname{sign}{\\left(m \\right)}}{1 - e^{2 i \\pi m \\tau - 2 i \\pi \\tau x + 2 i \\pi y}}$"
      ],
      "text/plain": [
       "Eq(theta(-tau*x + y + z, tau)*theta(0, tau, 1)/(theta(z, tau)*theta(-tau*x + y, tau)), 2*I*pi*Sum(exp(2*I*pi*m*z)*sign(m)/(1 - exp(2*I*pi*m*tau - 2*I*pi*tau*x + 2*I*pi*y)), (m, -oo, oo)))"
      ]
     },
     "execution_count": 260,
     "metadata": {},
     "output_type": "execute_result"
    }
   ],
   "source": [
    "kronecker_theta_nome_series = kronekcer_theta_series.subs(*s1_fourier_series_in_z.args)\n",
    "kronecker_theta_nome_series = Eq(\n",
    "    kronecker_theta_nome_series.lhs/exp(-2*I*pi*x*z), kronecker_theta_nome_series.rhs/exp(-2*I*pi*x*z)\n",
    ")\n",
    "kronecker_theta_nome_series"
   ]
  },
  {
   "cell_type": "code",
   "execution_count": 308,
   "id": "d157ed7f",
   "metadata": {},
   "outputs": [
    {
     "data": {
      "text/latex": [
       "$\\displaystyle \\frac{\\theta{\\left(- \\tau x + y + z,\\tau \\right)} \\theta{\\left(0,\\tau,1 \\right)}}{\\theta{\\left(z,\\tau \\right)} \\theta{\\left(- \\tau x + y,\\tau \\right)}} = 2 i \\pi \\sum_{m=1}^{\\infty} \\left(\\frac{e^{2 i \\pi m z}}{1 - e^{2 i \\pi m \\tau - 2 i \\pi \\tau x + 2 i \\pi y}} - \\frac{e^{- 2 i \\pi m z}}{1 - e^{- 2 i \\pi m \\tau - 2 i \\pi \\tau x + 2 i \\pi y}}\\right) + \\frac{2 i \\pi}{1 - e^{- 2 i \\pi \\tau x + 2 i \\pi y}}$"
      ],
      "text/plain": [
       "Eq(theta(-tau*x + y + z, tau)*theta(0, tau, 1)/(theta(z, tau)*theta(-tau*x + y, tau)), 2*I*pi*Sum(exp(2*I*pi*m*z)/(1 - exp(2*I*pi*m*tau - 2*I*pi*tau*x + 2*I*pi*y)) - exp(-2*I*pi*m*z)/(1 - exp(-2*I*pi*m*tau - 2*I*pi*tau*x + 2*I*pi*y)), (m, 1, oo)) + 2*I*pi/(1 - exp(-2*I*pi*tau*x + 2*I*pi*y)))"
      ]
     },
     "execution_count": 308,
     "metadata": {},
     "output_type": "execute_result"
    }
   ],
   "source": [
    "kronecker_theta_nome_series_2 = Eq(theta(-tau*x + y + z, tau)*theta(0, tau, 1)/(theta(z, tau)*theta(-tau*x + y, tau)),\n",
    " 2*I*pi/(1 - exp(- 2*I*pi*tau*x + 2*I*pi*y)) +\n",
    "   2*I*pi*Sum(\n",
    "     exp(2*I*pi*m*z)/(1 - exp(2*I*pi*m*tau - 2*I*pi*tau*x + 2*I*pi*y)) + \n",
    "       -exp(-2*I*pi*m*z)/(1 - exp(-2*I*pi*m*tau - 2*I*pi*tau*x + 2*I*pi*y)), (m, 1, oo))\n",
    "  )\n",
    "kronecker_theta_nome_series_2"
   ]
  },
  {
   "cell_type": "code",
   "execution_count": 304,
   "id": "6872ef92",
   "metadata": {},
   "outputs": [
    {
     "data": {
      "text/latex": [
       "$\\displaystyle \\frac{e^{2 i \\pi m z}}{1 - e^{2 i \\pi m \\tau - 2 i \\pi \\tau x + 2 i \\pi y}} = e^{2 i \\pi m z} - \\frac{e^{2 i \\pi m z}}{1 - e^{- 2 i \\pi m \\tau + 2 i \\pi \\tau x - 2 i \\pi y}}$"
      ],
      "text/plain": [
       "Eq(exp(2*I*pi*m*z)/(1 - exp(2*I*pi*m*tau - 2*I*pi*tau*x + 2*I*pi*y)), exp(2*I*pi*m*z) - exp(2*I*pi*m*z)/(1 - exp(-2*I*pi*m*tau + 2*I*pi*tau*x - 2*I*pi*y)))"
      ]
     },
     "execution_count": 304,
     "metadata": {},
     "output_type": "execute_result"
    }
   ],
   "source": [
    "Eq(exp(-s)/(1-exp(-t)), exp(-s) - (exp(-s)-exp(-s)/(1-exp(-t))).simplify()\n",
    "  ).subs([(t,-(2*I*pi*m*tau - 2*I*pi*tau*x + 2*I*pi*y)),(s,-2*I*m*pi*z)])"
   ]
  },
  {
   "cell_type": "code",
   "execution_count": 309,
   "id": "b024635c",
   "metadata": {},
   "outputs": [
    {
     "data": {
      "text/latex": [
       "$\\displaystyle \\frac{\\theta{\\left(- \\tau x + y + z,\\tau \\right)} \\theta{\\left(0,\\tau,1 \\right)}}{\\theta{\\left(z,\\tau \\right)} \\theta{\\left(- \\tau x + y,\\tau \\right)}} = - 2 i \\pi \\sum_{m=1}^{\\infty} \\left(\\frac{e^{2 i \\pi m z}}{1 - e^{- 2 i \\pi m \\tau + 2 i \\pi \\tau x - 2 i \\pi y}} + \\frac{e^{- 2 i \\pi m z}}{1 - e^{- 2 i \\pi m \\tau - 2 i \\pi \\tau x + 2 i \\pi y}}\\right) + 2 i \\pi \\sum_{m=1}^{\\infty} e^{2 i \\pi m z} + \\frac{2 i \\pi}{1 - e^{- 2 i \\pi \\tau x + 2 i \\pi y}}$"
      ],
      "text/plain": [
       "Eq(theta(-tau*x + y + z, tau)*theta(0, tau, 1)/(theta(z, tau)*theta(-tau*x + y, tau)), -2*I*pi*Sum(exp(2*I*pi*m*z)/(1 - exp(-2*I*pi*m*tau + 2*I*pi*tau*x - 2*I*pi*y)) + exp(-2*I*pi*m*z)/(1 - exp(-2*I*pi*m*tau - 2*I*pi*tau*x + 2*I*pi*y)), (m, 1, oo)) + 2*I*pi*Sum(exp(2*I*pi*m*z), (m, 1, oo)) + 2*I*pi/(1 - exp(-2*I*pi*tau*x + 2*I*pi*y)))"
      ]
     },
     "execution_count": 309,
     "metadata": {},
     "output_type": "execute_result"
    },
    {
     "data": {
      "text/latex": [
       "$\\displaystyle \\frac{\\theta{\\left(- \\tau x + y + z,\\tau \\right)} \\theta{\\left(0,\\tau,1 \\right)}}{\\theta{\\left(z,\\tau \\right)} \\theta{\\left(- \\tau x + y,\\tau \\right)}} = - 2 i \\pi \\sum_{m=1}^{\\infty} \\left(\\frac{e^{2 i \\pi m z}}{1 - e^{- 2 i \\pi m \\tau + 2 i \\pi \\tau x - 2 i \\pi y}} + \\frac{e^{- 2 i \\pi m z}}{1 - e^{- 2 i \\pi m \\tau - 2 i \\pi \\tau x + 2 i \\pi y}}\\right) + \\frac{2 i \\pi}{1 - e^{- 2 i \\pi \\tau x + 2 i \\pi y}} + \\frac{2 i \\pi e^{2 i \\pi z}}{1 - e^{2 i \\pi z}}$"
      ],
      "text/plain": [
       "Eq(theta(-tau*x + y + z, tau)*theta(0, tau, 1)/(theta(z, tau)*theta(-tau*x + y, tau)), -2*I*pi*Sum(exp(2*I*pi*m*z)/(1 - exp(-2*I*pi*m*tau + 2*I*pi*tau*x - 2*I*pi*y)) + exp(-2*I*pi*m*z)/(1 - exp(-2*I*pi*m*tau - 2*I*pi*tau*x + 2*I*pi*y)), (m, 1, oo)) + 2*I*pi/(1 - exp(-2*I*pi*tau*x + 2*I*pi*y)) + 2*I*pi*exp(2*I*pi*z)/(1 - exp(2*I*pi*z)))"
      ]
     },
     "execution_count": 309,
     "metadata": {},
     "output_type": "execute_result"
    }
   ],
   "source": [
    "kronecker_theta_nome_series_3 = Eq(theta(-tau*x + y + z, tau)*theta(0, tau, 1)/(theta(z, tau)*theta(-tau*x + y, tau)),\n",
    " 2*I*pi/(1 - exp(- 2*I*pi*tau*x + 2*I*pi*y)) +\n",
    "   2*I*pi*Sum(exp(2*I*pi*m*z), (m, 1, oo))\n",
    "       - 2*I*pi*Sum(\n",
    "      exp(2*I*pi*m*z)/(1 - exp(-2*I*pi*m*tau + 2*I*pi*tau*x - 2*I*pi*y)) + \n",
    "       exp(-2*I*pi*m*z)/(1 - exp(-2*I*pi*m*tau - 2*I*pi*tau*x + 2*I*pi*y)), (m, 1, oo))\n",
    "  )\n",
    "\n",
    "kronecker_theta_nome_series_4 = Eq(theta(-tau*x + y + z, tau)*theta(0, tau, 1)/(theta(z, tau)*theta(-tau*x + y, tau)),\n",
    " 2*I*pi/(1 - exp(- 2*I*pi*tau*x + 2*I*pi*y)) +\n",
    "   2*I*pi*exp(2*I*pi*z)/(1-exp(2*I*pi*z))\n",
    "       - 2*I*pi*Sum(\n",
    "      exp(2*I*pi*m*z)/(1 - exp(-2*I*pi*m*tau + 2*I*pi*tau*x - 2*I*pi*y)) + \n",
    "       exp(-2*I*pi*m*z)/(1 - exp(-2*I*pi*m*tau - 2*I*pi*tau*x + 2*I*pi*y)), (m, 1, oo))\n",
    "  )\n",
    "\n",
    "kronecker_theta_nome_series_3\n",
    "kronecker_theta_nome_series_4"
   ]
  },
  {
   "cell_type": "code",
   "execution_count": 307,
   "id": "250d39ad",
   "metadata": {},
   "outputs": [
    {
     "data": {
      "text/latex": [
       "$\\displaystyle \\begin{cases} \\frac{x}{1 - x} & \\text{for}\\: \\left|{x}\\right| < 1 \\\\\\sum_{m=1}^{\\infty} x^{m} & \\text{otherwise} \\end{cases}$"
      ],
      "text/plain": [
       "Piecewise((x/(1 - x), Abs(x) < 1), (Sum(x**m, (m, 1, oo)), True))"
      ]
     },
     "execution_count": 307,
     "metadata": {},
     "output_type": "execute_result"
    }
   ],
   "source": [
    "Sum(x**m,(m,1,oo)).doit()"
   ]
  },
  {
   "cell_type": "code",
   "execution_count": 263,
   "id": "f679fc93",
   "metadata": {},
   "outputs": [
    {
     "data": {
      "text/latex": [
       "$\\displaystyle \\frac{\\theta{\\left(z + \\frac{1}{2},\\tau \\right)} \\theta{\\left(0,\\tau,1 \\right)}}{\\theta{\\left(\\frac{1}{2},\\tau \\right)} \\theta{\\left(z,\\tau \\right)}} = 2 i \\pi \\sum_{m=1}^{\\infty} \\left(\\frac{e^{2 i \\pi m z}}{e^{2 i \\pi m \\tau} + 1} - \\frac{e^{- 2 i \\pi m z}}{1 + e^{- 2 i \\pi m \\tau}}\\right) + i \\pi$"
      ],
      "text/plain": [
       "Eq(theta(z + 1/2, tau)*theta(0, tau, 1)/(theta(1/2, tau)*theta(z, tau)), 2*I*pi*Sum(exp(2*I*pi*m*z)/(exp(2*I*pi*m*tau) + 1) - exp(-2*I*pi*m*z)/(1 + exp(-2*I*pi*m*tau)), (m, 1, oo)) + I*pi)"
      ]
     },
     "execution_count": 263,
     "metadata": {},
     "output_type": "execute_result"
    }
   ],
   "source": [
    "sss = kronecker_theta_nome_series_2.subs([(x,0),(y,Rational(1,2))])\n",
    "sss"
   ]
  },
  {
   "cell_type": "code",
   "execution_count": 264,
   "id": "40e36321",
   "metadata": {},
   "outputs": [
    {
     "data": {
      "text/latex": [
       "$\\displaystyle \\frac{\\theta{\\left(z + 0.5,\\tau \\right)} \\theta{\\left(0,\\tau,1 \\right)}}{\\theta{\\left(0.5,\\tau \\right)} \\theta{\\left(z,\\tau \\right)}} = 2 i \\pi \\sum_{m=1}^{\\infty} \\frac{\\left(- e^{2 i \\pi m \\tau} + e^{4 i \\pi m z}\\right) e^{- 2 i \\pi m z}}{e^{2 i \\pi m \\tau} + 1} + i \\pi$"
      ],
      "text/plain": [
       "Eq(theta(z + 0.5, tau)*theta(0, tau, 1)/(theta(0.5, tau)*theta(z, tau)), 2*I*pi*Sum((-exp(2*I*pi*m*tau) + exp(4*I*pi*m*z))*exp(-2*I*pi*m*z)/(exp(2*I*pi*m*tau) + 1), (m, 1, oo)) + I*pi)"
      ]
     },
     "execution_count": 264,
     "metadata": {},
     "output_type": "execute_result"
    }
   ],
   "source": [
    "Eq(theta(z + 1/2, tau)*theta(0, tau, 1)/(theta(1/2, tau)*theta(z, tau)),\n",
    " 2*I*pi*Sum(\n",
    "     (exp(2*I*pi*m*z)/(exp(2*I*pi*m*tau) + 1) - exp(-2*I*pi*m*z)/(1 + exp(-2*I*pi*m*tau))).simplify()\n",
    "      , (m, 1, oo)) + I*pi)"
   ]
  },
  {
   "cell_type": "code",
   "execution_count": 541,
   "id": "dd653baf",
   "metadata": {},
   "outputs": [],
   "source": [
    "def theta_ratio_S(_xi, _eta, _u, _tau):\n",
    "    result = (\n",
    "        exp(2*I*pi*_u*_xi) * \n",
    "        jtheta(1,((_eta + _tau * _xi + _u) * pi).evalf(), exp(I*pi*_tau).evalf()) *\n",
    "        pi * jtheta(1, 0, exp(I*pi*_tau).evalf(), 1) /\n",
    "        (jtheta(1,(_u * pi).evalf(), exp(I*pi*_tau).evalf()) * jtheta(1,((_eta + _tau * _xi) * pi).evalf(), exp(I*pi*_tau).evalf()) )\n",
    "    ).evalf()\n",
    "    return result\n",
    "\n",
    "def theta_ratio_S_2(_xi, _eta, _u, _tau):\n",
    "    result = (\n",
    "        jtheta(1,((_eta + _tau * _xi + _u) * pi).evalf(), exp(I*pi*_tau).evalf()) *\n",
    "        pi * jtheta(1, 0, exp(I*pi*_tau).evalf(), 1) /\n",
    "        (jtheta(1,(_u * pi).evalf(), exp(I*pi*_tau).evalf()) * jtheta(1,((_eta + _tau * _xi) * pi).evalf(), exp(I*pi*_tau).evalf()) )\n",
    "    ).evalf()\n",
    "    return result\n",
    "\n",
    "def nome_expansion(__x, __y, __z, __tau, __M):\n",
    "    result = (2*I*pi/(1 - exp(- 2*I*pi*__tau*__x + 2*I*pi*__y)) +\n",
    "       2*I*pi*exp(2*I*pi*__z)/(1-exp(2*I*pi*__z)) - 2*I*pi*Sum(\n",
    "       exp(2*I*pi*m*__z)/(1 - exp(-2*I*pi*m*__tau + 2*I*pi*__tau*__x - 2*I*pi*__y)) + \n",
    "       exp(-2*I*pi*m*__z)/(1 - exp(-2*I*pi*m*__tau - 2*I*pi*__tau*__x + 2*I*pi*__y)), (m, 1, __M)))\n",
    "    return result.doit().evalf()\n",
    "\n",
    "def nome_expansion_2(__x, __y, __z, __tau, __M):\n",
    "    result = (2*I*pi*exp(-2*I*pi*__x*__z)/(exp(- 2*I*pi*__tau*__x + 2*I*pi*__y) - 1) +\n",
    "        2*I*pi*exp(-2*I*pi*__x*__z)*Sum(\n",
    "       -exp(2*I*pi*m*__z)/(exp(-2*I*pi*m*__tau + 2*I*pi*__tau*__x - 2*I*pi*__y) -1) + \n",
    "       exp(-2*I*pi*m*__z)/(exp(-2*I*pi*m*__tau - 2*I*pi*__tau*__x + 2*I*pi*__y) -1), (m, 1, __M)))\n",
    "    return result.doit().evalf()\n",
    "\n",
    "def nome_expansion_3(__x, __y, __z, __tau, __M):\n",
    "    result = (2*I*pi/(exp(- 2*I*pi*__tau*__x + 2*I*pi*__y) - 1) - 2*I*pi/(exp(- 2*I*pi*__z) - 1) +\n",
    "        2*I*pi*Sum(\n",
    "           -exp(2*I*pi*m*__z)/(exp(-2*I*pi*m*__tau + 2*I*pi*__tau*__x - 2*I*pi*__y) -1) + \n",
    "           exp(-2*I*pi*m*__z)/(exp(-2*I*pi*m*__tau - 2*I*pi*__tau*__x + 2*I*pi*__y) -1), \n",
    "            (m, 1, __M)))\n",
    "    return result.doit().evalf()\n",
    "\n",
    "def dbl_series_S_summand(_xi, _eta, _u, _tau, _m, _n, _s):\n",
    "    return (\n",
    "        exp(2*I*pi*(- _m * _xi + _n * _eta))/(_u + _m + _n * _tau) ** _s\n",
    "    ).evalf()\n",
    "\n",
    "def dbl_series_S(_xi, _eta, _u, _tau, _M, _N, _s=1, include_n_0=True):\n",
    "    result = 0\n",
    "    for _m in range(-_M, _M + 1):\n",
    "        for _n in range(-_N, _N + 1):\n",
    "            if (include_n_0 or _n!= 0):\n",
    "                result += (-1) ** (_s+1) * dbl_series_S_summand(_xi, _eta, _u, _tau, _m, _n, _s)\n",
    "    return result"
   ]
  },
  {
   "cell_type": "code",
   "execution_count": 495,
   "id": "df4a4f4e",
   "metadata": {},
   "outputs": [
    {
     "data": {
      "text/latex": [
       "$\\displaystyle \\frac{\\theta{\\left(- \\tau x + y + z,\\tau \\right)} \\theta{\\left(0,\\tau,1 \\right)}}{\\theta{\\left(z,\\tau \\right)} \\theta{\\left(- \\tau x + y,\\tau \\right)}} = - 2 i \\pi \\sum_{m=1}^{\\infty} \\frac{e^{2 i \\pi m z}}{e^{- 2 i \\pi \\tau \\left(m - x\\right) - 2 i \\pi y} - 1} + 2 i \\pi \\sum_{m=1}^{\\infty} \\frac{e^{- 2 i \\pi m z}}{e^{- 2 i \\pi \\tau \\left(m + x\\right) + 2 i \\pi y} - 1} + \\frac{2 i \\pi}{e^{- 2 i \\pi \\tau x + 2 i \\pi y} - 1} + \\frac{2 i \\pi}{1 - e^{- 2 i \\pi z}}$"
      ],
      "text/plain": [
       "Eq(theta(-tau*x + y + z, tau)*theta(0, tau, 1)/(theta(z, tau)*theta(-tau*x + y, tau)), -2*I*pi*Sum(exp(2*I*pi*m*z)/(exp(-2*I*pi*tau*(m - x) - 2*I*pi*y) - 1), (m, 1, oo)) + 2*I*pi*Sum(exp(-2*I*pi*m*z)/(exp(-2*I*pi*tau*(m + x) + 2*I*pi*y) - 1), (m, 1, oo)) + 2*I*pi/(exp(-2*I*pi*tau*x + 2*I*pi*y) - 1) + 2*I*pi/(1 - exp(-2*I*pi*z)))"
      ]
     },
     "execution_count": 495,
     "metadata": {},
     "output_type": "execute_result"
    }
   ],
   "source": [
    "nome_3"
   ]
  },
  {
   "cell_type": "code",
   "execution_count": 542,
   "id": "0cea4c39",
   "metadata": {},
   "outputs": [
    {
     "data": {
      "text/latex": [
       "$\\displaystyle 3.17449838467911 + 1.92522992527061 i$"
      ],
      "text/plain": [
       "3.17449838467911 + 1.92522992527061*I"
      ]
     },
     "execution_count": 542,
     "metadata": {},
     "output_type": "execute_result"
    },
    {
     "data": {
      "text/latex": [
       "$\\displaystyle 1.94618624130004 + 3.1616940670568 i$"
      ],
      "text/plain": [
       "1.94618624130004 + 3.1616940670568*I"
      ]
     },
     "execution_count": 542,
     "metadata": {},
     "output_type": "execute_result"
    }
   ],
   "source": [
    "__x = 0.235678\n",
    "__y = 0.49809\n",
    "__z = 0.32\n",
    "__tau = 2.8989 + 3.245j\n",
    "__M = 100\n",
    "__M_ds = 150\n",
    "__T = 40\n",
    "\n",
    "theta_ratio_S(-__x, __y, __z, __tau)\n",
    "\n",
    "theta_ratio_S_2(-__x, __y, __z, __tau)"
   ]
  },
  {
   "cell_type": "code",
   "execution_count": 536,
   "id": "0374c826",
   "metadata": {},
   "outputs": [
    {
     "data": {
      "text/latex": [
       "$\\displaystyle 3.17664533017744 + 1.92705647662742 i$"
      ],
      "text/plain": [
       "3.17664533017744 + 1.92705647662742*I"
      ]
     },
     "execution_count": 536,
     "metadata": {},
     "output_type": "execute_result"
    }
   ],
   "source": [
    "dbl_series_S(-__x, __y, __z, __tau, __M, __M, _s=1)"
   ]
  },
  {
   "cell_type": "code",
   "execution_count": 543,
   "id": "f7b641a5",
   "metadata": {},
   "outputs": [
    {
     "data": {
      "text/latex": [
       "$\\displaystyle 1.94618624130004 + 3.1616940670568 i$"
      ],
      "text/plain": [
       "1.94618624130004 + 3.1616940670568*I"
      ]
     },
     "execution_count": 543,
     "metadata": {},
     "output_type": "execute_result"
    }
   ],
   "source": [
    "_n_val = nome_expansion_3(__x, __y, __z, __tau, __M)\n",
    "_n_val"
   ]
  },
  {
   "cell_type": "code",
   "execution_count": 440,
   "id": "a8e8df4a",
   "metadata": {},
   "outputs": [],
   "source": [
    "#nome_expansion(__x, __y, __z, __tau, __M)"
   ]
  },
  {
   "cell_type": "code",
   "execution_count": 539,
   "id": "33795901",
   "metadata": {},
   "outputs": [
    {
     "data": {
      "text/latex": [
       "$\\displaystyle -0.0331193044794842 + 0.0395751449846199 i$"
      ],
      "text/plain": [
       "-0.0331193044794842 + 0.0395751449846199*I"
      ]
     },
     "execution_count": 539,
     "metadata": {},
     "output_type": "execute_result"
    }
   ],
   "source": [
    "_n_val = nome_expansion_2(__x, __y, __z, __tau, __M)\n",
    "_n_val"
   ]
  },
  {
   "cell_type": "code",
   "execution_count": 538,
   "id": "31291c3c",
   "metadata": {},
   "outputs": [
    {
     "data": {
      "text/latex": [
       "$\\displaystyle -0.0333224990963004 + 0.0296315414945936 i$"
      ],
      "text/plain": [
       "-0.0333224990963004 + 0.0296315414945936*I"
      ]
     },
     "execution_count": 538,
     "metadata": {},
     "output_type": "execute_result"
    }
   ],
   "source": [
    "_d_val = dbl_series_S(-__x, __y, __z, __tau, __M_ds, __M_ds, _s=1, include_n_0=False)\n",
    "_d_val"
   ]
  },
  {
   "cell_type": "code",
   "execution_count": 540,
   "id": "31ce6eaa",
   "metadata": {},
   "outputs": [
    {
     "data": {
      "text/latex": [
       "$\\displaystyle 0.792664203970251$"
      ],
      "text/plain": [
       "0.792664203970251"
      ]
     },
     "execution_count": 540,
     "metadata": {},
     "output_type": "execute_result"
    }
   ],
   "source": [
    "1 - abs(2*(_d_val - _n_val)/(_n_val+_d_val))"
   ]
  },
  {
   "cell_type": "code",
   "execution_count": 451,
   "id": "1fd6b230",
   "metadata": {},
   "outputs": [
    {
     "data": {
      "text/latex": [
       "$\\displaystyle 0.788088578164281$"
      ],
      "text/plain": [
       "0.788088578164281"
      ]
     },
     "execution_count": 451,
     "metadata": {},
     "output_type": "execute_result"
    }
   ],
   "source": [
    "1 - abs(2*(_d_val - _n_val)/(_n_val+_d_val))"
   ]
  },
  {
   "cell_type": "code",
   "execution_count": 523,
   "id": "6890551e",
   "metadata": {},
   "outputs": [
    {
     "data": {
      "text/latex": [
       "$\\displaystyle \\frac{e^{\\frac{i \\pi s}{2}} \\int\\limits_{0}^{\\infty} \\left(- \\frac{t^{s - 1} \\left(e^{i t \\tau - 2 i \\pi y} - \\left(e^{i t \\tau - 2 i \\pi y}\\right)^{K + 1}\\right) e^{- i t z} \\sin{\\left(\\left(K + \\frac{1}{2}\\right) \\left(- t + 2 \\pi x\\right) \\right)}}{\\left(1 - e^{i t \\tau - 2 i \\pi y}\\right) \\sin{\\left(\\frac{t}{2} - \\pi x \\right)}}\\right)\\, dt}{\\Gamma\\left(s\\right)} + \\frac{e^{- \\frac{i \\pi s}{2}} \\int\\limits_{0}^{\\infty} \\frac{t^{s - 1} \\left(e^{i t \\tau + 2 i \\pi y} - \\left(e^{i t \\tau + 2 i \\pi y}\\right)^{K + 1}\\right) e^{i t z} \\sin{\\left(\\left(K + \\frac{1}{2}\\right) \\left(t + 2 \\pi x\\right) \\right)}}{\\left(1 - e^{i t \\tau + 2 i \\pi y}\\right) \\sin{\\left(\\frac{t}{2} + \\pi x \\right)}}\\, dt}{\\Gamma\\left(s\\right)}$"
      ],
      "text/plain": [
       "exp(I*pi*s/2)*Integral(-t**(s - 1)*(exp(I*t*tau - 2*I*pi*y) - exp(I*t*tau - 2*I*pi*y)**(K + 1))*exp(-I*t*z)*sin((K + 1/2)*(-t + 2*pi*x))/((1 - exp(I*t*tau - 2*I*pi*y))*sin(t/2 - pi*x)), (t, 0, oo))/gamma(s) + exp(-I*pi*s/2)*Integral(t**(s - 1)*(exp(I*t*tau + 2*I*pi*y) - exp(I*t*tau + 2*I*pi*y)**(K + 1))*exp(I*t*z)*sin((K + 1/2)*(t + 2*pi*x))/((1 - exp(I*t*tau + 2*I*pi*y))*sin(t/2 + pi*x)), (t, 0, oo))/gamma(s)"
      ]
     },
     "execution_count": 523,
     "metadata": {},
     "output_type": "execute_result"
    }
   ],
   "source": [
    "K_integral_kronecker_partial.rhs"
   ]
  },
  {
   "cell_type": "code",
   "execution_count": 522,
   "id": "d0f2255a",
   "metadata": {},
   "outputs": [
    {
     "ename": "KeyboardInterrupt",
     "evalue": "",
     "output_type": "error",
     "traceback": [
      "\u001b[0;31m---------------------------------------------------------------------------\u001b[0m",
      "\u001b[0;31mKeyboardInterrupt\u001b[0m                         Traceback (most recent call last)",
      "Cell \u001b[0;32mIn[522], line 3\u001b[0m\n\u001b[1;32m      1\u001b[0m \u001b[43mK_integral_kronecker_partial\u001b[49m\u001b[38;5;241;43m.\u001b[39;49m\u001b[43mrhs\u001b[49m\u001b[38;5;241;43m.\u001b[39;49m\u001b[43msubs\u001b[49m\u001b[43m(\u001b[49m\u001b[43m[\u001b[49m\n\u001b[1;32m      2\u001b[0m \u001b[43m    \u001b[49m\u001b[43m(\u001b[49m\u001b[43mK\u001b[49m\u001b[43m,\u001b[49m\u001b[43m__M\u001b[49m\u001b[43m)\u001b[49m\u001b[43m,\u001b[49m\u001b[43m(\u001b[49m\u001b[43mx\u001b[49m\u001b[43m,\u001b[49m\u001b[43m__x\u001b[49m\u001b[43m)\u001b[49m\u001b[43m,\u001b[49m\u001b[43m(\u001b[49m\u001b[43my\u001b[49m\u001b[43m,\u001b[49m\u001b[43m__y\u001b[49m\u001b[43m)\u001b[49m\u001b[43m,\u001b[49m\u001b[43m(\u001b[49m\u001b[43mz\u001b[49m\u001b[43m,\u001b[49m\u001b[43m__z\u001b[49m\u001b[43m)\u001b[49m\u001b[43m,\u001b[49m\u001b[43m(\u001b[49m\u001b[43mtau\u001b[49m\u001b[43m,\u001b[49m\u001b[43m__tau\u001b[49m\u001b[43m)\u001b[49m\u001b[43m,\u001b[49m\u001b[43m(\u001b[49m\u001b[43ms\u001b[49m\u001b[43m,\u001b[49m\u001b[38;5;241;43m1\u001b[39;49m\u001b[43m)\u001b[49m\u001b[43m,\u001b[49m\u001b[43m \u001b[49m\u001b[43m(\u001b[49m\u001b[43mT\u001b[49m\u001b[43m,\u001b[49m\u001b[43m__T\u001b[49m\u001b[43m)\u001b[49m\n\u001b[0;32m----> 3\u001b[0m \u001b[43m]\u001b[49m\u001b[43m)\u001b[49m\u001b[38;5;241;43m.\u001b[39;49m\u001b[43mevalf\u001b[49m\u001b[43m(\u001b[49m\u001b[43m)\u001b[49m\n",
      "File \u001b[0;32m/opt/homebrew/lib/python3.11/site-packages/sympy/core/evalf.py:1647\u001b[0m, in \u001b[0;36mEvalfMixin.evalf\u001b[0;34m(self, n, subs, maxn, chop, strict, quad, verbose)\u001b[0m\n\u001b[1;32m   1645\u001b[0m     options[\u001b[38;5;124m'\u001b[39m\u001b[38;5;124mquad\u001b[39m\u001b[38;5;124m'\u001b[39m] \u001b[38;5;241m=\u001b[39m quad\n\u001b[1;32m   1646\u001b[0m \u001b[38;5;28;01mtry\u001b[39;00m:\n\u001b[0;32m-> 1647\u001b[0m     result \u001b[38;5;241m=\u001b[39m \u001b[43mevalf\u001b[49m\u001b[43m(\u001b[49m\u001b[38;5;28;43mself\u001b[39;49m\u001b[43m,\u001b[49m\u001b[43m \u001b[49m\u001b[43mprec\u001b[49m\u001b[43m \u001b[49m\u001b[38;5;241;43m+\u001b[39;49m\u001b[43m \u001b[49m\u001b[38;5;241;43m4\u001b[39;49m\u001b[43m,\u001b[49m\u001b[43m \u001b[49m\u001b[43moptions\u001b[49m\u001b[43m)\u001b[49m\n\u001b[1;32m   1648\u001b[0m \u001b[38;5;28;01mexcept\u001b[39;00m \u001b[38;5;167;01mNotImplementedError\u001b[39;00m:\n\u001b[1;32m   1649\u001b[0m     \u001b[38;5;66;03m# Fall back to the ordinary evalf\u001b[39;00m\n\u001b[1;32m   1650\u001b[0m     \u001b[38;5;28;01mif\u001b[39;00m \u001b[38;5;28mhasattr\u001b[39m(\u001b[38;5;28mself\u001b[39m, \u001b[38;5;124m'\u001b[39m\u001b[38;5;124msubs\u001b[39m\u001b[38;5;124m'\u001b[39m) \u001b[38;5;129;01mand\u001b[39;00m subs \u001b[38;5;129;01mis\u001b[39;00m \u001b[38;5;129;01mnot\u001b[39;00m \u001b[38;5;28;01mNone\u001b[39;00m:  \u001b[38;5;66;03m# issue 20291\u001b[39;00m\n",
      "File \u001b[0;32m/opt/homebrew/lib/python3.11/site-packages/sympy/core/evalf.py:1482\u001b[0m, in \u001b[0;36mevalf\u001b[0;34m(x, prec, options)\u001b[0m\n\u001b[1;32m   1480\u001b[0m \u001b[38;5;28;01mtry\u001b[39;00m:\n\u001b[1;32m   1481\u001b[0m     rf \u001b[38;5;241m=\u001b[39m evalf_table[\u001b[38;5;28mtype\u001b[39m(x)]\n\u001b[0;32m-> 1482\u001b[0m     r \u001b[38;5;241m=\u001b[39m \u001b[43mrf\u001b[49m\u001b[43m(\u001b[49m\u001b[43mx\u001b[49m\u001b[43m,\u001b[49m\u001b[43m \u001b[49m\u001b[43mprec\u001b[49m\u001b[43m,\u001b[49m\u001b[43m \u001b[49m\u001b[43moptions\u001b[49m\u001b[43m)\u001b[49m\n\u001b[1;32m   1483\u001b[0m \u001b[38;5;28;01mexcept\u001b[39;00m \u001b[38;5;167;01mKeyError\u001b[39;00m:\n\u001b[1;32m   1484\u001b[0m     \u001b[38;5;66;03m# Fall back to ordinary evalf if possible\u001b[39;00m\n\u001b[1;32m   1485\u001b[0m     \u001b[38;5;28;01mif\u001b[39;00m \u001b[38;5;124m'\u001b[39m\u001b[38;5;124msubs\u001b[39m\u001b[38;5;124m'\u001b[39m \u001b[38;5;129;01min\u001b[39;00m options:\n",
      "File \u001b[0;32m/opt/homebrew/lib/python3.11/site-packages/sympy/core/evalf.py:600\u001b[0m, in \u001b[0;36mevalf_add\u001b[0;34m(v, prec, options)\u001b[0m\n\u001b[1;32m    597\u001b[0m \u001b[38;5;28;01mwhile\u001b[39;00m \u001b[38;5;241m1\u001b[39m:\n\u001b[1;32m    598\u001b[0m     options[\u001b[38;5;124m'\u001b[39m\u001b[38;5;124mmaxprec\u001b[39m\u001b[38;5;124m'\u001b[39m] \u001b[38;5;241m=\u001b[39m \u001b[38;5;28mmin\u001b[39m(oldmaxprec, \u001b[38;5;241m2\u001b[39m\u001b[38;5;241m*\u001b[39mprec)\n\u001b[0;32m--> 600\u001b[0m     terms \u001b[38;5;241m=\u001b[39m \u001b[43m[\u001b[49m\u001b[43mevalf\u001b[49m\u001b[43m(\u001b[49m\u001b[43marg\u001b[49m\u001b[43m,\u001b[49m\u001b[43m \u001b[49m\u001b[43mprec\u001b[49m\u001b[43m \u001b[49m\u001b[38;5;241;43m+\u001b[39;49m\u001b[43m \u001b[49m\u001b[38;5;241;43m10\u001b[39;49m\u001b[43m,\u001b[49m\u001b[43m \u001b[49m\u001b[43moptions\u001b[49m\u001b[43m)\u001b[49m\u001b[43m \u001b[49m\u001b[38;5;28;43;01mfor\u001b[39;49;00m\u001b[43m \u001b[49m\u001b[43marg\u001b[49m\u001b[43m \u001b[49m\u001b[38;5;129;43;01min\u001b[39;49;00m\u001b[43m \u001b[49m\u001b[43mv\u001b[49m\u001b[38;5;241;43m.\u001b[39;49m\u001b[43margs\u001b[49m\u001b[43m]\u001b[49m\n\u001b[1;32m    601\u001b[0m     n \u001b[38;5;241m=\u001b[39m terms\u001b[38;5;241m.\u001b[39mcount(S\u001b[38;5;241m.\u001b[39mComplexInfinity)\n\u001b[1;32m    602\u001b[0m     \u001b[38;5;28;01mif\u001b[39;00m n \u001b[38;5;241m>\u001b[39m\u001b[38;5;241m=\u001b[39m \u001b[38;5;241m2\u001b[39m:\n",
      "File \u001b[0;32m/opt/homebrew/lib/python3.11/site-packages/sympy/core/evalf.py:600\u001b[0m, in \u001b[0;36m<listcomp>\u001b[0;34m(.0)\u001b[0m\n\u001b[1;32m    597\u001b[0m \u001b[38;5;28;01mwhile\u001b[39;00m \u001b[38;5;241m1\u001b[39m:\n\u001b[1;32m    598\u001b[0m     options[\u001b[38;5;124m'\u001b[39m\u001b[38;5;124mmaxprec\u001b[39m\u001b[38;5;124m'\u001b[39m] \u001b[38;5;241m=\u001b[39m \u001b[38;5;28mmin\u001b[39m(oldmaxprec, \u001b[38;5;241m2\u001b[39m\u001b[38;5;241m*\u001b[39mprec)\n\u001b[0;32m--> 600\u001b[0m     terms \u001b[38;5;241m=\u001b[39m [\u001b[43mevalf\u001b[49m\u001b[43m(\u001b[49m\u001b[43marg\u001b[49m\u001b[43m,\u001b[49m\u001b[43m \u001b[49m\u001b[43mprec\u001b[49m\u001b[43m \u001b[49m\u001b[38;5;241;43m+\u001b[39;49m\u001b[43m \u001b[49m\u001b[38;5;241;43m10\u001b[39;49m\u001b[43m,\u001b[49m\u001b[43m \u001b[49m\u001b[43moptions\u001b[49m\u001b[43m)\u001b[49m \u001b[38;5;28;01mfor\u001b[39;00m arg \u001b[38;5;129;01min\u001b[39;00m v\u001b[38;5;241m.\u001b[39margs]\n\u001b[1;32m    601\u001b[0m     n \u001b[38;5;241m=\u001b[39m terms\u001b[38;5;241m.\u001b[39mcount(S\u001b[38;5;241m.\u001b[39mComplexInfinity)\n\u001b[1;32m    602\u001b[0m     \u001b[38;5;28;01mif\u001b[39;00m n \u001b[38;5;241m>\u001b[39m\u001b[38;5;241m=\u001b[39m \u001b[38;5;241m2\u001b[39m:\n",
      "File \u001b[0;32m/opt/homebrew/lib/python3.11/site-packages/sympy/core/evalf.py:1482\u001b[0m, in \u001b[0;36mevalf\u001b[0;34m(x, prec, options)\u001b[0m\n\u001b[1;32m   1480\u001b[0m \u001b[38;5;28;01mtry\u001b[39;00m:\n\u001b[1;32m   1481\u001b[0m     rf \u001b[38;5;241m=\u001b[39m evalf_table[\u001b[38;5;28mtype\u001b[39m(x)]\n\u001b[0;32m-> 1482\u001b[0m     r \u001b[38;5;241m=\u001b[39m \u001b[43mrf\u001b[49m\u001b[43m(\u001b[49m\u001b[43mx\u001b[49m\u001b[43m,\u001b[49m\u001b[43m \u001b[49m\u001b[43mprec\u001b[49m\u001b[43m,\u001b[49m\u001b[43m \u001b[49m\u001b[43moptions\u001b[49m\u001b[43m)\u001b[49m\n\u001b[1;32m   1483\u001b[0m \u001b[38;5;28;01mexcept\u001b[39;00m \u001b[38;5;167;01mKeyError\u001b[39;00m:\n\u001b[1;32m   1484\u001b[0m     \u001b[38;5;66;03m# Fall back to ordinary evalf if possible\u001b[39;00m\n\u001b[1;32m   1485\u001b[0m     \u001b[38;5;28;01mif\u001b[39;00m \u001b[38;5;124m'\u001b[39m\u001b[38;5;124msubs\u001b[39m\u001b[38;5;124m'\u001b[39m \u001b[38;5;129;01min\u001b[39;00m options:\n",
      "File \u001b[0;32m/opt/homebrew/lib/python3.11/site-packages/sympy/core/evalf.py:648\u001b[0m, in \u001b[0;36mevalf_mul\u001b[0;34m(v, prec, options)\u001b[0m\n\u001b[1;32m    646\u001b[0m \u001b[38;5;28;01mfrom\u001b[39;00m \u001b[38;5;21;01m.\u001b[39;00m\u001b[38;5;21;01mnumbers\u001b[39;00m \u001b[38;5;28;01mimport\u001b[39;00m Float\n\u001b[1;32m    647\u001b[0m \u001b[38;5;28;01mfor\u001b[39;00m arg \u001b[38;5;129;01min\u001b[39;00m args:\n\u001b[0;32m--> 648\u001b[0m     result \u001b[38;5;241m=\u001b[39m \u001b[43mevalf\u001b[49m\u001b[43m(\u001b[49m\u001b[43marg\u001b[49m\u001b[43m,\u001b[49m\u001b[43m \u001b[49m\u001b[43mprec\u001b[49m\u001b[43m,\u001b[49m\u001b[43m \u001b[49m\u001b[43moptions\u001b[49m\u001b[43m)\u001b[49m\n\u001b[1;32m    649\u001b[0m     \u001b[38;5;28;01mif\u001b[39;00m result \u001b[38;5;129;01mis\u001b[39;00m S\u001b[38;5;241m.\u001b[39mComplexInfinity:\n\u001b[1;32m    650\u001b[0m         special\u001b[38;5;241m.\u001b[39mappend(result)\n",
      "File \u001b[0;32m/opt/homebrew/lib/python3.11/site-packages/sympy/core/evalf.py:1482\u001b[0m, in \u001b[0;36mevalf\u001b[0;34m(x, prec, options)\u001b[0m\n\u001b[1;32m   1480\u001b[0m \u001b[38;5;28;01mtry\u001b[39;00m:\n\u001b[1;32m   1481\u001b[0m     rf \u001b[38;5;241m=\u001b[39m evalf_table[\u001b[38;5;28mtype\u001b[39m(x)]\n\u001b[0;32m-> 1482\u001b[0m     r \u001b[38;5;241m=\u001b[39m \u001b[43mrf\u001b[49m\u001b[43m(\u001b[49m\u001b[43mx\u001b[49m\u001b[43m,\u001b[49m\u001b[43m \u001b[49m\u001b[43mprec\u001b[49m\u001b[43m,\u001b[49m\u001b[43m \u001b[49m\u001b[43moptions\u001b[49m\u001b[43m)\u001b[49m\n\u001b[1;32m   1483\u001b[0m \u001b[38;5;28;01mexcept\u001b[39;00m \u001b[38;5;167;01mKeyError\u001b[39;00m:\n\u001b[1;32m   1484\u001b[0m     \u001b[38;5;66;03m# Fall back to ordinary evalf if possible\u001b[39;00m\n\u001b[1;32m   1485\u001b[0m     \u001b[38;5;28;01mif\u001b[39;00m \u001b[38;5;124m'\u001b[39m\u001b[38;5;124msubs\u001b[39m\u001b[38;5;124m'\u001b[39m \u001b[38;5;129;01min\u001b[39;00m options:\n",
      "File \u001b[0;32m/opt/homebrew/lib/python3.11/site-packages/sympy/core/evalf.py:1174\u001b[0m, in \u001b[0;36mevalf_integral\u001b[0;34m(expr, prec, options)\u001b[0m\n\u001b[1;32m   1172\u001b[0m maxprec \u001b[38;5;241m=\u001b[39m options\u001b[38;5;241m.\u001b[39mget(\u001b[38;5;124m'\u001b[39m\u001b[38;5;124mmaxprec\u001b[39m\u001b[38;5;124m'\u001b[39m, INF)\n\u001b[1;32m   1173\u001b[0m \u001b[38;5;28;01mwhile\u001b[39;00m \u001b[38;5;241m1\u001b[39m:\n\u001b[0;32m-> 1174\u001b[0m     result \u001b[38;5;241m=\u001b[39m \u001b[43mdo_integral\u001b[49m\u001b[43m(\u001b[49m\u001b[43mexpr\u001b[49m\u001b[43m,\u001b[49m\u001b[43m \u001b[49m\u001b[43mworkprec\u001b[49m\u001b[43m,\u001b[49m\u001b[43m \u001b[49m\u001b[43moptions\u001b[49m\u001b[43m)\u001b[49m\n\u001b[1;32m   1175\u001b[0m     accuracy \u001b[38;5;241m=\u001b[39m complex_accuracy(result)\n\u001b[1;32m   1176\u001b[0m     \u001b[38;5;28;01mif\u001b[39;00m accuracy \u001b[38;5;241m>\u001b[39m\u001b[38;5;241m=\u001b[39m prec:  \u001b[38;5;66;03m# achieved desired precision\u001b[39;00m\n",
      "File \u001b[0;32m/opt/homebrew/lib/python3.11/site-packages/sympy/core/evalf.py:1135\u001b[0m, in \u001b[0;36mdo_integral\u001b[0;34m(expr, prec, options)\u001b[0m\n\u001b[1;32m   1133\u001b[0m         quadrature_error \u001b[38;5;241m=\u001b[39m MINUS_INF\n\u001b[1;32m   1134\u001b[0m     \u001b[38;5;28;01melse\u001b[39;00m:\n\u001b[0;32m-> 1135\u001b[0m         result, quadrature_err \u001b[38;5;241m=\u001b[39m \u001b[43mquadts\u001b[49m\u001b[43m(\u001b[49m\u001b[43mf\u001b[49m\u001b[43m,\u001b[49m\u001b[43m \u001b[49m\u001b[43m[\u001b[49m\u001b[43mxlow\u001b[49m\u001b[43m,\u001b[49m\u001b[43m \u001b[49m\u001b[43mxhigh\u001b[49m\u001b[43m]\u001b[49m\u001b[43m,\u001b[49m\u001b[43m \u001b[49m\u001b[43merror\u001b[49m\u001b[38;5;241;43m=\u001b[39;49m\u001b[38;5;241;43m1\u001b[39;49m\u001b[43m)\u001b[49m\n\u001b[1;32m   1136\u001b[0m         quadrature_error \u001b[38;5;241m=\u001b[39m fastlog(quadrature_err\u001b[38;5;241m.\u001b[39m_mpf_)\n\u001b[1;32m   1138\u001b[0m options[\u001b[38;5;124m'\u001b[39m\u001b[38;5;124mmaxprec\u001b[39m\u001b[38;5;124m'\u001b[39m] \u001b[38;5;241m=\u001b[39m oldmaxprec\n",
      "File \u001b[0;32m/opt/homebrew/lib/python3.11/site-packages/mpmath/calculus/quadrature.py:789\u001b[0m, in \u001b[0;36mQuadratureMethods.quadts\u001b[0;34m(ctx, *args, **kwargs)\u001b[0m\n\u001b[1;32m    768\u001b[0m \u001b[38;5;250m\u001b[39m\u001b[38;5;124;03m\"\"\"\u001b[39;00m\n\u001b[1;32m    769\u001b[0m \u001b[38;5;124;03mPerforms tanh-sinh quadrature. The call\u001b[39;00m\n\u001b[1;32m    770\u001b[0m \n\u001b[0;32m   (...)\u001b[0m\n\u001b[1;32m    786\u001b[0m \u001b[38;5;124;03mtanh-sinh quadrature.\u001b[39;00m\n\u001b[1;32m    787\u001b[0m \u001b[38;5;124;03m\"\"\"\u001b[39;00m\n\u001b[1;32m    788\u001b[0m kwargs[\u001b[38;5;124m'\u001b[39m\u001b[38;5;124mmethod\u001b[39m\u001b[38;5;124m'\u001b[39m] \u001b[38;5;241m=\u001b[39m \u001b[38;5;124m'\u001b[39m\u001b[38;5;124mtanh-sinh\u001b[39m\u001b[38;5;124m'\u001b[39m\n\u001b[0;32m--> 789\u001b[0m \u001b[38;5;28;01mreturn\u001b[39;00m \u001b[43mctx\u001b[49m\u001b[38;5;241;43m.\u001b[39;49m\u001b[43mquad\u001b[49m\u001b[43m(\u001b[49m\u001b[38;5;241;43m*\u001b[39;49m\u001b[43margs\u001b[49m\u001b[43m,\u001b[49m\u001b[43m \u001b[49m\u001b[38;5;241;43m*\u001b[39;49m\u001b[38;5;241;43m*\u001b[39;49m\u001b[43mkwargs\u001b[49m\u001b[43m)\u001b[49m\n",
      "File \u001b[0;32m/opt/homebrew/lib/python3.11/site-packages/mpmath/calculus/quadrature.py:746\u001b[0m, in \u001b[0;36mQuadratureMethods.quad\u001b[0;34m(ctx, f, *points, **kwargs)\u001b[0m\n\u001b[1;32m    744\u001b[0m ctx\u001b[38;5;241m.\u001b[39mprec \u001b[38;5;241m+\u001b[39m\u001b[38;5;241m=\u001b[39m \u001b[38;5;241m20\u001b[39m\n\u001b[1;32m    745\u001b[0m \u001b[38;5;28;01mif\u001b[39;00m dim \u001b[38;5;241m==\u001b[39m \u001b[38;5;241m1\u001b[39m:\n\u001b[0;32m--> 746\u001b[0m     v, err \u001b[38;5;241m=\u001b[39m \u001b[43mrule\u001b[49m\u001b[38;5;241;43m.\u001b[39;49m\u001b[43msummation\u001b[49m\u001b[43m(\u001b[49m\u001b[43mf\u001b[49m\u001b[43m,\u001b[49m\u001b[43m \u001b[49m\u001b[43mpoints\u001b[49m\u001b[43m[\u001b[49m\u001b[38;5;241;43m0\u001b[39;49m\u001b[43m]\u001b[49m\u001b[43m,\u001b[49m\u001b[43m \u001b[49m\u001b[43mprec\u001b[49m\u001b[43m,\u001b[49m\u001b[43m \u001b[49m\u001b[43mepsilon\u001b[49m\u001b[43m,\u001b[49m\u001b[43m \u001b[49m\u001b[43mm\u001b[49m\u001b[43m,\u001b[49m\u001b[43m \u001b[49m\u001b[43mverbose\u001b[49m\u001b[43m)\u001b[49m\n\u001b[1;32m    747\u001b[0m \u001b[38;5;28;01melif\u001b[39;00m dim \u001b[38;5;241m==\u001b[39m \u001b[38;5;241m2\u001b[39m:\n\u001b[1;32m    748\u001b[0m     v, err \u001b[38;5;241m=\u001b[39m rule\u001b[38;5;241m.\u001b[39msummation(\u001b[38;5;28;01mlambda\u001b[39;00m x: \\\n\u001b[1;32m    749\u001b[0m             rule\u001b[38;5;241m.\u001b[39msummation(\u001b[38;5;28;01mlambda\u001b[39;00m y: f(x,y), \\\n\u001b[1;32m    750\u001b[0m             points[\u001b[38;5;241m1\u001b[39m], prec, epsilon, m)[\u001b[38;5;241m0\u001b[39m],\n\u001b[1;32m    751\u001b[0m         points[\u001b[38;5;241m0\u001b[39m], prec, epsilon, m, verbose)\n",
      "File \u001b[0;32m/opt/homebrew/lib/python3.11/site-packages/mpmath/calculus/quadrature.py:233\u001b[0m, in \u001b[0;36mQuadratureRule.summation\u001b[0;34m(self, f, points, prec, epsilon, max_degree, verbose)\u001b[0m\n\u001b[1;32m    230\u001b[0m \u001b[38;5;28;01mif\u001b[39;00m verbose:\n\u001b[1;32m    231\u001b[0m     \u001b[38;5;28mprint\u001b[39m(\u001b[38;5;124m\"\u001b[39m\u001b[38;5;124mIntegrating from \u001b[39m\u001b[38;5;132;01m%s\u001b[39;00m\u001b[38;5;124m to \u001b[39m\u001b[38;5;132;01m%s\u001b[39;00m\u001b[38;5;124m (degree \u001b[39m\u001b[38;5;132;01m%s\u001b[39;00m\u001b[38;5;124m of \u001b[39m\u001b[38;5;132;01m%s\u001b[39;00m\u001b[38;5;124m)\u001b[39m\u001b[38;5;124m\"\u001b[39m \u001b[38;5;241m%\u001b[39m \\\n\u001b[1;32m    232\u001b[0m         (ctx\u001b[38;5;241m.\u001b[39mnstr(a), ctx\u001b[38;5;241m.\u001b[39mnstr(b), degree, max_degree))\n\u001b[0;32m--> 233\u001b[0m result \u001b[38;5;241m=\u001b[39m \u001b[38;5;28;43mself\u001b[39;49m\u001b[38;5;241;43m.\u001b[39;49m\u001b[43msum_next\u001b[49m\u001b[43m(\u001b[49m\u001b[43mf\u001b[49m\u001b[43m,\u001b[49m\u001b[43m \u001b[49m\u001b[43mnodes\u001b[49m\u001b[43m,\u001b[49m\u001b[43m \u001b[49m\u001b[43mdegree\u001b[49m\u001b[43m,\u001b[49m\u001b[43m \u001b[49m\u001b[43mprec\u001b[49m\u001b[43m,\u001b[49m\u001b[43m \u001b[49m\u001b[43mresults\u001b[49m\u001b[43m,\u001b[49m\u001b[43m \u001b[49m\u001b[43mverbose\u001b[49m\u001b[43m)\u001b[49m\n\u001b[1;32m    234\u001b[0m results\u001b[38;5;241m.\u001b[39mappend(result)\n\u001b[1;32m    235\u001b[0m \u001b[38;5;28;01mif\u001b[39;00m degree \u001b[38;5;241m>\u001b[39m \u001b[38;5;241m1\u001b[39m:\n",
      "File \u001b[0;32m/opt/homebrew/lib/python3.11/site-packages/mpmath/calculus/quadrature.py:308\u001b[0m, in \u001b[0;36mTanhSinh.sum_next\u001b[0;34m(self, f, nodes, degree, prec, previous, verbose)\u001b[0m\n\u001b[1;32m    306\u001b[0m \u001b[38;5;28;01melse\u001b[39;00m:\n\u001b[1;32m    307\u001b[0m     S \u001b[38;5;241m=\u001b[39m \u001b[38;5;28mself\u001b[39m\u001b[38;5;241m.\u001b[39mctx\u001b[38;5;241m.\u001b[39mzero\n\u001b[0;32m--> 308\u001b[0m S \u001b[38;5;241m+\u001b[39m\u001b[38;5;241m=\u001b[39m \u001b[38;5;28;43mself\u001b[39;49m\u001b[38;5;241;43m.\u001b[39;49m\u001b[43mctx\u001b[49m\u001b[38;5;241;43m.\u001b[39;49m\u001b[43mfdot\u001b[49m\u001b[43m(\u001b[49m\u001b[43m(\u001b[49m\u001b[43mw\u001b[49m\u001b[43m,\u001b[49m\u001b[43mf\u001b[49m\u001b[43m(\u001b[49m\u001b[43mx\u001b[49m\u001b[43m)\u001b[49m\u001b[43m)\u001b[49m\u001b[43m \u001b[49m\u001b[38;5;28;43;01mfor\u001b[39;49;00m\u001b[43m \u001b[49m\u001b[43m(\u001b[49m\u001b[43mx\u001b[49m\u001b[43m,\u001b[49m\u001b[43mw\u001b[49m\u001b[43m)\u001b[49m\u001b[43m \u001b[49m\u001b[38;5;129;43;01min\u001b[39;49;00m\u001b[43m \u001b[49m\u001b[43mnodes\u001b[49m\u001b[43m)\u001b[49m\n\u001b[1;32m    309\u001b[0m \u001b[38;5;28;01mreturn\u001b[39;00m h\u001b[38;5;241m*\u001b[39mS\n",
      "File \u001b[0;32m/opt/homebrew/lib/python3.11/site-packages/mpmath/ctx_mp_python.py:938\u001b[0m, in \u001b[0;36mPythonMPContext.fdot\u001b[0;34m(ctx, A, B, conjugate)\u001b[0m\n\u001b[1;32m    936\u001b[0m hasattr_ \u001b[38;5;241m=\u001b[39m \u001b[38;5;28mhasattr\u001b[39m\n\u001b[1;32m    937\u001b[0m types \u001b[38;5;241m=\u001b[39m (ctx\u001b[38;5;241m.\u001b[39mmpf, ctx\u001b[38;5;241m.\u001b[39mmpc)\n\u001b[0;32m--> 938\u001b[0m \u001b[43m\u001b[49m\u001b[38;5;28;43;01mfor\u001b[39;49;00m\u001b[43m \u001b[49m\u001b[43ma\u001b[49m\u001b[43m,\u001b[49m\u001b[43m \u001b[49m\u001b[43mb\u001b[49m\u001b[43m \u001b[49m\u001b[38;5;129;43;01min\u001b[39;49;00m\u001b[43m \u001b[49m\u001b[43mA\u001b[49m\u001b[43m:\u001b[49m\n\u001b[1;32m    939\u001b[0m \u001b[43m    \u001b[49m\u001b[38;5;28;43;01mif\u001b[39;49;00m\u001b[43m \u001b[49m\u001b[38;5;28;43mtype\u001b[39;49m\u001b[43m(\u001b[49m\u001b[43ma\u001b[49m\u001b[43m)\u001b[49m\u001b[43m \u001b[49m\u001b[38;5;129;43;01mnot\u001b[39;49;00m\u001b[43m \u001b[49m\u001b[38;5;129;43;01min\u001b[39;49;00m\u001b[43m \u001b[49m\u001b[43mtypes\u001b[49m\u001b[43m:\u001b[49m\u001b[43m \u001b[49m\u001b[43ma\u001b[49m\u001b[43m \u001b[49m\u001b[38;5;241;43m=\u001b[39;49m\u001b[43m \u001b[49m\u001b[43mctx\u001b[49m\u001b[38;5;241;43m.\u001b[39;49m\u001b[43mconvert\u001b[49m\u001b[43m(\u001b[49m\u001b[43ma\u001b[49m\u001b[43m)\u001b[49m\n\u001b[1;32m    940\u001b[0m \u001b[43m    \u001b[49m\u001b[38;5;28;43;01mif\u001b[39;49;00m\u001b[43m \u001b[49m\u001b[38;5;28;43mtype\u001b[39;49m\u001b[43m(\u001b[49m\u001b[43mb\u001b[49m\u001b[43m)\u001b[49m\u001b[43m \u001b[49m\u001b[38;5;129;43;01mnot\u001b[39;49;00m\u001b[43m \u001b[49m\u001b[38;5;129;43;01min\u001b[39;49;00m\u001b[43m \u001b[49m\u001b[43mtypes\u001b[49m\u001b[43m:\u001b[49m\u001b[43m \u001b[49m\u001b[43mb\u001b[49m\u001b[43m \u001b[49m\u001b[38;5;241;43m=\u001b[39;49m\u001b[43m \u001b[49m\u001b[43mctx\u001b[49m\u001b[38;5;241;43m.\u001b[39;49m\u001b[43mconvert\u001b[49m\u001b[43m(\u001b[49m\u001b[43mb\u001b[49m\u001b[43m)\u001b[49m\n",
      "File \u001b[0;32m/opt/homebrew/lib/python3.11/site-packages/mpmath/calculus/quadrature.py:308\u001b[0m, in \u001b[0;36m<genexpr>\u001b[0;34m(.0)\u001b[0m\n\u001b[1;32m    306\u001b[0m \u001b[38;5;28;01melse\u001b[39;00m:\n\u001b[1;32m    307\u001b[0m     S \u001b[38;5;241m=\u001b[39m \u001b[38;5;28mself\u001b[39m\u001b[38;5;241m.\u001b[39mctx\u001b[38;5;241m.\u001b[39mzero\n\u001b[0;32m--> 308\u001b[0m S \u001b[38;5;241m+\u001b[39m\u001b[38;5;241m=\u001b[39m \u001b[38;5;28mself\u001b[39m\u001b[38;5;241m.\u001b[39mctx\u001b[38;5;241m.\u001b[39mfdot((w,\u001b[43mf\u001b[49m\u001b[43m(\u001b[49m\u001b[43mx\u001b[49m\u001b[43m)\u001b[49m) \u001b[38;5;28;01mfor\u001b[39;00m (x,w) \u001b[38;5;129;01min\u001b[39;00m nodes)\n\u001b[1;32m    309\u001b[0m \u001b[38;5;28;01mreturn\u001b[39;00m h\u001b[38;5;241m*\u001b[39mS\n",
      "File \u001b[0;32m/opt/homebrew/lib/python3.11/site-packages/sympy/core/evalf.py:1108\u001b[0m, in \u001b[0;36mdo_integral.<locals>.f\u001b[0;34m(t)\u001b[0m\n\u001b[1;32m   1106\u001b[0m \u001b[38;5;28;01mdef\u001b[39;00m \u001b[38;5;21mf\u001b[39m(t: \u001b[38;5;124m'\u001b[39m\u001b[38;5;124mExpr\u001b[39m\u001b[38;5;124m'\u001b[39m) \u001b[38;5;241m-\u001b[39m\u001b[38;5;241m>\u001b[39m tUnion[mpc, mpf]:\n\u001b[1;32m   1107\u001b[0m     \u001b[38;5;28;01mnonlocal\u001b[39;00m max_real_term, max_imag_term\n\u001b[0;32m-> 1108\u001b[0m     re, im, re_acc, im_acc \u001b[38;5;241m=\u001b[39m \u001b[43mevalf\u001b[49m\u001b[43m(\u001b[49m\u001b[43mfunc\u001b[49m\u001b[43m,\u001b[49m\u001b[43m \u001b[49m\u001b[43mmp\u001b[49m\u001b[38;5;241;43m.\u001b[39;49m\u001b[43mprec\u001b[49m\u001b[43m,\u001b[49m\u001b[43m \u001b[49m\u001b[43m{\u001b[49m\u001b[38;5;124;43m'\u001b[39;49m\u001b[38;5;124;43msubs\u001b[39;49m\u001b[38;5;124;43m'\u001b[39;49m\u001b[43m:\u001b[49m\u001b[43m \u001b[49m\u001b[43m{\u001b[49m\u001b[43mx\u001b[49m\u001b[43m:\u001b[49m\u001b[43m \u001b[49m\u001b[43mt\u001b[49m\u001b[43m}\u001b[49m\u001b[43m}\u001b[49m\u001b[43m)\u001b[49m\n\u001b[1;32m   1110\u001b[0m     have_part[\u001b[38;5;241m0\u001b[39m] \u001b[38;5;241m=\u001b[39m re \u001b[38;5;129;01mor\u001b[39;00m have_part[\u001b[38;5;241m0\u001b[39m]\n\u001b[1;32m   1111\u001b[0m     have_part[\u001b[38;5;241m1\u001b[39m] \u001b[38;5;241m=\u001b[39m im \u001b[38;5;129;01mor\u001b[39;00m have_part[\u001b[38;5;241m1\u001b[39m]\n",
      "File \u001b[0;32m/opt/homebrew/lib/python3.11/site-packages/sympy/core/evalf.py:1482\u001b[0m, in \u001b[0;36mevalf\u001b[0;34m(x, prec, options)\u001b[0m\n\u001b[1;32m   1480\u001b[0m \u001b[38;5;28;01mtry\u001b[39;00m:\n\u001b[1;32m   1481\u001b[0m     rf \u001b[38;5;241m=\u001b[39m evalf_table[\u001b[38;5;28mtype\u001b[39m(x)]\n\u001b[0;32m-> 1482\u001b[0m     r \u001b[38;5;241m=\u001b[39m \u001b[43mrf\u001b[49m\u001b[43m(\u001b[49m\u001b[43mx\u001b[49m\u001b[43m,\u001b[49m\u001b[43m \u001b[49m\u001b[43mprec\u001b[49m\u001b[43m,\u001b[49m\u001b[43m \u001b[49m\u001b[43moptions\u001b[49m\u001b[43m)\u001b[49m\n\u001b[1;32m   1483\u001b[0m \u001b[38;5;28;01mexcept\u001b[39;00m \u001b[38;5;167;01mKeyError\u001b[39;00m:\n\u001b[1;32m   1484\u001b[0m     \u001b[38;5;66;03m# Fall back to ordinary evalf if possible\u001b[39;00m\n\u001b[1;32m   1485\u001b[0m     \u001b[38;5;28;01mif\u001b[39;00m \u001b[38;5;124m'\u001b[39m\u001b[38;5;124msubs\u001b[39m\u001b[38;5;124m'\u001b[39m \u001b[38;5;129;01min\u001b[39;00m options:\n",
      "File \u001b[0;32m/opt/homebrew/lib/python3.11/site-packages/sympy/core/evalf.py:648\u001b[0m, in \u001b[0;36mevalf_mul\u001b[0;34m(v, prec, options)\u001b[0m\n\u001b[1;32m    646\u001b[0m \u001b[38;5;28;01mfrom\u001b[39;00m \u001b[38;5;21;01m.\u001b[39;00m\u001b[38;5;21;01mnumbers\u001b[39;00m \u001b[38;5;28;01mimport\u001b[39;00m Float\n\u001b[1;32m    647\u001b[0m \u001b[38;5;28;01mfor\u001b[39;00m arg \u001b[38;5;129;01min\u001b[39;00m args:\n\u001b[0;32m--> 648\u001b[0m     result \u001b[38;5;241m=\u001b[39m \u001b[43mevalf\u001b[49m\u001b[43m(\u001b[49m\u001b[43marg\u001b[49m\u001b[43m,\u001b[49m\u001b[43m \u001b[49m\u001b[43mprec\u001b[49m\u001b[43m,\u001b[49m\u001b[43m \u001b[49m\u001b[43moptions\u001b[49m\u001b[43m)\u001b[49m\n\u001b[1;32m    649\u001b[0m     \u001b[38;5;28;01mif\u001b[39;00m result \u001b[38;5;129;01mis\u001b[39;00m S\u001b[38;5;241m.\u001b[39mComplexInfinity:\n\u001b[1;32m    650\u001b[0m         special\u001b[38;5;241m.\u001b[39mappend(result)\n",
      "File \u001b[0;32m/opt/homebrew/lib/python3.11/site-packages/sympy/core/evalf.py:1482\u001b[0m, in \u001b[0;36mevalf\u001b[0;34m(x, prec, options)\u001b[0m\n\u001b[1;32m   1480\u001b[0m \u001b[38;5;28;01mtry\u001b[39;00m:\n\u001b[1;32m   1481\u001b[0m     rf \u001b[38;5;241m=\u001b[39m evalf_table[\u001b[38;5;28mtype\u001b[39m(x)]\n\u001b[0;32m-> 1482\u001b[0m     r \u001b[38;5;241m=\u001b[39m \u001b[43mrf\u001b[49m\u001b[43m(\u001b[49m\u001b[43mx\u001b[49m\u001b[43m,\u001b[49m\u001b[43m \u001b[49m\u001b[43mprec\u001b[49m\u001b[43m,\u001b[49m\u001b[43m \u001b[49m\u001b[43moptions\u001b[49m\u001b[43m)\u001b[49m\n\u001b[1;32m   1483\u001b[0m \u001b[38;5;28;01mexcept\u001b[39;00m \u001b[38;5;167;01mKeyError\u001b[39;00m:\n\u001b[1;32m   1484\u001b[0m     \u001b[38;5;66;03m# Fall back to ordinary evalf if possible\u001b[39;00m\n\u001b[1;32m   1485\u001b[0m     \u001b[38;5;28;01mif\u001b[39;00m \u001b[38;5;124m'\u001b[39m\u001b[38;5;124msubs\u001b[39m\u001b[38;5;124m'\u001b[39m \u001b[38;5;129;01min\u001b[39;00m options:\n",
      "File \u001b[0;32m/opt/homebrew/lib/python3.11/site-packages/sympy/core/evalf.py:606\u001b[0m, in \u001b[0;36mevalf_add\u001b[0;34m(v, prec, options)\u001b[0m\n\u001b[1;32m    603\u001b[0m     \u001b[38;5;28;01mreturn\u001b[39;00m fnan, \u001b[38;5;28;01mNone\u001b[39;00m, prec, \u001b[38;5;28;01mNone\u001b[39;00m\n\u001b[1;32m    604\u001b[0m re, re_acc \u001b[38;5;241m=\u001b[39m add_terms(\n\u001b[1;32m    605\u001b[0m     [a[\u001b[38;5;241m0\u001b[39m::\u001b[38;5;241m2\u001b[39m] \u001b[38;5;28;01mfor\u001b[39;00m a \u001b[38;5;129;01min\u001b[39;00m terms \u001b[38;5;28;01mif\u001b[39;00m \u001b[38;5;28misinstance\u001b[39m(a, \u001b[38;5;28mtuple\u001b[39m) \u001b[38;5;129;01mand\u001b[39;00m a[\u001b[38;5;241m0\u001b[39m]], prec, target_prec)\n\u001b[0;32m--> 606\u001b[0m im, im_acc \u001b[38;5;241m=\u001b[39m \u001b[43madd_terms\u001b[49m\u001b[43m(\u001b[49m\n\u001b[1;32m    607\u001b[0m \u001b[43m    \u001b[49m\u001b[43m[\u001b[49m\u001b[43ma\u001b[49m\u001b[43m[\u001b[49m\u001b[38;5;241;43m1\u001b[39;49m\u001b[43m:\u001b[49m\u001b[43m:\u001b[49m\u001b[38;5;241;43m2\u001b[39;49m\u001b[43m]\u001b[49m\u001b[43m \u001b[49m\u001b[38;5;28;43;01mfor\u001b[39;49;00m\u001b[43m \u001b[49m\u001b[43ma\u001b[49m\u001b[43m \u001b[49m\u001b[38;5;129;43;01min\u001b[39;49;00m\u001b[43m \u001b[49m\u001b[43mterms\u001b[49m\u001b[43m \u001b[49m\u001b[38;5;28;43;01mif\u001b[39;49;00m\u001b[43m \u001b[49m\u001b[38;5;28;43misinstance\u001b[39;49m\u001b[43m(\u001b[49m\u001b[43ma\u001b[49m\u001b[43m,\u001b[49m\u001b[43m \u001b[49m\u001b[38;5;28;43mtuple\u001b[39;49m\u001b[43m)\u001b[49m\u001b[43m \u001b[49m\u001b[38;5;129;43;01mand\u001b[39;49;00m\u001b[43m \u001b[49m\u001b[43ma\u001b[49m\u001b[43m[\u001b[49m\u001b[38;5;241;43m1\u001b[39;49m\u001b[43m]\u001b[49m\u001b[43m]\u001b[49m\u001b[43m,\u001b[49m\u001b[43m \u001b[49m\u001b[43mprec\u001b[49m\u001b[43m,\u001b[49m\u001b[43m \u001b[49m\u001b[43mtarget_prec\u001b[49m\u001b[43m)\u001b[49m\n\u001b[1;32m    608\u001b[0m \u001b[38;5;28;01mif\u001b[39;00m n \u001b[38;5;241m==\u001b[39m \u001b[38;5;241m1\u001b[39m:\n\u001b[1;32m    609\u001b[0m     \u001b[38;5;28;01mif\u001b[39;00m re \u001b[38;5;129;01min\u001b[39;00m (finf, fninf, fnan) \u001b[38;5;129;01mor\u001b[39;00m im \u001b[38;5;129;01min\u001b[39;00m (finf, fninf, fnan):\n",
      "File \u001b[0;32m/opt/homebrew/lib/python3.11/site-packages/sympy/core/evalf.py:533\u001b[0m, in \u001b[0;36madd_terms\u001b[0;34m(terms, prec, target_prec)\u001b[0m\n\u001b[1;32m    531\u001b[0m \u001b[38;5;28;01mfrom\u001b[39;00m \u001b[38;5;21;01m.\u001b[39;00m\u001b[38;5;21;01mnumbers\u001b[39;00m \u001b[38;5;28;01mimport\u001b[39;00m Float\n\u001b[1;32m    532\u001b[0m \u001b[38;5;28;01mfor\u001b[39;00m t \u001b[38;5;129;01min\u001b[39;00m terms:\n\u001b[0;32m--> 533\u001b[0m     arg \u001b[38;5;241m=\u001b[39m \u001b[43mFloat\u001b[49m\u001b[38;5;241;43m.\u001b[39;49m\u001b[43m_new\u001b[49m\u001b[43m(\u001b[49m\u001b[43mt\u001b[49m\u001b[43m[\u001b[49m\u001b[38;5;241;43m0\u001b[39;49m\u001b[43m]\u001b[49m\u001b[43m,\u001b[49m\u001b[43m \u001b[49m\u001b[38;5;241;43m1\u001b[39;49m\u001b[43m)\u001b[49m\n\u001b[1;32m    534\u001b[0m     \u001b[38;5;28;01mif\u001b[39;00m arg \u001b[38;5;129;01mis\u001b[39;00m S\u001b[38;5;241m.\u001b[39mNaN \u001b[38;5;129;01mor\u001b[39;00m arg\u001b[38;5;241m.\u001b[39mis_infinite:\n\u001b[1;32m    535\u001b[0m         special\u001b[38;5;241m.\u001b[39mappend(arg)\n",
      "File \u001b[0;32m/opt/homebrew/lib/python3.11/site-packages/sympy/core/numbers.py:1194\u001b[0m, in \u001b[0;36mFloat._new\u001b[0;34m(cls, _mpf_, _prec, zero)\u001b[0m\n\u001b[1;32m   1191\u001b[0m     \u001b[38;5;28;01mreturn\u001b[39;00m S\u001b[38;5;241m.\u001b[39mNegativeInfinity\n\u001b[1;32m   1193\u001b[0m obj \u001b[38;5;241m=\u001b[39m Expr\u001b[38;5;241m.\u001b[39m\u001b[38;5;21m__new__\u001b[39m(\u001b[38;5;28mcls\u001b[39m)\n\u001b[0;32m-> 1194\u001b[0m obj\u001b[38;5;241m.\u001b[39m_mpf_ \u001b[38;5;241m=\u001b[39m \u001b[43mmpf_norm\u001b[49m\u001b[43m(\u001b[49m\u001b[43m_mpf_\u001b[49m\u001b[43m,\u001b[49m\u001b[43m \u001b[49m\u001b[43m_prec\u001b[49m\u001b[43m)\u001b[49m\n\u001b[1;32m   1195\u001b[0m obj\u001b[38;5;241m.\u001b[39m_prec \u001b[38;5;241m=\u001b[39m _prec\n\u001b[1;32m   1196\u001b[0m \u001b[38;5;28;01mreturn\u001b[39;00m obj\n",
      "File \u001b[0;32m/opt/homebrew/lib/python3.11/site-packages/sympy/core/numbers.py:149\u001b[0m, in \u001b[0;36mmpf_norm\u001b[0;34m(mpf, prec)\u001b[0m\n\u001b[1;32m    145\u001b[0m     \u001b[38;5;28;01melse\u001b[39;00m:\n\u001b[1;32m    146\u001b[0m         \u001b[38;5;28;01mreturn\u001b[39;00m diff \u001b[38;5;241m<\u001b[39m\u001b[38;5;241m=\u001b[39m tol\n\u001b[0;32m--> 149\u001b[0m \u001b[38;5;28;01mdef\u001b[39;00m \u001b[38;5;21mmpf_norm\u001b[39m(mpf, prec):\n\u001b[1;32m    150\u001b[0m \u001b[38;5;250m    \u001b[39m\u001b[38;5;124;03m\"\"\"Return the mpf tuple normalized appropriately for the indicated\u001b[39;00m\n\u001b[1;32m    151\u001b[0m \u001b[38;5;124;03m    precision after doing a check to see if zero should be returned or\u001b[39;00m\n\u001b[1;32m    152\u001b[0m \u001b[38;5;124;03m    not when the mantissa is 0. ``mpf_normlize`` always assumes that this\u001b[39;00m\n\u001b[0;32m   (...)\u001b[0m\n\u001b[1;32m    159\u001b[0m \u001b[38;5;124;03m    zero mpfs that have a 0 for the mantissa.\u001b[39;00m\n\u001b[1;32m    160\u001b[0m \u001b[38;5;124;03m    \"\"\"\u001b[39;00m\n\u001b[1;32m    161\u001b[0m     sign, man, expt, bc \u001b[38;5;241m=\u001b[39m mpf\n",
      "\u001b[0;31mKeyboardInterrupt\u001b[0m: "
     ]
    }
   ],
   "source": [
    "K_integral_kronecker_partial.rhs.subs([\n",
    "    (K,__M),(x,__x),(y,__y),(z,__z),(tau,__tau),(s,1), (T,__T)\n",
    "]).evalf()"
   ]
  },
  {
   "cell_type": "code",
   "execution_count": 277,
   "id": "43599f14",
   "metadata": {},
   "outputs": [],
   "source": [
    " xxx = (2*I*pi/(1 - exp(- 2*I*pi*tau*x + 2*I*pi*y)) +\n",
    "   2*I*pi*Sum(\n",
    "     exp(2*I*pi*m*z)/(1 - exp(2*I*pi*m*tau - 2*I*pi*tau*x + 2*I*pi*y)) + \n",
    "       -exp(-2*I*pi*m*z)/(1 - exp(-2*I*pi*m*tau - 2*I*pi*tau*x + 2*I*pi*y)), (m, 1, __M))).doit()"
   ]
  },
  {
   "cell_type": "code",
   "execution_count": 278,
   "id": "a4e52bf0",
   "metadata": {},
   "outputs": [
    {
     "data": {
      "text/latex": [
       "$\\displaystyle -2.35251527985813 + 2.21751736804601 i$"
      ],
      "text/plain": [
       "-2.35251527985813 + 2.21751736804601*I"
      ]
     },
     "execution_count": 278,
     "metadata": {},
     "output_type": "execute_result"
    }
   ],
   "source": [
    "xxx.subs([(x,__x),(y,__y),(z,__z),(tau, __tau), (M,__M)]).evalf()"
   ]
  },
  {
   "cell_type": "code",
   "execution_count": null,
   "id": "c945f322",
   "metadata": {},
   "outputs": [],
   "source": [
    "0.0674306217271212−0.0928102886313404𝑖\n",
    "3.76059428270804−5.1760139809466𝑖\n",
    "3.76059428270803−5.1760139809466𝑖"
   ]
  },
  {
   "cell_type": "markdown",
   "id": "57493520",
   "metadata": {},
   "source": [
    "## Obvious candidate for a partial sum"
   ]
  },
  {
   "cell_type": "code",
   "execution_count": 4,
   "id": "1cc2dd32",
   "metadata": {
    "scrolled": true
   },
   "outputs": [
    {
     "data": {
      "text/latex": [
       "$\\displaystyle 2 m \\operatorname{re}{\\left(\\omega_{1}\\right)} + 2 n \\operatorname{re}{\\left(\\omega_{2}\\right)} + \\operatorname{re}{\\left(z\\right)} > 0$"
      ],
      "text/plain": [
       "2*m*re(omega1) + 2*n*re(omega2) + re(z) > 0"
      ]
     },
     "execution_count": 4,
     "metadata": {},
     "output_type": "execute_result"
    },
    {
     "data": {
      "text/latex": [
       "$\\displaystyle \\operatorname{re}{\\left(s\\right)} > 0$"
      ],
      "text/plain": [
       "re(s) > 0"
      ]
     },
     "execution_count": 4,
     "metadata": {},
     "output_type": "execute_result"
    },
    {
     "data": {
      "text/latex": [
       "$\\displaystyle \\left(2 m \\omega_{1} + 2 n \\omega_{2} + z\\right)^{- s} e^{2 i \\pi \\left(m x_{1} + n x_{2}\\right)} \\Gamma\\left(s\\right) = \\int\\limits_{0}^{\\infty} t^{s - 1} e^{- 2 m \\omega_{1} t - 2 n \\omega_{2} t - t z + 2 i \\pi \\left(m x_{1} + n x_{2}\\right)}\\, dt$"
      ],
      "text/plain": [
       "Eq(exp(2*I*pi*(m*x1 + n*x2))*gamma(s)/(2*m*omega1 + 2*n*omega2 + z)**s, Integral(t**(s - 1)*exp(-2*m*omega1*t - 2*n*omega2*t - t*z + 2*I*pi*(m*x1 + n*x2)), (t, 0, oo)))"
      ]
     },
     "execution_count": 4,
     "metadata": {},
     "output_type": "execute_result"
    }
   ],
   "source": [
    "2*m*re(omega1)+2*n*re(omega2)+re(z) > 0\n",
    "re(s) > 0\n",
    "Eq(exp(2*I*pi*(m*x1 + n*x2))*gamma(s)/(m*2*omega1 + n*2*omega2 + z)**s,\n",
    "   Integral(t**(s-1)*exp(-m*2*omega1*t -n*2*omega2*t + 2*I*pi*(m*x1 + n*x2) -z*t), (t,0,oo)))"
   ]
  },
  {
   "cell_type": "code",
   "execution_count": 132,
   "id": "6ad51525",
   "metadata": {},
   "outputs": [
    {
     "data": {
      "text/latex": [
       "$\\displaystyle \\int\\limits_{0}^{\\infty} t^{s - 1} e^{i t z}\\, dt = \\begin{cases} \\frac{i e^{\\frac{i \\pi \\left(s - 1\\right)}{2}} \\Gamma\\left(s\\right) \\operatorname{polar\\_lift}^{1 - s}{\\left(z \\right)}}{z} & \\text{for}\\: \\left(\\left|{\\arg{\\left(z \\right)} - \\frac{\\pi}{2}}\\right| = \\frac{\\pi}{2} \\vee \\left|{\\arg{\\left(z \\right)} - \\frac{\\pi}{2}}\\right| < \\frac{\\pi}{2}\\right) \\wedge \\left(\\operatorname{re}{\\left(s\\right)} < 1 \\vee \\left|{\\arg{\\left(z \\right)} - \\frac{\\pi}{2}}\\right| < \\frac{\\pi}{2}\\right) \\wedge \\operatorname{re}{\\left(s\\right)} > 0 \\\\\\int\\limits_{0}^{\\infty} t^{s - 1} e^{i t z}\\, dt & \\text{otherwise} \\end{cases}$"
      ],
      "text/plain": [
       "Eq(Integral(t**(s - 1)*exp(I*t*z), (t, 0, oo)), Piecewise((I*exp_polar(I*pi*(s - 1)/2)*gamma(s)*polar_lift(z)**(1 - s)/z, (re(s) > 0) & ((re(s) < 1) | (Abs(arg(z) - pi/2) < pi/2)) & (Eq(Abs(arg(z) - pi/2), pi/2) | (Abs(arg(z) - pi/2) < pi/2))), (Integral(t**(s - 1)*exp(I*t*z), (t, 0, oo)), True)))"
      ]
     },
     "execution_count": 132,
     "metadata": {},
     "output_type": "execute_result"
    }
   ],
   "source": [
    "Eq(Integral(t**(s-1)*exp(I*z*t),(t,0,oo)), Integral(t**(s-1)*exp(I*z*t),(t,0,oo)).doit().simplify())"
   ]
  },
  {
   "cell_type": "markdown",
   "id": "04ef483f",
   "metadata": {},
   "source": [
    "## Quadrant sums"
   ]
  },
  {
   "cell_type": "code",
   "execution_count": 5,
   "id": "44f39526",
   "metadata": {},
   "outputs": [
    {
     "data": {
      "text/latex": [
       "$\\displaystyle \\mu{\\left(m,n \\right)} = \\begin{cases} \\frac{1}{2} & \\text{for}\\: \\left|{m}\\right| = \\left|{n}\\right| \\\\1 & \\text{otherwise} \\end{cases}$"
      ],
      "text/plain": [
       "Eq(mu(m, n), Piecewise((1/2, Eq(Abs(m), Abs(n))), (1, True)))"
      ]
     },
     "execution_count": 5,
     "metadata": {},
     "output_type": "execute_result"
    }
   ],
   "source": [
    "mu_mn = Eq(mu(m,n), Piecewise((Rational(1,2), Eq(abs(n),abs(m))), (1, True)))\n",
    "mu_mn"
   ]
  },
  {
   "cell_type": "code",
   "execution_count": 6,
   "id": "78ce5056",
   "metadata": {
    "scrolled": true
   },
   "outputs": [
    {
     "data": {
      "text/latex": [
       "$\\displaystyle \\begin{cases} \\frac{M \\left(M + 1\\right)}{2} & \\text{for}\\: x = 1 \\\\\\begin{cases} 0 & \\text{for}\\: x = 1 \\\\\\frac{x \\left(- M \\left(x - 1\\right) - x + x^{M + 1}\\right)}{\\left(x - 1\\right)^{2}} & \\text{otherwise} \\end{cases} & \\text{otherwise} \\end{cases}$"
      ],
      "text/plain": [
       "Piecewise((M*(M + 1)/2, Eq(x, 1)), (Piecewise((0, Eq(x, 1)), (x*(-M*(x - 1) - x + x**(M + 1))/(x - 1)**2, True)), True))"
      ]
     },
     "execution_count": 6,
     "metadata": {},
     "output_type": "execute_result"
    }
   ],
   "source": [
    "Sum(x**n,(n,1,m),(m,1,M)).doit().simplify()"
   ]
  },
  {
   "cell_type": "code",
   "execution_count": 7,
   "id": "475831b4",
   "metadata": {},
   "outputs": [
    {
     "data": {
      "text/latex": [
       "$\\displaystyle \\sum_{\\substack{- n \\leq m \\leq n\\\\1 \\leq n \\leq K}} p^{n} q^{m} \\mu{\\left(m,n \\right)} = \\frac{p \\left(q + 2 + \\frac{1}{q}\\right)}{2 \\left(\\frac{p}{q} - 1\\right) \\left(p q - 1\\right)} - \\frac{\\left(q + 1\\right) \\left(\\frac{\\left(\\frac{p}{q}\\right)^{K + 1}}{- \\frac{p}{q} + 1} - \\frac{\\left(p q\\right)^{K + 1}}{- p q + 1}\\right)}{1 - q}$"
      ],
      "text/plain": [
       "Eq(Sum(p**n*q**m*mu(m, n), (m, -n, n), (n, 1, K)), p*(q + 2 + 1/q)/(2*(p/q - 1)*(p*q - 1)) - (q + 1)*((p/q)**(K + 1)/(-p/q + 1) - (p*q)**(K + 1)/(-p*q + 1))/(1 - q))"
      ]
     },
     "execution_count": 7,
     "metadata": {},
     "output_type": "execute_result"
    }
   ],
   "source": [
    "Eq(Sum(mu(m,n)*p**n *q**m,(m,-n, n), (n,1,K)),\n",
    "   p/2*(1/q + 2 + q)/((p/q - 1)*(p*q - 1)) - (1+q)/(1-q)*((p/q)**(K+1)/(1 - p/q) - (p*q)**(K+1)/(1-p*q))\n",
    ")"
   ]
  },
  {
   "cell_type": "code",
   "execution_count": 8,
   "id": "29d94d96",
   "metadata": {},
   "outputs": [
    {
     "data": {
      "text/latex": [
       "$\\displaystyle \\begin{cases} -0.113017391304348 & \\text{for}\\: n = \\left|{m}\\right| \\\\-0.709217391304348 & \\text{otherwise} \\end{cases}$"
      ],
      "text/plain": [
       "Piecewise((-0.113017391304348, Eq(n, Abs(m))), (-0.709217391304348, True))"
      ]
     },
     "execution_count": 8,
     "metadata": {},
     "output_type": "execute_result"
    }
   ],
   "source": [
    "(-Sum(mu(m,n)*p**n *q**m,(m,-n, n), (n,1,K)) +\n",
    "   p/2*(1/q + 2 + q)/((p/q - 1)*(p*q - 1)) - (1+q)/(1-q)*((p/q)**(K+1)/(1 - p/q) - (p*q)**(K+1)/(1-p*q))\n",
    ").subs(*mu_mn.args).subs([\n",
    "    (p,0.2), (q,0.4), (K,2)\n",
    "]).doit().simplify()"
   ]
  },
  {
   "cell_type": "code",
   "execution_count": 9,
   "id": "97c8f2ee",
   "metadata": {},
   "outputs": [
    {
     "data": {
      "text/latex": [
       "$\\displaystyle \\sum_{n=1}^{K} \\begin{cases} q^{n} \\left(2 n + 1\\right) & \\text{for}\\: p = 1 \\\\\\frac{q^{n} \\left(- p^{n + 1} + p^{- n}\\right)}{1 - p} & \\text{otherwise} \\end{cases}$"
      ],
      "text/plain": [
       "Sum(Piecewise((q**n*(2*n + 1), Eq(p, 1)), (q**n*(-p**(n + 1) + p**(-n))/(1 - p), True)), (n, 1, K))"
      ]
     },
     "execution_count": 9,
     "metadata": {},
     "output_type": "execute_result"
    }
   ],
   "source": [
    "Sum(p**m *q**n,(m,-n, n), (n,1,K)).doit()"
   ]
  },
  {
   "cell_type": "code",
   "execution_count": 10,
   "id": "17e199ea",
   "metadata": {},
   "outputs": [
    {
     "data": {
      "text/latex": [
       "$\\displaystyle \\begin{cases} \\frac{\\sum_{n=1}^{K} q^{n} \\left(\\left(\\frac{1}{q}\\right)^{n + 1} - \\left(0^{\\frac{1}{K}}\\right)^{- n}\\right)}{p - 1} & \\text{for}\\: p = 0^{\\frac{1}{K}} \\wedge p = \\frac{1}{q} \\\\\\frac{- p^{2} q - p q \\sum_{n=1}^{K} q^{n} \\left(0^{\\frac{1}{K}}\\right)^{- n} + p^{K + 2} q^{K + 1} + \\sum_{n=1}^{K} q^{n} \\left(0^{\\frac{1}{K}}\\right)^{- n}}{p^{2} q - p q - p + 1} & \\text{for}\\: p = 0^{\\frac{1}{K}} \\\\\\frac{\\sum_{n=1}^{K} q^{n} \\left(\\frac{1}{q}\\right)^{n + 1} - \\frac{p^{- K} q \\left(p^{K} - q^{K}\\right)}{p - q}}{p - 1} & \\text{for}\\: p = \\frac{1}{q} \\\\\\frac{p^{- K} q \\left(- p^{K + 1} \\left(p - q\\right) \\left(p - p^{K + 1} q^{K}\\right) - \\left(p^{K} - q^{K}\\right) \\left(p q - 1\\right)\\right)}{\\left(p - 1\\right) \\left(p - q\\right) \\left(p q - 1\\right)} & \\text{otherwise} \\end{cases}$"
      ],
      "text/plain": [
       "Piecewise((Sum(q**n*((1/q)**(n + 1) - 1/(0**(1/K))**n), (n, 1, K))/(p - 1), Eq(p, 1/q) & Eq(p, 0**(1/K))), ((-p**2*q - p*q*Sum(q**n/(0**(1/K))**n, (n, 1, K)) + p**(K + 2)*q**(K + 1) + Sum(q**n/(0**(1/K))**n, (n, 1, K)))/(p**2*q - p*q - p + 1), Eq(p, 0**(1/K))), ((Sum(q**n*(1/q)**(n + 1), (n, 1, K)) - q*(p**K - q**K)/(p**K*(p - q)))/(p - 1), Eq(p, 1/q)), (q*(-p**(K + 1)*(p - q)*(p - p**(K + 1)*q**K) - (p**K - q**K)*(p*q - 1))/(p**K*(p - 1)*(p - q)*(p*q - 1)), True))"
      ]
     },
     "execution_count": 10,
     "metadata": {},
     "output_type": "execute_result"
    }
   ],
   "source": [
    "Sum(q**n*(-p**(n + 1) + p**(-n))/(1 - p),(n, 1, K)).doit().simplify()"
   ]
  },
  {
   "cell_type": "code",
   "execution_count": 11,
   "id": "ee65f519",
   "metadata": {},
   "outputs": [
    {
     "data": {
      "text/latex": [
       "$\\displaystyle - \\frac{\\begin{cases} \\sum_{n=1}^{K} q^{n} \\left(0^{\\frac{1}{K}}\\right)^{- n} & \\text{for}\\: p = 0^{\\frac{1}{K}} \\\\\\frac{p^{- K} q \\left(p^{K} - q^{K}\\right)}{p - q} & \\text{otherwise} \\end{cases}}{p - 1} - \\frac{\\begin{cases} \\sum_{n=1}^{K} q^{n} \\left(\\frac{1}{q}\\right)^{n + 1} & \\text{for}\\: p = \\frac{1}{q} \\\\- \\frac{p q \\left(p - p^{K + 1} q^{K}\\right)}{p q - 1} & \\text{otherwise} \\end{cases}}{1 - p}$"
      ],
      "text/plain": [
       "-Piecewise((Sum(q**n/(0**(1/K))**n, (n, 1, K)), Eq(p, 0**(1/K))), (q*(p**K - q**K)/(p**K*(p - q)), True))/(p - 1) - Piecewise((Sum(q**n*(1/q)**(n + 1), (n, 1, K)), Eq(p, 1/q)), (-p*q*(p - p**(K + 1)*q**K)/(p*q - 1), True))/(1 - p)"
      ]
     },
     "execution_count": 11,
     "metadata": {},
     "output_type": "execute_result"
    }
   ],
   "source": [
    "Sum(q**n*(-p**(n+1) + p**(-n))/(1-p),(n,1,K)).doit()"
   ]
  },
  {
   "cell_type": "code",
   "execution_count": 12,
   "id": "9a2f46d1",
   "metadata": {},
   "outputs": [],
   "source": [
    "xx = Sum(q**n*(-p**(n + 1) + p**(-n))/(1 - p),(n, 1, K)).doit().simplify().args[3][0]"
   ]
  },
  {
   "cell_type": "code",
   "execution_count": 13,
   "id": "ab60ab93",
   "metadata": {
    "scrolled": true
   },
   "outputs": [
    {
     "data": {
      "text/latex": [
       "$\\displaystyle - \\frac{p^{- K} q \\left(p^{K + 1} \\left(p - q\\right) \\left(p - p^{K + 1} q^{K}\\right) + \\left(p^{K} - q^{K}\\right) \\left(p q - 1\\right)\\right)}{\\left(p - 1\\right) \\left(p - q\\right) \\left(p q - 1\\right)}$"
      ],
      "text/plain": [
       "-q*(p**(K + 1)*(p - q)*(p - p**(K + 1)*q**K) + (p**K - q**K)*(p*q - 1))/(p**K*(p - 1)*(p - q)*(p*q - 1))"
      ]
     },
     "execution_count": 13,
     "metadata": {},
     "output_type": "execute_result"
    }
   ],
   "source": [
    "xx.simplify()"
   ]
  },
  {
   "cell_type": "code",
   "execution_count": 67,
   "id": "14e188c7",
   "metadata": {},
   "outputs": [],
   "source": [
    "def plot_lattice_signs(_omega1, _omega2, _K: int):\n",
    "    \n",
    "    # Generate points\n",
    "    lattice = [2*_omega1*m + 2*_omega2*n for n in range(-_K, _K + 1) for m in range(-_K, _K + 1)]\n",
    "    \n",
    "    # Separate positive and negative points\n",
    "    positive_x = []\n",
    "    positive_y = []\n",
    "    negative_x = []\n",
    "    negative_y = []\n",
    "    for l in lattice:\n",
    "        if re(l) >= 0:\n",
    "            positive_x.append(float(re(l)))\n",
    "            positive_y.append(float(im(l)))\n",
    "        else:\n",
    "            negative_x.append(float(re(l)))\n",
    "            negative_y.append(float(im(l)))\n",
    "\n",
    "    # Create plotly figure \n",
    "    # (factored like this because of incompatibility with InteractiveShell.ast_node_interactivity = 'all')\n",
    "    fig = (\n",
    "        go.Figure()\n",
    "\n",
    "        # Add positive points\n",
    "        .add_trace(go.Scatter(\n",
    "            x=positive_x,\n",
    "            y=positive_y,\n",
    "            mode='markers',\n",
    "            marker=dict(\n",
    "                symbol='star-triangle-up',  # plus sign\n",
    "                color='blue'     # blue color\n",
    "            ),\n",
    "            name='Positive'\n",
    "        ))\n",
    "\n",
    "        # Add negative points\n",
    "        .add_trace(go.Scatter(\n",
    "            x=negative_x,\n",
    "            y=negative_y,\n",
    "            mode='markers',\n",
    "            marker=dict(\n",
    "                symbol='star-triangle-down',  # negative sign\n",
    "                color='red'      # red color\n",
    "            ),\n",
    "            name='Negative'\n",
    "        ))\n",
    "\n",
    "        # Set layout\n",
    "        .update_layout(\n",
    "            title='Lattice points with positive and negative real parts',\n",
    "            xaxis=dict(title='X'),\n",
    "            yaxis=dict(title='Y'),\n",
    "            autosize=False,\n",
    "            width=900,\n",
    "            height=900,\n",
    "\n",
    "        )\n",
    "\n",
    "    ).show()\n"
   ]
  },
  {
   "cell_type": "code",
   "execution_count": 91,
   "id": "33b57ab0",
   "metadata": {},
   "outputs": [
    {
     "data": {
      "application/vnd.plotly.v1+json": {
       "config": {
        "plotlyServerURL": "https://plot.ly"
       },
       "data": [
        {
         "marker": {
          "color": "blue",
          "symbol": "star-triangle-up"
         },
         "mode": "markers",
         "name": "Positive",
         "type": "scatter",
         "x": [
          0,
          2,
          4,
          0,
          2,
          4,
          6,
          8,
          10,
          0,
          2,
          4,
          6,
          8,
          10,
          12,
          14,
          16,
          2,
          4,
          6,
          8,
          10,
          12,
          14,
          16,
          18,
          20,
          22,
          8,
          10,
          12,
          14,
          16,
          18,
          20,
          22,
          24,
          26,
          28,
          14,
          16,
          18,
          20,
          22,
          24,
          26,
          28,
          30,
          32,
          34,
          20,
          22,
          24,
          26,
          28,
          30,
          32,
          34,
          36,
          38,
          40
         ],
         "y": [
          -4,
          -4,
          -4,
          0,
          0,
          0,
          0,
          0,
          0,
          4,
          4,
          4,
          4,
          4,
          4,
          4,
          4,
          4,
          8,
          8,
          8,
          8,
          8,
          8,
          8,
          8,
          8,
          8,
          8,
          12,
          12,
          12,
          12,
          12,
          12,
          12,
          12,
          12,
          12,
          12,
          16,
          16,
          16,
          16,
          16,
          16,
          16,
          16,
          16,
          16,
          16,
          20,
          20,
          20,
          20,
          20,
          20,
          20,
          20,
          20,
          20,
          20
         ]
        },
        {
         "marker": {
          "color": "red",
          "symbol": "star-triangle-down"
         },
         "mode": "markers",
         "name": "Negative",
         "type": "scatter",
         "x": [
          -40,
          -38,
          -36,
          -34,
          -32,
          -30,
          -28,
          -26,
          -24,
          -22,
          -20,
          -34,
          -32,
          -30,
          -28,
          -26,
          -24,
          -22,
          -20,
          -18,
          -16,
          -14,
          -28,
          -26,
          -24,
          -22,
          -20,
          -18,
          -16,
          -14,
          -12,
          -10,
          -8,
          -22,
          -20,
          -18,
          -16,
          -14,
          -12,
          -10,
          -8,
          -6,
          -4,
          -2,
          -16,
          -14,
          -12,
          -10,
          -8,
          -6,
          -4,
          -2,
          -10,
          -8,
          -6,
          -4,
          -2,
          -4,
          -2
         ],
         "y": [
          -20,
          -20,
          -20,
          -20,
          -20,
          -20,
          -20,
          -20,
          -20,
          -20,
          -20,
          -16,
          -16,
          -16,
          -16,
          -16,
          -16,
          -16,
          -16,
          -16,
          -16,
          -16,
          -12,
          -12,
          -12,
          -12,
          -12,
          -12,
          -12,
          -12,
          -12,
          -12,
          -12,
          -8,
          -8,
          -8,
          -8,
          -8,
          -8,
          -8,
          -8,
          -8,
          -8,
          -8,
          -4,
          -4,
          -4,
          -4,
          -4,
          -4,
          -4,
          -4,
          0,
          0,
          0,
          0,
          0,
          4,
          4
         ]
        }
       ],
       "layout": {
        "autosize": false,
        "height": 900,
        "template": {
         "data": {
          "bar": [
           {
            "error_x": {
             "color": "#2a3f5f"
            },
            "error_y": {
             "color": "#2a3f5f"
            },
            "marker": {
             "line": {
              "color": "#E5ECF6",
              "width": 0.5
             },
             "pattern": {
              "fillmode": "overlay",
              "size": 10,
              "solidity": 0.2
             }
            },
            "type": "bar"
           }
          ],
          "barpolar": [
           {
            "marker": {
             "line": {
              "color": "#E5ECF6",
              "width": 0.5
             },
             "pattern": {
              "fillmode": "overlay",
              "size": 10,
              "solidity": 0.2
             }
            },
            "type": "barpolar"
           }
          ],
          "carpet": [
           {
            "aaxis": {
             "endlinecolor": "#2a3f5f",
             "gridcolor": "white",
             "linecolor": "white",
             "minorgridcolor": "white",
             "startlinecolor": "#2a3f5f"
            },
            "baxis": {
             "endlinecolor": "#2a3f5f",
             "gridcolor": "white",
             "linecolor": "white",
             "minorgridcolor": "white",
             "startlinecolor": "#2a3f5f"
            },
            "type": "carpet"
           }
          ],
          "choropleth": [
           {
            "colorbar": {
             "outlinewidth": 0,
             "ticks": ""
            },
            "type": "choropleth"
           }
          ],
          "contour": [
           {
            "colorbar": {
             "outlinewidth": 0,
             "ticks": ""
            },
            "colorscale": [
             [
              0,
              "#0d0887"
             ],
             [
              0.1111111111111111,
              "#46039f"
             ],
             [
              0.2222222222222222,
              "#7201a8"
             ],
             [
              0.3333333333333333,
              "#9c179e"
             ],
             [
              0.4444444444444444,
              "#bd3786"
             ],
             [
              0.5555555555555556,
              "#d8576b"
             ],
             [
              0.6666666666666666,
              "#ed7953"
             ],
             [
              0.7777777777777778,
              "#fb9f3a"
             ],
             [
              0.8888888888888888,
              "#fdca26"
             ],
             [
              1,
              "#f0f921"
             ]
            ],
            "type": "contour"
           }
          ],
          "contourcarpet": [
           {
            "colorbar": {
             "outlinewidth": 0,
             "ticks": ""
            },
            "type": "contourcarpet"
           }
          ],
          "heatmap": [
           {
            "colorbar": {
             "outlinewidth": 0,
             "ticks": ""
            },
            "colorscale": [
             [
              0,
              "#0d0887"
             ],
             [
              0.1111111111111111,
              "#46039f"
             ],
             [
              0.2222222222222222,
              "#7201a8"
             ],
             [
              0.3333333333333333,
              "#9c179e"
             ],
             [
              0.4444444444444444,
              "#bd3786"
             ],
             [
              0.5555555555555556,
              "#d8576b"
             ],
             [
              0.6666666666666666,
              "#ed7953"
             ],
             [
              0.7777777777777778,
              "#fb9f3a"
             ],
             [
              0.8888888888888888,
              "#fdca26"
             ],
             [
              1,
              "#f0f921"
             ]
            ],
            "type": "heatmap"
           }
          ],
          "heatmapgl": [
           {
            "colorbar": {
             "outlinewidth": 0,
             "ticks": ""
            },
            "colorscale": [
             [
              0,
              "#0d0887"
             ],
             [
              0.1111111111111111,
              "#46039f"
             ],
             [
              0.2222222222222222,
              "#7201a8"
             ],
             [
              0.3333333333333333,
              "#9c179e"
             ],
             [
              0.4444444444444444,
              "#bd3786"
             ],
             [
              0.5555555555555556,
              "#d8576b"
             ],
             [
              0.6666666666666666,
              "#ed7953"
             ],
             [
              0.7777777777777778,
              "#fb9f3a"
             ],
             [
              0.8888888888888888,
              "#fdca26"
             ],
             [
              1,
              "#f0f921"
             ]
            ],
            "type": "heatmapgl"
           }
          ],
          "histogram": [
           {
            "marker": {
             "pattern": {
              "fillmode": "overlay",
              "size": 10,
              "solidity": 0.2
             }
            },
            "type": "histogram"
           }
          ],
          "histogram2d": [
           {
            "colorbar": {
             "outlinewidth": 0,
             "ticks": ""
            },
            "colorscale": [
             [
              0,
              "#0d0887"
             ],
             [
              0.1111111111111111,
              "#46039f"
             ],
             [
              0.2222222222222222,
              "#7201a8"
             ],
             [
              0.3333333333333333,
              "#9c179e"
             ],
             [
              0.4444444444444444,
              "#bd3786"
             ],
             [
              0.5555555555555556,
              "#d8576b"
             ],
             [
              0.6666666666666666,
              "#ed7953"
             ],
             [
              0.7777777777777778,
              "#fb9f3a"
             ],
             [
              0.8888888888888888,
              "#fdca26"
             ],
             [
              1,
              "#f0f921"
             ]
            ],
            "type": "histogram2d"
           }
          ],
          "histogram2dcontour": [
           {
            "colorbar": {
             "outlinewidth": 0,
             "ticks": ""
            },
            "colorscale": [
             [
              0,
              "#0d0887"
             ],
             [
              0.1111111111111111,
              "#46039f"
             ],
             [
              0.2222222222222222,
              "#7201a8"
             ],
             [
              0.3333333333333333,
              "#9c179e"
             ],
             [
              0.4444444444444444,
              "#bd3786"
             ],
             [
              0.5555555555555556,
              "#d8576b"
             ],
             [
              0.6666666666666666,
              "#ed7953"
             ],
             [
              0.7777777777777778,
              "#fb9f3a"
             ],
             [
              0.8888888888888888,
              "#fdca26"
             ],
             [
              1,
              "#f0f921"
             ]
            ],
            "type": "histogram2dcontour"
           }
          ],
          "mesh3d": [
           {
            "colorbar": {
             "outlinewidth": 0,
             "ticks": ""
            },
            "type": "mesh3d"
           }
          ],
          "parcoords": [
           {
            "line": {
             "colorbar": {
              "outlinewidth": 0,
              "ticks": ""
             }
            },
            "type": "parcoords"
           }
          ],
          "pie": [
           {
            "automargin": true,
            "type": "pie"
           }
          ],
          "scatter": [
           {
            "fillpattern": {
             "fillmode": "overlay",
             "size": 10,
             "solidity": 0.2
            },
            "type": "scatter"
           }
          ],
          "scatter3d": [
           {
            "line": {
             "colorbar": {
              "outlinewidth": 0,
              "ticks": ""
             }
            },
            "marker": {
             "colorbar": {
              "outlinewidth": 0,
              "ticks": ""
             }
            },
            "type": "scatter3d"
           }
          ],
          "scattercarpet": [
           {
            "marker": {
             "colorbar": {
              "outlinewidth": 0,
              "ticks": ""
             }
            },
            "type": "scattercarpet"
           }
          ],
          "scattergeo": [
           {
            "marker": {
             "colorbar": {
              "outlinewidth": 0,
              "ticks": ""
             }
            },
            "type": "scattergeo"
           }
          ],
          "scattergl": [
           {
            "marker": {
             "colorbar": {
              "outlinewidth": 0,
              "ticks": ""
             }
            },
            "type": "scattergl"
           }
          ],
          "scattermapbox": [
           {
            "marker": {
             "colorbar": {
              "outlinewidth": 0,
              "ticks": ""
             }
            },
            "type": "scattermapbox"
           }
          ],
          "scatterpolar": [
           {
            "marker": {
             "colorbar": {
              "outlinewidth": 0,
              "ticks": ""
             }
            },
            "type": "scatterpolar"
           }
          ],
          "scatterpolargl": [
           {
            "marker": {
             "colorbar": {
              "outlinewidth": 0,
              "ticks": ""
             }
            },
            "type": "scatterpolargl"
           }
          ],
          "scatterternary": [
           {
            "marker": {
             "colorbar": {
              "outlinewidth": 0,
              "ticks": ""
             }
            },
            "type": "scatterternary"
           }
          ],
          "surface": [
           {
            "colorbar": {
             "outlinewidth": 0,
             "ticks": ""
            },
            "colorscale": [
             [
              0,
              "#0d0887"
             ],
             [
              0.1111111111111111,
              "#46039f"
             ],
             [
              0.2222222222222222,
              "#7201a8"
             ],
             [
              0.3333333333333333,
              "#9c179e"
             ],
             [
              0.4444444444444444,
              "#bd3786"
             ],
             [
              0.5555555555555556,
              "#d8576b"
             ],
             [
              0.6666666666666666,
              "#ed7953"
             ],
             [
              0.7777777777777778,
              "#fb9f3a"
             ],
             [
              0.8888888888888888,
              "#fdca26"
             ],
             [
              1,
              "#f0f921"
             ]
            ],
            "type": "surface"
           }
          ],
          "table": [
           {
            "cells": {
             "fill": {
              "color": "#EBF0F8"
             },
             "line": {
              "color": "white"
             }
            },
            "header": {
             "fill": {
              "color": "#C8D4E3"
             },
             "line": {
              "color": "white"
             }
            },
            "type": "table"
           }
          ]
         },
         "layout": {
          "annotationdefaults": {
           "arrowcolor": "#2a3f5f",
           "arrowhead": 0,
           "arrowwidth": 1
          },
          "autotypenumbers": "strict",
          "coloraxis": {
           "colorbar": {
            "outlinewidth": 0,
            "ticks": ""
           }
          },
          "colorscale": {
           "diverging": [
            [
             0,
             "#8e0152"
            ],
            [
             0.1,
             "#c51b7d"
            ],
            [
             0.2,
             "#de77ae"
            ],
            [
             0.3,
             "#f1b6da"
            ],
            [
             0.4,
             "#fde0ef"
            ],
            [
             0.5,
             "#f7f7f7"
            ],
            [
             0.6,
             "#e6f5d0"
            ],
            [
             0.7,
             "#b8e186"
            ],
            [
             0.8,
             "#7fbc41"
            ],
            [
             0.9,
             "#4d9221"
            ],
            [
             1,
             "#276419"
            ]
           ],
           "sequential": [
            [
             0,
             "#0d0887"
            ],
            [
             0.1111111111111111,
             "#46039f"
            ],
            [
             0.2222222222222222,
             "#7201a8"
            ],
            [
             0.3333333333333333,
             "#9c179e"
            ],
            [
             0.4444444444444444,
             "#bd3786"
            ],
            [
             0.5555555555555556,
             "#d8576b"
            ],
            [
             0.6666666666666666,
             "#ed7953"
            ],
            [
             0.7777777777777778,
             "#fb9f3a"
            ],
            [
             0.8888888888888888,
             "#fdca26"
            ],
            [
             1,
             "#f0f921"
            ]
           ],
           "sequentialminus": [
            [
             0,
             "#0d0887"
            ],
            [
             0.1111111111111111,
             "#46039f"
            ],
            [
             0.2222222222222222,
             "#7201a8"
            ],
            [
             0.3333333333333333,
             "#9c179e"
            ],
            [
             0.4444444444444444,
             "#bd3786"
            ],
            [
             0.5555555555555556,
             "#d8576b"
            ],
            [
             0.6666666666666666,
             "#ed7953"
            ],
            [
             0.7777777777777778,
             "#fb9f3a"
            ],
            [
             0.8888888888888888,
             "#fdca26"
            ],
            [
             1,
             "#f0f921"
            ]
           ]
          },
          "colorway": [
           "#636efa",
           "#EF553B",
           "#00cc96",
           "#ab63fa",
           "#FFA15A",
           "#19d3f3",
           "#FF6692",
           "#B6E880",
           "#FF97FF",
           "#FECB52"
          ],
          "font": {
           "color": "#2a3f5f"
          },
          "geo": {
           "bgcolor": "white",
           "lakecolor": "white",
           "landcolor": "#E5ECF6",
           "showlakes": true,
           "showland": true,
           "subunitcolor": "white"
          },
          "hoverlabel": {
           "align": "left"
          },
          "hovermode": "closest",
          "mapbox": {
           "style": "light"
          },
          "paper_bgcolor": "white",
          "plot_bgcolor": "#E5ECF6",
          "polar": {
           "angularaxis": {
            "gridcolor": "white",
            "linecolor": "white",
            "ticks": ""
           },
           "bgcolor": "#E5ECF6",
           "radialaxis": {
            "gridcolor": "white",
            "linecolor": "white",
            "ticks": ""
           }
          },
          "scene": {
           "xaxis": {
            "backgroundcolor": "#E5ECF6",
            "gridcolor": "white",
            "gridwidth": 2,
            "linecolor": "white",
            "showbackground": true,
            "ticks": "",
            "zerolinecolor": "white"
           },
           "yaxis": {
            "backgroundcolor": "#E5ECF6",
            "gridcolor": "white",
            "gridwidth": 2,
            "linecolor": "white",
            "showbackground": true,
            "ticks": "",
            "zerolinecolor": "white"
           },
           "zaxis": {
            "backgroundcolor": "#E5ECF6",
            "gridcolor": "white",
            "gridwidth": 2,
            "linecolor": "white",
            "showbackground": true,
            "ticks": "",
            "zerolinecolor": "white"
           }
          },
          "shapedefaults": {
           "line": {
            "color": "#2a3f5f"
           }
          },
          "ternary": {
           "aaxis": {
            "gridcolor": "white",
            "linecolor": "white",
            "ticks": ""
           },
           "baxis": {
            "gridcolor": "white",
            "linecolor": "white",
            "ticks": ""
           },
           "bgcolor": "#E5ECF6",
           "caxis": {
            "gridcolor": "white",
            "linecolor": "white",
            "ticks": ""
           }
          },
          "title": {
           "x": 0.05
          },
          "xaxis": {
           "automargin": true,
           "gridcolor": "white",
           "linecolor": "white",
           "ticks": "",
           "title": {
            "standoff": 15
           },
           "zerolinecolor": "white",
           "zerolinewidth": 2
          },
          "yaxis": {
           "automargin": true,
           "gridcolor": "white",
           "linecolor": "white",
           "ticks": "",
           "title": {
            "standoff": 15
           },
           "zerolinecolor": "white",
           "zerolinewidth": 2
          }
         }
        },
        "title": {
         "text": "Lattice points with positive and negative real parts"
        },
        "width": 900,
        "xaxis": {
         "title": {
          "text": "X"
         }
        },
        "yaxis": {
         "title": {
          "text": "Y"
         }
        }
       }
      },
      "text/html": [
       "<div>                            <div id=\"f38751e2-613f-4797-93f4-e3759054f682\" class=\"plotly-graph-div\" style=\"height:900px; width:900px;\"></div>            <script type=\"text/javascript\">                require([\"plotly\"], function(Plotly) {                    window.PLOTLYENV=window.PLOTLYENV || {};                                    if (document.getElementById(\"f38751e2-613f-4797-93f4-e3759054f682\")) {                    Plotly.newPlot(                        \"f38751e2-613f-4797-93f4-e3759054f682\",                        [{\"marker\":{\"color\":\"blue\",\"symbol\":\"star-triangle-up\"},\"mode\":\"markers\",\"name\":\"Positive\",\"x\":[0.0,2.0,4.0,0.0,2.0,4.0,6.0,8.0,10.0,0.0,2.0,4.0,6.0,8.0,10.0,12.0,14.0,16.0,2.0,4.0,6.0,8.0,10.0,12.0,14.0,16.0,18.0,20.0,22.0,8.0,10.0,12.0,14.0,16.0,18.0,20.0,22.0,24.0,26.0,28.0,14.0,16.0,18.0,20.0,22.0,24.0,26.0,28.0,30.0,32.0,34.0,20.0,22.0,24.0,26.0,28.0,30.0,32.0,34.0,36.0,38.0,40.0],\"y\":[-4.0,-4.0,-4.0,0.0,0.0,0.0,0.0,0.0,0.0,4.0,4.0,4.0,4.0,4.0,4.0,4.0,4.0,4.0,8.0,8.0,8.0,8.0,8.0,8.0,8.0,8.0,8.0,8.0,8.0,12.0,12.0,12.0,12.0,12.0,12.0,12.0,12.0,12.0,12.0,12.0,16.0,16.0,16.0,16.0,16.0,16.0,16.0,16.0,16.0,16.0,16.0,20.0,20.0,20.0,20.0,20.0,20.0,20.0,20.0,20.0,20.0,20.0],\"type\":\"scatter\"},{\"marker\":{\"color\":\"red\",\"symbol\":\"star-triangle-down\"},\"mode\":\"markers\",\"name\":\"Negative\",\"x\":[-40.0,-38.0,-36.0,-34.0,-32.0,-30.0,-28.0,-26.0,-24.0,-22.0,-20.0,-34.0,-32.0,-30.0,-28.0,-26.0,-24.0,-22.0,-20.0,-18.0,-16.0,-14.0,-28.0,-26.0,-24.0,-22.0,-20.0,-18.0,-16.0,-14.0,-12.0,-10.0,-8.0,-22.0,-20.0,-18.0,-16.0,-14.0,-12.0,-10.0,-8.0,-6.0,-4.0,-2.0,-16.0,-14.0,-12.0,-10.0,-8.0,-6.0,-4.0,-2.0,-10.0,-8.0,-6.0,-4.0,-2.0,-4.0,-2.0],\"y\":[-20.0,-20.0,-20.0,-20.0,-20.0,-20.0,-20.0,-20.0,-20.0,-20.0,-20.0,-16.0,-16.0,-16.0,-16.0,-16.0,-16.0,-16.0,-16.0,-16.0,-16.0,-16.0,-12.0,-12.0,-12.0,-12.0,-12.0,-12.0,-12.0,-12.0,-12.0,-12.0,-12.0,-8.0,-8.0,-8.0,-8.0,-8.0,-8.0,-8.0,-8.0,-8.0,-8.0,-8.0,-4.0,-4.0,-4.0,-4.0,-4.0,-4.0,-4.0,-4.0,0.0,0.0,0.0,0.0,0.0,4.0,4.0],\"type\":\"scatter\"}],                        {\"template\":{\"data\":{\"histogram2dcontour\":[{\"type\":\"histogram2dcontour\",\"colorbar\":{\"outlinewidth\":0,\"ticks\":\"\"},\"colorscale\":[[0.0,\"#0d0887\"],[0.1111111111111111,\"#46039f\"],[0.2222222222222222,\"#7201a8\"],[0.3333333333333333,\"#9c179e\"],[0.4444444444444444,\"#bd3786\"],[0.5555555555555556,\"#d8576b\"],[0.6666666666666666,\"#ed7953\"],[0.7777777777777778,\"#fb9f3a\"],[0.8888888888888888,\"#fdca26\"],[1.0,\"#f0f921\"]]}],\"choropleth\":[{\"type\":\"choropleth\",\"colorbar\":{\"outlinewidth\":0,\"ticks\":\"\"}}],\"histogram2d\":[{\"type\":\"histogram2d\",\"colorbar\":{\"outlinewidth\":0,\"ticks\":\"\"},\"colorscale\":[[0.0,\"#0d0887\"],[0.1111111111111111,\"#46039f\"],[0.2222222222222222,\"#7201a8\"],[0.3333333333333333,\"#9c179e\"],[0.4444444444444444,\"#bd3786\"],[0.5555555555555556,\"#d8576b\"],[0.6666666666666666,\"#ed7953\"],[0.7777777777777778,\"#fb9f3a\"],[0.8888888888888888,\"#fdca26\"],[1.0,\"#f0f921\"]]}],\"heatmap\":[{\"type\":\"heatmap\",\"colorbar\":{\"outlinewidth\":0,\"ticks\":\"\"},\"colorscale\":[[0.0,\"#0d0887\"],[0.1111111111111111,\"#46039f\"],[0.2222222222222222,\"#7201a8\"],[0.3333333333333333,\"#9c179e\"],[0.4444444444444444,\"#bd3786\"],[0.5555555555555556,\"#d8576b\"],[0.6666666666666666,\"#ed7953\"],[0.7777777777777778,\"#fb9f3a\"],[0.8888888888888888,\"#fdca26\"],[1.0,\"#f0f921\"]]}],\"heatmapgl\":[{\"type\":\"heatmapgl\",\"colorbar\":{\"outlinewidth\":0,\"ticks\":\"\"},\"colorscale\":[[0.0,\"#0d0887\"],[0.1111111111111111,\"#46039f\"],[0.2222222222222222,\"#7201a8\"],[0.3333333333333333,\"#9c179e\"],[0.4444444444444444,\"#bd3786\"],[0.5555555555555556,\"#d8576b\"],[0.6666666666666666,\"#ed7953\"],[0.7777777777777778,\"#fb9f3a\"],[0.8888888888888888,\"#fdca26\"],[1.0,\"#f0f921\"]]}],\"contourcarpet\":[{\"type\":\"contourcarpet\",\"colorbar\":{\"outlinewidth\":0,\"ticks\":\"\"}}],\"contour\":[{\"type\":\"contour\",\"colorbar\":{\"outlinewidth\":0,\"ticks\":\"\"},\"colorscale\":[[0.0,\"#0d0887\"],[0.1111111111111111,\"#46039f\"],[0.2222222222222222,\"#7201a8\"],[0.3333333333333333,\"#9c179e\"],[0.4444444444444444,\"#bd3786\"],[0.5555555555555556,\"#d8576b\"],[0.6666666666666666,\"#ed7953\"],[0.7777777777777778,\"#fb9f3a\"],[0.8888888888888888,\"#fdca26\"],[1.0,\"#f0f921\"]]}],\"surface\":[{\"type\":\"surface\",\"colorbar\":{\"outlinewidth\":0,\"ticks\":\"\"},\"colorscale\":[[0.0,\"#0d0887\"],[0.1111111111111111,\"#46039f\"],[0.2222222222222222,\"#7201a8\"],[0.3333333333333333,\"#9c179e\"],[0.4444444444444444,\"#bd3786\"],[0.5555555555555556,\"#d8576b\"],[0.6666666666666666,\"#ed7953\"],[0.7777777777777778,\"#fb9f3a\"],[0.8888888888888888,\"#fdca26\"],[1.0,\"#f0f921\"]]}],\"mesh3d\":[{\"type\":\"mesh3d\",\"colorbar\":{\"outlinewidth\":0,\"ticks\":\"\"}}],\"scatter\":[{\"fillpattern\":{\"fillmode\":\"overlay\",\"size\":10,\"solidity\":0.2},\"type\":\"scatter\"}],\"parcoords\":[{\"type\":\"parcoords\",\"line\":{\"colorbar\":{\"outlinewidth\":0,\"ticks\":\"\"}}}],\"scatterpolargl\":[{\"type\":\"scatterpolargl\",\"marker\":{\"colorbar\":{\"outlinewidth\":0,\"ticks\":\"\"}}}],\"bar\":[{\"error_x\":{\"color\":\"#2a3f5f\"},\"error_y\":{\"color\":\"#2a3f5f\"},\"marker\":{\"line\":{\"color\":\"#E5ECF6\",\"width\":0.5},\"pattern\":{\"fillmode\":\"overlay\",\"size\":10,\"solidity\":0.2}},\"type\":\"bar\"}],\"scattergeo\":[{\"type\":\"scattergeo\",\"marker\":{\"colorbar\":{\"outlinewidth\":0,\"ticks\":\"\"}}}],\"scatterpolar\":[{\"type\":\"scatterpolar\",\"marker\":{\"colorbar\":{\"outlinewidth\":0,\"ticks\":\"\"}}}],\"histogram\":[{\"marker\":{\"pattern\":{\"fillmode\":\"overlay\",\"size\":10,\"solidity\":0.2}},\"type\":\"histogram\"}],\"scattergl\":[{\"type\":\"scattergl\",\"marker\":{\"colorbar\":{\"outlinewidth\":0,\"ticks\":\"\"}}}],\"scatter3d\":[{\"type\":\"scatter3d\",\"line\":{\"colorbar\":{\"outlinewidth\":0,\"ticks\":\"\"}},\"marker\":{\"colorbar\":{\"outlinewidth\":0,\"ticks\":\"\"}}}],\"scattermapbox\":[{\"type\":\"scattermapbox\",\"marker\":{\"colorbar\":{\"outlinewidth\":0,\"ticks\":\"\"}}}],\"scatterternary\":[{\"type\":\"scatterternary\",\"marker\":{\"colorbar\":{\"outlinewidth\":0,\"ticks\":\"\"}}}],\"scattercarpet\":[{\"type\":\"scattercarpet\",\"marker\":{\"colorbar\":{\"outlinewidth\":0,\"ticks\":\"\"}}}],\"carpet\":[{\"aaxis\":{\"endlinecolor\":\"#2a3f5f\",\"gridcolor\":\"white\",\"linecolor\":\"white\",\"minorgridcolor\":\"white\",\"startlinecolor\":\"#2a3f5f\"},\"baxis\":{\"endlinecolor\":\"#2a3f5f\",\"gridcolor\":\"white\",\"linecolor\":\"white\",\"minorgridcolor\":\"white\",\"startlinecolor\":\"#2a3f5f\"},\"type\":\"carpet\"}],\"table\":[{\"cells\":{\"fill\":{\"color\":\"#EBF0F8\"},\"line\":{\"color\":\"white\"}},\"header\":{\"fill\":{\"color\":\"#C8D4E3\"},\"line\":{\"color\":\"white\"}},\"type\":\"table\"}],\"barpolar\":[{\"marker\":{\"line\":{\"color\":\"#E5ECF6\",\"width\":0.5},\"pattern\":{\"fillmode\":\"overlay\",\"size\":10,\"solidity\":0.2}},\"type\":\"barpolar\"}],\"pie\":[{\"automargin\":true,\"type\":\"pie\"}]},\"layout\":{\"autotypenumbers\":\"strict\",\"colorway\":[\"#636efa\",\"#EF553B\",\"#00cc96\",\"#ab63fa\",\"#FFA15A\",\"#19d3f3\",\"#FF6692\",\"#B6E880\",\"#FF97FF\",\"#FECB52\"],\"font\":{\"color\":\"#2a3f5f\"},\"hovermode\":\"closest\",\"hoverlabel\":{\"align\":\"left\"},\"paper_bgcolor\":\"white\",\"plot_bgcolor\":\"#E5ECF6\",\"polar\":{\"bgcolor\":\"#E5ECF6\",\"angularaxis\":{\"gridcolor\":\"white\",\"linecolor\":\"white\",\"ticks\":\"\"},\"radialaxis\":{\"gridcolor\":\"white\",\"linecolor\":\"white\",\"ticks\":\"\"}},\"ternary\":{\"bgcolor\":\"#E5ECF6\",\"aaxis\":{\"gridcolor\":\"white\",\"linecolor\":\"white\",\"ticks\":\"\"},\"baxis\":{\"gridcolor\":\"white\",\"linecolor\":\"white\",\"ticks\":\"\"},\"caxis\":{\"gridcolor\":\"white\",\"linecolor\":\"white\",\"ticks\":\"\"}},\"coloraxis\":{\"colorbar\":{\"outlinewidth\":0,\"ticks\":\"\"}},\"colorscale\":{\"sequential\":[[0.0,\"#0d0887\"],[0.1111111111111111,\"#46039f\"],[0.2222222222222222,\"#7201a8\"],[0.3333333333333333,\"#9c179e\"],[0.4444444444444444,\"#bd3786\"],[0.5555555555555556,\"#d8576b\"],[0.6666666666666666,\"#ed7953\"],[0.7777777777777778,\"#fb9f3a\"],[0.8888888888888888,\"#fdca26\"],[1.0,\"#f0f921\"]],\"sequentialminus\":[[0.0,\"#0d0887\"],[0.1111111111111111,\"#46039f\"],[0.2222222222222222,\"#7201a8\"],[0.3333333333333333,\"#9c179e\"],[0.4444444444444444,\"#bd3786\"],[0.5555555555555556,\"#d8576b\"],[0.6666666666666666,\"#ed7953\"],[0.7777777777777778,\"#fb9f3a\"],[0.8888888888888888,\"#fdca26\"],[1.0,\"#f0f921\"]],\"diverging\":[[0,\"#8e0152\"],[0.1,\"#c51b7d\"],[0.2,\"#de77ae\"],[0.3,\"#f1b6da\"],[0.4,\"#fde0ef\"],[0.5,\"#f7f7f7\"],[0.6,\"#e6f5d0\"],[0.7,\"#b8e186\"],[0.8,\"#7fbc41\"],[0.9,\"#4d9221\"],[1,\"#276419\"]]},\"xaxis\":{\"gridcolor\":\"white\",\"linecolor\":\"white\",\"ticks\":\"\",\"title\":{\"standoff\":15},\"zerolinecolor\":\"white\",\"automargin\":true,\"zerolinewidth\":2},\"yaxis\":{\"gridcolor\":\"white\",\"linecolor\":\"white\",\"ticks\":\"\",\"title\":{\"standoff\":15},\"zerolinecolor\":\"white\",\"automargin\":true,\"zerolinewidth\":2},\"scene\":{\"xaxis\":{\"backgroundcolor\":\"#E5ECF6\",\"gridcolor\":\"white\",\"linecolor\":\"white\",\"showbackground\":true,\"ticks\":\"\",\"zerolinecolor\":\"white\",\"gridwidth\":2},\"yaxis\":{\"backgroundcolor\":\"#E5ECF6\",\"gridcolor\":\"white\",\"linecolor\":\"white\",\"showbackground\":true,\"ticks\":\"\",\"zerolinecolor\":\"white\",\"gridwidth\":2},\"zaxis\":{\"backgroundcolor\":\"#E5ECF6\",\"gridcolor\":\"white\",\"linecolor\":\"white\",\"showbackground\":true,\"ticks\":\"\",\"zerolinecolor\":\"white\",\"gridwidth\":2}},\"shapedefaults\":{\"line\":{\"color\":\"#2a3f5f\"}},\"annotationdefaults\":{\"arrowcolor\":\"#2a3f5f\",\"arrowhead\":0,\"arrowwidth\":1},\"geo\":{\"bgcolor\":\"white\",\"landcolor\":\"#E5ECF6\",\"subunitcolor\":\"white\",\"showland\":true,\"showlakes\":true,\"lakecolor\":\"white\"},\"title\":{\"x\":0.05},\"mapbox\":{\"style\":\"light\"}}},\"title\":{\"text\":\"Lattice points with positive and negative real parts\"},\"xaxis\":{\"title\":{\"text\":\"X\"}},\"yaxis\":{\"title\":{\"text\":\"Y\"}},\"autosize\":false,\"width\":900,\"height\":900},                        {\"responsive\": true}                    ).then(function(){\n",
       "                            \n",
       "var gd = document.getElementById('f38751e2-613f-4797-93f4-e3759054f682');\n",
       "var x = new MutationObserver(function (mutations, observer) {{\n",
       "        var display = window.getComputedStyle(gd).display;\n",
       "        if (!display || display === 'none') {{\n",
       "            console.log([gd, 'removed!']);\n",
       "            Plotly.purge(gd);\n",
       "            observer.disconnect();\n",
       "        }}\n",
       "}});\n",
       "\n",
       "// Listen for the removal of the full notebook cells\n",
       "var notebookContainer = gd.closest('#notebook-container');\n",
       "if (notebookContainer) {{\n",
       "    x.observe(notebookContainer, {childList: true});\n",
       "}}\n",
       "\n",
       "// Listen for the clearing of the current output cell\n",
       "var outputEl = gd.closest('.output');\n",
       "if (outputEl) {{\n",
       "    x.observe(outputEl, {childList: true});\n",
       "}}\n",
       "\n",
       "                        })                };                });            </script>        </div>"
      ]
     },
     "metadata": {},
     "output_type": "display_data"
    }
   ],
   "source": [
    "_omega1 = 1\n",
    "_omega2 = 3 + 2j\n",
    "_K = 5\n",
    "\n",
    "plot_lattice_signs(_omega1, _omega2, _K)"
   ]
  },
  {
   "cell_type": "code",
   "execution_count": 97,
   "id": "ccde8118",
   "metadata": {
    "scrolled": true
   },
   "outputs": [
    {
     "data": {
      "text/latex": [
       "$\\displaystyle \\sum_{\\substack{- K \\leq n \\leq K\\\\- K \\leq m \\leq K}} \\left(m + n \\tau + \\xi\\right)^{- s} e^{2 i \\pi \\left(m x + n y\\right)} = \\left(-1\\right)^{s} \\sum_{m=1}^{K} \\left(m - \\xi\\right)^{- s} e^{- 2 i \\pi m x} + \\left(-1\\right)^{s} \\sum_{n=1}^{K} \\left(n \\tau - \\xi\\right)^{- s} e^{- 2 i \\pi n y} + \\left(-1\\right)^{s} \\sum_{\\substack{1 \\leq n \\leq K\\\\1 \\leq m \\leq K}} \\left(m - n \\tau - \\xi\\right)^{- s} e^{2 i \\pi \\left(- m x + n y\\right)} + \\left(-1\\right)^{s} \\sum_{\\substack{1 \\leq n \\leq K\\\\1 \\leq m \\leq K}} \\left(m + n \\tau - \\xi\\right)^{- s} e^{2 i \\pi \\left(- m x + n y\\right)} + \\sum_{m=1}^{K} \\left(m + \\xi\\right)^{- s} e^{2 i \\pi m x} + \\sum_{n=1}^{K} \\left(n \\tau + \\xi\\right)^{- s} e^{2 i \\pi n y} + \\sum_{\\substack{1 \\leq n \\leq K\\\\1 \\leq m \\leq K}} \\left(m - n \\tau + \\xi\\right)^{- s} e^{2 i \\pi \\left(m x - n y\\right)} + \\sum_{\\substack{1 \\leq n \\leq K\\\\1 \\leq m \\leq K}} \\left(m + n \\tau + \\xi\\right)^{- s} e^{2 i \\pi \\left(m x + n y\\right)} + \\xi^{- s}$"
      ],
      "text/plain": [
       "Eq(Sum(exp(2*I*pi*(m*x + n*y))/(m + n*tau + xi)**s, (n, -K, K), (m, -K, K)), (-1)**s*Sum(exp(-2*I*pi*m*x)/(m - xi)**s, (m, 1, K)) + (-1)**s*Sum(exp(-2*I*pi*n*y)/(n*tau - xi)**s, (n, 1, K)) + (-1)**s*Sum(exp(2*I*pi*(-m*x + n*y))/(m - n*tau - xi)**s, (n, 1, K), (m, 1, K)) + (-1)**s*Sum(exp(2*I*pi*(-m*x + n*y))/(m + n*tau - xi)**s, (n, 1, K), (m, 1, K)) + Sum(exp(2*I*pi*m*x)/(m + xi)**s, (m, 1, K)) + Sum(exp(2*I*pi*n*y)/(n*tau + xi)**s, (n, 1, K)) + Sum(exp(2*I*pi*(m*x - n*y))/(m - n*tau + xi)**s, (n, 1, K), (m, 1, K)) + Sum(exp(2*I*pi*(m*x + n*y))/(m + n*tau + xi)**s, (n, 1, K), (m, 1, K)) + xi**(-s))"
      ]
     },
     "execution_count": 97,
     "metadata": {},
     "output_type": "execute_result"
    }
   ],
   "source": [
    "Eq(\n",
    "    Sum(exp(2*I*pi*(m*x + n*y))/(m + n*tau + xi)**s,(n,-K,K),(m,-K,K)),\n",
    "    1/xi**s + \n",
    "    (-1)**s*Sum(exp(-2*I*pi*(n*y))/(n*tau - xi)**s,(n,1,K)) +\n",
    "    Sum(exp(2*I*pi*(n*y))/(n*tau + xi)**s,(n,1,K)) +\n",
    "    (-1)**s*Sum(exp(2*I*pi*(-m*x + n*y))/(m + n*tau - xi)**s,(n,1,K),(m,1,K)) + \n",
    "    (-1)**s*Sum(exp(2*I*pi*(-m*x + n*y))/(m - n*tau - xi)**s,(n,1,K),(m,1,K)) +\n",
    "    (-1)**s*Sum(exp(2*I*pi*(-m*x))/(m - xi)**s,(m,1,K)) +\n",
    "    Sum(exp(2*I*pi*(m*x - n*y))/(m - n*tau + xi)**s,(n,1,K),(m,1,K)) +\n",
    "    Sum(exp(2*I*pi*(m*x + n*y))/(m + n*tau + xi)**s,(n,1,K),(m,1,K)) +\n",
    "    Sum(exp(2*I*pi*(m*x))/(m + xi)**s,(m,1,K))\n",
    ")"
   ]
  },
  {
   "cell_type": "code",
   "execution_count": 98,
   "id": "2261cc73",
   "metadata": {},
   "outputs": [
    {
     "data": {
      "text/latex": [
       "$\\displaystyle \\sum_{\\substack{1 \\leq n \\leq K\\\\1 \\leq m \\leq K}} \\left(m - n \\tau + \\xi\\right)^{- s} e^{2 i \\pi \\left(m x - n y\\right)} = \\sum_{\\substack{1 \\leq n \\leq h{\\left(m \\right)}\\\\1 \\leq m \\leq K}} \\left(m - n \\tau + \\xi\\right)^{- s} e^{2 i \\pi \\left(m x - n y\\right)} + \\sum_{\\substack{h{\\left(m \\right)} + 1 \\leq n \\leq K\\\\1 \\leq m \\leq K}} \\left(m - n \\tau + \\xi\\right)^{- s} e^{2 i \\pi \\left(m x - n y\\right)}$"
      ],
      "text/plain": [
       "Eq(Sum(exp(2*I*pi*(m*x - n*y))/(m - n*tau + xi)**s, (n, 1, K), (m, 1, K)), Sum(exp(2*I*pi*(m*x - n*y))/(m - n*tau + xi)**s, (n, 1, h(m)), (m, 1, K)) + Sum(exp(2*I*pi*(m*x - n*y))/(m - n*tau + xi)**s, (n, h(m) + 1, K), (m, 1, K)))"
      ]
     },
     "execution_count": 98,
     "metadata": {},
     "output_type": "execute_result"
    }
   ],
   "source": [
    "Eq(\n",
    "    Sum(exp(2*I*pi*(m*x - n*y))/(m - n*tau + xi)**s,(n,1,K),(m,1,K)),\n",
    "    Sum(exp(2*I*pi*(m*x - n*y))/(m - n*tau + xi)**s,(n,1,h(m)),(m,1,K)) + \n",
    "    Sum(exp(2*I*pi*(m*x - n*y))/(m - n*tau + xi)**s,(n,h(m) + 1,K),(m,1,K))\n",
    ")"
   ]
  },
  {
   "cell_type": "code",
   "execution_count": 102,
   "id": "51abe75d",
   "metadata": {},
   "outputs": [
    {
     "data": {
      "text/latex": [
       "$\\displaystyle h{\\left(m \\right)} = \\frac{m}{\\operatorname{re}{\\left(\\tau\\right)}}$"
      ],
      "text/plain": [
       "Eq(h(m), m/re(tau))"
      ]
     },
     "execution_count": 102,
     "metadata": {},
     "output_type": "execute_result"
    }
   ],
   "source": [
    "Eq(h(m), solve(m-h(m)*re(tau),h(m))[0])"
   ]
  },
  {
   "cell_type": "code",
   "execution_count": 108,
   "id": "cf1c156f",
   "metadata": {},
   "outputs": [
    {
     "data": {
      "text/latex": [
       "$\\displaystyle - \\tau x > - m$"
      ],
      "text/plain": [
       "-tau*x > -m"
      ]
     },
     "execution_count": 108,
     "metadata": {},
     "output_type": "execute_result"
    }
   ],
   "source": [
    "solve(m-x*re(tau)>0, x)"
   ]
  },
  {
   "cell_type": "code",
   "execution_count": 15,
   "id": "7d12c822",
   "metadata": {},
   "outputs": [
    {
     "data": {
      "text/latex": [
       "$\\displaystyle \\sum_{\\substack{- K \\leq n \\leq K\\\\- K \\leq m \\leq K}} \\left(2 m \\omega_{1} + 2 n \\omega_{2} + z\\right)^{- s} e^{2 i \\pi \\left(m x + n y\\right)}$"
      ],
      "text/plain": [
       "Sum(exp(2*I*pi*(m*x + n*y))/(2*m*omega1 + 2*n*omega2 + z)**s, (n, -K, K), (m, -K, K))"
      ]
     },
     "execution_count": 15,
     "metadata": {},
     "output_type": "execute_result"
    }
   ],
   "source": [
    "Sum(exp(2*I*pi*(m*x + n*y))/(2*m*omega1 + 2*n*omega2 + z)**s,(n,-K,K),(m,-K,K))"
   ]
  },
  {
   "cell_type": "code",
   "execution_count": 16,
   "id": "97f12c45",
   "metadata": {},
   "outputs": [
    {
     "data": {
      "text/latex": [
       "$\\displaystyle \\sum_{\\substack{- K \\leq n \\leq K\\\\- K \\leq m \\leq K}} f{\\left(m,n \\right)} = f{\\left(0,0 \\right)} + \\sum_{\\substack{- m \\leq n \\leq m - 1\\\\1 \\leq m \\leq K}} f{\\left(- m,n \\right)} + \\sum_{\\substack{1 - n \\leq m \\leq n\\\\1 \\leq n \\leq K}} f{\\left(m,- n \\right)} + \\sum_{\\substack{- n \\leq m \\leq n - 1\\\\1 \\leq n \\leq K}} f{\\left(m,n \\right)} + \\sum_{\\substack{1 - m \\leq n \\leq m\\\\1 \\leq m \\leq K}} f{\\left(m,n \\right)}$"
      ],
      "text/plain": [
       "Eq(Sum(f(m, n), (n, -K, K), (m, -K, K)), f(0, 0) + Sum(f(-m, n), (n, -m, m - 1), (m, 1, K)) + Sum(f(m, -n), (m, 1 - n, n), (n, 1, K)) + Sum(f(m, n), (m, -n, n - 1), (n, 1, K)) + Sum(f(m, n), (n, 1 - m, m), (m, 1, K)))"
      ]
     },
     "execution_count": 16,
     "metadata": {},
     "output_type": "execute_result"
    }
   ],
   "source": [
    "Eq(Sum(f(m,n),(n,-K,K),(m,-K,K)),\n",
    "   f(0,0) + \n",
    "   Sum(f(m,n),(m,-n,n-1),(n,1,K)) +\n",
    "   Sum(f(m,n),(n,-m+1,m),(m,1,K)) +\n",
    "   Sum(f(m,-n),(m,-n+1,n),(n,1,K)) +\n",
    "   Sum(f(-m,n),(n,-m,m-1),(m,1,K))\n",
    "  )"
   ]
  },
  {
   "cell_type": "code",
   "execution_count": 17,
   "id": "b374b603",
   "metadata": {},
   "outputs": [
    {
     "data": {
      "text/latex": [
       "$\\displaystyle 0$"
      ],
      "text/plain": [
       "0"
      ]
     },
     "execution_count": 17,
     "metadata": {},
     "output_type": "execute_result"
    }
   ],
   "source": [
    "_K = 10\n",
    "result = ( \n",
    "    -Sum(f(m,n),(n,-_K,_K),(m,-_K,_K)).doit() + \n",
    "    f(0,0) + \n",
    "    sum([sum([f(m,n) for m in range(-n, n)]) for n in range(1,_K+1)]) + # Sum(f(m,n),(m,-n,n-1),(n,1,K)) +\n",
    "    sum([sum([f(m,n) for n in range(-m+1, m+1)]) for m in range(1,_K+1)]) + #Sum(f(m,n),(n,-m+1,m),(m,1,K)) +\n",
    "    sum([sum([f(m,-n) for m in range(-n+1, n+1)]) for n in range(1,_K+1)]) + #Sum(f(m,-n),(m,-n+1,n),(n,1,K)) +\n",
    "    sum([sum([f(-m,n) for n in range(-m, m)]) for m in range(1,_K+1)]) #Sum(f(-m,n),(n,-m,m-1),(m,1,K))\n",
    ")\n",
    "result"
   ]
  },
  {
   "cell_type": "code",
   "execution_count": 18,
   "id": "c4f2a98f",
   "metadata": {},
   "outputs": [
    {
     "data": {
      "text/latex": [
       "$\\displaystyle \\sum_{\\substack{- K \\leq n \\leq K\\\\- K \\leq m \\leq K}} \\left(2 m \\omega_{1} + 2 n \\omega_{2} + z\\right)^{- s} e^{2 i \\pi \\left(m x + n y\\right)} = \\sum_{\\substack{- m \\leq n \\leq m - 1\\\\1 \\leq m \\leq K}} \\left(- 2 m \\omega_{1} + 2 n \\omega_{2} + z\\right)^{- s} e^{2 i \\pi \\left(- m x + n y\\right)} + \\sum_{\\substack{1 - n \\leq m \\leq n\\\\1 \\leq n \\leq K}} \\left(2 m \\omega_{1} - 2 n \\omega_{2} + z\\right)^{- s} e^{2 i \\pi \\left(m x - n y\\right)} + \\sum_{\\substack{- n \\leq m \\leq n - 1\\\\1 \\leq n \\leq K}} \\left(2 m \\omega_{1} + 2 n \\omega_{2} + z\\right)^{- s} e^{2 i \\pi \\left(m x + n y\\right)} + \\sum_{\\substack{1 - m \\leq n \\leq m\\\\1 \\leq m \\leq K}} \\left(2 m \\omega_{1} + 2 n \\omega_{2} + z\\right)^{- s} e^{2 i \\pi \\left(m x + n y\\right)} + z^{- s}$"
      ],
      "text/plain": [
       "Eq(Sum(exp(2*I*pi*(m*x + n*y))/(2*m*omega1 + 2*n*omega2 + z)**s, (n, -K, K), (m, -K, K)), Sum(exp(2*I*pi*(-m*x + n*y))/(-2*m*omega1 + 2*n*omega2 + z)**s, (n, -m, m - 1), (m, 1, K)) + Sum(exp(2*I*pi*(m*x - n*y))/(2*m*omega1 - 2*n*omega2 + z)**s, (m, 1 - n, n), (n, 1, K)) + Sum(exp(2*I*pi*(m*x + n*y))/(2*m*omega1 + 2*n*omega2 + z)**s, (m, -n, n - 1), (n, 1, K)) + Sum(exp(2*I*pi*(m*x + n*y))/(2*m*omega1 + 2*n*omega2 + z)**s, (n, 1 - m, m), (m, 1, K)) + z**(-s))"
      ]
     },
     "execution_count": 18,
     "metadata": {},
     "output_type": "execute_result"
    }
   ],
   "source": [
    "Eq(Sum(exp(2*I*pi*(m*x + n*y))/(2*m*omega1 + 2*n*omega2 + z)**s,(n,-K,K),(m,-K,K)),\n",
    "   1/z**s + \n",
    "   Sum(exp(2*I*pi*(m*x + n*y))/(2*m*omega1 + 2*n*omega2 + z)**s,(m,-n,n-1),(n,1,K)) +\n",
    "   Sum(exp(2*I*pi*(m*x + n*y))/(2*m*omega1 + 2*n*omega2 + z)**s,(n,-m+1,m),(m,1,K)) +\n",
    "   Sum(exp(2*I*pi*(m*x - n*y))/(2*m*omega1 - 2*n*omega2 + z)**s,(m,-n+1,n),(n,1,K)) +\n",
    "   Sum(exp(2*I*pi*(-m*x + n*y))/(-2*m*omega1 + 2*n*omega2 + z)**s,(n,-m,m-1),(m,1,K))\n",
    "  )"
   ]
  },
  {
   "cell_type": "code",
   "execution_count": 19,
   "id": "1fb0c646",
   "metadata": {},
   "outputs": [
    {
     "data": {
      "text/latex": [
       "$\\displaystyle \\operatorname{re}{\\left(\\omega_{1}\\right)} > 0$"
      ],
      "text/plain": [
       "re(omega1) > 0"
      ]
     },
     "execution_count": 19,
     "metadata": {},
     "output_type": "execute_result"
    },
    {
     "data": {
      "text/latex": [
       "$\\displaystyle \\operatorname{re}{\\left(\\omega_{2}\\right)} \\geq 0$"
      ],
      "text/plain": [
       "re(omega2) >= 0"
      ]
     },
     "execution_count": 19,
     "metadata": {},
     "output_type": "execute_result"
    },
    {
     "data": {
      "text/latex": [
       "$\\displaystyle \\operatorname{re}{\\left(\\omega_{1}\\right)} > \\operatorname{re}{\\left(\\omega_{2}\\right)}$"
      ],
      "text/plain": [
       "re(omega1) > re(omega2)"
      ]
     },
     "execution_count": 19,
     "metadata": {},
     "output_type": "execute_result"
    },
    {
     "data": {
      "text/latex": [
       "$\\displaystyle \\operatorname{im}{\\left(x\\right)} = 0$"
      ],
      "text/plain": [
       "Eq(im(x), 0)"
      ]
     },
     "execution_count": 19,
     "metadata": {},
     "output_type": "execute_result"
    },
    {
     "data": {
      "text/latex": [
       "$\\displaystyle \\operatorname{im}{\\left(y\\right)} = 0$"
      ],
      "text/plain": [
       "Eq(im(y), 0)"
      ]
     },
     "execution_count": 19,
     "metadata": {},
     "output_type": "execute_result"
    },
    {
     "data": {
      "text/latex": [
       "$\\displaystyle x > 0$"
      ],
      "text/plain": [
       "x > 0"
      ]
     },
     "execution_count": 19,
     "metadata": {},
     "output_type": "execute_result"
    },
    {
     "data": {
      "text/latex": [
       "$\\displaystyle x \\leq 1$"
      ],
      "text/plain": [
       "x <= 1"
      ]
     },
     "execution_count": 19,
     "metadata": {},
     "output_type": "execute_result"
    },
    {
     "data": {
      "text/latex": [
       "$\\displaystyle y > 0$"
      ],
      "text/plain": [
       "y > 0"
      ]
     },
     "execution_count": 19,
     "metadata": {},
     "output_type": "execute_result"
    },
    {
     "data": {
      "text/latex": [
       "$\\displaystyle y \\leq 1$"
      ],
      "text/plain": [
       "y <= 1"
      ]
     },
     "execution_count": 19,
     "metadata": {},
     "output_type": "execute_result"
    },
    {
     "data": {
      "text/latex": [
       "$\\displaystyle \\operatorname{re}{\\left(z\\right)} > - 2 \\operatorname{re}{\\left(\\omega_{1}\\right)}$"
      ],
      "text/plain": [
       "re(z) > -2*re(omega1)"
      ]
     },
     "execution_count": 19,
     "metadata": {},
     "output_type": "execute_result"
    }
   ],
   "source": [
    "re(omega1) > 0\n",
    "re(omega2) >= 0\n",
    "re(omega1) > re(omega2)\n",
    "Eq(im(x),0)\n",
    "Eq(im(y),0)\n",
    "x>0\n",
    "x<=1\n",
    "y>0\n",
    "y<=1\n",
    "re(z) > -2*re(omega1)"
   ]
  },
  {
   "cell_type": "code",
   "execution_count": 20,
   "id": "a89c74a4",
   "metadata": {},
   "outputs": [
    {
     "ename": "SyntaxError",
     "evalue": "unmatched ')' (1153805780.py, line 1)",
     "output_type": "error",
     "traceback": [
      "\u001b[0;36m  Cell \u001b[0;32mIn[20], line 1\u001b[0;36m\u001b[0m\n\u001b[0;31m    [sum([f(m,n) for m in range(-n, n)]) for n in range(1,_K+1)])\u001b[0m\n\u001b[0m                                                                ^\u001b[0m\n\u001b[0;31mSyntaxError\u001b[0m\u001b[0;31m:\u001b[0m unmatched ')'\n"
     ]
    }
   ],
   "source": [
    "[sum([f(m,n) for m in range(-n, n)]) for n in range(1,_K+1)])"
   ]
  },
  {
   "cell_type": "code",
   "execution_count": null,
   "id": "981d9e73",
   "metadata": {},
   "outputs": [],
   "source": [
    "_w1 = 2.3\n",
    "_w2 = 1.4\n",
    "_K = 3\n",
    "for n in range(1,_K+1):\n",
    "    for m in range(-n+1, n):\n",
    "        _val = 2*_w1*m + 2*_w2*n\n",
    "        print(_val)\n",
    "        if _val < 0:\n",
    "            print(m,n)"
   ]
  },
  {
   "cell_type": "code",
   "execution_count": null,
   "id": "90c1420a",
   "metadata": {},
   "outputs": [],
   "source": [
    "[m for m in range(-3+1, 3+1)]"
   ]
  },
  {
   "cell_type": "code",
   "execution_count": null,
   "id": "c727148d",
   "metadata": {},
   "outputs": [],
   "source": [
    "2*_w1*(-2) + 2*_w2*(3)"
   ]
  },
  {
   "cell_type": "code",
   "execution_count": null,
   "id": "2739b279",
   "metadata": {},
   "outputs": [],
   "source": [
    "(2*omega1*(-n+1) + 2*omega2*n).expand()"
   ]
  },
  {
   "cell_type": "code",
   "execution_count": null,
   "id": "3c09f8f3",
   "metadata": {},
   "outputs": [],
   "source": [
    "n"
   ]
  },
  {
   "cell_type": "code",
   "execution_count": null,
   "id": "f17a240f",
   "metadata": {},
   "outputs": [],
   "source": []
  },
  {
   "cell_type": "code",
   "execution_count": null,
   "id": "c42c723a",
   "metadata": {},
   "outputs": [],
   "source": []
  },
  {
   "cell_type": "code",
   "execution_count": null,
   "id": "a5130993",
   "metadata": {},
   "outputs": [],
   "source": []
  }
 ],
 "metadata": {
  "kernelspec": {
   "display_name": "Python 3 (ipykernel)",
   "language": "python",
   "name": "python3"
  },
  "language_info": {
   "codemirror_mode": {
    "name": "ipython",
    "version": 3
   },
   "file_extension": ".py",
   "mimetype": "text/x-python",
   "name": "python",
   "nbconvert_exporter": "python",
   "pygments_lexer": "ipython3",
   "version": "3.11.10"
  }
 },
 "nbformat": 4,
 "nbformat_minor": 5
}
