{
 "cells": [
  {
   "cell_type": "markdown",
   "metadata": {},
   "source": [
    "# Deriving the Coupled Ordinary Differential Equations of the Weierstrass Sigma Ratios from the Frobenius Stickelberger Determinant Formula\n",
    "\n",
    "This notebook aims to develop a set of nonlinear coupled ordinary differential equations which have ratios of Weierstrass Sigma functions as their general solutions. The functions in the differential equations are often refered to as modes in accordance with terminology borrowed from nonlinear optics. The degree of nonlinearity is thought of as the highest number of products of mode functions appearing in any term in the differential equations. The author has previously explored special cases of the quadratic and cubic nonlinearity cases and is interested in the general case of those and generalisations to higher order nonlinearities if they exist.\n",
    "\n",
    "In parts of this notebook I attempt to express the Weierstrass P prime function (derivative of Weierstrass P) in terms of multiples of Kronecker theta functions and to then try to build coupled differential equations using that identity. In other parts, I build a Hamiltonian and would then use Hamiltons equations to build the coupled dynamic system."
   ]
  },
  {
   "cell_type": "code",
   "execution_count": 1,
   "metadata": {},
   "outputs": [],
   "source": [
    "from sympy import *\n",
    "(x, y, X, Y, Z, B, C, n, m, l, j, q, N, M, K, k, epsilon, z, s, p1, p2, p3, g2, g3,\n",
    " z0, w1, w2, w3, e1, e2, e3, Delta, \n",
    " omega1, omega2, omega3, eta1, eta2, eta3, d1, d2, d3) = symbols(\n",
    "    '''x, y, X, Y, Z, B, C, n, m, l, j, q, N, M, K, k, epsilon, z, s, p1, p2, p3, g2, g3,\n",
    "    z0, w1, w2, w3, e1, e2, e3, Delta, \n",
    "    omega1, omega2, omega3, eta1, eta2, eta3, d1, d2, d3'''\n",
    ")\n",
    "alpha, delta, t, nu, epsilon, theta = symbols('alpha, delta, t, nu, epsilon, theta')\n",
    "pw = Function('pw') # Weierstrass P function\n",
    "pwp = Function('pwp') # Derivative of Weierstrass P function\n",
    "zw = Function('zw') # Weierstrass Zeta function\n",
    "sigma = Function('sigma') # Weierstrass Sigma function\n",
    "rho = Function('rho')\n",
    "f = Function('f')\n",
    "h = Function('h')\n",
    "s = Function('s')\n",
    "P = Function('P') # Polynomial\n",
    "Q = Function('Q') # Polynomial\n",
    "phi = Function('phi')\n",
    "Phi = Function('Phi')\n",
    "phi1 = Function('phi1')\n",
    "phi2 = Function('phi2')\n",
    "phi3 = Function('phi3')\n",
    "A = Function('A')\n",
    "Ac = Function('Ac')\n",
    "A1 = Function('A1')\n",
    "A2 = Function('A2')\n",
    "A3 = Function('A3')\n",
    "Ac1 = Function('Ac1')\n",
    "Ac2 = Function('Ac2')\n",
    "Ac3 = Function('Ac3')\n",
    "A4 = Function('A4')\n",
    "A5 = Function('A5')\n",
    "A6 = Function('A6')\n",
    "A7 = Function('A7')\n",
    "A8 = Function('A8')\n",
    "W1 = Function('W1')\n",
    "W2 = Function('W2')\n",
    "W3 = Function('W3')\n",
    "W4 = Function('W4')\n",
    "W5 = Function('W5')\n",
    "W6 = Function('W6')\n",
    "u = Function('u')\n",
    "v = Function('v')\n",
    "Det = Function(\"Det\")\n",
    "\n",
    "kappa = IndexedBase('kappa')\n",
    "beta = IndexedBase('beta')\n",
    "mu = IndexedBase('mu')\n",
    "xi = IndexedBase('xi')\n",
    "a = IndexedBase('a')\n",
    "b = IndexedBase('b')\n",
    "c = IndexedBase('c')\n",
    "d = IndexedBase('d')\n",
    "p = IndexedBase('p')\n",
    "G = IndexedBase('G')\n",
    "psi = IndexedBase('psi')\n",
    "upsilon = IndexedBase('upsilon')\n",
    "WPdet = Function('WPdet')\n",
    "\n",
    "from IPython.core.interactiveshell import InteractiveShell\n",
    "InteractiveShell.ast_node_interactivity = 'all'"
   ]
  },
  {
   "cell_type": "code",
   "execution_count": 2,
   "metadata": {},
   "outputs": [],
   "source": [
    "def arrange_for(eq, x): \n",
    "    return Eq(x, solve(eq,x)[0].expand())"
   ]
  },
  {
   "cell_type": "markdown",
   "metadata": {},
   "source": [
    "## Useful Weierstrass Elliptic Function Theory\n",
    "\n",
    "This section defines some useful well known elliptic function theory which will be used in subsequent sections."
   ]
  },
  {
   "cell_type": "markdown",
   "metadata": {},
   "source": [
    "### Some known relations between Weierstrass functions (Whittaker and Watson)"
   ]
  },
  {
   "cell_type": "code",
   "execution_count": 3,
   "metadata": {
    "scrolled": true
   },
   "outputs": [
    {
     "data": {
      "text/latex": [
       "$\\displaystyle - \\operatorname{pw}{\\left(x,g_{2},g_{3} \\right)} + \\operatorname{pw}{\\left(y,g_{2},g_{3} \\right)} = \\frac{\\sigma{\\left(x - y,g_{2},g_{3} \\right)} \\sigma{\\left(x + y,g_{2},g_{3} \\right)}}{\\sigma^{2}{\\left(x,g_{2},g_{3} \\right)} \\sigma^{2}{\\left(y,g_{2},g_{3} \\right)}}$"
      ],
      "text/plain": [
       "Eq(-pw(x, g2, g3) + pw(y, g2, g3), sigma(x - y, g2, g3)*sigma(x + y, g2, g3)/(sigma(x, g2, g3)**2*sigma(y, g2, g3)**2))"
      ]
     },
     "execution_count": 3,
     "metadata": {},
     "output_type": "execute_result"
    }
   ],
   "source": [
    "sigma_p_identity = Eq(\n",
    "    pw(y, g2, g3) - pw(x, g2, g3),\n",
    "    sigma(x + y, g2, g3) * sigma(x - y, g2, g3) / (sigma(x, g2, g3) ** 2 * sigma(y, g2, g3) ** 2) \n",
    ")\n",
    "sigma_p_identity"
   ]
  },
  {
   "cell_type": "code",
   "execution_count": 4,
   "metadata": {},
   "outputs": [
    {
     "data": {
      "text/latex": [
       "$\\displaystyle \\operatorname{pw}{\\left(x,g_{2},g_{3} \\right)} \\operatorname{pwp}{\\left(y,g_{2},g_{3} \\right)} - \\operatorname{pw}{\\left(x,g_{2},g_{3} \\right)} \\operatorname{pwp}{\\left(z,g_{2},g_{3} \\right)} - \\operatorname{pw}{\\left(y,g_{2},g_{3} \\right)} \\operatorname{pwp}{\\left(x,g_{2},g_{3} \\right)} + \\operatorname{pw}{\\left(y,g_{2},g_{3} \\right)} \\operatorname{pwp}{\\left(z,g_{2},g_{3} \\right)} + \\operatorname{pw}{\\left(z,g_{2},g_{3} \\right)} \\operatorname{pwp}{\\left(x,g_{2},g_{3} \\right)} - \\operatorname{pw}{\\left(z,g_{2},g_{3} \\right)} \\operatorname{pwp}{\\left(y,g_{2},g_{3} \\right)} = - \\frac{2 \\sigma{\\left(x - y,g_{2},g_{3} \\right)} \\sigma{\\left(x - z,g_{2},g_{3} \\right)} \\sigma{\\left(y - z,g_{2},g_{3} \\right)} \\sigma{\\left(x + y + z,g_{2},g_{3} \\right)}}{\\sigma^{3}{\\left(x,g_{2},g_{3} \\right)} \\sigma^{3}{\\left(y,g_{2},g_{3} \\right)} \\sigma^{3}{\\left(z,g_{2},g_{3} \\right)}}$"
      ],
      "text/plain": [
       "Eq(pw(x, g2, g3)*pwp(y, g2, g3) - pw(x, g2, g3)*pwp(z, g2, g3) - pw(y, g2, g3)*pwp(x, g2, g3) + pw(y, g2, g3)*pwp(z, g2, g3) + pw(z, g2, g3)*pwp(x, g2, g3) - pw(z, g2, g3)*pwp(y, g2, g3), -2*sigma(x - y, g2, g3)*sigma(x - z, g2, g3)*sigma(y - z, g2, g3)*sigma(x + y + z, g2, g3)/(sigma(x, g2, g3)**3*sigma(y, g2, g3)**3*sigma(z, g2, g3)**3))"
      ]
     },
     "execution_count": 4,
     "metadata": {},
     "output_type": "execute_result"
    }
   ],
   "source": [
    "sigma_3_vars_det_id = Eq(\n",
    "   Matrix([[1, pw(x,g2,g3), pwp(x,g2,g3)],[1, pw(y,g2,g3), pwp(y,g2,g3)],[1, pw(z,g2,g3), pwp(z,g2,g3)]]).det(),\n",
    "    -2*sigma(x+y+z,g2,g3)*sigma(x-y,g2,g3)*sigma(y-z,g2,g3)*sigma(x-z,g2,g3)/\n",
    "    (sigma(x,g2,g3)**3*sigma(y,g2,g3)**3*sigma(z,g2,g3)**3)\n",
    ")\n",
    "sigma_3_vars_det_id"
   ]
  },
  {
   "cell_type": "code",
   "execution_count": 5,
   "metadata": {},
   "outputs": [
    {
     "data": {
      "text/latex": [
       "$\\displaystyle \\frac{\\operatorname{pwp}{\\left(x,g_{2},g_{3} \\right)} - \\operatorname{pwp}{\\left(y,g_{2},g_{3} \\right)}}{2 \\left(\\operatorname{pw}{\\left(x,g_{2},g_{3} \\right)} - \\operatorname{pw}{\\left(y,g_{2},g_{3} \\right)}\\right)} = - \\operatorname{zw}{\\left(x,g_{2},g_{3} \\right)} - \\operatorname{zw}{\\left(y,g_{2},g_{3} \\right)} + \\operatorname{zw}{\\left(x + y,g_{2},g_{3} \\right)}$"
      ],
      "text/plain": [
       "Eq((pwp(x, g2, g3) - pwp(y, g2, g3))/(2*(pw(x, g2, g3) - pw(y, g2, g3))), -zw(x, g2, g3) - zw(y, g2, g3) + zw(x + y, g2, g3))"
      ]
     },
     "execution_count": 5,
     "metadata": {},
     "output_type": "execute_result"
    }
   ],
   "source": [
    "pw_to_zw_identity = Eq(\n",
    "    (pwp(x,g2,g3) - pwp(y,g2,g3))/(pw(x,g2,g3) - pw(y,g2,g3))/2,\n",
    "    zw(x + y,g2, g3) - zw(x,g2, g3) - zw(y,g2, g3)\n",
    ")\n",
    "pw_to_zw_identity"
   ]
  },
  {
   "cell_type": "code",
   "execution_count": 6,
   "metadata": {
    "scrolled": true
   },
   "outputs": [
    {
     "data": {
      "text/latex": [
       "$\\displaystyle \\int \\operatorname{zw}{\\left(z,g_{2},g_{3} \\right)}\\, dz = \\log{\\left(\\sigma{\\left(z,g_{2},g_{3} \\right)} \\right)}$"
      ],
      "text/plain": [
       "Eq(Integral(zw(z, g2, g3), z), log(sigma(z, g2, g3)))"
      ]
     },
     "execution_count": 6,
     "metadata": {},
     "output_type": "execute_result"
    }
   ],
   "source": [
    "integral_zeta_log_sigma = Eq(Integral(zw(z,g2,g3),z),log(sigma(z,g2,g3)))\n",
    "integral_zeta_log_sigma"
   ]
  },
  {
   "cell_type": "code",
   "execution_count": 7,
   "metadata": {},
   "outputs": [
    {
     "data": {
      "text/latex": [
       "$\\displaystyle \\operatorname{zw}{\\left(z,g_{2},g_{3} \\right)} = \\frac{\\frac{\\partial}{\\partial z} \\sigma{\\left(z,g_{2},g_{3} \\right)}}{\\sigma{\\left(z,g_{2},g_{3} \\right)}}$"
      ],
      "text/plain": [
       "Eq(zw(z, g2, g3), Derivative(sigma(z, g2, g3), z)/sigma(z, g2, g3))"
      ]
     },
     "execution_count": 7,
     "metadata": {},
     "output_type": "execute_result"
    }
   ],
   "source": [
    "zeta_eq = Eq(diff(integral_zeta_log_sigma.lhs,z), diff(integral_zeta_log_sigma.rhs,z))\n",
    "zeta_eq"
   ]
  },
  {
   "cell_type": "code",
   "execution_count": 8,
   "metadata": {},
   "outputs": [
    {
     "data": {
      "text/latex": [
       "$\\displaystyle \\frac{\\partial}{\\partial z} \\operatorname{zw}{\\left(z,g_{2},g_{3} \\right)} = - \\operatorname{pw}{\\left(z,g_{2},g_{3} \\right)}$"
      ],
      "text/plain": [
       "Eq(Derivative(zw(z, g2, g3), z), -pw(z, g2, g3))"
      ]
     },
     "execution_count": 8,
     "metadata": {},
     "output_type": "execute_result"
    }
   ],
   "source": [
    "diff_zeta_eq = Eq(diff(zw(z,g2,g3),z), -pw(z,g2,g3))\n",
    "diff_zeta_eq"
   ]
  },
  {
   "cell_type": "code",
   "execution_count": 9,
   "metadata": {},
   "outputs": [
    {
     "data": {
      "text/latex": [
       "$\\displaystyle \\frac{\\partial}{\\partial z} \\operatorname{pw}{\\left(z,g_{2},g_{3} \\right)} = \\operatorname{pwp}{\\left(z,g_{2},g_{3} \\right)}$"
      ],
      "text/plain": [
       "Eq(Derivative(pw(z, g2, g3), z), pwp(z, g2, g3))"
      ]
     },
     "execution_count": 9,
     "metadata": {},
     "output_type": "execute_result"
    }
   ],
   "source": [
    "diff_pw_eq = Eq(diff(pw(z,g2,g3),z), pwp(z,g2,g3))\n",
    "diff_pw_eq"
   ]
  },
  {
   "cell_type": "code",
   "execution_count": 10,
   "metadata": {},
   "outputs": [
    {
     "data": {
      "text/latex": [
       "$\\displaystyle \\operatorname{pwp}{\\left(z,g_{2},g_{3} \\right)} = - \\frac{\\sigma{\\left(2 z,g_{2},g_{3} \\right)}}{\\sigma^{4}{\\left(z,g_{2},g_{3} \\right)}}$"
      ],
      "text/plain": [
       "Eq(pwp(z, g2, g3), -sigma(2*z, g2, g3)/sigma(z, g2, g3)**4)"
      ]
     },
     "execution_count": 10,
     "metadata": {},
     "output_type": "execute_result"
    }
   ],
   "source": [
    "pwp_sigma_id = Eq(pwp(z,g2,g3),-sigma(2*z,g2,g3)/sigma(z,g2,g3)**4)\n",
    "pwp_sigma_id"
   ]
  },
  {
   "cell_type": "markdown",
   "metadata": {},
   "source": [
    "### Quasi Periodicity"
   ]
  },
  {
   "cell_type": "code",
   "execution_count": 11,
   "metadata": {},
   "outputs": [
    {
     "data": {
      "text/latex": [
       "$\\displaystyle \\sigma{\\left(2 n \\omega_{1} + z,g_{2},g_{3} \\right)} = \\left(-1\\right)^{n} \\sigma{\\left(z,g_{2},g_{3} \\right)} e^{2 \\eta_{1} n \\left(n \\omega_{1} + z\\right)}$"
      ],
      "text/plain": [
       "Eq(sigma(2*n*omega1 + z, g2, g3), (-1)**n*sigma(z, g2, g3)*exp(2*eta1*n*(n*omega1 + z)))"
      ]
     },
     "execution_count": 11,
     "metadata": {},
     "output_type": "execute_result"
    }
   ],
   "source": [
    "sigma_period_eq_1n = Eq(sigma(z + 2 * n * omega1, g2, g3), \n",
    "                       (-1) **n * sigma(z, g2, g3) * exp(2 * n * eta1 * (n * omega1 + z)))\n",
    "sigma_period_eq_1n"
   ]
  },
  {
   "cell_type": "code",
   "execution_count": 12,
   "metadata": {},
   "outputs": [
    {
     "data": {
      "text/latex": [
       "$\\displaystyle \\sigma{\\left(2 n \\omega_{3} + z,g_{2},g_{3} \\right)} = \\left(-1\\right)^{n} \\sigma{\\left(z,g_{2},g_{3} \\right)} e^{2 \\eta_{3} n \\left(n \\omega_{3} + z\\right)}$"
      ],
      "text/plain": [
       "Eq(sigma(2*n*omega3 + z, g2, g3), (-1)**n*sigma(z, g2, g3)*exp(2*eta3*n*(n*omega3 + z)))"
      ]
     },
     "execution_count": 12,
     "metadata": {},
     "output_type": "execute_result"
    }
   ],
   "source": [
    "sigma_period_eq_3n = Eq(sigma(z + 2 * n * omega3, g2, g3), \n",
    "                        (-1) **n * sigma(z, g2, g3) * exp(2 * n * eta3 * (n * omega3 + z)))\n",
    "sigma_period_eq_3n"
   ]
  },
  {
   "cell_type": "code",
   "execution_count": 13,
   "metadata": {},
   "outputs": [
    {
     "data": {
      "text/latex": [
       "$\\displaystyle \\eta_{1} \\omega_{3} - \\eta_{3} \\omega_{1} = \\frac{i \\pi}{2}$"
      ],
      "text/plain": [
       "Eq(eta1*omega3 - eta3*omega1, I*pi/2)"
      ]
     },
     "execution_count": 13,
     "metadata": {},
     "output_type": "execute_result"
    }
   ],
   "source": [
    "eta_omega_ww = Eq(eta1*omega3-eta3*omega1,I*pi/2)\n",
    "eta_omega_ww"
   ]
  },
  {
   "cell_type": "code",
   "execution_count": 14,
   "metadata": {},
   "outputs": [
    {
     "data": {
      "text/latex": [
       "$\\displaystyle e^{4 m n \\left(\\eta_{1} \\omega_{3} - \\eta_{3} \\omega_{1}\\right)} = 1$"
      ],
      "text/plain": [
       "Eq(exp(4*m*n*(eta1*omega3 - eta3*omega1)), 1)"
      ]
     },
     "execution_count": 14,
     "metadata": {},
     "output_type": "execute_result"
    }
   ],
   "source": [
    "eta1_eta3_omega_id = Eq(exp(4*n*m*eta_omega_ww.lhs), exp(4*n*m*eta_omega_ww.rhs)).subs(exp(2*I*pi*n*m), 1)\n",
    "eta1_eta3_omega_id"
   ]
  },
  {
   "cell_type": "code",
   "execution_count": 15,
   "metadata": {},
   "outputs": [
    {
     "data": {
      "text/latex": [
       "$\\displaystyle \\left(-1\\right)^{m n} e^{2 m n \\left(\\eta_{1} \\omega_{3} - \\eta_{3} \\omega_{1}\\right)} = 1$"
      ],
      "text/plain": [
       "Eq((-1)**(m*n)*exp(2*m*n*(eta1*omega3 - eta3*omega1)), 1)"
      ]
     },
     "execution_count": 15,
     "metadata": {},
     "output_type": "execute_result"
    }
   ],
   "source": [
    "symmetry_nm_eta_omega = Eq(exp(2*m*n*(eta1*omega3-eta3*omega1))*(\n",
    "    exp(2*m*n*(eta1*omega3-eta3*omega1)).subs(eta_omega_ww.lhs, eta_omega_ww.rhs).subs(exp(I*pi*n*m), (-1)**(n*m))),\n",
    "   (exp(2*m*n*(eta1*omega3-eta3*omega1))*exp(2*m*n*(eta1*omega3-eta3*omega1))\n",
    "   ).simplify().subs(eta1_eta3_omega_id.lhs, eta1_eta3_omega_id.rhs)\n",
    "  )\n",
    "symmetry_nm_eta_omega"
   ]
  },
  {
   "cell_type": "code",
   "execution_count": 16,
   "metadata": {},
   "outputs": [
    {
     "data": {
      "text/latex": [
       "$\\displaystyle \\sigma{\\left(2 m \\omega_{3} + 2 n \\omega_{1} + z,g_{2},g_{3} \\right)} = \\left(-1\\right)^{m n + m + n} \\sigma{\\left(z,g_{2},g_{3} \\right)} e^{2 \\eta_{1} m n \\omega_{3} + 2 \\eta_{1} n^{2} \\omega_{1} + 2 \\eta_{1} n z + 2 \\eta_{3} m^{2} \\omega_{3} + 2 \\eta_{3} m n \\omega_{1} + 2 \\eta_{3} m z}$"
      ],
      "text/plain": [
       "Eq(sigma(2*m*omega3 + 2*n*omega1 + z, g2, g3), (-1)**(m*n + m + n)*sigma(z, g2, g3)*exp(2*eta1*m*n*omega3 + 2*eta1*n**2*omega1 + 2*eta1*n*z + 2*eta3*m**2*omega3 + 2*eta3*m*n*omega1 + 2*eta3*m*z))"
      ]
     },
     "execution_count": 16,
     "metadata": {},
     "output_type": "execute_result"
    }
   ],
   "source": [
    "sigma_period_eq_n1_m3_b = (\n",
    "    sigma_period_eq_3n\n",
    "    .subs(n,m)\n",
    "    .subs(z,z+2*n*omega1)\n",
    "    .subs(sigma_period_eq_1n.lhs, sigma_period_eq_1n.rhs)\n",
    "    .simplify()\n",
    ")\n",
    "sigma_period_eq_sym_nm = Eq(sigma_period_eq_n1_m3_b.lhs, \n",
    "                            sigma_period_eq_n1_m3_b.rhs*symmetry_nm_eta_omega.lhs).expand().simplify()\n",
    "sigma_period_eq_sym_nm"
   ]
  },
  {
   "cell_type": "code",
   "execution_count": 17,
   "metadata": {},
   "outputs": [
    {
     "data": {
      "text/plain": [
       "(sigma(2*m*omega3 + 2*n*omega1 + z, g2, g3),\n",
       " (-1)**(m*n + m + n)*sigma(z, g2, g3)*exp(2*eta1*m*n*omega3 + 2*eta1*n**2*omega1 + 2*eta1*n*z + 2*eta3*m**2*omega3 + 2*eta3*m*n*omega1 + 2*eta3*m*z))"
      ]
     },
     "execution_count": 17,
     "metadata": {},
     "output_type": "execute_result"
    }
   ],
   "source": [
    "sigma_period_eq_sym_nm.args"
   ]
  },
  {
   "cell_type": "markdown",
   "metadata": {},
   "source": [
    "### Taylor Series"
   ]
  },
  {
   "cell_type": "code",
   "execution_count": 18,
   "metadata": {},
   "outputs": [
    {
     "data": {
      "text/latex": [
       "$\\displaystyle f{\\left(x \\right)} = \\sum_{n=0}^{\\infty} \\frac{\\left(x - a\\right)^{n} \\left. \\frac{d^{n}}{d x^{n}} f{\\left(x \\right)} \\right|_{\\substack{ x=a }}}{n!}$"
      ],
      "text/plain": [
       "Eq(f(x), Sum((x - a)**n*Subs(Derivative(f(x), (x, n)), x, a)/factorial(n), (n, 0, oo)))"
      ]
     },
     "execution_count": 18,
     "metadata": {},
     "output_type": "execute_result"
    },
    {
     "data": {
      "text/latex": [
       "$\\displaystyle f{\\left(x + a \\right)} = \\sum_{n=0}^{\\infty} \\frac{x^{n} \\left. \\frac{d^{n}}{d x^{n}} f{\\left(x \\right)} \\right|_{\\substack{ x=a }}}{n!}$"
      ],
      "text/plain": [
       "Eq(f(x + a), Sum(x**n*Subs(Derivative(f(x), (x, n)), x, a)/factorial(n), (n, 0, oo)))"
      ]
     },
     "execution_count": 18,
     "metadata": {},
     "output_type": "execute_result"
    }
   ],
   "source": [
    "taylor_series = Eq(f(x), Sum(Derivative(f(x),(x,n)).subs(x,a)/factorial(n) * (x - a)**n, (n,0,oo)))\n",
    "taylor_series_b = taylor_series.subs(x,x+a)\n",
    "\n",
    "taylor_series\n",
    "taylor_series_b"
   ]
  },
  {
   "cell_type": "code",
   "execution_count": 19,
   "metadata": {},
   "outputs": [
    {
     "data": {
      "text/latex": [
       "$\\displaystyle \\left. \\frac{d^{n}}{d y^{n}} f{\\left(y \\right)} \\right|_{\\substack{ y=x + a }} = \\frac{\\partial^{n}}{\\partial x^{n}} f{\\left(x + a \\right)}$"
      ],
      "text/plain": [
       "Eq(Subs(Derivative(f(y), (y, n)), y, x + a), Derivative(f(x + a), (x, n)))"
      ]
     },
     "execution_count": 19,
     "metadata": {},
     "output_type": "execute_result"
    },
    {
     "data": {
      "text/latex": [
       "$\\displaystyle \\text{True}$"
      ],
      "text/plain": [
       "True"
      ]
     },
     "execution_count": 19,
     "metadata": {},
     "output_type": "execute_result"
    }
   ],
   "source": [
    "diff_at_a = Eq(diff(f(y),(y,n)).subs(y,x+a), Derivative(f(x+a),(x,n)))\n",
    "\n",
    "diff_at_a\n",
    "\n",
    "Eq(Derivative(f(x+a),(x,n)), diff(f(y),(y,n)).subs(y,x+a)).subs(n,18).doit()"
   ]
  },
  {
   "cell_type": "markdown",
   "metadata": {},
   "source": [
    "### Series Expansions"
   ]
  },
  {
   "cell_type": "code",
   "execution_count": 20,
   "metadata": {},
   "outputs": [
    {
     "data": {
      "text/latex": [
       "$\\displaystyle \\operatorname{pw}{\\left(z,g_{2},g_{3} \\right)} = \\sum_{n=1}^{\\infty} z^{2 n} \\left(2 n + 1\\right) {G}_{2 n + 2} + \\frac{1}{z^{2}}$"
      ],
      "text/plain": [
       "Eq(pw(z, g2, g3), Sum(z**(2*n)*(2*n + 1)*G[2*n + 2], (n, 1, oo)) + z**(-2))"
      ]
     },
     "execution_count": 20,
     "metadata": {},
     "output_type": "execute_result"
    }
   ],
   "source": [
    "expansion_z_wp = Eq(pw(z,g2,g3), 1/z**2 + Sum((2*n+1)*G[2*n+2]*z**(2*n),(n,1,oo)))\n",
    "expansion_z_wp"
   ]
  },
  {
   "cell_type": "code",
   "execution_count": 21,
   "metadata": {},
   "outputs": [],
   "source": [
    "expansion_z_wp_N = Eq(pw(z,g2,g3), 1/z**2 + Sum((2*n+1)*G[2*n+2]*z**(2*n),(n,1,N)))"
   ]
  },
  {
   "cell_type": "code",
   "execution_count": 22,
   "metadata": {},
   "outputs": [
    {
     "data": {
      "text/latex": [
       "$\\displaystyle \\frac{\\partial}{\\partial z} \\operatorname{pw}{\\left(z,g_{2},g_{3} \\right)} = \\sum_{n=1}^{\\infty} 2 n z^{2 n - 1} \\cdot \\left(2 n + 1\\right) {G}_{2 n + 2} - \\frac{2}{z^{3}}$"
      ],
      "text/plain": [
       "Eq(Derivative(pw(z, g2, g3), z), Sum(2*n*z**(2*n - 1)*(2*n + 1)*G[2*n + 2], (n, 1, oo)) - 2/z**3)"
      ]
     },
     "execution_count": 22,
     "metadata": {},
     "output_type": "execute_result"
    }
   ],
   "source": [
    "Eq(diff(pw(z,g2,g3),z), diff(1/z**2,z) + Sum((2*n+1)*G[2*n+2]*diff(z**(2*n),z).simplify(),(n,1,oo)))"
   ]
  },
  {
   "cell_type": "code",
   "execution_count": 23,
   "metadata": {},
   "outputs": [
    {
     "data": {
      "text/latex": [
       "$\\displaystyle \\frac{\\partial^{j}}{\\partial z^{j}} \\operatorname{pw}{\\left(z,g_{2},g_{3} \\right)} = \\left(-1\\right)^{j} z^{- j - 2} \\left(j + 1\\right)! + \\sum_{n=1}^{\\infty} z^{- j + 2 n} \\left(2 n + 1\\right) {G}_{2 n + 2} \\prod_{k=0}^{j - 1} \\left(- k + 2 n\\right)$"
      ],
      "text/plain": [
       "Eq(Derivative(pw(z, g2, g3), (z, j)), (-1)**j*z**(-j - 2)*factorial(j + 1) + Sum(z**(-j + 2*n)*(2*n + 1)*G[2*n + 2]*Product(-k + 2*n, (k, 0, j - 1)), (n, 1, oo)))"
      ]
     },
     "execution_count": 23,
     "metadata": {},
     "output_type": "execute_result"
    }
   ],
   "source": [
    "expansion_z_j_order_diff_wp = Eq(diff(pw(z,g2,g3),(z,j)), \n",
    "   (-1)**j*factorial(j+1)/z**(2+j) + Sum((2*n+1)*G[2*n+2]*Product(2*n-k,(k,0,j-1))*z**(2*n-j),(n,1,oo)))\n",
    "expansion_z_j_order_diff_wp"
   ]
  },
  {
   "cell_type": "code",
   "execution_count": 24,
   "metadata": {},
   "outputs": [
    {
     "data": {
      "text/latex": [
       "$\\displaystyle \\left(2 n + 1\\right) \\frac{\\partial^{j}}{\\partial z^{j}} z^{2 n} = \\begin{cases} z^{- j + 2 n} \\prod_{k=-1}^{j - 1} \\left(- k + 2 n\\right) & \\text{for}\\: j \\leq 2 n \\\\0 & \\text{otherwise} \\end{cases}$"
      ],
      "text/plain": [
       "Eq((2*n + 1)*Derivative(z**(2*n), (z, j)), Piecewise((z**(-j + 2*n)*Product(-k + 2*n, (k, -1, j - 1)), j <= 2*n), (0, True)))"
      ]
     },
     "execution_count": 24,
     "metadata": {},
     "output_type": "execute_result"
    }
   ],
   "source": [
    "Eq((2*n+1)*diff(z**(2*n),(z,j)),Piecewise((Product((2*n-k),(k,-1,j-1))*z**(2*n-j), j<=2*n),(0,j>2*n)))"
   ]
  },
  {
   "cell_type": "code",
   "execution_count": 25,
   "metadata": {},
   "outputs": [
    {
     "data": {
      "text/latex": [
       "$\\displaystyle \\left(2 n + 1\\right) \\frac{\\partial^{j}}{\\partial z^{j}} z^{2 n} = \\left(-1\\right)^{j + 1} z^{- j + 2 n} {\\left(- 2 n - 1\\right)}^{\\left(j + 1\\right)}$"
      ],
      "text/plain": [
       "Eq((2*n + 1)*Derivative(z**(2*n), (z, j)), (-1)**(j + 1)*z**(-j + 2*n)*RisingFactorial(-2*n - 1, j + 1))"
      ]
     },
     "execution_count": 25,
     "metadata": {},
     "output_type": "execute_result"
    }
   ],
   "source": [
    "Eq((2*n+1)*diff(z**(2*n),(z,j)),Product((2*n-k),(k,-1,j-1)).doit()*z**(2*n-j))"
   ]
  },
  {
   "cell_type": "code",
   "execution_count": 26,
   "metadata": {},
   "outputs": [
    {
     "data": {
      "text/latex": [
       "$\\displaystyle \\frac{\\partial^{j}}{\\partial z^{j}} \\operatorname{pw}{\\left(z,g_{2},g_{3} \\right)} = \\left(-1\\right)^{j} z^{- j - 2} \\left(j + 1\\right)! - \\left(-1\\right)^{j} \\sum_{n=1}^{\\infty} z^{- j + 2 n} {\\left(- 2 n - 1\\right)}^{\\left(j + 1\\right)} {G}_{2 n + 2}$"
      ],
      "text/plain": [
       "Eq(Derivative(pw(z, g2, g3), (z, j)), (-1)**j*z**(-j - 2)*factorial(j + 1) - (-1)**j*Sum(z**(-j + 2*n)*RisingFactorial(-2*n - 1, j + 1)*G[2*n + 2], (n, 1, oo)))"
      ]
     },
     "execution_count": 26,
     "metadata": {},
     "output_type": "execute_result"
    }
   ],
   "source": [
    "expansion_z_j_order_diff_wp = Eq(diff(pw(z,g2,g3),(z,j)), \n",
    "   (-1)**j*factorial(j+1)/z**(2+j) - (-1)**j*Sum(rf(-2*n-1,j+1)*G[2*n+2]*z**(2*n-j),(n,1,oo)))\n",
    "expansion_z_j_order_diff_wp"
   ]
  },
  {
   "cell_type": "code",
   "execution_count": 27,
   "metadata": {},
   "outputs": [
    {
     "data": {
      "text/latex": [
       "$\\displaystyle \\lim_{z \\to 0^+} \\frac{\\partial^{j}}{\\partial z^{j}} \\operatorname{pw}{\\left(z,g_{2},g_{3} \\right)} = \\left(-1\\right)^{j} z^{- j - 2} \\left(j + 1\\right)! - \\left(-1\\right)^{j} \\left(\\frac{\\left(-1\\right)^{j}}{2} + \\frac{1}{2}\\right) {\\left(- j - 1\\right)}^{\\left(j + 1\\right)} {G}_{j + 2}$"
      ],
      "text/plain": [
       "Eq(Limit(Derivative(pw(z, g2, g3), (z, j)), z, 0, dir='+'), (-1)**j*z**(-j - 2)*factorial(j + 1) - (-1)**j*((-1)**j/2 + 1/2)*RisingFactorial(-j - 1, j + 1)*G[j + 2])"
      ]
     },
     "execution_count": 27,
     "metadata": {},
     "output_type": "execute_result"
    }
   ],
   "source": [
    "expansion_z_j_order_diff_wp_lim_z_0 = Eq(Limit(diff(pw(z,g2,g3),(z,j)),z,0), \n",
    "   (-1)**j*factorial(j+1)/z**(2+j) - (1+(-1)**j)/2*(-1)**j*rf(-j-1,j+1)*G[j+2])\n",
    "expansion_z_j_order_diff_wp_lim_z_0"
   ]
  },
  {
   "cell_type": "code",
   "execution_count": 28,
   "metadata": {},
   "outputs": [
    {
     "data": {
      "text/plain": [
       "(Limit(Derivative(pw(z, g2, g3), (z, j)), z, 0, dir='+'),\n",
       " (-1)**j*z**(-j - 2)*factorial(j + 1) - (-1)**j*((-1)**j/2 + 1/2)*RisingFactorial(-j - 1, j + 1)*G[j + 2])"
      ]
     },
     "execution_count": 28,
     "metadata": {},
     "output_type": "execute_result"
    }
   ],
   "source": [
    "expansion_z_j_order_diff_wp_lim_z_0.args"
   ]
  },
  {
   "cell_type": "code",
   "execution_count": 29,
   "metadata": {},
   "outputs": [
    {
     "data": {
      "text/latex": [
       "$\\displaystyle \\left(-1\\right)^{j + 1} {\\left(- j - 1\\right)}^{\\left(j + 1\\right)} = \\prod_{k=-1}^{j - 1} \\left(j - k\\right)$"
      ],
      "text/plain": [
       "Eq((-1)**(j + 1)*RisingFactorial(-j - 1, j + 1), Product(j - k, (k, -1, j - 1)))"
      ]
     },
     "execution_count": 29,
     "metadata": {},
     "output_type": "execute_result"
    }
   ],
   "source": [
    "Eq(Product((j-k),(k,-1,j-1)).doit(), Product((j-k),(k,-1,j-1)))"
   ]
  },
  {
   "cell_type": "code",
   "execution_count": 30,
   "metadata": {},
   "outputs": [
    {
     "data": {
      "text/latex": [
       "$\\displaystyle \\frac{\\partial^{j}}{\\partial z^{j}} \\operatorname{pw}{\\left(z,g_{2},g_{3} \\right)} = \\left(-1\\right)^{j} z^{- j - 2} \\left(j + 1\\right)! + \\left(\\frac{\\left(-1\\right)^{j}}{2} + \\frac{1}{2}\\right) \\left(j + 1\\right)! {G}_{j + 2}$"
      ],
      "text/plain": [
       "Eq(Derivative(pw(z, g2, g3), (z, j)), (-1)**j*z**(-j - 2)*factorial(j + 1) + ((-1)**j/2 + 1/2)*factorial(j + 1)*G[j + 2])"
      ]
     },
     "execution_count": 30,
     "metadata": {},
     "output_type": "execute_result"
    }
   ],
   "source": [
    "expansion_z_j_order_diff_wp_lim_z_0_approx = Eq(diff(pw(z,g2,g3),(z,j)), \n",
    "   (-1)**j*factorial(j+1)/z**(2+j) + (1+(-1)**j)/2*factorial(j+1)*G[j+2])\n",
    "expansion_z_j_order_diff_wp_lim_z_0_approx"
   ]
  },
  {
   "cell_type": "code",
   "execution_count": 31,
   "metadata": {},
   "outputs": [
    {
     "data": {
      "text/latex": [
       "$\\displaystyle \\sigma{\\left(z,g_{2},g_{3} \\right)} = \\sum_{\\substack{0 \\leq n \\leq \\infty\\\\0 \\leq m \\leq \\infty}} \\frac{z^{4 m + 6 n + 1} \\left(\\frac{g_{2}}{2}\\right)^{m} \\left(2 g_{3}\\right)^{n} {a}_{m,n}}{4 m + 6 n + 1}$"
      ],
      "text/plain": [
       "Eq(sigma(z, g2, g3), Sum(z**(4*m + 6*n + 1)*(g2/2)**m*(2*g3)**n*a[m, n]/(4*m + 6*n + 1), (n, 0, oo), (m, 0, oo)))"
      ]
     },
     "execution_count": 31,
     "metadata": {},
     "output_type": "execute_result"
    }
   ],
   "source": [
    "Eq(sigma(z,g2,g3), Sum(Sum(a[m,n]*(g2/2)**m*(2*g3)**n*z**(4*m+6*n+1)/(4*m+6*n+1),(n,0,oo)),(m,0,oo)))"
   ]
  },
  {
   "cell_type": "code",
   "execution_count": 32,
   "metadata": {},
   "outputs": [
    {
     "data": {
      "text/latex": [
       "$\\displaystyle \\sigma{\\left(z,g_{2},g_{3} \\right)} = z + \\sum_{m=1}^{\\infty} \\frac{z^{4 m + 1} \\left(\\frac{g_{2}}{2}\\right)^{m} {a}_{m,0}}{4 m + 1} + \\sum_{n=1}^{\\infty} \\frac{z^{6 n + 1} \\left(2 g_{3}\\right)^{n} {a}_{0,n}}{6 n + 1} + \\sum_{\\substack{1 \\leq n \\leq \\infty\\\\1 \\leq m \\leq \\infty}} \\frac{z^{4 m + 6 n + 1} \\left(\\frac{g_{2}}{2}\\right)^{m} \\left(2 g_{3}\\right)^{n} {a}_{m,n}}{4 m + 6 n + 1}$"
      ],
      "text/plain": [
       "Eq(sigma(z, g2, g3), z + Sum(z**(4*m + 1)*(g2/2)**m*a[m, 0]/(4*m + 1), (m, 1, oo)) + Sum(z**(6*n + 1)*(2*g3)**n*a[0, n]/(6*n + 1), (n, 1, oo)) + Sum(z**(4*m + 6*n + 1)*(g2/2)**m*(2*g3)**n*a[m, n]/(4*m + 6*n + 1), (n, 1, oo), (m, 1, oo)))"
      ]
     },
     "execution_count": 32,
     "metadata": {},
     "output_type": "execute_result"
    }
   ],
   "source": [
    "Eq(sigma(z,g2,g3), \n",
    "    z + \n",
    "    Sum(a[0,n]*(2*g3)**n*z**(6*n+1)/(6*n+1),(n,1,oo)) +\n",
    "    Sum(a[m,0]*(g2/2)**m*z**(4*m+1)/(4*m+1),(m,1,oo))+\n",
    "    Sum(Sum(a[m,n]*(g2/2)**m*(2*g3)**n*z**(4*m+6*n+1)/(4*m+6*n+1),(n,1,oo)),(m,1,oo))\n",
    "  )"
   ]
  },
  {
   "cell_type": "code",
   "execution_count": 33,
   "metadata": {},
   "outputs": [],
   "source": [
    "sigma_NM_order_expansion = Eq(\n",
    "    sigma(z,g2,g3), Sum(Sum(a[m,n]*(g2/2)**m*(2*g3)**n*z**(4*m+6*n+1)/(4*m+6*n+1),(n,0,N)),(m,0,M)))\n",
    "# https://mathworld.wolfram.com/WeierstrassSigmaFunction.html\n",
    "def sigma_order_N_expansion_z(N_order, M_order):\n",
    "    low_order_a_mn_lookup = [\n",
    "        [1, -3, -54, 14904],\n",
    "        [-1, -18, 4968, 502200],\n",
    "        [-9, 513, 257580, 162100440],\n",
    "        [69, 33588, 20019960, -9465715080],\n",
    "        [321, 2808945,-376375410,-4582619446320],\n",
    "        [160839,-41843142,-210469286736,-1028311276281264]\n",
    "    ]\n",
    "    return sigma_NM_order_expansion.subs([(N,N_order),(M,M_order)]).doit().expand().subs([\n",
    "        (a[n,m], low_order_a_mn_lookup[n][m]) for n in range(0,N_order+1) for m in range(0,M_order+1)\n",
    "    ])"
   ]
  },
  {
   "cell_type": "code",
   "execution_count": 34,
   "metadata": {},
   "outputs": [
    {
     "data": {
      "text/latex": [
       "$\\displaystyle \\sigma{\\left(z,g_{2},g_{3} \\right)} = \\frac{85860 g_{2}^{2} g_{3}^{2} z^{21}}{7} + \\frac{171 g_{2}^{2} g_{3} z^{15}}{10} - \\frac{g_{2}^{2} z^{9}}{4} + \\frac{9936 g_{2} g_{3}^{2} z^{17}}{17} - \\frac{18 g_{2} g_{3} z^{11}}{11} - \\frac{g_{2} z^{5}}{10} - \\frac{216 g_{3}^{2} z^{13}}{13} - \\frac{6 g_{3} z^{7}}{7} + z$"
      ],
      "text/plain": [
       "Eq(sigma(z, g2, g3), 85860*g2**2*g3**2*z**21/7 + 171*g2**2*g3*z**15/10 - g2**2*z**9/4 + 9936*g2*g3**2*z**17/17 - 18*g2*g3*z**11/11 - g2*z**5/10 - 216*g3**2*z**13/13 - 6*g3*z**7/7 + z)"
      ]
     },
     "execution_count": 34,
     "metadata": {},
     "output_type": "execute_result"
    }
   ],
   "source": [
    "sigma_order_N_expansion_z(2, 2)"
   ]
  },
  {
   "cell_type": "code",
   "execution_count": 204,
   "metadata": {},
   "outputs": [
    {
     "data": {
      "text/plain": [
       "(sigma(z, g2, g3),\n",
       " 85860*g2**2*g3**2*z**21/7 + 171*g2**2*g3*z**15/10 - g2**2*z**9/4 + 9936*g2*g3**2*z**17/17 - 18*g2*g3*z**11/11 - g2*z**5/10 - 216*g3**2*z**13/13 - 6*g3*z**7/7 + z)"
      ]
     },
     "execution_count": 204,
     "metadata": {},
     "output_type": "execute_result"
    }
   ],
   "source": [
    "sigma_order_N_expansion_z(2, 2).args"
   ]
  },
  {
   "cell_type": "code",
   "execution_count": 35,
   "metadata": {},
   "outputs": [
    {
     "data": {
      "text/latex": [
       "$\\displaystyle \\sigma{\\left(z,g_{2},g_{3} \\right)} = z - \\frac{6 g_{3} z^{7}}{7} - \\frac{g_{2} z^{5}}{10} + O\\left(z^{9}\\right)$"
      ],
      "text/plain": [
       "Eq(sigma(z, g2, g3), z - 6*g3*z**7/7 - g2*z**5/10 + O(z**9))"
      ]
     },
     "execution_count": 35,
     "metadata": {},
     "output_type": "execute_result"
    }
   ],
   "source": [
    "Eq(sigma(z,g2,g3), z - g2*z**5/10 - 6*g3/7*z**7 + O(z**9))"
   ]
  },
  {
   "cell_type": "code",
   "execution_count": 36,
   "metadata": {},
   "outputs": [
    {
     "data": {
      "text/latex": [
       "$\\displaystyle \\sigma{\\left(z,g_{2},g_{3} \\right)} = - z^{3} \\sum_{k=1}^{\\infty} z^{2 k} {d}_{k} + z$"
      ],
      "text/plain": [
       "Eq(sigma(z, g2, g3), -z**3*Sum(z**(2*k)*d[k], (k, 1, oo)) + z)"
      ]
     },
     "execution_count": 36,
     "metadata": {},
     "output_type": "execute_result"
    }
   ],
   "source": [
    "Eq(sigma(z,g2,g3), z - z**3*Sum(d[k]*z**(2*k),(k,1,oo)))"
   ]
  },
  {
   "cell_type": "code",
   "execution_count": 37,
   "metadata": {},
   "outputs": [
    {
     "data": {
      "text/latex": [
       "$\\displaystyle \\frac{1}{\\sigma{\\left(z,g_{2},g_{3} \\right)}} = \\frac{1}{z \\left(- z^{2} \\sum_{k=1}^{\\infty} z^{2 k} {d}_{k} + 1\\right)}$"
      ],
      "text/plain": [
       "Eq(1/sigma(z, g2, g3), 1/(z*(-z**2*Sum(z**(2*k)*d[k], (k, 1, oo)) + 1)))"
      ]
     },
     "execution_count": 37,
     "metadata": {},
     "output_type": "execute_result"
    }
   ],
   "source": [
    "Eq(1/sigma(z,g2,g3), 1/z/(1 - z**2*Sum(d[k]*z**(2*k),(k,1,oo))))"
   ]
  },
  {
   "cell_type": "code",
   "execution_count": 38,
   "metadata": {},
   "outputs": [
    {
     "data": {
      "text/latex": [
       "$\\displaystyle \\sigma^{- N}{\\left(z,g_{2},g_{3} \\right)} = z^{- N} \\left(- z^{2} \\sum_{k=1}^{\\infty} z^{2 k} {d}_{k} + 1\\right)^{- N}$"
      ],
      "text/plain": [
       "Eq(sigma(z, g2, g3)**(-N), 1/(z**N*(-z**2*Sum(z**(2*k)*d[k], (k, 1, oo)) + 1)**N))"
      ]
     },
     "execution_count": 38,
     "metadata": {},
     "output_type": "execute_result"
    }
   ],
   "source": [
    "Eq(1/sigma(z,g2,g3)**N, 1/z**N/(1 - z**2*Sum(d[k]*z**(2*k),(k,1,oo)))**N)"
   ]
  },
  {
   "cell_type": "code",
   "execution_count": 39,
   "metadata": {},
   "outputs": [
    {
     "data": {
      "text/latex": [
       "$\\displaystyle \\left(1 - x\\right)^{- N} = \\sum_{m=1}^{\\infty} x^{m} {\\binom{N + m - 1}{m}} + 1$"
      ],
      "text/plain": [
       "Eq((1 - x)**(-N), Sum(x**m*binomial(N + m - 1, m), (m, 1, oo)) + 1)"
      ]
     },
     "execution_count": 39,
     "metadata": {},
     "output_type": "execute_result"
    }
   ],
   "source": [
    "binomial_expansion = Eq(1/(1-x)**N, 1 + Sum(binomial(N+m-1,m)*x**m,(m,1,oo)))\n",
    "binomial_expansion"
   ]
  },
  {
   "cell_type": "code",
   "execution_count": 40,
   "metadata": {},
   "outputs": [
    {
     "data": {
      "text/latex": [
       "$\\displaystyle \\left(- z^{2} \\sum_{k=1}^{\\infty} z^{2 k} {d}_{k} + 1\\right)^{- N} = \\sum_{m=1}^{\\infty} \\left(\\left(z^{2} \\sum_{k=1}^{\\infty} z^{2 k} {d}_{k}\\right)^{m}\\right) {\\binom{N + m - 1}{m}} + 1$"
      ],
      "text/plain": [
       "Eq((-z**2*Sum(z**(2*k)*d[k], (k, 1, oo)) + 1)**(-N), Sum((z**2*Sum(z**(2*k)*d[k], (k, 1, oo)))**m*binomial(N + m - 1, m), (m, 1, oo)) + 1)"
      ]
     },
     "execution_count": 40,
     "metadata": {},
     "output_type": "execute_result"
    }
   ],
   "source": [
    "binomial_expansion.subs(x, z**2*Sum(d[k]*z**(2*k),(k,1,oo)))"
   ]
  },
  {
   "cell_type": "code",
   "execution_count": 41,
   "metadata": {},
   "outputs": [
    {
     "data": {
      "text/latex": [
       "$\\displaystyle z^{2} \\sum_{k=1}^{\\infty} z^{2 k} {d}_{k} = z^{2} z^{2 \\left\\lfloor{\\frac{N}{2}}\\right\\rfloor} {d}_{\\left\\lfloor{\\frac{N}{2}}\\right\\rfloor} + z^{2} \\sum_{k=1}^{\\left\\lfloor{\\frac{N}{2}}\\right\\rfloor - 1} z^{2 k} {d}_{k}$"
      ],
      "text/plain": [
       "Eq(z**2*Sum(z**(2*k)*d[k], (k, 1, oo)), z**2*z**(2*floor(N/2))*d[floor(N/2)] + z**2*Sum(z**(2*k)*d[k], (k, 1, floor(N/2) - 1)))"
      ]
     },
     "execution_count": 41,
     "metadata": {},
     "output_type": "execute_result"
    }
   ],
   "source": [
    "Eq(z**2*Sum(d[k]*z**(2*k),(k,1,oo)), z**2*Sum(d[k]*z**(2*k),(k,1,floor(N/2)-1)) + z**2*(d[k]*z**(2*k)).subs(k,floor(N/2)))"
   ]
  },
  {
   "cell_type": "markdown",
   "metadata": {},
   "source": [
    "The below term is $O(z^{(N+1)})$"
   ]
  },
  {
   "cell_type": "code",
   "execution_count": 42,
   "metadata": {},
   "outputs": [
    {
     "data": {
      "text/latex": [
       "$\\displaystyle z^{2 \\left\\lfloor{\\frac{N}{2}}\\right\\rfloor + 2}$"
      ],
      "text/plain": [
       "z**(2*floor(N/2) + 2)"
      ]
     },
     "execution_count": 42,
     "metadata": {},
     "output_type": "execute_result"
    }
   ],
   "source": [
    "z**(floor(N/2)*2+2)"
   ]
  },
  {
   "cell_type": "code",
   "execution_count": 43,
   "metadata": {},
   "outputs": [
    {
     "data": {
      "text/latex": [
       "$\\displaystyle k \\leq \\left\\lfloor{\\frac{N}{2}}\\right\\rfloor - 1$"
      ],
      "text/plain": [
       "k <= floor(N/2) - 1"
      ]
     },
     "execution_count": 43,
     "metadata": {},
     "output_type": "execute_result"
    }
   ],
   "source": [
    "k<=floor((N-2)/2)"
   ]
  },
  {
   "cell_type": "code",
   "execution_count": 44,
   "metadata": {},
   "outputs": [
    {
     "data": {
      "text/latex": [
       "$\\displaystyle \\frac{1}{\\sigma{\\left(z,g_{2},g_{3} \\right)}} = \\frac{1 + \\frac{6 g_{3} z^{6}}{7} + \\frac{g_{2} z^{4}}{10} + O\\left(z^{8}\\right)}{z}$"
      ],
      "text/plain": [
       "Eq(1/sigma(z, g2, g3), (1 + 6*g3*z**6/7 + g2*z**4/10 + O(z**8))/z)"
      ]
     },
     "execution_count": 44,
     "metadata": {},
     "output_type": "execute_result"
    }
   ],
   "source": [
    "one_over_sigma_z_big_o = Eq(1/sigma(z,g2,g3), 1/z*(1 - (- g2*z**4/10 - 6*g3/7*z**6 + O(z**8))))\n",
    "one_over_sigma_z_big_o"
   ]
  },
  {
   "cell_type": "code",
   "execution_count": 45,
   "metadata": {},
   "outputs": [
    {
     "data": {
      "text/latex": [
       "$\\displaystyle \\frac{1}{\\sigma{\\left(z,g_{2},g_{3} \\right)}} = \\frac{1}{z} + \\frac{6 g_{3} z^{5}}{7} + \\frac{g_{2} z^{3}}{10} + O\\left(z^{7}\\right)$"
      ],
      "text/plain": [
       "Eq(1/sigma(z, g2, g3), 1/z + 6*g3*z**5/7 + g2*z**3/10 + O(z**7))"
      ]
     },
     "execution_count": 45,
     "metadata": {},
     "output_type": "execute_result"
    }
   ],
   "source": [
    "one_over_sigma_z_big_o = one_over_sigma_z_big_o.expand()\n",
    "one_over_sigma_z_big_o"
   ]
  },
  {
   "cell_type": "code",
   "execution_count": 46,
   "metadata": {},
   "outputs": [
    {
     "data": {
      "text/latex": [
       "$\\displaystyle \\left(\\frac{1}{\\sigma{\\left(z,g_{2},g_{3} \\right)}}\\right)^{N} = \\left(\\frac{1}{z} + \\frac{6 g_{3} z^{5}}{7} + \\frac{g_{2} z^{3}}{10} + O\\left(z^{7}\\right)\\right)^{N}$"
      ],
      "text/plain": [
       "Eq((1/sigma(z, g2, g3))**N, (1/z + 6*g3*z**5/7 + g2*z**3/10 + O(z**7))**N)"
      ]
     },
     "execution_count": 46,
     "metadata": {},
     "output_type": "execute_result"
    }
   ],
   "source": [
    "one_over_sigma_z_power_N  = Eq((one_over_sigma_z_big_o.lhs**N).simplify(), one_over_sigma_z_big_o.rhs**N)\n",
    "one_over_sigma_z_power_N "
   ]
  },
  {
   "cell_type": "code",
   "execution_count": 47,
   "metadata": {},
   "outputs": [
    {
     "data": {
      "text/latex": [
       "$\\displaystyle f{\\left(z \\right)} = \\sum_{n=0}^{\\infty} \\frac{\\left(- x + z\\right)^{n} \\frac{d^{n}}{d x^{n}} f{\\left(x \\right)}}{n!}$"
      ],
      "text/plain": [
       "Eq(f(z), Sum((-x + z)**n*Derivative(f(x), (x, n))/factorial(n), (n, 0, oo)))"
      ]
     },
     "execution_count": 47,
     "metadata": {},
     "output_type": "execute_result"
    }
   ],
   "source": [
    "taylor_series_in_z_about_x = Eq(f(z),Sum(diff(f(z),(z,n)).subs(z,x)*(z-x)**n/factorial(n),(n,0,oo)))\n",
    "taylor_series_in_z_about_x"
   ]
  },
  {
   "cell_type": "code",
   "execution_count": 48,
   "metadata": {},
   "outputs": [
    {
     "data": {
      "text/latex": [
       "$\\displaystyle \\sigma{\\left(x + z,g_{2},g_{3} \\right)} = \\sum_{n=0}^{\\infty} \\frac{z^{n} \\frac{\\partial^{n}}{\\partial x^{n}} \\sigma{\\left(x,g_{2},g_{3} \\right)}}{n!}$"
      ],
      "text/plain": [
       "Eq(sigma(x + z, g2, g3), Sum(z**n*Derivative(sigma(x, g2, g3), (x, n))/factorial(n), (n, 0, oo)))"
      ]
     },
     "execution_count": 48,
     "metadata": {},
     "output_type": "execute_result"
    }
   ],
   "source": [
    "sigma_series_in_z_about_x = Eq(sigma(z+x,g2,g3),Sum(diff(sigma(z,g2,g3),(z,n)).subs(z,x)*z**n/factorial(n),(n,0,oo)))\n",
    "sigma_series_in_z_about_x "
   ]
  },
  {
   "cell_type": "code",
   "execution_count": 49,
   "metadata": {},
   "outputs": [
    {
     "data": {
      "text/latex": [
       "$\\displaystyle \\sigma{\\left(x + z,g_{2},g_{3} \\right)} = \\sum_{n=0}^{N} \\frac{z^{n} \\frac{\\partial^{n}}{\\partial x^{n}} \\sigma{\\left(x,g_{2},g_{3} \\right)}}{n!}$"
      ],
      "text/plain": [
       "Eq(sigma(x + z, g2, g3), Sum(z**n*Derivative(sigma(x, g2, g3), (x, n))/factorial(n), (n, 0, N)))"
      ]
     },
     "execution_count": 49,
     "metadata": {},
     "output_type": "execute_result"
    }
   ],
   "source": [
    "sigma_series_in_z_about_x_order_N = Eq(\n",
    "    sigma(z+x,g2,g3),Sum(diff(sigma(z,g2,g3),(z,n)).subs(z,x)*z**n/factorial(n),(n,0,N)))\n",
    "sigma_series_in_z_about_x_order_N"
   ]
  },
  {
   "cell_type": "code",
   "execution_count": 50,
   "metadata": {},
   "outputs": [
    {
     "data": {
      "text/latex": [
       "$\\displaystyle \\frac{\\partial}{\\partial z} \\sigma{\\left(z,g_{2},g_{3} \\right)} = \\sigma{\\left(z,g_{2},g_{3} \\right)} \\operatorname{zw}{\\left(z,g_{2},g_{3} \\right)}$"
      ],
      "text/plain": [
       "Eq(Derivative(sigma(z, g2, g3), z), sigma(z, g2, g3)*zw(z, g2, g3))"
      ]
     },
     "execution_count": 50,
     "metadata": {},
     "output_type": "execute_result"
    }
   ],
   "source": [
    "diff_sigma_1 = Eq(zeta_eq.rhs*sigma(z,g2,g3), zeta_eq.lhs*sigma(z,g2,g3))\n",
    "diff_sigma_1"
   ]
  },
  {
   "cell_type": "code",
   "execution_count": 51,
   "metadata": {},
   "outputs": [
    {
     "data": {
      "text/latex": [
       "$\\displaystyle \\frac{\\partial^{2}}{\\partial z^{2}} \\sigma{\\left(z,g_{2},g_{3} \\right)} = - \\left(\\operatorname{pw}{\\left(z,g_{2},g_{3} \\right)} - \\operatorname{zw}^{2}{\\left(z,g_{2},g_{3} \\right)}\\right) \\sigma{\\left(z,g_{2},g_{3} \\right)}$"
      ],
      "text/plain": [
       "Eq(Derivative(sigma(z, g2, g3), (z, 2)), -(pw(z, g2, g3) - zw(z, g2, g3)**2)*sigma(z, g2, g3))"
      ]
     },
     "execution_count": 51,
     "metadata": {},
     "output_type": "execute_result"
    }
   ],
   "source": [
    "diff_sigma_2 = Eq(diff(diff_sigma_1.lhs, z), \n",
    "                  diff(diff_sigma_1.rhs, z).subs([diff_sigma_1.args, diff_zeta_eq.args]).factor()\n",
    "                 )\n",
    "diff_sigma_2"
   ]
  },
  {
   "cell_type": "code",
   "execution_count": 52,
   "metadata": {},
   "outputs": [
    {
     "data": {
      "text/latex": [
       "$\\displaystyle \\frac{\\partial^{3}}{\\partial z^{3}} \\sigma{\\left(z,g_{2},g_{3} \\right)} = - \\left(3 \\operatorname{pw}{\\left(z,g_{2},g_{3} \\right)} \\operatorname{zw}{\\left(z,g_{2},g_{3} \\right)} + \\operatorname{pwp}{\\left(z,g_{2},g_{3} \\right)} - \\operatorname{zw}^{3}{\\left(z,g_{2},g_{3} \\right)}\\right) \\sigma{\\left(z,g_{2},g_{3} \\right)}$"
      ],
      "text/plain": [
       "Eq(Derivative(sigma(z, g2, g3), (z, 3)), -(3*pw(z, g2, g3)*zw(z, g2, g3) + pwp(z, g2, g3) - zw(z, g2, g3)**3)*sigma(z, g2, g3))"
      ]
     },
     "execution_count": 52,
     "metadata": {},
     "output_type": "execute_result"
    }
   ],
   "source": [
    "diff_sigma_3 = Eq(diff(diff_sigma_2.lhs, z), \n",
    "                  diff(diff_sigma_2.rhs, z).subs([diff_sigma_1.args, diff_zeta_eq.args, diff_pw_eq.args]).factor()\n",
    "                 )\n",
    "diff_sigma_3"
   ]
  },
  {
   "cell_type": "code",
   "execution_count": 53,
   "metadata": {},
   "outputs": [
    {
     "data": {
      "text/latex": [
       "$\\displaystyle \\frac{\\partial^{4}}{\\partial z^{4}} \\sigma{\\left(z,g_{2},g_{3} \\right)} = \\frac{\\left(g_{2} - 6 \\operatorname{pw}^{2}{\\left(z,g_{2},g_{3} \\right)} - 12 \\operatorname{pw}{\\left(z,g_{2},g_{3} \\right)} \\operatorname{zw}^{2}{\\left(z,g_{2},g_{3} \\right)} - 8 \\operatorname{pwp}{\\left(z,g_{2},g_{3} \\right)} \\operatorname{zw}{\\left(z,g_{2},g_{3} \\right)} + 2 \\operatorname{zw}^{4}{\\left(z,g_{2},g_{3} \\right)}\\right) \\sigma{\\left(z,g_{2},g_{3} \\right)}}{2}$"
      ],
      "text/plain": [
       "Eq(Derivative(sigma(z, g2, g3), (z, 4)), (g2 - 6*pw(z, g2, g3)**2 - 12*pw(z, g2, g3)*zw(z, g2, g3)**2 - 8*pwp(z, g2, g3)*zw(z, g2, g3) + 2*zw(z, g2, g3)**4)*sigma(z, g2, g3)/2)"
      ]
     },
     "execution_count": 53,
     "metadata": {},
     "output_type": "execute_result"
    }
   ],
   "source": [
    "diff_sigma_4 = Eq(diff(diff_sigma_3.lhs, z), \n",
    "                  diff(diff_sigma_3.rhs, z).subs([\n",
    "                      diff_sigma_2.args, diff_sigma_1.args, diff_zeta_eq.args, diff_pw_eq.args,\n",
    "                      (diff(pwp(z,g2,g3),z),-g2/2+6*pw(z,g2,g3)**2)\n",
    "                  \n",
    "                  ]).factor()\n",
    "                 )\n",
    "diff_sigma_4"
   ]
  },
  {
   "cell_type": "code",
   "execution_count": 54,
   "metadata": {},
   "outputs": [
    {
     "data": {
      "text/latex": [
       "$\\displaystyle \\sigma{\\left(x + z,g_{2},g_{3} \\right)} = \\sigma{\\left(x,g_{2},g_{3} \\right)} + z \\sigma{\\left(x,g_{2},g_{3} \\right)} \\operatorname{zw}{\\left(x,g_{2},g_{3} \\right)} - \\frac{z^{2} \\left(\\operatorname{pw}{\\left(x,g_{2},g_{3} \\right)} - \\operatorname{zw}^{2}{\\left(x,g_{2},g_{3} \\right)}\\right) \\sigma{\\left(x,g_{2},g_{3} \\right)}}{2} - \\frac{z^{3} \\cdot \\left(3 \\operatorname{pw}{\\left(x,g_{2},g_{3} \\right)} \\operatorname{zw}{\\left(x,g_{2},g_{3} \\right)} + \\operatorname{pwp}{\\left(x,g_{2},g_{3} \\right)} - \\operatorname{zw}^{3}{\\left(x,g_{2},g_{3} \\right)}\\right) \\sigma{\\left(x,g_{2},g_{3} \\right)}}{6} + O\\left(z^{4}\\right)$"
      ],
      "text/plain": [
       "Eq(sigma(x + z, g2, g3), sigma(x, g2, g3) + z*sigma(x, g2, g3)*zw(x, g2, g3) - z**2*(pw(x, g2, g3) - zw(x, g2, g3)**2)*sigma(x, g2, g3)/2 - z**3*(3*pw(x, g2, g3)*zw(x, g2, g3) + pwp(x, g2, g3) - zw(x, g2, g3)**3)*sigma(x, g2, g3)/6 + O(z**4))"
      ]
     },
     "execution_count": 54,
     "metadata": {},
     "output_type": "execute_result"
    }
   ],
   "source": [
    "sigma_z_plus_x_3_exp = Eq(sigma_series_in_z_about_x_order_N.lhs, (sigma_series_in_z_about_x_order_N.subs(N,3).doit()\n",
    "     .subs(*diff_sigma_3.subs(z,x).args).subs(*diff_sigma_2.subs(z,x).args).subs(*diff_sigma_1.subs(z,x).args)\n",
    "    ).rhs +O(z**4))\n",
    "sigma_z_plus_x_3_exp"
   ]
  },
  {
   "cell_type": "code",
   "execution_count": 55,
   "metadata": {},
   "outputs": [
    {
     "data": {
      "text/latex": [
       "$\\displaystyle \\sigma{\\left(x + z,g_{2},g_{3} \\right)} = \\sigma{\\left(x,g_{2},g_{3} \\right)} + z \\sigma{\\left(x,g_{2},g_{3} \\right)} \\operatorname{zw}{\\left(x,g_{2},g_{3} \\right)} - \\frac{z^{2} \\left(\\operatorname{pw}{\\left(x,g_{2},g_{3} \\right)} - \\operatorname{zw}^{2}{\\left(x,g_{2},g_{3} \\right)}\\right) \\sigma{\\left(x,g_{2},g_{3} \\right)}}{2} - \\frac{z^{3} \\cdot \\left(3 \\operatorname{pw}{\\left(x,g_{2},g_{3} \\right)} \\operatorname{zw}{\\left(x,g_{2},g_{3} \\right)} + \\operatorname{pwp}{\\left(x,g_{2},g_{3} \\right)} - \\operatorname{zw}^{3}{\\left(x,g_{2},g_{3} \\right)}\\right) \\sigma{\\left(x,g_{2},g_{3} \\right)}}{6} + \\frac{z^{4} \\left(g_{2} - 6 \\operatorname{pw}^{2}{\\left(x,g_{2},g_{3} \\right)} - 12 \\operatorname{pw}{\\left(x,g_{2},g_{3} \\right)} \\operatorname{zw}^{2}{\\left(x,g_{2},g_{3} \\right)} - 8 \\operatorname{pwp}{\\left(x,g_{2},g_{3} \\right)} \\operatorname{zw}{\\left(x,g_{2},g_{3} \\right)} + 2 \\operatorname{zw}^{4}{\\left(x,g_{2},g_{3} \\right)}\\right) \\sigma{\\left(x,g_{2},g_{3} \\right)}}{48} + O\\left(z^{5}\\right)$"
      ],
      "text/plain": [
       "Eq(sigma(x + z, g2, g3), sigma(x, g2, g3) + z*sigma(x, g2, g3)*zw(x, g2, g3) - z**2*(pw(x, g2, g3) - zw(x, g2, g3)**2)*sigma(x, g2, g3)/2 - z**3*(3*pw(x, g2, g3)*zw(x, g2, g3) + pwp(x, g2, g3) - zw(x, g2, g3)**3)*sigma(x, g2, g3)/6 + z**4*(g2 - 6*pw(x, g2, g3)**2 - 12*pw(x, g2, g3)*zw(x, g2, g3)**2 - 8*pwp(x, g2, g3)*zw(x, g2, g3) + 2*zw(x, g2, g3)**4)*sigma(x, g2, g3)/48 + O(z**5))"
      ]
     },
     "execution_count": 55,
     "metadata": {},
     "output_type": "execute_result"
    }
   ],
   "source": [
    "sigma_z_plus_x_4_exp = Eq(sigma_series_in_z_about_x_order_N.lhs, (sigma_series_in_z_about_x_order_N.subs(N,4).doit()\n",
    "     .subs(*diff_sigma_4.subs(z,x).args)\n",
    "      .subs(*diff_sigma_3.subs(z,x).args)\n",
    "      .subs(*diff_sigma_2.subs(z,x).args).subs(*diff_sigma_1.subs(z,x).args)\n",
    "    ).rhs +O(z**5))\n",
    "sigma_z_plus_x_4_exp"
   ]
  },
  {
   "cell_type": "code",
   "execution_count": 56,
   "metadata": {},
   "outputs": [
    {
     "data": {
      "text/latex": [
       "$\\displaystyle \\sigma{\\left(- x + z,g_{2},g_{3} \\right)} = - \\sigma{\\left(x,g_{2},g_{3} \\right)} + z \\sigma{\\left(x,g_{2},g_{3} \\right)} \\operatorname{zw}{\\left(x,g_{2},g_{3} \\right)} + \\frac{z^{2} \\left(\\operatorname{pw}{\\left(x,g_{2},g_{3} \\right)} - \\operatorname{zw}^{2}{\\left(x,g_{2},g_{3} \\right)}\\right) \\sigma{\\left(x,g_{2},g_{3} \\right)}}{2} + \\frac{z^{3} \\left(- 3 \\operatorname{pw}{\\left(x,g_{2},g_{3} \\right)} \\operatorname{zw}{\\left(x,g_{2},g_{3} \\right)} - \\operatorname{pwp}{\\left(x,g_{2},g_{3} \\right)} + \\operatorname{zw}^{3}{\\left(x,g_{2},g_{3} \\right)}\\right) \\sigma{\\left(x,g_{2},g_{3} \\right)}}{6} + O\\left(z^{4}\\right)$"
      ],
      "text/plain": [
       "Eq(sigma(-x + z, g2, g3), -sigma(x, g2, g3) + z*sigma(x, g2, g3)*zw(x, g2, g3) + z**2*(pw(x, g2, g3) - zw(x, g2, g3)**2)*sigma(x, g2, g3)/2 + z**3*(-3*pw(x, g2, g3)*zw(x, g2, g3) - pwp(x, g2, g3) + zw(x, g2, g3)**3)*sigma(x, g2, g3)/6 + O(z**4))"
      ]
     },
     "execution_count": 56,
     "metadata": {},
     "output_type": "execute_result"
    }
   ],
   "source": [
    "sigma_z_minus_x_3_exp = sigma_z_plus_x_3_exp.subs(x,-x).subs([\n",
    "    (sigma(-x,g2,g3),-sigma(x,g2,g3)), (zw(-x,g2,g3),-zw(x,g2,g3)), \n",
    "    (pw(-x,g2,g3),pw(x,g2,g3)), (pwp(-x,g2,g3),-pwp(x,g2,g3))\n",
    "])\n",
    "sigma_z_minus_x_3_exp"
   ]
  },
  {
   "cell_type": "code",
   "execution_count": 57,
   "metadata": {},
   "outputs": [
    {
     "data": {
      "text/latex": [
       "$\\displaystyle \\sigma{\\left(- x + z,g_{2},g_{3} \\right)} = - \\sigma{\\left(x,g_{2},g_{3} \\right)} + z \\sigma{\\left(x,g_{2},g_{3} \\right)} \\operatorname{zw}{\\left(x,g_{2},g_{3} \\right)} + \\frac{z^{2} \\left(\\operatorname{pw}{\\left(x,g_{2},g_{3} \\right)} - \\operatorname{zw}^{2}{\\left(x,g_{2},g_{3} \\right)}\\right) \\sigma{\\left(x,g_{2},g_{3} \\right)}}{2} + \\frac{z^{3} \\left(- 3 \\operatorname{pw}{\\left(x,g_{2},g_{3} \\right)} \\operatorname{zw}{\\left(x,g_{2},g_{3} \\right)} - \\operatorname{pwp}{\\left(x,g_{2},g_{3} \\right)} + \\operatorname{zw}^{3}{\\left(x,g_{2},g_{3} \\right)}\\right) \\sigma{\\left(x,g_{2},g_{3} \\right)}}{6} - \\frac{z^{4} \\left(g_{2} - 6 \\operatorname{pw}^{2}{\\left(x,g_{2},g_{3} \\right)} - 12 \\operatorname{pw}{\\left(x,g_{2},g_{3} \\right)} \\operatorname{zw}^{2}{\\left(x,g_{2},g_{3} \\right)} - 8 \\operatorname{pwp}{\\left(x,g_{2},g_{3} \\right)} \\operatorname{zw}{\\left(x,g_{2},g_{3} \\right)} + 2 \\operatorname{zw}^{4}{\\left(x,g_{2},g_{3} \\right)}\\right) \\sigma{\\left(x,g_{2},g_{3} \\right)}}{48} + O\\left(z^{5}\\right)$"
      ],
      "text/plain": [
       "Eq(sigma(-x + z, g2, g3), -sigma(x, g2, g3) + z*sigma(x, g2, g3)*zw(x, g2, g3) + z**2*(pw(x, g2, g3) - zw(x, g2, g3)**2)*sigma(x, g2, g3)/2 + z**3*(-3*pw(x, g2, g3)*zw(x, g2, g3) - pwp(x, g2, g3) + zw(x, g2, g3)**3)*sigma(x, g2, g3)/6 - z**4*(g2 - 6*pw(x, g2, g3)**2 - 12*pw(x, g2, g3)*zw(x, g2, g3)**2 - 8*pwp(x, g2, g3)*zw(x, g2, g3) + 2*zw(x, g2, g3)**4)*sigma(x, g2, g3)/48 + O(z**5))"
      ]
     },
     "execution_count": 57,
     "metadata": {},
     "output_type": "execute_result"
    }
   ],
   "source": [
    "sigma_z_minus_x_4_exp = sigma_z_plus_x_4_exp.subs(x,-x).subs([\n",
    "    (sigma(-x,g2,g3),-sigma(x,g2,g3)), (zw(-x,g2,g3),-zw(x,g2,g3)), \n",
    "    (pw(-x,g2,g3),pw(x,g2,g3)), (pwp(-x,g2,g3),-pwp(x,g2,g3))\n",
    "])\n",
    "sigma_z_minus_x_4_exp"
   ]
  },
  {
   "cell_type": "markdown",
   "metadata": {},
   "source": [
    "### Higher order derivatives of the Weierstrass P function"
   ]
  },
  {
   "cell_type": "markdown",
   "metadata": {},
   "source": [
    "Higher order derivatives of the Weierstrass P function can be determined by subsequent differentiation of the defining differential equation. These will be needed later and so the first few are calculated."
   ]
  },
  {
   "cell_type": "code",
   "execution_count": 58,
   "metadata": {},
   "outputs": [
    {
     "data": {
      "text/latex": [
       "$\\displaystyle \\left(\\frac{\\partial}{\\partial z} \\operatorname{pw}{\\left(z,g_{2},g_{3} \\right)}\\right)^{2} = - g_{2} \\operatorname{pw}{\\left(z,g_{2},g_{3} \\right)} - g_{3} + 4 \\operatorname{pw}^{3}{\\left(z,g_{2},g_{3} \\right)}$"
      ],
      "text/plain": [
       "Eq(Derivative(pw(z, g2, g3), z)**2, -g2*pw(z, g2, g3) - g3 + 4*pw(z, g2, g3)**3)"
      ]
     },
     "execution_count": 58,
     "metadata": {},
     "output_type": "execute_result"
    }
   ],
   "source": [
    "wp_diff_eq_1 = Eq((diff(pw(z,g2,g3),z))**2, 4*pw(z,g2,g3)**3 - g2 * pw(z,g2,g3) - g3)\n",
    "wp_diff_eq_1"
   ]
  },
  {
   "cell_type": "code",
   "execution_count": 59,
   "metadata": {},
   "outputs": [
    {
     "data": {
      "text/latex": [
       "$\\displaystyle \\frac{\\partial^{2}}{\\partial z^{2}} \\operatorname{pw}{\\left(z,g_{2},g_{3} \\right)} = - \\frac{g_{2}}{2} + 6 \\operatorname{pw}^{2}{\\left(z,g_{2},g_{3} \\right)}$"
      ],
      "text/plain": [
       "Eq(Derivative(pw(z, g2, g3), (z, 2)), -g2/2 + 6*pw(z, g2, g3)**2)"
      ]
     },
     "execution_count": 59,
     "metadata": {},
     "output_type": "execute_result"
    }
   ],
   "source": [
    "wp_diff_eq_2 = Eq(wp_diff_eq_1.lhs.diff(z)/pw(z,g2,g3).diff(z)/2, wp_diff_eq_1.rhs.diff(z)/pw(z,g2,g3).diff(z)/2).expand()\n",
    "wp_diff_eq_2"
   ]
  },
  {
   "cell_type": "code",
   "execution_count": 60,
   "metadata": {},
   "outputs": [
    {
     "data": {
      "text/latex": [
       "$\\displaystyle \\frac{\\partial^{3}}{\\partial z^{3}} \\operatorname{pw}{\\left(z,g_{2},g_{3} \\right)} = 12 \\operatorname{pw}{\\left(z,g_{2},g_{3} \\right)} \\frac{\\partial}{\\partial z} \\operatorname{pw}{\\left(z,g_{2},g_{3} \\right)}$"
      ],
      "text/plain": [
       "Eq(Derivative(pw(z, g2, g3), (z, 3)), 12*pw(z, g2, g3)*Derivative(pw(z, g2, g3), z))"
      ]
     },
     "execution_count": 60,
     "metadata": {},
     "output_type": "execute_result"
    }
   ],
   "source": [
    "wp_diff_eq_3 = Eq(wp_diff_eq_2.lhs.diff(z), wp_diff_eq_2.rhs.diff(z))\n",
    "wp_diff_eq_3"
   ]
  },
  {
   "cell_type": "code",
   "execution_count": 61,
   "metadata": {},
   "outputs": [
    {
     "data": {
      "text/latex": [
       "$\\displaystyle \\frac{\\partial^{4}}{\\partial z^{4}} \\operatorname{pw}{\\left(z,g_{2},g_{3} \\right)} = - 18 g_{2} \\operatorname{pw}{\\left(z,g_{2},g_{3} \\right)} - 12 g_{3} + 120 \\operatorname{pw}^{3}{\\left(z,g_{2},g_{3} \\right)}$"
      ],
      "text/plain": [
       "Eq(Derivative(pw(z, g2, g3), (z, 4)), -18*g2*pw(z, g2, g3) - 12*g3 + 120*pw(z, g2, g3)**3)"
      ]
     },
     "execution_count": 61,
     "metadata": {},
     "output_type": "execute_result"
    }
   ],
   "source": [
    "wp_diff_eq_4 = Eq(wp_diff_eq_2.lhs.diff(z,2), wp_diff_eq_2.rhs.diff(z,2).subs([\n",
    "        (wp_diff_eq_3.lhs, wp_diff_eq_3.rhs),\n",
    "        (wp_diff_eq_2.lhs, wp_diff_eq_2.rhs),\n",
    "        (wp_diff_eq_1.lhs, wp_diff_eq_1.rhs),\n",
    "    ]).expand()\n",
    ")\n",
    "wp_diff_eq_4"
   ]
  },
  {
   "cell_type": "code",
   "execution_count": 62,
   "metadata": {},
   "outputs": [
    {
     "data": {
      "text/latex": [
       "$\\displaystyle \\frac{\\partial^{5}}{\\partial z^{5}} \\operatorname{pw}{\\left(z,g_{2},g_{3} \\right)} = - 18 g_{2} \\frac{\\partial}{\\partial z} \\operatorname{pw}{\\left(z,g_{2},g_{3} \\right)} + 360 \\operatorname{pw}^{2}{\\left(z,g_{2},g_{3} \\right)} \\frac{\\partial}{\\partial z} \\operatorname{pw}{\\left(z,g_{2},g_{3} \\right)}$"
      ],
      "text/plain": [
       "Eq(Derivative(pw(z, g2, g3), (z, 5)), -18*g2*Derivative(pw(z, g2, g3), z) + 360*pw(z, g2, g3)**2*Derivative(pw(z, g2, g3), z))"
      ]
     },
     "execution_count": 62,
     "metadata": {},
     "output_type": "execute_result"
    }
   ],
   "source": [
    "wp_diff_eq_5 = Eq(wp_diff_eq_2.lhs.diff(z,3), wp_diff_eq_2.rhs.diff(z,3).subs([\n",
    "        (wp_diff_eq_4.lhs, wp_diff_eq_4.rhs),\n",
    "        (wp_diff_eq_3.lhs, wp_diff_eq_3.rhs),\n",
    "        (wp_diff_eq_2.lhs, wp_diff_eq_2.rhs),\n",
    "        (wp_diff_eq_1.lhs, wp_diff_eq_1.rhs),\n",
    "    ]).expand()\n",
    ")\n",
    "wp_diff_eq_5"
   ]
  },
  {
   "cell_type": "code",
   "execution_count": 63,
   "metadata": {
    "scrolled": true
   },
   "outputs": [
    {
     "data": {
      "text/latex": [
       "$\\displaystyle \\frac{\\partial^{6}}{\\partial z^{6}} \\operatorname{pw}{\\left(z,g_{2},g_{3} \\right)} = 9 g_{2}^{2} - 1008 g_{2} \\operatorname{pw}^{2}{\\left(z,g_{2},g_{3} \\right)} - 720 g_{3} \\operatorname{pw}{\\left(z,g_{2},g_{3} \\right)} + 5040 \\operatorname{pw}^{4}{\\left(z,g_{2},g_{3} \\right)}$"
      ],
      "text/plain": [
       "Eq(Derivative(pw(z, g2, g3), (z, 6)), 9*g2**2 - 1008*g2*pw(z, g2, g3)**2 - 720*g3*pw(z, g2, g3) + 5040*pw(z, g2, g3)**4)"
      ]
     },
     "execution_count": 63,
     "metadata": {},
     "output_type": "execute_result"
    }
   ],
   "source": [
    "wp_diff_eq_6 = Eq(wp_diff_eq_2.lhs.diff(z,4), wp_diff_eq_2.rhs.diff(z,4).subs([\n",
    "        (wp_diff_eq_5.lhs, wp_diff_eq_5.rhs),\n",
    "        (wp_diff_eq_4.lhs, wp_diff_eq_4.rhs),\n",
    "        (wp_diff_eq_3.lhs, wp_diff_eq_3.rhs),\n",
    "        (wp_diff_eq_2.lhs, wp_diff_eq_2.rhs),\n",
    "        (wp_diff_eq_1.lhs, wp_diff_eq_1.rhs),\n",
    "    ]).expand()\n",
    ")\n",
    "wp_diff_eq_6"
   ]
  },
  {
   "cell_type": "code",
   "execution_count": 64,
   "metadata": {},
   "outputs": [],
   "source": [
    "higher_order_diffs = [\n",
    "    (wp_diff_eq_6.lhs, wp_diff_eq_6.rhs),\n",
    "    (wp_diff_eq_5.lhs, wp_diff_eq_5.rhs),\n",
    "    (wp_diff_eq_4.lhs, wp_diff_eq_4.rhs),\n",
    "    (wp_diff_eq_3.lhs, wp_diff_eq_3.rhs),\n",
    "    (wp_diff_eq_2.lhs, wp_diff_eq_2.rhs),\n",
    "    (wp_diff_eq_1.lhs, wp_diff_eq_1.rhs),\n",
    "]"
   ]
  },
  {
   "cell_type": "markdown",
   "metadata": {},
   "source": [
    "### The general differential equation for a ratio of Weierstrass sigma functions"
   ]
  },
  {
   "cell_type": "code",
   "execution_count": 65,
   "metadata": {},
   "outputs": [
    {
     "data": {
      "text/latex": [
       "$\\displaystyle \\frac{\\partial}{\\partial z} \\log{\\left(\\frac{\\sigma{\\left(x + z,g_{2},g_{3} \\right)}}{\\sigma{\\left(x,g_{2},g_{3} \\right)} \\sigma{\\left(z,g_{2},g_{3} \\right)}} \\right)} = \\frac{\\left. \\frac{\\partial}{\\partial \\xi_{1}} \\sigma{\\left(\\xi_{1},g_{2},g_{3} \\right)} \\right|_{\\substack{ \\xi_{1}=x + z }}}{\\sigma{\\left(x + z,g_{2},g_{3} \\right)}} - \\frac{\\frac{\\partial}{\\partial z} \\sigma{\\left(z,g_{2},g_{3} \\right)}}{\\sigma{\\left(z,g_{2},g_{3} \\right)}}$"
      ],
      "text/plain": [
       "Eq(Derivative(log(sigma(x + z, g2, g3)/(sigma(x, g2, g3)*sigma(z, g2, g3))), z), Subs(Derivative(sigma(_xi_1, g2, g3), _xi_1), _xi_1, x + z)/sigma(x + z, g2, g3) - Derivative(sigma(z, g2, g3), z)/sigma(z, g2, g3))"
      ]
     },
     "execution_count": 65,
     "metadata": {},
     "output_type": "execute_result"
    }
   ],
   "source": [
    "log_sigma_x_plus_z_diff = Eq(Derivative(log(sigma(z + x,g2,g3)/sigma(z,g2,g3)/sigma(x,g2,g3)),z), \n",
    "   diff(log(sigma(z + x,g2,g3)/sigma(z,g2,g3)/sigma(x,g2,g3)),z).expand()\n",
    "  )\n",
    "log_sigma_x_plus_z_diff"
   ]
  },
  {
   "cell_type": "code",
   "execution_count": 66,
   "metadata": {},
   "outputs": [
    {
     "data": {
      "text/latex": [
       "$\\displaystyle \\operatorname{zw}{\\left(x + z,g_{2},g_{3} \\right)} = \\frac{\\left. \\frac{\\partial}{\\partial \\xi_{1}} \\sigma{\\left(\\xi_{1},g_{2},g_{3} \\right)} \\right|_{\\substack{ \\xi_{1}=x + z }}}{\\sigma{\\left(x + z,g_{2},g_{3} \\right)}}$"
      ],
      "text/plain": [
       "Eq(zw(x + z, g2, g3), Subs(Derivative(sigma(z, g2, g3), z), z, x + z)/sigma(x + z, g2, g3))"
      ]
     },
     "execution_count": 66,
     "metadata": {},
     "output_type": "execute_result"
    }
   ],
   "source": [
    "zeta_eq.subs(z,z+x)"
   ]
  },
  {
   "cell_type": "code",
   "execution_count": 67,
   "metadata": {},
   "outputs": [
    {
     "data": {
      "text/latex": [
       "$\\displaystyle \\frac{\\partial}{\\partial z} \\log{\\left(\\frac{\\sigma{\\left(x + z,g_{2},g_{3} \\right)}}{\\sigma{\\left(x,g_{2},g_{3} \\right)} \\sigma{\\left(z,g_{2},g_{3} \\right)}} \\right)} = - \\operatorname{zw}{\\left(z,g_{2},g_{3} \\right)} + \\operatorname{zw}{\\left(x + z,g_{2},g_{3} \\right)}$"
      ],
      "text/plain": [
       "Eq(Derivative(log(sigma(x + z, g2, g3)/(sigma(x, g2, g3)*sigma(z, g2, g3))), z), -zw(z, g2, g3) + zw(x + z, g2, g3))"
      ]
     },
     "execution_count": 67,
     "metadata": {},
     "output_type": "execute_result"
    }
   ],
   "source": [
    "log_sig_ratio_zx = Eq(log_sigma_x_plus_z_diff.lhs, \n",
    "   log_sigma_x_plus_z_diff.rhs \n",
    "   + zeta_eq.subs(z,z+x).lhs - zeta_eq.subs(z,z+x).rhs\n",
    "   - zeta_eq.lhs + zeta_eq.rhs\n",
    "  )\n",
    "\n",
    "log_sig_ratio_zx"
   ]
  },
  {
   "cell_type": "code",
   "execution_count": 68,
   "metadata": {},
   "outputs": [
    {
     "data": {
      "text/latex": [
       "$\\displaystyle \\frac{\\operatorname{pwp}{\\left(x,g_{2},g_{3} \\right)} - \\operatorname{pwp}{\\left(z,g_{2},g_{3} \\right)}}{2 \\left(\\operatorname{pw}{\\left(x,g_{2},g_{3} \\right)} - \\operatorname{pw}{\\left(z,g_{2},g_{3} \\right)}\\right)} = - \\operatorname{zw}{\\left(x,g_{2},g_{3} \\right)} - \\operatorname{zw}{\\left(z,g_{2},g_{3} \\right)} + \\operatorname{zw}{\\left(x + z,g_{2},g_{3} \\right)}$"
      ],
      "text/plain": [
       "Eq((pwp(x, g2, g3) - pwp(z, g2, g3))/(2*(pw(x, g2, g3) - pw(z, g2, g3))), -zw(x, g2, g3) - zw(z, g2, g3) + zw(x + z, g2, g3))"
      ]
     },
     "execution_count": 68,
     "metadata": {},
     "output_type": "execute_result"
    }
   ],
   "source": [
    "pw_to_zw_identity.subs(y,z)"
   ]
  },
  {
   "cell_type": "code",
   "execution_count": 69,
   "metadata": {},
   "outputs": [
    {
     "data": {
      "text/latex": [
       "$\\displaystyle \\frac{\\partial}{\\partial z} \\log{\\left(\\frac{\\sigma{\\left(x + z,g_{2},g_{3} \\right)}}{\\sigma{\\left(x,g_{2},g_{3} \\right)} \\sigma{\\left(z,g_{2},g_{3} \\right)}} \\right)} = \\operatorname{zw}{\\left(x,g_{2},g_{3} \\right)} + \\frac{\\operatorname{pwp}{\\left(x,g_{2},g_{3} \\right)} - \\operatorname{pwp}{\\left(z,g_{2},g_{3} \\right)}}{2 \\left(\\operatorname{pw}{\\left(x,g_{2},g_{3} \\right)} - \\operatorname{pw}{\\left(z,g_{2},g_{3} \\right)}\\right)}$"
      ],
      "text/plain": [
       "Eq(Derivative(log(sigma(x + z, g2, g3)/(sigma(x, g2, g3)*sigma(z, g2, g3))), z), zw(x, g2, g3) + (pwp(x, g2, g3) - pwp(z, g2, g3))/(2*(pw(x, g2, g3) - pw(z, g2, g3))))"
      ]
     },
     "execution_count": 69,
     "metadata": {},
     "output_type": "execute_result"
    }
   ],
   "source": [
    "log_sig_ratio_zx_p_conj = Eq(log_sig_ratio_zx.lhs, \n",
    "   log_sig_ratio_zx.rhs + pw_to_zw_identity.subs(y,z).lhs - pw_to_zw_identity.subs(y,z).rhs\n",
    "  )\n",
    "log_sig_ratio_zx_p_conj"
   ]
  },
  {
   "cell_type": "code",
   "execution_count": 70,
   "metadata": {},
   "outputs": [
    {
     "data": {
      "text/latex": [
       "$\\displaystyle \\frac{\\partial}{\\partial z} \\log{\\left(\\frac{\\sigma{\\left(- x + z,g_{2},g_{3} \\right)}}{\\sigma{\\left(x,g_{2},g_{3} \\right)} \\sigma{\\left(z,g_{2},g_{3} \\right)}} \\right)} = - \\operatorname{zw}{\\left(x,g_{2},g_{3} \\right)} + \\frac{- \\operatorname{pwp}{\\left(x,g_{2},g_{3} \\right)} - \\operatorname{pwp}{\\left(z,g_{2},g_{3} \\right)}}{2 \\left(\\operatorname{pw}{\\left(x,g_{2},g_{3} \\right)} - \\operatorname{pw}{\\left(z,g_{2},g_{3} \\right)}\\right)}$"
      ],
      "text/plain": [
       "Eq(Derivative(log(sigma(-x + z, g2, g3)/(sigma(x, g2, g3)*sigma(z, g2, g3))), z), -zw(x, g2, g3) + (-pwp(x, g2, g3) - pwp(z, g2, g3))/(2*(pw(x, g2, g3) - pw(z, g2, g3))))"
      ]
     },
     "execution_count": 70,
     "metadata": {},
     "output_type": "execute_result"
    }
   ],
   "source": [
    "log_sig_ratio_zx_p = Eq(log_sig_ratio_zx.lhs, \n",
    "   log_sig_ratio_zx.rhs + pw_to_zw_identity.subs(y,z).lhs - pw_to_zw_identity.subs(y,z).rhs\n",
    "  ).subs(x,-x).subs([\n",
    "    (sigma(-x,g2,g3), -sigma(x,g2,g3)),\n",
    "    (zw(-x,g2,g3), -zw(x,g2,g3)),\n",
    "    (pwp(-x,g2,g3), -pwp(x,g2,g3)),\n",
    "    (pw(-x,g2,g3), pw(x,g2,g3))\n",
    "]).subs(Derivative(log(-sigma(-x+z,g2,g3)/sigma(z,g2,g3)/sigma(x,g2,g3)),z), \n",
    "        Derivative(log(sigma(-x+z,g2,g3)/sigma(z,g2,g3)/sigma(x,g2,g3)),z))\n",
    "log_sig_ratio_zx_p"
   ]
  },
  {
   "cell_type": "markdown",
   "metadata": {},
   "source": [
    "## Frobenius Stickelberger Elliptic Function Determinant Formula"
   ]
  },
  {
   "cell_type": "markdown",
   "metadata": {},
   "source": [
    "The following addition formula is from Whittaker and Watson 5th edition Example 20.21 p481. It relates a product of Weierstrass Sigma functions to a matrix determinant of the Weierstrass P function and its derivatives. It is attributed to Frobenius and Stickelberger (the author of this current work has attempted an english translation and digitalisation of the original paper). The author of this work considers this identity to be of considerbale importance as it relates a product of $N$ Weierstrass Sigma ratios, each distinguised by a parmeter $\\xi_n$ plus the two invariants $g_2, g_3$, to a polynomial in the Weierstrass P function formed with the same invariants. It will be shown how this can be thought of as relating four-wave mixing terms which provide nonlinear coupling, to phase modulation terms which enable decoupling and hence solvability/integrability.\n",
    "\n",
    "As it is difficult to display the general case for an arbitrary $N$ dimensional matrix in Python, the identity is defined as a Python function and then the first few cases are displayed for low $N$ to give an idea of the nature of the identity. Some of the low order cases are recognisable as well know Weierstrass Elliptic function identities (in fact the author would go so far as to guess that most identities of such a nature that are frequently \"discovered\" are special cases of the FS determinant formula). Some of the low order identities are also typed in explicitly from the literature and compared to the function output for the general case as a test to check for errors in the implementation of the general formula."
   ]
  },
  {
   "cell_type": "markdown",
   "metadata": {},
   "source": [
    "### The Determinant of Derivatives of Weierstrass P Functions\n",
    "\n",
    "Let $\\mathrm{WPdet}$ denote the following matrix determinant of derivatives of the Weiertrass P function. In general, the $N$ dimensional case is a function of $N+1$ free complex parameters $\\mu_n$ and two free complex ellptic invariants $g_2,g_3$, where \"free\" means their values can be arbitrarily assigned and still satisfy the identity. To simplify the notation not all parameters will always be specified but the following should be considered equivalent:"
   ]
  },
  {
   "cell_type": "code",
   "execution_count": 71,
   "metadata": {},
   "outputs": [
    {
     "data": {
      "text/latex": [
       "$\\displaystyle \\operatorname{WPdet}{\\left(N \\right)} = \\operatorname{WPdet}{\\left({\\mu}_{n},g_{2},g_{3} \\right)}$"
      ],
      "text/plain": [
       "Eq(WPdet(N), WPdet(mu[n], g2, g3))"
      ]
     },
     "execution_count": 71,
     "metadata": {},
     "output_type": "execute_result"
    }
   ],
   "source": [
    "Eq(WPdet(N), WPdet(mu[n], g2, g3))"
   ]
  },
  {
   "cell_type": "code",
   "execution_count": 72,
   "metadata": {},
   "outputs": [],
   "source": [
    "def p_matrix_f_s(N): \n",
    "    return Matrix([[1, *[pw(x,g2,g3).diff((x,j)).subs(x,mu[k]) for j in range(N)]] for k in range(N+1)])"
   ]
  },
  {
   "cell_type": "code",
   "execution_count": 73,
   "metadata": {},
   "outputs": [
    {
     "data": {
      "text/latex": [
       "$\\displaystyle \\operatorname{WPdet}{\\left(1 \\right)} = \\operatorname{Det}{\\left(\\left[\\begin{matrix}1 & \\operatorname{pw}{\\left({\\mu}_{0},g_{2},g_{3} \\right)}\\\\1 & \\operatorname{pw}{\\left({\\mu}_{1},g_{2},g_{3} \\right)}\\end{matrix}\\right] \\right)}$"
      ],
      "text/plain": [
       "Eq(WPdet(1), Det(Matrix([\n",
       "[1, pw(mu[0], g2, g3)],\n",
       "[1, pw(mu[1], g2, g3)]])))"
      ]
     },
     "execution_count": 73,
     "metadata": {},
     "output_type": "execute_result"
    }
   ],
   "source": [
    "Eq(WPdet(1), Det(p_matrix_f_s(1)))"
   ]
  },
  {
   "cell_type": "code",
   "execution_count": 74,
   "metadata": {},
   "outputs": [
    {
     "data": {
      "text/latex": [
       "$\\displaystyle \\operatorname{WPdet}{\\left(2 \\right)} = \\operatorname{Det}{\\left(\\left[\\begin{matrix}1 & \\operatorname{pw}{\\left({\\mu}_{0},g_{2},g_{3} \\right)} & \\frac{\\partial}{\\partial {\\mu}_{0}} \\operatorname{pw}{\\left({\\mu}_{0},g_{2},g_{3} \\right)}\\\\1 & \\operatorname{pw}{\\left({\\mu}_{1},g_{2},g_{3} \\right)} & \\frac{\\partial}{\\partial {\\mu}_{1}} \\operatorname{pw}{\\left({\\mu}_{1},g_{2},g_{3} \\right)}\\\\1 & \\operatorname{pw}{\\left({\\mu}_{2},g_{2},g_{3} \\right)} & \\frac{\\partial}{\\partial {\\mu}_{2}} \\operatorname{pw}{\\left({\\mu}_{2},g_{2},g_{3} \\right)}\\end{matrix}\\right] \\right)}$"
      ],
      "text/plain": [
       "Eq(WPdet(2), Det(Matrix([\n",
       "[1, pw(mu[0], g2, g3), Derivative(pw(mu[0], g2, g3), mu[0])],\n",
       "[1, pw(mu[1], g2, g3), Derivative(pw(mu[1], g2, g3), mu[1])],\n",
       "[1, pw(mu[2], g2, g3), Derivative(pw(mu[2], g2, g3), mu[2])]])))"
      ]
     },
     "execution_count": 74,
     "metadata": {},
     "output_type": "execute_result"
    }
   ],
   "source": [
    "Eq(WPdet(2), Det(p_matrix_f_s(2)))"
   ]
  },
  {
   "cell_type": "code",
   "execution_count": 75,
   "metadata": {},
   "outputs": [
    {
     "data": {
      "text/latex": [
       "$\\displaystyle \\operatorname{WPdet}{\\left(3 \\right)} = \\operatorname{Det}{\\left(\\left[\\begin{matrix}1 & \\operatorname{pw}{\\left({\\mu}_{0},g_{2},g_{3} \\right)} & \\frac{\\partial}{\\partial {\\mu}_{0}} \\operatorname{pw}{\\left({\\mu}_{0},g_{2},g_{3} \\right)} & \\frac{\\partial^{2}}{\\partial {\\mu}_{0}^{2}} \\operatorname{pw}{\\left({\\mu}_{0},g_{2},g_{3} \\right)}\\\\1 & \\operatorname{pw}{\\left({\\mu}_{1},g_{2},g_{3} \\right)} & \\frac{\\partial}{\\partial {\\mu}_{1}} \\operatorname{pw}{\\left({\\mu}_{1},g_{2},g_{3} \\right)} & \\frac{\\partial^{2}}{\\partial {\\mu}_{1}^{2}} \\operatorname{pw}{\\left({\\mu}_{1},g_{2},g_{3} \\right)}\\\\1 & \\operatorname{pw}{\\left({\\mu}_{2},g_{2},g_{3} \\right)} & \\frac{\\partial}{\\partial {\\mu}_{2}} \\operatorname{pw}{\\left({\\mu}_{2},g_{2},g_{3} \\right)} & \\frac{\\partial^{2}}{\\partial {\\mu}_{2}^{2}} \\operatorname{pw}{\\left({\\mu}_{2},g_{2},g_{3} \\right)}\\\\1 & \\operatorname{pw}{\\left({\\mu}_{3},g_{2},g_{3} \\right)} & \\frac{\\partial}{\\partial {\\mu}_{3}} \\operatorname{pw}{\\left({\\mu}_{3},g_{2},g_{3} \\right)} & \\frac{\\partial^{2}}{\\partial {\\mu}_{3}^{2}} \\operatorname{pw}{\\left({\\mu}_{3},g_{2},g_{3} \\right)}\\end{matrix}\\right] \\right)}$"
      ],
      "text/plain": [
       "Eq(WPdet(3), Det(Matrix([\n",
       "[1, pw(mu[0], g2, g3), Derivative(pw(mu[0], g2, g3), mu[0]), Derivative(pw(mu[0], g2, g3), (mu[0], 2))],\n",
       "[1, pw(mu[1], g2, g3), Derivative(pw(mu[1], g2, g3), mu[1]), Derivative(pw(mu[1], g2, g3), (mu[1], 2))],\n",
       "[1, pw(mu[2], g2, g3), Derivative(pw(mu[2], g2, g3), mu[2]), Derivative(pw(mu[2], g2, g3), (mu[2], 2))],\n",
       "[1, pw(mu[3], g2, g3), Derivative(pw(mu[3], g2, g3), mu[3]), Derivative(pw(mu[3], g2, g3), (mu[3], 2))]])))"
      ]
     },
     "execution_count": 75,
     "metadata": {},
     "output_type": "execute_result"
    }
   ],
   "source": [
    "Eq(WPdet(3), Det(p_matrix_f_s(3)))"
   ]
  },
  {
   "cell_type": "markdown",
   "metadata": {},
   "source": [
    "### Products of Weierstarss Sigma Functions and the FS Determinant Formula Definition\n",
    "\n",
    "The FS determinant fromula relates the determinnat of derivatives of the Weierstrass P function, to products of Weierstrass Sigma functions. It is defined as:"
   ]
  },
  {
   "cell_type": "code",
   "execution_count": 76,
   "metadata": {},
   "outputs": [],
   "source": [
    "sigma_product_f_s = (\n",
    "    (-1)**(N*(N-1)/2)*\n",
    "    Product(factorial(k),(k,1,N))*\n",
    "    sigma(Sum(mu[j],(j,0,N)),g2,g3)*\n",
    "    Product(Product(Piecewise((sigma(mu[l] - mu[m], g2, g3),l<m),(1,True)),(l,0,N)),(m,0,N))/\n",
    "    Product(sigma(mu[n],g2,g3)**(N+1),(n,0,N))\n",
    ")\n",
    "\n",
    "def frob_stick(Nval, evaluated=False, WPversion=False):\n",
    "    if evaluated:\n",
    "        return Eq(p_matrix_f_s(Nval).det(), sigma_product_f_s.subs(N,Nval).doit())\n",
    "    elif WPversion:\n",
    "        return Eq(WPdet(Nval), sigma_product_f_s.subs(N,Nval).doit())\n",
    "    return Eq(Det(p_matrix_f_s(Nval)), sigma_product_f_s.subs(N,Nval).doit())"
   ]
  },
  {
   "cell_type": "code",
   "execution_count": 77,
   "metadata": {},
   "outputs": [
    {
     "data": {
      "text/latex": [
       "$\\displaystyle \\operatorname{WPdet}{\\left(N \\right)} = \\frac{\\left(-1\\right)^{\\frac{N \\left(N - 1\\right)}{2}} \\left(\\sigma{\\left(\\sum_{j=0}^{N} {\\mu}_{j},g_{2},g_{3} \\right)}\\right) \\left(\\prod_{k=1}^{N} k!\\right) \\prod_{\\substack{0 \\leq l \\leq N\\\\0 \\leq m \\leq N}} \\begin{cases} \\sigma{\\left({\\mu}_{l} - {\\mu}_{m},g_{2},g_{3} \\right)} & \\text{for}\\: l < m \\\\1 & \\text{otherwise} \\end{cases}}{\\prod_{n=0}^{N} \\sigma^{N + 1}{\\left({\\mu}_{n},g_{2},g_{3} \\right)}}$"
      ],
      "text/plain": [
       "Eq(WPdet(N), (-1)**(N*(N - 1)/2)*sigma(Sum(mu[j], (j, 0, N)), g2, g3)*Product(factorial(k), (k, 1, N))*Product(Piecewise((sigma(mu[l] - mu[m], g2, g3), l < m), (1, True)), (l, 0, N), (m, 0, N))/Product(sigma(mu[n], g2, g3)**(N + 1), (n, 0, N)))"
      ]
     },
     "execution_count": 77,
     "metadata": {},
     "output_type": "execute_result"
    }
   ],
   "source": [
    "Eq(WPdet(N), sigma_product_f_s)"
   ]
  },
  {
   "cell_type": "markdown",
   "metadata": {},
   "source": [
    "### N=1 Case \n",
    "\n",
    "The $N=1$ cases gives the familiar relation between Sigma and Weierstrass P in Ex 20.5.2 p473 Whittaker and Watson 5th edition. Typed in explicitly from the literature for testing purposes this identity is:"
   ]
  },
  {
   "cell_type": "code",
   "execution_count": 78,
   "metadata": {},
   "outputs": [
    {
     "data": {
      "text/latex": [
       "$\\displaystyle - \\operatorname{pw}{\\left(x,g_{2},g_{3} \\right)} + \\operatorname{pw}{\\left(y,g_{2},g_{3} \\right)} = \\frac{\\sigma{\\left(x - y,g_{2},g_{3} \\right)} \\sigma{\\left(x + y,g_{2},g_{3} \\right)}}{\\sigma^{2}{\\left(x,g_{2},g_{3} \\right)} \\sigma^{2}{\\left(y,g_{2},g_{3} \\right)}}$"
      ],
      "text/plain": [
       "Eq(-pw(x, g2, g3) + pw(y, g2, g3), sigma(x - y, g2, g3)*sigma(x + y, g2, g3)/(sigma(x, g2, g3)**2*sigma(y, g2, g3)**2))"
      ]
     },
     "execution_count": 78,
     "metadata": {},
     "output_type": "execute_result"
    }
   ],
   "source": [
    "sigma_p_identity"
   ]
  },
  {
   "cell_type": "markdown",
   "metadata": {},
   "source": [
    "The FS determinant formula typed into this notebook for the $N=1$ case gives:"
   ]
  },
  {
   "cell_type": "code",
   "execution_count": 79,
   "metadata": {},
   "outputs": [
    {
     "data": {
      "text/latex": [
       "$\\displaystyle \\operatorname{WPdet}{\\left(1 \\right)} = \\frac{\\sigma{\\left({\\mu}_{0} - {\\mu}_{1},g_{2},g_{3} \\right)} \\sigma{\\left({\\mu}_{0} + {\\mu}_{1},g_{2},g_{3} \\right)}}{\\sigma^{2}{\\left({\\mu}_{0},g_{2},g_{3} \\right)} \\sigma^{2}{\\left({\\mu}_{1},g_{2},g_{3} \\right)}}$"
      ],
      "text/plain": [
       "Eq(WPdet(1), sigma(mu[0] - mu[1], g2, g3)*sigma(mu[0] + mu[1], g2, g3)/(sigma(mu[0], g2, g3)**2*sigma(mu[1], g2, g3)**2))"
      ]
     },
     "execution_count": 79,
     "metadata": {},
     "output_type": "execute_result"
    }
   ],
   "source": [
    "frob_stick(1, WPversion=True)"
   ]
  },
  {
   "cell_type": "code",
   "execution_count": 80,
   "metadata": {
    "scrolled": true
   },
   "outputs": [
    {
     "data": {
      "text/latex": [
       "$\\displaystyle \\operatorname{Det}{\\left(\\left[\\begin{matrix}1 & \\operatorname{pw}{\\left({\\mu}_{0},g_{2},g_{3} \\right)}\\\\1 & \\operatorname{pw}{\\left({\\mu}_{1},g_{2},g_{3} \\right)}\\end{matrix}\\right] \\right)} = \\frac{\\sigma{\\left({\\mu}_{0} - {\\mu}_{1},g_{2},g_{3} \\right)} \\sigma{\\left({\\mu}_{0} + {\\mu}_{1},g_{2},g_{3} \\right)}}{\\sigma^{2}{\\left({\\mu}_{0},g_{2},g_{3} \\right)} \\sigma^{2}{\\left({\\mu}_{1},g_{2},g_{3} \\right)}}$"
      ],
      "text/plain": [
       "Eq(Det(Matrix([\n",
       "[1, pw(mu[0], g2, g3)],\n",
       "[1, pw(mu[1], g2, g3)]])), sigma(mu[0] - mu[1], g2, g3)*sigma(mu[0] + mu[1], g2, g3)/(sigma(mu[0], g2, g3)**2*sigma(mu[1], g2, g3)**2))"
      ]
     },
     "execution_count": 80,
     "metadata": {},
     "output_type": "execute_result"
    }
   ],
   "source": [
    "frob_stick(1)"
   ]
  },
  {
   "cell_type": "code",
   "execution_count": 81,
   "metadata": {},
   "outputs": [
    {
     "data": {
      "text/latex": [
       "$\\displaystyle - \\operatorname{pw}{\\left({\\mu}_{0},g_{2},g_{3} \\right)} + \\operatorname{pw}{\\left({\\mu}_{1},g_{2},g_{3} \\right)} = \\frac{\\sigma{\\left({\\mu}_{0} - {\\mu}_{1},g_{2},g_{3} \\right)} \\sigma{\\left({\\mu}_{0} + {\\mu}_{1},g_{2},g_{3} \\right)}}{\\sigma^{2}{\\left({\\mu}_{0},g_{2},g_{3} \\right)} \\sigma^{2}{\\left({\\mu}_{1},g_{2},g_{3} \\right)}}$"
      ],
      "text/plain": [
       "Eq(-pw(mu[0], g2, g3) + pw(mu[1], g2, g3), sigma(mu[0] - mu[1], g2, g3)*sigma(mu[0] + mu[1], g2, g3)/(sigma(mu[0], g2, g3)**2*sigma(mu[1], g2, g3)**2))"
      ]
     },
     "execution_count": 81,
     "metadata": {},
     "output_type": "execute_result"
    }
   ],
   "source": [
    "frob_stick(1, evaluated=True)"
   ]
  },
  {
   "cell_type": "markdown",
   "metadata": {},
   "source": [
    "The test shows these to be equivalent:"
   ]
  },
  {
   "cell_type": "code",
   "execution_count": 82,
   "metadata": {},
   "outputs": [
    {
     "data": {
      "text/plain": [
       "False"
      ]
     },
     "execution_count": 82,
     "metadata": {},
     "output_type": "execute_result"
    }
   ],
   "source": [
    "N_1_case_f_s = frob_stick(1, evaluated=True).subs([(mu[0],x),(mu[1],z)])\n",
    "(N_1_case_f_s.rhs - sigma_p_identity.lhs == 0) & (N_1_case_f_s.lhs - sigma_p_identity.rhs == 0)"
   ]
  },
  {
   "cell_type": "markdown",
   "metadata": {},
   "source": [
    "### N=2 Case \n",
    "\n",
    "The $N=2$ case gives the example in Ex 20.20 Whittaker and Watson 5th edition p481. Typed in explicitly from the literature for testing purposes this identity is:"
   ]
  },
  {
   "cell_type": "code",
   "execution_count": 83,
   "metadata": {
    "scrolled": true
   },
   "outputs": [
    {
     "data": {
      "text/latex": [
       "$\\displaystyle \\operatorname{pw}{\\left(x,g_{2},g_{3} \\right)} \\operatorname{pwp}{\\left(y,g_{2},g_{3} \\right)} - \\operatorname{pw}{\\left(x,g_{2},g_{3} \\right)} \\operatorname{pwp}{\\left(z,g_{2},g_{3} \\right)} - \\operatorname{pw}{\\left(y,g_{2},g_{3} \\right)} \\operatorname{pwp}{\\left(x,g_{2},g_{3} \\right)} + \\operatorname{pw}{\\left(y,g_{2},g_{3} \\right)} \\operatorname{pwp}{\\left(z,g_{2},g_{3} \\right)} + \\operatorname{pw}{\\left(z,g_{2},g_{3} \\right)} \\operatorname{pwp}{\\left(x,g_{2},g_{3} \\right)} - \\operatorname{pw}{\\left(z,g_{2},g_{3} \\right)} \\operatorname{pwp}{\\left(y,g_{2},g_{3} \\right)} = - \\frac{2 \\sigma{\\left(x - y,g_{2},g_{3} \\right)} \\sigma{\\left(x - z,g_{2},g_{3} \\right)} \\sigma{\\left(y - z,g_{2},g_{3} \\right)} \\sigma{\\left(x + y + z,g_{2},g_{3} \\right)}}{\\sigma^{3}{\\left(x,g_{2},g_{3} \\right)} \\sigma^{3}{\\left(y,g_{2},g_{3} \\right)} \\sigma^{3}{\\left(z,g_{2},g_{3} \\right)}}$"
      ],
      "text/plain": [
       "Eq(pw(x, g2, g3)*pwp(y, g2, g3) - pw(x, g2, g3)*pwp(z, g2, g3) - pw(y, g2, g3)*pwp(x, g2, g3) + pw(y, g2, g3)*pwp(z, g2, g3) + pw(z, g2, g3)*pwp(x, g2, g3) - pw(z, g2, g3)*pwp(y, g2, g3), -2*sigma(x - y, g2, g3)*sigma(x - z, g2, g3)*sigma(y - z, g2, g3)*sigma(x + y + z, g2, g3)/(sigma(x, g2, g3)**3*sigma(y, g2, g3)**3*sigma(z, g2, g3)**3))"
      ]
     },
     "execution_count": 83,
     "metadata": {},
     "output_type": "execute_result"
    }
   ],
   "source": [
    "sigma_3_vars_det_id"
   ]
  },
  {
   "cell_type": "markdown",
   "metadata": {},
   "source": [
    "The FS determinant formula typed into this notebook for the $N=2$ case gives:"
   ]
  },
  {
   "cell_type": "code",
   "execution_count": 84,
   "metadata": {},
   "outputs": [
    {
     "data": {
      "text/latex": [
       "$\\displaystyle \\operatorname{WPdet}{\\left(2 \\right)} = - \\frac{2 \\sigma{\\left({\\mu}_{0} - {\\mu}_{1},g_{2},g_{3} \\right)} \\sigma{\\left({\\mu}_{0} - {\\mu}_{2},g_{2},g_{3} \\right)} \\sigma{\\left({\\mu}_{1} - {\\mu}_{2},g_{2},g_{3} \\right)} \\sigma{\\left({\\mu}_{0} + {\\mu}_{1} + {\\mu}_{2},g_{2},g_{3} \\right)}}{\\sigma^{3}{\\left({\\mu}_{0},g_{2},g_{3} \\right)} \\sigma^{3}{\\left({\\mu}_{1},g_{2},g_{3} \\right)} \\sigma^{3}{\\left({\\mu}_{2},g_{2},g_{3} \\right)}}$"
      ],
      "text/plain": [
       "Eq(WPdet(2), -2*sigma(mu[0] - mu[1], g2, g3)*sigma(mu[0] - mu[2], g2, g3)*sigma(mu[1] - mu[2], g2, g3)*sigma(mu[0] + mu[1] + mu[2], g2, g3)/(sigma(mu[0], g2, g3)**3*sigma(mu[1], g2, g3)**3*sigma(mu[2], g2, g3)**3))"
      ]
     },
     "execution_count": 84,
     "metadata": {},
     "output_type": "execute_result"
    }
   ],
   "source": [
    "frob_stick(2, WPversion=True)"
   ]
  },
  {
   "cell_type": "code",
   "execution_count": 85,
   "metadata": {},
   "outputs": [
    {
     "data": {
      "text/latex": [
       "$\\displaystyle \\operatorname{Det}{\\left(\\left[\\begin{matrix}1 & \\operatorname{pw}{\\left({\\mu}_{0},g_{2},g_{3} \\right)} & \\frac{\\partial}{\\partial {\\mu}_{0}} \\operatorname{pw}{\\left({\\mu}_{0},g_{2},g_{3} \\right)}\\\\1 & \\operatorname{pw}{\\left({\\mu}_{1},g_{2},g_{3} \\right)} & \\frac{\\partial}{\\partial {\\mu}_{1}} \\operatorname{pw}{\\left({\\mu}_{1},g_{2},g_{3} \\right)}\\\\1 & \\operatorname{pw}{\\left({\\mu}_{2},g_{2},g_{3} \\right)} & \\frac{\\partial}{\\partial {\\mu}_{2}} \\operatorname{pw}{\\left({\\mu}_{2},g_{2},g_{3} \\right)}\\end{matrix}\\right] \\right)} = - \\frac{2 \\sigma{\\left({\\mu}_{0} - {\\mu}_{1},g_{2},g_{3} \\right)} \\sigma{\\left({\\mu}_{0} - {\\mu}_{2},g_{2},g_{3} \\right)} \\sigma{\\left({\\mu}_{1} - {\\mu}_{2},g_{2},g_{3} \\right)} \\sigma{\\left({\\mu}_{0} + {\\mu}_{1} + {\\mu}_{2},g_{2},g_{3} \\right)}}{\\sigma^{3}{\\left({\\mu}_{0},g_{2},g_{3} \\right)} \\sigma^{3}{\\left({\\mu}_{1},g_{2},g_{3} \\right)} \\sigma^{3}{\\left({\\mu}_{2},g_{2},g_{3} \\right)}}$"
      ],
      "text/plain": [
       "Eq(Det(Matrix([\n",
       "[1, pw(mu[0], g2, g3), Derivative(pw(mu[0], g2, g3), mu[0])],\n",
       "[1, pw(mu[1], g2, g3), Derivative(pw(mu[1], g2, g3), mu[1])],\n",
       "[1, pw(mu[2], g2, g3), Derivative(pw(mu[2], g2, g3), mu[2])]])), -2*sigma(mu[0] - mu[1], g2, g3)*sigma(mu[0] - mu[2], g2, g3)*sigma(mu[1] - mu[2], g2, g3)*sigma(mu[0] + mu[1] + mu[2], g2, g3)/(sigma(mu[0], g2, g3)**3*sigma(mu[1], g2, g3)**3*sigma(mu[2], g2, g3)**3))"
      ]
     },
     "execution_count": 85,
     "metadata": {},
     "output_type": "execute_result"
    }
   ],
   "source": [
    "frob_stick(2)"
   ]
  },
  {
   "cell_type": "code",
   "execution_count": 86,
   "metadata": {},
   "outputs": [
    {
     "data": {
      "text/latex": [
       "$\\displaystyle \\operatorname{pw}{\\left({\\mu}_{0},g_{2},g_{3} \\right)} \\frac{\\partial}{\\partial {\\mu}_{1}} \\operatorname{pw}{\\left({\\mu}_{1},g_{2},g_{3} \\right)} - \\operatorname{pw}{\\left({\\mu}_{0},g_{2},g_{3} \\right)} \\frac{\\partial}{\\partial {\\mu}_{2}} \\operatorname{pw}{\\left({\\mu}_{2},g_{2},g_{3} \\right)} - \\operatorname{pw}{\\left({\\mu}_{1},g_{2},g_{3} \\right)} \\frac{\\partial}{\\partial {\\mu}_{0}} \\operatorname{pw}{\\left({\\mu}_{0},g_{2},g_{3} \\right)} + \\operatorname{pw}{\\left({\\mu}_{1},g_{2},g_{3} \\right)} \\frac{\\partial}{\\partial {\\mu}_{2}} \\operatorname{pw}{\\left({\\mu}_{2},g_{2},g_{3} \\right)} + \\operatorname{pw}{\\left({\\mu}_{2},g_{2},g_{3} \\right)} \\frac{\\partial}{\\partial {\\mu}_{0}} \\operatorname{pw}{\\left({\\mu}_{0},g_{2},g_{3} \\right)} - \\operatorname{pw}{\\left({\\mu}_{2},g_{2},g_{3} \\right)} \\frac{\\partial}{\\partial {\\mu}_{1}} \\operatorname{pw}{\\left({\\mu}_{1},g_{2},g_{3} \\right)} = - \\frac{2 \\sigma{\\left({\\mu}_{0} - {\\mu}_{1},g_{2},g_{3} \\right)} \\sigma{\\left({\\mu}_{0} - {\\mu}_{2},g_{2},g_{3} \\right)} \\sigma{\\left({\\mu}_{1} - {\\mu}_{2},g_{2},g_{3} \\right)} \\sigma{\\left({\\mu}_{0} + {\\mu}_{1} + {\\mu}_{2},g_{2},g_{3} \\right)}}{\\sigma^{3}{\\left({\\mu}_{0},g_{2},g_{3} \\right)} \\sigma^{3}{\\left({\\mu}_{1},g_{2},g_{3} \\right)} \\sigma^{3}{\\left({\\mu}_{2},g_{2},g_{3} \\right)}}$"
      ],
      "text/plain": [
       "Eq(pw(mu[0], g2, g3)*Derivative(pw(mu[1], g2, g3), mu[1]) - pw(mu[0], g2, g3)*Derivative(pw(mu[2], g2, g3), mu[2]) - pw(mu[1], g2, g3)*Derivative(pw(mu[0], g2, g3), mu[0]) + pw(mu[1], g2, g3)*Derivative(pw(mu[2], g2, g3), mu[2]) + pw(mu[2], g2, g3)*Derivative(pw(mu[0], g2, g3), mu[0]) - pw(mu[2], g2, g3)*Derivative(pw(mu[1], g2, g3), mu[1]), -2*sigma(mu[0] - mu[1], g2, g3)*sigma(mu[0] - mu[2], g2, g3)*sigma(mu[1] - mu[2], g2, g3)*sigma(mu[0] + mu[1] + mu[2], g2, g3)/(sigma(mu[0], g2, g3)**3*sigma(mu[1], g2, g3)**3*sigma(mu[2], g2, g3)**3))"
      ]
     },
     "execution_count": 86,
     "metadata": {},
     "output_type": "execute_result"
    }
   ],
   "source": [
    "frob_stick(2, evaluated=True)"
   ]
  },
  {
   "cell_type": "markdown",
   "metadata": {},
   "source": [
    "The test shows these to be equivalent:"
   ]
  },
  {
   "cell_type": "code",
   "execution_count": 87,
   "metadata": {},
   "outputs": [
    {
     "data": {
      "text/plain": [
       "True"
      ]
     },
     "execution_count": 87,
     "metadata": {},
     "output_type": "execute_result"
    }
   ],
   "source": [
    "N_2_case_f_s = frob_stick(2, evaluated=True).subs([\n",
    "    *[(Derivative(pw(mu[k], g2, g3), mu[k]), pwp(mu[k],g2,g3)) for k in range(2+1)]\n",
    "]).subs([(mu[0],x),(mu[1],y),(mu[2],z)])\n",
    "(sigma_3_vars_det_id.lhs-N_2_case_f_s.lhs == 0) & (sigma_3_vars_det_id.rhs-N_2_case_f_s.rhs == 0)"
   ]
  },
  {
   "cell_type": "markdown",
   "metadata": {},
   "source": [
    "## The one-dimensional z case"
   ]
  },
  {
   "cell_type": "markdown",
   "metadata": {},
   "source": [
    "In this section, it is shown that the product of sigma functions can be factored into a simpler form by dividing the determinant of the $N$ case by the determinant of the $N-1$ case. Thereafter, the final row of the $N$ dinensional matrix is considered to be a function of a single variable $z$ and the other rows are considered constants, therfore the $N-1$ case is a constant when considering only the $N^{th}$ row as a function of $z$. In this form, the $z$ variable would respresent distance along some optical waveguide while the $N-1$ parameters distinguish the modes."
   ]
  },
  {
   "cell_type": "code",
   "execution_count": 88,
   "metadata": {},
   "outputs": [
    {
     "data": {
      "text/plain": [
       "[True, True]"
      ]
     },
     "execution_count": 88,
     "metadata": {},
     "output_type": "execute_result"
    }
   ],
   "source": [
    "sigma_product_f_s_N_factored = (\n",
    "    (-1)**(N*(N-1)/2)*\n",
    "    Product(factorial(k),(k,1,N-1))*\n",
    "    factorial(N)*\n",
    "    sigma(Sum(mu[j],(j,0,N)),g2,g3)*\n",
    "    Product(Product(Piecewise((sigma(mu[l] - mu[m], g2, g3),l<m),(1,True)),(l,0,N-1)),(m,0,N-1))*\n",
    "    Product(Piecewise((sigma(mu[l] - mu[N], g2, g3),l<N),(1,True)),(l,0,N))/\n",
    "    Product(sigma(mu[n],g2,g3)**(N),(n,0,N))/\n",
    "    Product(sigma(mu[n],g2,g3),(n,0,N))\n",
    ")\n",
    "\n",
    "sigma_product_f_s_N_over_N_minus_1 = (sigma_product_f_s_N_factored/sigma_product_f_s.subs(N,N-1))\n",
    "\n",
    "sigma_product_f_s_N_over_N_minus_1_explicitly_typed = (\n",
    "    (-1)**(N*(N-1)/2)*\n",
    "    (-1)**(-(N-2)*(N-1)/2)*\n",
    "    sigma(Sum(mu[j],(j,0,N)),g2,g3)*\n",
    "    factorial(N)*\n",
    "    Product(Piecewise((sigma(mu[l] - mu[N], g2, g3),l<N),(1,True)),(l,0,N))*\n",
    "    Product(sigma(mu[n],g2,g3)**(N),(n,0,N-1))/\n",
    "    sigma(Sum(mu[j],(j,0,N-1)),g2,g3)/\n",
    "    Product(sigma(mu[n],g2,g3),(n,0,N))/\n",
    "    Product(sigma(mu[n],g2,g3)**N,(n,0,N))\n",
    ")\n",
    "\n",
    "subs1_list = [\n",
    "    (Product(Piecewise((sigma(mu[l] - mu[N], g2, g3),l<N),(1,True)),(l,0,N)), \n",
    "     (-1)**N*Product(sigma(z - xi[l], g2, g3),(l,0,N))/sigma(z - xi[N], g2, g3)),\n",
    "    (Product(sigma(mu[n],g2,g3),(n,0,N)),Product(sigma(xi[n],g2,g3),(n,0,N))*sigma(z,g2,g3)/sigma(xi[N],g2,g3)),\n",
    "    (sigma(Sum(mu[j],(j,0,N-1)),g2,g3),-sigma(xi[N],g2,g3)),\n",
    "    (Sum(mu[j],(j,0,N)),-xi[N]+z),\n",
    "    (sigma(mu[N],g2,g3),sigma(z,g2,g3))\n",
    "]\n",
    "subs2_list = [\n",
    "    ((-1)**(2*N)*Product(sigma(z - xi[l], g2, g3),(l,0,N)), \n",
    "   Product(sigma(z - xi[l], g2, g3)/sigma(xi[l], g2, g3)/sigma(z, g2, g3),(l,0,N)) *\n",
    "   Product(sigma(xi[n], g2, g3),(n,0,N)) *\n",
    "   (Product(sigma(z, g2, g3),(l,0,N)).doit()))\n",
    "]\n",
    "\n",
    "[(sigma_product_f_s - sigma_product_f_s_N_factored).subs(N,3).doit() == 0,\n",
    "(sigma_product_f_s_N_over_N_minus_1 - sigma_product_f_s_N_over_N_minus_1_explicitly_typed).simplify() == 0]"
   ]
  },
  {
   "cell_type": "code",
   "execution_count": 89,
   "metadata": {},
   "outputs": [
    {
     "data": {
      "text/latex": [
       "$\\displaystyle \\operatorname{WPdet}{\\left(N \\right)} = \\frac{\\left(-1\\right)^{\\frac{N \\left(N - 1\\right)}{2}} \\left(\\sigma{\\left(\\sum_{j=0}^{N} {\\mu}_{j},g_{2},g_{3} \\right)}\\right) N! \\left(\\prod_{l=0}^{N} \\begin{cases} \\sigma{\\left(- {\\mu}_{N} + {\\mu}_{l},g_{2},g_{3} \\right)} & \\text{for}\\: N > l \\\\1 & \\text{otherwise} \\end{cases}\\right) \\left(\\prod_{k=1}^{N - 1} k!\\right) \\prod_{\\substack{0 \\leq l \\leq N - 1\\\\0 \\leq m \\leq N - 1}} \\begin{cases} \\sigma{\\left({\\mu}_{l} - {\\mu}_{m},g_{2},g_{3} \\right)} & \\text{for}\\: l < m \\\\1 & \\text{otherwise} \\end{cases}}{\\left(\\prod_{n=0}^{N} \\sigma{\\left({\\mu}_{n},g_{2},g_{3} \\right)}\\right) \\prod_{n=0}^{N} \\sigma^{N}{\\left({\\mu}_{n},g_{2},g_{3} \\right)}}$"
      ],
      "text/plain": [
       "Eq(WPdet(N), (-1)**(N*(N - 1)/2)*sigma(Sum(mu[j], (j, 0, N)), g2, g3)*factorial(N)*Product(Piecewise((sigma(-mu[N] + mu[l], g2, g3), N > l), (1, True)), (l, 0, N))*Product(factorial(k), (k, 1, N - 1))*Product(Piecewise((sigma(mu[l] - mu[m], g2, g3), l < m), (1, True)), (l, 0, N - 1), (m, 0, N - 1))/(Product(sigma(mu[n], g2, g3), (n, 0, N))*Product(sigma(mu[n], g2, g3)**N, (n, 0, N))))"
      ]
     },
     "execution_count": 89,
     "metadata": {},
     "output_type": "execute_result"
    }
   ],
   "source": [
    "Eq(WPdet(N), sigma_product_f_s_N_factored)"
   ]
  },
  {
   "cell_type": "code",
   "execution_count": 90,
   "metadata": {},
   "outputs": [
    {
     "data": {
      "text/latex": [
       "$\\displaystyle \\frac{\\operatorname{WPdet}{\\left(N \\right)}}{\\operatorname{WPdet}{\\left(N - 1 \\right)}} = - \\frac{\\left(-1\\right)^{N} \\sigma^{- N}{\\left({\\mu}_{N},g_{2},g_{3} \\right)} \\left(\\sigma{\\left(\\sum_{j=0}^{N} {\\mu}_{j},g_{2},g_{3} \\right)}\\right) N! \\prod_{l=0}^{N} \\begin{cases} \\sigma{\\left(- {\\mu}_{N} + {\\mu}_{l},g_{2},g_{3} \\right)} & \\text{for}\\: N > l \\\\1 & \\text{otherwise} \\end{cases}}{\\left(\\sigma{\\left(\\sum_{j=0}^{N - 1} {\\mu}_{j},g_{2},g_{3} \\right)}\\right) \\prod_{n=0}^{N} \\sigma{\\left({\\mu}_{n},g_{2},g_{3} \\right)}}$"
      ],
      "text/plain": [
       "Eq(WPdet(N)/WPdet(N - 1), -(-1)**N*sigma(Sum(mu[j], (j, 0, N)), g2, g3)*factorial(N)*Product(Piecewise((sigma(-mu[N] + mu[l], g2, g3), N > l), (1, True)), (l, 0, N))/(sigma(mu[N], g2, g3)**N*sigma(Sum(mu[j], (j, 0, N - 1)), g2, g3)*Product(sigma(mu[n], g2, g3), (n, 0, N))))"
      ]
     },
     "execution_count": 90,
     "metadata": {},
     "output_type": "execute_result"
    }
   ],
   "source": [
    "wp_sigma_product_fs_N_over_N_minus_1_mu_n = Eq(WPdet(N)/WPdet(N-1), sigma_product_f_s_N_over_N_minus_1).subs(\n",
    "    Product(sigma(mu[n],g2,g3)**N,(n,0,N)),sigma(mu[N],g2,g3)**N*Product(sigma(mu[n],g2,g3)**N,(n,0,N-1))\n",
    ").expand()\n",
    "wp_sigma_product_fs_N_over_N_minus_1_mu_n"
   ]
  },
  {
   "cell_type": "markdown",
   "metadata": {},
   "source": [
    "The following parameters $\\xi_n$ and $z$ are defined in terms of $\\mu_n$:"
   ]
  },
  {
   "cell_type": "code",
   "execution_count": 91,
   "metadata": {},
   "outputs": [
    {
     "data": {
      "text/latex": [
       "$\\displaystyle {\\mu}_{N} = z$"
      ],
      "text/plain": [
       "Eq(mu[N], z)"
      ]
     },
     "execution_count": 91,
     "metadata": {},
     "output_type": "execute_result"
    }
   ],
   "source": [
    "Eq(mu[N],z)"
   ]
  },
  {
   "cell_type": "code",
   "execution_count": 92,
   "metadata": {},
   "outputs": [
    {
     "data": {
      "text/latex": [
       "$\\displaystyle {\\xi}_{k} = \\begin{cases} {\\mu}_{k} & \\text{for}\\: N > k \\\\- \\sum_{j=0}^{N - 1} {\\mu}_{j} & \\text{for}\\: N = k \\end{cases}$"
      ],
      "text/plain": [
       "Eq(xi[k], Piecewise((mu[k], N > k), (-Sum(mu[j], (j, 0, N - 1)), Eq(N, k))))"
      ]
     },
     "execution_count": 92,
     "metadata": {},
     "output_type": "execute_result"
    }
   ],
   "source": [
    "Eq(xi[k],Piecewise((mu[k],k<N),(-Sum(mu[j],(j,0,N-1)),Eq(k,N))))"
   ]
  },
  {
   "cell_type": "markdown",
   "metadata": {},
   "source": [
    "subject to the constraint:"
   ]
  },
  {
   "cell_type": "code",
   "execution_count": 93,
   "metadata": {},
   "outputs": [
    {
     "data": {
      "text/latex": [
       "$\\displaystyle \\sum_{j=0}^{N} {\\xi}_{j} = 0$"
      ],
      "text/plain": [
       "Eq(Sum(xi[j], (j, 0, N)), 0)"
      ]
     },
     "execution_count": 93,
     "metadata": {},
     "output_type": "execute_result"
    }
   ],
   "source": [
    "Eq(Sum(xi[j],(j,0,N)),0)"
   ]
  },
  {
   "cell_type": "markdown",
   "metadata": {},
   "source": [
    "It follows from the following consequential substitutions:"
   ]
  },
  {
   "cell_type": "code",
   "execution_count": 94,
   "metadata": {},
   "outputs": [
    {
     "data": {
      "text/latex": [
       "$\\displaystyle \\prod_{l=0}^{N} \\begin{cases} \\sigma{\\left(- {\\mu}_{N} + {\\mu}_{l},g_{2},g_{3} \\right)} & \\text{for}\\: N > l \\\\1 & \\text{otherwise} \\end{cases} = \\frac{\\left(-1\\right)^{N} \\prod_{l=0}^{N} \\sigma{\\left(z - {\\xi}_{l},g_{2},g_{3} \\right)}}{\\sigma{\\left(z - {\\xi}_{N},g_{2},g_{3} \\right)}}$"
      ],
      "text/plain": [
       "Eq(Product(Piecewise((sigma(-mu[N] + mu[l], g2, g3), N > l), (1, True)), (l, 0, N)), (-1)**N*Product(sigma(z - xi[l], g2, g3), (l, 0, N))/sigma(z - xi[N], g2, g3))"
      ]
     },
     "execution_count": 94,
     "metadata": {},
     "output_type": "execute_result"
    },
    {
     "data": {
      "text/latex": [
       "$\\displaystyle \\prod_{n=0}^{N} \\sigma{\\left({\\mu}_{n},g_{2},g_{3} \\right)} = \\frac{\\sigma{\\left(z,g_{2},g_{3} \\right)} \\prod_{n=0}^{N} \\sigma{\\left({\\xi}_{n},g_{2},g_{3} \\right)}}{\\sigma{\\left({\\xi}_{N},g_{2},g_{3} \\right)}}$"
      ],
      "text/plain": [
       "Eq(Product(sigma(mu[n], g2, g3), (n, 0, N)), sigma(z, g2, g3)*Product(sigma(xi[n], g2, g3), (n, 0, N))/sigma(xi[N], g2, g3))"
      ]
     },
     "execution_count": 94,
     "metadata": {},
     "output_type": "execute_result"
    },
    {
     "data": {
      "text/latex": [
       "$\\displaystyle \\sigma{\\left(\\sum_{j=0}^{N - 1} {\\mu}_{j},g_{2},g_{3} \\right)} = - \\sigma{\\left({\\xi}_{N},g_{2},g_{3} \\right)}$"
      ],
      "text/plain": [
       "Eq(sigma(Sum(mu[j], (j, 0, N - 1)), g2, g3), -sigma(xi[N], g2, g3))"
      ]
     },
     "execution_count": 94,
     "metadata": {},
     "output_type": "execute_result"
    },
    {
     "data": {
      "text/latex": [
       "$\\displaystyle \\sum_{j=0}^{N} {\\mu}_{j} = z - {\\xi}_{N}$"
      ],
      "text/plain": [
       "Eq(Sum(mu[j], (j, 0, N)), z - xi[N])"
      ]
     },
     "execution_count": 94,
     "metadata": {},
     "output_type": "execute_result"
    },
    {
     "data": {
      "text/latex": [
       "$\\displaystyle \\sigma{\\left({\\mu}_{N},g_{2},g_{3} \\right)} = \\sigma{\\left(z,g_{2},g_{3} \\right)}$"
      ],
      "text/plain": [
       "Eq(sigma(mu[N], g2, g3), sigma(z, g2, g3))"
      ]
     },
     "execution_count": 94,
     "metadata": {},
     "output_type": "execute_result"
    },
    {
     "data": {
      "text/latex": [
       "$\\displaystyle \\left(-1\\right)^{2 N} \\prod_{l=0}^{N} \\sigma{\\left(z - {\\xi}_{l},g_{2},g_{3} \\right)} = \\sigma^{N + 1}{\\left(z,g_{2},g_{3} \\right)} \\left(\\prod_{l=0}^{N} \\frac{\\sigma{\\left(z - {\\xi}_{l},g_{2},g_{3} \\right)}}{\\sigma{\\left(z,g_{2},g_{3} \\right)} \\sigma{\\left({\\xi}_{l},g_{2},g_{3} \\right)}}\\right) \\prod_{n=0}^{N} \\sigma{\\left({\\xi}_{n},g_{2},g_{3} \\right)}$"
      ],
      "text/plain": [
       "Eq((-1)**(2*N)*Product(sigma(z - xi[l], g2, g3), (l, 0, N)), sigma(z, g2, g3)**(N + 1)*Product(sigma(z - xi[l], g2, g3)/(sigma(z, g2, g3)*sigma(xi[l], g2, g3)), (l, 0, N))*Product(sigma(xi[n], g2, g3), (n, 0, N)))"
      ]
     },
     "execution_count": 94,
     "metadata": {},
     "output_type": "execute_result"
    }
   ],
   "source": [
    "for eq in subs1_list + subs2_list:\n",
    "    Eq(*eq)"
   ]
  },
  {
   "cell_type": "markdown",
   "metadata": {},
   "source": [
    "that, what is refered to as the one-dimensional $z$ case takes the remarkably simple form:"
   ]
  },
  {
   "cell_type": "code",
   "execution_count": 95,
   "metadata": {},
   "outputs": [
    {
     "data": {
      "text/latex": [
       "$\\displaystyle \\frac{\\operatorname{WPdet}{\\left(N \\right)}}{\\operatorname{WPdet}{\\left(N - 1 \\right)}} = \\frac{\\sigma^{- N}{\\left(z,g_{2},g_{3} \\right)} \\sigma^{N + 1}{\\left(z,g_{2},g_{3} \\right)} N! \\prod_{l=0}^{N} \\frac{\\sigma{\\left(z - {\\xi}_{l},g_{2},g_{3} \\right)}}{\\sigma{\\left(z,g_{2},g_{3} \\right)} \\sigma{\\left({\\xi}_{l},g_{2},g_{3} \\right)}}}{\\sigma{\\left(z,g_{2},g_{3} \\right)}}$"
      ],
      "text/plain": [
       "Eq(WPdet(N)/WPdet(N - 1), sigma(z, g2, g3)**(N + 1)*factorial(N)*Product(sigma(z - xi[l], g2, g3)/(sigma(z, g2, g3)*sigma(xi[l], g2, g3)), (l, 0, N))/(sigma(z, g2, g3)*sigma(z, g2, g3)**N))"
      ]
     },
     "execution_count": 95,
     "metadata": {},
     "output_type": "execute_result"
    }
   ],
   "source": [
    "wp_sigma_product_fs_N_over_N_minus_1 = (\n",
    "    wp_sigma_product_fs_N_over_N_minus_1_mu_n\n",
    "    .subs(subs1_list)\n",
    "    .subs(subs2_list)\n",
    ").expand()\n",
    "sigma_product_f_s_N_over_N_minus_1 = wp_sigma_product_fs_N_over_N_minus_1.rhs\n",
    "\n",
    "wp_sigma_product_fs_N_over_N_minus_1"
   ]
  },
  {
   "cell_type": "code",
   "execution_count": 96,
   "metadata": {},
   "outputs": [],
   "source": [
    "def p_matrix_f_s_1dz(N): \n",
    "    return Matrix([*[[1, *[pw(x,g2,g3).diff((x,j)).subs(x,mu[k]) for j in range(N)]] for k in range(N)],\n",
    "       [1, *[pw(z,g2,g3).diff((z,j)) for j in range(N)]]])\n",
    "\n",
    "def frob_stick_1dz_ratio(Nval, evaluated=False):\n",
    "    if evaluated:\n",
    "        return Eq((((-1)**(Nval-1)/factorial(Nval)*p_matrix_f_s_1dz(Nval).det()/p_matrix_f_s(Nval-1).det()).expand())\n",
    "                  .collect([pw(z,g2,g3), diff(pw(z,g2,g3),z)],factor), \n",
    "                  (-1)**(Nval-1)/factorial(Nval)*sigma_product_f_s_N_over_N_minus_1.subs(N,Nval).doit().subs(\n",
    "            xi[Nval],-Sum(xi[j],(j,0,Nval-1)).doit()\n",
    "        ).subs([(xi[j],mu[j]) for j in range(Nval)]))\n",
    "    return Eq((-1)**(Nval-1)/factorial(Nval)*Det(p_matrix_f_s_1dz(Nval))/Det(p_matrix_f_s(Nval-1)), \n",
    "              (-1)**(Nval-1)/factorial(Nval)*sigma_product_f_s_N_over_N_minus_1.subs(N,Nval).doit().subs(\n",
    "            xi[Nval],-Sum(xi[j],(j,0,Nval-1)).doit()\n",
    "        ).subs([(xi[j],mu[j]) for j in range(Nval)]))\n"
   ]
  },
  {
   "cell_type": "code",
   "execution_count": 97,
   "metadata": {},
   "outputs": [
    {
     "data": {
      "text/latex": [
       "$\\displaystyle 2 \\prod_{l=0}^{2} \\frac{\\sigma{\\left(z - {\\xi}_{l},g_{2},g_{3} \\right)}}{\\sigma{\\left(z,g_{2},g_{3} \\right)} \\sigma{\\left({\\xi}_{l},g_{2},g_{3} \\right)}}$"
      ],
      "text/plain": [
       "2*Product(sigma(z - xi[l], g2, g3)/(sigma(z, g2, g3)*sigma(xi[l], g2, g3)), (l, 0, 2))"
      ]
     },
     "execution_count": 97,
     "metadata": {},
     "output_type": "execute_result"
    }
   ],
   "source": [
    "sigma_product_f_s_N_over_N_minus_1.subs(N,2)"
   ]
  },
  {
   "cell_type": "markdown",
   "metadata": {},
   "source": [
    "### Example for the $N=1$ case"
   ]
  },
  {
   "cell_type": "code",
   "execution_count": 98,
   "metadata": {
    "scrolled": true
   },
   "outputs": [
    {
     "data": {
      "text/latex": [
       "$\\displaystyle \\operatorname{Det}{\\left(\\left[\\begin{matrix}1 & \\operatorname{pw}{\\left({\\mu}_{0},g_{2},g_{3} \\right)}\\\\1 & \\operatorname{pw}{\\left(z,g_{2},g_{3} \\right)}\\end{matrix}\\right] \\right)} \\operatorname{Det}^{-1}{\\left(\\left[\\begin{matrix}1\\end{matrix}\\right] \\right)} = \\frac{\\sigma{\\left(z - {\\mu}_{0},g_{2},g_{3} \\right)} \\sigma{\\left(z + {\\mu}_{0},g_{2},g_{3} \\right)}}{\\sigma^{2}{\\left(z,g_{2},g_{3} \\right)} \\sigma{\\left(- {\\mu}_{0},g_{2},g_{3} \\right)} \\sigma{\\left({\\mu}_{0},g_{2},g_{3} \\right)}}$"
      ],
      "text/plain": [
       "Eq(Det(Matrix([\n",
       "[1, pw(mu[0], g2, g3)],\n",
       "[1,     pw(z, g2, g3)]]))*Det(Matrix([[1]]))**(-1), sigma(z - mu[0], g2, g3)*sigma(z + mu[0], g2, g3)/(sigma(z, g2, g3)**2*sigma(-mu[0], g2, g3)*sigma(mu[0], g2, g3)))"
      ]
     },
     "execution_count": 98,
     "metadata": {},
     "output_type": "execute_result"
    }
   ],
   "source": [
    "frob_stick_1dz_ratio(1)"
   ]
  },
  {
   "cell_type": "code",
   "execution_count": 99,
   "metadata": {},
   "outputs": [
    {
     "data": {
      "text/latex": [
       "$\\displaystyle \\operatorname{pw}{\\left(z,g_{2},g_{3} \\right)} - \\operatorname{pw}{\\left({\\mu}_{0},g_{2},g_{3} \\right)} = \\frac{\\sigma{\\left(z - {\\mu}_{0},g_{2},g_{3} \\right)} \\sigma{\\left(z + {\\mu}_{0},g_{2},g_{3} \\right)}}{\\sigma^{2}{\\left(z,g_{2},g_{3} \\right)} \\sigma{\\left(- {\\mu}_{0},g_{2},g_{3} \\right)} \\sigma{\\left({\\mu}_{0},g_{2},g_{3} \\right)}}$"
      ],
      "text/plain": [
       "Eq(pw(z, g2, g3) - pw(mu[0], g2, g3), sigma(z - mu[0], g2, g3)*sigma(z + mu[0], g2, g3)/(sigma(z, g2, g3)**2*sigma(-mu[0], g2, g3)*sigma(mu[0], g2, g3)))"
      ]
     },
     "execution_count": 99,
     "metadata": {},
     "output_type": "execute_result"
    }
   ],
   "source": [
    "frob_stick_1dz_ratio(1,evaluated=True)"
   ]
  },
  {
   "cell_type": "markdown",
   "metadata": {},
   "source": [
    "### Example for the $N=2$ case"
   ]
  },
  {
   "cell_type": "markdown",
   "metadata": {},
   "source": [
    "This is a very interesting case. In its most general form when $\\mu_0 \\ne \\mu_1$ it describes three wave mixing in quadratic nonlinear media. In the degenerate case where $\\mu_0 = \\mu_1$ it describes second harmonic generation in a quadratic nonlinear medium. In the special degenerate case where $\\mu_0 = \\mu_1 = \\frac{2}{3}\\omega$ where $\\omega$ is any half-period (in which case $-2 \\mu_0$ is congruent to $\\mu_0$ and degeneracy reduces the number of modes), the system becomes that considered by Dixon, which under further restriction on initial conditions defines the Dixon elliptic functions. There is thus a rich hierarchy of signifigant systems that inherit there dynamics from this particular case of the determinant formula."
   ]
  },
  {
   "cell_type": "code",
   "execution_count": 100,
   "metadata": {},
   "outputs": [
    {
     "data": {
      "text/latex": [
       "$\\displaystyle - \\frac{\\operatorname{Det}{\\left(\\left[\\begin{matrix}1 & \\operatorname{pw}{\\left({\\mu}_{0},g_{2},g_{3} \\right)} & \\frac{\\partial}{\\partial {\\mu}_{0}} \\operatorname{pw}{\\left({\\mu}_{0},g_{2},g_{3} \\right)}\\\\1 & \\operatorname{pw}{\\left({\\mu}_{1},g_{2},g_{3} \\right)} & \\frac{\\partial}{\\partial {\\mu}_{1}} \\operatorname{pw}{\\left({\\mu}_{1},g_{2},g_{3} \\right)}\\\\1 & \\operatorname{pw}{\\left(z,g_{2},g_{3} \\right)} & \\frac{\\partial}{\\partial z} \\operatorname{pw}{\\left(z,g_{2},g_{3} \\right)}\\end{matrix}\\right] \\right)} \\operatorname{Det}^{-1}{\\left(\\left[\\begin{matrix}1 & \\operatorname{pw}{\\left({\\mu}_{0},g_{2},g_{3} \\right)}\\\\1 & \\operatorname{pw}{\\left({\\mu}_{1},g_{2},g_{3} \\right)}\\end{matrix}\\right] \\right)}}{2} = - \\frac{\\sigma{\\left(z - {\\mu}_{0},g_{2},g_{3} \\right)} \\sigma{\\left(z - {\\mu}_{1},g_{2},g_{3} \\right)} \\sigma{\\left(z + {\\mu}_{0} + {\\mu}_{1},g_{2},g_{3} \\right)}}{\\sigma^{3}{\\left(z,g_{2},g_{3} \\right)} \\sigma{\\left(- {\\mu}_{0} - {\\mu}_{1},g_{2},g_{3} \\right)} \\sigma{\\left({\\mu}_{0},g_{2},g_{3} \\right)} \\sigma{\\left({\\mu}_{1},g_{2},g_{3} \\right)}}$"
      ],
      "text/plain": [
       "Eq(-Det(Matrix([\n",
       "[1, pw(mu[0], g2, g3), Derivative(pw(mu[0], g2, g3), mu[0])],\n",
       "[1, pw(mu[1], g2, g3), Derivative(pw(mu[1], g2, g3), mu[1])],\n",
       "[1,     pw(z, g2, g3),         Derivative(pw(z, g2, g3), z)]]))*Det(Matrix([\n",
       "[1, pw(mu[0], g2, g3)],\n",
       "[1, pw(mu[1], g2, g3)]]))**(-1)/2, -sigma(z - mu[0], g2, g3)*sigma(z - mu[1], g2, g3)*sigma(z + mu[0] + mu[1], g2, g3)/(sigma(z, g2, g3)**3*sigma(-mu[0] - mu[1], g2, g3)*sigma(mu[0], g2, g3)*sigma(mu[1], g2, g3)))"
      ]
     },
     "execution_count": 100,
     "metadata": {},
     "output_type": "execute_result"
    }
   ],
   "source": [
    "frob_stick_1dz_ratio_N_2 = frob_stick_1dz_ratio(2)\n",
    "frob_stick_1dz_ratio_N_2"
   ]
  },
  {
   "cell_type": "code",
   "execution_count": 101,
   "metadata": {},
   "outputs": [
    {
     "data": {
      "text/latex": [
       "$\\displaystyle - \\frac{- \\operatorname{pw}{\\left({\\mu}_{0},g_{2},g_{3} \\right)} \\frac{\\partial}{\\partial {\\mu}_{1}} \\operatorname{pw}{\\left({\\mu}_{1},g_{2},g_{3} \\right)} + \\operatorname{pw}{\\left({\\mu}_{1},g_{2},g_{3} \\right)} \\frac{\\partial}{\\partial {\\mu}_{0}} \\operatorname{pw}{\\left({\\mu}_{0},g_{2},g_{3} \\right)}}{2 \\left(\\operatorname{pw}{\\left({\\mu}_{0},g_{2},g_{3} \\right)} - \\operatorname{pw}{\\left({\\mu}_{1},g_{2},g_{3} \\right)}\\right)} - \\frac{\\frac{\\partial}{\\partial z} \\operatorname{pw}{\\left(z,g_{2},g_{3} \\right)}}{2} + \\frac{\\left(\\frac{\\partial}{\\partial {\\mu}_{0}} \\operatorname{pw}{\\left({\\mu}_{0},g_{2},g_{3} \\right)} - \\frac{\\partial}{\\partial {\\mu}_{1}} \\operatorname{pw}{\\left({\\mu}_{1},g_{2},g_{3} \\right)}\\right) \\operatorname{pw}{\\left(z,g_{2},g_{3} \\right)}}{2 \\left(\\operatorname{pw}{\\left({\\mu}_{0},g_{2},g_{3} \\right)} - \\operatorname{pw}{\\left({\\mu}_{1},g_{2},g_{3} \\right)}\\right)} = - \\frac{\\sigma{\\left(z - {\\mu}_{0},g_{2},g_{3} \\right)} \\sigma{\\left(z - {\\mu}_{1},g_{2},g_{3} \\right)} \\sigma{\\left(z + {\\mu}_{0} + {\\mu}_{1},g_{2},g_{3} \\right)}}{\\sigma^{3}{\\left(z,g_{2},g_{3} \\right)} \\sigma{\\left(- {\\mu}_{0} - {\\mu}_{1},g_{2},g_{3} \\right)} \\sigma{\\left({\\mu}_{0},g_{2},g_{3} \\right)} \\sigma{\\left({\\mu}_{1},g_{2},g_{3} \\right)}}$"
      ],
      "text/plain": [
       "Eq(-(-pw(mu[0], g2, g3)*Derivative(pw(mu[1], g2, g3), mu[1]) + pw(mu[1], g2, g3)*Derivative(pw(mu[0], g2, g3), mu[0]))/(2*(pw(mu[0], g2, g3) - pw(mu[1], g2, g3))) - Derivative(pw(z, g2, g3), z)/2 + (Derivative(pw(mu[0], g2, g3), mu[0]) - Derivative(pw(mu[1], g2, g3), mu[1]))*pw(z, g2, g3)/(2*(pw(mu[0], g2, g3) - pw(mu[1], g2, g3))), -sigma(z - mu[0], g2, g3)*sigma(z - mu[1], g2, g3)*sigma(z + mu[0] + mu[1], g2, g3)/(sigma(z, g2, g3)**3*sigma(-mu[0] - mu[1], g2, g3)*sigma(mu[0], g2, g3)*sigma(mu[1], g2, g3)))"
      ]
     },
     "execution_count": 101,
     "metadata": {},
     "output_type": "execute_result"
    }
   ],
   "source": [
    "frob_stick_1dz_ratio(2,evaluated=True)"
   ]
  },
  {
   "cell_type": "markdown",
   "metadata": {},
   "source": [
    "#### Special degenerate case\n",
    "\n",
    "There are some special cases in physics and in other areas of mathematics that can be desrcribed by degenerate cases where the $\\mu_j$ values are not all unique. In order to explore these, some care is required because both determinants on the left hand side become zero when a row or a column is repeated. The right hand side is in general well defined though and the left hand side can be taken as a limit.\n",
    "\n",
    "In order to get to a position where the limit can be evaluated, two rules for determinants are used:\n",
    "\n",
    "- a constant multiple of a row can be added/subtracted from another row without changing the determinant\n",
    "- a multiple of the detrminant can be taken inside the determinant and applied to one row"
   ]
  },
  {
   "cell_type": "code",
   "execution_count": 102,
   "metadata": {},
   "outputs": [
    {
     "data": {
      "text/latex": [
       "$\\displaystyle \\lim_{{\\mu}_{1} \\to {\\mu}_{0}^+} {\\mu}_{1}$"
      ],
      "text/plain": [
       "Limit(mu[1], mu[1], mu[0], dir='+')"
      ]
     },
     "execution_count": 102,
     "metadata": {},
     "output_type": "execute_result"
    }
   ],
   "source": [
    "Limit(mu[1], mu[1], mu[0])"
   ]
  },
  {
   "cell_type": "code",
   "execution_count": 103,
   "metadata": {},
   "outputs": [
    {
     "data": {
      "text/latex": [
       "$\\displaystyle - \\frac{\\operatorname{Det}{\\left(\\left[\\begin{matrix}1 & \\operatorname{pw}{\\left({\\mu}_{0},g_{2},g_{3} \\right)} & \\frac{\\partial}{\\partial {\\mu}_{0}} \\operatorname{pw}{\\left({\\mu}_{0},g_{2},g_{3} \\right)}\\\\1 & \\operatorname{pw}{\\left({\\mu}_{1},g_{2},g_{3} \\right)} & \\frac{\\partial}{\\partial {\\mu}_{1}} \\operatorname{pw}{\\left({\\mu}_{1},g_{2},g_{3} \\right)}\\\\1 & \\operatorname{pw}{\\left(z,g_{2},g_{3} \\right)} & \\frac{\\partial}{\\partial z} \\operatorname{pw}{\\left(z,g_{2},g_{3} \\right)}\\end{matrix}\\right] \\right)} \\operatorname{Det}^{-1}{\\left(\\left[\\begin{matrix}1 & \\operatorname{pw}{\\left({\\mu}_{0},g_{2},g_{3} \\right)}\\\\1 & \\operatorname{pw}{\\left({\\mu}_{1},g_{2},g_{3} \\right)}\\end{matrix}\\right] \\right)}}{2} = - \\frac{\\operatorname{Det}{\\left(\\left[\\begin{matrix}0 & -1 & \\frac{- \\frac{\\partial}{\\partial {\\mu}_{0}} \\operatorname{pw}{\\left({\\mu}_{0},g_{2},g_{3} \\right)} + \\frac{\\partial}{\\partial {\\mu}_{1}} \\operatorname{pw}{\\left({\\mu}_{1},g_{2},g_{3} \\right)}}{\\operatorname{pw}{\\left({\\mu}_{0},g_{2},g_{3} \\right)} - \\operatorname{pw}{\\left({\\mu}_{1},g_{2},g_{3} \\right)}}\\\\1 & \\operatorname{pw}{\\left({\\mu}_{1},g_{2},g_{3} \\right)} & \\frac{\\partial}{\\partial {\\mu}_{1}} \\operatorname{pw}{\\left({\\mu}_{1},g_{2},g_{3} \\right)}\\\\1 & \\operatorname{pw}{\\left(z,g_{2},g_{3} \\right)} & \\frac{\\partial}{\\partial z} \\operatorname{pw}{\\left(z,g_{2},g_{3} \\right)}\\end{matrix}\\right] \\right)}}{2}$"
      ],
      "text/plain": [
       "Eq(-Det(Matrix([\n",
       "[1, pw(mu[0], g2, g3), Derivative(pw(mu[0], g2, g3), mu[0])],\n",
       "[1, pw(mu[1], g2, g3), Derivative(pw(mu[1], g2, g3), mu[1])],\n",
       "[1,     pw(z, g2, g3),         Derivative(pw(z, g2, g3), z)]]))*Det(Matrix([\n",
       "[1, pw(mu[0], g2, g3)],\n",
       "[1, pw(mu[1], g2, g3)]]))**(-1)/2, -Det(Matrix([\n",
       "[0,                -1, (-Derivative(pw(mu[0], g2, g3), mu[0]) + Derivative(pw(mu[1], g2, g3), mu[1]))/(pw(mu[0], g2, g3) - pw(mu[1], g2, g3))],\n",
       "[1, pw(mu[1], g2, g3),                                                                                   Derivative(pw(mu[1], g2, g3), mu[1])],\n",
       "[1,     pw(z, g2, g3),                                                                                           Derivative(pw(z, g2, g3), z)]]))/2)"
      ]
     },
     "execution_count": 103,
     "metadata": {},
     "output_type": "execute_result"
    },
    {
     "data": {
      "text/plain": [
       "True"
      ]
     },
     "execution_count": 103,
     "metadata": {},
     "output_type": "execute_result"
    }
   ],
   "source": [
    "_M_N_2_simplified = Matrix([\n",
    "     [0, -1, -(Derivative(pw(mu[0], g2, g3), mu[0]) - Derivative(pw(mu[1], g2, g3), mu[1]))/(pw(mu[0], g2, g3) - pw(mu[1], g2, g3))],\n",
    "     [1, pw(mu[1], g2, g3), Derivative(pw(mu[1], g2, g3), mu[1])],\n",
    "     [1,     pw(z, g2, g3),         Derivative(pw(z, g2, g3), z)]\n",
    " ])\n",
    "_M_N_2_simplified_det = Eq(frob_stick_1dz_ratio_N_2.lhs, -Det(_M_N_2_simplified)/2)\n",
    "_M_N_2_simplified_det\n",
    "((-_M_N_2_simplified.det()/2) - frob_stick_1dz_ratio(2,evaluated=True).lhs).simplify() == 0"
   ]
  },
  {
   "cell_type": "code",
   "execution_count": 104,
   "metadata": {},
   "outputs": [
    {
     "data": {
      "text/latex": [
       "$\\displaystyle - \\frac{\\operatorname{Det}{\\left(\\left[\\begin{matrix}0 & -1 & \\frac{- \\frac{\\partial}{\\partial {\\mu}_{0}} \\operatorname{pw}{\\left({\\mu}_{0},g_{2},g_{3} \\right)} + \\frac{\\partial}{\\partial {\\mu}_{1}} \\operatorname{pw}{\\left({\\mu}_{1},g_{2},g_{3} \\right)}}{\\operatorname{pw}{\\left({\\mu}_{0},g_{2},g_{3} \\right)} - \\operatorname{pw}{\\left({\\mu}_{1},g_{2},g_{3} \\right)}}\\\\1 & \\operatorname{pw}{\\left({\\mu}_{1},g_{2},g_{3} \\right)} & \\frac{\\partial}{\\partial {\\mu}_{1}} \\operatorname{pw}{\\left({\\mu}_{1},g_{2},g_{3} \\right)}\\\\1 & \\operatorname{pw}{\\left(z,g_{2},g_{3} \\right)} & \\frac{\\partial}{\\partial z} \\operatorname{pw}{\\left(z,g_{2},g_{3} \\right)}\\end{matrix}\\right] \\right)}}{2} = - \\frac{\\sigma{\\left(z - {\\mu}_{0},g_{2},g_{3} \\right)} \\sigma{\\left(z - {\\mu}_{1},g_{2},g_{3} \\right)} \\sigma{\\left(z + {\\mu}_{0} + {\\mu}_{1},g_{2},g_{3} \\right)}}{\\sigma^{3}{\\left(z,g_{2},g_{3} \\right)} \\sigma{\\left(- {\\mu}_{0} - {\\mu}_{1},g_{2},g_{3} \\right)} \\sigma{\\left({\\mu}_{0},g_{2},g_{3} \\right)} \\sigma{\\left({\\mu}_{1},g_{2},g_{3} \\right)}}$"
      ],
      "text/plain": [
       "Eq(-Det(Matrix([\n",
       "[0,                -1, (-Derivative(pw(mu[0], g2, g3), mu[0]) + Derivative(pw(mu[1], g2, g3), mu[1]))/(pw(mu[0], g2, g3) - pw(mu[1], g2, g3))],\n",
       "[1, pw(mu[1], g2, g3),                                                                                   Derivative(pw(mu[1], g2, g3), mu[1])],\n",
       "[1,     pw(z, g2, g3),                                                                                           Derivative(pw(z, g2, g3), z)]]))/2, -sigma(z - mu[0], g2, g3)*sigma(z - mu[1], g2, g3)*sigma(z + mu[0] + mu[1], g2, g3)/(sigma(z, g2, g3)**3*sigma(-mu[0] - mu[1], g2, g3)*sigma(mu[0], g2, g3)*sigma(mu[1], g2, g3)))"
      ]
     },
     "execution_count": 104,
     "metadata": {},
     "output_type": "execute_result"
    }
   ],
   "source": [
    " _M_N_2_simplified_det_b = Eq(\n",
    "     -Rational(1,2)*Det(_M_N_2_simplified), frob_stick_1dz_ratio_N_2.rhs).subs(*_M_N_2_simplified_det.args)\n",
    "_M_N_2_simplified_det_b"
   ]
  },
  {
   "cell_type": "code",
   "execution_count": 105,
   "metadata": {},
   "outputs": [
    {
     "data": {
      "text/latex": [
       "$\\displaystyle - \\frac{\\operatorname{Det}{\\left(\\left[\\begin{matrix}0 & -1 & \\frac{- \\frac{\\partial}{\\partial {\\mu}_{0}} \\operatorname{pw}{\\left({\\mu}_{0},g_{2},g_{3} \\right)} + \\left. \\frac{\\partial}{\\partial \\xi} \\operatorname{pw}{\\left(\\xi,g_{2},g_{3} \\right)} \\right|_{\\substack{ \\xi=\\epsilon + {\\mu}_{0} }}}{- \\operatorname{pw}{\\left(\\epsilon + {\\mu}_{0},g_{2},g_{3} \\right)} + \\operatorname{pw}{\\left({\\mu}_{0},g_{2},g_{3} \\right)}}\\\\1 & \\operatorname{pw}{\\left(\\epsilon + {\\mu}_{0},g_{2},g_{3} \\right)} & \\left. \\frac{\\partial}{\\partial \\xi} \\operatorname{pw}{\\left(\\xi,g_{2},g_{3} \\right)} \\right|_{\\substack{ \\xi=\\epsilon + {\\mu}_{0} }}\\\\1 & \\operatorname{pw}{\\left(z,g_{2},g_{3} \\right)} & \\frac{\\partial}{\\partial z} \\operatorname{pw}{\\left(z,g_{2},g_{3} \\right)}\\end{matrix}\\right] \\right)}}{2} = - \\frac{\\sigma{\\left(z - {\\mu}_{0},g_{2},g_{3} \\right)} \\sigma{\\left(- \\epsilon + z - {\\mu}_{0},g_{2},g_{3} \\right)} \\sigma{\\left(\\epsilon + z + 2 {\\mu}_{0},g_{2},g_{3} \\right)}}{\\sigma^{3}{\\left(z,g_{2},g_{3} \\right)} \\sigma{\\left(- \\epsilon - 2 {\\mu}_{0},g_{2},g_{3} \\right)} \\sigma{\\left(\\epsilon + {\\mu}_{0},g_{2},g_{3} \\right)} \\sigma{\\left({\\mu}_{0},g_{2},g_{3} \\right)}}$"
      ],
      "text/plain": [
       "Eq(-Det(Matrix([\n",
       "[0,                          -1, (-Derivative(pw(mu[0], g2, g3), mu[0]) + Subs(Derivative(pw(_xi, g2, g3), _xi), _xi, epsilon + mu[0]))/(-pw(epsilon + mu[0], g2, g3) + pw(mu[0], g2, g3))],\n",
       "[1, pw(epsilon + mu[0], g2, g3),                                                                                              Subs(Derivative(pw(_xi, g2, g3), _xi), _xi, epsilon + mu[0])],\n",
       "[1,               pw(z, g2, g3),                                                                                                                              Derivative(pw(z, g2, g3), z)]]))/2, -sigma(z - mu[0], g2, g3)*sigma(-epsilon + z - mu[0], g2, g3)*sigma(epsilon + z + 2*mu[0], g2, g3)/(sigma(z, g2, g3)**3*sigma(-epsilon - 2*mu[0], g2, g3)*sigma(epsilon + mu[0], g2, g3)*sigma(mu[0], g2, g3)))"
      ]
     },
     "execution_count": 105,
     "metadata": {},
     "output_type": "execute_result"
    }
   ],
   "source": [
    "_M_N_2_simplified_det_c = _M_N_2_simplified_det_b.subs(mu[1], mu[0] +epsilon)\n",
    "_M_N_2_simplified_det_c"
   ]
  },
  {
   "cell_type": "code",
   "execution_count": 106,
   "metadata": {},
   "outputs": [
    {
     "data": {
      "text/latex": [
       "$\\displaystyle \\lim_{\\epsilon \\to 0^+}\\left(- \\frac{\\operatorname{Det}{\\left(\\left[\\begin{matrix}0 & -1 & \\frac{- \\frac{\\partial}{\\partial {\\mu}_{0}} \\operatorname{pw}{\\left({\\mu}_{0},g_{2},g_{3} \\right)} + \\left. \\frac{\\partial}{\\partial \\xi} \\operatorname{pw}{\\left(\\xi,g_{2},g_{3} \\right)} \\right|_{\\substack{ \\xi=\\epsilon + {\\mu}_{0} }}}{- \\operatorname{pw}{\\left(\\epsilon + {\\mu}_{0},g_{2},g_{3} \\right)} + \\operatorname{pw}{\\left({\\mu}_{0},g_{2},g_{3} \\right)}}\\\\1 & \\operatorname{pw}{\\left(\\epsilon + {\\mu}_{0},g_{2},g_{3} \\right)} & \\left. \\frac{\\partial}{\\partial \\xi} \\operatorname{pw}{\\left(\\xi,g_{2},g_{3} \\right)} \\right|_{\\substack{ \\xi=\\epsilon + {\\mu}_{0} }}\\\\1 & \\operatorname{pw}{\\left(z,g_{2},g_{3} \\right)} & \\frac{\\partial}{\\partial z} \\operatorname{pw}{\\left(z,g_{2},g_{3} \\right)}\\end{matrix}\\right] \\right)}}{2}\\right) = - \\frac{\\sigma^{2}{\\left(z - {\\mu}_{0},g_{2},g_{3} \\right)} \\sigma{\\left(z + 2 {\\mu}_{0},g_{2},g_{3} \\right)}}{\\sigma^{3}{\\left(z,g_{2},g_{3} \\right)} \\sigma{\\left(- 2 {\\mu}_{0},g_{2},g_{3} \\right)} \\sigma^{2}{\\left({\\mu}_{0},g_{2},g_{3} \\right)}}$"
      ],
      "text/plain": [
       "Eq(Limit(-Det(Matrix([\n",
       "[0,                          -1, (-Derivative(pw(mu[0], g2, g3), mu[0]) + Subs(Derivative(pw(_xi, g2, g3), _xi), _xi, epsilon + mu[0]))/(-pw(epsilon + mu[0], g2, g3) + pw(mu[0], g2, g3))],\n",
       "[1, pw(epsilon + mu[0], g2, g3),                                                                                              Subs(Derivative(pw(_xi, g2, g3), _xi), _xi, epsilon + mu[0])],\n",
       "[1,               pw(z, g2, g3),                                                                                                                              Derivative(pw(z, g2, g3), z)]]))/2, epsilon, 0, dir='+'), -sigma(z - mu[0], g2, g3)**2*sigma(z + 2*mu[0], g2, g3)/(sigma(z, g2, g3)**3*sigma(-2*mu[0], g2, g3)*sigma(mu[0], g2, g3)**2))"
      ]
     },
     "execution_count": 106,
     "metadata": {},
     "output_type": "execute_result"
    }
   ],
   "source": [
    "_M_N_2_simplified_det_d = Eq(Limit(_M_N_2_simplified_det_c.lhs,epsilon,0), _M_N_2_simplified_det_c.rhs.limit(epsilon,0))\n",
    "_M_N_2_simplified_det_d"
   ]
  },
  {
   "cell_type": "markdown",
   "metadata": {},
   "source": [
    "The limit can be evaluated by considering the limit definition of the derivative."
   ]
  },
  {
   "cell_type": "code",
   "execution_count": 107,
   "metadata": {},
   "outputs": [
    {
     "data": {
      "text/latex": [
       "$\\displaystyle \\lim_{\\epsilon \\to 0^+}\\left(\\frac{- \\frac{\\partial}{\\partial {\\mu}_{0}} \\operatorname{pw}{\\left({\\mu}_{0},g_{2},g_{3} \\right)} + \\left. \\frac{\\partial}{\\partial \\xi} \\operatorname{pw}{\\left(\\xi,g_{2},g_{3} \\right)} \\right|_{\\substack{ \\xi=\\epsilon + {\\mu}_{0} }}}{- \\operatorname{pw}{\\left(\\epsilon + {\\mu}_{0},g_{2},g_{3} \\right)} + \\operatorname{pw}{\\left({\\mu}_{0},g_{2},g_{3} \\right)}}\\right) = - \\frac{\\frac{\\partial^{2}}{\\partial {\\mu}_{0}^{2}} \\operatorname{pw}{\\left({\\mu}_{0},g_{2},g_{3} \\right)}}{\\frac{\\partial}{\\partial {\\mu}_{0}} \\operatorname{pw}{\\left({\\mu}_{0},g_{2},g_{3} \\right)}}$"
      ],
      "text/plain": [
       "Eq(Limit((-Derivative(pw(mu[0], g2, g3), mu[0]) + Subs(Derivative(pw(_xi, g2, g3), _xi), _xi, epsilon + mu[0]))/(-pw(epsilon + mu[0], g2, g3) + pw(mu[0], g2, g3)), epsilon, 0, dir='+'), -Derivative(pw(mu[0], g2, g3), (mu[0], 2))/Derivative(pw(mu[0], g2, g3), mu[0]))"
      ]
     },
     "execution_count": 107,
     "metadata": {},
     "output_type": "execute_result"
    }
   ],
   "source": [
    "limit_epsilon_mu = Eq(Limit(_M_N_2_simplified[0,2].subs(mu[1], mu[0] +epsilon),epsilon,0),\n",
    "   -diff(pw(mu[0],g2,g3),mu[0],2)/diff(pw(mu[0],g2,g3),mu[0],1)\n",
    "  )\n",
    "limit_epsilon_mu"
   ]
  },
  {
   "cell_type": "code",
   "execution_count": 108,
   "metadata": {},
   "outputs": [
    {
     "data": {
      "text/latex": [
       "$\\displaystyle - \\frac{\\operatorname{Det}{\\left(\\left[\\begin{matrix}0 & -1 & - \\frac{\\frac{\\partial^{2}}{\\partial {\\mu}_{0}^{2}} \\operatorname{pw}{\\left({\\mu}_{0},g_{2},g_{3} \\right)}}{\\frac{\\partial}{\\partial {\\mu}_{0}} \\operatorname{pw}{\\left({\\mu}_{0},g_{2},g_{3} \\right)}}\\\\1 & \\operatorname{pw}{\\left({\\mu}_{0},g_{2},g_{3} \\right)} & \\frac{\\partial}{\\partial {\\mu}_{0}} \\operatorname{pw}{\\left({\\mu}_{0},g_{2},g_{3} \\right)}\\\\1 & \\operatorname{pw}{\\left(z,g_{2},g_{3} \\right)} & \\frac{\\partial}{\\partial z} \\operatorname{pw}{\\left(z,g_{2},g_{3} \\right)}\\end{matrix}\\right] \\right)}}{2} = - \\frac{\\sigma^{2}{\\left(z - {\\mu}_{0},g_{2},g_{3} \\right)} \\sigma{\\left(z + 2 {\\mu}_{0},g_{2},g_{3} \\right)}}{\\sigma^{3}{\\left(z,g_{2},g_{3} \\right)} \\sigma{\\left(- 2 {\\mu}_{0},g_{2},g_{3} \\right)} \\sigma^{2}{\\left({\\mu}_{0},g_{2},g_{3} \\right)}}$"
      ],
      "text/plain": [
       "Eq(-Det(Matrix([\n",
       "[0,                -1, -Derivative(pw(mu[0], g2, g3), (mu[0], 2))/Derivative(pw(mu[0], g2, g3), mu[0])],\n",
       "[1, pw(mu[0], g2, g3),                                            Derivative(pw(mu[0], g2, g3), mu[0])],\n",
       "[1,     pw(z, g2, g3),                                                    Derivative(pw(z, g2, g3), z)]]))/2, -sigma(z - mu[0], g2, g3)**2*sigma(z + 2*mu[0], g2, g3)/(sigma(z, g2, g3)**3*sigma(-2*mu[0], g2, g3)*sigma(mu[0], g2, g3)**2))"
      ]
     },
     "execution_count": 108,
     "metadata": {},
     "output_type": "execute_result"
    }
   ],
   "source": [
    "_M_N_2_simplified_det_e = _M_N_2_simplified_det_c.subs(limit_epsilon_mu.lhs.args[0], limit_epsilon_mu.rhs).subs(epsilon,0).doit()\n",
    "_M_N_2_simplified_det_e"
   ]
  },
  {
   "cell_type": "code",
   "execution_count": 109,
   "metadata": {},
   "outputs": [
    {
     "data": {
      "text/latex": [
       "$\\displaystyle \\frac{\\operatorname{pw}{\\left(z,g_{2},g_{3} \\right)} \\frac{\\partial^{2}}{\\partial {\\mu}_{0}^{2}} \\operatorname{pw}{\\left({\\mu}_{0},g_{2},g_{3} \\right)}}{2 \\frac{\\partial}{\\partial {\\mu}_{0}} \\operatorname{pw}{\\left({\\mu}_{0},g_{2},g_{3} \\right)}} - \\frac{\\operatorname{pw}{\\left({\\mu}_{0},g_{2},g_{3} \\right)} \\frac{\\partial^{2}}{\\partial {\\mu}_{0}^{2}} \\operatorname{pw}{\\left({\\mu}_{0},g_{2},g_{3} \\right)}}{2 \\frac{\\partial}{\\partial {\\mu}_{0}} \\operatorname{pw}{\\left({\\mu}_{0},g_{2},g_{3} \\right)}} - \\frac{\\frac{\\partial}{\\partial z} \\operatorname{pw}{\\left(z,g_{2},g_{3} \\right)}}{2} + \\frac{\\frac{\\partial}{\\partial {\\mu}_{0}} \\operatorname{pw}{\\left({\\mu}_{0},g_{2},g_{3} \\right)}}{2} = - \\frac{\\sigma^{2}{\\left(z - {\\mu}_{0},g_{2},g_{3} \\right)} \\sigma{\\left(z + 2 {\\mu}_{0},g_{2},g_{3} \\right)}}{\\sigma^{3}{\\left(z,g_{2},g_{3} \\right)} \\sigma{\\left(- 2 {\\mu}_{0},g_{2},g_{3} \\right)} \\sigma^{2}{\\left({\\mu}_{0},g_{2},g_{3} \\right)}}$"
      ],
      "text/plain": [
       "Eq(pw(z, g2, g3)*Derivative(pw(mu[0], g2, g3), (mu[0], 2))/(2*Derivative(pw(mu[0], g2, g3), mu[0])) - pw(mu[0], g2, g3)*Derivative(pw(mu[0], g2, g3), (mu[0], 2))/(2*Derivative(pw(mu[0], g2, g3), mu[0])) - Derivative(pw(z, g2, g3), z)/2 + Derivative(pw(mu[0], g2, g3), mu[0])/2, -sigma(z - mu[0], g2, g3)**2*sigma(z + 2*mu[0], g2, g3)/(sigma(z, g2, g3)**3*sigma(-2*mu[0], g2, g3)*sigma(mu[0], g2, g3)**2))"
      ]
     },
     "execution_count": 109,
     "metadata": {},
     "output_type": "execute_result"
    }
   ],
   "source": [
    "Eq(-_M_N_2_simplified_det_e.lhs.args[1].args[0].det()/2, _M_N_2_simplified_det_e.rhs).expand()"
   ]
  },
  {
   "cell_type": "markdown",
   "metadata": {},
   "source": [
    "### Example for the $N=3$ case"
   ]
  },
  {
   "cell_type": "code",
   "execution_count": 110,
   "metadata": {},
   "outputs": [
    {
     "data": {
      "text/latex": [
       "$\\displaystyle \\frac{\\operatorname{Det}{\\left(\\left[\\begin{matrix}1 & \\operatorname{pw}{\\left({\\mu}_{0},g_{2},g_{3} \\right)} & \\frac{\\partial}{\\partial {\\mu}_{0}} \\operatorname{pw}{\\left({\\mu}_{0},g_{2},g_{3} \\right)} & \\frac{\\partial^{2}}{\\partial {\\mu}_{0}^{2}} \\operatorname{pw}{\\left({\\mu}_{0},g_{2},g_{3} \\right)}\\\\1 & \\operatorname{pw}{\\left({\\mu}_{1},g_{2},g_{3} \\right)} & \\frac{\\partial}{\\partial {\\mu}_{1}} \\operatorname{pw}{\\left({\\mu}_{1},g_{2},g_{3} \\right)} & \\frac{\\partial^{2}}{\\partial {\\mu}_{1}^{2}} \\operatorname{pw}{\\left({\\mu}_{1},g_{2},g_{3} \\right)}\\\\1 & \\operatorname{pw}{\\left({\\mu}_{2},g_{2},g_{3} \\right)} & \\frac{\\partial}{\\partial {\\mu}_{2}} \\operatorname{pw}{\\left({\\mu}_{2},g_{2},g_{3} \\right)} & \\frac{\\partial^{2}}{\\partial {\\mu}_{2}^{2}} \\operatorname{pw}{\\left({\\mu}_{2},g_{2},g_{3} \\right)}\\\\1 & \\operatorname{pw}{\\left(z,g_{2},g_{3} \\right)} & \\frac{\\partial}{\\partial z} \\operatorname{pw}{\\left(z,g_{2},g_{3} \\right)} & \\frac{\\partial^{2}}{\\partial z^{2}} \\operatorname{pw}{\\left(z,g_{2},g_{3} \\right)}\\end{matrix}\\right] \\right)} \\operatorname{Det}^{-1}{\\left(\\left[\\begin{matrix}1 & \\operatorname{pw}{\\left({\\mu}_{0},g_{2},g_{3} \\right)} & \\frac{\\partial}{\\partial {\\mu}_{0}} \\operatorname{pw}{\\left({\\mu}_{0},g_{2},g_{3} \\right)}\\\\1 & \\operatorname{pw}{\\left({\\mu}_{1},g_{2},g_{3} \\right)} & \\frac{\\partial}{\\partial {\\mu}_{1}} \\operatorname{pw}{\\left({\\mu}_{1},g_{2},g_{3} \\right)}\\\\1 & \\operatorname{pw}{\\left({\\mu}_{2},g_{2},g_{3} \\right)} & \\frac{\\partial}{\\partial {\\mu}_{2}} \\operatorname{pw}{\\left({\\mu}_{2},g_{2},g_{3} \\right)}\\end{matrix}\\right] \\right)}}{6} = \\frac{\\sigma{\\left(z - {\\mu}_{0},g_{2},g_{3} \\right)} \\sigma{\\left(z - {\\mu}_{1},g_{2},g_{3} \\right)} \\sigma{\\left(z - {\\mu}_{2},g_{2},g_{3} \\right)} \\sigma{\\left(z + {\\mu}_{0} + {\\mu}_{1} + {\\mu}_{2},g_{2},g_{3} \\right)}}{\\sigma^{4}{\\left(z,g_{2},g_{3} \\right)} \\sigma{\\left(- {\\mu}_{0} - {\\mu}_{1} - {\\mu}_{2},g_{2},g_{3} \\right)} \\sigma{\\left({\\mu}_{0},g_{2},g_{3} \\right)} \\sigma{\\left({\\mu}_{1},g_{2},g_{3} \\right)} \\sigma{\\left({\\mu}_{2},g_{2},g_{3} \\right)}}$"
      ],
      "text/plain": [
       "Eq(Det(Matrix([\n",
       "[1, pw(mu[0], g2, g3), Derivative(pw(mu[0], g2, g3), mu[0]), Derivative(pw(mu[0], g2, g3), (mu[0], 2))],\n",
       "[1, pw(mu[1], g2, g3), Derivative(pw(mu[1], g2, g3), mu[1]), Derivative(pw(mu[1], g2, g3), (mu[1], 2))],\n",
       "[1, pw(mu[2], g2, g3), Derivative(pw(mu[2], g2, g3), mu[2]), Derivative(pw(mu[2], g2, g3), (mu[2], 2))],\n",
       "[1,     pw(z, g2, g3),         Derivative(pw(z, g2, g3), z),         Derivative(pw(z, g2, g3), (z, 2))]]))*Det(Matrix([\n",
       "[1, pw(mu[0], g2, g3), Derivative(pw(mu[0], g2, g3), mu[0])],\n",
       "[1, pw(mu[1], g2, g3), Derivative(pw(mu[1], g2, g3), mu[1])],\n",
       "[1, pw(mu[2], g2, g3), Derivative(pw(mu[2], g2, g3), mu[2])]]))**(-1)/6, sigma(z - mu[0], g2, g3)*sigma(z - mu[1], g2, g3)*sigma(z - mu[2], g2, g3)*sigma(z + mu[0] + mu[1] + mu[2], g2, g3)/(sigma(z, g2, g3)**4*sigma(-mu[0] - mu[1] - mu[2], g2, g3)*sigma(mu[0], g2, g3)*sigma(mu[1], g2, g3)*sigma(mu[2], g2, g3)))"
      ]
     },
     "execution_count": 110,
     "metadata": {},
     "output_type": "execute_result"
    }
   ],
   "source": [
    "frob_stick_1dz_ratio(3)"
   ]
  },
  {
   "cell_type": "markdown",
   "metadata": {},
   "source": [
    "## Laplace Expansion of $\\mathrm{WPdet}$"
   ]
  },
  {
   "cell_type": "markdown",
   "metadata": {},
   "source": [
    "In the ratio of matrix determinants containing derivatives of the Weierstrass P function, the determinant in the numerator can be expanded as a linear sum in the derivatives of the Weierstrass P function w.r.t. $z$ using [Laplace expansion](https://en.wikipedia.org/wiki/Laplace_expansion) for determinants. The coefficients $c_j$ can be expressed as determinants that depend on $\\mu_n$ but not $z$. \n",
    "\n",
    "For matrix $B$, entry $b_j,_k$ of $B$ in the $j^{th}$ row and $k^{th}$ column, and $d_j,_k$ the determinant of the submatrix obtained by removing the $j^{th}$ row and the $k^{th}$ column of $B$, the determinant of $B$ can be expanded along the $j^{th}$ row using:"
   ]
  },
  {
   "cell_type": "code",
   "execution_count": 111,
   "metadata": {
    "scrolled": true
   },
   "outputs": [
    {
     "data": {
      "text/latex": [
       "$\\displaystyle \\operatorname{Det}{\\left(B \\right)} = \\sum_{k=0}^{N - 1} \\left(-1\\right)^{j + k} {b}_{j,k} {d}_{j,k}$"
      ],
      "text/plain": [
       "Eq(Det(B), Sum((-1)**(j + k)*b[j, k]*d[j, k], (k, 0, N - 1)))"
      ]
     },
     "execution_count": 111,
     "metadata": {},
     "output_type": "execute_result"
    }
   ],
   "source": [
    "Eq(Det(B), Sum((-1)**(j+k)*b[j,k]*d[j,k],(k,0,N-1)))"
   ]
  },
  {
   "cell_type": "markdown",
   "metadata": {},
   "source": [
    "Consequently, there exists $c_j$ such that:"
   ]
  },
  {
   "cell_type": "code",
   "execution_count": 112,
   "metadata": {},
   "outputs": [
    {
     "data": {
      "text/latex": [
       "$\\displaystyle \\left(-1\\right)^{1 - N} \\prod_{l=0}^{N} \\frac{\\sigma{\\left(z - {\\xi}_{l},g_{2},g_{3} \\right)}}{\\sigma{\\left(z,g_{2},g_{3} \\right)} \\sigma{\\left({\\xi}_{l},g_{2},g_{3} \\right)}} = {c}_{0} + \\sum_{j=0}^{N - 1} \\frac{\\partial^{j}}{\\partial z^{j}} \\operatorname{pw}{\\left(z,g_{2},g_{3} \\right)} {c}_{j + 1}$"
      ],
      "text/plain": [
       "Eq((-1)**(1 - N)*Product(sigma(z - xi[l], g2, g3)/(sigma(z, g2, g3)*sigma(xi[l], g2, g3)), (l, 0, N)), c[0] + Sum(Derivative(pw(z, g2, g3), (z, j))*c[j + 1], (j, 0, N - 1)))"
      ]
     },
     "execution_count": 112,
     "metadata": {},
     "output_type": "execute_result"
    }
   ],
   "source": [
    "sigma_product_wp_diff_eq = Eq((sigma_product_f_s_N_over_N_minus_1/((-1)**(N-1)*factorial(N))).simplify(),\n",
    "   c[0] + Sum(c[j+1]*Derivative(pw(z,g2,g3),(z,j)),(j,0,N-1))\n",
    "  )\n",
    "sigma_product_wp_diff_eq"
   ]
  },
  {
   "cell_type": "code",
   "execution_count": 113,
   "metadata": {},
   "outputs": [
    {
     "data": {
      "text/latex": [
       "$\\displaystyle \\left(-1\\right)^{1 - N} \\prod_{l=0}^{N} - \\frac{\\sigma{\\left(- z - {\\xi}_{l},g_{2},g_{3} \\right)}}{\\sigma{\\left(z,g_{2},g_{3} \\right)} \\sigma{\\left({\\xi}_{l},g_{2},g_{3} \\right)}} = {c}_{0} + \\sum_{j=0}^{N - 1} {c}_{j + 1} \\left. \\frac{\\partial^{j}}{\\partial z^{j}} \\operatorname{pw}{\\left(z,g_{2},g_{3} \\right)} \\right|_{\\substack{ z=- z }}$"
      ],
      "text/plain": [
       "Eq((-1)**(1 - N)*Product(-sigma(-z - xi[l], g2, g3)/(sigma(z, g2, g3)*sigma(xi[l], g2, g3)), (l, 0, N)), c[0] + Sum(c[j + 1]*Subs(Derivative(pw(z, g2, g3), (z, j)), z, -z), (j, 0, N - 1)))"
      ]
     },
     "execution_count": 113,
     "metadata": {},
     "output_type": "execute_result"
    }
   ],
   "source": [
    "sigma_product_wp_diff_eq.subs(z,-z).subs([\n",
    "    (sigma(-z,g2,g3),-sigma(z,g2,g3)),\n",
    "    (Derivative(pw(z,g2,g3),(z,j)).subs(z,-z),(-1)**j*Derivative(pw(z,g2,g3),(z,j)))\n",
    "])"
   ]
  },
  {
   "cell_type": "code",
   "execution_count": 114,
   "metadata": {},
   "outputs": [
    {
     "data": {
      "text/latex": [
       "$\\displaystyle \\left. \\frac{\\partial^{j}}{\\partial z^{j}} \\operatorname{pw}{\\left(z,g_{2},g_{3} \\right)} \\right|_{\\substack{ z=- z }} = \\left(-1\\right)^{j} \\frac{\\partial^{j}}{\\partial z^{j}} \\operatorname{pw}{\\left(z,g_{2},g_{3} \\right)}$"
      ],
      "text/plain": [
       "Eq(Subs(Derivative(pw(z, g2, g3), (z, j)), z, -z), (-1)**j*Derivative(pw(z, g2, g3), (z, j)))"
      ]
     },
     "execution_count": 114,
     "metadata": {},
     "output_type": "execute_result"
    }
   ],
   "source": [
    "Eq(Derivative(pw(z,g2,g3),(z,j)).subs(z,-z),(-1)**j*Derivative(pw(z,g2,g3),(z,j)))"
   ]
  },
  {
   "cell_type": "code",
   "execution_count": 115,
   "metadata": {},
   "outputs": [
    {
     "data": {
      "text/latex": [
       "$\\displaystyle \\left(-1\\right)^{N + 1} \\prod_{l=0}^{N} \\frac{\\sigma{\\left(z + {\\xi}_{l},g_{2},g_{3} \\right)}}{\\sigma{\\left(z,g_{2},g_{3} \\right)} \\sigma{\\left({\\xi}_{l},g_{2},g_{3} \\right)}} = {c}_{0} + \\sum_{j=0}^{N - 1} \\left(-1\\right)^{j} \\frac{\\partial^{j}}{\\partial z^{j}} \\operatorname{pw}{\\left(z,g_{2},g_{3} \\right)} {c}_{j + 1}$"
      ],
      "text/plain": [
       "Eq((-1)**(N + 1)*Product(sigma(z + xi[l], g2, g3)/(sigma(z, g2, g3)*sigma(xi[l], g2, g3)), (l, 0, N)), c[0] + Sum((-1)**j*Derivative(pw(z, g2, g3), (z, j))*c[j + 1], (j, 0, N - 1)))"
      ]
     },
     "execution_count": 115,
     "metadata": {},
     "output_type": "execute_result"
    }
   ],
   "source": [
    "sigma_product_wp_diff_eq_minus = Eq((-1)**(N+1)*Product(sigma(z+xi[l],g2,g3)/sigma(z,g2,g3)/sigma(xi[l],g2,g3),(l,0,N)),\n",
    "   c[0] + Sum((-1)**j*c[j+1]*Derivative(pw(z,g2,g3),(z,j)),(j,0,N-1))\n",
    "  )\n",
    "sigma_product_wp_diff_eq_minus"
   ]
  },
  {
   "cell_type": "code",
   "execution_count": 116,
   "metadata": {},
   "outputs": [
    {
     "data": {
      "text/latex": [
       "$\\displaystyle \\left(-1\\right)^{N + 1} \\prod_{l=0}^{N} \\frac{\\sigma{\\left(z + {\\xi}_{l},g_{2},g_{3} \\right)}}{\\sigma{\\left(z,g_{2},g_{3} \\right)} \\sigma{\\left({\\xi}_{l},g_{2},g_{3} \\right)}} + \\prod_{l=0}^{N} \\frac{\\sigma{\\left(- z + {\\xi}_{l},g_{2},g_{3} \\right)}}{\\sigma{\\left(z,g_{2},g_{3} \\right)} \\sigma{\\left({\\xi}_{l},g_{2},g_{3} \\right)}} = 2 {c}_{0} + 2 \\sum_{j=0}^{\\left\\lfloor{\\frac{N}{2} - \\frac{1}{2}}\\right\\rfloor} \\frac{\\partial^{2 j}}{\\partial z^{2 j}} \\operatorname{pw}{\\left(z,g_{2},g_{3} \\right)} {c}_{2 j + 1}$"
      ],
      "text/plain": [
       "Eq((-1)**(N + 1)*Product(sigma(z + xi[l], g2, g3)/(sigma(z, g2, g3)*sigma(xi[l], g2, g3)), (l, 0, N)) + Product(sigma(-z + xi[l], g2, g3)/(sigma(z, g2, g3)*sigma(xi[l], g2, g3)), (l, 0, N)), 2*c[0] + 2*Sum(Derivative(pw(z, g2, g3), (z, 2*j))*c[2*j + 1], (j, 0, floor(N/2 - 1/2))))"
      ]
     },
     "execution_count": 116,
     "metadata": {},
     "output_type": "execute_result"
    }
   ],
   "source": [
    "sigma_product_wp_sum_sym = Eq(Product(sigma(-z+xi[l],g2,g3)/sigma(z,g2,g3)/sigma(xi[l],g2,g3),(l,0,N)) +\n",
    "   (-1)**(N+1)*Product(sigma(z+xi[l],g2,g3)/sigma(z,g2,g3)/sigma(xi[l],g2,g3),(l,0,N)),\n",
    "   2*c[0] + 2*Sum(c[2*j+1]*Derivative(pw(z,g2,g3),(z,2*j)),(j,0,floor((N-1)/2)))\n",
    "  )\n",
    "sigma_product_wp_sum_sym"
   ]
  },
  {
   "cell_type": "markdown",
   "metadata": {},
   "source": [
    "### Calculating $c_j$ in terms of matrix cofactors in a Laplace expansion"
   ]
  },
  {
   "cell_type": "markdown",
   "metadata": {},
   "source": [
    "The below functions explicitly calculate $c_j$ using the Laplace expansion method but it is very inefficient and struggles at orders greater than 5."
   ]
  },
  {
   "cell_type": "code",
   "execution_count": 117,
   "metadata": {},
   "outputs": [
    {
     "data": {
      "text/plain": [
       "[True, True]"
      ]
     },
     "execution_count": 117,
     "metadata": {},
     "output_type": "execute_result"
    }
   ],
   "source": [
    "def laplace_expansion(Nval, evaluated=True):\n",
    "    if evaluated:\n",
    "        return ((-1)**(Nval)*p_matrix_f_s_1dz(Nval).minor_submatrix(Nval, 0).det() + \n",
    "                (-1)**(Nval)*sum([\n",
    "                    (-1)**k*Derivative(pw(z,g2,g3),(z,k-1))*(p_matrix_f_s_1dz(Nval).minor_submatrix(Nval, k)).det()\n",
    "                    for k in range(1,Nval + 1)\n",
    "                ]))\n",
    "    else:\n",
    "        return ((-1)**(Nval)*Det(p_matrix_f_s_1dz(Nval).minor_submatrix(Nval, 0)) + \n",
    "                (-1)**(Nval)*sum([\n",
    "                    (-1)**k*Derivative(pw(z,g2,g3),(z,k-1))*(Det(p_matrix_f_s_1dz(Nval).minor_submatrix(Nval, k)))\n",
    "                    for k in range(1,Nval + 1)\n",
    "                ]))\n",
    "    \n",
    "def c_coeff(k, Nval, evaluated=True):\n",
    "    if evaluated:\n",
    "        return -(-1)**k/factorial(Nval)*p_matrix_f_s_1dz(Nval).minor_submatrix(Nval, k).det()/p_matrix_f_s(Nval-1).det()\n",
    "    else:\n",
    "        return -(-1)**k/factorial(Nval)*Det(p_matrix_f_s_1dz(Nval).minor_submatrix(Nval, k))/Det(p_matrix_f_s(Nval-1))\n",
    "\n",
    "def weierstrass_p_and_diffs(Nval):\n",
    "    return (c_coeff(0, Nval).simplify() + \n",
    "            sum([c_coeff(j+1, Nval).simplify()*Derivative(pw(z,g2,g3),(z,j)) for j in range(Nval)]))\n",
    "\n",
    "[\n",
    "    (p_matrix_f_s_1dz(3).det() - laplace_expansion(3)).expand() == 0,\n",
    "    (frob_stick_1dz_ratio(3,evaluated=True).lhs - weierstrass_p_and_diffs(3)).simplify() == 0\n",
    "]"
   ]
  },
  {
   "cell_type": "markdown",
   "metadata": {},
   "source": [
    "### Calculating $c_j$ as coefficients of poles using limits"
   ]
  },
  {
   "cell_type": "code",
   "execution_count": 118,
   "metadata": {},
   "outputs": [
    {
     "data": {
      "text/latex": [
       "$\\displaystyle \\left(-1\\right)^{1 - N} \\prod_{l=0}^{N} \\frac{\\sigma{\\left(z - {\\xi}_{l},g_{2},g_{3} \\right)}}{\\sigma{\\left(z,g_{2},g_{3} \\right)} \\sigma{\\left({\\xi}_{l},g_{2},g_{3} \\right)}} = {c}_{0} + \\sum_{j=0}^{N - 1} \\frac{\\partial^{j}}{\\partial z^{j}} \\operatorname{pw}{\\left(z,g_{2},g_{3} \\right)} {c}_{j + 1}$"
      ],
      "text/plain": [
       "Eq((-1)**(1 - N)*Product(sigma(z - xi[l], g2, g3)/(sigma(z, g2, g3)*sigma(xi[l], g2, g3)), (l, 0, N)), c[0] + Sum(Derivative(pw(z, g2, g3), (z, j))*c[j + 1], (j, 0, N - 1)))"
      ]
     },
     "execution_count": 118,
     "metadata": {},
     "output_type": "execute_result"
    }
   ],
   "source": [
    "sigma_product_wp_diff_eq"
   ]
  },
  {
   "cell_type": "code",
   "execution_count": 119,
   "metadata": {},
   "outputs": [
    {
     "data": {
      "text/latex": [
       "$\\displaystyle \\frac{\\partial^{j}}{\\partial z^{j}} \\operatorname{pw}{\\left(z,g_{2},g_{3} \\right)} = \\left(-1\\right)^{j} z^{- j - 2} \\left(j + 1\\right)! - \\left(-1\\right)^{j} \\sum_{n=1}^{\\infty} z^{- j + 2 n} {\\left(- 2 n - 1\\right)}^{\\left(j + 1\\right)} {G}_{2 n + 2}$"
      ],
      "text/plain": [
       "Eq(Derivative(pw(z, g2, g3), (z, j)), (-1)**j*z**(-j - 2)*factorial(j + 1) - (-1)**j*Sum(z**(-j + 2*n)*RisingFactorial(-2*n - 1, j + 1)*G[2*n + 2], (n, 1, oo)))"
      ]
     },
     "execution_count": 119,
     "metadata": {},
     "output_type": "execute_result"
    }
   ],
   "source": [
    "expansion_z_j_order_diff_wp"
   ]
  },
  {
   "cell_type": "markdown",
   "metadata": {},
   "source": [
    "#### $N=1$ case"
   ]
  },
  {
   "cell_type": "code",
   "execution_count": 120,
   "metadata": {},
   "outputs": [
    {
     "data": {
      "text/latex": [
       "$\\displaystyle \\frac{\\sigma{\\left(z - {\\xi}_{0},g_{2},g_{3} \\right)} \\sigma{\\left(z - {\\xi}_{1},g_{2},g_{3} \\right)}}{\\sigma^{2}{\\left(z,g_{2},g_{3} \\right)} \\sigma{\\left({\\xi}_{0},g_{2},g_{3} \\right)} \\sigma{\\left({\\xi}_{1},g_{2},g_{3} \\right)}} = \\operatorname{pw}{\\left(z,g_{2},g_{3} \\right)} {c}_{1} + {c}_{0}$"
      ],
      "text/plain": [
       "Eq(sigma(z - xi[0], g2, g3)*sigma(z - xi[1], g2, g3)/(sigma(z, g2, g3)**2*sigma(xi[0], g2, g3)*sigma(xi[1], g2, g3)), pw(z, g2, g3)*c[1] + c[0])"
      ]
     },
     "execution_count": 120,
     "metadata": {},
     "output_type": "execute_result"
    }
   ],
   "source": [
    "sigma_product_wp_diff_eq.subs(N,1).doit()"
   ]
  },
  {
   "cell_type": "code",
   "execution_count": 121,
   "metadata": {},
   "outputs": [
    {
     "data": {
      "text/latex": [
       "$\\displaystyle \\operatorname{pw}{\\left(z,g_{2},g_{3} \\right)} = \\frac{1}{z^{2}} + O\\left(z^{2}\\right)$"
      ],
      "text/plain": [
       "Eq(pw(z, g2, g3), z**(-2) + O(z**2))"
      ]
     },
     "execution_count": 121,
     "metadata": {},
     "output_type": "execute_result"
    }
   ],
   "source": [
    "pw_exp_Nval = 0\n",
    "pw_exp_Nval_eq = Eq(expansion_z_wp_N.lhs, expansion_z_wp_N.rhs.subs(N,pw_exp_Nval).doit() + O(z**(2*(pw_exp_Nval+1))))\n",
    "pw_exp_Nval_eq"
   ]
  },
  {
   "cell_type": "code",
   "execution_count": 122,
   "metadata": {},
   "outputs": [
    {
     "data": {
      "text/latex": [
       "$\\displaystyle \\frac{\\sigma{\\left(z - {\\xi}_{0},g_{2},g_{3} \\right)} \\sigma{\\left(z - {\\xi}_{1},g_{2},g_{3} \\right)}}{\\sigma^{2}{\\left(z,g_{2},g_{3} \\right)} \\sigma{\\left({\\xi}_{0},g_{2},g_{3} \\right)} \\sigma{\\left({\\xi}_{1},g_{2},g_{3} \\right)}} = \\frac{{c}_{1}}{z^{2}} + {c}_{0} + O\\left(z^{2}\\right)$"
      ],
      "text/plain": [
       "Eq(sigma(z - xi[0], g2, g3)*sigma(z - xi[1], g2, g3)/(sigma(z, g2, g3)**2*sigma(xi[0], g2, g3)*sigma(xi[1], g2, g3)), c[1]/z**2 + c[0] + O(z**2))"
      ]
     },
     "execution_count": 122,
     "metadata": {},
     "output_type": "execute_result"
    }
   ],
   "source": [
    "sigma_exp_z_n1_eq_rhs = sigma_product_wp_diff_eq.subs(N,1).doit().subs(*pw_exp_Nval_eq.args).expand()\n",
    "sigma_exp_z_n1_eq_rhs"
   ]
  },
  {
   "cell_type": "code",
   "execution_count": 123,
   "metadata": {},
   "outputs": [
    {
     "data": {
      "text/latex": [
       "$\\displaystyle \\frac{1}{\\sigma^{2}{\\left(z,g_{2},g_{3} \\right)}} = \\frac{1}{z^{2}} + \\frac{12 g_{3} z^{4}}{7} + \\frac{g_{2} z^{2}}{5} + O\\left(z^{6}\\right)$"
      ],
      "text/plain": [
       "Eq(sigma(z, g2, g3)**(-2), z**(-2) + 12*g3*z**4/7 + g2*z**2/5 + O(z**6))"
      ]
     },
     "execution_count": 123,
     "metadata": {},
     "output_type": "execute_result"
    }
   ],
   "source": [
    "one_over_sig_to_2_exp = one_over_sigma_z_power_N.subs(N,2).expand()\n",
    "one_over_sig_to_2_exp"
   ]
  },
  {
   "cell_type": "code",
   "execution_count": 124,
   "metadata": {},
   "outputs": [
    {
     "data": {
      "text/latex": [
       "$\\displaystyle \\sigma{\\left(z - {\\xi}_{0},g_{2},g_{3} \\right)} = - \\sigma{\\left({\\xi}_{0},g_{2},g_{3} \\right)} + z \\sigma{\\left({\\xi}_{0},g_{2},g_{3} \\right)} \\operatorname{zw}{\\left({\\xi}_{0},g_{2},g_{3} \\right)} + \\frac{z^{2} \\left(\\operatorname{pw}{\\left({\\xi}_{0},g_{2},g_{3} \\right)} - \\operatorname{zw}^{2}{\\left({\\xi}_{0},g_{2},g_{3} \\right)}\\right) \\sigma{\\left({\\xi}_{0},g_{2},g_{3} \\right)}}{2} + \\frac{z^{3} \\left(- 3 \\operatorname{pw}{\\left({\\xi}_{0},g_{2},g_{3} \\right)} \\operatorname{zw}{\\left({\\xi}_{0},g_{2},g_{3} \\right)} - \\operatorname{pwp}{\\left({\\xi}_{0},g_{2},g_{3} \\right)} + \\operatorname{zw}^{3}{\\left({\\xi}_{0},g_{2},g_{3} \\right)}\\right) \\sigma{\\left({\\xi}_{0},g_{2},g_{3} \\right)}}{6} + O\\left(z^{4}\\right)$"
      ],
      "text/plain": [
       "Eq(sigma(z - xi[0], g2, g3), -sigma(xi[0], g2, g3) + z*sigma(xi[0], g2, g3)*zw(xi[0], g2, g3) + z**2*(pw(xi[0], g2, g3) - zw(xi[0], g2, g3)**2)*sigma(xi[0], g2, g3)/2 + z**3*(-3*pw(xi[0], g2, g3)*zw(xi[0], g2, g3) - pwp(xi[0], g2, g3) + zw(xi[0], g2, g3)**3)*sigma(xi[0], g2, g3)/6 + O(z**4))"
      ]
     },
     "execution_count": 124,
     "metadata": {},
     "output_type": "execute_result"
    }
   ],
   "source": [
    "z_min_xi0_exp = sigma_z_minus_x_3_exp.subs(x,xi[0])\n",
    "z_min_xi0_exp"
   ]
  },
  {
   "cell_type": "code",
   "execution_count": 125,
   "metadata": {},
   "outputs": [
    {
     "data": {
      "text/latex": [
       "$\\displaystyle \\sigma{\\left(z - {\\xi}_{1},g_{2},g_{3} \\right)} = - \\sigma{\\left({\\xi}_{1},g_{2},g_{3} \\right)} + z \\sigma{\\left({\\xi}_{1},g_{2},g_{3} \\right)} \\operatorname{zw}{\\left({\\xi}_{1},g_{2},g_{3} \\right)} + \\frac{z^{2} \\left(\\operatorname{pw}{\\left({\\xi}_{1},g_{2},g_{3} \\right)} - \\operatorname{zw}^{2}{\\left({\\xi}_{1},g_{2},g_{3} \\right)}\\right) \\sigma{\\left({\\xi}_{1},g_{2},g_{3} \\right)}}{2} + \\frac{z^{3} \\left(- 3 \\operatorname{pw}{\\left({\\xi}_{1},g_{2},g_{3} \\right)} \\operatorname{zw}{\\left({\\xi}_{1},g_{2},g_{3} \\right)} - \\operatorname{pwp}{\\left({\\xi}_{1},g_{2},g_{3} \\right)} + \\operatorname{zw}^{3}{\\left({\\xi}_{1},g_{2},g_{3} \\right)}\\right) \\sigma{\\left({\\xi}_{1},g_{2},g_{3} \\right)}}{6} + O\\left(z^{4}\\right)$"
      ],
      "text/plain": [
       "Eq(sigma(z - xi[1], g2, g3), -sigma(xi[1], g2, g3) + z*sigma(xi[1], g2, g3)*zw(xi[1], g2, g3) + z**2*(pw(xi[1], g2, g3) - zw(xi[1], g2, g3)**2)*sigma(xi[1], g2, g3)/2 + z**3*(-3*pw(xi[1], g2, g3)*zw(xi[1], g2, g3) - pwp(xi[1], g2, g3) + zw(xi[1], g2, g3)**3)*sigma(xi[1], g2, g3)/6 + O(z**4))"
      ]
     },
     "execution_count": 125,
     "metadata": {},
     "output_type": "execute_result"
    }
   ],
   "source": [
    "z_min_xi1_exp = sigma_z_minus_x_3_exp.subs(x,xi[1])\n",
    "z_min_xi1_exp"
   ]
  },
  {
   "cell_type": "code",
   "execution_count": 126,
   "metadata": {},
   "outputs": [
    {
     "data": {
      "text/latex": [
       "$\\displaystyle \\frac{\\sigma{\\left(z - {\\xi}_{0},g_{2},g_{3} \\right)} \\sigma{\\left(z - {\\xi}_{1},g_{2},g_{3} \\right)}}{\\sigma^{2}{\\left(z,g_{2},g_{3} \\right)} \\sigma{\\left({\\xi}_{0},g_{2},g_{3} \\right)} \\sigma{\\left({\\xi}_{1},g_{2},g_{3} \\right)}} = \\frac{1}{z^{2}} - \\frac{\\operatorname{zw}{\\left({\\xi}_{1},g_{2},g_{3} \\right)}}{z} - \\frac{\\operatorname{zw}{\\left({\\xi}_{0},g_{2},g_{3} \\right)}}{z} + \\frac{\\operatorname{zw}^{2}{\\left({\\xi}_{1},g_{2},g_{3} \\right)}}{2} + \\operatorname{zw}{\\left({\\xi}_{0},g_{2},g_{3} \\right)} \\operatorname{zw}{\\left({\\xi}_{1},g_{2},g_{3} \\right)} + \\frac{\\operatorname{zw}^{2}{\\left({\\xi}_{0},g_{2},g_{3} \\right)}}{2} - \\frac{\\operatorname{pw}{\\left({\\xi}_{1},g_{2},g_{3} \\right)}}{2} - \\frac{\\operatorname{pw}{\\left({\\xi}_{0},g_{2},g_{3} \\right)}}{2} - \\frac{z \\operatorname{zw}^{3}{\\left({\\xi}_{1},g_{2},g_{3} \\right)}}{6} - \\frac{z \\operatorname{zw}{\\left({\\xi}_{0},g_{2},g_{3} \\right)} \\operatorname{zw}^{2}{\\left({\\xi}_{1},g_{2},g_{3} \\right)}}{2} - \\frac{z \\operatorname{zw}^{2}{\\left({\\xi}_{0},g_{2},g_{3} \\right)} \\operatorname{zw}{\\left({\\xi}_{1},g_{2},g_{3} \\right)}}{2} - \\frac{z \\operatorname{zw}^{3}{\\left({\\xi}_{0},g_{2},g_{3} \\right)}}{6} + \\frac{z \\operatorname{pwp}{\\left({\\xi}_{1},g_{2},g_{3} \\right)}}{6} + \\frac{z \\operatorname{pwp}{\\left({\\xi}_{0},g_{2},g_{3} \\right)}}{6} + \\frac{z \\operatorname{pw}{\\left({\\xi}_{1},g_{2},g_{3} \\right)} \\operatorname{zw}{\\left({\\xi}_{1},g_{2},g_{3} \\right)}}{2} + \\frac{z \\operatorname{pw}{\\left({\\xi}_{1},g_{2},g_{3} \\right)} \\operatorname{zw}{\\left({\\xi}_{0},g_{2},g_{3} \\right)}}{2} + \\frac{z \\operatorname{pw}{\\left({\\xi}_{0},g_{2},g_{3} \\right)} \\operatorname{zw}{\\left({\\xi}_{1},g_{2},g_{3} \\right)}}{2} + \\frac{z \\operatorname{pw}{\\left({\\xi}_{0},g_{2},g_{3} \\right)} \\operatorname{zw}{\\left({\\xi}_{0},g_{2},g_{3} \\right)}}{2} + O\\left(z^{2}\\right)$"
      ],
      "text/plain": [
       "Eq(sigma(z - xi[0], g2, g3)*sigma(z - xi[1], g2, g3)/(sigma(z, g2, g3)**2*sigma(xi[0], g2, g3)*sigma(xi[1], g2, g3)), z**(-2) - zw(xi[1], g2, g3)/z - zw(xi[0], g2, g3)/z + zw(xi[1], g2, g3)**2/2 + zw(xi[0], g2, g3)*zw(xi[1], g2, g3) + zw(xi[0], g2, g3)**2/2 - pw(xi[1], g2, g3)/2 - pw(xi[0], g2, g3)/2 - z*zw(xi[1], g2, g3)**3/6 - z*zw(xi[0], g2, g3)*zw(xi[1], g2, g3)**2/2 - z*zw(xi[0], g2, g3)**2*zw(xi[1], g2, g3)/2 - z*zw(xi[0], g2, g3)**3/6 + z*pwp(xi[1], g2, g3)/6 + z*pwp(xi[0], g2, g3)/6 + z*pw(xi[1], g2, g3)*zw(xi[1], g2, g3)/2 + z*pw(xi[1], g2, g3)*zw(xi[0], g2, g3)/2 + z*pw(xi[0], g2, g3)*zw(xi[1], g2, g3)/2 + z*pw(xi[0], g2, g3)*zw(xi[0], g2, g3)/2 + O(z**2))"
      ]
     },
     "execution_count": 126,
     "metadata": {},
     "output_type": "execute_result"
    }
   ],
   "source": [
    "sigma_exp_z_n1_eq_lhs = Eq(sigma_product_wp_diff_eq.subs(N,1).doit().lhs,\n",
    "   sigma_product_wp_diff_eq.subs(N,1).doit().lhs.subs([\n",
    "        z_min_xi0_exp.args, z_min_xi1_exp.args, one_over_sig_to_2_exp.args\n",
    "    ]).expand()\n",
    "  )\n",
    "sigma_exp_z_n1_eq_lhs "
   ]
  },
  {
   "cell_type": "code",
   "execution_count": 127,
   "metadata": {},
   "outputs": [
    {
     "data": {
      "text/latex": [
       "$\\displaystyle 0 = \\frac{1 - {c}_{1}}{z^{2}} + \\frac{- \\operatorname{zw}{\\left({\\xi}_{0},g_{2},g_{3} \\right)} - \\operatorname{zw}{\\left({\\xi}_{1},g_{2},g_{3} \\right)}}{z} - {c}_{0} + \\frac{\\operatorname{zw}^{2}{\\left({\\xi}_{1},g_{2},g_{3} \\right)}}{2} + \\operatorname{zw}{\\left({\\xi}_{0},g_{2},g_{3} \\right)} \\operatorname{zw}{\\left({\\xi}_{1},g_{2},g_{3} \\right)} + \\frac{\\operatorname{zw}^{2}{\\left({\\xi}_{0},g_{2},g_{3} \\right)}}{2} - \\frac{\\operatorname{pw}{\\left({\\xi}_{1},g_{2},g_{3} \\right)}}{2} - \\frac{\\operatorname{pw}{\\left({\\xi}_{0},g_{2},g_{3} \\right)}}{2} + z \\left(\\frac{\\operatorname{pw}{\\left({\\xi}_{0},g_{2},g_{3} \\right)} \\operatorname{zw}{\\left({\\xi}_{0},g_{2},g_{3} \\right)}}{2} + \\frac{\\operatorname{pw}{\\left({\\xi}_{0},g_{2},g_{3} \\right)} \\operatorname{zw}{\\left({\\xi}_{1},g_{2},g_{3} \\right)}}{2} + \\frac{\\operatorname{pw}{\\left({\\xi}_{1},g_{2},g_{3} \\right)} \\operatorname{zw}{\\left({\\xi}_{0},g_{2},g_{3} \\right)}}{2} + \\frac{\\operatorname{pw}{\\left({\\xi}_{1},g_{2},g_{3} \\right)} \\operatorname{zw}{\\left({\\xi}_{1},g_{2},g_{3} \\right)}}{2} + \\frac{\\operatorname{pwp}{\\left({\\xi}_{0},g_{2},g_{3} \\right)}}{6} + \\frac{\\operatorname{pwp}{\\left({\\xi}_{1},g_{2},g_{3} \\right)}}{6} - \\frac{\\operatorname{zw}^{3}{\\left({\\xi}_{0},g_{2},g_{3} \\right)}}{6} - \\frac{\\operatorname{zw}^{2}{\\left({\\xi}_{0},g_{2},g_{3} \\right)} \\operatorname{zw}{\\left({\\xi}_{1},g_{2},g_{3} \\right)}}{2} - \\frac{\\operatorname{zw}{\\left({\\xi}_{0},g_{2},g_{3} \\right)} \\operatorname{zw}^{2}{\\left({\\xi}_{1},g_{2},g_{3} \\right)}}{2} - \\frac{\\operatorname{zw}^{3}{\\left({\\xi}_{1},g_{2},g_{3} \\right)}}{6}\\right) + O\\left(z^{2}\\right)$"
      ],
      "text/plain": [
       "Eq(0, (1 - c[1])/z**2 + (-zw(xi[0], g2, g3) - zw(xi[1], g2, g3))/z - c[0] + zw(xi[1], g2, g3)**2/2 + zw(xi[0], g2, g3)*zw(xi[1], g2, g3) + zw(xi[0], g2, g3)**2/2 - pw(xi[1], g2, g3)/2 - pw(xi[0], g2, g3)/2 + z*(pw(xi[0], g2, g3)*zw(xi[0], g2, g3)/2 + pw(xi[0], g2, g3)*zw(xi[1], g2, g3)/2 + pw(xi[1], g2, g3)*zw(xi[0], g2, g3)/2 + pw(xi[1], g2, g3)*zw(xi[1], g2, g3)/2 + pwp(xi[0], g2, g3)/6 + pwp(xi[1], g2, g3)/6 - zw(xi[0], g2, g3)**3/6 - zw(xi[0], g2, g3)**2*zw(xi[1], g2, g3)/2 - zw(xi[0], g2, g3)*zw(xi[1], g2, g3)**2/2 - zw(xi[1], g2, g3)**3/6) + O(z**2))"
      ]
     },
     "execution_count": 127,
     "metadata": {},
     "output_type": "execute_result"
    }
   ],
   "source": [
    "coeff_eq_n1_poly = Eq(sigma_exp_z_n1_eq_lhs.lhs - sigma_exp_z_n1_eq_rhs.lhs, \n",
    "   (sigma_exp_z_n1_eq_lhs.rhs - sigma_exp_z_n1_eq_rhs.rhs).collect(z))\n",
    "coeff_eq_n1_poly"
   ]
  },
  {
   "cell_type": "code",
   "execution_count": 128,
   "metadata": {},
   "outputs": [
    {
     "data": {
      "text/latex": [
       "$\\displaystyle {c}_{1} = 1$"
      ],
      "text/plain": [
       "Eq(c[1], 1)"
      ]
     },
     "execution_count": 128,
     "metadata": {},
     "output_type": "execute_result"
    }
   ],
   "source": [
    "c1_val_n1 = Eq(c[1], solve(coeff_eq_n1_poly.rhs.coeff(1/z**2), c[1])[0])\n",
    "c1_val_n1"
   ]
  },
  {
   "cell_type": "code",
   "execution_count": 129,
   "metadata": {},
   "outputs": [
    {
     "data": {
      "text/latex": [
       "$\\displaystyle - \\operatorname{zw}{\\left({\\xi}_{0},g_{2},g_{3} \\right)} - \\operatorname{zw}{\\left({\\xi}_{1},g_{2},g_{3} \\right)} = 0$"
      ],
      "text/plain": [
       "Eq(-zw(xi[0], g2, g3) - zw(xi[1], g2, g3), 0)"
      ]
     },
     "execution_count": 129,
     "metadata": {},
     "output_type": "execute_result"
    }
   ],
   "source": [
    "one_over_z_term_n1 = Eq(coeff_eq_n1_poly.rhs.coeff(1/z),0)\n",
    "one_over_z_term_n1"
   ]
  },
  {
   "cell_type": "code",
   "execution_count": 130,
   "metadata": {},
   "outputs": [
    {
     "data": {
      "text/latex": [
       "$\\displaystyle {c}_{0} = - \\frac{\\operatorname{pw}{\\left({\\xi}_{0},g_{2},g_{3} \\right)}}{2} - \\frac{\\operatorname{pw}{\\left({\\xi}_{1},g_{2},g_{3} \\right)}}{2} + \\frac{\\operatorname{zw}^{2}{\\left({\\xi}_{0},g_{2},g_{3} \\right)}}{2} + \\operatorname{zw}{\\left({\\xi}_{0},g_{2},g_{3} \\right)} \\operatorname{zw}{\\left({\\xi}_{1},g_{2},g_{3} \\right)} + \\frac{\\operatorname{zw}^{2}{\\left({\\xi}_{1},g_{2},g_{3} \\right)}}{2}$"
      ],
      "text/plain": [
       "Eq(c[0], -pw(xi[0], g2, g3)/2 - pw(xi[1], g2, g3)/2 + zw(xi[0], g2, g3)**2/2 + zw(xi[0], g2, g3)*zw(xi[1], g2, g3) + zw(xi[1], g2, g3)**2/2)"
      ]
     },
     "execution_count": 130,
     "metadata": {},
     "output_type": "execute_result"
    }
   ],
   "source": [
    "c0_val_n1 = Eq(c[0], solve(limit(coeff_eq_n1_poly.rhs.subs([c1_val_n1.args, one_over_z_term_n1.args]),z,0), c[0])[0])\n",
    "c0_val_n1"
   ]
  },
  {
   "cell_type": "code",
   "execution_count": 131,
   "metadata": {},
   "outputs": [
    {
     "data": {
      "text/latex": [
       "$\\displaystyle {c}_{0} = - \\operatorname{pw}{\\left({\\xi}_{0},g_{2},g_{3} \\right)}$"
      ],
      "text/plain": [
       "Eq(c[0], -pw(xi[0], g2, g3))"
      ]
     },
     "execution_count": 131,
     "metadata": {},
     "output_type": "execute_result"
    }
   ],
   "source": [
    "c0_val_n1.subs(xi[1],-xi[0]).subs([\n",
    "            (sigma(-xi[0],g2,g3), -sigma(xi[0],g2,g3)), (zw(-xi[0],g2,g3), -zw(xi[0],g2,g3)),\n",
    "       (pw(-xi[0],g2,g3), pw(xi[0],g2,g3))\n",
    "])"
   ]
  },
  {
   "cell_type": "markdown",
   "metadata": {},
   "source": [
    "#### $N=2$ case"
   ]
  },
  {
   "cell_type": "code",
   "execution_count": 132,
   "metadata": {},
   "outputs": [
    {
     "data": {
      "text/latex": [
       "$\\displaystyle - \\frac{\\sigma{\\left(z - {\\xi}_{0},g_{2},g_{3} \\right)} \\sigma{\\left(z - {\\xi}_{1},g_{2},g_{3} \\right)} \\sigma{\\left(z - {\\xi}_{2},g_{2},g_{3} \\right)}}{\\sigma^{3}{\\left(z,g_{2},g_{3} \\right)} \\sigma{\\left({\\xi}_{0},g_{2},g_{3} \\right)} \\sigma{\\left({\\xi}_{1},g_{2},g_{3} \\right)} \\sigma{\\left({\\xi}_{2},g_{2},g_{3} \\right)}} = \\operatorname{pw}{\\left(z,g_{2},g_{3} \\right)} {c}_{1} + \\frac{\\partial}{\\partial z} \\operatorname{pw}{\\left(z,g_{2},g_{3} \\right)} {c}_{2} + {c}_{0}$"
      ],
      "text/plain": [
       "Eq(-sigma(z - xi[0], g2, g3)*sigma(z - xi[1], g2, g3)*sigma(z - xi[2], g2, g3)/(sigma(z, g2, g3)**3*sigma(xi[0], g2, g3)*sigma(xi[1], g2, g3)*sigma(xi[2], g2, g3)), pw(z, g2, g3)*c[1] + Derivative(pw(z, g2, g3), z)*c[2] + c[0])"
      ]
     },
     "execution_count": 132,
     "metadata": {},
     "output_type": "execute_result"
    }
   ],
   "source": [
    "sigma_product_wp_diff_eq.subs(N,2).doit()"
   ]
  },
  {
   "cell_type": "code",
   "execution_count": 133,
   "metadata": {},
   "outputs": [
    {
     "data": {
      "text/latex": [
       "$\\displaystyle \\operatorname{pw}{\\left(z,g_{2},g_{3} \\right)} = \\frac{1}{z^{2}} + 3 z^{2} {G}_{4} + O\\left(z^{4}\\right)$"
      ],
      "text/plain": [
       "Eq(pw(z, g2, g3), z**(-2) + 3*z**2*G[4] + O(z**4))"
      ]
     },
     "execution_count": 133,
     "metadata": {},
     "output_type": "execute_result"
    }
   ],
   "source": [
    "pw_exp_n2_Nval = 1\n",
    "pw_exp_n2_Nval_eq = Eq(expansion_z_wp_N.lhs, \n",
    "                       expansion_z_wp_N.rhs.subs(N,pw_exp_n2_Nval).doit() + O(z**(2*(pw_exp_n2_Nval+1))))\n",
    "pw_exp_n2_Nval_eq"
   ]
  },
  {
   "cell_type": "code",
   "execution_count": 134,
   "metadata": {},
   "outputs": [
    {
     "data": {
      "text/latex": [
       "$\\displaystyle \\frac{\\partial}{\\partial z} \\operatorname{pw}{\\left(z,g_{2},g_{3} \\right)} = - \\frac{2}{z^{3}} + 6 z {G}_{4} + O\\left(z^{3}\\right)$"
      ],
      "text/plain": [
       "Eq(Derivative(pw(z, g2, g3), z), -2/z**3 + 6*z*G[4] + O(z**3))"
      ]
     },
     "execution_count": 134,
     "metadata": {},
     "output_type": "execute_result"
    }
   ],
   "source": [
    "pw_exp_n2_Nval_eq_diff_1 = Eq(diff(pw_exp_n2_Nval_eq.lhs,z), diff(pw_exp_n2_Nval_eq.rhs,z))\n",
    "pw_exp_n2_Nval_eq_diff_1"
   ]
  },
  {
   "cell_type": "code",
   "execution_count": 135,
   "metadata": {},
   "outputs": [
    {
     "data": {
      "text/latex": [
       "$\\displaystyle - \\frac{\\sigma{\\left(z - {\\xi}_{0},g_{2},g_{3} \\right)} \\sigma{\\left(z - {\\xi}_{1},g_{2},g_{3} \\right)} \\sigma{\\left(z - {\\xi}_{2},g_{2},g_{3} \\right)}}{\\sigma^{3}{\\left(z,g_{2},g_{3} \\right)} \\sigma{\\left({\\xi}_{0},g_{2},g_{3} \\right)} \\sigma{\\left({\\xi}_{1},g_{2},g_{3} \\right)} \\sigma{\\left({\\xi}_{2},g_{2},g_{3} \\right)}} = - \\frac{2 {c}_{2}}{z^{3}} + \\frac{{c}_{1}}{z^{2}} + {c}_{0} + 6 z {G}_{4} {c}_{2} + 3 z^{2} {G}_{4} {c}_{1} + O\\left(z^{3}\\right)$"
      ],
      "text/plain": [
       "Eq(-sigma(z - xi[0], g2, g3)*sigma(z - xi[1], g2, g3)*sigma(z - xi[2], g2, g3)/(sigma(z, g2, g3)**3*sigma(xi[0], g2, g3)*sigma(xi[1], g2, g3)*sigma(xi[2], g2, g3)), -2*c[2]/z**3 + c[1]/z**2 + c[0] + 6*z*G[4]*c[2] + 3*z**2*G[4]*c[1] + O(z**3))"
      ]
     },
     "execution_count": 135,
     "metadata": {},
     "output_type": "execute_result"
    }
   ],
   "source": [
    "sigma_exp_z_n2_eq_rhs = (sigma_product_wp_diff_eq.subs(N,2).doit()\n",
    "                         .subs(*pw_exp_n2_Nval_eq_diff_1.args)\n",
    "                         .subs(*pw_exp_n2_Nval_eq.args)\n",
    "                         .expand())\n",
    "sigma_exp_z_n2_eq_rhs"
   ]
  },
  {
   "cell_type": "code",
   "execution_count": 136,
   "metadata": {},
   "outputs": [
    {
     "data": {
      "text/latex": [
       "$\\displaystyle \\frac{1}{\\sigma^{3}{\\left(z,g_{2},g_{3} \\right)}} = \\frac{1}{z^{3}} + \\frac{18 g_{3} z^{3}}{7} + \\frac{3 g_{2} z}{10} + O\\left(z^{5}\\right)$"
      ],
      "text/plain": [
       "Eq(sigma(z, g2, g3)**(-3), z**(-3) + 18*g3*z**3/7 + 3*g2*z/10 + O(z**5))"
      ]
     },
     "execution_count": 136,
     "metadata": {},
     "output_type": "execute_result"
    }
   ],
   "source": [
    "one_over_sig_to_3_exp = one_over_sigma_z_power_N.subs(N,3).expand()\n",
    "one_over_sig_to_3_exp"
   ]
  },
  {
   "cell_type": "code",
   "execution_count": 137,
   "metadata": {},
   "outputs": [
    {
     "data": {
      "text/latex": [
       "$\\displaystyle \\sigma{\\left(z - {\\xi}_{2},g_{2},g_{3} \\right)} = - \\sigma{\\left({\\xi}_{2},g_{2},g_{3} \\right)} + z \\sigma{\\left({\\xi}_{2},g_{2},g_{3} \\right)} \\operatorname{zw}{\\left({\\xi}_{2},g_{2},g_{3} \\right)} + \\frac{z^{2} \\left(\\operatorname{pw}{\\left({\\xi}_{2},g_{2},g_{3} \\right)} - \\operatorname{zw}^{2}{\\left({\\xi}_{2},g_{2},g_{3} \\right)}\\right) \\sigma{\\left({\\xi}_{2},g_{2},g_{3} \\right)}}{2} + \\frac{z^{3} \\left(- 3 \\operatorname{pw}{\\left({\\xi}_{2},g_{2},g_{3} \\right)} \\operatorname{zw}{\\left({\\xi}_{2},g_{2},g_{3} \\right)} - \\operatorname{pwp}{\\left({\\xi}_{2},g_{2},g_{3} \\right)} + \\operatorname{zw}^{3}{\\left({\\xi}_{2},g_{2},g_{3} \\right)}\\right) \\sigma{\\left({\\xi}_{2},g_{2},g_{3} \\right)}}{6} + O\\left(z^{4}\\right)$"
      ],
      "text/plain": [
       "Eq(sigma(z - xi[2], g2, g3), -sigma(xi[2], g2, g3) + z*sigma(xi[2], g2, g3)*zw(xi[2], g2, g3) + z**2*(pw(xi[2], g2, g3) - zw(xi[2], g2, g3)**2)*sigma(xi[2], g2, g3)/2 + z**3*(-3*pw(xi[2], g2, g3)*zw(xi[2], g2, g3) - pwp(xi[2], g2, g3) + zw(xi[2], g2, g3)**3)*sigma(xi[2], g2, g3)/6 + O(z**4))"
      ]
     },
     "execution_count": 137,
     "metadata": {},
     "output_type": "execute_result"
    }
   ],
   "source": [
    "z_min_xi2_exp = sigma_z_minus_x_3_exp.subs(x,xi[2])\n",
    "z_min_xi2_exp"
   ]
  },
  {
   "cell_type": "code",
   "execution_count": 138,
   "metadata": {},
   "outputs": [
    {
     "data": {
      "text/latex": [
       "$\\displaystyle - \\frac{\\sigma{\\left(z - {\\xi}_{0},g_{2},g_{3} \\right)} \\sigma{\\left(z - {\\xi}_{1},g_{2},g_{3} \\right)} \\sigma{\\left(z - {\\xi}_{2},g_{2},g_{3} \\right)}}{\\sigma^{3}{\\left(z,g_{2},g_{3} \\right)} \\sigma{\\left({\\xi}_{0},g_{2},g_{3} \\right)} \\sigma{\\left({\\xi}_{1},g_{2},g_{3} \\right)} \\sigma{\\left({\\xi}_{2},g_{2},g_{3} \\right)}} = \\frac{1}{z^{3}} - \\frac{\\operatorname{zw}{\\left({\\xi}_{2},g_{2},g_{3} \\right)}}{z^{2}} - \\frac{\\operatorname{zw}{\\left({\\xi}_{1},g_{2},g_{3} \\right)}}{z^{2}} - \\frac{\\operatorname{zw}{\\left({\\xi}_{0},g_{2},g_{3} \\right)}}{z^{2}} + \\frac{\\operatorname{zw}^{2}{\\left({\\xi}_{2},g_{2},g_{3} \\right)}}{2 z} + \\frac{\\operatorname{zw}{\\left({\\xi}_{1},g_{2},g_{3} \\right)} \\operatorname{zw}{\\left({\\xi}_{2},g_{2},g_{3} \\right)}}{z} + \\frac{\\operatorname{zw}^{2}{\\left({\\xi}_{1},g_{2},g_{3} \\right)}}{2 z} + \\frac{\\operatorname{zw}{\\left({\\xi}_{0},g_{2},g_{3} \\right)} \\operatorname{zw}{\\left({\\xi}_{2},g_{2},g_{3} \\right)}}{z} + \\frac{\\operatorname{zw}{\\left({\\xi}_{0},g_{2},g_{3} \\right)} \\operatorname{zw}{\\left({\\xi}_{1},g_{2},g_{3} \\right)}}{z} + \\frac{\\operatorname{zw}^{2}{\\left({\\xi}_{0},g_{2},g_{3} \\right)}}{2 z} - \\frac{\\operatorname{pw}{\\left({\\xi}_{2},g_{2},g_{3} \\right)}}{2 z} - \\frac{\\operatorname{pw}{\\left({\\xi}_{1},g_{2},g_{3} \\right)}}{2 z} - \\frac{\\operatorname{pw}{\\left({\\xi}_{0},g_{2},g_{3} \\right)}}{2 z} - \\frac{\\operatorname{zw}^{3}{\\left({\\xi}_{2},g_{2},g_{3} \\right)}}{6} - \\frac{\\operatorname{zw}{\\left({\\xi}_{1},g_{2},g_{3} \\right)} \\operatorname{zw}^{2}{\\left({\\xi}_{2},g_{2},g_{3} \\right)}}{2} - \\frac{\\operatorname{zw}^{2}{\\left({\\xi}_{1},g_{2},g_{3} \\right)} \\operatorname{zw}{\\left({\\xi}_{2},g_{2},g_{3} \\right)}}{2} - \\frac{\\operatorname{zw}^{3}{\\left({\\xi}_{1},g_{2},g_{3} \\right)}}{6} - \\frac{\\operatorname{zw}{\\left({\\xi}_{0},g_{2},g_{3} \\right)} \\operatorname{zw}^{2}{\\left({\\xi}_{2},g_{2},g_{3} \\right)}}{2} - \\operatorname{zw}{\\left({\\xi}_{0},g_{2},g_{3} \\right)} \\operatorname{zw}{\\left({\\xi}_{1},g_{2},g_{3} \\right)} \\operatorname{zw}{\\left({\\xi}_{2},g_{2},g_{3} \\right)} - \\frac{\\operatorname{zw}{\\left({\\xi}_{0},g_{2},g_{3} \\right)} \\operatorname{zw}^{2}{\\left({\\xi}_{1},g_{2},g_{3} \\right)}}{2} - \\frac{\\operatorname{zw}^{2}{\\left({\\xi}_{0},g_{2},g_{3} \\right)} \\operatorname{zw}{\\left({\\xi}_{2},g_{2},g_{3} \\right)}}{2} - \\frac{\\operatorname{zw}^{2}{\\left({\\xi}_{0},g_{2},g_{3} \\right)} \\operatorname{zw}{\\left({\\xi}_{1},g_{2},g_{3} \\right)}}{2} - \\frac{\\operatorname{zw}^{3}{\\left({\\xi}_{0},g_{2},g_{3} \\right)}}{6} + \\frac{\\operatorname{pwp}{\\left({\\xi}_{2},g_{2},g_{3} \\right)}}{6} + \\frac{\\operatorname{pwp}{\\left({\\xi}_{1},g_{2},g_{3} \\right)}}{6} + \\frac{\\operatorname{pwp}{\\left({\\xi}_{0},g_{2},g_{3} \\right)}}{6} + \\frac{\\operatorname{pw}{\\left({\\xi}_{2},g_{2},g_{3} \\right)} \\operatorname{zw}{\\left({\\xi}_{2},g_{2},g_{3} \\right)}}{2} + \\frac{\\operatorname{pw}{\\left({\\xi}_{2},g_{2},g_{3} \\right)} \\operatorname{zw}{\\left({\\xi}_{1},g_{2},g_{3} \\right)}}{2} + \\frac{\\operatorname{pw}{\\left({\\xi}_{2},g_{2},g_{3} \\right)} \\operatorname{zw}{\\left({\\xi}_{0},g_{2},g_{3} \\right)}}{2} + \\frac{\\operatorname{pw}{\\left({\\xi}_{1},g_{2},g_{3} \\right)} \\operatorname{zw}{\\left({\\xi}_{2},g_{2},g_{3} \\right)}}{2} + \\frac{\\operatorname{pw}{\\left({\\xi}_{1},g_{2},g_{3} \\right)} \\operatorname{zw}{\\left({\\xi}_{1},g_{2},g_{3} \\right)}}{2} + \\frac{\\operatorname{pw}{\\left({\\xi}_{1},g_{2},g_{3} \\right)} \\operatorname{zw}{\\left({\\xi}_{0},g_{2},g_{3} \\right)}}{2} + \\frac{\\operatorname{pw}{\\left({\\xi}_{0},g_{2},g_{3} \\right)} \\operatorname{zw}{\\left({\\xi}_{2},g_{2},g_{3} \\right)}}{2} + \\frac{\\operatorname{pw}{\\left({\\xi}_{0},g_{2},g_{3} \\right)} \\operatorname{zw}{\\left({\\xi}_{1},g_{2},g_{3} \\right)}}{2} + \\frac{\\operatorname{pw}{\\left({\\xi}_{0},g_{2},g_{3} \\right)} \\operatorname{zw}{\\left({\\xi}_{0},g_{2},g_{3} \\right)}}{2} + O\\left(z\\right)$"
      ],
      "text/plain": [
       "Eq(-sigma(z - xi[0], g2, g3)*sigma(z - xi[1], g2, g3)*sigma(z - xi[2], g2, g3)/(sigma(z, g2, g3)**3*sigma(xi[0], g2, g3)*sigma(xi[1], g2, g3)*sigma(xi[2], g2, g3)), z**(-3) - zw(xi[2], g2, g3)/z**2 - zw(xi[1], g2, g3)/z**2 - zw(xi[0], g2, g3)/z**2 + zw(xi[2], g2, g3)**2/(2*z) + zw(xi[1], g2, g3)*zw(xi[2], g2, g3)/z + zw(xi[1], g2, g3)**2/(2*z) + zw(xi[0], g2, g3)*zw(xi[2], g2, g3)/z + zw(xi[0], g2, g3)*zw(xi[1], g2, g3)/z + zw(xi[0], g2, g3)**2/(2*z) - pw(xi[2], g2, g3)/(2*z) - pw(xi[1], g2, g3)/(2*z) - pw(xi[0], g2, g3)/(2*z) - zw(xi[2], g2, g3)**3/6 - zw(xi[1], g2, g3)*zw(xi[2], g2, g3)**2/2 - zw(xi[1], g2, g3)**2*zw(xi[2], g2, g3)/2 - zw(xi[1], g2, g3)**3/6 - zw(xi[0], g2, g3)*zw(xi[2], g2, g3)**2/2 - zw(xi[0], g2, g3)*zw(xi[1], g2, g3)*zw(xi[2], g2, g3) - zw(xi[0], g2, g3)*zw(xi[1], g2, g3)**2/2 - zw(xi[0], g2, g3)**2*zw(xi[2], g2, g3)/2 - zw(xi[0], g2, g3)**2*zw(xi[1], g2, g3)/2 - zw(xi[0], g2, g3)**3/6 + pwp(xi[2], g2, g3)/6 + pwp(xi[1], g2, g3)/6 + pwp(xi[0], g2, g3)/6 + pw(xi[2], g2, g3)*zw(xi[2], g2, g3)/2 + pw(xi[2], g2, g3)*zw(xi[1], g2, g3)/2 + pw(xi[2], g2, g3)*zw(xi[0], g2, g3)/2 + pw(xi[1], g2, g3)*zw(xi[2], g2, g3)/2 + pw(xi[1], g2, g3)*zw(xi[1], g2, g3)/2 + pw(xi[1], g2, g3)*zw(xi[0], g2, g3)/2 + pw(xi[0], g2, g3)*zw(xi[2], g2, g3)/2 + pw(xi[0], g2, g3)*zw(xi[1], g2, g3)/2 + pw(xi[0], g2, g3)*zw(xi[0], g2, g3)/2 + O(z))"
      ]
     },
     "execution_count": 138,
     "metadata": {},
     "output_type": "execute_result"
    }
   ],
   "source": [
    "sigma_exp_z_n2_eq_lhs = Eq(sigma_product_wp_diff_eq.subs(N,2).doit().lhs,\n",
    "   sigma_product_wp_diff_eq.subs(N,2).doit().lhs.subs([\n",
    "        z_min_xi0_exp.args, z_min_xi1_exp.args, z_min_xi2_exp.args, one_over_sig_to_3_exp.args\n",
    "    ]).expand()\n",
    "  )\n",
    "sigma_exp_z_n2_eq_lhs "
   ]
  },
  {
   "cell_type": "code",
   "execution_count": 139,
   "metadata": {},
   "outputs": [
    {
     "data": {
      "text/latex": [
       "$\\displaystyle 0 = \\frac{2 {c}_{2} + 1}{z^{3}} + \\frac{- \\operatorname{zw}{\\left({\\xi}_{0},g_{2},g_{3} \\right)} - \\operatorname{zw}{\\left({\\xi}_{1},g_{2},g_{3} \\right)} - \\operatorname{zw}{\\left({\\xi}_{2},g_{2},g_{3} \\right)} - {c}_{1}}{z^{2}} + \\frac{- \\frac{\\operatorname{pw}{\\left({\\xi}_{0},g_{2},g_{3} \\right)}}{2} - \\frac{\\operatorname{pw}{\\left({\\xi}_{1},g_{2},g_{3} \\right)}}{2} - \\frac{\\operatorname{pw}{\\left({\\xi}_{2},g_{2},g_{3} \\right)}}{2} + \\frac{\\operatorname{zw}^{2}{\\left({\\xi}_{0},g_{2},g_{3} \\right)}}{2} + \\operatorname{zw}{\\left({\\xi}_{0},g_{2},g_{3} \\right)} \\operatorname{zw}{\\left({\\xi}_{1},g_{2},g_{3} \\right)} + \\operatorname{zw}{\\left({\\xi}_{0},g_{2},g_{3} \\right)} \\operatorname{zw}{\\left({\\xi}_{2},g_{2},g_{3} \\right)} + \\frac{\\operatorname{zw}^{2}{\\left({\\xi}_{1},g_{2},g_{3} \\right)}}{2} + \\operatorname{zw}{\\left({\\xi}_{1},g_{2},g_{3} \\right)} \\operatorname{zw}{\\left({\\xi}_{2},g_{2},g_{3} \\right)} + \\frac{\\operatorname{zw}^{2}{\\left({\\xi}_{2},g_{2},g_{3} \\right)}}{2}}{z} - {c}_{0} - \\frac{\\operatorname{zw}^{3}{\\left({\\xi}_{2},g_{2},g_{3} \\right)}}{6} - \\frac{\\operatorname{zw}{\\left({\\xi}_{1},g_{2},g_{3} \\right)} \\operatorname{zw}^{2}{\\left({\\xi}_{2},g_{2},g_{3} \\right)}}{2} - \\frac{\\operatorname{zw}^{2}{\\left({\\xi}_{1},g_{2},g_{3} \\right)} \\operatorname{zw}{\\left({\\xi}_{2},g_{2},g_{3} \\right)}}{2} - \\frac{\\operatorname{zw}^{3}{\\left({\\xi}_{1},g_{2},g_{3} \\right)}}{6} - \\frac{\\operatorname{zw}{\\left({\\xi}_{0},g_{2},g_{3} \\right)} \\operatorname{zw}^{2}{\\left({\\xi}_{2},g_{2},g_{3} \\right)}}{2} - \\operatorname{zw}{\\left({\\xi}_{0},g_{2},g_{3} \\right)} \\operatorname{zw}{\\left({\\xi}_{1},g_{2},g_{3} \\right)} \\operatorname{zw}{\\left({\\xi}_{2},g_{2},g_{3} \\right)} - \\frac{\\operatorname{zw}{\\left({\\xi}_{0},g_{2},g_{3} \\right)} \\operatorname{zw}^{2}{\\left({\\xi}_{1},g_{2},g_{3} \\right)}}{2} - \\frac{\\operatorname{zw}^{2}{\\left({\\xi}_{0},g_{2},g_{3} \\right)} \\operatorname{zw}{\\left({\\xi}_{2},g_{2},g_{3} \\right)}}{2} - \\frac{\\operatorname{zw}^{2}{\\left({\\xi}_{0},g_{2},g_{3} \\right)} \\operatorname{zw}{\\left({\\xi}_{1},g_{2},g_{3} \\right)}}{2} - \\frac{\\operatorname{zw}^{3}{\\left({\\xi}_{0},g_{2},g_{3} \\right)}}{6} + \\frac{\\operatorname{pwp}{\\left({\\xi}_{2},g_{2},g_{3} \\right)}}{6} + \\frac{\\operatorname{pwp}{\\left({\\xi}_{1},g_{2},g_{3} \\right)}}{6} + \\frac{\\operatorname{pwp}{\\left({\\xi}_{0},g_{2},g_{3} \\right)}}{6} + \\frac{\\operatorname{pw}{\\left({\\xi}_{2},g_{2},g_{3} \\right)} \\operatorname{zw}{\\left({\\xi}_{2},g_{2},g_{3} \\right)}}{2} + \\frac{\\operatorname{pw}{\\left({\\xi}_{2},g_{2},g_{3} \\right)} \\operatorname{zw}{\\left({\\xi}_{1},g_{2},g_{3} \\right)}}{2} + \\frac{\\operatorname{pw}{\\left({\\xi}_{2},g_{2},g_{3} \\right)} \\operatorname{zw}{\\left({\\xi}_{0},g_{2},g_{3} \\right)}}{2} + \\frac{\\operatorname{pw}{\\left({\\xi}_{1},g_{2},g_{3} \\right)} \\operatorname{zw}{\\left({\\xi}_{2},g_{2},g_{3} \\right)}}{2} + \\frac{\\operatorname{pw}{\\left({\\xi}_{1},g_{2},g_{3} \\right)} \\operatorname{zw}{\\left({\\xi}_{1},g_{2},g_{3} \\right)}}{2} + \\frac{\\operatorname{pw}{\\left({\\xi}_{1},g_{2},g_{3} \\right)} \\operatorname{zw}{\\left({\\xi}_{0},g_{2},g_{3} \\right)}}{2} + \\frac{\\operatorname{pw}{\\left({\\xi}_{0},g_{2},g_{3} \\right)} \\operatorname{zw}{\\left({\\xi}_{2},g_{2},g_{3} \\right)}}{2} + \\frac{\\operatorname{pw}{\\left({\\xi}_{0},g_{2},g_{3} \\right)} \\operatorname{zw}{\\left({\\xi}_{1},g_{2},g_{3} \\right)}}{2} + \\frac{\\operatorname{pw}{\\left({\\xi}_{0},g_{2},g_{3} \\right)} \\operatorname{zw}{\\left({\\xi}_{0},g_{2},g_{3} \\right)}}{2} + O\\left(z\\right)$"
      ],
      "text/plain": [
       "Eq(0, (2*c[2] + 1)/z**3 + (-zw(xi[0], g2, g3) - zw(xi[1], g2, g3) - zw(xi[2], g2, g3) - c[1])/z**2 + (-pw(xi[0], g2, g3)/2 - pw(xi[1], g2, g3)/2 - pw(xi[2], g2, g3)/2 + zw(xi[0], g2, g3)**2/2 + zw(xi[0], g2, g3)*zw(xi[1], g2, g3) + zw(xi[0], g2, g3)*zw(xi[2], g2, g3) + zw(xi[1], g2, g3)**2/2 + zw(xi[1], g2, g3)*zw(xi[2], g2, g3) + zw(xi[2], g2, g3)**2/2)/z - c[0] - zw(xi[2], g2, g3)**3/6 - zw(xi[1], g2, g3)*zw(xi[2], g2, g3)**2/2 - zw(xi[1], g2, g3)**2*zw(xi[2], g2, g3)/2 - zw(xi[1], g2, g3)**3/6 - zw(xi[0], g2, g3)*zw(xi[2], g2, g3)**2/2 - zw(xi[0], g2, g3)*zw(xi[1], g2, g3)*zw(xi[2], g2, g3) - zw(xi[0], g2, g3)*zw(xi[1], g2, g3)**2/2 - zw(xi[0], g2, g3)**2*zw(xi[2], g2, g3)/2 - zw(xi[0], g2, g3)**2*zw(xi[1], g2, g3)/2 - zw(xi[0], g2, g3)**3/6 + pwp(xi[2], g2, g3)/6 + pwp(xi[1], g2, g3)/6 + pwp(xi[0], g2, g3)/6 + pw(xi[2], g2, g3)*zw(xi[2], g2, g3)/2 + pw(xi[2], g2, g3)*zw(xi[1], g2, g3)/2 + pw(xi[2], g2, g3)*zw(xi[0], g2, g3)/2 + pw(xi[1], g2, g3)*zw(xi[2], g2, g3)/2 + pw(xi[1], g2, g3)*zw(xi[1], g2, g3)/2 + pw(xi[1], g2, g3)*zw(xi[0], g2, g3)/2 + pw(xi[0], g2, g3)*zw(xi[2], g2, g3)/2 + pw(xi[0], g2, g3)*zw(xi[1], g2, g3)/2 + pw(xi[0], g2, g3)*zw(xi[0], g2, g3)/2 + O(z))"
      ]
     },
     "execution_count": 139,
     "metadata": {},
     "output_type": "execute_result"
    }
   ],
   "source": [
    "coeff_eq_n2_poly = Eq(sigma_exp_z_n2_eq_lhs.lhs - sigma_exp_z_n2_eq_rhs.lhs, \n",
    "   (sigma_exp_z_n2_eq_lhs.rhs - sigma_exp_z_n2_eq_rhs.rhs).collect(z))\n",
    "coeff_eq_n2_poly"
   ]
  },
  {
   "cell_type": "code",
   "execution_count": 140,
   "metadata": {},
   "outputs": [
    {
     "data": {
      "text/latex": [
       "$\\displaystyle {c}_{2} = - \\frac{1}{2}$"
      ],
      "text/plain": [
       "Eq(c[2], -1/2)"
      ]
     },
     "execution_count": 140,
     "metadata": {},
     "output_type": "execute_result"
    }
   ],
   "source": [
    "c2_val_n2 = Eq(c[2], solve(coeff_eq_n2_poly.rhs.coeff(1/z**3), c[2])[0])\n",
    "c2_val_n2"
   ]
  },
  {
   "cell_type": "code",
   "execution_count": 141,
   "metadata": {},
   "outputs": [
    {
     "data": {
      "text/latex": [
       "$\\displaystyle {c}_{1} = - \\operatorname{zw}{\\left({\\xi}_{0},g_{2},g_{3} \\right)} - \\operatorname{zw}{\\left({\\xi}_{1},g_{2},g_{3} \\right)} - \\operatorname{zw}{\\left({\\xi}_{2},g_{2},g_{3} \\right)}$"
      ],
      "text/plain": [
       "Eq(c[1], -zw(xi[0], g2, g3) - zw(xi[1], g2, g3) - zw(xi[2], g2, g3))"
      ]
     },
     "execution_count": 141,
     "metadata": {},
     "output_type": "execute_result"
    }
   ],
   "source": [
    "c1_val_n2 = Eq(c[1], solve(coeff_eq_n2_poly.rhs.coeff(1/z**2), c[1])[0])\n",
    "c1_val_n2"
   ]
  },
  {
   "cell_type": "code",
   "execution_count": 142,
   "metadata": {
    "scrolled": true
   },
   "outputs": [
    {
     "data": {
      "text/latex": [
       "$\\displaystyle \\frac{\\left(\\operatorname{zw}{\\left({\\xi}_{0},g_{2},g_{3} \\right)} + \\operatorname{zw}{\\left({\\xi}_{1},g_{2},g_{3} \\right)} + \\operatorname{zw}{\\left({\\xi}_{2},g_{2},g_{3} \\right)}\\right)^{2}}{2} - \\frac{\\operatorname{pw}{\\left({\\xi}_{0},g_{2},g_{3} \\right)}}{2} - \\frac{\\operatorname{pw}{\\left({\\xi}_{1},g_{2},g_{3} \\right)}}{2} - \\frac{\\operatorname{pw}{\\left({\\xi}_{2},g_{2},g_{3} \\right)}}{2} = 0$"
      ],
      "text/plain": [
       "Eq((zw(xi[0], g2, g3) + zw(xi[1], g2, g3) + zw(xi[2], g2, g3))**2/2 - pw(xi[0], g2, g3)/2 - pw(xi[1], g2, g3)/2 - pw(xi[2], g2, g3)/2, 0)"
      ]
     },
     "execution_count": 142,
     "metadata": {},
     "output_type": "execute_result"
    },
    {
     "data": {
      "text/latex": [
       "$\\displaystyle \\sum_{k=0}^{2} \\operatorname{pw}{\\left({\\xi}_{k},g_{2},g_{3} \\right)} = \\left(\\sum_{k=0}^{2} \\operatorname{zw}{\\left({\\xi}_{k},g_{2},g_{3} \\right)}\\right)^{2}$"
      ],
      "text/plain": [
       "Eq(Sum(pw(xi[k], g2, g3), (k, 0, 2)), Sum(zw(xi[k], g2, g3), (k, 0, 2))**2)"
      ]
     },
     "execution_count": 142,
     "metadata": {},
     "output_type": "execute_result"
    }
   ],
   "source": [
    "one_over_z_term_n2 = Eq(coeff_eq_n2_poly.rhs.coeff(1/z),0)\n",
    "pw_xi_2_terms_sum = pw(xi[0],g2,g3)/2 + pw(xi[1],g2,g3)/2 + pw(xi[2],g2,g3)/2\n",
    "one_over_z_term_n2 = Eq(\n",
    "                         (one_over_z_term_n2.lhs + pw_xi_2_terms_sum).factor() - pw_xi_2_terms_sum,\n",
    "                          one_over_z_term_n2.rhs, \n",
    "                       )\n",
    "one_over_z_term_n2\n",
    "\n",
    "pw_zw_sqrd_3modes = Eq(Sum(pw(xi[k], g2, g3),(k,0,2)),Sum(zw(xi[k], g2, g3),(k,0,2))**2)\n",
    "pw_zw_sqrd_3modes"
   ]
  },
  {
   "cell_type": "code",
   "execution_count": 143,
   "metadata": {},
   "outputs": [
    {
     "data": {
      "text/latex": [
       "$\\displaystyle {c}_{0} = \\frac{\\left(\\operatorname{zw}{\\left({\\xi}_{0},g_{2},g_{3} \\right)} + \\operatorname{zw}{\\left({\\xi}_{1},g_{2},g_{3} \\right)} + \\operatorname{zw}{\\left({\\xi}_{2},g_{2},g_{3} \\right)}\\right)^{3}}{3} + \\frac{\\operatorname{pwp}{\\left({\\xi}_{0},g_{2},g_{3} \\right)}}{6} + \\frac{\\operatorname{pwp}{\\left({\\xi}_{1},g_{2},g_{3} \\right)}}{6} + \\frac{\\operatorname{pwp}{\\left({\\xi}_{2},g_{2},g_{3} \\right)}}{6}$"
      ],
      "text/plain": [
       "Eq(c[0], (zw(xi[0], g2, g3) + zw(xi[1], g2, g3) + zw(xi[2], g2, g3))**3/3 + pwp(xi[0], g2, g3)/6 + pwp(xi[1], g2, g3)/6 + pwp(xi[2], g2, g3)/6)"
      ]
     },
     "execution_count": 143,
     "metadata": {},
     "output_type": "execute_result"
    }
   ],
   "source": [
    "c0_val_n2 = Eq(c[0], solve(limit(coeff_eq_n2_poly.rhs.subs([\n",
    "    c2_val_n2.args, c1_val_n2.args, one_over_z_term_n2.expand().args]),z,0), c[0])[0])\n",
    "c0_val_n2_no_pw = c0_val_n2.subs(pw(xi[0],g2,g3),solve(one_over_z_term_n2, pw(xi[0],g2,g3))[0]).expand()\n",
    "c0_val_n2_no_pw = Eq(c0_val_n2_no_pw.lhs, \n",
    "                     (c0_val_n2_no_pw.rhs - pwp(xi[0],g2,g3)/6 - pwp(xi[1],g2,g3)/6 - pwp(xi[2],g2,g3)/6).factor() +\n",
    "                     pwp(xi[0],g2,g3)/6 + pwp(xi[1],g2,g3)/6 + pwp(xi[2],g2,g3)/6\n",
    "                    )\n",
    "c0_val_n2_no_pw"
   ]
  },
  {
   "cell_type": "code",
   "execution_count": 144,
   "metadata": {
    "scrolled": true
   },
   "outputs": [
    {
     "data": {
      "text/latex": [
       "$\\displaystyle - \\frac{\\sigma{\\left(z - {\\xi}_{0},g_{2},g_{3} \\right)} \\sigma{\\left(z - {\\xi}_{1},g_{2},g_{3} \\right)} \\sigma{\\left(z - {\\xi}_{2},g_{2},g_{3} \\right)}}{\\sigma^{3}{\\left(z,g_{2},g_{3} \\right)} \\sigma{\\left({\\xi}_{0},g_{2},g_{3} \\right)} \\sigma{\\left({\\xi}_{1},g_{2},g_{3} \\right)} \\sigma{\\left({\\xi}_{2},g_{2},g_{3} \\right)}} = \\left(- \\operatorname{zw}{\\left({\\xi}_{0},g_{2},g_{3} \\right)} - \\operatorname{zw}{\\left({\\xi}_{1},g_{2},g_{3} \\right)} - \\operatorname{zw}{\\left({\\xi}_{2},g_{2},g_{3} \\right)}\\right) \\operatorname{pw}{\\left(z,g_{2},g_{3} \\right)} + \\frac{\\left(\\operatorname{zw}{\\left({\\xi}_{0},g_{2},g_{3} \\right)} + \\operatorname{zw}{\\left({\\xi}_{1},g_{2},g_{3} \\right)} + \\operatorname{zw}{\\left({\\xi}_{2},g_{2},g_{3} \\right)}\\right)^{3}}{3} - \\frac{\\operatorname{pwp}{\\left(z,g_{2},g_{3} \\right)}}{2} + \\frac{\\operatorname{pwp}{\\left({\\xi}_{0},g_{2},g_{3} \\right)}}{6} + \\frac{\\operatorname{pwp}{\\left({\\xi}_{1},g_{2},g_{3} \\right)}}{6} + \\frac{\\operatorname{pwp}{\\left({\\xi}_{2},g_{2},g_{3} \\right)}}{6}$"
      ],
      "text/plain": [
       "Eq(-sigma(z - xi[0], g2, g3)*sigma(z - xi[1], g2, g3)*sigma(z - xi[2], g2, g3)/(sigma(z, g2, g3)**3*sigma(xi[0], g2, g3)*sigma(xi[1], g2, g3)*sigma(xi[2], g2, g3)), (-zw(xi[0], g2, g3) - zw(xi[1], g2, g3) - zw(xi[2], g2, g3))*pw(z, g2, g3) + (zw(xi[0], g2, g3) + zw(xi[1], g2, g3) + zw(xi[2], g2, g3))**3/3 - pwp(z, g2, g3)/2 + pwp(xi[0], g2, g3)/6 + pwp(xi[1], g2, g3)/6 + pwp(xi[2], g2, g3)/6)"
      ]
     },
     "execution_count": 144,
     "metadata": {},
     "output_type": "execute_result"
    }
   ],
   "source": [
    "sigma_product_wp_diff_eq.subs(N,2).doit().subs([c2_val_n2.args, c1_val_n2.args, c0_val_n2_no_pw.args, diff_pw_eq.args])"
   ]
  },
  {
   "cell_type": "code",
   "execution_count": 145,
   "metadata": {},
   "outputs": [
    {
     "data": {
      "text/latex": [
       "$\\displaystyle - \\prod_{k=0}^{2} \\frac{\\sigma{\\left(z - {\\xi}_{k},g_{2},g_{3} \\right)}}{\\sigma{\\left(z,g_{2},g_{3} \\right)} \\sigma{\\left({\\xi}_{k},g_{2},g_{3} \\right)}} = - \\operatorname{pw}{\\left(z,g_{2},g_{3} \\right)} \\sum_{k=0}^{2} \\operatorname{zw}{\\left({\\xi}_{k},g_{2},g_{3} \\right)} - \\frac{\\operatorname{pwp}{\\left(z,g_{2},g_{3} \\right)}}{2} + \\frac{\\sum_{k=0}^{2} \\operatorname{pwp}{\\left({\\xi}_{k},g_{2},g_{3} \\right)}}{6} + \\frac{\\left(\\sum_{k=0}^{2} \\operatorname{zw}{\\left({\\xi}_{k},g_{2},g_{3} \\right)}\\right)^{3}}{3}$"
      ],
      "text/plain": [
       "Eq(-Product(sigma(z - xi[k], g2, g3)/(sigma(z, g2, g3)*sigma(xi[k], g2, g3)), (k, 0, 2)), -pw(z, g2, g3)*Sum(zw(xi[k], g2, g3), (k, 0, 2)) - pwp(z, g2, g3)/2 + Sum(pwp(xi[k], g2, g3), (k, 0, 2))/6 + Sum(zw(xi[k], g2, g3), (k, 0, 2))**3/3)"
      ]
     },
     "execution_count": 145,
     "metadata": {},
     "output_type": "execute_result"
    }
   ],
   "source": [
    "eq_3_modes_quadratic = Eq(-Product(sigma(z-xi[k],g2,g3)/sigma(z,g2,g3)/sigma(xi[k],g2,g3),(k,0,2)),\n",
    "  -Sum(zw(xi[k],g2,g3),(k,0,2))*pw(z,g2,g3) + (Sum(zw(xi[k],g2,g3),(k,0,2))**3)/3 + Sum(pwp(xi[k],g2,g3),(k,0,2))/6\n",
    "   -pwp(z,g2,g3)/2\n",
    "  )\n",
    "eq_3_modes_quadratic"
   ]
  },
  {
   "cell_type": "code",
   "execution_count": 146,
   "metadata": {},
   "outputs": [
    {
     "data": {
      "text/latex": [
       "$\\displaystyle - \\left(- \\operatorname{pw}{\\left(z,g_{2},g_{3} \\right)} \\sum_{k=0}^{2} \\operatorname{zw}{\\left({\\xi}_{k},g_{2},g_{3} \\right)} - \\frac{\\operatorname{pwp}{\\left(z,g_{2},g_{3} \\right)}}{2} + \\frac{\\sum_{k=0}^{2} \\operatorname{pwp}{\\left({\\xi}_{k},g_{2},g_{3} \\right)}}{6} + \\frac{\\left(\\sum_{k=0}^{2} \\operatorname{zw}{\\left({\\xi}_{k},g_{2},g_{3} \\right)}\\right)^{3}}{3}\\right) \\left(- \\operatorname{pw}{\\left(z,g_{2},g_{3} \\right)} \\sum_{k=0}^{2} \\operatorname{zw}{\\left({\\xi}_{k},g_{2},g_{3} \\right)} + \\frac{\\operatorname{pwp}{\\left(z,g_{2},g_{3} \\right)}}{2} + \\frac{\\sum_{k=0}^{2} \\operatorname{pwp}{\\left({\\xi}_{k},g_{2},g_{3} \\right)}}{6} + \\frac{\\left(\\sum_{k=0}^{2} \\operatorname{zw}{\\left({\\xi}_{k},g_{2},g_{3} \\right)}\\right)^{3}}{3}\\right) + \\left(\\prod_{k=0}^{2} \\frac{\\sigma{\\left(- z - {\\xi}_{k},g_{2},g_{3} \\right)}}{\\sigma{\\left(- z,g_{2},g_{3} \\right)} \\sigma{\\left({\\xi}_{k},g_{2},g_{3} \\right)}}\\right) \\prod_{k=0}^{2} \\frac{\\sigma{\\left(z - {\\xi}_{k},g_{2},g_{3} \\right)}}{\\sigma{\\left(z,g_{2},g_{3} \\right)} \\sigma{\\left({\\xi}_{k},g_{2},g_{3} \\right)}} = 0$"
      ],
      "text/plain": [
       "Eq(-(-pw(z, g2, g3)*Sum(zw(xi[k], g2, g3), (k, 0, 2)) - pwp(z, g2, g3)/2 + Sum(pwp(xi[k], g2, g3), (k, 0, 2))/6 + Sum(zw(xi[k], g2, g3), (k, 0, 2))**3/3)*(-pw(z, g2, g3)*Sum(zw(xi[k], g2, g3), (k, 0, 2)) + pwp(z, g2, g3)/2 + Sum(pwp(xi[k], g2, g3), (k, 0, 2))/6 + Sum(zw(xi[k], g2, g3), (k, 0, 2))**3/3) + Product(sigma(-z - xi[k], g2, g3)/(sigma(-z, g2, g3)*sigma(xi[k], g2, g3)), (k, 0, 2))*Product(sigma(z - xi[k], g2, g3)/(sigma(z, g2, g3)*sigma(xi[k], g2, g3)), (k, 0, 2)), 0)"
      ]
     },
     "execution_count": 146,
     "metadata": {},
     "output_type": "execute_result"
    },
    {
     "data": {
      "text/latex": [
       "$\\displaystyle - \\left(- \\operatorname{pw}{\\left(z,g_{2},g_{3} \\right)} \\sum_{k=0}^{2} \\operatorname{zw}{\\left({\\xi}_{k},g_{2},g_{3} \\right)} - \\frac{\\operatorname{pwp}{\\left(z,g_{2},g_{3} \\right)}}{2} + \\frac{\\sum_{k=0}^{2} \\operatorname{pwp}{\\left({\\xi}_{k},g_{2},g_{3} \\right)}}{6} + \\frac{\\left(\\sum_{k=0}^{2} \\operatorname{zw}{\\left({\\xi}_{k},g_{2},g_{3} \\right)}\\right)^{3}}{3}\\right) \\left(- \\operatorname{pw}{\\left(z,g_{2},g_{3} \\right)} \\sum_{k=0}^{2} \\operatorname{zw}{\\left({\\xi}_{k},g_{2},g_{3} \\right)} + \\frac{\\operatorname{pwp}{\\left(z,g_{2},g_{3} \\right)}}{2} + \\frac{\\sum_{k=0}^{2} \\operatorname{pwp}{\\left({\\xi}_{k},g_{2},g_{3} \\right)}}{6} + \\frac{\\left(\\sum_{k=0}^{2} \\operatorname{zw}{\\left({\\xi}_{k},g_{2},g_{3} \\right)}\\right)^{3}}{3}\\right) - \\prod_{k=0}^{2} \\left(\\operatorname{pw}{\\left(z,g_{2},g_{3} \\right)} - \\operatorname{pw}{\\left({\\xi}_{k},g_{2},g_{3} \\right)}\\right) = 0$"
      ],
      "text/plain": [
       "Eq(-(-pw(z, g2, g3)*Sum(zw(xi[k], g2, g3), (k, 0, 2)) - pwp(z, g2, g3)/2 + Sum(pwp(xi[k], g2, g3), (k, 0, 2))/6 + Sum(zw(xi[k], g2, g3), (k, 0, 2))**3/3)*(-pw(z, g2, g3)*Sum(zw(xi[k], g2, g3), (k, 0, 2)) + pwp(z, g2, g3)/2 + Sum(pwp(xi[k], g2, g3), (k, 0, 2))/6 + Sum(zw(xi[k], g2, g3), (k, 0, 2))**3/3) - Product(pw(z, g2, g3) - pw(xi[k], g2, g3), (k, 0, 2)), 0)"
      ]
     },
     "execution_count": 146,
     "metadata": {},
     "output_type": "execute_result"
    },
    {
     "data": {
      "text/latex": [
       "$\\displaystyle g_{2} = - 4 \\operatorname{pw}{\\left({\\xi}_{0},g_{2},g_{3} \\right)} \\operatorname{pw}{\\left({\\xi}_{1},g_{2},g_{3} \\right)} - 4 \\operatorname{pw}{\\left({\\xi}_{0},g_{2},g_{3} \\right)} \\operatorname{pw}{\\left({\\xi}_{2},g_{2},g_{3} \\right)} - 4 \\operatorname{pw}{\\left({\\xi}_{1},g_{2},g_{3} \\right)} \\operatorname{pw}{\\left({\\xi}_{2},g_{2},g_{3} \\right)} + \\frac{4 \\left(\\sum_{k=0}^{2} \\operatorname{pwp}{\\left({\\xi}_{k},g_{2},g_{3} \\right)}\\right) \\sum_{k=0}^{2} \\operatorname{zw}{\\left({\\xi}_{k},g_{2},g_{3} \\right)}}{3} + \\frac{8 \\left(\\sum_{k=0}^{2} \\operatorname{zw}{\\left({\\xi}_{k},g_{2},g_{3} \\right)}\\right)^{4}}{3}$"
      ],
      "text/plain": [
       "Eq(g2, -4*pw(xi[0], g2, g3)*pw(xi[1], g2, g3) - 4*pw(xi[0], g2, g3)*pw(xi[2], g2, g3) - 4*pw(xi[1], g2, g3)*pw(xi[2], g2, g3) + 4*Sum(pwp(xi[k], g2, g3), (k, 0, 2))*Sum(zw(xi[k], g2, g3), (k, 0, 2))/3 + 8*Sum(zw(xi[k], g2, g3), (k, 0, 2))**4/3)"
      ]
     },
     "execution_count": 146,
     "metadata": {},
     "output_type": "execute_result"
    },
    {
     "data": {
      "text/latex": [
       "$\\displaystyle g_{3} = - \\frac{\\left(\\sum_{k=0}^{2} \\operatorname{pwp}{\\left({\\xi}_{k},g_{2},g_{3} \\right)} + 2 \\left(\\sum_{k=0}^{2} \\operatorname{zw}{\\left({\\xi}_{k},g_{2},g_{3} \\right)}\\right)^{3}\\right)^{2}}{9} + 4 \\prod_{k=0}^{2} \\operatorname{pw}{\\left({\\xi}_{k},g_{2},g_{3} \\right)}$"
      ],
      "text/plain": [
       "Eq(g3, -(Sum(pwp(xi[k], g2, g3), (k, 0, 2)) + 2*Sum(zw(xi[k], g2, g3), (k, 0, 2))**3)**2/9 + 4*Product(pw(xi[k], g2, g3), (k, 0, 2)))"
      ]
     },
     "execution_count": 146,
     "metadata": {},
     "output_type": "execute_result"
    }
   ],
   "source": [
    "g2_g3_modes_a = Eq(\n",
    "    eq_3_modes_quadratic.lhs*eq_3_modes_quadratic.lhs.subs(z,-z) -\n",
    "    eq_3_modes_quadratic.rhs*eq_3_modes_quadratic.rhs.subs(z,-z), 0\n",
    ").subs([(pw(-z,g2,g3), pw(z,g2,g3)), (pwp(-z,g2,g3), -pwp(z,g2,g3))])\n",
    "g2_g3_modes_b = Eq(\n",
    "    -Product(pw(z, g2, g3) - pw(xi[k], g2, g3),(k,0,2)) -\n",
    "    eq_3_modes_quadratic.rhs*eq_3_modes_quadratic.rhs.subs(z,-z), 0\n",
    ").subs([(pw(-z,g2,g3), pw(z,g2,g3)), (pwp(-z,g2,g3), -pwp(z,g2,g3))])\n",
    "g2_g3_modes_c = (Eq(\n",
    "    -Product(pw(z, g2, g3) - pw(xi[k], g2, g3),(k,0,2)).doit() -\n",
    "    eq_3_modes_quadratic.rhs*eq_3_modes_quadratic.rhs.subs(z,-z), 0\n",
    ").subs([(pw(-z,g2,g3), pw(z,g2,g3)), (pwp(-z,g2,g3), -pwp(z,g2,g3))])\n",
    ").expand().subs(pwp(z,g2,g3)**2, 4*pw(z,g2,g3)**3 - g2*pw(z,g2,g3) -g3)\n",
    "g2_g3_modes_c = Eq(g2_g3_modes_c.lhs.collect(pw(z,g2,g3), factor),0)\n",
    "\n",
    "g2_3_modes =Eq(g2, 4*g2_g3_modes_c.lhs.coeff(pw(z,g2,g3)) +g2)\n",
    "g3_3_modes = Eq(g3, 4*g2_g3_modes_c.subs(pw(z,g2,g3),0).lhs.expand() + g3).subs(\n",
    "    Product(pw(xi[k],g2,g3),(k,0,2)).doit(), Product(pw(xi[k],g2,g3),(k,0,2))\n",
    ")\n",
    "g3_3_modes = Eq(g3_3_modes.lhs, g3_3_modes.rhs.collect(Product(pw(xi[k],g2,g3),(k,0,2)), factor))\n",
    "\n",
    "\n",
    "\n",
    "g2_g3_modes_a\n",
    "g2_g3_modes_b\n",
    "g2_3_modes\n",
    "g3_3_modes"
   ]
  },
  {
   "cell_type": "code",
   "execution_count": 147,
   "metadata": {},
   "outputs": [
    {
     "data": {
      "text/plain": [
       "(g3,\n",
       " -(Sum(pwp(xi[k], g2, g3), (k, 0, 2)) + 2*Sum(zw(xi[k], g2, g3), (k, 0, 2))**3)**2/9 + 4*Product(pw(xi[k], g2, g3), (k, 0, 2)))"
      ]
     },
     "execution_count": 147,
     "metadata": {},
     "output_type": "execute_result"
    }
   ],
   "source": [
    "g3_3_modes.args"
   ]
  },
  {
   "cell_type": "code",
   "execution_count": 148,
   "metadata": {},
   "outputs": [
    {
     "data": {
      "text/latex": [
       "$\\displaystyle - \\prod_{k=0}^{2} \\frac{\\sigma{\\left(- z - {\\xi}_{k},g_{2},g_{3} \\right)}}{\\sigma{\\left(- z,g_{2},g_{3} \\right)} \\sigma{\\left({\\xi}_{k},g_{2},g_{3} \\right)}} - \\prod_{k=0}^{2} \\frac{\\sigma{\\left(z - {\\xi}_{k},g_{2},g_{3} \\right)}}{\\sigma{\\left(z,g_{2},g_{3} \\right)} \\sigma{\\left({\\xi}_{k},g_{2},g_{3} \\right)}} = - 2 \\operatorname{pw}{\\left(z,g_{2},g_{3} \\right)} \\sum_{k=0}^{2} \\operatorname{zw}{\\left({\\xi}_{k},g_{2},g_{3} \\right)} + \\frac{\\sum_{k=0}^{2} \\operatorname{pwp}{\\left({\\xi}_{k},g_{2},g_{3} \\right)}}{3} + \\frac{2 \\left(\\sum_{k=0}^{2} \\operatorname{zw}{\\left({\\xi}_{k},g_{2},g_{3} \\right)}\\right)^{3}}{3}$"
      ],
      "text/plain": [
       "Eq(-Product(sigma(-z - xi[k], g2, g3)/(sigma(-z, g2, g3)*sigma(xi[k], g2, g3)), (k, 0, 2)) - Product(sigma(z - xi[k], g2, g3)/(sigma(z, g2, g3)*sigma(xi[k], g2, g3)), (k, 0, 2)), -2*pw(z, g2, g3)*Sum(zw(xi[k], g2, g3), (k, 0, 2)) + Sum(pwp(xi[k], g2, g3), (k, 0, 2))/3 + 2*Sum(zw(xi[k], g2, g3), (k, 0, 2))**3/3)"
      ]
     },
     "execution_count": 148,
     "metadata": {},
     "output_type": "execute_result"
    },
    {
     "data": {
      "text/latex": [
       "$\\displaystyle \\operatorname{pw}{\\left(z,g_{2},g_{3} \\right)} = \\frac{\\sum_{k=0}^{2} \\left(\\operatorname{pw}{\\left(z,g_{2},g_{3} \\right)} - \\operatorname{pw}{\\left({\\xi}_{k},g_{2},g_{3} \\right)}\\right)}{3} + \\frac{\\sum_{k=0}^{2} \\operatorname{pw}{\\left({\\xi}_{k},g_{2},g_{3} \\right)}}{3}$"
      ],
      "text/plain": [
       "Eq(pw(z, g2, g3), Sum(pw(z, g2, g3) - pw(xi[k], g2, g3), (k, 0, 2))/3 + Sum(pw(xi[k], g2, g3), (k, 0, 2))/3)"
      ]
     },
     "execution_count": 148,
     "metadata": {},
     "output_type": "execute_result"
    },
    {
     "data": {
      "text/latex": [
       "$\\displaystyle - \\prod_{k=0}^{2} \\frac{\\sigma{\\left(- z - {\\xi}_{k},g_{2},g_{3} \\right)}}{\\sigma{\\left(- z,g_{2},g_{3} \\right)} \\sigma{\\left({\\xi}_{k},g_{2},g_{3} \\right)}} - \\prod_{k=0}^{2} \\frac{\\sigma{\\left(z - {\\xi}_{k},g_{2},g_{3} \\right)}}{\\sigma{\\left(z,g_{2},g_{3} \\right)} \\sigma{\\left({\\xi}_{k},g_{2},g_{3} \\right)}} = - 2 \\left(\\frac{\\sum_{k=0}^{2} \\left(\\operatorname{pw}{\\left(z,g_{2},g_{3} \\right)} - \\operatorname{pw}{\\left({\\xi}_{k},g_{2},g_{3} \\right)}\\right)}{3} + \\frac{\\sum_{k=0}^{2} \\operatorname{pw}{\\left({\\xi}_{k},g_{2},g_{3} \\right)}}{3}\\right) \\sum_{k=0}^{2} \\operatorname{zw}{\\left({\\xi}_{k},g_{2},g_{3} \\right)} + \\frac{\\sum_{k=0}^{2} \\operatorname{pwp}{\\left({\\xi}_{k},g_{2},g_{3} \\right)}}{3} + \\frac{2 \\left(\\sum_{k=0}^{2} \\operatorname{zw}{\\left({\\xi}_{k},g_{2},g_{3} \\right)}\\right)^{3}}{3}$"
      ],
      "text/plain": [
       "Eq(-Product(sigma(-z - xi[k], g2, g3)/(sigma(-z, g2, g3)*sigma(xi[k], g2, g3)), (k, 0, 2)) - Product(sigma(z - xi[k], g2, g3)/(sigma(z, g2, g3)*sigma(xi[k], g2, g3)), (k, 0, 2)), -2*(Sum(pw(z, g2, g3) - pw(xi[k], g2, g3), (k, 0, 2))/3 + Sum(pw(xi[k], g2, g3), (k, 0, 2))/3)*Sum(zw(xi[k], g2, g3), (k, 0, 2)) + Sum(pwp(xi[k], g2, g3), (k, 0, 2))/3 + 2*Sum(zw(xi[k], g2, g3), (k, 0, 2))**3/3)"
      ]
     },
     "execution_count": 148,
     "metadata": {},
     "output_type": "execute_result"
    },
    {
     "data": {
      "text/latex": [
       "$\\displaystyle \\prod_{k=0}^{2} \\frac{\\sigma{\\left(z - {\\xi}_{k},g_{2},g_{3} \\right)}}{\\sigma{\\left(z,g_{2},g_{3} \\right)} \\sigma{\\left({\\xi}_{k},g_{2},g_{3} \\right)}} + \\prod_{k=0}^{2} \\frac{\\sigma{\\left(z + {\\xi}_{k},g_{2},g_{3} \\right)}}{\\sigma{\\left(z,g_{2},g_{3} \\right)} \\sigma{\\left({\\xi}_{k},g_{2},g_{3} \\right)}} = \\left(- \\frac{2 \\sum_{k=0}^{2} \\frac{\\sigma{\\left(z - {\\xi}_{k},g_{2},g_{3} \\right)} \\sigma{\\left(z + {\\xi}_{k},g_{2},g_{3} \\right)}}{\\sigma^{2}{\\left(z,g_{2},g_{3} \\right)} \\sigma^{2}{\\left({\\xi}_{k},g_{2},g_{3} \\right)}}}{3} + \\frac{2 \\sum_{k=0}^{2} \\operatorname{pw}{\\left({\\xi}_{k},g_{2},g_{3} \\right)}}{3}\\right) \\sum_{k=0}^{2} \\operatorname{zw}{\\left({\\xi}_{k},g_{2},g_{3} \\right)} - \\frac{\\sum_{k=0}^{2} \\operatorname{pwp}{\\left({\\xi}_{k},g_{2},g_{3} \\right)}}{3} - \\frac{2 \\left(\\sum_{k=0}^{2} \\operatorname{zw}{\\left({\\xi}_{k},g_{2},g_{3} \\right)}\\right)^{3}}{3}$"
      ],
      "text/plain": [
       "Eq(Product(sigma(z - xi[k], g2, g3)/(sigma(z, g2, g3)*sigma(xi[k], g2, g3)), (k, 0, 2)) + Product(sigma(z + xi[k], g2, g3)/(sigma(z, g2, g3)*sigma(xi[k], g2, g3)), (k, 0, 2)), (-2*Sum(sigma(z - xi[k], g2, g3)*sigma(z + xi[k], g2, g3)/(sigma(z, g2, g3)**2*sigma(xi[k], g2, g3)**2), (k, 0, 2))/3 + 2*Sum(pw(xi[k], g2, g3), (k, 0, 2))/3)*Sum(zw(xi[k], g2, g3), (k, 0, 2)) - Sum(pwp(xi[k], g2, g3), (k, 0, 2))/3 - 2*Sum(zw(xi[k], g2, g3), (k, 0, 2))**3/3)"
      ]
     },
     "execution_count": 148,
     "metadata": {},
     "output_type": "execute_result"
    },
    {
     "data": {
      "text/latex": [
       "$\\displaystyle \\prod_{k=0}^{2} \\frac{\\sigma{\\left(z - {\\xi}_{k},g_{2},g_{3} \\right)}}{\\sigma{\\left(z,g_{2},g_{3} \\right)} \\sigma{\\left({\\xi}_{k},g_{2},g_{3} \\right)}} + \\prod_{k=0}^{2} \\frac{\\sigma{\\left(z + {\\xi}_{k},g_{2},g_{3} \\right)}}{\\sigma{\\left(z,g_{2},g_{3} \\right)} \\sigma{\\left({\\xi}_{k},g_{2},g_{3} \\right)}} = - \\frac{2 \\left(\\sum_{k=0}^{2} \\frac{\\sigma{\\left(z - {\\xi}_{k},g_{2},g_{3} \\right)} \\sigma{\\left(z + {\\xi}_{k},g_{2},g_{3} \\right)}}{\\sigma^{2}{\\left(z,g_{2},g_{3} \\right)} \\sigma^{2}{\\left({\\xi}_{k},g_{2},g_{3} \\right)}}\\right) \\sum_{k=0}^{2} \\operatorname{zw}{\\left({\\xi}_{k},g_{2},g_{3} \\right)}}{3} - \\frac{\\sum_{k=0}^{2} \\operatorname{pwp}{\\left({\\xi}_{k},g_{2},g_{3} \\right)}}{3}$"
      ],
      "text/plain": [
       "Eq(Product(sigma(z - xi[k], g2, g3)/(sigma(z, g2, g3)*sigma(xi[k], g2, g3)), (k, 0, 2)) + Product(sigma(z + xi[k], g2, g3)/(sigma(z, g2, g3)*sigma(xi[k], g2, g3)), (k, 0, 2)), -2*Sum(sigma(z - xi[k], g2, g3)*sigma(z + xi[k], g2, g3)/(sigma(z, g2, g3)**2*sigma(xi[k], g2, g3)**2), (k, 0, 2))*Sum(zw(xi[k], g2, g3), (k, 0, 2))/3 - Sum(pwp(xi[k], g2, g3), (k, 0, 2))/3)"
      ]
     },
     "execution_count": 148,
     "metadata": {},
     "output_type": "execute_result"
    },
    {
     "data": {
      "text/latex": [
       "$\\displaystyle \\frac{\\sum_{k=0}^{2} \\operatorname{pwp}{\\left({\\xi}_{k},g_{2},g_{3} \\right)}}{3} = - \\prod_{k=0}^{2} \\frac{\\sigma{\\left(z - {\\xi}_{k},g_{2},g_{3} \\right)}}{\\sigma{\\left(z,g_{2},g_{3} \\right)} \\sigma{\\left({\\xi}_{k},g_{2},g_{3} \\right)}} - \\prod_{k=0}^{2} \\frac{\\sigma{\\left(z + {\\xi}_{k},g_{2},g_{3} \\right)}}{\\sigma{\\left(z,g_{2},g_{3} \\right)} \\sigma{\\left({\\xi}_{k},g_{2},g_{3} \\right)}} - \\frac{2 \\left(\\sum_{k=0}^{2} \\frac{\\sigma{\\left(z - {\\xi}_{k},g_{2},g_{3} \\right)} \\sigma{\\left(z + {\\xi}_{k},g_{2},g_{3} \\right)}}{\\sigma^{2}{\\left(z,g_{2},g_{3} \\right)} \\sigma^{2}{\\left({\\xi}_{k},g_{2},g_{3} \\right)}}\\right) \\sum_{k=0}^{2} \\operatorname{zw}{\\left({\\xi}_{k},g_{2},g_{3} \\right)}}{3}$"
      ],
      "text/plain": [
       "Eq(Sum(pwp(xi[k], g2, g3), (k, 0, 2))/3, -Product(sigma(z - xi[k], g2, g3)/(sigma(z, g2, g3)*sigma(xi[k], g2, g3)), (k, 0, 2)) - Product(sigma(z + xi[k], g2, g3)/(sigma(z, g2, g3)*sigma(xi[k], g2, g3)), (k, 0, 2)) - 2*Sum(sigma(z - xi[k], g2, g3)*sigma(z + xi[k], g2, g3)/(sigma(z, g2, g3)**2*sigma(xi[k], g2, g3)**2), (k, 0, 2))*Sum(zw(xi[k], g2, g3), (k, 0, 2))/3)"
      ]
     },
     "execution_count": 148,
     "metadata": {},
     "output_type": "execute_result"
    },
    {
     "data": {
      "text/latex": [
       "$\\displaystyle u{\\left(z,k \\right)} = \\frac{\\sigma{\\left(z + {\\xi}_{k},g_{2},g_{3} \\right)}}{\\sigma{\\left(z,g_{2},g_{3} \\right)} \\sigma{\\left({\\xi}_{k},g_{2},g_{3} \\right)}}$"
      ],
      "text/plain": [
       "Eq(u(z, k), sigma(z + xi[k], g2, g3)/(sigma(z, g2, g3)*sigma(xi[k], g2, g3)))"
      ]
     },
     "execution_count": 148,
     "metadata": {},
     "output_type": "execute_result"
    },
    {
     "data": {
      "text/latex": [
       "$\\displaystyle v{\\left(z \\right)} = \\frac{\\sigma{\\left(z - {\\xi}_{k},g_{2},g_{3} \\right)}}{\\sigma{\\left(z,g_{2},g_{3} \\right)} \\sigma{\\left({\\xi}_{k},g_{2},g_{3} \\right)}}$"
      ],
      "text/plain": [
       "Eq(v(z), sigma(z - xi[k], g2, g3)/(sigma(z, g2, g3)*sigma(xi[k], g2, g3)))"
      ]
     },
     "execution_count": 148,
     "metadata": {},
     "output_type": "execute_result"
    },
    {
     "data": {
      "text/latex": [
       "$\\displaystyle v{\\left(z,k \\right)} = u{\\left(- z,k \\right)}$"
      ],
      "text/plain": [
       "Eq(v(z, k), u(-z, k))"
      ]
     },
     "execution_count": 148,
     "metadata": {},
     "output_type": "execute_result"
    },
    {
     "data": {
      "text/latex": [
       "$\\displaystyle K = \\frac{\\sum_{k=0}^{2} \\operatorname{pwp}{\\left({\\xi}_{k},g_{2},g_{3} \\right)}}{3}$"
      ],
      "text/plain": [
       "Eq(K, Sum(pwp(xi[k], g2, g3), (k, 0, 2))/3)"
      ]
     },
     "execution_count": 148,
     "metadata": {},
     "output_type": "execute_result"
    },
    {
     "data": {
      "text/latex": [
       "$\\displaystyle \\beta = \\frac{\\sum_{k=0}^{2} \\operatorname{zw}{\\left({\\xi}_{k},g_{2},g_{3} \\right)}}{3}$"
      ],
      "text/plain": [
       "Eq(beta, Sum(zw(xi[k], g2, g3), (k, 0, 2))/3)"
      ]
     },
     "execution_count": 148,
     "metadata": {},
     "output_type": "execute_result"
    },
    {
     "data": {
      "text/latex": [
       "$\\displaystyle K = - 2 \\beta \\sum_{k=0}^{2} u{\\left(z,k \\right)} v{\\left(z,k \\right)} - \\prod_{k=0}^{2} u{\\left(z,k \\right)} - \\prod_{k=0}^{2} v{\\left(z,k \\right)}$"
      ],
      "text/plain": [
       "Eq(K, -2*beta*Sum(u(z, k)*v(z, k), (k, 0, 2)) - Product(u(z, k), (k, 0, 2)) - Product(v(z, k), (k, 0, 2)))"
      ]
     },
     "execution_count": 148,
     "metadata": {},
     "output_type": "execute_result"
    }
   ],
   "source": [
    "H_3_modes_quadratic_a = Eq(\n",
    "    eq_3_modes_quadratic.lhs + eq_3_modes_quadratic.lhs.subs(z,-z),\n",
    "    eq_3_modes_quadratic.rhs + eq_3_modes_quadratic.rhs.subs(z,-z)\n",
    ").subs([(pw(-z,g2,g3), pw(z,g2,g3)), (pwp(-z,g2,g3), -pwp(z,g2,g3))])\n",
    "pw_z_3_mode = Eq(pw(z,g2,g3), Sum(pw(z,g2,g3) - pw(xi[k],g2,g3),(k,0,2))/3 + Sum(pw(xi[k],g2,g3),(k,0,2))/3)\n",
    "H_3_modes_quadratic_b = H_3_modes_quadratic_a.subs(pw_z_3_mode.lhs, x).subs(x,pw_z_3_mode.rhs)\n",
    "\n",
    "H_3_modes_quadratic_c = Eq(\n",
    "    Product(sigma(z + xi[k], g2, g3)/(sigma(z, g2, g3)*sigma(xi[k], g2, g3)), (k, 0, 2)) +\n",
    "    Product(sigma(z - xi[k], g2, g3)/(sigma(z, g2, g3)*sigma(xi[k], g2, g3)), (k, 0, 2)),\n",
    "    -Rational(1,3)*2*(\n",
    "        Sum(\n",
    "            sigma(z - xi[k], g2, g3)*sigma(z + xi[k], g2, g3)/(sigma(z, g2, g3)**2*sigma(xi[k], g2, g3)**2)\n",
    "        ,(k, 0, 2)) \n",
    "        -Sum(pw(xi[k], g2, g3), (k, 0, 2))\n",
    "    )*Sum(zw(xi[k], g2, g3), (k, 0, 2)) - \n",
    "    Rational(1,3)*Sum(pwp(xi[k], g2, g3), (k, 0, 2)) - \n",
    "    Rational(1,3)*2*Sum(zw(xi[k], g2, g3), (k, 0, 2))**3\n",
    ")\n",
    "\n",
    "H_3_modes_quadratic_d = H_3_modes_quadratic_c.subs(*pw_zw_sqrd_3modes.args).expand()\n",
    "H_3_modes_quadratic_e = Eq(\n",
    "    Rational(1,3)*Sum(pwp(xi[k], g2, g3), (k, 0, 2)),\n",
    "    -Product(sigma(z - xi[k], g2, g3)/(sigma(z, g2, g3)*sigma(xi[k], g2, g3)), (k, 0, 2))\n",
    "    -Product(sigma(z + xi[k], g2, g3)/(sigma(z, g2, g3)*sigma(xi[k], g2, g3)), (k, 0, 2))\n",
    "    -Rational(2,3)*Sum(\n",
    "        sigma(z - xi[k], g2, g3)*sigma(z + xi[k], g2, g3)/(sigma(z, g2, g3)**2*sigma(xi[k], g2, g3)**2), \n",
    "    (k, 0, 2))*Sum(zw(xi[k], g2, g3), (k, 0, 2))\n",
    ")\n",
    "\n",
    "H_3_modes_quadratic_a\n",
    "pw_z_3_mode\n",
    "H_3_modes_quadratic_b\n",
    "H_3_modes_quadratic_c\n",
    "H_3_modes_quadratic_d\n",
    "H_3_modes_quadratic_e\n",
    "\n",
    "ukz = Eq(u(z,k), sigma(z + xi[k], g2, g3)/(sigma(z, g2, g3)*sigma(xi[k], g2, g3)))\n",
    "vkz = Eq(v(z,), sigma(z - xi[k], g2, g3)/(sigma(z, g2, g3)*sigma(xi[k], g2, g3)))\n",
    "uv_kz = Eq(v(z,k), u(-z,k))\n",
    "K_pwp = Eq(K, Rational(1,3)*Sum(pwp(xi[k], g2, g3), (k, 0, 2)))\n",
    "beta_zw = Eq(beta, Rational(1,3)*Sum(zw(xi[k], g2, g3), (k, 0, 2)))\n",
    "K_3modes = Eq(\n",
    "    K, - Product(v(z,k), (k, 0, 2)) - Product(u(z,k), (k, 0, 2)) - 2*Sum(u(z,k)*v(z,k), (k, 0, 2))*beta\n",
    ")\n",
    "\n",
    "ukz\n",
    "vkz\n",
    "uv_kz\n",
    "K_pwp\n",
    "beta_zw\n",
    "K_3modes"
   ]
  },
  {
   "cell_type": "code",
   "execution_count": 149,
   "metadata": {},
   "outputs": [
    {
     "data": {
      "text/latex": [
       "$\\displaystyle - \\prod_{k=0}^{2} \\frac{\\sigma{\\left(z - {\\xi}_{k},g_{2},g_{3} \\right)}}{\\sigma{\\left(z,g_{2},g_{3} \\right)} \\sigma{\\left({\\xi}_{k},g_{2},g_{3} \\right)}} = \\left(- \\operatorname{pw}{\\left(z,g_{2},g_{3} \\right)} + \\operatorname{pw}{\\left({\\xi}_{k},g_{2},g_{3} \\right)}\\right) \\sum_{k=0}^{2} \\operatorname{zw}{\\left({\\xi}_{k},g_{2},g_{3} \\right)} + \\frac{- \\operatorname{pwp}{\\left(z,g_{2},g_{3} \\right)} + \\operatorname{pwp}{\\left({\\xi}_{k},g_{2},g_{3} \\right)}}{2}$"
      ],
      "text/plain": [
       "Eq(-Product(sigma(z - xi[k], g2, g3)/(sigma(z, g2, g3)*sigma(xi[k], g2, g3)), (k, 0, 2)), (-pw(z, g2, g3) + pw(xi[k], g2, g3))*Sum(zw(xi[k], g2, g3), (k, 0, 2)) + (-pwp(z, g2, g3) + pwp(xi[k], g2, g3))/2)"
      ]
     },
     "execution_count": 149,
     "metadata": {},
     "output_type": "execute_result"
    }
   ],
   "source": [
    "# shouldn't reuse index k in below - change this!\n",
    "eq_3_modes_quadratic_per_mode = Eq(eq_3_modes_quadratic.lhs, \n",
    "   (eq_3_modes_quadratic.rhs - eq_3_modes_quadratic.subs(z,xi[k]).rhs).collect(Sum(zw(xi[k],g2,g3),(k,0,2)),factor)\n",
    "  )\n",
    "eq_3_modes_quadratic_per_mode"
   ]
  },
  {
   "cell_type": "code",
   "execution_count": 150,
   "metadata": {},
   "outputs": [
    {
     "data": {
      "text/latex": [
       "$\\displaystyle \\frac{- \\operatorname{pwp}{\\left(z,g_{2},g_{3} \\right)} + \\operatorname{pwp}{\\left({\\xi}_{l},g_{2},g_{3} \\right)}}{2 \\left(- \\operatorname{pw}{\\left(z,g_{2},g_{3} \\right)} + \\operatorname{pw}{\\left({\\xi}_{l},g_{2},g_{3} \\right)}\\right)} = - \\sum_{k=0}^{2} \\operatorname{zw}{\\left({\\xi}_{k},g_{2},g_{3} \\right)} - \\frac{\\prod_{k=0}^{2} \\frac{\\sigma{\\left(z - {\\xi}_{k},g_{2},g_{3} \\right)}}{\\sigma{\\left(z,g_{2},g_{3} \\right)} \\sigma{\\left({\\xi}_{k},g_{2},g_{3} \\right)}}}{- \\operatorname{pw}{\\left(z,g_{2},g_{3} \\right)} + \\operatorname{pw}{\\left({\\xi}_{l},g_{2},g_{3} \\right)}}$"
      ],
      "text/plain": [
       "Eq((-pwp(z, g2, g3) + pwp(xi[l], g2, g3))/(2*(-pw(z, g2, g3) + pw(xi[l], g2, g3))), -Sum(zw(xi[k], g2, g3), (k, 0, 2)) - Product(sigma(z - xi[k], g2, g3)/(sigma(z, g2, g3)*sigma(xi[k], g2, g3)), (k, 0, 2))/(-pw(z, g2, g3) + pw(xi[l], g2, g3)))"
      ]
     },
     "execution_count": 150,
     "metadata": {},
     "output_type": "execute_result"
    }
   ],
   "source": [
    "eq_3_modes_quadratic_per_mode_pwp_pw_ratio = Eq(eq_3_modes_quadratic_per_mode.lhs/(-pw(z,g2,g3)+pw(xi[k],g2,g3)).subs(\n",
    "    sigma_p_identity.rhs.subs(x,xi[k]), sigma_p_identity.lhs.subs(x,xi[k])\n",
    ").subs(sigma(-z+xi[k],g2,g3),-sigma(z-xi[k],g2,g3)), \n",
    "   (eq_3_modes_quadratic_per_mode.rhs/(-pw(z,g2,g3)+pw(xi[k],g2,g3))).expand().collect(Sum(zw(xi[k],g2,g3),(k,0,2)),factor)\n",
    "  )\n",
    "eq_3_modes_quadratic_per_mode_pwp_pw_ratio_minus = Eq(\n",
    "    eq_3_modes_quadratic_per_mode_pwp_pw_ratio.rhs - Sum(zw(xi[k],g2,g3),(k,0,2)),\n",
    "    eq_3_modes_quadratic_per_mode_pwp_pw_ratio.lhs - Sum(zw(xi[k],g2,g3),(k,0,2))\n",
    ").subs(k,l)\n",
    "eq_3_modes_quadratic_per_mode_pwp_pw_ratio_minus"
   ]
  },
  {
   "cell_type": "code",
   "execution_count": 151,
   "metadata": {},
   "outputs": [
    {
     "data": {
      "text/latex": [
       "$\\displaystyle \\frac{- \\operatorname{pwp}{\\left(z,g_{2},g_{3} \\right)} - \\operatorname{pwp}{\\left({\\xi}_{l},g_{2},g_{3} \\right)}}{2 \\left(- \\operatorname{pw}{\\left(z,g_{2},g_{3} \\right)} + \\operatorname{pw}{\\left({\\xi}_{l},g_{2},g_{3} \\right)}\\right)} = \\sum_{k=0}^{2} \\operatorname{zw}{\\left({\\xi}_{k},g_{2},g_{3} \\right)} + \\frac{\\prod_{k=0}^{2} \\frac{\\sigma{\\left(z + {\\xi}_{k},g_{2},g_{3} \\right)}}{\\sigma{\\left(z,g_{2},g_{3} \\right)} \\sigma{\\left({\\xi}_{k},g_{2},g_{3} \\right)}}}{- \\operatorname{pw}{\\left(z,g_{2},g_{3} \\right)} + \\operatorname{pw}{\\left({\\xi}_{l},g_{2},g_{3} \\right)}}$"
      ],
      "text/plain": [
       "Eq((-pwp(z, g2, g3) - pwp(xi[l], g2, g3))/(2*(-pw(z, g2, g3) + pw(xi[l], g2, g3))), Sum(zw(xi[k], g2, g3), (k, 0, 2)) + Product(sigma(z + xi[k], g2, g3)/(sigma(z, g2, g3)*sigma(xi[k], g2, g3)), (k, 0, 2))/(-pw(z, g2, g3) + pw(xi[l], g2, g3)))"
      ]
     },
     "execution_count": 151,
     "metadata": {},
     "output_type": "execute_result"
    }
   ],
   "source": [
    "eq_3_modes_quadratic_per_mode_pwp_pw_ratio_plus = (\n",
    "    eq_3_modes_quadratic_per_mode_pwp_pw_ratio_minus\n",
    "    .subs(xi[l],-xi[l])\n",
    "    .subs([\n",
    "        (pw(-xi[l],g2,g3), pw(xi[l],g2,g3)), (pwp(-xi[l],g2,g3), -pwp(xi[l],g2,g3)), \n",
    "        (sigma(-xi[l],g2,g3), -sigma(xi[l],g2,g3)),\n",
    "        (Sum(zw(xi[k],g2,g3),(k,0,2)), -Sum(zw(xi[k],g2,g3),(k,0,2))),\n",
    "        (Product(sigma(z-xi[k],g2,g3)/sigma(z,g2,g3)/sigma(xi[k],g2,g3),(k,0,2)), \n",
    "        Product(-1,(k,0,2)).doit()*Product(sigma(z+xi[k],g2,g3)/sigma(z,g2,g3)/sigma(xi[k],g2,g3),(k,0,2)))\n",
    "    ])\n",
    ")\n",
    "eq_3_modes_quadratic_per_mode_pwp_pw_ratio_plus"
   ]
  },
  {
   "cell_type": "code",
   "execution_count": 152,
   "metadata": {
    "scrolled": true
   },
   "outputs": [
    {
     "data": {
      "text/latex": [
       "$\\displaystyle \\frac{\\partial}{\\partial z} \\frac{\\sigma{\\left(z + {\\xi}_{l},g_{2},g_{3} \\right)}}{\\sigma{\\left(z,g_{2},g_{3} \\right)} \\sigma{\\left({\\xi}_{l},g_{2},g_{3} \\right)}} = - \\prod_{k=0}^{2} \\begin{cases} \\frac{\\sigma{\\left(z - {\\xi}_{k},g_{2},g_{3} \\right)}}{\\sigma{\\left(z,g_{2},g_{3} \\right)} \\sigma{\\left({\\xi}_{k},g_{2},g_{3} \\right)}} & \\text{for}\\: k \\neq l \\\\1 & \\text{otherwise} \\end{cases} - \\frac{\\sigma{\\left(z + {\\xi}_{l},g_{2},g_{3} \\right)} \\sum_{k=0}^{2} \\begin{cases} \\operatorname{zw}{\\left({\\xi}_{k},g_{2},g_{3} \\right)} & \\text{for}\\: k \\neq l \\\\0 & \\text{otherwise} \\end{cases}}{\\sigma{\\left(z,g_{2},g_{3} \\right)} \\sigma{\\left({\\xi}_{l},g_{2},g_{3} \\right)}}$"
      ],
      "text/plain": [
       "Eq(Derivative(sigma(z + xi[l], g2, g3)/(sigma(z, g2, g3)*sigma(xi[l], g2, g3)), z), -Product(Piecewise((sigma(z - xi[k], g2, g3)/(sigma(z, g2, g3)*sigma(xi[k], g2, g3)), Ne(k, l)), (1, True)), (k, 0, 2)) - sigma(z + xi[l], g2, g3)*Sum(Piecewise((zw(xi[k], g2, g3), Ne(k, l)), (0, True)), (k, 0, 2))/(sigma(z, g2, g3)*sigma(xi[l], g2, g3)))"
      ]
     },
     "execution_count": 152,
     "metadata": {},
     "output_type": "execute_result"
    }
   ],
   "source": [
    "general_sigma_ratio_l = sigma(z+xi[l],g2,g3)/sigma(z,g2,g3)/sigma(xi[l],g2,g3)\n",
    "final_form_3_modes_plus__ = (\n",
    "    log_sig_ratio_zx_p_conj\n",
    "    .subs(x,xi[l])\n",
    "    .subs(*eq_3_modes_quadratic_per_mode_pwp_pw_ratio_minus.args)\n",
    "    .subs(\n",
    "        Derivative(log(general_sigma_ratio_l),z),\n",
    "        Derivative(general_sigma_ratio_l,z) / general_sigma_ratio_l\n",
    "    )\n",
    "    .subs(pw(z,g2,g3), \n",
    "        solve(Eq(sigma_p_identity.rhs, sigma_p_identity.lhs).subs(y,xi[l]).subs(x,z), pw(z,g2,g3))[0])\n",
    "    .subs(\n",
    "        Product(sigma(z-xi[k],g2,g3)/sigma(z,g2,g3)/sigma(xi[k],g2,g3),(k,0,2)),\n",
    "        Product(\n",
    "            Piecewise((sigma(z-xi[k],g2,g3)/sigma(z,g2,g3)/sigma(xi[k],g2,g3),Ne(k,l)),(1,Eq(k,l)))\n",
    "        ,(k,0,2))*sigma(z-xi[l],g2,g3)/sigma(z,g2,g3)/sigma(xi[l],g2,g3)\n",
    "    )\n",
    "    .subs(\n",
    "        Sum(zw(xi[k],g2,g3),(k,0,2)),\n",
    "        Sum(Piecewise((zw(xi[k],g2,g3) ,Ne(k,l)),(0,Eq(k,l))),(k,0,2)) + zw(xi[l],g2,g3) \n",
    "    )\n",
    ")\n",
    "final_form_3_modes_plus = Eq(\n",
    "    final_form_3_modes_plus__.lhs*general_sigma_ratio_l, \n",
    "    final_form_3_modes_plus__.rhs*general_sigma_ratio_l\n",
    ").expand()\n",
    "final_form_3_modes_plus"
   ]
  },
  {
   "cell_type": "code",
   "execution_count": 153,
   "metadata": {},
   "outputs": [
    {
     "data": {
      "text/latex": [
       "$\\displaystyle \\frac{\\partial}{\\partial z} \\frac{\\sigma{\\left(z - {\\xi}_{l},g_{2},g_{3} \\right)}}{\\sigma{\\left(z,g_{2},g_{3} \\right)} \\sigma{\\left({\\xi}_{l},g_{2},g_{3} \\right)}} = \\prod_{k=0}^{2} \\begin{cases} \\frac{\\sigma{\\left(z + {\\xi}_{k},g_{2},g_{3} \\right)}}{\\sigma{\\left(z,g_{2},g_{3} \\right)} \\sigma{\\left({\\xi}_{k},g_{2},g_{3} \\right)}} & \\text{for}\\: k \\neq l \\\\1 & \\text{otherwise} \\end{cases} + \\frac{\\sigma{\\left(z - {\\xi}_{l},g_{2},g_{3} \\right)} \\sum_{k=0}^{2} \\begin{cases} \\operatorname{zw}{\\left({\\xi}_{k},g_{2},g_{3} \\right)} & \\text{for}\\: k \\neq l \\\\0 & \\text{otherwise} \\end{cases}}{\\sigma{\\left(z,g_{2},g_{3} \\right)} \\sigma{\\left({\\xi}_{l},g_{2},g_{3} \\right)}}$"
      ],
      "text/plain": [
       "Eq(Derivative(sigma(z - xi[l], g2, g3)/(sigma(z, g2, g3)*sigma(xi[l], g2, g3)), z), Product(Piecewise((sigma(z + xi[k], g2, g3)/(sigma(z, g2, g3)*sigma(xi[k], g2, g3)), Ne(k, l)), (1, True)), (k, 0, 2)) + sigma(z - xi[l], g2, g3)*Sum(Piecewise((zw(xi[k], g2, g3), Ne(k, l)), (0, True)), (k, 0, 2))/(sigma(z, g2, g3)*sigma(xi[l], g2, g3)))"
      ]
     },
     "execution_count": 153,
     "metadata": {},
     "output_type": "execute_result"
    }
   ],
   "source": [
    "general_sigma_ratio_l_minus = sigma(z-xi[l],g2,g3)/sigma(z,g2,g3)/sigma(xi[l],g2,g3)\n",
    "final_form_3_modes_minus__ = (\n",
    "    log_sig_ratio_zx_p\n",
    "    .subs(x,xi[l])\n",
    "    .subs(*eq_3_modes_quadratic_per_mode_pwp_pw_ratio_plus.args)\n",
    "    .subs(\n",
    "        Derivative(log(general_sigma_ratio_l_minus),z),\n",
    "        Derivative(general_sigma_ratio_l_minus,z) / general_sigma_ratio_l_minus\n",
    "    )\n",
    "    .subs(pw(z,g2,g3), \n",
    "        solve(Eq(sigma_p_identity.rhs, sigma_p_identity.lhs).subs(y,xi[l]).subs(x,z), pw(z,g2,g3))[0])\n",
    "    .subs(\n",
    "        Product(sigma(z+xi[k],g2,g3)/sigma(z,g2,g3)/sigma(xi[k],g2,g3),(k,0,2)),\n",
    "        Product(\n",
    "            Piecewise((sigma(z+xi[k],g2,g3)/sigma(z,g2,g3)/sigma(xi[k],g2,g3),Ne(k,l)),(1,Eq(k,l)))\n",
    "        ,(k,0,2))*sigma(z+xi[l],g2,g3)/sigma(z,g2,g3)/sigma(xi[l],g2,g3)\n",
    "    )\n",
    "    .subs(\n",
    "        Sum(zw(xi[k],g2,g3),(k,0,2)),\n",
    "        Sum(Piecewise((zw(xi[k],g2,g3) ,Ne(k,l)),(0,Eq(k,l))),(k,0,2)) + zw(xi[l],g2,g3) \n",
    "    )\n",
    ")\n",
    "final_form_3_modes_minus = Eq(\n",
    "    final_form_3_modes_minus__.lhs*general_sigma_ratio_l_minus, \n",
    "    final_form_3_modes_minus__.rhs*general_sigma_ratio_l_minus\n",
    ").expand()\n",
    "final_form_3_modes_minus"
   ]
  },
  {
   "cell_type": "markdown",
   "metadata": {},
   "source": [
    "#### $N=3$ case"
   ]
  },
  {
   "cell_type": "code",
   "execution_count": 154,
   "metadata": {},
   "outputs": [
    {
     "data": {
      "text/latex": [
       "$\\displaystyle \\frac{1}{\\sigma^{4}{\\left(z,g_{2},g_{3} \\right)}} = \\frac{1}{z^{4}} + \\frac{24 g_{3} z^{2}}{7} + \\frac{2 g_{2}}{5} + O\\left(z^{4}\\right)$"
      ],
      "text/plain": [
       "Eq(sigma(z, g2, g3)**(-4), z**(-4) + 24*g3*z**2/7 + 2*g2/5 + O(z**4))"
      ]
     },
     "execution_count": 154,
     "metadata": {},
     "output_type": "execute_result"
    }
   ],
   "source": [
    "one_over_sigma_z_power_N.subs(N,4).expand()"
   ]
  },
  {
   "cell_type": "code",
   "execution_count": 155,
   "metadata": {},
   "outputs": [],
   "source": [
    "# sigma_series_in_z_about_x"
   ]
  },
  {
   "cell_type": "code",
   "execution_count": 156,
   "metadata": {},
   "outputs": [
    {
     "data": {
      "text/latex": [
       "$\\displaystyle \\operatorname{pw}{\\left(z,g_{2},g_{3} \\right)} = \\frac{1}{z^{2}} + 3 z^{2} {G}_{4} + O\\left(z^{4}\\right)$"
      ],
      "text/plain": [
       "Eq(pw(z, g2, g3), z**(-2) + 3*z**2*G[4] + O(z**4))"
      ]
     },
     "execution_count": 156,
     "metadata": {},
     "output_type": "execute_result"
    }
   ],
   "source": [
    "pw_exp_n3_Nval = 1\n",
    "pw_exp_n3_Nval_eq = Eq(expansion_z_wp_N.lhs, \n",
    "                       expansion_z_wp_N.rhs.subs(N,pw_exp_n3_Nval).doit() + O(z**(2*(pw_exp_n3_Nval+1))))\n",
    "pw_exp_n3_Nval_eq"
   ]
  },
  {
   "cell_type": "code",
   "execution_count": 157,
   "metadata": {},
   "outputs": [
    {
     "data": {
      "text/latex": [
       "$\\displaystyle \\frac{\\partial}{\\partial z} \\operatorname{pw}{\\left(z,g_{2},g_{3} \\right)} = - \\frac{2}{z^{3}} + 6 z {G}_{4} + O\\left(z^{3}\\right)$"
      ],
      "text/plain": [
       "Eq(Derivative(pw(z, g2, g3), z), -2/z**3 + 6*z*G[4] + O(z**3))"
      ]
     },
     "execution_count": 157,
     "metadata": {},
     "output_type": "execute_result"
    }
   ],
   "source": [
    "pw_exp_n3_Nval_eq_diff_1 = Eq(diff(pw_exp_n3_Nval_eq.lhs,z), diff(pw_exp_n3_Nval_eq.rhs,z))\n",
    "pw_exp_n3_Nval_eq_diff_1"
   ]
  },
  {
   "cell_type": "code",
   "execution_count": 158,
   "metadata": {},
   "outputs": [
    {
     "data": {
      "text/latex": [
       "$\\displaystyle \\frac{\\partial^{2}}{\\partial z^{2}} \\operatorname{pw}{\\left(z,g_{2},g_{3} \\right)} = \\frac{6}{z^{4}} + 6 {G}_{4} + O\\left(z^{2}\\right)$"
      ],
      "text/plain": [
       "Eq(Derivative(pw(z, g2, g3), (z, 2)), 6/z**4 + 6*G[4] + O(z**2))"
      ]
     },
     "execution_count": 158,
     "metadata": {},
     "output_type": "execute_result"
    }
   ],
   "source": [
    "pw_exp_n3_Nval_eq_diff_2 = Eq(diff(pw_exp_n3_Nval_eq.lhs,(z,2)), diff(pw_exp_n3_Nval_eq.rhs,(z,2)))\n",
    "pw_exp_n3_Nval_eq_diff_2"
   ]
  },
  {
   "cell_type": "code",
   "execution_count": 159,
   "metadata": {},
   "outputs": [
    {
     "data": {
      "text/latex": [
       "$\\displaystyle {G}_{4} = \\frac{g_{2}}{60}$"
      ],
      "text/plain": [
       "Eq(G[4], g2/60)"
      ]
     },
     "execution_count": 159,
     "metadata": {},
     "output_type": "execute_result"
    }
   ],
   "source": [
    "G4_g2_60 = Eq(G[4], g2/60)\n",
    "G4_g2_60"
   ]
  },
  {
   "cell_type": "code",
   "execution_count": 160,
   "metadata": {},
   "outputs": [
    {
     "data": {
      "text/latex": [
       "$\\displaystyle \\frac{\\sigma{\\left(z - {\\xi}_{0},g_{2},g_{3} \\right)} \\sigma{\\left(z - {\\xi}_{1},g_{2},g_{3} \\right)} \\sigma{\\left(z - {\\xi}_{2},g_{2},g_{3} \\right)} \\sigma{\\left(z - {\\xi}_{3},g_{2},g_{3} \\right)}}{\\sigma^{4}{\\left(z,g_{2},g_{3} \\right)} \\sigma{\\left({\\xi}_{0},g_{2},g_{3} \\right)} \\sigma{\\left({\\xi}_{1},g_{2},g_{3} \\right)} \\sigma{\\left({\\xi}_{2},g_{2},g_{3} \\right)} \\sigma{\\left({\\xi}_{3},g_{2},g_{3} \\right)}} = \\operatorname{pw}{\\left(z,g_{2},g_{3} \\right)} {c}_{1} + \\frac{\\partial}{\\partial z} \\operatorname{pw}{\\left(z,g_{2},g_{3} \\right)} {c}_{2} + \\frac{\\partial^{2}}{\\partial z^{2}} \\operatorname{pw}{\\left(z,g_{2},g_{3} \\right)} {c}_{3} + {c}_{0}$"
      ],
      "text/plain": [
       "Eq(sigma(z - xi[0], g2, g3)*sigma(z - xi[1], g2, g3)*sigma(z - xi[2], g2, g3)*sigma(z - xi[3], g2, g3)/(sigma(z, g2, g3)**4*sigma(xi[0], g2, g3)*sigma(xi[1], g2, g3)*sigma(xi[2], g2, g3)*sigma(xi[3], g2, g3)), pw(z, g2, g3)*c[1] + Derivative(pw(z, g2, g3), z)*c[2] + Derivative(pw(z, g2, g3), (z, 2))*c[3] + c[0])"
      ]
     },
     "execution_count": 160,
     "metadata": {},
     "output_type": "execute_result"
    }
   ],
   "source": [
    "sigma_product_wp_diff_eq.subs(N,3).doit()"
   ]
  },
  {
   "cell_type": "code",
   "execution_count": 161,
   "metadata": {},
   "outputs": [
    {
     "data": {
      "text/latex": [
       "$\\displaystyle \\frac{\\sigma{\\left(z - {\\xi}_{0},g_{2},g_{3} \\right)} \\sigma{\\left(z - {\\xi}_{1},g_{2},g_{3} \\right)} \\sigma{\\left(z - {\\xi}_{2},g_{2},g_{3} \\right)} \\sigma{\\left(z - {\\xi}_{3},g_{2},g_{3} \\right)}}{\\sigma^{4}{\\left(z,g_{2},g_{3} \\right)} \\sigma{\\left({\\xi}_{0},g_{2},g_{3} \\right)} \\sigma{\\left({\\xi}_{1},g_{2},g_{3} \\right)} \\sigma{\\left({\\xi}_{2},g_{2},g_{3} \\right)} \\sigma{\\left({\\xi}_{3},g_{2},g_{3} \\right)}} = \\frac{6 {c}_{3}}{z^{4}} - \\frac{2 {c}_{2}}{z^{3}} + \\frac{{c}_{1}}{z^{2}} + {c}_{0} + \\frac{g_{2} {c}_{3}}{10} + \\frac{g_{2} z {c}_{2}}{10} + O\\left(z^{2}\\right)$"
      ],
      "text/plain": [
       "Eq(sigma(z - xi[0], g2, g3)*sigma(z - xi[1], g2, g3)*sigma(z - xi[2], g2, g3)*sigma(z - xi[3], g2, g3)/(sigma(z, g2, g3)**4*sigma(xi[0], g2, g3)*sigma(xi[1], g2, g3)*sigma(xi[2], g2, g3)*sigma(xi[3], g2, g3)), 6*c[3]/z**4 - 2*c[2]/z**3 + c[1]/z**2 + c[0] + g2*c[3]/10 + g2*z*c[2]/10 + O(z**2))"
      ]
     },
     "execution_count": 161,
     "metadata": {},
     "output_type": "execute_result"
    }
   ],
   "source": [
    "sigma_exp_z_n3_eq_rhs = (sigma_product_wp_diff_eq.subs(N,3).doit()\n",
    "                         .subs(*pw_exp_n3_Nval_eq_diff_2.args)\n",
    "                         .subs(*pw_exp_n3_Nval_eq_diff_1.args)\n",
    "                         .subs(*pw_exp_n3_Nval_eq.args)\n",
    "                         .subs(*G4_g2_60.args)\n",
    "                         .expand())\n",
    "sigma_exp_z_n3_eq_rhs"
   ]
  },
  {
   "cell_type": "code",
   "execution_count": 162,
   "metadata": {},
   "outputs": [
    {
     "data": {
      "text/latex": [
       "$\\displaystyle \\frac{1}{\\sigma^{4}{\\left(z,g_{2},g_{3} \\right)}} = \\frac{1}{z^{4}} + \\frac{24 g_{3} z^{2}}{7} + \\frac{2 g_{2}}{5} + O\\left(z^{4}\\right)$"
      ],
      "text/plain": [
       "Eq(sigma(z, g2, g3)**(-4), z**(-4) + 24*g3*z**2/7 + 2*g2/5 + O(z**4))"
      ]
     },
     "execution_count": 162,
     "metadata": {},
     "output_type": "execute_result"
    }
   ],
   "source": [
    "one_over_sig_to_3_exp = one_over_sigma_z_power_N.subs(N,4).expand()\n",
    "one_over_sig_to_3_exp"
   ]
  },
  {
   "cell_type": "code",
   "execution_count": 163,
   "metadata": {},
   "outputs": [],
   "source": [
    "# sigma_z_minus_x_4_exp"
   ]
  },
  {
   "cell_type": "code",
   "execution_count": 164,
   "metadata": {},
   "outputs": [],
   "source": [
    "sigma_z_xi_expansions_n3 = [sigma_z_minus_x_4_exp.subs(x,xi[_k]).args for _k in range(0,4)]"
   ]
  },
  {
   "cell_type": "code",
   "execution_count": 165,
   "metadata": {},
   "outputs": [],
   "source": [
    "sigma_exp_z_n3_eq_lhs = Eq(\n",
    "    sigma_product_wp_diff_eq.subs(N,3).doit().lhs,\n",
    "    sigma_product_wp_diff_eq.subs(N,3).doit().lhs\n",
    "    .subs(sigma_z_xi_expansions_n3)\n",
    "    .subs(*one_over_sig_to_3_exp.args).expand()\n",
    "  )\n",
    "# sigma_exp_z_n3_eq_lhs"
   ]
  },
  {
   "cell_type": "code",
   "execution_count": 166,
   "metadata": {},
   "outputs": [],
   "source": [
    "coeff_eq_n3_poly = Eq(sigma_exp_z_n3_eq_lhs.lhs - sigma_exp_z_n3_eq_rhs.lhs, \n",
    "   (sigma_exp_z_n3_eq_lhs.rhs - sigma_exp_z_n3_eq_rhs.rhs).collect(z))\n",
    "# coeff_eq_n3_poly"
   ]
  },
  {
   "cell_type": "code",
   "execution_count": 167,
   "metadata": {},
   "outputs": [
    {
     "data": {
      "text/latex": [
       "$\\displaystyle {c}_{3} = \\frac{1}{6}$"
      ],
      "text/plain": [
       "Eq(c[3], 1/6)"
      ]
     },
     "execution_count": 167,
     "metadata": {},
     "output_type": "execute_result"
    }
   ],
   "source": [
    "c3_val_n3 = Eq(c[3], solve(coeff_eq_n3_poly.rhs.coeff(1/z**4), c[3])[0])\n",
    "c3_val_n3"
   ]
  },
  {
   "cell_type": "code",
   "execution_count": 168,
   "metadata": {},
   "outputs": [
    {
     "name": "stdout",
     "output_type": "stream",
     "text": [
      "True\n"
     ]
    },
    {
     "data": {
      "text/latex": [
       "$\\displaystyle {c}_{2} = \\frac{\\sum_{k=0}^{3} \\operatorname{zw}{\\left({\\xi}_{k},g_{2},g_{3} \\right)}}{2}$"
      ],
      "text/plain": [
       "Eq(c[2], Sum(zw(xi[k], g2, g3), (k, 0, 3))/2)"
      ]
     },
     "execution_count": 168,
     "metadata": {},
     "output_type": "execute_result"
    }
   ],
   "source": [
    "c2_val_n3 = Eq(c[2], solve(coeff_eq_n3_poly.rhs.coeff(1/z**3), c[2])[0])\n",
    "c2_val_n3_factored = Eq(c[2], Sum(zw(xi[k],g2,g3),(k,0,3))/2)\n",
    "print(c2_val_n3_factored.rhs.doit() - c2_val_n3.rhs == 0)\n",
    "c2_val_n3_factored"
   ]
  },
  {
   "cell_type": "code",
   "execution_count": 169,
   "metadata": {
    "scrolled": true
   },
   "outputs": [
    {
     "name": "stdout",
     "output_type": "stream",
     "text": [
      "True\n"
     ]
    },
    {
     "data": {
      "text/latex": [
       "$\\displaystyle {c}_{1} = - \\frac{\\sum_{k=0}^{3} \\operatorname{pw}{\\left({\\xi}_{k},g_{2},g_{3} \\right)}}{2} + \\frac{\\left(\\sum_{k=0}^{3} \\operatorname{zw}{\\left({\\xi}_{k},g_{2},g_{3} \\right)}\\right)^{2}}{2}$"
      ],
      "text/plain": [
       "Eq(c[1], -Sum(pw(xi[k], g2, g3), (k, 0, 3))/2 + Sum(zw(xi[k], g2, g3), (k, 0, 3))**2/2)"
      ]
     },
     "execution_count": 169,
     "metadata": {},
     "output_type": "execute_result"
    }
   ],
   "source": [
    "c1_val_n3 = Eq(c[1], solve(coeff_eq_n3_poly.rhs.coeff(1/z**2), c[1])[0])\n",
    "c1_val_n3_factored = Eq(c[1], -Sum(pw(xi[k],g2,g3),(k,0,3))/2 + Sum(zw(xi[k],g2,g3),(k,0,3))**2/2)\n",
    "print((c1_val_n3_factored.rhs.doit() - c1_val_n3.rhs).expand() == 0)\n",
    "c1_val_n3_factored"
   ]
  },
  {
   "cell_type": "code",
   "execution_count": 170,
   "metadata": {},
   "outputs": [
    {
     "name": "stdout",
     "output_type": "stream",
     "text": [
      "True\n"
     ]
    },
    {
     "data": {
      "text/latex": [
       "$\\displaystyle \\frac{\\left(\\sum_{k=0}^{3} \\operatorname{pw}{\\left({\\xi}_{k},g_{2},g_{3} \\right)}\\right) \\sum_{k=0}^{3} \\operatorname{zw}{\\left({\\xi}_{k},g_{2},g_{3} \\right)}}{2} + \\frac{\\sum_{k=0}^{3} \\operatorname{pwp}{\\left({\\xi}_{k},g_{2},g_{3} \\right)}}{6} - \\frac{\\left(\\sum_{k=0}^{3} \\operatorname{zw}{\\left({\\xi}_{k},g_{2},g_{3} \\right)}\\right)^{3}}{6} = 0$"
      ],
      "text/plain": [
       "Eq(Sum(pw(xi[k], g2, g3), (k, 0, 3))*Sum(zw(xi[k], g2, g3), (k, 0, 3))/2 + Sum(pwp(xi[k], g2, g3), (k, 0, 3))/6 - Sum(zw(xi[k], g2, g3), (k, 0, 3))**3/6, 0)"
      ]
     },
     "execution_count": 170,
     "metadata": {},
     "output_type": "execute_result"
    }
   ],
   "source": [
    "one_over_z_term_n3 = Eq(coeff_eq_n3_poly.rhs.coeff(1/z),0)\n",
    "one_over_z_term_n3_factored = Eq(\n",
    "    Sum(pw(xi[k],g2,g3),(k,0,3))*Sum(zw(xi[k],g2,g3),(k,0,3))/2 + \n",
    "    Sum(pwp(xi[k],g2,g3),(k,0,3))/6 - Sum(zw(xi[k],g2,g3),(k,0,3))**3/6,0\n",
    ")\n",
    "print((one_over_z_term_n3_factored.lhs.doit() - one_over_z_term_n3.lhs).expand() == 0)\n",
    "one_over_z_term_n3_factored"
   ]
  },
  {
   "cell_type": "code",
   "execution_count": 171,
   "metadata": {},
   "outputs": [
    {
     "name": "stdout",
     "output_type": "stream",
     "text": [
      "True\n"
     ]
    },
    {
     "data": {
      "text/latex": [
       "$\\displaystyle {c}_{0} = \\frac{7 g_{2}}{15} + \\frac{\\left(\\sum_{k=0}^{3} \\operatorname{pw}{\\left({\\xi}_{k},g_{2},g_{3} \\right)}\\right)^{2}}{8} - \\frac{\\left(\\sum_{k=0}^{3} \\operatorname{pw}{\\left({\\xi}_{k},g_{2},g_{3} \\right)}\\right) \\left(\\sum_{k=0}^{3} \\operatorname{zw}{\\left({\\xi}_{k},g_{2},g_{3} \\right)}\\right)^{2}}{4} - \\frac{\\sum_{k=0}^{3} \\operatorname{pw}^{2}{\\left({\\xi}_{k},g_{2},g_{3} \\right)}}{4} - \\frac{\\left(\\sum_{k=0}^{3} \\operatorname{pwp}{\\left({\\xi}_{k},g_{2},g_{3} \\right)}\\right) \\sum_{k=0}^{3} \\operatorname{zw}{\\left({\\xi}_{k},g_{2},g_{3} \\right)}}{6} + \\frac{\\left(\\sum_{k=0}^{3} \\operatorname{zw}{\\left({\\xi}_{k},g_{2},g_{3} \\right)}\\right)^{4}}{24}$"
      ],
      "text/plain": [
       "Eq(c[0], 7*g2/15 + Sum(pw(xi[k], g2, g3), (k, 0, 3))**2/8 - Sum(pw(xi[k], g2, g3), (k, 0, 3))*Sum(zw(xi[k], g2, g3), (k, 0, 3))**2/4 - Sum(pw(xi[k], g2, g3)**2, (k, 0, 3))/4 - Sum(pwp(xi[k], g2, g3), (k, 0, 3))*Sum(zw(xi[k], g2, g3), (k, 0, 3))/6 + Sum(zw(xi[k], g2, g3), (k, 0, 3))**4/24)"
      ]
     },
     "execution_count": 171,
     "metadata": {},
     "output_type": "execute_result"
    }
   ],
   "source": [
    "c0_val_n3 = Eq(c[0], solve(limit(coeff_eq_n3_poly.rhs.subs([\n",
    "    c3_val_n3.args, c2_val_n3.args, c1_val_n3.args, one_over_z_term_n3.args\n",
    "]),z,0), c[0])[0])\n",
    "\n",
    "c0_val_n3_factored_terms = (\n",
    "    7*g2/15\n",
    "   + (Sum(pw(xi[k],g2,g3),(k,0,3))**2)/8 \n",
    "   - Sum(pw(xi[k],g2,g3)**2,(k,0,3))/4\n",
    "   - (Sum(pw(xi[k],g2,g3),(k,0,3)) * Sum(zw(xi[k],g2,g3),(k,0,3))**2)/4\n",
    "   - (Sum(pwp(xi[k],g2,g3),(k,0,3)) * Sum(zw(xi[k],g2,g3),(k,0,3)))/6\n",
    "   + Sum(zw(xi[k],g2,g3),(k,0,3))**4/24\n",
    ")\n",
    "\n",
    "# Eq(c[0]  - c0_val_n3_factored_terms, c0_val_n3.rhs - c0_val_n3_factored_terms.doit().expand())\n",
    "c0_val_n3_factored = Eq(c[0], c0_val_n3_factored_terms)\n",
    "print(c0_val_n3.rhs - c0_val_n3_factored.rhs.doit().expand() == 0)\n",
    "c0_val_n3_factored"
   ]
  },
  {
   "cell_type": "code",
   "execution_count": 172,
   "metadata": {},
   "outputs": [
    {
     "data": {
      "text/latex": [
       "$\\displaystyle \\prod_{l=0}^{3} \\frac{\\sigma{\\left(z - {\\xi}_{l},g_{2},g_{3} \\right)}}{\\sigma{\\left(z,g_{2},g_{3} \\right)} \\sigma{\\left({\\xi}_{l},g_{2},g_{3} \\right)}} = \\frac{23 g_{2}}{60} + \\left(- \\frac{\\sum_{k=0}^{3} \\operatorname{pw}{\\left({\\xi}_{k},g_{2},g_{3} \\right)}}{2} + \\frac{\\left(\\sum_{k=0}^{3} \\operatorname{zw}{\\left({\\xi}_{k},g_{2},g_{3} \\right)}\\right)^{2}}{2}\\right) \\operatorname{pw}{\\left(z,g_{2},g_{3} \\right)} + \\operatorname{pw}^{2}{\\left(z,g_{2},g_{3} \\right)} + \\frac{\\operatorname{pwp}{\\left(z,g_{2},g_{3} \\right)} \\sum_{k=0}^{3} \\operatorname{zw}{\\left({\\xi}_{k},g_{2},g_{3} \\right)}}{2} + \\frac{\\left(\\sum_{k=0}^{3} \\operatorname{pw}{\\left({\\xi}_{k},g_{2},g_{3} \\right)}\\right)^{2}}{8} - \\frac{\\left(\\sum_{k=0}^{3} \\operatorname{pw}{\\left({\\xi}_{k},g_{2},g_{3} \\right)}\\right) \\left(\\sum_{k=0}^{3} \\operatorname{zw}{\\left({\\xi}_{k},g_{2},g_{3} \\right)}\\right)^{2}}{4} - \\frac{\\sum_{k=0}^{3} \\operatorname{pw}^{2}{\\left({\\xi}_{k},g_{2},g_{3} \\right)}}{4} - \\frac{\\left(\\sum_{k=0}^{3} \\operatorname{pwp}{\\left({\\xi}_{k},g_{2},g_{3} \\right)}\\right) \\sum_{k=0}^{3} \\operatorname{zw}{\\left({\\xi}_{k},g_{2},g_{3} \\right)}}{6} + \\frac{\\left(\\sum_{k=0}^{3} \\operatorname{zw}{\\left({\\xi}_{k},g_{2},g_{3} \\right)}\\right)^{4}}{24}$"
      ],
      "text/plain": [
       "Eq(Product(sigma(z - xi[l], g2, g3)/(sigma(z, g2, g3)*sigma(xi[l], g2, g3)), (l, 0, 3)), 23*g2/60 + (-Sum(pw(xi[k], g2, g3), (k, 0, 3))/2 + Sum(zw(xi[k], g2, g3), (k, 0, 3))**2/2)*pw(z, g2, g3) + pw(z, g2, g3)**2 + pwp(z, g2, g3)*Sum(zw(xi[k], g2, g3), (k, 0, 3))/2 + Sum(pw(xi[k], g2, g3), (k, 0, 3))**2/8 - Sum(pw(xi[k], g2, g3), (k, 0, 3))*Sum(zw(xi[k], g2, g3), (k, 0, 3))**2/4 - Sum(pw(xi[k], g2, g3)**2, (k, 0, 3))/4 - Sum(pwp(xi[k], g2, g3), (k, 0, 3))*Sum(zw(xi[k], g2, g3), (k, 0, 3))/6 + Sum(zw(xi[k], g2, g3), (k, 0, 3))**4/24)"
      ]
     },
     "execution_count": 172,
     "metadata": {},
     "output_type": "execute_result"
    }
   ],
   "source": [
    "# Comment: 23g2/60 looks a bit strange could be a typo or simply the result of one over sigma expansion\n",
    "eq_4_modes_cubic = Eq(sigma_product_wp_diff_eq.lhs.subs(N,3),\n",
    "    sigma_product_wp_diff_eq.rhs\n",
    "    .subs(N,3).doit()\n",
    "    .subs(higher_order_diffs)\n",
    "    .subs(*diff_pw_eq.args).subs([\n",
    "        c3_val_n3.args,\n",
    "        c2_val_n3_factored.args,\n",
    "        c1_val_n3_factored.args,\n",
    "        c0_val_n3_factored.args\n",
    "    ])\n",
    ")\n",
    "eq_4_modes_cubic"
   ]
  },
  {
   "cell_type": "code",
   "execution_count": 173,
   "metadata": {},
   "outputs": [
    {
     "data": {
      "text/latex": [
       "$\\displaystyle \\prod_{l=0}^{3} \\frac{\\sigma{\\left(z - {\\xi}_{l},g_{2},g_{3} \\right)}}{\\sigma{\\left(z,g_{2},g_{3} \\right)} \\sigma{\\left({\\xi}_{l},g_{2},g_{3} \\right)}} = \\left(\\operatorname{pw}{\\left(z,g_{2},g_{3} \\right)} - \\operatorname{pw}{\\left({\\xi}_{l},g_{2},g_{3} \\right)}\\right) \\left(- \\frac{\\sum_{k=0}^{3} \\operatorname{pw}{\\left({\\xi}_{k},g_{2},g_{3} \\right)}}{2} + \\frac{\\left(\\sum_{k=0}^{3} \\operatorname{zw}{\\left({\\xi}_{k},g_{2},g_{3} \\right)}\\right)^{2}}{2}\\right) + \\frac{\\left(\\operatorname{pwp}{\\left(z,g_{2},g_{3} \\right)} - \\operatorname{pwp}{\\left({\\xi}_{l},g_{2},g_{3} \\right)}\\right) \\sum_{k=0}^{3} \\operatorname{zw}{\\left({\\xi}_{k},g_{2},g_{3} \\right)}}{2} + \\operatorname{pw}^{2}{\\left(z,g_{2},g_{3} \\right)} - \\operatorname{pw}^{2}{\\left({\\xi}_{l},g_{2},g_{3} \\right)}$"
      ],
      "text/plain": [
       "Eq(Product(sigma(z - xi[l], g2, g3)/(sigma(z, g2, g3)*sigma(xi[l], g2, g3)), (l, 0, 3)), (pw(z, g2, g3) - pw(xi[l], g2, g3))*(-Sum(pw(xi[k], g2, g3), (k, 0, 3))/2 + Sum(zw(xi[k], g2, g3), (k, 0, 3))**2/2) + (pwp(z, g2, g3) - pwp(xi[l], g2, g3))*Sum(zw(xi[k], g2, g3), (k, 0, 3))/2 + pw(z, g2, g3)**2 - pw(xi[l], g2, g3)**2)"
      ]
     },
     "execution_count": 173,
     "metadata": {},
     "output_type": "execute_result"
    }
   ],
   "source": [
    "eq_4_modes_cubic_per_mode = Eq(eq_4_modes_cubic.lhs, eq_4_modes_cubic.rhs - eq_4_modes_cubic.rhs.subs(z,xi[l]))\n",
    "eq_4_modes_cubic_per_mode = Eq(eq_4_modes_cubic_per_mode.lhs, \n",
    "   eq_4_modes_cubic_per_mode.rhs.collect([\n",
    "       eq_4_modes_cubic_per_mode.rhs.coeff(pw(z,g2,g3)), eq_4_modes_cubic_per_mode.rhs.coeff(pwp(z,g2,g3))\n",
    "   ])\n",
    "  )\n",
    "eq_4_modes_cubic_per_mode"
   ]
  },
  {
   "cell_type": "code",
   "execution_count": 174,
   "metadata": {},
   "outputs": [
    {
     "data": {
      "text/latex": [
       "$\\displaystyle \\prod_{l=0}^{3} \\frac{\\sigma{\\left(- z - {\\xi}_{l},g_{2},g_{3} \\right)}}{\\sigma{\\left(- z,g_{2},g_{3} \\right)} \\sigma{\\left({\\xi}_{l},g_{2},g_{3} \\right)}} + \\prod_{l=0}^{3} \\frac{\\sigma{\\left(z - {\\xi}_{l},g_{2},g_{3} \\right)}}{\\sigma{\\left(z,g_{2},g_{3} \\right)} \\sigma{\\left({\\xi}_{l},g_{2},g_{3} \\right)}} = \\frac{23 g_{2}}{30} + 2 \\left(- \\frac{\\sum_{k=0}^{3} \\operatorname{pw}{\\left({\\xi}_{k},g_{2},g_{3} \\right)}}{2} + \\frac{\\left(\\sum_{k=0}^{3} \\operatorname{zw}{\\left({\\xi}_{k},g_{2},g_{3} \\right)}\\right)^{2}}{2}\\right) \\operatorname{pw}{\\left(z,g_{2},g_{3} \\right)} + 2 \\operatorname{pw}^{2}{\\left(z,g_{2},g_{3} \\right)} + \\frac{\\left(\\sum_{k=0}^{3} \\operatorname{pw}{\\left({\\xi}_{k},g_{2},g_{3} \\right)}\\right)^{2}}{4} - \\frac{\\left(\\sum_{k=0}^{3} \\operatorname{pw}{\\left({\\xi}_{k},g_{2},g_{3} \\right)}\\right) \\left(\\sum_{k=0}^{3} \\operatorname{zw}{\\left({\\xi}_{k},g_{2},g_{3} \\right)}\\right)^{2}}{2} - \\frac{\\sum_{k=0}^{3} \\operatorname{pw}^{2}{\\left({\\xi}_{k},g_{2},g_{3} \\right)}}{2} - \\frac{\\left(\\sum_{k=0}^{3} \\operatorname{pwp}{\\left({\\xi}_{k},g_{2},g_{3} \\right)}\\right) \\sum_{k=0}^{3} \\operatorname{zw}{\\left({\\xi}_{k},g_{2},g_{3} \\right)}}{3} + \\frac{\\left(\\sum_{k=0}^{3} \\operatorname{zw}{\\left({\\xi}_{k},g_{2},g_{3} \\right)}\\right)^{4}}{12}$"
      ],
      "text/plain": [
       "Eq(Product(sigma(-z - xi[l], g2, g3)/(sigma(-z, g2, g3)*sigma(xi[l], g2, g3)), (l, 0, 3)) + Product(sigma(z - xi[l], g2, g3)/(sigma(z, g2, g3)*sigma(xi[l], g2, g3)), (l, 0, 3)), 23*g2/30 + 2*(-Sum(pw(xi[k], g2, g3), (k, 0, 3))/2 + Sum(zw(xi[k], g2, g3), (k, 0, 3))**2/2)*pw(z, g2, g3) + 2*pw(z, g2, g3)**2 + Sum(pw(xi[k], g2, g3), (k, 0, 3))**2/4 - Sum(pw(xi[k], g2, g3), (k, 0, 3))*Sum(zw(xi[k], g2, g3), (k, 0, 3))**2/2 - Sum(pw(xi[k], g2, g3)**2, (k, 0, 3))/2 - Sum(pwp(xi[k], g2, g3), (k, 0, 3))*Sum(zw(xi[k], g2, g3), (k, 0, 3))/3 + Sum(zw(xi[k], g2, g3), (k, 0, 3))**4/12)"
      ]
     },
     "execution_count": 174,
     "metadata": {},
     "output_type": "execute_result"
    },
    {
     "data": {
      "text/latex": [
       "$\\displaystyle \\operatorname{pw}{\\left(z,g_{2},g_{3} \\right)} = \\frac{\\sum_{k=0}^{3} \\left(\\operatorname{pw}{\\left(z,g_{2},g_{3} \\right)} - \\operatorname{pw}{\\left({\\xi}_{k},g_{2},g_{3} \\right)}\\right)}{4} + \\frac{\\sum_{k=0}^{3} \\operatorname{pw}{\\left({\\xi}_{k},g_{2},g_{3} \\right)}}{4}$"
      ],
      "text/plain": [
       "Eq(pw(z, g2, g3), Sum(pw(z, g2, g3) - pw(xi[k], g2, g3), (k, 0, 3))/4 + Sum(pw(xi[k], g2, g3), (k, 0, 3))/4)"
      ]
     },
     "execution_count": 174,
     "metadata": {},
     "output_type": "execute_result"
    },
    {
     "data": {
      "text/latex": [
       "$\\displaystyle \\prod_{l=0}^{3} \\frac{\\sigma{\\left(- z - {\\xi}_{l},g_{2},g_{3} \\right)}}{\\sigma{\\left(- z,g_{2},g_{3} \\right)} \\sigma{\\left({\\xi}_{l},g_{2},g_{3} \\right)}} + \\prod_{l=0}^{3} \\frac{\\sigma{\\left(z - {\\xi}_{l},g_{2},g_{3} \\right)}}{\\sigma{\\left(z,g_{2},g_{3} \\right)} \\sigma{\\left({\\xi}_{l},g_{2},g_{3} \\right)}} = \\frac{23 g_{2}}{30} + 2 \\left(\\frac{\\sum_{k=0}^{3} \\left(\\operatorname{pw}{\\left(z,g_{2},g_{3} \\right)} - \\operatorname{pw}{\\left({\\xi}_{k},g_{2},g_{3} \\right)}\\right)}{4} + \\frac{\\sum_{k=0}^{3} \\operatorname{pw}{\\left({\\xi}_{k},g_{2},g_{3} \\right)}}{4}\\right)^{2} + 2 \\left(\\frac{\\sum_{k=0}^{3} \\left(\\operatorname{pw}{\\left(z,g_{2},g_{3} \\right)} - \\operatorname{pw}{\\left({\\xi}_{k},g_{2},g_{3} \\right)}\\right)}{4} + \\frac{\\sum_{k=0}^{3} \\operatorname{pw}{\\left({\\xi}_{k},g_{2},g_{3} \\right)}}{4}\\right) \\left(- \\frac{\\sum_{k=0}^{3} \\operatorname{pw}{\\left({\\xi}_{k},g_{2},g_{3} \\right)}}{2} + \\frac{\\left(\\sum_{k=0}^{3} \\operatorname{zw}{\\left({\\xi}_{k},g_{2},g_{3} \\right)}\\right)^{2}}{2}\\right) + \\frac{\\left(\\sum_{k=0}^{3} \\operatorname{pw}{\\left({\\xi}_{k},g_{2},g_{3} \\right)}\\right)^{2}}{4} - \\frac{\\left(\\sum_{k=0}^{3} \\operatorname{pw}{\\left({\\xi}_{k},g_{2},g_{3} \\right)}\\right) \\left(\\sum_{k=0}^{3} \\operatorname{zw}{\\left({\\xi}_{k},g_{2},g_{3} \\right)}\\right)^{2}}{2} - \\frac{\\sum_{k=0}^{3} \\operatorname{pw}^{2}{\\left({\\xi}_{k},g_{2},g_{3} \\right)}}{2} - \\frac{\\left(\\sum_{k=0}^{3} \\operatorname{pwp}{\\left({\\xi}_{k},g_{2},g_{3} \\right)}\\right) \\sum_{k=0}^{3} \\operatorname{zw}{\\left({\\xi}_{k},g_{2},g_{3} \\right)}}{3} + \\frac{\\left(\\sum_{k=0}^{3} \\operatorname{zw}{\\left({\\xi}_{k},g_{2},g_{3} \\right)}\\right)^{4}}{12}$"
      ],
      "text/plain": [
       "Eq(Product(sigma(-z - xi[l], g2, g3)/(sigma(-z, g2, g3)*sigma(xi[l], g2, g3)), (l, 0, 3)) + Product(sigma(z - xi[l], g2, g3)/(sigma(z, g2, g3)*sigma(xi[l], g2, g3)), (l, 0, 3)), 23*g2/30 + 2*(Sum(pw(z, g2, g3) - pw(xi[k], g2, g3), (k, 0, 3))/4 + Sum(pw(xi[k], g2, g3), (k, 0, 3))/4)**2 + 2*(Sum(pw(z, g2, g3) - pw(xi[k], g2, g3), (k, 0, 3))/4 + Sum(pw(xi[k], g2, g3), (k, 0, 3))/4)*(-Sum(pw(xi[k], g2, g3), (k, 0, 3))/2 + Sum(zw(xi[k], g2, g3), (k, 0, 3))**2/2) + Sum(pw(xi[k], g2, g3), (k, 0, 3))**2/4 - Sum(pw(xi[k], g2, g3), (k, 0, 3))*Sum(zw(xi[k], g2, g3), (k, 0, 3))**2/2 - Sum(pw(xi[k], g2, g3)**2, (k, 0, 3))/2 - Sum(pwp(xi[k], g2, g3), (k, 0, 3))*Sum(zw(xi[k], g2, g3), (k, 0, 3))/3 + Sum(zw(xi[k], g2, g3), (k, 0, 3))**4/12)"
      ]
     },
     "execution_count": 174,
     "metadata": {},
     "output_type": "execute_result"
    },
    {
     "data": {
      "text/latex": [
       "$\\displaystyle \\operatorname{pw}{\\left(z,g_{2},g_{3} \\right)} - \\operatorname{pw}{\\left({\\xi}_{k},g_{2},g_{3} \\right)} = \\frac{\\sigma{\\left(- z + {\\xi}_{k},g_{2},g_{3} \\right)} \\sigma{\\left(z + {\\xi}_{k},g_{2},g_{3} \\right)}}{\\sigma^{2}{\\left(z,g_{2},g_{3} \\right)} \\sigma^{2}{\\left({\\xi}_{k},g_{2},g_{3} \\right)}}$"
      ],
      "text/plain": [
       "Eq(pw(z, g2, g3) - pw(xi[k], g2, g3), sigma(-z + xi[k], g2, g3)*sigma(z + xi[k], g2, g3)/(sigma(z, g2, g3)**2*sigma(xi[k], g2, g3)**2))"
      ]
     },
     "execution_count": 174,
     "metadata": {},
     "output_type": "execute_result"
    },
    {
     "data": {
      "text/latex": [
       "$\\displaystyle \\prod_{l=0}^{3} \\frac{\\sigma{\\left(z - {\\xi}_{l},g_{2},g_{3} \\right)}}{\\sigma{\\left(z,g_{2},g_{3} \\right)} \\sigma{\\left({\\xi}_{l},g_{2},g_{3} \\right)}} + \\prod_{l=0}^{3} \\frac{\\sigma{\\left(z + {\\xi}_{l},g_{2},g_{3} \\right)}}{\\sigma{\\left(z,g_{2},g_{3} \\right)} \\sigma{\\left({\\xi}_{l},g_{2},g_{3} \\right)}} = \\frac{23 g_{2}}{30} + \\frac{\\left(\\sum_{k=0}^{3} \\frac{\\sigma{\\left(- z + {\\xi}_{k},g_{2},g_{3} \\right)} \\sigma{\\left(z + {\\xi}_{k},g_{2},g_{3} \\right)}}{\\sigma^{2}{\\left(z,g_{2},g_{3} \\right)} \\sigma^{2}{\\left({\\xi}_{k},g_{2},g_{3} \\right)}}\\right)^{2}}{8} + \\frac{\\left(\\sum_{k=0}^{3} \\frac{\\sigma{\\left(- z + {\\xi}_{k},g_{2},g_{3} \\right)} \\sigma{\\left(z + {\\xi}_{k},g_{2},g_{3} \\right)}}{\\sigma^{2}{\\left(z,g_{2},g_{3} \\right)} \\sigma^{2}{\\left({\\xi}_{k},g_{2},g_{3} \\right)}}\\right) \\left(\\sum_{k=0}^{3} \\operatorname{zw}{\\left({\\xi}_{k},g_{2},g_{3} \\right)}\\right)^{2}}{4} + \\frac{\\left(\\sum_{k=0}^{3} \\operatorname{pw}{\\left({\\xi}_{k},g_{2},g_{3} \\right)}\\right)^{2}}{8} - \\frac{\\left(\\sum_{k=0}^{3} \\operatorname{pw}{\\left({\\xi}_{k},g_{2},g_{3} \\right)}\\right) \\left(\\sum_{k=0}^{3} \\operatorname{zw}{\\left({\\xi}_{k},g_{2},g_{3} \\right)}\\right)^{2}}{4} - \\frac{\\sum_{k=0}^{3} \\operatorname{pw}^{2}{\\left({\\xi}_{k},g_{2},g_{3} \\right)}}{2} - \\frac{\\left(\\sum_{k=0}^{3} \\operatorname{pwp}{\\left({\\xi}_{k},g_{2},g_{3} \\right)}\\right) \\sum_{k=0}^{3} \\operatorname{zw}{\\left({\\xi}_{k},g_{2},g_{3} \\right)}}{3} + \\frac{\\left(\\sum_{k=0}^{3} \\operatorname{zw}{\\left({\\xi}_{k},g_{2},g_{3} \\right)}\\right)^{4}}{12}$"
      ],
      "text/plain": [
       "Eq(Product(sigma(z - xi[l], g2, g3)/(sigma(z, g2, g3)*sigma(xi[l], g2, g3)), (l, 0, 3)) + Product(sigma(z + xi[l], g2, g3)/(sigma(z, g2, g3)*sigma(xi[l], g2, g3)), (l, 0, 3)), 23*g2/30 + Sum(sigma(-z + xi[k], g2, g3)*sigma(z + xi[k], g2, g3)/(sigma(z, g2, g3)**2*sigma(xi[k], g2, g3)**2), (k, 0, 3))**2/8 + Sum(sigma(-z + xi[k], g2, g3)*sigma(z + xi[k], g2, g3)/(sigma(z, g2, g3)**2*sigma(xi[k], g2, g3)**2), (k, 0, 3))*Sum(zw(xi[k], g2, g3), (k, 0, 3))**2/4 + Sum(pw(xi[k], g2, g3), (k, 0, 3))**2/8 - Sum(pw(xi[k], g2, g3), (k, 0, 3))*Sum(zw(xi[k], g2, g3), (k, 0, 3))**2/4 - Sum(pw(xi[k], g2, g3)**2, (k, 0, 3))/2 - Sum(pwp(xi[k], g2, g3), (k, 0, 3))*Sum(zw(xi[k], g2, g3), (k, 0, 3))/3 + Sum(zw(xi[k], g2, g3), (k, 0, 3))**4/12)"
      ]
     },
     "execution_count": 174,
     "metadata": {},
     "output_type": "execute_result"
    },
    {
     "data": {
      "text/latex": [
       "$\\displaystyle \\frac{\\left(\\sum_{k=0}^{3} \\operatorname{pw}{\\left({\\xi}_{k},g_{2},g_{3} \\right)}\\right) \\sum_{k=0}^{3} \\operatorname{zw}{\\left({\\xi}_{k},g_{2},g_{3} \\right)}}{2} + \\frac{\\sum_{k=0}^{3} \\operatorname{pwp}{\\left({\\xi}_{k},g_{2},g_{3} \\right)}}{6} - \\frac{\\left(\\sum_{k=0}^{3} \\operatorname{zw}{\\left({\\xi}_{k},g_{2},g_{3} \\right)}\\right)^{3}}{6} = 0$"
      ],
      "text/plain": [
       "Eq(Sum(pw(xi[k], g2, g3), (k, 0, 3))*Sum(zw(xi[k], g2, g3), (k, 0, 3))/2 + Sum(pwp(xi[k], g2, g3), (k, 0, 3))/6 - Sum(zw(xi[k], g2, g3), (k, 0, 3))**3/6, 0)"
      ]
     },
     "execution_count": 174,
     "metadata": {},
     "output_type": "execute_result"
    },
    {
     "data": {
      "text/latex": [
       "$\\displaystyle 8 \\prod_{l=0}^{3} \\frac{\\sigma{\\left(z - {\\xi}_{l},g_{2},g_{3} \\right)}}{\\sigma{\\left(z,g_{2},g_{3} \\right)} \\sigma{\\left({\\xi}_{l},g_{2},g_{3} \\right)}} + 8 \\prod_{l=0}^{3} \\frac{\\sigma{\\left(z + {\\xi}_{l},g_{2},g_{3} \\right)}}{\\sigma{\\left(z,g_{2},g_{3} \\right)} \\sigma{\\left({\\xi}_{l},g_{2},g_{3} \\right)}} = \\frac{92 g_{2}}{15} + \\left(\\sum_{k=0}^{3} \\frac{\\sigma{\\left(- z + {\\xi}_{k},g_{2},g_{3} \\right)} \\sigma{\\left(z + {\\xi}_{k},g_{2},g_{3} \\right)}}{\\sigma^{2}{\\left(z,g_{2},g_{3} \\right)} \\sigma^{2}{\\left({\\xi}_{k},g_{2},g_{3} \\right)}}\\right)^{2} + 2 \\left(\\sum_{k=0}^{3} \\frac{\\sigma{\\left(- z + {\\xi}_{k},g_{2},g_{3} \\right)} \\sigma{\\left(z + {\\xi}_{k},g_{2},g_{3} \\right)}}{\\sigma^{2}{\\left(z,g_{2},g_{3} \\right)} \\sigma^{2}{\\left({\\xi}_{k},g_{2},g_{3} \\right)}}\\right) \\left(\\sum_{k=0}^{3} \\operatorname{zw}{\\left({\\xi}_{k},g_{2},g_{3} \\right)}\\right)^{2} + \\left(\\sum_{k=0}^{3} \\operatorname{pw}{\\left({\\xi}_{k},g_{2},g_{3} \\right)}\\right)^{2} - 4 \\sum_{k=0}^{3} \\operatorname{pw}^{2}{\\left({\\xi}_{k},g_{2},g_{3} \\right)} - 2 \\left(\\sum_{k=0}^{3} \\operatorname{pwp}{\\left({\\xi}_{k},g_{2},g_{3} \\right)}\\right) \\sum_{k=0}^{3} \\operatorname{zw}{\\left({\\xi}_{k},g_{2},g_{3} \\right)}$"
      ],
      "text/plain": [
       "Eq(8*Product(sigma(z - xi[l], g2, g3)/(sigma(z, g2, g3)*sigma(xi[l], g2, g3)), (l, 0, 3)) + 8*Product(sigma(z + xi[l], g2, g3)/(sigma(z, g2, g3)*sigma(xi[l], g2, g3)), (l, 0, 3)), 92*g2/15 + Sum(sigma(-z + xi[k], g2, g3)*sigma(z + xi[k], g2, g3)/(sigma(z, g2, g3)**2*sigma(xi[k], g2, g3)**2), (k, 0, 3))**2 + 2*Sum(sigma(-z + xi[k], g2, g3)*sigma(z + xi[k], g2, g3)/(sigma(z, g2, g3)**2*sigma(xi[k], g2, g3)**2), (k, 0, 3))*Sum(zw(xi[k], g2, g3), (k, 0, 3))**2 + Sum(pw(xi[k], g2, g3), (k, 0, 3))**2 - 4*Sum(pw(xi[k], g2, g3)**2, (k, 0, 3)) - 2*Sum(pwp(xi[k], g2, g3), (k, 0, 3))*Sum(zw(xi[k], g2, g3), (k, 0, 3)))"
      ]
     },
     "execution_count": 174,
     "metadata": {},
     "output_type": "execute_result"
    },
    {
     "data": {
      "text/latex": [
       "$\\displaystyle u{\\left(z,k \\right)} = \\frac{\\sigma{\\left(z + {\\xi}_{k},g_{2},g_{3} \\right)}}{\\sigma{\\left(z,g_{2},g_{3} \\right)} \\sigma{\\left({\\xi}_{k},g_{2},g_{3} \\right)}}$"
      ],
      "text/plain": [
       "Eq(u(z, k), sigma(z + xi[k], g2, g3)/(sigma(z, g2, g3)*sigma(xi[k], g2, g3)))"
      ]
     },
     "execution_count": 174,
     "metadata": {},
     "output_type": "execute_result"
    },
    {
     "data": {
      "text/latex": [
       "$\\displaystyle v{\\left(z \\right)} = \\frac{\\sigma{\\left(z - {\\xi}_{k},g_{2},g_{3} \\right)}}{\\sigma{\\left(z,g_{2},g_{3} \\right)} \\sigma{\\left({\\xi}_{k},g_{2},g_{3} \\right)}}$"
      ],
      "text/plain": [
       "Eq(v(z), sigma(z - xi[k], g2, g3)/(sigma(z, g2, g3)*sigma(xi[k], g2, g3)))"
      ]
     },
     "execution_count": 174,
     "metadata": {},
     "output_type": "execute_result"
    },
    {
     "data": {
      "text/latex": [
       "$\\displaystyle \\beta = \\left(\\sum_{k=0}^{3} \\operatorname{zw}{\\left({\\xi}_{k},g_{2},g_{3} \\right)}\\right)^{2}$"
      ],
      "text/plain": [
       "Eq(beta, Sum(zw(xi[k], g2, g3), (k, 0, 3))**2)"
      ]
     },
     "execution_count": 174,
     "metadata": {},
     "output_type": "execute_result"
    },
    {
     "data": {
      "text/latex": [
       "$\\displaystyle K = \\frac{92 g_{2}}{15} + \\left(\\sum_{k=0}^{3} \\operatorname{pw}{\\left({\\xi}_{k},g_{2},g_{3} \\right)}\\right)^{2} - 4 \\sum_{k=0}^{3} \\operatorname{pw}^{2}{\\left({\\xi}_{k},g_{2},g_{3} \\right)} - 2 \\left(\\sum_{k=0}^{3} \\operatorname{pwp}{\\left({\\xi}_{k},g_{2},g_{3} \\right)}\\right) \\sum_{k=0}^{3} \\operatorname{zw}{\\left({\\xi}_{k},g_{2},g_{3} \\right)}$"
      ],
      "text/plain": [
       "Eq(K, 92*g2/15 + Sum(pw(xi[k], g2, g3), (k, 0, 3))**2 - 4*Sum(pw(xi[k], g2, g3)**2, (k, 0, 3)) - 2*Sum(pwp(xi[k], g2, g3), (k, 0, 3))*Sum(zw(xi[k], g2, g3), (k, 0, 3)))"
      ]
     },
     "execution_count": 174,
     "metadata": {},
     "output_type": "execute_result"
    },
    {
     "data": {
      "text/latex": [
       "$\\displaystyle K = - 2 \\beta \\sum_{k=0}^{3} u{\\left(z,k \\right)} v{\\left(z,k \\right)} + 8 \\prod_{l=0}^{3} u{\\left(z,l \\right)} + 8 \\prod_{l=0}^{3} v{\\left(z,l \\right)} - \\left(\\sum_{k=0}^{3} u{\\left(z,k \\right)} v{\\left(z,k \\right)}\\right)^{2}$"
      ],
      "text/plain": [
       "Eq(K, -2*beta*Sum(u(z, k)*v(z, k), (k, 0, 3)) + 8*Product(u(z, l), (l, 0, 3)) + 8*Product(v(z, l), (l, 0, 3)) - Sum(u(z, k)*v(z, k), (k, 0, 3))**2)"
      ]
     },
     "execution_count": 174,
     "metadata": {},
     "output_type": "execute_result"
    }
   ],
   "source": [
    "H_eq_4_modes_a = Eq(\n",
    "    eq_4_modes_cubic.lhs + eq_4_modes_cubic.lhs.subs(z,-z),\n",
    "    eq_4_modes_cubic.rhs + eq_4_modes_cubic.rhs.subs(z,-z)\n",
    ").subs([(pw(-z,g2,g3), pw(z,g2,g3)), (pwp(-z,g2,g3), -pwp(z,g2,g3))])\n",
    "pw_z_4_mode = Eq(pw(z,g2,g3), Sum(pw(z,g2,g3) - pw(xi[k],g2,g3),(k,0,3))/4 + Sum(pw(xi[k],g2,g3),(k,0,3))/4)\n",
    "H_eq_4_modes_b = H_eq_4_modes_a.subs(pw_z_4_mode.lhs, x).subs(x,pw_z_4_mode.rhs)\n",
    "pw_z_xi_sigma_4 = sigma_p_identity.subs([(y,z),(x,xi[k])])\n",
    "H_eq_4_modes_c = Eq(\n",
    "    Product(sigma(z + xi[l], g2, g3)/(sigma(z, g2, g3)*sigma(xi[l], g2, g3)), (l, 0, 3)) + \n",
    "    Product(sigma(z - xi[l], g2, g3)/(sigma(z, g2, g3)*sigma(xi[l], g2, g3)), (l, 0, 3)),\n",
    " 23*g2/30 + 2*(Sum(\n",
    "     sigma(-z + xi[k], g2, g3)*sigma(z + xi[k], g2, g3)/(sigma(z, g2, g3)**2*sigma(xi[k], g2, g3)**2), \n",
    "     (k, 0, 3))/4 + \n",
    "               Sum(pw(xi[k], g2, g3), (k, 0, 3))/4)**2 + \n",
    "    2*(Sum(\n",
    "        sigma(-z + xi[k], g2, g3)*sigma(z + xi[k], g2, g3)/(sigma(z, g2, g3)**2*sigma(xi[k], g2, g3)**2), \n",
    "        (k, 0, 3))/4 + \n",
    "       Sum(pw(xi[k], g2, g3), (k, 0, 3))/4)*(-Sum(pw(xi[k], g2, g3), (k, 0, 3))/2 + \n",
    "                                             Sum(zw(xi[k], g2, g3), (k, 0, 3))**2/2) + \n",
    "    Sum(pw(xi[k], g2, g3), (k, 0, 3))**2/4 - \n",
    "    Sum(pw(xi[k], g2, g3), (k, 0, 3))*Sum(zw(xi[k], g2, g3), (k, 0, 3))**2/2 - \n",
    "    Sum(pw(xi[k], g2, g3)**2, (k, 0, 3))/2 - \n",
    "    Sum(pwp(xi[k], g2, g3), (k, 0, 3))*Sum(zw(xi[k], g2, g3), (k, 0, 3))/3 + \n",
    "    Sum(zw(xi[k], g2, g3), (k, 0, 3))**4/12\n",
    ").expand()\n",
    "\n",
    "H_eq_4_modes_d = Eq(8*H_eq_4_modes_c.lhs, 8*(H_eq_4_modes_c.rhs +  \n",
    "                    (one_over_z_term_n3_factored.lhs*Sum(zw(xi[k], g2, g3), (k, 0, 3))/2).expand()))\n",
    "\n",
    "\n",
    "# ukz = Eq(u(z,k), sigma(z + xi[k], g2, g3)/(sigma(z, g2, g3)*sigma(xi[k], g2, g3)))\n",
    "# vkz = Eq(v(z,), sigma(z - xi[k], g2, g3)/(sigma(z, g2, g3)*sigma(xi[k], g2, g3)))\n",
    "# uv_kz = Eq(v(z,k), u(-z,k))\n",
    "\n",
    "K_pwp_zw_4 = Eq(K, 92*g2/15 + Sum(pw(xi[k], g2, g3), (k, 0, 3))**2 - 4*Sum(pw(xi[k], g2, g3)**2, (k, 0, 3)) - \n",
    "    2*Sum(pwp(xi[k], g2, g3), (k, 0, 3))*Sum(zw(xi[k], g2, g3), (k, 0, 3)))\n",
    "\n",
    "beta_zw_4 = Eq(beta, Sum(zw(xi[k], g2, g3), (k, 0, 3))**2)\n",
    "K_4modes = Eq(\n",
    "    K,\n",
    "    8*Product(v(z,l), (l, 0, 3)) + 8*Product(u(z,l), (l, 0, 3)) - \n",
    "    2*Sum(u(z,k)*v(z,k), (k, 0, 3))*beta - Sum(u(z,k)*v(z,k), (k, 0, 3))**2\n",
    "  )\n",
    "\n",
    "H_eq_4_modes_a\n",
    "pw_z_4_mode\n",
    "H_eq_4_modes_b\n",
    "pw_z_xi_sigma_4\n",
    "H_eq_4_modes_c\n",
    "one_over_z_term_n3_factored\n",
    "H_eq_4_modes_d\n",
    "ukz\n",
    "vkz\n",
    "beta_zw_4\n",
    "K_pwp_zw_4\n",
    "K_4modes"
   ]
  },
  {
   "cell_type": "markdown",
   "metadata": {},
   "source": [
    "## Numeric tests"
   ]
  },
  {
   "cell_type": "code",
   "execution_count": 175,
   "metadata": {},
   "outputs": [],
   "source": [
    "from numpy import linspace, absolute, angle, square, real, imag, conj, array as arraynp, vectorize, concatenate\n",
    "import scipy.integrate\n",
    "import matplotlib.pyplot as plt\n",
    "\n",
    "# The package containing mpmath expressions for Weierstrass elliptic functions\n",
    "from numerical_evaluation.weierstrass_modified import Weierstrass\n",
    "we = Weierstrass()\n",
    "from mpmath import exp as mpexp\n",
    "\n",
    "# %load_ext autoreload\n",
    "# %autoreload 2"
   ]
  },
  {
   "cell_type": "code",
   "execution_count": 176,
   "metadata": {},
   "outputs": [],
   "source": [
    "def mpc_to_float(mpc_val):\n",
    "    return float(mpc_val.real) + float(mpc_val.imag)*1j\n",
    "\n",
    "mpc_to_float_np = vectorize(mpc_to_float)\n",
    "\n",
    "# check numeric evaluation is workign with simple example\n",
    "def wp_sigma_test(z0, xi0val_, omegas):\n",
    "    return (lambda z: \n",
    "        (we.wsigma(z - z0 - xi0val_, omegas) * we.wsigma(z - z0 + xi0val_, omegas)) / \n",
    "         (we.wsigma(z - z0, omegas) ** 2 * we.wsigma(xi0val_, omegas) ** 2) \n",
    "    )\n",
    "\n",
    "def wp_test(z0, xi0val_, omegas):\n",
    "    return (lambda z: we.wp(z - z0, omegas) - we.wp(xi0val_, omegas))\n",
    "\n",
    "# 3 modes case\n",
    "def lhs_3_modes_sigma(z0, xi0val_, xi1val_, xi2val_, omegas):\n",
    "    return (lambda z: \n",
    "        -(we.wsigma(z - z0 - xi0val_, omegas) / we.wsigma(z - z0, omegas) / we.wsigma(xi0val_, omegas)) *\n",
    "        (we.wsigma(z - z0 - xi1val_, omegas) / we.wsigma(z - z0, omegas) / we.wsigma(xi1val_, omegas)) *\n",
    "        (we.wsigma(z - z0 - xi2val_, omegas) / we.wsigma(z - z0, omegas) / we.wsigma(xi2val_, omegas))\n",
    "    )\n",
    "\n",
    "def rhs_3_modes_pw(z0, xi0val_, xi1val_, xi2val_, chosen_xi_val, omegas):\n",
    "    return ( lambda z: \n",
    "        (-we.wp(z - z0, omegas) + we.wp(chosen_xi_val, omegas) )\n",
    "        * (we.wzeta(xi0val_, omegas) + we.wzeta(xi1val_, omegas) + we.wzeta(xi2val_, omegas))\n",
    "        + (-we.wpprime(z - z0, omegas) + we.wpprime(chosen_xi_val, omegas))/2\n",
    "    )\n",
    "\n",
    "# 4 modes case\n",
    "def lhs_4_modes_sigma(z0, xi0val_, xi1val_, xi2val_, xi3val_, omegas):\n",
    "    return (lambda z: \n",
    "        (we.wsigma(z - z0 - xi0val_, omegas) / we.wsigma(z - z0, omegas) / we.wsigma(xi0val_, omegas)) *\n",
    "        (we.wsigma(z - z0 - xi1val_, omegas) / we.wsigma(z - z0, omegas) / we.wsigma(xi1val_, omegas)) *\n",
    "        (we.wsigma(z - z0 - xi2val_, omegas) / we.wsigma(z - z0, omegas) / we.wsigma(xi2val_, omegas)) *\n",
    "        (we.wsigma(z - z0 - xi3val_, omegas) / we.wsigma(z - z0, omegas) / we.wsigma(xi3val_, omegas))\n",
    "    )\n",
    "\n",
    "def rhs_4_modes_pw(z0, xi0val_, xi1val_, xi2val_, xi3val_, chosen_xi_val, omegas):\n",
    "    return ( lambda z: \n",
    "    (we.wp(z - z0, omegas) - we.wp(chosen_xi_val, omegas) ) * (\n",
    "    - (we.wp(xi0val_, omegas) + we.wp(xi1val_, omegas) + we.wp(xi2val_, omegas) + we.wp(xi3val_, omegas))/2 +\n",
    "     ((we.wzeta(xi0val_, omegas) + we.wzeta(xi1val_, omegas) + we.wzeta(xi2val_, omegas) + we.wzeta(xi3val_, omegas))**2)/2)\n",
    "     + (we.wpprime(z - z0, omegas) - we.wpprime(chosen_xi_val, omegas))/2 *\n",
    "        (we.wzeta(xi0val_, omegas) + we.wzeta(xi1val_, omegas) + we.wzeta(xi2val_, omegas) + we.wzeta(xi3val_, omegas))\n",
    "    + we.wp(z - z0, omegas) ** 2 - we.wp(chosen_xi_val, omegas) ** 2\n",
    "    )"
   ]
  },
  {
   "cell_type": "code",
   "execution_count": 177,
   "metadata": {},
   "outputs": [
    {
     "data": {
      "text/latex": [
       "$\\displaystyle \\prod_{l=0}^{3} \\frac{\\sigma{\\left(z - {\\xi}_{l},g_{2},g_{3} \\right)}}{\\sigma{\\left(z,g_{2},g_{3} \\right)} \\sigma{\\left({\\xi}_{l},g_{2},g_{3} \\right)}} = \\left(\\operatorname{pw}{\\left(z,g_{2},g_{3} \\right)} - \\operatorname{pw}{\\left({\\xi}_{l},g_{2},g_{3} \\right)}\\right) \\left(- \\frac{\\sum_{k=0}^{3} \\operatorname{pw}{\\left({\\xi}_{k},g_{2},g_{3} \\right)}}{2} + \\frac{\\left(\\sum_{k=0}^{3} \\operatorname{zw}{\\left({\\xi}_{k},g_{2},g_{3} \\right)}\\right)^{2}}{2}\\right) + \\frac{\\left(\\operatorname{pwp}{\\left(z,g_{2},g_{3} \\right)} - \\operatorname{pwp}{\\left({\\xi}_{l},g_{2},g_{3} \\right)}\\right) \\sum_{k=0}^{3} \\operatorname{zw}{\\left({\\xi}_{k},g_{2},g_{3} \\right)}}{2} + \\operatorname{pw}^{2}{\\left(z,g_{2},g_{3} \\right)} - \\operatorname{pw}^{2}{\\left({\\xi}_{l},g_{2},g_{3} \\right)}$"
      ],
      "text/plain": [
       "Eq(Product(sigma(z - xi[l], g2, g3)/(sigma(z, g2, g3)*sigma(xi[l], g2, g3)), (l, 0, 3)), (pw(z, g2, g3) - pw(xi[l], g2, g3))*(-Sum(pw(xi[k], g2, g3), (k, 0, 3))/2 + Sum(zw(xi[k], g2, g3), (k, 0, 3))**2/2) + (pwp(z, g2, g3) - pwp(xi[l], g2, g3))*Sum(zw(xi[k], g2, g3), (k, 0, 3))/2 + pw(z, g2, g3)**2 - pw(xi[l], g2, g3)**2)"
      ]
     },
     "execution_count": 177,
     "metadata": {},
     "output_type": "execute_result"
    }
   ],
   "source": [
    "eq_4_modes_cubic_per_mode"
   ]
  },
  {
   "cell_type": "markdown",
   "metadata": {},
   "source": [
    "### Testing the formula for a product of 3 sigma ratios (quadratic nonlinearity)"
   ]
  },
  {
   "cell_type": "code",
   "execution_count": 178,
   "metadata": {},
   "outputs": [
    {
     "data": {
      "text/latex": [
       "$\\displaystyle - \\prod_{k=0}^{2} \\frac{\\sigma{\\left(z - {\\xi}_{k},g_{2},g_{3} \\right)}}{\\sigma{\\left(z,g_{2},g_{3} \\right)} \\sigma{\\left({\\xi}_{k},g_{2},g_{3} \\right)}} = \\left(- \\operatorname{pw}{\\left(z,g_{2},g_{3} \\right)} + \\operatorname{pw}{\\left({\\xi}_{k},g_{2},g_{3} \\right)}\\right) \\sum_{k=0}^{2} \\operatorname{zw}{\\left({\\xi}_{k},g_{2},g_{3} \\right)} + \\frac{- \\operatorname{pwp}{\\left(z,g_{2},g_{3} \\right)} + \\operatorname{pwp}{\\left({\\xi}_{k},g_{2},g_{3} \\right)}}{2}$"
      ],
      "text/plain": [
       "Eq(-Product(sigma(z - xi[k], g2, g3)/(sigma(z, g2, g3)*sigma(xi[k], g2, g3)), (k, 0, 2)), (-pw(z, g2, g3) + pw(xi[k], g2, g3))*Sum(zw(xi[k], g2, g3), (k, 0, 2)) + (-pwp(z, g2, g3) + pwp(xi[k], g2, g3))/2)"
      ]
     },
     "execution_count": 178,
     "metadata": {},
     "output_type": "execute_result"
    }
   ],
   "source": [
    "eq_3_modes_quadratic_per_mode"
   ]
  },
  {
   "cell_type": "code",
   "execution_count": 179,
   "metadata": {},
   "outputs": [],
   "source": [
    "g2val_ = 0.4 + 1j\n",
    "g3val_ = -0.7\n",
    "\n",
    "xi0val_ = -1.89 + 1.2j\n",
    "xi1val_ = 0.89 + 3.2j\n",
    "xi2val_ = - xi0val_ - xi1val_\n",
    "\n",
    "z0 = 1.3 + 2j\n",
    "\n",
    "# Calculate lattice of elliptic functions (half-periods) in terms of initial conditions\n",
    "omega_ = we.omega_from_g(g2val_, g3val_)\n",
    "omega1_ = mpc_to_float(omega_[0])\n",
    "omega2_ = mpc_to_float(omega_[1])\n",
    "omega3_ = mpc_to_float(omega_[2])\n",
    "if im(omega2_/omega1_) <= 0:\n",
    "    omega2_ = -omega2_\n",
    "omegas = (omega1_, omega2_)  \n",
    "\n",
    "# Setup z array to evaluate over based on 2 complete periods (4 * omega1)\n",
    "z_start = 0.3\n",
    "z_end = abs(4 * omega1_) + z_start\n",
    "n_points_z = 200\n",
    "z_eval = linspace(z_start, z_end, n_points_z) # evaluate integral from z = 0-10 for 50 points"
   ]
  },
  {
   "cell_type": "code",
   "execution_count": 180,
   "metadata": {},
   "outputs": [],
   "source": [
    "# Complex valued analytic vector solution (numeric evaluation)\n",
    "analytic_sol_mpmath = arraynp([\n",
    "    mpc_to_float_np(vectorize(lhs_3_modes_sigma(z0, xi0val_, xi1val_, xi2val_, omegas))(z_eval)),\n",
    "    mpc_to_float_np(vectorize(rhs_3_modes_pw(z0, xi0val_, xi1val_, xi2val_, xi2val_, omegas))(z_eval))\n",
    "#     mpc_to_float_np(vectorize(wp_sigma_test(z0, xi0val_, omegas))(z_eval)),\n",
    "#     mpc_to_float_np(vectorize(wp_test(z0, xi0val_, omegas))(z_eval))\n",
    "    \n",
    "]) "
   ]
  },
  {
   "cell_type": "code",
   "execution_count": 181,
   "metadata": {},
   "outputs": [
    {
     "data": {
      "text/plain": [
       "[<matplotlib.lines.Line2D at 0x15797af90>,\n",
       " <matplotlib.lines.Line2D at 0x15750e2d0>]"
      ]
     },
     "execution_count": 181,
     "metadata": {},
     "output_type": "execute_result"
    },
    {
     "data": {
      "text/plain": [
       "<matplotlib.legend.Legend at 0x157894990>"
      ]
     },
     "execution_count": 181,
     "metadata": {},
     "output_type": "execute_result"
    },
    {
     "data": {
      "text/plain": [
       "Text(0, 0.5, 'Absolute Value')"
      ]
     },
     "execution_count": 181,
     "metadata": {},
     "output_type": "execute_result"
    },
    {
     "data": {
      "text/plain": [
       "Text(0.5, 0, 'z')"
      ]
     },
     "execution_count": 181,
     "metadata": {},
     "output_type": "execute_result"
    },
    {
     "data": {
      "image/png": "[encoded data removed]",
      "text/plain": [
       "<Figure size 1600x600 with 1 Axes>"
      ]
     },
     "metadata": {},
     "output_type": "display_data"
    }
   ],
   "source": [
    "fig = plt.figure(figsize=(16, 6))\n",
    "plt.plot(z_eval, square(absolute(analytic_sol_mpmath.T)), linestyle=\"solid\", linewidth=4) \n",
    "plt.legend(['LHS sigma product', 'RHS wp wpprime'], shadow=True) \n",
    "plt.ylabel('Absolute Value')\n",
    "plt.xlabel('z')\n",
    "plt.show()"
   ]
  },
  {
   "cell_type": "code",
   "execution_count": 182,
   "metadata": {},
   "outputs": [
    {
     "data": {
      "text/plain": [
       "[<matplotlib.lines.Line2D at 0x157a29690>,\n",
       " <matplotlib.lines.Line2D at 0x157a37e10>]"
      ]
     },
     "execution_count": 182,
     "metadata": {},
     "output_type": "execute_result"
    },
    {
     "data": {
      "text/plain": [
       "<matplotlib.legend.Legend at 0x157a2a150>"
      ]
     },
     "execution_count": 182,
     "metadata": {},
     "output_type": "execute_result"
    },
    {
     "data": {
      "text/plain": [
       "Text(0, 0.5, 'Phase (Radians)')"
      ]
     },
     "execution_count": 182,
     "metadata": {},
     "output_type": "execute_result"
    },
    {
     "data": {
      "text/plain": [
       "Text(0.5, 0, 'z')"
      ]
     },
     "execution_count": 182,
     "metadata": {},
     "output_type": "execute_result"
    },
    {
     "data": {
      "image/png": "[encoded data removed]",
      "text/plain": [
       "<Figure size 1600x600 with 1 Axes>"
      ]
     },
     "metadata": {},
     "output_type": "display_data"
    }
   ],
   "source": [
    "fig = plt.figure(figsize=(16, 6))\n",
    "plt.plot(z_eval, angle(analytic_sol_mpmath.T), linestyle=\"solid\", linewidth=4) \n",
    "plt.legend(['LHS sigma product', 'RHS wp wpprime'], shadow=True) \n",
    "plt.ylabel('Phase (Radians)')\n",
    "plt.xlabel('z')\n",
    "plt.show()"
   ]
  },
  {
   "cell_type": "markdown",
   "metadata": {},
   "source": [
    "### Testing the formula for a product of 4 sigma ratios (cubic nonlinearity)"
   ]
  },
  {
   "cell_type": "code",
   "execution_count": 183,
   "metadata": {},
   "outputs": [
    {
     "data": {
      "text/latex": [
       "$\\displaystyle \\prod_{l=0}^{3} \\frac{\\sigma{\\left(z - {\\xi}_{l},g_{2},g_{3} \\right)}}{\\sigma{\\left(z,g_{2},g_{3} \\right)} \\sigma{\\left({\\xi}_{l},g_{2},g_{3} \\right)}} = \\left(\\operatorname{pw}{\\left(z,g_{2},g_{3} \\right)} - \\operatorname{pw}{\\left({\\xi}_{l},g_{2},g_{3} \\right)}\\right) \\left(- \\frac{\\sum_{k=0}^{3} \\operatorname{pw}{\\left({\\xi}_{k},g_{2},g_{3} \\right)}}{2} + \\frac{\\left(\\sum_{k=0}^{3} \\operatorname{zw}{\\left({\\xi}_{k},g_{2},g_{3} \\right)}\\right)^{2}}{2}\\right) + \\frac{\\left(\\operatorname{pwp}{\\left(z,g_{2},g_{3} \\right)} - \\operatorname{pwp}{\\left({\\xi}_{l},g_{2},g_{3} \\right)}\\right) \\sum_{k=0}^{3} \\operatorname{zw}{\\left({\\xi}_{k},g_{2},g_{3} \\right)}}{2} + \\operatorname{pw}^{2}{\\left(z,g_{2},g_{3} \\right)} - \\operatorname{pw}^{2}{\\left({\\xi}_{l},g_{2},g_{3} \\right)}$"
      ],
      "text/plain": [
       "Eq(Product(sigma(z - xi[l], g2, g3)/(sigma(z, g2, g3)*sigma(xi[l], g2, g3)), (l, 0, 3)), (pw(z, g2, g3) - pw(xi[l], g2, g3))*(-Sum(pw(xi[k], g2, g3), (k, 0, 3))/2 + Sum(zw(xi[k], g2, g3), (k, 0, 3))**2/2) + (pwp(z, g2, g3) - pwp(xi[l], g2, g3))*Sum(zw(xi[k], g2, g3), (k, 0, 3))/2 + pw(z, g2, g3)**2 - pw(xi[l], g2, g3)**2)"
      ]
     },
     "execution_count": 183,
     "metadata": {},
     "output_type": "execute_result"
    }
   ],
   "source": [
    "eq_4_modes_cubic_per_mode"
   ]
  },
  {
   "cell_type": "code",
   "execution_count": 184,
   "metadata": {},
   "outputs": [],
   "source": [
    "g2val_ = 0.2 + 1.8j\n",
    "g3val_ = -1.7\n",
    "\n",
    "xi0val_ = -1.89 + 0.2j\n",
    "xi1val_ = 2.89 + 3.2j\n",
    "xi2val_ = 0.897 +1.3j\n",
    "xi3val_ = - xi0val_ - xi1val_ - xi2val_\n",
    "\n",
    "z0 = 1.3 + 2j\n",
    "\n",
    "# Calculate lattice of elliptic functions (half-periods) in terms of initial conditions\n",
    "omega_ = we.omega_from_g(g2val_, g3val_)\n",
    "omega1_ = mpc_to_float(omega_[0])\n",
    "omega2_ = mpc_to_float(omega_[1])\n",
    "omega3_ = mpc_to_float(omega_[2])\n",
    "if im(omega2_/omega1_) <= 0:\n",
    "    omega2_ = -omega2_\n",
    "omegas = (omega1_, omega2_)  \n",
    "\n",
    "# Setup z array to evaluate over based on 2 complete periods (4 * omega1)\n",
    "z_start = 0.3\n",
    "z_end = abs(4 * omega1_) + z_start\n",
    "n_points_z = 200\n",
    "z_eval = linspace(z_start, z_end, n_points_z) # evaluate integral from z = 0-10 for 50 points"
   ]
  },
  {
   "cell_type": "code",
   "execution_count": 185,
   "metadata": {},
   "outputs": [],
   "source": [
    "# Complex valued analytic vector solution (numeric evaluation)\n",
    "analytic_sol_mpmath = arraynp([\n",
    "    mpc_to_float_np(vectorize(lhs_4_modes_sigma(z0, xi0val_, xi1val_, xi2val_, xi3val_, omegas))(z_eval)),\n",
    "    mpc_to_float_np(vectorize(rhs_4_modes_pw(z0, xi0val_, xi1val_, xi2val_, xi3val_, xi2val_, omegas))(z_eval))    \n",
    "]) "
   ]
  },
  {
   "cell_type": "code",
   "execution_count": 186,
   "metadata": {},
   "outputs": [
    {
     "data": {
      "text/plain": [
       "[<matplotlib.lines.Line2D at 0x157aefb50>,\n",
       " <matplotlib.lines.Line2D at 0x157afc9d0>]"
      ]
     },
     "execution_count": 186,
     "metadata": {},
     "output_type": "execute_result"
    },
    {
     "data": {
      "text/plain": [
       "<matplotlib.legend.Legend at 0x157ac2390>"
      ]
     },
     "execution_count": 186,
     "metadata": {},
     "output_type": "execute_result"
    },
    {
     "data": {
      "text/plain": [
       "Text(0, 0.5, 'Absolute Value')"
      ]
     },
     "execution_count": 186,
     "metadata": {},
     "output_type": "execute_result"
    },
    {
     "data": {
      "text/plain": [
       "Text(0.5, 0, 'z')"
      ]
     },
     "execution_count": 186,
     "metadata": {},
     "output_type": "execute_result"
    },
    {
     "data": {
      "image/png": "[encoded data removed]",
      "text/plain": [
       "<Figure size 1600x600 with 1 Axes>"
      ]
     },
     "metadata": {},
     "output_type": "display_data"
    }
   ],
   "source": [
    "fig = plt.figure(figsize=(16, 6))\n",
    "plt.plot(z_eval, square(absolute(analytic_sol_mpmath.T)), linestyle=\"solid\", linewidth=4) \n",
    "plt.legend(['LHS sigma product', 'RHS wp wpprime'], shadow=True) \n",
    "plt.ylabel('Absolute Value')\n",
    "plt.xlabel('z')\n",
    "plt.show()"
   ]
  },
  {
   "cell_type": "code",
   "execution_count": 187,
   "metadata": {},
   "outputs": [
    {
     "data": {
      "text/plain": [
       "[<matplotlib.lines.Line2D at 0x157ac0c90>,\n",
       " <matplotlib.lines.Line2D at 0x157b26810>]"
      ]
     },
     "execution_count": 187,
     "metadata": {},
     "output_type": "execute_result"
    },
    {
     "data": {
      "text/plain": [
       "<matplotlib.legend.Legend at 0x157b5c4d0>"
      ]
     },
     "execution_count": 187,
     "metadata": {},
     "output_type": "execute_result"
    },
    {
     "data": {
      "text/plain": [
       "Text(0, 0.5, 'Phase (Radians)')"
      ]
     },
     "execution_count": 187,
     "metadata": {},
     "output_type": "execute_result"
    },
    {
     "data": {
      "text/plain": [
       "Text(0.5, 0, 'z')"
      ]
     },
     "execution_count": 187,
     "metadata": {},
     "output_type": "execute_result"
    },
    {
     "data": {
      "image/png": "[encoded data removed]",
      "text/plain": [
       "<Figure size 1600x600 with 1 Axes>"
      ]
     },
     "metadata": {},
     "output_type": "display_data"
    }
   ],
   "source": [
    "fig = plt.figure(figsize=(16, 6))\n",
    "plt.plot(z_eval, angle(analytic_sol_mpmath.T), linestyle=\"solid\", linewidth=4) \n",
    "plt.legend(['LHS sigma product', 'RHS wp wpprime'], shadow=True) \n",
    "plt.ylabel('Phase (Radians)')\n",
    "plt.xlabel('z')\n",
    "plt.show()"
   ]
  },
  {
   "cell_type": "code",
   "execution_count": 188,
   "metadata": {},
   "outputs": [],
   "source": [
    "def rho_plus_l(l_):\n",
    "    return (final_form_3_modes_plus\n",
    "     .subs(sigma(z+xi[l],g2,g3),rho(z,xi[l])*sigma(z,g2,g3)*sigma(xi[l],g2,g3)).subs(l,l_).doit()\n",
    "     .subs(sigma(z-xi[0],g2,g3),-rho(z,-xi[0])*sigma(z,g2,g3)*sigma(xi[0],g2,g3))\n",
    "     .subs(sigma(z-xi[1],g2,g3),-rho(z,-xi[1])*sigma(z,g2,g3)*sigma(xi[1],g2,g3))\n",
    "     .subs(sigma(z-xi[2],g2,g3),-rho(z,-xi[2])*sigma(z,g2,g3)*sigma(xi[2],g2,g3))\n",
    "    )\n",
    "def rho_minus_l(l_):\n",
    "    xx_ = (final_form_3_modes_minus\n",
    "     .subs(sigma(z-xi[l],g2,g3),-rho(z,-xi[l])*sigma(z,g2,g3)*sigma(xi[l],g2,g3)).subs(l,l_).doit()\n",
    "     .subs(sigma(z+xi[0],g2,g3),rho(z,xi[0])*sigma(z,g2,g3)*sigma(xi[0],g2,g3))\n",
    "     .subs(sigma(z+xi[1],g2,g3),rho(z,xi[1])*sigma(z,g2,g3)*sigma(xi[1],g2,g3))\n",
    "     .subs(sigma(z+xi[2],g2,g3),rho(z,xi[2])*sigma(z,g2,g3)*sigma(xi[2],g2,g3))\n",
    "    )\n",
    "    return (Eq(-xx_.lhs, -xx_.rhs))"
   ]
  },
  {
   "cell_type": "code",
   "execution_count": 189,
   "metadata": {},
   "outputs": [
    {
     "data": {
      "text/latex": [
       "$\\displaystyle \\frac{\\partial}{\\partial z} \\rho{\\left(z,{\\xi}_{0} \\right)} = - \\left(\\operatorname{zw}{\\left(- {\\xi}_{0} - {\\xi}_{1},g_{2},g_{3} \\right)} + \\operatorname{zw}{\\left({\\xi}_{1},g_{2},g_{3} \\right)}\\right) \\rho{\\left(z,{\\xi}_{0} \\right)} - \\rho{\\left(z,{\\xi}_{0} + {\\xi}_{1} \\right)} \\rho{\\left(z,- {\\xi}_{1} \\right)}$"
      ],
      "text/plain": [
       "Eq(Derivative(rho(z, xi[0]), z), -(zw(-xi[0] - xi[1], g2, g3) + zw(xi[1], g2, g3))*rho(z, xi[0]) - rho(z, xi[0] + xi[1])*rho(z, -xi[1]))"
      ]
     },
     "execution_count": 189,
     "metadata": {},
     "output_type": "execute_result"
    },
    {
     "data": {
      "text/latex": [
       "$\\displaystyle \\frac{\\partial}{\\partial z} \\rho{\\left(z,- {\\xi}_{0} \\right)} = \\left(\\operatorname{zw}{\\left(- {\\xi}_{0} - {\\xi}_{1},g_{2},g_{3} \\right)} + \\operatorname{zw}{\\left({\\xi}_{1},g_{2},g_{3} \\right)}\\right) \\rho{\\left(z,- {\\xi}_{0} \\right)} - \\rho{\\left(z,- {\\xi}_{0} - {\\xi}_{1} \\right)} \\rho{\\left(z,{\\xi}_{1} \\right)}$"
      ],
      "text/plain": [
       "Eq(Derivative(rho(z, -xi[0]), z), (zw(-xi[0] - xi[1], g2, g3) + zw(xi[1], g2, g3))*rho(z, -xi[0]) - rho(z, -xi[0] - xi[1])*rho(z, xi[1]))"
      ]
     },
     "execution_count": 189,
     "metadata": {},
     "output_type": "execute_result"
    },
    {
     "data": {
      "text/latex": [
       "$\\displaystyle \\frac{\\partial}{\\partial z} \\rho{\\left(z,{\\xi}_{1} \\right)} = - \\left(\\operatorname{zw}{\\left(- {\\xi}_{0} - {\\xi}_{1},g_{2},g_{3} \\right)} + \\operatorname{zw}{\\left({\\xi}_{0},g_{2},g_{3} \\right)}\\right) \\rho{\\left(z,{\\xi}_{1} \\right)} - \\rho{\\left(z,{\\xi}_{0} + {\\xi}_{1} \\right)} \\rho{\\left(z,- {\\xi}_{0} \\right)}$"
      ],
      "text/plain": [
       "Eq(Derivative(rho(z, xi[1]), z), -(zw(-xi[0] - xi[1], g2, g3) + zw(xi[0], g2, g3))*rho(z, xi[1]) - rho(z, xi[0] + xi[1])*rho(z, -xi[0]))"
      ]
     },
     "execution_count": 189,
     "metadata": {},
     "output_type": "execute_result"
    },
    {
     "data": {
      "text/latex": [
       "$\\displaystyle \\frac{\\partial}{\\partial z} \\rho{\\left(z,- {\\xi}_{1} \\right)} = \\left(\\operatorname{zw}{\\left(- {\\xi}_{0} - {\\xi}_{1},g_{2},g_{3} \\right)} + \\operatorname{zw}{\\left({\\xi}_{0},g_{2},g_{3} \\right)}\\right) \\rho{\\left(z,- {\\xi}_{1} \\right)} - \\rho{\\left(z,- {\\xi}_{0} - {\\xi}_{1} \\right)} \\rho{\\left(z,{\\xi}_{0} \\right)}$"
      ],
      "text/plain": [
       "Eq(Derivative(rho(z, -xi[1]), z), (zw(-xi[0] - xi[1], g2, g3) + zw(xi[0], g2, g3))*rho(z, -xi[1]) - rho(z, -xi[0] - xi[1])*rho(z, xi[0]))"
      ]
     },
     "execution_count": 189,
     "metadata": {},
     "output_type": "execute_result"
    },
    {
     "data": {
      "text/latex": [
       "$\\displaystyle \\frac{\\partial}{\\partial z} \\rho{\\left(z,- {\\xi}_{0} - {\\xi}_{1} \\right)} = - \\left(\\operatorname{zw}{\\left({\\xi}_{0},g_{2},g_{3} \\right)} + \\operatorname{zw}{\\left({\\xi}_{1},g_{2},g_{3} \\right)}\\right) \\rho{\\left(z,- {\\xi}_{0} - {\\xi}_{1} \\right)} - \\rho{\\left(z,- {\\xi}_{0} \\right)} \\rho{\\left(z,- {\\xi}_{1} \\right)}$"
      ],
      "text/plain": [
       "Eq(Derivative(rho(z, -xi[0] - xi[1]), z), -(zw(xi[0], g2, g3) + zw(xi[1], g2, g3))*rho(z, -xi[0] - xi[1]) - rho(z, -xi[0])*rho(z, -xi[1]))"
      ]
     },
     "execution_count": 189,
     "metadata": {},
     "output_type": "execute_result"
    },
    {
     "data": {
      "text/latex": [
       "$\\displaystyle \\frac{\\partial}{\\partial z} \\rho{\\left(z,{\\xi}_{0} + {\\xi}_{1} \\right)} = \\left(\\operatorname{zw}{\\left({\\xi}_{0},g_{2},g_{3} \\right)} + \\operatorname{zw}{\\left({\\xi}_{1},g_{2},g_{3} \\right)}\\right) \\rho{\\left(z,{\\xi}_{0} + {\\xi}_{1} \\right)} - \\rho{\\left(z,{\\xi}_{0} \\right)} \\rho{\\left(z,{\\xi}_{1} \\right)}$"
      ],
      "text/plain": [
       "Eq(Derivative(rho(z, xi[0] + xi[1]), z), (zw(xi[0], g2, g3) + zw(xi[1], g2, g3))*rho(z, xi[0] + xi[1]) - rho(z, xi[0])*rho(z, xi[1]))"
      ]
     },
     "execution_count": 189,
     "metadata": {},
     "output_type": "execute_result"
    }
   ],
   "source": [
    "for _l in range(0,3):\n",
    "    rho_plus_l(_l).subs(xi[2],- xi[0] - xi[1])\n",
    "    rho_minus_l(_l).subs(xi[2],- xi[0] - xi[1])"
   ]
  },
  {
   "cell_type": "code",
   "execution_count": 190,
   "metadata": {},
   "outputs": [
    {
     "data": {
      "text/latex": [
       "$\\displaystyle \\frac{\\partial}{\\partial z} \\rho{\\left(z,- {\\xi}_{0} \\right)} \\rho{\\left(z,{\\xi}_{0} \\right)} = - \\rho{\\left(z,- {\\xi}_{0} - {\\xi}_{1} \\right)} \\rho{\\left(z,{\\xi}_{0} \\right)} \\rho{\\left(z,{\\xi}_{1} \\right)} - \\rho{\\left(z,{\\xi}_{0} + {\\xi}_{1} \\right)} \\rho{\\left(z,- {\\xi}_{0} \\right)} \\rho{\\left(z,- {\\xi}_{1} \\right)}$"
      ],
      "text/plain": [
       "Eq(Derivative(rho(z, -xi[0])*rho(z, xi[0]), z), -rho(z, -xi[0] - xi[1])*rho(z, xi[0])*rho(z, xi[1]) - rho(z, xi[0] + xi[1])*rho(z, -xi[0])*rho(z, -xi[1]))"
      ]
     },
     "execution_count": 190,
     "metadata": {},
     "output_type": "execute_result"
    }
   ],
   "source": [
    "subx1__ = [\n",
    "    *[rho_plus_l(_l).subs(xi[2],- xi[0] - xi[1]).args for _l in range(0,3)],\n",
    "    *[rho_minus_l(_l).subs(xi[2],- xi[0] - xi[1]).args for _l in range(0,3)]\n",
    "   ]\n",
    "Eq(Derivative(rho(z,xi[0])*rho(z,-xi[0]),(z,1)),\n",
    "   diff(rho(z,xi[0])*rho(z,-xi[0]),(z,1)).subs(subx1__).doit().expand().subs(subx1__).doit().expand()\n",
    "  )"
   ]
  },
  {
   "cell_type": "code",
   "execution_count": 191,
   "metadata": {},
   "outputs": [
    {
     "data": {
      "text/latex": [
       "$\\displaystyle \\frac{d}{d z} h{\\left(z \\right)} = - \\left(\\operatorname{zw}{\\left(- {\\xi}_{0} - {\\xi}_{1},g_{2},g_{3} \\right)} + \\operatorname{zw}{\\left({\\xi}_{1},g_{2},g_{3} \\right)}\\right) h{\\left(z \\right)} - f{\\left(z \\right)} s{\\left(z \\right)}$"
      ],
      "text/plain": [
       "Eq(Derivative(h(z), z), -(zw(-xi[0] - xi[1], g2, g3) + zw(xi[1], g2, g3))*h(z) - f(z)*s(z))"
      ]
     },
     "execution_count": 191,
     "metadata": {},
     "output_type": "execute_result"
    },
    {
     "data": {
      "text/latex": [
       "$\\displaystyle \\frac{d}{d z} h{\\left(z \\right)} = \\left(\\operatorname{zw}{\\left(- {\\xi}_{0} - {\\xi}_{1},g_{2},g_{3} \\right)} + \\operatorname{zw}{\\left({\\xi}_{1},g_{2},g_{3} \\right)}\\right) h{\\left(z \\right)} - f{\\left(z \\right)} s{\\left(z \\right)}$"
      ],
      "text/plain": [
       "Eq(Derivative(h(z), z), (zw(-xi[0] - xi[1], g2, g3) + zw(xi[1], g2, g3))*h(z) - f(z)*s(z))"
      ]
     },
     "execution_count": 191,
     "metadata": {},
     "output_type": "execute_result"
    },
    {
     "data": {
      "text/latex": [
       "$\\displaystyle \\frac{d}{d z} s{\\left(z \\right)} = - \\left(\\operatorname{zw}{\\left(- {\\xi}_{0} - {\\xi}_{1},g_{2},g_{3} \\right)} + \\operatorname{zw}{\\left({\\xi}_{0},g_{2},g_{3} \\right)}\\right) s{\\left(z \\right)} - f{\\left(z \\right)} h{\\left(z \\right)}$"
      ],
      "text/plain": [
       "Eq(Derivative(s(z), z), -(zw(-xi[0] - xi[1], g2, g3) + zw(xi[0], g2, g3))*s(z) - f(z)*h(z))"
      ]
     },
     "execution_count": 191,
     "metadata": {},
     "output_type": "execute_result"
    },
    {
     "data": {
      "text/latex": [
       "$\\displaystyle \\frac{d}{d z} s{\\left(z \\right)} = \\left(\\operatorname{zw}{\\left(- {\\xi}_{0} - {\\xi}_{1},g_{2},g_{3} \\right)} + \\operatorname{zw}{\\left({\\xi}_{0},g_{2},g_{3} \\right)}\\right) s{\\left(z \\right)} - f{\\left(z \\right)} h{\\left(z \\right)}$"
      ],
      "text/plain": [
       "Eq(Derivative(s(z), z), (zw(-xi[0] - xi[1], g2, g3) + zw(xi[0], g2, g3))*s(z) - f(z)*h(z))"
      ]
     },
     "execution_count": 191,
     "metadata": {},
     "output_type": "execute_result"
    },
    {
     "data": {
      "text/latex": [
       "$\\displaystyle \\frac{d}{d z} f{\\left(z \\right)} = - \\left(\\operatorname{zw}{\\left({\\xi}_{0},g_{2},g_{3} \\right)} + \\operatorname{zw}{\\left({\\xi}_{1},g_{2},g_{3} \\right)}\\right) f{\\left(z \\right)} - h{\\left(z \\right)} s{\\left(z \\right)}$"
      ],
      "text/plain": [
       "Eq(Derivative(f(z), z), -(zw(xi[0], g2, g3) + zw(xi[1], g2, g3))*f(z) - h(z)*s(z))"
      ]
     },
     "execution_count": 191,
     "metadata": {},
     "output_type": "execute_result"
    },
    {
     "data": {
      "text/latex": [
       "$\\displaystyle \\frac{d}{d z} f{\\left(z \\right)} = \\left(\\operatorname{zw}{\\left({\\xi}_{0},g_{2},g_{3} \\right)} + \\operatorname{zw}{\\left({\\xi}_{1},g_{2},g_{3} \\right)}\\right) f{\\left(z \\right)} - h{\\left(z \\right)} s{\\left(z \\right)}$"
      ],
      "text/plain": [
       "Eq(Derivative(f(z), z), (zw(xi[0], g2, g3) + zw(xi[1], g2, g3))*f(z) - h(z)*s(z))"
      ]
     },
     "execution_count": 191,
     "metadata": {},
     "output_type": "execute_result"
    }
   ],
   "source": [
    "rho_subs = [\n",
    "    (rho(z,xi[0]), h(z)), (rho(z,xi[1]), s(z)), (rho(z,xi[0] + xi[1]), f(z)),\n",
    "    (rho(z,-xi[0]), h(z)), (rho(z,-xi[1]), s(z)), (rho(z,-xi[0] - xi[1]), f(z))\n",
    "]\n",
    "for _l in range(0,3):\n",
    "    rho_plus_l(_l).subs(xi[2],- xi[0] - xi[1]).subs(rho_subs)\n",
    "    rho_minus_l(_l).subs(xi[2],- xi[0] - xi[1]).subs(rho_subs)"
   ]
  },
  {
   "cell_type": "code",
   "execution_count": 192,
   "metadata": {},
   "outputs": [
    {
     "data": {
      "text/latex": [
       "$\\displaystyle \\frac{\\partial}{\\partial z} h{\\left(z,{\\xi}_{0} \\right)} = - h{\\left(z,- {\\xi}_{1} \\right)} h{\\left(z,- {\\xi}_{2} \\right)} e^{2 z \\left(\\operatorname{zw}{\\left({\\xi}_{0},g_{2},g_{3} \\right)} + \\operatorname{zw}{\\left({\\xi}_{1},g_{2},g_{3} \\right)} + \\operatorname{zw}{\\left({\\xi}_{2},g_{2},g_{3} \\right)}\\right)}$"
      ],
      "text/plain": [
       "Eq(Derivative(h(z, xi[0]), z), -h(z, -xi[1])*h(z, -xi[2])*exp(2*z*(zw(xi[0], g2, g3) + zw(xi[1], g2, g3) + zw(xi[2], g2, g3))))"
      ]
     },
     "execution_count": 192,
     "metadata": {},
     "output_type": "execute_result"
    },
    {
     "data": {
      "text/latex": [
       "$\\displaystyle \\frac{\\partial}{\\partial z} h{\\left(z,- {\\xi}_{0} \\right)} = - h{\\left(z,{\\xi}_{1} \\right)} h{\\left(z,{\\xi}_{2} \\right)} e^{- 2 z \\left(\\operatorname{zw}{\\left({\\xi}_{0},g_{2},g_{3} \\right)} + \\operatorname{zw}{\\left({\\xi}_{1},g_{2},g_{3} \\right)} + \\operatorname{zw}{\\left({\\xi}_{2},g_{2},g_{3} \\right)}\\right)}$"
      ],
      "text/plain": [
       "Eq(Derivative(h(z, -xi[0]), z), -h(z, xi[1])*h(z, xi[2])*exp(-2*z*(zw(xi[0], g2, g3) + zw(xi[1], g2, g3) + zw(xi[2], g2, g3))))"
      ]
     },
     "execution_count": 192,
     "metadata": {},
     "output_type": "execute_result"
    },
    {
     "data": {
      "text/latex": [
       "$\\displaystyle \\frac{\\partial}{\\partial z} h{\\left(z,{\\xi}_{1} \\right)} = - h{\\left(z,- {\\xi}_{0} \\right)} h{\\left(z,- {\\xi}_{2} \\right)} e^{2 z \\left(\\operatorname{zw}{\\left({\\xi}_{0},g_{2},g_{3} \\right)} + \\operatorname{zw}{\\left({\\xi}_{1},g_{2},g_{3} \\right)} + \\operatorname{zw}{\\left({\\xi}_{2},g_{2},g_{3} \\right)}\\right)}$"
      ],
      "text/plain": [
       "Eq(Derivative(h(z, xi[1]), z), -h(z, -xi[0])*h(z, -xi[2])*exp(2*z*(zw(xi[0], g2, g3) + zw(xi[1], g2, g3) + zw(xi[2], g2, g3))))"
      ]
     },
     "execution_count": 192,
     "metadata": {},
     "output_type": "execute_result"
    },
    {
     "data": {
      "text/latex": [
       "$\\displaystyle \\frac{\\partial}{\\partial z} h{\\left(z,- {\\xi}_{1} \\right)} = - h{\\left(z,{\\xi}_{0} \\right)} h{\\left(z,{\\xi}_{2} \\right)} e^{- 2 z \\left(\\operatorname{zw}{\\left({\\xi}_{0},g_{2},g_{3} \\right)} + \\operatorname{zw}{\\left({\\xi}_{1},g_{2},g_{3} \\right)} + \\operatorname{zw}{\\left({\\xi}_{2},g_{2},g_{3} \\right)}\\right)}$"
      ],
      "text/plain": [
       "Eq(Derivative(h(z, -xi[1]), z), -h(z, xi[0])*h(z, xi[2])*exp(-2*z*(zw(xi[0], g2, g3) + zw(xi[1], g2, g3) + zw(xi[2], g2, g3))))"
      ]
     },
     "execution_count": 192,
     "metadata": {},
     "output_type": "execute_result"
    },
    {
     "data": {
      "text/latex": [
       "$\\displaystyle \\frac{\\partial}{\\partial z} h{\\left(z,{\\xi}_{2} \\right)} = - h{\\left(z,- {\\xi}_{0} \\right)} h{\\left(z,- {\\xi}_{1} \\right)} e^{2 z \\left(\\operatorname{zw}{\\left({\\xi}_{0},g_{2},g_{3} \\right)} + \\operatorname{zw}{\\left({\\xi}_{1},g_{2},g_{3} \\right)} + \\operatorname{zw}{\\left({\\xi}_{2},g_{2},g_{3} \\right)}\\right)}$"
      ],
      "text/plain": [
       "Eq(Derivative(h(z, xi[2]), z), -h(z, -xi[0])*h(z, -xi[1])*exp(2*z*(zw(xi[0], g2, g3) + zw(xi[1], g2, g3) + zw(xi[2], g2, g3))))"
      ]
     },
     "execution_count": 192,
     "metadata": {},
     "output_type": "execute_result"
    },
    {
     "data": {
      "text/latex": [
       "$\\displaystyle \\frac{\\partial}{\\partial z} h{\\left(z,- {\\xi}_{2} \\right)} = - h{\\left(z,{\\xi}_{0} \\right)} h{\\left(z,{\\xi}_{1} \\right)} e^{- 2 z \\left(\\operatorname{zw}{\\left({\\xi}_{0},g_{2},g_{3} \\right)} + \\operatorname{zw}{\\left({\\xi}_{1},g_{2},g_{3} \\right)} + \\operatorname{zw}{\\left({\\xi}_{2},g_{2},g_{3} \\right)}\\right)}$"
      ],
      "text/plain": [
       "Eq(Derivative(h(z, -xi[2]), z), -h(z, xi[0])*h(z, xi[1])*exp(-2*z*(zw(xi[0], g2, g3) + zw(xi[1], g2, g3) + zw(xi[2], g2, g3))))"
      ]
     },
     "execution_count": 192,
     "metadata": {},
     "output_type": "execute_result"
    }
   ],
   "source": [
    "gauge_transforms = [\n",
    "    (mu[0], zw(xi[2],g2,g3) + zw(xi[1],g2,g3)),\n",
    "    (mu[1], zw(xi[2],g2,g3) + zw(xi[0],g2,g3)),\n",
    "    (mu[2], zw(xi[0],g2,g3) + zw(xi[1],g2,g3))\n",
    "]\n",
    "# gauge_transforms = [\n",
    "#     (mu[0], -zw(xi[0],g2,g3)),\n",
    "#     (mu[1], -zw(xi[1],g2,g3)),\n",
    "#     (mu[2], -zw(xi[2],g2,g3))\n",
    "# ]\n",
    "h_subs = (\n",
    "    [(rho(z,xi[_l]), h(z, xi[_l])*exp(-mu[_l]*z)) for _l in range(0,3)] +\n",
    "    [(rho(z,-xi[_l]), h(z, -xi[_l])*exp(mu[_l]*z)) for _l in range(0,3)]\n",
    ")\n",
    "for _l in range(0,3):\n",
    "    Eq(diff(h(z,xi[_l]),z), \n",
    "       solve(rho_plus_l(_l).subs(h_subs).doit().subs(gauge_transforms), diff(h(z,xi[_l]),z))[0])\n",
    "    Eq(diff(h(z,-xi[_l]),z), \n",
    "       solve(rho_minus_l(_l).subs(h_subs).doit().subs(gauge_transforms), diff(h(z,-xi[_l]),z))[0])"
   ]
  },
  {
   "cell_type": "code",
   "execution_count": 193,
   "metadata": {},
   "outputs": [
    {
     "data": {
      "text/latex": [
       "$\\displaystyle \\left(-1\\right)^{1 - N} \\prod_{l=0}^{N} \\frac{\\sigma{\\left(z - {\\xi}_{l},g_{2},g_{3} \\right)}}{\\sigma{\\left(z,g_{2},g_{3} \\right)} \\sigma{\\left({\\xi}_{l},g_{2},g_{3} \\right)}} = {c}_{0} + \\sum_{j=0}^{N - 1} \\frac{\\partial^{j}}{\\partial z^{j}} \\operatorname{pw}{\\left(z,g_{2},g_{3} \\right)} {c}_{j + 1}$"
      ],
      "text/plain": [
       "Eq((-1)**(1 - N)*Product(sigma(z - xi[l], g2, g3)/(sigma(z, g2, g3)*sigma(xi[l], g2, g3)), (l, 0, N)), c[0] + Sum(Derivative(pw(z, g2, g3), (z, j))*c[j + 1], (j, 0, N - 1)))"
      ]
     },
     "execution_count": 193,
     "metadata": {},
     "output_type": "execute_result"
    }
   ],
   "source": [
    "sigma_product_wp_diff_eq"
   ]
  },
  {
   "cell_type": "code",
   "execution_count": 194,
   "metadata": {},
   "outputs": [
    {
     "data": {
      "text/latex": [
       "$\\displaystyle \\sum_{j=0}^{N - 1} \\frac{\\partial^{j}}{\\partial z^{j}} \\operatorname{pw}{\\left(z,g_{2},g_{3} \\right)} {c}_{j + 1} = \\sum_{j=0}^{N - 1} \\left(\\left(-1\\right)^{j} z^{- j - 2} \\left(j + 1\\right)! + \\left(\\frac{\\left(-1\\right)^{j}}{2} + \\frac{1}{2}\\right) \\left(j + 1\\right)! {G}_{j + 2}\\right) {c}_{j + 1}$"
      ],
      "text/plain": [
       "Eq(Sum(Derivative(pw(z, g2, g3), (z, j))*c[j + 1], (j, 0, N - 1)), Sum(((-1)**j*z**(-j - 2)*factorial(j + 1) + ((-1)**j/2 + 1/2)*factorial(j + 1)*G[j + 2])*c[j + 1], (j, 0, N - 1)))"
      ]
     },
     "execution_count": 194,
     "metadata": {},
     "output_type": "execute_result"
    }
   ],
   "source": [
    "expansion_z_j_order_diff_wp_lim_z_0_approx_sum = Eq(\n",
    "    Sum(expansion_z_j_order_diff_wp_lim_z_0_approx.lhs*c[j+1],(j,0,N-1)), \n",
    "    Sum(expansion_z_j_order_diff_wp_lim_z_0_approx.rhs*c[j+1],(j,0,N-1))\n",
    ")\n",
    "expansion_z_j_order_diff_wp_lim_z_0_approx_sum"
   ]
  },
  {
   "cell_type": "code",
   "execution_count": 195,
   "metadata": {},
   "outputs": [
    {
     "data": {
      "text/latex": [
       "$\\displaystyle \\left(-1\\right)^{1 - N} \\prod_{l=0}^{N} \\frac{\\sigma{\\left(z - {\\xi}_{l},g_{2},g_{3} \\right)}}{\\sigma{\\left(z,g_{2},g_{3} \\right)} \\sigma{\\left({\\xi}_{l},g_{2},g_{3} \\right)}} = {c}_{0} + \\sum_{j=0}^{N - 1} \\left(\\left(-1\\right)^{j} z^{- j - 2} \\left(j + 1\\right)! + \\left(\\frac{\\left(-1\\right)^{j}}{2} + \\frac{1}{2}\\right) \\left(j + 1\\right)! {G}_{j + 2}\\right) {c}_{j + 1}$"
      ],
      "text/plain": [
       "Eq((-1)**(1 - N)*Product(sigma(z - xi[l], g2, g3)/(sigma(z, g2, g3)*sigma(xi[l], g2, g3)), (l, 0, N)), c[0] + Sum(((-1)**j*z**(-j - 2)*factorial(j + 1) + ((-1)**j/2 + 1/2)*factorial(j + 1)*G[j + 2])*c[j + 1], (j, 0, N - 1)))"
      ]
     },
     "execution_count": 195,
     "metadata": {},
     "output_type": "execute_result"
    }
   ],
   "source": [
    "__eq0 = sigma_product_wp_diff_eq.subs(*expansion_z_j_order_diff_wp_lim_z_0_approx_sum.args)\n",
    "__eq0"
   ]
  },
  {
   "cell_type": "code",
   "execution_count": 196,
   "metadata": {},
   "outputs": [
    {
     "data": {
      "text/latex": [
       "$\\displaystyle \\left(-1\\right)^{1 - N} z^{N + 1} \\prod_{l=0}^{N} \\frac{\\sigma{\\left(z - {\\xi}_{l},g_{2},g_{3} \\right)}}{\\sigma{\\left(z,g_{2},g_{3} \\right)} \\sigma{\\left({\\xi}_{l},g_{2},g_{3} \\right)}} = z^{N + 1} \\left({c}_{0} + \\sum_{j=0}^{N - 1} \\left(\\left(-1\\right)^{j} z^{- j - 2} \\left(j + 1\\right)! + \\left(\\frac{\\left(-1\\right)^{j}}{2} + \\frac{1}{2}\\right) \\left(j + 1\\right)! {G}_{j + 2}\\right) {c}_{j + 1}\\right)$"
      ],
      "text/plain": [
       "Eq((-1)**(1 - N)*z**(N + 1)*Product(sigma(z - xi[l], g2, g3)/(sigma(z, g2, g3)*sigma(xi[l], g2, g3)), (l, 0, N)), z**(N + 1)*(c[0] + Sum(((-1)**j*z**(-j - 2)*factorial(j + 1) + ((-1)**j/2 + 1/2)*factorial(j + 1)*G[j + 2])*c[j + 1], (j, 0, N - 1))))"
      ]
     },
     "execution_count": 196,
     "metadata": {},
     "output_type": "execute_result"
    }
   ],
   "source": [
    "__eq1 = Eq(__eq0.lhs*z**(N+1), __eq0.rhs*z**(N+1))\n",
    "__eq1"
   ]
  },
  {
   "cell_type": "code",
   "execution_count": 197,
   "metadata": {},
   "outputs": [
    {
     "name": "stdout",
     "output_type": "stream",
     "text": [
      "True\n",
      "True\n"
     ]
    },
    {
     "data": {
      "text/latex": [
       "$\\displaystyle z^{N + 1} \\left({c}_{0} + \\sum_{j=0}^{N - 1} \\left(\\left(-1\\right)^{j} z^{- j - 2} \\left(j + 1\\right)! + \\left(\\frac{\\left(-1\\right)^{j}}{2} + \\frac{1}{2}\\right) \\left(j + 1\\right)! {G}_{j + 2}\\right) {c}_{j + 1}\\right) = - \\left(-1\\right)^{N} \\sum_{j=0}^{N - 1} \\left(-1\\right)^{j} z^{j} \\left(N - j\\right)! {c}_{N - j} + z^{N + 1} \\left({c}_{0} + \\sum_{j=0}^{\\left\\lfloor{\\frac{N}{2} - \\frac{1}{2}}\\right\\rfloor} \\left(2 j + 1\\right)! {G}_{2 j + 2} {c}_{2 j + 1}\\right)$"
      ],
      "text/plain": [
       "Eq(z**(N + 1)*(c[0] + Sum(((-1)**j*z**(-j - 2)*factorial(j + 1) + ((-1)**j/2 + 1/2)*factorial(j + 1)*G[j + 2])*c[j + 1], (j, 0, N - 1))), -(-1)**N*Sum((-1)**j*z**j*factorial(N - j)*c[N - j], (j, 0, N - 1)) + z**(N + 1)*(c[0] + Sum(factorial(2*j + 1)*G[2*j + 2]*c[2*j + 1], (j, 0, floor(N/2 - 1/2)))))"
      ]
     },
     "execution_count": 197,
     "metadata": {},
     "output_type": "execute_result"
    }
   ],
   "source": [
    "__eq2 = Eq(\n",
    "    __eq1.rhs,\n",
    "    z**(N+1)*(c[0] + Sum(factorial(2*j+1)*G[2*j+2]*c[2*j+1],(j,0,floor((N-1)/2)))) + \n",
    "    -(-1)**N*Sum((-1)**j*factorial(N-j)*z**j*c[N - j],(j,0,N-1))\n",
    "    \n",
    " )\n",
    "print((__eq2.lhs - __eq2.rhs).subs(N,13).doit().expand() == 0)\n",
    "print((__eq2.lhs - __eq2.rhs).subs(N,14).doit().expand() == 0)\n",
    "__eq2"
   ]
  },
  {
   "cell_type": "code",
   "execution_count": 198,
   "metadata": {},
   "outputs": [
    {
     "data": {
      "text/latex": [
       "$\\displaystyle \\left(-1\\right)^{1 - N} z^{N + 1} \\prod_{l=0}^{N} \\frac{\\sigma{\\left(z - {\\xi}_{l},g_{2},g_{3} \\right)}}{\\sigma{\\left(z,g_{2},g_{3} \\right)} \\sigma{\\left({\\xi}_{l},g_{2},g_{3} \\right)}} = - \\left(-1\\right)^{N} \\sum_{j=0}^{N - 1} \\left(-1\\right)^{j} z^{j} \\left(N - j\\right)! {c}_{N - j} + z^{N + 1} \\left({c}_{0} + \\sum_{j=0}^{\\left\\lfloor{\\frac{N}{2} - \\frac{1}{2}}\\right\\rfloor} \\left(2 j + 1\\right)! {G}_{2 j + 2} {c}_{2 j + 1}\\right)$"
      ],
      "text/plain": [
       "Eq((-1)**(1 - N)*z**(N + 1)*Product(sigma(z - xi[l], g2, g3)/(sigma(z, g2, g3)*sigma(xi[l], g2, g3)), (l, 0, N)), -(-1)**N*Sum((-1)**j*z**j*factorial(N - j)*c[N - j], (j, 0, N - 1)) + z**(N + 1)*(c[0] + Sum(factorial(2*j + 1)*G[2*j + 2]*c[2*j + 1], (j, 0, floor(N/2 - 1/2)))))"
      ]
     },
     "execution_count": 198,
     "metadata": {},
     "output_type": "execute_result"
    }
   ],
   "source": [
    "__eq3 = __eq1.subs(*__eq2.args)\n",
    "__eq3"
   ]
  },
  {
   "cell_type": "code",
   "execution_count": 199,
   "metadata": {},
   "outputs": [
    {
     "data": {
      "text/latex": [
       "$\\displaystyle \\frac{\\frac{\\partial^{n}}{\\partial z^{n}} z^{n}}{n!} = 1$"
      ],
      "text/plain": [
       "Eq(Derivative(z**n, (z, n))/factorial(n), 1)"
      ]
     },
     "execution_count": 199,
     "metadata": {},
     "output_type": "execute_result"
    }
   ],
   "source": [
    "Eq(diff(z**n,(z,n))/factorial(n),1)"
   ]
  },
  {
   "cell_type": "code",
   "execution_count": 200,
   "metadata": {},
   "outputs": [
    {
     "data": {
      "text/latex": [
       "$\\displaystyle \\frac{\\left(-1\\right)^{k} \\lim_{z \\to 0^+} \\frac{\\partial^{k}}{\\partial z^{k}} \\prod_{l=0}^{N} \\frac{z \\sigma{\\left(z - {\\xi}_{l},g_{2},g_{3} \\right)}}{\\sigma{\\left(z,g_{2},g_{3} \\right)} \\sigma{\\left({\\xi}_{l},g_{2},g_{3} \\right)}}}{k! \\left(N - k\\right)!} = {c}_{N - k}$"
      ],
      "text/plain": [
       "Eq((-1)**k*Limit(Derivative(Product(z*sigma(z - xi[l], g2, g3)/(sigma(z, g2, g3)*sigma(xi[l], g2, g3)), (l, 0, N)), (z, k)), z, 0, dir='+')/(factorial(k)*factorial(N - k)), c[N - k])"
      ]
     },
     "execution_count": 200,
     "metadata": {},
     "output_type": "execute_result"
    }
   ],
   "source": [
    "__eq4 = Eq(\n",
    "    (-1)**k*Limit(diff(\n",
    "        Product(z*sigma(z-xi[l],g2,g3)/sigma(z,g2,g3)/sigma(xi[l],g2,g3),(l,0,N))\n",
    "        ,(z,k)),z,0)/factorial(N-k)/factorial(k),\n",
    "    c[N - k]\n",
    ")\n",
    "__eq4"
   ]
  },
  {
   "cell_type": "code",
   "execution_count": 201,
   "metadata": {},
   "outputs": [
    {
     "data": {
      "text/latex": [
       "$\\displaystyle \\frac{\\left(-1\\right)^{k} \\frac{\\partial^{k}}{\\partial z^{k}} \\prod_{l=0}^{N} \\frac{z \\sigma{\\left(z - {\\xi}_{l},g_{2},g_{3} \\right)}}{\\sigma{\\left(z,g_{2},g_{3} \\right)} \\sigma{\\left({\\xi}_{l},g_{2},g_{3} \\right)}}}{k! \\left(N - k\\right)!}$"
      ],
      "text/plain": [
       "(-1)**k*Derivative(Product(z*sigma(z - xi[l], g2, g3)/(sigma(z, g2, g3)*sigma(xi[l], g2, g3)), (l, 0, N)), (z, k))/(factorial(k)*factorial(N - k))"
      ]
     },
     "execution_count": 201,
     "metadata": {},
     "output_type": "execute_result"
    }
   ],
   "source": [
    "(-1)**k*diff(\n",
    "        Product(z*sigma(z-xi[l],g2,g3)/sigma(z,g2,g3)/sigma(xi[l],g2,g3),(l,0,N))\n",
    "    ,(z,k))/factorial(N-k)/factorial(k)"
   ]
  },
  {
   "cell_type": "code",
   "execution_count": 202,
   "metadata": {},
   "outputs": [
    {
     "data": {
      "text/latex": [
       "$\\displaystyle - \\frac{z^{3} \\sigma{\\left(z - {\\xi}_{0},g_{2},g_{3} \\right)} \\sigma{\\left(z - {\\xi}_{1},g_{2},g_{3} \\right)} \\left. \\frac{\\partial}{\\partial \\xi_{1}} \\sigma{\\left(\\xi_{1},g_{2},g_{3} \\right)} \\right|_{\\substack{ \\xi_{1}=z - {\\xi}_{2} }}}{\\sigma^{3}{\\left(z,g_{2},g_{3} \\right)} \\sigma{\\left({\\xi}_{0},g_{2},g_{3} \\right)} \\sigma{\\left({\\xi}_{1},g_{2},g_{3} \\right)} \\sigma{\\left({\\xi}_{2},g_{2},g_{3} \\right)}} - \\frac{z^{3} \\sigma{\\left(z - {\\xi}_{0},g_{2},g_{3} \\right)} \\sigma{\\left(z - {\\xi}_{2},g_{2},g_{3} \\right)} \\left. \\frac{\\partial}{\\partial \\xi_{1}} \\sigma{\\left(\\xi_{1},g_{2},g_{3} \\right)} \\right|_{\\substack{ \\xi_{1}=z - {\\xi}_{1} }}}{\\sigma^{3}{\\left(z,g_{2},g_{3} \\right)} \\sigma{\\left({\\xi}_{0},g_{2},g_{3} \\right)} \\sigma{\\left({\\xi}_{1},g_{2},g_{3} \\right)} \\sigma{\\left({\\xi}_{2},g_{2},g_{3} \\right)}} - \\frac{z^{3} \\sigma{\\left(z - {\\xi}_{1},g_{2},g_{3} \\right)} \\sigma{\\left(z - {\\xi}_{2},g_{2},g_{3} \\right)} \\left. \\frac{\\partial}{\\partial \\xi_{1}} \\sigma{\\left(\\xi_{1},g_{2},g_{3} \\right)} \\right|_{\\substack{ \\xi_{1}=z - {\\xi}_{0} }}}{\\sigma^{3}{\\left(z,g_{2},g_{3} \\right)} \\sigma{\\left({\\xi}_{0},g_{2},g_{3} \\right)} \\sigma{\\left({\\xi}_{1},g_{2},g_{3} \\right)} \\sigma{\\left({\\xi}_{2},g_{2},g_{3} \\right)}} + \\frac{3 z^{3} \\sigma{\\left(z - {\\xi}_{0},g_{2},g_{3} \\right)} \\sigma{\\left(z - {\\xi}_{1},g_{2},g_{3} \\right)} \\sigma{\\left(z - {\\xi}_{2},g_{2},g_{3} \\right)} \\frac{\\partial}{\\partial z} \\sigma{\\left(z,g_{2},g_{3} \\right)}}{\\sigma^{4}{\\left(z,g_{2},g_{3} \\right)} \\sigma{\\left({\\xi}_{0},g_{2},g_{3} \\right)} \\sigma{\\left({\\xi}_{1},g_{2},g_{3} \\right)} \\sigma{\\left({\\xi}_{2},g_{2},g_{3} \\right)}} - \\frac{3 z^{2} \\sigma{\\left(z - {\\xi}_{0},g_{2},g_{3} \\right)} \\sigma{\\left(z - {\\xi}_{1},g_{2},g_{3} \\right)} \\sigma{\\left(z - {\\xi}_{2},g_{2},g_{3} \\right)}}{\\sigma^{3}{\\left(z,g_{2},g_{3} \\right)} \\sigma{\\left({\\xi}_{0},g_{2},g_{3} \\right)} \\sigma{\\left({\\xi}_{1},g_{2},g_{3} \\right)} \\sigma{\\left({\\xi}_{2},g_{2},g_{3} \\right)}}$"
      ],
      "text/plain": [
       "-z**3*sigma(z - xi[0], g2, g3)*sigma(z - xi[1], g2, g3)*Subs(Derivative(sigma(_xi_1, g2, g3), _xi_1), _xi_1, z - xi[2])/(sigma(z, g2, g3)**3*sigma(xi[0], g2, g3)*sigma(xi[1], g2, g3)*sigma(xi[2], g2, g3)) - z**3*sigma(z - xi[0], g2, g3)*sigma(z - xi[2], g2, g3)*Subs(Derivative(sigma(_xi_1, g2, g3), _xi_1), _xi_1, z - xi[1])/(sigma(z, g2, g3)**3*sigma(xi[0], g2, g3)*sigma(xi[1], g2, g3)*sigma(xi[2], g2, g3)) - z**3*sigma(z - xi[1], g2, g3)*sigma(z - xi[2], g2, g3)*Subs(Derivative(sigma(_xi_1, g2, g3), _xi_1), _xi_1, z - xi[0])/(sigma(z, g2, g3)**3*sigma(xi[0], g2, g3)*sigma(xi[1], g2, g3)*sigma(xi[2], g2, g3)) + 3*z**3*sigma(z - xi[0], g2, g3)*sigma(z - xi[1], g2, g3)*sigma(z - xi[2], g2, g3)*Derivative(sigma(z, g2, g3), z)/(sigma(z, g2, g3)**4*sigma(xi[0], g2, g3)*sigma(xi[1], g2, g3)*sigma(xi[2], g2, g3)) - 3*z**2*sigma(z - xi[0], g2, g3)*sigma(z - xi[1], g2, g3)*sigma(z - xi[2], g2, g3)/(sigma(z, g2, g3)**3*sigma(xi[0], g2, g3)*sigma(xi[1], g2, g3)*sigma(xi[2], g2, g3))"
      ]
     },
     "execution_count": 202,
     "metadata": {},
     "output_type": "execute_result"
    }
   ],
   "source": [
    "((-1)**k*diff(\n",
    "        Product(z*sigma(z-xi[l],g2,g3)/sigma(z,g2,g3)/sigma(xi[l],g2,g3),(l,0,N))\n",
    "    ,(z,k))/factorial(N-k)/factorial(k)).subs([(N,2),(k,1)]).doit()"
   ]
  },
  {
   "cell_type": "code",
   "execution_count": 203,
   "metadata": {},
   "outputs": [
    {
     "ename": "NotImplementedError",
     "evalue": "Don't know how to calculate the mrv of 'Subs(Derivative(sigma(_xi_1, g2, g3), _xi_1), _xi_1, -xi[0] + 1/_p)'",
     "output_type": "error",
     "traceback": [
      "\u001b[0;31m---------------------------------------------------------------------------\u001b[0m",
      "\u001b[0;31mNotImplementedError\u001b[0m                       Traceback (most recent call last)",
      "Cell \u001b[0;32mIn[203], line 1\u001b[0m\n\u001b[0;32m----> 1\u001b[0m \u001b[43m__eq4\u001b[49m\u001b[38;5;241;43m.\u001b[39;49m\u001b[43msubs\u001b[49m\u001b[43m(\u001b[49m\u001b[43m[\u001b[49m\u001b[43m(\u001b[49m\u001b[43mN\u001b[49m\u001b[43m,\u001b[49m\u001b[38;5;241;43m2\u001b[39;49m\u001b[43m)\u001b[49m\u001b[43m,\u001b[49m\u001b[43m(\u001b[49m\u001b[43mk\u001b[49m\u001b[43m,\u001b[49m\u001b[38;5;241;43m1\u001b[39;49m\u001b[43m)\u001b[49m\u001b[43m]\u001b[49m\u001b[43m)\u001b[49m\u001b[38;5;241;43m.\u001b[39;49m\u001b[43mdoit\u001b[49m\u001b[43m(\u001b[49m\u001b[43m)\u001b[49m\n",
      "File \u001b[0;32m/opt/homebrew/lib/python3.11/site-packages/sympy/core/basic.py:1844\u001b[0m, in \u001b[0;36mBasic.doit\u001b[0;34m(self, **hints)\u001b[0m\n\u001b[1;32m   1825\u001b[0m \u001b[38;5;250m\u001b[39m\u001b[38;5;124;03m\"\"\"Evaluate objects that are not evaluated by default like limits,\u001b[39;00m\n\u001b[1;32m   1826\u001b[0m \u001b[38;5;124;03mintegrals, sums and products. All objects of this kind will be\u001b[39;00m\n\u001b[1;32m   1827\u001b[0m \u001b[38;5;124;03mevaluated recursively, unless some species were excluded via 'hints'\u001b[39;00m\n\u001b[0;32m   (...)\u001b[0m\n\u001b[1;32m   1841\u001b[0m \n\u001b[1;32m   1842\u001b[0m \u001b[38;5;124;03m\"\"\"\u001b[39;00m\n\u001b[1;32m   1843\u001b[0m \u001b[38;5;28;01mif\u001b[39;00m hints\u001b[38;5;241m.\u001b[39mget(\u001b[38;5;124m'\u001b[39m\u001b[38;5;124mdeep\u001b[39m\u001b[38;5;124m'\u001b[39m, \u001b[38;5;28;01mTrue\u001b[39;00m):\n\u001b[0;32m-> 1844\u001b[0m     terms \u001b[38;5;241m=\u001b[39m \u001b[43m[\u001b[49m\u001b[43mterm\u001b[49m\u001b[38;5;241;43m.\u001b[39;49m\u001b[43mdoit\u001b[49m\u001b[43m(\u001b[49m\u001b[38;5;241;43m*\u001b[39;49m\u001b[38;5;241;43m*\u001b[39;49m\u001b[43mhints\u001b[49m\u001b[43m)\u001b[49m\u001b[43m \u001b[49m\u001b[38;5;28;43;01mif\u001b[39;49;00m\u001b[43m \u001b[49m\u001b[38;5;28;43misinstance\u001b[39;49m\u001b[43m(\u001b[49m\u001b[43mterm\u001b[49m\u001b[43m,\u001b[49m\u001b[43m \u001b[49m\u001b[43mBasic\u001b[49m\u001b[43m)\u001b[49m\u001b[43m \u001b[49m\u001b[38;5;28;43;01melse\u001b[39;49;00m\u001b[43m \u001b[49m\u001b[43mterm\u001b[49m\n\u001b[1;32m   1845\u001b[0m \u001b[43m                                 \u001b[49m\u001b[38;5;28;43;01mfor\u001b[39;49;00m\u001b[43m \u001b[49m\u001b[43mterm\u001b[49m\u001b[43m \u001b[49m\u001b[38;5;129;43;01min\u001b[39;49;00m\u001b[43m \u001b[49m\u001b[38;5;28;43mself\u001b[39;49m\u001b[38;5;241;43m.\u001b[39;49m\u001b[43margs\u001b[49m\u001b[43m]\u001b[49m\n\u001b[1;32m   1846\u001b[0m     \u001b[38;5;28;01mreturn\u001b[39;00m \u001b[38;5;28mself\u001b[39m\u001b[38;5;241m.\u001b[39mfunc(\u001b[38;5;241m*\u001b[39mterms)\n\u001b[1;32m   1847\u001b[0m \u001b[38;5;28;01melse\u001b[39;00m:\n",
      "File \u001b[0;32m/opt/homebrew/lib/python3.11/site-packages/sympy/core/basic.py:1844\u001b[0m, in \u001b[0;36m<listcomp>\u001b[0;34m(.0)\u001b[0m\n\u001b[1;32m   1825\u001b[0m \u001b[38;5;250m\u001b[39m\u001b[38;5;124;03m\"\"\"Evaluate objects that are not evaluated by default like limits,\u001b[39;00m\n\u001b[1;32m   1826\u001b[0m \u001b[38;5;124;03mintegrals, sums and products. All objects of this kind will be\u001b[39;00m\n\u001b[1;32m   1827\u001b[0m \u001b[38;5;124;03mevaluated recursively, unless some species were excluded via 'hints'\u001b[39;00m\n\u001b[0;32m   (...)\u001b[0m\n\u001b[1;32m   1841\u001b[0m \n\u001b[1;32m   1842\u001b[0m \u001b[38;5;124;03m\"\"\"\u001b[39;00m\n\u001b[1;32m   1843\u001b[0m \u001b[38;5;28;01mif\u001b[39;00m hints\u001b[38;5;241m.\u001b[39mget(\u001b[38;5;124m'\u001b[39m\u001b[38;5;124mdeep\u001b[39m\u001b[38;5;124m'\u001b[39m, \u001b[38;5;28;01mTrue\u001b[39;00m):\n\u001b[0;32m-> 1844\u001b[0m     terms \u001b[38;5;241m=\u001b[39m [\u001b[43mterm\u001b[49m\u001b[38;5;241;43m.\u001b[39;49m\u001b[43mdoit\u001b[49m\u001b[43m(\u001b[49m\u001b[38;5;241;43m*\u001b[39;49m\u001b[38;5;241;43m*\u001b[39;49m\u001b[43mhints\u001b[49m\u001b[43m)\u001b[49m \u001b[38;5;28;01mif\u001b[39;00m \u001b[38;5;28misinstance\u001b[39m(term, Basic) \u001b[38;5;28;01melse\u001b[39;00m term\n\u001b[1;32m   1845\u001b[0m                                  \u001b[38;5;28;01mfor\u001b[39;00m term \u001b[38;5;129;01min\u001b[39;00m \u001b[38;5;28mself\u001b[39m\u001b[38;5;241m.\u001b[39margs]\n\u001b[1;32m   1846\u001b[0m     \u001b[38;5;28;01mreturn\u001b[39;00m \u001b[38;5;28mself\u001b[39m\u001b[38;5;241m.\u001b[39mfunc(\u001b[38;5;241m*\u001b[39mterms)\n\u001b[1;32m   1847\u001b[0m \u001b[38;5;28;01melse\u001b[39;00m:\n",
      "File \u001b[0;32m/opt/homebrew/lib/python3.11/site-packages/sympy/core/operations.py:455\u001b[0m, in \u001b[0;36mAssocOp.doit\u001b[0;34m(self, **hints)\u001b[0m\n\u001b[1;32m    453\u001b[0m \u001b[38;5;28;01mdef\u001b[39;00m \u001b[38;5;21mdoit\u001b[39m(\u001b[38;5;28mself\u001b[39m, \u001b[38;5;241m*\u001b[39m\u001b[38;5;241m*\u001b[39mhints):\n\u001b[1;32m    454\u001b[0m     \u001b[38;5;28;01mif\u001b[39;00m hints\u001b[38;5;241m.\u001b[39mget(\u001b[38;5;124m'\u001b[39m\u001b[38;5;124mdeep\u001b[39m\u001b[38;5;124m'\u001b[39m, \u001b[38;5;28;01mTrue\u001b[39;00m):\n\u001b[0;32m--> 455\u001b[0m         terms \u001b[38;5;241m=\u001b[39m \u001b[43m[\u001b[49m\u001b[43mterm\u001b[49m\u001b[38;5;241;43m.\u001b[39;49m\u001b[43mdoit\u001b[49m\u001b[43m(\u001b[49m\u001b[38;5;241;43m*\u001b[39;49m\u001b[38;5;241;43m*\u001b[39;49m\u001b[43mhints\u001b[49m\u001b[43m)\u001b[49m\u001b[43m \u001b[49m\u001b[38;5;28;43;01mfor\u001b[39;49;00m\u001b[43m \u001b[49m\u001b[43mterm\u001b[49m\u001b[43m \u001b[49m\u001b[38;5;129;43;01min\u001b[39;49;00m\u001b[43m \u001b[49m\u001b[38;5;28;43mself\u001b[39;49m\u001b[38;5;241;43m.\u001b[39;49m\u001b[43margs\u001b[49m\u001b[43m]\u001b[49m\n\u001b[1;32m    456\u001b[0m     \u001b[38;5;28;01melse\u001b[39;00m:\n\u001b[1;32m    457\u001b[0m         terms \u001b[38;5;241m=\u001b[39m \u001b[38;5;28mself\u001b[39m\u001b[38;5;241m.\u001b[39margs\n",
      "File \u001b[0;32m/opt/homebrew/lib/python3.11/site-packages/sympy/core/operations.py:455\u001b[0m, in \u001b[0;36m<listcomp>\u001b[0;34m(.0)\u001b[0m\n\u001b[1;32m    453\u001b[0m \u001b[38;5;28;01mdef\u001b[39;00m \u001b[38;5;21mdoit\u001b[39m(\u001b[38;5;28mself\u001b[39m, \u001b[38;5;241m*\u001b[39m\u001b[38;5;241m*\u001b[39mhints):\n\u001b[1;32m    454\u001b[0m     \u001b[38;5;28;01mif\u001b[39;00m hints\u001b[38;5;241m.\u001b[39mget(\u001b[38;5;124m'\u001b[39m\u001b[38;5;124mdeep\u001b[39m\u001b[38;5;124m'\u001b[39m, \u001b[38;5;28;01mTrue\u001b[39;00m):\n\u001b[0;32m--> 455\u001b[0m         terms \u001b[38;5;241m=\u001b[39m [\u001b[43mterm\u001b[49m\u001b[38;5;241;43m.\u001b[39;49m\u001b[43mdoit\u001b[49m\u001b[43m(\u001b[49m\u001b[38;5;241;43m*\u001b[39;49m\u001b[38;5;241;43m*\u001b[39;49m\u001b[43mhints\u001b[49m\u001b[43m)\u001b[49m \u001b[38;5;28;01mfor\u001b[39;00m term \u001b[38;5;129;01min\u001b[39;00m \u001b[38;5;28mself\u001b[39m\u001b[38;5;241m.\u001b[39margs]\n\u001b[1;32m    456\u001b[0m     \u001b[38;5;28;01melse\u001b[39;00m:\n\u001b[1;32m    457\u001b[0m         terms \u001b[38;5;241m=\u001b[39m \u001b[38;5;28mself\u001b[39m\u001b[38;5;241m.\u001b[39margs\n",
      "File \u001b[0;32m/opt/homebrew/lib/python3.11/site-packages/sympy/series/limits.py:375\u001b[0m, in \u001b[0;36mLimit.doit\u001b[0;34m(self, **hints)\u001b[0m\n\u001b[1;32m    372\u001b[0m l \u001b[38;5;241m=\u001b[39m \u001b[38;5;28;01mNone\u001b[39;00m\n\u001b[1;32m    374\u001b[0m \u001b[38;5;28;01mtry\u001b[39;00m:\n\u001b[0;32m--> 375\u001b[0m     r \u001b[38;5;241m=\u001b[39m \u001b[43mgruntz\u001b[49m\u001b[43m(\u001b[49m\u001b[43me\u001b[49m\u001b[43m,\u001b[49m\u001b[43m \u001b[49m\u001b[43mz\u001b[49m\u001b[43m,\u001b[49m\u001b[43m \u001b[49m\u001b[43mz0\u001b[49m\u001b[43m,\u001b[49m\u001b[43m \u001b[49m\u001b[38;5;28;43mdir\u001b[39;49m\u001b[43m)\u001b[49m\n\u001b[1;32m    376\u001b[0m     \u001b[38;5;28;01mif\u001b[39;00m r \u001b[38;5;129;01mis\u001b[39;00m S\u001b[38;5;241m.\u001b[39mNaN \u001b[38;5;129;01mor\u001b[39;00m l \u001b[38;5;129;01mis\u001b[39;00m S\u001b[38;5;241m.\u001b[39mNaN:\n\u001b[1;32m    377\u001b[0m         \u001b[38;5;28;01mraise\u001b[39;00m PoleError()\n",
      "File \u001b[0;32m/opt/homebrew/lib/python3.11/site-packages/sympy/series/gruntz.py:732\u001b[0m, in \u001b[0;36mgruntz\u001b[0;34m(e, z, z0, dir)\u001b[0m\n\u001b[1;32m    729\u001b[0m     \u001b[38;5;28;01melse\u001b[39;00m:\n\u001b[1;32m    730\u001b[0m         \u001b[38;5;28;01mraise\u001b[39;00m \u001b[38;5;167;01mNotImplementedError\u001b[39;00m(\u001b[38;5;124m\"\u001b[39m\u001b[38;5;124mdir must be \u001b[39m\u001b[38;5;124m'\u001b[39m\u001b[38;5;124m+\u001b[39m\u001b[38;5;124m'\u001b[39m\u001b[38;5;124m or \u001b[39m\u001b[38;5;124m'\u001b[39m\u001b[38;5;124m-\u001b[39m\u001b[38;5;124m'\u001b[39m\u001b[38;5;124m\"\u001b[39m)\n\u001b[0;32m--> 732\u001b[0m r \u001b[38;5;241m=\u001b[39m \u001b[43mlimitinf\u001b[49m\u001b[43m(\u001b[49m\u001b[43me0\u001b[49m\u001b[43m,\u001b[49m\u001b[43m \u001b[49m\u001b[43mz\u001b[49m\u001b[43m)\u001b[49m\n\u001b[1;32m    734\u001b[0m \u001b[38;5;66;03m# This is a bit of a heuristic for nice results... we always rewrite\u001b[39;00m\n\u001b[1;32m    735\u001b[0m \u001b[38;5;66;03m# tractable functions in terms of familiar intractable ones.\u001b[39;00m\n\u001b[1;32m    736\u001b[0m \u001b[38;5;66;03m# It might be nicer to rewrite the exactly to what they were initially,\u001b[39;00m\n\u001b[1;32m    737\u001b[0m \u001b[38;5;66;03m# but that would take some work to implement.\u001b[39;00m\n\u001b[1;32m    738\u001b[0m \u001b[38;5;28;01mreturn\u001b[39;00m r\u001b[38;5;241m.\u001b[39mrewrite(\u001b[38;5;124m'\u001b[39m\u001b[38;5;124mintractable\u001b[39m\u001b[38;5;124m'\u001b[39m, deep\u001b[38;5;241m=\u001b[39m\u001b[38;5;28;01mTrue\u001b[39;00m)\n",
      "File \u001b[0;32m/opt/homebrew/lib/python3.11/site-packages/sympy/core/cache.py:72\u001b[0m, in \u001b[0;36m__cacheit.<locals>.func_wrapper.<locals>.wrapper\u001b[0;34m(*args, **kwargs)\u001b[0m\n\u001b[1;32m     69\u001b[0m \u001b[38;5;129m@wraps\u001b[39m(func)\n\u001b[1;32m     70\u001b[0m \u001b[38;5;28;01mdef\u001b[39;00m \u001b[38;5;21mwrapper\u001b[39m(\u001b[38;5;241m*\u001b[39margs, \u001b[38;5;241m*\u001b[39m\u001b[38;5;241m*\u001b[39mkwargs):\n\u001b[1;32m     71\u001b[0m     \u001b[38;5;28;01mtry\u001b[39;00m:\n\u001b[0;32m---> 72\u001b[0m         retval \u001b[38;5;241m=\u001b[39m \u001b[43mcfunc\u001b[49m\u001b[43m(\u001b[49m\u001b[38;5;241;43m*\u001b[39;49m\u001b[43margs\u001b[49m\u001b[43m,\u001b[49m\u001b[43m \u001b[49m\u001b[38;5;241;43m*\u001b[39;49m\u001b[38;5;241;43m*\u001b[39;49m\u001b[43mkwargs\u001b[49m\u001b[43m)\u001b[49m\n\u001b[1;32m     73\u001b[0m     \u001b[38;5;28;01mexcept\u001b[39;00m \u001b[38;5;167;01mTypeError\u001b[39;00m \u001b[38;5;28;01mas\u001b[39;00m e:\n\u001b[1;32m     74\u001b[0m         \u001b[38;5;28;01mif\u001b[39;00m \u001b[38;5;129;01mnot\u001b[39;00m e\u001b[38;5;241m.\u001b[39margs \u001b[38;5;129;01mor\u001b[39;00m \u001b[38;5;129;01mnot\u001b[39;00m e\u001b[38;5;241m.\u001b[39margs[\u001b[38;5;241m0\u001b[39m]\u001b[38;5;241m.\u001b[39mstartswith(\u001b[38;5;124m'\u001b[39m\u001b[38;5;124munhashable type:\u001b[39m\u001b[38;5;124m'\u001b[39m):\n",
      "File \u001b[0;32m/opt/homebrew/lib/python3.11/site-packages/sympy/series/gruntz.py:452\u001b[0m, in \u001b[0;36mlimitinf\u001b[0;34m(e, x)\u001b[0m\n\u001b[1;32m    450\u001b[0m     c0, e0 \u001b[38;5;241m=\u001b[39m mrv_leadterm(e\u001b[38;5;241m.\u001b[39mmin, x)\n\u001b[1;32m    451\u001b[0m \u001b[38;5;28;01melse\u001b[39;00m:\n\u001b[0;32m--> 452\u001b[0m     c0, e0 \u001b[38;5;241m=\u001b[39m \u001b[43mmrv_leadterm\u001b[49m\u001b[43m(\u001b[49m\u001b[43me\u001b[49m\u001b[43m,\u001b[49m\u001b[43m \u001b[49m\u001b[43mx\u001b[49m\u001b[43m)\u001b[49m\n\u001b[1;32m    453\u001b[0m sig \u001b[38;5;241m=\u001b[39m sign(e0, x)\n\u001b[1;32m    454\u001b[0m \u001b[38;5;28;01mif\u001b[39;00m sig \u001b[38;5;241m==\u001b[39m \u001b[38;5;241m1\u001b[39m:\n",
      "File \u001b[0;32m/opt/homebrew/lib/python3.11/site-packages/sympy/core/cache.py:72\u001b[0m, in \u001b[0;36m__cacheit.<locals>.func_wrapper.<locals>.wrapper\u001b[0;34m(*args, **kwargs)\u001b[0m\n\u001b[1;32m     69\u001b[0m \u001b[38;5;129m@wraps\u001b[39m(func)\n\u001b[1;32m     70\u001b[0m \u001b[38;5;28;01mdef\u001b[39;00m \u001b[38;5;21mwrapper\u001b[39m(\u001b[38;5;241m*\u001b[39margs, \u001b[38;5;241m*\u001b[39m\u001b[38;5;241m*\u001b[39mkwargs):\n\u001b[1;32m     71\u001b[0m     \u001b[38;5;28;01mtry\u001b[39;00m:\n\u001b[0;32m---> 72\u001b[0m         retval \u001b[38;5;241m=\u001b[39m \u001b[43mcfunc\u001b[49m\u001b[43m(\u001b[49m\u001b[38;5;241;43m*\u001b[39;49m\u001b[43margs\u001b[49m\u001b[43m,\u001b[49m\u001b[43m \u001b[49m\u001b[38;5;241;43m*\u001b[39;49m\u001b[38;5;241;43m*\u001b[39;49m\u001b[43mkwargs\u001b[49m\u001b[43m)\u001b[49m\n\u001b[1;32m     73\u001b[0m     \u001b[38;5;28;01mexcept\u001b[39;00m \u001b[38;5;167;01mTypeError\u001b[39;00m \u001b[38;5;28;01mas\u001b[39;00m e:\n\u001b[1;32m     74\u001b[0m         \u001b[38;5;28;01mif\u001b[39;00m \u001b[38;5;129;01mnot\u001b[39;00m e\u001b[38;5;241m.\u001b[39margs \u001b[38;5;129;01mor\u001b[39;00m \u001b[38;5;129;01mnot\u001b[39;00m e\u001b[38;5;241m.\u001b[39margs[\u001b[38;5;241m0\u001b[39m]\u001b[38;5;241m.\u001b[39mstartswith(\u001b[38;5;124m'\u001b[39m\u001b[38;5;124munhashable type:\u001b[39m\u001b[38;5;124m'\u001b[39m):\n",
      "File \u001b[0;32m/opt/homebrew/lib/python3.11/site-packages/sympy/series/gruntz.py:535\u001b[0m, in \u001b[0;36mmrv_leadterm\u001b[0;34m(e, x)\u001b[0m\n\u001b[1;32m    533\u001b[0m     \u001b[38;5;28;01mreturn\u001b[39;00m (e, S\u001b[38;5;241m.\u001b[39mZero)\n\u001b[1;32m    534\u001b[0m \u001b[38;5;28;01mif\u001b[39;00m Omega \u001b[38;5;241m==\u001b[39m SubsSet():\n\u001b[0;32m--> 535\u001b[0m     Omega, exps \u001b[38;5;241m=\u001b[39m \u001b[43mmrv\u001b[49m\u001b[43m(\u001b[49m\u001b[43me\u001b[49m\u001b[43m,\u001b[49m\u001b[43m \u001b[49m\u001b[43mx\u001b[49m\u001b[43m)\u001b[49m\n\u001b[1;32m    536\u001b[0m \u001b[38;5;28;01mif\u001b[39;00m \u001b[38;5;129;01mnot\u001b[39;00m Omega:\n\u001b[1;32m    537\u001b[0m     \u001b[38;5;66;03m# e really does not depend on x after simplification\u001b[39;00m\n\u001b[1;32m    538\u001b[0m     \u001b[38;5;28;01mreturn\u001b[39;00m exps, S\u001b[38;5;241m.\u001b[39mZero\n",
      "File \u001b[0;32m/opt/homebrew/lib/python3.11/site-packages/sympy/series/gruntz.py:265\u001b[0m, in \u001b[0;36mmrv\u001b[0;34m(e, x)\u001b[0m\n\u001b[1;32m    263\u001b[0m     \u001b[38;5;28;01mreturn\u001b[39;00m s, e\u001b[38;5;241m.\u001b[39mfunc(i, expr)\n\u001b[1;32m    264\u001b[0m a, b \u001b[38;5;241m=\u001b[39m d\u001b[38;5;241m.\u001b[39mas_two_terms()\n\u001b[0;32m--> 265\u001b[0m s1, e1 \u001b[38;5;241m=\u001b[39m \u001b[43mmrv\u001b[49m\u001b[43m(\u001b[49m\u001b[43ma\u001b[49m\u001b[43m,\u001b[49m\u001b[43m \u001b[49m\u001b[43mx\u001b[49m\u001b[43m)\u001b[49m\n\u001b[1;32m    266\u001b[0m s2, e2 \u001b[38;5;241m=\u001b[39m mrv(b, x)\n\u001b[1;32m    267\u001b[0m \u001b[38;5;28;01mreturn\u001b[39;00m mrv_max1(s1, s2, e\u001b[38;5;241m.\u001b[39mfunc(i, e1, e2), x)\n",
      "File \u001b[0;32m/opt/homebrew/lib/python3.11/site-packages/sympy/series/gruntz.py:266\u001b[0m, in \u001b[0;36mmrv\u001b[0;34m(e, x)\u001b[0m\n\u001b[1;32m    264\u001b[0m     a, b \u001b[38;5;241m=\u001b[39m d\u001b[38;5;241m.\u001b[39mas_two_terms()\n\u001b[1;32m    265\u001b[0m     s1, e1 \u001b[38;5;241m=\u001b[39m mrv(a, x)\n\u001b[0;32m--> 266\u001b[0m     s2, e2 \u001b[38;5;241m=\u001b[39m \u001b[43mmrv\u001b[49m\u001b[43m(\u001b[49m\u001b[43mb\u001b[49m\u001b[43m,\u001b[49m\u001b[43m \u001b[49m\u001b[43mx\u001b[49m\u001b[43m)\u001b[49m\n\u001b[1;32m    267\u001b[0m     \u001b[38;5;28;01mreturn\u001b[39;00m mrv_max1(s1, s2, e\u001b[38;5;241m.\u001b[39mfunc(i, e1, e2), x)\n\u001b[1;32m    268\u001b[0m \u001b[38;5;28;01melif\u001b[39;00m e\u001b[38;5;241m.\u001b[39mis_Pow \u001b[38;5;129;01mand\u001b[39;00m e\u001b[38;5;241m.\u001b[39mbase \u001b[38;5;241m!=\u001b[39m S\u001b[38;5;241m.\u001b[39mExp1:\n",
      "File \u001b[0;32m/opt/homebrew/lib/python3.11/site-packages/sympy/series/gruntz.py:266\u001b[0m, in \u001b[0;36mmrv\u001b[0;34m(e, x)\u001b[0m\n\u001b[1;32m    264\u001b[0m     a, b \u001b[38;5;241m=\u001b[39m d\u001b[38;5;241m.\u001b[39mas_two_terms()\n\u001b[1;32m    265\u001b[0m     s1, e1 \u001b[38;5;241m=\u001b[39m mrv(a, x)\n\u001b[0;32m--> 266\u001b[0m     s2, e2 \u001b[38;5;241m=\u001b[39m \u001b[43mmrv\u001b[49m\u001b[43m(\u001b[49m\u001b[43mb\u001b[49m\u001b[43m,\u001b[49m\u001b[43m \u001b[49m\u001b[43mx\u001b[49m\u001b[43m)\u001b[49m\n\u001b[1;32m    267\u001b[0m     \u001b[38;5;28;01mreturn\u001b[39;00m mrv_max1(s1, s2, e\u001b[38;5;241m.\u001b[39mfunc(i, e1, e2), x)\n\u001b[1;32m    268\u001b[0m \u001b[38;5;28;01melif\u001b[39;00m e\u001b[38;5;241m.\u001b[39mis_Pow \u001b[38;5;129;01mand\u001b[39;00m e\u001b[38;5;241m.\u001b[39mbase \u001b[38;5;241m!=\u001b[39m S\u001b[38;5;241m.\u001b[39mExp1:\n",
      "File \u001b[0;32m/opt/homebrew/lib/python3.11/site-packages/sympy/series/gruntz.py:265\u001b[0m, in \u001b[0;36mmrv\u001b[0;34m(e, x)\u001b[0m\n\u001b[1;32m    263\u001b[0m     \u001b[38;5;28;01mreturn\u001b[39;00m s, e\u001b[38;5;241m.\u001b[39mfunc(i, expr)\n\u001b[1;32m    264\u001b[0m a, b \u001b[38;5;241m=\u001b[39m d\u001b[38;5;241m.\u001b[39mas_two_terms()\n\u001b[0;32m--> 265\u001b[0m s1, e1 \u001b[38;5;241m=\u001b[39m \u001b[43mmrv\u001b[49m\u001b[43m(\u001b[49m\u001b[43ma\u001b[49m\u001b[43m,\u001b[49m\u001b[43m \u001b[49m\u001b[43mx\u001b[49m\u001b[43m)\u001b[49m\n\u001b[1;32m    266\u001b[0m s2, e2 \u001b[38;5;241m=\u001b[39m mrv(b, x)\n\u001b[1;32m    267\u001b[0m \u001b[38;5;28;01mreturn\u001b[39;00m mrv_max1(s1, s2, e\u001b[38;5;241m.\u001b[39mfunc(i, e1, e2), x)\n",
      "File \u001b[0;32m/opt/homebrew/lib/python3.11/site-packages/sympy/series/gruntz.py:319\u001b[0m, in \u001b[0;36mmrv\u001b[0;34m(e, x)\u001b[0m\n\u001b[1;32m    316\u001b[0m \u001b[38;5;28;01melif\u001b[39;00m e\u001b[38;5;241m.\u001b[39mis_Derivative:\n\u001b[1;32m    317\u001b[0m     \u001b[38;5;28;01mraise\u001b[39;00m \u001b[38;5;167;01mNotImplementedError\u001b[39;00m(\u001b[38;5;124m\"\u001b[39m\u001b[38;5;124mMRV set computation for derivatives\u001b[39m\u001b[38;5;124m\"\u001b[39m\n\u001b[1;32m    318\u001b[0m                               \u001b[38;5;124m\"\u001b[39m\u001b[38;5;124m not implemented yet.\u001b[39m\u001b[38;5;124m\"\u001b[39m)\n\u001b[0;32m--> 319\u001b[0m \u001b[38;5;28;01mraise\u001b[39;00m \u001b[38;5;167;01mNotImplementedError\u001b[39;00m(\n\u001b[1;32m    320\u001b[0m     \u001b[38;5;124m\"\u001b[39m\u001b[38;5;124mDon\u001b[39m\u001b[38;5;124m'\u001b[39m\u001b[38;5;124mt know how to calculate the mrv of \u001b[39m\u001b[38;5;124m'\u001b[39m\u001b[38;5;132;01m%s\u001b[39;00m\u001b[38;5;124m'\u001b[39m\u001b[38;5;124m\"\u001b[39m \u001b[38;5;241m%\u001b[39m e)\n",
      "\u001b[0;31mNotImplementedError\u001b[0m: Don't know how to calculate the mrv of 'Subs(Derivative(sigma(_xi_1, g2, g3), _xi_1), _xi_1, -xi[0] + 1/_p)'"
     ]
    }
   ],
   "source": [
    "__eq4.subs([(N,2),(k,1)]).doit()"
   ]
  },
  {
   "cell_type": "code",
   "execution_count": null,
   "metadata": {},
   "outputs": [],
   "source": [
    "sigma_product_wp_diff_eq.subs(*expansion_z_j_order_diff_wp_lim_z_0_approx_sum.args).subs(N,2).doit()"
   ]
  },
  {
   "cell_type": "code",
   "execution_count": null,
   "metadata": {},
   "outputs": [],
   "source": [
    "sigma_product_wp_diff_eq.subs(*expansion_z_j_order_diff_wp_lim_z_0_approx_sum.args).subs(N,3).doit()"
   ]
  },
  {
   "cell_type": "code",
   "execution_count": null,
   "metadata": {},
   "outputs": [],
   "source": [
    "sigma_product_wp_diff_eq.subs(*expansion_z_j_order_diff_wp_lim_z_0_approx_sum.args).subs(N,4).doit()"
   ]
  },
  {
   "cell_type": "code",
   "execution_count": null,
   "metadata": {},
   "outputs": [],
   "source": [
    "(__c.rhs*z**(N+1)).subs(N,6).doit().expand().collect(z)"
   ]
  },
  {
   "cell_type": "code",
   "execution_count": null,
   "metadata": {},
   "outputs": [],
   "source": [
    "NN__=6\n",
    "sum([-(-1)**k*factorial(k)*z**(NN__-k)*c[k] for k in range(1,NN__+1)])"
   ]
  },
  {
   "cell_type": "code",
   "execution_count": null,
   "metadata": {},
   "outputs": [],
   "source": [
    "sum([(-1)**k*factorial(NN__-k+1)*z**(k-1)*c[NN__ - k + 1] for k in range(1,NN__+1)])"
   ]
  },
  {
   "cell_type": "code",
   "execution_count": null,
   "metadata": {},
   "outputs": [],
   "source": [
    "(-1)**k*factorial(N-k+1)*z**k*c[N - k + 1]"
   ]
  },
  {
   "cell_type": "code",
   "execution_count": null,
   "metadata": {},
   "outputs": [],
   "source": [
    "(-1)**j*factorial(N-j+1)*z**(j-1)*c[N - j + 1]"
   ]
  },
  {
   "cell_type": "code",
   "execution_count": null,
   "metadata": {},
   "outputs": [],
   "source": [
    "list(range(1,NN__+1))"
   ]
  },
  {
   "cell_type": "code",
   "execution_count": null,
   "metadata": {},
   "outputs": [],
   "source": []
  },
  {
   "cell_type": "code",
   "execution_count": null,
   "metadata": {},
   "outputs": [],
   "source": []
  },
  {
   "cell_type": "code",
   "execution_count": null,
   "metadata": {},
   "outputs": [],
   "source": []
  },
  {
   "cell_type": "code",
   "execution_count": null,
   "metadata": {},
   "outputs": [],
   "source": []
  },
  {
   "cell_type": "code",
   "execution_count": null,
   "metadata": {},
   "outputs": [],
   "source": []
  },
  {
   "cell_type": "code",
   "execution_count": null,
   "metadata": {},
   "outputs": [],
   "source": []
  }
 ],
 "metadata": {
  "kernelspec": {
   "display_name": "Python 3 (ipykernel)",
   "language": "python",
   "name": "python3"
  },
  "language_info": {
   "codemirror_mode": {
    "name": "ipython",
    "version": 3
   },
   "file_extension": ".py",
   "mimetype": "text/x-python",
   "name": "python",
   "nbconvert_exporter": "python",
   "pygments_lexer": "ipython3",
   "version": "3.11.10"
  }
 },
 "nbformat": 4,
 "nbformat_minor": 4
}
