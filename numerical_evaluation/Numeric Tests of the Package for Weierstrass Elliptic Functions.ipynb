{
 "cells": [
  {
   "cell_type": "markdown",
   "metadata": {},
   "source": [
    "# Numeric Tests of the Package for Weierstrass Elliptic Functions\n",
    "\n",
    "This notebook runs some numerical tests to assess the validity, accuracy, and performance of numeric python packages for the Weierstrass elliptic functions. Where appropriate it compares two alternative versions. "
   ]
  },
  {
   "cell_type": "code",
   "execution_count": 44,
   "metadata": {},
   "outputs": [
    {
     "name": "stdout",
     "output_type": "stream",
     "text": [
      "The autoreload extension is already loaded. To reload it, use:\n",
      "  %reload_ext autoreload\n"
     ]
    }
   ],
   "source": [
    "%load_ext autoreload\n",
    "%autoreload 2"
   ]
  },
  {
   "cell_type": "code",
   "execution_count": 84,
   "metadata": {},
   "outputs": [],
   "source": [
    "# Original package https://github.com/stla/pyweierstrass/blob/main/pyweierstrass/weierstrass.py\n",
    "from weierstrass import omega_from_g, g_from_omega, wp, invwp, wpprime, wsigma, wzeta\n",
    "\n",
    "# Modified package\n",
    "from weierstrass_modified import Weierstrass\n",
    "wst = Weierstrass()\n",
    "\n",
    "from random import random\n",
    "from mpmath import almosteq, mpc, mpf, im, timing, polyroots\n",
    "from sympy import *"
   ]
  },
  {
   "cell_type": "code",
   "execution_count": 46,
   "metadata": {},
   "outputs": [],
   "source": [
    "omega1, omega2, omega3, g2, g3, tau, G4, G6, q = symbols('omega1, omega2, omega3, g2, g3, tau, G4, G6, q')"
   ]
  },
  {
   "cell_type": "code",
   "execution_count": 87,
   "metadata": {},
   "outputs": [],
   "source": [
    "def generate_random_g2_g3(\n",
    "    num_span=100\n",
    "):\n",
    "    \"\"\"\n",
    "    Define random values for g2 and g3 \n",
    "    Picks values from within the complex square bounded by\n",
    "    -num_span ... num_span, -1i*num_span ... 1i*num_span\n",
    "    \"\"\"\n",
    "    \n",
    "    # 5% of the time return either g2 or g3 as 0 (50:50)\n",
    "    if random() < 0.05:\n",
    "        \n",
    "        x1 = mpc(real='0.0', imag='0.0')\n",
    "        x2 = mpc(\n",
    "            real=f'{num_span*2*(random() - 0.5)}', \n",
    "            imag=f'{num_span*2*(random() - 0.5)}'\n",
    "        )\n",
    "        \n",
    "        if random() < 0.5:\n",
    "            \n",
    "            g2_num = x1\n",
    "            g3_num = x2\n",
    "            \n",
    "            return g2_num, g3_num\n",
    "        \n",
    "        g2_num = x2\n",
    "        g3_num = x1\n",
    "        \n",
    "        return g2_num, g3_num\n",
    "    \n",
    "    # 95% of the time return g2 and g3 non-zero\n",
    "    g2_num = mpc(\n",
    "        real=f'{num_span*2*(random() - 0.5)}', \n",
    "        imag=f'{num_span*2*(random() - 0.5)}'\n",
    "    )\n",
    "    g3_num = mpc(\n",
    "        real=f'{num_span*2*(random() - 0.5)}', \n",
    "        imag=f'{num_span*2*(random() - 0.5)}'\n",
    "    )\n",
    "    return g2_num, g3_num"
   ]
  },
  {
   "cell_type": "markdown",
   "metadata": {},
   "source": [
    "## 1. Calculating the half-periods from the elliptic invariants"
   ]
  },
  {
   "cell_type": "markdown",
   "metadata": {},
   "source": [
    "- The series for g2 in terms of G4 is quartic in omega1. When solving for omega1 in terms of g2 the result is thus only determined up to a quartic root of unity.\n",
    "- If the series for g2 in terms of G4 is used the result for omega1 can be incorrectly multiplied by +1, -1, +i, or -i, we can observe errors when trying to recalculate g2 and g3 from omega and the mistake manifests as giving the wrong sign for g3.\n",
    "- One solution is to include the series for g3 in terms of G6 to decide whether to multiply the periods by the imaginary unit or not, \n",
    "    then the periods are defined up to a sign +/-1. In other words, the ratio g2/g3 is quadratic in the half-periods not quartic. \n",
    "- As the half periods are only defined up to a sign because of periodicity anyway this suffices and elliminates the problem of obtaining the wrong sign for g3 when calculating from omega.\n",
    "- By G4 and G6 we mean G4(1, tau), G6(1, tau) with G_2k(tau) = 2 * zeta(2*k) * E_2k(tau), with zeta the Riemann zeta function and E the Eisenstein series expressible in terms of theta functions\n",
    "- The original package has since merged a fix for this issue and implemented the suggestion below. (see https://github.com/stla/pyweierstrass/issues/3) \n",
    "- The issue is resolved and the below tests are now passing."
   ]
  },
  {
   "cell_type": "markdown",
   "metadata": {},
   "source": [
    "So instead of doing this:"
   ]
  },
  {
   "cell_type": "code",
   "execution_count": 55,
   "metadata": {},
   "outputs": [
    {
     "data": {
      "text/latex": [
       "$\\displaystyle g_{2} = \\frac{15 G_{4}}{4 \\omega_{1}^{4}}$"
      ],
      "text/plain": [
       "Eq(g2, 15*G4/(4*omega1**4))"
      ]
     },
     "execution_count": 55,
     "metadata": {},
     "output_type": "execute_result"
    }
   ],
   "source": [
    "g2_G4_eq = Eq(g2, Rational(60, 2**4) * G4 / omega1**4)\n",
    "g2_G4_eq"
   ]
  },
  {
   "cell_type": "code",
   "execution_count": 56,
   "metadata": {
    "scrolled": true
   },
   "outputs": [
    {
     "data": {
      "text/latex": [
       "$\\displaystyle \\omega_{1} = \\frac{\\sqrt[4]{15} \\sqrt{2} \\sqrt[4]{\\frac{G_{4}}{g_{2}}}}{2}$"
      ],
      "text/plain": [
       "Eq(omega1, 15**(1/4)*sqrt(2)*(G4/g2)**(1/4)/2)"
      ]
     },
     "execution_count": 56,
     "metadata": {},
     "output_type": "execute_result"
    }
   ],
   "source": [
    "Eq(omega1, (Rational(60, 2**4) * G4/ g2) ** (Rational(1, 4)))"
   ]
  },
  {
   "cell_type": "markdown",
   "metadata": {},
   "source": [
    "It is better to do this:"
   ]
  },
  {
   "cell_type": "code",
   "execution_count": 62,
   "metadata": {},
   "outputs": [
    {
     "data": {
      "text/latex": [
       "$\\displaystyle g_{2} = \\frac{15 G_{4}}{4 \\omega_{1}^{4}}$"
      ],
      "text/plain": [
       "Eq(g2, 15*G4/(4*omega1**4))"
      ]
     },
     "execution_count": 62,
     "metadata": {},
     "output_type": "execute_result"
    }
   ],
   "source": [
    "g2_G4_eq"
   ]
  },
  {
   "cell_type": "code",
   "execution_count": 57,
   "metadata": {},
   "outputs": [
    {
     "data": {
      "text/latex": [
       "$\\displaystyle g_{3} = \\frac{35 G_{6}}{16 \\omega_{1}^{6}}$"
      ],
      "text/plain": [
       "Eq(g3, 35*G6/(16*omega1**6))"
      ]
     },
     "execution_count": 57,
     "metadata": {},
     "output_type": "execute_result"
    }
   ],
   "source": [
    "g3_G6_eq = Eq(g3, Rational(140,2**6) * G6 / omega1**6 )\n",
    "g3_G6_eq"
   ]
  },
  {
   "cell_type": "code",
   "execution_count": 58,
   "metadata": {},
   "outputs": [
    {
     "data": {
      "text/latex": [
       "$\\displaystyle \\frac{g_{2}}{g_{3}} = \\frac{12 G_{4} \\omega_{1}^{2}}{7 G_{6}}$"
      ],
      "text/plain": [
       "Eq(g2/g3, 12*G4*omega1**2/(7*G6))"
      ]
     },
     "execution_count": 58,
     "metadata": {},
     "output_type": "execute_result"
    }
   ],
   "source": [
    "Eq(g2_G4_eq.lhs / g3_G6_eq.lhs, g2_G4_eq.rhs / g3_G6_eq.rhs)"
   ]
  },
  {
   "cell_type": "code",
   "execution_count": 60,
   "metadata": {},
   "outputs": [
    {
     "data": {
      "text/latex": [
       "$\\displaystyle \\omega_{1} = \\frac{\\sqrt{21} \\sqrt{\\frac{G_{6} g_{2}}{G_{4} g_{3}}}}{6}$"
      ],
      "text/plain": [
       "Eq(omega1, sqrt(21)*sqrt(G6*g2/(G4*g3))/6)"
      ]
     },
     "execution_count": 60,
     "metadata": {},
     "output_type": "execute_result"
    }
   ],
   "source": [
    "Eq(omega1, sqrt(Rational(7, 12) * g2 * G6 / (g3 * G4)))"
   ]
  },
  {
   "cell_type": "markdown",
   "metadata": {},
   "source": [
    "Calulating half-periods from g2 and g3, then calculating g2 and g3 from the half-periods, then comparing the calculated values to the orignal g2 and g3 values."
   ]
  },
  {
   "cell_type": "code",
   "execution_count": 102,
   "metadata": {},
   "outputs": [],
   "source": [
    "def test_accuracy_of_g_from_omega_and_omega_from_g(\n",
    "    omega_from_g_function,\n",
    "    g_from_omega_function,\n",
    "    Ntests = 1000,\n",
    "    num_span = 100,\n",
    "    tolerance = 1e-10,\n",
    "    verbose=True\n",
    "):\n",
    "\n",
    "    err_count = 0\n",
    "    for _ in range(Ntests):\n",
    "        try:\n",
    "\n",
    "            # Define random values for g2 and g3 \n",
    "            g2_num, g3_num = generate_random_g2_g3()\n",
    "\n",
    "            # Calculate the half-periods from g2 and g3\n",
    "            omegas = omega_from_g_function(g2_num, g3_num)\n",
    "            omega1 = omegas[0]\n",
    "            omega2 = omegas[1]\n",
    "\n",
    "            # Swap the sign of omega2 if needed \n",
    "            # to get an allowed value for tau = omega2/omega1\n",
    "            sign_flipped = False\n",
    "            if im(omega2/omega1) <= 0:\n",
    "                omega2 = -omega2\n",
    "                sign_flipped = True\n",
    "\n",
    "            # Calculate g2 and g3 from the half-periods\n",
    "            g2calc, g3calc = g_from_omega_function(omega1, omega2)\n",
    "\n",
    "            # Compare the accuracy of the calculated value of g2 to the original\n",
    "            err_1 = False\n",
    "            if not almosteq(g2_num, g2calc, tolerance):\n",
    "                err_msg_1 = f'g2calc={g2calc} not within tolerance for g2_num={g2_num}'\n",
    "                err_1 = True\n",
    "\n",
    "            # Compare the accuracy of the calculated value of g3 to the original\n",
    "            err_2 = False\n",
    "            if not almosteq(g3_num, g3calc, tolerance):\n",
    "                err_msg_2 = f'g3calc={g3calc} not within tolerance for g3_num={g3_num}'\n",
    "                err_2 =True\n",
    "\n",
    "            # Raise an exception if any calculated values for g2 and g3 \n",
    "            # differ from the original values by more than the tolerance\n",
    "            err_msg = \"\"\n",
    "            if err_1:\n",
    "                err_msg += err_msg_1 + '\\n'\n",
    "            if err_2:\n",
    "                err_msg += err_msg_2 + '\\n'\n",
    "            if err_1 or err_2:\n",
    "                raise Exception(err_msg)\n",
    "\n",
    "        except Exception as e:\n",
    "            \n",
    "            # Track the error rate \n",
    "            err_count += 1\n",
    "\n",
    "            if verbose:\n",
    "                # Print the values and error messages \n",
    "                # for which accuracy was outside the tolerance\n",
    "                print('Error:\\n', e)\n",
    "                print('g2', g2_num)\n",
    "                print('g3', g3_num)\n",
    "                print('sign_flipped', sign_flipped)\n",
    "\n",
    "    # Calculate the error rate\n",
    "    err_rate = err_count / Ntests\n",
    "    print(\"Error rate:\", err_rate)"
   ]
  },
  {
   "cell_type": "code",
   "execution_count": 107,
   "metadata": {},
   "outputs": [
    {
     "name": "stdout",
     "output_type": "stream",
     "text": [
      "Error:\n",
      " g3calc=(-3.68102078870108e-7 - 8.31781007289313e-7j) not within tolerance for g3_num=(0.0 + 0.0j)\n",
      "\n",
      "g2 (-64.1494222636362 + 66.2304287122751j)\n",
      "g3 (0.0 + 0.0j)\n",
      "sign_flipped False\n",
      "Error:\n",
      " g3calc=(6.53597800229647e-8 + 8.09324253577535e-8j) not within tolerance for g3_num=(0.0 + 0.0j)\n",
      "\n",
      "g2 (29.1935334837339 + 59.9905852000635j)\n",
      "g3 (0.0 + 0.0j)\n",
      "sign_flipped False\n",
      "Error:\n",
      " g3calc=(-1.59487915744181e-7 + 1.00856578928121e-7j) not within tolerance for g3_num=(0.0 + 0.0j)\n",
      "\n",
      "g2 (-28.4325923779699 - 4.22954970886951j)\n",
      "g3 (0.0 + 0.0j)\n",
      "sign_flipped False\n",
      "Error:\n",
      " g3calc=(-3.13901316753935e-8 + 1.05571960575334e-7j) not within tolerance for g3_num=(0.0 + 0.0j)\n",
      "\n",
      "g2 (-4.4095144848928 + 22.6021259788819j)\n",
      "g3 (0.0 + 0.0j)\n",
      "sign_flipped False\n",
      "Error:\n",
      " g3calc=(-9.81688759755205e-7 - 4.33583132956172e-7j) not within tolerance for g3_num=(0.0 + 0.0j)\n",
      "\n",
      "g2 (-91.5770473759297 + 23.0256256045914j)\n",
      "g3 (0.0 + 0.0j)\n",
      "sign_flipped False\n",
      "Error:\n",
      " g3calc=(-3.70530436610565e-8 - 1.97994895035794e-9j) not within tolerance for g3_num=(0.0 + 0.0j)\n",
      "\n",
      "g2 (-68.148521153265 - 42.6486937128222j)\n",
      "g3 (0.0 + 0.0j)\n",
      "sign_flipped False\n",
      "Error:\n",
      " g3calc=(-6.51773719685149e-7 + 1.83596794310957e-6j) not within tolerance for g3_num=(0.0 + 0.0j)\n",
      "\n",
      "g2 (89.5041393676437 + 83.5516303724176j)\n",
      "g3 (0.0 + 0.0j)\n",
      "sign_flipped False\n",
      "Error:\n",
      " g3calc=(-1.05500024483725e-8 - 3.26241199526567e-7j) not within tolerance for g3_num=(0.0 + 0.0j)\n",
      "\n",
      "g2 (-68.3384215058627 + 41.4439650378666j)\n",
      "g3 (0.0 + 0.0j)\n",
      "sign_flipped False\n",
      "Error:\n",
      " g3calc=(8.21638095741813e-8 + 1.35760754580725e-7j) not within tolerance for g3_num=(0.0 + 0.0j)\n",
      "\n",
      "g2 (55.2586996060458 + 8.96133000442145j)\n",
      "g3 (0.0 + 0.0j)\n",
      "sign_flipped False\n",
      "Error:\n",
      " g3calc=(-2.30874740427079e-7 - 1.35868308715963e-7j) not within tolerance for g3_num=(0.0 + 0.0j)\n",
      "\n",
      "g2 (-31.4314868166969 - 37.8832120467564j)\n",
      "g3 (0.0 + 0.0j)\n",
      "sign_flipped False\n",
      "Error:\n",
      " g3calc=(-4.02797903720324e-7 + 6.41689366067613e-8j) not within tolerance for g3_num=(0.0 + 0.0j)\n",
      "\n",
      "g2 (10.0910298693166 + 95.4581577758751j)\n",
      "g3 (0.0 + 0.0j)\n",
      "sign_flipped False\n",
      "Error:\n",
      " g3calc=(-2.58864928061068e-7 - 1.10227207970394e-6j) not within tolerance for g3_num=(0.0 + 0.0j)\n",
      "\n",
      "g2 (76.2029461285522 - 61.2924361536726j)\n",
      "g3 (0.0 + 0.0j)\n",
      "sign_flipped False\n",
      "Error:\n",
      " g3calc=(-2.25805117443043e-7 + 8.49511558531317e-7j) not within tolerance for g3_num=(0.0 + 0.0j)\n",
      "\n",
      "g2 (-58.6779308992036 - 49.1034008463358j)\n",
      "g3 (0.0 + 0.0j)\n",
      "sign_flipped False\n",
      "Error:\n",
      " g3calc=(-1.77537808084676e-7 - 6.14269656627377e-7j) not within tolerance for g3_num=(0.0 + 0.0j)\n",
      "\n",
      "g2 (50.552189076752 - 43.5539287506034j)\n",
      "g3 (0.0 + 0.0j)\n",
      "sign_flipped False\n",
      "Error:\n",
      " g3calc=(2.28109346043651e-7 - 3.39309997445537e-7j) not within tolerance for g3_num=(0.0 + 0.0j)\n",
      "\n",
      "g2 (41.5915353543187 - 99.8782331297247j)\n",
      "g3 (0.0 + 0.0j)\n",
      "sign_flipped False\n",
      "Error:\n",
      " g3calc=(-2.65833847399988e-7 + 5.07544397573799e-7j) not within tolerance for g3_num=(0.0 + 0.0j)\n",
      "\n",
      "g2 (-34.5943300930207 - 39.00469869991j)\n",
      "g3 (0.0 + 0.0j)\n",
      "sign_flipped False\n",
      "Error:\n",
      " g3calc=(6.12428302830774e-7 + 3.2149740902241e-7j) not within tolerance for g3_num=(0.0 + 0.0j)\n",
      "\n",
      "g2 (58.0065144386565 + 65.4837290235278j)\n",
      "g3 (0.0 + 0.0j)\n",
      "sign_flipped False\n",
      "Error:\n",
      " g3calc=(2.10885151761025e-7 - 3.12344277896232e-7j) not within tolerance for g3_num=(0.0 + 0.0j)\n",
      "\n",
      "g2 (-71.5390544402904 + 9.18466594379961j)\n",
      "g3 (0.0 + 0.0j)\n",
      "sign_flipped False\n",
      "Error:\n",
      " g3calc=(2.33631558139154e-8 - 3.71025168729302e-8j) not within tolerance for g3_num=(0.0 + 0.0j)\n",
      "\n",
      "g2 (21.7819244680026 - 3.26873061106019j)\n",
      "g3 (0.0 + 0.0j)\n",
      "sign_flipped False\n",
      "Error:\n",
      " g3calc=(-2.51086662726367e-7 + 1.89202867805406e-8j) not within tolerance for g3_num=(0.0 + 0.0j)\n",
      "\n",
      "g2 (3.13538921765764 + 62.4788670448859j)\n",
      "g3 (0.0 + 0.0j)\n",
      "sign_flipped False\n",
      "Error:\n",
      " g3calc=(6.634013778617e-8 + 9.27478512525944e-8j) not within tolerance for g3_num=(0.0 + 0.0j)\n",
      "\n",
      "g2 (94.8999873135191 + 10.4489408202431j)\n",
      "g3 (0.0 + 0.0j)\n",
      "sign_flipped False\n",
      "Error:\n",
      " g3calc=(-1.39795173747744e-7 + 6.09260162529223e-7j) not within tolerance for g3_num=(0.0 + 0.0j)\n",
      "\n",
      "g2 (-54.1946336796428 - 43.2866230520605j)\n",
      "g3 (0.0 + 0.0j)\n",
      "sign_flipped False\n",
      "Error:\n",
      " g3calc=(-3.76477538377582e-7 - 1.19210323130849e-7j) not within tolerance for g3_num=(0.0 + 0.0j)\n",
      "\n",
      "g2 (-14.8279431498833 + 71.5167090762692j)\n",
      "g3 (0.0 + 0.0j)\n",
      "sign_flipped False\n",
      "Error:\n",
      " g3calc=(-5.69380288157476e-7 + 1.22630412535689e-7j) not within tolerance for g3_num=(0.0 + 0.0j)\n",
      "\n",
      "g2 (-65.9854211005231 - 26.5220181127822j)\n",
      "g3 (0.0 + 0.0j)\n",
      "sign_flipped False\n",
      "Error:\n",
      " g3calc=(-2.14339183314248e-7 - 2.78274113278432e-7j) not within tolerance for g3_num=(0.0 + 0.0j)\n",
      "\n",
      "g2 (-38.2146308168464 + 54.7184025883488j)\n",
      "g3 (0.0 + 0.0j)\n",
      "sign_flipped False\n",
      "Error:\n",
      " g3calc=(-3.67258520865404e-7 + 3.20005559098213e-7j) not within tolerance for g3_num=(0.0 + 0.0j)\n",
      "\n",
      "g2 (45.7151315629555 + 88.2768533679053j)\n",
      "g3 (0.0 + 0.0j)\n",
      "sign_flipped False\n",
      "Error:\n",
      " g3calc=(-6.20376503821853e-8 - 2.31270357032413e-8j) not within tolerance for g3_num=(0.0 + 0.0j)\n",
      "\n",
      "g2 (-18.0936744326211 + 74.6192951268733j)\n",
      "g3 (0.0 + 0.0j)\n",
      "sign_flipped False\n",
      "Error:\n",
      " g3calc=(-9.52618998186906e-8 + 8.06983720224743e-8j) not within tolerance for g3_num=(0.0 + 0.0j)\n",
      "\n",
      "g2 (-21.931695756556 + 33.5736374869094j)\n",
      "g3 (0.0 + 0.0j)\n",
      "sign_flipped False\n",
      "Error:\n",
      " g3calc=(-2.71271748272629e-7 + 1.95692188422489e-7j) not within tolerance for g3_num=(0.0 + 0.0j)\n",
      "\n",
      "g2 (-26.1174110929345 + 35.7776162818004j)\n",
      "g3 (0.0 + 0.0j)\n",
      "sign_flipped False\n",
      "Error:\n",
      " g3calc=(-5.15844499304596e-7 + 9.68775315656498e-7j) not within tolerance for g3_num=(0.0 + 0.0j)\n",
      "\n",
      "g2 (-64.3966032210525 - 73.2735891772573j)\n",
      "g3 (0.0 + 0.0j)\n",
      "sign_flipped False\n",
      "Error:\n",
      " g3calc=(-1.59136328817976e-5 - 3.59379653489562e-7j) not within tolerance for g3_num=(0.0 + 0.0j)\n",
      "\n",
      "g2 (-52.9360321099629 - 94.918617240328j)\n",
      "g3 (0.0 + 0.0j)\n",
      "sign_flipped False\n",
      "Error:\n",
      " g3calc=(8.93687262834976e-8 + 1.03780392239574e-7j) not within tolerance for g3_num=(0.0 + 0.0j)\n",
      "\n",
      "g2 (-39.5160472151718 - 1.96362239295127j)\n",
      "g3 (0.0 + 0.0j)\n",
      "sign_flipped False\n",
      "Error rate: 0.032\n"
     ]
    }
   ],
   "source": [
    "# Original package\n",
    "test_accuracy_of_g_from_omega_and_omega_from_g(\n",
    "    omega_from_g,\n",
    "    g_from_omega\n",
    ")"
   ]
  },
  {
   "cell_type": "code",
   "execution_count": 108,
   "metadata": {},
   "outputs": [
    {
     "name": "stdout",
     "output_type": "stream",
     "text": [
      "Error rate: 0.0\n"
     ]
    }
   ],
   "source": [
    "# Using the modified package\n",
    "test_accuracy_of_g_from_omega_and_omega_from_g(\n",
    "    wst.omega_from_g,\n",
    "    wst.g_from_omega\n",
    ")"
   ]
  },
  {
   "cell_type": "markdown",
   "metadata": {},
   "source": [
    "## 2. Calculating the roots e in terms of theta functions"
   ]
  },
  {
   "cell_type": "markdown",
   "metadata": {},
   "source": [
    "- The roots e1, e2, e3 can be expressed in terms of jacobi theta functions: https://dlmf.nist.gov/23.6\n",
    "- If the half-periods are known or already calculated, it is approximately 10x faster to calculate the roots e1, e2, e3 using known formulas in terms of theta functions than to numerically solve the cubic 4 * z**3 - g2 * z - g3 = 0\n",
    "- Note: It seems the original package has now switched to using theta functions for the roots"
   ]
  },
  {
   "cell_type": "code",
   "execution_count": 109,
   "metadata": {},
   "outputs": [
    {
     "name": "stdout",
     "output_type": "stream",
     "text": [
      "(3.51793729794135 - 2.55388078827795j) (-0.195169087429963 - 0.866057974287757j) (-3.32276821051139 + 3.41993876256571j)\n",
      "(-0.195169087429963 - 0.866057974287757j) (3.51793729794131 - 2.55388078827791j) (-3.32276821051135 + 3.41993876256567j)\n"
     ]
    }
   ],
   "source": [
    "g2_num = mpc(real=f'{num_span * 2*(random() - 0.5)}', imag=f'{num_span * 2*(random() - 0.5)}')\n",
    "g3_num = mpc(real=f'{num_span * 2*(random() - 0.5)}', imag=f'{num_span * 2*(random() - 0.5)}')\n",
    "\n",
    "# Calculate the half-periods from g2 and g3\n",
    "omegas = wst.omega_from_g(g2_num, g3_num)\n",
    "omega1 = omegas[0]\n",
    "omega2 = omegas[1]\n",
    "\n",
    "# Swap the sign of omega2 if needed to get an allowed value for tau = omega2/omega1\n",
    "if im(omega2/omega1) <= 0:\n",
    "    omega2 = -omega2\n",
    "\n",
    "# Obtain the roots e1, e2, e3 using omega1 and omega2 with theta functions in the modified package    \n",
    "e1_, e2_, e3_ = wst.roots_from_omega1_omega2(omega1, omega2)\n",
    "\n",
    "# Obtain the roots e1, e2, e3 using g2 and g3, solve the cubic with the original package    \n",
    "e1, e2, e3 = polyroots([4, 0, -g2_num, -g3_num])\n",
    "\n",
    "print(e1_, e2_, e3_)\n",
    "print(e1, e2, e3)"
   ]
  },
  {
   "cell_type": "code",
   "execution_count": 110,
   "metadata": {},
   "outputs": [
    {
     "name": "stdout",
     "output_type": "stream",
     "text": [
      "average_time_roots_from_omega =  0.0002612016319617395\n",
      "average_time_roots_from_g =  0.0016737092449038752\n",
      "average_time_roots_from_omega/average_time_roots_from_g =  0.15606153383991192\n"
     ]
    }
   ],
   "source": [
    "Ntests = 100\n",
    "time_roots_from_omega = 0\n",
    "time_roots_from_g = 0\n",
    "\n",
    "for _ in range(Ntests):\n",
    "    try:\n",
    "        \n",
    "        # Define random values for g2 and g3 \n",
    "        # Picks values from within the complex square -num_span ... num_span, -1i*num_span ... 1i*num_span\n",
    "        g2_num = mpc(real=f'{num_span * 2*(random() - 0.5)}', imag=f'{num_span * 2*(random() - 0.5)}')\n",
    "        g3_num = mpc(real=f'{num_span * 2*(random() - 0.5)}', imag=f'{num_span * 2*(random() - 0.5)}')\n",
    "        \n",
    "        # Calculate the half-periods from g2 and g3\n",
    "        omegas = wst.omega_from_g(g2_num, g3_num)\n",
    "        omega1 = omegas[0]\n",
    "        omega2 = omegas[1]\n",
    "\n",
    "        # Swap the sign of omega2 if needed to get an allowed value for tau = omega2/omega1\n",
    "        if im(omega2/omega1) <= 0:\n",
    "            omega2 = -omega2\n",
    "            \n",
    "        # Obtain the roots e1, e2, e3 using omega1 and omega2 with theta functions and time it    \n",
    "        time_roots_from_omega += timing(wst.roots_from_omega1_omega2, omega1, omega2)\n",
    "        \n",
    "        # Obtain the roots e1, e2, e3 using g2 and g3, solve the cubic and time it    \n",
    "        time_roots_from_g += timing(wst.sorted_roots_from_g2_g3, g2_num, g3_num)\n",
    "        \n",
    "    except Exception as e:\n",
    "        print(e)\n",
    "\n",
    "# Calculate average times\n",
    "average_time_roots_from_omega = time_roots_from_omega / Ntests\n",
    "average_time_roots_from_g = time_roots_from_g / Ntests\n",
    "\n",
    "print(\"average_time_roots_from_omega = \", average_time_roots_from_omega)\n",
    "print(\"average_time_roots_from_g = \", average_time_roots_from_g)\n",
    "print(\"average_time_roots_from_omega/average_time_roots_from_g = \", \n",
    "      average_time_roots_from_omega/average_time_roots_from_g)"
   ]
  },
  {
   "cell_type": "markdown",
   "metadata": {},
   "source": [
    "## 3. Picking the correct option from a choice of two values when inverting the Weierstrass P function"
   ]
  },
  {
   "cell_type": "markdown",
   "metadata": {},
   "source": [
    "- The Weierstrass Elliptic function is a meromorphic function of order 2 and thus there are two non-congruent solutions to the equation: wp(z) = c\n",
    "- This means care must be taken to pick the right one when attempting to invert the Weierstrass function.\n",
    "- If the value of the derivative, i.e. the value of Weirstrass P prime wpp at z, is known, this can be used to pick from the two possible choices of z.\n",
    "- As the Weierstrass P function is even, if wp(z) = c then wp(-z) = c, but as Weierstrass P Prime is odd wpp(-z) = -wpp(z) hence if we know wpp(z) we can pick the right sign for z. "
   ]
  },
  {
   "cell_type": "markdown",
   "metadata": {},
   "source": [
    "## 4. Testing the accuracy of the inverse Weierstrass P function"
   ]
  },
  {
   "cell_type": "code",
   "execution_count": 111,
   "metadata": {},
   "outputs": [],
   "source": [
    "def test_accuracy_of_inverse_weierstrass(\n",
    "    omega_from_g_function,\n",
    "    w_from_z_and_omega_function,\n",
    "    inv_w_from_omega_and_w_function,\n",
    "    Ntests=1000,\n",
    "    num_span=100,\n",
    "    tolerance=1e-10,\n",
    "    verbose=False\n",
    "):\n",
    "\n",
    "    err_count = 0\n",
    "    for _ in range(Ntests):\n",
    "        try:\n",
    "\n",
    "            # Define a random value for z\n",
    "            # Picks values from within the complex bounded by \n",
    "            # -num_span ... num_span, -1i*num_span ... 1i*num_span\n",
    "            z = mpc(\n",
    "                real=f'{num_span * 2*(random() - 0.5)}', \n",
    "                imag=f'{num_span * 2*(random() - 0.5)}'\n",
    "            )\n",
    "\n",
    "            # Define random values for g2 and g3 \n",
    "            g2_num, g3_num = generate_random_g2_g3()\n",
    "\n",
    "            # Calculate the half-periods from g2 and g3\n",
    "            omegas = omega_from_g_function(g2_num, g3_num)\n",
    "            omega2, omega1 = (omegas[0], omegas[1])\n",
    "\n",
    "            # Swap the sign of omega2 if needed \n",
    "            # to get an allowed value for tau = omega2/omega1\n",
    "            if im(omega2/omega1) <= 0:\n",
    "                omega2 = -omega2\n",
    "            omega = (omega1, omega2)\n",
    "\n",
    "            # Calculate the Weierstrass P function at z\n",
    "            w_num = w_from_z_and_omega_function(z, omega)\n",
    "\n",
    "            # Calculate the value for z \n",
    "            # by evaluating the inverse Weierstrass P function \n",
    "            # at the corresponding value of Weierstrass P, w_num.\n",
    "            # This should be equal to the starting value for z \n",
    "            # modulo lattice periods\n",
    "            z_calc = inv_w_from_omega_and_w_function(w_num, omega)\n",
    "\n",
    "            # Calculate the Weierstrass P function at z_calc\n",
    "            # By comparing the values for Weierstrass P \n",
    "            # we can test the inversion function without dealing with\n",
    "            # modulo lattice periods\n",
    "            w_z_calc = w_from_z_and_omega_function(z_calc, omega)\n",
    "\n",
    "            # Evaluate the difference between the Weierstrass P function\n",
    "            # evaluated at the original z and the z obtained from the inverse Weierstrass\n",
    "            if not almosteq(w_num, w_z_calc, tolerance):\n",
    "                raise Exception(\n",
    "                    '''\n",
    "                    The value for Weierstrass P function evaluated at the original z value\n",
    "                    and at the value of z calculated from the inverse Weierstrass function differ\n",
    "                    by more than the tolerance.'\n",
    "                    '''\n",
    "                )\n",
    "\n",
    "        except Exception as e:\n",
    "\n",
    "            # Track the error count\n",
    "            err_count += 1\n",
    "\n",
    "            if verbose:\n",
    "                print('Error:\\n', e)\n",
    "                print('w_num', w_num)\n",
    "                print('w_z_calc', w_z_calc)\n",
    "       \n",
    "    # Calculate the error rate\n",
    "    err_rate = err_count / Ntests\n",
    "    print(\"Error rate:\", err_rate)"
   ]
  },
  {
   "cell_type": "code",
   "execution_count": 112,
   "metadata": {},
   "outputs": [
    {
     "name": "stdout",
     "output_type": "stream",
     "text": [
      "Error rate: 0.0\n"
     ]
    }
   ],
   "source": [
    "# Original package\n",
    "test_accuracy_of_inverse_weierstrass(\n",
    "    omega_from_g,\n",
    "    wp,\n",
    "    invwp,\n",
    "    Ntests=1000,\n",
    "    num_span=100,\n",
    "    tolerance=1e-10,\n",
    "    verbose=True\n",
    ")"
   ]
  },
  {
   "cell_type": "code",
   "execution_count": 113,
   "metadata": {},
   "outputs": [
    {
     "name": "stdout",
     "output_type": "stream",
     "text": [
      "Error rate: 0.0\n"
     ]
    }
   ],
   "source": [
    "# Modified package\n",
    "test_accuracy_of_inverse_weierstrass(\n",
    "    wst.omega_from_g,\n",
    "    wst.wp,\n",
    "    wst.invwp,\n",
    "    Ntests=1000,\n",
    "    num_span=100,\n",
    "    tolerance=1e-10,\n",
    "    verbose=True\n",
    ")"
   ]
  },
  {
   "cell_type": "markdown",
   "metadata": {},
   "source": [
    "# 5. Testing the accuracy of Weierstrass P Prime (Weierstrass P derivative) "
   ]
  },
  {
   "cell_type": "code",
   "execution_count": 114,
   "metadata": {},
   "outputs": [],
   "source": [
    "def test_accuracy_of_weierstrass_p_prime(\n",
    "    omega_from_g_function,\n",
    "    w_from_z_and_omega_function,\n",
    "    w_prime_from_z_and_omega_function,\n",
    "    Ntests=1000,\n",
    "    num_span=100,\n",
    "    tolerance=1e-10,\n",
    "    verbose=False\n",
    "):\n",
    "    \"\"\"\n",
    "    Note: this test does not check the sign of \n",
    "    Weierstrass P Prime as its value is squared.\n",
    "    See also the test for Weierstrass Zeta as it also \n",
    "    involves Weierstrass P Prime but is not squared.\n",
    "    \"\"\"\n",
    "\n",
    "    err_count = 0\n",
    "    for _ in range(Ntests):\n",
    "        try:\n",
    "\n",
    "            # Define a random value for z\n",
    "            # Picks values from within the complex square bounded by \n",
    "            # -num_span ... num_span, -1i*num_span ... 1i*num_span\n",
    "            z = mpc(\n",
    "                real=f'{num_span * 2*(random() - 0.5)}', \n",
    "                imag=f'{num_span * 2*(random() - 0.5)}'\n",
    "            )\n",
    "\n",
    "            # Define random values for g2 and g3 \n",
    "            g2_num, g3_num = generate_random_g2_g3()\n",
    "\n",
    "            # Calculate the half-periods from g2 and g3\n",
    "            omegas = omega_from_g_function(g2_num, g3_num)\n",
    "            omega2, omega1 = (omegas[0], omegas[1])\n",
    "\n",
    "            # Swap the sign of omega2 if needed \n",
    "            # to get an allowed value for tau = omega2/omega1\n",
    "            if im(omega2/omega1) <= 0:\n",
    "                omega2 = -omega2\n",
    "            omega = (omega1, omega2)\n",
    "\n",
    "            # Calculate the Weierstrass P function at z\n",
    "            # and the value of the corresponding cubic\n",
    "            w_num = w_from_z_and_omega_function(z, omega)\n",
    "            w_prime_cubic = 4 * w_num ** 3 - g2_num * w_num - g3_num\n",
    "\n",
    "            # Calculate the Weierstrass P Prime function at z and its square\n",
    "            w_prime = w_prime_from_z_and_omega_function(z, omega)\n",
    "            w_prime_sqrd = w_prime ** 2\n",
    "\n",
    "            # Evaluate the difference between the Weierstrass P function in the cubic\n",
    "            # and the Weierstrass P Prime function squared\n",
    "            if not almosteq(w_prime_cubic, w_prime_sqrd, tolerance):\n",
    "                raise Exception(\n",
    "                    '''\n",
    "                    The value for Weierstrass P function evaluated in the cubic\n",
    "                    and the value for Weierstrass P Prime squared differ\n",
    "                    by more than the tolerance.'\n",
    "                    '''\n",
    "                )\n",
    "\n",
    "        except Exception as e:\n",
    "\n",
    "            # Track the error count\n",
    "            err_count += 1\n",
    "\n",
    "            if verbose:\n",
    "                print('Error:\\n', e)\n",
    "                print('w_prime_cubic', w_prime_cubic)\n",
    "                print('w_prime_sqrd', w_prime_sqrd)\n",
    "       \n",
    "    # Calculate the error rate\n",
    "    err_rate = err_count / Ntests\n",
    "    print(\"Error rate:\", err_rate)"
   ]
  },
  {
   "cell_type": "code",
   "execution_count": 115,
   "metadata": {},
   "outputs": [
    {
     "name": "stdout",
     "output_type": "stream",
     "text": [
      "Error:\n",
      " \n",
      "                    The value for Weierstrass P function evaluated in the cubic\n",
      "                    and the value for Weierstrass P Prime squared differ\n",
      "                    by more than the tolerance.'\n",
      "                    \n",
      "w_prime_cubic (221.573642875936 + 460.558815436636j)\n",
      "w_prime_sqrd (221.573643236375 + 460.558815214211j)\n",
      "Error:\n",
      " \n",
      "                    The value for Weierstrass P function evaluated in the cubic\n",
      "                    and the value for Weierstrass P Prime squared differ\n",
      "                    by more than the tolerance.'\n",
      "                    \n",
      "w_prime_cubic (-383.512020518361 - 91.7621748791832j)\n",
      "w_prime_sqrd (-383.512020391969 - 91.7621749756547j)\n",
      "Error:\n",
      " \n",
      "                    The value for Weierstrass P function evaluated in the cubic\n",
      "                    and the value for Weierstrass P Prime squared differ\n",
      "                    by more than the tolerance.'\n",
      "                    \n",
      "w_prime_cubic (76.4890780839134 + 3.78896614205717j)\n",
      "w_prime_sqrd (76.48907815414 + 3.78896633104666j)\n",
      "Error:\n",
      " \n",
      "                    The value for Weierstrass P function evaluated in the cubic\n",
      "                    and the value for Weierstrass P Prime squared differ\n",
      "                    by more than the tolerance.'\n",
      "                    \n",
      "w_prime_cubic (16.5289036993946 - 0.258228974362127j)\n",
      "w_prime_sqrd (16.5289036667149 - 0.258228931232658j)\n",
      "Error:\n",
      " \n",
      "                    The value for Weierstrass P function evaluated in the cubic\n",
      "                    and the value for Weierstrass P Prime squared differ\n",
      "                    by more than the tolerance.'\n",
      "                    \n",
      "w_prime_cubic (4008.75198521408 + 1743.50929927054j)\n",
      "w_prime_sqrd (4008.75198458678 + 1743.50929920958j)\n",
      "Error:\n",
      " \n",
      "                    The value for Weierstrass P function evaluated in the cubic\n",
      "                    and the value for Weierstrass P Prime squared differ\n",
      "                    by more than the tolerance.'\n",
      "                    \n",
      "w_prime_cubic (89.9928886751627 + 0.337889328225188j)\n",
      "w_prime_sqrd (89.992888838488 + 0.337889544127318j)\n",
      "Error:\n",
      " \n",
      "                    The value for Weierstrass P function evaluated in the cubic\n",
      "                    and the value for Weierstrass P Prime squared differ\n",
      "                    by more than the tolerance.'\n",
      "                    \n",
      "w_prime_cubic (-6628.33978850211 - 128.589087296017j)\n",
      "w_prime_sqrd (-6628.33978808558 - 128.589086582222j)\n",
      "Error:\n",
      " \n",
      "                    The value for Weierstrass P function evaluated in the cubic\n",
      "                    and the value for Weierstrass P Prime squared differ\n",
      "                    by more than the tolerance.'\n",
      "                    \n",
      "w_prime_cubic (-123.454535756047 + 74.8241748796978j)\n",
      "w_prime_sqrd (-123.454535566546 + 74.8241748430015j)\n",
      "Error:\n",
      " \n",
      "                    The value for Weierstrass P function evaluated in the cubic\n",
      "                    and the value for Weierstrass P Prime squared differ\n",
      "                    by more than the tolerance.'\n",
      "                    \n",
      "w_prime_cubic (24.8900616134415 + 26.8458078758563j)\n",
      "w_prime_sqrd (24.8900626938573 + 26.8458090704186j)\n",
      "Error:\n",
      " \n",
      "                    The value for Weierstrass P function evaluated in the cubic\n",
      "                    and the value for Weierstrass P Prime squared differ\n",
      "                    by more than the tolerance.'\n",
      "                    \n",
      "w_prime_cubic (433.986703991469 - 968.349774647426j)\n",
      "w_prime_sqrd (433.986704078454 - 968.349774578645j)\n",
      "Error:\n",
      " \n",
      "                    The value for Weierstrass P function evaluated in the cubic\n",
      "                    and the value for Weierstrass P Prime squared differ\n",
      "                    by more than the tolerance.'\n",
      "                    \n",
      "w_prime_cubic (415.703211815132 + 247.879355284505j)\n",
      "w_prime_sqrd (415.703212408605 + 247.879356322273j)\n",
      "Error:\n",
      " \n",
      "                    The value for Weierstrass P function evaluated in the cubic\n",
      "                    and the value for Weierstrass P Prime squared differ\n",
      "                    by more than the tolerance.'\n",
      "                    \n",
      "w_prime_cubic (152.272170526906 - 148.628049412201j)\n",
      "w_prime_sqrd (152.27216176739 - 148.628049932476j)\n",
      "Error:\n",
      " \n",
      "                    The value for Weierstrass P function evaluated in the cubic\n",
      "                    and the value for Weierstrass P Prime squared differ\n",
      "                    by more than the tolerance.'\n",
      "                    \n",
      "w_prime_cubic (-31.0201645849334 + 171.289141295213j)\n",
      "w_prime_sqrd (-31.0201654269785 + 171.289140742739j)\n",
      "Error:\n",
      " \n",
      "                    The value for Weierstrass P function evaluated in the cubic\n",
      "                    and the value for Weierstrass P Prime squared differ\n",
      "                    by more than the tolerance.'\n",
      "                    \n",
      "w_prime_cubic (0.0892291163755911 - 0.564733358792042j)\n",
      "w_prime_sqrd (0.0892290028113685 - 0.564733543316786j)\n",
      "Error:\n",
      " \n",
      "                    The value for Weierstrass P function evaluated in the cubic\n",
      "                    and the value for Weierstrass P Prime squared differ\n",
      "                    by more than the tolerance.'\n",
      "                    \n",
      "w_prime_cubic (-685.543266626925 - 154.224273774794j)\n",
      "w_prime_sqrd (-685.543259496258 - 154.224284047422j)\n",
      "Error:\n",
      " \n",
      "                    The value for Weierstrass P function evaluated in the cubic\n",
      "                    and the value for Weierstrass P Prime squared differ\n",
      "                    by more than the tolerance.'\n",
      "                    \n",
      "w_prime_cubic (217.906651715293 + 69.0078917135007j)\n",
      "w_prime_sqrd (217.906633270956 + 69.0078776747607j)\n",
      "Error:\n",
      " \n",
      "                    The value for Weierstrass P function evaluated in the cubic\n",
      "                    and the value for Weierstrass P Prime squared differ\n",
      "                    by more than the tolerance.'\n",
      "                    \n",
      "w_prime_cubic (232.488839138804 + 28.2304097945665j)\n",
      "w_prime_sqrd (232.488839140892 + 28.2304098879472j)\n",
      "Error rate: 0.017\n"
     ]
    }
   ],
   "source": [
    "# Original package\n",
    "test_accuracy_of_weierstrass_p_prime(\n",
    "    omega_from_g,\n",
    "    wp,\n",
    "    wpprime,\n",
    "    Ntests=1000,\n",
    "    num_span=100,\n",
    "    tolerance=1e-10,\n",
    "    verbose=True\n",
    ")"
   ]
  },
  {
   "cell_type": "code",
   "execution_count": 116,
   "metadata": {},
   "outputs": [
    {
     "name": "stdout",
     "output_type": "stream",
     "text": [
      "Error rate: 0.0\n"
     ]
    }
   ],
   "source": [
    "# Modified package\n",
    "test_accuracy_of_weierstrass_p_prime(\n",
    "    wst.omega_from_g,\n",
    "    wst.wp,\n",
    "    wst.wpprime,\n",
    "    Ntests=1000,\n",
    "    num_span=100,\n",
    "    tolerance=1e-10,\n",
    "    verbose=True\n",
    ")"
   ]
  },
  {
   "cell_type": "markdown",
   "metadata": {},
   "source": [
    "## 6. Testing the accuracy of Weierstrass Sigma"
   ]
  },
  {
   "cell_type": "code",
   "execution_count": 117,
   "metadata": {},
   "outputs": [],
   "source": [
    "def test_accuracy_of_weierstrass_sigma(\n",
    "    omega_from_g_function,\n",
    "    w_from_z_and_omega_function,\n",
    "    sigma_from_z_and_omega_function,\n",
    "    Ntests=1000,\n",
    "    num_span=100,\n",
    "    tolerance=1e-10,\n",
    "    verbose=False\n",
    "):\n",
    "    \n",
    "    \"\"\"\n",
    "    This tests identity 23.10.3 here https://dlmf.nist.gov/23.10\n",
    "    which relates Weierstrass Sigma function to Weierstrass P\n",
    "    \"\"\"\n",
    "\n",
    "    err_count = 0\n",
    "    for _ in range(Ntests):\n",
    "        try:\n",
    "\n",
    "            # Define two random values for u and v\n",
    "            # Picks values from within the complex square bounded by \n",
    "            # -num_span ... num_span, -1i*num_span ... 1i*num_span\n",
    "            u = mpc(\n",
    "                real=f'{num_span * 2*(random() - 0.5)}', \n",
    "                imag=f'{num_span * 2*(random() - 0.5)}'\n",
    "            )\n",
    "            v = mpc(\n",
    "                real=f'{num_span * 2*(random() - 0.5)}', \n",
    "                imag=f'{num_span * 2*(random() - 0.5)}'\n",
    "            )\n",
    "\n",
    "            # Define random values for g2 and g3 \n",
    "            g2_num, g3_num = generate_random_g2_g3()\n",
    "\n",
    "            # Calculate the half-periods from g2 and g3\n",
    "            omegas = omega_from_g_function(g2_num, g3_num)\n",
    "            omega2, omega1 = (omegas[0], omegas[1])\n",
    "\n",
    "            # Swap the sign of omega2 if needed \n",
    "            # to get an allowed value for tau = omega2/omega1\n",
    "            if im(omega2/omega1) <= 0:\n",
    "                omega2 = -omega2\n",
    "            omega = (omega1, omega2)\n",
    "\n",
    "            # Calculate the Weierstrass P function at u and v\n",
    "            # then calculate the Weierstrass P side of the identity\n",
    "            wp_num_u = w_from_z_and_omega_function(u, omega)\n",
    "            wp_num_v = w_from_z_and_omega_function(v, omega)\n",
    "            wp_side_of_eq = wp_num_v - wp_num_u\n",
    "\n",
    "            # Calculate the Weierstrass Sigma function at \n",
    "            # u + v, u - v, and its square at u and v\n",
    "            # then calculate the sigma side of the identity\n",
    "            sigma_u_plus_v = sigma_from_z_and_omega_function(u + v, omega)\n",
    "            sigma_u_minus_v = sigma_from_z_and_omega_function(u - v, omega)\n",
    "            sigma_u_sqrd = sigma_from_z_and_omega_function(u, omega) ** 2\n",
    "            sigma_v_sqrd = sigma_from_z_and_omega_function(v, omega) ** 2\n",
    "            sigma_side_of_eq = sigma_u_plus_v * sigma_u_minus_v / sigma_u_sqrd / sigma_v_sqrd\n",
    "\n",
    "            # Evaluate the difference between the Weierstrass P side of the identity\n",
    "            # and the Weierstrass Sigma side of the identity\n",
    "            if not almosteq(wp_side_of_eq, sigma_side_of_eq, tolerance):\n",
    "                raise Exception(\n",
    "                    '''\n",
    "                    The value for the Weierstrass P side of the identity\n",
    "                    and the value for Weierstrass Sigma side of the identity\n",
    "                    differ by more than the tolerance.'\n",
    "                    '''\n",
    "                )\n",
    "\n",
    "        except Exception as e:\n",
    "\n",
    "            # Track the error count\n",
    "            err_count += 1\n",
    "\n",
    "            if verbose:\n",
    "                print('Error:\\n', e)\n",
    "                print('wp_side_of_eq', wp_side_of_eq)\n",
    "                print('sigma_side_of_eq', sigma_side_of_eq)\n",
    "       \n",
    "    # Calculate the error rate\n",
    "    err_rate = err_count / Ntests\n",
    "    print(\"Error rate:\", err_rate)"
   ]
  },
  {
   "cell_type": "code",
   "execution_count": 118,
   "metadata": {},
   "outputs": [
    {
     "name": "stdout",
     "output_type": "stream",
     "text": [
      "Error rate: 0.0\n"
     ]
    }
   ],
   "source": [
    "# Original package\n",
    "test_accuracy_of_weierstrass_sigma(\n",
    "    omega_from_g,\n",
    "    wp,\n",
    "    wsigma,\n",
    "    Ntests=1000,\n",
    "    num_span=100,\n",
    "    tolerance=1e-10,\n",
    "    verbose=True\n",
    ")"
   ]
  },
  {
   "cell_type": "code",
   "execution_count": 119,
   "metadata": {},
   "outputs": [
    {
     "name": "stdout",
     "output_type": "stream",
     "text": [
      "Error rate: 0.0\n"
     ]
    }
   ],
   "source": [
    "# Modified package\n",
    "test_accuracy_of_weierstrass_sigma(\n",
    "    wst.omega_from_g,\n",
    "    wst.wp,\n",
    "    wst.wsigma,\n",
    "    Ntests=1000,\n",
    "    num_span=100,\n",
    "    tolerance=1e-10,\n",
    "    verbose=True\n",
    ")"
   ]
  },
  {
   "cell_type": "markdown",
   "metadata": {},
   "source": [
    "## 7. Testing the accuracy of Weierstrass Zeta"
   ]
  },
  {
   "cell_type": "code",
   "execution_count": 120,
   "metadata": {},
   "outputs": [],
   "source": [
    "def test_accuracy_of_weierstrass_zeta(\n",
    "    omega_from_g_function,\n",
    "    w_from_z_and_omega_function,\n",
    "    w_prime_from_z_and_omega_function,\n",
    "    zeta_from_z_and_omega_function,\n",
    "    Ntests=1000,\n",
    "    num_span=100,\n",
    "    tolerance=1e-10,\n",
    "    verbose=False\n",
    "):\n",
    "    \"\"\"\n",
    "    Tests the identity that relates the Weierstrass P and Weierstrass P Prime \n",
    "    in terms of the Weierstrass Zeta function. \n",
    "    See Example 2, p444 Whittaker & Watson 2nd Edition\n",
    "    \"\"\"\n",
    "\n",
    "    err_count = 0\n",
    "    for _ in range(Ntests):\n",
    "        try:\n",
    "\n",
    "            # Define two random values for z and y\n",
    "            # Picks values from within the complex square bounded by \n",
    "            # -num_span ... num_span, -1i*num_span ... 1i*num_span\n",
    "            z = mpc(\n",
    "                real=f'{num_span * 2*(random() - 0.5)}', \n",
    "                imag=f'{num_span * 2*(random() - 0.5)}'\n",
    "            )\n",
    "            y = mpc(\n",
    "                real=f'{num_span * 2*(random() - 0.5)}', \n",
    "                imag=f'{num_span * 2*(random() - 0.5)}'\n",
    "            )\n",
    "\n",
    "            # Define random values for g2 and g3 \n",
    "            g2_num, g3_num = generate_random_g2_g3()\n",
    "\n",
    "            # Calculate the half-periods from g2 and g3\n",
    "            omegas = omega_from_g_function(g2_num, g3_num)\n",
    "            omega2, omega1 = (omegas[0], omegas[1])\n",
    "\n",
    "            # Swap the sign of omega2 if needed \n",
    "            # to get an allowed value for tau = omega2/omega1\n",
    "            if im(omega2/omega1) <= 0:\n",
    "                omega2 = -omega2\n",
    "            omega = (omega1, omega2)\n",
    "\n",
    "            # Calculate the Weierstrass P function at z and y\n",
    "            wp_num_z = w_from_z_and_omega_function(z, omega)\n",
    "            wp_num_y = w_from_z_and_omega_function(y, omega)\n",
    "            \n",
    "            # Calculate the Weierstrass P Prime function at z and y\n",
    "            wp_prime_num_z = w_prime_from_z_and_omega_function(z, omega)\n",
    "            wp_prime_num_y = w_prime_from_z_and_omega_function(y, omega)\n",
    "            \n",
    "            # Calculate the Weierstrass P side of the identity\n",
    "            wp_side_of_eq = (wp_prime_num_z - wp_prime_num_y) / (wp_num_z - wp_num_y) / 2\n",
    "            \n",
    "            # Calculate the Weierstrass Zeta function at z, y, and z + y\n",
    "            zeta_num_z = zeta_from_z_and_omega_function(z, omega)\n",
    "            zeta_num_y = zeta_from_z_and_omega_function(y, omega)\n",
    "            zeta_num_z_plus_y = zeta_from_z_and_omega_function(z + y, omega)\n",
    "            \n",
    "            # Calculate the Weierstrass Zeta side of the identity\n",
    "            zeta_side_of_eq = zeta_num_z_plus_y - zeta_num_z - zeta_num_y\n",
    "\n",
    "            # Evaluate the difference between the Weierstrass P side of the identity\n",
    "            # and the Weierstrass Zeta side of the identity\n",
    "            if not almosteq(wp_side_of_eq, zeta_side_of_eq, tolerance):\n",
    "                raise Exception(\n",
    "                    '''\n",
    "                    The value for the Weierstrass P side of the identity\n",
    "                    and the value for Weierstrass Zeta side of the identity\n",
    "                    differ by more than the tolerance.'\n",
    "                    '''\n",
    "                )\n",
    "\n",
    "        except Exception as e:\n",
    "\n",
    "            # Track the error count\n",
    "            err_count += 1\n",
    "\n",
    "            if verbose:\n",
    "                print('Error:\\n', e)\n",
    "                print(\"wp_side_of_eq\", wp_side_of_eq)\n",
    "                print(\"zeta_side_of_eq\", zeta_side_of_eq)\n",
    "       \n",
    "    # Calculate the error rate\n",
    "    err_rate = err_count / Ntests\n",
    "    print(\"Error rate:\", err_rate)"
   ]
  },
  {
   "cell_type": "code",
   "execution_count": 121,
   "metadata": {},
   "outputs": [
    {
     "name": "stdout",
     "output_type": "stream",
     "text": [
      "Error rate: 0.0\n"
     ]
    }
   ],
   "source": [
    "# Original package\n",
    "test_accuracy_of_weierstrass_zeta(\n",
    "    omega_from_g,\n",
    "    wp,\n",
    "    wpprime,\n",
    "    wzeta,\n",
    "    Ntests=1000,\n",
    "    num_span=100,\n",
    "    tolerance=1e-10,\n",
    "    verbose=False\n",
    ")"
   ]
  },
  {
   "cell_type": "code",
   "execution_count": 122,
   "metadata": {},
   "outputs": [
    {
     "name": "stdout",
     "output_type": "stream",
     "text": [
      "Error rate: 0.0\n"
     ]
    }
   ],
   "source": [
    "# Modified package\n",
    "test_accuracy_of_weierstrass_zeta(\n",
    "    wst.omega_from_g,\n",
    "    wst.wp,\n",
    "    wst.wpprime,\n",
    "    wst.wzeta,\n",
    "    Ntests=1000,\n",
    "    num_span=100,\n",
    "    tolerance=1e-10,\n",
    "    verbose=False\n",
    ")"
   ]
  },
  {
   "cell_type": "code",
   "execution_count": null,
   "metadata": {},
   "outputs": [],
   "source": []
  }
 ],
 "metadata": {
  "kernelspec": {
   "display_name": "Python 3",
   "language": "python",
   "name": "python3"
  },
  "language_info": {
   "codemirror_mode": {
    "name": "ipython",
    "version": 3
   },
   "file_extension": ".py",
   "mimetype": "text/x-python",
   "name": "python",
   "nbconvert_exporter": "python",
   "pygments_lexer": "ipython3",
   "version": "3.8.10"
  }
 },
 "nbformat": 4,
 "nbformat_minor": 4
}
