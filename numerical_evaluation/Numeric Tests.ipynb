{
 "cells": [
  {
   "cell_type": "markdown",
   "metadata": {},
   "source": [
    "# Numeric Tests\n",
    "\n",
    "This notebook runs some numerical tests to assess the validity, accuracy, and performance of numeric python packages for the Weierstrass elliptic functions. Where appropriate it compares two alternative versions. "
   ]
  },
  {
   "cell_type": "code",
   "execution_count": 44,
   "metadata": {},
   "outputs": [
    {
     "name": "stdout",
     "output_type": "stream",
     "text": [
      "The autoreload extension is already loaded. To reload it, use:\n",
      "  %reload_ext autoreload\n"
     ]
    }
   ],
   "source": [
    "%load_ext autoreload\n",
    "%autoreload 2"
   ]
  },
  {
   "cell_type": "code",
   "execution_count": 60,
   "metadata": {},
   "outputs": [],
   "source": [
    "# Original package https://github.com/stla/pyweierstrass/blob/main/pyweierstrass/weierstrass.py\n",
    "from weierstrass import omega_from_g, g_from_omega, wp, invwp, wpprime, wsigma\n",
    "\n",
    "# Modified package\n",
    "from weierstrass_modified import Weierstrass\n",
    "wst = Weierstrass()\n",
    "\n",
    "from random import random\n",
    "from mpmath import almosteq, mpc, mpf, im, timing, polyroots\n",
    "from sympy import *"
   ]
  },
  {
   "cell_type": "code",
   "execution_count": 46,
   "metadata": {},
   "outputs": [],
   "source": [
    "omega1, omega2, omega3, g2, g3, tau, G4, G6, q = symbols('omega1, omega2, omega3, g2, g3, tau, G4, G6, q')"
   ]
  },
  {
   "cell_type": "markdown",
   "metadata": {},
   "source": [
    "## 1. Calculating the half-periods from the elliptic invariants"
   ]
  },
  {
   "cell_type": "markdown",
   "metadata": {},
   "source": [
    "- The series for g2 in terms of G4 is quartic in omega1. When solving for omega1 in terms of g2 the result is thus only determined up to a quartic root of unity.\n",
    "- If the series for g2 in terms of G4 is used the result for omega1 can be incorrectly multiplied by +1, -1, +i, or -i, we can observe errors when trying to recalculate g2 and g3 from omega and the mistake manifests as giving the wrong sign for g3.\n",
    "- One solution is to include the series for g3 in terms of G6 to decide whether to multiply the periods by the imaginary unit or not, \n",
    "    then the periods are defined up to a sign +/-1. In other words, the ratio g2/g3 is quadratic in the half-periods not quartic. \n",
    "- As the half periods are only defined up to a sign because of periodicity anyway this suffices and elliminates the problem of obtaining the wrong sign for g3 when calculating from omega.\n",
    "- By G4 and G6 we mean G4(1, tau), G6(1, tau) with G_2k(tau) = 2 * zeta(2*k) * E_2k(tau), with zeta the Riemann zeta function and E the Eisenstein series expressible in terms of theta functions\n",
    "- The original package has since merged a fix for this issue and implemented the suggestion below. (see https://github.com/stla/pyweierstrass/issues/3) \n",
    "- The issue is resolved and the below tests are now passing."
   ]
  },
  {
   "cell_type": "markdown",
   "metadata": {},
   "source": [
    "So instead of doing this:"
   ]
  },
  {
   "cell_type": "code",
   "execution_count": 55,
   "metadata": {},
   "outputs": [
    {
     "data": {
      "text/latex": [
       "$\\displaystyle g_{2} = \\frac{15 G_{4}}{4 \\omega_{1}^{4}}$"
      ],
      "text/plain": [
       "Eq(g2, 15*G4/(4*omega1**4))"
      ]
     },
     "execution_count": 55,
     "metadata": {},
     "output_type": "execute_result"
    }
   ],
   "source": [
    "g2_G4_eq = Eq(g2, Rational(60, 2**4) * G4 / omega1**4)\n",
    "g2_G4_eq"
   ]
  },
  {
   "cell_type": "code",
   "execution_count": 56,
   "metadata": {
    "scrolled": true
   },
   "outputs": [
    {
     "data": {
      "text/latex": [
       "$\\displaystyle \\omega_{1} = \\frac{\\sqrt[4]{15} \\sqrt{2} \\sqrt[4]{\\frac{G_{4}}{g_{2}}}}{2}$"
      ],
      "text/plain": [
       "Eq(omega1, 15**(1/4)*sqrt(2)*(G4/g2)**(1/4)/2)"
      ]
     },
     "execution_count": 56,
     "metadata": {},
     "output_type": "execute_result"
    }
   ],
   "source": [
    "Eq(omega1, (Rational(60, 2**4) * G4/ g2) ** (Rational(1, 4)))"
   ]
  },
  {
   "cell_type": "markdown",
   "metadata": {},
   "source": [
    "It is better to do this:"
   ]
  },
  {
   "cell_type": "code",
   "execution_count": 62,
   "metadata": {},
   "outputs": [
    {
     "data": {
      "text/latex": [
       "$\\displaystyle g_{2} = \\frac{15 G_{4}}{4 \\omega_{1}^{4}}$"
      ],
      "text/plain": [
       "Eq(g2, 15*G4/(4*omega1**4))"
      ]
     },
     "execution_count": 62,
     "metadata": {},
     "output_type": "execute_result"
    }
   ],
   "source": [
    "g2_G4_eq"
   ]
  },
  {
   "cell_type": "code",
   "execution_count": 57,
   "metadata": {},
   "outputs": [
    {
     "data": {
      "text/latex": [
       "$\\displaystyle g_{3} = \\frac{35 G_{6}}{16 \\omega_{1}^{6}}$"
      ],
      "text/plain": [
       "Eq(g3, 35*G6/(16*omega1**6))"
      ]
     },
     "execution_count": 57,
     "metadata": {},
     "output_type": "execute_result"
    }
   ],
   "source": [
    "g3_G6_eq = Eq(g3, Rational(140,2**6) * G6 / omega1**6 )\n",
    "g3_G6_eq"
   ]
  },
  {
   "cell_type": "code",
   "execution_count": 58,
   "metadata": {},
   "outputs": [
    {
     "data": {
      "text/latex": [
       "$\\displaystyle \\frac{g_{2}}{g_{3}} = \\frac{12 G_{4} \\omega_{1}^{2}}{7 G_{6}}$"
      ],
      "text/plain": [
       "Eq(g2/g3, 12*G4*omega1**2/(7*G6))"
      ]
     },
     "execution_count": 58,
     "metadata": {},
     "output_type": "execute_result"
    }
   ],
   "source": [
    "Eq(g2_G4_eq.lhs / g3_G6_eq.lhs, g2_G4_eq.rhs / g3_G6_eq.rhs)"
   ]
  },
  {
   "cell_type": "code",
   "execution_count": 60,
   "metadata": {},
   "outputs": [
    {
     "data": {
      "text/latex": [
       "$\\displaystyle \\omega_{1} = \\frac{\\sqrt{21} \\sqrt{\\frac{G_{6} g_{2}}{G_{4} g_{3}}}}{6}$"
      ],
      "text/plain": [
       "Eq(omega1, sqrt(21)*sqrt(G6*g2/(G4*g3))/6)"
      ]
     },
     "execution_count": 60,
     "metadata": {},
     "output_type": "execute_result"
    }
   ],
   "source": [
    "Eq(omega1, sqrt(Rational(7, 12) * g2 * G6 / (g3 * G4)))"
   ]
  },
  {
   "cell_type": "markdown",
   "metadata": {},
   "source": [
    "Calulating half-periods from g2 and g3, then calculating g2 and g3 from the half-periods, then comparing the calculated values to the orignal g2 and g3 values."
   ]
  },
  {
   "cell_type": "code",
   "execution_count": 78,
   "metadata": {},
   "outputs": [],
   "source": [
    "def test_accuracy_of_g_from_omega_and_omega_from_g(\n",
    "    omega_from_g_function,\n",
    "    g_from_omega_function,\n",
    "    Ntests = 1000,\n",
    "    num_span = 100,\n",
    "    tolerance = 1e-10\n",
    "):\n",
    "\n",
    "    err_count = 0\n",
    "    for _ in range(Ntests):\n",
    "        try:\n",
    "\n",
    "            # Define random values for g2 and g3 \n",
    "            # Picks values from within the complex square bounded by\n",
    "            # -num_span ... num_span, -1i*num_span ... 1i*num_span\n",
    "            g2_num = mpc(\n",
    "                real=f'{num_span*2*(random() - 0.5)}', \n",
    "                imag=f'{num_span*2*(random() - 0.5)}'\n",
    "            )\n",
    "            g3_num = mpc(\n",
    "                real=f'{num_span*2*(random() - 0.5)}', \n",
    "                imag=f'{num_span*2*(random() - 0.5)}'\n",
    "            )\n",
    "\n",
    "            # Calculate the half-periods from g2 and g3\n",
    "            omegas = omega_from_g_function(g2_num, g3_num)\n",
    "            omega1 = omegas[0]\n",
    "            omega2 = omegas[1]\n",
    "\n",
    "            # Swap the sign of omega2 if needed \n",
    "            # to get an allowed value for tau = omega2/omega1\n",
    "            sign_flipped = False\n",
    "            if im(omega2/omega1) <= 0:\n",
    "                omega2 = -omega2\n",
    "                sign_flipped = True\n",
    "\n",
    "            # Calculate g2 and g3 from the half-periods\n",
    "            g2calc, g3calc = g_from_omega_function(omega1, omega2)\n",
    "\n",
    "            # Compare the accuracy of the calculated value of g2 to the original\n",
    "            err_1 = False\n",
    "            if not almosteq(g2_num, g2calc, tolerance):\n",
    "                err_msg_1 = f'g2calc={g2calc} not within tolerance for g2_num={g2_num}'\n",
    "                err_1 = True\n",
    "\n",
    "            # Compare the accuracy of the calculated value of g3 to the original\n",
    "            err_2 = False\n",
    "            if not almosteq(g3_num, g3calc, tolerance):\n",
    "                err_msg_2 = f'g3calc={g3calc} not within tolerance for g3_num={g3_num}'\n",
    "                err_2 =True\n",
    "\n",
    "            # Raise an exception if any calculated values for g2 and g3 \n",
    "            # differ from the original values by more than the tolerance\n",
    "            err_msg = \"\"\n",
    "            if err_1:\n",
    "                err_msg += err_msg_1 + '\\n'\n",
    "            if err_2:\n",
    "                err_msg += err_msg_2 + '\\n'\n",
    "            if err_1 or err_2:\n",
    "                raise Exception(err_msg)\n",
    "\n",
    "        except Exception as e:\n",
    "            \n",
    "            # Track the error rate \n",
    "            err_count += 1\n",
    "\n",
    "            if verbose:\n",
    "                # Print the values and error messages \n",
    "                # for which accuracy was outside the tolerance\n",
    "                print('Error:\\n', e)\n",
    "                print('g2',g2_num)\n",
    "                print('g3',g3_num)\n",
    "                print('sign_flipped', sign_flipped)\n",
    "\n",
    "    # Calculate the error rate\n",
    "    err_rate = err_count / Ntests\n",
    "    print(\"Error rate:\", err_rate)"
   ]
  },
  {
   "cell_type": "code",
   "execution_count": 79,
   "metadata": {},
   "outputs": [
    {
     "name": "stdout",
     "output_type": "stream",
     "text": [
      "0.0\n"
     ]
    }
   ],
   "source": [
    "# Using the original package this shows the problems that occur with incorrect half-periods\n",
    "# leading to g3 taking the wrong sign approximately half the time\n",
    "test_accuracy_of_g_from_omega_and_omega_from_g(\n",
    "    omega_from_g,\n",
    "    g_from_omega\n",
    ")"
   ]
  },
  {
   "cell_type": "code",
   "execution_count": 80,
   "metadata": {},
   "outputs": [
    {
     "name": "stdout",
     "output_type": "stream",
     "text": [
      "0.0\n"
     ]
    }
   ],
   "source": [
    "# Using the modified package\n",
    "test_accuracy_of_g_from_omega_and_omega_from_g(\n",
    "    wst.omega_from_g,\n",
    "    wst.g_from_omega\n",
    ")"
   ]
  },
  {
   "cell_type": "markdown",
   "metadata": {},
   "source": [
    "## 2. Calculating the roots e in terms of theta functions"
   ]
  },
  {
   "cell_type": "markdown",
   "metadata": {},
   "source": [
    "- The roots e1, e2, e3 can be expressed in terms of jacobi theta functions: https://dlmf.nist.gov/23.6\n",
    "- If the half-periods are known or already calculated, it is approximately 10x faster to calculate the roots e1, e2, e3 using known formulas in terms of theta functions than to numerically solve the cubic 4 * z**3 - g2 * z - g3 = 0\n",
    "- Note: It seems the original package has now switched to using theta functions for the roots"
   ]
  },
  {
   "cell_type": "code",
   "execution_count": 80,
   "metadata": {},
   "outputs": [
    {
     "name": "stdout",
     "output_type": "stream",
     "text": [
      "(4.21862608420373 - 0.541419183621149j) (-0.101791599340047 + 1.40040687435132j) (-4.11683448486369 - 0.858987690730171j)\n",
      "(4.21862608420371 - 0.541419183621149j) (-4.11683448486366 - 0.858987690730169j) (-0.101791599340047 + 1.40040687435132j)\n"
     ]
    }
   ],
   "source": [
    "g2_num = mpc(real=f'{num_span * 2*(random() - 0.5)}', imag=f'{num_span * 2*(random() - 0.5)}')\n",
    "g3_num = mpc(real=f'{num_span * 2*(random() - 0.5)}', imag=f'{num_span * 2*(random() - 0.5)}')\n",
    "\n",
    "# Calculate the half-periods from g2 and g3\n",
    "omegas = wst.omega_from_g(g2_num, g3_num)\n",
    "omega1 = omegas[0]\n",
    "omega2 = omegas[1]\n",
    "\n",
    "# Swap the sign of omega2 if needed to get an allowed value for tau = omega2/omega1\n",
    "if im(omega2/omega1) <= 0:\n",
    "    omega2 = -omega2\n",
    "\n",
    "# Obtain the roots e1, e2, e3 using omega1 and omega2 with theta functions in the modified package    \n",
    "e1_, e2_, e3_ = wst.roots_from_omega1_omega2(omega1, omega2)\n",
    "\n",
    "# Obtain the roots e1, e2, e3 using g2 and g3, solve the cubic with the original package    \n",
    "e1, e2, e3 = polyroots([4, 0, -g2_num, -g3_num])\n",
    "\n",
    "print(e1_, e2_, e3_)\n",
    "print(e1, e2, e3)"
   ]
  },
  {
   "cell_type": "code",
   "execution_count": 73,
   "metadata": {},
   "outputs": [
    {
     "name": "stdout",
     "output_type": "stream",
     "text": [
      "average_time_roots_from_omega =  0.00024413072098104747\n",
      "average_time_roots_from_g =  0.0015215324469863838\n",
      "average_time_roots_from_omega/average_time_roots_from_g =  0.1604505519843391\n"
     ]
    }
   ],
   "source": [
    "Ntests = 100\n",
    "time_roots_from_omega = 0\n",
    "time_roots_from_g = 0\n",
    "\n",
    "for _ in range(Ntests):\n",
    "    try:\n",
    "        \n",
    "        # Define random values for g2 and g3 \n",
    "        # Picks values from within the complex square -num_span ... num_span, -1i*num_span ... 1i*num_span\n",
    "        g2_num = mpc(real=f'{num_span * 2*(random() - 0.5)}', imag=f'{num_span * 2*(random() - 0.5)}')\n",
    "        g3_num = mpc(real=f'{num_span * 2*(random() - 0.5)}', imag=f'{num_span * 2*(random() - 0.5)}')\n",
    "        \n",
    "        # Calculate the half-periods from g2 and g3\n",
    "        omegas = wst.omega_from_g(g2_num, g3_num)\n",
    "        omega1 = omegas[0]\n",
    "        omega2 = omegas[1]\n",
    "\n",
    "        # Swap the sign of omega2 if needed to get an allowed value for tau = omega2/omega1\n",
    "        if im(omega2/omega1) <= 0:\n",
    "            omega2 = -omega2\n",
    "            \n",
    "        # Obtain the roots e1, e2, e3 using omega1 and omega2 with theta functions and time it    \n",
    "        time_roots_from_omega += timing(wst.roots_from_omega1_omega2, omega1, omega2)\n",
    "        \n",
    "        # Obtain the roots e1, e2, e3 using g2 and g3, solve the cubic and time it    \n",
    "        time_roots_from_g += timing(wst.sorted_roots_from_g2_g3, g2_num, g3_num)\n",
    "        \n",
    "    except Exception as e:\n",
    "        print(e)\n",
    "\n",
    "# Calculate average times\n",
    "average_time_roots_from_omega = time_roots_from_omega / Ntests\n",
    "average_time_roots_from_g = time_roots_from_g / Ntests\n",
    "\n",
    "print(\"average_time_roots_from_omega = \", average_time_roots_from_omega)\n",
    "print(\"average_time_roots_from_g = \", average_time_roots_from_g)\n",
    "print(\"average_time_roots_from_omega/average_time_roots_from_g = \", \n",
    "      average_time_roots_from_omega/average_time_roots_from_g)"
   ]
  },
  {
   "cell_type": "markdown",
   "metadata": {},
   "source": [
    "## 3. Picking the correct option from a choice of two values when inverting the Weierstrass P function"
   ]
  },
  {
   "cell_type": "markdown",
   "metadata": {},
   "source": [
    "- The Weierstrass Elliptic function is a meromorphic function of order 2 and thus there are two non-congruent solutions to the equation: wp(z) = c\n",
    "- This means care must be taken to pick the right one when attempting to invert the Weierstrass function.\n",
    "- If the value of the derivative, i.e. the value of Weirstrass P prime wpp at z, is known, this can be used to pick from the two possible choices of z.\n",
    "- As the Weierstrass P function is even, if wp(z) = c then wp(-z) = c, but as Weierstrass P Prime is odd wpp(-z) = -wpp(z) hence if we know wpp(z) we can pick the right sign for z. "
   ]
  },
  {
   "cell_type": "markdown",
   "metadata": {},
   "source": [
    "## 4. Testing the accuracy of the inverse Weierstrass P function"
   ]
  },
  {
   "cell_type": "code",
   "execution_count": 61,
   "metadata": {},
   "outputs": [],
   "source": [
    "def test_accuracy_of_inverse_weierstrass(\n",
    "    omega_from_g_function,\n",
    "    w_from_z_and_omega_function,\n",
    "    inv_w_from_omega_and_w_function,\n",
    "    Ntests=1000,\n",
    "    num_span=100,\n",
    "    tolerance=1e-10,\n",
    "    verbose=False\n",
    "):\n",
    "\n",
    "    err_count = 0\n",
    "    for _ in range(Ntests):\n",
    "        try:\n",
    "\n",
    "            # Define a random value for z\n",
    "            # Picks values from within the complex bounded by \n",
    "            # -num_span ... num_span, -1i*num_span ... 1i*num_span\n",
    "            z = mpc(\n",
    "                real=f'{num_span * 2*(random() - 0.5)}', \n",
    "                imag=f'{num_span * 2*(random() - 0.5)}'\n",
    "            )\n",
    "\n",
    "            # Define random values for g2 and g3 \n",
    "            # Picks values from within the complex square bounded by \n",
    "            # -num_span ... num_span, -1i*num_span ... 1i*num_span\n",
    "            g2_num = mpc(\n",
    "                real=f'{num_span * 2*(random() - 0.5)}', \n",
    "                imag=f'{num_span * 2*(random() - 0.5)}'\n",
    "            )\n",
    "            g3_num = mpc(\n",
    "                real=f'{num_span * 2*(random() - 0.5)}', \n",
    "                imag=f'{num_span * 2*(random() - 0.5)}'\n",
    "            )\n",
    "\n",
    "            # Calculate the half-periods from g2 and g3\n",
    "            omegas = omega_from_g_function(g2_num, g3_num)\n",
    "            omega2, omega1 = (omegas[0], omegas[1])\n",
    "\n",
    "            # Swap the sign of omega2 if needed \n",
    "            # to get an allowed value for tau = omega2/omega1\n",
    "            if im(omega2/omega1) <= 0:\n",
    "                omega2 = -omega2\n",
    "            omega = (omega1, omega2)\n",
    "\n",
    "            # Calculate the Weierstrass P function at z\n",
    "            w_num = w_from_z_and_omega_function(z, omega)\n",
    "\n",
    "            # Calculate the value for z \n",
    "            # by evaluating the inverse Weierstrass P function \n",
    "            # at the corresponding value of Weierstrass P, w_num.\n",
    "            # This should be equal to the starting value for z \n",
    "            # modulo lattice periods\n",
    "            z_calc = inv_w_from_omega_and_w_function(w_num, omega)\n",
    "\n",
    "            # Calculate the Weierstrass P function at z_calc\n",
    "            # By comparing the values for Weierstrass P \n",
    "            # we can test the inversion function without dealing with\n",
    "            # modulo lattice periods\n",
    "            w_z_calc = w_from_z_and_omega_function(z_calc, omega)\n",
    "\n",
    "            # Evaluate the difference between the Weierstrass P function\n",
    "            # evaluated at the original z and the z obtained from the inverse Weierstrass\n",
    "            if not almosteq(w_num, w_z_calc, tolerance):\n",
    "                raise Exception(\n",
    "                    '''\n",
    "                    The value for Weierstrass P function evaluated at the original z value\n",
    "                    and at the value of z calculated from the inverse Weierstrass function differ\n",
    "                    by more than the tolerance.'\n",
    "                    '''\n",
    "                )\n",
    "\n",
    "        except Exception as e:\n",
    "\n",
    "            # Track the error count\n",
    "            err_count += 1\n",
    "\n",
    "            if verbose:\n",
    "                print('Error:\\n', e)\n",
    "                print('w_num', w_num)\n",
    "                print('w_z_calc', w_z_calc)\n",
    "       \n",
    "    # Calculate the error rate\n",
    "    err_rate = err_count / Ntests\n",
    "    print(\"Error rate:\", err_rate)"
   ]
  },
  {
   "cell_type": "code",
   "execution_count": 25,
   "metadata": {},
   "outputs": [
    {
     "name": "stdout",
     "output_type": "stream",
     "text": [
      "Error rate: 0.0\n"
     ]
    }
   ],
   "source": [
    "# Original package\n",
    "test_accuracy_of_inverse_weierstrass(\n",
    "    omega_from_g,\n",
    "    wp,\n",
    "    invwp,\n",
    "    Ntests=1000,\n",
    "    num_span=100,\n",
    "    tolerance=1e-10,\n",
    "    verbose=True\n",
    ")"
   ]
  },
  {
   "cell_type": "code",
   "execution_count": 26,
   "metadata": {},
   "outputs": [
    {
     "name": "stdout",
     "output_type": "stream",
     "text": [
      "Error rate: 0.0\n"
     ]
    }
   ],
   "source": [
    "# Modified package\n",
    "test_accuracy_of_inverse_weierstrass(\n",
    "    wst.omega_from_g,\n",
    "    wst.wp,\n",
    "    wst.invwp,\n",
    "    Ntests=1000,\n",
    "    num_span=100,\n",
    "    tolerance=1e-10,\n",
    "    verbose=True\n",
    ")"
   ]
  },
  {
   "cell_type": "markdown",
   "metadata": {},
   "source": [
    "# 5. Testing the accuracy of Weierstrass P Prime (Weierstrass P derivative) "
   ]
  },
  {
   "cell_type": "code",
   "execution_count": 62,
   "metadata": {},
   "outputs": [],
   "source": [
    "def test_accuracy_of_weierstrass_p_prime(\n",
    "    omega_from_g_function,\n",
    "    w_from_z_and_omega_function,\n",
    "    w_prime_from_z_and_omega_function,\n",
    "    Ntests=1000,\n",
    "    num_span=100,\n",
    "    tolerance=1e-10,\n",
    "    verbose=False\n",
    "):\n",
    "    \"\"\"\n",
    "    Note: this test does not check the sign of Weierstrass P Prime as its value is squared\n",
    "    \"\"\"\n",
    "\n",
    "    err_count = 0\n",
    "    for _ in range(Ntests):\n",
    "        try:\n",
    "\n",
    "            # Define a random value for z\n",
    "            # Picks values from within the complex square bounded by \n",
    "            # -num_span ... num_span, -1i*num_span ... 1i*num_span\n",
    "            z = mpc(\n",
    "                real=f'{num_span * 2*(random() - 0.5)}', \n",
    "                imag=f'{num_span * 2*(random() - 0.5)}'\n",
    "            )\n",
    "\n",
    "            # Define random values for g2 and g3 \n",
    "            # Picks values from within the complex bounded by \n",
    "            # -num_span ... num_span, -1i*num_span ... 1i*num_span\n",
    "            g2_num = mpc(\n",
    "                real=f'{num_span * 2*(random() - 0.5)}', \n",
    "                imag=f'{num_span * 2*(random() - 0.5)}'\n",
    "            )\n",
    "            g3_num = mpc(\n",
    "                real=f'{num_span * 2*(random() - 0.5)}', \n",
    "                imag=f'{num_span * 2*(random() - 0.5)}'\n",
    "            )\n",
    "\n",
    "            # Calculate the half-periods from g2 and g3\n",
    "            omegas = omega_from_g_function(g2_num, g3_num)\n",
    "            omega2, omega1 = (omegas[0], omegas[1])\n",
    "\n",
    "            # Swap the sign of omega2 if needed \n",
    "            # to get an allowed value for tau = omega2/omega1\n",
    "            if im(omega2/omega1) <= 0:\n",
    "                omega2 = -omega2\n",
    "            omega = (omega1, omega2)\n",
    "\n",
    "            # Calculate the Weierstrass P function at z\n",
    "            # and the value of the corresponding cubic\n",
    "            w_num = w_from_z_and_omega_function(z, omega)\n",
    "            w_prime_cubic = 4 * w_num ** 3 - g2_num * w_num - g3_num\n",
    "\n",
    "            # Calculate the Weierstrass P Prime function at z and its square\n",
    "            w_prime = w_prime_from_z_and_omega_function(z, omega)\n",
    "            w_prime_sqrd = w_prime ** 2\n",
    "\n",
    "            # Evaluate the difference between the Weierstrass P function in the cubic\n",
    "            # and the Weierstrass P Prime function squared\n",
    "            if not almosteq(w_prime_cubic, w_prime_sqrd, tolerance):\n",
    "                raise Exception(\n",
    "                    '''\n",
    "                    The value for Weierstrass P function evaluated in the cubic\n",
    "                    and the value for Weierstrass P Prime squared differ\n",
    "                    by more than the tolerance.'\n",
    "                    '''\n",
    "                )\n",
    "\n",
    "        except Exception as e:\n",
    "\n",
    "            # Track the error count\n",
    "            err_count += 1\n",
    "\n",
    "            if verbose:\n",
    "                print('Error:\\n', e)\n",
    "                print('w_prime_cubic', w_prime_cubic)\n",
    "                print('w_prime_sqrd', w_prime_sqrd)\n",
    "       \n",
    "    # Calculate the error rate\n",
    "    err_rate = err_count / Ntests\n",
    "    print(\"Error rate:\", err_rate)"
   ]
  },
  {
   "cell_type": "code",
   "execution_count": 81,
   "metadata": {},
   "outputs": [
    {
     "name": "stdout",
     "output_type": "stream",
     "text": [
      "Error rate: 0.0\n"
     ]
    }
   ],
   "source": [
    "# Original package\n",
    "test_accuracy_of_weierstrass_p_prime(\n",
    "    omega_from_g,\n",
    "    wp,\n",
    "    wpprime,\n",
    "    Ntests=1000,\n",
    "    num_span=100,\n",
    "    tolerance=1e-10,\n",
    "    verbose=True\n",
    ")"
   ]
  },
  {
   "cell_type": "code",
   "execution_count": 58,
   "metadata": {},
   "outputs": [
    {
     "name": "stdout",
     "output_type": "stream",
     "text": [
      "Error rate: 0.0\n"
     ]
    }
   ],
   "source": [
    "# Modified package\n",
    "test_accuracy_of_weierstrass_p_prime(\n",
    "    wst.omega_from_g,\n",
    "    wst.wp,\n",
    "    wst.wpprime,\n",
    "    Ntests=1000,\n",
    "    num_span=100,\n",
    "    tolerance=1e-10,\n",
    "    verbose=True\n",
    ")"
   ]
  },
  {
   "cell_type": "markdown",
   "metadata": {},
   "source": [
    "## 6. Testing the accuracy of Weierstrass Sigma"
   ]
  },
  {
   "cell_type": "code",
   "execution_count": 75,
   "metadata": {},
   "outputs": [],
   "source": [
    "def test_accuracy_of_weierstrass_sigma(\n",
    "    omega_from_g_function,\n",
    "    w_from_z_and_omega_function,\n",
    "    sigma_from_z_and_omega_function,\n",
    "    Ntests=1000,\n",
    "    num_span=100,\n",
    "    tolerance=1e-10,\n",
    "    verbose=False\n",
    "):\n",
    "    \n",
    "    \"\"\"\n",
    "    This tests identity 23.10.3 here https://dlmf.nist.gov/23.10\n",
    "    which relates Weierstrass Sigma function to Weierstrass P\n",
    "    \"\"\"\n",
    "\n",
    "    err_count = 0\n",
    "    for _ in range(Ntests):\n",
    "        try:\n",
    "\n",
    "            # Define two random values for u and v\n",
    "            # Picks values from within the complex square bounded by \n",
    "            # -num_span ... num_span, -1i*num_span ... 1i*num_span\n",
    "            u = mpc(\n",
    "                real=f'{num_span * 2*(random() - 0.5)}', \n",
    "                imag=f'{num_span * 2*(random() - 0.5)}'\n",
    "            )\n",
    "            v = mpc(\n",
    "                real=f'{num_span * 2*(random() - 0.5)}', \n",
    "                imag=f'{num_span * 2*(random() - 0.5)}'\n",
    "            )\n",
    "\n",
    "            # Define random values for g2 and g3 \n",
    "            # Picks values from within the complex bounded by \n",
    "            # -num_span ... num_span, -1i*num_span ... 1i*num_span\n",
    "            g2_num = mpc(\n",
    "                real=f'{num_span * 2*(random() - 0.5)}', \n",
    "                imag=f'{num_span * 2*(random() - 0.5)}'\n",
    "            )\n",
    "            g3_num = mpc(\n",
    "                real=f'{num_span * 2*(random() - 0.5)}', \n",
    "                imag=f'{num_span * 2*(random() - 0.5)}'\n",
    "            )\n",
    "\n",
    "            # Calculate the half-periods from g2 and g3\n",
    "            omegas = omega_from_g_function(g2_num, g3_num)\n",
    "            omega2, omega1 = (omegas[0], omegas[1])\n",
    "\n",
    "            # Swap the sign of omega2 if needed \n",
    "            # to get an allowed value for tau = omega2/omega1\n",
    "            if im(omega2/omega1) <= 0:\n",
    "                omega2 = -omega2\n",
    "            omega = (omega1, omega2)\n",
    "\n",
    "            # Calculate the Weierstrass P function at u and v\n",
    "            # then calculate the Weierstrass P side of the identity\n",
    "            wp_num_u = w_from_z_and_omega_function(u, omega)\n",
    "            wp_num_v = w_from_z_and_omega_function(v, omega)\n",
    "            wp_side_of_eq = wp_num_v - wp_num_u\n",
    "\n",
    "            # Calculate the Weierstrass Sigma function at \n",
    "            # u + v, u - v, and its square at u and v\n",
    "            # then calculate the sigma side of the identity\n",
    "            sigma_u_plus_v = sigma_from_z_and_omega_function(u + v, omega)\n",
    "            sigma_u_minus_v = sigma_from_z_and_omega_function(u - v, omega)\n",
    "            sigma_u_sqrd = sigma_from_z_and_omega_function(u, omega) ** 2\n",
    "            sigma_v_sqrd = sigma_from_z_and_omega_function(v, omega) ** 2\n",
    "            sigma_side_of_eq = sigma_u_plus_v * sigma_u_minus_v / sigma_u_sqrd / sigma_v_sqrd\n",
    "\n",
    "            # Evaluate the difference between the Weierstrass P side of the identity\n",
    "            # and the Weierstrass Sigma side of the identity\n",
    "            if not almosteq(wp_side_of_eq, sigma_side_of_eq, tolerance):\n",
    "                raise Exception(\n",
    "                    '''\n",
    "                    The value for the Weierstrass P side of the identity\n",
    "                    and the value for Weierstrass Sigma side of the identity\n",
    "                    differ by more than the tolerance.'\n",
    "                    '''\n",
    "                )\n",
    "\n",
    "        except Exception as e:\n",
    "\n",
    "            # Track the error count\n",
    "            err_count += 1\n",
    "\n",
    "            if verbose:\n",
    "                print('Error:\\n', e)\n",
    "                print('wp_side_of_eq', wp_side_of_eq)\n",
    "                print('sigma_side_of_eq', sigma_side_of_eq)\n",
    "       \n",
    "    # Calculate the error rate\n",
    "    err_rate = err_count / Ntests\n",
    "    print(\"Error rate:\", err_rate)"
   ]
  },
  {
   "cell_type": "code",
   "execution_count": 82,
   "metadata": {},
   "outputs": [
    {
     "name": "stdout",
     "output_type": "stream",
     "text": [
      "Error rate: 0.0\n"
     ]
    }
   ],
   "source": [
    "# Original package\n",
    "test_accuracy_of_weierstrass_sigma(\n",
    "    omega_from_g,\n",
    "    wp,\n",
    "    wsigma,\n",
    "    Ntests=1000,\n",
    "    num_span=100,\n",
    "    tolerance=1e-10,\n",
    "    verbose=True\n",
    ")"
   ]
  },
  {
   "cell_type": "code",
   "execution_count": 77,
   "metadata": {},
   "outputs": [
    {
     "name": "stdout",
     "output_type": "stream",
     "text": [
      "Error rate: 0.0\n"
     ]
    }
   ],
   "source": [
    "# Modified package\n",
    "test_accuracy_of_weierstrass_sigma(\n",
    "    wst.omega_from_g,\n",
    "    wst.wp,\n",
    "    wst.wsigma,\n",
    "    Ntests=1000,\n",
    "    num_span=100,\n",
    "    tolerance=1e-10,\n",
    "    verbose=True\n",
    ")"
   ]
  },
  {
   "cell_type": "markdown",
   "metadata": {},
   "source": [
    "## 7. Testing the accuracy of Weierstrass Zeta"
   ]
  },
  {
   "cell_type": "code",
   "execution_count": null,
   "metadata": {},
   "outputs": [],
   "source": [
    "def test_accuracy_of_weierstrass_zeta(\n",
    "    omega_from_g_function,\n",
    "    w_from_z_and_omega_function,\n",
    "    zeta_from_z_and_omega_function,\n",
    "    Ntests=1000,\n",
    "    num_span=100,\n",
    "    tolerance=1e-10,\n",
    "    verbose=False\n",
    "):\n",
    "\n",
    "    err_count = 0\n",
    "    for _ in range(Ntests):\n",
    "        try:\n",
    "\n",
    "            ## TO DO\n",
    "\n",
    "        except Exception as e:\n",
    "\n",
    "            # Track the error count\n",
    "            err_count += 1\n",
    "\n",
    "            if verbose:\n",
    "                print('Error:\\n', e)\n",
    "       \n",
    "    # Calculate the error rate\n",
    "    err_rate = err_count / Ntests\n",
    "    print(\"Error rate:\", err_rate)"
   ]
  }
 ],
 "metadata": {
  "kernelspec": {
   "display_name": "Python 3",
   "language": "python",
   "name": "python3"
  },
  "language_info": {
   "codemirror_mode": {
    "name": "ipython",
    "version": 3
   },
   "file_extension": ".py",
   "mimetype": "text/x-python",
   "name": "python",
   "nbconvert_exporter": "python",
   "pygments_lexer": "ipython3",
   "version": "3.8.10"
  }
 },
 "nbformat": 4,
 "nbformat_minor": 4
}
