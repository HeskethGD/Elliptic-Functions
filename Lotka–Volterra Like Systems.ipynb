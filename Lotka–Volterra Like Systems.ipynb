{
 "cells": [
  {
   "cell_type": "markdown",
   "id": "b24379e1-dbde-4b9e-833b-b5e77dd462e7",
   "metadata": {},
   "source": [
    "# Lotka–Volterra Like Systems\n",
    "\n",
    "This work seeks the complete analytic solution of the 2 mode Lotka-Volterra nonlinear coupled ordinary differential equations. It is inspired by recnet results by the author that solve nonlinear coupled ordinary differential equations in terms of ratios of Weierstrass Sigma functions. So far a solution to the the Lotka-Volterra systems has not been found in this work but a solution to a realted systems with some slightly different quadratic terms has.\n",
    "\n",
    "Nonlinear differential equations (includes nice discussion of Lotka–Volterra 2 mode systems for species populations)\r\n",
    "\r\n",
    "https://www-users.cse.umn.edu/~olver/ln_/odq.pdf\r\n",
    "\r\n",
    "Other solutions to Lotka–Volterra\r\n",
    "\r\n",
    "https://www.itm-conferences.org/articles/itmconf/pdf/2019/06/itmconf_iccmae2018_01016.pdf\r\n",
    "\r\n",
    "Some elliptic solutions to Lotka-Volterra (3 modes) Robert S Maier at Arizona has written a few papers\r\n",
    "\r\n",
    "https://arxiv.org/pdf/1211.5813.pdf\r\n",
    "\r\n",
    "https://arxiv.org/pdf/1203.0283.pdf\r\n",
    "\r\n",
    "https://arxiv.org/pdf\n",
    "\n",
    "Some good refs here:\n",
    "\n",
    "https://arxiv.org/pdf/2303.09317.pdf\n",
    "\n",
    "Lagrangians for LV\n",
    "\n",
    "https://docs.juliahub.com/GeometricProblems/4fHs6/0.1.8/lotka_volterra_2d/\n",
    "\n",
    "Logistic differential equation\n",
    "https://www-users.cse.umn.edu/~olver/ln_/odq.pdf/0807.1081.pdf"
   ]
  },
  {
   "cell_type": "code",
   "execution_count": 398,
   "id": "64fd7536-b764-461c-85ca-7ffc5c43e9ef",
   "metadata": {},
   "outputs": [],
   "source": [
    "from sympy import *\n",
    "(x, y, X, Y, Z, B, C, n, m, l, j, q, N, M, K, k, epsilon, z, s, p1, p2, p3, g2, g3,\n",
    " z0, w1, w2, w3, e1, e2, e3, Delta, \n",
    " omega1, omega2, omega3, eta1, eta2, eta3, d1, d2, d3) = symbols(\n",
    "    '''x, y, X, Y, Z, B, C, n, m, l, j, q, N, M, K, k, epsilon, z, s, p1, p2, p3, g2, g3,\n",
    "    z0, w1, w2, w3, e1, e2, e3, Delta, \n",
    "    omega1, omega2, omega3, eta1, eta2, eta3, d1, d2, d3'''\n",
    ")\n",
    "alpha, delta, t, nu, epsilon, theta = symbols('alpha, delta, t, nu, epsilon, theta')\n",
    "pw = Function('pw') # Weierstrass P function\n",
    "pwp = Function('pwp') # Derivative of Weierstrass P function\n",
    "zw = Function('zw') # Weierstrass Zeta function\n",
    "sigma = Function('sigma') # Weierstrass Sigma function\n",
    "rho = Function('rho')\n",
    "f = Function('f')\n",
    "h = Function('h')\n",
    "s = Function('s')\n",
    "u = Function('u')\n",
    "v = Function('v')\n",
    "P = Function('P') # Polynomial\n",
    "Q = Function('Q') # Polynomial\n",
    "R = Function('') # Polynomial\n",
    "phi = Function('phi')\n",
    "Phi = Function('Phi')\n",
    "phi1 = Function('phi1')\n",
    "phi2 = Function('phi2')\n",
    "phi3 = Function('phi3')\n",
    "A = Function('A')\n",
    "Ac = Function('Ac')\n",
    "A1 = Function('A1')\n",
    "A2 = Function('A2')\n",
    "A3 = Function('A3')\n",
    "Ac1 = Function('Ac1')\n",
    "Ac2 = Function('Ac2')\n",
    "Ac3 = Function('Ac3')\n",
    "A4 = Function('A4')\n",
    "A5 = Function('A5')\n",
    "A6 = Function('A6')\n",
    "A7 = Function('A7')\n",
    "A8 = Function('A8')\n",
    "W1 = Function('W1')\n",
    "W2 = Function('W2')\n",
    "W3 = Function('W3')\n",
    "W4 = Function('W4')\n",
    "W5 = Function('W5')\n",
    "W6 = Function('W6')\n",
    "Det = Function(\"Det\")\n",
    "\n",
    "kappa = IndexedBase('kappa')\n",
    "beta = IndexedBase('beta')\n",
    "mu = IndexedBase('mu')\n",
    "xi = IndexedBase('xi')\n",
    "a = IndexedBase('a')\n",
    "b = IndexedBase('b')\n",
    "c = IndexedBase('c')\n",
    "d = IndexedBase('d')\n",
    "p = IndexedBase('p')\n",
    "G = IndexedBase('G')\n",
    "psi = IndexedBase('psi')\n",
    "upsilon = IndexedBase('upsilon')\n",
    "WPdet = Function('WPdet')\n",
    "\n",
    "Omega = IndexedBase('Omega')\n",
    "T = Function('T')\n",
    "V = Function('V')\n",
    "Dz = Function('Dz') # Derivate w.r.t z\n",
    "L = Function('L')\n",
    "U = Function(\"U\")\n",
    "W = Function(\"W\")\n",
    "from math import prod\n",
    "\n",
    "from IPython.core.interactiveshell import InteractiveShell\n",
    "InteractiveShell.ast_node_interactivity = 'all'"
   ]
  },
  {
   "cell_type": "markdown",
   "id": "cee64a4d-2e36-43e9-91f6-6fb521658408",
   "metadata": {},
   "source": [
    "## Background elliptic function theory"
   ]
  },
  {
   "cell_type": "code",
   "execution_count": 44,
   "id": "5a523665-6c47-48d0-a94b-4fd9342efd30",
   "metadata": {},
   "outputs": [
    {
     "data": {
      "text/latex": [
       "$\\displaystyle \\frac{\\operatorname{pwp}{\\left(x,g_{2},g_{3} \\right)} - \\operatorname{pwp}{\\left(y,g_{2},g_{3} \\right)}}{2 \\left(\\operatorname{pw}{\\left(x,g_{2},g_{3} \\right)} - \\operatorname{pw}{\\left(y,g_{2},g_{3} \\right)}\\right)} = - \\operatorname{zw}{\\left(x,g_{2},g_{3} \\right)} - \\operatorname{zw}{\\left(y,g_{2},g_{3} \\right)} + \\operatorname{zw}{\\left(x + y,g_{2},g_{3} \\right)}$"
      ],
      "text/plain": [
       "Eq((pwp(x, g2, g3) - pwp(y, g2, g3))/(2*(pw(x, g2, g3) - pw(y, g2, g3))), -zw(x, g2, g3) - zw(y, g2, g3) + zw(x + y, g2, g3))"
      ]
     },
     "execution_count": 44,
     "metadata": {},
     "output_type": "execute_result"
    }
   ],
   "source": [
    "pw_to_zw_identity = Eq(\n",
    "    (pwp(x,g2,g3) - pwp(y,g2,g3))/(pw(x,g2,g3) - pw(y,g2,g3))/2,\n",
    "    zw(x + y,g2, g3) - zw(x,g2, g3) - zw(y,g2, g3)\n",
    ")\n",
    "pw_to_zw_identity"
   ]
  },
  {
   "cell_type": "code",
   "execution_count": 45,
   "id": "debe41ae-2b1e-4b8a-a1cc-58c3e55157f1",
   "metadata": {},
   "outputs": [
    {
     "data": {
      "text/latex": [
       "$\\displaystyle \\frac{\\partial}{\\partial z} \\operatorname{zw}{\\left(z,g_{2},g_{3} \\right)} = - \\operatorname{pw}{\\left(z,g_{2},g_{3} \\right)}$"
      ],
      "text/plain": [
       "Eq(Derivative(zw(z, g2, g3), z), -pw(z, g2, g3))"
      ]
     },
     "execution_count": 45,
     "metadata": {},
     "output_type": "execute_result"
    }
   ],
   "source": [
    "diff_zeta_eq = Eq(diff(zw(z,g2,g3),z), -pw(z,g2,g3))\n",
    "diff_zeta_eq"
   ]
  },
  {
   "cell_type": "code",
   "execution_count": 46,
   "id": "94e1aee4-7cf9-46b3-9073-4aa6c750e630",
   "metadata": {},
   "outputs": [
    {
     "data": {
      "text/latex": [
       "$\\displaystyle \\int \\operatorname{zw}{\\left(z,g_{2},g_{3} \\right)}\\, dz = \\log{\\left(\\sigma{\\left(z,g_{2},g_{3} \\right)} \\right)}$"
      ],
      "text/plain": [
       "Eq(Integral(zw(z, g2, g3), z), log(sigma(z, g2, g3)))"
      ]
     },
     "execution_count": 46,
     "metadata": {},
     "output_type": "execute_result"
    }
   ],
   "source": [
    "integral_zeta_log_sigma = Eq(Integral(zw(z,g2,g3),z),log(sigma(z,g2,g3)))\n",
    "integral_zeta_log_sigma"
   ]
  },
  {
   "cell_type": "code",
   "execution_count": 47,
   "id": "9cd37187-550d-46bc-9857-03e9aa1eeb83",
   "metadata": {},
   "outputs": [
    {
     "data": {
      "text/latex": [
       "$\\displaystyle \\sigma{\\left(z,g_{2},g_{3} \\right)} = \\frac{\\frac{\\partial}{\\partial z} \\sigma{\\left(z,g_{2},g_{3} \\right)}}{\\operatorname{zw}{\\left(z,g_{2},g_{3} \\right)}}$"
      ],
      "text/plain": [
       "Eq(sigma(z, g2, g3), Derivative(sigma(z, g2, g3), z)/zw(z, g2, g3))"
      ]
     },
     "execution_count": 47,
     "metadata": {},
     "output_type": "execute_result"
    }
   ],
   "source": [
    "sigma_zeta_eq = Eq(diff(integral_zeta_log_sigma.lhs,z)*sigma(z,g2,g3)/zw(z,g2,g3), \n",
    "             diff(integral_zeta_log_sigma.rhs,z)*sigma(z,g2,g3)/zw(z,g2,g3))\n",
    "sigma_zeta_eq"
   ]
  },
  {
   "cell_type": "markdown",
   "id": "cd0eeaf9-83ed-4c17-930d-373f9c2339da",
   "metadata": {},
   "source": [
    "## Euler Lagrange Equations"
   ]
  },
  {
   "cell_type": "code",
   "execution_count": 172,
   "id": "8c730560-80b0-4921-98c2-fed77b1a0c32",
   "metadata": {},
   "outputs": [
    {
     "data": {
      "text/latex": [
       "$\\displaystyle \\frac{d}{d u{\\left(z \\right)}} L{\\left(u{\\left(z \\right)},v{\\left(z \\right)},\\frac{d}{d z} u{\\left(z \\right)},\\frac{d}{d z} v{\\left(z \\right)} \\right)} - \\frac{d^{2}}{d zd \\frac{d}{d z} u{\\left(z \\right)}} L{\\left(u{\\left(z \\right)},v{\\left(z \\right)},\\frac{d}{d z} u{\\left(z \\right)},\\frac{d}{d z} v{\\left(z \\right)} \\right)} = 0$"
      ],
      "text/plain": [
       "Eq(Derivative(L(u(z), v(z), Derivative(u(z), z), Derivative(v(z), z)), u(z)) - Derivative(L(u(z), v(z), Derivative(u(z), z), Derivative(v(z), z)), Derivative(u(z), z), z), 0)"
      ]
     },
     "execution_count": 172,
     "metadata": {},
     "output_type": "execute_result"
    },
    {
     "data": {
      "text/latex": [
       "$\\displaystyle \\frac{d}{d v{\\left(z \\right)}} L{\\left(u{\\left(z \\right)},v{\\left(z \\right)},\\frac{d}{d z} u{\\left(z \\right)},\\frac{d}{d z} v{\\left(z \\right)} \\right)} - \\frac{d^{2}}{d zd \\frac{d}{d z} v{\\left(z \\right)}} L{\\left(u{\\left(z \\right)},v{\\left(z \\right)},\\frac{d}{d z} u{\\left(z \\right)},\\frac{d}{d z} v{\\left(z \\right)} \\right)} = 0$"
      ],
      "text/plain": [
       "Eq(Derivative(L(u(z), v(z), Derivative(u(z), z), Derivative(v(z), z)), v(z)) - Derivative(L(u(z), v(z), Derivative(u(z), z), Derivative(v(z), z)), Derivative(v(z), z), z), 0)"
      ]
     },
     "execution_count": 172,
     "metadata": {},
     "output_type": "execute_result"
    }
   ],
   "source": [
    "euler_lagrange_eqs = [Eq(Derivative(L(u(z),v(z),diff(u(z),z),diff(v(z),z)),f) - \n",
    "Derivative(Derivative(L(u(z),v(z),diff(u(z),z),diff(v(z),z)),Derivative(f,z)),z),0) for f in [u(z), v(z)]]\n",
    "for el in euler_lagrange_eqs:\n",
    "    el "
   ]
  },
  {
   "cell_type": "markdown",
   "id": "dd1fcea7-61e9-40fa-8948-fb89c3183a1a",
   "metadata": {},
   "source": [
    "## The Lotka-Volterra System\n",
    "\n",
    "This work aims to find solutions to this system which is known as the Lotka-Volterra system and describes predator-prey species competition dynamics. "
   ]
  },
  {
   "cell_type": "code",
   "execution_count": 243,
   "id": "9ed2b592-a7a2-471d-bd86-fefdaae5d52a",
   "metadata": {},
   "outputs": [
    {
     "data": {
      "text/latex": [
       "$\\displaystyle L{\\left(u{\\left(z \\right)},v{\\left(z \\right)},\\frac{d}{d z} u{\\left(z \\right)},\\frac{d}{d z} v{\\left(z \\right)} \\right)} = - \\alpha \\log{\\left(v{\\left(z \\right)} \\right)} + \\delta v{\\left(z \\right)} - u{\\left(z \\right)} \\kappa - \\frac{\\log{\\left(u{\\left(z \\right)} \\right)} \\frac{d}{d z} \\log{\\left(v{\\left(z \\right)} \\right)}}{2} - \\log{\\left(u{\\left(z \\right)} \\right)} \\beta + \\frac{\\log{\\left(v{\\left(z \\right)} \\right)} \\frac{d}{d z} \\log{\\left(u{\\left(z \\right)} \\right)}}{2}$"
      ],
      "text/plain": [
       "Eq(L(u(z), v(z), Derivative(u(z), z), Derivative(v(z), z)), -alpha*log(v(z)) + delta*v(z) - u(z)*kappa - log(u(z))*Derivative(log(v(z)), z)/2 - log(u(z))*beta + log(v(z))*Derivative(log(u(z)), z)/2)"
      ]
     },
     "execution_count": 243,
     "metadata": {},
     "output_type": "execute_result"
    }
   ],
   "source": [
    "# lk_kinetic  = ((u(z)+a*ln(u(z)))*diff(v(z),z) - (v(z)+b*ln(v(z)))*diff(u(z),z))/2 \n",
    "# lk_kinetic  = ln(v(z))/u(z)*diff(u(z),z)/2 - ln(u(z))/v(z)*diff(v(z),z)/2\n",
    "lk_kinetic  = ln(v(z))*Derivative(ln(u(z)),z)/2 - ln(u(z))*Derivative(ln(v(z)),z)/2\n",
    "# lk_kinetic = (u(z)*diff(v(z),z) - v(z)*diff(u(z),z))/2\n",
    "lk_potential = (alpha*ln(v(z)) + beta*ln(u(z)) - delta*v(z) + kappa*u(z) \n",
    "                # + epsilon*(log(u(z))*log(v(z))**2 + log(u(z))**2*log(v(z))) +\n",
    "                # + mu*(log(u(z))*v(z) + u(z)*log(v(z))) + mu*(u(z)*v(z)**2+v(z)*u(z)**2) \n",
    "                # + mu*f(u(z),v(z))\n",
    "               )\n",
    "lk_lagrangian = Eq(L(u(z),v(z),diff(u(z),z),diff(v(z),z)), lk_kinetic - lk_potential)\n",
    "lk_lagrangian"
   ]
  },
  {
   "cell_type": "code",
   "execution_count": 244,
   "id": "60cb6506-9a23-445f-983a-24a4183a709a",
   "metadata": {},
   "outputs": [
    {
     "data": {
      "text/latex": [
       "$\\displaystyle \\frac{d}{d z} u{\\left(z \\right)} = \\alpha u{\\left(z \\right)} - \\delta u{\\left(z \\right)} v{\\left(z \\right)}$"
      ],
      "text/plain": [
       "Eq(Derivative(u(z), z), alpha*u(z) - delta*u(z)*v(z))"
      ]
     },
     "execution_count": 244,
     "metadata": {},
     "output_type": "execute_result"
    },
    {
     "data": {
      "text/latex": [
       "$\\displaystyle \\frac{d}{d z} v{\\left(z \\right)} = - u{\\left(z \\right)} v{\\left(z \\right)} \\kappa - v{\\left(z \\right)} \\beta$"
      ],
      "text/plain": [
       "Eq(Derivative(v(z), z), -u(z)*v(z)*kappa - v(z)*beta)"
      ]
     },
     "execution_count": 244,
     "metadata": {},
     "output_type": "execute_result"
    }
   ],
   "source": [
    "dv1_lk = Eq(diff(u(z),z),solve(euler_lagrange_eqs[1].subs(*lk_lagrangian.args).doit() , diff(u(z),z))[0]).expand()\n",
    "dv2_lk = Eq(diff(v(z),z),solve(euler_lagrange_eqs[0].subs(*lk_lagrangian.args).doit() , diff(v(z),z))[0]).expand()\n",
    "dv1_lk\n",
    "dv2_lk"
   ]
  },
  {
   "cell_type": "code",
   "execution_count": 234,
   "id": "f657bfca-5bfb-4232-9d92-a5c08ce0190f",
   "metadata": {},
   "outputs": [
    {
     "data": {
      "text/latex": [
       "$\\displaystyle k = \\alpha \\log{\\left(v{\\left(z \\right)} \\right)} - \\delta v{\\left(z \\right)} + \\left(u{\\left(z \\right)} \\log{\\left(v{\\left(z \\right)} \\right)} + v{\\left(z \\right)} \\log{\\left(u{\\left(z \\right)} \\right)}\\right) \\mu + u{\\left(z \\right)} \\kappa + \\log{\\left(u{\\left(z \\right)} \\right)} \\beta$"
      ],
      "text/plain": [
       "Eq(k, alpha*log(v(z)) - delta*v(z) + (u(z)*log(v(z)) + v(z)*log(u(z)))*mu + u(z)*kappa + log(u(z))*beta)"
      ]
     },
     "execution_count": 234,
     "metadata": {},
     "output_type": "execute_result"
    }
   ],
   "source": [
    "k_conserved = Eq(k, lk_potential)\n",
    "k_conserved"
   ]
  },
  {
   "cell_type": "code",
   "execution_count": 235,
   "id": "0e2f4541-7abf-45c3-bfa2-48d4833d37ae",
   "metadata": {},
   "outputs": [
    {
     "data": {
      "text/latex": [
       "$\\displaystyle 0$"
      ],
      "text/plain": [
       "0"
      ]
     },
     "execution_count": 235,
     "metadata": {},
     "output_type": "execute_result"
    }
   ],
   "source": [
    "diff(k_conserved.rhs,z).subs([dv1_lk.args, dv2_lk.args]).expand().collect(u(z))"
   ]
  },
  {
   "cell_type": "code",
   "execution_count": 260,
   "id": "afe71ab1-4832-45bf-8869-22b0b535ff20",
   "metadata": {},
   "outputs": [
    {
     "data": {
      "text/latex": [
       "$\\displaystyle v{\\left(z \\right)} = \\frac{\\alpha}{\\delta} - \\frac{\\frac{d}{d z} u{\\left(z \\right)}}{\\delta u{\\left(z \\right)}}$"
      ],
      "text/plain": [
       "Eq(v(z), alpha/delta - Derivative(u(z), z)/(delta*u(z)))"
      ]
     },
     "execution_count": 260,
     "metadata": {},
     "output_type": "execute_result"
    }
   ],
   "source": [
    "v_as_ln_diff_u_lk = Eq(v(z), solve(dv1_lk.lhs - dv1_lk.rhs,v(z))[0])\n",
    "v_as_ln_diff_u_lk"
   ]
  },
  {
   "cell_type": "code",
   "execution_count": 261,
   "id": "56afb629-b7d7-4c78-9ac9-40036d3ba001",
   "metadata": {},
   "outputs": [
    {
     "data": {
      "text/latex": [
       "$\\displaystyle \\left(\\frac{\\alpha}{\\delta} - \\frac{\\frac{d}{d z} u{\\left(z \\right)}}{\\delta u{\\left(z \\right)}}\\right) u{\\left(z \\right)} \\kappa + \\left(\\frac{\\alpha}{\\delta} - \\frac{\\frac{d}{d z} u{\\left(z \\right)}}{\\delta u{\\left(z \\right)}}\\right) \\beta + \\frac{\\partial}{\\partial z} \\left(\\frac{\\alpha}{\\delta} - \\frac{\\frac{d}{d z} u{\\left(z \\right)}}{\\delta u{\\left(z \\right)}}\\right) = 0$"
      ],
      "text/plain": [
       "Eq((alpha/delta - Derivative(u(z), z)/(delta*u(z)))*u(z)*kappa + (alpha/delta - Derivative(u(z), z)/(delta*u(z)))*beta + Derivative(alpha/delta - Derivative(u(z), z)/(delta*u(z)), z), 0)"
      ]
     },
     "execution_count": 261,
     "metadata": {},
     "output_type": "execute_result"
    }
   ],
   "source": [
    "diff_u_only_eq_lk = Eq((dv2_lk.lhs - dv2_lk.rhs).subs(*v_as_ln_diff_u_lk.args),0)\n",
    "diff_u_only_eq_lk"
   ]
  },
  {
   "cell_type": "code",
   "execution_count": 479,
   "id": "f1f8d789-b527-4e4d-9fa2-f5b7086cc8c3",
   "metadata": {},
   "outputs": [
    {
     "data": {
      "text/latex": [
       "$\\displaystyle \\alpha u^{3}{\\left(z \\right)} \\kappa + \\alpha u^{2}{\\left(z \\right)} \\beta - u^{2}{\\left(z \\right)} \\frac{d}{d z} u{\\left(z \\right)} \\kappa - u{\\left(z \\right)} \\frac{d}{d z} u{\\left(z \\right)} \\beta - u{\\left(z \\right)} \\frac{d^{2}}{d z^{2}} u{\\left(z \\right)} + \\left(\\frac{d}{d z} u{\\left(z \\right)}\\right)^{2}$"
      ],
      "text/plain": [
       "alpha*u(z)**3*kappa + alpha*u(z)**2*beta - u(z)**2*Derivative(u(z), z)*kappa - u(z)*Derivative(u(z), z)*beta - u(z)*Derivative(u(z), (z, 2)) + Derivative(u(z), z)**2"
      ]
     },
     "execution_count": 479,
     "metadata": {},
     "output_type": "execute_result"
    }
   ],
   "source": [
    "diff_u_only_eq_lk_expanded = (diff_u_only_eq_lk.doit().expand().lhs*u(z)**2*delta).expand()\n",
    "diff_u_only_eq_lk_expanded"
   ]
  },
  {
   "cell_type": "markdown",
   "id": "143cfd37-0e0e-4528-972c-9e6e619b1310",
   "metadata": {},
   "source": [
    "## A solvable Lotka–Volterra like system\n",
    "Thus far, solving the Lotka-Volterra system has proved difficult. In order to get some angle of attack, a Lagrangian is constructed that has at least some similarity with the LK system, but conserves a known quantity and can be solved using elliptic functions. This Lagrangian is as follows:"
   ]
  },
  {
   "cell_type": "code",
   "execution_count": 51,
   "id": "68cb3767-7d26-4c40-8b38-9f03089ea436",
   "metadata": {},
   "outputs": [
    {
     "data": {
      "text/latex": [
       "$\\displaystyle L{\\left(u{\\left(z \\right)},v{\\left(z \\right)},\\frac{d}{d z} u{\\left(z \\right)},\\frac{d}{d z} v{\\left(z \\right)} \\right)} = - \\alpha u{\\left(z \\right)} v{\\left(z \\right)} - \\delta u{\\left(z \\right)} v^{2}{\\left(z \\right)} - u^{2}{\\left(z \\right)} v{\\left(z \\right)} \\beta + \\frac{u{\\left(z \\right)} \\frac{d}{d z} v{\\left(z \\right)}}{2} - \\frac{v{\\left(z \\right)} \\frac{d}{d z} u{\\left(z \\right)}}{2}$"
      ],
      "text/plain": [
       "Eq(L(u(z), v(z), Derivative(u(z), z), Derivative(v(z), z)), -alpha*u(z)*v(z) - delta*u(z)*v(z)**2 - u(z)**2*v(z)*beta + u(z)*Derivative(v(z), z)/2 - v(z)*Derivative(u(z), z)/2)"
      ]
     },
     "execution_count": 51,
     "metadata": {},
     "output_type": "execute_result"
    }
   ],
   "source": [
    "kinetic  = (u(z)*diff(v(z),z) - v(z)*diff(u(z),z))/2\n",
    "potential = alpha*u(z)*v(z) +delta*u(z)*v(z)**2 + beta*u(z)**2*v(z)\n",
    "lagrangian = Eq(L(u(z),v(z),diff(u(z),z),diff(v(z),z)), kinetic - potential)\n",
    "lagrangian"
   ]
  },
  {
   "cell_type": "markdown",
   "id": "62a20d13-edfa-4d09-a295-cc2f1fef793c",
   "metadata": {},
   "source": [
    "So it can be seen that the difference with the LK system and this one, is the $u(z)^2, v(z)^2$ terms in this example:"
   ]
  },
  {
   "cell_type": "code",
   "execution_count": 53,
   "id": "c3e7bbce-081c-4723-a842-34806ec74c8f",
   "metadata": {},
   "outputs": [
    {
     "data": {
      "text/latex": [
       "$\\displaystyle \\frac{d}{d z} v{\\left(z \\right)} = \\alpha v{\\left(z \\right)} + \\delta v^{2}{\\left(z \\right)} + 2 u{\\left(z \\right)} v{\\left(z \\right)} \\beta$"
      ],
      "text/plain": [
       "Eq(Derivative(v(z), z), alpha*v(z) + delta*v(z)**2 + 2*u(z)*v(z)*beta)"
      ]
     },
     "execution_count": 53,
     "metadata": {},
     "output_type": "execute_result"
    },
    {
     "data": {
      "text/latex": [
       "$\\displaystyle \\frac{d}{d z} u{\\left(z \\right)} = - \\alpha u{\\left(z \\right)} - 2 \\delta u{\\left(z \\right)} v{\\left(z \\right)} - u^{2}{\\left(z \\right)} \\beta$"
      ],
      "text/plain": [
       "Eq(Derivative(u(z), z), -alpha*u(z) - 2*delta*u(z)*v(z) - u(z)**2*beta)"
      ]
     },
     "execution_count": 53,
     "metadata": {},
     "output_type": "execute_result"
    }
   ],
   "source": [
    "dv1 = Eq(diff(v(z),z),solve(euler_lagrange_eqs[0].subs(*lagrangian.args).doit() , diff(v(z),z))[0]).expand()\n",
    "dv2 = Eq(diff(u(z),z),solve(euler_lagrange_eqs[1].subs(*lagrangian.args).doit() , diff(u(z),z))[0]).expand()\n",
    "dv1\n",
    "dv2"
   ]
  },
  {
   "cell_type": "markdown",
   "id": "09ec2a3d-f819-4c3f-bce5-23c7988a584f",
   "metadata": {},
   "source": [
    "The system can easily be rescaled to reduce the number of paramters:"
   ]
  },
  {
   "cell_type": "code",
   "execution_count": 54,
   "id": "f3b0a41b-7a5a-4475-afb8-3fb249ab63c7",
   "metadata": {},
   "outputs": [
    {
     "data": {
      "text/latex": [
       "$\\displaystyle \\frac{d}{d z} v{\\left(z \\right)} = \\left(\\alpha + 2 u{\\left(z \\right)} + v{\\left(z \\right)}\\right) v{\\left(z \\right)}$"
      ],
      "text/plain": [
       "Eq(Derivative(v(z), z), (alpha + 2*u(z) + v(z))*v(z))"
      ]
     },
     "execution_count": 54,
     "metadata": {},
     "output_type": "execute_result"
    },
    {
     "data": {
      "text/latex": [
       "$\\displaystyle \\frac{d}{d z} u{\\left(z \\right)} = \\left(- \\alpha - u{\\left(z \\right)} - 2 v{\\left(z \\right)}\\right) u{\\left(z \\right)}$"
      ],
      "text/plain": [
       "Eq(Derivative(u(z), z), (-alpha - u(z) - 2*v(z))*u(z))"
      ]
     },
     "execution_count": 54,
     "metadata": {},
     "output_type": "execute_result"
    }
   ],
   "source": [
    "dv1_scaled = dv1.subs([(u(z),u(z)/beta),(v(z),v(z)/delta)])\n",
    "dv2_scaled = dv2.subs([(u(z),u(z)/beta),(v(z),v(z)/delta)])\n",
    "dv1_scaled = Eq(dv1_scaled.lhs*delta, dv1_scaled.rhs*delta).simplify()\n",
    "dv2_scaled = Eq(dv2_scaled.lhs*beta, dv2_scaled.rhs*beta).simplify()\n",
    "dv1_scaled\n",
    "dv2_scaled"
   ]
  },
  {
   "cell_type": "markdown",
   "id": "586263a2-3b85-4fd6-9997-11d7fa7d7ded",
   "metadata": {},
   "source": [
    "It conserves the following quantity:"
   ]
  },
  {
   "cell_type": "code",
   "execution_count": 55,
   "id": "6ae735d8-4b4d-4f89-a7b9-dc2768061f45",
   "metadata": {},
   "outputs": [
    {
     "data": {
      "text/latex": [
       "$\\displaystyle p = \\alpha u{\\left(z \\right)} v{\\left(z \\right)} + u^{2}{\\left(z \\right)} v{\\left(z \\right)} + u{\\left(z \\right)} v^{2}{\\left(z \\right)}$"
      ],
      "text/plain": [
       "Eq(p, alpha*u(z)*v(z) + u(z)**2*v(z) + u(z)*v(z)**2)"
      ]
     },
     "execution_count": 55,
     "metadata": {},
     "output_type": "execute_result"
    }
   ],
   "source": [
    "potential_scaled = Eq(p,potential.subs([(delta,1),(beta,1)]))\n",
    "potential_scaled"
   ]
  },
  {
   "cell_type": "code",
   "execution_count": 56,
   "id": "ee93d6fc-b883-4ecb-b04a-f254fc4643bd",
   "metadata": {},
   "outputs": [
    {
     "data": {
      "text/latex": [
       "$\\displaystyle 0$"
      ],
      "text/plain": [
       "0"
      ]
     },
     "execution_count": 56,
     "metadata": {},
     "output_type": "execute_result"
    }
   ],
   "source": [
    "diff(potential_scaled.rhs.expand(),z).subs([dv1_scaled.args, dv2_scaled.args]).expand()"
   ]
  },
  {
   "cell_type": "markdown",
   "id": "a6b840b0-b824-48a4-a484-bcb7625f2e61",
   "metadata": {},
   "source": [
    "### Weierstrass sigma function solutions"
   ]
  },
  {
   "cell_type": "markdown",
   "id": "86d1b9ca-05bf-483e-a8bd-57411f8cc77d",
   "metadata": {},
   "source": [
    "It is easily shown that the product $u(z)v(z)$ (plus a constant) solves the differential Weierstrass P function:"
   ]
  },
  {
   "cell_type": "code",
   "execution_count": 57,
   "id": "96cfe595-a3af-47f0-a6ab-2ec3e05ef8cc",
   "metadata": {},
   "outputs": [
    {
     "data": {
      "text/latex": [
       "$\\displaystyle \\left(- \\alpha u{\\left(z \\right)} v{\\left(z \\right)} + p\\right)^{2} = \\left(u^{2}{\\left(z \\right)} v{\\left(z \\right)} + u{\\left(z \\right)} v^{2}{\\left(z \\right)}\\right)^{2}$"
      ],
      "text/plain": [
       "Eq((-alpha*u(z)*v(z) + p)**2, (u(z)**2*v(z) + u(z)*v(z)**2)**2)"
      ]
     },
     "execution_count": 57,
     "metadata": {},
     "output_type": "execute_result"
    }
   ],
   "source": [
    "p_sqrd_terms = Eq((p - alpha*u(z)*v(z))**2,(potential_scaled.rhs.expand() - alpha*u(z)*v(z))**2)\n",
    "p_sqrd_terms"
   ]
  },
  {
   "cell_type": "code",
   "execution_count": 58,
   "id": "38315e4d-52ad-4efd-abde-bffdb5e2f164",
   "metadata": {},
   "outputs": [
    {
     "data": {
      "text/latex": [
       "$\\displaystyle \\left(\\frac{d}{d z} u{\\left(z \\right)} v{\\left(z \\right)}\\right)^{2} = \\alpha^{2} u^{2}{\\left(z \\right)} v^{2}{\\left(z \\right)} - 2 \\alpha u{\\left(z \\right)} v{\\left(z \\right)} p - 4 u^{3}{\\left(z \\right)} v^{3}{\\left(z \\right)} + p^{2}$"
      ],
      "text/plain": [
       "Eq(Derivative(u(z)*v(z), z)**2, alpha**2*u(z)**2*v(z)**2 - 2*alpha*u(z)*v(z)*p - 4*u(z)**3*v(z)**3 + p**2)"
      ]
     },
     "execution_count": 58,
     "metadata": {},
     "output_type": "execute_result"
    }
   ],
   "source": [
    "duv_sqrd = Eq(Derivative(u(z)*v(z),z)**2, ((diff(u(z)*v(z),z).subs(\n",
    "    [dv1_scaled.args, dv2_scaled.args]).expand())**2 - (p_sqrd_terms.rhs - p_sqrd_terms.lhs)).expand())\n",
    "duv_sqrd"
   ]
  },
  {
   "cell_type": "code",
   "execution_count": 59,
   "id": "c095bf68-b670-4cc7-8578-e03d0323b618",
   "metadata": {},
   "outputs": [
    {
     "data": {
      "text/latex": [
       "$\\displaystyle u{\\left(z \\right)} = \\frac{\\frac{\\alpha^{2}}{12} - f{\\left(z \\right)}}{v{\\left(z \\right)}}$"
      ],
      "text/plain": [
       "Eq(u(z), (alpha**2/12 - f(z))/v(z))"
      ]
     },
     "execution_count": 59,
     "metadata": {},
     "output_type": "execute_result"
    }
   ],
   "source": [
    "ufv_sub = Eq(u(z),(-f(z)+solve(duv_sqrd.subs(u(z),(-f(z)+c)/v(z)).rhs.expand().collect(f(z)).coeff(f(z)**2),c)[0])/v(z))\n",
    "ufv_sub"
   ]
  },
  {
   "cell_type": "code",
   "execution_count": 60,
   "id": "0c4c3350-41d2-4a58-bc63-8755708a810d",
   "metadata": {},
   "outputs": [
    {
     "data": {
      "text/latex": [
       "$\\displaystyle \\left(\\frac{d}{d z} f{\\left(z \\right)}\\right)^{2} = \\frac{\\alpha^{6}}{216} - \\frac{\\alpha^{3} p}{6} + \\left(- \\frac{\\alpha^{4}}{12} + 2 \\alpha p\\right) f{\\left(z \\right)} + 4 f^{3}{\\left(z \\right)} + p^{2}$"
      ],
      "text/plain": [
       "Eq(Derivative(f(z), z)**2, alpha**6/216 - alpha**3*p/6 + (-alpha**4/12 + 2*alpha*p)*f(z) + 4*f(z)**3 + p**2)"
      ]
     },
     "execution_count": 60,
     "metadata": {},
     "output_type": "execute_result"
    }
   ],
   "source": [
    "df_sqrd = duv_sqrd.subs(*ufv_sub.args).doit().expand()\n",
    "df_sqrd = Eq(df_sqrd.lhs, (df_sqrd.rhs).collect(f(z)))\n",
    "df_sqrd"
   ]
  },
  {
   "cell_type": "code",
   "execution_count": 61,
   "id": "bb5b6851-ff14-4198-9bc2-e09b9b2acafd",
   "metadata": {},
   "outputs": [
    {
     "data": {
      "text/latex": [
       "$\\displaystyle g_{2} = \\frac{\\alpha^{4}}{12} - 2 \\alpha p$"
      ],
      "text/plain": [
       "Eq(g2, alpha**4/12 - 2*alpha*p)"
      ]
     },
     "execution_count": 61,
     "metadata": {},
     "output_type": "execute_result"
    }
   ],
   "source": [
    "g2_eq = Eq(g2, -df_sqrd.rhs.coeff(f(z)))\n",
    "g2_eq"
   ]
  },
  {
   "cell_type": "code",
   "execution_count": 62,
   "id": "039d0ecb-7db4-49c5-bb07-6eeadf3818db",
   "metadata": {},
   "outputs": [
    {
     "data": {
      "text/latex": [
       "$\\displaystyle g_{3} = - \\frac{\\alpha^{6}}{216} + \\frac{\\alpha^{3} p}{6} - p^{2}$"
      ],
      "text/plain": [
       "Eq(g3, -alpha**6/216 + alpha**3*p/6 - p**2)"
      ]
     },
     "execution_count": 62,
     "metadata": {},
     "output_type": "execute_result"
    }
   ],
   "source": [
    "g3_eq = Eq(g3, -df_sqrd.rhs.subs(f(z),0))\n",
    "g3_eq"
   ]
  },
  {
   "cell_type": "code",
   "execution_count": 63,
   "id": "4a1a817e-ce05-4042-bdc5-38d3e5d85397",
   "metadata": {},
   "outputs": [
    {
     "data": {
      "text/latex": [
       "$\\displaystyle \\left(\\frac{d}{d z} f{\\left(z \\right)}\\right)^{2} = - g_{2} f{\\left(z \\right)} - g_{3} + 4 f^{3}{\\left(z \\right)}$"
      ],
      "text/plain": [
       "Eq(Derivative(f(z), z)**2, -g2*f(z) - g3 + 4*f(z)**3)"
      ]
     },
     "execution_count": 63,
     "metadata": {},
     "output_type": "execute_result"
    }
   ],
   "source": [
    "df_sqrd_wp = df_sqrd.subs([(g2_eq.rhs,g2_eq.lhs), (g3_eq.rhs,g3_eq.lhs)])\n",
    "df_sqrd_wp"
   ]
  },
  {
   "cell_type": "code",
   "execution_count": 64,
   "id": "486a7be9-28ec-4407-95ef-95aa8490898b",
   "metadata": {},
   "outputs": [
    {
     "data": {
      "text/latex": [
       "$\\displaystyle f{\\left(z \\right)} = \\operatorname{pw}{\\left(z - z_{0},g_{2},g_{3} \\right)}$"
      ],
      "text/plain": [
       "Eq(f(z), pw(z - z0, g2, g3))"
      ]
     },
     "execution_count": 64,
     "metadata": {},
     "output_type": "execute_result"
    }
   ],
   "source": [
    "fpw = Eq(f(z),pw(z-z0,g2,g3))\n",
    "fpw"
   ]
  },
  {
   "cell_type": "code",
   "execution_count": 65,
   "id": "aa64821c-5d3f-43f0-a208-db72bb31338b",
   "metadata": {},
   "outputs": [
    {
     "data": {
      "text/latex": [
       "$\\displaystyle u{\\left(z \\right)} v{\\left(z \\right)} = \\frac{\\alpha^{2}}{12} - f{\\left(z \\right)}$"
      ],
      "text/plain": [
       "Eq(u(z)*v(z), alpha**2/12 - f(z))"
      ]
     },
     "execution_count": 65,
     "metadata": {},
     "output_type": "execute_result"
    }
   ],
   "source": [
    "uv_as_f = Eq(u(z)*v(z),(-f(z)+alpha**2/12))\n",
    "uv_as_f"
   ]
  },
  {
   "cell_type": "code",
   "execution_count": 352,
   "id": "86d02ed8-d183-435c-80a3-217d857344df",
   "metadata": {},
   "outputs": [
    {
     "data": {
      "text/latex": [
       "$\\displaystyle \\operatorname{pw}{\\left(z_{0},g_{2},g_{3} \\right)} = \\frac{\\alpha^{2}}{12} - u{\\left(0 \\right)} v{\\left(0 \\right)}$"
      ],
      "text/plain": [
       "Eq(pw(z0, g2, g3), alpha**2/12 - u(0)*v(0))"
      ]
     },
     "execution_count": 352,
     "metadata": {},
     "output_type": "execute_result"
    }
   ],
   "source": [
    "u0_v0_pw_z0 = uv_as_f.subs(*fpw.args).subs(z,0).subs(pw(-z0,g2,g3),pw(z0,g2,g3))\n",
    "pw_z0_u0_v0 = Eq(pw(z0,g2,g3), solve(u0_v0_pw_z0.lhs - u0_v0_pw_z0.rhs, pw(z0,g2,g3))[0])\n",
    "pw_z0_u0_v0"
   ]
  },
  {
   "cell_type": "code",
   "execution_count": 370,
   "id": "fb967300-e1c8-45e8-86be-5166bec3ad1b",
   "metadata": {},
   "outputs": [
    {
     "data": {
      "text/latex": [
       "$\\displaystyle \\operatorname{pwp}{\\left(z_{0},g_{2},g_{3} \\right)} = u^{2}{\\left(0 \\right)} v{\\left(0 \\right)} - u{\\left(0 \\right)} v^{2}{\\left(0 \\right)}$"
      ],
      "text/plain": [
       "Eq(pwp(z0, g2, g3), u(0)**2*v(0) - u(0)*v(0)**2)"
      ]
     },
     "execution_count": 370,
     "metadata": {},
     "output_type": "execute_result"
    }
   ],
   "source": [
    "pwp_z0_u0_v0 = Eq(\n",
    "    -pwp(z-z0,g2,g3),\n",
    "    diff(uv_as_f.subs(*fpw.args).lhs,z)\n",
    ").subs([dv1_scaled.args, dv2_scaled.args]).expand().subs(z,0).subs(pwp(-z0,g2,g3),-pwp(z0,g2,g3))\n",
    "pwp_z0_u0_v0"
   ]
  },
  {
   "cell_type": "code",
   "execution_count": 66,
   "id": "7cc875de-76b9-49a4-8f3e-b7a2fcbef2b7",
   "metadata": {},
   "outputs": [
    {
     "data": {
      "text/latex": [
       "$\\displaystyle \\frac{\\frac{d}{d z} u{\\left(z \\right)}}{u{\\left(z \\right)}} = \\frac{\\frac{d}{d z} \\log{\\left(u{\\left(z \\right)} v{\\left(z \\right)} \\right)}}{2} - \\frac{\\frac{d}{d z} v{\\left(z \\right)}}{2 v{\\left(z \\right)}} + \\frac{\\frac{d}{d z} u{\\left(z \\right)}}{2 u{\\left(z \\right)}}$"
      ],
      "text/plain": [
       "Eq(Derivative(u(z), z)/u(z), Derivative(log(u(z)*v(z)), z)/2 - Derivative(v(z), z)/(2*v(z)) + Derivative(u(z), z)/(2*u(z)))"
      ]
     },
     "execution_count": 66,
     "metadata": {},
     "output_type": "execute_result"
    }
   ],
   "source": [
    "dln_u_as_du_dv = Eq(diff(ln(u(z)),z), Derivative(ln(u(z)*v(z)),z)/2 + diff(ln(u(z)/v(z)),z).expand()/2)\n",
    "dln_u_as_du_dv"
   ]
  },
  {
   "cell_type": "code",
   "execution_count": 67,
   "id": "2a8ea5bf-9e1f-4e2b-83a6-47b6e898e4cf",
   "metadata": {},
   "outputs": [
    {
     "data": {
      "text/latex": [
       "$\\displaystyle - \\frac{\\frac{d}{d z} v{\\left(z \\right)}}{2 v{\\left(z \\right)}} + \\frac{\\frac{d}{d z} u{\\left(z \\right)}}{2 u{\\left(z \\right)}} = - \\alpha - \\frac{3 u{\\left(z \\right)}}{2} - \\frac{3 v{\\left(z \\right)}}{2}$"
      ],
      "text/plain": [
       "Eq(-Derivative(v(z), z)/(2*v(z)) + Derivative(u(z), z)/(2*u(z)), -alpha - 3*u(z)/2 - 3*v(z)/2)"
      ]
     },
     "execution_count": 67,
     "metadata": {},
     "output_type": "execute_result"
    }
   ],
   "source": [
    "dln_u_over_v = Eq(diff(ln(u(z)/v(z)),z).expand()/2, diff(ln(u(z)/v(z)),z).expand().subs([dv1_scaled.args, dv2_scaled.args])/2)\n",
    "dln_u_over_v"
   ]
  },
  {
   "cell_type": "code",
   "execution_count": 69,
   "id": "eae4a9fc-a2f5-45a4-9998-8db076f4db41",
   "metadata": {},
   "outputs": [
    {
     "data": {
      "text/latex": [
       "$\\displaystyle \\frac{3 p}{2 u{\\left(z \\right)} v{\\left(z \\right)}} = \\frac{3 \\alpha}{2} + \\frac{3 u{\\left(z \\right)}}{2} + \\frac{3 v{\\left(z \\right)}}{2}$"
      ],
      "text/plain": [
       "Eq(3*p/(2*u(z)*v(z)), 3*alpha/2 + 3*u(z)/2 + 3*v(z)/2)"
      ]
     },
     "execution_count": 69,
     "metadata": {},
     "output_type": "execute_result"
    }
   ],
   "source": [
    "p_over_uv = Eq(3*p/u(z)/v(z)/2, 3*(potential_scaled.rhs/u(z)/v(z)).expand()/2)\n",
    "p_over_uv"
   ]
  },
  {
   "cell_type": "code",
   "execution_count": 70,
   "id": "b0c8c8de-713c-4c2d-aad6-e9881e0713ba",
   "metadata": {},
   "outputs": [
    {
     "data": {
      "text/latex": [
       "$\\displaystyle - \\frac{\\frac{d}{d z} v{\\left(z \\right)}}{2 v{\\left(z \\right)}} + \\frac{\\frac{d}{d z} u{\\left(z \\right)}}{2 u{\\left(z \\right)}} = \\frac{\\alpha}{2} - \\frac{3 p}{2 u{\\left(z \\right)} v{\\left(z \\right)}}$"
      ],
      "text/plain": [
       "Eq(-Derivative(v(z), z)/(2*v(z)) + Derivative(u(z), z)/(2*u(z)), alpha/2 - 3*p/(2*u(z)*v(z)))"
      ]
     },
     "execution_count": 70,
     "metadata": {},
     "output_type": "execute_result"
    }
   ],
   "source": [
    "dln_u_over_v_with_p = Eq(dln_u_over_v.lhs, dln_u_over_v.rhs - p_over_uv.lhs + p_over_uv.rhs)\n",
    "dln_u_over_v_with_p"
   ]
  },
  {
   "cell_type": "code",
   "execution_count": 71,
   "id": "7b1cf7d7-10f9-4896-921b-8ffe9a72df33",
   "metadata": {},
   "outputs": [
    {
     "data": {
      "text/latex": [
       "$\\displaystyle \\frac{\\frac{d}{d z} u{\\left(z \\right)}}{u{\\left(z \\right)}} = \\frac{\\alpha}{2} - \\frac{3 p}{\\frac{\\alpha^{2}}{6} - 2 f{\\left(z \\right)}} - \\frac{\\frac{d}{d z} f{\\left(z \\right)}}{2 \\left(\\frac{\\alpha^{2}}{12} - f{\\left(z \\right)}\\right)}$"
      ],
      "text/plain": [
       "Eq(Derivative(u(z), z)/u(z), alpha/2 - 3*p/(alpha**2/6 - 2*f(z)) - Derivative(f(z), z)/(2*(alpha**2/12 - f(z))))"
      ]
     },
     "execution_count": 71,
     "metadata": {},
     "output_type": "execute_result"
    }
   ],
   "source": [
    "dln_u_f = dln_u_as_du_dv.subs(*dln_u_over_v_with_p.args).subs(*uv_as_f.args).doit()\n",
    "dln_u_f"
   ]
  },
  {
   "cell_type": "code",
   "execution_count": 72,
   "id": "743b3c53-ceea-468d-836f-5db65f0d665f",
   "metadata": {},
   "outputs": [
    {
     "data": {
      "text/latex": [
       "$\\displaystyle \\operatorname{pw}{\\left({\\xi}_{0},g_{2},g_{3} \\right)} = \\frac{\\alpha^{2}}{12}$"
      ],
      "text/plain": [
       "Eq(pw(xi[0], g2, g3), alpha**2/12)"
      ]
     },
     "execution_count": 72,
     "metadata": {},
     "output_type": "execute_result"
    }
   ],
   "source": [
    "pw_alpha = Eq(pw(xi[0],g2,g3),alpha**2/12)\n",
    "pw_alpha"
   ]
  },
  {
   "cell_type": "code",
   "execution_count": 75,
   "id": "71a5ee21-a841-4b66-9a4e-cbed7a84e5ee",
   "metadata": {},
   "outputs": [
    {
     "data": {
      "text/latex": [
       "$\\displaystyle \\operatorname{pwp}^{2}{\\left({\\xi}_{0},g_{2},g_{3} \\right)} = p^{2}$"
      ],
      "text/plain": [
       "Eq(pwp(xi[0], g2, g3)**2, p**2)"
      ]
     },
     "execution_count": 75,
     "metadata": {},
     "output_type": "execute_result"
    }
   ],
   "source": [
    "Eq(pwp(xi[0],g2,g3)**2, df_sqrd.rhs.subs(f(z),alpha**2/12)).expand()"
   ]
  },
  {
   "cell_type": "code",
   "execution_count": 76,
   "id": "a4126604-c140-4781-9731-29befaab747a",
   "metadata": {},
   "outputs": [
    {
     "data": {
      "text/latex": [
       "$\\displaystyle \\operatorname{pwp}{\\left({\\xi}_{0},g_{2},g_{3} \\right)} = p$"
      ],
      "text/plain": [
       "Eq(pwp(xi[0], g2, g3), p)"
      ]
     },
     "execution_count": 76,
     "metadata": {},
     "output_type": "execute_result"
    }
   ],
   "source": [
    "pwp_xi0 = Eq(pwp(xi[0],g2,g3), p)\n",
    "pwp_xi0"
   ]
  },
  {
   "cell_type": "code",
   "execution_count": 77,
   "id": "b6440805-80c7-44cc-a3c7-d4360584bf6e",
   "metadata": {},
   "outputs": [
    {
     "data": {
      "text/latex": [
       "$\\displaystyle \\frac{\\frac{d}{d z} u{\\left(z \\right)}}{u{\\left(z \\right)}} = \\frac{\\alpha}{2} - \\frac{\\operatorname{pwp}{\\left(z - z_{0},g_{2},g_{3} \\right)}}{2 \\left(- \\operatorname{pw}{\\left(z - z_{0},g_{2},g_{3} \\right)} + \\operatorname{pw}{\\left({\\xi}_{0},g_{2},g_{3} \\right)}\\right)} - \\frac{3 \\operatorname{pwp}{\\left({\\xi}_{0},g_{2},g_{3} \\right)}}{- 2 \\operatorname{pw}{\\left(z - z_{0},g_{2},g_{3} \\right)} + 2 \\operatorname{pw}{\\left({\\xi}_{0},g_{2},g_{3} \\right)}}$"
      ],
      "text/plain": [
       "Eq(Derivative(u(z), z)/u(z), alpha/2 - pwp(z - z0, g2, g3)/(2*(-pw(z - z0, g2, g3) + pw(xi[0], g2, g3))) - 3*pwp(xi[0], g2, g3)/(-2*pw(z - z0, g2, g3) + 2*pw(xi[0], g2, g3)))"
      ]
     },
     "execution_count": 77,
     "metadata": {},
     "output_type": "execute_result"
    }
   ],
   "source": [
    "dln_u_pw_pwp = dln_u_f.subs([\n",
    "    fpw.args, (pw_alpha.rhs*12, pw_alpha.lhs*12),(pwp_xi0.rhs, pwp_xi0.lhs)]).subs(Derivative(pw(z-z0,g2,g3),z),pwp(z-z0,g2,g3))\n",
    "dln_u_pw_pwp"
   ]
  },
  {
   "cell_type": "code",
   "execution_count": 78,
   "id": "c33e65c9-99f8-498e-a39f-3b94574b38a2",
   "metadata": {},
   "outputs": [
    {
     "data": {
      "text/latex": [
       "$\\displaystyle \\frac{\\operatorname{pwp}{\\left(z - z_{0},g_{2},g_{3} \\right)}}{2 \\operatorname{pw}{\\left(z - z_{0},g_{2},g_{3} \\right)} - 2 \\operatorname{pw}{\\left({\\xi}_{0},g_{2},g_{3} \\right)}} + \\frac{3 \\operatorname{pwp}{\\left({\\xi}_{0},g_{2},g_{3} \\right)}}{2 \\operatorname{pw}{\\left(z - z_{0},g_{2},g_{3} \\right)} - 2 \\operatorname{pw}{\\left({\\xi}_{0},g_{2},g_{3} \\right)}} = - \\operatorname{zw}{\\left(z - z_{0},g_{2},g_{3} \\right)} + 2 \\operatorname{zw}{\\left(z - z_{0} - {\\xi}_{0},g_{2},g_{3} \\right)} - \\operatorname{zw}{\\left(z - z_{0} + {\\xi}_{0},g_{2},g_{3} \\right)} + 3 \\operatorname{zw}{\\left({\\xi}_{0},g_{2},g_{3} \\right)}$"
      ],
      "text/plain": [
       "Eq(pwp(z - z0, g2, g3)/(2*pw(z - z0, g2, g3) - 2*pw(xi[0], g2, g3)) + 3*pwp(xi[0], g2, g3)/(2*pw(z - z0, g2, g3) - 2*pw(xi[0], g2, g3)), -zw(z - z0, g2, g3) + 2*zw(z - z0 - xi[0], g2, g3) - zw(z - z0 + xi[0], g2, g3) + 3*zw(xi[0], g2, g3))"
      ]
     },
     "execution_count": 78,
     "metadata": {},
     "output_type": "execute_result"
    }
   ],
   "source": [
    "pw_pwp_zw_Z_xi0 = Eq(\n",
    "    (2*pw_to_zw_identity.subs([(x,z-z0),(y,-xi[0])]).lhs - \n",
    "     pw_to_zw_identity.subs([(x,z-z0),(y,xi[0])]).lhs).expand().subs([\n",
    "        (pwp(-xi[0],g2,g3),-pwp(xi[0],g2,g3)), (pw(-xi[0],g2,g3),pw(xi[0],g2,g3))\n",
    "    ]).simplify().expand(),\n",
    "    (2*pw_to_zw_identity.subs([(x,z-z0),(y,-xi[0])]).rhs - \n",
    "     pw_to_zw_identity.subs([(x,z-z0),(y,xi[0])]).rhs).expand().subs([\n",
    "        (zw(-xi[0],g2,g3),-zw(xi[0],g2,g3))\n",
    "    ]).simplify().expand()\n",
    ")\n",
    "pw_pwp_zw_Z_xi0"
   ]
  },
  {
   "cell_type": "code",
   "execution_count": 79,
   "id": "34225eff-cdfc-4f05-bd21-2d58cc8cb82d",
   "metadata": {},
   "outputs": [
    {
     "data": {
      "text/latex": [
       "$\\displaystyle \\frac{\\frac{d}{d z} u{\\left(z \\right)}}{u{\\left(z \\right)}} = \\frac{\\alpha}{2} - \\operatorname{zw}{\\left(z - z_{0},g_{2},g_{3} \\right)} + 2 \\operatorname{zw}{\\left(z - z_{0} - {\\xi}_{0},g_{2},g_{3} \\right)} - \\operatorname{zw}{\\left(z - z_{0} + {\\xi}_{0},g_{2},g_{3} \\right)} + 3 \\operatorname{zw}{\\left({\\xi}_{0},g_{2},g_{3} \\right)}$"
      ],
      "text/plain": [
       "Eq(Derivative(u(z), z)/u(z), alpha/2 - zw(z - z0, g2, g3) + 2*zw(z - z0 - xi[0], g2, g3) - zw(z - z0 + xi[0], g2, g3) + 3*zw(xi[0], g2, g3))"
      ]
     },
     "execution_count": 79,
     "metadata": {},
     "output_type": "execute_result"
    }
   ],
   "source": [
    "dlnu_zw_xi0 = Eq(dln_u_pw_pwp.lhs, dln_u_pw_pwp.rhs - pw_pwp_zw_Z_xi0.lhs + pw_pwp_zw_Z_xi0.rhs).simplify()\n",
    "dlnu_zw_xi0"
   ]
  },
  {
   "cell_type": "code",
   "execution_count": 80,
   "id": "462c390e-cb29-4dc9-8070-7cbd49e582d8",
   "metadata": {},
   "outputs": [
    {
     "data": {
      "text/latex": [
       "$\\displaystyle \\log{\\left(u{\\left(z \\right)} \\right)} = z \\left(\\frac{\\alpha}{2} + 3 \\operatorname{zw}{\\left({\\xi}_{0},g_{2},g_{3} \\right)}\\right) - \\log{\\left(\\sigma{\\left(z - z_{0},g_{2},g_{3} \\right)} \\right)} + 2 \\log{\\left(\\sigma{\\left(z - z_{0} - {\\xi}_{0},g_{2},g_{3} \\right)} \\right)} - \\log{\\left(\\sigma{\\left(z - z_{0} + {\\xi}_{0},g_{2},g_{3} \\right)} \\right)} + c$"
      ],
      "text/plain": [
       "Eq(log(u(z)), z*(alpha/2 + 3*zw(xi[0], g2, g3)) - log(sigma(z - z0, g2, g3)) + 2*log(sigma(z - z0 - xi[0], g2, g3)) - log(sigma(z - z0 + xi[0], g2, g3)) + c)"
      ]
     },
     "execution_count": 80,
     "metadata": {},
     "output_type": "execute_result"
    }
   ],
   "source": [
    "lnu_sigma = Eq(ln(u(z)), \n",
    "   (alpha/2+3*zw(xi[0],g2,g3))*z - ln(sigma(z-z0,g2,g3)) + 2*ln(sigma(z-z0-xi[0],g2,g3)) - ln(sigma(z-z0+xi[0],g2,g3)) +c)\n",
    "lnu_sigma"
   ]
  },
  {
   "cell_type": "code",
   "execution_count": 81,
   "id": "54aecaae-cde1-401a-941d-c99af7a9b041",
   "metadata": {},
   "outputs": [
    {
     "data": {
      "text/latex": [
       "$\\displaystyle u{\\left(z \\right)} = \\frac{\\sigma^{2}{\\left(z - z_{0} - {\\xi}_{0},g_{2},g_{3} \\right)} e^{z \\left(\\frac{\\alpha}{2} + 3 \\operatorname{zw}{\\left({\\xi}_{0},g_{2},g_{3} \\right)}\\right) + c}}{\\sigma{\\left(z - z_{0},g_{2},g_{3} \\right)} \\sigma{\\left(z - z_{0} + {\\xi}_{0},g_{2},g_{3} \\right)}}$"
      ],
      "text/plain": [
       "Eq(u(z), sigma(z - z0 - xi[0], g2, g3)**2*exp(z*(alpha/2 + 3*zw(xi[0], g2, g3)) + c)/(sigma(z - z0, g2, g3)*sigma(z - z0 + xi[0], g2, g3)))"
      ]
     },
     "execution_count": 81,
     "metadata": {},
     "output_type": "execute_result"
    }
   ],
   "source": [
    "u_as_sigma = Eq(u(z), exp((alpha/2+3*zw(xi[0],g2,g3))*z + c)*sigma(z-z0-xi[0],g2,g3)**2/sigma(z-z0,g2,g3)/sigma(z-z0+xi[0],g2,g3))\n",
    "u_as_sigma"
   ]
  },
  {
   "cell_type": "code",
   "execution_count": 82,
   "id": "127e39e6-b5ba-40d2-91c1-7bbdabe913e0",
   "metadata": {},
   "outputs": [
    {
     "data": {
      "text/latex": [
       "$\\displaystyle u{\\left(z \\right)} v{\\left(z \\right)} = - \\operatorname{pw}{\\left(z - z_{0},g_{2},g_{3} \\right)} + \\operatorname{pw}{\\left({\\xi}_{0},g_{2},g_{3} \\right)}$"
      ],
      "text/plain": [
       "Eq(u(z)*v(z), -pw(z - z0, g2, g3) + pw(xi[0], g2, g3))"
      ]
     },
     "execution_count": 82,
     "metadata": {},
     "output_type": "execute_result"
    }
   ],
   "source": [
    "uv_as_pw = uv_as_f.subs([(pw_alpha.rhs, pw_alpha.lhs), fpw.args])\n",
    "uv_as_pw"
   ]
  },
  {
   "cell_type": "code",
   "execution_count": 83,
   "id": "c0facf73-1990-4486-9197-3e470d6ee8b6",
   "metadata": {},
   "outputs": [
    {
     "data": {
      "text/latex": [
       "$\\displaystyle - \\operatorname{pw}{\\left(x,g_{2},g_{3} \\right)} + \\operatorname{pw}{\\left(y,g_{2},g_{3} \\right)} = \\frac{\\sigma{\\left(x - y,g_{2},g_{3} \\right)} \\sigma{\\left(x + y,g_{2},g_{3} \\right)}}{\\sigma^{2}{\\left(x,g_{2},g_{3} \\right)} \\sigma^{2}{\\left(y,g_{2},g_{3} \\right)}}$"
      ],
      "text/plain": [
       "Eq(-pw(x, g2, g3) + pw(y, g2, g3), sigma(x - y, g2, g3)*sigma(x + y, g2, g3)/(sigma(x, g2, g3)**2*sigma(y, g2, g3)**2))"
      ]
     },
     "execution_count": 83,
     "metadata": {},
     "output_type": "execute_result"
    }
   ],
   "source": [
    "sigma_p_identity = Eq(\n",
    "    pw(y, g2, g3) - pw(x, g2, g3),\n",
    "    sigma(x + y, g2, g3) * sigma(x - y, g2, g3) / (sigma(x, g2, g3) ** 2 * sigma(y, g2, g3) ** 2) \n",
    ")\n",
    "sigma_p_identity"
   ]
  },
  {
   "cell_type": "code",
   "execution_count": 84,
   "id": "80dda3c1-9669-410f-a7b1-e688e28a525e",
   "metadata": {},
   "outputs": [
    {
     "data": {
      "text/latex": [
       "$\\displaystyle u{\\left(z \\right)} v{\\left(z \\right)} = \\frac{\\sigma{\\left(z - z_{0} - {\\xi}_{0},g_{2},g_{3} \\right)} \\sigma{\\left(z - z_{0} + {\\xi}_{0},g_{2},g_{3} \\right)}}{\\sigma^{2}{\\left(z - z_{0},g_{2},g_{3} \\right)} \\sigma^{2}{\\left({\\xi}_{0},g_{2},g_{3} \\right)}}$"
      ],
      "text/plain": [
       "Eq(u(z)*v(z), sigma(z - z0 - xi[0], g2, g3)*sigma(z - z0 + xi[0], g2, g3)/(sigma(z - z0, g2, g3)**2*sigma(xi[0], g2, g3)**2))"
      ]
     },
     "execution_count": 84,
     "metadata": {},
     "output_type": "execute_result"
    }
   ],
   "source": [
    "uv_as_sigma = uv_as_pw.subs(*sigma_p_identity.subs([(y,xi[0]),(x,z-z0)]).args)\n",
    "uv_as_sigma"
   ]
  },
  {
   "cell_type": "code",
   "execution_count": 85,
   "id": "dc1d4597-51d4-4c69-bf15-8da65bb84c3d",
   "metadata": {},
   "outputs": [
    {
     "data": {
      "text/latex": [
       "$\\displaystyle v{\\left(z \\right)} = \\frac{\\sigma^{2}{\\left(z - z_{0} + {\\xi}_{0},g_{2},g_{3} \\right)} e^{- \\frac{\\alpha z}{2} - 3 z \\operatorname{zw}{\\left({\\xi}_{0},g_{2},g_{3} \\right)} - c}}{\\sigma{\\left(z - z_{0},g_{2},g_{3} \\right)} \\sigma{\\left(z - z_{0} - {\\xi}_{0},g_{2},g_{3} \\right)} \\sigma^{2}{\\left({\\xi}_{0},g_{2},g_{3} \\right)}}$"
      ],
      "text/plain": [
       "Eq(v(z), sigma(z - z0 + xi[0], g2, g3)**2*exp(-alpha*z/2 - 3*z*zw(xi[0], g2, g3) - c)/(sigma(z - z0, g2, g3)*sigma(z - z0 - xi[0], g2, g3)*sigma(xi[0], g2, g3)**2))"
      ]
     },
     "execution_count": 85,
     "metadata": {},
     "output_type": "execute_result"
    }
   ],
   "source": [
    "v_as_sigma = Eq(v(z),solve(uv_as_sigma.subs(*u_as_sigma.args),v(z))[0])\n",
    "v_as_sigma"
   ]
  },
  {
   "cell_type": "code",
   "execution_count": 545,
   "id": "35ca1658-a2d5-4e26-b9bc-26c4f68dc830",
   "metadata": {},
   "outputs": [
    {
     "data": {
      "text/latex": [
       "$\\displaystyle u{\\left(z \\right)} = \\frac{\\sigma{\\left(- z_{0},g_{2},g_{3} \\right)} \\sigma{\\left(- z_{0} + {\\xi}_{0},g_{2},g_{3} \\right)} \\sigma^{2}{\\left(z - z_{0} - {\\xi}_{0},g_{2},g_{3} \\right)} u{\\left(0 \\right)} e^{\\frac{z \\left(\\alpha + 6 \\operatorname{zw}{\\left({\\xi}_{0},g_{2},g_{3} \\right)}\\right)}{2}}}{\\sigma{\\left(z - z_{0},g_{2},g_{3} \\right)} \\sigma^{2}{\\left(- z_{0} - {\\xi}_{0},g_{2},g_{3} \\right)} \\sigma{\\left(z - z_{0} + {\\xi}_{0},g_{2},g_{3} \\right)}}$"
      ],
      "text/plain": [
       "Eq(u(z), sigma(-z0, g2, g3)*sigma(-z0 + xi[0], g2, g3)*sigma(z - z0 - xi[0], g2, g3)**2*u(0)*exp(z*(alpha + 6*zw(xi[0], g2, g3))/2)/(sigma(z - z0, g2, g3)*sigma(-z0 - xi[0], g2, g3)**2*sigma(z - z0 + xi[0], g2, g3)))"
      ]
     },
     "execution_count": 545,
     "metadata": {},
     "output_type": "execute_result"
    },
    {
     "data": {
      "text/latex": [
       "$\\displaystyle v{\\left(z \\right)} = \\frac{\\sigma{\\left(- z_{0},g_{2},g_{3} \\right)} \\sigma{\\left(- z_{0} - {\\xi}_{0},g_{2},g_{3} \\right)} \\sigma^{2}{\\left(z - z_{0} + {\\xi}_{0},g_{2},g_{3} \\right)} v{\\left(0 \\right)} e^{- \\frac{z \\left(\\alpha + 6 \\operatorname{zw}{\\left({\\xi}_{0},g_{2},g_{3} \\right)}\\right)}{2}}}{\\sigma{\\left(z - z_{0},g_{2},g_{3} \\right)} \\sigma^{2}{\\left(- z_{0} + {\\xi}_{0},g_{2},g_{3} \\right)} \\sigma{\\left(z - z_{0} - {\\xi}_{0},g_{2},g_{3} \\right)}}$"
      ],
      "text/plain": [
       "Eq(v(z), sigma(-z0, g2, g3)*sigma(-z0 - xi[0], g2, g3)*sigma(z - z0 + xi[0], g2, g3)**2*v(0)*exp(-z*(alpha + 6*zw(xi[0], g2, g3))/2)/(sigma(z - z0, g2, g3)*sigma(-z0 + xi[0], g2, g3)**2*sigma(z - z0 - xi[0], g2, g3)))"
      ]
     },
     "execution_count": 545,
     "metadata": {},
     "output_type": "execute_result"
    }
   ],
   "source": [
    "u_as_sigma_u0 = u_as_sigma.expand().subs(exp(c), solve(u_as_sigma.subs(z,0),exp(c))[0]).simplify()\n",
    "v_as_sigma_v0 = v_as_sigma.expand().subs(exp(c), solve(v_as_sigma.subs(z,0),exp(c))[0]).simplify()\n",
    "u_as_sigma_u0\n",
    "v_as_sigma_v0"
   ]
  },
  {
   "cell_type": "markdown",
   "id": "5182343e-aa74-4d91-a7ee-21c3c39eb14f",
   "metadata": {},
   "source": [
    "### Weierstrass zeta function solutions\n",
    "The solutions can also be expressed in terms of Weierstrass zeta functions."
   ]
  },
  {
   "cell_type": "code",
   "execution_count": 93,
   "id": "0a638d8b-f1ed-4d4a-ae97-741e17b0ed82",
   "metadata": {},
   "outputs": [
    {
     "data": {
      "text/latex": [
       "$\\displaystyle \\frac{\\frac{d}{d z} v{\\left(z \\right)}}{v{\\left(z \\right)}} = - \\frac{\\alpha}{2} - \\operatorname{zw}{\\left(z - z_{0},g_{2},g_{3} \\right)} - \\operatorname{zw}{\\left(z - z_{0} - {\\xi}_{0},g_{2},g_{3} \\right)} + 2 \\operatorname{zw}{\\left(z - z_{0} + {\\xi}_{0},g_{2},g_{3} \\right)} - 3 \\operatorname{zw}{\\left({\\xi}_{0},g_{2},g_{3} \\right)}$"
      ],
      "text/plain": [
       "Eq(Derivative(v(z), z)/v(z), -alpha/2 - zw(z - z0, g2, g3) - zw(z - z0 - xi[0], g2, g3) + 2*zw(z - z0 + xi[0], g2, g3) - 3*zw(xi[0], g2, g3))"
      ]
     },
     "execution_count": 93,
     "metadata": {},
     "output_type": "execute_result"
    }
   ],
   "source": [
    "dlnv_zw_xi0 = Eq(diff(ln(v_as_sigma.lhs),z),diff(ln(v_as_sigma.rhs),z)).expand()\n",
    "dlnv_zw_xi0 = dlnv_zw_xi0.subs([sigma_zeta_eq.subs(z,z-z0-xi[0]).args, sigma_zeta_eq.subs(z,z-z0+xi[0]).args, sigma_zeta_eq.subs(z,z-z0).args])\n",
    "dlnv_zw_xi0"
   ]
  },
  {
   "cell_type": "code",
   "execution_count": 94,
   "id": "09c0b131-6ecf-404a-9335-863cf3a022d1",
   "metadata": {},
   "outputs": [
    {
     "data": {
      "text/latex": [
       "$\\displaystyle \\alpha + 2 u{\\left(z \\right)} + v{\\left(z \\right)} = - \\frac{\\alpha}{2} - \\operatorname{zw}{\\left(z - z_{0},g_{2},g_{3} \\right)} - \\operatorname{zw}{\\left(z - z_{0} - {\\xi}_{0},g_{2},g_{3} \\right)} + 2 \\operatorname{zw}{\\left(z - z_{0} + {\\xi}_{0},g_{2},g_{3} \\right)} - 3 \\operatorname{zw}{\\left({\\xi}_{0},g_{2},g_{3} \\right)}$"
      ],
      "text/plain": [
       "Eq(alpha + 2*u(z) + v(z), -alpha/2 - zw(z - z0, g2, g3) - zw(z - z0 - xi[0], g2, g3) + 2*zw(z - z0 + xi[0], g2, g3) - 3*zw(xi[0], g2, g3))"
      ]
     },
     "execution_count": 94,
     "metadata": {},
     "output_type": "execute_result"
    },
    {
     "data": {
      "text/latex": [
       "$\\displaystyle - \\alpha - u{\\left(z \\right)} - 2 v{\\left(z \\right)} = \\frac{\\alpha}{2} - \\operatorname{zw}{\\left(z - z_{0},g_{2},g_{3} \\right)} + 2 \\operatorname{zw}{\\left(z - z_{0} - {\\xi}_{0},g_{2},g_{3} \\right)} - \\operatorname{zw}{\\left(z - z_{0} + {\\xi}_{0},g_{2},g_{3} \\right)} + 3 \\operatorname{zw}{\\left({\\xi}_{0},g_{2},g_{3} \\right)}$"
      ],
      "text/plain": [
       "Eq(-alpha - u(z) - 2*v(z), alpha/2 - zw(z - z0, g2, g3) + 2*zw(z - z0 - xi[0], g2, g3) - zw(z - z0 + xi[0], g2, g3) + 3*zw(xi[0], g2, g3))"
      ]
     },
     "execution_count": 94,
     "metadata": {},
     "output_type": "execute_result"
    },
    {
     "data": {
      "text/latex": [
       "$\\displaystyle u{\\left(z \\right)} = - \\frac{\\alpha}{2} - \\operatorname{zw}{\\left(z - z_{0},g_{2},g_{3} \\right)} + \\operatorname{zw}{\\left(z - z_{0} + {\\xi}_{0},g_{2},g_{3} \\right)} - \\operatorname{zw}{\\left({\\xi}_{0},g_{2},g_{3} \\right)}$"
      ],
      "text/plain": [
       "Eq(u(z), -alpha/2 - zw(z - z0, g2, g3) + zw(z - z0 + xi[0], g2, g3) - zw(xi[0], g2, g3))"
      ]
     },
     "execution_count": 94,
     "metadata": {},
     "output_type": "execute_result"
    },
    {
     "data": {
      "text/latex": [
       "$\\displaystyle v{\\left(z \\right)} = - \\frac{\\alpha}{2} + \\operatorname{zw}{\\left(z - z_{0},g_{2},g_{3} \\right)} - \\operatorname{zw}{\\left(z - z_{0} - {\\xi}_{0},g_{2},g_{3} \\right)} - \\operatorname{zw}{\\left({\\xi}_{0},g_{2},g_{3} \\right)}$"
      ],
      "text/plain": [
       "Eq(v(z), -alpha/2 + zw(z - z0, g2, g3) - zw(z - z0 - xi[0], g2, g3) - zw(xi[0], g2, g3))"
      ]
     },
     "execution_count": 94,
     "metadata": {},
     "output_type": "execute_result"
    }
   ],
   "source": [
    "alpha_2v_plus_u = dlnu_zw_xi0.subs([dv1_scaled.args, dv2_scaled.args])\n",
    "alpha_2u_plus_v = dlnv_zw_xi0.subs([dv1_scaled.args, dv2_scaled.args])\n",
    "u_v_zw_sols = solve([alpha_2v_plus_u, alpha_2u_plus_v], [u(z), v(z)])\n",
    "u_zw_sol = Eq(u(z), u_v_zw_sols[u(z)])\n",
    "v_zw_sol = Eq(v(z), u_v_zw_sols[v(z)])\n",
    "alpha_2u_plus_v\n",
    "alpha_2v_plus_u\n",
    "u_zw_sol\n",
    "v_zw_sol"
   ]
  },
  {
   "cell_type": "code",
   "execution_count": 95,
   "id": "1915fe6c-cce2-49dd-90ed-11d19cb79af7",
   "metadata": {},
   "outputs": [
    {
     "data": {
      "text/latex": [
       "$\\displaystyle \\frac{\\partial}{\\partial z} \\operatorname{zw}{\\left(z,g_{2},g_{3} \\right)} - \\left. \\frac{\\partial}{\\partial \\xi_{1}} \\operatorname{zw}{\\left(\\xi_{1},g_{2},g_{3} \\right)} \\right|_{\\substack{ \\xi_{1}=z - {\\xi}_{0} }} = \\frac{\\alpha^{2}}{4} + \\alpha \\operatorname{zw}{\\left(z - {\\xi}_{0},g_{2},g_{3} \\right)} - \\alpha \\operatorname{zw}{\\left(z + {\\xi}_{0},g_{2},g_{3} \\right)} + 2 \\alpha \\operatorname{zw}{\\left({\\xi}_{0},g_{2},g_{3} \\right)} - \\operatorname{zw}^{2}{\\left(z,g_{2},g_{3} \\right)} + 2 \\operatorname{zw}{\\left(z,g_{2},g_{3} \\right)} \\operatorname{zw}{\\left(z + {\\xi}_{0},g_{2},g_{3} \\right)} - 2 \\operatorname{zw}{\\left(z,g_{2},g_{3} \\right)} \\operatorname{zw}{\\left({\\xi}_{0},g_{2},g_{3} \\right)} + \\operatorname{zw}^{2}{\\left(z - {\\xi}_{0},g_{2},g_{3} \\right)} - 2 \\operatorname{zw}{\\left(z - {\\xi}_{0},g_{2},g_{3} \\right)} \\operatorname{zw}{\\left(z + {\\xi}_{0},g_{2},g_{3} \\right)} + 4 \\operatorname{zw}{\\left(z - {\\xi}_{0},g_{2},g_{3} \\right)} \\operatorname{zw}{\\left({\\xi}_{0},g_{2},g_{3} \\right)} - 2 \\operatorname{zw}{\\left(z + {\\xi}_{0},g_{2},g_{3} \\right)} \\operatorname{zw}{\\left({\\xi}_{0},g_{2},g_{3} \\right)} + 3 \\operatorname{zw}^{2}{\\left({\\xi}_{0},g_{2},g_{3} \\right)}$"
      ],
      "text/plain": [
       "Eq(Derivative(zw(z, g2, g3), z) - Subs(Derivative(zw(_xi_1, g2, g3), _xi_1), _xi_1, z - xi[0]), alpha**2/4 + alpha*zw(z - xi[0], g2, g3) - alpha*zw(z + xi[0], g2, g3) + 2*alpha*zw(xi[0], g2, g3) - zw(z, g2, g3)**2 + 2*zw(z, g2, g3)*zw(z + xi[0], g2, g3) - 2*zw(z, g2, g3)*zw(xi[0], g2, g3) + zw(z - xi[0], g2, g3)**2 - 2*zw(z - xi[0], g2, g3)*zw(z + xi[0], g2, g3) + 4*zw(z - xi[0], g2, g3)*zw(xi[0], g2, g3) - 2*zw(z + xi[0], g2, g3)*zw(xi[0], g2, g3) + 3*zw(xi[0], g2, g3)**2)"
      ]
     },
     "execution_count": 95,
     "metadata": {},
     "output_type": "execute_result"
    },
    {
     "data": {
      "text/latex": [
       "$\\displaystyle - \\frac{\\partial}{\\partial z} \\operatorname{zw}{\\left(z,g_{2},g_{3} \\right)} + \\left. \\frac{\\partial}{\\partial \\xi_{1}} \\operatorname{zw}{\\left(\\xi_{1},g_{2},g_{3} \\right)} \\right|_{\\substack{ \\xi_{1}=z + {\\xi}_{0} }} = - \\frac{\\alpha^{2}}{4} - \\alpha \\operatorname{zw}{\\left(z - {\\xi}_{0},g_{2},g_{3} \\right)} + \\alpha \\operatorname{zw}{\\left(z + {\\xi}_{0},g_{2},g_{3} \\right)} - 2 \\alpha \\operatorname{zw}{\\left({\\xi}_{0},g_{2},g_{3} \\right)} + \\operatorname{zw}^{2}{\\left(z,g_{2},g_{3} \\right)} - 2 \\operatorname{zw}{\\left(z,g_{2},g_{3} \\right)} \\operatorname{zw}{\\left(z - {\\xi}_{0},g_{2},g_{3} \\right)} - 2 \\operatorname{zw}{\\left(z,g_{2},g_{3} \\right)} \\operatorname{zw}{\\left({\\xi}_{0},g_{2},g_{3} \\right)} + 2 \\operatorname{zw}{\\left(z - {\\xi}_{0},g_{2},g_{3} \\right)} \\operatorname{zw}{\\left(z + {\\xi}_{0},g_{2},g_{3} \\right)} - 2 \\operatorname{zw}{\\left(z - {\\xi}_{0},g_{2},g_{3} \\right)} \\operatorname{zw}{\\left({\\xi}_{0},g_{2},g_{3} \\right)} - \\operatorname{zw}^{2}{\\left(z + {\\xi}_{0},g_{2},g_{3} \\right)} + 4 \\operatorname{zw}{\\left(z + {\\xi}_{0},g_{2},g_{3} \\right)} \\operatorname{zw}{\\left({\\xi}_{0},g_{2},g_{3} \\right)} - 3 \\operatorname{zw}^{2}{\\left({\\xi}_{0},g_{2},g_{3} \\right)}$"
      ],
      "text/plain": [
       "Eq(-Derivative(zw(z, g2, g3), z) + Subs(Derivative(zw(_xi_1, g2, g3), _xi_1), _xi_1, z + xi[0]), -alpha**2/4 - alpha*zw(z - xi[0], g2, g3) + alpha*zw(z + xi[0], g2, g3) - 2*alpha*zw(xi[0], g2, g3) + zw(z, g2, g3)**2 - 2*zw(z, g2, g3)*zw(z - xi[0], g2, g3) - 2*zw(z, g2, g3)*zw(xi[0], g2, g3) + 2*zw(z - xi[0], g2, g3)*zw(z + xi[0], g2, g3) - 2*zw(z - xi[0], g2, g3)*zw(xi[0], g2, g3) - zw(z + xi[0], g2, g3)**2 + 4*zw(z + xi[0], g2, g3)*zw(xi[0], g2, g3) - 3*zw(xi[0], g2, g3)**2)"
      ]
     },
     "execution_count": 95,
     "metadata": {},
     "output_type": "execute_result"
    }
   ],
   "source": [
    "dv1_scaled.subs([u_zw_sol.args, v_zw_sol.args]).subs(z0,0).doit().expand()\n",
    "dv2_scaled.subs([u_zw_sol.args, v_zw_sol.args]).subs(z0,0).doit().expand()"
   ]
  },
  {
   "cell_type": "markdown",
   "id": "79a8b3c0-8785-4cb3-9ede-9a5dfcdeed32",
   "metadata": {},
   "source": [
    "#### Backward traveling waves. \n",
    "\n",
    "The solutions are relatable through a reversed propagation relation."
   ]
  },
  {
   "cell_type": "code",
   "execution_count": 96,
   "id": "f2b0d2b1-e70b-4725-aa03-378af2a54936",
   "metadata": {},
   "outputs": [
    {
     "data": {
      "text/latex": [
       "$\\displaystyle u{\\left(z + z_{0} \\right)} = - \\frac{\\alpha}{2} - \\operatorname{zw}{\\left(z,g_{2},g_{3} \\right)} + \\operatorname{zw}{\\left(z + {\\xi}_{0},g_{2},g_{3} \\right)} - \\operatorname{zw}{\\left({\\xi}_{0},g_{2},g_{3} \\right)}$"
      ],
      "text/plain": [
       "Eq(u(z + z0), -alpha/2 - zw(z, g2, g3) + zw(z + xi[0], g2, g3) - zw(xi[0], g2, g3))"
      ]
     },
     "execution_count": 96,
     "metadata": {},
     "output_type": "execute_result"
    },
    {
     "data": {
      "text/latex": [
       "$\\displaystyle v{\\left(- z + z_{0} \\right)} = - \\frac{\\alpha}{2} - \\operatorname{zw}{\\left(z,g_{2},g_{3} \\right)} + \\operatorname{zw}{\\left(z + {\\xi}_{0},g_{2},g_{3} \\right)} - \\operatorname{zw}{\\left({\\xi}_{0},g_{2},g_{3} \\right)}$"
      ],
      "text/plain": [
       "Eq(v(-z + z0), -alpha/2 - zw(z, g2, g3) + zw(z + xi[0], g2, g3) - zw(xi[0], g2, g3))"
      ]
     },
     "execution_count": 96,
     "metadata": {},
     "output_type": "execute_result"
    },
    {
     "data": {
      "text/latex": [
       "$\\displaystyle u{\\left(z + z_{0} \\right)} - v{\\left(- z + z_{0} \\right)} = 0$"
      ],
      "text/plain": [
       "Eq(u(z + z0) - v(-z + z0), 0)"
      ]
     },
     "execution_count": 96,
     "metadata": {},
     "output_type": "execute_result"
    }
   ],
   "source": [
    "u_plusz_z0 = Eq(u(z+z0), u(z).subs(*u_zw_sol.args).subs(z,z+z0))\n",
    "v_minsz_z0 = Eq(v(z+z0), v(z).subs(*v_zw_sol.args).subs(z,z+z0)).subs(z,-z).subs([\n",
    "    (zw(-z,g2,g3),-zw(z,g2,g3)), (zw(-z-xi[0],g2,g3),-zw(z+xi[0],g2,g3)), (zw(-z,g2,g3),-zw(z,g2,g3)), \n",
    "])\n",
    "u_plusz_z0\n",
    "v_minsz_z0\n",
    "Eq(u_plusz_z0.lhs-v_minsz_z0.lhs, u_plusz_z0.rhs-v_minsz_z0.rhs)"
   ]
  },
  {
   "cell_type": "markdown",
   "id": "3a2265c4-b8da-49fd-ab36-d0e95f20ea18",
   "metadata": {},
   "source": [
    "## A second related solvable Lotka–Volterra like \n",
    "\n",
    "From looking at the sigma functions form of solutions for $u(z),v(z)$ in the previous example, and comparing them to the form of sigma ratios derived elsewhere, it is noteworthy that these solutions have squares of sigma in the numerator and feature two $z$ dependent sigma functions in the denominator. It is almost as if they are related to more familiar solutions, that will be denoted $U(z),V(z)$, in the following way:"
   ]
  },
  {
   "cell_type": "code",
   "execution_count": 97,
   "id": "ac076c9b-6787-411b-8fe7-16a8a812353b",
   "metadata": {},
   "outputs": [
    {
     "data": {
      "text/latex": [
       "$\\displaystyle u{\\left(z \\right)} = \\frac{U^{2}{\\left(z \\right)}}{V{\\left(z \\right)}}$"
      ],
      "text/plain": [
       "Eq(u(z), U(z)**2/V(z))"
      ]
     },
     "execution_count": 97,
     "metadata": {},
     "output_type": "execute_result"
    },
    {
     "data": {
      "text/latex": [
       "$\\displaystyle v{\\left(z \\right)} = \\frac{V^{2}{\\left(z \\right)}}{U{\\left(z \\right)}}$"
      ],
      "text/plain": [
       "Eq(v(z), V(z)**2/U(z))"
      ]
     },
     "execution_count": 97,
     "metadata": {},
     "output_type": "execute_result"
    },
    {
     "data": {
      "text/latex": [
       "$\\displaystyle u{\\left(z \\right)} v{\\left(z \\right)} = U{\\left(z \\right)} V{\\left(z \\right)}$"
      ],
      "text/plain": [
       "Eq(u(z)*v(z), U(z)*V(z))"
      ]
     },
     "execution_count": 97,
     "metadata": {},
     "output_type": "execute_result"
    },
    {
     "data": {
      "text/latex": [
       "$\\displaystyle \\frac{u{\\left(z \\right)}}{v{\\left(z \\right)}} = \\frac{U^{3}{\\left(z \\right)}}{V^{3}{\\left(z \\right)}}$"
      ],
      "text/plain": [
       "Eq(u(z)/v(z), U(z)**3/V(z)**3)"
      ]
     },
     "execution_count": 97,
     "metadata": {},
     "output_type": "execute_result"
    }
   ],
   "source": [
    "u_as_VU = Eq(u(z),U(z)**2/V(z))\n",
    "v_as_VU = Eq(v(z),V(z)*V(z)/U(z))\n",
    "u_v_as_U_V_subs = [u_as_VU.args, v_as_VU.args]\n",
    "uv_as_UV_subs = Eq(u(z)*v(z),(u(z)*v(z)).subs(u_v_as_U_V_subs))\n",
    "u_over_v_as_U_over_V = Eq(u(z)/v(z),(u(z)/v(z)).subs(u_v_as_U_V_subs))\n",
    "u_as_VU\n",
    "v_as_VU\n",
    "uv_as_UV_subs\n",
    "u_over_v_as_U_over_V"
   ]
  },
  {
   "cell_type": "code",
   "execution_count": 98,
   "id": "8681622a-28b4-4cb9-b3c1-0f7932f061b9",
   "metadata": {},
   "outputs": [
    {
     "data": {
      "text/latex": [
       "$\\displaystyle \\frac{d}{d z} U{\\left(z \\right)} = - \\frac{\\alpha U{\\left(z \\right)}}{3} - V^{2}{\\left(z \\right)}$"
      ],
      "text/plain": [
       "Eq(Derivative(U(z), z), -alpha*U(z)/3 - V(z)**2)"
      ]
     },
     "execution_count": 98,
     "metadata": {},
     "output_type": "execute_result"
    },
    {
     "data": {
      "text/latex": [
       "$\\displaystyle \\frac{d}{d z} V{\\left(z \\right)} = \\frac{\\alpha V{\\left(z \\right)}}{3} + U^{2}{\\left(z \\right)}$"
      ],
      "text/plain": [
       "Eq(Derivative(V(z), z), alpha*V(z)/3 + U(z)**2)"
      ]
     },
     "execution_count": 98,
     "metadata": {},
     "output_type": "execute_result"
    }
   ],
   "source": [
    "dUV_system = solve([dv1_scaled.subs(u_v_as_U_V_subs).doit(), dv2_scaled.subs(u_v_as_U_V_subs).doit()], [diff(U(z),z), diff(V(z),z)])\n",
    "dU = Eq(Derivative(U(z), z), dUV_system[Derivative(U(z), z)])\n",
    "dV = Eq(Derivative(V(z), z), dUV_system[Derivative(V(z), z)])\n",
    "dU\n",
    "dV"
   ]
  },
  {
   "cell_type": "code",
   "execution_count": 101,
   "id": "2b0302fd-6445-4ce9-8782-984af81cf3b1",
   "metadata": {},
   "outputs": [
    {
     "data": {
      "text/latex": [
       "$\\displaystyle u{\\left(z \\right)} v{\\left(z \\right)} = U{\\left(z \\right)} V{\\left(z \\right)}$"
      ],
      "text/plain": [
       "Eq(u(z)*v(z), U(z)*V(z))"
      ]
     },
     "execution_count": 101,
     "metadata": {},
     "output_type": "execute_result"
    }
   ],
   "source": [
    "uv_as_UV_subs"
   ]
  },
  {
   "cell_type": "code",
   "execution_count": 102,
   "id": "929cc324-dbe2-47ce-a800-af03acbd0ea8",
   "metadata": {},
   "outputs": [
    {
     "data": {
      "text/latex": [
       "$\\displaystyle \\alpha U{\\left(z \\right)} V{\\left(z \\right)} + U^{3}{\\left(z \\right)} + V^{3}{\\left(z \\right)}$"
      ],
      "text/plain": [
       "alpha*U(z)*V(z) + U(z)**3 + V(z)**3"
      ]
     },
     "execution_count": 102,
     "metadata": {},
     "output_type": "execute_result"
    }
   ],
   "source": [
    "potential_scaled.rhs.subs(u_v_as_U_V_subs)"
   ]
  },
  {
   "cell_type": "code",
   "execution_count": 103,
   "id": "620274f0-bef3-4b49-99bf-6de5d21bb504",
   "metadata": {},
   "outputs": [
    {
     "data": {
      "text/latex": [
       "$\\displaystyle 0$"
      ],
      "text/plain": [
       "0"
      ]
     },
     "execution_count": 103,
     "metadata": {},
     "output_type": "execute_result"
    }
   ],
   "source": [
    "diff(potential_scaled.rhs.subs(u_v_as_U_V_subs),z).subs([dU.args,dV.args]).doit().expand()"
   ]
  },
  {
   "cell_type": "code",
   "execution_count": 105,
   "id": "f30b5d8d-6073-414c-a12c-ed7cd8af5dc2",
   "metadata": {},
   "outputs": [
    {
     "data": {
      "text/latex": [
       "$\\displaystyle \\left(\\frac{d}{d z} U{\\left(z \\right)} V{\\left(z \\right)}\\right)^{2} = \\alpha^{2} U^{2}{\\left(z \\right)} V^{2}{\\left(z \\right)} - 2 \\alpha U{\\left(z \\right)} V{\\left(z \\right)} p - 4 U^{3}{\\left(z \\right)} V^{3}{\\left(z \\right)} + p^{2}$"
      ],
      "text/plain": [
       "Eq(Derivative(U(z)*V(z), z)**2, alpha**2*U(z)**2*V(z)**2 - 2*alpha*U(z)*V(z)*p - 4*U(z)**3*V(z)**3 + p**2)"
      ]
     },
     "execution_count": 105,
     "metadata": {},
     "output_type": "execute_result"
    }
   ],
   "source": [
    "duv_sqrd.subs(u_v_as_U_V_subs)"
   ]
  },
  {
   "cell_type": "code",
   "execution_count": 106,
   "id": "3f9624ce-14f3-4463-be01-98825fb1afc0",
   "metadata": {},
   "outputs": [
    {
     "data": {
      "text/latex": [
       "$\\displaystyle U{\\left(z \\right)} V{\\left(z \\right)} = - \\operatorname{pw}{\\left(z - z_{0},g_{2},g_{3} \\right)} + \\operatorname{pw}{\\left({\\xi}_{0},g_{2},g_{3} \\right)}$"
      ],
      "text/plain": [
       "Eq(U(z)*V(z), -pw(z - z0, g2, g3) + pw(xi[0], g2, g3))"
      ]
     },
     "execution_count": 106,
     "metadata": {},
     "output_type": "execute_result"
    }
   ],
   "source": [
    "uv_as_f.subs(u_v_as_U_V_subs).subs([pw_alpha.args[::-1],fpw.args])"
   ]
  },
  {
   "cell_type": "code",
   "execution_count": 107,
   "id": "569d2801-33b9-4a8e-beca-3c3fca592974",
   "metadata": {},
   "outputs": [
    {
     "data": {
      "text/latex": [
       "$\\displaystyle \\frac{U^{3}{\\left(z \\right)}}{V^{3}{\\left(z \\right)}} = \\frac{\\sigma^{3}{\\left(z - z_{0} - {\\xi}_{0},g_{2},g_{3} \\right)} \\sigma^{2}{\\left({\\xi}_{0},g_{2},g_{3} \\right)} e^{\\alpha z + 6 z \\operatorname{zw}{\\left({\\xi}_{0},g_{2},g_{3} \\right)} + 2 c}}{\\sigma^{3}{\\left(z - z_{0} + {\\xi}_{0},g_{2},g_{3} \\right)}}$"
      ],
      "text/plain": [
       "Eq(U(z)**3/V(z)**3, sigma(z - z0 - xi[0], g2, g3)**3*sigma(xi[0], g2, g3)**2*exp(alpha*z + 6*z*zw(xi[0], g2, g3) + 2*c)/sigma(z - z0 + xi[0], g2, g3)**3)"
      ]
     },
     "execution_count": 107,
     "metadata": {},
     "output_type": "execute_result"
    }
   ],
   "source": [
    "\n",
    "Eq(U(z)**3/V(z)**3,\n",
    "   (U(z)**3/V(z)**3)\n",
    "   .subs(*u_over_v_as_U_over_V.args[::-1])\n",
    "   .subs([pw_alpha.args[::-1],fpw.args])\n",
    "   .subs([u_as_sigma.args, v_as_sigma.args]).simplify()\n",
    "  )\n",
    "    "
   ]
  },
  {
   "cell_type": "code",
   "execution_count": 108,
   "id": "6cc21db2-25d0-4ed7-81ee-95984973a7b1",
   "metadata": {},
   "outputs": [
    {
     "data": {
      "text/latex": [
       "$\\displaystyle \\frac{u{\\left(z \\right)}}{v{\\left(z \\right)}} = \\frac{U^{3}{\\left(z \\right)}}{V^{3}{\\left(z \\right)}}$"
      ],
      "text/plain": [
       "Eq(u(z)/v(z), U(z)**3/V(z)**3)"
      ]
     },
     "execution_count": 108,
     "metadata": {},
     "output_type": "execute_result"
    }
   ],
   "source": [
    "u_over_v_as_U_over_V"
   ]
  },
  {
   "cell_type": "markdown",
   "id": "cdf73b8c-571c-42f4-85aa-6ea811605e39",
   "metadata": {},
   "source": [
    "### Numerical Checks"
   ]
  },
  {
   "cell_type": "code",
   "execution_count": 570,
   "id": "06b6699c-5ce5-40fa-8dfa-b514e52ff000",
   "metadata": {},
   "outputs": [],
   "source": [
    "from numpy import linspace, absolute, angle, square, real, imag, conj, array as arraynp, vectorize, concatenate\n",
    "import scipy.integrate\n",
    "import matplotlib.pyplot as plt\n",
    "\n",
    "# The package containing mpmath expressions for Weierstrass elliptic functions\n",
    "from numerical_evaluation.weierstrass_modified import Weierstrass\n",
    "we = Weierstrass()\n",
    "from mpmath import exp as mpexp"
   ]
  },
  {
   "cell_type": "code",
   "execution_count": 571,
   "id": "eb3c2abb-1610-44d3-be36-f86cba8cf85a",
   "metadata": {},
   "outputs": [
    {
     "data": {
      "text/latex": [
       "$\\displaystyle u{\\left(z \\right)} = \\frac{\\sigma{\\left(- z_{0},g_{2},g_{3} \\right)} \\sigma{\\left(- z_{0} + {\\xi}_{0},g_{2},g_{3} \\right)} \\sigma^{2}{\\left(z - z_{0} - {\\xi}_{0},g_{2},g_{3} \\right)} u{\\left(0 \\right)} e^{\\frac{z \\left(\\alpha + 6 \\operatorname{zw}{\\left({\\xi}_{0},g_{2},g_{3} \\right)}\\right)}{2}}}{\\sigma{\\left(z - z_{0},g_{2},g_{3} \\right)} \\sigma^{2}{\\left(- z_{0} - {\\xi}_{0},g_{2},g_{3} \\right)} \\sigma{\\left(z - z_{0} + {\\xi}_{0},g_{2},g_{3} \\right)}}$"
      ],
      "text/plain": [
       "Eq(u(z), sigma(-z0, g2, g3)*sigma(-z0 + xi[0], g2, g3)*sigma(z - z0 - xi[0], g2, g3)**2*u(0)*exp(z*(alpha + 6*zw(xi[0], g2, g3))/2)/(sigma(z - z0, g2, g3)*sigma(-z0 - xi[0], g2, g3)**2*sigma(z - z0 + xi[0], g2, g3)))"
      ]
     },
     "execution_count": 571,
     "metadata": {},
     "output_type": "execute_result"
    },
    {
     "data": {
      "text/latex": [
       "$\\displaystyle v{\\left(z \\right)} = \\frac{\\sigma{\\left(- z_{0},g_{2},g_{3} \\right)} \\sigma{\\left(- z_{0} - {\\xi}_{0},g_{2},g_{3} \\right)} \\sigma^{2}{\\left(z - z_{0} + {\\xi}_{0},g_{2},g_{3} \\right)} v{\\left(0 \\right)} e^{- \\frac{z \\left(\\alpha + 6 \\operatorname{zw}{\\left({\\xi}_{0},g_{2},g_{3} \\right)}\\right)}{2}}}{\\sigma{\\left(z - z_{0},g_{2},g_{3} \\right)} \\sigma^{2}{\\left(- z_{0} + {\\xi}_{0},g_{2},g_{3} \\right)} \\sigma{\\left(z - z_{0} - {\\xi}_{0},g_{2},g_{3} \\right)}}$"
      ],
      "text/plain": [
       "Eq(v(z), sigma(-z0, g2, g3)*sigma(-z0 - xi[0], g2, g3)*sigma(z - z0 + xi[0], g2, g3)**2*v(0)*exp(-z*(alpha + 6*zw(xi[0], g2, g3))/2)/(sigma(z - z0, g2, g3)*sigma(-z0 + xi[0], g2, g3)**2*sigma(z - z0 - xi[0], g2, g3)))"
      ]
     },
     "execution_count": 571,
     "metadata": {},
     "output_type": "execute_result"
    }
   ],
   "source": [
    "u_as_sigma_u0\n",
    "v_as_sigma_v0"
   ]
  },
  {
   "cell_type": "code",
   "execution_count": 572,
   "id": "3c0e605f-b01c-4fc7-8087-7dc20c0a5e93",
   "metadata": {},
   "outputs": [],
   "source": [
    "def mpc_to_float(mpc_val):\n",
    "    return float(mpc_val.real) + float(mpc_val.imag)*1j\n",
    "\n",
    "mpc_to_float_np = vectorize(mpc_to_float)\n",
    "\n",
    "# The analytic solution\n",
    "def sigma_sol(A0, z0, xi, rho, omegas):\n",
    "    return lambda z: (\n",
    "        A0 * (we.wsigma(-z0, omegas) * we.wsigma(-z0 + xi, omegas) * we.wsigma(-xi + z - z0, omegas)**2 / \n",
    "        (we.wsigma(-xi - z0, omegas)**2 * we.wsigma(z - z0, omegas) * we.wsigma(xi + z - z0, omegas))) * mpexp(z * rho)\n",
    "    )"
   ]
  },
  {
   "cell_type": "code",
   "execution_count": 577,
   "id": "02f4e4f6-4cc7-40ac-a5a2-8197fb6269cc",
   "metadata": {},
   "outputs": [],
   "source": [
    "# initial conditions (initial values)\n",
    "u_v_0 = [0.2, 3.4] \n",
    "\n",
    "# Calculate values for intermediate constants in terms of initial conditions\n",
    "u_v_init_subs = [(u(z), u_v_0[0]), (v(z), u_v_0[1])]\n",
    "u_v_0_init_subs = [(x[0].subs(z,0), x[1]) for x in u_v_init_subs]\n",
    "alpha_val_ = 0.4\n",
    "p_val_ = float(potential_scaled.rhs.subs(u_v_init_subs).subs(alpha, alpha_val_).expand())\n",
    "p_alpha_val_subs = [(p, p_val_), (alpha, alpha_val_)]\n",
    "# Calculate values for elliptic invariants in terms of initial conditions\n",
    "g2val_ = float(g2_eq.rhs.subs(p_alpha_val_subs))\n",
    "g3val_ = float(g3_eq.rhs.subs(p_alpha_val_subs))\n",
    "# Calculate lattice of elliptic functions (half-periods) in terms of initial conditions\n",
    "omega_ = we.omega_from_g(g2val_, g3val_)\n",
    "omega1_ = mpc_to_float(omega_[0])\n",
    "omega2_ = mpc_to_float(omega_[1])\n",
    "omega3_ = mpc_to_float(omega_[2])\n",
    "if im(omega2_/omega1_) <= 0:\n",
    "    omega2_ = -omega2_\n",
    "omegas = (omega1_, omega2_)  \n",
    "# Calculate complex constants in the z plane in terms of initial conditions via inverse Weierstrass P (elliptic integral)\n",
    "xi0val_ = mpc_to_float(we.invwp(pw_alpha.rhs.subs(p_alpha_val_subs), omegas, w_prime=pwp_xi0.rhs.subs(p_alpha_val_subs)))\n",
    "wz0 = pw_z0_u0_v0.rhs.subs(u_v_0_init_subs).subs(p_alpha_val_subs).expand()\n",
    "wz0p = pwp_z0_u0_v0.rhs.subs(u_v_0_init_subs).subs(p_alpha_val_subs).expand()\n",
    "z0val_ = mpc_to_float(we.invwp(wz0, omegas, wz0p))\n",
    "zw_xi0val_ = mpc_to_float(we.wzeta(xi0val_, omegas))\n",
    "rho_val_ = 3*zw_xi0val_ + alpha_val_/2\n",
    "\n",
    "# # Setup z array to evaluate over based on 2 complete periods (4 * omega1)\n",
    "# z_end = abs(4 * omega1_)\n",
    "z_end = real(omega3_)*0.3\n",
    "n_points_z = 200\n",
    "z_eval = linspace(0, z_end, n_points_z) # evaluate integral from z = 0-10 for 50 points\n",
    "\n",
    "# # Complex valued analytic vector solution (numeric evaluation)\n",
    "u_v_sol_mpmath = arraynp([\n",
    "    mpc_to_float_np(vectorize(sigma_sol(u_v_0[0], z0val_, xi0val_, rho_val_, omegas))(z_eval)),\n",
    "    mpc_to_float_np(vectorize(sigma_sol(u_v_0[1], z0val_, -xi0val_, -rho_val_, omegas))(z_eval))\n",
    "])"
   ]
  },
  {
   "cell_type": "code",
   "execution_count": 578,
   "id": "7e5315d3-fb08-4171-9ad4-cf1e3bdcae59",
   "metadata": {},
   "outputs": [],
   "source": [
    "u_p = dv2_scaled.rhs.subs(p_alpha_val_subs)\n",
    "v_p = dv1_scaled.rhs.subs(p_alpha_val_subs)\n",
    "u_v_dot = [u_p, v_p] # complex valued funtions\n",
    "_u_symb = Symbol('_u_symb')\n",
    "_v_symb = Symbol('_v_symb')\n",
    "u_v_dot_symb = [eq.subs([(u(z), _u_symb), (v(z), _v_symb)]) for eq in u_v_dot]\n",
    "f_ = lambdify((z, (_u_symb,_v_symb)), u_v_dot_symb)\n",
    "u_v_init_numeric_only = [x[1] for x in u_v_init_subs]\n",
    "# Call SciPy's ODE initial value problem solver solve_ivp by passing it\n",
    "#   the function f_,\n",
    "#   the interval of integration,\n",
    "#   the initial state, and\n",
    "#   the arguments to pass to the function f (if any)\n",
    "solution = scipy.integrate.solve_ivp(f_, (0, z_end), u_v_init_numeric_only, t_eval=z_eval)\n",
    "h_ri_sol = solution.y\n",
    "\n",
    "# complex valued numeric vector solution\n",
    "A_sol_scipy = h_ri_sol"
   ]
  },
  {
   "cell_type": "code",
   "execution_count": 579,
   "id": "c715fd63-5103-42d6-8f8f-cb7de42aeda8",
   "metadata": {},
   "outputs": [
    {
     "data": {
      "text/plain": [
       "[<matplotlib.lines.Line2D at 0x7f9a34e055d0>,\n",
       " <matplotlib.lines.Line2D at 0x7f9a34e05b70>]"
      ]
     },
     "execution_count": 579,
     "metadata": {},
     "output_type": "execute_result"
    },
    {
     "data": {
      "text/plain": [
       "[<matplotlib.lines.Line2D at 0x7f9a34e06530>,\n",
       " <matplotlib.lines.Line2D at 0x7f9a34e05ae0>]"
      ]
     },
     "execution_count": 579,
     "metadata": {},
     "output_type": "execute_result"
    },
    {
     "data": {
      "text/plain": [
       "<matplotlib.legend.Legend at 0x7f9a34dfbd90>"
      ]
     },
     "execution_count": 579,
     "metadata": {},
     "output_type": "execute_result"
    },
    {
     "data": {
      "text/plain": [
       "Text(0, 0.5, 'Absolute Value')"
      ]
     },
     "execution_count": 579,
     "metadata": {},
     "output_type": "execute_result"
    },
    {
     "data": {
      "text/plain": [
       "Text(0.5, 0, 'z')"
      ]
     },
     "execution_count": 579,
     "metadata": {},
     "output_type": "execute_result"
    },
    {
     "data": {
      "image/png": "[encoded data removed]",
      "text/plain": [
       "<Figure size 1600x600 with 1 Axes>"
      ]
     },
     "metadata": {},
     "output_type": "display_data"
    }
   ],
   "source": [
    "fig = plt.figure(figsize=(16, 6))\n",
    "plt.plot(z_eval, absolute(u_v_sol_mpmath.T), linestyle=\"solid\", linewidth=4) \n",
    "__y_vals__ = absolute(A_sol_scipy.T)\n",
    "plt.plot(z_eval[0: len(__y_vals__)], __y_vals__, linestyle=\"dashed\", linewidth=4) \n",
    "plt.legend(['abs(u)**2 mpmath', 'abs(v)**2 mpmath', 'abs(v)**2 scipy', 'abs(v)**2 scipy'], shadow=True) \n",
    "plt.ylabel('Absolute Value')\n",
    "plt.xlabel('z')\n",
    "plt.show()"
   ]
  },
  {
   "cell_type": "markdown",
   "id": "63af3cd9-1856-4f9f-b3c7-6a5a31bd228b",
   "metadata": {},
   "source": [
    "## On the differential equation satisfied by one of the modes"
   ]
  },
  {
   "cell_type": "code",
   "execution_count": 473,
   "id": "4e25e427-8a9f-485c-9a0a-010a6879fc34",
   "metadata": {},
   "outputs": [
    {
     "data": {
      "text/latex": [
       "$\\displaystyle v{\\left(z \\right)} = - \\frac{\\alpha}{2} - \\frac{u{\\left(z \\right)}}{2} - \\frac{\\frac{d}{d z} u{\\left(z \\right)}}{2 u{\\left(z \\right)}}$"
      ],
      "text/plain": [
       "Eq(v(z), -alpha/2 - u(z)/2 - Derivative(u(z), z)/(2*u(z)))"
      ]
     },
     "execution_count": 473,
     "metadata": {},
     "output_type": "execute_result"
    }
   ],
   "source": [
    "v_as_ln_diff_u = Eq(v(z), solve(dv2_scaled.lhs - dv2_scaled.rhs,v(z))[0]).expand()\n",
    "v_as_ln_diff_u"
   ]
  },
  {
   "cell_type": "code",
   "execution_count": 477,
   "id": "d05a4b8b-fe9c-458e-8a90-df8e2d59bb24",
   "metadata": {},
   "outputs": [
    {
     "data": {
      "text/latex": [
       "$\\displaystyle - \\left(- \\frac{\\alpha}{2} - \\frac{u{\\left(z \\right)}}{2} - \\frac{\\frac{d}{d z} u{\\left(z \\right)}}{2 u{\\left(z \\right)}}\\right) \\left(\\frac{\\alpha}{2} + \\frac{3 u{\\left(z \\right)}}{2} - \\frac{\\frac{d}{d z} u{\\left(z \\right)}}{2 u{\\left(z \\right)}}\\right) + \\frac{\\partial}{\\partial z} \\left(- \\frac{\\alpha}{2} - \\frac{u{\\left(z \\right)}}{2} - \\frac{\\frac{d}{d z} u{\\left(z \\right)}}{2 u{\\left(z \\right)}}\\right) = 0$"
      ],
      "text/plain": [
       "Eq(-(-alpha/2 - u(z)/2 - Derivative(u(z), z)/(2*u(z)))*(alpha/2 + 3*u(z)/2 - Derivative(u(z), z)/(2*u(z))) + Derivative(-alpha/2 - u(z)/2 - Derivative(u(z), z)/(2*u(z)), z), 0)"
      ]
     },
     "execution_count": 477,
     "metadata": {},
     "output_type": "execute_result"
    }
   ],
   "source": [
    "diff_u_only_eq = Eq((dv1_scaled.lhs - dv1_scaled.rhs).subs(*v_as_ln_diff_u.args),0)\n",
    "diff_u_only_eq"
   ]
  },
  {
   "cell_type": "code",
   "execution_count": 516,
   "id": "09eaf446-9282-4c7a-ad59-374dbd90ee88",
   "metadata": {},
   "outputs": [
    {
     "data": {
      "text/latex": [
       "$\\displaystyle \\frac{\\alpha^{2}}{4} + \\alpha u{\\left(z \\right)} + \\frac{3 u^{2}{\\left(z \\right)}}{4} - \\frac{\\frac{d^{2}}{d z^{2}} u{\\left(z \\right)}}{2 u{\\left(z \\right)}} + \\frac{\\left(\\frac{d}{d z} u{\\left(z \\right)}\\right)^{2}}{4 u^{2}{\\left(z \\right)}} = 0$"
      ],
      "text/plain": [
       "Eq(alpha**2/4 + alpha*u(z) + 3*u(z)**2/4 - Derivative(u(z), (z, 2))/(2*u(z)) + Derivative(u(z), z)**2/(4*u(z)**2), 0)"
      ]
     },
     "execution_count": 516,
     "metadata": {},
     "output_type": "execute_result"
    }
   ],
   "source": [
    "diff_u_only_eq_expanded = diff_u_only_eq.doit().expand()\n",
    "diff_u_only_eq_expanded"
   ]
  },
  {
   "cell_type": "code",
   "execution_count": 513,
   "id": "00010dc6-2ee7-4c7e-a208-cffe0d19b3ec",
   "metadata": {},
   "outputs": [
    {
     "data": {
      "text/latex": [
       "$\\displaystyle \\alpha^{2} u^{2}{\\left(z \\right)} + 4 \\alpha u^{3}{\\left(z \\right)} + 3 u^{4}{\\left(z \\right)} - 2 u{\\left(z \\right)} \\frac{d^{2}}{d z^{2}} u{\\left(z \\right)} + \\left(\\frac{d}{d z} u{\\left(z \\right)}\\right)^{2}$"
      ],
      "text/plain": [
       "alpha**2*u(z)**2 + 4*alpha*u(z)**3 + 3*u(z)**4 - 2*u(z)*Derivative(u(z), (z, 2)) + Derivative(u(z), z)**2"
      ]
     },
     "execution_count": 513,
     "metadata": {},
     "output_type": "execute_result"
    }
   ],
   "source": [
    "diff_u_only_eq_expanded = (diff_u_only_eq.lhs*u(z)**2*4).doit().expand()\n",
    "diff_u_only_eq_expanded.collect(u(z))"
   ]
  },
  {
   "cell_type": "code",
   "execution_count": 526,
   "id": "f04abc94-4366-4d7f-bd62-82c35dc8c5fd",
   "metadata": {},
   "outputs": [
    {
     "data": {
      "text/latex": [
       "$\\displaystyle - \\left(- \\alpha + \\frac{d}{d z} u{\\left(z \\right)}\\right) \\left(e^{u{\\left(z \\right)}} + 1\\right) - \\frac{d^{2}}{d z^{2}} u{\\left(z \\right)}$"
      ],
      "text/plain": [
       "-(-alpha + Derivative(u(z), z))*(exp(u(z)) + 1) - Derivative(u(z), (z, 2))"
      ]
     },
     "execution_count": 526,
     "metadata": {},
     "output_type": "execute_result"
    }
   ],
   "source": [
    "(diff_u_only_eq_lk_expanded.subs([(beta,1),(kappa,1)]).subs(u(z),exp(u(z)))/exp(2*u(z))).doit().expand().collect(diff(u(z),z,2),factor)"
   ]
  },
  {
   "cell_type": "code",
   "execution_count": 510,
   "id": "dd048e06-0130-4745-aeb9-16207202dd71",
   "metadata": {},
   "outputs": [
    {
     "data": {
      "text/latex": [
       "$\\displaystyle \\frac{\\alpha^{2}}{4} + \\alpha u{\\left(z \\right)} + \\frac{3 u^{2}{\\left(z \\right)}}{4} - \\frac{\\frac{d^{2}}{d z^{2}} u{\\left(z \\right)}}{2 u{\\left(z \\right)}} + \\frac{\\left(\\frac{d}{d z} u{\\left(z \\right)}\\right)^{2}}{4 u^{2}{\\left(z \\right)}} = 0$"
      ],
      "text/plain": [
       "Eq(alpha**2/4 + alpha*u(z) + 3*u(z)**2/4 - Derivative(u(z), (z, 2))/(2*u(z)) + Derivative(u(z), z)**2/(4*u(z)**2), 0)"
      ]
     },
     "execution_count": 510,
     "metadata": {},
     "output_type": "execute_result"
    }
   ],
   "source": [
    "diff_u_only_eq.doit().expand()"
   ]
  },
  {
   "cell_type": "code",
   "execution_count": null,
   "id": "2bc11053-1075-4319-950b-2ad3675d5d0f",
   "metadata": {},
   "outputs": [],
   "source": []
  }
 ],
 "metadata": {
  "kernelspec": {
   "display_name": "Python 3 (ipykernel)",
   "language": "python",
   "name": "python3"
  },
  "language_info": {
   "codemirror_mode": {
    "name": "ipython",
    "version": 3
   },
   "file_extension": ".py",
   "mimetype": "text/x-python",
   "name": "python",
   "nbconvert_exporter": "python",
   "pygments_lexer": "ipython3",
   "version": "3.10.13"
  }
 },
 "nbformat": 4,
 "nbformat_minor": 5
}
