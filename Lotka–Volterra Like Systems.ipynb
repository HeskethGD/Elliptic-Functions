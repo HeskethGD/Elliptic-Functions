{
 "cells": [
  {
   "cell_type": "markdown",
   "id": "b24379e1-dbde-4b9e-833b-b5e77dd462e7",
   "metadata": {},
   "source": [
    "# Lotka–Volterra Like Systems\n",
    "\n",
    "This work seeks the complete analytic solution of the 2 mode Lotka-Volterra nonlinear coupled ordinary differential equations. It is inspired by recent results by the author that solve nonlinear coupled ordinary differential equations in terms of ratios of Weierstrass Sigma functions. So far a solution to the the Lotka-Volterra systems has not been found in this work but a solution to two related systems with different quadratic terms has.\n",
    "\n",
    "Nonlinear differential equations (includes nice discussion of Lotka–Volterra 2 mode systems for species populations)\n",
    "\n",
    "https://www-users.cse.umn.edu/~olver/ln_/odq.pdf\n",
    "\n",
    "Other solutions to Lotka–Volterra\n",
    "\n",
    "https://www.itm-conferences.org/articles/itmconf/pdf/2019/06/itmconf_iccmae2018_01016.pdf\n",
    "\n",
    "Some elliptic solutions to Lotka-Volterra (3 modes) Robert S Maier at Arizona has written a few papers\n",
    "\n",
    "https://arxiv.org/pdf/1211.5813.pdf\n",
    "\n",
    "https://arxiv.org/pdf/1203.0283.pdf\n",
    "\n",
    "https://arxiv.org/pdf\n",
    "\n",
    "Some good refs here:\n",
    "\n",
    "https://arxiv.org/pdf/2303.09317.pdf\n",
    "\n",
    "Lagrangians for LV\n",
    "\n",
    "https://docs.juliahub.com/GeometricProblems/4fHs6/0.1.8/lotka_volterra_2d/\n",
    "\n",
    "Logistic differential equation\n",
    "https://www-users.cse.umn.edu/~olver/ln_/odq.pdf/0807.1081.pdf"
   ]
  },
  {
   "cell_type": "code",
   "execution_count": 2,
   "id": "64fd7536-b764-461c-85ca-7ffc5c43e9ef",
   "metadata": {},
   "outputs": [],
   "source": [
    "from sympy import *\n",
    "(x, y, X, Y, Z, B, C, n, m, l, j, q, N, M, K, k, epsilon, z, s, p1, p2, p3, g2, g3,\n",
    " z0, w1, w2, w3, e1, e2, e3, Delta, rho,\n",
    " omega1, omega2, omega3, eta1, eta2, eta3, d1, d2, d3) = symbols(\n",
    "    '''x, y, X, Y, Z, B, C, n, m, l, j, q, N, M, K, k, epsilon, z, s, p1, p2, p3, g2, g3,\n",
    "    z0, w1, w2, w3, e1, e2, e3, Delta, rho,\n",
    "    omega1, omega2, omega3, eta1, eta2, eta3, d1, d2, d3'''\n",
    ")\n",
    "alpha, delta, t, nu, epsilon, theta = symbols('alpha, delta, t, nu, epsilon, theta')\n",
    "pw = Function('pw') # Weierstrass P function\n",
    "pwp = Function('pwp') # Derivative of Weierstrass P function\n",
    "zw = Function('zw') # Weierstrass Zeta function\n",
    "sigma = Function('sigma') # Weierstrass Sigma function\n",
    "f = Function('f')\n",
    "h = Function('h')\n",
    "s = Function('s')\n",
    "u = Function('u')\n",
    "v = Function('v')\n",
    "P = Function('P') # Polynomial\n",
    "Q = Function('Q') # Polynomial\n",
    "R = Function('') # Polynomial\n",
    "phi = Function('phi')\n",
    "Phi = Function('Phi')\n",
    "phi1 = Function('phi1')\n",
    "phi2 = Function('phi2')\n",
    "phi3 = Function('phi3')\n",
    "A = Function('A')\n",
    "Ac = Function('Ac')\n",
    "A1 = Function('A1')\n",
    "A2 = Function('A2')\n",
    "A3 = Function('A3')\n",
    "Ac1 = Function('Ac1')\n",
    "Ac2 = Function('Ac2')\n",
    "Ac3 = Function('Ac3')\n",
    "A4 = Function('A4')\n",
    "A5 = Function('A5')\n",
    "A6 = Function('A6')\n",
    "A7 = Function('A7')\n",
    "A8 = Function('A8')\n",
    "W1 = Function('W1')\n",
    "W2 = Function('W2')\n",
    "W3 = Function('W3')\n",
    "W4 = Function('W4')\n",
    "W5 = Function('W5')\n",
    "W6 = Function('W6')\n",
    "Det = Function(\"Det\")\n",
    "\n",
    "kappa = IndexedBase('kappa')\n",
    "beta = IndexedBase('beta')\n",
    "mu = IndexedBase('mu')\n",
    "xi = IndexedBase('xi')\n",
    "a = IndexedBase('a')\n",
    "b = IndexedBase('b')\n",
    "c = IndexedBase('c')\n",
    "d = IndexedBase('d')\n",
    "p = IndexedBase('p')\n",
    "G = IndexedBase('G')\n",
    "psi = IndexedBase('psi')\n",
    "upsilon = IndexedBase('upsilon')\n",
    "WPdet = Function('WPdet')\n",
    "\n",
    "Omega = IndexedBase('Omega')\n",
    "T = Function('T')\n",
    "V = Function('V')\n",
    "Dz = Function('Dz') # Derivate w.r.t z\n",
    "L = Function('L')\n",
    "U = Function(\"U\")\n",
    "W = Function(\"W\")\n",
    "from math import prod\n",
    "\n",
    "from IPython.core.interactiveshell import InteractiveShell\n",
    "InteractiveShell.ast_node_interactivity = 'all'"
   ]
  },
  {
   "cell_type": "code",
   "execution_count": 3,
   "id": "06b6699c-5ce5-40fa-8dfa-b514e52ff000",
   "metadata": {},
   "outputs": [],
   "source": [
    "from numpy import linspace, absolute, angle, square, real, imag, conj, array as arraynp, vectorize, concatenate\n",
    "import scipy.integrate\n",
    "import matplotlib.pyplot as plt\n",
    "\n",
    "# The package containing mpmath expressions for Weierstrass elliptic functions\n",
    "from numerical_evaluation.weierstrass_modified import Weierstrass\n",
    "we = Weierstrass()\n",
    "from mpmath import exp as mpexp"
   ]
  },
  {
   "cell_type": "markdown",
   "id": "cee64a4d-2e36-43e9-91f6-6fb521658408",
   "metadata": {},
   "source": [
    "## Background elliptic function theory"
   ]
  },
  {
   "cell_type": "code",
   "execution_count": 4,
   "id": "2dbd373d-62ee-4377-bded-898da043650b",
   "metadata": {},
   "outputs": [
    {
     "data": {
      "text/latex": [
       "$\\displaystyle \\operatorname{pwp}^{2}{\\left(z,g_{2},g_{3} \\right)} = - g_{2} \\operatorname{pw}{\\left(z,g_{2},g_{3} \\right)} - g_{3} + 4 \\operatorname{pw}^{3}{\\left(z,g_{2},g_{3} \\right)}$"
      ],
      "text/plain": [
       "Eq(pwp(z, g2, g3)**2, -g2*pw(z, g2, g3) - g3 + 4*pw(z, g2, g3)**3)"
      ]
     },
     "execution_count": 4,
     "metadata": {},
     "output_type": "execute_result"
    }
   ],
   "source": [
    "pwp_def = Eq(pwp(z,g2,g3)**2, 4*pw(z,g2,g3)**3 - g2*pw(z,g2,g3) - g3)\n",
    "pwp_def"
   ]
  },
  {
   "cell_type": "code",
   "execution_count": 5,
   "id": "f1fe80ad-2186-4220-a032-e1ecafd12a79",
   "metadata": {},
   "outputs": [
    {
     "data": {
      "text/latex": [
       "$\\displaystyle \\frac{\\partial}{\\partial z} \\operatorname{pwp}{\\left(z,g_{2},g_{3} \\right)} = - \\frac{g_{2}}{2} + 6 \\operatorname{pw}^{2}{\\left(z,g_{2},g_{3} \\right)}$"
      ],
      "text/plain": [
       "Eq(Derivative(pwp(z, g2, g3), z), -g2/2 + 6*pw(z, g2, g3)**2)"
      ]
     },
     "execution_count": 5,
     "metadata": {},
     "output_type": "execute_result"
    }
   ],
   "source": [
    "pwp2_def = Eq(diff(pwp_def.lhs,z)/pwp(z,g2,g3)/2, diff(pwp_def.rhs,z).subs(diff(pw(z,g2,g3),z),pwp(z,g2,g3))/pwp(z,g2,g3)/2).expand()\n",
    "pwp2_def"
   ]
  },
  {
   "cell_type": "code",
   "execution_count": 6,
   "id": "5a523665-6c47-48d0-a94b-4fd9342efd30",
   "metadata": {},
   "outputs": [
    {
     "data": {
      "text/latex": [
       "$\\displaystyle \\frac{\\operatorname{pwp}{\\left(x,g_{2},g_{3} \\right)} - \\operatorname{pwp}{\\left(y,g_{2},g_{3} \\right)}}{2 \\left(\\operatorname{pw}{\\left(x,g_{2},g_{3} \\right)} - \\operatorname{pw}{\\left(y,g_{2},g_{3} \\right)}\\right)} = - \\operatorname{zw}{\\left(x,g_{2},g_{3} \\right)} - \\operatorname{zw}{\\left(y,g_{2},g_{3} \\right)} + \\operatorname{zw}{\\left(x + y,g_{2},g_{3} \\right)}$"
      ],
      "text/plain": [
       "Eq((pwp(x, g2, g3) - pwp(y, g2, g3))/(2*(pw(x, g2, g3) - pw(y, g2, g3))), -zw(x, g2, g3) - zw(y, g2, g3) + zw(x + y, g2, g3))"
      ]
     },
     "execution_count": 6,
     "metadata": {},
     "output_type": "execute_result"
    }
   ],
   "source": [
    "pw_to_zw_identity = Eq(\n",
    "    (pwp(x,g2,g3) - pwp(y,g2,g3))/(pw(x,g2,g3) - pw(y,g2,g3))/2,\n",
    "    zw(x + y,g2, g3) - zw(x,g2, g3) - zw(y,g2, g3)\n",
    ")\n",
    "pw_to_zw_identity"
   ]
  },
  {
   "cell_type": "code",
   "execution_count": 7,
   "id": "debe41ae-2b1e-4b8a-a1cc-58c3e55157f1",
   "metadata": {},
   "outputs": [
    {
     "data": {
      "text/latex": [
       "$\\displaystyle \\frac{\\partial}{\\partial z} \\operatorname{zw}{\\left(z,g_{2},g_{3} \\right)} = - \\operatorname{pw}{\\left(z,g_{2},g_{3} \\right)}$"
      ],
      "text/plain": [
       "Eq(Derivative(zw(z, g2, g3), z), -pw(z, g2, g3))"
      ]
     },
     "execution_count": 7,
     "metadata": {},
     "output_type": "execute_result"
    }
   ],
   "source": [
    "diff_zeta_eq = Eq(diff(zw(z,g2,g3),z), -pw(z,g2,g3))\n",
    "diff_zeta_eq"
   ]
  },
  {
   "cell_type": "code",
   "execution_count": 8,
   "id": "94e1aee4-7cf9-46b3-9073-4aa6c750e630",
   "metadata": {},
   "outputs": [
    {
     "data": {
      "text/latex": [
       "$\\displaystyle \\int \\operatorname{zw}{\\left(z,g_{2},g_{3} \\right)}\\, dz = \\log{\\left(\\sigma{\\left(z,g_{2},g_{3} \\right)} \\right)}$"
      ],
      "text/plain": [
       "Eq(Integral(zw(z, g2, g3), z), log(sigma(z, g2, g3)))"
      ]
     },
     "execution_count": 8,
     "metadata": {},
     "output_type": "execute_result"
    }
   ],
   "source": [
    "integral_zeta_log_sigma = Eq(Integral(zw(z,g2,g3),z),log(sigma(z,g2,g3)))\n",
    "integral_zeta_log_sigma"
   ]
  },
  {
   "cell_type": "code",
   "execution_count": 9,
   "id": "1a62c054-598a-4740-a172-d625cd9f5d03",
   "metadata": {},
   "outputs": [
    {
     "data": {
      "text/latex": [
       "$\\displaystyle - \\operatorname{pw}{\\left(x,g_{2},g_{3} \\right)} + \\operatorname{pw}{\\left(y,g_{2},g_{3} \\right)} = \\frac{\\sigma{\\left(x - y,g_{2},g_{3} \\right)} \\sigma{\\left(x + y,g_{2},g_{3} \\right)}}{\\sigma^{2}{\\left(x,g_{2},g_{3} \\right)} \\sigma^{2}{\\left(y,g_{2},g_{3} \\right)}}$"
      ],
      "text/plain": [
       "Eq(-pw(x, g2, g3) + pw(y, g2, g3), sigma(x - y, g2, g3)*sigma(x + y, g2, g3)/(sigma(x, g2, g3)**2*sigma(y, g2, g3)**2))"
      ]
     },
     "execution_count": 9,
     "metadata": {},
     "output_type": "execute_result"
    }
   ],
   "source": [
    "sigma_p_identity = Eq(\n",
    "    pw(y, g2, g3) - pw(x, g2, g3),\n",
    "    sigma(x + y, g2, g3) * sigma(x - y, g2, g3) / (sigma(x, g2, g3) ** 2 * sigma(y, g2, g3) ** 2) \n",
    ")\n",
    "sigma_p_identity"
   ]
  },
  {
   "cell_type": "code",
   "execution_count": 10,
   "id": "ac985286-a21f-46f0-b7cc-5cbf7a5392e7",
   "metadata": {},
   "outputs": [
    {
     "data": {
      "text/latex": [
       "$\\displaystyle \\operatorname{zw}{\\left(2 m \\omega_{3} + 2 n \\omega_{1} + z,g_{2},g_{3} \\right)} = 2 \\eta_{1} n + 2 \\eta_{3} m + \\operatorname{zw}{\\left(z,g_{2},g_{3} \\right)}$"
      ],
      "text/plain": [
       "Eq(zw(2*m*omega3 + 2*n*omega1 + z, g2, g3), 2*eta1*n + 2*eta3*m + zw(z, g2, g3))"
      ]
     },
     "execution_count": 10,
     "metadata": {},
     "output_type": "execute_result"
    }
   ],
   "source": [
    "zw_quasi_eq = Eq(zw(z + 2*omega1*n+ 2*omega3*m,g2,g3), zw(z,g2,g3) + 2*n*eta1 + 2*m*eta3)\n",
    "zw_quasi_eq"
   ]
  },
  {
   "cell_type": "code",
   "execution_count": 11,
   "id": "6b17e8ae-9b07-424b-b7b4-4e2be006c8b4",
   "metadata": {},
   "outputs": [
    {
     "data": {
      "text/latex": [
       "$\\displaystyle \\operatorname{pwp}{\\left(z,g_{2},g_{3} \\right)} = - \\frac{\\sigma{\\left(2 z,g_{2},g_{3} \\right)}}{\\sigma^{4}{\\left(z,g_{2},g_{3} \\right)}}$"
      ],
      "text/plain": [
       "Eq(pwp(z, g2, g3), -sigma(2*z, g2, g3)/sigma(z, g2, g3)**4)"
      ]
     },
     "execution_count": 11,
     "metadata": {},
     "output_type": "execute_result"
    }
   ],
   "source": [
    "pwp_sigma_id = Eq(pwp(z,g2,g3),-sigma(2*z,g2,g3)/sigma(z,g2,g3)**4)\n",
    "pwp_sigma_id"
   ]
  },
  {
   "cell_type": "code",
   "execution_count": 12,
   "id": "7a47b588-7a7e-400f-ac9d-9e859af9d5dd",
   "metadata": {},
   "outputs": [
    {
     "data": {
      "text/latex": [
       "$\\displaystyle \\operatorname{zw}{\\left(x,g_{2},g_{3} \\right)} + \\operatorname{zw}{\\left(y,g_{2},g_{3} \\right)} - \\operatorname{zw}{\\left(x + y,g_{2},g_{3} \\right)} = - \\frac{- \\sigma^{4}{\\left(x,g_{2},g_{3} \\right)} \\sigma{\\left(2 y,g_{2},g_{3} \\right)} + \\sigma{\\left(2 x,g_{2},g_{3} \\right)} \\sigma^{4}{\\left(y,g_{2},g_{3} \\right)}}{2 \\sigma^{2}{\\left(x,g_{2},g_{3} \\right)} \\sigma^{2}{\\left(y,g_{2},g_{3} \\right)} \\sigma{\\left(x - y,g_{2},g_{3} \\right)} \\sigma{\\left(x + y,g_{2},g_{3} \\right)}}$"
      ],
      "text/plain": [
       "Eq(zw(x, g2, g3) + zw(y, g2, g3) - zw(x + y, g2, g3), -(-sigma(x, g2, g3)**4*sigma(2*y, g2, g3) + sigma(2*x, g2, g3)*sigma(y, g2, g3)**4)/(2*sigma(x, g2, g3)**2*sigma(y, g2, g3)**2*sigma(x - y, g2, g3)*sigma(x + y, g2, g3)))"
      ]
     },
     "execution_count": 12,
     "metadata": {},
     "output_type": "execute_result"
    }
   ],
   "source": [
    "zw_sigma_id = pw_to_zw_identity.subs([sigma_p_identity.args, pwp_sigma_id.subs(z,x).args, pwp_sigma_id.subs(z,y).args]).simplify()\n",
    "zw_sigma_id"
   ]
  },
  {
   "cell_type": "code",
   "execution_count": 13,
   "id": "5262148b-ec07-467d-b8b9-25d05d935dfb",
   "metadata": {},
   "outputs": [
    {
     "data": {
      "text/latex": [
       "$\\displaystyle \\operatorname{zw}{\\left(2 z,g_{2},g_{3} \\right)} = 2 \\operatorname{zw}{\\left(z,g_{2},g_{3} \\right)} + \\frac{\\frac{\\partial^{3}}{\\partial z^{3}} \\operatorname{zw}{\\left(z,g_{2},g_{3} \\right)}}{2 \\frac{\\partial^{2}}{\\partial z^{2}} \\operatorname{zw}{\\left(z,g_{2},g_{3} \\right)}}$"
      ],
      "text/plain": [
       "Eq(zw(2*z, g2, g3), 2*zw(z, g2, g3) + Derivative(zw(z, g2, g3), (z, 3))/(2*Derivative(zw(z, g2, g3), (z, 2))))"
      ]
     },
     "execution_count": 13,
     "metadata": {},
     "output_type": "execute_result"
    }
   ],
   "source": [
    "# 23.10.9 https://dlmf.nist.gov/23.10#E9\n",
    "zw2z_2zwz = Eq(zw(2*z,g2,g3), 2*zw(z,g2,g3) + diff(zw(z,g2,g3),z,3)/diff(zw(z,g2,g3),z,2)/2)\n",
    "zw2z_2zwz"
   ]
  },
  {
   "cell_type": "code",
   "execution_count": 14,
   "id": "69e3634e-91ba-433d-9eae-1580f265b2a2",
   "metadata": {},
   "outputs": [
    {
     "data": {
      "text/latex": [
       "$\\displaystyle \\frac{\\partial}{\\partial z} \\operatorname{zw}{\\left(z,g_{2},g_{3} \\right)} = - \\operatorname{pw}{\\left(z,g_{2},g_{3} \\right)}$"
      ],
      "text/plain": [
       "Eq(Derivative(zw(z, g2, g3), z), -pw(z, g2, g3))"
      ]
     },
     "execution_count": 14,
     "metadata": {},
     "output_type": "execute_result"
    },
    {
     "data": {
      "text/latex": [
       "$\\displaystyle \\frac{\\partial^{2}}{\\partial z^{2}} \\operatorname{zw}{\\left(z,g_{2},g_{3} \\right)} = - \\operatorname{pwp}{\\left(z,g_{2},g_{3} \\right)}$"
      ],
      "text/plain": [
       "Eq(Derivative(zw(z, g2, g3), (z, 2)), -pwp(z, g2, g3))"
      ]
     },
     "execution_count": 14,
     "metadata": {},
     "output_type": "execute_result"
    },
    {
     "data": {
      "text/latex": [
       "$\\displaystyle \\frac{\\partial^{3}}{\\partial z^{3}} \\operatorname{zw}{\\left(z,g_{2},g_{3} \\right)} = - \\frac{\\partial}{\\partial z} \\operatorname{pwp}{\\left(z,g_{2},g_{3} \\right)}$"
      ],
      "text/plain": [
       "Eq(Derivative(zw(z, g2, g3), (z, 3)), -Derivative(pwp(z, g2, g3), z))"
      ]
     },
     "execution_count": 14,
     "metadata": {},
     "output_type": "execute_result"
    },
    {
     "data": {
      "text/latex": [
       "$\\displaystyle \\operatorname{zw}{\\left(2 z,g_{2},g_{3} \\right)} = \\frac{- \\frac{g_{2}}{2} + 6 \\operatorname{pw}^{2}{\\left(z,g_{2},g_{3} \\right)}}{2 \\operatorname{pwp}{\\left(z,g_{2},g_{3} \\right)}} + 2 \\operatorname{zw}{\\left(z,g_{2},g_{3} \\right)}$"
      ],
      "text/plain": [
       "Eq(zw(2*z, g2, g3), (-g2/2 + 6*pw(z, g2, g3)**2)/(2*pwp(z, g2, g3)) + 2*zw(z, g2, g3))"
      ]
     },
     "execution_count": 14,
     "metadata": {},
     "output_type": "execute_result"
    }
   ],
   "source": [
    "dzw_1 = Eq(diff(zw(z,g2,g3),z), -pw(z,g2,g3))\n",
    "dzw_2 = Eq(diff(zw(z,g2,g3),z,2), -pwp(z,g2,g3))\n",
    "dzw_3 = Eq(diff(zw(z,g2,g3),z,3), -diff(pwp(z,g2,g3),z))\n",
    "zw2z_2zwz_pw_pwp = zw2z_2zwz.subs([dzw_3.args, dzw_2.args]).subs(*pwp2_def.args)\n",
    "dzw_1\n",
    "dzw_2\n",
    "dzw_3\n",
    "zw2z_2zwz_pw_pwp"
   ]
  },
  {
   "cell_type": "code",
   "execution_count": 15,
   "id": "9cd37187-550d-46bc-9857-03e9aa1eeb83",
   "metadata": {},
   "outputs": [
    {
     "data": {
      "text/latex": [
       "$\\displaystyle \\sigma{\\left(z,g_{2},g_{3} \\right)} = \\frac{\\frac{\\partial}{\\partial z} \\sigma{\\left(z,g_{2},g_{3} \\right)}}{\\operatorname{zw}{\\left(z,g_{2},g_{3} \\right)}}$"
      ],
      "text/plain": [
       "Eq(sigma(z, g2, g3), Derivative(sigma(z, g2, g3), z)/zw(z, g2, g3))"
      ]
     },
     "execution_count": 15,
     "metadata": {},
     "output_type": "execute_result"
    }
   ],
   "source": [
    "sigma_zeta_eq = Eq(diff(integral_zeta_log_sigma.lhs,z)*sigma(z,g2,g3)/zw(z,g2,g3), \n",
    "             diff(integral_zeta_log_sigma.rhs,z)*sigma(z,g2,g3)/zw(z,g2,g3))\n",
    "sigma_zeta_eq"
   ]
  },
  {
   "cell_type": "code",
   "execution_count": 16,
   "id": "7500a8ee-900f-466b-9f2d-ee8863faa229",
   "metadata": {},
   "outputs": [
    {
     "data": {
      "text/latex": [
       "$\\displaystyle \\sigma{\\left(2 n \\omega_{1} + z,g_{2},g_{3} \\right)} = \\left(-1\\right)^{n} \\sigma{\\left(z,g_{2},g_{3} \\right)} e^{2 \\eta_{1} n \\left(n \\omega_{1} + z\\right)}$"
      ],
      "text/plain": [
       "Eq(sigma(2*n*omega1 + z, g2, g3), (-1)**n*sigma(z, g2, g3)*exp(2*eta1*n*(n*omega1 + z)))"
      ]
     },
     "execution_count": 16,
     "metadata": {},
     "output_type": "execute_result"
    }
   ],
   "source": [
    "sigma_period_eq_1n = Eq(sigma(z + 2 * n * omega1, g2, g3), \n",
    "                       (-1) **n * sigma(z, g2, g3) * exp(2 * n * eta1 * (n * omega1 + z)))\n",
    "sigma_period_eq_1n"
   ]
  },
  {
   "cell_type": "code",
   "execution_count": 17,
   "id": "bdb6004a-658d-4a2f-8d71-3739a65f1d66",
   "metadata": {},
   "outputs": [
    {
     "data": {
      "text/latex": [
       "$\\displaystyle \\sigma{\\left(2 n \\omega_{1} + z,g_{2},g_{3} \\right)} = \\left(-1\\right)^{n} \\sigma{\\left(z,g_{2},g_{3} \\right)} e^{2 \\eta_{1} n \\left(n \\omega_{1} + z\\right)}$"
      ],
      "text/plain": [
       "Eq(sigma(2*n*omega1 + z, g2, g3), (-1)**n*sigma(z, g2, g3)*exp(2*eta1*n*(n*omega1 + z)))"
      ]
     },
     "execution_count": 17,
     "metadata": {},
     "output_type": "execute_result"
    },
    {
     "data": {
      "text/latex": [
       "$\\displaystyle \\sigma{\\left(2 n \\omega_{2} + z,g_{2},g_{3} \\right)} = \\left(-1\\right)^{n} \\sigma{\\left(z,g_{2},g_{3} \\right)} e^{2 \\eta_{2} n \\left(n \\omega_{2} + z\\right)}$"
      ],
      "text/plain": [
       "Eq(sigma(2*n*omega2 + z, g2, g3), (-1)**n*sigma(z, g2, g3)*exp(2*eta2*n*(n*omega2 + z)))"
      ]
     },
     "execution_count": 17,
     "metadata": {},
     "output_type": "execute_result"
    },
    {
     "data": {
      "text/latex": [
       "$\\displaystyle \\sigma{\\left(2 n \\omega_{3} + z,g_{2},g_{3} \\right)} = \\left(-1\\right)^{n} \\sigma{\\left(z,g_{2},g_{3} \\right)} e^{2 \\eta_{3} n \\left(n \\omega_{3} + z\\right)}$"
      ],
      "text/plain": [
       "Eq(sigma(2*n*omega3 + z, g2, g3), (-1)**n*sigma(z, g2, g3)*exp(2*eta3*n*(n*omega3 + z)))"
      ]
     },
     "execution_count": 17,
     "metadata": {},
     "output_type": "execute_result"
    },
    {
     "data": {
      "text/latex": [
       "$\\displaystyle \\sigma{\\left(2 m \\omega_{3} + 2 n \\omega_{1} + z,g_{2},g_{3} \\right)} = \\left(-1\\right)^{m} \\left(-1\\right)^{n} \\sigma{\\left(z,g_{2},g_{3} \\right)} e^{2 \\eta_{1} n z} e^{2 \\eta_{1} n^{2} \\omega_{1}} e^{2 \\eta_{3} m z} e^{2 \\eta_{3} m^{2} \\omega_{3}} e^{4 \\eta_{1} m n \\omega_{3}}$"
      ],
      "text/plain": [
       "Eq(sigma(2*m*omega3 + 2*n*omega1 + z, g2, g3), (-1)**m*(-1)**n*sigma(z, g2, g3)*exp(2*eta1*n*z)*exp(2*eta1*n**2*omega1)*exp(2*eta3*m*z)*exp(2*eta3*m**2*omega3)*exp(4*eta1*m*n*omega3))"
      ]
     },
     "execution_count": 17,
     "metadata": {},
     "output_type": "execute_result"
    },
    {
     "data": {
      "text/latex": [
       "$\\displaystyle \\sigma{\\left(2 m \\omega_{3} + 2 n \\omega_{1} + z,g_{2},g_{3} \\right)} = \\left(-1\\right)^{m} \\left(-1\\right)^{n} \\sigma{\\left(z,g_{2},g_{3} \\right)} e^{2 \\eta_{1} n z} e^{2 \\eta_{1} n^{2} \\omega_{1}} e^{2 \\eta_{3} m z} e^{2 \\eta_{3} m^{2} \\omega_{3}} e^{4 \\eta_{3} m n \\omega_{1}}$"
      ],
      "text/plain": [
       "Eq(sigma(2*m*omega3 + 2*n*omega1 + z, g2, g3), (-1)**m*(-1)**n*sigma(z, g2, g3)*exp(2*eta1*n*z)*exp(2*eta1*n**2*omega1)*exp(2*eta3*m*z)*exp(2*eta3*m**2*omega3)*exp(4*eta3*m*n*omega1))"
      ]
     },
     "execution_count": 17,
     "metadata": {},
     "output_type": "execute_result"
    },
    {
     "data": {
      "text/latex": [
       "$\\displaystyle e^{4 m n \\left(\\eta_{1} \\omega_{3} - \\eta_{3} \\omega_{1}\\right)} = 1$"
      ],
      "text/plain": [
       "Eq(exp(4*m*n*(eta1*omega3 - eta3*omega1)), 1)"
      ]
     },
     "execution_count": 17,
     "metadata": {},
     "output_type": "execute_result"
    },
    {
     "data": {
      "text/latex": [
       "$\\displaystyle \\eta_{1} \\omega_{3} - \\eta_{3} \\omega_{1} = \\frac{i \\pi}{2}$"
      ],
      "text/plain": [
       "Eq(eta1*omega3 - eta3*omega1, I*pi/2)"
      ]
     },
     "execution_count": 17,
     "metadata": {},
     "output_type": "execute_result"
    },
    {
     "data": {
      "text/latex": [
       "$\\displaystyle \\left(-1\\right)^{m n} e^{2 m n \\left(\\eta_{1} \\omega_{3} - \\eta_{3} \\omega_{1}\\right)} = 1$"
      ],
      "text/plain": [
       "Eq((-1)**(m*n)*exp(2*m*n*(eta1*omega3 - eta3*omega1)), 1)"
      ]
     },
     "execution_count": 17,
     "metadata": {},
     "output_type": "execute_result"
    },
    {
     "data": {
      "text/latex": [
       "$\\displaystyle \\sigma{\\left(2 m \\omega_{3} + 2 n \\omega_{1} + z,g_{2},g_{3} \\right)} = \\left(-1\\right)^{m n + m + n} \\sigma{\\left(z,g_{2},g_{3} \\right)} e^{2 \\eta_{1} m n \\omega_{3} + 2 \\eta_{1} n^{2} \\omega_{1} + 2 \\eta_{1} n z + 2 \\eta_{3} m^{2} \\omega_{3} + 2 \\eta_{3} m n \\omega_{1} + 2 \\eta_{3} m z}$"
      ],
      "text/plain": [
       "Eq(sigma(2*m*omega3 + 2*n*omega1 + z, g2, g3), (-1)**(m*n + m + n)*sigma(z, g2, g3)*exp(2*eta1*m*n*omega3 + 2*eta1*n**2*omega1 + 2*eta1*n*z + 2*eta3*m**2*omega3 + 2*eta3*m*n*omega1 + 2*eta3*m*z))"
      ]
     },
     "execution_count": 17,
     "metadata": {},
     "output_type": "execute_result"
    }
   ],
   "source": [
    "sigma_period_eq_1n = Eq(sigma(z + 2 * n * omega1, g2, g3), \n",
    "                       (-1) **n * sigma(z, g2, g3) * exp(2 * n * eta1 * (n * omega1 + z)))\n",
    "sigma_period_eq_2n = Eq(sigma(z + 2 * n * omega2, g2, g3), \n",
    "                        (-1) **n * sigma(z, g2, g3) * exp(2 * n * eta2 * (n * omega2 + z)))\n",
    "sigma_period_eq_3n = Eq(sigma(z + 2 * n * omega3, g2, g3), \n",
    "                        (-1) **n * sigma(z, g2, g3) * exp(2 * n * eta3 * (n * omega3 + z)))\n",
    "sigma_period_eq_n1_m3_a = (\n",
    "    sigma_period_eq_1n\n",
    "    .subs(z,z+2*m*omega3)\n",
    "    .subs(sigma_period_eq_3n.lhs.subs(n,m), sigma_period_eq_3n.rhs.subs(n,m))\n",
    "    .simplify()\n",
    ")\n",
    "sigma_period_eq_n1_m3_b = (\n",
    "    sigma_period_eq_3n\n",
    "    .subs(n,m)\n",
    "    .subs(z,z+2*n*omega1)\n",
    "    .subs(sigma_period_eq_1n.lhs, sigma_period_eq_1n.rhs)\n",
    "    .simplify()\n",
    ")\n",
    "eta1_eta3_omega_id = Eq(sigma_period_eq_n1_m3_a.lhs/sigma_period_eq_n1_m3_b.lhs,\n",
    "   sigma_period_eq_n1_m3_a.rhs/sigma_period_eq_n1_m3_b.rhs\n",
    "  ).simplify()\n",
    "eta_omega_ww = Eq(eta1*omega3-eta3*omega1,I*pi/2)\n",
    "symmetry_nm_eta_omega = Eq(exp(2*m*n*(eta1*omega3-eta3*omega1))*(\n",
    "    exp(2*m*n*(eta1*omega3-eta3*omega1)).subs(eta_omega_ww.lhs, eta_omega_ww.rhs).subs(exp(I*pi*n*m), (-1)**(n*m))),\n",
    "   (exp(2*m*n*(eta1*omega3-eta3*omega1))*exp(2*m*n*(eta1*omega3-eta3*omega1))\n",
    "   ).simplify().subs(eta1_eta3_omega_id.lhs, eta1_eta3_omega_id.rhs)\n",
    "  )\n",
    "sigma_period_eq_sym_nm = Eq(sigma_period_eq_n1_m3_b.lhs, \n",
    "                            sigma_period_eq_n1_m3_b.rhs*symmetry_nm_eta_omega.lhs).expand().simplify()\n",
    "\n",
    "\n",
    "sigma_period_eq_1n\n",
    "sigma_period_eq_2n\n",
    "sigma_period_eq_3n\n",
    "sigma_period_eq_n1_m3_a.expand()\n",
    "sigma_period_eq_n1_m3_b.expand()\n",
    "eta1_eta3_omega_id\n",
    "eta_omega_ww\n",
    "symmetry_nm_eta_omega\n",
    "sigma_period_eq_sym_nm"
   ]
  },
  {
   "cell_type": "code",
   "execution_count": 18,
   "id": "ef36ec34-704a-4391-b50b-ff56d0f7108a",
   "metadata": {},
   "outputs": [
    {
     "data": {
      "text/latex": [
       "$\\displaystyle \\frac{\\sigma{\\left(3 z,g_{2},g_{3} \\right)}}{\\sigma^{9}{\\left(z,g_{2},g_{3} \\right)}} = 3 \\operatorname{pw}{\\left(z,g_{2},g_{3} \\right)} \\operatorname{pwp}^{2}{\\left(z,g_{2},g_{3} \\right)} - \\frac{\\left(\\frac{\\partial}{\\partial z} \\operatorname{pwp}{\\left(z,g_{2},g_{3} \\right)}\\right)^{2}}{4}$"
      ],
      "text/plain": [
       "Eq(sigma(3*z, g2, g3)/sigma(z, g2, g3)**9, 3*pw(z, g2, g3)*pwp(z, g2, g3)**2 - Derivative(pwp(z, g2, g3), z)**2/4)"
      ]
     },
     "execution_count": 18,
     "metadata": {},
     "output_type": "execute_result"
    },
    {
     "data": {
      "text/latex": [
       "$\\displaystyle \\frac{\\sigma{\\left(3 z,g_{2},g_{3} \\right)}}{\\sigma^{9}{\\left(z,g_{2},g_{3} \\right)}} = - \\frac{\\left(- \\frac{g_{2}}{2} + 6 \\operatorname{pw}^{2}{\\left(z,g_{2},g_{3} \\right)}\\right)^{2}}{4} + 3 \\operatorname{pw}{\\left(z,g_{2},g_{3} \\right)} \\operatorname{pwp}^{2}{\\left(z,g_{2},g_{3} \\right)}$"
      ],
      "text/plain": [
       "Eq(sigma(3*z, g2, g3)/sigma(z, g2, g3)**9, -(-g2/2 + 6*pw(z, g2, g3)**2)**2/4 + 3*pw(z, g2, g3)*pwp(z, g2, g3)**2)"
      ]
     },
     "execution_count": 18,
     "metadata": {},
     "output_type": "execute_result"
    }
   ],
   "source": [
    "# Whittaker and Watson 5th edition excercise 20.24 p482\n",
    "sigma_3z = Eq(sigma(3*z,g2,g3)/sigma(z,g2,g3)**9, 3*pw(z,g2,g3)*pwp(z,g2,g3)**2 - diff(pwp(z,g2,g3),z)**2/4)\n",
    "sigma_3zb = sigma_3z.subs(*pwp2_def.args)\n",
    "sigma_3z\n",
    "sigma_3zb"
   ]
  },
  {
   "cell_type": "markdown",
   "id": "cd0eeaf9-83ed-4c17-930d-373f9c2339da",
   "metadata": {},
   "source": [
    "## Euler Lagrange Equations"
   ]
  },
  {
   "cell_type": "code",
   "execution_count": 19,
   "id": "8c730560-80b0-4921-98c2-fed77b1a0c32",
   "metadata": {},
   "outputs": [
    {
     "data": {
      "text/latex": [
       "$\\displaystyle \\frac{d}{d u{\\left(z \\right)}} L{\\left(u{\\left(z \\right)},v{\\left(z \\right)},\\frac{d}{d z} u{\\left(z \\right)},\\frac{d}{d z} v{\\left(z \\right)} \\right)} - \\frac{d^{2}}{d zd \\frac{d}{d z} u{\\left(z \\right)}} L{\\left(u{\\left(z \\right)},v{\\left(z \\right)},\\frac{d}{d z} u{\\left(z \\right)},\\frac{d}{d z} v{\\left(z \\right)} \\right)} = 0$"
      ],
      "text/plain": [
       "Eq(Derivative(L(u(z), v(z), Derivative(u(z), z), Derivative(v(z), z)), u(z)) - Derivative(L(u(z), v(z), Derivative(u(z), z), Derivative(v(z), z)), Derivative(u(z), z), z), 0)"
      ]
     },
     "execution_count": 19,
     "metadata": {},
     "output_type": "execute_result"
    },
    {
     "data": {
      "text/latex": [
       "$\\displaystyle \\frac{d}{d v{\\left(z \\right)}} L{\\left(u{\\left(z \\right)},v{\\left(z \\right)},\\frac{d}{d z} u{\\left(z \\right)},\\frac{d}{d z} v{\\left(z \\right)} \\right)} - \\frac{d^{2}}{d zd \\frac{d}{d z} v{\\left(z \\right)}} L{\\left(u{\\left(z \\right)},v{\\left(z \\right)},\\frac{d}{d z} u{\\left(z \\right)},\\frac{d}{d z} v{\\left(z \\right)} \\right)} = 0$"
      ],
      "text/plain": [
       "Eq(Derivative(L(u(z), v(z), Derivative(u(z), z), Derivative(v(z), z)), v(z)) - Derivative(L(u(z), v(z), Derivative(u(z), z), Derivative(v(z), z)), Derivative(v(z), z), z), 0)"
      ]
     },
     "execution_count": 19,
     "metadata": {},
     "output_type": "execute_result"
    }
   ],
   "source": [
    "euler_lagrange_eqs = [Eq(Derivative(L(u(z),v(z),diff(u(z),z),diff(v(z),z)),f) - \n",
    "Derivative(Derivative(L(u(z),v(z),diff(u(z),z),diff(v(z),z)),Derivative(f,z)),z),0) for f in [u(z), v(z)]]\n",
    "for el in euler_lagrange_eqs:\n",
    "    el "
   ]
  },
  {
   "cell_type": "markdown",
   "id": "dd1fcea7-61e9-40fa-8948-fb89c3183a1a",
   "metadata": {},
   "source": [
    "## The Lotka-Volterra System\n",
    "\n",
    "This work aims to find solutions to this system which is known as the Lotka-Volterra system and describes predator-prey species competition dynamics. It was the inspiration for this research but investigations have not yet yielded a solution."
   ]
  },
  {
   "cell_type": "code",
   "execution_count": 225,
   "id": "9ed2b592-a7a2-471d-bd86-fefdaae5d52a",
   "metadata": {},
   "outputs": [
    {
     "data": {
      "text/latex": [
       "$\\displaystyle L{\\left(u{\\left(z \\right)},v{\\left(z \\right)},\\frac{d}{d z} u{\\left(z \\right)},\\frac{d}{d z} v{\\left(z \\right)} \\right)} = - \\alpha \\log{\\left(v{\\left(z \\right)} \\right)} + \\delta v{\\left(z \\right)} - u{\\left(z \\right)} \\kappa - \\frac{\\log{\\left(u{\\left(z \\right)} \\right)} \\frac{d}{d z} \\log{\\left(v{\\left(z \\right)} \\right)}}{2} - \\log{\\left(u{\\left(z \\right)} \\right)} \\beta + \\frac{\\log{\\left(v{\\left(z \\right)} \\right)} \\frac{d}{d z} \\log{\\left(u{\\left(z \\right)} \\right)}}{2}$"
      ],
      "text/plain": [
       "Eq(L(u(z), v(z), Derivative(u(z), z), Derivative(v(z), z)), -alpha*log(v(z)) + delta*v(z) - u(z)*kappa - log(u(z))*Derivative(log(v(z)), z)/2 - log(u(z))*beta + log(v(z))*Derivative(log(u(z)), z)/2)"
      ]
     },
     "execution_count": 225,
     "metadata": {},
     "output_type": "execute_result"
    }
   ],
   "source": [
    "# lk_kinetic  = ((u(z)+a*ln(u(z)))*diff(v(z),z) - (v(z)+b*ln(v(z)))*diff(u(z),z))/2 \n",
    "# lk_kinetic  = ln(v(z))/u(z)*diff(u(z),z)/2 - ln(u(z))/v(z)*diff(v(z),z)/2\n",
    "lk_kinetic  = ln(v(z))*Derivative(ln(u(z)),z)/2 - ln(u(z))*Derivative(ln(v(z)),z)/2\n",
    "# lk_kinetic = (u(z)*diff(v(z),z) - v(z)*diff(u(z),z))/2\n",
    "lk_potential = (alpha*ln(v(z)) + beta*ln(u(z)) - delta*v(z) + kappa*u(z) \n",
    "                # + epsilon*(log(u(z))*log(v(z))**2 + log(u(z))**2*log(v(z))) +\n",
    "                # + mu*(log(u(z))*v(z) + u(z)*log(v(z))) + mu*(u(z)*v(z)**2+v(z)*u(z)**2) \n",
    "                # + mu*f(u(z),v(z))\n",
    "               )\n",
    "\n",
    "lk_potential_exp_approx = (alpha*ln(v(z)) + beta*ln(u(z)) \n",
    "                           - delta*(1 + ln(v(z)) + ln(v(z))**2/factorial(2) + ln(v(z))**3/factorial(3)) \n",
    "                           + kappa*(1 + ln(u(z)) + ln(u(z))**2/factorial(2) + ln(u(z))**3/factorial(3)) \n",
    "               )\n",
    "\n",
    "lk_lagrangian = Eq(L(u(z),v(z),diff(u(z),z),diff(v(z),z)), lk_kinetic - lk_potential)\n",
    "lk_lagrangian"
   ]
  },
  {
   "cell_type": "code",
   "execution_count": 224,
   "id": "60cb6506-9a23-445f-983a-24a4183a709a",
   "metadata": {},
   "outputs": [
    {
     "data": {
      "text/latex": [
       "$\\displaystyle \\frac{d}{d z} u{\\left(z \\right)} = \\alpha u{\\left(z \\right)} - \\frac{\\delta u{\\left(z \\right)} \\log{\\left(v{\\left(z \\right)} \\right)}^{2}}{2} - \\delta u{\\left(z \\right)} \\log{\\left(v{\\left(z \\right)} \\right)} - \\delta u{\\left(z \\right)}$"
      ],
      "text/plain": [
       "Eq(Derivative(u(z), z), alpha*u(z) - delta*u(z)*log(v(z))**2/2 - delta*u(z)*log(v(z)) - delta*u(z))"
      ]
     },
     "execution_count": 224,
     "metadata": {},
     "output_type": "execute_result"
    },
    {
     "data": {
      "text/latex": [
       "$\\displaystyle \\frac{d}{d z} v{\\left(z \\right)} = - \\frac{v{\\left(z \\right)} \\log{\\left(u{\\left(z \\right)} \\right)}^{2} \\kappa}{2} - v{\\left(z \\right)} \\log{\\left(u{\\left(z \\right)} \\right)} \\kappa - v{\\left(z \\right)} \\beta - v{\\left(z \\right)} \\kappa$"
      ],
      "text/plain": [
       "Eq(Derivative(v(z), z), -v(z)*log(u(z))**2*kappa/2 - v(z)*log(u(z))*kappa - v(z)*beta - v(z)*kappa)"
      ]
     },
     "execution_count": 224,
     "metadata": {},
     "output_type": "execute_result"
    }
   ],
   "source": [
    "dv1_lk = Eq(diff(u(z),z),solve(euler_lagrange_eqs[1].subs(*lk_lagrangian.args).doit() , diff(u(z),z))[0]).simplify().expand()\n",
    "dv2_lk = Eq(diff(v(z),z),solve(euler_lagrange_eqs[0].subs(*lk_lagrangian.args).doit() , diff(v(z),z))[0]).simplify().expand()\n",
    "dv1_lk\n",
    "dv2_lk"
   ]
  },
  {
   "cell_type": "code",
   "execution_count": 22,
   "id": "f657bfca-5bfb-4232-9d92-a5c08ce0190f",
   "metadata": {},
   "outputs": [
    {
     "data": {
      "text/latex": [
       "$\\displaystyle k = \\alpha \\log{\\left(v{\\left(z \\right)} \\right)} - \\delta v{\\left(z \\right)} + u{\\left(z \\right)} \\kappa + \\log{\\left(u{\\left(z \\right)} \\right)} \\beta$"
      ],
      "text/plain": [
       "Eq(k, alpha*log(v(z)) - delta*v(z) + u(z)*kappa + log(u(z))*beta)"
      ]
     },
     "execution_count": 22,
     "metadata": {},
     "output_type": "execute_result"
    }
   ],
   "source": [
    "k_conserved = Eq(k, lk_potential)\n",
    "k_conserved"
   ]
  },
  {
   "cell_type": "code",
   "execution_count": 23,
   "id": "0e2f4541-7abf-45c3-bfa2-48d4833d37ae",
   "metadata": {},
   "outputs": [
    {
     "data": {
      "text/latex": [
       "$\\displaystyle 0$"
      ],
      "text/plain": [
       "0"
      ]
     },
     "execution_count": 23,
     "metadata": {},
     "output_type": "execute_result"
    }
   ],
   "source": [
    "diff(k_conserved.rhs,z).subs([dv1_lk.args, dv2_lk.args]).expand().collect(u(z))"
   ]
  },
  {
   "cell_type": "code",
   "execution_count": 24,
   "id": "afe71ab1-4832-45bf-8869-22b0b535ff20",
   "metadata": {},
   "outputs": [
    {
     "data": {
      "text/latex": [
       "$\\displaystyle v{\\left(z \\right)} = \\frac{\\alpha}{\\delta} - \\frac{\\frac{d}{d z} u{\\left(z \\right)}}{\\delta u{\\left(z \\right)}}$"
      ],
      "text/plain": [
       "Eq(v(z), alpha/delta - Derivative(u(z), z)/(delta*u(z)))"
      ]
     },
     "execution_count": 24,
     "metadata": {},
     "output_type": "execute_result"
    }
   ],
   "source": [
    "v_as_ln_diff_u_lk = Eq(v(z), solve(dv1_lk.lhs - dv1_lk.rhs,v(z))[0])\n",
    "v_as_ln_diff_u_lk"
   ]
  },
  {
   "cell_type": "code",
   "execution_count": 25,
   "id": "56afb629-b7d7-4c78-9ac9-40036d3ba001",
   "metadata": {},
   "outputs": [
    {
     "data": {
      "text/latex": [
       "$\\displaystyle \\left(\\frac{\\alpha}{\\delta} - \\frac{\\frac{d}{d z} u{\\left(z \\right)}}{\\delta u{\\left(z \\right)}}\\right) u{\\left(z \\right)} \\kappa + \\left(\\frac{\\alpha}{\\delta} - \\frac{\\frac{d}{d z} u{\\left(z \\right)}}{\\delta u{\\left(z \\right)}}\\right) \\beta + \\frac{\\partial}{\\partial z} \\left(\\frac{\\alpha}{\\delta} - \\frac{\\frac{d}{d z} u{\\left(z \\right)}}{\\delta u{\\left(z \\right)}}\\right) = 0$"
      ],
      "text/plain": [
       "Eq((alpha/delta - Derivative(u(z), z)/(delta*u(z)))*u(z)*kappa + (alpha/delta - Derivative(u(z), z)/(delta*u(z)))*beta + Derivative(alpha/delta - Derivative(u(z), z)/(delta*u(z)), z), 0)"
      ]
     },
     "execution_count": 25,
     "metadata": {},
     "output_type": "execute_result"
    }
   ],
   "source": [
    "diff_u_only_eq_lk = Eq((dv2_lk.lhs - dv2_lk.rhs).subs(*v_as_ln_diff_u_lk.args),0)\n",
    "diff_u_only_eq_lk"
   ]
  },
  {
   "cell_type": "code",
   "execution_count": 26,
   "id": "f1f8d789-b527-4e4d-9fa2-f5b7086cc8c3",
   "metadata": {},
   "outputs": [
    {
     "data": {
      "text/latex": [
       "$\\displaystyle \\alpha u^{3}{\\left(z \\right)} \\kappa + \\alpha u^{2}{\\left(z \\right)} \\beta - u^{2}{\\left(z \\right)} \\frac{d}{d z} u{\\left(z \\right)} \\kappa - u{\\left(z \\right)} \\frac{d}{d z} u{\\left(z \\right)} \\beta - u{\\left(z \\right)} \\frac{d^{2}}{d z^{2}} u{\\left(z \\right)} + \\left(\\frac{d}{d z} u{\\left(z \\right)}\\right)^{2}$"
      ],
      "text/plain": [
       "alpha*u(z)**3*kappa + alpha*u(z)**2*beta - u(z)**2*Derivative(u(z), z)*kappa - u(z)*Derivative(u(z), z)*beta - u(z)*Derivative(u(z), (z, 2)) + Derivative(u(z), z)**2"
      ]
     },
     "execution_count": 26,
     "metadata": {},
     "output_type": "execute_result"
    }
   ],
   "source": [
    "diff_u_only_eq_lk_expanded = (diff_u_only_eq_lk.doit().expand().lhs*u(z)**2*delta).expand()\n",
    "diff_u_only_eq_lk_expanded"
   ]
  },
  {
   "cell_type": "markdown",
   "id": "143cfd37-0e0e-4528-972c-9e6e619b1310",
   "metadata": {},
   "source": [
    "## System 1: A solvable Lotka–Volterra like system\n",
    "Thus far, solving the Lotka-Volterra system has proved difficult. In order to get some angle of attack, a Lagrangian is constructed that has at least some similarity with the LK system, but conserves a known quantity that does not involve logarithms and can be solved using elliptic functions. This Lagrangian is as follows:"
   ]
  },
  {
   "cell_type": "code",
   "execution_count": 27,
   "id": "68cb3767-7d26-4c40-8b38-9f03089ea436",
   "metadata": {},
   "outputs": [
    {
     "data": {
      "text/latex": [
       "$\\displaystyle L{\\left(u{\\left(z \\right)},v{\\left(z \\right)},\\frac{d}{d z} u{\\left(z \\right)},\\frac{d}{d z} v{\\left(z \\right)} \\right)} = - \\alpha u{\\left(z \\right)} v{\\left(z \\right)} - \\delta u{\\left(z \\right)} v^{2}{\\left(z \\right)} - u^{2}{\\left(z \\right)} v{\\left(z \\right)} \\beta + \\frac{u{\\left(z \\right)} \\frac{d}{d z} v{\\left(z \\right)}}{2} - \\frac{v{\\left(z \\right)} \\frac{d}{d z} u{\\left(z \\right)}}{2}$"
      ],
      "text/plain": [
       "Eq(L(u(z), v(z), Derivative(u(z), z), Derivative(v(z), z)), -alpha*u(z)*v(z) - delta*u(z)*v(z)**2 - u(z)**2*v(z)*beta + u(z)*Derivative(v(z), z)/2 - v(z)*Derivative(u(z), z)/2)"
      ]
     },
     "execution_count": 27,
     "metadata": {},
     "output_type": "execute_result"
    }
   ],
   "source": [
    "kinetic  = (u(z)*diff(v(z),z) - v(z)*diff(u(z),z))/2\n",
    "potential = alpha*u(z)*v(z) +delta*u(z)*v(z)**2 + beta*u(z)**2*v(z)\n",
    "lagrangian = Eq(L(u(z),v(z),diff(u(z),z),diff(v(z),z)), kinetic - potential)\n",
    "lagrangian"
   ]
  },
  {
   "cell_type": "markdown",
   "id": "62a20d13-edfa-4d09-a295-cc2f1fef793c",
   "metadata": {},
   "source": [
    "So it can be seen that the difference with the LK system and this one, is the $u(z)^2, v(z)^2$ terms in this example:"
   ]
  },
  {
   "cell_type": "code",
   "execution_count": 28,
   "id": "c3e7bbce-081c-4723-a842-34806ec74c8f",
   "metadata": {},
   "outputs": [
    {
     "data": {
      "text/latex": [
       "$\\displaystyle \\frac{d}{d z} v{\\left(z \\right)} = \\alpha v{\\left(z \\right)} + \\delta v^{2}{\\left(z \\right)} + 2 u{\\left(z \\right)} v{\\left(z \\right)} \\beta$"
      ],
      "text/plain": [
       "Eq(Derivative(v(z), z), alpha*v(z) + delta*v(z)**2 + 2*u(z)*v(z)*beta)"
      ]
     },
     "execution_count": 28,
     "metadata": {},
     "output_type": "execute_result"
    },
    {
     "data": {
      "text/latex": [
       "$\\displaystyle \\frac{d}{d z} u{\\left(z \\right)} = - \\alpha u{\\left(z \\right)} - 2 \\delta u{\\left(z \\right)} v{\\left(z \\right)} - u^{2}{\\left(z \\right)} \\beta$"
      ],
      "text/plain": [
       "Eq(Derivative(u(z), z), -alpha*u(z) - 2*delta*u(z)*v(z) - u(z)**2*beta)"
      ]
     },
     "execution_count": 28,
     "metadata": {},
     "output_type": "execute_result"
    }
   ],
   "source": [
    "dv1 = Eq(diff(v(z),z),solve(euler_lagrange_eqs[0].subs(*lagrangian.args).doit() , diff(v(z),z))[0]).expand()\n",
    "dv2 = Eq(diff(u(z),z),solve(euler_lagrange_eqs[1].subs(*lagrangian.args).doit() , diff(u(z),z))[0]).expand()\n",
    "dv1\n",
    "dv2"
   ]
  },
  {
   "cell_type": "markdown",
   "id": "09ec2a3d-f819-4c3f-bce5-23c7988a584f",
   "metadata": {},
   "source": [
    "The system can easily be rescaled to reduce the number of paramters:"
   ]
  },
  {
   "cell_type": "code",
   "execution_count": 29,
   "id": "f3b0a41b-7a5a-4475-afb8-3fb249ab63c7",
   "metadata": {},
   "outputs": [
    {
     "data": {
      "text/latex": [
       "$\\displaystyle \\frac{d}{d z} v{\\left(z \\right)} = \\left(\\alpha + 2 u{\\left(z \\right)} + v{\\left(z \\right)}\\right) v{\\left(z \\right)}$"
      ],
      "text/plain": [
       "Eq(Derivative(v(z), z), (alpha + 2*u(z) + v(z))*v(z))"
      ]
     },
     "execution_count": 29,
     "metadata": {},
     "output_type": "execute_result"
    },
    {
     "data": {
      "text/latex": [
       "$\\displaystyle \\frac{d}{d z} u{\\left(z \\right)} = \\left(- \\alpha - u{\\left(z \\right)} - 2 v{\\left(z \\right)}\\right) u{\\left(z \\right)}$"
      ],
      "text/plain": [
       "Eq(Derivative(u(z), z), (-alpha - u(z) - 2*v(z))*u(z))"
      ]
     },
     "execution_count": 29,
     "metadata": {},
     "output_type": "execute_result"
    }
   ],
   "source": [
    "dv1_scaled = dv1.subs([(u(z),u(z)/beta),(v(z),v(z)/delta)])\n",
    "dv2_scaled = dv2.subs([(u(z),u(z)/beta),(v(z),v(z)/delta)])\n",
    "dv1_scaled = Eq(dv1_scaled.lhs*delta, dv1_scaled.rhs*delta).simplify()\n",
    "dv2_scaled = Eq(dv2_scaled.lhs*beta, dv2_scaled.rhs*beta).simplify()\n",
    "dv1_scaled\n",
    "dv2_scaled"
   ]
  },
  {
   "cell_type": "markdown",
   "id": "586263a2-3b85-4fd6-9997-11d7fa7d7ded",
   "metadata": {},
   "source": [
    "It conserves the following quantity:"
   ]
  },
  {
   "cell_type": "code",
   "execution_count": 30,
   "id": "6ae735d8-4b4d-4f89-a7b9-dc2768061f45",
   "metadata": {},
   "outputs": [
    {
     "data": {
      "text/latex": [
       "$\\displaystyle p = \\alpha u{\\left(z \\right)} v{\\left(z \\right)} + u^{2}{\\left(z \\right)} v{\\left(z \\right)} + u{\\left(z \\right)} v^{2}{\\left(z \\right)}$"
      ],
      "text/plain": [
       "Eq(p, alpha*u(z)*v(z) + u(z)**2*v(z) + u(z)*v(z)**2)"
      ]
     },
     "execution_count": 30,
     "metadata": {},
     "output_type": "execute_result"
    }
   ],
   "source": [
    "potential_scaled = Eq(p,potential.subs([(delta,1),(beta,1)]))\n",
    "potential_scaled"
   ]
  },
  {
   "cell_type": "code",
   "execution_count": 31,
   "id": "ee93d6fc-b883-4ecb-b04a-f254fc4643bd",
   "metadata": {},
   "outputs": [
    {
     "data": {
      "text/latex": [
       "$\\displaystyle 0$"
      ],
      "text/plain": [
       "0"
      ]
     },
     "execution_count": 31,
     "metadata": {},
     "output_type": "execute_result"
    }
   ],
   "source": [
    "diff(potential_scaled.rhs.expand(),z).subs([dv1_scaled.args, dv2_scaled.args]).expand()"
   ]
  },
  {
   "cell_type": "markdown",
   "id": "a6b840b0-b824-48a4-a484-bcb7625f2e61",
   "metadata": {},
   "source": [
    "### Weierstrass sigma function solutions"
   ]
  },
  {
   "cell_type": "markdown",
   "id": "86d1b9ca-05bf-483e-a8bd-57411f8cc77d",
   "metadata": {},
   "source": [
    "It is easily shown that the product $u(z)v(z)$ (plus a constant) solves the differential Weierstrass P function:"
   ]
  },
  {
   "cell_type": "code",
   "execution_count": 32,
   "id": "96cfe595-a3af-47f0-a6ab-2ec3e05ef8cc",
   "metadata": {},
   "outputs": [
    {
     "data": {
      "text/latex": [
       "$\\displaystyle \\left(- \\alpha u{\\left(z \\right)} v{\\left(z \\right)} + p\\right)^{2} = \\left(u^{2}{\\left(z \\right)} v{\\left(z \\right)} + u{\\left(z \\right)} v^{2}{\\left(z \\right)}\\right)^{2}$"
      ],
      "text/plain": [
       "Eq((-alpha*u(z)*v(z) + p)**2, (u(z)**2*v(z) + u(z)*v(z)**2)**2)"
      ]
     },
     "execution_count": 32,
     "metadata": {},
     "output_type": "execute_result"
    }
   ],
   "source": [
    "p_sqrd_terms = Eq((p - alpha*u(z)*v(z))**2,(potential_scaled.rhs.expand() - alpha*u(z)*v(z))**2)\n",
    "p_sqrd_terms"
   ]
  },
  {
   "cell_type": "code",
   "execution_count": 33,
   "id": "38315e4d-52ad-4efd-abde-bffdb5e2f164",
   "metadata": {},
   "outputs": [
    {
     "data": {
      "text/latex": [
       "$\\displaystyle \\left(\\frac{d}{d z} u{\\left(z \\right)} v{\\left(z \\right)}\\right)^{2} = \\alpha^{2} u^{2}{\\left(z \\right)} v^{2}{\\left(z \\right)} - 2 \\alpha u{\\left(z \\right)} v{\\left(z \\right)} p - 4 u^{3}{\\left(z \\right)} v^{3}{\\left(z \\right)} + p^{2}$"
      ],
      "text/plain": [
       "Eq(Derivative(u(z)*v(z), z)**2, alpha**2*u(z)**2*v(z)**2 - 2*alpha*u(z)*v(z)*p - 4*u(z)**3*v(z)**3 + p**2)"
      ]
     },
     "execution_count": 33,
     "metadata": {},
     "output_type": "execute_result"
    }
   ],
   "source": [
    "duv_sqrd = Eq(Derivative(u(z)*v(z),z)**2, ((diff(u(z)*v(z),z).subs(\n",
    "    [dv1_scaled.args, dv2_scaled.args]).expand())**2 - (p_sqrd_terms.rhs - p_sqrd_terms.lhs)).expand())\n",
    "duv_sqrd"
   ]
  },
  {
   "cell_type": "code",
   "execution_count": 34,
   "id": "c095bf68-b670-4cc7-8578-e03d0323b618",
   "metadata": {},
   "outputs": [
    {
     "data": {
      "text/latex": [
       "$\\displaystyle u{\\left(z \\right)} = \\frac{\\frac{\\alpha^{2}}{12} - f{\\left(z \\right)}}{v{\\left(z \\right)}}$"
      ],
      "text/plain": [
       "Eq(u(z), (alpha**2/12 - f(z))/v(z))"
      ]
     },
     "execution_count": 34,
     "metadata": {},
     "output_type": "execute_result"
    }
   ],
   "source": [
    "ufv_sub = Eq(u(z),(-f(z)+solve(duv_sqrd.subs(u(z),(-f(z)+c)/v(z)).rhs.expand().collect(f(z)).coeff(f(z)**2),c)[0])/v(z))\n",
    "ufv_sub"
   ]
  },
  {
   "cell_type": "code",
   "execution_count": 35,
   "id": "0c4c3350-41d2-4a58-bc63-8755708a810d",
   "metadata": {},
   "outputs": [
    {
     "data": {
      "text/latex": [
       "$\\displaystyle \\left(\\frac{d}{d z} f{\\left(z \\right)}\\right)^{2} = \\frac{\\alpha^{6}}{216} - \\frac{\\alpha^{3} p}{6} + \\left(- \\frac{\\alpha^{4}}{12} + 2 \\alpha p\\right) f{\\left(z \\right)} + 4 f^{3}{\\left(z \\right)} + p^{2}$"
      ],
      "text/plain": [
       "Eq(Derivative(f(z), z)**2, alpha**6/216 - alpha**3*p/6 + (-alpha**4/12 + 2*alpha*p)*f(z) + 4*f(z)**3 + p**2)"
      ]
     },
     "execution_count": 35,
     "metadata": {},
     "output_type": "execute_result"
    }
   ],
   "source": [
    "df_sqrd = duv_sqrd.subs(*ufv_sub.args).doit().expand()\n",
    "df_sqrd = Eq(df_sqrd.lhs, (df_sqrd.rhs).collect(f(z)))\n",
    "df_sqrd"
   ]
  },
  {
   "cell_type": "code",
   "execution_count": 36,
   "id": "bb5b6851-ff14-4198-9bc2-e09b9b2acafd",
   "metadata": {},
   "outputs": [
    {
     "data": {
      "text/latex": [
       "$\\displaystyle g_{2} = \\frac{\\alpha^{4}}{12} - 2 \\alpha p$"
      ],
      "text/plain": [
       "Eq(g2, alpha**4/12 - 2*alpha*p)"
      ]
     },
     "execution_count": 36,
     "metadata": {},
     "output_type": "execute_result"
    }
   ],
   "source": [
    "g2_eq = Eq(g2, -df_sqrd.rhs.coeff(f(z)))\n",
    "g2_eq"
   ]
  },
  {
   "cell_type": "code",
   "execution_count": 37,
   "id": "009c97b3-b72e-4a1d-b5cd-6b95022e9311",
   "metadata": {},
   "outputs": [
    {
     "data": {
      "text/latex": [
       "$\\displaystyle X = -1 + \\frac{24 p}{\\alpha^{3}}$"
      ],
      "text/plain": [
       "Eq(X, -1 + 24*p/alpha**3)"
      ]
     },
     "execution_count": 37,
     "metadata": {},
     "output_type": "execute_result"
    }
   ],
   "source": [
    "Eq(X,solve(p - (X+1)/24*alpha**3,X)[0])"
   ]
  },
  {
   "cell_type": "code",
   "execution_count": 38,
   "id": "bd22a41a-9efa-455e-bcb2-43f00aea13ca",
   "metadata": {},
   "outputs": [
    {
     "data": {
      "text/latex": [
       "$\\displaystyle g_{2} = - \\frac{X \\alpha^{4}}{12}$"
      ],
      "text/plain": [
       "Eq(g2, -X*alpha**4/12)"
      ]
     },
     "execution_count": 38,
     "metadata": {},
     "output_type": "execute_result"
    }
   ],
   "source": [
    "g2_eq.subs(p,(X+1)/24*alpha**3).expand()"
   ]
  },
  {
   "cell_type": "code",
   "execution_count": 39,
   "id": "039d0ecb-7db4-49c5-bb07-6eeadf3818db",
   "metadata": {},
   "outputs": [
    {
     "data": {
      "text/latex": [
       "$\\displaystyle g_{3} = - \\frac{\\alpha^{6}}{216} + \\frac{\\alpha^{3} p}{6} - p^{2}$"
      ],
      "text/plain": [
       "Eq(g3, -alpha**6/216 + alpha**3*p/6 - p**2)"
      ]
     },
     "execution_count": 39,
     "metadata": {},
     "output_type": "execute_result"
    }
   ],
   "source": [
    "g3_eq = Eq(g3, -df_sqrd.rhs.subs(f(z),0))\n",
    "g3_eq"
   ]
  },
  {
   "cell_type": "code",
   "execution_count": 40,
   "id": "df1d5755-7fa0-4c99-8969-6256d3c1b61f",
   "metadata": {},
   "outputs": [
    {
     "data": {
      "text/latex": [
       "$\\displaystyle - \\left(- \\alpha^{3} + 27 p\\right) p^{3}$"
      ],
      "text/plain": [
       "-(-alpha**3 + 27*p)*p**3"
      ]
     },
     "execution_count": 40,
     "metadata": {},
     "output_type": "execute_result"
    }
   ],
   "source": [
    "(g2_eq.rhs**3 - 27*g3_eq.rhs**2).expand().factor()"
   ]
  },
  {
   "cell_type": "code",
   "execution_count": 41,
   "id": "9c86bc28-9b11-4393-8cb8-728c780db0ac",
   "metadata": {},
   "outputs": [
    {
     "data": {
      "text/latex": [
       "$\\displaystyle g_{3} = \\frac{\\alpha^{6}}{1728} - \\frac{\\alpha^{2} g_{2}}{24} - \\frac{g_{2}^{2}}{4 \\alpha^{2}}$"
      ],
      "text/plain": [
       "Eq(g3, alpha**6/1728 - alpha**2*g2/24 - g2**2/(4*alpha**2))"
      ]
     },
     "execution_count": 41,
     "metadata": {},
     "output_type": "execute_result"
    }
   ],
   "source": [
    "g3_eq.subs(p,solve(g2_eq,p)[0]).expand()"
   ]
  },
  {
   "cell_type": "code",
   "execution_count": 42,
   "id": "989dd69f-9b93-4161-990f-2bad20e1bce2",
   "metadata": {},
   "outputs": [
    {
     "data": {
      "text/latex": [
       "$\\displaystyle g_{3} = - \\frac{X^{2} \\alpha^{6}}{576} + \\frac{X \\alpha^{6}}{288} + \\frac{\\alpha^{6}}{1728}$"
      ],
      "text/plain": [
       "Eq(g3, -X**2*alpha**6/576 + X*alpha**6/288 + alpha**6/1728)"
      ]
     },
     "execution_count": 42,
     "metadata": {},
     "output_type": "execute_result"
    }
   ],
   "source": [
    "g3_eq.subs(p,solve(g2_eq,p)[0]).expand().subs(g2,-X*alpha**4/12)"
   ]
  },
  {
   "cell_type": "code",
   "execution_count": 43,
   "id": "c9eafc23-4111-46a5-a1b3-3d00191e9cc7",
   "metadata": {},
   "outputs": [
    {
     "data": {
      "text/latex": [
       "$\\displaystyle j = \\frac{1728 g_{2}^{3}}{g_{2}^{3} - 27 g_{3}^{2}}$"
      ],
      "text/plain": [
       "Eq(j, 1728*g2**3/(g2**3 - 27*g3**2))"
      ]
     },
     "execution_count": 43,
     "metadata": {},
     "output_type": "execute_result"
    }
   ],
   "source": [
    "jinv = Eq(j,1728*g2**3/(g2**3 - 27*g3**2))\n",
    "jinv"
   ]
  },
  {
   "cell_type": "code",
   "execution_count": 44,
   "id": "e67a669f-1426-4b90-b219-d6e5af962f70",
   "metadata": {},
   "outputs": [
    {
     "data": {
      "text/latex": [
       "$\\displaystyle j = \\frac{110592 X^{3}}{9 X^{4} + 28 X^{3} + 30 X^{2} + 12 X + 1}$"
      ],
      "text/plain": [
       "Eq(j, 110592*X**3/(9*X**4 + 28*X**3 + 30*X**2 + 12*X + 1))"
      ]
     },
     "execution_count": 44,
     "metadata": {},
     "output_type": "execute_result"
    }
   ],
   "source": [
    "jinv_as_X = jinv.subs([g2_eq.args, g3_eq.args]).subs(p,(X+1)/24*alpha**3).expand().simplify()\n",
    "jinv_as_X"
   ]
  },
  {
   "cell_type": "code",
   "execution_count": 45,
   "id": "84546009-4e60-4769-bc21-5ad633cc0872",
   "metadata": {},
   "outputs": [
    {
     "data": {
      "text/latex": [
       "$\\displaystyle j = \\frac{110592 X^{3}}{\\left(X + 1\\right)^{3} \\cdot \\left(9 X + 1\\right)}$"
      ],
      "text/plain": [
       "Eq(j, 110592*X**3/((X + 1)**3*(9*X + 1)))"
      ]
     },
     "execution_count": 45,
     "metadata": {},
     "output_type": "execute_result"
    }
   ],
   "source": [
    "Eq(j, jinv_as_X.subs(X,Y-1).expand().simplify().rhs.factor().subs(Y,X+1))"
   ]
  },
  {
   "cell_type": "code",
   "execution_count": 46,
   "id": "4a1a817e-ce05-4042-bdc5-38d3e5d85397",
   "metadata": {},
   "outputs": [
    {
     "data": {
      "text/latex": [
       "$\\displaystyle \\left(\\frac{d}{d z} f{\\left(z \\right)}\\right)^{2} = - g_{2} f{\\left(z \\right)} - g_{3} + 4 f^{3}{\\left(z \\right)}$"
      ],
      "text/plain": [
       "Eq(Derivative(f(z), z)**2, -g2*f(z) - g3 + 4*f(z)**3)"
      ]
     },
     "execution_count": 46,
     "metadata": {},
     "output_type": "execute_result"
    }
   ],
   "source": [
    "df_sqrd_wp = df_sqrd.subs([(g2_eq.rhs,g2_eq.lhs), (g3_eq.rhs,g3_eq.lhs)])\n",
    "df_sqrd_wp"
   ]
  },
  {
   "cell_type": "code",
   "execution_count": 47,
   "id": "486a7be9-28ec-4407-95ef-95aa8490898b",
   "metadata": {},
   "outputs": [
    {
     "data": {
      "text/latex": [
       "$\\displaystyle f{\\left(z \\right)} = \\operatorname{pw}{\\left(z - z_{0},g_{2},g_{3} \\right)}$"
      ],
      "text/plain": [
       "Eq(f(z), pw(z - z0, g2, g3))"
      ]
     },
     "execution_count": 47,
     "metadata": {},
     "output_type": "execute_result"
    }
   ],
   "source": [
    "fpw = Eq(f(z),pw(z-z0,g2,g3))\n",
    "fpw"
   ]
  },
  {
   "cell_type": "code",
   "execution_count": 48,
   "id": "aa64821c-5d3f-43f0-a208-db72bb31338b",
   "metadata": {},
   "outputs": [
    {
     "data": {
      "text/latex": [
       "$\\displaystyle u{\\left(z \\right)} v{\\left(z \\right)} = \\frac{\\alpha^{2}}{12} - f{\\left(z \\right)}$"
      ],
      "text/plain": [
       "Eq(u(z)*v(z), alpha**2/12 - f(z))"
      ]
     },
     "execution_count": 48,
     "metadata": {},
     "output_type": "execute_result"
    }
   ],
   "source": [
    "uv_as_f = Eq(u(z)*v(z),(-f(z)+alpha**2/12))\n",
    "uv_as_f"
   ]
  },
  {
   "cell_type": "code",
   "execution_count": 49,
   "id": "86d02ed8-d183-435c-80a3-217d857344df",
   "metadata": {},
   "outputs": [
    {
     "data": {
      "text/latex": [
       "$\\displaystyle \\operatorname{pw}{\\left(z_{0},g_{2},g_{3} \\right)} = \\frac{\\alpha^{2}}{12} - u{\\left(0 \\right)} v{\\left(0 \\right)}$"
      ],
      "text/plain": [
       "Eq(pw(z0, g2, g3), alpha**2/12 - u(0)*v(0))"
      ]
     },
     "execution_count": 49,
     "metadata": {},
     "output_type": "execute_result"
    }
   ],
   "source": [
    "u0_v0_pw_z0 = uv_as_f.subs(*fpw.args).subs(z,0).subs(pw(-z0,g2,g3),pw(z0,g2,g3))\n",
    "pw_z0_u0_v0 = Eq(pw(z0,g2,g3), solve(u0_v0_pw_z0.lhs - u0_v0_pw_z0.rhs, pw(z0,g2,g3))[0])\n",
    "pw_z0_u0_v0"
   ]
  },
  {
   "cell_type": "code",
   "execution_count": 50,
   "id": "fb967300-e1c8-45e8-86be-5166bec3ad1b",
   "metadata": {},
   "outputs": [
    {
     "data": {
      "text/latex": [
       "$\\displaystyle \\operatorname{pwp}{\\left(z_{0},g_{2},g_{3} \\right)} = u^{2}{\\left(0 \\right)} v{\\left(0 \\right)} - u{\\left(0 \\right)} v^{2}{\\left(0 \\right)}$"
      ],
      "text/plain": [
       "Eq(pwp(z0, g2, g3), u(0)**2*v(0) - u(0)*v(0)**2)"
      ]
     },
     "execution_count": 50,
     "metadata": {},
     "output_type": "execute_result"
    }
   ],
   "source": [
    "pwp_z0_u0_v0 = Eq(\n",
    "    -pwp(z-z0,g2,g3),\n",
    "    diff(uv_as_f.subs(*fpw.args).lhs,z)\n",
    ").subs([dv1_scaled.args, dv2_scaled.args]).expand().subs(z,0).subs(pwp(-z0,g2,g3),-pwp(z0,g2,g3))\n",
    "pwp_z0_u0_v0"
   ]
  },
  {
   "cell_type": "code",
   "execution_count": 51,
   "id": "7cc875de-76b9-49a4-8f3e-b7a2fcbef2b7",
   "metadata": {},
   "outputs": [
    {
     "data": {
      "text/latex": [
       "$\\displaystyle \\frac{\\frac{d}{d z} u{\\left(z \\right)}}{u{\\left(z \\right)}} = \\frac{\\frac{d}{d z} \\log{\\left(u{\\left(z \\right)} v{\\left(z \\right)} \\right)}}{2} - \\frac{\\frac{d}{d z} v{\\left(z \\right)}}{2 v{\\left(z \\right)}} + \\frac{\\frac{d}{d z} u{\\left(z \\right)}}{2 u{\\left(z \\right)}}$"
      ],
      "text/plain": [
       "Eq(Derivative(u(z), z)/u(z), Derivative(log(u(z)*v(z)), z)/2 - Derivative(v(z), z)/(2*v(z)) + Derivative(u(z), z)/(2*u(z)))"
      ]
     },
     "execution_count": 51,
     "metadata": {},
     "output_type": "execute_result"
    }
   ],
   "source": [
    "dln_u_as_du_dv = Eq(diff(ln(u(z)),z), Derivative(ln(u(z)*v(z)),z)/2 + diff(ln(u(z)/v(z)),z).expand()/2)\n",
    "dln_u_as_du_dv"
   ]
  },
  {
   "cell_type": "code",
   "execution_count": 52,
   "id": "2a8ea5bf-9e1f-4e2b-83a6-47b6e898e4cf",
   "metadata": {},
   "outputs": [
    {
     "data": {
      "text/latex": [
       "$\\displaystyle - \\frac{\\frac{d}{d z} v{\\left(z \\right)}}{2 v{\\left(z \\right)}} + \\frac{\\frac{d}{d z} u{\\left(z \\right)}}{2 u{\\left(z \\right)}} = - \\alpha - \\frac{3 u{\\left(z \\right)}}{2} - \\frac{3 v{\\left(z \\right)}}{2}$"
      ],
      "text/plain": [
       "Eq(-Derivative(v(z), z)/(2*v(z)) + Derivative(u(z), z)/(2*u(z)), -alpha - 3*u(z)/2 - 3*v(z)/2)"
      ]
     },
     "execution_count": 52,
     "metadata": {},
     "output_type": "execute_result"
    }
   ],
   "source": [
    "dln_u_over_v = Eq(diff(ln(u(z)/v(z)),z).expand()/2, diff(ln(u(z)/v(z)),z).expand().subs([dv1_scaled.args, dv2_scaled.args])/2)\n",
    "dln_u_over_v"
   ]
  },
  {
   "cell_type": "code",
   "execution_count": 53,
   "id": "eae4a9fc-a2f5-45a4-9998-8db076f4db41",
   "metadata": {},
   "outputs": [
    {
     "data": {
      "text/latex": [
       "$\\displaystyle \\frac{3 p}{2 u{\\left(z \\right)} v{\\left(z \\right)}} = \\frac{3 \\alpha}{2} + \\frac{3 u{\\left(z \\right)}}{2} + \\frac{3 v{\\left(z \\right)}}{2}$"
      ],
      "text/plain": [
       "Eq(3*p/(2*u(z)*v(z)), 3*alpha/2 + 3*u(z)/2 + 3*v(z)/2)"
      ]
     },
     "execution_count": 53,
     "metadata": {},
     "output_type": "execute_result"
    }
   ],
   "source": [
    "p_over_uv = Eq(3*p/u(z)/v(z)/2, 3*(potential_scaled.rhs/u(z)/v(z)).expand()/2)\n",
    "p_over_uv"
   ]
  },
  {
   "cell_type": "code",
   "execution_count": 54,
   "id": "b0c8c8de-713c-4c2d-aad6-e9881e0713ba",
   "metadata": {},
   "outputs": [
    {
     "data": {
      "text/latex": [
       "$\\displaystyle - \\frac{\\frac{d}{d z} v{\\left(z \\right)}}{2 v{\\left(z \\right)}} + \\frac{\\frac{d}{d z} u{\\left(z \\right)}}{2 u{\\left(z \\right)}} = \\frac{\\alpha}{2} - \\frac{3 p}{2 u{\\left(z \\right)} v{\\left(z \\right)}}$"
      ],
      "text/plain": [
       "Eq(-Derivative(v(z), z)/(2*v(z)) + Derivative(u(z), z)/(2*u(z)), alpha/2 - 3*p/(2*u(z)*v(z)))"
      ]
     },
     "execution_count": 54,
     "metadata": {},
     "output_type": "execute_result"
    }
   ],
   "source": [
    "dln_u_over_v_with_p = Eq(dln_u_over_v.lhs, dln_u_over_v.rhs - p_over_uv.lhs + p_over_uv.rhs)\n",
    "dln_u_over_v_with_p"
   ]
  },
  {
   "cell_type": "code",
   "execution_count": 55,
   "id": "7b1cf7d7-10f9-4896-921b-8ffe9a72df33",
   "metadata": {},
   "outputs": [
    {
     "data": {
      "text/latex": [
       "$\\displaystyle \\frac{\\frac{d}{d z} u{\\left(z \\right)}}{u{\\left(z \\right)}} = \\frac{\\alpha}{2} - \\frac{3 p}{\\frac{\\alpha^{2}}{6} - 2 f{\\left(z \\right)}} - \\frac{\\frac{d}{d z} f{\\left(z \\right)}}{2 \\left(\\frac{\\alpha^{2}}{12} - f{\\left(z \\right)}\\right)}$"
      ],
      "text/plain": [
       "Eq(Derivative(u(z), z)/u(z), alpha/2 - 3*p/(alpha**2/6 - 2*f(z)) - Derivative(f(z), z)/(2*(alpha**2/12 - f(z))))"
      ]
     },
     "execution_count": 55,
     "metadata": {},
     "output_type": "execute_result"
    }
   ],
   "source": [
    "dln_u_f = dln_u_as_du_dv.subs(*dln_u_over_v_with_p.args).subs(*uv_as_f.args).doit()\n",
    "dln_u_f"
   ]
  },
  {
   "cell_type": "code",
   "execution_count": 56,
   "id": "743b3c53-ceea-468d-836f-5db65f0d665f",
   "metadata": {},
   "outputs": [
    {
     "data": {
      "text/latex": [
       "$\\displaystyle \\operatorname{pw}{\\left({\\xi}_{0},g_{2},g_{3} \\right)} = \\frac{\\alpha^{2}}{12}$"
      ],
      "text/plain": [
       "Eq(pw(xi[0], g2, g3), alpha**2/12)"
      ]
     },
     "execution_count": 56,
     "metadata": {},
     "output_type": "execute_result"
    }
   ],
   "source": [
    "pw_alpha = Eq(pw(xi[0],g2,g3),alpha**2/12)\n",
    "pw_alpha"
   ]
  },
  {
   "cell_type": "code",
   "execution_count": 57,
   "id": "71a5ee21-a841-4b66-9a4e-cbed7a84e5ee",
   "metadata": {},
   "outputs": [
    {
     "data": {
      "text/latex": [
       "$\\displaystyle \\operatorname{pwp}^{2}{\\left({\\xi}_{0},g_{2},g_{3} \\right)} = p^{2}$"
      ],
      "text/plain": [
       "Eq(pwp(xi[0], g2, g3)**2, p**2)"
      ]
     },
     "execution_count": 57,
     "metadata": {},
     "output_type": "execute_result"
    }
   ],
   "source": [
    "Eq(pwp(xi[0],g2,g3)**2, df_sqrd.rhs.subs(f(z),alpha**2/12)).expand()"
   ]
  },
  {
   "cell_type": "code",
   "execution_count": 58,
   "id": "a4126604-c140-4781-9731-29befaab747a",
   "metadata": {},
   "outputs": [
    {
     "data": {
      "text/latex": [
       "$\\displaystyle \\operatorname{pwp}{\\left({\\xi}_{0},g_{2},g_{3} \\right)} = p$"
      ],
      "text/plain": [
       "Eq(pwp(xi[0], g2, g3), p)"
      ]
     },
     "execution_count": 58,
     "metadata": {},
     "output_type": "execute_result"
    }
   ],
   "source": [
    "pwp_xi0 = Eq(pwp(xi[0],g2,g3), p)\n",
    "pwp_xi0"
   ]
  },
  {
   "cell_type": "code",
   "execution_count": 59,
   "id": "b6440805-80c7-44cc-a3c7-d4360584bf6e",
   "metadata": {},
   "outputs": [
    {
     "data": {
      "text/latex": [
       "$\\displaystyle \\frac{\\frac{d}{d z} u{\\left(z \\right)}}{u{\\left(z \\right)}} = \\frac{\\alpha}{2} - \\frac{\\operatorname{pwp}{\\left(z - z_{0},g_{2},g_{3} \\right)}}{2 \\left(- \\operatorname{pw}{\\left(z - z_{0},g_{2},g_{3} \\right)} + \\operatorname{pw}{\\left({\\xi}_{0},g_{2},g_{3} \\right)}\\right)} - \\frac{3 \\operatorname{pwp}{\\left({\\xi}_{0},g_{2},g_{3} \\right)}}{- 2 \\operatorname{pw}{\\left(z - z_{0},g_{2},g_{3} \\right)} + 2 \\operatorname{pw}{\\left({\\xi}_{0},g_{2},g_{3} \\right)}}$"
      ],
      "text/plain": [
       "Eq(Derivative(u(z), z)/u(z), alpha/2 - pwp(z - z0, g2, g3)/(2*(-pw(z - z0, g2, g3) + pw(xi[0], g2, g3))) - 3*pwp(xi[0], g2, g3)/(-2*pw(z - z0, g2, g3) + 2*pw(xi[0], g2, g3)))"
      ]
     },
     "execution_count": 59,
     "metadata": {},
     "output_type": "execute_result"
    }
   ],
   "source": [
    "dln_u_pw_pwp = dln_u_f.subs([\n",
    "    fpw.args, (pw_alpha.rhs*12, pw_alpha.lhs*12),(pwp_xi0.rhs, pwp_xi0.lhs)]).subs(Derivative(pw(z-z0,g2,g3),z),pwp(z-z0,g2,g3))\n",
    "dln_u_pw_pwp"
   ]
  },
  {
   "cell_type": "code",
   "execution_count": 60,
   "id": "c33e65c9-99f8-498e-a39f-3b94574b38a2",
   "metadata": {},
   "outputs": [
    {
     "data": {
      "text/latex": [
       "$\\displaystyle \\frac{\\operatorname{pwp}{\\left(z - z_{0},g_{2},g_{3} \\right)}}{2 \\operatorname{pw}{\\left(z - z_{0},g_{2},g_{3} \\right)} - 2 \\operatorname{pw}{\\left({\\xi}_{0},g_{2},g_{3} \\right)}} + \\frac{3 \\operatorname{pwp}{\\left({\\xi}_{0},g_{2},g_{3} \\right)}}{2 \\operatorname{pw}{\\left(z - z_{0},g_{2},g_{3} \\right)} - 2 \\operatorname{pw}{\\left({\\xi}_{0},g_{2},g_{3} \\right)}} = - \\operatorname{zw}{\\left(z - z_{0},g_{2},g_{3} \\right)} + 2 \\operatorname{zw}{\\left(z - z_{0} - {\\xi}_{0},g_{2},g_{3} \\right)} - \\operatorname{zw}{\\left(z - z_{0} + {\\xi}_{0},g_{2},g_{3} \\right)} + 3 \\operatorname{zw}{\\left({\\xi}_{0},g_{2},g_{3} \\right)}$"
      ],
      "text/plain": [
       "Eq(pwp(z - z0, g2, g3)/(2*pw(z - z0, g2, g3) - 2*pw(xi[0], g2, g3)) + 3*pwp(xi[0], g2, g3)/(2*pw(z - z0, g2, g3) - 2*pw(xi[0], g2, g3)), -zw(z - z0, g2, g3) + 2*zw(z - z0 - xi[0], g2, g3) - zw(z - z0 + xi[0], g2, g3) + 3*zw(xi[0], g2, g3))"
      ]
     },
     "execution_count": 60,
     "metadata": {},
     "output_type": "execute_result"
    }
   ],
   "source": [
    "pw_pwp_zw_Z_xi0 = Eq(\n",
    "    (2*pw_to_zw_identity.subs([(x,z-z0),(y,-xi[0])]).lhs - \n",
    "     pw_to_zw_identity.subs([(x,z-z0),(y,xi[0])]).lhs).expand().subs([\n",
    "        (pwp(-xi[0],g2,g3),-pwp(xi[0],g2,g3)), (pw(-xi[0],g2,g3),pw(xi[0],g2,g3))\n",
    "    ]).simplify().expand(),\n",
    "    (2*pw_to_zw_identity.subs([(x,z-z0),(y,-xi[0])]).rhs - \n",
    "     pw_to_zw_identity.subs([(x,z-z0),(y,xi[0])]).rhs).expand().subs([\n",
    "        (zw(-xi[0],g2,g3),-zw(xi[0],g2,g3))\n",
    "    ]).simplify().expand()\n",
    ")\n",
    "pw_pwp_zw_Z_xi0"
   ]
  },
  {
   "cell_type": "code",
   "execution_count": 61,
   "id": "34225eff-cdfc-4f05-bd21-2d58cc8cb82d",
   "metadata": {},
   "outputs": [
    {
     "data": {
      "text/latex": [
       "$\\displaystyle \\frac{\\frac{d}{d z} u{\\left(z \\right)}}{u{\\left(z \\right)}} = \\frac{\\alpha}{2} - \\operatorname{zw}{\\left(z - z_{0},g_{2},g_{3} \\right)} + 2 \\operatorname{zw}{\\left(z - z_{0} - {\\xi}_{0},g_{2},g_{3} \\right)} - \\operatorname{zw}{\\left(z - z_{0} + {\\xi}_{0},g_{2},g_{3} \\right)} + 3 \\operatorname{zw}{\\left({\\xi}_{0},g_{2},g_{3} \\right)}$"
      ],
      "text/plain": [
       "Eq(Derivative(u(z), z)/u(z), alpha/2 - zw(z - z0, g2, g3) + 2*zw(z - z0 - xi[0], g2, g3) - zw(z - z0 + xi[0], g2, g3) + 3*zw(xi[0], g2, g3))"
      ]
     },
     "execution_count": 61,
     "metadata": {},
     "output_type": "execute_result"
    }
   ],
   "source": [
    "dlnu_zw_xi0 = Eq(dln_u_pw_pwp.lhs, dln_u_pw_pwp.rhs - pw_pwp_zw_Z_xi0.lhs + pw_pwp_zw_Z_xi0.rhs).simplify()\n",
    "dlnu_zw_xi0"
   ]
  },
  {
   "cell_type": "code",
   "execution_count": 62,
   "id": "462c390e-cb29-4dc9-8070-7cbd49e582d8",
   "metadata": {},
   "outputs": [
    {
     "data": {
      "text/latex": [
       "$\\displaystyle \\log{\\left(u{\\left(z \\right)} \\right)} = z \\left(\\frac{\\alpha}{2} + 3 \\operatorname{zw}{\\left({\\xi}_{0},g_{2},g_{3} \\right)}\\right) - \\log{\\left(\\sigma{\\left(z - z_{0},g_{2},g_{3} \\right)} \\right)} + 2 \\log{\\left(\\sigma{\\left(z - z_{0} - {\\xi}_{0},g_{2},g_{3} \\right)} \\right)} - \\log{\\left(\\sigma{\\left(z - z_{0} + {\\xi}_{0},g_{2},g_{3} \\right)} \\right)} + c$"
      ],
      "text/plain": [
       "Eq(log(u(z)), z*(alpha/2 + 3*zw(xi[0], g2, g3)) - log(sigma(z - z0, g2, g3)) + 2*log(sigma(z - z0 - xi[0], g2, g3)) - log(sigma(z - z0 + xi[0], g2, g3)) + c)"
      ]
     },
     "execution_count": 62,
     "metadata": {},
     "output_type": "execute_result"
    }
   ],
   "source": [
    "lnu_sigma = Eq(ln(u(z)), \n",
    "   (alpha/2+3*zw(xi[0],g2,g3))*z - ln(sigma(z-z0,g2,g3)) + 2*ln(sigma(z-z0-xi[0],g2,g3)) - ln(sigma(z-z0+xi[0],g2,g3)) +c)\n",
    "lnu_sigma"
   ]
  },
  {
   "cell_type": "code",
   "execution_count": 63,
   "id": "54aecaae-cde1-401a-941d-c99af7a9b041",
   "metadata": {},
   "outputs": [
    {
     "data": {
      "text/latex": [
       "$\\displaystyle u{\\left(z \\right)} = \\frac{\\sigma^{2}{\\left(z - z_{0} - {\\xi}_{0},g_{2},g_{3} \\right)} e^{z \\left(\\frac{\\alpha}{2} + 3 \\operatorname{zw}{\\left({\\xi}_{0},g_{2},g_{3} \\right)}\\right) + c}}{\\sigma{\\left(z - z_{0},g_{2},g_{3} \\right)} \\sigma{\\left(z - z_{0} + {\\xi}_{0},g_{2},g_{3} \\right)}}$"
      ],
      "text/plain": [
       "Eq(u(z), sigma(z - z0 - xi[0], g2, g3)**2*exp(z*(alpha/2 + 3*zw(xi[0], g2, g3)) + c)/(sigma(z - z0, g2, g3)*sigma(z - z0 + xi[0], g2, g3)))"
      ]
     },
     "execution_count": 63,
     "metadata": {},
     "output_type": "execute_result"
    }
   ],
   "source": [
    "u_as_sigma = Eq(u(z), exp((alpha/2+3*zw(xi[0],g2,g3))*z + c)*sigma(z-z0-xi[0],g2,g3)**2/sigma(z-z0,g2,g3)/sigma(z-z0+xi[0],g2,g3))\n",
    "u_as_sigma"
   ]
  },
  {
   "cell_type": "code",
   "execution_count": 64,
   "id": "127e39e6-b5ba-40d2-91c1-7bbdabe913e0",
   "metadata": {},
   "outputs": [
    {
     "data": {
      "text/latex": [
       "$\\displaystyle u{\\left(z \\right)} v{\\left(z \\right)} = - \\operatorname{pw}{\\left(z - z_{0},g_{2},g_{3} \\right)} + \\operatorname{pw}{\\left({\\xi}_{0},g_{2},g_{3} \\right)}$"
      ],
      "text/plain": [
       "Eq(u(z)*v(z), -pw(z - z0, g2, g3) + pw(xi[0], g2, g3))"
      ]
     },
     "execution_count": 64,
     "metadata": {},
     "output_type": "execute_result"
    }
   ],
   "source": [
    "uv_as_pw = uv_as_f.subs([(pw_alpha.rhs, pw_alpha.lhs), fpw.args])\n",
    "uv_as_pw"
   ]
  },
  {
   "cell_type": "code",
   "execution_count": 65,
   "id": "c0facf73-1990-4486-9197-3e470d6ee8b6",
   "metadata": {},
   "outputs": [
    {
     "data": {
      "text/latex": [
       "$\\displaystyle - \\operatorname{pw}{\\left(x,g_{2},g_{3} \\right)} + \\operatorname{pw}{\\left(y,g_{2},g_{3} \\right)} = \\frac{\\sigma{\\left(x - y,g_{2},g_{3} \\right)} \\sigma{\\left(x + y,g_{2},g_{3} \\right)}}{\\sigma^{2}{\\left(x,g_{2},g_{3} \\right)} \\sigma^{2}{\\left(y,g_{2},g_{3} \\right)}}$"
      ],
      "text/plain": [
       "Eq(-pw(x, g2, g3) + pw(y, g2, g3), sigma(x - y, g2, g3)*sigma(x + y, g2, g3)/(sigma(x, g2, g3)**2*sigma(y, g2, g3)**2))"
      ]
     },
     "execution_count": 65,
     "metadata": {},
     "output_type": "execute_result"
    }
   ],
   "source": [
    "sigma_p_identity = Eq(\n",
    "    pw(y, g2, g3) - pw(x, g2, g3),\n",
    "    sigma(x + y, g2, g3) * sigma(x - y, g2, g3) / (sigma(x, g2, g3) ** 2 * sigma(y, g2, g3) ** 2) \n",
    ")\n",
    "sigma_p_identity"
   ]
  },
  {
   "cell_type": "code",
   "execution_count": 66,
   "id": "80dda3c1-9669-410f-a7b1-e688e28a525e",
   "metadata": {},
   "outputs": [
    {
     "data": {
      "text/latex": [
       "$\\displaystyle u{\\left(z \\right)} v{\\left(z \\right)} = \\frac{\\sigma{\\left(z - z_{0} - {\\xi}_{0},g_{2},g_{3} \\right)} \\sigma{\\left(z - z_{0} + {\\xi}_{0},g_{2},g_{3} \\right)}}{\\sigma^{2}{\\left(z - z_{0},g_{2},g_{3} \\right)} \\sigma^{2}{\\left({\\xi}_{0},g_{2},g_{3} \\right)}}$"
      ],
      "text/plain": [
       "Eq(u(z)*v(z), sigma(z - z0 - xi[0], g2, g3)*sigma(z - z0 + xi[0], g2, g3)/(sigma(z - z0, g2, g3)**2*sigma(xi[0], g2, g3)**2))"
      ]
     },
     "execution_count": 66,
     "metadata": {},
     "output_type": "execute_result"
    }
   ],
   "source": [
    "uv_as_sigma = uv_as_pw.subs(*sigma_p_identity.subs([(y,xi[0]),(x,z-z0)]).args)\n",
    "uv_as_sigma"
   ]
  },
  {
   "cell_type": "code",
   "execution_count": 67,
   "id": "dc1d4597-51d4-4c69-bf15-8da65bb84c3d",
   "metadata": {},
   "outputs": [
    {
     "data": {
      "text/latex": [
       "$\\displaystyle v{\\left(z \\right)} = \\frac{\\sigma^{2}{\\left(z - z_{0} + {\\xi}_{0},g_{2},g_{3} \\right)} e^{- \\frac{\\alpha z}{2} - 3 z \\operatorname{zw}{\\left({\\xi}_{0},g_{2},g_{3} \\right)} - c}}{\\sigma{\\left(z - z_{0},g_{2},g_{3} \\right)} \\sigma{\\left(z - z_{0} - {\\xi}_{0},g_{2},g_{3} \\right)} \\sigma^{2}{\\left({\\xi}_{0},g_{2},g_{3} \\right)}}$"
      ],
      "text/plain": [
       "Eq(v(z), sigma(z - z0 + xi[0], g2, g3)**2*exp(-alpha*z/2 - 3*z*zw(xi[0], g2, g3) - c)/(sigma(z - z0, g2, g3)*sigma(z - z0 - xi[0], g2, g3)*sigma(xi[0], g2, g3)**2))"
      ]
     },
     "execution_count": 67,
     "metadata": {},
     "output_type": "execute_result"
    }
   ],
   "source": [
    "v_as_sigma = Eq(v(z),solve(uv_as_sigma.subs(*u_as_sigma.args),v(z))[0])\n",
    "v_as_sigma"
   ]
  },
  {
   "cell_type": "code",
   "execution_count": 68,
   "id": "35ca1658-a2d5-4e26-b9bc-26c4f68dc830",
   "metadata": {},
   "outputs": [
    {
     "data": {
      "text/latex": [
       "$\\displaystyle u{\\left(z \\right)} = \\frac{\\sigma{\\left(- z_{0},g_{2},g_{3} \\right)} \\sigma{\\left(- z_{0} + {\\xi}_{0},g_{2},g_{3} \\right)} \\sigma^{2}{\\left(z - z_{0} - {\\xi}_{0},g_{2},g_{3} \\right)} u{\\left(0 \\right)} e^{\\frac{z \\left(\\alpha + 6 \\operatorname{zw}{\\left({\\xi}_{0},g_{2},g_{3} \\right)}\\right)}{2}}}{\\sigma{\\left(z - z_{0},g_{2},g_{3} \\right)} \\sigma^{2}{\\left(- z_{0} - {\\xi}_{0},g_{2},g_{3} \\right)} \\sigma{\\left(z - z_{0} + {\\xi}_{0},g_{2},g_{3} \\right)}}$"
      ],
      "text/plain": [
       "Eq(u(z), sigma(-z0, g2, g3)*sigma(-z0 + xi[0], g2, g3)*sigma(z - z0 - xi[0], g2, g3)**2*u(0)*exp(z*(alpha + 6*zw(xi[0], g2, g3))/2)/(sigma(z - z0, g2, g3)*sigma(-z0 - xi[0], g2, g3)**2*sigma(z - z0 + xi[0], g2, g3)))"
      ]
     },
     "execution_count": 68,
     "metadata": {},
     "output_type": "execute_result"
    },
    {
     "data": {
      "text/latex": [
       "$\\displaystyle v{\\left(z \\right)} = \\frac{\\sigma{\\left(- z_{0},g_{2},g_{3} \\right)} \\sigma{\\left(- z_{0} - {\\xi}_{0},g_{2},g_{3} \\right)} \\sigma^{2}{\\left(z - z_{0} + {\\xi}_{0},g_{2},g_{3} \\right)} v{\\left(0 \\right)} e^{- \\frac{z \\left(\\alpha + 6 \\operatorname{zw}{\\left({\\xi}_{0},g_{2},g_{3} \\right)}\\right)}{2}}}{\\sigma{\\left(z - z_{0},g_{2},g_{3} \\right)} \\sigma^{2}{\\left(- z_{0} + {\\xi}_{0},g_{2},g_{3} \\right)} \\sigma{\\left(z - z_{0} - {\\xi}_{0},g_{2},g_{3} \\right)}}$"
      ],
      "text/plain": [
       "Eq(v(z), sigma(-z0, g2, g3)*sigma(-z0 - xi[0], g2, g3)*sigma(z - z0 + xi[0], g2, g3)**2*v(0)*exp(-z*(alpha + 6*zw(xi[0], g2, g3))/2)/(sigma(z - z0, g2, g3)*sigma(-z0 + xi[0], g2, g3)**2*sigma(z - z0 - xi[0], g2, g3)))"
      ]
     },
     "execution_count": 68,
     "metadata": {},
     "output_type": "execute_result"
    }
   ],
   "source": [
    "u_as_sigma_u0 = u_as_sigma.expand().subs(exp(c), solve(u_as_sigma.subs(z,0),exp(c))[0]).simplify()\n",
    "v_as_sigma_v0 = v_as_sigma.expand().subs(exp(c), solve(v_as_sigma.subs(z,0),exp(c))[0]).simplify()\n",
    "u_as_sigma_u0\n",
    "v_as_sigma_v0"
   ]
  },
  {
   "cell_type": "markdown",
   "id": "5182343e-aa74-4d91-a7ee-21c3c39eb14f",
   "metadata": {},
   "source": [
    "### Weierstrass zeta function solutions\n",
    "The solutions can also be expressed in terms of Weierstrass zeta functions."
   ]
  },
  {
   "cell_type": "code",
   "execution_count": 69,
   "id": "0a638d8b-f1ed-4d4a-ae97-741e17b0ed82",
   "metadata": {},
   "outputs": [
    {
     "data": {
      "text/latex": [
       "$\\displaystyle \\frac{\\frac{d}{d z} v{\\left(z \\right)}}{v{\\left(z \\right)}} = - \\frac{\\alpha}{2} - \\operatorname{zw}{\\left(z - z_{0},g_{2},g_{3} \\right)} - \\operatorname{zw}{\\left(z - z_{0} - {\\xi}_{0},g_{2},g_{3} \\right)} + 2 \\operatorname{zw}{\\left(z - z_{0} + {\\xi}_{0},g_{2},g_{3} \\right)} - 3 \\operatorname{zw}{\\left({\\xi}_{0},g_{2},g_{3} \\right)}$"
      ],
      "text/plain": [
       "Eq(Derivative(v(z), z)/v(z), -alpha/2 - zw(z - z0, g2, g3) - zw(z - z0 - xi[0], g2, g3) + 2*zw(z - z0 + xi[0], g2, g3) - 3*zw(xi[0], g2, g3))"
      ]
     },
     "execution_count": 69,
     "metadata": {},
     "output_type": "execute_result"
    }
   ],
   "source": [
    "dlnv_zw_xi0 = Eq(diff(ln(v_as_sigma.lhs),z),diff(ln(v_as_sigma.rhs),z)).expand()\n",
    "dlnv_zw_xi0 = dlnv_zw_xi0.subs([sigma_zeta_eq.subs(z,z-z0-xi[0]).args, sigma_zeta_eq.subs(z,z-z0+xi[0]).args, sigma_zeta_eq.subs(z,z-z0).args])\n",
    "dlnv_zw_xi0"
   ]
  },
  {
   "cell_type": "code",
   "execution_count": 70,
   "id": "09c0b131-6ecf-404a-9335-863cf3a022d1",
   "metadata": {},
   "outputs": [
    {
     "data": {
      "text/latex": [
       "$\\displaystyle \\alpha + 2 u{\\left(z \\right)} + v{\\left(z \\right)} = - \\frac{\\alpha}{2} - \\operatorname{zw}{\\left(z - z_{0},g_{2},g_{3} \\right)} - \\operatorname{zw}{\\left(z - z_{0} - {\\xi}_{0},g_{2},g_{3} \\right)} + 2 \\operatorname{zw}{\\left(z - z_{0} + {\\xi}_{0},g_{2},g_{3} \\right)} - 3 \\operatorname{zw}{\\left({\\xi}_{0},g_{2},g_{3} \\right)}$"
      ],
      "text/plain": [
       "Eq(alpha + 2*u(z) + v(z), -alpha/2 - zw(z - z0, g2, g3) - zw(z - z0 - xi[0], g2, g3) + 2*zw(z - z0 + xi[0], g2, g3) - 3*zw(xi[0], g2, g3))"
      ]
     },
     "execution_count": 70,
     "metadata": {},
     "output_type": "execute_result"
    },
    {
     "data": {
      "text/latex": [
       "$\\displaystyle - \\alpha - u{\\left(z \\right)} - 2 v{\\left(z \\right)} = \\frac{\\alpha}{2} - \\operatorname{zw}{\\left(z - z_{0},g_{2},g_{3} \\right)} + 2 \\operatorname{zw}{\\left(z - z_{0} - {\\xi}_{0},g_{2},g_{3} \\right)} - \\operatorname{zw}{\\left(z - z_{0} + {\\xi}_{0},g_{2},g_{3} \\right)} + 3 \\operatorname{zw}{\\left({\\xi}_{0},g_{2},g_{3} \\right)}$"
      ],
      "text/plain": [
       "Eq(-alpha - u(z) - 2*v(z), alpha/2 - zw(z - z0, g2, g3) + 2*zw(z - z0 - xi[0], g2, g3) - zw(z - z0 + xi[0], g2, g3) + 3*zw(xi[0], g2, g3))"
      ]
     },
     "execution_count": 70,
     "metadata": {},
     "output_type": "execute_result"
    },
    {
     "data": {
      "text/latex": [
       "$\\displaystyle u{\\left(z \\right)} = - \\frac{\\alpha}{2} - \\operatorname{zw}{\\left(z - z_{0},g_{2},g_{3} \\right)} + \\operatorname{zw}{\\left(z - z_{0} + {\\xi}_{0},g_{2},g_{3} \\right)} - \\operatorname{zw}{\\left({\\xi}_{0},g_{2},g_{3} \\right)}$"
      ],
      "text/plain": [
       "Eq(u(z), -alpha/2 - zw(z - z0, g2, g3) + zw(z - z0 + xi[0], g2, g3) - zw(xi[0], g2, g3))"
      ]
     },
     "execution_count": 70,
     "metadata": {},
     "output_type": "execute_result"
    },
    {
     "data": {
      "text/latex": [
       "$\\displaystyle v{\\left(z \\right)} = - \\frac{\\alpha}{2} + \\operatorname{zw}{\\left(z - z_{0},g_{2},g_{3} \\right)} - \\operatorname{zw}{\\left(z - z_{0} - {\\xi}_{0},g_{2},g_{3} \\right)} - \\operatorname{zw}{\\left({\\xi}_{0},g_{2},g_{3} \\right)}$"
      ],
      "text/plain": [
       "Eq(v(z), -alpha/2 + zw(z - z0, g2, g3) - zw(z - z0 - xi[0], g2, g3) - zw(xi[0], g2, g3))"
      ]
     },
     "execution_count": 70,
     "metadata": {},
     "output_type": "execute_result"
    }
   ],
   "source": [
    "alpha_2v_plus_u = dlnu_zw_xi0.subs([dv1_scaled.args, dv2_scaled.args])\n",
    "alpha_2u_plus_v = dlnv_zw_xi0.subs([dv1_scaled.args, dv2_scaled.args])\n",
    "u_v_zw_sols = solve([alpha_2v_plus_u, alpha_2u_plus_v], [u(z), v(z)])\n",
    "u_zw_sol = Eq(u(z), u_v_zw_sols[u(z)])\n",
    "v_zw_sol = Eq(v(z), u_v_zw_sols[v(z)])\n",
    "alpha_2u_plus_v\n",
    "alpha_2v_plus_u\n",
    "u_zw_sol\n",
    "v_zw_sol"
   ]
  },
  {
   "cell_type": "code",
   "execution_count": 71,
   "id": "1915fe6c-cce2-49dd-90ed-11d19cb79af7",
   "metadata": {},
   "outputs": [
    {
     "data": {
      "text/latex": [
       "$\\displaystyle \\frac{\\partial}{\\partial z} \\operatorname{zw}{\\left(z,g_{2},g_{3} \\right)} - \\left. \\frac{\\partial}{\\partial \\xi_{1}} \\operatorname{zw}{\\left(\\xi_{1},g_{2},g_{3} \\right)} \\right|_{\\substack{ \\xi_{1}=z - {\\xi}_{0} }} = \\frac{\\alpha^{2}}{4} + \\alpha \\operatorname{zw}{\\left(z - {\\xi}_{0},g_{2},g_{3} \\right)} - \\alpha \\operatorname{zw}{\\left(z + {\\xi}_{0},g_{2},g_{3} \\right)} + 2 \\alpha \\operatorname{zw}{\\left({\\xi}_{0},g_{2},g_{3} \\right)} - \\operatorname{zw}^{2}{\\left(z,g_{2},g_{3} \\right)} + 2 \\operatorname{zw}{\\left(z,g_{2},g_{3} \\right)} \\operatorname{zw}{\\left(z + {\\xi}_{0},g_{2},g_{3} \\right)} - 2 \\operatorname{zw}{\\left(z,g_{2},g_{3} \\right)} \\operatorname{zw}{\\left({\\xi}_{0},g_{2},g_{3} \\right)} + \\operatorname{zw}^{2}{\\left(z - {\\xi}_{0},g_{2},g_{3} \\right)} - 2 \\operatorname{zw}{\\left(z - {\\xi}_{0},g_{2},g_{3} \\right)} \\operatorname{zw}{\\left(z + {\\xi}_{0},g_{2},g_{3} \\right)} + 4 \\operatorname{zw}{\\left(z - {\\xi}_{0},g_{2},g_{3} \\right)} \\operatorname{zw}{\\left({\\xi}_{0},g_{2},g_{3} \\right)} - 2 \\operatorname{zw}{\\left(z + {\\xi}_{0},g_{2},g_{3} \\right)} \\operatorname{zw}{\\left({\\xi}_{0},g_{2},g_{3} \\right)} + 3 \\operatorname{zw}^{2}{\\left({\\xi}_{0},g_{2},g_{3} \\right)}$"
      ],
      "text/plain": [
       "Eq(Derivative(zw(z, g2, g3), z) - Subs(Derivative(zw(_xi_1, g2, g3), _xi_1), _xi_1, z - xi[0]), alpha**2/4 + alpha*zw(z - xi[0], g2, g3) - alpha*zw(z + xi[0], g2, g3) + 2*alpha*zw(xi[0], g2, g3) - zw(z, g2, g3)**2 + 2*zw(z, g2, g3)*zw(z + xi[0], g2, g3) - 2*zw(z, g2, g3)*zw(xi[0], g2, g3) + zw(z - xi[0], g2, g3)**2 - 2*zw(z - xi[0], g2, g3)*zw(z + xi[0], g2, g3) + 4*zw(z - xi[0], g2, g3)*zw(xi[0], g2, g3) - 2*zw(z + xi[0], g2, g3)*zw(xi[0], g2, g3) + 3*zw(xi[0], g2, g3)**2)"
      ]
     },
     "execution_count": 71,
     "metadata": {},
     "output_type": "execute_result"
    },
    {
     "data": {
      "text/latex": [
       "$\\displaystyle - \\frac{\\partial}{\\partial z} \\operatorname{zw}{\\left(z,g_{2},g_{3} \\right)} + \\left. \\frac{\\partial}{\\partial \\xi_{1}} \\operatorname{zw}{\\left(\\xi_{1},g_{2},g_{3} \\right)} \\right|_{\\substack{ \\xi_{1}=z + {\\xi}_{0} }} = - \\frac{\\alpha^{2}}{4} - \\alpha \\operatorname{zw}{\\left(z - {\\xi}_{0},g_{2},g_{3} \\right)} + \\alpha \\operatorname{zw}{\\left(z + {\\xi}_{0},g_{2},g_{3} \\right)} - 2 \\alpha \\operatorname{zw}{\\left({\\xi}_{0},g_{2},g_{3} \\right)} + \\operatorname{zw}^{2}{\\left(z,g_{2},g_{3} \\right)} - 2 \\operatorname{zw}{\\left(z,g_{2},g_{3} \\right)} \\operatorname{zw}{\\left(z - {\\xi}_{0},g_{2},g_{3} \\right)} - 2 \\operatorname{zw}{\\left(z,g_{2},g_{3} \\right)} \\operatorname{zw}{\\left({\\xi}_{0},g_{2},g_{3} \\right)} + 2 \\operatorname{zw}{\\left(z - {\\xi}_{0},g_{2},g_{3} \\right)} \\operatorname{zw}{\\left(z + {\\xi}_{0},g_{2},g_{3} \\right)} - 2 \\operatorname{zw}{\\left(z - {\\xi}_{0},g_{2},g_{3} \\right)} \\operatorname{zw}{\\left({\\xi}_{0},g_{2},g_{3} \\right)} - \\operatorname{zw}^{2}{\\left(z + {\\xi}_{0},g_{2},g_{3} \\right)} + 4 \\operatorname{zw}{\\left(z + {\\xi}_{0},g_{2},g_{3} \\right)} \\operatorname{zw}{\\left({\\xi}_{0},g_{2},g_{3} \\right)} - 3 \\operatorname{zw}^{2}{\\left({\\xi}_{0},g_{2},g_{3} \\right)}$"
      ],
      "text/plain": [
       "Eq(-Derivative(zw(z, g2, g3), z) + Subs(Derivative(zw(_xi_1, g2, g3), _xi_1), _xi_1, z + xi[0]), -alpha**2/4 - alpha*zw(z - xi[0], g2, g3) + alpha*zw(z + xi[0], g2, g3) - 2*alpha*zw(xi[0], g2, g3) + zw(z, g2, g3)**2 - 2*zw(z, g2, g3)*zw(z - xi[0], g2, g3) - 2*zw(z, g2, g3)*zw(xi[0], g2, g3) + 2*zw(z - xi[0], g2, g3)*zw(z + xi[0], g2, g3) - 2*zw(z - xi[0], g2, g3)*zw(xi[0], g2, g3) - zw(z + xi[0], g2, g3)**2 + 4*zw(z + xi[0], g2, g3)*zw(xi[0], g2, g3) - 3*zw(xi[0], g2, g3)**2)"
      ]
     },
     "execution_count": 71,
     "metadata": {},
     "output_type": "execute_result"
    }
   ],
   "source": [
    "dv1_scaled.subs([u_zw_sol.args, v_zw_sol.args]).subs(z0,0).doit().expand()\n",
    "dv2_scaled.subs([u_zw_sol.args, v_zw_sol.args]).subs(z0,0).doit().expand()"
   ]
  },
  {
   "cell_type": "markdown",
   "id": "79a8b3c0-8785-4cb3-9ede-9a5dfcdeed32",
   "metadata": {},
   "source": [
    "#### Backward traveling waves. \n",
    "\n",
    "The solutions are relatable through a reversed propagation relation."
   ]
  },
  {
   "cell_type": "code",
   "execution_count": 72,
   "id": "f2b0d2b1-e70b-4725-aa03-378af2a54936",
   "metadata": {},
   "outputs": [
    {
     "data": {
      "text/latex": [
       "$\\displaystyle u{\\left(z + z_{0} \\right)} = - \\frac{\\alpha}{2} - \\operatorname{zw}{\\left(z,g_{2},g_{3} \\right)} + \\operatorname{zw}{\\left(z + {\\xi}_{0},g_{2},g_{3} \\right)} - \\operatorname{zw}{\\left({\\xi}_{0},g_{2},g_{3} \\right)}$"
      ],
      "text/plain": [
       "Eq(u(z + z0), -alpha/2 - zw(z, g2, g3) + zw(z + xi[0], g2, g3) - zw(xi[0], g2, g3))"
      ]
     },
     "execution_count": 72,
     "metadata": {},
     "output_type": "execute_result"
    },
    {
     "data": {
      "text/latex": [
       "$\\displaystyle v{\\left(- z + z_{0} \\right)} = - \\frac{\\alpha}{2} - \\operatorname{zw}{\\left(z,g_{2},g_{3} \\right)} + \\operatorname{zw}{\\left(z + {\\xi}_{0},g_{2},g_{3} \\right)} - \\operatorname{zw}{\\left({\\xi}_{0},g_{2},g_{3} \\right)}$"
      ],
      "text/plain": [
       "Eq(v(-z + z0), -alpha/2 - zw(z, g2, g3) + zw(z + xi[0], g2, g3) - zw(xi[0], g2, g3))"
      ]
     },
     "execution_count": 72,
     "metadata": {},
     "output_type": "execute_result"
    },
    {
     "data": {
      "text/latex": [
       "$\\displaystyle u{\\left(z + z_{0} \\right)} - v{\\left(- z + z_{0} \\right)} = 0$"
      ],
      "text/plain": [
       "Eq(u(z + z0) - v(-z + z0), 0)"
      ]
     },
     "execution_count": 72,
     "metadata": {},
     "output_type": "execute_result"
    }
   ],
   "source": [
    "u_plusz_z0 = Eq(u(z+z0), u(z).subs(*u_zw_sol.args).subs(z,z+z0))\n",
    "v_minsz_z0 = Eq(v(z+z0), v(z).subs(*v_zw_sol.args).subs(z,z+z0)).subs(z,-z).subs([\n",
    "    (zw(-z,g2,g3),-zw(z,g2,g3)), (zw(-z-xi[0],g2,g3),-zw(z+xi[0],g2,g3)), (zw(-z,g2,g3),-zw(z,g2,g3)), \n",
    "])\n",
    "u_plusz_z0\n",
    "v_minsz_z0\n",
    "Eq(u_plusz_z0.lhs-v_minsz_z0.lhs, u_plusz_z0.rhs-v_minsz_z0.rhs)"
   ]
  },
  {
   "cell_type": "markdown",
   "id": "3a2265c4-b8da-49fd-ab36-d0e95f20ea18",
   "metadata": {},
   "source": [
    "## System 2: A second related solvable Lotka–Volterra like \n",
    "\n",
    "From looking at the sigma functions form of solutions for $u(z),v(z)$ in the previous example, and comparing them to the form of sigma ratios derived elsewhere, it is noteworthy that these solutions have squares of sigma in the numerator and feature two $z$ dependent sigma functions in the denominator. It is almost as if they are related to more familiar solutions, that will be denoted $U(z),V(z)$, in the following way:"
   ]
  },
  {
   "cell_type": "code",
   "execution_count": 73,
   "id": "ac076c9b-6787-411b-8fe7-16a8a812353b",
   "metadata": {},
   "outputs": [
    {
     "data": {
      "text/latex": [
       "$\\displaystyle u{\\left(z \\right)} = \\frac{U^{2}{\\left(z \\right)}}{V{\\left(z \\right)}}$"
      ],
      "text/plain": [
       "Eq(u(z), U(z)**2/V(z))"
      ]
     },
     "execution_count": 73,
     "metadata": {},
     "output_type": "execute_result"
    },
    {
     "data": {
      "text/latex": [
       "$\\displaystyle v{\\left(z \\right)} = \\frac{V^{2}{\\left(z \\right)}}{U{\\left(z \\right)}}$"
      ],
      "text/plain": [
       "Eq(v(z), V(z)**2/U(z))"
      ]
     },
     "execution_count": 73,
     "metadata": {},
     "output_type": "execute_result"
    },
    {
     "data": {
      "text/latex": [
       "$\\displaystyle u{\\left(z \\right)} v{\\left(z \\right)} = U{\\left(z \\right)} V{\\left(z \\right)}$"
      ],
      "text/plain": [
       "Eq(u(z)*v(z), U(z)*V(z))"
      ]
     },
     "execution_count": 73,
     "metadata": {},
     "output_type": "execute_result"
    },
    {
     "data": {
      "text/latex": [
       "$\\displaystyle \\frac{u{\\left(z \\right)}}{v{\\left(z \\right)}} = \\frac{U^{3}{\\left(z \\right)}}{V^{3}{\\left(z \\right)}}$"
      ],
      "text/plain": [
       "Eq(u(z)/v(z), U(z)**3/V(z)**3)"
      ]
     },
     "execution_count": 73,
     "metadata": {},
     "output_type": "execute_result"
    }
   ],
   "source": [
    "uvN = 2\n",
    "u_as_VU = Eq(u(z),U(z)**uvN/V(z))\n",
    "v_as_VU = Eq(v(z),V(z)**uvN/U(z))\n",
    "u_v_as_U_V_subs = [u_as_VU.args, v_as_VU.args]\n",
    "uv_as_UV_subs = Eq(u(z)*v(z),(u(z)*v(z)).subs(u_v_as_U_V_subs))\n",
    "u_over_v_as_U_over_V = Eq(u(z)/v(z),(u(z)/v(z)).subs(u_v_as_U_V_subs))\n",
    "u_as_VU\n",
    "v_as_VU\n",
    "uv_as_UV_subs\n",
    "u_over_v_as_U_over_V"
   ]
  },
  {
   "cell_type": "code",
   "execution_count": 74,
   "id": "8681622a-28b4-4cb9-b3c1-0f7932f061b9",
   "metadata": {},
   "outputs": [
    {
     "data": {
      "text/latex": [
       "$\\displaystyle \\frac{d}{d z} U{\\left(z \\right)} = - \\frac{\\alpha U{\\left(z \\right)}}{3} - V^{2}{\\left(z \\right)}$"
      ],
      "text/plain": [
       "Eq(Derivative(U(z), z), -alpha*U(z)/3 - V(z)**2)"
      ]
     },
     "execution_count": 74,
     "metadata": {},
     "output_type": "execute_result"
    },
    {
     "data": {
      "text/latex": [
       "$\\displaystyle \\frac{d}{d z} V{\\left(z \\right)} = \\frac{\\alpha V{\\left(z \\right)}}{3} + U^{2}{\\left(z \\right)}$"
      ],
      "text/plain": [
       "Eq(Derivative(V(z), z), alpha*V(z)/3 + U(z)**2)"
      ]
     },
     "execution_count": 74,
     "metadata": {},
     "output_type": "execute_result"
    }
   ],
   "source": [
    "dUV_system = solve([dv1_scaled.subs(u_v_as_U_V_subs).doit(), dv2_scaled.subs(u_v_as_U_V_subs).doit()], [diff(U(z),z), diff(V(z),z)])\n",
    "dU = Eq(Derivative(U(z), z), dUV_system[Derivative(U(z), z)])\n",
    "dV = Eq(Derivative(V(z), z), dUV_system[Derivative(V(z), z)])\n",
    "dU\n",
    "dV"
   ]
  },
  {
   "cell_type": "code",
   "execution_count": 75,
   "id": "a80c60c3-c029-423f-873a-055bcb771468",
   "metadata": {},
   "outputs": [
    {
     "data": {
      "text/latex": [
       "$\\displaystyle \\frac{d}{d z} U{\\left(z \\right)} V{\\left(z \\right)} = U^{3}{\\left(z \\right)} - V^{3}{\\left(z \\right)}$"
      ],
      "text/plain": [
       "Eq(Derivative(U(z)*V(z), z), U(z)**3 - V(z)**3)"
      ]
     },
     "execution_count": 75,
     "metadata": {},
     "output_type": "execute_result"
    }
   ],
   "source": [
    "dUV_UV_cubed = Eq(Derivative(U(z)*V(z),z), diff(U(z)*V(z),z).subs([dU.args, dV.args])).expand()\n",
    "dUV_UV_cubed"
   ]
  },
  {
   "cell_type": "code",
   "execution_count": 76,
   "id": "fab75b47-80d6-4abe-9dd7-a1356ed20b12",
   "metadata": {},
   "outputs": [
    {
     "data": {
      "text/latex": [
       "$\\displaystyle \\frac{d^{2}}{d z^{2}} U{\\left(z \\right)} V{\\left(z \\right)} = - \\alpha U^{3}{\\left(z \\right)} - \\alpha V^{3}{\\left(z \\right)} - 6 U^{2}{\\left(z \\right)} V^{2}{\\left(z \\right)}$"
      ],
      "text/plain": [
       "Eq(Derivative(U(z)*V(z), (z, 2)), -alpha*U(z)**3 - alpha*V(z)**3 - 6*U(z)**2*V(z)**2)"
      ]
     },
     "execution_count": 76,
     "metadata": {},
     "output_type": "execute_result"
    }
   ],
   "source": [
    "dUV_UV_cubed_2 = Eq(Derivative(U(z)*V(z),z,2), diff(U(z)*V(z),z,2).subs([dU.args, dV.args]).doit().subs([dU.args, dV.args])).expand()\n",
    "dUV_UV_cubed_2"
   ]
  },
  {
   "cell_type": "code",
   "execution_count": 77,
   "id": "2b0302fd-6445-4ce9-8782-984af81cf3b1",
   "metadata": {},
   "outputs": [
    {
     "data": {
      "text/latex": [
       "$\\displaystyle u{\\left(z \\right)} v{\\left(z \\right)} = U{\\left(z \\right)} V{\\left(z \\right)}$"
      ],
      "text/plain": [
       "Eq(u(z)*v(z), U(z)*V(z))"
      ]
     },
     "execution_count": 77,
     "metadata": {},
     "output_type": "execute_result"
    }
   ],
   "source": [
    "uv_as_UV_subs"
   ]
  },
  {
   "cell_type": "code",
   "execution_count": 78,
   "id": "929cc324-dbe2-47ce-a800-af03acbd0ea8",
   "metadata": {},
   "outputs": [
    {
     "data": {
      "text/latex": [
       "$\\displaystyle p = \\alpha U{\\left(z \\right)} V{\\left(z \\right)} + U^{3}{\\left(z \\right)} + V^{3}{\\left(z \\right)}$"
      ],
      "text/plain": [
       "Eq(p, alpha*U(z)*V(z) + U(z)**3 + V(z)**3)"
      ]
     },
     "execution_count": 78,
     "metadata": {},
     "output_type": "execute_result"
    }
   ],
   "source": [
    "potential_scaled_UV = Eq(potential_scaled.lhs, potential_scaled.rhs.subs(u_v_as_U_V_subs))\n",
    "potential_scaled_UV"
   ]
  },
  {
   "cell_type": "code",
   "execution_count": 79,
   "id": "26d591f5-31d8-4b1f-b092-d3ddb7515283",
   "metadata": {},
   "outputs": [
    {
     "data": {
      "text/latex": [
       "$\\displaystyle 0 = 2 Y^{3} - \\frac{Y \\alpha^{2}}{6} + \\frac{\\alpha^{3}}{54} - p$"
      ],
      "text/plain": [
       "Eq(0, 2*Y**3 - Y*alpha**2/6 + alpha**3/54 - p)"
      ]
     },
     "execution_count": 79,
     "metadata": {},
     "output_type": "execute_result"
    }
   ],
   "source": [
    "Eq(0,-p+(alpha*X**2 +2*X**3).subs(X,Y-alpha/6).expand().collect(Y,factor))"
   ]
  },
  {
   "cell_type": "code",
   "execution_count": 80,
   "id": "620274f0-bef3-4b49-99bf-6de5d21bb504",
   "metadata": {},
   "outputs": [
    {
     "data": {
      "text/latex": [
       "$\\displaystyle 0$"
      ],
      "text/plain": [
       "0"
      ]
     },
     "execution_count": 80,
     "metadata": {},
     "output_type": "execute_result"
    }
   ],
   "source": [
    "diff(potential_scaled.rhs.subs(u_v_as_U_V_subs),z).subs([dU.args,dV.args]).doit().expand()"
   ]
  },
  {
   "cell_type": "code",
   "execution_count": 81,
   "id": "f30b5d8d-6073-414c-a12c-ed7cd8af5dc2",
   "metadata": {},
   "outputs": [
    {
     "data": {
      "text/latex": [
       "$\\displaystyle \\left(\\frac{d}{d z} U{\\left(z \\right)} V{\\left(z \\right)}\\right)^{2} = \\alpha^{2} U^{2}{\\left(z \\right)} V^{2}{\\left(z \\right)} - 2 \\alpha U{\\left(z \\right)} V{\\left(z \\right)} p - 4 U^{3}{\\left(z \\right)} V^{3}{\\left(z \\right)} + p^{2}$"
      ],
      "text/plain": [
       "Eq(Derivative(U(z)*V(z), z)**2, alpha**2*U(z)**2*V(z)**2 - 2*alpha*U(z)*V(z)*p - 4*U(z)**3*V(z)**3 + p**2)"
      ]
     },
     "execution_count": 81,
     "metadata": {},
     "output_type": "execute_result"
    }
   ],
   "source": [
    "duv_sqrd.subs(u_v_as_U_V_subs)"
   ]
  },
  {
   "cell_type": "code",
   "execution_count": 82,
   "id": "492fda22-06a7-4fb0-9e84-3d1d6b127629",
   "metadata": {},
   "outputs": [
    {
     "data": {
      "text/latex": [
       "$\\displaystyle U{\\left(z \\right)} V{\\left(z \\right)} = \\frac{\\alpha^{2}}{12} - W{\\left(z \\right)}$"
      ],
      "text/plain": [
       "Eq(U(z)*V(z), alpha**2/12 - W(z))"
      ]
     },
     "execution_count": 82,
     "metadata": {},
     "output_type": "execute_result"
    }
   ],
   "source": [
    "Eq(U(z)*V(z), -W(z) + alpha**2/12)"
   ]
  },
  {
   "cell_type": "code",
   "execution_count": 83,
   "id": "852e96e2-544c-48a8-96ac-626c4db02932",
   "metadata": {},
   "outputs": [
    {
     "data": {
      "text/latex": [
       "$\\displaystyle \\left(\\frac{d}{d z} W{\\left(z \\right)}\\right)^{2} = \\frac{\\alpha^{6}}{216} - \\frac{\\alpha^{4} W{\\left(z \\right)}}{12} - \\frac{\\alpha^{3} p}{6} + 2 \\alpha W{\\left(z \\right)} p + 4 W^{3}{\\left(z \\right)} + p^{2}$"
      ],
      "text/plain": [
       "Eq(Derivative(W(z), z)**2, alpha**6/216 - alpha**4*W(z)/12 - alpha**3*p/6 + 2*alpha*W(z)*p + 4*W(z)**3 + p**2)"
      ]
     },
     "execution_count": 83,
     "metadata": {},
     "output_type": "execute_result"
    }
   ],
   "source": [
    "dW_UV = duv_sqrd.subs(u_v_as_U_V_subs).subs(U(z),(-W(z)+alpha**2/12)/V(z)).doit().expand()\n",
    "dW_UV"
   ]
  },
  {
   "cell_type": "code",
   "execution_count": 84,
   "id": "712ff264-eda2-43e8-8c06-08c78d404fab",
   "metadata": {},
   "outputs": [
    {
     "data": {
      "text/latex": [
       "$\\displaystyle g_{2} = \\frac{\\alpha^{4}}{12} - 2 \\alpha p$"
      ],
      "text/plain": [
       "Eq(g2, alpha**4/12 - 2*alpha*p)"
      ]
     },
     "execution_count": 84,
     "metadata": {},
     "output_type": "execute_result"
    },
    {
     "data": {
      "text/latex": [
       "$\\displaystyle g_{3} = - \\frac{\\alpha^{6}}{216} + \\frac{\\alpha^{3} p}{6} - p^{2}$"
      ],
      "text/plain": [
       "Eq(g3, -alpha**6/216 + alpha**3*p/6 - p**2)"
      ]
     },
     "execution_count": 84,
     "metadata": {},
     "output_type": "execute_result"
    }
   ],
   "source": [
    "g2_UV = Eq(g2, -dW_UV.rhs.coeff(W(z)))\n",
    "g3_UV = Eq(g3, -dW_UV.rhs.subs(W(z),0))\n",
    "g2_UV\n",
    "g3_UV"
   ]
  },
  {
   "cell_type": "code",
   "execution_count": 85,
   "id": "beaaec54-f9b0-4a82-81b2-27463f3c7879",
   "metadata": {},
   "outputs": [
    {
     "data": {
      "text/latex": [
       "$\\displaystyle \\operatorname{pw}{\\left({\\xi}_{0},g_{2},g_{3} \\right)} = \\frac{\\alpha^{2}}{12}$"
      ],
      "text/plain": [
       "Eq(pw(xi[0], g2, g3), alpha**2/12)"
      ]
     },
     "execution_count": 85,
     "metadata": {},
     "output_type": "execute_result"
    }
   ],
   "source": [
    "xi_0_alpha_UV  = Eq(pw(xi[0], g2, g3), alpha**2/12)\n",
    "xi_0_alpha_UV"
   ]
  },
  {
   "cell_type": "code",
   "execution_count": 86,
   "id": "56c97dbc-e6e4-493e-ab6e-e19d80738c26",
   "metadata": {},
   "outputs": [
    {
     "data": {
      "text/latex": [
       "$\\displaystyle \\operatorname{pwp}^{2}{\\left({\\xi}_{0},g_{2},g_{3} \\right)} = p^{2}$"
      ],
      "text/plain": [
       "Eq(pwp(xi[0], g2, g3)**2, p**2)"
      ]
     },
     "execution_count": 86,
     "metadata": {},
     "output_type": "execute_result"
    }
   ],
   "source": [
    "Eq(pwp(xi[0],g2,g3)**2, dW_UV.rhs.subs(W(z), pw(xi[0],g2,g3)).subs(*xi_0_alpha_UV.args))"
   ]
  },
  {
   "cell_type": "code",
   "execution_count": 87,
   "id": "ea011d6f-fac1-488e-a945-f41ca4a17094",
   "metadata": {},
   "outputs": [
    {
     "data": {
      "text/latex": [
       "$\\displaystyle \\operatorname{pwp}{\\left({\\xi}_{0},g_{2},g_{3} \\right)} = p$"
      ],
      "text/plain": [
       "Eq(pwp(xi[0], g2, g3), p)"
      ]
     },
     "execution_count": 87,
     "metadata": {},
     "output_type": "execute_result"
    }
   ],
   "source": [
    "pwp_p_UV = Eq(pwp(xi[0],g2,g3), p)\n",
    "pwp_p_UV"
   ]
  },
  {
   "cell_type": "code",
   "execution_count": 88,
   "id": "3f9624ce-14f3-4463-be01-98825fb1afc0",
   "metadata": {},
   "outputs": [
    {
     "data": {
      "text/latex": [
       "$\\displaystyle U{\\left(z \\right)} V{\\left(z \\right)} = - \\operatorname{pw}{\\left(z - z_{0},g_{2},g_{3} \\right)} + \\operatorname{pw}{\\left({\\xi}_{0},g_{2},g_{3} \\right)}$"
      ],
      "text/plain": [
       "Eq(U(z)*V(z), -pw(z - z0, g2, g3) + pw(xi[0], g2, g3))"
      ]
     },
     "execution_count": 88,
     "metadata": {},
     "output_type": "execute_result"
    }
   ],
   "source": [
    "UV_as_wp = uv_as_f.subs(u_v_as_U_V_subs).subs([pw_alpha.args[::-1], fpw.args])\n",
    "UV_as_wp"
   ]
  },
  {
   "cell_type": "code",
   "execution_count": 89,
   "id": "da1cb96e-698b-4aac-993f-d84fa6d8c41e",
   "metadata": {},
   "outputs": [
    {
     "data": {
      "text/latex": [
       "$\\displaystyle \\frac{\\frac{d}{d z} U{\\left(z \\right)}}{U{\\left(z \\right)}} = \\frac{\\frac{d}{d z} \\log{\\left(U{\\left(z \\right)} V{\\left(z \\right)} \\right)}}{2} - \\frac{\\frac{d}{d z} V{\\left(z \\right)}}{2 V{\\left(z \\right)}} + \\frac{\\frac{d}{d z} U{\\left(z \\right)}}{2 U{\\left(z \\right)}}$"
      ],
      "text/plain": [
       "Eq(Derivative(U(z), z)/U(z), Derivative(log(U(z)*V(z)), z)/2 - Derivative(V(z), z)/(2*V(z)) + Derivative(U(z), z)/(2*U(z)))"
      ]
     },
     "execution_count": 89,
     "metadata": {},
     "output_type": "execute_result"
    }
   ],
   "source": [
    "dln_u_as_du_dv.subs([(u(z),U(z)),(v(z),V(z))])"
   ]
  },
  {
   "cell_type": "code",
   "execution_count": 90,
   "id": "9fc7482d-ecb9-453b-ba52-c13bfb29252f",
   "metadata": {},
   "outputs": [
    {
     "data": {
      "text/latex": [
       "$\\displaystyle \\frac{\\alpha}{2} - \\frac{p}{2 U{\\left(z \\right)} V{\\left(z \\right)}} = - \\frac{U^{2}{\\left(z \\right)}}{2 V{\\left(z \\right)}} - \\frac{V^{2}{\\left(z \\right)}}{2 U{\\left(z \\right)}}$"
      ],
      "text/plain": [
       "Eq(alpha/2 - p/(2*U(z)*V(z)), -U(z)**2/(2*V(z)) - V(z)**2/(2*U(z)))"
      ]
     },
     "execution_count": 90,
     "metadata": {},
     "output_type": "execute_result"
    }
   ],
   "source": [
    "p_over_UV = Eq(-(potential_scaled_UV.lhs/U(z)/V(z) - alpha)/2, -(potential_scaled_UV.rhs/U(z)/V(z) - alpha)/2).expand()\n",
    "p_over_UV"
   ]
  },
  {
   "cell_type": "code",
   "execution_count": 91,
   "id": "8d0d5beb-6f57-4431-8f9c-c01a67a34d21",
   "metadata": {},
   "outputs": [
    {
     "data": {
      "text/latex": [
       "$\\displaystyle \\frac{\\frac{d}{d z} U{\\left(z \\right)}}{U{\\left(z \\right)}} = \\frac{\\alpha}{6} - \\frac{\\operatorname{pwp}{\\left(z - z_{0},g_{2},g_{3} \\right)}}{- 2 \\operatorname{pw}{\\left(z - z_{0},g_{2},g_{3} \\right)} + 2 \\operatorname{pw}{\\left({\\xi}_{0},g_{2},g_{3} \\right)}} - \\frac{\\operatorname{pwp}{\\left({\\xi}_{0},g_{2},g_{3} \\right)}}{- 2 \\operatorname{pw}{\\left(z - z_{0},g_{2},g_{3} \\right)} + 2 \\operatorname{pw}{\\left({\\xi}_{0},g_{2},g_{3} \\right)}}$"
      ],
      "text/plain": [
       "Eq(Derivative(U(z), z)/U(z), alpha/6 - pwp(z - z0, g2, g3)/(-2*pw(z - z0, g2, g3) + 2*pw(xi[0], g2, g3)) - pwp(xi[0], g2, g3)/(-2*pw(z - z0, g2, g3) + 2*pw(xi[0], g2, g3)))"
      ]
     },
     "execution_count": 91,
     "metadata": {},
     "output_type": "execute_result"
    }
   ],
   "source": [
    "_dlnU = dln_u_as_du_dv.subs([(u(z),U(z)),(v(z),V(z))]).subs(*UV_as_wp.args).doit()\n",
    "_dlnU = Eq(_dlnU.lhs, _dlnU.rhs.subs([dU.args, dV.args]).expand().subs(p_over_UV.rhs, p_over_UV.lhs)).subs(*UV_as_wp.args).subs(\n",
    "    diff(pw(z-z0,g2,g3),z),pwp(z-z0,g2,g3)).subs(pwp_xi0.rhs, pwp_xi0.lhs)\n",
    "_dlnU"
   ]
  },
  {
   "cell_type": "code",
   "execution_count": 92,
   "id": "463c2d12-aa14-4433-9256-939de17df10b",
   "metadata": {},
   "outputs": [
    {
     "data": {
      "text/latex": [
       "$\\displaystyle \\frac{d}{d z} \\log{\\left(U{\\left(z \\right)} \\right)} = \\frac{\\alpha}{6} + \\frac{\\operatorname{pwp}{\\left(z - z_{0},g_{2},g_{3} \\right)} - \\operatorname{pwp}{\\left(- {\\xi}_{0},g_{2},g_{3} \\right)}}{2 \\left(\\operatorname{pw}{\\left(z - z_{0},g_{2},g_{3} \\right)} - \\operatorname{pw}{\\left({\\xi}_{0},g_{2},g_{3} \\right)}\\right)}$"
      ],
      "text/plain": [
       "Eq(Derivative(log(U(z)), z), alpha/6 + (pwp(z - z0, g2, g3) - pwp(-xi[0], g2, g3))/(2*(pw(z - z0, g2, g3) - pw(xi[0], g2, g3))))"
      ]
     },
     "execution_count": 92,
     "metadata": {},
     "output_type": "execute_result"
    }
   ],
   "source": [
    "_dlnU_pwp = Eq(Derivative(ln(U(z)),z), alpha/6 + (pwp(z-z0,g2,g3) - pwp(-xi[0], g2, g3))/(pw(z-z0, g2, g3) - pw(xi[0], g2, g3))/2)\n",
    "_dlnU_pwp"
   ]
  },
  {
   "cell_type": "code",
   "execution_count": 93,
   "id": "1fc1fe52-01f2-40b0-becd-3ccb66c33074",
   "metadata": {},
   "outputs": [
    {
     "data": {
      "text/latex": [
       "$\\displaystyle \\frac{d}{d z} \\log{\\left(U{\\left(z \\right)} \\right)} = \\frac{\\alpha}{6} - \\operatorname{zw}{\\left(z - z_{0},g_{2},g_{3} \\right)} + \\operatorname{zw}{\\left(z - z_{0} - {\\xi}_{0},g_{2},g_{3} \\right)} - \\operatorname{zw}{\\left(- {\\xi}_{0},g_{2},g_{3} \\right)}$"
      ],
      "text/plain": [
       "Eq(Derivative(log(U(z)), z), alpha/6 - zw(z - z0, g2, g3) + zw(z - z0 - xi[0], g2, g3) - zw(-xi[0], g2, g3))"
      ]
     },
     "execution_count": 93,
     "metadata": {},
     "output_type": "execute_result"
    }
   ],
   "source": [
    "_dlnU_pwp.subs(*(pw_to_zw_identity.subs([(x,z-z0),(y,-xi[0])]).subs(pw(-xi[0],g2,g3), pw(xi[0],g2,g3))).args)"
   ]
  },
  {
   "cell_type": "code",
   "execution_count": 94,
   "id": "a9e06336-6a72-424e-a93c-ce5d7b0eb415",
   "metadata": {},
   "outputs": [
    {
     "data": {
      "text/latex": [
       "$\\displaystyle \\log{\\left(U{\\left(z \\right)} \\right)} = z \\left(\\frac{\\alpha}{6} + \\operatorname{zw}{\\left({\\xi}_{0},g_{2},g_{3} \\right)}\\right) - \\log{\\left(\\sigma{\\left(z - z_{0},g_{2},g_{3} \\right)} \\right)} + \\log{\\left(\\sigma{\\left(z - z_{0} - {\\xi}_{0},g_{2},g_{3} \\right)} \\right)} + c$"
      ],
      "text/plain": [
       "Eq(log(U(z)), z*(alpha/6 + zw(xi[0], g2, g3)) - log(sigma(z - z0, g2, g3)) + log(sigma(z - z0 - xi[0], g2, g3)) + c)"
      ]
     },
     "execution_count": 94,
     "metadata": {},
     "output_type": "execute_result"
    }
   ],
   "source": [
    "logUz = Eq(log(U(z)), (alpha/6 + zw(xi[0],g2,g3))*z + log(sigma(z - z0 - xi[0],g2,g3)) - log(sigma(z - z0,g2,g3)) + c)\n",
    "logUz"
   ]
  },
  {
   "cell_type": "code",
   "execution_count": 95,
   "id": "e12500c5-87a6-40fb-be7f-2b3f29f186c8",
   "metadata": {},
   "outputs": [
    {
     "data": {
      "text/latex": [
       "$\\displaystyle U{\\left(z \\right)} = \\frac{\\sigma{\\left(z - z_{0} - {\\xi}_{0},g_{2},g_{3} \\right)} e^{z \\left(\\frac{\\alpha}{6} + \\operatorname{zw}{\\left({\\xi}_{0},g_{2},g_{3} \\right)}\\right) + c}}{\\sigma{\\left(z - z_{0},g_{2},g_{3} \\right)}}$"
      ],
      "text/plain": [
       "Eq(U(z), sigma(z - z0 - xi[0], g2, g3)*exp(z*(alpha/6 + zw(xi[0], g2, g3)) + c)/sigma(z - z0, g2, g3))"
      ]
     },
     "execution_count": 95,
     "metadata": {},
     "output_type": "execute_result"
    }
   ],
   "source": [
    "Uz_sigma = Eq(U(z), exp(z*(alpha/6+zw(xi[0], g2, g3)) + c)*sigma(z - z0 - xi[0], g2, g3)/sigma(z - z0, g2, g3))\n",
    "Uz_sigma"
   ]
  },
  {
   "cell_type": "code",
   "execution_count": 96,
   "id": "53c73e37-0df5-4d17-815f-8957cf4b31f8",
   "metadata": {},
   "outputs": [
    {
     "data": {
      "text/latex": [
       "$\\displaystyle V{\\left(z \\right)} = \\frac{\\sigma{\\left(z - z_{0} + {\\xi}_{0},g_{2},g_{3} \\right)} e^{- \\frac{\\alpha z}{6} - z \\operatorname{zw}{\\left({\\xi}_{0},g_{2},g_{3} \\right)} - c}}{\\sigma{\\left(z - z_{0},g_{2},g_{3} \\right)} \\sigma^{2}{\\left({\\xi}_{0},g_{2},g_{3} \\right)}}$"
      ],
      "text/plain": [
       "Eq(V(z), sigma(z - z0 + xi[0], g2, g3)*exp(-alpha*z/6 - z*zw(xi[0], g2, g3) - c)/(sigma(z - z0, g2, g3)*sigma(xi[0], g2, g3)**2))"
      ]
     },
     "execution_count": 96,
     "metadata": {},
     "output_type": "execute_result"
    }
   ],
   "source": [
    "_V_sig_eq = uv_as_sigma.subs(*uv_as_UV_subs.args).subs(*Uz_sigma.args)\n",
    "Vz_sigma = Eq(V(z),solve(_V_sig_eq.lhs - _V_sig_eq.rhs,V(z))[0])\n",
    "Vz_sigma"
   ]
  },
  {
   "cell_type": "code",
   "execution_count": 97,
   "id": "b570347b-db4d-4687-9d9b-c0f4a465f5e5",
   "metadata": {},
   "outputs": [
    {
     "data": {
      "text/latex": [
       "$\\displaystyle U{\\left(0 \\right)} = \\frac{\\sigma{\\left(- z_{0} - {\\xi}_{0},g_{2},g_{3} \\right)} e^{c}}{\\sigma{\\left(- z_{0},g_{2},g_{3} \\right)}}$"
      ],
      "text/plain": [
       "Eq(U(0), sigma(-z0 - xi[0], g2, g3)*exp(c)/sigma(-z0, g2, g3))"
      ]
     },
     "execution_count": 97,
     "metadata": {},
     "output_type": "execute_result"
    },
    {
     "data": {
      "text/latex": [
       "$\\displaystyle V{\\left(0 \\right)} = \\frac{\\sigma{\\left(- z_{0} + {\\xi}_{0},g_{2},g_{3} \\right)} e^{- c}}{\\sigma{\\left(- z_{0},g_{2},g_{3} \\right)} \\sigma^{2}{\\left({\\xi}_{0},g_{2},g_{3} \\right)}}$"
      ],
      "text/plain": [
       "Eq(V(0), sigma(-z0 + xi[0], g2, g3)*exp(-c)/(sigma(-z0, g2, g3)*sigma(xi[0], g2, g3)**2))"
      ]
     },
     "execution_count": 97,
     "metadata": {},
     "output_type": "execute_result"
    }
   ],
   "source": [
    "Uz0 = Uz_sigma.subs(z,0)\n",
    "Vz0 = Vz_sigma.subs(z,0)\n",
    "Uz0\n",
    "Vz0"
   ]
  },
  {
   "cell_type": "code",
   "execution_count": 98,
   "id": "db62c9db-4f19-4248-9eb1-d4a34e328a45",
   "metadata": {},
   "outputs": [
    {
     "data": {
      "text/latex": [
       "$\\displaystyle U{\\left(z \\right)} = \\frac{U{\\left(0 \\right)} \\sigma{\\left(- z_{0},g_{2},g_{3} \\right)} \\sigma{\\left(z - z_{0} - {\\xi}_{0},g_{2},g_{3} \\right)} e^{\\frac{z \\left(\\alpha + 6 \\operatorname{zw}{\\left({\\xi}_{0},g_{2},g_{3} \\right)}\\right)}{6}}}{\\sigma{\\left(z - z_{0},g_{2},g_{3} \\right)} \\sigma{\\left(- z_{0} - {\\xi}_{0},g_{2},g_{3} \\right)}}$"
      ],
      "text/plain": [
       "Eq(U(z), U(0)*sigma(-z0, g2, g3)*sigma(z - z0 - xi[0], g2, g3)*exp(z*(alpha + 6*zw(xi[0], g2, g3))/6)/(sigma(z - z0, g2, g3)*sigma(-z0 - xi[0], g2, g3)))"
      ]
     },
     "execution_count": 98,
     "metadata": {},
     "output_type": "execute_result"
    },
    {
     "data": {
      "text/latex": [
       "$\\displaystyle V{\\left(z \\right)} = \\frac{V{\\left(0 \\right)} \\sigma{\\left(- z_{0},g_{2},g_{3} \\right)} \\sigma{\\left(z - z_{0} + {\\xi}_{0},g_{2},g_{3} \\right)} e^{- z \\left(\\frac{\\alpha}{6} + \\operatorname{zw}{\\left({\\xi}_{0},g_{2},g_{3} \\right)}\\right)}}{\\sigma{\\left(z - z_{0},g_{2},g_{3} \\right)} \\sigma{\\left(- z_{0} + {\\xi}_{0},g_{2},g_{3} \\right)}}$"
      ],
      "text/plain": [
       "Eq(V(z), V(0)*sigma(-z0, g2, g3)*sigma(z - z0 + xi[0], g2, g3)*exp(-z*(alpha/6 + zw(xi[0], g2, g3)))/(sigma(z - z0, g2, g3)*sigma(-z0 + xi[0], g2, g3)))"
      ]
     },
     "execution_count": 98,
     "metadata": {},
     "output_type": "execute_result"
    }
   ],
   "source": [
    "Uz_Uz0 = Eq(Uz_sigma.lhs, (Uz_sigma.rhs*Uz0.lhs/Uz0.rhs).simplify())\n",
    "Vz_Vz0 = Eq(Vz_sigma.lhs, (Vz_sigma.rhs*Vz0.lhs/Vz0.rhs).simplify())\n",
    "Uz_Uz0\n",
    "Vz_Vz0"
   ]
  },
  {
   "cell_type": "markdown",
   "id": "6f032858-245e-4806-95dd-0d24939d7ce5",
   "metadata": {},
   "source": [
    "#### Another way of expressing the constant of integration"
   ]
  },
  {
   "cell_type": "code",
   "execution_count": 99,
   "id": "ff96a535-b1b9-4944-9cef-48d1d16e964c",
   "metadata": {},
   "outputs": [
    {
     "data": {
      "text/latex": [
       "$\\displaystyle - \\left. \\frac{\\partial}{\\partial \\xi_{1}} \\operatorname{pw}{\\left(\\xi_{1},g_{2},g_{3} \\right)} \\right|_{\\substack{ \\xi_{1}=z - z_{0} }} = U^{3}{\\left(z \\right)} - V^{3}{\\left(z \\right)}$"
      ],
      "text/plain": [
       "Eq(-Subs(Derivative(pw(_xi_1, g2, g3), _xi_1), _xi_1, z - z0), U(z)**3 - V(z)**3)"
      ]
     },
     "execution_count": 99,
     "metadata": {},
     "output_type": "execute_result"
    }
   ],
   "source": [
    "dUV_UV_cubed.subs(*UV_as_wp.args).doit()"
   ]
  },
  {
   "cell_type": "code",
   "execution_count": 100,
   "id": "a80e099e-fd75-441e-98ce-ca9b21425edb",
   "metadata": {},
   "outputs": [
    {
     "data": {
      "text/latex": [
       "$\\displaystyle - \\operatorname{pwp}{\\left(z,g_{2},g_{3} \\right)} = \\frac{\\sigma^{3}{\\left(z - {\\xi}_{0},g_{2},g_{3} \\right)} e^{3 \\left(\\frac{\\alpha}{6} + \\operatorname{zw}{\\left({\\xi}_{0},g_{2},g_{3} \\right)}\\right) \\left(z + z_{0}\\right) + 3 c}}{\\sigma^{3}{\\left(z,g_{2},g_{3} \\right)}} - \\frac{\\sigma^{3}{\\left(z + {\\xi}_{0},g_{2},g_{3} \\right)} e^{- \\frac{\\alpha \\left(z + z_{0}\\right)}{2} - 3 \\left(z + z_{0}\\right) \\operatorname{zw}{\\left({\\xi}_{0},g_{2},g_{3} \\right)} - 3 c}}{\\sigma^{3}{\\left(z,g_{2},g_{3} \\right)} \\sigma^{6}{\\left({\\xi}_{0},g_{2},g_{3} \\right)}}$"
      ],
      "text/plain": [
       "Eq(-pwp(z, g2, g3), sigma(z - xi[0], g2, g3)**3*exp(3*(alpha/6 + zw(xi[0], g2, g3))*(z + z0) + 3*c)/sigma(z, g2, g3)**3 - sigma(z + xi[0], g2, g3)**3*exp(-alpha*(z + z0)/2 - 3*(z + z0)*zw(xi[0], g2, g3) - 3*c)/(sigma(z, g2, g3)**3*sigma(xi[0], g2, g3)**6))"
      ]
     },
     "execution_count": 100,
     "metadata": {},
     "output_type": "execute_result"
    }
   ],
   "source": [
    "pwpUV = Eq(-pwp(z-z0,g2,g3), U(z)**3 - V(z)**3).subs([Uz_sigma.args, Vz_sigma.args]).subs(z,z+z0)\n",
    "pwpUV"
   ]
  },
  {
   "cell_type": "code",
   "execution_count": 101,
   "id": "67fcc154-43eb-4cd7-b4cc-8852fce2411c",
   "metadata": {},
   "outputs": [
    {
     "data": {
      "text/latex": [
       "$\\displaystyle - \\operatorname{pwp}{\\left(z,g_{2},g_{3} \\right)} \\sigma^{3}{\\left(z,g_{2},g_{3} \\right)} = \\sigma^{3}{\\left(z - {\\xi}_{0},g_{2},g_{3} \\right)} e^{\\frac{\\alpha z}{2}} e^{\\frac{\\alpha z_{0}}{2}} e^{3 z \\operatorname{zw}{\\left({\\xi}_{0},g_{2},g_{3} \\right)}} e^{3 z_{0} \\operatorname{zw}{\\left({\\xi}_{0},g_{2},g_{3} \\right)}} e^{3 c} - \\frac{\\sigma^{3}{\\left(z + {\\xi}_{0},g_{2},g_{3} \\right)} e^{- \\frac{\\alpha z}{2}} e^{- \\frac{\\alpha z_{0}}{2}} e^{- 3 z \\operatorname{zw}{\\left({\\xi}_{0},g_{2},g_{3} \\right)}} e^{- 3 z_{0} \\operatorname{zw}{\\left({\\xi}_{0},g_{2},g_{3} \\right)}} e^{- 3 c}}{\\sigma^{6}{\\left({\\xi}_{0},g_{2},g_{3} \\right)}}$"
      ],
      "text/plain": [
       "Eq(-pwp(z, g2, g3)*sigma(z, g2, g3)**3, sigma(z - xi[0], g2, g3)**3*exp(alpha*z/2)*exp(alpha*z0/2)*exp(3*z*zw(xi[0], g2, g3))*exp(3*z0*zw(xi[0], g2, g3))*exp(3*c) - sigma(z + xi[0], g2, g3)**3*exp(-alpha*z/2)*exp(-alpha*z0/2)*exp(-3*z*zw(xi[0], g2, g3))*exp(-3*z0*zw(xi[0], g2, g3))*exp(-3*c)/sigma(xi[0], g2, g3)**6)"
      ]
     },
     "execution_count": 101,
     "metadata": {},
     "output_type": "execute_result"
    }
   ],
   "source": [
    "pwpUV_times_sigma3 = Eq(pwpUV.lhs*sigma(z,g2,g3)**3, pwpUV.rhs*sigma(z,g2,g3)**3).expand()\n",
    "pwpUV_times_sigma3"
   ]
  },
  {
   "cell_type": "code",
   "execution_count": 102,
   "id": "2becb151-2676-42af-a3d2-73d2f484fba6",
   "metadata": {},
   "outputs": [
    {
     "data": {
      "text/latex": [
       "$\\displaystyle - \\operatorname{pwp}{\\left(0,g_{2},g_{3} \\right)} \\sigma^{3}{\\left(0,g_{2},g_{3} \\right)} = \\sigma^{3}{\\left(- {\\xi}_{0},g_{2},g_{3} \\right)} e^{\\frac{\\alpha z_{0}}{2}} e^{3 z_{0} \\operatorname{zw}{\\left({\\xi}_{0},g_{2},g_{3} \\right)}} e^{3 c} - \\frac{e^{- \\frac{\\alpha z_{0}}{2}} e^{- 3 z_{0} \\operatorname{zw}{\\left({\\xi}_{0},g_{2},g_{3} \\right)}} e^{- 3 c}}{\\sigma^{3}{\\left({\\xi}_{0},g_{2},g_{3} \\right)}}$"
      ],
      "text/plain": [
       "Eq(-pwp(0, g2, g3)*sigma(0, g2, g3)**3, sigma(-xi[0], g2, g3)**3*exp(alpha*z0/2)*exp(3*z0*zw(xi[0], g2, g3))*exp(3*c) - exp(-alpha*z0/2)*exp(-3*z0*zw(xi[0], g2, g3))*exp(-3*c)/sigma(xi[0], g2, g3)**3)"
      ]
     },
     "execution_count": 102,
     "metadata": {},
     "output_type": "execute_result"
    }
   ],
   "source": [
    "Eq(pwpUV_times_sigma3.lhs.subs(z,0), pwpUV_times_sigma3.rhs.subs(z,0))"
   ]
  },
  {
   "cell_type": "code",
   "execution_count": 103,
   "id": "89353dc6-8194-470f-84b6-f8686ba4115b",
   "metadata": {},
   "outputs": [
    {
     "data": {
      "text/latex": [
       "$\\displaystyle 2 = - \\sigma^{3}{\\left({\\xi}_{0},g_{2},g_{3} \\right)} e^{\\frac{\\alpha z_{0}}{2}} e^{3 z_{0} \\operatorname{zw}{\\left({\\xi}_{0},g_{2},g_{3} \\right)}} e^{3 c} - \\frac{e^{- \\frac{\\alpha z_{0}}{2}} e^{- 3 z_{0} \\operatorname{zw}{\\left({\\xi}_{0},g_{2},g_{3} \\right)}} e^{- 3 c}}{\\sigma^{3}{\\left({\\xi}_{0},g_{2},g_{3} \\right)}}$"
      ],
      "text/plain": [
       "Eq(2, -sigma(xi[0], g2, g3)**3*exp(alpha*z0/2)*exp(3*z0*zw(xi[0], g2, g3))*exp(3*c) - exp(-alpha*z0/2)*exp(-3*z0*zw(xi[0], g2, g3))*exp(-3*c)/sigma(xi[0], g2, g3)**3)"
      ]
     },
     "execution_count": 103,
     "metadata": {},
     "output_type": "execute_result"
    }
   ],
   "source": [
    "Eq(2, pwpUV_times_sigma3.rhs.subs(z,0).subs(sigma(-xi[0],g2,g3),-sigma(xi[0],g2,g3)))"
   ]
  },
  {
   "cell_type": "code",
   "execution_count": 104,
   "id": "b76dfb57-13cd-4204-983a-105b8f2fa288",
   "metadata": {},
   "outputs": [
    {
     "data": {
      "text/latex": [
       "$\\displaystyle e^{3 c} = \\frac{e^{- \\frac{z_{0} \\left(\\alpha + 6 \\operatorname{zw}{\\left({\\xi}_{0},g_{2},g_{3} \\right)}\\right)}{2}}}{\\sigma^{3}{\\left({\\xi}_{0},g_{2},g_{3} \\right)}}$"
      ],
      "text/plain": [
       "Eq(exp(3*c), exp(-z0*(alpha + 6*zw(xi[0], g2, g3))/2)/sigma(xi[0], g2, g3)**3)"
      ]
     },
     "execution_count": 104,
     "metadata": {},
     "output_type": "execute_result"
    }
   ],
   "source": [
    "exp3c = Eq(exp(3*c),solve(2 + pwpUV_times_sigma3.rhs.subs(z,0).subs(sigma(-xi[0],g2,g3),-sigma(xi[0],g2,g3)),exp(3*c))[0])\n",
    "exp3c"
   ]
  },
  {
   "cell_type": "code",
   "execution_count": 105,
   "id": "6519347e-62d5-409b-b70d-db2a1a4f720d",
   "metadata": {},
   "outputs": [
    {
     "data": {
      "text/latex": [
       "$\\displaystyle e^{c} = \\frac{e^{- \\frac{z_{0} \\left(\\alpha + 6 \\operatorname{zw}{\\left({\\xi}_{0},g_{2},g_{3} \\right)}\\right)}{6}} e^{\\frac{2 i \\pi n}{3}}}{\\sigma{\\left({\\xi}_{0},g_{2},g_{3} \\right)}}$"
      ],
      "text/plain": [
       "Eq(exp(c), exp(-z0*(alpha + 6*zw(xi[0], g2, g3))/6)*exp(2*I*pi*n/3)/sigma(xi[0], g2, g3))"
      ]
     },
     "execution_count": 105,
     "metadata": {},
     "output_type": "execute_result"
    }
   ],
   "source": [
    "expc = Eq(exp(c), exp(-z0*(alpha+6*zw(xi[0],g2,g3))/6)/sigma(xi[0],g2,g3)*exp(2*I*pi*n/3))\n",
    "expc"
   ]
  },
  {
   "cell_type": "code",
   "execution_count": 106,
   "id": "3ab7c0e1-96a1-4782-90b5-8e6a09548200",
   "metadata": {},
   "outputs": [
    {
     "data": {
      "text/latex": [
       "$\\displaystyle U{\\left(z + z_{0} \\right)} = \\frac{\\sigma{\\left(z - {\\xi}_{0},g_{2},g_{3} \\right)} e^{\\frac{\\alpha z}{6} + \\frac{2 i \\pi n}{3} + z \\operatorname{zw}{\\left({\\xi}_{0},g_{2},g_{3} \\right)}}}{\\sigma{\\left(z,g_{2},g_{3} \\right)} \\sigma{\\left({\\xi}_{0},g_{2},g_{3} \\right)}}$"
      ],
      "text/plain": [
       "Eq(U(z + z0), sigma(z - xi[0], g2, g3)*exp(alpha*z/6 + 2*I*pi*n/3 + z*zw(xi[0], g2, g3))/(sigma(z, g2, g3)*sigma(xi[0], g2, g3)))"
      ]
     },
     "execution_count": 106,
     "metadata": {},
     "output_type": "execute_result"
    },
    {
     "data": {
      "text/latex": [
       "$\\displaystyle V{\\left(z + z_{0} \\right)} = \\frac{\\sigma{\\left(z + {\\xi}_{0},g_{2},g_{3} \\right)} e^{- \\frac{\\alpha z}{6} - \\frac{2 i \\pi n}{3} - z \\operatorname{zw}{\\left({\\xi}_{0},g_{2},g_{3} \\right)}}}{\\sigma{\\left(z,g_{2},g_{3} \\right)} \\sigma{\\left({\\xi}_{0},g_{2},g_{3} \\right)}}$"
      ],
      "text/plain": [
       "Eq(V(z + z0), sigma(z + xi[0], g2, g3)*exp(-alpha*z/6 - 2*I*pi*n/3 - z*zw(xi[0], g2, g3))/(sigma(z, g2, g3)*sigma(xi[0], g2, g3)))"
      ]
     },
     "execution_count": 106,
     "metadata": {},
     "output_type": "execute_result"
    }
   ],
   "source": [
    "Uz_sigma_no_c = Uz_sigma.expand().subs(*expc.args).subs(z,z+z0).simplify()\n",
    "Vz_sigma_no_c = Vz_sigma.expand().subs(*expc.args).subs(z,z+z0).simplify()\n",
    "Uz_sigma_no_c\n",
    "Vz_sigma_no_c"
   ]
  },
  {
   "cell_type": "code",
   "execution_count": 107,
   "id": "b8df4045-01e3-4674-a558-1b4520944700",
   "metadata": {},
   "outputs": [
    {
     "data": {
      "text/latex": [
       "$\\displaystyle U{\\left(- z + z_{0} + 2 {\\xi}_{0} \\right)} = \\frac{\\sigma{\\left(- z + {\\xi}_{0},g_{2},g_{3} \\right)} e^{\\frac{\\alpha \\left(- z + 2 {\\xi}_{0}\\right)}{6} + \\frac{2 i \\pi n}{3} + \\left(- z + 2 {\\xi}_{0}\\right) \\operatorname{zw}{\\left({\\xi}_{0},g_{2},g_{3} \\right)}}}{\\sigma{\\left(- z + 2 {\\xi}_{0},g_{2},g_{3} \\right)} \\sigma{\\left({\\xi}_{0},g_{2},g_{3} \\right)}}$"
      ],
      "text/plain": [
       "Eq(U(-z + z0 + 2*xi[0]), sigma(-z + xi[0], g2, g3)*exp(alpha*(-z + 2*xi[0])/6 + 2*I*pi*n/3 + (-z + 2*xi[0])*zw(xi[0], g2, g3))/(sigma(-z + 2*xi[0], g2, g3)*sigma(xi[0], g2, g3)))"
      ]
     },
     "execution_count": 107,
     "metadata": {},
     "output_type": "execute_result"
    },
    {
     "data": {
      "text/latex": [
       "$\\displaystyle V{\\left(- z + z_{0} + 2 {\\xi}_{0} \\right)} = \\frac{\\sigma{\\left(- z + 3 {\\xi}_{0},g_{2},g_{3} \\right)} e^{- \\frac{\\alpha \\left(- z + 2 {\\xi}_{0}\\right)}{6} - \\frac{2 i \\pi n}{3} - \\left(- z + 2 {\\xi}_{0}\\right) \\operatorname{zw}{\\left({\\xi}_{0},g_{2},g_{3} \\right)}}}{\\sigma{\\left(- z + 2 {\\xi}_{0},g_{2},g_{3} \\right)} \\sigma{\\left({\\xi}_{0},g_{2},g_{3} \\right)}}$"
      ],
      "text/plain": [
       "Eq(V(-z + z0 + 2*xi[0]), sigma(-z + 3*xi[0], g2, g3)*exp(-alpha*(-z + 2*xi[0])/6 - 2*I*pi*n/3 - (-z + 2*xi[0])*zw(xi[0], g2, g3))/(sigma(-z + 2*xi[0], g2, g3)*sigma(xi[0], g2, g3)))"
      ]
     },
     "execution_count": 107,
     "metadata": {},
     "output_type": "execute_result"
    }
   ],
   "source": [
    "Uz_sigma_no_c.subs(z,2*xi[0] - z)\n",
    "Vz_sigma_no_c.subs(z,2*xi[0] - z)"
   ]
  },
  {
   "cell_type": "code",
   "execution_count": 108,
   "id": "1fe9c66b-a9cf-4822-ab6d-5deacaf1076c",
   "metadata": {},
   "outputs": [
    {
     "data": {
      "text/latex": [
       "$\\displaystyle U{\\left(z + z_{0} + {\\xi}_{0} \\right)} = \\frac{e^{\\left(\\frac{\\alpha}{6} + \\operatorname{zw}{\\left({\\xi}_{0},g_{2},g_{3} \\right)}\\right) {\\xi}_{0}}}{V{\\left(z + z_{0} \\right)} \\sigma^{2}{\\left({\\xi}_{0},g_{2},g_{3} \\right)}}$"
      ],
      "text/plain": [
       "Eq(U(z + z0 + xi[0]), exp((alpha/6 + zw(xi[0], g2, g3))*xi[0])/(V(z + z0)*sigma(xi[0], g2, g3)**2))"
      ]
     },
     "execution_count": 108,
     "metadata": {},
     "output_type": "execute_result"
    },
    {
     "data": {
      "text/latex": [
       "$\\displaystyle V{\\left(z + z_{0} + {\\xi}_{0} \\right)} = \\frac{e^{\\left(\\frac{\\alpha}{6} + \\operatorname{zw}{\\left({\\xi}_{0},g_{2},g_{3} \\right)}\\right) {\\xi}_{0}}}{U{\\left(z + z_{0} + 2 {\\xi}_{0} \\right)} \\sigma^{2}{\\left({\\xi}_{0},g_{2},g_{3} \\right)}}$"
      ],
      "text/plain": [
       "Eq(V(z + z0 + xi[0]), exp((alpha/6 + zw(xi[0], g2, g3))*xi[0])/(U(z + z0 + 2*xi[0])*sigma(xi[0], g2, g3)**2))"
      ]
     },
     "execution_count": 108,
     "metadata": {},
     "output_type": "execute_result"
    }
   ],
   "source": [
    "Uz_sigma_no_c_1_xi0 = Eq(Uz_sigma_no_c.lhs.subs(z, z+xi[0]), Uz_sigma_no_c.rhs.subs(z, z+xi[0])*Vz_sigma_no_c.rhs/Vz_sigma_no_c.lhs).simplify()\n",
    "Vz_sigma_no_c_1_xi0 = Eq(Vz_sigma_no_c.lhs.subs(z, z+xi[0]), \n",
    "                         Vz_sigma_no_c.rhs.subs(z, z+xi[0])*(Uz_sigma_no_c.rhs/Uz_sigma_no_c.lhs).subs(z,z+2*xi[0])).simplify()\n",
    "Uz_sigma_no_c_1_xi0\n",
    "Vz_sigma_no_c_1_xi0"
   ]
  },
  {
   "cell_type": "code",
   "execution_count": 109,
   "id": "b0cdea8e-3362-40a2-b7f4-0f1cace71bbb",
   "metadata": {},
   "outputs": [
    {
     "data": {
      "text/latex": [
       "$\\displaystyle U{\\left(z + z_{0} + 2 {\\xi}_{0} \\right)} = \\frac{U{\\left(z + z_{0} + {\\xi}_{0} \\right)} V{\\left(z + z_{0} \\right)}}{V{\\left(z + z_{0} + {\\xi}_{0} \\right)}}$"
      ],
      "text/plain": [
       "Eq(U(z + z0 + 2*xi[0]), U(z + z0 + xi[0])*V(z + z0)/V(z + z0 + xi[0]))"
      ]
     },
     "execution_count": 109,
     "metadata": {},
     "output_type": "execute_result"
    }
   ],
   "source": [
    "Uz_sigma_no_c_2_xi0 = Eq(Uz_sigma_no_c.lhs.subs(z, z+2*xi[0]), \n",
    "   Uz_sigma_no_c.rhs.subs(z, z+2*xi[0])\n",
    "   *(Vz_sigma_no_c.rhs/Vz_sigma_no_c.lhs).subs(z,z+xi[0])\n",
    "   /(Uz_sigma_no_c.rhs/Uz_sigma_no_c.lhs).subs(z,z+xi[0])\n",
    "   /(Vz_sigma_no_c.rhs/Vz_sigma_no_c.lhs)\n",
    "  ).simplify()\n",
    "Uz_sigma_no_c_2_xi0"
   ]
  },
  {
   "cell_type": "code",
   "execution_count": 110,
   "id": "51667c3b-08ae-493d-9b0f-94e149949b7f",
   "metadata": {},
   "outputs": [
    {
     "data": {
      "text/latex": [
       "$\\displaystyle U{\\left(z + z_{0} + 2 {\\xi}_{0} \\right)} = \\frac{e^{\\left(\\frac{\\alpha}{6} + \\operatorname{zw}{\\left({\\xi}_{0},g_{2},g_{3} \\right)}\\right) {\\xi}_{0}}}{V{\\left(z + z_{0} + {\\xi}_{0} \\right)} \\sigma^{2}{\\left({\\xi}_{0},g_{2},g_{3} \\right)}}$"
      ],
      "text/plain": [
       "Eq(U(z + z0 + 2*xi[0]), exp((alpha/6 + zw(xi[0], g2, g3))*xi[0])/(V(z + z0 + xi[0])*sigma(xi[0], g2, g3)**2))"
      ]
     },
     "execution_count": 110,
     "metadata": {},
     "output_type": "execute_result"
    }
   ],
   "source": [
    "Uz_sigma_no_c_2_xi0.subs(*Uz_sigma_no_c_1_xi0.args)"
   ]
  },
  {
   "cell_type": "code",
   "execution_count": 111,
   "id": "bebbcb49-b574-4bf3-b168-a820565aac1c",
   "metadata": {},
   "outputs": [
    {
     "data": {
      "text/latex": [
       "$\\displaystyle U{\\left(z + z_{0} + 3 {\\xi}_{0} \\right)} = \\frac{U{\\left(z + z_{0} + 2 {\\xi}_{0} \\right)} V{\\left(z + z_{0} + {\\xi}_{0} \\right)}}{V{\\left(z + z_{0} + 2 {\\xi}_{0} \\right)}}$"
      ],
      "text/plain": [
       "Eq(U(z + z0 + 3*xi[0]), U(z + z0 + 2*xi[0])*V(z + z0 + xi[0])/V(z + z0 + 2*xi[0]))"
      ]
     },
     "execution_count": 111,
     "metadata": {},
     "output_type": "execute_result"
    }
   ],
   "source": [
    "Uz_sigma_no_c_3_xi0 = Uz_sigma_no_c_2_xi0.subs(z,z+xi[0])\n",
    "Uz_sigma_no_c_3_xi0"
   ]
  },
  {
   "cell_type": "code",
   "execution_count": 112,
   "id": "79e02f0b-dabf-4d4e-a84e-063079053eeb",
   "metadata": {},
   "outputs": [
    {
     "data": {
      "text/latex": [
       "$\\displaystyle U{\\left(z + z_{0} + 3 {\\xi}_{0} \\right)} = \\frac{e^{\\left(\\frac{\\alpha}{6} + \\operatorname{zw}{\\left({\\xi}_{0},g_{2},g_{3} \\right)}\\right) {\\xi}_{0}}}{V{\\left(z + z_{0} + 2 {\\xi}_{0} \\right)} \\sigma^{2}{\\left({\\xi}_{0},g_{2},g_{3} \\right)}}$"
      ],
      "text/plain": [
       "Eq(U(z + z0 + 3*xi[0]), exp((alpha/6 + zw(xi[0], g2, g3))*xi[0])/(V(z + z0 + 2*xi[0])*sigma(xi[0], g2, g3)**2))"
      ]
     },
     "execution_count": 112,
     "metadata": {},
     "output_type": "execute_result"
    }
   ],
   "source": [
    "Uz_sigma_no_c_3_xi0.subs(*Vz_sigma_no_c_1_xi0.args)"
   ]
  },
  {
   "cell_type": "markdown",
   "id": "0fc584cf-c0e8-4501-b785-6f07fb3ed525",
   "metadata": {},
   "source": [
    "#### On the special value of $\\xi_0$"
   ]
  },
  {
   "cell_type": "code",
   "execution_count": 113,
   "id": "f5c56072-dabb-4b7d-ac8b-ab76c586e0de",
   "metadata": {},
   "outputs": [
    {
     "data": {
      "text/latex": [
       "$\\displaystyle \\frac{\\sigma{\\left(3 z,g_{2},g_{3} \\right)}}{\\sigma^{9}{\\left(z,g_{2},g_{3} \\right)}} = - \\frac{\\left(- \\frac{g_{2}}{2} + 6 \\operatorname{pw}^{2}{\\left(z,g_{2},g_{3} \\right)}\\right)^{2}}{4} + 3 \\operatorname{pw}{\\left(z,g_{2},g_{3} \\right)} \\operatorname{pwp}^{2}{\\left(z,g_{2},g_{3} \\right)}$"
      ],
      "text/plain": [
       "Eq(sigma(3*z, g2, g3)/sigma(z, g2, g3)**9, -(-g2/2 + 6*pw(z, g2, g3)**2)**2/4 + 3*pw(z, g2, g3)*pwp(z, g2, g3)**2)"
      ]
     },
     "execution_count": 113,
     "metadata": {},
     "output_type": "execute_result"
    }
   ],
   "source": [
    "sigma_3zb"
   ]
  },
  {
   "cell_type": "code",
   "execution_count": 114,
   "id": "e3d99fa1-42af-4284-87ce-d75a26d93dae",
   "metadata": {},
   "outputs": [
    {
     "data": {
      "text/latex": [
       "$\\displaystyle \\frac{\\sigma{\\left(3 {\\xi}_{0},g_{2},g_{3} \\right)}}{\\sigma^{9}{\\left({\\xi}_{0},g_{2},g_{3} \\right)}} = 0$"
      ],
      "text/plain": [
       "Eq(sigma(3*xi[0], g2, g3)/sigma(xi[0], g2, g3)**9, 0)"
      ]
     },
     "execution_count": 114,
     "metadata": {},
     "output_type": "execute_result"
    }
   ],
   "source": [
    "Eq(sigma_3zb.lhs.subs(z,xi[0]), sigma_3zb.rhs.subs(z,xi[0]).subs([pwp_p_UV.args, xi_0_alpha_UV.args, g2_UV.args]))"
   ]
  },
  {
   "cell_type": "code",
   "execution_count": 115,
   "id": "4a595a00-00e2-4c39-b921-c501c1e2c7ba",
   "metadata": {},
   "outputs": [
    {
     "data": {
      "text/latex": [
       "$\\displaystyle {\\xi}_{0} = \\frac{2 m \\omega_{3}}{3} + \\frac{2 n \\omega_{1}}{3}$"
      ],
      "text/plain": [
       "Eq(xi[0], 2*m*omega3/3 + 2*n*omega1/3)"
      ]
     },
     "execution_count": 115,
     "metadata": {},
     "output_type": "execute_result"
    }
   ],
   "source": [
    "xi_0_omega_1_3 = Eq(xi[0], 2*n*omega1/3 +2*m*omega3/3)\n",
    "xi0_3_w1w3 = Eq(3*xi_0_omega_1_3.lhs, 3*xi_0_omega_1_3.rhs)\n",
    "xi_0_omega_1_3"
   ]
  },
  {
   "cell_type": "markdown",
   "id": "2671b8e7-dce0-4edf-9955-44c918460836",
   "metadata": {},
   "source": [
    "### Zeta identity"
   ]
  },
  {
   "cell_type": "code",
   "execution_count": 116,
   "id": "15b6dfc8-2e8f-4af2-9304-186b759ac081",
   "metadata": {},
   "outputs": [
    {
     "data": {
      "text/latex": [
       "$\\displaystyle \\operatorname{zw}{\\left(2 {\\xi}_{0},g_{2},g_{3} \\right)} = 2 \\eta_{1} n + 2 \\eta_{3} m - \\operatorname{zw}{\\left({\\xi}_{0},g_{2},g_{3} \\right)}$"
      ],
      "text/plain": [
       "Eq(zw(2*xi[0], g2, g3), 2*eta1*n + 2*eta3*m - zw(xi[0], g2, g3))"
      ]
     },
     "execution_count": 116,
     "metadata": {},
     "output_type": "execute_result"
    }
   ],
   "source": [
    "zw_quasi_eq_xi0 = zw_quasi_eq.subs(z,-xi[0]).subs(zw(-xi[0],g2,g3),-zw(xi[0],g2,g3)).subs(xi0_3_w1w3.rhs, xi0_3_w1w3.lhs)\n",
    "zw_quasi_eq_xi0"
   ]
  },
  {
   "cell_type": "code",
   "execution_count": 117,
   "id": "aa973de0-0299-4339-af11-298584704d36",
   "metadata": {},
   "outputs": [
    {
     "data": {
      "text/latex": [
       "$\\displaystyle \\operatorname{zw}{\\left(2 {\\xi}_{0},g_{2},g_{3} \\right)} = \\frac{- \\frac{g_{2}}{2} + 6 \\operatorname{pw}^{2}{\\left({\\xi}_{0},g_{2},g_{3} \\right)}}{2 \\operatorname{pwp}{\\left({\\xi}_{0},g_{2},g_{3} \\right)}} + 2 \\operatorname{zw}{\\left({\\xi}_{0},g_{2},g_{3} \\right)}$"
      ],
      "text/plain": [
       "Eq(zw(2*xi[0], g2, g3), (-g2/2 + 6*pw(xi[0], g2, g3)**2)/(2*pwp(xi[0], g2, g3)) + 2*zw(xi[0], g2, g3))"
      ]
     },
     "execution_count": 117,
     "metadata": {},
     "output_type": "execute_result"
    }
   ],
   "source": [
    "zw2z_2zwz_pw_pwp.subs(z,xi[0])"
   ]
  },
  {
   "cell_type": "code",
   "execution_count": 118,
   "id": "c80bea61-41a0-4add-8563-ed79ec02f781",
   "metadata": {},
   "outputs": [
    {
     "data": {
      "text/latex": [
       "$\\displaystyle \\operatorname{pwp}{\\left({\\xi}_{0},g_{2},g_{3} \\right)} = p$"
      ],
      "text/plain": [
       "Eq(pwp(xi[0], g2, g3), p)"
      ]
     },
     "execution_count": 118,
     "metadata": {},
     "output_type": "execute_result"
    },
    {
     "data": {
      "text/latex": [
       "$\\displaystyle g_{2} = \\frac{\\alpha^{4}}{12} - 2 \\alpha p$"
      ],
      "text/plain": [
       "Eq(g2, alpha**4/12 - 2*alpha*p)"
      ]
     },
     "execution_count": 118,
     "metadata": {},
     "output_type": "execute_result"
    },
    {
     "data": {
      "text/latex": [
       "$\\displaystyle \\operatorname{pw}{\\left({\\xi}_{0},g_{2},g_{3} \\right)} = \\frac{\\alpha^{2}}{12}$"
      ],
      "text/plain": [
       "Eq(pw(xi[0], g2, g3), alpha**2/12)"
      ]
     },
     "execution_count": 118,
     "metadata": {},
     "output_type": "execute_result"
    }
   ],
   "source": [
    "pwp_p_UV \n",
    "g2_UV \n",
    "xi_0_alpha_UV"
   ]
  },
  {
   "cell_type": "code",
   "execution_count": 119,
   "id": "c423c76a-c183-437f-86a0-01325e8dd84e",
   "metadata": {},
   "outputs": [
    {
     "data": {
      "text/latex": [
       "$\\displaystyle \\operatorname{zw}{\\left(2 {\\xi}_{0},g_{2},g_{3} \\right)} = \\frac{\\alpha}{2} + 2 \\operatorname{zw}{\\left({\\xi}_{0},g_{2},g_{3} \\right)}$"
      ],
      "text/plain": [
       "Eq(zw(2*xi[0], g2, g3), alpha/2 + 2*zw(xi[0], g2, g3))"
      ]
     },
     "execution_count": 119,
     "metadata": {},
     "output_type": "execute_result"
    }
   ],
   "source": [
    "zw_2_xi0_1_xi0_alpha = Eq(zw2z_2zwz_pw_pwp.lhs.subs(z,xi[0]) , \n",
    "   2*zw(xi[0],g2,g3) + \n",
    "   (zw2z_2zwz_pw_pwp.rhs - 2*zw(xi[0],g2,g3)).subs(z,xi[0]).subs([pwp_p_UV.args, xi_0_alpha_UV.args, g2_UV.args]) \n",
    "  )\n",
    "zw_2_xi0_1_xi0_alpha"
   ]
  },
  {
   "cell_type": "code",
   "execution_count": 120,
   "id": "2a49a47a-3f0f-418b-92d4-c3d7b2140acb",
   "metadata": {},
   "outputs": [
    {
     "data": {
      "text/latex": [
       "$\\displaystyle \\frac{\\alpha}{2} + 3 \\operatorname{zw}{\\left({\\xi}_{0},g_{2},g_{3} \\right)} = 2 \\eta_{1} n + 2 \\eta_{3} m$"
      ],
      "text/plain": [
       "Eq(alpha/2 + 3*zw(xi[0], g2, g3), 2*eta1*n + 2*eta3*m)"
      ]
     },
     "execution_count": 120,
     "metadata": {},
     "output_type": "execute_result"
    }
   ],
   "source": [
    "alpha_xi0_eta1_eta3 = Eq(zw_quasi_eq_xi0.lhs + zw(xi[0],g2,g3), zw_quasi_eq_xi0.rhs + zw(xi[0],g2,g3)).subs(*zw_2_xi0_1_xi0_alpha.args)\n",
    "alpha_xi0_eta1_eta3"
   ]
  },
  {
   "cell_type": "markdown",
   "id": "5faad1ca-e578-46c0-afa3-2d74760f50f4",
   "metadata": {},
   "source": [
    "#### On periodicity"
   ]
  },
  {
   "cell_type": "code",
   "execution_count": 121,
   "id": "663304b5-67fe-4131-8183-11f13c64cd22",
   "metadata": {},
   "outputs": [
    {
     "data": {
      "text/latex": [
       "$\\displaystyle \\sigma{\\left(2 m \\omega_{3} + 2 n \\omega_{1} + z,g_{2},g_{3} \\right)} = \\left(-1\\right)^{m n + m + n} \\sigma{\\left(z,g_{2},g_{3} \\right)} e^{2 \\eta_{1} m n \\omega_{3} + 2 \\eta_{1} n^{2} \\omega_{1} + 2 \\eta_{1} n z + 2 \\eta_{3} m^{2} \\omega_{3} + 2 \\eta_{3} m n \\omega_{1} + 2 \\eta_{3} m z}$"
      ],
      "text/plain": [
       "Eq(sigma(2*m*omega3 + 2*n*omega1 + z, g2, g3), (-1)**(m*n + m + n)*sigma(z, g2, g3)*exp(2*eta1*m*n*omega3 + 2*eta1*n**2*omega1 + 2*eta1*n*z + 2*eta3*m**2*omega3 + 2*eta3*m*n*omega1 + 2*eta3*m*z))"
      ]
     },
     "execution_count": 121,
     "metadata": {},
     "output_type": "execute_result"
    }
   ],
   "source": [
    "sigma_period_eq_sym_nm"
   ]
  },
  {
   "cell_type": "code",
   "execution_count": 122,
   "id": "3aaba471-f2b8-4199-8a6d-c947f9eaa1d5",
   "metadata": {},
   "outputs": [
    {
     "data": {
      "text/latex": [
       "$\\displaystyle U{\\left(z \\right)} = \\frac{U{\\left(0 \\right)} \\sigma{\\left(- z_{0},g_{2},g_{3} \\right)} \\sigma{\\left(z - z_{0} - {\\xi}_{0},g_{2},g_{3} \\right)} e^{\\frac{z \\left(\\alpha + 6 \\operatorname{zw}{\\left({\\xi}_{0},g_{2},g_{3} \\right)}\\right)}{6}}}{\\sigma{\\left(z - z_{0},g_{2},g_{3} \\right)} \\sigma{\\left(- z_{0} - {\\xi}_{0},g_{2},g_{3} \\right)}}$"
      ],
      "text/plain": [
       "Eq(U(z), U(0)*sigma(-z0, g2, g3)*sigma(z - z0 - xi[0], g2, g3)*exp(z*(alpha + 6*zw(xi[0], g2, g3))/6)/(sigma(z - z0, g2, g3)*sigma(-z0 - xi[0], g2, g3)))"
      ]
     },
     "execution_count": 122,
     "metadata": {},
     "output_type": "execute_result"
    }
   ],
   "source": [
    "Uz_Uz0"
   ]
  },
  {
   "cell_type": "code",
   "execution_count": 123,
   "id": "0586ef08-6290-4737-9f2f-8e0c5d6fc539",
   "metadata": {},
   "outputs": [
    {
     "data": {
      "text/latex": [
       "$\\displaystyle \\frac{U{\\left(z \\right)}}{U{\\left(2 m \\omega_{3} + 2 n \\omega_{1} + z \\right)}} = e^{- \\frac{\\alpha m \\omega_{3}}{3} - \\frac{\\alpha n \\omega_{1}}{3} + 2 \\eta_{1} n {\\xi}_{0} + 2 \\eta_{3} m {\\xi}_{0} - 2 m \\omega_{3} \\operatorname{zw}{\\left({\\xi}_{0},g_{2},g_{3} \\right)} - 2 n \\omega_{1} \\operatorname{zw}{\\left({\\xi}_{0},g_{2},g_{3} \\right)}}$"
      ],
      "text/plain": [
       "Eq(U(z)/U(2*m*omega3 + 2*n*omega1 + z), exp(-alpha*m*omega3/3 - alpha*n*omega1/3 + 2*eta1*n*xi[0] + 2*eta3*m*xi[0] - 2*m*omega3*zw(xi[0], g2, g3) - 2*n*omega1*zw(xi[0], g2, g3)))"
      ]
     },
     "execution_count": 123,
     "metadata": {},
     "output_type": "execute_result"
    }
   ],
   "source": [
    "quasi_phase_shift = Eq(\n",
    "    Uz_Uz0.lhs/Uz_Uz0.lhs.subs(z,z+2*m*omega3+2*n*omega1), \n",
    "    Uz_Uz0.rhs/Uz_Uz0.rhs.subs(z,z+2*m*omega3+2*n*omega1)\n",
    "  ).subs(\n",
    "    [sigma_period_eq_sym_nm.subs(z,z-z0).args, sigma_period_eq_sym_nm.subs(z,z-z0-xi[0]).args]\n",
    "  ).simplify()\n",
    "quasi_phase_shift"
   ]
  },
  {
   "cell_type": "code",
   "execution_count": 124,
   "id": "34ac3abe-3216-4055-89fc-1f28f438102a",
   "metadata": {},
   "outputs": [
    {
     "data": {
      "text/latex": [
       "$\\displaystyle \\rho = \\frac{\\alpha}{6} + \\operatorname{zw}{\\left({\\xi}_{0},g_{2},g_{3} \\right)}$"
      ],
      "text/plain": [
       "Eq(rho, alpha/6 + zw(xi[0], g2, g3))"
      ]
     },
     "execution_count": 124,
     "metadata": {},
     "output_type": "execute_result"
    }
   ],
   "source": [
    "rho_alpha_zw_UV = Eq(rho, alpha/6 + zw(xi[0],g2,g3))\n",
    "rho_alpha_zw_UV"
   ]
  },
  {
   "cell_type": "markdown",
   "id": "ddbda681-00b2-48ee-8e28-4f5620e8b5a9",
   "metadata": {},
   "source": [
    "The function $U(z)$ is doubly periodic iff for all integers $n$ and $m$ there exist integer $k$ such that:"
   ]
  },
  {
   "cell_type": "code",
   "execution_count": 125,
   "id": "4b2ef2c1-9ae6-4923-92e9-33cffe3228dd",
   "metadata": {},
   "outputs": [
    {
     "data": {
      "text/latex": [
       "$\\displaystyle - 2 \\rho \\left(m \\omega_{3} + n \\omega_{1}\\right) + 2 \\left(\\eta_{1} n + \\eta_{3} m\\right) {\\xi}_{0} = 2 i \\pi k$"
      ],
      "text/plain": [
       "Eq(-2*rho*(m*omega3 + n*omega1) + 2*(eta1*n + eta3*m)*xi[0], 2*I*pi*k)"
      ]
     },
     "execution_count": 125,
     "metadata": {},
     "output_type": "execute_result"
    }
   ],
   "source": [
    "U_periodicity_condition = Eq(\n",
    "    quasi_phase_shift.rhs.args[0].subs(alpha, solve(rho_alpha_zw_UV,alpha)[0]).expand().collect(rho, factor),\n",
    "    2*k*I*pi\n",
    ")\n",
    "U_periodicity_condition"
   ]
  },
  {
   "cell_type": "code",
   "execution_count": 126,
   "id": "cc1b043c-184d-445e-87cb-1b043bf468bb",
   "metadata": {},
   "outputs": [
    {
     "data": {
      "text/latex": [
       "$\\displaystyle 0 = 2 i \\pi k$"
      ],
      "text/plain": [
       "Eq(0, 2*I*pi*k)"
      ]
     },
     "execution_count": 126,
     "metadata": {},
     "output_type": "execute_result"
    }
   ],
   "source": [
    "U_periodicity_condition.subs([\n",
    "    rho_alpha_zw_UV.args, \n",
    "    (alpha_xi0_eta1_eta3.lhs/3, alpha_xi0_eta1_eta3.rhs/3)]).subs(*xi_0_omega_1_3.args).expand()"
   ]
  },
  {
   "cell_type": "code",
   "execution_count": 127,
   "id": "7a74e88e-6c9e-4571-92c1-3bb8cdcaefc5",
   "metadata": {},
   "outputs": [
    {
     "data": {
      "text/latex": [
       "$\\displaystyle e^{4 z \\left(\\eta_{1} n + \\eta_{3} m\\right)} = - \\frac{\\sigma{\\left(2 m \\omega_{3} + 2 n \\omega_{1} + z,g_{2},g_{3} \\right)}}{\\sigma{\\left(2 m \\omega_{3} + 2 n \\omega_{1} - z,g_{2},g_{3} \\right)}}$"
      ],
      "text/plain": [
       "Eq(exp(4*z*(eta1*n + eta3*m)), -sigma(2*m*omega3 + 2*n*omega1 + z, g2, g3)/sigma(2*m*omega3 + 2*n*omega1 - z, g2, g3))"
      ]
     },
     "execution_count": 127,
     "metadata": {},
     "output_type": "execute_result"
    }
   ],
   "source": [
    "eta1_eta_3_4z_sigma = Eq(\n",
    "    sigma_period_eq_sym_nm.lhs/sigma_period_eq_sym_nm.lhs.subs(z,-z), \n",
    "    sigma_period_eq_sym_nm.rhs/sigma_period_eq_sym_nm.rhs.subs(z,-z)\n",
    ").subs(sigma(-z,g2,g3),-sigma(z,g2,g3)).simplify()\n",
    "eta1_eta_3_4z_sigma"
   ]
  },
  {
   "cell_type": "code",
   "execution_count": 128,
   "id": "53f71e95-d13f-4797-b350-80c47469c2ee",
   "metadata": {},
   "outputs": [
    {
     "data": {
      "text/latex": [
       "$\\displaystyle e^{\\frac{\\alpha z}{6}} e^{z \\operatorname{zw}{\\left({\\xi}_{0},g_{2},g_{3} \\right)}} = - \\frac{\\sigma{\\left(\\frac{z}{6} + 3 {\\xi}_{0},g_{2},g_{3} \\right)}}{\\sigma{\\left(- \\frac{z}{6} + 3 {\\xi}_{0},g_{2},g_{3} \\right)}}$"
      ],
      "text/plain": [
       "Eq(exp(alpha*z/6)*exp(z*zw(xi[0], g2, g3)), -sigma(z/6 + 3*xi[0], g2, g3)/sigma(-z/6 + 3*xi[0], g2, g3))"
      ]
     },
     "execution_count": 128,
     "metadata": {},
     "output_type": "execute_result"
    }
   ],
   "source": [
    "exp_alpha_z_zw_sigma = eta1_eta_3_4z_sigma.subs(z,z/6).subs([\n",
    "    ((alpha_xi0_eta1_eta3.rhs*z).factor(), alpha_xi0_eta1_eta3.lhs*z), (xi_0_omega_1_3.rhs*3, xi_0_omega_1_3.lhs*3)\n",
    "]).expand()\n",
    "exp_alpha_z_zw_sigma"
   ]
  },
  {
   "cell_type": "code",
   "execution_count": 129,
   "id": "fe12509c-460d-4172-804a-541b321aa625",
   "metadata": {},
   "outputs": [
    {
     "data": {
      "text/latex": [
       "$\\displaystyle U{\\left(z + z_{0} \\right)} = - \\frac{\\sigma{\\left(\\frac{z}{6} + 3 {\\xi}_{0},g_{2},g_{3} \\right)} \\sigma{\\left(z - {\\xi}_{0},g_{2},g_{3} \\right)} e^{\\frac{2 i \\pi n}{3}}}{\\sigma{\\left(z,g_{2},g_{3} \\right)} \\sigma{\\left(- \\frac{z}{6} + 3 {\\xi}_{0},g_{2},g_{3} \\right)} \\sigma{\\left({\\xi}_{0},g_{2},g_{3} \\right)}}$"
      ],
      "text/plain": [
       "Eq(U(z + z0), -sigma(z/6 + 3*xi[0], g2, g3)*sigma(z - xi[0], g2, g3)*exp(2*I*pi*n/3)/(sigma(z, g2, g3)*sigma(-z/6 + 3*xi[0], g2, g3)*sigma(xi[0], g2, g3)))"
      ]
     },
     "execution_count": 129,
     "metadata": {},
     "output_type": "execute_result"
    },
    {
     "data": {
      "text/latex": [
       "$\\displaystyle V{\\left(z + z_{0} \\right)} = - \\frac{\\sigma{\\left(- \\frac{z}{6} + 3 {\\xi}_{0},g_{2},g_{3} \\right)} \\sigma{\\left(z + {\\xi}_{0},g_{2},g_{3} \\right)} e^{- \\frac{2 i \\pi n}{3}}}{\\sigma{\\left(z,g_{2},g_{3} \\right)} \\sigma{\\left(\\frac{z}{6} + 3 {\\xi}_{0},g_{2},g_{3} \\right)} \\sigma{\\left({\\xi}_{0},g_{2},g_{3} \\right)}}$"
      ],
      "text/plain": [
       "Eq(V(z + z0), -sigma(-z/6 + 3*xi[0], g2, g3)*sigma(z + xi[0], g2, g3)*exp(-2*I*pi*n/3)/(sigma(z, g2, g3)*sigma(z/6 + 3*xi[0], g2, g3)*sigma(xi[0], g2, g3)))"
      ]
     },
     "execution_count": 129,
     "metadata": {},
     "output_type": "execute_result"
    }
   ],
   "source": [
    "Uz_sigma_only_z0 = Eq(Uz_sigma_no_c.lhs, Uz_sigma_no_c.rhs*exp_alpha_z_zw_sigma.rhs/exp_alpha_z_zw_sigma.lhs).simplify()\n",
    "Vz_sigma_only_z0 = Eq(Vz_sigma_no_c.lhs, Vz_sigma_no_c.rhs*exp_alpha_z_zw_sigma.lhs/exp_alpha_z_zw_sigma.rhs).simplify()\n",
    "Uz_sigma_only_z0\n",
    "Vz_sigma_only_z0"
   ]
  },
  {
   "cell_type": "code",
   "execution_count": 130,
   "id": "b82daa76-e010-44fd-af0a-b896a5d5e596",
   "metadata": {},
   "outputs": [
    {
     "data": {
      "text/latex": [
       "$\\displaystyle U{\\left(z \\right)} = - \\frac{\\sigma{\\left(\\frac{z}{6} - \\frac{z_{0}}{6} + 3 {\\xi}_{0},g_{2},g_{3} \\right)} \\sigma{\\left(z - z_{0} - {\\xi}_{0},g_{2},g_{3} \\right)} e^{\\frac{2 i \\pi n}{3}}}{\\sigma{\\left(z - z_{0},g_{2},g_{3} \\right)} \\sigma{\\left(- \\frac{z}{6} + \\frac{z_{0}}{6} + 3 {\\xi}_{0},g_{2},g_{3} \\right)} \\sigma{\\left({\\xi}_{0},g_{2},g_{3} \\right)}}$"
      ],
      "text/plain": [
       "Eq(U(z), -sigma(z/6 - z0/6 + 3*xi[0], g2, g3)*sigma(z - z0 - xi[0], g2, g3)*exp(2*I*pi*n/3)/(sigma(z - z0, g2, g3)*sigma(-z/6 + z0/6 + 3*xi[0], g2, g3)*sigma(xi[0], g2, g3)))"
      ]
     },
     "execution_count": 130,
     "metadata": {},
     "output_type": "execute_result"
    },
    {
     "data": {
      "text/latex": [
       "$\\displaystyle V{\\left(z \\right)} = - \\frac{\\sigma{\\left(- \\frac{z}{6} + \\frac{z_{0}}{6} + 3 {\\xi}_{0},g_{2},g_{3} \\right)} \\sigma{\\left(z - z_{0} + {\\xi}_{0},g_{2},g_{3} \\right)} e^{- \\frac{2 i \\pi n}{3}}}{\\sigma{\\left(z - z_{0},g_{2},g_{3} \\right)} \\sigma{\\left(\\frac{z}{6} - \\frac{z_{0}}{6} + 3 {\\xi}_{0},g_{2},g_{3} \\right)} \\sigma{\\left({\\xi}_{0},g_{2},g_{3} \\right)}}$"
      ],
      "text/plain": [
       "Eq(V(z), -sigma(-z/6 + z0/6 + 3*xi[0], g2, g3)*sigma(z - z0 + xi[0], g2, g3)*exp(-2*I*pi*n/3)/(sigma(z - z0, g2, g3)*sigma(z/6 - z0/6 + 3*xi[0], g2, g3)*sigma(xi[0], g2, g3)))"
      ]
     },
     "execution_count": 130,
     "metadata": {},
     "output_type": "execute_result"
    }
   ],
   "source": [
    "Uz_sigma_only = Uz_sigma_only_z0.subs(z, z-z0)\n",
    "Vz_sigma_only = Vz_sigma_only_z0.subs(z, z-z0)\n",
    "Uz_sigma_only\n",
    "Vz_sigma_only"
   ]
  },
  {
   "cell_type": "markdown",
   "id": "bad52891-3156-412d-a24b-69820bbda13a",
   "metadata": {},
   "source": [
    "#### Expressing the constant of motion exclusively in terms of Weierstrass sigma functions"
   ]
  },
  {
   "cell_type": "code",
   "execution_count": 131,
   "id": "29bddfb1-c592-4443-a418-053130616245",
   "metadata": {},
   "outputs": [
    {
     "data": {
      "text/latex": [
       "$\\displaystyle p = \\alpha U{\\left(z \\right)} V{\\left(z \\right)} + U^{3}{\\left(z \\right)} + V^{3}{\\left(z \\right)}$"
      ],
      "text/plain": [
       "Eq(p, alpha*U(z)*V(z) + U(z)**3 + V(z)**3)"
      ]
     },
     "execution_count": 131,
     "metadata": {},
     "output_type": "execute_result"
    }
   ],
   "source": [
    "potential_scaled_UV"
   ]
  },
  {
   "cell_type": "code",
   "execution_count": 132,
   "id": "e2e2fd28-d213-4670-abc6-c7b14ae45027",
   "metadata": {},
   "outputs": [
    {
     "data": {
      "text/latex": [
       "$\\displaystyle p = \\frac{\\alpha \\sigma{\\left(z - {\\xi}_{0},g_{2},g_{3} \\right)} \\sigma{\\left(z + {\\xi}_{0},g_{2},g_{3} \\right)}}{\\sigma^{2}{\\left(z,g_{2},g_{3} \\right)} \\sigma^{2}{\\left({\\xi}_{0},g_{2},g_{3} \\right)}} - \\frac{\\sigma^{3}{\\left(- \\frac{z}{6} + 3 {\\xi}_{0},g_{2},g_{3} \\right)} \\sigma^{3}{\\left(z + {\\xi}_{0},g_{2},g_{3} \\right)}}{\\sigma^{3}{\\left(z,g_{2},g_{3} \\right)} \\sigma^{3}{\\left(\\frac{z}{6} + 3 {\\xi}_{0},g_{2},g_{3} \\right)} \\sigma^{3}{\\left({\\xi}_{0},g_{2},g_{3} \\right)}} - \\frac{\\sigma^{3}{\\left(\\frac{z}{6} + 3 {\\xi}_{0},g_{2},g_{3} \\right)} \\sigma^{3}{\\left(z - {\\xi}_{0},g_{2},g_{3} \\right)}}{\\sigma^{3}{\\left(z,g_{2},g_{3} \\right)} \\sigma^{3}{\\left(- \\frac{z}{6} + 3 {\\xi}_{0},g_{2},g_{3} \\right)} \\sigma^{3}{\\left({\\xi}_{0},g_{2},g_{3} \\right)}}$"
      ],
      "text/plain": [
       "Eq(p, alpha*sigma(z - xi[0], g2, g3)*sigma(z + xi[0], g2, g3)/(sigma(z, g2, g3)**2*sigma(xi[0], g2, g3)**2) - sigma(-z/6 + 3*xi[0], g2, g3)**3*sigma(z + xi[0], g2, g3)**3/(sigma(z, g2, g3)**3*sigma(z/6 + 3*xi[0], g2, g3)**3*sigma(xi[0], g2, g3)**3) - sigma(z/6 + 3*xi[0], g2, g3)**3*sigma(z - xi[0], g2, g3)**3/(sigma(z, g2, g3)**3*sigma(-z/6 + 3*xi[0], g2, g3)**3*sigma(xi[0], g2, g3)**3))"
      ]
     },
     "execution_count": 132,
     "metadata": {},
     "output_type": "execute_result"
    }
   ],
   "source": [
    "potential_scaled_UV.subs([Uz_sigma_only.args, Vz_sigma_only.args]).subs([(n,0), (z, z + z0)])"
   ]
  },
  {
   "cell_type": "code",
   "execution_count": 133,
   "id": "f83a300c-a811-400d-855a-3d8e53bf1d4c",
   "metadata": {},
   "outputs": [
    {
     "data": {
      "text/latex": [
       "$\\displaystyle \\frac{\\alpha \\sigma{\\left(z,g_{2},g_{3} \\right)} \\sigma{\\left(z - {\\xi}_{0},g_{2},g_{3} \\right)} \\sigma{\\left(z + {\\xi}_{0},g_{2},g_{3} \\right)}}{\\sigma^{2}{\\left({\\xi}_{0},g_{2},g_{3} \\right)}} - \\frac{\\sigma^{3}{\\left(- \\frac{z}{6} + 3 {\\xi}_{0},g_{2},g_{3} \\right)} \\sigma^{3}{\\left(z + {\\xi}_{0},g_{2},g_{3} \\right)}}{\\sigma^{3}{\\left(\\frac{z}{6} + 3 {\\xi}_{0},g_{2},g_{3} \\right)} \\sigma^{3}{\\left({\\xi}_{0},g_{2},g_{3} \\right)}} - \\frac{\\sigma^{3}{\\left(\\frac{z}{6} + 3 {\\xi}_{0},g_{2},g_{3} \\right)} \\sigma^{3}{\\left(z - {\\xi}_{0},g_{2},g_{3} \\right)}}{\\sigma^{3}{\\left(- \\frac{z}{6} + 3 {\\xi}_{0},g_{2},g_{3} \\right)} \\sigma^{3}{\\left({\\xi}_{0},g_{2},g_{3} \\right)}}$"
      ],
      "text/plain": [
       "alpha*sigma(z, g2, g3)*sigma(z - xi[0], g2, g3)*sigma(z + xi[0], g2, g3)/sigma(xi[0], g2, g3)**2 - sigma(-z/6 + 3*xi[0], g2, g3)**3*sigma(z + xi[0], g2, g3)**3/(sigma(z/6 + 3*xi[0], g2, g3)**3*sigma(xi[0], g2, g3)**3) - sigma(z/6 + 3*xi[0], g2, g3)**3*sigma(z - xi[0], g2, g3)**3/(sigma(-z/6 + 3*xi[0], g2, g3)**3*sigma(xi[0], g2, g3)**3)"
      ]
     },
     "execution_count": 133,
     "metadata": {},
     "output_type": "execute_result"
    }
   ],
   "source": [
    "(potential_scaled_UV.subs([Uz_sigma_only.args, Vz_sigma_only.args]).subs([(n,0), (z, z + z0)]).rhs*sigma(z,g2,g3)**3).expand()"
   ]
  },
  {
   "cell_type": "code",
   "execution_count": 134,
   "id": "a0667480-fd89-406b-8105-0cdfd3e87564",
   "metadata": {},
   "outputs": [
    {
     "data": {
      "text/latex": [
       "$\\displaystyle p = \\frac{\\alpha \\sigma{\\left(z - z_{0} - {\\xi}_{0},g_{2},g_{3} \\right)} \\sigma{\\left(z - z_{0} + {\\xi}_{0},g_{2},g_{3} \\right)} e^{z \\left(\\frac{\\alpha}{6} + \\operatorname{zw}{\\left({\\xi}_{0},g_{2},g_{3} \\right)}\\right) + c} e^{- \\frac{\\alpha z}{6} - z \\operatorname{zw}{\\left({\\xi}_{0},g_{2},g_{3} \\right)} - c}}{\\sigma^{2}{\\left(z - z_{0},g_{2},g_{3} \\right)} \\sigma^{2}{\\left({\\xi}_{0},g_{2},g_{3} \\right)}} + \\frac{\\sigma^{3}{\\left(z - z_{0} - {\\xi}_{0},g_{2},g_{3} \\right)} e^{3 z \\left(\\frac{\\alpha}{6} + \\operatorname{zw}{\\left({\\xi}_{0},g_{2},g_{3} \\right)}\\right) + 3 c}}{\\sigma^{3}{\\left(z - z_{0},g_{2},g_{3} \\right)}} + \\frac{\\sigma^{3}{\\left(z - z_{0} + {\\xi}_{0},g_{2},g_{3} \\right)} e^{- \\frac{\\alpha z}{2} - 3 z \\operatorname{zw}{\\left({\\xi}_{0},g_{2},g_{3} \\right)} - 3 c}}{\\sigma^{3}{\\left(z - z_{0},g_{2},g_{3} \\right)} \\sigma^{6}{\\left({\\xi}_{0},g_{2},g_{3} \\right)}}$"
      ],
      "text/plain": [
       "Eq(p, alpha*sigma(z - z0 - xi[0], g2, g3)*sigma(z - z0 + xi[0], g2, g3)*exp(z*(alpha/6 + zw(xi[0], g2, g3)) + c)*exp(-alpha*z/6 - z*zw(xi[0], g2, g3) - c)/(sigma(z - z0, g2, g3)**2*sigma(xi[0], g2, g3)**2) + sigma(z - z0 - xi[0], g2, g3)**3*exp(3*z*(alpha/6 + zw(xi[0], g2, g3)) + 3*c)/sigma(z - z0, g2, g3)**3 + sigma(z - z0 + xi[0], g2, g3)**3*exp(-alpha*z/2 - 3*z*zw(xi[0], g2, g3) - 3*c)/(sigma(z - z0, g2, g3)**3*sigma(xi[0], g2, g3)**6))"
      ]
     },
     "execution_count": 134,
     "metadata": {},
     "output_type": "execute_result"
    }
   ],
   "source": [
    "puv_hesse = potential_scaled_UV.subs([Uz_sigma.args, Vz_sigma.args])\n",
    "puv_hesse"
   ]
  },
  {
   "cell_type": "code",
   "execution_count": 135,
   "id": "34542bdf-5923-45e8-bfc7-fe018d9eb6d2",
   "metadata": {},
   "outputs": [
    {
     "data": {
      "text/latex": [
       "$\\displaystyle p = \\frac{\\sigma^{3}{\\left(2 {\\xi}_{0},g_{2},g_{3} \\right)} e^{- \\frac{\\alpha \\left(z_{0} + {\\xi}_{0}\\right)}{2} - 3 \\left(z_{0} + {\\xi}_{0}\\right) \\operatorname{zw}{\\left({\\xi}_{0},g_{2},g_{3} \\right)} - 3 c}}{\\sigma^{9}{\\left({\\xi}_{0},g_{2},g_{3} \\right)}}$"
      ],
      "text/plain": [
       "Eq(p, sigma(2*xi[0], g2, g3)**3*exp(-alpha*(z0 + xi[0])/2 - 3*(z0 + xi[0])*zw(xi[0], g2, g3) - 3*c)/sigma(xi[0], g2, g3)**9)"
      ]
     },
     "execution_count": 135,
     "metadata": {},
     "output_type": "execute_result"
    }
   ],
   "source": [
    "potential_scaled_UV.subs([Uz_sigma.args, Vz_sigma.args]).subs(z,z0+xi[0]).subs(sigma(0,g2,g3),0)"
   ]
  },
  {
   "cell_type": "code",
   "execution_count": 136,
   "id": "7816f29a-9e42-4771-a267-4cea99ea61b8",
   "metadata": {},
   "outputs": [
    {
     "data": {
      "text/latex": [
       "$\\displaystyle p = \\frac{\\sigma^{3}{\\left(- 2 {\\xi}_{0},g_{2},g_{3} \\right)} e^{3 \\left(\\frac{\\alpha}{6} + \\operatorname{zw}{\\left({\\xi}_{0},g_{2},g_{3} \\right)}\\right) \\left(z_{0} - {\\xi}_{0}\\right) + 3 c}}{\\sigma^{3}{\\left(- {\\xi}_{0},g_{2},g_{3} \\right)}}$"
      ],
      "text/plain": [
       "Eq(p, sigma(-2*xi[0], g2, g3)**3*exp(3*(alpha/6 + zw(xi[0], g2, g3))*(z0 - xi[0]) + 3*c)/sigma(-xi[0], g2, g3)**3)"
      ]
     },
     "execution_count": 136,
     "metadata": {},
     "output_type": "execute_result"
    }
   ],
   "source": [
    "potential_scaled_UV.subs([Uz_sigma.args, Vz_sigma.args]).subs(z,z0-xi[0]).subs(sigma(0,g2,g3),0)"
   ]
  },
  {
   "cell_type": "code",
   "execution_count": 137,
   "id": "a8c697f3-7653-4be9-a7ab-6d48fc34088f",
   "metadata": {},
   "outputs": [
    {
     "data": {
      "text/latex": [
       "$\\displaystyle p = \\frac{\\alpha \\sigma{\\left(z - z_{0} - {\\xi}_{0},g_{2},g_{3} \\right)} \\sigma{\\left(z - z_{0} + {\\xi}_{0},g_{2},g_{3} \\right)}}{\\sigma^{2}{\\left(z - z_{0},g_{2},g_{3} \\right)} \\sigma^{2}{\\left({\\xi}_{0},g_{2},g_{3} \\right)}} + \\frac{\\sigma^{3}{\\left(z - z_{0} - {\\xi}_{0},g_{2},g_{3} \\right)} e^{\\frac{\\alpha z}{2}} e^{3 z \\operatorname{zw}{\\left({\\xi}_{0},g_{2},g_{3} \\right)}} e^{3 c}}{\\sigma^{3}{\\left(z - z_{0},g_{2},g_{3} \\right)}} + \\frac{\\sigma^{3}{\\left(z - z_{0} + {\\xi}_{0},g_{2},g_{3} \\right)} e^{- \\frac{\\alpha z}{2}} e^{- 3 z \\operatorname{zw}{\\left({\\xi}_{0},g_{2},g_{3} \\right)}} e^{- 3 c}}{\\sigma^{3}{\\left(z - z_{0},g_{2},g_{3} \\right)} \\sigma^{6}{\\left({\\xi}_{0},g_{2},g_{3} \\right)}}$"
      ],
      "text/plain": [
       "Eq(p, alpha*sigma(z - z0 - xi[0], g2, g3)*sigma(z - z0 + xi[0], g2, g3)/(sigma(z - z0, g2, g3)**2*sigma(xi[0], g2, g3)**2) + sigma(z - z0 - xi[0], g2, g3)**3*exp(alpha*z/2)*exp(3*z*zw(xi[0], g2, g3))*exp(3*c)/sigma(z - z0, g2, g3)**3 + sigma(z - z0 + xi[0], g2, g3)**3*exp(-alpha*z/2)*exp(-3*z*zw(xi[0], g2, g3))*exp(-3*c)/(sigma(z - z0, g2, g3)**3*sigma(xi[0], g2, g3)**6))"
      ]
     },
     "execution_count": 137,
     "metadata": {},
     "output_type": "execute_result"
    }
   ],
   "source": [
    "puv_hesse_2 = Eq(puv_hesse.lhs, puv_hesse.rhs.simplify().expand())\n",
    "puv_hesse_2"
   ]
  },
  {
   "cell_type": "code",
   "execution_count": 138,
   "id": "6c26d97c-5731-40f6-9dcc-832e4d9f8774",
   "metadata": {},
   "outputs": [
    {
     "data": {
      "text/latex": [
       "$\\displaystyle p = \\frac{\\alpha \\sigma{\\left(z - z_{0} - {\\xi}_{0},g_{2},g_{3} \\right)} \\sigma{\\left(z - z_{0} + {\\xi}_{0},g_{2},g_{3} \\right)}}{\\sigma^{2}{\\left(z - z_{0},g_{2},g_{3} \\right)} \\sigma^{2}{\\left({\\xi}_{0},g_{2},g_{3} \\right)}} + \\frac{\\sigma^{3}{\\left(z - z_{0} - {\\xi}_{0},g_{2},g_{3} \\right)} e^{\\frac{\\alpha z}{2}} e^{- \\frac{\\alpha z_{0}}{2}} e^{3 z \\operatorname{zw}{\\left({\\xi}_{0},g_{2},g_{3} \\right)}} e^{- 3 z_{0} \\operatorname{zw}{\\left({\\xi}_{0},g_{2},g_{3} \\right)}}}{\\sigma^{3}{\\left(z - z_{0},g_{2},g_{3} \\right)} \\sigma^{3}{\\left({\\xi}_{0},g_{2},g_{3} \\right)}} + \\frac{\\sigma^{3}{\\left(z - z_{0} + {\\xi}_{0},g_{2},g_{3} \\right)} e^{- \\frac{\\alpha z}{2}} e^{\\frac{\\alpha z_{0}}{2}} e^{- 3 z \\operatorname{zw}{\\left({\\xi}_{0},g_{2},g_{3} \\right)}} e^{3 z_{0} \\operatorname{zw}{\\left({\\xi}_{0},g_{2},g_{3} \\right)}}}{\\sigma^{3}{\\left(z - z_{0},g_{2},g_{3} \\right)} \\sigma^{3}{\\left({\\xi}_{0},g_{2},g_{3} \\right)}}$"
      ],
      "text/plain": [
       "Eq(p, alpha*sigma(z - z0 - xi[0], g2, g3)*sigma(z - z0 + xi[0], g2, g3)/(sigma(z - z0, g2, g3)**2*sigma(xi[0], g2, g3)**2) + sigma(z - z0 - xi[0], g2, g3)**3*exp(alpha*z/2)*exp(-alpha*z0/2)*exp(3*z*zw(xi[0], g2, g3))*exp(-3*z0*zw(xi[0], g2, g3))/(sigma(z - z0, g2, g3)**3*sigma(xi[0], g2, g3)**3) + sigma(z - z0 + xi[0], g2, g3)**3*exp(-alpha*z/2)*exp(alpha*z0/2)*exp(-3*z*zw(xi[0], g2, g3))*exp(3*z0*zw(xi[0], g2, g3))/(sigma(z - z0, g2, g3)**3*sigma(xi[0], g2, g3)**3))"
      ]
     },
     "execution_count": 138,
     "metadata": {},
     "output_type": "execute_result"
    }
   ],
   "source": [
    "puv_hesse_3 = puv_hesse_2.subs([exp3c.args,Eq(1/exp3c.lhs, 1/exp3c.rhs).args]).simplify().expand()\n",
    "puv_hesse_3"
   ]
  },
  {
   "cell_type": "code",
   "execution_count": 139,
   "id": "a41b7f02-1106-4b2a-8aee-892a8d5efca8",
   "metadata": {},
   "outputs": [
    {
     "data": {
      "text/latex": [
       "$\\displaystyle p = \\frac{\\alpha \\sigma{\\left(z - {\\xi}_{0},g_{2},g_{3} \\right)} \\sigma{\\left(z + {\\xi}_{0},g_{2},g_{3} \\right)}}{\\sigma^{2}{\\left(z,g_{2},g_{3} \\right)} \\sigma^{2}{\\left({\\xi}_{0},g_{2},g_{3} \\right)}} + \\frac{\\sigma^{3}{\\left(z - {\\xi}_{0},g_{2},g_{3} \\right)} e^{\\frac{\\alpha z}{2}} e^{3 z \\operatorname{zw}{\\left({\\xi}_{0},g_{2},g_{3} \\right)}}}{\\sigma^{3}{\\left(z,g_{2},g_{3} \\right)} \\sigma^{3}{\\left({\\xi}_{0},g_{2},g_{3} \\right)}} + \\frac{\\sigma^{3}{\\left(z + {\\xi}_{0},g_{2},g_{3} \\right)} e^{- \\frac{\\alpha z}{2}} e^{- 3 z \\operatorname{zw}{\\left({\\xi}_{0},g_{2},g_{3} \\right)}}}{\\sigma^{3}{\\left(z,g_{2},g_{3} \\right)} \\sigma^{3}{\\left({\\xi}_{0},g_{2},g_{3} \\right)}}$"
      ],
      "text/plain": [
       "Eq(p, alpha*sigma(z - xi[0], g2, g3)*sigma(z + xi[0], g2, g3)/(sigma(z, g2, g3)**2*sigma(xi[0], g2, g3)**2) + sigma(z - xi[0], g2, g3)**3*exp(alpha*z/2)*exp(3*z*zw(xi[0], g2, g3))/(sigma(z, g2, g3)**3*sigma(xi[0], g2, g3)**3) + sigma(z + xi[0], g2, g3)**3*exp(-alpha*z/2)*exp(-3*z*zw(xi[0], g2, g3))/(sigma(z, g2, g3)**3*sigma(xi[0], g2, g3)**3))"
      ]
     },
     "execution_count": 139,
     "metadata": {},
     "output_type": "execute_result"
    }
   ],
   "source": [
    "puv_hesse_4 = puv_hesse_3.subs(z,z+z0).simplify().expand()\n",
    "puv_hesse_4"
   ]
  },
  {
   "cell_type": "code",
   "execution_count": 140,
   "id": "6b9ee14c-47e6-41eb-99bd-8ab7bcc1339c",
   "metadata": {},
   "outputs": [
    {
     "data": {
      "text/latex": [
       "$\\displaystyle f{\\left(z \\right)} = p$"
      ],
      "text/plain": [
       "Eq(f(z), p)"
      ]
     },
     "execution_count": 140,
     "metadata": {},
     "output_type": "execute_result"
    },
    {
     "data": {
      "text/latex": [
       "$\\displaystyle f{\\left(2 m \\omega_{3} + 2 n \\omega_{1} + z \\right)} = p$"
      ],
      "text/plain": [
       "Eq(f(2*m*omega3 + 2*n*omega1 + z), p)"
      ]
     },
     "execution_count": 140,
     "metadata": {},
     "output_type": "execute_result"
    }
   ],
   "source": [
    "fzp_def = Eq(f(z),p)\n",
    "fzp_def\n",
    "fzp_def.subs(z, z + 2*n*omega1 +2*m*omega3)"
   ]
  },
  {
   "cell_type": "code",
   "execution_count": 141,
   "id": "989810b5-d642-4b2a-85fe-50ebb012d28e",
   "metadata": {},
   "outputs": [
    {
     "data": {
      "text/latex": [
       "$\\displaystyle 0 = - \\frac{\\alpha \\sigma{\\left(2 m \\omega_{3} + 2 n \\omega_{1} + z - {\\xi}_{0},g_{2},g_{3} \\right)} \\sigma{\\left(2 m \\omega_{3} + 2 n \\omega_{1} + z + {\\xi}_{0},g_{2},g_{3} \\right)}}{\\sigma^{2}{\\left(2 m \\omega_{3} + 2 n \\omega_{1} + z,g_{2},g_{3} \\right)} \\sigma^{2}{\\left({\\xi}_{0},g_{2},g_{3} \\right)}} + \\frac{\\alpha \\sigma{\\left(z - {\\xi}_{0},g_{2},g_{3} \\right)} \\sigma{\\left(z + {\\xi}_{0},g_{2},g_{3} \\right)}}{\\sigma^{2}{\\left(z,g_{2},g_{3} \\right)} \\sigma^{2}{\\left({\\xi}_{0},g_{2},g_{3} \\right)}} - \\frac{\\sigma^{3}{\\left(2 m \\omega_{3} + 2 n \\omega_{1} + z - {\\xi}_{0},g_{2},g_{3} \\right)} e^{\\frac{\\alpha \\left(2 m \\omega_{3} + 2 n \\omega_{1} + z\\right)}{2}} e^{3 \\cdot \\left(2 m \\omega_{3} + 2 n \\omega_{1} + z\\right) \\operatorname{zw}{\\left({\\xi}_{0},g_{2},g_{3} \\right)}}}{\\sigma^{3}{\\left(2 m \\omega_{3} + 2 n \\omega_{1} + z,g_{2},g_{3} \\right)} \\sigma^{3}{\\left({\\xi}_{0},g_{2},g_{3} \\right)}} - \\frac{\\sigma^{3}{\\left(2 m \\omega_{3} + 2 n \\omega_{1} + z + {\\xi}_{0},g_{2},g_{3} \\right)} e^{- \\frac{\\alpha \\left(2 m \\omega_{3} + 2 n \\omega_{1} + z\\right)}{2}} e^{- 3 \\cdot \\left(2 m \\omega_{3} + 2 n \\omega_{1} + z\\right) \\operatorname{zw}{\\left({\\xi}_{0},g_{2},g_{3} \\right)}}}{\\sigma^{3}{\\left(2 m \\omega_{3} + 2 n \\omega_{1} + z,g_{2},g_{3} \\right)} \\sigma^{3}{\\left({\\xi}_{0},g_{2},g_{3} \\right)}} + \\frac{\\sigma^{3}{\\left(z - {\\xi}_{0},g_{2},g_{3} \\right)} e^{\\frac{\\alpha z}{2}} e^{3 z \\operatorname{zw}{\\left({\\xi}_{0},g_{2},g_{3} \\right)}}}{\\sigma^{3}{\\left(z,g_{2},g_{3} \\right)} \\sigma^{3}{\\left({\\xi}_{0},g_{2},g_{3} \\right)}} + \\frac{\\sigma^{3}{\\left(z + {\\xi}_{0},g_{2},g_{3} \\right)} e^{- \\frac{\\alpha z}{2}} e^{- 3 z \\operatorname{zw}{\\left({\\xi}_{0},g_{2},g_{3} \\right)}}}{\\sigma^{3}{\\left(z,g_{2},g_{3} \\right)} \\sigma^{3}{\\left({\\xi}_{0},g_{2},g_{3} \\right)}}$"
      ],
      "text/plain": [
       "Eq(0, -alpha*sigma(2*m*omega3 + 2*n*omega1 + z - xi[0], g2, g3)*sigma(2*m*omega3 + 2*n*omega1 + z + xi[0], g2, g3)/(sigma(2*m*omega3 + 2*n*omega1 + z, g2, g3)**2*sigma(xi[0], g2, g3)**2) + alpha*sigma(z - xi[0], g2, g3)*sigma(z + xi[0], g2, g3)/(sigma(z, g2, g3)**2*sigma(xi[0], g2, g3)**2) - sigma(2*m*omega3 + 2*n*omega1 + z - xi[0], g2, g3)**3*exp(alpha*(2*m*omega3 + 2*n*omega1 + z)/2)*exp(3*(2*m*omega3 + 2*n*omega1 + z)*zw(xi[0], g2, g3))/(sigma(2*m*omega3 + 2*n*omega1 + z, g2, g3)**3*sigma(xi[0], g2, g3)**3) - sigma(2*m*omega3 + 2*n*omega1 + z + xi[0], g2, g3)**3*exp(-alpha*(2*m*omega3 + 2*n*omega1 + z)/2)*exp(-3*(2*m*omega3 + 2*n*omega1 + z)*zw(xi[0], g2, g3))/(sigma(2*m*omega3 + 2*n*omega1 + z, g2, g3)**3*sigma(xi[0], g2, g3)**3) + sigma(z - xi[0], g2, g3)**3*exp(alpha*z/2)*exp(3*z*zw(xi[0], g2, g3))/(sigma(z, g2, g3)**3*sigma(xi[0], g2, g3)**3) + sigma(z + xi[0], g2, g3)**3*exp(-alpha*z/2)*exp(-3*z*zw(xi[0], g2, g3))/(sigma(z, g2, g3)**3*sigma(xi[0], g2, g3)**3))"
      ]
     },
     "execution_count": 141,
     "metadata": {},
     "output_type": "execute_result"
    }
   ],
   "source": [
    "puv_hesse_diff_shift = Eq(\n",
    "    puv_hesse_4.lhs - puv_hesse_4.lhs.subs(z, z + 2*n*omega1 +2*m*omega3), \n",
    "    puv_hesse_4.rhs - puv_hesse_4.rhs.subs(z, z + 2*n*omega1 +2*m*omega3)\n",
    ")\n",
    "puv_hesse_diff_shift"
   ]
  },
  {
   "cell_type": "code",
   "execution_count": 142,
   "id": "a16877dc-82bb-4f93-960f-118ea0a4816d",
   "metadata": {},
   "outputs": [
    {
     "data": {
      "text/latex": [
       "$\\displaystyle \\sigma{\\left(2 m \\omega_{3} + 2 n \\omega_{1} + z,g_{2},g_{3} \\right)} = \\left(-1\\right)^{m n + m + n} \\sigma{\\left(z,g_{2},g_{3} \\right)} e^{2 \\eta_{1} m n \\omega_{3} + 2 \\eta_{1} n^{2} \\omega_{1} + 2 \\eta_{1} n z + 2 \\eta_{3} m^{2} \\omega_{3} + 2 \\eta_{3} m n \\omega_{1} + 2 \\eta_{3} m z}$"
      ],
      "text/plain": [
       "Eq(sigma(2*m*omega3 + 2*n*omega1 + z, g2, g3), (-1)**(m*n + m + n)*sigma(z, g2, g3)*exp(2*eta1*m*n*omega3 + 2*eta1*n**2*omega1 + 2*eta1*n*z + 2*eta3*m**2*omega3 + 2*eta3*m*n*omega1 + 2*eta3*m*z))"
      ]
     },
     "execution_count": 142,
     "metadata": {},
     "output_type": "execute_result"
    }
   ],
   "source": [
    "sigma_period_eq_sym_nm"
   ]
  },
  {
   "cell_type": "code",
   "execution_count": 143,
   "id": "5b331313-873f-4236-ad73-f36bf9b8ac7c",
   "metadata": {},
   "outputs": [
    {
     "data": {
      "text/latex": [
       "$\\displaystyle - \\frac{\\sigma^{3}{\\left(z - {\\xi}_{0},g_{2},g_{3} \\right)} e^{\\frac{\\alpha z}{2}} e^{3 z \\operatorname{zw}{\\left({\\xi}_{0},g_{2},g_{3} \\right)}} e^{\\alpha m \\omega_{3}} e^{\\alpha n \\omega_{1}} e^{- 6 \\eta_{1} n {\\xi}_{0}} e^{- 6 \\eta_{3} m {\\xi}_{0}} e^{6 m \\omega_{3} \\operatorname{zw}{\\left({\\xi}_{0},g_{2},g_{3} \\right)}} e^{6 n \\omega_{1} \\operatorname{zw}{\\left({\\xi}_{0},g_{2},g_{3} \\right)}}}{\\sigma^{3}{\\left(z,g_{2},g_{3} \\right)} \\sigma^{3}{\\left({\\xi}_{0},g_{2},g_{3} \\right)}} + \\frac{\\sigma^{3}{\\left(z - {\\xi}_{0},g_{2},g_{3} \\right)} e^{\\frac{\\alpha z}{2}} e^{3 z \\operatorname{zw}{\\left({\\xi}_{0},g_{2},g_{3} \\right)}}}{\\sigma^{3}{\\left(z,g_{2},g_{3} \\right)} \\sigma^{3}{\\left({\\xi}_{0},g_{2},g_{3} \\right)}} + \\frac{\\sigma^{3}{\\left(z + {\\xi}_{0},g_{2},g_{3} \\right)} e^{- \\frac{\\alpha z}{2}} e^{- 3 z \\operatorname{zw}{\\left({\\xi}_{0},g_{2},g_{3} \\right)}}}{\\sigma^{3}{\\left(z,g_{2},g_{3} \\right)} \\sigma^{3}{\\left({\\xi}_{0},g_{2},g_{3} \\right)}} - \\frac{\\sigma^{3}{\\left(z + {\\xi}_{0},g_{2},g_{3} \\right)} e^{- \\frac{\\alpha z}{2}} e^{- 3 z \\operatorname{zw}{\\left({\\xi}_{0},g_{2},g_{3} \\right)}} e^{- \\alpha m \\omega_{3}} e^{- \\alpha n \\omega_{1}} e^{6 \\eta_{1} n {\\xi}_{0}} e^{6 \\eta_{3} m {\\xi}_{0}} e^{- 6 m \\omega_{3} \\operatorname{zw}{\\left({\\xi}_{0},g_{2},g_{3} \\right)}} e^{- 6 n \\omega_{1} \\operatorname{zw}{\\left({\\xi}_{0},g_{2},g_{3} \\right)}}}{\\sigma^{3}{\\left(z,g_{2},g_{3} \\right)} \\sigma^{3}{\\left({\\xi}_{0},g_{2},g_{3} \\right)}} = 0$"
      ],
      "text/plain": [
       "Eq(-sigma(z - xi[0], g2, g3)**3*exp(alpha*z/2)*exp(3*z*zw(xi[0], g2, g3))*exp(alpha*m*omega3)*exp(alpha*n*omega1)*exp(-6*eta1*n*xi[0])*exp(-6*eta3*m*xi[0])*exp(6*m*omega3*zw(xi[0], g2, g3))*exp(6*n*omega1*zw(xi[0], g2, g3))/(sigma(z, g2, g3)**3*sigma(xi[0], g2, g3)**3) + sigma(z - xi[0], g2, g3)**3*exp(alpha*z/2)*exp(3*z*zw(xi[0], g2, g3))/(sigma(z, g2, g3)**3*sigma(xi[0], g2, g3)**3) + sigma(z + xi[0], g2, g3)**3*exp(-alpha*z/2)*exp(-3*z*zw(xi[0], g2, g3))/(sigma(z, g2, g3)**3*sigma(xi[0], g2, g3)**3) - sigma(z + xi[0], g2, g3)**3*exp(-alpha*z/2)*exp(-3*z*zw(xi[0], g2, g3))*exp(-alpha*m*omega3)*exp(-alpha*n*omega1)*exp(6*eta1*n*xi[0])*exp(6*eta3*m*xi[0])*exp(-6*m*omega3*zw(xi[0], g2, g3))*exp(-6*n*omega1*zw(xi[0], g2, g3))/(sigma(z, g2, g3)**3*sigma(xi[0], g2, g3)**3), 0)"
      ]
     },
     "execution_count": 143,
     "metadata": {},
     "output_type": "execute_result"
    }
   ],
   "source": [
    "puv_hesse_diff_shift_2 = puv_hesse_diff_shift.subs([\n",
    "    sigma_period_eq_sym_nm.args,\n",
    "    sigma_period_eq_sym_nm.subs(z, z - xi[0]).args,\n",
    "    sigma_period_eq_sym_nm.subs(z, z + xi[0]).args\n",
    "]).simplify().expand()\n",
    "puv_hesse_diff_shift_2"
   ]
  },
  {
   "cell_type": "code",
   "execution_count": 144,
   "id": "b85a194e-d552-4b2b-ae73-855e3eb41592",
   "metadata": {},
   "outputs": [],
   "source": [
    "# puv_hesse_diff_shift_2_a = puv_hesse_diff_shift_2.lhs.collect([sigma(z-xi[0],g2,g3)**3, sigma(z+xi[0],g2,g3)**3], expand).args[0]\n",
    "# puv_hesse_diff_shift_2_b = puv_hesse_diff_shift_2.lhs.collect([sigma(z-xi[0],g2,g3)**3, sigma(z+xi[0],g2,g3)**3], expand).args[1]\n",
    "puv_hesse_diff_shift_2_a = puv_hesse_diff_shift_2.subs([\n",
    "    (sigma(z-xi[0],g2,g3),0), (sigma(z+xi[0],g2,g3),1), (sigma(xi[0],g2,g3),1), (sigma(z,g2,g3),1)\n",
    "])\n",
    "puv_hesse_diff_shift_2_b = puv_hesse_diff_shift_2.subs([\n",
    "    (sigma(z-xi[0],g2,g3),1), (sigma(z+xi[0],g2,g3),0), (sigma(xi[0],g2,g3),1), (sigma(z,g2,g3),1)\n",
    "])"
   ]
  },
  {
   "cell_type": "code",
   "execution_count": 145,
   "id": "fc54004f-d449-4b14-9186-a8dd7462e619",
   "metadata": {},
   "outputs": [
    {
     "data": {
      "text/latex": [
       "$\\displaystyle e^{\\alpha m \\omega_{3} + \\alpha n \\omega_{1} - 6 \\eta_{1} n {\\xi}_{0} - 6 \\eta_{3} m {\\xi}_{0} + 6 m \\omega_{3} \\operatorname{zw}{\\left({\\xi}_{0},g_{2},g_{3} \\right)} + 6 n \\omega_{1} \\operatorname{zw}{\\left({\\xi}_{0},g_{2},g_{3} \\right)}} = 1$"
      ],
      "text/plain": [
       "Eq(exp(alpha*m*omega3 + alpha*n*omega1 - 6*eta1*n*xi[0] - 6*eta3*m*xi[0] + 6*m*omega3*zw(xi[0], g2, g3) + 6*n*omega1*zw(xi[0], g2, g3)), 1)"
      ]
     },
     "execution_count": 145,
     "metadata": {},
     "output_type": "execute_result"
    },
    {
     "data": {
      "text/latex": [
       "$\\displaystyle e^{- \\alpha m \\omega_{3} - \\alpha n \\omega_{1} + 6 \\eta_{1} n {\\xi}_{0} + 6 \\eta_{3} m {\\xi}_{0} - 6 m \\omega_{3} \\operatorname{zw}{\\left({\\xi}_{0},g_{2},g_{3} \\right)} - 6 n \\omega_{1} \\operatorname{zw}{\\left({\\xi}_{0},g_{2},g_{3} \\right)}} = 1$"
      ],
      "text/plain": [
       "Eq(exp(-alpha*m*omega3 - alpha*n*omega1 + 6*eta1*n*xi[0] + 6*eta3*m*xi[0] - 6*m*omega3*zw(xi[0], g2, g3) - 6*n*omega1*zw(xi[0], g2, g3)), 1)"
      ]
     },
     "execution_count": 145,
     "metadata": {},
     "output_type": "execute_result"
    }
   ],
   "source": [
    "p_periodicity_cond_1 = Eq((puv_hesse_diff_shift_2_a.expand().lhs/puv_hesse_diff_shift_2_a.lhs.args[1]).expand() - 1, - 1).simplify()\n",
    "p_periodicity_cond_2 = Eq((puv_hesse_diff_shift_2_b.expand().lhs/puv_hesse_diff_shift_2_b.lhs.args[1]).expand() - 1, - 1).simplify()\n",
    "p_periodicity_cond_1\n",
    "p_periodicity_cond_2"
   ]
  },
  {
   "cell_type": "code",
   "execution_count": 146,
   "id": "efdb50ae-dcf4-4ebf-b92c-eca56c61e157",
   "metadata": {},
   "outputs": [
    {
     "data": {
      "text/latex": [
       "$\\displaystyle \\left(\\alpha + 6 \\operatorname{zw}{\\left({\\xi}_{0},g_{2},g_{3} \\right)}\\right) \\left(m \\omega_{3} + n \\omega_{1}\\right) - 6 \\left(\\eta_{1} n + \\eta_{3} m\\right) {\\xi}_{0} = 2 i \\pi k$"
      ],
      "text/plain": [
       "Eq((alpha + 6*zw(xi[0], g2, g3))*(m*omega3 + n*omega1) - 6*(eta1*n + eta3*m)*xi[0], 2*I*pi*k)"
      ]
     },
     "execution_count": 146,
     "metadata": {},
     "output_type": "execute_result"
    }
   ],
   "source": [
    "p_periodicity_cond = Eq(p_periodicity_cond_1.lhs.args[0].collect(xi[0],factor), 2*I*pi*k)\n",
    "p_periodicity_cond"
   ]
  },
  {
   "cell_type": "code",
   "execution_count": 147,
   "id": "d7d17d5b-d472-422d-bfe3-d2650f698bea",
   "metadata": {},
   "outputs": [
    {
     "data": {
      "text/latex": [
       "$\\displaystyle U{\\left(z + z_{0} + 3 {\\xi}_{0} \\right)} = \\frac{\\sigma{\\left(z + 2 {\\xi}_{0},g_{2},g_{3} \\right)} e^{\\frac{\\alpha \\left(z + 3 {\\xi}_{0}\\right)}{6} + \\frac{2 i \\pi n}{3} + \\left(z + 3 {\\xi}_{0}\\right) \\operatorname{zw}{\\left({\\xi}_{0},g_{2},g_{3} \\right)}}}{\\sigma{\\left(z + 3 {\\xi}_{0},g_{2},g_{3} \\right)} \\sigma{\\left({\\xi}_{0},g_{2},g_{3} \\right)}}$"
      ],
      "text/plain": [
       "Eq(U(z + z0 + 3*xi[0]), sigma(z + 2*xi[0], g2, g3)*exp(alpha*(z + 3*xi[0])/6 + 2*I*pi*n/3 + (z + 3*xi[0])*zw(xi[0], g2, g3))/(sigma(z + 3*xi[0], g2, g3)*sigma(xi[0], g2, g3)))"
      ]
     },
     "execution_count": 147,
     "metadata": {},
     "output_type": "execute_result"
    },
    {
     "data": {
      "text/latex": [
       "$\\displaystyle V{\\left(z + z_{0} + 3 {\\xi}_{0} \\right)} = \\frac{\\sigma{\\left(z + 4 {\\xi}_{0},g_{2},g_{3} \\right)} e^{- \\frac{\\alpha \\left(z + 3 {\\xi}_{0}\\right)}{6} - \\frac{2 i \\pi n}{3} - \\left(z + 3 {\\xi}_{0}\\right) \\operatorname{zw}{\\left({\\xi}_{0},g_{2},g_{3} \\right)}}}{\\sigma{\\left(z + 3 {\\xi}_{0},g_{2},g_{3} \\right)} \\sigma{\\left({\\xi}_{0},g_{2},g_{3} \\right)}}$"
      ],
      "text/plain": [
       "Eq(V(z + z0 + 3*xi[0]), sigma(z + 4*xi[0], g2, g3)*exp(-alpha*(z + 3*xi[0])/6 - 2*I*pi*n/3 - (z + 3*xi[0])*zw(xi[0], g2, g3))/(sigma(z + 3*xi[0], g2, g3)*sigma(xi[0], g2, g3)))"
      ]
     },
     "execution_count": 147,
     "metadata": {},
     "output_type": "execute_result"
    }
   ],
   "source": [
    "Uz_sigma_3_xi0 = Uz_sigma_no_c.subs(z,z+3*xi[0])\n",
    "Vz_sigma_3_xi0 = Vz_sigma_no_c.subs(z,z+3*xi[0])\n",
    "Uz_sigma_3_xi0\n",
    "Vz_sigma_3_xi0"
   ]
  },
  {
   "cell_type": "code",
   "execution_count": 148,
   "id": "162d026c-e6e5-4840-8aba-fe53c324d30a",
   "metadata": {},
   "outputs": [
    {
     "data": {
      "text/latex": [
       "$\\displaystyle 2 {\\xi}_{0} = 2 m \\omega_{3} + 2 n \\omega_{1} - {\\xi}_{0}$"
      ],
      "text/plain": [
       "Eq(2*xi[0], 2*m*omega3 + 2*n*omega1 - xi[0])"
      ]
     },
     "execution_count": 148,
     "metadata": {},
     "output_type": "execute_result"
    },
    {
     "data": {
      "text/latex": [
       "$\\displaystyle 3 {\\xi}_{0} = 2 m \\omega_{3} + 2 n \\omega_{1}$"
      ],
      "text/plain": [
       "Eq(3*xi[0], 2*m*omega3 + 2*n*omega1)"
      ]
     },
     "execution_count": 148,
     "metadata": {},
     "output_type": "execute_result"
    }
   ],
   "source": [
    "xi0_2_w1w3 = Eq(2*xi[0], 3*xi[0].subs(*xi_0_omega_1_3.args) - xi[0])\n",
    "xi0_3_w1w3 = Eq(3*xi[0], 3*xi[0].subs(*xi_0_omega_1_3.args))\n",
    "xi0_2_w1w3\n",
    "xi0_3_w1w3"
   ]
  },
  {
   "cell_type": "code",
   "execution_count": 149,
   "id": "491f134e-03ef-4b52-ba28-388f46e41475",
   "metadata": {},
   "outputs": [
    {
     "data": {
      "text/latex": [
       "$\\displaystyle U{\\left(z + z_{0} + 3 {\\xi}_{0} \\right)} = \\frac{\\sigma{\\left(2 m \\omega_{3} + 2 n \\omega_{1} + z - {\\xi}_{0},g_{2},g_{3} \\right)} e^{\\frac{\\alpha \\left(2 m \\omega_{3} + 2 n \\omega_{1} + z\\right)}{6} + \\frac{2 i \\pi n}{3} + \\left(2 m \\omega_{3} + 2 n \\omega_{1} + z\\right) \\operatorname{zw}{\\left({\\xi}_{0},g_{2},g_{3} \\right)}}}{\\sigma{\\left(2 m \\omega_{3} + 2 n \\omega_{1} + z,g_{2},g_{3} \\right)} \\sigma{\\left({\\xi}_{0},g_{2},g_{3} \\right)}}$"
      ],
      "text/plain": [
       "Eq(U(z + z0 + 3*xi[0]), sigma(2*m*omega3 + 2*n*omega1 + z - xi[0], g2, g3)*exp(alpha*(2*m*omega3 + 2*n*omega1 + z)/6 + 2*I*pi*n/3 + (2*m*omega3 + 2*n*omega1 + z)*zw(xi[0], g2, g3))/(sigma(2*m*omega3 + 2*n*omega1 + z, g2, g3)*sigma(xi[0], g2, g3)))"
      ]
     },
     "execution_count": 149,
     "metadata": {},
     "output_type": "execute_result"
    }
   ],
   "source": [
    "Uz_sigma_3_xi0_shift = Eq(Uz_sigma_3_xi0.lhs, Uz_sigma_3_xi0.rhs.subs([xi0_2_w1w3.args, xi0_3_w1w3.args]))\n",
    "Uz_sigma_3_xi0_shift"
   ]
  },
  {
   "cell_type": "code",
   "execution_count": 150,
   "id": "2e232fe9-ebfe-4c1b-a97a-350fa0da140c",
   "metadata": {},
   "outputs": [
    {
     "data": {
      "text/latex": [
       "$\\displaystyle U{\\left(z + z_{0} + 3 {\\xi}_{0} \\right)} = \\frac{\\sigma{\\left(z - {\\xi}_{0},g_{2},g_{3} \\right)} e^{\\frac{\\alpha m \\omega_{3}}{3} + \\frac{\\alpha n \\omega_{1}}{3} + \\frac{\\alpha z}{6} - 2 \\eta_{1} n {\\xi}_{0} - 2 \\eta_{3} m {\\xi}_{0} + 2 m \\omega_{3} \\operatorname{zw}{\\left({\\xi}_{0},g_{2},g_{3} \\right)} + 2 n \\omega_{1} \\operatorname{zw}{\\left({\\xi}_{0},g_{2},g_{3} \\right)} + \\frac{2 i \\pi n}{3} + z \\operatorname{zw}{\\left({\\xi}_{0},g_{2},g_{3} \\right)}}}{\\sigma{\\left(z,g_{2},g_{3} \\right)} \\sigma{\\left({\\xi}_{0},g_{2},g_{3} \\right)}}$"
      ],
      "text/plain": [
       "Eq(U(z + z0 + 3*xi[0]), sigma(z - xi[0], g2, g3)*exp(alpha*m*omega3/3 + alpha*n*omega1/3 + alpha*z/6 - 2*eta1*n*xi[0] - 2*eta3*m*xi[0] + 2*m*omega3*zw(xi[0], g2, g3) + 2*n*omega1*zw(xi[0], g2, g3) + 2*I*pi*n/3 + z*zw(xi[0], g2, g3))/(sigma(z, g2, g3)*sigma(xi[0], g2, g3)))"
      ]
     },
     "execution_count": 150,
     "metadata": {},
     "output_type": "execute_result"
    }
   ],
   "source": [
    "Uz_sigma_3_xi0_shift_b = Uz_sigma_3_xi0_shift.subs([sigma_period_eq_sym_nm.subs(z, z-xi[0]).args, sigma_period_eq_sym_nm.args]).expand().simplify()\n",
    "Uz_sigma_3_xi0_shift_b"
   ]
  },
  {
   "cell_type": "code",
   "execution_count": 151,
   "id": "d1517994-0ade-4d6a-9dd4-14ff6f2b7fec",
   "metadata": {},
   "outputs": [
    {
     "data": {
      "text/latex": [
       "$\\displaystyle U{\\left(z + z_{0} + 3 {\\xi}_{0} \\right)} = U{\\left(z + z_{0} \\right)} e^{\\frac{\\alpha m \\omega_{3}}{3} + \\frac{\\alpha n \\omega_{1}}{3} - 2 \\eta_{1} n {\\xi}_{0} - 2 \\eta_{3} m {\\xi}_{0} + 2 m \\omega_{3} \\operatorname{zw}{\\left({\\xi}_{0},g_{2},g_{3} \\right)} + 2 n \\omega_{1} \\operatorname{zw}{\\left({\\xi}_{0},g_{2},g_{3} \\right)}}$"
      ],
      "text/plain": [
       "Eq(U(z + z0 + 3*xi[0]), U(z + z0)*exp(alpha*m*omega3/3 + alpha*n*omega1/3 - 2*eta1*n*xi[0] - 2*eta3*m*xi[0] + 2*m*omega3*zw(xi[0], g2, g3) + 2*n*omega1*zw(xi[0], g2, g3)))"
      ]
     },
     "execution_count": 151,
     "metadata": {},
     "output_type": "execute_result"
    }
   ],
   "source": [
    "Uz_sigma_3_xi0_shift_c = Eq(Uz_sigma_3_xi0_shift_b.lhs,( Uz_sigma_3_xi0_shift_b.rhs*Uz_sigma_no_c.lhs/Uz_sigma_no_c.rhs).simplify())\n",
    "Uz_sigma_3_xi0_shift_c"
   ]
  },
  {
   "cell_type": "code",
   "execution_count": 152,
   "id": "e392a19a-00b7-408b-9052-dddd8f4c3ac4",
   "metadata": {},
   "outputs": [
    {
     "data": {
      "text/latex": [
       "$\\displaystyle U{\\left(z + z_{0} + 3 {\\xi}_{0} \\right)} = U{\\left(z + z_{0} \\right)} e^{\\frac{2 i \\pi k}{3}}$"
      ],
      "text/plain": [
       "Eq(U(z + z0 + 3*xi[0]), U(z + z0)*exp(2*I*pi*k/3))"
      ]
     },
     "execution_count": 152,
     "metadata": {},
     "output_type": "execute_result"
    }
   ],
   "source": [
    "Uz_sigma_3_xi0_shift_c.subs(zw(xi[0],g2,g3),solve(p_periodicity_cond, zw(xi[0],g2,g3))[0]).simplify()"
   ]
  },
  {
   "cell_type": "markdown",
   "id": "f5da406f-16b4-489b-a48f-ea95960ee942",
   "metadata": {},
   "source": [
    "It has been shown that $U(z)$ could potentialy pick up a cubic root of unity phase shift after cycling through $3\\xi_0$, which if true would imply the period is actually $9\\xi_0$"
   ]
  },
  {
   "cell_type": "markdown",
   "id": "8ce971a9-649b-4579-ba68-82f0c74cc5c9",
   "metadata": {},
   "source": [
    "### Zeta identity"
   ]
  },
  {
   "cell_type": "code",
   "execution_count": 153,
   "id": "84375e81-97f8-4db0-bfac-00674cc4be2e",
   "metadata": {},
   "outputs": [
    {
     "data": {
      "text/latex": [
       "$\\displaystyle \\operatorname{zw}{\\left(2 {\\xi}_{0},g_{2},g_{3} \\right)} = 2 \\eta_{1} n + 2 \\eta_{3} m - \\operatorname{zw}{\\left({\\xi}_{0},g_{2},g_{3} \\right)}$"
      ],
      "text/plain": [
       "Eq(zw(2*xi[0], g2, g3), 2*eta1*n + 2*eta3*m - zw(xi[0], g2, g3))"
      ]
     },
     "execution_count": 153,
     "metadata": {},
     "output_type": "execute_result"
    }
   ],
   "source": [
    "zw_quasi_eq_xi0 = zw_quasi_eq.subs(z,-xi[0]).subs(zw(-xi[0],g2,g3),-zw(xi[0],g2,g3)).subs(xi0_3_w1w3.rhs, xi0_3_w1w3.lhs)\n",
    "zw_quasi_eq_xi0"
   ]
  },
  {
   "cell_type": "code",
   "execution_count": 154,
   "id": "559878a0-8e98-442c-8200-94bec7e9bdb4",
   "metadata": {},
   "outputs": [
    {
     "data": {
      "text/latex": [
       "$\\displaystyle \\operatorname{zw}{\\left(2 {\\xi}_{0},g_{2},g_{3} \\right)} = \\frac{- \\frac{g_{2}}{2} + 6 \\operatorname{pw}^{2}{\\left({\\xi}_{0},g_{2},g_{3} \\right)}}{2 \\operatorname{pwp}{\\left({\\xi}_{0},g_{2},g_{3} \\right)}} + 2 \\operatorname{zw}{\\left({\\xi}_{0},g_{2},g_{3} \\right)}$"
      ],
      "text/plain": [
       "Eq(zw(2*xi[0], g2, g3), (-g2/2 + 6*pw(xi[0], g2, g3)**2)/(2*pwp(xi[0], g2, g3)) + 2*zw(xi[0], g2, g3))"
      ]
     },
     "execution_count": 154,
     "metadata": {},
     "output_type": "execute_result"
    }
   ],
   "source": [
    "zw2z_2zwz_pw_pwp.subs(z,xi[0])"
   ]
  },
  {
   "cell_type": "code",
   "execution_count": 155,
   "id": "47a53320-65fa-43d5-a100-789e0500669a",
   "metadata": {},
   "outputs": [
    {
     "data": {
      "text/latex": [
       "$\\displaystyle \\operatorname{pwp}{\\left({\\xi}_{0},g_{2},g_{3} \\right)} = p$"
      ],
      "text/plain": [
       "Eq(pwp(xi[0], g2, g3), p)"
      ]
     },
     "execution_count": 155,
     "metadata": {},
     "output_type": "execute_result"
    },
    {
     "data": {
      "text/latex": [
       "$\\displaystyle g_{2} = \\frac{\\alpha^{4}}{12} - 2 \\alpha p$"
      ],
      "text/plain": [
       "Eq(g2, alpha**4/12 - 2*alpha*p)"
      ]
     },
     "execution_count": 155,
     "metadata": {},
     "output_type": "execute_result"
    },
    {
     "data": {
      "text/latex": [
       "$\\displaystyle \\operatorname{pw}{\\left({\\xi}_{0},g_{2},g_{3} \\right)} = \\frac{\\alpha^{2}}{12}$"
      ],
      "text/plain": [
       "Eq(pw(xi[0], g2, g3), alpha**2/12)"
      ]
     },
     "execution_count": 155,
     "metadata": {},
     "output_type": "execute_result"
    }
   ],
   "source": [
    "pwp_p_UV \n",
    "g2_UV \n",
    "xi_0_alpha_UV"
   ]
  },
  {
   "cell_type": "code",
   "execution_count": 156,
   "id": "779613fd-03c7-4810-b59e-fda122dd5b97",
   "metadata": {},
   "outputs": [
    {
     "data": {
      "text/latex": [
       "$\\displaystyle \\operatorname{zw}{\\left(2 {\\xi}_{0},g_{2},g_{3} \\right)} = \\frac{\\alpha}{2} + 2 \\operatorname{zw}{\\left({\\xi}_{0},g_{2},g_{3} \\right)}$"
      ],
      "text/plain": [
       "Eq(zw(2*xi[0], g2, g3), alpha/2 + 2*zw(xi[0], g2, g3))"
      ]
     },
     "execution_count": 156,
     "metadata": {},
     "output_type": "execute_result"
    }
   ],
   "source": [
    "zw_2_xi0_1_xi0_alpha = Eq(zw2z_2zwz_pw_pwp.lhs.subs(z,xi[0]) , \n",
    "   2*zw(xi[0],g2,g3) + \n",
    "   (zw2z_2zwz_pw_pwp.rhs - 2*zw(xi[0],g2,g3)).subs(z,xi[0]).subs([pwp_p_UV.args, xi_0_alpha_UV.args, g2_UV.args]) \n",
    "  )\n",
    "zw_2_xi0_1_xi0_alpha"
   ]
  },
  {
   "cell_type": "code",
   "execution_count": 157,
   "id": "edce57ea-4e73-4e10-b134-3cff20facaae",
   "metadata": {},
   "outputs": [
    {
     "data": {
      "text/latex": [
       "$\\displaystyle \\frac{\\alpha}{2} + 3 \\operatorname{zw}{\\left({\\xi}_{0},g_{2},g_{3} \\right)} = 2 \\eta_{1} n + 2 \\eta_{3} m$"
      ],
      "text/plain": [
       "Eq(alpha/2 + 3*zw(xi[0], g2, g3), 2*eta1*n + 2*eta3*m)"
      ]
     },
     "execution_count": 157,
     "metadata": {},
     "output_type": "execute_result"
    }
   ],
   "source": [
    "Eq(zw_quasi_eq_xi0.lhs + zw(xi[0],g2,g3), zw_quasi_eq_xi0.rhs + zw(xi[0],g2,g3)).subs(*zw_2_xi0_1_xi0_alpha.args)"
   ]
  },
  {
   "cell_type": "markdown",
   "id": "c94b5e2c-214e-423f-9339-d5d7b51e4d89",
   "metadata": {},
   "source": [
    "### Weierstrass P Prime identity"
   ]
  },
  {
   "cell_type": "code",
   "execution_count": 158,
   "id": "dc58e9e1-8fa6-4735-a3c9-832d4eaf7e9d",
   "metadata": {},
   "outputs": [
    {
     "data": {
      "text/latex": [
       "$\\displaystyle \\operatorname{pwp}{\\left(z - z_{0},g_{2},g_{3} \\right)} = - \\frac{\\sigma^{3}{\\left(z - z_{0} - {\\xi}_{0},g_{2},g_{3} \\right)} e^{\\frac{\\alpha \\left(z - z_{0}\\right)}{2}} e^{3 \\left(z - z_{0}\\right) \\operatorname{zw}{\\left({\\xi}_{0},g_{2},g_{3} \\right)}}}{\\sigma^{3}{\\left(z - z_{0},g_{2},g_{3} \\right)} \\sigma^{3}{\\left({\\xi}_{0},g_{2},g_{3} \\right)}} + \\frac{\\sigma^{3}{\\left(z - z_{0} + {\\xi}_{0},g_{2},g_{3} \\right)} e^{- \\frac{\\alpha \\left(z - z_{0}\\right)}{2}} e^{- 3 \\left(z - z_{0}\\right) \\operatorname{zw}{\\left({\\xi}_{0},g_{2},g_{3} \\right)}}}{\\sigma^{3}{\\left(z - z_{0},g_{2},g_{3} \\right)} \\sigma^{3}{\\left({\\xi}_{0},g_{2},g_{3} \\right)}}$"
      ],
      "text/plain": [
       "Eq(pwp(z - z0, g2, g3), -sigma(z - z0 - xi[0], g2, g3)**3*exp(alpha*(z - z0)/2)*exp(3*(z - z0)*zw(xi[0], g2, g3))/(sigma(z - z0, g2, g3)**3*sigma(xi[0], g2, g3)**3) + sigma(z - z0 + xi[0], g2, g3)**3*exp(-alpha*(z - z0)/2)*exp(-3*(z - z0)*zw(xi[0], g2, g3))/(sigma(z - z0, g2, g3)**3*sigma(xi[0], g2, g3)**3))"
      ]
     },
     "execution_count": 158,
     "metadata": {},
     "output_type": "execute_result"
    }
   ],
   "source": [
    "pwp_alpha_sigma = pwpUV.expand().subs(*exp3c.args).simplify().expand().subs(z,z-z0)\n",
    "pwp_alpha_sigma"
   ]
  },
  {
   "cell_type": "code",
   "execution_count": 159,
   "id": "1d9756f4-ab31-435f-93b6-74a728d4a53e",
   "metadata": {},
   "outputs": [
    {
     "data": {
      "text/latex": [
       "$\\displaystyle \\operatorname{pwp}{\\left(z,g_{2},g_{3} \\right)} + p = \\frac{\\alpha \\sigma{\\left(z - {\\xi}_{0},g_{2},g_{3} \\right)} \\sigma{\\left(z + {\\xi}_{0},g_{2},g_{3} \\right)}}{\\sigma^{2}{\\left(z,g_{2},g_{3} \\right)} \\sigma^{2}{\\left({\\xi}_{0},g_{2},g_{3} \\right)}} + \\frac{2 \\sigma^{3}{\\left(z + {\\xi}_{0},g_{2},g_{3} \\right)} e^{- \\frac{\\alpha z}{2} - 3 z \\operatorname{zw}{\\left({\\xi}_{0},g_{2},g_{3} \\right)}}}{\\sigma^{3}{\\left(z,g_{2},g_{3} \\right)} \\sigma^{3}{\\left({\\xi}_{0},g_{2},g_{3} \\right)}}$"
      ],
      "text/plain": [
       "Eq(pwp(z, g2, g3) + p, alpha*sigma(z - xi[0], g2, g3)*sigma(z + xi[0], g2, g3)/(sigma(z, g2, g3)**2*sigma(xi[0], g2, g3)**2) + 2*sigma(z + xi[0], g2, g3)**3*exp(-alpha*z/2 - 3*z*zw(xi[0], g2, g3))/(sigma(z, g2, g3)**3*sigma(xi[0], g2, g3)**3))"
      ]
     },
     "execution_count": 159,
     "metadata": {},
     "output_type": "execute_result"
    }
   ],
   "source": [
    "Eq(puv_hesse_3.lhs + pwp_alpha_sigma.lhs, puv_hesse_3.rhs + pwp_alpha_sigma.rhs).simplify().expand().subs(z,z+z0).simplify()"
   ]
  },
  {
   "cell_type": "code",
   "execution_count": 160,
   "id": "80a1cb1a-4a98-4608-8de1-1d8d34f14f3d",
   "metadata": {},
   "outputs": [
    {
     "data": {
      "text/latex": [
       "$\\displaystyle \\operatorname{pwp}{\\left({\\xi}_{0},g_{2},g_{3} \\right)} = p$"
      ],
      "text/plain": [
       "Eq(pwp(xi[0], g2, g3), p)"
      ]
     },
     "execution_count": 160,
     "metadata": {},
     "output_type": "execute_result"
    },
    {
     "data": {
      "text/latex": [
       "$\\displaystyle \\operatorname{pw}{\\left({\\xi}_{0},g_{2},g_{3} \\right)} = \\frac{\\alpha^{2}}{12}$"
      ],
      "text/plain": [
       "Eq(pw(xi[0], g2, g3), alpha**2/12)"
      ]
     },
     "execution_count": 160,
     "metadata": {},
     "output_type": "execute_result"
    }
   ],
   "source": [
    "pwp_p_UV \n",
    "xi_0_alpha_UV"
   ]
  },
  {
   "cell_type": "markdown",
   "id": "e9b0fae6-0511-44dd-a47e-848a15150349",
   "metadata": {},
   "source": [
    "#### Other relations"
   ]
  },
  {
   "cell_type": "code",
   "execution_count": 161,
   "id": "569d2801-33b9-4a8e-beca-3c3fca592974",
   "metadata": {},
   "outputs": [
    {
     "data": {
      "text/latex": [
       "$\\displaystyle \\frac{U^{3}{\\left(z \\right)}}{V^{3}{\\left(z \\right)}} = \\frac{\\sigma^{3}{\\left(z - z_{0} - {\\xi}_{0},g_{2},g_{3} \\right)} \\sigma^{2}{\\left({\\xi}_{0},g_{2},g_{3} \\right)} e^{\\alpha z + 6 z \\operatorname{zw}{\\left({\\xi}_{0},g_{2},g_{3} \\right)} + 2 c}}{\\sigma^{3}{\\left(z - z_{0} + {\\xi}_{0},g_{2},g_{3} \\right)}}$"
      ],
      "text/plain": [
       "Eq(U(z)**3/V(z)**3, sigma(z - z0 - xi[0], g2, g3)**3*sigma(xi[0], g2, g3)**2*exp(alpha*z + 6*z*zw(xi[0], g2, g3) + 2*c)/sigma(z - z0 + xi[0], g2, g3)**3)"
      ]
     },
     "execution_count": 161,
     "metadata": {},
     "output_type": "execute_result"
    }
   ],
   "source": [
    "\n",
    "Eq(U(z)**3/V(z)**3,\n",
    "   (U(z)**3/V(z)**3)\n",
    "   .subs(*u_over_v_as_U_over_V.args[::-1])\n",
    "   .subs([pw_alpha.args[::-1],fpw.args])\n",
    "   .subs([u_as_sigma.args, v_as_sigma.args]).simplify()\n",
    "  )\n",
    "    "
   ]
  },
  {
   "cell_type": "code",
   "execution_count": 162,
   "id": "6cc21db2-25d0-4ed7-81ee-95984973a7b1",
   "metadata": {},
   "outputs": [
    {
     "data": {
      "text/latex": [
       "$\\displaystyle \\frac{u{\\left(z \\right)}}{v{\\left(z \\right)}} = \\frac{U^{3}{\\left(z \\right)}}{V^{3}{\\left(z \\right)}}$"
      ],
      "text/plain": [
       "Eq(u(z)/v(z), U(z)**3/V(z)**3)"
      ]
     },
     "execution_count": 162,
     "metadata": {},
     "output_type": "execute_result"
    }
   ],
   "source": [
    "u_over_v_as_U_over_V"
   ]
  },
  {
   "cell_type": "markdown",
   "id": "cdf73b8c-571c-42f4-85aa-6ea811605e39",
   "metadata": {},
   "source": [
    "## Numerical Checks"
   ]
  },
  {
   "cell_type": "markdown",
   "id": "798fd068-ab92-4173-ad47-c2870a88250c",
   "metadata": {},
   "source": [
    "### System 1 Checks"
   ]
  },
  {
   "cell_type": "code",
   "execution_count": 163,
   "id": "eb3c2abb-1610-44d3-be36-f86cba8cf85a",
   "metadata": {},
   "outputs": [
    {
     "data": {
      "text/latex": [
       "$\\displaystyle u{\\left(z \\right)} = \\frac{\\sigma{\\left(- z_{0},g_{2},g_{3} \\right)} \\sigma{\\left(- z_{0} + {\\xi}_{0},g_{2},g_{3} \\right)} \\sigma^{2}{\\left(z - z_{0} - {\\xi}_{0},g_{2},g_{3} \\right)} u{\\left(0 \\right)} e^{\\frac{z \\left(\\alpha + 6 \\operatorname{zw}{\\left({\\xi}_{0},g_{2},g_{3} \\right)}\\right)}{2}}}{\\sigma{\\left(z - z_{0},g_{2},g_{3} \\right)} \\sigma^{2}{\\left(- z_{0} - {\\xi}_{0},g_{2},g_{3} \\right)} \\sigma{\\left(z - z_{0} + {\\xi}_{0},g_{2},g_{3} \\right)}}$"
      ],
      "text/plain": [
       "Eq(u(z), sigma(-z0, g2, g3)*sigma(-z0 + xi[0], g2, g3)*sigma(z - z0 - xi[0], g2, g3)**2*u(0)*exp(z*(alpha + 6*zw(xi[0], g2, g3))/2)/(sigma(z - z0, g2, g3)*sigma(-z0 - xi[0], g2, g3)**2*sigma(z - z0 + xi[0], g2, g3)))"
      ]
     },
     "execution_count": 163,
     "metadata": {},
     "output_type": "execute_result"
    },
    {
     "data": {
      "text/latex": [
       "$\\displaystyle v{\\left(z \\right)} = \\frac{\\sigma{\\left(- z_{0},g_{2},g_{3} \\right)} \\sigma{\\left(- z_{0} - {\\xi}_{0},g_{2},g_{3} \\right)} \\sigma^{2}{\\left(z - z_{0} + {\\xi}_{0},g_{2},g_{3} \\right)} v{\\left(0 \\right)} e^{- \\frac{z \\left(\\alpha + 6 \\operatorname{zw}{\\left({\\xi}_{0},g_{2},g_{3} \\right)}\\right)}{2}}}{\\sigma{\\left(z - z_{0},g_{2},g_{3} \\right)} \\sigma^{2}{\\left(- z_{0} + {\\xi}_{0},g_{2},g_{3} \\right)} \\sigma{\\left(z - z_{0} - {\\xi}_{0},g_{2},g_{3} \\right)}}$"
      ],
      "text/plain": [
       "Eq(v(z), sigma(-z0, g2, g3)*sigma(-z0 - xi[0], g2, g3)*sigma(z - z0 + xi[0], g2, g3)**2*v(0)*exp(-z*(alpha + 6*zw(xi[0], g2, g3))/2)/(sigma(z - z0, g2, g3)*sigma(-z0 + xi[0], g2, g3)**2*sigma(z - z0 - xi[0], g2, g3)))"
      ]
     },
     "execution_count": 163,
     "metadata": {},
     "output_type": "execute_result"
    }
   ],
   "source": [
    "u_as_sigma_u0\n",
    "v_as_sigma_v0"
   ]
  },
  {
   "cell_type": "code",
   "execution_count": 164,
   "id": "3c0e605f-b01c-4fc7-8087-7dc20c0a5e93",
   "metadata": {},
   "outputs": [],
   "source": [
    "def mpc_to_float(mpc_val):\n",
    "    return float(mpc_val.real) + float(mpc_val.imag)*1j\n",
    "\n",
    "mpc_to_float_np = vectorize(mpc_to_float)\n",
    "\n",
    "# The analytic solution\n",
    "def sigma_sol(A0, z0, xi, rho, omegas):\n",
    "    return lambda z: (\n",
    "        A0 * (we.wsigma(-z0, omegas) * we.wsigma(-z0 + xi, omegas) * we.wsigma(-xi + z - z0, omegas)**2 / \n",
    "        (we.wsigma(-xi - z0, omegas)**2 * we.wsigma(z - z0, omegas) * we.wsigma(xi + z - z0, omegas))) * mpexp(z * rho)\n",
    "    )"
   ]
  },
  {
   "cell_type": "code",
   "execution_count": 165,
   "id": "02f4e4f6-4cc7-40ac-a5a2-8197fb6269cc",
   "metadata": {},
   "outputs": [],
   "source": [
    "# initial conditions (initial values)\n",
    "u_v_0 = [0.2, 3.4] \n",
    "\n",
    "# Calculate values for intermediate constants in terms of initial conditions\n",
    "u_v_init_subs = [(u(z), u_v_0[0]), (v(z), u_v_0[1])]\n",
    "u_v_0_init_subs = [(x[0].subs(z,0), x[1]) for x in u_v_init_subs]\n",
    "alpha_val_ = 0.4\n",
    "p_val_ = float(potential_scaled.rhs.subs(u_v_init_subs).subs(alpha, alpha_val_).expand())\n",
    "p_alpha_val_subs = [(p, p_val_), (alpha, alpha_val_)]\n",
    "# Calculate values for elliptic invariants in terms of initial conditions\n",
    "g2val_ = float(g2_eq.rhs.subs(p_alpha_val_subs))\n",
    "g3val_ = float(g3_eq.rhs.subs(p_alpha_val_subs))\n",
    "# Calculate lattice of elliptic functions (half-periods) in terms of initial conditions\n",
    "omega_ = we.omega_from_g(g2val_, g3val_)\n",
    "omega1_ = mpc_to_float(omega_[0])\n",
    "omega2_ = mpc_to_float(omega_[1])\n",
    "omega3_ = mpc_to_float(omega_[2])\n",
    "if im(omega2_/omega1_) <= 0:\n",
    "    omega2_ = -omega2_\n",
    "omegas = (omega1_, omega2_)  \n",
    "# Calculate complex constants in the z plane in terms of initial conditions via inverse Weierstrass P (elliptic integral)\n",
    "xi0val_ = mpc_to_float(we.invwp(pw_alpha.rhs.subs(p_alpha_val_subs), omegas, w_prime=pwp_xi0.rhs.subs(p_alpha_val_subs)))\n",
    "wz0 = pw_z0_u0_v0.rhs.subs(u_v_0_init_subs).subs(p_alpha_val_subs).expand()\n",
    "wz0p = pwp_z0_u0_v0.rhs.subs(u_v_0_init_subs).subs(p_alpha_val_subs).expand()\n",
    "z0val_ = mpc_to_float(we.invwp(wz0, omegas, wz0p))\n",
    "zw_xi0val_ = mpc_to_float(we.wzeta(xi0val_, omegas))\n",
    "rho_val_ = 3*zw_xi0val_ + alpha_val_/2\n",
    "\n",
    "# # Setup z array to evaluate over based on 2 complete periods (4 * omega1)\n",
    "# z_end = abs(4 * omega1_)\n",
    "z_end = real(omega3_)*0.3\n",
    "n_points_z = 200\n",
    "z_eval = linspace(0, z_end, n_points_z) # evaluate integral from z = 0-10 for 50 points\n",
    "\n",
    "# # Complex valued analytic vector solution (numeric evaluation)\n",
    "u_v_sol_mpmath = arraynp([\n",
    "    mpc_to_float_np(vectorize(sigma_sol(u_v_0[0], z0val_, xi0val_, rho_val_, omegas))(z_eval)),\n",
    "    mpc_to_float_np(vectorize(sigma_sol(u_v_0[1], z0val_, -xi0val_, -rho_val_, omegas))(z_eval))\n",
    "])"
   ]
  },
  {
   "cell_type": "code",
   "execution_count": 166,
   "id": "7e5315d3-fb08-4171-9ad4-cf1e3bdcae59",
   "metadata": {},
   "outputs": [],
   "source": [
    "u_p = dv2_scaled.rhs.subs(p_alpha_val_subs)\n",
    "v_p = dv1_scaled.rhs.subs(p_alpha_val_subs)\n",
    "u_v_dot = [u_p, v_p] # complex valued funtions\n",
    "_u_symb = Symbol('_u_symb')\n",
    "_v_symb = Symbol('_v_symb')\n",
    "u_v_dot_symb = [eq.subs([(u(z), _u_symb), (v(z), _v_symb)]) for eq in u_v_dot]\n",
    "f_ = lambdify((z, (_u_symb,_v_symb)), u_v_dot_symb)\n",
    "u_v_init_numeric_only = [x[1] for x in u_v_init_subs]\n",
    "# Call SciPy's ODE initial value problem solver solve_ivp by passing it\n",
    "#   the function f_,\n",
    "#   the interval of integration,\n",
    "#   the initial state, and\n",
    "#   the arguments to pass to the function f (if any)\n",
    "solution = scipy.integrate.solve_ivp(f_, (0, z_end), u_v_init_numeric_only, t_eval=z_eval)\n",
    "h_ri_sol = solution.y\n",
    "\n",
    "# complex valued numeric vector solution\n",
    "A_sol_scipy = h_ri_sol"
   ]
  },
  {
   "cell_type": "code",
   "execution_count": 167,
   "id": "c715fd63-5103-42d6-8f8f-cb7de42aeda8",
   "metadata": {
    "scrolled": true
   },
   "outputs": [
    {
     "data": {
      "text/plain": [
       "[<matplotlib.lines.Line2D at 0x144a0aad0>,\n",
       " <matplotlib.lines.Line2D at 0x144966450>]"
      ]
     },
     "execution_count": 167,
     "metadata": {},
     "output_type": "execute_result"
    },
    {
     "data": {
      "text/plain": [
       "[<matplotlib.lines.Line2D at 0x144a8a150>,\n",
       " <matplotlib.lines.Line2D at 0x144a8a890>]"
      ]
     },
     "execution_count": 167,
     "metadata": {},
     "output_type": "execute_result"
    },
    {
     "data": {
      "text/plain": [
       "<matplotlib.legend.Legend at 0x144a9a110>"
      ]
     },
     "execution_count": 167,
     "metadata": {},
     "output_type": "execute_result"
    },
    {
     "data": {
      "text/plain": [
       "Text(0, 0.5, 'Absolute Value')"
      ]
     },
     "execution_count": 167,
     "metadata": {},
     "output_type": "execute_result"
    },
    {
     "data": {
      "text/plain": [
       "Text(0.5, 0, 'z')"
      ]
     },
     "execution_count": 167,
     "metadata": {},
     "output_type": "execute_result"
    },
    {
     "data": {
      "image/png": "[encoded data removed]",
      "text/plain": [
       "<Figure size 1600x600 with 1 Axes>"
      ]
     },
     "metadata": {},
     "output_type": "display_data"
    }
   ],
   "source": [
    "fig = plt.figure(figsize=(16, 6))\n",
    "plt.plot(z_eval, absolute(u_v_sol_mpmath.T), linestyle=\"solid\", linewidth=4) \n",
    "__y_vals__ = absolute(A_sol_scipy.T)\n",
    "plt.plot(z_eval[0: len(__y_vals__)], __y_vals__, linestyle=\"dashed\", linewidth=4) \n",
    "plt.legend(['abs(u)**2 mpmath', 'abs(v)**2 mpmath', 'abs(v)**2 scipy', 'abs(v)**2 scipy'], shadow=True) \n",
    "plt.ylabel('Absolute Value')\n",
    "plt.xlabel('z')\n",
    "plt.show()"
   ]
  },
  {
   "cell_type": "markdown",
   "id": "976f7035-305b-4123-83db-430a6dce07c1",
   "metadata": {},
   "source": [
    "### System 2 Checks"
   ]
  },
  {
   "cell_type": "code",
   "execution_count": 168,
   "id": "446a737c-0a4e-4f48-bd41-f5b7dcb4e0aa",
   "metadata": {},
   "outputs": [
    {
     "data": {
      "text/latex": [
       "$\\displaystyle U{\\left(z \\right)} = \\frac{U{\\left(0 \\right)} \\sigma{\\left(- z_{0},g_{2},g_{3} \\right)} \\sigma{\\left(z - z_{0} - {\\xi}_{0},g_{2},g_{3} \\right)} e^{\\frac{z \\left(\\alpha + 6 \\operatorname{zw}{\\left({\\xi}_{0},g_{2},g_{3} \\right)}\\right)}{6}}}{\\sigma{\\left(z - z_{0},g_{2},g_{3} \\right)} \\sigma{\\left(- z_{0} - {\\xi}_{0},g_{2},g_{3} \\right)}}$"
      ],
      "text/plain": [
       "Eq(U(z), U(0)*sigma(-z0, g2, g3)*sigma(z - z0 - xi[0], g2, g3)*exp(z*(alpha + 6*zw(xi[0], g2, g3))/6)/(sigma(z - z0, g2, g3)*sigma(-z0 - xi[0], g2, g3)))"
      ]
     },
     "execution_count": 168,
     "metadata": {},
     "output_type": "execute_result"
    },
    {
     "data": {
      "text/latex": [
       "$\\displaystyle V{\\left(z \\right)} = \\frac{V{\\left(0 \\right)} \\sigma{\\left(- z_{0},g_{2},g_{3} \\right)} \\sigma{\\left(z - z_{0} + {\\xi}_{0},g_{2},g_{3} \\right)} e^{- z \\left(\\frac{\\alpha}{6} + \\operatorname{zw}{\\left({\\xi}_{0},g_{2},g_{3} \\right)}\\right)}}{\\sigma{\\left(z - z_{0},g_{2},g_{3} \\right)} \\sigma{\\left(- z_{0} + {\\xi}_{0},g_{2},g_{3} \\right)}}$"
      ],
      "text/plain": [
       "Eq(V(z), V(0)*sigma(-z0, g2, g3)*sigma(z - z0 + xi[0], g2, g3)*exp(-z*(alpha/6 + zw(xi[0], g2, g3)))/(sigma(z - z0, g2, g3)*sigma(-z0 + xi[0], g2, g3)))"
      ]
     },
     "execution_count": 168,
     "metadata": {},
     "output_type": "execute_result"
    }
   ],
   "source": [
    "Uz_Uz0\n",
    "Vz_Vz0"
   ]
  },
  {
   "cell_type": "code",
   "execution_count": 169,
   "id": "973b6ade-d521-42cc-ac94-2c360e46cd83",
   "metadata": {},
   "outputs": [],
   "source": [
    "# The analytic solution\n",
    "def sigma_sol_2(A0, z0, xi, rho, omegas):\n",
    "    return lambda z: (\n",
    "        A0 * (we.wsigma(-z0, omegas) * we.wsigma(-xi + z - z0, omegas) / (we.wsigma(-xi - z0, omegas) * we.wsigma(z - z0, omegas) )) * mpexp(z * rho)\n",
    "    )"
   ]
  },
  {
   "cell_type": "code",
   "execution_count": 170,
   "id": "461f8d8b-a178-4cc9-9047-9f3cd614a47f",
   "metadata": {},
   "outputs": [],
   "source": [
    "# initial conditions (initial values)\n",
    "U_V_0 = [0.2, 3.4] \n",
    "\n",
    "# Calculate values for intermediate constants in terms of initial conditions\n",
    "U_V_init_subs = [(U(z), U_V_0[0]), (V(z), U_V_0[1])]\n",
    "U_V_0_init_subs = [(x[0].subs(z,0), x[1]) for x in U_V_init_subs]\n",
    "alpha_val_ = 0.4\n",
    "p_val_ = float(potential_scaled_UV.rhs.subs(U_V_init_subs).subs(alpha, alpha_val_).expand())\n",
    "p_alpha_val_subs = [(p, p_val_), (alpha, alpha_val_)]\n",
    "# Calculate values for elliptic invariants in terms of initial conditions\n",
    "g2val_ = float(g2_UV.rhs.subs(p_alpha_val_subs))\n",
    "g3val_ = float(g3_UV.rhs.subs(p_alpha_val_subs))\n",
    "# Calculate lattice of elliptic functions (half-periods) in terms of initial conditions\n",
    "omega_ = we.omega_from_g(g2val_, g3val_)\n",
    "omega1_ = mpc_to_float(omega_[0])\n",
    "omega2_ = mpc_to_float(omega_[1])\n",
    "omega3_ = mpc_to_float(omega_[2])\n",
    "if im(omega2_/omega1_) <= 0:\n",
    "    omega2_ = -omega2_\n",
    "omegas = (omega1_, omega2_)  \n",
    "# Calculate complex constants in the z plane in terms of initial conditions via inverse Weierstrass P (elliptic integral)\n",
    "xi0val_ = mpc_to_float(we.invwp(pw_alpha.rhs.subs(p_alpha_val_subs), omegas, w_prime=pwp_xi0.rhs.subs(p_alpha_val_subs)))\n",
    "wz0 = pw_z0_u0_v0.rhs.subs(u_v_0_init_subs).subs(p_alpha_val_subs).expand()\n",
    "wz0p = pwp_z0_u0_v0.rhs.subs(u_v_0_init_subs).subs(p_alpha_val_subs).expand()\n",
    "z0val_ = mpc_to_float(we.invwp(wz0, omegas, wz0p))\n",
    "zw_xi0val_ = mpc_to_float(we.wzeta(xi0val_, omegas))\n",
    "rho_val_ = zw_xi0val_ + alpha_val_/6\n",
    "\n",
    "# # Setup z array to evaluate over based on 2 complete periods (4 * omega1)\n",
    "# z_end = abs(4 * omega1_)\n",
    "z_end = real(omega3_)\n",
    "n_points_z = 200\n",
    "z_eval = linspace(0, z_end, n_points_z) # evaluate integral from z = 0-10 for 50 points\n",
    "\n",
    "# # Complex valued analytic vector solution (numeric evaluation)\n",
    "U_V__sol_mpmath = arraynp([\n",
    "    mpc_to_float_np(vectorize(sigma_sol_2(U_V_0[0], z0val_, xi0val_, rho_val_, omegas))(z_eval)),\n",
    "    mpc_to_float_np(vectorize(sigma_sol_2(U_V_0[1], z0val_, -xi0val_, -rho_val_, omegas))(z_eval))\n",
    "])"
   ]
  },
  {
   "cell_type": "code",
   "execution_count": 171,
   "id": "6f9db827-eef2-48ab-85e2-e2cde4c37b10",
   "metadata": {},
   "outputs": [],
   "source": [
    "U_p = dU.rhs.subs(p_alpha_val_subs)\n",
    "V_p = dV.rhs.subs(p_alpha_val_subs)\n",
    "U_V_dot = [U_p, V_p] # complex valued funtions\n",
    "_U_symb = Symbol('_U_symb')\n",
    "_V_symb = Symbol('_V_symb')\n",
    "U_V_dot_symb = [eq.subs([(U(z), _U_symb), (V(z), _V_symb)]) for eq in U_V_dot]\n",
    "f_ = lambdify((z, (_U_symb,_V_symb)), U_V_dot_symb)\n",
    "U_V_init_numeric_only = [x[1] for x in U_V_init_subs]\n",
    "# Call SciPy's ODE initial value problem solver solve_ivp by passing it\n",
    "#   the function f_,\n",
    "#   the interval of integration,\n",
    "#   the initial state, and\n",
    "#   the arguments to pass to the function f (if any)\n",
    "solution_UV = scipy.integrate.solve_ivp(f_, (0, z_end), U_V_init_numeric_only, t_eval=z_eval)\n",
    "h_ri_sol_UV = solution_UV.y\n",
    "\n",
    "# complex valued numeric vector solution\n",
    "A_sol_scipy_UV = h_ri_sol_UV"
   ]
  },
  {
   "cell_type": "code",
   "execution_count": 172,
   "id": "0876aaca-6c39-4d75-9a82-3e3c66869051",
   "metadata": {},
   "outputs": [
    {
     "data": {
      "text/plain": [
       "[<matplotlib.lines.Line2D at 0x144ac99d0>,\n",
       " <matplotlib.lines.Line2D at 0x144b49650>]"
      ]
     },
     "execution_count": 172,
     "metadata": {},
     "output_type": "execute_result"
    },
    {
     "data": {
      "text/plain": [
       "[<matplotlib.lines.Line2D at 0x144b356d0>,\n",
       " <matplotlib.lines.Line2D at 0x144b379d0>]"
      ]
     },
     "execution_count": 172,
     "metadata": {},
     "output_type": "execute_result"
    },
    {
     "data": {
      "text/plain": [
       "<matplotlib.legend.Legend at 0x144a9b390>"
      ]
     },
     "execution_count": 172,
     "metadata": {},
     "output_type": "execute_result"
    },
    {
     "data": {
      "text/plain": [
       "Text(0, 0.5, 'Absolute Value')"
      ]
     },
     "execution_count": 172,
     "metadata": {},
     "output_type": "execute_result"
    },
    {
     "data": {
      "text/plain": [
       "Text(0.5, 0, 'z')"
      ]
     },
     "execution_count": 172,
     "metadata": {},
     "output_type": "execute_result"
    },
    {
     "data": {
      "image/png": "[encoded data removed]",
      "text/plain": [
       "<Figure size 1600x600 with 1 Axes>"
      ]
     },
     "metadata": {},
     "output_type": "display_data"
    }
   ],
   "source": [
    "fig = plt.figure(figsize=(16, 6))\n",
    "plt.plot(z_eval, absolute(U_V__sol_mpmath.T), linestyle=\"solid\", linewidth=4) \n",
    "__y_vals__ = absolute(A_sol_scipy_UV.T)\n",
    "plt.plot(z_eval[0: len(__y_vals__)], __y_vals__, linestyle=\"dashed\", linewidth=4) \n",
    "plt.legend(['abs(U)**2 mpmath', 'abs(V)**2 mpmath', 'abs(U)**2 scipy', 'abs(V)**2 scipy'], shadow=True) \n",
    "plt.ylabel('Absolute Value')\n",
    "plt.xlabel('z')\n",
    "plt.show()"
   ]
  },
  {
   "cell_type": "code",
   "execution_count": 173,
   "id": "a6efcfae-74b8-42f3-847a-f69d1b63e13a",
   "metadata": {},
   "outputs": [
    {
     "data": {
      "text/plain": [
       "(0.3828894472762656+0.22786612212350985j)"
      ]
     },
     "execution_count": 173,
     "metadata": {},
     "output_type": "execute_result"
    },
    {
     "data": {
      "text/plain": [
       "(-0.3828894472762656+0.2278661221235099j)"
      ]
     },
     "execution_count": 173,
     "metadata": {},
     "output_type": "execute_result"
    },
    {
     "data": {
      "text/plain": [
       "(0.7657788945525312-5.551115123125783e-17j)"
      ]
     },
     "execution_count": 173,
     "metadata": {},
     "output_type": "execute_result"
    }
   ],
   "source": [
    "omega1_\n",
    "omega2_\n",
    "omega3_"
   ]
  },
  {
   "cell_type": "code",
   "execution_count": 174,
   "id": "1152a4ca-d62c-497c-a428-82c79022c547",
   "metadata": {},
   "outputs": [
    {
     "data": {
      "text/plain": [
       "(-0.5105192630350208+4.366685699872561e-17j)"
      ]
     },
     "execution_count": 174,
     "metadata": {},
     "output_type": "execute_result"
    }
   ],
   "source": [
    "xi0val_"
   ]
  },
  {
   "cell_type": "code",
   "execution_count": 175,
   "id": "49e41072-c723-4601-ab28-98ba397b54c3",
   "metadata": {},
   "outputs": [
    {
     "data": {
      "text/plain": [
       "1.5"
      ]
     },
     "execution_count": 175,
     "metadata": {},
     "output_type": "execute_result"
    }
   ],
   "source": [
    "0.7657788945525312/0.5105192630350208"
   ]
  },
  {
   "cell_type": "code",
   "execution_count": 176,
   "id": "f651a76c-be66-426b-8d05-1b4a8f2a9457",
   "metadata": {},
   "outputs": [
    {
     "data": {
      "text/latex": [
       "$\\displaystyle \\xi = - \\frac{2 \\omega_{3}}{3}$"
      ],
      "text/plain": [
       "Eq(xi, -2*omega3/3)"
      ]
     },
     "execution_count": 176,
     "metadata": {},
     "output_type": "execute_result"
    }
   ],
   "source": [
    "Eq(xi, -2*omega3/3)"
   ]
  },
  {
   "cell_type": "code",
   "execution_count": 177,
   "id": "6c3c05c7-b74d-4e4f-9c71-9658b3fceff3",
   "metadata": {},
   "outputs": [
    {
     "data": {
      "text/plain": [
       "(-2.3970631797506177-4.440892098500626e-16j)"
      ]
     },
     "execution_count": 177,
     "metadata": {},
     "output_type": "execute_result"
    }
   ],
   "source": [
    "zw_xi0val_"
   ]
  },
  {
   "cell_type": "code",
   "execution_count": 178,
   "id": "473fb7bc-ccf0-4a36-86b9-7817a12f8eb0",
   "metadata": {},
   "outputs": [
    {
     "data": {
      "text/plain": [
       "(-35.955947696259265-6.661338147750939e-15j)"
      ]
     },
     "execution_count": 178,
     "metadata": {},
     "output_type": "execute_result"
    }
   ],
   "source": [
    "zw_xi0val_/(alpha_val_/6)"
   ]
  },
  {
   "cell_type": "code",
   "execution_count": 179,
   "id": "5c5ece27-60d2-4d0b-95fa-17ccd75a6f3b",
   "metadata": {},
   "outputs": [
    {
     "data": {
      "text/plain": [
       "(-2.330396513083951-4.440892098500626e-16j)"
      ]
     },
     "execution_count": 179,
     "metadata": {},
     "output_type": "execute_result"
    }
   ],
   "source": [
    "rho_val_"
   ]
  },
  {
   "cell_type": "code",
   "execution_count": 180,
   "id": "92529c59-6a4a-48ff-a161-c888a271c6a4",
   "metadata": {},
   "outputs": [
    {
     "data": {
      "text/plain": [
       "(-2.3303965130839535-5.921189464667501e-16j)"
      ]
     },
     "execution_count": 180,
     "metadata": {},
     "output_type": "execute_result"
    }
   ],
   "source": [
    "-2/3*mpc_to_float(we.wzeta(omega3_, omegas))"
   ]
  },
  {
   "cell_type": "markdown",
   "id": "d806eb06-5be1-4641-a246-1a225aab9fcb",
   "metadata": {},
   "source": [
    "### When is the Kronecker theta function doubly periodc?"
   ]
  },
  {
   "cell_type": "code",
   "execution_count": 181,
   "id": "bb23226b-97d3-493e-ac7a-2f26511f0805",
   "metadata": {},
   "outputs": [
    {
     "data": {
      "text/latex": [
       "$\\displaystyle \\sigma{\\left(2 m \\omega_{3} + 2 n \\omega_{1} + z,g_{2},g_{3} \\right)} = \\left(-1\\right)^{m n + m + n} \\sigma{\\left(z,g_{2},g_{3} \\right)} e^{2 \\eta_{1} m n \\omega_{3} + 2 \\eta_{1} n^{2} \\omega_{1} + 2 \\eta_{1} n z + 2 \\eta_{3} m^{2} \\omega_{3} + 2 \\eta_{3} m n \\omega_{1} + 2 \\eta_{3} m z}$"
      ],
      "text/plain": [
       "Eq(sigma(2*m*omega3 + 2*n*omega1 + z, g2, g3), (-1)**(m*n + m + n)*sigma(z, g2, g3)*exp(2*eta1*m*n*omega3 + 2*eta1*n**2*omega1 + 2*eta1*n*z + 2*eta3*m**2*omega3 + 2*eta3*m*n*omega1 + 2*eta3*m*z))"
      ]
     },
     "execution_count": 181,
     "metadata": {},
     "output_type": "execute_result"
    }
   ],
   "source": [
    "sigma_period_eq_sym_nm"
   ]
  },
  {
   "cell_type": "code",
   "execution_count": 182,
   "id": "95afb840-5a69-4076-b26e-ecca2b21a030",
   "metadata": {},
   "outputs": [
    {
     "data": {
      "text/latex": [
       "$\\displaystyle \\frac{\\sigma{\\left(z - {\\xi}_{0},g_{2},g_{3} \\right)} e^{z \\beta}}{\\sigma{\\left(z,g_{2},g_{3} \\right)}} = \\frac{\\sigma{\\left(2 m \\omega_{3} + 2 n \\omega_{1} + z - {\\xi}_{0},g_{2},g_{3} \\right)} e^{\\left(2 m \\omega_{3} + 2 n \\omega_{1} + z\\right) \\beta}}{\\sigma{\\left(2 m \\omega_{3} + 2 n \\omega_{1} + z,g_{2},g_{3} \\right)}}$"
      ],
      "text/plain": [
       "Eq(sigma(z - xi[0], g2, g3)*exp(z*beta)/sigma(z, g2, g3), sigma(2*m*omega3 + 2*n*omega1 + z - xi[0], g2, g3)*exp((2*m*omega3 + 2*n*omega1 + z)*beta)/sigma(2*m*omega3 + 2*n*omega1 + z, g2, g3))"
      ]
     },
     "execution_count": 182,
     "metadata": {},
     "output_type": "execute_result"
    }
   ],
   "source": [
    "_beta_dp = Eq(sigma(z-xi[0],g2,g3)/sigma(z,g2,g3)*exp(beta*z), (sigma(z-xi[0],g2,g3)/sigma(z,g2,g3)*exp(beta*z)).subs(z,z+2*m*omega3+2*n*omega1))\n",
    "_beta_dp"
   ]
  },
  {
   "cell_type": "code",
   "execution_count": 183,
   "id": "f7751e2c-68ed-4b23-98ad-8a4bebf7a2d3",
   "metadata": {},
   "outputs": [
    {
     "data": {
      "text/latex": [
       "$\\displaystyle \\frac{\\sigma{\\left(z - {\\xi}_{0},g_{2},g_{3} \\right)} e^{z \\beta}}{\\sigma{\\left(z,g_{2},g_{3} \\right)}} = \\frac{\\left(-1\\right)^{- m n - m - n} \\left(-1\\right)^{m n + m + n} \\sigma{\\left(z - {\\xi}_{0},g_{2},g_{3} \\right)} e^{\\left(2 m \\omega_{3} + 2 n \\omega_{1} + z\\right) \\beta} e^{- 2 \\eta_{1} m n \\omega_{3} - 2 \\eta_{1} n^{2} \\omega_{1} - 2 \\eta_{1} n z - 2 \\eta_{3} m^{2} \\omega_{3} - 2 \\eta_{3} m n \\omega_{1} - 2 \\eta_{3} m z} e^{2 \\eta_{1} m n \\omega_{3} + 2 \\eta_{1} n^{2} \\omega_{1} + 2 \\eta_{1} n \\left(z - {\\xi}_{0}\\right) + 2 \\eta_{3} m^{2} \\omega_{3} + 2 \\eta_{3} m n \\omega_{1} + 2 \\eta_{3} m \\left(z - {\\xi}_{0}\\right)}}{\\sigma{\\left(z,g_{2},g_{3} \\right)}}$"
      ],
      "text/plain": [
       "Eq(sigma(z - xi[0], g2, g3)*exp(z*beta)/sigma(z, g2, g3), (-1)**(-m*n - m - n)*(-1)**(m*n + m + n)*sigma(z - xi[0], g2, g3)*exp((2*m*omega3 + 2*n*omega1 + z)*beta)*exp(-2*eta1*m*n*omega3 - 2*eta1*n**2*omega1 - 2*eta1*n*z - 2*eta3*m**2*omega3 - 2*eta3*m*n*omega1 - 2*eta3*m*z)*exp(2*eta1*m*n*omega3 + 2*eta1*n**2*omega1 + 2*eta1*n*(z - xi[0]) + 2*eta3*m**2*omega3 + 2*eta3*m*n*omega1 + 2*eta3*m*(z - xi[0]))/sigma(z, g2, g3))"
      ]
     },
     "execution_count": 183,
     "metadata": {},
     "output_type": "execute_result"
    }
   ],
   "source": [
    "_beta_dp_2 = _beta_dp.subs([sigma_period_eq_sym_nm.args,sigma_period_eq_sym_nm.subs(z,z-xi[0]).args])\n",
    "_beta_dp_2"
   ]
  },
  {
   "cell_type": "code",
   "execution_count": 184,
   "id": "b6102bff-dbed-484b-b006-1d5167f5b163",
   "metadata": {},
   "outputs": [
    {
     "data": {
      "text/latex": [
       "$\\displaystyle e^{2 \\eta_{1} n {\\xi}_{0} + 2 \\eta_{3} m {\\xi}_{0} - 2 m \\omega_{3} \\beta - 2 n \\omega_{1} \\beta} = 1$"
      ],
      "text/plain": [
       "Eq(exp(2*eta1*n*xi[0] + 2*eta3*m*xi[0] - 2*m*omega3*beta - 2*n*omega1*beta), 1)"
      ]
     },
     "execution_count": 184,
     "metadata": {},
     "output_type": "execute_result"
    }
   ],
   "source": [
    "_beta_dp_3 = Eq(_beta_dp_2.lhs/_beta_dp_2.rhs, 1).simplify()\n",
    "_beta_dp_3"
   ]
  },
  {
   "cell_type": "code",
   "execution_count": 185,
   "id": "d56b8d06-3007-465d-8d7a-fd4cfa98c33f",
   "metadata": {},
   "outputs": [
    {
     "data": {
      "text/latex": [
       "$\\displaystyle - 2 m \\left(- \\eta_{3} {\\xi}_{0} + \\omega_{3} \\beta\\right) = 2 i \\pi k$"
      ],
      "text/plain": [
       "Eq(-2*m*(-eta3*xi[0] + omega3*beta), 2*I*pi*k)"
      ]
     },
     "execution_count": 185,
     "metadata": {},
     "output_type": "execute_result"
    },
    {
     "data": {
      "text/latex": [
       "$\\displaystyle - 2 n \\left(- \\eta_{1} {\\xi}_{0} + \\omega_{1} \\beta\\right) = 2 i \\pi l$"
      ],
      "text/plain": [
       "Eq(-2*n*(-eta1*xi[0] + omega1*beta), 2*I*pi*l)"
      ]
     },
     "execution_count": 185,
     "metadata": {},
     "output_type": "execute_result"
    }
   ],
   "source": [
    "_xi0_beta_1 = Eq(_beta_dp_3.lhs.args[0].subs(n,0).factor(),2*I*pi*k)\n",
    "_xi0_beta_2 =Eq(_beta_dp_3.lhs.args[0].subs(m,0).factor(),2*I*pi*l)\n",
    "_xi0_beta_1\n",
    "_xi0_beta_2"
   ]
  },
  {
   "cell_type": "code",
   "execution_count": 186,
   "id": "fa53b9e9-c946-49f6-a5e7-101bda4ee607",
   "metadata": {},
   "outputs": [
    {
     "data": {
      "text/latex": [
       "$\\displaystyle 2 m n \\left(\\eta_{1} \\omega_{3} - \\eta_{3} \\omega_{1}\\right) {\\xi}_{0} = - 2 i \\pi \\left(k n \\omega_{1} - l m \\omega_{3}\\right)$"
      ],
      "text/plain": [
       "Eq(2*m*n*(eta1*omega3 - eta3*omega1)*xi[0], -2*I*pi*(k*n*omega1 - l*m*omega3))"
      ]
     },
     "execution_count": 186,
     "metadata": {},
     "output_type": "execute_result"
    }
   ],
   "source": [
    "_xi0_beta_diff = Eq(\n",
    "    (_xi0_beta_2.lhs*omega3*m - _xi0_beta_1.lhs*omega1*n).expand().collect([xi[0], beta],factor),\n",
    "    ( _xi0_beta_2.rhs*omega3*m - _xi0_beta_1.rhs*omega1*n).expand().collect([xi[0], beta],factor)\n",
    ")\n",
    "_xi0_beta_diff"
   ]
  },
  {
   "cell_type": "code",
   "execution_count": 187,
   "id": "b0cb1d6b-eee8-4281-9252-0f0d4de766b4",
   "metadata": {},
   "outputs": [
    {
     "data": {
      "text/latex": [
       "$\\displaystyle \\eta_{1} \\omega_{3} - \\eta_{3} \\omega_{1} = \\frac{i \\pi}{2}$"
      ],
      "text/plain": [
       "Eq(eta1*omega3 - eta3*omega1, I*pi/2)"
      ]
     },
     "execution_count": 187,
     "metadata": {},
     "output_type": "execute_result"
    }
   ],
   "source": [
    "eta_omega_ww"
   ]
  },
  {
   "cell_type": "code",
   "execution_count": 188,
   "id": "caf47402-5e1a-41ba-8455-57e56daceeba",
   "metadata": {},
   "outputs": [
    {
     "data": {
      "text/latex": [
       "$\\displaystyle i \\pi m n {\\xi}_{0} = - 2 i \\pi \\left(k n \\omega_{1} - l m \\omega_{3}\\right)$"
      ],
      "text/plain": [
       "Eq(I*pi*m*n*xi[0], -2*I*pi*(k*n*omega1 - l*m*omega3))"
      ]
     },
     "execution_count": 188,
     "metadata": {},
     "output_type": "execute_result"
    }
   ],
   "source": [
    "_xi0_beta_diff.subs(*eta_omega_ww.args)"
   ]
  },
  {
   "cell_type": "code",
   "execution_count": null,
   "id": "1f4f1f49-1eb3-47c5-821e-44fd0f7e6d1b",
   "metadata": {},
   "outputs": [],
   "source": []
  },
  {
   "cell_type": "markdown",
   "id": "c2c9638e",
   "metadata": {},
   "source": [
    "## Experiment"
   ]
  },
  {
   "cell_type": "code",
   "execution_count": 198,
   "id": "fc9107f9-b5dc-4f53-9fa1-8bfe676bb864",
   "metadata": {},
   "outputs": [
    {
     "data": {
      "text/latex": [
       "$\\displaystyle \\frac{d}{d z} u{\\left(z \\right)} = \\alpha u{\\left(z \\right)} - u{\\left(z \\right)} v{\\left(z \\right)} \\kappa$"
      ],
      "text/plain": [
       "Eq(Derivative(u(z), z), alpha*u(z) - u(z)*v(z)*kappa)"
      ]
     },
     "execution_count": 198,
     "metadata": {},
     "output_type": "execute_result"
    },
    {
     "data": {
      "text/latex": [
       "$\\displaystyle \\frac{d}{d z} v{\\left(z \\right)} = - \\alpha v{\\left(z \\right)} - u{\\left(z \\right)} v{\\left(z \\right)} \\kappa$"
      ],
      "text/plain": [
       "Eq(Derivative(v(z), z), -alpha*v(z) - u(z)*v(z)*kappa)"
      ]
     },
     "execution_count": 198,
     "metadata": {},
     "output_type": "execute_result"
    }
   ],
   "source": [
    "du_alpha = dv1_lk.subs([(beta,alpha),(delta, kappa)])\n",
    "dv_alpha = dv2_lk.subs([(beta,alpha),(delta, kappa)])\n",
    "du_alpha\n",
    "dv_alpha"
   ]
  },
  {
   "cell_type": "code",
   "execution_count": 215,
   "id": "f8bb350b-6feb-4366-91a6-109859a2cc34",
   "metadata": {},
   "outputs": [
    {
     "data": {
      "text/latex": [
       "$\\displaystyle u{\\left(z \\right)} \\frac{d}{d z} v{\\left(z \\right)} + v{\\left(z \\right)} \\frac{d}{d z} u{\\left(z \\right)} = - u^{2}{\\left(z \\right)} v{\\left(z \\right)} \\kappa - u{\\left(z \\right)} v^{2}{\\left(z \\right)} \\kappa$"
      ],
      "text/plain": [
       "Eq(u(z)*Derivative(v(z), z) + v(z)*Derivative(u(z), z), -u(z)**2*v(z)*kappa - u(z)*v(z)**2*kappa)"
      ]
     },
     "execution_count": 215,
     "metadata": {},
     "output_type": "execute_result"
    },
    {
     "data": {
      "text/latex": [
       "$\\displaystyle - u{\\left(z \\right)} \\frac{d}{d z} v{\\left(z \\right)} + v{\\left(z \\right)} \\frac{d}{d z} u{\\left(z \\right)} = 2 \\alpha u{\\left(z \\right)} v{\\left(z \\right)} + u^{2}{\\left(z \\right)} v{\\left(z \\right)} \\kappa - u{\\left(z \\right)} v^{2}{\\left(z \\right)} \\kappa$"
      ],
      "text/plain": [
       "Eq(-u(z)*Derivative(v(z), z) + v(z)*Derivative(u(z), z), 2*alpha*u(z)*v(z) + u(z)**2*v(z)*kappa - u(z)*v(z)**2*kappa)"
      ]
     },
     "execution_count": 215,
     "metadata": {},
     "output_type": "execute_result"
    }
   ],
   "source": [
    "duv_alpha = Eq(du_alpha.lhs*v(z) + dv_alpha.lhs*u(z), (du_alpha.rhs*v(z) + dv_alpha.rhs*u(z)).expand())\n",
    "duv_alpha_min = Eq(du_alpha.lhs*v(z) - dv_alpha.lhs*u(z), (du_alpha.rhs*v(z) - dv_alpha.rhs*u(z)).expand())\n",
    "duv_alpha\n",
    "duv_alpha_min"
   ]
  },
  {
   "cell_type": "code",
   "execution_count": 208,
   "id": "9abbc524-5a2c-49c7-8567-9db30d0a59e5",
   "metadata": {},
   "outputs": [
    {
     "data": {
      "text/latex": [
       "$\\displaystyle \\left(u^{2}{\\left(z \\right)} v{\\left(z \\right)} - u{\\left(z \\right)} v^{2}{\\left(z \\right)}\\right) \\kappa = K + u{\\left(z \\right)} v{\\left(z \\right)} \\beta$"
      ],
      "text/plain": [
       "Eq((u(z)**2*v(z) - u(z)*v(z)**2)*kappa, K + u(z)*v(z)*beta)"
      ]
     },
     "execution_count": 208,
     "metadata": {},
     "output_type": "execute_result"
    }
   ],
   "source": [
    "uv_alpha_K = Eq(kappa*(v(z)*u(z)**2 - u(z)*v(z)**2), (u(z)*v(z))*beta + K)\n",
    "uv_alpha_K"
   ]
  },
  {
   "cell_type": "code",
   "execution_count": 209,
   "id": "0cbe9a82-de78-4677-955f-4345a3cf1d58",
   "metadata": {},
   "outputs": [
    {
     "data": {
      "text/latex": [
       "$\\displaystyle \\left(u{\\left(z \\right)} \\frac{d}{d z} v{\\left(z \\right)} + v{\\left(z \\right)} \\frac{d}{d z} u{\\left(z \\right)}\\right)^{2} = u^{4}{\\left(z \\right)} v^{2}{\\left(z \\right)} \\kappa^{2} + 2 u^{3}{\\left(z \\right)} v^{3}{\\left(z \\right)} \\kappa^{2} + u^{2}{\\left(z \\right)} v^{4}{\\left(z \\right)} \\kappa^{2}$"
      ],
      "text/plain": [
       "Eq((u(z)*Derivative(v(z), z) + v(z)*Derivative(u(z), z))**2, u(z)**4*v(z)**2*kappa**2 + 2*u(z)**3*v(z)**3*kappa**2 + u(z)**2*v(z)**4*kappa**2)"
      ]
     },
     "execution_count": 209,
     "metadata": {},
     "output_type": "execute_result"
    }
   ],
   "source": [
    "Eq(duv_alpha.lhs**2, (duv_alpha.rhs**2).expand())"
   ]
  },
  {
   "cell_type": "code",
   "execution_count": 211,
   "id": "281f459e-64c7-4051-873e-a4ae695588e1",
   "metadata": {},
   "outputs": [
    {
     "data": {
      "text/latex": [
       "$\\displaystyle - K^{2} - 2 K u{\\left(z \\right)} v{\\left(z \\right)} \\beta + u^{4}{\\left(z \\right)} v^{2}{\\left(z \\right)} \\kappa^{2} - 2 u^{3}{\\left(z \\right)} v^{3}{\\left(z \\right)} \\kappa^{2} + u^{2}{\\left(z \\right)} v^{4}{\\left(z \\right)} \\kappa^{2} - u^{2}{\\left(z \\right)} v^{2}{\\left(z \\right)} \\beta^{2} = 0$"
      ],
      "text/plain": [
       "Eq(-K**2 - 2*K*u(z)*v(z)*beta + u(z)**4*v(z)**2*kappa**2 - 2*u(z)**3*v(z)**3*kappa**2 + u(z)**2*v(z)**4*kappa**2 - u(z)**2*v(z)**2*beta**2, 0)"
      ]
     },
     "execution_count": 211,
     "metadata": {},
     "output_type": "execute_result"
    }
   ],
   "source": [
    "Eq(uv_alpha_K.lhs**2 - uv_alpha_K.rhs**2, 0).expand()"
   ]
  },
  {
   "cell_type": "code",
   "execution_count": 212,
   "id": "d476dfea",
   "metadata": {},
   "outputs": [
    {
     "data": {
      "text/latex": [
       "$\\displaystyle K = \\left(u{\\left(z \\right)} \\kappa - v{\\left(z \\right)} \\kappa - \\beta\\right) u{\\left(z \\right)} v{\\left(z \\right)}$"
      ],
      "text/plain": [
       "Eq(K, (u(z)*kappa - v(z)*kappa - beta)*u(z)*v(z))"
      ]
     },
     "execution_count": 212,
     "metadata": {},
     "output_type": "execute_result"
    }
   ],
   "source": [
    "K_uv_alpha = Eq(K, solve(uv_alpha_K,K)[0])\n",
    "K_uv_alpha"
   ]
  },
  {
   "cell_type": "code",
   "execution_count": 214,
   "id": "51382119",
   "metadata": {},
   "outputs": [
    {
     "data": {
      "text/latex": [
       "$\\displaystyle \\frac{d}{d z} u{\\left(z \\right)} = u^{2}{\\left(z \\right)} \\kappa - 2 u{\\left(z \\right)} v{\\left(z \\right)} \\kappa - u{\\left(z \\right)} \\beta$"
      ],
      "text/plain": [
       "Eq(Derivative(u(z), z), u(z)**2*kappa - 2*u(z)*v(z)*kappa - u(z)*beta)"
      ]
     },
     "execution_count": 214,
     "metadata": {},
     "output_type": "execute_result"
    },
    {
     "data": {
      "text/latex": [
       "$\\displaystyle \\frac{d}{d z} v{\\left(z \\right)} = - 2 u{\\left(z \\right)} v{\\left(z \\right)} \\kappa + v^{2}{\\left(z \\right)} \\kappa + v{\\left(z \\right)} \\beta$"
      ],
      "text/plain": [
       "Eq(Derivative(v(z), z), -2*u(z)*v(z)*kappa + v(z)**2*kappa + v(z)*beta)"
      ]
     },
     "execution_count": 214,
     "metadata": {},
     "output_type": "execute_result"
    }
   ],
   "source": [
    "Eq(diff(u(z),z), diff(K_uv_alpha.rhs,v(z))).expand()\n",
    "Eq(diff(v(z),z), -diff(K_uv_alpha.rhs,u(z))).expand()"
   ]
  },
  {
   "cell_type": "code",
   "execution_count": null,
   "id": "bf259ebf",
   "metadata": {},
   "outputs": [],
   "source": []
  }
 ],
 "metadata": {
  "kernelspec": {
   "display_name": "Python 3 (ipykernel)",
   "language": "python",
   "name": "python3"
  },
  "language_info": {
   "codemirror_mode": {
    "name": "ipython",
    "version": 3
   },
   "file_extension": ".py",
   "mimetype": "text/x-python",
   "name": "python",
   "nbconvert_exporter": "python",
   "pygments_lexer": "ipython3",
   "version": "3.11.6"
  }
 },
 "nbformat": 4,
 "nbformat_minor": 5
}
