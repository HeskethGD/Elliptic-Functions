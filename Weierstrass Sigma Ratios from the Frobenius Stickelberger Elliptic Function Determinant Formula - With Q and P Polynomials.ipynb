{
 "cells": [
  {
   "cell_type": "markdown",
   "metadata": {},
   "source": [
    "# Deriving the Coupled Ordinary Differential Equations of the Weierstrass Sigma Ratios from the Frobenius Stickelberger Determinant Formula\n",
    "\n",
    "This notebook aims to develop a set of nonlinear coupled ordinary differential equations which have ratios of Weierstrass Sigma functions as their general solutions. The functions in the differential equations are often refered to as modes in accordance with terminology borrowed from nonlinear optics. The degree of nonlinearity is thought of as the highest number of products of mode functions appearing in any term in the differential equations. The author has previously explored special cases of the quadratic and cubic nonlinearity cases and is interested in the general case of those and generalisations to higher order nonlinearities if they exist."
   ]
  },
  {
   "cell_type": "code",
   "execution_count": 1,
   "metadata": {},
   "outputs": [],
   "source": [
    "from sympy import *\n",
    "(x, y, X, Y, Z, B, C, n, m, l, j, q, N, M, K, k, epsilon, z, s, p1, p2, p3, g2, g3,\n",
    " z0, w1, w2, w3, e1, e2, e3, Delta, \n",
    " omega1, omega2, omega3, eta1, eta2, eta3, d1, d2, d3) = symbols(\n",
    "    '''x, y, X, Y, Z, B, C, n, m, l, j, q, N, M, K, k, epsilon, z, s, p1, p2, p3, g2, g3,\n",
    "    z0, w1, w2, w3, e1, e2, e3, Delta, \n",
    "    omega1, omega2, omega3, eta1, eta2, eta3, d1, d2, d3'''\n",
    ")\n",
    "alpha, delta, t, nu, epsilon, theta = symbols('alpha, delta, t, nu, epsilon, theta')\n",
    "pw = Function('pw') # Weierstrass P function\n",
    "pwp = Function('pwp') # Derivative of Weierstrass P function\n",
    "zw = Function('zw') # Weierstrass Zeta function\n",
    "sigma = Function('sigma') # Weierstrass Sigma function\n",
    "rho = Function('rho')\n",
    "f = Function('f')\n",
    "h = Function('h')\n",
    "P = Function('P') # Polynomial\n",
    "Q = Function('Q') # Polynomial\n",
    "phi = Function('phi')\n",
    "Phi = Function('Phi')\n",
    "phi1 = Function('phi1')\n",
    "phi2 = Function('phi2')\n",
    "phi3 = Function('phi3')\n",
    "A = Function('A')\n",
    "Ac = Function('Ac')\n",
    "A1 = Function('A1')\n",
    "A2 = Function('A2')\n",
    "A3 = Function('A3')\n",
    "Ac1 = Function('Ac1')\n",
    "Ac2 = Function('Ac2')\n",
    "Ac3 = Function('Ac3')\n",
    "A4 = Function('A4')\n",
    "A5 = Function('A5')\n",
    "A6 = Function('A6')\n",
    "A7 = Function('A7')\n",
    "A8 = Function('A8')\n",
    "W1 = Function('W1')\n",
    "W2 = Function('W2')\n",
    "W3 = Function('W3')\n",
    "W4 = Function('W4')\n",
    "W5 = Function('W5')\n",
    "W6 = Function('W6')\n",
    "Det = Function(\"Det\")\n",
    "\n",
    "kappa = IndexedBase('kappa')\n",
    "beta = IndexedBase('beta')\n",
    "mu = IndexedBase('mu')\n",
    "xi = IndexedBase('xi')\n",
    "a = IndexedBase('a')\n",
    "b = IndexedBase('b')\n",
    "c = IndexedBase('c')\n",
    "d = IndexedBase('d')\n",
    "p = IndexedBase('p')\n",
    "G = IndexedBase('G')\n",
    "psi = IndexedBase('psi')\n",
    "upsilon = IndexedBase('upsilon')\n",
    "WPdet = Function('WPdet')\n",
    "\n",
    "from IPython.core.interactiveshell import InteractiveShell\n",
    "InteractiveShell.ast_node_interactivity = 'all'"
   ]
  },
  {
   "cell_type": "code",
   "execution_count": 2,
   "metadata": {},
   "outputs": [],
   "source": [
    "def arrange_for(eq, x): \n",
    "    return Eq(x, solve(eq,x)[0].expand())"
   ]
  },
  {
   "cell_type": "markdown",
   "metadata": {},
   "source": [
    "## Useful Weierstrass Elliptic Function Theory\n",
    "\n",
    "This section defines some useful well known elliptic function theory which will be used in subsequent sections."
   ]
  },
  {
   "cell_type": "markdown",
   "metadata": {},
   "source": [
    "### Some known relations between Weierstrass functions (Whittaker and Watson)"
   ]
  },
  {
   "cell_type": "code",
   "execution_count": 3,
   "metadata": {},
   "outputs": [
    {
     "data": {
      "text/latex": [
       "$\\displaystyle - \\operatorname{pw}{\\left(x,g_{2},g_{3} \\right)} + \\operatorname{pw}{\\left(y,g_{2},g_{3} \\right)} = \\frac{\\sigma{\\left(x - y,g_{2},g_{3} \\right)} \\sigma{\\left(x + y,g_{2},g_{3} \\right)}}{\\sigma^{2}{\\left(x,g_{2},g_{3} \\right)} \\sigma^{2}{\\left(y,g_{2},g_{3} \\right)}}$"
      ],
      "text/plain": [
       "Eq(-pw(x, g2, g3) + pw(y, g2, g3), sigma(x - y, g2, g3)*sigma(x + y, g2, g3)/(sigma(x, g2, g3)**2*sigma(y, g2, g3)**2))"
      ]
     },
     "execution_count": 3,
     "metadata": {},
     "output_type": "execute_result"
    }
   ],
   "source": [
    "sigma_p_identity = Eq(\n",
    "    pw(y, g2, g3) - pw(x, g2, g3),\n",
    "    sigma(x + y, g2, g3) * sigma(x - y, g2, g3) / (sigma(x, g2, g3) ** 2 * sigma(y, g2, g3) ** 2) \n",
    ")\n",
    "sigma_p_identity"
   ]
  },
  {
   "cell_type": "code",
   "execution_count": 4,
   "metadata": {},
   "outputs": [
    {
     "data": {
      "text/latex": [
       "$\\displaystyle \\operatorname{pw}{\\left(x,g_{2},g_{3} \\right)} \\operatorname{pwp}{\\left(y,g_{2},g_{3} \\right)} - \\operatorname{pw}{\\left(x,g_{2},g_{3} \\right)} \\operatorname{pwp}{\\left(z,g_{2},g_{3} \\right)} - \\operatorname{pw}{\\left(y,g_{2},g_{3} \\right)} \\operatorname{pwp}{\\left(x,g_{2},g_{3} \\right)} + \\operatorname{pw}{\\left(y,g_{2},g_{3} \\right)} \\operatorname{pwp}{\\left(z,g_{2},g_{3} \\right)} + \\operatorname{pw}{\\left(z,g_{2},g_{3} \\right)} \\operatorname{pwp}{\\left(x,g_{2},g_{3} \\right)} - \\operatorname{pw}{\\left(z,g_{2},g_{3} \\right)} \\operatorname{pwp}{\\left(y,g_{2},g_{3} \\right)} = - \\frac{2 \\sigma{\\left(x - y,g_{2},g_{3} \\right)} \\sigma{\\left(x - z,g_{2},g_{3} \\right)} \\sigma{\\left(y - z,g_{2},g_{3} \\right)} \\sigma{\\left(x + y + z,g_{2},g_{3} \\right)}}{\\sigma^{3}{\\left(x,g_{2},g_{3} \\right)} \\sigma^{3}{\\left(y,g_{2},g_{3} \\right)} \\sigma^{3}{\\left(z,g_{2},g_{3} \\right)}}$"
      ],
      "text/plain": [
       "Eq(pw(x, g2, g3)*pwp(y, g2, g3) - pw(x, g2, g3)*pwp(z, g2, g3) - pw(y, g2, g3)*pwp(x, g2, g3) + pw(y, g2, g3)*pwp(z, g2, g3) + pw(z, g2, g3)*pwp(x, g2, g3) - pw(z, g2, g3)*pwp(y, g2, g3), -2*sigma(x - y, g2, g3)*sigma(x - z, g2, g3)*sigma(y - z, g2, g3)*sigma(x + y + z, g2, g3)/(sigma(x, g2, g3)**3*sigma(y, g2, g3)**3*sigma(z, g2, g3)**3))"
      ]
     },
     "execution_count": 4,
     "metadata": {},
     "output_type": "execute_result"
    }
   ],
   "source": [
    "sigma_3_vars_det_id = Eq(\n",
    "   Matrix([[1, pw(x,g2,g3), pwp(x,g2,g3)],[1, pw(y,g2,g3), pwp(y,g2,g3)],[1, pw(z,g2,g3), pwp(z,g2,g3)]]).det(),\n",
    "    -2*sigma(x+y+z,g2,g3)*sigma(x-y,g2,g3)*sigma(y-z,g2,g3)*sigma(x-z,g2,g3)/\n",
    "    (sigma(x,g2,g3)**3*sigma(y,g2,g3)**3*sigma(z,g2,g3)**3)\n",
    ")\n",
    "sigma_3_vars_det_id"
   ]
  },
  {
   "cell_type": "code",
   "execution_count": 5,
   "metadata": {},
   "outputs": [
    {
     "data": {
      "text/latex": [
       "$\\displaystyle \\frac{\\operatorname{pwp}{\\left(x,g_{2},g_{3} \\right)} - \\operatorname{pwp}{\\left(y,g_{2},g_{3} \\right)}}{2 \\left(\\operatorname{pw}{\\left(x,g_{2},g_{3} \\right)} - \\operatorname{pw}{\\left(y,g_{2},g_{3} \\right)}\\right)} = - \\operatorname{zw}{\\left(x,g_{2},g_{3} \\right)} - \\operatorname{zw}{\\left(y,g_{2},g_{3} \\right)} + \\operatorname{zw}{\\left(x + y,g_{2},g_{3} \\right)}$"
      ],
      "text/plain": [
       "Eq((pwp(x, g2, g3) - pwp(y, g2, g3))/(2*(pw(x, g2, g3) - pw(y, g2, g3))), -zw(x, g2, g3) - zw(y, g2, g3) + zw(x + y, g2, g3))"
      ]
     },
     "execution_count": 5,
     "metadata": {},
     "output_type": "execute_result"
    }
   ],
   "source": [
    "pw_to_zw_identity = Eq(\n",
    "    (pwp(x,g2,g3) - pwp(y,g2,g3))/(pw(x,g2,g3) - pw(y,g2,g3))/2,\n",
    "    zw(x + y,g2, g3) - zw(x,g2, g3) - zw(y,g2, g3)\n",
    ")\n",
    "pw_to_zw_identity"
   ]
  },
  {
   "cell_type": "code",
   "execution_count": 6,
   "metadata": {
    "scrolled": true
   },
   "outputs": [
    {
     "data": {
      "text/latex": [
       "$\\displaystyle \\int \\operatorname{zw}{\\left(z,g_{2},g_{3} \\right)}\\, dz = \\log{\\left(\\sigma{\\left(z,g_{2},g_{3} \\right)} \\right)}$"
      ],
      "text/plain": [
       "Eq(Integral(zw(z, g2, g3), z), log(sigma(z, g2, g3)))"
      ]
     },
     "execution_count": 6,
     "metadata": {},
     "output_type": "execute_result"
    }
   ],
   "source": [
    "integral_zeta_log_sigma = Eq(Integral(zw(z,g2,g3),z),log(sigma(z,g2,g3)))\n",
    "integral_zeta_log_sigma"
   ]
  },
  {
   "cell_type": "code",
   "execution_count": 7,
   "metadata": {},
   "outputs": [
    {
     "data": {
      "text/latex": [
       "$\\displaystyle \\operatorname{zw}{\\left(z,g_{2},g_{3} \\right)} = \\frac{\\frac{\\partial}{\\partial z} \\sigma{\\left(z,g_{2},g_{3} \\right)}}{\\sigma{\\left(z,g_{2},g_{3} \\right)}}$"
      ],
      "text/plain": [
       "Eq(zw(z, g2, g3), Derivative(sigma(z, g2, g3), z)/sigma(z, g2, g3))"
      ]
     },
     "execution_count": 7,
     "metadata": {},
     "output_type": "execute_result"
    }
   ],
   "source": [
    "zeta_eq = Eq(diff(integral_zeta_log_sigma.lhs,z), diff(integral_zeta_log_sigma.rhs,z))\n",
    "zeta_eq"
   ]
  },
  {
   "cell_type": "code",
   "execution_count": 8,
   "metadata": {},
   "outputs": [
    {
     "data": {
      "text/latex": [
       "$\\displaystyle \\frac{\\partial}{\\partial z} \\operatorname{zw}{\\left(z,g_{2},g_{3} \\right)} = - \\operatorname{pw}{\\left(z,g_{2},g_{3} \\right)}$"
      ],
      "text/plain": [
       "Eq(Derivative(zw(z, g2, g3), z), -pw(z, g2, g3))"
      ]
     },
     "execution_count": 8,
     "metadata": {},
     "output_type": "execute_result"
    }
   ],
   "source": [
    "diff_zeta_eq = Eq(diff(zw(z,g2,g3),z), -pw(z,g2,g3))\n",
    "diff_zeta_eq"
   ]
  },
  {
   "cell_type": "code",
   "execution_count": 9,
   "metadata": {},
   "outputs": [
    {
     "data": {
      "text/latex": [
       "$\\displaystyle \\frac{\\partial}{\\partial z} \\operatorname{pw}{\\left(z,g_{2},g_{3} \\right)} = \\operatorname{pwp}{\\left(z,g_{2},g_{3} \\right)}$"
      ],
      "text/plain": [
       "Eq(Derivative(pw(z, g2, g3), z), pwp(z, g2, g3))"
      ]
     },
     "execution_count": 9,
     "metadata": {},
     "output_type": "execute_result"
    }
   ],
   "source": [
    "diff_pw_eq = Eq(diff(pw(z,g2,g3),z), pwp(z,g2,g3))\n",
    "diff_pw_eq"
   ]
  },
  {
   "cell_type": "code",
   "execution_count": 10,
   "metadata": {},
   "outputs": [
    {
     "data": {
      "text/latex": [
       "$\\displaystyle \\operatorname{pwp}{\\left(z,g_{2},g_{3} \\right)} = - \\frac{\\sigma{\\left(2 z,g_{2},g_{3} \\right)}}{\\sigma^{4}{\\left(z,g_{2},g_{3} \\right)}}$"
      ],
      "text/plain": [
       "Eq(pwp(z, g2, g3), -sigma(2*z, g2, g3)/sigma(z, g2, g3)**4)"
      ]
     },
     "execution_count": 10,
     "metadata": {},
     "output_type": "execute_result"
    }
   ],
   "source": [
    "pwp_sigma_id = Eq(pwp(z,g2,g3),-sigma(2*z,g2,g3)/sigma(z,g2,g3)**4)\n",
    "pwp_sigma_id"
   ]
  },
  {
   "cell_type": "markdown",
   "metadata": {},
   "source": [
    "### Quasi Periodicity"
   ]
  },
  {
   "cell_type": "code",
   "execution_count": 11,
   "metadata": {},
   "outputs": [
    {
     "data": {
      "text/latex": [
       "$\\displaystyle \\sigma{\\left(2 n \\omega_{1} + z,g_{2},g_{3} \\right)} = \\left(-1\\right)^{n} \\sigma{\\left(z,g_{2},g_{3} \\right)} e^{2 \\eta_{1} n \\left(n \\omega_{1} + z\\right)}$"
      ],
      "text/plain": [
       "Eq(sigma(2*n*omega1 + z, g2, g3), (-1)**n*sigma(z, g2, g3)*exp(2*eta1*n*(n*omega1 + z)))"
      ]
     },
     "execution_count": 11,
     "metadata": {},
     "output_type": "execute_result"
    }
   ],
   "source": [
    "sigma_period_eq_1n = Eq(sigma(z + 2 * n * omega1, g2, g3), \n",
    "                       (-1) **n * sigma(z, g2, g3) * exp(2 * n * eta1 * (n * omega1 + z)))\n",
    "sigma_period_eq_1n"
   ]
  },
  {
   "cell_type": "code",
   "execution_count": 12,
   "metadata": {},
   "outputs": [
    {
     "data": {
      "text/latex": [
       "$\\displaystyle \\sigma{\\left(2 n \\omega_{3} + z,g_{2},g_{3} \\right)} = \\left(-1\\right)^{n} \\sigma{\\left(z,g_{2},g_{3} \\right)} e^{2 \\eta_{3} n \\left(n \\omega_{3} + z\\right)}$"
      ],
      "text/plain": [
       "Eq(sigma(2*n*omega3 + z, g2, g3), (-1)**n*sigma(z, g2, g3)*exp(2*eta3*n*(n*omega3 + z)))"
      ]
     },
     "execution_count": 12,
     "metadata": {},
     "output_type": "execute_result"
    }
   ],
   "source": [
    "sigma_period_eq_3n = Eq(sigma(z + 2 * n * omega3, g2, g3), \n",
    "                        (-1) **n * sigma(z, g2, g3) * exp(2 * n * eta3 * (n * omega3 + z)))\n",
    "sigma_period_eq_3n"
   ]
  },
  {
   "cell_type": "code",
   "execution_count": 13,
   "metadata": {},
   "outputs": [
    {
     "data": {
      "text/latex": [
       "$\\displaystyle \\eta_{1} \\omega_{3} - \\eta_{3} \\omega_{1} = \\frac{i \\pi}{2}$"
      ],
      "text/plain": [
       "Eq(eta1*omega3 - eta3*omega1, I*pi/2)"
      ]
     },
     "execution_count": 13,
     "metadata": {},
     "output_type": "execute_result"
    }
   ],
   "source": [
    "eta_omega_ww = Eq(eta1*omega3-eta3*omega1,I*pi/2)\n",
    "eta_omega_ww"
   ]
  },
  {
   "cell_type": "code",
   "execution_count": 14,
   "metadata": {},
   "outputs": [
    {
     "data": {
      "text/latex": [
       "$\\displaystyle e^{4 m n \\left(\\eta_{1} \\omega_{3} - \\eta_{3} \\omega_{1}\\right)} = 1$"
      ],
      "text/plain": [
       "Eq(exp(4*m*n*(eta1*omega3 - eta3*omega1)), 1)"
      ]
     },
     "execution_count": 14,
     "metadata": {},
     "output_type": "execute_result"
    }
   ],
   "source": [
    "eta1_eta3_omega_id = Eq(exp(4*n*m*eta_omega_ww.lhs), exp(4*n*m*eta_omega_ww.rhs)).subs(exp(2*I*pi*n*m), 1)\n",
    "eta1_eta3_omega_id"
   ]
  },
  {
   "cell_type": "code",
   "execution_count": 15,
   "metadata": {},
   "outputs": [
    {
     "data": {
      "text/latex": [
       "$\\displaystyle \\left(-1\\right)^{m n} e^{2 m n \\left(\\eta_{1} \\omega_{3} - \\eta_{3} \\omega_{1}\\right)} = 1$"
      ],
      "text/plain": [
       "Eq((-1)**(m*n)*exp(2*m*n*(eta1*omega3 - eta3*omega1)), 1)"
      ]
     },
     "execution_count": 15,
     "metadata": {},
     "output_type": "execute_result"
    }
   ],
   "source": [
    "symmetry_nm_eta_omega = Eq(exp(2*m*n*(eta1*omega3-eta3*omega1))*(\n",
    "    exp(2*m*n*(eta1*omega3-eta3*omega1)).subs(eta_omega_ww.lhs, eta_omega_ww.rhs).subs(exp(I*pi*n*m), (-1)**(n*m))),\n",
    "   (exp(2*m*n*(eta1*omega3-eta3*omega1))*exp(2*m*n*(eta1*omega3-eta3*omega1))\n",
    "   ).simplify().subs(eta1_eta3_omega_id.lhs, eta1_eta3_omega_id.rhs)\n",
    "  )\n",
    "symmetry_nm_eta_omega"
   ]
  },
  {
   "cell_type": "code",
   "execution_count": 16,
   "metadata": {},
   "outputs": [
    {
     "data": {
      "text/latex": [
       "$\\displaystyle \\sigma{\\left(2 m \\omega_{3} + 2 n \\omega_{1} + z,g_{2},g_{3} \\right)} = \\left(-1\\right)^{m n + m + n} \\sigma{\\left(z,g_{2},g_{3} \\right)} e^{2 \\eta_{1} m n \\omega_{3} + 2 \\eta_{1} n^{2} \\omega_{1} + 2 \\eta_{1} n z + 2 \\eta_{3} m^{2} \\omega_{3} + 2 \\eta_{3} m n \\omega_{1} + 2 \\eta_{3} m z}$"
      ],
      "text/plain": [
       "Eq(sigma(2*m*omega3 + 2*n*omega1 + z, g2, g3), (-1)**(m*n + m + n)*sigma(z, g2, g3)*exp(2*eta1*m*n*omega3 + 2*eta1*n**2*omega1 + 2*eta1*n*z + 2*eta3*m**2*omega3 + 2*eta3*m*n*omega1 + 2*eta3*m*z))"
      ]
     },
     "execution_count": 16,
     "metadata": {},
     "output_type": "execute_result"
    }
   ],
   "source": [
    "sigma_period_eq_n1_m3_b = (\n",
    "    sigma_period_eq_3n\n",
    "    .subs(n,m)\n",
    "    .subs(z,z+2*n*omega1)\n",
    "    .subs(sigma_period_eq_1n.lhs, sigma_period_eq_1n.rhs)\n",
    "    .simplify()\n",
    ")\n",
    "sigma_period_eq_sym_nm = Eq(sigma_period_eq_n1_m3_b.lhs, \n",
    "                            sigma_period_eq_n1_m3_b.rhs*symmetry_nm_eta_omega.lhs).expand().simplify()\n",
    "sigma_period_eq_sym_nm"
   ]
  },
  {
   "cell_type": "markdown",
   "metadata": {},
   "source": [
    "### Series Expansions"
   ]
  },
  {
   "cell_type": "code",
   "execution_count": 17,
   "metadata": {},
   "outputs": [
    {
     "data": {
      "text/latex": [
       "$\\displaystyle \\operatorname{pw}{\\left(z,g_{2},g_{3} \\right)} = \\sum_{n=1}^{\\infty} z^{2 n} \\left(2 n + 1\\right) {G}_{2 n + 2} + \\frac{1}{z^{2}}$"
      ],
      "text/plain": [
       "Eq(pw(z, g2, g3), Sum(z**(2*n)*(2*n + 1)*G[2*n + 2], (n, 1, oo)) + z**(-2))"
      ]
     },
     "execution_count": 17,
     "metadata": {},
     "output_type": "execute_result"
    }
   ],
   "source": [
    "expansion_z_wp = Eq(pw(z,g2,g3), 1/z**2 + Sum((2*n+1)*G[2*n+2]*z**(2*n),(n,1,oo)))\n",
    "expansion_z_wp"
   ]
  },
  {
   "cell_type": "code",
   "execution_count": 18,
   "metadata": {},
   "outputs": [],
   "source": [
    "expansion_z_wp_N = Eq(pw(z,g2,g3), 1/z**2 + Sum((2*n+1)*G[2*n+2]*z**(2*n),(n,1,N)))"
   ]
  },
  {
   "cell_type": "code",
   "execution_count": 19,
   "metadata": {},
   "outputs": [
    {
     "data": {
      "text/latex": [
       "$\\displaystyle \\frac{\\partial}{\\partial z} \\operatorname{pw}{\\left(z,g_{2},g_{3} \\right)} = \\sum_{n=1}^{\\infty} 2 n z^{2 n - 1} \\left(2 n + 1\\right) {G}_{2 n + 2} - \\frac{2}{z^{3}}$"
      ],
      "text/plain": [
       "Eq(Derivative(pw(z, g2, g3), z), Sum(2*n*z**(2*n - 1)*(2*n + 1)*G[2*n + 2], (n, 1, oo)) - 2/z**3)"
      ]
     },
     "execution_count": 19,
     "metadata": {},
     "output_type": "execute_result"
    }
   ],
   "source": [
    "Eq(diff(pw(z,g2,g3),z), diff(1/z**2,z) + Sum((2*n+1)*G[2*n+2]*diff(z**(2*n),z).simplify(),(n,1,oo)))"
   ]
  },
  {
   "cell_type": "code",
   "execution_count": 20,
   "metadata": {
    "scrolled": false
   },
   "outputs": [
    {
     "data": {
      "text/latex": [
       "$\\displaystyle \\frac{\\partial^{j}}{\\partial z^{j}} \\operatorname{pw}{\\left(z,g_{2},g_{3} \\right)} = \\left(-1\\right)^{j} z^{- j - 2} \\left(j + 1\\right)! + \\sum_{n=1}^{\\infty} z^{- j + 2 n} \\left(2 n + 1\\right) {G}_{2 n + 2} \\prod_{k=0}^{j - 1} \\left(- k + 2 n\\right)$"
      ],
      "text/plain": [
       "Eq(Derivative(pw(z, g2, g3), (z, j)), (-1)**j*z**(-j - 2)*factorial(j + 1) + Sum(z**(-j + 2*n)*(2*n + 1)*G[2*n + 2]*Product(-k + 2*n, (k, 0, j - 1)), (n, 1, oo)))"
      ]
     },
     "execution_count": 20,
     "metadata": {},
     "output_type": "execute_result"
    }
   ],
   "source": [
    "expansion_z_j_order_diff_wp = Eq(diff(pw(z,g2,g3),(z,j)), \n",
    "   (-1)**j*factorial(j+1)/z**(2+j) + Sum((2*n+1)*G[2*n+2]*Product(2*n-k,(k,0,j-1))*z**(2*n-j),(n,1,oo)))\n",
    "expansion_z_j_order_diff_wp"
   ]
  },
  {
   "cell_type": "code",
   "execution_count": 21,
   "metadata": {},
   "outputs": [
    {
     "data": {
      "text/latex": [
       "$\\displaystyle \\left(2 n + 1\\right) \\frac{\\partial^{j}}{\\partial z^{j}} z^{2 n} = \\begin{cases} z^{- j + 2 n} \\prod_{k=-1}^{j - 1} \\left(- k + 2 n\\right) & \\text{for}\\: j \\leq 2 n \\\\0 & \\text{otherwise} \\end{cases}$"
      ],
      "text/plain": [
       "Eq((2*n + 1)*Derivative(z**(2*n), (z, j)), Piecewise((z**(-j + 2*n)*Product(-k + 2*n, (k, -1, j - 1)), j <= 2*n), (0, True)))"
      ]
     },
     "execution_count": 21,
     "metadata": {},
     "output_type": "execute_result"
    }
   ],
   "source": [
    "Eq((2*n+1)*diff(z**(2*n),(z,j)),Piecewise((Product((2*n-k),(k,-1,j-1))*z**(2*n-j), j<=2*n),(0,j>2*n)))"
   ]
  },
  {
   "cell_type": "code",
   "execution_count": 22,
   "metadata": {},
   "outputs": [
    {
     "data": {
      "text/latex": [
       "$\\displaystyle \\left(2 n + 1\\right) \\frac{\\partial^{j}}{\\partial z^{j}} z^{2 n} = \\left(-1\\right)^{j + 1} z^{- j + 2 n} {\\left(- 2 n - 1\\right)}^{\\left(j + 1\\right)}$"
      ],
      "text/plain": [
       "Eq((2*n + 1)*Derivative(z**(2*n), (z, j)), (-1)**(j + 1)*z**(-j + 2*n)*RisingFactorial(-2*n - 1, j + 1))"
      ]
     },
     "execution_count": 22,
     "metadata": {},
     "output_type": "execute_result"
    }
   ],
   "source": [
    "Eq((2*n+1)*diff(z**(2*n),(z,j)),Product((2*n-k),(k,-1,j-1)).doit()*z**(2*n-j))"
   ]
  },
  {
   "cell_type": "code",
   "execution_count": 23,
   "metadata": {},
   "outputs": [
    {
     "data": {
      "text/latex": [
       "$\\displaystyle \\frac{\\partial^{j}}{\\partial z^{j}} \\operatorname{pw}{\\left(z,g_{2},g_{3} \\right)} = \\left(-1\\right)^{j} z^{- j - 2} \\left(j + 1\\right)! - \\left(-1\\right)^{j} \\sum_{n=1}^{\\infty} z^{- j + 2 n} {\\left(- 2 n - 1\\right)}^{\\left(j + 1\\right)} {G}_{2 n + 2}$"
      ],
      "text/plain": [
       "Eq(Derivative(pw(z, g2, g3), (z, j)), (-1)**j*z**(-j - 2)*factorial(j + 1) - (-1)**j*Sum(z**(-j + 2*n)*RisingFactorial(-2*n - 1, j + 1)*G[2*n + 2], (n, 1, oo)))"
      ]
     },
     "execution_count": 23,
     "metadata": {},
     "output_type": "execute_result"
    }
   ],
   "source": [
    "expansion_z_j_order_diff_wp = Eq(diff(pw(z,g2,g3),(z,j)), \n",
    "   (-1)**j*factorial(j+1)/z**(2+j) - (-1)**j*Sum(rf(-2*n-1,j+1)*G[2*n+2]*z**(2*n-j),(n,1,oo)))\n",
    "expansion_z_j_order_diff_wp"
   ]
  },
  {
   "cell_type": "code",
   "execution_count": 24,
   "metadata": {},
   "outputs": [
    {
     "data": {
      "text/latex": [
       "$\\displaystyle \\sigma{\\left(z,g_{2},g_{3} \\right)} = \\sum_{\\substack{0 \\leq n \\leq \\infty\\\\0 \\leq m \\leq \\infty}} \\frac{z^{4 m + 6 n + 1} \\left(\\frac{g_{2}}{2}\\right)^{m} \\left(2 g_{3}\\right)^{n} {a}_{m,n}}{4 m + 6 n + 1}$"
      ],
      "text/plain": [
       "Eq(sigma(z, g2, g3), Sum(z**(4*m + 6*n + 1)*(g2/2)**m*(2*g3)**n*a[m, n]/(4*m + 6*n + 1), (n, 0, oo), (m, 0, oo)))"
      ]
     },
     "execution_count": 24,
     "metadata": {},
     "output_type": "execute_result"
    }
   ],
   "source": [
    "Eq(sigma(z,g2,g3), Sum(Sum(a[m,n]*(g2/2)**m*(2*g3)**n*z**(4*m+6*n+1)/(4*m+6*n+1),(n,0,oo)),(m,0,oo)))"
   ]
  },
  {
   "cell_type": "code",
   "execution_count": 25,
   "metadata": {},
   "outputs": [
    {
     "data": {
      "text/latex": [
       "$\\displaystyle \\sigma{\\left(z,g_{2},g_{3} \\right)} = z + \\sum_{m=1}^{\\infty} \\frac{z^{4 m + 1} \\left(\\frac{g_{2}}{2}\\right)^{m} {a}_{m,0}}{4 m + 1} + \\sum_{n=1}^{\\infty} \\frac{z^{6 n + 1} \\left(2 g_{3}\\right)^{n} {a}_{0,n}}{6 n + 1} + \\sum_{\\substack{1 \\leq n \\leq \\infty\\\\1 \\leq m \\leq \\infty}} \\frac{z^{4 m + 6 n + 1} \\left(\\frac{g_{2}}{2}\\right)^{m} \\left(2 g_{3}\\right)^{n} {a}_{m,n}}{4 m + 6 n + 1}$"
      ],
      "text/plain": [
       "Eq(sigma(z, g2, g3), z + Sum(z**(4*m + 1)*(g2/2)**m*a[m, 0]/(4*m + 1), (m, 1, oo)) + Sum(z**(6*n + 1)*(2*g3)**n*a[0, n]/(6*n + 1), (n, 1, oo)) + Sum(z**(4*m + 6*n + 1)*(g2/2)**m*(2*g3)**n*a[m, n]/(4*m + 6*n + 1), (n, 1, oo), (m, 1, oo)))"
      ]
     },
     "execution_count": 25,
     "metadata": {},
     "output_type": "execute_result"
    }
   ],
   "source": [
    "Eq(sigma(z,g2,g3), \n",
    "    z + \n",
    "    Sum(a[0,n]*(2*g3)**n*z**(6*n+1)/(6*n+1),(n,1,oo)) +\n",
    "    Sum(a[m,0]*(g2/2)**m*z**(4*m+1)/(4*m+1),(m,1,oo))+\n",
    "    Sum(Sum(a[m,n]*(g2/2)**m*(2*g3)**n*z**(4*m+6*n+1)/(4*m+6*n+1),(n,1,oo)),(m,1,oo))\n",
    "  )"
   ]
  },
  {
   "cell_type": "code",
   "execution_count": 26,
   "metadata": {},
   "outputs": [],
   "source": [
    "sigma_NM_order_expansion = Eq(\n",
    "    sigma(z,g2,g3), Sum(Sum(a[m,n]*(g2/2)**m*(2*g3)**n*z**(4*m+6*n+1)/(4*m+6*n+1),(n,0,N)),(m,0,M)))\n",
    "# https://mathworld.wolfram.com/WeierstrassSigmaFunction.html\n",
    "def sigma_order_N_expansion_z(N_order, M_order):\n",
    "    low_order_a_mn_lookup = [\n",
    "        [1, -3, -54, 14904],\n",
    "        [-1, -18, 4968, 502200],\n",
    "        [-9, 513, 257580, 162100440],\n",
    "        [69, 33588, 20019960, -9465715080],\n",
    "        [321, 2808945,-376375410,-4582619446320],\n",
    "        [160839,-41843142,-210469286736,-1028311276281264]\n",
    "    ]\n",
    "    return sigma_NM_order_expansion.subs([(N,N_order),(M,M_order)]).doit().expand().subs([\n",
    "        (a[n,m], low_order_a_mn_lookup[n][m]) for n in range(0,N_order+1) for m in range(0,M_order+1)\n",
    "    ])"
   ]
  },
  {
   "cell_type": "code",
   "execution_count": 27,
   "metadata": {},
   "outputs": [
    {
     "data": {
      "text/latex": [
       "$\\displaystyle \\sigma{\\left(z,g_{2},g_{3} \\right)} = \\frac{85860 g_{2}^{2} g_{3}^{2} z^{21}}{7} + \\frac{171 g_{2}^{2} g_{3} z^{15}}{10} - \\frac{g_{2}^{2} z^{9}}{4} + \\frac{9936 g_{2} g_{3}^{2} z^{17}}{17} - \\frac{18 g_{2} g_{3} z^{11}}{11} - \\frac{g_{2} z^{5}}{10} - \\frac{216 g_{3}^{2} z^{13}}{13} - \\frac{6 g_{3} z^{7}}{7} + z$"
      ],
      "text/plain": [
       "Eq(sigma(z, g2, g3), 85860*g2**2*g3**2*z**21/7 + 171*g2**2*g3*z**15/10 - g2**2*z**9/4 + 9936*g2*g3**2*z**17/17 - 18*g2*g3*z**11/11 - g2*z**5/10 - 216*g3**2*z**13/13 - 6*g3*z**7/7 + z)"
      ]
     },
     "execution_count": 27,
     "metadata": {},
     "output_type": "execute_result"
    }
   ],
   "source": [
    "sigma_order_N_expansion_z(2, 2)"
   ]
  },
  {
   "cell_type": "code",
   "execution_count": 28,
   "metadata": {},
   "outputs": [
    {
     "data": {
      "text/latex": [
       "$\\displaystyle \\sigma{\\left(z,g_{2},g_{3} \\right)} = z - \\frac{6 g_{3} z^{7}}{7} - \\frac{g_{2} z^{5}}{10} + O\\left(z^{9}\\right)$"
      ],
      "text/plain": [
       "Eq(sigma(z, g2, g3), z - 6*g3*z**7/7 - g2*z**5/10 + O(z**9))"
      ]
     },
     "execution_count": 28,
     "metadata": {},
     "output_type": "execute_result"
    }
   ],
   "source": [
    "Eq(sigma(z,g2,g3), z - g2*z**5/10 - 6*g3/7*z**7 + O(z**9))"
   ]
  },
  {
   "cell_type": "code",
   "execution_count": 29,
   "metadata": {},
   "outputs": [
    {
     "data": {
      "text/latex": [
       "$\\displaystyle \\frac{1}{\\sigma{\\left(z,g_{2},g_{3} \\right)}} = \\frac{1}{z \\left(1 - \\frac{6 g_{3} z^{6}}{7} - \\frac{g_{2} z^{4}}{10} + O\\left(z^{8}\\right)\\right)}$"
      ],
      "text/plain": [
       "Eq(1/sigma(z, g2, g3), 1/(z*(1 - 6*g3*z**6/7 - g2*z**4/10 + O(z**8))))"
      ]
     },
     "execution_count": 29,
     "metadata": {},
     "output_type": "execute_result"
    }
   ],
   "source": [
    "Eq(1/sigma(z,g2,g3), 1/z/(1 - g2*z**4/10 - 6*g3/7*z**6 + O(z**8)))"
   ]
  },
  {
   "cell_type": "code",
   "execution_count": 30,
   "metadata": {},
   "outputs": [
    {
     "data": {
      "text/latex": [
       "$\\displaystyle \\frac{1}{\\sigma{\\left(z,g_{2},g_{3} \\right)}} = \\frac{1 + \\frac{6 g_{3} z^{6}}{7} + \\frac{g_{2} z^{4}}{10} + O\\left(z^{8}\\right)}{z}$"
      ],
      "text/plain": [
       "Eq(1/sigma(z, g2, g3), (1 + 6*g3*z**6/7 + g2*z**4/10 + O(z**8))/z)"
      ]
     },
     "execution_count": 30,
     "metadata": {},
     "output_type": "execute_result"
    }
   ],
   "source": [
    "one_over_sigma_z_big_o = Eq(1/sigma(z,g2,g3), 1/z*(1 - (- g2*z**4/10 - 6*g3/7*z**6 + O(z**8))))\n",
    "one_over_sigma_z_big_o"
   ]
  },
  {
   "cell_type": "code",
   "execution_count": 31,
   "metadata": {},
   "outputs": [
    {
     "data": {
      "text/latex": [
       "$\\displaystyle \\frac{1}{\\sigma{\\left(z,g_{2},g_{3} \\right)}} = \\frac{1}{z} + \\frac{6 g_{3} z^{5}}{7} + \\frac{g_{2} z^{3}}{10} + O\\left(z^{7}\\right)$"
      ],
      "text/plain": [
       "Eq(1/sigma(z, g2, g3), 1/z + 6*g3*z**5/7 + g2*z**3/10 + O(z**7))"
      ]
     },
     "execution_count": 31,
     "metadata": {},
     "output_type": "execute_result"
    }
   ],
   "source": [
    "one_over_sigma_z_big_o = one_over_sigma_z_big_o.expand()\n",
    "one_over_sigma_z_big_o"
   ]
  },
  {
   "cell_type": "code",
   "execution_count": 32,
   "metadata": {},
   "outputs": [
    {
     "data": {
      "text/latex": [
       "$\\displaystyle \\left(\\frac{1}{\\sigma{\\left(z,g_{2},g_{3} \\right)}}\\right)^{N} = \\left(\\frac{1}{z} + \\frac{6 g_{3} z^{5}}{7} + \\frac{g_{2} z^{3}}{10} + O\\left(z^{7}\\right)\\right)^{N}$"
      ],
      "text/plain": [
       "Eq((1/sigma(z, g2, g3))**N, (1/z + 6*g3*z**5/7 + g2*z**3/10 + O(z**7))**N)"
      ]
     },
     "execution_count": 32,
     "metadata": {},
     "output_type": "execute_result"
    }
   ],
   "source": [
    "one_over_sigma_z_power_N  = Eq((one_over_sigma_z_big_o.lhs**N).simplify(), one_over_sigma_z_big_o.rhs**N)\n",
    "one_over_sigma_z_power_N "
   ]
  },
  {
   "cell_type": "code",
   "execution_count": 33,
   "metadata": {},
   "outputs": [
    {
     "data": {
      "text/latex": [
       "$\\displaystyle f{\\left(z \\right)} = \\sum_{n=0}^{\\infty} \\frac{\\left(- x + z\\right)^{n} \\frac{d^{n}}{d x^{n}} f{\\left(x \\right)}}{n!}$"
      ],
      "text/plain": [
       "Eq(f(z), Sum((-x + z)**n*Derivative(f(x), (x, n))/factorial(n), (n, 0, oo)))"
      ]
     },
     "execution_count": 33,
     "metadata": {},
     "output_type": "execute_result"
    }
   ],
   "source": [
    "taylor_series_in_z_about_x = Eq(f(z),Sum(diff(f(z),(z,n)).subs(z,x)*(z-x)**n/factorial(n),(n,0,oo)))\n",
    "taylor_series_in_z_about_x"
   ]
  },
  {
   "cell_type": "code",
   "execution_count": 34,
   "metadata": {},
   "outputs": [
    {
     "data": {
      "text/latex": [
       "$\\displaystyle \\sigma{\\left(x + z,g_{2},g_{3} \\right)} = \\sum_{n=0}^{\\infty} \\frac{z^{n} \\frac{\\partial^{n}}{\\partial x^{n}} \\sigma{\\left(x,g_{2},g_{3} \\right)}}{n!}$"
      ],
      "text/plain": [
       "Eq(sigma(x + z, g2, g3), Sum(z**n*Derivative(sigma(x, g2, g3), (x, n))/factorial(n), (n, 0, oo)))"
      ]
     },
     "execution_count": 34,
     "metadata": {},
     "output_type": "execute_result"
    }
   ],
   "source": [
    "sigma_series_in_z_about_x = Eq(sigma(z+x,g2,g3),Sum(diff(sigma(z,g2,g3),(z,n)).subs(z,x)*z**n/factorial(n),(n,0,oo)))\n",
    "sigma_series_in_z_about_x "
   ]
  },
  {
   "cell_type": "code",
   "execution_count": 35,
   "metadata": {},
   "outputs": [
    {
     "data": {
      "text/latex": [
       "$\\displaystyle \\sigma{\\left(x + z,g_{2},g_{3} \\right)} = \\sum_{n=0}^{N} \\frac{z^{n} \\frac{\\partial^{n}}{\\partial x^{n}} \\sigma{\\left(x,g_{2},g_{3} \\right)}}{n!}$"
      ],
      "text/plain": [
       "Eq(sigma(x + z, g2, g3), Sum(z**n*Derivative(sigma(x, g2, g3), (x, n))/factorial(n), (n, 0, N)))"
      ]
     },
     "execution_count": 35,
     "metadata": {},
     "output_type": "execute_result"
    }
   ],
   "source": [
    "sigma_series_in_z_about_x_order_N = Eq(\n",
    "    sigma(z+x,g2,g3),Sum(diff(sigma(z,g2,g3),(z,n)).subs(z,x)*z**n/factorial(n),(n,0,N)))\n",
    "sigma_series_in_z_about_x_order_N"
   ]
  },
  {
   "cell_type": "code",
   "execution_count": 36,
   "metadata": {},
   "outputs": [
    {
     "data": {
      "text/latex": [
       "$\\displaystyle \\frac{\\partial}{\\partial z} \\sigma{\\left(z,g_{2},g_{3} \\right)} = \\sigma{\\left(z,g_{2},g_{3} \\right)} \\operatorname{zw}{\\left(z,g_{2},g_{3} \\right)}$"
      ],
      "text/plain": [
       "Eq(Derivative(sigma(z, g2, g3), z), sigma(z, g2, g3)*zw(z, g2, g3))"
      ]
     },
     "execution_count": 36,
     "metadata": {},
     "output_type": "execute_result"
    }
   ],
   "source": [
    "diff_sigma_1 = Eq(zeta_eq.rhs*sigma(z,g2,g3), zeta_eq.lhs*sigma(z,g2,g3))\n",
    "diff_sigma_1"
   ]
  },
  {
   "cell_type": "code",
   "execution_count": 37,
   "metadata": {},
   "outputs": [
    {
     "data": {
      "text/latex": [
       "$\\displaystyle \\frac{\\partial^{2}}{\\partial z^{2}} \\sigma{\\left(z,g_{2},g_{3} \\right)} = - \\left(\\operatorname{pw}{\\left(z,g_{2},g_{3} \\right)} - \\operatorname{zw}^{2}{\\left(z,g_{2},g_{3} \\right)}\\right) \\sigma{\\left(z,g_{2},g_{3} \\right)}$"
      ],
      "text/plain": [
       "Eq(Derivative(sigma(z, g2, g3), (z, 2)), -(pw(z, g2, g3) - zw(z, g2, g3)**2)*sigma(z, g2, g3))"
      ]
     },
     "execution_count": 37,
     "metadata": {},
     "output_type": "execute_result"
    }
   ],
   "source": [
    "diff_sigma_2 = Eq(diff(diff_sigma_1.lhs, z), \n",
    "                  diff(diff_sigma_1.rhs, z).subs([diff_sigma_1.args, diff_zeta_eq.args]).factor()\n",
    "                 )\n",
    "diff_sigma_2"
   ]
  },
  {
   "cell_type": "code",
   "execution_count": 38,
   "metadata": {},
   "outputs": [
    {
     "data": {
      "text/latex": [
       "$\\displaystyle \\frac{\\partial^{3}}{\\partial z^{3}} \\sigma{\\left(z,g_{2},g_{3} \\right)} = - \\left(3 \\operatorname{pw}{\\left(z,g_{2},g_{3} \\right)} \\operatorname{zw}{\\left(z,g_{2},g_{3} \\right)} + \\operatorname{pwp}{\\left(z,g_{2},g_{3} \\right)} - \\operatorname{zw}^{3}{\\left(z,g_{2},g_{3} \\right)}\\right) \\sigma{\\left(z,g_{2},g_{3} \\right)}$"
      ],
      "text/plain": [
       "Eq(Derivative(sigma(z, g2, g3), (z, 3)), -(3*pw(z, g2, g3)*zw(z, g2, g3) + pwp(z, g2, g3) - zw(z, g2, g3)**3)*sigma(z, g2, g3))"
      ]
     },
     "execution_count": 38,
     "metadata": {},
     "output_type": "execute_result"
    }
   ],
   "source": [
    "diff_sigma_3 = Eq(diff(diff_sigma_2.lhs, z), \n",
    "                  diff(diff_sigma_2.rhs, z).subs([diff_sigma_1.args, diff_zeta_eq.args, diff_pw_eq.args]).factor()\n",
    "                 )\n",
    "diff_sigma_3"
   ]
  },
  {
   "cell_type": "code",
   "execution_count": 387,
   "metadata": {},
   "outputs": [
    {
     "data": {
      "text/latex": [
       "$\\displaystyle \\frac{\\partial^{4}}{\\partial z^{4}} \\sigma{\\left(z,g_{2},g_{3} \\right)} = \\frac{\\left(g_{2} - 6 \\operatorname{pw}^{2}{\\left(z,g_{2},g_{3} \\right)} - 12 \\operatorname{pw}{\\left(z,g_{2},g_{3} \\right)} \\operatorname{zw}^{2}{\\left(z,g_{2},g_{3} \\right)} - 8 \\operatorname{pwp}{\\left(z,g_{2},g_{3} \\right)} \\operatorname{zw}{\\left(z,g_{2},g_{3} \\right)} + 2 \\operatorname{zw}^{4}{\\left(z,g_{2},g_{3} \\right)}\\right) \\sigma{\\left(z,g_{2},g_{3} \\right)}}{2}$"
      ],
      "text/plain": [
       "Eq(Derivative(sigma(z, g2, g3), (z, 4)), (g2 - 6*pw(z, g2, g3)**2 - 12*pw(z, g2, g3)*zw(z, g2, g3)**2 - 8*pwp(z, g2, g3)*zw(z, g2, g3) + 2*zw(z, g2, g3)**4)*sigma(z, g2, g3)/2)"
      ]
     },
     "execution_count": 387,
     "metadata": {},
     "output_type": "execute_result"
    }
   ],
   "source": [
    "diff_sigma_4 = Eq(diff(diff_sigma_3.lhs, z), \n",
    "                  diff(diff_sigma_3.rhs, z).subs([\n",
    "                      diff_sigma_2.args, diff_sigma_1.args, diff_zeta_eq.args, diff_pw_eq.args,\n",
    "                      (diff(pwp(z,g2,g3),z),-g2/2+6*pw(z,g2,g3)**2)\n",
    "                  \n",
    "                  ]).factor()\n",
    "                 )\n",
    "diff_sigma_4"
   ]
  },
  {
   "cell_type": "code",
   "execution_count": 39,
   "metadata": {},
   "outputs": [
    {
     "data": {
      "text/latex": [
       "$\\displaystyle \\sigma{\\left(x + z,g_{2},g_{3} \\right)} = \\sigma{\\left(x,g_{2},g_{3} \\right)} + z \\sigma{\\left(x,g_{2},g_{3} \\right)} \\operatorname{zw}{\\left(x,g_{2},g_{3} \\right)} - \\frac{z^{2} \\left(\\operatorname{pw}{\\left(x,g_{2},g_{3} \\right)} - \\operatorname{zw}^{2}{\\left(x,g_{2},g_{3} \\right)}\\right) \\sigma{\\left(x,g_{2},g_{3} \\right)}}{2} - \\frac{z^{3} \\left(3 \\operatorname{pw}{\\left(x,g_{2},g_{3} \\right)} \\operatorname{zw}{\\left(x,g_{2},g_{3} \\right)} + \\operatorname{pwp}{\\left(x,g_{2},g_{3} \\right)} - \\operatorname{zw}^{3}{\\left(x,g_{2},g_{3} \\right)}\\right) \\sigma{\\left(x,g_{2},g_{3} \\right)}}{6} + O\\left(z^{4}\\right)$"
      ],
      "text/plain": [
       "Eq(sigma(x + z, g2, g3), sigma(x, g2, g3) + z*sigma(x, g2, g3)*zw(x, g2, g3) - z**2*(pw(x, g2, g3) - zw(x, g2, g3)**2)*sigma(x, g2, g3)/2 - z**3*(3*pw(x, g2, g3)*zw(x, g2, g3) + pwp(x, g2, g3) - zw(x, g2, g3)**3)*sigma(x, g2, g3)/6 + O(z**4))"
      ]
     },
     "execution_count": 39,
     "metadata": {},
     "output_type": "execute_result"
    }
   ],
   "source": [
    "sigma_z_plus_x_3_exp = Eq(sigma_series_in_z_about_x_order_N.lhs, (sigma_series_in_z_about_x_order_N.subs(N,3).doit()\n",
    "     .subs(*diff_sigma_3.subs(z,x).args).subs(*diff_sigma_2.subs(z,x).args).subs(*diff_sigma_1.subs(z,x).args)\n",
    "    ).rhs +O(z**4))\n",
    "sigma_z_plus_x_3_exp"
   ]
  },
  {
   "cell_type": "code",
   "execution_count": 388,
   "metadata": {},
   "outputs": [
    {
     "data": {
      "text/latex": [
       "$\\displaystyle \\sigma{\\left(x + z,g_{2},g_{3} \\right)} = \\sigma{\\left(x,g_{2},g_{3} \\right)} + z \\sigma{\\left(x,g_{2},g_{3} \\right)} \\operatorname{zw}{\\left(x,g_{2},g_{3} \\right)} - \\frac{z^{2} \\left(\\operatorname{pw}{\\left(x,g_{2},g_{3} \\right)} - \\operatorname{zw}^{2}{\\left(x,g_{2},g_{3} \\right)}\\right) \\sigma{\\left(x,g_{2},g_{3} \\right)}}{2} - \\frac{z^{3} \\left(3 \\operatorname{pw}{\\left(x,g_{2},g_{3} \\right)} \\operatorname{zw}{\\left(x,g_{2},g_{3} \\right)} + \\operatorname{pwp}{\\left(x,g_{2},g_{3} \\right)} - \\operatorname{zw}^{3}{\\left(x,g_{2},g_{3} \\right)}\\right) \\sigma{\\left(x,g_{2},g_{3} \\right)}}{6} + \\frac{z^{4} \\left(g_{2} - 6 \\operatorname{pw}^{2}{\\left(x,g_{2},g_{3} \\right)} - 12 \\operatorname{pw}{\\left(x,g_{2},g_{3} \\right)} \\operatorname{zw}^{2}{\\left(x,g_{2},g_{3} \\right)} - 8 \\operatorname{pwp}{\\left(x,g_{2},g_{3} \\right)} \\operatorname{zw}{\\left(x,g_{2},g_{3} \\right)} + 2 \\operatorname{zw}^{4}{\\left(x,g_{2},g_{3} \\right)}\\right) \\sigma{\\left(x,g_{2},g_{3} \\right)}}{48} + O\\left(z^{5}\\right)$"
      ],
      "text/plain": [
       "Eq(sigma(x + z, g2, g3), sigma(x, g2, g3) + z*sigma(x, g2, g3)*zw(x, g2, g3) - z**2*(pw(x, g2, g3) - zw(x, g2, g3)**2)*sigma(x, g2, g3)/2 - z**3*(3*pw(x, g2, g3)*zw(x, g2, g3) + pwp(x, g2, g3) - zw(x, g2, g3)**3)*sigma(x, g2, g3)/6 + z**4*(g2 - 6*pw(x, g2, g3)**2 - 12*pw(x, g2, g3)*zw(x, g2, g3)**2 - 8*pwp(x, g2, g3)*zw(x, g2, g3) + 2*zw(x, g2, g3)**4)*sigma(x, g2, g3)/48 + O(z**5))"
      ]
     },
     "execution_count": 388,
     "metadata": {},
     "output_type": "execute_result"
    }
   ],
   "source": [
    "sigma_z_plus_x_4_exp = Eq(sigma_series_in_z_about_x_order_N.lhs, (sigma_series_in_z_about_x_order_N.subs(N,4).doit()\n",
    "     .subs(*diff_sigma_4.subs(z,x).args)\n",
    "      .subs(*diff_sigma_3.subs(z,x).args)\n",
    "      .subs(*diff_sigma_2.subs(z,x).args).subs(*diff_sigma_1.subs(z,x).args)\n",
    "    ).rhs +O(z**5))\n",
    "sigma_z_plus_x_4_exp"
   ]
  },
  {
   "cell_type": "code",
   "execution_count": 40,
   "metadata": {},
   "outputs": [
    {
     "data": {
      "text/latex": [
       "$\\displaystyle \\sigma{\\left(- x + z,g_{2},g_{3} \\right)} = - \\sigma{\\left(x,g_{2},g_{3} \\right)} + z \\sigma{\\left(x,g_{2},g_{3} \\right)} \\operatorname{zw}{\\left(x,g_{2},g_{3} \\right)} + \\frac{z^{2} \\left(\\operatorname{pw}{\\left(x,g_{2},g_{3} \\right)} - \\operatorname{zw}^{2}{\\left(x,g_{2},g_{3} \\right)}\\right) \\sigma{\\left(x,g_{2},g_{3} \\right)}}{2} + \\frac{z^{3} \\left(- 3 \\operatorname{pw}{\\left(x,g_{2},g_{3} \\right)} \\operatorname{zw}{\\left(x,g_{2},g_{3} \\right)} - \\operatorname{pwp}{\\left(x,g_{2},g_{3} \\right)} + \\operatorname{zw}^{3}{\\left(x,g_{2},g_{3} \\right)}\\right) \\sigma{\\left(x,g_{2},g_{3} \\right)}}{6} + O\\left(z^{4}\\right)$"
      ],
      "text/plain": [
       "Eq(sigma(-x + z, g2, g3), -sigma(x, g2, g3) + z*sigma(x, g2, g3)*zw(x, g2, g3) + z**2*(pw(x, g2, g3) - zw(x, g2, g3)**2)*sigma(x, g2, g3)/2 + z**3*(-3*pw(x, g2, g3)*zw(x, g2, g3) - pwp(x, g2, g3) + zw(x, g2, g3)**3)*sigma(x, g2, g3)/6 + O(z**4))"
      ]
     },
     "execution_count": 40,
     "metadata": {},
     "output_type": "execute_result"
    }
   ],
   "source": [
    "sigma_z_minus_x_3_exp = sigma_z_plus_x_3_exp.subs(x,-x).subs([\n",
    "    (sigma(-x,g2,g3),-sigma(x,g2,g3)), (zw(-x,g2,g3),-zw(x,g2,g3)), \n",
    "    (pw(-x,g2,g3),pw(x,g2,g3)), (pwp(-x,g2,g3),-pwp(x,g2,g3))\n",
    "])\n",
    "sigma_z_minus_x_3_exp"
   ]
  },
  {
   "cell_type": "code",
   "execution_count": 401,
   "metadata": {},
   "outputs": [
    {
     "data": {
      "text/latex": [
       "$\\displaystyle \\sigma{\\left(- x + z,g_{2},g_{3} \\right)} = - \\sigma{\\left(x,g_{2},g_{3} \\right)} + z \\sigma{\\left(x,g_{2},g_{3} \\right)} \\operatorname{zw}{\\left(x,g_{2},g_{3} \\right)} + \\frac{z^{2} \\left(\\operatorname{pw}{\\left(x,g_{2},g_{3} \\right)} - \\operatorname{zw}^{2}{\\left(x,g_{2},g_{3} \\right)}\\right) \\sigma{\\left(x,g_{2},g_{3} \\right)}}{2} + \\frac{z^{3} \\left(- 3 \\operatorname{pw}{\\left(x,g_{2},g_{3} \\right)} \\operatorname{zw}{\\left(x,g_{2},g_{3} \\right)} - \\operatorname{pwp}{\\left(x,g_{2},g_{3} \\right)} + \\operatorname{zw}^{3}{\\left(x,g_{2},g_{3} \\right)}\\right) \\sigma{\\left(x,g_{2},g_{3} \\right)}}{6} - \\frac{z^{4} \\left(g_{2} - 6 \\operatorname{pw}^{2}{\\left(x,g_{2},g_{3} \\right)} - 12 \\operatorname{pw}{\\left(x,g_{2},g_{3} \\right)} \\operatorname{zw}^{2}{\\left(x,g_{2},g_{3} \\right)} - 8 \\operatorname{pwp}{\\left(x,g_{2},g_{3} \\right)} \\operatorname{zw}{\\left(x,g_{2},g_{3} \\right)} + 2 \\operatorname{zw}^{4}{\\left(x,g_{2},g_{3} \\right)}\\right) \\sigma{\\left(x,g_{2},g_{3} \\right)}}{48} + O\\left(z^{5}\\right)$"
      ],
      "text/plain": [
       "Eq(sigma(-x + z, g2, g3), -sigma(x, g2, g3) + z*sigma(x, g2, g3)*zw(x, g2, g3) + z**2*(pw(x, g2, g3) - zw(x, g2, g3)**2)*sigma(x, g2, g3)/2 + z**3*(-3*pw(x, g2, g3)*zw(x, g2, g3) - pwp(x, g2, g3) + zw(x, g2, g3)**3)*sigma(x, g2, g3)/6 - z**4*(g2 - 6*pw(x, g2, g3)**2 - 12*pw(x, g2, g3)*zw(x, g2, g3)**2 - 8*pwp(x, g2, g3)*zw(x, g2, g3) + 2*zw(x, g2, g3)**4)*sigma(x, g2, g3)/48 + O(z**5))"
      ]
     },
     "execution_count": 401,
     "metadata": {},
     "output_type": "execute_result"
    }
   ],
   "source": [
    "sigma_z_minus_x_4_exp = sigma_z_plus_x_4_exp.subs(x,-x).subs([\n",
    "    (sigma(-x,g2,g3),-sigma(x,g2,g3)), (zw(-x,g2,g3),-zw(x,g2,g3)), \n",
    "    (pw(-x,g2,g3),pw(x,g2,g3)), (pwp(-x,g2,g3),-pwp(x,g2,g3))\n",
    "])\n",
    "sigma_z_minus_x_4_exp"
   ]
  },
  {
   "cell_type": "markdown",
   "metadata": {},
   "source": [
    "### Higher order derivatives of the Weierstrass P function"
   ]
  },
  {
   "cell_type": "markdown",
   "metadata": {},
   "source": [
    "Higher order derivatives of the Weierstrass P function can be determined by subsequent differentiation of the defining differential equation. These will be needed later and so the first few are calculated."
   ]
  },
  {
   "cell_type": "code",
   "execution_count": 41,
   "metadata": {},
   "outputs": [
    {
     "data": {
      "text/latex": [
       "$\\displaystyle \\left(\\frac{\\partial}{\\partial z} \\operatorname{pw}{\\left(z,g_{2},g_{3} \\right)}\\right)^{2} = - g_{2} \\operatorname{pw}{\\left(z,g_{2},g_{3} \\right)} - g_{3} + 4 \\operatorname{pw}^{3}{\\left(z,g_{2},g_{3} \\right)}$"
      ],
      "text/plain": [
       "Eq(Derivative(pw(z, g2, g3), z)**2, -g2*pw(z, g2, g3) - g3 + 4*pw(z, g2, g3)**3)"
      ]
     },
     "execution_count": 41,
     "metadata": {},
     "output_type": "execute_result"
    }
   ],
   "source": [
    "wp_diff_eq_1 = Eq((diff(pw(z,g2,g3),z))**2, 4*pw(z,g2,g3)**3 - g2 * pw(z,g2,g3) - g3)\n",
    "wp_diff_eq_1"
   ]
  },
  {
   "cell_type": "code",
   "execution_count": 42,
   "metadata": {},
   "outputs": [
    {
     "data": {
      "text/latex": [
       "$\\displaystyle \\frac{\\partial^{2}}{\\partial z^{2}} \\operatorname{pw}{\\left(z,g_{2},g_{3} \\right)} = - \\frac{g_{2}}{2} + 6 \\operatorname{pw}^{2}{\\left(z,g_{2},g_{3} \\right)}$"
      ],
      "text/plain": [
       "Eq(Derivative(pw(z, g2, g3), (z, 2)), -g2/2 + 6*pw(z, g2, g3)**2)"
      ]
     },
     "execution_count": 42,
     "metadata": {},
     "output_type": "execute_result"
    }
   ],
   "source": [
    "wp_diff_eq_2 = Eq(wp_diff_eq_1.lhs.diff(z)/pw(z,g2,g3).diff(z)/2, wp_diff_eq_1.rhs.diff(z)/pw(z,g2,g3).diff(z)/2).expand()\n",
    "wp_diff_eq_2"
   ]
  },
  {
   "cell_type": "code",
   "execution_count": 43,
   "metadata": {},
   "outputs": [
    {
     "data": {
      "text/latex": [
       "$\\displaystyle \\frac{\\partial^{3}}{\\partial z^{3}} \\operatorname{pw}{\\left(z,g_{2},g_{3} \\right)} = 12 \\operatorname{pw}{\\left(z,g_{2},g_{3} \\right)} \\frac{\\partial}{\\partial z} \\operatorname{pw}{\\left(z,g_{2},g_{3} \\right)}$"
      ],
      "text/plain": [
       "Eq(Derivative(pw(z, g2, g3), (z, 3)), 12*pw(z, g2, g3)*Derivative(pw(z, g2, g3), z))"
      ]
     },
     "execution_count": 43,
     "metadata": {},
     "output_type": "execute_result"
    }
   ],
   "source": [
    "wp_diff_eq_3 = Eq(wp_diff_eq_2.lhs.diff(z), wp_diff_eq_2.rhs.diff(z))\n",
    "wp_diff_eq_3"
   ]
  },
  {
   "cell_type": "code",
   "execution_count": 44,
   "metadata": {},
   "outputs": [
    {
     "data": {
      "text/latex": [
       "$\\displaystyle \\frac{\\partial^{4}}{\\partial z^{4}} \\operatorname{pw}{\\left(z,g_{2},g_{3} \\right)} = - 18 g_{2} \\operatorname{pw}{\\left(z,g_{2},g_{3} \\right)} - 12 g_{3} + 120 \\operatorname{pw}^{3}{\\left(z,g_{2},g_{3} \\right)}$"
      ],
      "text/plain": [
       "Eq(Derivative(pw(z, g2, g3), (z, 4)), -18*g2*pw(z, g2, g3) - 12*g3 + 120*pw(z, g2, g3)**3)"
      ]
     },
     "execution_count": 44,
     "metadata": {},
     "output_type": "execute_result"
    }
   ],
   "source": [
    "wp_diff_eq_4 = Eq(wp_diff_eq_2.lhs.diff(z,2), wp_diff_eq_2.rhs.diff(z,2).subs([\n",
    "        (wp_diff_eq_3.lhs, wp_diff_eq_3.rhs),\n",
    "        (wp_diff_eq_2.lhs, wp_diff_eq_2.rhs),\n",
    "        (wp_diff_eq_1.lhs, wp_diff_eq_1.rhs),\n",
    "    ]).expand()\n",
    ")\n",
    "wp_diff_eq_4"
   ]
  },
  {
   "cell_type": "code",
   "execution_count": 45,
   "metadata": {},
   "outputs": [
    {
     "data": {
      "text/latex": [
       "$\\displaystyle \\frac{\\partial^{5}}{\\partial z^{5}} \\operatorname{pw}{\\left(z,g_{2},g_{3} \\right)} = - 18 g_{2} \\frac{\\partial}{\\partial z} \\operatorname{pw}{\\left(z,g_{2},g_{3} \\right)} + 360 \\operatorname{pw}^{2}{\\left(z,g_{2},g_{3} \\right)} \\frac{\\partial}{\\partial z} \\operatorname{pw}{\\left(z,g_{2},g_{3} \\right)}$"
      ],
      "text/plain": [
       "Eq(Derivative(pw(z, g2, g3), (z, 5)), -18*g2*Derivative(pw(z, g2, g3), z) + 360*pw(z, g2, g3)**2*Derivative(pw(z, g2, g3), z))"
      ]
     },
     "execution_count": 45,
     "metadata": {},
     "output_type": "execute_result"
    }
   ],
   "source": [
    "wp_diff_eq_5 = Eq(wp_diff_eq_2.lhs.diff(z,3), wp_diff_eq_2.rhs.diff(z,3).subs([\n",
    "        (wp_diff_eq_4.lhs, wp_diff_eq_4.rhs),\n",
    "        (wp_diff_eq_3.lhs, wp_diff_eq_3.rhs),\n",
    "        (wp_diff_eq_2.lhs, wp_diff_eq_2.rhs),\n",
    "        (wp_diff_eq_1.lhs, wp_diff_eq_1.rhs),\n",
    "    ]).expand()\n",
    ")\n",
    "wp_diff_eq_5"
   ]
  },
  {
   "cell_type": "code",
   "execution_count": 46,
   "metadata": {
    "scrolled": true
   },
   "outputs": [
    {
     "data": {
      "text/latex": [
       "$\\displaystyle \\frac{\\partial^{6}}{\\partial z^{6}} \\operatorname{pw}{\\left(z,g_{2},g_{3} \\right)} = 9 g_{2}^{2} - 1008 g_{2} \\operatorname{pw}^{2}{\\left(z,g_{2},g_{3} \\right)} - 720 g_{3} \\operatorname{pw}{\\left(z,g_{2},g_{3} \\right)} + 5040 \\operatorname{pw}^{4}{\\left(z,g_{2},g_{3} \\right)}$"
      ],
      "text/plain": [
       "Eq(Derivative(pw(z, g2, g3), (z, 6)), 9*g2**2 - 1008*g2*pw(z, g2, g3)**2 - 720*g3*pw(z, g2, g3) + 5040*pw(z, g2, g3)**4)"
      ]
     },
     "execution_count": 46,
     "metadata": {},
     "output_type": "execute_result"
    }
   ],
   "source": [
    "wp_diff_eq_6 = Eq(wp_diff_eq_2.lhs.diff(z,4), wp_diff_eq_2.rhs.diff(z,4).subs([\n",
    "        (wp_diff_eq_5.lhs, wp_diff_eq_5.rhs),\n",
    "        (wp_diff_eq_4.lhs, wp_diff_eq_4.rhs),\n",
    "        (wp_diff_eq_3.lhs, wp_diff_eq_3.rhs),\n",
    "        (wp_diff_eq_2.lhs, wp_diff_eq_2.rhs),\n",
    "        (wp_diff_eq_1.lhs, wp_diff_eq_1.rhs),\n",
    "    ]).expand()\n",
    ")\n",
    "wp_diff_eq_6"
   ]
  },
  {
   "cell_type": "code",
   "execution_count": 47,
   "metadata": {},
   "outputs": [],
   "source": [
    "higher_order_diffs = [\n",
    "    (wp_diff_eq_6.lhs, wp_diff_eq_6.rhs),\n",
    "    (wp_diff_eq_5.lhs, wp_diff_eq_5.rhs),\n",
    "    (wp_diff_eq_4.lhs, wp_diff_eq_4.rhs),\n",
    "    (wp_diff_eq_3.lhs, wp_diff_eq_3.rhs),\n",
    "    (wp_diff_eq_2.lhs, wp_diff_eq_2.rhs),\n",
    "    (wp_diff_eq_1.lhs, wp_diff_eq_1.rhs),\n",
    "]"
   ]
  },
  {
   "cell_type": "markdown",
   "metadata": {},
   "source": [
    "### The general differential equation for a ratio of Weierstrass sigma functions"
   ]
  },
  {
   "cell_type": "code",
   "execution_count": 48,
   "metadata": {},
   "outputs": [
    {
     "data": {
      "text/latex": [
       "$\\displaystyle \\frac{\\partial}{\\partial z} \\log{\\left(\\frac{\\sigma{\\left(x + z,g_{2},g_{3} \\right)}}{\\sigma{\\left(x,g_{2},g_{3} \\right)} \\sigma{\\left(z,g_{2},g_{3} \\right)}} \\right)} = \\frac{\\left. \\frac{\\partial}{\\partial \\xi_{1}} \\sigma{\\left(\\xi_{1},g_{2},g_{3} \\right)} \\right|_{\\substack{ \\xi_{1}=x + z }}}{\\sigma{\\left(x + z,g_{2},g_{3} \\right)}} - \\frac{\\frac{\\partial}{\\partial z} \\sigma{\\left(z,g_{2},g_{3} \\right)}}{\\sigma{\\left(z,g_{2},g_{3} \\right)}}$"
      ],
      "text/plain": [
       "Eq(Derivative(log(sigma(x + z, g2, g3)/(sigma(x, g2, g3)*sigma(z, g2, g3))), z), Subs(Derivative(sigma(_xi_1, g2, g3), _xi_1), _xi_1, x + z)/sigma(x + z, g2, g3) - Derivative(sigma(z, g2, g3), z)/sigma(z, g2, g3))"
      ]
     },
     "execution_count": 48,
     "metadata": {},
     "output_type": "execute_result"
    }
   ],
   "source": [
    "log_sigma_x_plus_z_diff = Eq(Derivative(log(sigma(z + x,g2,g3)/sigma(z,g2,g3)/sigma(x,g2,g3)),z), \n",
    "   diff(log(sigma(z + x,g2,g3)/sigma(z,g2,g3)/sigma(x,g2,g3)),z).expand()\n",
    "  )\n",
    "log_sigma_x_plus_z_diff"
   ]
  },
  {
   "cell_type": "code",
   "execution_count": 49,
   "metadata": {},
   "outputs": [
    {
     "data": {
      "text/latex": [
       "$\\displaystyle \\operatorname{zw}{\\left(x + z,g_{2},g_{3} \\right)} = \\frac{\\left. \\frac{\\partial}{\\partial \\xi_{1}} \\sigma{\\left(\\xi_{1},g_{2},g_{3} \\right)} \\right|_{\\substack{ \\xi_{1}=x + z }}}{\\sigma{\\left(x + z,g_{2},g_{3} \\right)}}$"
      ],
      "text/plain": [
       "Eq(zw(x + z, g2, g3), Subs(Derivative(sigma(z, g2, g3), z), z, x + z)/sigma(x + z, g2, g3))"
      ]
     },
     "execution_count": 49,
     "metadata": {},
     "output_type": "execute_result"
    }
   ],
   "source": [
    "zeta_eq.subs(z,z+x)"
   ]
  },
  {
   "cell_type": "code",
   "execution_count": 50,
   "metadata": {},
   "outputs": [
    {
     "data": {
      "text/latex": [
       "$\\displaystyle \\frac{\\partial}{\\partial z} \\log{\\left(\\frac{\\sigma{\\left(x + z,g_{2},g_{3} \\right)}}{\\sigma{\\left(x,g_{2},g_{3} \\right)} \\sigma{\\left(z,g_{2},g_{3} \\right)}} \\right)} = - \\operatorname{zw}{\\left(z,g_{2},g_{3} \\right)} + \\operatorname{zw}{\\left(x + z,g_{2},g_{3} \\right)}$"
      ],
      "text/plain": [
       "Eq(Derivative(log(sigma(x + z, g2, g3)/(sigma(x, g2, g3)*sigma(z, g2, g3))), z), -zw(z, g2, g3) + zw(x + z, g2, g3))"
      ]
     },
     "execution_count": 50,
     "metadata": {},
     "output_type": "execute_result"
    }
   ],
   "source": [
    "log_sig_ratio_zx = Eq(log_sigma_x_plus_z_diff.lhs, \n",
    "   log_sigma_x_plus_z_diff.rhs \n",
    "   + zeta_eq.subs(z,z+x).lhs - zeta_eq.subs(z,z+x).rhs\n",
    "   - zeta_eq.lhs + zeta_eq.rhs\n",
    "  )\n",
    "\n",
    "log_sig_ratio_zx"
   ]
  },
  {
   "cell_type": "code",
   "execution_count": 51,
   "metadata": {},
   "outputs": [
    {
     "data": {
      "text/latex": [
       "$\\displaystyle \\frac{\\operatorname{pwp}{\\left(x,g_{2},g_{3} \\right)} - \\operatorname{pwp}{\\left(z,g_{2},g_{3} \\right)}}{2 \\left(\\operatorname{pw}{\\left(x,g_{2},g_{3} \\right)} - \\operatorname{pw}{\\left(z,g_{2},g_{3} \\right)}\\right)} = - \\operatorname{zw}{\\left(x,g_{2},g_{3} \\right)} - \\operatorname{zw}{\\left(z,g_{2},g_{3} \\right)} + \\operatorname{zw}{\\left(x + z,g_{2},g_{3} \\right)}$"
      ],
      "text/plain": [
       "Eq((pwp(x, g2, g3) - pwp(z, g2, g3))/(2*(pw(x, g2, g3) - pw(z, g2, g3))), -zw(x, g2, g3) - zw(z, g2, g3) + zw(x + z, g2, g3))"
      ]
     },
     "execution_count": 51,
     "metadata": {},
     "output_type": "execute_result"
    }
   ],
   "source": [
    "pw_to_zw_identity.subs(y,z)"
   ]
  },
  {
   "cell_type": "code",
   "execution_count": 52,
   "metadata": {},
   "outputs": [
    {
     "data": {
      "text/latex": [
       "$\\displaystyle \\frac{\\partial}{\\partial z} \\log{\\left(\\frac{\\sigma{\\left(x + z,g_{2},g_{3} \\right)}}{\\sigma{\\left(x,g_{2},g_{3} \\right)} \\sigma{\\left(z,g_{2},g_{3} \\right)}} \\right)} = \\operatorname{zw}{\\left(x,g_{2},g_{3} \\right)} + \\frac{\\operatorname{pwp}{\\left(x,g_{2},g_{3} \\right)} - \\operatorname{pwp}{\\left(z,g_{2},g_{3} \\right)}}{2 \\left(\\operatorname{pw}{\\left(x,g_{2},g_{3} \\right)} - \\operatorname{pw}{\\left(z,g_{2},g_{3} \\right)}\\right)}$"
      ],
      "text/plain": [
       "Eq(Derivative(log(sigma(x + z, g2, g3)/(sigma(x, g2, g3)*sigma(z, g2, g3))), z), zw(x, g2, g3) + (pwp(x, g2, g3) - pwp(z, g2, g3))/(2*(pw(x, g2, g3) - pw(z, g2, g3))))"
      ]
     },
     "execution_count": 52,
     "metadata": {},
     "output_type": "execute_result"
    }
   ],
   "source": [
    "log_sig_ratio_zx_p_conj = Eq(log_sig_ratio_zx.lhs, \n",
    "   log_sig_ratio_zx.rhs + pw_to_zw_identity.subs(y,z).lhs - pw_to_zw_identity.subs(y,z).rhs\n",
    "  )\n",
    "log_sig_ratio_zx_p_conj"
   ]
  },
  {
   "cell_type": "code",
   "execution_count": 53,
   "metadata": {},
   "outputs": [
    {
     "data": {
      "text/latex": [
       "$\\displaystyle \\frac{\\partial}{\\partial z} \\log{\\left(\\frac{\\sigma{\\left(x - z,g_{2},g_{3} \\right)}}{\\sigma{\\left(x,g_{2},g_{3} \\right)} \\sigma{\\left(z,g_{2},g_{3} \\right)}} \\right)} = - \\operatorname{zw}{\\left(x,g_{2},g_{3} \\right)} + \\frac{- \\operatorname{pwp}{\\left(x,g_{2},g_{3} \\right)} - \\operatorname{pwp}{\\left(z,g_{2},g_{3} \\right)}}{2 \\left(\\operatorname{pw}{\\left(x,g_{2},g_{3} \\right)} - \\operatorname{pw}{\\left(z,g_{2},g_{3} \\right)}\\right)}$"
      ],
      "text/plain": [
       "Eq(Derivative(log(sigma(x - z, g2, g3)/(sigma(x, g2, g3)*sigma(z, g2, g3))), z), -zw(x, g2, g3) + (-pwp(x, g2, g3) - pwp(z, g2, g3))/(2*(pw(x, g2, g3) - pw(z, g2, g3))))"
      ]
     },
     "execution_count": 53,
     "metadata": {},
     "output_type": "execute_result"
    }
   ],
   "source": [
    "log_sig_ratio_zx_p = Eq(log_sig_ratio_zx.lhs, \n",
    "   log_sig_ratio_zx.rhs + pw_to_zw_identity.subs(y,z).lhs - pw_to_zw_identity.subs(y,z).rhs\n",
    "  ).subs(x,-x).subs([\n",
    "    (sigma(-x,g2,g3), -sigma(x,g2,g3)),\n",
    "    (zw(-x,g2,g3), -zw(x,g2,g3)),\n",
    "    (pwp(-x,g2,g3), -pwp(x,g2,g3)),\n",
    "    (pw(-x,g2,g3), pw(x,g2,g3))\n",
    "]).subs(sigma(-x+z,g2,g3), -sigma(x-z,g2,g3))\n",
    "log_sig_ratio_zx_p"
   ]
  },
  {
   "cell_type": "markdown",
   "metadata": {},
   "source": [
    "## Frobenius Stickelberger Elliptic Function Determinant Formula"
   ]
  },
  {
   "cell_type": "markdown",
   "metadata": {},
   "source": [
    "The following addition formula is from Whittaker and Watson 5th edition Example 20.21 p481. It relates a product of Weierstrass Sigma functions to a matrix determinant of the Weierstrass P function and its derivatives. It is attributed to Frobenius and Stickelberger (the author of this current work has attempted an english translation and digitalisation of the original paper). The author of this work considers this identity to be of considerbale importance as it relates a product of $N$ Weierstrass Sigma ratios, each distinguised by a parmeter $\\xi_n$ plus the two invariants $g_2, g_3$, to a polynomial in the Weierstrass P function formed with the same invariants. It will be shown how this can be thought of as relating four-wave mixing terms which provide nonlinear coupling, to phase modulation terms which enable decoupling and hence solvability/integrability.\n",
    "\n",
    "As it is difficult to display the general case for an arbitrary $N$ dimensional matrix in Python, the identity is defined as a Python function and then the first few cases are displayed for low $N$ to give an idea of the nature of the identity. Some of the low order cases are recognisable as well know Weierstrass Elliptic function identities (in fact the author would go so far as to guess that most identities of such a nature that are frequently \"discovered\" are special cases of the FS determinant formula). Some of the low order identities are also typed in explicitly from the literature and compared to the function output for the general case as a test to check for errors in the implementation of the general formula."
   ]
  },
  {
   "cell_type": "markdown",
   "metadata": {},
   "source": [
    "### The Determinant of Derivatives of Weierstrass P Functions\n",
    "\n",
    "Let $\\mathrm{WPdet}$ denote the following matrix determinant of derivatives of the Weiertrass P function. In general, the $N$ dimensional case is a function of $N+1$ free complex parameters $\\mu_n$ and two free complex ellptic invariants $g_2,g_3$, where \"free\" means their values can be arbitrarily assigned and still satisfy the identity. To simplify the notation not all parameters will always be specified but the following should be considered equivalent:"
   ]
  },
  {
   "cell_type": "code",
   "execution_count": 54,
   "metadata": {},
   "outputs": [
    {
     "data": {
      "text/latex": [
       "$\\displaystyle \\operatorname{WPdet}{\\left(N \\right)} = \\operatorname{WPdet}{\\left({\\mu}_{n},g_{2},g_{3} \\right)}$"
      ],
      "text/plain": [
       "Eq(WPdet(N), WPdet(mu[n], g2, g3))"
      ]
     },
     "execution_count": 54,
     "metadata": {},
     "output_type": "execute_result"
    }
   ],
   "source": [
    "Eq(WPdet(N), WPdet(mu[n], g2, g3))"
   ]
  },
  {
   "cell_type": "code",
   "execution_count": 55,
   "metadata": {},
   "outputs": [],
   "source": [
    "def p_matrix_f_s(N): \n",
    "    return Matrix([[1, *[pw(x,g2,g3).diff((x,j)).subs(x,mu[k]) for j in range(N)]] for k in range(N+1)])"
   ]
  },
  {
   "cell_type": "code",
   "execution_count": 56,
   "metadata": {},
   "outputs": [
    {
     "data": {
      "text/latex": [
       "$\\displaystyle \\operatorname{WPdet}{\\left(1 \\right)} = \\operatorname{Det}{\\left(\\left[\\begin{matrix}1 & \\operatorname{pw}{\\left({\\mu}_{0},g_{2},g_{3} \\right)}\\\\1 & \\operatorname{pw}{\\left({\\mu}_{1},g_{2},g_{3} \\right)}\\end{matrix}\\right] \\right)}$"
      ],
      "text/plain": [
       "Eq(WPdet(1), Det(Matrix([\n",
       "[1, pw(mu[0], g2, g3)],\n",
       "[1, pw(mu[1], g2, g3)]])))"
      ]
     },
     "execution_count": 56,
     "metadata": {},
     "output_type": "execute_result"
    }
   ],
   "source": [
    "Eq(WPdet(1), Det(p_matrix_f_s(1)))"
   ]
  },
  {
   "cell_type": "code",
   "execution_count": 57,
   "metadata": {},
   "outputs": [
    {
     "data": {
      "text/latex": [
       "$\\displaystyle \\operatorname{WPdet}{\\left(2 \\right)} = \\operatorname{Det}{\\left(\\left[\\begin{matrix}1 & \\operatorname{pw}{\\left({\\mu}_{0},g_{2},g_{3} \\right)} & \\frac{\\partial}{\\partial {\\mu}_{0}} \\operatorname{pw}{\\left({\\mu}_{0},g_{2},g_{3} \\right)}\\\\1 & \\operatorname{pw}{\\left({\\mu}_{1},g_{2},g_{3} \\right)} & \\frac{\\partial}{\\partial {\\mu}_{1}} \\operatorname{pw}{\\left({\\mu}_{1},g_{2},g_{3} \\right)}\\\\1 & \\operatorname{pw}{\\left({\\mu}_{2},g_{2},g_{3} \\right)} & \\frac{\\partial}{\\partial {\\mu}_{2}} \\operatorname{pw}{\\left({\\mu}_{2},g_{2},g_{3} \\right)}\\end{matrix}\\right] \\right)}$"
      ],
      "text/plain": [
       "Eq(WPdet(2), Det(Matrix([\n",
       "[1, pw(mu[0], g2, g3), Derivative(pw(mu[0], g2, g3), mu[0])],\n",
       "[1, pw(mu[1], g2, g3), Derivative(pw(mu[1], g2, g3), mu[1])],\n",
       "[1, pw(mu[2], g2, g3), Derivative(pw(mu[2], g2, g3), mu[2])]])))"
      ]
     },
     "execution_count": 57,
     "metadata": {},
     "output_type": "execute_result"
    }
   ],
   "source": [
    "Eq(WPdet(2), Det(p_matrix_f_s(2)))"
   ]
  },
  {
   "cell_type": "code",
   "execution_count": 58,
   "metadata": {},
   "outputs": [
    {
     "data": {
      "text/latex": [
       "$\\displaystyle \\operatorname{WPdet}{\\left(3 \\right)} = \\operatorname{Det}{\\left(\\left[\\begin{matrix}1 & \\operatorname{pw}{\\left({\\mu}_{0},g_{2},g_{3} \\right)} & \\frac{\\partial}{\\partial {\\mu}_{0}} \\operatorname{pw}{\\left({\\mu}_{0},g_{2},g_{3} \\right)} & \\frac{\\partial^{2}}{\\partial {\\mu}_{0}^{2}} \\operatorname{pw}{\\left({\\mu}_{0},g_{2},g_{3} \\right)}\\\\1 & \\operatorname{pw}{\\left({\\mu}_{1},g_{2},g_{3} \\right)} & \\frac{\\partial}{\\partial {\\mu}_{1}} \\operatorname{pw}{\\left({\\mu}_{1},g_{2},g_{3} \\right)} & \\frac{\\partial^{2}}{\\partial {\\mu}_{1}^{2}} \\operatorname{pw}{\\left({\\mu}_{1},g_{2},g_{3} \\right)}\\\\1 & \\operatorname{pw}{\\left({\\mu}_{2},g_{2},g_{3} \\right)} & \\frac{\\partial}{\\partial {\\mu}_{2}} \\operatorname{pw}{\\left({\\mu}_{2},g_{2},g_{3} \\right)} & \\frac{\\partial^{2}}{\\partial {\\mu}_{2}^{2}} \\operatorname{pw}{\\left({\\mu}_{2},g_{2},g_{3} \\right)}\\\\1 & \\operatorname{pw}{\\left({\\mu}_{3},g_{2},g_{3} \\right)} & \\frac{\\partial}{\\partial {\\mu}_{3}} \\operatorname{pw}{\\left({\\mu}_{3},g_{2},g_{3} \\right)} & \\frac{\\partial^{2}}{\\partial {\\mu}_{3}^{2}} \\operatorname{pw}{\\left({\\mu}_{3},g_{2},g_{3} \\right)}\\end{matrix}\\right] \\right)}$"
      ],
      "text/plain": [
       "Eq(WPdet(3), Det(Matrix([\n",
       "[1, pw(mu[0], g2, g3), Derivative(pw(mu[0], g2, g3), mu[0]), Derivative(pw(mu[0], g2, g3), (mu[0], 2))],\n",
       "[1, pw(mu[1], g2, g3), Derivative(pw(mu[1], g2, g3), mu[1]), Derivative(pw(mu[1], g2, g3), (mu[1], 2))],\n",
       "[1, pw(mu[2], g2, g3), Derivative(pw(mu[2], g2, g3), mu[2]), Derivative(pw(mu[2], g2, g3), (mu[2], 2))],\n",
       "[1, pw(mu[3], g2, g3), Derivative(pw(mu[3], g2, g3), mu[3]), Derivative(pw(mu[3], g2, g3), (mu[3], 2))]])))"
      ]
     },
     "execution_count": 58,
     "metadata": {},
     "output_type": "execute_result"
    }
   ],
   "source": [
    "Eq(WPdet(3), Det(p_matrix_f_s(3)))"
   ]
  },
  {
   "cell_type": "markdown",
   "metadata": {},
   "source": [
    "### Products of Weierstarss Sigma Functions and the FS Determinant Formula Definition\n",
    "\n",
    "The FS determinant fromula relates the determinnat of derivatives of the Weierstrass P function, to products of Weierstrass Sigma functions. It is defined as:"
   ]
  },
  {
   "cell_type": "code",
   "execution_count": 59,
   "metadata": {},
   "outputs": [],
   "source": [
    "sigma_product_f_s = (\n",
    "    (-1)**(N*(N-1)/2)*\n",
    "    Product(factorial(k),(k,1,N))*\n",
    "    sigma(Sum(mu[j],(j,0,N)),g2,g3)*\n",
    "    Product(Product(Piecewise((sigma(mu[l] - mu[m], g2, g3),l<m),(1,True)),(l,0,N)),(m,0,N))/\n",
    "    Product(sigma(mu[n],g2,g3)**(N+1),(n,0,N))\n",
    ")\n",
    "\n",
    "def frob_stick(Nval, evaluated=False, WPversion=False):\n",
    "    if evaluated:\n",
    "        return Eq(p_matrix_f_s(Nval).det(), sigma_product_f_s.subs(N,Nval).doit())\n",
    "    elif WPversion:\n",
    "        return Eq(WPdet(Nval), sigma_product_f_s.subs(N,Nval).doit())\n",
    "    return Eq(Det(p_matrix_f_s(Nval)), sigma_product_f_s.subs(N,Nval).doit())"
   ]
  },
  {
   "cell_type": "code",
   "execution_count": 60,
   "metadata": {},
   "outputs": [
    {
     "data": {
      "text/latex": [
       "$\\displaystyle \\operatorname{WPdet}{\\left(N \\right)} = \\frac{\\left(-1\\right)^{\\frac{N \\left(N - 1\\right)}{2}} \\left(\\sigma{\\left(\\sum_{j=0}^{N} {\\mu}_{j},g_{2},g_{3} \\right)}\\right) \\left(\\prod_{k=1}^{N} k!\\right) \\prod_{\\substack{0 \\leq l \\leq N\\\\0 \\leq m \\leq N}} \\begin{cases} \\sigma{\\left({\\mu}_{l} - {\\mu}_{m},g_{2},g_{3} \\right)} & \\text{for}\\: l < m \\\\1 & \\text{otherwise} \\end{cases}}{\\prod_{n=0}^{N} \\sigma^{N + 1}{\\left({\\mu}_{n},g_{2},g_{3} \\right)}}$"
      ],
      "text/plain": [
       "Eq(WPdet(N), (-1)**(N*(N - 1)/2)*sigma(Sum(mu[j], (j, 0, N)), g2, g3)*Product(factorial(k), (k, 1, N))*Product(Piecewise((sigma(mu[l] - mu[m], g2, g3), l < m), (1, True)), (l, 0, N), (m, 0, N))/Product(sigma(mu[n], g2, g3)**(N + 1), (n, 0, N)))"
      ]
     },
     "execution_count": 60,
     "metadata": {},
     "output_type": "execute_result"
    }
   ],
   "source": [
    "Eq(WPdet(N), sigma_product_f_s)"
   ]
  },
  {
   "cell_type": "markdown",
   "metadata": {},
   "source": [
    "### N=1 Case \n",
    "\n",
    "The $N=1$ cases gives the familiar relation between Sigma and Weierstrass P in Ex 20.5.2 p473 Whittaker and Watson 5th edition. Typed in explicitly from the literature for testing purposes this identity is:"
   ]
  },
  {
   "cell_type": "code",
   "execution_count": 61,
   "metadata": {},
   "outputs": [
    {
     "data": {
      "text/latex": [
       "$\\displaystyle - \\operatorname{pw}{\\left(x,g_{2},g_{3} \\right)} + \\operatorname{pw}{\\left(y,g_{2},g_{3} \\right)} = \\frac{\\sigma{\\left(x - y,g_{2},g_{3} \\right)} \\sigma{\\left(x + y,g_{2},g_{3} \\right)}}{\\sigma^{2}{\\left(x,g_{2},g_{3} \\right)} \\sigma^{2}{\\left(y,g_{2},g_{3} \\right)}}$"
      ],
      "text/plain": [
       "Eq(-pw(x, g2, g3) + pw(y, g2, g3), sigma(x - y, g2, g3)*sigma(x + y, g2, g3)/(sigma(x, g2, g3)**2*sigma(y, g2, g3)**2))"
      ]
     },
     "execution_count": 61,
     "metadata": {},
     "output_type": "execute_result"
    }
   ],
   "source": [
    "sigma_p_identity"
   ]
  },
  {
   "cell_type": "markdown",
   "metadata": {},
   "source": [
    "The FS determinant formula typed into this notebook for the $N=1$ case gives:"
   ]
  },
  {
   "cell_type": "code",
   "execution_count": 62,
   "metadata": {},
   "outputs": [
    {
     "data": {
      "text/latex": [
       "$\\displaystyle \\operatorname{WPdet}{\\left(1 \\right)} = \\frac{\\sigma{\\left({\\mu}_{0} - {\\mu}_{1},g_{2},g_{3} \\right)} \\sigma{\\left({\\mu}_{0} + {\\mu}_{1},g_{2},g_{3} \\right)}}{\\sigma^{2}{\\left({\\mu}_{0},g_{2},g_{3} \\right)} \\sigma^{2}{\\left({\\mu}_{1},g_{2},g_{3} \\right)}}$"
      ],
      "text/plain": [
       "Eq(WPdet(1), sigma(mu[0] - mu[1], g2, g3)*sigma(mu[0] + mu[1], g2, g3)/(sigma(mu[0], g2, g3)**2*sigma(mu[1], g2, g3)**2))"
      ]
     },
     "execution_count": 62,
     "metadata": {},
     "output_type": "execute_result"
    }
   ],
   "source": [
    "frob_stick(1, WPversion=True)"
   ]
  },
  {
   "cell_type": "code",
   "execution_count": 63,
   "metadata": {
    "scrolled": true
   },
   "outputs": [
    {
     "data": {
      "text/latex": [
       "$\\displaystyle \\operatorname{Det}{\\left(\\left[\\begin{matrix}1 & \\operatorname{pw}{\\left({\\mu}_{0},g_{2},g_{3} \\right)}\\\\1 & \\operatorname{pw}{\\left({\\mu}_{1},g_{2},g_{3} \\right)}\\end{matrix}\\right] \\right)} = \\frac{\\sigma{\\left({\\mu}_{0} - {\\mu}_{1},g_{2},g_{3} \\right)} \\sigma{\\left({\\mu}_{0} + {\\mu}_{1},g_{2},g_{3} \\right)}}{\\sigma^{2}{\\left({\\mu}_{0},g_{2},g_{3} \\right)} \\sigma^{2}{\\left({\\mu}_{1},g_{2},g_{3} \\right)}}$"
      ],
      "text/plain": [
       "Eq(Det(Matrix([\n",
       "[1, pw(mu[0], g2, g3)],\n",
       "[1, pw(mu[1], g2, g3)]])), sigma(mu[0] - mu[1], g2, g3)*sigma(mu[0] + mu[1], g2, g3)/(sigma(mu[0], g2, g3)**2*sigma(mu[1], g2, g3)**2))"
      ]
     },
     "execution_count": 63,
     "metadata": {},
     "output_type": "execute_result"
    }
   ],
   "source": [
    "frob_stick(1)"
   ]
  },
  {
   "cell_type": "code",
   "execution_count": 64,
   "metadata": {},
   "outputs": [
    {
     "data": {
      "text/latex": [
       "$\\displaystyle - \\operatorname{pw}{\\left({\\mu}_{0},g_{2},g_{3} \\right)} + \\operatorname{pw}{\\left({\\mu}_{1},g_{2},g_{3} \\right)} = \\frac{\\sigma{\\left({\\mu}_{0} - {\\mu}_{1},g_{2},g_{3} \\right)} \\sigma{\\left({\\mu}_{0} + {\\mu}_{1},g_{2},g_{3} \\right)}}{\\sigma^{2}{\\left({\\mu}_{0},g_{2},g_{3} \\right)} \\sigma^{2}{\\left({\\mu}_{1},g_{2},g_{3} \\right)}}$"
      ],
      "text/plain": [
       "Eq(-pw(mu[0], g2, g3) + pw(mu[1], g2, g3), sigma(mu[0] - mu[1], g2, g3)*sigma(mu[0] + mu[1], g2, g3)/(sigma(mu[0], g2, g3)**2*sigma(mu[1], g2, g3)**2))"
      ]
     },
     "execution_count": 64,
     "metadata": {},
     "output_type": "execute_result"
    }
   ],
   "source": [
    "frob_stick(1, evaluated=True)"
   ]
  },
  {
   "cell_type": "markdown",
   "metadata": {},
   "source": [
    "The test shows these to be equivalent:"
   ]
  },
  {
   "cell_type": "code",
   "execution_count": 65,
   "metadata": {},
   "outputs": [
    {
     "data": {
      "text/plain": [
       "False"
      ]
     },
     "execution_count": 65,
     "metadata": {},
     "output_type": "execute_result"
    }
   ],
   "source": [
    "N_1_case_f_s = frob_stick(1, evaluated=True).subs([(mu[0],x),(mu[1],z)])\n",
    "(N_1_case_f_s.rhs - sigma_p_identity.lhs == 0) & (N_1_case_f_s.lhs - sigma_p_identity.rhs == 0)"
   ]
  },
  {
   "cell_type": "markdown",
   "metadata": {},
   "source": [
    "### N=2 Case \n",
    "\n",
    "The $N=2$ case gives the example in Ex 20.20 Whittaker and Watson 5th edition p481. Typed in explicitly from the literature for testing purposes this identity is:"
   ]
  },
  {
   "cell_type": "code",
   "execution_count": 66,
   "metadata": {
    "scrolled": true
   },
   "outputs": [
    {
     "data": {
      "text/latex": [
       "$\\displaystyle \\operatorname{pw}{\\left(x,g_{2},g_{3} \\right)} \\operatorname{pwp}{\\left(y,g_{2},g_{3} \\right)} - \\operatorname{pw}{\\left(x,g_{2},g_{3} \\right)} \\operatorname{pwp}{\\left(z,g_{2},g_{3} \\right)} - \\operatorname{pw}{\\left(y,g_{2},g_{3} \\right)} \\operatorname{pwp}{\\left(x,g_{2},g_{3} \\right)} + \\operatorname{pw}{\\left(y,g_{2},g_{3} \\right)} \\operatorname{pwp}{\\left(z,g_{2},g_{3} \\right)} + \\operatorname{pw}{\\left(z,g_{2},g_{3} \\right)} \\operatorname{pwp}{\\left(x,g_{2},g_{3} \\right)} - \\operatorname{pw}{\\left(z,g_{2},g_{3} \\right)} \\operatorname{pwp}{\\left(y,g_{2},g_{3} \\right)} = - \\frac{2 \\sigma{\\left(x - y,g_{2},g_{3} \\right)} \\sigma{\\left(x - z,g_{2},g_{3} \\right)} \\sigma{\\left(y - z,g_{2},g_{3} \\right)} \\sigma{\\left(x + y + z,g_{2},g_{3} \\right)}}{\\sigma^{3}{\\left(x,g_{2},g_{3} \\right)} \\sigma^{3}{\\left(y,g_{2},g_{3} \\right)} \\sigma^{3}{\\left(z,g_{2},g_{3} \\right)}}$"
      ],
      "text/plain": [
       "Eq(pw(x, g2, g3)*pwp(y, g2, g3) - pw(x, g2, g3)*pwp(z, g2, g3) - pw(y, g2, g3)*pwp(x, g2, g3) + pw(y, g2, g3)*pwp(z, g2, g3) + pw(z, g2, g3)*pwp(x, g2, g3) - pw(z, g2, g3)*pwp(y, g2, g3), -2*sigma(x - y, g2, g3)*sigma(x - z, g2, g3)*sigma(y - z, g2, g3)*sigma(x + y + z, g2, g3)/(sigma(x, g2, g3)**3*sigma(y, g2, g3)**3*sigma(z, g2, g3)**3))"
      ]
     },
     "execution_count": 66,
     "metadata": {},
     "output_type": "execute_result"
    }
   ],
   "source": [
    "sigma_3_vars_det_id"
   ]
  },
  {
   "cell_type": "markdown",
   "metadata": {},
   "source": [
    "The FS determinant formula typed into this notebook for the $N=2$ case gives:"
   ]
  },
  {
   "cell_type": "code",
   "execution_count": 67,
   "metadata": {},
   "outputs": [
    {
     "data": {
      "text/latex": [
       "$\\displaystyle \\operatorname{WPdet}{\\left(2 \\right)} = - \\frac{2 \\sigma{\\left({\\mu}_{0} - {\\mu}_{1},g_{2},g_{3} \\right)} \\sigma{\\left({\\mu}_{0} - {\\mu}_{2},g_{2},g_{3} \\right)} \\sigma{\\left({\\mu}_{1} - {\\mu}_{2},g_{2},g_{3} \\right)} \\sigma{\\left({\\mu}_{0} + {\\mu}_{1} + {\\mu}_{2},g_{2},g_{3} \\right)}}{\\sigma^{3}{\\left({\\mu}_{0},g_{2},g_{3} \\right)} \\sigma^{3}{\\left({\\mu}_{1},g_{2},g_{3} \\right)} \\sigma^{3}{\\left({\\mu}_{2},g_{2},g_{3} \\right)}}$"
      ],
      "text/plain": [
       "Eq(WPdet(2), -2*sigma(mu[0] - mu[1], g2, g3)*sigma(mu[0] - mu[2], g2, g3)*sigma(mu[1] - mu[2], g2, g3)*sigma(mu[0] + mu[1] + mu[2], g2, g3)/(sigma(mu[0], g2, g3)**3*sigma(mu[1], g2, g3)**3*sigma(mu[2], g2, g3)**3))"
      ]
     },
     "execution_count": 67,
     "metadata": {},
     "output_type": "execute_result"
    }
   ],
   "source": [
    "frob_stick(2, WPversion=True)"
   ]
  },
  {
   "cell_type": "code",
   "execution_count": 68,
   "metadata": {},
   "outputs": [
    {
     "data": {
      "text/latex": [
       "$\\displaystyle \\operatorname{Det}{\\left(\\left[\\begin{matrix}1 & \\operatorname{pw}{\\left({\\mu}_{0},g_{2},g_{3} \\right)} & \\frac{\\partial}{\\partial {\\mu}_{0}} \\operatorname{pw}{\\left({\\mu}_{0},g_{2},g_{3} \\right)}\\\\1 & \\operatorname{pw}{\\left({\\mu}_{1},g_{2},g_{3} \\right)} & \\frac{\\partial}{\\partial {\\mu}_{1}} \\operatorname{pw}{\\left({\\mu}_{1},g_{2},g_{3} \\right)}\\\\1 & \\operatorname{pw}{\\left({\\mu}_{2},g_{2},g_{3} \\right)} & \\frac{\\partial}{\\partial {\\mu}_{2}} \\operatorname{pw}{\\left({\\mu}_{2},g_{2},g_{3} \\right)}\\end{matrix}\\right] \\right)} = - \\frac{2 \\sigma{\\left({\\mu}_{0} - {\\mu}_{1},g_{2},g_{3} \\right)} \\sigma{\\left({\\mu}_{0} - {\\mu}_{2},g_{2},g_{3} \\right)} \\sigma{\\left({\\mu}_{1} - {\\mu}_{2},g_{2},g_{3} \\right)} \\sigma{\\left({\\mu}_{0} + {\\mu}_{1} + {\\mu}_{2},g_{2},g_{3} \\right)}}{\\sigma^{3}{\\left({\\mu}_{0},g_{2},g_{3} \\right)} \\sigma^{3}{\\left({\\mu}_{1},g_{2},g_{3} \\right)} \\sigma^{3}{\\left({\\mu}_{2},g_{2},g_{3} \\right)}}$"
      ],
      "text/plain": [
       "Eq(Det(Matrix([\n",
       "[1, pw(mu[0], g2, g3), Derivative(pw(mu[0], g2, g3), mu[0])],\n",
       "[1, pw(mu[1], g2, g3), Derivative(pw(mu[1], g2, g3), mu[1])],\n",
       "[1, pw(mu[2], g2, g3), Derivative(pw(mu[2], g2, g3), mu[2])]])), -2*sigma(mu[0] - mu[1], g2, g3)*sigma(mu[0] - mu[2], g2, g3)*sigma(mu[1] - mu[2], g2, g3)*sigma(mu[0] + mu[1] + mu[2], g2, g3)/(sigma(mu[0], g2, g3)**3*sigma(mu[1], g2, g3)**3*sigma(mu[2], g2, g3)**3))"
      ]
     },
     "execution_count": 68,
     "metadata": {},
     "output_type": "execute_result"
    }
   ],
   "source": [
    "frob_stick(2)"
   ]
  },
  {
   "cell_type": "code",
   "execution_count": 69,
   "metadata": {},
   "outputs": [
    {
     "data": {
      "text/latex": [
       "$\\displaystyle \\operatorname{pw}{\\left({\\mu}_{0},g_{2},g_{3} \\right)} \\frac{\\partial}{\\partial {\\mu}_{1}} \\operatorname{pw}{\\left({\\mu}_{1},g_{2},g_{3} \\right)} - \\operatorname{pw}{\\left({\\mu}_{0},g_{2},g_{3} \\right)} \\frac{\\partial}{\\partial {\\mu}_{2}} \\operatorname{pw}{\\left({\\mu}_{2},g_{2},g_{3} \\right)} - \\operatorname{pw}{\\left({\\mu}_{1},g_{2},g_{3} \\right)} \\frac{\\partial}{\\partial {\\mu}_{0}} \\operatorname{pw}{\\left({\\mu}_{0},g_{2},g_{3} \\right)} + \\operatorname{pw}{\\left({\\mu}_{1},g_{2},g_{3} \\right)} \\frac{\\partial}{\\partial {\\mu}_{2}} \\operatorname{pw}{\\left({\\mu}_{2},g_{2},g_{3} \\right)} + \\operatorname{pw}{\\left({\\mu}_{2},g_{2},g_{3} \\right)} \\frac{\\partial}{\\partial {\\mu}_{0}} \\operatorname{pw}{\\left({\\mu}_{0},g_{2},g_{3} \\right)} - \\operatorname{pw}{\\left({\\mu}_{2},g_{2},g_{3} \\right)} \\frac{\\partial}{\\partial {\\mu}_{1}} \\operatorname{pw}{\\left({\\mu}_{1},g_{2},g_{3} \\right)} = - \\frac{2 \\sigma{\\left({\\mu}_{0} - {\\mu}_{1},g_{2},g_{3} \\right)} \\sigma{\\left({\\mu}_{0} - {\\mu}_{2},g_{2},g_{3} \\right)} \\sigma{\\left({\\mu}_{1} - {\\mu}_{2},g_{2},g_{3} \\right)} \\sigma{\\left({\\mu}_{0} + {\\mu}_{1} + {\\mu}_{2},g_{2},g_{3} \\right)}}{\\sigma^{3}{\\left({\\mu}_{0},g_{2},g_{3} \\right)} \\sigma^{3}{\\left({\\mu}_{1},g_{2},g_{3} \\right)} \\sigma^{3}{\\left({\\mu}_{2},g_{2},g_{3} \\right)}}$"
      ],
      "text/plain": [
       "Eq(pw(mu[0], g2, g3)*Derivative(pw(mu[1], g2, g3), mu[1]) - pw(mu[0], g2, g3)*Derivative(pw(mu[2], g2, g3), mu[2]) - pw(mu[1], g2, g3)*Derivative(pw(mu[0], g2, g3), mu[0]) + pw(mu[1], g2, g3)*Derivative(pw(mu[2], g2, g3), mu[2]) + pw(mu[2], g2, g3)*Derivative(pw(mu[0], g2, g3), mu[0]) - pw(mu[2], g2, g3)*Derivative(pw(mu[1], g2, g3), mu[1]), -2*sigma(mu[0] - mu[1], g2, g3)*sigma(mu[0] - mu[2], g2, g3)*sigma(mu[1] - mu[2], g2, g3)*sigma(mu[0] + mu[1] + mu[2], g2, g3)/(sigma(mu[0], g2, g3)**3*sigma(mu[1], g2, g3)**3*sigma(mu[2], g2, g3)**3))"
      ]
     },
     "execution_count": 69,
     "metadata": {},
     "output_type": "execute_result"
    }
   ],
   "source": [
    "frob_stick(2, evaluated=True)"
   ]
  },
  {
   "cell_type": "markdown",
   "metadata": {},
   "source": [
    "The test shows these to be equivalent:"
   ]
  },
  {
   "cell_type": "code",
   "execution_count": 70,
   "metadata": {},
   "outputs": [
    {
     "data": {
      "text/plain": [
       "True"
      ]
     },
     "execution_count": 70,
     "metadata": {},
     "output_type": "execute_result"
    }
   ],
   "source": [
    "N_2_case_f_s = frob_stick(2, evaluated=True).subs([\n",
    "    *[(Derivative(pw(mu[k], g2, g3), mu[k]), pwp(mu[k],g2,g3)) for k in range(2+1)]\n",
    "]).subs([(mu[0],x),(mu[1],y),(mu[2],z)])\n",
    "(sigma_3_vars_det_id.lhs-N_2_case_f_s.lhs == 0) & (sigma_3_vars_det_id.rhs-N_2_case_f_s.rhs == 0)"
   ]
  },
  {
   "cell_type": "markdown",
   "metadata": {},
   "source": [
    "## The one-dimensional z case"
   ]
  },
  {
   "cell_type": "markdown",
   "metadata": {},
   "source": [
    "In this section, it is shown that the product of sigma functions can be factored into a simpler form by dividing the determinant of the $N$ case by the determinant of the $N-1$ case. Thereafter, the final row of the $N$ dinensional matrix is considered to be a function of a single variable $z$ and the other rows are considered constants, therfore the $N-1$ case is a constant when considering only the $N^{th}$ row as a function of $z$. In this form, the $z$ variable would respresent distance along some optical waveguide while the $N-1$ parameters distinguish the modes."
   ]
  },
  {
   "cell_type": "code",
   "execution_count": 71,
   "metadata": {},
   "outputs": [
    {
     "data": {
      "text/plain": [
       "[True, True]"
      ]
     },
     "execution_count": 71,
     "metadata": {},
     "output_type": "execute_result"
    }
   ],
   "source": [
    "sigma_product_f_s_N_factored = (\n",
    "    (-1)**(N*(N-1)/2)*\n",
    "    Product(factorial(k),(k,1,N-1))*\n",
    "    factorial(N)*\n",
    "    sigma(Sum(mu[j],(j,0,N)),g2,g3)*\n",
    "    Product(Product(Piecewise((sigma(mu[l] - mu[m], g2, g3),l<m),(1,True)),(l,0,N-1)),(m,0,N-1))*\n",
    "    Product(Piecewise((sigma(mu[l] - mu[N], g2, g3),l<N),(1,True)),(l,0,N))/\n",
    "    Product(sigma(mu[n],g2,g3)**(N),(n,0,N))/\n",
    "    Product(sigma(mu[n],g2,g3),(n,0,N))\n",
    ")\n",
    "\n",
    "sigma_product_f_s_N_over_N_minus_1 = (sigma_product_f_s_N_factored/sigma_product_f_s.subs(N,N-1))\n",
    "\n",
    "sigma_product_f_s_N_over_N_minus_1_explicitly_typed = (\n",
    "    (-1)**(N*(N-1)/2)*\n",
    "    (-1)**(-(N-2)*(N-1)/2)*\n",
    "    sigma(Sum(mu[j],(j,0,N)),g2,g3)*\n",
    "    factorial(N)*\n",
    "    Product(Piecewise((sigma(mu[l] - mu[N], g2, g3),l<N),(1,True)),(l,0,N))*\n",
    "    Product(sigma(mu[n],g2,g3)**(N),(n,0,N-1))/\n",
    "    sigma(Sum(mu[j],(j,0,N-1)),g2,g3)/\n",
    "    Product(sigma(mu[n],g2,g3),(n,0,N))/\n",
    "    Product(sigma(mu[n],g2,g3)**N,(n,0,N))\n",
    ")\n",
    "\n",
    "subs1_list = [\n",
    "    (Product(Piecewise((sigma(mu[l] - mu[N], g2, g3),l<N),(1,True)),(l,0,N)), \n",
    "     (-1)**N*Product(sigma(z - xi[l], g2, g3),(l,0,N))/sigma(z - xi[N], g2, g3)),\n",
    "    (Product(sigma(mu[n],g2,g3),(n,0,N)),Product(sigma(xi[n],g2,g3),(n,0,N))*sigma(z,g2,g3)/sigma(xi[N],g2,g3)),\n",
    "    (sigma(Sum(mu[j],(j,0,N-1)),g2,g3),-sigma(xi[N],g2,g3)),\n",
    "    (Sum(mu[j],(j,0,N)),-xi[N]+z),\n",
    "    (sigma(mu[N],g2,g3),sigma(z,g2,g3))\n",
    "]\n",
    "subs2_list = [\n",
    "    ((-1)**(2*N)*Product(sigma(z - xi[l], g2, g3),(l,0,N)), \n",
    "   Product(sigma(z - xi[l], g2, g3)/sigma(xi[l], g2, g3)/sigma(z, g2, g3),(l,0,N)) *\n",
    "   Product(sigma(xi[n], g2, g3),(n,0,N)) *\n",
    "   (Product(sigma(z, g2, g3),(l,0,N)).doit()))\n",
    "]\n",
    "\n",
    "[(sigma_product_f_s - sigma_product_f_s_N_factored).subs(N,3).doit() == 0,\n",
    "(sigma_product_f_s_N_over_N_minus_1 - sigma_product_f_s_N_over_N_minus_1_explicitly_typed).simplify() == 0]"
   ]
  },
  {
   "cell_type": "code",
   "execution_count": 72,
   "metadata": {},
   "outputs": [
    {
     "data": {
      "text/latex": [
       "$\\displaystyle \\operatorname{WPdet}{\\left(N \\right)} = \\frac{\\left(-1\\right)^{\\frac{N \\left(N - 1\\right)}{2}} \\left(\\sigma{\\left(\\sum_{j=0}^{N} {\\mu}_{j},g_{2},g_{3} \\right)}\\right) N! \\left(\\prod_{l=0}^{N} \\begin{cases} \\sigma{\\left(- {\\mu}_{N} + {\\mu}_{l},g_{2},g_{3} \\right)} & \\text{for}\\: N > l \\\\1 & \\text{otherwise} \\end{cases}\\right) \\left(\\prod_{k=1}^{N - 1} k!\\right) \\prod_{\\substack{0 \\leq l \\leq N - 1\\\\0 \\leq m \\leq N - 1}} \\begin{cases} \\sigma{\\left({\\mu}_{l} - {\\mu}_{m},g_{2},g_{3} \\right)} & \\text{for}\\: l < m \\\\1 & \\text{otherwise} \\end{cases}}{\\left(\\prod_{n=0}^{N} \\sigma{\\left({\\mu}_{n},g_{2},g_{3} \\right)}\\right) \\prod_{n=0}^{N} \\sigma^{N}{\\left({\\mu}_{n},g_{2},g_{3} \\right)}}$"
      ],
      "text/plain": [
       "Eq(WPdet(N), (-1)**(N*(N - 1)/2)*sigma(Sum(mu[j], (j, 0, N)), g2, g3)*factorial(N)*Product(Piecewise((sigma(-mu[N] + mu[l], g2, g3), N > l), (1, True)), (l, 0, N))*Product(factorial(k), (k, 1, N - 1))*Product(Piecewise((sigma(mu[l] - mu[m], g2, g3), l < m), (1, True)), (l, 0, N - 1), (m, 0, N - 1))/(Product(sigma(mu[n], g2, g3), (n, 0, N))*Product(sigma(mu[n], g2, g3)**N, (n, 0, N))))"
      ]
     },
     "execution_count": 72,
     "metadata": {},
     "output_type": "execute_result"
    }
   ],
   "source": [
    "Eq(WPdet(N), sigma_product_f_s_N_factored)"
   ]
  },
  {
   "cell_type": "code",
   "execution_count": 73,
   "metadata": {},
   "outputs": [
    {
     "data": {
      "text/latex": [
       "$\\displaystyle \\frac{\\operatorname{WPdet}{\\left(N \\right)}}{\\operatorname{WPdet}{\\left(N - 1 \\right)}} = - \\frac{\\left(-1\\right)^{N} \\sigma^{- N}{\\left({\\mu}_{N},g_{2},g_{3} \\right)} \\left(\\sigma{\\left(\\sum_{j=0}^{N} {\\mu}_{j},g_{2},g_{3} \\right)}\\right) N! \\prod_{l=0}^{N} \\begin{cases} \\sigma{\\left(- {\\mu}_{N} + {\\mu}_{l},g_{2},g_{3} \\right)} & \\text{for}\\: N > l \\\\1 & \\text{otherwise} \\end{cases}}{\\left(\\sigma{\\left(\\sum_{j=0}^{N - 1} {\\mu}_{j},g_{2},g_{3} \\right)}\\right) \\prod_{n=0}^{N} \\sigma{\\left({\\mu}_{n},g_{2},g_{3} \\right)}}$"
      ],
      "text/plain": [
       "Eq(WPdet(N)/WPdet(N - 1), -(-1)**N*sigma(mu[N], g2, g3)**(-N)*sigma(Sum(mu[j], (j, 0, N)), g2, g3)*factorial(N)*Product(Piecewise((sigma(-mu[N] + mu[l], g2, g3), N > l), (1, True)), (l, 0, N))/(sigma(Sum(mu[j], (j, 0, N - 1)), g2, g3)*Product(sigma(mu[n], g2, g3), (n, 0, N))))"
      ]
     },
     "execution_count": 73,
     "metadata": {},
     "output_type": "execute_result"
    }
   ],
   "source": [
    "wp_sigma_product_fs_N_over_N_minus_1_mu_n = Eq(WPdet(N)/WPdet(N-1), sigma_product_f_s_N_over_N_minus_1).subs(\n",
    "    Product(sigma(mu[n],g2,g3)**N,(n,0,N)),sigma(mu[N],g2,g3)**N*Product(sigma(mu[n],g2,g3)**N,(n,0,N-1))\n",
    ").expand()\n",
    "wp_sigma_product_fs_N_over_N_minus_1_mu_n"
   ]
  },
  {
   "cell_type": "markdown",
   "metadata": {},
   "source": [
    "The following parameters $\\xi_n$ and $z$ are defined in terms of $\\mu_n$:"
   ]
  },
  {
   "cell_type": "code",
   "execution_count": 74,
   "metadata": {},
   "outputs": [
    {
     "data": {
      "text/latex": [
       "$\\displaystyle {\\mu}_{N} = z$"
      ],
      "text/plain": [
       "Eq(mu[N], z)"
      ]
     },
     "execution_count": 74,
     "metadata": {},
     "output_type": "execute_result"
    }
   ],
   "source": [
    "Eq(mu[N],z)"
   ]
  },
  {
   "cell_type": "code",
   "execution_count": 75,
   "metadata": {},
   "outputs": [
    {
     "data": {
      "text/latex": [
       "$\\displaystyle {\\xi}_{k} = \\begin{cases} {\\mu}_{k} & \\text{for}\\: N > k \\\\- \\sum_{j=0}^{N - 1} {\\mu}_{j} & \\text{for}\\: N = k \\end{cases}$"
      ],
      "text/plain": [
       "Eq(xi[k], Piecewise((mu[k], N > k), (-Sum(mu[j], (j, 0, N - 1)), Eq(N, k))))"
      ]
     },
     "execution_count": 75,
     "metadata": {},
     "output_type": "execute_result"
    }
   ],
   "source": [
    "Eq(xi[k],Piecewise((mu[k],k<N),(-Sum(mu[j],(j,0,N-1)),Eq(k,N))))"
   ]
  },
  {
   "cell_type": "markdown",
   "metadata": {},
   "source": [
    "subject to the constraint:"
   ]
  },
  {
   "cell_type": "code",
   "execution_count": 76,
   "metadata": {},
   "outputs": [
    {
     "data": {
      "text/latex": [
       "$\\displaystyle \\sum_{j=0}^{N} {\\xi}_{j} = 0$"
      ],
      "text/plain": [
       "Eq(Sum(xi[j], (j, 0, N)), 0)"
      ]
     },
     "execution_count": 76,
     "metadata": {},
     "output_type": "execute_result"
    }
   ],
   "source": [
    "Eq(Sum(xi[j],(j,0,N)),0)"
   ]
  },
  {
   "cell_type": "markdown",
   "metadata": {},
   "source": [
    "It follows from the following consequential substitutions:"
   ]
  },
  {
   "cell_type": "code",
   "execution_count": 77,
   "metadata": {},
   "outputs": [
    {
     "data": {
      "text/latex": [
       "$\\displaystyle \\prod_{l=0}^{N} \\begin{cases} \\sigma{\\left(- {\\mu}_{N} + {\\mu}_{l},g_{2},g_{3} \\right)} & \\text{for}\\: N > l \\\\1 & \\text{otherwise} \\end{cases} = \\frac{\\left(-1\\right)^{N} \\prod_{l=0}^{N} \\sigma{\\left(z - {\\xi}_{l},g_{2},g_{3} \\right)}}{\\sigma{\\left(z - {\\xi}_{N},g_{2},g_{3} \\right)}}$"
      ],
      "text/plain": [
       "Eq(Product(Piecewise((sigma(-mu[N] + mu[l], g2, g3), N > l), (1, True)), (l, 0, N)), (-1)**N*Product(sigma(z - xi[l], g2, g3), (l, 0, N))/sigma(z - xi[N], g2, g3))"
      ]
     },
     "execution_count": 77,
     "metadata": {},
     "output_type": "execute_result"
    },
    {
     "data": {
      "text/latex": [
       "$\\displaystyle \\prod_{n=0}^{N} \\sigma{\\left({\\mu}_{n},g_{2},g_{3} \\right)} = \\frac{\\sigma{\\left(z,g_{2},g_{3} \\right)} \\prod_{n=0}^{N} \\sigma{\\left({\\xi}_{n},g_{2},g_{3} \\right)}}{\\sigma{\\left({\\xi}_{N},g_{2},g_{3} \\right)}}$"
      ],
      "text/plain": [
       "Eq(Product(sigma(mu[n], g2, g3), (n, 0, N)), sigma(z, g2, g3)*Product(sigma(xi[n], g2, g3), (n, 0, N))/sigma(xi[N], g2, g3))"
      ]
     },
     "execution_count": 77,
     "metadata": {},
     "output_type": "execute_result"
    },
    {
     "data": {
      "text/latex": [
       "$\\displaystyle \\sigma{\\left(\\sum_{j=0}^{N - 1} {\\mu}_{j},g_{2},g_{3} \\right)} = - \\sigma{\\left({\\xi}_{N},g_{2},g_{3} \\right)}$"
      ],
      "text/plain": [
       "Eq(sigma(Sum(mu[j], (j, 0, N - 1)), g2, g3), -sigma(xi[N], g2, g3))"
      ]
     },
     "execution_count": 77,
     "metadata": {},
     "output_type": "execute_result"
    },
    {
     "data": {
      "text/latex": [
       "$\\displaystyle \\sum_{j=0}^{N} {\\mu}_{j} = z - {\\xi}_{N}$"
      ],
      "text/plain": [
       "Eq(Sum(mu[j], (j, 0, N)), z - xi[N])"
      ]
     },
     "execution_count": 77,
     "metadata": {},
     "output_type": "execute_result"
    },
    {
     "data": {
      "text/latex": [
       "$\\displaystyle \\sigma{\\left({\\mu}_{N},g_{2},g_{3} \\right)} = \\sigma{\\left(z,g_{2},g_{3} \\right)}$"
      ],
      "text/plain": [
       "Eq(sigma(mu[N], g2, g3), sigma(z, g2, g3))"
      ]
     },
     "execution_count": 77,
     "metadata": {},
     "output_type": "execute_result"
    },
    {
     "data": {
      "text/latex": [
       "$\\displaystyle \\left(-1\\right)^{2 N} \\prod_{l=0}^{N} \\sigma{\\left(z - {\\xi}_{l},g_{2},g_{3} \\right)} = \\sigma^{N + 1}{\\left(z,g_{2},g_{3} \\right)} \\left(\\prod_{l=0}^{N} \\frac{\\sigma{\\left(z - {\\xi}_{l},g_{2},g_{3} \\right)}}{\\sigma{\\left(z,g_{2},g_{3} \\right)} \\sigma{\\left({\\xi}_{l},g_{2},g_{3} \\right)}}\\right) \\prod_{n=0}^{N} \\sigma{\\left({\\xi}_{n},g_{2},g_{3} \\right)}$"
      ],
      "text/plain": [
       "Eq((-1)**(2*N)*Product(sigma(z - xi[l], g2, g3), (l, 0, N)), sigma(z, g2, g3)**(N + 1)*Product(sigma(z - xi[l], g2, g3)/(sigma(z, g2, g3)*sigma(xi[l], g2, g3)), (l, 0, N))*Product(sigma(xi[n], g2, g3), (n, 0, N)))"
      ]
     },
     "execution_count": 77,
     "metadata": {},
     "output_type": "execute_result"
    }
   ],
   "source": [
    "for eq in subs1_list + subs2_list:\n",
    "    Eq(*eq)"
   ]
  },
  {
   "cell_type": "markdown",
   "metadata": {},
   "source": [
    "that, what is refered to as the one-dimensional $z$ case takes the remarkably simple form:"
   ]
  },
  {
   "cell_type": "code",
   "execution_count": 78,
   "metadata": {},
   "outputs": [
    {
     "data": {
      "text/latex": [
       "$\\displaystyle \\frac{\\operatorname{WPdet}{\\left(N \\right)}}{\\operatorname{WPdet}{\\left(N - 1 \\right)}} = N! \\prod_{l=0}^{N} \\frac{\\sigma{\\left(z - {\\xi}_{l},g_{2},g_{3} \\right)}}{\\sigma{\\left(z,g_{2},g_{3} \\right)} \\sigma{\\left({\\xi}_{l},g_{2},g_{3} \\right)}}$"
      ],
      "text/plain": [
       "Eq(WPdet(N)/WPdet(N - 1), factorial(N)*Product(sigma(z - xi[l], g2, g3)/(sigma(z, g2, g3)*sigma(xi[l], g2, g3)), (l, 0, N)))"
      ]
     },
     "execution_count": 78,
     "metadata": {},
     "output_type": "execute_result"
    }
   ],
   "source": [
    "wp_sigma_product_fs_N_over_N_minus_1 = (\n",
    "    wp_sigma_product_fs_N_over_N_minus_1_mu_n\n",
    "    .subs(subs1_list)\n",
    "    .subs(subs2_list)\n",
    ").expand()\n",
    "sigma_product_f_s_N_over_N_minus_1 = wp_sigma_product_fs_N_over_N_minus_1.rhs\n",
    "\n",
    "wp_sigma_product_fs_N_over_N_minus_1"
   ]
  },
  {
   "cell_type": "code",
   "execution_count": 79,
   "metadata": {},
   "outputs": [],
   "source": [
    "def p_matrix_f_s_1dz(N): \n",
    "    return Matrix([*[[1, *[pw(x,g2,g3).diff((x,j)).subs(x,mu[k]) for j in range(N)]] for k in range(N)],\n",
    "       [1, *[pw(z,g2,g3).diff((z,j)) for j in range(N)]]])\n",
    "\n",
    "def frob_stick_1dz_ratio(Nval, evaluated=False):\n",
    "    if evaluated:\n",
    "        return Eq((((-1)**(Nval-1)/factorial(Nval)*p_matrix_f_s_1dz(Nval).det()/p_matrix_f_s(Nval-1).det()).expand())\n",
    "                  .collect([pw(z,g2,g3), diff(pw(z,g2,g3),z)],factor), \n",
    "                  (-1)**(Nval-1)/factorial(Nval)*sigma_product_f_s_N_over_N_minus_1.subs(N,Nval).doit().subs(\n",
    "            xi[Nval],-Sum(xi[j],(j,0,Nval-1)).doit()\n",
    "        ).subs([(xi[j],mu[j]) for j in range(Nval)]))\n",
    "    return Eq((-1)**(Nval-1)/factorial(Nval)*Det(p_matrix_f_s_1dz(Nval))/Det(p_matrix_f_s(Nval-1)), \n",
    "              (-1)**(Nval-1)/factorial(Nval)*sigma_product_f_s_N_over_N_minus_1.subs(N,Nval).doit().subs(\n",
    "            xi[Nval],-Sum(xi[j],(j,0,Nval-1)).doit()\n",
    "        ).subs([(xi[j],mu[j]) for j in range(Nval)]))\n"
   ]
  },
  {
   "cell_type": "markdown",
   "metadata": {},
   "source": [
    "### Example for the $N=1$ case"
   ]
  },
  {
   "cell_type": "code",
   "execution_count": 80,
   "metadata": {
    "scrolled": true
   },
   "outputs": [
    {
     "data": {
      "text/latex": [
       "$\\displaystyle \\operatorname{Det}{\\left(\\left[\\begin{matrix}1 & \\operatorname{pw}{\\left({\\mu}_{0},g_{2},g_{3} \\right)}\\\\1 & \\operatorname{pw}{\\left(z,g_{2},g_{3} \\right)}\\end{matrix}\\right] \\right)} \\operatorname{Det}^{-1}{\\left(\\left[\\begin{matrix}1\\end{matrix}\\right] \\right)} = \\frac{\\sigma{\\left(z - {\\mu}_{0},g_{2},g_{3} \\right)} \\sigma{\\left(z + {\\mu}_{0},g_{2},g_{3} \\right)}}{\\sigma^{2}{\\left(z,g_{2},g_{3} \\right)} \\sigma{\\left(- {\\mu}_{0},g_{2},g_{3} \\right)} \\sigma{\\left({\\mu}_{0},g_{2},g_{3} \\right)}}$"
      ],
      "text/plain": [
       "Eq(Det(Matrix([\n",
       "[1, pw(mu[0], g2, g3)],\n",
       "[1,     pw(z, g2, g3)]]))*Det(Matrix([[1]]))**(-1), sigma(z - mu[0], g2, g3)*sigma(z + mu[0], g2, g3)/(sigma(z, g2, g3)**2*sigma(-mu[0], g2, g3)*sigma(mu[0], g2, g3)))"
      ]
     },
     "execution_count": 80,
     "metadata": {},
     "output_type": "execute_result"
    }
   ],
   "source": [
    "frob_stick_1dz_ratio(1)"
   ]
  },
  {
   "cell_type": "code",
   "execution_count": 81,
   "metadata": {},
   "outputs": [
    {
     "data": {
      "text/latex": [
       "$\\displaystyle \\operatorname{pw}{\\left(z,g_{2},g_{3} \\right)} - \\operatorname{pw}{\\left({\\mu}_{0},g_{2},g_{3} \\right)} = \\frac{\\sigma{\\left(z - {\\mu}_{0},g_{2},g_{3} \\right)} \\sigma{\\left(z + {\\mu}_{0},g_{2},g_{3} \\right)}}{\\sigma^{2}{\\left(z,g_{2},g_{3} \\right)} \\sigma{\\left(- {\\mu}_{0},g_{2},g_{3} \\right)} \\sigma{\\left({\\mu}_{0},g_{2},g_{3} \\right)}}$"
      ],
      "text/plain": [
       "Eq(pw(z, g2, g3) - pw(mu[0], g2, g3), sigma(z - mu[0], g2, g3)*sigma(z + mu[0], g2, g3)/(sigma(z, g2, g3)**2*sigma(-mu[0], g2, g3)*sigma(mu[0], g2, g3)))"
      ]
     },
     "execution_count": 81,
     "metadata": {},
     "output_type": "execute_result"
    }
   ],
   "source": [
    "frob_stick_1dz_ratio(1,evaluated=True)"
   ]
  },
  {
   "cell_type": "markdown",
   "metadata": {},
   "source": [
    "### Example for the $N=2$ case"
   ]
  },
  {
   "cell_type": "code",
   "execution_count": 82,
   "metadata": {},
   "outputs": [
    {
     "data": {
      "text/latex": [
       "$\\displaystyle - \\frac{\\operatorname{Det}{\\left(\\left[\\begin{matrix}1 & \\operatorname{pw}{\\left({\\mu}_{0},g_{2},g_{3} \\right)} & \\frac{\\partial}{\\partial {\\mu}_{0}} \\operatorname{pw}{\\left({\\mu}_{0},g_{2},g_{3} \\right)}\\\\1 & \\operatorname{pw}{\\left({\\mu}_{1},g_{2},g_{3} \\right)} & \\frac{\\partial}{\\partial {\\mu}_{1}} \\operatorname{pw}{\\left({\\mu}_{1},g_{2},g_{3} \\right)}\\\\1 & \\operatorname{pw}{\\left(z,g_{2},g_{3} \\right)} & \\frac{\\partial}{\\partial z} \\operatorname{pw}{\\left(z,g_{2},g_{3} \\right)}\\end{matrix}\\right] \\right)} \\operatorname{Det}^{-1}{\\left(\\left[\\begin{matrix}1 & \\operatorname{pw}{\\left({\\mu}_{0},g_{2},g_{3} \\right)}\\\\1 & \\operatorname{pw}{\\left({\\mu}_{1},g_{2},g_{3} \\right)}\\end{matrix}\\right] \\right)}}{2} = - \\frac{\\sigma{\\left(z - {\\mu}_{0},g_{2},g_{3} \\right)} \\sigma{\\left(z - {\\mu}_{1},g_{2},g_{3} \\right)} \\sigma{\\left(z + {\\mu}_{0} + {\\mu}_{1},g_{2},g_{3} \\right)}}{\\sigma^{3}{\\left(z,g_{2},g_{3} \\right)} \\sigma{\\left(- {\\mu}_{0} - {\\mu}_{1},g_{2},g_{3} \\right)} \\sigma{\\left({\\mu}_{0},g_{2},g_{3} \\right)} \\sigma{\\left({\\mu}_{1},g_{2},g_{3} \\right)}}$"
      ],
      "text/plain": [
       "Eq(-Det(Matrix([\n",
       "[1, pw(mu[0], g2, g3), Derivative(pw(mu[0], g2, g3), mu[0])],\n",
       "[1, pw(mu[1], g2, g3), Derivative(pw(mu[1], g2, g3), mu[1])],\n",
       "[1,     pw(z, g2, g3),         Derivative(pw(z, g2, g3), z)]]))*Det(Matrix([\n",
       "[1, pw(mu[0], g2, g3)],\n",
       "[1, pw(mu[1], g2, g3)]]))**(-1)/2, -sigma(z - mu[0], g2, g3)*sigma(z - mu[1], g2, g3)*sigma(z + mu[0] + mu[1], g2, g3)/(sigma(z, g2, g3)**3*sigma(-mu[0] - mu[1], g2, g3)*sigma(mu[0], g2, g3)*sigma(mu[1], g2, g3)))"
      ]
     },
     "execution_count": 82,
     "metadata": {},
     "output_type": "execute_result"
    }
   ],
   "source": [
    "frob_stick_1dz_ratio(2)"
   ]
  },
  {
   "cell_type": "code",
   "execution_count": 83,
   "metadata": {},
   "outputs": [
    {
     "data": {
      "text/latex": [
       "$\\displaystyle - \\frac{- \\operatorname{pw}{\\left({\\mu}_{0},g_{2},g_{3} \\right)} \\frac{\\partial}{\\partial {\\mu}_{1}} \\operatorname{pw}{\\left({\\mu}_{1},g_{2},g_{3} \\right)} + \\operatorname{pw}{\\left({\\mu}_{1},g_{2},g_{3} \\right)} \\frac{\\partial}{\\partial {\\mu}_{0}} \\operatorname{pw}{\\left({\\mu}_{0},g_{2},g_{3} \\right)}}{2 \\left(\\operatorname{pw}{\\left({\\mu}_{0},g_{2},g_{3} \\right)} - \\operatorname{pw}{\\left({\\mu}_{1},g_{2},g_{3} \\right)}\\right)} - \\frac{\\frac{\\partial}{\\partial z} \\operatorname{pw}{\\left(z,g_{2},g_{3} \\right)}}{2} + \\frac{\\left(\\frac{\\partial}{\\partial {\\mu}_{0}} \\operatorname{pw}{\\left({\\mu}_{0},g_{2},g_{3} \\right)} - \\frac{\\partial}{\\partial {\\mu}_{1}} \\operatorname{pw}{\\left({\\mu}_{1},g_{2},g_{3} \\right)}\\right) \\operatorname{pw}{\\left(z,g_{2},g_{3} \\right)}}{2 \\left(\\operatorname{pw}{\\left({\\mu}_{0},g_{2},g_{3} \\right)} - \\operatorname{pw}{\\left({\\mu}_{1},g_{2},g_{3} \\right)}\\right)} = - \\frac{\\sigma{\\left(z - {\\mu}_{0},g_{2},g_{3} \\right)} \\sigma{\\left(z - {\\mu}_{1},g_{2},g_{3} \\right)} \\sigma{\\left(z + {\\mu}_{0} + {\\mu}_{1},g_{2},g_{3} \\right)}}{\\sigma^{3}{\\left(z,g_{2},g_{3} \\right)} \\sigma{\\left(- {\\mu}_{0} - {\\mu}_{1},g_{2},g_{3} \\right)} \\sigma{\\left({\\mu}_{0},g_{2},g_{3} \\right)} \\sigma{\\left({\\mu}_{1},g_{2},g_{3} \\right)}}$"
      ],
      "text/plain": [
       "Eq(-(-pw(mu[0], g2, g3)*Derivative(pw(mu[1], g2, g3), mu[1]) + pw(mu[1], g2, g3)*Derivative(pw(mu[0], g2, g3), mu[0]))/(2*(pw(mu[0], g2, g3) - pw(mu[1], g2, g3))) - Derivative(pw(z, g2, g3), z)/2 + (Derivative(pw(mu[0], g2, g3), mu[0]) - Derivative(pw(mu[1], g2, g3), mu[1]))*pw(z, g2, g3)/(2*(pw(mu[0], g2, g3) - pw(mu[1], g2, g3))), -sigma(z - mu[0], g2, g3)*sigma(z - mu[1], g2, g3)*sigma(z + mu[0] + mu[1], g2, g3)/(sigma(z, g2, g3)**3*sigma(-mu[0] - mu[1], g2, g3)*sigma(mu[0], g2, g3)*sigma(mu[1], g2, g3)))"
      ]
     },
     "execution_count": 83,
     "metadata": {},
     "output_type": "execute_result"
    }
   ],
   "source": [
    "frob_stick_1dz_ratio(2,evaluated=True)"
   ]
  },
  {
   "cell_type": "markdown",
   "metadata": {},
   "source": [
    "### Example for the $N=3$ case"
   ]
  },
  {
   "cell_type": "code",
   "execution_count": 84,
   "metadata": {
    "scrolled": false
   },
   "outputs": [
    {
     "data": {
      "text/latex": [
       "$\\displaystyle \\frac{\\operatorname{Det}{\\left(\\left[\\begin{matrix}1 & \\operatorname{pw}{\\left({\\mu}_{0},g_{2},g_{3} \\right)} & \\frac{\\partial}{\\partial {\\mu}_{0}} \\operatorname{pw}{\\left({\\mu}_{0},g_{2},g_{3} \\right)} & \\frac{\\partial^{2}}{\\partial {\\mu}_{0}^{2}} \\operatorname{pw}{\\left({\\mu}_{0},g_{2},g_{3} \\right)}\\\\1 & \\operatorname{pw}{\\left({\\mu}_{1},g_{2},g_{3} \\right)} & \\frac{\\partial}{\\partial {\\mu}_{1}} \\operatorname{pw}{\\left({\\mu}_{1},g_{2},g_{3} \\right)} & \\frac{\\partial^{2}}{\\partial {\\mu}_{1}^{2}} \\operatorname{pw}{\\left({\\mu}_{1},g_{2},g_{3} \\right)}\\\\1 & \\operatorname{pw}{\\left({\\mu}_{2},g_{2},g_{3} \\right)} & \\frac{\\partial}{\\partial {\\mu}_{2}} \\operatorname{pw}{\\left({\\mu}_{2},g_{2},g_{3} \\right)} & \\frac{\\partial^{2}}{\\partial {\\mu}_{2}^{2}} \\operatorname{pw}{\\left({\\mu}_{2},g_{2},g_{3} \\right)}\\\\1 & \\operatorname{pw}{\\left(z,g_{2},g_{3} \\right)} & \\frac{\\partial}{\\partial z} \\operatorname{pw}{\\left(z,g_{2},g_{3} \\right)} & \\frac{\\partial^{2}}{\\partial z^{2}} \\operatorname{pw}{\\left(z,g_{2},g_{3} \\right)}\\end{matrix}\\right] \\right)} \\operatorname{Det}^{-1}{\\left(\\left[\\begin{matrix}1 & \\operatorname{pw}{\\left({\\mu}_{0},g_{2},g_{3} \\right)} & \\frac{\\partial}{\\partial {\\mu}_{0}} \\operatorname{pw}{\\left({\\mu}_{0},g_{2},g_{3} \\right)}\\\\1 & \\operatorname{pw}{\\left({\\mu}_{1},g_{2},g_{3} \\right)} & \\frac{\\partial}{\\partial {\\mu}_{1}} \\operatorname{pw}{\\left({\\mu}_{1},g_{2},g_{3} \\right)}\\\\1 & \\operatorname{pw}{\\left({\\mu}_{2},g_{2},g_{3} \\right)} & \\frac{\\partial}{\\partial {\\mu}_{2}} \\operatorname{pw}{\\left({\\mu}_{2},g_{2},g_{3} \\right)}\\end{matrix}\\right] \\right)}}{6} = \\frac{\\sigma{\\left(z - {\\mu}_{0},g_{2},g_{3} \\right)} \\sigma{\\left(z - {\\mu}_{1},g_{2},g_{3} \\right)} \\sigma{\\left(z - {\\mu}_{2},g_{2},g_{3} \\right)} \\sigma{\\left(z + {\\mu}_{0} + {\\mu}_{1} + {\\mu}_{2},g_{2},g_{3} \\right)}}{\\sigma^{4}{\\left(z,g_{2},g_{3} \\right)} \\sigma{\\left(- {\\mu}_{0} - {\\mu}_{1} - {\\mu}_{2},g_{2},g_{3} \\right)} \\sigma{\\left({\\mu}_{0},g_{2},g_{3} \\right)} \\sigma{\\left({\\mu}_{1},g_{2},g_{3} \\right)} \\sigma{\\left({\\mu}_{2},g_{2},g_{3} \\right)}}$"
      ],
      "text/plain": [
       "Eq(Det(Matrix([\n",
       "[1, pw(mu[0], g2, g3), Derivative(pw(mu[0], g2, g3), mu[0]), Derivative(pw(mu[0], g2, g3), (mu[0], 2))],\n",
       "[1, pw(mu[1], g2, g3), Derivative(pw(mu[1], g2, g3), mu[1]), Derivative(pw(mu[1], g2, g3), (mu[1], 2))],\n",
       "[1, pw(mu[2], g2, g3), Derivative(pw(mu[2], g2, g3), mu[2]), Derivative(pw(mu[2], g2, g3), (mu[2], 2))],\n",
       "[1,     pw(z, g2, g3),         Derivative(pw(z, g2, g3), z),         Derivative(pw(z, g2, g3), (z, 2))]]))*Det(Matrix([\n",
       "[1, pw(mu[0], g2, g3), Derivative(pw(mu[0], g2, g3), mu[0])],\n",
       "[1, pw(mu[1], g2, g3), Derivative(pw(mu[1], g2, g3), mu[1])],\n",
       "[1, pw(mu[2], g2, g3), Derivative(pw(mu[2], g2, g3), mu[2])]]))**(-1)/6, sigma(z - mu[0], g2, g3)*sigma(z - mu[1], g2, g3)*sigma(z - mu[2], g2, g3)*sigma(z + mu[0] + mu[1] + mu[2], g2, g3)/(sigma(z, g2, g3)**4*sigma(-mu[0] - mu[1] - mu[2], g2, g3)*sigma(mu[0], g2, g3)*sigma(mu[1], g2, g3)*sigma(mu[2], g2, g3)))"
      ]
     },
     "execution_count": 84,
     "metadata": {},
     "output_type": "execute_result"
    }
   ],
   "source": [
    "frob_stick_1dz_ratio(3)"
   ]
  },
  {
   "cell_type": "markdown",
   "metadata": {},
   "source": [
    "## Laplace Expansion of $\\mathrm{WPdet}$"
   ]
  },
  {
   "cell_type": "markdown",
   "metadata": {},
   "source": [
    "In the ratio of matrix determinants containing derivatives of the Weierstrass P function, the determinant in the numerator can be expanded as a linear sum in the derivatives of the Weierstrass P function w.r.t. $z$ using [Laplace expansion](https://en.wikipedia.org/wiki/Laplace_expansion) for determinants. The coefficients $c_j$ can be expressed as determinants that depend on $\\mu_n$ but not $z$. \n",
    "\n",
    "For matrix $B$, entry $b_j,_k$ of $B$ in the $j^{th}$ row and $k^{th}$ column, and $d_j,_k$ the determinant of the submatrix obtained by removing the $j^{th}$ row and the $k^{th}$ column of $B$, the determinant of $B$ can be expanded along the $j^{th}$ row using:"
   ]
  },
  {
   "cell_type": "code",
   "execution_count": 85,
   "metadata": {
    "scrolled": true
   },
   "outputs": [
    {
     "data": {
      "text/latex": [
       "$\\displaystyle \\operatorname{Det}{\\left(B \\right)} = \\sum_{k=0}^{N - 1} \\left(-1\\right)^{j + k} {b}_{j,k} {d}_{j,k}$"
      ],
      "text/plain": [
       "Eq(Det(B), Sum((-1)**(j + k)*b[j, k]*d[j, k], (k, 0, N - 1)))"
      ]
     },
     "execution_count": 85,
     "metadata": {},
     "output_type": "execute_result"
    }
   ],
   "source": [
    "Eq(Det(B), Sum((-1)**(j+k)*b[j,k]*d[j,k],(k,0,N-1)))"
   ]
  },
  {
   "cell_type": "markdown",
   "metadata": {},
   "source": [
    "Consequently, there exists $c_j$ such that:"
   ]
  },
  {
   "cell_type": "code",
   "execution_count": 86,
   "metadata": {},
   "outputs": [
    {
     "data": {
      "text/latex": [
       "$\\displaystyle \\left(-1\\right)^{1 - N} \\prod_{l=0}^{N} \\frac{\\sigma{\\left(z - {\\xi}_{l},g_{2},g_{3} \\right)}}{\\sigma{\\left(z,g_{2},g_{3} \\right)} \\sigma{\\left({\\xi}_{l},g_{2},g_{3} \\right)}} = {c}_{0} + \\sum_{j=0}^{N - 1} \\frac{\\partial^{j}}{\\partial z^{j}} \\operatorname{pw}{\\left(z,g_{2},g_{3} \\right)} {c}_{j + 1}$"
      ],
      "text/plain": [
       "Eq((-1)**(1 - N)*Product(sigma(z - xi[l], g2, g3)/(sigma(z, g2, g3)*sigma(xi[l], g2, g3)), (l, 0, N)), c[0] + Sum(Derivative(pw(z, g2, g3), (z, j))*c[j + 1], (j, 0, N - 1)))"
      ]
     },
     "execution_count": 86,
     "metadata": {},
     "output_type": "execute_result"
    }
   ],
   "source": [
    "sigma_product_wp_diff_eq = Eq((sigma_product_f_s_N_over_N_minus_1/((-1)**(N-1)*factorial(N))).simplify(),\n",
    "   c[0] + Sum(c[j+1]*Derivative(pw(z,g2,g3),(z,j)),(j,0,N-1))\n",
    "  )\n",
    "sigma_product_wp_diff_eq"
   ]
  },
  {
   "cell_type": "code",
   "execution_count": 87,
   "metadata": {},
   "outputs": [
    {
     "data": {
      "text/latex": [
       "$\\displaystyle \\left(-1\\right)^{1 - N} \\prod_{l=0}^{N} - \\frac{\\sigma{\\left(- z - {\\xi}_{l},g_{2},g_{3} \\right)}}{\\sigma{\\left(z,g_{2},g_{3} \\right)} \\sigma{\\left({\\xi}_{l},g_{2},g_{3} \\right)}} = {c}_{0} + \\sum_{j=0}^{N - 1} {c}_{j + 1} \\left. \\frac{\\partial^{j}}{\\partial z^{j}} \\operatorname{pw}{\\left(z,g_{2},g_{3} \\right)} \\right|_{\\substack{ z=- z }}$"
      ],
      "text/plain": [
       "Eq((-1)**(1 - N)*Product(-sigma(-z - xi[l], g2, g3)/(sigma(z, g2, g3)*sigma(xi[l], g2, g3)), (l, 0, N)), c[0] + Sum(c[j + 1]*Subs(Derivative(pw(z, g2, g3), (z, j)), z, -z), (j, 0, N - 1)))"
      ]
     },
     "execution_count": 87,
     "metadata": {},
     "output_type": "execute_result"
    }
   ],
   "source": [
    "sigma_product_wp_diff_eq.subs(z,-z).subs([\n",
    "    (sigma(-z,g2,g3),-sigma(z,g2,g3)),\n",
    "    (Derivative(pw(z,g2,g3),(z,j)).subs(z,-z),(-1)**j*Derivative(pw(z,g2,g3),(z,j)))\n",
    "])"
   ]
  },
  {
   "cell_type": "code",
   "execution_count": 88,
   "metadata": {
    "scrolled": false
   },
   "outputs": [
    {
     "data": {
      "text/latex": [
       "$\\displaystyle \\left. \\frac{\\partial^{j}}{\\partial z^{j}} \\operatorname{pw}{\\left(z,g_{2},g_{3} \\right)} \\right|_{\\substack{ z=- z }} = \\left(-1\\right)^{j} \\frac{\\partial^{j}}{\\partial z^{j}} \\operatorname{pw}{\\left(z,g_{2},g_{3} \\right)}$"
      ],
      "text/plain": [
       "Eq(Subs(Derivative(pw(z, g2, g3), (z, j)), z, -z), (-1)**j*Derivative(pw(z, g2, g3), (z, j)))"
      ]
     },
     "execution_count": 88,
     "metadata": {},
     "output_type": "execute_result"
    }
   ],
   "source": [
    "Eq(Derivative(pw(z,g2,g3),(z,j)).subs(z,-z),(-1)**j*Derivative(pw(z,g2,g3),(z,j)))"
   ]
  },
  {
   "cell_type": "code",
   "execution_count": 89,
   "metadata": {},
   "outputs": [
    {
     "data": {
      "text/latex": [
       "$\\displaystyle \\left(-1\\right)^{N + 1} \\prod_{l=0}^{N} \\frac{\\sigma{\\left(z + {\\xi}_{l},g_{2},g_{3} \\right)}}{\\sigma{\\left(z,g_{2},g_{3} \\right)} \\sigma{\\left({\\xi}_{l},g_{2},g_{3} \\right)}} = {c}_{0} + \\sum_{j=0}^{N - 1} \\left(-1\\right)^{j} \\frac{\\partial^{j}}{\\partial z^{j}} \\operatorname{pw}{\\left(z,g_{2},g_{3} \\right)} {c}_{j + 1}$"
      ],
      "text/plain": [
       "Eq((-1)**(N + 1)*Product(sigma(z + xi[l], g2, g3)/(sigma(z, g2, g3)*sigma(xi[l], g2, g3)), (l, 0, N)), c[0] + Sum((-1)**j*Derivative(pw(z, g2, g3), (z, j))*c[j + 1], (j, 0, N - 1)))"
      ]
     },
     "execution_count": 89,
     "metadata": {},
     "output_type": "execute_result"
    }
   ],
   "source": [
    "sigma_product_wp_diff_eq_minus = Eq((-1)**(N+1)*Product(sigma(z+xi[l],g2,g3)/sigma(z,g2,g3)/sigma(xi[l],g2,g3),(l,0,N)),\n",
    "   c[0] + Sum((-1)**j*c[j+1]*Derivative(pw(z,g2,g3),(z,j)),(j,0,N-1))\n",
    "  )\n",
    "sigma_product_wp_diff_eq_minus"
   ]
  },
  {
   "cell_type": "code",
   "execution_count": 90,
   "metadata": {},
   "outputs": [
    {
     "data": {
      "text/latex": [
       "$\\displaystyle \\left(-1\\right)^{N + 1} \\prod_{l=0}^{N} \\frac{\\sigma{\\left(z + {\\xi}_{l},g_{2},g_{3} \\right)}}{\\sigma{\\left(z,g_{2},g_{3} \\right)} \\sigma{\\left({\\xi}_{l},g_{2},g_{3} \\right)}} + \\prod_{l=0}^{N} \\frac{\\sigma{\\left(- z + {\\xi}_{l},g_{2},g_{3} \\right)}}{\\sigma{\\left(z,g_{2},g_{3} \\right)} \\sigma{\\left({\\xi}_{l},g_{2},g_{3} \\right)}} = 2 {c}_{0} + 2 \\sum_{j=0}^{\\left\\lfloor{\\frac{N}{2} - \\frac{1}{2}}\\right\\rfloor} \\frac{\\partial^{2 j}}{\\partial z^{2 j}} \\operatorname{pw}{\\left(z,g_{2},g_{3} \\right)} {c}_{2 j + 1}$"
      ],
      "text/plain": [
       "Eq((-1)**(N + 1)*Product(sigma(z + xi[l], g2, g3)/(sigma(z, g2, g3)*sigma(xi[l], g2, g3)), (l, 0, N)) + Product(sigma(-z + xi[l], g2, g3)/(sigma(z, g2, g3)*sigma(xi[l], g2, g3)), (l, 0, N)), 2*c[0] + 2*Sum(Derivative(pw(z, g2, g3), (z, 2*j))*c[2*j + 1], (j, 0, floor(N/2 - 1/2))))"
      ]
     },
     "execution_count": 90,
     "metadata": {},
     "output_type": "execute_result"
    }
   ],
   "source": [
    "sigma_product_wp_sum_sym = Eq(Product(sigma(-z+xi[l],g2,g3)/sigma(z,g2,g3)/sigma(xi[l],g2,g3),(l,0,N)) +\n",
    "   (-1)**(N+1)*Product(sigma(z+xi[l],g2,g3)/sigma(z,g2,g3)/sigma(xi[l],g2,g3),(l,0,N)),\n",
    "   2*c[0] + 2*Sum(c[2*j+1]*Derivative(pw(z,g2,g3),(z,2*j)),(j,0,floor((N-1)/2)))\n",
    "  )\n",
    "sigma_product_wp_sum_sym"
   ]
  },
  {
   "cell_type": "markdown",
   "metadata": {},
   "source": [
    "### Calculating $c_j$ in terms of matrix cofactors in a Laplace expansion"
   ]
  },
  {
   "cell_type": "markdown",
   "metadata": {},
   "source": [
    "The below functions explicitly calculate $c_j$ using the Laplace expansion method but it is very inefficient and struggles at orders greater than 5."
   ]
  },
  {
   "cell_type": "code",
   "execution_count": 91,
   "metadata": {},
   "outputs": [
    {
     "data": {
      "text/plain": [
       "[True, True]"
      ]
     },
     "execution_count": 91,
     "metadata": {},
     "output_type": "execute_result"
    }
   ],
   "source": [
    "def laplace_expansion(Nval, evaluated=True):\n",
    "    if evaluated:\n",
    "        return ((-1)**(Nval)*p_matrix_f_s_1dz(Nval).minor_submatrix(Nval, 0).det() + \n",
    "                (-1)**(Nval)*sum([\n",
    "                    (-1)**k*Derivative(pw(z,g2,g3),(z,k-1))*(p_matrix_f_s_1dz(Nval).minor_submatrix(Nval, k)).det()\n",
    "                    for k in range(1,Nval + 1)\n",
    "                ]))\n",
    "    else:\n",
    "        return ((-1)**(Nval)*Det(p_matrix_f_s_1dz(Nval).minor_submatrix(Nval, 0)) + \n",
    "                (-1)**(Nval)*sum([\n",
    "                    (-1)**k*Derivative(pw(z,g2,g3),(z,k-1))*(Det(p_matrix_f_s_1dz(Nval).minor_submatrix(Nval, k)))\n",
    "                    for k in range(1,Nval + 1)\n",
    "                ]))\n",
    "    \n",
    "def c_coeff(k, Nval, evaluated=True):\n",
    "    if evaluated:\n",
    "        return -(-1)**k/factorial(Nval)*p_matrix_f_s_1dz(Nval).minor_submatrix(Nval, k).det()/p_matrix_f_s(Nval-1).det()\n",
    "    else:\n",
    "        return -(-1)**k/factorial(Nval)*Det(p_matrix_f_s_1dz(Nval).minor_submatrix(Nval, k))/Det(p_matrix_f_s(Nval-1))\n",
    "\n",
    "def weierstrass_p_and_diffs(Nval):\n",
    "    return (c_coeff(0, Nval).simplify() + \n",
    "            sum([c_coeff(j+1, Nval).simplify()*Derivative(pw(z,g2,g3),(z,j)) for j in range(Nval)]))\n",
    "\n",
    "[\n",
    "    (p_matrix_f_s_1dz(3).det() - laplace_expansion(3)).expand() == 0,\n",
    "    (frob_stick_1dz_ratio(3,evaluated=True).lhs - weierstrass_p_and_diffs(3)).simplify() == 0\n",
    "]"
   ]
  },
  {
   "cell_type": "markdown",
   "metadata": {},
   "source": [
    "### Calculating $c_j$ as coefficients of poles using limits"
   ]
  },
  {
   "cell_type": "code",
   "execution_count": 92,
   "metadata": {},
   "outputs": [
    {
     "data": {
      "text/latex": [
       "$\\displaystyle \\left(-1\\right)^{1 - N} \\prod_{l=0}^{N} \\frac{\\sigma{\\left(z - {\\xi}_{l},g_{2},g_{3} \\right)}}{\\sigma{\\left(z,g_{2},g_{3} \\right)} \\sigma{\\left({\\xi}_{l},g_{2},g_{3} \\right)}} = {c}_{0} + \\sum_{j=0}^{N - 1} \\frac{\\partial^{j}}{\\partial z^{j}} \\operatorname{pw}{\\left(z,g_{2},g_{3} \\right)} {c}_{j + 1}$"
      ],
      "text/plain": [
       "Eq((-1)**(1 - N)*Product(sigma(z - xi[l], g2, g3)/(sigma(z, g2, g3)*sigma(xi[l], g2, g3)), (l, 0, N)), c[0] + Sum(Derivative(pw(z, g2, g3), (z, j))*c[j + 1], (j, 0, N - 1)))"
      ]
     },
     "execution_count": 92,
     "metadata": {},
     "output_type": "execute_result"
    }
   ],
   "source": [
    "sigma_product_wp_diff_eq"
   ]
  },
  {
   "cell_type": "code",
   "execution_count": 93,
   "metadata": {},
   "outputs": [
    {
     "data": {
      "text/latex": [
       "$\\displaystyle \\frac{\\partial^{j}}{\\partial z^{j}} \\operatorname{pw}{\\left(z,g_{2},g_{3} \\right)} = \\left(-1\\right)^{j} z^{- j - 2} \\left(j + 1\\right)! - \\left(-1\\right)^{j} \\sum_{n=1}^{\\infty} z^{- j + 2 n} {\\left(- 2 n - 1\\right)}^{\\left(j + 1\\right)} {G}_{2 n + 2}$"
      ],
      "text/plain": [
       "Eq(Derivative(pw(z, g2, g3), (z, j)), (-1)**j*z**(-j - 2)*factorial(j + 1) - (-1)**j*Sum(z**(-j + 2*n)*RisingFactorial(-2*n - 1, j + 1)*G[2*n + 2], (n, 1, oo)))"
      ]
     },
     "execution_count": 93,
     "metadata": {},
     "output_type": "execute_result"
    }
   ],
   "source": [
    "expansion_z_j_order_diff_wp"
   ]
  },
  {
   "cell_type": "markdown",
   "metadata": {},
   "source": [
    "#### $N=1$ case"
   ]
  },
  {
   "cell_type": "code",
   "execution_count": 94,
   "metadata": {},
   "outputs": [
    {
     "data": {
      "text/latex": [
       "$\\displaystyle \\frac{\\sigma{\\left(z - {\\xi}_{0},g_{2},g_{3} \\right)} \\sigma{\\left(z - {\\xi}_{1},g_{2},g_{3} \\right)}}{\\sigma^{2}{\\left(z,g_{2},g_{3} \\right)} \\sigma{\\left({\\xi}_{0},g_{2},g_{3} \\right)} \\sigma{\\left({\\xi}_{1},g_{2},g_{3} \\right)}} = \\operatorname{pw}{\\left(z,g_{2},g_{3} \\right)} {c}_{1} + {c}_{0}$"
      ],
      "text/plain": [
       "Eq(sigma(z - xi[0], g2, g3)*sigma(z - xi[1], g2, g3)/(sigma(z, g2, g3)**2*sigma(xi[0], g2, g3)*sigma(xi[1], g2, g3)), pw(z, g2, g3)*c[1] + c[0])"
      ]
     },
     "execution_count": 94,
     "metadata": {},
     "output_type": "execute_result"
    }
   ],
   "source": [
    "sigma_product_wp_diff_eq.subs(N,1).doit()"
   ]
  },
  {
   "cell_type": "code",
   "execution_count": 95,
   "metadata": {},
   "outputs": [
    {
     "data": {
      "text/latex": [
       "$\\displaystyle \\operatorname{pw}{\\left(z,g_{2},g_{3} \\right)} = \\frac{1}{z^{2}} + O\\left(z^{2}\\right)$"
      ],
      "text/plain": [
       "Eq(pw(z, g2, g3), z**(-2) + O(z**2))"
      ]
     },
     "execution_count": 95,
     "metadata": {},
     "output_type": "execute_result"
    }
   ],
   "source": [
    "pw_exp_Nval = 0\n",
    "pw_exp_Nval_eq = Eq(expansion_z_wp_N.lhs, expansion_z_wp_N.rhs.subs(N,pw_exp_Nval).doit() + O(z**(2*(pw_exp_Nval+1))))\n",
    "pw_exp_Nval_eq"
   ]
  },
  {
   "cell_type": "code",
   "execution_count": 96,
   "metadata": {},
   "outputs": [
    {
     "data": {
      "text/latex": [
       "$\\displaystyle \\frac{\\sigma{\\left(z - {\\xi}_{0},g_{2},g_{3} \\right)} \\sigma{\\left(z - {\\xi}_{1},g_{2},g_{3} \\right)}}{\\sigma^{2}{\\left(z,g_{2},g_{3} \\right)} \\sigma{\\left({\\xi}_{0},g_{2},g_{3} \\right)} \\sigma{\\left({\\xi}_{1},g_{2},g_{3} \\right)}} = \\frac{{c}_{1}}{z^{2}} + {c}_{0} + O\\left(z^{2}\\right)$"
      ],
      "text/plain": [
       "Eq(sigma(z - xi[0], g2, g3)*sigma(z - xi[1], g2, g3)/(sigma(z, g2, g3)**2*sigma(xi[0], g2, g3)*sigma(xi[1], g2, g3)), c[1]/z**2 + c[0] + O(z**2))"
      ]
     },
     "execution_count": 96,
     "metadata": {},
     "output_type": "execute_result"
    }
   ],
   "source": [
    "sigma_exp_z_n1_eq_rhs = sigma_product_wp_diff_eq.subs(N,1).doit().subs(*pw_exp_Nval_eq.args).expand()\n",
    "sigma_exp_z_n1_eq_rhs"
   ]
  },
  {
   "cell_type": "code",
   "execution_count": 97,
   "metadata": {},
   "outputs": [
    {
     "data": {
      "text/latex": [
       "$\\displaystyle \\frac{1}{\\sigma^{2}{\\left(z,g_{2},g_{3} \\right)}} = \\frac{1}{z^{2}} + \\frac{12 g_{3} z^{4}}{7} + \\frac{g_{2} z^{2}}{5} + O\\left(z^{6}\\right)$"
      ],
      "text/plain": [
       "Eq(sigma(z, g2, g3)**(-2), z**(-2) + 12*g3*z**4/7 + g2*z**2/5 + O(z**6))"
      ]
     },
     "execution_count": 97,
     "metadata": {},
     "output_type": "execute_result"
    }
   ],
   "source": [
    "one_over_sig_to_2_exp = one_over_sigma_z_power_N.subs(N,2).expand()\n",
    "one_over_sig_to_2_exp"
   ]
  },
  {
   "cell_type": "code",
   "execution_count": 98,
   "metadata": {},
   "outputs": [
    {
     "data": {
      "text/latex": [
       "$\\displaystyle \\sigma{\\left(z - {\\xi}_{0},g_{2},g_{3} \\right)} = - \\sigma{\\left({\\xi}_{0},g_{2},g_{3} \\right)} + z \\sigma{\\left({\\xi}_{0},g_{2},g_{3} \\right)} \\operatorname{zw}{\\left({\\xi}_{0},g_{2},g_{3} \\right)} + \\frac{z^{2} \\left(\\operatorname{pw}{\\left({\\xi}_{0},g_{2},g_{3} \\right)} - \\operatorname{zw}^{2}{\\left({\\xi}_{0},g_{2},g_{3} \\right)}\\right) \\sigma{\\left({\\xi}_{0},g_{2},g_{3} \\right)}}{2} + \\frac{z^{3} \\left(- 3 \\operatorname{pw}{\\left({\\xi}_{0},g_{2},g_{3} \\right)} \\operatorname{zw}{\\left({\\xi}_{0},g_{2},g_{3} \\right)} - \\operatorname{pwp}{\\left({\\xi}_{0},g_{2},g_{3} \\right)} + \\operatorname{zw}^{3}{\\left({\\xi}_{0},g_{2},g_{3} \\right)}\\right) \\sigma{\\left({\\xi}_{0},g_{2},g_{3} \\right)}}{6} + O\\left(z^{4}\\right)$"
      ],
      "text/plain": [
       "Eq(sigma(z - xi[0], g2, g3), -sigma(xi[0], g2, g3) + z*sigma(xi[0], g2, g3)*zw(xi[0], g2, g3) + z**2*(pw(xi[0], g2, g3) - zw(xi[0], g2, g3)**2)*sigma(xi[0], g2, g3)/2 + z**3*(-3*pw(xi[0], g2, g3)*zw(xi[0], g2, g3) - pwp(xi[0], g2, g3) + zw(xi[0], g2, g3)**3)*sigma(xi[0], g2, g3)/6 + O(z**4))"
      ]
     },
     "execution_count": 98,
     "metadata": {},
     "output_type": "execute_result"
    }
   ],
   "source": [
    "z_min_xi0_exp = sigma_z_minus_x_3_exp.subs(x,xi[0])\n",
    "z_min_xi0_exp"
   ]
  },
  {
   "cell_type": "code",
   "execution_count": 99,
   "metadata": {},
   "outputs": [
    {
     "data": {
      "text/latex": [
       "$\\displaystyle \\sigma{\\left(z - {\\xi}_{1},g_{2},g_{3} \\right)} = - \\sigma{\\left({\\xi}_{1},g_{2},g_{3} \\right)} + z \\sigma{\\left({\\xi}_{1},g_{2},g_{3} \\right)} \\operatorname{zw}{\\left({\\xi}_{1},g_{2},g_{3} \\right)} + \\frac{z^{2} \\left(\\operatorname{pw}{\\left({\\xi}_{1},g_{2},g_{3} \\right)} - \\operatorname{zw}^{2}{\\left({\\xi}_{1},g_{2},g_{3} \\right)}\\right) \\sigma{\\left({\\xi}_{1},g_{2},g_{3} \\right)}}{2} + \\frac{z^{3} \\left(- 3 \\operatorname{pw}{\\left({\\xi}_{1},g_{2},g_{3} \\right)} \\operatorname{zw}{\\left({\\xi}_{1},g_{2},g_{3} \\right)} - \\operatorname{pwp}{\\left({\\xi}_{1},g_{2},g_{3} \\right)} + \\operatorname{zw}^{3}{\\left({\\xi}_{1},g_{2},g_{3} \\right)}\\right) \\sigma{\\left({\\xi}_{1},g_{2},g_{3} \\right)}}{6} + O\\left(z^{4}\\right)$"
      ],
      "text/plain": [
       "Eq(sigma(z - xi[1], g2, g3), -sigma(xi[1], g2, g3) + z*sigma(xi[1], g2, g3)*zw(xi[1], g2, g3) + z**2*(pw(xi[1], g2, g3) - zw(xi[1], g2, g3)**2)*sigma(xi[1], g2, g3)/2 + z**3*(-3*pw(xi[1], g2, g3)*zw(xi[1], g2, g3) - pwp(xi[1], g2, g3) + zw(xi[1], g2, g3)**3)*sigma(xi[1], g2, g3)/6 + O(z**4))"
      ]
     },
     "execution_count": 99,
     "metadata": {},
     "output_type": "execute_result"
    }
   ],
   "source": [
    "z_min_xi1_exp = sigma_z_minus_x_3_exp.subs(x,xi[1])\n",
    "z_min_xi1_exp"
   ]
  },
  {
   "cell_type": "code",
   "execution_count": 100,
   "metadata": {},
   "outputs": [
    {
     "data": {
      "text/latex": [
       "$\\displaystyle \\frac{\\sigma{\\left(z - {\\xi}_{0},g_{2},g_{3} \\right)} \\sigma{\\left(z - {\\xi}_{1},g_{2},g_{3} \\right)}}{\\sigma^{2}{\\left(z,g_{2},g_{3} \\right)} \\sigma{\\left({\\xi}_{0},g_{2},g_{3} \\right)} \\sigma{\\left({\\xi}_{1},g_{2},g_{3} \\right)}} = \\frac{1}{z^{2}} - \\frac{\\operatorname{zw}{\\left({\\xi}_{1},g_{2},g_{3} \\right)}}{z} - \\frac{\\operatorname{zw}{\\left({\\xi}_{0},g_{2},g_{3} \\right)}}{z} + \\frac{\\operatorname{zw}^{2}{\\left({\\xi}_{1},g_{2},g_{3} \\right)}}{2} + \\operatorname{zw}{\\left({\\xi}_{0},g_{2},g_{3} \\right)} \\operatorname{zw}{\\left({\\xi}_{1},g_{2},g_{3} \\right)} + \\frac{\\operatorname{zw}^{2}{\\left({\\xi}_{0},g_{2},g_{3} \\right)}}{2} - \\frac{\\operatorname{pw}{\\left({\\xi}_{1},g_{2},g_{3} \\right)}}{2} - \\frac{\\operatorname{pw}{\\left({\\xi}_{0},g_{2},g_{3} \\right)}}{2} - \\frac{z \\operatorname{zw}^{3}{\\left({\\xi}_{1},g_{2},g_{3} \\right)}}{6} - \\frac{z \\operatorname{zw}{\\left({\\xi}_{0},g_{2},g_{3} \\right)} \\operatorname{zw}^{2}{\\left({\\xi}_{1},g_{2},g_{3} \\right)}}{2} - \\frac{z \\operatorname{zw}^{2}{\\left({\\xi}_{0},g_{2},g_{3} \\right)} \\operatorname{zw}{\\left({\\xi}_{1},g_{2},g_{3} \\right)}}{2} - \\frac{z \\operatorname{zw}^{3}{\\left({\\xi}_{0},g_{2},g_{3} \\right)}}{6} + \\frac{z \\operatorname{pwp}{\\left({\\xi}_{1},g_{2},g_{3} \\right)}}{6} + \\frac{z \\operatorname{pwp}{\\left({\\xi}_{0},g_{2},g_{3} \\right)}}{6} + \\frac{z \\operatorname{pw}{\\left({\\xi}_{1},g_{2},g_{3} \\right)} \\operatorname{zw}{\\left({\\xi}_{1},g_{2},g_{3} \\right)}}{2} + \\frac{z \\operatorname{pw}{\\left({\\xi}_{1},g_{2},g_{3} \\right)} \\operatorname{zw}{\\left({\\xi}_{0},g_{2},g_{3} \\right)}}{2} + \\frac{z \\operatorname{pw}{\\left({\\xi}_{0},g_{2},g_{3} \\right)} \\operatorname{zw}{\\left({\\xi}_{1},g_{2},g_{3} \\right)}}{2} + \\frac{z \\operatorname{pw}{\\left({\\xi}_{0},g_{2},g_{3} \\right)} \\operatorname{zw}{\\left({\\xi}_{0},g_{2},g_{3} \\right)}}{2} + O\\left(z^{2}\\right)$"
      ],
      "text/plain": [
       "Eq(sigma(z - xi[0], g2, g3)*sigma(z - xi[1], g2, g3)/(sigma(z, g2, g3)**2*sigma(xi[0], g2, g3)*sigma(xi[1], g2, g3)), z**(-2) - zw(xi[1], g2, g3)/z - zw(xi[0], g2, g3)/z + zw(xi[1], g2, g3)**2/2 + zw(xi[0], g2, g3)*zw(xi[1], g2, g3) + zw(xi[0], g2, g3)**2/2 - pw(xi[1], g2, g3)/2 - pw(xi[0], g2, g3)/2 - z*zw(xi[1], g2, g3)**3/6 - z*zw(xi[0], g2, g3)*zw(xi[1], g2, g3)**2/2 - z*zw(xi[0], g2, g3)**2*zw(xi[1], g2, g3)/2 - z*zw(xi[0], g2, g3)**3/6 + z*pwp(xi[1], g2, g3)/6 + z*pwp(xi[0], g2, g3)/6 + z*pw(xi[1], g2, g3)*zw(xi[1], g2, g3)/2 + z*pw(xi[1], g2, g3)*zw(xi[0], g2, g3)/2 + z*pw(xi[0], g2, g3)*zw(xi[1], g2, g3)/2 + z*pw(xi[0], g2, g3)*zw(xi[0], g2, g3)/2 + O(z**2))"
      ]
     },
     "execution_count": 100,
     "metadata": {},
     "output_type": "execute_result"
    }
   ],
   "source": [
    "sigma_exp_z_n1_eq_lhs = Eq(sigma_product_wp_diff_eq.subs(N,1).doit().lhs,\n",
    "   sigma_product_wp_diff_eq.subs(N,1).doit().lhs.subs([\n",
    "        z_min_xi0_exp.args, z_min_xi1_exp.args, one_over_sig_to_2_exp.args\n",
    "    ]).expand()\n",
    "  )\n",
    "sigma_exp_z_n1_eq_lhs "
   ]
  },
  {
   "cell_type": "code",
   "execution_count": 101,
   "metadata": {},
   "outputs": [
    {
     "data": {
      "text/latex": [
       "$\\displaystyle 0 = \\frac{1 - {c}_{1}}{z^{2}} + \\frac{- \\operatorname{zw}{\\left({\\xi}_{0},g_{2},g_{3} \\right)} - \\operatorname{zw}{\\left({\\xi}_{1},g_{2},g_{3} \\right)}}{z} - {c}_{0} + \\frac{\\operatorname{zw}^{2}{\\left({\\xi}_{1},g_{2},g_{3} \\right)}}{2} + \\operatorname{zw}{\\left({\\xi}_{0},g_{2},g_{3} \\right)} \\operatorname{zw}{\\left({\\xi}_{1},g_{2},g_{3} \\right)} + \\frac{\\operatorname{zw}^{2}{\\left({\\xi}_{0},g_{2},g_{3} \\right)}}{2} - \\frac{\\operatorname{pw}{\\left({\\xi}_{1},g_{2},g_{3} \\right)}}{2} - \\frac{\\operatorname{pw}{\\left({\\xi}_{0},g_{2},g_{3} \\right)}}{2} + z \\left(\\frac{\\operatorname{pw}{\\left({\\xi}_{0},g_{2},g_{3} \\right)} \\operatorname{zw}{\\left({\\xi}_{0},g_{2},g_{3} \\right)}}{2} + \\frac{\\operatorname{pw}{\\left({\\xi}_{0},g_{2},g_{3} \\right)} \\operatorname{zw}{\\left({\\xi}_{1},g_{2},g_{3} \\right)}}{2} + \\frac{\\operatorname{pw}{\\left({\\xi}_{1},g_{2},g_{3} \\right)} \\operatorname{zw}{\\left({\\xi}_{0},g_{2},g_{3} \\right)}}{2} + \\frac{\\operatorname{pw}{\\left({\\xi}_{1},g_{2},g_{3} \\right)} \\operatorname{zw}{\\left({\\xi}_{1},g_{2},g_{3} \\right)}}{2} + \\frac{\\operatorname{pwp}{\\left({\\xi}_{0},g_{2},g_{3} \\right)}}{6} + \\frac{\\operatorname{pwp}{\\left({\\xi}_{1},g_{2},g_{3} \\right)}}{6} - \\frac{\\operatorname{zw}^{3}{\\left({\\xi}_{0},g_{2},g_{3} \\right)}}{6} - \\frac{\\operatorname{zw}^{2}{\\left({\\xi}_{0},g_{2},g_{3} \\right)} \\operatorname{zw}{\\left({\\xi}_{1},g_{2},g_{3} \\right)}}{2} - \\frac{\\operatorname{zw}{\\left({\\xi}_{0},g_{2},g_{3} \\right)} \\operatorname{zw}^{2}{\\left({\\xi}_{1},g_{2},g_{3} \\right)}}{2} - \\frac{\\operatorname{zw}^{3}{\\left({\\xi}_{1},g_{2},g_{3} \\right)}}{6}\\right) + O\\left(z^{2}\\right)$"
      ],
      "text/plain": [
       "Eq(0, (1 - c[1])/z**2 + (-zw(xi[0], g2, g3) - zw(xi[1], g2, g3))/z - c[0] + zw(xi[1], g2, g3)**2/2 + zw(xi[0], g2, g3)*zw(xi[1], g2, g3) + zw(xi[0], g2, g3)**2/2 - pw(xi[1], g2, g3)/2 - pw(xi[0], g2, g3)/2 + z*(pw(xi[0], g2, g3)*zw(xi[0], g2, g3)/2 + pw(xi[0], g2, g3)*zw(xi[1], g2, g3)/2 + pw(xi[1], g2, g3)*zw(xi[0], g2, g3)/2 + pw(xi[1], g2, g3)*zw(xi[1], g2, g3)/2 + pwp(xi[0], g2, g3)/6 + pwp(xi[1], g2, g3)/6 - zw(xi[0], g2, g3)**3/6 - zw(xi[0], g2, g3)**2*zw(xi[1], g2, g3)/2 - zw(xi[0], g2, g3)*zw(xi[1], g2, g3)**2/2 - zw(xi[1], g2, g3)**3/6) + O(z**2))"
      ]
     },
     "execution_count": 101,
     "metadata": {},
     "output_type": "execute_result"
    }
   ],
   "source": [
    "coeff_eq_n1_poly = Eq(sigma_exp_z_n1_eq_lhs.lhs - sigma_exp_z_n1_eq_rhs.lhs, \n",
    "   (sigma_exp_z_n1_eq_lhs.rhs - sigma_exp_z_n1_eq_rhs.rhs).collect(z))\n",
    "coeff_eq_n1_poly"
   ]
  },
  {
   "cell_type": "code",
   "execution_count": 102,
   "metadata": {},
   "outputs": [
    {
     "data": {
      "text/latex": [
       "$\\displaystyle {c}_{1} = 1$"
      ],
      "text/plain": [
       "Eq(c[1], 1)"
      ]
     },
     "execution_count": 102,
     "metadata": {},
     "output_type": "execute_result"
    }
   ],
   "source": [
    "c1_val_n1 = Eq(c[1], solve(coeff_eq_n1_poly.rhs.coeff(1/z**2), c[1])[0])\n",
    "c1_val_n1"
   ]
  },
  {
   "cell_type": "code",
   "execution_count": 103,
   "metadata": {},
   "outputs": [
    {
     "data": {
      "text/latex": [
       "$\\displaystyle - \\operatorname{zw}{\\left({\\xi}_{0},g_{2},g_{3} \\right)} - \\operatorname{zw}{\\left({\\xi}_{1},g_{2},g_{3} \\right)} = 0$"
      ],
      "text/plain": [
       "Eq(-zw(xi[0], g2, g3) - zw(xi[1], g2, g3), 0)"
      ]
     },
     "execution_count": 103,
     "metadata": {},
     "output_type": "execute_result"
    }
   ],
   "source": [
    "one_over_z_term_n1 = Eq(coeff_eq_n1_poly.rhs.coeff(1/z),0)\n",
    "one_over_z_term_n1"
   ]
  },
  {
   "cell_type": "code",
   "execution_count": 104,
   "metadata": {},
   "outputs": [
    {
     "data": {
      "text/latex": [
       "$\\displaystyle {c}_{0} = - \\frac{\\operatorname{pw}{\\left({\\xi}_{0},g_{2},g_{3} \\right)}}{2} - \\frac{\\operatorname{pw}{\\left({\\xi}_{1},g_{2},g_{3} \\right)}}{2} + \\frac{\\operatorname{zw}^{2}{\\left({\\xi}_{0},g_{2},g_{3} \\right)}}{2} + \\operatorname{zw}{\\left({\\xi}_{0},g_{2},g_{3} \\right)} \\operatorname{zw}{\\left({\\xi}_{1},g_{2},g_{3} \\right)} + \\frac{\\operatorname{zw}^{2}{\\left({\\xi}_{1},g_{2},g_{3} \\right)}}{2}$"
      ],
      "text/plain": [
       "Eq(c[0], -pw(xi[0], g2, g3)/2 - pw(xi[1], g2, g3)/2 + zw(xi[0], g2, g3)**2/2 + zw(xi[0], g2, g3)*zw(xi[1], g2, g3) + zw(xi[1], g2, g3)**2/2)"
      ]
     },
     "execution_count": 104,
     "metadata": {},
     "output_type": "execute_result"
    }
   ],
   "source": [
    "c0_val_n1 = Eq(c[0], solve(limit(coeff_eq_n1_poly.rhs.subs([c1_val_n1.args, one_over_z_term_n1.args]),z,0), c[0])[0])\n",
    "c0_val_n1"
   ]
  },
  {
   "cell_type": "code",
   "execution_count": 105,
   "metadata": {},
   "outputs": [
    {
     "data": {
      "text/latex": [
       "$\\displaystyle {c}_{0} = - \\operatorname{pw}{\\left({\\xi}_{0},g_{2},g_{3} \\right)}$"
      ],
      "text/plain": [
       "Eq(c[0], -pw(xi[0], g2, g3))"
      ]
     },
     "execution_count": 105,
     "metadata": {},
     "output_type": "execute_result"
    }
   ],
   "source": [
    "c0_val_n1.subs(xi[1],-xi[0]).subs([\n",
    "            (sigma(-xi[0],g2,g3), -sigma(xi[0],g2,g3)), (zw(-xi[0],g2,g3), -zw(xi[0],g2,g3)),\n",
    "       (pw(-xi[0],g2,g3), pw(xi[0],g2,g3))\n",
    "])"
   ]
  },
  {
   "cell_type": "markdown",
   "metadata": {},
   "source": [
    "#### $N=2$ case"
   ]
  },
  {
   "cell_type": "code",
   "execution_count": 106,
   "metadata": {},
   "outputs": [
    {
     "data": {
      "text/latex": [
       "$\\displaystyle - \\frac{\\sigma{\\left(z - {\\xi}_{0},g_{2},g_{3} \\right)} \\sigma{\\left(z - {\\xi}_{1},g_{2},g_{3} \\right)} \\sigma{\\left(z - {\\xi}_{2},g_{2},g_{3} \\right)}}{\\sigma^{3}{\\left(z,g_{2},g_{3} \\right)} \\sigma{\\left({\\xi}_{0},g_{2},g_{3} \\right)} \\sigma{\\left({\\xi}_{1},g_{2},g_{3} \\right)} \\sigma{\\left({\\xi}_{2},g_{2},g_{3} \\right)}} = \\operatorname{pw}{\\left(z,g_{2},g_{3} \\right)} {c}_{1} + \\frac{\\partial}{\\partial z} \\operatorname{pw}{\\left(z,g_{2},g_{3} \\right)} {c}_{2} + {c}_{0}$"
      ],
      "text/plain": [
       "Eq(-sigma(z - xi[0], g2, g3)*sigma(z - xi[1], g2, g3)*sigma(z - xi[2], g2, g3)/(sigma(z, g2, g3)**3*sigma(xi[0], g2, g3)*sigma(xi[1], g2, g3)*sigma(xi[2], g2, g3)), pw(z, g2, g3)*c[1] + Derivative(pw(z, g2, g3), z)*c[2] + c[0])"
      ]
     },
     "execution_count": 106,
     "metadata": {},
     "output_type": "execute_result"
    }
   ],
   "source": [
    "sigma_product_wp_diff_eq.subs(N,2).doit()"
   ]
  },
  {
   "cell_type": "code",
   "execution_count": 107,
   "metadata": {},
   "outputs": [
    {
     "data": {
      "text/latex": [
       "$\\displaystyle \\operatorname{pw}{\\left(z,g_{2},g_{3} \\right)} = \\frac{1}{z^{2}} + 3 z^{2} {G}_{4} + O\\left(z^{4}\\right)$"
      ],
      "text/plain": [
       "Eq(pw(z, g2, g3), z**(-2) + 3*z**2*G[4] + O(z**4))"
      ]
     },
     "execution_count": 107,
     "metadata": {},
     "output_type": "execute_result"
    }
   ],
   "source": [
    "pw_exp_n2_Nval = 1\n",
    "pw_exp_n2_Nval_eq = Eq(expansion_z_wp_N.lhs, \n",
    "                       expansion_z_wp_N.rhs.subs(N,pw_exp_n2_Nval).doit() + O(z**(2*(pw_exp_n2_Nval+1))))\n",
    "pw_exp_n2_Nval_eq"
   ]
  },
  {
   "cell_type": "code",
   "execution_count": 108,
   "metadata": {},
   "outputs": [
    {
     "data": {
      "text/latex": [
       "$\\displaystyle \\frac{\\partial}{\\partial z} \\operatorname{pw}{\\left(z,g_{2},g_{3} \\right)} = - \\frac{2}{z^{3}} + 6 z {G}_{4} + O\\left(z^{3}\\right)$"
      ],
      "text/plain": [
       "Eq(Derivative(pw(z, g2, g3), z), -2/z**3 + 6*z*G[4] + O(z**3))"
      ]
     },
     "execution_count": 108,
     "metadata": {},
     "output_type": "execute_result"
    }
   ],
   "source": [
    "pw_exp_n2_Nval_eq_diff_1 = Eq(diff(pw_exp_n2_Nval_eq.lhs,z), diff(pw_exp_n2_Nval_eq.rhs,z))\n",
    "pw_exp_n2_Nval_eq_diff_1"
   ]
  },
  {
   "cell_type": "code",
   "execution_count": 109,
   "metadata": {},
   "outputs": [
    {
     "data": {
      "text/latex": [
       "$\\displaystyle - \\frac{\\sigma{\\left(z - {\\xi}_{0},g_{2},g_{3} \\right)} \\sigma{\\left(z - {\\xi}_{1},g_{2},g_{3} \\right)} \\sigma{\\left(z - {\\xi}_{2},g_{2},g_{3} \\right)}}{\\sigma^{3}{\\left(z,g_{2},g_{3} \\right)} \\sigma{\\left({\\xi}_{0},g_{2},g_{3} \\right)} \\sigma{\\left({\\xi}_{1},g_{2},g_{3} \\right)} \\sigma{\\left({\\xi}_{2},g_{2},g_{3} \\right)}} = - \\frac{2 {c}_{2}}{z^{3}} + \\frac{{c}_{1}}{z^{2}} + {c}_{0} + 6 z {G}_{4} {c}_{2} + 3 z^{2} {G}_{4} {c}_{1} + O\\left(z^{3}\\right)$"
      ],
      "text/plain": [
       "Eq(-sigma(z - xi[0], g2, g3)*sigma(z - xi[1], g2, g3)*sigma(z - xi[2], g2, g3)/(sigma(z, g2, g3)**3*sigma(xi[0], g2, g3)*sigma(xi[1], g2, g3)*sigma(xi[2], g2, g3)), -2*c[2]/z**3 + c[1]/z**2 + c[0] + 6*z*G[4]*c[2] + 3*z**2*G[4]*c[1] + O(z**3))"
      ]
     },
     "execution_count": 109,
     "metadata": {},
     "output_type": "execute_result"
    }
   ],
   "source": [
    "sigma_exp_z_n2_eq_rhs = (sigma_product_wp_diff_eq.subs(N,2).doit()\n",
    "                         .subs(*pw_exp_n2_Nval_eq_diff_1.args)\n",
    "                         .subs(*pw_exp_n2_Nval_eq.args)\n",
    "                         .expand())\n",
    "sigma_exp_z_n2_eq_rhs"
   ]
  },
  {
   "cell_type": "code",
   "execution_count": 110,
   "metadata": {},
   "outputs": [
    {
     "data": {
      "text/latex": [
       "$\\displaystyle \\frac{1}{\\sigma^{3}{\\left(z,g_{2},g_{3} \\right)}} = \\frac{1}{z^{3}} + \\frac{18 g_{3} z^{3}}{7} + \\frac{3 g_{2} z}{10} + O\\left(z^{5}\\right)$"
      ],
      "text/plain": [
       "Eq(sigma(z, g2, g3)**(-3), z**(-3) + 18*g3*z**3/7 + 3*g2*z/10 + O(z**5))"
      ]
     },
     "execution_count": 110,
     "metadata": {},
     "output_type": "execute_result"
    }
   ],
   "source": [
    "one_over_sig_to_3_exp = one_over_sigma_z_power_N.subs(N,3).expand()\n",
    "one_over_sig_to_3_exp"
   ]
  },
  {
   "cell_type": "code",
   "execution_count": 111,
   "metadata": {},
   "outputs": [
    {
     "data": {
      "text/latex": [
       "$\\displaystyle \\sigma{\\left(z - {\\xi}_{2},g_{2},g_{3} \\right)} = - \\sigma{\\left({\\xi}_{2},g_{2},g_{3} \\right)} + z \\sigma{\\left({\\xi}_{2},g_{2},g_{3} \\right)} \\operatorname{zw}{\\left({\\xi}_{2},g_{2},g_{3} \\right)} + \\frac{z^{2} \\left(\\operatorname{pw}{\\left({\\xi}_{2},g_{2},g_{3} \\right)} - \\operatorname{zw}^{2}{\\left({\\xi}_{2},g_{2},g_{3} \\right)}\\right) \\sigma{\\left({\\xi}_{2},g_{2},g_{3} \\right)}}{2} + \\frac{z^{3} \\left(- 3 \\operatorname{pw}{\\left({\\xi}_{2},g_{2},g_{3} \\right)} \\operatorname{zw}{\\left({\\xi}_{2},g_{2},g_{3} \\right)} - \\operatorname{pwp}{\\left({\\xi}_{2},g_{2},g_{3} \\right)} + \\operatorname{zw}^{3}{\\left({\\xi}_{2},g_{2},g_{3} \\right)}\\right) \\sigma{\\left({\\xi}_{2},g_{2},g_{3} \\right)}}{6} + O\\left(z^{4}\\right)$"
      ],
      "text/plain": [
       "Eq(sigma(z - xi[2], g2, g3), -sigma(xi[2], g2, g3) + z*sigma(xi[2], g2, g3)*zw(xi[2], g2, g3) + z**2*(pw(xi[2], g2, g3) - zw(xi[2], g2, g3)**2)*sigma(xi[2], g2, g3)/2 + z**3*(-3*pw(xi[2], g2, g3)*zw(xi[2], g2, g3) - pwp(xi[2], g2, g3) + zw(xi[2], g2, g3)**3)*sigma(xi[2], g2, g3)/6 + O(z**4))"
      ]
     },
     "execution_count": 111,
     "metadata": {},
     "output_type": "execute_result"
    }
   ],
   "source": [
    "z_min_xi2_exp = sigma_z_minus_x_3_exp.subs(x,xi[2])\n",
    "z_min_xi2_exp"
   ]
  },
  {
   "cell_type": "code",
   "execution_count": 112,
   "metadata": {},
   "outputs": [
    {
     "data": {
      "text/latex": [
       "$\\displaystyle - \\frac{\\sigma{\\left(z - {\\xi}_{0},g_{2},g_{3} \\right)} \\sigma{\\left(z - {\\xi}_{1},g_{2},g_{3} \\right)} \\sigma{\\left(z - {\\xi}_{2},g_{2},g_{3} \\right)}}{\\sigma^{3}{\\left(z,g_{2},g_{3} \\right)} \\sigma{\\left({\\xi}_{0},g_{2},g_{3} \\right)} \\sigma{\\left({\\xi}_{1},g_{2},g_{3} \\right)} \\sigma{\\left({\\xi}_{2},g_{2},g_{3} \\right)}} = \\frac{1}{z^{3}} - \\frac{\\operatorname{zw}{\\left({\\xi}_{2},g_{2},g_{3} \\right)}}{z^{2}} - \\frac{\\operatorname{zw}{\\left({\\xi}_{1},g_{2},g_{3} \\right)}}{z^{2}} - \\frac{\\operatorname{zw}{\\left({\\xi}_{0},g_{2},g_{3} \\right)}}{z^{2}} + \\frac{\\operatorname{zw}^{2}{\\left({\\xi}_{2},g_{2},g_{3} \\right)}}{2 z} + \\frac{\\operatorname{zw}{\\left({\\xi}_{1},g_{2},g_{3} \\right)} \\operatorname{zw}{\\left({\\xi}_{2},g_{2},g_{3} \\right)}}{z} + \\frac{\\operatorname{zw}^{2}{\\left({\\xi}_{1},g_{2},g_{3} \\right)}}{2 z} + \\frac{\\operatorname{zw}{\\left({\\xi}_{0},g_{2},g_{3} \\right)} \\operatorname{zw}{\\left({\\xi}_{2},g_{2},g_{3} \\right)}}{z} + \\frac{\\operatorname{zw}{\\left({\\xi}_{0},g_{2},g_{3} \\right)} \\operatorname{zw}{\\left({\\xi}_{1},g_{2},g_{3} \\right)}}{z} + \\frac{\\operatorname{zw}^{2}{\\left({\\xi}_{0},g_{2},g_{3} \\right)}}{2 z} - \\frac{\\operatorname{pw}{\\left({\\xi}_{2},g_{2},g_{3} \\right)}}{2 z} - \\frac{\\operatorname{pw}{\\left({\\xi}_{1},g_{2},g_{3} \\right)}}{2 z} - \\frac{\\operatorname{pw}{\\left({\\xi}_{0},g_{2},g_{3} \\right)}}{2 z} - \\frac{\\operatorname{zw}^{3}{\\left({\\xi}_{2},g_{2},g_{3} \\right)}}{6} - \\frac{\\operatorname{zw}{\\left({\\xi}_{1},g_{2},g_{3} \\right)} \\operatorname{zw}^{2}{\\left({\\xi}_{2},g_{2},g_{3} \\right)}}{2} - \\frac{\\operatorname{zw}^{2}{\\left({\\xi}_{1},g_{2},g_{3} \\right)} \\operatorname{zw}{\\left({\\xi}_{2},g_{2},g_{3} \\right)}}{2} - \\frac{\\operatorname{zw}^{3}{\\left({\\xi}_{1},g_{2},g_{3} \\right)}}{6} - \\frac{\\operatorname{zw}{\\left({\\xi}_{0},g_{2},g_{3} \\right)} \\operatorname{zw}^{2}{\\left({\\xi}_{2},g_{2},g_{3} \\right)}}{2} - \\operatorname{zw}{\\left({\\xi}_{0},g_{2},g_{3} \\right)} \\operatorname{zw}{\\left({\\xi}_{1},g_{2},g_{3} \\right)} \\operatorname{zw}{\\left({\\xi}_{2},g_{2},g_{3} \\right)} - \\frac{\\operatorname{zw}{\\left({\\xi}_{0},g_{2},g_{3} \\right)} \\operatorname{zw}^{2}{\\left({\\xi}_{1},g_{2},g_{3} \\right)}}{2} - \\frac{\\operatorname{zw}^{2}{\\left({\\xi}_{0},g_{2},g_{3} \\right)} \\operatorname{zw}{\\left({\\xi}_{2},g_{2},g_{3} \\right)}}{2} - \\frac{\\operatorname{zw}^{2}{\\left({\\xi}_{0},g_{2},g_{3} \\right)} \\operatorname{zw}{\\left({\\xi}_{1},g_{2},g_{3} \\right)}}{2} - \\frac{\\operatorname{zw}^{3}{\\left({\\xi}_{0},g_{2},g_{3} \\right)}}{6} + \\frac{\\operatorname{pwp}{\\left({\\xi}_{2},g_{2},g_{3} \\right)}}{6} + \\frac{\\operatorname{pwp}{\\left({\\xi}_{1},g_{2},g_{3} \\right)}}{6} + \\frac{\\operatorname{pwp}{\\left({\\xi}_{0},g_{2},g_{3} \\right)}}{6} + \\frac{\\operatorname{pw}{\\left({\\xi}_{2},g_{2},g_{3} \\right)} \\operatorname{zw}{\\left({\\xi}_{2},g_{2},g_{3} \\right)}}{2} + \\frac{\\operatorname{pw}{\\left({\\xi}_{2},g_{2},g_{3} \\right)} \\operatorname{zw}{\\left({\\xi}_{1},g_{2},g_{3} \\right)}}{2} + \\frac{\\operatorname{pw}{\\left({\\xi}_{2},g_{2},g_{3} \\right)} \\operatorname{zw}{\\left({\\xi}_{0},g_{2},g_{3} \\right)}}{2} + \\frac{\\operatorname{pw}{\\left({\\xi}_{1},g_{2},g_{3} \\right)} \\operatorname{zw}{\\left({\\xi}_{2},g_{2},g_{3} \\right)}}{2} + \\frac{\\operatorname{pw}{\\left({\\xi}_{1},g_{2},g_{3} \\right)} \\operatorname{zw}{\\left({\\xi}_{1},g_{2},g_{3} \\right)}}{2} + \\frac{\\operatorname{pw}{\\left({\\xi}_{1},g_{2},g_{3} \\right)} \\operatorname{zw}{\\left({\\xi}_{0},g_{2},g_{3} \\right)}}{2} + \\frac{\\operatorname{pw}{\\left({\\xi}_{0},g_{2},g_{3} \\right)} \\operatorname{zw}{\\left({\\xi}_{2},g_{2},g_{3} \\right)}}{2} + \\frac{\\operatorname{pw}{\\left({\\xi}_{0},g_{2},g_{3} \\right)} \\operatorname{zw}{\\left({\\xi}_{1},g_{2},g_{3} \\right)}}{2} + \\frac{\\operatorname{pw}{\\left({\\xi}_{0},g_{2},g_{3} \\right)} \\operatorname{zw}{\\left({\\xi}_{0},g_{2},g_{3} \\right)}}{2} + O\\left(z\\right)$"
      ],
      "text/plain": [
       "Eq(-sigma(z - xi[0], g2, g3)*sigma(z - xi[1], g2, g3)*sigma(z - xi[2], g2, g3)/(sigma(z, g2, g3)**3*sigma(xi[0], g2, g3)*sigma(xi[1], g2, g3)*sigma(xi[2], g2, g3)), z**(-3) - zw(xi[2], g2, g3)/z**2 - zw(xi[1], g2, g3)/z**2 - zw(xi[0], g2, g3)/z**2 + zw(xi[2], g2, g3)**2/(2*z) + zw(xi[1], g2, g3)*zw(xi[2], g2, g3)/z + zw(xi[1], g2, g3)**2/(2*z) + zw(xi[0], g2, g3)*zw(xi[2], g2, g3)/z + zw(xi[0], g2, g3)*zw(xi[1], g2, g3)/z + zw(xi[0], g2, g3)**2/(2*z) - pw(xi[2], g2, g3)/(2*z) - pw(xi[1], g2, g3)/(2*z) - pw(xi[0], g2, g3)/(2*z) - zw(xi[2], g2, g3)**3/6 - zw(xi[1], g2, g3)*zw(xi[2], g2, g3)**2/2 - zw(xi[1], g2, g3)**2*zw(xi[2], g2, g3)/2 - zw(xi[1], g2, g3)**3/6 - zw(xi[0], g2, g3)*zw(xi[2], g2, g3)**2/2 - zw(xi[0], g2, g3)*zw(xi[1], g2, g3)*zw(xi[2], g2, g3) - zw(xi[0], g2, g3)*zw(xi[1], g2, g3)**2/2 - zw(xi[0], g2, g3)**2*zw(xi[2], g2, g3)/2 - zw(xi[0], g2, g3)**2*zw(xi[1], g2, g3)/2 - zw(xi[0], g2, g3)**3/6 + pwp(xi[2], g2, g3)/6 + pwp(xi[1], g2, g3)/6 + pwp(xi[0], g2, g3)/6 + pw(xi[2], g2, g3)*zw(xi[2], g2, g3)/2 + pw(xi[2], g2, g3)*zw(xi[1], g2, g3)/2 + pw(xi[2], g2, g3)*zw(xi[0], g2, g3)/2 + pw(xi[1], g2, g3)*zw(xi[2], g2, g3)/2 + pw(xi[1], g2, g3)*zw(xi[1], g2, g3)/2 + pw(xi[1], g2, g3)*zw(xi[0], g2, g3)/2 + pw(xi[0], g2, g3)*zw(xi[2], g2, g3)/2 + pw(xi[0], g2, g3)*zw(xi[1], g2, g3)/2 + pw(xi[0], g2, g3)*zw(xi[0], g2, g3)/2 + O(z))"
      ]
     },
     "execution_count": 112,
     "metadata": {},
     "output_type": "execute_result"
    }
   ],
   "source": [
    "sigma_exp_z_n2_eq_lhs = Eq(sigma_product_wp_diff_eq.subs(N,2).doit().lhs,\n",
    "   sigma_product_wp_diff_eq.subs(N,2).doit().lhs.subs([\n",
    "        z_min_xi0_exp.args, z_min_xi1_exp.args, z_min_xi2_exp.args, one_over_sig_to_3_exp.args\n",
    "    ]).expand()\n",
    "  )\n",
    "sigma_exp_z_n2_eq_lhs "
   ]
  },
  {
   "cell_type": "code",
   "execution_count": 113,
   "metadata": {},
   "outputs": [
    {
     "data": {
      "text/latex": [
       "$\\displaystyle 0 = \\frac{2 {c}_{2} + 1}{z^{3}} + \\frac{- \\operatorname{zw}{\\left({\\xi}_{0},g_{2},g_{3} \\right)} - \\operatorname{zw}{\\left({\\xi}_{1},g_{2},g_{3} \\right)} - \\operatorname{zw}{\\left({\\xi}_{2},g_{2},g_{3} \\right)} - {c}_{1}}{z^{2}} + \\frac{- \\frac{\\operatorname{pw}{\\left({\\xi}_{0},g_{2},g_{3} \\right)}}{2} - \\frac{\\operatorname{pw}{\\left({\\xi}_{1},g_{2},g_{3} \\right)}}{2} - \\frac{\\operatorname{pw}{\\left({\\xi}_{2},g_{2},g_{3} \\right)}}{2} + \\frac{\\operatorname{zw}^{2}{\\left({\\xi}_{0},g_{2},g_{3} \\right)}}{2} + \\operatorname{zw}{\\left({\\xi}_{0},g_{2},g_{3} \\right)} \\operatorname{zw}{\\left({\\xi}_{1},g_{2},g_{3} \\right)} + \\operatorname{zw}{\\left({\\xi}_{0},g_{2},g_{3} \\right)} \\operatorname{zw}{\\left({\\xi}_{2},g_{2},g_{3} \\right)} + \\frac{\\operatorname{zw}^{2}{\\left({\\xi}_{1},g_{2},g_{3} \\right)}}{2} + \\operatorname{zw}{\\left({\\xi}_{1},g_{2},g_{3} \\right)} \\operatorname{zw}{\\left({\\xi}_{2},g_{2},g_{3} \\right)} + \\frac{\\operatorname{zw}^{2}{\\left({\\xi}_{2},g_{2},g_{3} \\right)}}{2}}{z} - {c}_{0} - \\frac{\\operatorname{zw}^{3}{\\left({\\xi}_{2},g_{2},g_{3} \\right)}}{6} - \\frac{\\operatorname{zw}{\\left({\\xi}_{1},g_{2},g_{3} \\right)} \\operatorname{zw}^{2}{\\left({\\xi}_{2},g_{2},g_{3} \\right)}}{2} - \\frac{\\operatorname{zw}^{2}{\\left({\\xi}_{1},g_{2},g_{3} \\right)} \\operatorname{zw}{\\left({\\xi}_{2},g_{2},g_{3} \\right)}}{2} - \\frac{\\operatorname{zw}^{3}{\\left({\\xi}_{1},g_{2},g_{3} \\right)}}{6} - \\frac{\\operatorname{zw}{\\left({\\xi}_{0},g_{2},g_{3} \\right)} \\operatorname{zw}^{2}{\\left({\\xi}_{2},g_{2},g_{3} \\right)}}{2} - \\operatorname{zw}{\\left({\\xi}_{0},g_{2},g_{3} \\right)} \\operatorname{zw}{\\left({\\xi}_{1},g_{2},g_{3} \\right)} \\operatorname{zw}{\\left({\\xi}_{2},g_{2},g_{3} \\right)} - \\frac{\\operatorname{zw}{\\left({\\xi}_{0},g_{2},g_{3} \\right)} \\operatorname{zw}^{2}{\\left({\\xi}_{1},g_{2},g_{3} \\right)}}{2} - \\frac{\\operatorname{zw}^{2}{\\left({\\xi}_{0},g_{2},g_{3} \\right)} \\operatorname{zw}{\\left({\\xi}_{2},g_{2},g_{3} \\right)}}{2} - \\frac{\\operatorname{zw}^{2}{\\left({\\xi}_{0},g_{2},g_{3} \\right)} \\operatorname{zw}{\\left({\\xi}_{1},g_{2},g_{3} \\right)}}{2} - \\frac{\\operatorname{zw}^{3}{\\left({\\xi}_{0},g_{2},g_{3} \\right)}}{6} + \\frac{\\operatorname{pwp}{\\left({\\xi}_{2},g_{2},g_{3} \\right)}}{6} + \\frac{\\operatorname{pwp}{\\left({\\xi}_{1},g_{2},g_{3} \\right)}}{6} + \\frac{\\operatorname{pwp}{\\left({\\xi}_{0},g_{2},g_{3} \\right)}}{6} + \\frac{\\operatorname{pw}{\\left({\\xi}_{2},g_{2},g_{3} \\right)} \\operatorname{zw}{\\left({\\xi}_{2},g_{2},g_{3} \\right)}}{2} + \\frac{\\operatorname{pw}{\\left({\\xi}_{2},g_{2},g_{3} \\right)} \\operatorname{zw}{\\left({\\xi}_{1},g_{2},g_{3} \\right)}}{2} + \\frac{\\operatorname{pw}{\\left({\\xi}_{2},g_{2},g_{3} \\right)} \\operatorname{zw}{\\left({\\xi}_{0},g_{2},g_{3} \\right)}}{2} + \\frac{\\operatorname{pw}{\\left({\\xi}_{1},g_{2},g_{3} \\right)} \\operatorname{zw}{\\left({\\xi}_{2},g_{2},g_{3} \\right)}}{2} + \\frac{\\operatorname{pw}{\\left({\\xi}_{1},g_{2},g_{3} \\right)} \\operatorname{zw}{\\left({\\xi}_{1},g_{2},g_{3} \\right)}}{2} + \\frac{\\operatorname{pw}{\\left({\\xi}_{1},g_{2},g_{3} \\right)} \\operatorname{zw}{\\left({\\xi}_{0},g_{2},g_{3} \\right)}}{2} + \\frac{\\operatorname{pw}{\\left({\\xi}_{0},g_{2},g_{3} \\right)} \\operatorname{zw}{\\left({\\xi}_{2},g_{2},g_{3} \\right)}}{2} + \\frac{\\operatorname{pw}{\\left({\\xi}_{0},g_{2},g_{3} \\right)} \\operatorname{zw}{\\left({\\xi}_{1},g_{2},g_{3} \\right)}}{2} + \\frac{\\operatorname{pw}{\\left({\\xi}_{0},g_{2},g_{3} \\right)} \\operatorname{zw}{\\left({\\xi}_{0},g_{2},g_{3} \\right)}}{2} + O\\left(z\\right)$"
      ],
      "text/plain": [
       "Eq(0, (2*c[2] + 1)/z**3 + (-zw(xi[0], g2, g3) - zw(xi[1], g2, g3) - zw(xi[2], g2, g3) - c[1])/z**2 + (-pw(xi[0], g2, g3)/2 - pw(xi[1], g2, g3)/2 - pw(xi[2], g2, g3)/2 + zw(xi[0], g2, g3)**2/2 + zw(xi[0], g2, g3)*zw(xi[1], g2, g3) + zw(xi[0], g2, g3)*zw(xi[2], g2, g3) + zw(xi[1], g2, g3)**2/2 + zw(xi[1], g2, g3)*zw(xi[2], g2, g3) + zw(xi[2], g2, g3)**2/2)/z - c[0] - zw(xi[2], g2, g3)**3/6 - zw(xi[1], g2, g3)*zw(xi[2], g2, g3)**2/2 - zw(xi[1], g2, g3)**2*zw(xi[2], g2, g3)/2 - zw(xi[1], g2, g3)**3/6 - zw(xi[0], g2, g3)*zw(xi[2], g2, g3)**2/2 - zw(xi[0], g2, g3)*zw(xi[1], g2, g3)*zw(xi[2], g2, g3) - zw(xi[0], g2, g3)*zw(xi[1], g2, g3)**2/2 - zw(xi[0], g2, g3)**2*zw(xi[2], g2, g3)/2 - zw(xi[0], g2, g3)**2*zw(xi[1], g2, g3)/2 - zw(xi[0], g2, g3)**3/6 + pwp(xi[2], g2, g3)/6 + pwp(xi[1], g2, g3)/6 + pwp(xi[0], g2, g3)/6 + pw(xi[2], g2, g3)*zw(xi[2], g2, g3)/2 + pw(xi[2], g2, g3)*zw(xi[1], g2, g3)/2 + pw(xi[2], g2, g3)*zw(xi[0], g2, g3)/2 + pw(xi[1], g2, g3)*zw(xi[2], g2, g3)/2 + pw(xi[1], g2, g3)*zw(xi[1], g2, g3)/2 + pw(xi[1], g2, g3)*zw(xi[0], g2, g3)/2 + pw(xi[0], g2, g3)*zw(xi[2], g2, g3)/2 + pw(xi[0], g2, g3)*zw(xi[1], g2, g3)/2 + pw(xi[0], g2, g3)*zw(xi[0], g2, g3)/2 + O(z))"
      ]
     },
     "execution_count": 113,
     "metadata": {},
     "output_type": "execute_result"
    }
   ],
   "source": [
    "coeff_eq_n2_poly = Eq(sigma_exp_z_n2_eq_lhs.lhs - sigma_exp_z_n2_eq_rhs.lhs, \n",
    "   (sigma_exp_z_n2_eq_lhs.rhs - sigma_exp_z_n2_eq_rhs.rhs).collect(z))\n",
    "coeff_eq_n2_poly"
   ]
  },
  {
   "cell_type": "code",
   "execution_count": 114,
   "metadata": {},
   "outputs": [
    {
     "data": {
      "text/latex": [
       "$\\displaystyle {c}_{2} = - \\frac{1}{2}$"
      ],
      "text/plain": [
       "Eq(c[2], -1/2)"
      ]
     },
     "execution_count": 114,
     "metadata": {},
     "output_type": "execute_result"
    }
   ],
   "source": [
    "c2_val_n2 = Eq(c[2], solve(coeff_eq_n2_poly.rhs.coeff(1/z**3), c[2])[0])\n",
    "c2_val_n2"
   ]
  },
  {
   "cell_type": "code",
   "execution_count": 115,
   "metadata": {},
   "outputs": [
    {
     "data": {
      "text/latex": [
       "$\\displaystyle {c}_{1} = - \\operatorname{zw}{\\left({\\xi}_{0},g_{2},g_{3} \\right)} - \\operatorname{zw}{\\left({\\xi}_{1},g_{2},g_{3} \\right)} - \\operatorname{zw}{\\left({\\xi}_{2},g_{2},g_{3} \\right)}$"
      ],
      "text/plain": [
       "Eq(c[1], -zw(xi[0], g2, g3) - zw(xi[1], g2, g3) - zw(xi[2], g2, g3))"
      ]
     },
     "execution_count": 115,
     "metadata": {},
     "output_type": "execute_result"
    }
   ],
   "source": [
    "c1_val_n2 = Eq(c[1], solve(coeff_eq_n2_poly.rhs.coeff(1/z**2), c[1])[0])\n",
    "c1_val_n2"
   ]
  },
  {
   "cell_type": "code",
   "execution_count": 116,
   "metadata": {
    "scrolled": true
   },
   "outputs": [
    {
     "data": {
      "text/latex": [
       "$\\displaystyle \\frac{\\left(\\operatorname{zw}{\\left({\\xi}_{0},g_{2},g_{3} \\right)} + \\operatorname{zw}{\\left({\\xi}_{1},g_{2},g_{3} \\right)} + \\operatorname{zw}{\\left({\\xi}_{2},g_{2},g_{3} \\right)}\\right)^{2}}{2} - \\frac{\\operatorname{pw}{\\left({\\xi}_{0},g_{2},g_{3} \\right)}}{2} - \\frac{\\operatorname{pw}{\\left({\\xi}_{1},g_{2},g_{3} \\right)}}{2} - \\frac{\\operatorname{pw}{\\left({\\xi}_{2},g_{2},g_{3} \\right)}}{2} = 0$"
      ],
      "text/plain": [
       "Eq((zw(xi[0], g2, g3) + zw(xi[1], g2, g3) + zw(xi[2], g2, g3))**2/2 - pw(xi[0], g2, g3)/2 - pw(xi[1], g2, g3)/2 - pw(xi[2], g2, g3)/2, 0)"
      ]
     },
     "execution_count": 116,
     "metadata": {},
     "output_type": "execute_result"
    }
   ],
   "source": [
    "one_over_z_term_n2 = Eq(coeff_eq_n2_poly.rhs.coeff(1/z),0)\n",
    "pw_xi_2_terms_sum = pw(xi[0],g2,g3)/2 + pw(xi[1],g2,g3)/2 + pw(xi[2],g2,g3)/2\n",
    "one_over_z_term_n2 = Eq(\n",
    "                         (one_over_z_term_n2.lhs + pw_xi_2_terms_sum).factor() - pw_xi_2_terms_sum,\n",
    "                          one_over_z_term_n2.rhs, \n",
    "                       )\n",
    "one_over_z_term_n2"
   ]
  },
  {
   "cell_type": "code",
   "execution_count": 117,
   "metadata": {},
   "outputs": [
    {
     "data": {
      "text/latex": [
       "$\\displaystyle {c}_{0} = \\frac{\\left(\\operatorname{zw}{\\left({\\xi}_{0},g_{2},g_{3} \\right)} + \\operatorname{zw}{\\left({\\xi}_{1},g_{2},g_{3} \\right)} + \\operatorname{zw}{\\left({\\xi}_{2},g_{2},g_{3} \\right)}\\right)^{3}}{3} + \\frac{\\operatorname{pwp}{\\left({\\xi}_{0},g_{2},g_{3} \\right)}}{6} + \\frac{\\operatorname{pwp}{\\left({\\xi}_{1},g_{2},g_{3} \\right)}}{6} + \\frac{\\operatorname{pwp}{\\left({\\xi}_{2},g_{2},g_{3} \\right)}}{6}$"
      ],
      "text/plain": [
       "Eq(c[0], (zw(xi[0], g2, g3) + zw(xi[1], g2, g3) + zw(xi[2], g2, g3))**3/3 + pwp(xi[0], g2, g3)/6 + pwp(xi[1], g2, g3)/6 + pwp(xi[2], g2, g3)/6)"
      ]
     },
     "execution_count": 117,
     "metadata": {},
     "output_type": "execute_result"
    }
   ],
   "source": [
    "c0_val_n2 = Eq(c[0], solve(limit(coeff_eq_n2_poly.rhs.subs([\n",
    "    c2_val_n2.args, c1_val_n2.args, one_over_z_term_n2.expand().args]),z,0), c[0])[0])\n",
    "c0_val_n2_no_pw = c0_val_n2.subs(pw(xi[0],g2,g3),solve(one_over_z_term_n2, pw(xi[0],g2,g3))[0]).expand()\n",
    "c0_val_n2_no_pw = Eq(c0_val_n2_no_pw.lhs, \n",
    "                     (c0_val_n2_no_pw.rhs - pwp(xi[0],g2,g3)/6 - pwp(xi[1],g2,g3)/6 - pwp(xi[2],g2,g3)/6).factor() +\n",
    "                     pwp(xi[0],g2,g3)/6 + pwp(xi[1],g2,g3)/6 + pwp(xi[2],g2,g3)/6\n",
    "                    )\n",
    "c0_val_n2_no_pw"
   ]
  },
  {
   "cell_type": "code",
   "execution_count": 118,
   "metadata": {},
   "outputs": [
    {
     "data": {
      "text/latex": [
       "$\\displaystyle - \\frac{\\sigma{\\left(z - {\\xi}_{0},g_{2},g_{3} \\right)} \\sigma{\\left(z - {\\xi}_{1},g_{2},g_{3} \\right)} \\sigma{\\left(z - {\\xi}_{2},g_{2},g_{3} \\right)}}{\\sigma^{3}{\\left(z,g_{2},g_{3} \\right)} \\sigma{\\left({\\xi}_{0},g_{2},g_{3} \\right)} \\sigma{\\left({\\xi}_{1},g_{2},g_{3} \\right)} \\sigma{\\left({\\xi}_{2},g_{2},g_{3} \\right)}} = \\left(- \\operatorname{zw}{\\left({\\xi}_{0},g_{2},g_{3} \\right)} - \\operatorname{zw}{\\left({\\xi}_{1},g_{2},g_{3} \\right)} - \\operatorname{zw}{\\left({\\xi}_{2},g_{2},g_{3} \\right)}\\right) \\operatorname{pw}{\\left(z,g_{2},g_{3} \\right)} + \\frac{\\left(\\operatorname{zw}{\\left({\\xi}_{0},g_{2},g_{3} \\right)} + \\operatorname{zw}{\\left({\\xi}_{1},g_{2},g_{3} \\right)} + \\operatorname{zw}{\\left({\\xi}_{2},g_{2},g_{3} \\right)}\\right)^{3}}{3} - \\frac{\\operatorname{pwp}{\\left(z,g_{2},g_{3} \\right)}}{2} + \\frac{\\operatorname{pwp}{\\left({\\xi}_{0},g_{2},g_{3} \\right)}}{6} + \\frac{\\operatorname{pwp}{\\left({\\xi}_{1},g_{2},g_{3} \\right)}}{6} + \\frac{\\operatorname{pwp}{\\left({\\xi}_{2},g_{2},g_{3} \\right)}}{6}$"
      ],
      "text/plain": [
       "Eq(-sigma(z - xi[0], g2, g3)*sigma(z - xi[1], g2, g3)*sigma(z - xi[2], g2, g3)/(sigma(z, g2, g3)**3*sigma(xi[0], g2, g3)*sigma(xi[1], g2, g3)*sigma(xi[2], g2, g3)), (-zw(xi[0], g2, g3) - zw(xi[1], g2, g3) - zw(xi[2], g2, g3))*pw(z, g2, g3) + (zw(xi[0], g2, g3) + zw(xi[1], g2, g3) + zw(xi[2], g2, g3))**3/3 - pwp(z, g2, g3)/2 + pwp(xi[0], g2, g3)/6 + pwp(xi[1], g2, g3)/6 + pwp(xi[2], g2, g3)/6)"
      ]
     },
     "execution_count": 118,
     "metadata": {},
     "output_type": "execute_result"
    }
   ],
   "source": [
    "sigma_product_wp_diff_eq.subs(N,2).doit().subs([c2_val_n2.args, c1_val_n2.args, c0_val_n2_no_pw.args, diff_pw_eq.args])"
   ]
  },
  {
   "cell_type": "code",
   "execution_count": 119,
   "metadata": {},
   "outputs": [
    {
     "data": {
      "text/latex": [
       "$\\displaystyle - \\prod_{k=0}^{2} \\frac{\\sigma{\\left(z - {\\xi}_{k},g_{2},g_{3} \\right)}}{\\sigma{\\left(z,g_{2},g_{3} \\right)} \\sigma{\\left({\\xi}_{k},g_{2},g_{3} \\right)}} = - \\operatorname{pw}{\\left(z,g_{2},g_{3} \\right)} \\sum_{k=0}^{2} \\operatorname{zw}{\\left({\\xi}_{k},g_{2},g_{3} \\right)} - \\frac{\\operatorname{pwp}{\\left(z,g_{2},g_{3} \\right)}}{2} + \\frac{\\sum_{k=0}^{2} \\operatorname{pwp}{\\left({\\xi}_{k},g_{2},g_{3} \\right)}}{6} + \\frac{\\left(\\sum_{k=0}^{2} \\operatorname{zw}{\\left({\\xi}_{k},g_{2},g_{3} \\right)}\\right)^{3}}{3}$"
      ],
      "text/plain": [
       "Eq(-Product(sigma(z - xi[k], g2, g3)/(sigma(z, g2, g3)*sigma(xi[k], g2, g3)), (k, 0, 2)), -pw(z, g2, g3)*Sum(zw(xi[k], g2, g3), (k, 0, 2)) - pwp(z, g2, g3)/2 + Sum(pwp(xi[k], g2, g3), (k, 0, 2))/6 + Sum(zw(xi[k], g2, g3), (k, 0, 2))**3/3)"
      ]
     },
     "execution_count": 119,
     "metadata": {},
     "output_type": "execute_result"
    }
   ],
   "source": [
    "eq_3_modes_quadratic = Eq(-Product(sigma(z-xi[k],g2,g3)/sigma(z,g2,g3)/sigma(xi[k],g2,g3),(k,0,2)),\n",
    "  -Sum(zw(xi[k],g2,g3),(k,0,2))*pw(z,g2,g3) + (Sum(zw(xi[k],g2,g3),(k,0,2))**3)/3 + Sum(pwp(xi[k],g2,g3),(k,0,2))/6\n",
    "   -pwp(z,g2,g3)/2\n",
    "  )\n",
    "eq_3_modes_quadratic"
   ]
  },
  {
   "cell_type": "code",
   "execution_count": 120,
   "metadata": {},
   "outputs": [
    {
     "data": {
      "text/latex": [
       "$\\displaystyle \\operatorname{pw}{\\left(z,g_{2},g_{3} \\right)} = \\frac{\\sum_{k=0}^{2} \\left(\\operatorname{pw}{\\left(z,g_{2},g_{3} \\right)} - \\operatorname{pw}{\\left({\\xi}_{k},g_{2},g_{3} \\right)}\\right)}{3} + \\frac{\\sum_{k=0}^{2} \\operatorname{pw}{\\left({\\xi}_{k},g_{2},g_{3} \\right)}}{3}$"
      ],
      "text/plain": [
       "Eq(pw(z, g2, g3), Sum(pw(z, g2, g3) - pw(xi[k], g2, g3), (k, 0, 2))/3 + Sum(pw(xi[k], g2, g3), (k, 0, 2))/3)"
      ]
     },
     "execution_count": 120,
     "metadata": {},
     "output_type": "execute_result"
    }
   ],
   "source": [
    "Eq(pw(z,g2,g3), Sum(pw(z,g2,g3) - pw(xi[k],g2,g3),(k,0,2))/3 + Sum(pw(xi[k],g2,g3),(k,0,2))/3)"
   ]
  },
  {
   "cell_type": "code",
   "execution_count": 121,
   "metadata": {},
   "outputs": [
    {
     "data": {
      "text/latex": [
       "$\\displaystyle - \\prod_{k=0}^{2} \\frac{\\sigma{\\left(z - {\\xi}_{k},g_{2},g_{3} \\right)}}{\\sigma{\\left(z,g_{2},g_{3} \\right)} \\sigma{\\left({\\xi}_{k},g_{2},g_{3} \\right)}} = \\left(- \\operatorname{pw}{\\left(z,g_{2},g_{3} \\right)} + \\operatorname{pw}{\\left({\\xi}_{k},g_{2},g_{3} \\right)}\\right) \\sum_{k=0}^{2} \\operatorname{zw}{\\left({\\xi}_{k},g_{2},g_{3} \\right)} + \\frac{- \\operatorname{pwp}{\\left(z,g_{2},g_{3} \\right)} + \\operatorname{pwp}{\\left({\\xi}_{k},g_{2},g_{3} \\right)}}{2}$"
      ],
      "text/plain": [
       "Eq(-Product(sigma(z - xi[k], g2, g3)/(sigma(z, g2, g3)*sigma(xi[k], g2, g3)), (k, 0, 2)), (-pw(z, g2, g3) + pw(xi[k], g2, g3))*Sum(zw(xi[k], g2, g3), (k, 0, 2)) + (-pwp(z, g2, g3) + pwp(xi[k], g2, g3))/2)"
      ]
     },
     "execution_count": 121,
     "metadata": {},
     "output_type": "execute_result"
    }
   ],
   "source": [
    "eq_3_modes_quadratic_per_mode = Eq(eq_3_modes_quadratic.lhs, \n",
    "   (eq_3_modes_quadratic.rhs - eq_3_modes_quadratic.subs(z,xi[k]).rhs).collect(Sum(zw(xi[k],g2,g3),(k,0,2)),factor)\n",
    "  )\n",
    "eq_3_modes_quadratic_per_mode"
   ]
  },
  {
   "cell_type": "code",
   "execution_count": 122,
   "metadata": {},
   "outputs": [
    {
     "data": {
      "text/latex": [
       "$\\displaystyle \\frac{- \\operatorname{pwp}{\\left(z,g_{2},g_{3} \\right)} + \\operatorname{pwp}{\\left({\\xi}_{l},g_{2},g_{3} \\right)}}{2 \\left(- \\operatorname{pw}{\\left(z,g_{2},g_{3} \\right)} + \\operatorname{pw}{\\left({\\xi}_{l},g_{2},g_{3} \\right)}\\right)} = - \\sum_{k=0}^{2} \\operatorname{zw}{\\left({\\xi}_{k},g_{2},g_{3} \\right)} - \\frac{\\prod_{k=0}^{2} \\frac{\\sigma{\\left(z - {\\xi}_{k},g_{2},g_{3} \\right)}}{\\sigma{\\left(z,g_{2},g_{3} \\right)} \\sigma{\\left({\\xi}_{k},g_{2},g_{3} \\right)}}}{- \\operatorname{pw}{\\left(z,g_{2},g_{3} \\right)} + \\operatorname{pw}{\\left({\\xi}_{l},g_{2},g_{3} \\right)}}$"
      ],
      "text/plain": [
       "Eq((-pwp(z, g2, g3) + pwp(xi[l], g2, g3))/(2*(-pw(z, g2, g3) + pw(xi[l], g2, g3))), -Sum(zw(xi[k], g2, g3), (k, 0, 2)) - Product(sigma(z - xi[k], g2, g3)/(sigma(z, g2, g3)*sigma(xi[k], g2, g3)), (k, 0, 2))/(-pw(z, g2, g3) + pw(xi[l], g2, g3)))"
      ]
     },
     "execution_count": 122,
     "metadata": {},
     "output_type": "execute_result"
    }
   ],
   "source": [
    "eq_3_modes_quadratic_per_mode_pwp_pw_ratio = Eq(eq_3_modes_quadratic_per_mode.lhs/(-pw(z,g2,g3)+pw(xi[k],g2,g3)).subs(\n",
    "    sigma_p_identity.rhs.subs(x,xi[k]), sigma_p_identity.lhs.subs(x,xi[k])\n",
    ").subs(sigma(-z+xi[k],g2,g3),-sigma(z-xi[k],g2,g3)), \n",
    "   (eq_3_modes_quadratic_per_mode.rhs/(-pw(z,g2,g3)+pw(xi[k],g2,g3))).expand().collect(Sum(zw(xi[k],g2,g3),(k,0,2)),factor)\n",
    "  )\n",
    "eq_3_modes_quadratic_per_mode_pwp_pw_ratio = Eq(\n",
    "    eq_3_modes_quadratic_per_mode_pwp_pw_ratio.rhs - Sum(zw(xi[k],g2,g3),(k,0,2)),\n",
    "    eq_3_modes_quadratic_per_mode_pwp_pw_ratio.lhs - Sum(zw(xi[k],g2,g3),(k,0,2))\n",
    ").subs(k,l)\n",
    "eq_3_modes_quadratic_per_mode_pwp_pw_ratio"
   ]
  },
  {
   "cell_type": "code",
   "execution_count": 123,
   "metadata": {},
   "outputs": [
    {
     "data": {
      "text/latex": [
       "$\\displaystyle \\frac{\\partial}{\\partial z} \\log{\\left(\\frac{\\sigma{\\left(z + {\\xi}_{l},g_{2},g_{3} \\right)}}{\\sigma{\\left(z,g_{2},g_{3} \\right)} \\sigma{\\left({\\xi}_{l},g_{2},g_{3} \\right)}} \\right)} = \\operatorname{zw}{\\left({\\xi}_{l},g_{2},g_{3} \\right)} - \\sum_{k=0}^{2} \\operatorname{zw}{\\left({\\xi}_{k},g_{2},g_{3} \\right)} - \\frac{\\prod_{k=0}^{2} \\frac{\\sigma{\\left(z - {\\xi}_{k},g_{2},g_{3} \\right)}}{\\sigma{\\left(z,g_{2},g_{3} \\right)} \\sigma{\\left({\\xi}_{k},g_{2},g_{3} \\right)}}}{- \\operatorname{pw}{\\left(z,g_{2},g_{3} \\right)} + \\operatorname{pw}{\\left({\\xi}_{l},g_{2},g_{3} \\right)}}$"
      ],
      "text/plain": [
       "Eq(Derivative(log(sigma(z + xi[l], g2, g3)/(sigma(z, g2, g3)*sigma(xi[l], g2, g3))), z), zw(xi[l], g2, g3) - Sum(zw(xi[k], g2, g3), (k, 0, 2)) - Product(sigma(z - xi[k], g2, g3)/(sigma(z, g2, g3)*sigma(xi[k], g2, g3)), (k, 0, 2))/(-pw(z, g2, g3) + pw(xi[l], g2, g3)))"
      ]
     },
     "execution_count": 123,
     "metadata": {},
     "output_type": "execute_result"
    }
   ],
   "source": [
    "log_sig_ratio_zx_p_conj.subs(x,xi[l]).subs(*eq_3_modes_quadratic_per_mode_pwp_pw_ratio.args)"
   ]
  },
  {
   "cell_type": "code",
   "execution_count": 124,
   "metadata": {},
   "outputs": [
    {
     "data": {
      "text/latex": [
       "$\\displaystyle \\frac{\\partial}{\\partial z} \\log{\\left(\\frac{\\sigma{\\left(- z + {\\xi}_{l},g_{2},g_{3} \\right)}}{\\sigma{\\left(z,g_{2},g_{3} \\right)} \\sigma{\\left({\\xi}_{l},g_{2},g_{3} \\right)}} \\right)} = - \\operatorname{zw}{\\left({\\xi}_{l},g_{2},g_{3} \\right)} + \\sum_{k=0}^{2} \\operatorname{zw}{\\left({\\xi}_{k},g_{2},g_{3} \\right)} + \\frac{\\prod_{k=0}^{2} - \\frac{\\sigma{\\left(- z - {\\xi}_{k},g_{2},g_{3} \\right)}}{\\sigma{\\left(z,g_{2},g_{3} \\right)} \\sigma{\\left({\\xi}_{k},g_{2},g_{3} \\right)}}}{- \\operatorname{pw}{\\left(z,g_{2},g_{3} \\right)} + \\operatorname{pw}{\\left({\\xi}_{l},g_{2},g_{3} \\right)}}$"
      ],
      "text/plain": [
       "Eq(Derivative(log(sigma(-z + xi[l], g2, g3)/(sigma(z, g2, g3)*sigma(xi[l], g2, g3))), z), -zw(xi[l], g2, g3) + Sum(zw(xi[k], g2, g3), (k, 0, 2)) + Product(-sigma(-z - xi[k], g2, g3)/(sigma(z, g2, g3)*sigma(xi[k], g2, g3)), (k, 0, 2))/(-pw(z, g2, g3) + pw(xi[l], g2, g3)))"
      ]
     },
     "execution_count": 124,
     "metadata": {},
     "output_type": "execute_result"
    }
   ],
   "source": [
    "__xz_ = eq_3_modes_quadratic_per_mode_pwp_pw_ratio.subs(z,-z).subs([\n",
    "    (pwp(-z,g2,g3),-pwp(z,g2,g3)), (pw(-z,g2,g3),pw(z,g2,g3)), (sigma(-z,g2,g3),-sigma(z,g2,g3)),\n",
    "    (sigma(-z-xi[l],g2,g3),-sigma(z+xi[l],g2,g3))\n",
    "])\n",
    "Eq(log_sig_ratio_zx_p.lhs.subs(x,xi[l]), simplify(log_sig_ratio_zx_p.rhs.subs(x,xi[l]) + __xz_.lhs) - __xz_.rhs)"
   ]
  },
  {
   "cell_type": "markdown",
   "metadata": {},
   "source": [
    "#### $N=3$ case"
   ]
  },
  {
   "cell_type": "code",
   "execution_count": 125,
   "metadata": {},
   "outputs": [
    {
     "data": {
      "text/latex": [
       "$\\displaystyle \\frac{1}{\\sigma^{4}{\\left(z,g_{2},g_{3} \\right)}} = \\frac{1}{z^{4}} + \\frac{24 g_{3} z^{2}}{7} + \\frac{2 g_{2}}{5} + O\\left(z^{4}\\right)$"
      ],
      "text/plain": [
       "Eq(sigma(z, g2, g3)**(-4), z**(-4) + 24*g3*z**2/7 + 2*g2/5 + O(z**4))"
      ]
     },
     "execution_count": 125,
     "metadata": {},
     "output_type": "execute_result"
    }
   ],
   "source": [
    "one_over_sigma_z_power_N.subs(N,4).expand()"
   ]
  },
  {
   "cell_type": "code",
   "execution_count": 410,
   "metadata": {},
   "outputs": [],
   "source": [
    "# sigma_series_in_z_about_x"
   ]
  },
  {
   "cell_type": "code",
   "execution_count": 372,
   "metadata": {},
   "outputs": [
    {
     "data": {
      "text/latex": [
       "$\\displaystyle \\operatorname{pw}{\\left(z,g_{2},g_{3} \\right)} = \\frac{1}{z^{2}} + 3 z^{2} {G}_{4} + O\\left(z^{4}\\right)$"
      ],
      "text/plain": [
       "Eq(pw(z, g2, g3), z**(-2) + 3*z**2*G[4] + O(z**4))"
      ]
     },
     "execution_count": 372,
     "metadata": {},
     "output_type": "execute_result"
    }
   ],
   "source": [
    "pw_exp_n3_Nval = 1\n",
    "pw_exp_n3_Nval_eq = Eq(expansion_z_wp_N.lhs, \n",
    "                       expansion_z_wp_N.rhs.subs(N,pw_exp_n3_Nval).doit() + O(z**(2*(pw_exp_n3_Nval+1))))\n",
    "pw_exp_n3_Nval_eq"
   ]
  },
  {
   "cell_type": "code",
   "execution_count": 373,
   "metadata": {},
   "outputs": [
    {
     "data": {
      "text/latex": [
       "$\\displaystyle \\frac{\\partial}{\\partial z} \\operatorname{pw}{\\left(z,g_{2},g_{3} \\right)} = - \\frac{2}{z^{3}} + 6 z {G}_{4} + O\\left(z^{3}\\right)$"
      ],
      "text/plain": [
       "Eq(Derivative(pw(z, g2, g3), z), -2/z**3 + 6*z*G[4] + O(z**3))"
      ]
     },
     "execution_count": 373,
     "metadata": {},
     "output_type": "execute_result"
    }
   ],
   "source": [
    "pw_exp_n3_Nval_eq_diff_1 = Eq(diff(pw_exp_n3_Nval_eq.lhs,z), diff(pw_exp_n3_Nval_eq.rhs,z))\n",
    "pw_exp_n3_Nval_eq_diff_1"
   ]
  },
  {
   "cell_type": "code",
   "execution_count": 374,
   "metadata": {},
   "outputs": [
    {
     "data": {
      "text/latex": [
       "$\\displaystyle \\frac{\\partial^{2}}{\\partial z^{2}} \\operatorname{pw}{\\left(z,g_{2},g_{3} \\right)} = \\frac{6}{z^{4}} + 6 {G}_{4} + O\\left(z^{2}\\right)$"
      ],
      "text/plain": [
       "Eq(Derivative(pw(z, g2, g3), (z, 2)), 6/z**4 + 6*G[4] + O(z**2))"
      ]
     },
     "execution_count": 374,
     "metadata": {},
     "output_type": "execute_result"
    }
   ],
   "source": [
    "pw_exp_n3_Nval_eq_diff_2 = Eq(diff(pw_exp_n3_Nval_eq.lhs,(z,2)), diff(pw_exp_n3_Nval_eq.rhs,(z,2)))\n",
    "pw_exp_n3_Nval_eq_diff_2"
   ]
  },
  {
   "cell_type": "code",
   "execution_count": 431,
   "metadata": {},
   "outputs": [
    {
     "data": {
      "text/latex": [
       "$\\displaystyle {G}_{4} = \\frac{g_{2}}{60}$"
      ],
      "text/plain": [
       "Eq(G[4], g2/60)"
      ]
     },
     "execution_count": 431,
     "metadata": {},
     "output_type": "execute_result"
    }
   ],
   "source": [
    "G4_g2_60 = Eq(G[4], g2/60)\n",
    "G4_g2_60"
   ]
  },
  {
   "cell_type": "code",
   "execution_count": 460,
   "metadata": {},
   "outputs": [
    {
     "data": {
      "text/latex": [
       "$\\displaystyle \\frac{\\sigma{\\left(z - {\\xi}_{0},g_{2},g_{3} \\right)} \\sigma{\\left(z - {\\xi}_{1},g_{2},g_{3} \\right)} \\sigma{\\left(z - {\\xi}_{2},g_{2},g_{3} \\right)} \\sigma{\\left(z - {\\xi}_{3},g_{2},g_{3} \\right)}}{\\sigma^{4}{\\left(z,g_{2},g_{3} \\right)} \\sigma{\\left({\\xi}_{0},g_{2},g_{3} \\right)} \\sigma{\\left({\\xi}_{1},g_{2},g_{3} \\right)} \\sigma{\\left({\\xi}_{2},g_{2},g_{3} \\right)} \\sigma{\\left({\\xi}_{3},g_{2},g_{3} \\right)}} = \\operatorname{pw}{\\left(z,g_{2},g_{3} \\right)} {c}_{1} + \\frac{\\partial}{\\partial z} \\operatorname{pw}{\\left(z,g_{2},g_{3} \\right)} {c}_{2} + \\frac{\\partial^{2}}{\\partial z^{2}} \\operatorname{pw}{\\left(z,g_{2},g_{3} \\right)} {c}_{3} + {c}_{0}$"
      ],
      "text/plain": [
       "Eq(sigma(z - xi[0], g2, g3)*sigma(z - xi[1], g2, g3)*sigma(z - xi[2], g2, g3)*sigma(z - xi[3], g2, g3)/(sigma(z, g2, g3)**4*sigma(xi[0], g2, g3)*sigma(xi[1], g2, g3)*sigma(xi[2], g2, g3)*sigma(xi[3], g2, g3)), pw(z, g2, g3)*c[1] + Derivative(pw(z, g2, g3), z)*c[2] + Derivative(pw(z, g2, g3), (z, 2))*c[3] + c[0])"
      ]
     },
     "execution_count": 460,
     "metadata": {},
     "output_type": "execute_result"
    }
   ],
   "source": [
    "sigma_product_wp_diff_eq.subs(N,3).doit()"
   ]
  },
  {
   "cell_type": "code",
   "execution_count": 433,
   "metadata": {},
   "outputs": [
    {
     "data": {
      "text/latex": [
       "$\\displaystyle \\frac{\\sigma{\\left(z - {\\xi}_{0},g_{2},g_{3} \\right)} \\sigma{\\left(z - {\\xi}_{1},g_{2},g_{3} \\right)} \\sigma{\\left(z - {\\xi}_{2},g_{2},g_{3} \\right)} \\sigma{\\left(z - {\\xi}_{3},g_{2},g_{3} \\right)}}{\\sigma^{4}{\\left(z,g_{2},g_{3} \\right)} \\sigma{\\left({\\xi}_{0},g_{2},g_{3} \\right)} \\sigma{\\left({\\xi}_{1},g_{2},g_{3} \\right)} \\sigma{\\left({\\xi}_{2},g_{2},g_{3} \\right)} \\sigma{\\left({\\xi}_{3},g_{2},g_{3} \\right)}} = \\frac{6 {c}_{3}}{z^{4}} - \\frac{2 {c}_{2}}{z^{3}} + \\frac{{c}_{1}}{z^{2}} + {c}_{0} + \\frac{g_{2} {c}_{3}}{10} + \\frac{g_{2} z {c}_{2}}{10} + O\\left(z^{2}\\right)$"
      ],
      "text/plain": [
       "Eq(sigma(z - xi[0], g2, g3)*sigma(z - xi[1], g2, g3)*sigma(z - xi[2], g2, g3)*sigma(z - xi[3], g2, g3)/(sigma(z, g2, g3)**4*sigma(xi[0], g2, g3)*sigma(xi[1], g2, g3)*sigma(xi[2], g2, g3)*sigma(xi[3], g2, g3)), 6*c[3]/z**4 - 2*c[2]/z**3 + c[1]/z**2 + c[0] + g2*c[3]/10 + g2*z*c[2]/10 + O(z**2))"
      ]
     },
     "execution_count": 433,
     "metadata": {},
     "output_type": "execute_result"
    }
   ],
   "source": [
    "sigma_exp_z_n3_eq_rhs = (sigma_product_wp_diff_eq.subs(N,3).doit()\n",
    "                         .subs(*pw_exp_n3_Nval_eq_diff_2.args)\n",
    "                         .subs(*pw_exp_n3_Nval_eq_diff_1.args)\n",
    "                         .subs(*pw_exp_n3_Nval_eq.args)\n",
    "                         .subs(*G4_g2_60.args)\n",
    "                         .expand())\n",
    "sigma_exp_z_n3_eq_rhs"
   ]
  },
  {
   "cell_type": "code",
   "execution_count": 434,
   "metadata": {},
   "outputs": [
    {
     "data": {
      "text/latex": [
       "$\\displaystyle \\frac{1}{\\sigma^{4}{\\left(z,g_{2},g_{3} \\right)}} = \\frac{1}{z^{4}} + \\frac{24 g_{3} z^{2}}{7} + \\frac{2 g_{2}}{5} + O\\left(z^{4}\\right)$"
      ],
      "text/plain": [
       "Eq(sigma(z, g2, g3)**(-4), z**(-4) + 24*g3*z**2/7 + 2*g2/5 + O(z**4))"
      ]
     },
     "execution_count": 434,
     "metadata": {},
     "output_type": "execute_result"
    }
   ],
   "source": [
    "one_over_sig_to_3_exp = one_over_sigma_z_power_N.subs(N,4).expand()\n",
    "one_over_sig_to_3_exp"
   ]
  },
  {
   "cell_type": "code",
   "execution_count": 435,
   "metadata": {},
   "outputs": [],
   "source": [
    "# sigma_z_minus_x_4_exp"
   ]
  },
  {
   "cell_type": "code",
   "execution_count": 436,
   "metadata": {},
   "outputs": [],
   "source": [
    "sigma_z_xi_expansions_n3 = [sigma_z_minus_x_4_exp.subs(x,xi[_k]).args for _k in range(0,4)]"
   ]
  },
  {
   "cell_type": "code",
   "execution_count": 437,
   "metadata": {},
   "outputs": [],
   "source": [
    "sigma_exp_z_n3_eq_lhs = Eq(\n",
    "    sigma_product_wp_diff_eq.subs(N,3).doit().lhs,\n",
    "    sigma_product_wp_diff_eq.subs(N,3).doit().lhs\n",
    "    .subs(sigma_z_xi_expansions_n3)\n",
    "    .subs(*one_over_sig_to_3_exp.args).expand()\n",
    "  )\n",
    "# sigma_exp_z_n3_eq_lhs"
   ]
  },
  {
   "cell_type": "code",
   "execution_count": 438,
   "metadata": {},
   "outputs": [],
   "source": [
    "coeff_eq_n3_poly = Eq(sigma_exp_z_n3_eq_lhs.lhs - sigma_exp_z_n3_eq_rhs.lhs, \n",
    "   (sigma_exp_z_n3_eq_lhs.rhs - sigma_exp_z_n3_eq_rhs.rhs).collect(z))\n",
    "# coeff_eq_n3_poly"
   ]
  },
  {
   "cell_type": "code",
   "execution_count": 439,
   "metadata": {},
   "outputs": [
    {
     "data": {
      "text/latex": [
       "$\\displaystyle {c}_{3} = \\frac{1}{6}$"
      ],
      "text/plain": [
       "Eq(c[3], 1/6)"
      ]
     },
     "execution_count": 439,
     "metadata": {},
     "output_type": "execute_result"
    }
   ],
   "source": [
    "c3_val_n3 = Eq(c[3], solve(coeff_eq_n3_poly.rhs.coeff(1/z**4), c[3])[0])\n",
    "c3_val_n3"
   ]
  },
  {
   "cell_type": "code",
   "execution_count": 448,
   "metadata": {},
   "outputs": [
    {
     "name": "stdout",
     "output_type": "stream",
     "text": [
      "True\n"
     ]
    },
    {
     "data": {
      "text/latex": [
       "$\\displaystyle {c}_{2} = \\frac{\\sum_{k=0}^{3} \\operatorname{zw}{\\left({\\xi}_{k},g_{2},g_{3} \\right)}}{2}$"
      ],
      "text/plain": [
       "Eq(c[2], Sum(zw(xi[k], g2, g3), (k, 0, 3))/2)"
      ]
     },
     "execution_count": 448,
     "metadata": {},
     "output_type": "execute_result"
    }
   ],
   "source": [
    "c2_val_n3 = Eq(c[2], solve(coeff_eq_n3_poly.rhs.coeff(1/z**3), c[2])[0])\n",
    "c2_val_n3_factored = Eq(c[2], Sum(zw(xi[k],g2,g3),(k,0,3))/2)\n",
    "print(c2_val_n3_factored.rhs.doit() - c2_val_n3.rhs == 0)\n",
    "c2_val_n3_factored"
   ]
  },
  {
   "cell_type": "code",
   "execution_count": 452,
   "metadata": {
    "scrolled": true
   },
   "outputs": [
    {
     "name": "stdout",
     "output_type": "stream",
     "text": [
      "True\n"
     ]
    },
    {
     "data": {
      "text/latex": [
       "$\\displaystyle {c}_{1} = - \\frac{\\sum_{k=0}^{3} \\operatorname{pw}{\\left({\\xi}_{k},g_{2},g_{3} \\right)}}{2} + \\frac{\\left(\\sum_{k=0}^{3} \\operatorname{zw}{\\left({\\xi}_{k},g_{2},g_{3} \\right)}\\right)^{2}}{2}$"
      ],
      "text/plain": [
       "Eq(c[1], -Sum(pw(xi[k], g2, g3), (k, 0, 3))/2 + Sum(zw(xi[k], g2, g3), (k, 0, 3))**2/2)"
      ]
     },
     "execution_count": 452,
     "metadata": {},
     "output_type": "execute_result"
    }
   ],
   "source": [
    "c1_val_n3 = Eq(c[1], solve(coeff_eq_n3_poly.rhs.coeff(1/z**2), c[1])[0])\n",
    "c1_val_n3_factored = Eq(c[1], -Sum(pw(xi[k],g2,g3),(k,0,3))/2 + Sum(zw(xi[k],g2,g3),(k,0,3))**2/2)\n",
    "print((c1_val_n3_factored.rhs.doit() - c1_val_n3.rhs).expand() == 0)\n",
    "c1_val_n3_factored"
   ]
  },
  {
   "cell_type": "code",
   "execution_count": 459,
   "metadata": {
    "scrolled": false
   },
   "outputs": [
    {
     "name": "stdout",
     "output_type": "stream",
     "text": [
      "True\n"
     ]
    },
    {
     "data": {
      "text/latex": [
       "$\\displaystyle \\frac{\\left(\\sum_{k=0}^{3} \\operatorname{pw}{\\left({\\xi}_{k},g_{2},g_{3} \\right)}\\right) \\sum_{k=0}^{3} \\operatorname{zw}{\\left({\\xi}_{k},g_{2},g_{3} \\right)}}{2} + \\frac{\\sum_{k=0}^{3} \\operatorname{pwp}{\\left({\\xi}_{k},g_{2},g_{3} \\right)}}{6} - \\frac{\\left(\\sum_{k=0}^{3} \\operatorname{zw}{\\left({\\xi}_{k},g_{2},g_{3} \\right)}\\right)^{3}}{6} = 0$"
      ],
      "text/plain": [
       "Eq(Sum(pw(xi[k], g2, g3), (k, 0, 3))*Sum(zw(xi[k], g2, g3), (k, 0, 3))/2 + Sum(pwp(xi[k], g2, g3), (k, 0, 3))/6 - Sum(zw(xi[k], g2, g3), (k, 0, 3))**3/6, 0)"
      ]
     },
     "execution_count": 459,
     "metadata": {},
     "output_type": "execute_result"
    }
   ],
   "source": [
    "one_over_z_term_n3 = Eq(coeff_eq_n3_poly.rhs.coeff(1/z),0)\n",
    "one_over_z_term_n3_factored = Eq(\n",
    "    Sum(pw(xi[k],g2,g3),(k,0,3))*Sum(zw(xi[k],g2,g3),(k,0,3))/2 + \n",
    "    Sum(pwp(xi[k],g2,g3),(k,0,3))/6 - Sum(zw(xi[k],g2,g3),(k,0,3))**3/6\n",
    ")\n",
    "print((one_over_z_term_n3_factored.lhs.doit() - one_over_z_term_n3.lhs).expand() == 0)\n",
    "one_over_z_term_n3_factored"
   ]
  },
  {
   "cell_type": "code",
   "execution_count": 483,
   "metadata": {},
   "outputs": [
    {
     "name": "stdout",
     "output_type": "stream",
     "text": [
      "True\n"
     ]
    },
    {
     "data": {
      "text/latex": [
       "$\\displaystyle {c}_{0} = \\frac{7 g_{2}}{15} + \\frac{\\left(\\sum_{k=0}^{3} \\operatorname{pw}{\\left({\\xi}_{k},g_{2},g_{3} \\right)}\\right)^{2}}{8} - \\frac{\\left(\\sum_{k=0}^{3} \\operatorname{pw}{\\left({\\xi}_{k},g_{2},g_{3} \\right)}\\right) \\left(\\sum_{k=0}^{3} \\operatorname{zw}{\\left({\\xi}_{k},g_{2},g_{3} \\right)}\\right)^{2}}{4} - \\frac{\\sum_{k=0}^{3} \\operatorname{pw}^{2}{\\left({\\xi}_{k},g_{2},g_{3} \\right)}}{4} - \\frac{\\left(\\sum_{k=0}^{3} \\operatorname{pwp}{\\left({\\xi}_{k},g_{2},g_{3} \\right)}\\right) \\sum_{k=0}^{3} \\operatorname{zw}{\\left({\\xi}_{k},g_{2},g_{3} \\right)}}{6} + \\frac{\\left(\\sum_{k=0}^{3} \\operatorname{zw}{\\left({\\xi}_{k},g_{2},g_{3} \\right)}\\right)^{4}}{24}$"
      ],
      "text/plain": [
       "Eq(c[0], 7*g2/15 + Sum(pw(xi[k], g2, g3), (k, 0, 3))**2/8 - Sum(pw(xi[k], g2, g3), (k, 0, 3))*Sum(zw(xi[k], g2, g3), (k, 0, 3))**2/4 - Sum(pw(xi[k], g2, g3)**2, (k, 0, 3))/4 - Sum(pwp(xi[k], g2, g3), (k, 0, 3))*Sum(zw(xi[k], g2, g3), (k, 0, 3))/6 + Sum(zw(xi[k], g2, g3), (k, 0, 3))**4/24)"
      ]
     },
     "execution_count": 483,
     "metadata": {},
     "output_type": "execute_result"
    }
   ],
   "source": [
    "c0_val_n3 = Eq(c[0], solve(limit(coeff_eq_n3_poly.rhs.subs([\n",
    "    c3_val_n3.args, c2_val_n3.args, c1_val_n3.args, one_over_z_term_n3.args\n",
    "]),z,0), c[0])[0])\n",
    "\n",
    "c0_val_n3_factored_terms = (\n",
    "    7*g2/15\n",
    "   + (Sum(pw(xi[k],g2,g3),(k,0,3))**2)/8 \n",
    "   - Sum(pw(xi[k],g2,g3)**2,(k,0,3))/4\n",
    "   - (Sum(pw(xi[k],g2,g3),(k,0,3)) * Sum(zw(xi[k],g2,g3),(k,0,3))**2)/4\n",
    "   - (Sum(pwp(xi[k],g2,g3),(k,0,3)) * Sum(zw(xi[k],g2,g3),(k,0,3)))/6\n",
    "   + Sum(zw(xi[k],g2,g3),(k,0,3))**4/24\n",
    ")\n",
    "\n",
    "# Eq(c[0]  - c0_val_n3_factored_terms, c0_val_n3.rhs - c0_val_n3_factored_terms.doit().expand())\n",
    "c0_val_n3_factored = Eq(c[0], c0_val_n3_factored_terms)\n",
    "print(c0_val_n3.rhs - c0_val_n3_factored.rhs.doit().expand() == 0)\n",
    "c0_val_n3_factored"
   ]
  },
  {
   "cell_type": "code",
   "execution_count": 489,
   "metadata": {},
   "outputs": [
    {
     "data": {
      "text/latex": [
       "$\\displaystyle \\prod_{l=0}^{3} \\frac{\\sigma{\\left(z - {\\xi}_{l},g_{2},g_{3} \\right)}}{\\sigma{\\left(z,g_{2},g_{3} \\right)} \\sigma{\\left({\\xi}_{l},g_{2},g_{3} \\right)}} = \\frac{23 g_{2}}{60} + \\left(- \\frac{\\sum_{k=0}^{3} \\operatorname{pw}{\\left({\\xi}_{k},g_{2},g_{3} \\right)}}{2} + \\frac{\\left(\\sum_{k=0}^{3} \\operatorname{zw}{\\left({\\xi}_{k},g_{2},g_{3} \\right)}\\right)^{2}}{2}\\right) \\operatorname{pw}{\\left(z,g_{2},g_{3} \\right)} + \\operatorname{pw}^{2}{\\left(z,g_{2},g_{3} \\right)} + \\frac{\\operatorname{pwp}{\\left(z,g_{2},g_{3} \\right)} \\sum_{k=0}^{3} \\operatorname{zw}{\\left({\\xi}_{k},g_{2},g_{3} \\right)}}{2} + \\frac{\\left(\\sum_{k=0}^{3} \\operatorname{pw}{\\left({\\xi}_{k},g_{2},g_{3} \\right)}\\right)^{2}}{8} - \\frac{\\left(\\sum_{k=0}^{3} \\operatorname{pw}{\\left({\\xi}_{k},g_{2},g_{3} \\right)}\\right) \\left(\\sum_{k=0}^{3} \\operatorname{zw}{\\left({\\xi}_{k},g_{2},g_{3} \\right)}\\right)^{2}}{4} - \\frac{\\sum_{k=0}^{3} \\operatorname{pw}^{2}{\\left({\\xi}_{k},g_{2},g_{3} \\right)}}{4} - \\frac{\\left(\\sum_{k=0}^{3} \\operatorname{pwp}{\\left({\\xi}_{k},g_{2},g_{3} \\right)}\\right) \\sum_{k=0}^{3} \\operatorname{zw}{\\left({\\xi}_{k},g_{2},g_{3} \\right)}}{6} + \\frac{\\left(\\sum_{k=0}^{3} \\operatorname{zw}{\\left({\\xi}_{k},g_{2},g_{3} \\right)}\\right)^{4}}{24}$"
      ],
      "text/plain": [
       "Eq(Product(sigma(z - xi[l], g2, g3)/(sigma(z, g2, g3)*sigma(xi[l], g2, g3)), (l, 0, 3)), 23*g2/60 + (-Sum(pw(xi[k], g2, g3), (k, 0, 3))/2 + Sum(zw(xi[k], g2, g3), (k, 0, 3))**2/2)*pw(z, g2, g3) + pw(z, g2, g3)**2 + pwp(z, g2, g3)*Sum(zw(xi[k], g2, g3), (k, 0, 3))/2 + Sum(pw(xi[k], g2, g3), (k, 0, 3))**2/8 - Sum(pw(xi[k], g2, g3), (k, 0, 3))*Sum(zw(xi[k], g2, g3), (k, 0, 3))**2/4 - Sum(pw(xi[k], g2, g3)**2, (k, 0, 3))/4 - Sum(pwp(xi[k], g2, g3), (k, 0, 3))*Sum(zw(xi[k], g2, g3), (k, 0, 3))/6 + Sum(zw(xi[k], g2, g3), (k, 0, 3))**4/24)"
      ]
     },
     "execution_count": 489,
     "metadata": {},
     "output_type": "execute_result"
    }
   ],
   "source": [
    "# Comment: 23g2/60 looks a bit strange could be a typo or simply the result of one over sigma expansion\n",
    "eq_4_modes_cubic = Eq(sigma_product_wp_diff_eq.lhs.subs(N,3),\n",
    "    sigma_product_wp_diff_eq.rhs\n",
    "    .subs(N,3).doit()\n",
    "    .subs(higher_order_diffs)\n",
    "    .subs(*diff_pw_eq.args).subs([\n",
    "        c3_val_n3.args,\n",
    "        c2_val_n3_factored.args,\n",
    "        c1_val_n3_factored.args,\n",
    "        c0_val_n3_factored.args\n",
    "    ])\n",
    ")\n",
    "eq_4_modes_cubic"
   ]
  },
  {
   "cell_type": "code",
   "execution_count": 491,
   "metadata": {},
   "outputs": [
    {
     "data": {
      "text/latex": [
       "$\\displaystyle \\prod_{l=0}^{3} \\frac{\\sigma{\\left(z - {\\xi}_{l},g_{2},g_{3} \\right)}}{\\sigma{\\left(z,g_{2},g_{3} \\right)} \\sigma{\\left({\\xi}_{l},g_{2},g_{3} \\right)}} = \\left(- \\frac{\\sum_{k=0}^{3} \\operatorname{pw}{\\left({\\xi}_{k},g_{2},g_{3} \\right)}}{2} + \\frac{\\left(\\sum_{k=0}^{3} \\operatorname{zw}{\\left({\\xi}_{k},g_{2},g_{3} \\right)}\\right)^{2}}{2}\\right) \\operatorname{pw}{\\left(z,g_{2},g_{3} \\right)} - \\left(- \\frac{\\sum_{k=0}^{3} \\operatorname{pw}{\\left({\\xi}_{k},g_{2},g_{3} \\right)}}{2} + \\frac{\\left(\\sum_{k=0}^{3} \\operatorname{zw}{\\left({\\xi}_{k},g_{2},g_{3} \\right)}\\right)^{2}}{2}\\right) \\operatorname{pw}{\\left({\\xi}_{l},g_{2},g_{3} \\right)} + \\operatorname{pw}^{2}{\\left(z,g_{2},g_{3} \\right)} - \\operatorname{pw}^{2}{\\left({\\xi}_{l},g_{2},g_{3} \\right)} + \\frac{\\operatorname{pwp}{\\left(z,g_{2},g_{3} \\right)} \\sum_{k=0}^{3} \\operatorname{zw}{\\left({\\xi}_{k},g_{2},g_{3} \\right)}}{2} - \\frac{\\operatorname{pwp}{\\left({\\xi}_{l},g_{2},g_{3} \\right)} \\sum_{k=0}^{3} \\operatorname{zw}{\\left({\\xi}_{k},g_{2},g_{3} \\right)}}{2}$"
      ],
      "text/plain": [
       "Eq(Product(sigma(z - xi[l], g2, g3)/(sigma(z, g2, g3)*sigma(xi[l], g2, g3)), (l, 0, 3)), (-Sum(pw(xi[k], g2, g3), (k, 0, 3))/2 + Sum(zw(xi[k], g2, g3), (k, 0, 3))**2/2)*pw(z, g2, g3) - (-Sum(pw(xi[k], g2, g3), (k, 0, 3))/2 + Sum(zw(xi[k], g2, g3), (k, 0, 3))**2/2)*pw(xi[l], g2, g3) + pw(z, g2, g3)**2 - pw(xi[l], g2, g3)**2 + pwp(z, g2, g3)*Sum(zw(xi[k], g2, g3), (k, 0, 3))/2 - pwp(xi[l], g2, g3)*Sum(zw(xi[k], g2, g3), (k, 0, 3))/2)"
      ]
     },
     "execution_count": 491,
     "metadata": {},
     "output_type": "execute_result"
    }
   ],
   "source": [
    "eq_4_modes_cubic_per_mode = Eq(eq_4_modes_cubic.lhs, eq_4_modes_cubic.rhs - eq_4_modes_cubic.rhs.subs(z,xi[l]))\n",
    "eq_4_modes_cubic_per_mode"
   ]
  },
  {
   "cell_type": "markdown",
   "metadata": {},
   "source": [
    "## Products of Sigma Ratios as Polynomials in Weierstrass P and Weierstrass P Prime"
   ]
  },
  {
   "cell_type": "markdown",
   "metadata": {},
   "source": [
    "The higher order derivatives of the Weierstrass P function can be written as polynomials in the Weierstrass P function for even order derivatives and polynomials in the Weierstrass P function multiplied by Weierstrass P Prime for odd order derivatives. It follows that:"
   ]
  },
  {
   "cell_type": "code",
   "execution_count": 127,
   "metadata": {},
   "outputs": [
    {
     "data": {
      "text/latex": [
       "$\\displaystyle \\left(-1\\right)^{1 - N} \\prod_{l=0}^{N} \\frac{\\sigma{\\left(z - {\\xi}_{l},g_{2},g_{3} \\right)}}{\\sigma{\\left(z,g_{2},g_{3} \\right)} \\sigma{\\left({\\xi}_{l},g_{2},g_{3} \\right)}} = P{\\left(N,\\operatorname{pw}{\\left(z,g_{2},g_{3} \\right)} \\right)} + Q{\\left(N,\\operatorname{pw}{\\left(z,g_{2},g_{3} \\right)} \\right)} \\operatorname{pwp}{\\left(z,g_{2},g_{3} \\right)}$"
      ],
      "text/plain": [
       "Eq((-1)**(1 - N)*Product(sigma(z - xi[l], g2, g3)/(sigma(z, g2, g3)*sigma(xi[l], g2, g3)), (l, 0, N)), P(N, pw(z, g2, g3)) + Q(N, pw(z, g2, g3))*pwp(z, g2, g3))"
      ]
     },
     "execution_count": 127,
     "metadata": {},
     "output_type": "execute_result"
    }
   ],
   "source": [
    "P_Q_sigma_product_plus = Eq(sigma_product_wp_diff_eq.lhs, P(N, pw(z,g2,g3)) + Q(N, pw(z,g2,g3))*pwp(z,g2,g3))\n",
    "P_Q_sigma_product_plus"
   ]
  },
  {
   "cell_type": "code",
   "execution_count": 128,
   "metadata": {},
   "outputs": [
    {
     "data": {
      "text/latex": [
       "$\\displaystyle \\left(-1\\right)^{N + 1} \\prod_{l=0}^{N} \\frac{\\sigma{\\left(z + {\\xi}_{l},g_{2},g_{3} \\right)}}{\\sigma{\\left(z,g_{2},g_{3} \\right)} \\sigma{\\left({\\xi}_{l},g_{2},g_{3} \\right)}} = P{\\left(N,\\operatorname{pw}{\\left(z,g_{2},g_{3} \\right)} \\right)} - Q{\\left(N,\\operatorname{pw}{\\left(z,g_{2},g_{3} \\right)} \\right)} \\operatorname{pwp}{\\left(z,g_{2},g_{3} \\right)}$"
      ],
      "text/plain": [
       "Eq((-1)**(N + 1)*Product(sigma(z + xi[l], g2, g3)/(sigma(z, g2, g3)*sigma(xi[l], g2, g3)), (l, 0, N)), P(N, pw(z, g2, g3)) - Q(N, pw(z, g2, g3))*pwp(z, g2, g3))"
      ]
     },
     "execution_count": 128,
     "metadata": {},
     "output_type": "execute_result"
    }
   ],
   "source": [
    "P_Q_sigma_product_minus = Eq(sigma_product_wp_diff_eq_minus.lhs, P(N, pw(z,g2,g3)) - Q(N, pw(z,g2,g3))*pwp(z,g2,g3))\n",
    "P_Q_sigma_product_minus"
   ]
  },
  {
   "cell_type": "code",
   "execution_count": 129,
   "metadata": {},
   "outputs": [
    {
     "data": {
      "text/latex": [
       "$\\displaystyle \\left(-1\\right)^{1 - N} \\prod_{l=0}^{N} \\frac{\\sigma{\\left(z - {\\xi}_{l},g_{2},g_{3} \\right)}}{\\sigma{\\left(z,g_{2},g_{3} \\right)} \\sigma{\\left({\\xi}_{l},g_{2},g_{3} \\right)}} + \\left(-1\\right)^{N + 1} \\prod_{l=0}^{N} \\frac{\\sigma{\\left(z + {\\xi}_{l},g_{2},g_{3} \\right)}}{\\sigma{\\left(z,g_{2},g_{3} \\right)} \\sigma{\\left({\\xi}_{l},g_{2},g_{3} \\right)}} = 2 P{\\left(N,\\operatorname{pw}{\\left(z,g_{2},g_{3} \\right)} \\right)}$"
      ],
      "text/plain": [
       "Eq((-1)**(1 - N)*Product(sigma(z - xi[l], g2, g3)/(sigma(z, g2, g3)*sigma(xi[l], g2, g3)), (l, 0, N)) + (-1)**(N + 1)*Product(sigma(z + xi[l], g2, g3)/(sigma(z, g2, g3)*sigma(xi[l], g2, g3)), (l, 0, N)), 2*P(N, pw(z, g2, g3)))"
      ]
     },
     "execution_count": 129,
     "metadata": {},
     "output_type": "execute_result"
    }
   ],
   "source": [
    "P_sigma_product_pwp = Eq(\n",
    "    P_Q_sigma_product_plus.lhs + P_Q_sigma_product_minus.lhs, P_Q_sigma_product_plus.rhs + P_Q_sigma_product_minus.rhs,\n",
    ")\n",
    "P_sigma_product_pwp"
   ]
  },
  {
   "cell_type": "code",
   "execution_count": 130,
   "metadata": {},
   "outputs": [
    {
     "data": {
      "text/latex": [
       "$\\displaystyle \\left(-1\\right)^{1 - N} \\prod_{l=0}^{N} \\frac{\\sigma{\\left(z - {\\xi}_{l},g_{2},g_{3} \\right)}}{\\sigma{\\left(z,g_{2},g_{3} \\right)} \\sigma{\\left({\\xi}_{l},g_{2},g_{3} \\right)}} - \\left(-1\\right)^{N + 1} \\prod_{l=0}^{N} \\frac{\\sigma{\\left(z + {\\xi}_{l},g_{2},g_{3} \\right)}}{\\sigma{\\left(z,g_{2},g_{3} \\right)} \\sigma{\\left({\\xi}_{l},g_{2},g_{3} \\right)}} = 2 Q{\\left(N,\\operatorname{pw}{\\left(z,g_{2},g_{3} \\right)} \\right)} \\operatorname{pwp}{\\left(z,g_{2},g_{3} \\right)}$"
      ],
      "text/plain": [
       "Eq((-1)**(1 - N)*Product(sigma(z - xi[l], g2, g3)/(sigma(z, g2, g3)*sigma(xi[l], g2, g3)), (l, 0, N)) - (-1)**(N + 1)*Product(sigma(z + xi[l], g2, g3)/(sigma(z, g2, g3)*sigma(xi[l], g2, g3)), (l, 0, N)), 2*Q(N, pw(z, g2, g3))*pwp(z, g2, g3))"
      ]
     },
     "execution_count": 130,
     "metadata": {},
     "output_type": "execute_result"
    }
   ],
   "source": [
    "Q_sigma_product_pwp = Eq(\n",
    "    P_Q_sigma_product_plus.lhs - P_Q_sigma_product_minus.lhs, P_Q_sigma_product_plus.rhs - P_Q_sigma_product_minus.rhs,\n",
    ")\n",
    "Q_sigma_product_pwp"
   ]
  },
  {
   "cell_type": "markdown",
   "metadata": {},
   "source": [
    "The polynomials $P\\left(N, x\\right)$ and $Q\\left(N, x\\right)$ are functions of $N$, but not neccessarily of order $N$, and are explicitly defined as:"
   ]
  },
  {
   "cell_type": "code",
   "execution_count": 131,
   "metadata": {},
   "outputs": [
    {
     "data": {
      "text/latex": [
       "$\\displaystyle P{\\left(N,\\operatorname{pw}{\\left(z,g_{2},g_{3} \\right)} \\right)} = {c}_{0} + \\sum_{j=0}^{\\left\\lfloor{\\frac{N}{2} - \\frac{1}{2}}\\right\\rfloor} \\frac{\\partial^{2 j}}{\\partial z^{2 j}} \\operatorname{pw}{\\left(z,g_{2},g_{3} \\right)} {c}_{2 j + 1}$"
      ],
      "text/plain": [
       "Eq(P(N, pw(z, g2, g3)), c[0] + Sum(Derivative(pw(z, g2, g3), (z, 2*j))*c[2*j + 1], (j, 0, floor(N/2 - 1/2))))"
      ]
     },
     "execution_count": 131,
     "metadata": {},
     "output_type": "execute_result"
    }
   ],
   "source": [
    "PN_eq = Eq(P(N, pw(z,g2,g3)), c[0] + Sum(c[2*j+1]*Derivative(pw(z,g2,g3),(z,2*j)),(j,0,floor((N-1)/2))))\n",
    "PN_eq"
   ]
  },
  {
   "cell_type": "code",
   "execution_count": 132,
   "metadata": {
    "scrolled": true
   },
   "outputs": [
    {
     "data": {
      "text/latex": [
       "$\\displaystyle Q{\\left(N,\\operatorname{pw}{\\left(z,g_{2},g_{3} \\right)} \\right)} = \\frac{\\sum_{j=1}^{\\left\\lfloor{\\frac{N}{2}}\\right\\rfloor} \\frac{\\partial^{2 j - 1}}{\\partial z^{2 j - 1}} \\operatorname{pw}{\\left(z,g_{2},g_{3} \\right)} {c}_{2 j}}{\\operatorname{pwp}{\\left(z,g_{2},g_{3} \\right)}}$"
      ],
      "text/plain": [
       "Eq(Q(N, pw(z, g2, g3)), Sum(Derivative(pw(z, g2, g3), (z, 2*j - 1))*c[2*j], (j, 1, floor(N/2)))/pwp(z, g2, g3))"
      ]
     },
     "execution_count": 132,
     "metadata": {},
     "output_type": "execute_result"
    }
   ],
   "source": [
    "QN_eq = Eq(Q(N, pw(z,g2,g3)), Sum(c[2*j]*Derivative(pw(z,g2,g3),(z,2*j-1)),(j,1,floor(N/2)))/pwp(z,g2,g3))\n",
    "QN_eq"
   ]
  },
  {
   "cell_type": "code",
   "execution_count": 133,
   "metadata": {},
   "outputs": [
    {
     "data": {
      "text/plain": [
       "[True, True, True, True, True, True, True]"
      ]
     },
     "execution_count": 133,
     "metadata": {},
     "output_type": "execute_result"
    }
   ],
   "source": [
    "[(sigma_product_wp_diff_eq.rhs - PN_eq.rhs - QN_eq.rhs*pwp(z,g2,g3)).subs(N,_i).doit() == 0 for _i in range(7)]"
   ]
  },
  {
   "cell_type": "markdown",
   "metadata": {},
   "source": [
    "#### Some low order $P$"
   ]
  },
  {
   "cell_type": "code",
   "execution_count": 134,
   "metadata": {},
   "outputs": [
    {
     "data": {
      "text/latex": [
       "$\\displaystyle P{\\left(0,\\operatorname{pw}{\\left(z,g_{2},g_{3} \\right)} \\right)} = {c}_{0}$"
      ],
      "text/plain": [
       "Eq(P(0, pw(z, g2, g3)), c[0])"
      ]
     },
     "execution_count": 134,
     "metadata": {},
     "output_type": "execute_result"
    },
    {
     "data": {
      "text/latex": [
       "$\\displaystyle P{\\left(1,\\operatorname{pw}{\\left(z,g_{2},g_{3} \\right)} \\right)} = \\operatorname{pw}{\\left(z,g_{2},g_{3} \\right)} {c}_{1} + {c}_{0}$"
      ],
      "text/plain": [
       "Eq(P(1, pw(z, g2, g3)), pw(z, g2, g3)*c[1] + c[0])"
      ]
     },
     "execution_count": 134,
     "metadata": {},
     "output_type": "execute_result"
    },
    {
     "data": {
      "text/latex": [
       "$\\displaystyle P{\\left(2,\\operatorname{pw}{\\left(z,g_{2},g_{3} \\right)} \\right)} = \\operatorname{pw}{\\left(z,g_{2},g_{3} \\right)} {c}_{1} + {c}_{0}$"
      ],
      "text/plain": [
       "Eq(P(2, pw(z, g2, g3)), pw(z, g2, g3)*c[1] + c[0])"
      ]
     },
     "execution_count": 134,
     "metadata": {},
     "output_type": "execute_result"
    },
    {
     "data": {
      "text/latex": [
       "$\\displaystyle P{\\left(3,\\operatorname{pw}{\\left(z,g_{2},g_{3} \\right)} \\right)} = \\operatorname{pw}{\\left(z,g_{2},g_{3} \\right)} {c}_{1} + \\frac{\\partial^{2}}{\\partial z^{2}} \\operatorname{pw}{\\left(z,g_{2},g_{3} \\right)} {c}_{3} + {c}_{0}$"
      ],
      "text/plain": [
       "Eq(P(3, pw(z, g2, g3)), pw(z, g2, g3)*c[1] + Derivative(pw(z, g2, g3), (z, 2))*c[3] + c[0])"
      ]
     },
     "execution_count": 134,
     "metadata": {},
     "output_type": "execute_result"
    },
    {
     "data": {
      "text/latex": [
       "$\\displaystyle P{\\left(4,\\operatorname{pw}{\\left(z,g_{2},g_{3} \\right)} \\right)} = \\operatorname{pw}{\\left(z,g_{2},g_{3} \\right)} {c}_{1} + \\frac{\\partial^{2}}{\\partial z^{2}} \\operatorname{pw}{\\left(z,g_{2},g_{3} \\right)} {c}_{3} + {c}_{0}$"
      ],
      "text/plain": [
       "Eq(P(4, pw(z, g2, g3)), pw(z, g2, g3)*c[1] + Derivative(pw(z, g2, g3), (z, 2))*c[3] + c[0])"
      ]
     },
     "execution_count": 134,
     "metadata": {},
     "output_type": "execute_result"
    },
    {
     "data": {
      "text/latex": [
       "$\\displaystyle P{\\left(5,\\operatorname{pw}{\\left(z,g_{2},g_{3} \\right)} \\right)} = \\operatorname{pw}{\\left(z,g_{2},g_{3} \\right)} {c}_{1} + \\frac{\\partial^{2}}{\\partial z^{2}} \\operatorname{pw}{\\left(z,g_{2},g_{3} \\right)} {c}_{3} + \\frac{\\partial^{4}}{\\partial z^{4}} \\operatorname{pw}{\\left(z,g_{2},g_{3} \\right)} {c}_{5} + {c}_{0}$"
      ],
      "text/plain": [
       "Eq(P(5, pw(z, g2, g3)), pw(z, g2, g3)*c[1] + Derivative(pw(z, g2, g3), (z, 2))*c[3] + Derivative(pw(z, g2, g3), (z, 4))*c[5] + c[0])"
      ]
     },
     "execution_count": 134,
     "metadata": {},
     "output_type": "execute_result"
    },
    {
     "data": {
      "text/latex": [
       "$\\displaystyle P{\\left(6,\\operatorname{pw}{\\left(z,g_{2},g_{3} \\right)} \\right)} = \\operatorname{pw}{\\left(z,g_{2},g_{3} \\right)} {c}_{1} + \\frac{\\partial^{2}}{\\partial z^{2}} \\operatorname{pw}{\\left(z,g_{2},g_{3} \\right)} {c}_{3} + \\frac{\\partial^{4}}{\\partial z^{4}} \\operatorname{pw}{\\left(z,g_{2},g_{3} \\right)} {c}_{5} + {c}_{0}$"
      ],
      "text/plain": [
       "Eq(P(6, pw(z, g2, g3)), pw(z, g2, g3)*c[1] + Derivative(pw(z, g2, g3), (z, 2))*c[3] + Derivative(pw(z, g2, g3), (z, 4))*c[5] + c[0])"
      ]
     },
     "execution_count": 134,
     "metadata": {},
     "output_type": "execute_result"
    },
    {
     "data": {
      "text/latex": [
       "$\\displaystyle P{\\left(7,\\operatorname{pw}{\\left(z,g_{2},g_{3} \\right)} \\right)} = \\operatorname{pw}{\\left(z,g_{2},g_{3} \\right)} {c}_{1} + \\frac{\\partial^{2}}{\\partial z^{2}} \\operatorname{pw}{\\left(z,g_{2},g_{3} \\right)} {c}_{3} + \\frac{\\partial^{4}}{\\partial z^{4}} \\operatorname{pw}{\\left(z,g_{2},g_{3} \\right)} {c}_{5} + \\frac{\\partial^{6}}{\\partial z^{6}} \\operatorname{pw}{\\left(z,g_{2},g_{3} \\right)} {c}_{7} + {c}_{0}$"
      ],
      "text/plain": [
       "Eq(P(7, pw(z, g2, g3)), pw(z, g2, g3)*c[1] + Derivative(pw(z, g2, g3), (z, 2))*c[3] + Derivative(pw(z, g2, g3), (z, 4))*c[5] + Derivative(pw(z, g2, g3), (z, 6))*c[7] + c[0])"
      ]
     },
     "execution_count": 134,
     "metadata": {},
     "output_type": "execute_result"
    },
    {
     "data": {
      "text/latex": [
       "$\\displaystyle P{\\left(8,\\operatorname{pw}{\\left(z,g_{2},g_{3} \\right)} \\right)} = \\operatorname{pw}{\\left(z,g_{2},g_{3} \\right)} {c}_{1} + \\frac{\\partial^{2}}{\\partial z^{2}} \\operatorname{pw}{\\left(z,g_{2},g_{3} \\right)} {c}_{3} + \\frac{\\partial^{4}}{\\partial z^{4}} \\operatorname{pw}{\\left(z,g_{2},g_{3} \\right)} {c}_{5} + \\frac{\\partial^{6}}{\\partial z^{6}} \\operatorname{pw}{\\left(z,g_{2},g_{3} \\right)} {c}_{7} + {c}_{0}$"
      ],
      "text/plain": [
       "Eq(P(8, pw(z, g2, g3)), pw(z, g2, g3)*c[1] + Derivative(pw(z, g2, g3), (z, 2))*c[3] + Derivative(pw(z, g2, g3), (z, 4))*c[5] + Derivative(pw(z, g2, g3), (z, 6))*c[7] + c[0])"
      ]
     },
     "execution_count": 134,
     "metadata": {},
     "output_type": "execute_result"
    },
    {
     "data": {
      "text/latex": [
       "$\\displaystyle P{\\left(9,\\operatorname{pw}{\\left(z,g_{2},g_{3} \\right)} \\right)} = \\operatorname{pw}{\\left(z,g_{2},g_{3} \\right)} {c}_{1} + \\frac{\\partial^{2}}{\\partial z^{2}} \\operatorname{pw}{\\left(z,g_{2},g_{3} \\right)} {c}_{3} + \\frac{\\partial^{4}}{\\partial z^{4}} \\operatorname{pw}{\\left(z,g_{2},g_{3} \\right)} {c}_{5} + \\frac{\\partial^{6}}{\\partial z^{6}} \\operatorname{pw}{\\left(z,g_{2},g_{3} \\right)} {c}_{7} + \\frac{\\partial^{8}}{\\partial z^{8}} \\operatorname{pw}{\\left(z,g_{2},g_{3} \\right)} {c}_{9} + {c}_{0}$"
      ],
      "text/plain": [
       "Eq(P(9, pw(z, g2, g3)), pw(z, g2, g3)*c[1] + Derivative(pw(z, g2, g3), (z, 2))*c[3] + Derivative(pw(z, g2, g3), (z, 4))*c[5] + Derivative(pw(z, g2, g3), (z, 6))*c[7] + Derivative(pw(z, g2, g3), (z, 8))*c[9] + c[0])"
      ]
     },
     "execution_count": 134,
     "metadata": {},
     "output_type": "execute_result"
    }
   ],
   "source": [
    "for _i in range(10):\n",
    "    PN_eq.subs(N,_i).doit().expand()"
   ]
  },
  {
   "cell_type": "code",
   "execution_count": 135,
   "metadata": {},
   "outputs": [
    {
     "data": {
      "text/latex": [
       "$\\displaystyle {c}_{0} = P{\\left(0,\\operatorname{pw}{\\left(z,g_{2},g_{3} \\right)} \\right)}$"
      ],
      "text/plain": [
       "Eq(c[0], P(0, pw(z, g2, g3)))"
      ]
     },
     "execution_count": 135,
     "metadata": {},
     "output_type": "execute_result"
    },
    {
     "data": {
      "text/latex": [
       "$\\displaystyle P{\\left(1,\\operatorname{pw}{\\left(z,g_{2},g_{3} \\right)} \\right)} = \\operatorname{pw}{\\left(z,g_{2},g_{3} \\right)} {c}_{1} + {c}_{0}$"
      ],
      "text/plain": [
       "Eq(P(1, pw(z, g2, g3)), pw(z, g2, g3)*c[1] + c[0])"
      ]
     },
     "execution_count": 135,
     "metadata": {},
     "output_type": "execute_result"
    },
    {
     "data": {
      "text/latex": [
       "$\\displaystyle P{\\left(2,\\operatorname{pw}{\\left(z,g_{2},g_{3} \\right)} \\right)} = \\operatorname{pw}{\\left(z,g_{2},g_{3} \\right)} {c}_{1} + {c}_{0}$"
      ],
      "text/plain": [
       "Eq(P(2, pw(z, g2, g3)), pw(z, g2, g3)*c[1] + c[0])"
      ]
     },
     "execution_count": 135,
     "metadata": {},
     "output_type": "execute_result"
    },
    {
     "data": {
      "text/latex": [
       "$\\displaystyle P{\\left(3,\\operatorname{pw}{\\left(z,g_{2},g_{3} \\right)} \\right)} = - \\frac{g_{2} {c}_{3}}{2} + 6 \\operatorname{pw}^{2}{\\left(z,g_{2},g_{3} \\right)} {c}_{3} + \\operatorname{pw}{\\left(z,g_{2},g_{3} \\right)} {c}_{1} + {c}_{0}$"
      ],
      "text/plain": [
       "Eq(P(3, pw(z, g2, g3)), -g2*c[3]/2 + 6*pw(z, g2, g3)**2*c[3] + pw(z, g2, g3)*c[1] + c[0])"
      ]
     },
     "execution_count": 135,
     "metadata": {},
     "output_type": "execute_result"
    },
    {
     "data": {
      "text/latex": [
       "$\\displaystyle P{\\left(4,\\operatorname{pw}{\\left(z,g_{2},g_{3} \\right)} \\right)} = - \\frac{g_{2} {c}_{3}}{2} + 6 \\operatorname{pw}^{2}{\\left(z,g_{2},g_{3} \\right)} {c}_{3} + \\operatorname{pw}{\\left(z,g_{2},g_{3} \\right)} {c}_{1} + {c}_{0}$"
      ],
      "text/plain": [
       "Eq(P(4, pw(z, g2, g3)), -g2*c[3]/2 + 6*pw(z, g2, g3)**2*c[3] + pw(z, g2, g3)*c[1] + c[0])"
      ]
     },
     "execution_count": 135,
     "metadata": {},
     "output_type": "execute_result"
    },
    {
     "data": {
      "text/latex": [
       "$\\displaystyle P{\\left(5,\\operatorname{pw}{\\left(z,g_{2},g_{3} \\right)} \\right)} = - \\frac{g_{2} {c}_{3}}{2} - 12 g_{3} {c}_{5} + \\left(- 18 g_{2} {c}_{5} + {c}_{1}\\right) \\operatorname{pw}{\\left(z,g_{2},g_{3} \\right)} + 120 \\operatorname{pw}^{3}{\\left(z,g_{2},g_{3} \\right)} {c}_{5} + 6 \\operatorname{pw}^{2}{\\left(z,g_{2},g_{3} \\right)} {c}_{3} + {c}_{0}$"
      ],
      "text/plain": [
       "Eq(P(5, pw(z, g2, g3)), -g2*c[3]/2 - 12*g3*c[5] + (-18*g2*c[5] + c[1])*pw(z, g2, g3) + 120*pw(z, g2, g3)**3*c[5] + 6*pw(z, g2, g3)**2*c[3] + c[0])"
      ]
     },
     "execution_count": 135,
     "metadata": {},
     "output_type": "execute_result"
    },
    {
     "data": {
      "text/latex": [
       "$\\displaystyle P{\\left(6,\\operatorname{pw}{\\left(z,g_{2},g_{3} \\right)} \\right)} = - \\frac{g_{2} {c}_{3}}{2} - 12 g_{3} {c}_{5} + \\left(- 18 g_{2} {c}_{5} + {c}_{1}\\right) \\operatorname{pw}{\\left(z,g_{2},g_{3} \\right)} + 120 \\operatorname{pw}^{3}{\\left(z,g_{2},g_{3} \\right)} {c}_{5} + 6 \\operatorname{pw}^{2}{\\left(z,g_{2},g_{3} \\right)} {c}_{3} + {c}_{0}$"
      ],
      "text/plain": [
       "Eq(P(6, pw(z, g2, g3)), -g2*c[3]/2 - 12*g3*c[5] + (-18*g2*c[5] + c[1])*pw(z, g2, g3) + 120*pw(z, g2, g3)**3*c[5] + 6*pw(z, g2, g3)**2*c[3] + c[0])"
      ]
     },
     "execution_count": 135,
     "metadata": {},
     "output_type": "execute_result"
    },
    {
     "data": {
      "text/latex": [
       "$\\displaystyle P{\\left(7,\\operatorname{pw}{\\left(z,g_{2},g_{3} \\right)} \\right)} = 9 g_{2}^{2} {c}_{7} - \\frac{g_{2} {c}_{3}}{2} - 12 g_{3} {c}_{5} + \\left(- 1008 g_{2} {c}_{7} + 6 {c}_{3}\\right) \\operatorname{pw}^{2}{\\left(z,g_{2},g_{3} \\right)} + \\left(- 18 g_{2} {c}_{5} - 720 g_{3} {c}_{7} + {c}_{1}\\right) \\operatorname{pw}{\\left(z,g_{2},g_{3} \\right)} + 5040 \\operatorname{pw}^{4}{\\left(z,g_{2},g_{3} \\right)} {c}_{7} + 120 \\operatorname{pw}^{3}{\\left(z,g_{2},g_{3} \\right)} {c}_{5} + {c}_{0}$"
      ],
      "text/plain": [
       "Eq(P(7, pw(z, g2, g3)), 9*g2**2*c[7] - g2*c[3]/2 - 12*g3*c[5] + (-1008*g2*c[7] + 6*c[3])*pw(z, g2, g3)**2 + (-18*g2*c[5] - 720*g3*c[7] + c[1])*pw(z, g2, g3) + 5040*pw(z, g2, g3)**4*c[7] + 120*pw(z, g2, g3)**3*c[5] + c[0])"
      ]
     },
     "execution_count": 135,
     "metadata": {},
     "output_type": "execute_result"
    },
    {
     "data": {
      "text/latex": [
       "$\\displaystyle P{\\left(8,\\operatorname{pw}{\\left(z,g_{2},g_{3} \\right)} \\right)} = 9 g_{2}^{2} {c}_{7} - \\frac{g_{2} {c}_{3}}{2} - 12 g_{3} {c}_{5} + \\left(- 1008 g_{2} {c}_{7} + 6 {c}_{3}\\right) \\operatorname{pw}^{2}{\\left(z,g_{2},g_{3} \\right)} + \\left(- 18 g_{2} {c}_{5} - 720 g_{3} {c}_{7} + {c}_{1}\\right) \\operatorname{pw}{\\left(z,g_{2},g_{3} \\right)} + 5040 \\operatorname{pw}^{4}{\\left(z,g_{2},g_{3} \\right)} {c}_{7} + 120 \\operatorname{pw}^{3}{\\left(z,g_{2},g_{3} \\right)} {c}_{5} + {c}_{0}$"
      ],
      "text/plain": [
       "Eq(P(8, pw(z, g2, g3)), 9*g2**2*c[7] - g2*c[3]/2 - 12*g3*c[5] + (-1008*g2*c[7] + 6*c[3])*pw(z, g2, g3)**2 + (-18*g2*c[5] - 720*g3*c[7] + c[1])*pw(z, g2, g3) + 5040*pw(z, g2, g3)**4*c[7] + 120*pw(z, g2, g3)**3*c[5] + c[0])"
      ]
     },
     "execution_count": 135,
     "metadata": {},
     "output_type": "execute_result"
    },
    {
     "data": {
      "text/latex": [
       "$\\displaystyle P{\\left(9,\\operatorname{pw}{\\left(z,g_{2},g_{3} \\right)} \\right)} = 9 g_{2}^{2} {c}_{7} + 2376 g_{2} g_{3} {c}_{9} - \\frac{g_{2} {c}_{3}}{2} - 12 g_{3} {c}_{5} + \\left(- 90720 g_{2} {c}_{9} + 120 {c}_{5}\\right) \\operatorname{pw}^{3}{\\left(z,g_{2},g_{3} \\right)} + \\left(- 1008 g_{2} {c}_{7} - 64800 g_{3} {c}_{9} + 6 {c}_{3}\\right) \\operatorname{pw}^{2}{\\left(z,g_{2},g_{3} \\right)} + \\left(3024 g_{2}^{2} {c}_{9} - 18 g_{2} {c}_{5} - 720 g_{3} {c}_{7} + {c}_{1}\\right) \\operatorname{pw}{\\left(z,g_{2},g_{3} \\right)} + 362880 \\operatorname{pw}^{5}{\\left(z,g_{2},g_{3} \\right)} {c}_{9} + 5040 \\operatorname{pw}^{4}{\\left(z,g_{2},g_{3} \\right)} {c}_{7} + {c}_{0}$"
      ],
      "text/plain": [
       "Eq(P(9, pw(z, g2, g3)), 9*g2**2*c[7] + 2376*g2*g3*c[9] - g2*c[3]/2 - 12*g3*c[5] + (-90720*g2*c[9] + 120*c[5])*pw(z, g2, g3)**3 + (-1008*g2*c[7] - 64800*g3*c[9] + 6*c[3])*pw(z, g2, g3)**2 + (3024*g2**2*c[9] - 18*g2*c[5] - 720*g3*c[7] + c[1])*pw(z, g2, g3) + 362880*pw(z, g2, g3)**5*c[9] + 5040*pw(z, g2, g3)**4*c[7] + c[0])"
      ]
     },
     "execution_count": 135,
     "metadata": {},
     "output_type": "execute_result"
    },
    {
     "data": {
      "text/latex": [
       "$\\displaystyle P{\\left(10,\\operatorname{pw}{\\left(z,g_{2},g_{3} \\right)} \\right)} = 9 g_{2}^{2} {c}_{7} + 2376 g_{2} g_{3} {c}_{9} - \\frac{g_{2} {c}_{3}}{2} - 12 g_{3} {c}_{5} + \\left(- 90720 g_{2} {c}_{9} + 120 {c}_{5}\\right) \\operatorname{pw}^{3}{\\left(z,g_{2},g_{3} \\right)} + \\left(- 1008 g_{2} {c}_{7} - 64800 g_{3} {c}_{9} + 6 {c}_{3}\\right) \\operatorname{pw}^{2}{\\left(z,g_{2},g_{3} \\right)} + \\left(3024 g_{2}^{2} {c}_{9} - 18 g_{2} {c}_{5} - 720 g_{3} {c}_{7} + {c}_{1}\\right) \\operatorname{pw}{\\left(z,g_{2},g_{3} \\right)} + 362880 \\operatorname{pw}^{5}{\\left(z,g_{2},g_{3} \\right)} {c}_{9} + 5040 \\operatorname{pw}^{4}{\\left(z,g_{2},g_{3} \\right)} {c}_{7} + {c}_{0}$"
      ],
      "text/plain": [
       "Eq(P(10, pw(z, g2, g3)), 9*g2**2*c[7] + 2376*g2*g3*c[9] - g2*c[3]/2 - 12*g3*c[5] + (-90720*g2*c[9] + 120*c[5])*pw(z, g2, g3)**3 + (-1008*g2*c[7] - 64800*g3*c[9] + 6*c[3])*pw(z, g2, g3)**2 + (3024*g2**2*c[9] - 18*g2*c[5] - 720*g3*c[7] + c[1])*pw(z, g2, g3) + 362880*pw(z, g2, g3)**5*c[9] + 5040*pw(z, g2, g3)**4*c[7] + c[0])"
      ]
     },
     "execution_count": 135,
     "metadata": {},
     "output_type": "execute_result"
    },
    {
     "data": {
      "text/latex": [
       "$\\displaystyle P{\\left(11,\\operatorname{pw}{\\left(z,g_{2},g_{3} \\right)} \\right)} = - 1512 g_{2}^{3} {c}_{11} + 9 g_{2}^{2} {c}_{7} + 2376 g_{2} g_{3} {c}_{9} - \\frac{g_{2} {c}_{3}}{2} + 129600 g_{3}^{2} {c}_{11} - 12 g_{3} {c}_{5} + \\left(- 11975040 g_{2} {c}_{11} + 5040 {c}_{7}\\right) \\operatorname{pw}^{4}{\\left(z,g_{2},g_{3} \\right)} + \\left(- 90720 g_{2} {c}_{9} - 8553600 g_{3} {c}_{11} + 120 {c}_{5}\\right) \\operatorname{pw}^{3}{\\left(z,g_{2},g_{3} \\right)} + \\left(698544 g_{2}^{2} {c}_{11} - 1008 g_{2} {c}_{7} - 64800 g_{3} {c}_{9} + 6 {c}_{3}\\right) \\operatorname{pw}^{2}{\\left(z,g_{2},g_{3} \\right)} + \\left(3024 g_{2}^{2} {c}_{9} + 738720 g_{2} g_{3} {c}_{11} - 18 g_{2} {c}_{5} - 720 g_{3} {c}_{7} + {c}_{1}\\right) \\operatorname{pw}{\\left(z,g_{2},g_{3} \\right)} + 39916800 \\operatorname{pw}^{6}{\\left(z,g_{2},g_{3} \\right)} {c}_{11} + 362880 \\operatorname{pw}^{5}{\\left(z,g_{2},g_{3} \\right)} {c}_{9} + {c}_{0}$"
      ],
      "text/plain": [
       "Eq(P(11, pw(z, g2, g3)), -1512*g2**3*c[11] + 9*g2**2*c[7] + 2376*g2*g3*c[9] - g2*c[3]/2 + 129600*g3**2*c[11] - 12*g3*c[5] + (-11975040*g2*c[11] + 5040*c[7])*pw(z, g2, g3)**4 + (-90720*g2*c[9] - 8553600*g3*c[11] + 120*c[5])*pw(z, g2, g3)**3 + (698544*g2**2*c[11] - 1008*g2*c[7] - 64800*g3*c[9] + 6*c[3])*pw(z, g2, g3)**2 + (3024*g2**2*c[9] + 738720*g2*g3*c[11] - 18*g2*c[5] - 720*g3*c[7] + c[1])*pw(z, g2, g3) + 39916800*pw(z, g2, g3)**6*c[11] + 362880*pw(z, g2, g3)**5*c[9] + c[0])"
      ]
     },
     "execution_count": 135,
     "metadata": {},
     "output_type": "execute_result"
    }
   ],
   "source": [
    "for _i in range(12):\n",
    "    _xx_ = (PN_eq.subs(N,_i).doit().expand().subs(higher_order_diffs)\n",
    "     .subs(diff(pw(z,g2,g3),z), pwp(z,g2,g3)).simplify().expand()\n",
    "     .subs(higher_order_diffs)\n",
    "     .subs(pwp(z,g2,g3)**2, 4*pw(z,g2,g3)**3 - g2*pw(z,g2,g3) - g3)\n",
    "     .doit()\n",
    "     .simplify().expand()\n",
    "     .subs(higher_order_diffs)\n",
    "     .simplify().expand()\n",
    "    )\n",
    "    Eq(_xx_.lhs, _xx_.rhs.collect(pw(z,g2,g3)))"
   ]
  },
  {
   "cell_type": "code",
   "execution_count": 136,
   "metadata": {},
   "outputs": [
    {
     "data": {
      "text/latex": [
       "$\\displaystyle P{\\left(N,\\operatorname{pw}{\\left(z,g_{2},g_{3} \\right)} \\right)} = \\kappa \\prod_{n=1}^{\\left\\lfloor{\\frac{N}{2} + \\frac{1}{2}}\\right\\rfloor} \\left(\\operatorname{pw}{\\left(z,g_{2},g_{3} \\right)} - \\operatorname{pw}{\\left({\\upsilon}_{n},g_{2},g_{3} \\right)}\\right)$"
      ],
      "text/plain": [
       "Eq(P(N, pw(z, g2, g3)), kappa*Product(pw(z, g2, g3) - pw(upsilon[n], g2, g3), (n, 1, floor(N/2 + 1/2))))"
      ]
     },
     "execution_count": 136,
     "metadata": {},
     "output_type": "execute_result"
    }
   ],
   "source": [
    "Eq(P(N,pw(z,g2,g3)),kappa*Product(pw(z,g2,g3) - pw(upsilon[n],g2,g3),(n,1,floor((N+1)/2))))"
   ]
  },
  {
   "cell_type": "code",
   "execution_count": 137,
   "metadata": {},
   "outputs": [
    {
     "data": {
      "text/latex": [
       "$\\displaystyle \\operatorname{pw}{\\left(z,g_{2},g_{3} \\right)} - \\operatorname{pw}{\\left({\\upsilon}_{n},g_{2},g_{3} \\right)} = \\frac{\\sigma{\\left(- z + {\\upsilon}_{n},g_{2},g_{3} \\right)} \\sigma{\\left(z + {\\upsilon}_{n},g_{2},g_{3} \\right)}}{\\sigma^{2}{\\left(z,g_{2},g_{3} \\right)} \\sigma^{2}{\\left({\\upsilon}_{n},g_{2},g_{3} \\right)}}$"
      ],
      "text/plain": [
       "Eq(pw(z, g2, g3) - pw(upsilon[n], g2, g3), sigma(-z + upsilon[n], g2, g3)*sigma(z + upsilon[n], g2, g3)/(sigma(z, g2, g3)**2*sigma(upsilon[n], g2, g3)**2))"
      ]
     },
     "execution_count": 137,
     "metadata": {},
     "output_type": "execute_result"
    }
   ],
   "source": [
    "sigma_p_identity.subs([(y,z),(x,upsilon[n])])"
   ]
  },
  {
   "cell_type": "code",
   "execution_count": 138,
   "metadata": {},
   "outputs": [
    {
     "data": {
      "text/latex": [
       "$\\displaystyle P{\\left(N,\\operatorname{pw}{\\left(z,g_{2},g_{3} \\right)} \\right)} = \\kappa \\prod_{n=1}^{\\left\\lfloor{\\frac{N}{2} + \\frac{1}{2}}\\right\\rfloor} \\frac{\\sigma{\\left(- z + {\\upsilon}_{n},g_{2},g_{3} \\right)} \\sigma{\\left(z + {\\upsilon}_{n},g_{2},g_{3} \\right)}}{\\sigma^{2}{\\left(z,g_{2},g_{3} \\right)} \\sigma^{2}{\\left({\\upsilon}_{n},g_{2},g_{3} \\right)}}$"
      ],
      "text/plain": [
       "Eq(P(N, pw(z, g2, g3)), kappa*Product(sigma(-z + upsilon[n], g2, g3)*sigma(z + upsilon[n], g2, g3)/(sigma(z, g2, g3)**2*sigma(upsilon[n], g2, g3)**2), (n, 1, floor(N/2 + 1/2))))"
      ]
     },
     "execution_count": 138,
     "metadata": {},
     "output_type": "execute_result"
    }
   ],
   "source": [
    "PN_sigma_kappa = Eq(P(N,pw(z,g2,g3)),\n",
    "   kappa*Product(\n",
    "       (pw(z,g2,g3) - pw(upsilon[n],g2,g3)).subs(*sigma_p_identity.subs([(y,z),(x,upsilon[n])]).args)\n",
    "       ,(n,1,floor((N+1)/2)))\n",
    "  )\n",
    "PN_sigma_kappa"
   ]
  },
  {
   "cell_type": "code",
   "execution_count": 139,
   "metadata": {},
   "outputs": [
    {
     "data": {
      "text/latex": [
       "$\\displaystyle \\left(-1\\right)^{1 - N} \\prod_{l=0}^{N} \\frac{\\sigma{\\left(z - {\\xi}_{l},g_{2},g_{3} \\right)}}{\\sigma{\\left(z,g_{2},g_{3} \\right)} \\sigma{\\left({\\xi}_{l},g_{2},g_{3} \\right)}} + \\left(-1\\right)^{N + 1} \\prod_{l=0}^{N} \\frac{\\sigma{\\left(z + {\\xi}_{l},g_{2},g_{3} \\right)}}{\\sigma{\\left(z,g_{2},g_{3} \\right)} \\sigma{\\left({\\xi}_{l},g_{2},g_{3} \\right)}} = 2 \\kappa \\prod_{n=1}^{\\left\\lfloor{\\frac{N}{2} + \\frac{1}{2}}\\right\\rfloor} \\frac{\\sigma{\\left(- z + {\\upsilon}_{n},g_{2},g_{3} \\right)} \\sigma{\\left(z + {\\upsilon}_{n},g_{2},g_{3} \\right)}}{\\sigma^{2}{\\left(z,g_{2},g_{3} \\right)} \\sigma^{2}{\\left({\\upsilon}_{n},g_{2},g_{3} \\right)}}$"
      ],
      "text/plain": [
       "Eq((-1)**(1 - N)*Product(sigma(z - xi[l], g2, g3)/(sigma(z, g2, g3)*sigma(xi[l], g2, g3)), (l, 0, N)) + (-1)**(N + 1)*Product(sigma(z + xi[l], g2, g3)/(sigma(z, g2, g3)*sigma(xi[l], g2, g3)), (l, 0, N)), 2*kappa*Product(sigma(-z + upsilon[n], g2, g3)*sigma(z + upsilon[n], g2, g3)/(sigma(z, g2, g3)**2*sigma(upsilon[n], g2, g3)**2), (n, 1, floor(N/2 + 1/2))))"
      ]
     },
     "execution_count": 139,
     "metadata": {},
     "output_type": "execute_result"
    }
   ],
   "source": [
    "sigma_sum_product_kappa = P_sigma_product_pwp.subs(*PN_sigma_kappa.args)\n",
    "sigma_sum_product_kappa"
   ]
  },
  {
   "cell_type": "markdown",
   "metadata": {},
   "source": [
    "### $N=2M-1$ case (N odd)"
   ]
  },
  {
   "cell_type": "code",
   "execution_count": 140,
   "metadata": {},
   "outputs": [
    {
     "data": {
      "text/latex": [
       "$\\displaystyle \\prod_{l=0}^{2 M - 1} \\frac{\\sigma{\\left(z - {\\xi}_{l},g_{2},g_{3} \\right)}}{\\sigma{\\left(z,g_{2},g_{3} \\right)} \\sigma{\\left({\\xi}_{l},g_{2},g_{3} \\right)}} + \\prod_{l=0}^{2 M - 1} \\frac{\\sigma{\\left(z + {\\xi}_{l},g_{2},g_{3} \\right)}}{\\sigma{\\left(z,g_{2},g_{3} \\right)} \\sigma{\\left({\\xi}_{l},g_{2},g_{3} \\right)}} = 2 \\kappa \\prod_{n=1}^{M} \\frac{\\sigma{\\left(- z + {\\upsilon}_{n},g_{2},g_{3} \\right)} \\sigma{\\left(z + {\\upsilon}_{n},g_{2},g_{3} \\right)}}{\\sigma^{2}{\\left(z,g_{2},g_{3} \\right)} \\sigma^{2}{\\left({\\upsilon}_{n},g_{2},g_{3} \\right)}}$"
      ],
      "text/plain": [
       "Eq(Product(sigma(z - xi[l], g2, g3)/(sigma(z, g2, g3)*sigma(xi[l], g2, g3)), (l, 0, 2*M - 1)) + Product(sigma(z + xi[l], g2, g3)/(sigma(z, g2, g3)*sigma(xi[l], g2, g3)), (l, 0, 2*M - 1)), 2*kappa*Product(sigma(-z + upsilon[n], g2, g3)*sigma(z + upsilon[n], g2, g3)/(sigma(z, g2, g3)**2*sigma(upsilon[n], g2, g3)**2), (n, 1, M)))"
      ]
     },
     "execution_count": 140,
     "metadata": {},
     "output_type": "execute_result"
    }
   ],
   "source": [
    "N_2M_min_1_kappa = sigma_sum_product_kappa.subs(N,2*M-1).subs([((-1)**(2*M),1),(floor(M),M)])\n",
    "N_2M_min_1_kappa"
   ]
  },
  {
   "cell_type": "code",
   "execution_count": 141,
   "metadata": {},
   "outputs": [
    {
     "data": {
      "text/latex": [
       "$\\displaystyle \\prod_{l=0}^{2 M - 1} \\sigma{\\left(z,g_{2},g_{3} \\right)} = \\sigma^{2 M}{\\left(z,g_{2},g_{3} \\right)}$"
      ],
      "text/plain": [
       "Eq(Product(sigma(z, g2, g3), (l, 0, 2*M - 1)), sigma(z, g2, g3)**(2*M))"
      ]
     },
     "execution_count": 141,
     "metadata": {},
     "output_type": "execute_result"
    }
   ],
   "source": [
    "Eq(Product(sigma(z,g2,g3),(l,0,2*M-1)), Product(sigma(z,g2,g3),(l,0,2*M-1)).doit())"
   ]
  },
  {
   "cell_type": "code",
   "execution_count": 142,
   "metadata": {},
   "outputs": [
    {
     "data": {
      "text/latex": [
       "$\\displaystyle \\prod_{n=1}^{M} \\sigma^{2}{\\left(z,g_{2},g_{3} \\right)} = \\left(\\sigma^{2}{\\left(z,g_{2},g_{3} \\right)}\\right)^{M}$"
      ],
      "text/plain": [
       "Eq(Product(sigma(z, g2, g3)**2, (n, 1, M)), (sigma(z, g2, g3)**2)**M)"
      ]
     },
     "execution_count": 142,
     "metadata": {},
     "output_type": "execute_result"
    }
   ],
   "source": [
    "Eq(Product(sigma(z,g2,g3)**2,(n,1,M)), Product(sigma(z,g2,g3)**2,(n,1,M)).doit().simplify())"
   ]
  },
  {
   "cell_type": "code",
   "execution_count": 143,
   "metadata": {},
   "outputs": [
    {
     "data": {
      "text/latex": [
       "$\\displaystyle \\prod_{l=0}^{2 M - 1} \\frac{\\sigma{\\left(z - {\\xi}_{l},g_{2},g_{3} \\right)}}{\\sigma{\\left({\\xi}_{l},g_{2},g_{3} \\right)}} + \\prod_{l=0}^{2 M - 1} \\frac{\\sigma{\\left(z + {\\xi}_{l},g_{2},g_{3} \\right)}}{\\sigma{\\left({\\xi}_{l},g_{2},g_{3} \\right)}} = 2 \\kappa \\prod_{n=1}^{M} \\frac{\\sigma{\\left(- z + {\\upsilon}_{n},g_{2},g_{3} \\right)} \\sigma{\\left(z + {\\upsilon}_{n},g_{2},g_{3} \\right)}}{\\sigma^{2}{\\left({\\upsilon}_{n},g_{2},g_{3} \\right)}}$"
      ],
      "text/plain": [
       "Eq(Product(sigma(z - xi[l], g2, g3)/sigma(xi[l], g2, g3), (l, 0, 2*M - 1)) + Product(sigma(z + xi[l], g2, g3)/sigma(xi[l], g2, g3), (l, 0, 2*M - 1)), 2*kappa*Product(sigma(-z + upsilon[n], g2, g3)*sigma(z + upsilon[n], g2, g3)/sigma(upsilon[n], g2, g3)**2, (n, 1, M)))"
      ]
     },
     "execution_count": 143,
     "metadata": {},
     "output_type": "execute_result"
    }
   ],
   "source": [
    "N_2M_min_1_kappa_a = N_2M_min_1_kappa.subs(sigma(z,g2,g3),1)\n",
    "N_2M_min_1_kappa_a"
   ]
  },
  {
   "cell_type": "code",
   "execution_count": 144,
   "metadata": {},
   "outputs": [
    {
     "data": {
      "text/latex": [
       "$\\displaystyle \\prod_{l=0}^{2 M - 1} 1 + \\prod_{l=0}^{2 M - 1} \\frac{\\sigma{\\left(- {\\xi}_{l},g_{2},g_{3} \\right)}}{\\sigma{\\left({\\xi}_{l},g_{2},g_{3} \\right)}} = 2 \\kappa \\prod_{n=1}^{M} 1$"
      ],
      "text/plain": [
       "Eq(Product(1, (l, 0, 2*M - 1)) + Product(sigma(-xi[l], g2, g3)/sigma(xi[l], g2, g3), (l, 0, 2*M - 1)), 2*kappa*Product(1, (n, 1, M)))"
      ]
     },
     "execution_count": 144,
     "metadata": {},
     "output_type": "execute_result"
    }
   ],
   "source": [
    "N_2M_min_1_kappa_a.subs(z,0)"
   ]
  },
  {
   "cell_type": "code",
   "execution_count": 145,
   "metadata": {},
   "outputs": [
    {
     "data": {
      "text/latex": [
       "$\\displaystyle \\kappa = \\frac{\\prod_{l=0}^{2 M - 1} \\frac{\\sigma{\\left(- {\\xi}_{l},g_{2},g_{3} \\right)}}{\\sigma{\\left({\\xi}_{l},g_{2},g_{3} \\right)}}}{2} + \\frac{1}{2}$"
      ],
      "text/plain": [
       "Eq(kappa, Product(sigma(-xi[l], g2, g3)/sigma(xi[l], g2, g3), (l, 0, 2*M - 1))/2 + 1/2)"
      ]
     },
     "execution_count": 145,
     "metadata": {},
     "output_type": "execute_result"
    }
   ],
   "source": [
    "Eq(kappa, solve(N_2M_min_1_kappa_a.subs(z,0).doit(),kappa)[0])"
   ]
  },
  {
   "cell_type": "markdown",
   "metadata": {},
   "source": [
    "### $N=2M$ case (N even)"
   ]
  },
  {
   "cell_type": "code",
   "execution_count": 146,
   "metadata": {},
   "outputs": [
    {
     "data": {
      "text/latex": [
       "$\\displaystyle \\left(-1\\right)^{1 - 2 M} \\prod_{l=0}^{2 M} \\frac{\\sigma{\\left(z - {\\xi}_{l},g_{2},g_{3} \\right)}}{\\sigma{\\left(z,g_{2},g_{3} \\right)} \\sigma{\\left({\\xi}_{l},g_{2},g_{3} \\right)}} - \\prod_{l=0}^{2 M} \\frac{\\sigma{\\left(z + {\\xi}_{l},g_{2},g_{3} \\right)}}{\\sigma{\\left(z,g_{2},g_{3} \\right)} \\sigma{\\left({\\xi}_{l},g_{2},g_{3} \\right)}} = 2 \\kappa \\prod_{n=1}^{M} \\frac{\\sigma{\\left(- z + {\\upsilon}_{n},g_{2},g_{3} \\right)} \\sigma{\\left(z + {\\upsilon}_{n},g_{2},g_{3} \\right)}}{\\sigma^{2}{\\left(z,g_{2},g_{3} \\right)} \\sigma^{2}{\\left({\\upsilon}_{n},g_{2},g_{3} \\right)}}$"
      ],
      "text/plain": [
       "Eq((-1)**(1 - 2*M)*Product(sigma(z - xi[l], g2, g3)/(sigma(z, g2, g3)*sigma(xi[l], g2, g3)), (l, 0, 2*M)) - Product(sigma(z + xi[l], g2, g3)/(sigma(z, g2, g3)*sigma(xi[l], g2, g3)), (l, 0, 2*M)), 2*kappa*Product(sigma(-z + upsilon[n], g2, g3)*sigma(z + upsilon[n], g2, g3)/(sigma(z, g2, g3)**2*sigma(upsilon[n], g2, g3)**2), (n, 1, M)))"
      ]
     },
     "execution_count": 146,
     "metadata": {},
     "output_type": "execute_result"
    }
   ],
   "source": [
    "N_2M_kappa = sigma_sum_product_kappa.subs(N,2*M).subs([((-1)**(2*M+1),-1),(floor(M+Rational(1,2)),M)])\n",
    "N_2M_kappa"
   ]
  },
  {
   "cell_type": "code",
   "execution_count": 147,
   "metadata": {},
   "outputs": [
    {
     "data": {
      "text/latex": [
       "$\\displaystyle \\prod_{l=0}^{2 M} \\sigma{\\left(z,g_{2},g_{3} \\right)} = \\sigma^{2 M + 1}{\\left(z,g_{2},g_{3} \\right)}$"
      ],
      "text/plain": [
       "Eq(Product(sigma(z, g2, g3), (l, 0, 2*M)), sigma(z, g2, g3)**(2*M + 1))"
      ]
     },
     "execution_count": 147,
     "metadata": {},
     "output_type": "execute_result"
    }
   ],
   "source": [
    "Eq(Product(sigma(z,g2,g3),(l,0,2*M)), Product(sigma(z,g2,g3),(l,0,2*M)).doit())"
   ]
  },
  {
   "cell_type": "code",
   "execution_count": 148,
   "metadata": {},
   "outputs": [
    {
     "data": {
      "text/latex": [
       "$\\displaystyle \\prod_{n=1}^{M} \\sigma^{2}{\\left(z,g_{2},g_{3} \\right)} = \\left(\\sigma^{2}{\\left(z,g_{2},g_{3} \\right)}\\right)^{M}$"
      ],
      "text/plain": [
       "Eq(Product(sigma(z, g2, g3)**2, (n, 1, M)), (sigma(z, g2, g3)**2)**M)"
      ]
     },
     "execution_count": 148,
     "metadata": {},
     "output_type": "execute_result"
    }
   ],
   "source": [
    "Eq(Product(sigma(z,g2,g3)**2,(n,1,M)), Product(sigma(z,g2,g3)**2,(n,1,M)).doit().simplify())"
   ]
  },
  {
   "cell_type": "code",
   "execution_count": 149,
   "metadata": {},
   "outputs": [
    {
     "data": {
      "text/latex": [
       "$\\displaystyle \\frac{\\left(-1\\right)^{1 - 2 M} \\prod_{l=0}^{2 M} \\frac{\\sigma{\\left(z - {\\xi}_{l},g_{2},g_{3} \\right)}}{\\sigma{\\left({\\xi}_{l},g_{2},g_{3} \\right)}} - \\prod_{l=0}^{2 M} \\frac{\\sigma{\\left(z + {\\xi}_{l},g_{2},g_{3} \\right)}}{\\sigma{\\left({\\xi}_{l},g_{2},g_{3} \\right)}}}{\\sigma{\\left(z,g_{2},g_{3} \\right)}} = 2 \\kappa \\prod_{n=1}^{M} \\frac{\\sigma{\\left(- z + {\\upsilon}_{n},g_{2},g_{3} \\right)} \\sigma{\\left(z + {\\upsilon}_{n},g_{2},g_{3} \\right)}}{\\sigma^{2}{\\left({\\upsilon}_{n},g_{2},g_{3} \\right)}}$"
      ],
      "text/plain": [
       "Eq(((-1)**(1 - 2*M)*Product(sigma(z - xi[l], g2, g3)/sigma(xi[l], g2, g3), (l, 0, 2*M)) - Product(sigma(z + xi[l], g2, g3)/sigma(xi[l], g2, g3), (l, 0, 2*M)))/sigma(z, g2, g3), 2*kappa*Product(sigma(-z + upsilon[n], g2, g3)*sigma(z + upsilon[n], g2, g3)/sigma(upsilon[n], g2, g3)**2, (n, 1, M)))"
      ]
     },
     "execution_count": 149,
     "metadata": {},
     "output_type": "execute_result"
    }
   ],
   "source": [
    "__yy__ = Eq(N_2M_kappa.subs(sigma(z,g2,g3),1).lhs/sigma(z,g2,g3), N_2M_kappa.subs(sigma(z,g2,g3),1).rhs)\n",
    "__yy__"
   ]
  },
  {
   "cell_type": "code",
   "execution_count": 150,
   "metadata": {},
   "outputs": [
    {
     "data": {
      "text/latex": [
       "$\\displaystyle \\kappa = \\lim_{z \\to 0^+}\\left(\\frac{\\left(-1\\right)^{1 - 2 M} \\prod_{l=0}^{2 M} \\frac{\\sigma{\\left(z - {\\xi}_{l},g_{2},g_{3} \\right)}}{\\sigma{\\left({\\xi}_{l},g_{2},g_{3} \\right)}} - \\prod_{l=0}^{2 M} \\frac{\\sigma{\\left(z + {\\xi}_{l},g_{2},g_{3} \\right)}}{\\sigma{\\left({\\xi}_{l},g_{2},g_{3} \\right)}}}{2 \\sigma{\\left(z,g_{2},g_{3} \\right)}}\\right)$"
      ],
      "text/plain": [
       "Eq(kappa, Limit(((-1)**(1 - 2*M)*Product(sigma(z - xi[l], g2, g3)/sigma(xi[l], g2, g3), (l, 0, 2*M)) - Product(sigma(z + xi[l], g2, g3)/sigma(xi[l], g2, g3), (l, 0, 2*M)))/(2*sigma(z, g2, g3)), z, 0))"
      ]
     },
     "execution_count": 150,
     "metadata": {},
     "output_type": "execute_result"
    }
   ],
   "source": [
    "Eq(__yy__.rhs.subs(z,0).doit()/2, Limit(__yy__.lhs/2,z,0))"
   ]
  },
  {
   "cell_type": "code",
   "execution_count": 151,
   "metadata": {},
   "outputs": [
    {
     "data": {
      "text/latex": [
       "$\\displaystyle \\lim_{\\epsilon \\to 0^+} \\sigma{\\left(\\epsilon + z,g_{2},g_{3} \\right)} = \\lim_{\\epsilon \\to 0^+}\\left(\\epsilon \\frac{\\partial}{\\partial z} \\sigma{\\left(z,g_{2},g_{3} \\right)} + \\sigma{\\left(z,g_{2},g_{3} \\right)}\\right)$"
      ],
      "text/plain": [
       "Eq(Limit(sigma(epsilon + z, g2, g3), epsilon, 0), Limit(epsilon*Derivative(sigma(z, g2, g3), z) + sigma(z, g2, g3), epsilon, 0))"
      ]
     },
     "execution_count": 151,
     "metadata": {},
     "output_type": "execute_result"
    }
   ],
   "source": [
    "Eq(Limit(sigma(z+epsilon,g2,g3),epsilon,0), Limit(sigma(z,g2,g3)+diff(sigma(z,g2,g3),z)*epsilon,epsilon,0))"
   ]
  },
  {
   "cell_type": "code",
   "execution_count": 152,
   "metadata": {},
   "outputs": [
    {
     "data": {
      "text/latex": [
       "$\\displaystyle \\frac{\\frac{\\prod_{l=0}^{2 M} \\left(- \\epsilon \\operatorname{zw}{\\left({\\xi}_{l},g_{2},g_{3} \\right)} + 1\\right)}{2} - \\frac{\\prod_{l=0}^{2 M} \\left(\\epsilon \\operatorname{zw}{\\left({\\xi}_{l},g_{2},g_{3} \\right)} + 1\\right)}{2}}{\\epsilon}$"
      ],
      "text/plain": [
       "(Product(-epsilon*zw(xi[l], g2, g3) + 1, (l, 0, 2*M))/2 - Product(epsilon*zw(xi[l], g2, g3) + 1, (l, 0, 2*M))/2)/epsilon"
      ]
     },
     "execution_count": 152,
     "metadata": {},
     "output_type": "execute_result"
    }
   ],
   "source": [
    "(Product(1-epsilon*zw(xi[l],g2,g3),(l,0,2*M)) - Product(1+epsilon*zw(xi[l],g2,g3),(l,0,2*M)))/2/epsilon"
   ]
  },
  {
   "cell_type": "code",
   "execution_count": 153,
   "metadata": {},
   "outputs": [
    {
     "data": {
      "text/latex": [
       "$\\displaystyle - \\operatorname{zw}{\\left({\\xi}_{0},g_{2},g_{3} \\right)} - \\operatorname{zw}{\\left({\\xi}_{1},g_{2},g_{3} \\right)} - \\operatorname{zw}{\\left({\\xi}_{2},g_{2},g_{3} \\right)} - \\operatorname{zw}{\\left({\\xi}_{3},g_{2},g_{3} \\right)} - \\operatorname{zw}{\\left({\\xi}_{4},g_{2},g_{3} \\right)} - \\operatorname{zw}{\\left({\\xi}_{5},g_{2},g_{3} \\right)} - \\operatorname{zw}{\\left({\\xi}_{6},g_{2},g_{3} \\right)} - \\operatorname{zw}{\\left({\\xi}_{7},g_{2},g_{3} \\right)} - \\operatorname{zw}{\\left({\\xi}_{8},g_{2},g_{3} \\right)}$"
      ],
      "text/plain": [
       "-zw(xi[0], g2, g3) - zw(xi[1], g2, g3) - zw(xi[2], g2, g3) - zw(xi[3], g2, g3) - zw(xi[4], g2, g3) - zw(xi[5], g2, g3) - zw(xi[6], g2, g3) - zw(xi[7], g2, g3) - zw(xi[8], g2, g3)"
      ]
     },
     "execution_count": 153,
     "metadata": {},
     "output_type": "execute_result"
    }
   ],
   "source": [
    "((Product(1-epsilon*zw(xi[l],g2,g3),(l,0,2*M)) - \n",
    "  Product(1+epsilon*zw(xi[l],g2,g3),(l,0,2*M)))/2/epsilon).subs(M, 4).doit().expand().subs(epsilon,0)"
   ]
  },
  {
   "cell_type": "code",
   "execution_count": 154,
   "metadata": {},
   "outputs": [
    {
     "data": {
      "text/latex": [
       "$\\displaystyle \\kappa = - \\sum_{l=0}^{2 M} \\operatorname{zw}{\\left({\\xi}_{l},g_{2},g_{3} \\right)}$"
      ],
      "text/plain": [
       "Eq(kappa, -Sum(zw(xi[l], g2, g3), (l, 0, 2*M)))"
      ]
     },
     "execution_count": 154,
     "metadata": {},
     "output_type": "execute_result"
    }
   ],
   "source": [
    "Eq(kappa, -Sum(zw(xi[l],g2,g3),(l,0,2*M)))"
   ]
  },
  {
   "cell_type": "markdown",
   "metadata": {},
   "source": [
    "#### Some low order $Q$"
   ]
  },
  {
   "cell_type": "code",
   "execution_count": 155,
   "metadata": {},
   "outputs": [
    {
     "data": {
      "text/latex": [
       "$\\displaystyle Q{\\left(0,\\operatorname{pw}{\\left(z,g_{2},g_{3} \\right)} \\right)} = 0$"
      ],
      "text/plain": [
       "Eq(Q(0, pw(z, g2, g3)), 0)"
      ]
     },
     "execution_count": 155,
     "metadata": {},
     "output_type": "execute_result"
    },
    {
     "data": {
      "text/latex": [
       "$\\displaystyle Q{\\left(1,\\operatorname{pw}{\\left(z,g_{2},g_{3} \\right)} \\right)} = 0$"
      ],
      "text/plain": [
       "Eq(Q(1, pw(z, g2, g3)), 0)"
      ]
     },
     "execution_count": 155,
     "metadata": {},
     "output_type": "execute_result"
    },
    {
     "data": {
      "text/latex": [
       "$\\displaystyle Q{\\left(2,\\operatorname{pw}{\\left(z,g_{2},g_{3} \\right)} \\right)} = \\frac{\\frac{\\partial}{\\partial z} \\operatorname{pw}{\\left(z,g_{2},g_{3} \\right)} {c}_{2}}{\\operatorname{pwp}{\\left(z,g_{2},g_{3} \\right)}}$"
      ],
      "text/plain": [
       "Eq(Q(2, pw(z, g2, g3)), Derivative(pw(z, g2, g3), z)*c[2]/pwp(z, g2, g3))"
      ]
     },
     "execution_count": 155,
     "metadata": {},
     "output_type": "execute_result"
    },
    {
     "data": {
      "text/latex": [
       "$\\displaystyle Q{\\left(3,\\operatorname{pw}{\\left(z,g_{2},g_{3} \\right)} \\right)} = \\frac{\\frac{\\partial}{\\partial z} \\operatorname{pw}{\\left(z,g_{2},g_{3} \\right)} {c}_{2}}{\\operatorname{pwp}{\\left(z,g_{2},g_{3} \\right)}}$"
      ],
      "text/plain": [
       "Eq(Q(3, pw(z, g2, g3)), Derivative(pw(z, g2, g3), z)*c[2]/pwp(z, g2, g3))"
      ]
     },
     "execution_count": 155,
     "metadata": {},
     "output_type": "execute_result"
    },
    {
     "data": {
      "text/latex": [
       "$\\displaystyle Q{\\left(4,\\operatorname{pw}{\\left(z,g_{2},g_{3} \\right)} \\right)} = \\frac{\\frac{\\partial}{\\partial z} \\operatorname{pw}{\\left(z,g_{2},g_{3} \\right)} {c}_{2}}{\\operatorname{pwp}{\\left(z,g_{2},g_{3} \\right)}} + \\frac{\\frac{\\partial^{3}}{\\partial z^{3}} \\operatorname{pw}{\\left(z,g_{2},g_{3} \\right)} {c}_{4}}{\\operatorname{pwp}{\\left(z,g_{2},g_{3} \\right)}}$"
      ],
      "text/plain": [
       "Eq(Q(4, pw(z, g2, g3)), Derivative(pw(z, g2, g3), z)*c[2]/pwp(z, g2, g3) + Derivative(pw(z, g2, g3), (z, 3))*c[4]/pwp(z, g2, g3))"
      ]
     },
     "execution_count": 155,
     "metadata": {},
     "output_type": "execute_result"
    },
    {
     "data": {
      "text/latex": [
       "$\\displaystyle Q{\\left(5,\\operatorname{pw}{\\left(z,g_{2},g_{3} \\right)} \\right)} = \\frac{\\frac{\\partial}{\\partial z} \\operatorname{pw}{\\left(z,g_{2},g_{3} \\right)} {c}_{2}}{\\operatorname{pwp}{\\left(z,g_{2},g_{3} \\right)}} + \\frac{\\frac{\\partial^{3}}{\\partial z^{3}} \\operatorname{pw}{\\left(z,g_{2},g_{3} \\right)} {c}_{4}}{\\operatorname{pwp}{\\left(z,g_{2},g_{3} \\right)}}$"
      ],
      "text/plain": [
       "Eq(Q(5, pw(z, g2, g3)), Derivative(pw(z, g2, g3), z)*c[2]/pwp(z, g2, g3) + Derivative(pw(z, g2, g3), (z, 3))*c[4]/pwp(z, g2, g3))"
      ]
     },
     "execution_count": 155,
     "metadata": {},
     "output_type": "execute_result"
    },
    {
     "data": {
      "text/latex": [
       "$\\displaystyle Q{\\left(6,\\operatorname{pw}{\\left(z,g_{2},g_{3} \\right)} \\right)} = \\frac{\\frac{\\partial}{\\partial z} \\operatorname{pw}{\\left(z,g_{2},g_{3} \\right)} {c}_{2}}{\\operatorname{pwp}{\\left(z,g_{2},g_{3} \\right)}} + \\frac{\\frac{\\partial^{3}}{\\partial z^{3}} \\operatorname{pw}{\\left(z,g_{2},g_{3} \\right)} {c}_{4}}{\\operatorname{pwp}{\\left(z,g_{2},g_{3} \\right)}} + \\frac{\\frac{\\partial^{5}}{\\partial z^{5}} \\operatorname{pw}{\\left(z,g_{2},g_{3} \\right)} {c}_{6}}{\\operatorname{pwp}{\\left(z,g_{2},g_{3} \\right)}}$"
      ],
      "text/plain": [
       "Eq(Q(6, pw(z, g2, g3)), Derivative(pw(z, g2, g3), z)*c[2]/pwp(z, g2, g3) + Derivative(pw(z, g2, g3), (z, 3))*c[4]/pwp(z, g2, g3) + Derivative(pw(z, g2, g3), (z, 5))*c[6]/pwp(z, g2, g3))"
      ]
     },
     "execution_count": 155,
     "metadata": {},
     "output_type": "execute_result"
    },
    {
     "data": {
      "text/latex": [
       "$\\displaystyle Q{\\left(7,\\operatorname{pw}{\\left(z,g_{2},g_{3} \\right)} \\right)} = \\frac{\\frac{\\partial}{\\partial z} \\operatorname{pw}{\\left(z,g_{2},g_{3} \\right)} {c}_{2}}{\\operatorname{pwp}{\\left(z,g_{2},g_{3} \\right)}} + \\frac{\\frac{\\partial^{3}}{\\partial z^{3}} \\operatorname{pw}{\\left(z,g_{2},g_{3} \\right)} {c}_{4}}{\\operatorname{pwp}{\\left(z,g_{2},g_{3} \\right)}} + \\frac{\\frac{\\partial^{5}}{\\partial z^{5}} \\operatorname{pw}{\\left(z,g_{2},g_{3} \\right)} {c}_{6}}{\\operatorname{pwp}{\\left(z,g_{2},g_{3} \\right)}}$"
      ],
      "text/plain": [
       "Eq(Q(7, pw(z, g2, g3)), Derivative(pw(z, g2, g3), z)*c[2]/pwp(z, g2, g3) + Derivative(pw(z, g2, g3), (z, 3))*c[4]/pwp(z, g2, g3) + Derivative(pw(z, g2, g3), (z, 5))*c[6]/pwp(z, g2, g3))"
      ]
     },
     "execution_count": 155,
     "metadata": {},
     "output_type": "execute_result"
    },
    {
     "data": {
      "text/latex": [
       "$\\displaystyle Q{\\left(8,\\operatorname{pw}{\\left(z,g_{2},g_{3} \\right)} \\right)} = \\frac{\\frac{\\partial}{\\partial z} \\operatorname{pw}{\\left(z,g_{2},g_{3} \\right)} {c}_{2}}{\\operatorname{pwp}{\\left(z,g_{2},g_{3} \\right)}} + \\frac{\\frac{\\partial^{3}}{\\partial z^{3}} \\operatorname{pw}{\\left(z,g_{2},g_{3} \\right)} {c}_{4}}{\\operatorname{pwp}{\\left(z,g_{2},g_{3} \\right)}} + \\frac{\\frac{\\partial^{5}}{\\partial z^{5}} \\operatorname{pw}{\\left(z,g_{2},g_{3} \\right)} {c}_{6}}{\\operatorname{pwp}{\\left(z,g_{2},g_{3} \\right)}} + \\frac{\\frac{\\partial^{7}}{\\partial z^{7}} \\operatorname{pw}{\\left(z,g_{2},g_{3} \\right)} {c}_{8}}{\\operatorname{pwp}{\\left(z,g_{2},g_{3} \\right)}}$"
      ],
      "text/plain": [
       "Eq(Q(8, pw(z, g2, g3)), Derivative(pw(z, g2, g3), z)*c[2]/pwp(z, g2, g3) + Derivative(pw(z, g2, g3), (z, 3))*c[4]/pwp(z, g2, g3) + Derivative(pw(z, g2, g3), (z, 5))*c[6]/pwp(z, g2, g3) + Derivative(pw(z, g2, g3), (z, 7))*c[8]/pwp(z, g2, g3))"
      ]
     },
     "execution_count": 155,
     "metadata": {},
     "output_type": "execute_result"
    },
    {
     "data": {
      "text/latex": [
       "$\\displaystyle Q{\\left(9,\\operatorname{pw}{\\left(z,g_{2},g_{3} \\right)} \\right)} = \\frac{\\frac{\\partial}{\\partial z} \\operatorname{pw}{\\left(z,g_{2},g_{3} \\right)} {c}_{2}}{\\operatorname{pwp}{\\left(z,g_{2},g_{3} \\right)}} + \\frac{\\frac{\\partial^{3}}{\\partial z^{3}} \\operatorname{pw}{\\left(z,g_{2},g_{3} \\right)} {c}_{4}}{\\operatorname{pwp}{\\left(z,g_{2},g_{3} \\right)}} + \\frac{\\frac{\\partial^{5}}{\\partial z^{5}} \\operatorname{pw}{\\left(z,g_{2},g_{3} \\right)} {c}_{6}}{\\operatorname{pwp}{\\left(z,g_{2},g_{3} \\right)}} + \\frac{\\frac{\\partial^{7}}{\\partial z^{7}} \\operatorname{pw}{\\left(z,g_{2},g_{3} \\right)} {c}_{8}}{\\operatorname{pwp}{\\left(z,g_{2},g_{3} \\right)}}$"
      ],
      "text/plain": [
       "Eq(Q(9, pw(z, g2, g3)), Derivative(pw(z, g2, g3), z)*c[2]/pwp(z, g2, g3) + Derivative(pw(z, g2, g3), (z, 3))*c[4]/pwp(z, g2, g3) + Derivative(pw(z, g2, g3), (z, 5))*c[6]/pwp(z, g2, g3) + Derivative(pw(z, g2, g3), (z, 7))*c[8]/pwp(z, g2, g3))"
      ]
     },
     "execution_count": 155,
     "metadata": {},
     "output_type": "execute_result"
    }
   ],
   "source": [
    "for _i in range(10):\n",
    "    QN_eq.subs(N,_i).doit().expand()"
   ]
  },
  {
   "cell_type": "code",
   "execution_count": 156,
   "metadata": {
    "scrolled": false
   },
   "outputs": [
    {
     "data": {
      "text/latex": [
       "$\\displaystyle Q{\\left(0,\\operatorname{pw}{\\left(z,g_{2},g_{3} \\right)} \\right)} = 0$"
      ],
      "text/plain": [
       "Eq(Q(0, pw(z, g2, g3)), 0)"
      ]
     },
     "execution_count": 156,
     "metadata": {},
     "output_type": "execute_result"
    },
    {
     "data": {
      "text/latex": [
       "$\\displaystyle Q{\\left(1,\\operatorname{pw}{\\left(z,g_{2},g_{3} \\right)} \\right)} = 0$"
      ],
      "text/plain": [
       "Eq(Q(1, pw(z, g2, g3)), 0)"
      ]
     },
     "execution_count": 156,
     "metadata": {},
     "output_type": "execute_result"
    },
    {
     "data": {
      "text/latex": [
       "$\\displaystyle {c}_{2} = Q{\\left(2,\\operatorname{pw}{\\left(z,g_{2},g_{3} \\right)} \\right)}$"
      ],
      "text/plain": [
       "Eq(c[2], Q(2, pw(z, g2, g3)))"
      ]
     },
     "execution_count": 156,
     "metadata": {},
     "output_type": "execute_result"
    },
    {
     "data": {
      "text/latex": [
       "$\\displaystyle {c}_{2} = Q{\\left(3,\\operatorname{pw}{\\left(z,g_{2},g_{3} \\right)} \\right)}$"
      ],
      "text/plain": [
       "Eq(c[2], Q(3, pw(z, g2, g3)))"
      ]
     },
     "execution_count": 156,
     "metadata": {},
     "output_type": "execute_result"
    },
    {
     "data": {
      "text/latex": [
       "$\\displaystyle Q{\\left(4,\\operatorname{pw}{\\left(z,g_{2},g_{3} \\right)} \\right)} = 12 \\operatorname{pw}{\\left(z,g_{2},g_{3} \\right)} {c}_{4} + {c}_{2}$"
      ],
      "text/plain": [
       "Eq(Q(4, pw(z, g2, g3)), 12*pw(z, g2, g3)*c[4] + c[2])"
      ]
     },
     "execution_count": 156,
     "metadata": {},
     "output_type": "execute_result"
    },
    {
     "data": {
      "text/latex": [
       "$\\displaystyle Q{\\left(5,\\operatorname{pw}{\\left(z,g_{2},g_{3} \\right)} \\right)} = 12 \\operatorname{pw}{\\left(z,g_{2},g_{3} \\right)} {c}_{4} + {c}_{2}$"
      ],
      "text/plain": [
       "Eq(Q(5, pw(z, g2, g3)), 12*pw(z, g2, g3)*c[4] + c[2])"
      ]
     },
     "execution_count": 156,
     "metadata": {},
     "output_type": "execute_result"
    },
    {
     "data": {
      "text/latex": [
       "$\\displaystyle Q{\\left(6,\\operatorname{pw}{\\left(z,g_{2},g_{3} \\right)} \\right)} = - 18 g_{2} {c}_{6} + 360 \\operatorname{pw}^{2}{\\left(z,g_{2},g_{3} \\right)} {c}_{6} + 12 \\operatorname{pw}{\\left(z,g_{2},g_{3} \\right)} {c}_{4} + {c}_{2}$"
      ],
      "text/plain": [
       "Eq(Q(6, pw(z, g2, g3)), -18*g2*c[6] + 360*pw(z, g2, g3)**2*c[6] + 12*pw(z, g2, g3)*c[4] + c[2])"
      ]
     },
     "execution_count": 156,
     "metadata": {},
     "output_type": "execute_result"
    },
    {
     "data": {
      "text/latex": [
       "$\\displaystyle Q{\\left(7,\\operatorname{pw}{\\left(z,g_{2},g_{3} \\right)} \\right)} = - 18 g_{2} {c}_{6} + 360 \\operatorname{pw}^{2}{\\left(z,g_{2},g_{3} \\right)} {c}_{6} + 12 \\operatorname{pw}{\\left(z,g_{2},g_{3} \\right)} {c}_{4} + {c}_{2}$"
      ],
      "text/plain": [
       "Eq(Q(7, pw(z, g2, g3)), -18*g2*c[6] + 360*pw(z, g2, g3)**2*c[6] + 12*pw(z, g2, g3)*c[4] + c[2])"
      ]
     },
     "execution_count": 156,
     "metadata": {},
     "output_type": "execute_result"
    },
    {
     "data": {
      "text/latex": [
       "$\\displaystyle Q{\\left(8,\\operatorname{pw}{\\left(z,g_{2},g_{3} \\right)} \\right)} = - 18 g_{2} {c}_{6} - 720 g_{3} {c}_{8} + \\left(- 2016 g_{2} {c}_{8} + 12 {c}_{4}\\right) \\operatorname{pw}{\\left(z,g_{2},g_{3} \\right)} + 20160 \\operatorname{pw}^{3}{\\left(z,g_{2},g_{3} \\right)} {c}_{8} + 360 \\operatorname{pw}^{2}{\\left(z,g_{2},g_{3} \\right)} {c}_{6} + {c}_{2}$"
      ],
      "text/plain": [
       "Eq(Q(8, pw(z, g2, g3)), -18*g2*c[6] - 720*g3*c[8] + (-2016*g2*c[8] + 12*c[4])*pw(z, g2, g3) + 20160*pw(z, g2, g3)**3*c[8] + 360*pw(z, g2, g3)**2*c[6] + c[2])"
      ]
     },
     "execution_count": 156,
     "metadata": {},
     "output_type": "execute_result"
    },
    {
     "data": {
      "text/latex": [
       "$\\displaystyle Q{\\left(9,\\operatorname{pw}{\\left(z,g_{2},g_{3} \\right)} \\right)} = - 18 g_{2} {c}_{6} - 720 g_{3} {c}_{8} + \\left(- 2016 g_{2} {c}_{8} + 12 {c}_{4}\\right) \\operatorname{pw}{\\left(z,g_{2},g_{3} \\right)} + 20160 \\operatorname{pw}^{3}{\\left(z,g_{2},g_{3} \\right)} {c}_{8} + 360 \\operatorname{pw}^{2}{\\left(z,g_{2},g_{3} \\right)} {c}_{6} + {c}_{2}$"
      ],
      "text/plain": [
       "Eq(Q(9, pw(z, g2, g3)), -18*g2*c[6] - 720*g3*c[8] + (-2016*g2*c[8] + 12*c[4])*pw(z, g2, g3) + 20160*pw(z, g2, g3)**3*c[8] + 360*pw(z, g2, g3)**2*c[6] + c[2])"
      ]
     },
     "execution_count": 156,
     "metadata": {},
     "output_type": "execute_result"
    },
    {
     "data": {
      "text/latex": [
       "$\\displaystyle Q{\\left(10,\\operatorname{pw}{\\left(z,g_{2},g_{3} \\right)} \\right)} = 3024 g_{2}^{2} {c}_{10} - 18 g_{2} {c}_{6} - 720 g_{3} {c}_{8} + \\left(- 272160 g_{2} {c}_{10} + 360 {c}_{6}\\right) \\operatorname{pw}^{2}{\\left(z,g_{2},g_{3} \\right)} + \\left(- 2016 g_{2} {c}_{8} - 129600 g_{3} {c}_{10} + 12 {c}_{4}\\right) \\operatorname{pw}{\\left(z,g_{2},g_{3} \\right)} + 1814400 \\operatorname{pw}^{4}{\\left(z,g_{2},g_{3} \\right)} {c}_{10} + 20160 \\operatorname{pw}^{3}{\\left(z,g_{2},g_{3} \\right)} {c}_{8} + {c}_{2}$"
      ],
      "text/plain": [
       "Eq(Q(10, pw(z, g2, g3)), 3024*g2**2*c[10] - 18*g2*c[6] - 720*g3*c[8] + (-272160*g2*c[10] + 360*c[6])*pw(z, g2, g3)**2 + (-2016*g2*c[8] - 129600*g3*c[10] + 12*c[4])*pw(z, g2, g3) + 1814400*pw(z, g2, g3)**4*c[10] + 20160*pw(z, g2, g3)**3*c[8] + c[2])"
      ]
     },
     "execution_count": 156,
     "metadata": {},
     "output_type": "execute_result"
    },
    {
     "data": {
      "text/latex": [
       "$\\displaystyle Q{\\left(11,\\operatorname{pw}{\\left(z,g_{2},g_{3} \\right)} \\right)} = 3024 g_{2}^{2} {c}_{10} - 18 g_{2} {c}_{6} - 720 g_{3} {c}_{8} + \\left(- 272160 g_{2} {c}_{10} + 360 {c}_{6}\\right) \\operatorname{pw}^{2}{\\left(z,g_{2},g_{3} \\right)} + \\left(- 2016 g_{2} {c}_{8} - 129600 g_{3} {c}_{10} + 12 {c}_{4}\\right) \\operatorname{pw}{\\left(z,g_{2},g_{3} \\right)} + 1814400 \\operatorname{pw}^{4}{\\left(z,g_{2},g_{3} \\right)} {c}_{10} + 20160 \\operatorname{pw}^{3}{\\left(z,g_{2},g_{3} \\right)} {c}_{8} + {c}_{2}$"
      ],
      "text/plain": [
       "Eq(Q(11, pw(z, g2, g3)), 3024*g2**2*c[10] - 18*g2*c[6] - 720*g3*c[8] + (-272160*g2*c[10] + 360*c[6])*pw(z, g2, g3)**2 + (-2016*g2*c[8] - 129600*g3*c[10] + 12*c[4])*pw(z, g2, g3) + 1814400*pw(z, g2, g3)**4*c[10] + 20160*pw(z, g2, g3)**3*c[8] + c[2])"
      ]
     },
     "execution_count": 156,
     "metadata": {},
     "output_type": "execute_result"
    }
   ],
   "source": [
    "for _i in range(12):\n",
    "    _xx = (QN_eq.subs(N,_i).doit().expand().subs(higher_order_diffs)\n",
    "     .subs(diff(pw(z,g2,g3),z), pwp(z,g2,g3)).simplify().expand()\n",
    "     .expand().subs(higher_order_diffs)\n",
    "     .subs(diff(pw(z,g2,g3),z), pwp(z,g2,g3)).simplify().expand()\n",
    "     .subs(pwp(z,g2,g3)**2, 4*pw(z,g2,g3)**3 - g2*pw(z,g2,g3) - g3)\n",
    "     .simplify().expand()\n",
    "    )\n",
    "    Eq(_xx.lhs, _xx.rhs.collect(pw(z,g2,g3)))"
   ]
  },
  {
   "cell_type": "code",
   "execution_count": 157,
   "metadata": {},
   "outputs": [
    {
     "data": {
      "text/latex": [
       "$\\displaystyle 1$"
      ],
      "text/plain": [
       "1"
      ]
     },
     "execution_count": 157,
     "metadata": {},
     "output_type": "execute_result"
    }
   ],
   "source": [
    "nnn = 4\n",
    "floor(nnn/2)-1"
   ]
  },
  {
   "cell_type": "code",
   "execution_count": 158,
   "metadata": {},
   "outputs": [
    {
     "data": {
      "text/latex": [
       "$\\displaystyle Q{\\left(N,\\operatorname{pw}{\\left(z,g_{2},g_{3} \\right)} \\right)} = \\beta \\prod_{n=1}^{\\left\\lfloor{\\frac{N}{2}}\\right\\rfloor - 1} \\left(\\operatorname{pw}{\\left(z,g_{2},g_{3} \\right)} - \\operatorname{pw}{\\left({\\psi}_{n},g_{2},g_{3} \\right)}\\right)$"
      ],
      "text/plain": [
       "Eq(Q(N, pw(z, g2, g3)), beta*Product(pw(z, g2, g3) - pw(psi[n], g2, g3), (n, 1, floor(N/2) - 1)))"
      ]
     },
     "execution_count": 158,
     "metadata": {},
     "output_type": "execute_result"
    }
   ],
   "source": [
    "Eq(Q(N,pw(z,g2,g3)),beta*Product(pw(z,g2,g3) - pw(psi[n],g2,g3),(n,1,floor(N/2)-1)))"
   ]
  },
  {
   "cell_type": "code",
   "execution_count": 159,
   "metadata": {},
   "outputs": [
    {
     "data": {
      "text/latex": [
       "$\\displaystyle \\operatorname{pw}{\\left(z,g_{2},g_{3} \\right)} - \\operatorname{pw}{\\left({\\psi}_{n},g_{2},g_{3} \\right)} = \\frac{\\sigma{\\left(- z + {\\psi}_{n},g_{2},g_{3} \\right)} \\sigma{\\left(z + {\\psi}_{n},g_{2},g_{3} \\right)}}{\\sigma^{2}{\\left(z,g_{2},g_{3} \\right)} \\sigma^{2}{\\left({\\psi}_{n},g_{2},g_{3} \\right)}}$"
      ],
      "text/plain": [
       "Eq(pw(z, g2, g3) - pw(psi[n], g2, g3), sigma(-z + psi[n], g2, g3)*sigma(z + psi[n], g2, g3)/(sigma(z, g2, g3)**2*sigma(psi[n], g2, g3)**2))"
      ]
     },
     "execution_count": 159,
     "metadata": {},
     "output_type": "execute_result"
    }
   ],
   "source": [
    "sigma_p_identity.subs([(y,z),(x,psi[n])])"
   ]
  },
  {
   "cell_type": "code",
   "execution_count": 160,
   "metadata": {},
   "outputs": [
    {
     "data": {
      "text/latex": [
       "$\\displaystyle Q{\\left(N,\\operatorname{pw}{\\left(z,g_{2},g_{3} \\right)} \\right)} = \\beta \\prod_{n=1}^{\\left\\lfloor{\\frac{N}{2}}\\right\\rfloor - 1} \\frac{\\sigma{\\left(- z + {\\psi}_{n},g_{2},g_{3} \\right)} \\sigma{\\left(z + {\\psi}_{n},g_{2},g_{3} \\right)}}{\\sigma^{2}{\\left(z,g_{2},g_{3} \\right)} \\sigma^{2}{\\left({\\psi}_{n},g_{2},g_{3} \\right)}}$"
      ],
      "text/plain": [
       "Eq(Q(N, pw(z, g2, g3)), beta*Product(sigma(-z + psi[n], g2, g3)*sigma(z + psi[n], g2, g3)/(sigma(z, g2, g3)**2*sigma(psi[n], g2, g3)**2), (n, 1, floor(N/2) - 1)))"
      ]
     },
     "execution_count": 160,
     "metadata": {},
     "output_type": "execute_result"
    }
   ],
   "source": [
    "QN_sigma_beta = Eq(Q(N,pw(z,g2,g3)),\n",
    "                   beta*Product(\n",
    "                       (pw(z,g2,g3) - pw(psi[n],g2,g3)).subs(*sigma_p_identity.subs([(y,z),(x,psi[n])]).args),\n",
    "                       (n,1,floor(N/2)-1))\n",
    "                  )\n",
    "QN_sigma_beta"
   ]
  },
  {
   "cell_type": "code",
   "execution_count": 161,
   "metadata": {
    "scrolled": true
   },
   "outputs": [
    {
     "data": {
      "text/latex": [
       "$\\displaystyle \\left(-1\\right)^{1 - N} \\prod_{l=0}^{N} \\frac{\\sigma{\\left(z - {\\xi}_{l},g_{2},g_{3} \\right)}}{\\sigma{\\left(z,g_{2},g_{3} \\right)} \\sigma{\\left({\\xi}_{l},g_{2},g_{3} \\right)}} - \\left(-1\\right)^{N + 1} \\prod_{l=0}^{N} \\frac{\\sigma{\\left(z + {\\xi}_{l},g_{2},g_{3} \\right)}}{\\sigma{\\left(z,g_{2},g_{3} \\right)} \\sigma{\\left({\\xi}_{l},g_{2},g_{3} \\right)}} = 2 \\operatorname{pwp}{\\left(z,g_{2},g_{3} \\right)} \\beta \\prod_{n=1}^{\\left\\lfloor{\\frac{N}{2}}\\right\\rfloor - 1} \\frac{\\sigma{\\left(- z + {\\psi}_{n},g_{2},g_{3} \\right)} \\sigma{\\left(z + {\\psi}_{n},g_{2},g_{3} \\right)}}{\\sigma^{2}{\\left(z,g_{2},g_{3} \\right)} \\sigma^{2}{\\left({\\psi}_{n},g_{2},g_{3} \\right)}}$"
      ],
      "text/plain": [
       "Eq((-1)**(1 - N)*Product(sigma(z - xi[l], g2, g3)/(sigma(z, g2, g3)*sigma(xi[l], g2, g3)), (l, 0, N)) - (-1)**(N + 1)*Product(sigma(z + xi[l], g2, g3)/(sigma(z, g2, g3)*sigma(xi[l], g2, g3)), (l, 0, N)), 2*pwp(z, g2, g3)*beta*Product(sigma(-z + psi[n], g2, g3)*sigma(z + psi[n], g2, g3)/(sigma(z, g2, g3)**2*sigma(psi[n], g2, g3)**2), (n, 1, floor(N/2) - 1)))"
      ]
     },
     "execution_count": 161,
     "metadata": {},
     "output_type": "execute_result"
    }
   ],
   "source": [
    "sigma_sum_product_beta = Q_sigma_product_pwp.subs(*QN_sigma_beta.args)\n",
    "sigma_sum_product_beta"
   ]
  },
  {
   "cell_type": "markdown",
   "metadata": {},
   "source": [
    "### $N=2M-1$ case (N odd)"
   ]
  },
  {
   "cell_type": "code",
   "execution_count": 162,
   "metadata": {},
   "outputs": [
    {
     "data": {
      "text/latex": [
       "$\\displaystyle \\prod_{l=0}^{2 M - 1} \\frac{\\sigma{\\left(z - {\\xi}_{l},g_{2},g_{3} \\right)}}{\\sigma{\\left(z,g_{2},g_{3} \\right)} \\sigma{\\left({\\xi}_{l},g_{2},g_{3} \\right)}} - \\prod_{l=0}^{2 M - 1} \\frac{\\sigma{\\left(z + {\\xi}_{l},g_{2},g_{3} \\right)}}{\\sigma{\\left(z,g_{2},g_{3} \\right)} \\sigma{\\left({\\xi}_{l},g_{2},g_{3} \\right)}} = 2 \\operatorname{pwp}{\\left(z,g_{2},g_{3} \\right)} \\beta \\prod_{n=1}^{M - 2} \\frac{\\sigma{\\left(- z + {\\psi}_{n},g_{2},g_{3} \\right)} \\sigma{\\left(z + {\\psi}_{n},g_{2},g_{3} \\right)}}{\\sigma^{2}{\\left(z,g_{2},g_{3} \\right)} \\sigma^{2}{\\left({\\psi}_{n},g_{2},g_{3} \\right)}}$"
      ],
      "text/plain": [
       "Eq(Product(sigma(z - xi[l], g2, g3)/(sigma(z, g2, g3)*sigma(xi[l], g2, g3)), (l, 0, 2*M - 1)) - Product(sigma(z + xi[l], g2, g3)/(sigma(z, g2, g3)*sigma(xi[l], g2, g3)), (l, 0, 2*M - 1)), 2*pwp(z, g2, g3)*beta*Product(sigma(-z + psi[n], g2, g3)*sigma(z + psi[n], g2, g3)/(sigma(z, g2, g3)**2*sigma(psi[n], g2, g3)**2), (n, 1, M - 2)))"
      ]
     },
     "execution_count": 162,
     "metadata": {},
     "output_type": "execute_result"
    }
   ],
   "source": [
    "N_2M_min_1_beta = sigma_sum_product_beta.subs(N,2*M-1).subs([((-1)**(2*M),1),(floor(M-Rational(1,2)),M-1)])\n",
    "N_2M_min_1_beta"
   ]
  },
  {
   "cell_type": "code",
   "execution_count": 163,
   "metadata": {},
   "outputs": [
    {
     "data": {
      "text/latex": [
       "$\\displaystyle \\prod_{l=0}^{2 M - 1} \\sigma{\\left(z,g_{2},g_{3} \\right)} = \\sigma^{2 M}{\\left(z,g_{2},g_{3} \\right)}$"
      ],
      "text/plain": [
       "Eq(Product(sigma(z, g2, g3), (l, 0, 2*M - 1)), sigma(z, g2, g3)**(2*M))"
      ]
     },
     "execution_count": 163,
     "metadata": {},
     "output_type": "execute_result"
    }
   ],
   "source": [
    "Eq(Product(sigma(z,g2,g3),(l,0,2*M-1)), Product(sigma(z,g2,g3),(l,0,2*M-1)).doit())"
   ]
  },
  {
   "cell_type": "code",
   "execution_count": 164,
   "metadata": {},
   "outputs": [
    {
     "data": {
      "text/latex": [
       "$\\displaystyle \\prod_{n=1}^{M - 2} \\sigma^{2}{\\left(z,g_{2},g_{3} \\right)} = \\left(\\sigma^{2}{\\left(z,g_{2},g_{3} \\right)}\\right)^{M - 2}$"
      ],
      "text/plain": [
       "Eq(Product(sigma(z, g2, g3)**2, (n, 1, M - 2)), (sigma(z, g2, g3)**2)**(M - 2))"
      ]
     },
     "execution_count": 164,
     "metadata": {},
     "output_type": "execute_result"
    }
   ],
   "source": [
    "Eq(Product(sigma(z,g2,g3)**2,(n,1,M-2)), Product(sigma(z,g2,g3)**2,(n,1,M-2)).doit().simplify())"
   ]
  },
  {
   "cell_type": "code",
   "execution_count": 165,
   "metadata": {},
   "outputs": [
    {
     "data": {
      "text/latex": [
       "$\\displaystyle \\prod_{l=0}^{2 M - 1} \\frac{\\sigma{\\left(z - {\\xi}_{l},g_{2},g_{3} \\right)}}{\\sigma{\\left({\\xi}_{l},g_{2},g_{3} \\right)}} - \\prod_{l=0}^{2 M - 1} \\frac{\\sigma{\\left(z + {\\xi}_{l},g_{2},g_{3} \\right)}}{\\sigma{\\left({\\xi}_{l},g_{2},g_{3} \\right)}} = - 2 \\sigma{\\left(2 z,g_{2},g_{3} \\right)} \\beta \\prod_{n=1}^{M - 2} \\frac{\\sigma{\\left(- z + {\\psi}_{n},g_{2},g_{3} \\right)} \\sigma{\\left(z + {\\psi}_{n},g_{2},g_{3} \\right)}}{\\sigma^{2}{\\left({\\psi}_{n},g_{2},g_{3} \\right)}}$"
      ],
      "text/plain": [
       "Eq(Product(sigma(z - xi[l], g2, g3)/sigma(xi[l], g2, g3), (l, 0, 2*M - 1)) - Product(sigma(z + xi[l], g2, g3)/sigma(xi[l], g2, g3), (l, 0, 2*M - 1)), -2*sigma(2*z, g2, g3)*beta*Product(sigma(-z + psi[n], g2, g3)*sigma(z + psi[n], g2, g3)/sigma(psi[n], g2, g3)**2, (n, 1, M - 2)))"
      ]
     },
     "execution_count": 165,
     "metadata": {},
     "output_type": "execute_result"
    }
   ],
   "source": [
    "N_2M_min_1_beta_a = Eq(N_2M_min_1_beta.lhs.subs(sigma(z,g2,g3),1), \n",
    "                       sigma(z,g2,g3)**4*N_2M_min_1_beta.rhs.subs(sigma(z,g2,g3),1)).subs(*pwp_sigma_id.args)\n",
    "N_2M_min_1_beta_a"
   ]
  },
  {
   "cell_type": "markdown",
   "metadata": {},
   "source": [
    "### $N=2M$ case (N even)"
   ]
  },
  {
   "cell_type": "code",
   "execution_count": 166,
   "metadata": {},
   "outputs": [
    {
     "data": {
      "text/latex": [
       "$\\displaystyle \\left(-1\\right)^{1 - 2 M} \\prod_{l=0}^{2 M} \\frac{\\sigma{\\left(z - {\\xi}_{l},g_{2},g_{3} \\right)}}{\\sigma{\\left(z,g_{2},g_{3} \\right)} \\sigma{\\left({\\xi}_{l},g_{2},g_{3} \\right)}} + \\prod_{l=0}^{2 M} \\frac{\\sigma{\\left(z + {\\xi}_{l},g_{2},g_{3} \\right)}}{\\sigma{\\left(z,g_{2},g_{3} \\right)} \\sigma{\\left({\\xi}_{l},g_{2},g_{3} \\right)}} = 2 \\operatorname{pwp}{\\left(z,g_{2},g_{3} \\right)} \\beta \\prod_{n=1}^{M - 1} \\frac{\\sigma{\\left(- z + {\\psi}_{n},g_{2},g_{3} \\right)} \\sigma{\\left(z + {\\psi}_{n},g_{2},g_{3} \\right)}}{\\sigma^{2}{\\left(z,g_{2},g_{3} \\right)} \\sigma^{2}{\\left({\\psi}_{n},g_{2},g_{3} \\right)}}$"
      ],
      "text/plain": [
       "Eq((-1)**(1 - 2*M)*Product(sigma(z - xi[l], g2, g3)/(sigma(z, g2, g3)*sigma(xi[l], g2, g3)), (l, 0, 2*M)) + Product(sigma(z + xi[l], g2, g3)/(sigma(z, g2, g3)*sigma(xi[l], g2, g3)), (l, 0, 2*M)), 2*pwp(z, g2, g3)*beta*Product(sigma(-z + psi[n], g2, g3)*sigma(z + psi[n], g2, g3)/(sigma(z, g2, g3)**2*sigma(psi[n], g2, g3)**2), (n, 1, M - 1)))"
      ]
     },
     "execution_count": 166,
     "metadata": {},
     "output_type": "execute_result"
    }
   ],
   "source": [
    "N_2M_beta = sigma_sum_product_beta.subs(N,2*M).subs([((-1)**(2*M+1),-1),(floor(M),M)])\n",
    "N_2M_beta"
   ]
  },
  {
   "cell_type": "code",
   "execution_count": 167,
   "metadata": {},
   "outputs": [
    {
     "data": {
      "text/latex": [
       "$\\displaystyle \\prod_{l=0}^{2 M} \\sigma{\\left(z,g_{2},g_{3} \\right)} = \\sigma^{2 M + 1}{\\left(z,g_{2},g_{3} \\right)}$"
      ],
      "text/plain": [
       "Eq(Product(sigma(z, g2, g3), (l, 0, 2*M)), sigma(z, g2, g3)**(2*M + 1))"
      ]
     },
     "execution_count": 167,
     "metadata": {},
     "output_type": "execute_result"
    }
   ],
   "source": [
    "Eq(Product(sigma(z,g2,g3),(l,0,2*M)), Product(sigma(z,g2,g3),(l,0,2*M)).doit())"
   ]
  },
  {
   "cell_type": "code",
   "execution_count": 168,
   "metadata": {},
   "outputs": [
    {
     "data": {
      "text/latex": [
       "$\\displaystyle \\prod_{n=1}^{M - 1} \\sigma^{2}{\\left(z,g_{2},g_{3} \\right)} = \\left(\\sigma^{2}{\\left(z,g_{2},g_{3} \\right)}\\right)^{M - 1}$"
      ],
      "text/plain": [
       "Eq(Product(sigma(z, g2, g3)**2, (n, 1, M - 1)), (sigma(z, g2, g3)**2)**(M - 1))"
      ]
     },
     "execution_count": 168,
     "metadata": {},
     "output_type": "execute_result"
    }
   ],
   "source": [
    "Eq(Product(sigma(z,g2,g3)**2,(n,1,M-1)), Product(sigma(z,g2,g3)**2,(n,1,M-1)).doit().simplify())"
   ]
  },
  {
   "cell_type": "code",
   "execution_count": 169,
   "metadata": {},
   "outputs": [
    {
     "data": {
      "text/latex": [
       "$\\displaystyle \\left(-1\\right)^{1 - 2 M} \\prod_{l=0}^{2 M} \\frac{\\sigma{\\left(z - {\\xi}_{l},g_{2},g_{3} \\right)}}{\\sigma{\\left({\\xi}_{l},g_{2},g_{3} \\right)}} + \\prod_{l=0}^{2 M} \\frac{\\sigma{\\left(z + {\\xi}_{l},g_{2},g_{3} \\right)}}{\\sigma{\\left({\\xi}_{l},g_{2},g_{3} \\right)}} = - \\frac{2 \\sigma{\\left(2 z,g_{2},g_{3} \\right)} \\beta \\prod_{n=1}^{M - 1} \\frac{\\sigma{\\left(- z + {\\psi}_{n},g_{2},g_{3} \\right)} \\sigma{\\left(z + {\\psi}_{n},g_{2},g_{3} \\right)}}{\\sigma^{2}{\\left({\\psi}_{n},g_{2},g_{3} \\right)}}}{\\sigma{\\left(z,g_{2},g_{3} \\right)}}$"
      ],
      "text/plain": [
       "Eq((-1)**(1 - 2*M)*Product(sigma(z - xi[l], g2, g3)/sigma(xi[l], g2, g3), (l, 0, 2*M)) + Product(sigma(z + xi[l], g2, g3)/sigma(xi[l], g2, g3), (l, 0, 2*M)), -2*sigma(2*z, g2, g3)*beta*Product(sigma(-z + psi[n], g2, g3)*sigma(z + psi[n], g2, g3)/sigma(psi[n], g2, g3)**2, (n, 1, M - 1))/sigma(z, g2, g3))"
      ]
     },
     "execution_count": 169,
     "metadata": {},
     "output_type": "execute_result"
    }
   ],
   "source": [
    "Eq(N_2M_beta.subs(sigma(z,g2,g3),1).lhs,N_2M_beta.subs(sigma(z,g2,g3),1).rhs*sigma(z,g2,g3)**3).subs(*pwp_sigma_id.args)"
   ]
  },
  {
   "cell_type": "code",
   "execution_count": 170,
   "metadata": {},
   "outputs": [
    {
     "data": {
      "text/latex": [
       "$\\displaystyle \\left(-1\\right)^{1 - 2 M} \\prod_{l=0}^{2 M} \\frac{\\sigma{\\left(- {\\xi}_{l},g_{2},g_{3} \\right)}}{\\sigma{\\left({\\xi}_{l},g_{2},g_{3} \\right)}} + \\prod_{l=0}^{2 M} 1 = - 4 \\beta \\prod_{n=1}^{M - 1} 1$"
      ],
      "text/plain": [
       "Eq((-1)**(1 - 2*M)*Product(sigma(-xi[l], g2, g3)/sigma(xi[l], g2, g3), (l, 0, 2*M)) + Product(1, (l, 0, 2*M)), -4*beta*Product(1, (n, 1, M - 1)))"
      ]
     },
     "execution_count": 170,
     "metadata": {},
     "output_type": "execute_result"
    }
   ],
   "source": [
    "Eq(N_2M_beta.subs(sigma(z,g2,g3),1).lhs,\n",
    "   N_2M_beta.subs(sigma(z,g2,g3),1).rhs*sigma(z,g2,g3)**3\n",
    "  ).subs(*pwp_sigma_id.args).subs(sigma(2*z,g2,g3),2*sigma(z,g2,g3)).subs(z,0)"
   ]
  },
  {
   "cell_type": "code",
   "execution_count": 171,
   "metadata": {},
   "outputs": [
    {
     "data": {
      "text/latex": [
       "$\\displaystyle \\beta = - \\frac{1}{4} + \\frac{\\left(-1\\right)^{- 2 M} \\prod_{l=0}^{2 M} \\frac{\\sigma{\\left(- {\\xi}_{l},g_{2},g_{3} \\right)}}{\\sigma{\\left({\\xi}_{l},g_{2},g_{3} \\right)}}}{4}$"
      ],
      "text/plain": [
       "Eq(beta, -1/4 + (-1)**(-2*M)*Product(sigma(-xi[l], g2, g3)/sigma(xi[l], g2, g3), (l, 0, 2*M))/4)"
      ]
     },
     "execution_count": 171,
     "metadata": {},
     "output_type": "execute_result"
    }
   ],
   "source": [
    "N_2M_beta_val = Eq(beta, solve(Eq(N_2M_beta.subs(sigma(z,g2,g3),1).lhs,\n",
    "   N_2M_beta.subs(sigma(z,g2,g3),1).rhs*sigma(z,g2,g3)**3\n",
    "  ).subs(*pwp_sigma_id.args).subs(sigma(2*z,g2,g3),2*sigma(z,g2,g3)).subs(z,0).doit(),beta)[0])\n",
    "N_2M_beta_val"
   ]
  },
  {
   "cell_type": "code",
   "execution_count": 172,
   "metadata": {
    "scrolled": true
   },
   "outputs": [
    {
     "data": {
      "text/latex": [
       "$\\displaystyle \\left(-1\\right)^{1 - 2 M} \\prod_{l=0}^{2 M} \\frac{\\sigma{\\left(z - {\\xi}_{l},g_{2},g_{3} \\right)}}{\\sigma{\\left(z,g_{2},g_{3} \\right)} \\sigma{\\left({\\xi}_{l},g_{2},g_{3} \\right)}} + \\prod_{l=0}^{2 M} \\frac{\\sigma{\\left(z + {\\xi}_{l},g_{2},g_{3} \\right)}}{\\sigma{\\left(z,g_{2},g_{3} \\right)} \\sigma{\\left({\\xi}_{l},g_{2},g_{3} \\right)}} = 2 \\left(- \\frac{1}{4} + \\frac{\\left(-1\\right)^{- 2 M} \\prod_{l=0}^{2 M} \\frac{\\sigma{\\left(- {\\xi}_{l},g_{2},g_{3} \\right)}}{\\sigma{\\left({\\xi}_{l},g_{2},g_{3} \\right)}}}{4}\\right) \\operatorname{pwp}{\\left(z,g_{2},g_{3} \\right)} \\prod_{n=1}^{M - 1} \\frac{\\sigma{\\left(- z + {\\psi}_{n},g_{2},g_{3} \\right)} \\sigma{\\left(z + {\\psi}_{n},g_{2},g_{3} \\right)}}{\\sigma^{2}{\\left(z,g_{2},g_{3} \\right)} \\sigma^{2}{\\left({\\psi}_{n},g_{2},g_{3} \\right)}}$"
      ],
      "text/plain": [
       "Eq((-1)**(1 - 2*M)*Product(sigma(z - xi[l], g2, g3)/(sigma(z, g2, g3)*sigma(xi[l], g2, g3)), (l, 0, 2*M)) + Product(sigma(z + xi[l], g2, g3)/(sigma(z, g2, g3)*sigma(xi[l], g2, g3)), (l, 0, 2*M)), 2*(-1/4 + (-1)**(-2*M)*Product(sigma(-xi[l], g2, g3)/sigma(xi[l], g2, g3), (l, 0, 2*M))/4)*pwp(z, g2, g3)*Product(sigma(-z + psi[n], g2, g3)*sigma(z + psi[n], g2, g3)/(sigma(z, g2, g3)**2*sigma(psi[n], g2, g3)**2), (n, 1, M - 1)))"
      ]
     },
     "execution_count": 172,
     "metadata": {},
     "output_type": "execute_result"
    }
   ],
   "source": [
    "N_2M_sigma_pwp = N_2M_beta.subs(*N_2M_beta_val.args)\n",
    "N_2M_sigma_pwp"
   ]
  },
  {
   "cell_type": "code",
   "execution_count": 173,
   "metadata": {},
   "outputs": [
    {
     "data": {
      "text/latex": [
       "$\\displaystyle \\operatorname{pwp}{\\left(z,g_{2},g_{3} \\right)} = - \\frac{2 \\left(-1\\right)^{2 M} \\prod_{l=0}^{2 M} \\frac{\\sigma{\\left(z + {\\xi}_{l},g_{2},g_{3} \\right)}}{\\sigma{\\left(z,g_{2},g_{3} \\right)} \\sigma{\\left({\\xi}_{l},g_{2},g_{3} \\right)}}}{\\left(-1\\right)^{2 M} \\prod_{n=1}^{M - 1} \\frac{\\sigma{\\left(- z + {\\psi}_{n},g_{2},g_{3} \\right)} \\sigma{\\left(z + {\\psi}_{n},g_{2},g_{3} \\right)}}{\\sigma^{2}{\\left(z,g_{2},g_{3} \\right)} \\sigma^{2}{\\left({\\psi}_{n},g_{2},g_{3} \\right)}} - \\left(\\prod_{l=0}^{2 M} \\frac{\\sigma{\\left(- {\\xi}_{l},g_{2},g_{3} \\right)}}{\\sigma{\\left({\\xi}_{l},g_{2},g_{3} \\right)}}\\right) \\prod_{n=1}^{M - 1} \\frac{\\sigma{\\left(- z + {\\psi}_{n},g_{2},g_{3} \\right)} \\sigma{\\left(z + {\\psi}_{n},g_{2},g_{3} \\right)}}{\\sigma^{2}{\\left(z,g_{2},g_{3} \\right)} \\sigma^{2}{\\left({\\psi}_{n},g_{2},g_{3} \\right)}}} + \\frac{2 \\prod_{l=0}^{2 M} \\frac{\\sigma{\\left(z - {\\xi}_{l},g_{2},g_{3} \\right)}}{\\sigma{\\left(z,g_{2},g_{3} \\right)} \\sigma{\\left({\\xi}_{l},g_{2},g_{3} \\right)}}}{\\left(-1\\right)^{2 M} \\prod_{n=1}^{M - 1} \\frac{\\sigma{\\left(- z + {\\psi}_{n},g_{2},g_{3} \\right)} \\sigma{\\left(z + {\\psi}_{n},g_{2},g_{3} \\right)}}{\\sigma^{2}{\\left(z,g_{2},g_{3} \\right)} \\sigma^{2}{\\left({\\psi}_{n},g_{2},g_{3} \\right)}} - \\left(\\prod_{l=0}^{2 M} \\frac{\\sigma{\\left(- {\\xi}_{l},g_{2},g_{3} \\right)}}{\\sigma{\\left({\\xi}_{l},g_{2},g_{3} \\right)}}\\right) \\prod_{n=1}^{M - 1} \\frac{\\sigma{\\left(- z + {\\psi}_{n},g_{2},g_{3} \\right)} \\sigma{\\left(z + {\\psi}_{n},g_{2},g_{3} \\right)}}{\\sigma^{2}{\\left(z,g_{2},g_{3} \\right)} \\sigma^{2}{\\left({\\psi}_{n},g_{2},g_{3} \\right)}}}$"
      ],
      "text/plain": [
       "Eq(pwp(z, g2, g3), -2*(-1)**(2*M)*Product(sigma(z + xi[l], g2, g3)/(sigma(z, g2, g3)*sigma(xi[l], g2, g3)), (l, 0, 2*M))/((-1)**(2*M)*Product(sigma(-z + psi[n], g2, g3)*sigma(z + psi[n], g2, g3)/(sigma(z, g2, g3)**2*sigma(psi[n], g2, g3)**2), (n, 1, M - 1)) - Product(sigma(-xi[l], g2, g3)/sigma(xi[l], g2, g3), (l, 0, 2*M))*Product(sigma(-z + psi[n], g2, g3)*sigma(z + psi[n], g2, g3)/(sigma(z, g2, g3)**2*sigma(psi[n], g2, g3)**2), (n, 1, M - 1))) + 2*Product(sigma(z - xi[l], g2, g3)/(sigma(z, g2, g3)*sigma(xi[l], g2, g3)), (l, 0, 2*M))/((-1)**(2*M)*Product(sigma(-z + psi[n], g2, g3)*sigma(z + psi[n], g2, g3)/(sigma(z, g2, g3)**2*sigma(psi[n], g2, g3)**2), (n, 1, M - 1)) - Product(sigma(-xi[l], g2, g3)/sigma(xi[l], g2, g3), (l, 0, 2*M))*Product(sigma(-z + psi[n], g2, g3)*sigma(z + psi[n], g2, g3)/(sigma(z, g2, g3)**2*sigma(psi[n], g2, g3)**2), (n, 1, M - 1))))"
      ]
     },
     "execution_count": 173,
     "metadata": {},
     "output_type": "execute_result"
    }
   ],
   "source": [
    "pwp_sigma_2M_product = Eq(pwp(z,g2,g3), solve(N_2M_sigma_pwp, pwp(z,g2,g3))[0]).expand()\n",
    "pwp_sigma_2M_product"
   ]
  },
  {
   "cell_type": "code",
   "execution_count": 174,
   "metadata": {},
   "outputs": [
    {
     "data": {
      "text/latex": [
       "$\\displaystyle \\operatorname{pwp}{\\left(z,g_{2},g_{3} \\right)} = \\frac{2 \\sigma{\\left(- z + {\\psi}_{1},g_{2},g_{3} \\right)} \\sigma{\\left(- z + {\\psi}_{2},g_{2},g_{3} \\right)} \\sigma{\\left(- z + {\\psi}_{3},g_{2},g_{3} \\right)} \\sigma{\\left(z + {\\psi}_{1},g_{2},g_{3} \\right)} \\sigma{\\left(z + {\\psi}_{2},g_{2},g_{3} \\right)} \\sigma{\\left(z + {\\psi}_{3},g_{2},g_{3} \\right)} \\sigma{\\left(z - {\\xi}_{6},g_{2},g_{3} \\right)} \\sigma{\\left(z - {\\xi}_{7},g_{2},g_{3} \\right)} \\sigma{\\left(z - {\\xi}_{8},g_{2},g_{3} \\right)}}{\\left(- \\frac{\\sigma{\\left(- z + {\\psi}_{1},g_{2},g_{3} \\right)} \\sigma{\\left(- z + {\\psi}_{2},g_{2},g_{3} \\right)} \\sigma{\\left(- z + {\\psi}_{3},g_{2},g_{3} \\right)} \\sigma{\\left(z + {\\psi}_{1},g_{2},g_{3} \\right)} \\sigma{\\left(z + {\\psi}_{2},g_{2},g_{3} \\right)} \\sigma{\\left(z + {\\psi}_{3},g_{2},g_{3} \\right)} \\sigma{\\left(- {\\xi}_{6},g_{2},g_{3} \\right)} \\sigma{\\left(- {\\xi}_{7},g_{2},g_{3} \\right)} \\sigma{\\left(- {\\xi}_{8},g_{2},g_{3} \\right)}}{\\sigma^{6}{\\left(z,g_{2},g_{3} \\right)} \\sigma^{2}{\\left({\\psi}_{1},g_{2},g_{3} \\right)} \\sigma^{2}{\\left({\\psi}_{2},g_{2},g_{3} \\right)} \\sigma^{2}{\\left({\\psi}_{3},g_{2},g_{3} \\right)} \\sigma{\\left({\\xi}_{6},g_{2},g_{3} \\right)} \\sigma{\\left({\\xi}_{7},g_{2},g_{3} \\right)} \\sigma{\\left({\\xi}_{8},g_{2},g_{3} \\right)}} + \\frac{\\sigma{\\left(- z + {\\psi}_{1},g_{2},g_{3} \\right)} \\sigma{\\left(- z + {\\psi}_{2},g_{2},g_{3} \\right)} \\sigma{\\left(- z + {\\psi}_{3},g_{2},g_{3} \\right)} \\sigma{\\left(z + {\\psi}_{1},g_{2},g_{3} \\right)} \\sigma{\\left(z + {\\psi}_{2},g_{2},g_{3} \\right)} \\sigma{\\left(z + {\\psi}_{3},g_{2},g_{3} \\right)}}{\\sigma^{6}{\\left(z,g_{2},g_{3} \\right)} \\sigma^{2}{\\left({\\psi}_{1},g_{2},g_{3} \\right)} \\sigma^{2}{\\left({\\psi}_{2},g_{2},g_{3} \\right)} \\sigma^{2}{\\left({\\psi}_{3},g_{2},g_{3} \\right)}}\\right) \\sigma^{9}{\\left(z,g_{2},g_{3} \\right)} \\sigma^{2}{\\left({\\psi}_{1},g_{2},g_{3} \\right)} \\sigma^{2}{\\left({\\psi}_{2},g_{2},g_{3} \\right)} \\sigma^{2}{\\left({\\psi}_{3},g_{2},g_{3} \\right)} \\sigma{\\left({\\xi}_{6},g_{2},g_{3} \\right)} \\sigma{\\left({\\xi}_{7},g_{2},g_{3} \\right)} \\sigma{\\left({\\xi}_{8},g_{2},g_{3} \\right)}} - \\frac{2 \\sigma{\\left(- z + {\\psi}_{1},g_{2},g_{3} \\right)} \\sigma{\\left(- z + {\\psi}_{2},g_{2},g_{3} \\right)} \\sigma{\\left(- z + {\\psi}_{3},g_{2},g_{3} \\right)} \\sigma{\\left(z + {\\psi}_{1},g_{2},g_{3} \\right)} \\sigma{\\left(z + {\\psi}_{2},g_{2},g_{3} \\right)} \\sigma{\\left(z + {\\psi}_{3},g_{2},g_{3} \\right)} \\sigma{\\left(z + {\\xi}_{6},g_{2},g_{3} \\right)} \\sigma{\\left(z + {\\xi}_{7},g_{2},g_{3} \\right)} \\sigma{\\left(z + {\\xi}_{8},g_{2},g_{3} \\right)}}{\\left(- \\frac{\\sigma{\\left(- z + {\\psi}_{1},g_{2},g_{3} \\right)} \\sigma{\\left(- z + {\\psi}_{2},g_{2},g_{3} \\right)} \\sigma{\\left(- z + {\\psi}_{3},g_{2},g_{3} \\right)} \\sigma{\\left(z + {\\psi}_{1},g_{2},g_{3} \\right)} \\sigma{\\left(z + {\\psi}_{2},g_{2},g_{3} \\right)} \\sigma{\\left(z + {\\psi}_{3},g_{2},g_{3} \\right)} \\sigma{\\left(- {\\xi}_{6},g_{2},g_{3} \\right)} \\sigma{\\left(- {\\xi}_{7},g_{2},g_{3} \\right)} \\sigma{\\left(- {\\xi}_{8},g_{2},g_{3} \\right)}}{\\sigma^{6}{\\left(z,g_{2},g_{3} \\right)} \\sigma^{2}{\\left({\\psi}_{1},g_{2},g_{3} \\right)} \\sigma^{2}{\\left({\\psi}_{2},g_{2},g_{3} \\right)} \\sigma^{2}{\\left({\\psi}_{3},g_{2},g_{3} \\right)} \\sigma{\\left({\\xi}_{6},g_{2},g_{3} \\right)} \\sigma{\\left({\\xi}_{7},g_{2},g_{3} \\right)} \\sigma{\\left({\\xi}_{8},g_{2},g_{3} \\right)}} + \\frac{\\sigma{\\left(- z + {\\psi}_{1},g_{2},g_{3} \\right)} \\sigma{\\left(- z + {\\psi}_{2},g_{2},g_{3} \\right)} \\sigma{\\left(- z + {\\psi}_{3},g_{2},g_{3} \\right)} \\sigma{\\left(z + {\\psi}_{1},g_{2},g_{3} \\right)} \\sigma{\\left(z + {\\psi}_{2},g_{2},g_{3} \\right)} \\sigma{\\left(z + {\\psi}_{3},g_{2},g_{3} \\right)}}{\\sigma^{6}{\\left(z,g_{2},g_{3} \\right)} \\sigma^{2}{\\left({\\psi}_{1},g_{2},g_{3} \\right)} \\sigma^{2}{\\left({\\psi}_{2},g_{2},g_{3} \\right)} \\sigma^{2}{\\left({\\psi}_{3},g_{2},g_{3} \\right)}}\\right) \\sigma^{9}{\\left(z,g_{2},g_{3} \\right)} \\sigma^{2}{\\left({\\psi}_{1},g_{2},g_{3} \\right)} \\sigma^{2}{\\left({\\psi}_{2},g_{2},g_{3} \\right)} \\sigma^{2}{\\left({\\psi}_{3},g_{2},g_{3} \\right)} \\sigma{\\left({\\xi}_{6},g_{2},g_{3} \\right)} \\sigma{\\left({\\xi}_{7},g_{2},g_{3} \\right)} \\sigma{\\left({\\xi}_{8},g_{2},g_{3} \\right)}}$"
      ],
      "text/plain": [
       "Eq(pwp(z, g2, g3), 2*sigma(-z + psi[1], g2, g3)*sigma(-z + psi[2], g2, g3)*sigma(-z + psi[3], g2, g3)*sigma(z + psi[1], g2, g3)*sigma(z + psi[2], g2, g3)*sigma(z + psi[3], g2, g3)*sigma(z - xi[6], g2, g3)*sigma(z - xi[7], g2, g3)*sigma(z - xi[8], g2, g3)/((-sigma(-z + psi[1], g2, g3)*sigma(-z + psi[2], g2, g3)*sigma(-z + psi[3], g2, g3)*sigma(z + psi[1], g2, g3)*sigma(z + psi[2], g2, g3)*sigma(z + psi[3], g2, g3)*sigma(-xi[6], g2, g3)*sigma(-xi[7], g2, g3)*sigma(-xi[8], g2, g3)/(sigma(z, g2, g3)**6*sigma(psi[1], g2, g3)**2*sigma(psi[2], g2, g3)**2*sigma(psi[3], g2, g3)**2*sigma(xi[6], g2, g3)*sigma(xi[7], g2, g3)*sigma(xi[8], g2, g3)) + sigma(-z + psi[1], g2, g3)*sigma(-z + psi[2], g2, g3)*sigma(-z + psi[3], g2, g3)*sigma(z + psi[1], g2, g3)*sigma(z + psi[2], g2, g3)*sigma(z + psi[3], g2, g3)/(sigma(z, g2, g3)**6*sigma(psi[1], g2, g3)**2*sigma(psi[2], g2, g3)**2*sigma(psi[3], g2, g3)**2))*sigma(z, g2, g3)**9*sigma(psi[1], g2, g3)**2*sigma(psi[2], g2, g3)**2*sigma(psi[3], g2, g3)**2*sigma(xi[6], g2, g3)*sigma(xi[7], g2, g3)*sigma(xi[8], g2, g3)) - 2*sigma(-z + psi[1], g2, g3)*sigma(-z + psi[2], g2, g3)*sigma(-z + psi[3], g2, g3)*sigma(z + psi[1], g2, g3)*sigma(z + psi[2], g2, g3)*sigma(z + psi[3], g2, g3)*sigma(z + xi[6], g2, g3)*sigma(z + xi[7], g2, g3)*sigma(z + xi[8], g2, g3)/((-sigma(-z + psi[1], g2, g3)*sigma(-z + psi[2], g2, g3)*sigma(-z + psi[3], g2, g3)*sigma(z + psi[1], g2, g3)*sigma(z + psi[2], g2, g3)*sigma(z + psi[3], g2, g3)*sigma(-xi[6], g2, g3)*sigma(-xi[7], g2, g3)*sigma(-xi[8], g2, g3)/(sigma(z, g2, g3)**6*sigma(psi[1], g2, g3)**2*sigma(psi[2], g2, g3)**2*sigma(psi[3], g2, g3)**2*sigma(xi[6], g2, g3)*sigma(xi[7], g2, g3)*sigma(xi[8], g2, g3)) + sigma(-z + psi[1], g2, g3)*sigma(-z + psi[2], g2, g3)*sigma(-z + psi[3], g2, g3)*sigma(z + psi[1], g2, g3)*sigma(z + psi[2], g2, g3)*sigma(z + psi[3], g2, g3)/(sigma(z, g2, g3)**6*sigma(psi[1], g2, g3)**2*sigma(psi[2], g2, g3)**2*sigma(psi[3], g2, g3)**2))*sigma(z, g2, g3)**9*sigma(psi[1], g2, g3)**2*sigma(psi[2], g2, g3)**2*sigma(psi[3], g2, g3)**2*sigma(xi[6], g2, g3)*sigma(xi[7], g2, g3)*sigma(xi[8], g2, g3)))"
      ]
     },
     "execution_count": 174,
     "metadata": {},
     "output_type": "execute_result"
    }
   ],
   "source": [
    "pwp_sigma_2M_product.subs(M,4).doit().subs([\n",
    "    (xi[0],psi[1]),(xi[1],psi[2]),(xi[2],psi[3]),\n",
    "    (xi[3],-psi[1]),(xi[4],-psi[2]),(xi[5],-psi[3]),\n",
    "]).subs([\n",
    "    (sigma(-z-psi[1],g2,g3), -sigma(z+psi[1],g2,g3)), (sigma(z-psi[1],g2,g3), -sigma(-z+psi[1],g2,g3)),\n",
    "    (sigma(-z-psi[2],g2,g3), -sigma(z+psi[2],g2,g3)), (sigma(z-psi[2],g2,g3), -sigma(-z+psi[2],g2,g3)),\n",
    "    (sigma(-z-psi[3],g2,g3), -sigma(z+psi[3],g2,g3)), (sigma(z-psi[3],g2,g3), -sigma(-z+psi[3],g2,g3))\n",
    "]).subs([\n",
    "    (sigma(-psi[1],g2,g3),-sigma(psi[1],g2,g3)),\n",
    "    (sigma(-psi[2],g2,g3),-sigma(psi[2],g2,g3)),\n",
    "    (sigma(-psi[3],g2,g3),-sigma(psi[3],g2,g3))\n",
    "])"
   ]
  },
  {
   "cell_type": "markdown",
   "metadata": {},
   "source": [
    "### Relating Weierstrass P Prime to $Q$ , $P$ and products of Weierstrass Sigma functions"
   ]
  },
  {
   "cell_type": "code",
   "execution_count": 175,
   "metadata": {},
   "outputs": [
    {
     "data": {
      "text/latex": [
       "$\\displaystyle 0 = P{\\left(N,\\operatorname{pw}{\\left({\\xi}_{l},g_{2},g_{3} \\right)} \\right)} + Q{\\left(N,\\operatorname{pw}{\\left({\\xi}_{l},g_{2},g_{3} \\right)} \\right)} \\operatorname{pwp}{\\left({\\xi}_{l},g_{2},g_{3} \\right)}$"
      ],
      "text/plain": [
       "Eq(0, P(N, pw(xi[l], g2, g3)) + Q(N, pw(xi[l], g2, g3))*pwp(xi[l], g2, g3))"
      ]
     },
     "execution_count": 175,
     "metadata": {},
     "output_type": "execute_result"
    }
   ],
   "source": [
    "Eq(0, P_Q_sigma_product_plus.rhs.subs(z,xi[l]))"
   ]
  },
  {
   "cell_type": "code",
   "execution_count": 176,
   "metadata": {},
   "outputs": [
    {
     "data": {
      "text/latex": [
       "$\\displaystyle \\operatorname{pwp}{\\left(z,g_{2},g_{3} \\right)} = - \\frac{P{\\left(N,\\operatorname{pw}{\\left(z,g_{2},g_{3} \\right)} \\right)}}{Q{\\left(N,\\operatorname{pw}{\\left(z,g_{2},g_{3} \\right)} \\right)}} - \\frac{\\left(-1\\right)^{- N} \\prod_{l=0}^{N} \\frac{\\sigma{\\left(z - {\\xi}_{l},g_{2},g_{3} \\right)}}{\\sigma{\\left(z,g_{2},g_{3} \\right)} \\sigma{\\left({\\xi}_{l},g_{2},g_{3} \\right)}}}{Q{\\left(N,\\operatorname{pw}{\\left(z,g_{2},g_{3} \\right)} \\right)}}$"
      ],
      "text/plain": [
       "Eq(pwp(z, g2, g3), -P(N, pw(z, g2, g3))/Q(N, pw(z, g2, g3)) - (-1)**(-N)*Product(sigma(z - xi[l], g2, g3)/(sigma(z, g2, g3)*sigma(xi[l], g2, g3)), (l, 0, N))/Q(N, pw(z, g2, g3)))"
      ]
     },
     "execution_count": 176,
     "metadata": {},
     "output_type": "execute_result"
    }
   ],
   "source": [
    "pwp_P_Q_sigma = arrange_for(P_Q_sigma_product_plus, pwp(z,g2,g3))\n",
    "pwp_P_Q_sigma"
   ]
  },
  {
   "cell_type": "code",
   "execution_count": 177,
   "metadata": {},
   "outputs": [
    {
     "data": {
      "text/latex": [
       "$\\displaystyle \\operatorname{pwp}{\\left(z,g_{2},g_{3} \\right)} = \\frac{\\left(-1\\right)^{N} \\prod_{l=0}^{N} \\frac{\\sigma{\\left(z + {\\xi}_{l},g_{2},g_{3} \\right)}}{\\sigma{\\left(z,g_{2},g_{3} \\right)} \\sigma{\\left({\\xi}_{l},g_{2},g_{3} \\right)}}}{2 Q{\\left(N,\\operatorname{pw}{\\left(z,g_{2},g_{3} \\right)} \\right)}} - \\frac{\\left(-1\\right)^{- N} \\prod_{l=0}^{N} \\frac{\\sigma{\\left(z - {\\xi}_{l},g_{2},g_{3} \\right)}}{\\sigma{\\left(z,g_{2},g_{3} \\right)} \\sigma{\\left({\\xi}_{l},g_{2},g_{3} \\right)}}}{2 Q{\\left(N,\\operatorname{pw}{\\left(z,g_{2},g_{3} \\right)} \\right)}}$"
      ],
      "text/plain": [
       "Eq(pwp(z, g2, g3), (-1)**N*Product(sigma(z + xi[l], g2, g3)/(sigma(z, g2, g3)*sigma(xi[l], g2, g3)), (l, 0, N))/(2*Q(N, pw(z, g2, g3))) - (-1)**(-N)*Product(sigma(z - xi[l], g2, g3)/(sigma(z, g2, g3)*sigma(xi[l], g2, g3)), (l, 0, N))/(2*Q(N, pw(z, g2, g3))))"
      ]
     },
     "execution_count": 177,
     "metadata": {},
     "output_type": "execute_result"
    }
   ],
   "source": [
    "pwp_Q_sigma = arrange_for(Q_sigma_product_pwp, pwp(z,g2,g3))\n",
    "pwp_Q_sigma"
   ]
  },
  {
   "cell_type": "code",
   "execution_count": 178,
   "metadata": {},
   "outputs": [
    {
     "data": {
      "text/latex": [
       "$\\displaystyle \\left(\\prod_{l=0}^{N} \\frac{\\sigma{\\left(z - {\\xi}_{l},g_{2},g_{3} \\right)}}{\\sigma{\\left(z,g_{2},g_{3} \\right)} \\sigma{\\left({\\xi}_{l},g_{2},g_{3} \\right)}}\\right) \\prod_{l=0}^{N} \\frac{\\sigma{\\left(z + {\\xi}_{l},g_{2},g_{3} \\right)}}{\\sigma{\\left(z,g_{2},g_{3} \\right)} \\sigma{\\left({\\xi}_{l},g_{2},g_{3} \\right)}} = P^{2}{\\left(N,\\operatorname{pw}{\\left(z,g_{2},g_{3} \\right)} \\right)} - Q^{2}{\\left(N,\\operatorname{pw}{\\left(z,g_{2},g_{3} \\right)} \\right)} \\operatorname{pwp}^{2}{\\left(z,g_{2},g_{3} \\right)}$"
      ],
      "text/plain": [
       "Eq(Product(sigma(z - xi[l], g2, g3)/(sigma(z, g2, g3)*sigma(xi[l], g2, g3)), (l, 0, N))*Product(sigma(z + xi[l], g2, g3)/(sigma(z, g2, g3)*sigma(xi[l], g2, g3)), (l, 0, N)), P(N, pw(z, g2, g3))**2 - Q(N, pw(z, g2, g3))**2*pwp(z, g2, g3)**2)"
      ]
     },
     "execution_count": 178,
     "metadata": {},
     "output_type": "execute_result"
    }
   ],
   "source": [
    "Eq(P_Q_sigma_product_plus.lhs*P_Q_sigma_product_minus.lhs, P_Q_sigma_product_plus.rhs*P_Q_sigma_product_minus.rhs).expand()"
   ]
  },
  {
   "cell_type": "code",
   "execution_count": null,
   "metadata": {},
   "outputs": [],
   "source": []
  },
  {
   "cell_type": "markdown",
   "metadata": {},
   "source": [
    "## The definition of $\\rho(z,x)$ and $h(z,x)$"
   ]
  },
  {
   "cell_type": "markdown",
   "metadata": {},
   "source": [
    "Let the function $\\rho\\left(z,x\\right)$ be defined as:"
   ]
  },
  {
   "cell_type": "code",
   "execution_count": 179,
   "metadata": {},
   "outputs": [
    {
     "data": {
      "text/latex": [
       "$\\displaystyle \\rho{\\left(z,x \\right)} = \\frac{\\sigma{\\left(x - z,g_{2},g_{3} \\right)}}{\\sigma{\\left(x,g_{2},g_{3} \\right)} \\sigma{\\left(z,g_{2},g_{3} \\right)}}$"
      ],
      "text/plain": [
       "Eq(rho(z, x), sigma(x - z, g2, g3)/(sigma(x, g2, g3)*sigma(z, g2, g3)))"
      ]
     },
     "execution_count": 179,
     "metadata": {},
     "output_type": "execute_result"
    }
   ],
   "source": [
    "rho_def_zx = Eq(rho(x,y), sigma(-x+y,g2,g3)/sigma(x,g2,g3)/sigma(y,g2,g3)).subs(x,z).subs(y,x)\n",
    "rho_def_zx"
   ]
  },
  {
   "cell_type": "markdown",
   "metadata": {},
   "source": [
    "and the function $h(z,x)$ as:"
   ]
  },
  {
   "cell_type": "code",
   "execution_count": 180,
   "metadata": {},
   "outputs": [
    {
     "data": {
      "text/latex": [
       "$\\displaystyle \\rho{\\left(z,x \\right)} = h{\\left(z,x \\right)} e^{- z \\operatorname{zw}{\\left(x,g_{2},g_{3} \\right)}}$"
      ],
      "text/plain": [
       "Eq(rho(z, x), h(z, x)*exp(-z*zw(x, g2, g3)))"
      ]
     },
     "execution_count": 180,
     "metadata": {},
     "output_type": "execute_result"
    }
   ],
   "source": [
    "rho_h = Eq(rho(z,x), h(z,x)*exp(-zw(x,g2,g3)*z))\n",
    "rho_h"
   ]
  },
  {
   "cell_type": "code",
   "execution_count": 181,
   "metadata": {},
   "outputs": [
    {
     "data": {
      "text/latex": [
       "$\\displaystyle \\rho{\\left(z,- x \\right)} = h{\\left(z,- x \\right)} e^{z \\operatorname{zw}{\\left(x,g_{2},g_{3} \\right)}}$"
      ],
      "text/plain": [
       "Eq(rho(z, -x), h(z, -x)*exp(z*zw(x, g2, g3)))"
      ]
     },
     "execution_count": 181,
     "metadata": {},
     "output_type": "execute_result"
    }
   ],
   "source": [
    "rho_h_conj = rho_h.subs(x,-x).subs(zw(-x,g2,g3),-zw(x,g2,g3))\n",
    "rho_h_conj"
   ]
  },
  {
   "cell_type": "code",
   "execution_count": 182,
   "metadata": {},
   "outputs": [
    {
     "data": {
      "text/latex": [
       "$\\displaystyle \\rho{\\left(z,- x \\right)} \\rho{\\left(z,x \\right)} = \\frac{\\sigma{\\left(x - z,g_{2},g_{3} \\right)} \\sigma{\\left(x + z,g_{2},g_{3} \\right)}}{\\sigma^{2}{\\left(x,g_{2},g_{3} \\right)} \\sigma^{2}{\\left(z,g_{2},g_{3} \\right)}}$"
      ],
      "text/plain": [
       "Eq(rho(z, -x)*rho(z, x), sigma(x - z, g2, g3)*sigma(x + z, g2, g3)/(sigma(x, g2, g3)**2*sigma(z, g2, g3)**2))"
      ]
     },
     "execution_count": 182,
     "metadata": {},
     "output_type": "execute_result"
    }
   ],
   "source": [
    "sigma_p_rho = Eq(\n",
    "    rho_def_zx.lhs*(rho_def_zx.lhs.subs(x,-x)), \n",
    "    rho_def_zx.rhs*(rho_def_zx.rhs.subs(x,-x))\n",
    ").subs([\n",
    "    (sigma(-x,g2,g3), -sigma(x,g2,g3)),\n",
    "    (sigma(-x-z,g2,g3), -sigma(x+z,g2,g3))\n",
    "])\n",
    "sigma_p_rho"
   ]
  },
  {
   "cell_type": "code",
   "execution_count": 183,
   "metadata": {},
   "outputs": [
    {
     "data": {
      "text/latex": [
       "$\\displaystyle \\rho{\\left(z,- x \\right)} \\rho{\\left(z,x \\right)} = - \\operatorname{pw}{\\left(x,g_{2},g_{3} \\right)} + \\operatorname{pw}{\\left(z,g_{2},g_{3} \\right)}$"
      ],
      "text/plain": [
       "Eq(rho(z, -x)*rho(z, x), -pw(x, g2, g3) + pw(z, g2, g3))"
      ]
     },
     "execution_count": 183,
     "metadata": {},
     "output_type": "execute_result"
    }
   ],
   "source": [
    "rho_p_zx = sigma_p_rho.subs(sigma_p_identity.subs(y,z).rhs, sigma_p_identity.subs(y,z).lhs)\n",
    "rho_p_zx"
   ]
  },
  {
   "cell_type": "code",
   "execution_count": 184,
   "metadata": {},
   "outputs": [
    {
     "data": {
      "text/latex": [
       "$\\displaystyle h{\\left(z,- x \\right)} h{\\left(z,x \\right)} = - \\operatorname{pw}{\\left(x,g_{2},g_{3} \\right)} + \\operatorname{pw}{\\left(z,g_{2},g_{3} \\right)}$"
      ],
      "text/plain": [
       "Eq(h(z, -x)*h(z, x), -pw(x, g2, g3) + pw(z, g2, g3))"
      ]
     },
     "execution_count": 184,
     "metadata": {},
     "output_type": "execute_result"
    }
   ],
   "source": [
    "rho_p_zx.subs([rho_h.args, rho_h_conj.args])"
   ]
  },
  {
   "cell_type": "code",
   "execution_count": 185,
   "metadata": {},
   "outputs": [
    {
     "data": {
      "text/latex": [
       "$\\displaystyle \\prod_{l=0}^{N} \\frac{\\sigma{\\left(- z + {\\xi}_{l},g_{2},g_{3} \\right)}}{\\sigma{\\left(z,g_{2},g_{3} \\right)} \\sigma{\\left({\\xi}_{l},g_{2},g_{3} \\right)}} = \\prod_{l=0}^{N} \\rho{\\left(z,{\\xi}_{l} \\right)}$"
      ],
      "text/plain": [
       "Eq(Product(sigma(-z + xi[l], g2, g3)/(sigma(z, g2, g3)*sigma(xi[l], g2, g3)), (l, 0, N)), Product(rho(z, xi[l]), (l, 0, N)))"
      ]
     },
     "execution_count": 185,
     "metadata": {},
     "output_type": "execute_result"
    }
   ],
   "source": [
    "rho_z_sigma_product = Eq(Product(rho_def_zx.rhs.subs(x, xi[l]),(l,0,N)), Product(rho_def_zx.lhs.subs(x, xi[l]),(l,0,N)))\n",
    "rho_z_sigma_product"
   ]
  },
  {
   "cell_type": "code",
   "execution_count": 186,
   "metadata": {},
   "outputs": [
    {
     "data": {
      "text/latex": [
       "$\\displaystyle \\prod_{l=0}^{N} - \\frac{\\sigma{\\left(z + {\\xi}_{l},g_{2},g_{3} \\right)}}{\\sigma{\\left(z,g_{2},g_{3} \\right)} \\sigma{\\left({\\xi}_{l},g_{2},g_{3} \\right)}} = \\prod_{l=0}^{N} \\rho{\\left(- z,{\\xi}_{l} \\right)}$"
      ],
      "text/plain": [
       "Eq(Product(-sigma(z + xi[l], g2, g3)/(sigma(z, g2, g3)*sigma(xi[l], g2, g3)), (l, 0, N)), Product(rho(-z, xi[l]), (l, 0, N)))"
      ]
     },
     "execution_count": 186,
     "metadata": {},
     "output_type": "execute_result"
    }
   ],
   "source": [
    "Eq(Product(rho_def_zx.rhs.subs(z,-z).subs(sigma(-z,g2,g3),-sigma(z,g2,g3)).subs(x, xi[l]),(l,0,N)), \n",
    "   Product(rho_def_zx.lhs.subs(z,-z).subs(sigma(-z,g2,g3),-sigma(z,g2,g3)).subs(x, xi[l]),(l,0,N)))"
   ]
  },
  {
   "cell_type": "code",
   "execution_count": 187,
   "metadata": {},
   "outputs": [
    {
     "data": {
      "text/latex": [
       "$\\displaystyle \\operatorname{pwp}{\\left(z,g_{2},g_{3} \\right)} = - \\frac{P{\\left(N,\\operatorname{pw}{\\left(z,g_{2},g_{3} \\right)} \\right)}}{Q{\\left(N,\\operatorname{pw}{\\left(z,g_{2},g_{3} \\right)} \\right)}} - \\frac{\\left(-1\\right)^{- N} \\prod_{l=0}^{N} \\frac{\\sigma{\\left(z - {\\xi}_{l},g_{2},g_{3} \\right)}}{\\sigma{\\left(z,g_{2},g_{3} \\right)} \\sigma{\\left({\\xi}_{l},g_{2},g_{3} \\right)}}}{Q{\\left(N,\\operatorname{pw}{\\left(z,g_{2},g_{3} \\right)} \\right)}}$"
      ],
      "text/plain": [
       "Eq(pwp(z, g2, g3), -P(N, pw(z, g2, g3))/Q(N, pw(z, g2, g3)) - (-1)**(-N)*Product(sigma(z - xi[l], g2, g3)/(sigma(z, g2, g3)*sigma(xi[l], g2, g3)), (l, 0, N))/Q(N, pw(z, g2, g3)))"
      ]
     },
     "execution_count": 187,
     "metadata": {},
     "output_type": "execute_result"
    }
   ],
   "source": [
    "pwp_rho_z_sigma_product = pwp_P_Q_sigma.subs(rho_def_zx.rhs.subs(x,xi[l]), \n",
    "                                        rho_def_zx.lhs.subs(x,xi[l])).subs(*rho_z_sigma_product.args)\n",
    "pwp_rho_z_sigma_product"
   ]
  },
  {
   "cell_type": "markdown",
   "metadata": {},
   "source": [
    "## The general differential equation for $\\rho$"
   ]
  },
  {
   "cell_type": "markdown",
   "metadata": {},
   "source": [
    "The function $\\rho\\left(z,x\\right)$ can be shown to solve an important differential equation as follows:"
   ]
  },
  {
   "cell_type": "code",
   "execution_count": 188,
   "metadata": {},
   "outputs": [
    {
     "data": {
      "text/latex": [
       "$\\displaystyle \\log{\\left(\\rho{\\left(z,x \\right)} \\right)} = \\frac{\\log{\\left(\\frac{\\rho{\\left(z,x \\right)}}{\\rho{\\left(z,- x \\right)}} \\right)}}{2} + \\frac{\\log{\\left(\\rho{\\left(z,- x \\right)} \\rho{\\left(z,x \\right)} \\right)}}{2}$"
      ],
      "text/plain": [
       "Eq(log(rho(z, x)), log(rho(z, x)/rho(z, -x))/2 + log(rho(z, -x)*rho(z, x))/2)"
      ]
     },
     "execution_count": 188,
     "metadata": {},
     "output_type": "execute_result"
    }
   ],
   "source": [
    "Eq(log(rho(z,x)), log(rho(z,x)*rho(z,-x))/2 + log(rho(z,x)/rho(z,-x))/2)"
   ]
  },
  {
   "cell_type": "code",
   "execution_count": 189,
   "metadata": {},
   "outputs": [
    {
     "data": {
      "text/latex": [
       "$\\displaystyle \\frac{\\partial}{\\partial z} \\log{\\left(\\frac{\\sigma{\\left(x + z,g_{2},g_{3} \\right)}}{\\sigma{\\left(x,g_{2},g_{3} \\right)} \\sigma{\\left(z,g_{2},g_{3} \\right)}} \\right)} = \\frac{\\left. \\frac{\\partial}{\\partial \\xi_{1}} \\sigma{\\left(\\xi_{1},g_{2},g_{3} \\right)} \\right|_{\\substack{ \\xi_{1}=x + z }}}{\\sigma{\\left(x + z,g_{2},g_{3} \\right)}} - \\frac{\\frac{\\partial}{\\partial z} \\sigma{\\left(z,g_{2},g_{3} \\right)}}{\\sigma{\\left(z,g_{2},g_{3} \\right)}}$"
      ],
      "text/plain": [
       "Eq(Derivative(log(sigma(x + z, g2, g3)/(sigma(x, g2, g3)*sigma(z, g2, g3))), z), Subs(Derivative(sigma(_xi_1, g2, g3), _xi_1), _xi_1, x + z)/sigma(x + z, g2, g3) - Derivative(sigma(z, g2, g3), z)/sigma(z, g2, g3))"
      ]
     },
     "execution_count": 189,
     "metadata": {},
     "output_type": "execute_result"
    }
   ],
   "source": [
    "log_rho_diff = Eq(Derivative(log(sigma(z + x,g2,g3)/sigma(z,g2,g3)/sigma(x,g2,g3)),z), \n",
    "   diff(log(sigma(z + x,g2,g3)/sigma(z,g2,g3)/sigma(x,g2,g3)),z).expand()\n",
    "  )\n",
    "log_rho_diff"
   ]
  },
  {
   "cell_type": "code",
   "execution_count": 190,
   "metadata": {},
   "outputs": [
    {
     "data": {
      "text/latex": [
       "$\\displaystyle \\operatorname{zw}{\\left(x + z,g_{2},g_{3} \\right)} = \\frac{\\left. \\frac{\\partial}{\\partial \\xi_{1}} \\sigma{\\left(\\xi_{1},g_{2},g_{3} \\right)} \\right|_{\\substack{ \\xi_{1}=x + z }}}{\\sigma{\\left(x + z,g_{2},g_{3} \\right)}}$"
      ],
      "text/plain": [
       "Eq(zw(x + z, g2, g3), Subs(Derivative(sigma(z, g2, g3), z), z, x + z)/sigma(x + z, g2, g3))"
      ]
     },
     "execution_count": 190,
     "metadata": {},
     "output_type": "execute_result"
    }
   ],
   "source": [
    "zeta_eq.subs(z,z+x)"
   ]
  },
  {
   "cell_type": "code",
   "execution_count": 191,
   "metadata": {},
   "outputs": [
    {
     "data": {
      "text/latex": [
       "$\\displaystyle \\frac{\\partial}{\\partial z} \\log{\\left(\\frac{\\sigma{\\left(x + z,g_{2},g_{3} \\right)}}{\\sigma{\\left(x,g_{2},g_{3} \\right)} \\sigma{\\left(z,g_{2},g_{3} \\right)}} \\right)} = - \\operatorname{zw}{\\left(z,g_{2},g_{3} \\right)} + \\operatorname{zw}{\\left(x + z,g_{2},g_{3} \\right)}$"
      ],
      "text/plain": [
       "Eq(Derivative(log(sigma(x + z, g2, g3)/(sigma(x, g2, g3)*sigma(z, g2, g3))), z), -zw(z, g2, g3) + zw(x + z, g2, g3))"
      ]
     },
     "execution_count": 191,
     "metadata": {},
     "output_type": "execute_result"
    }
   ],
   "source": [
    "log_sig_ratio_zx = Eq(log_rho_diff.lhs, \n",
    "   log_rho_diff.rhs \n",
    "   + zeta_eq.subs(z,z+x).lhs - zeta_eq.subs(z,z+x).rhs\n",
    "   - zeta_eq.lhs + zeta_eq.rhs\n",
    "  )\n",
    "\n",
    "log_sig_ratio_zx"
   ]
  },
  {
   "cell_type": "code",
   "execution_count": 192,
   "metadata": {},
   "outputs": [
    {
     "data": {
      "text/latex": [
       "$\\displaystyle \\frac{\\operatorname{pwp}{\\left(x,g_{2},g_{3} \\right)} - \\operatorname{pwp}{\\left(z,g_{2},g_{3} \\right)}}{2 \\left(\\operatorname{pw}{\\left(x,g_{2},g_{3} \\right)} - \\operatorname{pw}{\\left(z,g_{2},g_{3} \\right)}\\right)} = - \\operatorname{zw}{\\left(x,g_{2},g_{3} \\right)} - \\operatorname{zw}{\\left(z,g_{2},g_{3} \\right)} + \\operatorname{zw}{\\left(x + z,g_{2},g_{3} \\right)}$"
      ],
      "text/plain": [
       "Eq((pwp(x, g2, g3) - pwp(z, g2, g3))/(2*(pw(x, g2, g3) - pw(z, g2, g3))), -zw(x, g2, g3) - zw(z, g2, g3) + zw(x + z, g2, g3))"
      ]
     },
     "execution_count": 192,
     "metadata": {},
     "output_type": "execute_result"
    }
   ],
   "source": [
    "pw_to_zw_identity.subs(y,z)"
   ]
  },
  {
   "cell_type": "code",
   "execution_count": 193,
   "metadata": {},
   "outputs": [
    {
     "data": {
      "text/latex": [
       "$\\displaystyle \\frac{\\partial}{\\partial z} \\log{\\left(\\frac{\\sigma{\\left(x + z,g_{2},g_{3} \\right)}}{\\sigma{\\left(x,g_{2},g_{3} \\right)} \\sigma{\\left(z,g_{2},g_{3} \\right)}} \\right)} = \\operatorname{zw}{\\left(x,g_{2},g_{3} \\right)} + \\frac{\\operatorname{pwp}{\\left(x,g_{2},g_{3} \\right)} - \\operatorname{pwp}{\\left(z,g_{2},g_{3} \\right)}}{2 \\left(\\operatorname{pw}{\\left(x,g_{2},g_{3} \\right)} - \\operatorname{pw}{\\left(z,g_{2},g_{3} \\right)}\\right)}$"
      ],
      "text/plain": [
       "Eq(Derivative(log(sigma(x + z, g2, g3)/(sigma(x, g2, g3)*sigma(z, g2, g3))), z), zw(x, g2, g3) + (pwp(x, g2, g3) - pwp(z, g2, g3))/(2*(pw(x, g2, g3) - pw(z, g2, g3))))"
      ]
     },
     "execution_count": 193,
     "metadata": {},
     "output_type": "execute_result"
    }
   ],
   "source": [
    "log_sig_ratio_zx_p_conj = Eq(log_sig_ratio_zx.lhs, \n",
    "   log_sig_ratio_zx.rhs + pw_to_zw_identity.subs(y,z).lhs - pw_to_zw_identity.subs(y,z).rhs\n",
    "  )\n",
    "log_sig_ratio_zx_p_conj"
   ]
  },
  {
   "cell_type": "code",
   "execution_count": 194,
   "metadata": {},
   "outputs": [
    {
     "data": {
      "text/latex": [
       "$\\displaystyle \\frac{\\partial}{\\partial z} \\log{\\left(\\frac{\\sigma{\\left(x - z,g_{2},g_{3} \\right)}}{\\sigma{\\left(x,g_{2},g_{3} \\right)} \\sigma{\\left(z,g_{2},g_{3} \\right)}} \\right)} = - \\operatorname{zw}{\\left(x,g_{2},g_{3} \\right)} + \\frac{- \\operatorname{pwp}{\\left(x,g_{2},g_{3} \\right)} - \\operatorname{pwp}{\\left(z,g_{2},g_{3} \\right)}}{2 \\left(\\operatorname{pw}{\\left(x,g_{2},g_{3} \\right)} - \\operatorname{pw}{\\left(z,g_{2},g_{3} \\right)}\\right)}$"
      ],
      "text/plain": [
       "Eq(Derivative(log(sigma(x - z, g2, g3)/(sigma(x, g2, g3)*sigma(z, g2, g3))), z), -zw(x, g2, g3) + (-pwp(x, g2, g3) - pwp(z, g2, g3))/(2*(pw(x, g2, g3) - pw(z, g2, g3))))"
      ]
     },
     "execution_count": 194,
     "metadata": {},
     "output_type": "execute_result"
    }
   ],
   "source": [
    "log_sig_ratio_zx_p = Eq(log_sig_ratio_zx.lhs, \n",
    "   log_sig_ratio_zx.rhs + pw_to_zw_identity.subs(y,z).lhs - pw_to_zw_identity.subs(y,z).rhs\n",
    "  ).subs(x,-x).subs([\n",
    "    (sigma(-x,g2,g3), -sigma(x,g2,g3)),\n",
    "    (zw(-x,g2,g3), -zw(x,g2,g3)),\n",
    "    (pwp(-x,g2,g3), -pwp(x,g2,g3)),\n",
    "    (pw(-x,g2,g3), pw(x,g2,g3))\n",
    "]).subs(sigma(-x+z,g2,g3), -sigma(x-z,g2,g3))\n",
    "log_sig_ratio_zx_p"
   ]
  },
  {
   "cell_type": "code",
   "execution_count": 195,
   "metadata": {},
   "outputs": [
    {
     "data": {
      "text/latex": [
       "$\\displaystyle \\frac{\\frac{\\partial}{\\partial z} \\rho{\\left(z,x \\right)}}{\\rho{\\left(z,x \\right)}} = - \\operatorname{zw}{\\left(x,g_{2},g_{3} \\right)} + \\frac{- \\operatorname{pwp}{\\left(x,g_{2},g_{3} \\right)} - \\operatorname{pwp}{\\left(z,g_{2},g_{3} \\right)}}{2 \\operatorname{pw}{\\left(x,g_{2},g_{3} \\right)} - 2 \\operatorname{pw}{\\left(z,g_{2},g_{3} \\right)}}$"
      ],
      "text/plain": [
       "Eq(Derivative(rho(z, x), z)/rho(z, x), -zw(x, g2, g3) + (-pwp(x, g2, g3) - pwp(z, g2, g3))/(2*pw(x, g2, g3) - 2*pw(z, g2, g3)))"
      ]
     },
     "execution_count": 195,
     "metadata": {},
     "output_type": "execute_result"
    }
   ],
   "source": [
    "log_rho_zx_p = log_sig_ratio_zx_p.subs(rho_def_zx.subs(y,z).rhs, rho_def_zx.subs(y,z).lhs).doit()\n",
    "log_rho_zx_p"
   ]
  },
  {
   "cell_type": "markdown",
   "metadata": {},
   "source": [
    "and thus the differential equation for $\\rho$ can be written:"
   ]
  },
  {
   "cell_type": "code",
   "execution_count": 196,
   "metadata": {},
   "outputs": [
    {
     "data": {
      "text/latex": [
       "$\\displaystyle \\frac{\\partial}{\\partial z} \\rho{\\left(z,x \\right)} = \\frac{\\operatorname{pwp}{\\left(x,g_{2},g_{3} \\right)}}{2 \\rho{\\left(z,- x \\right)}} + \\frac{\\operatorname{pwp}{\\left(z,g_{2},g_{3} \\right)}}{2 \\rho{\\left(z,- x \\right)}} - \\rho{\\left(z,x \\right)} \\operatorname{zw}{\\left(x,g_{2},g_{3} \\right)}$"
      ],
      "text/plain": [
       "Eq(Derivative(rho(z, x), z), pwp(x, g2, g3)/(2*rho(z, -x)) + pwp(z, g2, g3)/(2*rho(z, -x)) - rho(z, x)*zw(x, g2, g3))"
      ]
     },
     "execution_count": 196,
     "metadata": {},
     "output_type": "execute_result"
    }
   ],
   "source": [
    "rho_zx_p_prime = log_rho_zx_p.subs(-2*rho_p_zx.rhs, -2*rho_p_zx.lhs)\n",
    "rho_zx_p_prime = Eq(rho_zx_p_prime.lhs*rho(z,x), rho_zx_p_prime.rhs*rho(z,x)).expand()\n",
    "rho_zx_p_prime"
   ]
  },
  {
   "cell_type": "code",
   "execution_count": 197,
   "metadata": {},
   "outputs": [
    {
     "data": {
      "text/latex": [
       "$\\displaystyle \\frac{\\partial}{\\partial z} \\rho{\\left(z,x \\right)} = \\frac{- \\frac{P{\\left(N,\\operatorname{pw}{\\left(z,g_{2},g_{3} \\right)} \\right)}}{Q{\\left(N,\\operatorname{pw}{\\left(z,g_{2},g_{3} \\right)} \\right)}} - \\frac{\\left(-1\\right)^{- N} \\prod_{l=0}^{N} \\frac{\\sigma{\\left(z - {\\xi}_{l},g_{2},g_{3} \\right)}}{\\sigma{\\left(z,g_{2},g_{3} \\right)} \\sigma{\\left({\\xi}_{l},g_{2},g_{3} \\right)}}}{Q{\\left(N,\\operatorname{pw}{\\left(z,g_{2},g_{3} \\right)} \\right)}}}{2 \\rho{\\left(z,- x \\right)}} + \\frac{\\operatorname{pwp}{\\left(x,g_{2},g_{3} \\right)}}{2 \\rho{\\left(z,- x \\right)}} - \\rho{\\left(z,x \\right)} \\operatorname{zw}{\\left(x,g_{2},g_{3} \\right)}$"
      ],
      "text/plain": [
       "Eq(Derivative(rho(z, x), z), (-P(N, pw(z, g2, g3))/Q(N, pw(z, g2, g3)) - (-1)**(-N)*Product(sigma(z - xi[l], g2, g3)/(sigma(z, g2, g3)*sigma(xi[l], g2, g3)), (l, 0, N))/Q(N, pw(z, g2, g3)))/(2*rho(z, -x)) + pwp(x, g2, g3)/(2*rho(z, -x)) - rho(z, x)*zw(x, g2, g3))"
      ]
     },
     "execution_count": 197,
     "metadata": {},
     "output_type": "execute_result"
    }
   ],
   "source": [
    "rho_zx_p_prime.subs(*pwp_rho_z_sigma_product.args)"
   ]
  },
  {
   "cell_type": "code",
   "execution_count": 198,
   "metadata": {},
   "outputs": [
    {
     "data": {
      "text/latex": [
       "$\\displaystyle \\frac{\\partial}{\\partial z} h{\\left(z,x \\right)} = \\frac{\\operatorname{pwp}{\\left(x,g_{2},g_{3} \\right)} + \\operatorname{pwp}{\\left(z,g_{2},g_{3} \\right)}}{2 h{\\left(z,- x \\right)}}$"
      ],
      "text/plain": [
       "Eq(Derivative(h(z, x), z), (pwp(x, g2, g3) + pwp(z, g2, g3))/(2*h(z, -x)))"
      ]
     },
     "execution_count": 198,
     "metadata": {},
     "output_type": "execute_result"
    }
   ],
   "source": [
    "diff_h_z = Eq(diff(h(z,x),z), solve(rho_zx_p_prime.subs([rho_h.args, rho_h_conj.args]).doit().lhs - \n",
    "rho_zx_p_prime.subs([rho_h.args, rho_h_conj.args]).doit().rhs, diff(h(z,x),z))[0])\n",
    "diff_h_z"
   ]
  },
  {
   "cell_type": "code",
   "execution_count": 199,
   "metadata": {},
   "outputs": [
    {
     "data": {
      "text/latex": [
       "$\\displaystyle \\operatorname{pwp}{\\left(z,g_{2},g_{3} \\right)} = h{\\left(z,- x \\right)} \\frac{\\partial}{\\partial z} h{\\left(z,x \\right)} + h{\\left(z,x \\right)} \\frac{\\partial}{\\partial z} h{\\left(z,- x \\right)}$"
      ],
      "text/plain": [
       "Eq(pwp(z, g2, g3), h(z, -x)*Derivative(h(z, x), z) + h(z, x)*Derivative(h(z, -x), z))"
      ]
     },
     "execution_count": 199,
     "metadata": {},
     "output_type": "execute_result"
    }
   ],
   "source": [
    "pwp_h_z = Eq(diff(rho_p_zx.subs([rho_h.args, rho_h_conj.args]).rhs,z), \n",
    "   diff(rho_p_zx.subs([rho_h.args, rho_h_conj.args]).lhs,z)).subs(diff(pw(z,g2,g3),z),pwp(z,g2,g3))\n",
    "pwp_h_z"
   ]
  },
  {
   "cell_type": "code",
   "execution_count": 200,
   "metadata": {},
   "outputs": [
    {
     "data": {
      "text/latex": [
       "$\\displaystyle \\operatorname{pwp}{\\left(x,g_{2},g_{3} \\right)} = h{\\left(z,- x \\right)} \\frac{\\partial}{\\partial z} h{\\left(z,x \\right)} - h{\\left(z,x \\right)} \\frac{\\partial}{\\partial z} h{\\left(z,- x \\right)}$"
      ],
      "text/plain": [
       "Eq(pwp(x, g2, g3), h(z, -x)*Derivative(h(z, x), z) - h(z, x)*Derivative(h(z, -x), z))"
      ]
     },
     "execution_count": 200,
     "metadata": {},
     "output_type": "execute_result"
    }
   ],
   "source": [
    "pwp_h_x = Eq(pwp(x,g2,g3), \n",
    "   solve(diff_h_z.subs(*pwp_h_z.args).expand().lhs - diff_h_z.subs(*pwp_h_z.args).expand().rhs, pwp(x,g2,g3))[0]\n",
    "  )\n",
    "pwp_h_x"
   ]
  },
  {
   "cell_type": "code",
   "execution_count": 201,
   "metadata": {},
   "outputs": [
    {
     "data": {
      "text/latex": [
       "$\\displaystyle \\frac{\\partial^{2}}{\\partial z^{2}} h{\\left(z,x \\right)} = - \\frac{\\left(\\operatorname{pwp}{\\left(x,g_{2},g_{3} \\right)} + \\operatorname{pwp}{\\left(z,g_{2},g_{3} \\right)}\\right) \\frac{\\partial}{\\partial z} h{\\left(z,- x \\right)}}{2 h^{2}{\\left(z,- x \\right)}} + \\frac{\\frac{\\partial}{\\partial z} \\operatorname{pwp}{\\left(z,g_{2},g_{3} \\right)}}{2 h{\\left(z,- x \\right)}}$"
      ],
      "text/plain": [
       "Eq(Derivative(h(z, x), (z, 2)), -(pwp(x, g2, g3) + pwp(z, g2, g3))*Derivative(h(z, -x), z)/(2*h(z, -x)**2) + Derivative(pwp(z, g2, g3), z)/(2*h(z, -x)))"
      ]
     },
     "execution_count": 201,
     "metadata": {},
     "output_type": "execute_result"
    }
   ],
   "source": [
    "Eq(diff(diff_h_z.lhs,z), diff(diff_h_z.rhs,z))"
   ]
  },
  {
   "cell_type": "markdown",
   "metadata": {},
   "source": [
    "### Expressing the Weierstrass P Prime function as a $\\rho$ coupling term"
   ]
  },
  {
   "cell_type": "code",
   "execution_count": 202,
   "metadata": {},
   "outputs": [],
   "source": [
    "def sigma_product_wp_c(NN, conjugate=False):\n",
    "    result = (sigma_product_wp_diff_eq.subs(N,NN).doit().subs(higher_order_diffs).expand()\n",
    "     .subs(xi[NN],-Sum(xi[j],(j,0,NN-1)).doit()).subs([(xi[j],mu[j]) for j in range(NN)]))\n",
    "    if conjugate:\n",
    "        result = (result.subs(z,-z)\n",
    "             .subs([(sigma(z + mu[_i],g2,g3), -sigma(-z - mu[_i],g2,g3)) for _i in range(2)])\n",
    "             .subs(sigma(z - sum(mu[_i] for _i in range(2)),g2,g3), -sigma(-z + sum(mu[_i] for _i in range(2)),g2,g3))\n",
    "             .subs(sigma( - sum(mu[_i] for _i in range(2)),g2,g3), -sigma(sum(mu[_i] for _i in range(2)),g2,g3))\n",
    "             .subs([(sigma(mu[_i],g2,g3), -sigma(-mu[_i],g2,g3)) for _i in range(2)])\n",
    "             .subs(sigma(-z,g2,g3),-sigma(z,g2,g3))\n",
    "             .subs(diff(pw(z,g2,g3),z).subs(z,-z), -diff(pw(z,g2,g3),z))\n",
    "             .subs(pw(-z,g2,g3), pw(z,g2,g3)))\n",
    "    return result"
   ]
  },
  {
   "cell_type": "code",
   "execution_count": 203,
   "metadata": {},
   "outputs": [],
   "source": [
    "def rho_product_p_prime(Nval, conjugate=False):\n",
    "    if not conjugate:\n",
    "        result = (sigma_product_wp_c(Nval - 1, conjugate=conjugate).subs([*[\n",
    "            (rho_def_zx.rhs.subs(x, mu[_i]), rho_def_zx.lhs.subs(x, mu[_i])) for _i in range(Nval - 1)\n",
    "        ], (\n",
    "            rho_def_zx.rhs.subs(x, -sum([mu[_i] for _i in range(Nval - 1)])).doit(), \n",
    "            rho_def_zx.lhs.subs(x, -sum([mu[_i] for _i in range(Nval - 1)])).doit()\n",
    "        )]).subs([(c[_i], f(_i, *[mu[_j] for _j in range(Nval - 1)])) for _i in range(Nval)])\n",
    "        .subs(diff(pw(z,g2,g3),z),pwp(z,g2,g3)))\n",
    "        return result\n",
    "    if conjugate:\n",
    "#         result = result.subs([(mu[_i], -mu[_i]) for _i in range(Nval)])\n",
    "        result = (sigma_product_wp_c(Nval - 1, conjugate=conjugate).subs([*[\n",
    "            (rho_def_zx.rhs.subs(x, -mu[_i]), rho_def_zx.lhs.subs(x, -mu[_i])) for _i in range(Nval - 1)\n",
    "        ], (\n",
    "            rho_def_zx.rhs.subs(x, sum([mu[_i] for _i in range(Nval - 1)])).doit(), \n",
    "            rho_def_zx.lhs.subs(x, sum([mu[_i] for _i in range(Nval - 1)])).doit()\n",
    "        )]).subs([(c[_i], f(_i, *[mu[_j] for _j in range(Nval - 1)])) for _i in range(Nval)])\n",
    "        .subs(diff(pw(z,g2,g3),z),pwp(z,g2,g3)))\n",
    "        return result"
   ]
  },
  {
   "cell_type": "code",
   "execution_count": 204,
   "metadata": {},
   "outputs": [
    {
     "data": {
      "text/latex": [
       "$\\displaystyle - \\frac{\\sigma{\\left(z + {\\mu}_{0},g_{2},g_{3} \\right)} \\sigma{\\left(z + {\\mu}_{1},g_{2},g_{3} \\right)} \\sigma{\\left(z - {\\mu}_{0} - {\\mu}_{1},g_{2},g_{3} \\right)}}{\\sigma^{3}{\\left(z,g_{2},g_{3} \\right)} \\sigma{\\left({\\mu}_{0} + {\\mu}_{1},g_{2},g_{3} \\right)} \\sigma{\\left(- {\\mu}_{0},g_{2},g_{3} \\right)} \\sigma{\\left(- {\\mu}_{1},g_{2},g_{3} \\right)}} = \\operatorname{pw}{\\left(z,g_{2},g_{3} \\right)} {c}_{1} + \\frac{\\partial}{\\partial z} \\operatorname{pw}{\\left(z,g_{2},g_{3} \\right)} {c}_{2} + {c}_{0}$"
      ],
      "text/plain": [
       "Eq(-sigma(z + mu[0], g2, g3)*sigma(z + mu[1], g2, g3)*sigma(z - mu[0] - mu[1], g2, g3)/(sigma(z, g2, g3)**3*sigma(mu[0] + mu[1], g2, g3)*sigma(-mu[0], g2, g3)*sigma(-mu[1], g2, g3)), pw(z, g2, g3)*c[1] + Derivative(pw(z, g2, g3), z)*c[2] + c[0])"
      ]
     },
     "execution_count": 204,
     "metadata": {},
     "output_type": "execute_result"
    }
   ],
   "source": [
    "sigma_product_wp_c(2).subs([(mu[_i], -mu[_i]) for _i in range(3)])"
   ]
  },
  {
   "cell_type": "code",
   "execution_count": 205,
   "metadata": {},
   "outputs": [
    {
     "data": {
      "text/latex": [
       "$\\displaystyle - \\frac{\\sigma{\\left(- z - {\\mu}_{0},g_{2},g_{3} \\right)} \\sigma{\\left(- z - {\\mu}_{1},g_{2},g_{3} \\right)} \\sigma{\\left(- z + {\\mu}_{0} + {\\mu}_{1},g_{2},g_{3} \\right)}}{\\sigma^{3}{\\left(z,g_{2},g_{3} \\right)} \\sigma{\\left({\\mu}_{0} + {\\mu}_{1},g_{2},g_{3} \\right)} \\sigma{\\left(- {\\mu}_{0},g_{2},g_{3} \\right)} \\sigma{\\left(- {\\mu}_{1},g_{2},g_{3} \\right)}} = \\operatorname{pw}{\\left(- z,g_{2},g_{3} \\right)} {c}_{1} - \\frac{\\partial}{\\partial z} \\operatorname{pw}{\\left(z,g_{2},g_{3} \\right)} {c}_{2} + {c}_{0}$"
      ],
      "text/plain": [
       "Eq(-sigma(-z - mu[0], g2, g3)*sigma(-z - mu[1], g2, g3)*sigma(-z + mu[0] + mu[1], g2, g3)/(sigma(z, g2, g3)**3*sigma(mu[0] + mu[1], g2, g3)*sigma(-mu[0], g2, g3)*sigma(-mu[1], g2, g3)), pw(-z, g2, g3)*c[1] - Derivative(pw(z, g2, g3), z)*c[2] + c[0])"
      ]
     },
     "execution_count": 205,
     "metadata": {},
     "output_type": "execute_result"
    }
   ],
   "source": [
    "(sigma_product_wp_c(2)\n",
    " .subs(z,-z)\n",
    " .subs([(sigma(z + mu[_i],g2,g3), -sigma(-z - mu[_i],g2,g3)) for _i in range(2)])\n",
    " .subs(sigma(z - sum(mu[_i] for _i in range(2)),g2,g3), -sigma(-z + sum(mu[_i] for _i in range(2)),g2,g3))\n",
    " .subs(sigma( - sum(mu[_i] for _i in range(2)),g2,g3), -sigma(sum(mu[_i] for _i in range(2)),g2,g3))\n",
    " .subs([(sigma(mu[_i],g2,g3), -sigma(-mu[_i],g2,g3)) for _i in range(2)])\n",
    " .subs(sigma(-z,g2,g3),-sigma(z,g2,g3))\n",
    " .subs(diff(pw(z,g2,g3),z).subs(z,-z), -diff(pw(z,g2,g3),z))\n",
    ")"
   ]
  },
  {
   "cell_type": "code",
   "execution_count": 206,
   "metadata": {
    "scrolled": true
   },
   "outputs": [
    {
     "data": {
      "text/latex": [
       "$\\displaystyle - \\frac{\\sigma{\\left(z - {\\mu}_{0},g_{2},g_{3} \\right)} \\sigma{\\left(z - {\\mu}_{1},g_{2},g_{3} \\right)} \\sigma{\\left(z + {\\mu}_{0} + {\\mu}_{1},g_{2},g_{3} \\right)}}{\\sigma^{3}{\\left(z,g_{2},g_{3} \\right)} \\sigma{\\left(- {\\mu}_{0} - {\\mu}_{1},g_{2},g_{3} \\right)} \\sigma{\\left({\\mu}_{0},g_{2},g_{3} \\right)} \\sigma{\\left({\\mu}_{1},g_{2},g_{3} \\right)}} = \\operatorname{pw}{\\left(z,g_{2},g_{3} \\right)} {c}_{1} + \\frac{\\partial}{\\partial z} \\operatorname{pw}{\\left(z,g_{2},g_{3} \\right)} {c}_{2} + {c}_{0}$"
      ],
      "text/plain": [
       "Eq(-sigma(z - mu[0], g2, g3)*sigma(z - mu[1], g2, g3)*sigma(z + mu[0] + mu[1], g2, g3)/(sigma(z, g2, g3)**3*sigma(-mu[0] - mu[1], g2, g3)*sigma(mu[0], g2, g3)*sigma(mu[1], g2, g3)), pw(z, g2, g3)*c[1] + Derivative(pw(z, g2, g3), z)*c[2] + c[0])"
      ]
     },
     "execution_count": 206,
     "metadata": {},
     "output_type": "execute_result"
    }
   ],
   "source": [
    "sigma_product_wp_c(2)"
   ]
  },
  {
   "cell_type": "code",
   "execution_count": 207,
   "metadata": {},
   "outputs": [
    {
     "data": {
      "text/latex": [
       "$\\displaystyle - \\frac{\\sigma{\\left(- z - {\\mu}_{0},g_{2},g_{3} \\right)} \\sigma{\\left(- z - {\\mu}_{1},g_{2},g_{3} \\right)} \\sigma{\\left(- z + {\\mu}_{0} + {\\mu}_{1},g_{2},g_{3} \\right)}}{\\sigma^{3}{\\left(z,g_{2},g_{3} \\right)} \\sigma{\\left({\\mu}_{0} + {\\mu}_{1},g_{2},g_{3} \\right)} \\sigma{\\left(- {\\mu}_{0},g_{2},g_{3} \\right)} \\sigma{\\left(- {\\mu}_{1},g_{2},g_{3} \\right)}} = \\operatorname{pw}{\\left(z,g_{2},g_{3} \\right)} {c}_{1} - \\frac{\\partial}{\\partial z} \\operatorname{pw}{\\left(z,g_{2},g_{3} \\right)} {c}_{2} + {c}_{0}$"
      ],
      "text/plain": [
       "Eq(-sigma(-z - mu[0], g2, g3)*sigma(-z - mu[1], g2, g3)*sigma(-z + mu[0] + mu[1], g2, g3)/(sigma(z, g2, g3)**3*sigma(mu[0] + mu[1], g2, g3)*sigma(-mu[0], g2, g3)*sigma(-mu[1], g2, g3)), pw(z, g2, g3)*c[1] - Derivative(pw(z, g2, g3), z)*c[2] + c[0])"
      ]
     },
     "execution_count": 207,
     "metadata": {},
     "output_type": "execute_result"
    }
   ],
   "source": [
    "sigma_product_wp_c(2, conjugate=True)"
   ]
  },
  {
   "cell_type": "code",
   "execution_count": 208,
   "metadata": {},
   "outputs": [
    {
     "data": {
      "text/latex": [
       "$\\displaystyle \\rho{\\left(z,x \\right)} = \\frac{\\sigma{\\left(x - z,g_{2},g_{3} \\right)}}{\\sigma{\\left(x,g_{2},g_{3} \\right)} \\sigma{\\left(z,g_{2},g_{3} \\right)}}$"
      ],
      "text/plain": [
       "Eq(rho(z, x), sigma(x - z, g2, g3)/(sigma(x, g2, g3)*sigma(z, g2, g3)))"
      ]
     },
     "execution_count": 208,
     "metadata": {},
     "output_type": "execute_result"
    }
   ],
   "source": [
    "rho_def_zx"
   ]
  },
  {
   "cell_type": "code",
   "execution_count": 209,
   "metadata": {},
   "outputs": [
    {
     "data": {
      "text/latex": [
       "$\\displaystyle - \\frac{\\sigma{\\left(z - {\\mu}_{0},g_{2},g_{3} \\right)} \\sigma{\\left(z - {\\mu}_{1},g_{2},g_{3} \\right)} \\sigma{\\left(z + {\\mu}_{0} + {\\mu}_{1},g_{2},g_{3} \\right)}}{\\sigma^{3}{\\left(z,g_{2},g_{3} \\right)} \\sigma{\\left(- {\\mu}_{0} - {\\mu}_{1},g_{2},g_{3} \\right)} \\sigma{\\left({\\mu}_{0},g_{2},g_{3} \\right)} \\sigma{\\left({\\mu}_{1},g_{2},g_{3} \\right)}} = f{\\left(0,{\\mu}_{0},{\\mu}_{1} \\right)} + f{\\left(1,{\\mu}_{0},{\\mu}_{1} \\right)} \\operatorname{pw}{\\left(z,g_{2},g_{3} \\right)} + f{\\left(2,{\\mu}_{0},{\\mu}_{1} \\right)} \\operatorname{pwp}{\\left(z,g_{2},g_{3} \\right)}$"
      ],
      "text/plain": [
       "Eq(-sigma(z - mu[0], g2, g3)*sigma(z - mu[1], g2, g3)*sigma(z + mu[0] + mu[1], g2, g3)/(sigma(z, g2, g3)**3*sigma(-mu[0] - mu[1], g2, g3)*sigma(mu[0], g2, g3)*sigma(mu[1], g2, g3)), f(0, mu[0], mu[1]) + f(1, mu[0], mu[1])*pw(z, g2, g3) + f(2, mu[0], mu[1])*pwp(z, g2, g3))"
      ]
     },
     "execution_count": 209,
     "metadata": {},
     "output_type": "execute_result"
    }
   ],
   "source": [
    "rho_product_p_prime(3)"
   ]
  },
  {
   "cell_type": "code",
   "execution_count": 210,
   "metadata": {},
   "outputs": [
    {
     "data": {
      "text/latex": [
       "$\\displaystyle - \\rho{\\left(z,{\\mu}_{0} + {\\mu}_{1} \\right)} \\rho{\\left(z,- {\\mu}_{0} \\right)} \\rho{\\left(z,- {\\mu}_{1} \\right)} = f{\\left(0,{\\mu}_{0},{\\mu}_{1} \\right)} + f{\\left(1,{\\mu}_{0},{\\mu}_{1} \\right)} \\operatorname{pw}{\\left(z,g_{2},g_{3} \\right)} - f{\\left(2,{\\mu}_{0},{\\mu}_{1} \\right)} \\operatorname{pwp}{\\left(z,g_{2},g_{3} \\right)}$"
      ],
      "text/plain": [
       "Eq(-rho(z, mu[0] + mu[1])*rho(z, -mu[0])*rho(z, -mu[1]), f(0, mu[0], mu[1]) + f(1, mu[0], mu[1])*pw(z, g2, g3) - f(2, mu[0], mu[1])*pwp(z, g2, g3))"
      ]
     },
     "execution_count": 210,
     "metadata": {},
     "output_type": "execute_result"
    }
   ],
   "source": [
    "rho_product_p_prime(3, conjugate=True)"
   ]
  },
  {
   "cell_type": "code",
   "execution_count": 211,
   "metadata": {},
   "outputs": [
    {
     "data": {
      "text/latex": [
       "$\\displaystyle \\rho{\\left(x,x \\right)} = \\frac{\\sigma{\\left(0,g_{2},g_{3} \\right)}}{\\sigma^{2}{\\left(x,g_{2},g_{3} \\right)}}$"
      ],
      "text/plain": [
       "Eq(rho(x, x), sigma(0, g2, g3)/sigma(x, g2, g3)**2)"
      ]
     },
     "execution_count": 211,
     "metadata": {},
     "output_type": "execute_result"
    }
   ],
   "source": [
    "rho_def_zx.subs(z,x)"
   ]
  },
  {
   "cell_type": "code",
   "execution_count": 212,
   "metadata": {},
   "outputs": [
    {
     "data": {
      "text/latex": [
       "$\\displaystyle - \\rho{\\left(- {\\mu}_{0},{\\mu}_{0} + {\\mu}_{1} \\right)} \\rho{\\left(- {\\mu}_{0},- {\\mu}_{0} \\right)} \\rho{\\left(- {\\mu}_{0},- {\\mu}_{1} \\right)} = f{\\left(0,{\\mu}_{0},{\\mu}_{1} \\right)} + f{\\left(1,{\\mu}_{0},{\\mu}_{1} \\right)} \\operatorname{pw}{\\left(- {\\mu}_{0},g_{2},g_{3} \\right)} - f{\\left(2,{\\mu}_{0},{\\mu}_{1} \\right)} \\operatorname{pwp}{\\left(- {\\mu}_{0},g_{2},g_{3} \\right)}$"
      ],
      "text/plain": [
       "Eq(-rho(-mu[0], mu[0] + mu[1])*rho(-mu[0], -mu[0])*rho(-mu[0], -mu[1]), f(0, mu[0], mu[1]) + f(1, mu[0], mu[1])*pw(-mu[0], g2, g3) - f(2, mu[0], mu[1])*pwp(-mu[0], g2, g3))"
      ]
     },
     "execution_count": 212,
     "metadata": {},
     "output_type": "execute_result"
    }
   ],
   "source": [
    "rho_product_p_prime(3, conjugate=True).subs(z,-mu[0])"
   ]
  },
  {
   "cell_type": "code",
   "execution_count": 213,
   "metadata": {},
   "outputs": [
    {
     "data": {
      "text/latex": [
       "$\\displaystyle \\rho{\\left(z,x \\right)} = \\frac{\\sigma{\\left(x - z,g_{2},g_{3} \\right)}}{\\sigma{\\left(x,g_{2},g_{3} \\right)} \\sigma{\\left(z,g_{2},g_{3} \\right)}}$"
      ],
      "text/plain": [
       "Eq(rho(z, x), sigma(x - z, g2, g3)/(sigma(x, g2, g3)*sigma(z, g2, g3)))"
      ]
     },
     "execution_count": 213,
     "metadata": {},
     "output_type": "execute_result"
    }
   ],
   "source": [
    "rho_def_zx"
   ]
  },
  {
   "cell_type": "code",
   "execution_count": 214,
   "metadata": {},
   "outputs": [
    {
     "data": {
      "text/latex": [
       "$\\displaystyle f{\\left(0,{\\mu}_{0},{\\mu}_{1} \\right)} + f{\\left(1,{\\mu}_{0},{\\mu}_{1} \\right)} \\operatorname{pw}{\\left(- {\\mu}_{0},g_{2},g_{3} \\right)} - f{\\left(2,{\\mu}_{0},{\\mu}_{1} \\right)} \\operatorname{pwp}{\\left(- {\\mu}_{0},g_{2},g_{3} \\right)}$"
      ],
      "text/plain": [
       "f(0, mu[0], mu[1]) + f(1, mu[0], mu[1])*pw(-mu[0], g2, g3) - f(2, mu[0], mu[1])*pwp(-mu[0], g2, g3)"
      ]
     },
     "execution_count": 214,
     "metadata": {},
     "output_type": "execute_result"
    }
   ],
   "source": [
    "rho_product_p_prime(3, conjugate=True).subs(z,-mu[0]).rhs"
   ]
  },
  {
   "cell_type": "code",
   "execution_count": 215,
   "metadata": {},
   "outputs": [
    {
     "data": {
      "text/latex": [
       "$\\displaystyle - \\rho{\\left(z,{\\mu}_{0} + {\\mu}_{1} \\right)} \\rho{\\left(z,- {\\mu}_{0} \\right)} \\rho{\\left(z,- {\\mu}_{1} \\right)} = f{\\left(1,{\\mu}_{0},{\\mu}_{1} \\right)} \\operatorname{pw}{\\left(z,g_{2},g_{3} \\right)} - f{\\left(1,{\\mu}_{0},{\\mu}_{1} \\right)} \\operatorname{pw}{\\left({\\mu}_{0},g_{2},g_{3} \\right)} - f{\\left(2,{\\mu}_{0},{\\mu}_{1} \\right)} \\operatorname{pwp}{\\left(z,g_{2},g_{3} \\right)} - f{\\left(2,{\\mu}_{0},{\\mu}_{1} \\right)} \\operatorname{pwp}{\\left({\\mu}_{0},g_{2},g_{3} \\right)}$"
      ],
      "text/plain": [
       "Eq(-rho(z, mu[0] + mu[1])*rho(z, -mu[0])*rho(z, -mu[1]), f(1, mu[0], mu[1])*pw(z, g2, g3) - f(1, mu[0], mu[1])*pw(mu[0], g2, g3) - f(2, mu[0], mu[1])*pwp(z, g2, g3) - f(2, mu[0], mu[1])*pwp(mu[0], g2, g3))"
      ]
     },
     "execution_count": 215,
     "metadata": {},
     "output_type": "execute_result"
    }
   ],
   "source": [
    "xx = Eq(rho_product_p_prime(3, conjugate=True).lhs, \n",
    "   rho_product_p_prime(3, conjugate=True).rhs - rho_product_p_prime(3, conjugate=True).subs(z,-mu[0]).rhs\n",
    "  ).subs([\n",
    "    (pw(-mu[0], g2, g3), pw(mu[0], g2, g3)),\n",
    "    (pwp(-mu[0], g2, g3), -pwp(mu[0], g2, g3))\n",
    "])\n",
    "xx"
   ]
  },
  {
   "cell_type": "code",
   "execution_count": 216,
   "metadata": {},
   "outputs": [
    {
     "data": {
      "text/latex": [
       "$\\displaystyle \\frac{\\partial}{\\partial z} \\rho{\\left(z,x \\right)} = \\frac{\\operatorname{pwp}{\\left(x,g_{2},g_{3} \\right)}}{2 \\rho{\\left(z,- x \\right)}} + \\frac{\\operatorname{pwp}{\\left(z,g_{2},g_{3} \\right)}}{2 \\rho{\\left(z,- x \\right)}} - \\rho{\\left(z,x \\right)} \\operatorname{zw}{\\left(x,g_{2},g_{3} \\right)}$"
      ],
      "text/plain": [
       "Eq(Derivative(rho(z, x), z), pwp(x, g2, g3)/(2*rho(z, -x)) + pwp(z, g2, g3)/(2*rho(z, -x)) - rho(z, x)*zw(x, g2, g3))"
      ]
     },
     "execution_count": 216,
     "metadata": {},
     "output_type": "execute_result"
    }
   ],
   "source": [
    "rho_zx_p_prime"
   ]
  },
  {
   "cell_type": "code",
   "execution_count": 217,
   "metadata": {},
   "outputs": [],
   "source": [
    "def rho_system(Nval):\n",
    "    all_vals = [*[mu[_i] for _i in range(Nval-1)], -sum([mu[_i] for _i in range(Nval-1)])]\n",
    "    return [   \n",
    "            rho_zx_p_prime.subs([\n",
    "                (x, v),\n",
    "                (\n",
    "                    pwp(z,g2,g3), \n",
    "                    solve(\n",
    "                        Eq(\n",
    "                            rho_product_p_prime(Nval, conjugate=True).lhs, \n",
    "                            rho_product_p_prime(Nval, conjugate=True).rhs - \n",
    "                            rho_product_p_prime(Nval, conjugate=True).subs(z,-v).rhs\n",
    "                        ).subs([\n",
    "                            (pw(-v, g2, g3), pw(v, g2, g3)),\n",
    "                            (pwp(-v, g2, g3), -pwp(v, g2, g3))\n",
    "                        ]), \n",
    "                        pwp(z,g2,g3)\n",
    "                    )[0]\n",
    "                ),\n",
    "                (pw(z,g2,g3), solve(rho_p_zx.subs(x, v), pw(z,g2,g3))[0]),\n",
    "            ]).expand()\n",
    "            for v in all_vals\n",
    "    ]\n",
    "def rho_system_conj(Nval):\n",
    "    all_vals = [*[-mu[_i] for _i in range(Nval-1)], sum([mu[_i] for _i in range(Nval-1)])]\n",
    "    return [   \n",
    "            rho_zx_p_prime.subs([\n",
    "                (x, v),\n",
    "                (\n",
    "                    pwp(z,g2,g3), \n",
    "                    solve(\n",
    "                        Eq(\n",
    "                            rho_product_p_prime(Nval, conjugate=False).lhs, \n",
    "                            rho_product_p_prime(Nval, conjugate=False).rhs - \n",
    "                            rho_product_p_prime(Nval, conjugate=False).subs(z,-v).rhs\n",
    "                        ).subs([\n",
    "                            (pw(-v, g2, g3), pw(v, g2, g3)),\n",
    "                            (pwp(-v, g2, g3), -pwp(v, g2, g3))\n",
    "                        ]), \n",
    "                        pwp(z,g2,g3)\n",
    "                    )[0]\n",
    "                ),\n",
    "                (pw(z,g2,g3), solve(rho_p_zx.subs(x, v), pw(z,g2,g3))[0]),\n",
    "            ]).expand().subs([(zw(_v,g2,g3), -zw(-_v,g2,g3)) for _v in all_vals])\n",
    "            for v in all_vals\n",
    "    ]    \n",
    "\n",
    "def complete_rho_system(N):\n",
    "    result = rho_system(N) + rho_system_conj(N)\n",
    "    return result"
   ]
  },
  {
   "cell_type": "code",
   "execution_count": 218,
   "metadata": {},
   "outputs": [
    {
     "data": {
      "text/latex": [
       "$\\displaystyle \\frac{\\partial}{\\partial z} \\rho{\\left(z,{\\mu}_{0} \\right)} = \\frac{f{\\left(1,{\\mu}_{0},{\\mu}_{1} \\right)} \\rho{\\left(z,{\\mu}_{0} \\right)}}{2 f{\\left(2,{\\mu}_{0},{\\mu}_{1} \\right)}} - \\rho{\\left(z,{\\mu}_{0} \\right)} \\operatorname{zw}{\\left({\\mu}_{0},g_{2},g_{3} \\right)} + \\frac{\\rho{\\left(z,{\\mu}_{0} + {\\mu}_{1} \\right)} \\rho{\\left(z,- {\\mu}_{1} \\right)}}{2 f{\\left(2,{\\mu}_{0},{\\mu}_{1} \\right)}}$"
      ],
      "text/plain": [
       "Eq(Derivative(rho(z, mu[0]), z), f(1, mu[0], mu[1])*rho(z, mu[0])/(2*f(2, mu[0], mu[1])) - rho(z, mu[0])*zw(mu[0], g2, g3) + rho(z, mu[0] + mu[1])*rho(z, -mu[1])/(2*f(2, mu[0], mu[1])))"
      ]
     },
     "execution_count": 218,
     "metadata": {},
     "output_type": "execute_result"
    },
    {
     "data": {
      "text/latex": [
       "$\\displaystyle \\frac{\\partial}{\\partial z} \\rho{\\left(z,{\\mu}_{1} \\right)} = \\frac{f{\\left(1,{\\mu}_{0},{\\mu}_{1} \\right)} \\rho{\\left(z,{\\mu}_{1} \\right)}}{2 f{\\left(2,{\\mu}_{0},{\\mu}_{1} \\right)}} - \\rho{\\left(z,{\\mu}_{1} \\right)} \\operatorname{zw}{\\left({\\mu}_{1},g_{2},g_{3} \\right)} + \\frac{\\rho{\\left(z,{\\mu}_{0} + {\\mu}_{1} \\right)} \\rho{\\left(z,- {\\mu}_{0} \\right)}}{2 f{\\left(2,{\\mu}_{0},{\\mu}_{1} \\right)}}$"
      ],
      "text/plain": [
       "Eq(Derivative(rho(z, mu[1]), z), f(1, mu[0], mu[1])*rho(z, mu[1])/(2*f(2, mu[0], mu[1])) - rho(z, mu[1])*zw(mu[1], g2, g3) + rho(z, mu[0] + mu[1])*rho(z, -mu[0])/(2*f(2, mu[0], mu[1])))"
      ]
     },
     "execution_count": 218,
     "metadata": {},
     "output_type": "execute_result"
    },
    {
     "data": {
      "text/latex": [
       "$\\displaystyle \\frac{\\partial}{\\partial z} \\rho{\\left(z,- {\\mu}_{0} - {\\mu}_{1} \\right)} = \\frac{f{\\left(1,{\\mu}_{0},{\\mu}_{1} \\right)} \\rho{\\left(z,- {\\mu}_{0} - {\\mu}_{1} \\right)}}{2 f{\\left(2,{\\mu}_{0},{\\mu}_{1} \\right)}} - \\rho{\\left(z,- {\\mu}_{0} - {\\mu}_{1} \\right)} \\operatorname{zw}{\\left(- {\\mu}_{0} - {\\mu}_{1},g_{2},g_{3} \\right)} + \\frac{\\rho{\\left(z,- {\\mu}_{0} \\right)} \\rho{\\left(z,- {\\mu}_{1} \\right)}}{2 f{\\left(2,{\\mu}_{0},{\\mu}_{1} \\right)}}$"
      ],
      "text/plain": [
       "Eq(Derivative(rho(z, -mu[0] - mu[1]), z), f(1, mu[0], mu[1])*rho(z, -mu[0] - mu[1])/(2*f(2, mu[0], mu[1])) - rho(z, -mu[0] - mu[1])*zw(-mu[0] - mu[1], g2, g3) + rho(z, -mu[0])*rho(z, -mu[1])/(2*f(2, mu[0], mu[1])))"
      ]
     },
     "execution_count": 218,
     "metadata": {},
     "output_type": "execute_result"
    },
    {
     "data": {
      "text/latex": [
       "$\\displaystyle \\frac{\\partial}{\\partial z} \\rho{\\left(z,- {\\mu}_{0} \\right)} = - \\frac{f{\\left(1,{\\mu}_{0},{\\mu}_{1} \\right)} \\rho{\\left(z,- {\\mu}_{0} \\right)}}{2 f{\\left(2,{\\mu}_{0},{\\mu}_{1} \\right)}} + \\rho{\\left(z,- {\\mu}_{0} \\right)} \\operatorname{zw}{\\left({\\mu}_{0},g_{2},g_{3} \\right)} - \\frac{\\sigma{\\left(z - {\\mu}_{0},g_{2},g_{3} \\right)} \\sigma{\\left(z - {\\mu}_{1},g_{2},g_{3} \\right)} \\sigma{\\left(z + {\\mu}_{0} + {\\mu}_{1},g_{2},g_{3} \\right)}}{2 f{\\left(2,{\\mu}_{0},{\\mu}_{1} \\right)} \\rho{\\left(z,{\\mu}_{0} \\right)} \\sigma^{3}{\\left(z,g_{2},g_{3} \\right)} \\sigma{\\left(- {\\mu}_{0} - {\\mu}_{1},g_{2},g_{3} \\right)} \\sigma{\\left({\\mu}_{0},g_{2},g_{3} \\right)} \\sigma{\\left({\\mu}_{1},g_{2},g_{3} \\right)}}$"
      ],
      "text/plain": [
       "Eq(Derivative(rho(z, -mu[0]), z), -f(1, mu[0], mu[1])*rho(z, -mu[0])/(2*f(2, mu[0], mu[1])) + rho(z, -mu[0])*zw(mu[0], g2, g3) - sigma(z - mu[0], g2, g3)*sigma(z - mu[1], g2, g3)*sigma(z + mu[0] + mu[1], g2, g3)/(2*f(2, mu[0], mu[1])*rho(z, mu[0])*sigma(z, g2, g3)**3*sigma(-mu[0] - mu[1], g2, g3)*sigma(mu[0], g2, g3)*sigma(mu[1], g2, g3)))"
      ]
     },
     "execution_count": 218,
     "metadata": {},
     "output_type": "execute_result"
    },
    {
     "data": {
      "text/latex": [
       "$\\displaystyle \\frac{\\partial}{\\partial z} \\rho{\\left(z,- {\\mu}_{1} \\right)} = - \\frac{f{\\left(1,{\\mu}_{0},{\\mu}_{1} \\right)} \\rho{\\left(z,- {\\mu}_{1} \\right)}}{2 f{\\left(2,{\\mu}_{0},{\\mu}_{1} \\right)}} + \\rho{\\left(z,- {\\mu}_{1} \\right)} \\operatorname{zw}{\\left({\\mu}_{1},g_{2},g_{3} \\right)} - \\frac{\\sigma{\\left(z - {\\mu}_{0},g_{2},g_{3} \\right)} \\sigma{\\left(z - {\\mu}_{1},g_{2},g_{3} \\right)} \\sigma{\\left(z + {\\mu}_{0} + {\\mu}_{1},g_{2},g_{3} \\right)}}{2 f{\\left(2,{\\mu}_{0},{\\mu}_{1} \\right)} \\rho{\\left(z,{\\mu}_{1} \\right)} \\sigma^{3}{\\left(z,g_{2},g_{3} \\right)} \\sigma{\\left(- {\\mu}_{0} - {\\mu}_{1},g_{2},g_{3} \\right)} \\sigma{\\left({\\mu}_{0},g_{2},g_{3} \\right)} \\sigma{\\left({\\mu}_{1},g_{2},g_{3} \\right)}}$"
      ],
      "text/plain": [
       "Eq(Derivative(rho(z, -mu[1]), z), -f(1, mu[0], mu[1])*rho(z, -mu[1])/(2*f(2, mu[0], mu[1])) + rho(z, -mu[1])*zw(mu[1], g2, g3) - sigma(z - mu[0], g2, g3)*sigma(z - mu[1], g2, g3)*sigma(z + mu[0] + mu[1], g2, g3)/(2*f(2, mu[0], mu[1])*rho(z, mu[1])*sigma(z, g2, g3)**3*sigma(-mu[0] - mu[1], g2, g3)*sigma(mu[0], g2, g3)*sigma(mu[1], g2, g3)))"
      ]
     },
     "execution_count": 218,
     "metadata": {},
     "output_type": "execute_result"
    },
    {
     "data": {
      "text/latex": [
       "$\\displaystyle \\frac{\\partial}{\\partial z} \\rho{\\left(z,{\\mu}_{0} + {\\mu}_{1} \\right)} = - \\frac{f{\\left(1,{\\mu}_{0},{\\mu}_{1} \\right)} \\rho{\\left(z,{\\mu}_{0} + {\\mu}_{1} \\right)}}{2 f{\\left(2,{\\mu}_{0},{\\mu}_{1} \\right)}} + \\rho{\\left(z,{\\mu}_{0} + {\\mu}_{1} \\right)} \\operatorname{zw}{\\left(- {\\mu}_{0} - {\\mu}_{1},g_{2},g_{3} \\right)} - \\frac{\\sigma{\\left(z - {\\mu}_{0},g_{2},g_{3} \\right)} \\sigma{\\left(z - {\\mu}_{1},g_{2},g_{3} \\right)} \\sigma{\\left(z + {\\mu}_{0} + {\\mu}_{1},g_{2},g_{3} \\right)}}{2 f{\\left(2,{\\mu}_{0},{\\mu}_{1} \\right)} \\rho{\\left(z,- {\\mu}_{0} - {\\mu}_{1} \\right)} \\sigma^{3}{\\left(z,g_{2},g_{3} \\right)} \\sigma{\\left(- {\\mu}_{0} - {\\mu}_{1},g_{2},g_{3} \\right)} \\sigma{\\left({\\mu}_{0},g_{2},g_{3} \\right)} \\sigma{\\left({\\mu}_{1},g_{2},g_{3} \\right)}}$"
      ],
      "text/plain": [
       "Eq(Derivative(rho(z, mu[0] + mu[1]), z), -f(1, mu[0], mu[1])*rho(z, mu[0] + mu[1])/(2*f(2, mu[0], mu[1])) + rho(z, mu[0] + mu[1])*zw(-mu[0] - mu[1], g2, g3) - sigma(z - mu[0], g2, g3)*sigma(z - mu[1], g2, g3)*sigma(z + mu[0] + mu[1], g2, g3)/(2*f(2, mu[0], mu[1])*rho(z, -mu[0] - mu[1])*sigma(z, g2, g3)**3*sigma(-mu[0] - mu[1], g2, g3)*sigma(mu[0], g2, g3)*sigma(mu[1], g2, g3)))"
      ]
     },
     "execution_count": 218,
     "metadata": {},
     "output_type": "execute_result"
    }
   ],
   "source": [
    "for eq in complete_rho_system(3):\n",
    "    eq"
   ]
  },
  {
   "cell_type": "code",
   "execution_count": 219,
   "metadata": {},
   "outputs": [
    {
     "data": {
      "text/latex": [
       "$\\displaystyle \\frac{\\partial}{\\partial z} \\rho{\\left(z,{\\mu}_{0} \\right)} = \\frac{f{\\left(1,{\\mu}_{0},{\\mu}_{1},{\\mu}_{2} \\right)} \\rho{\\left(z,{\\mu}_{0} \\right)}}{2 f{\\left(2,{\\mu}_{0},{\\mu}_{1},{\\mu}_{2} \\right)}} - \\rho{\\left(z,{\\mu}_{0} \\right)} \\operatorname{zw}{\\left({\\mu}_{0},g_{2},g_{3} \\right)} + \\frac{6 f{\\left(3,{\\mu}_{0},{\\mu}_{1},{\\mu}_{2} \\right)} \\operatorname{pw}{\\left({\\mu}_{0},g_{2},g_{3} \\right)} \\rho{\\left(z,{\\mu}_{0} \\right)}}{f{\\left(2,{\\mu}_{0},{\\mu}_{1},{\\mu}_{2} \\right)}} + \\frac{3 f{\\left(3,{\\mu}_{0},{\\mu}_{1},{\\mu}_{2} \\right)} \\rho{\\left(z,- {\\mu}_{0} \\right)} \\rho^{2}{\\left(z,{\\mu}_{0} \\right)}}{f{\\left(2,{\\mu}_{0},{\\mu}_{1},{\\mu}_{2} \\right)}} - \\frac{\\rho{\\left(z,- {\\mu}_{1} \\right)} \\sigma{\\left(- z - {\\mu}_{2},g_{2},g_{3} \\right)} \\sigma{\\left(- z + {\\mu}_{0} + {\\mu}_{1} + {\\mu}_{2},g_{2},g_{3} \\right)}}{2 f{\\left(2,{\\mu}_{0},{\\mu}_{1},{\\mu}_{2} \\right)} \\sigma^{2}{\\left(z,g_{2},g_{3} \\right)} \\sigma{\\left(- {\\mu}_{0} - {\\mu}_{1} - {\\mu}_{2},g_{2},g_{3} \\right)} \\sigma{\\left({\\mu}_{2},g_{2},g_{3} \\right)}}$"
      ],
      "text/plain": [
       "Eq(Derivative(rho(z, mu[0]), z), f(1, mu[0], mu[1], mu[2])*rho(z, mu[0])/(2*f(2, mu[0], mu[1], mu[2])) - rho(z, mu[0])*zw(mu[0], g2, g3) + 6*f(3, mu[0], mu[1], mu[2])*pw(mu[0], g2, g3)*rho(z, mu[0])/f(2, mu[0], mu[1], mu[2]) + 3*f(3, mu[0], mu[1], mu[2])*rho(z, -mu[0])*rho(z, mu[0])**2/f(2, mu[0], mu[1], mu[2]) - rho(z, -mu[1])*sigma(-z - mu[2], g2, g3)*sigma(-z + mu[0] + mu[1] + mu[2], g2, g3)/(2*f(2, mu[0], mu[1], mu[2])*sigma(z, g2, g3)**2*sigma(-mu[0] - mu[1] - mu[2], g2, g3)*sigma(mu[2], g2, g3)))"
      ]
     },
     "execution_count": 219,
     "metadata": {},
     "output_type": "execute_result"
    },
    {
     "data": {
      "text/latex": [
       "$\\displaystyle \\frac{\\partial}{\\partial z} \\rho{\\left(z,{\\mu}_{1} \\right)} = \\frac{f{\\left(1,{\\mu}_{0},{\\mu}_{1},{\\mu}_{2} \\right)} \\rho{\\left(z,{\\mu}_{1} \\right)}}{2 f{\\left(2,{\\mu}_{0},{\\mu}_{1},{\\mu}_{2} \\right)}} - \\rho{\\left(z,{\\mu}_{1} \\right)} \\operatorname{zw}{\\left({\\mu}_{1},g_{2},g_{3} \\right)} + \\frac{6 f{\\left(3,{\\mu}_{0},{\\mu}_{1},{\\mu}_{2} \\right)} \\operatorname{pw}{\\left({\\mu}_{1},g_{2},g_{3} \\right)} \\rho{\\left(z,{\\mu}_{1} \\right)}}{f{\\left(2,{\\mu}_{0},{\\mu}_{1},{\\mu}_{2} \\right)}} + \\frac{3 f{\\left(3,{\\mu}_{0},{\\mu}_{1},{\\mu}_{2} \\right)} \\rho{\\left(z,- {\\mu}_{1} \\right)} \\rho^{2}{\\left(z,{\\mu}_{1} \\right)}}{f{\\left(2,{\\mu}_{0},{\\mu}_{1},{\\mu}_{2} \\right)}} - \\frac{\\rho{\\left(z,- {\\mu}_{0} \\right)} \\sigma{\\left(- z - {\\mu}_{2},g_{2},g_{3} \\right)} \\sigma{\\left(- z + {\\mu}_{0} + {\\mu}_{1} + {\\mu}_{2},g_{2},g_{3} \\right)}}{2 f{\\left(2,{\\mu}_{0},{\\mu}_{1},{\\mu}_{2} \\right)} \\sigma^{2}{\\left(z,g_{2},g_{3} \\right)} \\sigma{\\left(- {\\mu}_{0} - {\\mu}_{1} - {\\mu}_{2},g_{2},g_{3} \\right)} \\sigma{\\left({\\mu}_{2},g_{2},g_{3} \\right)}}$"
      ],
      "text/plain": [
       "Eq(Derivative(rho(z, mu[1]), z), f(1, mu[0], mu[1], mu[2])*rho(z, mu[1])/(2*f(2, mu[0], mu[1], mu[2])) - rho(z, mu[1])*zw(mu[1], g2, g3) + 6*f(3, mu[0], mu[1], mu[2])*pw(mu[1], g2, g3)*rho(z, mu[1])/f(2, mu[0], mu[1], mu[2]) + 3*f(3, mu[0], mu[1], mu[2])*rho(z, -mu[1])*rho(z, mu[1])**2/f(2, mu[0], mu[1], mu[2]) - rho(z, -mu[0])*sigma(-z - mu[2], g2, g3)*sigma(-z + mu[0] + mu[1] + mu[2], g2, g3)/(2*f(2, mu[0], mu[1], mu[2])*sigma(z, g2, g3)**2*sigma(-mu[0] - mu[1] - mu[2], g2, g3)*sigma(mu[2], g2, g3)))"
      ]
     },
     "execution_count": 219,
     "metadata": {},
     "output_type": "execute_result"
    },
    {
     "data": {
      "text/latex": [
       "$\\displaystyle \\frac{\\partial}{\\partial z} \\rho{\\left(z,{\\mu}_{2} \\right)} = \\frac{f{\\left(1,{\\mu}_{0},{\\mu}_{1},{\\mu}_{2} \\right)} \\rho{\\left(z,{\\mu}_{2} \\right)}}{2 f{\\left(2,{\\mu}_{0},{\\mu}_{1},{\\mu}_{2} \\right)}} - \\rho{\\left(z,{\\mu}_{2} \\right)} \\operatorname{zw}{\\left({\\mu}_{2},g_{2},g_{3} \\right)} + \\frac{6 f{\\left(3,{\\mu}_{0},{\\mu}_{1},{\\mu}_{2} \\right)} \\operatorname{pw}{\\left({\\mu}_{2},g_{2},g_{3} \\right)} \\rho{\\left(z,{\\mu}_{2} \\right)}}{f{\\left(2,{\\mu}_{0},{\\mu}_{1},{\\mu}_{2} \\right)}} + \\frac{3 f{\\left(3,{\\mu}_{0},{\\mu}_{1},{\\mu}_{2} \\right)} \\rho{\\left(z,- {\\mu}_{2} \\right)} \\rho^{2}{\\left(z,{\\mu}_{2} \\right)}}{f{\\left(2,{\\mu}_{0},{\\mu}_{1},{\\mu}_{2} \\right)}} - \\frac{\\rho{\\left(z,- {\\mu}_{0} \\right)} \\rho{\\left(z,- {\\mu}_{1} \\right)} \\sigma{\\left(- z - {\\mu}_{2},g_{2},g_{3} \\right)} \\sigma{\\left(- z + {\\mu}_{0} + {\\mu}_{1} + {\\mu}_{2},g_{2},g_{3} \\right)}}{2 f{\\left(2,{\\mu}_{0},{\\mu}_{1},{\\mu}_{2} \\right)} \\rho{\\left(z,- {\\mu}_{2} \\right)} \\sigma^{2}{\\left(z,g_{2},g_{3} \\right)} \\sigma{\\left(- {\\mu}_{0} - {\\mu}_{1} - {\\mu}_{2},g_{2},g_{3} \\right)} \\sigma{\\left({\\mu}_{2},g_{2},g_{3} \\right)}}$"
      ],
      "text/plain": [
       "Eq(Derivative(rho(z, mu[2]), z), f(1, mu[0], mu[1], mu[2])*rho(z, mu[2])/(2*f(2, mu[0], mu[1], mu[2])) - rho(z, mu[2])*zw(mu[2], g2, g3) + 6*f(3, mu[0], mu[1], mu[2])*pw(mu[2], g2, g3)*rho(z, mu[2])/f(2, mu[0], mu[1], mu[2]) + 3*f(3, mu[0], mu[1], mu[2])*rho(z, -mu[2])*rho(z, mu[2])**2/f(2, mu[0], mu[1], mu[2]) - rho(z, -mu[0])*rho(z, -mu[1])*sigma(-z - mu[2], g2, g3)*sigma(-z + mu[0] + mu[1] + mu[2], g2, g3)/(2*f(2, mu[0], mu[1], mu[2])*rho(z, -mu[2])*sigma(z, g2, g3)**2*sigma(-mu[0] - mu[1] - mu[2], g2, g3)*sigma(mu[2], g2, g3)))"
      ]
     },
     "execution_count": 219,
     "metadata": {},
     "output_type": "execute_result"
    },
    {
     "data": {
      "text/latex": [
       "$\\displaystyle \\frac{\\partial}{\\partial z} \\rho{\\left(z,- {\\mu}_{0} - {\\mu}_{1} - {\\mu}_{2} \\right)} = \\frac{f{\\left(1,{\\mu}_{0},{\\mu}_{1},{\\mu}_{2} \\right)} \\rho{\\left(z,- {\\mu}_{0} - {\\mu}_{1} - {\\mu}_{2} \\right)}}{2 f{\\left(2,{\\mu}_{0},{\\mu}_{1},{\\mu}_{2} \\right)}} - \\rho{\\left(z,- {\\mu}_{0} - {\\mu}_{1} - {\\mu}_{2} \\right)} \\operatorname{zw}{\\left(- {\\mu}_{0} - {\\mu}_{1} - {\\mu}_{2},g_{2},g_{3} \\right)} + \\frac{6 f{\\left(3,{\\mu}_{0},{\\mu}_{1},{\\mu}_{2} \\right)} \\operatorname{pw}{\\left(- {\\mu}_{0} - {\\mu}_{1} - {\\mu}_{2},g_{2},g_{3} \\right)} \\rho{\\left(z,- {\\mu}_{0} - {\\mu}_{1} - {\\mu}_{2} \\right)}}{f{\\left(2,{\\mu}_{0},{\\mu}_{1},{\\mu}_{2} \\right)}} + \\frac{3 f{\\left(3,{\\mu}_{0},{\\mu}_{1},{\\mu}_{2} \\right)} \\rho^{2}{\\left(z,- {\\mu}_{0} - {\\mu}_{1} - {\\mu}_{2} \\right)} \\rho{\\left(z,{\\mu}_{0} + {\\mu}_{1} + {\\mu}_{2} \\right)}}{f{\\left(2,{\\mu}_{0},{\\mu}_{1},{\\mu}_{2} \\right)}} - \\frac{\\rho{\\left(z,- {\\mu}_{0} \\right)} \\rho{\\left(z,- {\\mu}_{1} \\right)} \\sigma{\\left(- z - {\\mu}_{2},g_{2},g_{3} \\right)} \\sigma{\\left(- z + {\\mu}_{0} + {\\mu}_{1} + {\\mu}_{2},g_{2},g_{3} \\right)}}{2 f{\\left(2,{\\mu}_{0},{\\mu}_{1},{\\mu}_{2} \\right)} \\rho{\\left(z,{\\mu}_{0} + {\\mu}_{1} + {\\mu}_{2} \\right)} \\sigma^{2}{\\left(z,g_{2},g_{3} \\right)} \\sigma{\\left(- {\\mu}_{0} - {\\mu}_{1} - {\\mu}_{2},g_{2},g_{3} \\right)} \\sigma{\\left({\\mu}_{2},g_{2},g_{3} \\right)}}$"
      ],
      "text/plain": [
       "Eq(Derivative(rho(z, -mu[0] - mu[1] - mu[2]), z), f(1, mu[0], mu[1], mu[2])*rho(z, -mu[0] - mu[1] - mu[2])/(2*f(2, mu[0], mu[1], mu[2])) - rho(z, -mu[0] - mu[1] - mu[2])*zw(-mu[0] - mu[1] - mu[2], g2, g3) + 6*f(3, mu[0], mu[1], mu[2])*pw(-mu[0] - mu[1] - mu[2], g2, g3)*rho(z, -mu[0] - mu[1] - mu[2])/f(2, mu[0], mu[1], mu[2]) + 3*f(3, mu[0], mu[1], mu[2])*rho(z, -mu[0] - mu[1] - mu[2])**2*rho(z, mu[0] + mu[1] + mu[2])/f(2, mu[0], mu[1], mu[2]) - rho(z, -mu[0])*rho(z, -mu[1])*sigma(-z - mu[2], g2, g3)*sigma(-z + mu[0] + mu[1] + mu[2], g2, g3)/(2*f(2, mu[0], mu[1], mu[2])*rho(z, mu[0] + mu[1] + mu[2])*sigma(z, g2, g3)**2*sigma(-mu[0] - mu[1] - mu[2], g2, g3)*sigma(mu[2], g2, g3)))"
      ]
     },
     "execution_count": 219,
     "metadata": {},
     "output_type": "execute_result"
    },
    {
     "data": {
      "text/latex": [
       "$\\displaystyle \\frac{\\partial}{\\partial z} \\rho{\\left(z,- {\\mu}_{0} \\right)} = - \\frac{f{\\left(1,{\\mu}_{0},{\\mu}_{1},{\\mu}_{2} \\right)} \\rho{\\left(z,- {\\mu}_{0} \\right)}}{2 f{\\left(2,{\\mu}_{0},{\\mu}_{1},{\\mu}_{2} \\right)}} + \\rho{\\left(z,- {\\mu}_{0} \\right)} \\operatorname{zw}{\\left({\\mu}_{0},g_{2},g_{3} \\right)} - \\frac{6 f{\\left(3,{\\mu}_{0},{\\mu}_{1},{\\mu}_{2} \\right)} \\operatorname{pw}{\\left(- {\\mu}_{0},g_{2},g_{3} \\right)} \\rho{\\left(z,- {\\mu}_{0} \\right)}}{f{\\left(2,{\\mu}_{0},{\\mu}_{1},{\\mu}_{2} \\right)}} - \\frac{3 f{\\left(3,{\\mu}_{0},{\\mu}_{1},{\\mu}_{2} \\right)} \\rho^{2}{\\left(z,- {\\mu}_{0} \\right)} \\rho{\\left(z,{\\mu}_{0} \\right)}}{f{\\left(2,{\\mu}_{0},{\\mu}_{1},{\\mu}_{2} \\right)}} + \\frac{\\sigma{\\left(z - {\\mu}_{0},g_{2},g_{3} \\right)} \\sigma{\\left(z - {\\mu}_{1},g_{2},g_{3} \\right)} \\sigma{\\left(z - {\\mu}_{2},g_{2},g_{3} \\right)} \\sigma{\\left(z + {\\mu}_{0} + {\\mu}_{1} + {\\mu}_{2},g_{2},g_{3} \\right)}}{2 f{\\left(2,{\\mu}_{0},{\\mu}_{1},{\\mu}_{2} \\right)} \\rho{\\left(z,{\\mu}_{0} \\right)} \\sigma^{4}{\\left(z,g_{2},g_{3} \\right)} \\sigma{\\left(- {\\mu}_{0} - {\\mu}_{1} - {\\mu}_{2},g_{2},g_{3} \\right)} \\sigma{\\left({\\mu}_{0},g_{2},g_{3} \\right)} \\sigma{\\left({\\mu}_{1},g_{2},g_{3} \\right)} \\sigma{\\left({\\mu}_{2},g_{2},g_{3} \\right)}}$"
      ],
      "text/plain": [
       "Eq(Derivative(rho(z, -mu[0]), z), -f(1, mu[0], mu[1], mu[2])*rho(z, -mu[0])/(2*f(2, mu[0], mu[1], mu[2])) + rho(z, -mu[0])*zw(mu[0], g2, g3) - 6*f(3, mu[0], mu[1], mu[2])*pw(-mu[0], g2, g3)*rho(z, -mu[0])/f(2, mu[0], mu[1], mu[2]) - 3*f(3, mu[0], mu[1], mu[2])*rho(z, -mu[0])**2*rho(z, mu[0])/f(2, mu[0], mu[1], mu[2]) + sigma(z - mu[0], g2, g3)*sigma(z - mu[1], g2, g3)*sigma(z - mu[2], g2, g3)*sigma(z + mu[0] + mu[1] + mu[2], g2, g3)/(2*f(2, mu[0], mu[1], mu[2])*rho(z, mu[0])*sigma(z, g2, g3)**4*sigma(-mu[0] - mu[1] - mu[2], g2, g3)*sigma(mu[0], g2, g3)*sigma(mu[1], g2, g3)*sigma(mu[2], g2, g3)))"
      ]
     },
     "execution_count": 219,
     "metadata": {},
     "output_type": "execute_result"
    },
    {
     "data": {
      "text/latex": [
       "$\\displaystyle \\frac{\\partial}{\\partial z} \\rho{\\left(z,- {\\mu}_{1} \\right)} = - \\frac{f{\\left(1,{\\mu}_{0},{\\mu}_{1},{\\mu}_{2} \\right)} \\rho{\\left(z,- {\\mu}_{1} \\right)}}{2 f{\\left(2,{\\mu}_{0},{\\mu}_{1},{\\mu}_{2} \\right)}} + \\rho{\\left(z,- {\\mu}_{1} \\right)} \\operatorname{zw}{\\left({\\mu}_{1},g_{2},g_{3} \\right)} - \\frac{6 f{\\left(3,{\\mu}_{0},{\\mu}_{1},{\\mu}_{2} \\right)} \\operatorname{pw}{\\left(- {\\mu}_{1},g_{2},g_{3} \\right)} \\rho{\\left(z,- {\\mu}_{1} \\right)}}{f{\\left(2,{\\mu}_{0},{\\mu}_{1},{\\mu}_{2} \\right)}} - \\frac{3 f{\\left(3,{\\mu}_{0},{\\mu}_{1},{\\mu}_{2} \\right)} \\rho^{2}{\\left(z,- {\\mu}_{1} \\right)} \\rho{\\left(z,{\\mu}_{1} \\right)}}{f{\\left(2,{\\mu}_{0},{\\mu}_{1},{\\mu}_{2} \\right)}} + \\frac{\\sigma{\\left(z - {\\mu}_{0},g_{2},g_{3} \\right)} \\sigma{\\left(z - {\\mu}_{1},g_{2},g_{3} \\right)} \\sigma{\\left(z - {\\mu}_{2},g_{2},g_{3} \\right)} \\sigma{\\left(z + {\\mu}_{0} + {\\mu}_{1} + {\\mu}_{2},g_{2},g_{3} \\right)}}{2 f{\\left(2,{\\mu}_{0},{\\mu}_{1},{\\mu}_{2} \\right)} \\rho{\\left(z,{\\mu}_{1} \\right)} \\sigma^{4}{\\left(z,g_{2},g_{3} \\right)} \\sigma{\\left(- {\\mu}_{0} - {\\mu}_{1} - {\\mu}_{2},g_{2},g_{3} \\right)} \\sigma{\\left({\\mu}_{0},g_{2},g_{3} \\right)} \\sigma{\\left({\\mu}_{1},g_{2},g_{3} \\right)} \\sigma{\\left({\\mu}_{2},g_{2},g_{3} \\right)}}$"
      ],
      "text/plain": [
       "Eq(Derivative(rho(z, -mu[1]), z), -f(1, mu[0], mu[1], mu[2])*rho(z, -mu[1])/(2*f(2, mu[0], mu[1], mu[2])) + rho(z, -mu[1])*zw(mu[1], g2, g3) - 6*f(3, mu[0], mu[1], mu[2])*pw(-mu[1], g2, g3)*rho(z, -mu[1])/f(2, mu[0], mu[1], mu[2]) - 3*f(3, mu[0], mu[1], mu[2])*rho(z, -mu[1])**2*rho(z, mu[1])/f(2, mu[0], mu[1], mu[2]) + sigma(z - mu[0], g2, g3)*sigma(z - mu[1], g2, g3)*sigma(z - mu[2], g2, g3)*sigma(z + mu[0] + mu[1] + mu[2], g2, g3)/(2*f(2, mu[0], mu[1], mu[2])*rho(z, mu[1])*sigma(z, g2, g3)**4*sigma(-mu[0] - mu[1] - mu[2], g2, g3)*sigma(mu[0], g2, g3)*sigma(mu[1], g2, g3)*sigma(mu[2], g2, g3)))"
      ]
     },
     "execution_count": 219,
     "metadata": {},
     "output_type": "execute_result"
    },
    {
     "data": {
      "text/latex": [
       "$\\displaystyle \\frac{\\partial}{\\partial z} \\rho{\\left(z,- {\\mu}_{2} \\right)} = - \\frac{f{\\left(1,{\\mu}_{0},{\\mu}_{1},{\\mu}_{2} \\right)} \\rho{\\left(z,- {\\mu}_{2} \\right)}}{2 f{\\left(2,{\\mu}_{0},{\\mu}_{1},{\\mu}_{2} \\right)}} + \\rho{\\left(z,- {\\mu}_{2} \\right)} \\operatorname{zw}{\\left({\\mu}_{2},g_{2},g_{3} \\right)} - \\frac{6 f{\\left(3,{\\mu}_{0},{\\mu}_{1},{\\mu}_{2} \\right)} \\operatorname{pw}{\\left(- {\\mu}_{2},g_{2},g_{3} \\right)} \\rho{\\left(z,- {\\mu}_{2} \\right)}}{f{\\left(2,{\\mu}_{0},{\\mu}_{1},{\\mu}_{2} \\right)}} - \\frac{3 f{\\left(3,{\\mu}_{0},{\\mu}_{1},{\\mu}_{2} \\right)} \\rho^{2}{\\left(z,- {\\mu}_{2} \\right)} \\rho{\\left(z,{\\mu}_{2} \\right)}}{f{\\left(2,{\\mu}_{0},{\\mu}_{1},{\\mu}_{2} \\right)}} + \\frac{\\sigma{\\left(z - {\\mu}_{0},g_{2},g_{3} \\right)} \\sigma{\\left(z - {\\mu}_{1},g_{2},g_{3} \\right)} \\sigma{\\left(z - {\\mu}_{2},g_{2},g_{3} \\right)} \\sigma{\\left(z + {\\mu}_{0} + {\\mu}_{1} + {\\mu}_{2},g_{2},g_{3} \\right)}}{2 f{\\left(2,{\\mu}_{0},{\\mu}_{1},{\\mu}_{2} \\right)} \\rho{\\left(z,{\\mu}_{2} \\right)} \\sigma^{4}{\\left(z,g_{2},g_{3} \\right)} \\sigma{\\left(- {\\mu}_{0} - {\\mu}_{1} - {\\mu}_{2},g_{2},g_{3} \\right)} \\sigma{\\left({\\mu}_{0},g_{2},g_{3} \\right)} \\sigma{\\left({\\mu}_{1},g_{2},g_{3} \\right)} \\sigma{\\left({\\mu}_{2},g_{2},g_{3} \\right)}}$"
      ],
      "text/plain": [
       "Eq(Derivative(rho(z, -mu[2]), z), -f(1, mu[0], mu[1], mu[2])*rho(z, -mu[2])/(2*f(2, mu[0], mu[1], mu[2])) + rho(z, -mu[2])*zw(mu[2], g2, g3) - 6*f(3, mu[0], mu[1], mu[2])*pw(-mu[2], g2, g3)*rho(z, -mu[2])/f(2, mu[0], mu[1], mu[2]) - 3*f(3, mu[0], mu[1], mu[2])*rho(z, -mu[2])**2*rho(z, mu[2])/f(2, mu[0], mu[1], mu[2]) + sigma(z - mu[0], g2, g3)*sigma(z - mu[1], g2, g3)*sigma(z - mu[2], g2, g3)*sigma(z + mu[0] + mu[1] + mu[2], g2, g3)/(2*f(2, mu[0], mu[1], mu[2])*rho(z, mu[2])*sigma(z, g2, g3)**4*sigma(-mu[0] - mu[1] - mu[2], g2, g3)*sigma(mu[0], g2, g3)*sigma(mu[1], g2, g3)*sigma(mu[2], g2, g3)))"
      ]
     },
     "execution_count": 219,
     "metadata": {},
     "output_type": "execute_result"
    },
    {
     "data": {
      "text/latex": [
       "$\\displaystyle \\frac{\\partial}{\\partial z} \\rho{\\left(z,{\\mu}_{0} + {\\mu}_{1} + {\\mu}_{2} \\right)} = - \\frac{f{\\left(1,{\\mu}_{0},{\\mu}_{1},{\\mu}_{2} \\right)} \\rho{\\left(z,{\\mu}_{0} + {\\mu}_{1} + {\\mu}_{2} \\right)}}{2 f{\\left(2,{\\mu}_{0},{\\mu}_{1},{\\mu}_{2} \\right)}} + \\rho{\\left(z,{\\mu}_{0} + {\\mu}_{1} + {\\mu}_{2} \\right)} \\operatorname{zw}{\\left(- {\\mu}_{0} - {\\mu}_{1} - {\\mu}_{2},g_{2},g_{3} \\right)} - \\frac{6 f{\\left(3,{\\mu}_{0},{\\mu}_{1},{\\mu}_{2} \\right)} \\operatorname{pw}{\\left({\\mu}_{0} + {\\mu}_{1} + {\\mu}_{2},g_{2},g_{3} \\right)} \\rho{\\left(z,{\\mu}_{0} + {\\mu}_{1} + {\\mu}_{2} \\right)}}{f{\\left(2,{\\mu}_{0},{\\mu}_{1},{\\mu}_{2} \\right)}} - \\frac{3 f{\\left(3,{\\mu}_{0},{\\mu}_{1},{\\mu}_{2} \\right)} \\rho{\\left(z,- {\\mu}_{0} - {\\mu}_{1} - {\\mu}_{2} \\right)} \\rho^{2}{\\left(z,{\\mu}_{0} + {\\mu}_{1} + {\\mu}_{2} \\right)}}{f{\\left(2,{\\mu}_{0},{\\mu}_{1},{\\mu}_{2} \\right)}} + \\frac{\\sigma{\\left(z - {\\mu}_{0},g_{2},g_{3} \\right)} \\sigma{\\left(z - {\\mu}_{1},g_{2},g_{3} \\right)} \\sigma{\\left(z - {\\mu}_{2},g_{2},g_{3} \\right)} \\sigma{\\left(z + {\\mu}_{0} + {\\mu}_{1} + {\\mu}_{2},g_{2},g_{3} \\right)}}{2 f{\\left(2,{\\mu}_{0},{\\mu}_{1},{\\mu}_{2} \\right)} \\rho{\\left(z,- {\\mu}_{0} - {\\mu}_{1} - {\\mu}_{2} \\right)} \\sigma^{4}{\\left(z,g_{2},g_{3} \\right)} \\sigma{\\left(- {\\mu}_{0} - {\\mu}_{1} - {\\mu}_{2},g_{2},g_{3} \\right)} \\sigma{\\left({\\mu}_{0},g_{2},g_{3} \\right)} \\sigma{\\left({\\mu}_{1},g_{2},g_{3} \\right)} \\sigma{\\left({\\mu}_{2},g_{2},g_{3} \\right)}}$"
      ],
      "text/plain": [
       "Eq(Derivative(rho(z, mu[0] + mu[1] + mu[2]), z), -f(1, mu[0], mu[1], mu[2])*rho(z, mu[0] + mu[1] + mu[2])/(2*f(2, mu[0], mu[1], mu[2])) + rho(z, mu[0] + mu[1] + mu[2])*zw(-mu[0] - mu[1] - mu[2], g2, g3) - 6*f(3, mu[0], mu[1], mu[2])*pw(mu[0] + mu[1] + mu[2], g2, g3)*rho(z, mu[0] + mu[1] + mu[2])/f(2, mu[0], mu[1], mu[2]) - 3*f(3, mu[0], mu[1], mu[2])*rho(z, -mu[0] - mu[1] - mu[2])*rho(z, mu[0] + mu[1] + mu[2])**2/f(2, mu[0], mu[1], mu[2]) + sigma(z - mu[0], g2, g3)*sigma(z - mu[1], g2, g3)*sigma(z - mu[2], g2, g3)*sigma(z + mu[0] + mu[1] + mu[2], g2, g3)/(2*f(2, mu[0], mu[1], mu[2])*rho(z, -mu[0] - mu[1] - mu[2])*sigma(z, g2, g3)**4*sigma(-mu[0] - mu[1] - mu[2], g2, g3)*sigma(mu[0], g2, g3)*sigma(mu[1], g2, g3)*sigma(mu[2], g2, g3)))"
      ]
     },
     "execution_count": 219,
     "metadata": {},
     "output_type": "execute_result"
    }
   ],
   "source": [
    "for eq in complete_rho_system(4):\n",
    "    eq"
   ]
  },
  {
   "cell_type": "code",
   "execution_count": 220,
   "metadata": {},
   "outputs": [
    {
     "data": {
      "text/latex": [
       "$\\displaystyle \\frac{\\partial}{\\partial z} \\rho{\\left(z,{\\mu}_{0} \\right)} = \\frac{\\operatorname{pwp}{\\left({\\mu}_{0},g_{2},g_{3} \\right)}}{2 \\rho{\\left(z,- {\\mu}_{0} \\right)}} - \\rho{\\left(z,{\\mu}_{0} \\right)} \\operatorname{zw}{\\left({\\mu}_{0},g_{2},g_{3} \\right)} + \\frac{f{\\left(1,{\\mu}_{0},{\\mu}_{1},{\\mu}_{2},{\\mu}_{3} \\right)} \\rho{\\left(z,- {\\mu}_{0} \\right)} \\rho{\\left(z,{\\mu}_{0} \\right)} \\sigma^{3}{\\left(z,g_{2},g_{3} \\right)} \\sigma{\\left(- {\\mu}_{0} - {\\mu}_{1} - {\\mu}_{2} - {\\mu}_{3},g_{2},g_{3} \\right)} \\sigma{\\left({\\mu}_{2},g_{2},g_{3} \\right)} \\sigma{\\left({\\mu}_{3},g_{2},g_{3} \\right)}}{2 f{\\left(2,{\\mu}_{0},{\\mu}_{1},{\\mu}_{2},{\\mu}_{3} \\right)} \\rho{\\left(z,- {\\mu}_{0} \\right)} \\sigma^{3}{\\left(z,g_{2},g_{3} \\right)} \\sigma{\\left(- {\\mu}_{0} - {\\mu}_{1} - {\\mu}_{2} - {\\mu}_{3},g_{2},g_{3} \\right)} \\sigma{\\left({\\mu}_{2},g_{2},g_{3} \\right)} \\sigma{\\left({\\mu}_{3},g_{2},g_{3} \\right)} + 24 f{\\left(4,{\\mu}_{0},{\\mu}_{1},{\\mu}_{2},{\\mu}_{3} \\right)} \\operatorname{pw}{\\left({\\mu}_{0},g_{2},g_{3} \\right)} \\rho{\\left(z,- {\\mu}_{0} \\right)} \\sigma^{3}{\\left(z,g_{2},g_{3} \\right)} \\sigma{\\left(- {\\mu}_{0} - {\\mu}_{1} - {\\mu}_{2} - {\\mu}_{3},g_{2},g_{3} \\right)} \\sigma{\\left({\\mu}_{2},g_{2},g_{3} \\right)} \\sigma{\\left({\\mu}_{3},g_{2},g_{3} \\right)} + 24 f{\\left(4,{\\mu}_{0},{\\mu}_{1},{\\mu}_{2},{\\mu}_{3} \\right)} \\rho^{2}{\\left(z,- {\\mu}_{0} \\right)} \\rho{\\left(z,{\\mu}_{0} \\right)} \\sigma^{3}{\\left(z,g_{2},g_{3} \\right)} \\sigma{\\left(- {\\mu}_{0} - {\\mu}_{1} - {\\mu}_{2} - {\\mu}_{3},g_{2},g_{3} \\right)} \\sigma{\\left({\\mu}_{2},g_{2},g_{3} \\right)} \\sigma{\\left({\\mu}_{3},g_{2},g_{3} \\right)}} - \\frac{f{\\left(2,{\\mu}_{0},{\\mu}_{1},{\\mu}_{2},{\\mu}_{3} \\right)} \\operatorname{pwp}{\\left({\\mu}_{0},g_{2},g_{3} \\right)} \\sigma^{3}{\\left(z,g_{2},g_{3} \\right)} \\sigma{\\left(- {\\mu}_{0} - {\\mu}_{1} - {\\mu}_{2} - {\\mu}_{3},g_{2},g_{3} \\right)} \\sigma{\\left({\\mu}_{2},g_{2},g_{3} \\right)} \\sigma{\\left({\\mu}_{3},g_{2},g_{3} \\right)}}{2 f{\\left(2,{\\mu}_{0},{\\mu}_{1},{\\mu}_{2},{\\mu}_{3} \\right)} \\rho{\\left(z,- {\\mu}_{0} \\right)} \\sigma^{3}{\\left(z,g_{2},g_{3} \\right)} \\sigma{\\left(- {\\mu}_{0} - {\\mu}_{1} - {\\mu}_{2} - {\\mu}_{3},g_{2},g_{3} \\right)} \\sigma{\\left({\\mu}_{2},g_{2},g_{3} \\right)} \\sigma{\\left({\\mu}_{3},g_{2},g_{3} \\right)} + 24 f{\\left(4,{\\mu}_{0},{\\mu}_{1},{\\mu}_{2},{\\mu}_{3} \\right)} \\operatorname{pw}{\\left({\\mu}_{0},g_{2},g_{3} \\right)} \\rho{\\left(z,- {\\mu}_{0} \\right)} \\sigma^{3}{\\left(z,g_{2},g_{3} \\right)} \\sigma{\\left(- {\\mu}_{0} - {\\mu}_{1} - {\\mu}_{2} - {\\mu}_{3},g_{2},g_{3} \\right)} \\sigma{\\left({\\mu}_{2},g_{2},g_{3} \\right)} \\sigma{\\left({\\mu}_{3},g_{2},g_{3} \\right)} + 24 f{\\left(4,{\\mu}_{0},{\\mu}_{1},{\\mu}_{2},{\\mu}_{3} \\right)} \\rho^{2}{\\left(z,- {\\mu}_{0} \\right)} \\rho{\\left(z,{\\mu}_{0} \\right)} \\sigma^{3}{\\left(z,g_{2},g_{3} \\right)} \\sigma{\\left(- {\\mu}_{0} - {\\mu}_{1} - {\\mu}_{2} - {\\mu}_{3},g_{2},g_{3} \\right)} \\sigma{\\left({\\mu}_{2},g_{2},g_{3} \\right)} \\sigma{\\left({\\mu}_{3},g_{2},g_{3} \\right)}} + \\frac{12 f{\\left(3,{\\mu}_{0},{\\mu}_{1},{\\mu}_{2},{\\mu}_{3} \\right)} \\operatorname{pw}{\\left({\\mu}_{0},g_{2},g_{3} \\right)} \\rho{\\left(z,- {\\mu}_{0} \\right)} \\rho{\\left(z,{\\mu}_{0} \\right)} \\sigma^{3}{\\left(z,g_{2},g_{3} \\right)} \\sigma{\\left(- {\\mu}_{0} - {\\mu}_{1} - {\\mu}_{2} - {\\mu}_{3},g_{2},g_{3} \\right)} \\sigma{\\left({\\mu}_{2},g_{2},g_{3} \\right)} \\sigma{\\left({\\mu}_{3},g_{2},g_{3} \\right)}}{2 f{\\left(2,{\\mu}_{0},{\\mu}_{1},{\\mu}_{2},{\\mu}_{3} \\right)} \\rho{\\left(z,- {\\mu}_{0} \\right)} \\sigma^{3}{\\left(z,g_{2},g_{3} \\right)} \\sigma{\\left(- {\\mu}_{0} - {\\mu}_{1} - {\\mu}_{2} - {\\mu}_{3},g_{2},g_{3} \\right)} \\sigma{\\left({\\mu}_{2},g_{2},g_{3} \\right)} \\sigma{\\left({\\mu}_{3},g_{2},g_{3} \\right)} + 24 f{\\left(4,{\\mu}_{0},{\\mu}_{1},{\\mu}_{2},{\\mu}_{3} \\right)} \\operatorname{pw}{\\left({\\mu}_{0},g_{2},g_{3} \\right)} \\rho{\\left(z,- {\\mu}_{0} \\right)} \\sigma^{3}{\\left(z,g_{2},g_{3} \\right)} \\sigma{\\left(- {\\mu}_{0} - {\\mu}_{1} - {\\mu}_{2} - {\\mu}_{3},g_{2},g_{3} \\right)} \\sigma{\\left({\\mu}_{2},g_{2},g_{3} \\right)} \\sigma{\\left({\\mu}_{3},g_{2},g_{3} \\right)} + 24 f{\\left(4,{\\mu}_{0},{\\mu}_{1},{\\mu}_{2},{\\mu}_{3} \\right)} \\rho^{2}{\\left(z,- {\\mu}_{0} \\right)} \\rho{\\left(z,{\\mu}_{0} \\right)} \\sigma^{3}{\\left(z,g_{2},g_{3} \\right)} \\sigma{\\left(- {\\mu}_{0} - {\\mu}_{1} - {\\mu}_{2} - {\\mu}_{3},g_{2},g_{3} \\right)} \\sigma{\\left({\\mu}_{2},g_{2},g_{3} \\right)} \\sigma{\\left({\\mu}_{3},g_{2},g_{3} \\right)}} + \\frac{6 f{\\left(3,{\\mu}_{0},{\\mu}_{1},{\\mu}_{2},{\\mu}_{3} \\right)} \\rho^{2}{\\left(z,- {\\mu}_{0} \\right)} \\rho^{2}{\\left(z,{\\mu}_{0} \\right)} \\sigma^{3}{\\left(z,g_{2},g_{3} \\right)} \\sigma{\\left(- {\\mu}_{0} - {\\mu}_{1} - {\\mu}_{2} - {\\mu}_{3},g_{2},g_{3} \\right)} \\sigma{\\left({\\mu}_{2},g_{2},g_{3} \\right)} \\sigma{\\left({\\mu}_{3},g_{2},g_{3} \\right)}}{2 f{\\left(2,{\\mu}_{0},{\\mu}_{1},{\\mu}_{2},{\\mu}_{3} \\right)} \\rho{\\left(z,- {\\mu}_{0} \\right)} \\sigma^{3}{\\left(z,g_{2},g_{3} \\right)} \\sigma{\\left(- {\\mu}_{0} - {\\mu}_{1} - {\\mu}_{2} - {\\mu}_{3},g_{2},g_{3} \\right)} \\sigma{\\left({\\mu}_{2},g_{2},g_{3} \\right)} \\sigma{\\left({\\mu}_{3},g_{2},g_{3} \\right)} + 24 f{\\left(4,{\\mu}_{0},{\\mu}_{1},{\\mu}_{2},{\\mu}_{3} \\right)} \\operatorname{pw}{\\left({\\mu}_{0},g_{2},g_{3} \\right)} \\rho{\\left(z,- {\\mu}_{0} \\right)} \\sigma^{3}{\\left(z,g_{2},g_{3} \\right)} \\sigma{\\left(- {\\mu}_{0} - {\\mu}_{1} - {\\mu}_{2} - {\\mu}_{3},g_{2},g_{3} \\right)} \\sigma{\\left({\\mu}_{2},g_{2},g_{3} \\right)} \\sigma{\\left({\\mu}_{3},g_{2},g_{3} \\right)} + 24 f{\\left(4,{\\mu}_{0},{\\mu}_{1},{\\mu}_{2},{\\mu}_{3} \\right)} \\rho^{2}{\\left(z,- {\\mu}_{0} \\right)} \\rho{\\left(z,{\\mu}_{0} \\right)} \\sigma^{3}{\\left(z,g_{2},g_{3} \\right)} \\sigma{\\left(- {\\mu}_{0} - {\\mu}_{1} - {\\mu}_{2} - {\\mu}_{3},g_{2},g_{3} \\right)} \\sigma{\\left({\\mu}_{2},g_{2},g_{3} \\right)} \\sigma{\\left({\\mu}_{3},g_{2},g_{3} \\right)}} - \\frac{12 f{\\left(4,{\\mu}_{0},{\\mu}_{1},{\\mu}_{2},{\\mu}_{3} \\right)} \\operatorname{pw}{\\left({\\mu}_{0},g_{2},g_{3} \\right)} \\operatorname{pwp}{\\left({\\mu}_{0},g_{2},g_{3} \\right)} \\sigma^{3}{\\left(z,g_{2},g_{3} \\right)} \\sigma{\\left(- {\\mu}_{0} - {\\mu}_{1} - {\\mu}_{2} - {\\mu}_{3},g_{2},g_{3} \\right)} \\sigma{\\left({\\mu}_{2},g_{2},g_{3} \\right)} \\sigma{\\left({\\mu}_{3},g_{2},g_{3} \\right)}}{2 f{\\left(2,{\\mu}_{0},{\\mu}_{1},{\\mu}_{2},{\\mu}_{3} \\right)} \\rho{\\left(z,- {\\mu}_{0} \\right)} \\sigma^{3}{\\left(z,g_{2},g_{3} \\right)} \\sigma{\\left(- {\\mu}_{0} - {\\mu}_{1} - {\\mu}_{2} - {\\mu}_{3},g_{2},g_{3} \\right)} \\sigma{\\left({\\mu}_{2},g_{2},g_{3} \\right)} \\sigma{\\left({\\mu}_{3},g_{2},g_{3} \\right)} + 24 f{\\left(4,{\\mu}_{0},{\\mu}_{1},{\\mu}_{2},{\\mu}_{3} \\right)} \\operatorname{pw}{\\left({\\mu}_{0},g_{2},g_{3} \\right)} \\rho{\\left(z,- {\\mu}_{0} \\right)} \\sigma^{3}{\\left(z,g_{2},g_{3} \\right)} \\sigma{\\left(- {\\mu}_{0} - {\\mu}_{1} - {\\mu}_{2} - {\\mu}_{3},g_{2},g_{3} \\right)} \\sigma{\\left({\\mu}_{2},g_{2},g_{3} \\right)} \\sigma{\\left({\\mu}_{3},g_{2},g_{3} \\right)} + 24 f{\\left(4,{\\mu}_{0},{\\mu}_{1},{\\mu}_{2},{\\mu}_{3} \\right)} \\rho^{2}{\\left(z,- {\\mu}_{0} \\right)} \\rho{\\left(z,{\\mu}_{0} \\right)} \\sigma^{3}{\\left(z,g_{2},g_{3} \\right)} \\sigma{\\left(- {\\mu}_{0} - {\\mu}_{1} - {\\mu}_{2} - {\\mu}_{3},g_{2},g_{3} \\right)} \\sigma{\\left({\\mu}_{2},g_{2},g_{3} \\right)} \\sigma{\\left({\\mu}_{3},g_{2},g_{3} \\right)}} - \\frac{\\rho{\\left(z,- {\\mu}_{0} \\right)} \\rho{\\left(z,- {\\mu}_{1} \\right)} \\sigma{\\left(- z - {\\mu}_{2},g_{2},g_{3} \\right)} \\sigma{\\left(- z - {\\mu}_{3},g_{2},g_{3} \\right)} \\sigma{\\left(- z + {\\mu}_{0} + {\\mu}_{1} + {\\mu}_{2} + {\\mu}_{3},g_{2},g_{3} \\right)}}{2 f{\\left(2,{\\mu}_{0},{\\mu}_{1},{\\mu}_{2},{\\mu}_{3} \\right)} \\rho{\\left(z,- {\\mu}_{0} \\right)} \\sigma^{3}{\\left(z,g_{2},g_{3} \\right)} \\sigma{\\left(- {\\mu}_{0} - {\\mu}_{1} - {\\mu}_{2} - {\\mu}_{3},g_{2},g_{3} \\right)} \\sigma{\\left({\\mu}_{2},g_{2},g_{3} \\right)} \\sigma{\\left({\\mu}_{3},g_{2},g_{3} \\right)} + 24 f{\\left(4,{\\mu}_{0},{\\mu}_{1},{\\mu}_{2},{\\mu}_{3} \\right)} \\operatorname{pw}{\\left({\\mu}_{0},g_{2},g_{3} \\right)} \\rho{\\left(z,- {\\mu}_{0} \\right)} \\sigma^{3}{\\left(z,g_{2},g_{3} \\right)} \\sigma{\\left(- {\\mu}_{0} - {\\mu}_{1} - {\\mu}_{2} - {\\mu}_{3},g_{2},g_{3} \\right)} \\sigma{\\left({\\mu}_{2},g_{2},g_{3} \\right)} \\sigma{\\left({\\mu}_{3},g_{2},g_{3} \\right)} + 24 f{\\left(4,{\\mu}_{0},{\\mu}_{1},{\\mu}_{2},{\\mu}_{3} \\right)} \\rho^{2}{\\left(z,- {\\mu}_{0} \\right)} \\rho{\\left(z,{\\mu}_{0} \\right)} \\sigma^{3}{\\left(z,g_{2},g_{3} \\right)} \\sigma{\\left(- {\\mu}_{0} - {\\mu}_{1} - {\\mu}_{2} - {\\mu}_{3},g_{2},g_{3} \\right)} \\sigma{\\left({\\mu}_{2},g_{2},g_{3} \\right)} \\sigma{\\left({\\mu}_{3},g_{2},g_{3} \\right)}}$"
      ],
      "text/plain": [
       "Eq(Derivative(rho(z, mu[0]), z), pwp(mu[0], g2, g3)/(2*rho(z, -mu[0])) - rho(z, mu[0])*zw(mu[0], g2, g3) + f(1, mu[0], mu[1], mu[2], mu[3])*rho(z, -mu[0])*rho(z, mu[0])*sigma(z, g2, g3)**3*sigma(-mu[0] - mu[1] - mu[2] - mu[3], g2, g3)*sigma(mu[2], g2, g3)*sigma(mu[3], g2, g3)/(2*f(2, mu[0], mu[1], mu[2], mu[3])*rho(z, -mu[0])*sigma(z, g2, g3)**3*sigma(-mu[0] - mu[1] - mu[2] - mu[3], g2, g3)*sigma(mu[2], g2, g3)*sigma(mu[3], g2, g3) + 24*f(4, mu[0], mu[1], mu[2], mu[3])*pw(mu[0], g2, g3)*rho(z, -mu[0])*sigma(z, g2, g3)**3*sigma(-mu[0] - mu[1] - mu[2] - mu[3], g2, g3)*sigma(mu[2], g2, g3)*sigma(mu[3], g2, g3) + 24*f(4, mu[0], mu[1], mu[2], mu[3])*rho(z, -mu[0])**2*rho(z, mu[0])*sigma(z, g2, g3)**3*sigma(-mu[0] - mu[1] - mu[2] - mu[3], g2, g3)*sigma(mu[2], g2, g3)*sigma(mu[3], g2, g3)) - f(2, mu[0], mu[1], mu[2], mu[3])*pwp(mu[0], g2, g3)*sigma(z, g2, g3)**3*sigma(-mu[0] - mu[1] - mu[2] - mu[3], g2, g3)*sigma(mu[2], g2, g3)*sigma(mu[3], g2, g3)/(2*f(2, mu[0], mu[1], mu[2], mu[3])*rho(z, -mu[0])*sigma(z, g2, g3)**3*sigma(-mu[0] - mu[1] - mu[2] - mu[3], g2, g3)*sigma(mu[2], g2, g3)*sigma(mu[3], g2, g3) + 24*f(4, mu[0], mu[1], mu[2], mu[3])*pw(mu[0], g2, g3)*rho(z, -mu[0])*sigma(z, g2, g3)**3*sigma(-mu[0] - mu[1] - mu[2] - mu[3], g2, g3)*sigma(mu[2], g2, g3)*sigma(mu[3], g2, g3) + 24*f(4, mu[0], mu[1], mu[2], mu[3])*rho(z, -mu[0])**2*rho(z, mu[0])*sigma(z, g2, g3)**3*sigma(-mu[0] - mu[1] - mu[2] - mu[3], g2, g3)*sigma(mu[2], g2, g3)*sigma(mu[3], g2, g3)) + 12*f(3, mu[0], mu[1], mu[2], mu[3])*pw(mu[0], g2, g3)*rho(z, -mu[0])*rho(z, mu[0])*sigma(z, g2, g3)**3*sigma(-mu[0] - mu[1] - mu[2] - mu[3], g2, g3)*sigma(mu[2], g2, g3)*sigma(mu[3], g2, g3)/(2*f(2, mu[0], mu[1], mu[2], mu[3])*rho(z, -mu[0])*sigma(z, g2, g3)**3*sigma(-mu[0] - mu[1] - mu[2] - mu[3], g2, g3)*sigma(mu[2], g2, g3)*sigma(mu[3], g2, g3) + 24*f(4, mu[0], mu[1], mu[2], mu[3])*pw(mu[0], g2, g3)*rho(z, -mu[0])*sigma(z, g2, g3)**3*sigma(-mu[0] - mu[1] - mu[2] - mu[3], g2, g3)*sigma(mu[2], g2, g3)*sigma(mu[3], g2, g3) + 24*f(4, mu[0], mu[1], mu[2], mu[3])*rho(z, -mu[0])**2*rho(z, mu[0])*sigma(z, g2, g3)**3*sigma(-mu[0] - mu[1] - mu[2] - mu[3], g2, g3)*sigma(mu[2], g2, g3)*sigma(mu[3], g2, g3)) + 6*f(3, mu[0], mu[1], mu[2], mu[3])*rho(z, -mu[0])**2*rho(z, mu[0])**2*sigma(z, g2, g3)**3*sigma(-mu[0] - mu[1] - mu[2] - mu[3], g2, g3)*sigma(mu[2], g2, g3)*sigma(mu[3], g2, g3)/(2*f(2, mu[0], mu[1], mu[2], mu[3])*rho(z, -mu[0])*sigma(z, g2, g3)**3*sigma(-mu[0] - mu[1] - mu[2] - mu[3], g2, g3)*sigma(mu[2], g2, g3)*sigma(mu[3], g2, g3) + 24*f(4, mu[0], mu[1], mu[2], mu[3])*pw(mu[0], g2, g3)*rho(z, -mu[0])*sigma(z, g2, g3)**3*sigma(-mu[0] - mu[1] - mu[2] - mu[3], g2, g3)*sigma(mu[2], g2, g3)*sigma(mu[3], g2, g3) + 24*f(4, mu[0], mu[1], mu[2], mu[3])*rho(z, -mu[0])**2*rho(z, mu[0])*sigma(z, g2, g3)**3*sigma(-mu[0] - mu[1] - mu[2] - mu[3], g2, g3)*sigma(mu[2], g2, g3)*sigma(mu[3], g2, g3)) - 12*f(4, mu[0], mu[1], mu[2], mu[3])*pw(mu[0], g2, g3)*pwp(mu[0], g2, g3)*sigma(z, g2, g3)**3*sigma(-mu[0] - mu[1] - mu[2] - mu[3], g2, g3)*sigma(mu[2], g2, g3)*sigma(mu[3], g2, g3)/(2*f(2, mu[0], mu[1], mu[2], mu[3])*rho(z, -mu[0])*sigma(z, g2, g3)**3*sigma(-mu[0] - mu[1] - mu[2] - mu[3], g2, g3)*sigma(mu[2], g2, g3)*sigma(mu[3], g2, g3) + 24*f(4, mu[0], mu[1], mu[2], mu[3])*pw(mu[0], g2, g3)*rho(z, -mu[0])*sigma(z, g2, g3)**3*sigma(-mu[0] - mu[1] - mu[2] - mu[3], g2, g3)*sigma(mu[2], g2, g3)*sigma(mu[3], g2, g3) + 24*f(4, mu[0], mu[1], mu[2], mu[3])*rho(z, -mu[0])**2*rho(z, mu[0])*sigma(z, g2, g3)**3*sigma(-mu[0] - mu[1] - mu[2] - mu[3], g2, g3)*sigma(mu[2], g2, g3)*sigma(mu[3], g2, g3)) - rho(z, -mu[0])*rho(z, -mu[1])*sigma(-z - mu[2], g2, g3)*sigma(-z - mu[3], g2, g3)*sigma(-z + mu[0] + mu[1] + mu[2] + mu[3], g2, g3)/(2*f(2, mu[0], mu[1], mu[2], mu[3])*rho(z, -mu[0])*sigma(z, g2, g3)**3*sigma(-mu[0] - mu[1] - mu[2] - mu[3], g2, g3)*sigma(mu[2], g2, g3)*sigma(mu[3], g2, g3) + 24*f(4, mu[0], mu[1], mu[2], mu[3])*pw(mu[0], g2, g3)*rho(z, -mu[0])*sigma(z, g2, g3)**3*sigma(-mu[0] - mu[1] - mu[2] - mu[3], g2, g3)*sigma(mu[2], g2, g3)*sigma(mu[3], g2, g3) + 24*f(4, mu[0], mu[1], mu[2], mu[3])*rho(z, -mu[0])**2*rho(z, mu[0])*sigma(z, g2, g3)**3*sigma(-mu[0] - mu[1] - mu[2] - mu[3], g2, g3)*sigma(mu[2], g2, g3)*sigma(mu[3], g2, g3)))"
      ]
     },
     "execution_count": 220,
     "metadata": {},
     "output_type": "execute_result"
    },
    {
     "data": {
      "text/latex": [
       "$\\displaystyle \\frac{\\partial}{\\partial z} \\rho{\\left(z,{\\mu}_{1} \\right)} = \\frac{\\operatorname{pwp}{\\left({\\mu}_{1},g_{2},g_{3} \\right)}}{2 \\rho{\\left(z,- {\\mu}_{1} \\right)}} - \\rho{\\left(z,{\\mu}_{1} \\right)} \\operatorname{zw}{\\left({\\mu}_{1},g_{2},g_{3} \\right)} + \\frac{f{\\left(1,{\\mu}_{0},{\\mu}_{1},{\\mu}_{2},{\\mu}_{3} \\right)} \\rho{\\left(z,- {\\mu}_{1} \\right)} \\rho{\\left(z,{\\mu}_{1} \\right)} \\sigma^{3}{\\left(z,g_{2},g_{3} \\right)} \\sigma{\\left(- {\\mu}_{0} - {\\mu}_{1} - {\\mu}_{2} - {\\mu}_{3},g_{2},g_{3} \\right)} \\sigma{\\left({\\mu}_{2},g_{2},g_{3} \\right)} \\sigma{\\left({\\mu}_{3},g_{2},g_{3} \\right)}}{2 f{\\left(2,{\\mu}_{0},{\\mu}_{1},{\\mu}_{2},{\\mu}_{3} \\right)} \\rho{\\left(z,- {\\mu}_{1} \\right)} \\sigma^{3}{\\left(z,g_{2},g_{3} \\right)} \\sigma{\\left(- {\\mu}_{0} - {\\mu}_{1} - {\\mu}_{2} - {\\mu}_{3},g_{2},g_{3} \\right)} \\sigma{\\left({\\mu}_{2},g_{2},g_{3} \\right)} \\sigma{\\left({\\mu}_{3},g_{2},g_{3} \\right)} + 24 f{\\left(4,{\\mu}_{0},{\\mu}_{1},{\\mu}_{2},{\\mu}_{3} \\right)} \\operatorname{pw}{\\left({\\mu}_{1},g_{2},g_{3} \\right)} \\rho{\\left(z,- {\\mu}_{1} \\right)} \\sigma^{3}{\\left(z,g_{2},g_{3} \\right)} \\sigma{\\left(- {\\mu}_{0} - {\\mu}_{1} - {\\mu}_{2} - {\\mu}_{3},g_{2},g_{3} \\right)} \\sigma{\\left({\\mu}_{2},g_{2},g_{3} \\right)} \\sigma{\\left({\\mu}_{3},g_{2},g_{3} \\right)} + 24 f{\\left(4,{\\mu}_{0},{\\mu}_{1},{\\mu}_{2},{\\mu}_{3} \\right)} \\rho^{2}{\\left(z,- {\\mu}_{1} \\right)} \\rho{\\left(z,{\\mu}_{1} \\right)} \\sigma^{3}{\\left(z,g_{2},g_{3} \\right)} \\sigma{\\left(- {\\mu}_{0} - {\\mu}_{1} - {\\mu}_{2} - {\\mu}_{3},g_{2},g_{3} \\right)} \\sigma{\\left({\\mu}_{2},g_{2},g_{3} \\right)} \\sigma{\\left({\\mu}_{3},g_{2},g_{3} \\right)}} - \\frac{f{\\left(2,{\\mu}_{0},{\\mu}_{1},{\\mu}_{2},{\\mu}_{3} \\right)} \\operatorname{pwp}{\\left({\\mu}_{1},g_{2},g_{3} \\right)} \\sigma^{3}{\\left(z,g_{2},g_{3} \\right)} \\sigma{\\left(- {\\mu}_{0} - {\\mu}_{1} - {\\mu}_{2} - {\\mu}_{3},g_{2},g_{3} \\right)} \\sigma{\\left({\\mu}_{2},g_{2},g_{3} \\right)} \\sigma{\\left({\\mu}_{3},g_{2},g_{3} \\right)}}{2 f{\\left(2,{\\mu}_{0},{\\mu}_{1},{\\mu}_{2},{\\mu}_{3} \\right)} \\rho{\\left(z,- {\\mu}_{1} \\right)} \\sigma^{3}{\\left(z,g_{2},g_{3} \\right)} \\sigma{\\left(- {\\mu}_{0} - {\\mu}_{1} - {\\mu}_{2} - {\\mu}_{3},g_{2},g_{3} \\right)} \\sigma{\\left({\\mu}_{2},g_{2},g_{3} \\right)} \\sigma{\\left({\\mu}_{3},g_{2},g_{3} \\right)} + 24 f{\\left(4,{\\mu}_{0},{\\mu}_{1},{\\mu}_{2},{\\mu}_{3} \\right)} \\operatorname{pw}{\\left({\\mu}_{1},g_{2},g_{3} \\right)} \\rho{\\left(z,- {\\mu}_{1} \\right)} \\sigma^{3}{\\left(z,g_{2},g_{3} \\right)} \\sigma{\\left(- {\\mu}_{0} - {\\mu}_{1} - {\\mu}_{2} - {\\mu}_{3},g_{2},g_{3} \\right)} \\sigma{\\left({\\mu}_{2},g_{2},g_{3} \\right)} \\sigma{\\left({\\mu}_{3},g_{2},g_{3} \\right)} + 24 f{\\left(4,{\\mu}_{0},{\\mu}_{1},{\\mu}_{2},{\\mu}_{3} \\right)} \\rho^{2}{\\left(z,- {\\mu}_{1} \\right)} \\rho{\\left(z,{\\mu}_{1} \\right)} \\sigma^{3}{\\left(z,g_{2},g_{3} \\right)} \\sigma{\\left(- {\\mu}_{0} - {\\mu}_{1} - {\\mu}_{2} - {\\mu}_{3},g_{2},g_{3} \\right)} \\sigma{\\left({\\mu}_{2},g_{2},g_{3} \\right)} \\sigma{\\left({\\mu}_{3},g_{2},g_{3} \\right)}} + \\frac{12 f{\\left(3,{\\mu}_{0},{\\mu}_{1},{\\mu}_{2},{\\mu}_{3} \\right)} \\operatorname{pw}{\\left({\\mu}_{1},g_{2},g_{3} \\right)} \\rho{\\left(z,- {\\mu}_{1} \\right)} \\rho{\\left(z,{\\mu}_{1} \\right)} \\sigma^{3}{\\left(z,g_{2},g_{3} \\right)} \\sigma{\\left(- {\\mu}_{0} - {\\mu}_{1} - {\\mu}_{2} - {\\mu}_{3},g_{2},g_{3} \\right)} \\sigma{\\left({\\mu}_{2},g_{2},g_{3} \\right)} \\sigma{\\left({\\mu}_{3},g_{2},g_{3} \\right)}}{2 f{\\left(2,{\\mu}_{0},{\\mu}_{1},{\\mu}_{2},{\\mu}_{3} \\right)} \\rho{\\left(z,- {\\mu}_{1} \\right)} \\sigma^{3}{\\left(z,g_{2},g_{3} \\right)} \\sigma{\\left(- {\\mu}_{0} - {\\mu}_{1} - {\\mu}_{2} - {\\mu}_{3},g_{2},g_{3} \\right)} \\sigma{\\left({\\mu}_{2},g_{2},g_{3} \\right)} \\sigma{\\left({\\mu}_{3},g_{2},g_{3} \\right)} + 24 f{\\left(4,{\\mu}_{0},{\\mu}_{1},{\\mu}_{2},{\\mu}_{3} \\right)} \\operatorname{pw}{\\left({\\mu}_{1},g_{2},g_{3} \\right)} \\rho{\\left(z,- {\\mu}_{1} \\right)} \\sigma^{3}{\\left(z,g_{2},g_{3} \\right)} \\sigma{\\left(- {\\mu}_{0} - {\\mu}_{1} - {\\mu}_{2} - {\\mu}_{3},g_{2},g_{3} \\right)} \\sigma{\\left({\\mu}_{2},g_{2},g_{3} \\right)} \\sigma{\\left({\\mu}_{3},g_{2},g_{3} \\right)} + 24 f{\\left(4,{\\mu}_{0},{\\mu}_{1},{\\mu}_{2},{\\mu}_{3} \\right)} \\rho^{2}{\\left(z,- {\\mu}_{1} \\right)} \\rho{\\left(z,{\\mu}_{1} \\right)} \\sigma^{3}{\\left(z,g_{2},g_{3} \\right)} \\sigma{\\left(- {\\mu}_{0} - {\\mu}_{1} - {\\mu}_{2} - {\\mu}_{3},g_{2},g_{3} \\right)} \\sigma{\\left({\\mu}_{2},g_{2},g_{3} \\right)} \\sigma{\\left({\\mu}_{3},g_{2},g_{3} \\right)}} + \\frac{6 f{\\left(3,{\\mu}_{0},{\\mu}_{1},{\\mu}_{2},{\\mu}_{3} \\right)} \\rho^{2}{\\left(z,- {\\mu}_{1} \\right)} \\rho^{2}{\\left(z,{\\mu}_{1} \\right)} \\sigma^{3}{\\left(z,g_{2},g_{3} \\right)} \\sigma{\\left(- {\\mu}_{0} - {\\mu}_{1} - {\\mu}_{2} - {\\mu}_{3},g_{2},g_{3} \\right)} \\sigma{\\left({\\mu}_{2},g_{2},g_{3} \\right)} \\sigma{\\left({\\mu}_{3},g_{2},g_{3} \\right)}}{2 f{\\left(2,{\\mu}_{0},{\\mu}_{1},{\\mu}_{2},{\\mu}_{3} \\right)} \\rho{\\left(z,- {\\mu}_{1} \\right)} \\sigma^{3}{\\left(z,g_{2},g_{3} \\right)} \\sigma{\\left(- {\\mu}_{0} - {\\mu}_{1} - {\\mu}_{2} - {\\mu}_{3},g_{2},g_{3} \\right)} \\sigma{\\left({\\mu}_{2},g_{2},g_{3} \\right)} \\sigma{\\left({\\mu}_{3},g_{2},g_{3} \\right)} + 24 f{\\left(4,{\\mu}_{0},{\\mu}_{1},{\\mu}_{2},{\\mu}_{3} \\right)} \\operatorname{pw}{\\left({\\mu}_{1},g_{2},g_{3} \\right)} \\rho{\\left(z,- {\\mu}_{1} \\right)} \\sigma^{3}{\\left(z,g_{2},g_{3} \\right)} \\sigma{\\left(- {\\mu}_{0} - {\\mu}_{1} - {\\mu}_{2} - {\\mu}_{3},g_{2},g_{3} \\right)} \\sigma{\\left({\\mu}_{2},g_{2},g_{3} \\right)} \\sigma{\\left({\\mu}_{3},g_{2},g_{3} \\right)} + 24 f{\\left(4,{\\mu}_{0},{\\mu}_{1},{\\mu}_{2},{\\mu}_{3} \\right)} \\rho^{2}{\\left(z,- {\\mu}_{1} \\right)} \\rho{\\left(z,{\\mu}_{1} \\right)} \\sigma^{3}{\\left(z,g_{2},g_{3} \\right)} \\sigma{\\left(- {\\mu}_{0} - {\\mu}_{1} - {\\mu}_{2} - {\\mu}_{3},g_{2},g_{3} \\right)} \\sigma{\\left({\\mu}_{2},g_{2},g_{3} \\right)} \\sigma{\\left({\\mu}_{3},g_{2},g_{3} \\right)}} - \\frac{12 f{\\left(4,{\\mu}_{0},{\\mu}_{1},{\\mu}_{2},{\\mu}_{3} \\right)} \\operatorname{pw}{\\left({\\mu}_{1},g_{2},g_{3} \\right)} \\operatorname{pwp}{\\left({\\mu}_{1},g_{2},g_{3} \\right)} \\sigma^{3}{\\left(z,g_{2},g_{3} \\right)} \\sigma{\\left(- {\\mu}_{0} - {\\mu}_{1} - {\\mu}_{2} - {\\mu}_{3},g_{2},g_{3} \\right)} \\sigma{\\left({\\mu}_{2},g_{2},g_{3} \\right)} \\sigma{\\left({\\mu}_{3},g_{2},g_{3} \\right)}}{2 f{\\left(2,{\\mu}_{0},{\\mu}_{1},{\\mu}_{2},{\\mu}_{3} \\right)} \\rho{\\left(z,- {\\mu}_{1} \\right)} \\sigma^{3}{\\left(z,g_{2},g_{3} \\right)} \\sigma{\\left(- {\\mu}_{0} - {\\mu}_{1} - {\\mu}_{2} - {\\mu}_{3},g_{2},g_{3} \\right)} \\sigma{\\left({\\mu}_{2},g_{2},g_{3} \\right)} \\sigma{\\left({\\mu}_{3},g_{2},g_{3} \\right)} + 24 f{\\left(4,{\\mu}_{0},{\\mu}_{1},{\\mu}_{2},{\\mu}_{3} \\right)} \\operatorname{pw}{\\left({\\mu}_{1},g_{2},g_{3} \\right)} \\rho{\\left(z,- {\\mu}_{1} \\right)} \\sigma^{3}{\\left(z,g_{2},g_{3} \\right)} \\sigma{\\left(- {\\mu}_{0} - {\\mu}_{1} - {\\mu}_{2} - {\\mu}_{3},g_{2},g_{3} \\right)} \\sigma{\\left({\\mu}_{2},g_{2},g_{3} \\right)} \\sigma{\\left({\\mu}_{3},g_{2},g_{3} \\right)} + 24 f{\\left(4,{\\mu}_{0},{\\mu}_{1},{\\mu}_{2},{\\mu}_{3} \\right)} \\rho^{2}{\\left(z,- {\\mu}_{1} \\right)} \\rho{\\left(z,{\\mu}_{1} \\right)} \\sigma^{3}{\\left(z,g_{2},g_{3} \\right)} \\sigma{\\left(- {\\mu}_{0} - {\\mu}_{1} - {\\mu}_{2} - {\\mu}_{3},g_{2},g_{3} \\right)} \\sigma{\\left({\\mu}_{2},g_{2},g_{3} \\right)} \\sigma{\\left({\\mu}_{3},g_{2},g_{3} \\right)}} - \\frac{\\rho{\\left(z,- {\\mu}_{0} \\right)} \\rho{\\left(z,- {\\mu}_{1} \\right)} \\sigma{\\left(- z - {\\mu}_{2},g_{2},g_{3} \\right)} \\sigma{\\left(- z - {\\mu}_{3},g_{2},g_{3} \\right)} \\sigma{\\left(- z + {\\mu}_{0} + {\\mu}_{1} + {\\mu}_{2} + {\\mu}_{3},g_{2},g_{3} \\right)}}{2 f{\\left(2,{\\mu}_{0},{\\mu}_{1},{\\mu}_{2},{\\mu}_{3} \\right)} \\rho{\\left(z,- {\\mu}_{1} \\right)} \\sigma^{3}{\\left(z,g_{2},g_{3} \\right)} \\sigma{\\left(- {\\mu}_{0} - {\\mu}_{1} - {\\mu}_{2} - {\\mu}_{3},g_{2},g_{3} \\right)} \\sigma{\\left({\\mu}_{2},g_{2},g_{3} \\right)} \\sigma{\\left({\\mu}_{3},g_{2},g_{3} \\right)} + 24 f{\\left(4,{\\mu}_{0},{\\mu}_{1},{\\mu}_{2},{\\mu}_{3} \\right)} \\operatorname{pw}{\\left({\\mu}_{1},g_{2},g_{3} \\right)} \\rho{\\left(z,- {\\mu}_{1} \\right)} \\sigma^{3}{\\left(z,g_{2},g_{3} \\right)} \\sigma{\\left(- {\\mu}_{0} - {\\mu}_{1} - {\\mu}_{2} - {\\mu}_{3},g_{2},g_{3} \\right)} \\sigma{\\left({\\mu}_{2},g_{2},g_{3} \\right)} \\sigma{\\left({\\mu}_{3},g_{2},g_{3} \\right)} + 24 f{\\left(4,{\\mu}_{0},{\\mu}_{1},{\\mu}_{2},{\\mu}_{3} \\right)} \\rho^{2}{\\left(z,- {\\mu}_{1} \\right)} \\rho{\\left(z,{\\mu}_{1} \\right)} \\sigma^{3}{\\left(z,g_{2},g_{3} \\right)} \\sigma{\\left(- {\\mu}_{0} - {\\mu}_{1} - {\\mu}_{2} - {\\mu}_{3},g_{2},g_{3} \\right)} \\sigma{\\left({\\mu}_{2},g_{2},g_{3} \\right)} \\sigma{\\left({\\mu}_{3},g_{2},g_{3} \\right)}}$"
      ],
      "text/plain": [
       "Eq(Derivative(rho(z, mu[1]), z), pwp(mu[1], g2, g3)/(2*rho(z, -mu[1])) - rho(z, mu[1])*zw(mu[1], g2, g3) + f(1, mu[0], mu[1], mu[2], mu[3])*rho(z, -mu[1])*rho(z, mu[1])*sigma(z, g2, g3)**3*sigma(-mu[0] - mu[1] - mu[2] - mu[3], g2, g3)*sigma(mu[2], g2, g3)*sigma(mu[3], g2, g3)/(2*f(2, mu[0], mu[1], mu[2], mu[3])*rho(z, -mu[1])*sigma(z, g2, g3)**3*sigma(-mu[0] - mu[1] - mu[2] - mu[3], g2, g3)*sigma(mu[2], g2, g3)*sigma(mu[3], g2, g3) + 24*f(4, mu[0], mu[1], mu[2], mu[3])*pw(mu[1], g2, g3)*rho(z, -mu[1])*sigma(z, g2, g3)**3*sigma(-mu[0] - mu[1] - mu[2] - mu[3], g2, g3)*sigma(mu[2], g2, g3)*sigma(mu[3], g2, g3) + 24*f(4, mu[0], mu[1], mu[2], mu[3])*rho(z, -mu[1])**2*rho(z, mu[1])*sigma(z, g2, g3)**3*sigma(-mu[0] - mu[1] - mu[2] - mu[3], g2, g3)*sigma(mu[2], g2, g3)*sigma(mu[3], g2, g3)) - f(2, mu[0], mu[1], mu[2], mu[3])*pwp(mu[1], g2, g3)*sigma(z, g2, g3)**3*sigma(-mu[0] - mu[1] - mu[2] - mu[3], g2, g3)*sigma(mu[2], g2, g3)*sigma(mu[3], g2, g3)/(2*f(2, mu[0], mu[1], mu[2], mu[3])*rho(z, -mu[1])*sigma(z, g2, g3)**3*sigma(-mu[0] - mu[1] - mu[2] - mu[3], g2, g3)*sigma(mu[2], g2, g3)*sigma(mu[3], g2, g3) + 24*f(4, mu[0], mu[1], mu[2], mu[3])*pw(mu[1], g2, g3)*rho(z, -mu[1])*sigma(z, g2, g3)**3*sigma(-mu[0] - mu[1] - mu[2] - mu[3], g2, g3)*sigma(mu[2], g2, g3)*sigma(mu[3], g2, g3) + 24*f(4, mu[0], mu[1], mu[2], mu[3])*rho(z, -mu[1])**2*rho(z, mu[1])*sigma(z, g2, g3)**3*sigma(-mu[0] - mu[1] - mu[2] - mu[3], g2, g3)*sigma(mu[2], g2, g3)*sigma(mu[3], g2, g3)) + 12*f(3, mu[0], mu[1], mu[2], mu[3])*pw(mu[1], g2, g3)*rho(z, -mu[1])*rho(z, mu[1])*sigma(z, g2, g3)**3*sigma(-mu[0] - mu[1] - mu[2] - mu[3], g2, g3)*sigma(mu[2], g2, g3)*sigma(mu[3], g2, g3)/(2*f(2, mu[0], mu[1], mu[2], mu[3])*rho(z, -mu[1])*sigma(z, g2, g3)**3*sigma(-mu[0] - mu[1] - mu[2] - mu[3], g2, g3)*sigma(mu[2], g2, g3)*sigma(mu[3], g2, g3) + 24*f(4, mu[0], mu[1], mu[2], mu[3])*pw(mu[1], g2, g3)*rho(z, -mu[1])*sigma(z, g2, g3)**3*sigma(-mu[0] - mu[1] - mu[2] - mu[3], g2, g3)*sigma(mu[2], g2, g3)*sigma(mu[3], g2, g3) + 24*f(4, mu[0], mu[1], mu[2], mu[3])*rho(z, -mu[1])**2*rho(z, mu[1])*sigma(z, g2, g3)**3*sigma(-mu[0] - mu[1] - mu[2] - mu[3], g2, g3)*sigma(mu[2], g2, g3)*sigma(mu[3], g2, g3)) + 6*f(3, mu[0], mu[1], mu[2], mu[3])*rho(z, -mu[1])**2*rho(z, mu[1])**2*sigma(z, g2, g3)**3*sigma(-mu[0] - mu[1] - mu[2] - mu[3], g2, g3)*sigma(mu[2], g2, g3)*sigma(mu[3], g2, g3)/(2*f(2, mu[0], mu[1], mu[2], mu[3])*rho(z, -mu[1])*sigma(z, g2, g3)**3*sigma(-mu[0] - mu[1] - mu[2] - mu[3], g2, g3)*sigma(mu[2], g2, g3)*sigma(mu[3], g2, g3) + 24*f(4, mu[0], mu[1], mu[2], mu[3])*pw(mu[1], g2, g3)*rho(z, -mu[1])*sigma(z, g2, g3)**3*sigma(-mu[0] - mu[1] - mu[2] - mu[3], g2, g3)*sigma(mu[2], g2, g3)*sigma(mu[3], g2, g3) + 24*f(4, mu[0], mu[1], mu[2], mu[3])*rho(z, -mu[1])**2*rho(z, mu[1])*sigma(z, g2, g3)**3*sigma(-mu[0] - mu[1] - mu[2] - mu[3], g2, g3)*sigma(mu[2], g2, g3)*sigma(mu[3], g2, g3)) - 12*f(4, mu[0], mu[1], mu[2], mu[3])*pw(mu[1], g2, g3)*pwp(mu[1], g2, g3)*sigma(z, g2, g3)**3*sigma(-mu[0] - mu[1] - mu[2] - mu[3], g2, g3)*sigma(mu[2], g2, g3)*sigma(mu[3], g2, g3)/(2*f(2, mu[0], mu[1], mu[2], mu[3])*rho(z, -mu[1])*sigma(z, g2, g3)**3*sigma(-mu[0] - mu[1] - mu[2] - mu[3], g2, g3)*sigma(mu[2], g2, g3)*sigma(mu[3], g2, g3) + 24*f(4, mu[0], mu[1], mu[2], mu[3])*pw(mu[1], g2, g3)*rho(z, -mu[1])*sigma(z, g2, g3)**3*sigma(-mu[0] - mu[1] - mu[2] - mu[3], g2, g3)*sigma(mu[2], g2, g3)*sigma(mu[3], g2, g3) + 24*f(4, mu[0], mu[1], mu[2], mu[3])*rho(z, -mu[1])**2*rho(z, mu[1])*sigma(z, g2, g3)**3*sigma(-mu[0] - mu[1] - mu[2] - mu[3], g2, g3)*sigma(mu[2], g2, g3)*sigma(mu[3], g2, g3)) - rho(z, -mu[0])*rho(z, -mu[1])*sigma(-z - mu[2], g2, g3)*sigma(-z - mu[3], g2, g3)*sigma(-z + mu[0] + mu[1] + mu[2] + mu[3], g2, g3)/(2*f(2, mu[0], mu[1], mu[2], mu[3])*rho(z, -mu[1])*sigma(z, g2, g3)**3*sigma(-mu[0] - mu[1] - mu[2] - mu[3], g2, g3)*sigma(mu[2], g2, g3)*sigma(mu[3], g2, g3) + 24*f(4, mu[0], mu[1], mu[2], mu[3])*pw(mu[1], g2, g3)*rho(z, -mu[1])*sigma(z, g2, g3)**3*sigma(-mu[0] - mu[1] - mu[2] - mu[3], g2, g3)*sigma(mu[2], g2, g3)*sigma(mu[3], g2, g3) + 24*f(4, mu[0], mu[1], mu[2], mu[3])*rho(z, -mu[1])**2*rho(z, mu[1])*sigma(z, g2, g3)**3*sigma(-mu[0] - mu[1] - mu[2] - mu[3], g2, g3)*sigma(mu[2], g2, g3)*sigma(mu[3], g2, g3)))"
      ]
     },
     "execution_count": 220,
     "metadata": {},
     "output_type": "execute_result"
    },
    {
     "data": {
      "text/latex": [
       "$\\displaystyle \\frac{\\partial}{\\partial z} \\rho{\\left(z,{\\mu}_{2} \\right)} = \\frac{\\operatorname{pwp}{\\left({\\mu}_{2},g_{2},g_{3} \\right)}}{2 \\rho{\\left(z,- {\\mu}_{2} \\right)}} - \\rho{\\left(z,{\\mu}_{2} \\right)} \\operatorname{zw}{\\left({\\mu}_{2},g_{2},g_{3} \\right)} + \\frac{f{\\left(1,{\\mu}_{0},{\\mu}_{1},{\\mu}_{2},{\\mu}_{3} \\right)} \\rho{\\left(z,- {\\mu}_{2} \\right)} \\rho{\\left(z,{\\mu}_{2} \\right)} \\sigma^{3}{\\left(z,g_{2},g_{3} \\right)} \\sigma{\\left(- {\\mu}_{0} - {\\mu}_{1} - {\\mu}_{2} - {\\mu}_{3},g_{2},g_{3} \\right)} \\sigma{\\left({\\mu}_{2},g_{2},g_{3} \\right)} \\sigma{\\left({\\mu}_{3},g_{2},g_{3} \\right)}}{2 f{\\left(2,{\\mu}_{0},{\\mu}_{1},{\\mu}_{2},{\\mu}_{3} \\right)} \\rho{\\left(z,- {\\mu}_{2} \\right)} \\sigma^{3}{\\left(z,g_{2},g_{3} \\right)} \\sigma{\\left(- {\\mu}_{0} - {\\mu}_{1} - {\\mu}_{2} - {\\mu}_{3},g_{2},g_{3} \\right)} \\sigma{\\left({\\mu}_{2},g_{2},g_{3} \\right)} \\sigma{\\left({\\mu}_{3},g_{2},g_{3} \\right)} + 24 f{\\left(4,{\\mu}_{0},{\\mu}_{1},{\\mu}_{2},{\\mu}_{3} \\right)} \\operatorname{pw}{\\left({\\mu}_{2},g_{2},g_{3} \\right)} \\rho{\\left(z,- {\\mu}_{2} \\right)} \\sigma^{3}{\\left(z,g_{2},g_{3} \\right)} \\sigma{\\left(- {\\mu}_{0} - {\\mu}_{1} - {\\mu}_{2} - {\\mu}_{3},g_{2},g_{3} \\right)} \\sigma{\\left({\\mu}_{2},g_{2},g_{3} \\right)} \\sigma{\\left({\\mu}_{3},g_{2},g_{3} \\right)} + 24 f{\\left(4,{\\mu}_{0},{\\mu}_{1},{\\mu}_{2},{\\mu}_{3} \\right)} \\rho^{2}{\\left(z,- {\\mu}_{2} \\right)} \\rho{\\left(z,{\\mu}_{2} \\right)} \\sigma^{3}{\\left(z,g_{2},g_{3} \\right)} \\sigma{\\left(- {\\mu}_{0} - {\\mu}_{1} - {\\mu}_{2} - {\\mu}_{3},g_{2},g_{3} \\right)} \\sigma{\\left({\\mu}_{2},g_{2},g_{3} \\right)} \\sigma{\\left({\\mu}_{3},g_{2},g_{3} \\right)}} - \\frac{f{\\left(2,{\\mu}_{0},{\\mu}_{1},{\\mu}_{2},{\\mu}_{3} \\right)} \\operatorname{pwp}{\\left({\\mu}_{2},g_{2},g_{3} \\right)} \\sigma^{3}{\\left(z,g_{2},g_{3} \\right)} \\sigma{\\left(- {\\mu}_{0} - {\\mu}_{1} - {\\mu}_{2} - {\\mu}_{3},g_{2},g_{3} \\right)} \\sigma{\\left({\\mu}_{2},g_{2},g_{3} \\right)} \\sigma{\\left({\\mu}_{3},g_{2},g_{3} \\right)}}{2 f{\\left(2,{\\mu}_{0},{\\mu}_{1},{\\mu}_{2},{\\mu}_{3} \\right)} \\rho{\\left(z,- {\\mu}_{2} \\right)} \\sigma^{3}{\\left(z,g_{2},g_{3} \\right)} \\sigma{\\left(- {\\mu}_{0} - {\\mu}_{1} - {\\mu}_{2} - {\\mu}_{3},g_{2},g_{3} \\right)} \\sigma{\\left({\\mu}_{2},g_{2},g_{3} \\right)} \\sigma{\\left({\\mu}_{3},g_{2},g_{3} \\right)} + 24 f{\\left(4,{\\mu}_{0},{\\mu}_{1},{\\mu}_{2},{\\mu}_{3} \\right)} \\operatorname{pw}{\\left({\\mu}_{2},g_{2},g_{3} \\right)} \\rho{\\left(z,- {\\mu}_{2} \\right)} \\sigma^{3}{\\left(z,g_{2},g_{3} \\right)} \\sigma{\\left(- {\\mu}_{0} - {\\mu}_{1} - {\\mu}_{2} - {\\mu}_{3},g_{2},g_{3} \\right)} \\sigma{\\left({\\mu}_{2},g_{2},g_{3} \\right)} \\sigma{\\left({\\mu}_{3},g_{2},g_{3} \\right)} + 24 f{\\left(4,{\\mu}_{0},{\\mu}_{1},{\\mu}_{2},{\\mu}_{3} \\right)} \\rho^{2}{\\left(z,- {\\mu}_{2} \\right)} \\rho{\\left(z,{\\mu}_{2} \\right)} \\sigma^{3}{\\left(z,g_{2},g_{3} \\right)} \\sigma{\\left(- {\\mu}_{0} - {\\mu}_{1} - {\\mu}_{2} - {\\mu}_{3},g_{2},g_{3} \\right)} \\sigma{\\left({\\mu}_{2},g_{2},g_{3} \\right)} \\sigma{\\left({\\mu}_{3},g_{2},g_{3} \\right)}} + \\frac{12 f{\\left(3,{\\mu}_{0},{\\mu}_{1},{\\mu}_{2},{\\mu}_{3} \\right)} \\operatorname{pw}{\\left({\\mu}_{2},g_{2},g_{3} \\right)} \\rho{\\left(z,- {\\mu}_{2} \\right)} \\rho{\\left(z,{\\mu}_{2} \\right)} \\sigma^{3}{\\left(z,g_{2},g_{3} \\right)} \\sigma{\\left(- {\\mu}_{0} - {\\mu}_{1} - {\\mu}_{2} - {\\mu}_{3},g_{2},g_{3} \\right)} \\sigma{\\left({\\mu}_{2},g_{2},g_{3} \\right)} \\sigma{\\left({\\mu}_{3},g_{2},g_{3} \\right)}}{2 f{\\left(2,{\\mu}_{0},{\\mu}_{1},{\\mu}_{2},{\\mu}_{3} \\right)} \\rho{\\left(z,- {\\mu}_{2} \\right)} \\sigma^{3}{\\left(z,g_{2},g_{3} \\right)} \\sigma{\\left(- {\\mu}_{0} - {\\mu}_{1} - {\\mu}_{2} - {\\mu}_{3},g_{2},g_{3} \\right)} \\sigma{\\left({\\mu}_{2},g_{2},g_{3} \\right)} \\sigma{\\left({\\mu}_{3},g_{2},g_{3} \\right)} + 24 f{\\left(4,{\\mu}_{0},{\\mu}_{1},{\\mu}_{2},{\\mu}_{3} \\right)} \\operatorname{pw}{\\left({\\mu}_{2},g_{2},g_{3} \\right)} \\rho{\\left(z,- {\\mu}_{2} \\right)} \\sigma^{3}{\\left(z,g_{2},g_{3} \\right)} \\sigma{\\left(- {\\mu}_{0} - {\\mu}_{1} - {\\mu}_{2} - {\\mu}_{3},g_{2},g_{3} \\right)} \\sigma{\\left({\\mu}_{2},g_{2},g_{3} \\right)} \\sigma{\\left({\\mu}_{3},g_{2},g_{3} \\right)} + 24 f{\\left(4,{\\mu}_{0},{\\mu}_{1},{\\mu}_{2},{\\mu}_{3} \\right)} \\rho^{2}{\\left(z,- {\\mu}_{2} \\right)} \\rho{\\left(z,{\\mu}_{2} \\right)} \\sigma^{3}{\\left(z,g_{2},g_{3} \\right)} \\sigma{\\left(- {\\mu}_{0} - {\\mu}_{1} - {\\mu}_{2} - {\\mu}_{3},g_{2},g_{3} \\right)} \\sigma{\\left({\\mu}_{2},g_{2},g_{3} \\right)} \\sigma{\\left({\\mu}_{3},g_{2},g_{3} \\right)}} + \\frac{6 f{\\left(3,{\\mu}_{0},{\\mu}_{1},{\\mu}_{2},{\\mu}_{3} \\right)} \\rho^{2}{\\left(z,- {\\mu}_{2} \\right)} \\rho^{2}{\\left(z,{\\mu}_{2} \\right)} \\sigma^{3}{\\left(z,g_{2},g_{3} \\right)} \\sigma{\\left(- {\\mu}_{0} - {\\mu}_{1} - {\\mu}_{2} - {\\mu}_{3},g_{2},g_{3} \\right)} \\sigma{\\left({\\mu}_{2},g_{2},g_{3} \\right)} \\sigma{\\left({\\mu}_{3},g_{2},g_{3} \\right)}}{2 f{\\left(2,{\\mu}_{0},{\\mu}_{1},{\\mu}_{2},{\\mu}_{3} \\right)} \\rho{\\left(z,- {\\mu}_{2} \\right)} \\sigma^{3}{\\left(z,g_{2},g_{3} \\right)} \\sigma{\\left(- {\\mu}_{0} - {\\mu}_{1} - {\\mu}_{2} - {\\mu}_{3},g_{2},g_{3} \\right)} \\sigma{\\left({\\mu}_{2},g_{2},g_{3} \\right)} \\sigma{\\left({\\mu}_{3},g_{2},g_{3} \\right)} + 24 f{\\left(4,{\\mu}_{0},{\\mu}_{1},{\\mu}_{2},{\\mu}_{3} \\right)} \\operatorname{pw}{\\left({\\mu}_{2},g_{2},g_{3} \\right)} \\rho{\\left(z,- {\\mu}_{2} \\right)} \\sigma^{3}{\\left(z,g_{2},g_{3} \\right)} \\sigma{\\left(- {\\mu}_{0} - {\\mu}_{1} - {\\mu}_{2} - {\\mu}_{3},g_{2},g_{3} \\right)} \\sigma{\\left({\\mu}_{2},g_{2},g_{3} \\right)} \\sigma{\\left({\\mu}_{3},g_{2},g_{3} \\right)} + 24 f{\\left(4,{\\mu}_{0},{\\mu}_{1},{\\mu}_{2},{\\mu}_{3} \\right)} \\rho^{2}{\\left(z,- {\\mu}_{2} \\right)} \\rho{\\left(z,{\\mu}_{2} \\right)} \\sigma^{3}{\\left(z,g_{2},g_{3} \\right)} \\sigma{\\left(- {\\mu}_{0} - {\\mu}_{1} - {\\mu}_{2} - {\\mu}_{3},g_{2},g_{3} \\right)} \\sigma{\\left({\\mu}_{2},g_{2},g_{3} \\right)} \\sigma{\\left({\\mu}_{3},g_{2},g_{3} \\right)}} - \\frac{12 f{\\left(4,{\\mu}_{0},{\\mu}_{1},{\\mu}_{2},{\\mu}_{3} \\right)} \\operatorname{pw}{\\left({\\mu}_{2},g_{2},g_{3} \\right)} \\operatorname{pwp}{\\left({\\mu}_{2},g_{2},g_{3} \\right)} \\sigma^{3}{\\left(z,g_{2},g_{3} \\right)} \\sigma{\\left(- {\\mu}_{0} - {\\mu}_{1} - {\\mu}_{2} - {\\mu}_{3},g_{2},g_{3} \\right)} \\sigma{\\left({\\mu}_{2},g_{2},g_{3} \\right)} \\sigma{\\left({\\mu}_{3},g_{2},g_{3} \\right)}}{2 f{\\left(2,{\\mu}_{0},{\\mu}_{1},{\\mu}_{2},{\\mu}_{3} \\right)} \\rho{\\left(z,- {\\mu}_{2} \\right)} \\sigma^{3}{\\left(z,g_{2},g_{3} \\right)} \\sigma{\\left(- {\\mu}_{0} - {\\mu}_{1} - {\\mu}_{2} - {\\mu}_{3},g_{2},g_{3} \\right)} \\sigma{\\left({\\mu}_{2},g_{2},g_{3} \\right)} \\sigma{\\left({\\mu}_{3},g_{2},g_{3} \\right)} + 24 f{\\left(4,{\\mu}_{0},{\\mu}_{1},{\\mu}_{2},{\\mu}_{3} \\right)} \\operatorname{pw}{\\left({\\mu}_{2},g_{2},g_{3} \\right)} \\rho{\\left(z,- {\\mu}_{2} \\right)} \\sigma^{3}{\\left(z,g_{2},g_{3} \\right)} \\sigma{\\left(- {\\mu}_{0} - {\\mu}_{1} - {\\mu}_{2} - {\\mu}_{3},g_{2},g_{3} \\right)} \\sigma{\\left({\\mu}_{2},g_{2},g_{3} \\right)} \\sigma{\\left({\\mu}_{3},g_{2},g_{3} \\right)} + 24 f{\\left(4,{\\mu}_{0},{\\mu}_{1},{\\mu}_{2},{\\mu}_{3} \\right)} \\rho^{2}{\\left(z,- {\\mu}_{2} \\right)} \\rho{\\left(z,{\\mu}_{2} \\right)} \\sigma^{3}{\\left(z,g_{2},g_{3} \\right)} \\sigma{\\left(- {\\mu}_{0} - {\\mu}_{1} - {\\mu}_{2} - {\\mu}_{3},g_{2},g_{3} \\right)} \\sigma{\\left({\\mu}_{2},g_{2},g_{3} \\right)} \\sigma{\\left({\\mu}_{3},g_{2},g_{3} \\right)}} - \\frac{\\rho{\\left(z,- {\\mu}_{0} \\right)} \\rho{\\left(z,- {\\mu}_{1} \\right)} \\sigma{\\left(- z - {\\mu}_{2},g_{2},g_{3} \\right)} \\sigma{\\left(- z - {\\mu}_{3},g_{2},g_{3} \\right)} \\sigma{\\left(- z + {\\mu}_{0} + {\\mu}_{1} + {\\mu}_{2} + {\\mu}_{3},g_{2},g_{3} \\right)}}{2 f{\\left(2,{\\mu}_{0},{\\mu}_{1},{\\mu}_{2},{\\mu}_{3} \\right)} \\rho{\\left(z,- {\\mu}_{2} \\right)} \\sigma^{3}{\\left(z,g_{2},g_{3} \\right)} \\sigma{\\left(- {\\mu}_{0} - {\\mu}_{1} - {\\mu}_{2} - {\\mu}_{3},g_{2},g_{3} \\right)} \\sigma{\\left({\\mu}_{2},g_{2},g_{3} \\right)} \\sigma{\\left({\\mu}_{3},g_{2},g_{3} \\right)} + 24 f{\\left(4,{\\mu}_{0},{\\mu}_{1},{\\mu}_{2},{\\mu}_{3} \\right)} \\operatorname{pw}{\\left({\\mu}_{2},g_{2},g_{3} \\right)} \\rho{\\left(z,- {\\mu}_{2} \\right)} \\sigma^{3}{\\left(z,g_{2},g_{3} \\right)} \\sigma{\\left(- {\\mu}_{0} - {\\mu}_{1} - {\\mu}_{2} - {\\mu}_{3},g_{2},g_{3} \\right)} \\sigma{\\left({\\mu}_{2},g_{2},g_{3} \\right)} \\sigma{\\left({\\mu}_{3},g_{2},g_{3} \\right)} + 24 f{\\left(4,{\\mu}_{0},{\\mu}_{1},{\\mu}_{2},{\\mu}_{3} \\right)} \\rho^{2}{\\left(z,- {\\mu}_{2} \\right)} \\rho{\\left(z,{\\mu}_{2} \\right)} \\sigma^{3}{\\left(z,g_{2},g_{3} \\right)} \\sigma{\\left(- {\\mu}_{0} - {\\mu}_{1} - {\\mu}_{2} - {\\mu}_{3},g_{2},g_{3} \\right)} \\sigma{\\left({\\mu}_{2},g_{2},g_{3} \\right)} \\sigma{\\left({\\mu}_{3},g_{2},g_{3} \\right)}}$"
      ],
      "text/plain": [
       "Eq(Derivative(rho(z, mu[2]), z), pwp(mu[2], g2, g3)/(2*rho(z, -mu[2])) - rho(z, mu[2])*zw(mu[2], g2, g3) + f(1, mu[0], mu[1], mu[2], mu[3])*rho(z, -mu[2])*rho(z, mu[2])*sigma(z, g2, g3)**3*sigma(-mu[0] - mu[1] - mu[2] - mu[3], g2, g3)*sigma(mu[2], g2, g3)*sigma(mu[3], g2, g3)/(2*f(2, mu[0], mu[1], mu[2], mu[3])*rho(z, -mu[2])*sigma(z, g2, g3)**3*sigma(-mu[0] - mu[1] - mu[2] - mu[3], g2, g3)*sigma(mu[2], g2, g3)*sigma(mu[3], g2, g3) + 24*f(4, mu[0], mu[1], mu[2], mu[3])*pw(mu[2], g2, g3)*rho(z, -mu[2])*sigma(z, g2, g3)**3*sigma(-mu[0] - mu[1] - mu[2] - mu[3], g2, g3)*sigma(mu[2], g2, g3)*sigma(mu[3], g2, g3) + 24*f(4, mu[0], mu[1], mu[2], mu[3])*rho(z, -mu[2])**2*rho(z, mu[2])*sigma(z, g2, g3)**3*sigma(-mu[0] - mu[1] - mu[2] - mu[3], g2, g3)*sigma(mu[2], g2, g3)*sigma(mu[3], g2, g3)) - f(2, mu[0], mu[1], mu[2], mu[3])*pwp(mu[2], g2, g3)*sigma(z, g2, g3)**3*sigma(-mu[0] - mu[1] - mu[2] - mu[3], g2, g3)*sigma(mu[2], g2, g3)*sigma(mu[3], g2, g3)/(2*f(2, mu[0], mu[1], mu[2], mu[3])*rho(z, -mu[2])*sigma(z, g2, g3)**3*sigma(-mu[0] - mu[1] - mu[2] - mu[3], g2, g3)*sigma(mu[2], g2, g3)*sigma(mu[3], g2, g3) + 24*f(4, mu[0], mu[1], mu[2], mu[3])*pw(mu[2], g2, g3)*rho(z, -mu[2])*sigma(z, g2, g3)**3*sigma(-mu[0] - mu[1] - mu[2] - mu[3], g2, g3)*sigma(mu[2], g2, g3)*sigma(mu[3], g2, g3) + 24*f(4, mu[0], mu[1], mu[2], mu[3])*rho(z, -mu[2])**2*rho(z, mu[2])*sigma(z, g2, g3)**3*sigma(-mu[0] - mu[1] - mu[2] - mu[3], g2, g3)*sigma(mu[2], g2, g3)*sigma(mu[3], g2, g3)) + 12*f(3, mu[0], mu[1], mu[2], mu[3])*pw(mu[2], g2, g3)*rho(z, -mu[2])*rho(z, mu[2])*sigma(z, g2, g3)**3*sigma(-mu[0] - mu[1] - mu[2] - mu[3], g2, g3)*sigma(mu[2], g2, g3)*sigma(mu[3], g2, g3)/(2*f(2, mu[0], mu[1], mu[2], mu[3])*rho(z, -mu[2])*sigma(z, g2, g3)**3*sigma(-mu[0] - mu[1] - mu[2] - mu[3], g2, g3)*sigma(mu[2], g2, g3)*sigma(mu[3], g2, g3) + 24*f(4, mu[0], mu[1], mu[2], mu[3])*pw(mu[2], g2, g3)*rho(z, -mu[2])*sigma(z, g2, g3)**3*sigma(-mu[0] - mu[1] - mu[2] - mu[3], g2, g3)*sigma(mu[2], g2, g3)*sigma(mu[3], g2, g3) + 24*f(4, mu[0], mu[1], mu[2], mu[3])*rho(z, -mu[2])**2*rho(z, mu[2])*sigma(z, g2, g3)**3*sigma(-mu[0] - mu[1] - mu[2] - mu[3], g2, g3)*sigma(mu[2], g2, g3)*sigma(mu[3], g2, g3)) + 6*f(3, mu[0], mu[1], mu[2], mu[3])*rho(z, -mu[2])**2*rho(z, mu[2])**2*sigma(z, g2, g3)**3*sigma(-mu[0] - mu[1] - mu[2] - mu[3], g2, g3)*sigma(mu[2], g2, g3)*sigma(mu[3], g2, g3)/(2*f(2, mu[0], mu[1], mu[2], mu[3])*rho(z, -mu[2])*sigma(z, g2, g3)**3*sigma(-mu[0] - mu[1] - mu[2] - mu[3], g2, g3)*sigma(mu[2], g2, g3)*sigma(mu[3], g2, g3) + 24*f(4, mu[0], mu[1], mu[2], mu[3])*pw(mu[2], g2, g3)*rho(z, -mu[2])*sigma(z, g2, g3)**3*sigma(-mu[0] - mu[1] - mu[2] - mu[3], g2, g3)*sigma(mu[2], g2, g3)*sigma(mu[3], g2, g3) + 24*f(4, mu[0], mu[1], mu[2], mu[3])*rho(z, -mu[2])**2*rho(z, mu[2])*sigma(z, g2, g3)**3*sigma(-mu[0] - mu[1] - mu[2] - mu[3], g2, g3)*sigma(mu[2], g2, g3)*sigma(mu[3], g2, g3)) - 12*f(4, mu[0], mu[1], mu[2], mu[3])*pw(mu[2], g2, g3)*pwp(mu[2], g2, g3)*sigma(z, g2, g3)**3*sigma(-mu[0] - mu[1] - mu[2] - mu[3], g2, g3)*sigma(mu[2], g2, g3)*sigma(mu[3], g2, g3)/(2*f(2, mu[0], mu[1], mu[2], mu[3])*rho(z, -mu[2])*sigma(z, g2, g3)**3*sigma(-mu[0] - mu[1] - mu[2] - mu[3], g2, g3)*sigma(mu[2], g2, g3)*sigma(mu[3], g2, g3) + 24*f(4, mu[0], mu[1], mu[2], mu[3])*pw(mu[2], g2, g3)*rho(z, -mu[2])*sigma(z, g2, g3)**3*sigma(-mu[0] - mu[1] - mu[2] - mu[3], g2, g3)*sigma(mu[2], g2, g3)*sigma(mu[3], g2, g3) + 24*f(4, mu[0], mu[1], mu[2], mu[3])*rho(z, -mu[2])**2*rho(z, mu[2])*sigma(z, g2, g3)**3*sigma(-mu[0] - mu[1] - mu[2] - mu[3], g2, g3)*sigma(mu[2], g2, g3)*sigma(mu[3], g2, g3)) - rho(z, -mu[0])*rho(z, -mu[1])*sigma(-z - mu[2], g2, g3)*sigma(-z - mu[3], g2, g3)*sigma(-z + mu[0] + mu[1] + mu[2] + mu[3], g2, g3)/(2*f(2, mu[0], mu[1], mu[2], mu[3])*rho(z, -mu[2])*sigma(z, g2, g3)**3*sigma(-mu[0] - mu[1] - mu[2] - mu[3], g2, g3)*sigma(mu[2], g2, g3)*sigma(mu[3], g2, g3) + 24*f(4, mu[0], mu[1], mu[2], mu[3])*pw(mu[2], g2, g3)*rho(z, -mu[2])*sigma(z, g2, g3)**3*sigma(-mu[0] - mu[1] - mu[2] - mu[3], g2, g3)*sigma(mu[2], g2, g3)*sigma(mu[3], g2, g3) + 24*f(4, mu[0], mu[1], mu[2], mu[3])*rho(z, -mu[2])**2*rho(z, mu[2])*sigma(z, g2, g3)**3*sigma(-mu[0] - mu[1] - mu[2] - mu[3], g2, g3)*sigma(mu[2], g2, g3)*sigma(mu[3], g2, g3)))"
      ]
     },
     "execution_count": 220,
     "metadata": {},
     "output_type": "execute_result"
    },
    {
     "data": {
      "text/latex": [
       "$\\displaystyle \\frac{\\partial}{\\partial z} \\rho{\\left(z,{\\mu}_{3} \\right)} = \\frac{\\operatorname{pwp}{\\left({\\mu}_{3},g_{2},g_{3} \\right)}}{2 \\rho{\\left(z,- {\\mu}_{3} \\right)}} - \\rho{\\left(z,{\\mu}_{3} \\right)} \\operatorname{zw}{\\left({\\mu}_{3},g_{2},g_{3} \\right)} + \\frac{f{\\left(1,{\\mu}_{0},{\\mu}_{1},{\\mu}_{2},{\\mu}_{3} \\right)} \\rho{\\left(z,- {\\mu}_{3} \\right)} \\rho{\\left(z,{\\mu}_{3} \\right)} \\sigma^{3}{\\left(z,g_{2},g_{3} \\right)} \\sigma{\\left(- {\\mu}_{0} - {\\mu}_{1} - {\\mu}_{2} - {\\mu}_{3},g_{2},g_{3} \\right)} \\sigma{\\left({\\mu}_{2},g_{2},g_{3} \\right)} \\sigma{\\left({\\mu}_{3},g_{2},g_{3} \\right)}}{2 f{\\left(2,{\\mu}_{0},{\\mu}_{1},{\\mu}_{2},{\\mu}_{3} \\right)} \\rho{\\left(z,- {\\mu}_{3} \\right)} \\sigma^{3}{\\left(z,g_{2},g_{3} \\right)} \\sigma{\\left(- {\\mu}_{0} - {\\mu}_{1} - {\\mu}_{2} - {\\mu}_{3},g_{2},g_{3} \\right)} \\sigma{\\left({\\mu}_{2},g_{2},g_{3} \\right)} \\sigma{\\left({\\mu}_{3},g_{2},g_{3} \\right)} + 24 f{\\left(4,{\\mu}_{0},{\\mu}_{1},{\\mu}_{2},{\\mu}_{3} \\right)} \\operatorname{pw}{\\left({\\mu}_{3},g_{2},g_{3} \\right)} \\rho{\\left(z,- {\\mu}_{3} \\right)} \\sigma^{3}{\\left(z,g_{2},g_{3} \\right)} \\sigma{\\left(- {\\mu}_{0} - {\\mu}_{1} - {\\mu}_{2} - {\\mu}_{3},g_{2},g_{3} \\right)} \\sigma{\\left({\\mu}_{2},g_{2},g_{3} \\right)} \\sigma{\\left({\\mu}_{3},g_{2},g_{3} \\right)} + 24 f{\\left(4,{\\mu}_{0},{\\mu}_{1},{\\mu}_{2},{\\mu}_{3} \\right)} \\rho^{2}{\\left(z,- {\\mu}_{3} \\right)} \\rho{\\left(z,{\\mu}_{3} \\right)} \\sigma^{3}{\\left(z,g_{2},g_{3} \\right)} \\sigma{\\left(- {\\mu}_{0} - {\\mu}_{1} - {\\mu}_{2} - {\\mu}_{3},g_{2},g_{3} \\right)} \\sigma{\\left({\\mu}_{2},g_{2},g_{3} \\right)} \\sigma{\\left({\\mu}_{3},g_{2},g_{3} \\right)}} - \\frac{f{\\left(2,{\\mu}_{0},{\\mu}_{1},{\\mu}_{2},{\\mu}_{3} \\right)} \\operatorname{pwp}{\\left({\\mu}_{3},g_{2},g_{3} \\right)} \\sigma^{3}{\\left(z,g_{2},g_{3} \\right)} \\sigma{\\left(- {\\mu}_{0} - {\\mu}_{1} - {\\mu}_{2} - {\\mu}_{3},g_{2},g_{3} \\right)} \\sigma{\\left({\\mu}_{2},g_{2},g_{3} \\right)} \\sigma{\\left({\\mu}_{3},g_{2},g_{3} \\right)}}{2 f{\\left(2,{\\mu}_{0},{\\mu}_{1},{\\mu}_{2},{\\mu}_{3} \\right)} \\rho{\\left(z,- {\\mu}_{3} \\right)} \\sigma^{3}{\\left(z,g_{2},g_{3} \\right)} \\sigma{\\left(- {\\mu}_{0} - {\\mu}_{1} - {\\mu}_{2} - {\\mu}_{3},g_{2},g_{3} \\right)} \\sigma{\\left({\\mu}_{2},g_{2},g_{3} \\right)} \\sigma{\\left({\\mu}_{3},g_{2},g_{3} \\right)} + 24 f{\\left(4,{\\mu}_{0},{\\mu}_{1},{\\mu}_{2},{\\mu}_{3} \\right)} \\operatorname{pw}{\\left({\\mu}_{3},g_{2},g_{3} \\right)} \\rho{\\left(z,- {\\mu}_{3} \\right)} \\sigma^{3}{\\left(z,g_{2},g_{3} \\right)} \\sigma{\\left(- {\\mu}_{0} - {\\mu}_{1} - {\\mu}_{2} - {\\mu}_{3},g_{2},g_{3} \\right)} \\sigma{\\left({\\mu}_{2},g_{2},g_{3} \\right)} \\sigma{\\left({\\mu}_{3},g_{2},g_{3} \\right)} + 24 f{\\left(4,{\\mu}_{0},{\\mu}_{1},{\\mu}_{2},{\\mu}_{3} \\right)} \\rho^{2}{\\left(z,- {\\mu}_{3} \\right)} \\rho{\\left(z,{\\mu}_{3} \\right)} \\sigma^{3}{\\left(z,g_{2},g_{3} \\right)} \\sigma{\\left(- {\\mu}_{0} - {\\mu}_{1} - {\\mu}_{2} - {\\mu}_{3},g_{2},g_{3} \\right)} \\sigma{\\left({\\mu}_{2},g_{2},g_{3} \\right)} \\sigma{\\left({\\mu}_{3},g_{2},g_{3} \\right)}} + \\frac{12 f{\\left(3,{\\mu}_{0},{\\mu}_{1},{\\mu}_{2},{\\mu}_{3} \\right)} \\operatorname{pw}{\\left({\\mu}_{3},g_{2},g_{3} \\right)} \\rho{\\left(z,- {\\mu}_{3} \\right)} \\rho{\\left(z,{\\mu}_{3} \\right)} \\sigma^{3}{\\left(z,g_{2},g_{3} \\right)} \\sigma{\\left(- {\\mu}_{0} - {\\mu}_{1} - {\\mu}_{2} - {\\mu}_{3},g_{2},g_{3} \\right)} \\sigma{\\left({\\mu}_{2},g_{2},g_{3} \\right)} \\sigma{\\left({\\mu}_{3},g_{2},g_{3} \\right)}}{2 f{\\left(2,{\\mu}_{0},{\\mu}_{1},{\\mu}_{2},{\\mu}_{3} \\right)} \\rho{\\left(z,- {\\mu}_{3} \\right)} \\sigma^{3}{\\left(z,g_{2},g_{3} \\right)} \\sigma{\\left(- {\\mu}_{0} - {\\mu}_{1} - {\\mu}_{2} - {\\mu}_{3},g_{2},g_{3} \\right)} \\sigma{\\left({\\mu}_{2},g_{2},g_{3} \\right)} \\sigma{\\left({\\mu}_{3},g_{2},g_{3} \\right)} + 24 f{\\left(4,{\\mu}_{0},{\\mu}_{1},{\\mu}_{2},{\\mu}_{3} \\right)} \\operatorname{pw}{\\left({\\mu}_{3},g_{2},g_{3} \\right)} \\rho{\\left(z,- {\\mu}_{3} \\right)} \\sigma^{3}{\\left(z,g_{2},g_{3} \\right)} \\sigma{\\left(- {\\mu}_{0} - {\\mu}_{1} - {\\mu}_{2} - {\\mu}_{3},g_{2},g_{3} \\right)} \\sigma{\\left({\\mu}_{2},g_{2},g_{3} \\right)} \\sigma{\\left({\\mu}_{3},g_{2},g_{3} \\right)} + 24 f{\\left(4,{\\mu}_{0},{\\mu}_{1},{\\mu}_{2},{\\mu}_{3} \\right)} \\rho^{2}{\\left(z,- {\\mu}_{3} \\right)} \\rho{\\left(z,{\\mu}_{3} \\right)} \\sigma^{3}{\\left(z,g_{2},g_{3} \\right)} \\sigma{\\left(- {\\mu}_{0} - {\\mu}_{1} - {\\mu}_{2} - {\\mu}_{3},g_{2},g_{3} \\right)} \\sigma{\\left({\\mu}_{2},g_{2},g_{3} \\right)} \\sigma{\\left({\\mu}_{3},g_{2},g_{3} \\right)}} + \\frac{6 f{\\left(3,{\\mu}_{0},{\\mu}_{1},{\\mu}_{2},{\\mu}_{3} \\right)} \\rho^{2}{\\left(z,- {\\mu}_{3} \\right)} \\rho^{2}{\\left(z,{\\mu}_{3} \\right)} \\sigma^{3}{\\left(z,g_{2},g_{3} \\right)} \\sigma{\\left(- {\\mu}_{0} - {\\mu}_{1} - {\\mu}_{2} - {\\mu}_{3},g_{2},g_{3} \\right)} \\sigma{\\left({\\mu}_{2},g_{2},g_{3} \\right)} \\sigma{\\left({\\mu}_{3},g_{2},g_{3} \\right)}}{2 f{\\left(2,{\\mu}_{0},{\\mu}_{1},{\\mu}_{2},{\\mu}_{3} \\right)} \\rho{\\left(z,- {\\mu}_{3} \\right)} \\sigma^{3}{\\left(z,g_{2},g_{3} \\right)} \\sigma{\\left(- {\\mu}_{0} - {\\mu}_{1} - {\\mu}_{2} - {\\mu}_{3},g_{2},g_{3} \\right)} \\sigma{\\left({\\mu}_{2},g_{2},g_{3} \\right)} \\sigma{\\left({\\mu}_{3},g_{2},g_{3} \\right)} + 24 f{\\left(4,{\\mu}_{0},{\\mu}_{1},{\\mu}_{2},{\\mu}_{3} \\right)} \\operatorname{pw}{\\left({\\mu}_{3},g_{2},g_{3} \\right)} \\rho{\\left(z,- {\\mu}_{3} \\right)} \\sigma^{3}{\\left(z,g_{2},g_{3} \\right)} \\sigma{\\left(- {\\mu}_{0} - {\\mu}_{1} - {\\mu}_{2} - {\\mu}_{3},g_{2},g_{3} \\right)} \\sigma{\\left({\\mu}_{2},g_{2},g_{3} \\right)} \\sigma{\\left({\\mu}_{3},g_{2},g_{3} \\right)} + 24 f{\\left(4,{\\mu}_{0},{\\mu}_{1},{\\mu}_{2},{\\mu}_{3} \\right)} \\rho^{2}{\\left(z,- {\\mu}_{3} \\right)} \\rho{\\left(z,{\\mu}_{3} \\right)} \\sigma^{3}{\\left(z,g_{2},g_{3} \\right)} \\sigma{\\left(- {\\mu}_{0} - {\\mu}_{1} - {\\mu}_{2} - {\\mu}_{3},g_{2},g_{3} \\right)} \\sigma{\\left({\\mu}_{2},g_{2},g_{3} \\right)} \\sigma{\\left({\\mu}_{3},g_{2},g_{3} \\right)}} - \\frac{12 f{\\left(4,{\\mu}_{0},{\\mu}_{1},{\\mu}_{2},{\\mu}_{3} \\right)} \\operatorname{pw}{\\left({\\mu}_{3},g_{2},g_{3} \\right)} \\operatorname{pwp}{\\left({\\mu}_{3},g_{2},g_{3} \\right)} \\sigma^{3}{\\left(z,g_{2},g_{3} \\right)} \\sigma{\\left(- {\\mu}_{0} - {\\mu}_{1} - {\\mu}_{2} - {\\mu}_{3},g_{2},g_{3} \\right)} \\sigma{\\left({\\mu}_{2},g_{2},g_{3} \\right)} \\sigma{\\left({\\mu}_{3},g_{2},g_{3} \\right)}}{2 f{\\left(2,{\\mu}_{0},{\\mu}_{1},{\\mu}_{2},{\\mu}_{3} \\right)} \\rho{\\left(z,- {\\mu}_{3} \\right)} \\sigma^{3}{\\left(z,g_{2},g_{3} \\right)} \\sigma{\\left(- {\\mu}_{0} - {\\mu}_{1} - {\\mu}_{2} - {\\mu}_{3},g_{2},g_{3} \\right)} \\sigma{\\left({\\mu}_{2},g_{2},g_{3} \\right)} \\sigma{\\left({\\mu}_{3},g_{2},g_{3} \\right)} + 24 f{\\left(4,{\\mu}_{0},{\\mu}_{1},{\\mu}_{2},{\\mu}_{3} \\right)} \\operatorname{pw}{\\left({\\mu}_{3},g_{2},g_{3} \\right)} \\rho{\\left(z,- {\\mu}_{3} \\right)} \\sigma^{3}{\\left(z,g_{2},g_{3} \\right)} \\sigma{\\left(- {\\mu}_{0} - {\\mu}_{1} - {\\mu}_{2} - {\\mu}_{3},g_{2},g_{3} \\right)} \\sigma{\\left({\\mu}_{2},g_{2},g_{3} \\right)} \\sigma{\\left({\\mu}_{3},g_{2},g_{3} \\right)} + 24 f{\\left(4,{\\mu}_{0},{\\mu}_{1},{\\mu}_{2},{\\mu}_{3} \\right)} \\rho^{2}{\\left(z,- {\\mu}_{3} \\right)} \\rho{\\left(z,{\\mu}_{3} \\right)} \\sigma^{3}{\\left(z,g_{2},g_{3} \\right)} \\sigma{\\left(- {\\mu}_{0} - {\\mu}_{1} - {\\mu}_{2} - {\\mu}_{3},g_{2},g_{3} \\right)} \\sigma{\\left({\\mu}_{2},g_{2},g_{3} \\right)} \\sigma{\\left({\\mu}_{3},g_{2},g_{3} \\right)}} - \\frac{\\rho{\\left(z,- {\\mu}_{0} \\right)} \\rho{\\left(z,- {\\mu}_{1} \\right)} \\sigma{\\left(- z - {\\mu}_{2},g_{2},g_{3} \\right)} \\sigma{\\left(- z - {\\mu}_{3},g_{2},g_{3} \\right)} \\sigma{\\left(- z + {\\mu}_{0} + {\\mu}_{1} + {\\mu}_{2} + {\\mu}_{3},g_{2},g_{3} \\right)}}{2 f{\\left(2,{\\mu}_{0},{\\mu}_{1},{\\mu}_{2},{\\mu}_{3} \\right)} \\rho{\\left(z,- {\\mu}_{3} \\right)} \\sigma^{3}{\\left(z,g_{2},g_{3} \\right)} \\sigma{\\left(- {\\mu}_{0} - {\\mu}_{1} - {\\mu}_{2} - {\\mu}_{3},g_{2},g_{3} \\right)} \\sigma{\\left({\\mu}_{2},g_{2},g_{3} \\right)} \\sigma{\\left({\\mu}_{3},g_{2},g_{3} \\right)} + 24 f{\\left(4,{\\mu}_{0},{\\mu}_{1},{\\mu}_{2},{\\mu}_{3} \\right)} \\operatorname{pw}{\\left({\\mu}_{3},g_{2},g_{3} \\right)} \\rho{\\left(z,- {\\mu}_{3} \\right)} \\sigma^{3}{\\left(z,g_{2},g_{3} \\right)} \\sigma{\\left(- {\\mu}_{0} - {\\mu}_{1} - {\\mu}_{2} - {\\mu}_{3},g_{2},g_{3} \\right)} \\sigma{\\left({\\mu}_{2},g_{2},g_{3} \\right)} \\sigma{\\left({\\mu}_{3},g_{2},g_{3} \\right)} + 24 f{\\left(4,{\\mu}_{0},{\\mu}_{1},{\\mu}_{2},{\\mu}_{3} \\right)} \\rho^{2}{\\left(z,- {\\mu}_{3} \\right)} \\rho{\\left(z,{\\mu}_{3} \\right)} \\sigma^{3}{\\left(z,g_{2},g_{3} \\right)} \\sigma{\\left(- {\\mu}_{0} - {\\mu}_{1} - {\\mu}_{2} - {\\mu}_{3},g_{2},g_{3} \\right)} \\sigma{\\left({\\mu}_{2},g_{2},g_{3} \\right)} \\sigma{\\left({\\mu}_{3},g_{2},g_{3} \\right)}}$"
      ],
      "text/plain": [
       "Eq(Derivative(rho(z, mu[3]), z), pwp(mu[3], g2, g3)/(2*rho(z, -mu[3])) - rho(z, mu[3])*zw(mu[3], g2, g3) + f(1, mu[0], mu[1], mu[2], mu[3])*rho(z, -mu[3])*rho(z, mu[3])*sigma(z, g2, g3)**3*sigma(-mu[0] - mu[1] - mu[2] - mu[3], g2, g3)*sigma(mu[2], g2, g3)*sigma(mu[3], g2, g3)/(2*f(2, mu[0], mu[1], mu[2], mu[3])*rho(z, -mu[3])*sigma(z, g2, g3)**3*sigma(-mu[0] - mu[1] - mu[2] - mu[3], g2, g3)*sigma(mu[2], g2, g3)*sigma(mu[3], g2, g3) + 24*f(4, mu[0], mu[1], mu[2], mu[3])*pw(mu[3], g2, g3)*rho(z, -mu[3])*sigma(z, g2, g3)**3*sigma(-mu[0] - mu[1] - mu[2] - mu[3], g2, g3)*sigma(mu[2], g2, g3)*sigma(mu[3], g2, g3) + 24*f(4, mu[0], mu[1], mu[2], mu[3])*rho(z, -mu[3])**2*rho(z, mu[3])*sigma(z, g2, g3)**3*sigma(-mu[0] - mu[1] - mu[2] - mu[3], g2, g3)*sigma(mu[2], g2, g3)*sigma(mu[3], g2, g3)) - f(2, mu[0], mu[1], mu[2], mu[3])*pwp(mu[3], g2, g3)*sigma(z, g2, g3)**3*sigma(-mu[0] - mu[1] - mu[2] - mu[3], g2, g3)*sigma(mu[2], g2, g3)*sigma(mu[3], g2, g3)/(2*f(2, mu[0], mu[1], mu[2], mu[3])*rho(z, -mu[3])*sigma(z, g2, g3)**3*sigma(-mu[0] - mu[1] - mu[2] - mu[3], g2, g3)*sigma(mu[2], g2, g3)*sigma(mu[3], g2, g3) + 24*f(4, mu[0], mu[1], mu[2], mu[3])*pw(mu[3], g2, g3)*rho(z, -mu[3])*sigma(z, g2, g3)**3*sigma(-mu[0] - mu[1] - mu[2] - mu[3], g2, g3)*sigma(mu[2], g2, g3)*sigma(mu[3], g2, g3) + 24*f(4, mu[0], mu[1], mu[2], mu[3])*rho(z, -mu[3])**2*rho(z, mu[3])*sigma(z, g2, g3)**3*sigma(-mu[0] - mu[1] - mu[2] - mu[3], g2, g3)*sigma(mu[2], g2, g3)*sigma(mu[3], g2, g3)) + 12*f(3, mu[0], mu[1], mu[2], mu[3])*pw(mu[3], g2, g3)*rho(z, -mu[3])*rho(z, mu[3])*sigma(z, g2, g3)**3*sigma(-mu[0] - mu[1] - mu[2] - mu[3], g2, g3)*sigma(mu[2], g2, g3)*sigma(mu[3], g2, g3)/(2*f(2, mu[0], mu[1], mu[2], mu[3])*rho(z, -mu[3])*sigma(z, g2, g3)**3*sigma(-mu[0] - mu[1] - mu[2] - mu[3], g2, g3)*sigma(mu[2], g2, g3)*sigma(mu[3], g2, g3) + 24*f(4, mu[0], mu[1], mu[2], mu[3])*pw(mu[3], g2, g3)*rho(z, -mu[3])*sigma(z, g2, g3)**3*sigma(-mu[0] - mu[1] - mu[2] - mu[3], g2, g3)*sigma(mu[2], g2, g3)*sigma(mu[3], g2, g3) + 24*f(4, mu[0], mu[1], mu[2], mu[3])*rho(z, -mu[3])**2*rho(z, mu[3])*sigma(z, g2, g3)**3*sigma(-mu[0] - mu[1] - mu[2] - mu[3], g2, g3)*sigma(mu[2], g2, g3)*sigma(mu[3], g2, g3)) + 6*f(3, mu[0], mu[1], mu[2], mu[3])*rho(z, -mu[3])**2*rho(z, mu[3])**2*sigma(z, g2, g3)**3*sigma(-mu[0] - mu[1] - mu[2] - mu[3], g2, g3)*sigma(mu[2], g2, g3)*sigma(mu[3], g2, g3)/(2*f(2, mu[0], mu[1], mu[2], mu[3])*rho(z, -mu[3])*sigma(z, g2, g3)**3*sigma(-mu[0] - mu[1] - mu[2] - mu[3], g2, g3)*sigma(mu[2], g2, g3)*sigma(mu[3], g2, g3) + 24*f(4, mu[0], mu[1], mu[2], mu[3])*pw(mu[3], g2, g3)*rho(z, -mu[3])*sigma(z, g2, g3)**3*sigma(-mu[0] - mu[1] - mu[2] - mu[3], g2, g3)*sigma(mu[2], g2, g3)*sigma(mu[3], g2, g3) + 24*f(4, mu[0], mu[1], mu[2], mu[3])*rho(z, -mu[3])**2*rho(z, mu[3])*sigma(z, g2, g3)**3*sigma(-mu[0] - mu[1] - mu[2] - mu[3], g2, g3)*sigma(mu[2], g2, g3)*sigma(mu[3], g2, g3)) - 12*f(4, mu[0], mu[1], mu[2], mu[3])*pw(mu[3], g2, g3)*pwp(mu[3], g2, g3)*sigma(z, g2, g3)**3*sigma(-mu[0] - mu[1] - mu[2] - mu[3], g2, g3)*sigma(mu[2], g2, g3)*sigma(mu[3], g2, g3)/(2*f(2, mu[0], mu[1], mu[2], mu[3])*rho(z, -mu[3])*sigma(z, g2, g3)**3*sigma(-mu[0] - mu[1] - mu[2] - mu[3], g2, g3)*sigma(mu[2], g2, g3)*sigma(mu[3], g2, g3) + 24*f(4, mu[0], mu[1], mu[2], mu[3])*pw(mu[3], g2, g3)*rho(z, -mu[3])*sigma(z, g2, g3)**3*sigma(-mu[0] - mu[1] - mu[2] - mu[3], g2, g3)*sigma(mu[2], g2, g3)*sigma(mu[3], g2, g3) + 24*f(4, mu[0], mu[1], mu[2], mu[3])*rho(z, -mu[3])**2*rho(z, mu[3])*sigma(z, g2, g3)**3*sigma(-mu[0] - mu[1] - mu[2] - mu[3], g2, g3)*sigma(mu[2], g2, g3)*sigma(mu[3], g2, g3)) - rho(z, -mu[0])*rho(z, -mu[1])*sigma(-z - mu[2], g2, g3)*sigma(-z - mu[3], g2, g3)*sigma(-z + mu[0] + mu[1] + mu[2] + mu[3], g2, g3)/(2*f(2, mu[0], mu[1], mu[2], mu[3])*rho(z, -mu[3])*sigma(z, g2, g3)**3*sigma(-mu[0] - mu[1] - mu[2] - mu[3], g2, g3)*sigma(mu[2], g2, g3)*sigma(mu[3], g2, g3) + 24*f(4, mu[0], mu[1], mu[2], mu[3])*pw(mu[3], g2, g3)*rho(z, -mu[3])*sigma(z, g2, g3)**3*sigma(-mu[0] - mu[1] - mu[2] - mu[3], g2, g3)*sigma(mu[2], g2, g3)*sigma(mu[3], g2, g3) + 24*f(4, mu[0], mu[1], mu[2], mu[3])*rho(z, -mu[3])**2*rho(z, mu[3])*sigma(z, g2, g3)**3*sigma(-mu[0] - mu[1] - mu[2] - mu[3], g2, g3)*sigma(mu[2], g2, g3)*sigma(mu[3], g2, g3)))"
      ]
     },
     "execution_count": 220,
     "metadata": {},
     "output_type": "execute_result"
    },
    {
     "data": {
      "text/latex": [
       "$\\displaystyle \\frac{\\partial}{\\partial z} \\rho{\\left(z,- {\\mu}_{0} - {\\mu}_{1} - {\\mu}_{2} - {\\mu}_{3} \\right)} = \\frac{\\operatorname{pwp}{\\left(- {\\mu}_{0} - {\\mu}_{1} - {\\mu}_{2} - {\\mu}_{3},g_{2},g_{3} \\right)}}{2 \\rho{\\left(z,{\\mu}_{0} + {\\mu}_{1} + {\\mu}_{2} + {\\mu}_{3} \\right)}} - \\rho{\\left(z,- {\\mu}_{0} - {\\mu}_{1} - {\\mu}_{2} - {\\mu}_{3} \\right)} \\operatorname{zw}{\\left(- {\\mu}_{0} - {\\mu}_{1} - {\\mu}_{2} - {\\mu}_{3},g_{2},g_{3} \\right)} + \\frac{f{\\left(1,{\\mu}_{0},{\\mu}_{1},{\\mu}_{2},{\\mu}_{3} \\right)} \\rho{\\left(z,- {\\mu}_{0} - {\\mu}_{1} - {\\mu}_{2} - {\\mu}_{3} \\right)} \\rho{\\left(z,{\\mu}_{0} + {\\mu}_{1} + {\\mu}_{2} + {\\mu}_{3} \\right)} \\sigma^{3}{\\left(z,g_{2},g_{3} \\right)} \\sigma{\\left(- {\\mu}_{0} - {\\mu}_{1} - {\\mu}_{2} - {\\mu}_{3},g_{2},g_{3} \\right)} \\sigma{\\left({\\mu}_{2},g_{2},g_{3} \\right)} \\sigma{\\left({\\mu}_{3},g_{2},g_{3} \\right)}}{2 f{\\left(2,{\\mu}_{0},{\\mu}_{1},{\\mu}_{2},{\\mu}_{3} \\right)} \\rho{\\left(z,{\\mu}_{0} + {\\mu}_{1} + {\\mu}_{2} + {\\mu}_{3} \\right)} \\sigma^{3}{\\left(z,g_{2},g_{3} \\right)} \\sigma{\\left(- {\\mu}_{0} - {\\mu}_{1} - {\\mu}_{2} - {\\mu}_{3},g_{2},g_{3} \\right)} \\sigma{\\left({\\mu}_{2},g_{2},g_{3} \\right)} \\sigma{\\left({\\mu}_{3},g_{2},g_{3} \\right)} + 24 f{\\left(4,{\\mu}_{0},{\\mu}_{1},{\\mu}_{2},{\\mu}_{3} \\right)} \\operatorname{pw}{\\left(- {\\mu}_{0} - {\\mu}_{1} - {\\mu}_{2} - {\\mu}_{3},g_{2},g_{3} \\right)} \\rho{\\left(z,{\\mu}_{0} + {\\mu}_{1} + {\\mu}_{2} + {\\mu}_{3} \\right)} \\sigma^{3}{\\left(z,g_{2},g_{3} \\right)} \\sigma{\\left(- {\\mu}_{0} - {\\mu}_{1} - {\\mu}_{2} - {\\mu}_{3},g_{2},g_{3} \\right)} \\sigma{\\left({\\mu}_{2},g_{2},g_{3} \\right)} \\sigma{\\left({\\mu}_{3},g_{2},g_{3} \\right)} + 24 f{\\left(4,{\\mu}_{0},{\\mu}_{1},{\\mu}_{2},{\\mu}_{3} \\right)} \\rho{\\left(z,- {\\mu}_{0} - {\\mu}_{1} - {\\mu}_{2} - {\\mu}_{3} \\right)} \\rho^{2}{\\left(z,{\\mu}_{0} + {\\mu}_{1} + {\\mu}_{2} + {\\mu}_{3} \\right)} \\sigma^{3}{\\left(z,g_{2},g_{3} \\right)} \\sigma{\\left(- {\\mu}_{0} - {\\mu}_{1} - {\\mu}_{2} - {\\mu}_{3},g_{2},g_{3} \\right)} \\sigma{\\left({\\mu}_{2},g_{2},g_{3} \\right)} \\sigma{\\left({\\mu}_{3},g_{2},g_{3} \\right)}} - \\frac{f{\\left(2,{\\mu}_{0},{\\mu}_{1},{\\mu}_{2},{\\mu}_{3} \\right)} \\operatorname{pwp}{\\left(- {\\mu}_{0} - {\\mu}_{1} - {\\mu}_{2} - {\\mu}_{3},g_{2},g_{3} \\right)} \\sigma^{3}{\\left(z,g_{2},g_{3} \\right)} \\sigma{\\left(- {\\mu}_{0} - {\\mu}_{1} - {\\mu}_{2} - {\\mu}_{3},g_{2},g_{3} \\right)} \\sigma{\\left({\\mu}_{2},g_{2},g_{3} \\right)} \\sigma{\\left({\\mu}_{3},g_{2},g_{3} \\right)}}{2 f{\\left(2,{\\mu}_{0},{\\mu}_{1},{\\mu}_{2},{\\mu}_{3} \\right)} \\rho{\\left(z,{\\mu}_{0} + {\\mu}_{1} + {\\mu}_{2} + {\\mu}_{3} \\right)} \\sigma^{3}{\\left(z,g_{2},g_{3} \\right)} \\sigma{\\left(- {\\mu}_{0} - {\\mu}_{1} - {\\mu}_{2} - {\\mu}_{3},g_{2},g_{3} \\right)} \\sigma{\\left({\\mu}_{2},g_{2},g_{3} \\right)} \\sigma{\\left({\\mu}_{3},g_{2},g_{3} \\right)} + 24 f{\\left(4,{\\mu}_{0},{\\mu}_{1},{\\mu}_{2},{\\mu}_{3} \\right)} \\operatorname{pw}{\\left(- {\\mu}_{0} - {\\mu}_{1} - {\\mu}_{2} - {\\mu}_{3},g_{2},g_{3} \\right)} \\rho{\\left(z,{\\mu}_{0} + {\\mu}_{1} + {\\mu}_{2} + {\\mu}_{3} \\right)} \\sigma^{3}{\\left(z,g_{2},g_{3} \\right)} \\sigma{\\left(- {\\mu}_{0} - {\\mu}_{1} - {\\mu}_{2} - {\\mu}_{3},g_{2},g_{3} \\right)} \\sigma{\\left({\\mu}_{2},g_{2},g_{3} \\right)} \\sigma{\\left({\\mu}_{3},g_{2},g_{3} \\right)} + 24 f{\\left(4,{\\mu}_{0},{\\mu}_{1},{\\mu}_{2},{\\mu}_{3} \\right)} \\rho{\\left(z,- {\\mu}_{0} - {\\mu}_{1} - {\\mu}_{2} - {\\mu}_{3} \\right)} \\rho^{2}{\\left(z,{\\mu}_{0} + {\\mu}_{1} + {\\mu}_{2} + {\\mu}_{3} \\right)} \\sigma^{3}{\\left(z,g_{2},g_{3} \\right)} \\sigma{\\left(- {\\mu}_{0} - {\\mu}_{1} - {\\mu}_{2} - {\\mu}_{3},g_{2},g_{3} \\right)} \\sigma{\\left({\\mu}_{2},g_{2},g_{3} \\right)} \\sigma{\\left({\\mu}_{3},g_{2},g_{3} \\right)}} + \\frac{12 f{\\left(3,{\\mu}_{0},{\\mu}_{1},{\\mu}_{2},{\\mu}_{3} \\right)} \\operatorname{pw}{\\left(- {\\mu}_{0} - {\\mu}_{1} - {\\mu}_{2} - {\\mu}_{3},g_{2},g_{3} \\right)} \\rho{\\left(z,- {\\mu}_{0} - {\\mu}_{1} - {\\mu}_{2} - {\\mu}_{3} \\right)} \\rho{\\left(z,{\\mu}_{0} + {\\mu}_{1} + {\\mu}_{2} + {\\mu}_{3} \\right)} \\sigma^{3}{\\left(z,g_{2},g_{3} \\right)} \\sigma{\\left(- {\\mu}_{0} - {\\mu}_{1} - {\\mu}_{2} - {\\mu}_{3},g_{2},g_{3} \\right)} \\sigma{\\left({\\mu}_{2},g_{2},g_{3} \\right)} \\sigma{\\left({\\mu}_{3},g_{2},g_{3} \\right)}}{2 f{\\left(2,{\\mu}_{0},{\\mu}_{1},{\\mu}_{2},{\\mu}_{3} \\right)} \\rho{\\left(z,{\\mu}_{0} + {\\mu}_{1} + {\\mu}_{2} + {\\mu}_{3} \\right)} \\sigma^{3}{\\left(z,g_{2},g_{3} \\right)} \\sigma{\\left(- {\\mu}_{0} - {\\mu}_{1} - {\\mu}_{2} - {\\mu}_{3},g_{2},g_{3} \\right)} \\sigma{\\left({\\mu}_{2},g_{2},g_{3} \\right)} \\sigma{\\left({\\mu}_{3},g_{2},g_{3} \\right)} + 24 f{\\left(4,{\\mu}_{0},{\\mu}_{1},{\\mu}_{2},{\\mu}_{3} \\right)} \\operatorname{pw}{\\left(- {\\mu}_{0} - {\\mu}_{1} - {\\mu}_{2} - {\\mu}_{3},g_{2},g_{3} \\right)} \\rho{\\left(z,{\\mu}_{0} + {\\mu}_{1} + {\\mu}_{2} + {\\mu}_{3} \\right)} \\sigma^{3}{\\left(z,g_{2},g_{3} \\right)} \\sigma{\\left(- {\\mu}_{0} - {\\mu}_{1} - {\\mu}_{2} - {\\mu}_{3},g_{2},g_{3} \\right)} \\sigma{\\left({\\mu}_{2},g_{2},g_{3} \\right)} \\sigma{\\left({\\mu}_{3},g_{2},g_{3} \\right)} + 24 f{\\left(4,{\\mu}_{0},{\\mu}_{1},{\\mu}_{2},{\\mu}_{3} \\right)} \\rho{\\left(z,- {\\mu}_{0} - {\\mu}_{1} - {\\mu}_{2} - {\\mu}_{3} \\right)} \\rho^{2}{\\left(z,{\\mu}_{0} + {\\mu}_{1} + {\\mu}_{2} + {\\mu}_{3} \\right)} \\sigma^{3}{\\left(z,g_{2},g_{3} \\right)} \\sigma{\\left(- {\\mu}_{0} - {\\mu}_{1} - {\\mu}_{2} - {\\mu}_{3},g_{2},g_{3} \\right)} \\sigma{\\left({\\mu}_{2},g_{2},g_{3} \\right)} \\sigma{\\left({\\mu}_{3},g_{2},g_{3} \\right)}} + \\frac{6 f{\\left(3,{\\mu}_{0},{\\mu}_{1},{\\mu}_{2},{\\mu}_{3} \\right)} \\rho^{2}{\\left(z,- {\\mu}_{0} - {\\mu}_{1} - {\\mu}_{2} - {\\mu}_{3} \\right)} \\rho^{2}{\\left(z,{\\mu}_{0} + {\\mu}_{1} + {\\mu}_{2} + {\\mu}_{3} \\right)} \\sigma^{3}{\\left(z,g_{2},g_{3} \\right)} \\sigma{\\left(- {\\mu}_{0} - {\\mu}_{1} - {\\mu}_{2} - {\\mu}_{3},g_{2},g_{3} \\right)} \\sigma{\\left({\\mu}_{2},g_{2},g_{3} \\right)} \\sigma{\\left({\\mu}_{3},g_{2},g_{3} \\right)}}{2 f{\\left(2,{\\mu}_{0},{\\mu}_{1},{\\mu}_{2},{\\mu}_{3} \\right)} \\rho{\\left(z,{\\mu}_{0} + {\\mu}_{1} + {\\mu}_{2} + {\\mu}_{3} \\right)} \\sigma^{3}{\\left(z,g_{2},g_{3} \\right)} \\sigma{\\left(- {\\mu}_{0} - {\\mu}_{1} - {\\mu}_{2} - {\\mu}_{3},g_{2},g_{3} \\right)} \\sigma{\\left({\\mu}_{2},g_{2},g_{3} \\right)} \\sigma{\\left({\\mu}_{3},g_{2},g_{3} \\right)} + 24 f{\\left(4,{\\mu}_{0},{\\mu}_{1},{\\mu}_{2},{\\mu}_{3} \\right)} \\operatorname{pw}{\\left(- {\\mu}_{0} - {\\mu}_{1} - {\\mu}_{2} - {\\mu}_{3},g_{2},g_{3} \\right)} \\rho{\\left(z,{\\mu}_{0} + {\\mu}_{1} + {\\mu}_{2} + {\\mu}_{3} \\right)} \\sigma^{3}{\\left(z,g_{2},g_{3} \\right)} \\sigma{\\left(- {\\mu}_{0} - {\\mu}_{1} - {\\mu}_{2} - {\\mu}_{3},g_{2},g_{3} \\right)} \\sigma{\\left({\\mu}_{2},g_{2},g_{3} \\right)} \\sigma{\\left({\\mu}_{3},g_{2},g_{3} \\right)} + 24 f{\\left(4,{\\mu}_{0},{\\mu}_{1},{\\mu}_{2},{\\mu}_{3} \\right)} \\rho{\\left(z,- {\\mu}_{0} - {\\mu}_{1} - {\\mu}_{2} - {\\mu}_{3} \\right)} \\rho^{2}{\\left(z,{\\mu}_{0} + {\\mu}_{1} + {\\mu}_{2} + {\\mu}_{3} \\right)} \\sigma^{3}{\\left(z,g_{2},g_{3} \\right)} \\sigma{\\left(- {\\mu}_{0} - {\\mu}_{1} - {\\mu}_{2} - {\\mu}_{3},g_{2},g_{3} \\right)} \\sigma{\\left({\\mu}_{2},g_{2},g_{3} \\right)} \\sigma{\\left({\\mu}_{3},g_{2},g_{3} \\right)}} - \\frac{12 f{\\left(4,{\\mu}_{0},{\\mu}_{1},{\\mu}_{2},{\\mu}_{3} \\right)} \\operatorname{pw}{\\left(- {\\mu}_{0} - {\\mu}_{1} - {\\mu}_{2} - {\\mu}_{3},g_{2},g_{3} \\right)} \\operatorname{pwp}{\\left(- {\\mu}_{0} - {\\mu}_{1} - {\\mu}_{2} - {\\mu}_{3},g_{2},g_{3} \\right)} \\sigma^{3}{\\left(z,g_{2},g_{3} \\right)} \\sigma{\\left(- {\\mu}_{0} - {\\mu}_{1} - {\\mu}_{2} - {\\mu}_{3},g_{2},g_{3} \\right)} \\sigma{\\left({\\mu}_{2},g_{2},g_{3} \\right)} \\sigma{\\left({\\mu}_{3},g_{2},g_{3} \\right)}}{2 f{\\left(2,{\\mu}_{0},{\\mu}_{1},{\\mu}_{2},{\\mu}_{3} \\right)} \\rho{\\left(z,{\\mu}_{0} + {\\mu}_{1} + {\\mu}_{2} + {\\mu}_{3} \\right)} \\sigma^{3}{\\left(z,g_{2},g_{3} \\right)} \\sigma{\\left(- {\\mu}_{0} - {\\mu}_{1} - {\\mu}_{2} - {\\mu}_{3},g_{2},g_{3} \\right)} \\sigma{\\left({\\mu}_{2},g_{2},g_{3} \\right)} \\sigma{\\left({\\mu}_{3},g_{2},g_{3} \\right)} + 24 f{\\left(4,{\\mu}_{0},{\\mu}_{1},{\\mu}_{2},{\\mu}_{3} \\right)} \\operatorname{pw}{\\left(- {\\mu}_{0} - {\\mu}_{1} - {\\mu}_{2} - {\\mu}_{3},g_{2},g_{3} \\right)} \\rho{\\left(z,{\\mu}_{0} + {\\mu}_{1} + {\\mu}_{2} + {\\mu}_{3} \\right)} \\sigma^{3}{\\left(z,g_{2},g_{3} \\right)} \\sigma{\\left(- {\\mu}_{0} - {\\mu}_{1} - {\\mu}_{2} - {\\mu}_{3},g_{2},g_{3} \\right)} \\sigma{\\left({\\mu}_{2},g_{2},g_{3} \\right)} \\sigma{\\left({\\mu}_{3},g_{2},g_{3} \\right)} + 24 f{\\left(4,{\\mu}_{0},{\\mu}_{1},{\\mu}_{2},{\\mu}_{3} \\right)} \\rho{\\left(z,- {\\mu}_{0} - {\\mu}_{1} - {\\mu}_{2} - {\\mu}_{3} \\right)} \\rho^{2}{\\left(z,{\\mu}_{0} + {\\mu}_{1} + {\\mu}_{2} + {\\mu}_{3} \\right)} \\sigma^{3}{\\left(z,g_{2},g_{3} \\right)} \\sigma{\\left(- {\\mu}_{0} - {\\mu}_{1} - {\\mu}_{2} - {\\mu}_{3},g_{2},g_{3} \\right)} \\sigma{\\left({\\mu}_{2},g_{2},g_{3} \\right)} \\sigma{\\left({\\mu}_{3},g_{2},g_{3} \\right)}} - \\frac{\\rho{\\left(z,- {\\mu}_{0} \\right)} \\rho{\\left(z,- {\\mu}_{1} \\right)} \\sigma{\\left(- z - {\\mu}_{2},g_{2},g_{3} \\right)} \\sigma{\\left(- z - {\\mu}_{3},g_{2},g_{3} \\right)} \\sigma{\\left(- z + {\\mu}_{0} + {\\mu}_{1} + {\\mu}_{2} + {\\mu}_{3},g_{2},g_{3} \\right)}}{2 f{\\left(2,{\\mu}_{0},{\\mu}_{1},{\\mu}_{2},{\\mu}_{3} \\right)} \\rho{\\left(z,{\\mu}_{0} + {\\mu}_{1} + {\\mu}_{2} + {\\mu}_{3} \\right)} \\sigma^{3}{\\left(z,g_{2},g_{3} \\right)} \\sigma{\\left(- {\\mu}_{0} - {\\mu}_{1} - {\\mu}_{2} - {\\mu}_{3},g_{2},g_{3} \\right)} \\sigma{\\left({\\mu}_{2},g_{2},g_{3} \\right)} \\sigma{\\left({\\mu}_{3},g_{2},g_{3} \\right)} + 24 f{\\left(4,{\\mu}_{0},{\\mu}_{1},{\\mu}_{2},{\\mu}_{3} \\right)} \\operatorname{pw}{\\left(- {\\mu}_{0} - {\\mu}_{1} - {\\mu}_{2} - {\\mu}_{3},g_{2},g_{3} \\right)} \\rho{\\left(z,{\\mu}_{0} + {\\mu}_{1} + {\\mu}_{2} + {\\mu}_{3} \\right)} \\sigma^{3}{\\left(z,g_{2},g_{3} \\right)} \\sigma{\\left(- {\\mu}_{0} - {\\mu}_{1} - {\\mu}_{2} - {\\mu}_{3},g_{2},g_{3} \\right)} \\sigma{\\left({\\mu}_{2},g_{2},g_{3} \\right)} \\sigma{\\left({\\mu}_{3},g_{2},g_{3} \\right)} + 24 f{\\left(4,{\\mu}_{0},{\\mu}_{1},{\\mu}_{2},{\\mu}_{3} \\right)} \\rho{\\left(z,- {\\mu}_{0} - {\\mu}_{1} - {\\mu}_{2} - {\\mu}_{3} \\right)} \\rho^{2}{\\left(z,{\\mu}_{0} + {\\mu}_{1} + {\\mu}_{2} + {\\mu}_{3} \\right)} \\sigma^{3}{\\left(z,g_{2},g_{3} \\right)} \\sigma{\\left(- {\\mu}_{0} - {\\mu}_{1} - {\\mu}_{2} - {\\mu}_{3},g_{2},g_{3} \\right)} \\sigma{\\left({\\mu}_{2},g_{2},g_{3} \\right)} \\sigma{\\left({\\mu}_{3},g_{2},g_{3} \\right)}}$"
      ],
      "text/plain": [
       "Eq(Derivative(rho(z, -mu[0] - mu[1] - mu[2] - mu[3]), z), pwp(-mu[0] - mu[1] - mu[2] - mu[3], g2, g3)/(2*rho(z, mu[0] + mu[1] + mu[2] + mu[3])) - rho(z, -mu[0] - mu[1] - mu[2] - mu[3])*zw(-mu[0] - mu[1] - mu[2] - mu[3], g2, g3) + f(1, mu[0], mu[1], mu[2], mu[3])*rho(z, -mu[0] - mu[1] - mu[2] - mu[3])*rho(z, mu[0] + mu[1] + mu[2] + mu[3])*sigma(z, g2, g3)**3*sigma(-mu[0] - mu[1] - mu[2] - mu[3], g2, g3)*sigma(mu[2], g2, g3)*sigma(mu[3], g2, g3)/(2*f(2, mu[0], mu[1], mu[2], mu[3])*rho(z, mu[0] + mu[1] + mu[2] + mu[3])*sigma(z, g2, g3)**3*sigma(-mu[0] - mu[1] - mu[2] - mu[3], g2, g3)*sigma(mu[2], g2, g3)*sigma(mu[3], g2, g3) + 24*f(4, mu[0], mu[1], mu[2], mu[3])*pw(-mu[0] - mu[1] - mu[2] - mu[3], g2, g3)*rho(z, mu[0] + mu[1] + mu[2] + mu[3])*sigma(z, g2, g3)**3*sigma(-mu[0] - mu[1] - mu[2] - mu[3], g2, g3)*sigma(mu[2], g2, g3)*sigma(mu[3], g2, g3) + 24*f(4, mu[0], mu[1], mu[2], mu[3])*rho(z, -mu[0] - mu[1] - mu[2] - mu[3])*rho(z, mu[0] + mu[1] + mu[2] + mu[3])**2*sigma(z, g2, g3)**3*sigma(-mu[0] - mu[1] - mu[2] - mu[3], g2, g3)*sigma(mu[2], g2, g3)*sigma(mu[3], g2, g3)) - f(2, mu[0], mu[1], mu[2], mu[3])*pwp(-mu[0] - mu[1] - mu[2] - mu[3], g2, g3)*sigma(z, g2, g3)**3*sigma(-mu[0] - mu[1] - mu[2] - mu[3], g2, g3)*sigma(mu[2], g2, g3)*sigma(mu[3], g2, g3)/(2*f(2, mu[0], mu[1], mu[2], mu[3])*rho(z, mu[0] + mu[1] + mu[2] + mu[3])*sigma(z, g2, g3)**3*sigma(-mu[0] - mu[1] - mu[2] - mu[3], g2, g3)*sigma(mu[2], g2, g3)*sigma(mu[3], g2, g3) + 24*f(4, mu[0], mu[1], mu[2], mu[3])*pw(-mu[0] - mu[1] - mu[2] - mu[3], g2, g3)*rho(z, mu[0] + mu[1] + mu[2] + mu[3])*sigma(z, g2, g3)**3*sigma(-mu[0] - mu[1] - mu[2] - mu[3], g2, g3)*sigma(mu[2], g2, g3)*sigma(mu[3], g2, g3) + 24*f(4, mu[0], mu[1], mu[2], mu[3])*rho(z, -mu[0] - mu[1] - mu[2] - mu[3])*rho(z, mu[0] + mu[1] + mu[2] + mu[3])**2*sigma(z, g2, g3)**3*sigma(-mu[0] - mu[1] - mu[2] - mu[3], g2, g3)*sigma(mu[2], g2, g3)*sigma(mu[3], g2, g3)) + 12*f(3, mu[0], mu[1], mu[2], mu[3])*pw(-mu[0] - mu[1] - mu[2] - mu[3], g2, g3)*rho(z, -mu[0] - mu[1] - mu[2] - mu[3])*rho(z, mu[0] + mu[1] + mu[2] + mu[3])*sigma(z, g2, g3)**3*sigma(-mu[0] - mu[1] - mu[2] - mu[3], g2, g3)*sigma(mu[2], g2, g3)*sigma(mu[3], g2, g3)/(2*f(2, mu[0], mu[1], mu[2], mu[3])*rho(z, mu[0] + mu[1] + mu[2] + mu[3])*sigma(z, g2, g3)**3*sigma(-mu[0] - mu[1] - mu[2] - mu[3], g2, g3)*sigma(mu[2], g2, g3)*sigma(mu[3], g2, g3) + 24*f(4, mu[0], mu[1], mu[2], mu[3])*pw(-mu[0] - mu[1] - mu[2] - mu[3], g2, g3)*rho(z, mu[0] + mu[1] + mu[2] + mu[3])*sigma(z, g2, g3)**3*sigma(-mu[0] - mu[1] - mu[2] - mu[3], g2, g3)*sigma(mu[2], g2, g3)*sigma(mu[3], g2, g3) + 24*f(4, mu[0], mu[1], mu[2], mu[3])*rho(z, -mu[0] - mu[1] - mu[2] - mu[3])*rho(z, mu[0] + mu[1] + mu[2] + mu[3])**2*sigma(z, g2, g3)**3*sigma(-mu[0] - mu[1] - mu[2] - mu[3], g2, g3)*sigma(mu[2], g2, g3)*sigma(mu[3], g2, g3)) + 6*f(3, mu[0], mu[1], mu[2], mu[3])*rho(z, -mu[0] - mu[1] - mu[2] - mu[3])**2*rho(z, mu[0] + mu[1] + mu[2] + mu[3])**2*sigma(z, g2, g3)**3*sigma(-mu[0] - mu[1] - mu[2] - mu[3], g2, g3)*sigma(mu[2], g2, g3)*sigma(mu[3], g2, g3)/(2*f(2, mu[0], mu[1], mu[2], mu[3])*rho(z, mu[0] + mu[1] + mu[2] + mu[3])*sigma(z, g2, g3)**3*sigma(-mu[0] - mu[1] - mu[2] - mu[3], g2, g3)*sigma(mu[2], g2, g3)*sigma(mu[3], g2, g3) + 24*f(4, mu[0], mu[1], mu[2], mu[3])*pw(-mu[0] - mu[1] - mu[2] - mu[3], g2, g3)*rho(z, mu[0] + mu[1] + mu[2] + mu[3])*sigma(z, g2, g3)**3*sigma(-mu[0] - mu[1] - mu[2] - mu[3], g2, g3)*sigma(mu[2], g2, g3)*sigma(mu[3], g2, g3) + 24*f(4, mu[0], mu[1], mu[2], mu[3])*rho(z, -mu[0] - mu[1] - mu[2] - mu[3])*rho(z, mu[0] + mu[1] + mu[2] + mu[3])**2*sigma(z, g2, g3)**3*sigma(-mu[0] - mu[1] - mu[2] - mu[3], g2, g3)*sigma(mu[2], g2, g3)*sigma(mu[3], g2, g3)) - 12*f(4, mu[0], mu[1], mu[2], mu[3])*pw(-mu[0] - mu[1] - mu[2] - mu[3], g2, g3)*pwp(-mu[0] - mu[1] - mu[2] - mu[3], g2, g3)*sigma(z, g2, g3)**3*sigma(-mu[0] - mu[1] - mu[2] - mu[3], g2, g3)*sigma(mu[2], g2, g3)*sigma(mu[3], g2, g3)/(2*f(2, mu[0], mu[1], mu[2], mu[3])*rho(z, mu[0] + mu[1] + mu[2] + mu[3])*sigma(z, g2, g3)**3*sigma(-mu[0] - mu[1] - mu[2] - mu[3], g2, g3)*sigma(mu[2], g2, g3)*sigma(mu[3], g2, g3) + 24*f(4, mu[0], mu[1], mu[2], mu[3])*pw(-mu[0] - mu[1] - mu[2] - mu[3], g2, g3)*rho(z, mu[0] + mu[1] + mu[2] + mu[3])*sigma(z, g2, g3)**3*sigma(-mu[0] - mu[1] - mu[2] - mu[3], g2, g3)*sigma(mu[2], g2, g3)*sigma(mu[3], g2, g3) + 24*f(4, mu[0], mu[1], mu[2], mu[3])*rho(z, -mu[0] - mu[1] - mu[2] - mu[3])*rho(z, mu[0] + mu[1] + mu[2] + mu[3])**2*sigma(z, g2, g3)**3*sigma(-mu[0] - mu[1] - mu[2] - mu[3], g2, g3)*sigma(mu[2], g2, g3)*sigma(mu[3], g2, g3)) - rho(z, -mu[0])*rho(z, -mu[1])*sigma(-z - mu[2], g2, g3)*sigma(-z - mu[3], g2, g3)*sigma(-z + mu[0] + mu[1] + mu[2] + mu[3], g2, g3)/(2*f(2, mu[0], mu[1], mu[2], mu[3])*rho(z, mu[0] + mu[1] + mu[2] + mu[3])*sigma(z, g2, g3)**3*sigma(-mu[0] - mu[1] - mu[2] - mu[3], g2, g3)*sigma(mu[2], g2, g3)*sigma(mu[3], g2, g3) + 24*f(4, mu[0], mu[1], mu[2], mu[3])*pw(-mu[0] - mu[1] - mu[2] - mu[3], g2, g3)*rho(z, mu[0] + mu[1] + mu[2] + mu[3])*sigma(z, g2, g3)**3*sigma(-mu[0] - mu[1] - mu[2] - mu[3], g2, g3)*sigma(mu[2], g2, g3)*sigma(mu[3], g2, g3) + 24*f(4, mu[0], mu[1], mu[2], mu[3])*rho(z, -mu[0] - mu[1] - mu[2] - mu[3])*rho(z, mu[0] + mu[1] + mu[2] + mu[3])**2*sigma(z, g2, g3)**3*sigma(-mu[0] - mu[1] - mu[2] - mu[3], g2, g3)*sigma(mu[2], g2, g3)*sigma(mu[3], g2, g3)))"
      ]
     },
     "execution_count": 220,
     "metadata": {},
     "output_type": "execute_result"
    }
   ],
   "source": [
    "for eq in rho_system(5):\n",
    "    eq"
   ]
  },
  {
   "cell_type": "code",
   "execution_count": 221,
   "metadata": {},
   "outputs": [
    {
     "data": {
      "text/latex": [
       "$\\displaystyle - \\frac{2 \\sigma{\\left(z - {\\mu}_{0},g_{2},g_{3} \\right)} \\sigma{\\left(z + {\\mu}_{0},g_{2},g_{3} \\right)}}{\\sigma^{2}{\\left(z,g_{2},g_{3} \\right)} \\sigma^{2}{\\left({\\mu}_{0},g_{2},g_{3} \\right)}} = 2 \\operatorname{pw}{\\left(z,g_{2},g_{3} \\right)} - 2 \\operatorname{pw}{\\left({\\mu}_{0},g_{2},g_{3} \\right)}$"
      ],
      "text/plain": [
       "Eq(-2*sigma(z - mu[0], g2, g3)*sigma(z + mu[0], g2, g3)/(sigma(z, g2, g3)**2*sigma(mu[0], g2, g3)**2), 2*pw(z, g2, g3) - 2*pw(mu[0], g2, g3))"
      ]
     },
     "execution_count": 221,
     "metadata": {},
     "output_type": "execute_result"
    }
   ],
   "source": [
    "sigma_product_wp_sum_sym.subs(N,1).doit().subs(higher_order_diffs).expand().subs([\n",
    "    (c[0], c_coeff(0, 1).simplify()),\n",
    "    (c[1], c_coeff(1, 1).simplify()),\n",
    "]).subs(xi[1],-Sum(xi[j],(j,0,0)).doit()).subs([(xi[j],mu[j]) for j in range(1)]).subs([\n",
    "    (sigma(-mu[0],g2,g3), -sigma(mu[0],g2,g3)),\n",
    "    (sigma(-z-mu[0],g2,g3), -sigma(z+mu[0],g2,g3)),\n",
    "    (sigma(-z+mu[0],g2,g3), -sigma(z-mu[0],g2,g3)),\n",
    "])"
   ]
  },
  {
   "cell_type": "code",
   "execution_count": 222,
   "metadata": {},
   "outputs": [
    {
     "data": {
      "text/latex": [
       "$\\displaystyle \\frac{\\sigma{\\left(- z + {\\mu}_{0},g_{2},g_{3} \\right)} \\sigma{\\left(- z + {\\mu}_{1},g_{2},g_{3} \\right)} \\sigma{\\left(- z - {\\mu}_{0} - {\\mu}_{1},g_{2},g_{3} \\right)}}{\\sigma^{3}{\\left(z,g_{2},g_{3} \\right)} \\sigma{\\left(- {\\mu}_{0} - {\\mu}_{1},g_{2},g_{3} \\right)} \\sigma{\\left({\\mu}_{0},g_{2},g_{3} \\right)} \\sigma{\\left({\\mu}_{1},g_{2},g_{3} \\right)}} - \\frac{\\sigma{\\left(z + {\\mu}_{0},g_{2},g_{3} \\right)} \\sigma{\\left(z + {\\mu}_{1},g_{2},g_{3} \\right)} \\sigma{\\left(z - {\\mu}_{0} - {\\mu}_{1},g_{2},g_{3} \\right)}}{\\sigma^{3}{\\left(z,g_{2},g_{3} \\right)} \\sigma{\\left(- {\\mu}_{0} - {\\mu}_{1},g_{2},g_{3} \\right)} \\sigma{\\left({\\mu}_{0},g_{2},g_{3} \\right)} \\sigma{\\left({\\mu}_{1},g_{2},g_{3} \\right)}} = \\frac{\\operatorname{pw}{\\left({\\mu}_{0},g_{2},g_{3} \\right)} \\frac{\\partial}{\\partial {\\mu}_{1}} \\operatorname{pw}{\\left({\\mu}_{1},g_{2},g_{3} \\right)} - \\operatorname{pw}{\\left({\\mu}_{1},g_{2},g_{3} \\right)} \\frac{\\partial}{\\partial {\\mu}_{0}} \\operatorname{pw}{\\left({\\mu}_{0},g_{2},g_{3} \\right)}}{\\operatorname{pw}{\\left({\\mu}_{0},g_{2},g_{3} \\right)} - \\operatorname{pw}{\\left({\\mu}_{1},g_{2},g_{3} \\right)}} + \\frac{\\left(\\frac{\\partial}{\\partial {\\mu}_{0}} \\operatorname{pw}{\\left({\\mu}_{0},g_{2},g_{3} \\right)} - \\frac{\\partial}{\\partial {\\mu}_{1}} \\operatorname{pw}{\\left({\\mu}_{1},g_{2},g_{3} \\right)}\\right) \\operatorname{pw}{\\left(z,g_{2},g_{3} \\right)}}{\\operatorname{pw}{\\left({\\mu}_{0},g_{2},g_{3} \\right)} - \\operatorname{pw}{\\left({\\mu}_{1},g_{2},g_{3} \\right)}}$"
      ],
      "text/plain": [
       "Eq(sigma(-z + mu[0], g2, g3)*sigma(-z + mu[1], g2, g3)*sigma(-z - mu[0] - mu[1], g2, g3)/(sigma(z, g2, g3)**3*sigma(-mu[0] - mu[1], g2, g3)*sigma(mu[0], g2, g3)*sigma(mu[1], g2, g3)) - sigma(z + mu[0], g2, g3)*sigma(z + mu[1], g2, g3)*sigma(z - mu[0] - mu[1], g2, g3)/(sigma(z, g2, g3)**3*sigma(-mu[0] - mu[1], g2, g3)*sigma(mu[0], g2, g3)*sigma(mu[1], g2, g3)), (pw(mu[0], g2, g3)*Derivative(pw(mu[1], g2, g3), mu[1]) - pw(mu[1], g2, g3)*Derivative(pw(mu[0], g2, g3), mu[0]))/(pw(mu[0], g2, g3) - pw(mu[1], g2, g3)) + (Derivative(pw(mu[0], g2, g3), mu[0]) - Derivative(pw(mu[1], g2, g3), mu[1]))*pw(z, g2, g3)/(pw(mu[0], g2, g3) - pw(mu[1], g2, g3)))"
      ]
     },
     "execution_count": 222,
     "metadata": {},
     "output_type": "execute_result"
    }
   ],
   "source": [
    "sigma_product_wp_sum_sym.subs(N,2).doit().subs(higher_order_diffs).expand().subs([\n",
    "    (c[0], c_coeff(0, 2).simplify()),\n",
    "    (c[1], c_coeff(1, 2).simplify()),\n",
    "]).subs(xi[2],-Sum(xi[j],(j,0,1)).doit()).subs([(xi[j],mu[j]) for j in range(2)])"
   ]
  },
  {
   "cell_type": "code",
   "execution_count": 223,
   "metadata": {},
   "outputs": [
    {
     "data": {
      "text/latex": [
       "$\\displaystyle \\frac{\\sigma{\\left(- z + {\\mu}_{0},g_{2},g_{3} \\right)} \\sigma{\\left(- z + {\\mu}_{1},g_{2},g_{3} \\right)} \\sigma{\\left(- z + {\\mu}_{2},g_{2},g_{3} \\right)} \\sigma{\\left(- z - {\\mu}_{0} - {\\mu}_{1} - {\\mu}_{2},g_{2},g_{3} \\right)}}{\\sigma^{4}{\\left(z,g_{2},g_{3} \\right)} \\sigma{\\left(- {\\mu}_{0} - {\\mu}_{1} - {\\mu}_{2},g_{2},g_{3} \\right)} \\sigma{\\left({\\mu}_{0},g_{2},g_{3} \\right)} \\sigma{\\left({\\mu}_{1},g_{2},g_{3} \\right)} \\sigma{\\left({\\mu}_{2},g_{2},g_{3} \\right)}} + \\frac{\\sigma{\\left(z + {\\mu}_{0},g_{2},g_{3} \\right)} \\sigma{\\left(z + {\\mu}_{1},g_{2},g_{3} \\right)} \\sigma{\\left(z + {\\mu}_{2},g_{2},g_{3} \\right)} \\sigma{\\left(z - {\\mu}_{0} - {\\mu}_{1} - {\\mu}_{2},g_{2},g_{3} \\right)}}{\\sigma^{4}{\\left(z,g_{2},g_{3} \\right)} \\sigma{\\left(- {\\mu}_{0} - {\\mu}_{1} - {\\mu}_{2},g_{2},g_{3} \\right)} \\sigma{\\left({\\mu}_{0},g_{2},g_{3} \\right)} \\sigma{\\left({\\mu}_{1},g_{2},g_{3} \\right)} \\sigma{\\left({\\mu}_{2},g_{2},g_{3} \\right)}} = - \\frac{g_{2}}{6} + 2 \\operatorname{pw}^{2}{\\left(z,g_{2},g_{3} \\right)} + 2 \\operatorname{pw}{\\left(z,g_{2},g_{3} \\right)} {c}_{1} + 2 {c}_{0}$"
      ],
      "text/plain": [
       "Eq(sigma(-z + mu[0], g2, g3)*sigma(-z + mu[1], g2, g3)*sigma(-z + mu[2], g2, g3)*sigma(-z - mu[0] - mu[1] - mu[2], g2, g3)/(sigma(z, g2, g3)**4*sigma(-mu[0] - mu[1] - mu[2], g2, g3)*sigma(mu[0], g2, g3)*sigma(mu[1], g2, g3)*sigma(mu[2], g2, g3)) + sigma(z + mu[0], g2, g3)*sigma(z + mu[1], g2, g3)*sigma(z + mu[2], g2, g3)*sigma(z - mu[0] - mu[1] - mu[2], g2, g3)/(sigma(z, g2, g3)**4*sigma(-mu[0] - mu[1] - mu[2], g2, g3)*sigma(mu[0], g2, g3)*sigma(mu[1], g2, g3)*sigma(mu[2], g2, g3)), -g2/6 + 2*pw(z, g2, g3)**2 + 2*pw(z, g2, g3)*c[1] + 2*c[0])"
      ]
     },
     "execution_count": 223,
     "metadata": {},
     "output_type": "execute_result"
    }
   ],
   "source": [
    "(sigma_product_wp_sum_sym.subs(N,3).doit().subs(higher_order_diffs).expand().subs(c[3], c_coeff(3, 3).simplify())\n",
    ".subs(xi[3],-Sum(xi[j],(j,0,2)).doit()).subs([(xi[j],mu[j]) for j in range(3)]))"
   ]
  },
  {
   "cell_type": "code",
   "execution_count": 224,
   "metadata": {},
   "outputs": [
    {
     "data": {
      "text/latex": [
       "$\\displaystyle \\frac{\\sigma{\\left(- z + {\\xi}_{0},g_{2},g_{3} \\right)} \\sigma{\\left(- z + {\\xi}_{1},g_{2},g_{3} \\right)} \\sigma{\\left(- z + {\\xi}_{2},g_{2},g_{3} \\right)} \\sigma{\\left(- z + {\\xi}_{3},g_{2},g_{3} \\right)} \\sigma{\\left(- z + {\\xi}_{4},g_{2},g_{3} \\right)}}{\\sigma^{5}{\\left(z,g_{2},g_{3} \\right)} \\sigma{\\left({\\xi}_{0},g_{2},g_{3} \\right)} \\sigma{\\left({\\xi}_{1},g_{2},g_{3} \\right)} \\sigma{\\left({\\xi}_{2},g_{2},g_{3} \\right)} \\sigma{\\left({\\xi}_{3},g_{2},g_{3} \\right)} \\sigma{\\left({\\xi}_{4},g_{2},g_{3} \\right)}} - \\frac{\\sigma{\\left(z + {\\xi}_{0},g_{2},g_{3} \\right)} \\sigma{\\left(z + {\\xi}_{1},g_{2},g_{3} \\right)} \\sigma{\\left(z + {\\xi}_{2},g_{2},g_{3} \\right)} \\sigma{\\left(z + {\\xi}_{3},g_{2},g_{3} \\right)} \\sigma{\\left(z + {\\xi}_{4},g_{2},g_{3} \\right)}}{\\sigma^{5}{\\left(z,g_{2},g_{3} \\right)} \\sigma{\\left({\\xi}_{0},g_{2},g_{3} \\right)} \\sigma{\\left({\\xi}_{1},g_{2},g_{3} \\right)} \\sigma{\\left({\\xi}_{2},g_{2},g_{3} \\right)} \\sigma{\\left({\\xi}_{3},g_{2},g_{3} \\right)} \\sigma{\\left({\\xi}_{4},g_{2},g_{3} \\right)}} = - g_{2} {c}_{3} + 12 \\operatorname{pw}^{2}{\\left(z,g_{2},g_{3} \\right)} {c}_{3} + 2 \\operatorname{pw}{\\left(z,g_{2},g_{3} \\right)} {c}_{1} + 2 {c}_{0}$"
      ],
      "text/plain": [
       "Eq(sigma(-z + xi[0], g2, g3)*sigma(-z + xi[1], g2, g3)*sigma(-z + xi[2], g2, g3)*sigma(-z + xi[3], g2, g3)*sigma(-z + xi[4], g2, g3)/(sigma(z, g2, g3)**5*sigma(xi[0], g2, g3)*sigma(xi[1], g2, g3)*sigma(xi[2], g2, g3)*sigma(xi[3], g2, g3)*sigma(xi[4], g2, g3)) - sigma(z + xi[0], g2, g3)*sigma(z + xi[1], g2, g3)*sigma(z + xi[2], g2, g3)*sigma(z + xi[3], g2, g3)*sigma(z + xi[4], g2, g3)/(sigma(z, g2, g3)**5*sigma(xi[0], g2, g3)*sigma(xi[1], g2, g3)*sigma(xi[2], g2, g3)*sigma(xi[3], g2, g3)*sigma(xi[4], g2, g3)), -g2*c[3] + 12*pw(z, g2, g3)**2*c[3] + 2*pw(z, g2, g3)*c[1] + 2*c[0])"
      ]
     },
     "execution_count": 224,
     "metadata": {},
     "output_type": "execute_result"
    }
   ],
   "source": [
    "sigma_product_wp_sum_sym.subs(N,4).doit().subs(higher_order_diffs).expand()"
   ]
  },
  {
   "cell_type": "code",
   "execution_count": 225,
   "metadata": {},
   "outputs": [
    {
     "data": {
      "text/latex": [
       "$\\displaystyle \\frac{\\sigma{\\left(- z + {\\xi}_{0},g_{2},g_{3} \\right)} \\sigma{\\left(- z + {\\xi}_{1},g_{2},g_{3} \\right)} \\sigma{\\left(- z + {\\xi}_{2},g_{2},g_{3} \\right)} \\sigma{\\left(- z + {\\xi}_{3},g_{2},g_{3} \\right)} \\sigma{\\left(- z + {\\xi}_{4},g_{2},g_{3} \\right)} \\sigma{\\left(- z + {\\xi}_{5},g_{2},g_{3} \\right)}}{\\sigma^{6}{\\left(z,g_{2},g_{3} \\right)} \\sigma{\\left({\\xi}_{0},g_{2},g_{3} \\right)} \\sigma{\\left({\\xi}_{1},g_{2},g_{3} \\right)} \\sigma{\\left({\\xi}_{2},g_{2},g_{3} \\right)} \\sigma{\\left({\\xi}_{3},g_{2},g_{3} \\right)} \\sigma{\\left({\\xi}_{4},g_{2},g_{3} \\right)} \\sigma{\\left({\\xi}_{5},g_{2},g_{3} \\right)}} + \\frac{\\sigma{\\left(z + {\\xi}_{0},g_{2},g_{3} \\right)} \\sigma{\\left(z + {\\xi}_{1},g_{2},g_{3} \\right)} \\sigma{\\left(z + {\\xi}_{2},g_{2},g_{3} \\right)} \\sigma{\\left(z + {\\xi}_{3},g_{2},g_{3} \\right)} \\sigma{\\left(z + {\\xi}_{4},g_{2},g_{3} \\right)} \\sigma{\\left(z + {\\xi}_{5},g_{2},g_{3} \\right)}}{\\sigma^{6}{\\left(z,g_{2},g_{3} \\right)} \\sigma{\\left({\\xi}_{0},g_{2},g_{3} \\right)} \\sigma{\\left({\\xi}_{1},g_{2},g_{3} \\right)} \\sigma{\\left({\\xi}_{2},g_{2},g_{3} \\right)} \\sigma{\\left({\\xi}_{3},g_{2},g_{3} \\right)} \\sigma{\\left({\\xi}_{4},g_{2},g_{3} \\right)} \\sigma{\\left({\\xi}_{5},g_{2},g_{3} \\right)}} = - 36 g_{2} \\operatorname{pw}{\\left(z,g_{2},g_{3} \\right)} {c}_{5} - g_{2} {c}_{3} - 24 g_{3} {c}_{5} + 240 \\operatorname{pw}^{3}{\\left(z,g_{2},g_{3} \\right)} {c}_{5} + 12 \\operatorname{pw}^{2}{\\left(z,g_{2},g_{3} \\right)} {c}_{3} + 2 \\operatorname{pw}{\\left(z,g_{2},g_{3} \\right)} {c}_{1} + 2 {c}_{0}$"
      ],
      "text/plain": [
       "Eq(sigma(-z + xi[0], g2, g3)*sigma(-z + xi[1], g2, g3)*sigma(-z + xi[2], g2, g3)*sigma(-z + xi[3], g2, g3)*sigma(-z + xi[4], g2, g3)*sigma(-z + xi[5], g2, g3)/(sigma(z, g2, g3)**6*sigma(xi[0], g2, g3)*sigma(xi[1], g2, g3)*sigma(xi[2], g2, g3)*sigma(xi[3], g2, g3)*sigma(xi[4], g2, g3)*sigma(xi[5], g2, g3)) + sigma(z + xi[0], g2, g3)*sigma(z + xi[1], g2, g3)*sigma(z + xi[2], g2, g3)*sigma(z + xi[3], g2, g3)*sigma(z + xi[4], g2, g3)*sigma(z + xi[5], g2, g3)/(sigma(z, g2, g3)**6*sigma(xi[0], g2, g3)*sigma(xi[1], g2, g3)*sigma(xi[2], g2, g3)*sigma(xi[3], g2, g3)*sigma(xi[4], g2, g3)*sigma(xi[5], g2, g3)), -36*g2*pw(z, g2, g3)*c[5] - g2*c[3] - 24*g3*c[5] + 240*pw(z, g2, g3)**3*c[5] + 12*pw(z, g2, g3)**2*c[3] + 2*pw(z, g2, g3)*c[1] + 2*c[0])"
      ]
     },
     "execution_count": 225,
     "metadata": {},
     "output_type": "execute_result"
    }
   ],
   "source": [
    "sigma_product_wp_sum_sym.subs(N,5).doit().subs(higher_order_diffs).expand()"
   ]
  },
  {
   "cell_type": "code",
   "execution_count": 226,
   "metadata": {},
   "outputs": [
    {
     "data": {
      "text/latex": [
       "$\\displaystyle \\frac{\\sigma{\\left(- z + {\\xi}_{0},g_{2},g_{3} \\right)} \\sigma{\\left(- z + {\\xi}_{1},g_{2},g_{3} \\right)} \\sigma{\\left(- z + {\\xi}_{2},g_{2},g_{3} \\right)} \\sigma{\\left(- z + {\\xi}_{3},g_{2},g_{3} \\right)} \\sigma{\\left(- z + {\\xi}_{4},g_{2},g_{3} \\right)} \\sigma{\\left(- z + {\\xi}_{5},g_{2},g_{3} \\right)} \\sigma{\\left(- z + {\\xi}_{6},g_{2},g_{3} \\right)}}{\\sigma^{7}{\\left(z,g_{2},g_{3} \\right)} \\sigma{\\left({\\xi}_{0},g_{2},g_{3} \\right)} \\sigma{\\left({\\xi}_{1},g_{2},g_{3} \\right)} \\sigma{\\left({\\xi}_{2},g_{2},g_{3} \\right)} \\sigma{\\left({\\xi}_{3},g_{2},g_{3} \\right)} \\sigma{\\left({\\xi}_{4},g_{2},g_{3} \\right)} \\sigma{\\left({\\xi}_{5},g_{2},g_{3} \\right)} \\sigma{\\left({\\xi}_{6},g_{2},g_{3} \\right)}} - \\frac{\\sigma{\\left(z + {\\xi}_{0},g_{2},g_{3} \\right)} \\sigma{\\left(z + {\\xi}_{1},g_{2},g_{3} \\right)} \\sigma{\\left(z + {\\xi}_{2},g_{2},g_{3} \\right)} \\sigma{\\left(z + {\\xi}_{3},g_{2},g_{3} \\right)} \\sigma{\\left(z + {\\xi}_{4},g_{2},g_{3} \\right)} \\sigma{\\left(z + {\\xi}_{5},g_{2},g_{3} \\right)} \\sigma{\\left(z + {\\xi}_{6},g_{2},g_{3} \\right)}}{\\sigma^{7}{\\left(z,g_{2},g_{3} \\right)} \\sigma{\\left({\\xi}_{0},g_{2},g_{3} \\right)} \\sigma{\\left({\\xi}_{1},g_{2},g_{3} \\right)} \\sigma{\\left({\\xi}_{2},g_{2},g_{3} \\right)} \\sigma{\\left({\\xi}_{3},g_{2},g_{3} \\right)} \\sigma{\\left({\\xi}_{4},g_{2},g_{3} \\right)} \\sigma{\\left({\\xi}_{5},g_{2},g_{3} \\right)} \\sigma{\\left({\\xi}_{6},g_{2},g_{3} \\right)}} = - 36 g_{2} \\operatorname{pw}{\\left(z,g_{2},g_{3} \\right)} {c}_{5} - g_{2} {c}_{3} - 24 g_{3} {c}_{5} + 240 \\operatorname{pw}^{3}{\\left(z,g_{2},g_{3} \\right)} {c}_{5} + 12 \\operatorname{pw}^{2}{\\left(z,g_{2},g_{3} \\right)} {c}_{3} + 2 \\operatorname{pw}{\\left(z,g_{2},g_{3} \\right)} {c}_{1} + 2 {c}_{0}$"
      ],
      "text/plain": [
       "Eq(sigma(-z + xi[0], g2, g3)*sigma(-z + xi[1], g2, g3)*sigma(-z + xi[2], g2, g3)*sigma(-z + xi[3], g2, g3)*sigma(-z + xi[4], g2, g3)*sigma(-z + xi[5], g2, g3)*sigma(-z + xi[6], g2, g3)/(sigma(z, g2, g3)**7*sigma(xi[0], g2, g3)*sigma(xi[1], g2, g3)*sigma(xi[2], g2, g3)*sigma(xi[3], g2, g3)*sigma(xi[4], g2, g3)*sigma(xi[5], g2, g3)*sigma(xi[6], g2, g3)) - sigma(z + xi[0], g2, g3)*sigma(z + xi[1], g2, g3)*sigma(z + xi[2], g2, g3)*sigma(z + xi[3], g2, g3)*sigma(z + xi[4], g2, g3)*sigma(z + xi[5], g2, g3)*sigma(z + xi[6], g2, g3)/(sigma(z, g2, g3)**7*sigma(xi[0], g2, g3)*sigma(xi[1], g2, g3)*sigma(xi[2], g2, g3)*sigma(xi[3], g2, g3)*sigma(xi[4], g2, g3)*sigma(xi[5], g2, g3)*sigma(xi[6], g2, g3)), -36*g2*pw(z, g2, g3)*c[5] - g2*c[3] - 24*g3*c[5] + 240*pw(z, g2, g3)**3*c[5] + 12*pw(z, g2, g3)**2*c[3] + 2*pw(z, g2, g3)*c[1] + 2*c[0])"
      ]
     },
     "execution_count": 226,
     "metadata": {},
     "output_type": "execute_result"
    }
   ],
   "source": [
    "sigma_product_wp_sum_sym.subs(N,6).doit().subs(higher_order_diffs).expand()"
   ]
  },
  {
   "cell_type": "code",
   "execution_count": 227,
   "metadata": {},
   "outputs": [
    {
     "data": {
      "text/latex": [
       "$\\displaystyle \\frac{1}{6}$"
      ],
      "text/plain": [
       "1/6"
      ]
     },
     "execution_count": 227,
     "metadata": {},
     "output_type": "execute_result"
    }
   ],
   "source": [
    "c_coeff(3, 3).simplify()"
   ]
  },
  {
   "cell_type": "code",
   "execution_count": 228,
   "metadata": {},
   "outputs": [
    {
     "data": {
      "text/latex": [
       "$\\displaystyle - \\frac{\\sigma{\\left(z - {\\mu}_{0},g_{2},g_{3} \\right)} \\sigma{\\left(z - {\\mu}_{1},g_{2},g_{3} \\right)} \\sigma{\\left(z + {\\mu}_{0} + {\\mu}_{1},g_{2},g_{3} \\right)}}{\\sigma^{3}{\\left(z,g_{2},g_{3} \\right)} \\sigma{\\left(- {\\mu}_{0} - {\\mu}_{1},g_{2},g_{3} \\right)} \\sigma{\\left({\\mu}_{0},g_{2},g_{3} \\right)} \\sigma{\\left({\\mu}_{1},g_{2},g_{3} \\right)}} = \\operatorname{pw}{\\left(z,g_{2},g_{3} \\right)} {c}_{1} + \\frac{\\partial}{\\partial z} \\operatorname{pw}{\\left(z,g_{2},g_{3} \\right)} {c}_{2} + {c}_{0}$"
      ],
      "text/plain": [
       "Eq(-sigma(z - mu[0], g2, g3)*sigma(z - mu[1], g2, g3)*sigma(z + mu[0] + mu[1], g2, g3)/(sigma(z, g2, g3)**3*sigma(-mu[0] - mu[1], g2, g3)*sigma(mu[0], g2, g3)*sigma(mu[1], g2, g3)), pw(z, g2, g3)*c[1] + Derivative(pw(z, g2, g3), z)*c[2] + c[0])"
      ]
     },
     "execution_count": 228,
     "metadata": {},
     "output_type": "execute_result"
    }
   ],
   "source": [
    "N2_sigma_product_wp_c = sigma_product_wp_c(2)\n",
    "N2_sigma_product_wp_c"
   ]
  },
  {
   "cell_type": "code",
   "execution_count": 229,
   "metadata": {},
   "outputs": [
    {
     "data": {
      "text/latex": [
       "$\\displaystyle \\lim_{z \\to 0^+}\\left(- \\frac{z^{3} \\sigma{\\left(z - {\\mu}_{0},g_{2},g_{3} \\right)} \\sigma{\\left(z - {\\mu}_{1},g_{2},g_{3} \\right)} \\sigma{\\left(z + {\\mu}_{0} + {\\mu}_{1},g_{2},g_{3} \\right)}}{\\sigma^{3}{\\left(z,g_{2},g_{3} \\right)} \\sigma{\\left(- {\\mu}_{0} - {\\mu}_{1},g_{2},g_{3} \\right)} \\sigma{\\left({\\mu}_{0},g_{2},g_{3} \\right)} \\sigma{\\left({\\mu}_{1},g_{2},g_{3} \\right)}}\\right) = \\lim_{z \\to 0^+}\\left(z^{3} \\left(\\operatorname{pw}{\\left(z,g_{2},g_{3} \\right)} {c}_{1} + \\frac{\\partial}{\\partial z} \\operatorname{pw}{\\left(z,g_{2},g_{3} \\right)} {c}_{2} + {c}_{0}\\right)\\right)$"
      ],
      "text/plain": [
       "Eq(Limit(-z**3*sigma(z - mu[0], g2, g3)*sigma(z - mu[1], g2, g3)*sigma(z + mu[0] + mu[1], g2, g3)/(sigma(z, g2, g3)**3*sigma(-mu[0] - mu[1], g2, g3)*sigma(mu[0], g2, g3)*sigma(mu[1], g2, g3)), z, 0), Limit(z**3*(pw(z, g2, g3)*c[1] + Derivative(pw(z, g2, g3), z)*c[2] + c[0]), z, 0))"
      ]
     },
     "execution_count": 229,
     "metadata": {},
     "output_type": "execute_result"
    }
   ],
   "source": [
    "Eq(Limit(z**3*N2_sigma_product_wp_c.lhs,z,0), Limit(z**3*N2_sigma_product_wp_c.rhs,z,0))"
   ]
  },
  {
   "cell_type": "code",
   "execution_count": 230,
   "metadata": {},
   "outputs": [
    {
     "data": {
      "text/latex": [
       "$\\displaystyle - \\frac{\\sigma{\\left({\\mu}_{0} + {\\mu}_{1},g_{2},g_{3} \\right)} \\sigma{\\left(- {\\mu}_{0},g_{2},g_{3} \\right)} \\sigma{\\left(- {\\mu}_{1},g_{2},g_{3} \\right)}}{\\sigma{\\left(- {\\mu}_{0} - {\\mu}_{1},g_{2},g_{3} \\right)} \\sigma{\\left({\\mu}_{0},g_{2},g_{3} \\right)} \\sigma{\\left({\\mu}_{1},g_{2},g_{3} \\right)}} = \\lim_{z \\to 0^+}\\left(z^{3} \\frac{\\partial}{\\partial z} \\operatorname{pw}{\\left(z,g_{2},g_{3} \\right)} {c}_{2}\\right)$"
      ],
      "text/plain": [
       "Eq(-sigma(mu[0] + mu[1], g2, g3)*sigma(-mu[0], g2, g3)*sigma(-mu[1], g2, g3)/(sigma(-mu[0] - mu[1], g2, g3)*sigma(mu[0], g2, g3)*sigma(mu[1], g2, g3)), Limit(z**3*Derivative(pw(z, g2, g3), z)*c[2], z, 0))"
      ]
     },
     "execution_count": 230,
     "metadata": {},
     "output_type": "execute_result"
    }
   ],
   "source": [
    "Eq((sigma(z,g2,g3)**3*N2_sigma_product_wp_c.lhs).subs(z,0), Limit(z**3*diff(pw(z,g2,g3),z)*c[2],z,0))"
   ]
  },
  {
   "cell_type": "code",
   "execution_count": 231,
   "metadata": {},
   "outputs": [
    {
     "data": {
      "text/latex": [
       "$\\displaystyle 1 = - 2 {c}_{2}$"
      ],
      "text/plain": [
       "Eq(1, -2*c[2])"
      ]
     },
     "execution_count": 231,
     "metadata": {},
     "output_type": "execute_result"
    }
   ],
   "source": [
    "Eq(1, -2*c[2])"
   ]
  },
  {
   "cell_type": "code",
   "execution_count": 232,
   "metadata": {},
   "outputs": [
    {
     "data": {
      "text/latex": [
       "$\\displaystyle {c}_{2} = - \\frac{1}{2}$"
      ],
      "text/plain": [
       "Eq(c[2], -1/2)"
      ]
     },
     "execution_count": 232,
     "metadata": {},
     "output_type": "execute_result"
    }
   ],
   "source": [
    "N2_c2_eq = Eq(c[2],-Rational(1,2))\n",
    "N2_c2_eq"
   ]
  },
  {
   "cell_type": "code",
   "execution_count": 233,
   "metadata": {},
   "outputs": [
    {
     "data": {
      "text/latex": [
       "$\\displaystyle - \\frac{\\sigma{\\left(z - {\\mu}_{0},g_{2},g_{3} \\right)} \\sigma{\\left(z - {\\mu}_{1},g_{2},g_{3} \\right)} \\sigma{\\left(z + {\\mu}_{0} + {\\mu}_{1},g_{2},g_{3} \\right)}}{\\sigma^{3}{\\left(z,g_{2},g_{3} \\right)} \\sigma{\\left(- {\\mu}_{0} - {\\mu}_{1},g_{2},g_{3} \\right)} \\sigma{\\left({\\mu}_{0},g_{2},g_{3} \\right)} \\sigma{\\left({\\mu}_{1},g_{2},g_{3} \\right)}} = \\operatorname{pw}{\\left(z,g_{2},g_{3} \\right)} {c}_{1} - \\frac{\\frac{\\partial}{\\partial z} \\operatorname{pw}{\\left(z,g_{2},g_{3} \\right)}}{2} + {c}_{0}$"
      ],
      "text/plain": [
       "Eq(-sigma(z - mu[0], g2, g3)*sigma(z - mu[1], g2, g3)*sigma(z + mu[0] + mu[1], g2, g3)/(sigma(z, g2, g3)**3*sigma(-mu[0] - mu[1], g2, g3)*sigma(mu[0], g2, g3)*sigma(mu[1], g2, g3)), pw(z, g2, g3)*c[1] - Derivative(pw(z, g2, g3), z)/2 + c[0])"
      ]
     },
     "execution_count": 233,
     "metadata": {},
     "output_type": "execute_result"
    }
   ],
   "source": [
    "N2_sigma_product_wp_c_with_c2 = N2_sigma_product_wp_c.subs(N2_c2_eq.lhs, N2_c2_eq.rhs)\n",
    "N2_sigma_product_wp_c_with_c2"
   ]
  },
  {
   "cell_type": "code",
   "execution_count": 234,
   "metadata": {},
   "outputs": [
    {
     "data": {
      "text/latex": [
       "$\\displaystyle \\lim_{z \\to 0^+}\\left(z^{2} \\left(\\frac{\\frac{\\partial}{\\partial z} \\operatorname{pw}{\\left(z,g_{2},g_{3} \\right)}}{2} - \\frac{\\sigma{\\left(z - {\\mu}_{0},g_{2},g_{3} \\right)} \\sigma{\\left(z - {\\mu}_{1},g_{2},g_{3} \\right)} \\sigma{\\left(z + {\\mu}_{0} + {\\mu}_{1},g_{2},g_{3} \\right)}}{\\sigma^{3}{\\left(z,g_{2},g_{3} \\right)} \\sigma{\\left(- {\\mu}_{0} - {\\mu}_{1},g_{2},g_{3} \\right)} \\sigma{\\left({\\mu}_{0},g_{2},g_{3} \\right)} \\sigma{\\left({\\mu}_{1},g_{2},g_{3} \\right)}}\\right)\\right) = \\lim_{z \\to 0^+}\\left(z^{2} \\left(\\operatorname{pw}{\\left(z,g_{2},g_{3} \\right)} {c}_{1} + {c}_{0}\\right)\\right)$"
      ],
      "text/plain": [
       "Eq(Limit(z**2*(Derivative(pw(z, g2, g3), z)/2 - sigma(z - mu[0], g2, g3)*sigma(z - mu[1], g2, g3)*sigma(z + mu[0] + mu[1], g2, g3)/(sigma(z, g2, g3)**3*sigma(-mu[0] - mu[1], g2, g3)*sigma(mu[0], g2, g3)*sigma(mu[1], g2, g3))), z, 0), Limit(z**2*(pw(z, g2, g3)*c[1] + c[0]), z, 0))"
      ]
     },
     "execution_count": 234,
     "metadata": {},
     "output_type": "execute_result"
    }
   ],
   "source": [
    "Eq(Limit(z**2*(N2_sigma_product_wp_c.lhs+diff(pw(z,g2,g3),z)/2),z,0), Limit(z**2*(pw(z,g2,g3)*c[1] + c[0]),z,0))"
   ]
  },
  {
   "cell_type": "code",
   "execution_count": 235,
   "metadata": {},
   "outputs": [
    {
     "data": {
      "text/latex": [
       "$\\displaystyle - \\frac{\\sigma{\\left(z - {\\mu}_{0},g_{2},g_{3} \\right)} \\sigma{\\left(z - {\\mu}_{1},g_{2},g_{3} \\right)} \\sigma{\\left(z + {\\mu}_{0} + {\\mu}_{1},g_{2},g_{3} \\right)}}{\\sigma^{3}{\\left(z,g_{2},g_{3} \\right)} \\sigma{\\left(- {\\mu}_{0} - {\\mu}_{1},g_{2},g_{3} \\right)} \\sigma{\\left({\\mu}_{0},g_{2},g_{3} \\right)} \\sigma{\\left({\\mu}_{1},g_{2},g_{3} \\right)}} + \\frac{\\sigma{\\left(- z - {\\mu}_{0},g_{2},g_{3} \\right)} \\sigma{\\left(- z - {\\mu}_{1},g_{2},g_{3} \\right)} \\sigma{\\left(- z + {\\mu}_{0} + {\\mu}_{1},g_{2},g_{3} \\right)}}{\\sigma^{3}{\\left(- z,g_{2},g_{3} \\right)} \\sigma{\\left(- {\\mu}_{0} - {\\mu}_{1},g_{2},g_{3} \\right)} \\sigma{\\left({\\mu}_{0},g_{2},g_{3} \\right)} \\sigma{\\left({\\mu}_{1},g_{2},g_{3} \\right)}} = - \\frac{\\partial}{\\partial z} \\operatorname{pw}{\\left(z,g_{2},g_{3} \\right)}$"
      ],
      "text/plain": [
       "Eq(-sigma(z - mu[0], g2, g3)*sigma(z - mu[1], g2, g3)*sigma(z + mu[0] + mu[1], g2, g3)/(sigma(z, g2, g3)**3*sigma(-mu[0] - mu[1], g2, g3)*sigma(mu[0], g2, g3)*sigma(mu[1], g2, g3)) + sigma(-z - mu[0], g2, g3)*sigma(-z - mu[1], g2, g3)*sigma(-z + mu[0] + mu[1], g2, g3)/(sigma(-z, g2, g3)**3*sigma(-mu[0] - mu[1], g2, g3)*sigma(mu[0], g2, g3)*sigma(mu[1], g2, g3)), -Derivative(pw(z, g2, g3), z))"
      ]
     },
     "execution_count": 235,
     "metadata": {},
     "output_type": "execute_result"
    }
   ],
   "source": [
    "N2_wp_diff = Eq(\n",
    "    N2_sigma_product_wp_c_with_c2.lhs - N2_sigma_product_wp_c_with_c2.lhs.subs(z,-z),\n",
    "    N2_sigma_product_wp_c_with_c2.rhs - N2_sigma_product_wp_c_with_c2.rhs.subs(z,-z)\n",
    ").subs([\n",
    "    (pw(-z,g2,g3), pw(z,g2,g3)), \n",
    "    (diff(pw(z,g2,g3),z).subs(z,-z), -diff(pw(z,g2,g3),z))\n",
    "])\n",
    "N2_wp_diff"
   ]
  },
  {
   "cell_type": "code",
   "execution_count": 236,
   "metadata": {},
   "outputs": [
    {
     "data": {
      "text/latex": [
       "$\\displaystyle \\left(- \\frac{\\sigma{\\left(z - {\\mu}_{0},g_{2},g_{3} \\right)} \\sigma{\\left(z - {\\mu}_{1},g_{2},g_{3} \\right)} \\sigma{\\left(z + {\\mu}_{0} + {\\mu}_{1},g_{2},g_{3} \\right)}}{\\sigma^{3}{\\left(z,g_{2},g_{3} \\right)} \\sigma{\\left(- {\\mu}_{0} - {\\mu}_{1},g_{2},g_{3} \\right)} \\sigma{\\left({\\mu}_{0},g_{2},g_{3} \\right)} \\sigma{\\left({\\mu}_{1},g_{2},g_{3} \\right)}} + \\frac{\\sigma{\\left(- z - {\\mu}_{0},g_{2},g_{3} \\right)} \\sigma{\\left(- z - {\\mu}_{1},g_{2},g_{3} \\right)} \\sigma{\\left(- z + {\\mu}_{0} + {\\mu}_{1},g_{2},g_{3} \\right)}}{\\sigma^{3}{\\left(- z,g_{2},g_{3} \\right)} \\sigma{\\left(- {\\mu}_{0} - {\\mu}_{1},g_{2},g_{3} \\right)} \\sigma{\\left({\\mu}_{0},g_{2},g_{3} \\right)} \\sigma{\\left({\\mu}_{1},g_{2},g_{3} \\right)}}\\right)^{2} = \\left(\\frac{\\partial}{\\partial z} \\operatorname{pw}{\\left(z,g_{2},g_{3} \\right)}\\right)^{2}$"
      ],
      "text/plain": [
       "Eq((-sigma(z - mu[0], g2, g3)*sigma(z - mu[1], g2, g3)*sigma(z + mu[0] + mu[1], g2, g3)/(sigma(z, g2, g3)**3*sigma(-mu[0] - mu[1], g2, g3)*sigma(mu[0], g2, g3)*sigma(mu[1], g2, g3)) + sigma(-z - mu[0], g2, g3)*sigma(-z - mu[1], g2, g3)*sigma(-z + mu[0] + mu[1], g2, g3)/(sigma(-z, g2, g3)**3*sigma(-mu[0] - mu[1], g2, g3)*sigma(mu[0], g2, g3)*sigma(mu[1], g2, g3)))**2, Derivative(pw(z, g2, g3), z)**2)"
      ]
     },
     "execution_count": 236,
     "metadata": {},
     "output_type": "execute_result"
    }
   ],
   "source": [
    "Eq(N2_wp_diff.lhs**2, N2_wp_diff.rhs**2)"
   ]
  },
  {
   "cell_type": "code",
   "execution_count": 237,
   "metadata": {},
   "outputs": [
    {
     "data": {
      "text/latex": [
       "$\\displaystyle \\left(- \\frac{\\sigma{\\left(z - {\\mu}_{0},g_{2},g_{3} \\right)} \\sigma{\\left(z - {\\mu}_{1},g_{2},g_{3} \\right)} \\sigma{\\left(z + {\\mu}_{0} + {\\mu}_{1},g_{2},g_{3} \\right)}}{\\sigma^{3}{\\left(z,g_{2},g_{3} \\right)} \\sigma{\\left(- {\\mu}_{0} - {\\mu}_{1},g_{2},g_{3} \\right)} \\sigma{\\left({\\mu}_{0},g_{2},g_{3} \\right)} \\sigma{\\left({\\mu}_{1},g_{2},g_{3} \\right)}} + \\frac{\\sigma{\\left(- z - {\\mu}_{0},g_{2},g_{3} \\right)} \\sigma{\\left(- z - {\\mu}_{1},g_{2},g_{3} \\right)} \\sigma{\\left(- z + {\\mu}_{0} + {\\mu}_{1},g_{2},g_{3} \\right)}}{\\sigma^{3}{\\left(- z,g_{2},g_{3} \\right)} \\sigma{\\left(- {\\mu}_{0} - {\\mu}_{1},g_{2},g_{3} \\right)} \\sigma{\\left({\\mu}_{0},g_{2},g_{3} \\right)} \\sigma{\\left({\\mu}_{1},g_{2},g_{3} \\right)}}\\right)^{2} = \\left(- 4 e_{1} + 4 \\operatorname{pw}{\\left(z,g_{2},g_{3} \\right)}\\right) \\left(- e_{2} + \\operatorname{pw}{\\left(z,g_{2},g_{3} \\right)}\\right) \\left(- e_{3} + \\operatorname{pw}{\\left(z,g_{2},g_{3} \\right)}\\right)$"
      ],
      "text/plain": [
       "Eq((-sigma(z - mu[0], g2, g3)*sigma(z - mu[1], g2, g3)*sigma(z + mu[0] + mu[1], g2, g3)/(sigma(z, g2, g3)**3*sigma(-mu[0] - mu[1], g2, g3)*sigma(mu[0], g2, g3)*sigma(mu[1], g2, g3)) + sigma(-z - mu[0], g2, g3)*sigma(-z - mu[1], g2, g3)*sigma(-z + mu[0] + mu[1], g2, g3)/(sigma(-z, g2, g3)**3*sigma(-mu[0] - mu[1], g2, g3)*sigma(mu[0], g2, g3)*sigma(mu[1], g2, g3)))**2, (-4*e1 + 4*pw(z, g2, g3))*(-e2 + pw(z, g2, g3))*(-e3 + pw(z, g2, g3)))"
      ]
     },
     "execution_count": 237,
     "metadata": {},
     "output_type": "execute_result"
    }
   ],
   "source": [
    "Eq((N2_wp_diff.lhs**2), (N2_wp_diff.rhs**2)).subs(\n",
    "    diff(pw(z,g2,g3),z)**2,4*(pw(z,g2,g3) - e1)*(pw(z,g2,g3) - e2)*(pw(z,g2,g3) - e3)\n",
    ")"
   ]
  },
  {
   "cell_type": "code",
   "execution_count": 238,
   "metadata": {},
   "outputs": [
    {
     "data": {
      "text/latex": [
       "$\\displaystyle \\operatorname{A_{1}}{\\left(z \\right)} \\operatorname{A_{2}}{\\left(z \\right)} \\operatorname{A_{3}}{\\left(z \\right)} \\operatorname{Ac_{1}}{\\left(z \\right)} \\operatorname{Ac_{2}}{\\left(z \\right)} \\operatorname{Ac_{3}}{\\left(z \\right)} - \\operatorname{A_{1}}{\\left(z \\right)} \\operatorname{A_{2}}{\\left(z \\right)} \\operatorname{Ac_{1}}{\\left(z \\right)} \\operatorname{Ac_{2}}{\\left(z \\right)} {d}_{3} - \\operatorname{A_{1}}{\\left(z \\right)} \\operatorname{A_{3}}{\\left(z \\right)} \\operatorname{Ac_{1}}{\\left(z \\right)} \\operatorname{Ac_{3}}{\\left(z \\right)} {d}_{2} + \\operatorname{A_{1}}{\\left(z \\right)} \\operatorname{Ac_{1}}{\\left(z \\right)} {d}_{2} {d}_{3} - \\operatorname{A_{2}}{\\left(z \\right)} \\operatorname{A_{3}}{\\left(z \\right)} \\operatorname{Ac_{2}}{\\left(z \\right)} \\operatorname{Ac_{3}}{\\left(z \\right)} {d}_{1} + \\operatorname{A_{2}}{\\left(z \\right)} \\operatorname{Ac_{2}}{\\left(z \\right)} {d}_{1} {d}_{3} + \\operatorname{A_{3}}{\\left(z \\right)} \\operatorname{Ac_{3}}{\\left(z \\right)} {d}_{1} {d}_{2} - {d}_{1} {d}_{2} {d}_{3}$"
      ],
      "text/plain": [
       "A1(z)*A2(z)*A3(z)*Ac1(z)*Ac2(z)*Ac3(z) - A1(z)*A2(z)*Ac1(z)*Ac2(z)*d[3] - A1(z)*A3(z)*Ac1(z)*Ac3(z)*d[2] + A1(z)*Ac1(z)*d[2]*d[3] - A2(z)*A3(z)*Ac2(z)*Ac3(z)*d[1] + A2(z)*Ac2(z)*d[1]*d[3] + A3(z)*Ac3(z)*d[1]*d[2] - d[1]*d[2]*d[3]"
      ]
     },
     "execution_count": 238,
     "metadata": {},
     "output_type": "execute_result"
    }
   ],
   "source": [
    "((A1(z)*Ac1(z) - d[1])*(A2(z)*Ac2(z) - d[2])*(A3(z)*Ac3(z) - d[3])).expand()"
   ]
  },
  {
   "cell_type": "code",
   "execution_count": 239,
   "metadata": {},
   "outputs": [
    {
     "data": {
      "text/latex": [
       "$\\displaystyle \\frac{\\sigma{\\left(z - {\\mu}_{0},g_{2},g_{3} \\right)} \\sigma{\\left(z - {\\mu}_{1},g_{2},g_{3} \\right)} \\sigma{\\left(z - {\\mu}_{2},g_{2},g_{3} \\right)} \\sigma{\\left(z + {\\mu}_{0} + {\\mu}_{1} + {\\mu}_{2},g_{2},g_{3} \\right)}}{\\sigma^{4}{\\left(z,g_{2},g_{3} \\right)} \\sigma{\\left(- {\\mu}_{0} - {\\mu}_{1} - {\\mu}_{2},g_{2},g_{3} \\right)} \\sigma{\\left({\\mu}_{0},g_{2},g_{3} \\right)} \\sigma{\\left({\\mu}_{1},g_{2},g_{3} \\right)} \\sigma{\\left({\\mu}_{2},g_{2},g_{3} \\right)}} = - \\frac{g_{2} {c}_{3}}{2} + 6 \\operatorname{pw}^{2}{\\left(z,g_{2},g_{3} \\right)} {c}_{3} + \\operatorname{pw}{\\left(z,g_{2},g_{3} \\right)} {c}_{1} + \\frac{\\partial}{\\partial z} \\operatorname{pw}{\\left(z,g_{2},g_{3} \\right)} {c}_{2} + {c}_{0}$"
      ],
      "text/plain": [
       "Eq(sigma(z - mu[0], g2, g3)*sigma(z - mu[1], g2, g3)*sigma(z - mu[2], g2, g3)*sigma(z + mu[0] + mu[1] + mu[2], g2, g3)/(sigma(z, g2, g3)**4*sigma(-mu[0] - mu[1] - mu[2], g2, g3)*sigma(mu[0], g2, g3)*sigma(mu[1], g2, g3)*sigma(mu[2], g2, g3)), -g2*c[3]/2 + 6*pw(z, g2, g3)**2*c[3] + pw(z, g2, g3)*c[1] + Derivative(pw(z, g2, g3), z)*c[2] + c[0])"
      ]
     },
     "execution_count": 239,
     "metadata": {},
     "output_type": "execute_result"
    }
   ],
   "source": [
    "sigma_product_wp_c(3)"
   ]
  },
  {
   "cell_type": "code",
   "execution_count": 240,
   "metadata": {},
   "outputs": [
    {
     "data": {
      "text/latex": [
       "$\\displaystyle \\frac{\\sigma^{2}{\\left(z - {\\mu}_{0},g_{2},g_{3} \\right)} \\sigma{\\left(z - {\\mu}_{2},g_{2},g_{3} \\right)} \\sigma{\\left(z + 2 {\\mu}_{0} + {\\mu}_{2},g_{2},g_{3} \\right)}}{\\sigma^{4}{\\left(z,g_{2},g_{3} \\right)} \\sigma{\\left(- 2 {\\mu}_{0} - {\\mu}_{2},g_{2},g_{3} \\right)} \\sigma^{2}{\\left({\\mu}_{0},g_{2},g_{3} \\right)} \\sigma{\\left({\\mu}_{2},g_{2},g_{3} \\right)}} = - \\frac{g_{2} {c}_{3}}{2} + 6 \\operatorname{pw}^{2}{\\left(z,g_{2},g_{3} \\right)} {c}_{3} + \\operatorname{pw}{\\left(z,g_{2},g_{3} \\right)} {c}_{1} + \\frac{\\partial}{\\partial z} \\operatorname{pw}{\\left(z,g_{2},g_{3} \\right)} {c}_{2} + {c}_{0}$"
      ],
      "text/plain": [
       "Eq(sigma(z - mu[0], g2, g3)**2*sigma(z - mu[2], g2, g3)*sigma(z + 2*mu[0] + mu[2], g2, g3)/(sigma(z, g2, g3)**4*sigma(-2*mu[0] - mu[2], g2, g3)*sigma(mu[0], g2, g3)**2*sigma(mu[2], g2, g3)), -g2*c[3]/2 + 6*pw(z, g2, g3)**2*c[3] + pw(z, g2, g3)*c[1] + Derivative(pw(z, g2, g3), z)*c[2] + c[0])"
      ]
     },
     "execution_count": 240,
     "metadata": {},
     "output_type": "execute_result"
    }
   ],
   "source": [
    "sigma_product_wp_c(3).subs(mu[1],mu[0])"
   ]
  },
  {
   "cell_type": "code",
   "execution_count": 241,
   "metadata": {},
   "outputs": [
    {
     "data": {
      "text/latex": [
       "$\\displaystyle - 2 {\\mu}_{0} - {\\mu}_{2} = 2 \\omega_{1} + {\\mu}_{2}$"
      ],
      "text/plain": [
       "Eq(-2*mu[0] - mu[2], 2*omega1 + mu[2])"
      ]
     },
     "execution_count": 241,
     "metadata": {},
     "output_type": "execute_result"
    }
   ],
   "source": [
    "Eq(-2*mu[0]-mu[2],mu[2]+2*omega1)"
   ]
  },
  {
   "cell_type": "code",
   "execution_count": 242,
   "metadata": {},
   "outputs": [
    {
     "data": {
      "text/latex": [
       "$\\displaystyle - \\frac{\\sigma{\\left(z - {\\mu}_{0},g_{2},g_{3} \\right)} \\sigma{\\left(z - {\\mu}_{1},g_{2},g_{3} \\right)} \\sigma{\\left(z + {\\mu}_{0} + {\\mu}_{1},g_{2},g_{3} \\right)}}{\\sigma^{3}{\\left(z,g_{2},g_{3} \\right)} \\sigma{\\left(- {\\mu}_{0} - {\\mu}_{1},g_{2},g_{3} \\right)} \\sigma{\\left({\\mu}_{0},g_{2},g_{3} \\right)} \\sigma{\\left({\\mu}_{1},g_{2},g_{3} \\right)}} = \\operatorname{pw}{\\left(z,g_{2},g_{3} \\right)} {c}_{1} + \\frac{\\partial}{\\partial z} \\operatorname{pw}{\\left(z,g_{2},g_{3} \\right)} {c}_{2} + {c}_{0}$"
      ],
      "text/plain": [
       "Eq(-sigma(z - mu[0], g2, g3)*sigma(z - mu[1], g2, g3)*sigma(z + mu[0] + mu[1], g2, g3)/(sigma(z, g2, g3)**3*sigma(-mu[0] - mu[1], g2, g3)*sigma(mu[0], g2, g3)*sigma(mu[1], g2, g3)), pw(z, g2, g3)*c[1] + Derivative(pw(z, g2, g3), z)*c[2] + c[0])"
      ]
     },
     "execution_count": 242,
     "metadata": {},
     "output_type": "execute_result"
    }
   ],
   "source": [
    "N2_eq_ = sigma_product_wp_c(2)\n",
    "N2_eq_"
   ]
  },
  {
   "cell_type": "code",
   "execution_count": 243,
   "metadata": {},
   "outputs": [
    {
     "data": {
      "text/latex": [
       "$\\displaystyle - \\left(\\operatorname{pw}{\\left(z,g_{2},g_{3} \\right)} {c}_{1} - \\frac{\\partial}{\\partial z} \\operatorname{pw}{\\left(z,g_{2},g_{3} \\right)} {c}_{2} + {c}_{0}\\right) \\left(\\operatorname{pw}{\\left(z,g_{2},g_{3} \\right)} {c}_{1} + \\frac{\\partial}{\\partial z} \\operatorname{pw}{\\left(z,g_{2},g_{3} \\right)} {c}_{2} + {c}_{0}\\right) - \\frac{\\sigma{\\left(- z - {\\mu}_{0},g_{2},g_{3} \\right)} \\sigma{\\left(- z - {\\mu}_{1},g_{2},g_{3} \\right)} \\sigma{\\left(z - {\\mu}_{0},g_{2},g_{3} \\right)} \\sigma{\\left(z - {\\mu}_{1},g_{2},g_{3} \\right)} \\sigma{\\left(- z + {\\mu}_{0} + {\\mu}_{1},g_{2},g_{3} \\right)} \\sigma{\\left(z + {\\mu}_{0} + {\\mu}_{1},g_{2},g_{3} \\right)}}{\\sigma^{6}{\\left(z,g_{2},g_{3} \\right)} \\sigma^{2}{\\left(- {\\mu}_{0} - {\\mu}_{1},g_{2},g_{3} \\right)} \\sigma^{2}{\\left({\\mu}_{0},g_{2},g_{3} \\right)} \\sigma^{2}{\\left({\\mu}_{1},g_{2},g_{3} \\right)}} = 0$"
      ],
      "text/plain": [
       "Eq(-(pw(z, g2, g3)*c[1] - Derivative(pw(z, g2, g3), z)*c[2] + c[0])*(pw(z, g2, g3)*c[1] + Derivative(pw(z, g2, g3), z)*c[2] + c[0]) - sigma(-z - mu[0], g2, g3)*sigma(-z - mu[1], g2, g3)*sigma(z - mu[0], g2, g3)*sigma(z - mu[1], g2, g3)*sigma(-z + mu[0] + mu[1], g2, g3)*sigma(z + mu[0] + mu[1], g2, g3)/(sigma(z, g2, g3)**6*sigma(-mu[0] - mu[1], g2, g3)**2*sigma(mu[0], g2, g3)**2*sigma(mu[1], g2, g3)**2), 0)"
      ]
     },
     "execution_count": 243,
     "metadata": {},
     "output_type": "execute_result"
    }
   ],
   "source": [
    "N2_eq_sym_z = Eq(N2_eq_.lhs*N2_eq_.lhs.subs(z,-z) - N2_eq_.rhs*N2_eq_.rhs.subs(z,-z), 0).subs([\n",
    "    (diff(pw(z,g2,g3),z).subs(z,-z), -diff(pw(z,g2,g3),z)),\n",
    "    (pw(-z,g2,g3), pw(z,g2,g3)),\n",
    "    (sigma(-z,g2,g3),-sigma(z,g2,g3))\n",
    "])\n",
    "N2_eq_sym_z"
   ]
  },
  {
   "cell_type": "code",
   "execution_count": 244,
   "metadata": {},
   "outputs": [
    {
     "data": {
      "text/latex": [
       "$\\displaystyle - \\operatorname{pw}^{2}{\\left(z,g_{2},g_{3} \\right)} {c}_{1}^{2} - 2 \\operatorname{pw}{\\left(z,g_{2},g_{3} \\right)} {c}_{0} {c}_{1} + \\left(\\frac{\\partial}{\\partial z} \\operatorname{pw}{\\left(z,g_{2},g_{3} \\right)}\\right)^{2} {c}_{2}^{2} - {c}_{0}^{2} - \\frac{\\sigma{\\left(- z - {\\mu}_{0},g_{2},g_{3} \\right)} \\sigma{\\left(- z - {\\mu}_{1},g_{2},g_{3} \\right)} \\sigma{\\left(z - {\\mu}_{0},g_{2},g_{3} \\right)} \\sigma{\\left(z - {\\mu}_{1},g_{2},g_{3} \\right)} \\sigma{\\left(- z + {\\mu}_{0} + {\\mu}_{1},g_{2},g_{3} \\right)} \\sigma{\\left(z + {\\mu}_{0} + {\\mu}_{1},g_{2},g_{3} \\right)}}{\\sigma^{6}{\\left(z,g_{2},g_{3} \\right)} \\sigma^{2}{\\left(- {\\mu}_{0} - {\\mu}_{1},g_{2},g_{3} \\right)} \\sigma^{2}{\\left({\\mu}_{0},g_{2},g_{3} \\right)} \\sigma^{2}{\\left({\\mu}_{1},g_{2},g_{3} \\right)}} = 0$"
      ],
      "text/plain": [
       "Eq(-pw(z, g2, g3)**2*c[1]**2 - 2*pw(z, g2, g3)*c[0]*c[1] + Derivative(pw(z, g2, g3), z)**2*c[2]**2 - c[0]**2 - sigma(-z - mu[0], g2, g3)*sigma(-z - mu[1], g2, g3)*sigma(z - mu[0], g2, g3)*sigma(z - mu[1], g2, g3)*sigma(-z + mu[0] + mu[1], g2, g3)*sigma(z + mu[0] + mu[1], g2, g3)/(sigma(z, g2, g3)**6*sigma(-mu[0] - mu[1], g2, g3)**2*sigma(mu[0], g2, g3)**2*sigma(mu[1], g2, g3)**2), 0)"
      ]
     },
     "execution_count": 244,
     "metadata": {},
     "output_type": "execute_result"
    }
   ],
   "source": [
    "N2_eq_sym_z.expand()"
   ]
  },
  {
   "cell_type": "code",
   "execution_count": 245,
   "metadata": {},
   "outputs": [
    {
     "data": {
      "text/latex": [
       "$\\displaystyle \\frac{\\sigma{\\left(- z - {\\mu}_{0},g_{2},g_{3} \\right)} \\sigma{\\left(- z + {\\mu}_{0},g_{2},g_{3} \\right)}}{\\sigma^{2}{\\left(z,g_{2},g_{3} \\right)} \\sigma^{2}{\\left({\\mu}_{0},g_{2},g_{3} \\right)}} = - \\operatorname{pw}{\\left(z,g_{2},g_{3} \\right)} + \\operatorname{pw}{\\left({\\mu}_{0},g_{2},g_{3} \\right)}$"
      ],
      "text/plain": [
       "Eq(sigma(-z - mu[0], g2, g3)*sigma(-z + mu[0], g2, g3)/(sigma(z, g2, g3)**2*sigma(mu[0], g2, g3)**2), -pw(z, g2, g3) + pw(mu[0], g2, g3))"
      ]
     },
     "execution_count": 245,
     "metadata": {},
     "output_type": "execute_result"
    }
   ],
   "source": [
    "Eq(sigma_p_identity.rhs.subs([(x,-z),(y,-mu[0])]), sigma_p_identity.lhs.subs([(x,-z),(y,-mu[0])])).subs([\n",
    "    (diff(pw(z,g2,g3),z).subs(z,-z), -diff(pw(z,g2,g3),z)),\n",
    "    (pw(-z,g2,g3), pw(z,g2,g3)),\n",
    "    (pw(-mu[0],g2,g3), pw(mu[0],g2,g3)),\n",
    "    (sigma(-z,g2,g3),-sigma(z,g2,g3)),\n",
    "    (sigma(-mu[0],g2,g3),-sigma(mu[0],g2,g3))\n",
    "])"
   ]
  },
  {
   "cell_type": "code",
   "execution_count": 246,
   "metadata": {},
   "outputs": [
    {
     "data": {
      "text/latex": [
       "$\\displaystyle \\frac{\\sigma{\\left(- z + {\\mu}_{0},g_{2},g_{3} \\right)} \\sigma{\\left(z + {\\mu}_{0},g_{2},g_{3} \\right)}}{\\sigma^{2}{\\left(z,g_{2},g_{3} \\right)} \\sigma^{2}{\\left({\\mu}_{0},g_{2},g_{3} \\right)}} = \\operatorname{pw}{\\left(z,g_{2},g_{3} \\right)} - \\operatorname{pw}{\\left({\\mu}_{0},g_{2},g_{3} \\right)}$"
      ],
      "text/plain": [
       "Eq(sigma(-z + mu[0], g2, g3)*sigma(z + mu[0], g2, g3)/(sigma(z, g2, g3)**2*sigma(mu[0], g2, g3)**2), pw(z, g2, g3) - pw(mu[0], g2, g3))"
      ]
     },
     "execution_count": 246,
     "metadata": {},
     "output_type": "execute_result"
    }
   ],
   "source": [
    "eq_Xxx = Eq(sigma_p_identity.rhs.subs([(y,-z),(x,mu[0])]), sigma_p_identity.lhs.subs([(y,-z),(x,mu[0])])).subs([\n",
    "    (pw(-z,g2,g3), pw(z,g2,g3)),\n",
    "    (sigma(-z,g2,g3),-sigma(z,g2,g3)),\n",
    "])\n",
    "eq_Xxx"
   ]
  },
  {
   "cell_type": "code",
   "execution_count": 247,
   "metadata": {},
   "outputs": [
    {
     "data": {
      "text/latex": [
       "$\\displaystyle \\frac{\\sigma{\\left(- z + {\\mu}_{0},g_{2},g_{3} \\right)} \\sigma{\\left(- z + {\\mu}_{1},g_{2},g_{3} \\right)} \\sigma{\\left(z + {\\mu}_{0},g_{2},g_{3} \\right)} \\sigma{\\left(z + {\\mu}_{1},g_{2},g_{3} \\right)} \\sigma{\\left(- z - {\\mu}_{0} - {\\mu}_{1},g_{2},g_{3} \\right)} \\sigma{\\left(z - {\\mu}_{0} - {\\mu}_{1},g_{2},g_{3} \\right)}}{\\sigma^{6}{\\left(z,g_{2},g_{3} \\right)} \\sigma^{2}{\\left(- {\\mu}_{0} - {\\mu}_{1},g_{2},g_{3} \\right)} \\sigma^{2}{\\left({\\mu}_{0},g_{2},g_{3} \\right)} \\sigma^{2}{\\left({\\mu}_{1},g_{2},g_{3} \\right)}} = \\left(\\operatorname{pw}{\\left(z,g_{2},g_{3} \\right)} - \\operatorname{pw}{\\left(- {\\mu}_{0} - {\\mu}_{1},g_{2},g_{3} \\right)}\\right) \\left(\\operatorname{pw}{\\left(z,g_{2},g_{3} \\right)} - \\operatorname{pw}{\\left({\\mu}_{0},g_{2},g_{3} \\right)}\\right) \\left(\\operatorname{pw}{\\left(z,g_{2},g_{3} \\right)} - \\operatorname{pw}{\\left({\\mu}_{1},g_{2},g_{3} \\right)}\\right)$"
      ],
      "text/plain": [
       "Eq(sigma(-z + mu[0], g2, g3)*sigma(-z + mu[1], g2, g3)*sigma(z + mu[0], g2, g3)*sigma(z + mu[1], g2, g3)*sigma(-z - mu[0] - mu[1], g2, g3)*sigma(z - mu[0] - mu[1], g2, g3)/(sigma(z, g2, g3)**6*sigma(-mu[0] - mu[1], g2, g3)**2*sigma(mu[0], g2, g3)**2*sigma(mu[1], g2, g3)**2), (pw(z, g2, g3) - pw(-mu[0] - mu[1], g2, g3))*(pw(z, g2, g3) - pw(mu[0], g2, g3))*(pw(z, g2, g3) - pw(mu[1], g2, g3)))"
      ]
     },
     "execution_count": 247,
     "metadata": {},
     "output_type": "execute_result"
    }
   ],
   "source": [
    "eq_Xxx_3 = Eq(eq_Xxx.lhs * eq_Xxx.lhs.subs(mu[0],mu[1]) * eq_Xxx.lhs.subs(mu[0],-mu[0] - mu[1]),\n",
    "  eq_Xxx.rhs * eq_Xxx.rhs.subs(mu[0],mu[1]) * eq_Xxx.rhs.subs(mu[0],-mu[0] - mu[1])\n",
    "  )\n",
    "eq_Xxx_3"
   ]
  },
  {
   "cell_type": "code",
   "execution_count": 248,
   "metadata": {},
   "outputs": [
    {
     "data": {
      "text/latex": [
       "$\\displaystyle - g_{3} {c}_{2}^{2} + \\left(- g_{2} {c}_{2}^{2} - 2 {c}_{0} {c}_{1}\\right) \\operatorname{pw}{\\left(z,g_{2},g_{3} \\right)} + 4 \\operatorname{pw}^{3}{\\left(z,g_{2},g_{3} \\right)} {c}_{2}^{2} - \\operatorname{pw}^{2}{\\left(z,g_{2},g_{3} \\right)} {c}_{1}^{2} - {c}_{0}^{2} - \\frac{\\sigma{\\left(- z - {\\mu}_{0},g_{2},g_{3} \\right)} \\sigma{\\left(- z - {\\mu}_{1},g_{2},g_{3} \\right)} \\sigma{\\left(z - {\\mu}_{0},g_{2},g_{3} \\right)} \\sigma{\\left(z - {\\mu}_{1},g_{2},g_{3} \\right)} \\sigma{\\left(- z + {\\mu}_{0} + {\\mu}_{1},g_{2},g_{3} \\right)} \\sigma{\\left(z + {\\mu}_{0} + {\\mu}_{1},g_{2},g_{3} \\right)}}{\\sigma^{6}{\\left(z,g_{2},g_{3} \\right)} \\sigma^{2}{\\left(- {\\mu}_{0} - {\\mu}_{1},g_{2},g_{3} \\right)} \\sigma^{2}{\\left({\\mu}_{0},g_{2},g_{3} \\right)} \\sigma^{2}{\\left({\\mu}_{1},g_{2},g_{3} \\right)}} = 0$"
      ],
      "text/plain": [
       "Eq(-g3*c[2]**2 + (-g2*c[2]**2 - 2*c[0]*c[1])*pw(z, g2, g3) + 4*pw(z, g2, g3)**3*c[2]**2 - pw(z, g2, g3)**2*c[1]**2 - c[0]**2 - sigma(-z - mu[0], g2, g3)*sigma(-z - mu[1], g2, g3)*sigma(z - mu[0], g2, g3)*sigma(z - mu[1], g2, g3)*sigma(-z + mu[0] + mu[1], g2, g3)*sigma(z + mu[0] + mu[1], g2, g3)/(sigma(z, g2, g3)**6*sigma(-mu[0] - mu[1], g2, g3)**2*sigma(mu[0], g2, g3)**2*sigma(mu[1], g2, g3)**2), 0)"
      ]
     },
     "execution_count": 248,
     "metadata": {},
     "output_type": "execute_result"
    }
   ],
   "source": [
    "N2_eq_wp = N2_eq_sym_z.expand().subs([\n",
    "    (eq_Xxx_3.lhs, eq_Xxx_3.rhs),\n",
    "    (diff(pw(z,g2,g3),z)**2, 4*pw(z,g2,g3)**3 - g2*pw(z,g2,g3) - g3)\n",
    "])\n",
    "N2_eq_wp = Eq(N2_eq_wp.lhs.expand().collect(pw(z,g2,g3)),0)\n",
    "N2_eq_wp"
   ]
  },
  {
   "cell_type": "code",
   "execution_count": 249,
   "metadata": {},
   "outputs": [
    {
     "data": {
      "text/latex": [
       "$\\displaystyle 4 {c}_{2}^{2} = 0$"
      ],
      "text/plain": [
       "Eq(4*c[2]**2, 0)"
      ]
     },
     "execution_count": 249,
     "metadata": {},
     "output_type": "execute_result"
    }
   ],
   "source": [
    "Eq(N2_eq_wp.lhs.coeff(pw(z,g2,g3)**3),0)"
   ]
  },
  {
   "cell_type": "code",
   "execution_count": 250,
   "metadata": {},
   "outputs": [
    {
     "data": {
      "text/latex": [
       "$\\displaystyle - {c}_{1}^{2} = 0$"
      ],
      "text/plain": [
       "Eq(-c[1]**2, 0)"
      ]
     },
     "execution_count": 250,
     "metadata": {},
     "output_type": "execute_result"
    }
   ],
   "source": [
    "Eq(N2_eq_wp.lhs.coeff(pw(z,g2,g3)**2),0)"
   ]
  },
  {
   "cell_type": "code",
   "execution_count": 251,
   "metadata": {},
   "outputs": [
    {
     "data": {
      "text/latex": [
       "$\\displaystyle - g_{2} {c}_{2}^{2} - 2 {c}_{0} {c}_{1} = 0$"
      ],
      "text/plain": [
       "Eq(-g2*c[2]**2 - 2*c[0]*c[1], 0)"
      ]
     },
     "execution_count": 251,
     "metadata": {},
     "output_type": "execute_result"
    }
   ],
   "source": [
    "Eq(N2_eq_wp.lhs.coeff(pw(z,g2,g3)),0)"
   ]
  },
  {
   "cell_type": "code",
   "execution_count": 252,
   "metadata": {},
   "outputs": [
    {
     "data": {
      "text/latex": [
       "$\\displaystyle - g_{3} {c}_{2}^{2} - {c}_{0}^{2} - \\frac{\\sigma{\\left(- z - {\\mu}_{0},g_{2},g_{3} \\right)} \\sigma{\\left(- z - {\\mu}_{1},g_{2},g_{3} \\right)} \\sigma{\\left(z - {\\mu}_{0},g_{2},g_{3} \\right)} \\sigma{\\left(z - {\\mu}_{1},g_{2},g_{3} \\right)} \\sigma{\\left(- z + {\\mu}_{0} + {\\mu}_{1},g_{2},g_{3} \\right)} \\sigma{\\left(z + {\\mu}_{0} + {\\mu}_{1},g_{2},g_{3} \\right)}}{\\sigma^{6}{\\left(z,g_{2},g_{3} \\right)} \\sigma^{2}{\\left(- {\\mu}_{0} - {\\mu}_{1},g_{2},g_{3} \\right)} \\sigma^{2}{\\left({\\mu}_{0},g_{2},g_{3} \\right)} \\sigma^{2}{\\left({\\mu}_{1},g_{2},g_{3} \\right)}} = 0$"
      ],
      "text/plain": [
       "Eq(-g3*c[2]**2 - c[0]**2 - sigma(-z - mu[0], g2, g3)*sigma(-z - mu[1], g2, g3)*sigma(z - mu[0], g2, g3)*sigma(z - mu[1], g2, g3)*sigma(-z + mu[0] + mu[1], g2, g3)*sigma(z + mu[0] + mu[1], g2, g3)/(sigma(z, g2, g3)**6*sigma(-mu[0] - mu[1], g2, g3)**2*sigma(mu[0], g2, g3)**2*sigma(mu[1], g2, g3)**2), 0)"
      ]
     },
     "execution_count": 252,
     "metadata": {},
     "output_type": "execute_result"
    }
   ],
   "source": [
    "Eq(N2_eq_wp.lhs.subs(pw(z,g2,g3),0),0)"
   ]
  },
  {
   "cell_type": "code",
   "execution_count": 253,
   "metadata": {},
   "outputs": [
    {
     "data": {
      "text/latex": [
       "$\\displaystyle - 4 e_{1} e_{2} e_{3} {c}_{2}^{2} + \\left(- 4 e_{1} {c}_{2}^{2} - 4 e_{2} {c}_{2}^{2} - 4 e_{3} {c}_{2}^{2} - {c}_{1}^{2}\\right) \\operatorname{pw}^{2}{\\left(z,g_{2},g_{3} \\right)} + \\left(4 e_{1} e_{2} {c}_{2}^{2} + 4 e_{1} e_{3} {c}_{2}^{2} + 4 e_{2} e_{3} {c}_{2}^{2} - 2 {c}_{0} {c}_{1}\\right) \\operatorname{pw}{\\left(z,g_{2},g_{3} \\right)} + 4 \\operatorname{pw}^{3}{\\left(z,g_{2},g_{3} \\right)} {c}_{2}^{2} - {c}_{0}^{2} - \\frac{\\sigma{\\left(- z - {\\mu}_{0},g_{2},g_{3} \\right)} \\sigma{\\left(- z - {\\mu}_{1},g_{2},g_{3} \\right)} \\sigma{\\left(z - {\\mu}_{0},g_{2},g_{3} \\right)} \\sigma{\\left(z - {\\mu}_{1},g_{2},g_{3} \\right)} \\sigma{\\left(- z + {\\mu}_{0} + {\\mu}_{1},g_{2},g_{3} \\right)} \\sigma{\\left(z + {\\mu}_{0} + {\\mu}_{1},g_{2},g_{3} \\right)}}{\\sigma^{6}{\\left(z,g_{2},g_{3} \\right)} \\sigma^{2}{\\left(- {\\mu}_{0} - {\\mu}_{1},g_{2},g_{3} \\right)} \\sigma^{2}{\\left({\\mu}_{0},g_{2},g_{3} \\right)} \\sigma^{2}{\\left({\\mu}_{1},g_{2},g_{3} \\right)}} = 0$"
      ],
      "text/plain": [
       "Eq(-4*e1*e2*e3*c[2]**2 + (-4*e1*c[2]**2 - 4*e2*c[2]**2 - 4*e3*c[2]**2 - c[1]**2)*pw(z, g2, g3)**2 + (4*e1*e2*c[2]**2 + 4*e1*e3*c[2]**2 + 4*e2*e3*c[2]**2 - 2*c[0]*c[1])*pw(z, g2, g3) + 4*pw(z, g2, g3)**3*c[2]**2 - c[0]**2 - sigma(-z - mu[0], g2, g3)*sigma(-z - mu[1], g2, g3)*sigma(z - mu[0], g2, g3)*sigma(z - mu[1], g2, g3)*sigma(-z + mu[0] + mu[1], g2, g3)*sigma(z + mu[0] + mu[1], g2, g3)/(sigma(z, g2, g3)**6*sigma(-mu[0] - mu[1], g2, g3)**2*sigma(mu[0], g2, g3)**2*sigma(mu[1], g2, g3)**2), 0)"
      ]
     },
     "execution_count": 253,
     "metadata": {},
     "output_type": "execute_result"
    }
   ],
   "source": [
    "N2_eq_wp_roots = N2_eq_sym_z.expand().subs([\n",
    "    (eq_Xxx_3.lhs, eq_Xxx_3.rhs),\n",
    "    (diff(pw(z,g2,g3),z)**2, 4*(pw(z,g2,g3) - e1)*(pw(z,g2,g3) - e2)*(pw(z,g2,g3) - e3))\n",
    "])\n",
    "N2_eq_wp_roots = Eq(N2_eq_wp_roots.lhs.expand().collect(pw(z,g2,g3)),0)\n",
    "N2_eq_wp_roots"
   ]
  },
  {
   "cell_type": "markdown",
   "metadata": {},
   "source": [
    "## Logarithmic derivates with respect to each variable\n",
    "\n",
    "This section derives a system of coupled differential equations for logs of ratios of sigma functions.The motivation is that such systems describe among other things nonlinear optics and yet they do not seem to be studied or documented in the literature."
   ]
  },
  {
   "cell_type": "code",
   "execution_count": 254,
   "metadata": {},
   "outputs": [],
   "source": [
    "def p_matrix_f_s_diff(N, row_index): \n",
    "    return Matrix([\n",
    "        [1, *[pw(x,g2,g3).diff((x,j)).subs(x,mu[k]) for j in range(N)]] \n",
    "        if k != row_index else\n",
    "        [0, *[pw(x,g2,g3).diff((x,j + 1)).subs(x,mu[k]) for j in range(N)]]\n",
    "        for k in range(N+1) \n",
    "    ])\n",
    "\n",
    "def p_matrix_f_s_1dz_diff(N, row_index): \n",
    "    if row_index == N:\n",
    "        z_row = [0, *[pw(z,g2,g3).diff((z,j + 1)).subs(x,mu[k]) for j in range(N)]]\n",
    "    else:\n",
    "        z_row = [1, *[pw(z,g2,g3).diff((z,j)) for j in range(N)]]\n",
    "    return Matrix([\n",
    "        *[\n",
    "            [1, *[pw(x,g2,g3).diff((x,j)).subs(x,mu[k]) for j in range(N)]]\n",
    "            if k != row_index else\n",
    "            [0, *[pw(x,g2,g3).diff((x,j + 1)).subs(x,mu[k]) for j in range(N)]]\n",
    "          for k in range(N)],\n",
    "         z_row\n",
    "    ])"
   ]
  },
  {
   "cell_type": "code",
   "execution_count": 255,
   "metadata": {},
   "outputs": [
    {
     "data": {
      "text/latex": [
       "$\\displaystyle 0$"
      ],
      "text/plain": [
       "0"
      ]
     },
     "execution_count": 255,
     "metadata": {},
     "output_type": "execute_result"
    }
   ],
   "source": [
    "ii = 2\n",
    "det(p_matrix_f_s_diff(2, ii)) - diff(det(p_matrix_f_s(2)), mu[ii])"
   ]
  },
  {
   "cell_type": "code",
   "execution_count": 256,
   "metadata": {},
   "outputs": [
    {
     "data": {
      "text/latex": [
       "$\\displaystyle 0$"
      ],
      "text/plain": [
       "0"
      ]
     },
     "execution_count": 256,
     "metadata": {},
     "output_type": "execute_result"
    }
   ],
   "source": [
    "ii = 2\n",
    "det(p_matrix_f_s_1dz_diff(2, ii))  - diff(det(p_matrix_f_s_1dz(2)), z)"
   ]
  },
  {
   "cell_type": "code",
   "execution_count": 257,
   "metadata": {},
   "outputs": [
    {
     "data": {
      "text/latex": [
       "$\\displaystyle \\operatorname{zw}{\\left(z,g_{2},g_{3} \\right)} = \\frac{\\frac{\\partial}{\\partial z} \\sigma{\\left(z,g_{2},g_{3} \\right)}}{\\sigma{\\left(z,g_{2},g_{3} \\right)}}$"
      ],
      "text/plain": [
       "Eq(zw(z, g2, g3), Derivative(sigma(z, g2, g3), z)/sigma(z, g2, g3))"
      ]
     },
     "execution_count": 257,
     "metadata": {},
     "output_type": "execute_result"
    }
   ],
   "source": [
    "zeta_eq = Eq(diff(integral_zeta_log_sigma.lhs,z), diff(integral_zeta_log_sigma.rhs,z))\n",
    "zeta_eq"
   ]
  },
  {
   "cell_type": "code",
   "execution_count": 258,
   "metadata": {},
   "outputs": [
    {
     "data": {
      "text/latex": [
       "$\\displaystyle \\rho{\\left(x,y \\right)} = \\frac{\\sigma{\\left(- x + y,g_{2},g_{3} \\right)}}{\\sigma{\\left(x,g_{2},g_{3} \\right)} \\sigma{\\left(y,g_{2},g_{3} \\right)}}$"
      ],
      "text/plain": [
       "Eq(rho(x, y), sigma(-x + y, g2, g3)/(sigma(x, g2, g3)*sigma(y, g2, g3)))"
      ]
     },
     "execution_count": 258,
     "metadata": {},
     "output_type": "execute_result"
    }
   ],
   "source": [
    "rho_def_xy = Eq(rho(x,y), sigma(-x+y,g2,g3)/sigma(x,g2,g3)/sigma(y,g2,g3))\n",
    "rho_def_xy"
   ]
  },
  {
   "cell_type": "code",
   "execution_count": 259,
   "metadata": {},
   "outputs": [
    {
     "data": {
      "text/latex": [
       "$\\displaystyle \\rho{\\left(- x,y \\right)} = - \\frac{\\sigma{\\left(x + y,g_{2},g_{3} \\right)}}{\\sigma{\\left(x,g_{2},g_{3} \\right)} \\sigma{\\left(y,g_{2},g_{3} \\right)}}$"
      ],
      "text/plain": [
       "Eq(rho(-x, y), -sigma(x + y, g2, g3)/(sigma(x, g2, g3)*sigma(y, g2, g3)))"
      ]
     },
     "execution_count": 259,
     "metadata": {},
     "output_type": "execute_result"
    }
   ],
   "source": [
    "rho_def_xy.subs(x,-x).subs([(sigma(-x,g2,g3), -sigma(x,g2,g3)), (sigma(-y,g2,g3), -sigma(y,g2,g3))])"
   ]
  },
  {
   "cell_type": "code",
   "execution_count": 260,
   "metadata": {},
   "outputs": [
    {
     "data": {
      "text/latex": [
       "$\\displaystyle \\rho{\\left(x,- y \\right)} = \\frac{\\sigma{\\left(x + y,g_{2},g_{3} \\right)}}{\\sigma{\\left(x,g_{2},g_{3} \\right)} \\sigma{\\left(y,g_{2},g_{3} \\right)}}$"
      ],
      "text/plain": [
       "Eq(rho(x, -y), sigma(x + y, g2, g3)/(sigma(x, g2, g3)*sigma(y, g2, g3)))"
      ]
     },
     "execution_count": 260,
     "metadata": {},
     "output_type": "execute_result"
    }
   ],
   "source": [
    "rho_def_xy.subs(y,-y).subs([(sigma(-x,g2,g3), -sigma(x,g2,g3)), (sigma(-y,g2,g3), -sigma(y,g2,g3)),\n",
    "                           (sigma(-x-y,g2,g3), -sigma(x+y,g2,g3))])"
   ]
  },
  {
   "cell_type": "code",
   "execution_count": 261,
   "metadata": {},
   "outputs": [
    {
     "data": {
      "text/latex": [
       "$\\displaystyle \\rho{\\left(- x,y \\right)} = - \\rho{\\left(x,- y \\right)}$"
      ],
      "text/plain": [
       "Eq(rho(-x, y), -rho(x, -y))"
      ]
     },
     "execution_count": 261,
     "metadata": {},
     "output_type": "execute_result"
    }
   ],
   "source": [
    "Eq(rho(-x,y),-rho(x,-y))"
   ]
  },
  {
   "cell_type": "markdown",
   "metadata": {},
   "source": [
    "The starting point is the Frobenius Stickelberger determinant identity. This example uses the 3 variable version but the idea scales to the $N$ dimensional case."
   ]
  },
  {
   "cell_type": "code",
   "execution_count": 262,
   "metadata": {},
   "outputs": [
    {
     "data": {
      "text/latex": [
       "$\\displaystyle \\frac{\\operatorname{Det}{\\left(\\left[\\begin{matrix}1 & \\operatorname{pw}{\\left({\\mu}_{0},g_{2},g_{3} \\right)} & \\frac{\\partial}{\\partial {\\mu}_{0}} \\operatorname{pw}{\\left({\\mu}_{0},g_{2},g_{3} \\right)} & \\frac{\\partial^{2}}{\\partial {\\mu}_{0}^{2}} \\operatorname{pw}{\\left({\\mu}_{0},g_{2},g_{3} \\right)}\\\\1 & \\operatorname{pw}{\\left({\\mu}_{1},g_{2},g_{3} \\right)} & \\frac{\\partial}{\\partial {\\mu}_{1}} \\operatorname{pw}{\\left({\\mu}_{1},g_{2},g_{3} \\right)} & \\frac{\\partial^{2}}{\\partial {\\mu}_{1}^{2}} \\operatorname{pw}{\\left({\\mu}_{1},g_{2},g_{3} \\right)}\\\\1 & \\operatorname{pw}{\\left({\\mu}_{2},g_{2},g_{3} \\right)} & \\frac{\\partial}{\\partial {\\mu}_{2}} \\operatorname{pw}{\\left({\\mu}_{2},g_{2},g_{3} \\right)} & \\frac{\\partial^{2}}{\\partial {\\mu}_{2}^{2}} \\operatorname{pw}{\\left({\\mu}_{2},g_{2},g_{3} \\right)}\\\\1 & \\operatorname{pw}{\\left(z,g_{2},g_{3} \\right)} & \\frac{\\partial}{\\partial z} \\operatorname{pw}{\\left(z,g_{2},g_{3} \\right)} & \\frac{\\partial^{2}}{\\partial z^{2}} \\operatorname{pw}{\\left(z,g_{2},g_{3} \\right)}\\end{matrix}\\right] \\right)} \\operatorname{Det}^{-1}{\\left(\\left[\\begin{matrix}1 & \\operatorname{pw}{\\left({\\mu}_{0},g_{2},g_{3} \\right)} & \\frac{\\partial}{\\partial {\\mu}_{0}} \\operatorname{pw}{\\left({\\mu}_{0},g_{2},g_{3} \\right)}\\\\1 & \\operatorname{pw}{\\left({\\mu}_{1},g_{2},g_{3} \\right)} & \\frac{\\partial}{\\partial {\\mu}_{1}} \\operatorname{pw}{\\left({\\mu}_{1},g_{2},g_{3} \\right)}\\\\1 & \\operatorname{pw}{\\left({\\mu}_{2},g_{2},g_{3} \\right)} & \\frac{\\partial}{\\partial {\\mu}_{2}} \\operatorname{pw}{\\left({\\mu}_{2},g_{2},g_{3} \\right)}\\end{matrix}\\right] \\right)}}{6} = \\frac{\\sigma{\\left(z - {\\mu}_{0},g_{2},g_{3} \\right)} \\sigma{\\left(z - {\\mu}_{1},g_{2},g_{3} \\right)} \\sigma{\\left(z - {\\mu}_{2},g_{2},g_{3} \\right)} \\sigma{\\left(z + {\\mu}_{0} + {\\mu}_{1} + {\\mu}_{2},g_{2},g_{3} \\right)}}{\\sigma^{4}{\\left(z,g_{2},g_{3} \\right)} \\sigma{\\left(- {\\mu}_{0} - {\\mu}_{1} - {\\mu}_{2},g_{2},g_{3} \\right)} \\sigma{\\left({\\mu}_{0},g_{2},g_{3} \\right)} \\sigma{\\left({\\mu}_{1},g_{2},g_{3} \\right)} \\sigma{\\left({\\mu}_{2},g_{2},g_{3} \\right)}}$"
      ],
      "text/plain": [
       "Eq(Det(Matrix([\n",
       "[1, pw(mu[0], g2, g3), Derivative(pw(mu[0], g2, g3), mu[0]), Derivative(pw(mu[0], g2, g3), (mu[0], 2))],\n",
       "[1, pw(mu[1], g2, g3), Derivative(pw(mu[1], g2, g3), mu[1]), Derivative(pw(mu[1], g2, g3), (mu[1], 2))],\n",
       "[1, pw(mu[2], g2, g3), Derivative(pw(mu[2], g2, g3), mu[2]), Derivative(pw(mu[2], g2, g3), (mu[2], 2))],\n",
       "[1,     pw(z, g2, g3),         Derivative(pw(z, g2, g3), z),         Derivative(pw(z, g2, g3), (z, 2))]]))*Det(Matrix([\n",
       "[1, pw(mu[0], g2, g3), Derivative(pw(mu[0], g2, g3), mu[0])],\n",
       "[1, pw(mu[1], g2, g3), Derivative(pw(mu[1], g2, g3), mu[1])],\n",
       "[1, pw(mu[2], g2, g3), Derivative(pw(mu[2], g2, g3), mu[2])]]))**(-1)/6, sigma(z - mu[0], g2, g3)*sigma(z - mu[1], g2, g3)*sigma(z - mu[2], g2, g3)*sigma(z + mu[0] + mu[1] + mu[2], g2, g3)/(sigma(z, g2, g3)**4*sigma(-mu[0] - mu[1] - mu[2], g2, g3)*sigma(mu[0], g2, g3)*sigma(mu[1], g2, g3)*sigma(mu[2], g2, g3)))"
      ]
     },
     "execution_count": 262,
     "metadata": {},
     "output_type": "execute_result"
    }
   ],
   "source": [
    "frob_stick_1dz_ratio(3)"
   ]
  },
  {
   "cell_type": "code",
   "execution_count": 263,
   "metadata": {},
   "outputs": [],
   "source": [
    "def constraints_and_subs(Nval):\n",
    "    fsz = frob_stick_1dz_ratio(Nval)\n",
    "    mu_constraint = (mu[Nval], -sum([mu[_i] for _i in range(Nval)]))\n",
    "    sigma_U_subs = [\n",
    "        (\n",
    "            sigma(-z + mu[_i],g2,g3).subs(*mu_constraint), \n",
    "            (rho(z,mu[_i])*sigma(mu[_i],g2,g3)*sigma(z,g2,g3)).subs(*mu_constraint)\n",
    "        ) \n",
    "        for _i in range(Nval+1)\n",
    "    ]\n",
    "    rho_U_subs = [\n",
    "        (\n",
    "            (rho(z,mu[_i])).subs(*mu_constraint),\n",
    "            (sigma(-z + mu[_i],g2,g3)/sigma(mu[_i],g2,g3)/sigma(z,g2,g3)).subs(*mu_constraint)\n",
    "        ) \n",
    "        for _i in range(Nval+1)\n",
    "    ]\n",
    "    all_vars = [*[mu[_i] for _i in range(Nval)], z]\n",
    "    log_diff_eqs = [Eq(Derivative(log(fsz.lhs), mu[0]), Derivative(log(fsz.rhs), mu[0])) for v in all_vars]\n",
    "    Phi_diff_eq = Eq(Phi(*[mu[_i] for _i in range(Nval)],z),fsz.lhs)\n",
    "    phi_rho_eq = Eq(log(fsz.lhs.subs(Phi_diff_eq.rhs, Phi_diff_eq.lhs)), log(fsz.rhs).subs(sigma_U_subs))\n",
    "    phi_rho_system = [ Eq(diff(phi_rho_eq.lhs, v), diff(phi_rho_eq.rhs, v).expand()) for v in all_vars]\n",
    "    phi_rho_system_explicit = [\n",
    "        Eq(\n",
    "            Det(p_matrix_f_s_1dz_diff(Nval, _i))/Det(p_matrix_f_s_1dz(Nval)) -\n",
    "            Det(p_matrix_f_s_diff(Nval - 1, _i))/Det(p_matrix_f_s(Nval - 1)), \n",
    "            Derivative(log(fsz.rhs).subs(sigma_U_subs), mu[_i]).doit().expand()\n",
    "        )\n",
    "        for _i in range(3)\n",
    "    ]\n",
    "    mu_z_diff_equivalences = [\n",
    "        Eq(Derivative(log(fsz.rhs), mu[_k]).expand(),\n",
    "           - Derivative(log(sigma(-z+mu[_k],g2,g3)/sigma(z,g2,g3)/sigma(mu[_k],g2,g3)),z).expand() \n",
    "           + Derivative(log(sigma(-z+mu[3],g2,g3)/sigma(z,g2,g3)/sigma(-mu[0]+mu[Nval],g2,g3)),z).expand() \n",
    "           - zeta_eq.subs(z,mu[_k]).lhs\n",
    "           + zeta_eq.subs(z,mu[Nval]).lhs\n",
    "          ).subs(*mu_constraint)\n",
    "        for _k in range(Nval)\n",
    "    ]\n",
    "    checks_1 = [eq.doit().expand().subs([zeta_eq.subs(z,mu[_i]).args, zeta_eq.subs(z,mu[Nval]).subs(*mu_constraint).args])\n",
    "        for _i, eq in enumerate(mu_z_diff_equivalences)]\n",
    "    rho_mu_z_diff_equivalences = [eq.subs(sigma_U_subs).doit().expand() for eq in mu_z_diff_equivalences]\n",
    "    phi_rho_system_z_diffs = [ex.subs([eq.args for eq in rho_mu_z_diff_equivalences]) for ex in phi_rho_system]\n",
    "    return {\n",
    "        \"mu_constraint\": mu_constraint,\n",
    "        \"sigma_U_subs\": sigma_U_subs,\n",
    "        \"rho_U_subs\": rho_U_subs,\n",
    "        \"all_vars\": all_vars,\n",
    "        \"log_diff_eqs\": log_diff_eqs,\n",
    "        \"Phi_diff_eq\": Phi_diff_eq,\n",
    "        \"phi_rho_eq\": phi_rho_eq,\n",
    "        \"phi_rho_system\": phi_rho_system,\n",
    "        \"phi_rho_system_explicit\": phi_rho_system_explicit,\n",
    "        \"mu_z_diff_equivalences\": mu_z_diff_equivalences,\n",
    "        \"rho_mu_z_diff_equivalences\": rho_mu_z_diff_equivalences,\n",
    "        \"phi_rho_system_z_diffs\": phi_rho_system_z_diffs,\n",
    "        \"checks_1\": checks_1\n",
    "    }"
   ]
  },
  {
   "cell_type": "code",
   "execution_count": 264,
   "metadata": {},
   "outputs": [],
   "source": [
    "setup_n = constraints_and_subs(3)"
   ]
  },
  {
   "cell_type": "markdown",
   "metadata": {},
   "source": [
    "### Example derivation for $\\mu_0$"
   ]
  },
  {
   "cell_type": "markdown",
   "metadata": {},
   "source": [
    "To get separate equations, the identity is differentiated with respect to each of the variables. An example for $\\mu_0$ is shown:"
   ]
  },
  {
   "cell_type": "code",
   "execution_count": 265,
   "metadata": {
    "scrolled": false
   },
   "outputs": [
    {
     "data": {
      "text/latex": [
       "$\\displaystyle \\frac{\\partial}{\\partial {\\mu}_{0}} \\log{\\left(\\frac{\\operatorname{Det}{\\left(\\left[\\begin{matrix}1 & \\operatorname{pw}{\\left({\\mu}_{0},g_{2},g_{3} \\right)} & \\frac{\\partial}{\\partial {\\mu}_{0}} \\operatorname{pw}{\\left({\\mu}_{0},g_{2},g_{3} \\right)} & \\frac{\\partial^{2}}{\\partial {\\mu}_{0}^{2}} \\operatorname{pw}{\\left({\\mu}_{0},g_{2},g_{3} \\right)}\\\\1 & \\operatorname{pw}{\\left({\\mu}_{1},g_{2},g_{3} \\right)} & \\frac{\\partial}{\\partial {\\mu}_{1}} \\operatorname{pw}{\\left({\\mu}_{1},g_{2},g_{3} \\right)} & \\frac{\\partial^{2}}{\\partial {\\mu}_{1}^{2}} \\operatorname{pw}{\\left({\\mu}_{1},g_{2},g_{3} \\right)}\\\\1 & \\operatorname{pw}{\\left({\\mu}_{2},g_{2},g_{3} \\right)} & \\frac{\\partial}{\\partial {\\mu}_{2}} \\operatorname{pw}{\\left({\\mu}_{2},g_{2},g_{3} \\right)} & \\frac{\\partial^{2}}{\\partial {\\mu}_{2}^{2}} \\operatorname{pw}{\\left({\\mu}_{2},g_{2},g_{3} \\right)}\\\\1 & \\operatorname{pw}{\\left(z,g_{2},g_{3} \\right)} & \\frac{\\partial}{\\partial z} \\operatorname{pw}{\\left(z,g_{2},g_{3} \\right)} & \\frac{\\partial^{2}}{\\partial z^{2}} \\operatorname{pw}{\\left(z,g_{2},g_{3} \\right)}\\end{matrix}\\right] \\right)} \\operatorname{Det}^{-1}{\\left(\\left[\\begin{matrix}1 & \\operatorname{pw}{\\left({\\mu}_{0},g_{2},g_{3} \\right)} & \\frac{\\partial}{\\partial {\\mu}_{0}} \\operatorname{pw}{\\left({\\mu}_{0},g_{2},g_{3} \\right)}\\\\1 & \\operatorname{pw}{\\left({\\mu}_{1},g_{2},g_{3} \\right)} & \\frac{\\partial}{\\partial {\\mu}_{1}} \\operatorname{pw}{\\left({\\mu}_{1},g_{2},g_{3} \\right)}\\\\1 & \\operatorname{pw}{\\left({\\mu}_{2},g_{2},g_{3} \\right)} & \\frac{\\partial}{\\partial {\\mu}_{2}} \\operatorname{pw}{\\left({\\mu}_{2},g_{2},g_{3} \\right)}\\end{matrix}\\right] \\right)}}{6} \\right)} = \\frac{\\partial}{\\partial {\\mu}_{0}} \\log{\\left(\\frac{\\sigma{\\left(z - {\\mu}_{0},g_{2},g_{3} \\right)} \\sigma{\\left(z - {\\mu}_{1},g_{2},g_{3} \\right)} \\sigma{\\left(z - {\\mu}_{2},g_{2},g_{3} \\right)} \\sigma{\\left(z + {\\mu}_{0} + {\\mu}_{1} + {\\mu}_{2},g_{2},g_{3} \\right)}}{\\sigma^{4}{\\left(z,g_{2},g_{3} \\right)} \\sigma{\\left(- {\\mu}_{0} - {\\mu}_{1} - {\\mu}_{2},g_{2},g_{3} \\right)} \\sigma{\\left({\\mu}_{0},g_{2},g_{3} \\right)} \\sigma{\\left({\\mu}_{1},g_{2},g_{3} \\right)} \\sigma{\\left({\\mu}_{2},g_{2},g_{3} \\right)}} \\right)}$"
      ],
      "text/plain": [
       "Eq(Derivative(log(Det(Matrix([\n",
       "[1, pw(mu[0], g2, g3), Derivative(pw(mu[0], g2, g3), mu[0]), Derivative(pw(mu[0], g2, g3), (mu[0], 2))],\n",
       "[1, pw(mu[1], g2, g3), Derivative(pw(mu[1], g2, g3), mu[1]), Derivative(pw(mu[1], g2, g3), (mu[1], 2))],\n",
       "[1, pw(mu[2], g2, g3), Derivative(pw(mu[2], g2, g3), mu[2]), Derivative(pw(mu[2], g2, g3), (mu[2], 2))],\n",
       "[1,     pw(z, g2, g3),         Derivative(pw(z, g2, g3), z),         Derivative(pw(z, g2, g3), (z, 2))]]))*Det(Matrix([\n",
       "[1, pw(mu[0], g2, g3), Derivative(pw(mu[0], g2, g3), mu[0])],\n",
       "[1, pw(mu[1], g2, g3), Derivative(pw(mu[1], g2, g3), mu[1])],\n",
       "[1, pw(mu[2], g2, g3), Derivative(pw(mu[2], g2, g3), mu[2])]]))**(-1)/6), mu[0]), Derivative(log(sigma(z - mu[0], g2, g3)*sigma(z - mu[1], g2, g3)*sigma(z - mu[2], g2, g3)*sigma(z + mu[0] + mu[1] + mu[2], g2, g3)/(sigma(z, g2, g3)**4*sigma(-mu[0] - mu[1] - mu[2], g2, g3)*sigma(mu[0], g2, g3)*sigma(mu[1], g2, g3)*sigma(mu[2], g2, g3))), mu[0]))"
      ]
     },
     "execution_count": 265,
     "metadata": {},
     "output_type": "execute_result"
    }
   ],
   "source": [
    "setup_n[\"log_diff_eqs\"][0]"
   ]
  },
  {
   "cell_type": "code",
   "execution_count": 266,
   "metadata": {
    "scrolled": false
   },
   "outputs": [
    {
     "data": {
      "text/latex": [
       "$\\displaystyle \\frac{\\partial}{\\partial {\\mu}_{0}} \\log{\\left(\\frac{\\operatorname{Det}{\\left(\\left[\\begin{matrix}1 & \\operatorname{pw}{\\left({\\mu}_{0},g_{2},g_{3} \\right)} & \\frac{\\partial}{\\partial {\\mu}_{0}} \\operatorname{pw}{\\left({\\mu}_{0},g_{2},g_{3} \\right)} & \\frac{\\partial^{2}}{\\partial {\\mu}_{0}^{2}} \\operatorname{pw}{\\left({\\mu}_{0},g_{2},g_{3} \\right)}\\\\1 & \\operatorname{pw}{\\left({\\mu}_{1},g_{2},g_{3} \\right)} & \\frac{\\partial}{\\partial {\\mu}_{1}} \\operatorname{pw}{\\left({\\mu}_{1},g_{2},g_{3} \\right)} & \\frac{\\partial^{2}}{\\partial {\\mu}_{1}^{2}} \\operatorname{pw}{\\left({\\mu}_{1},g_{2},g_{3} \\right)}\\\\1 & \\operatorname{pw}{\\left({\\mu}_{2},g_{2},g_{3} \\right)} & \\frac{\\partial}{\\partial {\\mu}_{2}} \\operatorname{pw}{\\left({\\mu}_{2},g_{2},g_{3} \\right)} & \\frac{\\partial^{2}}{\\partial {\\mu}_{2}^{2}} \\operatorname{pw}{\\left({\\mu}_{2},g_{2},g_{3} \\right)}\\\\1 & \\operatorname{pw}{\\left(z,g_{2},g_{3} \\right)} & \\frac{\\partial}{\\partial z} \\operatorname{pw}{\\left(z,g_{2},g_{3} \\right)} & \\frac{\\partial^{2}}{\\partial z^{2}} \\operatorname{pw}{\\left(z,g_{2},g_{3} \\right)}\\end{matrix}\\right] \\right)} \\operatorname{Det}^{-1}{\\left(\\left[\\begin{matrix}1 & \\operatorname{pw}{\\left({\\mu}_{0},g_{2},g_{3} \\right)} & \\frac{\\partial}{\\partial {\\mu}_{0}} \\operatorname{pw}{\\left({\\mu}_{0},g_{2},g_{3} \\right)}\\\\1 & \\operatorname{pw}{\\left({\\mu}_{1},g_{2},g_{3} \\right)} & \\frac{\\partial}{\\partial {\\mu}_{1}} \\operatorname{pw}{\\left({\\mu}_{1},g_{2},g_{3} \\right)}\\\\1 & \\operatorname{pw}{\\left({\\mu}_{2},g_{2},g_{3} \\right)} & \\frac{\\partial}{\\partial {\\mu}_{2}} \\operatorname{pw}{\\left({\\mu}_{2},g_{2},g_{3} \\right)}\\end{matrix}\\right] \\right)}}{6} \\right)} = \\frac{\\partial}{\\partial {\\mu}_{0}} \\log{\\left(\\frac{\\sigma{\\left(z - {\\mu}_{0},g_{2},g_{3} \\right)} \\sigma{\\left(z - {\\mu}_{1},g_{2},g_{3} \\right)} \\sigma{\\left(z - {\\mu}_{2},g_{2},g_{3} \\right)} \\sigma{\\left(z + {\\mu}_{0} + {\\mu}_{1} + {\\mu}_{2},g_{2},g_{3} \\right)}}{\\sigma^{4}{\\left(z,g_{2},g_{3} \\right)} \\sigma{\\left(- {\\mu}_{0} - {\\mu}_{1} - {\\mu}_{2},g_{2},g_{3} \\right)} \\sigma{\\left({\\mu}_{0},g_{2},g_{3} \\right)} \\sigma{\\left({\\mu}_{1},g_{2},g_{3} \\right)} \\sigma{\\left({\\mu}_{2},g_{2},g_{3} \\right)}} \\right)}$"
      ],
      "text/plain": [
       "Eq(Derivative(log(Det(Matrix([\n",
       "[1, pw(mu[0], g2, g3), Derivative(pw(mu[0], g2, g3), mu[0]), Derivative(pw(mu[0], g2, g3), (mu[0], 2))],\n",
       "[1, pw(mu[1], g2, g3), Derivative(pw(mu[1], g2, g3), mu[1]), Derivative(pw(mu[1], g2, g3), (mu[1], 2))],\n",
       "[1, pw(mu[2], g2, g3), Derivative(pw(mu[2], g2, g3), mu[2]), Derivative(pw(mu[2], g2, g3), (mu[2], 2))],\n",
       "[1,     pw(z, g2, g3),         Derivative(pw(z, g2, g3), z),         Derivative(pw(z, g2, g3), (z, 2))]]))*Det(Matrix([\n",
       "[1, pw(mu[0], g2, g3), Derivative(pw(mu[0], g2, g3), mu[0])],\n",
       "[1, pw(mu[1], g2, g3), Derivative(pw(mu[1], g2, g3), mu[1])],\n",
       "[1, pw(mu[2], g2, g3), Derivative(pw(mu[2], g2, g3), mu[2])]]))**(-1)/6), mu[0]), Derivative(log(sigma(z - mu[0], g2, g3)*sigma(z - mu[1], g2, g3)*sigma(z - mu[2], g2, g3)*sigma(z + mu[0] + mu[1] + mu[2], g2, g3)/(sigma(z, g2, g3)**4*sigma(-mu[0] - mu[1] - mu[2], g2, g3)*sigma(mu[0], g2, g3)*sigma(mu[1], g2, g3)*sigma(mu[2], g2, g3))), mu[0]))"
      ]
     },
     "execution_count": 266,
     "metadata": {},
     "output_type": "execute_result"
    }
   ],
   "source": [
    "setup_n[\"log_diff_eqs\"][0].subs(setup_n[\"sigma_U_subs\"])"
   ]
  },
  {
   "cell_type": "code",
   "execution_count": 267,
   "metadata": {},
   "outputs": [],
   "source": [
    "# mu_0_example_a = Eq(\n",
    "#     setup_n[\"log_diff_eqs\"][0].subs(sigma_U_subs).lhs, \n",
    "#     setup_n[\"log_diff_eqs\"][0].subs(sigma_U_subs).rhs.doit().expand()\n",
    "# )\n",
    "# mu_0_example_a"
   ]
  },
  {
   "cell_type": "code",
   "execution_count": 268,
   "metadata": {},
   "outputs": [],
   "source": [
    "# Eq(Derivative(log(fs3uz.lhs), mu[0]), \n",
    "#    Derivative(log(Det(p_matrix_f_s_1dz(3))), mu[0]) - Derivative(log(Det(p_matrix_f_s(2))), mu[0])\n",
    "#   )"
   ]
  },
  {
   "cell_type": "code",
   "execution_count": 269,
   "metadata": {},
   "outputs": [],
   "source": [
    "# Eq(Derivative(log(fs3uz.lhs), mu[0]), \n",
    "#    Derivative(Det(p_matrix_f_s_1dz(3)), mu[0])/Det(p_matrix_f_s_1dz(3)) - \n",
    "#    Derivative(Det(p_matrix_f_s(2)), mu[0])/Det(p_matrix_f_s(2))\n",
    "#   )"
   ]
  },
  {
   "cell_type": "code",
   "execution_count": 270,
   "metadata": {
    "scrolled": false
   },
   "outputs": [],
   "source": [
    "# mu_0_example_b = Eq(Derivative(log(fs3uz.lhs), mu[0]), \n",
    "#    Det(p_matrix_f_s_1dz_diff(3, 0))/Det(p_matrix_f_s_1dz(3)) - Det(p_matrix_f_s_diff(2, 0))/Det(p_matrix_f_s(2))\n",
    "#   )\n",
    "# mu_0_example_b"
   ]
  },
  {
   "cell_type": "code",
   "execution_count": 271,
   "metadata": {
    "scrolled": true
   },
   "outputs": [],
   "source": [
    "# mu_0_example_a.subs(*mu_0_example_b.args)"
   ]
  },
  {
   "cell_type": "markdown",
   "metadata": {},
   "source": [
    "### General case for $\\mu_i$\n",
    "\n",
    "The function $\\Phi$ is a function of $z, \\mu_i$, it is used here to denote the FS determinant and thus it can be expressed in terms of derivatives of Weierstrass P or as products of Weierstrass Sigma functions."
   ]
  },
  {
   "cell_type": "code",
   "execution_count": 272,
   "metadata": {
    "scrolled": true
   },
   "outputs": [
    {
     "data": {
      "text/latex": [
       "$\\displaystyle \\Phi{\\left({\\mu}_{0},{\\mu}_{1},{\\mu}_{2},z \\right)} = \\frac{\\operatorname{Det}{\\left(\\left[\\begin{matrix}1 & \\operatorname{pw}{\\left({\\mu}_{0},g_{2},g_{3} \\right)} & \\frac{\\partial}{\\partial {\\mu}_{0}} \\operatorname{pw}{\\left({\\mu}_{0},g_{2},g_{3} \\right)} & \\frac{\\partial^{2}}{\\partial {\\mu}_{0}^{2}} \\operatorname{pw}{\\left({\\mu}_{0},g_{2},g_{3} \\right)}\\\\1 & \\operatorname{pw}{\\left({\\mu}_{1},g_{2},g_{3} \\right)} & \\frac{\\partial}{\\partial {\\mu}_{1}} \\operatorname{pw}{\\left({\\mu}_{1},g_{2},g_{3} \\right)} & \\frac{\\partial^{2}}{\\partial {\\mu}_{1}^{2}} \\operatorname{pw}{\\left({\\mu}_{1},g_{2},g_{3} \\right)}\\\\1 & \\operatorname{pw}{\\left({\\mu}_{2},g_{2},g_{3} \\right)} & \\frac{\\partial}{\\partial {\\mu}_{2}} \\operatorname{pw}{\\left({\\mu}_{2},g_{2},g_{3} \\right)} & \\frac{\\partial^{2}}{\\partial {\\mu}_{2}^{2}} \\operatorname{pw}{\\left({\\mu}_{2},g_{2},g_{3} \\right)}\\\\1 & \\operatorname{pw}{\\left(z,g_{2},g_{3} \\right)} & \\frac{\\partial}{\\partial z} \\operatorname{pw}{\\left(z,g_{2},g_{3} \\right)} & \\frac{\\partial^{2}}{\\partial z^{2}} \\operatorname{pw}{\\left(z,g_{2},g_{3} \\right)}\\end{matrix}\\right] \\right)} \\operatorname{Det}^{-1}{\\left(\\left[\\begin{matrix}1 & \\operatorname{pw}{\\left({\\mu}_{0},g_{2},g_{3} \\right)} & \\frac{\\partial}{\\partial {\\mu}_{0}} \\operatorname{pw}{\\left({\\mu}_{0},g_{2},g_{3} \\right)}\\\\1 & \\operatorname{pw}{\\left({\\mu}_{1},g_{2},g_{3} \\right)} & \\frac{\\partial}{\\partial {\\mu}_{1}} \\operatorname{pw}{\\left({\\mu}_{1},g_{2},g_{3} \\right)}\\\\1 & \\operatorname{pw}{\\left({\\mu}_{2},g_{2},g_{3} \\right)} & \\frac{\\partial}{\\partial {\\mu}_{2}} \\operatorname{pw}{\\left({\\mu}_{2},g_{2},g_{3} \\right)}\\end{matrix}\\right] \\right)}}{6}$"
      ],
      "text/plain": [
       "Eq(Phi(mu[0], mu[1], mu[2], z), Det(Matrix([\n",
       "[1, pw(mu[0], g2, g3), Derivative(pw(mu[0], g2, g3), mu[0]), Derivative(pw(mu[0], g2, g3), (mu[0], 2))],\n",
       "[1, pw(mu[1], g2, g3), Derivative(pw(mu[1], g2, g3), mu[1]), Derivative(pw(mu[1], g2, g3), (mu[1], 2))],\n",
       "[1, pw(mu[2], g2, g3), Derivative(pw(mu[2], g2, g3), mu[2]), Derivative(pw(mu[2], g2, g3), (mu[2], 2))],\n",
       "[1,     pw(z, g2, g3),         Derivative(pw(z, g2, g3), z),         Derivative(pw(z, g2, g3), (z, 2))]]))*Det(Matrix([\n",
       "[1, pw(mu[0], g2, g3), Derivative(pw(mu[0], g2, g3), mu[0])],\n",
       "[1, pw(mu[1], g2, g3), Derivative(pw(mu[1], g2, g3), mu[1])],\n",
       "[1, pw(mu[2], g2, g3), Derivative(pw(mu[2], g2, g3), mu[2])]]))**(-1)/6)"
      ]
     },
     "execution_count": 272,
     "metadata": {},
     "output_type": "execute_result"
    }
   ],
   "source": [
    "setup_n[\"Phi_diff_eq\"]"
   ]
  },
  {
   "cell_type": "code",
   "execution_count": 273,
   "metadata": {},
   "outputs": [
    {
     "data": {
      "text/latex": [
       "$\\displaystyle \\log{\\left(\\Phi{\\left({\\mu}_{0},{\\mu}_{1},{\\mu}_{2},z \\right)} \\right)} = \\log{\\left(\\frac{\\sigma{\\left(z - {\\mu}_{0},g_{2},g_{3} \\right)} \\sigma{\\left(z - {\\mu}_{1},g_{2},g_{3} \\right)} \\sigma{\\left(z - {\\mu}_{2},g_{2},g_{3} \\right)} \\sigma{\\left(z + {\\mu}_{0} + {\\mu}_{1} + {\\mu}_{2},g_{2},g_{3} \\right)}}{\\sigma^{4}{\\left(z,g_{2},g_{3} \\right)} \\sigma{\\left(- {\\mu}_{0} - {\\mu}_{1} - {\\mu}_{2},g_{2},g_{3} \\right)} \\sigma{\\left({\\mu}_{0},g_{2},g_{3} \\right)} \\sigma{\\left({\\mu}_{1},g_{2},g_{3} \\right)} \\sigma{\\left({\\mu}_{2},g_{2},g_{3} \\right)}} \\right)}$"
      ],
      "text/plain": [
       "Eq(log(Phi(mu[0], mu[1], mu[2], z)), log(sigma(z - mu[0], g2, g3)*sigma(z - mu[1], g2, g3)*sigma(z - mu[2], g2, g3)*sigma(z + mu[0] + mu[1] + mu[2], g2, g3)/(sigma(z, g2, g3)**4*sigma(-mu[0] - mu[1] - mu[2], g2, g3)*sigma(mu[0], g2, g3)*sigma(mu[1], g2, g3)*sigma(mu[2], g2, g3))))"
      ]
     },
     "execution_count": 273,
     "metadata": {},
     "output_type": "execute_result"
    }
   ],
   "source": [
    "setup_n[\"phi_rho_eq\"]"
   ]
  },
  {
   "cell_type": "code",
   "execution_count": 274,
   "metadata": {},
   "outputs": [
    {
     "data": {
      "text/latex": [
       "$\\displaystyle \\frac{\\frac{\\partial}{\\partial {\\mu}_{0}} \\Phi{\\left({\\mu}_{0},{\\mu}_{1},{\\mu}_{2},z \\right)}}{\\Phi{\\left({\\mu}_{0},{\\mu}_{1},{\\mu}_{2},z \\right)}} = - \\frac{\\frac{\\partial}{\\partial {\\mu}_{0}} \\sigma{\\left({\\mu}_{0},g_{2},g_{3} \\right)}}{\\sigma{\\left({\\mu}_{0},g_{2},g_{3} \\right)}} + \\frac{\\left. \\frac{\\partial}{\\partial \\xi_{1}} \\sigma{\\left(\\xi_{1},g_{2},g_{3} \\right)} \\right|_{\\substack{ \\xi_{1}=z + {\\mu}_{0} + {\\mu}_{1} + {\\mu}_{2} }}}{\\sigma{\\left(z + {\\mu}_{0} + {\\mu}_{1} + {\\mu}_{2},g_{2},g_{3} \\right)}} + \\frac{\\left. \\frac{\\partial}{\\partial \\xi_{1}} \\sigma{\\left(\\xi_{1},g_{2},g_{3} \\right)} \\right|_{\\substack{ \\xi_{1}=- {\\mu}_{0} - {\\mu}_{1} - {\\mu}_{2} }}}{\\sigma{\\left(- {\\mu}_{0} - {\\mu}_{1} - {\\mu}_{2},g_{2},g_{3} \\right)}} - \\frac{\\left. \\frac{\\partial}{\\partial \\xi_{1}} \\sigma{\\left(\\xi_{1},g_{2},g_{3} \\right)} \\right|_{\\substack{ \\xi_{1}=z - {\\mu}_{0} }}}{\\sigma{\\left(z - {\\mu}_{0},g_{2},g_{3} \\right)}}$"
      ],
      "text/plain": [
       "Eq(Derivative(Phi(mu[0], mu[1], mu[2], z), mu[0])/Phi(mu[0], mu[1], mu[2], z), -Derivative(sigma(mu[0], g2, g3), mu[0])/sigma(mu[0], g2, g3) + Subs(Derivative(sigma(_xi_1, g2, g3), _xi_1), _xi_1, z + mu[0] + mu[1] + mu[2])/sigma(z + mu[0] + mu[1] + mu[2], g2, g3) + Subs(Derivative(sigma(_xi_1, g2, g3), _xi_1), _xi_1, -mu[0] - mu[1] - mu[2])/sigma(-mu[0] - mu[1] - mu[2], g2, g3) - Subs(Derivative(sigma(_xi_1, g2, g3), _xi_1), _xi_1, z - mu[0])/sigma(z - mu[0], g2, g3))"
      ]
     },
     "execution_count": 274,
     "metadata": {},
     "output_type": "execute_result"
    },
    {
     "data": {
      "text/latex": [
       "$\\displaystyle \\frac{\\frac{\\partial}{\\partial {\\mu}_{1}} \\Phi{\\left({\\mu}_{0},{\\mu}_{1},{\\mu}_{2},z \\right)}}{\\Phi{\\left({\\mu}_{0},{\\mu}_{1},{\\mu}_{2},z \\right)}} = - \\frac{\\frac{\\partial}{\\partial {\\mu}_{1}} \\sigma{\\left({\\mu}_{1},g_{2},g_{3} \\right)}}{\\sigma{\\left({\\mu}_{1},g_{2},g_{3} \\right)}} + \\frac{\\left. \\frac{\\partial}{\\partial \\xi_{1}} \\sigma{\\left(\\xi_{1},g_{2},g_{3} \\right)} \\right|_{\\substack{ \\xi_{1}=z + {\\mu}_{0} + {\\mu}_{1} + {\\mu}_{2} }}}{\\sigma{\\left(z + {\\mu}_{0} + {\\mu}_{1} + {\\mu}_{2},g_{2},g_{3} \\right)}} + \\frac{\\left. \\frac{\\partial}{\\partial \\xi_{1}} \\sigma{\\left(\\xi_{1},g_{2},g_{3} \\right)} \\right|_{\\substack{ \\xi_{1}=- {\\mu}_{0} - {\\mu}_{1} - {\\mu}_{2} }}}{\\sigma{\\left(- {\\mu}_{0} - {\\mu}_{1} - {\\mu}_{2},g_{2},g_{3} \\right)}} - \\frac{\\left. \\frac{\\partial}{\\partial \\xi_{1}} \\sigma{\\left(\\xi_{1},g_{2},g_{3} \\right)} \\right|_{\\substack{ \\xi_{1}=z - {\\mu}_{1} }}}{\\sigma{\\left(z - {\\mu}_{1},g_{2},g_{3} \\right)}}$"
      ],
      "text/plain": [
       "Eq(Derivative(Phi(mu[0], mu[1], mu[2], z), mu[1])/Phi(mu[0], mu[1], mu[2], z), -Derivative(sigma(mu[1], g2, g3), mu[1])/sigma(mu[1], g2, g3) + Subs(Derivative(sigma(_xi_1, g2, g3), _xi_1), _xi_1, z + mu[0] + mu[1] + mu[2])/sigma(z + mu[0] + mu[1] + mu[2], g2, g3) + Subs(Derivative(sigma(_xi_1, g2, g3), _xi_1), _xi_1, -mu[0] - mu[1] - mu[2])/sigma(-mu[0] - mu[1] - mu[2], g2, g3) - Subs(Derivative(sigma(_xi_1, g2, g3), _xi_1), _xi_1, z - mu[1])/sigma(z - mu[1], g2, g3))"
      ]
     },
     "execution_count": 274,
     "metadata": {},
     "output_type": "execute_result"
    },
    {
     "data": {
      "text/latex": [
       "$\\displaystyle \\frac{\\frac{\\partial}{\\partial {\\mu}_{2}} \\Phi{\\left({\\mu}_{0},{\\mu}_{1},{\\mu}_{2},z \\right)}}{\\Phi{\\left({\\mu}_{0},{\\mu}_{1},{\\mu}_{2},z \\right)}} = - \\frac{\\frac{\\partial}{\\partial {\\mu}_{2}} \\sigma{\\left({\\mu}_{2},g_{2},g_{3} \\right)}}{\\sigma{\\left({\\mu}_{2},g_{2},g_{3} \\right)}} + \\frac{\\left. \\frac{\\partial}{\\partial \\xi_{1}} \\sigma{\\left(\\xi_{1},g_{2},g_{3} \\right)} \\right|_{\\substack{ \\xi_{1}=z + {\\mu}_{0} + {\\mu}_{1} + {\\mu}_{2} }}}{\\sigma{\\left(z + {\\mu}_{0} + {\\mu}_{1} + {\\mu}_{2},g_{2},g_{3} \\right)}} + \\frac{\\left. \\frac{\\partial}{\\partial \\xi_{1}} \\sigma{\\left(\\xi_{1},g_{2},g_{3} \\right)} \\right|_{\\substack{ \\xi_{1}=- {\\mu}_{0} - {\\mu}_{1} - {\\mu}_{2} }}}{\\sigma{\\left(- {\\mu}_{0} - {\\mu}_{1} - {\\mu}_{2},g_{2},g_{3} \\right)}} - \\frac{\\left. \\frac{\\partial}{\\partial \\xi_{1}} \\sigma{\\left(\\xi_{1},g_{2},g_{3} \\right)} \\right|_{\\substack{ \\xi_{1}=z - {\\mu}_{2} }}}{\\sigma{\\left(z - {\\mu}_{2},g_{2},g_{3} \\right)}}$"
      ],
      "text/plain": [
       "Eq(Derivative(Phi(mu[0], mu[1], mu[2], z), mu[2])/Phi(mu[0], mu[1], mu[2], z), -Derivative(sigma(mu[2], g2, g3), mu[2])/sigma(mu[2], g2, g3) + Subs(Derivative(sigma(_xi_1, g2, g3), _xi_1), _xi_1, z + mu[0] + mu[1] + mu[2])/sigma(z + mu[0] + mu[1] + mu[2], g2, g3) + Subs(Derivative(sigma(_xi_1, g2, g3), _xi_1), _xi_1, -mu[0] - mu[1] - mu[2])/sigma(-mu[0] - mu[1] - mu[2], g2, g3) - Subs(Derivative(sigma(_xi_1, g2, g3), _xi_1), _xi_1, z - mu[2])/sigma(z - mu[2], g2, g3))"
      ]
     },
     "execution_count": 274,
     "metadata": {},
     "output_type": "execute_result"
    },
    {
     "data": {
      "text/latex": [
       "$\\displaystyle \\frac{\\frac{\\partial}{\\partial z} \\Phi{\\left({\\mu}_{0},{\\mu}_{1},{\\mu}_{2},z \\right)}}{\\Phi{\\left({\\mu}_{0},{\\mu}_{1},{\\mu}_{2},z \\right)}} = \\frac{\\left. \\frac{\\partial}{\\partial \\xi_{1}} \\sigma{\\left(\\xi_{1},g_{2},g_{3} \\right)} \\right|_{\\substack{ \\xi_{1}=z + {\\mu}_{0} + {\\mu}_{1} + {\\mu}_{2} }}}{\\sigma{\\left(z + {\\mu}_{0} + {\\mu}_{1} + {\\mu}_{2},g_{2},g_{3} \\right)}} + \\frac{\\left. \\frac{\\partial}{\\partial \\xi_{1}} \\sigma{\\left(\\xi_{1},g_{2},g_{3} \\right)} \\right|_{\\substack{ \\xi_{1}=z - {\\mu}_{2} }}}{\\sigma{\\left(z - {\\mu}_{2},g_{2},g_{3} \\right)}} + \\frac{\\left. \\frac{\\partial}{\\partial \\xi_{1}} \\sigma{\\left(\\xi_{1},g_{2},g_{3} \\right)} \\right|_{\\substack{ \\xi_{1}=z - {\\mu}_{1} }}}{\\sigma{\\left(z - {\\mu}_{1},g_{2},g_{3} \\right)}} + \\frac{\\left. \\frac{\\partial}{\\partial \\xi_{1}} \\sigma{\\left(\\xi_{1},g_{2},g_{3} \\right)} \\right|_{\\substack{ \\xi_{1}=z - {\\mu}_{0} }}}{\\sigma{\\left(z - {\\mu}_{0},g_{2},g_{3} \\right)}} - \\frac{4 \\frac{\\partial}{\\partial z} \\sigma{\\left(z,g_{2},g_{3} \\right)}}{\\sigma{\\left(z,g_{2},g_{3} \\right)}}$"
      ],
      "text/plain": [
       "Eq(Derivative(Phi(mu[0], mu[1], mu[2], z), z)/Phi(mu[0], mu[1], mu[2], z), Subs(Derivative(sigma(_xi_1, g2, g3), _xi_1), _xi_1, z + mu[0] + mu[1] + mu[2])/sigma(z + mu[0] + mu[1] + mu[2], g2, g3) + Subs(Derivative(sigma(_xi_1, g2, g3), _xi_1), _xi_1, z - mu[2])/sigma(z - mu[2], g2, g3) + Subs(Derivative(sigma(_xi_1, g2, g3), _xi_1), _xi_1, z - mu[1])/sigma(z - mu[1], g2, g3) + Subs(Derivative(sigma(_xi_1, g2, g3), _xi_1), _xi_1, z - mu[0])/sigma(z - mu[0], g2, g3) - 4*Derivative(sigma(z, g2, g3), z)/sigma(z, g2, g3))"
      ]
     },
     "execution_count": 274,
     "metadata": {},
     "output_type": "execute_result"
    }
   ],
   "source": [
    "for i in range(4):\n",
    "    setup_n[\"phi_rho_system\"][i]"
   ]
  },
  {
   "cell_type": "code",
   "execution_count": 275,
   "metadata": {},
   "outputs": [],
   "source": [
    "# setup_n[\"phi_rho_system_explicit\"][0]"
   ]
  },
  {
   "cell_type": "code",
   "execution_count": 276,
   "metadata": {},
   "outputs": [],
   "source": [
    "# setup_n[\"phi_rho_system_explicit\"][1]"
   ]
  },
  {
   "cell_type": "code",
   "execution_count": 277,
   "metadata": {},
   "outputs": [],
   "source": [
    "# setup_n[\"phi_rho_system_explicit\"][2]"
   ]
  },
  {
   "cell_type": "markdown",
   "metadata": {},
   "source": [
    "### Differentiating the FS determinant w.r.t $z$"
   ]
  },
  {
   "cell_type": "code",
   "execution_count": 278,
   "metadata": {},
   "outputs": [],
   "source": [
    "# Eq(Derivative(log(fs3uz.lhs), z), Derivative(log(fs3uz.rhs).subs(sigma_U_subs), z).doit().expand())"
   ]
  },
  {
   "cell_type": "code",
   "execution_count": 279,
   "metadata": {
    "scrolled": true
   },
   "outputs": [],
   "source": [
    "# Eq(Derivative(Det(p_matrix_f_s_1dz(3)), z)/Det(p_matrix_f_s_1dz(3)),\n",
    "#    Derivative(log(fs3uz.rhs).subs(sigma_U_subs), z).doit().expand())"
   ]
  },
  {
   "cell_type": "code",
   "execution_count": 280,
   "metadata": {
    "scrolled": true
   },
   "outputs": [],
   "source": [
    "# Eq(Det(p_matrix_f_s_1dz_diff(3,3))/Det(p_matrix_f_s_1dz(3)),\n",
    "#    Derivative(log(fs3uz.rhs).subs(sigma_U_subs), z).doit().expand())"
   ]
  },
  {
   "cell_type": "markdown",
   "metadata": {},
   "source": [
    "### Relating differentiation w.r.t $\\mu_i$ to differentiation w.r.t $z$\n",
    "\n",
    "Now that separate equations have been derived by differentiating w.r.t to each of the variables, the derivatives w.r.t to the variables other than $z$ can be expressed as derivatives w.r.t. $z$ thus making a system of ordinary differential equations."
   ]
  },
  {
   "cell_type": "code",
   "execution_count": 281,
   "metadata": {},
   "outputs": [
    {
     "data": {
      "text/latex": [
       "$\\displaystyle \\frac{\\frac{\\partial}{\\partial {\\mu}_{0}} \\Phi{\\left({\\mu}_{0},{\\mu}_{1},{\\mu}_{2},z \\right)}}{\\Phi{\\left({\\mu}_{0},{\\mu}_{1},{\\mu}_{2},z \\right)}} = \\operatorname{zw}{\\left(- {\\mu}_{0} - {\\mu}_{1} - {\\mu}_{2},g_{2},g_{3} \\right)} - \\operatorname{zw}{\\left({\\mu}_{0},g_{2},g_{3} \\right)} - \\frac{\\frac{\\partial}{\\partial z} \\rho{\\left(z,{\\mu}_{0} \\right)}}{\\rho{\\left(z,{\\mu}_{0} \\right)}} + \\frac{\\frac{\\partial}{\\partial z} \\rho{\\left(z,- {\\mu}_{0} - {\\mu}_{1} - {\\mu}_{2} \\right)}}{\\rho{\\left(z,- {\\mu}_{0} - {\\mu}_{1} - {\\mu}_{2} \\right)}}$"
      ],
      "text/plain": [
       "Eq(Derivative(Phi(mu[0], mu[1], mu[2], z), mu[0])/Phi(mu[0], mu[1], mu[2], z), zw(-mu[0] - mu[1] - mu[2], g2, g3) - zw(mu[0], g2, g3) - Derivative(rho(z, mu[0]), z)/rho(z, mu[0]) + Derivative(rho(z, -mu[0] - mu[1] - mu[2]), z)/rho(z, -mu[0] - mu[1] - mu[2]))"
      ]
     },
     "execution_count": 281,
     "metadata": {},
     "output_type": "execute_result"
    },
    {
     "data": {
      "text/latex": [
       "$\\displaystyle \\frac{\\frac{\\partial}{\\partial {\\mu}_{1}} \\Phi{\\left({\\mu}_{0},{\\mu}_{1},{\\mu}_{2},z \\right)}}{\\Phi{\\left({\\mu}_{0},{\\mu}_{1},{\\mu}_{2},z \\right)}} = \\operatorname{zw}{\\left(- {\\mu}_{0} - {\\mu}_{1} - {\\mu}_{2},g_{2},g_{3} \\right)} - \\operatorname{zw}{\\left({\\mu}_{1},g_{2},g_{3} \\right)} - \\frac{\\frac{\\partial}{\\partial z} \\rho{\\left(z,{\\mu}_{1} \\right)}}{\\rho{\\left(z,{\\mu}_{1} \\right)}} + \\frac{\\frac{\\partial}{\\partial z} \\rho{\\left(z,- {\\mu}_{0} - {\\mu}_{1} - {\\mu}_{2} \\right)}}{\\rho{\\left(z,- {\\mu}_{0} - {\\mu}_{1} - {\\mu}_{2} \\right)}}$"
      ],
      "text/plain": [
       "Eq(Derivative(Phi(mu[0], mu[1], mu[2], z), mu[1])/Phi(mu[0], mu[1], mu[2], z), zw(-mu[0] - mu[1] - mu[2], g2, g3) - zw(mu[1], g2, g3) - Derivative(rho(z, mu[1]), z)/rho(z, mu[1]) + Derivative(rho(z, -mu[0] - mu[1] - mu[2]), z)/rho(z, -mu[0] - mu[1] - mu[2]))"
      ]
     },
     "execution_count": 281,
     "metadata": {},
     "output_type": "execute_result"
    },
    {
     "data": {
      "text/latex": [
       "$\\displaystyle \\frac{\\frac{\\partial}{\\partial {\\mu}_{2}} \\Phi{\\left({\\mu}_{0},{\\mu}_{1},{\\mu}_{2},z \\right)}}{\\Phi{\\left({\\mu}_{0},{\\mu}_{1},{\\mu}_{2},z \\right)}} = \\operatorname{zw}{\\left(- {\\mu}_{0} - {\\mu}_{1} - {\\mu}_{2},g_{2},g_{3} \\right)} - \\operatorname{zw}{\\left({\\mu}_{2},g_{2},g_{3} \\right)} - \\frac{\\frac{\\partial}{\\partial z} \\rho{\\left(z,{\\mu}_{2} \\right)}}{\\rho{\\left(z,{\\mu}_{2} \\right)}} + \\frac{\\frac{\\partial}{\\partial z} \\rho{\\left(z,- {\\mu}_{0} - {\\mu}_{1} - {\\mu}_{2} \\right)}}{\\rho{\\left(z,- {\\mu}_{0} - {\\mu}_{1} - {\\mu}_{2} \\right)}}$"
      ],
      "text/plain": [
       "Eq(Derivative(Phi(mu[0], mu[1], mu[2], z), mu[2])/Phi(mu[0], mu[1], mu[2], z), zw(-mu[0] - mu[1] - mu[2], g2, g3) - zw(mu[2], g2, g3) - Derivative(rho(z, mu[2]), z)/rho(z, mu[2]) + Derivative(rho(z, -mu[0] - mu[1] - mu[2]), z)/rho(z, -mu[0] - mu[1] - mu[2]))"
      ]
     },
     "execution_count": 281,
     "metadata": {},
     "output_type": "execute_result"
    },
    {
     "data": {
      "text/latex": [
       "$\\displaystyle \\frac{\\frac{\\partial}{\\partial z} \\Phi{\\left({\\mu}_{0},{\\mu}_{1},{\\mu}_{2},z \\right)}}{\\Phi{\\left({\\mu}_{0},{\\mu}_{1},{\\mu}_{2},z \\right)}} = \\frac{\\left. \\frac{\\partial}{\\partial \\xi_{1}} \\sigma{\\left(\\xi_{1},g_{2},g_{3} \\right)} \\right|_{\\substack{ \\xi_{1}=z + {\\mu}_{0} + {\\mu}_{1} + {\\mu}_{2} }}}{\\sigma{\\left(z + {\\mu}_{0} + {\\mu}_{1} + {\\mu}_{2},g_{2},g_{3} \\right)}} + \\frac{\\left. \\frac{\\partial}{\\partial \\xi_{1}} \\sigma{\\left(\\xi_{1},g_{2},g_{3} \\right)} \\right|_{\\substack{ \\xi_{1}=z - {\\mu}_{2} }}}{\\sigma{\\left(z - {\\mu}_{2},g_{2},g_{3} \\right)}} + \\frac{\\left. \\frac{\\partial}{\\partial \\xi_{1}} \\sigma{\\left(\\xi_{1},g_{2},g_{3} \\right)} \\right|_{\\substack{ \\xi_{1}=z - {\\mu}_{1} }}}{\\sigma{\\left(z - {\\mu}_{1},g_{2},g_{3} \\right)}} + \\frac{\\left. \\frac{\\partial}{\\partial \\xi_{1}} \\sigma{\\left(\\xi_{1},g_{2},g_{3} \\right)} \\right|_{\\substack{ \\xi_{1}=z - {\\mu}_{0} }}}{\\sigma{\\left(z - {\\mu}_{0},g_{2},g_{3} \\right)}} - \\frac{4 \\frac{\\partial}{\\partial z} \\sigma{\\left(z,g_{2},g_{3} \\right)}}{\\sigma{\\left(z,g_{2},g_{3} \\right)}}$"
      ],
      "text/plain": [
       "Eq(Derivative(Phi(mu[0], mu[1], mu[2], z), z)/Phi(mu[0], mu[1], mu[2], z), Subs(Derivative(sigma(_xi_1, g2, g3), _xi_1), _xi_1, z + mu[0] + mu[1] + mu[2])/sigma(z + mu[0] + mu[1] + mu[2], g2, g3) + Subs(Derivative(sigma(_xi_1, g2, g3), _xi_1), _xi_1, z - mu[2])/sigma(z - mu[2], g2, g3) + Subs(Derivative(sigma(_xi_1, g2, g3), _xi_1), _xi_1, z - mu[1])/sigma(z - mu[1], g2, g3) + Subs(Derivative(sigma(_xi_1, g2, g3), _xi_1), _xi_1, z - mu[0])/sigma(z - mu[0], g2, g3) - 4*Derivative(sigma(z, g2, g3), z)/sigma(z, g2, g3))"
      ]
     },
     "execution_count": 281,
     "metadata": {},
     "output_type": "execute_result"
    }
   ],
   "source": [
    "for eq in setup_n[\"phi_rho_system_z_diffs\"]:\n",
    "    eq"
   ]
  },
  {
   "cell_type": "markdown",
   "metadata": {},
   "source": [
    "### Matrix formalism\n",
    "\n",
    "The system of ordinary diffrential equations in the $z$ variable can then be put into matrix form where it is observed that the matrix coupling logarithmic derivatives of $\\rho$ w.r.t $z$ has a very special form that is easily inverted. This pattern scales to higher dimensions."
   ]
  },
  {
   "cell_type": "code",
   "execution_count": 282,
   "metadata": {},
   "outputs": [],
   "source": [
    "def n_coupling_matrix(Nval, zero_last_row=False):\n",
    "    def ij_val(i, j, Nval):\n",
    "        if (i == j):\n",
    "            if zero_last_row & (i == Nval):\n",
    "                return 0\n",
    "            else:\n",
    "                return 1\n",
    "        elif i == Nval:\n",
    "            return -1\n",
    "        elif j == Nval:\n",
    "            if zero_last_row:\n",
    "                return 0\n",
    "            else:\n",
    "                return 1\n",
    "        else:\n",
    "            return 0\n",
    "    return Matrix([ [ij_val(i, j, Nval) for i in range(Nval + 1)] for j in range(Nval + 1) ])\n",
    "\n",
    "def inv_n_coupling_matrix(Nval):\n",
    "    def ij_val(i, j, Nval):\n",
    "        if (i == j) & (i != Nval):\n",
    "            return Nval\n",
    "        elif i == Nval:\n",
    "            return 1\n",
    "        else:\n",
    "            return -1\n",
    "    return Matrix([ [ij_val(i, j, Nval) for i in range(Nval + 1)] for j in range(Nval + 1) ]) / (Nval + 1)\n",
    "\n",
    "# n_coupling_matrix(8)*inv_n_coupling_matrix(8)\n",
    "\n",
    "def matrix_formalism_rho_phi(Nval):\n",
    "    setup_n = constraints_and_subs(Nval)\n",
    "    return Eq(Matrix([eq.lhs for eq in setup_n[\"phi_rho_system_z_diffs\"]]),\n",
    "       -n_coupling_matrix(Nval) * \n",
    "       Matrix([*[diff(log(rho(z,mu[_i])),z) for _i in range(Nval)], \n",
    "               diff(log(rho(z,-sum([mu[_i] for _i in range(Nval)]))),z)]) -\n",
    "       n_coupling_matrix(Nval, zero_last_row=True) * \n",
    "       Matrix([*[zw(mu[_i], g2, g3) for _i in range(Nval)], zw(-sum([mu[_i] for _i in range(Nval)]), g2, g3)])\n",
    "      )\n",
    "\n",
    "def matrix_formalism_solved_for_rho(Nval):\n",
    "    return Eq(\n",
    "        inv_n_coupling_matrix(Nval) * matrix_formalism_rho_phi(Nval).lhs, \n",
    "        inv_n_coupling_matrix(Nval) * matrix_formalism_rho_phi(Nval).rhs\n",
    "    )"
   ]
  },
  {
   "cell_type": "code",
   "execution_count": 283,
   "metadata": {
    "scrolled": true
   },
   "outputs": [
    {
     "data": {
      "text/latex": [
       "$\\displaystyle \\left[\\begin{matrix}\\frac{\\frac{\\partial}{\\partial z} \\Phi{\\left({\\mu}_{0},{\\mu}_{1},z \\right)}}{3 \\Phi{\\left({\\mu}_{0},{\\mu}_{1},z \\right)}} + \\frac{2 \\frac{\\partial}{\\partial {\\mu}_{0}} \\Phi{\\left({\\mu}_{0},{\\mu}_{1},z \\right)}}{3 \\Phi{\\left({\\mu}_{0},{\\mu}_{1},z \\right)}} - \\frac{\\frac{\\partial}{\\partial {\\mu}_{1}} \\Phi{\\left({\\mu}_{0},{\\mu}_{1},z \\right)}}{3 \\Phi{\\left({\\mu}_{0},{\\mu}_{1},z \\right)}}\\\\\\frac{\\frac{\\partial}{\\partial z} \\Phi{\\left({\\mu}_{0},{\\mu}_{1},z \\right)}}{3 \\Phi{\\left({\\mu}_{0},{\\mu}_{1},z \\right)}} - \\frac{\\frac{\\partial}{\\partial {\\mu}_{0}} \\Phi{\\left({\\mu}_{0},{\\mu}_{1},z \\right)}}{3 \\Phi{\\left({\\mu}_{0},{\\mu}_{1},z \\right)}} + \\frac{2 \\frac{\\partial}{\\partial {\\mu}_{1}} \\Phi{\\left({\\mu}_{0},{\\mu}_{1},z \\right)}}{3 \\Phi{\\left({\\mu}_{0},{\\mu}_{1},z \\right)}}\\\\\\frac{\\frac{\\partial}{\\partial z} \\Phi{\\left({\\mu}_{0},{\\mu}_{1},z \\right)}}{3 \\Phi{\\left({\\mu}_{0},{\\mu}_{1},z \\right)}} - \\frac{\\frac{\\partial}{\\partial {\\mu}_{0}} \\Phi{\\left({\\mu}_{0},{\\mu}_{1},z \\right)}}{3 \\Phi{\\left({\\mu}_{0},{\\mu}_{1},z \\right)}} - \\frac{\\frac{\\partial}{\\partial {\\mu}_{1}} \\Phi{\\left({\\mu}_{0},{\\mu}_{1},z \\right)}}{3 \\Phi{\\left({\\mu}_{0},{\\mu}_{1},z \\right)}}\\end{matrix}\\right] = \\left[\\begin{matrix}\\frac{\\operatorname{zw}{\\left(- {\\mu}_{0} - {\\mu}_{1},g_{2},g_{3} \\right)}}{3} - \\frac{2 \\operatorname{zw}{\\left({\\mu}_{0},g_{2},g_{3} \\right)}}{3} + \\frac{\\operatorname{zw}{\\left({\\mu}_{1},g_{2},g_{3} \\right)}}{3} - \\frac{\\frac{\\partial}{\\partial z} \\rho{\\left(z,{\\mu}_{0} \\right)}}{\\rho{\\left(z,{\\mu}_{0} \\right)}}\\\\\\frac{\\operatorname{zw}{\\left(- {\\mu}_{0} - {\\mu}_{1},g_{2},g_{3} \\right)}}{3} + \\frac{\\operatorname{zw}{\\left({\\mu}_{0},g_{2},g_{3} \\right)}}{3} - \\frac{2 \\operatorname{zw}{\\left({\\mu}_{1},g_{2},g_{3} \\right)}}{3} - \\frac{\\frac{\\partial}{\\partial z} \\rho{\\left(z,{\\mu}_{1} \\right)}}{\\rho{\\left(z,{\\mu}_{1} \\right)}}\\\\- \\frac{2 \\operatorname{zw}{\\left(- {\\mu}_{0} - {\\mu}_{1},g_{2},g_{3} \\right)}}{3} + \\frac{\\operatorname{zw}{\\left({\\mu}_{0},g_{2},g_{3} \\right)}}{3} + \\frac{\\operatorname{zw}{\\left({\\mu}_{1},g_{2},g_{3} \\right)}}{3} - \\frac{\\frac{\\partial}{\\partial z} \\rho{\\left(z,- {\\mu}_{0} - {\\mu}_{1} \\right)}}{\\rho{\\left(z,- {\\mu}_{0} - {\\mu}_{1} \\right)}}\\end{matrix}\\right]$"
      ],
      "text/plain": [
       "Eq(Matrix([\n",
       "[Derivative(Phi(mu[0], mu[1], z), z)/(3*Phi(mu[0], mu[1], z)) + 2*Derivative(Phi(mu[0], mu[1], z), mu[0])/(3*Phi(mu[0], mu[1], z)) - Derivative(Phi(mu[0], mu[1], z), mu[1])/(3*Phi(mu[0], mu[1], z))],\n",
       "[Derivative(Phi(mu[0], mu[1], z), z)/(3*Phi(mu[0], mu[1], z)) - Derivative(Phi(mu[0], mu[1], z), mu[0])/(3*Phi(mu[0], mu[1], z)) + 2*Derivative(Phi(mu[0], mu[1], z), mu[1])/(3*Phi(mu[0], mu[1], z))],\n",
       "[  Derivative(Phi(mu[0], mu[1], z), z)/(3*Phi(mu[0], mu[1], z)) - Derivative(Phi(mu[0], mu[1], z), mu[0])/(3*Phi(mu[0], mu[1], z)) - Derivative(Phi(mu[0], mu[1], z), mu[1])/(3*Phi(mu[0], mu[1], z))]]), Matrix([\n",
       "[                   zw(-mu[0] - mu[1], g2, g3)/3 - 2*zw(mu[0], g2, g3)/3 + zw(mu[1], g2, g3)/3 - Derivative(rho(z, mu[0]), z)/rho(z, mu[0])],\n",
       "[                   zw(-mu[0] - mu[1], g2, g3)/3 + zw(mu[0], g2, g3)/3 - 2*zw(mu[1], g2, g3)/3 - Derivative(rho(z, mu[1]), z)/rho(z, mu[1])],\n",
       "[-2*zw(-mu[0] - mu[1], g2, g3)/3 + zw(mu[0], g2, g3)/3 + zw(mu[1], g2, g3)/3 - Derivative(rho(z, -mu[0] - mu[1]), z)/rho(z, -mu[0] - mu[1])]]))"
      ]
     },
     "execution_count": 283,
     "metadata": {},
     "output_type": "execute_result"
    }
   ],
   "source": [
    "matrix_formalism_solved_for_rho(2)"
   ]
  },
  {
   "cell_type": "markdown",
   "metadata": {},
   "source": [
    "At this point it has been shown that a system of coupled ordinary differential equations relates the mode functions $\\rho(z,\\mu_i)$ to logarithmic derivatives of the determinant of derivatives of Weierstrass P functions. These determinants can be Laplace expanded in derivatives of Weierstrass P w.r.t $z$. The plan then is to substitute derivatives of Weierstrass P w.r.t $z$ for polynomials in $\\rho(z,\\mu_i)$ and their conjugates $\\rho(z,-\\mu_i)$ (sometimes but not always complex conjugates) to obtain the coupled mode system for $\\rho(z,\\mu_i)$. Hopefully these will be easily recognisable as the coupled mode systems of Nonlinear optics at least for the quadratic and cubic nonlinearity cases."
   ]
  },
  {
   "cell_type": "code",
   "execution_count": 284,
   "metadata": {},
   "outputs": [],
   "source": [
    "setup_2 = constraints_and_subs(2)"
   ]
  },
  {
   "cell_type": "code",
   "execution_count": 285,
   "metadata": {},
   "outputs": [
    {
     "data": {
      "text/latex": [
       "$\\displaystyle \\Phi{\\left({\\mu}_{0},{\\mu}_{1},z \\right)} = - \\frac{\\operatorname{Det}{\\left(\\left[\\begin{matrix}1 & \\operatorname{pw}{\\left({\\mu}_{0},g_{2},g_{3} \\right)} & \\frac{\\partial}{\\partial {\\mu}_{0}} \\operatorname{pw}{\\left({\\mu}_{0},g_{2},g_{3} \\right)}\\\\1 & \\operatorname{pw}{\\left({\\mu}_{1},g_{2},g_{3} \\right)} & \\frac{\\partial}{\\partial {\\mu}_{1}} \\operatorname{pw}{\\left({\\mu}_{1},g_{2},g_{3} \\right)}\\\\1 & \\operatorname{pw}{\\left(z,g_{2},g_{3} \\right)} & \\frac{\\partial}{\\partial z} \\operatorname{pw}{\\left(z,g_{2},g_{3} \\right)}\\end{matrix}\\right] \\right)} \\operatorname{Det}^{-1}{\\left(\\left[\\begin{matrix}1 & \\operatorname{pw}{\\left({\\mu}_{0},g_{2},g_{3} \\right)}\\\\1 & \\operatorname{pw}{\\left({\\mu}_{1},g_{2},g_{3} \\right)}\\end{matrix}\\right] \\right)}}{2}$"
      ],
      "text/plain": [
       "Eq(Phi(mu[0], mu[1], z), -Det(Matrix([\n",
       "[1, pw(mu[0], g2, g3), Derivative(pw(mu[0], g2, g3), mu[0])],\n",
       "[1, pw(mu[1], g2, g3), Derivative(pw(mu[1], g2, g3), mu[1])],\n",
       "[1,     pw(z, g2, g3),         Derivative(pw(z, g2, g3), z)]]))*Det(Matrix([\n",
       "[1, pw(mu[0], g2, g3)],\n",
       "[1, pw(mu[1], g2, g3)]]))**(-1)/2)"
      ]
     },
     "execution_count": 285,
     "metadata": {},
     "output_type": "execute_result"
    }
   ],
   "source": [
    "setup_2[\"Phi_diff_eq\"]"
   ]
  },
  {
   "cell_type": "code",
   "execution_count": 286,
   "metadata": {},
   "outputs": [],
   "source": [
    "def laplace_expansion_phi(Nval, evaluated=False):\n",
    "    if evaluated:\n",
    "        return -laplace_expansion(Nval, evaluated=True)/p_matrix_f_s(Nval - 1).det()/Nval\n",
    "    else:\n",
    "        return -laplace_expansion(Nval, evaluated=False)/Det(p_matrix_f_s(Nval - 1))/Nval"
   ]
  },
  {
   "cell_type": "code",
   "execution_count": 287,
   "metadata": {},
   "outputs": [
    {
     "data": {
      "text/latex": [
       "$\\displaystyle 0$"
      ],
      "text/plain": [
       "0"
      ]
     },
     "execution_count": 287,
     "metadata": {},
     "output_type": "execute_result"
    }
   ],
   "source": [
    "(frob_stick_1dz_ratio(2,evaluated=True).lhs - laplace_expansion_phi(2, evaluated=True)).simplify()"
   ]
  },
  {
   "cell_type": "code",
   "execution_count": 288,
   "metadata": {},
   "outputs": [
    {
     "data": {
      "text/latex": [
       "$\\displaystyle - \\frac{\\operatorname{Det}{\\left(\\left[\\begin{matrix}1 & \\operatorname{pw}{\\left({\\mu}_{0},g_{2},g_{3} \\right)} & \\frac{\\partial}{\\partial {\\mu}_{0}} \\operatorname{pw}{\\left({\\mu}_{0},g_{2},g_{3} \\right)}\\\\1 & \\operatorname{pw}{\\left({\\mu}_{1},g_{2},g_{3} \\right)} & \\frac{\\partial}{\\partial {\\mu}_{1}} \\operatorname{pw}{\\left({\\mu}_{1},g_{2},g_{3} \\right)}\\\\1 & \\operatorname{pw}{\\left(z,g_{2},g_{3} \\right)} & \\frac{\\partial}{\\partial z} \\operatorname{pw}{\\left(z,g_{2},g_{3} \\right)}\\end{matrix}\\right] \\right)} \\operatorname{Det}^{-1}{\\left(\\left[\\begin{matrix}1 & \\operatorname{pw}{\\left({\\mu}_{0},g_{2},g_{3} \\right)}\\\\1 & \\operatorname{pw}{\\left({\\mu}_{1},g_{2},g_{3} \\right)}\\end{matrix}\\right] \\right)}}{2}$"
      ],
      "text/plain": [
       "-Det(Matrix([\n",
       "[1, pw(mu[0], g2, g3), Derivative(pw(mu[0], g2, g3), mu[0])],\n",
       "[1, pw(mu[1], g2, g3), Derivative(pw(mu[1], g2, g3), mu[1])],\n",
       "[1,     pw(z, g2, g3),         Derivative(pw(z, g2, g3), z)]]))*Det(Matrix([\n",
       "[1, pw(mu[0], g2, g3)],\n",
       "[1, pw(mu[1], g2, g3)]]))**(-1)/2"
      ]
     },
     "execution_count": 288,
     "metadata": {},
     "output_type": "execute_result"
    }
   ],
   "source": [
    "-Det(p_matrix_f_s_1dz(2))/Det(p_matrix_f_s(1))/2"
   ]
  },
  {
   "cell_type": "code",
   "execution_count": 289,
   "metadata": {
    "scrolled": true
   },
   "outputs": [
    {
     "data": {
      "text/latex": [
       "$\\displaystyle - \\frac{\\frac{d}{d z} f{\\left(z \\right)}}{f^{2}{\\left(z \\right)}}$"
      ],
      "text/plain": [
       "-Derivative(f(z), z)/f(z)**2"
      ]
     },
     "execution_count": 289,
     "metadata": {},
     "output_type": "execute_result"
    }
   ],
   "source": [
    "diff(1/f(z),z)"
   ]
  },
  {
   "cell_type": "code",
   "execution_count": 290,
   "metadata": {},
   "outputs": [
    {
     "data": {
      "text/latex": [
       "$\\displaystyle \\operatorname{Det}{\\left(\\left[\\begin{matrix}0 & \\frac{\\partial}{\\partial {\\mu}_{0}} \\operatorname{pw}{\\left({\\mu}_{0},g_{2},g_{3} \\right)} & \\frac{\\partial^{2}}{\\partial {\\mu}_{0}^{2}} \\operatorname{pw}{\\left({\\mu}_{0},g_{2},g_{3} \\right)}\\\\1 & \\operatorname{pw}{\\left({\\mu}_{1},g_{2},g_{3} \\right)} & \\frac{\\partial}{\\partial {\\mu}_{1}} \\operatorname{pw}{\\left({\\mu}_{1},g_{2},g_{3} \\right)}\\\\1 & \\operatorname{pw}{\\left(z,g_{2},g_{3} \\right)} & \\frac{\\partial}{\\partial z} \\operatorname{pw}{\\left(z,g_{2},g_{3} \\right)}\\end{matrix}\\right] \\right)} \\operatorname{Det}^{-1}{\\left(\\left[\\begin{matrix}1 & \\operatorname{pw}{\\left({\\mu}_{0},g_{2},g_{3} \\right)}\\\\1 & \\operatorname{pw}{\\left({\\mu}_{1},g_{2},g_{3} \\right)}\\end{matrix}\\right] \\right)} - \\operatorname{Det}{\\left(\\left[\\begin{matrix}1 & \\operatorname{pw}{\\left({\\mu}_{0},g_{2},g_{3} \\right)} & \\frac{\\partial}{\\partial {\\mu}_{0}} \\operatorname{pw}{\\left({\\mu}_{0},g_{2},g_{3} \\right)}\\\\1 & \\operatorname{pw}{\\left({\\mu}_{1},g_{2},g_{3} \\right)} & \\frac{\\partial}{\\partial {\\mu}_{1}} \\operatorname{pw}{\\left({\\mu}_{1},g_{2},g_{3} \\right)}\\\\1 & \\operatorname{pw}{\\left(z,g_{2},g_{3} \\right)} & \\frac{\\partial}{\\partial z} \\operatorname{pw}{\\left(z,g_{2},g_{3} \\right)}\\end{matrix}\\right] \\right)} \\operatorname{Det}{\\left(\\left[\\begin{matrix}0 & \\frac{\\partial}{\\partial {\\mu}_{0}} \\operatorname{pw}{\\left({\\mu}_{0},g_{2},g_{3} \\right)}\\\\1 & \\operatorname{pw}{\\left({\\mu}_{1},g_{2},g_{3} \\right)}\\end{matrix}\\right] \\right)} \\operatorname{Det}^{-2}{\\left(\\left[\\begin{matrix}1 & \\operatorname{pw}{\\left({\\mu}_{0},g_{2},g_{3} \\right)}\\\\1 & \\operatorname{pw}{\\left({\\mu}_{1},g_{2},g_{3} \\right)}\\end{matrix}\\right] \\right)}$"
      ],
      "text/plain": [
       "Det(Matrix([\n",
       "[0, Derivative(pw(mu[0], g2, g3), mu[0]), Derivative(pw(mu[0], g2, g3), (mu[0], 2))],\n",
       "[1,                    pw(mu[1], g2, g3),      Derivative(pw(mu[1], g2, g3), mu[1])],\n",
       "[1,                        pw(z, g2, g3),              Derivative(pw(z, g2, g3), z)]]))*Det(Matrix([\n",
       "[1, pw(mu[0], g2, g3)],\n",
       "[1, pw(mu[1], g2, g3)]]))**(-1) - Det(Matrix([\n",
       "[1, pw(mu[0], g2, g3), Derivative(pw(mu[0], g2, g3), mu[0])],\n",
       "[1, pw(mu[1], g2, g3), Derivative(pw(mu[1], g2, g3), mu[1])],\n",
       "[1,     pw(z, g2, g3),         Derivative(pw(z, g2, g3), z)]]))*Det(Matrix([\n",
       "[0, Derivative(pw(mu[0], g2, g3), mu[0])],\n",
       "[1,                    pw(mu[1], g2, g3)]]))*Det(Matrix([\n",
       "[1, pw(mu[0], g2, g3)],\n",
       "[1, pw(mu[1], g2, g3)]]))**(-2)"
      ]
     },
     "execution_count": 290,
     "metadata": {},
     "output_type": "execute_result"
    }
   ],
   "source": [
    "(Det(p_matrix_f_s_1dz_diff(2,0))/Det(p_matrix_f_s(1)) - \n",
    " Det(p_matrix_f_s_1dz(2))*Det(p_matrix_f_s_diff(1,0))/Det(p_matrix_f_s(1))**2)"
   ]
  },
  {
   "cell_type": "code",
   "execution_count": 291,
   "metadata": {},
   "outputs": [],
   "source": [
    "all_vars_higher_order_diffs = [\n",
    "    (hd[0].subs(z,v), hd[1].subs(z,v)) for hd in higher_order_diffs for v in [mu[0], mu[1], mu[2], z]\n",
    "]"
   ]
  },
  {
   "cell_type": "code",
   "execution_count": 292,
   "metadata": {},
   "outputs": [
    {
     "data": {
      "text/latex": [
       "$\\displaystyle - \\frac{- \\operatorname{pw}{\\left({\\mu}_{0},g_{2},g_{3} \\right)} \\frac{\\partial}{\\partial {\\mu}_{1}} \\operatorname{pw}{\\left({\\mu}_{1},g_{2},g_{3} \\right)} + \\operatorname{pw}{\\left({\\mu}_{1},g_{2},g_{3} \\right)} \\frac{\\partial}{\\partial {\\mu}_{0}} \\operatorname{pw}{\\left({\\mu}_{0},g_{2},g_{3} \\right)}}{2 \\left(\\operatorname{pw}{\\left({\\mu}_{0},g_{2},g_{3} \\right)} - \\operatorname{pw}{\\left({\\mu}_{1},g_{2},g_{3} \\right)}\\right)} - \\frac{\\frac{\\partial}{\\partial z} \\operatorname{pw}{\\left(z,g_{2},g_{3} \\right)}}{2} + \\frac{\\left(\\frac{\\partial}{\\partial {\\mu}_{0}} \\operatorname{pw}{\\left({\\mu}_{0},g_{2},g_{3} \\right)} - \\frac{\\partial}{\\partial {\\mu}_{1}} \\operatorname{pw}{\\left({\\mu}_{1},g_{2},g_{3} \\right)}\\right) \\operatorname{pw}{\\left(z,g_{2},g_{3} \\right)}}{2 \\left(\\operatorname{pw}{\\left({\\mu}_{0},g_{2},g_{3} \\right)} - \\operatorname{pw}{\\left({\\mu}_{1},g_{2},g_{3} \\right)}\\right)} = - \\frac{\\sigma{\\left(z - {\\mu}_{0},g_{2},g_{3} \\right)} \\sigma{\\left(z - {\\mu}_{1},g_{2},g_{3} \\right)} \\sigma{\\left(z + {\\mu}_{0} + {\\mu}_{1},g_{2},g_{3} \\right)}}{\\sigma^{3}{\\left(z,g_{2},g_{3} \\right)} \\sigma{\\left(- {\\mu}_{0} - {\\mu}_{1},g_{2},g_{3} \\right)} \\sigma{\\left({\\mu}_{0},g_{2},g_{3} \\right)} \\sigma{\\left({\\mu}_{1},g_{2},g_{3} \\right)}}$"
      ],
      "text/plain": [
       "Eq(-(-pw(mu[0], g2, g3)*Derivative(pw(mu[1], g2, g3), mu[1]) + pw(mu[1], g2, g3)*Derivative(pw(mu[0], g2, g3), mu[0]))/(2*(pw(mu[0], g2, g3) - pw(mu[1], g2, g3))) - Derivative(pw(z, g2, g3), z)/2 + (Derivative(pw(mu[0], g2, g3), mu[0]) - Derivative(pw(mu[1], g2, g3), mu[1]))*pw(z, g2, g3)/(2*(pw(mu[0], g2, g3) - pw(mu[1], g2, g3))), -sigma(z - mu[0], g2, g3)*sigma(z - mu[1], g2, g3)*sigma(z + mu[0] + mu[1], g2, g3)/(sigma(z, g2, g3)**3*sigma(-mu[0] - mu[1], g2, g3)*sigma(mu[0], g2, g3)*sigma(mu[1], g2, g3)))"
      ]
     },
     "execution_count": 292,
     "metadata": {},
     "output_type": "execute_result"
    }
   ],
   "source": [
    "frob_stick_1dz_ratio(2, evaluated=True).subs(all_vars_higher_order_diffs)"
   ]
  },
  {
   "cell_type": "code",
   "execution_count": 293,
   "metadata": {},
   "outputs": [
    {
     "data": {
      "text/latex": [
       "$\\displaystyle - 3 \\operatorname{pw}^{2}{\\left(z,g_{2},g_{3} \\right)} + \\frac{\\left(\\operatorname{pwp}{\\left({\\mu}_{0},g_{2},g_{3} \\right)} - \\operatorname{pwp}{\\left({\\mu}_{1},g_{2},g_{3} \\right)}\\right) \\frac{\\partial}{\\partial z} \\operatorname{pw}{\\left(z,g_{2},g_{3} \\right)}}{2 \\left(\\operatorname{pw}{\\left({\\mu}_{0},g_{2},g_{3} \\right)} - \\operatorname{pw}{\\left({\\mu}_{1},g_{2},g_{3} \\right)}\\right)} - \\frac{\\left(3 g_{2} \\operatorname{pw}{\\left({\\mu}_{0},g_{2},g_{3} \\right)} - 3 g_{2} \\operatorname{pw}{\\left({\\mu}_{1},g_{2},g_{3} \\right)} - 24 \\operatorname{pw}^{3}{\\left({\\mu}_{0},g_{2},g_{3} \\right)} + 24 \\operatorname{pw}^{2}{\\left({\\mu}_{0},g_{2},g_{3} \\right)} \\operatorname{pw}{\\left({\\mu}_{1},g_{2},g_{3} \\right)} - 12 \\operatorname{pw}{\\left({\\mu}_{0},g_{2},g_{3} \\right)} \\operatorname{pw}^{2}{\\left({\\mu}_{1},g_{2},g_{3} \\right)} + 12 \\operatorname{pw}^{3}{\\left({\\mu}_{1},g_{2},g_{3} \\right)} + 4 \\operatorname{pwp}^{2}{\\left({\\mu}_{0},g_{2},g_{3} \\right)} - 2 \\operatorname{pwp}{\\left({\\mu}_{0},g_{2},g_{3} \\right)} \\operatorname{pwp}{\\left({\\mu}_{1},g_{2},g_{3} \\right)} - 2 \\operatorname{pwp}^{2}{\\left({\\mu}_{1},g_{2},g_{3} \\right)}\\right) \\operatorname{pw}{\\left(z,g_{2},g_{3} \\right)}}{4 \\left(\\operatorname{pw}{\\left({\\mu}_{0},g_{2},g_{3} \\right)} - \\operatorname{pw}{\\left({\\mu}_{1},g_{2},g_{3} \\right)}\\right)^{2}} + \\frac{2 g_{2} \\operatorname{pw}^{2}{\\left({\\mu}_{0},g_{2},g_{3} \\right)} - g_{2} \\operatorname{pw}{\\left({\\mu}_{0},g_{2},g_{3} \\right)} \\operatorname{pw}{\\left({\\mu}_{1},g_{2},g_{3} \\right)} - g_{2} \\operatorname{pw}^{2}{\\left({\\mu}_{1},g_{2},g_{3} \\right)} - 24 \\operatorname{pw}^{3}{\\left({\\mu}_{0},g_{2},g_{3} \\right)} \\operatorname{pw}{\\left({\\mu}_{1},g_{2},g_{3} \\right)} + 12 \\operatorname{pw}^{2}{\\left({\\mu}_{0},g_{2},g_{3} \\right)} \\operatorname{pw}^{2}{\\left({\\mu}_{1},g_{2},g_{3} \\right)} + 12 \\operatorname{pw}{\\left({\\mu}_{0},g_{2},g_{3} \\right)} \\operatorname{pw}^{3}{\\left({\\mu}_{1},g_{2},g_{3} \\right)} + 2 \\operatorname{pw}{\\left({\\mu}_{0},g_{2},g_{3} \\right)} \\operatorname{pwp}{\\left({\\mu}_{0},g_{2},g_{3} \\right)} \\operatorname{pwp}{\\left({\\mu}_{1},g_{2},g_{3} \\right)} - 2 \\operatorname{pw}{\\left({\\mu}_{0},g_{2},g_{3} \\right)} \\operatorname{pwp}^{2}{\\left({\\mu}_{1},g_{2},g_{3} \\right)} + 4 \\operatorname{pw}{\\left({\\mu}_{1},g_{2},g_{3} \\right)} \\operatorname{pwp}^{2}{\\left({\\mu}_{0},g_{2},g_{3} \\right)} - 4 \\operatorname{pw}{\\left({\\mu}_{1},g_{2},g_{3} \\right)} \\operatorname{pwp}{\\left({\\mu}_{0},g_{2},g_{3} \\right)} \\operatorname{pwp}{\\left({\\mu}_{1},g_{2},g_{3} \\right)}}{4 \\left(\\operatorname{pw}{\\left({\\mu}_{0},g_{2},g_{3} \\right)} - \\operatorname{pw}{\\left({\\mu}_{1},g_{2},g_{3} \\right)}\\right)^{2}}$"
      ],
      "text/plain": [
       "-3*pw(z, g2, g3)**2 + (pwp(mu[0], g2, g3) - pwp(mu[1], g2, g3))*Derivative(pw(z, g2, g3), z)/(2*(pw(mu[0], g2, g3) - pw(mu[1], g2, g3))) - (3*g2*pw(mu[0], g2, g3) - 3*g2*pw(mu[1], g2, g3) - 24*pw(mu[0], g2, g3)**3 + 24*pw(mu[0], g2, g3)**2*pw(mu[1], g2, g3) - 12*pw(mu[0], g2, g3)*pw(mu[1], g2, g3)**2 + 12*pw(mu[1], g2, g3)**3 + 4*pwp(mu[0], g2, g3)**2 - 2*pwp(mu[0], g2, g3)*pwp(mu[1], g2, g3) - 2*pwp(mu[1], g2, g3)**2)*pw(z, g2, g3)/(4*(pw(mu[0], g2, g3) - pw(mu[1], g2, g3))**2) + (2*g2*pw(mu[0], g2, g3)**2 - g2*pw(mu[0], g2, g3)*pw(mu[1], g2, g3) - g2*pw(mu[1], g2, g3)**2 - 24*pw(mu[0], g2, g3)**3*pw(mu[1], g2, g3) + 12*pw(mu[0], g2, g3)**2*pw(mu[1], g2, g3)**2 + 12*pw(mu[0], g2, g3)*pw(mu[1], g2, g3)**3 + 2*pw(mu[0], g2, g3)*pwp(mu[0], g2, g3)*pwp(mu[1], g2, g3) - 2*pw(mu[0], g2, g3)*pwp(mu[1], g2, g3)**2 + 4*pw(mu[1], g2, g3)*pwp(mu[0], g2, g3)**2 - 4*pw(mu[1], g2, g3)*pwp(mu[0], g2, g3)*pwp(mu[1], g2, g3))/(4*(pw(mu[0], g2, g3) - pw(mu[1], g2, g3))**2)"
      ]
     },
     "execution_count": 293,
     "metadata": {},
     "output_type": "execute_result"
    }
   ],
   "source": [
    "_x1 = (2*frob_stick_1dz_ratio(2, evaluated=True)\n",
    " .subs(all_vars_higher_order_diffs).lhs.diff(mu[0])\n",
    " .subs(all_vars_higher_order_diffs)\n",
    " +\n",
    " frob_stick_1dz_ratio(2, evaluated=True)\n",
    " .subs(all_vars_higher_order_diffs).lhs.diff(z)\n",
    " .subs(all_vars_higher_order_diffs)\n",
    " -\n",
    " frob_stick_1dz_ratio(2, evaluated=True)\n",
    " .subs(all_vars_higher_order_diffs).lhs.diff(mu[1])\n",
    " .subs(all_vars_higher_order_diffs)\n",
    ").simplify().expand().collect([pw(z,g2,g3),diff(pw(z,g2,g3),z)],factor).subs([\n",
    "    (diff(pw(mu[0],g2,g3),mu[0]), pwp(mu[0],g2,g3)), (diff(pw(mu[1],g2,g3),mu[1]), pwp(mu[1],g2,g3))\n",
    "])\n",
    "_x1"
   ]
  },
  {
   "cell_type": "code",
   "execution_count": 294,
   "metadata": {},
   "outputs": [
    {
     "data": {
      "text/latex": [
       "$\\displaystyle \\frac{\\operatorname{pwp}{\\left(x,g_{2},g_{3} \\right)} - \\operatorname{pwp}{\\left(y,g_{2},g_{3} \\right)}}{2 \\left(\\operatorname{pw}{\\left(x,g_{2},g_{3} \\right)} - \\operatorname{pw}{\\left(y,g_{2},g_{3} \\right)}\\right)} = - \\operatorname{zw}{\\left(x,g_{2},g_{3} \\right)} - \\operatorname{zw}{\\left(y,g_{2},g_{3} \\right)} + \\operatorname{zw}{\\left(x + y,g_{2},g_{3} \\right)}$"
      ],
      "text/plain": [
       "Eq((pwp(x, g2, g3) - pwp(y, g2, g3))/(2*(pw(x, g2, g3) - pw(y, g2, g3))), -zw(x, g2, g3) - zw(y, g2, g3) + zw(x + y, g2, g3))"
      ]
     },
     "execution_count": 294,
     "metadata": {},
     "output_type": "execute_result"
    }
   ],
   "source": [
    "pw_to_zw_identity = Eq(\n",
    "    (pwp(x,g2,g3) - pwp(y,g2,g3))/(pw(x,g2,g3) - pw(y,g2,g3))/2,\n",
    "    zw(x + y,g2, g3) - zw(x,g2, g3) - zw(y,g2, g3)\n",
    ")\n",
    "pw_to_zw_identity"
   ]
  },
  {
   "cell_type": "code",
   "execution_count": 295,
   "metadata": {},
   "outputs": [
    {
     "data": {
      "text/latex": [
       "$\\displaystyle \\operatorname{pw}{\\left(x + y,g_{2},g_{3} \\right)} = - \\operatorname{pw}{\\left(x,g_{2},g_{3} \\right)} - \\operatorname{pw}{\\left(y,g_{2},g_{3} \\right)} + \\frac{\\left(\\operatorname{pwp}{\\left(x,g_{2},g_{3} \\right)} - \\operatorname{pwp}{\\left(y,g_{2},g_{3} \\right)}\\right)^{2}}{4 \\left(\\operatorname{pw}{\\left(x,g_{2},g_{3} \\right)} - \\operatorname{pw}{\\left(y,g_{2},g_{3} \\right)}\\right)^{2}}$"
      ],
      "text/plain": [
       "Eq(pw(x + y, g2, g3), -pw(x, g2, g3) - pw(y, g2, g3) + (pwp(x, g2, g3) - pwp(y, g2, g3))**2/(4*(pw(x, g2, g3) - pw(y, g2, g3))**2))"
      ]
     },
     "execution_count": 295,
     "metadata": {},
     "output_type": "execute_result"
    }
   ],
   "source": [
    "wp_add_id = Eq(pw(x+y, g2, g3),\n",
    "               (((pwp(x,g2,g3) - pwp(y,g2,g3))/(pw(x,g2,g3) - pw(y,g2,g3)))**2)/4 - pw(x, g2, g3) - pw(y, g2, g3))\n",
    "wp_add_id"
   ]
  },
  {
   "cell_type": "code",
   "execution_count": 296,
   "metadata": {},
   "outputs": [
    {
     "data": {
      "text/latex": [
       "$\\displaystyle \\operatorname{pwp}{\\left({\\mu}_{1},g_{2},g_{3} \\right)} = \\frac{- g_{2} \\operatorname{pw}{\\left({\\mu}_{0},g_{2},g_{3} \\right)} - g_{2} \\operatorname{pw}{\\left({\\mu}_{1},g_{2},g_{3} \\right)} - 2 g_{3} - 4 \\operatorname{pw}{\\left({\\mu}_{0} + {\\mu}_{1},g_{2},g_{3} \\right)} \\operatorname{pw}^{2}{\\left({\\mu}_{0},g_{2},g_{3} \\right)} + 8 \\operatorname{pw}{\\left({\\mu}_{0} + {\\mu}_{1},g_{2},g_{3} \\right)} \\operatorname{pw}{\\left({\\mu}_{0},g_{2},g_{3} \\right)} \\operatorname{pw}{\\left({\\mu}_{1},g_{2},g_{3} \\right)} - 4 \\operatorname{pw}{\\left({\\mu}_{0} + {\\mu}_{1},g_{2},g_{3} \\right)} \\operatorname{pw}^{2}{\\left({\\mu}_{1},g_{2},g_{3} \\right)} + 4 \\operatorname{pw}^{2}{\\left({\\mu}_{0},g_{2},g_{3} \\right)} \\operatorname{pw}{\\left({\\mu}_{1},g_{2},g_{3} \\right)} + 4 \\operatorname{pw}{\\left({\\mu}_{0},g_{2},g_{3} \\right)} \\operatorname{pw}^{2}{\\left({\\mu}_{1},g_{2},g_{3} \\right)}}{2 \\operatorname{pwp}{\\left({\\mu}_{0},g_{2},g_{3} \\right)}}$"
      ],
      "text/plain": [
       "Eq(pwp(mu[1], g2, g3), (-g2*pw(mu[0], g2, g3) - g2*pw(mu[1], g2, g3) - 2*g3 - 4*pw(mu[0] + mu[1], g2, g3)*pw(mu[0], g2, g3)**2 + 8*pw(mu[0] + mu[1], g2, g3)*pw(mu[0], g2, g3)*pw(mu[1], g2, g3) - 4*pw(mu[0] + mu[1], g2, g3)*pw(mu[1], g2, g3)**2 + 4*pw(mu[0], g2, g3)**2*pw(mu[1], g2, g3) + 4*pw(mu[0], g2, g3)*pw(mu[1], g2, g3)**2)/(2*pwp(mu[0], g2, g3)))"
      ]
     },
     "execution_count": 296,
     "metadata": {},
     "output_type": "execute_result"
    }
   ],
   "source": [
    "eq__ = (\n",
    "    wp_add_id\n",
    "    .subs([(x,mu[0]),(y,mu[1])]).expand()\n",
    "    .subs(pwp(mu[0],g2,g3)**2,4*pw(mu[0],g2,g3)**3 - g2*pw(mu[0],g2,g3) - g3)\n",
    "    .subs(pwp(mu[1],g2,g3)**2,4*pw(mu[1],g2,g3)**3 - g2*pw(mu[1],g2,g3) - g3)\n",
    ")\n",
    "_x2 = Eq(pwp(mu[1],g2,g3), solve(eq__.lhs - eq__.rhs,pwp(mu[1],g2,g3))[0])\n",
    "_x2   \n",
    "   "
   ]
  },
  {
   "cell_type": "code",
   "execution_count": 297,
   "metadata": {},
   "outputs": [
    {
     "data": {
      "text/latex": [
       "$\\displaystyle - 3 \\operatorname{pw}^{2}{\\left(z,g_{2},g_{3} \\right)}$"
      ],
      "text/plain": [
       "-3*pw(z, g2, g3)**2"
      ]
     },
     "execution_count": 297,
     "metadata": {},
     "output_type": "execute_result"
    }
   ],
   "source": [
    "_x1.args[0].subs(*_x2.args)"
   ]
  },
  {
   "cell_type": "code",
   "execution_count": 298,
   "metadata": {},
   "outputs": [],
   "source": [
    "num_1, den_2 = fraction((_x1.args[1]\n",
    " .subs(*_x2.args)\n",
    " .subs(pwp(mu[0],g2,g3)**2,4*pw(mu[0],g2,g3)**3 - g2*pw(mu[0],g2,g3) - g3)\n",
    " .subs(pwp(mu[1],g2,g3)**2,4*pw(mu[1],g2,g3)**3 - g2*pw(mu[1],g2,g3) - g3)\n",
    ").factor())"
   ]
  },
  {
   "cell_type": "code",
   "execution_count": 299,
   "metadata": {},
   "outputs": [
    {
     "data": {
      "text/latex": [
       "$\\displaystyle 3 g_{2}^{2} \\operatorname{pw}{\\left({\\mu}_{0},g_{2},g_{3} \\right)} + 2 g_{2} \\left(g_{3} + 12 \\operatorname{pw}{\\left({\\mu}_{0} + {\\mu}_{1},g_{2},g_{3} \\right)} \\operatorname{pw}{\\left({\\mu}_{0},g_{2},g_{3} \\right)} \\operatorname{pw}{\\left({\\mu}_{1},g_{2},g_{3} \\right)} - 4 \\operatorname{pw}^{3}{\\left({\\mu}_{0},g_{2},g_{3} \\right)}\\right) + 8 g_{3} \\left(\\operatorname{pw}{\\left({\\mu}_{0} + {\\mu}_{1},g_{2},g_{3} \\right)} \\operatorname{pw}{\\left({\\mu}_{0},g_{2},g_{3} \\right)} + 2 \\operatorname{pw}{\\left({\\mu}_{0} + {\\mu}_{1},g_{2},g_{3} \\right)} \\operatorname{pw}{\\left({\\mu}_{1},g_{2},g_{3} \\right)} + 2 \\operatorname{pw}^{2}{\\left({\\mu}_{0},g_{2},g_{3} \\right)} + \\operatorname{pw}{\\left({\\mu}_{0},g_{2},g_{3} \\right)} \\operatorname{pw}{\\left({\\mu}_{1},g_{2},g_{3} \\right)}\\right) + 16 \\left(\\operatorname{pw}^{2}{\\left({\\mu}_{0} + {\\mu}_{1},g_{2},g_{3} \\right)} \\operatorname{pw}^{2}{\\left({\\mu}_{0},g_{2},g_{3} \\right)} - 2 \\operatorname{pw}^{2}{\\left({\\mu}_{0} + {\\mu}_{1},g_{2},g_{3} \\right)} \\operatorname{pw}{\\left({\\mu}_{0},g_{2},g_{3} \\right)} \\operatorname{pw}{\\left({\\mu}_{1},g_{2},g_{3} \\right)} + \\operatorname{pw}^{2}{\\left({\\mu}_{0} + {\\mu}_{1},g_{2},g_{3} \\right)} \\operatorname{pw}^{2}{\\left({\\mu}_{1},g_{2},g_{3} \\right)} + 2 \\operatorname{pw}{\\left({\\mu}_{0} + {\\mu}_{1},g_{2},g_{3} \\right)} \\operatorname{pw}^{3}{\\left({\\mu}_{0},g_{2},g_{3} \\right)} - 6 \\operatorname{pw}{\\left({\\mu}_{0} + {\\mu}_{1},g_{2},g_{3} \\right)} \\operatorname{pw}^{2}{\\left({\\mu}_{0},g_{2},g_{3} \\right)} \\operatorname{pw}{\\left({\\mu}_{1},g_{2},g_{3} \\right)} - 2 \\operatorname{pw}{\\left({\\mu}_{0} + {\\mu}_{1},g_{2},g_{3} \\right)} \\operatorname{pw}{\\left({\\mu}_{0},g_{2},g_{3} \\right)} \\operatorname{pw}^{2}{\\left({\\mu}_{1},g_{2},g_{3} \\right)} + 2 \\operatorname{pw}^{3}{\\left({\\mu}_{0},g_{2},g_{3} \\right)} \\operatorname{pw}{\\left({\\mu}_{1},g_{2},g_{3} \\right)} + \\operatorname{pw}^{2}{\\left({\\mu}_{0},g_{2},g_{3} \\right)} \\operatorname{pw}^{2}{\\left({\\mu}_{1},g_{2},g_{3} \\right)}\\right) \\operatorname{pw}{\\left({\\mu}_{0},g_{2},g_{3} \\right)}$"
      ],
      "text/plain": [
       "3*g2**2*pw(mu[0], g2, g3) + 2*g2*(g3 + 12*pw(mu[0] + mu[1], g2, g3)*pw(mu[0], g2, g3)*pw(mu[1], g2, g3) - 4*pw(mu[0], g2, g3)**3) + 8*g3*(pw(mu[0] + mu[1], g2, g3)*pw(mu[0], g2, g3) + 2*pw(mu[0] + mu[1], g2, g3)*pw(mu[1], g2, g3) + 2*pw(mu[0], g2, g3)**2 + pw(mu[0], g2, g3)*pw(mu[1], g2, g3)) + 16*(pw(mu[0] + mu[1], g2, g3)**2*pw(mu[0], g2, g3)**2 - 2*pw(mu[0] + mu[1], g2, g3)**2*pw(mu[0], g2, g3)*pw(mu[1], g2, g3) + pw(mu[0] + mu[1], g2, g3)**2*pw(mu[1], g2, g3)**2 + 2*pw(mu[0] + mu[1], g2, g3)*pw(mu[0], g2, g3)**3 - 6*pw(mu[0] + mu[1], g2, g3)*pw(mu[0], g2, g3)**2*pw(mu[1], g2, g3) - 2*pw(mu[0] + mu[1], g2, g3)*pw(mu[0], g2, g3)*pw(mu[1], g2, g3)**2 + 2*pw(mu[0], g2, g3)**3*pw(mu[1], g2, g3) + pw(mu[0], g2, g3)**2*pw(mu[1], g2, g3)**2)*pw(mu[0], g2, g3)"
      ]
     },
     "execution_count": 299,
     "metadata": {},
     "output_type": "execute_result"
    }
   ],
   "source": [
    "num_1.collect([g2,g3],factor)"
   ]
  },
  {
   "cell_type": "code",
   "execution_count": 300,
   "metadata": {},
   "outputs": [
    {
     "data": {
      "text/latex": [
       "$\\displaystyle \\frac{\\left(\\operatorname{pwp}{\\left({\\mu}_{0},g_{2},g_{3} \\right)} - \\operatorname{pwp}{\\left({\\mu}_{1},g_{2},g_{3} \\right)}\\right) \\frac{\\partial}{\\partial z} \\operatorname{pw}{\\left(z,g_{2},g_{3} \\right)}}{2 \\left(\\operatorname{pw}{\\left({\\mu}_{0},g_{2},g_{3} \\right)} - \\operatorname{pw}{\\left({\\mu}_{1},g_{2},g_{3} \\right)}\\right)}$"
      ],
      "text/plain": [
       "(pwp(mu[0], g2, g3) - pwp(mu[1], g2, g3))*Derivative(pw(z, g2, g3), z)/(2*(pw(mu[0], g2, g3) - pw(mu[1], g2, g3)))"
      ]
     },
     "execution_count": 300,
     "metadata": {},
     "output_type": "execute_result"
    }
   ],
   "source": [
    "_x1.args[2]"
   ]
  },
  {
   "cell_type": "code",
   "execution_count": 301,
   "metadata": {},
   "outputs": [],
   "source": [
    "num_2, den_2 = fraction((_x1.args[3]\n",
    " .subs(*_x2.args)\n",
    " .subs(pwp(mu[0],g2,g3)**2,4*pw(mu[0],g2,g3)**3 - g2*pw(mu[0],g2,g3) - g3)\n",
    " .subs(pwp(mu[1],g2,g3)**2,4*pw(mu[1],g2,g3)**3 - g2*pw(mu[1],g2,g3) - g3)\n",
    ").factor())"
   ]
  },
  {
   "cell_type": "code",
   "execution_count": 302,
   "metadata": {},
   "outputs": [
    {
     "data": {
      "text/latex": [
       "$\\displaystyle - \\left(g_{2}^{2} + 8 g_{2} \\left(2 \\operatorname{pw}{\\left({\\mu}_{0} + {\\mu}_{1},g_{2},g_{3} \\right)} \\operatorname{pw}{\\left({\\mu}_{0},g_{2},g_{3} \\right)} + \\operatorname{pw}{\\left({\\mu}_{0} + {\\mu}_{1},g_{2},g_{3} \\right)} \\operatorname{pw}{\\left({\\mu}_{1},g_{2},g_{3} \\right)} - 2 \\operatorname{pw}^{2}{\\left({\\mu}_{0},g_{2},g_{3} \\right)} + 2 \\operatorname{pw}{\\left({\\mu}_{0},g_{2},g_{3} \\right)} \\operatorname{pw}{\\left({\\mu}_{1},g_{2},g_{3} \\right)}\\right) + 24 g_{3} \\left(\\operatorname{pw}{\\left({\\mu}_{0} + {\\mu}_{1},g_{2},g_{3} \\right)} + \\operatorname{pw}{\\left({\\mu}_{1},g_{2},g_{3} \\right)}\\right) + 16 \\left(\\operatorname{pw}^{2}{\\left({\\mu}_{0} + {\\mu}_{1},g_{2},g_{3} \\right)} \\operatorname{pw}^{2}{\\left({\\mu}_{0},g_{2},g_{3} \\right)} - 2 \\operatorname{pw}^{2}{\\left({\\mu}_{0} + {\\mu}_{1},g_{2},g_{3} \\right)} \\operatorname{pw}{\\left({\\mu}_{0},g_{2},g_{3} \\right)} \\operatorname{pw}{\\left({\\mu}_{1},g_{2},g_{3} \\right)} + \\operatorname{pw}^{2}{\\left({\\mu}_{0} + {\\mu}_{1},g_{2},g_{3} \\right)} \\operatorname{pw}^{2}{\\left({\\mu}_{1},g_{2},g_{3} \\right)} - 2 \\operatorname{pw}{\\left({\\mu}_{0} + {\\mu}_{1},g_{2},g_{3} \\right)} \\operatorname{pw}^{3}{\\left({\\mu}_{0},g_{2},g_{3} \\right)} - 2 \\operatorname{pw}{\\left({\\mu}_{0} + {\\mu}_{1},g_{2},g_{3} \\right)} \\operatorname{pw}^{2}{\\left({\\mu}_{0},g_{2},g_{3} \\right)} \\operatorname{pw}{\\left({\\mu}_{1},g_{2},g_{3} \\right)} - 2 \\operatorname{pw}{\\left({\\mu}_{0} + {\\mu}_{1},g_{2},g_{3} \\right)} \\operatorname{pw}{\\left({\\mu}_{0},g_{2},g_{3} \\right)} \\operatorname{pw}^{2}{\\left({\\mu}_{1},g_{2},g_{3} \\right)} + 4 \\operatorname{pw}^{4}{\\left({\\mu}_{0},g_{2},g_{3} \\right)} - 2 \\operatorname{pw}^{3}{\\left({\\mu}_{0},g_{2},g_{3} \\right)} \\operatorname{pw}{\\left({\\mu}_{1},g_{2},g_{3} \\right)} + \\operatorname{pw}^{2}{\\left({\\mu}_{0},g_{2},g_{3} \\right)} \\operatorname{pw}^{2}{\\left({\\mu}_{1},g_{2},g_{3} \\right)}\\right)\\right) \\operatorname{pw}{\\left(z,g_{2},g_{3} \\right)}$"
      ],
      "text/plain": [
       "-(g2**2 + 8*g2*(2*pw(mu[0] + mu[1], g2, g3)*pw(mu[0], g2, g3) + pw(mu[0] + mu[1], g2, g3)*pw(mu[1], g2, g3) - 2*pw(mu[0], g2, g3)**2 + 2*pw(mu[0], g2, g3)*pw(mu[1], g2, g3)) + 24*g3*(pw(mu[0] + mu[1], g2, g3) + pw(mu[1], g2, g3)) + 16*(pw(mu[0] + mu[1], g2, g3)**2*pw(mu[0], g2, g3)**2 - 2*pw(mu[0] + mu[1], g2, g3)**2*pw(mu[0], g2, g3)*pw(mu[1], g2, g3) + pw(mu[0] + mu[1], g2, g3)**2*pw(mu[1], g2, g3)**2 - 2*pw(mu[0] + mu[1], g2, g3)*pw(mu[0], g2, g3)**3 - 2*pw(mu[0] + mu[1], g2, g3)*pw(mu[0], g2, g3)**2*pw(mu[1], g2, g3) - 2*pw(mu[0] + mu[1], g2, g3)*pw(mu[0], g2, g3)*pw(mu[1], g2, g3)**2 + 4*pw(mu[0], g2, g3)**4 - 2*pw(mu[0], g2, g3)**3*pw(mu[1], g2, g3) + pw(mu[0], g2, g3)**2*pw(mu[1], g2, g3)**2))*pw(z, g2, g3)"
      ]
     },
     "execution_count": 302,
     "metadata": {},
     "output_type": "execute_result"
    }
   ],
   "source": [
    "num_2.collect([g2,g3],factor)"
   ]
  },
  {
   "cell_type": "code",
   "execution_count": 303,
   "metadata": {},
   "outputs": [
    {
     "data": {
      "text/latex": [
       "$\\displaystyle - \\operatorname{pw}{\\left(z,g_{2},g_{3} \\right)} \\operatorname{Det}{\\left(\\left[\\begin{matrix}1 & \\frac{\\partial}{\\partial {\\mu}_{0}} \\operatorname{pw}{\\left({\\mu}_{0},g_{2},g_{3} \\right)}\\\\1 & \\frac{\\partial}{\\partial {\\mu}_{1}} \\operatorname{pw}{\\left({\\mu}_{1},g_{2},g_{3} \\right)}\\end{matrix}\\right] \\right)} + \\frac{\\partial}{\\partial z} \\operatorname{pw}{\\left(z,g_{2},g_{3} \\right)} \\operatorname{Det}{\\left(\\left[\\begin{matrix}1 & \\operatorname{pw}{\\left({\\mu}_{0},g_{2},g_{3} \\right)}\\\\1 & \\operatorname{pw}{\\left({\\mu}_{1},g_{2},g_{3} \\right)}\\end{matrix}\\right] \\right)} + \\operatorname{Det}{\\left(\\left[\\begin{matrix}\\operatorname{pw}{\\left({\\mu}_{0},g_{2},g_{3} \\right)} & \\frac{\\partial}{\\partial {\\mu}_{0}} \\operatorname{pw}{\\left({\\mu}_{0},g_{2},g_{3} \\right)}\\\\\\operatorname{pw}{\\left({\\mu}_{1},g_{2},g_{3} \\right)} & \\frac{\\partial}{\\partial {\\mu}_{1}} \\operatorname{pw}{\\left({\\mu}_{1},g_{2},g_{3} \\right)}\\end{matrix}\\right] \\right)}$"
      ],
      "text/plain": [
       "-pw(z, g2, g3)*Det(Matrix([\n",
       "[1, Derivative(pw(mu[0], g2, g3), mu[0])],\n",
       "[1, Derivative(pw(mu[1], g2, g3), mu[1])]])) + Derivative(pw(z, g2, g3), z)*Det(Matrix([\n",
       "[1, pw(mu[0], g2, g3)],\n",
       "[1, pw(mu[1], g2, g3)]])) + Det(Matrix([\n",
       "[pw(mu[0], g2, g3), Derivative(pw(mu[0], g2, g3), mu[0])],\n",
       "[pw(mu[1], g2, g3), Derivative(pw(mu[1], g2, g3), mu[1])]]))"
      ]
     },
     "execution_count": 303,
     "metadata": {},
     "output_type": "execute_result"
    }
   ],
   "source": [
    "laplace_expansion(2, evaluated=False)"
   ]
  },
  {
   "cell_type": "markdown",
   "metadata": {},
   "source": [
    "## The General expression for the logarithmic derivative of $\\rho$"
   ]
  },
  {
   "cell_type": "code",
   "execution_count": 304,
   "metadata": {},
   "outputs": [
    {
     "data": {
      "text/latex": [
       "$\\displaystyle \\rho{\\left(z,x \\right)} = \\frac{\\sigma{\\left(x - z,g_{2},g_{3} \\right)}}{\\sigma{\\left(x,g_{2},g_{3} \\right)} \\sigma{\\left(z,g_{2},g_{3} \\right)}}$"
      ],
      "text/plain": [
       "Eq(rho(z, x), sigma(x - z, g2, g3)/(sigma(x, g2, g3)*sigma(z, g2, g3)))"
      ]
     },
     "execution_count": 304,
     "metadata": {},
     "output_type": "execute_result"
    }
   ],
   "source": [
    "rho_def_zx = Eq(rho(x,y), sigma(-x+y,g2,g3)/sigma(x,g2,g3)/sigma(y,g2,g3)).subs(x,z).subs(y,x)\n",
    "rho_def_zx"
   ]
  },
  {
   "cell_type": "code",
   "execution_count": 305,
   "metadata": {},
   "outputs": [
    {
     "data": {
      "text/latex": [
       "$\\displaystyle \\log{\\left(\\rho{\\left(z,x \\right)} \\right)} = \\frac{\\log{\\left(\\frac{\\rho{\\left(z,x \\right)}}{\\rho{\\left(z,- x \\right)}} \\right)}}{2} + \\frac{\\log{\\left(\\rho{\\left(z,- x \\right)} \\rho{\\left(z,x \\right)} \\right)}}{2}$"
      ],
      "text/plain": [
       "Eq(log(rho(z, x)), log(rho(z, x)/rho(z, -x))/2 + log(rho(z, -x)*rho(z, x))/2)"
      ]
     },
     "execution_count": 305,
     "metadata": {},
     "output_type": "execute_result"
    }
   ],
   "source": [
    "Eq(log(rho(z,x)), log(rho(z,x)*rho(z,-x))/2 + log(rho(z,x)/rho(z,-x))/2)"
   ]
  },
  {
   "cell_type": "code",
   "execution_count": 306,
   "metadata": {},
   "outputs": [
    {
     "data": {
      "text/latex": [
       "$\\displaystyle \\frac{\\partial}{\\partial z} \\log{\\left(\\frac{\\sigma{\\left(x + z,g_{2},g_{3} \\right)}}{\\sigma{\\left(x,g_{2},g_{3} \\right)} \\sigma{\\left(z,g_{2},g_{3} \\right)}} \\right)} = \\frac{\\left. \\frac{\\partial}{\\partial \\xi_{1}} \\sigma{\\left(\\xi_{1},g_{2},g_{3} \\right)} \\right|_{\\substack{ \\xi_{1}=x + z }}}{\\sigma{\\left(x + z,g_{2},g_{3} \\right)}} - \\frac{\\frac{\\partial}{\\partial z} \\sigma{\\left(z,g_{2},g_{3} \\right)}}{\\sigma{\\left(z,g_{2},g_{3} \\right)}}$"
      ],
      "text/plain": [
       "Eq(Derivative(log(sigma(x + z, g2, g3)/(sigma(x, g2, g3)*sigma(z, g2, g3))), z), Subs(Derivative(sigma(_xi_1, g2, g3), _xi_1), _xi_1, x + z)/sigma(x + z, g2, g3) - Derivative(sigma(z, g2, g3), z)/sigma(z, g2, g3))"
      ]
     },
     "execution_count": 306,
     "metadata": {},
     "output_type": "execute_result"
    }
   ],
   "source": [
    "log_rho_diff = Eq(Derivative(log(sigma(z + x,g2,g3)/sigma(z,g2,g3)/sigma(x,g2,g3)),z), \n",
    "   diff(log(sigma(z + x,g2,g3)/sigma(z,g2,g3)/sigma(x,g2,g3)),z).expand()\n",
    "  )\n",
    "log_rho_diff"
   ]
  },
  {
   "cell_type": "code",
   "execution_count": 307,
   "metadata": {},
   "outputs": [
    {
     "data": {
      "text/latex": [
       "$\\displaystyle \\operatorname{zw}{\\left(x + z,g_{2},g_{3} \\right)} = \\frac{\\left. \\frac{\\partial}{\\partial \\xi_{1}} \\sigma{\\left(\\xi_{1},g_{2},g_{3} \\right)} \\right|_{\\substack{ \\xi_{1}=x + z }}}{\\sigma{\\left(x + z,g_{2},g_{3} \\right)}}$"
      ],
      "text/plain": [
       "Eq(zw(x + z, g2, g3), Subs(Derivative(sigma(z, g2, g3), z), z, x + z)/sigma(x + z, g2, g3))"
      ]
     },
     "execution_count": 307,
     "metadata": {},
     "output_type": "execute_result"
    }
   ],
   "source": [
    "zeta_eq.subs(z,z+x)"
   ]
  },
  {
   "cell_type": "code",
   "execution_count": 308,
   "metadata": {},
   "outputs": [
    {
     "data": {
      "text/latex": [
       "$\\displaystyle \\frac{\\partial}{\\partial z} \\log{\\left(\\frac{\\sigma{\\left(x + z,g_{2},g_{3} \\right)}}{\\sigma{\\left(x,g_{2},g_{3} \\right)} \\sigma{\\left(z,g_{2},g_{3} \\right)}} \\right)} = - \\operatorname{zw}{\\left(z,g_{2},g_{3} \\right)} + \\operatorname{zw}{\\left(x + z,g_{2},g_{3} \\right)}$"
      ],
      "text/plain": [
       "Eq(Derivative(log(sigma(x + z, g2, g3)/(sigma(x, g2, g3)*sigma(z, g2, g3))), z), -zw(z, g2, g3) + zw(x + z, g2, g3))"
      ]
     },
     "execution_count": 308,
     "metadata": {},
     "output_type": "execute_result"
    }
   ],
   "source": [
    "log_sig_ratio_zx = Eq(log_rho_diff.lhs, \n",
    "   log_rho_diff.rhs \n",
    "   + zeta_eq.subs(z,z+x).lhs - zeta_eq.subs(z,z+x).rhs\n",
    "   - zeta_eq.lhs + zeta_eq.rhs\n",
    "  )\n",
    "\n",
    "log_sig_ratio_zx"
   ]
  },
  {
   "cell_type": "code",
   "execution_count": 309,
   "metadata": {},
   "outputs": [
    {
     "data": {
      "text/latex": [
       "$\\displaystyle \\frac{\\operatorname{pwp}{\\left(x,g_{2},g_{3} \\right)} - \\operatorname{pwp}{\\left(z,g_{2},g_{3} \\right)}}{2 \\left(\\operatorname{pw}{\\left(x,g_{2},g_{3} \\right)} - \\operatorname{pw}{\\left(z,g_{2},g_{3} \\right)}\\right)} = - \\operatorname{zw}{\\left(x,g_{2},g_{3} \\right)} - \\operatorname{zw}{\\left(z,g_{2},g_{3} \\right)} + \\operatorname{zw}{\\left(x + z,g_{2},g_{3} \\right)}$"
      ],
      "text/plain": [
       "Eq((pwp(x, g2, g3) - pwp(z, g2, g3))/(2*(pw(x, g2, g3) - pw(z, g2, g3))), -zw(x, g2, g3) - zw(z, g2, g3) + zw(x + z, g2, g3))"
      ]
     },
     "execution_count": 309,
     "metadata": {},
     "output_type": "execute_result"
    }
   ],
   "source": [
    "pw_to_zw_identity.subs(y,z)"
   ]
  },
  {
   "cell_type": "code",
   "execution_count": 310,
   "metadata": {},
   "outputs": [
    {
     "data": {
      "text/latex": [
       "$\\displaystyle \\frac{\\partial}{\\partial z} \\log{\\left(\\frac{\\sigma{\\left(x + z,g_{2},g_{3} \\right)}}{\\sigma{\\left(x,g_{2},g_{3} \\right)} \\sigma{\\left(z,g_{2},g_{3} \\right)}} \\right)} = \\operatorname{zw}{\\left(x,g_{2},g_{3} \\right)} + \\frac{\\operatorname{pwp}{\\left(x,g_{2},g_{3} \\right)} - \\operatorname{pwp}{\\left(z,g_{2},g_{3} \\right)}}{2 \\left(\\operatorname{pw}{\\left(x,g_{2},g_{3} \\right)} - \\operatorname{pw}{\\left(z,g_{2},g_{3} \\right)}\\right)}$"
      ],
      "text/plain": [
       "Eq(Derivative(log(sigma(x + z, g2, g3)/(sigma(x, g2, g3)*sigma(z, g2, g3))), z), zw(x, g2, g3) + (pwp(x, g2, g3) - pwp(z, g2, g3))/(2*(pw(x, g2, g3) - pw(z, g2, g3))))"
      ]
     },
     "execution_count": 310,
     "metadata": {},
     "output_type": "execute_result"
    }
   ],
   "source": [
    "log_sig_ratio_zx_p_conj = Eq(log_sig_ratio_zx.lhs, \n",
    "   log_sig_ratio_zx.rhs + pw_to_zw_identity.subs(y,z).lhs - pw_to_zw_identity.subs(y,z).rhs\n",
    "  )\n",
    "log_sig_ratio_zx_p_conj"
   ]
  },
  {
   "cell_type": "code",
   "execution_count": 311,
   "metadata": {},
   "outputs": [
    {
     "data": {
      "text/latex": [
       "$\\displaystyle \\frac{\\partial}{\\partial z} \\log{\\left(\\frac{\\sigma{\\left(x - z,g_{2},g_{3} \\right)}}{\\sigma{\\left(x,g_{2},g_{3} \\right)} \\sigma{\\left(z,g_{2},g_{3} \\right)}} \\right)} = - \\operatorname{zw}{\\left(x,g_{2},g_{3} \\right)} + \\frac{- \\operatorname{pwp}{\\left(x,g_{2},g_{3} \\right)} - \\operatorname{pwp}{\\left(z,g_{2},g_{3} \\right)}}{2 \\left(\\operatorname{pw}{\\left(x,g_{2},g_{3} \\right)} - \\operatorname{pw}{\\left(z,g_{2},g_{3} \\right)}\\right)}$"
      ],
      "text/plain": [
       "Eq(Derivative(log(sigma(x - z, g2, g3)/(sigma(x, g2, g3)*sigma(z, g2, g3))), z), -zw(x, g2, g3) + (-pwp(x, g2, g3) - pwp(z, g2, g3))/(2*(pw(x, g2, g3) - pw(z, g2, g3))))"
      ]
     },
     "execution_count": 311,
     "metadata": {},
     "output_type": "execute_result"
    }
   ],
   "source": [
    "log_sig_ratio_zx_p = Eq(log_sig_ratio_zx.lhs, \n",
    "   log_sig_ratio_zx.rhs + pw_to_zw_identity.subs(y,z).lhs - pw_to_zw_identity.subs(y,z).rhs\n",
    "  ).subs(x,-x).subs([\n",
    "    (sigma(-x,g2,g3), -sigma(x,g2,g3)),\n",
    "    (zw(-x,g2,g3), -zw(x,g2,g3)),\n",
    "    (pwp(-x,g2,g3), -pwp(x,g2,g3)),\n",
    "    (pw(-x,g2,g3), pw(x,g2,g3))\n",
    "]).subs(sigma(-x+z,g2,g3), -sigma(x-z,g2,g3))\n",
    "log_sig_ratio_zx_p"
   ]
  },
  {
   "cell_type": "code",
   "execution_count": 312,
   "metadata": {},
   "outputs": [
    {
     "data": {
      "text/latex": [
       "$\\displaystyle \\frac{\\frac{\\partial}{\\partial z} \\rho{\\left(z,x \\right)}}{\\rho{\\left(z,x \\right)}} = - \\operatorname{zw}{\\left(x,g_{2},g_{3} \\right)} + \\frac{- \\operatorname{pwp}{\\left(x,g_{2},g_{3} \\right)} - \\operatorname{pwp}{\\left(z,g_{2},g_{3} \\right)}}{2 \\operatorname{pw}{\\left(x,g_{2},g_{3} \\right)} - 2 \\operatorname{pw}{\\left(z,g_{2},g_{3} \\right)}}$"
      ],
      "text/plain": [
       "Eq(Derivative(rho(z, x), z)/rho(z, x), -zw(x, g2, g3) + (-pwp(x, g2, g3) - pwp(z, g2, g3))/(2*pw(x, g2, g3) - 2*pw(z, g2, g3)))"
      ]
     },
     "execution_count": 312,
     "metadata": {},
     "output_type": "execute_result"
    }
   ],
   "source": [
    "log_rho_zx_p = log_sig_ratio_zx_p.subs(rho_def_zx.subs(y,z).rhs, rho_def_zx.subs(y,z).lhs).doit()\n",
    "log_rho_zx_p"
   ]
  },
  {
   "cell_type": "code",
   "execution_count": 313,
   "metadata": {},
   "outputs": [
    {
     "data": {
      "text/latex": [
       "$\\displaystyle \\frac{\\sigma{\\left(x - z,g_{2},g_{3} \\right)} \\sigma{\\left(x + z,g_{2},g_{3} \\right)}}{\\sigma^{2}{\\left(x,g_{2},g_{3} \\right)} \\sigma^{2}{\\left(z,g_{2},g_{3} \\right)}} = - \\operatorname{pw}{\\left(x,g_{2},g_{3} \\right)} + \\operatorname{pw}{\\left(z,g_{2},g_{3} \\right)}$"
      ],
      "text/plain": [
       "Eq(sigma(x - z, g2, g3)*sigma(x + z, g2, g3)/(sigma(x, g2, g3)**2*sigma(z, g2, g3)**2), -pw(x, g2, g3) + pw(z, g2, g3))"
      ]
     },
     "execution_count": 313,
     "metadata": {},
     "output_type": "execute_result"
    }
   ],
   "source": [
    "sigma_p_identity = Eq(\n",
    "    sigma(x + y, g2, g3) * sigma(x - y, g2, g3) / (sigma(x, g2, g3) ** 2 * sigma(y, g2, g3) ** 2) ,\n",
    "    pw(y, g2, g3) - pw(x, g2, g3),\n",
    ").subs(y,z)\n",
    "sigma_p_identity"
   ]
  },
  {
   "cell_type": "code",
   "execution_count": 314,
   "metadata": {},
   "outputs": [
    {
     "data": {
      "text/latex": [
       "$\\displaystyle \\rho{\\left(z,- x \\right)} \\rho{\\left(z,x \\right)} = \\frac{\\sigma{\\left(x - z,g_{2},g_{3} \\right)} \\sigma{\\left(x + z,g_{2},g_{3} \\right)}}{\\sigma^{2}{\\left(x,g_{2},g_{3} \\right)} \\sigma^{2}{\\left(z,g_{2},g_{3} \\right)}}$"
      ],
      "text/plain": [
       "Eq(rho(z, -x)*rho(z, x), sigma(x - z, g2, g3)*sigma(x + z, g2, g3)/(sigma(x, g2, g3)**2*sigma(z, g2, g3)**2))"
      ]
     },
     "execution_count": 314,
     "metadata": {},
     "output_type": "execute_result"
    }
   ],
   "source": [
    "sigma_p_rho = Eq(\n",
    "    rho_def_zx.lhs*(rho_def_zx.lhs.subs(x,-x)), \n",
    "    rho_def_zx.rhs*(rho_def_zx.rhs.subs(x,-x))\n",
    ").subs([\n",
    "    (sigma(-x,g2,g3), -sigma(x,g2,g3)),\n",
    "    (sigma(-x-z,g2,g3), -sigma(x+z,g2,g3))\n",
    "])\n",
    "sigma_p_rho"
   ]
  },
  {
   "cell_type": "code",
   "execution_count": 315,
   "metadata": {},
   "outputs": [
    {
     "data": {
      "text/latex": [
       "$\\displaystyle \\rho{\\left(z,- x \\right)} \\rho{\\left(z,x \\right)} = - \\operatorname{pw}{\\left(x,g_{2},g_{3} \\right)} + \\operatorname{pw}{\\left(z,g_{2},g_{3} \\right)}$"
      ],
      "text/plain": [
       "Eq(rho(z, -x)*rho(z, x), -pw(x, g2, g3) + pw(z, g2, g3))"
      ]
     },
     "execution_count": 315,
     "metadata": {},
     "output_type": "execute_result"
    }
   ],
   "source": [
    "rho_p_zx = sigma_p_rho.subs(*sigma_p_identity.args)\n",
    "rho_p_zx"
   ]
  },
  {
   "cell_type": "code",
   "execution_count": 316,
   "metadata": {},
   "outputs": [
    {
     "data": {
      "text/latex": [
       "$\\displaystyle \\frac{\\partial}{\\partial z} \\rho{\\left(z,x \\right)} = \\frac{\\operatorname{pwp}{\\left(x,g_{2},g_{3} \\right)}}{2 \\rho{\\left(z,- x \\right)}} + \\frac{\\operatorname{pwp}{\\left(z,g_{2},g_{3} \\right)}}{2 \\rho{\\left(z,- x \\right)}} - \\rho{\\left(z,x \\right)} \\operatorname{zw}{\\left(x,g_{2},g_{3} \\right)}$"
      ],
      "text/plain": [
       "Eq(Derivative(rho(z, x), z), pwp(x, g2, g3)/(2*rho(z, -x)) + pwp(z, g2, g3)/(2*rho(z, -x)) - rho(z, x)*zw(x, g2, g3))"
      ]
     },
     "execution_count": 316,
     "metadata": {},
     "output_type": "execute_result"
    }
   ],
   "source": [
    "rho_zx_p_prime = log_rho_zx_p.subs(-2*rho_p_zx.rhs, -2*rho_p_zx.lhs)\n",
    "rho_zx_p_prime = Eq(rho_zx_p_prime.lhs*rho(z,x), rho_zx_p_prime.rhs*rho(z,x)).expand()\n",
    "rho_zx_p_prime"
   ]
  },
  {
   "cell_type": "code",
   "execution_count": 317,
   "metadata": {
    "scrolled": true
   },
   "outputs": [
    {
     "data": {
      "text/latex": [
       "$\\displaystyle - \\frac{\\sigma{\\left(z - {\\mu}_{0},g_{2},g_{3} \\right)} \\sigma{\\left(z - {\\mu}_{1},g_{2},g_{3} \\right)} \\sigma{\\left(z + {\\mu}_{0} + {\\mu}_{1},g_{2},g_{3} \\right)}}{\\sigma^{3}{\\left(z,g_{2},g_{3} \\right)} \\sigma{\\left(- {\\mu}_{0} - {\\mu}_{1},g_{2},g_{3} \\right)} \\sigma{\\left({\\mu}_{0},g_{2},g_{3} \\right)} \\sigma{\\left({\\mu}_{1},g_{2},g_{3} \\right)}} = \\operatorname{pw}{\\left(z,g_{2},g_{3} \\right)} {c}_{1} + \\frac{\\partial}{\\partial z} \\operatorname{pw}{\\left(z,g_{2},g_{3} \\right)} {c}_{2} + {c}_{0}$"
      ],
      "text/plain": [
       "Eq(-sigma(z - mu[0], g2, g3)*sigma(z - mu[1], g2, g3)*sigma(z + mu[0] + mu[1], g2, g3)/(sigma(z, g2, g3)**3*sigma(-mu[0] - mu[1], g2, g3)*sigma(mu[0], g2, g3)*sigma(mu[1], g2, g3)), pw(z, g2, g3)*c[1] + Derivative(pw(z, g2, g3), z)*c[2] + c[0])"
      ]
     },
     "execution_count": 317,
     "metadata": {},
     "output_type": "execute_result"
    }
   ],
   "source": [
    "sigma_product_wp_c(2)"
   ]
  },
  {
   "cell_type": "code",
   "execution_count": 318,
   "metadata": {},
   "outputs": [],
   "source": [
    "def rho_product_p_prime(Nval, conjugate=False):\n",
    "    result = (sigma_product_wp_c(Nval - 1).subs([*[\n",
    "        (rho_def_zx.rhs.subs(x, mu[_i]), rho_def_zx.lhs.subs(x, mu[_i])) for _i in range(Nval - 1)\n",
    "    ], (\n",
    "        rho_def_zx.rhs.subs(x, -sum([mu[_i] for _i in range(Nval - 1)])).doit(), \n",
    "        rho_def_zx.lhs.subs(x, -sum([mu[_i] for _i in range(Nval - 1)])).doit()\n",
    "    )]).subs([(c[_i], f(_i, *[mu[_j] for _j in range(Nval - 1)])) for _i in range(Nval)])\n",
    "    .subs(diff(pw(z,g2,g3),z),pwp(z,g2,g3)))\n",
    "    if conjugate:\n",
    "        result = result.subs([(mu[_i], -mu[_i]) for _i in range(Nval)])\n",
    "    return result"
   ]
  },
  {
   "cell_type": "code",
   "execution_count": 319,
   "metadata": {},
   "outputs": [
    {
     "data": {
      "text/latex": [
       "$\\displaystyle - \\frac{\\sigma{\\left(z - {\\mu}_{0},g_{2},g_{3} \\right)} \\sigma{\\left(z - {\\mu}_{1},g_{2},g_{3} \\right)} \\sigma{\\left(z + {\\mu}_{0} + {\\mu}_{1},g_{2},g_{3} \\right)}}{\\sigma^{3}{\\left(z,g_{2},g_{3} \\right)} \\sigma{\\left(- {\\mu}_{0} - {\\mu}_{1},g_{2},g_{3} \\right)} \\sigma{\\left({\\mu}_{0},g_{2},g_{3} \\right)} \\sigma{\\left({\\mu}_{1},g_{2},g_{3} \\right)}} = f{\\left(0,{\\mu}_{0},{\\mu}_{1} \\right)} + f{\\left(1,{\\mu}_{0},{\\mu}_{1} \\right)} \\operatorname{pw}{\\left(z,g_{2},g_{3} \\right)} + f{\\left(2,{\\mu}_{0},{\\mu}_{1} \\right)} \\operatorname{pwp}{\\left(z,g_{2},g_{3} \\right)}$"
      ],
      "text/plain": [
       "Eq(-sigma(z - mu[0], g2, g3)*sigma(z - mu[1], g2, g3)*sigma(z + mu[0] + mu[1], g2, g3)/(sigma(z, g2, g3)**3*sigma(-mu[0] - mu[1], g2, g3)*sigma(mu[0], g2, g3)*sigma(mu[1], g2, g3)), f(0, mu[0], mu[1]) + f(1, mu[0], mu[1])*pw(z, g2, g3) + f(2, mu[0], mu[1])*pwp(z, g2, g3))"
      ]
     },
     "execution_count": 319,
     "metadata": {},
     "output_type": "execute_result"
    }
   ],
   "source": [
    "rho_product_p_prime(3)"
   ]
  },
  {
   "cell_type": "code",
   "execution_count": 320,
   "metadata": {},
   "outputs": [
    {
     "data": {
      "text/latex": [
       "$\\displaystyle - \\frac{\\sigma{\\left(z + {\\mu}_{0},g_{2},g_{3} \\right)} \\sigma{\\left(z + {\\mu}_{1},g_{2},g_{3} \\right)} \\sigma{\\left(z - {\\mu}_{0} - {\\mu}_{1},g_{2},g_{3} \\right)}}{\\sigma^{3}{\\left(z,g_{2},g_{3} \\right)} \\sigma{\\left({\\mu}_{0} + {\\mu}_{1},g_{2},g_{3} \\right)} \\sigma{\\left(- {\\mu}_{0},g_{2},g_{3} \\right)} \\sigma{\\left(- {\\mu}_{1},g_{2},g_{3} \\right)}} = f{\\left(0,- {\\mu}_{0},- {\\mu}_{1} \\right)} + f{\\left(1,- {\\mu}_{0},- {\\mu}_{1} \\right)} \\operatorname{pw}{\\left(z,g_{2},g_{3} \\right)} + f{\\left(2,- {\\mu}_{0},- {\\mu}_{1} \\right)} \\operatorname{pwp}{\\left(z,g_{2},g_{3} \\right)}$"
      ],
      "text/plain": [
       "Eq(-sigma(z + mu[0], g2, g3)*sigma(z + mu[1], g2, g3)*sigma(z - mu[0] - mu[1], g2, g3)/(sigma(z, g2, g3)**3*sigma(mu[0] + mu[1], g2, g3)*sigma(-mu[0], g2, g3)*sigma(-mu[1], g2, g3)), f(0, -mu[0], -mu[1]) + f(1, -mu[0], -mu[1])*pw(z, g2, g3) + f(2, -mu[0], -mu[1])*pwp(z, g2, g3))"
      ]
     },
     "execution_count": 320,
     "metadata": {},
     "output_type": "execute_result"
    }
   ],
   "source": [
    "rho_product_p_prime(3, conjugate=True)"
   ]
  },
  {
   "cell_type": "code",
   "execution_count": 321,
   "metadata": {},
   "outputs": [
    {
     "data": {
      "text/latex": [
       "$\\displaystyle \\rho{\\left(x,x \\right)} = \\frac{\\sigma{\\left(0,g_{2},g_{3} \\right)}}{\\sigma^{2}{\\left(x,g_{2},g_{3} \\right)}}$"
      ],
      "text/plain": [
       "Eq(rho(x, x), sigma(0, g2, g3)/sigma(x, g2, g3)**2)"
      ]
     },
     "execution_count": 321,
     "metadata": {},
     "output_type": "execute_result"
    }
   ],
   "source": [
    "rho_def_zx.subs(z,x)"
   ]
  },
  {
   "cell_type": "code",
   "execution_count": 322,
   "metadata": {},
   "outputs": [
    {
     "data": {
      "text/latex": [
       "$\\displaystyle - \\frac{\\sigma{\\left(0,g_{2},g_{3} \\right)} \\sigma{\\left(- 2 {\\mu}_{0} - {\\mu}_{1},g_{2},g_{3} \\right)} \\sigma{\\left(- {\\mu}_{0} + {\\mu}_{1},g_{2},g_{3} \\right)}}{\\sigma{\\left({\\mu}_{0} + {\\mu}_{1},g_{2},g_{3} \\right)} \\sigma^{4}{\\left(- {\\mu}_{0},g_{2},g_{3} \\right)} \\sigma{\\left(- {\\mu}_{1},g_{2},g_{3} \\right)}} = f{\\left(0,- {\\mu}_{0},- {\\mu}_{1} \\right)} + f{\\left(1,- {\\mu}_{0},- {\\mu}_{1} \\right)} \\operatorname{pw}{\\left(- {\\mu}_{0},g_{2},g_{3} \\right)} + f{\\left(2,- {\\mu}_{0},- {\\mu}_{1} \\right)} \\operatorname{pwp}{\\left(- {\\mu}_{0},g_{2},g_{3} \\right)}$"
      ],
      "text/plain": [
       "Eq(-sigma(0, g2, g3)*sigma(-2*mu[0] - mu[1], g2, g3)*sigma(-mu[0] + mu[1], g2, g3)/(sigma(mu[0] + mu[1], g2, g3)*sigma(-mu[0], g2, g3)**4*sigma(-mu[1], g2, g3)), f(0, -mu[0], -mu[1]) + f(1, -mu[0], -mu[1])*pw(-mu[0], g2, g3) + f(2, -mu[0], -mu[1])*pwp(-mu[0], g2, g3))"
      ]
     },
     "execution_count": 322,
     "metadata": {},
     "output_type": "execute_result"
    }
   ],
   "source": [
    "rho_product_p_prime(3, conjugate=True).subs(z,-mu[0])"
   ]
  },
  {
   "cell_type": "code",
   "execution_count": 323,
   "metadata": {},
   "outputs": [
    {
     "data": {
      "text/latex": [
       "$\\displaystyle \\rho{\\left(z,x \\right)} = \\frac{\\sigma{\\left(x - z,g_{2},g_{3} \\right)}}{\\sigma{\\left(x,g_{2},g_{3} \\right)} \\sigma{\\left(z,g_{2},g_{3} \\right)}}$"
      ],
      "text/plain": [
       "Eq(rho(z, x), sigma(x - z, g2, g3)/(sigma(x, g2, g3)*sigma(z, g2, g3)))"
      ]
     },
     "execution_count": 323,
     "metadata": {},
     "output_type": "execute_result"
    }
   ],
   "source": [
    "rho_def_zx"
   ]
  },
  {
   "cell_type": "code",
   "execution_count": 324,
   "metadata": {},
   "outputs": [
    {
     "data": {
      "text/latex": [
       "$\\displaystyle f{\\left(0,- {\\mu}_{0},- {\\mu}_{1} \\right)} + f{\\left(1,- {\\mu}_{0},- {\\mu}_{1} \\right)} \\operatorname{pw}{\\left(- {\\mu}_{0},g_{2},g_{3} \\right)} + f{\\left(2,- {\\mu}_{0},- {\\mu}_{1} \\right)} \\operatorname{pwp}{\\left(- {\\mu}_{0},g_{2},g_{3} \\right)}$"
      ],
      "text/plain": [
       "f(0, -mu[0], -mu[1]) + f(1, -mu[0], -mu[1])*pw(-mu[0], g2, g3) + f(2, -mu[0], -mu[1])*pwp(-mu[0], g2, g3)"
      ]
     },
     "execution_count": 324,
     "metadata": {},
     "output_type": "execute_result"
    }
   ],
   "source": [
    "rho_product_p_prime(3, conjugate=True).subs(z,-mu[0]).rhs"
   ]
  },
  {
   "cell_type": "code",
   "execution_count": 325,
   "metadata": {},
   "outputs": [
    {
     "data": {
      "text/latex": [
       "$\\displaystyle - \\frac{\\sigma{\\left(z + {\\mu}_{0},g_{2},g_{3} \\right)} \\sigma{\\left(z + {\\mu}_{1},g_{2},g_{3} \\right)} \\sigma{\\left(z - {\\mu}_{0} - {\\mu}_{1},g_{2},g_{3} \\right)}}{\\sigma^{3}{\\left(z,g_{2},g_{3} \\right)} \\sigma{\\left({\\mu}_{0} + {\\mu}_{1},g_{2},g_{3} \\right)} \\sigma{\\left(- {\\mu}_{0},g_{2},g_{3} \\right)} \\sigma{\\left(- {\\mu}_{1},g_{2},g_{3} \\right)}} = f{\\left(1,- {\\mu}_{0},- {\\mu}_{1} \\right)} \\operatorname{pw}{\\left(z,g_{2},g_{3} \\right)} - f{\\left(1,- {\\mu}_{0},- {\\mu}_{1} \\right)} \\operatorname{pw}{\\left({\\mu}_{0},g_{2},g_{3} \\right)} + f{\\left(2,- {\\mu}_{0},- {\\mu}_{1} \\right)} \\operatorname{pwp}{\\left(z,g_{2},g_{3} \\right)} + f{\\left(2,- {\\mu}_{0},- {\\mu}_{1} \\right)} \\operatorname{pwp}{\\left({\\mu}_{0},g_{2},g_{3} \\right)}$"
      ],
      "text/plain": [
       "Eq(-sigma(z + mu[0], g2, g3)*sigma(z + mu[1], g2, g3)*sigma(z - mu[0] - mu[1], g2, g3)/(sigma(z, g2, g3)**3*sigma(mu[0] + mu[1], g2, g3)*sigma(-mu[0], g2, g3)*sigma(-mu[1], g2, g3)), f(1, -mu[0], -mu[1])*pw(z, g2, g3) - f(1, -mu[0], -mu[1])*pw(mu[0], g2, g3) + f(2, -mu[0], -mu[1])*pwp(z, g2, g3) + f(2, -mu[0], -mu[1])*pwp(mu[0], g2, g3))"
      ]
     },
     "execution_count": 325,
     "metadata": {},
     "output_type": "execute_result"
    }
   ],
   "source": [
    "xx = Eq(rho_product_p_prime(3, conjugate=True).lhs, \n",
    "   rho_product_p_prime(3, conjugate=True).rhs - rho_product_p_prime(3, conjugate=True).subs(z,-mu[0]).rhs\n",
    "  ).subs([\n",
    "    (pw(-mu[0], g2, g3), pw(mu[0], g2, g3)),\n",
    "    (pwp(-mu[0], g2, g3), -pwp(mu[0], g2, g3))\n",
    "])\n",
    "xx"
   ]
  },
  {
   "cell_type": "code",
   "execution_count": 326,
   "metadata": {},
   "outputs": [],
   "source": [
    "def rho_system(Nval):\n",
    "    all_vals = [*[mu[_i] for _i in range(Nval-1)], -sum([mu[_i] for _i in range(Nval-1)])]\n",
    "    return [   \n",
    "            rho_zx_p_prime.subs([\n",
    "                (x, v),\n",
    "                (\n",
    "                    pwp(z,g2,g3), \n",
    "                    solve(\n",
    "                        Eq(\n",
    "                            rho_product_p_prime(Nval, conjugate=True).lhs, \n",
    "                            rho_product_p_prime(Nval, conjugate=True).rhs - \n",
    "                            rho_product_p_prime(Nval, conjugate=True).subs(z,-v).rhs\n",
    "                        ).subs([\n",
    "                            (pw(-v, g2, g3), pw(v, g2, g3)),\n",
    "                            (pwp(-v, g2, g3), -pwp(v, g2, g3))\n",
    "                        ]), \n",
    "                        pwp(z,g2,g3)\n",
    "                    )[0]\n",
    "                ),\n",
    "                (pw(z,g2,g3), solve(rho_p_zx.subs(x, v), pw(z,g2,g3))[0]),\n",
    "            ]).expand()\n",
    "            for v in all_vals\n",
    "    ]\n",
    "        "
   ]
  },
  {
   "cell_type": "code",
   "execution_count": 327,
   "metadata": {},
   "outputs": [
    {
     "data": {
      "text/latex": [
       "$\\displaystyle \\frac{\\partial}{\\partial z} \\rho{\\left(z,{\\mu}_{0} \\right)} = - \\frac{f{\\left(1,- {\\mu}_{0},- {\\mu}_{1} \\right)} \\rho{\\left(z,{\\mu}_{0} \\right)}}{2 f{\\left(2,- {\\mu}_{0},- {\\mu}_{1} \\right)}} - \\rho{\\left(z,{\\mu}_{0} \\right)} \\operatorname{zw}{\\left({\\mu}_{0},g_{2},g_{3} \\right)} - \\frac{\\sigma{\\left(z + {\\mu}_{0},g_{2},g_{3} \\right)} \\sigma{\\left(z + {\\mu}_{1},g_{2},g_{3} \\right)} \\sigma{\\left(z - {\\mu}_{0} - {\\mu}_{1},g_{2},g_{3} \\right)}}{2 f{\\left(2,- {\\mu}_{0},- {\\mu}_{1} \\right)} \\rho{\\left(z,- {\\mu}_{0} \\right)} \\sigma^{3}{\\left(z,g_{2},g_{3} \\right)} \\sigma{\\left({\\mu}_{0} + {\\mu}_{1},g_{2},g_{3} \\right)} \\sigma{\\left(- {\\mu}_{0},g_{2},g_{3} \\right)} \\sigma{\\left(- {\\mu}_{1},g_{2},g_{3} \\right)}}$"
      ],
      "text/plain": [
       "Eq(Derivative(rho(z, mu[0]), z), -f(1, -mu[0], -mu[1])*rho(z, mu[0])/(2*f(2, -mu[0], -mu[1])) - rho(z, mu[0])*zw(mu[0], g2, g3) - sigma(z + mu[0], g2, g3)*sigma(z + mu[1], g2, g3)*sigma(z - mu[0] - mu[1], g2, g3)/(2*f(2, -mu[0], -mu[1])*rho(z, -mu[0])*sigma(z, g2, g3)**3*sigma(mu[0] + mu[1], g2, g3)*sigma(-mu[0], g2, g3)*sigma(-mu[1], g2, g3)))"
      ]
     },
     "execution_count": 327,
     "metadata": {},
     "output_type": "execute_result"
    },
    {
     "data": {
      "text/latex": [
       "$\\displaystyle \\frac{\\partial}{\\partial z} \\rho{\\left(z,{\\mu}_{1} \\right)} = - \\frac{f{\\left(1,- {\\mu}_{0},- {\\mu}_{1} \\right)} \\rho{\\left(z,{\\mu}_{1} \\right)}}{2 f{\\left(2,- {\\mu}_{0},- {\\mu}_{1} \\right)}} - \\rho{\\left(z,{\\mu}_{1} \\right)} \\operatorname{zw}{\\left({\\mu}_{1},g_{2},g_{3} \\right)} - \\frac{\\sigma{\\left(z + {\\mu}_{0},g_{2},g_{3} \\right)} \\sigma{\\left(z + {\\mu}_{1},g_{2},g_{3} \\right)} \\sigma{\\left(z - {\\mu}_{0} - {\\mu}_{1},g_{2},g_{3} \\right)}}{2 f{\\left(2,- {\\mu}_{0},- {\\mu}_{1} \\right)} \\rho{\\left(z,- {\\mu}_{1} \\right)} \\sigma^{3}{\\left(z,g_{2},g_{3} \\right)} \\sigma{\\left({\\mu}_{0} + {\\mu}_{1},g_{2},g_{3} \\right)} \\sigma{\\left(- {\\mu}_{0},g_{2},g_{3} \\right)} \\sigma{\\left(- {\\mu}_{1},g_{2},g_{3} \\right)}}$"
      ],
      "text/plain": [
       "Eq(Derivative(rho(z, mu[1]), z), -f(1, -mu[0], -mu[1])*rho(z, mu[1])/(2*f(2, -mu[0], -mu[1])) - rho(z, mu[1])*zw(mu[1], g2, g3) - sigma(z + mu[0], g2, g3)*sigma(z + mu[1], g2, g3)*sigma(z - mu[0] - mu[1], g2, g3)/(2*f(2, -mu[0], -mu[1])*rho(z, -mu[1])*sigma(z, g2, g3)**3*sigma(mu[0] + mu[1], g2, g3)*sigma(-mu[0], g2, g3)*sigma(-mu[1], g2, g3)))"
      ]
     },
     "execution_count": 327,
     "metadata": {},
     "output_type": "execute_result"
    },
    {
     "data": {
      "text/latex": [
       "$\\displaystyle \\frac{\\partial}{\\partial z} \\rho{\\left(z,- {\\mu}_{0} - {\\mu}_{1} \\right)} = - \\frac{f{\\left(1,- {\\mu}_{0},- {\\mu}_{1} \\right)} \\rho{\\left(z,- {\\mu}_{0} - {\\mu}_{1} \\right)}}{2 f{\\left(2,- {\\mu}_{0},- {\\mu}_{1} \\right)}} - \\rho{\\left(z,- {\\mu}_{0} - {\\mu}_{1} \\right)} \\operatorname{zw}{\\left(- {\\mu}_{0} - {\\mu}_{1},g_{2},g_{3} \\right)} - \\frac{\\sigma{\\left(z + {\\mu}_{0},g_{2},g_{3} \\right)} \\sigma{\\left(z + {\\mu}_{1},g_{2},g_{3} \\right)} \\sigma{\\left(z - {\\mu}_{0} - {\\mu}_{1},g_{2},g_{3} \\right)}}{2 f{\\left(2,- {\\mu}_{0},- {\\mu}_{1} \\right)} \\rho{\\left(z,{\\mu}_{0} + {\\mu}_{1} \\right)} \\sigma^{3}{\\left(z,g_{2},g_{3} \\right)} \\sigma{\\left({\\mu}_{0} + {\\mu}_{1},g_{2},g_{3} \\right)} \\sigma{\\left(- {\\mu}_{0},g_{2},g_{3} \\right)} \\sigma{\\left(- {\\mu}_{1},g_{2},g_{3} \\right)}}$"
      ],
      "text/plain": [
       "Eq(Derivative(rho(z, -mu[0] - mu[1]), z), -f(1, -mu[0], -mu[1])*rho(z, -mu[0] - mu[1])/(2*f(2, -mu[0], -mu[1])) - rho(z, -mu[0] - mu[1])*zw(-mu[0] - mu[1], g2, g3) - sigma(z + mu[0], g2, g3)*sigma(z + mu[1], g2, g3)*sigma(z - mu[0] - mu[1], g2, g3)/(2*f(2, -mu[0], -mu[1])*rho(z, mu[0] + mu[1])*sigma(z, g2, g3)**3*sigma(mu[0] + mu[1], g2, g3)*sigma(-mu[0], g2, g3)*sigma(-mu[1], g2, g3)))"
      ]
     },
     "execution_count": 327,
     "metadata": {},
     "output_type": "execute_result"
    }
   ],
   "source": [
    "for eq in rho_system(3):\n",
    "    eq"
   ]
  },
  {
   "cell_type": "code",
   "execution_count": 328,
   "metadata": {},
   "outputs": [
    {
     "data": {
      "text/latex": [
       "$\\displaystyle \\frac{\\partial}{\\partial z} \\rho{\\left(z,{\\mu}_{0} \\right)} = - \\frac{f{\\left(1,- {\\mu}_{0},- {\\mu}_{1},- {\\mu}_{2} \\right)} \\rho{\\left(z,{\\mu}_{0} \\right)}}{2 f{\\left(2,- {\\mu}_{0},- {\\mu}_{1},- {\\mu}_{2} \\right)}} - \\rho{\\left(z,{\\mu}_{0} \\right)} \\operatorname{zw}{\\left({\\mu}_{0},g_{2},g_{3} \\right)} - \\frac{6 f{\\left(3,- {\\mu}_{0},- {\\mu}_{1},- {\\mu}_{2} \\right)} \\operatorname{pw}{\\left({\\mu}_{0},g_{2},g_{3} \\right)} \\rho{\\left(z,{\\mu}_{0} \\right)}}{f{\\left(2,- {\\mu}_{0},- {\\mu}_{1},- {\\mu}_{2} \\right)}} - \\frac{3 f{\\left(3,- {\\mu}_{0},- {\\mu}_{1},- {\\mu}_{2} \\right)} \\rho{\\left(z,- {\\mu}_{0} \\right)} \\rho^{2}{\\left(z,{\\mu}_{0} \\right)}}{f{\\left(2,- {\\mu}_{0},- {\\mu}_{1},- {\\mu}_{2} \\right)}} + \\frac{\\sigma{\\left(z + {\\mu}_{0},g_{2},g_{3} \\right)} \\sigma{\\left(z + {\\mu}_{1},g_{2},g_{3} \\right)} \\sigma{\\left(z + {\\mu}_{2},g_{2},g_{3} \\right)} \\sigma{\\left(z - {\\mu}_{0} - {\\mu}_{1} - {\\mu}_{2},g_{2},g_{3} \\right)}}{2 f{\\left(2,- {\\mu}_{0},- {\\mu}_{1},- {\\mu}_{2} \\right)} \\rho{\\left(z,- {\\mu}_{0} \\right)} \\sigma^{4}{\\left(z,g_{2},g_{3} \\right)} \\sigma{\\left({\\mu}_{0} + {\\mu}_{1} + {\\mu}_{2},g_{2},g_{3} \\right)} \\sigma{\\left(- {\\mu}_{0},g_{2},g_{3} \\right)} \\sigma{\\left(- {\\mu}_{1},g_{2},g_{3} \\right)} \\sigma{\\left(- {\\mu}_{2},g_{2},g_{3} \\right)}}$"
      ],
      "text/plain": [
       "Eq(Derivative(rho(z, mu[0]), z), -f(1, -mu[0], -mu[1], -mu[2])*rho(z, mu[0])/(2*f(2, -mu[0], -mu[1], -mu[2])) - rho(z, mu[0])*zw(mu[0], g2, g3) - 6*f(3, -mu[0], -mu[1], -mu[2])*pw(mu[0], g2, g3)*rho(z, mu[0])/f(2, -mu[0], -mu[1], -mu[2]) - 3*f(3, -mu[0], -mu[1], -mu[2])*rho(z, -mu[0])*rho(z, mu[0])**2/f(2, -mu[0], -mu[1], -mu[2]) + sigma(z + mu[0], g2, g3)*sigma(z + mu[1], g2, g3)*sigma(z + mu[2], g2, g3)*sigma(z - mu[0] - mu[1] - mu[2], g2, g3)/(2*f(2, -mu[0], -mu[1], -mu[2])*rho(z, -mu[0])*sigma(z, g2, g3)**4*sigma(mu[0] + mu[1] + mu[2], g2, g3)*sigma(-mu[0], g2, g3)*sigma(-mu[1], g2, g3)*sigma(-mu[2], g2, g3)))"
      ]
     },
     "execution_count": 328,
     "metadata": {},
     "output_type": "execute_result"
    },
    {
     "data": {
      "text/latex": [
       "$\\displaystyle \\frac{\\partial}{\\partial z} \\rho{\\left(z,{\\mu}_{1} \\right)} = - \\frac{f{\\left(1,- {\\mu}_{0},- {\\mu}_{1},- {\\mu}_{2} \\right)} \\rho{\\left(z,{\\mu}_{1} \\right)}}{2 f{\\left(2,- {\\mu}_{0},- {\\mu}_{1},- {\\mu}_{2} \\right)}} - \\rho{\\left(z,{\\mu}_{1} \\right)} \\operatorname{zw}{\\left({\\mu}_{1},g_{2},g_{3} \\right)} - \\frac{6 f{\\left(3,- {\\mu}_{0},- {\\mu}_{1},- {\\mu}_{2} \\right)} \\operatorname{pw}{\\left({\\mu}_{1},g_{2},g_{3} \\right)} \\rho{\\left(z,{\\mu}_{1} \\right)}}{f{\\left(2,- {\\mu}_{0},- {\\mu}_{1},- {\\mu}_{2} \\right)}} - \\frac{3 f{\\left(3,- {\\mu}_{0},- {\\mu}_{1},- {\\mu}_{2} \\right)} \\rho{\\left(z,- {\\mu}_{1} \\right)} \\rho^{2}{\\left(z,{\\mu}_{1} \\right)}}{f{\\left(2,- {\\mu}_{0},- {\\mu}_{1},- {\\mu}_{2} \\right)}} + \\frac{\\sigma{\\left(z + {\\mu}_{0},g_{2},g_{3} \\right)} \\sigma{\\left(z + {\\mu}_{1},g_{2},g_{3} \\right)} \\sigma{\\left(z + {\\mu}_{2},g_{2},g_{3} \\right)} \\sigma{\\left(z - {\\mu}_{0} - {\\mu}_{1} - {\\mu}_{2},g_{2},g_{3} \\right)}}{2 f{\\left(2,- {\\mu}_{0},- {\\mu}_{1},- {\\mu}_{2} \\right)} \\rho{\\left(z,- {\\mu}_{1} \\right)} \\sigma^{4}{\\left(z,g_{2},g_{3} \\right)} \\sigma{\\left({\\mu}_{0} + {\\mu}_{1} + {\\mu}_{2},g_{2},g_{3} \\right)} \\sigma{\\left(- {\\mu}_{0},g_{2},g_{3} \\right)} \\sigma{\\left(- {\\mu}_{1},g_{2},g_{3} \\right)} \\sigma{\\left(- {\\mu}_{2},g_{2},g_{3} \\right)}}$"
      ],
      "text/plain": [
       "Eq(Derivative(rho(z, mu[1]), z), -f(1, -mu[0], -mu[1], -mu[2])*rho(z, mu[1])/(2*f(2, -mu[0], -mu[1], -mu[2])) - rho(z, mu[1])*zw(mu[1], g2, g3) - 6*f(3, -mu[0], -mu[1], -mu[2])*pw(mu[1], g2, g3)*rho(z, mu[1])/f(2, -mu[0], -mu[1], -mu[2]) - 3*f(3, -mu[0], -mu[1], -mu[2])*rho(z, -mu[1])*rho(z, mu[1])**2/f(2, -mu[0], -mu[1], -mu[2]) + sigma(z + mu[0], g2, g3)*sigma(z + mu[1], g2, g3)*sigma(z + mu[2], g2, g3)*sigma(z - mu[0] - mu[1] - mu[2], g2, g3)/(2*f(2, -mu[0], -mu[1], -mu[2])*rho(z, -mu[1])*sigma(z, g2, g3)**4*sigma(mu[0] + mu[1] + mu[2], g2, g3)*sigma(-mu[0], g2, g3)*sigma(-mu[1], g2, g3)*sigma(-mu[2], g2, g3)))"
      ]
     },
     "execution_count": 328,
     "metadata": {},
     "output_type": "execute_result"
    },
    {
     "data": {
      "text/latex": [
       "$\\displaystyle \\frac{\\partial}{\\partial z} \\rho{\\left(z,{\\mu}_{2} \\right)} = - \\frac{f{\\left(1,- {\\mu}_{0},- {\\mu}_{1},- {\\mu}_{2} \\right)} \\rho{\\left(z,{\\mu}_{2} \\right)}}{2 f{\\left(2,- {\\mu}_{0},- {\\mu}_{1},- {\\mu}_{2} \\right)}} - \\rho{\\left(z,{\\mu}_{2} \\right)} \\operatorname{zw}{\\left({\\mu}_{2},g_{2},g_{3} \\right)} - \\frac{6 f{\\left(3,- {\\mu}_{0},- {\\mu}_{1},- {\\mu}_{2} \\right)} \\operatorname{pw}{\\left({\\mu}_{2},g_{2},g_{3} \\right)} \\rho{\\left(z,{\\mu}_{2} \\right)}}{f{\\left(2,- {\\mu}_{0},- {\\mu}_{1},- {\\mu}_{2} \\right)}} - \\frac{3 f{\\left(3,- {\\mu}_{0},- {\\mu}_{1},- {\\mu}_{2} \\right)} \\rho{\\left(z,- {\\mu}_{2} \\right)} \\rho^{2}{\\left(z,{\\mu}_{2} \\right)}}{f{\\left(2,- {\\mu}_{0},- {\\mu}_{1},- {\\mu}_{2} \\right)}} + \\frac{\\sigma{\\left(z + {\\mu}_{0},g_{2},g_{3} \\right)} \\sigma{\\left(z + {\\mu}_{1},g_{2},g_{3} \\right)} \\sigma{\\left(z + {\\mu}_{2},g_{2},g_{3} \\right)} \\sigma{\\left(z - {\\mu}_{0} - {\\mu}_{1} - {\\mu}_{2},g_{2},g_{3} \\right)}}{2 f{\\left(2,- {\\mu}_{0},- {\\mu}_{1},- {\\mu}_{2} \\right)} \\rho{\\left(z,- {\\mu}_{2} \\right)} \\sigma^{4}{\\left(z,g_{2},g_{3} \\right)} \\sigma{\\left({\\mu}_{0} + {\\mu}_{1} + {\\mu}_{2},g_{2},g_{3} \\right)} \\sigma{\\left(- {\\mu}_{0},g_{2},g_{3} \\right)} \\sigma{\\left(- {\\mu}_{1},g_{2},g_{3} \\right)} \\sigma{\\left(- {\\mu}_{2},g_{2},g_{3} \\right)}}$"
      ],
      "text/plain": [
       "Eq(Derivative(rho(z, mu[2]), z), -f(1, -mu[0], -mu[1], -mu[2])*rho(z, mu[2])/(2*f(2, -mu[0], -mu[1], -mu[2])) - rho(z, mu[2])*zw(mu[2], g2, g3) - 6*f(3, -mu[0], -mu[1], -mu[2])*pw(mu[2], g2, g3)*rho(z, mu[2])/f(2, -mu[0], -mu[1], -mu[2]) - 3*f(3, -mu[0], -mu[1], -mu[2])*rho(z, -mu[2])*rho(z, mu[2])**2/f(2, -mu[0], -mu[1], -mu[2]) + sigma(z + mu[0], g2, g3)*sigma(z + mu[1], g2, g3)*sigma(z + mu[2], g2, g3)*sigma(z - mu[0] - mu[1] - mu[2], g2, g3)/(2*f(2, -mu[0], -mu[1], -mu[2])*rho(z, -mu[2])*sigma(z, g2, g3)**4*sigma(mu[0] + mu[1] + mu[2], g2, g3)*sigma(-mu[0], g2, g3)*sigma(-mu[1], g2, g3)*sigma(-mu[2], g2, g3)))"
      ]
     },
     "execution_count": 328,
     "metadata": {},
     "output_type": "execute_result"
    },
    {
     "data": {
      "text/latex": [
       "$\\displaystyle \\frac{\\partial}{\\partial z} \\rho{\\left(z,- {\\mu}_{0} - {\\mu}_{1} - {\\mu}_{2} \\right)} = - \\frac{f{\\left(1,- {\\mu}_{0},- {\\mu}_{1},- {\\mu}_{2} \\right)} \\rho{\\left(z,- {\\mu}_{0} - {\\mu}_{1} - {\\mu}_{2} \\right)}}{2 f{\\left(2,- {\\mu}_{0},- {\\mu}_{1},- {\\mu}_{2} \\right)}} - \\rho{\\left(z,- {\\mu}_{0} - {\\mu}_{1} - {\\mu}_{2} \\right)} \\operatorname{zw}{\\left(- {\\mu}_{0} - {\\mu}_{1} - {\\mu}_{2},g_{2},g_{3} \\right)} - \\frac{6 f{\\left(3,- {\\mu}_{0},- {\\mu}_{1},- {\\mu}_{2} \\right)} \\operatorname{pw}{\\left(- {\\mu}_{0} - {\\mu}_{1} - {\\mu}_{2},g_{2},g_{3} \\right)} \\rho{\\left(z,- {\\mu}_{0} - {\\mu}_{1} - {\\mu}_{2} \\right)}}{f{\\left(2,- {\\mu}_{0},- {\\mu}_{1},- {\\mu}_{2} \\right)}} - \\frac{3 f{\\left(3,- {\\mu}_{0},- {\\mu}_{1},- {\\mu}_{2} \\right)} \\rho^{2}{\\left(z,- {\\mu}_{0} - {\\mu}_{1} - {\\mu}_{2} \\right)} \\rho{\\left(z,{\\mu}_{0} + {\\mu}_{1} + {\\mu}_{2} \\right)}}{f{\\left(2,- {\\mu}_{0},- {\\mu}_{1},- {\\mu}_{2} \\right)}} + \\frac{\\sigma{\\left(z + {\\mu}_{0},g_{2},g_{3} \\right)} \\sigma{\\left(z + {\\mu}_{1},g_{2},g_{3} \\right)} \\sigma{\\left(z + {\\mu}_{2},g_{2},g_{3} \\right)} \\sigma{\\left(z - {\\mu}_{0} - {\\mu}_{1} - {\\mu}_{2},g_{2},g_{3} \\right)}}{2 f{\\left(2,- {\\mu}_{0},- {\\mu}_{1},- {\\mu}_{2} \\right)} \\rho{\\left(z,{\\mu}_{0} + {\\mu}_{1} + {\\mu}_{2} \\right)} \\sigma^{4}{\\left(z,g_{2},g_{3} \\right)} \\sigma{\\left({\\mu}_{0} + {\\mu}_{1} + {\\mu}_{2},g_{2},g_{3} \\right)} \\sigma{\\left(- {\\mu}_{0},g_{2},g_{3} \\right)} \\sigma{\\left(- {\\mu}_{1},g_{2},g_{3} \\right)} \\sigma{\\left(- {\\mu}_{2},g_{2},g_{3} \\right)}}$"
      ],
      "text/plain": [
       "Eq(Derivative(rho(z, -mu[0] - mu[1] - mu[2]), z), -f(1, -mu[0], -mu[1], -mu[2])*rho(z, -mu[0] - mu[1] - mu[2])/(2*f(2, -mu[0], -mu[1], -mu[2])) - rho(z, -mu[0] - mu[1] - mu[2])*zw(-mu[0] - mu[1] - mu[2], g2, g3) - 6*f(3, -mu[0], -mu[1], -mu[2])*pw(-mu[0] - mu[1] - mu[2], g2, g3)*rho(z, -mu[0] - mu[1] - mu[2])/f(2, -mu[0], -mu[1], -mu[2]) - 3*f(3, -mu[0], -mu[1], -mu[2])*rho(z, -mu[0] - mu[1] - mu[2])**2*rho(z, mu[0] + mu[1] + mu[2])/f(2, -mu[0], -mu[1], -mu[2]) + sigma(z + mu[0], g2, g3)*sigma(z + mu[1], g2, g3)*sigma(z + mu[2], g2, g3)*sigma(z - mu[0] - mu[1] - mu[2], g2, g3)/(2*f(2, -mu[0], -mu[1], -mu[2])*rho(z, mu[0] + mu[1] + mu[2])*sigma(z, g2, g3)**4*sigma(mu[0] + mu[1] + mu[2], g2, g3)*sigma(-mu[0], g2, g3)*sigma(-mu[1], g2, g3)*sigma(-mu[2], g2, g3)))"
      ]
     },
     "execution_count": 328,
     "metadata": {},
     "output_type": "execute_result"
    }
   ],
   "source": [
    "for eq in rho_system(4):\n",
    "    eq"
   ]
  },
  {
   "cell_type": "code",
   "execution_count": 329,
   "metadata": {},
   "outputs": [
    {
     "data": {
      "text/latex": [
       "$\\displaystyle \\frac{\\partial}{\\partial z} \\rho{\\left(z,{\\mu}_{0} \\right)} = \\frac{\\operatorname{pwp}{\\left({\\mu}_{0},g_{2},g_{3} \\right)}}{2 \\rho{\\left(z,- {\\mu}_{0} \\right)}} - \\rho{\\left(z,{\\mu}_{0} \\right)} \\operatorname{zw}{\\left({\\mu}_{0},g_{2},g_{3} \\right)} - \\frac{f{\\left(1,- {\\mu}_{0},- {\\mu}_{1},- {\\mu}_{2},- {\\mu}_{3} \\right)} \\rho{\\left(z,- {\\mu}_{0} \\right)} \\rho{\\left(z,{\\mu}_{0} \\right)} \\sigma^{5}{\\left(z,g_{2},g_{3} \\right)} \\sigma{\\left({\\mu}_{0} + {\\mu}_{1} + {\\mu}_{2} + {\\mu}_{3},g_{2},g_{3} \\right)} \\sigma{\\left(- {\\mu}_{0},g_{2},g_{3} \\right)} \\sigma{\\left(- {\\mu}_{1},g_{2},g_{3} \\right)} \\sigma{\\left(- {\\mu}_{2},g_{2},g_{3} \\right)} \\sigma{\\left(- {\\mu}_{3},g_{2},g_{3} \\right)}}{2 f{\\left(2,- {\\mu}_{0},- {\\mu}_{1},- {\\mu}_{2},- {\\mu}_{3} \\right)} \\rho{\\left(z,- {\\mu}_{0} \\right)} \\sigma^{5}{\\left(z,g_{2},g_{3} \\right)} \\sigma{\\left({\\mu}_{0} + {\\mu}_{1} + {\\mu}_{2} + {\\mu}_{3},g_{2},g_{3} \\right)} \\sigma{\\left(- {\\mu}_{0},g_{2},g_{3} \\right)} \\sigma{\\left(- {\\mu}_{1},g_{2},g_{3} \\right)} \\sigma{\\left(- {\\mu}_{2},g_{2},g_{3} \\right)} \\sigma{\\left(- {\\mu}_{3},g_{2},g_{3} \\right)} + 24 f{\\left(4,- {\\mu}_{0},- {\\mu}_{1},- {\\mu}_{2},- {\\mu}_{3} \\right)} \\operatorname{pw}{\\left({\\mu}_{0},g_{2},g_{3} \\right)} \\rho{\\left(z,- {\\mu}_{0} \\right)} \\sigma^{5}{\\left(z,g_{2},g_{3} \\right)} \\sigma{\\left({\\mu}_{0} + {\\mu}_{1} + {\\mu}_{2} + {\\mu}_{3},g_{2},g_{3} \\right)} \\sigma{\\left(- {\\mu}_{0},g_{2},g_{3} \\right)} \\sigma{\\left(- {\\mu}_{1},g_{2},g_{3} \\right)} \\sigma{\\left(- {\\mu}_{2},g_{2},g_{3} \\right)} \\sigma{\\left(- {\\mu}_{3},g_{2},g_{3} \\right)} + 24 f{\\left(4,- {\\mu}_{0},- {\\mu}_{1},- {\\mu}_{2},- {\\mu}_{3} \\right)} \\rho^{2}{\\left(z,- {\\mu}_{0} \\right)} \\rho{\\left(z,{\\mu}_{0} \\right)} \\sigma^{5}{\\left(z,g_{2},g_{3} \\right)} \\sigma{\\left({\\mu}_{0} + {\\mu}_{1} + {\\mu}_{2} + {\\mu}_{3},g_{2},g_{3} \\right)} \\sigma{\\left(- {\\mu}_{0},g_{2},g_{3} \\right)} \\sigma{\\left(- {\\mu}_{1},g_{2},g_{3} \\right)} \\sigma{\\left(- {\\mu}_{2},g_{2},g_{3} \\right)} \\sigma{\\left(- {\\mu}_{3},g_{2},g_{3} \\right)}} - \\frac{f{\\left(2,- {\\mu}_{0},- {\\mu}_{1},- {\\mu}_{2},- {\\mu}_{3} \\right)} \\operatorname{pwp}{\\left({\\mu}_{0},g_{2},g_{3} \\right)} \\sigma^{5}{\\left(z,g_{2},g_{3} \\right)} \\sigma{\\left({\\mu}_{0} + {\\mu}_{1} + {\\mu}_{2} + {\\mu}_{3},g_{2},g_{3} \\right)} \\sigma{\\left(- {\\mu}_{0},g_{2},g_{3} \\right)} \\sigma{\\left(- {\\mu}_{1},g_{2},g_{3} \\right)} \\sigma{\\left(- {\\mu}_{2},g_{2},g_{3} \\right)} \\sigma{\\left(- {\\mu}_{3},g_{2},g_{3} \\right)}}{2 f{\\left(2,- {\\mu}_{0},- {\\mu}_{1},- {\\mu}_{2},- {\\mu}_{3} \\right)} \\rho{\\left(z,- {\\mu}_{0} \\right)} \\sigma^{5}{\\left(z,g_{2},g_{3} \\right)} \\sigma{\\left({\\mu}_{0} + {\\mu}_{1} + {\\mu}_{2} + {\\mu}_{3},g_{2},g_{3} \\right)} \\sigma{\\left(- {\\mu}_{0},g_{2},g_{3} \\right)} \\sigma{\\left(- {\\mu}_{1},g_{2},g_{3} \\right)} \\sigma{\\left(- {\\mu}_{2},g_{2},g_{3} \\right)} \\sigma{\\left(- {\\mu}_{3},g_{2},g_{3} \\right)} + 24 f{\\left(4,- {\\mu}_{0},- {\\mu}_{1},- {\\mu}_{2},- {\\mu}_{3} \\right)} \\operatorname{pw}{\\left({\\mu}_{0},g_{2},g_{3} \\right)} \\rho{\\left(z,- {\\mu}_{0} \\right)} \\sigma^{5}{\\left(z,g_{2},g_{3} \\right)} \\sigma{\\left({\\mu}_{0} + {\\mu}_{1} + {\\mu}_{2} + {\\mu}_{3},g_{2},g_{3} \\right)} \\sigma{\\left(- {\\mu}_{0},g_{2},g_{3} \\right)} \\sigma{\\left(- {\\mu}_{1},g_{2},g_{3} \\right)} \\sigma{\\left(- {\\mu}_{2},g_{2},g_{3} \\right)} \\sigma{\\left(- {\\mu}_{3},g_{2},g_{3} \\right)} + 24 f{\\left(4,- {\\mu}_{0},- {\\mu}_{1},- {\\mu}_{2},- {\\mu}_{3} \\right)} \\rho^{2}{\\left(z,- {\\mu}_{0} \\right)} \\rho{\\left(z,{\\mu}_{0} \\right)} \\sigma^{5}{\\left(z,g_{2},g_{3} \\right)} \\sigma{\\left({\\mu}_{0} + {\\mu}_{1} + {\\mu}_{2} + {\\mu}_{3},g_{2},g_{3} \\right)} \\sigma{\\left(- {\\mu}_{0},g_{2},g_{3} \\right)} \\sigma{\\left(- {\\mu}_{1},g_{2},g_{3} \\right)} \\sigma{\\left(- {\\mu}_{2},g_{2},g_{3} \\right)} \\sigma{\\left(- {\\mu}_{3},g_{2},g_{3} \\right)}} - \\frac{12 f{\\left(3,- {\\mu}_{0},- {\\mu}_{1},- {\\mu}_{2},- {\\mu}_{3} \\right)} \\operatorname{pw}{\\left({\\mu}_{0},g_{2},g_{3} \\right)} \\rho{\\left(z,- {\\mu}_{0} \\right)} \\rho{\\left(z,{\\mu}_{0} \\right)} \\sigma^{5}{\\left(z,g_{2},g_{3} \\right)} \\sigma{\\left({\\mu}_{0} + {\\mu}_{1} + {\\mu}_{2} + {\\mu}_{3},g_{2},g_{3} \\right)} \\sigma{\\left(- {\\mu}_{0},g_{2},g_{3} \\right)} \\sigma{\\left(- {\\mu}_{1},g_{2},g_{3} \\right)} \\sigma{\\left(- {\\mu}_{2},g_{2},g_{3} \\right)} \\sigma{\\left(- {\\mu}_{3},g_{2},g_{3} \\right)}}{2 f{\\left(2,- {\\mu}_{0},- {\\mu}_{1},- {\\mu}_{2},- {\\mu}_{3} \\right)} \\rho{\\left(z,- {\\mu}_{0} \\right)} \\sigma^{5}{\\left(z,g_{2},g_{3} \\right)} \\sigma{\\left({\\mu}_{0} + {\\mu}_{1} + {\\mu}_{2} + {\\mu}_{3},g_{2},g_{3} \\right)} \\sigma{\\left(- {\\mu}_{0},g_{2},g_{3} \\right)} \\sigma{\\left(- {\\mu}_{1},g_{2},g_{3} \\right)} \\sigma{\\left(- {\\mu}_{2},g_{2},g_{3} \\right)} \\sigma{\\left(- {\\mu}_{3},g_{2},g_{3} \\right)} + 24 f{\\left(4,- {\\mu}_{0},- {\\mu}_{1},- {\\mu}_{2},- {\\mu}_{3} \\right)} \\operatorname{pw}{\\left({\\mu}_{0},g_{2},g_{3} \\right)} \\rho{\\left(z,- {\\mu}_{0} \\right)} \\sigma^{5}{\\left(z,g_{2},g_{3} \\right)} \\sigma{\\left({\\mu}_{0} + {\\mu}_{1} + {\\mu}_{2} + {\\mu}_{3},g_{2},g_{3} \\right)} \\sigma{\\left(- {\\mu}_{0},g_{2},g_{3} \\right)} \\sigma{\\left(- {\\mu}_{1},g_{2},g_{3} \\right)} \\sigma{\\left(- {\\mu}_{2},g_{2},g_{3} \\right)} \\sigma{\\left(- {\\mu}_{3},g_{2},g_{3} \\right)} + 24 f{\\left(4,- {\\mu}_{0},- {\\mu}_{1},- {\\mu}_{2},- {\\mu}_{3} \\right)} \\rho^{2}{\\left(z,- {\\mu}_{0} \\right)} \\rho{\\left(z,{\\mu}_{0} \\right)} \\sigma^{5}{\\left(z,g_{2},g_{3} \\right)} \\sigma{\\left({\\mu}_{0} + {\\mu}_{1} + {\\mu}_{2} + {\\mu}_{3},g_{2},g_{3} \\right)} \\sigma{\\left(- {\\mu}_{0},g_{2},g_{3} \\right)} \\sigma{\\left(- {\\mu}_{1},g_{2},g_{3} \\right)} \\sigma{\\left(- {\\mu}_{2},g_{2},g_{3} \\right)} \\sigma{\\left(- {\\mu}_{3},g_{2},g_{3} \\right)}} - \\frac{6 f{\\left(3,- {\\mu}_{0},- {\\mu}_{1},- {\\mu}_{2},- {\\mu}_{3} \\right)} \\rho^{2}{\\left(z,- {\\mu}_{0} \\right)} \\rho^{2}{\\left(z,{\\mu}_{0} \\right)} \\sigma^{5}{\\left(z,g_{2},g_{3} \\right)} \\sigma{\\left({\\mu}_{0} + {\\mu}_{1} + {\\mu}_{2} + {\\mu}_{3},g_{2},g_{3} \\right)} \\sigma{\\left(- {\\mu}_{0},g_{2},g_{3} \\right)} \\sigma{\\left(- {\\mu}_{1},g_{2},g_{3} \\right)} \\sigma{\\left(- {\\mu}_{2},g_{2},g_{3} \\right)} \\sigma{\\left(- {\\mu}_{3},g_{2},g_{3} \\right)}}{2 f{\\left(2,- {\\mu}_{0},- {\\mu}_{1},- {\\mu}_{2},- {\\mu}_{3} \\right)} \\rho{\\left(z,- {\\mu}_{0} \\right)} \\sigma^{5}{\\left(z,g_{2},g_{3} \\right)} \\sigma{\\left({\\mu}_{0} + {\\mu}_{1} + {\\mu}_{2} + {\\mu}_{3},g_{2},g_{3} \\right)} \\sigma{\\left(- {\\mu}_{0},g_{2},g_{3} \\right)} \\sigma{\\left(- {\\mu}_{1},g_{2},g_{3} \\right)} \\sigma{\\left(- {\\mu}_{2},g_{2},g_{3} \\right)} \\sigma{\\left(- {\\mu}_{3},g_{2},g_{3} \\right)} + 24 f{\\left(4,- {\\mu}_{0},- {\\mu}_{1},- {\\mu}_{2},- {\\mu}_{3} \\right)} \\operatorname{pw}{\\left({\\mu}_{0},g_{2},g_{3} \\right)} \\rho{\\left(z,- {\\mu}_{0} \\right)} \\sigma^{5}{\\left(z,g_{2},g_{3} \\right)} \\sigma{\\left({\\mu}_{0} + {\\mu}_{1} + {\\mu}_{2} + {\\mu}_{3},g_{2},g_{3} \\right)} \\sigma{\\left(- {\\mu}_{0},g_{2},g_{3} \\right)} \\sigma{\\left(- {\\mu}_{1},g_{2},g_{3} \\right)} \\sigma{\\left(- {\\mu}_{2},g_{2},g_{3} \\right)} \\sigma{\\left(- {\\mu}_{3},g_{2},g_{3} \\right)} + 24 f{\\left(4,- {\\mu}_{0},- {\\mu}_{1},- {\\mu}_{2},- {\\mu}_{3} \\right)} \\rho^{2}{\\left(z,- {\\mu}_{0} \\right)} \\rho{\\left(z,{\\mu}_{0} \\right)} \\sigma^{5}{\\left(z,g_{2},g_{3} \\right)} \\sigma{\\left({\\mu}_{0} + {\\mu}_{1} + {\\mu}_{2} + {\\mu}_{3},g_{2},g_{3} \\right)} \\sigma{\\left(- {\\mu}_{0},g_{2},g_{3} \\right)} \\sigma{\\left(- {\\mu}_{1},g_{2},g_{3} \\right)} \\sigma{\\left(- {\\mu}_{2},g_{2},g_{3} \\right)} \\sigma{\\left(- {\\mu}_{3},g_{2},g_{3} \\right)}} - \\frac{12 f{\\left(4,- {\\mu}_{0},- {\\mu}_{1},- {\\mu}_{2},- {\\mu}_{3} \\right)} \\operatorname{pw}{\\left({\\mu}_{0},g_{2},g_{3} \\right)} \\operatorname{pwp}{\\left({\\mu}_{0},g_{2},g_{3} \\right)} \\sigma^{5}{\\left(z,g_{2},g_{3} \\right)} \\sigma{\\left({\\mu}_{0} + {\\mu}_{1} + {\\mu}_{2} + {\\mu}_{3},g_{2},g_{3} \\right)} \\sigma{\\left(- {\\mu}_{0},g_{2},g_{3} \\right)} \\sigma{\\left(- {\\mu}_{1},g_{2},g_{3} \\right)} \\sigma{\\left(- {\\mu}_{2},g_{2},g_{3} \\right)} \\sigma{\\left(- {\\mu}_{3},g_{2},g_{3} \\right)}}{2 f{\\left(2,- {\\mu}_{0},- {\\mu}_{1},- {\\mu}_{2},- {\\mu}_{3} \\right)} \\rho{\\left(z,- {\\mu}_{0} \\right)} \\sigma^{5}{\\left(z,g_{2},g_{3} \\right)} \\sigma{\\left({\\mu}_{0} + {\\mu}_{1} + {\\mu}_{2} + {\\mu}_{3},g_{2},g_{3} \\right)} \\sigma{\\left(- {\\mu}_{0},g_{2},g_{3} \\right)} \\sigma{\\left(- {\\mu}_{1},g_{2},g_{3} \\right)} \\sigma{\\left(- {\\mu}_{2},g_{2},g_{3} \\right)} \\sigma{\\left(- {\\mu}_{3},g_{2},g_{3} \\right)} + 24 f{\\left(4,- {\\mu}_{0},- {\\mu}_{1},- {\\mu}_{2},- {\\mu}_{3} \\right)} \\operatorname{pw}{\\left({\\mu}_{0},g_{2},g_{3} \\right)} \\rho{\\left(z,- {\\mu}_{0} \\right)} \\sigma^{5}{\\left(z,g_{2},g_{3} \\right)} \\sigma{\\left({\\mu}_{0} + {\\mu}_{1} + {\\mu}_{2} + {\\mu}_{3},g_{2},g_{3} \\right)} \\sigma{\\left(- {\\mu}_{0},g_{2},g_{3} \\right)} \\sigma{\\left(- {\\mu}_{1},g_{2},g_{3} \\right)} \\sigma{\\left(- {\\mu}_{2},g_{2},g_{3} \\right)} \\sigma{\\left(- {\\mu}_{3},g_{2},g_{3} \\right)} + 24 f{\\left(4,- {\\mu}_{0},- {\\mu}_{1},- {\\mu}_{2},- {\\mu}_{3} \\right)} \\rho^{2}{\\left(z,- {\\mu}_{0} \\right)} \\rho{\\left(z,{\\mu}_{0} \\right)} \\sigma^{5}{\\left(z,g_{2},g_{3} \\right)} \\sigma{\\left({\\mu}_{0} + {\\mu}_{1} + {\\mu}_{2} + {\\mu}_{3},g_{2},g_{3} \\right)} \\sigma{\\left(- {\\mu}_{0},g_{2},g_{3} \\right)} \\sigma{\\left(- {\\mu}_{1},g_{2},g_{3} \\right)} \\sigma{\\left(- {\\mu}_{2},g_{2},g_{3} \\right)} \\sigma{\\left(- {\\mu}_{3},g_{2},g_{3} \\right)}} - \\frac{\\sigma{\\left(z + {\\mu}_{0},g_{2},g_{3} \\right)} \\sigma{\\left(z + {\\mu}_{1},g_{2},g_{3} \\right)} \\sigma{\\left(z + {\\mu}_{2},g_{2},g_{3} \\right)} \\sigma{\\left(z + {\\mu}_{3},g_{2},g_{3} \\right)} \\sigma{\\left(z - {\\mu}_{0} - {\\mu}_{1} - {\\mu}_{2} - {\\mu}_{3},g_{2},g_{3} \\right)}}{2 f{\\left(2,- {\\mu}_{0},- {\\mu}_{1},- {\\mu}_{2},- {\\mu}_{3} \\right)} \\rho{\\left(z,- {\\mu}_{0} \\right)} \\sigma^{5}{\\left(z,g_{2},g_{3} \\right)} \\sigma{\\left({\\mu}_{0} + {\\mu}_{1} + {\\mu}_{2} + {\\mu}_{3},g_{2},g_{3} \\right)} \\sigma{\\left(- {\\mu}_{0},g_{2},g_{3} \\right)} \\sigma{\\left(- {\\mu}_{1},g_{2},g_{3} \\right)} \\sigma{\\left(- {\\mu}_{2},g_{2},g_{3} \\right)} \\sigma{\\left(- {\\mu}_{3},g_{2},g_{3} \\right)} + 24 f{\\left(4,- {\\mu}_{0},- {\\mu}_{1},- {\\mu}_{2},- {\\mu}_{3} \\right)} \\operatorname{pw}{\\left({\\mu}_{0},g_{2},g_{3} \\right)} \\rho{\\left(z,- {\\mu}_{0} \\right)} \\sigma^{5}{\\left(z,g_{2},g_{3} \\right)} \\sigma{\\left({\\mu}_{0} + {\\mu}_{1} + {\\mu}_{2} + {\\mu}_{3},g_{2},g_{3} \\right)} \\sigma{\\left(- {\\mu}_{0},g_{2},g_{3} \\right)} \\sigma{\\left(- {\\mu}_{1},g_{2},g_{3} \\right)} \\sigma{\\left(- {\\mu}_{2},g_{2},g_{3} \\right)} \\sigma{\\left(- {\\mu}_{3},g_{2},g_{3} \\right)} + 24 f{\\left(4,- {\\mu}_{0},- {\\mu}_{1},- {\\mu}_{2},- {\\mu}_{3} \\right)} \\rho^{2}{\\left(z,- {\\mu}_{0} \\right)} \\rho{\\left(z,{\\mu}_{0} \\right)} \\sigma^{5}{\\left(z,g_{2},g_{3} \\right)} \\sigma{\\left({\\mu}_{0} + {\\mu}_{1} + {\\mu}_{2} + {\\mu}_{3},g_{2},g_{3} \\right)} \\sigma{\\left(- {\\mu}_{0},g_{2},g_{3} \\right)} \\sigma{\\left(- {\\mu}_{1},g_{2},g_{3} \\right)} \\sigma{\\left(- {\\mu}_{2},g_{2},g_{3} \\right)} \\sigma{\\left(- {\\mu}_{3},g_{2},g_{3} \\right)}}$"
      ],
      "text/plain": [
       "Eq(Derivative(rho(z, mu[0]), z), pwp(mu[0], g2, g3)/(2*rho(z, -mu[0])) - rho(z, mu[0])*zw(mu[0], g2, g3) - f(1, -mu[0], -mu[1], -mu[2], -mu[3])*rho(z, -mu[0])*rho(z, mu[0])*sigma(z, g2, g3)**5*sigma(mu[0] + mu[1] + mu[2] + mu[3], g2, g3)*sigma(-mu[0], g2, g3)*sigma(-mu[1], g2, g3)*sigma(-mu[2], g2, g3)*sigma(-mu[3], g2, g3)/(2*f(2, -mu[0], -mu[1], -mu[2], -mu[3])*rho(z, -mu[0])*sigma(z, g2, g3)**5*sigma(mu[0] + mu[1] + mu[2] + mu[3], g2, g3)*sigma(-mu[0], g2, g3)*sigma(-mu[1], g2, g3)*sigma(-mu[2], g2, g3)*sigma(-mu[3], g2, g3) + 24*f(4, -mu[0], -mu[1], -mu[2], -mu[3])*pw(mu[0], g2, g3)*rho(z, -mu[0])*sigma(z, g2, g3)**5*sigma(mu[0] + mu[1] + mu[2] + mu[3], g2, g3)*sigma(-mu[0], g2, g3)*sigma(-mu[1], g2, g3)*sigma(-mu[2], g2, g3)*sigma(-mu[3], g2, g3) + 24*f(4, -mu[0], -mu[1], -mu[2], -mu[3])*rho(z, -mu[0])**2*rho(z, mu[0])*sigma(z, g2, g3)**5*sigma(mu[0] + mu[1] + mu[2] + mu[3], g2, g3)*sigma(-mu[0], g2, g3)*sigma(-mu[1], g2, g3)*sigma(-mu[2], g2, g3)*sigma(-mu[3], g2, g3)) - f(2, -mu[0], -mu[1], -mu[2], -mu[3])*pwp(mu[0], g2, g3)*sigma(z, g2, g3)**5*sigma(mu[0] + mu[1] + mu[2] + mu[3], g2, g3)*sigma(-mu[0], g2, g3)*sigma(-mu[1], g2, g3)*sigma(-mu[2], g2, g3)*sigma(-mu[3], g2, g3)/(2*f(2, -mu[0], -mu[1], -mu[2], -mu[3])*rho(z, -mu[0])*sigma(z, g2, g3)**5*sigma(mu[0] + mu[1] + mu[2] + mu[3], g2, g3)*sigma(-mu[0], g2, g3)*sigma(-mu[1], g2, g3)*sigma(-mu[2], g2, g3)*sigma(-mu[3], g2, g3) + 24*f(4, -mu[0], -mu[1], -mu[2], -mu[3])*pw(mu[0], g2, g3)*rho(z, -mu[0])*sigma(z, g2, g3)**5*sigma(mu[0] + mu[1] + mu[2] + mu[3], g2, g3)*sigma(-mu[0], g2, g3)*sigma(-mu[1], g2, g3)*sigma(-mu[2], g2, g3)*sigma(-mu[3], g2, g3) + 24*f(4, -mu[0], -mu[1], -mu[2], -mu[3])*rho(z, -mu[0])**2*rho(z, mu[0])*sigma(z, g2, g3)**5*sigma(mu[0] + mu[1] + mu[2] + mu[3], g2, g3)*sigma(-mu[0], g2, g3)*sigma(-mu[1], g2, g3)*sigma(-mu[2], g2, g3)*sigma(-mu[3], g2, g3)) - 12*f(3, -mu[0], -mu[1], -mu[2], -mu[3])*pw(mu[0], g2, g3)*rho(z, -mu[0])*rho(z, mu[0])*sigma(z, g2, g3)**5*sigma(mu[0] + mu[1] + mu[2] + mu[3], g2, g3)*sigma(-mu[0], g2, g3)*sigma(-mu[1], g2, g3)*sigma(-mu[2], g2, g3)*sigma(-mu[3], g2, g3)/(2*f(2, -mu[0], -mu[1], -mu[2], -mu[3])*rho(z, -mu[0])*sigma(z, g2, g3)**5*sigma(mu[0] + mu[1] + mu[2] + mu[3], g2, g3)*sigma(-mu[0], g2, g3)*sigma(-mu[1], g2, g3)*sigma(-mu[2], g2, g3)*sigma(-mu[3], g2, g3) + 24*f(4, -mu[0], -mu[1], -mu[2], -mu[3])*pw(mu[0], g2, g3)*rho(z, -mu[0])*sigma(z, g2, g3)**5*sigma(mu[0] + mu[1] + mu[2] + mu[3], g2, g3)*sigma(-mu[0], g2, g3)*sigma(-mu[1], g2, g3)*sigma(-mu[2], g2, g3)*sigma(-mu[3], g2, g3) + 24*f(4, -mu[0], -mu[1], -mu[2], -mu[3])*rho(z, -mu[0])**2*rho(z, mu[0])*sigma(z, g2, g3)**5*sigma(mu[0] + mu[1] + mu[2] + mu[3], g2, g3)*sigma(-mu[0], g2, g3)*sigma(-mu[1], g2, g3)*sigma(-mu[2], g2, g3)*sigma(-mu[3], g2, g3)) - 6*f(3, -mu[0], -mu[1], -mu[2], -mu[3])*rho(z, -mu[0])**2*rho(z, mu[0])**2*sigma(z, g2, g3)**5*sigma(mu[0] + mu[1] + mu[2] + mu[3], g2, g3)*sigma(-mu[0], g2, g3)*sigma(-mu[1], g2, g3)*sigma(-mu[2], g2, g3)*sigma(-mu[3], g2, g3)/(2*f(2, -mu[0], -mu[1], -mu[2], -mu[3])*rho(z, -mu[0])*sigma(z, g2, g3)**5*sigma(mu[0] + mu[1] + mu[2] + mu[3], g2, g3)*sigma(-mu[0], g2, g3)*sigma(-mu[1], g2, g3)*sigma(-mu[2], g2, g3)*sigma(-mu[3], g2, g3) + 24*f(4, -mu[0], -mu[1], -mu[2], -mu[3])*pw(mu[0], g2, g3)*rho(z, -mu[0])*sigma(z, g2, g3)**5*sigma(mu[0] + mu[1] + mu[2] + mu[3], g2, g3)*sigma(-mu[0], g2, g3)*sigma(-mu[1], g2, g3)*sigma(-mu[2], g2, g3)*sigma(-mu[3], g2, g3) + 24*f(4, -mu[0], -mu[1], -mu[2], -mu[3])*rho(z, -mu[0])**2*rho(z, mu[0])*sigma(z, g2, g3)**5*sigma(mu[0] + mu[1] + mu[2] + mu[3], g2, g3)*sigma(-mu[0], g2, g3)*sigma(-mu[1], g2, g3)*sigma(-mu[2], g2, g3)*sigma(-mu[3], g2, g3)) - 12*f(4, -mu[0], -mu[1], -mu[2], -mu[3])*pw(mu[0], g2, g3)*pwp(mu[0], g2, g3)*sigma(z, g2, g3)**5*sigma(mu[0] + mu[1] + mu[2] + mu[3], g2, g3)*sigma(-mu[0], g2, g3)*sigma(-mu[1], g2, g3)*sigma(-mu[2], g2, g3)*sigma(-mu[3], g2, g3)/(2*f(2, -mu[0], -mu[1], -mu[2], -mu[3])*rho(z, -mu[0])*sigma(z, g2, g3)**5*sigma(mu[0] + mu[1] + mu[2] + mu[3], g2, g3)*sigma(-mu[0], g2, g3)*sigma(-mu[1], g2, g3)*sigma(-mu[2], g2, g3)*sigma(-mu[3], g2, g3) + 24*f(4, -mu[0], -mu[1], -mu[2], -mu[3])*pw(mu[0], g2, g3)*rho(z, -mu[0])*sigma(z, g2, g3)**5*sigma(mu[0] + mu[1] + mu[2] + mu[3], g2, g3)*sigma(-mu[0], g2, g3)*sigma(-mu[1], g2, g3)*sigma(-mu[2], g2, g3)*sigma(-mu[3], g2, g3) + 24*f(4, -mu[0], -mu[1], -mu[2], -mu[3])*rho(z, -mu[0])**2*rho(z, mu[0])*sigma(z, g2, g3)**5*sigma(mu[0] + mu[1] + mu[2] + mu[3], g2, g3)*sigma(-mu[0], g2, g3)*sigma(-mu[1], g2, g3)*sigma(-mu[2], g2, g3)*sigma(-mu[3], g2, g3)) - sigma(z + mu[0], g2, g3)*sigma(z + mu[1], g2, g3)*sigma(z + mu[2], g2, g3)*sigma(z + mu[3], g2, g3)*sigma(z - mu[0] - mu[1] - mu[2] - mu[3], g2, g3)/(2*f(2, -mu[0], -mu[1], -mu[2], -mu[3])*rho(z, -mu[0])*sigma(z, g2, g3)**5*sigma(mu[0] + mu[1] + mu[2] + mu[3], g2, g3)*sigma(-mu[0], g2, g3)*sigma(-mu[1], g2, g3)*sigma(-mu[2], g2, g3)*sigma(-mu[3], g2, g3) + 24*f(4, -mu[0], -mu[1], -mu[2], -mu[3])*pw(mu[0], g2, g3)*rho(z, -mu[0])*sigma(z, g2, g3)**5*sigma(mu[0] + mu[1] + mu[2] + mu[3], g2, g3)*sigma(-mu[0], g2, g3)*sigma(-mu[1], g2, g3)*sigma(-mu[2], g2, g3)*sigma(-mu[3], g2, g3) + 24*f(4, -mu[0], -mu[1], -mu[2], -mu[3])*rho(z, -mu[0])**2*rho(z, mu[0])*sigma(z, g2, g3)**5*sigma(mu[0] + mu[1] + mu[2] + mu[3], g2, g3)*sigma(-mu[0], g2, g3)*sigma(-mu[1], g2, g3)*sigma(-mu[2], g2, g3)*sigma(-mu[3], g2, g3)))"
      ]
     },
     "execution_count": 329,
     "metadata": {},
     "output_type": "execute_result"
    },
    {
     "data": {
      "text/latex": [
       "$\\displaystyle \\frac{\\partial}{\\partial z} \\rho{\\left(z,{\\mu}_{1} \\right)} = \\frac{\\operatorname{pwp}{\\left({\\mu}_{1},g_{2},g_{3} \\right)}}{2 \\rho{\\left(z,- {\\mu}_{1} \\right)}} - \\rho{\\left(z,{\\mu}_{1} \\right)} \\operatorname{zw}{\\left({\\mu}_{1},g_{2},g_{3} \\right)} - \\frac{f{\\left(1,- {\\mu}_{0},- {\\mu}_{1},- {\\mu}_{2},- {\\mu}_{3} \\right)} \\rho{\\left(z,- {\\mu}_{1} \\right)} \\rho{\\left(z,{\\mu}_{1} \\right)} \\sigma^{5}{\\left(z,g_{2},g_{3} \\right)} \\sigma{\\left({\\mu}_{0} + {\\mu}_{1} + {\\mu}_{2} + {\\mu}_{3},g_{2},g_{3} \\right)} \\sigma{\\left(- {\\mu}_{0},g_{2},g_{3} \\right)} \\sigma{\\left(- {\\mu}_{1},g_{2},g_{3} \\right)} \\sigma{\\left(- {\\mu}_{2},g_{2},g_{3} \\right)} \\sigma{\\left(- {\\mu}_{3},g_{2},g_{3} \\right)}}{2 f{\\left(2,- {\\mu}_{0},- {\\mu}_{1},- {\\mu}_{2},- {\\mu}_{3} \\right)} \\rho{\\left(z,- {\\mu}_{1} \\right)} \\sigma^{5}{\\left(z,g_{2},g_{3} \\right)} \\sigma{\\left({\\mu}_{0} + {\\mu}_{1} + {\\mu}_{2} + {\\mu}_{3},g_{2},g_{3} \\right)} \\sigma{\\left(- {\\mu}_{0},g_{2},g_{3} \\right)} \\sigma{\\left(- {\\mu}_{1},g_{2},g_{3} \\right)} \\sigma{\\left(- {\\mu}_{2},g_{2},g_{3} \\right)} \\sigma{\\left(- {\\mu}_{3},g_{2},g_{3} \\right)} + 24 f{\\left(4,- {\\mu}_{0},- {\\mu}_{1},- {\\mu}_{2},- {\\mu}_{3} \\right)} \\operatorname{pw}{\\left({\\mu}_{1},g_{2},g_{3} \\right)} \\rho{\\left(z,- {\\mu}_{1} \\right)} \\sigma^{5}{\\left(z,g_{2},g_{3} \\right)} \\sigma{\\left({\\mu}_{0} + {\\mu}_{1} + {\\mu}_{2} + {\\mu}_{3},g_{2},g_{3} \\right)} \\sigma{\\left(- {\\mu}_{0},g_{2},g_{3} \\right)} \\sigma{\\left(- {\\mu}_{1},g_{2},g_{3} \\right)} \\sigma{\\left(- {\\mu}_{2},g_{2},g_{3} \\right)} \\sigma{\\left(- {\\mu}_{3},g_{2},g_{3} \\right)} + 24 f{\\left(4,- {\\mu}_{0},- {\\mu}_{1},- {\\mu}_{2},- {\\mu}_{3} \\right)} \\rho^{2}{\\left(z,- {\\mu}_{1} \\right)} \\rho{\\left(z,{\\mu}_{1} \\right)} \\sigma^{5}{\\left(z,g_{2},g_{3} \\right)} \\sigma{\\left({\\mu}_{0} + {\\mu}_{1} + {\\mu}_{2} + {\\mu}_{3},g_{2},g_{3} \\right)} \\sigma{\\left(- {\\mu}_{0},g_{2},g_{3} \\right)} \\sigma{\\left(- {\\mu}_{1},g_{2},g_{3} \\right)} \\sigma{\\left(- {\\mu}_{2},g_{2},g_{3} \\right)} \\sigma{\\left(- {\\mu}_{3},g_{2},g_{3} \\right)}} - \\frac{f{\\left(2,- {\\mu}_{0},- {\\mu}_{1},- {\\mu}_{2},- {\\mu}_{3} \\right)} \\operatorname{pwp}{\\left({\\mu}_{1},g_{2},g_{3} \\right)} \\sigma^{5}{\\left(z,g_{2},g_{3} \\right)} \\sigma{\\left({\\mu}_{0} + {\\mu}_{1} + {\\mu}_{2} + {\\mu}_{3},g_{2},g_{3} \\right)} \\sigma{\\left(- {\\mu}_{0},g_{2},g_{3} \\right)} \\sigma{\\left(- {\\mu}_{1},g_{2},g_{3} \\right)} \\sigma{\\left(- {\\mu}_{2},g_{2},g_{3} \\right)} \\sigma{\\left(- {\\mu}_{3},g_{2},g_{3} \\right)}}{2 f{\\left(2,- {\\mu}_{0},- {\\mu}_{1},- {\\mu}_{2},- {\\mu}_{3} \\right)} \\rho{\\left(z,- {\\mu}_{1} \\right)} \\sigma^{5}{\\left(z,g_{2},g_{3} \\right)} \\sigma{\\left({\\mu}_{0} + {\\mu}_{1} + {\\mu}_{2} + {\\mu}_{3},g_{2},g_{3} \\right)} \\sigma{\\left(- {\\mu}_{0},g_{2},g_{3} \\right)} \\sigma{\\left(- {\\mu}_{1},g_{2},g_{3} \\right)} \\sigma{\\left(- {\\mu}_{2},g_{2},g_{3} \\right)} \\sigma{\\left(- {\\mu}_{3},g_{2},g_{3} \\right)} + 24 f{\\left(4,- {\\mu}_{0},- {\\mu}_{1},- {\\mu}_{2},- {\\mu}_{3} \\right)} \\operatorname{pw}{\\left({\\mu}_{1},g_{2},g_{3} \\right)} \\rho{\\left(z,- {\\mu}_{1} \\right)} \\sigma^{5}{\\left(z,g_{2},g_{3} \\right)} \\sigma{\\left({\\mu}_{0} + {\\mu}_{1} + {\\mu}_{2} + {\\mu}_{3},g_{2},g_{3} \\right)} \\sigma{\\left(- {\\mu}_{0},g_{2},g_{3} \\right)} \\sigma{\\left(- {\\mu}_{1},g_{2},g_{3} \\right)} \\sigma{\\left(- {\\mu}_{2},g_{2},g_{3} \\right)} \\sigma{\\left(- {\\mu}_{3},g_{2},g_{3} \\right)} + 24 f{\\left(4,- {\\mu}_{0},- {\\mu}_{1},- {\\mu}_{2},- {\\mu}_{3} \\right)} \\rho^{2}{\\left(z,- {\\mu}_{1} \\right)} \\rho{\\left(z,{\\mu}_{1} \\right)} \\sigma^{5}{\\left(z,g_{2},g_{3} \\right)} \\sigma{\\left({\\mu}_{0} + {\\mu}_{1} + {\\mu}_{2} + {\\mu}_{3},g_{2},g_{3} \\right)} \\sigma{\\left(- {\\mu}_{0},g_{2},g_{3} \\right)} \\sigma{\\left(- {\\mu}_{1},g_{2},g_{3} \\right)} \\sigma{\\left(- {\\mu}_{2},g_{2},g_{3} \\right)} \\sigma{\\left(- {\\mu}_{3},g_{2},g_{3} \\right)}} - \\frac{12 f{\\left(3,- {\\mu}_{0},- {\\mu}_{1},- {\\mu}_{2},- {\\mu}_{3} \\right)} \\operatorname{pw}{\\left({\\mu}_{1},g_{2},g_{3} \\right)} \\rho{\\left(z,- {\\mu}_{1} \\right)} \\rho{\\left(z,{\\mu}_{1} \\right)} \\sigma^{5}{\\left(z,g_{2},g_{3} \\right)} \\sigma{\\left({\\mu}_{0} + {\\mu}_{1} + {\\mu}_{2} + {\\mu}_{3},g_{2},g_{3} \\right)} \\sigma{\\left(- {\\mu}_{0},g_{2},g_{3} \\right)} \\sigma{\\left(- {\\mu}_{1},g_{2},g_{3} \\right)} \\sigma{\\left(- {\\mu}_{2},g_{2},g_{3} \\right)} \\sigma{\\left(- {\\mu}_{3},g_{2},g_{3} \\right)}}{2 f{\\left(2,- {\\mu}_{0},- {\\mu}_{1},- {\\mu}_{2},- {\\mu}_{3} \\right)} \\rho{\\left(z,- {\\mu}_{1} \\right)} \\sigma^{5}{\\left(z,g_{2},g_{3} \\right)} \\sigma{\\left({\\mu}_{0} + {\\mu}_{1} + {\\mu}_{2} + {\\mu}_{3},g_{2},g_{3} \\right)} \\sigma{\\left(- {\\mu}_{0},g_{2},g_{3} \\right)} \\sigma{\\left(- {\\mu}_{1},g_{2},g_{3} \\right)} \\sigma{\\left(- {\\mu}_{2},g_{2},g_{3} \\right)} \\sigma{\\left(- {\\mu}_{3},g_{2},g_{3} \\right)} + 24 f{\\left(4,- {\\mu}_{0},- {\\mu}_{1},- {\\mu}_{2},- {\\mu}_{3} \\right)} \\operatorname{pw}{\\left({\\mu}_{1},g_{2},g_{3} \\right)} \\rho{\\left(z,- {\\mu}_{1} \\right)} \\sigma^{5}{\\left(z,g_{2},g_{3} \\right)} \\sigma{\\left({\\mu}_{0} + {\\mu}_{1} + {\\mu}_{2} + {\\mu}_{3},g_{2},g_{3} \\right)} \\sigma{\\left(- {\\mu}_{0},g_{2},g_{3} \\right)} \\sigma{\\left(- {\\mu}_{1},g_{2},g_{3} \\right)} \\sigma{\\left(- {\\mu}_{2},g_{2},g_{3} \\right)} \\sigma{\\left(- {\\mu}_{3},g_{2},g_{3} \\right)} + 24 f{\\left(4,- {\\mu}_{0},- {\\mu}_{1},- {\\mu}_{2},- {\\mu}_{3} \\right)} \\rho^{2}{\\left(z,- {\\mu}_{1} \\right)} \\rho{\\left(z,{\\mu}_{1} \\right)} \\sigma^{5}{\\left(z,g_{2},g_{3} \\right)} \\sigma{\\left({\\mu}_{0} + {\\mu}_{1} + {\\mu}_{2} + {\\mu}_{3},g_{2},g_{3} \\right)} \\sigma{\\left(- {\\mu}_{0},g_{2},g_{3} \\right)} \\sigma{\\left(- {\\mu}_{1},g_{2},g_{3} \\right)} \\sigma{\\left(- {\\mu}_{2},g_{2},g_{3} \\right)} \\sigma{\\left(- {\\mu}_{3},g_{2},g_{3} \\right)}} - \\frac{6 f{\\left(3,- {\\mu}_{0},- {\\mu}_{1},- {\\mu}_{2},- {\\mu}_{3} \\right)} \\rho^{2}{\\left(z,- {\\mu}_{1} \\right)} \\rho^{2}{\\left(z,{\\mu}_{1} \\right)} \\sigma^{5}{\\left(z,g_{2},g_{3} \\right)} \\sigma{\\left({\\mu}_{0} + {\\mu}_{1} + {\\mu}_{2} + {\\mu}_{3},g_{2},g_{3} \\right)} \\sigma{\\left(- {\\mu}_{0},g_{2},g_{3} \\right)} \\sigma{\\left(- {\\mu}_{1},g_{2},g_{3} \\right)} \\sigma{\\left(- {\\mu}_{2},g_{2},g_{3} \\right)} \\sigma{\\left(- {\\mu}_{3},g_{2},g_{3} \\right)}}{2 f{\\left(2,- {\\mu}_{0},- {\\mu}_{1},- {\\mu}_{2},- {\\mu}_{3} \\right)} \\rho{\\left(z,- {\\mu}_{1} \\right)} \\sigma^{5}{\\left(z,g_{2},g_{3} \\right)} \\sigma{\\left({\\mu}_{0} + {\\mu}_{1} + {\\mu}_{2} + {\\mu}_{3},g_{2},g_{3} \\right)} \\sigma{\\left(- {\\mu}_{0},g_{2},g_{3} \\right)} \\sigma{\\left(- {\\mu}_{1},g_{2},g_{3} \\right)} \\sigma{\\left(- {\\mu}_{2},g_{2},g_{3} \\right)} \\sigma{\\left(- {\\mu}_{3},g_{2},g_{3} \\right)} + 24 f{\\left(4,- {\\mu}_{0},- {\\mu}_{1},- {\\mu}_{2},- {\\mu}_{3} \\right)} \\operatorname{pw}{\\left({\\mu}_{1},g_{2},g_{3} \\right)} \\rho{\\left(z,- {\\mu}_{1} \\right)} \\sigma^{5}{\\left(z,g_{2},g_{3} \\right)} \\sigma{\\left({\\mu}_{0} + {\\mu}_{1} + {\\mu}_{2} + {\\mu}_{3},g_{2},g_{3} \\right)} \\sigma{\\left(- {\\mu}_{0},g_{2},g_{3} \\right)} \\sigma{\\left(- {\\mu}_{1},g_{2},g_{3} \\right)} \\sigma{\\left(- {\\mu}_{2},g_{2},g_{3} \\right)} \\sigma{\\left(- {\\mu}_{3},g_{2},g_{3} \\right)} + 24 f{\\left(4,- {\\mu}_{0},- {\\mu}_{1},- {\\mu}_{2},- {\\mu}_{3} \\right)} \\rho^{2}{\\left(z,- {\\mu}_{1} \\right)} \\rho{\\left(z,{\\mu}_{1} \\right)} \\sigma^{5}{\\left(z,g_{2},g_{3} \\right)} \\sigma{\\left({\\mu}_{0} + {\\mu}_{1} + {\\mu}_{2} + {\\mu}_{3},g_{2},g_{3} \\right)} \\sigma{\\left(- {\\mu}_{0},g_{2},g_{3} \\right)} \\sigma{\\left(- {\\mu}_{1},g_{2},g_{3} \\right)} \\sigma{\\left(- {\\mu}_{2},g_{2},g_{3} \\right)} \\sigma{\\left(- {\\mu}_{3},g_{2},g_{3} \\right)}} - \\frac{12 f{\\left(4,- {\\mu}_{0},- {\\mu}_{1},- {\\mu}_{2},- {\\mu}_{3} \\right)} \\operatorname{pw}{\\left({\\mu}_{1},g_{2},g_{3} \\right)} \\operatorname{pwp}{\\left({\\mu}_{1},g_{2},g_{3} \\right)} \\sigma^{5}{\\left(z,g_{2},g_{3} \\right)} \\sigma{\\left({\\mu}_{0} + {\\mu}_{1} + {\\mu}_{2} + {\\mu}_{3},g_{2},g_{3} \\right)} \\sigma{\\left(- {\\mu}_{0},g_{2},g_{3} \\right)} \\sigma{\\left(- {\\mu}_{1},g_{2},g_{3} \\right)} \\sigma{\\left(- {\\mu}_{2},g_{2},g_{3} \\right)} \\sigma{\\left(- {\\mu}_{3},g_{2},g_{3} \\right)}}{2 f{\\left(2,- {\\mu}_{0},- {\\mu}_{1},- {\\mu}_{2},- {\\mu}_{3} \\right)} \\rho{\\left(z,- {\\mu}_{1} \\right)} \\sigma^{5}{\\left(z,g_{2},g_{3} \\right)} \\sigma{\\left({\\mu}_{0} + {\\mu}_{1} + {\\mu}_{2} + {\\mu}_{3},g_{2},g_{3} \\right)} \\sigma{\\left(- {\\mu}_{0},g_{2},g_{3} \\right)} \\sigma{\\left(- {\\mu}_{1},g_{2},g_{3} \\right)} \\sigma{\\left(- {\\mu}_{2},g_{2},g_{3} \\right)} \\sigma{\\left(- {\\mu}_{3},g_{2},g_{3} \\right)} + 24 f{\\left(4,- {\\mu}_{0},- {\\mu}_{1},- {\\mu}_{2},- {\\mu}_{3} \\right)} \\operatorname{pw}{\\left({\\mu}_{1},g_{2},g_{3} \\right)} \\rho{\\left(z,- {\\mu}_{1} \\right)} \\sigma^{5}{\\left(z,g_{2},g_{3} \\right)} \\sigma{\\left({\\mu}_{0} + {\\mu}_{1} + {\\mu}_{2} + {\\mu}_{3},g_{2},g_{3} \\right)} \\sigma{\\left(- {\\mu}_{0},g_{2},g_{3} \\right)} \\sigma{\\left(- {\\mu}_{1},g_{2},g_{3} \\right)} \\sigma{\\left(- {\\mu}_{2},g_{2},g_{3} \\right)} \\sigma{\\left(- {\\mu}_{3},g_{2},g_{3} \\right)} + 24 f{\\left(4,- {\\mu}_{0},- {\\mu}_{1},- {\\mu}_{2},- {\\mu}_{3} \\right)} \\rho^{2}{\\left(z,- {\\mu}_{1} \\right)} \\rho{\\left(z,{\\mu}_{1} \\right)} \\sigma^{5}{\\left(z,g_{2},g_{3} \\right)} \\sigma{\\left({\\mu}_{0} + {\\mu}_{1} + {\\mu}_{2} + {\\mu}_{3},g_{2},g_{3} \\right)} \\sigma{\\left(- {\\mu}_{0},g_{2},g_{3} \\right)} \\sigma{\\left(- {\\mu}_{1},g_{2},g_{3} \\right)} \\sigma{\\left(- {\\mu}_{2},g_{2},g_{3} \\right)} \\sigma{\\left(- {\\mu}_{3},g_{2},g_{3} \\right)}} - \\frac{\\sigma{\\left(z + {\\mu}_{0},g_{2},g_{3} \\right)} \\sigma{\\left(z + {\\mu}_{1},g_{2},g_{3} \\right)} \\sigma{\\left(z + {\\mu}_{2},g_{2},g_{3} \\right)} \\sigma{\\left(z + {\\mu}_{3},g_{2},g_{3} \\right)} \\sigma{\\left(z - {\\mu}_{0} - {\\mu}_{1} - {\\mu}_{2} - {\\mu}_{3},g_{2},g_{3} \\right)}}{2 f{\\left(2,- {\\mu}_{0},- {\\mu}_{1},- {\\mu}_{2},- {\\mu}_{3} \\right)} \\rho{\\left(z,- {\\mu}_{1} \\right)} \\sigma^{5}{\\left(z,g_{2},g_{3} \\right)} \\sigma{\\left({\\mu}_{0} + {\\mu}_{1} + {\\mu}_{2} + {\\mu}_{3},g_{2},g_{3} \\right)} \\sigma{\\left(- {\\mu}_{0},g_{2},g_{3} \\right)} \\sigma{\\left(- {\\mu}_{1},g_{2},g_{3} \\right)} \\sigma{\\left(- {\\mu}_{2},g_{2},g_{3} \\right)} \\sigma{\\left(- {\\mu}_{3},g_{2},g_{3} \\right)} + 24 f{\\left(4,- {\\mu}_{0},- {\\mu}_{1},- {\\mu}_{2},- {\\mu}_{3} \\right)} \\operatorname{pw}{\\left({\\mu}_{1},g_{2},g_{3} \\right)} \\rho{\\left(z,- {\\mu}_{1} \\right)} \\sigma^{5}{\\left(z,g_{2},g_{3} \\right)} \\sigma{\\left({\\mu}_{0} + {\\mu}_{1} + {\\mu}_{2} + {\\mu}_{3},g_{2},g_{3} \\right)} \\sigma{\\left(- {\\mu}_{0},g_{2},g_{3} \\right)} \\sigma{\\left(- {\\mu}_{1},g_{2},g_{3} \\right)} \\sigma{\\left(- {\\mu}_{2},g_{2},g_{3} \\right)} \\sigma{\\left(- {\\mu}_{3},g_{2},g_{3} \\right)} + 24 f{\\left(4,- {\\mu}_{0},- {\\mu}_{1},- {\\mu}_{2},- {\\mu}_{3} \\right)} \\rho^{2}{\\left(z,- {\\mu}_{1} \\right)} \\rho{\\left(z,{\\mu}_{1} \\right)} \\sigma^{5}{\\left(z,g_{2},g_{3} \\right)} \\sigma{\\left({\\mu}_{0} + {\\mu}_{1} + {\\mu}_{2} + {\\mu}_{3},g_{2},g_{3} \\right)} \\sigma{\\left(- {\\mu}_{0},g_{2},g_{3} \\right)} \\sigma{\\left(- {\\mu}_{1},g_{2},g_{3} \\right)} \\sigma{\\left(- {\\mu}_{2},g_{2},g_{3} \\right)} \\sigma{\\left(- {\\mu}_{3},g_{2},g_{3} \\right)}}$"
      ],
      "text/plain": [
       "Eq(Derivative(rho(z, mu[1]), z), pwp(mu[1], g2, g3)/(2*rho(z, -mu[1])) - rho(z, mu[1])*zw(mu[1], g2, g3) - f(1, -mu[0], -mu[1], -mu[2], -mu[3])*rho(z, -mu[1])*rho(z, mu[1])*sigma(z, g2, g3)**5*sigma(mu[0] + mu[1] + mu[2] + mu[3], g2, g3)*sigma(-mu[0], g2, g3)*sigma(-mu[1], g2, g3)*sigma(-mu[2], g2, g3)*sigma(-mu[3], g2, g3)/(2*f(2, -mu[0], -mu[1], -mu[2], -mu[3])*rho(z, -mu[1])*sigma(z, g2, g3)**5*sigma(mu[0] + mu[1] + mu[2] + mu[3], g2, g3)*sigma(-mu[0], g2, g3)*sigma(-mu[1], g2, g3)*sigma(-mu[2], g2, g3)*sigma(-mu[3], g2, g3) + 24*f(4, -mu[0], -mu[1], -mu[2], -mu[3])*pw(mu[1], g2, g3)*rho(z, -mu[1])*sigma(z, g2, g3)**5*sigma(mu[0] + mu[1] + mu[2] + mu[3], g2, g3)*sigma(-mu[0], g2, g3)*sigma(-mu[1], g2, g3)*sigma(-mu[2], g2, g3)*sigma(-mu[3], g2, g3) + 24*f(4, -mu[0], -mu[1], -mu[2], -mu[3])*rho(z, -mu[1])**2*rho(z, mu[1])*sigma(z, g2, g3)**5*sigma(mu[0] + mu[1] + mu[2] + mu[3], g2, g3)*sigma(-mu[0], g2, g3)*sigma(-mu[1], g2, g3)*sigma(-mu[2], g2, g3)*sigma(-mu[3], g2, g3)) - f(2, -mu[0], -mu[1], -mu[2], -mu[3])*pwp(mu[1], g2, g3)*sigma(z, g2, g3)**5*sigma(mu[0] + mu[1] + mu[2] + mu[3], g2, g3)*sigma(-mu[0], g2, g3)*sigma(-mu[1], g2, g3)*sigma(-mu[2], g2, g3)*sigma(-mu[3], g2, g3)/(2*f(2, -mu[0], -mu[1], -mu[2], -mu[3])*rho(z, -mu[1])*sigma(z, g2, g3)**5*sigma(mu[0] + mu[1] + mu[2] + mu[3], g2, g3)*sigma(-mu[0], g2, g3)*sigma(-mu[1], g2, g3)*sigma(-mu[2], g2, g3)*sigma(-mu[3], g2, g3) + 24*f(4, -mu[0], -mu[1], -mu[2], -mu[3])*pw(mu[1], g2, g3)*rho(z, -mu[1])*sigma(z, g2, g3)**5*sigma(mu[0] + mu[1] + mu[2] + mu[3], g2, g3)*sigma(-mu[0], g2, g3)*sigma(-mu[1], g2, g3)*sigma(-mu[2], g2, g3)*sigma(-mu[3], g2, g3) + 24*f(4, -mu[0], -mu[1], -mu[2], -mu[3])*rho(z, -mu[1])**2*rho(z, mu[1])*sigma(z, g2, g3)**5*sigma(mu[0] + mu[1] + mu[2] + mu[3], g2, g3)*sigma(-mu[0], g2, g3)*sigma(-mu[1], g2, g3)*sigma(-mu[2], g2, g3)*sigma(-mu[3], g2, g3)) - 12*f(3, -mu[0], -mu[1], -mu[2], -mu[3])*pw(mu[1], g2, g3)*rho(z, -mu[1])*rho(z, mu[1])*sigma(z, g2, g3)**5*sigma(mu[0] + mu[1] + mu[2] + mu[3], g2, g3)*sigma(-mu[0], g2, g3)*sigma(-mu[1], g2, g3)*sigma(-mu[2], g2, g3)*sigma(-mu[3], g2, g3)/(2*f(2, -mu[0], -mu[1], -mu[2], -mu[3])*rho(z, -mu[1])*sigma(z, g2, g3)**5*sigma(mu[0] + mu[1] + mu[2] + mu[3], g2, g3)*sigma(-mu[0], g2, g3)*sigma(-mu[1], g2, g3)*sigma(-mu[2], g2, g3)*sigma(-mu[3], g2, g3) + 24*f(4, -mu[0], -mu[1], -mu[2], -mu[3])*pw(mu[1], g2, g3)*rho(z, -mu[1])*sigma(z, g2, g3)**5*sigma(mu[0] + mu[1] + mu[2] + mu[3], g2, g3)*sigma(-mu[0], g2, g3)*sigma(-mu[1], g2, g3)*sigma(-mu[2], g2, g3)*sigma(-mu[3], g2, g3) + 24*f(4, -mu[0], -mu[1], -mu[2], -mu[3])*rho(z, -mu[1])**2*rho(z, mu[1])*sigma(z, g2, g3)**5*sigma(mu[0] + mu[1] + mu[2] + mu[3], g2, g3)*sigma(-mu[0], g2, g3)*sigma(-mu[1], g2, g3)*sigma(-mu[2], g2, g3)*sigma(-mu[3], g2, g3)) - 6*f(3, -mu[0], -mu[1], -mu[2], -mu[3])*rho(z, -mu[1])**2*rho(z, mu[1])**2*sigma(z, g2, g3)**5*sigma(mu[0] + mu[1] + mu[2] + mu[3], g2, g3)*sigma(-mu[0], g2, g3)*sigma(-mu[1], g2, g3)*sigma(-mu[2], g2, g3)*sigma(-mu[3], g2, g3)/(2*f(2, -mu[0], -mu[1], -mu[2], -mu[3])*rho(z, -mu[1])*sigma(z, g2, g3)**5*sigma(mu[0] + mu[1] + mu[2] + mu[3], g2, g3)*sigma(-mu[0], g2, g3)*sigma(-mu[1], g2, g3)*sigma(-mu[2], g2, g3)*sigma(-mu[3], g2, g3) + 24*f(4, -mu[0], -mu[1], -mu[2], -mu[3])*pw(mu[1], g2, g3)*rho(z, -mu[1])*sigma(z, g2, g3)**5*sigma(mu[0] + mu[1] + mu[2] + mu[3], g2, g3)*sigma(-mu[0], g2, g3)*sigma(-mu[1], g2, g3)*sigma(-mu[2], g2, g3)*sigma(-mu[3], g2, g3) + 24*f(4, -mu[0], -mu[1], -mu[2], -mu[3])*rho(z, -mu[1])**2*rho(z, mu[1])*sigma(z, g2, g3)**5*sigma(mu[0] + mu[1] + mu[2] + mu[3], g2, g3)*sigma(-mu[0], g2, g3)*sigma(-mu[1], g2, g3)*sigma(-mu[2], g2, g3)*sigma(-mu[3], g2, g3)) - 12*f(4, -mu[0], -mu[1], -mu[2], -mu[3])*pw(mu[1], g2, g3)*pwp(mu[1], g2, g3)*sigma(z, g2, g3)**5*sigma(mu[0] + mu[1] + mu[2] + mu[3], g2, g3)*sigma(-mu[0], g2, g3)*sigma(-mu[1], g2, g3)*sigma(-mu[2], g2, g3)*sigma(-mu[3], g2, g3)/(2*f(2, -mu[0], -mu[1], -mu[2], -mu[3])*rho(z, -mu[1])*sigma(z, g2, g3)**5*sigma(mu[0] + mu[1] + mu[2] + mu[3], g2, g3)*sigma(-mu[0], g2, g3)*sigma(-mu[1], g2, g3)*sigma(-mu[2], g2, g3)*sigma(-mu[3], g2, g3) + 24*f(4, -mu[0], -mu[1], -mu[2], -mu[3])*pw(mu[1], g2, g3)*rho(z, -mu[1])*sigma(z, g2, g3)**5*sigma(mu[0] + mu[1] + mu[2] + mu[3], g2, g3)*sigma(-mu[0], g2, g3)*sigma(-mu[1], g2, g3)*sigma(-mu[2], g2, g3)*sigma(-mu[3], g2, g3) + 24*f(4, -mu[0], -mu[1], -mu[2], -mu[3])*rho(z, -mu[1])**2*rho(z, mu[1])*sigma(z, g2, g3)**5*sigma(mu[0] + mu[1] + mu[2] + mu[3], g2, g3)*sigma(-mu[0], g2, g3)*sigma(-mu[1], g2, g3)*sigma(-mu[2], g2, g3)*sigma(-mu[3], g2, g3)) - sigma(z + mu[0], g2, g3)*sigma(z + mu[1], g2, g3)*sigma(z + mu[2], g2, g3)*sigma(z + mu[3], g2, g3)*sigma(z - mu[0] - mu[1] - mu[2] - mu[3], g2, g3)/(2*f(2, -mu[0], -mu[1], -mu[2], -mu[3])*rho(z, -mu[1])*sigma(z, g2, g3)**5*sigma(mu[0] + mu[1] + mu[2] + mu[3], g2, g3)*sigma(-mu[0], g2, g3)*sigma(-mu[1], g2, g3)*sigma(-mu[2], g2, g3)*sigma(-mu[3], g2, g3) + 24*f(4, -mu[0], -mu[1], -mu[2], -mu[3])*pw(mu[1], g2, g3)*rho(z, -mu[1])*sigma(z, g2, g3)**5*sigma(mu[0] + mu[1] + mu[2] + mu[3], g2, g3)*sigma(-mu[0], g2, g3)*sigma(-mu[1], g2, g3)*sigma(-mu[2], g2, g3)*sigma(-mu[3], g2, g3) + 24*f(4, -mu[0], -mu[1], -mu[2], -mu[3])*rho(z, -mu[1])**2*rho(z, mu[1])*sigma(z, g2, g3)**5*sigma(mu[0] + mu[1] + mu[2] + mu[3], g2, g3)*sigma(-mu[0], g2, g3)*sigma(-mu[1], g2, g3)*sigma(-mu[2], g2, g3)*sigma(-mu[3], g2, g3)))"
      ]
     },
     "execution_count": 329,
     "metadata": {},
     "output_type": "execute_result"
    },
    {
     "data": {
      "text/latex": [
       "$\\displaystyle \\frac{\\partial}{\\partial z} \\rho{\\left(z,{\\mu}_{2} \\right)} = \\frac{\\operatorname{pwp}{\\left({\\mu}_{2},g_{2},g_{3} \\right)}}{2 \\rho{\\left(z,- {\\mu}_{2} \\right)}} - \\rho{\\left(z,{\\mu}_{2} \\right)} \\operatorname{zw}{\\left({\\mu}_{2},g_{2},g_{3} \\right)} - \\frac{f{\\left(1,- {\\mu}_{0},- {\\mu}_{1},- {\\mu}_{2},- {\\mu}_{3} \\right)} \\rho{\\left(z,- {\\mu}_{2} \\right)} \\rho{\\left(z,{\\mu}_{2} \\right)} \\sigma^{5}{\\left(z,g_{2},g_{3} \\right)} \\sigma{\\left({\\mu}_{0} + {\\mu}_{1} + {\\mu}_{2} + {\\mu}_{3},g_{2},g_{3} \\right)} \\sigma{\\left(- {\\mu}_{0},g_{2},g_{3} \\right)} \\sigma{\\left(- {\\mu}_{1},g_{2},g_{3} \\right)} \\sigma{\\left(- {\\mu}_{2},g_{2},g_{3} \\right)} \\sigma{\\left(- {\\mu}_{3},g_{2},g_{3} \\right)}}{2 f{\\left(2,- {\\mu}_{0},- {\\mu}_{1},- {\\mu}_{2},- {\\mu}_{3} \\right)} \\rho{\\left(z,- {\\mu}_{2} \\right)} \\sigma^{5}{\\left(z,g_{2},g_{3} \\right)} \\sigma{\\left({\\mu}_{0} + {\\mu}_{1} + {\\mu}_{2} + {\\mu}_{3},g_{2},g_{3} \\right)} \\sigma{\\left(- {\\mu}_{0},g_{2},g_{3} \\right)} \\sigma{\\left(- {\\mu}_{1},g_{2},g_{3} \\right)} \\sigma{\\left(- {\\mu}_{2},g_{2},g_{3} \\right)} \\sigma{\\left(- {\\mu}_{3},g_{2},g_{3} \\right)} + 24 f{\\left(4,- {\\mu}_{0},- {\\mu}_{1},- {\\mu}_{2},- {\\mu}_{3} \\right)} \\operatorname{pw}{\\left({\\mu}_{2},g_{2},g_{3} \\right)} \\rho{\\left(z,- {\\mu}_{2} \\right)} \\sigma^{5}{\\left(z,g_{2},g_{3} \\right)} \\sigma{\\left({\\mu}_{0} + {\\mu}_{1} + {\\mu}_{2} + {\\mu}_{3},g_{2},g_{3} \\right)} \\sigma{\\left(- {\\mu}_{0},g_{2},g_{3} \\right)} \\sigma{\\left(- {\\mu}_{1},g_{2},g_{3} \\right)} \\sigma{\\left(- {\\mu}_{2},g_{2},g_{3} \\right)} \\sigma{\\left(- {\\mu}_{3},g_{2},g_{3} \\right)} + 24 f{\\left(4,- {\\mu}_{0},- {\\mu}_{1},- {\\mu}_{2},- {\\mu}_{3} \\right)} \\rho^{2}{\\left(z,- {\\mu}_{2} \\right)} \\rho{\\left(z,{\\mu}_{2} \\right)} \\sigma^{5}{\\left(z,g_{2},g_{3} \\right)} \\sigma{\\left({\\mu}_{0} + {\\mu}_{1} + {\\mu}_{2} + {\\mu}_{3},g_{2},g_{3} \\right)} \\sigma{\\left(- {\\mu}_{0},g_{2},g_{3} \\right)} \\sigma{\\left(- {\\mu}_{1},g_{2},g_{3} \\right)} \\sigma{\\left(- {\\mu}_{2},g_{2},g_{3} \\right)} \\sigma{\\left(- {\\mu}_{3},g_{2},g_{3} \\right)}} - \\frac{f{\\left(2,- {\\mu}_{0},- {\\mu}_{1},- {\\mu}_{2},- {\\mu}_{3} \\right)} \\operatorname{pwp}{\\left({\\mu}_{2},g_{2},g_{3} \\right)} \\sigma^{5}{\\left(z,g_{2},g_{3} \\right)} \\sigma{\\left({\\mu}_{0} + {\\mu}_{1} + {\\mu}_{2} + {\\mu}_{3},g_{2},g_{3} \\right)} \\sigma{\\left(- {\\mu}_{0},g_{2},g_{3} \\right)} \\sigma{\\left(- {\\mu}_{1},g_{2},g_{3} \\right)} \\sigma{\\left(- {\\mu}_{2},g_{2},g_{3} \\right)} \\sigma{\\left(- {\\mu}_{3},g_{2},g_{3} \\right)}}{2 f{\\left(2,- {\\mu}_{0},- {\\mu}_{1},- {\\mu}_{2},- {\\mu}_{3} \\right)} \\rho{\\left(z,- {\\mu}_{2} \\right)} \\sigma^{5}{\\left(z,g_{2},g_{3} \\right)} \\sigma{\\left({\\mu}_{0} + {\\mu}_{1} + {\\mu}_{2} + {\\mu}_{3},g_{2},g_{3} \\right)} \\sigma{\\left(- {\\mu}_{0},g_{2},g_{3} \\right)} \\sigma{\\left(- {\\mu}_{1},g_{2},g_{3} \\right)} \\sigma{\\left(- {\\mu}_{2},g_{2},g_{3} \\right)} \\sigma{\\left(- {\\mu}_{3},g_{2},g_{3} \\right)} + 24 f{\\left(4,- {\\mu}_{0},- {\\mu}_{1},- {\\mu}_{2},- {\\mu}_{3} \\right)} \\operatorname{pw}{\\left({\\mu}_{2},g_{2},g_{3} \\right)} \\rho{\\left(z,- {\\mu}_{2} \\right)} \\sigma^{5}{\\left(z,g_{2},g_{3} \\right)} \\sigma{\\left({\\mu}_{0} + {\\mu}_{1} + {\\mu}_{2} + {\\mu}_{3},g_{2},g_{3} \\right)} \\sigma{\\left(- {\\mu}_{0},g_{2},g_{3} \\right)} \\sigma{\\left(- {\\mu}_{1},g_{2},g_{3} \\right)} \\sigma{\\left(- {\\mu}_{2},g_{2},g_{3} \\right)} \\sigma{\\left(- {\\mu}_{3},g_{2},g_{3} \\right)} + 24 f{\\left(4,- {\\mu}_{0},- {\\mu}_{1},- {\\mu}_{2},- {\\mu}_{3} \\right)} \\rho^{2}{\\left(z,- {\\mu}_{2} \\right)} \\rho{\\left(z,{\\mu}_{2} \\right)} \\sigma^{5}{\\left(z,g_{2},g_{3} \\right)} \\sigma{\\left({\\mu}_{0} + {\\mu}_{1} + {\\mu}_{2} + {\\mu}_{3},g_{2},g_{3} \\right)} \\sigma{\\left(- {\\mu}_{0},g_{2},g_{3} \\right)} \\sigma{\\left(- {\\mu}_{1},g_{2},g_{3} \\right)} \\sigma{\\left(- {\\mu}_{2},g_{2},g_{3} \\right)} \\sigma{\\left(- {\\mu}_{3},g_{2},g_{3} \\right)}} - \\frac{12 f{\\left(3,- {\\mu}_{0},- {\\mu}_{1},- {\\mu}_{2},- {\\mu}_{3} \\right)} \\operatorname{pw}{\\left({\\mu}_{2},g_{2},g_{3} \\right)} \\rho{\\left(z,- {\\mu}_{2} \\right)} \\rho{\\left(z,{\\mu}_{2} \\right)} \\sigma^{5}{\\left(z,g_{2},g_{3} \\right)} \\sigma{\\left({\\mu}_{0} + {\\mu}_{1} + {\\mu}_{2} + {\\mu}_{3},g_{2},g_{3} \\right)} \\sigma{\\left(- {\\mu}_{0},g_{2},g_{3} \\right)} \\sigma{\\left(- {\\mu}_{1},g_{2},g_{3} \\right)} \\sigma{\\left(- {\\mu}_{2},g_{2},g_{3} \\right)} \\sigma{\\left(- {\\mu}_{3},g_{2},g_{3} \\right)}}{2 f{\\left(2,- {\\mu}_{0},- {\\mu}_{1},- {\\mu}_{2},- {\\mu}_{3} \\right)} \\rho{\\left(z,- {\\mu}_{2} \\right)} \\sigma^{5}{\\left(z,g_{2},g_{3} \\right)} \\sigma{\\left({\\mu}_{0} + {\\mu}_{1} + {\\mu}_{2} + {\\mu}_{3},g_{2},g_{3} \\right)} \\sigma{\\left(- {\\mu}_{0},g_{2},g_{3} \\right)} \\sigma{\\left(- {\\mu}_{1},g_{2},g_{3} \\right)} \\sigma{\\left(- {\\mu}_{2},g_{2},g_{3} \\right)} \\sigma{\\left(- {\\mu}_{3},g_{2},g_{3} \\right)} + 24 f{\\left(4,- {\\mu}_{0},- {\\mu}_{1},- {\\mu}_{2},- {\\mu}_{3} \\right)} \\operatorname{pw}{\\left({\\mu}_{2},g_{2},g_{3} \\right)} \\rho{\\left(z,- {\\mu}_{2} \\right)} \\sigma^{5}{\\left(z,g_{2},g_{3} \\right)} \\sigma{\\left({\\mu}_{0} + {\\mu}_{1} + {\\mu}_{2} + {\\mu}_{3},g_{2},g_{3} \\right)} \\sigma{\\left(- {\\mu}_{0},g_{2},g_{3} \\right)} \\sigma{\\left(- {\\mu}_{1},g_{2},g_{3} \\right)} \\sigma{\\left(- {\\mu}_{2},g_{2},g_{3} \\right)} \\sigma{\\left(- {\\mu}_{3},g_{2},g_{3} \\right)} + 24 f{\\left(4,- {\\mu}_{0},- {\\mu}_{1},- {\\mu}_{2},- {\\mu}_{3} \\right)} \\rho^{2}{\\left(z,- {\\mu}_{2} \\right)} \\rho{\\left(z,{\\mu}_{2} \\right)} \\sigma^{5}{\\left(z,g_{2},g_{3} \\right)} \\sigma{\\left({\\mu}_{0} + {\\mu}_{1} + {\\mu}_{2} + {\\mu}_{3},g_{2},g_{3} \\right)} \\sigma{\\left(- {\\mu}_{0},g_{2},g_{3} \\right)} \\sigma{\\left(- {\\mu}_{1},g_{2},g_{3} \\right)} \\sigma{\\left(- {\\mu}_{2},g_{2},g_{3} \\right)} \\sigma{\\left(- {\\mu}_{3},g_{2},g_{3} \\right)}} - \\frac{6 f{\\left(3,- {\\mu}_{0},- {\\mu}_{1},- {\\mu}_{2},- {\\mu}_{3} \\right)} \\rho^{2}{\\left(z,- {\\mu}_{2} \\right)} \\rho^{2}{\\left(z,{\\mu}_{2} \\right)} \\sigma^{5}{\\left(z,g_{2},g_{3} \\right)} \\sigma{\\left({\\mu}_{0} + {\\mu}_{1} + {\\mu}_{2} + {\\mu}_{3},g_{2},g_{3} \\right)} \\sigma{\\left(- {\\mu}_{0},g_{2},g_{3} \\right)} \\sigma{\\left(- {\\mu}_{1},g_{2},g_{3} \\right)} \\sigma{\\left(- {\\mu}_{2},g_{2},g_{3} \\right)} \\sigma{\\left(- {\\mu}_{3},g_{2},g_{3} \\right)}}{2 f{\\left(2,- {\\mu}_{0},- {\\mu}_{1},- {\\mu}_{2},- {\\mu}_{3} \\right)} \\rho{\\left(z,- {\\mu}_{2} \\right)} \\sigma^{5}{\\left(z,g_{2},g_{3} \\right)} \\sigma{\\left({\\mu}_{0} + {\\mu}_{1} + {\\mu}_{2} + {\\mu}_{3},g_{2},g_{3} \\right)} \\sigma{\\left(- {\\mu}_{0},g_{2},g_{3} \\right)} \\sigma{\\left(- {\\mu}_{1},g_{2},g_{3} \\right)} \\sigma{\\left(- {\\mu}_{2},g_{2},g_{3} \\right)} \\sigma{\\left(- {\\mu}_{3},g_{2},g_{3} \\right)} + 24 f{\\left(4,- {\\mu}_{0},- {\\mu}_{1},- {\\mu}_{2},- {\\mu}_{3} \\right)} \\operatorname{pw}{\\left({\\mu}_{2},g_{2},g_{3} \\right)} \\rho{\\left(z,- {\\mu}_{2} \\right)} \\sigma^{5}{\\left(z,g_{2},g_{3} \\right)} \\sigma{\\left({\\mu}_{0} + {\\mu}_{1} + {\\mu}_{2} + {\\mu}_{3},g_{2},g_{3} \\right)} \\sigma{\\left(- {\\mu}_{0},g_{2},g_{3} \\right)} \\sigma{\\left(- {\\mu}_{1},g_{2},g_{3} \\right)} \\sigma{\\left(- {\\mu}_{2},g_{2},g_{3} \\right)} \\sigma{\\left(- {\\mu}_{3},g_{2},g_{3} \\right)} + 24 f{\\left(4,- {\\mu}_{0},- {\\mu}_{1},- {\\mu}_{2},- {\\mu}_{3} \\right)} \\rho^{2}{\\left(z,- {\\mu}_{2} \\right)} \\rho{\\left(z,{\\mu}_{2} \\right)} \\sigma^{5}{\\left(z,g_{2},g_{3} \\right)} \\sigma{\\left({\\mu}_{0} + {\\mu}_{1} + {\\mu}_{2} + {\\mu}_{3},g_{2},g_{3} \\right)} \\sigma{\\left(- {\\mu}_{0},g_{2},g_{3} \\right)} \\sigma{\\left(- {\\mu}_{1},g_{2},g_{3} \\right)} \\sigma{\\left(- {\\mu}_{2},g_{2},g_{3} \\right)} \\sigma{\\left(- {\\mu}_{3},g_{2},g_{3} \\right)}} - \\frac{12 f{\\left(4,- {\\mu}_{0},- {\\mu}_{1},- {\\mu}_{2},- {\\mu}_{3} \\right)} \\operatorname{pw}{\\left({\\mu}_{2},g_{2},g_{3} \\right)} \\operatorname{pwp}{\\left({\\mu}_{2},g_{2},g_{3} \\right)} \\sigma^{5}{\\left(z,g_{2},g_{3} \\right)} \\sigma{\\left({\\mu}_{0} + {\\mu}_{1} + {\\mu}_{2} + {\\mu}_{3},g_{2},g_{3} \\right)} \\sigma{\\left(- {\\mu}_{0},g_{2},g_{3} \\right)} \\sigma{\\left(- {\\mu}_{1},g_{2},g_{3} \\right)} \\sigma{\\left(- {\\mu}_{2},g_{2},g_{3} \\right)} \\sigma{\\left(- {\\mu}_{3},g_{2},g_{3} \\right)}}{2 f{\\left(2,- {\\mu}_{0},- {\\mu}_{1},- {\\mu}_{2},- {\\mu}_{3} \\right)} \\rho{\\left(z,- {\\mu}_{2} \\right)} \\sigma^{5}{\\left(z,g_{2},g_{3} \\right)} \\sigma{\\left({\\mu}_{0} + {\\mu}_{1} + {\\mu}_{2} + {\\mu}_{3},g_{2},g_{3} \\right)} \\sigma{\\left(- {\\mu}_{0},g_{2},g_{3} \\right)} \\sigma{\\left(- {\\mu}_{1},g_{2},g_{3} \\right)} \\sigma{\\left(- {\\mu}_{2},g_{2},g_{3} \\right)} \\sigma{\\left(- {\\mu}_{3},g_{2},g_{3} \\right)} + 24 f{\\left(4,- {\\mu}_{0},- {\\mu}_{1},- {\\mu}_{2},- {\\mu}_{3} \\right)} \\operatorname{pw}{\\left({\\mu}_{2},g_{2},g_{3} \\right)} \\rho{\\left(z,- {\\mu}_{2} \\right)} \\sigma^{5}{\\left(z,g_{2},g_{3} \\right)} \\sigma{\\left({\\mu}_{0} + {\\mu}_{1} + {\\mu}_{2} + {\\mu}_{3},g_{2},g_{3} \\right)} \\sigma{\\left(- {\\mu}_{0},g_{2},g_{3} \\right)} \\sigma{\\left(- {\\mu}_{1},g_{2},g_{3} \\right)} \\sigma{\\left(- {\\mu}_{2},g_{2},g_{3} \\right)} \\sigma{\\left(- {\\mu}_{3},g_{2},g_{3} \\right)} + 24 f{\\left(4,- {\\mu}_{0},- {\\mu}_{1},- {\\mu}_{2},- {\\mu}_{3} \\right)} \\rho^{2}{\\left(z,- {\\mu}_{2} \\right)} \\rho{\\left(z,{\\mu}_{2} \\right)} \\sigma^{5}{\\left(z,g_{2},g_{3} \\right)} \\sigma{\\left({\\mu}_{0} + {\\mu}_{1} + {\\mu}_{2} + {\\mu}_{3},g_{2},g_{3} \\right)} \\sigma{\\left(- {\\mu}_{0},g_{2},g_{3} \\right)} \\sigma{\\left(- {\\mu}_{1},g_{2},g_{3} \\right)} \\sigma{\\left(- {\\mu}_{2},g_{2},g_{3} \\right)} \\sigma{\\left(- {\\mu}_{3},g_{2},g_{3} \\right)}} - \\frac{\\sigma{\\left(z + {\\mu}_{0},g_{2},g_{3} \\right)} \\sigma{\\left(z + {\\mu}_{1},g_{2},g_{3} \\right)} \\sigma{\\left(z + {\\mu}_{2},g_{2},g_{3} \\right)} \\sigma{\\left(z + {\\mu}_{3},g_{2},g_{3} \\right)} \\sigma{\\left(z - {\\mu}_{0} - {\\mu}_{1} - {\\mu}_{2} - {\\mu}_{3},g_{2},g_{3} \\right)}}{2 f{\\left(2,- {\\mu}_{0},- {\\mu}_{1},- {\\mu}_{2},- {\\mu}_{3} \\right)} \\rho{\\left(z,- {\\mu}_{2} \\right)} \\sigma^{5}{\\left(z,g_{2},g_{3} \\right)} \\sigma{\\left({\\mu}_{0} + {\\mu}_{1} + {\\mu}_{2} + {\\mu}_{3},g_{2},g_{3} \\right)} \\sigma{\\left(- {\\mu}_{0},g_{2},g_{3} \\right)} \\sigma{\\left(- {\\mu}_{1},g_{2},g_{3} \\right)} \\sigma{\\left(- {\\mu}_{2},g_{2},g_{3} \\right)} \\sigma{\\left(- {\\mu}_{3},g_{2},g_{3} \\right)} + 24 f{\\left(4,- {\\mu}_{0},- {\\mu}_{1},- {\\mu}_{2},- {\\mu}_{3} \\right)} \\operatorname{pw}{\\left({\\mu}_{2},g_{2},g_{3} \\right)} \\rho{\\left(z,- {\\mu}_{2} \\right)} \\sigma^{5}{\\left(z,g_{2},g_{3} \\right)} \\sigma{\\left({\\mu}_{0} + {\\mu}_{1} + {\\mu}_{2} + {\\mu}_{3},g_{2},g_{3} \\right)} \\sigma{\\left(- {\\mu}_{0},g_{2},g_{3} \\right)} \\sigma{\\left(- {\\mu}_{1},g_{2},g_{3} \\right)} \\sigma{\\left(- {\\mu}_{2},g_{2},g_{3} \\right)} \\sigma{\\left(- {\\mu}_{3},g_{2},g_{3} \\right)} + 24 f{\\left(4,- {\\mu}_{0},- {\\mu}_{1},- {\\mu}_{2},- {\\mu}_{3} \\right)} \\rho^{2}{\\left(z,- {\\mu}_{2} \\right)} \\rho{\\left(z,{\\mu}_{2} \\right)} \\sigma^{5}{\\left(z,g_{2},g_{3} \\right)} \\sigma{\\left({\\mu}_{0} + {\\mu}_{1} + {\\mu}_{2} + {\\mu}_{3},g_{2},g_{3} \\right)} \\sigma{\\left(- {\\mu}_{0},g_{2},g_{3} \\right)} \\sigma{\\left(- {\\mu}_{1},g_{2},g_{3} \\right)} \\sigma{\\left(- {\\mu}_{2},g_{2},g_{3} \\right)} \\sigma{\\left(- {\\mu}_{3},g_{2},g_{3} \\right)}}$"
      ],
      "text/plain": [
       "Eq(Derivative(rho(z, mu[2]), z), pwp(mu[2], g2, g3)/(2*rho(z, -mu[2])) - rho(z, mu[2])*zw(mu[2], g2, g3) - f(1, -mu[0], -mu[1], -mu[2], -mu[3])*rho(z, -mu[2])*rho(z, mu[2])*sigma(z, g2, g3)**5*sigma(mu[0] + mu[1] + mu[2] + mu[3], g2, g3)*sigma(-mu[0], g2, g3)*sigma(-mu[1], g2, g3)*sigma(-mu[2], g2, g3)*sigma(-mu[3], g2, g3)/(2*f(2, -mu[0], -mu[1], -mu[2], -mu[3])*rho(z, -mu[2])*sigma(z, g2, g3)**5*sigma(mu[0] + mu[1] + mu[2] + mu[3], g2, g3)*sigma(-mu[0], g2, g3)*sigma(-mu[1], g2, g3)*sigma(-mu[2], g2, g3)*sigma(-mu[3], g2, g3) + 24*f(4, -mu[0], -mu[1], -mu[2], -mu[3])*pw(mu[2], g2, g3)*rho(z, -mu[2])*sigma(z, g2, g3)**5*sigma(mu[0] + mu[1] + mu[2] + mu[3], g2, g3)*sigma(-mu[0], g2, g3)*sigma(-mu[1], g2, g3)*sigma(-mu[2], g2, g3)*sigma(-mu[3], g2, g3) + 24*f(4, -mu[0], -mu[1], -mu[2], -mu[3])*rho(z, -mu[2])**2*rho(z, mu[2])*sigma(z, g2, g3)**5*sigma(mu[0] + mu[1] + mu[2] + mu[3], g2, g3)*sigma(-mu[0], g2, g3)*sigma(-mu[1], g2, g3)*sigma(-mu[2], g2, g3)*sigma(-mu[3], g2, g3)) - f(2, -mu[0], -mu[1], -mu[2], -mu[3])*pwp(mu[2], g2, g3)*sigma(z, g2, g3)**5*sigma(mu[0] + mu[1] + mu[2] + mu[3], g2, g3)*sigma(-mu[0], g2, g3)*sigma(-mu[1], g2, g3)*sigma(-mu[2], g2, g3)*sigma(-mu[3], g2, g3)/(2*f(2, -mu[0], -mu[1], -mu[2], -mu[3])*rho(z, -mu[2])*sigma(z, g2, g3)**5*sigma(mu[0] + mu[1] + mu[2] + mu[3], g2, g3)*sigma(-mu[0], g2, g3)*sigma(-mu[1], g2, g3)*sigma(-mu[2], g2, g3)*sigma(-mu[3], g2, g3) + 24*f(4, -mu[0], -mu[1], -mu[2], -mu[3])*pw(mu[2], g2, g3)*rho(z, -mu[2])*sigma(z, g2, g3)**5*sigma(mu[0] + mu[1] + mu[2] + mu[3], g2, g3)*sigma(-mu[0], g2, g3)*sigma(-mu[1], g2, g3)*sigma(-mu[2], g2, g3)*sigma(-mu[3], g2, g3) + 24*f(4, -mu[0], -mu[1], -mu[2], -mu[3])*rho(z, -mu[2])**2*rho(z, mu[2])*sigma(z, g2, g3)**5*sigma(mu[0] + mu[1] + mu[2] + mu[3], g2, g3)*sigma(-mu[0], g2, g3)*sigma(-mu[1], g2, g3)*sigma(-mu[2], g2, g3)*sigma(-mu[3], g2, g3)) - 12*f(3, -mu[0], -mu[1], -mu[2], -mu[3])*pw(mu[2], g2, g3)*rho(z, -mu[2])*rho(z, mu[2])*sigma(z, g2, g3)**5*sigma(mu[0] + mu[1] + mu[2] + mu[3], g2, g3)*sigma(-mu[0], g2, g3)*sigma(-mu[1], g2, g3)*sigma(-mu[2], g2, g3)*sigma(-mu[3], g2, g3)/(2*f(2, -mu[0], -mu[1], -mu[2], -mu[3])*rho(z, -mu[2])*sigma(z, g2, g3)**5*sigma(mu[0] + mu[1] + mu[2] + mu[3], g2, g3)*sigma(-mu[0], g2, g3)*sigma(-mu[1], g2, g3)*sigma(-mu[2], g2, g3)*sigma(-mu[3], g2, g3) + 24*f(4, -mu[0], -mu[1], -mu[2], -mu[3])*pw(mu[2], g2, g3)*rho(z, -mu[2])*sigma(z, g2, g3)**5*sigma(mu[0] + mu[1] + mu[2] + mu[3], g2, g3)*sigma(-mu[0], g2, g3)*sigma(-mu[1], g2, g3)*sigma(-mu[2], g2, g3)*sigma(-mu[3], g2, g3) + 24*f(4, -mu[0], -mu[1], -mu[2], -mu[3])*rho(z, -mu[2])**2*rho(z, mu[2])*sigma(z, g2, g3)**5*sigma(mu[0] + mu[1] + mu[2] + mu[3], g2, g3)*sigma(-mu[0], g2, g3)*sigma(-mu[1], g2, g3)*sigma(-mu[2], g2, g3)*sigma(-mu[3], g2, g3)) - 6*f(3, -mu[0], -mu[1], -mu[2], -mu[3])*rho(z, -mu[2])**2*rho(z, mu[2])**2*sigma(z, g2, g3)**5*sigma(mu[0] + mu[1] + mu[2] + mu[3], g2, g3)*sigma(-mu[0], g2, g3)*sigma(-mu[1], g2, g3)*sigma(-mu[2], g2, g3)*sigma(-mu[3], g2, g3)/(2*f(2, -mu[0], -mu[1], -mu[2], -mu[3])*rho(z, -mu[2])*sigma(z, g2, g3)**5*sigma(mu[0] + mu[1] + mu[2] + mu[3], g2, g3)*sigma(-mu[0], g2, g3)*sigma(-mu[1], g2, g3)*sigma(-mu[2], g2, g3)*sigma(-mu[3], g2, g3) + 24*f(4, -mu[0], -mu[1], -mu[2], -mu[3])*pw(mu[2], g2, g3)*rho(z, -mu[2])*sigma(z, g2, g3)**5*sigma(mu[0] + mu[1] + mu[2] + mu[3], g2, g3)*sigma(-mu[0], g2, g3)*sigma(-mu[1], g2, g3)*sigma(-mu[2], g2, g3)*sigma(-mu[3], g2, g3) + 24*f(4, -mu[0], -mu[1], -mu[2], -mu[3])*rho(z, -mu[2])**2*rho(z, mu[2])*sigma(z, g2, g3)**5*sigma(mu[0] + mu[1] + mu[2] + mu[3], g2, g3)*sigma(-mu[0], g2, g3)*sigma(-mu[1], g2, g3)*sigma(-mu[2], g2, g3)*sigma(-mu[3], g2, g3)) - 12*f(4, -mu[0], -mu[1], -mu[2], -mu[3])*pw(mu[2], g2, g3)*pwp(mu[2], g2, g3)*sigma(z, g2, g3)**5*sigma(mu[0] + mu[1] + mu[2] + mu[3], g2, g3)*sigma(-mu[0], g2, g3)*sigma(-mu[1], g2, g3)*sigma(-mu[2], g2, g3)*sigma(-mu[3], g2, g3)/(2*f(2, -mu[0], -mu[1], -mu[2], -mu[3])*rho(z, -mu[2])*sigma(z, g2, g3)**5*sigma(mu[0] + mu[1] + mu[2] + mu[3], g2, g3)*sigma(-mu[0], g2, g3)*sigma(-mu[1], g2, g3)*sigma(-mu[2], g2, g3)*sigma(-mu[3], g2, g3) + 24*f(4, -mu[0], -mu[1], -mu[2], -mu[3])*pw(mu[2], g2, g3)*rho(z, -mu[2])*sigma(z, g2, g3)**5*sigma(mu[0] + mu[1] + mu[2] + mu[3], g2, g3)*sigma(-mu[0], g2, g3)*sigma(-mu[1], g2, g3)*sigma(-mu[2], g2, g3)*sigma(-mu[3], g2, g3) + 24*f(4, -mu[0], -mu[1], -mu[2], -mu[3])*rho(z, -mu[2])**2*rho(z, mu[2])*sigma(z, g2, g3)**5*sigma(mu[0] + mu[1] + mu[2] + mu[3], g2, g3)*sigma(-mu[0], g2, g3)*sigma(-mu[1], g2, g3)*sigma(-mu[2], g2, g3)*sigma(-mu[3], g2, g3)) - sigma(z + mu[0], g2, g3)*sigma(z + mu[1], g2, g3)*sigma(z + mu[2], g2, g3)*sigma(z + mu[3], g2, g3)*sigma(z - mu[0] - mu[1] - mu[2] - mu[3], g2, g3)/(2*f(2, -mu[0], -mu[1], -mu[2], -mu[3])*rho(z, -mu[2])*sigma(z, g2, g3)**5*sigma(mu[0] + mu[1] + mu[2] + mu[3], g2, g3)*sigma(-mu[0], g2, g3)*sigma(-mu[1], g2, g3)*sigma(-mu[2], g2, g3)*sigma(-mu[3], g2, g3) + 24*f(4, -mu[0], -mu[1], -mu[2], -mu[3])*pw(mu[2], g2, g3)*rho(z, -mu[2])*sigma(z, g2, g3)**5*sigma(mu[0] + mu[1] + mu[2] + mu[3], g2, g3)*sigma(-mu[0], g2, g3)*sigma(-mu[1], g2, g3)*sigma(-mu[2], g2, g3)*sigma(-mu[3], g2, g3) + 24*f(4, -mu[0], -mu[1], -mu[2], -mu[3])*rho(z, -mu[2])**2*rho(z, mu[2])*sigma(z, g2, g3)**5*sigma(mu[0] + mu[1] + mu[2] + mu[3], g2, g3)*sigma(-mu[0], g2, g3)*sigma(-mu[1], g2, g3)*sigma(-mu[2], g2, g3)*sigma(-mu[3], g2, g3)))"
      ]
     },
     "execution_count": 329,
     "metadata": {},
     "output_type": "execute_result"
    },
    {
     "data": {
      "text/latex": [
       "$\\displaystyle \\frac{\\partial}{\\partial z} \\rho{\\left(z,{\\mu}_{3} \\right)} = \\frac{\\operatorname{pwp}{\\left({\\mu}_{3},g_{2},g_{3} \\right)}}{2 \\rho{\\left(z,- {\\mu}_{3} \\right)}} - \\rho{\\left(z,{\\mu}_{3} \\right)} \\operatorname{zw}{\\left({\\mu}_{3},g_{2},g_{3} \\right)} - \\frac{f{\\left(1,- {\\mu}_{0},- {\\mu}_{1},- {\\mu}_{2},- {\\mu}_{3} \\right)} \\rho{\\left(z,- {\\mu}_{3} \\right)} \\rho{\\left(z,{\\mu}_{3} \\right)} \\sigma^{5}{\\left(z,g_{2},g_{3} \\right)} \\sigma{\\left({\\mu}_{0} + {\\mu}_{1} + {\\mu}_{2} + {\\mu}_{3},g_{2},g_{3} \\right)} \\sigma{\\left(- {\\mu}_{0},g_{2},g_{3} \\right)} \\sigma{\\left(- {\\mu}_{1},g_{2},g_{3} \\right)} \\sigma{\\left(- {\\mu}_{2},g_{2},g_{3} \\right)} \\sigma{\\left(- {\\mu}_{3},g_{2},g_{3} \\right)}}{2 f{\\left(2,- {\\mu}_{0},- {\\mu}_{1},- {\\mu}_{2},- {\\mu}_{3} \\right)} \\rho{\\left(z,- {\\mu}_{3} \\right)} \\sigma^{5}{\\left(z,g_{2},g_{3} \\right)} \\sigma{\\left({\\mu}_{0} + {\\mu}_{1} + {\\mu}_{2} + {\\mu}_{3},g_{2},g_{3} \\right)} \\sigma{\\left(- {\\mu}_{0},g_{2},g_{3} \\right)} \\sigma{\\left(- {\\mu}_{1},g_{2},g_{3} \\right)} \\sigma{\\left(- {\\mu}_{2},g_{2},g_{3} \\right)} \\sigma{\\left(- {\\mu}_{3},g_{2},g_{3} \\right)} + 24 f{\\left(4,- {\\mu}_{0},- {\\mu}_{1},- {\\mu}_{2},- {\\mu}_{3} \\right)} \\operatorname{pw}{\\left({\\mu}_{3},g_{2},g_{3} \\right)} \\rho{\\left(z,- {\\mu}_{3} \\right)} \\sigma^{5}{\\left(z,g_{2},g_{3} \\right)} \\sigma{\\left({\\mu}_{0} + {\\mu}_{1} + {\\mu}_{2} + {\\mu}_{3},g_{2},g_{3} \\right)} \\sigma{\\left(- {\\mu}_{0},g_{2},g_{3} \\right)} \\sigma{\\left(- {\\mu}_{1},g_{2},g_{3} \\right)} \\sigma{\\left(- {\\mu}_{2},g_{2},g_{3} \\right)} \\sigma{\\left(- {\\mu}_{3},g_{2},g_{3} \\right)} + 24 f{\\left(4,- {\\mu}_{0},- {\\mu}_{1},- {\\mu}_{2},- {\\mu}_{3} \\right)} \\rho^{2}{\\left(z,- {\\mu}_{3} \\right)} \\rho{\\left(z,{\\mu}_{3} \\right)} \\sigma^{5}{\\left(z,g_{2},g_{3} \\right)} \\sigma{\\left({\\mu}_{0} + {\\mu}_{1} + {\\mu}_{2} + {\\mu}_{3},g_{2},g_{3} \\right)} \\sigma{\\left(- {\\mu}_{0},g_{2},g_{3} \\right)} \\sigma{\\left(- {\\mu}_{1},g_{2},g_{3} \\right)} \\sigma{\\left(- {\\mu}_{2},g_{2},g_{3} \\right)} \\sigma{\\left(- {\\mu}_{3},g_{2},g_{3} \\right)}} - \\frac{f{\\left(2,- {\\mu}_{0},- {\\mu}_{1},- {\\mu}_{2},- {\\mu}_{3} \\right)} \\operatorname{pwp}{\\left({\\mu}_{3},g_{2},g_{3} \\right)} \\sigma^{5}{\\left(z,g_{2},g_{3} \\right)} \\sigma{\\left({\\mu}_{0} + {\\mu}_{1} + {\\mu}_{2} + {\\mu}_{3},g_{2},g_{3} \\right)} \\sigma{\\left(- {\\mu}_{0},g_{2},g_{3} \\right)} \\sigma{\\left(- {\\mu}_{1},g_{2},g_{3} \\right)} \\sigma{\\left(- {\\mu}_{2},g_{2},g_{3} \\right)} \\sigma{\\left(- {\\mu}_{3},g_{2},g_{3} \\right)}}{2 f{\\left(2,- {\\mu}_{0},- {\\mu}_{1},- {\\mu}_{2},- {\\mu}_{3} \\right)} \\rho{\\left(z,- {\\mu}_{3} \\right)} \\sigma^{5}{\\left(z,g_{2},g_{3} \\right)} \\sigma{\\left({\\mu}_{0} + {\\mu}_{1} + {\\mu}_{2} + {\\mu}_{3},g_{2},g_{3} \\right)} \\sigma{\\left(- {\\mu}_{0},g_{2},g_{3} \\right)} \\sigma{\\left(- {\\mu}_{1},g_{2},g_{3} \\right)} \\sigma{\\left(- {\\mu}_{2},g_{2},g_{3} \\right)} \\sigma{\\left(- {\\mu}_{3},g_{2},g_{3} \\right)} + 24 f{\\left(4,- {\\mu}_{0},- {\\mu}_{1},- {\\mu}_{2},- {\\mu}_{3} \\right)} \\operatorname{pw}{\\left({\\mu}_{3},g_{2},g_{3} \\right)} \\rho{\\left(z,- {\\mu}_{3} \\right)} \\sigma^{5}{\\left(z,g_{2},g_{3} \\right)} \\sigma{\\left({\\mu}_{0} + {\\mu}_{1} + {\\mu}_{2} + {\\mu}_{3},g_{2},g_{3} \\right)} \\sigma{\\left(- {\\mu}_{0},g_{2},g_{3} \\right)} \\sigma{\\left(- {\\mu}_{1},g_{2},g_{3} \\right)} \\sigma{\\left(- {\\mu}_{2},g_{2},g_{3} \\right)} \\sigma{\\left(- {\\mu}_{3},g_{2},g_{3} \\right)} + 24 f{\\left(4,- {\\mu}_{0},- {\\mu}_{1},- {\\mu}_{2},- {\\mu}_{3} \\right)} \\rho^{2}{\\left(z,- {\\mu}_{3} \\right)} \\rho{\\left(z,{\\mu}_{3} \\right)} \\sigma^{5}{\\left(z,g_{2},g_{3} \\right)} \\sigma{\\left({\\mu}_{0} + {\\mu}_{1} + {\\mu}_{2} + {\\mu}_{3},g_{2},g_{3} \\right)} \\sigma{\\left(- {\\mu}_{0},g_{2},g_{3} \\right)} \\sigma{\\left(- {\\mu}_{1},g_{2},g_{3} \\right)} \\sigma{\\left(- {\\mu}_{2},g_{2},g_{3} \\right)} \\sigma{\\left(- {\\mu}_{3},g_{2},g_{3} \\right)}} - \\frac{12 f{\\left(3,- {\\mu}_{0},- {\\mu}_{1},- {\\mu}_{2},- {\\mu}_{3} \\right)} \\operatorname{pw}{\\left({\\mu}_{3},g_{2},g_{3} \\right)} \\rho{\\left(z,- {\\mu}_{3} \\right)} \\rho{\\left(z,{\\mu}_{3} \\right)} \\sigma^{5}{\\left(z,g_{2},g_{3} \\right)} \\sigma{\\left({\\mu}_{0} + {\\mu}_{1} + {\\mu}_{2} + {\\mu}_{3},g_{2},g_{3} \\right)} \\sigma{\\left(- {\\mu}_{0},g_{2},g_{3} \\right)} \\sigma{\\left(- {\\mu}_{1},g_{2},g_{3} \\right)} \\sigma{\\left(- {\\mu}_{2},g_{2},g_{3} \\right)} \\sigma{\\left(- {\\mu}_{3},g_{2},g_{3} \\right)}}{2 f{\\left(2,- {\\mu}_{0},- {\\mu}_{1},- {\\mu}_{2},- {\\mu}_{3} \\right)} \\rho{\\left(z,- {\\mu}_{3} \\right)} \\sigma^{5}{\\left(z,g_{2},g_{3} \\right)} \\sigma{\\left({\\mu}_{0} + {\\mu}_{1} + {\\mu}_{2} + {\\mu}_{3},g_{2},g_{3} \\right)} \\sigma{\\left(- {\\mu}_{0},g_{2},g_{3} \\right)} \\sigma{\\left(- {\\mu}_{1},g_{2},g_{3} \\right)} \\sigma{\\left(- {\\mu}_{2},g_{2},g_{3} \\right)} \\sigma{\\left(- {\\mu}_{3},g_{2},g_{3} \\right)} + 24 f{\\left(4,- {\\mu}_{0},- {\\mu}_{1},- {\\mu}_{2},- {\\mu}_{3} \\right)} \\operatorname{pw}{\\left({\\mu}_{3},g_{2},g_{3} \\right)} \\rho{\\left(z,- {\\mu}_{3} \\right)} \\sigma^{5}{\\left(z,g_{2},g_{3} \\right)} \\sigma{\\left({\\mu}_{0} + {\\mu}_{1} + {\\mu}_{2} + {\\mu}_{3},g_{2},g_{3} \\right)} \\sigma{\\left(- {\\mu}_{0},g_{2},g_{3} \\right)} \\sigma{\\left(- {\\mu}_{1},g_{2},g_{3} \\right)} \\sigma{\\left(- {\\mu}_{2},g_{2},g_{3} \\right)} \\sigma{\\left(- {\\mu}_{3},g_{2},g_{3} \\right)} + 24 f{\\left(4,- {\\mu}_{0},- {\\mu}_{1},- {\\mu}_{2},- {\\mu}_{3} \\right)} \\rho^{2}{\\left(z,- {\\mu}_{3} \\right)} \\rho{\\left(z,{\\mu}_{3} \\right)} \\sigma^{5}{\\left(z,g_{2},g_{3} \\right)} \\sigma{\\left({\\mu}_{0} + {\\mu}_{1} + {\\mu}_{2} + {\\mu}_{3},g_{2},g_{3} \\right)} \\sigma{\\left(- {\\mu}_{0},g_{2},g_{3} \\right)} \\sigma{\\left(- {\\mu}_{1},g_{2},g_{3} \\right)} \\sigma{\\left(- {\\mu}_{2},g_{2},g_{3} \\right)} \\sigma{\\left(- {\\mu}_{3},g_{2},g_{3} \\right)}} - \\frac{6 f{\\left(3,- {\\mu}_{0},- {\\mu}_{1},- {\\mu}_{2},- {\\mu}_{3} \\right)} \\rho^{2}{\\left(z,- {\\mu}_{3} \\right)} \\rho^{2}{\\left(z,{\\mu}_{3} \\right)} \\sigma^{5}{\\left(z,g_{2},g_{3} \\right)} \\sigma{\\left({\\mu}_{0} + {\\mu}_{1} + {\\mu}_{2} + {\\mu}_{3},g_{2},g_{3} \\right)} \\sigma{\\left(- {\\mu}_{0},g_{2},g_{3} \\right)} \\sigma{\\left(- {\\mu}_{1},g_{2},g_{3} \\right)} \\sigma{\\left(- {\\mu}_{2},g_{2},g_{3} \\right)} \\sigma{\\left(- {\\mu}_{3},g_{2},g_{3} \\right)}}{2 f{\\left(2,- {\\mu}_{0},- {\\mu}_{1},- {\\mu}_{2},- {\\mu}_{3} \\right)} \\rho{\\left(z,- {\\mu}_{3} \\right)} \\sigma^{5}{\\left(z,g_{2},g_{3} \\right)} \\sigma{\\left({\\mu}_{0} + {\\mu}_{1} + {\\mu}_{2} + {\\mu}_{3},g_{2},g_{3} \\right)} \\sigma{\\left(- {\\mu}_{0},g_{2},g_{3} \\right)} \\sigma{\\left(- {\\mu}_{1},g_{2},g_{3} \\right)} \\sigma{\\left(- {\\mu}_{2},g_{2},g_{3} \\right)} \\sigma{\\left(- {\\mu}_{3},g_{2},g_{3} \\right)} + 24 f{\\left(4,- {\\mu}_{0},- {\\mu}_{1},- {\\mu}_{2},- {\\mu}_{3} \\right)} \\operatorname{pw}{\\left({\\mu}_{3},g_{2},g_{3} \\right)} \\rho{\\left(z,- {\\mu}_{3} \\right)} \\sigma^{5}{\\left(z,g_{2},g_{3} \\right)} \\sigma{\\left({\\mu}_{0} + {\\mu}_{1} + {\\mu}_{2} + {\\mu}_{3},g_{2},g_{3} \\right)} \\sigma{\\left(- {\\mu}_{0},g_{2},g_{3} \\right)} \\sigma{\\left(- {\\mu}_{1},g_{2},g_{3} \\right)} \\sigma{\\left(- {\\mu}_{2},g_{2},g_{3} \\right)} \\sigma{\\left(- {\\mu}_{3},g_{2},g_{3} \\right)} + 24 f{\\left(4,- {\\mu}_{0},- {\\mu}_{1},- {\\mu}_{2},- {\\mu}_{3} \\right)} \\rho^{2}{\\left(z,- {\\mu}_{3} \\right)} \\rho{\\left(z,{\\mu}_{3} \\right)} \\sigma^{5}{\\left(z,g_{2},g_{3} \\right)} \\sigma{\\left({\\mu}_{0} + {\\mu}_{1} + {\\mu}_{2} + {\\mu}_{3},g_{2},g_{3} \\right)} \\sigma{\\left(- {\\mu}_{0},g_{2},g_{3} \\right)} \\sigma{\\left(- {\\mu}_{1},g_{2},g_{3} \\right)} \\sigma{\\left(- {\\mu}_{2},g_{2},g_{3} \\right)} \\sigma{\\left(- {\\mu}_{3},g_{2},g_{3} \\right)}} - \\frac{12 f{\\left(4,- {\\mu}_{0},- {\\mu}_{1},- {\\mu}_{2},- {\\mu}_{3} \\right)} \\operatorname{pw}{\\left({\\mu}_{3},g_{2},g_{3} \\right)} \\operatorname{pwp}{\\left({\\mu}_{3},g_{2},g_{3} \\right)} \\sigma^{5}{\\left(z,g_{2},g_{3} \\right)} \\sigma{\\left({\\mu}_{0} + {\\mu}_{1} + {\\mu}_{2} + {\\mu}_{3},g_{2},g_{3} \\right)} \\sigma{\\left(- {\\mu}_{0},g_{2},g_{3} \\right)} \\sigma{\\left(- {\\mu}_{1},g_{2},g_{3} \\right)} \\sigma{\\left(- {\\mu}_{2},g_{2},g_{3} \\right)} \\sigma{\\left(- {\\mu}_{3},g_{2},g_{3} \\right)}}{2 f{\\left(2,- {\\mu}_{0},- {\\mu}_{1},- {\\mu}_{2},- {\\mu}_{3} \\right)} \\rho{\\left(z,- {\\mu}_{3} \\right)} \\sigma^{5}{\\left(z,g_{2},g_{3} \\right)} \\sigma{\\left({\\mu}_{0} + {\\mu}_{1} + {\\mu}_{2} + {\\mu}_{3},g_{2},g_{3} \\right)} \\sigma{\\left(- {\\mu}_{0},g_{2},g_{3} \\right)} \\sigma{\\left(- {\\mu}_{1},g_{2},g_{3} \\right)} \\sigma{\\left(- {\\mu}_{2},g_{2},g_{3} \\right)} \\sigma{\\left(- {\\mu}_{3},g_{2},g_{3} \\right)} + 24 f{\\left(4,- {\\mu}_{0},- {\\mu}_{1},- {\\mu}_{2},- {\\mu}_{3} \\right)} \\operatorname{pw}{\\left({\\mu}_{3},g_{2},g_{3} \\right)} \\rho{\\left(z,- {\\mu}_{3} \\right)} \\sigma^{5}{\\left(z,g_{2},g_{3} \\right)} \\sigma{\\left({\\mu}_{0} + {\\mu}_{1} + {\\mu}_{2} + {\\mu}_{3},g_{2},g_{3} \\right)} \\sigma{\\left(- {\\mu}_{0},g_{2},g_{3} \\right)} \\sigma{\\left(- {\\mu}_{1},g_{2},g_{3} \\right)} \\sigma{\\left(- {\\mu}_{2},g_{2},g_{3} \\right)} \\sigma{\\left(- {\\mu}_{3},g_{2},g_{3} \\right)} + 24 f{\\left(4,- {\\mu}_{0},- {\\mu}_{1},- {\\mu}_{2},- {\\mu}_{3} \\right)} \\rho^{2}{\\left(z,- {\\mu}_{3} \\right)} \\rho{\\left(z,{\\mu}_{3} \\right)} \\sigma^{5}{\\left(z,g_{2},g_{3} \\right)} \\sigma{\\left({\\mu}_{0} + {\\mu}_{1} + {\\mu}_{2} + {\\mu}_{3},g_{2},g_{3} \\right)} \\sigma{\\left(- {\\mu}_{0},g_{2},g_{3} \\right)} \\sigma{\\left(- {\\mu}_{1},g_{2},g_{3} \\right)} \\sigma{\\left(- {\\mu}_{2},g_{2},g_{3} \\right)} \\sigma{\\left(- {\\mu}_{3},g_{2},g_{3} \\right)}} - \\frac{\\sigma{\\left(z + {\\mu}_{0},g_{2},g_{3} \\right)} \\sigma{\\left(z + {\\mu}_{1},g_{2},g_{3} \\right)} \\sigma{\\left(z + {\\mu}_{2},g_{2},g_{3} \\right)} \\sigma{\\left(z + {\\mu}_{3},g_{2},g_{3} \\right)} \\sigma{\\left(z - {\\mu}_{0} - {\\mu}_{1} - {\\mu}_{2} - {\\mu}_{3},g_{2},g_{3} \\right)}}{2 f{\\left(2,- {\\mu}_{0},- {\\mu}_{1},- {\\mu}_{2},- {\\mu}_{3} \\right)} \\rho{\\left(z,- {\\mu}_{3} \\right)} \\sigma^{5}{\\left(z,g_{2},g_{3} \\right)} \\sigma{\\left({\\mu}_{0} + {\\mu}_{1} + {\\mu}_{2} + {\\mu}_{3},g_{2},g_{3} \\right)} \\sigma{\\left(- {\\mu}_{0},g_{2},g_{3} \\right)} \\sigma{\\left(- {\\mu}_{1},g_{2},g_{3} \\right)} \\sigma{\\left(- {\\mu}_{2},g_{2},g_{3} \\right)} \\sigma{\\left(- {\\mu}_{3},g_{2},g_{3} \\right)} + 24 f{\\left(4,- {\\mu}_{0},- {\\mu}_{1},- {\\mu}_{2},- {\\mu}_{3} \\right)} \\operatorname{pw}{\\left({\\mu}_{3},g_{2},g_{3} \\right)} \\rho{\\left(z,- {\\mu}_{3} \\right)} \\sigma^{5}{\\left(z,g_{2},g_{3} \\right)} \\sigma{\\left({\\mu}_{0} + {\\mu}_{1} + {\\mu}_{2} + {\\mu}_{3},g_{2},g_{3} \\right)} \\sigma{\\left(- {\\mu}_{0},g_{2},g_{3} \\right)} \\sigma{\\left(- {\\mu}_{1},g_{2},g_{3} \\right)} \\sigma{\\left(- {\\mu}_{2},g_{2},g_{3} \\right)} \\sigma{\\left(- {\\mu}_{3},g_{2},g_{3} \\right)} + 24 f{\\left(4,- {\\mu}_{0},- {\\mu}_{1},- {\\mu}_{2},- {\\mu}_{3} \\right)} \\rho^{2}{\\left(z,- {\\mu}_{3} \\right)} \\rho{\\left(z,{\\mu}_{3} \\right)} \\sigma^{5}{\\left(z,g_{2},g_{3} \\right)} \\sigma{\\left({\\mu}_{0} + {\\mu}_{1} + {\\mu}_{2} + {\\mu}_{3},g_{2},g_{3} \\right)} \\sigma{\\left(- {\\mu}_{0},g_{2},g_{3} \\right)} \\sigma{\\left(- {\\mu}_{1},g_{2},g_{3} \\right)} \\sigma{\\left(- {\\mu}_{2},g_{2},g_{3} \\right)} \\sigma{\\left(- {\\mu}_{3},g_{2},g_{3} \\right)}}$"
      ],
      "text/plain": [
       "Eq(Derivative(rho(z, mu[3]), z), pwp(mu[3], g2, g3)/(2*rho(z, -mu[3])) - rho(z, mu[3])*zw(mu[3], g2, g3) - f(1, -mu[0], -mu[1], -mu[2], -mu[3])*rho(z, -mu[3])*rho(z, mu[3])*sigma(z, g2, g3)**5*sigma(mu[0] + mu[1] + mu[2] + mu[3], g2, g3)*sigma(-mu[0], g2, g3)*sigma(-mu[1], g2, g3)*sigma(-mu[2], g2, g3)*sigma(-mu[3], g2, g3)/(2*f(2, -mu[0], -mu[1], -mu[2], -mu[3])*rho(z, -mu[3])*sigma(z, g2, g3)**5*sigma(mu[0] + mu[1] + mu[2] + mu[3], g2, g3)*sigma(-mu[0], g2, g3)*sigma(-mu[1], g2, g3)*sigma(-mu[2], g2, g3)*sigma(-mu[3], g2, g3) + 24*f(4, -mu[0], -mu[1], -mu[2], -mu[3])*pw(mu[3], g2, g3)*rho(z, -mu[3])*sigma(z, g2, g3)**5*sigma(mu[0] + mu[1] + mu[2] + mu[3], g2, g3)*sigma(-mu[0], g2, g3)*sigma(-mu[1], g2, g3)*sigma(-mu[2], g2, g3)*sigma(-mu[3], g2, g3) + 24*f(4, -mu[0], -mu[1], -mu[2], -mu[3])*rho(z, -mu[3])**2*rho(z, mu[3])*sigma(z, g2, g3)**5*sigma(mu[0] + mu[1] + mu[2] + mu[3], g2, g3)*sigma(-mu[0], g2, g3)*sigma(-mu[1], g2, g3)*sigma(-mu[2], g2, g3)*sigma(-mu[3], g2, g3)) - f(2, -mu[0], -mu[1], -mu[2], -mu[3])*pwp(mu[3], g2, g3)*sigma(z, g2, g3)**5*sigma(mu[0] + mu[1] + mu[2] + mu[3], g2, g3)*sigma(-mu[0], g2, g3)*sigma(-mu[1], g2, g3)*sigma(-mu[2], g2, g3)*sigma(-mu[3], g2, g3)/(2*f(2, -mu[0], -mu[1], -mu[2], -mu[3])*rho(z, -mu[3])*sigma(z, g2, g3)**5*sigma(mu[0] + mu[1] + mu[2] + mu[3], g2, g3)*sigma(-mu[0], g2, g3)*sigma(-mu[1], g2, g3)*sigma(-mu[2], g2, g3)*sigma(-mu[3], g2, g3) + 24*f(4, -mu[0], -mu[1], -mu[2], -mu[3])*pw(mu[3], g2, g3)*rho(z, -mu[3])*sigma(z, g2, g3)**5*sigma(mu[0] + mu[1] + mu[2] + mu[3], g2, g3)*sigma(-mu[0], g2, g3)*sigma(-mu[1], g2, g3)*sigma(-mu[2], g2, g3)*sigma(-mu[3], g2, g3) + 24*f(4, -mu[0], -mu[1], -mu[2], -mu[3])*rho(z, -mu[3])**2*rho(z, mu[3])*sigma(z, g2, g3)**5*sigma(mu[0] + mu[1] + mu[2] + mu[3], g2, g3)*sigma(-mu[0], g2, g3)*sigma(-mu[1], g2, g3)*sigma(-mu[2], g2, g3)*sigma(-mu[3], g2, g3)) - 12*f(3, -mu[0], -mu[1], -mu[2], -mu[3])*pw(mu[3], g2, g3)*rho(z, -mu[3])*rho(z, mu[3])*sigma(z, g2, g3)**5*sigma(mu[0] + mu[1] + mu[2] + mu[3], g2, g3)*sigma(-mu[0], g2, g3)*sigma(-mu[1], g2, g3)*sigma(-mu[2], g2, g3)*sigma(-mu[3], g2, g3)/(2*f(2, -mu[0], -mu[1], -mu[2], -mu[3])*rho(z, -mu[3])*sigma(z, g2, g3)**5*sigma(mu[0] + mu[1] + mu[2] + mu[3], g2, g3)*sigma(-mu[0], g2, g3)*sigma(-mu[1], g2, g3)*sigma(-mu[2], g2, g3)*sigma(-mu[3], g2, g3) + 24*f(4, -mu[0], -mu[1], -mu[2], -mu[3])*pw(mu[3], g2, g3)*rho(z, -mu[3])*sigma(z, g2, g3)**5*sigma(mu[0] + mu[1] + mu[2] + mu[3], g2, g3)*sigma(-mu[0], g2, g3)*sigma(-mu[1], g2, g3)*sigma(-mu[2], g2, g3)*sigma(-mu[3], g2, g3) + 24*f(4, -mu[0], -mu[1], -mu[2], -mu[3])*rho(z, -mu[3])**2*rho(z, mu[3])*sigma(z, g2, g3)**5*sigma(mu[0] + mu[1] + mu[2] + mu[3], g2, g3)*sigma(-mu[0], g2, g3)*sigma(-mu[1], g2, g3)*sigma(-mu[2], g2, g3)*sigma(-mu[3], g2, g3)) - 6*f(3, -mu[0], -mu[1], -mu[2], -mu[3])*rho(z, -mu[3])**2*rho(z, mu[3])**2*sigma(z, g2, g3)**5*sigma(mu[0] + mu[1] + mu[2] + mu[3], g2, g3)*sigma(-mu[0], g2, g3)*sigma(-mu[1], g2, g3)*sigma(-mu[2], g2, g3)*sigma(-mu[3], g2, g3)/(2*f(2, -mu[0], -mu[1], -mu[2], -mu[3])*rho(z, -mu[3])*sigma(z, g2, g3)**5*sigma(mu[0] + mu[1] + mu[2] + mu[3], g2, g3)*sigma(-mu[0], g2, g3)*sigma(-mu[1], g2, g3)*sigma(-mu[2], g2, g3)*sigma(-mu[3], g2, g3) + 24*f(4, -mu[0], -mu[1], -mu[2], -mu[3])*pw(mu[3], g2, g3)*rho(z, -mu[3])*sigma(z, g2, g3)**5*sigma(mu[0] + mu[1] + mu[2] + mu[3], g2, g3)*sigma(-mu[0], g2, g3)*sigma(-mu[1], g2, g3)*sigma(-mu[2], g2, g3)*sigma(-mu[3], g2, g3) + 24*f(4, -mu[0], -mu[1], -mu[2], -mu[3])*rho(z, -mu[3])**2*rho(z, mu[3])*sigma(z, g2, g3)**5*sigma(mu[0] + mu[1] + mu[2] + mu[3], g2, g3)*sigma(-mu[0], g2, g3)*sigma(-mu[1], g2, g3)*sigma(-mu[2], g2, g3)*sigma(-mu[3], g2, g3)) - 12*f(4, -mu[0], -mu[1], -mu[2], -mu[3])*pw(mu[3], g2, g3)*pwp(mu[3], g2, g3)*sigma(z, g2, g3)**5*sigma(mu[0] + mu[1] + mu[2] + mu[3], g2, g3)*sigma(-mu[0], g2, g3)*sigma(-mu[1], g2, g3)*sigma(-mu[2], g2, g3)*sigma(-mu[3], g2, g3)/(2*f(2, -mu[0], -mu[1], -mu[2], -mu[3])*rho(z, -mu[3])*sigma(z, g2, g3)**5*sigma(mu[0] + mu[1] + mu[2] + mu[3], g2, g3)*sigma(-mu[0], g2, g3)*sigma(-mu[1], g2, g3)*sigma(-mu[2], g2, g3)*sigma(-mu[3], g2, g3) + 24*f(4, -mu[0], -mu[1], -mu[2], -mu[3])*pw(mu[3], g2, g3)*rho(z, -mu[3])*sigma(z, g2, g3)**5*sigma(mu[0] + mu[1] + mu[2] + mu[3], g2, g3)*sigma(-mu[0], g2, g3)*sigma(-mu[1], g2, g3)*sigma(-mu[2], g2, g3)*sigma(-mu[3], g2, g3) + 24*f(4, -mu[0], -mu[1], -mu[2], -mu[3])*rho(z, -mu[3])**2*rho(z, mu[3])*sigma(z, g2, g3)**5*sigma(mu[0] + mu[1] + mu[2] + mu[3], g2, g3)*sigma(-mu[0], g2, g3)*sigma(-mu[1], g2, g3)*sigma(-mu[2], g2, g3)*sigma(-mu[3], g2, g3)) - sigma(z + mu[0], g2, g3)*sigma(z + mu[1], g2, g3)*sigma(z + mu[2], g2, g3)*sigma(z + mu[3], g2, g3)*sigma(z - mu[0] - mu[1] - mu[2] - mu[3], g2, g3)/(2*f(2, -mu[0], -mu[1], -mu[2], -mu[3])*rho(z, -mu[3])*sigma(z, g2, g3)**5*sigma(mu[0] + mu[1] + mu[2] + mu[3], g2, g3)*sigma(-mu[0], g2, g3)*sigma(-mu[1], g2, g3)*sigma(-mu[2], g2, g3)*sigma(-mu[3], g2, g3) + 24*f(4, -mu[0], -mu[1], -mu[2], -mu[3])*pw(mu[3], g2, g3)*rho(z, -mu[3])*sigma(z, g2, g3)**5*sigma(mu[0] + mu[1] + mu[2] + mu[3], g2, g3)*sigma(-mu[0], g2, g3)*sigma(-mu[1], g2, g3)*sigma(-mu[2], g2, g3)*sigma(-mu[3], g2, g3) + 24*f(4, -mu[0], -mu[1], -mu[2], -mu[3])*rho(z, -mu[3])**2*rho(z, mu[3])*sigma(z, g2, g3)**5*sigma(mu[0] + mu[1] + mu[2] + mu[3], g2, g3)*sigma(-mu[0], g2, g3)*sigma(-mu[1], g2, g3)*sigma(-mu[2], g2, g3)*sigma(-mu[3], g2, g3)))"
      ]
     },
     "execution_count": 329,
     "metadata": {},
     "output_type": "execute_result"
    },
    {
     "data": {
      "text/latex": [
       "$\\displaystyle \\frac{\\partial}{\\partial z} \\rho{\\left(z,- {\\mu}_{0} - {\\mu}_{1} - {\\mu}_{2} - {\\mu}_{3} \\right)} = \\frac{\\operatorname{pwp}{\\left(- {\\mu}_{0} - {\\mu}_{1} - {\\mu}_{2} - {\\mu}_{3},g_{2},g_{3} \\right)}}{2 \\rho{\\left(z,{\\mu}_{0} + {\\mu}_{1} + {\\mu}_{2} + {\\mu}_{3} \\right)}} - \\rho{\\left(z,- {\\mu}_{0} - {\\mu}_{1} - {\\mu}_{2} - {\\mu}_{3} \\right)} \\operatorname{zw}{\\left(- {\\mu}_{0} - {\\mu}_{1} - {\\mu}_{2} - {\\mu}_{3},g_{2},g_{3} \\right)} - \\frac{f{\\left(1,- {\\mu}_{0},- {\\mu}_{1},- {\\mu}_{2},- {\\mu}_{3} \\right)} \\rho{\\left(z,- {\\mu}_{0} - {\\mu}_{1} - {\\mu}_{2} - {\\mu}_{3} \\right)} \\rho{\\left(z,{\\mu}_{0} + {\\mu}_{1} + {\\mu}_{2} + {\\mu}_{3} \\right)} \\sigma^{5}{\\left(z,g_{2},g_{3} \\right)} \\sigma{\\left({\\mu}_{0} + {\\mu}_{1} + {\\mu}_{2} + {\\mu}_{3},g_{2},g_{3} \\right)} \\sigma{\\left(- {\\mu}_{0},g_{2},g_{3} \\right)} \\sigma{\\left(- {\\mu}_{1},g_{2},g_{3} \\right)} \\sigma{\\left(- {\\mu}_{2},g_{2},g_{3} \\right)} \\sigma{\\left(- {\\mu}_{3},g_{2},g_{3} \\right)}}{2 f{\\left(2,- {\\mu}_{0},- {\\mu}_{1},- {\\mu}_{2},- {\\mu}_{3} \\right)} \\rho{\\left(z,{\\mu}_{0} + {\\mu}_{1} + {\\mu}_{2} + {\\mu}_{3} \\right)} \\sigma^{5}{\\left(z,g_{2},g_{3} \\right)} \\sigma{\\left({\\mu}_{0} + {\\mu}_{1} + {\\mu}_{2} + {\\mu}_{3},g_{2},g_{3} \\right)} \\sigma{\\left(- {\\mu}_{0},g_{2},g_{3} \\right)} \\sigma{\\left(- {\\mu}_{1},g_{2},g_{3} \\right)} \\sigma{\\left(- {\\mu}_{2},g_{2},g_{3} \\right)} \\sigma{\\left(- {\\mu}_{3},g_{2},g_{3} \\right)} + 24 f{\\left(4,- {\\mu}_{0},- {\\mu}_{1},- {\\mu}_{2},- {\\mu}_{3} \\right)} \\operatorname{pw}{\\left(- {\\mu}_{0} - {\\mu}_{1} - {\\mu}_{2} - {\\mu}_{3},g_{2},g_{3} \\right)} \\rho{\\left(z,{\\mu}_{0} + {\\mu}_{1} + {\\mu}_{2} + {\\mu}_{3} \\right)} \\sigma^{5}{\\left(z,g_{2},g_{3} \\right)} \\sigma{\\left({\\mu}_{0} + {\\mu}_{1} + {\\mu}_{2} + {\\mu}_{3},g_{2},g_{3} \\right)} \\sigma{\\left(- {\\mu}_{0},g_{2},g_{3} \\right)} \\sigma{\\left(- {\\mu}_{1},g_{2},g_{3} \\right)} \\sigma{\\left(- {\\mu}_{2},g_{2},g_{3} \\right)} \\sigma{\\left(- {\\mu}_{3},g_{2},g_{3} \\right)} + 24 f{\\left(4,- {\\mu}_{0},- {\\mu}_{1},- {\\mu}_{2},- {\\mu}_{3} \\right)} \\rho{\\left(z,- {\\mu}_{0} - {\\mu}_{1} - {\\mu}_{2} - {\\mu}_{3} \\right)} \\rho^{2}{\\left(z,{\\mu}_{0} + {\\mu}_{1} + {\\mu}_{2} + {\\mu}_{3} \\right)} \\sigma^{5}{\\left(z,g_{2},g_{3} \\right)} \\sigma{\\left({\\mu}_{0} + {\\mu}_{1} + {\\mu}_{2} + {\\mu}_{3},g_{2},g_{3} \\right)} \\sigma{\\left(- {\\mu}_{0},g_{2},g_{3} \\right)} \\sigma{\\left(- {\\mu}_{1},g_{2},g_{3} \\right)} \\sigma{\\left(- {\\mu}_{2},g_{2},g_{3} \\right)} \\sigma{\\left(- {\\mu}_{3},g_{2},g_{3} \\right)}} - \\frac{f{\\left(2,- {\\mu}_{0},- {\\mu}_{1},- {\\mu}_{2},- {\\mu}_{3} \\right)} \\operatorname{pwp}{\\left(- {\\mu}_{0} - {\\mu}_{1} - {\\mu}_{2} - {\\mu}_{3},g_{2},g_{3} \\right)} \\sigma^{5}{\\left(z,g_{2},g_{3} \\right)} \\sigma{\\left({\\mu}_{0} + {\\mu}_{1} + {\\mu}_{2} + {\\mu}_{3},g_{2},g_{3} \\right)} \\sigma{\\left(- {\\mu}_{0},g_{2},g_{3} \\right)} \\sigma{\\left(- {\\mu}_{1},g_{2},g_{3} \\right)} \\sigma{\\left(- {\\mu}_{2},g_{2},g_{3} \\right)} \\sigma{\\left(- {\\mu}_{3},g_{2},g_{3} \\right)}}{2 f{\\left(2,- {\\mu}_{0},- {\\mu}_{1},- {\\mu}_{2},- {\\mu}_{3} \\right)} \\rho{\\left(z,{\\mu}_{0} + {\\mu}_{1} + {\\mu}_{2} + {\\mu}_{3} \\right)} \\sigma^{5}{\\left(z,g_{2},g_{3} \\right)} \\sigma{\\left({\\mu}_{0} + {\\mu}_{1} + {\\mu}_{2} + {\\mu}_{3},g_{2},g_{3} \\right)} \\sigma{\\left(- {\\mu}_{0},g_{2},g_{3} \\right)} \\sigma{\\left(- {\\mu}_{1},g_{2},g_{3} \\right)} \\sigma{\\left(- {\\mu}_{2},g_{2},g_{3} \\right)} \\sigma{\\left(- {\\mu}_{3},g_{2},g_{3} \\right)} + 24 f{\\left(4,- {\\mu}_{0},- {\\mu}_{1},- {\\mu}_{2},- {\\mu}_{3} \\right)} \\operatorname{pw}{\\left(- {\\mu}_{0} - {\\mu}_{1} - {\\mu}_{2} - {\\mu}_{3},g_{2},g_{3} \\right)} \\rho{\\left(z,{\\mu}_{0} + {\\mu}_{1} + {\\mu}_{2} + {\\mu}_{3} \\right)} \\sigma^{5}{\\left(z,g_{2},g_{3} \\right)} \\sigma{\\left({\\mu}_{0} + {\\mu}_{1} + {\\mu}_{2} + {\\mu}_{3},g_{2},g_{3} \\right)} \\sigma{\\left(- {\\mu}_{0},g_{2},g_{3} \\right)} \\sigma{\\left(- {\\mu}_{1},g_{2},g_{3} \\right)} \\sigma{\\left(- {\\mu}_{2},g_{2},g_{3} \\right)} \\sigma{\\left(- {\\mu}_{3},g_{2},g_{3} \\right)} + 24 f{\\left(4,- {\\mu}_{0},- {\\mu}_{1},- {\\mu}_{2},- {\\mu}_{3} \\right)} \\rho{\\left(z,- {\\mu}_{0} - {\\mu}_{1} - {\\mu}_{2} - {\\mu}_{3} \\right)} \\rho^{2}{\\left(z,{\\mu}_{0} + {\\mu}_{1} + {\\mu}_{2} + {\\mu}_{3} \\right)} \\sigma^{5}{\\left(z,g_{2},g_{3} \\right)} \\sigma{\\left({\\mu}_{0} + {\\mu}_{1} + {\\mu}_{2} + {\\mu}_{3},g_{2},g_{3} \\right)} \\sigma{\\left(- {\\mu}_{0},g_{2},g_{3} \\right)} \\sigma{\\left(- {\\mu}_{1},g_{2},g_{3} \\right)} \\sigma{\\left(- {\\mu}_{2},g_{2},g_{3} \\right)} \\sigma{\\left(- {\\mu}_{3},g_{2},g_{3} \\right)}} - \\frac{12 f{\\left(3,- {\\mu}_{0},- {\\mu}_{1},- {\\mu}_{2},- {\\mu}_{3} \\right)} \\operatorname{pw}{\\left(- {\\mu}_{0} - {\\mu}_{1} - {\\mu}_{2} - {\\mu}_{3},g_{2},g_{3} \\right)} \\rho{\\left(z,- {\\mu}_{0} - {\\mu}_{1} - {\\mu}_{2} - {\\mu}_{3} \\right)} \\rho{\\left(z,{\\mu}_{0} + {\\mu}_{1} + {\\mu}_{2} + {\\mu}_{3} \\right)} \\sigma^{5}{\\left(z,g_{2},g_{3} \\right)} \\sigma{\\left({\\mu}_{0} + {\\mu}_{1} + {\\mu}_{2} + {\\mu}_{3},g_{2},g_{3} \\right)} \\sigma{\\left(- {\\mu}_{0},g_{2},g_{3} \\right)} \\sigma{\\left(- {\\mu}_{1},g_{2},g_{3} \\right)} \\sigma{\\left(- {\\mu}_{2},g_{2},g_{3} \\right)} \\sigma{\\left(- {\\mu}_{3},g_{2},g_{3} \\right)}}{2 f{\\left(2,- {\\mu}_{0},- {\\mu}_{1},- {\\mu}_{2},- {\\mu}_{3} \\right)} \\rho{\\left(z,{\\mu}_{0} + {\\mu}_{1} + {\\mu}_{2} + {\\mu}_{3} \\right)} \\sigma^{5}{\\left(z,g_{2},g_{3} \\right)} \\sigma{\\left({\\mu}_{0} + {\\mu}_{1} + {\\mu}_{2} + {\\mu}_{3},g_{2},g_{3} \\right)} \\sigma{\\left(- {\\mu}_{0},g_{2},g_{3} \\right)} \\sigma{\\left(- {\\mu}_{1},g_{2},g_{3} \\right)} \\sigma{\\left(- {\\mu}_{2},g_{2},g_{3} \\right)} \\sigma{\\left(- {\\mu}_{3},g_{2},g_{3} \\right)} + 24 f{\\left(4,- {\\mu}_{0},- {\\mu}_{1},- {\\mu}_{2},- {\\mu}_{3} \\right)} \\operatorname{pw}{\\left(- {\\mu}_{0} - {\\mu}_{1} - {\\mu}_{2} - {\\mu}_{3},g_{2},g_{3} \\right)} \\rho{\\left(z,{\\mu}_{0} + {\\mu}_{1} + {\\mu}_{2} + {\\mu}_{3} \\right)} \\sigma^{5}{\\left(z,g_{2},g_{3} \\right)} \\sigma{\\left({\\mu}_{0} + {\\mu}_{1} + {\\mu}_{2} + {\\mu}_{3},g_{2},g_{3} \\right)} \\sigma{\\left(- {\\mu}_{0},g_{2},g_{3} \\right)} \\sigma{\\left(- {\\mu}_{1},g_{2},g_{3} \\right)} \\sigma{\\left(- {\\mu}_{2},g_{2},g_{3} \\right)} \\sigma{\\left(- {\\mu}_{3},g_{2},g_{3} \\right)} + 24 f{\\left(4,- {\\mu}_{0},- {\\mu}_{1},- {\\mu}_{2},- {\\mu}_{3} \\right)} \\rho{\\left(z,- {\\mu}_{0} - {\\mu}_{1} - {\\mu}_{2} - {\\mu}_{3} \\right)} \\rho^{2}{\\left(z,{\\mu}_{0} + {\\mu}_{1} + {\\mu}_{2} + {\\mu}_{3} \\right)} \\sigma^{5}{\\left(z,g_{2},g_{3} \\right)} \\sigma{\\left({\\mu}_{0} + {\\mu}_{1} + {\\mu}_{2} + {\\mu}_{3},g_{2},g_{3} \\right)} \\sigma{\\left(- {\\mu}_{0},g_{2},g_{3} \\right)} \\sigma{\\left(- {\\mu}_{1},g_{2},g_{3} \\right)} \\sigma{\\left(- {\\mu}_{2},g_{2},g_{3} \\right)} \\sigma{\\left(- {\\mu}_{3},g_{2},g_{3} \\right)}} - \\frac{6 f{\\left(3,- {\\mu}_{0},- {\\mu}_{1},- {\\mu}_{2},- {\\mu}_{3} \\right)} \\rho^{2}{\\left(z,- {\\mu}_{0} - {\\mu}_{1} - {\\mu}_{2} - {\\mu}_{3} \\right)} \\rho^{2}{\\left(z,{\\mu}_{0} + {\\mu}_{1} + {\\mu}_{2} + {\\mu}_{3} \\right)} \\sigma^{5}{\\left(z,g_{2},g_{3} \\right)} \\sigma{\\left({\\mu}_{0} + {\\mu}_{1} + {\\mu}_{2} + {\\mu}_{3},g_{2},g_{3} \\right)} \\sigma{\\left(- {\\mu}_{0},g_{2},g_{3} \\right)} \\sigma{\\left(- {\\mu}_{1},g_{2},g_{3} \\right)} \\sigma{\\left(- {\\mu}_{2},g_{2},g_{3} \\right)} \\sigma{\\left(- {\\mu}_{3},g_{2},g_{3} \\right)}}{2 f{\\left(2,- {\\mu}_{0},- {\\mu}_{1},- {\\mu}_{2},- {\\mu}_{3} \\right)} \\rho{\\left(z,{\\mu}_{0} + {\\mu}_{1} + {\\mu}_{2} + {\\mu}_{3} \\right)} \\sigma^{5}{\\left(z,g_{2},g_{3} \\right)} \\sigma{\\left({\\mu}_{0} + {\\mu}_{1} + {\\mu}_{2} + {\\mu}_{3},g_{2},g_{3} \\right)} \\sigma{\\left(- {\\mu}_{0},g_{2},g_{3} \\right)} \\sigma{\\left(- {\\mu}_{1},g_{2},g_{3} \\right)} \\sigma{\\left(- {\\mu}_{2},g_{2},g_{3} \\right)} \\sigma{\\left(- {\\mu}_{3},g_{2},g_{3} \\right)} + 24 f{\\left(4,- {\\mu}_{0},- {\\mu}_{1},- {\\mu}_{2},- {\\mu}_{3} \\right)} \\operatorname{pw}{\\left(- {\\mu}_{0} - {\\mu}_{1} - {\\mu}_{2} - {\\mu}_{3},g_{2},g_{3} \\right)} \\rho{\\left(z,{\\mu}_{0} + {\\mu}_{1} + {\\mu}_{2} + {\\mu}_{3} \\right)} \\sigma^{5}{\\left(z,g_{2},g_{3} \\right)} \\sigma{\\left({\\mu}_{0} + {\\mu}_{1} + {\\mu}_{2} + {\\mu}_{3},g_{2},g_{3} \\right)} \\sigma{\\left(- {\\mu}_{0},g_{2},g_{3} \\right)} \\sigma{\\left(- {\\mu}_{1},g_{2},g_{3} \\right)} \\sigma{\\left(- {\\mu}_{2},g_{2},g_{3} \\right)} \\sigma{\\left(- {\\mu}_{3},g_{2},g_{3} \\right)} + 24 f{\\left(4,- {\\mu}_{0},- {\\mu}_{1},- {\\mu}_{2},- {\\mu}_{3} \\right)} \\rho{\\left(z,- {\\mu}_{0} - {\\mu}_{1} - {\\mu}_{2} - {\\mu}_{3} \\right)} \\rho^{2}{\\left(z,{\\mu}_{0} + {\\mu}_{1} + {\\mu}_{2} + {\\mu}_{3} \\right)} \\sigma^{5}{\\left(z,g_{2},g_{3} \\right)} \\sigma{\\left({\\mu}_{0} + {\\mu}_{1} + {\\mu}_{2} + {\\mu}_{3},g_{2},g_{3} \\right)} \\sigma{\\left(- {\\mu}_{0},g_{2},g_{3} \\right)} \\sigma{\\left(- {\\mu}_{1},g_{2},g_{3} \\right)} \\sigma{\\left(- {\\mu}_{2},g_{2},g_{3} \\right)} \\sigma{\\left(- {\\mu}_{3},g_{2},g_{3} \\right)}} - \\frac{12 f{\\left(4,- {\\mu}_{0},- {\\mu}_{1},- {\\mu}_{2},- {\\mu}_{3} \\right)} \\operatorname{pw}{\\left(- {\\mu}_{0} - {\\mu}_{1} - {\\mu}_{2} - {\\mu}_{3},g_{2},g_{3} \\right)} \\operatorname{pwp}{\\left(- {\\mu}_{0} - {\\mu}_{1} - {\\mu}_{2} - {\\mu}_{3},g_{2},g_{3} \\right)} \\sigma^{5}{\\left(z,g_{2},g_{3} \\right)} \\sigma{\\left({\\mu}_{0} + {\\mu}_{1} + {\\mu}_{2} + {\\mu}_{3},g_{2},g_{3} \\right)} \\sigma{\\left(- {\\mu}_{0},g_{2},g_{3} \\right)} \\sigma{\\left(- {\\mu}_{1},g_{2},g_{3} \\right)} \\sigma{\\left(- {\\mu}_{2},g_{2},g_{3} \\right)} \\sigma{\\left(- {\\mu}_{3},g_{2},g_{3} \\right)}}{2 f{\\left(2,- {\\mu}_{0},- {\\mu}_{1},- {\\mu}_{2},- {\\mu}_{3} \\right)} \\rho{\\left(z,{\\mu}_{0} + {\\mu}_{1} + {\\mu}_{2} + {\\mu}_{3} \\right)} \\sigma^{5}{\\left(z,g_{2},g_{3} \\right)} \\sigma{\\left({\\mu}_{0} + {\\mu}_{1} + {\\mu}_{2} + {\\mu}_{3},g_{2},g_{3} \\right)} \\sigma{\\left(- {\\mu}_{0},g_{2},g_{3} \\right)} \\sigma{\\left(- {\\mu}_{1},g_{2},g_{3} \\right)} \\sigma{\\left(- {\\mu}_{2},g_{2},g_{3} \\right)} \\sigma{\\left(- {\\mu}_{3},g_{2},g_{3} \\right)} + 24 f{\\left(4,- {\\mu}_{0},- {\\mu}_{1},- {\\mu}_{2},- {\\mu}_{3} \\right)} \\operatorname{pw}{\\left(- {\\mu}_{0} - {\\mu}_{1} - {\\mu}_{2} - {\\mu}_{3},g_{2},g_{3} \\right)} \\rho{\\left(z,{\\mu}_{0} + {\\mu}_{1} + {\\mu}_{2} + {\\mu}_{3} \\right)} \\sigma^{5}{\\left(z,g_{2},g_{3} \\right)} \\sigma{\\left({\\mu}_{0} + {\\mu}_{1} + {\\mu}_{2} + {\\mu}_{3},g_{2},g_{3} \\right)} \\sigma{\\left(- {\\mu}_{0},g_{2},g_{3} \\right)} \\sigma{\\left(- {\\mu}_{1},g_{2},g_{3} \\right)} \\sigma{\\left(- {\\mu}_{2},g_{2},g_{3} \\right)} \\sigma{\\left(- {\\mu}_{3},g_{2},g_{3} \\right)} + 24 f{\\left(4,- {\\mu}_{0},- {\\mu}_{1},- {\\mu}_{2},- {\\mu}_{3} \\right)} \\rho{\\left(z,- {\\mu}_{0} - {\\mu}_{1} - {\\mu}_{2} - {\\mu}_{3} \\right)} \\rho^{2}{\\left(z,{\\mu}_{0} + {\\mu}_{1} + {\\mu}_{2} + {\\mu}_{3} \\right)} \\sigma^{5}{\\left(z,g_{2},g_{3} \\right)} \\sigma{\\left({\\mu}_{0} + {\\mu}_{1} + {\\mu}_{2} + {\\mu}_{3},g_{2},g_{3} \\right)} \\sigma{\\left(- {\\mu}_{0},g_{2},g_{3} \\right)} \\sigma{\\left(- {\\mu}_{1},g_{2},g_{3} \\right)} \\sigma{\\left(- {\\mu}_{2},g_{2},g_{3} \\right)} \\sigma{\\left(- {\\mu}_{3},g_{2},g_{3} \\right)}} - \\frac{\\sigma{\\left(z + {\\mu}_{0},g_{2},g_{3} \\right)} \\sigma{\\left(z + {\\mu}_{1},g_{2},g_{3} \\right)} \\sigma{\\left(z + {\\mu}_{2},g_{2},g_{3} \\right)} \\sigma{\\left(z + {\\mu}_{3},g_{2},g_{3} \\right)} \\sigma{\\left(z - {\\mu}_{0} - {\\mu}_{1} - {\\mu}_{2} - {\\mu}_{3},g_{2},g_{3} \\right)}}{2 f{\\left(2,- {\\mu}_{0},- {\\mu}_{1},- {\\mu}_{2},- {\\mu}_{3} \\right)} \\rho{\\left(z,{\\mu}_{0} + {\\mu}_{1} + {\\mu}_{2} + {\\mu}_{3} \\right)} \\sigma^{5}{\\left(z,g_{2},g_{3} \\right)} \\sigma{\\left({\\mu}_{0} + {\\mu}_{1} + {\\mu}_{2} + {\\mu}_{3},g_{2},g_{3} \\right)} \\sigma{\\left(- {\\mu}_{0},g_{2},g_{3} \\right)} \\sigma{\\left(- {\\mu}_{1},g_{2},g_{3} \\right)} \\sigma{\\left(- {\\mu}_{2},g_{2},g_{3} \\right)} \\sigma{\\left(- {\\mu}_{3},g_{2},g_{3} \\right)} + 24 f{\\left(4,- {\\mu}_{0},- {\\mu}_{1},- {\\mu}_{2},- {\\mu}_{3} \\right)} \\operatorname{pw}{\\left(- {\\mu}_{0} - {\\mu}_{1} - {\\mu}_{2} - {\\mu}_{3},g_{2},g_{3} \\right)} \\rho{\\left(z,{\\mu}_{0} + {\\mu}_{1} + {\\mu}_{2} + {\\mu}_{3} \\right)} \\sigma^{5}{\\left(z,g_{2},g_{3} \\right)} \\sigma{\\left({\\mu}_{0} + {\\mu}_{1} + {\\mu}_{2} + {\\mu}_{3},g_{2},g_{3} \\right)} \\sigma{\\left(- {\\mu}_{0},g_{2},g_{3} \\right)} \\sigma{\\left(- {\\mu}_{1},g_{2},g_{3} \\right)} \\sigma{\\left(- {\\mu}_{2},g_{2},g_{3} \\right)} \\sigma{\\left(- {\\mu}_{3},g_{2},g_{3} \\right)} + 24 f{\\left(4,- {\\mu}_{0},- {\\mu}_{1},- {\\mu}_{2},- {\\mu}_{3} \\right)} \\rho{\\left(z,- {\\mu}_{0} - {\\mu}_{1} - {\\mu}_{2} - {\\mu}_{3} \\right)} \\rho^{2}{\\left(z,{\\mu}_{0} + {\\mu}_{1} + {\\mu}_{2} + {\\mu}_{3} \\right)} \\sigma^{5}{\\left(z,g_{2},g_{3} \\right)} \\sigma{\\left({\\mu}_{0} + {\\mu}_{1} + {\\mu}_{2} + {\\mu}_{3},g_{2},g_{3} \\right)} \\sigma{\\left(- {\\mu}_{0},g_{2},g_{3} \\right)} \\sigma{\\left(- {\\mu}_{1},g_{2},g_{3} \\right)} \\sigma{\\left(- {\\mu}_{2},g_{2},g_{3} \\right)} \\sigma{\\left(- {\\mu}_{3},g_{2},g_{3} \\right)}}$"
      ],
      "text/plain": [
       "Eq(Derivative(rho(z, -mu[0] - mu[1] - mu[2] - mu[3]), z), pwp(-mu[0] - mu[1] - mu[2] - mu[3], g2, g3)/(2*rho(z, mu[0] + mu[1] + mu[2] + mu[3])) - rho(z, -mu[0] - mu[1] - mu[2] - mu[3])*zw(-mu[0] - mu[1] - mu[2] - mu[3], g2, g3) - f(1, -mu[0], -mu[1], -mu[2], -mu[3])*rho(z, -mu[0] - mu[1] - mu[2] - mu[3])*rho(z, mu[0] + mu[1] + mu[2] + mu[3])*sigma(z, g2, g3)**5*sigma(mu[0] + mu[1] + mu[2] + mu[3], g2, g3)*sigma(-mu[0], g2, g3)*sigma(-mu[1], g2, g3)*sigma(-mu[2], g2, g3)*sigma(-mu[3], g2, g3)/(2*f(2, -mu[0], -mu[1], -mu[2], -mu[3])*rho(z, mu[0] + mu[1] + mu[2] + mu[3])*sigma(z, g2, g3)**5*sigma(mu[0] + mu[1] + mu[2] + mu[3], g2, g3)*sigma(-mu[0], g2, g3)*sigma(-mu[1], g2, g3)*sigma(-mu[2], g2, g3)*sigma(-mu[3], g2, g3) + 24*f(4, -mu[0], -mu[1], -mu[2], -mu[3])*pw(-mu[0] - mu[1] - mu[2] - mu[3], g2, g3)*rho(z, mu[0] + mu[1] + mu[2] + mu[3])*sigma(z, g2, g3)**5*sigma(mu[0] + mu[1] + mu[2] + mu[3], g2, g3)*sigma(-mu[0], g2, g3)*sigma(-mu[1], g2, g3)*sigma(-mu[2], g2, g3)*sigma(-mu[3], g2, g3) + 24*f(4, -mu[0], -mu[1], -mu[2], -mu[3])*rho(z, -mu[0] - mu[1] - mu[2] - mu[3])*rho(z, mu[0] + mu[1] + mu[2] + mu[3])**2*sigma(z, g2, g3)**5*sigma(mu[0] + mu[1] + mu[2] + mu[3], g2, g3)*sigma(-mu[0], g2, g3)*sigma(-mu[1], g2, g3)*sigma(-mu[2], g2, g3)*sigma(-mu[3], g2, g3)) - f(2, -mu[0], -mu[1], -mu[2], -mu[3])*pwp(-mu[0] - mu[1] - mu[2] - mu[3], g2, g3)*sigma(z, g2, g3)**5*sigma(mu[0] + mu[1] + mu[2] + mu[3], g2, g3)*sigma(-mu[0], g2, g3)*sigma(-mu[1], g2, g3)*sigma(-mu[2], g2, g3)*sigma(-mu[3], g2, g3)/(2*f(2, -mu[0], -mu[1], -mu[2], -mu[3])*rho(z, mu[0] + mu[1] + mu[2] + mu[3])*sigma(z, g2, g3)**5*sigma(mu[0] + mu[1] + mu[2] + mu[3], g2, g3)*sigma(-mu[0], g2, g3)*sigma(-mu[1], g2, g3)*sigma(-mu[2], g2, g3)*sigma(-mu[3], g2, g3) + 24*f(4, -mu[0], -mu[1], -mu[2], -mu[3])*pw(-mu[0] - mu[1] - mu[2] - mu[3], g2, g3)*rho(z, mu[0] + mu[1] + mu[2] + mu[3])*sigma(z, g2, g3)**5*sigma(mu[0] + mu[1] + mu[2] + mu[3], g2, g3)*sigma(-mu[0], g2, g3)*sigma(-mu[1], g2, g3)*sigma(-mu[2], g2, g3)*sigma(-mu[3], g2, g3) + 24*f(4, -mu[0], -mu[1], -mu[2], -mu[3])*rho(z, -mu[0] - mu[1] - mu[2] - mu[3])*rho(z, mu[0] + mu[1] + mu[2] + mu[3])**2*sigma(z, g2, g3)**5*sigma(mu[0] + mu[1] + mu[2] + mu[3], g2, g3)*sigma(-mu[0], g2, g3)*sigma(-mu[1], g2, g3)*sigma(-mu[2], g2, g3)*sigma(-mu[3], g2, g3)) - 12*f(3, -mu[0], -mu[1], -mu[2], -mu[3])*pw(-mu[0] - mu[1] - mu[2] - mu[3], g2, g3)*rho(z, -mu[0] - mu[1] - mu[2] - mu[3])*rho(z, mu[0] + mu[1] + mu[2] + mu[3])*sigma(z, g2, g3)**5*sigma(mu[0] + mu[1] + mu[2] + mu[3], g2, g3)*sigma(-mu[0], g2, g3)*sigma(-mu[1], g2, g3)*sigma(-mu[2], g2, g3)*sigma(-mu[3], g2, g3)/(2*f(2, -mu[0], -mu[1], -mu[2], -mu[3])*rho(z, mu[0] + mu[1] + mu[2] + mu[3])*sigma(z, g2, g3)**5*sigma(mu[0] + mu[1] + mu[2] + mu[3], g2, g3)*sigma(-mu[0], g2, g3)*sigma(-mu[1], g2, g3)*sigma(-mu[2], g2, g3)*sigma(-mu[3], g2, g3) + 24*f(4, -mu[0], -mu[1], -mu[2], -mu[3])*pw(-mu[0] - mu[1] - mu[2] - mu[3], g2, g3)*rho(z, mu[0] + mu[1] + mu[2] + mu[3])*sigma(z, g2, g3)**5*sigma(mu[0] + mu[1] + mu[2] + mu[3], g2, g3)*sigma(-mu[0], g2, g3)*sigma(-mu[1], g2, g3)*sigma(-mu[2], g2, g3)*sigma(-mu[3], g2, g3) + 24*f(4, -mu[0], -mu[1], -mu[2], -mu[3])*rho(z, -mu[0] - mu[1] - mu[2] - mu[3])*rho(z, mu[0] + mu[1] + mu[2] + mu[3])**2*sigma(z, g2, g3)**5*sigma(mu[0] + mu[1] + mu[2] + mu[3], g2, g3)*sigma(-mu[0], g2, g3)*sigma(-mu[1], g2, g3)*sigma(-mu[2], g2, g3)*sigma(-mu[3], g2, g3)) - 6*f(3, -mu[0], -mu[1], -mu[2], -mu[3])*rho(z, -mu[0] - mu[1] - mu[2] - mu[3])**2*rho(z, mu[0] + mu[1] + mu[2] + mu[3])**2*sigma(z, g2, g3)**5*sigma(mu[0] + mu[1] + mu[2] + mu[3], g2, g3)*sigma(-mu[0], g2, g3)*sigma(-mu[1], g2, g3)*sigma(-mu[2], g2, g3)*sigma(-mu[3], g2, g3)/(2*f(2, -mu[0], -mu[1], -mu[2], -mu[3])*rho(z, mu[0] + mu[1] + mu[2] + mu[3])*sigma(z, g2, g3)**5*sigma(mu[0] + mu[1] + mu[2] + mu[3], g2, g3)*sigma(-mu[0], g2, g3)*sigma(-mu[1], g2, g3)*sigma(-mu[2], g2, g3)*sigma(-mu[3], g2, g3) + 24*f(4, -mu[0], -mu[1], -mu[2], -mu[3])*pw(-mu[0] - mu[1] - mu[2] - mu[3], g2, g3)*rho(z, mu[0] + mu[1] + mu[2] + mu[3])*sigma(z, g2, g3)**5*sigma(mu[0] + mu[1] + mu[2] + mu[3], g2, g3)*sigma(-mu[0], g2, g3)*sigma(-mu[1], g2, g3)*sigma(-mu[2], g2, g3)*sigma(-mu[3], g2, g3) + 24*f(4, -mu[0], -mu[1], -mu[2], -mu[3])*rho(z, -mu[0] - mu[1] - mu[2] - mu[3])*rho(z, mu[0] + mu[1] + mu[2] + mu[3])**2*sigma(z, g2, g3)**5*sigma(mu[0] + mu[1] + mu[2] + mu[3], g2, g3)*sigma(-mu[0], g2, g3)*sigma(-mu[1], g2, g3)*sigma(-mu[2], g2, g3)*sigma(-mu[3], g2, g3)) - 12*f(4, -mu[0], -mu[1], -mu[2], -mu[3])*pw(-mu[0] - mu[1] - mu[2] - mu[3], g2, g3)*pwp(-mu[0] - mu[1] - mu[2] - mu[3], g2, g3)*sigma(z, g2, g3)**5*sigma(mu[0] + mu[1] + mu[2] + mu[3], g2, g3)*sigma(-mu[0], g2, g3)*sigma(-mu[1], g2, g3)*sigma(-mu[2], g2, g3)*sigma(-mu[3], g2, g3)/(2*f(2, -mu[0], -mu[1], -mu[2], -mu[3])*rho(z, mu[0] + mu[1] + mu[2] + mu[3])*sigma(z, g2, g3)**5*sigma(mu[0] + mu[1] + mu[2] + mu[3], g2, g3)*sigma(-mu[0], g2, g3)*sigma(-mu[1], g2, g3)*sigma(-mu[2], g2, g3)*sigma(-mu[3], g2, g3) + 24*f(4, -mu[0], -mu[1], -mu[2], -mu[3])*pw(-mu[0] - mu[1] - mu[2] - mu[3], g2, g3)*rho(z, mu[0] + mu[1] + mu[2] + mu[3])*sigma(z, g2, g3)**5*sigma(mu[0] + mu[1] + mu[2] + mu[3], g2, g3)*sigma(-mu[0], g2, g3)*sigma(-mu[1], g2, g3)*sigma(-mu[2], g2, g3)*sigma(-mu[3], g2, g3) + 24*f(4, -mu[0], -mu[1], -mu[2], -mu[3])*rho(z, -mu[0] - mu[1] - mu[2] - mu[3])*rho(z, mu[0] + mu[1] + mu[2] + mu[3])**2*sigma(z, g2, g3)**5*sigma(mu[0] + mu[1] + mu[2] + mu[3], g2, g3)*sigma(-mu[0], g2, g3)*sigma(-mu[1], g2, g3)*sigma(-mu[2], g2, g3)*sigma(-mu[3], g2, g3)) - sigma(z + mu[0], g2, g3)*sigma(z + mu[1], g2, g3)*sigma(z + mu[2], g2, g3)*sigma(z + mu[3], g2, g3)*sigma(z - mu[0] - mu[1] - mu[2] - mu[3], g2, g3)/(2*f(2, -mu[0], -mu[1], -mu[2], -mu[3])*rho(z, mu[0] + mu[1] + mu[2] + mu[3])*sigma(z, g2, g3)**5*sigma(mu[0] + mu[1] + mu[2] + mu[3], g2, g3)*sigma(-mu[0], g2, g3)*sigma(-mu[1], g2, g3)*sigma(-mu[2], g2, g3)*sigma(-mu[3], g2, g3) + 24*f(4, -mu[0], -mu[1], -mu[2], -mu[3])*pw(-mu[0] - mu[1] - mu[2] - mu[3], g2, g3)*rho(z, mu[0] + mu[1] + mu[2] + mu[3])*sigma(z, g2, g3)**5*sigma(mu[0] + mu[1] + mu[2] + mu[3], g2, g3)*sigma(-mu[0], g2, g3)*sigma(-mu[1], g2, g3)*sigma(-mu[2], g2, g3)*sigma(-mu[3], g2, g3) + 24*f(4, -mu[0], -mu[1], -mu[2], -mu[3])*rho(z, -mu[0] - mu[1] - mu[2] - mu[3])*rho(z, mu[0] + mu[1] + mu[2] + mu[3])**2*sigma(z, g2, g3)**5*sigma(mu[0] + mu[1] + mu[2] + mu[3], g2, g3)*sigma(-mu[0], g2, g3)*sigma(-mu[1], g2, g3)*sigma(-mu[2], g2, g3)*sigma(-mu[3], g2, g3)))"
      ]
     },
     "execution_count": 329,
     "metadata": {},
     "output_type": "execute_result"
    }
   ],
   "source": [
    "for eq in rho_system(5):\n",
    "    eq"
   ]
  },
  {
   "cell_type": "code",
   "execution_count": 330,
   "metadata": {},
   "outputs": [
    {
     "data": {
      "text/latex": [
       "$\\displaystyle \\frac{\\partial}{\\partial z} \\rho{\\left(z,{\\mu}_{0} \\right)} = \\frac{18 g_{2} f{\\left(5,- {\\mu}_{0},- {\\mu}_{1},- {\\mu}_{2},- {\\mu}_{3},- {\\mu}_{4} \\right)} \\rho{\\left(z,- {\\mu}_{0} \\right)} \\rho{\\left(z,{\\mu}_{0} \\right)} \\sigma^{6}{\\left(z,g_{2},g_{3} \\right)} \\sigma{\\left({\\mu}_{0} + {\\mu}_{1} + {\\mu}_{2} + {\\mu}_{3} + {\\mu}_{4},g_{2},g_{3} \\right)} \\sigma{\\left(- {\\mu}_{0},g_{2},g_{3} \\right)} \\sigma{\\left(- {\\mu}_{1},g_{2},g_{3} \\right)} \\sigma{\\left(- {\\mu}_{2},g_{2},g_{3} \\right)} \\sigma{\\left(- {\\mu}_{3},g_{2},g_{3} \\right)} \\sigma{\\left(- {\\mu}_{4},g_{2},g_{3} \\right)}}{2 f{\\left(2,- {\\mu}_{0},- {\\mu}_{1},- {\\mu}_{2},- {\\mu}_{3},- {\\mu}_{4} \\right)} \\rho{\\left(z,- {\\mu}_{0} \\right)} \\sigma^{6}{\\left(z,g_{2},g_{3} \\right)} \\sigma{\\left({\\mu}_{0} + {\\mu}_{1} + {\\mu}_{2} + {\\mu}_{3} + {\\mu}_{4},g_{2},g_{3} \\right)} \\sigma{\\left(- {\\mu}_{0},g_{2},g_{3} \\right)} \\sigma{\\left(- {\\mu}_{1},g_{2},g_{3} \\right)} \\sigma{\\left(- {\\mu}_{2},g_{2},g_{3} \\right)} \\sigma{\\left(- {\\mu}_{3},g_{2},g_{3} \\right)} \\sigma{\\left(- {\\mu}_{4},g_{2},g_{3} \\right)} + 24 f{\\left(4,- {\\mu}_{0},- {\\mu}_{1},- {\\mu}_{2},- {\\mu}_{3},- {\\mu}_{4} \\right)} \\operatorname{pw}{\\left({\\mu}_{0},g_{2},g_{3} \\right)} \\rho{\\left(z,- {\\mu}_{0} \\right)} \\sigma^{6}{\\left(z,g_{2},g_{3} \\right)} \\sigma{\\left({\\mu}_{0} + {\\mu}_{1} + {\\mu}_{2} + {\\mu}_{3} + {\\mu}_{4},g_{2},g_{3} \\right)} \\sigma{\\left(- {\\mu}_{0},g_{2},g_{3} \\right)} \\sigma{\\left(- {\\mu}_{1},g_{2},g_{3} \\right)} \\sigma{\\left(- {\\mu}_{2},g_{2},g_{3} \\right)} \\sigma{\\left(- {\\mu}_{3},g_{2},g_{3} \\right)} \\sigma{\\left(- {\\mu}_{4},g_{2},g_{3} \\right)} + 24 f{\\left(4,- {\\mu}_{0},- {\\mu}_{1},- {\\mu}_{2},- {\\mu}_{3},- {\\mu}_{4} \\right)} \\rho^{2}{\\left(z,- {\\mu}_{0} \\right)} \\rho{\\left(z,{\\mu}_{0} \\right)} \\sigma^{6}{\\left(z,g_{2},g_{3} \\right)} \\sigma{\\left({\\mu}_{0} + {\\mu}_{1} + {\\mu}_{2} + {\\mu}_{3} + {\\mu}_{4},g_{2},g_{3} \\right)} \\sigma{\\left(- {\\mu}_{0},g_{2},g_{3} \\right)} \\sigma{\\left(- {\\mu}_{1},g_{2},g_{3} \\right)} \\sigma{\\left(- {\\mu}_{2},g_{2},g_{3} \\right)} \\sigma{\\left(- {\\mu}_{3},g_{2},g_{3} \\right)} \\sigma{\\left(- {\\mu}_{4},g_{2},g_{3} \\right)}} - \\frac{f{\\left(1,- {\\mu}_{0},- {\\mu}_{1},- {\\mu}_{2},- {\\mu}_{3},- {\\mu}_{4} \\right)} \\rho{\\left(z,- {\\mu}_{0} \\right)} \\rho{\\left(z,{\\mu}_{0} \\right)} \\sigma^{6}{\\left(z,g_{2},g_{3} \\right)} \\sigma{\\left({\\mu}_{0} + {\\mu}_{1} + {\\mu}_{2} + {\\mu}_{3} + {\\mu}_{4},g_{2},g_{3} \\right)} \\sigma{\\left(- {\\mu}_{0},g_{2},g_{3} \\right)} \\sigma{\\left(- {\\mu}_{1},g_{2},g_{3} \\right)} \\sigma{\\left(- {\\mu}_{2},g_{2},g_{3} \\right)} \\sigma{\\left(- {\\mu}_{3},g_{2},g_{3} \\right)} \\sigma{\\left(- {\\mu}_{4},g_{2},g_{3} \\right)}}{2 f{\\left(2,- {\\mu}_{0},- {\\mu}_{1},- {\\mu}_{2},- {\\mu}_{3},- {\\mu}_{4} \\right)} \\rho{\\left(z,- {\\mu}_{0} \\right)} \\sigma^{6}{\\left(z,g_{2},g_{3} \\right)} \\sigma{\\left({\\mu}_{0} + {\\mu}_{1} + {\\mu}_{2} + {\\mu}_{3} + {\\mu}_{4},g_{2},g_{3} \\right)} \\sigma{\\left(- {\\mu}_{0},g_{2},g_{3} \\right)} \\sigma{\\left(- {\\mu}_{1},g_{2},g_{3} \\right)} \\sigma{\\left(- {\\mu}_{2},g_{2},g_{3} \\right)} \\sigma{\\left(- {\\mu}_{3},g_{2},g_{3} \\right)} \\sigma{\\left(- {\\mu}_{4},g_{2},g_{3} \\right)} + 24 f{\\left(4,- {\\mu}_{0},- {\\mu}_{1},- {\\mu}_{2},- {\\mu}_{3},- {\\mu}_{4} \\right)} \\operatorname{pw}{\\left({\\mu}_{0},g_{2},g_{3} \\right)} \\rho{\\left(z,- {\\mu}_{0} \\right)} \\sigma^{6}{\\left(z,g_{2},g_{3} \\right)} \\sigma{\\left({\\mu}_{0} + {\\mu}_{1} + {\\mu}_{2} + {\\mu}_{3} + {\\mu}_{4},g_{2},g_{3} \\right)} \\sigma{\\left(- {\\mu}_{0},g_{2},g_{3} \\right)} \\sigma{\\left(- {\\mu}_{1},g_{2},g_{3} \\right)} \\sigma{\\left(- {\\mu}_{2},g_{2},g_{3} \\right)} \\sigma{\\left(- {\\mu}_{3},g_{2},g_{3} \\right)} \\sigma{\\left(- {\\mu}_{4},g_{2},g_{3} \\right)} + 24 f{\\left(4,- {\\mu}_{0},- {\\mu}_{1},- {\\mu}_{2},- {\\mu}_{3},- {\\mu}_{4} \\right)} \\rho^{2}{\\left(z,- {\\mu}_{0} \\right)} \\rho{\\left(z,{\\mu}_{0} \\right)} \\sigma^{6}{\\left(z,g_{2},g_{3} \\right)} \\sigma{\\left({\\mu}_{0} + {\\mu}_{1} + {\\mu}_{2} + {\\mu}_{3} + {\\mu}_{4},g_{2},g_{3} \\right)} \\sigma{\\left(- {\\mu}_{0},g_{2},g_{3} \\right)} \\sigma{\\left(- {\\mu}_{1},g_{2},g_{3} \\right)} \\sigma{\\left(- {\\mu}_{2},g_{2},g_{3} \\right)} \\sigma{\\left(- {\\mu}_{3},g_{2},g_{3} \\right)} \\sigma{\\left(- {\\mu}_{4},g_{2},g_{3} \\right)}} - \\frac{2 f{\\left(2,- {\\mu}_{0},- {\\mu}_{1},- {\\mu}_{2},- {\\mu}_{3},- {\\mu}_{4} \\right)} \\rho{\\left(z,- {\\mu}_{0} \\right)} \\rho{\\left(z,{\\mu}_{0} \\right)} \\sigma^{6}{\\left(z,g_{2},g_{3} \\right)} \\sigma{\\left({\\mu}_{0} + {\\mu}_{1} + {\\mu}_{2} + {\\mu}_{3} + {\\mu}_{4},g_{2},g_{3} \\right)} \\sigma{\\left(- {\\mu}_{0},g_{2},g_{3} \\right)} \\sigma{\\left(- {\\mu}_{1},g_{2},g_{3} \\right)} \\sigma{\\left(- {\\mu}_{2},g_{2},g_{3} \\right)} \\sigma{\\left(- {\\mu}_{3},g_{2},g_{3} \\right)} \\sigma{\\left(- {\\mu}_{4},g_{2},g_{3} \\right)} \\operatorname{zw}{\\left({\\mu}_{0},g_{2},g_{3} \\right)}}{2 f{\\left(2,- {\\mu}_{0},- {\\mu}_{1},- {\\mu}_{2},- {\\mu}_{3},- {\\mu}_{4} \\right)} \\rho{\\left(z,- {\\mu}_{0} \\right)} \\sigma^{6}{\\left(z,g_{2},g_{3} \\right)} \\sigma{\\left({\\mu}_{0} + {\\mu}_{1} + {\\mu}_{2} + {\\mu}_{3} + {\\mu}_{4},g_{2},g_{3} \\right)} \\sigma{\\left(- {\\mu}_{0},g_{2},g_{3} \\right)} \\sigma{\\left(- {\\mu}_{1},g_{2},g_{3} \\right)} \\sigma{\\left(- {\\mu}_{2},g_{2},g_{3} \\right)} \\sigma{\\left(- {\\mu}_{3},g_{2},g_{3} \\right)} \\sigma{\\left(- {\\mu}_{4},g_{2},g_{3} \\right)} + 24 f{\\left(4,- {\\mu}_{0},- {\\mu}_{1},- {\\mu}_{2},- {\\mu}_{3},- {\\mu}_{4} \\right)} \\operatorname{pw}{\\left({\\mu}_{0},g_{2},g_{3} \\right)} \\rho{\\left(z,- {\\mu}_{0} \\right)} \\sigma^{6}{\\left(z,g_{2},g_{3} \\right)} \\sigma{\\left({\\mu}_{0} + {\\mu}_{1} + {\\mu}_{2} + {\\mu}_{3} + {\\mu}_{4},g_{2},g_{3} \\right)} \\sigma{\\left(- {\\mu}_{0},g_{2},g_{3} \\right)} \\sigma{\\left(- {\\mu}_{1},g_{2},g_{3} \\right)} \\sigma{\\left(- {\\mu}_{2},g_{2},g_{3} \\right)} \\sigma{\\left(- {\\mu}_{3},g_{2},g_{3} \\right)} \\sigma{\\left(- {\\mu}_{4},g_{2},g_{3} \\right)} + 24 f{\\left(4,- {\\mu}_{0},- {\\mu}_{1},- {\\mu}_{2},- {\\mu}_{3},- {\\mu}_{4} \\right)} \\rho^{2}{\\left(z,- {\\mu}_{0} \\right)} \\rho{\\left(z,{\\mu}_{0} \\right)} \\sigma^{6}{\\left(z,g_{2},g_{3} \\right)} \\sigma{\\left({\\mu}_{0} + {\\mu}_{1} + {\\mu}_{2} + {\\mu}_{3} + {\\mu}_{4},g_{2},g_{3} \\right)} \\sigma{\\left(- {\\mu}_{0},g_{2},g_{3} \\right)} \\sigma{\\left(- {\\mu}_{1},g_{2},g_{3} \\right)} \\sigma{\\left(- {\\mu}_{2},g_{2},g_{3} \\right)} \\sigma{\\left(- {\\mu}_{3},g_{2},g_{3} \\right)} \\sigma{\\left(- {\\mu}_{4},g_{2},g_{3} \\right)}} - \\frac{12 f{\\left(3,- {\\mu}_{0},- {\\mu}_{1},- {\\mu}_{2},- {\\mu}_{3},- {\\mu}_{4} \\right)} \\operatorname{pw}{\\left({\\mu}_{0},g_{2},g_{3} \\right)} \\rho{\\left(z,- {\\mu}_{0} \\right)} \\rho{\\left(z,{\\mu}_{0} \\right)} \\sigma^{6}{\\left(z,g_{2},g_{3} \\right)} \\sigma{\\left({\\mu}_{0} + {\\mu}_{1} + {\\mu}_{2} + {\\mu}_{3} + {\\mu}_{4},g_{2},g_{3} \\right)} \\sigma{\\left(- {\\mu}_{0},g_{2},g_{3} \\right)} \\sigma{\\left(- {\\mu}_{1},g_{2},g_{3} \\right)} \\sigma{\\left(- {\\mu}_{2},g_{2},g_{3} \\right)} \\sigma{\\left(- {\\mu}_{3},g_{2},g_{3} \\right)} \\sigma{\\left(- {\\mu}_{4},g_{2},g_{3} \\right)}}{2 f{\\left(2,- {\\mu}_{0},- {\\mu}_{1},- {\\mu}_{2},- {\\mu}_{3},- {\\mu}_{4} \\right)} \\rho{\\left(z,- {\\mu}_{0} \\right)} \\sigma^{6}{\\left(z,g_{2},g_{3} \\right)} \\sigma{\\left({\\mu}_{0} + {\\mu}_{1} + {\\mu}_{2} + {\\mu}_{3} + {\\mu}_{4},g_{2},g_{3} \\right)} \\sigma{\\left(- {\\mu}_{0},g_{2},g_{3} \\right)} \\sigma{\\left(- {\\mu}_{1},g_{2},g_{3} \\right)} \\sigma{\\left(- {\\mu}_{2},g_{2},g_{3} \\right)} \\sigma{\\left(- {\\mu}_{3},g_{2},g_{3} \\right)} \\sigma{\\left(- {\\mu}_{4},g_{2},g_{3} \\right)} + 24 f{\\left(4,- {\\mu}_{0},- {\\mu}_{1},- {\\mu}_{2},- {\\mu}_{3},- {\\mu}_{4} \\right)} \\operatorname{pw}{\\left({\\mu}_{0},g_{2},g_{3} \\right)} \\rho{\\left(z,- {\\mu}_{0} \\right)} \\sigma^{6}{\\left(z,g_{2},g_{3} \\right)} \\sigma{\\left({\\mu}_{0} + {\\mu}_{1} + {\\mu}_{2} + {\\mu}_{3} + {\\mu}_{4},g_{2},g_{3} \\right)} \\sigma{\\left(- {\\mu}_{0},g_{2},g_{3} \\right)} \\sigma{\\left(- {\\mu}_{1},g_{2},g_{3} \\right)} \\sigma{\\left(- {\\mu}_{2},g_{2},g_{3} \\right)} \\sigma{\\left(- {\\mu}_{3},g_{2},g_{3} \\right)} \\sigma{\\left(- {\\mu}_{4},g_{2},g_{3} \\right)} + 24 f{\\left(4,- {\\mu}_{0},- {\\mu}_{1},- {\\mu}_{2},- {\\mu}_{3},- {\\mu}_{4} \\right)} \\rho^{2}{\\left(z,- {\\mu}_{0} \\right)} \\rho{\\left(z,{\\mu}_{0} \\right)} \\sigma^{6}{\\left(z,g_{2},g_{3} \\right)} \\sigma{\\left({\\mu}_{0} + {\\mu}_{1} + {\\mu}_{2} + {\\mu}_{3} + {\\mu}_{4},g_{2},g_{3} \\right)} \\sigma{\\left(- {\\mu}_{0},g_{2},g_{3} \\right)} \\sigma{\\left(- {\\mu}_{1},g_{2},g_{3} \\right)} \\sigma{\\left(- {\\mu}_{2},g_{2},g_{3} \\right)} \\sigma{\\left(- {\\mu}_{3},g_{2},g_{3} \\right)} \\sigma{\\left(- {\\mu}_{4},g_{2},g_{3} \\right)}} - \\frac{6 f{\\left(3,- {\\mu}_{0},- {\\mu}_{1},- {\\mu}_{2},- {\\mu}_{3},- {\\mu}_{4} \\right)} \\rho^{2}{\\left(z,- {\\mu}_{0} \\right)} \\rho^{2}{\\left(z,{\\mu}_{0} \\right)} \\sigma^{6}{\\left(z,g_{2},g_{3} \\right)} \\sigma{\\left({\\mu}_{0} + {\\mu}_{1} + {\\mu}_{2} + {\\mu}_{3} + {\\mu}_{4},g_{2},g_{3} \\right)} \\sigma{\\left(- {\\mu}_{0},g_{2},g_{3} \\right)} \\sigma{\\left(- {\\mu}_{1},g_{2},g_{3} \\right)} \\sigma{\\left(- {\\mu}_{2},g_{2},g_{3} \\right)} \\sigma{\\left(- {\\mu}_{3},g_{2},g_{3} \\right)} \\sigma{\\left(- {\\mu}_{4},g_{2},g_{3} \\right)}}{2 f{\\left(2,- {\\mu}_{0},- {\\mu}_{1},- {\\mu}_{2},- {\\mu}_{3},- {\\mu}_{4} \\right)} \\rho{\\left(z,- {\\mu}_{0} \\right)} \\sigma^{6}{\\left(z,g_{2},g_{3} \\right)} \\sigma{\\left({\\mu}_{0} + {\\mu}_{1} + {\\mu}_{2} + {\\mu}_{3} + {\\mu}_{4},g_{2},g_{3} \\right)} \\sigma{\\left(- {\\mu}_{0},g_{2},g_{3} \\right)} \\sigma{\\left(- {\\mu}_{1},g_{2},g_{3} \\right)} \\sigma{\\left(- {\\mu}_{2},g_{2},g_{3} \\right)} \\sigma{\\left(- {\\mu}_{3},g_{2},g_{3} \\right)} \\sigma{\\left(- {\\mu}_{4},g_{2},g_{3} \\right)} + 24 f{\\left(4,- {\\mu}_{0},- {\\mu}_{1},- {\\mu}_{2},- {\\mu}_{3},- {\\mu}_{4} \\right)} \\operatorname{pw}{\\left({\\mu}_{0},g_{2},g_{3} \\right)} \\rho{\\left(z,- {\\mu}_{0} \\right)} \\sigma^{6}{\\left(z,g_{2},g_{3} \\right)} \\sigma{\\left({\\mu}_{0} + {\\mu}_{1} + {\\mu}_{2} + {\\mu}_{3} + {\\mu}_{4},g_{2},g_{3} \\right)} \\sigma{\\left(- {\\mu}_{0},g_{2},g_{3} \\right)} \\sigma{\\left(- {\\mu}_{1},g_{2},g_{3} \\right)} \\sigma{\\left(- {\\mu}_{2},g_{2},g_{3} \\right)} \\sigma{\\left(- {\\mu}_{3},g_{2},g_{3} \\right)} \\sigma{\\left(- {\\mu}_{4},g_{2},g_{3} \\right)} + 24 f{\\left(4,- {\\mu}_{0},- {\\mu}_{1},- {\\mu}_{2},- {\\mu}_{3},- {\\mu}_{4} \\right)} \\rho^{2}{\\left(z,- {\\mu}_{0} \\right)} \\rho{\\left(z,{\\mu}_{0} \\right)} \\sigma^{6}{\\left(z,g_{2},g_{3} \\right)} \\sigma{\\left({\\mu}_{0} + {\\mu}_{1} + {\\mu}_{2} + {\\mu}_{3} + {\\mu}_{4},g_{2},g_{3} \\right)} \\sigma{\\left(- {\\mu}_{0},g_{2},g_{3} \\right)} \\sigma{\\left(- {\\mu}_{1},g_{2},g_{3} \\right)} \\sigma{\\left(- {\\mu}_{2},g_{2},g_{3} \\right)} \\sigma{\\left(- {\\mu}_{3},g_{2},g_{3} \\right)} \\sigma{\\left(- {\\mu}_{4},g_{2},g_{3} \\right)}} - \\frac{24 f{\\left(4,- {\\mu}_{0},- {\\mu}_{1},- {\\mu}_{2},- {\\mu}_{3},- {\\mu}_{4} \\right)} \\operatorname{pw}{\\left({\\mu}_{0},g_{2},g_{3} \\right)} \\rho{\\left(z,- {\\mu}_{0} \\right)} \\rho{\\left(z,{\\mu}_{0} \\right)} \\sigma^{6}{\\left(z,g_{2},g_{3} \\right)} \\sigma{\\left({\\mu}_{0} + {\\mu}_{1} + {\\mu}_{2} + {\\mu}_{3} + {\\mu}_{4},g_{2},g_{3} \\right)} \\sigma{\\left(- {\\mu}_{0},g_{2},g_{3} \\right)} \\sigma{\\left(- {\\mu}_{1},g_{2},g_{3} \\right)} \\sigma{\\left(- {\\mu}_{2},g_{2},g_{3} \\right)} \\sigma{\\left(- {\\mu}_{3},g_{2},g_{3} \\right)} \\sigma{\\left(- {\\mu}_{4},g_{2},g_{3} \\right)} \\operatorname{zw}{\\left({\\mu}_{0},g_{2},g_{3} \\right)}}{2 f{\\left(2,- {\\mu}_{0},- {\\mu}_{1},- {\\mu}_{2},- {\\mu}_{3},- {\\mu}_{4} \\right)} \\rho{\\left(z,- {\\mu}_{0} \\right)} \\sigma^{6}{\\left(z,g_{2},g_{3} \\right)} \\sigma{\\left({\\mu}_{0} + {\\mu}_{1} + {\\mu}_{2} + {\\mu}_{3} + {\\mu}_{4},g_{2},g_{3} \\right)} \\sigma{\\left(- {\\mu}_{0},g_{2},g_{3} \\right)} \\sigma{\\left(- {\\mu}_{1},g_{2},g_{3} \\right)} \\sigma{\\left(- {\\mu}_{2},g_{2},g_{3} \\right)} \\sigma{\\left(- {\\mu}_{3},g_{2},g_{3} \\right)} \\sigma{\\left(- {\\mu}_{4},g_{2},g_{3} \\right)} + 24 f{\\left(4,- {\\mu}_{0},- {\\mu}_{1},- {\\mu}_{2},- {\\mu}_{3},- {\\mu}_{4} \\right)} \\operatorname{pw}{\\left({\\mu}_{0},g_{2},g_{3} \\right)} \\rho{\\left(z,- {\\mu}_{0} \\right)} \\sigma^{6}{\\left(z,g_{2},g_{3} \\right)} \\sigma{\\left({\\mu}_{0} + {\\mu}_{1} + {\\mu}_{2} + {\\mu}_{3} + {\\mu}_{4},g_{2},g_{3} \\right)} \\sigma{\\left(- {\\mu}_{0},g_{2},g_{3} \\right)} \\sigma{\\left(- {\\mu}_{1},g_{2},g_{3} \\right)} \\sigma{\\left(- {\\mu}_{2},g_{2},g_{3} \\right)} \\sigma{\\left(- {\\mu}_{3},g_{2},g_{3} \\right)} \\sigma{\\left(- {\\mu}_{4},g_{2},g_{3} \\right)} + 24 f{\\left(4,- {\\mu}_{0},- {\\mu}_{1},- {\\mu}_{2},- {\\mu}_{3},- {\\mu}_{4} \\right)} \\rho^{2}{\\left(z,- {\\mu}_{0} \\right)} \\rho{\\left(z,{\\mu}_{0} \\right)} \\sigma^{6}{\\left(z,g_{2},g_{3} \\right)} \\sigma{\\left({\\mu}_{0} + {\\mu}_{1} + {\\mu}_{2} + {\\mu}_{3} + {\\mu}_{4},g_{2},g_{3} \\right)} \\sigma{\\left(- {\\mu}_{0},g_{2},g_{3} \\right)} \\sigma{\\left(- {\\mu}_{1},g_{2},g_{3} \\right)} \\sigma{\\left(- {\\mu}_{2},g_{2},g_{3} \\right)} \\sigma{\\left(- {\\mu}_{3},g_{2},g_{3} \\right)} \\sigma{\\left(- {\\mu}_{4},g_{2},g_{3} \\right)}} + \\frac{12 f{\\left(4,- {\\mu}_{0},- {\\mu}_{1},- {\\mu}_{2},- {\\mu}_{3},- {\\mu}_{4} \\right)} \\operatorname{pwp}{\\left({\\mu}_{0},g_{2},g_{3} \\right)} \\rho{\\left(z,- {\\mu}_{0} \\right)} \\rho{\\left(z,{\\mu}_{0} \\right)} \\sigma^{6}{\\left(z,g_{2},g_{3} \\right)} \\sigma{\\left({\\mu}_{0} + {\\mu}_{1} + {\\mu}_{2} + {\\mu}_{3} + {\\mu}_{4},g_{2},g_{3} \\right)} \\sigma{\\left(- {\\mu}_{0},g_{2},g_{3} \\right)} \\sigma{\\left(- {\\mu}_{1},g_{2},g_{3} \\right)} \\sigma{\\left(- {\\mu}_{2},g_{2},g_{3} \\right)} \\sigma{\\left(- {\\mu}_{3},g_{2},g_{3} \\right)} \\sigma{\\left(- {\\mu}_{4},g_{2},g_{3} \\right)}}{2 f{\\left(2,- {\\mu}_{0},- {\\mu}_{1},- {\\mu}_{2},- {\\mu}_{3},- {\\mu}_{4} \\right)} \\rho{\\left(z,- {\\mu}_{0} \\right)} \\sigma^{6}{\\left(z,g_{2},g_{3} \\right)} \\sigma{\\left({\\mu}_{0} + {\\mu}_{1} + {\\mu}_{2} + {\\mu}_{3} + {\\mu}_{4},g_{2},g_{3} \\right)} \\sigma{\\left(- {\\mu}_{0},g_{2},g_{3} \\right)} \\sigma{\\left(- {\\mu}_{1},g_{2},g_{3} \\right)} \\sigma{\\left(- {\\mu}_{2},g_{2},g_{3} \\right)} \\sigma{\\left(- {\\mu}_{3},g_{2},g_{3} \\right)} \\sigma{\\left(- {\\mu}_{4},g_{2},g_{3} \\right)} + 24 f{\\left(4,- {\\mu}_{0},- {\\mu}_{1},- {\\mu}_{2},- {\\mu}_{3},- {\\mu}_{4} \\right)} \\operatorname{pw}{\\left({\\mu}_{0},g_{2},g_{3} \\right)} \\rho{\\left(z,- {\\mu}_{0} \\right)} \\sigma^{6}{\\left(z,g_{2},g_{3} \\right)} \\sigma{\\left({\\mu}_{0} + {\\mu}_{1} + {\\mu}_{2} + {\\mu}_{3} + {\\mu}_{4},g_{2},g_{3} \\right)} \\sigma{\\left(- {\\mu}_{0},g_{2},g_{3} \\right)} \\sigma{\\left(- {\\mu}_{1},g_{2},g_{3} \\right)} \\sigma{\\left(- {\\mu}_{2},g_{2},g_{3} \\right)} \\sigma{\\left(- {\\mu}_{3},g_{2},g_{3} \\right)} \\sigma{\\left(- {\\mu}_{4},g_{2},g_{3} \\right)} + 24 f{\\left(4,- {\\mu}_{0},- {\\mu}_{1},- {\\mu}_{2},- {\\mu}_{3},- {\\mu}_{4} \\right)} \\rho^{2}{\\left(z,- {\\mu}_{0} \\right)} \\rho{\\left(z,{\\mu}_{0} \\right)} \\sigma^{6}{\\left(z,g_{2},g_{3} \\right)} \\sigma{\\left({\\mu}_{0} + {\\mu}_{1} + {\\mu}_{2} + {\\mu}_{3} + {\\mu}_{4},g_{2},g_{3} \\right)} \\sigma{\\left(- {\\mu}_{0},g_{2},g_{3} \\right)} \\sigma{\\left(- {\\mu}_{1},g_{2},g_{3} \\right)} \\sigma{\\left(- {\\mu}_{2},g_{2},g_{3} \\right)} \\sigma{\\left(- {\\mu}_{3},g_{2},g_{3} \\right)} \\sigma{\\left(- {\\mu}_{4},g_{2},g_{3} \\right)}} - \\frac{24 f{\\left(4,- {\\mu}_{0},- {\\mu}_{1},- {\\mu}_{2},- {\\mu}_{3},- {\\mu}_{4} \\right)} \\rho^{2}{\\left(z,- {\\mu}_{0} \\right)} \\rho^{2}{\\left(z,{\\mu}_{0} \\right)} \\sigma^{6}{\\left(z,g_{2},g_{3} \\right)} \\sigma{\\left({\\mu}_{0} + {\\mu}_{1} + {\\mu}_{2} + {\\mu}_{3} + {\\mu}_{4},g_{2},g_{3} \\right)} \\sigma{\\left(- {\\mu}_{0},g_{2},g_{3} \\right)} \\sigma{\\left(- {\\mu}_{1},g_{2},g_{3} \\right)} \\sigma{\\left(- {\\mu}_{2},g_{2},g_{3} \\right)} \\sigma{\\left(- {\\mu}_{3},g_{2},g_{3} \\right)} \\sigma{\\left(- {\\mu}_{4},g_{2},g_{3} \\right)} \\operatorname{zw}{\\left({\\mu}_{0},g_{2},g_{3} \\right)}}{2 f{\\left(2,- {\\mu}_{0},- {\\mu}_{1},- {\\mu}_{2},- {\\mu}_{3},- {\\mu}_{4} \\right)} \\rho{\\left(z,- {\\mu}_{0} \\right)} \\sigma^{6}{\\left(z,g_{2},g_{3} \\right)} \\sigma{\\left({\\mu}_{0} + {\\mu}_{1} + {\\mu}_{2} + {\\mu}_{3} + {\\mu}_{4},g_{2},g_{3} \\right)} \\sigma{\\left(- {\\mu}_{0},g_{2},g_{3} \\right)} \\sigma{\\left(- {\\mu}_{1},g_{2},g_{3} \\right)} \\sigma{\\left(- {\\mu}_{2},g_{2},g_{3} \\right)} \\sigma{\\left(- {\\mu}_{3},g_{2},g_{3} \\right)} \\sigma{\\left(- {\\mu}_{4},g_{2},g_{3} \\right)} + 24 f{\\left(4,- {\\mu}_{0},- {\\mu}_{1},- {\\mu}_{2},- {\\mu}_{3},- {\\mu}_{4} \\right)} \\operatorname{pw}{\\left({\\mu}_{0},g_{2},g_{3} \\right)} \\rho{\\left(z,- {\\mu}_{0} \\right)} \\sigma^{6}{\\left(z,g_{2},g_{3} \\right)} \\sigma{\\left({\\mu}_{0} + {\\mu}_{1} + {\\mu}_{2} + {\\mu}_{3} + {\\mu}_{4},g_{2},g_{3} \\right)} \\sigma{\\left(- {\\mu}_{0},g_{2},g_{3} \\right)} \\sigma{\\left(- {\\mu}_{1},g_{2},g_{3} \\right)} \\sigma{\\left(- {\\mu}_{2},g_{2},g_{3} \\right)} \\sigma{\\left(- {\\mu}_{3},g_{2},g_{3} \\right)} \\sigma{\\left(- {\\mu}_{4},g_{2},g_{3} \\right)} + 24 f{\\left(4,- {\\mu}_{0},- {\\mu}_{1},- {\\mu}_{2},- {\\mu}_{3},- {\\mu}_{4} \\right)} \\rho^{2}{\\left(z,- {\\mu}_{0} \\right)} \\rho{\\left(z,{\\mu}_{0} \\right)} \\sigma^{6}{\\left(z,g_{2},g_{3} \\right)} \\sigma{\\left({\\mu}_{0} + {\\mu}_{1} + {\\mu}_{2} + {\\mu}_{3} + {\\mu}_{4},g_{2},g_{3} \\right)} \\sigma{\\left(- {\\mu}_{0},g_{2},g_{3} \\right)} \\sigma{\\left(- {\\mu}_{1},g_{2},g_{3} \\right)} \\sigma{\\left(- {\\mu}_{2},g_{2},g_{3} \\right)} \\sigma{\\left(- {\\mu}_{3},g_{2},g_{3} \\right)} \\sigma{\\left(- {\\mu}_{4},g_{2},g_{3} \\right)}} - \\frac{360 f{\\left(5,- {\\mu}_{0},- {\\mu}_{1},- {\\mu}_{2},- {\\mu}_{3},- {\\mu}_{4} \\right)} \\operatorname{pw}^{2}{\\left({\\mu}_{0},g_{2},g_{3} \\right)} \\rho{\\left(z,- {\\mu}_{0} \\right)} \\rho{\\left(z,{\\mu}_{0} \\right)} \\sigma^{6}{\\left(z,g_{2},g_{3} \\right)} \\sigma{\\left({\\mu}_{0} + {\\mu}_{1} + {\\mu}_{2} + {\\mu}_{3} + {\\mu}_{4},g_{2},g_{3} \\right)} \\sigma{\\left(- {\\mu}_{0},g_{2},g_{3} \\right)} \\sigma{\\left(- {\\mu}_{1},g_{2},g_{3} \\right)} \\sigma{\\left(- {\\mu}_{2},g_{2},g_{3} \\right)} \\sigma{\\left(- {\\mu}_{3},g_{2},g_{3} \\right)} \\sigma{\\left(- {\\mu}_{4},g_{2},g_{3} \\right)}}{2 f{\\left(2,- {\\mu}_{0},- {\\mu}_{1},- {\\mu}_{2},- {\\mu}_{3},- {\\mu}_{4} \\right)} \\rho{\\left(z,- {\\mu}_{0} \\right)} \\sigma^{6}{\\left(z,g_{2},g_{3} \\right)} \\sigma{\\left({\\mu}_{0} + {\\mu}_{1} + {\\mu}_{2} + {\\mu}_{3} + {\\mu}_{4},g_{2},g_{3} \\right)} \\sigma{\\left(- {\\mu}_{0},g_{2},g_{3} \\right)} \\sigma{\\left(- {\\mu}_{1},g_{2},g_{3} \\right)} \\sigma{\\left(- {\\mu}_{2},g_{2},g_{3} \\right)} \\sigma{\\left(- {\\mu}_{3},g_{2},g_{3} \\right)} \\sigma{\\left(- {\\mu}_{4},g_{2},g_{3} \\right)} + 24 f{\\left(4,- {\\mu}_{0},- {\\mu}_{1},- {\\mu}_{2},- {\\mu}_{3},- {\\mu}_{4} \\right)} \\operatorname{pw}{\\left({\\mu}_{0},g_{2},g_{3} \\right)} \\rho{\\left(z,- {\\mu}_{0} \\right)} \\sigma^{6}{\\left(z,g_{2},g_{3} \\right)} \\sigma{\\left({\\mu}_{0} + {\\mu}_{1} + {\\mu}_{2} + {\\mu}_{3} + {\\mu}_{4},g_{2},g_{3} \\right)} \\sigma{\\left(- {\\mu}_{0},g_{2},g_{3} \\right)} \\sigma{\\left(- {\\mu}_{1},g_{2},g_{3} \\right)} \\sigma{\\left(- {\\mu}_{2},g_{2},g_{3} \\right)} \\sigma{\\left(- {\\mu}_{3},g_{2},g_{3} \\right)} \\sigma{\\left(- {\\mu}_{4},g_{2},g_{3} \\right)} + 24 f{\\left(4,- {\\mu}_{0},- {\\mu}_{1},- {\\mu}_{2},- {\\mu}_{3},- {\\mu}_{4} \\right)} \\rho^{2}{\\left(z,- {\\mu}_{0} \\right)} \\rho{\\left(z,{\\mu}_{0} \\right)} \\sigma^{6}{\\left(z,g_{2},g_{3} \\right)} \\sigma{\\left({\\mu}_{0} + {\\mu}_{1} + {\\mu}_{2} + {\\mu}_{3} + {\\mu}_{4},g_{2},g_{3} \\right)} \\sigma{\\left(- {\\mu}_{0},g_{2},g_{3} \\right)} \\sigma{\\left(- {\\mu}_{1},g_{2},g_{3} \\right)} \\sigma{\\left(- {\\mu}_{2},g_{2},g_{3} \\right)} \\sigma{\\left(- {\\mu}_{3},g_{2},g_{3} \\right)} \\sigma{\\left(- {\\mu}_{4},g_{2},g_{3} \\right)}} - \\frac{360 f{\\left(5,- {\\mu}_{0},- {\\mu}_{1},- {\\mu}_{2},- {\\mu}_{3},- {\\mu}_{4} \\right)} \\operatorname{pw}{\\left({\\mu}_{0},g_{2},g_{3} \\right)} \\rho^{2}{\\left(z,- {\\mu}_{0} \\right)} \\rho^{2}{\\left(z,{\\mu}_{0} \\right)} \\sigma^{6}{\\left(z,g_{2},g_{3} \\right)} \\sigma{\\left({\\mu}_{0} + {\\mu}_{1} + {\\mu}_{2} + {\\mu}_{3} + {\\mu}_{4},g_{2},g_{3} \\right)} \\sigma{\\left(- {\\mu}_{0},g_{2},g_{3} \\right)} \\sigma{\\left(- {\\mu}_{1},g_{2},g_{3} \\right)} \\sigma{\\left(- {\\mu}_{2},g_{2},g_{3} \\right)} \\sigma{\\left(- {\\mu}_{3},g_{2},g_{3} \\right)} \\sigma{\\left(- {\\mu}_{4},g_{2},g_{3} \\right)}}{2 f{\\left(2,- {\\mu}_{0},- {\\mu}_{1},- {\\mu}_{2},- {\\mu}_{3},- {\\mu}_{4} \\right)} \\rho{\\left(z,- {\\mu}_{0} \\right)} \\sigma^{6}{\\left(z,g_{2},g_{3} \\right)} \\sigma{\\left({\\mu}_{0} + {\\mu}_{1} + {\\mu}_{2} + {\\mu}_{3} + {\\mu}_{4},g_{2},g_{3} \\right)} \\sigma{\\left(- {\\mu}_{0},g_{2},g_{3} \\right)} \\sigma{\\left(- {\\mu}_{1},g_{2},g_{3} \\right)} \\sigma{\\left(- {\\mu}_{2},g_{2},g_{3} \\right)} \\sigma{\\left(- {\\mu}_{3},g_{2},g_{3} \\right)} \\sigma{\\left(- {\\mu}_{4},g_{2},g_{3} \\right)} + 24 f{\\left(4,- {\\mu}_{0},- {\\mu}_{1},- {\\mu}_{2},- {\\mu}_{3},- {\\mu}_{4} \\right)} \\operatorname{pw}{\\left({\\mu}_{0},g_{2},g_{3} \\right)} \\rho{\\left(z,- {\\mu}_{0} \\right)} \\sigma^{6}{\\left(z,g_{2},g_{3} \\right)} \\sigma{\\left({\\mu}_{0} + {\\mu}_{1} + {\\mu}_{2} + {\\mu}_{3} + {\\mu}_{4},g_{2},g_{3} \\right)} \\sigma{\\left(- {\\mu}_{0},g_{2},g_{3} \\right)} \\sigma{\\left(- {\\mu}_{1},g_{2},g_{3} \\right)} \\sigma{\\left(- {\\mu}_{2},g_{2},g_{3} \\right)} \\sigma{\\left(- {\\mu}_{3},g_{2},g_{3} \\right)} \\sigma{\\left(- {\\mu}_{4},g_{2},g_{3} \\right)} + 24 f{\\left(4,- {\\mu}_{0},- {\\mu}_{1},- {\\mu}_{2},- {\\mu}_{3},- {\\mu}_{4} \\right)} \\rho^{2}{\\left(z,- {\\mu}_{0} \\right)} \\rho{\\left(z,{\\mu}_{0} \\right)} \\sigma^{6}{\\left(z,g_{2},g_{3} \\right)} \\sigma{\\left({\\mu}_{0} + {\\mu}_{1} + {\\mu}_{2} + {\\mu}_{3} + {\\mu}_{4},g_{2},g_{3} \\right)} \\sigma{\\left(- {\\mu}_{0},g_{2},g_{3} \\right)} \\sigma{\\left(- {\\mu}_{1},g_{2},g_{3} \\right)} \\sigma{\\left(- {\\mu}_{2},g_{2},g_{3} \\right)} \\sigma{\\left(- {\\mu}_{3},g_{2},g_{3} \\right)} \\sigma{\\left(- {\\mu}_{4},g_{2},g_{3} \\right)}} - \\frac{120 f{\\left(5,- {\\mu}_{0},- {\\mu}_{1},- {\\mu}_{2},- {\\mu}_{3},- {\\mu}_{4} \\right)} \\rho^{3}{\\left(z,- {\\mu}_{0} \\right)} \\rho^{3}{\\left(z,{\\mu}_{0} \\right)} \\sigma^{6}{\\left(z,g_{2},g_{3} \\right)} \\sigma{\\left({\\mu}_{0} + {\\mu}_{1} + {\\mu}_{2} + {\\mu}_{3} + {\\mu}_{4},g_{2},g_{3} \\right)} \\sigma{\\left(- {\\mu}_{0},g_{2},g_{3} \\right)} \\sigma{\\left(- {\\mu}_{1},g_{2},g_{3} \\right)} \\sigma{\\left(- {\\mu}_{2},g_{2},g_{3} \\right)} \\sigma{\\left(- {\\mu}_{3},g_{2},g_{3} \\right)} \\sigma{\\left(- {\\mu}_{4},g_{2},g_{3} \\right)}}{2 f{\\left(2,- {\\mu}_{0},- {\\mu}_{1},- {\\mu}_{2},- {\\mu}_{3},- {\\mu}_{4} \\right)} \\rho{\\left(z,- {\\mu}_{0} \\right)} \\sigma^{6}{\\left(z,g_{2},g_{3} \\right)} \\sigma{\\left({\\mu}_{0} + {\\mu}_{1} + {\\mu}_{2} + {\\mu}_{3} + {\\mu}_{4},g_{2},g_{3} \\right)} \\sigma{\\left(- {\\mu}_{0},g_{2},g_{3} \\right)} \\sigma{\\left(- {\\mu}_{1},g_{2},g_{3} \\right)} \\sigma{\\left(- {\\mu}_{2},g_{2},g_{3} \\right)} \\sigma{\\left(- {\\mu}_{3},g_{2},g_{3} \\right)} \\sigma{\\left(- {\\mu}_{4},g_{2},g_{3} \\right)} + 24 f{\\left(4,- {\\mu}_{0},- {\\mu}_{1},- {\\mu}_{2},- {\\mu}_{3},- {\\mu}_{4} \\right)} \\operatorname{pw}{\\left({\\mu}_{0},g_{2},g_{3} \\right)} \\rho{\\left(z,- {\\mu}_{0} \\right)} \\sigma^{6}{\\left(z,g_{2},g_{3} \\right)} \\sigma{\\left({\\mu}_{0} + {\\mu}_{1} + {\\mu}_{2} + {\\mu}_{3} + {\\mu}_{4},g_{2},g_{3} \\right)} \\sigma{\\left(- {\\mu}_{0},g_{2},g_{3} \\right)} \\sigma{\\left(- {\\mu}_{1},g_{2},g_{3} \\right)} \\sigma{\\left(- {\\mu}_{2},g_{2},g_{3} \\right)} \\sigma{\\left(- {\\mu}_{3},g_{2},g_{3} \\right)} \\sigma{\\left(- {\\mu}_{4},g_{2},g_{3} \\right)} + 24 f{\\left(4,- {\\mu}_{0},- {\\mu}_{1},- {\\mu}_{2},- {\\mu}_{3},- {\\mu}_{4} \\right)} \\rho^{2}{\\left(z,- {\\mu}_{0} \\right)} \\rho{\\left(z,{\\mu}_{0} \\right)} \\sigma^{6}{\\left(z,g_{2},g_{3} \\right)} \\sigma{\\left({\\mu}_{0} + {\\mu}_{1} + {\\mu}_{2} + {\\mu}_{3} + {\\mu}_{4},g_{2},g_{3} \\right)} \\sigma{\\left(- {\\mu}_{0},g_{2},g_{3} \\right)} \\sigma{\\left(- {\\mu}_{1},g_{2},g_{3} \\right)} \\sigma{\\left(- {\\mu}_{2},g_{2},g_{3} \\right)} \\sigma{\\left(- {\\mu}_{3},g_{2},g_{3} \\right)} \\sigma{\\left(- {\\mu}_{4},g_{2},g_{3} \\right)}} + \\frac{\\sigma{\\left(z + {\\mu}_{0},g_{2},g_{3} \\right)} \\sigma{\\left(z + {\\mu}_{1},g_{2},g_{3} \\right)} \\sigma{\\left(z + {\\mu}_{2},g_{2},g_{3} \\right)} \\sigma{\\left(z + {\\mu}_{3},g_{2},g_{3} \\right)} \\sigma{\\left(z + {\\mu}_{4},g_{2},g_{3} \\right)} \\sigma{\\left(z - {\\mu}_{0} - {\\mu}_{1} - {\\mu}_{2} - {\\mu}_{3} - {\\mu}_{4},g_{2},g_{3} \\right)}}{2 f{\\left(2,- {\\mu}_{0},- {\\mu}_{1},- {\\mu}_{2},- {\\mu}_{3},- {\\mu}_{4} \\right)} \\rho{\\left(z,- {\\mu}_{0} \\right)} \\sigma^{6}{\\left(z,g_{2},g_{3} \\right)} \\sigma{\\left({\\mu}_{0} + {\\mu}_{1} + {\\mu}_{2} + {\\mu}_{3} + {\\mu}_{4},g_{2},g_{3} \\right)} \\sigma{\\left(- {\\mu}_{0},g_{2},g_{3} \\right)} \\sigma{\\left(- {\\mu}_{1},g_{2},g_{3} \\right)} \\sigma{\\left(- {\\mu}_{2},g_{2},g_{3} \\right)} \\sigma{\\left(- {\\mu}_{3},g_{2},g_{3} \\right)} \\sigma{\\left(- {\\mu}_{4},g_{2},g_{3} \\right)} + 24 f{\\left(4,- {\\mu}_{0},- {\\mu}_{1},- {\\mu}_{2},- {\\mu}_{3},- {\\mu}_{4} \\right)} \\operatorname{pw}{\\left({\\mu}_{0},g_{2},g_{3} \\right)} \\rho{\\left(z,- {\\mu}_{0} \\right)} \\sigma^{6}{\\left(z,g_{2},g_{3} \\right)} \\sigma{\\left({\\mu}_{0} + {\\mu}_{1} + {\\mu}_{2} + {\\mu}_{3} + {\\mu}_{4},g_{2},g_{3} \\right)} \\sigma{\\left(- {\\mu}_{0},g_{2},g_{3} \\right)} \\sigma{\\left(- {\\mu}_{1},g_{2},g_{3} \\right)} \\sigma{\\left(- {\\mu}_{2},g_{2},g_{3} \\right)} \\sigma{\\left(- {\\mu}_{3},g_{2},g_{3} \\right)} \\sigma{\\left(- {\\mu}_{4},g_{2},g_{3} \\right)} + 24 f{\\left(4,- {\\mu}_{0},- {\\mu}_{1},- {\\mu}_{2},- {\\mu}_{3},- {\\mu}_{4} \\right)} \\rho^{2}{\\left(z,- {\\mu}_{0} \\right)} \\rho{\\left(z,{\\mu}_{0} \\right)} \\sigma^{6}{\\left(z,g_{2},g_{3} \\right)} \\sigma{\\left({\\mu}_{0} + {\\mu}_{1} + {\\mu}_{2} + {\\mu}_{3} + {\\mu}_{4},g_{2},g_{3} \\right)} \\sigma{\\left(- {\\mu}_{0},g_{2},g_{3} \\right)} \\sigma{\\left(- {\\mu}_{1},g_{2},g_{3} \\right)} \\sigma{\\left(- {\\mu}_{2},g_{2},g_{3} \\right)} \\sigma{\\left(- {\\mu}_{3},g_{2},g_{3} \\right)} \\sigma{\\left(- {\\mu}_{4},g_{2},g_{3} \\right)}}$"
      ],
      "text/plain": [
       "Eq(Derivative(rho(z, mu[0]), z), 18*g2*f(5, -mu[0], -mu[1], -mu[2], -mu[3], -mu[4])*rho(z, -mu[0])*rho(z, mu[0])*sigma(z, g2, g3)**6*sigma(mu[0] + mu[1] + mu[2] + mu[3] + mu[4], g2, g3)*sigma(-mu[0], g2, g3)*sigma(-mu[1], g2, g3)*sigma(-mu[2], g2, g3)*sigma(-mu[3], g2, g3)*sigma(-mu[4], g2, g3)/(2*f(2, -mu[0], -mu[1], -mu[2], -mu[3], -mu[4])*rho(z, -mu[0])*sigma(z, g2, g3)**6*sigma(mu[0] + mu[1] + mu[2] + mu[3] + mu[4], g2, g3)*sigma(-mu[0], g2, g3)*sigma(-mu[1], g2, g3)*sigma(-mu[2], g2, g3)*sigma(-mu[3], g2, g3)*sigma(-mu[4], g2, g3) + 24*f(4, -mu[0], -mu[1], -mu[2], -mu[3], -mu[4])*pw(mu[0], g2, g3)*rho(z, -mu[0])*sigma(z, g2, g3)**6*sigma(mu[0] + mu[1] + mu[2] + mu[3] + mu[4], g2, g3)*sigma(-mu[0], g2, g3)*sigma(-mu[1], g2, g3)*sigma(-mu[2], g2, g3)*sigma(-mu[3], g2, g3)*sigma(-mu[4], g2, g3) + 24*f(4, -mu[0], -mu[1], -mu[2], -mu[3], -mu[4])*rho(z, -mu[0])**2*rho(z, mu[0])*sigma(z, g2, g3)**6*sigma(mu[0] + mu[1] + mu[2] + mu[3] + mu[4], g2, g3)*sigma(-mu[0], g2, g3)*sigma(-mu[1], g2, g3)*sigma(-mu[2], g2, g3)*sigma(-mu[3], g2, g3)*sigma(-mu[4], g2, g3)) - f(1, -mu[0], -mu[1], -mu[2], -mu[3], -mu[4])*rho(z, -mu[0])*rho(z, mu[0])*sigma(z, g2, g3)**6*sigma(mu[0] + mu[1] + mu[2] + mu[3] + mu[4], g2, g3)*sigma(-mu[0], g2, g3)*sigma(-mu[1], g2, g3)*sigma(-mu[2], g2, g3)*sigma(-mu[3], g2, g3)*sigma(-mu[4], g2, g3)/(2*f(2, -mu[0], -mu[1], -mu[2], -mu[3], -mu[4])*rho(z, -mu[0])*sigma(z, g2, g3)**6*sigma(mu[0] + mu[1] + mu[2] + mu[3] + mu[4], g2, g3)*sigma(-mu[0], g2, g3)*sigma(-mu[1], g2, g3)*sigma(-mu[2], g2, g3)*sigma(-mu[3], g2, g3)*sigma(-mu[4], g2, g3) + 24*f(4, -mu[0], -mu[1], -mu[2], -mu[3], -mu[4])*pw(mu[0], g2, g3)*rho(z, -mu[0])*sigma(z, g2, g3)**6*sigma(mu[0] + mu[1] + mu[2] + mu[3] + mu[4], g2, g3)*sigma(-mu[0], g2, g3)*sigma(-mu[1], g2, g3)*sigma(-mu[2], g2, g3)*sigma(-mu[3], g2, g3)*sigma(-mu[4], g2, g3) + 24*f(4, -mu[0], -mu[1], -mu[2], -mu[3], -mu[4])*rho(z, -mu[0])**2*rho(z, mu[0])*sigma(z, g2, g3)**6*sigma(mu[0] + mu[1] + mu[2] + mu[3] + mu[4], g2, g3)*sigma(-mu[0], g2, g3)*sigma(-mu[1], g2, g3)*sigma(-mu[2], g2, g3)*sigma(-mu[3], g2, g3)*sigma(-mu[4], g2, g3)) - 2*f(2, -mu[0], -mu[1], -mu[2], -mu[3], -mu[4])*rho(z, -mu[0])*rho(z, mu[0])*sigma(z, g2, g3)**6*sigma(mu[0] + mu[1] + mu[2] + mu[3] + mu[4], g2, g3)*sigma(-mu[0], g2, g3)*sigma(-mu[1], g2, g3)*sigma(-mu[2], g2, g3)*sigma(-mu[3], g2, g3)*sigma(-mu[4], g2, g3)*zw(mu[0], g2, g3)/(2*f(2, -mu[0], -mu[1], -mu[2], -mu[3], -mu[4])*rho(z, -mu[0])*sigma(z, g2, g3)**6*sigma(mu[0] + mu[1] + mu[2] + mu[3] + mu[4], g2, g3)*sigma(-mu[0], g2, g3)*sigma(-mu[1], g2, g3)*sigma(-mu[2], g2, g3)*sigma(-mu[3], g2, g3)*sigma(-mu[4], g2, g3) + 24*f(4, -mu[0], -mu[1], -mu[2], -mu[3], -mu[4])*pw(mu[0], g2, g3)*rho(z, -mu[0])*sigma(z, g2, g3)**6*sigma(mu[0] + mu[1] + mu[2] + mu[3] + mu[4], g2, g3)*sigma(-mu[0], g2, g3)*sigma(-mu[1], g2, g3)*sigma(-mu[2], g2, g3)*sigma(-mu[3], g2, g3)*sigma(-mu[4], g2, g3) + 24*f(4, -mu[0], -mu[1], -mu[2], -mu[3], -mu[4])*rho(z, -mu[0])**2*rho(z, mu[0])*sigma(z, g2, g3)**6*sigma(mu[0] + mu[1] + mu[2] + mu[3] + mu[4], g2, g3)*sigma(-mu[0], g2, g3)*sigma(-mu[1], g2, g3)*sigma(-mu[2], g2, g3)*sigma(-mu[3], g2, g3)*sigma(-mu[4], g2, g3)) - 12*f(3, -mu[0], -mu[1], -mu[2], -mu[3], -mu[4])*pw(mu[0], g2, g3)*rho(z, -mu[0])*rho(z, mu[0])*sigma(z, g2, g3)**6*sigma(mu[0] + mu[1] + mu[2] + mu[3] + mu[4], g2, g3)*sigma(-mu[0], g2, g3)*sigma(-mu[1], g2, g3)*sigma(-mu[2], g2, g3)*sigma(-mu[3], g2, g3)*sigma(-mu[4], g2, g3)/(2*f(2, -mu[0], -mu[1], -mu[2], -mu[3], -mu[4])*rho(z, -mu[0])*sigma(z, g2, g3)**6*sigma(mu[0] + mu[1] + mu[2] + mu[3] + mu[4], g2, g3)*sigma(-mu[0], g2, g3)*sigma(-mu[1], g2, g3)*sigma(-mu[2], g2, g3)*sigma(-mu[3], g2, g3)*sigma(-mu[4], g2, g3) + 24*f(4, -mu[0], -mu[1], -mu[2], -mu[3], -mu[4])*pw(mu[0], g2, g3)*rho(z, -mu[0])*sigma(z, g2, g3)**6*sigma(mu[0] + mu[1] + mu[2] + mu[3] + mu[4], g2, g3)*sigma(-mu[0], g2, g3)*sigma(-mu[1], g2, g3)*sigma(-mu[2], g2, g3)*sigma(-mu[3], g2, g3)*sigma(-mu[4], g2, g3) + 24*f(4, -mu[0], -mu[1], -mu[2], -mu[3], -mu[4])*rho(z, -mu[0])**2*rho(z, mu[0])*sigma(z, g2, g3)**6*sigma(mu[0] + mu[1] + mu[2] + mu[3] + mu[4], g2, g3)*sigma(-mu[0], g2, g3)*sigma(-mu[1], g2, g3)*sigma(-mu[2], g2, g3)*sigma(-mu[3], g2, g3)*sigma(-mu[4], g2, g3)) - 6*f(3, -mu[0], -mu[1], -mu[2], -mu[3], -mu[4])*rho(z, -mu[0])**2*rho(z, mu[0])**2*sigma(z, g2, g3)**6*sigma(mu[0] + mu[1] + mu[2] + mu[3] + mu[4], g2, g3)*sigma(-mu[0], g2, g3)*sigma(-mu[1], g2, g3)*sigma(-mu[2], g2, g3)*sigma(-mu[3], g2, g3)*sigma(-mu[4], g2, g3)/(2*f(2, -mu[0], -mu[1], -mu[2], -mu[3], -mu[4])*rho(z, -mu[0])*sigma(z, g2, g3)**6*sigma(mu[0] + mu[1] + mu[2] + mu[3] + mu[4], g2, g3)*sigma(-mu[0], g2, g3)*sigma(-mu[1], g2, g3)*sigma(-mu[2], g2, g3)*sigma(-mu[3], g2, g3)*sigma(-mu[4], g2, g3) + 24*f(4, -mu[0], -mu[1], -mu[2], -mu[3], -mu[4])*pw(mu[0], g2, g3)*rho(z, -mu[0])*sigma(z, g2, g3)**6*sigma(mu[0] + mu[1] + mu[2] + mu[3] + mu[4], g2, g3)*sigma(-mu[0], g2, g3)*sigma(-mu[1], g2, g3)*sigma(-mu[2], g2, g3)*sigma(-mu[3], g2, g3)*sigma(-mu[4], g2, g3) + 24*f(4, -mu[0], -mu[1], -mu[2], -mu[3], -mu[4])*rho(z, -mu[0])**2*rho(z, mu[0])*sigma(z, g2, g3)**6*sigma(mu[0] + mu[1] + mu[2] + mu[3] + mu[4], g2, g3)*sigma(-mu[0], g2, g3)*sigma(-mu[1], g2, g3)*sigma(-mu[2], g2, g3)*sigma(-mu[3], g2, g3)*sigma(-mu[4], g2, g3)) - 24*f(4, -mu[0], -mu[1], -mu[2], -mu[3], -mu[4])*pw(mu[0], g2, g3)*rho(z, -mu[0])*rho(z, mu[0])*sigma(z, g2, g3)**6*sigma(mu[0] + mu[1] + mu[2] + mu[3] + mu[4], g2, g3)*sigma(-mu[0], g2, g3)*sigma(-mu[1], g2, g3)*sigma(-mu[2], g2, g3)*sigma(-mu[3], g2, g3)*sigma(-mu[4], g2, g3)*zw(mu[0], g2, g3)/(2*f(2, -mu[0], -mu[1], -mu[2], -mu[3], -mu[4])*rho(z, -mu[0])*sigma(z, g2, g3)**6*sigma(mu[0] + mu[1] + mu[2] + mu[3] + mu[4], g2, g3)*sigma(-mu[0], g2, g3)*sigma(-mu[1], g2, g3)*sigma(-mu[2], g2, g3)*sigma(-mu[3], g2, g3)*sigma(-mu[4], g2, g3) + 24*f(4, -mu[0], -mu[1], -mu[2], -mu[3], -mu[4])*pw(mu[0], g2, g3)*rho(z, -mu[0])*sigma(z, g2, g3)**6*sigma(mu[0] + mu[1] + mu[2] + mu[3] + mu[4], g2, g3)*sigma(-mu[0], g2, g3)*sigma(-mu[1], g2, g3)*sigma(-mu[2], g2, g3)*sigma(-mu[3], g2, g3)*sigma(-mu[4], g2, g3) + 24*f(4, -mu[0], -mu[1], -mu[2], -mu[3], -mu[4])*rho(z, -mu[0])**2*rho(z, mu[0])*sigma(z, g2, g3)**6*sigma(mu[0] + mu[1] + mu[2] + mu[3] + mu[4], g2, g3)*sigma(-mu[0], g2, g3)*sigma(-mu[1], g2, g3)*sigma(-mu[2], g2, g3)*sigma(-mu[3], g2, g3)*sigma(-mu[4], g2, g3)) + 12*f(4, -mu[0], -mu[1], -mu[2], -mu[3], -mu[4])*pwp(mu[0], g2, g3)*rho(z, -mu[0])*rho(z, mu[0])*sigma(z, g2, g3)**6*sigma(mu[0] + mu[1] + mu[2] + mu[3] + mu[4], g2, g3)*sigma(-mu[0], g2, g3)*sigma(-mu[1], g2, g3)*sigma(-mu[2], g2, g3)*sigma(-mu[3], g2, g3)*sigma(-mu[4], g2, g3)/(2*f(2, -mu[0], -mu[1], -mu[2], -mu[3], -mu[4])*rho(z, -mu[0])*sigma(z, g2, g3)**6*sigma(mu[0] + mu[1] + mu[2] + mu[3] + mu[4], g2, g3)*sigma(-mu[0], g2, g3)*sigma(-mu[1], g2, g3)*sigma(-mu[2], g2, g3)*sigma(-mu[3], g2, g3)*sigma(-mu[4], g2, g3) + 24*f(4, -mu[0], -mu[1], -mu[2], -mu[3], -mu[4])*pw(mu[0], g2, g3)*rho(z, -mu[0])*sigma(z, g2, g3)**6*sigma(mu[0] + mu[1] + mu[2] + mu[3] + mu[4], g2, g3)*sigma(-mu[0], g2, g3)*sigma(-mu[1], g2, g3)*sigma(-mu[2], g2, g3)*sigma(-mu[3], g2, g3)*sigma(-mu[4], g2, g3) + 24*f(4, -mu[0], -mu[1], -mu[2], -mu[3], -mu[4])*rho(z, -mu[0])**2*rho(z, mu[0])*sigma(z, g2, g3)**6*sigma(mu[0] + mu[1] + mu[2] + mu[3] + mu[4], g2, g3)*sigma(-mu[0], g2, g3)*sigma(-mu[1], g2, g3)*sigma(-mu[2], g2, g3)*sigma(-mu[3], g2, g3)*sigma(-mu[4], g2, g3)) - 24*f(4, -mu[0], -mu[1], -mu[2], -mu[3], -mu[4])*rho(z, -mu[0])**2*rho(z, mu[0])**2*sigma(z, g2, g3)**6*sigma(mu[0] + mu[1] + mu[2] + mu[3] + mu[4], g2, g3)*sigma(-mu[0], g2, g3)*sigma(-mu[1], g2, g3)*sigma(-mu[2], g2, g3)*sigma(-mu[3], g2, g3)*sigma(-mu[4], g2, g3)*zw(mu[0], g2, g3)/(2*f(2, -mu[0], -mu[1], -mu[2], -mu[3], -mu[4])*rho(z, -mu[0])*sigma(z, g2, g3)**6*sigma(mu[0] + mu[1] + mu[2] + mu[3] + mu[4], g2, g3)*sigma(-mu[0], g2, g3)*sigma(-mu[1], g2, g3)*sigma(-mu[2], g2, g3)*sigma(-mu[3], g2, g3)*sigma(-mu[4], g2, g3) + 24*f(4, -mu[0], -mu[1], -mu[2], -mu[3], -mu[4])*pw(mu[0], g2, g3)*rho(z, -mu[0])*sigma(z, g2, g3)**6*sigma(mu[0] + mu[1] + mu[2] + mu[3] + mu[4], g2, g3)*sigma(-mu[0], g2, g3)*sigma(-mu[1], g2, g3)*sigma(-mu[2], g2, g3)*sigma(-mu[3], g2, g3)*sigma(-mu[4], g2, g3) + 24*f(4, -mu[0], -mu[1], -mu[2], -mu[3], -mu[4])*rho(z, -mu[0])**2*rho(z, mu[0])*sigma(z, g2, g3)**6*sigma(mu[0] + mu[1] + mu[2] + mu[3] + mu[4], g2, g3)*sigma(-mu[0], g2, g3)*sigma(-mu[1], g2, g3)*sigma(-mu[2], g2, g3)*sigma(-mu[3], g2, g3)*sigma(-mu[4], g2, g3)) - 360*f(5, -mu[0], -mu[1], -mu[2], -mu[3], -mu[4])*pw(mu[0], g2, g3)**2*rho(z, -mu[0])*rho(z, mu[0])*sigma(z, g2, g3)**6*sigma(mu[0] + mu[1] + mu[2] + mu[3] + mu[4], g2, g3)*sigma(-mu[0], g2, g3)*sigma(-mu[1], g2, g3)*sigma(-mu[2], g2, g3)*sigma(-mu[3], g2, g3)*sigma(-mu[4], g2, g3)/(2*f(2, -mu[0], -mu[1], -mu[2], -mu[3], -mu[4])*rho(z, -mu[0])*sigma(z, g2, g3)**6*sigma(mu[0] + mu[1] + mu[2] + mu[3] + mu[4], g2, g3)*sigma(-mu[0], g2, g3)*sigma(-mu[1], g2, g3)*sigma(-mu[2], g2, g3)*sigma(-mu[3], g2, g3)*sigma(-mu[4], g2, g3) + 24*f(4, -mu[0], -mu[1], -mu[2], -mu[3], -mu[4])*pw(mu[0], g2, g3)*rho(z, -mu[0])*sigma(z, g2, g3)**6*sigma(mu[0] + mu[1] + mu[2] + mu[3] + mu[4], g2, g3)*sigma(-mu[0], g2, g3)*sigma(-mu[1], g2, g3)*sigma(-mu[2], g2, g3)*sigma(-mu[3], g2, g3)*sigma(-mu[4], g2, g3) + 24*f(4, -mu[0], -mu[1], -mu[2], -mu[3], -mu[4])*rho(z, -mu[0])**2*rho(z, mu[0])*sigma(z, g2, g3)**6*sigma(mu[0] + mu[1] + mu[2] + mu[3] + mu[4], g2, g3)*sigma(-mu[0], g2, g3)*sigma(-mu[1], g2, g3)*sigma(-mu[2], g2, g3)*sigma(-mu[3], g2, g3)*sigma(-mu[4], g2, g3)) - 360*f(5, -mu[0], -mu[1], -mu[2], -mu[3], -mu[4])*pw(mu[0], g2, g3)*rho(z, -mu[0])**2*rho(z, mu[0])**2*sigma(z, g2, g3)**6*sigma(mu[0] + mu[1] + mu[2] + mu[3] + mu[4], g2, g3)*sigma(-mu[0], g2, g3)*sigma(-mu[1], g2, g3)*sigma(-mu[2], g2, g3)*sigma(-mu[3], g2, g3)*sigma(-mu[4], g2, g3)/(2*f(2, -mu[0], -mu[1], -mu[2], -mu[3], -mu[4])*rho(z, -mu[0])*sigma(z, g2, g3)**6*sigma(mu[0] + mu[1] + mu[2] + mu[3] + mu[4], g2, g3)*sigma(-mu[0], g2, g3)*sigma(-mu[1], g2, g3)*sigma(-mu[2], g2, g3)*sigma(-mu[3], g2, g3)*sigma(-mu[4], g2, g3) + 24*f(4, -mu[0], -mu[1], -mu[2], -mu[3], -mu[4])*pw(mu[0], g2, g3)*rho(z, -mu[0])*sigma(z, g2, g3)**6*sigma(mu[0] + mu[1] + mu[2] + mu[3] + mu[4], g2, g3)*sigma(-mu[0], g2, g3)*sigma(-mu[1], g2, g3)*sigma(-mu[2], g2, g3)*sigma(-mu[3], g2, g3)*sigma(-mu[4], g2, g3) + 24*f(4, -mu[0], -mu[1], -mu[2], -mu[3], -mu[4])*rho(z, -mu[0])**2*rho(z, mu[0])*sigma(z, g2, g3)**6*sigma(mu[0] + mu[1] + mu[2] + mu[3] + mu[4], g2, g3)*sigma(-mu[0], g2, g3)*sigma(-mu[1], g2, g3)*sigma(-mu[2], g2, g3)*sigma(-mu[3], g2, g3)*sigma(-mu[4], g2, g3)) - 120*f(5, -mu[0], -mu[1], -mu[2], -mu[3], -mu[4])*rho(z, -mu[0])**3*rho(z, mu[0])**3*sigma(z, g2, g3)**6*sigma(mu[0] + mu[1] + mu[2] + mu[3] + mu[4], g2, g3)*sigma(-mu[0], g2, g3)*sigma(-mu[1], g2, g3)*sigma(-mu[2], g2, g3)*sigma(-mu[3], g2, g3)*sigma(-mu[4], g2, g3)/(2*f(2, -mu[0], -mu[1], -mu[2], -mu[3], -mu[4])*rho(z, -mu[0])*sigma(z, g2, g3)**6*sigma(mu[0] + mu[1] + mu[2] + mu[3] + mu[4], g2, g3)*sigma(-mu[0], g2, g3)*sigma(-mu[1], g2, g3)*sigma(-mu[2], g2, g3)*sigma(-mu[3], g2, g3)*sigma(-mu[4], g2, g3) + 24*f(4, -mu[0], -mu[1], -mu[2], -mu[3], -mu[4])*pw(mu[0], g2, g3)*rho(z, -mu[0])*sigma(z, g2, g3)**6*sigma(mu[0] + mu[1] + mu[2] + mu[3] + mu[4], g2, g3)*sigma(-mu[0], g2, g3)*sigma(-mu[1], g2, g3)*sigma(-mu[2], g2, g3)*sigma(-mu[3], g2, g3)*sigma(-mu[4], g2, g3) + 24*f(4, -mu[0], -mu[1], -mu[2], -mu[3], -mu[4])*rho(z, -mu[0])**2*rho(z, mu[0])*sigma(z, g2, g3)**6*sigma(mu[0] + mu[1] + mu[2] + mu[3] + mu[4], g2, g3)*sigma(-mu[0], g2, g3)*sigma(-mu[1], g2, g3)*sigma(-mu[2], g2, g3)*sigma(-mu[3], g2, g3)*sigma(-mu[4], g2, g3)) + sigma(z + mu[0], g2, g3)*sigma(z + mu[1], g2, g3)*sigma(z + mu[2], g2, g3)*sigma(z + mu[3], g2, g3)*sigma(z + mu[4], g2, g3)*sigma(z - mu[0] - mu[1] - mu[2] - mu[3] - mu[4], g2, g3)/(2*f(2, -mu[0], -mu[1], -mu[2], -mu[3], -mu[4])*rho(z, -mu[0])*sigma(z, g2, g3)**6*sigma(mu[0] + mu[1] + mu[2] + mu[3] + mu[4], g2, g3)*sigma(-mu[0], g2, g3)*sigma(-mu[1], g2, g3)*sigma(-mu[2], g2, g3)*sigma(-mu[3], g2, g3)*sigma(-mu[4], g2, g3) + 24*f(4, -mu[0], -mu[1], -mu[2], -mu[3], -mu[4])*pw(mu[0], g2, g3)*rho(z, -mu[0])*sigma(z, g2, g3)**6*sigma(mu[0] + mu[1] + mu[2] + mu[3] + mu[4], g2, g3)*sigma(-mu[0], g2, g3)*sigma(-mu[1], g2, g3)*sigma(-mu[2], g2, g3)*sigma(-mu[3], g2, g3)*sigma(-mu[4], g2, g3) + 24*f(4, -mu[0], -mu[1], -mu[2], -mu[3], -mu[4])*rho(z, -mu[0])**2*rho(z, mu[0])*sigma(z, g2, g3)**6*sigma(mu[0] + mu[1] + mu[2] + mu[3] + mu[4], g2, g3)*sigma(-mu[0], g2, g3)*sigma(-mu[1], g2, g3)*sigma(-mu[2], g2, g3)*sigma(-mu[3], g2, g3)*sigma(-mu[4], g2, g3)))"
      ]
     },
     "execution_count": 330,
     "metadata": {},
     "output_type": "execute_result"
    }
   ],
   "source": [
    "rho_system(6)[0].simplify().expand()"
   ]
  },
  {
   "cell_type": "code",
   "execution_count": 331,
   "metadata": {},
   "outputs": [
    {
     "data": {
      "text/latex": [
       "$\\displaystyle - \\frac{g_{2} f{\\left(3,- {\\mu}_{0},- {\\mu}_{1},- {\\mu}_{2},- {\\mu}_{3} \\right)}}{2} + \\left(f{\\left(2,- {\\mu}_{0},- {\\mu}_{1},- {\\mu}_{2},- {\\mu}_{3} \\right)} + 12 f{\\left(4,- {\\mu}_{0},- {\\mu}_{1},- {\\mu}_{2},- {\\mu}_{3} \\right)} \\operatorname{pw}{\\left(z,g_{2},g_{3} \\right)}\\right) \\operatorname{pwp}{\\left(z,g_{2},g_{3} \\right)} + f{\\left(0,- {\\mu}_{0},- {\\mu}_{1},- {\\mu}_{2},- {\\mu}_{3} \\right)} + f{\\left(1,- {\\mu}_{0},- {\\mu}_{1},- {\\mu}_{2},- {\\mu}_{3} \\right)} \\operatorname{pw}{\\left(z,g_{2},g_{3} \\right)} + 6 f{\\left(3,- {\\mu}_{0},- {\\mu}_{1},- {\\mu}_{2},- {\\mu}_{3} \\right)} \\operatorname{pw}^{2}{\\left(z,g_{2},g_{3} \\right)}$"
      ],
      "text/plain": [
       "-g2*f(3, -mu[0], -mu[1], -mu[2], -mu[3])/2 + (f(2, -mu[0], -mu[1], -mu[2], -mu[3]) + 12*f(4, -mu[0], -mu[1], -mu[2], -mu[3])*pw(z, g2, g3))*pwp(z, g2, g3) + f(0, -mu[0], -mu[1], -mu[2], -mu[3]) + f(1, -mu[0], -mu[1], -mu[2], -mu[3])*pw(z, g2, g3) + 6*f(3, -mu[0], -mu[1], -mu[2], -mu[3])*pw(z, g2, g3)**2"
      ]
     },
     "execution_count": 331,
     "metadata": {},
     "output_type": "execute_result"
    }
   ],
   "source": [
    "rho_product_p_prime(5, conjugate=True).rhs.collect(pwp(z,g2,g3))"
   ]
  },
  {
   "cell_type": "code",
   "execution_count": 332,
   "metadata": {},
   "outputs": [
    {
     "data": {
      "text/latex": [
       "$\\displaystyle - \\frac{g_{2} f{\\left(3,- {\\mu}_{0},- {\\mu}_{1},- {\\mu}_{2},- {\\mu}_{3},- {\\mu}_{4} \\right)}}{2} - 18 g_{2} f{\\left(5,- {\\mu}_{0},- {\\mu}_{1},- {\\mu}_{2},- {\\mu}_{3},- {\\mu}_{4} \\right)} \\operatorname{pw}{\\left(z,g_{2},g_{3} \\right)} - 12 g_{3} f{\\left(5,- {\\mu}_{0},- {\\mu}_{1},- {\\mu}_{2},- {\\mu}_{3},- {\\mu}_{4} \\right)} + \\left(f{\\left(2,- {\\mu}_{0},- {\\mu}_{1},- {\\mu}_{2},- {\\mu}_{3},- {\\mu}_{4} \\right)} + 12 f{\\left(4,- {\\mu}_{0},- {\\mu}_{1},- {\\mu}_{2},- {\\mu}_{3},- {\\mu}_{4} \\right)} \\operatorname{pw}{\\left(z,g_{2},g_{3} \\right)}\\right) \\operatorname{pwp}{\\left(z,g_{2},g_{3} \\right)} + f{\\left(0,- {\\mu}_{0},- {\\mu}_{1},- {\\mu}_{2},- {\\mu}_{3},- {\\mu}_{4} \\right)} + f{\\left(1,- {\\mu}_{0},- {\\mu}_{1},- {\\mu}_{2},- {\\mu}_{3},- {\\mu}_{4} \\right)} \\operatorname{pw}{\\left(z,g_{2},g_{3} \\right)} + 6 f{\\left(3,- {\\mu}_{0},- {\\mu}_{1},- {\\mu}_{2},- {\\mu}_{3},- {\\mu}_{4} \\right)} \\operatorname{pw}^{2}{\\left(z,g_{2},g_{3} \\right)} + 120 f{\\left(5,- {\\mu}_{0},- {\\mu}_{1},- {\\mu}_{2},- {\\mu}_{3},- {\\mu}_{4} \\right)} \\operatorname{pw}^{3}{\\left(z,g_{2},g_{3} \\right)}$"
      ],
      "text/plain": [
       "-g2*f(3, -mu[0], -mu[1], -mu[2], -mu[3], -mu[4])/2 - 18*g2*f(5, -mu[0], -mu[1], -mu[2], -mu[3], -mu[4])*pw(z, g2, g3) - 12*g3*f(5, -mu[0], -mu[1], -mu[2], -mu[3], -mu[4]) + (f(2, -mu[0], -mu[1], -mu[2], -mu[3], -mu[4]) + 12*f(4, -mu[0], -mu[1], -mu[2], -mu[3], -mu[4])*pw(z, g2, g3))*pwp(z, g2, g3) + f(0, -mu[0], -mu[1], -mu[2], -mu[3], -mu[4]) + f(1, -mu[0], -mu[1], -mu[2], -mu[3], -mu[4])*pw(z, g2, g3) + 6*f(3, -mu[0], -mu[1], -mu[2], -mu[3], -mu[4])*pw(z, g2, g3)**2 + 120*f(5, -mu[0], -mu[1], -mu[2], -mu[3], -mu[4])*pw(z, g2, g3)**3"
      ]
     },
     "execution_count": 332,
     "metadata": {},
     "output_type": "execute_result"
    }
   ],
   "source": [
    "rho_product_p_prime(6, conjugate=True).rhs.collect(pwp(z,g2,g3))"
   ]
  },
  {
   "cell_type": "code",
   "execution_count": 333,
   "metadata": {},
   "outputs": [
    {
     "data": {
      "text/plain": [
       "[-(x + 1)*a/(x - 1)]"
      ]
     },
     "execution_count": 333,
     "metadata": {},
     "output_type": "execute_result"
    }
   ],
   "source": [
    "solve((t-a)/(t+a) - x,t)"
   ]
  },
  {
   "cell_type": "code",
   "execution_count": 334,
   "metadata": {},
   "outputs": [],
   "source": [
    "rho_3_system = rho_system(3)"
   ]
  },
  {
   "cell_type": "code",
   "execution_count": 335,
   "metadata": {},
   "outputs": [],
   "source": [
    "# mu1_sub = (mu[1],-mu[0]/2)\n",
    "mu1_sub = (mu[0],-mu[1]/2)"
   ]
  },
  {
   "cell_type": "code",
   "execution_count": 336,
   "metadata": {},
   "outputs": [
    {
     "data": {
      "text/latex": [
       "$\\displaystyle \\frac{\\partial}{\\partial z} \\rho{\\left(z,- \\frac{{\\mu}_{1}}{2} \\right)} = - \\frac{f{\\left(1,\\frac{{\\mu}_{1}}{2},- {\\mu}_{1} \\right)} \\rho{\\left(z,- \\frac{{\\mu}_{1}}{2} \\right)}}{2 f{\\left(2,\\frac{{\\mu}_{1}}{2},- {\\mu}_{1} \\right)}} - \\rho{\\left(z,- \\frac{{\\mu}_{1}}{2} \\right)} \\operatorname{zw}{\\left(- \\frac{{\\mu}_{1}}{2},g_{2},g_{3} \\right)} - \\frac{\\sigma^{2}{\\left(z - \\frac{{\\mu}_{1}}{2},g_{2},g_{3} \\right)} \\sigma{\\left(z + {\\mu}_{1},g_{2},g_{3} \\right)}}{2 f{\\left(2,\\frac{{\\mu}_{1}}{2},- {\\mu}_{1} \\right)} \\rho{\\left(z,\\frac{{\\mu}_{1}}{2} \\right)} \\sigma^{3}{\\left(z,g_{2},g_{3} \\right)} \\sigma{\\left(- {\\mu}_{1},g_{2},g_{3} \\right)} \\sigma^{2}{\\left(\\frac{{\\mu}_{1}}{2},g_{2},g_{3} \\right)}}$"
      ],
      "text/plain": [
       "Eq(Derivative(rho(z, -mu[1]/2), z), -f(1, mu[1]/2, -mu[1])*rho(z, -mu[1]/2)/(2*f(2, mu[1]/2, -mu[1])) - rho(z, -mu[1]/2)*zw(-mu[1]/2, g2, g3) - sigma(z - mu[1]/2, g2, g3)**2*sigma(z + mu[1], g2, g3)/(2*f(2, mu[1]/2, -mu[1])*rho(z, mu[1]/2)*sigma(z, g2, g3)**3*sigma(-mu[1], g2, g3)*sigma(mu[1]/2, g2, g3)**2))"
      ]
     },
     "execution_count": 336,
     "metadata": {},
     "output_type": "execute_result"
    },
    {
     "data": {
      "text/latex": [
       "$\\displaystyle \\frac{\\partial}{\\partial z} \\rho{\\left(z,{\\mu}_{1} \\right)} = - \\frac{f{\\left(1,\\frac{{\\mu}_{1}}{2},- {\\mu}_{1} \\right)} \\rho{\\left(z,{\\mu}_{1} \\right)}}{2 f{\\left(2,\\frac{{\\mu}_{1}}{2},- {\\mu}_{1} \\right)}} - \\rho{\\left(z,{\\mu}_{1} \\right)} \\operatorname{zw}{\\left({\\mu}_{1},g_{2},g_{3} \\right)} - \\frac{\\sigma^{2}{\\left(z - \\frac{{\\mu}_{1}}{2},g_{2},g_{3} \\right)} \\sigma{\\left(z + {\\mu}_{1},g_{2},g_{3} \\right)}}{2 f{\\left(2,\\frac{{\\mu}_{1}}{2},- {\\mu}_{1} \\right)} \\rho{\\left(z,- {\\mu}_{1} \\right)} \\sigma^{3}{\\left(z,g_{2},g_{3} \\right)} \\sigma{\\left(- {\\mu}_{1},g_{2},g_{3} \\right)} \\sigma^{2}{\\left(\\frac{{\\mu}_{1}}{2},g_{2},g_{3} \\right)}}$"
      ],
      "text/plain": [
       "Eq(Derivative(rho(z, mu[1]), z), -f(1, mu[1]/2, -mu[1])*rho(z, mu[1])/(2*f(2, mu[1]/2, -mu[1])) - rho(z, mu[1])*zw(mu[1], g2, g3) - sigma(z - mu[1]/2, g2, g3)**2*sigma(z + mu[1], g2, g3)/(2*f(2, mu[1]/2, -mu[1])*rho(z, -mu[1])*sigma(z, g2, g3)**3*sigma(-mu[1], g2, g3)*sigma(mu[1]/2, g2, g3)**2))"
      ]
     },
     "execution_count": 336,
     "metadata": {},
     "output_type": "execute_result"
    },
    {
     "data": {
      "text/latex": [
       "$\\displaystyle \\frac{\\partial}{\\partial z} \\rho{\\left(z,- \\frac{{\\mu}_{1}}{2} \\right)} = - \\frac{f{\\left(1,\\frac{{\\mu}_{1}}{2},- {\\mu}_{1} \\right)} \\rho{\\left(z,- \\frac{{\\mu}_{1}}{2} \\right)}}{2 f{\\left(2,\\frac{{\\mu}_{1}}{2},- {\\mu}_{1} \\right)}} - \\rho{\\left(z,- \\frac{{\\mu}_{1}}{2} \\right)} \\operatorname{zw}{\\left(- \\frac{{\\mu}_{1}}{2},g_{2},g_{3} \\right)} - \\frac{\\sigma^{2}{\\left(z - \\frac{{\\mu}_{1}}{2},g_{2},g_{3} \\right)} \\sigma{\\left(z + {\\mu}_{1},g_{2},g_{3} \\right)}}{2 f{\\left(2,\\frac{{\\mu}_{1}}{2},- {\\mu}_{1} \\right)} \\rho{\\left(z,\\frac{{\\mu}_{1}}{2} \\right)} \\sigma^{3}{\\left(z,g_{2},g_{3} \\right)} \\sigma{\\left(- {\\mu}_{1},g_{2},g_{3} \\right)} \\sigma^{2}{\\left(\\frac{{\\mu}_{1}}{2},g_{2},g_{3} \\right)}}$"
      ],
      "text/plain": [
       "Eq(Derivative(rho(z, -mu[1]/2), z), -f(1, mu[1]/2, -mu[1])*rho(z, -mu[1]/2)/(2*f(2, mu[1]/2, -mu[1])) - rho(z, -mu[1]/2)*zw(-mu[1]/2, g2, g3) - sigma(z - mu[1]/2, g2, g3)**2*sigma(z + mu[1], g2, g3)/(2*f(2, mu[1]/2, -mu[1])*rho(z, mu[1]/2)*sigma(z, g2, g3)**3*sigma(-mu[1], g2, g3)*sigma(mu[1]/2, g2, g3)**2))"
      ]
     },
     "execution_count": 336,
     "metadata": {},
     "output_type": "execute_result"
    }
   ],
   "source": [
    "for eq in rho_3_system:\n",
    "    eq.subs(*mu1_sub)"
   ]
  },
  {
   "cell_type": "code",
   "execution_count": 337,
   "metadata": {},
   "outputs": [
    {
     "data": {
      "text/latex": [
       "$\\displaystyle \\frac{\\partial}{\\partial z} \\rho{\\left(z,{\\mu}_{0} \\right)} = - \\frac{f{\\left(1,- {\\mu}_{0},- {\\mu}_{1} \\right)} \\rho{\\left(z,{\\mu}_{0} \\right)}}{2 f{\\left(2,- {\\mu}_{0},- {\\mu}_{1} \\right)}} - \\rho{\\left(z,{\\mu}_{0} \\right)} \\operatorname{zw}{\\left({\\mu}_{0},g_{2},g_{3} \\right)} - \\frac{\\sigma{\\left(z + {\\mu}_{0},g_{2},g_{3} \\right)} \\sigma{\\left(z + {\\mu}_{1},g_{2},g_{3} \\right)} \\sigma{\\left(z - {\\mu}_{0} - {\\mu}_{1},g_{2},g_{3} \\right)}}{2 f{\\left(2,- {\\mu}_{0},- {\\mu}_{1} \\right)} \\rho{\\left(z,- {\\mu}_{0} \\right)} \\sigma^{3}{\\left(z,g_{2},g_{3} \\right)} \\sigma{\\left({\\mu}_{0} + {\\mu}_{1},g_{2},g_{3} \\right)} \\sigma{\\left(- {\\mu}_{0},g_{2},g_{3} \\right)} \\sigma{\\left(- {\\mu}_{1},g_{2},g_{3} \\right)}}$"
      ],
      "text/plain": [
       "Eq(Derivative(rho(z, mu[0]), z), -f(1, -mu[0], -mu[1])*rho(z, mu[0])/(2*f(2, -mu[0], -mu[1])) - rho(z, mu[0])*zw(mu[0], g2, g3) - sigma(z + mu[0], g2, g3)*sigma(z + mu[1], g2, g3)*sigma(z - mu[0] - mu[1], g2, g3)/(2*f(2, -mu[0], -mu[1])*rho(z, -mu[0])*sigma(z, g2, g3)**3*sigma(mu[0] + mu[1], g2, g3)*sigma(-mu[0], g2, g3)*sigma(-mu[1], g2, g3)))"
      ]
     },
     "execution_count": 337,
     "metadata": {},
     "output_type": "execute_result"
    }
   ],
   "source": [
    "rho_3_system[0]"
   ]
  },
  {
   "cell_type": "code",
   "execution_count": 338,
   "metadata": {},
   "outputs": [
    {
     "data": {
      "text/latex": [
       "$\\displaystyle \\frac{\\partial}{\\partial z} \\rho{\\left(z,{\\mu}_{1} \\right)} = - \\frac{f{\\left(1,- {\\mu}_{0},- {\\mu}_{1} \\right)} \\rho{\\left(z,{\\mu}_{1} \\right)}}{2 f{\\left(2,- {\\mu}_{0},- {\\mu}_{1} \\right)}} - \\rho{\\left(z,{\\mu}_{1} \\right)} \\operatorname{zw}{\\left({\\mu}_{1},g_{2},g_{3} \\right)} - \\frac{\\sigma{\\left(z + {\\mu}_{0},g_{2},g_{3} \\right)} \\sigma{\\left(z + {\\mu}_{1},g_{2},g_{3} \\right)} \\sigma{\\left(z - {\\mu}_{0} - {\\mu}_{1},g_{2},g_{3} \\right)}}{2 f{\\left(2,- {\\mu}_{0},- {\\mu}_{1} \\right)} \\rho{\\left(z,- {\\mu}_{1} \\right)} \\sigma^{3}{\\left(z,g_{2},g_{3} \\right)} \\sigma{\\left({\\mu}_{0} + {\\mu}_{1},g_{2},g_{3} \\right)} \\sigma{\\left(- {\\mu}_{0},g_{2},g_{3} \\right)} \\sigma{\\left(- {\\mu}_{1},g_{2},g_{3} \\right)}}$"
      ],
      "text/plain": [
       "Eq(Derivative(rho(z, mu[1]), z), -f(1, -mu[0], -mu[1])*rho(z, mu[1])/(2*f(2, -mu[0], -mu[1])) - rho(z, mu[1])*zw(mu[1], g2, g3) - sigma(z + mu[0], g2, g3)*sigma(z + mu[1], g2, g3)*sigma(z - mu[0] - mu[1], g2, g3)/(2*f(2, -mu[0], -mu[1])*rho(z, -mu[1])*sigma(z, g2, g3)**3*sigma(mu[0] + mu[1], g2, g3)*sigma(-mu[0], g2, g3)*sigma(-mu[1], g2, g3)))"
      ]
     },
     "execution_count": 338,
     "metadata": {},
     "output_type": "execute_result"
    }
   ],
   "source": [
    "rho_3_system[1]"
   ]
  },
  {
   "cell_type": "code",
   "execution_count": 339,
   "metadata": {},
   "outputs": [
    {
     "data": {
      "text/latex": [
       "$\\displaystyle \\frac{\\partial}{\\partial z} \\rho{\\left(z,- {\\mu}_{0} - {\\mu}_{1} \\right)} = - \\frac{f{\\left(1,- {\\mu}_{0},- {\\mu}_{1} \\right)} \\rho{\\left(z,- {\\mu}_{0} - {\\mu}_{1} \\right)}}{2 f{\\left(2,- {\\mu}_{0},- {\\mu}_{1} \\right)}} - \\rho{\\left(z,- {\\mu}_{0} - {\\mu}_{1} \\right)} \\operatorname{zw}{\\left(- {\\mu}_{0} - {\\mu}_{1},g_{2},g_{3} \\right)} - \\frac{\\sigma{\\left(z + {\\mu}_{0},g_{2},g_{3} \\right)} \\sigma{\\left(z + {\\mu}_{1},g_{2},g_{3} \\right)} \\sigma{\\left(z - {\\mu}_{0} - {\\mu}_{1},g_{2},g_{3} \\right)}}{2 f{\\left(2,- {\\mu}_{0},- {\\mu}_{1} \\right)} \\rho{\\left(z,{\\mu}_{0} + {\\mu}_{1} \\right)} \\sigma^{3}{\\left(z,g_{2},g_{3} \\right)} \\sigma{\\left({\\mu}_{0} + {\\mu}_{1},g_{2},g_{3} \\right)} \\sigma{\\left(- {\\mu}_{0},g_{2},g_{3} \\right)} \\sigma{\\left(- {\\mu}_{1},g_{2},g_{3} \\right)}}$"
      ],
      "text/plain": [
       "Eq(Derivative(rho(z, -mu[0] - mu[1]), z), -f(1, -mu[0], -mu[1])*rho(z, -mu[0] - mu[1])/(2*f(2, -mu[0], -mu[1])) - rho(z, -mu[0] - mu[1])*zw(-mu[0] - mu[1], g2, g3) - sigma(z + mu[0], g2, g3)*sigma(z + mu[1], g2, g3)*sigma(z - mu[0] - mu[1], g2, g3)/(2*f(2, -mu[0], -mu[1])*rho(z, mu[0] + mu[1])*sigma(z, g2, g3)**3*sigma(mu[0] + mu[1], g2, g3)*sigma(-mu[0], g2, g3)*sigma(-mu[1], g2, g3)))"
      ]
     },
     "execution_count": 339,
     "metadata": {},
     "output_type": "execute_result"
    }
   ],
   "source": [
    "rho_3_system[2]"
   ]
  },
  {
   "cell_type": "code",
   "execution_count": null,
   "metadata": {},
   "outputs": [],
   "source": []
  },
  {
   "cell_type": "code",
   "execution_count": null,
   "metadata": {},
   "outputs": [],
   "source": []
  },
  {
   "cell_type": "code",
   "execution_count": null,
   "metadata": {},
   "outputs": [],
   "source": []
  },
  {
   "cell_type": "markdown",
   "metadata": {},
   "source": [
    "## Coeffs for N = 4"
   ]
  },
  {
   "cell_type": "code",
   "execution_count": 340,
   "metadata": {},
   "outputs": [
    {
     "data": {
      "text/latex": [
       "$\\displaystyle 24 \\operatorname{pw}{\\left(z,g_{2},g_{3} \\right)} \\operatorname{pwp}{\\left(z,g_{2},g_{3} \\right)} {c}_{4} + 2 \\operatorname{pwp}{\\left(z,g_{2},g_{3} \\right)} {c}_{2} = - \\frac{\\sigma{\\left(z - {\\xi}_{0},g_{2},g_{3} \\right)} \\sigma{\\left(z - {\\xi}_{1},g_{2},g_{3} \\right)} \\sigma{\\left(z - {\\xi}_{2},g_{2},g_{3} \\right)} \\sigma{\\left(z - {\\xi}_{3},g_{2},g_{3} \\right)} \\sigma{\\left(z - {\\xi}_{4},g_{2},g_{3} \\right)}}{\\sigma^{5}{\\left(z,g_{2},g_{3} \\right)} \\sigma{\\left({\\xi}_{0},g_{2},g_{3} \\right)} \\sigma{\\left({\\xi}_{1},g_{2},g_{3} \\right)} \\sigma{\\left({\\xi}_{2},g_{2},g_{3} \\right)} \\sigma{\\left({\\xi}_{3},g_{2},g_{3} \\right)} \\sigma{\\left({\\xi}_{4},g_{2},g_{3} \\right)}} + \\frac{\\sigma{\\left(z + {\\xi}_{0},g_{2},g_{3} \\right)} \\sigma{\\left(z + {\\xi}_{1},g_{2},g_{3} \\right)} \\sigma{\\left(z + {\\xi}_{2},g_{2},g_{3} \\right)} \\sigma{\\left(z + {\\xi}_{3},g_{2},g_{3} \\right)} \\sigma{\\left(z + {\\xi}_{4},g_{2},g_{3} \\right)}}{\\sigma^{5}{\\left(z,g_{2},g_{3} \\right)} \\sigma{\\left({\\xi}_{0},g_{2},g_{3} \\right)} \\sigma{\\left({\\xi}_{1},g_{2},g_{3} \\right)} \\sigma{\\left({\\xi}_{2},g_{2},g_{3} \\right)} \\sigma{\\left({\\xi}_{3},g_{2},g_{3} \\right)} \\sigma{\\left({\\xi}_{4},g_{2},g_{3} \\right)}}$"
      ],
      "text/plain": [
       "Eq(24*pw(z, g2, g3)*pwp(z, g2, g3)*c[4] + 2*pwp(z, g2, g3)*c[2], -sigma(z - xi[0], g2, g3)*sigma(z - xi[1], g2, g3)*sigma(z - xi[2], g2, g3)*sigma(z - xi[3], g2, g3)*sigma(z - xi[4], g2, g3)/(sigma(z, g2, g3)**5*sigma(xi[0], g2, g3)*sigma(xi[1], g2, g3)*sigma(xi[2], g2, g3)*sigma(xi[3], g2, g3)*sigma(xi[4], g2, g3)) + sigma(z + xi[0], g2, g3)*sigma(z + xi[1], g2, g3)*sigma(z + xi[2], g2, g3)*sigma(z + xi[3], g2, g3)*sigma(z + xi[4], g2, g3)/(sigma(z, g2, g3)**5*sigma(xi[0], g2, g3)*sigma(xi[1], g2, g3)*sigma(xi[2], g2, g3)*sigma(xi[3], g2, g3)*sigma(xi[4], g2, g3)))"
      ]
     },
     "execution_count": 340,
     "metadata": {},
     "output_type": "execute_result"
    }
   ],
   "source": [
    "(Q_sigma_product_pwp.subs(*QN_eq.args).subs(N,4).doit().expand().subs(higher_order_diffs)\n",
    "     .subs(diff(pw(z,g2,g3),z), pwp(z,g2,g3)).simplify().expand()\n",
    "     .subs(diff(pw(z,g2,g3),z), pwp(z,g2,g3)).simplify().expand())"
   ]
  },
  {
   "cell_type": "markdown",
   "metadata": {},
   "source": [
    "## Second order diffs"
   ]
  },
  {
   "cell_type": "code",
   "execution_count": 341,
   "metadata": {},
   "outputs": [
    {
     "data": {
      "text/latex": [
       "$\\displaystyle \\frac{\\partial^{2}}{\\partial z^{2}} \\rho{\\left(z,- {\\mu}_{0} \\right)} \\rho{\\left(z,{\\mu}_{0} \\right)} = \\frac{f^{2}{\\left(1,- {\\mu}_{0},- {\\mu}_{1} \\right)} \\rho{\\left(z,- {\\mu}_{0} \\right)} \\rho{\\left(z,{\\mu}_{0} \\right)}}{4 f^{2}{\\left(2,- {\\mu}_{0},- {\\mu}_{1} \\right)}} + \\frac{f{\\left(1,- {\\mu}_{0},- {\\mu}_{1} \\right)} f{\\left(1,{\\mu}_{0},{\\mu}_{1} \\right)} \\rho{\\left(z,- {\\mu}_{0} \\right)} \\rho{\\left(z,{\\mu}_{0} \\right)}}{2 f{\\left(2,- {\\mu}_{0},- {\\mu}_{1} \\right)} f{\\left(2,{\\mu}_{0},{\\mu}_{1} \\right)}} + \\frac{f{\\left(1,- {\\mu}_{0},- {\\mu}_{1} \\right)} \\sigma{\\left(z - {\\mu}_{0},g_{2},g_{3} \\right)} \\sigma{\\left(z - {\\mu}_{1},g_{2},g_{3} \\right)} \\sigma{\\left(z + {\\mu}_{0} + {\\mu}_{1},g_{2},g_{3} \\right)}}{4 f{\\left(2,- {\\mu}_{0},- {\\mu}_{1} \\right)} f{\\left(2,{\\mu}_{0},{\\mu}_{1} \\right)} \\sigma^{3}{\\left(z,g_{2},g_{3} \\right)} \\sigma{\\left(- {\\mu}_{0} - {\\mu}_{1},g_{2},g_{3} \\right)} \\sigma{\\left({\\mu}_{0},g_{2},g_{3} \\right)} \\sigma{\\left({\\mu}_{1},g_{2},g_{3} \\right)}} + \\frac{f{\\left(1,- {\\mu}_{0},- {\\mu}_{1} \\right)} \\sigma{\\left(z + {\\mu}_{0},g_{2},g_{3} \\right)} \\sigma{\\left(z + {\\mu}_{1},g_{2},g_{3} \\right)} \\sigma{\\left(z - {\\mu}_{0} - {\\mu}_{1},g_{2},g_{3} \\right)}}{4 f^{2}{\\left(2,- {\\mu}_{0},- {\\mu}_{1} \\right)} \\sigma^{3}{\\left(z,g_{2},g_{3} \\right)} \\sigma{\\left({\\mu}_{0} + {\\mu}_{1},g_{2},g_{3} \\right)} \\sigma{\\left(- {\\mu}_{0},g_{2},g_{3} \\right)} \\sigma{\\left(- {\\mu}_{1},g_{2},g_{3} \\right)}} + \\frac{f^{2}{\\left(1,{\\mu}_{0},{\\mu}_{1} \\right)} \\rho{\\left(z,- {\\mu}_{0} \\right)} \\rho{\\left(z,{\\mu}_{0} \\right)}}{4 f^{2}{\\left(2,{\\mu}_{0},{\\mu}_{1} \\right)}} + \\frac{f{\\left(1,{\\mu}_{0},{\\mu}_{1} \\right)} \\sigma{\\left(z - {\\mu}_{0},g_{2},g_{3} \\right)} \\sigma{\\left(z - {\\mu}_{1},g_{2},g_{3} \\right)} \\sigma{\\left(z + {\\mu}_{0} + {\\mu}_{1},g_{2},g_{3} \\right)}}{4 f^{2}{\\left(2,{\\mu}_{0},{\\mu}_{1} \\right)} \\sigma^{3}{\\left(z,g_{2},g_{3} \\right)} \\sigma{\\left(- {\\mu}_{0} - {\\mu}_{1},g_{2},g_{3} \\right)} \\sigma{\\left({\\mu}_{0},g_{2},g_{3} \\right)} \\sigma{\\left({\\mu}_{1},g_{2},g_{3} \\right)}} + \\frac{f{\\left(1,{\\mu}_{0},{\\mu}_{1} \\right)} \\sigma{\\left(z + {\\mu}_{0},g_{2},g_{3} \\right)} \\sigma{\\left(z + {\\mu}_{1},g_{2},g_{3} \\right)} \\sigma{\\left(z - {\\mu}_{0} - {\\mu}_{1},g_{2},g_{3} \\right)}}{4 f{\\left(2,- {\\mu}_{0},- {\\mu}_{1} \\right)} f{\\left(2,{\\mu}_{0},{\\mu}_{1} \\right)} \\sigma^{3}{\\left(z,g_{2},g_{3} \\right)} \\sigma{\\left({\\mu}_{0} + {\\mu}_{1},g_{2},g_{3} \\right)} \\sigma{\\left(- {\\mu}_{0},g_{2},g_{3} \\right)} \\sigma{\\left(- {\\mu}_{1},g_{2},g_{3} \\right)}} - \\frac{\\sigma{\\left(z - {\\mu}_{0},g_{2},g_{3} \\right)} \\sigma{\\left(z - {\\mu}_{1},g_{2},g_{3} \\right)} \\left. \\frac{\\partial}{\\partial \\xi_{1}} \\sigma{\\left(\\xi_{1},g_{2},g_{3} \\right)} \\right|_{\\substack{ \\xi_{1}=z + {\\mu}_{0} + {\\mu}_{1} }}}{2 f{\\left(2,{\\mu}_{0},{\\mu}_{1} \\right)} \\sigma^{3}{\\left(z,g_{2},g_{3} \\right)} \\sigma{\\left(- {\\mu}_{0} - {\\mu}_{1},g_{2},g_{3} \\right)} \\sigma{\\left({\\mu}_{0},g_{2},g_{3} \\right)} \\sigma{\\left({\\mu}_{1},g_{2},g_{3} \\right)}} - \\frac{\\sigma{\\left(z - {\\mu}_{0},g_{2},g_{3} \\right)} \\sigma{\\left(z + {\\mu}_{0} + {\\mu}_{1},g_{2},g_{3} \\right)} \\left. \\frac{\\partial}{\\partial \\xi_{1}} \\sigma{\\left(\\xi_{1},g_{2},g_{3} \\right)} \\right|_{\\substack{ \\xi_{1}=z - {\\mu}_{1} }}}{2 f{\\left(2,{\\mu}_{0},{\\mu}_{1} \\right)} \\sigma^{3}{\\left(z,g_{2},g_{3} \\right)} \\sigma{\\left(- {\\mu}_{0} - {\\mu}_{1},g_{2},g_{3} \\right)} \\sigma{\\left({\\mu}_{0},g_{2},g_{3} \\right)} \\sigma{\\left({\\mu}_{1},g_{2},g_{3} \\right)}} - \\frac{\\sigma{\\left(z - {\\mu}_{1},g_{2},g_{3} \\right)} \\sigma{\\left(z + {\\mu}_{0} + {\\mu}_{1},g_{2},g_{3} \\right)} \\left. \\frac{\\partial}{\\partial \\xi_{1}} \\sigma{\\left(\\xi_{1},g_{2},g_{3} \\right)} \\right|_{\\substack{ \\xi_{1}=z - {\\mu}_{0} }}}{2 f{\\left(2,{\\mu}_{0},{\\mu}_{1} \\right)} \\sigma^{3}{\\left(z,g_{2},g_{3} \\right)} \\sigma{\\left(- {\\mu}_{0} - {\\mu}_{1},g_{2},g_{3} \\right)} \\sigma{\\left({\\mu}_{0},g_{2},g_{3} \\right)} \\sigma{\\left({\\mu}_{1},g_{2},g_{3} \\right)}} + \\frac{3 \\sigma{\\left(z - {\\mu}_{0},g_{2},g_{3} \\right)} \\sigma{\\left(z - {\\mu}_{1},g_{2},g_{3} \\right)} \\sigma{\\left(z + {\\mu}_{0} + {\\mu}_{1},g_{2},g_{3} \\right)} \\frac{\\partial}{\\partial z} \\sigma{\\left(z,g_{2},g_{3} \\right)}}{2 f{\\left(2,{\\mu}_{0},{\\mu}_{1} \\right)} \\sigma^{4}{\\left(z,g_{2},g_{3} \\right)} \\sigma{\\left(- {\\mu}_{0} - {\\mu}_{1},g_{2},g_{3} \\right)} \\sigma{\\left({\\mu}_{0},g_{2},g_{3} \\right)} \\sigma{\\left({\\mu}_{1},g_{2},g_{3} \\right)}} - \\frac{\\sigma{\\left(z + {\\mu}_{0},g_{2},g_{3} \\right)} \\sigma{\\left(z + {\\mu}_{1},g_{2},g_{3} \\right)} \\left. \\frac{\\partial}{\\partial \\xi_{1}} \\sigma{\\left(\\xi_{1},g_{2},g_{3} \\right)} \\right|_{\\substack{ \\xi_{1}=z - {\\mu}_{0} - {\\mu}_{1} }}}{2 f{\\left(2,- {\\mu}_{0},- {\\mu}_{1} \\right)} \\sigma^{3}{\\left(z,g_{2},g_{3} \\right)} \\sigma{\\left({\\mu}_{0} + {\\mu}_{1},g_{2},g_{3} \\right)} \\sigma{\\left(- {\\mu}_{0},g_{2},g_{3} \\right)} \\sigma{\\left(- {\\mu}_{1},g_{2},g_{3} \\right)}} - \\frac{\\sigma{\\left(z + {\\mu}_{0},g_{2},g_{3} \\right)} \\sigma{\\left(z - {\\mu}_{0} - {\\mu}_{1},g_{2},g_{3} \\right)} \\left. \\frac{\\partial}{\\partial \\xi_{1}} \\sigma{\\left(\\xi_{1},g_{2},g_{3} \\right)} \\right|_{\\substack{ \\xi_{1}=z + {\\mu}_{1} }}}{2 f{\\left(2,- {\\mu}_{0},- {\\mu}_{1} \\right)} \\sigma^{3}{\\left(z,g_{2},g_{3} \\right)} \\sigma{\\left({\\mu}_{0} + {\\mu}_{1},g_{2},g_{3} \\right)} \\sigma{\\left(- {\\mu}_{0},g_{2},g_{3} \\right)} \\sigma{\\left(- {\\mu}_{1},g_{2},g_{3} \\right)}} - \\frac{\\sigma{\\left(z + {\\mu}_{1},g_{2},g_{3} \\right)} \\sigma{\\left(z - {\\mu}_{0} - {\\mu}_{1},g_{2},g_{3} \\right)} \\left. \\frac{\\partial}{\\partial \\xi_{1}} \\sigma{\\left(\\xi_{1},g_{2},g_{3} \\right)} \\right|_{\\substack{ \\xi_{1}=z + {\\mu}_{0} }}}{2 f{\\left(2,- {\\mu}_{0},- {\\mu}_{1} \\right)} \\sigma^{3}{\\left(z,g_{2},g_{3} \\right)} \\sigma{\\left({\\mu}_{0} + {\\mu}_{1},g_{2},g_{3} \\right)} \\sigma{\\left(- {\\mu}_{0},g_{2},g_{3} \\right)} \\sigma{\\left(- {\\mu}_{1},g_{2},g_{3} \\right)}} + \\frac{3 \\sigma{\\left(z + {\\mu}_{0},g_{2},g_{3} \\right)} \\sigma{\\left(z + {\\mu}_{1},g_{2},g_{3} \\right)} \\sigma{\\left(z - {\\mu}_{0} - {\\mu}_{1},g_{2},g_{3} \\right)} \\frac{\\partial}{\\partial z} \\sigma{\\left(z,g_{2},g_{3} \\right)}}{2 f{\\left(2,- {\\mu}_{0},- {\\mu}_{1} \\right)} \\sigma^{4}{\\left(z,g_{2},g_{3} \\right)} \\sigma{\\left({\\mu}_{0} + {\\mu}_{1},g_{2},g_{3} \\right)} \\sigma{\\left(- {\\mu}_{0},g_{2},g_{3} \\right)} \\sigma{\\left(- {\\mu}_{1},g_{2},g_{3} \\right)}}$"
      ],
      "text/plain": [
       "Eq(Derivative(rho(z, -mu[0])*rho(z, mu[0]), (z, 2)), f(1, -mu[0], -mu[1])**2*rho(z, -mu[0])*rho(z, mu[0])/(4*f(2, -mu[0], -mu[1])**2) + f(1, -mu[0], -mu[1])*f(1, mu[0], mu[1])*rho(z, -mu[0])*rho(z, mu[0])/(2*f(2, -mu[0], -mu[1])*f(2, mu[0], mu[1])) + f(1, -mu[0], -mu[1])*sigma(z - mu[0], g2, g3)*sigma(z - mu[1], g2, g3)*sigma(z + mu[0] + mu[1], g2, g3)/(4*f(2, -mu[0], -mu[1])*f(2, mu[0], mu[1])*sigma(z, g2, g3)**3*sigma(-mu[0] - mu[1], g2, g3)*sigma(mu[0], g2, g3)*sigma(mu[1], g2, g3)) + f(1, -mu[0], -mu[1])*sigma(z + mu[0], g2, g3)*sigma(z + mu[1], g2, g3)*sigma(z - mu[0] - mu[1], g2, g3)/(4*f(2, -mu[0], -mu[1])**2*sigma(z, g2, g3)**3*sigma(mu[0] + mu[1], g2, g3)*sigma(-mu[0], g2, g3)*sigma(-mu[1], g2, g3)) + f(1, mu[0], mu[1])**2*rho(z, -mu[0])*rho(z, mu[0])/(4*f(2, mu[0], mu[1])**2) + f(1, mu[0], mu[1])*sigma(z - mu[0], g2, g3)*sigma(z - mu[1], g2, g3)*sigma(z + mu[0] + mu[1], g2, g3)/(4*f(2, mu[0], mu[1])**2*sigma(z, g2, g3)**3*sigma(-mu[0] - mu[1], g2, g3)*sigma(mu[0], g2, g3)*sigma(mu[1], g2, g3)) + f(1, mu[0], mu[1])*sigma(z + mu[0], g2, g3)*sigma(z + mu[1], g2, g3)*sigma(z - mu[0] - mu[1], g2, g3)/(4*f(2, -mu[0], -mu[1])*f(2, mu[0], mu[1])*sigma(z, g2, g3)**3*sigma(mu[0] + mu[1], g2, g3)*sigma(-mu[0], g2, g3)*sigma(-mu[1], g2, g3)) - sigma(z - mu[0], g2, g3)*sigma(z - mu[1], g2, g3)*Subs(Derivative(sigma(_xi_1, g2, g3), _xi_1), _xi_1, z + mu[0] + mu[1])/(2*f(2, mu[0], mu[1])*sigma(z, g2, g3)**3*sigma(-mu[0] - mu[1], g2, g3)*sigma(mu[0], g2, g3)*sigma(mu[1], g2, g3)) - sigma(z - mu[0], g2, g3)*sigma(z + mu[0] + mu[1], g2, g3)*Subs(Derivative(sigma(_xi_1, g2, g3), _xi_1), _xi_1, z - mu[1])/(2*f(2, mu[0], mu[1])*sigma(z, g2, g3)**3*sigma(-mu[0] - mu[1], g2, g3)*sigma(mu[0], g2, g3)*sigma(mu[1], g2, g3)) - sigma(z - mu[1], g2, g3)*sigma(z + mu[0] + mu[1], g2, g3)*Subs(Derivative(sigma(_xi_1, g2, g3), _xi_1), _xi_1, z - mu[0])/(2*f(2, mu[0], mu[1])*sigma(z, g2, g3)**3*sigma(-mu[0] - mu[1], g2, g3)*sigma(mu[0], g2, g3)*sigma(mu[1], g2, g3)) + 3*sigma(z - mu[0], g2, g3)*sigma(z - mu[1], g2, g3)*sigma(z + mu[0] + mu[1], g2, g3)*Derivative(sigma(z, g2, g3), z)/(2*f(2, mu[0], mu[1])*sigma(z, g2, g3)**4*sigma(-mu[0] - mu[1], g2, g3)*sigma(mu[0], g2, g3)*sigma(mu[1], g2, g3)) - sigma(z + mu[0], g2, g3)*sigma(z + mu[1], g2, g3)*Subs(Derivative(sigma(_xi_1, g2, g3), _xi_1), _xi_1, z - mu[0] - mu[1])/(2*f(2, -mu[0], -mu[1])*sigma(z, g2, g3)**3*sigma(mu[0] + mu[1], g2, g3)*sigma(-mu[0], g2, g3)*sigma(-mu[1], g2, g3)) - sigma(z + mu[0], g2, g3)*sigma(z - mu[0] - mu[1], g2, g3)*Subs(Derivative(sigma(_xi_1, g2, g3), _xi_1), _xi_1, z + mu[1])/(2*f(2, -mu[0], -mu[1])*sigma(z, g2, g3)**3*sigma(mu[0] + mu[1], g2, g3)*sigma(-mu[0], g2, g3)*sigma(-mu[1], g2, g3)) - sigma(z + mu[1], g2, g3)*sigma(z - mu[0] - mu[1], g2, g3)*Subs(Derivative(sigma(_xi_1, g2, g3), _xi_1), _xi_1, z + mu[0])/(2*f(2, -mu[0], -mu[1])*sigma(z, g2, g3)**3*sigma(mu[0] + mu[1], g2, g3)*sigma(-mu[0], g2, g3)*sigma(-mu[1], g2, g3)) + 3*sigma(z + mu[0], g2, g3)*sigma(z + mu[1], g2, g3)*sigma(z - mu[0] - mu[1], g2, g3)*Derivative(sigma(z, g2, g3), z)/(2*f(2, -mu[0], -mu[1])*sigma(z, g2, g3)**4*sigma(mu[0] + mu[1], g2, g3)*sigma(-mu[0], g2, g3)*sigma(-mu[1], g2, g3)))"
      ]
     },
     "execution_count": 341,
     "metadata": {},
     "output_type": "execute_result"
    }
   ],
   "source": [
    "Eq(Derivative(rho(z,mu[0])*rho(z,-mu[0]),z,2),\n",
    "   diff(rho(z,mu[0])*rho(z,-mu[0]),z,2).subs([eq.args for eq in complete_rho_system(3)])\n",
    "  .doit().subs([eq.args for eq in complete_rho_system(3)]).expand())"
   ]
  },
  {
   "cell_type": "markdown",
   "metadata": {},
   "source": [
    "# The ratio to shift identity\n",
    "\n",
    "This identity enables the conversion of a $\\rho$ function shifted in $z$, into a ratio of two unshifted $\\rho$ functions and vice versa."
   ]
  },
  {
   "cell_type": "code",
   "execution_count": 342,
   "metadata": {},
   "outputs": [
    {
     "data": {
      "text/latex": [
       "$\\displaystyle \\frac{\\rho{\\left(z,x \\right)}}{\\rho{\\left(z,y \\right)}} = \\frac{\\sigma{\\left(y,g_{2},g_{3} \\right)} \\sigma{\\left(x - z,g_{2},g_{3} \\right)}}{\\sigma{\\left(x,g_{2},g_{3} \\right)} \\sigma{\\left(y - z,g_{2},g_{3} \\right)}}$"
      ],
      "text/plain": [
       "Eq(rho(z, x)/rho(z, y), sigma(y, g2, g3)*sigma(x - z, g2, g3)/(sigma(x, g2, g3)*sigma(y - z, g2, g3)))"
      ]
     },
     "execution_count": 342,
     "metadata": {},
     "output_type": "execute_result"
    }
   ],
   "source": [
    "eqa_ = Eq(rho_def_zx.lhs/rho_def_zx.lhs.subs(x,y), rho_def_zx.rhs/rho_def_zx.rhs.subs(x,y))\n",
    "eqa_"
   ]
  },
  {
   "cell_type": "code",
   "execution_count": 343,
   "metadata": {},
   "outputs": [
    {
     "data": {
      "text/latex": [
       "$\\displaystyle \\rho{\\left(y - z,- x + y \\right)} = \\frac{\\sigma{\\left(- x + z,g_{2},g_{3} \\right)}}{\\sigma{\\left(- x + y,g_{2},g_{3} \\right)} \\sigma{\\left(y - z,g_{2},g_{3} \\right)}}$"
      ],
      "text/plain": [
       "Eq(rho(y - z, -x + y), sigma(-x + z, g2, g3)/(sigma(-x + y, g2, g3)*sigma(y - z, g2, g3)))"
      ]
     },
     "execution_count": 343,
     "metadata": {},
     "output_type": "execute_result"
    }
   ],
   "source": [
    "eqb_ = rho_def_zx.subs(z,y-z).subs(x,-x+y)\n",
    "eqb_"
   ]
  },
  {
   "cell_type": "code",
   "execution_count": 344,
   "metadata": {},
   "outputs": [
    {
     "data": {
      "text/latex": [
       "$\\displaystyle \\rho{\\left(y,- x + y \\right)} = - \\frac{\\sigma{\\left(x,g_{2},g_{3} \\right)}}{\\sigma{\\left(y,g_{2},g_{3} \\right)} \\sigma{\\left(- x + y,g_{2},g_{3} \\right)}}$"
      ],
      "text/plain": [
       "Eq(rho(y, -x + y), -sigma(x, g2, g3)/(sigma(y, g2, g3)*sigma(-x + y, g2, g3)))"
      ]
     },
     "execution_count": 344,
     "metadata": {},
     "output_type": "execute_result"
    }
   ],
   "source": [
    "eqc_ = rho_def_zx.subs(x,-x+y).subs(z,y).subs(sigma(-x,g2,g3), -sigma(x,g2,g3))\n",
    "eqc_"
   ]
  },
  {
   "cell_type": "code",
   "execution_count": 345,
   "metadata": {},
   "outputs": [
    {
     "data": {
      "text/latex": [
       "$\\displaystyle \\frac{\\rho{\\left(y,- x + y \\right)} \\rho{\\left(z,x \\right)}}{\\rho{\\left(z,y \\right)} \\rho{\\left(y - z,- x + y \\right)}} = 1$"
      ],
      "text/plain": [
       "Eq(rho(y, -x + y)*rho(z, x)/(rho(z, y)*rho(y - z, -x + y)), 1)"
      ]
     },
     "execution_count": 345,
     "metadata": {},
     "output_type": "execute_result"
    }
   ],
   "source": [
    "ratio_shift_id1 = Eq(eqa_.lhs*eqc_.lhs/eqb_.lhs, eqa_.rhs*eqc_.rhs/eqb_.rhs).subs(sigma(-x+z,g2,g3), -sigma(x-z,g2,g3))\n",
    "ratio_shift_id1"
   ]
  },
  {
   "cell_type": "code",
   "execution_count": 346,
   "metadata": {},
   "outputs": [
    {
     "data": {
      "text/latex": [
       "$\\displaystyle \\frac{\\rho{\\left(z,x \\right)}}{\\rho{\\left(z,y \\right)}} = \\frac{\\rho{\\left(y - z,- x + y \\right)}}{\\rho{\\left(y,- x + y \\right)}}$"
      ],
      "text/plain": [
       "Eq(rho(z, x)/rho(z, y), rho(y - z, -x + y)/rho(y, -x + y))"
      ]
     },
     "execution_count": 346,
     "metadata": {},
     "output_type": "execute_result"
    }
   ],
   "source": [
    "ratio_shift_id2 = Eq(ratio_shift_id1.lhs * rho(y-z,-x+y)/rho(y,-x+y), ratio_shift_id1.rhs * rho(y-z,-x+y)/rho(y,-x+y))\n",
    "ratio_shift_id2"
   ]
  },
  {
   "cell_type": "code",
   "execution_count": 347,
   "metadata": {},
   "outputs": [
    {
     "data": {
      "text/latex": [
       "$\\displaystyle \\frac{\\rho{\\left(z,x \\right)}}{\\rho{\\left(z,- x \\right)}} = \\frac{\\rho{\\left(- x - z,- 2 x \\right)}}{\\rho{\\left(- x,- 2 x \\right)}}$"
      ],
      "text/plain": [
       "Eq(rho(z, x)/rho(z, -x), rho(-x - z, -2*x)/rho(-x, -2*x))"
      ]
     },
     "execution_count": 347,
     "metadata": {},
     "output_type": "execute_result"
    }
   ],
   "source": [
    "ratio_shift_id2.subs(y,-x)"
   ]
  },
  {
   "cell_type": "code",
   "execution_count": null,
   "metadata": {},
   "outputs": [],
   "source": []
  },
  {
   "cell_type": "code",
   "execution_count": 348,
   "metadata": {},
   "outputs": [
    {
     "data": {
      "text/latex": [
       "$\\displaystyle \\log{\\left(\\rho{\\left(z,x \\right)} \\right)} = \\frac{\\log{\\left(\\frac{\\rho{\\left(z,x \\right)}}{\\rho{\\left(z,- x \\right)}} \\right)}}{2} + \\frac{\\log{\\left(\\rho{\\left(z,- x \\right)} \\rho{\\left(z,x \\right)} \\right)}}{2}$"
      ],
      "text/plain": [
       "Eq(log(rho(z, x)), log(rho(z, x)/rho(z, -x))/2 + log(rho(z, -x)*rho(z, x))/2)"
      ]
     },
     "execution_count": 348,
     "metadata": {},
     "output_type": "execute_result"
    }
   ],
   "source": [
    "Eq(log(rho(z,x)), log(rho(z,x)*rho(z,-x))/2 + log(rho(z,x)/rho(z,-x))/2)"
   ]
  },
  {
   "cell_type": "code",
   "execution_count": 349,
   "metadata": {},
   "outputs": [
    {
     "data": {
      "text/latex": [
       "$\\displaystyle \\frac{\\partial}{\\partial z} \\log{\\left(\\frac{\\sigma{\\left(x + z,g_{2},g_{3} \\right)}}{\\sigma{\\left(x,g_{2},g_{3} \\right)} \\sigma{\\left(z,g_{2},g_{3} \\right)}} \\right)} = \\frac{\\left. \\frac{\\partial}{\\partial \\xi_{1}} \\sigma{\\left(\\xi_{1},g_{2},g_{3} \\right)} \\right|_{\\substack{ \\xi_{1}=x + z }}}{\\sigma{\\left(x + z,g_{2},g_{3} \\right)}} - \\frac{\\frac{\\partial}{\\partial z} \\sigma{\\left(z,g_{2},g_{3} \\right)}}{\\sigma{\\left(z,g_{2},g_{3} \\right)}}$"
      ],
      "text/plain": [
       "Eq(Derivative(log(sigma(x + z, g2, g3)/(sigma(x, g2, g3)*sigma(z, g2, g3))), z), Subs(Derivative(sigma(_xi_1, g2, g3), _xi_1), _xi_1, x + z)/sigma(x + z, g2, g3) - Derivative(sigma(z, g2, g3), z)/sigma(z, g2, g3))"
      ]
     },
     "execution_count": 349,
     "metadata": {},
     "output_type": "execute_result"
    }
   ],
   "source": [
    "log_rho_diff = Eq(Derivative(log(sigma(z + x,g2,g3)/sigma(z,g2,g3)/sigma(x,g2,g3)),z), \n",
    "   diff(log(sigma(z + x,g2,g3)/sigma(z,g2,g3)/sigma(x,g2,g3)),z).expand()\n",
    "  )\n",
    "log_rho_diff"
   ]
  },
  {
   "cell_type": "code",
   "execution_count": 350,
   "metadata": {},
   "outputs": [
    {
     "data": {
      "text/latex": [
       "$\\displaystyle \\frac{\\partial}{\\partial z} \\log{\\left(\\frac{\\sigma{\\left(x + z,g_{2},g_{3} \\right)}}{\\sigma{\\left(x,g_{2},g_{3} \\right)} \\sigma{\\left(y + z,g_{2},g_{3} \\right)}} \\right)} = - \\frac{\\left. \\frac{\\partial}{\\partial \\xi_{1}} \\sigma{\\left(\\xi_{1},g_{2},g_{3} \\right)} \\right|_{\\substack{ \\xi_{1}=y + z }}}{\\sigma{\\left(y + z,g_{2},g_{3} \\right)}} + \\frac{\\left. \\frac{\\partial}{\\partial \\xi_{1}} \\sigma{\\left(\\xi_{1},g_{2},g_{3} \\right)} \\right|_{\\substack{ \\xi_{1}=x + z }}}{\\sigma{\\left(x + z,g_{2},g_{3} \\right)}}$"
      ],
      "text/plain": [
       "Eq(Derivative(log(sigma(x + z, g2, g3)/(sigma(x, g2, g3)*sigma(y + z, g2, g3))), z), -Subs(Derivative(sigma(_xi_1, g2, g3), _xi_1), _xi_1, y + z)/sigma(y + z, g2, g3) + Subs(Derivative(sigma(_xi_1, g2, g3), _xi_1), _xi_1, x + z)/sigma(x + z, g2, g3))"
      ]
     },
     "execution_count": 350,
     "metadata": {},
     "output_type": "execute_result"
    }
   ],
   "source": [
    "log_rho_diff_y = Eq(Derivative(log(sigma(z + x,g2,g3)/sigma(z+y,g2,g3)/sigma(x,g2,g3)),z), \n",
    "   diff(log(sigma(z + x,g2,g3)/sigma(z+y,g2,g3)/sigma(x,g2,g3)),z).expand()\n",
    "  )\n",
    "log_rho_diff_y"
   ]
  },
  {
   "cell_type": "code",
   "execution_count": 351,
   "metadata": {},
   "outputs": [
    {
     "data": {
      "text/latex": [
       "$\\displaystyle \\frac{\\partial}{\\partial z} \\log{\\left(\\frac{\\sigma{\\left(x + z,g_{2},g_{3} \\right)}}{\\sigma{\\left(x,g_{2},g_{3} \\right)} \\sigma{\\left(y + z,g_{2},g_{3} \\right)}} \\right)} = \\operatorname{zw}{\\left(x + z,g_{2},g_{3} \\right)} - \\operatorname{zw}{\\left(y + z,g_{2},g_{3} \\right)}$"
      ],
      "text/plain": [
       "Eq(Derivative(log(sigma(x + z, g2, g3)/(sigma(x, g2, g3)*sigma(y + z, g2, g3))), z), zw(x + z, g2, g3) - zw(y + z, g2, g3))"
      ]
     },
     "execution_count": 351,
     "metadata": {},
     "output_type": "execute_result"
    }
   ],
   "source": [
    "log_sig_ratio_zxy = Eq(log_rho_diff_y.lhs, \n",
    "   log_rho_diff_y.rhs \n",
    "   + zeta_eq.subs(z,z+x).lhs - zeta_eq.subs(z,z+x).rhs\n",
    "   - zeta_eq.subs(z,z+y).lhs + zeta_eq.subs(z,z+y).rhs\n",
    "  )\n",
    "\n",
    "log_sig_ratio_zxy"
   ]
  },
  {
   "cell_type": "code",
   "execution_count": 352,
   "metadata": {},
   "outputs": [
    {
     "data": {
      "text/latex": [
       "$\\displaystyle \\frac{\\operatorname{pwp}{\\left(x,g_{2},g_{3} \\right)} - \\operatorname{pwp}{\\left(z,g_{2},g_{3} \\right)}}{2 \\left(\\operatorname{pw}{\\left(x,g_{2},g_{3} \\right)} - \\operatorname{pw}{\\left(z,g_{2},g_{3} \\right)}\\right)} = - \\operatorname{zw}{\\left(x,g_{2},g_{3} \\right)} - \\operatorname{zw}{\\left(z,g_{2},g_{3} \\right)} + \\operatorname{zw}{\\left(x + z,g_{2},g_{3} \\right)}$"
      ],
      "text/plain": [
       "Eq((pwp(x, g2, g3) - pwp(z, g2, g3))/(2*(pw(x, g2, g3) - pw(z, g2, g3))), -zw(x, g2, g3) - zw(z, g2, g3) + zw(x + z, g2, g3))"
      ]
     },
     "execution_count": 352,
     "metadata": {},
     "output_type": "execute_result"
    }
   ],
   "source": [
    "pw_to_zw_identity.subs(y,z)"
   ]
  },
  {
   "cell_type": "code",
   "execution_count": 353,
   "metadata": {
    "scrolled": true
   },
   "outputs": [
    {
     "data": {
      "text/latex": [
       "$\\displaystyle \\frac{\\operatorname{pwp}{\\left(y,g_{2},g_{3} \\right)} - \\operatorname{pwp}{\\left(z,g_{2},g_{3} \\right)}}{2 \\left(\\operatorname{pw}{\\left(y,g_{2},g_{3} \\right)} - \\operatorname{pw}{\\left(z,g_{2},g_{3} \\right)}\\right)} = - \\operatorname{zw}{\\left(y,g_{2},g_{3} \\right)} - \\operatorname{zw}{\\left(z,g_{2},g_{3} \\right)} + \\operatorname{zw}{\\left(y + z,g_{2},g_{3} \\right)}$"
      ],
      "text/plain": [
       "Eq((pwp(y, g2, g3) - pwp(z, g2, g3))/(2*(pw(y, g2, g3) - pw(z, g2, g3))), -zw(y, g2, g3) - zw(z, g2, g3) + zw(y + z, g2, g3))"
      ]
     },
     "execution_count": 353,
     "metadata": {},
     "output_type": "execute_result"
    }
   ],
   "source": [
    "pw_to_zw_identity.subs(y,z).subs(x,y)"
   ]
  },
  {
   "cell_type": "code",
   "execution_count": 354,
   "metadata": {},
   "outputs": [
    {
     "data": {
      "text/latex": [
       "$\\displaystyle \\operatorname{zw}{\\left(x + z,g_{2},g_{3} \\right)} - \\operatorname{zw}{\\left(y + z,g_{2},g_{3} \\right)} = \\operatorname{zw}{\\left(x,g_{2},g_{3} \\right)} - \\operatorname{zw}{\\left(y,g_{2},g_{3} \\right)} - \\frac{- \\operatorname{pwp}{\\left(y,g_{2},g_{3} \\right)} + \\operatorname{pwp}{\\left(z,g_{2},g_{3} \\right)}}{2 \\left(- \\operatorname{pw}{\\left(y,g_{2},g_{3} \\right)} + \\operatorname{pw}{\\left(z,g_{2},g_{3} \\right)}\\right)} + \\frac{\\operatorname{pwp}{\\left(x,g_{2},g_{3} \\right)} - \\operatorname{pwp}{\\left(z,g_{2},g_{3} \\right)}}{2 \\left(\\operatorname{pw}{\\left(x,g_{2},g_{3} \\right)} - \\operatorname{pw}{\\left(z,g_{2},g_{3} \\right)}\\right)}$"
      ],
      "text/plain": [
       "Eq(zw(x + z, g2, g3) - zw(y + z, g2, g3), zw(x, g2, g3) - zw(y, g2, g3) - (-pwp(y, g2, g3) + pwp(z, g2, g3))/(2*(-pw(y, g2, g3) + pw(z, g2, g3))) + (pwp(x, g2, g3) - pwp(z, g2, g3))/(2*(pw(x, g2, g3) - pw(z, g2, g3))))"
      ]
     },
     "execution_count": 354,
     "metadata": {},
     "output_type": "execute_result"
    }
   ],
   "source": [
    "pw_zeta_xyz_1 = Eq( \n",
    "    pw_to_zw_identity.subs(y,z).rhs - pw_to_zw_identity.subs(x,z).rhs + zw(x,g2,g3) - zw(y,g2,g3),\n",
    "    pw_to_zw_identity.subs(y,z).lhs - pw_to_zw_identity.subs(x,z).lhs + zw(x,g2,g3) - zw(y,g2,g3),\n",
    ")\n",
    "pw_zeta_xyz_1"
   ]
  },
  {
   "cell_type": "code",
   "execution_count": 355,
   "metadata": {},
   "outputs": [
    {
     "data": {
      "text/latex": [
       "$\\displaystyle \\operatorname{zw}{\\left(x + z,g_{2},g_{3} \\right)} - \\operatorname{zw}{\\left(y + z,g_{2},g_{3} \\right)} = \\operatorname{zw}{\\left(x - y,g_{2},g_{3} \\right)} + \\frac{\\operatorname{pwp}{\\left(x - y,g_{2},g_{3} \\right)} - \\operatorname{pwp}{\\left(y + z,g_{2},g_{3} \\right)}}{2 \\left(\\operatorname{pw}{\\left(x - y,g_{2},g_{3} \\right)} - \\operatorname{pw}{\\left(y + z,g_{2},g_{3} \\right)}\\right)}$"
      ],
      "text/plain": [
       "Eq(zw(x + z, g2, g3) - zw(y + z, g2, g3), zw(x - y, g2, g3) + (pwp(x - y, g2, g3) - pwp(y + z, g2, g3))/(2*(pw(x - y, g2, g3) - pw(y + z, g2, g3))))"
      ]
     },
     "execution_count": 355,
     "metadata": {},
     "output_type": "execute_result"
    }
   ],
   "source": [
    "pw_zeta_xyz__ = pw_to_zw_identity.subs(y,z+y).subs(x,x-y)\n",
    "pw_zeta_xyz_2 = Eq(pw_zeta_xyz__.rhs + zw(x-y,g2,g3),pw_zeta_xyz__.lhs + zw(x-y,g2,g3))\n",
    "pw_zeta_xyz_2"
   ]
  },
  {
   "cell_type": "code",
   "execution_count": 356,
   "metadata": {},
   "outputs": [
    {
     "data": {
      "text/latex": [
       "$\\displaystyle \\frac{\\partial}{\\partial z} \\log{\\left(\\frac{\\sigma{\\left(x + z,g_{2},g_{3} \\right)}}{\\sigma{\\left(x,g_{2},g_{3} \\right)} \\sigma{\\left(y + z,g_{2},g_{3} \\right)}} \\right)} = \\operatorname{zw}{\\left(x,g_{2},g_{3} \\right)} - \\operatorname{zw}{\\left(y,g_{2},g_{3} \\right)} - \\frac{- \\operatorname{pwp}{\\left(y,g_{2},g_{3} \\right)} + \\operatorname{pwp}{\\left(z,g_{2},g_{3} \\right)}}{2 \\left(- \\operatorname{pw}{\\left(y,g_{2},g_{3} \\right)} + \\operatorname{pw}{\\left(z,g_{2},g_{3} \\right)}\\right)} + \\frac{\\operatorname{pwp}{\\left(x,g_{2},g_{3} \\right)} - \\operatorname{pwp}{\\left(z,g_{2},g_{3} \\right)}}{2 \\left(\\operatorname{pw}{\\left(x,g_{2},g_{3} \\right)} - \\operatorname{pw}{\\left(z,g_{2},g_{3} \\right)}\\right)}$"
      ],
      "text/plain": [
       "Eq(Derivative(log(sigma(x + z, g2, g3)/(sigma(x, g2, g3)*sigma(y + z, g2, g3))), z), zw(x, g2, g3) - zw(y, g2, g3) - (-pwp(y, g2, g3) + pwp(z, g2, g3))/(2*(-pw(y, g2, g3) + pw(z, g2, g3))) + (pwp(x, g2, g3) - pwp(z, g2, g3))/(2*(pw(x, g2, g3) - pw(z, g2, g3))))"
      ]
     },
     "execution_count": 356,
     "metadata": {},
     "output_type": "execute_result"
    }
   ],
   "source": [
    "log_sig_ratio_zxy.subs(*pw_zeta_xyz_1.args)"
   ]
  },
  {
   "cell_type": "code",
   "execution_count": 357,
   "metadata": {},
   "outputs": [
    {
     "data": {
      "text/latex": [
       "$\\displaystyle \\frac{\\partial}{\\partial z} \\log{\\left(\\frac{\\sigma{\\left(x + z,g_{2},g_{3} \\right)}}{\\sigma{\\left(x,g_{2},g_{3} \\right)} \\sigma{\\left(y + z,g_{2},g_{3} \\right)}} \\right)} = \\operatorname{zw}{\\left(x - y,g_{2},g_{3} \\right)} + \\frac{\\operatorname{pwp}{\\left(x - y,g_{2},g_{3} \\right)} - \\operatorname{pwp}{\\left(y + z,g_{2},g_{3} \\right)}}{2 \\left(\\operatorname{pw}{\\left(x - y,g_{2},g_{3} \\right)} - \\operatorname{pw}{\\left(y + z,g_{2},g_{3} \\right)}\\right)}$"
      ],
      "text/plain": [
       "Eq(Derivative(log(sigma(x + z, g2, g3)/(sigma(x, g2, g3)*sigma(y + z, g2, g3))), z), zw(x - y, g2, g3) + (pwp(x - y, g2, g3) - pwp(y + z, g2, g3))/(2*(pw(x - y, g2, g3) - pw(y + z, g2, g3))))"
      ]
     },
     "execution_count": 357,
     "metadata": {},
     "output_type": "execute_result"
    }
   ],
   "source": [
    "log_sig_ratio_zxy.subs(*pw_zeta_xyz_2.args)"
   ]
  },
  {
   "cell_type": "code",
   "execution_count": 358,
   "metadata": {},
   "outputs": [
    {
     "data": {
      "text/latex": [
       "$\\displaystyle \\frac{\\sigma{\\left(x + z,g_{2},g_{3} \\right)} \\sigma{\\left(- x + 2 y + z,g_{2},g_{3} \\right)}}{\\sigma^{2}{\\left(x - y,g_{2},g_{3} \\right)} \\sigma^{2}{\\left(y + z,g_{2},g_{3} \\right)}} = \\operatorname{pw}{\\left(x - y,g_{2},g_{3} \\right)} - \\operatorname{pw}{\\left(y + z,g_{2},g_{3} \\right)}$"
      ],
      "text/plain": [
       "Eq(sigma(x + z, g2, g3)*sigma(-x + 2*y + z, g2, g3)/(sigma(x - y, g2, g3)**2*sigma(y + z, g2, g3)**2), pw(x - y, g2, g3) - pw(y + z, g2, g3))"
      ]
     },
     "execution_count": 358,
     "metadata": {},
     "output_type": "execute_result"
    }
   ],
   "source": [
    "sigma_p_identity.subs([(z,X-Y),(x,Y+Z)]).subs([(X,x),(Y,y),(Z,z)]).subs([(x,x+a),(y,y+a),(z,z-a)])"
   ]
  },
  {
   "cell_type": "code",
   "execution_count": 359,
   "metadata": {},
   "outputs": [
    {
     "data": {
      "text/latex": [
       "$\\displaystyle \\frac{\\sigma^{2}{\\left(y,g_{2},g_{3} \\right)} \\sigma{\\left(x - z,g_{2},g_{3} \\right)} \\sigma{\\left(x + z,g_{2},g_{3} \\right)}}{\\sigma^{2}{\\left(x,g_{2},g_{3} \\right)} \\sigma{\\left(y - z,g_{2},g_{3} \\right)} \\sigma{\\left(y + z,g_{2},g_{3} \\right)}} = \\frac{- \\operatorname{pw}{\\left(x,g_{2},g_{3} \\right)} + \\operatorname{pw}{\\left(z,g_{2},g_{3} \\right)}}{- \\operatorname{pw}{\\left(y,g_{2},g_{3} \\right)} + \\operatorname{pw}{\\left(z,g_{2},g_{3} \\right)}}$"
      ],
      "text/plain": [
       "Eq(sigma(y, g2, g3)**2*sigma(x - z, g2, g3)*sigma(x + z, g2, g3)/(sigma(x, g2, g3)**2*sigma(y - z, g2, g3)*sigma(y + z, g2, g3)), (-pw(x, g2, g3) + pw(z, g2, g3))/(-pw(y, g2, g3) + pw(z, g2, g3)))"
      ]
     },
     "execution_count": 359,
     "metadata": {},
     "output_type": "execute_result"
    }
   ],
   "source": [
    "Eq(sigma_p_identity.lhs/sigma_p_identity.lhs.subs(x,y), sigma_p_identity.rhs/sigma_p_identity.rhs.subs(x,y))"
   ]
  },
  {
   "cell_type": "code",
   "execution_count": 360,
   "metadata": {},
   "outputs": [
    {
     "data": {
      "text/latex": [
       "$\\displaystyle \\rho{\\left(- y - z,x \\right)} = - \\frac{\\sigma{\\left(x + y + z,g_{2},g_{3} \\right)}}{\\sigma{\\left(x,g_{2},g_{3} \\right)} \\sigma{\\left(y + z,g_{2},g_{3} \\right)}}$"
      ],
      "text/plain": [
       "Eq(rho(-y - z, x), -sigma(x + y + z, g2, g3)/(sigma(x, g2, g3)*sigma(y + z, g2, g3)))"
      ]
     },
     "execution_count": 360,
     "metadata": {},
     "output_type": "execute_result"
    }
   ],
   "source": [
    "rho_def_zx.subs(z,-z).subs(sigma(-z,g2,g3),-sigma(z,g2,g3)).subs(z,z+y)"
   ]
  },
  {
   "cell_type": "code",
   "execution_count": 361,
   "metadata": {},
   "outputs": [
    {
     "data": {
      "text/latex": [
       "$\\displaystyle \\rho{\\left(y + z,- x + y \\right)} \\rho{\\left(y + z,x - y \\right)} = - \\operatorname{pw}{\\left(x - y,g_{2},g_{3} \\right)} + \\operatorname{pw}{\\left(y + z,g_{2},g_{3} \\right)}$"
      ],
      "text/plain": [
       "Eq(rho(y + z, -x + y)*rho(y + z, x - y), -pw(x - y, g2, g3) + pw(y + z, g2, g3))"
      ]
     },
     "execution_count": 361,
     "metadata": {},
     "output_type": "execute_result"
    }
   ],
   "source": [
    "rho_p_zx.subs([(x,x-y),(z,y+z)])"
   ]
  },
  {
   "cell_type": "code",
   "execution_count": 362,
   "metadata": {},
   "outputs": [
    {
     "data": {
      "text/latex": [
       "$\\displaystyle \\frac{\\partial}{\\partial z} \\rho{\\left(z,x \\right)} = \\frac{\\operatorname{pwp}{\\left(x,g_{2},g_{3} \\right)}}{2 \\rho{\\left(z,- x \\right)}} + \\frac{\\operatorname{pwp}{\\left(z,g_{2},g_{3} \\right)}}{2 \\rho{\\left(z,- x \\right)}} - \\rho{\\left(z,x \\right)} \\operatorname{zw}{\\left(x,g_{2},g_{3} \\right)}$"
      ],
      "text/plain": [
       "Eq(Derivative(rho(z, x), z), pwp(x, g2, g3)/(2*rho(z, -x)) + pwp(z, g2, g3)/(2*rho(z, -x)) - rho(z, x)*zw(x, g2, g3))"
      ]
     },
     "execution_count": 362,
     "metadata": {},
     "output_type": "execute_result"
    }
   ],
   "source": [
    "rho_zx_p_prime = log_rho_zx_p.subs(-2*rho_p_zx.rhs, -2*rho_p_zx.lhs)\n",
    "rho_zx_p_prime = Eq(rho_zx_p_prime.lhs*rho(z,x), rho_zx_p_prime.rhs*rho(z,x)).expand()\n",
    "rho_zx_p_prime"
   ]
  },
  {
   "cell_type": "code",
   "execution_count": 363,
   "metadata": {},
   "outputs": [
    {
     "data": {
      "text/latex": [
       "$\\displaystyle \\frac{\\sigma{\\left(z + {\\mu}_{0},g_{2},g_{3} \\right)} \\sigma{\\left(z + {\\mu}_{1},g_{2},g_{3} \\right)} \\sigma{\\left(z + {\\mu}_{2},g_{2},g_{3} \\right)} \\sigma{\\left(z - {\\mu}_{0} - {\\mu}_{1} - {\\mu}_{2},g_{2},g_{3} \\right)}}{\\sigma^{4}{\\left(z,g_{2},g_{3} \\right)} \\sigma{\\left({\\mu}_{0} + {\\mu}_{1} + {\\mu}_{2},g_{2},g_{3} \\right)} \\sigma{\\left(- {\\mu}_{0},g_{2},g_{3} \\right)} \\sigma{\\left(- {\\mu}_{1},g_{2},g_{3} \\right)} \\sigma{\\left(- {\\mu}_{2},g_{2},g_{3} \\right)}} = f{\\left(1,- {\\mu}_{0},- {\\mu}_{1},- {\\mu}_{2} \\right)} \\operatorname{pw}{\\left(z,g_{2},g_{3} \\right)} - f{\\left(1,- {\\mu}_{0},- {\\mu}_{1},- {\\mu}_{2} \\right)} \\operatorname{pw}{\\left({\\mu}_{0},g_{2},g_{3} \\right)} + f{\\left(2,- {\\mu}_{0},- {\\mu}_{1},- {\\mu}_{2} \\right)} \\operatorname{pwp}{\\left(z,g_{2},g_{3} \\right)} + f{\\left(2,- {\\mu}_{0},- {\\mu}_{1},- {\\mu}_{2} \\right)} \\operatorname{pwp}{\\left({\\mu}_{0},g_{2},g_{3} \\right)} + 6 f{\\left(3,- {\\mu}_{0},- {\\mu}_{1},- {\\mu}_{2} \\right)} \\operatorname{pw}^{2}{\\left(z,g_{2},g_{3} \\right)} - 6 f{\\left(3,- {\\mu}_{0},- {\\mu}_{1},- {\\mu}_{2} \\right)} \\operatorname{pw}^{2}{\\left({\\mu}_{0},g_{2},g_{3} \\right)}$"
      ],
      "text/plain": [
       "Eq(sigma(z + mu[0], g2, g3)*sigma(z + mu[1], g2, g3)*sigma(z + mu[2], g2, g3)*sigma(z - mu[0] - mu[1] - mu[2], g2, g3)/(sigma(z, g2, g3)**4*sigma(mu[0] + mu[1] + mu[2], g2, g3)*sigma(-mu[0], g2, g3)*sigma(-mu[1], g2, g3)*sigma(-mu[2], g2, g3)), f(1, -mu[0], -mu[1], -mu[2])*pw(z, g2, g3) - f(1, -mu[0], -mu[1], -mu[2])*pw(mu[0], g2, g3) + f(2, -mu[0], -mu[1], -mu[2])*pwp(z, g2, g3) + f(2, -mu[0], -mu[1], -mu[2])*pwp(mu[0], g2, g3) + 6*f(3, -mu[0], -mu[1], -mu[2])*pw(z, g2, g3)**2 - 6*f(3, -mu[0], -mu[1], -mu[2])*pw(mu[0], g2, g3)**2)"
      ]
     },
     "execution_count": 363,
     "metadata": {},
     "output_type": "execute_result"
    }
   ],
   "source": [
    "NNval = 4\n",
    "Eq(\n",
    "    rho_product_p_prime(NNval, conjugate=True).lhs, \n",
    "    rho_product_p_prime(NNval, conjugate=True).rhs - \n",
    "    rho_product_p_prime(NNval, conjugate=True).subs(z,-mu[0]).rhs\n",
    ").subs([\n",
    "    (pw(-mu[0], g2, g3), pw(mu[0], g2, g3)),\n",
    "    (pwp(-mu[0], g2, g3), -pwp(mu[0], g2, g3))\n",
    "])"
   ]
  },
  {
   "cell_type": "code",
   "execution_count": null,
   "metadata": {},
   "outputs": [],
   "source": []
  },
  {
   "cell_type": "code",
   "execution_count": null,
   "metadata": {},
   "outputs": [],
   "source": []
  },
  {
   "cell_type": "code",
   "execution_count": null,
   "metadata": {},
   "outputs": [],
   "source": []
  },
  {
   "cell_type": "code",
   "execution_count": null,
   "metadata": {},
   "outputs": [],
   "source": []
  },
  {
   "cell_type": "code",
   "execution_count": null,
   "metadata": {},
   "outputs": [],
   "source": []
  },
  {
   "cell_type": "code",
   "execution_count": null,
   "metadata": {},
   "outputs": [],
   "source": []
  },
  {
   "cell_type": "code",
   "execution_count": null,
   "metadata": {},
   "outputs": [],
   "source": []
  },
  {
   "cell_type": "code",
   "execution_count": null,
   "metadata": {},
   "outputs": [],
   "source": []
  }
 ],
 "metadata": {
  "kernelspec": {
   "display_name": "Python 3",
   "language": "python",
   "name": "python3"
  },
  "language_info": {
   "codemirror_mode": {
    "name": "ipython",
    "version": 3
   },
   "file_extension": ".py",
   "mimetype": "text/x-python",
   "name": "python",
   "nbconvert_exporter": "python",
   "pygments_lexer": "ipython3",
   "version": "3.8.10"
  }
 },
 "nbformat": 4,
 "nbformat_minor": 4
}
