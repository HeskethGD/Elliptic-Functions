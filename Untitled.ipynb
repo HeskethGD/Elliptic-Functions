{
 "cells": [
  {
   "cell_type": "markdown",
   "id": "350788c4-ee4e-4e7e-8fc2-47df6cec1793",
   "metadata": {},
   "source": [
    "From 1 to n inclusive print \n",
    "- FizzBuzz if i is a multiple of 3 and 5\n",
    "- Fizz if i is a multiple of 3 but not 5\n",
    "- Buzz if i is a multipl of 5 but not 3\n",
    "- If i is not a multipl of 3 or 5 print i"
   ]
  },
  {
   "cell_type": "code",
   "execution_count": 12,
   "id": "c4aa3782-dedc-401a-ad1a-1a786bced68b",
   "metadata": {},
   "outputs": [
    {
     "name": "stdout",
     "output_type": "stream",
     "text": [
      "1\n",
      "2\n",
      "Fizz\n",
      "4\n",
      "Buzz\n",
      "Fizz\n",
      "7\n",
      "8\n",
      "Fizz\n",
      "Buzz\n",
      "11\n",
      "Fizz\n",
      "13\n",
      "14\n",
      "FizzBUz\n",
      "16\n",
      "17\n",
      "Fizz\n",
      "19\n"
     ]
    }
   ],
   "source": [
    "n = 20\n",
    "def a_is_multiple_of_b(a,b):\n",
    "    return not a % b\n",
    "for i in range(1,n):\n",
    "    if (a_is_multiple_of_b(i,5) & a_is_multiple_of_b(i,3)):\n",
    "        print(\"FizzBUz\")\n",
    "    elif ((not a_is_multiple_of_b(i,5)) & a_is_multiple_of_b(i,3)):\n",
    "        print(\"Fizz\")\n",
    "    elif (a_is_multiple_of_b(i,5) & (not a_is_multiple_of_b(i,3))):\n",
    "        print(\"Buzz\")\n",
    "    else:\n",
    "        print(i)\n",
    "        "
   ]
  },
  {
   "cell_type": "code",
   "execution_count": 3,
   "id": "e23d2d40-3f65-417e-b0c9-d903f1c0d8e5",
   "metadata": {},
   "outputs": [
    {
     "data": {
      "text/plain": [
       "0"
      ]
     },
     "execution_count": 3,
     "metadata": {},
     "output_type": "execute_result"
    }
   ],
   "source": [
    "9 % 3"
   ]
  },
  {
   "cell_type": "code",
   "execution_count": 10,
   "id": "8c5808cd-9f9e-4822-9c0e-aa4ce3fb0fc6",
   "metadata": {},
   "outputs": [
    {
     "data": {
      "text/plain": [
       "False"
      ]
     },
     "execution_count": 10,
     "metadata": {},
     "output_type": "execute_result"
    }
   ],
   "source": [
    "a_is_multiple_of_b(1,5)"
   ]
  },
  {
   "cell_type": "code",
   "execution_count": 8,
   "id": "7bd6d9b3-4e32-46a6-bfe8-cca5839773fb",
   "metadata": {},
   "outputs": [
    {
     "data": {
      "text/plain": [
       "3"
      ]
     },
     "execution_count": 8,
     "metadata": {},
     "output_type": "execute_result"
    }
   ],
   "source": [
    "3 % 9"
   ]
  },
  {
   "cell_type": "code",
   "execution_count": 14,
   "id": "a515023c-9cdf-469b-8a5a-673b75fc478e",
   "metadata": {},
   "outputs": [],
   "source": [
    "list_of_strings = [\n",
    "    \"zzzbmnbnm jhdjhdk hhkj\",\n",
    "    \"aaaabnmbmnbnm jhdjhdk hhkj\",\n",
    "    \"abnmbmnbnm jhdjhdk hhkj\",\n",
    "    None,\n",
    "    None,\n",
    "    \"qbnmbmnbnm jhdjhdk hhkj\",\n",
    "    \"abnmbmnbnm jhdjhdk hhkj\",\n",
    "]"
   ]
  },
  {
   "cell_type": "code",
   "execution_count": 19,
   "id": "c69c9a5b-d3d0-497c-a8a3-09173ede9643",
   "metadata": {},
   "outputs": [],
   "source": [
    "\n",
    "\n",
    "def clean_and_sort_string_array(my_array):\n",
    "    \n",
    "    def clean_string(s):\n",
    "        if not s:\n",
    "            return \"missing\"\n",
    "        return s.lower().replace(\" \", \"_\")\n",
    "        \n",
    "    return sorted([clean_string(s) for s in my_array])"
   ]
  },
  {
   "cell_type": "code",
   "execution_count": 20,
   "id": "526a534e-f931-4d92-b509-c45868811d4f",
   "metadata": {},
   "outputs": [
    {
     "data": {
      "text/plain": [
       "['aaaabnmbmnbnm_jhdjhdk_hhkj',\n",
       " 'abnmbmnbnm_jhdjhdk_hhkj',\n",
       " 'abnmbmnbnm_jhdjhdk_hhkj',\n",
       " 'missing',\n",
       " 'missing',\n",
       " 'qbnmbmnbnm_jhdjhdk_hhkj',\n",
       " 'zzzbmnbnm_jhdjhdk_hhkj']"
      ]
     },
     "execution_count": 20,
     "metadata": {},
     "output_type": "execute_result"
    }
   ],
   "source": [
    "clean_and_sort_string_array(list_of_strings)"
   ]
  },
  {
   "cell_type": "code",
   "execution_count": null,
   "id": "5b19d7e7-c789-4e10-ba62-6898e7e63c16",
   "metadata": {},
   "outputs": [],
   "source": []
  }
 ],
 "metadata": {
  "kernelspec": {
   "display_name": "Python 3 (ipykernel)",
   "language": "python",
   "name": "python3"
  },
  "language_info": {
   "codemirror_mode": {
    "name": "ipython",
    "version": 3
   },
   "file_extension": ".py",
   "mimetype": "text/x-python",
   "name": "python",
   "nbconvert_exporter": "python",
   "pygments_lexer": "ipython3",
   "version": "3.10.13"
  }
 },
 "nbformat": 4,
 "nbformat_minor": 5
}
