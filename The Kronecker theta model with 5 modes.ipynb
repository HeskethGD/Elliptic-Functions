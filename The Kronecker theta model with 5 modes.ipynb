{
 "cells": [
  {
   "cell_type": "markdown",
   "id": "870e6d4a",
   "metadata": {},
   "source": [
    "# The Kronecker theta model with 5 modes"
   ]
  },
  {
   "cell_type": "code",
   "execution_count": 1,
   "id": "b3193aa9",
   "metadata": {},
   "outputs": [],
   "source": [
    "from sympy import *\n",
    "(x, y, X, Y, Z, B, C, n, m, l, j, q, N, M, K, k, z, s, p1, p2, p3, g2, g3,\n",
    " z0, w1, w2, w3, e1, e2, e3, Delta, \n",
    " omega1, omega2, omega3, eta1, eta2, eta3, d1, d2, d3) = symbols(\n",
    "    '''x, y, X, Y, Z, B, C, n, m, l, j, q, N, M, K, k, z, s, p1, p2, p3, g2, g3,\n",
    "    z0, w1, w2, w3, e1, e2, e3, Delta, \n",
    "    omega1, omega2, omega3, eta1, eta2, eta3, d1, d2, d3'''\n",
    ")\n",
    "alpha, delta, t, nu, theta = symbols('alpha, delta, t, nu, theta')\n",
    "pw = Function('pw') # Weierstrass P function\n",
    "pwp = Function('pwp') # Derivative of Weierstrass P function\n",
    "zw = Function('zw') # Weierstrass Zeta function\n",
    "sigma = Function('sigma') # Weierstrass Sigma function\n",
    "rho = Function('rho')\n",
    "f = Function('f')\n",
    "h = Function('h')\n",
    "s = Function('s')\n",
    "P = Function('P') # Polynomial\n",
    "Q = Function('Q') # Polynomial\n",
    "phi = Function('phi')\n",
    "Phi = Function('Phi')\n",
    "phi1 = Function('phi1')\n",
    "phi2 = Function('phi2')\n",
    "phi3 = Function('phi3')\n",
    "A = IndexedBase('A')\n",
    "W1 = Function('W1')\n",
    "W2 = Function('W2')\n",
    "W3 = Function('W3')\n",
    "W4 = Function('W4')\n",
    "W5 = Function('W5')\n",
    "W6 = Function('W6')\n",
    "Det = Function(\"Det\")\n",
    "\n",
    "kappa = IndexedBase('kappa')\n",
    "beta = IndexedBase('beta')\n",
    "mu = IndexedBase('mu')\n",
    "xi = IndexedBase('xi')\n",
    "a = IndexedBase('a')\n",
    "b = IndexedBase('b')\n",
    "c = IndexedBase('c')\n",
    "d = IndexedBase('d')\n",
    "p = IndexedBase('p')\n",
    "F = IndexedBase('F')\n",
    "G = IndexedBase('G')\n",
    "psi = IndexedBase('psi')\n",
    "upsilon = IndexedBase('upsilon')\n",
    "epsilon = IndexedBase('epsilon')\n",
    "WPdet = Function('WPdet')\n",
    "\n",
    "from IPython.core.interactiveshell import InteractiveShell\n",
    "InteractiveShell.ast_node_interactivity = 'all'\n",
    "\n",
    "# kth order derivatives of Weierstrass P\n",
    "from wpk import wpk, run_tests\n",
    "\n",
    "# The package containing mpmath expressions for Weierstrass elliptic functions\n",
    "from numerical_evaluation.weierstrass_modified import Weierstrass\n",
    "we = Weierstrass()\n",
    "from mpmath import exp as mpexp\n",
    "\n",
    "def mpc_to_float(mpc_val):\n",
    "    return float(mpc_val.real) + float(mpc_val.imag)*1j"
   ]
  },
  {
   "cell_type": "code",
   "execution_count": 2,
   "id": "d330bd55",
   "metadata": {},
   "outputs": [],
   "source": [
    "sigma_product_f_s = (\n",
    "    (-1)**(N*(N-1)/2)*\n",
    "    Product(factorial(k),(k,1,N))*\n",
    "    sigma(Sum(mu[j],(j,0,N)),g2,g3)*\n",
    "    Product(Product(Piecewise((sigma(mu[l] - mu[m], g2, g3),l<m),(1,True)),(l,0,N)),(m,0,N))/\n",
    "    Product(sigma(mu[n],g2,g3)**(N+1),(n,0,N))\n",
    ")\n",
    "\n",
    "def frob_stick(Nval, evaluated=False, WPversion=False):\n",
    "    \"\"\"\n",
    "    Frobenius Stickelberger in its original form\n",
    "    \"\"\"\n",
    "    if evaluated:\n",
    "        return Eq(p_matrix_f_s(Nval).det(), sigma_product_f_s.subs(N,Nval).doit())\n",
    "    elif WPversion:\n",
    "        return Eq(WPdet(Nval), sigma_product_f_s.subs(N,Nval).doit())\n",
    "    return Eq(Det(p_matrix_f_s(Nval)), sigma_product_f_s.subs(N,Nval).doit())"
   ]
  },
  {
   "cell_type": "code",
   "execution_count": 3,
   "id": "57de2104",
   "metadata": {},
   "outputs": [],
   "source": [
    "sigma_product_f_s_N_factored = (\n",
    "    (-1)**(N*(N-1)/2)*\n",
    "    Product(factorial(k),(k,1,N-1))*\n",
    "    factorial(N)*\n",
    "    sigma(Sum(mu[j],(j,0,N)),g2,g3)*\n",
    "    Product(Product(Piecewise((sigma(mu[l] - mu[m], g2, g3),l<m),(1,True)),(l,0,N-1)),(m,0,N-1))*\n",
    "    Product(Piecewise((sigma(mu[l] - mu[N], g2, g3),l<N),(1,True)),(l,0,N))/\n",
    "    Product(sigma(mu[n],g2,g3)**(N),(n,0,N))/\n",
    "    Product(sigma(mu[n],g2,g3),(n,0,N))\n",
    ")\n",
    "\n",
    "sigma_product_f_s_N_over_N_minus_1 = (sigma_product_f_s_N_factored/sigma_product_f_s.subs(N,N-1))\n",
    "\n",
    "subs1_list = [\n",
    "    (Product(Piecewise((sigma(mu[l] - mu[N], g2, g3),l<N),(1,True)),(l,0,N)), \n",
    "     (-1)**N*Product(sigma(z - xi[l], g2, g3),(l,0,N))/sigma(z - xi[N], g2, g3)),\n",
    "    (Product(sigma(mu[n],g2,g3),(n,0,N)),Product(sigma(xi[n],g2,g3),(n,0,N))*sigma(z,g2,g3)/sigma(xi[N],g2,g3)),\n",
    "    (sigma(Sum(mu[j],(j,0,N-1)),g2,g3),-sigma(xi[N],g2,g3)),\n",
    "    (Sum(mu[j],(j,0,N)),-xi[N]+z),\n",
    "    (sigma(mu[N],g2,g3),sigma(z,g2,g3))\n",
    "]\n",
    "subs2_list = [\n",
    "    ((-1)**(2*N)*Product(sigma(z - xi[l], g2, g3),(l,0,N)), \n",
    "   Product(sigma(z - xi[l], g2, g3)/sigma(xi[l], g2, g3)/sigma(z, g2, g3),(l,0,N)) *\n",
    "   Product(sigma(xi[n], g2, g3),(n,0,N)) *\n",
    "   (Product(sigma(z, g2, g3),(l,0,N)).doit()))\n",
    "]\n",
    "\n",
    "wp_sigma_product_fs_N_over_N_minus_1_mu_n = Eq(WPdet(N)/WPdet(N-1), sigma_product_f_s_N_over_N_minus_1).subs(\n",
    "    Product(sigma(mu[n],g2,g3)**N,(n,0,N)),sigma(mu[N],g2,g3)**N*Product(sigma(mu[n],g2,g3)**N,(n,0,N-1))\n",
    ").expand()\n",
    "\n",
    "wp_sigma_product_fs_N_over_N_minus_1 = (\n",
    "    wp_sigma_product_fs_N_over_N_minus_1_mu_n\n",
    "    .subs(subs1_list)\n",
    "    .subs(subs2_list)\n",
    ").expand()\n",
    "sigma_product_f_s_N_over_N_minus_1 = wp_sigma_product_fs_N_over_N_minus_1.rhs\n",
    "\n",
    "\n",
    "def p_matrix_f_s(N): \n",
    "    return Matrix([[1, *[pw(x,g2,g3).diff((x,j)).subs(x,mu[k]) for j in range(N)]] for k in range(N+1)])\n",
    "\n",
    "def p_matrix_f_s_1dz(N): \n",
    "    return Matrix([*[[1, *[pw(x,g2,g3).diff((x,j)).subs(x,mu[k]) for j in range(N)]] for k in range(N)],\n",
    "       [1, *[pw(z,g2,g3).diff((z,j)) for j in range(N)]]])\n",
    "\n",
    "def frob_stick_1dz_ratio(Nval, evaluated=False):\n",
    "    \"\"\"\n",
    "    Frobenius Stickelberger adapted for Kronecker theta functions\n",
    "    \"\"\"\n",
    "    if evaluated:\n",
    "        return Eq(\n",
    "            (((-1)**(Nval-1)/factorial(Nval) * p_matrix_f_s_1dz(Nval).det()/p_matrix_f_s(Nval-1).det()).expand())\n",
    "                  .collect([pw(z,g2,g3), diff(pw(z,g2,g3),z)],factor), \n",
    "            (-1)**(Nval-1)/factorial(Nval) * sigma_product_f_s_N_over_N_minus_1.subs(N,Nval).doit().subs(\n",
    "            xi[Nval],-Sum(xi[j],(j,0,Nval-1)).doit()\n",
    "        ).subs([(xi[j],mu[j]) for j in range(Nval)]))\n",
    "    \n",
    "    return Eq(\n",
    "        (-1)**(Nval-1)/factorial(Nval) * Det(p_matrix_f_s_1dz(Nval))/Det(p_matrix_f_s(Nval-1)), \n",
    "        \n",
    "        (-1)**(Nval-1)/factorial(Nval) * sigma_product_f_s_N_over_N_minus_1.subs(N,Nval).doit().subs(\n",
    "            xi[Nval],-Sum(xi[j],(j,0,Nval-1)).doit()\n",
    "        ).subs([(xi[j],mu[j]) for j in range(Nval)]))"
   ]
  },
  {
   "cell_type": "markdown",
   "id": "34eec1d1",
   "metadata": {},
   "source": [
    "## The case with 5 modes"
   ]
  },
  {
   "cell_type": "code",
   "execution_count": 4,
   "id": "246e221e",
   "metadata": {},
   "outputs": [
    {
     "data": {
      "text/latex": [
       "$\\displaystyle - \\frac{\\operatorname{Det}{\\left(\\left[\\begin{matrix}1 & \\operatorname{pw}{\\left({\\mu}_{0},g_{2},g_{3} \\right)} & \\frac{\\partial}{\\partial {\\mu}_{0}} \\operatorname{pw}{\\left({\\mu}_{0},g_{2},g_{3} \\right)} & \\frac{\\partial^{2}}{\\partial {\\mu}_{0}^{2}} \\operatorname{pw}{\\left({\\mu}_{0},g_{2},g_{3} \\right)} & \\frac{\\partial^{3}}{\\partial {\\mu}_{0}^{3}} \\operatorname{pw}{\\left({\\mu}_{0},g_{2},g_{3} \\right)}\\\\1 & \\operatorname{pw}{\\left({\\mu}_{1},g_{2},g_{3} \\right)} & \\frac{\\partial}{\\partial {\\mu}_{1}} \\operatorname{pw}{\\left({\\mu}_{1},g_{2},g_{3} \\right)} & \\frac{\\partial^{2}}{\\partial {\\mu}_{1}^{2}} \\operatorname{pw}{\\left({\\mu}_{1},g_{2},g_{3} \\right)} & \\frac{\\partial^{3}}{\\partial {\\mu}_{1}^{3}} \\operatorname{pw}{\\left({\\mu}_{1},g_{2},g_{3} \\right)}\\\\1 & \\operatorname{pw}{\\left({\\mu}_{2},g_{2},g_{3} \\right)} & \\frac{\\partial}{\\partial {\\mu}_{2}} \\operatorname{pw}{\\left({\\mu}_{2},g_{2},g_{3} \\right)} & \\frac{\\partial^{2}}{\\partial {\\mu}_{2}^{2}} \\operatorname{pw}{\\left({\\mu}_{2},g_{2},g_{3} \\right)} & \\frac{\\partial^{3}}{\\partial {\\mu}_{2}^{3}} \\operatorname{pw}{\\left({\\mu}_{2},g_{2},g_{3} \\right)}\\\\1 & \\operatorname{pw}{\\left({\\mu}_{3},g_{2},g_{3} \\right)} & \\frac{\\partial}{\\partial {\\mu}_{3}} \\operatorname{pw}{\\left({\\mu}_{3},g_{2},g_{3} \\right)} & \\frac{\\partial^{2}}{\\partial {\\mu}_{3}^{2}} \\operatorname{pw}{\\left({\\mu}_{3},g_{2},g_{3} \\right)} & \\frac{\\partial^{3}}{\\partial {\\mu}_{3}^{3}} \\operatorname{pw}{\\left({\\mu}_{3},g_{2},g_{3} \\right)}\\\\1 & \\operatorname{pw}{\\left(z,g_{2},g_{3} \\right)} & \\frac{\\partial}{\\partial z} \\operatorname{pw}{\\left(z,g_{2},g_{3} \\right)} & \\frac{\\partial^{2}}{\\partial z^{2}} \\operatorname{pw}{\\left(z,g_{2},g_{3} \\right)} & \\frac{\\partial^{3}}{\\partial z^{3}} \\operatorname{pw}{\\left(z,g_{2},g_{3} \\right)}\\end{matrix}\\right] \\right)} \\operatorname{Det}^{-1}{\\left(\\left[\\begin{matrix}1 & \\operatorname{pw}{\\left({\\mu}_{0},g_{2},g_{3} \\right)} & \\frac{\\partial}{\\partial {\\mu}_{0}} \\operatorname{pw}{\\left({\\mu}_{0},g_{2},g_{3} \\right)} & \\frac{\\partial^{2}}{\\partial {\\mu}_{0}^{2}} \\operatorname{pw}{\\left({\\mu}_{0},g_{2},g_{3} \\right)}\\\\1 & \\operatorname{pw}{\\left({\\mu}_{1},g_{2},g_{3} \\right)} & \\frac{\\partial}{\\partial {\\mu}_{1}} \\operatorname{pw}{\\left({\\mu}_{1},g_{2},g_{3} \\right)} & \\frac{\\partial^{2}}{\\partial {\\mu}_{1}^{2}} \\operatorname{pw}{\\left({\\mu}_{1},g_{2},g_{3} \\right)}\\\\1 & \\operatorname{pw}{\\left({\\mu}_{2},g_{2},g_{3} \\right)} & \\frac{\\partial}{\\partial {\\mu}_{2}} \\operatorname{pw}{\\left({\\mu}_{2},g_{2},g_{3} \\right)} & \\frac{\\partial^{2}}{\\partial {\\mu}_{2}^{2}} \\operatorname{pw}{\\left({\\mu}_{2},g_{2},g_{3} \\right)}\\\\1 & \\operatorname{pw}{\\left({\\mu}_{3},g_{2},g_{3} \\right)} & \\frac{\\partial}{\\partial {\\mu}_{3}} \\operatorname{pw}{\\left({\\mu}_{3},g_{2},g_{3} \\right)} & \\frac{\\partial^{2}}{\\partial {\\mu}_{3}^{2}} \\operatorname{pw}{\\left({\\mu}_{3},g_{2},g_{3} \\right)}\\end{matrix}\\right] \\right)}}{24} = - \\frac{\\sigma{\\left(z - {\\mu}_{0},g_{2},g_{3} \\right)} \\sigma{\\left(z - {\\mu}_{1},g_{2},g_{3} \\right)} \\sigma{\\left(z - {\\mu}_{2},g_{2},g_{3} \\right)} \\sigma{\\left(z - {\\mu}_{3},g_{2},g_{3} \\right)} \\sigma{\\left(z + {\\mu}_{0} + {\\mu}_{1} + {\\mu}_{2} + {\\mu}_{3},g_{2},g_{3} \\right)}}{\\sigma^{5}{\\left(z,g_{2},g_{3} \\right)} \\sigma{\\left(- {\\mu}_{0} - {\\mu}_{1} - {\\mu}_{2} - {\\mu}_{3},g_{2},g_{3} \\right)} \\sigma{\\left({\\mu}_{0},g_{2},g_{3} \\right)} \\sigma{\\left({\\mu}_{1},g_{2},g_{3} \\right)} \\sigma{\\left({\\mu}_{2},g_{2},g_{3} \\right)} \\sigma{\\left({\\mu}_{3},g_{2},g_{3} \\right)}}$"
      ],
      "text/plain": [
       "Eq(-Det(Matrix([\n",
       "[1, pw(mu[0], g2, g3), Derivative(pw(mu[0], g2, g3), mu[0]), Derivative(pw(mu[0], g2, g3), (mu[0], 2)), Derivative(pw(mu[0], g2, g3), (mu[0], 3))],\n",
       "[1, pw(mu[1], g2, g3), Derivative(pw(mu[1], g2, g3), mu[1]), Derivative(pw(mu[1], g2, g3), (mu[1], 2)), Derivative(pw(mu[1], g2, g3), (mu[1], 3))],\n",
       "[1, pw(mu[2], g2, g3), Derivative(pw(mu[2], g2, g3), mu[2]), Derivative(pw(mu[2], g2, g3), (mu[2], 2)), Derivative(pw(mu[2], g2, g3), (mu[2], 3))],\n",
       "[1, pw(mu[3], g2, g3), Derivative(pw(mu[3], g2, g3), mu[3]), Derivative(pw(mu[3], g2, g3), (mu[3], 2)), Derivative(pw(mu[3], g2, g3), (mu[3], 3))],\n",
       "[1,     pw(z, g2, g3),         Derivative(pw(z, g2, g3), z),         Derivative(pw(z, g2, g3), (z, 2)),         Derivative(pw(z, g2, g3), (z, 3))]]))*Det(Matrix([\n",
       "[1, pw(mu[0], g2, g3), Derivative(pw(mu[0], g2, g3), mu[0]), Derivative(pw(mu[0], g2, g3), (mu[0], 2))],\n",
       "[1, pw(mu[1], g2, g3), Derivative(pw(mu[1], g2, g3), mu[1]), Derivative(pw(mu[1], g2, g3), (mu[1], 2))],\n",
       "[1, pw(mu[2], g2, g3), Derivative(pw(mu[2], g2, g3), mu[2]), Derivative(pw(mu[2], g2, g3), (mu[2], 2))],\n",
       "[1, pw(mu[3], g2, g3), Derivative(pw(mu[3], g2, g3), mu[3]), Derivative(pw(mu[3], g2, g3), (mu[3], 2))]]))**(-1)/24, -sigma(z - mu[0], g2, g3)*sigma(z - mu[1], g2, g3)*sigma(z - mu[2], g2, g3)*sigma(z - mu[3], g2, g3)*sigma(z + mu[0] + mu[1] + mu[2] + mu[3], g2, g3)/(sigma(z, g2, g3)**5*sigma(-mu[0] - mu[1] - mu[2] - mu[3], g2, g3)*sigma(mu[0], g2, g3)*sigma(mu[1], g2, g3)*sigma(mu[2], g2, g3)*sigma(mu[3], g2, g3)))"
      ]
     },
     "execution_count": 4,
     "metadata": {},
     "output_type": "execute_result"
    }
   ],
   "source": [
    "unevaluated_4 = frob_stick_1dz_ratio(Nval=4)\n",
    "unevaluated_4"
   ]
  },
  {
   "cell_type": "code",
   "execution_count": 5,
   "id": "4562882a",
   "metadata": {},
   "outputs": [],
   "source": [
    "vals = [mu[_k] for _k in range(4)]\n",
    "vals.append(z)\n",
    "wpk_subs = [wpk(_n).subs(z, val) for val in vals for _n in range(1,4)][::-1]"
   ]
  },
  {
   "cell_type": "code",
   "execution_count": 6,
   "id": "0ad41a0a",
   "metadata": {},
   "outputs": [],
   "source": [
    "evaluated_4 = frob_stick_1dz_ratio(Nval=4, evaluated=True)"
   ]
  },
  {
   "cell_type": "code",
   "execution_count": 7,
   "id": "6b01964f",
   "metadata": {},
   "outputs": [],
   "source": [
    "evaluated_4_with_subs = evaluated_4.subs([_eq.args for _eq in wpk_subs])"
   ]
  },
  {
   "cell_type": "code",
   "execution_count": 8,
   "id": "59ed6d5a",
   "metadata": {
    "scrolled": true
   },
   "outputs": [
    {
     "data": {
      "text/latex": [
       "$\\displaystyle - \\frac{\\operatorname{Det}{\\left(\\left[\\begin{matrix}1 & - \\operatorname{pw}{\\left(z,g_{2},g_{3} \\right)} + \\operatorname{pw}{\\left({\\mu}_{0},g_{2},g_{3} \\right)} & \\operatorname{pwp}{\\left({\\mu}_{0},g_{2},g_{3} \\right)} & \\left(- \\operatorname{pw}{\\left(z,g_{2},g_{3} \\right)} + \\operatorname{pw}{\\left({\\mu}_{0},g_{2},g_{3} \\right)}\\right)^{2} & \\left(- \\operatorname{pw}{\\left(z,g_{2},g_{3} \\right)} + \\operatorname{pw}{\\left({\\mu}_{0},g_{2},g_{3} \\right)}\\right) \\operatorname{pwp}{\\left({\\mu}_{0},g_{2},g_{3} \\right)}\\\\1 & - \\operatorname{pw}{\\left(z,g_{2},g_{3} \\right)} + \\operatorname{pw}{\\left({\\mu}_{1},g_{2},g_{3} \\right)} & \\operatorname{pwp}{\\left({\\mu}_{1},g_{2},g_{3} \\right)} & \\left(- \\operatorname{pw}{\\left(z,g_{2},g_{3} \\right)} + \\operatorname{pw}{\\left({\\mu}_{1},g_{2},g_{3} \\right)}\\right)^{2} & \\left(- \\operatorname{pw}{\\left(z,g_{2},g_{3} \\right)} + \\operatorname{pw}{\\left({\\mu}_{1},g_{2},g_{3} \\right)}\\right) \\operatorname{pwp}{\\left({\\mu}_{1},g_{2},g_{3} \\right)}\\\\1 & - \\operatorname{pw}{\\left(z,g_{2},g_{3} \\right)} + \\operatorname{pw}{\\left({\\mu}_{2},g_{2},g_{3} \\right)} & \\operatorname{pwp}{\\left({\\mu}_{2},g_{2},g_{3} \\right)} & \\left(- \\operatorname{pw}{\\left(z,g_{2},g_{3} \\right)} + \\operatorname{pw}{\\left({\\mu}_{2},g_{2},g_{3} \\right)}\\right)^{2} & \\left(- \\operatorname{pw}{\\left(z,g_{2},g_{3} \\right)} + \\operatorname{pw}{\\left({\\mu}_{2},g_{2},g_{3} \\right)}\\right) \\operatorname{pwp}{\\left({\\mu}_{2},g_{2},g_{3} \\right)}\\\\1 & - \\operatorname{pw}{\\left(z,g_{2},g_{3} \\right)} + \\operatorname{pw}{\\left({\\mu}_{3},g_{2},g_{3} \\right)} & \\operatorname{pwp}{\\left({\\mu}_{3},g_{2},g_{3} \\right)} & \\left(- \\operatorname{pw}{\\left(z,g_{2},g_{3} \\right)} + \\operatorname{pw}{\\left({\\mu}_{3},g_{2},g_{3} \\right)}\\right)^{2} & \\left(- \\operatorname{pw}{\\left(z,g_{2},g_{3} \\right)} + \\operatorname{pw}{\\left({\\mu}_{3},g_{2},g_{3} \\right)}\\right) \\operatorname{pwp}{\\left({\\mu}_{3},g_{2},g_{3} \\right)}\\\\1 & 0 & \\operatorname{pwp}{\\left(z,g_{2},g_{3} \\right)} & 0 & 0\\end{matrix}\\right] \\right)} \\operatorname{Det}^{-1}{\\left(\\left[\\begin{matrix}1 & \\operatorname{pw}{\\left({\\mu}_{0},g_{2},g_{3} \\right)} & \\operatorname{pwp}{\\left({\\mu}_{0},g_{2},g_{3} \\right)} & \\operatorname{pw}^{2}{\\left({\\mu}_{0},g_{2},g_{3} \\right)}\\\\1 & \\operatorname{pw}{\\left({\\mu}_{1},g_{2},g_{3} \\right)} & \\operatorname{pwp}{\\left({\\mu}_{1},g_{2},g_{3} \\right)} & \\operatorname{pw}^{2}{\\left({\\mu}_{1},g_{2},g_{3} \\right)}\\\\1 & \\operatorname{pw}{\\left({\\mu}_{2},g_{2},g_{3} \\right)} & \\operatorname{pwp}{\\left({\\mu}_{2},g_{2},g_{3} \\right)} & \\operatorname{pw}^{2}{\\left({\\mu}_{2},g_{2},g_{3} \\right)}\\\\1 & \\operatorname{pw}{\\left({\\mu}_{3},g_{2},g_{3} \\right)} & \\operatorname{pwp}{\\left({\\mu}_{3},g_{2},g_{3} \\right)} & \\operatorname{pw}^{2}{\\left({\\mu}_{3},g_{2},g_{3} \\right)}\\end{matrix}\\right] \\right)}}{2} = - \\frac{\\sigma{\\left(z - {\\mu}_{0},g_{2},g_{3} \\right)} \\sigma{\\left(z - {\\mu}_{1},g_{2},g_{3} \\right)} \\sigma{\\left(z - {\\mu}_{2},g_{2},g_{3} \\right)} \\sigma{\\left(z - {\\mu}_{3},g_{2},g_{3} \\right)} \\sigma{\\left(z + {\\mu}_{0} + {\\mu}_{1} + {\\mu}_{2} + {\\mu}_{3},g_{2},g_{3} \\right)}}{\\sigma^{5}{\\left(z,g_{2},g_{3} \\right)} \\sigma{\\left(- {\\mu}_{0} - {\\mu}_{1} - {\\mu}_{2} - {\\mu}_{3},g_{2},g_{3} \\right)} \\sigma{\\left({\\mu}_{0},g_{2},g_{3} \\right)} \\sigma{\\left({\\mu}_{1},g_{2},g_{3} \\right)} \\sigma{\\left({\\mu}_{2},g_{2},g_{3} \\right)} \\sigma{\\left({\\mu}_{3},g_{2},g_{3} \\right)}}$"
      ],
      "text/plain": [
       "Eq(-Det(Matrix([\n",
       "[1, -pw(z, g2, g3) + pw(mu[0], g2, g3), pwp(mu[0], g2, g3), (-pw(z, g2, g3) + pw(mu[0], g2, g3))**2, (-pw(z, g2, g3) + pw(mu[0], g2, g3))*pwp(mu[0], g2, g3)],\n",
       "[1, -pw(z, g2, g3) + pw(mu[1], g2, g3), pwp(mu[1], g2, g3), (-pw(z, g2, g3) + pw(mu[1], g2, g3))**2, (-pw(z, g2, g3) + pw(mu[1], g2, g3))*pwp(mu[1], g2, g3)],\n",
       "[1, -pw(z, g2, g3) + pw(mu[2], g2, g3), pwp(mu[2], g2, g3), (-pw(z, g2, g3) + pw(mu[2], g2, g3))**2, (-pw(z, g2, g3) + pw(mu[2], g2, g3))*pwp(mu[2], g2, g3)],\n",
       "[1, -pw(z, g2, g3) + pw(mu[3], g2, g3), pwp(mu[3], g2, g3), (-pw(z, g2, g3) + pw(mu[3], g2, g3))**2, (-pw(z, g2, g3) + pw(mu[3], g2, g3))*pwp(mu[3], g2, g3)],\n",
       "[1,                                  0,     pwp(z, g2, g3),                                       0,                                                       0]]))*Det(Matrix([\n",
       "[1, pw(mu[0], g2, g3), pwp(mu[0], g2, g3), pw(mu[0], g2, g3)**2],\n",
       "[1, pw(mu[1], g2, g3), pwp(mu[1], g2, g3), pw(mu[1], g2, g3)**2],\n",
       "[1, pw(mu[2], g2, g3), pwp(mu[2], g2, g3), pw(mu[2], g2, g3)**2],\n",
       "[1, pw(mu[3], g2, g3), pwp(mu[3], g2, g3), pw(mu[3], g2, g3)**2]]))**(-1)/2, -sigma(z - mu[0], g2, g3)*sigma(z - mu[1], g2, g3)*sigma(z - mu[2], g2, g3)*sigma(z - mu[3], g2, g3)*sigma(z + mu[0] + mu[1] + mu[2] + mu[3], g2, g3)/(sigma(z, g2, g3)**5*sigma(-mu[0] - mu[1] - mu[2] - mu[3], g2, g3)*sigma(mu[0], g2, g3)*sigma(mu[1], g2, g3)*sigma(mu[2], g2, g3)*sigma(mu[3], g2, g3)))"
      ]
     },
     "execution_count": 8,
     "metadata": {},
     "output_type": "execute_result"
    }
   ],
   "source": [
    "__x1234 = Eq(-12*Det(Matrix([\n",
    " [1, pw(mu[0], g2, g3), pwp(mu[0], g2, g3), pw(mu[0], g2, g3)**2, pw(mu[0], g2, g3)*pwp(mu[0], g2, g3)],\n",
    " [1, pw(mu[1], g2, g3), pwp(mu[1], g2, g3), pw(mu[1], g2, g3)**2, pw(mu[1], g2, g3)*pwp(mu[1], g2, g3)],\n",
    " [1, pw(mu[2], g2, g3), pwp(mu[2], g2, g3), pw(mu[2], g2, g3)**2, pw(mu[2], g2, g3)*pwp(mu[2], g2, g3)],\n",
    " [1, pw(mu[3], g2, g3), pwp(mu[3], g2, g3), pw(mu[3], g2, g3)**2, pw(mu[3], g2, g3)*pwp(mu[3], g2, g3)],\n",
    " [1,     pw(z, g2, g3),     pwp(z, g2, g3), pw(z, g2, g3)**2, pw(z, g2, g3)*pwp(z, g2, g3)]]))*Det(Matrix([\n",
    " [1, pw(mu[0], g2, g3), pwp(mu[0], g2, g3), pw(mu[0], g2, g3)**2],\n",
    " [1, pw(mu[1], g2, g3), pwp(mu[1], g2, g3), pw(mu[1], g2, g3)**2],\n",
    " [1, pw(mu[2], g2, g3), pwp(mu[2], g2, g3), pw(mu[2], g2, g3)**2],\n",
    " [1, pw(mu[3], g2, g3), pwp(mu[3], g2, g3), pw(mu[3], g2, g3)**2]]))**(-1)/24,\n",
    " -sigma(z - mu[0], g2, g3)*sigma(z - mu[1], g2, g3)*\n",
    "             sigma(z - mu[2], g2, g3)*sigma(z - mu[3], g2, g3)*\n",
    "             sigma(z + mu[0] + mu[1] + mu[2] + mu[3], g2, g3)/\n",
    "             (sigma(z, g2, g3)**5*\n",
    "              sigma(-mu[0] - mu[1] - mu[2] - mu[3], g2, g3)*\n",
    "              sigma(mu[0], g2, g3)*sigma(mu[1], g2, g3)*sigma(mu[2], g2, g3)*sigma(mu[3], g2, g3))\n",
    ")\n",
    "\n",
    "__x1234b = Eq(-12*Det(Matrix([\n",
    " [1, pw(mu[0], g2, g3), pwp(mu[0], g2, g3), pw(mu[0], g2, g3)**2 - 2*pw(mu[0], g2, g3)*pw(z, g2, g3) + pw(z, g2, g3)**2, pw(mu[0], g2, g3)*pwp(mu[0], g2, g3)],\n",
    " [1, pw(mu[1], g2, g3), pwp(mu[1], g2, g3), pw(mu[1], g2, g3)**2- 2*pw(mu[1], g2, g3)*pw(z, g2, g3) + pw(z, g2, g3)**2, pw(mu[1], g2, g3)*pwp(mu[1], g2, g3)],\n",
    " [1, pw(mu[2], g2, g3), pwp(mu[2], g2, g3), pw(mu[2], g2, g3)**2- 2*pw(mu[2], g2, g3)*pw(z, g2, g3) + pw(z, g2, g3)**2, pw(mu[2], g2, g3)*pwp(mu[2], g2, g3)],\n",
    " [1, pw(mu[3], g2, g3), pwp(mu[3], g2, g3), pw(mu[3], g2, g3)**2- 2*pw(mu[3], g2, g3)*pw(z, g2, g3) + pw(z, g2, g3)**2, pw(mu[3], g2, g3)*pwp(mu[3], g2, g3)],\n",
    " [1,     pw(z, g2, g3),     pwp(z, g2, g3), 0, pw(z, g2, g3)*pwp(z, g2, g3)]]))*Det(Matrix([\n",
    " [1, pw(mu[0], g2, g3), pwp(mu[0], g2, g3), pw(mu[0], g2, g3)**2],\n",
    " [1, pw(mu[1], g2, g3), pwp(mu[1], g2, g3), pw(mu[1], g2, g3)**2],\n",
    " [1, pw(mu[2], g2, g3), pwp(mu[2], g2, g3), pw(mu[2], g2, g3)**2],\n",
    " [1, pw(mu[3], g2, g3), pwp(mu[3], g2, g3), pw(mu[3], g2, g3)**2]]))**(-1)/24,\n",
    " -sigma(z - mu[0], g2, g3)*sigma(z - mu[1], g2, g3)*\n",
    "             sigma(z - mu[2], g2, g3)*sigma(z - mu[3], g2, g3)*\n",
    "             sigma(z + mu[0] + mu[1] + mu[2] + mu[3], g2, g3)/\n",
    "             (sigma(z, g2, g3)**5*\n",
    "              sigma(-mu[0] - mu[1] - mu[2] - mu[3], g2, g3)*\n",
    "              sigma(mu[0], g2, g3)*sigma(mu[1], g2, g3)*sigma(mu[2], g2, g3)*sigma(mu[3], g2, g3))\n",
    ")\n",
    "\n",
    "__x1234c = Eq(-12*Det(Matrix([\n",
    " [1, pw(mu[0], g2, g3) - pw(z, g2, g3), pwp(mu[0], g2, g3), factor(pw(mu[0], g2, g3)**2 - 2*pw(mu[0], g2, g3)*pw(z, g2, g3) + pw(z, g2, g3)**2), factor(pw(mu[0], g2, g3)*pwp(mu[0], g2, g3) - pw(z, g2, g3)*pwp(mu[0], g2, g3))],\n",
    " [1, pw(mu[1], g2, g3) - pw(z, g2, g3), pwp(mu[1], g2, g3), factor(pw(mu[1], g2, g3)**2- 2*pw(mu[1], g2, g3)*pw(z, g2, g3) + pw(z, g2, g3)**2), factor(pw(mu[1], g2, g3)*pwp(mu[1], g2, g3) - pw(z, g2, g3)*pwp(mu[1], g2, g3))],\n",
    " [1, pw(mu[2], g2, g3) - pw(z, g2, g3), pwp(mu[2], g2, g3), factor(pw(mu[2], g2, g3)**2- 2*pw(mu[2], g2, g3)*pw(z, g2, g3) + pw(z, g2, g3)**2), factor(pw(mu[2], g2, g3)*pwp(mu[2], g2, g3) - pw(z, g2, g3)*pwp(mu[2], g2, g3))],\n",
    " [1, pw(mu[3], g2, g3) - pw(z, g2, g3), pwp(mu[3], g2, g3), factor(pw(mu[3], g2, g3)**2- 2*pw(mu[3], g2, g3)*pw(z, g2, g3) + pw(z, g2, g3)**2), factor(pw(mu[3], g2, g3)*pwp(mu[3], g2, g3) - pw(z, g2, g3)*pwp(mu[3], g2, g3))],\n",
    " [1,     0,     pwp(z, g2, g3), 0, 0]]))*Det(Matrix([\n",
    " [1, pw(mu[0], g2, g3), pwp(mu[0], g2, g3), pw(mu[0], g2, g3)**2],\n",
    " [1, pw(mu[1], g2, g3), pwp(mu[1], g2, g3), pw(mu[1], g2, g3)**2],\n",
    " [1, pw(mu[2], g2, g3), pwp(mu[2], g2, g3), pw(mu[2], g2, g3)**2],\n",
    " [1, pw(mu[3], g2, g3), pwp(mu[3], g2, g3), pw(mu[3], g2, g3)**2]]))**(-1)/24,\n",
    " -sigma(z - mu[0], g2, g3)*sigma(z - mu[1], g2, g3)*\n",
    "             sigma(z - mu[2], g2, g3)*sigma(z - mu[3], g2, g3)*\n",
    "             sigma(z + mu[0] + mu[1] + mu[2] + mu[3], g2, g3)/\n",
    "             (sigma(z, g2, g3)**5*\n",
    "              sigma(-mu[0] - mu[1] - mu[2] - mu[3], g2, g3)*\n",
    "              sigma(mu[0], g2, g3)*sigma(mu[1], g2, g3)*sigma(mu[2], g2, g3)*sigma(mu[3], g2, g3))\n",
    ")\n",
    "\n",
    "__x1234c"
   ]
  },
  {
   "cell_type": "code",
   "execution_count": 9,
   "id": "6320e0d1",
   "metadata": {},
   "outputs": [
    {
     "data": {
      "text/latex": [
       "$\\displaystyle \\operatorname{pw}{\\left(z,g_{2},g_{3} \\right)} - \\operatorname{pw}{\\left({\\mu}_{k},g_{2},g_{3} \\right)} = {F}_{k}$"
      ],
      "text/plain": [
       "Eq(pw(z, g2, g3) - pw(mu[k], g2, g3), F[k])"
      ]
     },
     "execution_count": 9,
     "metadata": {},
     "output_type": "execute_result"
    }
   ],
   "source": [
    "Fk_eq = Eq(pw(z,g2,g3) - pw(mu[k],g2,g3), F[k])\n",
    "Fk_eq"
   ]
  },
  {
   "cell_type": "code",
   "execution_count": 10,
   "id": "2dc501c9",
   "metadata": {},
   "outputs": [
    {
     "data": {
      "text/plain": [
       "(pw(z, g2, g3) - pw(mu[k], g2, g3), F[k])"
      ]
     },
     "execution_count": 10,
     "metadata": {},
     "output_type": "execute_result"
    }
   ],
   "source": [
    "(Fk_eq.lhs, Fk_eq.rhs)"
   ]
  },
  {
   "cell_type": "code",
   "execution_count": 11,
   "id": "9c772fe0",
   "metadata": {},
   "outputs": [
    {
     "data": {
      "text/latex": [
       "$\\displaystyle \\operatorname{Det}{\\left(\\left[\\begin{matrix}1 & \\operatorname{pw}{\\left({\\mu}_{0},g_{2},g_{3} \\right)} & \\operatorname{pwp}{\\left({\\mu}_{0},g_{2},g_{3} \\right)} & \\operatorname{pw}^{2}{\\left({\\mu}_{0},g_{2},g_{3} \\right)}\\\\1 & \\operatorname{pw}{\\left({\\mu}_{1},g_{2},g_{3} \\right)} & \\operatorname{pwp}{\\left({\\mu}_{1},g_{2},g_{3} \\right)} & \\operatorname{pw}^{2}{\\left({\\mu}_{1},g_{2},g_{3} \\right)}\\\\1 & \\operatorname{pw}{\\left({\\mu}_{2},g_{2},g_{3} \\right)} & \\operatorname{pwp}{\\left({\\mu}_{2},g_{2},g_{3} \\right)} & \\operatorname{pw}^{2}{\\left({\\mu}_{2},g_{2},g_{3} \\right)}\\\\1 & \\operatorname{pw}{\\left({\\mu}_{3},g_{2},g_{3} \\right)} & \\operatorname{pwp}{\\left({\\mu}_{3},g_{2},g_{3} \\right)} & \\operatorname{pw}^{2}{\\left({\\mu}_{3},g_{2},g_{3} \\right)}\\end{matrix}\\right] \\right)} = C$"
      ],
      "text/plain": [
       "Eq(Det(Matrix([\n",
       "[1, pw(mu[0], g2, g3), pwp(mu[0], g2, g3), pw(mu[0], g2, g3)**2],\n",
       "[1, pw(mu[1], g2, g3), pwp(mu[1], g2, g3), pw(mu[1], g2, g3)**2],\n",
       "[1, pw(mu[2], g2, g3), pwp(mu[2], g2, g3), pw(mu[2], g2, g3)**2],\n",
       "[1, pw(mu[3], g2, g3), pwp(mu[3], g2, g3), pw(mu[3], g2, g3)**2]])), C)"
      ]
     },
     "execution_count": 11,
     "metadata": {},
     "output_type": "execute_result"
    },
    {
     "data": {
      "text/latex": [
       "$\\displaystyle - \\frac{\\operatorname{Det}{\\left(\\left[\\begin{matrix}1 & - {F}_{0} & \\operatorname{pwp}{\\left({\\mu}_{0},g_{2},g_{3} \\right)} & {F}_{0}^{2} & - \\operatorname{pwp}{\\left({\\mu}_{0},g_{2},g_{3} \\right)} {F}_{0}\\\\1 & - {F}_{1} & \\operatorname{pwp}{\\left({\\mu}_{1},g_{2},g_{3} \\right)} & {F}_{1}^{2} & - \\operatorname{pwp}{\\left({\\mu}_{1},g_{2},g_{3} \\right)} {F}_{1}\\\\1 & - {F}_{2} & \\operatorname{pwp}{\\left({\\mu}_{2},g_{2},g_{3} \\right)} & {F}_{2}^{2} & - \\operatorname{pwp}{\\left({\\mu}_{2},g_{2},g_{3} \\right)} {F}_{2}\\\\1 & - {F}_{3} & \\operatorname{pwp}{\\left({\\mu}_{3},g_{2},g_{3} \\right)} & {F}_{3}^{2} & - \\operatorname{pwp}{\\left({\\mu}_{3},g_{2},g_{3} \\right)} {F}_{3}\\\\1 & 0 & \\operatorname{pwp}{\\left(z,g_{2},g_{3} \\right)} & 0 & 0\\end{matrix}\\right] \\right)}}{2 C} = - \\frac{\\sigma{\\left(z - {\\mu}_{0},g_{2},g_{3} \\right)} \\sigma{\\left(z - {\\mu}_{1},g_{2},g_{3} \\right)} \\sigma{\\left(z - {\\mu}_{2},g_{2},g_{3} \\right)} \\sigma{\\left(z - {\\mu}_{3},g_{2},g_{3} \\right)} \\sigma{\\left(z + {\\mu}_{0} + {\\mu}_{1} + {\\mu}_{2} + {\\mu}_{3},g_{2},g_{3} \\right)}}{\\sigma^{5}{\\left(z,g_{2},g_{3} \\right)} \\sigma{\\left(- {\\mu}_{0} - {\\mu}_{1} - {\\mu}_{2} - {\\mu}_{3},g_{2},g_{3} \\right)} \\sigma{\\left({\\mu}_{0},g_{2},g_{3} \\right)} \\sigma{\\left({\\mu}_{1},g_{2},g_{3} \\right)} \\sigma{\\left({\\mu}_{2},g_{2},g_{3} \\right)} \\sigma{\\left({\\mu}_{3},g_{2},g_{3} \\right)}}$"
      ],
      "text/plain": [
       "Eq(-Det(Matrix([\n",
       "[1, -F[0], pwp(mu[0], g2, g3), F[0]**2, -pwp(mu[0], g2, g3)*F[0]],\n",
       "[1, -F[1], pwp(mu[1], g2, g3), F[1]**2, -pwp(mu[1], g2, g3)*F[1]],\n",
       "[1, -F[2], pwp(mu[2], g2, g3), F[2]**2, -pwp(mu[2], g2, g3)*F[2]],\n",
       "[1, -F[3], pwp(mu[3], g2, g3), F[3]**2, -pwp(mu[3], g2, g3)*F[3]],\n",
       "[1,     0,     pwp(z, g2, g3),       0,                        0]]))/(2*C), -sigma(z - mu[0], g2, g3)*sigma(z - mu[1], g2, g3)*sigma(z - mu[2], g2, g3)*sigma(z - mu[3], g2, g3)*sigma(z + mu[0] + mu[1] + mu[2] + mu[3], g2, g3)/(sigma(z, g2, g3)**5*sigma(-mu[0] - mu[1] - mu[2] - mu[3], g2, g3)*sigma(mu[0], g2, g3)*sigma(mu[1], g2, g3)*sigma(mu[2], g2, g3)*sigma(mu[3], g2, g3)))"
      ]
     },
     "execution_count": 11,
     "metadata": {},
     "output_type": "execute_result"
    }
   ],
   "source": [
    "C_det = Eq(Det(Matrix([\n",
    " [1, pw(mu[0], g2, g3), pwp(mu[0], g2, g3), pw(mu[0], g2, g3)**2],\n",
    " [1, pw(mu[1], g2, g3), pwp(mu[1], g2, g3), pw(mu[1], g2, g3)**2],\n",
    " [1, pw(mu[2], g2, g3), pwp(mu[2], g2, g3), pw(mu[2], g2, g3)**2],\n",
    " [1, pw(mu[3], g2, g3), pwp(mu[3], g2, g3), pw(mu[3], g2, g3)**2]])), C)\n",
    "\n",
    "__x1234d = __x1234c.subs([Fk_eq.subs(k,_k).args for _k in range(4)]).subs(*C_det.args)\n",
    "\n",
    "\n",
    "C_det\n",
    "__x1234d"
   ]
  },
  {
   "cell_type": "code",
   "execution_count": 12,
   "id": "572d55b3",
   "metadata": {},
   "outputs": [
    {
     "data": {
      "text/latex": [
       "$\\displaystyle - \\frac{\\operatorname{Det}{\\left(\\left[\\begin{matrix}- {F}_{0} & - \\operatorname{pwp}{\\left(z,g_{2},g_{3} \\right)} + \\operatorname{pwp}{\\left({\\mu}_{0},g_{2},g_{3} \\right)} & {F}_{0}^{2} & - \\operatorname{pwp}{\\left({\\mu}_{0},g_{2},g_{3} \\right)} {F}_{0}\\\\- {F}_{1} & - \\operatorname{pwp}{\\left(z,g_{2},g_{3} \\right)} + \\operatorname{pwp}{\\left({\\mu}_{1},g_{2},g_{3} \\right)} & {F}_{1}^{2} & - \\operatorname{pwp}{\\left({\\mu}_{1},g_{2},g_{3} \\right)} {F}_{1}\\\\- {F}_{2} & - \\operatorname{pwp}{\\left(z,g_{2},g_{3} \\right)} + \\operatorname{pwp}{\\left({\\mu}_{2},g_{2},g_{3} \\right)} & {F}_{2}^{2} & - \\operatorname{pwp}{\\left({\\mu}_{2},g_{2},g_{3} \\right)} {F}_{2}\\\\- {F}_{3} & - \\operatorname{pwp}{\\left(z,g_{2},g_{3} \\right)} + \\operatorname{pwp}{\\left({\\mu}_{3},g_{2},g_{3} \\right)} & {F}_{3}^{2} & - \\operatorname{pwp}{\\left({\\mu}_{3},g_{2},g_{3} \\right)} {F}_{3}\\end{matrix}\\right] \\right)}}{2 C} = - \\frac{\\sigma{\\left(z - {\\mu}_{0},g_{2},g_{3} \\right)} \\sigma{\\left(z - {\\mu}_{1},g_{2},g_{3} \\right)} \\sigma{\\left(z - {\\mu}_{2},g_{2},g_{3} \\right)} \\sigma{\\left(z - {\\mu}_{3},g_{2},g_{3} \\right)} \\sigma{\\left(z + {\\mu}_{0} + {\\mu}_{1} + {\\mu}_{2} + {\\mu}_{3},g_{2},g_{3} \\right)}}{\\sigma^{5}{\\left(z,g_{2},g_{3} \\right)} \\sigma{\\left(- {\\mu}_{0} - {\\mu}_{1} - {\\mu}_{2} - {\\mu}_{3},g_{2},g_{3} \\right)} \\sigma{\\left({\\mu}_{0},g_{2},g_{3} \\right)} \\sigma{\\left({\\mu}_{1},g_{2},g_{3} \\right)} \\sigma{\\left({\\mu}_{2},g_{2},g_{3} \\right)} \\sigma{\\left({\\mu}_{3},g_{2},g_{3} \\right)}}$"
      ],
      "text/plain": [
       "Eq(-Det(Matrix([\n",
       "[-F[0], -pwp(z, g2, g3) + pwp(mu[0], g2, g3), F[0]**2, -pwp(mu[0], g2, g3)*F[0]],\n",
       "[-F[1], -pwp(z, g2, g3) + pwp(mu[1], g2, g3), F[1]**2, -pwp(mu[1], g2, g3)*F[1]],\n",
       "[-F[2], -pwp(z, g2, g3) + pwp(mu[2], g2, g3), F[2]**2, -pwp(mu[2], g2, g3)*F[2]],\n",
       "[-F[3], -pwp(z, g2, g3) + pwp(mu[3], g2, g3), F[3]**2, -pwp(mu[3], g2, g3)*F[3]]]))/(2*C), -sigma(z - mu[0], g2, g3)*sigma(z - mu[1], g2, g3)*sigma(z - mu[2], g2, g3)*sigma(z - mu[3], g2, g3)*sigma(z + mu[0] + mu[1] + mu[2] + mu[3], g2, g3)/(sigma(z, g2, g3)**5*sigma(-mu[0] - mu[1] - mu[2] - mu[3], g2, g3)*sigma(mu[0], g2, g3)*sigma(mu[1], g2, g3)*sigma(mu[2], g2, g3)*sigma(mu[3], g2, g3)))"
      ]
     },
     "execution_count": 12,
     "metadata": {},
     "output_type": "execute_result"
    }
   ],
   "source": [
    "__x1234d3 = Eq(-Det(Matrix([\n",
    " [-F[0], pwp(mu[0], g2, g3) - pwp(z, g2, g3), F[0]**2, -pwp(mu[0], g2, g3)*F[0]],\n",
    " [-F[1], pwp(mu[1], g2, g3) - pwp(z, g2, g3), F[1]**2, -pwp(mu[1], g2, g3)*F[1]],\n",
    " [-F[2], pwp(mu[2], g2, g3) - pwp(z, g2, g3), F[2]**2, -pwp(mu[2], g2, g3)*F[2]],\n",
    " [-F[3], pwp(mu[3], g2, g3) - pwp(z, g2, g3), F[3]**2, -pwp(mu[3], g2, g3)*F[3]]]))/(2*C),\n",
    " -sigma(z - mu[0], g2, g3)*sigma(z - mu[1], g2, g3)*\n",
    "               sigma(z - mu[2], g2, g3)*\n",
    "               sigma(z - mu[3], g2, g3)*\n",
    "               sigma(z + mu[0] + mu[1] + mu[2] + mu[3], g2, g3)/\n",
    "               (sigma(z, g2, g3)**5*sigma(-mu[0] - mu[1] - mu[2] - mu[3], g2, g3)\n",
    "                *sigma(mu[0], g2, g3)*sigma(mu[1], g2, g3)*sigma(mu[2], g2, g3)*sigma(mu[3], g2, g3))\n",
    ")\n",
    "\n",
    "__x1234d3"
   ]
  },
  {
   "cell_type": "code",
   "execution_count": 13,
   "id": "8aa462ca",
   "metadata": {},
   "outputs": [
    {
     "data": {
      "text/latex": [
       "$\\displaystyle - \\frac{\\operatorname{pwp}{\\left(z,g_{2},g_{3} \\right)} \\operatorname{Det}{\\left(\\left[\\begin{matrix}1 & - {F}_{0} & {F}_{0}^{2} & - \\operatorname{pwp}{\\left({\\mu}_{0},g_{2},g_{3} \\right)} {F}_{0}\\\\1 & - {F}_{1} & {F}_{1}^{2} & - \\operatorname{pwp}{\\left({\\mu}_{1},g_{2},g_{3} \\right)} {F}_{1}\\\\1 & - {F}_{2} & {F}_{2}^{2} & - \\operatorname{pwp}{\\left({\\mu}_{2},g_{2},g_{3} \\right)} {F}_{2}\\\\1 & - {F}_{3} & {F}_{3}^{2} & - \\operatorname{pwp}{\\left({\\mu}_{3},g_{2},g_{3} \\right)} {F}_{3}\\end{matrix}\\right] \\right)}}{2 C} - \\frac{\\operatorname{Det}{\\left(\\left[\\begin{matrix}- {F}_{0} & \\operatorname{pwp}{\\left({\\mu}_{0},g_{2},g_{3} \\right)} & {F}_{0}^{2} & - \\operatorname{pwp}{\\left({\\mu}_{0},g_{2},g_{3} \\right)} {F}_{0}\\\\- {F}_{1} & \\operatorname{pwp}{\\left({\\mu}_{1},g_{2},g_{3} \\right)} & {F}_{1}^{2} & - \\operatorname{pwp}{\\left({\\mu}_{1},g_{2},g_{3} \\right)} {F}_{1}\\\\- {F}_{2} & \\operatorname{pwp}{\\left({\\mu}_{2},g_{2},g_{3} \\right)} & {F}_{2}^{2} & - \\operatorname{pwp}{\\left({\\mu}_{2},g_{2},g_{3} \\right)} {F}_{2}\\\\- {F}_{3} & \\operatorname{pwp}{\\left({\\mu}_{3},g_{2},g_{3} \\right)} & {F}_{3}^{2} & - \\operatorname{pwp}{\\left({\\mu}_{3},g_{2},g_{3} \\right)} {F}_{3}\\end{matrix}\\right] \\right)}}{2 C} = - \\frac{\\sigma{\\left(z - {\\mu}_{0},g_{2},g_{3} \\right)} \\sigma{\\left(z - {\\mu}_{1},g_{2},g_{3} \\right)} \\sigma{\\left(z - {\\mu}_{2},g_{2},g_{3} \\right)} \\sigma{\\left(z - {\\mu}_{3},g_{2},g_{3} \\right)} \\sigma{\\left(z + {\\mu}_{0} + {\\mu}_{1} + {\\mu}_{2} + {\\mu}_{3},g_{2},g_{3} \\right)}}{\\sigma^{5}{\\left(z,g_{2},g_{3} \\right)} \\sigma{\\left(- {\\mu}_{0} - {\\mu}_{1} - {\\mu}_{2} - {\\mu}_{3},g_{2},g_{3} \\right)} \\sigma{\\left({\\mu}_{0},g_{2},g_{3} \\right)} \\sigma{\\left({\\mu}_{1},g_{2},g_{3} \\right)} \\sigma{\\left({\\mu}_{2},g_{2},g_{3} \\right)} \\sigma{\\left({\\mu}_{3},g_{2},g_{3} \\right)}}$"
      ],
      "text/plain": [
       "Eq(-pwp(z, g2, g3)*Det(Matrix([\n",
       "[1, -F[0], F[0]**2, -pwp(mu[0], g2, g3)*F[0]],\n",
       "[1, -F[1], F[1]**2, -pwp(mu[1], g2, g3)*F[1]],\n",
       "[1, -F[2], F[2]**2, -pwp(mu[2], g2, g3)*F[2]],\n",
       "[1, -F[3], F[3]**2, -pwp(mu[3], g2, g3)*F[3]]]))/(2*C) - Det(Matrix([\n",
       "[-F[0], pwp(mu[0], g2, g3), F[0]**2, -pwp(mu[0], g2, g3)*F[0]],\n",
       "[-F[1], pwp(mu[1], g2, g3), F[1]**2, -pwp(mu[1], g2, g3)*F[1]],\n",
       "[-F[2], pwp(mu[2], g2, g3), F[2]**2, -pwp(mu[2], g2, g3)*F[2]],\n",
       "[-F[3], pwp(mu[3], g2, g3), F[3]**2, -pwp(mu[3], g2, g3)*F[3]]]))/(2*C), -sigma(z - mu[0], g2, g3)*sigma(z - mu[1], g2, g3)*sigma(z - mu[2], g2, g3)*sigma(z - mu[3], g2, g3)*sigma(z + mu[0] + mu[1] + mu[2] + mu[3], g2, g3)/(sigma(z, g2, g3)**5*sigma(-mu[0] - mu[1] - mu[2] - mu[3], g2, g3)*sigma(mu[0], g2, g3)*sigma(mu[1], g2, g3)*sigma(mu[2], g2, g3)*sigma(mu[3], g2, g3)))"
      ]
     },
     "execution_count": 13,
     "metadata": {},
     "output_type": "execute_result"
    }
   ],
   "source": [
    "__x1234e = Eq(-Det(Matrix([\n",
    " [-F[0], pwp(mu[0], g2, g3), F[0]**2, -pwp(mu[0], g2, g3)*F[0]],\n",
    " [-F[1], pwp(mu[1], g2, g3), F[1]**2, -pwp(mu[1], g2, g3)*F[1]],\n",
    " [-F[2], pwp(mu[2], g2, g3), F[2]**2, -pwp(mu[2], g2, g3)*F[2]],\n",
    " [-F[3], pwp(mu[3], g2, g3), F[3]**2, -pwp(mu[3], g2, g3)*F[3]]]))/(2*C)\n",
    "              -pwp(z, g2, g3)*Det(Matrix([\n",
    " [1, -F[0], F[0]**2, -pwp(mu[0], g2, g3)*F[0]],\n",
    " [1, -F[1], F[1]**2, -pwp(mu[1], g2, g3)*F[1]],\n",
    " [1, -F[2], F[2]**2, -pwp(mu[2], g2, g3)*F[2]],\n",
    " [1, -F[3], F[3]**2, -pwp(mu[3], g2, g3)*F[3]]]))/(2*C),\n",
    " -sigma(z - mu[0], g2, g3)*sigma(z - mu[1], g2, g3)*\n",
    "              sigma(z - mu[2], g2, g3)*sigma(z - mu[3], g2, g3)*\n",
    "              sigma(z + mu[0] + mu[1] + mu[2] + mu[3], g2, g3)/\n",
    "              (sigma(z, g2, g3)**5*sigma(-mu[0] - mu[1] - mu[2] - mu[3], g2, g3)*\n",
    "               sigma(mu[0], g2, g3)*sigma(mu[1], g2, g3)*sigma(mu[2], g2, g3)*sigma(mu[3], g2, g3))\n",
    ")\n",
    "\n",
    "__x1234e"
   ]
  },
  {
   "cell_type": "code",
   "execution_count": 14,
   "id": "a3363066",
   "metadata": {},
   "outputs": [
    {
     "data": {
      "text/latex": [
       "$\\displaystyle - \\frac{\\operatorname{Det}{\\left(\\left[\\begin{matrix}- {F}_{0} & \\operatorname{pwp}{\\left({\\mu}_{0},g_{2},g_{3} \\right)} & {F}_{0}^{2} & - \\operatorname{pwp}{\\left({\\mu}_{0},g_{2},g_{3} \\right)} {F}_{0}\\\\- {F}_{1} & \\operatorname{pwp}{\\left({\\mu}_{1},g_{2},g_{3} \\right)} & {F}_{1}^{2} & - \\operatorname{pwp}{\\left({\\mu}_{1},g_{2},g_{3} \\right)} {F}_{1}\\\\- {F}_{2} & \\operatorname{pwp}{\\left({\\mu}_{2},g_{2},g_{3} \\right)} & {F}_{2}^{2} & - \\operatorname{pwp}{\\left({\\mu}_{2},g_{2},g_{3} \\right)} {F}_{2}\\\\- {F}_{3} & \\operatorname{pwp}{\\left({\\mu}_{3},g_{2},g_{3} \\right)} & {F}_{3}^{2} & - \\operatorname{pwp}{\\left({\\mu}_{3},g_{2},g_{3} \\right)} {F}_{3}\\end{matrix}\\right] \\right)}}{C} = - \\frac{\\sigma{\\left(z - {\\mu}_{0},g_{2},g_{3} \\right)} \\sigma{\\left(z - {\\mu}_{1},g_{2},g_{3} \\right)} \\sigma{\\left(z - {\\mu}_{2},g_{2},g_{3} \\right)} \\sigma{\\left(z - {\\mu}_{3},g_{2},g_{3} \\right)} \\sigma{\\left(z + {\\mu}_{0} + {\\mu}_{1} + {\\mu}_{2} + {\\mu}_{3},g_{2},g_{3} \\right)}}{\\sigma^{5}{\\left(z,g_{2},g_{3} \\right)} \\sigma{\\left(- {\\mu}_{0} - {\\mu}_{1} - {\\mu}_{2} - {\\mu}_{3},g_{2},g_{3} \\right)} \\sigma{\\left({\\mu}_{0},g_{2},g_{3} \\right)} \\sigma{\\left({\\mu}_{1},g_{2},g_{3} \\right)} \\sigma{\\left({\\mu}_{2},g_{2},g_{3} \\right)} \\sigma{\\left({\\mu}_{3},g_{2},g_{3} \\right)}} - \\frac{\\sigma{\\left(- z - {\\mu}_{0},g_{2},g_{3} \\right)} \\sigma{\\left(- z - {\\mu}_{1},g_{2},g_{3} \\right)} \\sigma{\\left(- z - {\\mu}_{2},g_{2},g_{3} \\right)} \\sigma{\\left(- z - {\\mu}_{3},g_{2},g_{3} \\right)} \\sigma{\\left(- z + {\\mu}_{0} + {\\mu}_{1} + {\\mu}_{2} + {\\mu}_{3},g_{2},g_{3} \\right)}}{\\sigma^{5}{\\left(- z,g_{2},g_{3} \\right)} \\sigma{\\left(- {\\mu}_{0} - {\\mu}_{1} - {\\mu}_{2} - {\\mu}_{3},g_{2},g_{3} \\right)} \\sigma{\\left({\\mu}_{0},g_{2},g_{3} \\right)} \\sigma{\\left({\\mu}_{1},g_{2},g_{3} \\right)} \\sigma{\\left({\\mu}_{2},g_{2},g_{3} \\right)} \\sigma{\\left({\\mu}_{3},g_{2},g_{3} \\right)}}$"
      ],
      "text/plain": [
       "Eq(-Det(Matrix([\n",
       "[-F[0], pwp(mu[0], g2, g3), F[0]**2, -pwp(mu[0], g2, g3)*F[0]],\n",
       "[-F[1], pwp(mu[1], g2, g3), F[1]**2, -pwp(mu[1], g2, g3)*F[1]],\n",
       "[-F[2], pwp(mu[2], g2, g3), F[2]**2, -pwp(mu[2], g2, g3)*F[2]],\n",
       "[-F[3], pwp(mu[3], g2, g3), F[3]**2, -pwp(mu[3], g2, g3)*F[3]]]))/C, -sigma(z - mu[0], g2, g3)*sigma(z - mu[1], g2, g3)*sigma(z - mu[2], g2, g3)*sigma(z - mu[3], g2, g3)*sigma(z + mu[0] + mu[1] + mu[2] + mu[3], g2, g3)/(sigma(z, g2, g3)**5*sigma(-mu[0] - mu[1] - mu[2] - mu[3], g2, g3)*sigma(mu[0], g2, g3)*sigma(mu[1], g2, g3)*sigma(mu[2], g2, g3)*sigma(mu[3], g2, g3)) - sigma(-z - mu[0], g2, g3)*sigma(-z - mu[1], g2, g3)*sigma(-z - mu[2], g2, g3)*sigma(-z - mu[3], g2, g3)*sigma(-z + mu[0] + mu[1] + mu[2] + mu[3], g2, g3)/(sigma(-z, g2, g3)**5*sigma(-mu[0] - mu[1] - mu[2] - mu[3], g2, g3)*sigma(mu[0], g2, g3)*sigma(mu[1], g2, g3)*sigma(mu[2], g2, g3)*sigma(mu[3], g2, g3)))"
      ]
     },
     "execution_count": 14,
     "metadata": {},
     "output_type": "execute_result"
    },
    {
     "data": {
      "text/latex": [
       "$\\displaystyle \\frac{\\left({F}_{0} - {F}_{1}\\right) \\left({F}_{2} - {F}_{3}\\right) \\operatorname{pwp}{\\left({\\mu}_{0},g_{2},g_{3} \\right)} \\operatorname{pwp}{\\left({\\mu}_{1},g_{2},g_{3} \\right)} {F}_{2} {F}_{3} + \\left({F}_{0} - {F}_{1}\\right) \\left({F}_{2} - {F}_{3}\\right) \\operatorname{pwp}{\\left({\\mu}_{2},g_{2},g_{3} \\right)} \\operatorname{pwp}{\\left({\\mu}_{3},g_{2},g_{3} \\right)} {F}_{0} {F}_{1} - \\left({F}_{0} - {F}_{2}\\right) \\left({F}_{1} - {F}_{3}\\right) \\operatorname{pwp}{\\left({\\mu}_{0},g_{2},g_{3} \\right)} \\operatorname{pwp}{\\left({\\mu}_{2},g_{2},g_{3} \\right)} {F}_{1} {F}_{3} - \\left({F}_{0} - {F}_{2}\\right) \\left({F}_{1} - {F}_{3}\\right) \\operatorname{pwp}{\\left({\\mu}_{1},g_{2},g_{3} \\right)} \\operatorname{pwp}{\\left({\\mu}_{3},g_{2},g_{3} \\right)} {F}_{0} {F}_{2} + \\left({F}_{0} - {F}_{3}\\right) \\left({F}_{1} - {F}_{2}\\right) \\operatorname{pwp}{\\left({\\mu}_{0},g_{2},g_{3} \\right)} \\operatorname{pwp}{\\left({\\mu}_{3},g_{2},g_{3} \\right)} {F}_{1} {F}_{2} + \\left({F}_{0} - {F}_{3}\\right) \\left({F}_{1} - {F}_{2}\\right) \\operatorname{pwp}{\\left({\\mu}_{1},g_{2},g_{3} \\right)} \\operatorname{pwp}{\\left({\\mu}_{2},g_{2},g_{3} \\right)} {F}_{0} {F}_{3}}{C} = - \\frac{\\sigma{\\left(z - {\\mu}_{0},g_{2},g_{3} \\right)} \\sigma{\\left(z - {\\mu}_{1},g_{2},g_{3} \\right)} \\sigma{\\left(z - {\\mu}_{2},g_{2},g_{3} \\right)} \\sigma{\\left(z - {\\mu}_{3},g_{2},g_{3} \\right)} \\sigma{\\left(z + {\\mu}_{0} + {\\mu}_{1} + {\\mu}_{2} + {\\mu}_{3},g_{2},g_{3} \\right)}}{\\sigma^{5}{\\left(z,g_{2},g_{3} \\right)} \\sigma{\\left(- {\\mu}_{0} - {\\mu}_{1} - {\\mu}_{2} - {\\mu}_{3},g_{2},g_{3} \\right)} \\sigma{\\left({\\mu}_{0},g_{2},g_{3} \\right)} \\sigma{\\left({\\mu}_{1},g_{2},g_{3} \\right)} \\sigma{\\left({\\mu}_{2},g_{2},g_{3} \\right)} \\sigma{\\left({\\mu}_{3},g_{2},g_{3} \\right)}} - \\frac{\\sigma{\\left(- z - {\\mu}_{0},g_{2},g_{3} \\right)} \\sigma{\\left(- z - {\\mu}_{1},g_{2},g_{3} \\right)} \\sigma{\\left(- z - {\\mu}_{2},g_{2},g_{3} \\right)} \\sigma{\\left(- z - {\\mu}_{3},g_{2},g_{3} \\right)} \\sigma{\\left(- z + {\\mu}_{0} + {\\mu}_{1} + {\\mu}_{2} + {\\mu}_{3},g_{2},g_{3} \\right)}}{\\sigma^{5}{\\left(- z,g_{2},g_{3} \\right)} \\sigma{\\left(- {\\mu}_{0} - {\\mu}_{1} - {\\mu}_{2} - {\\mu}_{3},g_{2},g_{3} \\right)} \\sigma{\\left({\\mu}_{0},g_{2},g_{3} \\right)} \\sigma{\\left({\\mu}_{1},g_{2},g_{3} \\right)} \\sigma{\\left({\\mu}_{2},g_{2},g_{3} \\right)} \\sigma{\\left({\\mu}_{3},g_{2},g_{3} \\right)}}$"
      ],
      "text/plain": [
       "Eq(((F[0] - F[1])*(F[2] - F[3])*pwp(mu[0], g2, g3)*pwp(mu[1], g2, g3)*F[2]*F[3] + (F[0] - F[1])*(F[2] - F[3])*pwp(mu[2], g2, g3)*pwp(mu[3], g2, g3)*F[0]*F[1] - (F[0] - F[2])*(F[1] - F[3])*pwp(mu[0], g2, g3)*pwp(mu[2], g2, g3)*F[1]*F[3] - (F[0] - F[2])*(F[1] - F[3])*pwp(mu[1], g2, g3)*pwp(mu[3], g2, g3)*F[0]*F[2] + (F[0] - F[3])*(F[1] - F[2])*pwp(mu[0], g2, g3)*pwp(mu[3], g2, g3)*F[1]*F[2] + (F[0] - F[3])*(F[1] - F[2])*pwp(mu[1], g2, g3)*pwp(mu[2], g2, g3)*F[0]*F[3])/C, -sigma(z - mu[0], g2, g3)*sigma(z - mu[1], g2, g3)*sigma(z - mu[2], g2, g3)*sigma(z - mu[3], g2, g3)*sigma(z + mu[0] + mu[1] + mu[2] + mu[3], g2, g3)/(sigma(z, g2, g3)**5*sigma(-mu[0] - mu[1] - mu[2] - mu[3], g2, g3)*sigma(mu[0], g2, g3)*sigma(mu[1], g2, g3)*sigma(mu[2], g2, g3)*sigma(mu[3], g2, g3)) - sigma(-z - mu[0], g2, g3)*sigma(-z - mu[1], g2, g3)*sigma(-z - mu[2], g2, g3)*sigma(-z - mu[3], g2, g3)*sigma(-z + mu[0] + mu[1] + mu[2] + mu[3], g2, g3)/(sigma(-z, g2, g3)**5*sigma(-mu[0] - mu[1] - mu[2] - mu[3], g2, g3)*sigma(mu[0], g2, g3)*sigma(mu[1], g2, g3)*sigma(mu[2], g2, g3)*sigma(mu[3], g2, g3)))"
      ]
     },
     "execution_count": 14,
     "metadata": {},
     "output_type": "execute_result"
    }
   ],
   "source": [
    "h_5modes_eq_a = Eq(__x1234e.lhs + __x1234e.lhs.subs(z,-z), \n",
    "                 __x1234e.rhs + __x1234e.rhs.subs(z,-z)).subs(pwp(-z,g2,g3), -pwp(z,g2,g3))\n",
    "\n",
    "h_5modes_eq_b = Eq(\n",
    "    h_5modes_eq_a.lhs.replace(Det,det)\n",
    "    .collect(\n",
    "        ((Sum(pwp(mu[k],g2,g3),(k,0,3))**2 - Sum(pwp(mu[k],g2,g3)**2,(k,0,3)))/2).doit().expand().args, \n",
    "        factor\n",
    "    ),\n",
    "    h_5modes_eq_a.rhs\n",
    ")\n",
    "\n",
    "h_5modes_eq_a\n",
    "h_5modes_eq_b"
   ]
  },
  {
   "cell_type": "code",
   "execution_count": 15,
   "id": "aaa0b335",
   "metadata": {},
   "outputs": [
    {
     "data": {
      "text/plain": [
       "(pwp(mu[0], g2, g3)*pwp(mu[1], g2, g3),\n",
       " pwp(mu[0], g2, g3)*pwp(mu[2], g2, g3),\n",
       " pwp(mu[0], g2, g3)*pwp(mu[3], g2, g3),\n",
       " pwp(mu[1], g2, g3)*pwp(mu[2], g2, g3),\n",
       " pwp(mu[1], g2, g3)*pwp(mu[3], g2, g3),\n",
       " pwp(mu[2], g2, g3)*pwp(mu[3], g2, g3))"
      ]
     },
     "execution_count": 15,
     "metadata": {},
     "output_type": "execute_result"
    }
   ],
   "source": [
    "((Sum(pwp(mu[k],g2,g3),(k,0,3))**2 - Sum(pwp(mu[k],g2,g3)**2,(k,0,3)))/2).doit().expand().args"
   ]
  },
  {
   "cell_type": "code",
   "execution_count": 16,
   "id": "5078ac46",
   "metadata": {},
   "outputs": [
    {
     "data": {
      "text/latex": [
       "$\\displaystyle \\operatorname{Det}{\\left(\\left[\\begin{matrix}1 & \\operatorname{pw}{\\left({\\mu}_{0},g_{2},g_{3} \\right)} & \\operatorname{pwp}{\\left({\\mu}_{0},g_{2},g_{3} \\right)} & \\operatorname{pw}^{2}{\\left({\\mu}_{0},g_{2},g_{3} \\right)}\\\\1 & \\operatorname{pw}{\\left({\\mu}_{1},g_{2},g_{3} \\right)} & \\operatorname{pwp}{\\left({\\mu}_{1},g_{2},g_{3} \\right)} & \\operatorname{pw}^{2}{\\left({\\mu}_{1},g_{2},g_{3} \\right)}\\\\1 & \\operatorname{pw}{\\left({\\mu}_{2},g_{2},g_{3} \\right)} & \\operatorname{pwp}{\\left({\\mu}_{2},g_{2},g_{3} \\right)} & \\operatorname{pw}^{2}{\\left({\\mu}_{2},g_{2},g_{3} \\right)}\\\\1 & \\operatorname{pw}{\\left({\\mu}_{3},g_{2},g_{3} \\right)} & \\operatorname{pwp}{\\left({\\mu}_{3},g_{2},g_{3} \\right)} & \\operatorname{pw}^{2}{\\left({\\mu}_{3},g_{2},g_{3} \\right)}\\end{matrix}\\right] \\right)} = C$"
      ],
      "text/plain": [
       "Eq(Det(Matrix([\n",
       "[1, pw(mu[0], g2, g3), pwp(mu[0], g2, g3), pw(mu[0], g2, g3)**2],\n",
       "[1, pw(mu[1], g2, g3), pwp(mu[1], g2, g3), pw(mu[1], g2, g3)**2],\n",
       "[1, pw(mu[2], g2, g3), pwp(mu[2], g2, g3), pw(mu[2], g2, g3)**2],\n",
       "[1, pw(mu[3], g2, g3), pwp(mu[3], g2, g3), pw(mu[3], g2, g3)**2]])), C)"
      ]
     },
     "execution_count": 16,
     "metadata": {},
     "output_type": "execute_result"
    }
   ],
   "source": [
    "C_det"
   ]
  },
  {
   "cell_type": "markdown",
   "id": "3779be57",
   "metadata": {},
   "source": [
    "### Numeric tests"
   ]
  },
  {
   "cell_type": "code",
   "execution_count": 17,
   "id": "463b810f",
   "metadata": {},
   "outputs": [],
   "source": [
    "from random import random\n",
    "g2val_ = (random() - 0.5) + (random() - 0.5)*1j\n",
    "g3val_ = (random() - 0.5) + (random() - 0.5)*1j\n",
    "zval_ = (random() - 0.5) + (random() - 0.5)*1j\n",
    "mu_vals = [(random() - 0.5) + (random() - 0.5)*1j for _ in range(4)]\n",
    "\n",
    "omega_ = we.omega_from_g(g2val_, g3val_)\n",
    "omega1_ = mpc_to_float(omega_[0])\n",
    "omega2_ = mpc_to_float(omega_[1])\n",
    "omega3_ = mpc_to_float(omega_[2])\n",
    "if im(omega2_/omega1_) <= 0:\n",
    "    omega2_ = -omega2_\n",
    "omegas = (omega1_, omega2_)  \n",
    "\n",
    "num_subs = (\n",
    "    [(pw(mu[k],g2,g3), we.wp(mu_vals[k], omegas)) for k in range(len(mu_vals))] + \n",
    "    [(pwp(mu[k],g2,g3), we.wpprime(mu_vals[k], omegas)) for k in range(len(mu_vals))] + \n",
    "    [(pw(z,g2,g3), we.wp(zval_, omegas)), (pwp(z,g2,g3), we.wpprime(zval_, omegas))] +\n",
    "    [(sigma(z - mu[k], g2, g3), we.wsigma(zval_ - mu_vals[k], omegas)) for k in range(len(mu_vals))] + \n",
    "    [(sigma(mu[k], g2, g3), we.wsigma(mu_vals[k], omegas)) for k in range(len(mu_vals))] +\n",
    "    [(sigma(z , g2, g3), we.wsigma(zval_ , omegas))] + \n",
    "    [(sigma(z - sum([mu[k] for k in range(len(mu_vals))]), g2, g3), we.wsigma(zval_ - sum(mu_vals), omegas))] + \n",
    "    [(sigma(z + sum([mu[k] for k in range(len(mu_vals))]), g2, g3), we.wsigma(zval_ + sum(mu_vals), omegas))] + \n",
    "    [(sigma(- sum([mu[k] for k in range(len(mu_vals))]), g2, g3), we.wsigma(- sum(mu_vals), omegas))]\n",
    ")"
   ]
  },
  {
   "cell_type": "code",
   "execution_count": 18,
   "id": "e1ad3e74",
   "metadata": {},
   "outputs": [
    {
     "data": {
      "text/latex": [
       "$\\displaystyle -7.40749383866979 - 27.5806438633621 i$"
      ],
      "text/plain": [
       "-7.40749383866979 - 27.5806438633621*I"
      ]
     },
     "execution_count": 18,
     "metadata": {},
     "output_type": "execute_result"
    }
   ],
   "source": [
    "evaluated_4_with_subs.lhs.simplify().subs(num_subs).expand().subs(g2, g2val_).evalf()"
   ]
  },
  {
   "cell_type": "code",
   "execution_count": 19,
   "id": "37ced1ac",
   "metadata": {},
   "outputs": [
    {
     "data": {
      "text/latex": [
       "$\\displaystyle -7.40749383866964 - 27.5806438633621 i$"
      ],
      "text/plain": [
       "-7.40749383866964 - 27.5806438633621*I"
      ]
     },
     "execution_count": 19,
     "metadata": {},
     "output_type": "execute_result"
    }
   ],
   "source": [
    "evaluated_4_with_subs.rhs.simplify().subs(num_subs).expand().subs(g2, g2val_).evalf()"
   ]
  },
  {
   "cell_type": "code",
   "execution_count": 20,
   "id": "daab9375",
   "metadata": {},
   "outputs": [
    {
     "data": {
      "text/latex": [
       "$\\displaystyle -7.40749383866966 - 27.5806438633622 i$"
      ],
      "text/plain": [
       "-7.40749383866966 - 27.5806438633622*I"
      ]
     },
     "execution_count": 20,
     "metadata": {},
     "output_type": "execute_result"
    }
   ],
   "source": [
    "__x1234c.lhs.simplify().subs(num_subs).expand().subs(g2, g2val_).replace(Det, det).evalf()"
   ]
  },
  {
   "cell_type": "code",
   "execution_count": 21,
   "id": "a05cb54c",
   "metadata": {},
   "outputs": [
    {
     "data": {
      "text/latex": [
       "$\\displaystyle -7.40749383866964 - 27.5806438633621 i$"
      ],
      "text/plain": [
       "-7.40749383866964 - 27.5806438633621*I"
      ]
     },
     "execution_count": 21,
     "metadata": {},
     "output_type": "execute_result"
    }
   ],
   "source": [
    "__x1234c.rhs.simplify().subs(num_subs).expand().subs(g2, g2val_).replace(Det, det).evalf()"
   ]
  },
  {
   "cell_type": "markdown",
   "id": "10704ce3",
   "metadata": {},
   "source": [
    "## Lagrangian"
   ]
  },
  {
   "cell_type": "code",
   "execution_count": 22,
   "id": "66091f21",
   "metadata": {},
   "outputs": [
    {
     "data": {
      "text/latex": [
       "$\\displaystyle \\frac{\\left({F}_{0} - {F}_{1}\\right) \\left({F}_{2} - {F}_{3}\\right) \\operatorname{pwp}{\\left({\\mu}_{0},g_{2},g_{3} \\right)} \\operatorname{pwp}{\\left({\\mu}_{1},g_{2},g_{3} \\right)} {F}_{2} {F}_{3} + \\left({F}_{0} - {F}_{1}\\right) \\left({F}_{2} - {F}_{3}\\right) \\operatorname{pwp}{\\left({\\mu}_{2},g_{2},g_{3} \\right)} \\operatorname{pwp}{\\left({\\mu}_{3},g_{2},g_{3} \\right)} {F}_{0} {F}_{1} - \\left({F}_{0} - {F}_{2}\\right) \\left({F}_{1} - {F}_{3}\\right) \\operatorname{pwp}{\\left({\\mu}_{0},g_{2},g_{3} \\right)} \\operatorname{pwp}{\\left({\\mu}_{2},g_{2},g_{3} \\right)} {F}_{1} {F}_{3} - \\left({F}_{0} - {F}_{2}\\right) \\left({F}_{1} - {F}_{3}\\right) \\operatorname{pwp}{\\left({\\mu}_{1},g_{2},g_{3} \\right)} \\operatorname{pwp}{\\left({\\mu}_{3},g_{2},g_{3} \\right)} {F}_{0} {F}_{2} + \\left({F}_{0} - {F}_{3}\\right) \\left({F}_{1} - {F}_{2}\\right) \\operatorname{pwp}{\\left({\\mu}_{0},g_{2},g_{3} \\right)} \\operatorname{pwp}{\\left({\\mu}_{3},g_{2},g_{3} \\right)} {F}_{1} {F}_{2} + \\left({F}_{0} - {F}_{3}\\right) \\left({F}_{1} - {F}_{2}\\right) \\operatorname{pwp}{\\left({\\mu}_{1},g_{2},g_{3} \\right)} \\operatorname{pwp}{\\left({\\mu}_{2},g_{2},g_{3} \\right)} {F}_{0} {F}_{3}}{C} = - \\frac{\\sigma{\\left(z - {\\mu}_{0},g_{2},g_{3} \\right)} \\sigma{\\left(z - {\\mu}_{1},g_{2},g_{3} \\right)} \\sigma{\\left(z - {\\mu}_{2},g_{2},g_{3} \\right)} \\sigma{\\left(z - {\\mu}_{3},g_{2},g_{3} \\right)} \\sigma{\\left(z + {\\mu}_{0} + {\\mu}_{1} + {\\mu}_{2} + {\\mu}_{3},g_{2},g_{3} \\right)}}{\\sigma^{5}{\\left(z,g_{2},g_{3} \\right)} \\sigma{\\left(- {\\mu}_{0} - {\\mu}_{1} - {\\mu}_{2} - {\\mu}_{3},g_{2},g_{3} \\right)} \\sigma{\\left({\\mu}_{0},g_{2},g_{3} \\right)} \\sigma{\\left({\\mu}_{1},g_{2},g_{3} \\right)} \\sigma{\\left({\\mu}_{2},g_{2},g_{3} \\right)} \\sigma{\\left({\\mu}_{3},g_{2},g_{3} \\right)}} - \\frac{\\sigma{\\left(- z - {\\mu}_{0},g_{2},g_{3} \\right)} \\sigma{\\left(- z - {\\mu}_{1},g_{2},g_{3} \\right)} \\sigma{\\left(- z - {\\mu}_{2},g_{2},g_{3} \\right)} \\sigma{\\left(- z - {\\mu}_{3},g_{2},g_{3} \\right)} \\sigma{\\left(- z + {\\mu}_{0} + {\\mu}_{1} + {\\mu}_{2} + {\\mu}_{3},g_{2},g_{3} \\right)}}{\\sigma^{5}{\\left(- z,g_{2},g_{3} \\right)} \\sigma{\\left(- {\\mu}_{0} - {\\mu}_{1} - {\\mu}_{2} - {\\mu}_{3},g_{2},g_{3} \\right)} \\sigma{\\left({\\mu}_{0},g_{2},g_{3} \\right)} \\sigma{\\left({\\mu}_{1},g_{2},g_{3} \\right)} \\sigma{\\left({\\mu}_{2},g_{2},g_{3} \\right)} \\sigma{\\left({\\mu}_{3},g_{2},g_{3} \\right)}}$"
      ],
      "text/plain": [
       "Eq(((F[0] - F[1])*(F[2] - F[3])*pwp(mu[0], g2, g3)*pwp(mu[1], g2, g3)*F[2]*F[3] + (F[0] - F[1])*(F[2] - F[3])*pwp(mu[2], g2, g3)*pwp(mu[3], g2, g3)*F[0]*F[1] - (F[0] - F[2])*(F[1] - F[3])*pwp(mu[0], g2, g3)*pwp(mu[2], g2, g3)*F[1]*F[3] - (F[0] - F[2])*(F[1] - F[3])*pwp(mu[1], g2, g3)*pwp(mu[3], g2, g3)*F[0]*F[2] + (F[0] - F[3])*(F[1] - F[2])*pwp(mu[0], g2, g3)*pwp(mu[3], g2, g3)*F[1]*F[2] + (F[0] - F[3])*(F[1] - F[2])*pwp(mu[1], g2, g3)*pwp(mu[2], g2, g3)*F[0]*F[3])/C, -sigma(z - mu[0], g2, g3)*sigma(z - mu[1], g2, g3)*sigma(z - mu[2], g2, g3)*sigma(z - mu[3], g2, g3)*sigma(z + mu[0] + mu[1] + mu[2] + mu[3], g2, g3)/(sigma(z, g2, g3)**5*sigma(-mu[0] - mu[1] - mu[2] - mu[3], g2, g3)*sigma(mu[0], g2, g3)*sigma(mu[1], g2, g3)*sigma(mu[2], g2, g3)*sigma(mu[3], g2, g3)) - sigma(-z - mu[0], g2, g3)*sigma(-z - mu[1], g2, g3)*sigma(-z - mu[2], g2, g3)*sigma(-z - mu[3], g2, g3)*sigma(-z + mu[0] + mu[1] + mu[2] + mu[3], g2, g3)/(sigma(-z, g2, g3)**5*sigma(-mu[0] - mu[1] - mu[2] - mu[3], g2, g3)*sigma(mu[0], g2, g3)*sigma(mu[1], g2, g3)*sigma(mu[2], g2, g3)*sigma(mu[3], g2, g3)))"
      ]
     },
     "execution_count": 22,
     "metadata": {},
     "output_type": "execute_result"
    }
   ],
   "source": [
    "h_5modes_eq_b"
   ]
  },
  {
   "cell_type": "code",
   "execution_count": 24,
   "id": "f3635b4c",
   "metadata": {},
   "outputs": [
    {
     "data": {
      "text/latex": [
       "$\\displaystyle \\frac{\\left({F}_{0} - {F}_{1}\\right) \\left({F}_{2} - {F}_{3}\\right) \\operatorname{pwp}{\\left({\\mu}_{0},g_{2},g_{3} \\right)} \\operatorname{pwp}{\\left({\\mu}_{1},g_{2},g_{3} \\right)} {F}_{2} {F}_{3} + \\left({F}_{0} - {F}_{1}\\right) \\left({F}_{2} - {F}_{3}\\right) \\operatorname{pwp}{\\left({\\mu}_{2},g_{2},g_{3} \\right)} \\operatorname{pwp}{\\left({\\mu}_{3},g_{2},g_{3} \\right)} {F}_{0} {F}_{1} - \\left({F}_{0} - {F}_{2}\\right) \\left({F}_{1} - {F}_{3}\\right) \\operatorname{pwp}{\\left({\\mu}_{0},g_{2},g_{3} \\right)} \\operatorname{pwp}{\\left({\\mu}_{2},g_{2},g_{3} \\right)} {F}_{1} {F}_{3} - \\left({F}_{0} - {F}_{2}\\right) \\left({F}_{1} - {F}_{3}\\right) \\operatorname{pwp}{\\left({\\mu}_{1},g_{2},g_{3} \\right)} \\operatorname{pwp}{\\left({\\mu}_{3},g_{2},g_{3} \\right)} {F}_{0} {F}_{2} + \\left({F}_{0} - {F}_{3}\\right) \\left({F}_{1} - {F}_{2}\\right) \\operatorname{pwp}{\\left({\\mu}_{0},g_{2},g_{3} \\right)} \\operatorname{pwp}{\\left({\\mu}_{3},g_{2},g_{3} \\right)} {F}_{1} {F}_{2} + \\left({F}_{0} - {F}_{3}\\right) \\left({F}_{1} - {F}_{2}\\right) \\operatorname{pwp}{\\left({\\mu}_{1},g_{2},g_{3} \\right)} \\operatorname{pwp}{\\left({\\mu}_{2},g_{2},g_{3} \\right)} {F}_{0} {F}_{3}}{C} = - \\frac{\\sigma{\\left(z - {\\mu}_{0},g_{2},g_{3} \\right)} \\sigma{\\left(z - {\\mu}_{1},g_{2},g_{3} \\right)} \\sigma{\\left(z - {\\mu}_{2},g_{2},g_{3} \\right)} \\sigma{\\left(z - {\\mu}_{3},g_{2},g_{3} \\right)} \\sigma{\\left(z + {\\mu}_{0} + {\\mu}_{1} + {\\mu}_{2} + {\\mu}_{3},g_{2},g_{3} \\right)}}{\\sigma^{5}{\\left(z,g_{2},g_{3} \\right)} \\sigma{\\left(- {\\mu}_{0} - {\\mu}_{1} - {\\mu}_{2} - {\\mu}_{3},g_{2},g_{3} \\right)} \\sigma{\\left({\\mu}_{0},g_{2},g_{3} \\right)} \\sigma{\\left({\\mu}_{1},g_{2},g_{3} \\right)} \\sigma{\\left({\\mu}_{2},g_{2},g_{3} \\right)} \\sigma{\\left({\\mu}_{3},g_{2},g_{3} \\right)}} - \\frac{\\sigma{\\left(- z - {\\mu}_{0},g_{2},g_{3} \\right)} \\sigma{\\left(- z - {\\mu}_{1},g_{2},g_{3} \\right)} \\sigma{\\left(- z - {\\mu}_{2},g_{2},g_{3} \\right)} \\sigma{\\left(- z - {\\mu}_{3},g_{2},g_{3} \\right)} \\sigma{\\left(- z + {\\mu}_{0} + {\\mu}_{1} + {\\mu}_{2} + {\\mu}_{3},g_{2},g_{3} \\right)}}{\\sigma^{5}{\\left(- z,g_{2},g_{3} \\right)} \\sigma{\\left(- {\\mu}_{0} - {\\mu}_{1} - {\\mu}_{2} - {\\mu}_{3},g_{2},g_{3} \\right)} \\sigma{\\left({\\mu}_{0},g_{2},g_{3} \\right)} \\sigma{\\left({\\mu}_{1},g_{2},g_{3} \\right)} \\sigma{\\left({\\mu}_{2},g_{2},g_{3} \\right)} \\sigma{\\left({\\mu}_{3},g_{2},g_{3} \\right)}}$"
      ],
      "text/plain": [
       "Eq(((F[0] - F[1])*(F[2] - F[3])*pwp(mu[0], g2, g3)*pwp(mu[1], g2, g3)*F[2]*F[3] + (F[0] - F[1])*(F[2] - F[3])*pwp(mu[2], g2, g3)*pwp(mu[3], g2, g3)*F[0]*F[1] - (F[0] - F[2])*(F[1] - F[3])*pwp(mu[0], g2, g3)*pwp(mu[2], g2, g3)*F[1]*F[3] - (F[0] - F[2])*(F[1] - F[3])*pwp(mu[1], g2, g3)*pwp(mu[3], g2, g3)*F[0]*F[2] + (F[0] - F[3])*(F[1] - F[2])*pwp(mu[0], g2, g3)*pwp(mu[3], g2, g3)*F[1]*F[2] + (F[0] - F[3])*(F[1] - F[2])*pwp(mu[1], g2, g3)*pwp(mu[2], g2, g3)*F[0]*F[3])/C, -sigma(z - mu[0], g2, g3)*sigma(z - mu[1], g2, g3)*sigma(z - mu[2], g2, g3)*sigma(z - mu[3], g2, g3)*sigma(z + mu[0] + mu[1] + mu[2] + mu[3], g2, g3)/(sigma(z, g2, g3)**5*sigma(-mu[0] - mu[1] - mu[2] - mu[3], g2, g3)*sigma(mu[0], g2, g3)*sigma(mu[1], g2, g3)*sigma(mu[2], g2, g3)*sigma(mu[3], g2, g3)) - sigma(-z - mu[0], g2, g3)*sigma(-z - mu[1], g2, g3)*sigma(-z - mu[2], g2, g3)*sigma(-z - mu[3], g2, g3)*sigma(-z + mu[0] + mu[1] + mu[2] + mu[3], g2, g3)/(sigma(-z, g2, g3)**5*sigma(-mu[0] - mu[1] - mu[2] - mu[3], g2, g3)*sigma(mu[0], g2, g3)*sigma(mu[1], g2, g3)*sigma(mu[2], g2, g3)*sigma(mu[3], g2, g3)))"
      ]
     },
     "execution_count": 24,
     "metadata": {},
     "output_type": "execute_result"
    }
   ],
   "source": [
    "Eq(\n",
    "    ((F[0] - F[1])*(F[2] - F[3])*pwp(mu[0], g2, g3)*pwp(mu[1], g2, g3)*F[2]*F[3] + \n",
    "     (F[0] - F[1])*(F[2] - F[3])*pwp(mu[2], g2, g3)*pwp(mu[3], g2, g3)*F[0]*F[1] - \n",
    "     (F[0] - F[2])*(F[1] - F[3])*pwp(mu[0], g2, g3)*pwp(mu[2], g2, g3)*F[1]*F[3] - \n",
    "     (F[0] - F[2])*(F[1] - F[3])*pwp(mu[1], g2, g3)*pwp(mu[3], g2, g3)*F[0]*F[2] + \n",
    "     (F[0] - F[3])*(F[1] - F[2])*pwp(mu[0], g2, g3)*pwp(mu[3], g2, g3)*F[1]*F[2] + \n",
    "     (F[0] - F[3])*(F[1] - F[2])*pwp(mu[1], g2, g3)*pwp(mu[2], g2, g3)*F[0]*F[3])/C,\n",
    " -sigma(z - mu[0], g2, g3)*sigma(z - mu[1], g2, g3)*sigma(z - mu[2], g2, g3)*\n",
    "    sigma(z - mu[3], g2, g3)*sigma(z + mu[0] + mu[1] + mu[2] + mu[3], g2, g3)/\n",
    "    (sigma(z, g2, g3)**5*sigma(-mu[0] - mu[1] - mu[2] - mu[3], g2, g3)*sigma(mu[0], g2, g3)\n",
    "     *sigma(mu[1], g2, g3)*sigma(mu[2], g2, g3)*sigma(mu[3], g2, g3)) - \n",
    "    sigma(-z - mu[0], g2, g3)*sigma(-z - mu[1], g2, g3)*sigma(-z - mu[2], g2, g3)*\n",
    "    sigma(-z - mu[3], g2, g3)*sigma(-z + mu[0] + mu[1] + mu[2] + mu[3], g2, g3)/\n",
    "    (sigma(-z, g2, g3)**5*sigma(-mu[0] - mu[1] - mu[2] - mu[3], g2, g3)*sigma(mu[0], g2, g3)\n",
    "     *sigma(mu[1], g2, g3)*sigma(mu[2], g2, g3)*sigma(mu[3], g2, g3))\n",
    ").subs()"
   ]
  },
  {
   "cell_type": "code",
   "execution_count": 25,
   "id": "d50ad712",
   "metadata": {},
   "outputs": [
    {
     "data": {
      "text/latex": [
       "$\\displaystyle \\operatorname{pw}{\\left(z,g_{2},g_{3} \\right)} - \\operatorname{pw}{\\left({\\mu}_{k},g_{2},g_{3} \\right)} = {F}_{k}$"
      ],
      "text/plain": [
       "Eq(pw(z, g2, g3) - pw(mu[k], g2, g3), F[k])"
      ]
     },
     "execution_count": 25,
     "metadata": {},
     "output_type": "execute_result"
    }
   ],
   "source": [
    "Fk_eq"
   ]
  },
  {
   "cell_type": "code",
   "execution_count": null,
   "id": "cdb13e98",
   "metadata": {},
   "outputs": [],
   "source": []
  }
 ],
 "metadata": {
  "kernelspec": {
   "display_name": "Python 3 (ipykernel)",
   "language": "python",
   "name": "python3"
  },
  "language_info": {
   "codemirror_mode": {
    "name": "ipython",
    "version": 3
   },
   "file_extension": ".py",
   "mimetype": "text/x-python",
   "name": "python",
   "nbconvert_exporter": "python",
   "pygments_lexer": "ipython3",
   "version": "3.11.6"
  }
 },
 "nbformat": 4,
 "nbformat_minor": 5
}
