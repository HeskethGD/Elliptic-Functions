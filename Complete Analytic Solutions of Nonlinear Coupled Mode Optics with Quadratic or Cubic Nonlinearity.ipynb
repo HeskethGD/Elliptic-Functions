{
 "cells": [
  {
   "cell_type": "markdown",
   "metadata": {},
   "source": [
    "# Complete Analytic Solutions of Nonlinear Coupled Mode Optics with Quadratic or Cubic Nonlinearity\n",
    "\n",
    "This notebook follows the paper published here:\n",
    "https://arxiv.org/pdf/1512.03092.pdf\n",
    "\n",
    "Other useful links:\n",
    "\n",
    "https://gist.github.com/stla/d771e0a8c351d16d186c79bc838b6c48\n",
    "\n",
    "https://github.com/stla/pyweierstrass\n",
    "\n",
    "https://dlmf.nist.gov/search/search?q=Weierstrass%20sigma%20function#:~:text=2%3A%2023.2%20Definitions%20and%20Periodic%20Properties&text=%E2%80%A6%20%E2%96%BAThe%20function%20%E2%81%A1%20is,zeros%20at%20the%20lattice%20points.%20%E2%80%A6\n",
    "\n",
    "https://www.ncbi.nlm.nih.gov/pmc/articles/PMC4197466/\n",
    "\n",
    "https://math.stackexchange.com/questions/4475194/half-periods-ratio-for-the-wp-weierstrass-function\n",
    "\n",
    "http://www.paris8.free.fr/Apostol%20T.M.%20Modular%20functions%20and%20Dirichlet%20series%20in%20number%20theory%20(Springer,1990)(600dpi)(T)(216s)_MT_.pdf\n",
    "\n",
    "Lame stuff\n",
    "\n",
    "https://arxiv.org/pdf/1706.07371.pdf\n",
    "\n",
    "https://en.wikipedia.org/wiki/Lam%C3%A9_function\n",
    "\n",
    "Numeric Weierstrass package by Stephane Laurent on mathstack STLA on github\n",
    "\n",
    "Other numeric stuff:\n",
    "\n",
    "https://arxiv.org/pdf/1806.06725.pdf\n",
    "\n",
    "https://arxiv.org/abs/1601.04963\n",
    "\n",
    "Other interesting stuff:\n",
    "\n",
    "https://aip.scitation.org/doi/10.1063/1.4960722 HF Jones"
   ]
  },
  {
   "cell_type": "code",
   "execution_count": 1,
   "metadata": {},
   "outputs": [],
   "source": [
    "from numerical_evaluation.weierstrass_modified import Weierstrass\n",
    "wst = Weierstrass()"
   ]
  },
  {
   "cell_type": "code",
   "execution_count": 2,
   "metadata": {},
   "outputs": [],
   "source": [
    "from sympy import *\n",
    "x, y, n, m, K, P, Q, k, epsilon, z, s, p1, p2, p3, g2, g3,c1, c2, c3, z0, xi1, xi2, xi3, rho1, rho2, rho3, w1, w2, w3, e1, e2, e3 = symbols(\n",
    "    'x, y, n, m, K, P, Q, k, epsilon, z, s, p1, p2, p3, g2, g3, c1, c2, c3, z0, xi1, xi2, xi3, rho1, rho2, rho3, w1, w2, w3, e1, e2, e3'\n",
    ")\n",
    "alpha, delta, t, nu, epsilon, theta = symbols('alpha, delta, t, nu, epsilon, theta')\n",
    "pw = Function('pw') # Weierstrass P function\n",
    "pwp = Function('pwp') # Derivative of Weierstrass P function\n",
    "zw = Function('zw') # Weierstrass Zeta function\n",
    "sigma = Function('sigma') # Weierstrass Sigma function\n",
    "f = Function('f')\n",
    "phi = Function('phi')\n",
    "A1 = Function('A1')\n",
    "A2 = Function('A2')\n",
    "A3 = Function('A3')\n",
    "Ac1 = Function('Ac1')\n",
    "Ac2 = Function('Ac2')\n",
    "Ac3 = Function('Ac3')\n",
    "A4 = Function('A4')\n",
    "A5 = Function('A5')\n",
    "A6 = Function('A6')\n",
    "A7 = Function('A7')\n",
    "A8 = Function('A8')\n",
    "W1 = Function('W1')\n",
    "W2 = Function('W2')\n",
    "W3 = Function('W3')\n",
    "W4 = Function('W4')\n",
    "W5 = Function('W5')\n",
    "W6 = Function('W6')\n",
    "p = IndexedBase('p')\n",
    "\n",
    "mu = Function('mu')\n",
    "kappa = IndexedBase('kappa')\n",
    "beta = IndexedBase('beta')\n",
    "a = IndexedBase('a')\n",
    "\n",
    "%load_ext autoreload\n",
    "%autoreload 2\n",
    "# from weierstrass_elliptic import WeierstrassElliptic\n",
    "# we = WeierstrassElliptic()"
   ]
  },
  {
   "cell_type": "code",
   "execution_count": 3,
   "metadata": {},
   "outputs": [],
   "source": [
    "def mpc_to_float(_mpc):\n",
    "    return (float(_mpc.real) + I*float(_mpc.imag))"
   ]
  },
  {
   "cell_type": "code",
   "execution_count": 4,
   "metadata": {},
   "outputs": [],
   "source": [
    "from mpmath import almosteq, mpc, mpf"
   ]
  },
  {
   "cell_type": "markdown",
   "metadata": {},
   "source": [
    "## Notation"
   ]
  },
  {
   "cell_type": "markdown",
   "metadata": {},
   "source": [
    "The following terms are used interchangebly: Complex Envelopes, Complex Functions, Fields, and Modal Envelopes. They are each denoted with a subscript to distinguish them in a system of coupled differential equation like:"
   ]
  },
  {
   "cell_type": "code",
   "execution_count": 5,
   "metadata": {},
   "outputs": [
    {
     "data": {
      "text/latex": [
       "$\\displaystyle \\operatorname{A_{1}}{\\left(z \\right)}$"
      ],
      "text/plain": [
       "A1(z)"
      ]
     },
     "execution_count": 5,
     "metadata": {},
     "output_type": "execute_result"
    }
   ],
   "source": [
    "A1(z)"
   ]
  },
  {
   "cell_type": "markdown",
   "metadata": {},
   "source": [
    "The following is used to denote the complex conjugate of the field:"
   ]
  },
  {
   "cell_type": "code",
   "execution_count": 6,
   "metadata": {},
   "outputs": [
    {
     "data": {
      "text/latex": [
       "$\\displaystyle \\operatorname{Ac_{1}}{\\left(z \\right)}$"
      ],
      "text/plain": [
       "Ac1(z)"
      ]
     },
     "execution_count": 6,
     "metadata": {},
     "output_type": "execute_result"
    }
   ],
   "source": [
    "Ac1(z)"
   ]
  },
  {
   "cell_type": "markdown",
   "metadata": {},
   "source": [
    "The product of a complex field with it's complex conjugate is referred to as the modal power or power in the field:"
   ]
  },
  {
   "cell_type": "code",
   "execution_count": 7,
   "metadata": {},
   "outputs": [
    {
     "data": {
      "text/latex": [
       "$\\displaystyle \\left|{\\operatorname{A_{1}}{\\left(z \\right)}}\\right|^{2} = \\operatorname{A_{1}}{\\left(z \\right)} \\operatorname{Ac_{1}}{\\left(z \\right)}$"
      ],
      "text/plain": [
       "Eq(Abs(A1(z))**2, A1(z)*Ac1(z))"
      ]
     },
     "execution_count": 7,
     "metadata": {},
     "output_type": "execute_result"
    }
   ],
   "source": [
    "Eq(abs(A1(z))**2, A1(z)*Ac1(z))"
   ]
  },
  {
   "cell_type": "markdown",
   "metadata": {},
   "source": [
    "The following is used to denote the Weierstrass P function:"
   ]
  },
  {
   "cell_type": "code",
   "execution_count": 10,
   "metadata": {},
   "outputs": [
    {
     "data": {
      "text/latex": [
       "$\\displaystyle \\operatorname{pw}{\\left(z,g_{2},g_{3} \\right)}$"
      ],
      "text/plain": [
       "pw(z, g2, g3)"
      ]
     },
     "execution_count": 10,
     "metadata": {},
     "output_type": "execute_result"
    }
   ],
   "source": [
    "pw(z,g2,g3)"
   ]
  },
  {
   "cell_type": "markdown",
   "metadata": {},
   "source": [
    "The following is used to denote the Weierstrass P Prime function (derivative):"
   ]
  },
  {
   "cell_type": "code",
   "execution_count": 11,
   "metadata": {},
   "outputs": [
    {
     "data": {
      "text/latex": [
       "$\\displaystyle \\operatorname{pwp}{\\left(z,g_{2},g_{3} \\right)}$"
      ],
      "text/plain": [
       "pwp(z, g2, g3)"
      ]
     },
     "execution_count": 11,
     "metadata": {},
     "output_type": "execute_result"
    }
   ],
   "source": [
    "pwp(z,g2,g3)"
   ]
  },
  {
   "cell_type": "markdown",
   "metadata": {},
   "source": [
    "## 2. Quadratic Case"
   ]
  },
  {
   "cell_type": "markdown",
   "metadata": {},
   "source": [
    "When the system of nonlinear coupled differential equations has, at most, terms that are products of two fields it is said to have quadratic nonlinearity."
   ]
  },
  {
   "cell_type": "markdown",
   "metadata": {},
   "source": [
    "### Equations of Motion\n",
    "\n",
    "This section will derive analytic solutions to the following system of nonlinear coupled differential equations:"
   ]
  },
  {
   "cell_type": "code",
   "execution_count": 12,
   "metadata": {},
   "outputs": [
    {
     "data": {
      "text/latex": [
       "$\\displaystyle \\frac{d}{d z} \\operatorname{A_{1}}{\\left(z \\right)} = i \\operatorname{A_{1}}{\\left(z \\right)} + i \\operatorname{A_{3}}{\\left(z \\right)} \\operatorname{Ac_{2}}{\\left(z \\right)}$"
      ],
      "text/plain": [
       "Eq(Derivative(A1(z), z), I*A1(z) + I*A3(z)*Ac2(z))"
      ]
     },
     "execution_count": 12,
     "metadata": {},
     "output_type": "execute_result"
    }
   ],
   "source": [
    "A1p = I*A1(z) + I*Ac2(z)*A3(z)\n",
    "Ac1p = -I*Ac1(z) - I*A2(z)*Ac3(z)\n",
    "Eq(diff(A1(z),z), A1p)"
   ]
  },
  {
   "cell_type": "code",
   "execution_count": 13,
   "metadata": {},
   "outputs": [
    {
     "data": {
      "text/latex": [
       "$\\displaystyle \\frac{d}{d z} \\operatorname{A_{2}}{\\left(z \\right)} = i \\operatorname{A_{2}}{\\left(z \\right)} + i \\operatorname{A_{3}}{\\left(z \\right)} \\operatorname{Ac_{1}}{\\left(z \\right)}$"
      ],
      "text/plain": [
       "Eq(Derivative(A2(z), z), I*A2(z) + I*A3(z)*Ac1(z))"
      ]
     },
     "execution_count": 13,
     "metadata": {},
     "output_type": "execute_result"
    }
   ],
   "source": [
    "A2p = I*A2(z) + I*Ac1(z)*A3(z)\n",
    "Ac2p = -I*Ac2(z) - I*A1(z)*Ac3(z)\n",
    "Eq(diff(A2(z),z), A2p)"
   ]
  },
  {
   "cell_type": "code",
   "execution_count": 14,
   "metadata": {},
   "outputs": [
    {
     "data": {
      "text/latex": [
       "$\\displaystyle \\frac{d}{d z} \\operatorname{A_{3}}{\\left(z \\right)} = 2 i \\operatorname{A_{1}}{\\left(z \\right)} \\operatorname{A_{2}}{\\left(z \\right)} + i \\operatorname{A_{3}}{\\left(z \\right)}$"
      ],
      "text/plain": [
       "Eq(Derivative(A3(z), z), 2*I*A1(z)*A2(z) + I*A3(z))"
      ]
     },
     "execution_count": 14,
     "metadata": {},
     "output_type": "execute_result"
    }
   ],
   "source": [
    "A3p = I*A3(z) + 2*I*A1(z)*A2(z)\n",
    "Ac3p = -I*Ac3(z) - 2*I*Ac1(z)*Ac2(z)\n",
    "Eq(diff(A3(z),z), A3p)"
   ]
  },
  {
   "cell_type": "code",
   "execution_count": 15,
   "metadata": {},
   "outputs": [],
   "source": [
    "Pval = A1(z)*Ac1(z) + A2(z)*Ac2(z) + A3(z)*Ac3(z)\n",
    "Qval = A1(z)*Ac1(z) - A2(z)*Ac2(z)\n",
    "Kval = A1(z)*Ac1(z) + A2(z)*Ac2(z) + A3(z)*Ac3(z)/2 + A1(z)*A2(z)*Ac3(z) + Ac1(z)*Ac2(z)*A3(z)\n",
    "diff_subs = [\n",
    "    (diff(A1(z),z),A1p),(diff(A2(z),z),A2p),(diff(A3(z),z),A3p),\n",
    "    (diff(Ac1(z),z),Ac1p),(diff(Ac2(z),z),Ac2p),(diff(Ac3(z),z),Ac3p)\n",
    "]\n",
    "conserved_subs = [(P, Pval), (Q, Qval), (K, Kval)]"
   ]
  },
  {
   "cell_type": "markdown",
   "metadata": {},
   "source": [
    "### Conserved Quantities\n",
    "\n",
    "The system of equations conserves the following quantities:"
   ]
  },
  {
   "cell_type": "code",
   "execution_count": 16,
   "metadata": {},
   "outputs": [
    {
     "data": {
      "text/latex": [
       "$\\displaystyle P = \\operatorname{A_{1}}{\\left(z \\right)} \\operatorname{Ac_{1}}{\\left(z \\right)} + \\operatorname{A_{2}}{\\left(z \\right)} \\operatorname{Ac_{2}}{\\left(z \\right)} + \\operatorname{A_{3}}{\\left(z \\right)} \\operatorname{Ac_{3}}{\\left(z \\right)}$"
      ],
      "text/plain": [
       "Eq(P, A1(z)*Ac1(z) + A2(z)*Ac2(z) + A3(z)*Ac3(z))"
      ]
     },
     "execution_count": 16,
     "metadata": {},
     "output_type": "execute_result"
    }
   ],
   "source": [
    "Eq(P,Pval)"
   ]
  },
  {
   "cell_type": "code",
   "execution_count": 17,
   "metadata": {},
   "outputs": [
    {
     "data": {
      "text/latex": [
       "$\\displaystyle 0$"
      ],
      "text/plain": [
       "0"
      ]
     },
     "execution_count": 17,
     "metadata": {},
     "output_type": "execute_result"
    }
   ],
   "source": [
    "diff(Pval,z).subs(diff_subs).simplify()"
   ]
  },
  {
   "cell_type": "code",
   "execution_count": 18,
   "metadata": {},
   "outputs": [
    {
     "data": {
      "text/latex": [
       "$\\displaystyle Q = \\operatorname{A_{1}}{\\left(z \\right)} \\operatorname{Ac_{1}}{\\left(z \\right)} - \\operatorname{A_{2}}{\\left(z \\right)} \\operatorname{Ac_{2}}{\\left(z \\right)}$"
      ],
      "text/plain": [
       "Eq(Q, A1(z)*Ac1(z) - A2(z)*Ac2(z))"
      ]
     },
     "execution_count": 18,
     "metadata": {},
     "output_type": "execute_result"
    }
   ],
   "source": [
    "Eq(Q,Qval)"
   ]
  },
  {
   "cell_type": "code",
   "execution_count": 19,
   "metadata": {},
   "outputs": [
    {
     "data": {
      "text/latex": [
       "$\\displaystyle 0$"
      ],
      "text/plain": [
       "0"
      ]
     },
     "execution_count": 19,
     "metadata": {},
     "output_type": "execute_result"
    }
   ],
   "source": [
    "diff(Qval,z).subs(diff_subs).simplify()"
   ]
  },
  {
   "cell_type": "code",
   "execution_count": 20,
   "metadata": {},
   "outputs": [
    {
     "data": {
      "text/latex": [
       "$\\displaystyle K = \\operatorname{A_{1}}{\\left(z \\right)} \\operatorname{A_{2}}{\\left(z \\right)} \\operatorname{Ac_{3}}{\\left(z \\right)} + \\operatorname{A_{1}}{\\left(z \\right)} \\operatorname{Ac_{1}}{\\left(z \\right)} + \\operatorname{A_{2}}{\\left(z \\right)} \\operatorname{Ac_{2}}{\\left(z \\right)} + \\operatorname{A_{3}}{\\left(z \\right)} \\operatorname{Ac_{1}}{\\left(z \\right)} \\operatorname{Ac_{2}}{\\left(z \\right)} + \\frac{\\operatorname{A_{3}}{\\left(z \\right)} \\operatorname{Ac_{3}}{\\left(z \\right)}}{2}$"
      ],
      "text/plain": [
       "Eq(K, A1(z)*A2(z)*Ac3(z) + A1(z)*Ac1(z) + A2(z)*Ac2(z) + A3(z)*Ac1(z)*Ac2(z) + A3(z)*Ac3(z)/2)"
      ]
     },
     "execution_count": 20,
     "metadata": {},
     "output_type": "execute_result"
    }
   ],
   "source": [
    "Eq(K,Kval)"
   ]
  },
  {
   "cell_type": "code",
   "execution_count": 21,
   "metadata": {},
   "outputs": [
    {
     "data": {
      "text/latex": [
       "$\\displaystyle 0$"
      ],
      "text/plain": [
       "0"
      ]
     },
     "execution_count": 21,
     "metadata": {},
     "output_type": "execute_result"
    }
   ],
   "source": [
    "diff(Kval,z).subs(diff_subs).simplify()"
   ]
  },
  {
   "cell_type": "markdown",
   "metadata": {},
   "source": [
    "### Solving the Modal Power Analytically\n",
    "\n",
    "The first step is to derive a differential equation for the power in one mode which is decoupled from the other fields:"
   ]
  },
  {
   "cell_type": "code",
   "execution_count": 22,
   "metadata": {},
   "outputs": [
    {
     "data": {
      "text/latex": [
       "$\\displaystyle \\frac{d}{d z} \\operatorname{A_{1}}{\\left(z \\right)} \\operatorname{Ac_{1}}{\\left(z \\right)} = i \\left(- \\operatorname{A_{1}}{\\left(z \\right)} \\operatorname{A_{2}}{\\left(z \\right)} \\operatorname{Ac_{3}}{\\left(z \\right)} + \\operatorname{A_{3}}{\\left(z \\right)} \\operatorname{Ac_{1}}{\\left(z \\right)} \\operatorname{Ac_{2}}{\\left(z \\right)}\\right)$"
      ],
      "text/plain": [
       "Eq(Derivative(A1(z)*Ac1(z), z), I*(-A1(z)*A2(z)*Ac3(z) + A3(z)*Ac1(z)*Ac2(z)))"
      ]
     },
     "execution_count": 22,
     "metadata": {},
     "output_type": "execute_result"
    }
   ],
   "source": [
    "Eq(Derivative(A1(z)*Ac1(z),z),diff(A1(z)*Ac1(z),z).subs(diff_subs).simplify())"
   ]
  },
  {
   "cell_type": "markdown",
   "metadata": {},
   "source": [
    "By using the conserved quantities it can be seen that the derivative squared is proportional to a cubic and that this can be made to resemble the differential equation for the Weiertrass P function:"
   ]
  },
  {
   "cell_type": "code",
   "execution_count": 23,
   "metadata": {},
   "outputs": [
    {
     "data": {
      "text/latex": [
       "$\\displaystyle \\left(\\frac{d}{d z} \\operatorname{A_{1}}{\\left(z \\right)} \\operatorname{Ac_{1}}{\\left(z \\right)}\\right)^{2} = - \\left(K - \\frac{P}{2} + \\frac{Q}{2}\\right)^{2} - \\left(- 4 P - 12 Q + 1\\right) \\operatorname{A_{1}}^{2}{\\left(z \\right)} \\operatorname{Ac_{1}}^{2}{\\left(z \\right)} + \\left(2 K - 4 P Q - P - 4 Q^{2} + Q\\right) \\operatorname{A_{1}}{\\left(z \\right)} \\operatorname{Ac_{1}}{\\left(z \\right)} - 8 \\operatorname{A_{1}}^{3}{\\left(z \\right)} \\operatorname{Ac_{1}}^{3}{\\left(z \\right)}$"
      ],
      "text/plain": [
       "Eq(Derivative(A1(z)*Ac1(z), z)**2, -(K - P/2 + Q/2)**2 - (-4*P - 12*Q + 1)*A1(z)**2*Ac1(z)**2 + (2*K - 4*P*Q - P - 4*Q**2 + Q)*A1(z)*Ac1(z) - 8*A1(z)**3*Ac1(z)**3)"
      ]
     },
     "execution_count": 23,
     "metadata": {},
     "output_type": "execute_result"
    }
   ],
   "source": [
    "P1pSqrd = (-8*(A1(z)*Ac1(z))**3 - (1 - 12*Q - 4*P)*(A1(z)*Ac1(z))**2 + (2*K - P + Q - 4*Q*P - 4*Q**2)*(A1(z)*Ac1(z)) -\n",
    "   (K - P/2 + Q/2)**2)\n",
    "Eq(Derivative(A1(z)*Ac1(z),z)**2, P1pSqrd)"
   ]
  },
  {
   "cell_type": "code",
   "execution_count": 24,
   "metadata": {
    "scrolled": true
   },
   "outputs": [
    {
     "data": {
      "text/latex": [
       "$\\displaystyle 0$"
      ],
      "text/plain": [
       "0"
      ]
     },
     "execution_count": 24,
     "metadata": {},
     "output_type": "execute_result"
    }
   ],
   "source": [
    "(diff(A1(z)*Ac1(z),z)**2 - P1pSqrd).subs(diff_subs + conserved_subs).simplify()"
   ]
  },
  {
   "cell_type": "markdown",
   "metadata": {},
   "source": [
    "It is useful at this stage to define the following constants to simplify the algebra:"
   ]
  },
  {
   "cell_type": "code",
   "execution_count": 66,
   "metadata": {},
   "outputs": [],
   "source": [
    "p1val = (P/3 - Rational(1,12) + Q)\n",
    "p2val = (P/3 - Rational(1,12) - Q)\n",
    "p3val = (2*K - P + Q)\n",
    "P_val_in_p = (p1+p2)*Rational(3/2) + Rational(1/4)\n",
    "Q_val_in_p = (p1-p2)/2\n",
    "K_val_in_p = (p1 + p3)/2 + p2 + Rational(1/8)\n",
    "PQK_sub_vals = [(Q,Q_val_in_p), (P,P_val_in_p), (K,K_val_in_p)]"
   ]
  },
  {
   "cell_type": "code",
   "execution_count": 67,
   "metadata": {},
   "outputs": [
    {
     "data": {
      "text/latex": [
       "$\\displaystyle \\text{True}$"
      ],
      "text/plain": [
       "True"
      ]
     },
     "execution_count": 67,
     "metadata": {},
     "output_type": "execute_result"
    }
   ],
   "source": [
    "Eq(p1, p1val)"
   ]
  },
  {
   "cell_type": "code",
   "execution_count": 68,
   "metadata": {},
   "outputs": [
    {
     "data": {
      "text/latex": [
       "$\\displaystyle \\text{True}$"
      ],
      "text/plain": [
       "True"
      ]
     },
     "execution_count": 68,
     "metadata": {},
     "output_type": "execute_result"
    }
   ],
   "source": [
    "Eq(p2, p2val)"
   ]
  },
  {
   "cell_type": "code",
   "execution_count": 69,
   "metadata": {},
   "outputs": [
    {
     "data": {
      "text/latex": [
       "$\\displaystyle \\text{True}$"
      ],
      "text/plain": [
       "True"
      ]
     },
     "execution_count": 69,
     "metadata": {},
     "output_type": "execute_result"
    }
   ],
   "source": [
    "Eq(p3, p3val)"
   ]
  },
  {
   "cell_type": "markdown",
   "metadata": {},
   "source": [
    "The following quantities g2 and g3 are the elliptic invariants:"
   ]
  },
  {
   "cell_type": "code",
   "execution_count": 32,
   "metadata": {},
   "outputs": [],
   "source": [
    "g2val = 4*(p1val**2 + p1val*p2val + p2val**2) + 2*p3val - p1val + p2val\n",
    "g3val = (p1val - p3val)**2 - 4*(p1val*p2val**2 + p2val*p1val**2) - p1val*p2val"
   ]
  },
  {
   "cell_type": "code",
   "execution_count": 31,
   "metadata": {},
   "outputs": [
    {
     "data": {
      "text/latex": [
       "$\\displaystyle g_{2} = 4 p_{1}^{2} + 4 p_{1} p_{2} - p_{1} + 4 p_{2}^{2} + p_{2} + 2 p_{3}$"
      ],
      "text/plain": [
       "Eq(g2, 4*p1**2 + 4*p1*p2 - p1 + 4*p2**2 + p2 + 2*p3)"
      ]
     },
     "execution_count": 31,
     "metadata": {},
     "output_type": "execute_result"
    }
   ],
   "source": [
    "Eq(g2, 4*(p1**2 + p1*p2 + p2**2) + 2*p3 - p1 + p2)"
   ]
  },
  {
   "cell_type": "code",
   "execution_count": 7,
   "metadata": {},
   "outputs": [
    {
     "data": {
      "text/latex": [
       "$\\displaystyle g_{2} = 4 K - 2 P + 4 \\left(\\frac{P}{3} - Q - \\frac{1}{12}\\right)^{2} + 4 \\left(\\frac{P}{3} - Q - \\frac{1}{12}\\right) \\left(\\frac{P}{3} + Q - \\frac{1}{12}\\right) + 4 \\left(\\frac{P}{3} + Q - \\frac{1}{12}\\right)^{2}$"
      ],
      "text/plain": [
       "Eq(g2, 4*K - 2*P + 4*(P/3 - Q - 1/12)**2 + 4*(P/3 - Q - 1/12)*(P/3 + Q - 1/12) + 4*(P/3 + Q - 1/12)**2)"
      ]
     },
     "execution_count": 7,
     "metadata": {},
     "output_type": "execute_result"
    }
   ],
   "source": [
    "Eq(g2, g2val)"
   ]
  },
  {
   "cell_type": "code",
   "execution_count": 33,
   "metadata": {},
   "outputs": [
    {
     "data": {
      "text/latex": [
       "$\\displaystyle g_{3} = - 4 p_{1}^{2} p_{2} - 4 p_{1} p_{2}^{2} - p_{1} p_{2} + \\left(p_{1} - p_{3}\\right)^{2}$"
      ],
      "text/plain": [
       "Eq(g3, -4*p1**2*p2 - 4*p1*p2**2 - p1*p2 + (p1 - p3)**2)"
      ]
     },
     "execution_count": 33,
     "metadata": {},
     "output_type": "execute_result"
    }
   ],
   "source": [
    "Eq(g3, (p1 - p3)**2 - 4*(p1*p2**2 + p2*p1**2) - p1*p2)"
   ]
  },
  {
   "cell_type": "code",
   "execution_count": 8,
   "metadata": {},
   "outputs": [
    {
     "data": {
      "text/latex": [
       "$\\displaystyle g_{3} = \\left(- 2 K + \\frac{4 P}{3} - \\frac{1}{12}\\right)^{2} - 4 \\left(\\frac{P}{3} - Q - \\frac{1}{12}\\right)^{2} \\left(\\frac{P}{3} + Q - \\frac{1}{12}\\right) - 4 \\left(\\frac{P}{3} - Q - \\frac{1}{12}\\right) \\left(\\frac{P}{3} + Q - \\frac{1}{12}\\right)^{2} - \\left(\\frac{P}{3} - Q - \\frac{1}{12}\\right) \\left(\\frac{P}{3} + Q - \\frac{1}{12}\\right)$"
      ],
      "text/plain": [
       "Eq(g3, (-2*K + 4*P/3 - 1/12)**2 - 4*(P/3 - Q - 1/12)**2*(P/3 + Q - 1/12) - 4*(P/3 - Q - 1/12)*(P/3 + Q - 1/12)**2 - (P/3 - Q - 1/12)*(P/3 + Q - 1/12))"
      ]
     },
     "execution_count": 8,
     "metadata": {},
     "output_type": "execute_result"
    }
   ],
   "source": [
    "Eq(g3, g3val)"
   ]
  },
  {
   "cell_type": "markdown",
   "metadata": {},
   "source": [
    "Then, if the following function is defined it can be shown that the differential equation for the power in mode 1 is transformed into the differential equation for the Weierstrass P function:"
   ]
  },
  {
   "cell_type": "code",
   "execution_count": 19,
   "metadata": {},
   "outputs": [
    {
     "data": {
      "text/latex": [
       "$\\displaystyle \\operatorname{W_{1}}{\\left(z \\right)} = p_{1} - 2 \\operatorname{A_{1}}{\\left(z \\right)} \\operatorname{Ac_{1}}{\\left(z \\right)}$"
      ],
      "text/plain": [
       "Eq(W1(z), p1 - 2*A1(z)*Ac1(z))"
      ]
     },
     "execution_count": 19,
     "metadata": {},
     "output_type": "execute_result"
    }
   ],
   "source": [
    "Eq(W1(z), p1 - 2*A1(z)*Ac1(z))"
   ]
  },
  {
   "cell_type": "code",
   "execution_count": 20,
   "metadata": {},
   "outputs": [
    {
     "data": {
      "text/latex": [
       "$\\displaystyle \\left(\\frac{d}{d z} \\operatorname{W_{1}}{\\left(z \\right)}\\right)^{2} = - g_{2} \\operatorname{W_{1}}{\\left(z \\right)} - g_{3} + 4 \\operatorname{W_{1}}^{3}{\\left(z \\right)}$"
      ],
      "text/plain": [
       "Eq(Derivative(W1(z), z)**2, -g2*W1(z) - g3 + 4*W1(z)**3)"
      ]
     },
     "execution_count": 20,
     "metadata": {},
     "output_type": "execute_result"
    }
   ],
   "source": [
    "eq1 = Eq(4*Derivative(A1(z)*Ac1(z),z)**2, 4*P1pSqrd).subs(Ac1(z), (p1 - W1(z)).subs(p1, p1val)/A1(z)/2).expand()\n",
    "eq2 = Eq(diff(W1(z),z)**2,4*W1(z)**3 - g2*W1(z) - g3)\n",
    "eq2"
   ]
  },
  {
   "cell_type": "code",
   "execution_count": 18,
   "metadata": {},
   "outputs": [
    {
     "data": {
      "text/latex": [
       "$\\displaystyle \\operatorname{W_{1}}{\\left(z \\right)} = \\operatorname{pw}{\\left(z - z_{0},g_{2},g_{3} \\right)}$"
      ],
      "text/plain": [
       "Eq(W1(z), pw(z - z0, g2, g3))"
      ]
     },
     "execution_count": 18,
     "metadata": {},
     "output_type": "execute_result"
    }
   ],
   "source": [
    "Eq(W1(z),pw(z-z0, g2, g3))"
   ]
  },
  {
   "cell_type": "code",
   "execution_count": 22,
   "metadata": {},
   "outputs": [
    {
     "data": {
      "text/latex": [
       "$\\displaystyle 0$"
      ],
      "text/plain": [
       "0"
      ]
     },
     "execution_count": 22,
     "metadata": {},
     "output_type": "execute_result"
    }
   ],
   "source": [
    "(eq2.rhs - eq1.rhs).subs([(g2,g2val), (g3,g3val)]).subs([(p1, p1val),(p2,p2val), (p3,p3val)]).simplify()"
   ]
  },
  {
   "cell_type": "code",
   "execution_count": 35,
   "metadata": {},
   "outputs": [
    {
     "data": {
      "text/latex": [
       "$\\displaystyle \\operatorname{A_{1}}{\\left(z \\right)} \\operatorname{Ac_{1}}{\\left(z \\right)} = \\frac{p_{1}}{2} - \\frac{\\operatorname{pw}{\\left(z - z_{0},g_{2},g_{3} \\right)}}{2}$"
      ],
      "text/plain": [
       "Eq(A1(z)*Ac1(z), p1/2 - pw(z - z0, g2, g3)/2)"
      ]
     },
     "execution_count": 35,
     "metadata": {},
     "output_type": "execute_result"
    }
   ],
   "source": [
    "eq_pow_1 = Eq(A1(z)*Ac1(z),(p1 - W1(z))/2).subs(W1(z),pw(z-z0, g2, g3))\n",
    "eq_pow_1"
   ]
  },
  {
   "cell_type": "code",
   "execution_count": 36,
   "metadata": {},
   "outputs": [
    {
     "data": {
      "text/latex": [
       "$\\displaystyle \\operatorname{A_{1}}{\\left(z \\right)} \\operatorname{Ac_{1}}{\\left(z \\right)} = \\frac{P}{6} + \\frac{Q}{2} - \\frac{\\operatorname{pw}{\\left(z - z_{0},g_{2},g_{3} \\right)}}{2} - \\frac{1}{24}$"
      ],
      "text/plain": [
       "Eq(A1(z)*Ac1(z), P/6 + Q/2 - pw(z - z0, g2, g3)/2 - 1/24)"
      ]
     },
     "execution_count": 36,
     "metadata": {},
     "output_type": "execute_result"
    }
   ],
   "source": [
    "eq_pow_1.subs(p1,p1val)"
   ]
  },
  {
   "cell_type": "code",
   "execution_count": 37,
   "metadata": {},
   "outputs": [
    {
     "data": {
      "text/latex": [
       "$\\displaystyle \\frac{d}{d z} \\operatorname{A_{1}}{\\left(z \\right)} \\operatorname{Ac_{1}}{\\left(z \\right)} = - \\frac{\\operatorname{pwp}{\\left(z - z_{0},g_{2},g_{3} \\right)}}{2}$"
      ],
      "text/plain": [
       "Eq(Derivative(A1(z)*Ac1(z), z), -pwp(z - z0, g2, g3)/2)"
      ]
     },
     "execution_count": 37,
     "metadata": {},
     "output_type": "execute_result"
    }
   ],
   "source": [
    "eq_pow_1_div = Eq(Derivative(eq_pow_1.lhs,z), diff(eq_pow_1.rhs,z)).subs(diff(pw(z-z0, g2, g3),z),pwp(z-z0, g2, g3))\n",
    "eq_pow_1_div"
   ]
  },
  {
   "cell_type": "markdown",
   "metadata": {},
   "source": [
    "Having shown that the power in mode 1 and its derivative are expressible in terms of the Weierstrass P function and the Weierstrass P Prime function respectively, the power in modes 2 and 3 can be found using the conserved quantities:"
   ]
  },
  {
   "cell_type": "code",
   "execution_count": 38,
   "metadata": {},
   "outputs": [
    {
     "data": {
      "text/latex": [
       "$\\displaystyle Q = \\frac{p_{1}}{2} - \\operatorname{A_{2}}{\\left(z \\right)} \\operatorname{Ac_{2}}{\\left(z \\right)} - \\frac{\\operatorname{pw}{\\left(z - z_{0},g_{2},g_{3} \\right)}}{2}$"
      ],
      "text/plain": [
       "Eq(Q, p1/2 - A2(z)*Ac2(z) - pw(z - z0, g2, g3)/2)"
      ]
     },
     "execution_count": 38,
     "metadata": {},
     "output_type": "execute_result"
    }
   ],
   "source": [
    "Eq(Q,Qval).subs([(A1(z)*Ac1(z),eq_pow_1.rhs), ()])"
   ]
  },
  {
   "cell_type": "code",
   "execution_count": 71,
   "metadata": {},
   "outputs": [
    {
     "data": {
      "text/latex": [
       "$\\displaystyle \\operatorname{A_{2}}{\\left(z \\right)} \\operatorname{Ac_{2}}{\\left(z \\right)} = \\frac{P}{6} - \\frac{Q}{2} - \\frac{\\operatorname{pw}{\\left(z - z_{0},g_{2},g_{3} \\right)}}{2} - \\frac{1}{24}$"
      ],
      "text/plain": [
       "Eq(A2(z)*Ac2(z), P/6 - Q/2 - pw(z - z0, g2, g3)/2 - 1/24)"
      ]
     },
     "execution_count": 71,
     "metadata": {},
     "output_type": "execute_result"
    }
   ],
   "source": [
    "eq_pow_2 = Eq(Q,Qval).subs(A1(z)*Ac1(z),eq_pow_1.rhs).subs(p1,p1val)\n",
    "_a2q = A2(z)*Ac2(z) - Q\n",
    "eq_pow_2 = Eq(eq_pow_2.lhs + _a2q, eq_pow_2.rhs + _a2q)\n",
    "eq_pow_2"
   ]
  },
  {
   "cell_type": "code",
   "execution_count": 72,
   "metadata": {},
   "outputs": [
    {
     "data": {
      "text/latex": [
       "$\\displaystyle \\operatorname{A_{2}}{\\left(z \\right)} \\operatorname{Ac_{2}}{\\left(z \\right)} = \\frac{p_{2}}{2} - \\frac{\\operatorname{pw}{\\left(z - z_{0},g_{2},g_{3} \\right)}}{2}$"
      ],
      "text/plain": [
       "Eq(A2(z)*Ac2(z), p2/2 - pw(z - z0, g2, g3)/2)"
      ]
     },
     "execution_count": 72,
     "metadata": {},
     "output_type": "execute_result"
    }
   ],
   "source": [
    "eq_pow_2.subs(PQK_sub_vals)"
   ]
  },
  {
   "cell_type": "code",
   "execution_count": 74,
   "metadata": {},
   "outputs": [
    {
     "data": {
      "text/latex": [
       "$\\displaystyle \\operatorname{A_{3}}{\\left(z \\right)} \\operatorname{Ac_{3}}{\\left(z \\right)} = \\frac{2 P}{3} + \\operatorname{pw}{\\left(z - z_{0},g_{2},g_{3} \\right)} + \\frac{1}{12}$"
      ],
      "text/plain": [
       "Eq(A3(z)*Ac3(z), 2*P/3 + pw(z - z0, g2, g3) + 1/12)"
      ]
     },
     "execution_count": 74,
     "metadata": {},
     "output_type": "execute_result"
    }
   ],
   "source": [
    "eq_pow_3 = (Eq(P,Pval)\n",
    "            .subs([(A1(z)*Ac1(z),eq_pow_1.rhs), (A2(z)*Ac2(z),eq_pow_2.rhs)])\n",
    "            .subs(p1,p1val))\n",
    "_a3p = A3(z)*Ac3(z) + P \n",
    "eq_pow_3 = Eq(-eq_pow_3.lhs + _a3p, -eq_pow_3.rhs + _a3p)\n",
    "eq_pow_3"
   ]
  },
  {
   "cell_type": "code",
   "execution_count": 75,
   "metadata": {},
   "outputs": [
    {
     "data": {
      "text/latex": [
       "$\\displaystyle \\operatorname{A_{3}}{\\left(z \\right)} \\operatorname{Ac_{3}}{\\left(z \\right)} = p_{1} + p_{2} + \\operatorname{pw}{\\left(z - z_{0},g_{2},g_{3} \\right)} + \\frac{1}{4}$"
      ],
      "text/plain": [
       "Eq(A3(z)*Ac3(z), p1 + p2 + pw(z - z0, g2, g3) + 1/4)"
      ]
     },
     "execution_count": 75,
     "metadata": {},
     "output_type": "execute_result"
    }
   ],
   "source": [
    "eq_pow_3.subs(PQK_sub_vals)"
   ]
  },
  {
   "cell_type": "markdown",
   "metadata": {},
   "source": [
    "## Solving for the Complex Fields via the logarithmic derivative"
   ]
  },
  {
   "cell_type": "code",
   "execution_count": 26,
   "metadata": {},
   "outputs": [
    {
     "data": {
      "text/latex": [
       "$\\displaystyle \\frac{\\frac{d}{d z} \\operatorname{A_{1}}{\\left(z \\right)}}{\\operatorname{A_{1}}{\\left(z \\right)}} = i + \\frac{i \\operatorname{A_{3}}{\\left(z \\right)} \\operatorname{Ac_{2}}{\\left(z \\right)}}{\\operatorname{A_{1}}{\\left(z \\right)}}$"
      ],
      "text/plain": [
       "Eq(Derivative(A1(z), z)/A1(z), I + I*A3(z)*Ac2(z)/A1(z))"
      ]
     },
     "execution_count": 26,
     "metadata": {},
     "output_type": "execute_result"
    }
   ],
   "source": [
    "eq_logdiv1_a = Eq(diff(A1(z),z)/A1(z), A1p/A1(z)).expand()\n",
    "eq_logdiv1_a"
   ]
  },
  {
   "cell_type": "code",
   "execution_count": 27,
   "metadata": {},
   "outputs": [
    {
     "data": {
      "text/latex": [
       "$\\displaystyle \\frac{i K}{2 \\operatorname{A_{1}}{\\left(z \\right)} \\operatorname{Ac_{1}}{\\left(z \\right)}} - \\frac{i P}{4 \\operatorname{A_{1}}{\\left(z \\right)} \\operatorname{Ac_{1}}{\\left(z \\right)}} + \\frac{i Q}{4 \\operatorname{A_{1}}{\\left(z \\right)} \\operatorname{Ac_{1}}{\\left(z \\right)}} - \\frac{i}{2} + \\frac{\\frac{d}{d z} \\operatorname{A_{1}}{\\left(z \\right)} \\operatorname{Ac_{1}}{\\left(z \\right)}}{2 \\operatorname{A_{1}}{\\left(z \\right)} \\operatorname{Ac_{1}}{\\left(z \\right)}} = \\frac{i \\operatorname{A_{3}}{\\left(z \\right)} \\operatorname{Ac_{2}}{\\left(z \\right)}}{\\operatorname{A_{1}}{\\left(z \\right)}}$"
      ],
      "text/plain": [
       "Eq(I*K/(2*A1(z)*Ac1(z)) - I*P/(4*A1(z)*Ac1(z)) + I*Q/(4*A1(z)*Ac1(z)) - I/2 + Derivative(A1(z)*Ac1(z), z)/(2*A1(z)*Ac1(z)), I*A3(z)*Ac2(z)/A1(z))"
      ]
     },
     "execution_count": 27,
     "metadata": {},
     "output_type": "execute_result"
    }
   ],
   "source": [
    "eq_logdiv1_b = Eq((I*K + I*Q/2 -I*P/2 + Derivative(A1(z)*Ac1(z),z) - I*A1(z)*Ac1(z))/(A1(z)*Ac1(z))/2, \n",
    "   (-I*Pval/2 + I*Qval/2 + I*Kval + diff(A1(z)*Ac1(z),z).subs(diff_subs) - I*A1(z)*Ac1(z))/(A1(z)*Ac1(z))/2\n",
    "  ).expand()\n",
    "eq_logdiv1_b"
   ]
  },
  {
   "cell_type": "code",
   "execution_count": 28,
   "metadata": {},
   "outputs": [
    {
     "data": {
      "text/latex": [
       "$\\displaystyle \\frac{\\frac{d}{d z} \\operatorname{A_{1}}{\\left(z \\right)}}{\\operatorname{A_{1}}{\\left(z \\right)}} = \\frac{i K}{2 \\operatorname{A_{1}}{\\left(z \\right)} \\operatorname{Ac_{1}}{\\left(z \\right)}} - \\frac{i P}{4 \\operatorname{A_{1}}{\\left(z \\right)} \\operatorname{Ac_{1}}{\\left(z \\right)}} + \\frac{i Q}{4 \\operatorname{A_{1}}{\\left(z \\right)} \\operatorname{Ac_{1}}{\\left(z \\right)}} + \\frac{i}{2} + \\frac{\\frac{d}{d z} \\operatorname{A_{1}}{\\left(z \\right)} \\operatorname{Ac_{1}}{\\left(z \\right)}}{2 \\operatorname{A_{1}}{\\left(z \\right)} \\operatorname{Ac_{1}}{\\left(z \\right)}}$"
      ],
      "text/plain": [
       "Eq(Derivative(A1(z), z)/A1(z), I*K/(2*A1(z)*Ac1(z)) - I*P/(4*A1(z)*Ac1(z)) + I*Q/(4*A1(z)*Ac1(z)) + I/2 + Derivative(A1(z)*Ac1(z), z)/(2*A1(z)*Ac1(z)))"
      ]
     },
     "execution_count": 28,
     "metadata": {},
     "output_type": "execute_result"
    }
   ],
   "source": [
    "eq_logdiv1_c = eq_logdiv1_a.subs(eq_logdiv1_b.rhs,eq_logdiv1_b.lhs)\n",
    "eq_logdiv1_c"
   ]
  },
  {
   "cell_type": "code",
   "execution_count": 29,
   "metadata": {},
   "outputs": [
    {
     "data": {
      "text/latex": [
       "$\\displaystyle \\frac{\\frac{d}{d z} \\operatorname{A_{1}}{\\left(z \\right)}}{\\operatorname{A_{1}}{\\left(z \\right)}} = \\frac{2 i K - i P + i Q + i \\left(p_{1} - \\operatorname{pw}{\\left(z - z_{0},g_{2},g_{3} \\right)}\\right) - \\operatorname{pwp}{\\left(z - z_{0},g_{2},g_{3} \\right)}}{2 \\left(p_{1} - \\operatorname{pw}{\\left(z - z_{0},g_{2},g_{3} \\right)}\\right)}$"
      ],
      "text/plain": [
       "Eq(Derivative(A1(z), z)/A1(z), (2*I*K - I*P + I*Q + I*(p1 - pw(z - z0, g2, g3)) - pwp(z - z0, g2, g3))/(2*(p1 - pw(z - z0, g2, g3))))"
      ]
     },
     "execution_count": 29,
     "metadata": {},
     "output_type": "execute_result"
    }
   ],
   "source": [
    "Eq(eq_logdiv1_c.lhs, \n",
    "   eq_logdiv1_c.rhs.subs(eq_pow_1_div.lhs, eq_pow_1_div.rhs).subs(eq_pow_1.lhs/Ac1(z), eq_pow_1.rhs/Ac1(z))\n",
    ").simplify()"
   ]
  },
  {
   "cell_type": "markdown",
   "metadata": {},
   "source": [
    "## Functional Relations"
   ]
  },
  {
   "cell_type": "code",
   "execution_count": 30,
   "metadata": {},
   "outputs": [],
   "source": [
    "b1val = 1\n",
    "b2val = 1\n",
    "b3val = 3\n",
    "rho1val = b1val + zw(xi1)\n",
    "rho2val = b2val + zw(xi2)\n",
    "rho3val = b3val + zw(xi3)"
   ]
  },
  {
   "cell_type": "code",
   "execution_count": 31,
   "metadata": {},
   "outputs": [
    {
     "data": {
      "text/latex": [
       "$\\displaystyle \\operatorname{A_{1}}{\\left(z \\right)} = \\frac{c_{1} \\sigma{\\left(\\xi_{1} + z - z_{0} \\right)} e^{\\rho_{1} z}}{\\sigma{\\left(z - z_{0} \\right)}}$"
      ],
      "text/plain": [
       "Eq(A1(z), c1*sigma(xi1 + z - z0)*exp(rho1*z)/sigma(z - z0))"
      ]
     },
     "execution_count": 31,
     "metadata": {},
     "output_type": "execute_result"
    }
   ],
   "source": [
    "eqq1 = Eq(A1(z),c1*sigma(z-z0 +xi1)/sigma(z-z0)*exp(rho1*z))\n",
    "eqq1"
   ]
  },
  {
   "cell_type": "code",
   "execution_count": 32,
   "metadata": {},
   "outputs": [
    {
     "data": {
      "text/latex": [
       "$\\displaystyle \\operatorname{A_{1}}{\\left(- \\xi_{1} - z + 2 z_{0} \\right)} = \\frac{c_{1} \\sigma{\\left(z - z_{0} \\right)} e^{\\rho_{1} \\left(- \\xi_{1} - z + 2 z_{0}\\right)}}{\\sigma{\\left(\\xi_{1} + z - z_{0} \\right)}}$"
      ],
      "text/plain": [
       "Eq(A1(-xi1 - z + 2*z0), c1*sigma(z - z0)*exp(rho1*(-xi1 - z + 2*z0))/sigma(xi1 + z - z0))"
      ]
     },
     "execution_count": 32,
     "metadata": {},
     "output_type": "execute_result"
    }
   ],
   "source": [
    "eqq2 = eqq1.subs(z,-z-xi1+z0).subs([(sigma(-z),-sigma(z)),(sigma(-xi1-z),-sigma(xi1+z))]).subs(z,z-z0)\n",
    "eqq2"
   ]
  },
  {
   "cell_type": "code",
   "execution_count": 33,
   "metadata": {},
   "outputs": [
    {
     "data": {
      "text/latex": [
       "$\\displaystyle c_{1}^{2} e^{\\rho_{1} \\left(- \\xi_{1} + 2 z_{0}\\right)} = \\operatorname{A_{1}}{\\left(- \\frac{\\xi_{1}}{2} - z + z_{0} \\right)} \\operatorname{A_{1}}{\\left(- \\frac{\\xi_{1}}{2} + z + z_{0} \\right)}$"
      ],
      "text/plain": [
       "Eq(c1**2*exp(rho1*(-xi1 + 2*z0)), A1(-xi1/2 - z + z0)*A1(-xi1/2 + z + z0))"
      ]
     },
     "execution_count": 33,
     "metadata": {},
     "output_type": "execute_result"
    }
   ],
   "source": [
    "eqq3 = Eq(eqq1.lhs*eqq2.lhs,eqq1.rhs*eqq2.rhs).simplify().subs(z,z+z0-xi1/2)\n",
    "eqq3"
   ]
  },
  {
   "cell_type": "code",
   "execution_count": 34,
   "metadata": {},
   "outputs": [
    {
     "data": {
      "text/latex": [
       "$\\displaystyle c_{1}^{2} e^{\\rho_{1} \\left(- \\xi_{1} + 2 z_{0}\\right)} = \\operatorname{A_{1}}^{2}{\\left(- \\frac{\\xi_{1}}{2} + z_{0} \\right)}$"
      ],
      "text/plain": [
       "Eq(c1**2*exp(rho1*(-xi1 + 2*z0)), A1(-xi1/2 + z0)**2)"
      ]
     },
     "execution_count": 34,
     "metadata": {},
     "output_type": "execute_result"
    }
   ],
   "source": [
    "eqq4 = Eq(eqq1.lhs*eqq2.lhs,eqq1.rhs*eqq2.rhs).simplify().subs(z,z+z0-xi1/2).subs(z,0)\n",
    "eqq4"
   ]
  },
  {
   "cell_type": "code",
   "execution_count": 35,
   "metadata": {},
   "outputs": [
    {
     "data": {
      "text/latex": [
       "$\\displaystyle 1 = \\frac{\\operatorname{A_{1}}{\\left(- \\frac{\\xi_{1}}{2} - z + z_{0} \\right)} \\operatorname{A_{1}}{\\left(- \\frac{\\xi_{1}}{2} + z + z_{0} \\right)}}{\\operatorname{A_{1}}^{2}{\\left(- \\frac{\\xi_{1}}{2} + z_{0} \\right)}}$"
      ],
      "text/plain": [
       "Eq(1, A1(-xi1/2 - z + z0)*A1(-xi1/2 + z + z0)/A1(-xi1/2 + z0)**2)"
      ]
     },
     "execution_count": 35,
     "metadata": {},
     "output_type": "execute_result"
    }
   ],
   "source": [
    "eqq5 = eqq3.subs(eqq4.lhs,eqq4.rhs)\n",
    "eqq5 = Eq(1, eqq5.rhs/eqq5.lhs)\n",
    "eqq5"
   ]
  },
  {
   "cell_type": "code",
   "execution_count": 44,
   "metadata": {},
   "outputs": [
    {
     "data": {
      "text/latex": [
       "$\\displaystyle w_{1} = \\int\\limits_{e_{1}}^{\\infty} \\frac{1}{\\sqrt{- g_{2} s - g_{3} + 4 s^{3}}}\\, ds$"
      ],
      "text/plain": [
       "Eq(w1, Integral(1/sqrt(-g2*s - g3 + 4*s**3), (s, e1, oo)))"
      ]
     },
     "execution_count": 44,
     "metadata": {},
     "output_type": "execute_result"
    }
   ],
   "source": [
    "w1_int = Integral(1/sqrt(4*s**3 - g2*s - g3),(s,e1,oo))\n",
    "Eq(w1, w1_int)"
   ]
  },
  {
   "cell_type": "code",
   "execution_count": 46,
   "metadata": {},
   "outputs": [
    {
     "data": {
      "text/latex": [
       "$\\displaystyle w_{3} = i \\int\\limits_{-\\infty}^{e_{3}} \\frac{1}{\\sqrt{g_{2} s + g_{3} - 4 s^{3}}}\\, ds$"
      ],
      "text/plain": [
       "Eq(w3, I*Integral(1/sqrt(g2*s + g3 - 4*s**3), (s, -oo, e3)))"
      ]
     },
     "execution_count": 46,
     "metadata": {},
     "output_type": "execute_result"
    }
   ],
   "source": [
    "w3_int = I*Integral(1/sqrt(-4*s**3 + g2*s + g3),(s,-oo,e3))\n",
    "Eq(w3, w3_int)"
   ]
  },
  {
   "cell_type": "code",
   "execution_count": 47,
   "metadata": {},
   "outputs": [
    {
     "data": {
      "text/latex": [
       "$\\displaystyle w_{3} = 1.510772 \\cdot 10^{-8} + 1.571251 i$"
      ],
      "text/plain": [
       "Eq(w3, 1.510772e-8 + 1.571251*I)"
      ]
     },
     "execution_count": 47,
     "metadata": {},
     "output_type": "execute_result"
    }
   ],
   "source": [
    "Eq(w3, w3_int.subs(e_g_subs).evalf())"
   ]
  },
  {
   "cell_type": "code",
   "execution_count": 16,
   "metadata": {},
   "outputs": [
    {
     "data": {
      "text/latex": [
       "$\\displaystyle z_{0} = - \\int\\limits_{\\operatorname{pw}{\\left(z_{0} \\right)}}^{\\infty} \\frac{1}{\\sqrt{- g_{2} s - g_{3} + 4 s^{3}}}\\, ds$"
      ],
      "text/plain": [
       "Eq(z0, -Integral(1/sqrt(-g2*s - g3 + 4*s**3), (s, pw(z0), oo)))"
      ]
     },
     "execution_count": 16,
     "metadata": {},
     "output_type": "execute_result"
    }
   ],
   "source": [
    "Eq(z0,-Integral(1/sqrt(4*s**3 - g2*s - g3),(s,pw(z0),oo)))"
   ]
  },
  {
   "cell_type": "code",
   "execution_count": null,
   "metadata": {},
   "outputs": [],
   "source": []
  }
 ],
 "metadata": {
  "kernelspec": {
   "display_name": "Python 3",
   "language": "python",
   "name": "python3"
  },
  "language_info": {
   "codemirror_mode": {
    "name": "ipython",
    "version": 3
   },
   "file_extension": ".py",
   "mimetype": "text/x-python",
   "name": "python",
   "nbconvert_exporter": "python",
   "pygments_lexer": "ipython3",
   "version": "3.8.10"
  }
 },
 "nbformat": 4,
 "nbformat_minor": 4
}
