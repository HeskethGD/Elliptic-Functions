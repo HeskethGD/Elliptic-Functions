{
 "cells": [
  {
   "cell_type": "markdown",
   "id": "cf839c70",
   "metadata": {},
   "source": [
    "# Series expansions of the Kronecker theta function\n",
    "\n",
    "The paper by [Zagier](https://people.mpim-bonn.mpg.de/zagier/files/doi/10.1007/BF01245085/fulltext.pdf) may be relevant."
   ]
  },
  {
   "cell_type": "code",
   "execution_count": 2,
   "id": "4760f5fc",
   "metadata": {},
   "outputs": [],
   "source": [
    "from sympy import *\n",
    "(x, y, X, Y, Z, C, n, m, l, j, q, K, N, M, P, Q, k, epsilon, z, s, p1, p2, p3, g2, g3,c1, c2, c3, \n",
    " z0, xi1, xi2, xi3, xi4, rho1, rho2, rho3, w1, w2, w3, e1, e2, e3, Delta, \n",
    " omega1, omega2, omega3, eta1, eta2, eta3,  d1, d2, d3, R) = symbols(\n",
    "    '''x, y, X, Y, Z, C, n, m, l, j, q, K, N, M, P, Q, k, epsilon, z, s, p1, p2, p3, g2, g3, c1, c2, c3,\n",
    "    z0, xi1, xi2, xi3, xi4, rho1, rho2, rho3, w1, w2, w3, e1, e2, e3, Delta, \n",
    "    omega1, omega2, omega3, eta1, eta2, eta3, d1, d2, d3, R'''\n",
    ")\n",
    "phi, alpha, delta, t, nu, epsilon, tau, xi, omega, omicron = symbols(\n",
    "    'phi, alpha, delta, t, nu, epsilon, tau, xi, omega, omicron')\n",
    "pw = Function('pw') # Weierstrass P function\n",
    "pwp = Function('pwp') # Derivative of Weierstrass P function\n",
    "zw = Function('zw') # Weierstrass Zeta function\n",
    "sigma = Function('sigma') # Weierstrass Sigma function\n",
    "theta = Function('theta') # Jacobi theta\n",
    "G2 = Function('G2') # Unloved Eisenstein series\n",
    "\n",
    "f = Function(\"f\")\n",
    "g = Function(\"g\")\n",
    "h = Function('h')\n",
    "F = Function(\"F\")\n",
    "G = Function(\"G\")\n",
    "u = Function('u')\n",
    "\n",
    "beta = IndexedBase('beta')\n",
    "xi = IndexedBase('xi')\n",
    "rho = IndexedBase('rho')\n",
    "lamb = IndexedBase('lambda')\n",
    "nu = IndexedBase('nu')\n",
    "mu = IndexedBase('mu')\n",
    "kappa = IndexedBase('kappa')\n",
    "c = IndexedBase('c')\n",
    "\n",
    "\n",
    "from mpmath import exp as mpexp\n",
    "from mpmath import jtheta, mpf\n",
    "def mpc_to_float(mpc_val):\n",
    "    return float(mpc_val.real) + float(mpc_val.imag)*1j\n",
    "\n",
    "from IPython.core.interactiveshell import InteractiveShell\n",
    "InteractiveShell.ast_node_interactivity = 'all'"
   ]
  },
  {
   "cell_type": "markdown",
   "id": "a808990b",
   "metadata": {},
   "source": [
    "## Weierstrass Zeta function\n",
    "The lattice point $m=0,n=0$ shoudl be excluded from the sums below. The fuction $G(k,z)$ is the $k^{th}$ order Eisenstein series."
   ]
  },
  {
   "cell_type": "code",
   "execution_count": 78,
   "id": "36fd2933",
   "metadata": {},
   "outputs": [
    {
     "data": {
      "text/latex": [
       "$\\displaystyle \\operatorname{zw}{\\left(z,g_{2},g_{3} \\right)} = - \\sum_{k=1}^{\\infty} z^{2 k + 1} G{\\left(2 k + 2,\\omega_{1},\\omega_{2} \\right)} + \\frac{1}{z}$"
      ],
      "text/plain": [
       "Eq(zw(z, g2, g3), -Sum(z**(2*k + 1)*G(2*k + 2, omega1, omega2), (k, 1, oo)) + 1/z)"
      ]
     },
     "execution_count": 78,
     "metadata": {},
     "output_type": "execute_result"
    },
    {
     "data": {
      "text/latex": [
       "$\\displaystyle G{\\left(k,\\omega_{1},\\omega_{2} \\right)} = \\sum_{\\substack{-\\infty \\leq m \\leq \\infty\\\\-\\infty \\leq n \\leq \\infty}} \\left(m + n \\tau\\right)^{- k}$"
      ],
      "text/plain": [
       "Eq(G(k, omega1, omega2), Sum((m + n*tau)**(-k), (m, -oo, oo), (n, -oo, oo)))"
      ]
     },
     "execution_count": 78,
     "metadata": {},
     "output_type": "execute_result"
    }
   ],
   "source": [
    "zw_series  = Eq(zw(z,g2,g3), 1/z  - Sum(G(2*k+2,omega1, omega2)*z**(2*k+1),(k,1,oo)))\n",
    "Gk_eq = Eq(G(k,omega1, omega2), Sum(1/(m+n*tau)**k,(m,-oo,oo),(n,-oo,oo)))\n",
    "\n",
    "zw_series\n",
    "Gk_eq"
   ]
  },
  {
   "cell_type": "code",
   "execution_count": 66,
   "id": "ca9e9b52",
   "metadata": {},
   "outputs": [
    {
     "data": {
      "text/latex": [
       "$\\displaystyle \\frac{\\left. \\frac{\\partial}{\\partial \\xi_{1}} \\sigma{\\left(\\xi_{1},g_{2},g_{3} \\right)} \\right|_{\\substack{ \\xi_{1}=x + z }}}{\\sigma{\\left(x + z,g_{2},g_{3} \\right)}} - \\frac{\\frac{\\partial}{\\partial z} \\sigma{\\left(z,g_{2},g_{3} \\right)}}{\\sigma{\\left(z,g_{2},g_{3} \\right)}}$"
      ],
      "text/plain": [
       "Subs(Derivative(sigma(_xi_1, g2, g3), _xi_1), _xi_1, x + z)/sigma(x + z, g2, g3) - Derivative(sigma(z, g2, g3), z)/sigma(z, g2, g3)"
      ]
     },
     "execution_count": 66,
     "metadata": {},
     "output_type": "execute_result"
    }
   ],
   "source": [
    "diff(log(sigma(z+x,g2,g3)/sigma(z,g2,g3)),z).simplify()"
   ]
  },
  {
   "cell_type": "code",
   "execution_count": 86,
   "id": "91d17558",
   "metadata": {},
   "outputs": [
    {
     "data": {
      "text/latex": [
       "$\\displaystyle \\frac{\\partial}{\\partial z} \\log{\\left(\\frac{\\sigma{\\left(x + z,g_{2},g_{3} \\right)}}{\\sigma{\\left(z,g_{2},g_{3} \\right)}} \\right)} = - \\operatorname{zw}{\\left(z,g_{2},g_{3} \\right)} + \\operatorname{zw}{\\left(x + z,g_{2},g_{3} \\right)}$"
      ],
      "text/plain": [
       "Eq(Derivative(log(sigma(x + z, g2, g3)/sigma(z, g2, g3)), z), -zw(z, g2, g3) + zw(x + z, g2, g3))"
      ]
     },
     "execution_count": 86,
     "metadata": {},
     "output_type": "execute_result"
    },
    {
     "data": {
      "text/latex": [
       "$\\displaystyle \\frac{\\partial}{\\partial z} \\log{\\left(\\frac{\\sigma{\\left(x + z,g_{2},g_{3} \\right)}}{\\sigma{\\left(z,g_{2},g_{3} \\right)}} \\right)} = \\sum_{k=1}^{\\infty} z^{2 k + 1} G{\\left(2 k + 2,\\omega_{1},\\omega_{2} \\right)} - \\sum_{k=1}^{\\infty} \\left(x + z\\right)^{2 k + 1} G{\\left(2 k + 2,\\omega_{1},\\omega_{2} \\right)} + \\frac{1}{x + z} - \\frac{1}{z}$"
      ],
      "text/plain": [
       "Eq(Derivative(log(sigma(x + z, g2, g3)/sigma(z, g2, g3)), z), Sum(z**(2*k + 1)*G(2*k + 2, omega1, omega2), (k, 1, oo)) - Sum((x + z)**(2*k + 1)*G(2*k + 2, omega1, omega2), (k, 1, oo)) + 1/(x + z) - 1/z)"
      ]
     },
     "execution_count": 86,
     "metadata": {},
     "output_type": "execute_result"
    }
   ],
   "source": [
    "log_diff_kron = Eq(Derivative(log(sigma(z+x,g2,g3)/sigma(z,g2,g3)),z), zw(z+x,g2,g3) - zw(z,g2,g3))\n",
    "z_diff_eq = Eq(zw_series.lhs - zw_series.subs(z,z+x).lhs, zw_series.rhs - zw_series.subs(z,z+x).rhs)\n",
    "log_diff_kron\n",
    "log_diff_kron.subs(*z_diff_eq.args)"
   ]
  },
  {
   "cell_type": "code",
   "execution_count": 68,
   "id": "4409dfa5",
   "metadata": {},
   "outputs": [
    {
     "data": {
      "text/latex": [
       "$\\displaystyle \\int \\left(\\frac{1}{x + z} - \\frac{1}{z}\\right)\\, dz = - \\log{\\left(z \\right)} + \\log{\\left(x + z \\right)}$"
      ],
      "text/plain": [
       "Eq(Integral(1/(x + z) - 1/z, z), -log(z) + log(x + z))"
      ]
     },
     "execution_count": 68,
     "metadata": {},
     "output_type": "execute_result"
    },
    {
     "data": {
      "text/latex": [
       "$\\displaystyle \\int z^{2 k + 1}\\, dz = \\begin{cases} \\frac{z^{2 k + 2}}{2 k + 2} & \\text{for}\\: k \\neq -1 \\\\\\log{\\left(z \\right)} & \\text{otherwise} \\end{cases}$"
      ],
      "text/plain": [
       "Eq(Integral(z**(2*k + 1), z), Piecewise((z**(2*k + 2)/(2*k + 2), Ne(k, -1)), (log(z), True)))"
      ]
     },
     "execution_count": 68,
     "metadata": {},
     "output_type": "execute_result"
    },
    {
     "data": {
      "text/latex": [
       "$\\displaystyle \\int \\left(x + z\\right)^{2 k + 1}\\, dz = \\begin{cases} \\frac{\\left(x + z\\right)^{2 k + 2}}{2 k + 2} & \\text{for}\\: k \\neq -1 \\\\\\log{\\left(x + z \\right)} & \\text{otherwise} \\end{cases}$"
      ],
      "text/plain": [
       "Eq(Integral((x + z)**(2*k + 1), z), Piecewise(((x + z)**(2*k + 2)/(2*k + 2), Ne(k, -1)), (log(x + z), True)))"
      ]
     },
     "execution_count": 68,
     "metadata": {},
     "output_type": "execute_result"
    }
   ],
   "source": [
    "Eq(Integral(1/(x+z) - 1/z,z), integrate(1/(x+z) - 1/z,z))\n",
    "Eq(Integral(z**(2*k+1),z), integrate(z**(2*k+1),z))\n",
    "Eq(Integral((x+z)**(2*k+1),z), integrate((x+z)**(2*k+1),z))"
   ]
  },
  {
   "cell_type": "code",
   "execution_count": 82,
   "id": "524275ea",
   "metadata": {},
   "outputs": [
    {
     "data": {
      "text/latex": [
       "$\\displaystyle \\log{\\left(\\frac{z \\sigma{\\left(x + z,g_{2},g_{3} \\right)}}{\\left(x + z\\right) \\sigma{\\left(z,g_{2},g_{3} \\right)}} \\right)} = \\sum_{k=1}^{\\infty} \\frac{\\left(z^{2 k + 1} - \\left(x + z\\right)^{2 k + 1}\\right) G{\\left(2 k + 2,\\omega_{1},\\omega_{2} \\right)}}{2 k + 1}$"
      ],
      "text/plain": [
       "Eq(log(z*sigma(x + z, g2, g3)/((x + z)*sigma(z, g2, g3))), Sum((z**(2*k + 1) - (x + z)**(2*k + 1))*G(2*k + 2, omega1, omega2)/(2*k + 1), (k, 1, oo)))"
      ]
     },
     "execution_count": 82,
     "metadata": {},
     "output_type": "execute_result"
    }
   ],
   "source": [
    "Eq(log(sigma(z+x,g2,g3)/sigma(z,g2,g3)*z/(x+z)),\n",
    "   Sum((z**(2*k+1) - (x+z)**(2*k+1))*G(2*k+2,omega1, omega2)/(2*k+1), (k,1,oo)))"
   ]
  },
  {
   "cell_type": "code",
   "execution_count": 83,
   "id": "db3355b7",
   "metadata": {},
   "outputs": [
    {
     "data": {
      "text/latex": [
       "$\\displaystyle \\frac{z \\sigma{\\left(x + z,g_{2},g_{3} \\right)}}{\\left(x + z\\right) \\sigma{\\left(z,g_{2},g_{3} \\right)}} = e^{\\sum_{k=1}^{\\infty} \\frac{\\left(z^{2 k + 1} - \\left(x + z\\right)^{2 k + 1}\\right) G{\\left(2 k + 2,\\omega_{1},\\omega_{2} \\right)}}{2 k + 1}}$"
      ],
      "text/plain": [
       "Eq(z*sigma(x + z, g2, g3)/((x + z)*sigma(z, g2, g3)), exp(Sum((z**(2*k + 1) - (x + z)**(2*k + 1))*G(2*k + 2, omega1, omega2)/(2*k + 1), (k, 1, oo))))"
      ]
     },
     "execution_count": 83,
     "metadata": {},
     "output_type": "execute_result"
    }
   ],
   "source": [
    "Eq(sigma(z+x,g2,g3)/sigma(z,g2,g3)*z/(x+z),\n",
    "   exp(Sum((z**(2*k+1) - (x+z)**(2*k+1))*G(2*k+2,omega1, omega2)/(2*k+1), (k,1,oo))))"
   ]
  },
  {
   "cell_type": "code",
   "execution_count": 90,
   "id": "df186cb8",
   "metadata": {},
   "outputs": [
    {
     "data": {
      "text/latex": [
       "$\\displaystyle \\left(\\left. \\frac{d}{d z} f{\\left(z \\right)} \\right|_{\\substack{ z=0 }}^{2} + \\left. \\frac{d^{2}}{d z^{2}} f{\\left(z \\right)} \\right|_{\\substack{ z=0 }}\\right) e^{f{\\left(0 \\right)}}$"
      ],
      "text/plain": [
       "(Subs(Derivative(f(z), z), z, 0)**2 + Subs(Derivative(f(z), (z, 2)), z, 0))*exp(f(0))"
      ]
     },
     "execution_count": 90,
     "metadata": {},
     "output_type": "execute_result"
    }
   ],
   "source": [
    "diff(exp(f(z)),(z,2)).subs(z,0).doit()"
   ]
  },
  {
   "cell_type": "code",
   "execution_count": 91,
   "id": "f8c3d39d",
   "metadata": {},
   "outputs": [
    {
     "data": {
      "text/latex": [
       "$\\displaystyle f{\\left(z \\right)} = \\sum_{k=1}^{\\infty} \\frac{\\left(z^{2 k + 1} - \\left(x + z\\right)^{2 k + 1}\\right) G{\\left(2 k + 2,\\omega_{1},\\omega_{2} \\right)}}{2 k + 1}$"
      ],
      "text/plain": [
       "Eq(f(z), Sum((z**(2*k + 1) - (x + z)**(2*k + 1))*G(2*k + 2, omega1, omega2)/(2*k + 1), (k, 1, oo)))"
      ]
     },
     "execution_count": 91,
     "metadata": {},
     "output_type": "execute_result"
    }
   ],
   "source": [
    "Eq(f(z), Sum((z**(2*k+1) - (x+z)**(2*k+1))*G(2*k+2,omega1, omega2)/(2*k+1), (k,1,oo)))"
   ]
  },
  {
   "cell_type": "code",
   "execution_count": 119,
   "id": "8815bacf",
   "metadata": {},
   "outputs": [
    {
     "data": {
      "text/latex": [
       "$\\displaystyle - \\frac{2 x \\left(x^{10} + 55 x^{8} z^{2} + 330 x^{6} z^{4} + 462 x^{4} z^{6} + 165 x^{2} z^{8} + 11 z^{10}\\right) G{\\left(12,\\omega_{1},\\omega_{2} \\right)}}{11}$"
      ],
      "text/plain": [
       "-2*x*(x**10 + 55*x**8*z**2 + 330*x**6*z**4 + 462*x**4*z**6 + 165*x**2*z**8 + 11*z**10)*G(12, omega1, omega2)/11"
      ]
     },
     "execution_count": 119,
     "metadata": {},
     "output_type": "execute_result"
    }
   ],
   "source": [
    "(((z-x)**(2*k+1) - (x+z)**(2*k+1))*G(2*k+2,omega1, omega2)/(2*k+1)).subs(k,5).simplify().expand().factor()"
   ]
  },
  {
   "cell_type": "code",
   "execution_count": null,
   "id": "345475a3",
   "metadata": {},
   "outputs": [],
   "source": []
  }
 ],
 "metadata": {
  "kernelspec": {
   "display_name": "Python 3 (ipykernel)",
   "language": "python",
   "name": "python3"
  },
  "language_info": {
   "codemirror_mode": {
    "name": "ipython",
    "version": 3
   },
   "file_extension": ".py",
   "mimetype": "text/x-python",
   "name": "python",
   "nbconvert_exporter": "python",
   "pygments_lexer": "ipython3",
   "version": "3.11.6"
  }
 },
 "nbformat": 4,
 "nbformat_minor": 5
}
