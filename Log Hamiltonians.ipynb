{
 "cells": [
  {
   "cell_type": "markdown",
   "id": "07758907-5b99-4389-9b7b-041c1aed78c8",
   "metadata": {},
   "source": [
    "# Log Hamiltonians"
   ]
  },
  {
   "cell_type": "code",
   "execution_count": 51,
   "id": "5e66417d-8e8c-4046-8a71-c0862cc69ac5",
   "metadata": {},
   "outputs": [],
   "source": [
    "from sympy import *\n",
    "(x, y, X, Y, Z, B, C, n, m, l, j, q, N, M, K, k, epsilon, z, s, p1, p2, p3, g2, g3, a0, a1, a2, a3, b0, b1, b2, b3, c0, c1, c2, c3,\n",
    " z0, e1, e2, e3, Delta, s0, s1, s2, s3, r0, r1, r2, r3, beta0, beta1,\n",
    " omega1, omega2, omega3, eta1, eta2, eta3, d1, d2, d3) = symbols(\n",
    "    '''x, y, X, Y, Z, B, C, n, m, l, j, q, N, M, K, k, epsilon, z, s, p1, p2, p3, g2, g3, a0, a1, a2, a3, b0, b1, b2, b3, c0, c1, c2, c3,\n",
    "    z0, e1, e2, e3, Delta, s0, s1, s2, s3, r0, r1, r2, r3 beta0, beta1,\n",
    "    omega1, omega2, omega3, eta1, eta2, eta3, d1, d2, d3'''\n",
    ")\n",
    "alpha, delta, t, nu, epsilon, theta = symbols('alpha, delta, t, nu, epsilon, theta')\n",
    "pw = Function('pw') # Weierstrass P function\n",
    "pwp = Function('pwp') # Derivative of Weierstrass P function\n",
    "zw = Function('zw') # Weierstrass Zeta function\n",
    "sigma = Function('sigma') # Weierstrass Sigma function\n",
    "rho = Function('rho')\n",
    "f = Function('f')\n",
    "h = Function('h')\n",
    "s = Function('s')\n",
    "u = Function('u')\n",
    "v = Function('v')\n",
    "P = Function('P') # Polynomial\n",
    "Q = Function('Q') # Polynomial\n",
    "phi = Function('phi')\n",
    "Phi = Function('Phi')\n",
    "phi1 = Function('phi1')\n",
    "phi2 = Function('phi2')\n",
    "phi3 = Function('phi3')\n",
    "A = Function('A')\n",
    "Ac = Function('Ac')\n",
    "A1 = Function('A1')\n",
    "A2 = Function('A2')\n",
    "A3 = Function('A3')\n",
    "Ac1 = Function('Ac1')\n",
    "Ac2 = Function('Ac2')\n",
    "Ac3 = Function('Ac3')\n",
    "A4 = Function('A4')\n",
    "A5 = Function('A5')\n",
    "A6 = Function('A6')\n",
    "A7 = Function('A7')\n",
    "A8 = Function('A8')\n",
    "Kk = Function('Kk')\n",
    "Det = Function(\"Det\")\n",
    "\n",
    "kappa = IndexedBase('kappa')\n",
    "beta = IndexedBase('beta')\n",
    "mu = IndexedBase('mu')\n",
    "xi = IndexedBase('xi')\n",
    "# a = IndexedBase('a')\n",
    "# b = IndexedBase('b')\n",
    "# c = IndexedBase('c')\n",
    "d = IndexedBase('d')\n",
    "p = IndexedBase('p')\n",
    "G = IndexedBase('G')\n",
    "r = IndexedBase('r')\n",
    "w = IndexedBase('w')\n",
    "psi = IndexedBase('psi')\n",
    "upsilon = IndexedBase('upsilon')\n",
    "WPdet = Function('WPdet')\n",
    "\n",
    "Omega = IndexedBase('Omega')\n",
    "T = Function('T')\n",
    "V = Function('V')\n",
    "Dz = Function('Dz') # Derivate w.r.t z\n",
    "L = Function('L')\n",
    "U = Function(\"U\")\n",
    "Qa = Function(\"Qa\")\n",
    "Qb = Function(\"Qb\")\n",
    "Qc = Function(\"Qc\")\n",
    "from math import prod\n",
    "\n",
    "from IPython.core.interactiveshell import InteractiveShell\n",
    "InteractiveShell.ast_node_interactivity = 'all'"
   ]
  },
  {
   "cell_type": "code",
   "execution_count": 71,
   "id": "59da1f90-b70f-4f1f-96f7-6411c0a0449c",
   "metadata": {},
   "outputs": [
    {
     "data": {
      "text/latex": [
       "$\\displaystyle \\operatorname{Kk}{\\left(u{\\left(z \\right)},v{\\left(z \\right)} \\right)} = \\alpha \\log{\\left(u{\\left(z \\right)} v{\\left(z \\right)} \\right)} + u{\\left(z \\right)} + \\frac{u{\\left(z \\right)}}{v{\\left(z \\right)}} + v{\\left(z \\right)} + \\frac{v{\\left(z \\right)}}{u{\\left(z \\right)}}$"
      ],
      "text/plain": [
       "Eq(Kk(u(z), v(z)), alpha*log(u(z)*v(z)) + u(z) + u(z)/v(z) + v(z) + v(z)/u(z))"
      ]
     },
     "execution_count": 71,
     "metadata": {},
     "output_type": "execute_result"
    }
   ],
   "source": [
    "R = Matrix([\n",
    "    [r[0,0], r[0,1], r[0,2]],\n",
    "    [r[1,0], r[1,1], r[1,2]],\n",
    "    [r[2,0], r[2,1], r[2,2]]\n",
    "])\n",
    "Wuv = w[0]*u(z)**3 + w[1]*v(z)**3 + w[2]*u(z)*v(z)**2 + w[3]*v(z)*u(z)**2\n",
    "uv3vec = Matrix([u(z), v(z), 1])\n",
    "Ruv = (uv3vec.T*R*uv3vec)[0].expand().collect([u(z),v(z),u(z)*v(z)])\n",
    "Luv = beta0*ln(u(z)) + beta1*ln(v(z))\n",
    "Kuv = Ruv + Wuv + Luv\n",
    "Kuv_eq = Eq(Kk(u(z),v(z)), Kuv)\n",
    "Kuv_eq = Eq(Kk(u(z),v(z)), \n",
    "            alpha*log(u(z)*v(z)) + u(z) + v(z)\n",
    "            +u(z)/v(z) + v(z)/u(z)\n",
    "           \n",
    "           )\n",
    "\n",
    "# Kuv_eq = Kuv_eq.subs([(r[1,0],0), (r[2,0],0), (r[2,1],0), (r[2,2],0)])\n",
    "Kuv_eq"
   ]
  },
  {
   "cell_type": "code",
   "execution_count": 85,
   "id": "dd1d123c-4f32-40c9-ae32-fe1af04d6819",
   "metadata": {},
   "outputs": [
    {
     "data": {
      "text/latex": [
       "$\\displaystyle \\frac{\\frac{d}{d z} u{\\left(z \\right)}}{f{\\left(u{\\left(z \\right)},v{\\left(z \\right)} \\right)}} = \\frac{d}{d v{\\left(z \\right)}} \\operatorname{Kk}{\\left(u{\\left(z \\right)},v{\\left(z \\right)} \\right)}$"
      ],
      "text/plain": [
       "Eq(Derivative(u(z), z)/f(u(z), v(z)), Derivative(Kk(u(z), v(z)), v(z)))"
      ]
     },
     "execution_count": 85,
     "metadata": {},
     "output_type": "execute_result"
    },
    {
     "data": {
      "text/latex": [
       "$\\displaystyle \\frac{\\frac{d}{d z} v{\\left(z \\right)}}{f{\\left(u{\\left(z \\right)},v{\\left(z \\right)} \\right)}} = - \\frac{d}{d u{\\left(z \\right)}} \\operatorname{Kk}{\\left(u{\\left(z \\right)},v{\\left(z \\right)} \\right)}$"
      ],
      "text/plain": [
       "Eq(Derivative(v(z), z)/f(u(z), v(z)), -Derivative(Kk(u(z), v(z)), u(z)))"
      ]
     },
     "execution_count": 85,
     "metadata": {},
     "output_type": "execute_result"
    }
   ],
   "source": [
    "# dLogu = Eq(diff(u(z),z)/(u(z)*v(z)), diff(Kk(u(z),v(z)),v(z)))\n",
    "# dLogv = Eq(diff(v(z),z)/(u(z)*v(z)), -diff(Kk(u(z),v(z)),u(z)))\n",
    "\n",
    "# dLogu = Eq(diff(u(z),z)/(u(z)), diff(Kk(u(z),v(z)),v(z)))\n",
    "# dLogv = Eq(diff(v(z),z)/(u(z)), -diff(Kk(u(z),v(z)),u(z)))\n",
    "\n",
    "f_sub = (f(u(z),v(z)), (u(z)*v(z))**2)\n",
    "dLogu = Eq(diff(u(z),z)/f(u(z),v(z)), diff(Kk(u(z),v(z)),v(z)))#.subs(*f_sub)\n",
    "dLogv = Eq(diff(v(z),z)/f(u(z),v(z)), -diff(Kk(u(z),v(z)),u(z)))#.subs(*f_sub)\n",
    "\n",
    "dLogu\n",
    "dLogv"
   ]
  },
  {
   "cell_type": "code",
   "execution_count": 86,
   "id": "7071121f-82ae-45ea-a9e4-19c5f3183486",
   "metadata": {},
   "outputs": [
    {
     "data": {
      "text/latex": [
       "$\\displaystyle \\frac{d}{d z} u{\\left(z \\right)} = \\frac{\\alpha f{\\left(u{\\left(z \\right)},v{\\left(z \\right)} \\right)}}{v{\\left(z \\right)}} - \\frac{f{\\left(u{\\left(z \\right)},v{\\left(z \\right)} \\right)} u{\\left(z \\right)}}{v^{2}{\\left(z \\right)}} + f{\\left(u{\\left(z \\right)},v{\\left(z \\right)} \\right)} + \\frac{f{\\left(u{\\left(z \\right)},v{\\left(z \\right)} \\right)}}{u{\\left(z \\right)}}$"
      ],
      "text/plain": [
       "Eq(Derivative(u(z), z), alpha*f(u(z), v(z))/v(z) - f(u(z), v(z))*u(z)/v(z)**2 + f(u(z), v(z)) + f(u(z), v(z))/u(z))"
      ]
     },
     "execution_count": 86,
     "metadata": {},
     "output_type": "execute_result"
    },
    {
     "data": {
      "text/latex": [
       "$\\displaystyle \\frac{d}{d z} v{\\left(z \\right)} = - \\frac{\\alpha f{\\left(u{\\left(z \\right)},v{\\left(z \\right)} \\right)}}{u{\\left(z \\right)}} - f{\\left(u{\\left(z \\right)},v{\\left(z \\right)} \\right)} - \\frac{f{\\left(u{\\left(z \\right)},v{\\left(z \\right)} \\right)}}{v{\\left(z \\right)}} + \\frac{f{\\left(u{\\left(z \\right)},v{\\left(z \\right)} \\right)} v{\\left(z \\right)}}{u^{2}{\\left(z \\right)}}$"
      ],
      "text/plain": [
       "Eq(Derivative(v(z), z), -alpha*f(u(z), v(z))/u(z) - f(u(z), v(z)) - f(u(z), v(z))/v(z) + f(u(z), v(z))*v(z)/u(z)**2)"
      ]
     },
     "execution_count": 86,
     "metadata": {},
     "output_type": "execute_result"
    }
   ],
   "source": [
    "du = Eq(diff(u(z),z), solve(dLogu.subs(*Kuv_eq.args).doit(), diff(u(z),z))[0]).expand()\n",
    "dv = Eq(diff(v(z),z), solve(dLogv.subs(*Kuv_eq.args).doit(), diff(v(z),z))[0]).expand()\n",
    "du\n",
    "dv"
   ]
  },
  {
   "cell_type": "code",
   "execution_count": 87,
   "id": "6d50e52e-1106-443f-86a9-6ee946d17155",
   "metadata": {},
   "outputs": [
    {
     "data": {
      "text/latex": [
       "$\\displaystyle \\frac{d}{d z} \\operatorname{Kk}{\\left(u{\\left(z \\right)},v{\\left(z \\right)} \\right)} = 0$"
      ],
      "text/plain": [
       "Eq(Derivative(Kk(u(z), v(z)), z), 0)"
      ]
     },
     "execution_count": 87,
     "metadata": {},
     "output_type": "execute_result"
    }
   ],
   "source": [
    "Eq(Derivative(Kuv_eq.lhs,z), diff(Kuv_eq.rhs,z).doit().subs([du.args, dv.args]).simplify())"
   ]
  },
  {
   "cell_type": "code",
   "execution_count": 81,
   "id": "7ad64aa4-d750-4d44-9544-db66e028f2f0",
   "metadata": {},
   "outputs": [
    {
     "data": {
      "text/latex": [
       "$\\displaystyle \\frac{\\alpha f{\\left(u{\\left(z \\right)},v{\\left(z \\right)} \\right)} u{\\left(z \\right)} v{\\left(z \\right)} - f{\\left(u{\\left(z \\right)},v{\\left(z \\right)} \\right)} u^{2}{\\left(z \\right)} + f{\\left(u{\\left(z \\right)},v{\\left(z \\right)} \\right)} u{\\left(z \\right)} v^{2}{\\left(z \\right)} + f{\\left(u{\\left(z \\right)},v{\\left(z \\right)} \\right)} v^{2}{\\left(z \\right)} - u^{2}{\\left(z \\right)} v^{2}{\\left(z \\right)} \\beta}{u{\\left(z \\right)} v^{2}{\\left(z \\right)}}$"
      ],
      "text/plain": [
       "(alpha*f(u(z), v(z))*u(z)*v(z) - f(u(z), v(z))*u(z)**2 + f(u(z), v(z))*u(z)*v(z)**2 + f(u(z), v(z))*v(z)**2 - u(z)**2*v(z)**2*beta)/(u(z)*v(z)**2)"
      ]
     },
     "execution_count": 81,
     "metadata": {},
     "output_type": "execute_result"
    }
   ],
   "source": [
    "(du.rhs-u(z)*beta).factor()"
   ]
  },
  {
   "cell_type": "code",
   "execution_count": null,
   "id": "731bb104-62ae-4fbb-812b-a3ff0798eb84",
   "metadata": {},
   "outputs": [],
   "source": []
  }
 ],
 "metadata": {
  "kernelspec": {
   "display_name": "Python 3 (ipykernel)",
   "language": "python",
   "name": "python3"
  },
  "language_info": {
   "codemirror_mode": {
    "name": "ipython",
    "version": 3
   },
   "file_extension": ".py",
   "mimetype": "text/x-python",
   "name": "python",
   "nbconvert_exporter": "python",
   "pygments_lexer": "ipython3",
   "version": "3.10.13"
  }
 },
 "nbformat": 4,
 "nbformat_minor": 5
}
