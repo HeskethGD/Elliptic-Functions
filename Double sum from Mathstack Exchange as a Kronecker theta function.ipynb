{
 "cells": [
  {
   "cell_type": "markdown",
   "id": "94e2628f",
   "metadata": {},
   "source": [
    "# Double sum from Mathstack Exchange as a Kronecker theta function\n",
    "\n",
    "https://math.stackexchange.com/questions/426325/evaluate-int-01-frac-log-left-1x2-sqrt3-right1x-mathrm-dx\n",
    "\n",
    "\n",
    "https://www.sciencedirect.com/science/article/pii/S0022247X05003719?ref=pdf_download&fr=RR-2&rr=8744281078b16f49"
   ]
  },
  {
   "cell_type": "code",
   "execution_count": null,
   "id": "87aed6ab",
   "metadata": {},
   "outputs": [],
   "source": [
    "from sympy import *\n",
    "(xi, eta, u, tau, N, M, n, m, k, l, z, x, y, t, q, a, w, s, g2, g3, omega1, omega2, omega3, x1, x2, T,\n",
    " alpha, beta, mu, nu\n",
    ") = symbols(\n",
    "    '''\n",
    "    xi, eta, u, tau, N, M, n, m, k, l, z, x, y, t, q, a, w, s, g2, g3, omega1, omega2, omega3, x1, x2, T,\n",
    "    alpha, beta, mu, nu\n",
    "    '''\n",
    ")\n",
    "Ser = Function('Ser')\n",
    "pw = Function('pw') # Weierstrass P function\n",
    "pwp = Function('pwp') # Derivative of Weierstrass P function\n",
    "zw = Function('zw') # Weierstrass Zeta function\n",
    "sigma = Function('sigma') # Weierstrass Sigma function\n",
    "f = Function('f')\n",
    "h = Function('h')\n",
    "K = Function('K')\n",
    "F = Function('F')\n",
    "theta = Function('theta')\n",
    "Theta = Function('Theta')\n",
    "vartheta = IndexedBase('vartheta')\n",
    "from math import prod\n",
    "\n",
    "from IPython.core.interactiveshell import InteractiveShell\n",
    "InteractiveShell.ast_node_interactivity = 'all'"
   ]
  },
  {
   "cell_type": "code",
   "execution_count": null,
   "id": "1a425e5a",
   "metadata": {},
   "outputs": [],
   "source": [
    "Fa_integral = Eq(F(a), Integral(log(1+x**a)/(1+x),(x,0,1)))\n",
    "dFa_integral = Eq(diff(F(a),a), diff(Integral(log(1+x**a)/(1+x),(x,0,1)),a))\n",
    "Fa_integral\n",
    "dFa_integral"
   ]
  },
  {
   "cell_type": "code",
   "execution_count": null,
   "id": "1b76fc25",
   "metadata": {},
   "outputs": [],
   "source": [
    "Fmina_integral = Eq(F(-a), Integral(log(1+x**(-a))/(1+x),(x,0,1)))\n",
    "Fmina_integral"
   ]
  },
  {
   "cell_type": "code",
   "execution_count": null,
   "id": "1303e791",
   "metadata": {},
   "outputs": [],
   "source": [
    "Eq(log(1+x**a), log(x**a*(1+x**(-a))))\n",
    "Eq(log(1+x**a), log(x**a) + log(1+x**(-a)))\n",
    "Eq(log(1+x**(-a)), log(1+x**a) - a*log(x))"
   ]
  },
  {
   "cell_type": "code",
   "execution_count": null,
   "id": "87e1c0ad",
   "metadata": {},
   "outputs": [],
   "source": [
    "Fmina_integral_b = Eq(F(-a), -a*Integral(log(x)/(1+x),(x,0,1)) + Integral(log(1+x**(a))/(1+x),(x,0,1)))\n",
    "Fmina_integral_b"
   ]
  },
  {
   "cell_type": "code",
   "execution_count": null,
   "id": "37d03cae",
   "metadata": {},
   "outputs": [],
   "source": [
    "Eq(Integral(log(x)/(1+x),(x,0,1)), Integral(log(x)/(1+x),(x,0,1)).doit())"
   ]
  },
  {
   "cell_type": "code",
   "execution_count": null,
   "id": "d7ea7bb9",
   "metadata": {},
   "outputs": [],
   "source": [
    "Fmina_integral_c = Eq(F(-a), a*pi**2/12 + F(a))\n",
    "Fmina_integral_c"
   ]
  },
  {
   "cell_type": "code",
   "execution_count": null,
   "id": "e2dc80a8",
   "metadata": {},
   "outputs": [],
   "source": [
    "Sum(x**n,(n,1,oo)).doit()"
   ]
  },
  {
   "cell_type": "code",
   "execution_count": null,
   "id": "2903d8ec",
   "metadata": {},
   "outputs": [],
   "source": [
    "Eq(-1/(1-exp(mu)), Sum(exp(-mu*n),(n,1,oo)))"
   ]
  },
  {
   "cell_type": "code",
   "execution_count": null,
   "id": "e9c31376",
   "metadata": {},
   "outputs": [],
   "source": [
    "Eq(1/(1-exp(mu*x))/(1-exp(nu*x)), Sum(Sum(exp(-mu*m*x-nu*n*x),(n,1,oo)),(m,1,oo)))"
   ]
  },
  {
   "cell_type": "code",
   "execution_count": null,
   "id": "76e055fe",
   "metadata": {},
   "outputs": [],
   "source": [
    "Eq(Integral(1/(1-exp(mu*x))/(1-exp(nu*x)),x), -Sum(Sum(exp(-mu*m*x-nu*n*x)/(m*mu+n*nu),(n,1,oo)),(m,1,oo)))"
   ]
  },
  {
   "cell_type": "code",
   "execution_count": null,
   "id": "6a64410e",
   "metadata": {},
   "outputs": [],
   "source": [
    "Eq(1/(1-exp(mu*(x+I*y)))/(1-exp(nu*(x+I*y))), Sum(Sum(exp(-mu*m*(x+I*y)-nu*n*(x+I*y)),(n,1,oo)),(m,1,oo)))"
   ]
  },
  {
   "cell_type": "code",
   "execution_count": null,
   "id": "66369aef",
   "metadata": {},
   "outputs": [],
   "source": [
    "Eq(exp(-x*z)/(1-exp(mu*(x+I*y)))/(1-exp(nu*(x+I*y))), \n",
    "   Sum(Sum(exp(-mu*m*(x+I*y)-nu*n*(x+I*y) -x*z),(n,1,oo)),(m,1,oo)))"
   ]
  },
  {
   "cell_type": "code",
   "execution_count": null,
   "id": "bf612061",
   "metadata": {},
   "outputs": [],
   "source": [
    "Eq(Integral(exp(-x*z)/(1-exp(mu*(x+I)))/(1-exp(nu*(x+I))),(x,0,oo)), \n",
    "   Sum(Sum(integrate(exp(-mu*m*(x+I)-nu*n*(x+I) -x*z),(x,0,oo)),(n,1,oo)),(m,1,oo)))"
   ]
  },
  {
   "cell_type": "code",
   "execution_count": null,
   "id": "4a7622ec",
   "metadata": {},
   "outputs": [],
   "source": [
    "integrate(exp(-mu*m*(x+I)-nu*n*(x+I) -x*z),(x,0,oo)).simplify()"
   ]
  },
  {
   "cell_type": "code",
   "execution_count": null,
   "id": "5a33e7ae",
   "metadata": {},
   "outputs": [],
   "source": [
    "integrate(exp(-mu*m*(x+I)-nu*n*(x+I) -x*z),(x,0,oo)).simplify()"
   ]
  },
  {
   "cell_type": "code",
   "execution_count": null,
   "id": "7d5efee6",
   "metadata": {},
   "outputs": [],
   "source": [
    "Eq(2*pi*Integral(exp(-x*2*pi*z)/(1-exp(mu*2*pi*(x+I)))/(1-exp(nu*2*pi**(x+I))),(x,0,oo)), \n",
    "   Sum(Sum(exp(-2*I*pi*(mu*m + nu*n))/(mu*m + nu*n + z),(n,1,oo)),(m,1,oo)))"
   ]
  },
  {
   "cell_type": "code",
   "execution_count": null,
   "id": "92823e94",
   "metadata": {},
   "outputs": [],
   "source": [
    "ff = Eq(Integral(exp(-x*z)/(1-exp(mu*(x+2*pi*I)))/(1-exp(nu*(x+2*pi*I))),(x,0,oo)), \n",
    "   Sum(Sum(exp(-2*I*pi*(mu*m + nu*n))/(mu*m + nu*n + z),(n,1,oo)),(m,1,oo)))\n",
    "ff"
   ]
  },
  {
   "cell_type": "code",
   "execution_count": null,
   "id": "f7b5359b",
   "metadata": {},
   "outputs": [],
   "source": [
    "Eq(Integral(exp(-x*z)/(1-exp(mu*(x+2*pi*I)))/(1-exp(nu*(x+2*pi*I))),(x,0,oo)), \n",
    "   Sum(Sum(exp(-2*I*pi*(mu*m + nu*n))/(mu*m + nu*n + z),(n,1,N)),(m,1,M)))"
   ]
  },
  {
   "cell_type": "code",
   "execution_count": null,
   "id": "2cdf8efb",
   "metadata": {},
   "outputs": [],
   "source": [
    "def db_sum(_mu, _nu, _z, _N, _M):\n",
    "    terms = [ \n",
    "        (exp(-2*I*pi*(_mu*_m + _nu*_n))/(_mu*_m + _nu*_n + _z)).evalf()\n",
    "        for _n in range(1,_N) for _m in range(1,_M)\n",
    "    ]\n",
    "    return sum(terms)\n",
    "    "
   ]
  },
  {
   "cell_type": "code",
   "execution_count": null,
   "id": "21f841a0",
   "metadata": {},
   "outputs": [],
   "source": [
    "int_num = ff.lhs.subs([(mu,0.2), (nu, 1.4), (z,3)]).evalf()\n",
    "sum_num = db_sum(_mu=0.2, _nu=1.4, _z=3, _N=500, _M=500)\n",
    "\n",
    "int_num\n",
    "sum_num\n",
    "abs(int_num - sum_num)/abs(int_num + sum_num)/2"
   ]
  },
  {
   "cell_type": "code",
   "execution_count": null,
   "id": "2ebc2c05",
   "metadata": {},
   "outputs": [],
   "source": [
    "Eq(exp(-t*z)/(1-exp(omega1*t + 2*pi*I*x1))/(1-exp(omega2*t + 2*pi*I*x2)),\n",
    "   Sum(Sum(exp(-omega1*m*t + 2*pi*m*I*x1 -omega2*n*t + 2*pi*n*I*x2 -t*z),(n,1,oo)),(m,1,oo)))"
   ]
  },
  {
   "cell_type": "code",
   "execution_count": null,
   "id": "ddcdbc04",
   "metadata": {},
   "outputs": [],
   "source": [
    "Eq(exp(-t*z)/(1-exp(2*omega1*t + 2*pi*I*x1))/(1-exp(2*omega2*t + 2*pi*I*x2)),\n",
    "   Sum(Sum(exp(-2*omega1*m*t + 2*pi*m*I*x1 -2*omega2*n*t + 2*pi*n*I*x2 -t*z),(n,1,oo)),(m,1,oo)))"
   ]
  },
  {
   "cell_type": "code",
   "execution_count": null,
   "id": "d8eac829",
   "metadata": {},
   "outputs": [],
   "source": [
    "gg = Eq(Integral(exp(-t*z)/(1-exp(2*omega1*t - 2*pi*I*x1))/(1-exp(2*omega2*t - 2*pi*I*x2)),(t,0,oo)),\n",
    "   Sum(Sum(exp(2*I*pi*(m*x1+n*x2))/(2*m*omega1 + 2*n*omega2 +z),(n,1,oo)),(m,1,oo)))\n",
    "gg"
   ]
  },
  {
   "cell_type": "code",
   "execution_count": null,
   "id": "032547c0",
   "metadata": {},
   "outputs": [],
   "source": [
    "integrate(exp(-2*omega1*m*t + 2*pi*m*I*x1 -2*omega2*n*t + 2*pi*n*I*x2 -t*z),(t,0,oo)).doit().simplify()"
   ]
  },
  {
   "cell_type": "code",
   "execution_count": null,
   "id": "67a06b3e",
   "metadata": {},
   "outputs": [],
   "source": [
    "def db_sum(_omega1, _omega2, _x1, _x2, _z, _N, _M, n_start=1):\n",
    "    terms = [ \n",
    "        (exp(2*I*pi*(_x1*_m + _x2*_n))/(2*_omega1*_m + 2*_omega2*_n + _z)).evalf()\n",
    "        for _n in range(n_start,_N) for _m in range(1,_M)\n",
    "    ]\n",
    "    return sum(terms)"
   ]
  },
  {
   "cell_type": "code",
   "execution_count": null,
   "id": "edc2f1d0",
   "metadata": {},
   "outputs": [],
   "source": [
    "_vals = {\n",
    "    '_omega1': 1.2, '_omega2': -(0.6+0.9j), '_x1': 0.7, '_x2': -1.4, '_z': 3.2, '_N': 500, '_M': 500\n",
    "}\n",
    "_vals_pos = {\n",
    "    '_omega1': 1.2, '_omega2': 0.6+0.9j, '_x1': 0.7, '_x2': 1.4, '_z': 3.2, '_N': 500, '_M': 500\n",
    "}\n",
    "_subs_vals = [\n",
    "    (omega1, _vals['_omega1']), \n",
    "    (omega2, _vals['_omega2']), \n",
    "    (x1, _vals['_x1']),\n",
    "    (x2, _vals['_x2']), \n",
    "    (z, _vals['_z'])\n",
    "]\n",
    "_subs_vals_pos = [\n",
    "    (omega1, _vals_pos['_omega1']), \n",
    "    (omega2, _vals_pos['_omega2']), \n",
    "    (x1, _vals_pos['_x1']),\n",
    "    (x2, _vals_pos['_x2']), \n",
    "    (z, _vals_pos['_z'])\n",
    "]"
   ]
  },
  {
   "cell_type": "code",
   "execution_count": null,
   "id": "ffbfe050",
   "metadata": {},
   "outputs": [],
   "source": [
    "int_num = gg.lhs.subs(_subs_vals_pos).evalf()\n",
    "int_num"
   ]
  },
  {
   "cell_type": "code",
   "execution_count": null,
   "id": "ec1a7594",
   "metadata": {},
   "outputs": [],
   "source": [
    "sum_num = -db_sum(**_vals, n_start=0)\n",
    "sum_num\n",
    "1 - abs(int_num - sum_num)/abs(int_num + sum_num)/2"
   ]
  },
  {
   "cell_type": "code",
   "execution_count": null,
   "id": "0bfb10e6",
   "metadata": {},
   "outputs": [],
   "source": [
    "(pi/2).evalf() - 0.062"
   ]
  },
  {
   "cell_type": "code",
   "execution_count": null,
   "id": "5e70a158",
   "metadata": {},
   "outputs": [],
   "source": [
    "(pi/4).evalf() + 0.0668"
   ]
  },
  {
   "cell_type": "code",
   "execution_count": null,
   "id": "6b8755a6",
   "metadata": {},
   "outputs": [],
   "source": [
    "Eq(Integral(exp(-t*z)/(1-exp(2*omega1*t - 2*pi*I*x1))/(1-exp(2*omega2*t - 2*pi*I*x2)),(t,0,oo)), \n",
    "  Integral(exp(-t*z)*exp(-2*omega2*t + 2*pi*I*x2)/(1-exp(2*omega1*t - 2*pi*I*x1))/(exp(-2*omega2*t + 2*pi*I*x2)-1),\n",
    "           (t,0,oo)))\n",
    "\n",
    "Eq(Integral(exp(-t*z)/(1-exp(2*omega1*t - 2*pi*I*x1))/(1-exp(2*omega2*t - 2*pi*I*x2)),(t,0,oo)), \n",
    "  exp(2*pi*I*x2)*Integral(exp(-t*(z+2*omega2))/(1-exp(2*omega1*t - 2*pi*I*x1))/(exp(-2*omega2*t + 2*pi*I*x2)-1),\n",
    "                          (t,0,oo)))\n",
    "\n",
    "Eq( \n",
    "  Integral(exp(-t*(z+2*omega2))/(1-exp(2*omega1*t - 2*pi*I*x1))/(exp(-2*omega2*t + 2*pi*I*x2)-1),(t,0,oo)),\n",
    "   exp(-2*pi*I*x2)*Integral(exp(-t*z)/(1-exp(2*omega1*t - 2*pi*I*x1))/(1-exp(2*omega2*t - 2*pi*I*x2)),(t,0,oo))\n",
    "                          ).subs(z,z-2*omega2)\n",
    "\n",
    "Eq( \n",
    "  Integral(exp(-t*(z+2*omega2))/(1-exp(2*omega1*t - 2*pi*I*x1))/(exp(-2*omega2*t + 2*pi*I*x2)-1),(t,0,oo)),\n",
    "   exp(-2*pi*I*x2)*Integral(exp(-t*z)/(1-exp(2*omega1*t - 2*pi*I*x1))/(1-exp(2*omega2*t - 2*pi*I*x2)),(t,0,oo))\n",
    "                          ).subs(z,z-2*omega2).subs(\n",
    "    exp(-2*pi*I*x2)*gg.lhs.subs(z,z-2*omega2), exp(-2*pi*I*x2)*gg.rhs.subs(z,z-2*omega2))\n",
    "\n",
    "\n",
    "Eq( \n",
    "  Integral(exp(-t*(z+2*omega2))/(1-exp(2*omega1*t - 2*pi*I*x1))/(exp(-2*omega2*t + 2*pi*I*x2)-1),(t,0,oo)),\n",
    "   exp(-2*pi*I*x2)*Integral(exp(-t*z)/(1-exp(2*omega1*t - 2*pi*I*x1))/(1-exp(2*omega2*t - 2*pi*I*x2)),(t,0,oo))\n",
    "                          ).subs(z,z-2*omega2).subs(\n",
    "    exp(-2*pi*I*x2)*gg.lhs.subs(z,z-2*omega2), exp(-2*pi*I*x2)*gg.rhs.subs(z,z-2*omega2)).subs(\n",
    "    exp(-2*pi*I*x2)*Sum(Sum(exp(2*I*pi*(m*x1+n*x2))/(2*m*omega1 + 2*n*omega2 -2*omega2 +z),(n,1,oo)),(m,1,oo)),\n",
    "    Sum(Sum(exp(2*I*pi*(m*x1+n*x2))/(2*m*omega1 + 2*n*omega2 +z),(n,0,oo)),(m,1,oo))\n",
    ")\n",
    "\n",
    "Eq( \n",
    "  Integral(exp(-t*(z+2*omega2))/(1-exp(2*omega1*t - 2*pi*I*x1))/(exp(-2*omega2*t + 2*pi*I*x2)-1),(t,0,oo)),\n",
    "   exp(-2*pi*I*x2)*Integral(exp(-t*z)/(1-exp(2*omega1*t - 2*pi*I*x1))/(1-exp(2*omega2*t - 2*pi*I*x2)),(t,0,oo))\n",
    "                          ).subs(z,z-2*omega2).subs(\n",
    "    exp(-2*pi*I*x2)*gg.lhs.subs(z,z-2*omega2), exp(-2*pi*I*x2)*gg.rhs.subs(z,z-2*omega2)).subs(\n",
    "    exp(-2*pi*I*x2)*Sum(Sum(exp(2*I*pi*(m*x1+n*x2))/(2*m*omega1 + 2*n*omega2 -2*omega2 +z),(n,1,oo)),(m,1,oo)),\n",
    "    Sum(Sum(exp(2*I*pi*(m*x1+n*x2))/(2*m*omega1 + 2*n*omega2 +z),(n,0,oo)),(m,1,oo))\n",
    ").subs([(omega2, -omega2), (x2, -x2)])"
   ]
  },
  {
   "cell_type": "code",
   "execution_count": null,
   "id": "61f7ca8d",
   "metadata": {},
   "outputs": [],
   "source": [
    "Eq(exp(-2*pi*I*x2)*gg.lhs.subs(z,z-2*omega2), exp(-2*pi*I*x2)*gg.rhs.subs(z,z-2*omega2))"
   ]
  },
  {
   "cell_type": "code",
   "execution_count": null,
   "id": "614719f1",
   "metadata": {},
   "outputs": [],
   "source": [
    "Eq(\n",
    "    exp(-2*pi*I*x2)*Sum(Sum(exp(2*I*pi*(m*x1+n*x2))/(2*m*omega1 + 2*n*omega2 -2*omega2 +z),(n,1,oo)),(m,1,oo)),\n",
    "    Sum(Sum(exp(2*I*pi*(m*x1+(n-1)*x2))/(2*m*omega1 + 2*(n-1)*omega2 +z),(n,1,oo)),(m,1,oo))\n",
    ")"
   ]
  },
  {
   "cell_type": "code",
   "execution_count": null,
   "id": "71d2c00d",
   "metadata": {},
   "outputs": [],
   "source": [
    "Eq(\n",
    "    exp(-2*pi*I*x2)*Sum(Sum(exp(2*I*pi*(m*x1+n*x2))/(2*m*omega1 + 2*n*omega2 -2*omega2 +z),(n,1,oo)),(m,1,oo)),\n",
    "    Sum(Sum(exp(2*I*pi*(m*x1+n*x2))/(2*m*omega1 + 2*n*omega2 +z),(n,0,oo)),(m,1,oo))\n",
    ")"
   ]
  },
  {
   "cell_type": "code",
   "execution_count": null,
   "id": "8672ca35",
   "metadata": {},
   "outputs": [],
   "source": [
    "def db_sum_2(_omega1, _omega2, _x1, _x2, _z, _N, _M):\n",
    "    terms = [ \n",
    "        (exp(2*I*pi*(_x1*_m + _x2*_n))/(2*_omega1*_m + 2*_omega2*_n + _z)**2).evalf()\n",
    "        for _n in range(-_N,_N+1) for _m in range(-_M,_M+1)\n",
    "    ]\n",
    "    return sum(terms)"
   ]
  },
  {
   "cell_type": "code",
   "execution_count": null,
   "id": "1d8b7dbd",
   "metadata": {},
   "outputs": [],
   "source": [
    "gg2 = Eq(\n",
    "    4*Integral(-diff(exp(-t*z),z)/(1-exp(2*omega1*t - 2*pi*I*x1))/(1-exp(2*omega2*t - 2*pi*I*x2)),(t,0,oo)),\n",
    "    Sum(Sum(-diff(exp(2*I*pi*(m*x1+n*x2))/(2*m*omega1 + 2*n*omega2 +z),z),(n,-oo,oo)),(m,-oo,oo))\n",
    ")\n",
    "gg2              "
   ]
  },
  {
   "cell_type": "code",
   "execution_count": null,
   "id": "ef053b62",
   "metadata": {},
   "outputs": [],
   "source": [
    "_vals_2 = {\n",
    "    '_omega1': 1.2+0.8j, '_omega2': (0.6+0.9j), '_x1': 0.7, '_x2': 1.4, '_z': 3.2, '_N': 50, '_M': 50\n",
    "}\n",
    "_subs_vals_2 = [\n",
    "    (omega1, _vals_2['_omega1']), \n",
    "    (omega2, _vals_2['_omega2']), \n",
    "    (x1, _vals_2['_x1']),\n",
    "    (x2, _vals_2['_x2']), \n",
    "    (z, _vals_2['_z'])\n",
    "]"
   ]
  },
  {
   "cell_type": "code",
   "execution_count": null,
   "id": "7c997789",
   "metadata": {},
   "outputs": [],
   "source": [
    "db_sum_2(**_vals_2)"
   ]
  },
  {
   "cell_type": "code",
   "execution_count": null,
   "id": "bceb56a4",
   "metadata": {},
   "outputs": [],
   "source": [
    "int_num_2 = gg2.lhs.subs(_subs_vals_2).evalf()\n",
    "int_num_2"
   ]
  },
  {
   "cell_type": "code",
   "execution_count": null,
   "id": "6130076d",
   "metadata": {},
   "outputs": [],
   "source": [
    "Sum(x**n,(n,0,N)).doit()"
   ]
  },
  {
   "cell_type": "code",
   "execution_count": null,
   "id": "e95df85b",
   "metadata": {},
   "outputs": [],
   "source": [
    "x<1\n",
    "Eq(Sum(x**n,(n,1,N-1)), Sum(x**n,(n,1,N-1)).doit())"
   ]
  },
  {
   "cell_type": "markdown",
   "id": "42029fb2",
   "metadata": {},
   "source": [
    "## New attempt"
   ]
  },
  {
   "cell_type": "code",
   "execution_count": null,
   "id": "3d5eefbf",
   "metadata": {},
   "outputs": [],
   "source": [
    "Eq(x,exp(-2*omega1*t+2*I*pi*x1))"
   ]
  },
  {
   "cell_type": "code",
   "execution_count": null,
   "id": "b5aeacbd",
   "metadata": {},
   "outputs": [],
   "source": [
    "Eq(Sum(exp(-2*omega1*t*n + 2*I*pi*x1*n),(n,1,N)), \n",
    "   (-exp(-N*2*omega1*t + N*2*I*pi*x1) + 1)/(exp(2*omega1*t - 2*I*pi*x1) - 1))\n",
    "\n",
    "Eq(Sum(exp(-2*omega2*t*m + 2*I*pi*x2*m),(m,1,M)), \n",
    "   (-exp(-M*2*omega2*t + M*2*I*pi*x2) + 1)/(exp(2*omega2*t - 2*I*pi*x2) - 1))"
   ]
  },
  {
   "cell_type": "code",
   "execution_count": null,
   "id": "21f3f976",
   "metadata": {},
   "outputs": [],
   "source": [
    "Eq(Sum(exp(-2*omega1*t*n + 2*I*pi*x1*n - 2*omega2*t*m + 2*I*pi*x2*m),(n,1,N),(m,1,M)), \n",
    "   (-exp(-N*2*omega1*t + N*2*I*pi*x1) + 1)/(exp(2*omega1*t - 2*I*pi*x1) - 1) *\n",
    "   (-exp(-M*2*omega2*t + M*2*I*pi*x2) + 1)/(exp(2*omega2*t - 2*I*pi*x2) - 1)\n",
    "  )"
   ]
  },
  {
   "cell_type": "code",
   "execution_count": null,
   "id": "ec8de4cd",
   "metadata": {},
   "outputs": [],
   "source": [
    "re(omega1)>0\n",
    "re(omega2)>0\n",
    "re(s)>0\n",
    "Eq(Sum(Integral(t**(s-1)*exp(-2*omega1*t*n + 2*I*pi*x1*n - 2*omega2*t*m + 2*I*pi*x2*m)*exp(-z*t),(t,0,oo)),(n,1,N),(m,1,M)), \n",
    "   Integral(t**(s-1)*(-exp(-N*2*omega1*t + N*2*I*pi*x1) + 1)/(exp(2*omega1*t - 2*I*pi*x1) - 1) *\n",
    "   (-exp(-M*2*omega2*t + M*2*I*pi*x2) + 1)/(exp(2*omega2*t - 2*I*pi*x2) - 1)*exp(-z*t),(t,0,oo))\n",
    "  )"
   ]
  },
  {
   "cell_type": "code",
   "execution_count": null,
   "id": "a9ccd32c",
   "metadata": {
    "scrolled": true
   },
   "outputs": [],
   "source": [
    "Eq(Sum(exp(2*I*pi*x1*n + 2*I*pi*x2*m)/(2*omega1*n + 2*omega2*m + z)**s*Integral(t**(s-1)*exp(-t),(t,0,oo)),(n,1,N),(m,1,M)), \n",
    "   Integral(t**(s-1)*(-exp(-N*2*omega1*t + N*2*I*pi*x1) + 1)/(exp(2*omega1*t - 2*I*pi*x1) - 1) *\n",
    "   (-exp(-M*2*omega2*t + M*2*I*pi*x2) + 1)/(exp(2*omega2*t - 2*I*pi*x2) - 1)*exp(-z*t),(t,0,oo))\n",
    "  )"
   ]
  },
  {
   "cell_type": "code",
   "execution_count": null,
   "id": "7323b1ee",
   "metadata": {},
   "outputs": [],
   "source": [
    "Eq(gamma(s), Integral(t**(s-1)*exp(-t),(t,0,oo)))\n",
    "Eq(gamma(s)*Sum(exp(2*I*pi*x1*n + 2*I*pi*x2*m)/(2*omega1*n + 2*omega2*m + z)**s,(n,1,N),(m,1,M)), \n",
    "   Integral(t**(s-1)*(-exp(-N*2*omega1*t + N*2*I*pi*x1) + 1)/(exp(2*omega1*t - 2*I*pi*x1) - 1) *\n",
    "   (-exp(-M*2*omega2*t + M*2*I*pi*x2) + 1)/(exp(2*omega2*t - 2*I*pi*x2) - 1)*exp(-z*t),(t,0,oo))\n",
    "  )"
   ]
  },
  {
   "cell_type": "code",
   "execution_count": null,
   "id": "97074607",
   "metadata": {},
   "outputs": [],
   "source": [
    "Eq(gamma(s)*Sum(exp(2*I*pi*x1*n + 2*I*pi*x2*m)/(2*omega1*n + 2*omega2*m + z)**s,(n,1,N),(m,1,M)), \n",
    "   Integral(t**(s-1)*(-exp(-N*2*omega1*t + N*2*I*pi*x1) + 1)/(exp(2*omega1*t - 2*I*pi*x1) - 1) *\n",
    "   (-exp(-M*2*omega2*t + M*2*I*pi*x2) + 1)/(1 - exp(-2*omega2*t + 2*I*pi*x2))*exp(-2*omega2*t + 2*I*pi*x2)*exp(-z*t),(t,0,oo))\n",
    "  )"
   ]
  },
  {
   "cell_type": "code",
   "execution_count": null,
   "id": "2e153cc7",
   "metadata": {},
   "outputs": [],
   "source": [
    "Eq(gamma(s)*Sum(exp(2*I*pi*x1*n + 2*I*pi*x2*m)*exp(-2*I*pi*x2)/(2*omega1*n + 2*omega2*m + z)**s,(n,1,N),(m,1,M)), \n",
    "   Integral(t**(s-1)*(-exp(-N*2*omega1*t + N*2*I*pi*x1) + 1)/(exp(2*omega1*t - 2*I*pi*x1) - 1) *\n",
    "   (-exp(-M*2*omega2*t + M*2*I*pi*x2) + 1)/(1 - exp(-2*omega2*t + 2*I*pi*x2))*exp(-(z+2*omega2)*t),(t,0,oo))\n",
    "  ).subs(z,z-2*omega2)"
   ]
  },
  {
   "cell_type": "code",
   "execution_count": null,
   "id": "036b8156",
   "metadata": {},
   "outputs": [],
   "source": [
    "Eq(gamma(s)*Sum(exp(2*I*pi*x1*n + 2*I*pi*x2*m)/(2*omega1*n + 2*omega2*m + z)**s,(n,1,N),(m,0,M)), \n",
    "   Integral(t**(s-1)*(-exp(-N*2*omega1*t + N*2*I*pi*x1) + 1)/(exp(2*omega1*t - 2*I*pi*x1) - 1) *\n",
    "   (-exp(-M*2*omega2*t + M*2*I*pi*x2) + 1)/(1 - exp(-2*omega2*t + 2*I*pi*x2))*exp(-z*t),(t,0,oo))\n",
    "  )"
   ]
  },
  {
   "cell_type": "code",
   "execution_count": null,
   "id": "fc1bf05e",
   "metadata": {},
   "outputs": [],
   "source": [
    "diff(z/(z*a+1),(z,20)).simplify()"
   ]
  },
  {
   "cell_type": "code",
   "execution_count": null,
   "id": "9696a0a7",
   "metadata": {},
   "outputs": [],
   "source": [
    "Sum(x**n,(n,-m,m)).doit()"
   ]
  },
  {
   "cell_type": "code",
   "execution_count": null,
   "id": "d52f6014",
   "metadata": {},
   "outputs": [],
   "source": [
    "(1/(1-x)*(-Sum(x**(m+1),(m,1,M)) + Sum(x**(-m),(m,1,M))).doit()).simplify().args[2][0]"
   ]
  },
  {
   "cell_type": "code",
   "execution_count": null,
   "id": "cd465f77",
   "metadata": {},
   "outputs": [],
   "source": [
    "import plotly.graph_objects as go\n",
    "\n",
    "# Generate points\n",
    "x = []\n",
    "y = []\n",
    "for i in range(-10, 11):\n",
    "    for j in range(-10, 11):\n",
    "        x.append(i)\n",
    "        y.append(j)\n",
    "\n",
    "# Separate positive and negative points\n",
    "positive_x = [x[i] for i in range(len(x)) if y[i] >= 0]\n",
    "positive_y = [y[i] for i in range(len(y)) if y[i] >= 0]\n",
    "negative_x = [x[i] for i in range(len(x)) if y[i] < 0]\n",
    "negative_y = [y[i] for i in range(len(y)) if y[i] < 0]\n",
    "\n",
    "# Create plotly figure\n",
    "fig = go.Figure()\n",
    "\n",
    "# Add positive points\n",
    "fig.add_trace(go.Scatter(\n",
    "    x=positive_x,\n",
    "    y=positive_y,\n",
    "    mode='markers',\n",
    "    marker=dict(\n",
    "        symbol='cross',  # plus sign\n",
    "        color='blue'     # blue color\n",
    "    ),\n",
    "    name='Positive'\n",
    "))\n",
    "\n",
    "# Add negative points\n",
    "fig.add_trace(go.Scatter(\n",
    "    x=negative_x,\n",
    "    y=negative_y,\n",
    "    mode='markers',\n",
    "    marker=dict(\n",
    "        symbol='cross',  # negative sign\n",
    "        color='red'      # red color\n",
    "    ),\n",
    "    name='Negative'\n",
    "))\n",
    "\n",
    "# Set layout\n",
    "fig.update_layout(\n",
    "    title='Points with Different Marker Symbols',\n",
    "    xaxis=dict(title='X'),\n",
    "    yaxis=dict(title='Y'),\n",
    "    autosize=False,\n",
    "    width=900,\n",
    "    height=900,\n",
    "    \n",
    ")\n",
    "\n",
    "# Show plot\n",
    "fig.show()\n"
   ]
  },
  {
   "cell_type": "code",
   "execution_count": null,
   "id": "89248b94",
   "metadata": {},
   "outputs": [],
   "source": []
  }
 ],
 "metadata": {
  "kernelspec": {
   "display_name": "Python 3 (ipykernel)",
   "language": "python",
   "name": "python3"
  },
  "language_info": {
   "codemirror_mode": {
    "name": "ipython",
    "version": 3
   },
   "file_extension": ".py",
   "mimetype": "text/x-python",
   "name": "python",
   "nbconvert_exporter": "python",
   "pygments_lexer": "ipython3",
   "version": "3.11.6"
  }
 },
 "nbformat": 4,
 "nbformat_minor": 5
}
