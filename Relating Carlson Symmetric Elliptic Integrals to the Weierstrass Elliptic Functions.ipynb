{
 "cells": [
  {
   "cell_type": "markdown",
   "id": "48c6e685",
   "metadata": {},
   "source": [
    "# Relating Carlson Symmetric Elliptic Integrals to the Weierstrass Elliptic Functions\n",
    "\n",
    "This notebook contains an important new identity that was seemingly overlooked by Carlson when he derived his treatise on symmetric elliptic integrals. It relates the $R_j$ function to Weierstrass elliptic functions. Carlson had derived the corresponding relations for $R_F$ and $R_G$. The new relation does not appear in [NIST Handbook of Mathematical Functions](https://univ.jeanpaulcalvi.com/Posters/ConfAuchWeb/abramovitz2.pdf) or [NIST Digital Library of Mathematical Functions](https://dlmf.nist.gov/). This new relationship is likely a very important one as it involves the phase of a Kronecker theta function."
   ]
  },
  {
   "cell_type": "code",
   "execution_count": 197,
   "id": "6d8063e0",
   "metadata": {},
   "outputs": [
    {
     "name": "stdout",
     "output_type": "stream",
     "text": [
      "The autoreload extension is already loaded. To reload it, use:\n",
      "  %reload_ext autoreload\n"
     ]
    }
   ],
   "source": [
    "from sympy import *\n",
    "(x, y, X, Y, Z, B, C, n, m, l, j, q, N, M, K, k, z, s, p1, p2, p3, g2, g3, rho,\n",
    " z0, z1, w1, w2, w3, e1, e2, e3, Delta, \n",
    " omega1, omega2, omega3, eta1, eta2, eta3, d1, d2, d3, t, t0) = symbols(\n",
    "    '''x, y, X, Y, Z, B, C, n, m, l, j, q, N, M, K, k, z, s, p1, p2, p3, g2, g3, rho,\n",
    "    z0, z1, w1, w2, w3, e1, e2, e3, Delta, \n",
    "    omega1, omega2, omega3, eta1, eta2, eta3, d1, d2, d3, t, t0'''\n",
    ")\n",
    "alpha, delta, nu, theta = symbols('alpha, delta, nu, theta')\n",
    "pw = Function('pw') # Weierstrass P function\n",
    "pwp = Function('pwp') # Derivative of Weierstrass P function\n",
    "zw = Function('zw') # Weierstrass Zeta function\n",
    "sigma = Function('sigma') # Weierstrass Sigma function\n",
    "rho = Function('rho')\n",
    "f = Function('f')\n",
    "h = Function('h')\n",
    "s = Function('s')\n",
    "u = Function('u')\n",
    "v = Function('v')\n",
    "r = Function('r')\n",
    "chi = Function('chi')\n",
    "P = Function('P') # Polynomial\n",
    "Q = Function('Q') # Polynomial\n",
    "R = Function('R') # Polynomial\n",
    "T = Function('T') # Polynomial\n",
    "phi = Function('phi')\n",
    "Phi = Function('Phi')\n",
    "phi1 = Function('phi1')\n",
    "phi2 = Function('phi2')\n",
    "phi3 = Function('phi3')\n",
    "A = IndexedBase('A')\n",
    "W1 = Function('W1')\n",
    "W2 = Function('W2')\n",
    "W3 = Function('W3')\n",
    "W4 = Function('W4')\n",
    "W5 = Function('W5')\n",
    "W6 = Function('W6')\n",
    "Det = Function(\"Det\")\n",
    "RF = Function('RF')\n",
    "RJ = Function('RJ')\n",
    "RG = Function('RG')\n",
    "\n",
    "\n",
    "kappa = Function('kappa')\n",
    "beta = IndexedBase('beta')\n",
    "\n",
    "xi = IndexedBase('xi')\n",
    "a = IndexedBase('a')\n",
    "b = IndexedBase('b')\n",
    "c = IndexedBase('c')\n",
    "d = IndexedBase('d')\n",
    "p = IndexedBase('p')\n",
    "G = IndexedBase('G')\n",
    "psi = IndexedBase('psi')\n",
    "upsilon = IndexedBase('upsilon')\n",
    "epsilon = IndexedBase('epsilon')\n",
    "mu = IndexedBase('mu')\n",
    "WPdet = Function('WPdet')\n",
    "U = Function('U')\n",
    "V = Function('V')\n",
    "W = Function('W')\n",
    "\n",
    "wild = Wild('*')\n",
    "\n",
    "from IPython.core.interactiveshell import InteractiveShell\n",
    "InteractiveShell.ast_node_interactivity = 'all'\n",
    "\n",
    "# kth order derivatives of Weierstrass P\n",
    "from wpk import wpk, run_tests\n",
    "\n",
    "# The package containing mpmath expressions for Weierstrass elliptic functions\n",
    "from numerical_evaluation.weierstrass_modified import Weierstrass\n",
    "we = Weierstrass()\n",
    "from mpmath import exp as mpexp\n",
    "\n",
    "# Nuemric solutions to diff eqs\n",
    "from numpy import linspace, absolute, angle, square, real, imag, conj, array as arraynp, concatenate\n",
    "from numpy import vectorize as np_vectorize # not to get confused with vectorise in other packages\n",
    "import scipy.integrate\n",
    "import matplotlib.pyplot as plt\n",
    "from scipy.special import elliprf, elliprg, elliprj\n",
    "\n",
    "%load_ext autoreload\n",
    "%autoreload 2"
   ]
  },
  {
   "cell_type": "markdown",
   "id": "cb92eee4",
   "metadata": {},
   "source": [
    "## Numerical Evaluation"
   ]
  },
  {
   "cell_type": "code",
   "execution_count": 314,
   "id": "e92962ac",
   "metadata": {},
   "outputs": [],
   "source": [
    "def mpc_to_float(mpc_val):\n",
    "    return float(mpc_val.real) + float(mpc_val.imag)*1j\n",
    "\n",
    "def wrap_I_to_j(f):\n",
    "    \"\"\"\n",
    "    Wraps any function that takes positional arguments and converts those arguments from the form 1+2*I to 1+2j\n",
    "    \"\"\"\n",
    "    def wrapped_function(*args):\n",
    "        # Convert all arguments to python complex type\n",
    "        new_args = [complex(str(arg).replace(' ','').replace('*','').replace('I', 'j')) for arg in args]\n",
    "        # Call the original function with converted arguments\n",
    "        return f(*new_args)\n",
    "    \n",
    "    return wrapped_function\n",
    "\n",
    "def get_value_weierstrass_carlson_expression(side_of_expression, values):\n",
    "    num_sub_evals = [\n",
    "        (sigma, we.wsigma_from_g2_g3),\n",
    "        (zw, we.wzeta_from_g2_g3),\n",
    "        (pw, we.wp_from_g2_g3),\n",
    "        (pwp, we.wpprime_from_g2_g3),\n",
    "        (RF, wrap_I_to_j(elliprf)),\n",
    "        (RG, wrap_I_to_j(elliprg)),\n",
    "        (RJ, wrap_I_to_j(elliprj)),\n",
    "        # Repeat the list in case of functions of functions\n",
    "        (sigma, we.wsigma_from_g2_g3),\n",
    "        (zw, we.wzeta_from_g2_g3),\n",
    "        (pw, we.wp_from_g2_g3),\n",
    "        (pwp, we.wpprime_from_g2_g3),\n",
    "        (RF, wrap_I_to_j(elliprf)),\n",
    "        (RG, wrap_I_to_j(elliprg)),\n",
    "        (RJ, wrap_I_to_j(elliprj))\n",
    "    ]\n",
    "    eval_result = side_of_expression.subs(values)\n",
    "    for num_eval in num_sub_evals:\n",
    "        try:\n",
    "            eval_result = eval_result.replace(*num_eval)\n",
    "        except:\n",
    "            pass\n",
    "    return eval_result\n",
    "\n",
    "def num_evaluate_weierstrass_carlson(expression, values, show_expression=True):\n",
    "\n",
    "    lhs_value = get_value_weierstrass_carlson_expression(expression.lhs, values)\n",
    "    rhs_value = get_value_weierstrass_carlson_expression(expression.rhs, values)    \n",
    "    try:\n",
    "        lhs_value = lhs_value.evalf()\n",
    "    except:\n",
    "        pass\n",
    "    try:\n",
    "        rhs_value = rhs_value.evalf()\n",
    "    except:\n",
    "        pass\n",
    "        \n",
    "    print('LHS', lhs_value)\n",
    "    print('RHS', rhs_value)\n",
    "    # Symmetric Mean Absolute Percentage Error (SMAPE)\n",
    "    print('ERROR (SMAPE)', abs(lhs_value - rhs_value) * 2/(abs(lhs_value) + abs(rhs_value)))\n",
    "    \n",
    "    if show_expression:\n",
    "        return expression\n",
    "    \n",
    "def plot_lattice(omega1, omega2, omega3, n_points=5):\n",
    "    \"\"\"\n",
    "    Plots the lattice for two generators omega1 and omega3\n",
    "    \"\"\"\n",
    "    \n",
    "    # Generate lattice points\n",
    "    points = []\n",
    "    for i in range(-n_points, n_points+1):\n",
    "        for j in range(-n_points, n_points+1):\n",
    "            point = i * omega1 + j * omega3\n",
    "            points.append(point)\n",
    "    \n",
    "    # Separate real and imaginary parts\n",
    "    x_coords = [p.real for p in points]\n",
    "    y_coords = [p.imag for p in points]\n",
    "    \n",
    "    # Create the plot\n",
    "    fig, ax = plt.subplots(figsize=(10, 10))\n",
    "    \n",
    "    # Plot lattice points\n",
    "    ax.scatter(x_coords, y_coords, color='blue', s=30, label='Lattice Points')\n",
    "    \n",
    "    # Plot generators\n",
    "    ax.arrow(0, 0, omega1.real, omega1.imag, color='red', width=0.02, length_includes_head=True, label='omega1')\n",
    "    ax.arrow(0, 0, omega2.real, omega2.imag, color='blue', width=0.02, length_includes_head=True, label='omega2')\n",
    "    ax.arrow(0, 0, omega3.real, omega3.imag, color='green', width=0.02, length_includes_head=True, label='omega3')\n",
    "    \n",
    "    # Set labels and title\n",
    "    ax.set_xlabel('Re')\n",
    "    ax.set_ylabel('Im')\n",
    "    ax.set_title('Lattice Plot')\n",
    "    \n",
    "    # Set aspect ratio to equal\n",
    "    ax.set_aspect('equal', adjustable='box')\n",
    "    \n",
    "    # Add legend\n",
    "    ax.legend()\n",
    "    \n",
    "    # Show the plot\n",
    "    plt.grid(True)\n",
    "    plt.show()\n",
    "\n"
   ]
  },
  {
   "cell_type": "markdown",
   "id": "5fa43950",
   "metadata": {},
   "source": [
    "## Weierstrass elliptic function identities"
   ]
  },
  {
   "cell_type": "code",
   "execution_count": 3,
   "id": "174f6908",
   "metadata": {},
   "outputs": [
    {
     "data": {
      "text/latex": [
       "$\\displaystyle \\operatorname{pwp}^{2}{\\left(z,g_{2},g_{3} \\right)} = - g_{2} \\operatorname{pw}{\\left(z,g_{2},g_{3} \\right)} - g_{3} + 4 \\operatorname{pw}^{3}{\\left(z,g_{2},g_{3} \\right)}$"
      ],
      "text/plain": [
       "Eq(pwp(z, g2, g3)**2, -g2*pw(z, g2, g3) - g3 + 4*pw(z, g2, g3)**3)"
      ]
     },
     "execution_count": 3,
     "metadata": {},
     "output_type": "execute_result"
    },
    {
     "data": {
      "text/latex": [
       "$\\displaystyle \\operatorname{pw}{\\left(x + y,g_{2},g_{3} \\right)} = - \\operatorname{pw}{\\left(x,g_{2},g_{3} \\right)} - \\operatorname{pw}{\\left(y,g_{2},g_{3} \\right)} + \\frac{\\left(\\operatorname{pwp}{\\left(x,g_{2},g_{3} \\right)} - \\operatorname{pwp}{\\left(y,g_{2},g_{3} \\right)}\\right)^{2}}{4 \\left(\\operatorname{pw}{\\left(x,g_{2},g_{3} \\right)} - \\operatorname{pw}{\\left(y,g_{2},g_{3} \\right)}\\right)^{2}}$"
      ],
      "text/plain": [
       "Eq(pw(x + y, g2, g3), -pw(x, g2, g3) - pw(y, g2, g3) + (pwp(x, g2, g3) - pwp(y, g2, g3))**2/(4*(pw(x, g2, g3) - pw(y, g2, g3))**2))"
      ]
     },
     "execution_count": 3,
     "metadata": {},
     "output_type": "execute_result"
    },
    {
     "data": {
      "text/latex": [
       "$\\displaystyle \\operatorname{pw}{\\left(2 z,g_{2},g_{3} \\right)} = - 2 \\operatorname{pw}{\\left(z,g_{2},g_{3} \\right)} + \\frac{\\left(\\frac{\\partial^{2}}{\\partial z^{2}} \\operatorname{pw}{\\left(z,g_{2},g_{3} \\right)}\\right)^{2}}{4 \\left(\\frac{\\partial}{\\partial z} \\operatorname{pw}{\\left(z,g_{2},g_{3} \\right)}\\right)^{2}}$"
      ],
      "text/plain": [
       "Eq(pw(2*z, g2, g3), -2*pw(z, g2, g3) + Derivative(pw(z, g2, g3), (z, 2))**2/(4*Derivative(pw(z, g2, g3), z)**2))"
      ]
     },
     "execution_count": 3,
     "metadata": {},
     "output_type": "execute_result"
    },
    {
     "data": {
      "text/latex": [
       "$\\displaystyle \\operatorname{pw}{\\left(2 z,g_{2},g_{3} \\right)} = \\frac{\\left(- \\frac{g_{2}}{2} + 6 \\operatorname{pw}^{2}{\\left(z,g_{2},g_{3} \\right)}\\right)^{2}}{4 \\operatorname{pwp}^{2}{\\left(z,g_{2},g_{3} \\right)}} - 2 \\operatorname{pw}{\\left(z,g_{2},g_{3} \\right)}$"
      ],
      "text/plain": [
       "Eq(pw(2*z, g2, g3), (-g2/2 + 6*pw(z, g2, g3)**2)**2/(4*pwp(z, g2, g3)**2) - 2*pw(z, g2, g3))"
      ]
     },
     "execution_count": 3,
     "metadata": {},
     "output_type": "execute_result"
    },
    {
     "data": {
      "text/latex": [
       "$\\displaystyle \\operatorname{pw}{\\left(2 z,g_{2},g_{3} \\right)} = \\frac{\\left(- \\frac{g_{2}}{2} + 6 \\operatorname{pw}^{2}{\\left(z,g_{2},g_{3} \\right)}\\right)^{2}}{4 \\left(- g_{2} \\operatorname{pw}{\\left(z,g_{2},g_{3} \\right)} - g_{3} + 4 \\operatorname{pw}^{3}{\\left(z,g_{2},g_{3} \\right)}\\right)} - 2 \\operatorname{pw}{\\left(z,g_{2},g_{3} \\right)}$"
      ],
      "text/plain": [
       "Eq(pw(2*z, g2, g3), (-g2/2 + 6*pw(z, g2, g3)**2)**2/(4*(-g2*pw(z, g2, g3) - g3 + 4*pw(z, g2, g3)**3)) - 2*pw(z, g2, g3))"
      ]
     },
     "execution_count": 3,
     "metadata": {},
     "output_type": "execute_result"
    },
    {
     "data": {
      "text/latex": [
       "$\\displaystyle - \\operatorname{pw}{\\left(x,g_{2},g_{3} \\right)} + \\operatorname{pw}{\\left(y,g_{2},g_{3} \\right)} = \\frac{\\sigma{\\left(x - y,g_{2},g_{3} \\right)} \\sigma{\\left(x + y,g_{2},g_{3} \\right)}}{\\sigma^{2}{\\left(x,g_{2},g_{3} \\right)} \\sigma^{2}{\\left(y,g_{2},g_{3} \\right)}}$"
      ],
      "text/plain": [
       "Eq(-pw(x, g2, g3) + pw(y, g2, g3), sigma(x - y, g2, g3)*sigma(x + y, g2, g3)/(sigma(x, g2, g3)**2*sigma(y, g2, g3)**2))"
      ]
     },
     "execution_count": 3,
     "metadata": {},
     "output_type": "execute_result"
    },
    {
     "data": {
      "text/latex": [
       "$\\displaystyle \\frac{\\operatorname{pwp}{\\left(x,g_{2},g_{3} \\right)} - \\operatorname{pwp}{\\left(y,g_{2},g_{3} \\right)}}{2 \\left(\\operatorname{pw}{\\left(x,g_{2},g_{3} \\right)} - \\operatorname{pw}{\\left(y,g_{2},g_{3} \\right)}\\right)} = - \\operatorname{zw}{\\left(x,g_{2},g_{3} \\right)} - \\operatorname{zw}{\\left(y,g_{2},g_{3} \\right)} + \\operatorname{zw}{\\left(x + y,g_{2},g_{3} \\right)}$"
      ],
      "text/plain": [
       "Eq((pwp(x, g2, g3) - pwp(y, g2, g3))/(2*(pw(x, g2, g3) - pw(y, g2, g3))), -zw(x, g2, g3) - zw(y, g2, g3) + zw(x + y, g2, g3))"
      ]
     },
     "execution_count": 3,
     "metadata": {},
     "output_type": "execute_result"
    },
    {
     "data": {
      "text/latex": [
       "$\\displaystyle \\operatorname{zw}{\\left(2 z,g_{2},g_{3} \\right)} = \\frac{- \\frac{g_{2}}{2} + 6 \\operatorname{pw}^{2}{\\left(z,g_{2},g_{3} \\right)}}{2 \\operatorname{pwp}{\\left(z,g_{2},g_{3} \\right)}} + 2 \\operatorname{zw}{\\left(z,g_{2},g_{3} \\right)}$"
      ],
      "text/plain": [
       "Eq(zw(2*z, g2, g3), (-g2/2 + 6*pw(z, g2, g3)**2)/(2*pwp(z, g2, g3)) + 2*zw(z, g2, g3))"
      ]
     },
     "execution_count": 3,
     "metadata": {},
     "output_type": "execute_result"
    },
    {
     "data": {
      "text/latex": [
       "$\\displaystyle \\operatorname{pwp}{\\left(z,g_{2},g_{3} \\right)} = - \\frac{\\sigma{\\left(2 z,g_{2},g_{3} \\right)}}{\\sigma^{4}{\\left(z,g_{2},g_{3} \\right)}}$"
      ],
      "text/plain": [
       "Eq(pwp(z, g2, g3), -sigma(2*z, g2, g3)/sigma(z, g2, g3)**4)"
      ]
     },
     "execution_count": 3,
     "metadata": {},
     "output_type": "execute_result"
    },
    {
     "data": {
      "text/latex": [
       "$\\displaystyle \\frac{\\partial}{\\partial z} \\operatorname{zw}{\\left(z,g_{2},g_{3} \\right)} = - \\operatorname{pw}{\\left(z,g_{2},g_{3} \\right)}$"
      ],
      "text/plain": [
       "Eq(Derivative(zw(z, g2, g3), z), -pw(z, g2, g3))"
      ]
     },
     "execution_count": 3,
     "metadata": {},
     "output_type": "execute_result"
    },
    {
     "data": {
      "text/latex": [
       "$\\displaystyle \\frac{\\partial}{\\partial z} \\log{\\left(\\sigma{\\left(z,g_{2},g_{3} \\right)} \\right)} = \\operatorname{zw}{\\left(z,g_{2},g_{3} \\right)}$"
      ],
      "text/plain": [
       "Eq(Derivative(log(sigma(z, g2, g3)), z), zw(z, g2, g3))"
      ]
     },
     "execution_count": 3,
     "metadata": {},
     "output_type": "execute_result"
    },
    {
     "data": {
      "text/latex": [
       "$\\displaystyle \\frac{\\partial}{\\partial z} \\sigma{\\left(z,g_{2},g_{3} \\right)} = \\sigma{\\left(z,g_{2},g_{3} \\right)} \\operatorname{zw}{\\left(z,g_{2},g_{3} \\right)}$"
      ],
      "text/plain": [
       "Eq(Derivative(sigma(z, g2, g3), z), sigma(z, g2, g3)*zw(z, g2, g3))"
      ]
     },
     "execution_count": 3,
     "metadata": {},
     "output_type": "execute_result"
    },
    {
     "data": {
      "text/latex": [
       "$\\displaystyle \\frac{\\partial^{2}}{\\partial z^{2}} \\sigma{\\left(z,g_{2},g_{3} \\right)} = - \\operatorname{pw}{\\left(z,g_{2},g_{3} \\right)} \\sigma{\\left(z,g_{2},g_{3} \\right)} + \\sigma{\\left(z,g_{2},g_{3} \\right)} \\operatorname{zw}^{2}{\\left(z,g_{2},g_{3} \\right)}$"
      ],
      "text/plain": [
       "Eq(Derivative(sigma(z, g2, g3), (z, 2)), -pw(z, g2, g3)*sigma(z, g2, g3) + sigma(z, g2, g3)*zw(z, g2, g3)**2)"
      ]
     },
     "execution_count": 3,
     "metadata": {},
     "output_type": "execute_result"
    },
    {
     "data": {
      "text/latex": [
       "$\\displaystyle \\lim_{z \\to 0^+} \\frac{\\partial^{j}}{\\partial z^{j}} \\operatorname{pw}{\\left(z,g_{2},g_{3} \\right)} = \\left(-1\\right)^{j} z^{- j - 2} \\left(j + 1\\right)! - \\left(-1\\right)^{j} \\left(\\frac{\\left(-1\\right)^{j}}{2} + \\frac{1}{2}\\right) {\\left(- j - 1\\right)}^{\\left(j + 1\\right)} {G}_{j + 2}$"
      ],
      "text/plain": [
       "Eq(Limit(Derivative(pw(z, g2, g3), (z, j)), z, 0, dir='+'), (-1)**j*z**(-j - 2)*factorial(j + 1) - (-1)**j*((-1)**j/2 + 1/2)*RisingFactorial(-j - 1, j + 1)*G[j + 2])"
      ]
     },
     "execution_count": 3,
     "metadata": {},
     "output_type": "execute_result"
    },
    {
     "data": {
      "text/latex": [
       "$\\displaystyle \\operatorname{pw}{\\left(z,g_{2},g_{3} \\right)} = \\sum_{n=1}^{\\infty} z^{2 n} \\left(2 n + 1\\right) {G}_{2 n + 2} + \\frac{1}{z^{2}}$"
      ],
      "text/plain": [
       "Eq(pw(z, g2, g3), Sum(z**(2*n)*(2*n + 1)*G[2*n + 2], (n, 1, oo)) + z**(-2))"
      ]
     },
     "execution_count": 3,
     "metadata": {},
     "output_type": "execute_result"
    },
    {
     "data": {
      "text/latex": [
       "$\\displaystyle \\frac{1}{\\sigma{\\left(z,g_{2},g_{3} \\right)}} = \\frac{1}{z} + \\frac{6 g_{3} z^{5}}{7} + \\frac{g_{2} z^{3}}{10} + O\\left(z^{7}\\right)$"
      ],
      "text/plain": [
       "Eq(1/sigma(z, g2, g3), 1/z + 6*g3*z**5/7 + g2*z**3/10 + O(z**7))"
      ]
     },
     "execution_count": 3,
     "metadata": {},
     "output_type": "execute_result"
    },
    {
     "data": {
      "text/latex": [
       "$\\displaystyle \\sigma{\\left(z,g_{2},g_{3} \\right)} = \\frac{85860 g_{2}^{2} g_{3}^{2} z^{21}}{7} + \\frac{171 g_{2}^{2} g_{3} z^{15}}{10} - \\frac{g_{2}^{2} z^{9}}{4} + \\frac{9936 g_{2} g_{3}^{2} z^{17}}{17} - \\frac{18 g_{2} g_{3} z^{11}}{11} - \\frac{g_{2} z^{5}}{10} - \\frac{216 g_{3}^{2} z^{13}}{13} - \\frac{6 g_{3} z^{7}}{7} + z$"
      ],
      "text/plain": [
       "Eq(sigma(z, g2, g3), 85860*g2**2*g3**2*z**21/7 + 171*g2**2*g3*z**15/10 - g2**2*z**9/4 + 9936*g2*g3**2*z**17/17 - 18*g2*g3*z**11/11 - g2*z**5/10 - 216*g3**2*z**13/13 - 6*g3*z**7/7 + z)"
      ]
     },
     "execution_count": 3,
     "metadata": {},
     "output_type": "execute_result"
    },
    {
     "data": {
      "text/latex": [
       "$\\displaystyle \\sigma{\\left(2 m \\omega_{3} + 2 n \\omega_{1} + z,g_{2},g_{3} \\right)} = \\left(-1\\right)^{m n + m + n} \\sigma{\\left(z,g_{2},g_{3} \\right)} e^{2 \\eta_{1} m n \\omega_{3} + 2 \\eta_{1} n^{2} \\omega_{1} + 2 \\eta_{1} n z + 2 \\eta_{3} m^{2} \\omega_{3} + 2 \\eta_{3} m n \\omega_{1} + 2 \\eta_{3} m z}$"
      ],
      "text/plain": [
       "Eq(sigma(2*m*omega3 + 2*n*omega1 + z, g2, g3), (-1)**(m*n + m + n)*sigma(z, g2, g3)*exp(2*eta1*m*n*omega3 + 2*eta1*n**2*omega1 + 2*eta1*n*z + 2*eta3*m**2*omega3 + 2*eta3*m*n*omega1 + 2*eta3*m*z))"
      ]
     },
     "execution_count": 3,
     "metadata": {},
     "output_type": "execute_result"
    },
    {
     "data": {
      "text/latex": [
       "$\\displaystyle \\frac{\\operatorname{pwp}{\\left(x,g_{2},g_{3} \\right)} - \\operatorname{pwp}{\\left(y,g_{2},g_{3} \\right)}}{2 \\left(\\operatorname{pw}{\\left(x,g_{2},g_{3} \\right)} - \\operatorname{pw}{\\left(y,g_{2},g_{3} \\right)}\\right)} = - \\operatorname{zw}{\\left(x,g_{2},g_{3} \\right)} - \\operatorname{zw}{\\left(y,g_{2},g_{3} \\right)} + \\operatorname{zw}{\\left(x + y,g_{2},g_{3} \\right)}$"
      ],
      "text/plain": [
       "Eq((pwp(x, g2, g3) - pwp(y, g2, g3))/(2*(pw(x, g2, g3) - pw(y, g2, g3))), -zw(x, g2, g3) - zw(y, g2, g3) + zw(x + y, g2, g3))"
      ]
     },
     "execution_count": 3,
     "metadata": {},
     "output_type": "execute_result"
    },
    {
     "data": {
      "text/latex": [
       "$\\displaystyle \\frac{\\partial}{\\partial y} \\log{\\left(\\frac{\\sigma{\\left(x + y,g_{2},g_{3} \\right)}}{\\sigma{\\left(y,g_{2},g_{3} \\right)}} \\right)} = - \\operatorname{zw}{\\left(y,g_{2},g_{3} \\right)} + \\operatorname{zw}{\\left(x + y,g_{2},g_{3} \\right)}$"
      ],
      "text/plain": [
       "Eq(Derivative(log(sigma(x + y, g2, g3)/sigma(y, g2, g3)), y), -zw(y, g2, g3) + zw(x + y, g2, g3))"
      ]
     },
     "execution_count": 3,
     "metadata": {},
     "output_type": "execute_result"
    },
    {
     "data": {
      "text/latex": [
       "$\\displaystyle \\frac{\\partial}{\\partial y} \\log{\\left(\\frac{\\sigma{\\left(x + y,g_{2},g_{3} \\right)} e^{- y \\operatorname{zw}{\\left(x,g_{2},g_{3} \\right)}}}{\\sigma{\\left(y,g_{2},g_{3} \\right)}} \\right)} = - \\operatorname{zw}{\\left(x,g_{2},g_{3} \\right)} - \\operatorname{zw}{\\left(y,g_{2},g_{3} \\right)} + \\operatorname{zw}{\\left(x + y,g_{2},g_{3} \\right)}$"
      ],
      "text/plain": [
       "Eq(Derivative(log(sigma(x + y, g2, g3)*exp(-y*zw(x, g2, g3))/sigma(y, g2, g3)), y), -zw(x, g2, g3) - zw(y, g2, g3) + zw(x + y, g2, g3))"
      ]
     },
     "execution_count": 3,
     "metadata": {},
     "output_type": "execute_result"
    },
    {
     "data": {
      "text/latex": [
       "$\\displaystyle \\frac{\\operatorname{pwp}{\\left(x,g_{2},g_{3} \\right)}}{\\operatorname{pw}{\\left(x,g_{2},g_{3} \\right)} - \\operatorname{pw}{\\left(y,g_{2},g_{3} \\right)}} = 2 \\frac{\\partial}{\\partial y} \\log{\\left(\\frac{\\sigma{\\left(x + y,g_{2},g_{3} \\right)} e^{- y \\operatorname{zw}{\\left(x,g_{2},g_{3} \\right)}}}{\\sigma{\\left(y,g_{2},g_{3} \\right)}} \\right)} - \\frac{\\partial}{\\partial y} \\log{\\left(\\operatorname{pw}{\\left(x,g_{2},g_{3} \\right)} - \\operatorname{pw}{\\left(y,g_{2},g_{3} \\right)} \\right)}$"
      ],
      "text/plain": [
       "Eq(pwp(x, g2, g3)/(pw(x, g2, g3) - pw(y, g2, g3)), 2*Derivative(log(sigma(x + y, g2, g3)*exp(-y*zw(x, g2, g3))/sigma(y, g2, g3)), y) - Derivative(log(pw(x, g2, g3) - pw(y, g2, g3)), y))"
      ]
     },
     "execution_count": 3,
     "metadata": {},
     "output_type": "execute_result"
    },
    {
     "data": {
      "text/latex": [
       "$\\displaystyle \\frac{\\operatorname{pwp}{\\left(x,g_{2},g_{3} \\right)}}{\\operatorname{pw}{\\left(x,g_{2},g_{3} \\right)} - \\operatorname{pw}{\\left(y,g_{2},g_{3} \\right)}} = - \\frac{\\partial}{\\partial y} \\log{\\left(\\frac{\\sigma{\\left(- x + y,g_{2},g_{3} \\right)} e^{y \\operatorname{zw}{\\left(x,g_{2},g_{3} \\right)}}}{\\sigma{\\left(x,g_{2},g_{3} \\right)} \\sigma{\\left(y,g_{2},g_{3} \\right)}} \\right)} + \\frac{\\partial}{\\partial y} \\log{\\left(\\frac{\\sigma{\\left(x + y,g_{2},g_{3} \\right)} e^{- y \\operatorname{zw}{\\left(x,g_{2},g_{3} \\right)}}}{\\sigma{\\left(x,g_{2},g_{3} \\right)} \\sigma{\\left(y,g_{2},g_{3} \\right)}} \\right)}$"
      ],
      "text/plain": [
       "Eq(pwp(x, g2, g3)/(pw(x, g2, g3) - pw(y, g2, g3)), -Derivative(log(sigma(-x + y, g2, g3)*exp(y*zw(x, g2, g3))/(sigma(x, g2, g3)*sigma(y, g2, g3))), y) + Derivative(log(sigma(x + y, g2, g3)*exp(-y*zw(x, g2, g3))/(sigma(x, g2, g3)*sigma(y, g2, g3))), y))"
      ]
     },
     "execution_count": 3,
     "metadata": {},
     "output_type": "execute_result"
    },
    {
     "data": {
      "text/latex": [
       "$\\displaystyle \\frac{\\operatorname{pwp}{\\left(x,g_{2},g_{3} \\right)}}{\\operatorname{pw}{\\left(x,g_{2},g_{3} \\right)} - \\operatorname{pw}{\\left(y,g_{2},g_{3} \\right)}} = \\frac{\\partial}{\\partial y} \\log{\\left(\\frac{\\sigma{\\left(x + y,g_{2},g_{3} \\right)} e^{- 2 y \\operatorname{zw}{\\left(x,g_{2},g_{3} \\right)}}}{\\sigma{\\left(- x + y,g_{2},g_{3} \\right)}} \\right)}$"
      ],
      "text/plain": [
       "Eq(pwp(x, g2, g3)/(pw(x, g2, g3) - pw(y, g2, g3)), Derivative(log(sigma(x + y, g2, g3)*exp(-2*y*zw(x, g2, g3))/sigma(-x + y, g2, g3)), y))"
      ]
     },
     "execution_count": 3,
     "metadata": {},
     "output_type": "execute_result"
    },
    {
     "data": {
      "text/latex": [
       "$\\displaystyle f{\\left(x + a \\right)} = \\sum_{n=0}^{N} \\frac{x^{n} \\left. \\frac{d^{n}}{d x^{n}} f{\\left(x \\right)} \\right|_{\\substack{ x=a }}}{n!}$"
      ],
      "text/plain": [
       "Eq(f(x + a), Sum(x**n*Subs(Derivative(f(x), (x, n)), x, a)/factorial(n), (n, 0, N)))"
      ]
     },
     "execution_count": 3,
     "metadata": {},
     "output_type": "execute_result"
    }
   ],
   "source": [
    "pwp_sqrd = Eq(pwp(z,g2,g3)**2, 4*pw(z,g2,g3)**3 - g2*pw(z,g2,g3) - g3)\n",
    "\n",
    "pw_xy_addition = Eq(pw(x+y,g2,g3), \n",
    "   ((pwp(x, g2, g3) - pwp(y, g2, g3))**2/(pw(x, g2, g3) - pw(y, g2, g3))**2)/4 - pw(x, g2, g3) - pw(y, g2, g3)\n",
    ")\n",
    "p_duplication_a = Eq(pw(2*z,g2,g3), -2*pw(z,g2,g3) + ((diff(pw(z,g2,g3),z,2)/diff(pw(z,g2,g3),z,1))**2)/4)\n",
    "p_duplication_b = Eq(pw(2*z, g2, g3), (-g2/2 + 6*pw(z, g2, g3)**2)**2/(4*pwp(z, g2, g3)**2) - 2*pw(z, g2, g3))\n",
    "p_duplication_c = p_duplication_b.subs(pwp(z,g2,g3)**2, 4*pw(z,g2,g3)**3 - g2*pw(z,g2,g3) - g3)\n",
    "\n",
    "sigma_p_identity = Eq(\n",
    "    pw(y, g2, g3) - pw(x, g2, g3),\n",
    "    sigma(x + y, g2, g3) * sigma(x - y, g2, g3) / (sigma(x, g2, g3) ** 2 * sigma(y, g2, g3) ** 2) \n",
    ")\n",
    "\n",
    "pw_to_zw_identity = Eq(\n",
    "    (pwp(x,g2,g3) - pwp(y,g2,g3))/(pw(x,g2,g3) - pw(y,g2,g3))/2,\n",
    "    zw(x + y,g2, g3) - zw(x,g2, g3) - zw(y,g2, g3)\n",
    ")\n",
    "\n",
    "# 23.10.9 https://dlmf.nist.gov/23.10#E9\n",
    "zw2z_2zwz = Eq(zw(2*z,g2,g3), 2*zw(z,g2,g3) + diff(zw(z,g2,g3),z,3)/diff(zw(z,g2,g3),z,2)/2)\n",
    "dzw_2 = Eq(diff(zw(z,g2,g3),z,2), -pwp(z,g2,g3))\n",
    "dzw_3 = Eq(diff(zw(z,g2,g3),z,3), -diff(pwp(z,g2,g3),z))\n",
    "pwp_def = Eq(pwp(z,g2,g3)**2, 4*pw(z,g2,g3)**3 - g2*pw(z,g2,g3) - g3)\n",
    "pwp2_def = Eq(diff(pwp_def.lhs,z)/pwp(z,g2,g3)/2, \n",
    "              diff(pwp_def.rhs,z).subs(diff(pw(z,g2,g3),z),pwp(z,g2,g3))/pwp(z,g2,g3)/2).expand()\n",
    "zw2z_2zwz_pw_pwp = zw2z_2zwz.subs([dzw_3.args, dzw_2.args]).subs(*pwp2_def.args)\n",
    "\n",
    "pwp_sigma_dbl_ratio = Eq(pwp(z,g2,g3), - sigma(2*z,g2,g3)/sigma(z,g2,g3)**4)\n",
    "d_zw_pw = Eq(diff(zw(z,g2,g3),z), -pw(z,g2,g3))\n",
    "d_log_sigma_zw = Eq(Derivative(ln(sigma(z,g2,g3)),z), zw(z,g2,g3))\n",
    "d_sigma_zw = Eq(diff(sigma(z,g2,g3),z), solve(d_log_sigma_zw.doit(), diff(sigma(z,g2,g3),z))[0])\n",
    "d_sigma_zw_2 = Eq(diff(d_sigma_zw.lhs,z), diff(d_sigma_zw.rhs,z).subs([d_sigma_zw.args, d_zw_pw.args]))\n",
    "pw_diff_at_zero = Eq(Limit(Derivative(pw(z, g2, g3), (z, j)), z, 0, dir='+'),\n",
    " (-1)**j*z**(-j - 2)*factorial(j + 1) - \n",
    "                     (-1)**j*((-1)**j/2 + Rational(1,2))*RisingFactorial(-j - 1, j + 1)*G[j + 2])\n",
    "\n",
    "\n",
    "expansion_z_wp = Eq(pw(z,g2,g3), 1/z**2 + Sum((2*n+1)*G[2*n+2]*z**(2*n),(n,1,oo)))\n",
    "one_over_sigma_z_big_o = Eq(1/sigma(z,g2,g3), (1/z*(1 - (- g2*z**4/10 - 6*g3/7*z**6 + O(z**8)))).expand())\n",
    "sigma_expansion_g_2_3 = Eq(sigma(z, g2, g3),\n",
    "    85860*g2**2*g3**2*z**21/7 + 171*g2**2*g3*z**15/10 - g2**2*z**9/4 + \n",
    "    9936*g2*g3**2*z**17/17 - 18*g2*g3*z**11/11 - g2*z**5/10 - \n",
    "    216*g3**2*z**13/13 - 6*g3*z**7/7 + z\n",
    ")\n",
    "\n",
    "quasi_period = Eq(sigma(2*m*omega3 + 2*n*omega1 + z, g2, g3),\n",
    " (-1)**(m*n + m + n)*sigma(z, g2, g3)*\n",
    "                  exp(2*eta1*m*n*omega3 + 2*eta1*n**2*omega1 + 2*eta1*n*z + \n",
    "                      2*eta3*m**2*omega3 + 2*eta3*m*n*omega1 + 2*eta3*m*z)\n",
    "                 )\n",
    "\n",
    "\n",
    "\n",
    "taylor_series = Eq(f(x), Sum(Derivative(f(x),(x,n)).subs(x,a)/factorial(n) * (x - a)**n, (n,0,N)))\n",
    "taylor_series_b = taylor_series.subs(x,x+a)\n",
    "\n",
    "log_sigma_xy_a = Eq(Derivative(log(sigma(x+y,g2,g3)/sigma(y,g2,g3)),y), zw(x+y,g2,g3) - zw(y,g2,g3))\n",
    "log_sigma_xy_b = Eq(Derivative(log(sigma(x+y,g2,g3)/sigma(y,g2,g3)*exp(-zw(x,g2,g3)*y)),y), \n",
    "   -zw(x, g2, g3) + zw(x+y,g2,g3) - zw(y,g2,g3))\n",
    "\n",
    "pwp_x_y_log_sigma_diff = Eq(pwp(x, g2, g3)/((pw(x, g2, g3) - pw(y, g2, g3))),\n",
    " 2*Derivative(log(sigma(x+y,g2,g3)/sigma(y,g2,g3)*exp(-zw(x,g2,g3)*y)),y) \n",
    "   - Derivative(log(pw(x,g2,g3) - pw(y,g2,g3)),y)\n",
    "  )\n",
    "\n",
    "pwp_x_y_log_sigma_diff_b = Eq(pwp_x_y_log_sigma_diff.lhs,\n",
    " 2*Derivative(log(sigma(x + y, g2, g3)*exp(-y*zw(x, g2, g3))/sigma(y, g2, g3)/sigma(x, g2, g3)), y) - \n",
    "   Derivative(log(sigma(x + y, g2, g3)*exp(-y*zw(x, g2, g3))/\n",
    "                  (sigma(x, g2, g3)*sigma(y, g2, g3))), y)-\n",
    "   Derivative(log(sigma(-x + y, g2, g3)*exp(y*zw(x, g2, g3))/\n",
    "                  (sigma(x, g2, g3)*sigma(y, g2, g3))), y)\n",
    "  \n",
    ")\n",
    "log_sigma_xy_phase = log(sigma(x + y, g2, g3)*exp(-2*y*zw(x, g2, g3))/sigma(-x + y, g2, g3))\n",
    "pwp_x_y_log_sigma_diff_c = Eq(pwp(x, g2, g3)/(pw(x, g2, g3) - pw(y, g2, g3)), Derivative(log_sigma_xy_phase, y))\n",
    "\n",
    "\n",
    "pwp_sqrd\n",
    "pw_xy_addition\n",
    "p_duplication_a\n",
    "p_duplication_b\n",
    "p_duplication_c\n",
    "sigma_p_identity\n",
    "pw_to_zw_identity\n",
    "zw2z_2zwz_pw_pwp\n",
    "pwp_sigma_dbl_ratio\n",
    "d_zw_pw\n",
    "d_log_sigma_zw\n",
    "d_sigma_zw\n",
    "d_sigma_zw_2\n",
    "\n",
    "pw_diff_at_zero\n",
    "expansion_z_wp\n",
    "one_over_sigma_z_big_o\n",
    "sigma_expansion_g_2_3\n",
    "quasi_period\n",
    "\n",
    "pw_to_zw_identity\n",
    "log_sigma_xy_a\n",
    "log_sigma_xy_b\n",
    "pwp_x_y_log_sigma_diff\n",
    "pwp_x_y_log_sigma_diff_b\n",
    "pwp_x_y_log_sigma_diff_c\n",
    "\n",
    "taylor_series_b"
   ]
  },
  {
   "cell_type": "code",
   "execution_count": 4,
   "id": "64fef6ab",
   "metadata": {},
   "outputs": [
    {
     "data": {
      "text/latex": [
       "$\\displaystyle \\text{True}$"
      ],
      "text/plain": [
       "True"
      ]
     },
     "execution_count": 4,
     "metadata": {},
     "output_type": "execute_result"
    },
    {
     "data": {
      "text/latex": [
       "$\\displaystyle \\text{True}$"
      ],
      "text/plain": [
       "True"
      ]
     },
     "execution_count": 4,
     "metadata": {},
     "output_type": "execute_result"
    },
    {
     "name": "stdout",
     "output_type": "stream",
     "text": [
      "LHS -1.87973800101493 - 0.789847864623764*I\n",
      "RHS -1.87973800101493 - 0.789847864623769*I\n",
      "ERROR (SMAPE) 3.66281653088603e-15\n"
     ]
    },
    {
     "data": {
      "text/latex": [
       "$\\displaystyle \\frac{\\operatorname{pwp}{\\left(x,g_{2},g_{3} \\right)}}{\\operatorname{pw}{\\left(x,g_{2},g_{3} \\right)} - \\operatorname{pw}{\\left(y,g_{2},g_{3} \\right)}} = - 2 \\operatorname{zw}{\\left(x,g_{2},g_{3} \\right)} - \\operatorname{zw}{\\left(- x + y,g_{2},g_{3} \\right)} + \\operatorname{zw}{\\left(x + y,g_{2},g_{3} \\right)}$"
      ],
      "text/plain": [
       "Eq(pwp(x, g2, g3)/(pw(x, g2, g3) - pw(y, g2, g3)), -2*zw(x, g2, g3) - zw(-x + y, g2, g3) + zw(x + y, g2, g3))"
      ]
     },
     "execution_count": 4,
     "metadata": {},
     "output_type": "execute_result"
    }
   ],
   "source": [
    "(\n",
    "log_sigma_xy_a.doit()\n",
    ".replace(sigma(wild,g2,g3).diff(wild), sigma(wild,g2,g3)*zw(wild, g2, g3))\n",
    ".doit()\n",
    ".simplify()\n",
    ")\n",
    "\n",
    "(\n",
    "log_sigma_xy_b.doit()\n",
    ".replace(sigma(wild,g2,g3).diff(wild), sigma(wild,g2,g3)*zw(wild, g2, g3))\n",
    ".doit()\n",
    ".simplify()\n",
    ")\n",
    "\n",
    "pwp_x_y_zw = (\n",
    "pwp_x_y_log_sigma_diff_c.doit()\n",
    ".replace(sigma(wild,g2,g3).diff(wild), sigma(wild,g2,g3)*zw(wild, g2, g3))\n",
    ".doit()\n",
    ".simplify()\n",
    ")\n",
    "\n",
    "num_subs_simple = [(x,0.234), (y, -1.23+1.98j), (g2,-0.23+1j), (g3, 4.2+0.001j)]\n",
    "\n",
    "num_evaluate_weierstrass_carlson(pwp_x_y_zw, num_subs_simple)"
   ]
  },
  {
   "cell_type": "code",
   "execution_count": 5,
   "id": "eafe62c9",
   "metadata": {},
   "outputs": [
    {
     "data": {
      "text/plain": [
       "(2.0204813619937374+0.030416172851106094j)"
      ]
     },
     "execution_count": 5,
     "metadata": {},
     "output_type": "execute_result"
    },
    {
     "data": {
      "text/plain": [
       "(3.014768953616608+1.1587263013014846j)"
      ]
     },
     "execution_count": 5,
     "metadata": {},
     "output_type": "execute_result"
    },
    {
     "data": {
      "text/plain": [
       "(0.9942875916228708+1.1283101284503787j)"
      ]
     },
     "execution_count": 5,
     "metadata": {},
     "output_type": "execute_result"
    },
    {
     "data": {
      "text/plain": [
       "mpc(real='0.096579543104266682', imag='0.99460386234882481')"
      ]
     },
     "execution_count": 5,
     "metadata": {},
     "output_type": "execute_result"
    },
    {
     "data": {
      "text/plain": [
       "(1.5003975696767193+0.550903349278343j)"
      ]
     },
     "execution_count": 5,
     "metadata": {},
     "output_type": "execute_result"
    },
    {
     "data": {
      "text/plain": [
       "(0.5003975696767194+0.5509033492783431j)"
      ]
     },
     "execution_count": 5,
     "metadata": {},
     "output_type": "execute_result"
    },
    {
     "data": {
      "text/plain": [
       "(1.9034204568957331-0.9946038623488248j)"
      ]
     },
     "execution_count": 5,
     "metadata": {},
     "output_type": "execute_result"
    },
    {
     "data": {
      "image/png": "[encoded data removed]",
      "text/plain": [
       "<Figure size 1000x1000 with 1 Axes>"
      ]
     },
     "metadata": {},
     "output_type": "display_data"
    }
   ],
   "source": [
    "\n",
    "# g2val_ = 2.234\n",
    "# g3val_ = 3.245\n",
    "g2val_ = -2.234+0.13j\n",
    "g3val_ = 0.245-0.0234j\n",
    "omega_ = we.omega_from_g(g2val_, g3val_)\n",
    "omega1_ = mpc_to_float(omega_[0])\n",
    "omega2_ = mpc_to_float(omega_[1])\n",
    "omega3_ = mpc_to_float(omega_[2])\n",
    "if im(omega2_/omega1_) <= 0:\n",
    "    omega1_ = -omega2_\n",
    "    \n",
    "omega1_ = omega1_ - 2*omega2_\n",
    "omega2_ = omega2_ + 2*omega1_\n",
    "# omega3_ = omega3_ - 2*omega2_\n",
    "\n",
    "omegas = (omega1_, omega2_)\n",
    "\n",
    "zVal_ = 0.234\n",
    "xVal_ = 1.234 + 0.245j\n",
    "\n",
    "tau_ = we.tau_from_g(g2val_, g3val_)\n",
    "\n",
    "omega1_\n",
    "omega2_\n",
    "omega3_\n",
    "tau_\n",
    "omega2_/omega1_\n",
    "omega3_/omega1_\n",
    "omega2_/omega3_\n",
    "\n",
    "weierstrass_num_subs = [\n",
    "    (omega1, omega1_), (omega2, omega2_), (omega3, omega3_), (g2, g2val_), (g3, g3val_), (z, zVal_), (x, xVal_)\n",
    "]\n",
    "\n",
    "# This should show the fundamental lattice cell\n",
    "plot_lattice(omega1_, omega2_, omega3_, n_points=2)"
   ]
  },
  {
   "cell_type": "markdown",
   "id": "5485d616",
   "metadata": {},
   "source": [
    "## The known relationship between Carlson RF and Weierstrass elliptic functions\n",
    "\n",
    "https://dlmf.nist.gov/19.25#E35\n",
    "\n",
    "For some integers $k, l, m$:"
   ]
  },
  {
   "cell_type": "code",
   "execution_count": 6,
   "id": "47ed5482",
   "metadata": {},
   "outputs": [
    {
     "name": "stdout",
     "output_type": "stream",
     "text": [
      "LHS 0.234000000000000\n",
      "RHS (0.23399999999999993-6.883535868968061e-18j)\n",
      "ERROR (SMAPE) 3.57054564932798e-16\n"
     ]
    },
    {
     "data": {
      "text/latex": [
       "$\\displaystyle 2 k \\omega_{1} + 2 l \\omega_{3} + z = \\left(-1\\right)^{m} \\operatorname{RF}{\\left(- \\operatorname{pw}{\\left(\\omega_{1},g_{2},g_{3} \\right)} + \\operatorname{pw}{\\left(z,g_{2},g_{3} \\right)},- \\operatorname{pw}{\\left(\\omega_{2},g_{2},g_{3} \\right)} + \\operatorname{pw}{\\left(z,g_{2},g_{3} \\right)},- \\operatorname{pw}{\\left(\\omega_{3},g_{2},g_{3} \\right)} + \\operatorname{pw}{\\left(z,g_{2},g_{3} \\right)} \\right)}$"
      ],
      "text/plain": [
       "Eq(2*k*omega1 + 2*l*omega3 + z, (-1)**m*RF(-pw(omega1, g2, g3) + pw(z, g2, g3), -pw(omega2, g2, g3) + pw(z, g2, g3), -pw(omega3, g2, g3) + pw(z, g2, g3)))"
      ]
     },
     "execution_count": 6,
     "metadata": {},
     "output_type": "execute_result"
    }
   ],
   "source": [
    "rf_carlson_weierstrass = Eq(z + 2*k*omega1 + 2*l*omega3, \n",
    "   (-1)**m*RF(pw(z,g2,g3) - pw(omega1,g2,g3), pw(z,g2,g3) - pw(omega2,g2,g3), pw(z,g2,g3) - pw(omega3,g2,g3))\n",
    ")\n",
    "rf_klm_integers = [(k,0),(l,0),(m,2)]\n",
    "\n",
    "num_evaluate_weierstrass_carlson(rf_carlson_weierstrass, weierstrass_num_subs + rf_klm_integers)"
   ]
  },
  {
   "cell_type": "markdown",
   "id": "1ac35a42",
   "metadata": {},
   "source": [
    "## The known relationship between Carlson RG and Weierstrass elliptic functions\n",
    "\n",
    "https://dlmf.nist.gov/19.25#E37\n",
    "\n",
    "For some integers $k, l, m$:"
   ]
  },
  {
   "cell_type": "code",
   "execution_count": 7,
   "id": "5eeee499",
   "metadata": {},
   "outputs": [
    {
     "name": "stdout",
     "output_type": "stream",
     "text": [
      "LHS 8.5460594598208 + 5.50376649799781e-5*I\n",
      "RHS 8.5460594598208 + 5.50376649798641e-5*I\n",
      "ERROR (SMAPE) 1.33407256565537e-17\n"
     ]
    },
    {
     "data": {
      "text/latex": [
       "$\\displaystyle \\left(2 k \\omega_{1} + 2 l \\omega_{3} + z\\right) \\operatorname{pw}{\\left(z,g_{2},g_{3} \\right)} + \\operatorname{zw}{\\left(2 k \\omega_{1} + 2 l \\omega_{3} + z,g_{2},g_{3} \\right)} = 2 \\left(-1\\right)^{m} \\operatorname{RG}{\\left(- \\operatorname{pw}{\\left(\\omega_{1},g_{2},g_{3} \\right)} + \\operatorname{pw}{\\left(z,g_{2},g_{3} \\right)},- \\operatorname{pw}{\\left(\\omega_{2},g_{2},g_{3} \\right)} + \\operatorname{pw}{\\left(z,g_{2},g_{3} \\right)},- \\operatorname{pw}{\\left(\\omega_{3},g_{2},g_{3} \\right)} + \\operatorname{pw}{\\left(z,g_{2},g_{3} \\right)} \\right)}$"
      ],
      "text/plain": [
       "Eq((2*k*omega1 + 2*l*omega3 + z)*pw(z, g2, g3) + zw(2*k*omega1 + 2*l*omega3 + z, g2, g3), 2*(-1)**m*RG(-pw(omega1, g2, g3) + pw(z, g2, g3), -pw(omega2, g2, g3) + pw(z, g2, g3), -pw(omega3, g2, g3) + pw(z, g2, g3)))"
      ]
     },
     "execution_count": 7,
     "metadata": {},
     "output_type": "execute_result"
    }
   ],
   "source": [
    "rg_carlson_weierstrass = Eq(\n",
    "    zw(z + 2*k*omega1 + 2*l*omega3, g2,g3) + (z + 2*k*omega1 + 2*l*omega3)*pw(z,g2,g3), \n",
    "   (-1)**m*2*RG(pw(z,g2,g3) - pw(omega1,g2,g3), pw(z,g2,g3) - pw(omega2,g2,g3), pw(z,g2,g3) - pw(omega3,g2,g3))\n",
    ")\n",
    "rg_klm_integers = [(k,0),(l,0),(m,2)]\n",
    "\n",
    "num_evaluate_weierstrass_carlson(rg_carlson_weierstrass, weierstrass_num_subs + rg_klm_integers)"
   ]
  },
  {
   "cell_type": "markdown",
   "id": "14dc82a8",
   "metadata": {},
   "source": [
    "## The new relationship between Carlson RJ and Weierstrass elliptic functions\n",
    "This does not seemingly appear anywhere in the literature and is presumed to be new. In what follows I'm playing fast and loose with re integration paths in the complex domain. *Waves hands like a Physicist* "
   ]
  },
  {
   "cell_type": "code",
   "execution_count": 8,
   "id": "f2aaba69",
   "metadata": {
    "scrolled": false
   },
   "outputs": [
    {
     "data": {
      "text/latex": [
       "$\\displaystyle \\left(\\frac{\\partial}{\\partial z} f{\\left(z,x \\right)}\\right)^{2} = \\left(f{\\left(z,x \\right)} - \\operatorname{pw}{\\left(x,g_{2},g_{3} \\right)}\\right)^{2} \\left(- g_{2} f{\\left(z,x \\right)} - g_{3} + 4 f^{3}{\\left(z,x \\right)}\\right)$"
      ],
      "text/plain": [
       "Eq(Derivative(f(z, x), z)**2, (f(z, x) - pw(x, g2, g3))**2*(-g2*f(z, x) - g3 + 4*f(z, x)**3))"
      ]
     },
     "execution_count": 8,
     "metadata": {},
     "output_type": "execute_result"
    },
    {
     "data": {
      "text/latex": [
       "$\\displaystyle f{\\left(z,x \\right)} = h{\\left(\\rho{\\left(z,x \\right)} \\right)}$"
      ],
      "text/plain": [
       "Eq(f(z, x), h(rho(z, x)))"
      ]
     },
     "execution_count": 8,
     "metadata": {},
     "output_type": "execute_result"
    },
    {
     "data": {
      "text/latex": [
       "$\\displaystyle \\left(\\frac{\\partial}{\\partial \\rho{\\left(z,x \\right)}} h{\\left(\\rho{\\left(z,x \\right)} \\right)}\\right)^{2} \\left(\\frac{\\partial}{\\partial z} \\rho{\\left(z,x \\right)}\\right)^{2} = \\left(h{\\left(\\rho{\\left(z,x \\right)} \\right)} - \\operatorname{pw}{\\left(x,g_{2},g_{3} \\right)}\\right)^{2} \\left(- g_{2} h{\\left(\\rho{\\left(z,x \\right)} \\right)} - g_{3} + 4 h^{3}{\\left(\\rho{\\left(z,x \\right)} \\right)}\\right)$"
      ],
      "text/plain": [
       "Eq(Derivative(h(rho(z, x)), rho(z, x))**2*Derivative(rho(z, x), z)**2, (h(rho(z, x)) - pw(x, g2, g3))**2*(-g2*h(rho(z, x)) - g3 + 4*h(rho(z, x))**3))"
      ]
     },
     "execution_count": 8,
     "metadata": {},
     "output_type": "execute_result"
    },
    {
     "data": {
      "text/latex": [
       "$\\displaystyle \\frac{\\partial}{\\partial z} \\rho{\\left(z,x \\right)} = h{\\left(\\rho{\\left(z,x \\right)} \\right)} - \\operatorname{pw}{\\left(x,g_{2},g_{3} \\right)}$"
      ],
      "text/plain": [
       "Eq(Derivative(rho(z, x), z), h(rho(z, x)) - pw(x, g2, g3))"
      ]
     },
     "execution_count": 8,
     "metadata": {},
     "output_type": "execute_result"
    },
    {
     "data": {
      "text/latex": [
       "$\\displaystyle \\left(\\frac{d}{d t} h{\\left(t \\right)}\\right)^{2} = - g_{2} h{\\left(t \\right)} - g_{3} + 4 h^{3}{\\left(t \\right)}$"
      ],
      "text/plain": [
       "Eq(Derivative(h(t), t)**2, -g2*h(t) - g3 + 4*h(t)**3)"
      ]
     },
     "execution_count": 8,
     "metadata": {},
     "output_type": "execute_result"
    },
    {
     "data": {
      "text/latex": [
       "$\\displaystyle h{\\left(t \\right)} = \\operatorname{pw}{\\left(t - t_{0},g_{2},g_{3} \\right)}$"
      ],
      "text/plain": [
       "Eq(h(t), pw(t - t0, g2, g3))"
      ]
     },
     "execution_count": 8,
     "metadata": {},
     "output_type": "execute_result"
    },
    {
     "data": {
      "text/latex": [
       "$\\displaystyle f{\\left(z,x \\right)} = \\operatorname{pw}{\\left(- t_{0} + \\rho{\\left(z,x \\right)},g_{2},g_{3} \\right)}$"
      ],
      "text/plain": [
       "Eq(f(z, x), pw(-t0 + rho(z, x), g2, g3))"
      ]
     },
     "execution_count": 8,
     "metadata": {},
     "output_type": "execute_result"
    },
    {
     "data": {
      "text/latex": [
       "$\\displaystyle \\int\\limits_{\\rho{\\left(z_{0},x \\right)}}^{\\rho{\\left(z,x \\right)}} \\frac{1}{- \\operatorname{pw}{\\left(x,g_{2},g_{3} \\right)} + \\operatorname{pw}{\\left(t - t_{0},g_{2},g_{3} \\right)}}\\, dt = \\int\\limits_{z_{0}}^{z} 1\\, dz$"
      ],
      "text/plain": [
       "Eq(Integral(1/(-pw(x, g2, g3) + pw(t - t0, g2, g3)), (t, rho(z0, x), rho(z, x))), Integral(1, (z, z0, z)))"
      ]
     },
     "execution_count": 8,
     "metadata": {},
     "output_type": "execute_result"
    },
    {
     "data": {
      "text/latex": [
       "$\\displaystyle \\int\\limits_{- t_{0} + \\rho{\\left(z_{0},x \\right)}}^{- t_{0} + \\rho{\\left(z,x \\right)}} \\frac{\\operatorname{pwp}{\\left(x,g_{2},g_{3} \\right)}}{\\operatorname{pw}{\\left(x,g_{2},g_{3} \\right)} - \\operatorname{pw}{\\left(y,g_{2},g_{3} \\right)}}\\, dy = \\left(z - z_{0}\\right) \\operatorname{pwp}{\\left(x,g_{2},g_{3} \\right)}$"
      ],
      "text/plain": [
       "Eq(Integral(pwp(x, g2, g3)/(pw(x, g2, g3) - pw(y, g2, g3)), (y, -t0 + rho(z0, x), -t0 + rho(z, x))), (z - z0)*pwp(x, g2, g3))"
      ]
     },
     "execution_count": 8,
     "metadata": {},
     "output_type": "execute_result"
    },
    {
     "data": {
      "text/latex": [
       "$\\displaystyle \\frac{\\operatorname{pwp}{\\left(x,g_{2},g_{3} \\right)}}{\\operatorname{pw}{\\left(x,g_{2},g_{3} \\right)} - \\operatorname{pw}{\\left(y,g_{2},g_{3} \\right)}} = \\frac{\\partial}{\\partial y} \\log{\\left(\\frac{\\sigma{\\left(x + y,g_{2},g_{3} \\right)} e^{- 2 y \\operatorname{zw}{\\left(x,g_{2},g_{3} \\right)}}}{\\sigma{\\left(- x + y,g_{2},g_{3} \\right)}} \\right)}$"
      ],
      "text/plain": [
       "Eq(pwp(x, g2, g3)/(pw(x, g2, g3) - pw(y, g2, g3)), Derivative(log(sigma(x + y, g2, g3)*exp(-2*y*zw(x, g2, g3))/sigma(-x + y, g2, g3)), y))"
      ]
     },
     "execution_count": 8,
     "metadata": {},
     "output_type": "execute_result"
    },
    {
     "data": {
      "text/latex": [
       "$\\displaystyle \\int\\limits_{- t_{0} + \\rho{\\left(z_{0},x \\right)}}^{- t_{0} + \\rho{\\left(z,x \\right)}} \\frac{\\partial}{\\partial y} \\log{\\left(\\frac{\\sigma{\\left(x + y,g_{2},g_{3} \\right)} e^{- 2 y \\operatorname{zw}{\\left(x,g_{2},g_{3} \\right)}}}{\\sigma{\\left(- x + y,g_{2},g_{3} \\right)}} \\right)}\\, dy = \\left(z - z_{0}\\right) \\operatorname{pwp}{\\left(x,g_{2},g_{3} \\right)}$"
      ],
      "text/plain": [
       "Eq(Integral(Derivative(log(sigma(x + y, g2, g3)*exp(-2*y*zw(x, g2, g3))/sigma(-x + y, g2, g3)), y), (y, -t0 + rho(z0, x), -t0 + rho(z, x))), (z - z0)*pwp(x, g2, g3))"
      ]
     },
     "execution_count": 8,
     "metadata": {},
     "output_type": "execute_result"
    },
    {
     "data": {
      "text/latex": [
       "$\\displaystyle \\log{\\left(\\frac{\\sigma{\\left(- t_{0} + x + \\rho{\\left(z,x \\right)},g_{2},g_{3} \\right)} e^{- 2 \\left(- t_{0} + \\rho{\\left(z,x \\right)}\\right) \\operatorname{zw}{\\left(x,g_{2},g_{3} \\right)}}}{\\sigma{\\left(- t_{0} - x + \\rho{\\left(z,x \\right)},g_{2},g_{3} \\right)}} \\right)} - \\log{\\left(\\frac{\\sigma{\\left(- t_{0} + x + \\rho{\\left(z_{0},x \\right)},g_{2},g_{3} \\right)} e^{- 2 \\left(- t_{0} + \\rho{\\left(z_{0},x \\right)}\\right) \\operatorname{zw}{\\left(x,g_{2},g_{3} \\right)}}}{\\sigma{\\left(- t_{0} - x + \\rho{\\left(z_{0},x \\right)},g_{2},g_{3} \\right)}} \\right)} = \\left(z - z_{0}\\right) \\operatorname{pwp}{\\left(x,g_{2},g_{3} \\right)}$"
      ],
      "text/plain": [
       "Eq(log(sigma(-t0 + x + rho(z, x), g2, g3)*exp(-2*(-t0 + rho(z, x))*zw(x, g2, g3))/sigma(-t0 - x + rho(z, x), g2, g3)) - log(sigma(-t0 + x + rho(z0, x), g2, g3)*exp(-2*(-t0 + rho(z0, x))*zw(x, g2, g3))/sigma(-t0 - x + rho(z0, x), g2, g3)), (z - z0)*pwp(x, g2, g3))"
      ]
     },
     "execution_count": 8,
     "metadata": {},
     "output_type": "execute_result"
    },
    {
     "data": {
      "text/latex": [
       "$\\displaystyle \\rho{\\left(z,x \\right)} = t_{0} + r{\\left(z,x \\right)}$"
      ],
      "text/plain": [
       "Eq(rho(z, x), t0 + r(z, x))"
      ]
     },
     "execution_count": 8,
     "metadata": {},
     "output_type": "execute_result"
    },
    {
     "data": {
      "text/latex": [
       "$\\displaystyle f{\\left(z,x \\right)} = \\operatorname{pw}{\\left(r{\\left(z,x \\right)},g_{2},g_{3} \\right)}$"
      ],
      "text/plain": [
       "Eq(f(z, x), pw(r(z, x), g2, g3))"
      ]
     },
     "execution_count": 8,
     "metadata": {},
     "output_type": "execute_result"
    },
    {
     "data": {
      "text/latex": [
       "$\\displaystyle \\log{\\left(\\frac{\\sigma{\\left(x + r{\\left(z,x \\right)},g_{2},g_{3} \\right)} e^{- 2 r{\\left(z,x \\right)} \\operatorname{zw}{\\left(x,g_{2},g_{3} \\right)}}}{\\sigma{\\left(- x + r{\\left(z,x \\right)},g_{2},g_{3} \\right)}} \\right)} - \\log{\\left(\\frac{\\sigma{\\left(x + r{\\left(z_{0},x \\right)},g_{2},g_{3} \\right)} e^{- 2 r{\\left(z_{0},x \\right)} \\operatorname{zw}{\\left(x,g_{2},g_{3} \\right)}}}{\\sigma{\\left(- x + r{\\left(z_{0},x \\right)},g_{2},g_{3} \\right)}} \\right)} = \\left(z - z_{0}\\right) \\operatorname{pwp}{\\left(x,g_{2},g_{3} \\right)}$"
      ],
      "text/plain": [
       "Eq(log(sigma(x + r(z, x), g2, g3)*exp(-2*r(z, x)*zw(x, g2, g3))/sigma(-x + r(z, x), g2, g3)) - log(sigma(x + r(z0, x), g2, g3)*exp(-2*r(z0, x)*zw(x, g2, g3))/sigma(-x + r(z0, x), g2, g3)), (z - z0)*pwp(x, g2, g3))"
      ]
     },
     "execution_count": 8,
     "metadata": {},
     "output_type": "execute_result"
    },
    {
     "data": {
      "text/latex": [
       "$\\displaystyle \\frac{\\partial}{\\partial z} r{\\left(z,x \\right)} = - \\operatorname{pw}{\\left(x,g_{2},g_{3} \\right)} + \\operatorname{pw}{\\left(r{\\left(z,x \\right)},g_{2},g_{3} \\right)}$"
      ],
      "text/plain": [
       "Eq(Derivative(r(z, x), z), -pw(x, g2, g3) + pw(r(z, x), g2, g3))"
      ]
     },
     "execution_count": 8,
     "metadata": {},
     "output_type": "execute_result"
    }
   ],
   "source": [
    "\n",
    "df_hyp_b = Eq(Derivative(f(z,x), z)**2, (f(z,x) - pw(x, g2, g3))**2*(-g2*f(z,x) - g3 + 4*f(z,x)**3))\n",
    "\n",
    "fh_rho_sub = Eq(f(z,x),h(rho(z,x)))\n",
    "dh_rhoz = df_hyp_b.subs(*fh_rho_sub.args).doit()\n",
    "d_rhoz_h = Eq(diff(rho(z,x),z), (h(rho(z,x)) - pw(x,g2,g3)))\n",
    "dh_rhoz_b = dh_rhoz.subs(*d_rhoz_h.args)\n",
    "\n",
    "dh_rhoz_c = Eq(\n",
    "    dh_rhoz_b.lhs/(dh_rhoz_b.lhs.subs(diff(h(rho(z,x)),rho(z,x)),1)), \n",
    "    dh_rhoz_b.rhs/(dh_rhoz_b.lhs.subs(diff(h(rho(z,x)),rho(z,x)),1))\n",
    ").subs(rho(z,x), t).simplify()\n",
    "h_pw = Eq(h(t), pw(t-t0,g2,g3))\n",
    "fp_rho_sub = Eq(f(z,x),pw(rho(z,x)-t0,g2,g3))\n",
    "\n",
    "\n",
    "integral_rhoz_t_a = Eq(Integral(1/(pw(t-t0,g2,g3) - pw(x,g2,g3)),(t,rho(z0,x), rho(z,x))), Integral(1,(z,z0,z)))\n",
    "integral_rhoz_t_b = Eq(Integral(pwp(x,g2,g3)/(-pw(y,g2,g3) + pw(x,g2,g3)),(y,rho(z0,x) - t0, rho(z,x) - t0)), \n",
    "                     pwp(x,g2,g3)*Integral(1,(z,z0,z)).doit())\n",
    "integral_rhoz_t_c = Eq(\n",
    "    Integral(\n",
    "        (pwp(x,g2,g3)/(-pw(y,g2,g3) + pw(x,g2,g3))).subs(*pwp_x_y_log_sigma_diff_c.args),\n",
    "        (y,rho(z0,x) - t0, rho(z,x) - t0)\n",
    "    ), \n",
    "    pwp(x,g2,g3)*Integral(1,(z,z0,z)).doit()\n",
    ")\n",
    "\n",
    "integral_rhoz_t_d = Eq(\n",
    "    log_sigma_xy_phase.subs(y, rho(z,x) - t0) - log_sigma_xy_phase.subs(y, rho(z0,x) - t0),\n",
    "    integral_rhoz_t_c.rhs\n",
    ")\n",
    "\n",
    "r_rho_zx = Eq(rho(z,x), r(z,x) + t0)\n",
    "integral_r_zx = integral_rhoz_t_d.subs([r_rho_zx.args, r_rho_zx.subs(z,z0).args])\n",
    "\n",
    "\n",
    "fr_sub = fp_rho_sub.subs(*r_rho_zx.args)\n",
    "\n",
    "d_r_h_zx = d_rhoz_h.subs(*h_pw.subs(t,rho(z,x)).args).subs(*r_rho_zx.args).doit()\n",
    "\n",
    "df_hyp_b\n",
    "fh_rho_sub\n",
    "dh_rhoz\n",
    "d_rhoz_h\n",
    "dh_rhoz_c\n",
    "h_pw\n",
    "fp_rho_sub\n",
    "\n",
    "\n",
    "integral_rhoz_t_a\n",
    "integral_rhoz_t_b\n",
    "pwp_x_y_log_sigma_diff_c\n",
    "integral_rhoz_t_c\n",
    "integral_rhoz_t_d\n",
    "r_rho_zx\n",
    "\n",
    "fr_sub\n",
    "integral_r_zx\n",
    "d_r_h_zx"
   ]
  },
  {
   "cell_type": "markdown",
   "id": "3c4a6d4f",
   "metadata": {},
   "source": [
    "To simplify notation in what follows, let us write $s(z)$ to mean $s(z,\\mu_1, \\mu_2, \\mu_3, p)$, and $c$ to mean $c(\\mu_1, \\mu_2, \\mu_3,p)$."
   ]
  },
  {
   "cell_type": "code",
   "execution_count": 9,
   "id": "f4a59167",
   "metadata": {},
   "outputs": [
    {
     "data": {
      "text/latex": [
       "$\\displaystyle \\operatorname{RJ}{\\left(x,y,z,p \\right)} = \\frac{3 \\int\\limits_{0}^{\\infty} \\frac{1}{\\sqrt{\\left(t + x\\right) \\left(t + y\\right) \\left(t + z\\right)} \\left(t + p\\right)}\\, dt}{2}$"
      ],
      "text/plain": [
       "Eq(RJ(x, y, z, p), 3*Integral(1/(sqrt((t + x)*(t + y)*(t + z))*(t + p)), (t, 0, oo))/2)"
      ]
     },
     "execution_count": 9,
     "metadata": {},
     "output_type": "execute_result"
    },
    {
     "data": {
      "text/latex": [
       "$\\displaystyle \\operatorname{RJ}{\\left(x,y,z,p \\right)} = \\frac{3 \\int\\limits_{\\epsilon}^{\\infty} \\frac{1}{\\sqrt{\\left(t + x - \\epsilon\\right) \\left(t + y - \\epsilon\\right) \\left(t + z - \\epsilon\\right)} \\left(t - \\epsilon + p\\right)}\\, dt}{2}$"
      ],
      "text/plain": [
       "Eq(RJ(x, y, z, p), 3*Integral(1/(sqrt((t + x - epsilon)*(t + y - epsilon)*(t + z - epsilon))*(t - epsilon + p)), (t, epsilon, oo))/2)"
      ]
     },
     "execution_count": 9,
     "metadata": {},
     "output_type": "execute_result"
    },
    {
     "data": {
      "text/latex": [
       "$\\displaystyle \\operatorname{RJ}{\\left(s{\\left(z \\right)} + {\\mu}_{1},s{\\left(z \\right)} + {\\mu}_{2},s{\\left(z \\right)} + {\\mu}_{3},s{\\left(z \\right)} + p \\right)} = \\frac{3 \\int\\limits_{s{\\left(z \\right)}}^{\\infty} \\frac{1}{\\sqrt{\\left(t + {\\mu}_{1}\\right) \\left(t + {\\mu}_{2}\\right) \\left(t + {\\mu}_{3}\\right)} \\left(t + p\\right)}\\, dt}{2}$"
      ],
      "text/plain": [
       "Eq(RJ(s(z) + mu[1], s(z) + mu[2], s(z) + mu[3], s(z) + p), 3*Integral(1/(sqrt((t + mu[1])*(t + mu[2])*(t + mu[3]))*(t + p)), (t, s(z), oo))/2)"
      ]
     },
     "execution_count": 9,
     "metadata": {},
     "output_type": "execute_result"
    }
   ],
   "source": [
    "# https://dlmf.nist.gov/19.16\n",
    "Rj_carlson = Eq(RJ(x,y,z,p), Rational(3,2)*Integral(1/(t+p)/sqrt((t+x)*(t+y)*(t+z)),(t,0,oo)))\n",
    "Rj_carlson_b = Eq(RJ(x,y,z,p), Rational(3,2)*Integral(\n",
    "    1/(t+p - epsilon)/sqrt((t+x - epsilon)*(t+y - epsilon)*(t+z - epsilon)),(t,epsilon,oo)))\n",
    "Rj_carlson_c = (Rj_carlson_b\n",
    "                .subs([(x,x+epsilon),(y,y+epsilon),(z,z+epsilon),(p,p+epsilon)])\n",
    "                .subs([(x,mu[1]),(y,mu[2]),(z,mu[3])])\n",
    "                .subs([(epsilon,s(z))])\n",
    "               )\n",
    "\n",
    "Rj_carlson\n",
    "Rj_carlson_b\n",
    "Rj_carlson_c"
   ]
  },
  {
   "cell_type": "markdown",
   "id": "77de38a4",
   "metadata": {},
   "source": [
    "Let us assume a function $s(z)$ exists such that it inverts $R_j$ as follows:"
   ]
  },
  {
   "cell_type": "code",
   "execution_count": 10,
   "id": "021bbab1",
   "metadata": {},
   "outputs": [
    {
     "data": {
      "text/latex": [
       "$\\displaystyle \\operatorname{RJ}{\\left(s{\\left(z \\right)} + {\\mu}_{1},s{\\left(z \\right)} + {\\mu}_{2},s{\\left(z \\right)} + {\\mu}_{3},s{\\left(z \\right)} + p \\right)} = z + c$"
      ],
      "text/plain": [
       "Eq(RJ(s(z) + mu[1], s(z) + mu[2], s(z) + mu[3], s(z) + p), z + c)"
      ]
     },
     "execution_count": 10,
     "metadata": {},
     "output_type": "execute_result"
    },
    {
     "data": {
      "text/latex": [
       "$\\displaystyle z + c = \\frac{3 \\int\\limits_{s{\\left(z \\right)}}^{\\infty} \\frac{1}{\\sqrt{\\left(t + {\\mu}_{1}\\right) \\left(t + {\\mu}_{2}\\right) \\left(t + {\\mu}_{3}\\right)} \\left(t + p\\right)}\\, dt}{2}$"
      ],
      "text/plain": [
       "Eq(z + c, 3*Integral(1/(sqrt((t + mu[1])*(t + mu[2])*(t + mu[3]))*(t + p)), (t, s(z), oo))/2)"
      ]
     },
     "execution_count": 10,
     "metadata": {},
     "output_type": "execute_result"
    }
   ],
   "source": [
    "Rj_carlson_c_z = Eq(Rj_carlson_c.lhs, z + c)\n",
    "Rj_carlson_d_z = Rj_carlson_c.subs(*Rj_carlson_c_z.args)\n",
    "\n",
    "Rj_carlson_c_z\n",
    "Rj_carlson_d_z"
   ]
  },
  {
   "cell_type": "markdown",
   "id": "f31e1006",
   "metadata": {},
   "source": [
    "Then it follows that:"
   ]
  },
  {
   "cell_type": "code",
   "execution_count": 11,
   "id": "0d3763d7",
   "metadata": {},
   "outputs": [
    {
     "data": {
      "text/latex": [
       "$\\displaystyle 1 = - \\frac{3 \\frac{d}{d z} s{\\left(z \\right)}}{2 \\sqrt{\\left(s{\\left(z \\right)} + {\\mu}_{1}\\right) \\left(s{\\left(z \\right)} + {\\mu}_{2}\\right) \\left(s{\\left(z \\right)} + {\\mu}_{3}\\right)} \\left(s{\\left(z \\right)} + p\\right)}$"
      ],
      "text/plain": [
       "Eq(1, -3*Derivative(s(z), z)/(2*sqrt((s(z) + mu[1])*(s(z) + mu[2])*(s(z) + mu[3]))*(s(z) + p)))"
      ]
     },
     "execution_count": 11,
     "metadata": {},
     "output_type": "execute_result"
    },
    {
     "data": {
      "text/latex": [
       "$\\displaystyle \\left(\\frac{d}{d z} s{\\left(z \\right)}\\right)^{2} = \\frac{4 \\left(s{\\left(z \\right)} + {\\mu}_{1}\\right) \\left(s{\\left(z \\right)} + {\\mu}_{2}\\right) \\left(s{\\left(z \\right)} + {\\mu}_{3}\\right) \\left(s{\\left(z \\right)} + p\\right)^{2}}{9}$"
      ],
      "text/plain": [
       "Eq(Derivative(s(z), z)**2, 4*(s(z) + mu[1])*(s(z) + mu[2])*(s(z) + mu[3])*(s(z) + p)**2/9)"
      ]
     },
     "execution_count": 11,
     "metadata": {},
     "output_type": "execute_result"
    },
    {
     "data": {
      "text/latex": [
       "$\\displaystyle s{\\left(z \\right)} = h{\\left(\\chi{\\left(z \\right)} \\right)}$"
      ],
      "text/plain": [
       "Eq(s(z), h(chi(z)))"
      ]
     },
     "execution_count": 11,
     "metadata": {},
     "output_type": "execute_result"
    },
    {
     "data": {
      "text/latex": [
       "$\\displaystyle \\left(\\frac{d}{d z} \\chi{\\left(z \\right)}\\right)^{2} \\left(\\frac{d}{d \\chi{\\left(z \\right)}} h{\\left(\\chi{\\left(z \\right)} \\right)}\\right)^{2} = \\frac{4 \\left(h{\\left(\\chi{\\left(z \\right)} \\right)} + {\\mu}_{1}\\right) \\left(h{\\left(\\chi{\\left(z \\right)} \\right)} + {\\mu}_{2}\\right) \\left(h{\\left(\\chi{\\left(z \\right)} \\right)} + {\\mu}_{3}\\right) \\left(h{\\left(\\chi{\\left(z \\right)} \\right)} + p\\right)^{2}}{9}$"
      ],
      "text/plain": [
       "Eq(Derivative(chi(z), z)**2*Derivative(h(chi(z)), chi(z))**2, 4*(h(chi(z)) + mu[1])*(h(chi(z)) + mu[2])*(h(chi(z)) + mu[3])*(h(chi(z)) + p)**2/9)"
      ]
     },
     "execution_count": 11,
     "metadata": {},
     "output_type": "execute_result"
    },
    {
     "data": {
      "text/latex": [
       "$\\displaystyle \\frac{d}{d z} \\chi{\\left(z \\right)} = \\frac{h{\\left(\\chi{\\left(z \\right)} \\right)}}{3} + \\frac{p}{3}$"
      ],
      "text/plain": [
       "Eq(Derivative(chi(z), z), h(chi(z))/3 + p/3)"
      ]
     },
     "execution_count": 11,
     "metadata": {},
     "output_type": "execute_result"
    },
    {
     "data": {
      "text/latex": [
       "$\\displaystyle h{\\left(t \\right)} = \\operatorname{pw}{\\left(t,g_{2},g_{3} \\right)}$"
      ],
      "text/plain": [
       "Eq(h(t), pw(t, g2, g3))"
      ]
     },
     "execution_count": 11,
     "metadata": {},
     "output_type": "execute_result"
    },
    {
     "data": {
      "text/latex": [
       "$\\displaystyle {\\mu}_{1} = - \\operatorname{pw}{\\left(\\omega_{1},g_{2},g_{3} \\right)}$"
      ],
      "text/plain": [
       "Eq(mu[1], -pw(omega1, g2, g3))"
      ]
     },
     "execution_count": 11,
     "metadata": {},
     "output_type": "execute_result"
    },
    {
     "data": {
      "text/latex": [
       "$\\displaystyle {\\mu}_{2} = - \\operatorname{pw}{\\left(\\omega_{2},g_{2},g_{3} \\right)}$"
      ],
      "text/plain": [
       "Eq(mu[2], -pw(omega2, g2, g3))"
      ]
     },
     "execution_count": 11,
     "metadata": {},
     "output_type": "execute_result"
    },
    {
     "data": {
      "text/latex": [
       "$\\displaystyle {\\mu}_{3} = - \\operatorname{pw}{\\left(\\omega_{3},g_{2},g_{3} \\right)}$"
      ],
      "text/plain": [
       "Eq(mu[3], -pw(omega3, g2, g3))"
      ]
     },
     "execution_count": 11,
     "metadata": {},
     "output_type": "execute_result"
    },
    {
     "data": {
      "text/latex": [
       "$\\displaystyle p = - \\operatorname{pw}{\\left(x,g_{2},g_{3} \\right)}$"
      ],
      "text/plain": [
       "Eq(p, -pw(x, g2, g3))"
      ]
     },
     "execution_count": 11,
     "metadata": {},
     "output_type": "execute_result"
    },
    {
     "data": {
      "text/latex": [
       "$\\displaystyle \\operatorname{RJ}{\\left(- \\operatorname{pw}{\\left(\\omega_{1},g_{2},g_{3} \\right)} + \\operatorname{pw}{\\left(\\chi{\\left(z \\right)},g_{2},g_{3} \\right)},- \\operatorname{pw}{\\left(\\omega_{2},g_{2},g_{3} \\right)} + \\operatorname{pw}{\\left(\\chi{\\left(z \\right)},g_{2},g_{3} \\right)},- \\operatorname{pw}{\\left(\\omega_{3},g_{2},g_{3} \\right)} + \\operatorname{pw}{\\left(\\chi{\\left(z \\right)},g_{2},g_{3} \\right)},- \\operatorname{pw}{\\left(x,g_{2},g_{3} \\right)} + \\operatorname{pw}{\\left(\\chi{\\left(z \\right)},g_{2},g_{3} \\right)} \\right)} = z + c$"
      ],
      "text/plain": [
       "Eq(RJ(-pw(omega1, g2, g3) + pw(chi(z), g2, g3), -pw(omega2, g2, g3) + pw(chi(z), g2, g3), -pw(omega3, g2, g3) + pw(chi(z), g2, g3), -pw(x, g2, g3) + pw(chi(z), g2, g3)), z + c)"
      ]
     },
     "execution_count": 11,
     "metadata": {},
     "output_type": "execute_result"
    },
    {
     "data": {
      "text/latex": [
       "$\\displaystyle z = 3 Z$"
      ],
      "text/plain": [
       "Eq(z, 3*Z)"
      ]
     },
     "execution_count": 11,
     "metadata": {},
     "output_type": "execute_result"
    },
    {
     "data": {
      "text/latex": [
       "$\\displaystyle \\frac{d}{d Z} \\chi{\\left(3 Z \\right)} = - \\operatorname{pw}{\\left(x,g_{2},g_{3} \\right)} + \\operatorname{pw}{\\left(\\chi{\\left(3 Z \\right)},g_{2},g_{3} \\right)}$"
      ],
      "text/plain": [
       "Eq(Derivative(chi(3*Z), Z), -pw(x, g2, g3) + pw(chi(3*Z), g2, g3))"
      ]
     },
     "execution_count": 11,
     "metadata": {},
     "output_type": "execute_result"
    }
   ],
   "source": [
    "Rj_carlson_d_z_diff = Eq(diff(Rj_carlson_d_z.lhs,z), diff(Rj_carlson_d_z.rhs,z))\n",
    "Rj_carlson_d_z_diff_b = Eq(diff(s(z),z)**2, \n",
    "                           solve(Eq(Rj_carlson_d_z_diff.lhs**2, Rj_carlson_d_z_diff.rhs**2),\n",
    "                                 diff(s(z,),z)**2)[0].factor()\n",
    "                          )\n",
    "\n",
    "sz_chi_sub = Eq(s(z),h(chi(z)))\n",
    "chi_s = Rj_carlson_d_z_diff_b.subs(*sz_chi_sub.args).doit()\n",
    "dsz_chi_sub = Eq(diff(chi(z),z), (h(chi(z)) + p)/3)\n",
    "h_chi_z = Eq(h(t), pw(t,g2,g3))\n",
    "mu_omega1 = Eq(mu[1], -pw(omega1,g2,g3))\n",
    "mu_omega2 = Eq(mu[2], -pw(omega2,g2,g3))\n",
    "mu_omega3 = Eq(mu[3], -pw(omega3,g2,g3))\n",
    "p_pw_x = Eq(p, -pw(x,g2,g3))\n",
    "\n",
    "carlson_chi_inv = Rj_carlson_c_z.subs([\n",
    "    (s(z),pw(chi(z),g2,g3)), mu_omega1.args, mu_omega2.args, mu_omega3.args, p_pw_x.args])\n",
    "\n",
    "zZ3 = Eq(z, Z*3)\n",
    "dh_chi_sub_Z = Eq(Derivative(chi(Z*3),Z), (pw(chi(Z*3),g2,g3) - pw(x,g2,g3)))\n",
    "\n",
    "\n",
    "Rj_carlson_d_z_diff\n",
    "Rj_carlson_d_z_diff_b\n",
    "\n",
    "sz_chi_sub\n",
    "chi_s\n",
    "dsz_chi_sub\n",
    "h_chi_z\n",
    "mu_omega1\n",
    "mu_omega2\n",
    "mu_omega3\n",
    "p_pw_x\n",
    "carlson_chi_inv\n",
    "\n",
    "zZ3\n",
    "dh_chi_sub_Z"
   ]
  },
  {
   "cell_type": "markdown",
   "id": "4a524464",
   "metadata": {},
   "source": [
    "Assuming that the solution to the associated differential equation is unique, then:"
   ]
  },
  {
   "cell_type": "code",
   "execution_count": 12,
   "id": "4a484621",
   "metadata": {},
   "outputs": [
    {
     "data": {
      "text/latex": [
       "$\\displaystyle \\chi{\\left(3 z \\right)} = r{\\left(z,x \\right)}$"
      ],
      "text/plain": [
       "Eq(chi(3*z), r(z, x))"
      ]
     },
     "execution_count": 12,
     "metadata": {},
     "output_type": "execute_result"
    },
    {
     "data": {
      "text/latex": [
       "$\\displaystyle \\operatorname{RJ}{\\left(- \\operatorname{pw}{\\left(\\omega_{1},g_{2},g_{3} \\right)} + \\operatorname{pw}{\\left(r{\\left(z,x \\right)},g_{2},g_{3} \\right)},- \\operatorname{pw}{\\left(\\omega_{2},g_{2},g_{3} \\right)} + \\operatorname{pw}{\\left(r{\\left(z,x \\right)},g_{2},g_{3} \\right)},- \\operatorname{pw}{\\left(\\omega_{3},g_{2},g_{3} \\right)} + \\operatorname{pw}{\\left(r{\\left(z,x \\right)},g_{2},g_{3} \\right)},- \\operatorname{pw}{\\left(x,g_{2},g_{3} \\right)} + \\operatorname{pw}{\\left(r{\\left(z,x \\right)},g_{2},g_{3} \\right)} \\right)} \\operatorname{pwp}{\\left(x,g_{2},g_{3} \\right)} - \\operatorname{pwp}{\\left(x,g_{2},g_{3} \\right)} c = 3 z \\operatorname{pwp}{\\left(x,g_{2},g_{3} \\right)}$"
      ],
      "text/plain": [
       "Eq(RJ(-pw(omega1, g2, g3) + pw(r(z, x), g2, g3), -pw(omega2, g2, g3) + pw(r(z, x), g2, g3), -pw(omega3, g2, g3) + pw(r(z, x), g2, g3), -pw(x, g2, g3) + pw(r(z, x), g2, g3))*pwp(x, g2, g3) - pwp(x, g2, g3)*c, 3*z*pwp(x, g2, g3))"
      ]
     },
     "execution_count": 12,
     "metadata": {},
     "output_type": "execute_result"
    },
    {
     "data": {
      "text/latex": [
       "$\\displaystyle 3 z \\operatorname{pwp}{\\left(x,g_{2},g_{3} \\right)} = z_{0} \\operatorname{pwp}{\\left(x,g_{2},g_{3} \\right)} + 3 \\log{\\left(\\frac{\\sigma{\\left(x + r{\\left(z,x \\right)},g_{2},g_{3} \\right)} e^{- 2 r{\\left(z,x \\right)} \\operatorname{zw}{\\left(x,g_{2},g_{3} \\right)}}}{\\sigma{\\left(- x + r{\\left(z,x \\right)},g_{2},g_{3} \\right)}} \\right)} - 3 \\log{\\left(\\frac{\\sigma{\\left(x + r{\\left(z_{0},x \\right)},g_{2},g_{3} \\right)} e^{- 2 r{\\left(z_{0},x \\right)} \\operatorname{zw}{\\left(x,g_{2},g_{3} \\right)}}}{\\sigma{\\left(- x + r{\\left(z_{0},x \\right)},g_{2},g_{3} \\right)}} \\right)}$"
      ],
      "text/plain": [
       "Eq(3*z*pwp(x, g2, g3), z0*pwp(x, g2, g3) + 3*log(sigma(x + r(z, x), g2, g3)*exp(-2*r(z, x)*zw(x, g2, g3))/sigma(-x + r(z, x), g2, g3)) - 3*log(sigma(x + r(z0, x), g2, g3)*exp(-2*r(z0, x)*zw(x, g2, g3))/sigma(-x + r(z0, x), g2, g3)))"
      ]
     },
     "execution_count": 12,
     "metadata": {},
     "output_type": "execute_result"
    },
    {
     "data": {
      "text/latex": [
       "$\\displaystyle \\operatorname{RJ}{\\left(- \\operatorname{pw}{\\left(\\omega_{1},g_{2},g_{3} \\right)} + \\operatorname{pw}{\\left(r{\\left(z,x \\right)},g_{2},g_{3} \\right)},- \\operatorname{pw}{\\left(\\omega_{2},g_{2},g_{3} \\right)} + \\operatorname{pw}{\\left(r{\\left(z,x \\right)},g_{2},g_{3} \\right)},- \\operatorname{pw}{\\left(\\omega_{3},g_{2},g_{3} \\right)} + \\operatorname{pw}{\\left(r{\\left(z,x \\right)},g_{2},g_{3} \\right)},- \\operatorname{pw}{\\left(x,g_{2},g_{3} \\right)} + \\operatorname{pw}{\\left(r{\\left(z,x \\right)},g_{2},g_{3} \\right)} \\right)} \\operatorname{pwp}{\\left(x,g_{2},g_{3} \\right)} - \\operatorname{pwp}{\\left(x,g_{2},g_{3} \\right)} c = z_{0} \\operatorname{pwp}{\\left(x,g_{2},g_{3} \\right)} + 3 \\log{\\left(\\frac{\\sigma{\\left(x + r{\\left(z,x \\right)},g_{2},g_{3} \\right)} e^{- 2 r{\\left(z,x \\right)} \\operatorname{zw}{\\left(x,g_{2},g_{3} \\right)}}}{\\sigma{\\left(- x + r{\\left(z,x \\right)},g_{2},g_{3} \\right)}} \\right)} - 3 \\log{\\left(\\frac{\\sigma{\\left(x + r{\\left(z_{0},x \\right)},g_{2},g_{3} \\right)} e^{- 2 r{\\left(z_{0},x \\right)} \\operatorname{zw}{\\left(x,g_{2},g_{3} \\right)}}}{\\sigma{\\left(- x + r{\\left(z_{0},x \\right)},g_{2},g_{3} \\right)}} \\right)}$"
      ],
      "text/plain": [
       "Eq(RJ(-pw(omega1, g2, g3) + pw(r(z, x), g2, g3), -pw(omega2, g2, g3) + pw(r(z, x), g2, g3), -pw(omega3, g2, g3) + pw(r(z, x), g2, g3), -pw(x, g2, g3) + pw(r(z, x), g2, g3))*pwp(x, g2, g3) - pwp(x, g2, g3)*c, z0*pwp(x, g2, g3) + 3*log(sigma(x + r(z, x), g2, g3)*exp(-2*r(z, x)*zw(x, g2, g3))/sigma(-x + r(z, x), g2, g3)) - 3*log(sigma(x + r(z0, x), g2, g3)*exp(-2*r(z0, x)*zw(x, g2, g3))/sigma(-x + r(z0, x), g2, g3)))"
      ]
     },
     "execution_count": 12,
     "metadata": {},
     "output_type": "execute_result"
    },
    {
     "data": {
      "text/latex": [
       "$\\displaystyle \\operatorname{RJ}{\\left(- \\operatorname{pw}{\\left(\\omega_{1},g_{2},g_{3} \\right)} + \\operatorname{pw}{\\left(z,g_{2},g_{3} \\right)},- \\operatorname{pw}{\\left(\\omega_{2},g_{2},g_{3} \\right)} + \\operatorname{pw}{\\left(z,g_{2},g_{3} \\right)},- \\operatorname{pw}{\\left(\\omega_{3},g_{2},g_{3} \\right)} + \\operatorname{pw}{\\left(z,g_{2},g_{3} \\right)},- \\operatorname{pw}{\\left(x,g_{2},g_{3} \\right)} + \\operatorname{pw}{\\left(z,g_{2},g_{3} \\right)} \\right)} \\operatorname{pwp}{\\left(x,g_{2},g_{3} \\right)} = z_{0} \\operatorname{pwp}{\\left(x,g_{2},g_{3} \\right)} + \\operatorname{pwp}{\\left(x,g_{2},g_{3} \\right)} c + 3 \\log{\\left(\\frac{\\sigma{\\left(x + z,g_{2},g_{3} \\right)} e^{- 2 z \\operatorname{zw}{\\left(x,g_{2},g_{3} \\right)}}}{\\sigma{\\left(- x + z,g_{2},g_{3} \\right)}} \\right)} - 3 \\log{\\left(\\frac{\\sigma{\\left(x + r{\\left(z_{0},x \\right)},g_{2},g_{3} \\right)} e^{- 2 r{\\left(z_{0},x \\right)} \\operatorname{zw}{\\left(x,g_{2},g_{3} \\right)}}}{\\sigma{\\left(- x + r{\\left(z_{0},x \\right)},g_{2},g_{3} \\right)}} \\right)}$"
      ],
      "text/plain": [
       "Eq(RJ(-pw(omega1, g2, g3) + pw(z, g2, g3), -pw(omega2, g2, g3) + pw(z, g2, g3), -pw(omega3, g2, g3) + pw(z, g2, g3), -pw(x, g2, g3) + pw(z, g2, g3))*pwp(x, g2, g3), z0*pwp(x, g2, g3) + pwp(x, g2, g3)*c + 3*log(sigma(x + z, g2, g3)*exp(-2*z*zw(x, g2, g3))/sigma(-x + z, g2, g3)) - 3*log(sigma(x + r(z0, x), g2, g3)*exp(-2*r(z0, x)*zw(x, g2, g3))/sigma(-x + r(z0, x), g2, g3)))"
      ]
     },
     "execution_count": 12,
     "metadata": {},
     "output_type": "execute_result"
    },
    {
     "data": {
      "text/latex": [
       "$\\displaystyle \\lim_{p \\to \\infty} \\operatorname{RJ}{\\left(x,y,z,p \\right)} = 0$"
      ],
      "text/plain": [
       "Eq(Limit(RJ(x, y, z, p), p, oo, dir='-'), 0)"
      ]
     },
     "execution_count": 12,
     "metadata": {},
     "output_type": "execute_result"
    },
    {
     "data": {
      "text/latex": [
       "$\\displaystyle \\lim_{z \\to 0^+}\\left(\\operatorname{RJ}{\\left(- \\operatorname{pw}{\\left(\\omega_{1},g_{2},g_{3} \\right)} + \\operatorname{pw}{\\left(z,g_{2},g_{3} \\right)},- \\operatorname{pw}{\\left(\\omega_{2},g_{2},g_{3} \\right)} + \\operatorname{pw}{\\left(z,g_{2},g_{3} \\right)},- \\operatorname{pw}{\\left(\\omega_{3},g_{2},g_{3} \\right)} + \\operatorname{pw}{\\left(z,g_{2},g_{3} \\right)},- \\operatorname{pw}{\\left(x,g_{2},g_{3} \\right)} + \\operatorname{pw}{\\left(z,g_{2},g_{3} \\right)} \\right)} \\operatorname{pwp}{\\left(x,g_{2},g_{3} \\right)}\\right) = 0$"
      ],
      "text/plain": [
       "Eq(Limit(RJ(-pw(omega1, g2, g3) + pw(z, g2, g3), -pw(omega2, g2, g3) + pw(z, g2, g3), -pw(omega3, g2, g3) + pw(z, g2, g3), -pw(x, g2, g3) + pw(z, g2, g3))*pwp(x, g2, g3), z, 0, dir='+'), 0)"
      ]
     },
     "execution_count": 12,
     "metadata": {},
     "output_type": "execute_result"
    },
    {
     "data": {
      "text/latex": [
       "$\\displaystyle \\lim_{z \\to 0^+}\\left(\\operatorname{RJ}{\\left(- \\operatorname{pw}{\\left(\\omega_{1},g_{2},g_{3} \\right)} + \\operatorname{pw}{\\left(z,g_{2},g_{3} \\right)},- \\operatorname{pw}{\\left(\\omega_{2},g_{2},g_{3} \\right)} + \\operatorname{pw}{\\left(z,g_{2},g_{3} \\right)},- \\operatorname{pw}{\\left(\\omega_{3},g_{2},g_{3} \\right)} + \\operatorname{pw}{\\left(z,g_{2},g_{3} \\right)},- \\operatorname{pw}{\\left(x,g_{2},g_{3} \\right)} + \\operatorname{pw}{\\left(z,g_{2},g_{3} \\right)} \\right)} \\operatorname{pwp}{\\left(x,g_{2},g_{3} \\right)}\\right) = \\lim_{z \\to 0^+}\\left(z_{0} \\operatorname{pwp}{\\left(x,g_{2},g_{3} \\right)} + \\operatorname{pwp}{\\left(x,g_{2},g_{3} \\right)} c + 3 \\log{\\left(\\frac{\\sigma{\\left(x + z,g_{2},g_{3} \\right)} e^{- 2 z \\operatorname{zw}{\\left(x,g_{2},g_{3} \\right)}}}{\\sigma{\\left(- x + z,g_{2},g_{3} \\right)}} \\right)} - 3 \\log{\\left(\\frac{\\sigma{\\left(x + r{\\left(z_{0},x \\right)},g_{2},g_{3} \\right)} e^{- 2 r{\\left(z_{0},x \\right)} \\operatorname{zw}{\\left(x,g_{2},g_{3} \\right)}}}{\\sigma{\\left(- x + r{\\left(z_{0},x \\right)},g_{2},g_{3} \\right)}} \\right)}\\right)$"
      ],
      "text/plain": [
       "Eq(Limit(RJ(-pw(omega1, g2, g3) + pw(z, g2, g3), -pw(omega2, g2, g3) + pw(z, g2, g3), -pw(omega3, g2, g3) + pw(z, g2, g3), -pw(x, g2, g3) + pw(z, g2, g3))*pwp(x, g2, g3), z, 0, dir='+'), Limit(z0*pwp(x, g2, g3) + pwp(x, g2, g3)*c + 3*log(sigma(x + z, g2, g3)*exp(-2*z*zw(x, g2, g3))/sigma(-x + z, g2, g3)) - 3*log(sigma(x + r(z0, x), g2, g3)*exp(-2*r(z0, x)*zw(x, g2, g3))/sigma(-x + r(z0, x), g2, g3)), z, 0, dir='+'))"
      ]
     },
     "execution_count": 12,
     "metadata": {},
     "output_type": "execute_result"
    },
    {
     "data": {
      "text/latex": [
       "$\\displaystyle 0 = z_{0} \\operatorname{pwp}{\\left(x,g_{2},g_{3} \\right)} + \\operatorname{pwp}{\\left(x,g_{2},g_{3} \\right)} c - 3 \\log{\\left(\\frac{\\sigma{\\left(x + r{\\left(z_{0},x \\right)},g_{2},g_{3} \\right)} e^{- 2 r{\\left(z_{0},x \\right)} \\operatorname{zw}{\\left(x,g_{2},g_{3} \\right)}}}{\\sigma{\\left(- x + r{\\left(z_{0},x \\right)},g_{2},g_{3} \\right)}} \\right)} + 3 i \\pi$"
      ],
      "text/plain": [
       "Eq(0, z0*pwp(x, g2, g3) + pwp(x, g2, g3)*c - 3*log(sigma(x + r(z0, x), g2, g3)*exp(-2*r(z0, x)*zw(x, g2, g3))/sigma(-x + r(z0, x), g2, g3)) + 3*I*pi)"
      ]
     },
     "execution_count": 12,
     "metadata": {},
     "output_type": "execute_result"
    },
    {
     "data": {
      "text/latex": [
       "$\\displaystyle \\operatorname{RJ}{\\left(- \\operatorname{pw}{\\left(\\omega_{1},g_{2},g_{3} \\right)} + \\operatorname{pw}{\\left(z,g_{2},g_{3} \\right)},- \\operatorname{pw}{\\left(\\omega_{2},g_{2},g_{3} \\right)} + \\operatorname{pw}{\\left(z,g_{2},g_{3} \\right)},- \\operatorname{pw}{\\left(\\omega_{3},g_{2},g_{3} \\right)} + \\operatorname{pw}{\\left(z,g_{2},g_{3} \\right)},- \\operatorname{pw}{\\left(x,g_{2},g_{3} \\right)} + \\operatorname{pw}{\\left(z,g_{2},g_{3} \\right)} \\right)} \\operatorname{pwp}{\\left(x,g_{2},g_{3} \\right)} = 3 \\log{\\left(\\frac{\\sigma{\\left(x + z,g_{2},g_{3} \\right)} e^{- 2 z \\operatorname{zw}{\\left(x,g_{2},g_{3} \\right)}}}{\\sigma{\\left(- x + z,g_{2},g_{3} \\right)}} \\right)} - 3 i \\pi$"
      ],
      "text/plain": [
       "Eq(RJ(-pw(omega1, g2, g3) + pw(z, g2, g3), -pw(omega2, g2, g3) + pw(z, g2, g3), -pw(omega3, g2, g3) + pw(z, g2, g3), -pw(x, g2, g3) + pw(z, g2, g3))*pwp(x, g2, g3), 3*log(sigma(x + z, g2, g3)*exp(-2*z*zw(x, g2, g3))/sigma(-x + z, g2, g3)) - 3*I*pi)"
      ]
     },
     "execution_count": 12,
     "metadata": {},
     "output_type": "execute_result"
    }
   ],
   "source": [
    "chi_r_3z = Eq(chi(3*z), r(z,x))\n",
    "carlson_rxz_inv = carlson_chi_inv.subs(z,z*3).subs(*chi_r_3z.args)\n",
    "carlson_rxz_inv = Eq(pwp(x,g2,g3)*(carlson_rxz_inv.lhs - c), 3*pwp(x,g2,g3)*(carlson_rxz_inv.rhs - c)/3).expand()\n",
    "integral_r_zx_b = Eq(3*(integral_r_zx.rhs + z0*pwp(x,g2,g3)).simplify(), 3*integral_r_zx.lhs + z0*pwp(x,g2,g3) )\n",
    "\n",
    "carlson_phase_inv_rzx = carlson_rxz_inv.subs(*integral_r_zx_b.args)\n",
    "carlson_phase_inv_z = carlson_phase_inv_rzx.subs(r(z,x),z)\n",
    "carlson_phase_inv_z = Eq(carlson_phase_inv_z.lhs + pwp(x,g2,g3)*c, carlson_phase_inv_z.rhs + pwp(x,g2,g3)*c)\n",
    "\n",
    "RJ_p_lim_oo = Eq(Limit(RJ(x,y,z,p),p,oo),0)\n",
    "RJ_pw_z_lim_0 = Eq(Limit(carlson_phase_inv_z.lhs,z,0),0)\n",
    "RJ_lim_lhs_rhs = Eq(Limit(carlson_phase_inv_z.lhs,z,0), Limit(carlson_phase_inv_z.rhs,z,0))\n",
    "RJ_lim_taken_z_0 =RJ_lim_lhs_rhs.subs(*RJ_pw_z_lim_0.args).doit().subs(sigma(-x,g2,g3), -sigma(x,g2,g3))\n",
    "RJ_carlson_pw_3ipi = Eq(carlson_phase_inv_z.lhs - RJ_lim_taken_z_0.lhs, \n",
    "                        carlson_phase_inv_z.rhs - RJ_lim_taken_z_0.rhs)\n",
    "\n",
    "\n",
    "chi_r_3z\n",
    "carlson_rxz_inv\n",
    "integral_r_zx_b\n",
    "carlson_phase_inv_rzx\n",
    "carlson_phase_inv_z\n",
    "\n",
    "RJ_p_lim_oo\n",
    "RJ_pw_z_lim_0\n",
    "RJ_lim_lhs_rhs\n",
    "RJ_lim_taken_z_0\n",
    "RJ_carlson_pw_3ipi"
   ]
  },
  {
   "cell_type": "markdown",
   "id": "83a8e4ff",
   "metadata": {},
   "source": [
    "Which thus gives the missing relation between Carlson's $R_j$ function and the Weierstrass elliptic functions as:"
   ]
  },
  {
   "cell_type": "code",
   "execution_count": 13,
   "id": "4b4f6a4d",
   "metadata": {},
   "outputs": [
    {
     "name": "stdout",
     "output_type": "stream",
     "text": [
      "LHS (0.013002608500384687-0.00011921654079634512j)\n",
      "RHS 0.0130026085003835 - 0.000119216540797231*I\n",
      "ERROR (SMAPE) 1.12405564479905e-13\n"
     ]
    },
    {
     "data": {
      "text/latex": [
       "$\\displaystyle \\operatorname{RJ}{\\left(- \\operatorname{pw}{\\left(\\omega_{1},g_{2},g_{3} \\right)} + \\operatorname{pw}{\\left(z,g_{2},g_{3} \\right)},- \\operatorname{pw}{\\left(\\omega_{2},g_{2},g_{3} \\right)} + \\operatorname{pw}{\\left(z,g_{2},g_{3} \\right)},- \\operatorname{pw}{\\left(\\omega_{3},g_{2},g_{3} \\right)} + \\operatorname{pw}{\\left(z,g_{2},g_{3} \\right)},- \\operatorname{pw}{\\left(x,g_{2},g_{3} \\right)} + \\operatorname{pw}{\\left(z,g_{2},g_{3} \\right)} \\right)} = \\frac{3 \\left(-1\\right)^{m} \\log{\\left(\\frac{\\sigma{\\left(x + z,g_{2},g_{3} \\right)} e^{- 2 z \\operatorname{zw}{\\left(x,g_{2},g_{3} \\right)}}}{\\sigma{\\left(x - z,g_{2},g_{3} \\right)}} \\right)}}{\\operatorname{pwp}{\\left(x,g_{2},g_{3} \\right)}}$"
      ],
      "text/plain": [
       "Eq(RJ(-pw(omega1, g2, g3) + pw(z, g2, g3), -pw(omega2, g2, g3) + pw(z, g2, g3), -pw(omega3, g2, g3) + pw(z, g2, g3), -pw(x, g2, g3) + pw(z, g2, g3)), 3*(-1)**m*log(sigma(x + z, g2, g3)*exp(-2*z*zw(x, g2, g3))/sigma(x - z, g2, g3))/pwp(x, g2, g3))"
      ]
     },
     "execution_count": 13,
     "metadata": {},
     "output_type": "execute_result"
    }
   ],
   "source": [
    "rj_carlson_weierstrass = Eq(\n",
    "    RJ(\n",
    "        -pw(omega1, g2, g3) + pw(z, g2, g3), \n",
    "        -pw(omega2, g2, g3) + pw(z, g2, g3), \n",
    "        -pw(omega3, g2, g3) + pw(z, g2, g3), \n",
    "        -pw(x, g2, g3) + pw(z, g2, g3)\n",
    "    ),\n",
    " (-1)**m*3*log(sigma(x + z, g2, g3)*exp(-2*z*zw(x, g2, g3))/sigma(x - z, g2, g3))/pwp(x, g2, g3)\n",
    ")\n",
    "rj_klm_integers = [(k,0),(l,0),(m,1)]\n",
    "\n",
    "num_evaluate_weierstrass_carlson(rj_carlson_weierstrass, weierstrass_num_subs + rj_klm_integers)"
   ]
  },
  {
   "cell_type": "markdown",
   "id": "e6305b64",
   "metadata": {},
   "source": [
    "### Simpler proof"
   ]
  },
  {
   "cell_type": "code",
   "execution_count": 16,
   "id": "cbbfe7bb",
   "metadata": {},
   "outputs": [
    {
     "data": {
      "text/latex": [
       "$\\displaystyle \\operatorname{RJ}{\\left(- \\operatorname{pw}{\\left(\\omega_{1},g_{2},g_{3} \\right)} + \\operatorname{pw}{\\left(z,g_{2},g_{3} \\right)},- \\operatorname{pw}{\\left(\\omega_{2},g_{2},g_{3} \\right)} + \\operatorname{pw}{\\left(z,g_{2},g_{3} \\right)},- \\operatorname{pw}{\\left(\\omega_{3},g_{2},g_{3} \\right)} + \\operatorname{pw}{\\left(z,g_{2},g_{3} \\right)},- \\operatorname{pw}{\\left(x,g_{2},g_{3} \\right)} + \\operatorname{pw}{\\left(z,g_{2},g_{3} \\right)} \\right)} = \\frac{3 \\int\\limits_{0}^{\\infty} \\frac{1}{\\sqrt{\\left(t - \\operatorname{pw}{\\left(\\omega_{1},g_{2},g_{3} \\right)} + \\operatorname{pw}{\\left(z,g_{2},g_{3} \\right)}\\right) \\left(t - \\operatorname{pw}{\\left(\\omega_{2},g_{2},g_{3} \\right)} + \\operatorname{pw}{\\left(z,g_{2},g_{3} \\right)}\\right) \\left(t - \\operatorname{pw}{\\left(\\omega_{3},g_{2},g_{3} \\right)} + \\operatorname{pw}{\\left(z,g_{2},g_{3} \\right)}\\right)} \\left(t - \\operatorname{pw}{\\left(x,g_{2},g_{3} \\right)} + \\operatorname{pw}{\\left(z,g_{2},g_{3} \\right)}\\right)}\\, dt}{2}$"
      ],
      "text/plain": [
       "Eq(RJ(-pw(omega1, g2, g3) + pw(z, g2, g3), -pw(omega2, g2, g3) + pw(z, g2, g3), -pw(omega3, g2, g3) + pw(z, g2, g3), -pw(x, g2, g3) + pw(z, g2, g3)), 3*Integral(1/(sqrt((t - pw(omega1, g2, g3) + pw(z, g2, g3))*(t - pw(omega2, g2, g3) + pw(z, g2, g3))*(t - pw(omega3, g2, g3) + pw(z, g2, g3)))*(t - pw(x, g2, g3) + pw(z, g2, g3))), (t, 0, oo))/2)"
      ]
     },
     "execution_count": 16,
     "metadata": {},
     "output_type": "execute_result"
    },
    {
     "data": {
      "text/latex": [
       "$\\displaystyle \\operatorname{RJ}{\\left(- \\operatorname{pw}{\\left(\\omega_{1},g_{2},g_{3} \\right)} + \\operatorname{pw}{\\left(z,g_{2},g_{3} \\right)},- \\operatorname{pw}{\\left(\\omega_{2},g_{2},g_{3} \\right)} + \\operatorname{pw}{\\left(z,g_{2},g_{3} \\right)},- \\operatorname{pw}{\\left(\\omega_{3},g_{2},g_{3} \\right)} + \\operatorname{pw}{\\left(z,g_{2},g_{3} \\right)},- \\operatorname{pw}{\\left(x,g_{2},g_{3} \\right)} + \\operatorname{pw}{\\left(z,g_{2},g_{3} \\right)} \\right)} = \\frac{3 \\int\\limits_{\\operatorname{pw}{\\left(z,g_{2},g_{3} \\right)}}^{\\infty} \\frac{1}{\\sqrt{\\left(t - \\operatorname{pw}{\\left(\\omega_{1},g_{2},g_{3} \\right)}\\right) \\left(t - \\operatorname{pw}{\\left(\\omega_{2},g_{2},g_{3} \\right)}\\right) \\left(t - \\operatorname{pw}{\\left(\\omega_{3},g_{2},g_{3} \\right)}\\right)} \\left(t - \\operatorname{pw}{\\left(x,g_{2},g_{3} \\right)}\\right)}\\, dt}{2}$"
      ],
      "text/plain": [
       "Eq(RJ(-pw(omega1, g2, g3) + pw(z, g2, g3), -pw(omega2, g2, g3) + pw(z, g2, g3), -pw(omega3, g2, g3) + pw(z, g2, g3), -pw(x, g2, g3) + pw(z, g2, g3)), 3*Integral(1/(sqrt((t - pw(omega1, g2, g3))*(t - pw(omega2, g2, g3))*(t - pw(omega3, g2, g3)))*(t - pw(x, g2, g3))), (t, pw(z, g2, g3), oo))/2)"
      ]
     },
     "execution_count": 16,
     "metadata": {},
     "output_type": "execute_result"
    },
    {
     "data": {
      "text/latex": [
       "$\\displaystyle \\frac{\\partial}{\\partial z} \\operatorname{RJ}{\\left(- \\operatorname{pw}{\\left(\\omega_{1},g_{2},g_{3} \\right)} + \\operatorname{pw}{\\left(z,g_{2},g_{3} \\right)},- \\operatorname{pw}{\\left(\\omega_{2},g_{2},g_{3} \\right)} + \\operatorname{pw}{\\left(z,g_{2},g_{3} \\right)},- \\operatorname{pw}{\\left(\\omega_{3},g_{2},g_{3} \\right)} + \\operatorname{pw}{\\left(z,g_{2},g_{3} \\right)},- \\operatorname{pw}{\\left(x,g_{2},g_{3} \\right)} + \\operatorname{pw}{\\left(z,g_{2},g_{3} \\right)} \\right)} = - \\frac{3 \\frac{\\partial}{\\partial z} \\operatorname{pw}{\\left(z,g_{2},g_{3} \\right)}}{2 \\sqrt{\\left(- \\operatorname{pw}{\\left(\\omega_{1},g_{2},g_{3} \\right)} + \\operatorname{pw}{\\left(z,g_{2},g_{3} \\right)}\\right) \\left(- \\operatorname{pw}{\\left(\\omega_{2},g_{2},g_{3} \\right)} + \\operatorname{pw}{\\left(z,g_{2},g_{3} \\right)}\\right) \\left(- \\operatorname{pw}{\\left(\\omega_{3},g_{2},g_{3} \\right)} + \\operatorname{pw}{\\left(z,g_{2},g_{3} \\right)}\\right)} \\left(- \\operatorname{pw}{\\left(x,g_{2},g_{3} \\right)} + \\operatorname{pw}{\\left(z,g_{2},g_{3} \\right)}\\right)}$"
      ],
      "text/plain": [
       "Eq(Derivative(RJ(-pw(omega1, g2, g3) + pw(z, g2, g3), -pw(omega2, g2, g3) + pw(z, g2, g3), -pw(omega3, g2, g3) + pw(z, g2, g3), -pw(x, g2, g3) + pw(z, g2, g3)), z), -3*Derivative(pw(z, g2, g3), z)/(2*sqrt((-pw(omega1, g2, g3) + pw(z, g2, g3))*(-pw(omega2, g2, g3) + pw(z, g2, g3))*(-pw(omega3, g2, g3) + pw(z, g2, g3)))*(-pw(x, g2, g3) + pw(z, g2, g3))))"
      ]
     },
     "execution_count": 16,
     "metadata": {},
     "output_type": "execute_result"
    },
    {
     "data": {
      "text/latex": [
       "$\\displaystyle \\frac{\\partial}{\\partial z} \\operatorname{RJ}{\\left(- \\operatorname{pw}{\\left(\\omega_{1},g_{2},g_{3} \\right)} + \\operatorname{pw}{\\left(z,g_{2},g_{3} \\right)},- \\operatorname{pw}{\\left(\\omega_{2},g_{2},g_{3} \\right)} + \\operatorname{pw}{\\left(z,g_{2},g_{3} \\right)},- \\operatorname{pw}{\\left(\\omega_{3},g_{2},g_{3} \\right)} + \\operatorname{pw}{\\left(z,g_{2},g_{3} \\right)},- \\operatorname{pw}{\\left(x,g_{2},g_{3} \\right)} + \\operatorname{pw}{\\left(z,g_{2},g_{3} \\right)} \\right)} = - \\frac{3 \\left(-1\\right)^{m}}{- \\operatorname{pw}{\\left(x,g_{2},g_{3} \\right)} + \\operatorname{pw}{\\left(z,g_{2},g_{3} \\right)}}$"
      ],
      "text/plain": [
       "Eq(Derivative(RJ(-pw(omega1, g2, g3) + pw(z, g2, g3), -pw(omega2, g2, g3) + pw(z, g2, g3), -pw(omega3, g2, g3) + pw(z, g2, g3), -pw(x, g2, g3) + pw(z, g2, g3)), z), -3*(-1)**m/(-pw(x, g2, g3) + pw(z, g2, g3)))"
      ]
     },
     "execution_count": 16,
     "metadata": {},
     "output_type": "execute_result"
    },
    {
     "data": {
      "text/latex": [
       "$\\displaystyle \\frac{\\partial}{\\partial z} \\operatorname{RJ}{\\left(- \\operatorname{pw}{\\left(\\omega_{1},g_{2},g_{3} \\right)} + \\operatorname{pw}{\\left(z,g_{2},g_{3} \\right)},- \\operatorname{pw}{\\left(\\omega_{2},g_{2},g_{3} \\right)} + \\operatorname{pw}{\\left(z,g_{2},g_{3} \\right)},- \\operatorname{pw}{\\left(\\omega_{3},g_{2},g_{3} \\right)} + \\operatorname{pw}{\\left(z,g_{2},g_{3} \\right)},- \\operatorname{pw}{\\left(x,g_{2},g_{3} \\right)} + \\operatorname{pw}{\\left(z,g_{2},g_{3} \\right)} \\right)} = \\frac{3 \\left(-1\\right)^{m} \\frac{\\partial}{\\partial z} \\log{\\left(\\frac{\\sigma{\\left(x + z,g_{2},g_{3} \\right)} e^{- 2 z \\operatorname{zw}{\\left(x,g_{2},g_{3} \\right)}}}{\\sigma{\\left(- x + z,g_{2},g_{3} \\right)}} \\right)}}{\\operatorname{pwp}{\\left(x,g_{2},g_{3} \\right)}}$"
      ],
      "text/plain": [
       "Eq(Derivative(RJ(-pw(omega1, g2, g3) + pw(z, g2, g3), -pw(omega2, g2, g3) + pw(z, g2, g3), -pw(omega3, g2, g3) + pw(z, g2, g3), -pw(x, g2, g3) + pw(z, g2, g3)), z), 3*(-1)**m*Derivative(log(sigma(x + z, g2, g3)*exp(-2*z*zw(x, g2, g3))/sigma(-x + z, g2, g3)), z)/pwp(x, g2, g3))"
      ]
     },
     "execution_count": 16,
     "metadata": {},
     "output_type": "execute_result"
    },
    {
     "data": {
      "text/latex": [
       "$\\displaystyle \\frac{\\partial}{\\partial z} \\log{\\left(\\frac{\\sigma{\\left(x + z,g_{2},g_{3} \\right)} e^{- 2 z \\operatorname{zw}{\\left(x,g_{2},g_{3} \\right)}}}{\\sigma{\\left(- x + z,g_{2},g_{3} \\right)}} \\right)} = \\frac{\\partial}{\\partial z} \\log{\\left(\\frac{\\sigma{\\left(x + z,g_{2},g_{3} \\right)} e^{- 2 z \\operatorname{zw}{\\left(x,g_{2},g_{3} \\right)}}}{\\sigma{\\left(x - z,g_{2},g_{3} \\right)}} \\right)}$"
      ],
      "text/plain": [
       "Eq(Derivative(log(sigma(x + z, g2, g3)*exp(-2*z*zw(x, g2, g3))/sigma(-x + z, g2, g3)), z), Derivative(log(sigma(x + z, g2, g3)*exp(-2*z*zw(x, g2, g3))/sigma(x - z, g2, g3)), z))"
      ]
     },
     "execution_count": 16,
     "metadata": {},
     "output_type": "execute_result"
    },
    {
     "data": {
      "text/latex": [
       "$\\displaystyle \\int\\limits_{0}^{z} \\frac{\\partial}{\\partial z} \\operatorname{RJ}{\\left(- \\operatorname{pw}{\\left(\\omega_{1},g_{2},g_{3} \\right)} + \\operatorname{pw}{\\left(z,g_{2},g_{3} \\right)},- \\operatorname{pw}{\\left(\\omega_{2},g_{2},g_{3} \\right)} + \\operatorname{pw}{\\left(z,g_{2},g_{3} \\right)},- \\operatorname{pw}{\\left(\\omega_{3},g_{2},g_{3} \\right)} + \\operatorname{pw}{\\left(z,g_{2},g_{3} \\right)},- \\operatorname{pw}{\\left(x,g_{2},g_{3} \\right)} + \\operatorname{pw}{\\left(z,g_{2},g_{3} \\right)} \\right)}\\, dz = \\int\\limits_{0}^{z} \\frac{3 \\left(-1\\right)^{m} \\frac{\\partial}{\\partial z} \\log{\\left(\\frac{\\sigma{\\left(x + z,g_{2},g_{3} \\right)} e^{- 2 z \\operatorname{zw}{\\left(x,g_{2},g_{3} \\right)}}}{\\sigma{\\left(x - z,g_{2},g_{3} \\right)}} \\right)}}{\\operatorname{pwp}{\\left(x,g_{2},g_{3} \\right)}}\\, dz$"
      ],
      "text/plain": [
       "Eq(Integral(Derivative(RJ(-pw(omega1, g2, g3) + pw(z, g2, g3), -pw(omega2, g2, g3) + pw(z, g2, g3), -pw(omega3, g2, g3) + pw(z, g2, g3), -pw(x, g2, g3) + pw(z, g2, g3)), z), (z, 0, z)), Integral(3*(-1)**m*Derivative(log(sigma(x + z, g2, g3)*exp(-2*z*zw(x, g2, g3))/sigma(x - z, g2, g3)), z)/pwp(x, g2, g3), (z, 0, z)))"
      ]
     },
     "execution_count": 16,
     "metadata": {},
     "output_type": "execute_result"
    },
    {
     "name": "stdout",
     "output_type": "stream",
     "text": [
      "LHS (0.013002608500384687-0.00011921654079634512j)\n",
      "RHS 0.0130026085003835 - 0.000119216540797231*I\n",
      "ERROR (SMAPE) 1.12405564479905e-13\n"
     ]
    },
    {
     "data": {
      "text/latex": [
       "$\\displaystyle \\operatorname{RJ}{\\left(- \\operatorname{pw}{\\left(\\omega_{1},g_{2},g_{3} \\right)} + \\operatorname{pw}{\\left(z,g_{2},g_{3} \\right)},- \\operatorname{pw}{\\left(\\omega_{2},g_{2},g_{3} \\right)} + \\operatorname{pw}{\\left(z,g_{2},g_{3} \\right)},- \\operatorname{pw}{\\left(\\omega_{3},g_{2},g_{3} \\right)} + \\operatorname{pw}{\\left(z,g_{2},g_{3} \\right)},- \\operatorname{pw}{\\left(x,g_{2},g_{3} \\right)} + \\operatorname{pw}{\\left(z,g_{2},g_{3} \\right)} \\right)} = \\frac{3 \\left(-1\\right)^{m} \\log{\\left(\\frac{\\sigma{\\left(x + z,g_{2},g_{3} \\right)} e^{- 2 z \\operatorname{zw}{\\left(x,g_{2},g_{3} \\right)}}}{\\sigma{\\left(x - z,g_{2},g_{3} \\right)}} \\right)}}{\\operatorname{pwp}{\\left(x,g_{2},g_{3} \\right)}}$"
      ],
      "text/plain": [
       "Eq(RJ(-pw(omega1, g2, g3) + pw(z, g2, g3), -pw(omega2, g2, g3) + pw(z, g2, g3), -pw(omega3, g2, g3) + pw(z, g2, g3), -pw(x, g2, g3) + pw(z, g2, g3)), 3*(-1)**m*log(sigma(x + z, g2, g3)*exp(-2*z*zw(x, g2, g3))/sigma(x - z, g2, g3))/pwp(x, g2, g3))"
      ]
     },
     "execution_count": 16,
     "metadata": {},
     "output_type": "execute_result"
    }
   ],
   "source": [
    "rj_carl_weier_intgr = Rj_carlson.subs([\n",
    "    (z,pw(z,g2,g3) - pw(omega3,g2,g3)), (y,pw(z,g2,g3) - pw(omega2,g2,g3)), \n",
    "    (x,pw(z,g2,g3) - pw(omega1,g2,g3)), (p,pw(z,g2,g3) - pw(x,g2,g3)), \n",
    "])\n",
    "\n",
    "rj_carl_weier_intgr_vch = Eq(rj_carl_weier_intgr.rhs, 3*Integral(\n",
    "    1/(sqrt(\n",
    "        (t - pw(omega1, g2, g3))*\n",
    "        (t - pw(omega2, g2, g3))*\n",
    "        (t - pw(omega3, g2, g3))\n",
    "    )*(t - pw(x, g2, g3))), (t, pw(z, g2, g3), oo))/2\n",
    ")\n",
    "rj_carl_weier_intgr_b = rj_carl_weier_intgr.subs(*rj_carl_weier_intgr_vch.args)\n",
    "\n",
    "rj_carl_weier_intgr_dz = Eq(Derivative(rj_carl_weier_intgr_b.lhs,z), diff(rj_carl_weier_intgr_b.rhs,z))\n",
    "\n",
    "wp_prime_def = Eq(Derivative(pw(z, g2, g3), z), \n",
    "   (-1)**m*2*sqrt(\n",
    "       (-pw(omega1, g2, g3) + pw(z, g2, g3))*\n",
    "       (-pw(omega2, g2, g3) + pw(z, g2, g3))*\n",
    "       (-pw(omega3, g2, g3) + pw(z, g2, g3))\n",
    "   )\n",
    ")\n",
    "\n",
    "rj_carl_weier_intgr_dz_b = rj_carl_weier_intgr_dz.subs(*wp_prime_def.args)\n",
    "rj_carl_weier_intgr_dz_c = Eq(rj_carl_weier_intgr_dz_b.lhs, \n",
    "    (rj_carl_weier_intgr_dz_b.rhs\n",
    "    -3*(-1)**m*(\n",
    "        pwp_x_y_log_sigma_diff_c.lhs.subs(y,z)/pwp(x,g2,g3) - \n",
    "        pwp_x_y_log_sigma_diff_c.rhs.subs(y,z)/pwp(x,g2,g3)\n",
    "    )).expand().collect(1/pwp(x,g2,g3),factor)\n",
    ")\n",
    "\n",
    "log_sigma_x_neg_dz = Eq(\n",
    "    Derivative(log(sigma(x + z, g2, g3)*exp(-2*z*zw(x, g2, g3))/sigma(-x + z, g2, g3)),z), \n",
    "    Derivative(log(sigma(x + z, g2, g3)*exp(-2*z*zw(x, g2, g3))/sigma(x - z, g2, g3)),z)\n",
    ")\n",
    "rj_carl_weier_intgr_dz_d = rj_carl_weier_intgr_dz_c.subs(*log_sigma_x_neg_dz.args)\n",
    "rj_carl_weier_intgr_dz_d = Eq(\n",
    "    Integral(rj_carl_weier_intgr_dz_d.lhs,(z,0,z)), Integral(rj_carl_weier_intgr_dz_d.rhs,(z,0,z))\n",
    ")\n",
    "rj_carlson_weierstrass_simpler = Eq(RJ(\n",
    "    -pw(omega1, g2, g3) + pw(z, g2, g3), \n",
    "    -pw(omega2, g2, g3) + pw(z, g2, g3), \n",
    "    -pw(omega3, g2, g3) + pw(z, g2, g3), \n",
    "    -pw(x, g2, g3) + pw(z, g2, g3)),\n",
    "    3*(-1)**m*log(sigma(x + z, g2, g3)*exp(-2*z*zw(x, g2, g3))/sigma(x - z, g2, g3))/pwp(x, g2, g3)\n",
    ")\n",
    "\n",
    "\n",
    "rj_carl_weier_intgr\n",
    "rj_carl_weier_intgr_b\n",
    "rj_carl_weier_intgr_dz\n",
    "rj_carl_weier_intgr_dz_b\n",
    "rj_carl_weier_intgr_dz_c\n",
    "log_sigma_x_neg_dz\n",
    "rj_carl_weier_intgr_dz_d\n",
    "\n",
    "\n",
    "num_evaluate_weierstrass_carlson(rj_carlson_weierstrass_simpler, weierstrass_num_subs + [(m,1)])"
   ]
  },
  {
   "cell_type": "markdown",
   "id": "f263f5cd",
   "metadata": {},
   "source": [
    "### Relation for swapping z and x\n",
    "This also does not seemingly appear anywhere in the literature and is presumed to be new. However, this shows the problem with playing fast and loose with the integration path. It seems that at least one of the $Rj$ terms is undefined depending on which way round we have $x$ and $z$. This relation therfore, may be useful for redefining the problematic case in terms of the other one."
   ]
  },
  {
   "cell_type": "code",
   "execution_count": 17,
   "id": "fda8656b",
   "metadata": {},
   "outputs": [
    {
     "data": {
      "text/latex": [
       "$\\displaystyle - \\operatorname{RJ}{\\left(- \\operatorname{pw}{\\left(\\omega_{1},g_{2},g_{3} \\right)} + \\operatorname{pw}{\\left(x,g_{2},g_{3} \\right)},- \\operatorname{pw}{\\left(\\omega_{2},g_{2},g_{3} \\right)} + \\operatorname{pw}{\\left(x,g_{2},g_{3} \\right)},- \\operatorname{pw}{\\left(\\omega_{3},g_{2},g_{3} \\right)} + \\operatorname{pw}{\\left(x,g_{2},g_{3} \\right)},\\operatorname{pw}{\\left(x,g_{2},g_{3} \\right)} - \\operatorname{pw}{\\left(z,g_{2},g_{3} \\right)} \\right)} \\operatorname{pwp}{\\left(z,g_{2},g_{3} \\right)} + \\operatorname{RJ}{\\left(- \\operatorname{pw}{\\left(\\omega_{1},g_{2},g_{3} \\right)} + \\operatorname{pw}{\\left(z,g_{2},g_{3} \\right)},- \\operatorname{pw}{\\left(\\omega_{2},g_{2},g_{3} \\right)} + \\operatorname{pw}{\\left(z,g_{2},g_{3} \\right)},- \\operatorname{pw}{\\left(\\omega_{3},g_{2},g_{3} \\right)} + \\operatorname{pw}{\\left(z,g_{2},g_{3} \\right)},- \\operatorname{pw}{\\left(x,g_{2},g_{3} \\right)} + \\operatorname{pw}{\\left(z,g_{2},g_{3} \\right)} \\right)} \\operatorname{pwp}{\\left(x,g_{2},g_{3} \\right)} = - 3 \\left(-1\\right)^{m} \\log{\\left(\\frac{\\sigma{\\left(x + z,g_{2},g_{3} \\right)} e^{- 2 x \\operatorname{zw}{\\left(z,g_{2},g_{3} \\right)}}}{\\sigma{\\left(- x + z,g_{2},g_{3} \\right)}} \\right)} + 3 \\left(-1\\right)^{m} \\log{\\left(\\frac{\\sigma{\\left(x + z,g_{2},g_{3} \\right)} e^{- 2 z \\operatorname{zw}{\\left(x,g_{2},g_{3} \\right)}}}{\\sigma{\\left(x - z,g_{2},g_{3} \\right)}} \\right)}$"
      ],
      "text/plain": [
       "Eq(-RJ(-pw(omega1, g2, g3) + pw(x, g2, g3), -pw(omega2, g2, g3) + pw(x, g2, g3), -pw(omega3, g2, g3) + pw(x, g2, g3), pw(x, g2, g3) - pw(z, g2, g3))*pwp(z, g2, g3) + RJ(-pw(omega1, g2, g3) + pw(z, g2, g3), -pw(omega2, g2, g3) + pw(z, g2, g3), -pw(omega3, g2, g3) + pw(z, g2, g3), -pw(x, g2, g3) + pw(z, g2, g3))*pwp(x, g2, g3), -3*(-1)**m*log(sigma(x + z, g2, g3)*exp(-2*x*zw(z, g2, g3))/sigma(-x + z, g2, g3)) + 3*(-1)**m*log(sigma(x + z, g2, g3)*exp(-2*z*zw(x, g2, g3))/sigma(x - z, g2, g3)))"
      ]
     },
     "execution_count": 17,
     "metadata": {},
     "output_type": "execute_result"
    },
    {
     "data": {
      "text/latex": [
       "$\\displaystyle - \\operatorname{RJ}{\\left(- \\operatorname{pw}{\\left(\\omega_{1},g_{2},g_{3} \\right)} + \\operatorname{pw}{\\left(x,g_{2},g_{3} \\right)},- \\operatorname{pw}{\\left(\\omega_{2},g_{2},g_{3} \\right)} + \\operatorname{pw}{\\left(x,g_{2},g_{3} \\right)},- \\operatorname{pw}{\\left(\\omega_{3},g_{2},g_{3} \\right)} + \\operatorname{pw}{\\left(x,g_{2},g_{3} \\right)},\\operatorname{pw}{\\left(x,g_{2},g_{3} \\right)} - \\operatorname{pw}{\\left(z,g_{2},g_{3} \\right)} \\right)} \\operatorname{pwp}{\\left(z,g_{2},g_{3} \\right)} + \\operatorname{RJ}{\\left(- \\operatorname{pw}{\\left(\\omega_{1},g_{2},g_{3} \\right)} + \\operatorname{pw}{\\left(z,g_{2},g_{3} \\right)},- \\operatorname{pw}{\\left(\\omega_{2},g_{2},g_{3} \\right)} + \\operatorname{pw}{\\left(z,g_{2},g_{3} \\right)},- \\operatorname{pw}{\\left(\\omega_{3},g_{2},g_{3} \\right)} + \\operatorname{pw}{\\left(z,g_{2},g_{3} \\right)},- \\operatorname{pw}{\\left(x,g_{2},g_{3} \\right)} + \\operatorname{pw}{\\left(z,g_{2},g_{3} \\right)} \\right)} \\operatorname{pwp}{\\left(x,g_{2},g_{3} \\right)} = 3 \\left(-1\\right)^{m} \\left(2 x \\operatorname{zw}{\\left(z,g_{2},g_{3} \\right)} - 2 z \\operatorname{zw}{\\left(x,g_{2},g_{3} \\right)} - i \\pi\\right)$"
      ],
      "text/plain": [
       "Eq(-RJ(-pw(omega1, g2, g3) + pw(x, g2, g3), -pw(omega2, g2, g3) + pw(x, g2, g3), -pw(omega3, g2, g3) + pw(x, g2, g3), pw(x, g2, g3) - pw(z, g2, g3))*pwp(z, g2, g3) + RJ(-pw(omega1, g2, g3) + pw(z, g2, g3), -pw(omega2, g2, g3) + pw(z, g2, g3), -pw(omega3, g2, g3) + pw(z, g2, g3), -pw(x, g2, g3) + pw(z, g2, g3))*pwp(x, g2, g3), 3*(-1)**m*(2*x*zw(z, g2, g3) - 2*z*zw(x, g2, g3) - I*pi))"
      ]
     },
     "execution_count": 17,
     "metadata": {},
     "output_type": "execute_result"
    }
   ],
   "source": [
    "rj_carlson_weierstrass_z_swap_x_a = Eq(\n",
    "    rj_carlson_weierstrass.lhs*pwp(x,g2,g3) - \n",
    "    (rj_carlson_weierstrass.lhs*pwp(x,g2,g3)).subs([(x,y),(z,x)]).subs(y,z),\n",
    "    rj_carlson_weierstrass.rhs*pwp(x,g2,g3) - \n",
    "    (rj_carlson_weierstrass.rhs*pwp(x,g2,g3)).subs([(x,y),(z,x)]).subs(y,z)\n",
    ")\n",
    "\n",
    "log_zx_sub1 = Eq(log(sigma(x + z, g2, g3)*exp(-2*x*zw(z, g2, g3))/sigma(-x + z, g2, g3)),\n",
    "   log(sigma(x + z, g2, g3)/sigma(x - z, g2, g3)) - 2*x*zw(z, g2, g3) + log(-1)\n",
    "  )\n",
    "log_zx_sub2 = Eq(log(sigma(x + z, g2, g3)*exp(-2*z*zw(x, g2, g3))/sigma(x - z, g2, g3)),\n",
    "   log(sigma(x + z, g2, g3)/sigma(x - z, g2, g3)) - 2*z*zw(x, g2, g3)\n",
    "  )\n",
    "rj_carlson_weierstrass_z_swap_x_b = Eq(rj_carlson_weierstrass_z_swap_x_a.lhs, \n",
    "    rj_carlson_weierstrass_z_swap_x_a.rhs.subs([log_zx_sub1.args, log_zx_sub2.args]).expand().factor()\n",
    ")\n",
    "\n",
    "rj_carlson_weierstrass_z_swap_x_a\n",
    "rj_carlson_weierstrass_z_swap_x_b"
   ]
  },
  {
   "cell_type": "code",
   "execution_count": 18,
   "id": "704fc5f7",
   "metadata": {},
   "outputs": [
    {
     "name": "stdout",
     "output_type": "stream",
     "text": [
      "LHS nan\n",
      "RHS -30.466265716445 + 2.96803088494047*I\n",
      "ERROR (SMAPE) nan\n"
     ]
    },
    {
     "data": {
      "text/latex": [
       "$\\displaystyle - \\operatorname{RJ}{\\left(- \\operatorname{pw}{\\left(\\omega_{1},g_{2},g_{3} \\right)} + \\operatorname{pw}{\\left(x,g_{2},g_{3} \\right)},- \\operatorname{pw}{\\left(\\omega_{2},g_{2},g_{3} \\right)} + \\operatorname{pw}{\\left(x,g_{2},g_{3} \\right)},- \\operatorname{pw}{\\left(\\omega_{3},g_{2},g_{3} \\right)} + \\operatorname{pw}{\\left(x,g_{2},g_{3} \\right)},\\operatorname{pw}{\\left(x,g_{2},g_{3} \\right)} - \\operatorname{pw}{\\left(z,g_{2},g_{3} \\right)} \\right)} \\operatorname{pwp}{\\left(z,g_{2},g_{3} \\right)} + \\operatorname{RJ}{\\left(- \\operatorname{pw}{\\left(\\omega_{1},g_{2},g_{3} \\right)} + \\operatorname{pw}{\\left(z,g_{2},g_{3} \\right)},- \\operatorname{pw}{\\left(\\omega_{2},g_{2},g_{3} \\right)} + \\operatorname{pw}{\\left(z,g_{2},g_{3} \\right)},- \\operatorname{pw}{\\left(\\omega_{3},g_{2},g_{3} \\right)} + \\operatorname{pw}{\\left(z,g_{2},g_{3} \\right)},- \\operatorname{pw}{\\left(x,g_{2},g_{3} \\right)} + \\operatorname{pw}{\\left(z,g_{2},g_{3} \\right)} \\right)} \\operatorname{pwp}{\\left(x,g_{2},g_{3} \\right)} = 3 \\left(-1\\right)^{m} \\left(2 x \\operatorname{zw}{\\left(z,g_{2},g_{3} \\right)} - 2 z \\operatorname{zw}{\\left(x,g_{2},g_{3} \\right)} - i \\pi\\right)$"
      ],
      "text/plain": [
       "Eq(-RJ(-pw(omega1, g2, g3) + pw(x, g2, g3), -pw(omega2, g2, g3) + pw(x, g2, g3), -pw(omega3, g2, g3) + pw(x, g2, g3), pw(x, g2, g3) - pw(z, g2, g3))*pwp(z, g2, g3) + RJ(-pw(omega1, g2, g3) + pw(z, g2, g3), -pw(omega2, g2, g3) + pw(z, g2, g3), -pw(omega3, g2, g3) + pw(z, g2, g3), -pw(x, g2, g3) + pw(z, g2, g3))*pwp(x, g2, g3), 3*(-1)**m*(2*x*zw(z, g2, g3) - 2*z*zw(x, g2, g3) - I*pi))"
      ]
     },
     "execution_count": 18,
     "metadata": {},
     "output_type": "execute_result"
    }
   ],
   "source": [
    "num_evaluate_weierstrass_carlson(rj_carlson_weierstrass_z_swap_x_b, weierstrass_num_subs + [(m,1)])"
   ]
  },
  {
   "cell_type": "markdown",
   "id": "44b6dc2b",
   "metadata": {},
   "source": [
    "## Relating $r(z,x)$ to properties of Kronecker theta functions and Weierstrass elliptic functions\n",
    "\n",
    "We denote the Kronecker theta function $\\kappa(z,x)$."
   ]
  },
  {
   "cell_type": "markdown",
   "id": "1d1f0102",
   "metadata": {},
   "source": [
    "### Properties of the Kronecker theta phase $\\phi(z,x)$"
   ]
  },
  {
   "cell_type": "code",
   "execution_count": 61,
   "id": "57647f06",
   "metadata": {},
   "outputs": [
    {
     "data": {
      "text/latex": [
       "$\\displaystyle \\kappa{\\left(z,x \\right)} = \\frac{\\sigma{\\left(x + z,g_{2},g_{3} \\right)} e^{- z \\operatorname{zw}{\\left(x,g_{2},g_{3} \\right)}}}{\\sigma{\\left(x,g_{2},g_{3} \\right)} \\sigma{\\left(z,g_{2},g_{3} \\right)}}$"
      ],
      "text/plain": [
       "Eq(kappa(z, x), sigma(x + z, g2, g3)*exp(-z*zw(x, g2, g3))/(sigma(x, g2, g3)*sigma(z, g2, g3)))"
      ]
     },
     "execution_count": 61,
     "metadata": {},
     "output_type": "execute_result"
    },
    {
     "data": {
      "text/latex": [
       "$\\displaystyle \\kappa{\\left(- z,x \\right)} = \\frac{\\sigma{\\left(- x + z,g_{2},g_{3} \\right)} e^{z \\operatorname{zw}{\\left(x,g_{2},g_{3} \\right)}}}{\\sigma{\\left(x,g_{2},g_{3} \\right)} \\sigma{\\left(z,g_{2},g_{3} \\right)}}$"
      ],
      "text/plain": [
       "Eq(kappa(-z, x), sigma(-x + z, g2, g3)*exp(z*zw(x, g2, g3))/(sigma(x, g2, g3)*sigma(z, g2, g3)))"
      ]
     },
     "execution_count": 61,
     "metadata": {},
     "output_type": "execute_result"
    },
    {
     "data": {
      "text/latex": [
       "$\\displaystyle \\operatorname{pw}{\\left(x,g_{2},g_{3} \\right)} - \\operatorname{pw}{\\left(z,g_{2},g_{3} \\right)} = \\frac{\\sigma{\\left(- x + z,g_{2},g_{3} \\right)} \\sigma{\\left(x + z,g_{2},g_{3} \\right)}}{\\sigma^{2}{\\left(x,g_{2},g_{3} \\right)} \\sigma^{2}{\\left(z,g_{2},g_{3} \\right)}}$"
      ],
      "text/plain": [
       "Eq(pw(x, g2, g3) - pw(z, g2, g3), sigma(-x + z, g2, g3)*sigma(x + z, g2, g3)/(sigma(x, g2, g3)**2*sigma(z, g2, g3)**2))"
      ]
     },
     "execution_count": 61,
     "metadata": {},
     "output_type": "execute_result"
    },
    {
     "data": {
      "text/latex": [
       "$\\displaystyle \\kappa{\\left(- z,x \\right)} \\kappa{\\left(z,x \\right)} = \\operatorname{pw}{\\left(x,g_{2},g_{3} \\right)} - \\operatorname{pw}{\\left(z,g_{2},g_{3} \\right)}$"
      ],
      "text/plain": [
       "Eq(kappa(-z, x)*kappa(z, x), pw(x, g2, g3) - pw(z, g2, g3))"
      ]
     },
     "execution_count": 61,
     "metadata": {},
     "output_type": "execute_result"
    },
    {
     "data": {
      "text/latex": [
       "$\\displaystyle \\frac{\\kappa{\\left(z,x \\right)}}{\\kappa{\\left(- z,x \\right)}} = \\frac{\\sigma{\\left(x + z,g_{2},g_{3} \\right)} e^{- 2 z \\operatorname{zw}{\\left(x,g_{2},g_{3} \\right)}}}{\\sigma{\\left(- x + z,g_{2},g_{3} \\right)}}$"
      ],
      "text/plain": [
       "Eq(kappa(z, x)/kappa(-z, x), sigma(x + z, g2, g3)*exp(-2*z*zw(x, g2, g3))/sigma(-x + z, g2, g3))"
      ]
     },
     "execution_count": 61,
     "metadata": {},
     "output_type": "execute_result"
    },
    {
     "data": {
      "text/latex": [
       "$\\displaystyle \\frac{\\kappa{\\left(z,x \\right)}}{\\kappa{\\left(- z,x \\right)}} = e^{2 \\phi{\\left(z \\right)}}$"
      ],
      "text/plain": [
       "Eq(kappa(z, x)/kappa(-z, x), exp(2*phi(z)))"
      ]
     },
     "execution_count": 61,
     "metadata": {},
     "output_type": "execute_result"
    },
    {
     "data": {
      "text/latex": [
       "$\\displaystyle \\phi{\\left(- z \\right)} = - \\phi{\\left(z \\right)}$"
      ],
      "text/plain": [
       "Eq(phi(-z), -phi(z))"
      ]
     },
     "execution_count": 61,
     "metadata": {},
     "output_type": "execute_result"
    },
    {
     "data": {
      "text/latex": [
       "$\\displaystyle \\phi{\\left(z \\right)} = \\frac{\\log{\\left(\\frac{\\sigma{\\left(x + z,g_{2},g_{3} \\right)} e^{- 2 z \\operatorname{zw}{\\left(x,g_{2},g_{3} \\right)}}}{\\sigma{\\left(- x + z,g_{2},g_{3} \\right)}} \\right)}}{2}$"
      ],
      "text/plain": [
       "Eq(phi(z), log(sigma(x + z, g2, g3)*exp(-2*z*zw(x, g2, g3))/sigma(-x + z, g2, g3))/2)"
      ]
     },
     "execution_count": 61,
     "metadata": {},
     "output_type": "execute_result"
    }
   ],
   "source": [
    "kron_theta = Eq(kappa(z,x), sigma(z+x,g2,g3)/sigma(x,g2,g3)/sigma(z,g2,g3)*exp(-z*zw(x,g2,g3)))\n",
    "kron_theta_conj = kron_theta.subs(z,-z).subs([\n",
    "       (zw(-z,g2,g3),-zw(z,g2,g3)),(sigma(-z,g2,g3), -sigma(z,g2,g3)), (sigma(x-z,g2,g3), -sigma(z-x,g2,g3))\n",
    "   ])\n",
    "sigma_p_identity_zx = sigma_p_identity.subs([(x,z),(y,x)])\n",
    "kron_pw = Eq(kron_theta.lhs*kron_theta_conj.lhs, \n",
    "   (kron_theta.rhs*kron_theta_conj.rhs).subs(sigma_p_identity_zx.rhs, sigma_p_identity_zx.lhs)\n",
    "  )\n",
    "kron_phase_a = Eq(kron_theta.lhs/kron_theta_conj.lhs, kron_theta.rhs/kron_theta_conj.rhs)\n",
    "kron_phase_b = Eq(kron_phase_a.lhs, exp(2*phi(z)))\n",
    "phase_odd = Eq(phi(-z), -phi(z))\n",
    "phi_log_sigma = Eq(phi(z), log(kron_phase_b.lhs.subs(*kron_phase_a.args))/2)\n",
    "\n",
    "kron_theta\n",
    "kron_theta_conj\n",
    "sigma_p_identity_zx\n",
    "kron_pw\n",
    "kron_phase_a\n",
    "kron_phase_b\n",
    "phase_odd\n",
    "phi_log_sigma"
   ]
  },
  {
   "cell_type": "markdown",
   "id": "6e6357ee",
   "metadata": {},
   "source": [
    "### Properties of the Kronecker theta phase inverse $r(z,x)$\n",
    "\n",
    "The following properties are implied for $r(z,x)$. However, there may be a mistake somewhere because if the ratio to the conjugate is an exponential, then for some values of $x$ the Frobenius-Stickelberger determinant would imply the Kronecker theta function is an algebraic function of $e^z$ which sounds wrong."
   ]
  },
  {
   "cell_type": "code",
   "execution_count": 82,
   "id": "05c3fde6",
   "metadata": {},
   "outputs": [
    {
     "data": {
      "text/latex": [
       "$\\displaystyle 2 \\phi{\\left(r{\\left(z,x \\right)} \\right)} - 2 \\phi{\\left(r{\\left(z_{0},x \\right)} \\right)} = \\left(z - z_{0}\\right) \\operatorname{pwp}{\\left(x,g_{2},g_{3} \\right)}$"
      ],
      "text/plain": [
       "Eq(2*phi(r(z, x)) - 2*phi(r(z0, x)), (z - z0)*pwp(x, g2, g3))"
      ]
     },
     "execution_count": 82,
     "metadata": {},
     "output_type": "execute_result"
    },
    {
     "data": {
      "text/latex": [
       "$\\displaystyle \\frac{\\kappa{\\left(r{\\left(z,x \\right)},x \\right)}}{\\kappa{\\left(- r{\\left(z,x \\right)},x \\right)}} = e^{z \\operatorname{pwp}{\\left(x,g_{2},g_{3} \\right)} - z_{0} \\operatorname{pwp}{\\left(x,g_{2},g_{3} \\right)} + 2 \\phi{\\left(r{\\left(z_{0},x \\right)} \\right)}}$"
      ],
      "text/plain": [
       "Eq(kappa(r(z, x), x)/kappa(-r(z, x), x), exp(z*pwp(x, g2, g3) - z0*pwp(x, g2, g3) + 2*phi(r(z0, x))))"
      ]
     },
     "execution_count": 82,
     "metadata": {},
     "output_type": "execute_result"
    },
    {
     "data": {
      "text/latex": [
       "$\\displaystyle \\kappa^{2}{\\left(r{\\left(z,x \\right)},x \\right)} e^{- z \\operatorname{pwp}{\\left(x,g_{2},g_{3} \\right)} + z_{0} \\operatorname{pwp}{\\left(x,g_{2},g_{3} \\right)} - 2 \\phi{\\left(r{\\left(z_{0},x \\right)} \\right)}} = \\operatorname{pw}{\\left(x,g_{2},g_{3} \\right)} - \\operatorname{pw}{\\left(r{\\left(z,x \\right)},g_{2},g_{3} \\right)}$"
      ],
      "text/plain": [
       "Eq(kappa(r(z, x), x)**2*exp(-z*pwp(x, g2, g3) + z0*pwp(x, g2, g3) - 2*phi(r(z0, x))), pw(x, g2, g3) - pw(r(z, x), g2, g3))"
      ]
     },
     "execution_count": 82,
     "metadata": {},
     "output_type": "execute_result"
    }
   ],
   "source": [
    "phi_rxz = integral_r_zx.subs([\n",
    "    (2*phi_log_sigma.subs(z,r(z,x)).rhs, 2*phi_log_sigma.subs(z,r(z,x)).lhs),\n",
    "    (2*phi_log_sigma.subs(z,r(z0,x)).rhs, 2*phi_log_sigma.subs(z,r(z0,x)).lhs)\n",
    "])\n",
    "kron_ratio_phase_inv = kron_phase_b.subs(z,r(z,x)).subs(phi(r(z,x)), solve(phi_rxz, phi(r(z,x)))[0])\n",
    "kappa_sqrd_periodic = Eq(\n",
    "    kron_pw.lhs.subs(z,r(z,x))*kron_ratio_phase_inv.lhs/kron_ratio_phase_inv.rhs, \n",
    "    kron_pw.rhs.subs(z,r(z,x))\n",
    ")\n",
    "\n",
    "\n",
    "phi_rxz\n",
    "kron_ratio_phase_inv\n",
    "kappa_sqrd_periodic"
   ]
  },
  {
   "cell_type": "code",
   "execution_count": 100,
   "id": "65020e69",
   "metadata": {},
   "outputs": [
    {
     "data": {
      "text/latex": [
       "$\\displaystyle \\phi{\\left(z \\right)} = \\frac{\\left(-1\\right)^{m} \\operatorname{RJ}{\\left(- \\operatorname{pw}{\\left(\\omega_{1},g_{2},g_{3} \\right)} + \\operatorname{pw}{\\left(z,g_{2},g_{3} \\right)},- \\operatorname{pw}{\\left(\\omega_{2},g_{2},g_{3} \\right)} + \\operatorname{pw}{\\left(z,g_{2},g_{3} \\right)},- \\operatorname{pw}{\\left(\\omega_{3},g_{2},g_{3} \\right)} + \\operatorname{pw}{\\left(z,g_{2},g_{3} \\right)},- \\operatorname{pw}{\\left(x,g_{2},g_{3} \\right)} + \\operatorname{pw}{\\left(z,g_{2},g_{3} \\right)} \\right)} \\operatorname{pwp}{\\left(x,g_{2},g_{3} \\right)}}{6} + \\frac{i \\pi}{2}$"
      ],
      "text/plain": [
       "Eq(phi(z), (-1)**m*RJ(-pw(omega1, g2, g3) + pw(z, g2, g3), -pw(omega2, g2, g3) + pw(z, g2, g3), -pw(omega3, g2, g3) + pw(z, g2, g3), -pw(x, g2, g3) + pw(z, g2, g3))*pwp(x, g2, g3)/6 + I*pi/2)"
      ]
     },
     "execution_count": 100,
     "metadata": {},
     "output_type": "execute_result"
    }
   ],
   "source": [
    "rj_carlson_weierstrass_phi = rj_carlson_weierstrass.subs(\n",
    "    phi_log_sigma.rhs.subs(sigma(z-x,g2,g3), sigma(x-z,g2,g3))*2, \n",
    "    phi_log_sigma.lhs*2 - log(-1)\n",
    ")\n",
    "rj_carlson_weierstrass_phi = Eq(\n",
    "    rj_carlson_weierstrass_phi.rhs*pwp(x,g2,g3)/6/(-1)**m + I*pi/2,\n",
    "    rj_carlson_weierstrass_phi.lhs*pwp(x,g2,g3)/6*(-1)**m + I*pi/2\n",
    ")\n",
    "rj_carlson_weierstrass_phi"
   ]
  },
  {
   "cell_type": "markdown",
   "id": "7ee11cca",
   "metadata": {},
   "source": [
    "## Reminder of connection between $r(z,x)$ and $f(z,x)$"
   ]
  },
  {
   "cell_type": "code",
   "execution_count": 289,
   "id": "64ef96e1",
   "metadata": {},
   "outputs": [
    {
     "data": {
      "text/latex": [
       "$\\displaystyle f{\\left(z,x \\right)} - \\operatorname{pw}{\\left(x,g_{2},g_{3} \\right)} = \\frac{\\partial}{\\partial z} r{\\left(z,x \\right)}$"
      ],
      "text/plain": [
       "Eq(f(z, x) - pw(x, g2, g3), Derivative(r(z, x), z))"
      ]
     },
     "execution_count": 289,
     "metadata": {},
     "output_type": "execute_result"
    },
    {
     "data": {
      "text/latex": [
       "$\\displaystyle \\frac{\\partial}{\\partial z} f{\\left(z,x \\right)} = \\left(f{\\left(z,x \\right)} - \\operatorname{pw}{\\left(x,g_{2},g_{3} \\right)}\\right) \\operatorname{pwp}{\\left(r{\\left(z,x \\right)},g_{2},g_{3} \\right)}$"
      ],
      "text/plain": [
       "Eq(Derivative(f(z, x), z), (f(z, x) - pw(x, g2, g3))*pwp(r(z, x), g2, g3))"
      ]
     },
     "execution_count": 289,
     "metadata": {},
     "output_type": "execute_result"
    },
    {
     "data": {
      "text/latex": [
       "$\\displaystyle \\left(\\frac{\\partial}{\\partial z} f{\\left(z,x \\right)}\\right)^{2} = \\left(f{\\left(z,x \\right)} - \\operatorname{pw}{\\left(x,g_{2},g_{3} \\right)}\\right)^{2} \\left(- g_{2} f{\\left(z,x \\right)} - g_{3} + 4 f^{3}{\\left(z,x \\right)}\\right)$"
      ],
      "text/plain": [
       "Eq(Derivative(f(z, x), z)**2, (f(z, x) - pw(x, g2, g3))**2*(-g2*f(z, x) - g3 + 4*f(z, x)**3))"
      ]
     },
     "execution_count": 289,
     "metadata": {},
     "output_type": "execute_result"
    }
   ],
   "source": [
    "drzx_2 = Eq(diff(d_r_h_zx.lhs,z), diff(d_r_h_zx.rhs,z).subs(*wpk(1).subs(z,r(z,x)).args))\n",
    "frzx = Eq(f(z,x) - pw(x,g2,g3), diff(r(z,x),z))\n",
    "dfrzx = drzx_2.subs(frzx.rhs, frzx.lhs).doit()\n",
    "dfz_sqrd = Eq(dfrzx.lhs**2, \n",
    "   (dfrzx.rhs**2)\n",
    "   .subs(*pwp_sqrd.subs(z,r(z,x)).args)\n",
    "   .subs(pw(r(z,x),g2,g3), solve(d_r_h_zx, pw(r(z,x),g2,g3))[0])\n",
    "   .subs(frzx.rhs, frzx.lhs)\n",
    "  )\n",
    "\n",
    "frzx\n",
    "dfrzx\n",
    "dfz_sqrd"
   ]
  },
  {
   "cell_type": "markdown",
   "id": "b4231e5e",
   "metadata": {},
   "source": [
    "## Taylor series expansion of $s(z,x)$"
   ]
  },
  {
   "cell_type": "code",
   "execution_count": 290,
   "id": "b2534515",
   "metadata": {},
   "outputs": [
    {
     "data": {
      "text/latex": [
       "$\\displaystyle \\log{\\left(\\frac{\\sigma{\\left(x + s{\\left(z,x \\right)},g_{2},g_{3} \\right)} e^{- 2 s{\\left(z,x \\right)} \\operatorname{zw}{\\left(x,g_{2},g_{3} \\right)}}}{\\sigma{\\left(x - s{\\left(z,x \\right)},g_{2},g_{3} \\right)}} \\right)} = z \\operatorname{pwp}{\\left(x,g_{2},g_{3} \\right)}$"
      ],
      "text/plain": [
       "Eq(log(sigma(x + s(z, x), g2, g3)*exp(-2*s(z, x)*zw(x, g2, g3))/sigma(x - s(z, x), g2, g3)), z*pwp(x, g2, g3))"
      ]
     },
     "execution_count": 290,
     "metadata": {},
     "output_type": "execute_result"
    }
   ],
   "source": [
    "szx = Eq(log(sigma(x + s(z, x), g2, g3)*exp(-2*s(z, x)*zw(x, g2, g3))/sigma(x - s(z, x), g2, g3)),z*pwp(x,g2,g3))\n",
    "szx"
   ]
  },
  {
   "cell_type": "code",
   "execution_count": 291,
   "id": "901049af",
   "metadata": {},
   "outputs": [
    {
     "data": {
      "text/latex": [
       "$\\displaystyle \\frac{\\operatorname{pwp}{\\left(x,g_{2},g_{3} \\right)}}{\\operatorname{pw}{\\left(x,g_{2},g_{3} \\right)} - \\operatorname{pw}{\\left(y,g_{2},g_{3} \\right)}} = \\frac{\\partial}{\\partial y} \\log{\\left(\\frac{\\sigma{\\left(x + y,g_{2},g_{3} \\right)} e^{- 2 y \\operatorname{zw}{\\left(x,g_{2},g_{3} \\right)}}}{\\sigma{\\left(x - y,g_{2},g_{3} \\right)}} \\right)}$"
      ],
      "text/plain": [
       "Eq(pwp(x, g2, g3)/(pw(x, g2, g3) - pw(y, g2, g3)), Derivative(log(sigma(x + y, g2, g3)*exp(-2*y*zw(x, g2, g3))/sigma(x - y, g2, g3)), y))"
      ]
     },
     "execution_count": 291,
     "metadata": {},
     "output_type": "execute_result"
    }
   ],
   "source": [
    "pwp_log_xy_i_pi = pwp_x_y_log_sigma_diff_c.subs(sigma(-x+y,g2,g3), sigma(x-y,g2,g3))\n",
    "pwp_log_xy_i_pi"
   ]
  },
  {
   "cell_type": "code",
   "execution_count": 292,
   "id": "c63e639a",
   "metadata": {},
   "outputs": [
    {
     "data": {
      "text/latex": [
       "$\\displaystyle \\operatorname{pwp}{\\left(x,g_{2},g_{3} \\right)} = \\frac{\\operatorname{pwp}{\\left(x,g_{2},g_{3} \\right)} \\frac{\\partial}{\\partial z} s{\\left(z,x \\right)}}{\\operatorname{pw}{\\left(x,g_{2},g_{3} \\right)} - \\operatorname{pw}{\\left(s{\\left(z,x \\right)},g_{2},g_{3} \\right)}}$"
      ],
      "text/plain": [
       "Eq(pwp(x, g2, g3), pwp(x, g2, g3)*Derivative(s(z, x), z)/(pw(x, g2, g3) - pw(s(z, x), g2, g3)))"
      ]
     },
     "execution_count": 292,
     "metadata": {},
     "output_type": "execute_result"
    },
    {
     "data": {
      "text/latex": [
       "$\\displaystyle \\frac{\\partial}{\\partial z} s{\\left(z,x \\right)} = \\operatorname{pw}{\\left(x,g_{2},g_{3} \\right)} - \\operatorname{pw}{\\left(s{\\left(z,x \\right)},g_{2},g_{3} \\right)}$"
      ],
      "text/plain": [
       "Eq(Derivative(s(z, x), z), pw(x, g2, g3) - pw(s(z, x), g2, g3))"
      ]
     },
     "execution_count": 292,
     "metadata": {},
     "output_type": "execute_result"
    }
   ],
   "source": [
    "dszx_a = Eq(\n",
    "    diff(f(s(z,x)).subs(f(s(z,x)),szx.rhs),z),\n",
    "    diff(f(s(z,x)),z)\n",
    "    .subs(f(s(z,x)),szx.lhs)\n",
    "    .subs(pwp_log_xy_i_pi.subs(y,s(z,x)).rhs, pwp_log_xy_i_pi.subs(y,s(z,x)).lhs)\n",
    ")\n",
    "dszx_b = Eq(diff(s(z,x),z), solve(dszx_a, diff(s(z,x),z))[0])\n",
    "dszx_a\n",
    "dszx_b"
   ]
  },
  {
   "cell_type": "code",
   "execution_count": 221,
   "id": "765501b2",
   "metadata": {},
   "outputs": [
    {
     "data": {
      "text/latex": [
       "$\\displaystyle s{\\left(z_{1},x \\right)} = \\omega_{1}$"
      ],
      "text/plain": [
       "Eq(s(z1, x), omega1)"
      ]
     },
     "execution_count": 221,
     "metadata": {},
     "output_type": "execute_result"
    },
    {
     "data": {
      "text/latex": [
       "$\\displaystyle \\log{\\left(\\frac{\\sigma{\\left(\\omega_{1} + x,g_{2},g_{3} \\right)} e^{- 2 \\omega_{1} \\operatorname{zw}{\\left(x,g_{2},g_{3} \\right)}}}{\\sigma{\\left(- \\omega_{1} + x,g_{2},g_{3} \\right)}} \\right)} = z_{1} \\operatorname{pwp}{\\left(x,g_{2},g_{3} \\right)}$"
      ],
      "text/plain": [
       "Eq(log(sigma(omega1 + x, g2, g3)*exp(-2*omega1*zw(x, g2, g3))/sigma(-omega1 + x, g2, g3)), z1*pwp(x, g2, g3))"
      ]
     },
     "execution_count": 221,
     "metadata": {},
     "output_type": "execute_result"
    },
    {
     "data": {
      "text/latex": [
       "$\\displaystyle z_{1} \\operatorname{pwp}{\\left(x,g_{2},g_{3} \\right)} = \\log{\\left(- e^{2 \\eta_{1} x - 2 \\omega_{1} \\operatorname{zw}{\\left(x,g_{2},g_{3} \\right)}} \\right)}$"
      ],
      "text/plain": [
       "Eq(z1*pwp(x, g2, g3), log(-exp(2*eta1*x - 2*omega1*zw(x, g2, g3))))"
      ]
     },
     "execution_count": 221,
     "metadata": {},
     "output_type": "execute_result"
    },
    {
     "data": {
      "text/latex": [
       "$\\displaystyle z_{1} = \\frac{2 \\eta_{1} x - 2 \\omega_{1} \\operatorname{zw}{\\left(x,g_{2},g_{3} \\right)} + i \\pi}{\\operatorname{pwp}{\\left(x,g_{2},g_{3} \\right)}}$"
      ],
      "text/plain": [
       "Eq(z1, (2*eta1*x - 2*omega1*zw(x, g2, g3) + I*pi)/pwp(x, g2, g3))"
      ]
     },
     "execution_count": 221,
     "metadata": {},
     "output_type": "execute_result"
    },
    {
     "data": {
      "text/latex": [
       "$\\displaystyle \\frac{\\operatorname{pwp}{\\left(x,g_{2},g_{3} \\right)}}{2 \\left(- \\operatorname{pw}{\\left(\\omega_{1},g_{2},g_{3} \\right)} + \\operatorname{pw}{\\left(x,g_{2},g_{3} \\right)}\\right)} = - \\operatorname{zw}{\\left(\\omega_{1},g_{2},g_{3} \\right)} - \\operatorname{zw}{\\left(x,g_{2},g_{3} \\right)} + \\operatorname{zw}{\\left(\\omega_{1} + x,g_{2},g_{3} \\right)}$"
      ],
      "text/plain": [
       "Eq(pwp(x, g2, g3)/(2*(-pw(omega1, g2, g3) + pw(x, g2, g3))), -zw(omega1, g2, g3) - zw(x, g2, g3) + zw(omega1 + x, g2, g3))"
      ]
     },
     "execution_count": 221,
     "metadata": {},
     "output_type": "execute_result"
    }
   ],
   "source": [
    "sz1 = Eq(s(z1,x), omega1)\n",
    "z1_a = szx.subs(z,z1).subs(sz1.lhs, sz1.rhs)\n",
    "z1_b = z1_a.subs(*quasi_period.subs([(m,0),(n,1),(z,x-omega1)]).simplify().args).simplify()\n",
    "z1_def = Eq(z1, (log(-1) + 2*eta1*x - 2*omega1*zw(x, g2, g3))/pwp(x, g2, g3))\n",
    "sz1\n",
    "z1_a\n",
    "z1_b\n",
    "z1_def\n",
    "pw_to_zw_identity.subs(y,omega1).subs(pwp(omega1,g2,g3),0)"
   ]
  },
  {
   "cell_type": "code",
   "execution_count": 227,
   "id": "6e080d20",
   "metadata": {},
   "outputs": [
    {
     "data": {
      "text/latex": [
       "$\\displaystyle f{\\left(x + a \\right)} = \\sum_{n=0}^{N} \\frac{x^{n} \\left. \\frac{d^{n}}{d x^{n}} f{\\left(x \\right)} \\right|_{\\substack{ x=a }}}{n!}$"
      ],
      "text/plain": [
       "Eq(f(x + a), Sum(x**n*Subs(Derivative(f(x), (x, n)), x, a)/factorial(n), (n, 0, N)))"
      ]
     },
     "execution_count": 227,
     "metadata": {},
     "output_type": "execute_result"
    },
    {
     "data": {
      "text/latex": [
       "$\\displaystyle s{\\left(z + z_{1},x \\right)} = \\sum_{n=0}^{N} \\frac{z^{n} \\left. \\frac{\\partial^{n}}{\\partial z^{n}} s{\\left(z,x \\right)} \\right|_{\\substack{ z=z_{1} }}}{n!}$"
      ],
      "text/plain": [
       "Eq(s(z + z1, x), Sum(z**n*Subs(Derivative(s(z, x), (z, n)), z, z1)/factorial(n), (n, 0, N)))"
      ]
     },
     "execution_count": 227,
     "metadata": {},
     "output_type": "execute_result"
    }
   ],
   "source": [
    "szx_taylor = Eq(s(z + z1,x),Sum(z**n*Subs(Derivative(s(z,x), (z, n)), z, z1)/factorial(n), (n, 0, N)))\n",
    "\n",
    "taylor_series_b\n",
    "szx_taylor"
   ]
  },
  {
   "cell_type": "code",
   "execution_count": 240,
   "id": "332dd428",
   "metadata": {},
   "outputs": [
    {
     "data": {
      "text/latex": [
       "$\\displaystyle s{\\left(z + z_{1},x \\right)} = \\frac{z^{3} \\frac{\\partial^{3}}{\\partial z_{1}^{3}} s{\\left(z_{1},x \\right)}}{6} + \\frac{z^{2} \\frac{\\partial^{2}}{\\partial z_{1}^{2}} s{\\left(z_{1},x \\right)}}{2} + z \\frac{\\partial}{\\partial z_{1}} s{\\left(z_{1},x \\right)} + s{\\left(z_{1},x \\right)}$"
      ],
      "text/plain": [
       "Eq(s(z + z1, x), z**3*Derivative(s(z1, x), (z1, 3))/6 + z**2*Derivative(s(z1, x), (z1, 2))/2 + z*Derivative(s(z1, x), z1) + s(z1, x))"
      ]
     },
     "execution_count": 240,
     "metadata": {},
     "output_type": "execute_result"
    }
   ],
   "source": [
    "szx_taylor.subs(N,3).doit()"
   ]
  },
  {
   "cell_type": "code",
   "execution_count": 265,
   "id": "d3646952",
   "metadata": {},
   "outputs": [
    {
     "data": {
      "text/latex": [
       "$\\displaystyle \\frac{\\partial}{\\partial z_{1}} s{\\left(z_{1},x \\right)} = - \\operatorname{pw}{\\left(\\omega_{1},g_{2},g_{3} \\right)} + \\operatorname{pw}{\\left(x,g_{2},g_{3} \\right)}$"
      ],
      "text/plain": [
       "Eq(Derivative(s(z1, x), z1), -pw(omega1, g2, g3) + pw(x, g2, g3))"
      ]
     },
     "execution_count": 265,
     "metadata": {},
     "output_type": "execute_result"
    }
   ],
   "source": [
    "dszx_1_z1 = Eq(dszx_b.lhs.subs(z,z1), dszx_b.rhs.subs(z,z1).subs(*sz1.args))\n",
    "dszx_1_z1"
   ]
  },
  {
   "cell_type": "code",
   "execution_count": 266,
   "id": "ab791277",
   "metadata": {},
   "outputs": [
    {
     "data": {
      "text/latex": [
       "$\\displaystyle \\frac{\\partial^{2}}{\\partial z^{2}} s{\\left(z,x \\right)} = - \\frac{\\partial}{\\partial s{\\left(z,x \\right)}} \\operatorname{pw}{\\left(s{\\left(z,x \\right)},g_{2},g_{3} \\right)} \\frac{\\partial}{\\partial z} s{\\left(z,x \\right)}$"
      ],
      "text/plain": [
       "Eq(Derivative(s(z, x), (z, 2)), -Derivative(pw(s(z, x), g2, g3), s(z, x))*Derivative(s(z, x), z))"
      ]
     },
     "execution_count": 266,
     "metadata": {},
     "output_type": "execute_result"
    },
    {
     "data": {
      "text/latex": [
       "$\\displaystyle \\frac{\\partial^{2}}{\\partial z^{2}} s{\\left(z,x \\right)} = - \\operatorname{pwp}{\\left(s{\\left(z,x \\right)},g_{2},g_{3} \\right)} \\frac{\\partial}{\\partial z} s{\\left(z,x \\right)}$"
      ],
      "text/plain": [
       "Eq(Derivative(s(z, x), (z, 2)), -pwp(s(z, x), g2, g3)*Derivative(s(z, x), z))"
      ]
     },
     "execution_count": 266,
     "metadata": {},
     "output_type": "execute_result"
    },
    {
     "data": {
      "text/latex": [
       "$\\displaystyle \\frac{\\partial^{2}}{\\partial z^{2}} s{\\left(z,x \\right)} = - \\left(\\operatorname{pw}{\\left(x,g_{2},g_{3} \\right)} - \\operatorname{pw}{\\left(s{\\left(z,x \\right)},g_{2},g_{3} \\right)}\\right) \\operatorname{pwp}{\\left(s{\\left(z,x \\right)},g_{2},g_{3} \\right)}$"
      ],
      "text/plain": [
       "Eq(Derivative(s(z, x), (z, 2)), -(pw(x, g2, g3) - pw(s(z, x), g2, g3))*pwp(s(z, x), g2, g3))"
      ]
     },
     "execution_count": 266,
     "metadata": {},
     "output_type": "execute_result"
    },
    {
     "data": {
      "text/latex": [
       "$\\displaystyle \\frac{\\partial^{2}}{\\partial z_{1}^{2}} s{\\left(z_{1},x \\right)} = 0$"
      ],
      "text/plain": [
       "Eq(Derivative(s(z1, x), (z1, 2)), 0)"
      ]
     },
     "execution_count": 266,
     "metadata": {},
     "output_type": "execute_result"
    }
   ],
   "source": [
    "dszx_2 = Eq(diff(dszx_b.lhs,z), diff(dszx_b.rhs,z).subs(*wpk(1).subs(z,s(z,x)).args))\n",
    "dszx_2_b = Eq(dszx_2.lhs, dszx_2.rhs.subs(*dszx_b.args))\n",
    "dszx_2_z1 = Eq(dszx_2_b.subs(z,z1).lhs, dszx_2_b.subs(z,z1).rhs.subs(*sz1.args).subs(pwp(omega1,g2,g3),0))\n",
    "\n",
    "Eq(diff(dszx_b.lhs,z), diff(dszx_b.rhs,z))\n",
    "dszx_2\n",
    "dszx_2_b\n",
    "dszx_2_z1"
   ]
  },
  {
   "cell_type": "code",
   "execution_count": 267,
   "id": "1aa60780",
   "metadata": {},
   "outputs": [
    {
     "data": {
      "text/latex": [
       "$\\displaystyle \\frac{\\partial^{3}}{\\partial z^{3}} s{\\left(z,x \\right)} = \\frac{\\left(\\left(g_{2} - 12 \\operatorname{pw}^{2}{\\left(s{\\left(z,x \\right)},g_{2},g_{3} \\right)}\\right) \\left(\\operatorname{pw}{\\left(x,g_{2},g_{3} \\right)} - \\operatorname{pw}{\\left(s{\\left(z,x \\right)},g_{2},g_{3} \\right)}\\right) + 2 \\operatorname{pwp}^{2}{\\left(s{\\left(z,x \\right)},g_{2},g_{3} \\right)}\\right) \\left(\\operatorname{pw}{\\left(x,g_{2},g_{3} \\right)} - \\operatorname{pw}{\\left(s{\\left(z,x \\right)},g_{2},g_{3} \\right)}\\right)}{2}$"
      ],
      "text/plain": [
       "Eq(Derivative(s(z, x), (z, 3)), ((g2 - 12*pw(s(z, x), g2, g3)**2)*(pw(x, g2, g3) - pw(s(z, x), g2, g3)) + 2*pwp(s(z, x), g2, g3)**2)*(pw(x, g2, g3) - pw(s(z, x), g2, g3))/2)"
      ]
     },
     "execution_count": 267,
     "metadata": {},
     "output_type": "execute_result"
    },
    {
     "data": {
      "text/latex": [
       "$\\displaystyle \\frac{\\partial^{3}}{\\partial z_{1}^{3}} s{\\left(z_{1},x \\right)} = \\frac{\\left(g_{2} - 12 \\operatorname{pw}^{2}{\\left(\\omega_{1},g_{2},g_{3} \\right)}\\right) \\left(- \\operatorname{pw}{\\left(\\omega_{1},g_{2},g_{3} \\right)} + \\operatorname{pw}{\\left(x,g_{2},g_{3} \\right)}\\right)^{2}}{2}$"
      ],
      "text/plain": [
       "Eq(Derivative(s(z1, x), (z1, 3)), (g2 - 12*pw(omega1, g2, g3)**2)*(-pw(omega1, g2, g3) + pw(x, g2, g3))**2/2)"
      ]
     },
     "execution_count": 267,
     "metadata": {},
     "output_type": "execute_result"
    }
   ],
   "source": [
    "dszx_3 = Eq(diff(dszx_b.lhs,z,2), \n",
    "            diff(dszx_b.rhs,z,2)\n",
    "            .subs([\n",
    "                wpk(2).subs(z,s(z,x)).args,\n",
    "                wpk(1).subs(z,s(z,x)).args,\n",
    "                dszx_2_b.args,\n",
    "                dszx_b.args,\n",
    "            ])\n",
    "            .simplify()\n",
    "           )\n",
    "dszx_3_z1 = Eq(dszx_3.lhs.subs(z,z1), dszx_3.rhs.subs(z,z1).subs(*sz1.args).subs(pwp(omega1,g2,g3),0))\n",
    "\n",
    "dszx_3\n",
    "dszx_3_z1"
   ]
  },
  {
   "cell_type": "code",
   "execution_count": 274,
   "id": "027cad64",
   "metadata": {},
   "outputs": [
    {
     "data": {
      "text/latex": [
       "$\\displaystyle \\frac{\\partial^{4}}{\\partial z^{4}} s{\\left(z,x \\right)} = \\left(\\operatorname{pw}{\\left(x,g_{2},g_{3} \\right)} - \\operatorname{pw}{\\left(s{\\left(z,x \\right)},g_{2},g_{3} \\right)}\\right) \\left(- 2 \\left(g_{2} - 12 \\operatorname{pw}^{2}{\\left(s{\\left(z,x \\right)},g_{2},g_{3} \\right)}\\right) \\left(\\operatorname{pw}{\\left(x,g_{2},g_{3} \\right)} - \\operatorname{pw}{\\left(s{\\left(z,x \\right)},g_{2},g_{3} \\right)}\\right) - 12 \\left(\\operatorname{pw}{\\left(x,g_{2},g_{3} \\right)} - \\operatorname{pw}{\\left(s{\\left(z,x \\right)},g_{2},g_{3} \\right)}\\right)^{2} \\operatorname{pw}{\\left(s{\\left(z,x \\right)},g_{2},g_{3} \\right)} - \\operatorname{pwp}^{2}{\\left(s{\\left(z,x \\right)},g_{2},g_{3} \\right)}\\right) \\operatorname{pwp}{\\left(s{\\left(z,x \\right)},g_{2},g_{3} \\right)}$"
      ],
      "text/plain": [
       "Eq(Derivative(s(z, x), (z, 4)), (pw(x, g2, g3) - pw(s(z, x), g2, g3))*(-2*(g2 - 12*pw(s(z, x), g2, g3)**2)*(pw(x, g2, g3) - pw(s(z, x), g2, g3)) - 12*(pw(x, g2, g3) - pw(s(z, x), g2, g3))**2*pw(s(z, x), g2, g3) - pwp(s(z, x), g2, g3)**2)*pwp(s(z, x), g2, g3))"
      ]
     },
     "execution_count": 274,
     "metadata": {},
     "output_type": "execute_result"
    },
    {
     "data": {
      "text/latex": [
       "$\\displaystyle \\frac{\\partial^{4}}{\\partial z_{1}^{4}} s{\\left(z_{1},x \\right)} = 0$"
      ],
      "text/plain": [
       "Eq(Derivative(s(z1, x), (z1, 4)), 0)"
      ]
     },
     "execution_count": 274,
     "metadata": {},
     "output_type": "execute_result"
    }
   ],
   "source": [
    "dszx_4 = Eq(diff(dszx_b.lhs,z,3), \n",
    "            diff(dszx_b.rhs,z,3)\n",
    "            .subs([\n",
    "                wpk(3).subs(z,s(z,x)).args,\n",
    "                wpk(2).subs(z,s(z,x)).args,\n",
    "                wpk(1).subs(z,s(z,x)).args,\n",
    "                dszx_3.args,\n",
    "                dszx_2_b.args,\n",
    "                dszx_b.args,\n",
    "            ])\n",
    "            .simplify()\n",
    "           )\n",
    "dszx_4_z1 = Eq(dszx_4.lhs.subs(z,z1), dszx_4.rhs.subs(z,z1).subs(*sz1.args).subs(pwp(omega1,g2,g3),0))\n",
    "\n",
    "dszx_4\n",
    "dszx_4_z1"
   ]
  },
  {
   "cell_type": "code",
   "execution_count": 300,
   "id": "e4d3e664",
   "metadata": {},
   "outputs": [
    {
     "data": {
      "text/latex": [
       "$\\displaystyle s{\\left(z + z_{1},x \\right)} = z \\left(- \\operatorname{pw}{\\left(\\omega_{1},g_{2},g_{3} \\right)} + \\operatorname{pw}{\\left(x,g_{2},g_{3} \\right)}\\right) + \\frac{z^{3} \\left(g_{2} - 12 \\operatorname{pw}^{2}{\\left(\\omega_{1},g_{2},g_{3} \\right)}\\right) \\left(- \\operatorname{pw}{\\left(\\omega_{1},g_{2},g_{3} \\right)} + \\operatorname{pw}{\\left(x,g_{2},g_{3} \\right)}\\right)^{2}}{12} + \\omega_{1} + O\\left(z^{5}\\right)$"
      ],
      "text/plain": [
       "Eq(s(z + z1, x), z*(-pw(omega1, g2, g3) + pw(x, g2, g3)) + z**3*(g2 - 12*pw(omega1, g2, g3)**2)*(-pw(omega1, g2, g3) + pw(x, g2, g3))**2/12 + omega1 + O(z**5))"
      ]
     },
     "execution_count": 300,
     "metadata": {},
     "output_type": "execute_result"
    }
   ],
   "source": [
    "sz_z1_x_O5_a = Eq(szx_taylor.lhs, \n",
    "    szx_taylor.rhs.subs(N,4).doit().subs([\n",
    "        dszx_4_z1.args, dszx_3_z1.args, dszx_2_z1.args, dszx_1_z1.args, sz1.args\n",
    "    ])\n",
    "  )\n",
    "sz_z1_x_O5_b = Eq(sz_z1_x_O5_a.lhs, sz_z1_x_O5_a.rhs + Order(z**5))\n",
    "\n",
    "sz_z1_x_O5_b"
   ]
  },
  {
   "cell_type": "code",
   "execution_count": 303,
   "id": "d771d433",
   "metadata": {},
   "outputs": [],
   "source": [
    "__szx = szx.subs(z,z+z1).subs(*sz_z1_x_O5_a.args).subs(*z1_def.args).subs(eta1, zw(omega1,g2,g3))"
   ]
  },
  {
   "cell_type": "code",
   "execution_count": 372,
   "id": "e26963db",
   "metadata": {},
   "outputs": [
    {
     "name": "stdout",
     "output_type": "stream",
     "text": [
      "LHS -1.93698109750468 - 2.23936246917321*I\n",
      "RHS -1.93697875086345 - 2.23935639299577*I\n",
      "ERROR (SMAPE) 2.19990167712555e-6\n"
     ]
    },
    {
     "data": {
      "text/latex": [
       "$\\displaystyle \\log{\\left(\\frac{\\sigma{\\left(\\omega_{1} + x + \\frac{z^{3} \\left(g_{2} - 12 \\operatorname{pw}^{2}{\\left(\\omega_{1},g_{2},g_{3} \\right)}\\right) \\left(- \\operatorname{pw}{\\left(\\omega_{1},g_{2},g_{3} \\right)} + \\operatorname{pw}{\\left(x,g_{2},g_{3} \\right)}\\right)^{2}}{12} + z \\left(- \\operatorname{pw}{\\left(\\omega_{1},g_{2},g_{3} \\right)} + \\operatorname{pw}{\\left(x,g_{2},g_{3} \\right)}\\right),g_{2},g_{3} \\right)} e^{- 2 \\left(\\omega_{1} + \\frac{z^{3} \\left(g_{2} - 12 \\operatorname{pw}^{2}{\\left(\\omega_{1},g_{2},g_{3} \\right)}\\right) \\left(- \\operatorname{pw}{\\left(\\omega_{1},g_{2},g_{3} \\right)} + \\operatorname{pw}{\\left(x,g_{2},g_{3} \\right)}\\right)^{2}}{12} + z \\left(- \\operatorname{pw}{\\left(\\omega_{1},g_{2},g_{3} \\right)} + \\operatorname{pw}{\\left(x,g_{2},g_{3} \\right)}\\right)\\right) \\operatorname{zw}{\\left(x,g_{2},g_{3} \\right)}}}{\\sigma{\\left(- \\omega_{1} + x - \\frac{z^{3} \\left(g_{2} - 12 \\operatorname{pw}^{2}{\\left(\\omega_{1},g_{2},g_{3} \\right)}\\right) \\left(- \\operatorname{pw}{\\left(\\omega_{1},g_{2},g_{3} \\right)} + \\operatorname{pw}{\\left(x,g_{2},g_{3} \\right)}\\right)^{2}}{12} - z \\left(- \\operatorname{pw}{\\left(\\omega_{1},g_{2},g_{3} \\right)} + \\operatorname{pw}{\\left(x,g_{2},g_{3} \\right)}\\right),g_{2},g_{3} \\right)}} \\right)} = \\left(z + \\frac{- 2 \\omega_{1} \\operatorname{zw}{\\left(x,g_{2},g_{3} \\right)} + 2 x \\operatorname{zw}{\\left(\\omega_{1},g_{2},g_{3} \\right)} + i \\pi}{\\operatorname{pwp}{\\left(x,g_{2},g_{3} \\right)}}\\right) \\operatorname{pwp}{\\left(x,g_{2},g_{3} \\right)} - 2 i \\pi$"
      ],
      "text/plain": [
       "Eq(log(sigma(omega1 + x + z**3*(g2 - 12*pw(omega1, g2, g3)**2)*(-pw(omega1, g2, g3) + pw(x, g2, g3))**2/12 + z*(-pw(omega1, g2, g3) + pw(x, g2, g3)), g2, g3)*exp(-2*(omega1 + z**3*(g2 - 12*pw(omega1, g2, g3)**2)*(-pw(omega1, g2, g3) + pw(x, g2, g3))**2/12 + z*(-pw(omega1, g2, g3) + pw(x, g2, g3)))*zw(x, g2, g3))/sigma(-omega1 + x - z**3*(g2 - 12*pw(omega1, g2, g3)**2)*(-pw(omega1, g2, g3) + pw(x, g2, g3))**2/12 - z*(-pw(omega1, g2, g3) + pw(x, g2, g3)), g2, g3)), (z + (-2*omega1*zw(x, g2, g3) + 2*x*zw(omega1, g2, g3) + I*pi)/pwp(x, g2, g3))*pwp(x, g2, g3) - 2*I*pi)"
      ]
     },
     "execution_count": 372,
     "metadata": {},
     "output_type": "execute_result"
    }
   ],
   "source": [
    "num_evaluate_weierstrass_carlson(Eq(__szx.lhs, __szx.rhs -2*I*pi), [\n",
    "    (omega1, (2.0204813619937374+0.030416172851106094j)),\n",
    "    (omega2, (3.014768953616608+1.1587263013014846j)),\n",
    "    (omega3, (0.9942875916228708+1.1283101284503787j)),\n",
    "    (g2, (-2.234+0.13j)),\n",
    "    (g3, (0.245-0.0234j)),\n",
    "    (z, 0.234),\n",
    "    (x, (1.234+0.245j))\n",
    "])"
   ]
  },
  {
   "cell_type": "code",
   "execution_count": 330,
   "id": "1786f9cd",
   "metadata": {},
   "outputs": [
    {
     "data": {
      "text/latex": [
       "$\\displaystyle \\log{\\left(\\frac{\\sigma{\\left(x + s{\\left(z,x \\right)},g_{2},g_{3} \\right)} e^{- 2 s{\\left(z,x \\right)} \\operatorname{zw}{\\left(x,g_{2},g_{3} \\right)}}}{\\sigma{\\left(x - s{\\left(z,x \\right)},g_{2},g_{3} \\right)}} \\right)} = z \\operatorname{pwp}{\\left(x,g_{2},g_{3} \\right)}$"
      ],
      "text/plain": [
       "Eq(log(sigma(x + s(z, x), g2, g3)*exp(-2*s(z, x)*zw(x, g2, g3))/sigma(x - s(z, x), g2, g3)), z*pwp(x, g2, g3))"
      ]
     },
     "execution_count": 330,
     "metadata": {},
     "output_type": "execute_result"
    },
    {
     "data": {
      "text/latex": [
       "$\\displaystyle \\log{\\left(\\frac{\\sigma{\\left(x + s{\\left(- z,x \\right)},g_{2},g_{3} \\right)} e^{- 2 s{\\left(- z,x \\right)} \\operatorname{zw}{\\left(x,g_{2},g_{3} \\right)}}}{\\sigma{\\left(x - s{\\left(- z,x \\right)},g_{2},g_{3} \\right)}} \\right)} = - z \\operatorname{pwp}{\\left(x,g_{2},g_{3} \\right)}$"
      ],
      "text/plain": [
       "Eq(log(sigma(x + s(-z, x), g2, g3)*exp(-2*s(-z, x)*zw(x, g2, g3))/sigma(x - s(-z, x), g2, g3)), -z*pwp(x, g2, g3))"
      ]
     },
     "execution_count": 330,
     "metadata": {},
     "output_type": "execute_result"
    },
    {
     "data": {
      "text/latex": [
       "$\\displaystyle \\log{\\left(\\frac{\\sigma{\\left(x - s{\\left(- z,x \\right)},g_{2},g_{3} \\right)} e^{2 s{\\left(- z,x \\right)} \\operatorname{zw}{\\left(x,g_{2},g_{3} \\right)}}}{\\sigma{\\left(x + s{\\left(- z,x \\right)},g_{2},g_{3} \\right)}} \\right)} = z \\operatorname{pwp}{\\left(x,g_{2},g_{3} \\right)}$"
      ],
      "text/plain": [
       "Eq(log(sigma(x - s(-z, x), g2, g3)*exp(2*s(-z, x)*zw(x, g2, g3))/sigma(x + s(-z, x), g2, g3)), z*pwp(x, g2, g3))"
      ]
     },
     "execution_count": 330,
     "metadata": {},
     "output_type": "execute_result"
    },
    {
     "data": {
      "text/latex": [
       "$\\displaystyle s{\\left(- z,x \\right)} = - s{\\left(z,x \\right)}$"
      ],
      "text/plain": [
       "Eq(s(-z, x), -s(z, x))"
      ]
     },
     "execution_count": 330,
     "metadata": {},
     "output_type": "execute_result"
    }
   ],
   "source": [
    "szx\n",
    "szx.subs(z,-z)\n",
    "_n,_d, = fraction(szx.subs(z,-z).lhs.args[0])\n",
    "Eq(log(_d/_n), -szx.subs(z,-z).rhs)\n",
    "Eq(s(-z,x),-s(z,x))"
   ]
  },
  {
   "cell_type": "code",
   "execution_count": 328,
   "id": "651a4cad",
   "metadata": {},
   "outputs": [
    {
     "data": {
      "text/latex": [
       "$\\displaystyle \\log{\\left(\\frac{\\sigma{\\left(x - s{\\left(- z,x \\right)},g_{2},g_{3} \\right)} e^{2 s{\\left(- z,x \\right)} \\operatorname{zw}{\\left(x,g_{2},g_{3} \\right)}}}{\\sigma{\\left(x + s{\\left(- z,x \\right)},g_{2},g_{3} \\right)}} \\right)} = z \\operatorname{pwp}{\\left(x,g_{2},g_{3} \\right)}$"
      ],
      "text/plain": [
       "Eq(log(sigma(x - s(-z, x), g2, g3)*exp(2*s(-z, x)*zw(x, g2, g3))/sigma(x + s(-z, x), g2, g3)), z*pwp(x, g2, g3))"
      ]
     },
     "execution_count": 328,
     "metadata": {},
     "output_type": "execute_result"
    }
   ],
   "source": []
  },
  {
   "cell_type": "code",
   "execution_count": 337,
   "id": "849b95ab",
   "metadata": {},
   "outputs": [
    {
     "data": {
      "text/latex": [
       "$\\displaystyle \\frac{\\partial}{\\partial z} s{\\left(z,x \\right)} = \\operatorname{pw}{\\left(x,g_{2},g_{3} \\right)} - \\operatorname{pw}{\\left(s{\\left(z,x \\right)},g_{2},g_{3} \\right)}$"
      ],
      "text/plain": [
       "Eq(Derivative(s(z, x), z), pw(x, g2, g3) - pw(s(z, x), g2, g3))"
      ]
     },
     "execution_count": 337,
     "metadata": {},
     "output_type": "execute_result"
    }
   ],
   "source": [
    "dszx_b"
   ]
  },
  {
   "cell_type": "code",
   "execution_count": 356,
   "id": "b865b88e",
   "metadata": {},
   "outputs": [
    {
     "data": {
      "text/latex": [
       "$\\displaystyle \\left(- \\operatorname{pw}{\\left(\\omega_{1},g_{2},g_{3} \\right)} + \\operatorname{pw}{\\left(x,g_{2},g_{3} \\right)}\\right) \\left(18 g_{2} \\operatorname{pw}{\\left(\\omega_{1},g_{2},g_{3} \\right)} + 12 g_{3} - 120 \\operatorname{pw}^{3}{\\left(\\omega_{1},g_{2},g_{3} \\right)}\\right)$"
      ],
      "text/plain": [
       "(-pw(omega1, g2, g3) + pw(x, g2, g3))*(18*g2*pw(omega1, g2, g3) + 12*g3 - 120*pw(omega1, g2, g3)**3)"
      ]
     },
     "execution_count": 356,
     "metadata": {},
     "output_type": "execute_result"
    }
   ],
   "source": [
    "kk = 5\n",
    "(\n",
    "    dszx_b.rhs*\n",
    "    diff(dszx_b.rhs.subs(s(z,x),z),z,kk - 1)\n",
    "    .subs(*wpk(kk - 1).args)\n",
    "    .subs(z,s(z,x))\n",
    ").subs(s(z,x),omega1).subs(pwp(omega1,g2,g3),0)"
   ]
  },
  {
   "cell_type": "code",
   "execution_count": 343,
   "id": "dd1c98a9",
   "metadata": {},
   "outputs": [
    {
     "data": {
      "text/plain": [
       "(Derivative(pw(z, g2, g3), (z, 2)), -g2/2 + 6*pw(z, g2, g3)**2)"
      ]
     },
     "execution_count": 343,
     "metadata": {},
     "output_type": "execute_result"
    }
   ],
   "source": [
    "wpk(2).args"
   ]
  },
  {
   "cell_type": "code",
   "execution_count": 354,
   "id": "07fa76c9",
   "metadata": {},
   "outputs": [
    {
     "data": {
      "text/latex": [
       "$\\displaystyle \\frac{\\partial^{3}}{\\partial z_{1}^{3}} s{\\left(z_{1},x \\right)} = \\frac{\\left(g_{2} - 12 \\operatorname{pw}^{2}{\\left(\\omega_{1},g_{2},g_{3} \\right)}\\right) \\left(- \\operatorname{pw}{\\left(\\omega_{1},g_{2},g_{3} \\right)} + \\operatorname{pw}{\\left(x,g_{2},g_{3} \\right)}\\right)^{2}}{2}$"
      ],
      "text/plain": [
       "Eq(Derivative(s(z1, x), (z1, 3)), (g2 - 12*pw(omega1, g2, g3)**2)*(-pw(omega1, g2, g3) + pw(x, g2, g3))**2/2)"
      ]
     },
     "execution_count": 354,
     "metadata": {},
     "output_type": "execute_result"
    }
   ],
   "source": [
    "dszx_3_z1"
   ]
  },
  {
   "cell_type": "code",
   "execution_count": 357,
   "id": "7a059bcb",
   "metadata": {},
   "outputs": [
    {
     "data": {
      "text/latex": [
       "$\\displaystyle \\frac{\\partial^{3}}{\\partial z_{1}^{3}} s{\\left(z_{1},x \\right)} = \\frac{g_{2} \\operatorname{pw}^{2}{\\left(\\omega_{1},g_{2},g_{3} \\right)}}{2} - g_{2} \\operatorname{pw}{\\left(\\omega_{1},g_{2},g_{3} \\right)} \\operatorname{pw}{\\left(x,g_{2},g_{3} \\right)} + \\frac{g_{2} \\operatorname{pw}^{2}{\\left(x,g_{2},g_{3} \\right)}}{2} - 6 \\operatorname{pw}^{4}{\\left(\\omega_{1},g_{2},g_{3} \\right)} + 12 \\operatorname{pw}^{3}{\\left(\\omega_{1},g_{2},g_{3} \\right)} \\operatorname{pw}{\\left(x,g_{2},g_{3} \\right)} - 6 \\operatorname{pw}^{2}{\\left(\\omega_{1},g_{2},g_{3} \\right)} \\operatorname{pw}^{2}{\\left(x,g_{2},g_{3} \\right)}$"
      ],
      "text/plain": [
       "Eq(Derivative(s(z1, x), (z1, 3)), g2*pw(omega1, g2, g3)**2/2 - g2*pw(omega1, g2, g3)*pw(x, g2, g3) + g2*pw(x, g2, g3)**2/2 - 6*pw(omega1, g2, g3)**4 + 12*pw(omega1, g2, g3)**3*pw(x, g2, g3) - 6*pw(omega1, g2, g3)**2*pw(x, g2, g3)**2)"
      ]
     },
     "execution_count": 357,
     "metadata": {},
     "output_type": "execute_result"
    }
   ],
   "source": [
    "dszx_3_z1.expand()"
   ]
  },
  {
   "cell_type": "code",
   "execution_count": 363,
   "id": "048ef015",
   "metadata": {},
   "outputs": [
    {
     "data": {
      "text/latex": [
       "$\\displaystyle \\frac{\\partial^{k + 1}}{\\partial z^{k + 1}} s{\\left(z,x \\right)} = \\frac{\\partial^{k}}{\\partial z^{k}} \\left(\\operatorname{pw}{\\left(x,g_{2},g_{3} \\right)} - \\operatorname{pw}{\\left(s{\\left(z,x \\right)},g_{2},g_{3} \\right)}\\right)$"
      ],
      "text/plain": [
       "Eq(Derivative(s(z, x), (z, k + 1)), Derivative(pw(x, g2, g3) - pw(s(z, x), g2, g3), (z, k)))"
      ]
     },
     "execution_count": 363,
     "metadata": {},
     "output_type": "execute_result"
    }
   ],
   "source": [
    "dszx_k = Eq(diff(dszx_b.lhs,(z,k)), diff(dszx_b.rhs,(z,k)))\n",
    "dszx_k"
   ]
  },
  {
   "cell_type": "code",
   "execution_count": 365,
   "id": "be908184",
   "metadata": {},
   "outputs": [
    {
     "data": {
      "text/latex": [
       "$\\displaystyle \\frac{\\partial^{3}}{\\partial z^{3}} s{\\left(z,x \\right)} = - \\frac{\\partial}{\\partial s{\\left(z,x \\right)}} \\operatorname{pw}{\\left(s{\\left(z,x \\right)},g_{2},g_{3} \\right)} \\frac{\\partial^{2}}{\\partial z^{2}} s{\\left(z,x \\right)} - \\frac{\\partial^{2}}{\\partial s{\\left(z,x \\right)}^{2}} \\operatorname{pw}{\\left(s{\\left(z,x \\right)},g_{2},g_{3} \\right)} \\left(\\frac{\\partial}{\\partial z} s{\\left(z,x \\right)}\\right)^{2}$"
      ],
      "text/plain": [
       "Eq(Derivative(s(z, x), (z, 3)), -Derivative(pw(s(z, x), g2, g3), s(z, x))*Derivative(s(z, x), (z, 2)) - Derivative(pw(s(z, x), g2, g3), (s(z, x), 2))*Derivative(s(z, x), z)**2)"
      ]
     },
     "execution_count": 365,
     "metadata": {},
     "output_type": "execute_result"
    }
   ],
   "source": [
    "dszx_k.subs(k,2).doit()"
   ]
  },
  {
   "cell_type": "code",
   "execution_count": 366,
   "id": "04a43f5a",
   "metadata": {},
   "outputs": [
    {
     "data": {
      "text/latex": [
       "$\\displaystyle \\frac{\\partial^{4}}{\\partial z^{4}} s{\\left(z,x \\right)} = - \\frac{\\partial}{\\partial s{\\left(z,x \\right)}} \\operatorname{pw}{\\left(s{\\left(z,x \\right)},g_{2},g_{3} \\right)} \\frac{\\partial^{3}}{\\partial z^{3}} s{\\left(z,x \\right)} - 3 \\frac{\\partial^{2}}{\\partial s{\\left(z,x \\right)}^{2}} \\operatorname{pw}{\\left(s{\\left(z,x \\right)},g_{2},g_{3} \\right)} \\frac{\\partial}{\\partial z} s{\\left(z,x \\right)} \\frac{\\partial^{2}}{\\partial z^{2}} s{\\left(z,x \\right)} - \\frac{\\partial^{3}}{\\partial s{\\left(z,x \\right)}^{3}} \\operatorname{pw}{\\left(s{\\left(z,x \\right)},g_{2},g_{3} \\right)} \\left(\\frac{\\partial}{\\partial z} s{\\left(z,x \\right)}\\right)^{3}$"
      ],
      "text/plain": [
       "Eq(Derivative(s(z, x), (z, 4)), -Derivative(pw(s(z, x), g2, g3), s(z, x))*Derivative(s(z, x), (z, 3)) - 3*Derivative(pw(s(z, x), g2, g3), (s(z, x), 2))*Derivative(s(z, x), z)*Derivative(s(z, x), (z, 2)) - Derivative(pw(s(z, x), g2, g3), (s(z, x), 3))*Derivative(s(z, x), z)**3)"
      ]
     },
     "execution_count": 366,
     "metadata": {},
     "output_type": "execute_result"
    }
   ],
   "source": [
    "dszx_k.subs(k,3).doit()"
   ]
  },
  {
   "cell_type": "code",
   "execution_count": null,
   "id": "6cf92ca1",
   "metadata": {},
   "outputs": [],
   "source": []
  }
 ],
 "metadata": {
  "kernelspec": {
   "display_name": "Python 3 (ipykernel)",
   "language": "python",
   "name": "python3"
  },
  "language_info": {
   "codemirror_mode": {
    "name": "ipython",
    "version": 3
   },
   "file_extension": ".py",
   "mimetype": "text/x-python",
   "name": "python",
   "nbconvert_exporter": "python",
   "pygments_lexer": "ipython3",
   "version": "3.11.10"
  }
 },
 "nbformat": 4,
 "nbformat_minor": 5
}
