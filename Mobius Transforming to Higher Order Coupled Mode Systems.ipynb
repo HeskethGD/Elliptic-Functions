{
 "cells": [
  {
   "cell_type": "markdown",
   "id": "a861fe6c-c0ea-4d95-afe0-94b4762c3b64",
   "metadata": {},
   "source": [
    "# Mobius Transforming to Higher Order Coupled Mode Systems"
   ]
  },
  {
   "cell_type": "code",
   "execution_count": 148,
   "id": "a328c3e2-3706-4151-af90-23ccbbe3f796",
   "metadata": {},
   "outputs": [],
   "source": [
    "from sympy import *\n",
    "(\n",
    "    x, y, z, z0, g2, g3, X, Y, Z\n",
    ") = symbols('''\n",
    "    x, y, z, z0, g2, g3, X, Y, Z\n",
    "''')\n",
    "(\n",
    "    a1, a2, a3, a4, b1, b2, b3, b4, j, k, l, m, n\n",
    ") = symbols('''\n",
    "    a1, a2, a3, a4, b1, b2, b3, b4, j, k, l, m, n\n",
    "''')\n",
    "(\n",
    "    alpha, beta, delta, mu, nu, epsilon, theta, omega, kappa\n",
    ") = symbols('''\n",
    "    alpha, beta, delta, mu, nu, epsilon, theta, omega, kappa\n",
    "''')\n",
    "pw = Function('pw') # Weierstrass P function\n",
    "pwp = Function('pwp') # Derivative of Weierstrass P function\n",
    "zw = Function('zw') # Weierstrass Zeta function\n",
    "sigma = Function('sigma') # Weierstrass Sigma function\n",
    "rho = Function('rho')\n",
    "f = Function('f')\n",
    "h = Function('h')\n",
    "u = Function('u')\n",
    "v = Function('v')\n",
    "P = Function('P') # Polynomial\n",
    "Q = Function('Q') # Polynomial\n",
    "R = Function('R') # Polynomial\n",
    "phi = Function('phi')\n",
    "Phi = Function('Phi')\n",
    "phi1 = Function('phi1')\n",
    "phi2 = Function('phi2')\n",
    "phi3 = Function('phi3')\n",
    "\n",
    "Det = Function(\"Det\")\n",
    "\n",
    "mu = IndexedBase('mu')\n",
    "xi = IndexedBase('xi')\n",
    "a = IndexedBase('a')\n",
    "b = IndexedBase('b')\n",
    "c = IndexedBase('c')\n",
    "d = IndexedBase('d')\n",
    "\n",
    "from IPython.core.interactiveshell import InteractiveShell\n",
    "InteractiveShell.ast_node_interactivity = 'all'\n",
    "p = IndexedBase('p')\n",
    "G = IndexedBase('G')\n",
    "psi = IndexedBase('psi')\n",
    "upsilon = IndexedBase('upsilon')\n",
    "WPdet = Function('WPdet')\n",
    "\n",
    "Omega = IndexedBase('Omega')\n",
    "T = Function('T')\n",
    "V = Function('V')\n",
    "Dz = Function('Dz') # Derivate w.r.t z\n",
    "L = Function('L')\n",
    "U = Function(\"U\")\n",
    "W = Function(\"W\")\n",
    "from math import prod\n",
    "\n",
    "from IPython.core.interactiveshell import InteractiveShell\n",
    "InteractiveShell.ast_node_interactivity = 'all'"
   ]
  },
  {
   "cell_type": "markdown",
   "id": "b12dd1ff-8742-4139-9383-89bc1d39d889",
   "metadata": {},
   "source": [
    "## The original system quadratic in the modes"
   ]
  },
  {
   "cell_type": "code",
   "execution_count": 112,
   "id": "2d215a9f-2e11-4344-9f54-01e16d850972",
   "metadata": {},
   "outputs": [
    {
     "data": {
      "text/latex": [
       "$\\displaystyle \\frac{d}{d z} u{\\left(z \\right)} = - u{\\left(z \\right)} - v^{2}{\\left(z \\right)}$"
      ],
      "text/plain": [
       "Eq(Derivative(u(z), z), -u(z) - v(z)**2)"
      ]
     },
     "execution_count": 112,
     "metadata": {},
     "output_type": "execute_result"
    },
    {
     "data": {
      "text/latex": [
       "$\\displaystyle \\frac{d}{d z} v{\\left(z \\right)} = u^{2}{\\left(z \\right)} + v{\\left(z \\right)}$"
      ],
      "text/plain": [
       "Eq(Derivative(v(z), z), u(z)**2 + v(z))"
      ]
     },
     "execution_count": 112,
     "metadata": {},
     "output_type": "execute_result"
    }
   ],
   "source": [
    "du_eq = Eq(diff(u(z),z), -u(z) - v(z)**2)\n",
    "dv_eq = Eq(diff(v(z),z), v(z) + u(z)**2)\n",
    "du_dv_subs = [du_eq.args, dv_eq.args]\n",
    "du_eq\n",
    "dv_eq"
   ]
  },
  {
   "cell_type": "code",
   "execution_count": 113,
   "id": "72b65f15-7c67-447a-9800-9c09347c5fc5",
   "metadata": {},
   "outputs": [
    {
     "data": {
      "text/latex": [
       "$\\displaystyle p = u^{3}{\\left(z \\right)} + 3 u{\\left(z \\right)} v{\\left(z \\right)} + v^{3}{\\left(z \\right)}$"
      ],
      "text/plain": [
       "Eq(p, u(z)**3 + 3*u(z)*v(z) + v(z)**3)"
      ]
     },
     "execution_count": 113,
     "metadata": {},
     "output_type": "execute_result"
    }
   ],
   "source": [
    "p_conserved = Eq(p, 3*u(z)*v(z) + u(z)**3 + v(z)**3)\n",
    "p_conserved"
   ]
  },
  {
   "cell_type": "code",
   "execution_count": 114,
   "id": "36719bd8-80ee-4f07-b063-1ebbf4c0d1cc",
   "metadata": {},
   "outputs": [
    {
     "data": {
      "text/latex": [
       "$\\displaystyle 0$"
      ],
      "text/plain": [
       "0"
      ]
     },
     "execution_count": 114,
     "metadata": {},
     "output_type": "execute_result"
    }
   ],
   "source": [
    "diff(p_conserved.rhs,z).subs(du_dv_subs).expand()"
   ]
  },
  {
   "cell_type": "code",
   "execution_count": 115,
   "id": "769bbc0b-2f86-4a35-9eba-138a974c360e",
   "metadata": {},
   "outputs": [
    {
     "data": {
      "text/latex": [
       "$\\displaystyle \\frac{d}{d z} u{\\left(z \\right)} v{\\left(z \\right)} = u^{3}{\\left(z \\right)} - v^{3}{\\left(z \\right)}$"
      ],
      "text/plain": [
       "Eq(Derivative(u(z)*v(z), z), u(z)**3 - v(z)**3)"
      ]
     },
     "execution_count": 115,
     "metadata": {},
     "output_type": "execute_result"
    }
   ],
   "source": [
    "duv = Eq(Derivative(u(z)*v(z),z), diff(u(z)*v(z),z).subs(du_dv_subs).doit().expand())\n",
    "duv"
   ]
  },
  {
   "cell_type": "code",
   "execution_count": 101,
   "id": "ca92831d-b1bc-4dc1-9a81-89c695977d0a",
   "metadata": {},
   "outputs": [
    {
     "data": {
      "text/latex": [
       "$\\displaystyle \\left(\\frac{d}{d z} u{\\left(z \\right)} v{\\left(z \\right)}\\right)^{2} = u^{6}{\\left(z \\right)} - 2 u^{3}{\\left(z \\right)} v^{3}{\\left(z \\right)} + v^{6}{\\left(z \\right)}$"
      ],
      "text/plain": [
       "Eq(Derivative(u(z)*v(z), z)**2, u(z)**6 - 2*u(z)**3*v(z)**3 + v(z)**6)"
      ]
     },
     "execution_count": 101,
     "metadata": {},
     "output_type": "execute_result"
    }
   ],
   "source": [
    "duv_sqrd = Eq(duv.lhs**2, (duv.rhs**2).expand())\n",
    "duv_sqrd"
   ]
  },
  {
   "cell_type": "code",
   "execution_count": 102,
   "id": "414d1966-f0ab-4dd8-a39f-8a27101ca8cf",
   "metadata": {},
   "outputs": [
    {
     "data": {
      "text/latex": [
       "$\\displaystyle 0 = - u^{6}{\\left(z \\right)} - 2 u^{3}{\\left(z \\right)} v^{3}{\\left(z \\right)} + 9 u^{2}{\\left(z \\right)} v^{2}{\\left(z \\right)} - 6 u{\\left(z \\right)} v{\\left(z \\right)} p - v^{6}{\\left(z \\right)} + p^{2}$"
      ],
      "text/plain": [
       "Eq(0, -u(z)**6 - 2*u(z)**3*v(z)**3 + 9*u(z)**2*v(z)**2 - 6*u(z)*v(z)*p - v(z)**6 + p**2)"
      ]
     },
     "execution_count": 102,
     "metadata": {},
     "output_type": "execute_result"
    }
   ],
   "source": [
    "p_sqrd_zero = Eq(0, (p_conserved.lhs - 3*u(z)*v(z))**2 - (p_conserved.rhs - 3*u(z)*v(z))**2).expand()\n",
    "p_sqrd_zero"
   ]
  },
  {
   "cell_type": "code",
   "execution_count": 103,
   "id": "09f2b5b7-340a-4c69-9efa-c1fddd9b5327",
   "metadata": {},
   "outputs": [
    {
     "data": {
      "text/latex": [
       "$\\displaystyle \\left(\\frac{d}{d z} u{\\left(z \\right)} v{\\left(z \\right)}\\right)^{2} = - 4 u^{3}{\\left(z \\right)} v^{3}{\\left(z \\right)} + 9 u^{2}{\\left(z \\right)} v^{2}{\\left(z \\right)} - 6 u{\\left(z \\right)} v{\\left(z \\right)} p + p^{2}$"
      ],
      "text/plain": [
       "Eq(Derivative(u(z)*v(z), z)**2, -4*u(z)**3*v(z)**3 + 9*u(z)**2*v(z)**2 - 6*u(z)*v(z)*p + p**2)"
      ]
     },
     "execution_count": 103,
     "metadata": {},
     "output_type": "execute_result"
    }
   ],
   "source": [
    "duv_sqrd_cubed = Eq(duv_sqrd.lhs, duv_sqrd.rhs + p_sqrd_zero.rhs)\n",
    "duv_sqrd_cubed"
   ]
  },
  {
   "cell_type": "code",
   "execution_count": 104,
   "id": "dbc13a3b-076b-417c-891f-1950675dfe5b",
   "metadata": {},
   "outputs": [
    {
     "data": {
      "text/latex": [
       "$\\displaystyle u{\\left(z \\right)} v{\\left(z \\right)} = \\frac{3}{4} - W{\\left(z \\right)}$"
      ],
      "text/plain": [
       "Eq(u(z)*v(z), 3/4 - W(z))"
      ]
     },
     "execution_count": 104,
     "metadata": {},
     "output_type": "execute_result"
    }
   ],
   "source": [
    "uv_W = Eq(u(z)*v(z), -W(z)+Rational(3,4))\n",
    "uv_W"
   ]
  },
  {
   "cell_type": "code",
   "execution_count": 105,
   "id": "b860c5b6-b3eb-4ec8-89fc-4823952470f9",
   "metadata": {},
   "outputs": [
    {
     "data": {
      "text/latex": [
       "$\\displaystyle \\left(\\frac{d}{d z} W{\\left(z \\right)}\\right)^{2} = \\left(6 p - \\frac{27}{4}\\right) W{\\left(z \\right)} + 4 W^{3}{\\left(z \\right)} + p^{2} - \\frac{9 p}{2} + \\frac{27}{8}$"
      ],
      "text/plain": [
       "Eq(Derivative(W(z), z)**2, (6*p - 27/4)*W(z) + 4*W(z)**3 + p**2 - 9*p/2 + 27/8)"
      ]
     },
     "execution_count": 105,
     "metadata": {},
     "output_type": "execute_result"
    }
   ],
   "source": [
    "dW = duv_sqrd_cubed.subs(*uv_W.args).doit().expand()\n",
    "dW = Eq(dW.lhs, dW.rhs.collect(W(z), simplify))\n",
    "dW"
   ]
  },
  {
   "cell_type": "code",
   "execution_count": 108,
   "id": "b47d7704-d08e-4804-81c3-cc9bc904c01d",
   "metadata": {},
   "outputs": [
    {
     "data": {
      "text/latex": [
       "$\\displaystyle W{\\left(z \\right)} = \\operatorname{pw}{\\left(z - z_{0},g_{2},g_{3} \\right)}$"
      ],
      "text/plain": [
       "Eq(W(z), pw(z - z0, g2, g3))"
      ]
     },
     "execution_count": 108,
     "metadata": {},
     "output_type": "execute_result"
    },
    {
     "data": {
      "text/latex": [
       "$\\displaystyle g_{2} = \\frac{27}{4} - 6 p$"
      ],
      "text/plain": [
       "Eq(g2, 27/4 - 6*p)"
      ]
     },
     "execution_count": 108,
     "metadata": {},
     "output_type": "execute_result"
    },
    {
     "data": {
      "text/latex": [
       "$\\displaystyle g_{3} = - p^{2} + \\frac{9 p}{2} - \\frac{27}{8}$"
      ],
      "text/plain": [
       "Eq(g3, -p**2 + 9*p/2 - 27/8)"
      ]
     },
     "execution_count": 108,
     "metadata": {},
     "output_type": "execute_result"
    }
   ],
   "source": [
    "W_pw = Eq(W(z), pw(z-z0,g2,g3))\n",
    "g2_p = Eq(g2, -dW.rhs.coeff(W(z)))\n",
    "g3_p = Eq(g3, -dW.rhs.subs(W(z),0))\n",
    "W_pw\n",
    "g2_p\n",
    "g3_p"
   ]
  },
  {
   "cell_type": "markdown",
   "id": "32efc802-82a4-4dfa-84ba-1014465d0680",
   "metadata": {},
   "source": [
    "## Higher order system 1"
   ]
  },
  {
   "cell_type": "code",
   "execution_count": 149,
   "id": "6f644315-96e3-4b8d-ad09-9b0a3c1b7e07",
   "metadata": {},
   "outputs": [
    {
     "data": {
      "text/latex": [
       "$\\displaystyle f{\\left(z \\right)} = u^{m}{\\left(z \\right)} v^{n}{\\left(z \\right)}$"
      ],
      "text/plain": [
       "Eq(f(z), u(z)**m*v(z)**n)"
      ]
     },
     "execution_count": 149,
     "metadata": {},
     "output_type": "execute_result"
    },
    {
     "data": {
      "text/latex": [
       "$\\displaystyle h{\\left(z \\right)} = u^{j}{\\left(z \\right)} v^{k}{\\left(z \\right)}$"
      ],
      "text/plain": [
       "Eq(h(z), u(z)**j*v(z)**k)"
      ]
     },
     "execution_count": 149,
     "metadata": {},
     "output_type": "execute_result"
    }
   ],
   "source": [
    "fu_eq = Eq(f(z), u(z)**m*v(z)**n)\n",
    "hv_eq = Eq(h(z), u(z)**j*v(z)**k)\n",
    "fu_eq\n",
    "hv_eq"
   ]
  },
  {
   "cell_type": "code",
   "execution_count": 176,
   "id": "dcd0c59b-98f2-4be7-b50b-a8872b7a2264",
   "metadata": {},
   "outputs": [
    {
     "data": {
      "text/latex": [
       "$\\displaystyle f^{j}{\\left(z \\right)} = u^{j + m}{\\left(z \\right)} v^{j + n}{\\left(z \\right)}$"
      ],
      "text/plain": [
       "Eq(f(z)**j, u(z)**(j + m)*v(z)**(j + n))"
      ]
     },
     "execution_count": 176,
     "metadata": {},
     "output_type": "execute_result"
    },
    {
     "data": {
      "text/latex": [
       "$\\displaystyle h^{m}{\\left(z \\right)} = u^{j + m}{\\left(z \\right)} v^{k + m}{\\left(z \\right)}$"
      ],
      "text/plain": [
       "Eq(h(z)**m, u(z)**(j + m)*v(z)**(k + m))"
      ]
     },
     "execution_count": 176,
     "metadata": {},
     "output_type": "execute_result"
    },
    {
     "data": {
      "text/latex": [
       "$\\displaystyle f^{k}{\\left(z \\right)} = u^{k + m}{\\left(z \\right)} v^{k + n}{\\left(z \\right)}$"
      ],
      "text/plain": [
       "Eq(f(z)**k, u(z)**(k + m)*v(z)**(k + n))"
      ]
     },
     "execution_count": 176,
     "metadata": {},
     "output_type": "execute_result"
    },
    {
     "data": {
      "text/latex": [
       "$\\displaystyle h^{n}{\\left(z \\right)} = u^{j + n}{\\left(z \\right)} v^{k + n}{\\left(z \\right)}$"
      ],
      "text/plain": [
       "Eq(h(z)**n, u(z)**(j + n)*v(z)**(k + n))"
      ]
     },
     "execution_count": 176,
     "metadata": {},
     "output_type": "execute_result"
    }
   ],
   "source": [
    "Eq(f(z)**j, u(z)**(m+j)*v(z)**(n+j))\n",
    "Eq(h(z)**m, u(z)**(m+j)*v(z)**(k+m))\n",
    "Eq(f(z)**k, u(z)**(m+k)*v(z)**(n+k))\n",
    "Eq(h(z)**n, u(z)**(n+j)*v(z)**(n+k))"
   ]
  },
  {
   "cell_type": "code",
   "execution_count": 181,
   "id": "c5332bdb-f0c1-4644-9247-71cec85dee7c",
   "metadata": {},
   "outputs": [
    {
     "data": {
      "text/latex": [
       "$\\displaystyle u^{j - k - m + n}{\\left(z \\right)} = f^{- k}{\\left(z \\right)} h^{n}{\\left(z \\right)}$"
      ],
      "text/plain": [
       "Eq(u(z)**(j - k - m + n), h(z)**n/f(z)**k)"
      ]
     },
     "execution_count": 181,
     "metadata": {},
     "output_type": "execute_result"
    },
    {
     "data": {
      "text/latex": [
       "$\\displaystyle v^{j - k - m + n}{\\left(z \\right)} = f^{j}{\\left(z \\right)} h^{- m}{\\left(z \\right)}$"
      ],
      "text/plain": [
       "Eq(v(z)**(j - k - m + n), f(z)**j/h(z)**m)"
      ]
     },
     "execution_count": 181,
     "metadata": {},
     "output_type": "execute_result"
    },
    {
     "data": {
      "text/latex": [
       "$\\displaystyle u{\\left(z \\right)} = f^{- \\frac{k}{j - k - m + n}}{\\left(z \\right)} h^{\\frac{n}{j - k - m + n}}{\\left(z \\right)}$"
      ],
      "text/plain": [
       "Eq(u(z), h(z)**(n/(j - k - m + n))/f(z)**(k/(j - k - m + n)))"
      ]
     },
     "execution_count": 181,
     "metadata": {},
     "output_type": "execute_result"
    },
    {
     "data": {
      "text/latex": [
       "$\\displaystyle v{\\left(z \\right)} = f^{\\frac{j}{j - k - m + n}}{\\left(z \\right)} h^{- \\frac{m}{j - k - m + n}}{\\left(z \\right)}$"
      ],
      "text/plain": [
       "Eq(v(z), f(z)**(j/(j - k - m + n))/h(z)**(m/(j - k - m + n)))"
      ]
     },
     "execution_count": 181,
     "metadata": {},
     "output_type": "execute_result"
    }
   ],
   "source": [
    "\n",
    "u_jknm_1 = Eq(u(z)**(j+n-k-m), h(z)**n/f(z)**k)\n",
    "v_jknm_1 = Eq(v(z)**(j+n-k-m), f(z)**j/h(z)**m)\n",
    "u_jknm_2 = Eq(u(z), h(z)**(n/(j+n-k-m))/f(z)**(k/(j+n-k-m)))\n",
    "v_jknm_2 = Eq(v(z), f(z)**(j/(j+n-k-m))/h(z)**(m/(j+n-k-m)))\n",
    "uv_jknm_subs = [u_jknm_2.args, v_jknm_2.args]\n",
    "u_jknm_1\n",
    "v_jknm_1\n",
    "u_jknm_2\n",
    "v_jknm_2"
   ]
  },
  {
   "cell_type": "code",
   "execution_count": 179,
   "id": "b02985b8-68d9-44e2-a3a3-cb4407d1dac6",
   "metadata": {
    "scrolled": true
   },
   "outputs": [
    {
     "data": {
      "text/latex": [
       "$\\displaystyle \\frac{\\left(j - k - m + n\\right) u^{j - k - m + n}{\\left(z \\right)} \\frac{d}{d z} u{\\left(z \\right)}}{u{\\left(z \\right)}} = - \\frac{k f^{- k}{\\left(z \\right)} h^{n}{\\left(z \\right)} \\frac{d}{d z} f{\\left(z \\right)}}{f{\\left(z \\right)}} + \\frac{n f^{- k}{\\left(z \\right)} h^{n}{\\left(z \\right)} \\frac{d}{d z} h{\\left(z \\right)}}{h{\\left(z \\right)}}$"
      ],
      "text/plain": [
       "Eq((j - k - m + n)*u(z)**(j - k - m + n)*Derivative(u(z), z)/u(z), -k*h(z)**n*Derivative(f(z), z)/(f(z)*f(z)**k) + n*h(z)**n*Derivative(h(z), z)/(f(z)**k*h(z)))"
      ]
     },
     "execution_count": 179,
     "metadata": {},
     "output_type": "execute_result"
    }
   ],
   "source": [
    "Eq(diff(u_jknm.lhs, z), diff(u_jknm.rhs, z))"
   ]
  },
  {
   "cell_type": "code",
   "execution_count": 187,
   "id": "bc9f64a5-fc42-46a3-8dce-a1ab8872fa0e",
   "metadata": {},
   "outputs": [
    {
     "data": {
      "text/latex": [
       "$\\displaystyle \\frac{d}{d z} f{\\left(z \\right)} = \\frac{\\left(- j m f^{\\frac{2 j + k - m + n}{j - k - m + n}}{\\left(z \\right)} h^{\\frac{2 m + n}{j - k - m + n}}{\\left(z \\right)} - j m f^{\\frac{4 j + 2 k - m + n}{j - k - m + n}}{\\left(z \\right)} + j n f{\\left(z \\right)} h^{\\frac{3 \\left(m + n\\right)}{j - k - m + n}}{\\left(z \\right)} + j n f^{\\frac{2 j + k - m + n}{j - k - m + n}}{\\left(z \\right)} h^{\\frac{2 m + n}{j - k - m + n}}{\\left(z \\right)} + k m f^{\\frac{2 j + k - m + n}{j - k - m + n}}{\\left(z \\right)} h^{\\frac{2 m + n}{j - k - m + n}}{\\left(z \\right)} + k m f^{\\frac{4 j + 2 k - m + n}{j - k - m + n}}{\\left(z \\right)} - k n f{\\left(z \\right)} h^{\\frac{3 \\left(m + n\\right)}{j - k - m + n}}{\\left(z \\right)} - k n f^{\\frac{2 j + k - m + n}{j - k - m + n}}{\\left(z \\right)} h^{\\frac{2 m + n}{j - k - m + n}}{\\left(z \\right)} + m^{2} f^{\\frac{2 j + k - m + n}{j - k - m + n}}{\\left(z \\right)} h^{\\frac{2 m + n}{j - k - m + n}}{\\left(z \\right)} + m^{2} f^{\\frac{4 j + 2 k - m + n}{j - k - m + n}}{\\left(z \\right)} - m n f{\\left(z \\right)} h^{\\frac{3 \\left(m + n\\right)}{j - k - m + n}}{\\left(z \\right)} - 2 m n f^{\\frac{2 j + k - m + n}{j - k - m + n}}{\\left(z \\right)} h^{\\frac{2 m + n}{j - k - m + n}}{\\left(z \\right)} - m n f^{\\frac{4 j + 2 k - m + n}{j - k - m + n}}{\\left(z \\right)} + n^{2} f{\\left(z \\right)} h^{\\frac{3 \\left(m + n\\right)}{j - k - m + n}}{\\left(z \\right)} + n^{2} f^{\\frac{2 j + k - m + n}{j - k - m + n}}{\\left(z \\right)} h^{\\frac{2 m + n}{j - k - m + n}}{\\left(z \\right)}\\right) f^{- \\frac{j + 2 k}{j - k - m + n}}{\\left(z \\right)} h^{- \\frac{2 m + n}{j - k - m + n}}{\\left(z \\right)}}{j n - k m}$"
      ],
      "text/plain": [
       "Eq(Derivative(f(z), z), (-j*m*f(z)**((2*j + k - m + n)/(j - k - m + n))*h(z)**((2*m + n)/(j - k - m + n)) - j*m*f(z)**((4*j + 2*k - m + n)/(j - k - m + n)) + j*n*f(z)*h(z)**(3*(m + n)/(j - k - m + n)) + j*n*f(z)**((2*j + k - m + n)/(j - k - m + n))*h(z)**((2*m + n)/(j - k - m + n)) + k*m*f(z)**((2*j + k - m + n)/(j - k - m + n))*h(z)**((2*m + n)/(j - k - m + n)) + k*m*f(z)**((4*j + 2*k - m + n)/(j - k - m + n)) - k*n*f(z)*h(z)**(3*(m + n)/(j - k - m + n)) - k*n*f(z)**((2*j + k - m + n)/(j - k - m + n))*h(z)**((2*m + n)/(j - k - m + n)) + m**2*f(z)**((2*j + k - m + n)/(j - k - m + n))*h(z)**((2*m + n)/(j - k - m + n)) + m**2*f(z)**((4*j + 2*k - m + n)/(j - k - m + n)) - m*n*f(z)*h(z)**(3*(m + n)/(j - k - m + n)) - 2*m*n*f(z)**((2*j + k - m + n)/(j - k - m + n))*h(z)**((2*m + n)/(j - k - m + n)) - m*n*f(z)**((4*j + 2*k - m + n)/(j - k - m + n)) + n**2*f(z)*h(z)**(3*(m + n)/(j - k - m + n)) + n**2*f(z)**((2*j + k - m + n)/(j - k - m + n))*h(z)**((2*m + n)/(j - k - m + n)))/((j*n - k*m)*f(z)**((j + 2*k)/(j - k - m + n))*h(z)**((2*m + n)/(j - k - m + n))))"
      ]
     },
     "execution_count": 187,
     "metadata": {},
     "output_type": "execute_result"
    },
    {
     "data": {
      "text/latex": [
       "$\\displaystyle \\frac{d}{d z} h{\\left(z \\right)} = \\frac{\\left(- j^{2} f^{\\frac{3 \\left(j + k\\right)}{j - k - m + n}}{\\left(z \\right)} h{\\left(z \\right)} - j^{2} f^{\\frac{j + 2 k}{j - k - m + n}}{\\left(z \\right)} h^{\\frac{j - k + m + 2 n}{j - k - m + n}}{\\left(z \\right)} + j k f^{\\frac{3 \\left(j + k\\right)}{j - k - m + n}}{\\left(z \\right)} h{\\left(z \\right)} + 2 j k f^{\\frac{j + 2 k}{j - k - m + n}}{\\left(z \\right)} h^{\\frac{j - k + m + 2 n}{j - k - m + n}}{\\left(z \\right)} + j k h^{\\frac{j - k + 2 m + 4 n}{j - k - m + n}}{\\left(z \\right)} + j m f^{\\frac{3 \\left(j + k\\right)}{j - k - m + n}}{\\left(z \\right)} h{\\left(z \\right)} + j m f^{\\frac{j + 2 k}{j - k - m + n}}{\\left(z \\right)} h^{\\frac{j - k + m + 2 n}{j - k - m + n}}{\\left(z \\right)} - j n f^{\\frac{3 \\left(j + k\\right)}{j - k - m + n}}{\\left(z \\right)} h{\\left(z \\right)} - j n f^{\\frac{j + 2 k}{j - k - m + n}}{\\left(z \\right)} h^{\\frac{j - k + m + 2 n}{j - k - m + n}}{\\left(z \\right)} - k^{2} f^{\\frac{j + 2 k}{j - k - m + n}}{\\left(z \\right)} h^{\\frac{j - k + m + 2 n}{j - k - m + n}}{\\left(z \\right)} - k^{2} h^{\\frac{j - k + 2 m + 4 n}{j - k - m + n}}{\\left(z \\right)} - k m f^{\\frac{j + 2 k}{j - k - m + n}}{\\left(z \\right)} h^{\\frac{j - k + m + 2 n}{j - k - m + n}}{\\left(z \\right)} - k m h^{\\frac{j - k + 2 m + 4 n}{j - k - m + n}}{\\left(z \\right)} + k n f^{\\frac{j + 2 k}{j - k - m + n}}{\\left(z \\right)} h^{\\frac{j - k + m + 2 n}{j - k - m + n}}{\\left(z \\right)} + k n h^{\\frac{j - k + 2 m + 4 n}{j - k - m + n}}{\\left(z \\right)}\\right) f^{- \\frac{j + 2 k}{j - k - m + n}}{\\left(z \\right)} h^{- \\frac{2 m + n}{j - k - m + n}}{\\left(z \\right)}}{j n - k m}$"
      ],
      "text/plain": [
       "Eq(Derivative(h(z), z), (-j**2*f(z)**(3*(j + k)/(j - k - m + n))*h(z) - j**2*f(z)**((j + 2*k)/(j - k - m + n))*h(z)**((j - k + m + 2*n)/(j - k - m + n)) + j*k*f(z)**(3*(j + k)/(j - k - m + n))*h(z) + 2*j*k*f(z)**((j + 2*k)/(j - k - m + n))*h(z)**((j - k + m + 2*n)/(j - k - m + n)) + j*k*h(z)**((j - k + 2*m + 4*n)/(j - k - m + n)) + j*m*f(z)**(3*(j + k)/(j - k - m + n))*h(z) + j*m*f(z)**((j + 2*k)/(j - k - m + n))*h(z)**((j - k + m + 2*n)/(j - k - m + n)) - j*n*f(z)**(3*(j + k)/(j - k - m + n))*h(z) - j*n*f(z)**((j + 2*k)/(j - k - m + n))*h(z)**((j - k + m + 2*n)/(j - k - m + n)) - k**2*f(z)**((j + 2*k)/(j - k - m + n))*h(z)**((j - k + m + 2*n)/(j - k - m + n)) - k**2*h(z)**((j - k + 2*m + 4*n)/(j - k - m + n)) - k*m*f(z)**((j + 2*k)/(j - k - m + n))*h(z)**((j - k + m + 2*n)/(j - k - m + n)) - k*m*h(z)**((j - k + 2*m + 4*n)/(j - k - m + n)) + k*n*f(z)**((j + 2*k)/(j - k - m + n))*h(z)**((j - k + m + 2*n)/(j - k - m + n)) + k*n*h(z)**((j - k + 2*m + 4*n)/(j - k - m + n)))/((j*n - k*m)*f(z)**((j + 2*k)/(j - k - m + n))*h(z)**((2*m + n)/(j - k - m + n))))"
      ]
     },
     "execution_count": 187,
     "metadata": {},
     "output_type": "execute_result"
    }
   ],
   "source": [
    "fh_power_sols = solve([du_eq.subs(uv_jknm_subs).doit(), dv_eq.subs(uv_jknm_subs).doit()],[diff(f(z),z), diff(h(z),z)])\n",
    "fh_power_sols = [Eq(k, fh_power_sols[k].simplify()) for k in fh_power_sols]\n",
    "for eq_ in fh_power_sols:\n",
    "    eq_"
   ]
  },
  {
   "cell_type": "code",
   "execution_count": 201,
   "id": "ede86b44-fd0e-4820-a9f1-6bcd142ac11f",
   "metadata": {},
   "outputs": [
    {
     "data": {
      "text/latex": [
       "$\\displaystyle \\frac{d}{d z} f{\\left(z \\right)} = - \\frac{f^{6}{\\left(z \\right)}}{h^{3}{\\left(z \\right)}} + \\frac{h^{3}{\\left(z \\right)}}{f^{3}{\\left(z \\right)}}$"
      ],
      "text/plain": [
       "Eq(Derivative(f(z), z), -f(z)**6/h(z)**3 + h(z)**3/f(z)**3)"
      ]
     },
     "execution_count": 201,
     "metadata": {},
     "output_type": "execute_result"
    },
    {
     "data": {
      "text/latex": [
       "$\\displaystyle \\frac{d}{d z} h{\\left(z \\right)} = - \\frac{2 f^{5}{\\left(z \\right)}}{h^{2}{\\left(z \\right)}} - h{\\left(z \\right)} + \\frac{h^{4}{\\left(z \\right)}}{f^{4}{\\left(z \\right)}}$"
      ],
      "text/plain": [
       "Eq(Derivative(h(z), z), -2*f(z)**5/h(z)**2 - h(z) + h(z)**4/f(z)**4)"
      ]
     },
     "execution_count": 201,
     "metadata": {},
     "output_type": "execute_result"
    }
   ],
   "source": [
    "jknm_subs = [(j,k+m-n+1)]\n",
    "for eq_ in fh_power_sols:\n",
    "    Eq(eq_.lhs, eq_.rhs.subs(jknm_subs).expand().powsimp().subs([(n,1),(m,1),(k,1)]))"
   ]
  },
  {
   "cell_type": "markdown",
   "id": "1d37bf0c-d90e-4320-8a67-8ed38a2cc7b7",
   "metadata": {},
   "source": [
    "## Higher order system 2"
   ]
  },
  {
   "cell_type": "code",
   "execution_count": 248,
   "id": "2a6cbe1b-92f7-4457-8533-d754ee1b6e66",
   "metadata": {},
   "outputs": [
    {
     "data": {
      "text/latex": [
       "$\\displaystyle f{\\left(z \\right)} = a_{1} u{\\left(z \\right)} + a_{2} v{\\left(z \\right)}$"
      ],
      "text/plain": [
       "Eq(f(z), a1*u(z) + a2*v(z))"
      ]
     },
     "execution_count": 248,
     "metadata": {},
     "output_type": "execute_result"
    },
    {
     "data": {
      "text/latex": [
       "$\\displaystyle h{\\left(z \\right)} = \\frac{b_{1} u{\\left(z \\right)} + b_{2} v{\\left(z \\right)}}{a_{1} u{\\left(z \\right)} + a_{2} v{\\left(z \\right)}}$"
      ],
      "text/plain": [
       "Eq(h(z), (b1*u(z) + b2*v(z))/(a1*u(z) + a2*v(z)))"
      ]
     },
     "execution_count": 248,
     "metadata": {},
     "output_type": "execute_result"
    }
   ],
   "source": [
    "fu_eq = Eq(f(z), (a1*u(z) + a2*v(z)))\n",
    "hv_eq = Eq(h(z), (b1*u(z) + b2*v(z))/(b3*u(z) + b4*v(z)))\n",
    "hv_eq = hv_eq.subs(b3, a1*b4/a2).simplify().subs(b4,a2)\n",
    "fu_eq\n",
    "hv_eq"
   ]
  },
  {
   "cell_type": "code",
   "execution_count": 249,
   "id": "2ab9ca80-851d-47c7-ac1f-6e019054a5b0",
   "metadata": {
    "scrolled": true
   },
   "outputs": [
    {
     "data": {
      "text/latex": [
       "$\\displaystyle u{\\left(z \\right)} = \\frac{\\left(- a_{2} h{\\left(z \\right)} + b_{2}\\right) f{\\left(z \\right)}}{a_{1} b_{2} - a_{2} b_{1}}$"
      ],
      "text/plain": [
       "Eq(u(z), (-a2*h(z) + b2)*f(z)/(a1*b2 - a2*b1))"
      ]
     },
     "execution_count": 249,
     "metadata": {},
     "output_type": "execute_result"
    },
    {
     "data": {
      "text/latex": [
       "$\\displaystyle v{\\left(z \\right)} = \\frac{\\left(a_{1} h{\\left(z \\right)} - b_{1}\\right) f{\\left(z \\right)}}{a_{1} b_{2} - a_{2} b_{1}}$"
      ],
      "text/plain": [
       "Eq(v(z), (a1*h(z) - b1)*f(z)/(a1*b2 - a2*b1))"
      ]
     },
     "execution_count": 249,
     "metadata": {},
     "output_type": "execute_result"
    }
   ],
   "source": [
    "_uv_sols = solve([fu_eq, hv_eq],[u(z),v(z)])\n",
    "u_fh_eq = Eq(u(z), _uv_sols[u(z)])\n",
    "v_fh_eq = Eq(v(z), _uv_sols[v(z)])\n",
    "ufvh_subs = [u_fh_eq.args, v_fh_eq.args]\n",
    "u_fh_eq\n",
    "v_fh_eq"
   ]
  },
  {
   "cell_type": "code",
   "execution_count": 260,
   "id": "516c3292-a85b-4117-8666-191a2a199d11",
   "metadata": {},
   "outputs": [
    {
     "data": {
      "text/latex": [
       "$\\displaystyle \\frac{d}{d z} f{\\left(z \\right)} = \\frac{2 a_{1} a_{2} f{\\left(z \\right)} h{\\left(z \\right)}}{a_{1} b_{2} - a_{2} b_{1}} - \\frac{\\left(a_{1} b_{1}^{2} - a_{2} b_{2}^{2}\\right) f^{2}{\\left(z \\right)}}{\\left(a_{1} b_{2} - a_{2} b_{1}\\right)^{2}} + \\frac{2 \\left(a_{1}^{2} b_{1} - a_{2}^{2} b_{2}\\right) f^{2}{\\left(z \\right)} h{\\left(z \\right)}}{\\left(a_{1} b_{2} - a_{2} b_{1}\\right)^{2}} - \\frac{\\left(a_{1}^{3} f{\\left(z \\right)} h^{2}{\\left(z \\right)} + a_{1}^{2} b_{2}^{2} - a_{2}^{3} f{\\left(z \\right)} h^{2}{\\left(z \\right)} - a_{2}^{2} b_{1}^{2}\\right) f{\\left(z \\right)}}{\\left(a_{1} b_{2} - a_{2} b_{1}\\right)^{2}}$"
      ],
      "text/plain": [
       "Eq(Derivative(f(z), z), 2*a1*a2*f(z)*h(z)/(a1*b2 - a2*b1) - (a1*b1**2 - a2*b2**2)*f(z)**2/(a1*b2 - a2*b1)**2 + 2*(a1**2*b1 - a2**2*b2)*f(z)**2*h(z)/(a1*b2 - a2*b1)**2 - (a1**3*f(z)*h(z)**2 + a1**2*b2**2 - a2**3*f(z)*h(z)**2 - a2**2*b1**2)*f(z)/(a1*b2 - a2*b1)**2)"
      ]
     },
     "execution_count": 260,
     "metadata": {},
     "output_type": "execute_result"
    },
    {
     "data": {
      "text/latex": [
       "$\\displaystyle \\frac{d}{d z} h{\\left(z \\right)} = - \\frac{2 a_{1} a_{2} h^{2}{\\left(z \\right)}}{a_{1} b_{2} - a_{2} b_{1}} - \\frac{2 b_{1} b_{2}}{a_{1} b_{2} - a_{2} b_{1}} - \\frac{\\left(b_{1} - b_{2}\\right) \\left(b_{1}^{2} + b_{1} b_{2} + b_{2}^{2}\\right) f{\\left(z \\right)}}{\\left(a_{1} b_{2} - a_{2} b_{1}\\right)^{2}} + \\frac{3 \\left(a_{1} b_{1}^{2} - a_{2} b_{2}^{2}\\right) f{\\left(z \\right)} h{\\left(z \\right)}}{\\left(a_{1} b_{2} - a_{2} b_{1}\\right)^{2}} - \\frac{3 \\left(a_{1}^{2} b_{1} - a_{2}^{2} b_{2}\\right) f{\\left(z \\right)} h^{2}{\\left(z \\right)}}{\\left(a_{1} b_{2} - a_{2} b_{1}\\right)^{2}} + \\frac{\\left(a_{1}^{3} f{\\left(z \\right)} h^{2}{\\left(z \\right)} + 2 a_{1}^{2} b_{2}^{2} - a_{2}^{3} f{\\left(z \\right)} h^{2}{\\left(z \\right)} - 2 a_{2}^{2} b_{1}^{2}\\right) h{\\left(z \\right)}}{\\left(a_{1} b_{2} - a_{2} b_{1}\\right)^{2}}$"
      ],
      "text/plain": [
       "Eq(Derivative(h(z), z), -2*a1*a2*h(z)**2/(a1*b2 - a2*b1) - 2*b1*b2/(a1*b2 - a2*b1) - (b1 - b2)*(b1**2 + b1*b2 + b2**2)*f(z)/(a1*b2 - a2*b1)**2 + 3*(a1*b1**2 - a2*b2**2)*f(z)*h(z)/(a1*b2 - a2*b1)**2 - 3*(a1**2*b1 - a2**2*b2)*f(z)*h(z)**2/(a1*b2 - a2*b1)**2 + (a1**3*f(z)*h(z)**2 + 2*a1**2*b2**2 - a2**3*f(z)*h(z)**2 - 2*a2**2*b1**2)*h(z)/(a1*b2 - a2*b1)**2)"
      ]
     },
     "execution_count": 260,
     "metadata": {},
     "output_type": "execute_result"
    }
   ],
   "source": [
    "df_dh_sols = solve([du_eq.subs(ufvh_subs).doit(), dv_eq.subs(ufvh_subs).doit()], [diff(f(z),z), diff(h(z),z)]) \n",
    "df = Eq(diff(f(z),z),df_dh_sols[diff(f(z),z)].expand().collect([f(z),h(z),f(z)*h(z), f(z)**2*h(z), f(z)*h(z)**2],factor))\n",
    "dh = Eq(diff(h(z),z), df_dh_sols[diff(h(z),z)].expand().collect([f(z),h(z),f(z)*h(z), f(z)**2*h(z), f(z)*h(z)**2, f(z)*h(z)**3],factor))\n",
    "df\n",
    "dh"
   ]
  },
  {
   "cell_type": "code",
   "execution_count": 263,
   "id": "4c68c0b1-e9be-45df-adec-3f3a279d2a13",
   "metadata": {},
   "outputs": [
    {
     "data": {
      "text/latex": [
       "$\\displaystyle \\frac{d}{d z} f{\\left(z \\right)} = - \\frac{a_{1} f^{2}{\\left(z \\right)} h^{2}{\\left(z \\right)}}{b_{2}^{2}} + \\frac{2 a_{2} f{\\left(z \\right)} h{\\left(z \\right)}}{b_{2}} - f{\\left(z \\right)} + \\frac{a_{2}^{3} f^{2}{\\left(z \\right)} h^{2}{\\left(z \\right)}}{a_{1}^{2} b_{2}^{2}} - \\frac{2 a_{2}^{2} f^{2}{\\left(z \\right)} h{\\left(z \\right)}}{a_{1}^{2} b_{2}} + \\frac{a_{2} f^{2}{\\left(z \\right)}}{a_{1}^{2}}$"
      ],
      "text/plain": [
       "Eq(Derivative(f(z), z), -a1*f(z)**2*h(z)**2/b2**2 + 2*a2*f(z)*h(z)/b2 - f(z) + a2**3*f(z)**2*h(z)**2/(a1**2*b2**2) - 2*a2**2*f(z)**2*h(z)/(a1**2*b2) + a2*f(z)**2/a1**2)"
      ]
     },
     "execution_count": 263,
     "metadata": {},
     "output_type": "execute_result"
    },
    {
     "data": {
      "text/latex": [
       "$\\displaystyle \\frac{d}{d z} h{\\left(z \\right)} = \\frac{a_{1} f{\\left(z \\right)} h^{3}{\\left(z \\right)}}{b_{2}^{2}} - \\frac{2 a_{2} h^{2}{\\left(z \\right)}}{b_{2}} + 2 h{\\left(z \\right)} - \\frac{a_{2}^{3} f{\\left(z \\right)} h^{3}{\\left(z \\right)}}{a_{1}^{2} b_{2}^{2}} + \\frac{3 a_{2}^{2} f{\\left(z \\right)} h^{2}{\\left(z \\right)}}{a_{1}^{2} b_{2}} - \\frac{3 a_{2} f{\\left(z \\right)} h{\\left(z \\right)}}{a_{1}^{2}} + \\frac{b_{2} f{\\left(z \\right)}}{a_{1}^{2}}$"
      ],
      "text/plain": [
       "Eq(Derivative(h(z), z), a1*f(z)*h(z)**3/b2**2 - 2*a2*h(z)**2/b2 + 2*h(z) - a2**3*f(z)*h(z)**3/(a1**2*b2**2) + 3*a2**2*f(z)*h(z)**2/(a1**2*b2) - 3*a2*f(z)*h(z)/a1**2 + b2*f(z)/a1**2)"
      ]
     },
     "execution_count": 263,
     "metadata": {},
     "output_type": "execute_result"
    }
   ],
   "source": [
    "df.subs(b1,0).expand()\n",
    "dh.subs(b1,0).expand()"
   ]
  },
  {
   "cell_type": "code",
   "execution_count": 363,
   "id": "ff81a089-e0ea-43ae-9d58-c7730013428b",
   "metadata": {},
   "outputs": [
    {
     "data": {
      "text/latex": [
       "$\\displaystyle \\frac{\\left(- a_{1}^{2} b_{1} f{\\left(z \\right)} h^{2}{\\left(z \\right)} + a_{1}^{2} b_{2}^{2} h{\\left(z \\right)} + 2 a_{1} b_{1}^{2} f{\\left(z \\right)} h{\\left(z \\right)} - 2 a_{1} b_{1} b_{2}^{2} - a_{2}^{2} b_{1}^{2} h{\\left(z \\right)} + a_{2}^{2} b_{2} f{\\left(z \\right)} h^{2}{\\left(z \\right)} + 2 a_{2} b_{1}^{2} b_{2} - 2 a_{2} b_{2}^{2} f{\\left(z \\right)} h{\\left(z \\right)} - b_{1}^{3} f{\\left(z \\right)} + b_{2}^{3} f{\\left(z \\right)}\\right) f{\\left(z \\right)}}{a_{1}^{2} b_{2}^{2} - 2 a_{1} a_{2} b_{1} b_{2} + a_{2}^{2} b_{1}^{2}}$"
      ],
      "text/plain": [
       "(-a1**2*b1*f(z)*h(z)**2 + a1**2*b2**2*h(z) + 2*a1*b1**2*f(z)*h(z) - 2*a1*b1*b2**2 - a2**2*b1**2*h(z) + a2**2*b2*f(z)*h(z)**2 + 2*a2*b1**2*b2 - 2*a2*b2**2*f(z)*h(z) - b1**3*f(z) + b2**3*f(z))*f(z)/(a1**2*b2**2 - 2*a1*a2*b1*b2 + a2**2*b1**2)"
      ]
     },
     "execution_count": 363,
     "metadata": {},
     "output_type": "execute_result"
    }
   ],
   "source": [
    "(df.rhs*h(z)+dh.rhs*f(z)).simplify()"
   ]
  },
  {
   "cell_type": "code",
   "execution_count": 266,
   "id": "0db0d48f-f8b0-40dd-bd95-b5e3812b254c",
   "metadata": {},
   "outputs": [
    {
     "data": {
      "text/latex": [
       "$\\displaystyle f{\\left(z \\right)} = \\frac{\\left(a_{1} b_{2} - a_{2} b_{1}\\right)^{2} \\frac{d}{d z} h{\\left(z \\right)} + 2 \\left(a_{1} b_{2} - a_{2} b_{1}\\right) \\left(a_{1} h{\\left(z \\right)} - b_{1}\\right) \\left(a_{2} h{\\left(z \\right)} - b_{2}\\right)}{\\left(a_{1} h{\\left(z \\right)} - a_{2} h{\\left(z \\right)} - b_{1} + b_{2}\\right) \\left(a_{1}^{2} h^{2}{\\left(z \\right)} + a_{1} a_{2} h^{2}{\\left(z \\right)} - 2 a_{1} b_{1} h{\\left(z \\right)} - a_{1} b_{2} h{\\left(z \\right)} + a_{2}^{2} h^{2}{\\left(z \\right)} - a_{2} b_{1} h{\\left(z \\right)} - 2 a_{2} b_{2} h{\\left(z \\right)} + b_{1}^{2} + b_{1} b_{2} + b_{2}^{2}\\right)}$"
      ],
      "text/plain": [
       "Eq(f(z), ((a1*b2 - a2*b1)**2*Derivative(h(z), z) + 2*(a1*b2 - a2*b1)*(a1*h(z) - b1)*(a2*h(z) - b2))/((a1*h(z) - a2*h(z) - b1 + b2)*(a1**2*h(z)**2 + a1*a2*h(z)**2 - 2*a1*b1*h(z) - a1*b2*h(z) + a2**2*h(z)**2 - a2*b1*h(z) - 2*a2*b2*h(z) + b1**2 + b1*b2 + b2**2)))"
      ]
     },
     "execution_count": 266,
     "metadata": {},
     "output_type": "execute_result"
    }
   ],
   "source": [
    "f_h_df = Eq(f(z), solve(dh,f(z))[0].collect(diff(h(z),z),factor))\n",
    "f_h_df"
   ]
  },
  {
   "cell_type": "code",
   "execution_count": 281,
   "id": "4ad64f3f-04f9-4a52-ab47-839ea5fa94ce",
   "metadata": {},
   "outputs": [
    {
     "data": {
      "text/latex": [
       "$\\displaystyle - 2 a_{1} a_{2} \\left(a_{1} + a_{2}\\right) \\left(a_{1} b_{2} - a_{2} b_{1}\\right)^{2} \\left(a_{1}^{2} - a_{1} a_{2} + a_{2}^{2}\\right) h^{5}{\\left(z \\right)} + 2 b_{1} b_{2} \\left(b_{1} + b_{2}\\right) \\left(a_{1} b_{2} - a_{2} b_{1}\\right)^{2} \\left(b_{1}^{2} - b_{1} b_{2} + b_{2}^{2}\\right) - \\left(b_{1} - b_{2}\\right) \\left(a_{1} b_{2} - a_{2} b_{1}\\right)^{3} \\left(b_{1}^{2} + b_{1} b_{2} + b_{2}^{2}\\right) \\frac{d^{2}}{d z^{2}} h{\\left(z \\right)} - \\left(b_{1} + b_{2}\\right) \\left(a_{1} b_{2} - a_{2} b_{1}\\right)^{3} \\left(b_{1}^{2} - b_{1} b_{2} + b_{2}^{2}\\right) \\frac{d}{d z} h{\\left(z \\right)} - 2 \\left(a_{1} b_{1}^{2} - a_{2} b_{2}^{2}\\right) \\left(a_{1} b_{2} - a_{2} b_{1}\\right)^{3} \\left(\\frac{d}{d z} h{\\left(z \\right)}\\right)^{2} + 2 \\left(a_{1} b_{2} - a_{2} b_{1}\\right)^{2} \\left(a_{1}^{4} b_{2} + 4 a_{1}^{3} a_{2} b_{1} + 4 a_{1} a_{2}^{3} b_{2} + a_{2}^{4} b_{1}\\right) h^{4}{\\left(z \\right)} + \\left(a_{1} b_{2} - a_{2} b_{1}\\right)^{2} \\left(a_{1}^{4} b_{2} \\frac{d}{d z} h{\\left(z \\right)} + a_{1}^{4} b_{2} \\frac{d^{2}}{d z^{2}} h{\\left(z \\right)} - a_{1}^{3} a_{2} b_{1} \\frac{d}{d z} h{\\left(z \\right)} - a_{1}^{3} a_{2} b_{1} \\frac{d^{2}}{d z^{2}} h{\\left(z \\right)} - 8 a_{1}^{3} b_{1} b_{2} - 12 a_{1}^{2} a_{2} b_{1}^{2} + a_{1} a_{2}^{3} b_{2} \\frac{d}{d z} h{\\left(z \\right)} - a_{1} a_{2}^{3} b_{2} \\frac{d^{2}}{d z^{2}} h{\\left(z \\right)} - 12 a_{1} a_{2}^{2} b_{2}^{2} - a_{2}^{4} b_{1} \\frac{d}{d z} h{\\left(z \\right)} + a_{2}^{4} b_{1} \\frac{d^{2}}{d z^{2}} h{\\left(z \\right)} - 8 a_{2}^{3} b_{1} b_{2}\\right) h^{3}{\\left(z \\right)} - \\left(a_{1} b_{2} - a_{2} b_{1}\\right)^{2} \\cdot \\left(2 a_{1}^{4} b_{2} \\left(\\frac{d}{d z} h{\\left(z \\right)}\\right)^{2} - 2 a_{1}^{3} a_{2} b_{1} \\left(\\frac{d}{d z} h{\\left(z \\right)}\\right)^{2} + 3 a_{1}^{3} b_{1} b_{2} \\frac{d}{d z} h{\\left(z \\right)} + 3 a_{1}^{3} b_{1} b_{2} \\frac{d^{2}}{d z^{2}} h{\\left(z \\right)} - 3 a_{1}^{2} a_{2} b_{1}^{2} \\frac{d}{d z} h{\\left(z \\right)} - 3 a_{1}^{2} a_{2} b_{1}^{2} \\frac{d^{2}}{d z^{2}} h{\\left(z \\right)} - 12 a_{1}^{2} b_{1}^{2} b_{2} - 2 a_{1} a_{2}^{3} b_{2} \\left(\\frac{d}{d z} h{\\left(z \\right)}\\right)^{2} + 3 a_{1} a_{2}^{2} b_{2}^{2} \\frac{d}{d z} h{\\left(z \\right)} - 3 a_{1} a_{2}^{2} b_{2}^{2} \\frac{d^{2}}{d z^{2}} h{\\left(z \\right)} - 8 a_{1} a_{2} b_{1}^{3} - 8 a_{1} a_{2} b_{2}^{3} + 2 a_{2}^{4} b_{1} \\left(\\frac{d}{d z} h{\\left(z \\right)}\\right)^{2} - 3 a_{2}^{3} b_{1} b_{2} \\frac{d}{d z} h{\\left(z \\right)} + 3 a_{2}^{3} b_{1} b_{2} \\frac{d^{2}}{d z^{2}} h{\\left(z \\right)} - 12 a_{2}^{2} b_{1} b_{2}^{2}\\right) h^{2}{\\left(z \\right)} + \\left(a_{1} b_{2} - a_{2} b_{1}\\right)^{2} \\cdot \\left(4 a_{1}^{3} b_{1} b_{2} \\left(\\frac{d}{d z} h{\\left(z \\right)}\\right)^{2} - 4 a_{1}^{2} a_{2} b_{1}^{2} \\left(\\frac{d}{d z} h{\\left(z \\right)}\\right)^{2} + 3 a_{1}^{2} b_{1}^{2} b_{2} \\frac{d}{d z} h{\\left(z \\right)} + 3 a_{1}^{2} b_{1}^{2} b_{2} \\frac{d^{2}}{d z^{2}} h{\\left(z \\right)} - 4 a_{1} a_{2}^{2} b_{2}^{2} \\left(\\frac{d}{d z} h{\\left(z \\right)}\\right)^{2} - 3 a_{1} a_{2} b_{1}^{3} \\frac{d}{d z} h{\\left(z \\right)} - 3 a_{1} a_{2} b_{1}^{3} \\frac{d^{2}}{d z^{2}} h{\\left(z \\right)} + 3 a_{1} a_{2} b_{2}^{3} \\frac{d}{d z} h{\\left(z \\right)} - 3 a_{1} a_{2} b_{2}^{3} \\frac{d^{2}}{d z^{2}} h{\\left(z \\right)} - 8 a_{1} b_{1}^{3} b_{2} - 2 a_{1} b_{2}^{4} + 4 a_{2}^{3} b_{1} b_{2} \\left(\\frac{d}{d z} h{\\left(z \\right)}\\right)^{2} - 3 a_{2}^{2} b_{1} b_{2}^{2} \\frac{d}{d z} h{\\left(z \\right)} + 3 a_{2}^{2} b_{1} b_{2}^{2} \\frac{d^{2}}{d z^{2}} h{\\left(z \\right)} - 2 a_{2} b_{1}^{4} - 8 a_{2} b_{1} b_{2}^{3}\\right) h{\\left(z \\right)} = 0$"
      ],
      "text/plain": [
       "Eq(-2*a1*a2*(a1 + a2)*(a1*b2 - a2*b1)**2*(a1**2 - a1*a2 + a2**2)*h(z)**5 + 2*b1*b2*(b1 + b2)*(a1*b2 - a2*b1)**2*(b1**2 - b1*b2 + b2**2) - (b1 - b2)*(a1*b2 - a2*b1)**3*(b1**2 + b1*b2 + b2**2)*Derivative(h(z), (z, 2)) - (b1 + b2)*(a1*b2 - a2*b1)**3*(b1**2 - b1*b2 + b2**2)*Derivative(h(z), z) - 2*(a1*b1**2 - a2*b2**2)*(a1*b2 - a2*b1)**3*Derivative(h(z), z)**2 + 2*(a1*b2 - a2*b1)**2*(a1**4*b2 + 4*a1**3*a2*b1 + 4*a1*a2**3*b2 + a2**4*b1)*h(z)**4 + (a1*b2 - a2*b1)**2*(a1**4*b2*Derivative(h(z), z) + a1**4*b2*Derivative(h(z), (z, 2)) - a1**3*a2*b1*Derivative(h(z), z) - a1**3*a2*b1*Derivative(h(z), (z, 2)) - 8*a1**3*b1*b2 - 12*a1**2*a2*b1**2 + a1*a2**3*b2*Derivative(h(z), z) - a1*a2**3*b2*Derivative(h(z), (z, 2)) - 12*a1*a2**2*b2**2 - a2**4*b1*Derivative(h(z), z) + a2**4*b1*Derivative(h(z), (z, 2)) - 8*a2**3*b1*b2)*h(z)**3 - (a1*b2 - a2*b1)**2*(2*a1**4*b2*Derivative(h(z), z)**2 - 2*a1**3*a2*b1*Derivative(h(z), z)**2 + 3*a1**3*b1*b2*Derivative(h(z), z) + 3*a1**3*b1*b2*Derivative(h(z), (z, 2)) - 3*a1**2*a2*b1**2*Derivative(h(z), z) - 3*a1**2*a2*b1**2*Derivative(h(z), (z, 2)) - 12*a1**2*b1**2*b2 - 2*a1*a2**3*b2*Derivative(h(z), z)**2 + 3*a1*a2**2*b2**2*Derivative(h(z), z) - 3*a1*a2**2*b2**2*Derivative(h(z), (z, 2)) - 8*a1*a2*b1**3 - 8*a1*a2*b2**3 + 2*a2**4*b1*Derivative(h(z), z)**2 - 3*a2**3*b1*b2*Derivative(h(z), z) + 3*a2**3*b1*b2*Derivative(h(z), (z, 2)) - 12*a2**2*b1*b2**2)*h(z)**2 + (a1*b2 - a2*b1)**2*(4*a1**3*b1*b2*Derivative(h(z), z)**2 - 4*a1**2*a2*b1**2*Derivative(h(z), z)**2 + 3*a1**2*b1**2*b2*Derivative(h(z), z) + 3*a1**2*b1**2*b2*Derivative(h(z), (z, 2)) - 4*a1*a2**2*b2**2*Derivative(h(z), z)**2 - 3*a1*a2*b1**3*Derivative(h(z), z) - 3*a1*a2*b1**3*Derivative(h(z), (z, 2)) + 3*a1*a2*b2**3*Derivative(h(z), z) - 3*a1*a2*b2**3*Derivative(h(z), (z, 2)) - 8*a1*b1**3*b2 - 2*a1*b2**4 + 4*a2**3*b1*b2*Derivative(h(z), z)**2 - 3*a2**2*b1*b2**2*Derivative(h(z), z) + 3*a2**2*b1*b2**2*Derivative(h(z), (z, 2)) - 2*a2*b1**4 - 8*a2*b1*b2**3)*h(z), 0)"
      ]
     },
     "execution_count": 281,
     "metadata": {},
     "output_type": "execute_result"
    }
   ],
   "source": [
    "dh_diff_2 = df.subs(*f_h_df.args).doit()\n",
    "dh_diff_2 = Eq((dh_diff_2.lhs - dh_diff_2.rhs).simplify(),0)\n",
    "dh_diff_2 = Eq(dh_diff_2.lhs*fraction(dh_diff_2.lhs)[1].simplify(),0)\n",
    "dh_diff_2 = Eq(dh_diff_2.lhs.expand().collect([h(z),diff(h(z),z), diff(h(z),z,2)],factor),0)\n",
    "dh_diff_2"
   ]
  },
  {
   "cell_type": "code",
   "execution_count": 387,
   "id": "986306bc-0245-4289-9a65-4d63834683c7",
   "metadata": {},
   "outputs": [
    {
     "data": {
      "text/latex": [
       "$\\displaystyle - 4 \\left(a_{1} - a_{2}\\right) \\left(a_{1}^{2} + a_{1} a_{2} + a_{2}^{2}\\right) R^{9}{\\left(z \\right)} + 2 \\left(a_{1} \\kappa - a_{2} \\kappa - b_{1} + b_{2}\\right) \\left(a_{1}^{2} \\kappa^{2} + a_{1} a_{2} \\kappa^{2} - 2 a_{1} b_{1} \\kappa - a_{1} b_{2} \\kappa + a_{2}^{2} \\kappa^{2} - a_{2} b_{1} \\kappa - 2 a_{2} b_{2} \\kappa + b_{1}^{2} + b_{1} b_{2} + b_{2}^{2}\\right) - 6 \\left(a_{1}^{3} \\kappa - a_{1}^{2} b_{1} - a_{2}^{3} \\kappa + a_{2}^{2} b_{2}\\right) R^{6}{\\left(z \\right)}$"
      ],
      "text/plain": [
       "-4*(a1 - a2)*(a1**2 + a1*a2 + a2**2)*R(z)**9 + 2*(a1*kappa - a2*kappa - b1 + b2)*(a1**2*kappa**2 + a1*a2*kappa**2 - 2*a1*b1*kappa - a1*b2*kappa + a2**2*kappa**2 - a2*b1*kappa - 2*a2*b2*kappa + b1**2 + b1*b2 + b2**2) - 6*(a1**3*kappa - a1**2*b1 - a2**3*kappa + a2**2*b2)*R(z)**6"
      ]
     },
     "execution_count": 387,
     "metadata": {},
     "output_type": "execute_result"
    }
   ],
   "source": [
    "xxx = ((dh_diff_2.subs(h(z),R(z)**x+kappa).doit().lhs.expand()\n",
    " .coeff(diff(R(z),z)**2)*(R(z)**2/(a1*b2-a2*b1)**3/x/R(z)**x)).simplify().expand().collect(R(z)**x,factor)).subs(x,3)\n",
    "xxx"
   ]
  },
  {
   "cell_type": "code",
   "execution_count": 388,
   "id": "e3296ca5-9974-451f-84c1-ba44bf6d537e",
   "metadata": {},
   "outputs": [
    {
     "data": {
      "text/latex": [
       "$\\displaystyle 3 a_{1}^{2} \\left(- a_{1} \\kappa - \\sqrt{3} i a_{1} \\kappa + a_{2} \\kappa + \\sqrt{3} i a_{2} \\kappa + 3 b_{1} + \\sqrt{3} i b_{1}\\right) R^{6}{\\left(z \\right)} + \\frac{\\kappa \\left(a_{1} \\cdot \\left(1 - \\sqrt{3} i\\right) + 2 a_{2}\\right) \\left(2 a_{1}^{2} \\kappa^{2} + 2 \\sqrt{3} i a_{1}^{2} \\kappa^{2} - 4 a_{1} a_{2} \\kappa^{2} - 2 \\sqrt{3} i a_{1} a_{2} \\kappa^{2} - 9 a_{1} b_{1} \\kappa - 3 \\sqrt{3} i a_{1} b_{1} \\kappa + 2 a_{2}^{2} \\kappa^{2} + 6 a_{2} b_{1} \\kappa + 6 b_{1}^{2}\\right)}{2}$"
      ],
      "text/plain": [
       "3*a1**2*(-a1*kappa - sqrt(3)*I*a1*kappa + a2*kappa + sqrt(3)*I*a2*kappa + 3*b1 + sqrt(3)*I*b1)*R(z)**6 + kappa*(a1*(1 - sqrt(3)*I) + 2*a2)*(2*a1**2*kappa**2 + 2*sqrt(3)*I*a1**2*kappa**2 - 4*a1*a2*kappa**2 - 2*sqrt(3)*I*a1*a2*kappa**2 - 9*a1*b1*kappa - 3*sqrt(3)*I*a1*b1*kappa + 2*a2**2*kappa**2 + 6*a2*b1*kappa + 6*b1**2)/2"
      ]
     },
     "execution_count": 388,
     "metadata": {},
     "output_type": "execute_result"
    }
   ],
   "source": [
    "xxx.subs(a2, solve(a1**2+a1*a2+a2**2, a2)[0]).subs(b2, solve(-b1+b2+a1*kappa-a2*kappa, b2)[0]).collect(R(z),simplify)"
   ]
  },
  {
   "cell_type": "code",
   "execution_count": 393,
   "id": "8f92c4d2-a28c-4756-939a-ac2094a98470",
   "metadata": {},
   "outputs": [
    {
     "data": {
      "text/latex": [
       "$\\displaystyle 0$"
      ],
      "text/plain": [
       "0"
      ]
     },
     "execution_count": 393,
     "metadata": {},
     "output_type": "execute_result"
    }
   ],
   "source": [
    "(a1*b2-a2*b1).subs(a2, solve(a1**2+a1*a2+a2**2, a2)[0]).subs(b2, solve(-b1+b2+a1*kappa-a2*kappa, b2)[0]).subs(kappa,b1*(3 + sqrt(3)*I)/(a1 + sqrt(3)*I*a1 - a2 - sqrt(3)*I*a2)).simplify()"
   ]
  },
  {
   "cell_type": "code",
   "execution_count": 391,
   "id": "7e3aa9d5-23af-4468-b1ad-991f18e773e3",
   "metadata": {},
   "outputs": [
    {
     "data": {
      "text/plain": [
       "[b1*(3 + sqrt(3)*I)/(a1 + sqrt(3)*I*a1 - a2 - sqrt(3)*I*a2)]"
      ]
     },
     "execution_count": 391,
     "metadata": {},
     "output_type": "execute_result"
    }
   ],
   "source": [
    "solve(xxx.subs(a2, solve(a1**2+a1*a2+a2**2, a2)[0]).subs(b2, solve(-b1+b2+a1*kappa-a2*kappa, b2)[0]).collect(R(z),simplify).coeff(R(z)**6),kappa)"
   ]
  },
  {
   "cell_type": "code",
   "execution_count": 174,
   "id": "834e970e-f744-449f-b414-2d17bb7aca8b",
   "metadata": {},
   "outputs": [
    {
     "data": {
      "text/latex": [
       "$\\displaystyle \\frac{d}{d z} f{\\left(z \\right)} = \\frac{\\left(a_{2} - a_{4} f{\\left(z \\right)}\\right) \\left(- a_{1} b_{2}^{2} + \\left(a_{2} - a_{4} f{\\left(z \\right)}\\right) \\left(b_{1} - b_{3} h{\\left(z \\right)}\\right)^{2}\\right)}{a_{1} a_{4} b_{2}^{2}}$"
      ],
      "text/plain": [
       "Eq(Derivative(f(z), z), (a2 - a4*f(z))*(-a1*b2**2 + (a2 - a4*f(z))*(b1 - b3*h(z))**2)/(a1*a4*b2**2))"
      ]
     },
     "execution_count": 174,
     "metadata": {},
     "output_type": "execute_result"
    },
    {
     "data": {
      "text/latex": [
       "$\\displaystyle \\frac{d}{d z} h{\\left(z \\right)} = \\frac{a_{1}^{2} b_{2}}{b_{3} \\left(a_{2} - a_{4} f{\\left(z \\right)}\\right)^{2}} - \\frac{b_{1}}{b_{3}} + h{\\left(z \\right)}$"
      ],
      "text/plain": [
       "Eq(Derivative(h(z), z), a1**2*b2/(b3*(a2 - a4*f(z))**2) - b1/b3 + h(z))"
      ]
     },
     "execution_count": 174,
     "metadata": {},
     "output_type": "execute_result"
    }
   ],
   "source": [
    "fh_cancel_subs = [(b4,0),(a3,0)]\n",
    "df.subs(fh_cancel_subs).simplify()\n",
    "dh.subs(fh_cancel_subs).simplify()"
   ]
  },
  {
   "cell_type": "code",
   "execution_count": 175,
   "id": "0f14f69c-fdd2-410b-93b2-52c5c096965f",
   "metadata": {},
   "outputs": [
    {
     "data": {
      "text/latex": [
       "$\\displaystyle u{\\left(z \\right)} = - \\frac{a_{1}}{a_{2} - a_{4} f{\\left(z \\right)}}$"
      ],
      "text/plain": [
       "Eq(u(z), -a1/(a2 - a4*f(z)))"
      ]
     },
     "execution_count": 175,
     "metadata": {},
     "output_type": "execute_result"
    },
    {
     "data": {
      "text/latex": [
       "$\\displaystyle v{\\left(z \\right)} = \\frac{- b_{1} + b_{3} h{\\left(z \\right)}}{b_{2}}$"
      ],
      "text/plain": [
       "Eq(v(z), (-b1 + b3*h(z))/b2)"
      ]
     },
     "execution_count": 175,
     "metadata": {},
     "output_type": "execute_result"
    }
   ],
   "source": [
    "uf_eq.subs(fh_cancel_subs).simplify()\n",
    "vh_eq.subs(fh_cancel_subs).simplify()"
   ]
  },
  {
   "cell_type": "code",
   "execution_count": 337,
   "id": "792d496a-cd2f-4d17-ae7c-f6b2ee7e7da8",
   "metadata": {},
   "outputs": [
    {
     "data": {
      "text/latex": [
       "$\\displaystyle \\frac{d}{d z} f{\\left(z \\right)} = - 2 f{\\left(z \\right)} h{\\left(z \\right)} + h{\\left(z \\right)}$"
      ],
      "text/plain": [
       "Eq(Derivative(f(z), z), -2*f(z)*h(z) + h(z))"
      ]
     },
     "execution_count": 337,
     "metadata": {},
     "output_type": "execute_result"
    },
    {
     "data": {
      "text/latex": [
       "$\\displaystyle \\frac{d}{d z} h{\\left(z \\right)} = f^{2}{\\left(z \\right)} + f{\\left(z \\right)} + h^{2}{\\left(z \\right)}$"
      ],
      "text/plain": [
       "Eq(Derivative(h(z), z), f(z)**2 + f(z) + h(z)**2)"
      ]
     },
     "execution_count": 337,
     "metadata": {},
     "output_type": "execute_result"
    }
   ],
   "source": [
    "u_f_min_h = Eq(u(z), f(z)-h(z))\n",
    "v_f_plus_h = Eq(v(z), f(z)+h(z))\n",
    "uv_fh_plus_min_subs = [u_f_min_h.args, v_f_plus_h.args]\n",
    "fh_sols_pm = solve([\n",
    "    du_eq.subs(uv_fh_plus_min_subs).doit().expand(),\n",
    "    dv_eq.subs(uv_fh_plus_min_subs).doit().expand()\n",
    "],[diff(f(z),z),(diff(h(z),z))])\n",
    "fh_sols_pm_eqs = [Eq(k, fh_sols_pm[k]) for k in fh_sols_pm]\n",
    "for eq_ in fh_sols_pm_eqs:\n",
    "    eq_"
   ]
  },
  {
   "cell_type": "code",
   "execution_count": 339,
   "id": "b2766f77-0713-4ad4-9eed-b1b2574d07b9",
   "metadata": {},
   "outputs": [
    {
     "data": {
      "text/latex": [
       "$\\displaystyle h{\\left(z \\right)} = - \\frac{\\frac{d}{d z} f{\\left(z \\right)}}{2 f{\\left(z \\right)} - 1}$"
      ],
      "text/plain": [
       "Eq(h(z), -Derivative(f(z), z)/(2*f(z) - 1))"
      ]
     },
     "execution_count": 339,
     "metadata": {},
     "output_type": "execute_result"
    }
   ],
   "source": [
    "hz_in_f = Eq(h(z), solve(fh_sols_pm_eqs[0],h(z))[0])\n",
    "hz_in_f"
   ]
  },
  {
   "cell_type": "code",
   "execution_count": 343,
   "id": "79446979-a315-44cc-8a3b-6065e2ce52a1",
   "metadata": {},
   "outputs": [
    {
     "data": {
      "text/latex": [
       "$\\displaystyle - \\left(f{\\left(z \\right)} + 1\\right) \\left(2 f{\\left(z \\right)} - 1\\right)^{2} f{\\left(z \\right)} - \\left(2 f{\\left(z \\right)} - 1\\right) \\frac{d^{2}}{d z^{2}} f{\\left(z \\right)} + \\left(\\frac{d}{d z} f{\\left(z \\right)}\\right)^{2} = 0$"
      ],
      "text/plain": [
       "Eq(-(f(z) + 1)*(2*f(z) - 1)**2*f(z) - (2*f(z) - 1)*Derivative(f(z), (z, 2)) + Derivative(f(z), z)**2, 0)"
      ]
     },
     "execution_count": 343,
     "metadata": {},
     "output_type": "execute_result"
    }
   ],
   "source": [
    "df_only = fh_sols_pm_eqs[1].subs(*hz_in_f.args).doit()\n",
    "df_only = Eq(((df_only.lhs - df_only.rhs)*(2*f(z)-1)**2).simplify(), 0)\n",
    "df_only"
   ]
  },
  {
   "cell_type": "code",
   "execution_count": 369,
   "id": "7161fe3c-d625-495e-88ee-3e9bd80a2499",
   "metadata": {},
   "outputs": [
    {
     "data": {
      "text/latex": [
       "$\\displaystyle R^{5}{\\left(z \\right)} + 4 R^{3}{\\left(z \\right)} + 3 R{\\left(z \\right)} + 4 \\frac{d^{2}}{d z^{2}} R{\\left(z \\right)} = 0$"
      ],
      "text/plain": [
       "Eq(R(z)**5 + 4*R(z)**3 + 3*R(z) + 4*Derivative(R(z), (z, 2)), 0)"
      ]
     },
     "execution_count": 369,
     "metadata": {},
     "output_type": "execute_result"
    }
   ],
   "source": [
    "dR = Eq(-df_only.subs(f(z),(R(z)**2+1)/2).doit().lhs.expand().collect(diff(R(z),z)**2,factor)*4/R(z)**3,0)\n",
    "dR"
   ]
  },
  {
   "cell_type": "code",
   "execution_count": 384,
   "id": "b4a55ea0-348f-43bf-92ee-19de80d4fa41",
   "metadata": {},
   "outputs": [
    {
     "data": {
      "text/latex": [
       "$\\displaystyle 3 R^{5}{\\left(z \\right)} + 4 R^{3}{\\left(z \\right)} + R{\\left(z \\right)} + \\frac{4 \\frac{d^{2}}{d z^{2}} R{\\left(z \\right)}}{3}$"
      ],
      "text/plain": [
       "3*R(z)**5 + 4*R(z)**3 + R(z) + 4*Derivative(R(z), (z, 2))/3"
      ]
     },
     "execution_count": 384,
     "metadata": {},
     "output_type": "execute_result"
    }
   ],
   "source": [
    "(dR.subs(R(z),R(z)/kappa).doit().lhs*kappa**3).expand().subs(kappa,1/sqrt(3))"
   ]
  },
  {
   "cell_type": "code",
   "execution_count": 364,
   "id": "e7c01bf9-b69f-481c-a795-0f9a415c7cab",
   "metadata": {},
   "outputs": [
    {
     "data": {
      "text/latex": [
       "$\\displaystyle h{\\left(z \\right)} = - \\frac{\\frac{d}{d z} R{\\left(z \\right)}}{R{\\left(z \\right)}}$"
      ],
      "text/plain": [
       "Eq(h(z), -Derivative(R(z), z)/R(z))"
      ]
     },
     "execution_count": 364,
     "metadata": {},
     "output_type": "execute_result"
    }
   ],
   "source": [
    "hz_in_f.subs(f(z),(R(z)**2+1)/2).doit()"
   ]
  },
  {
   "cell_type": "code",
   "execution_count": 359,
   "id": "ec418c90-7381-43c2-a3f8-cfec58a678c8",
   "metadata": {},
   "outputs": [
    {
     "data": {
      "text/latex": [
       "$\\displaystyle - \\frac{x \\left(x - 2\\right) R^{2 x}{\\left(z \\right)} \\left(\\frac{d}{d z} R{\\left(z \\right)}\\right)^{2}}{4 R^{2}{\\left(z \\right)}} - \\frac{\\left(2 x \\frac{d^{2}}{d z^{2}} R{\\left(z \\right)} + R{\\left(z \\right)} R^{2 x}{\\left(z \\right)} + 4 R{\\left(z \\right)} R^{x}{\\left(z \\right)} + 3 R{\\left(z \\right)}\\right) R^{2 x}{\\left(z \\right)}}{4 R{\\left(z \\right)}}$"
      ],
      "text/plain": [
       "-x*(x - 2)*R(z)**(2*x)*Derivative(R(z), z)**2/(4*R(z)**2) - (2*x*Derivative(R(z), (z, 2)) + R(z)*R(z)**(2*x) + 4*R(z)*R(z)**x + 3*R(z))*R(z)**(2*x)/(4*R(z))"
      ]
     },
     "execution_count": 359,
     "metadata": {},
     "output_type": "execute_result"
    }
   ],
   "source": [
    "df_only.subs(f(z),(R(z)+1)/2).doit().subs(R(z),R(z)**x).doit().lhs.expand().collect(diff(R(z),z)**2,factor)"
   ]
  },
  {
   "cell_type": "code",
   "execution_count": 352,
   "id": "d5bacd1a-ddd9-4584-8d87-96317d6df8a2",
   "metadata": {},
   "outputs": [
    {
     "data": {
      "text/latex": [
       "$\\displaystyle - \\left(2 h{\\left(R{\\left(z \\right)} \\right)} - 1\\right) \\left(2 h^{3}{\\left(R{\\left(z \\right)} \\right)} + h^{2}{\\left(R{\\left(z \\right)} \\right)} - h{\\left(R{\\left(z \\right)} \\right)} + \\frac{d^{2}}{d z^{2}} R{\\left(z \\right)} \\frac{d}{d R{\\left(z \\right)}} h{\\left(R{\\left(z \\right)} \\right)}\\right) + \\left(- 2 h{\\left(R{\\left(z \\right)} \\right)} \\frac{d^{2}}{d R{\\left(z \\right)}^{2}} h{\\left(R{\\left(z \\right)} \\right)} + \\left(\\frac{d}{d R{\\left(z \\right)}} h{\\left(R{\\left(z \\right)} \\right)}\\right)^{2} + \\frac{d^{2}}{d R{\\left(z \\right)}^{2}} h{\\left(R{\\left(z \\right)} \\right)}\\right) \\left(\\frac{d}{d z} R{\\left(z \\right)}\\right)^{2}$"
      ],
      "text/plain": [
       "-(2*h(R(z)) - 1)*(2*h(R(z))**3 + h(R(z))**2 - h(R(z)) + Derivative(R(z), (z, 2))*Derivative(h(R(z)), R(z))) + (-2*h(R(z))*Derivative(h(R(z)), (R(z), 2)) + Derivative(h(R(z)), R(z))**2 + Derivative(h(R(z)), (R(z), 2)))*Derivative(R(z), z)**2"
      ]
     },
     "execution_count": 352,
     "metadata": {},
     "output_type": "execute_result"
    }
   ],
   "source": [
    "df_only.subs(f(z),h(R(z))).doit().lhs.expand().collect(diff(R(z),z)**2,factor)"
   ]
  },
  {
   "cell_type": "code",
   "execution_count": 394,
   "id": "d9e9589e-a1fa-4497-a575-c25f3c8f2fff",
   "metadata": {},
   "outputs": [],
   "source": [
    "# LV"
   ]
  },
  {
   "cell_type": "code",
   "execution_count": null,
   "id": "2aae915e-ac19-4003-afaa-9beda158742d",
   "metadata": {},
   "outputs": [],
   "source": []
  }
 ],
 "metadata": {
  "kernelspec": {
   "display_name": "Python 3 (ipykernel)",
   "language": "python",
   "name": "python3"
  },
  "language_info": {
   "codemirror_mode": {
    "name": "ipython",
    "version": 3
   },
   "file_extension": ".py",
   "mimetype": "text/x-python",
   "name": "python",
   "nbconvert_exporter": "python",
   "pygments_lexer": "ipython3",
   "version": "3.10.13"
  }
 },
 "nbformat": 4,
 "nbformat_minor": 5
}
