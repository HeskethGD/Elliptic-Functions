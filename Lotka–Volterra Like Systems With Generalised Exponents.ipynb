{
 "cells": [
  {
   "cell_type": "markdown",
   "id": "b24379e1-dbde-4b9e-833b-b5e77dd462e7",
   "metadata": {},
   "source": [
    "# Lotka–Volterra Like Systems With Generalised Exponent\n",
    "\n",
    "This work seeks the complete analytic solution of the 2 mode Lotka-Volterra nonlinear coupled ordinary differential equations and explores reaching that aim by considering the Lotka-Volterra as a limiting case of a generalised system with parameterised exponents.\n",
    "\n",
    "\n",
    "Nonlinear differential equations (includes nice discussion of Lotka–Volterra 2 mode systems for species populations)\r\n",
    "\r\n",
    "https://www-users.cse.umn.edu/~olver/ln_/odq.pdf\r\n",
    "\r\n",
    "Other solutions to Lotka–Volterra\r\n",
    "\r\n",
    "https://www.itm-conferences.org/articles/itmconf/pdf/2019/06/itmconf_iccmae2018_01016.pdf\r\n",
    "\r\n",
    "Some elliptic solutions to Lotka-Volterra (3 modes) Robert S Maier at Arizona has written a few papers\r\n",
    "\r\n",
    "https://arxiv.org/pdf/1211.5813.pdf\r\n",
    "\r\n",
    "https://arxiv.org/pdf/1203.0283.pdf\r\n",
    "\r\n",
    "https://arxiv.org/pdf\n",
    "\n",
    "Some good refs here:\n",
    "\n",
    "https://arxiv.org/pdf/2303.09317.pdf\n",
    "\n",
    "Lagrangians for LV\n",
    "\n",
    "https://docs.juliahub.com/GeometricProblems/4fHs6/0.1.8/lotka_volterra_2d/\n",
    "\n",
    "Logistic differential equation\n",
    "https://www-users.cse.umn.edu/~olver/ln_/odq.pdf/0807.1081.pdf"
   ]
  },
  {
   "cell_type": "code",
   "execution_count": 132,
   "id": "64fd7536-b764-461c-85ca-7ffc5c43e9ef",
   "metadata": {},
   "outputs": [],
   "source": [
    "from sympy import *\n",
    "(x, y, X, Y, Z, B, C, n, m, l, j, q, N, M, K, k, epsilon, z, s, p1, p2, p3, g2, g3,\n",
    " z0, w1, w2, w3, e1, e2, e3, Delta, \n",
    " omega1, omega2, omega3, eta1, eta2, eta3, d1, d2, d3) = symbols(\n",
    "    '''x, y, X, Y, Z, B, C, n, m, l, j, q, N, M, K, k, epsilon, z, s, p1, p2, p3, g2, g3,\n",
    "    z0, w1, w2, w3, e1, e2, e3, Delta, \n",
    "    omega1, omega2, omega3, eta1, eta2, eta3, d1, d2, d3'''\n",
    ")\n",
    "alpha, delta, t, nu, epsilon, theta = symbols('alpha, delta, t, nu, epsilon, theta')\n",
    "pw = Function('pw') # Weierstrass P function\n",
    "pwp = Function('pwp') # Derivative of Weierstrass P function\n",
    "zw = Function('zw') # Weierstrass Zeta function\n",
    "sigma = Function('sigma') # Weierstrass Sigma function\n",
    "rho = Function('rho')\n",
    "f = Function('f')\n",
    "h = Function('h')\n",
    "s = Function('s')\n",
    "u = Function('u')\n",
    "v = Function('v')\n",
    "P = Function('P') # Polynomial\n",
    "Q = Function('Q') # Polynomial\n",
    "R = Function('') # Polynomial\n",
    "phi = Function('phi')\n",
    "Phi = Function('Phi')\n",
    "phi1 = Function('phi1')\n",
    "phi2 = Function('phi2')\n",
    "phi3 = Function('phi3')\n",
    "A = Function('A')\n",
    "Ac = Function('Ac')\n",
    "A1 = Function('A1')\n",
    "A2 = Function('A2')\n",
    "A3 = Function('A3')\n",
    "Ac1 = Function('Ac1')\n",
    "Ac2 = Function('Ac2')\n",
    "Ac3 = Function('Ac3')\n",
    "A4 = Function('A4')\n",
    "A5 = Function('A5')\n",
    "A6 = Function('A6')\n",
    "A7 = Function('A7')\n",
    "A8 = Function('A8')\n",
    "W1 = Function('W1')\n",
    "W2 = Function('W2')\n",
    "W3 = Function('W3')\n",
    "W4 = Function('W4')\n",
    "W5 = Function('W5')\n",
    "W6 = Function('W6')\n",
    "Det = Function(\"Det\")\n",
    "\n",
    "kappa = IndexedBase('kappa')\n",
    "beta = IndexedBase('beta')\n",
    "mu = IndexedBase('mu')\n",
    "xi = IndexedBase('xi')\n",
    "a = IndexedBase('a')\n",
    "b = IndexedBase('b')\n",
    "c = IndexedBase('c')\n",
    "d = IndexedBase('d')\n",
    "p = IndexedBase('p')\n",
    "G = IndexedBase('G')\n",
    "psi = IndexedBase('psi')\n",
    "upsilon = IndexedBase('upsilon')\n",
    "WPdet = Function('WPdet')\n",
    "\n",
    "Omega = IndexedBase('Omega')\n",
    "T = Function('T')\n",
    "V = Function('V')\n",
    "Dz = Function('Dz') # Derivate w.r.t z\n",
    "L = Function('L')\n",
    "U = Function(\"U\")\n",
    "W = Function(\"W\")\n",
    "from math import prod\n",
    "\n",
    "from IPython.core.interactiveshell import InteractiveShell\n",
    "InteractiveShell.ast_node_interactivity = 'all'"
   ]
  },
  {
   "cell_type": "code",
   "execution_count": 133,
   "id": "5a523665-6c47-48d0-a94b-4fd9342efd30",
   "metadata": {},
   "outputs": [
    {
     "data": {
      "text/latex": [
       "$\\displaystyle \\frac{\\operatorname{pwp}{\\left(x,g_{2},g_{3} \\right)} - \\operatorname{pwp}{\\left(y,g_{2},g_{3} \\right)}}{2 \\left(\\operatorname{pw}{\\left(x,g_{2},g_{3} \\right)} - \\operatorname{pw}{\\left(y,g_{2},g_{3} \\right)}\\right)} = - \\operatorname{zw}{\\left(x,g_{2},g_{3} \\right)} - \\operatorname{zw}{\\left(y,g_{2},g_{3} \\right)} + \\operatorname{zw}{\\left(x + y,g_{2},g_{3} \\right)}$"
      ],
      "text/plain": [
       "Eq((pwp(x, g2, g3) - pwp(y, g2, g3))/(2*(pw(x, g2, g3) - pw(y, g2, g3))), -zw(x, g2, g3) - zw(y, g2, g3) + zw(x + y, g2, g3))"
      ]
     },
     "execution_count": 133,
     "metadata": {},
     "output_type": "execute_result"
    }
   ],
   "source": [
    "pw_to_zw_identity = Eq(\n",
    "    (pwp(x,g2,g3) - pwp(y,g2,g3))/(pw(x,g2,g3) - pw(y,g2,g3))/2,\n",
    "    zw(x + y,g2, g3) - zw(x,g2, g3) - zw(y,g2, g3)\n",
    ")\n",
    "pw_to_zw_identity"
   ]
  },
  {
   "cell_type": "code",
   "execution_count": 134,
   "id": "debe41ae-2b1e-4b8a-a1cc-58c3e55157f1",
   "metadata": {},
   "outputs": [
    {
     "data": {
      "text/latex": [
       "$\\displaystyle \\frac{\\partial}{\\partial z} \\operatorname{zw}{\\left(z,g_{2},g_{3} \\right)} = - \\operatorname{pw}{\\left(z,g_{2},g_{3} \\right)}$"
      ],
      "text/plain": [
       "Eq(Derivative(zw(z, g2, g3), z), -pw(z, g2, g3))"
      ]
     },
     "execution_count": 134,
     "metadata": {},
     "output_type": "execute_result"
    }
   ],
   "source": [
    "diff_zeta_eq = Eq(diff(zw(z,g2,g3),z), -pw(z,g2,g3))\n",
    "diff_zeta_eq"
   ]
  },
  {
   "cell_type": "code",
   "execution_count": 135,
   "id": "94e1aee4-7cf9-46b3-9073-4aa6c750e630",
   "metadata": {},
   "outputs": [
    {
     "data": {
      "text/latex": [
       "$\\displaystyle \\int \\operatorname{zw}{\\left(z,g_{2},g_{3} \\right)}\\, dz = \\log{\\left(\\sigma{\\left(z,g_{2},g_{3} \\right)} \\right)}$"
      ],
      "text/plain": [
       "Eq(Integral(zw(z, g2, g3), z), log(sigma(z, g2, g3)))"
      ]
     },
     "execution_count": 135,
     "metadata": {},
     "output_type": "execute_result"
    }
   ],
   "source": [
    "integral_zeta_log_sigma = Eq(Integral(zw(z,g2,g3),z),log(sigma(z,g2,g3)))\n",
    "integral_zeta_log_sigma"
   ]
  },
  {
   "cell_type": "code",
   "execution_count": 136,
   "id": "9cd37187-550d-46bc-9857-03e9aa1eeb83",
   "metadata": {},
   "outputs": [
    {
     "data": {
      "text/latex": [
       "$\\displaystyle \\sigma{\\left(z,g_{2},g_{3} \\right)} = \\frac{\\frac{\\partial}{\\partial z} \\sigma{\\left(z,g_{2},g_{3} \\right)}}{\\operatorname{zw}{\\left(z,g_{2},g_{3} \\right)}}$"
      ],
      "text/plain": [
       "Eq(sigma(z, g2, g3), Derivative(sigma(z, g2, g3), z)/zw(z, g2, g3))"
      ]
     },
     "execution_count": 136,
     "metadata": {},
     "output_type": "execute_result"
    }
   ],
   "source": [
    "sigma_zeta_eq = Eq(diff(integral_zeta_log_sigma.lhs,z)*sigma(z,g2,g3)/zw(z,g2,g3), \n",
    "             diff(integral_zeta_log_sigma.rhs,z)*sigma(z,g2,g3)/zw(z,g2,g3))\n",
    "sigma_zeta_eq"
   ]
  },
  {
   "cell_type": "code",
   "execution_count": 137,
   "id": "6b17e8ae-9b07-424b-b7b4-4e2be006c8b4",
   "metadata": {},
   "outputs": [
    {
     "data": {
      "text/latex": [
       "$\\displaystyle \\operatorname{pwp}{\\left(z,g_{2},g_{3} \\right)} = - \\frac{\\sigma{\\left(2 z,g_{2},g_{3} \\right)}}{\\sigma^{4}{\\left(z,g_{2},g_{3} \\right)}}$"
      ],
      "text/plain": [
       "Eq(pwp(z, g2, g3), -sigma(2*z, g2, g3)/sigma(z, g2, g3)**4)"
      ]
     },
     "execution_count": 137,
     "metadata": {},
     "output_type": "execute_result"
    }
   ],
   "source": [
    "pwp_sigma_id = Eq(pwp(z,g2,g3),-sigma(2*z,g2,g3)/sigma(z,g2,g3)**4)\n",
    "pwp_sigma_id"
   ]
  },
  {
   "cell_type": "code",
   "execution_count": 138,
   "id": "7500a8ee-900f-466b-9f2d-ee8863faa229",
   "metadata": {},
   "outputs": [
    {
     "data": {
      "text/latex": [
       "$\\displaystyle \\sigma{\\left(2 n \\omega_{1} + z,g_{2},g_{3} \\right)} = \\left(-1\\right)^{n} \\sigma{\\left(z,g_{2},g_{3} \\right)} e^{2 \\eta_{1} n \\left(n \\omega_{1} + z\\right)}$"
      ],
      "text/plain": [
       "Eq(sigma(2*n*omega1 + z, g2, g3), (-1)**n*sigma(z, g2, g3)*exp(2*eta1*n*(n*omega1 + z)))"
      ]
     },
     "execution_count": 138,
     "metadata": {},
     "output_type": "execute_result"
    }
   ],
   "source": [
    "sigma_period_eq_1n = Eq(sigma(z + 2 * n * omega1, g2, g3), \n",
    "                       (-1) **n * sigma(z, g2, g3) * exp(2 * n * eta1 * (n * omega1 + z)))\n",
    "sigma_period_eq_1n"
   ]
  },
  {
   "cell_type": "markdown",
   "id": "cd0eeaf9-83ed-4c17-930d-373f9c2339da",
   "metadata": {},
   "source": [
    "## Euler Lagrange Equations"
   ]
  },
  {
   "cell_type": "code",
   "execution_count": 139,
   "id": "8c730560-80b0-4921-98c2-fed77b1a0c32",
   "metadata": {},
   "outputs": [
    {
     "data": {
      "text/latex": [
       "$\\displaystyle \\frac{d}{d u{\\left(z \\right)}} L{\\left(u{\\left(z \\right)},v{\\left(z \\right)},\\frac{d}{d z} u{\\left(z \\right)},\\frac{d}{d z} v{\\left(z \\right)} \\right)} - \\frac{d^{2}}{d zd \\frac{d}{d z} u{\\left(z \\right)}} L{\\left(u{\\left(z \\right)},v{\\left(z \\right)},\\frac{d}{d z} u{\\left(z \\right)},\\frac{d}{d z} v{\\left(z \\right)} \\right)} = 0$"
      ],
      "text/plain": [
       "Eq(Derivative(L(u(z), v(z), Derivative(u(z), z), Derivative(v(z), z)), u(z)) - Derivative(L(u(z), v(z), Derivative(u(z), z), Derivative(v(z), z)), Derivative(u(z), z), z), 0)"
      ]
     },
     "execution_count": 139,
     "metadata": {},
     "output_type": "execute_result"
    },
    {
     "data": {
      "text/latex": [
       "$\\displaystyle \\frac{d}{d v{\\left(z \\right)}} L{\\left(u{\\left(z \\right)},v{\\left(z \\right)},\\frac{d}{d z} u{\\left(z \\right)},\\frac{d}{d z} v{\\left(z \\right)} \\right)} - \\frac{d^{2}}{d zd \\frac{d}{d z} v{\\left(z \\right)}} L{\\left(u{\\left(z \\right)},v{\\left(z \\right)},\\frac{d}{d z} u{\\left(z \\right)},\\frac{d}{d z} v{\\left(z \\right)} \\right)} = 0$"
      ],
      "text/plain": [
       "Eq(Derivative(L(u(z), v(z), Derivative(u(z), z), Derivative(v(z), z)), v(z)) - Derivative(L(u(z), v(z), Derivative(u(z), z), Derivative(v(z), z)), Derivative(v(z), z), z), 0)"
      ]
     },
     "execution_count": 139,
     "metadata": {},
     "output_type": "execute_result"
    }
   ],
   "source": [
    "euler_lagrange_eqs = [Eq(Derivative(L(u(z),v(z),diff(u(z),z),diff(v(z),z)),f) - \n",
    "Derivative(Derivative(L(u(z),v(z),diff(u(z),z),diff(v(z),z)),Derivative(f,z)),z),0) for f in [u(z), v(z)]]\n",
    "for el in euler_lagrange_eqs:\n",
    "    el "
   ]
  },
  {
   "cell_type": "markdown",
   "id": "dd1fcea7-61e9-40fa-8948-fb89c3183a1a",
   "metadata": {},
   "source": [
    "## The Lotka-Volterra System\n",
    "\n",
    "This work aims to find solutions to this system which is known as the Lotka-Volterra system and describes predator-prey species competition dynamics. "
   ]
  },
  {
   "cell_type": "code",
   "execution_count": 140,
   "id": "9ed2b592-a7a2-471d-bd86-fefdaae5d52a",
   "metadata": {},
   "outputs": [
    {
     "data": {
      "text/latex": [
       "$\\displaystyle L{\\left(u{\\left(z \\right)},v{\\left(z \\right)},\\frac{d}{d z} u{\\left(z \\right)},\\frac{d}{d z} v{\\left(z \\right)} \\right)} = - \\alpha \\log{\\left(v{\\left(z \\right)} \\right)} + \\delta v{\\left(z \\right)} - u{\\left(z \\right)} \\kappa - \\frac{\\log{\\left(u{\\left(z \\right)} \\right)} \\frac{d}{d z} \\log{\\left(v{\\left(z \\right)} \\right)}}{2} - \\log{\\left(u{\\left(z \\right)} \\right)} \\beta + \\frac{\\log{\\left(v{\\left(z \\right)} \\right)} \\frac{d}{d z} \\log{\\left(u{\\left(z \\right)} \\right)}}{2}$"
      ],
      "text/plain": [
       "Eq(L(u(z), v(z), Derivative(u(z), z), Derivative(v(z), z)), -alpha*log(v(z)) + delta*v(z) - u(z)*kappa - log(u(z))*Derivative(log(v(z)), z)/2 - log(u(z))*beta + log(v(z))*Derivative(log(u(z)), z)/2)"
      ]
     },
     "execution_count": 140,
     "metadata": {},
     "output_type": "execute_result"
    }
   ],
   "source": [
    "\n",
    "lk_kinetic  = ln(v(z))*Derivative(ln(u(z)),z)/2 - ln(u(z))*Derivative(ln(v(z)),z)/2\n",
    "\n",
    "lk_potential = alpha*ln(v(z)) + beta*ln(u(z)) - delta*v(z) + kappa*u(z)\n",
    "lk_lagrangian = Eq(L(u(z),v(z),diff(u(z),z),diff(v(z),z)), lk_kinetic - lk_potential)\n",
    "lk_lagrangian"
   ]
  },
  {
   "cell_type": "code",
   "execution_count": 141,
   "id": "48d21d20-5bb6-4bf3-bf80-c3bd863c1b7e",
   "metadata": {},
   "outputs": [
    {
     "data": {
      "text/latex": [
       "$\\displaystyle \\frac{d}{d z} u{\\left(z \\right)} = \\alpha u{\\left(z \\right)} - \\delta u{\\left(z \\right)} v{\\left(z \\right)}$"
      ],
      "text/plain": [
       "Eq(Derivative(u(z), z), alpha*u(z) - delta*u(z)*v(z))"
      ]
     },
     "execution_count": 141,
     "metadata": {},
     "output_type": "execute_result"
    },
    {
     "data": {
      "text/latex": [
       "$\\displaystyle \\frac{d}{d z} v{\\left(z \\right)} = - u{\\left(z \\right)} v{\\left(z \\right)} \\kappa - v{\\left(z \\right)} \\beta$"
      ],
      "text/plain": [
       "Eq(Derivative(v(z), z), -u(z)*v(z)*kappa - v(z)*beta)"
      ]
     },
     "execution_count": 141,
     "metadata": {},
     "output_type": "execute_result"
    }
   ],
   "source": [
    "dv1_lk = Eq(diff(u(z),z),solve(euler_lagrange_eqs[1].subs(*lk_lagrangian.args).doit() , diff(u(z),z))[0]).simplify().expand()\n",
    "dv2_lk = Eq(diff(v(z),z),solve(euler_lagrange_eqs[0].subs(*lk_lagrangian.args).doit() , diff(v(z),z))[0]).simplify().expand()\n",
    "dv1_lk\n",
    "dv2_lk"
   ]
  },
  {
   "cell_type": "code",
   "execution_count": 142,
   "id": "2efe4f92-6b60-40ba-a548-f4f736b5a172",
   "metadata": {},
   "outputs": [
    {
     "data": {
      "text/latex": [
       "$\\displaystyle 0$"
      ],
      "text/plain": [
       "0"
      ]
     },
     "execution_count": 142,
     "metadata": {},
     "output_type": "execute_result"
    }
   ],
   "source": [
    "diff(lk_potential,z).subs([dv1_lk.args, dv2_lk.args]).simplify()"
   ]
  },
  {
   "cell_type": "markdown",
   "id": "3d6d5781-9005-4c1a-8be2-c95b696e2101",
   "metadata": {},
   "source": [
    "## The Lotka-Volterra System with Generalised Exponents\n",
    "\n",
    "The Lotka-Volterra system can be considered a special case of the folowing system in the limit that $x$ and $y$ go to 0."
   ]
  },
  {
   "cell_type": "code",
   "execution_count": 143,
   "id": "52c75aa4-9c58-4711-9852-7da16088cd50",
   "metadata": {},
   "outputs": [
    {
     "data": {
      "text/latex": [
       "$\\displaystyle L{\\left(u{\\left(z \\right)},v{\\left(z \\right)},\\frac{d}{d z} u{\\left(z \\right)},\\frac{d}{d z} v{\\left(z \\right)} \\right)} = - \\alpha y v^{x}{\\left(z \\right)} + \\delta x y v{\\left(z \\right)} - x y u{\\left(z \\right)} \\kappa - x u^{y}{\\left(z \\right)} \\beta - \\frac{x u^{y}{\\left(z \\right)} v^{x}{\\left(z \\right)} \\frac{d}{d z} v{\\left(z \\right)}}{2 v{\\left(z \\right)}} + \\frac{y u^{y}{\\left(z \\right)} v^{x}{\\left(z \\right)} \\frac{d}{d z} u{\\left(z \\right)}}{2 u{\\left(z \\right)}}$"
      ],
      "text/plain": [
       "Eq(L(u(z), v(z), Derivative(u(z), z), Derivative(v(z), z)), -alpha*y*v(z)**x + delta*x*y*v(z) - x*y*u(z)*kappa - x*u(z)**y*beta - x*u(z)**y*v(z)**x*Derivative(v(z), z)/(2*v(z)) + y*u(z)**y*v(z)**x*Derivative(u(z), z)/(2*u(z)))"
      ]
     },
     "execution_count": 143,
     "metadata": {},
     "output_type": "execute_result"
    }
   ],
   "source": [
    "lkg_kinetic  = (v(z)**x*Derivative(u(z)**y,z)/2 - u(z)**y*Derivative(v(z)**x,z)/2).doit()#.subs([(y,1-y),(x,1-x)])\n",
    "\n",
    "lkg_potential = (alpha*y*v(z)**x + beta*x*u(z)**y - delta*x*y*v(z) + kappa*x*y*u(z))#.subs([(y,1-y),(x,1-x)])\n",
    "\n",
    "lkg_lagrangian = Eq(L(u(z),v(z),diff(u(z),z),diff(v(z),z)), lkg_kinetic - lkg_potential)\n",
    "lkg_lagrangian"
   ]
  },
  {
   "cell_type": "code",
   "execution_count": 144,
   "id": "60cb6506-9a23-445f-983a-24a4183a709a",
   "metadata": {},
   "outputs": [
    {
     "data": {
      "text/latex": [
       "$\\displaystyle \\frac{d}{d z} u{\\left(z \\right)} = \\alpha u^{1 - y}{\\left(z \\right)} - \\delta u^{1 - y}{\\left(z \\right)} v{\\left(z \\right)} v^{- x}{\\left(z \\right)}$"
      ],
      "text/plain": [
       "Eq(Derivative(u(z), z), alpha*u(z)**(1 - y) - delta*u(z)**(1 - y)*v(z)/v(z)**x)"
      ]
     },
     "execution_count": 144,
     "metadata": {},
     "output_type": "execute_result"
    },
    {
     "data": {
      "text/latex": [
       "$\\displaystyle \\frac{d}{d z} v{\\left(z \\right)} = - u{\\left(z \\right)} u^{- y}{\\left(z \\right)} v^{1 - x}{\\left(z \\right)} \\kappa - v^{1 - x}{\\left(z \\right)} \\beta$"
      ],
      "text/plain": [
       "Eq(Derivative(v(z), z), -u(z)*v(z)**(1 - x)*kappa/u(z)**y - v(z)**(1 - x)*beta)"
      ]
     },
     "execution_count": 144,
     "metadata": {},
     "output_type": "execute_result"
    }
   ],
   "source": [
    "dv1_lkg = Eq(diff(u(z),z),solve(euler_lagrange_eqs[1].subs(*lkg_lagrangian.args).doit() , diff(u(z),z))[0]).simplify().expand()\n",
    "dv2_lkg = Eq(diff(v(z),z),solve(euler_lagrange_eqs[0].subs(*lkg_lagrangian.args).doit() , diff(v(z),z))[0]).simplify().expand()\n",
    "dv1_lkg\n",
    "dv2_lkg"
   ]
  },
  {
   "cell_type": "code",
   "execution_count": 145,
   "id": "a716383e-551d-4724-8c61-ef1d45f01168",
   "metadata": {},
   "outputs": [
    {
     "data": {
      "text/latex": [
       "$\\displaystyle x - \\epsilon x \\log{\\left(x \\right)} + \\frac{\\epsilon^{2} x \\log{\\left(x \\right)}^{2}}{2} - \\frac{\\epsilon^{3} x \\log{\\left(x \\right)}^{3}}{6} + \\frac{\\epsilon^{4} x \\log{\\left(x \\right)}^{4}}{24} - \\frac{\\epsilon^{5} x \\log{\\left(x \\right)}^{5}}{120} + O\\left(\\epsilon^{6}\\right)$"
      ],
      "text/plain": [
       "x - epsilon*x*log(x) + epsilon**2*x*log(x)**2/2 - epsilon**3*x*log(x)**3/6 + epsilon**4*x*log(x)**4/24 - epsilon**5*x*log(x)**5/120 + O(epsilon**6)"
      ]
     },
     "execution_count": 145,
     "metadata": {},
     "output_type": "execute_result"
    }
   ],
   "source": [
    "series(x**(1-epsilon), epsilon)"
   ]
  },
  {
   "cell_type": "code",
   "execution_count": 146,
   "id": "f657bfca-5bfb-4232-9d92-a5c08ce0190f",
   "metadata": {},
   "outputs": [
    {
     "data": {
      "text/latex": [
       "$\\displaystyle k = \\alpha y v^{x}{\\left(z \\right)} - \\delta x y v{\\left(z \\right)} + x y u{\\left(z \\right)} \\kappa + x u^{y}{\\left(z \\right)} \\beta$"
      ],
      "text/plain": [
       "Eq(k, alpha*y*v(z)**x - delta*x*y*v(z) + x*y*u(z)*kappa + x*u(z)**y*beta)"
      ]
     },
     "execution_count": 146,
     "metadata": {},
     "output_type": "execute_result"
    }
   ],
   "source": [
    "k_conserved = Eq(k, lkg_potential)\n",
    "k_conserved"
   ]
  },
  {
   "cell_type": "code",
   "execution_count": 147,
   "id": "e868524c-a08d-4a87-9988-01532cff3e50",
   "metadata": {},
   "outputs": [
    {
     "data": {
      "text/latex": [
       "$\\displaystyle 0$"
      ],
      "text/plain": [
       "0"
      ]
     },
     "execution_count": 147,
     "metadata": {},
     "output_type": "execute_result"
    }
   ],
   "source": [
    "myExpr = diff(k_conserved.rhs,z).subs([dv1_lkg.args, dv2_lkg.args]).simplify()\n",
    "\n",
    "#https://stackoverflow.com/questions/66556110/sympy-how-to-simplify-expression-with-exponential-functions\n",
    "factor_terms(sum(powsimp(factor_terms(cancel(a))) for a in Add.make_args(myExpr.expand())))"
   ]
  },
  {
   "cell_type": "code",
   "execution_count": 148,
   "id": "3c9167c2-2706-4a05-a1cd-582467a10664",
   "metadata": {},
   "outputs": [
    {
     "data": {
      "text/latex": [
       "$\\displaystyle u^{y - 1}{\\left(z \\right)} \\frac{d}{d z} u{\\left(z \\right)} = \\alpha - \\delta v{\\left(z \\right)} v^{- x}{\\left(z \\right)}$"
      ],
      "text/plain": [
       "Eq(u(z)**(y - 1)*Derivative(u(z), z), alpha - delta*v(z)/v(z)**x)"
      ]
     },
     "execution_count": 148,
     "metadata": {},
     "output_type": "execute_result"
    },
    {
     "data": {
      "text/latex": [
       "$\\displaystyle v^{x - 1}{\\left(z \\right)} \\frac{d}{d z} v{\\left(z \\right)} = - u{\\left(z \\right)} u^{- y}{\\left(z \\right)} \\kappa - \\beta$"
      ],
      "text/plain": [
       "Eq(v(z)**(x - 1)*Derivative(v(z), z), -u(z)*kappa/u(z)**y - beta)"
      ]
     },
     "execution_count": 148,
     "metadata": {},
     "output_type": "execute_result"
    }
   ],
   "source": [
    "Eq(dv1_lkg.lhs*u(z)**y/u(z), (dv1_lkg.rhs*u(z)**y/u(z))).simplify()\n",
    "Eq(dv2_lkg.lhs*v(z)**x/v(z), (dv2_lkg.rhs*v(z)**x/v(z))).simplify()"
   ]
  },
  {
   "cell_type": "code",
   "execution_count": 149,
   "id": "ac7ea558-0d10-407c-b520-a8474dbf7379",
   "metadata": {
    "scrolled": true
   },
   "outputs": [
    {
     "data": {
      "text/latex": [
       "$\\displaystyle \\frac{\\frac{\\partial}{\\partial z} u^{y}{\\left(z \\right)}}{y} = \\alpha - \\delta v^{1 - x}{\\left(z \\right)}$"
      ],
      "text/plain": [
       "Eq(Derivative(u(z)**y, z)/y, alpha - delta*v(z)**(1 - x))"
      ]
     },
     "execution_count": 149,
     "metadata": {},
     "output_type": "execute_result"
    },
    {
     "data": {
      "text/latex": [
       "$\\displaystyle \\frac{\\frac{\\partial}{\\partial z} v^{x}{\\left(z \\right)}}{x} = - u^{1 - y}{\\left(z \\right)} \\kappa - \\beta$"
      ],
      "text/plain": [
       "Eq(Derivative(v(z)**x, z)/x, -u(z)**(1 - y)*kappa - beta)"
      ]
     },
     "execution_count": 149,
     "metadata": {},
     "output_type": "execute_result"
    }
   ],
   "source": [
    "uy_eq = Eq(Derivative(u(z)**y,z)/y, (dv1_lkg.rhs*u(z)**y/u(z)).simplify().powsimp())\n",
    "vx_eq = Eq(Derivative(v(z)**x,z)/x, (dv2_lkg.rhs*v(z)**x/v(z)).simplify().powsimp())\n",
    "uy_eq\n",
    "vx_eq"
   ]
  },
  {
   "cell_type": "code",
   "execution_count": 150,
   "id": "92e22b68-95b6-45f5-bda0-6bdf196fcc8b",
   "metadata": {},
   "outputs": [
    {
     "data": {
      "text/latex": [
       "$\\displaystyle u^{y}{\\left(z \\right)} \\frac{\\partial}{\\partial z} v^{x}{\\left(z \\right)} + v^{x}{\\left(z \\right)} \\frac{\\partial}{\\partial z} u^{y}{\\left(z \\right)} = \\alpha y v^{x}{\\left(z \\right)} - \\delta y v{\\left(z \\right)} - x u{\\left(z \\right)} \\kappa - x u^{y}{\\left(z \\right)} \\beta$"
      ],
      "text/plain": [
       "Eq(u(z)**y*Derivative(v(z)**x, z) + v(z)**x*Derivative(u(z)**y, z), alpha*y*v(z)**x - delta*y*v(z) - x*u(z)*kappa - x*u(z)**y*beta)"
      ]
     },
     "execution_count": 150,
     "metadata": {},
     "output_type": "execute_result"
    }
   ],
   "source": [
    "Eq(y*uy_eq.lhs*v(z)**x + x*vx_eq.lhs*u(z)**y, (y*uy_eq.rhs*v(z)**x + x*vx_eq.rhs*u(z)**y).expand().powsimp())"
   ]
  },
  {
   "cell_type": "code",
   "execution_count": 151,
   "id": "24e8b0be-2216-436a-9067-cd704e56393a",
   "metadata": {},
   "outputs": [
    {
     "data": {
      "text/latex": [
       "$\\displaystyle k = \\alpha y v^{x}{\\left(z \\right)} - \\delta x y v{\\left(z \\right)} + x y u{\\left(z \\right)} \\kappa + x u^{y}{\\left(z \\right)} \\beta$"
      ],
      "text/plain": [
       "Eq(k, alpha*y*v(z)**x - delta*x*y*v(z) + x*y*u(z)*kappa + x*u(z)**y*beta)"
      ]
     },
     "execution_count": 151,
     "metadata": {},
     "output_type": "execute_result"
    }
   ],
   "source": [
    "k_conserved"
   ]
  },
  {
   "cell_type": "code",
   "execution_count": 152,
   "id": "603ebbba-965a-4fc0-9110-68e2b5df19d5",
   "metadata": {},
   "outputs": [
    {
     "data": {
      "text/latex": [
       "$\\displaystyle 0$"
      ],
      "text/plain": [
       "0"
      ]
     },
     "execution_count": 152,
     "metadata": {},
     "output_type": "execute_result"
    }
   ],
   "source": [
    "dv1_lkg.lhs*u(z)**y/u(z) - diff(u(z)**y,z)/y"
   ]
  },
  {
   "cell_type": "code",
   "execution_count": 153,
   "id": "afe71ab1-4832-45bf-8869-22b0b535ff20",
   "metadata": {},
   "outputs": [
    {
     "data": {
      "text/latex": [
       "$\\displaystyle v{\\left(z \\right)} = \\frac{\\alpha}{\\delta} - \\frac{\\frac{d}{d z} u{\\left(z \\right)}}{\\delta u{\\left(z \\right)}}$"
      ],
      "text/plain": [
       "Eq(v(z), alpha/delta - Derivative(u(z), z)/(delta*u(z)))"
      ]
     },
     "execution_count": 153,
     "metadata": {},
     "output_type": "execute_result"
    }
   ],
   "source": [
    "v_as_ln_diff_u_lk = Eq(v(z), solve(dv1_lk.lhs - dv1_lk.rhs,v(z))[0])\n",
    "v_as_ln_diff_u_lk"
   ]
  },
  {
   "cell_type": "code",
   "execution_count": 154,
   "id": "56afb629-b7d7-4c78-9ac9-40036d3ba001",
   "metadata": {},
   "outputs": [
    {
     "data": {
      "text/latex": [
       "$\\displaystyle \\left(\\frac{\\alpha}{\\delta} - \\frac{\\frac{d}{d z} u{\\left(z \\right)}}{\\delta u{\\left(z \\right)}}\\right) u{\\left(z \\right)} \\kappa + \\left(\\frac{\\alpha}{\\delta} - \\frac{\\frac{d}{d z} u{\\left(z \\right)}}{\\delta u{\\left(z \\right)}}\\right) \\beta + \\frac{\\partial}{\\partial z} \\left(\\frac{\\alpha}{\\delta} - \\frac{\\frac{d}{d z} u{\\left(z \\right)}}{\\delta u{\\left(z \\right)}}\\right) = 0$"
      ],
      "text/plain": [
       "Eq((alpha/delta - Derivative(u(z), z)/(delta*u(z)))*u(z)*kappa + (alpha/delta - Derivative(u(z), z)/(delta*u(z)))*beta + Derivative(alpha/delta - Derivative(u(z), z)/(delta*u(z)), z), 0)"
      ]
     },
     "execution_count": 154,
     "metadata": {},
     "output_type": "execute_result"
    }
   ],
   "source": [
    "diff_u_only_eq_lk = Eq((dv2_lk.lhs - dv2_lk.rhs).subs(*v_as_ln_diff_u_lk.args),0)\n",
    "diff_u_only_eq_lk"
   ]
  },
  {
   "cell_type": "code",
   "execution_count": 155,
   "id": "f1f8d789-b527-4e4d-9fa2-f5b7086cc8c3",
   "metadata": {},
   "outputs": [
    {
     "data": {
      "text/latex": [
       "$\\displaystyle \\alpha u^{3}{\\left(z \\right)} \\kappa + \\alpha u^{2}{\\left(z \\right)} \\beta - u^{2}{\\left(z \\right)} \\frac{d}{d z} u{\\left(z \\right)} \\kappa - u{\\left(z \\right)} \\frac{d}{d z} u{\\left(z \\right)} \\beta - u{\\left(z \\right)} \\frac{d^{2}}{d z^{2}} u{\\left(z \\right)} + \\left(\\frac{d}{d z} u{\\left(z \\right)}\\right)^{2}$"
      ],
      "text/plain": [
       "alpha*u(z)**3*kappa + alpha*u(z)**2*beta - u(z)**2*Derivative(u(z), z)*kappa - u(z)*Derivative(u(z), z)*beta - u(z)*Derivative(u(z), (z, 2)) + Derivative(u(z), z)**2"
      ]
     },
     "execution_count": 155,
     "metadata": {},
     "output_type": "execute_result"
    }
   ],
   "source": [
    "diff_u_only_eq_lk_expanded = (diff_u_only_eq_lk.doit().expand().lhs*u(z)**2*delta).expand()\n",
    "diff_u_only_eq_lk_expanded"
   ]
  },
  {
   "cell_type": "code",
   "execution_count": 392,
   "id": "0314e7d9-c3f3-4e1f-baa6-393aa7fa26a9",
   "metadata": {},
   "outputs": [
    {
     "data": {
      "text/latex": [
       "$\\displaystyle - \\frac{x \\left(f^{x}{\\left(z \\right)} e^{y z} a \\kappa + \\beta\\right) f^{x}{\\left(z \\right)} f^{x + 4}{\\left(z \\right)} e^{2 y z} \\frac{d}{d z} f{\\left(z \\right)} a^{2}}{f^{5}{\\left(z \\right)}} - \\frac{x f^{2 x + 3}{\\left(z \\right)} e^{2 y z} \\frac{d^{2}}{d z^{2}} f{\\left(z \\right)} a^{2}}{f^{4}{\\left(z \\right)}} + \\frac{x f^{2 x + 3}{\\left(z \\right)} e^{2 y z} \\left(\\frac{d}{d z} f{\\left(z \\right)}\\right)^{2} a^{2}}{f^{5}{\\left(z \\right)}} - \\frac{\\left(- \\alpha f^{2 x + 5}{\\left(z \\right)} + y f^{x + 1}{\\left(z \\right)} f^{x + 4}{\\left(z \\right)}\\right) \\left(f^{x}{\\left(z \\right)} e^{y z} a \\kappa + \\beta\\right) e^{2 y z} a^{2}}{f^{5}{\\left(z \\right)}}$"
      ],
      "text/plain": [
       "-x*(f(z)**x*exp(y*z)*a*kappa + beta)*f(z)**x*f(z)**(x + 4)*exp(2*y*z)*Derivative(f(z), z)*a**2/f(z)**5 - x*f(z)**(2*x + 3)*exp(2*y*z)*Derivative(f(z), (z, 2))*a**2/f(z)**4 + x*f(z)**(2*x + 3)*exp(2*y*z)*Derivative(f(z), z)**2*a**2/f(z)**5 - (-alpha*f(z)**(2*x + 5) + y*f(z)**(x + 1)*f(z)**(x + 4))*(f(z)**x*exp(y*z)*a*kappa + beta)*exp(2*y*z)*a**2/f(z)**5"
      ]
     },
     "execution_count": 392,
     "metadata": {},
     "output_type": "execute_result"
    }
   ],
   "source": [
    "diff_u_only_eq_lk_expanded.subs(u(z),a*f(z)**x*exp(y*z)).doit().simplify().expand().collect(diff(f(z),z),factor)"
   ]
  },
  {
   "cell_type": "code",
   "execution_count": 381,
   "id": "79a83529-75bd-4386-a66d-3ee83c89f4e2",
   "metadata": {},
   "outputs": [
    {
     "data": {
      "text/latex": [
       "$\\displaystyle \\frac{d^{2}}{d z^{2}} h{\\left(z \\right)}$"
      ],
      "text/plain": [
       "Derivative(h(z), (z, 2))"
      ]
     },
     "execution_count": 381,
     "metadata": {},
     "output_type": "execute_result"
    }
   ],
   "source": [
    "diff(diff(f(z),z)/f(z)).subs(f(z),exp(h(z))).doit().simplify()"
   ]
  },
  {
   "cell_type": "markdown",
   "id": "143cfd37-0e0e-4528-972c-9e6e619b1310",
   "metadata": {},
   "source": [
    "## A solvable Lotka–Volterra like system\n",
    "Thus far, solving the Lotka-Volterra system has proved difficult. In order to get some angle of attack, a Lagrangian is constructed that has at least some similarity with the LK system, but conserves a known quantity and can be solved using elliptic functions. This Lagrangian is as follows:"
   ]
  },
  {
   "cell_type": "code",
   "execution_count": 156,
   "id": "68cb3767-7d26-4c40-8b38-9f03089ea436",
   "metadata": {},
   "outputs": [
    {
     "data": {
      "text/latex": [
       "$\\displaystyle L{\\left(u{\\left(z \\right)},v{\\left(z \\right)},\\frac{d}{d z} u{\\left(z \\right)},\\frac{d}{d z} v{\\left(z \\right)} \\right)} = - \\alpha u{\\left(z \\right)} v{\\left(z \\right)} - \\delta u{\\left(z \\right)} v^{2}{\\left(z \\right)} - u^{2}{\\left(z \\right)} v{\\left(z \\right)} \\beta + \\frac{u{\\left(z \\right)} \\frac{d}{d z} v{\\left(z \\right)}}{2} - \\frac{v{\\left(z \\right)} \\frac{d}{d z} u{\\left(z \\right)}}{2}$"
      ],
      "text/plain": [
       "Eq(L(u(z), v(z), Derivative(u(z), z), Derivative(v(z), z)), -alpha*u(z)*v(z) - delta*u(z)*v(z)**2 - u(z)**2*v(z)*beta + u(z)*Derivative(v(z), z)/2 - v(z)*Derivative(u(z), z)/2)"
      ]
     },
     "execution_count": 156,
     "metadata": {},
     "output_type": "execute_result"
    }
   ],
   "source": [
    "kinetic  = (u(z)*diff(v(z),z) - v(z)*diff(u(z),z))/2\n",
    "potential = alpha*u(z)*v(z) +delta*u(z)*v(z)**2 + beta*u(z)**2*v(z)\n",
    "lagrangian = Eq(L(u(z),v(z),diff(u(z),z),diff(v(z),z)), kinetic - potential)\n",
    "lagrangian"
   ]
  },
  {
   "cell_type": "code",
   "execution_count": 157,
   "id": "e7d22bc9-babc-4b16-a0a0-bb1d150972f0",
   "metadata": {},
   "outputs": [
    {
     "data": {
      "text/latex": [
       "$\\displaystyle L{\\left(u{\\left(z \\right)},v{\\left(z \\right)},\\frac{d}{d z} u{\\left(z \\right)},\\frac{d}{d z} v{\\left(z \\right)} \\right)} = - \\alpha y v^{x}{\\left(z \\right)} + \\delta x y v{\\left(z \\right)} - x y u{\\left(z \\right)} \\kappa - x u^{y}{\\left(z \\right)} \\beta - \\frac{x u^{y}{\\left(z \\right)} v^{x}{\\left(z \\right)} \\frac{d}{d z} v{\\left(z \\right)}}{2 v{\\left(z \\right)}} + \\frac{y u^{y}{\\left(z \\right)} v^{x}{\\left(z \\right)} \\frac{d}{d z} u{\\left(z \\right)}}{2 u{\\left(z \\right)}}$"
      ],
      "text/plain": [
       "Eq(L(u(z), v(z), Derivative(u(z), z), Derivative(v(z), z)), -alpha*y*v(z)**x + delta*x*y*v(z) - x*y*u(z)*kappa - x*u(z)**y*beta - x*u(z)**y*v(z)**x*Derivative(v(z), z)/(2*v(z)) + y*u(z)**y*v(z)**x*Derivative(u(z), z)/(2*u(z)))"
      ]
     },
     "execution_count": 157,
     "metadata": {},
     "output_type": "execute_result"
    }
   ],
   "source": [
    "lkg_lagrangian.subs([(y,y),(x,x)])"
   ]
  },
  {
   "cell_type": "markdown",
   "id": "62a20d13-edfa-4d09-a295-cc2f1fef793c",
   "metadata": {},
   "source": [
    "So it can be seen that the difference with the LK system and this one, is the $u(z)^2, v(z)^2$ terms in this example:"
   ]
  },
  {
   "cell_type": "code",
   "execution_count": 158,
   "id": "c3e7bbce-081c-4723-a842-34806ec74c8f",
   "metadata": {},
   "outputs": [
    {
     "data": {
      "text/latex": [
       "$\\displaystyle \\frac{d}{d z} v{\\left(z \\right)} = \\alpha v{\\left(z \\right)} + \\delta v^{2}{\\left(z \\right)} + 2 u{\\left(z \\right)} v{\\left(z \\right)} \\beta$"
      ],
      "text/plain": [
       "Eq(Derivative(v(z), z), alpha*v(z) + delta*v(z)**2 + 2*u(z)*v(z)*beta)"
      ]
     },
     "execution_count": 158,
     "metadata": {},
     "output_type": "execute_result"
    },
    {
     "data": {
      "text/latex": [
       "$\\displaystyle \\frac{d}{d z} u{\\left(z \\right)} = - \\alpha u{\\left(z \\right)} - 2 \\delta u{\\left(z \\right)} v{\\left(z \\right)} - u^{2}{\\left(z \\right)} \\beta$"
      ],
      "text/plain": [
       "Eq(Derivative(u(z), z), -alpha*u(z) - 2*delta*u(z)*v(z) - u(z)**2*beta)"
      ]
     },
     "execution_count": 158,
     "metadata": {},
     "output_type": "execute_result"
    }
   ],
   "source": [
    "dv1 = Eq(diff(v(z),z),solve(euler_lagrange_eqs[0].subs(*lagrangian.args).doit() , diff(v(z),z))[0]).expand()\n",
    "dv2 = Eq(diff(u(z),z),solve(euler_lagrange_eqs[1].subs(*lagrangian.args).doit() , diff(u(z),z))[0]).expand()\n",
    "dv1\n",
    "dv2"
   ]
  },
  {
   "cell_type": "markdown",
   "id": "09ec2a3d-f819-4c3f-bce5-23c7988a584f",
   "metadata": {},
   "source": [
    "The system can easily be rescaled to reduce the number of paramters:"
   ]
  },
  {
   "cell_type": "code",
   "execution_count": 159,
   "id": "f3b0a41b-7a5a-4475-afb8-3fb249ab63c7",
   "metadata": {},
   "outputs": [
    {
     "data": {
      "text/latex": [
       "$\\displaystyle \\frac{d}{d z} v{\\left(z \\right)} = \\left(\\alpha + 2 u{\\left(z \\right)} + v{\\left(z \\right)}\\right) v{\\left(z \\right)}$"
      ],
      "text/plain": [
       "Eq(Derivative(v(z), z), (alpha + 2*u(z) + v(z))*v(z))"
      ]
     },
     "execution_count": 159,
     "metadata": {},
     "output_type": "execute_result"
    },
    {
     "data": {
      "text/latex": [
       "$\\displaystyle \\frac{d}{d z} u{\\left(z \\right)} = \\left(- \\alpha - u{\\left(z \\right)} - 2 v{\\left(z \\right)}\\right) u{\\left(z \\right)}$"
      ],
      "text/plain": [
       "Eq(Derivative(u(z), z), (-alpha - u(z) - 2*v(z))*u(z))"
      ]
     },
     "execution_count": 159,
     "metadata": {},
     "output_type": "execute_result"
    }
   ],
   "source": [
    "dv1_scaled = dv1.subs([(u(z),u(z)/beta),(v(z),v(z)/delta)])\n",
    "dv2_scaled = dv2.subs([(u(z),u(z)/beta),(v(z),v(z)/delta)])\n",
    "dv1_scaled = Eq(dv1_scaled.lhs*delta, dv1_scaled.rhs*delta).simplify()\n",
    "dv2_scaled = Eq(dv2_scaled.lhs*beta, dv2_scaled.rhs*beta).simplify()\n",
    "dv1_scaled\n",
    "dv2_scaled"
   ]
  },
  {
   "cell_type": "code",
   "execution_count": 269,
   "id": "0205e8c5-15ad-4e2b-8649-35a92b567018",
   "metadata": {},
   "outputs": [
    {
     "data": {
      "text/latex": [
       "$\\displaystyle - \\alpha^{2} v^{2}{\\left(z \\right)} - 4 \\alpha v^{3}{\\left(z \\right)} - 3 v^{4}{\\left(z \\right)} + 2 v{\\left(z \\right)} \\frac{d^{2}}{d z^{2}} v{\\left(z \\right)} - \\left(\\frac{d}{d z} v{\\left(z \\right)}\\right)^{2} = 0$"
      ],
      "text/plain": [
       "Eq(-alpha**2*v(z)**2 - 4*alpha*v(z)**3 - 3*v(z)**4 + 2*v(z)*Derivative(v(z), (z, 2)) - Derivative(v(z), z)**2, 0)"
      ]
     },
     "execution_count": 269,
     "metadata": {},
     "output_type": "execute_result"
    }
   ],
   "source": [
    "vz_single_eq = Eq(((dv2_scaled.lhs - dv2_scaled.rhs).subs(u(z), solve(dv1_scaled,u(z))[0].expand()).doit()*v(z)**2*4).expand(),0)\n"
   ]
  },
  {
   "cell_type": "code",
   "execution_count": 292,
   "id": "718d9b06-643f-45e1-9a24-9bb58d254c15",
   "metadata": {},
   "outputs": [
    {
     "data": {
      "text/latex": [
       "$\\displaystyle 3 h^{5}{\\left(z \\right)} + 4 h^{3}{\\left(z \\right)} + h{\\left(z \\right)} - \\frac{4 \\frac{d^{2}}{d z^{2}} h{\\left(z \\right)}}{\\alpha^{2}} = 0$"
      ],
      "text/plain": [
       "Eq(3*h(z)**5 + 4*h(z)**3 + h(z) - 4*Derivative(h(z), (z, 2))/alpha**2, 0)"
      ]
     },
     "execution_count": 292,
     "metadata": {},
     "output_type": "execute_result"
    }
   ],
   "source": [
    "_xsss = Eq(((vz_single_eq.lhs.subs(v(z),f(z)**2).doit()/f(z)**3).subs(f(z),h(z)*sqrt(alpha))/sqrt(alpha)**5).expand(),0).doit().simplify()\n",
    "_xsss"
   ]
  },
  {
   "cell_type": "code",
   "execution_count": 307,
   "id": "ac15ba99-9b25-49d5-af60-9f8458155c99",
   "metadata": {},
   "outputs": [
    {
     "data": {
      "text/plain": [
       "[0, -I, I, -sqrt(3)*I/3, sqrt(3)*I/3]"
      ]
     },
     "execution_count": 307,
     "metadata": {},
     "output_type": "execute_result"
    }
   ],
   "source": [
    "solve((3*x**5+4*x**3+x).factor(),x)"
   ]
  },
  {
   "cell_type": "markdown",
   "id": "586263a2-3b85-4fd6-9997-11d7fa7d7ded",
   "metadata": {},
   "source": [
    "It conserves the following quantity:"
   ]
  },
  {
   "cell_type": "code",
   "execution_count": 160,
   "id": "6ae735d8-4b4d-4f89-a7b9-dc2768061f45",
   "metadata": {},
   "outputs": [
    {
     "data": {
      "text/latex": [
       "$\\displaystyle p = \\alpha u{\\left(z \\right)} v{\\left(z \\right)} + u^{2}{\\left(z \\right)} v{\\left(z \\right)} + u{\\left(z \\right)} v^{2}{\\left(z \\right)}$"
      ],
      "text/plain": [
       "Eq(p, alpha*u(z)*v(z) + u(z)**2*v(z) + u(z)*v(z)**2)"
      ]
     },
     "execution_count": 160,
     "metadata": {},
     "output_type": "execute_result"
    }
   ],
   "source": [
    "potential_scaled = Eq(p,potential.subs([(delta,1),(beta,1)]))\n",
    "potential_scaled"
   ]
  },
  {
   "cell_type": "code",
   "execution_count": 161,
   "id": "ee93d6fc-b883-4ecb-b04a-f254fc4643bd",
   "metadata": {},
   "outputs": [
    {
     "data": {
      "text/latex": [
       "$\\displaystyle 0$"
      ],
      "text/plain": [
       "0"
      ]
     },
     "execution_count": 161,
     "metadata": {},
     "output_type": "execute_result"
    }
   ],
   "source": [
    "diff(potential_scaled.rhs.expand(),z).subs([dv1_scaled.args, dv2_scaled.args]).expand()"
   ]
  },
  {
   "cell_type": "markdown",
   "id": "a6b840b0-b824-48a4-a484-bcb7625f2e61",
   "metadata": {},
   "source": [
    "### Weierstrass sigma function solutions"
   ]
  },
  {
   "cell_type": "markdown",
   "id": "86d1b9ca-05bf-483e-a8bd-57411f8cc77d",
   "metadata": {},
   "source": [
    "It is easily shown that the product $u(z)v(z)$ (plus a constant) solves the differential Weierstrass P function:"
   ]
  },
  {
   "cell_type": "code",
   "execution_count": 162,
   "id": "96cfe595-a3af-47f0-a6ab-2ec3e05ef8cc",
   "metadata": {},
   "outputs": [
    {
     "data": {
      "text/latex": [
       "$\\displaystyle \\left(- \\alpha u{\\left(z \\right)} v{\\left(z \\right)} + p\\right)^{2} = \\left(u^{2}{\\left(z \\right)} v{\\left(z \\right)} + u{\\left(z \\right)} v^{2}{\\left(z \\right)}\\right)^{2}$"
      ],
      "text/plain": [
       "Eq((-alpha*u(z)*v(z) + p)**2, (u(z)**2*v(z) + u(z)*v(z)**2)**2)"
      ]
     },
     "execution_count": 162,
     "metadata": {},
     "output_type": "execute_result"
    }
   ],
   "source": [
    "p_sqrd_terms = Eq((p - alpha*u(z)*v(z))**2,(potential_scaled.rhs.expand() - alpha*u(z)*v(z))**2)\n",
    "p_sqrd_terms"
   ]
  },
  {
   "cell_type": "code",
   "execution_count": 163,
   "id": "38315e4d-52ad-4efd-abde-bffdb5e2f164",
   "metadata": {},
   "outputs": [
    {
     "data": {
      "text/latex": [
       "$\\displaystyle \\left(\\frac{d}{d z} u{\\left(z \\right)} v{\\left(z \\right)}\\right)^{2} = \\alpha^{2} u^{2}{\\left(z \\right)} v^{2}{\\left(z \\right)} - 2 \\alpha u{\\left(z \\right)} v{\\left(z \\right)} p - 4 u^{3}{\\left(z \\right)} v^{3}{\\left(z \\right)} + p^{2}$"
      ],
      "text/plain": [
       "Eq(Derivative(u(z)*v(z), z)**2, alpha**2*u(z)**2*v(z)**2 - 2*alpha*u(z)*v(z)*p - 4*u(z)**3*v(z)**3 + p**2)"
      ]
     },
     "execution_count": 163,
     "metadata": {},
     "output_type": "execute_result"
    }
   ],
   "source": [
    "duv_sqrd = Eq(Derivative(u(z)*v(z),z)**2, ((diff(u(z)*v(z),z).subs(\n",
    "    [dv1_scaled.args, dv2_scaled.args]).expand())**2 - (p_sqrd_terms.rhs - p_sqrd_terms.lhs)).expand())\n",
    "duv_sqrd"
   ]
  },
  {
   "cell_type": "code",
   "execution_count": 164,
   "id": "c095bf68-b670-4cc7-8578-e03d0323b618",
   "metadata": {},
   "outputs": [
    {
     "data": {
      "text/latex": [
       "$\\displaystyle u{\\left(z \\right)} = \\frac{\\frac{\\alpha^{2}}{12} - f{\\left(z \\right)}}{v{\\left(z \\right)}}$"
      ],
      "text/plain": [
       "Eq(u(z), (alpha**2/12 - f(z))/v(z))"
      ]
     },
     "execution_count": 164,
     "metadata": {},
     "output_type": "execute_result"
    }
   ],
   "source": [
    "ufv_sub = Eq(u(z),(-f(z)+solve(duv_sqrd.subs(u(z),(-f(z)+c)/v(z)).rhs.expand().collect(f(z)).coeff(f(z)**2),c)[0])/v(z))\n",
    "ufv_sub"
   ]
  },
  {
   "cell_type": "code",
   "execution_count": 165,
   "id": "0c4c3350-41d2-4a58-bc63-8755708a810d",
   "metadata": {},
   "outputs": [
    {
     "data": {
      "text/latex": [
       "$\\displaystyle \\left(\\frac{d}{d z} f{\\left(z \\right)}\\right)^{2} = \\frac{\\alpha^{6}}{216} - \\frac{\\alpha^{3} p}{6} + \\left(- \\frac{\\alpha^{4}}{12} + 2 \\alpha p\\right) f{\\left(z \\right)} + 4 f^{3}{\\left(z \\right)} + p^{2}$"
      ],
      "text/plain": [
       "Eq(Derivative(f(z), z)**2, alpha**6/216 - alpha**3*p/6 + (-alpha**4/12 + 2*alpha*p)*f(z) + 4*f(z)**3 + p**2)"
      ]
     },
     "execution_count": 165,
     "metadata": {},
     "output_type": "execute_result"
    }
   ],
   "source": [
    "df_sqrd = duv_sqrd.subs(*ufv_sub.args).doit().expand()\n",
    "df_sqrd = Eq(df_sqrd.lhs, (df_sqrd.rhs).collect(f(z)))\n",
    "df_sqrd"
   ]
  },
  {
   "cell_type": "code",
   "execution_count": 166,
   "id": "bb5b6851-ff14-4198-9bc2-e09b9b2acafd",
   "metadata": {},
   "outputs": [
    {
     "data": {
      "text/latex": [
       "$\\displaystyle g_{2} = \\frac{\\alpha^{4}}{12} - 2 \\alpha p$"
      ],
      "text/plain": [
       "Eq(g2, alpha**4/12 - 2*alpha*p)"
      ]
     },
     "execution_count": 166,
     "metadata": {},
     "output_type": "execute_result"
    }
   ],
   "source": [
    "g2_eq = Eq(g2, -df_sqrd.rhs.coeff(f(z)))\n",
    "g2_eq"
   ]
  },
  {
   "cell_type": "code",
   "execution_count": 167,
   "id": "009c97b3-b72e-4a1d-b5cd-6b95022e9311",
   "metadata": {},
   "outputs": [
    {
     "data": {
      "text/latex": [
       "$\\displaystyle X = -1 + \\frac{24 p}{\\alpha^{3}}$"
      ],
      "text/plain": [
       "Eq(X, -1 + 24*p/alpha**3)"
      ]
     },
     "execution_count": 167,
     "metadata": {},
     "output_type": "execute_result"
    }
   ],
   "source": [
    "Eq(X,solve(p - (X+1)/24*alpha**3,X)[0])"
   ]
  },
  {
   "cell_type": "code",
   "execution_count": 168,
   "id": "bd22a41a-9efa-455e-bcb2-43f00aea13ca",
   "metadata": {},
   "outputs": [
    {
     "data": {
      "text/latex": [
       "$\\displaystyle g_{2} = - \\frac{X \\alpha^{4}}{12}$"
      ],
      "text/plain": [
       "Eq(g2, -X*alpha**4/12)"
      ]
     },
     "execution_count": 168,
     "metadata": {},
     "output_type": "execute_result"
    }
   ],
   "source": [
    "g2_eq.subs(p,(X+1)/24*alpha**3).expand()"
   ]
  },
  {
   "cell_type": "code",
   "execution_count": 169,
   "id": "039d0ecb-7db4-49c5-bb07-6eeadf3818db",
   "metadata": {},
   "outputs": [
    {
     "data": {
      "text/latex": [
       "$\\displaystyle g_{3} = - \\frac{\\alpha^{6}}{216} + \\frac{\\alpha^{3} p}{6} - p^{2}$"
      ],
      "text/plain": [
       "Eq(g3, -alpha**6/216 + alpha**3*p/6 - p**2)"
      ]
     },
     "execution_count": 169,
     "metadata": {},
     "output_type": "execute_result"
    }
   ],
   "source": [
    "g3_eq = Eq(g3, -df_sqrd.rhs.subs(f(z),0))\n",
    "g3_eq"
   ]
  },
  {
   "cell_type": "code",
   "execution_count": 170,
   "id": "df1d5755-7fa0-4c99-8969-6256d3c1b61f",
   "metadata": {},
   "outputs": [
    {
     "data": {
      "text/latex": [
       "$\\displaystyle - \\left(- \\alpha^{3} + 27 p\\right) p^{3}$"
      ],
      "text/plain": [
       "-(-alpha**3 + 27*p)*p**3"
      ]
     },
     "execution_count": 170,
     "metadata": {},
     "output_type": "execute_result"
    }
   ],
   "source": [
    "(g2_eq.rhs**3 - 27*g3_eq.rhs**2).expand().factor()"
   ]
  },
  {
   "cell_type": "code",
   "execution_count": 297,
   "id": "9c86bc28-9b11-4393-8cb8-728c780db0ac",
   "metadata": {},
   "outputs": [
    {
     "data": {
      "text/latex": [
       "$\\displaystyle g_{3} = \\frac{\\alpha^{6}}{1728} - \\frac{\\alpha^{2} g_{2}}{24} - \\frac{g_{2}^{2}}{4 \\alpha^{2}}$"
      ],
      "text/plain": [
       "Eq(g3, alpha**6/1728 - alpha**2*g2/24 - g2**2/(4*alpha**2))"
      ]
     },
     "execution_count": 297,
     "metadata": {},
     "output_type": "execute_result"
    }
   ],
   "source": [
    "g3_g2_alpha = g3_eq.subs(p,solve(g2_eq,p)[0]).expand()\n",
    "g3_g2_alpha"
   ]
  },
  {
   "cell_type": "code",
   "execution_count": 172,
   "id": "989dd69f-9b93-4161-990f-2bad20e1bce2",
   "metadata": {},
   "outputs": [
    {
     "data": {
      "text/latex": [
       "$\\displaystyle g_{3} = - \\frac{X^{2} \\alpha^{6}}{576} + \\frac{X \\alpha^{6}}{288} + \\frac{\\alpha^{6}}{1728}$"
      ],
      "text/plain": [
       "Eq(g3, -X**2*alpha**6/576 + X*alpha**6/288 + alpha**6/1728)"
      ]
     },
     "execution_count": 172,
     "metadata": {},
     "output_type": "execute_result"
    }
   ],
   "source": [
    "g3_eq.subs(p,solve(g2_eq,p)[0]).expand().subs(g2,-X*alpha**4/12)"
   ]
  },
  {
   "cell_type": "code",
   "execution_count": 173,
   "id": "c9eafc23-4111-46a5-a1b3-3d00191e9cc7",
   "metadata": {},
   "outputs": [
    {
     "data": {
      "text/latex": [
       "$\\displaystyle j = \\frac{1728 g_{2}^{3}}{g_{2}^{3} - 27 g_{3}^{2}}$"
      ],
      "text/plain": [
       "Eq(j, 1728*g2**3/(g2**3 - 27*g3**2))"
      ]
     },
     "execution_count": 173,
     "metadata": {},
     "output_type": "execute_result"
    }
   ],
   "source": [
    "jinv = Eq(j,1728*g2**3/(g2**3 - 27*g3**2))\n",
    "jinv"
   ]
  },
  {
   "cell_type": "code",
   "execution_count": 306,
   "id": "13ab63b4-7819-4985-a72a-748e6e827ab6",
   "metadata": {},
   "outputs": [
    {
     "data": {
      "text/latex": [
       "$\\displaystyle j = \\frac{1728 g_{2}^{3}}{g_{2}^{3} - 27 \\left(- \\frac{g_{2}^{2}}{4} - \\frac{g_{2}}{24} + \\frac{1}{1728}\\right)^{2}}$"
      ],
      "text/plain": [
       "Eq(j, 1728*g2**3/(g2**3 - 27*(-g2**2/4 - g2/24 + 1/1728)**2))"
      ]
     },
     "execution_count": 306,
     "metadata": {},
     "output_type": "execute_result"
    }
   ],
   "source": [
    "jinv.subs(*g3_g2_alpha.args).subs(alpha,1)"
   ]
  },
  {
   "cell_type": "code",
   "execution_count": 174,
   "id": "e67a669f-1426-4b90-b219-d6e5af962f70",
   "metadata": {},
   "outputs": [
    {
     "data": {
      "text/latex": [
       "$\\displaystyle j = \\frac{110592 X^{3}}{9 X^{4} + 28 X^{3} + 30 X^{2} + 12 X + 1}$"
      ],
      "text/plain": [
       "Eq(j, 110592*X**3/(9*X**4 + 28*X**3 + 30*X**2 + 12*X + 1))"
      ]
     },
     "execution_count": 174,
     "metadata": {},
     "output_type": "execute_result"
    }
   ],
   "source": [
    "jinv.subs([g2_eq.args, g3_eq.args]).subs(p,(X+1)/24*alpha**3).expand().simplify()"
   ]
  },
  {
   "cell_type": "code",
   "execution_count": 175,
   "id": "4a1a817e-ce05-4042-bdc5-38d3e5d85397",
   "metadata": {},
   "outputs": [
    {
     "data": {
      "text/latex": [
       "$\\displaystyle \\left(\\frac{d}{d z} f{\\left(z \\right)}\\right)^{2} = - g_{2} f{\\left(z \\right)} - g_{3} + 4 f^{3}{\\left(z \\right)}$"
      ],
      "text/plain": [
       "Eq(Derivative(f(z), z)**2, -g2*f(z) - g3 + 4*f(z)**3)"
      ]
     },
     "execution_count": 175,
     "metadata": {},
     "output_type": "execute_result"
    }
   ],
   "source": [
    "df_sqrd_wp = df_sqrd.subs([(g2_eq.rhs,g2_eq.lhs), (g3_eq.rhs,g3_eq.lhs)])\n",
    "df_sqrd_wp"
   ]
  },
  {
   "cell_type": "code",
   "execution_count": 176,
   "id": "486a7be9-28ec-4407-95ef-95aa8490898b",
   "metadata": {},
   "outputs": [
    {
     "data": {
      "text/latex": [
       "$\\displaystyle f{\\left(z \\right)} = \\operatorname{pw}{\\left(z - z_{0},g_{2},g_{3} \\right)}$"
      ],
      "text/plain": [
       "Eq(f(z), pw(z - z0, g2, g3))"
      ]
     },
     "execution_count": 176,
     "metadata": {},
     "output_type": "execute_result"
    }
   ],
   "source": [
    "fpw = Eq(f(z),pw(z-z0,g2,g3))\n",
    "fpw"
   ]
  },
  {
   "cell_type": "code",
   "execution_count": 177,
   "id": "aa64821c-5d3f-43f0-a208-db72bb31338b",
   "metadata": {},
   "outputs": [
    {
     "data": {
      "text/latex": [
       "$\\displaystyle u{\\left(z \\right)} v{\\left(z \\right)} = \\frac{\\alpha^{2}}{12} - f{\\left(z \\right)}$"
      ],
      "text/plain": [
       "Eq(u(z)*v(z), alpha**2/12 - f(z))"
      ]
     },
     "execution_count": 177,
     "metadata": {},
     "output_type": "execute_result"
    }
   ],
   "source": [
    "uv_as_f = Eq(u(z)*v(z),(-f(z)+alpha**2/12))\n",
    "uv_as_f"
   ]
  },
  {
   "cell_type": "code",
   "execution_count": 178,
   "id": "86d02ed8-d183-435c-80a3-217d857344df",
   "metadata": {},
   "outputs": [
    {
     "data": {
      "text/latex": [
       "$\\displaystyle \\operatorname{pw}{\\left(z_{0},g_{2},g_{3} \\right)} = \\frac{\\alpha^{2}}{12} - u{\\left(0 \\right)} v{\\left(0 \\right)}$"
      ],
      "text/plain": [
       "Eq(pw(z0, g2, g3), alpha**2/12 - u(0)*v(0))"
      ]
     },
     "execution_count": 178,
     "metadata": {},
     "output_type": "execute_result"
    }
   ],
   "source": [
    "u0_v0_pw_z0 = uv_as_f.subs(*fpw.args).subs(z,0).subs(pw(-z0,g2,g3),pw(z0,g2,g3))\n",
    "pw_z0_u0_v0 = Eq(pw(z0,g2,g3), solve(u0_v0_pw_z0.lhs - u0_v0_pw_z0.rhs, pw(z0,g2,g3))[0])\n",
    "pw_z0_u0_v0"
   ]
  },
  {
   "cell_type": "code",
   "execution_count": 179,
   "id": "fb967300-e1c8-45e8-86be-5166bec3ad1b",
   "metadata": {},
   "outputs": [
    {
     "data": {
      "text/latex": [
       "$\\displaystyle \\operatorname{pwp}{\\left(z_{0},g_{2},g_{3} \\right)} = u^{2}{\\left(0 \\right)} v{\\left(0 \\right)} - u{\\left(0 \\right)} v^{2}{\\left(0 \\right)}$"
      ],
      "text/plain": [
       "Eq(pwp(z0, g2, g3), u(0)**2*v(0) - u(0)*v(0)**2)"
      ]
     },
     "execution_count": 179,
     "metadata": {},
     "output_type": "execute_result"
    }
   ],
   "source": [
    "pwp_z0_u0_v0 = Eq(\n",
    "    -pwp(z-z0,g2,g3),\n",
    "    diff(uv_as_f.subs(*fpw.args).lhs,z)\n",
    ").subs([dv1_scaled.args, dv2_scaled.args]).expand().subs(z,0).subs(pwp(-z0,g2,g3),-pwp(z0,g2,g3))\n",
    "pwp_z0_u0_v0"
   ]
  },
  {
   "cell_type": "code",
   "execution_count": 180,
   "id": "7cc875de-76b9-49a4-8f3e-b7a2fcbef2b7",
   "metadata": {},
   "outputs": [
    {
     "data": {
      "text/latex": [
       "$\\displaystyle \\frac{\\frac{d}{d z} u{\\left(z \\right)}}{u{\\left(z \\right)}} = \\frac{\\frac{d}{d z} \\log{\\left(u{\\left(z \\right)} v{\\left(z \\right)} \\right)}}{2} - \\frac{\\frac{d}{d z} v{\\left(z \\right)}}{2 v{\\left(z \\right)}} + \\frac{\\frac{d}{d z} u{\\left(z \\right)}}{2 u{\\left(z \\right)}}$"
      ],
      "text/plain": [
       "Eq(Derivative(u(z), z)/u(z), Derivative(log(u(z)*v(z)), z)/2 - Derivative(v(z), z)/(2*v(z)) + Derivative(u(z), z)/(2*u(z)))"
      ]
     },
     "execution_count": 180,
     "metadata": {},
     "output_type": "execute_result"
    }
   ],
   "source": [
    "dln_u_as_du_dv = Eq(diff(ln(u(z)),z), Derivative(ln(u(z)*v(z)),z)/2 + diff(ln(u(z)/v(z)),z).expand()/2)\n",
    "dln_u_as_du_dv"
   ]
  },
  {
   "cell_type": "code",
   "execution_count": 181,
   "id": "2a8ea5bf-9e1f-4e2b-83a6-47b6e898e4cf",
   "metadata": {},
   "outputs": [
    {
     "data": {
      "text/latex": [
       "$\\displaystyle - \\frac{\\frac{d}{d z} v{\\left(z \\right)}}{2 v{\\left(z \\right)}} + \\frac{\\frac{d}{d z} u{\\left(z \\right)}}{2 u{\\left(z \\right)}} = - \\alpha - \\frac{3 u{\\left(z \\right)}}{2} - \\frac{3 v{\\left(z \\right)}}{2}$"
      ],
      "text/plain": [
       "Eq(-Derivative(v(z), z)/(2*v(z)) + Derivative(u(z), z)/(2*u(z)), -alpha - 3*u(z)/2 - 3*v(z)/2)"
      ]
     },
     "execution_count": 181,
     "metadata": {},
     "output_type": "execute_result"
    }
   ],
   "source": [
    "dln_u_over_v = Eq(diff(ln(u(z)/v(z)),z).expand()/2, diff(ln(u(z)/v(z)),z).expand().subs([dv1_scaled.args, dv2_scaled.args])/2)\n",
    "dln_u_over_v"
   ]
  },
  {
   "cell_type": "code",
   "execution_count": 182,
   "id": "eae4a9fc-a2f5-45a4-9998-8db076f4db41",
   "metadata": {},
   "outputs": [
    {
     "data": {
      "text/latex": [
       "$\\displaystyle \\frac{3 p}{2 u{\\left(z \\right)} v{\\left(z \\right)}} = \\frac{3 \\alpha}{2} + \\frac{3 u{\\left(z \\right)}}{2} + \\frac{3 v{\\left(z \\right)}}{2}$"
      ],
      "text/plain": [
       "Eq(3*p/(2*u(z)*v(z)), 3*alpha/2 + 3*u(z)/2 + 3*v(z)/2)"
      ]
     },
     "execution_count": 182,
     "metadata": {},
     "output_type": "execute_result"
    }
   ],
   "source": [
    "p_over_uv = Eq(3*p/u(z)/v(z)/2, 3*(potential_scaled.rhs/u(z)/v(z)).expand()/2)\n",
    "p_over_uv"
   ]
  },
  {
   "cell_type": "code",
   "execution_count": 183,
   "id": "b0c8c8de-713c-4c2d-aad6-e9881e0713ba",
   "metadata": {},
   "outputs": [
    {
     "data": {
      "text/latex": [
       "$\\displaystyle - \\frac{\\frac{d}{d z} v{\\left(z \\right)}}{2 v{\\left(z \\right)}} + \\frac{\\frac{d}{d z} u{\\left(z \\right)}}{2 u{\\left(z \\right)}} = \\frac{\\alpha}{2} - \\frac{3 p}{2 u{\\left(z \\right)} v{\\left(z \\right)}}$"
      ],
      "text/plain": [
       "Eq(-Derivative(v(z), z)/(2*v(z)) + Derivative(u(z), z)/(2*u(z)), alpha/2 - 3*p/(2*u(z)*v(z)))"
      ]
     },
     "execution_count": 183,
     "metadata": {},
     "output_type": "execute_result"
    }
   ],
   "source": [
    "dln_u_over_v_with_p = Eq(dln_u_over_v.lhs, dln_u_over_v.rhs - p_over_uv.lhs + p_over_uv.rhs)\n",
    "dln_u_over_v_with_p"
   ]
  },
  {
   "cell_type": "code",
   "execution_count": 184,
   "id": "7b1cf7d7-10f9-4896-921b-8ffe9a72df33",
   "metadata": {},
   "outputs": [
    {
     "data": {
      "text/latex": [
       "$\\displaystyle \\frac{\\frac{d}{d z} u{\\left(z \\right)}}{u{\\left(z \\right)}} = \\frac{\\alpha}{2} - \\frac{3 p}{\\frac{\\alpha^{2}}{6} - 2 f{\\left(z \\right)}} - \\frac{\\frac{d}{d z} f{\\left(z \\right)}}{2 \\left(\\frac{\\alpha^{2}}{12} - f{\\left(z \\right)}\\right)}$"
      ],
      "text/plain": [
       "Eq(Derivative(u(z), z)/u(z), alpha/2 - 3*p/(alpha**2/6 - 2*f(z)) - Derivative(f(z), z)/(2*(alpha**2/12 - f(z))))"
      ]
     },
     "execution_count": 184,
     "metadata": {},
     "output_type": "execute_result"
    }
   ],
   "source": [
    "dln_u_f = dln_u_as_du_dv.subs(*dln_u_over_v_with_p.args).subs(*uv_as_f.args).doit()\n",
    "dln_u_f"
   ]
  },
  {
   "cell_type": "code",
   "execution_count": 185,
   "id": "743b3c53-ceea-468d-836f-5db65f0d665f",
   "metadata": {},
   "outputs": [
    {
     "data": {
      "text/latex": [
       "$\\displaystyle \\operatorname{pw}{\\left({\\xi}_{0},g_{2},g_{3} \\right)} = \\frac{\\alpha^{2}}{12}$"
      ],
      "text/plain": [
       "Eq(pw(xi[0], g2, g3), alpha**2/12)"
      ]
     },
     "execution_count": 185,
     "metadata": {},
     "output_type": "execute_result"
    }
   ],
   "source": [
    "pw_alpha = Eq(pw(xi[0],g2,g3),alpha**2/12)\n",
    "pw_alpha"
   ]
  },
  {
   "cell_type": "code",
   "execution_count": 186,
   "id": "71a5ee21-a841-4b66-9a4e-cbed7a84e5ee",
   "metadata": {},
   "outputs": [
    {
     "data": {
      "text/latex": [
       "$\\displaystyle \\operatorname{pwp}^{2}{\\left({\\xi}_{0},g_{2},g_{3} \\right)} = p^{2}$"
      ],
      "text/plain": [
       "Eq(pwp(xi[0], g2, g3)**2, p**2)"
      ]
     },
     "execution_count": 186,
     "metadata": {},
     "output_type": "execute_result"
    }
   ],
   "source": [
    "Eq(pwp(xi[0],g2,g3)**2, df_sqrd.rhs.subs(f(z),alpha**2/12)).expand()"
   ]
  },
  {
   "cell_type": "code",
   "execution_count": 187,
   "id": "a4126604-c140-4781-9731-29befaab747a",
   "metadata": {},
   "outputs": [
    {
     "data": {
      "text/latex": [
       "$\\displaystyle \\operatorname{pwp}{\\left({\\xi}_{0},g_{2},g_{3} \\right)} = p$"
      ],
      "text/plain": [
       "Eq(pwp(xi[0], g2, g3), p)"
      ]
     },
     "execution_count": 187,
     "metadata": {},
     "output_type": "execute_result"
    }
   ],
   "source": [
    "pwp_xi0 = Eq(pwp(xi[0],g2,g3), p)\n",
    "pwp_xi0"
   ]
  },
  {
   "cell_type": "code",
   "execution_count": 188,
   "id": "b6440805-80c7-44cc-a3c7-d4360584bf6e",
   "metadata": {},
   "outputs": [
    {
     "data": {
      "text/latex": [
       "$\\displaystyle \\frac{\\frac{d}{d z} u{\\left(z \\right)}}{u{\\left(z \\right)}} = \\frac{\\alpha}{2} - \\frac{\\operatorname{pwp}{\\left(z - z_{0},g_{2},g_{3} \\right)}}{2 \\left(- \\operatorname{pw}{\\left(z - z_{0},g_{2},g_{3} \\right)} + \\operatorname{pw}{\\left({\\xi}_{0},g_{2},g_{3} \\right)}\\right)} - \\frac{3 \\operatorname{pwp}{\\left({\\xi}_{0},g_{2},g_{3} \\right)}}{- 2 \\operatorname{pw}{\\left(z - z_{0},g_{2},g_{3} \\right)} + 2 \\operatorname{pw}{\\left({\\xi}_{0},g_{2},g_{3} \\right)}}$"
      ],
      "text/plain": [
       "Eq(Derivative(u(z), z)/u(z), alpha/2 - pwp(z - z0, g2, g3)/(2*(-pw(z - z0, g2, g3) + pw(xi[0], g2, g3))) - 3*pwp(xi[0], g2, g3)/(-2*pw(z - z0, g2, g3) + 2*pw(xi[0], g2, g3)))"
      ]
     },
     "execution_count": 188,
     "metadata": {},
     "output_type": "execute_result"
    }
   ],
   "source": [
    "dln_u_pw_pwp = dln_u_f.subs([\n",
    "    fpw.args, (pw_alpha.rhs*12, pw_alpha.lhs*12),(pwp_xi0.rhs, pwp_xi0.lhs)]).subs(Derivative(pw(z-z0,g2,g3),z),pwp(z-z0,g2,g3))\n",
    "dln_u_pw_pwp"
   ]
  },
  {
   "cell_type": "code",
   "execution_count": 189,
   "id": "c33e65c9-99f8-498e-a39f-3b94574b38a2",
   "metadata": {},
   "outputs": [
    {
     "data": {
      "text/latex": [
       "$\\displaystyle \\frac{\\operatorname{pwp}{\\left(z - z_{0},g_{2},g_{3} \\right)}}{2 \\operatorname{pw}{\\left(z - z_{0},g_{2},g_{3} \\right)} - 2 \\operatorname{pw}{\\left({\\xi}_{0},g_{2},g_{3} \\right)}} + \\frac{3 \\operatorname{pwp}{\\left({\\xi}_{0},g_{2},g_{3} \\right)}}{2 \\operatorname{pw}{\\left(z - z_{0},g_{2},g_{3} \\right)} - 2 \\operatorname{pw}{\\left({\\xi}_{0},g_{2},g_{3} \\right)}} = - \\operatorname{zw}{\\left(z - z_{0},g_{2},g_{3} \\right)} + 2 \\operatorname{zw}{\\left(z - z_{0} - {\\xi}_{0},g_{2},g_{3} \\right)} - \\operatorname{zw}{\\left(z - z_{0} + {\\xi}_{0},g_{2},g_{3} \\right)} + 3 \\operatorname{zw}{\\left({\\xi}_{0},g_{2},g_{3} \\right)}$"
      ],
      "text/plain": [
       "Eq(pwp(z - z0, g2, g3)/(2*pw(z - z0, g2, g3) - 2*pw(xi[0], g2, g3)) + 3*pwp(xi[0], g2, g3)/(2*pw(z - z0, g2, g3) - 2*pw(xi[0], g2, g3)), -zw(z - z0, g2, g3) + 2*zw(z - z0 - xi[0], g2, g3) - zw(z - z0 + xi[0], g2, g3) + 3*zw(xi[0], g2, g3))"
      ]
     },
     "execution_count": 189,
     "metadata": {},
     "output_type": "execute_result"
    }
   ],
   "source": [
    "pw_pwp_zw_Z_xi0 = Eq(\n",
    "    (2*pw_to_zw_identity.subs([(x,z-z0),(y,-xi[0])]).lhs - \n",
    "     pw_to_zw_identity.subs([(x,z-z0),(y,xi[0])]).lhs).expand().subs([\n",
    "        (pwp(-xi[0],g2,g3),-pwp(xi[0],g2,g3)), (pw(-xi[0],g2,g3),pw(xi[0],g2,g3))\n",
    "    ]).simplify().expand(),\n",
    "    (2*pw_to_zw_identity.subs([(x,z-z0),(y,-xi[0])]).rhs - \n",
    "     pw_to_zw_identity.subs([(x,z-z0),(y,xi[0])]).rhs).expand().subs([\n",
    "        (zw(-xi[0],g2,g3),-zw(xi[0],g2,g3))\n",
    "    ]).simplify().expand()\n",
    ")\n",
    "pw_pwp_zw_Z_xi0"
   ]
  },
  {
   "cell_type": "code",
   "execution_count": 190,
   "id": "34225eff-cdfc-4f05-bd21-2d58cc8cb82d",
   "metadata": {},
   "outputs": [
    {
     "data": {
      "text/latex": [
       "$\\displaystyle \\frac{\\frac{d}{d z} u{\\left(z \\right)}}{u{\\left(z \\right)}} = \\frac{\\alpha}{2} - \\operatorname{zw}{\\left(z - z_{0},g_{2},g_{3} \\right)} + 2 \\operatorname{zw}{\\left(z - z_{0} - {\\xi}_{0},g_{2},g_{3} \\right)} - \\operatorname{zw}{\\left(z - z_{0} + {\\xi}_{0},g_{2},g_{3} \\right)} + 3 \\operatorname{zw}{\\left({\\xi}_{0},g_{2},g_{3} \\right)}$"
      ],
      "text/plain": [
       "Eq(Derivative(u(z), z)/u(z), alpha/2 - zw(z - z0, g2, g3) + 2*zw(z - z0 - xi[0], g2, g3) - zw(z - z0 + xi[0], g2, g3) + 3*zw(xi[0], g2, g3))"
      ]
     },
     "execution_count": 190,
     "metadata": {},
     "output_type": "execute_result"
    }
   ],
   "source": [
    "dlnu_zw_xi0 = Eq(dln_u_pw_pwp.lhs, dln_u_pw_pwp.rhs - pw_pwp_zw_Z_xi0.lhs + pw_pwp_zw_Z_xi0.rhs).simplify()\n",
    "dlnu_zw_xi0"
   ]
  },
  {
   "cell_type": "code",
   "execution_count": 191,
   "id": "462c390e-cb29-4dc9-8070-7cbd49e582d8",
   "metadata": {},
   "outputs": [
    {
     "data": {
      "text/latex": [
       "$\\displaystyle \\log{\\left(u{\\left(z \\right)} \\right)} = z \\left(\\frac{\\alpha}{2} + 3 \\operatorname{zw}{\\left({\\xi}_{0},g_{2},g_{3} \\right)}\\right) - \\log{\\left(\\sigma{\\left(z - z_{0},g_{2},g_{3} \\right)} \\right)} + 2 \\log{\\left(\\sigma{\\left(z - z_{0} - {\\xi}_{0},g_{2},g_{3} \\right)} \\right)} - \\log{\\left(\\sigma{\\left(z - z_{0} + {\\xi}_{0},g_{2},g_{3} \\right)} \\right)} + c$"
      ],
      "text/plain": [
       "Eq(log(u(z)), z*(alpha/2 + 3*zw(xi[0], g2, g3)) - log(sigma(z - z0, g2, g3)) + 2*log(sigma(z - z0 - xi[0], g2, g3)) - log(sigma(z - z0 + xi[0], g2, g3)) + c)"
      ]
     },
     "execution_count": 191,
     "metadata": {},
     "output_type": "execute_result"
    }
   ],
   "source": [
    "lnu_sigma = Eq(ln(u(z)), \n",
    "   (alpha/2+3*zw(xi[0],g2,g3))*z - ln(sigma(z-z0,g2,g3)) + 2*ln(sigma(z-z0-xi[0],g2,g3)) - ln(sigma(z-z0+xi[0],g2,g3)) +c)\n",
    "lnu_sigma"
   ]
  },
  {
   "cell_type": "code",
   "execution_count": 192,
   "id": "54aecaae-cde1-401a-941d-c99af7a9b041",
   "metadata": {},
   "outputs": [
    {
     "data": {
      "text/latex": [
       "$\\displaystyle u{\\left(z \\right)} = \\frac{\\sigma^{2}{\\left(z - z_{0} - {\\xi}_{0},g_{2},g_{3} \\right)} e^{z \\left(\\frac{\\alpha}{2} + 3 \\operatorname{zw}{\\left({\\xi}_{0},g_{2},g_{3} \\right)}\\right) + c}}{\\sigma{\\left(z - z_{0},g_{2},g_{3} \\right)} \\sigma{\\left(z - z_{0} + {\\xi}_{0},g_{2},g_{3} \\right)}}$"
      ],
      "text/plain": [
       "Eq(u(z), sigma(z - z0 - xi[0], g2, g3)**2*exp(z*(alpha/2 + 3*zw(xi[0], g2, g3)) + c)/(sigma(z - z0, g2, g3)*sigma(z - z0 + xi[0], g2, g3)))"
      ]
     },
     "execution_count": 192,
     "metadata": {},
     "output_type": "execute_result"
    }
   ],
   "source": [
    "u_as_sigma = Eq(u(z), exp((alpha/2+3*zw(xi[0],g2,g3))*z + c)*sigma(z-z0-xi[0],g2,g3)**2/sigma(z-z0,g2,g3)/sigma(z-z0+xi[0],g2,g3))\n",
    "u_as_sigma"
   ]
  },
  {
   "cell_type": "code",
   "execution_count": 193,
   "id": "127e39e6-b5ba-40d2-91c1-7bbdabe913e0",
   "metadata": {},
   "outputs": [
    {
     "data": {
      "text/latex": [
       "$\\displaystyle u{\\left(z \\right)} v{\\left(z \\right)} = - \\operatorname{pw}{\\left(z - z_{0},g_{2},g_{3} \\right)} + \\operatorname{pw}{\\left({\\xi}_{0},g_{2},g_{3} \\right)}$"
      ],
      "text/plain": [
       "Eq(u(z)*v(z), -pw(z - z0, g2, g3) + pw(xi[0], g2, g3))"
      ]
     },
     "execution_count": 193,
     "metadata": {},
     "output_type": "execute_result"
    }
   ],
   "source": [
    "uv_as_pw = uv_as_f.subs([(pw_alpha.rhs, pw_alpha.lhs), fpw.args])\n",
    "uv_as_pw"
   ]
  },
  {
   "cell_type": "code",
   "execution_count": 194,
   "id": "c0facf73-1990-4486-9197-3e470d6ee8b6",
   "metadata": {},
   "outputs": [
    {
     "data": {
      "text/latex": [
       "$\\displaystyle - \\operatorname{pw}{\\left(x,g_{2},g_{3} \\right)} + \\operatorname{pw}{\\left(y,g_{2},g_{3} \\right)} = \\frac{\\sigma{\\left(x - y,g_{2},g_{3} \\right)} \\sigma{\\left(x + y,g_{2},g_{3} \\right)}}{\\sigma^{2}{\\left(x,g_{2},g_{3} \\right)} \\sigma^{2}{\\left(y,g_{2},g_{3} \\right)}}$"
      ],
      "text/plain": [
       "Eq(-pw(x, g2, g3) + pw(y, g2, g3), sigma(x - y, g2, g3)*sigma(x + y, g2, g3)/(sigma(x, g2, g3)**2*sigma(y, g2, g3)**2))"
      ]
     },
     "execution_count": 194,
     "metadata": {},
     "output_type": "execute_result"
    }
   ],
   "source": [
    "sigma_p_identity = Eq(\n",
    "    pw(y, g2, g3) - pw(x, g2, g3),\n",
    "    sigma(x + y, g2, g3) * sigma(x - y, g2, g3) / (sigma(x, g2, g3) ** 2 * sigma(y, g2, g3) ** 2) \n",
    ")\n",
    "sigma_p_identity"
   ]
  },
  {
   "cell_type": "code",
   "execution_count": 195,
   "id": "80dda3c1-9669-410f-a7b1-e688e28a525e",
   "metadata": {},
   "outputs": [
    {
     "data": {
      "text/latex": [
       "$\\displaystyle u{\\left(z \\right)} v{\\left(z \\right)} = \\frac{\\sigma{\\left(z - z_{0} - {\\xi}_{0},g_{2},g_{3} \\right)} \\sigma{\\left(z - z_{0} + {\\xi}_{0},g_{2},g_{3} \\right)}}{\\sigma^{2}{\\left(z - z_{0},g_{2},g_{3} \\right)} \\sigma^{2}{\\left({\\xi}_{0},g_{2},g_{3} \\right)}}$"
      ],
      "text/plain": [
       "Eq(u(z)*v(z), sigma(z - z0 - xi[0], g2, g3)*sigma(z - z0 + xi[0], g2, g3)/(sigma(z - z0, g2, g3)**2*sigma(xi[0], g2, g3)**2))"
      ]
     },
     "execution_count": 195,
     "metadata": {},
     "output_type": "execute_result"
    }
   ],
   "source": [
    "uv_as_sigma = uv_as_pw.subs(*sigma_p_identity.subs([(y,xi[0]),(x,z-z0)]).args)\n",
    "uv_as_sigma"
   ]
  },
  {
   "cell_type": "code",
   "execution_count": 196,
   "id": "dc1d4597-51d4-4c69-bf15-8da65bb84c3d",
   "metadata": {},
   "outputs": [
    {
     "data": {
      "text/latex": [
       "$\\displaystyle v{\\left(z \\right)} = \\frac{\\sigma^{2}{\\left(z - z_{0} + {\\xi}_{0},g_{2},g_{3} \\right)} e^{- \\frac{\\alpha z}{2} - 3 z \\operatorname{zw}{\\left({\\xi}_{0},g_{2},g_{3} \\right)} - c}}{\\sigma{\\left(z - z_{0},g_{2},g_{3} \\right)} \\sigma{\\left(z - z_{0} - {\\xi}_{0},g_{2},g_{3} \\right)} \\sigma^{2}{\\left({\\xi}_{0},g_{2},g_{3} \\right)}}$"
      ],
      "text/plain": [
       "Eq(v(z), sigma(z - z0 + xi[0], g2, g3)**2*exp(-alpha*z/2 - 3*z*zw(xi[0], g2, g3) - c)/(sigma(z - z0, g2, g3)*sigma(z - z0 - xi[0], g2, g3)*sigma(xi[0], g2, g3)**2))"
      ]
     },
     "execution_count": 196,
     "metadata": {},
     "output_type": "execute_result"
    }
   ],
   "source": [
    "v_as_sigma = Eq(v(z),solve(uv_as_sigma.subs(*u_as_sigma.args),v(z))[0])\n",
    "v_as_sigma"
   ]
  },
  {
   "cell_type": "code",
   "execution_count": 197,
   "id": "35ca1658-a2d5-4e26-b9bc-26c4f68dc830",
   "metadata": {},
   "outputs": [
    {
     "data": {
      "text/latex": [
       "$\\displaystyle u{\\left(z \\right)} = \\frac{\\sigma{\\left(- z_{0},g_{2},g_{3} \\right)} \\sigma{\\left(- z_{0} + {\\xi}_{0},g_{2},g_{3} \\right)} \\sigma^{2}{\\left(z - z_{0} - {\\xi}_{0},g_{2},g_{3} \\right)} u{\\left(0 \\right)} e^{\\frac{z \\left(\\alpha + 6 \\operatorname{zw}{\\left({\\xi}_{0},g_{2},g_{3} \\right)}\\right)}{2}}}{\\sigma{\\left(z - z_{0},g_{2},g_{3} \\right)} \\sigma^{2}{\\left(- z_{0} - {\\xi}_{0},g_{2},g_{3} \\right)} \\sigma{\\left(z - z_{0} + {\\xi}_{0},g_{2},g_{3} \\right)}}$"
      ],
      "text/plain": [
       "Eq(u(z), sigma(-z0, g2, g3)*sigma(-z0 + xi[0], g2, g3)*sigma(z - z0 - xi[0], g2, g3)**2*u(0)*exp(z*(alpha + 6*zw(xi[0], g2, g3))/2)/(sigma(z - z0, g2, g3)*sigma(-z0 - xi[0], g2, g3)**2*sigma(z - z0 + xi[0], g2, g3)))"
      ]
     },
     "execution_count": 197,
     "metadata": {},
     "output_type": "execute_result"
    },
    {
     "data": {
      "text/latex": [
       "$\\displaystyle v{\\left(z \\right)} = \\frac{\\sigma{\\left(- z_{0},g_{2},g_{3} \\right)} \\sigma{\\left(- z_{0} - {\\xi}_{0},g_{2},g_{3} \\right)} \\sigma^{2}{\\left(z - z_{0} + {\\xi}_{0},g_{2},g_{3} \\right)} v{\\left(0 \\right)} e^{- \\frac{z \\left(\\alpha + 6 \\operatorname{zw}{\\left({\\xi}_{0},g_{2},g_{3} \\right)}\\right)}{2}}}{\\sigma{\\left(z - z_{0},g_{2},g_{3} \\right)} \\sigma^{2}{\\left(- z_{0} + {\\xi}_{0},g_{2},g_{3} \\right)} \\sigma{\\left(z - z_{0} - {\\xi}_{0},g_{2},g_{3} \\right)}}$"
      ],
      "text/plain": [
       "Eq(v(z), sigma(-z0, g2, g3)*sigma(-z0 - xi[0], g2, g3)*sigma(z - z0 + xi[0], g2, g3)**2*v(0)*exp(-z*(alpha + 6*zw(xi[0], g2, g3))/2)/(sigma(z - z0, g2, g3)*sigma(-z0 + xi[0], g2, g3)**2*sigma(z - z0 - xi[0], g2, g3)))"
      ]
     },
     "execution_count": 197,
     "metadata": {},
     "output_type": "execute_result"
    }
   ],
   "source": [
    "u_as_sigma_u0 = u_as_sigma.expand().subs(exp(c), solve(u_as_sigma.subs(z,0),exp(c))[0]).simplify()\n",
    "v_as_sigma_v0 = v_as_sigma.expand().subs(exp(c), solve(v_as_sigma.subs(z,0),exp(c))[0]).simplify()\n",
    "u_as_sigma_u0\n",
    "v_as_sigma_v0"
   ]
  },
  {
   "cell_type": "markdown",
   "id": "5182343e-aa74-4d91-a7ee-21c3c39eb14f",
   "metadata": {},
   "source": [
    "### Weierstrass zeta function solutions\n",
    "The solutions can also be expressed in terms of Weierstrass zeta functions."
   ]
  },
  {
   "cell_type": "code",
   "execution_count": 198,
   "id": "0a638d8b-f1ed-4d4a-ae97-741e17b0ed82",
   "metadata": {},
   "outputs": [
    {
     "data": {
      "text/latex": [
       "$\\displaystyle \\frac{\\frac{d}{d z} v{\\left(z \\right)}}{v{\\left(z \\right)}} = - \\frac{\\alpha}{2} - \\operatorname{zw}{\\left(z - z_{0},g_{2},g_{3} \\right)} - \\operatorname{zw}{\\left(z - z_{0} - {\\xi}_{0},g_{2},g_{3} \\right)} + 2 \\operatorname{zw}{\\left(z - z_{0} + {\\xi}_{0},g_{2},g_{3} \\right)} - 3 \\operatorname{zw}{\\left({\\xi}_{0},g_{2},g_{3} \\right)}$"
      ],
      "text/plain": [
       "Eq(Derivative(v(z), z)/v(z), -alpha/2 - zw(z - z0, g2, g3) - zw(z - z0 - xi[0], g2, g3) + 2*zw(z - z0 + xi[0], g2, g3) - 3*zw(xi[0], g2, g3))"
      ]
     },
     "execution_count": 198,
     "metadata": {},
     "output_type": "execute_result"
    }
   ],
   "source": [
    "dlnv_zw_xi0 = Eq(diff(ln(v_as_sigma.lhs),z),diff(ln(v_as_sigma.rhs),z)).expand()\n",
    "dlnv_zw_xi0 = dlnv_zw_xi0.subs([sigma_zeta_eq.subs(z,z-z0-xi[0]).args, sigma_zeta_eq.subs(z,z-z0+xi[0]).args, sigma_zeta_eq.subs(z,z-z0).args])\n",
    "dlnv_zw_xi0"
   ]
  },
  {
   "cell_type": "code",
   "execution_count": 199,
   "id": "09c0b131-6ecf-404a-9335-863cf3a022d1",
   "metadata": {},
   "outputs": [
    {
     "data": {
      "text/latex": [
       "$\\displaystyle \\alpha + 2 u{\\left(z \\right)} + v{\\left(z \\right)} = - \\frac{\\alpha}{2} - \\operatorname{zw}{\\left(z - z_{0},g_{2},g_{3} \\right)} - \\operatorname{zw}{\\left(z - z_{0} - {\\xi}_{0},g_{2},g_{3} \\right)} + 2 \\operatorname{zw}{\\left(z - z_{0} + {\\xi}_{0},g_{2},g_{3} \\right)} - 3 \\operatorname{zw}{\\left({\\xi}_{0},g_{2},g_{3} \\right)}$"
      ],
      "text/plain": [
       "Eq(alpha + 2*u(z) + v(z), -alpha/2 - zw(z - z0, g2, g3) - zw(z - z0 - xi[0], g2, g3) + 2*zw(z - z0 + xi[0], g2, g3) - 3*zw(xi[0], g2, g3))"
      ]
     },
     "execution_count": 199,
     "metadata": {},
     "output_type": "execute_result"
    },
    {
     "data": {
      "text/latex": [
       "$\\displaystyle - \\alpha - u{\\left(z \\right)} - 2 v{\\left(z \\right)} = \\frac{\\alpha}{2} - \\operatorname{zw}{\\left(z - z_{0},g_{2},g_{3} \\right)} + 2 \\operatorname{zw}{\\left(z - z_{0} - {\\xi}_{0},g_{2},g_{3} \\right)} - \\operatorname{zw}{\\left(z - z_{0} + {\\xi}_{0},g_{2},g_{3} \\right)} + 3 \\operatorname{zw}{\\left({\\xi}_{0},g_{2},g_{3} \\right)}$"
      ],
      "text/plain": [
       "Eq(-alpha - u(z) - 2*v(z), alpha/2 - zw(z - z0, g2, g3) + 2*zw(z - z0 - xi[0], g2, g3) - zw(z - z0 + xi[0], g2, g3) + 3*zw(xi[0], g2, g3))"
      ]
     },
     "execution_count": 199,
     "metadata": {},
     "output_type": "execute_result"
    },
    {
     "data": {
      "text/latex": [
       "$\\displaystyle u{\\left(z \\right)} = - \\frac{\\alpha}{2} - \\operatorname{zw}{\\left(z - z_{0},g_{2},g_{3} \\right)} + \\operatorname{zw}{\\left(z - z_{0} + {\\xi}_{0},g_{2},g_{3} \\right)} - \\operatorname{zw}{\\left({\\xi}_{0},g_{2},g_{3} \\right)}$"
      ],
      "text/plain": [
       "Eq(u(z), -alpha/2 - zw(z - z0, g2, g3) + zw(z - z0 + xi[0], g2, g3) - zw(xi[0], g2, g3))"
      ]
     },
     "execution_count": 199,
     "metadata": {},
     "output_type": "execute_result"
    },
    {
     "data": {
      "text/latex": [
       "$\\displaystyle v{\\left(z \\right)} = - \\frac{\\alpha}{2} + \\operatorname{zw}{\\left(z - z_{0},g_{2},g_{3} \\right)} - \\operatorname{zw}{\\left(z - z_{0} - {\\xi}_{0},g_{2},g_{3} \\right)} - \\operatorname{zw}{\\left({\\xi}_{0},g_{2},g_{3} \\right)}$"
      ],
      "text/plain": [
       "Eq(v(z), -alpha/2 + zw(z - z0, g2, g3) - zw(z - z0 - xi[0], g2, g3) - zw(xi[0], g2, g3))"
      ]
     },
     "execution_count": 199,
     "metadata": {},
     "output_type": "execute_result"
    }
   ],
   "source": [
    "alpha_2v_plus_u = dlnu_zw_xi0.subs([dv1_scaled.args, dv2_scaled.args])\n",
    "alpha_2u_plus_v = dlnv_zw_xi0.subs([dv1_scaled.args, dv2_scaled.args])\n",
    "u_v_zw_sols = solve([alpha_2v_plus_u, alpha_2u_plus_v], [u(z), v(z)])\n",
    "u_zw_sol = Eq(u(z), u_v_zw_sols[u(z)])\n",
    "v_zw_sol = Eq(v(z), u_v_zw_sols[v(z)])\n",
    "alpha_2u_plus_v\n",
    "alpha_2v_plus_u\n",
    "u_zw_sol\n",
    "v_zw_sol"
   ]
  },
  {
   "cell_type": "code",
   "execution_count": 200,
   "id": "1915fe6c-cce2-49dd-90ed-11d19cb79af7",
   "metadata": {},
   "outputs": [
    {
     "data": {
      "text/latex": [
       "$\\displaystyle \\frac{\\partial}{\\partial z} \\operatorname{zw}{\\left(z,g_{2},g_{3} \\right)} - \\left. \\frac{\\partial}{\\partial \\xi_{1}} \\operatorname{zw}{\\left(\\xi_{1},g_{2},g_{3} \\right)} \\right|_{\\substack{ \\xi_{1}=z - {\\xi}_{0} }} = \\frac{\\alpha^{2}}{4} + \\alpha \\operatorname{zw}{\\left(z - {\\xi}_{0},g_{2},g_{3} \\right)} - \\alpha \\operatorname{zw}{\\left(z + {\\xi}_{0},g_{2},g_{3} \\right)} + 2 \\alpha \\operatorname{zw}{\\left({\\xi}_{0},g_{2},g_{3} \\right)} - \\operatorname{zw}^{2}{\\left(z,g_{2},g_{3} \\right)} + 2 \\operatorname{zw}{\\left(z,g_{2},g_{3} \\right)} \\operatorname{zw}{\\left(z + {\\xi}_{0},g_{2},g_{3} \\right)} - 2 \\operatorname{zw}{\\left(z,g_{2},g_{3} \\right)} \\operatorname{zw}{\\left({\\xi}_{0},g_{2},g_{3} \\right)} + \\operatorname{zw}^{2}{\\left(z - {\\xi}_{0},g_{2},g_{3} \\right)} - 2 \\operatorname{zw}{\\left(z - {\\xi}_{0},g_{2},g_{3} \\right)} \\operatorname{zw}{\\left(z + {\\xi}_{0},g_{2},g_{3} \\right)} + 4 \\operatorname{zw}{\\left(z - {\\xi}_{0},g_{2},g_{3} \\right)} \\operatorname{zw}{\\left({\\xi}_{0},g_{2},g_{3} \\right)} - 2 \\operatorname{zw}{\\left(z + {\\xi}_{0},g_{2},g_{3} \\right)} \\operatorname{zw}{\\left({\\xi}_{0},g_{2},g_{3} \\right)} + 3 \\operatorname{zw}^{2}{\\left({\\xi}_{0},g_{2},g_{3} \\right)}$"
      ],
      "text/plain": [
       "Eq(Derivative(zw(z, g2, g3), z) - Subs(Derivative(zw(_xi_1, g2, g3), _xi_1), _xi_1, z - xi[0]), alpha**2/4 + alpha*zw(z - xi[0], g2, g3) - alpha*zw(z + xi[0], g2, g3) + 2*alpha*zw(xi[0], g2, g3) - zw(z, g2, g3)**2 + 2*zw(z, g2, g3)*zw(z + xi[0], g2, g3) - 2*zw(z, g2, g3)*zw(xi[0], g2, g3) + zw(z - xi[0], g2, g3)**2 - 2*zw(z - xi[0], g2, g3)*zw(z + xi[0], g2, g3) + 4*zw(z - xi[0], g2, g3)*zw(xi[0], g2, g3) - 2*zw(z + xi[0], g2, g3)*zw(xi[0], g2, g3) + 3*zw(xi[0], g2, g3)**2)"
      ]
     },
     "execution_count": 200,
     "metadata": {},
     "output_type": "execute_result"
    },
    {
     "data": {
      "text/latex": [
       "$\\displaystyle - \\frac{\\partial}{\\partial z} \\operatorname{zw}{\\left(z,g_{2},g_{3} \\right)} + \\left. \\frac{\\partial}{\\partial \\xi_{1}} \\operatorname{zw}{\\left(\\xi_{1},g_{2},g_{3} \\right)} \\right|_{\\substack{ \\xi_{1}=z + {\\xi}_{0} }} = - \\frac{\\alpha^{2}}{4} - \\alpha \\operatorname{zw}{\\left(z - {\\xi}_{0},g_{2},g_{3} \\right)} + \\alpha \\operatorname{zw}{\\left(z + {\\xi}_{0},g_{2},g_{3} \\right)} - 2 \\alpha \\operatorname{zw}{\\left({\\xi}_{0},g_{2},g_{3} \\right)} + \\operatorname{zw}^{2}{\\left(z,g_{2},g_{3} \\right)} - 2 \\operatorname{zw}{\\left(z,g_{2},g_{3} \\right)} \\operatorname{zw}{\\left(z - {\\xi}_{0},g_{2},g_{3} \\right)} - 2 \\operatorname{zw}{\\left(z,g_{2},g_{3} \\right)} \\operatorname{zw}{\\left({\\xi}_{0},g_{2},g_{3} \\right)} + 2 \\operatorname{zw}{\\left(z - {\\xi}_{0},g_{2},g_{3} \\right)} \\operatorname{zw}{\\left(z + {\\xi}_{0},g_{2},g_{3} \\right)} - 2 \\operatorname{zw}{\\left(z - {\\xi}_{0},g_{2},g_{3} \\right)} \\operatorname{zw}{\\left({\\xi}_{0},g_{2},g_{3} \\right)} - \\operatorname{zw}^{2}{\\left(z + {\\xi}_{0},g_{2},g_{3} \\right)} + 4 \\operatorname{zw}{\\left(z + {\\xi}_{0},g_{2},g_{3} \\right)} \\operatorname{zw}{\\left({\\xi}_{0},g_{2},g_{3} \\right)} - 3 \\operatorname{zw}^{2}{\\left({\\xi}_{0},g_{2},g_{3} \\right)}$"
      ],
      "text/plain": [
       "Eq(-Derivative(zw(z, g2, g3), z) + Subs(Derivative(zw(_xi_1, g2, g3), _xi_1), _xi_1, z + xi[0]), -alpha**2/4 - alpha*zw(z - xi[0], g2, g3) + alpha*zw(z + xi[0], g2, g3) - 2*alpha*zw(xi[0], g2, g3) + zw(z, g2, g3)**2 - 2*zw(z, g2, g3)*zw(z - xi[0], g2, g3) - 2*zw(z, g2, g3)*zw(xi[0], g2, g3) + 2*zw(z - xi[0], g2, g3)*zw(z + xi[0], g2, g3) - 2*zw(z - xi[0], g2, g3)*zw(xi[0], g2, g3) - zw(z + xi[0], g2, g3)**2 + 4*zw(z + xi[0], g2, g3)*zw(xi[0], g2, g3) - 3*zw(xi[0], g2, g3)**2)"
      ]
     },
     "execution_count": 200,
     "metadata": {},
     "output_type": "execute_result"
    }
   ],
   "source": [
    "dv1_scaled.subs([u_zw_sol.args, v_zw_sol.args]).subs(z0,0).doit().expand()\n",
    "dv2_scaled.subs([u_zw_sol.args, v_zw_sol.args]).subs(z0,0).doit().expand()"
   ]
  },
  {
   "cell_type": "markdown",
   "id": "79a8b3c0-8785-4cb3-9ede-9a5dfcdeed32",
   "metadata": {},
   "source": [
    "#### Backward traveling waves. \n",
    "\n",
    "The solutions are relatable through a reversed propagation relation."
   ]
  },
  {
   "cell_type": "code",
   "execution_count": 201,
   "id": "f2b0d2b1-e70b-4725-aa03-378af2a54936",
   "metadata": {},
   "outputs": [
    {
     "data": {
      "text/latex": [
       "$\\displaystyle u{\\left(z + z_{0} \\right)} = - \\frac{\\alpha}{2} - \\operatorname{zw}{\\left(z,g_{2},g_{3} \\right)} + \\operatorname{zw}{\\left(z + {\\xi}_{0},g_{2},g_{3} \\right)} - \\operatorname{zw}{\\left({\\xi}_{0},g_{2},g_{3} \\right)}$"
      ],
      "text/plain": [
       "Eq(u(z + z0), -alpha/2 - zw(z, g2, g3) + zw(z + xi[0], g2, g3) - zw(xi[0], g2, g3))"
      ]
     },
     "execution_count": 201,
     "metadata": {},
     "output_type": "execute_result"
    },
    {
     "data": {
      "text/latex": [
       "$\\displaystyle v{\\left(- z + z_{0} \\right)} = - \\frac{\\alpha}{2} - \\operatorname{zw}{\\left(z,g_{2},g_{3} \\right)} + \\operatorname{zw}{\\left(z + {\\xi}_{0},g_{2},g_{3} \\right)} - \\operatorname{zw}{\\left({\\xi}_{0},g_{2},g_{3} \\right)}$"
      ],
      "text/plain": [
       "Eq(v(-z + z0), -alpha/2 - zw(z, g2, g3) + zw(z + xi[0], g2, g3) - zw(xi[0], g2, g3))"
      ]
     },
     "execution_count": 201,
     "metadata": {},
     "output_type": "execute_result"
    },
    {
     "data": {
      "text/latex": [
       "$\\displaystyle u{\\left(z + z_{0} \\right)} - v{\\left(- z + z_{0} \\right)} = 0$"
      ],
      "text/plain": [
       "Eq(u(z + z0) - v(-z + z0), 0)"
      ]
     },
     "execution_count": 201,
     "metadata": {},
     "output_type": "execute_result"
    }
   ],
   "source": [
    "u_plusz_z0 = Eq(u(z+z0), u(z).subs(*u_zw_sol.args).subs(z,z+z0))\n",
    "v_minsz_z0 = Eq(v(z+z0), v(z).subs(*v_zw_sol.args).subs(z,z+z0)).subs(z,-z).subs([\n",
    "    (zw(-z,g2,g3),-zw(z,g2,g3)), (zw(-z-xi[0],g2,g3),-zw(z+xi[0],g2,g3)), (zw(-z,g2,g3),-zw(z,g2,g3)), \n",
    "])\n",
    "u_plusz_z0\n",
    "v_minsz_z0\n",
    "Eq(u_plusz_z0.lhs-v_minsz_z0.lhs, u_plusz_z0.rhs-v_minsz_z0.rhs)"
   ]
  },
  {
   "cell_type": "markdown",
   "id": "3a2265c4-b8da-49fd-ab36-d0e95f20ea18",
   "metadata": {},
   "source": [
    "## A second related solvable Lotka–Volterra like \n",
    "\n",
    "From looking at the sigma functions form of solutions for $u(z),v(z)$ in the previous example, and comparing them to the form of sigma ratios derived elsewhere, it is noteworthy that these solutions have squares of sigma in the numerator and feature two $z$ dependent sigma functions in the denominator. It is almost as if they are related to more familiar solutions, that will be denoted $U(z),V(z)$, in the following way:"
   ]
  },
  {
   "cell_type": "code",
   "execution_count": 202,
   "id": "ac076c9b-6787-411b-8fe7-16a8a812353b",
   "metadata": {},
   "outputs": [
    {
     "data": {
      "text/latex": [
       "$\\displaystyle u{\\left(z \\right)} = \\frac{U^{2}{\\left(z \\right)}}{V{\\left(z \\right)}}$"
      ],
      "text/plain": [
       "Eq(u(z), U(z)**2/V(z))"
      ]
     },
     "execution_count": 202,
     "metadata": {},
     "output_type": "execute_result"
    },
    {
     "data": {
      "text/latex": [
       "$\\displaystyle v{\\left(z \\right)} = \\frac{V^{2}{\\left(z \\right)}}{U{\\left(z \\right)}}$"
      ],
      "text/plain": [
       "Eq(v(z), V(z)**2/U(z))"
      ]
     },
     "execution_count": 202,
     "metadata": {},
     "output_type": "execute_result"
    },
    {
     "data": {
      "text/latex": [
       "$\\displaystyle u{\\left(z \\right)} v{\\left(z \\right)} = U{\\left(z \\right)} V{\\left(z \\right)}$"
      ],
      "text/plain": [
       "Eq(u(z)*v(z), U(z)*V(z))"
      ]
     },
     "execution_count": 202,
     "metadata": {},
     "output_type": "execute_result"
    },
    {
     "data": {
      "text/latex": [
       "$\\displaystyle \\frac{u{\\left(z \\right)}}{v{\\left(z \\right)}} = \\frac{U^{3}{\\left(z \\right)}}{V^{3}{\\left(z \\right)}}$"
      ],
      "text/plain": [
       "Eq(u(z)/v(z), U(z)**3/V(z)**3)"
      ]
     },
     "execution_count": 202,
     "metadata": {},
     "output_type": "execute_result"
    }
   ],
   "source": [
    "uvN = 2\n",
    "u_as_VU = Eq(u(z),U(z)**uvN/V(z))\n",
    "v_as_VU = Eq(v(z),V(z)**uvN/U(z))\n",
    "u_v_as_U_V_subs = [u_as_VU.args, v_as_VU.args]\n",
    "uv_as_UV_subs = Eq(u(z)*v(z),(u(z)*v(z)).subs(u_v_as_U_V_subs))\n",
    "u_over_v_as_U_over_V = Eq(u(z)/v(z),(u(z)/v(z)).subs(u_v_as_U_V_subs))\n",
    "u_as_VU\n",
    "v_as_VU\n",
    "uv_as_UV_subs\n",
    "u_over_v_as_U_over_V"
   ]
  },
  {
   "cell_type": "code",
   "execution_count": 314,
   "id": "8681622a-28b4-4cb9-b3c1-0f7932f061b9",
   "metadata": {},
   "outputs": [
    {
     "data": {
      "text/latex": [
       "$\\displaystyle \\frac{d}{d z} U{\\left(z \\right)} = - \\frac{\\alpha U{\\left(z \\right)}}{3} - V^{2}{\\left(z \\right)}$"
      ],
      "text/plain": [
       "Eq(Derivative(U(z), z), -alpha*U(z)/3 - V(z)**2)"
      ]
     },
     "execution_count": 314,
     "metadata": {},
     "output_type": "execute_result"
    },
    {
     "data": {
      "text/latex": [
       "$\\displaystyle \\frac{d}{d z} V{\\left(z \\right)} = \\frac{\\alpha V{\\left(z \\right)}}{3} + U^{2}{\\left(z \\right)}$"
      ],
      "text/plain": [
       "Eq(Derivative(V(z), z), alpha*V(z)/3 + U(z)**2)"
      ]
     },
     "execution_count": 314,
     "metadata": {},
     "output_type": "execute_result"
    }
   ],
   "source": [
    "dUV_system = solve([dv1_scaled.subs(u_v_as_U_V_subs).doit(), dv2_scaled.subs(u_v_as_U_V_subs).doit()], [diff(U(z),z), diff(V(z),z)])\n",
    "dU = Eq(Derivative(U(z), z), dUV_system[Derivative(U(z), z)])\n",
    "dV = Eq(Derivative(V(z), z), dUV_system[Derivative(V(z), z)])\n",
    "dU\n",
    "dV"
   ]
  },
  {
   "cell_type": "code",
   "execution_count": 313,
   "id": "a80c60c3-c029-423f-873a-055bcb771468",
   "metadata": {},
   "outputs": [
    {
     "data": {
      "text/latex": [
       "$\\displaystyle \\frac{d}{d z} U{\\left(z \\right)} V{\\left(z \\right)} = U^{3}{\\left(z \\right)} - V^{3}{\\left(z \\right)}$"
      ],
      "text/plain": [
       "Eq(Derivative(U(z)*V(z), z), U(z)**3 - V(z)**3)"
      ]
     },
     "execution_count": 313,
     "metadata": {},
     "output_type": "execute_result"
    }
   ],
   "source": [
    "dUV_UV_cubed = Eq(Derivative(U(z)*V(z),z), diff(U(z)*V(z),z).subs([dU.args, dV.args])).expand()\n",
    "dUV_UV_cubed"
   ]
  },
  {
   "cell_type": "code",
   "execution_count": 205,
   "id": "fab75b47-80d6-4abe-9dd7-a1356ed20b12",
   "metadata": {},
   "outputs": [
    {
     "data": {
      "text/latex": [
       "$\\displaystyle \\frac{d^{2}}{d z^{2}} U{\\left(z \\right)} V{\\left(z \\right)} = - \\alpha U^{3}{\\left(z \\right)} - \\alpha V^{3}{\\left(z \\right)} - 6 U^{2}{\\left(z \\right)} V^{2}{\\left(z \\right)}$"
      ],
      "text/plain": [
       "Eq(Derivative(U(z)*V(z), (z, 2)), -alpha*U(z)**3 - alpha*V(z)**3 - 6*U(z)**2*V(z)**2)"
      ]
     },
     "execution_count": 205,
     "metadata": {},
     "output_type": "execute_result"
    }
   ],
   "source": [
    "dUV_UV_cubed_2 = Eq(Derivative(U(z)*V(z),z,2), diff(U(z)*V(z),z,2).subs([dU.args, dV.args]).doit().subs([dU.args, dV.args])).expand()\n",
    "dUV_UV_cubed_2"
   ]
  },
  {
   "cell_type": "code",
   "execution_count": 206,
   "id": "2b0302fd-6445-4ce9-8782-984af81cf3b1",
   "metadata": {},
   "outputs": [
    {
     "data": {
      "text/latex": [
       "$\\displaystyle u{\\left(z \\right)} v{\\left(z \\right)} = U{\\left(z \\right)} V{\\left(z \\right)}$"
      ],
      "text/plain": [
       "Eq(u(z)*v(z), U(z)*V(z))"
      ]
     },
     "execution_count": 206,
     "metadata": {},
     "output_type": "execute_result"
    }
   ],
   "source": [
    "uv_as_UV_subs"
   ]
  },
  {
   "cell_type": "code",
   "execution_count": 317,
   "id": "929cc324-dbe2-47ce-a800-af03acbd0ea8",
   "metadata": {},
   "outputs": [
    {
     "data": {
      "text/latex": [
       "$\\displaystyle p = \\alpha U{\\left(z \\right)} V{\\left(z \\right)} + U^{3}{\\left(z \\right)} + V^{3}{\\left(z \\right)}$"
      ],
      "text/plain": [
       "Eq(p, alpha*U(z)*V(z) + U(z)**3 + V(z)**3)"
      ]
     },
     "execution_count": 317,
     "metadata": {},
     "output_type": "execute_result"
    }
   ],
   "source": [
    "potential_scaled_UV = Eq(potential_scaled.lhs, potential_scaled.rhs.subs(u_v_as_U_V_subs))\n",
    "potential_scaled_UV"
   ]
  },
  {
   "cell_type": "code",
   "execution_count": 320,
   "id": "0ad3aa71-944c-4905-a25e-f02f471f4e54",
   "metadata": {},
   "outputs": [
    {
     "data": {
      "text/latex": [
       "$\\displaystyle 0$"
      ],
      "text/plain": [
       "0"
      ]
     },
     "execution_count": 320,
     "metadata": {},
     "output_type": "execute_result"
    }
   ],
   "source": [
    "diff(potential_scaled_UV.rhs,z).subs([dU.args, dV.args]).expand()"
   ]
  },
  {
   "cell_type": "code",
   "execution_count": 208,
   "id": "26d591f5-31d8-4b1f-b092-d3ddb7515283",
   "metadata": {},
   "outputs": [
    {
     "data": {
      "text/latex": [
       "$\\displaystyle 0 = 2 Y^{3} - \\frac{Y \\alpha^{2}}{6} + \\frac{\\alpha^{3}}{54} - p$"
      ],
      "text/plain": [
       "Eq(0, 2*Y**3 - Y*alpha**2/6 + alpha**3/54 - p)"
      ]
     },
     "execution_count": 208,
     "metadata": {},
     "output_type": "execute_result"
    }
   ],
   "source": [
    "Eq(0,-p+(alpha*X**2 +2*X**3).subs(X,Y-alpha/6).expand().collect(Y,factor))"
   ]
  },
  {
   "cell_type": "code",
   "execution_count": 209,
   "id": "620274f0-bef3-4b49-99bf-6de5d21bb504",
   "metadata": {},
   "outputs": [
    {
     "data": {
      "text/latex": [
       "$\\displaystyle 0$"
      ],
      "text/plain": [
       "0"
      ]
     },
     "execution_count": 209,
     "metadata": {},
     "output_type": "execute_result"
    }
   ],
   "source": [
    "diff(potential_scaled.rhs.subs(u_v_as_U_V_subs),z).subs([dU.args,dV.args]).doit().expand()"
   ]
  },
  {
   "cell_type": "code",
   "execution_count": 210,
   "id": "f30b5d8d-6073-414c-a12c-ed7cd8af5dc2",
   "metadata": {},
   "outputs": [
    {
     "data": {
      "text/latex": [
       "$\\displaystyle \\left(\\frac{d}{d z} U{\\left(z \\right)} V{\\left(z \\right)}\\right)^{2} = \\alpha^{2} U^{2}{\\left(z \\right)} V^{2}{\\left(z \\right)} - 2 \\alpha U{\\left(z \\right)} V{\\left(z \\right)} p - 4 U^{3}{\\left(z \\right)} V^{3}{\\left(z \\right)} + p^{2}$"
      ],
      "text/plain": [
       "Eq(Derivative(U(z)*V(z), z)**2, alpha**2*U(z)**2*V(z)**2 - 2*alpha*U(z)*V(z)*p - 4*U(z)**3*V(z)**3 + p**2)"
      ]
     },
     "execution_count": 210,
     "metadata": {},
     "output_type": "execute_result"
    }
   ],
   "source": [
    "duv_sqrd.subs(u_v_as_U_V_subs)"
   ]
  },
  {
   "cell_type": "code",
   "execution_count": 211,
   "id": "3f9624ce-14f3-4463-be01-98825fb1afc0",
   "metadata": {},
   "outputs": [
    {
     "data": {
      "text/latex": [
       "$\\displaystyle U{\\left(z \\right)} V{\\left(z \\right)} = - \\operatorname{pw}{\\left(z - z_{0},g_{2},g_{3} \\right)} + \\operatorname{pw}{\\left({\\xi}_{0},g_{2},g_{3} \\right)}$"
      ],
      "text/plain": [
       "Eq(U(z)*V(z), -pw(z - z0, g2, g3) + pw(xi[0], g2, g3))"
      ]
     },
     "execution_count": 211,
     "metadata": {},
     "output_type": "execute_result"
    }
   ],
   "source": [
    "UV_as_wp = uv_as_f.subs(u_v_as_U_V_subs).subs([pw_alpha.args[::-1],fpw.args])\n",
    "UV_as_wp"
   ]
  },
  {
   "cell_type": "code",
   "execution_count": 212,
   "id": "da1cb96e-698b-4aac-993f-d84fa6d8c41e",
   "metadata": {
    "scrolled": true
   },
   "outputs": [
    {
     "data": {
      "text/latex": [
       "$\\displaystyle \\frac{\\frac{d}{d z} U{\\left(z \\right)}}{U{\\left(z \\right)}} = \\frac{\\frac{d}{d z} \\log{\\left(U{\\left(z \\right)} V{\\left(z \\right)} \\right)}}{2} - \\frac{\\frac{d}{d z} V{\\left(z \\right)}}{2 V{\\left(z \\right)}} + \\frac{\\frac{d}{d z} U{\\left(z \\right)}}{2 U{\\left(z \\right)}}$"
      ],
      "text/plain": [
       "Eq(Derivative(U(z), z)/U(z), Derivative(log(U(z)*V(z)), z)/2 - Derivative(V(z), z)/(2*V(z)) + Derivative(U(z), z)/(2*U(z)))"
      ]
     },
     "execution_count": 212,
     "metadata": {},
     "output_type": "execute_result"
    }
   ],
   "source": [
    "dln_u_as_du_dv.subs([(u(z),U(z)),(v(z),V(z))])"
   ]
  },
  {
   "cell_type": "code",
   "execution_count": 213,
   "id": "9fc7482d-ecb9-453b-ba52-c13bfb29252f",
   "metadata": {},
   "outputs": [
    {
     "data": {
      "text/latex": [
       "$\\displaystyle \\frac{\\alpha}{2} - \\frac{p}{2 U{\\left(z \\right)} V{\\left(z \\right)}} = - \\frac{U^{2}{\\left(z \\right)}}{2 V{\\left(z \\right)}} - \\frac{V^{2}{\\left(z \\right)}}{2 U{\\left(z \\right)}}$"
      ],
      "text/plain": [
       "Eq(alpha/2 - p/(2*U(z)*V(z)), -U(z)**2/(2*V(z)) - V(z)**2/(2*U(z)))"
      ]
     },
     "execution_count": 213,
     "metadata": {},
     "output_type": "execute_result"
    }
   ],
   "source": [
    "p_over_UV = Eq(-(potential_scaled_UV.lhs/U(z)/V(z) - alpha)/2, -(potential_scaled_UV.rhs/U(z)/V(z) - alpha)/2).expand()\n",
    "p_over_UV"
   ]
  },
  {
   "cell_type": "code",
   "execution_count": 214,
   "id": "8d0d5beb-6f57-4431-8f9c-c01a67a34d21",
   "metadata": {},
   "outputs": [
    {
     "data": {
      "text/latex": [
       "$\\displaystyle \\frac{\\frac{d}{d z} U{\\left(z \\right)}}{U{\\left(z \\right)}} = \\frac{\\alpha}{6} - \\frac{\\operatorname{pwp}{\\left(z - z_{0},g_{2},g_{3} \\right)}}{- 2 \\operatorname{pw}{\\left(z - z_{0},g_{2},g_{3} \\right)} + 2 \\operatorname{pw}{\\left({\\xi}_{0},g_{2},g_{3} \\right)}} - \\frac{\\operatorname{pwp}{\\left({\\xi}_{0},g_{2},g_{3} \\right)}}{- 2 \\operatorname{pw}{\\left(z - z_{0},g_{2},g_{3} \\right)} + 2 \\operatorname{pw}{\\left({\\xi}_{0},g_{2},g_{3} \\right)}}$"
      ],
      "text/plain": [
       "Eq(Derivative(U(z), z)/U(z), alpha/6 - pwp(z - z0, g2, g3)/(-2*pw(z - z0, g2, g3) + 2*pw(xi[0], g2, g3)) - pwp(xi[0], g2, g3)/(-2*pw(z - z0, g2, g3) + 2*pw(xi[0], g2, g3)))"
      ]
     },
     "execution_count": 214,
     "metadata": {},
     "output_type": "execute_result"
    }
   ],
   "source": [
    "_dlnU = dln_u_as_du_dv.subs([(u(z),U(z)),(v(z),V(z))]).subs(*UV_as_wp.args).doit()\n",
    "_dlnU = Eq(_dlnU.lhs, _dlnU.rhs.subs([dU.args, dV.args]).expand().subs(p_over_UV.rhs, p_over_UV.lhs)).subs(*UV_as_wp.args).subs(\n",
    "    diff(pw(z-z0,g2,g3),z),pwp(z-z0,g2,g3)).subs(pwp_xi0.rhs, pwp_xi0.lhs)\n",
    "_dlnU"
   ]
  },
  {
   "cell_type": "code",
   "execution_count": 215,
   "id": "463c2d12-aa14-4433-9256-939de17df10b",
   "metadata": {},
   "outputs": [
    {
     "data": {
      "text/latex": [
       "$\\displaystyle \\frac{d}{d z} \\log{\\left(U{\\left(z \\right)} \\right)} = \\frac{\\alpha}{6} + \\frac{\\operatorname{pwp}{\\left(z - z_{0},g_{2},g_{3} \\right)} - \\operatorname{pwp}{\\left(- {\\xi}_{0},g_{2},g_{3} \\right)}}{2 \\left(\\operatorname{pw}{\\left(z - z_{0},g_{2},g_{3} \\right)} - \\operatorname{pw}{\\left({\\xi}_{0},g_{2},g_{3} \\right)}\\right)}$"
      ],
      "text/plain": [
       "Eq(Derivative(log(U(z)), z), alpha/6 + (pwp(z - z0, g2, g3) - pwp(-xi[0], g2, g3))/(2*(pw(z - z0, g2, g3) - pw(xi[0], g2, g3))))"
      ]
     },
     "execution_count": 215,
     "metadata": {},
     "output_type": "execute_result"
    }
   ],
   "source": [
    "_dlnU_pwp = Eq(Derivative(ln(U(z)),z), alpha/6 + (pwp(z-z0,g2,g3) - pwp(-xi[0], g2, g3))/(pw(z-z0, g2, g3) - pw(xi[0], g2, g3))/2)\n",
    "_dlnU_pwp"
   ]
  },
  {
   "cell_type": "code",
   "execution_count": 216,
   "id": "1fc1fe52-01f2-40b0-becd-3ccb66c33074",
   "metadata": {},
   "outputs": [
    {
     "data": {
      "text/latex": [
       "$\\displaystyle \\frac{d}{d z} \\log{\\left(U{\\left(z \\right)} \\right)} = \\frac{\\alpha}{6} - \\operatorname{zw}{\\left(z - z_{0},g_{2},g_{3} \\right)} + \\operatorname{zw}{\\left(z - z_{0} - {\\xi}_{0},g_{2},g_{3} \\right)} - \\operatorname{zw}{\\left(- {\\xi}_{0},g_{2},g_{3} \\right)}$"
      ],
      "text/plain": [
       "Eq(Derivative(log(U(z)), z), alpha/6 - zw(z - z0, g2, g3) + zw(z - z0 - xi[0], g2, g3) - zw(-xi[0], g2, g3))"
      ]
     },
     "execution_count": 216,
     "metadata": {},
     "output_type": "execute_result"
    }
   ],
   "source": [
    "_dlnU_pwp.subs(*(pw_to_zw_identity.subs([(x,z-z0),(y,-xi[0])]).subs(pw(-xi[0],g2,g3), pw(xi[0],g2,g3))).args)"
   ]
  },
  {
   "cell_type": "code",
   "execution_count": 217,
   "id": "a9e06336-6a72-424e-a93c-ce5d7b0eb415",
   "metadata": {},
   "outputs": [
    {
     "data": {
      "text/latex": [
       "$\\displaystyle \\log{\\left(U{\\left(z \\right)} \\right)} = z \\left(\\frac{\\alpha}{6} + \\operatorname{zw}{\\left({\\xi}_{0},g_{2},g_{3} \\right)}\\right) - \\log{\\left(\\sigma{\\left(z - z_{0},g_{2},g_{3} \\right)} \\right)} + \\log{\\left(\\sigma{\\left(z - z_{0} - {\\xi}_{0},g_{2},g_{3} \\right)} \\right)} + c$"
      ],
      "text/plain": [
       "Eq(log(U(z)), z*(alpha/6 + zw(xi[0], g2, g3)) - log(sigma(z - z0, g2, g3)) + log(sigma(z - z0 - xi[0], g2, g3)) + c)"
      ]
     },
     "execution_count": 217,
     "metadata": {},
     "output_type": "execute_result"
    }
   ],
   "source": [
    "logUz = Eq(log(U(z)), (alpha/6 + zw(xi[0],g2,g3))*z + log(sigma(z - z0 - xi[0],g2,g3)) - log(sigma(z - z0,g2,g3)) + c)\n",
    "logUz"
   ]
  },
  {
   "cell_type": "code",
   "execution_count": 218,
   "id": "e12500c5-87a6-40fb-be7f-2b3f29f186c8",
   "metadata": {},
   "outputs": [
    {
     "data": {
      "text/latex": [
       "$\\displaystyle U{\\left(z \\right)} = \\frac{\\sigma{\\left(z - z_{0} - {\\xi}_{0},g_{2},g_{3} \\right)} e^{z \\left(\\frac{\\alpha}{6} + \\operatorname{zw}{\\left({\\xi}_{0},g_{2},g_{3} \\right)}\\right) + c}}{\\sigma{\\left(z - z_{0},g_{2},g_{3} \\right)}}$"
      ],
      "text/plain": [
       "Eq(U(z), sigma(z - z0 - xi[0], g2, g3)*exp(z*(alpha/6 + zw(xi[0], g2, g3)) + c)/sigma(z - z0, g2, g3))"
      ]
     },
     "execution_count": 218,
     "metadata": {},
     "output_type": "execute_result"
    }
   ],
   "source": [
    "Uz_sigma = Eq(U(z), exp(z*(alpha/6+zw(xi[0], g2, g3)) + c)*sigma(z - z0 - xi[0], g2, g3)/sigma(z - z0, g2, g3))\n",
    "Uz_sigma"
   ]
  },
  {
   "cell_type": "code",
   "execution_count": 219,
   "id": "53c73e37-0df5-4d17-815f-8957cf4b31f8",
   "metadata": {},
   "outputs": [
    {
     "data": {
      "text/latex": [
       "$\\displaystyle V{\\left(z \\right)} = \\frac{\\sigma{\\left(z - z_{0} + {\\xi}_{0},g_{2},g_{3} \\right)} e^{- \\frac{\\alpha z}{6} - z \\operatorname{zw}{\\left({\\xi}_{0},g_{2},g_{3} \\right)} - c}}{\\sigma{\\left(z - z_{0},g_{2},g_{3} \\right)} \\sigma^{2}{\\left({\\xi}_{0},g_{2},g_{3} \\right)}}$"
      ],
      "text/plain": [
       "Eq(V(z), sigma(z - z0 + xi[0], g2, g3)*exp(-alpha*z/6 - z*zw(xi[0], g2, g3) - c)/(sigma(z - z0, g2, g3)*sigma(xi[0], g2, g3)**2))"
      ]
     },
     "execution_count": 219,
     "metadata": {},
     "output_type": "execute_result"
    }
   ],
   "source": [
    "_V_sig_eq = uv_as_sigma.subs(*uv_as_UV_subs.args).subs(*Uz_sigma.args)\n",
    "Vz_sigma = Eq(V(z),solve(_V_sig_eq.lhs - _V_sig_eq.rhs,V(z))[0])\n",
    "Vz_sigma"
   ]
  },
  {
   "cell_type": "code",
   "execution_count": 220,
   "id": "b570347b-db4d-4687-9d9b-c0f4a465f5e5",
   "metadata": {},
   "outputs": [
    {
     "data": {
      "text/latex": [
       "$\\displaystyle U{\\left(0 \\right)} = \\frac{\\sigma{\\left(- z_{0} - {\\xi}_{0},g_{2},g_{3} \\right)} e^{c}}{\\sigma{\\left(- z_{0},g_{2},g_{3} \\right)}}$"
      ],
      "text/plain": [
       "Eq(U(0), sigma(-z0 - xi[0], g2, g3)*exp(c)/sigma(-z0, g2, g3))"
      ]
     },
     "execution_count": 220,
     "metadata": {},
     "output_type": "execute_result"
    }
   ],
   "source": [
    "Uz_sigma.subs(z,0)"
   ]
  },
  {
   "cell_type": "code",
   "execution_count": 221,
   "id": "ff96a535-b1b9-4944-9cef-48d1d16e964c",
   "metadata": {},
   "outputs": [
    {
     "data": {
      "text/latex": [
       "$\\displaystyle - \\left. \\frac{\\partial}{\\partial \\xi_{1}} \\operatorname{pw}{\\left(\\xi_{1},g_{2},g_{3} \\right)} \\right|_{\\substack{ \\xi_{1}=z - z_{0} }} = U^{3}{\\left(z \\right)} - V^{3}{\\left(z \\right)}$"
      ],
      "text/plain": [
       "Eq(-Subs(Derivative(pw(_xi_1, g2, g3), _xi_1), _xi_1, z - z0), U(z)**3 - V(z)**3)"
      ]
     },
     "execution_count": 221,
     "metadata": {},
     "output_type": "execute_result"
    }
   ],
   "source": [
    "dUV_UV_cubed.subs(*UV_as_wp.args).doit()"
   ]
  },
  {
   "cell_type": "code",
   "execution_count": 222,
   "id": "a80e099e-fd75-441e-98ce-ca9b21425edb",
   "metadata": {},
   "outputs": [
    {
     "data": {
      "text/latex": [
       "$\\displaystyle - \\operatorname{pwp}{\\left(z,g_{2},g_{3} \\right)} = \\frac{\\sigma^{3}{\\left(z - {\\xi}_{0},g_{2},g_{3} \\right)} e^{3 \\left(\\frac{\\alpha}{6} + \\operatorname{zw}{\\left({\\xi}_{0},g_{2},g_{3} \\right)}\\right) \\left(z + z_{0}\\right) + 3 c}}{\\sigma^{3}{\\left(z,g_{2},g_{3} \\right)}} - \\frac{\\sigma^{3}{\\left(z + {\\xi}_{0},g_{2},g_{3} \\right)} e^{- \\frac{\\alpha \\left(z + z_{0}\\right)}{2} - 3 \\left(z + z_{0}\\right) \\operatorname{zw}{\\left({\\xi}_{0},g_{2},g_{3} \\right)} - 3 c}}{\\sigma^{3}{\\left(z,g_{2},g_{3} \\right)} \\sigma^{6}{\\left({\\xi}_{0},g_{2},g_{3} \\right)}}$"
      ],
      "text/plain": [
       "Eq(-pwp(z, g2, g3), sigma(z - xi[0], g2, g3)**3*exp(3*(alpha/6 + zw(xi[0], g2, g3))*(z + z0) + 3*c)/sigma(z, g2, g3)**3 - sigma(z + xi[0], g2, g3)**3*exp(-alpha*(z + z0)/2 - 3*(z + z0)*zw(xi[0], g2, g3) - 3*c)/(sigma(z, g2, g3)**3*sigma(xi[0], g2, g3)**6))"
      ]
     },
     "execution_count": 222,
     "metadata": {},
     "output_type": "execute_result"
    }
   ],
   "source": [
    "pwpUV = Eq(-pwp(z-z0,g2,g3), U(z)**3 - V(z)**3).subs([Uz_sigma.args, Vz_sigma.args]).subs(z,z+z0)\n",
    "pwpUV"
   ]
  },
  {
   "cell_type": "code",
   "execution_count": 223,
   "id": "67fcc154-43eb-4cd7-b4cc-8852fce2411c",
   "metadata": {},
   "outputs": [
    {
     "data": {
      "text/latex": [
       "$\\displaystyle - \\operatorname{pwp}{\\left(z,g_{2},g_{3} \\right)} \\sigma^{3}{\\left(z,g_{2},g_{3} \\right)} = \\sigma^{3}{\\left(z - {\\xi}_{0},g_{2},g_{3} \\right)} e^{\\frac{\\alpha z}{2}} e^{\\frac{\\alpha z_{0}}{2}} e^{3 z \\operatorname{zw}{\\left({\\xi}_{0},g_{2},g_{3} \\right)}} e^{3 z_{0} \\operatorname{zw}{\\left({\\xi}_{0},g_{2},g_{3} \\right)}} e^{3 c} - \\frac{\\sigma^{3}{\\left(z + {\\xi}_{0},g_{2},g_{3} \\right)} e^{- \\frac{\\alpha z}{2}} e^{- \\frac{\\alpha z_{0}}{2}} e^{- 3 z \\operatorname{zw}{\\left({\\xi}_{0},g_{2},g_{3} \\right)}} e^{- 3 z_{0} \\operatorname{zw}{\\left({\\xi}_{0},g_{2},g_{3} \\right)}} e^{- 3 c}}{\\sigma^{6}{\\left({\\xi}_{0},g_{2},g_{3} \\right)}}$"
      ],
      "text/plain": [
       "Eq(-pwp(z, g2, g3)*sigma(z, g2, g3)**3, sigma(z - xi[0], g2, g3)**3*exp(alpha*z/2)*exp(alpha*z0/2)*exp(3*z*zw(xi[0], g2, g3))*exp(3*z0*zw(xi[0], g2, g3))*exp(3*c) - sigma(z + xi[0], g2, g3)**3*exp(-alpha*z/2)*exp(-alpha*z0/2)*exp(-3*z*zw(xi[0], g2, g3))*exp(-3*z0*zw(xi[0], g2, g3))*exp(-3*c)/sigma(xi[0], g2, g3)**6)"
      ]
     },
     "execution_count": 223,
     "metadata": {},
     "output_type": "execute_result"
    }
   ],
   "source": [
    "pwpUV_times_sigma3 = Eq(pwpUV.lhs*sigma(z,g2,g3)**3, pwpUV.rhs*sigma(z,g2,g3)**3).expand()\n",
    "pwpUV_times_sigma3"
   ]
  },
  {
   "cell_type": "code",
   "execution_count": 224,
   "id": "2becb151-2676-42af-a3d2-73d2f484fba6",
   "metadata": {},
   "outputs": [
    {
     "data": {
      "text/latex": [
       "$\\displaystyle - \\operatorname{pwp}{\\left(0,g_{2},g_{3} \\right)} \\sigma^{3}{\\left(0,g_{2},g_{3} \\right)} = \\sigma^{3}{\\left(- {\\xi}_{0},g_{2},g_{3} \\right)} e^{\\frac{\\alpha z_{0}}{2}} e^{3 z_{0} \\operatorname{zw}{\\left({\\xi}_{0},g_{2},g_{3} \\right)}} e^{3 c} - \\frac{e^{- \\frac{\\alpha z_{0}}{2}} e^{- 3 z_{0} \\operatorname{zw}{\\left({\\xi}_{0},g_{2},g_{3} \\right)}} e^{- 3 c}}{\\sigma^{3}{\\left({\\xi}_{0},g_{2},g_{3} \\right)}}$"
      ],
      "text/plain": [
       "Eq(-pwp(0, g2, g3)*sigma(0, g2, g3)**3, sigma(-xi[0], g2, g3)**3*exp(alpha*z0/2)*exp(3*z0*zw(xi[0], g2, g3))*exp(3*c) - exp(-alpha*z0/2)*exp(-3*z0*zw(xi[0], g2, g3))*exp(-3*c)/sigma(xi[0], g2, g3)**3)"
      ]
     },
     "execution_count": 224,
     "metadata": {},
     "output_type": "execute_result"
    }
   ],
   "source": [
    "Eq(pwpUV_times_sigma3.lhs.subs(z,0), pwpUV_times_sigma3.rhs.subs(z,0))"
   ]
  },
  {
   "cell_type": "code",
   "execution_count": 225,
   "id": "89353dc6-8194-470f-84b6-f8686ba4115b",
   "metadata": {},
   "outputs": [
    {
     "data": {
      "text/latex": [
       "$\\displaystyle 2 = - \\sigma^{3}{\\left({\\xi}_{0},g_{2},g_{3} \\right)} e^{\\frac{\\alpha z_{0}}{2}} e^{3 z_{0} \\operatorname{zw}{\\left({\\xi}_{0},g_{2},g_{3} \\right)}} e^{3 c} - \\frac{e^{- \\frac{\\alpha z_{0}}{2}} e^{- 3 z_{0} \\operatorname{zw}{\\left({\\xi}_{0},g_{2},g_{3} \\right)}} e^{- 3 c}}{\\sigma^{3}{\\left({\\xi}_{0},g_{2},g_{3} \\right)}}$"
      ],
      "text/plain": [
       "Eq(2, -sigma(xi[0], g2, g3)**3*exp(alpha*z0/2)*exp(3*z0*zw(xi[0], g2, g3))*exp(3*c) - exp(-alpha*z0/2)*exp(-3*z0*zw(xi[0], g2, g3))*exp(-3*c)/sigma(xi[0], g2, g3)**3)"
      ]
     },
     "execution_count": 225,
     "metadata": {},
     "output_type": "execute_result"
    }
   ],
   "source": [
    "Eq(2, pwpUV_times_sigma3.rhs.subs(z,0).subs(sigma(-xi[0],g2,g3),-sigma(xi[0],g2,g3)))"
   ]
  },
  {
   "cell_type": "code",
   "execution_count": 226,
   "id": "b76dfb57-13cd-4204-983a-105b8f2fa288",
   "metadata": {},
   "outputs": [
    {
     "data": {
      "text/latex": [
       "$\\displaystyle e^{3 c} = \\frac{e^{- \\frac{z_{0} \\left(\\alpha + 6 \\operatorname{zw}{\\left({\\xi}_{0},g_{2},g_{3} \\right)}\\right)}{2}}}{\\sigma^{3}{\\left({\\xi}_{0},g_{2},g_{3} \\right)}}$"
      ],
      "text/plain": [
       "Eq(exp(3*c), exp(-z0*(alpha + 6*zw(xi[0], g2, g3))/2)/sigma(xi[0], g2, g3)**3)"
      ]
     },
     "execution_count": 226,
     "metadata": {},
     "output_type": "execute_result"
    }
   ],
   "source": [
    "exp3c = Eq(exp(3*c),solve(2 + pwpUV_times_sigma3.rhs.subs(z,0).subs(sigma(-xi[0],g2,g3),-sigma(xi[0],g2,g3)),exp(3*c))[0])\n",
    "exp3c"
   ]
  },
  {
   "cell_type": "code",
   "execution_count": 227,
   "id": "dc58e9e1-8fa6-4735-a3c9-832d4eaf7e9d",
   "metadata": {},
   "outputs": [
    {
     "data": {
      "text/latex": [
       "$\\displaystyle \\operatorname{pwp}{\\left(z,g_{2},g_{3} \\right)} = - \\frac{\\sigma^{3}{\\left(z - {\\xi}_{0},g_{2},g_{3} \\right)} e^{\\frac{\\alpha z}{2}} e^{3 z \\operatorname{zw}{\\left({\\xi}_{0},g_{2},g_{3} \\right)}}}{\\sigma^{3}{\\left(z,g_{2},g_{3} \\right)} \\sigma^{3}{\\left({\\xi}_{0},g_{2},g_{3} \\right)}} + \\frac{\\sigma^{3}{\\left(z + {\\xi}_{0},g_{2},g_{3} \\right)} e^{- \\frac{\\alpha z}{2}} e^{- 3 z \\operatorname{zw}{\\left({\\xi}_{0},g_{2},g_{3} \\right)}}}{\\sigma^{3}{\\left(z,g_{2},g_{3} \\right)} \\sigma^{3}{\\left({\\xi}_{0},g_{2},g_{3} \\right)}}$"
      ],
      "text/plain": [
       "Eq(pwp(z, g2, g3), -sigma(z - xi[0], g2, g3)**3*exp(alpha*z/2)*exp(3*z*zw(xi[0], g2, g3))/(sigma(z, g2, g3)**3*sigma(xi[0], g2, g3)**3) + sigma(z + xi[0], g2, g3)**3*exp(-alpha*z/2)*exp(-3*z*zw(xi[0], g2, g3))/(sigma(z, g2, g3)**3*sigma(xi[0], g2, g3)**3))"
      ]
     },
     "execution_count": 227,
     "metadata": {},
     "output_type": "execute_result"
    }
   ],
   "source": [
    "pwp_alpha_sigma = pwpUV.expand().subs(*exp3c.args).simplify().expand()\n",
    "pwp_alpha_sigma"
   ]
  },
  {
   "cell_type": "code",
   "execution_count": 228,
   "id": "c8452bfe-289c-4a6d-98c4-1fe628077960",
   "metadata": {},
   "outputs": [
    {
     "data": {
      "text/latex": [
       "$\\displaystyle \\sigma{\\left(n \\omega_{1} + z,g_{2},g_{3} \\right)} = \\left(-1\\right)^{n} \\sigma{\\left(- n \\omega_{1} + z,g_{2},g_{3} \\right)} e^{2 \\eta_{1} n z}$"
      ],
      "text/plain": [
       "Eq(sigma(n*omega1 + z, g2, g3), (-1)**n*sigma(-n*omega1 + z, g2, g3)*exp(2*eta1*n*z))"
      ]
     },
     "execution_count": 228,
     "metadata": {},
     "output_type": "execute_result"
    }
   ],
   "source": [
    "sigma_period_eq_1n.subs(z,z-n*omega1)"
   ]
  },
  {
   "cell_type": "code",
   "execution_count": 229,
   "id": "694015f6-0655-4f51-bef6-fa844eba9e37",
   "metadata": {},
   "outputs": [
    {
     "data": {
      "text/latex": [
       "$\\displaystyle - \\frac{\\sigma^{3}{\\left(z - {\\xi}_{0},g_{2},g_{3} \\right)} e^{\\frac{\\alpha z}{2}} e^{3 z \\operatorname{zw}{\\left({\\xi}_{0},g_{2},g_{3} \\right)}}}{\\sigma^{3}{\\left(z,g_{2},g_{3} \\right)} \\sigma^{3}{\\left({\\xi}_{0},g_{2},g_{3} \\right)}} + \\frac{\\sigma^{3}{\\left(z + {\\xi}_{0},g_{2},g_{3} \\right)} e^{- \\frac{\\alpha z}{2}} e^{- 3 z \\operatorname{zw}{\\left({\\xi}_{0},g_{2},g_{3} \\right)}}}{\\sigma^{3}{\\left(z,g_{2},g_{3} \\right)} \\sigma^{3}{\\left({\\xi}_{0},g_{2},g_{3} \\right)}}$"
      ],
      "text/plain": [
       "-sigma(z - xi[0], g2, g3)**3*exp(alpha*z/2)*exp(3*z*zw(xi[0], g2, g3))/(sigma(z, g2, g3)**3*sigma(xi[0], g2, g3)**3) + sigma(z + xi[0], g2, g3)**3*exp(-alpha*z/2)*exp(-3*z*zw(xi[0], g2, g3))/(sigma(z, g2, g3)**3*sigma(xi[0], g2, g3)**3)"
      ]
     },
     "execution_count": 229,
     "metadata": {},
     "output_type": "execute_result"
    }
   ],
   "source": [
    "pwp_alpha_sigma.rhs"
   ]
  },
  {
   "cell_type": "code",
   "execution_count": 230,
   "id": "a8a0bb7b-0bfd-4099-8e77-7601893a6401",
   "metadata": {},
   "outputs": [
    {
     "data": {
      "text/latex": [
       "$\\displaystyle - \\frac{\\sigma{\\left(2 z,g_{2},g_{3} \\right)}}{\\sigma^{4}{\\left(z,g_{2},g_{3} \\right)}} = - \\frac{\\sigma^{3}{\\left(z - {\\xi}_{0},g_{2},g_{3} \\right)} e^{\\frac{\\alpha z}{2}} e^{3 z \\operatorname{zw}{\\left({\\xi}_{0},g_{2},g_{3} \\right)}}}{\\sigma^{3}{\\left(z,g_{2},g_{3} \\right)} \\sigma^{3}{\\left({\\xi}_{0},g_{2},g_{3} \\right)}} + \\frac{\\sigma^{3}{\\left(z + {\\xi}_{0},g_{2},g_{3} \\right)} e^{- \\frac{\\alpha z}{2}} e^{- 3 z \\operatorname{zw}{\\left({\\xi}_{0},g_{2},g_{3} \\right)}}}{\\sigma^{3}{\\left(z,g_{2},g_{3} \\right)} \\sigma^{3}{\\left({\\xi}_{0},g_{2},g_{3} \\right)}}$"
      ],
      "text/plain": [
       "Eq(-sigma(2*z, g2, g3)/sigma(z, g2, g3)**4, -sigma(z - xi[0], g2, g3)**3*exp(alpha*z/2)*exp(3*z*zw(xi[0], g2, g3))/(sigma(z, g2, g3)**3*sigma(xi[0], g2, g3)**3) + sigma(z + xi[0], g2, g3)**3*exp(-alpha*z/2)*exp(-3*z*zw(xi[0], g2, g3))/(sigma(z, g2, g3)**3*sigma(xi[0], g2, g3)**3))"
      ]
     },
     "execution_count": 230,
     "metadata": {},
     "output_type": "execute_result"
    }
   ],
   "source": [
    "pwp_alpha_sigma.subs(*pwp_sigma_id.args)"
   ]
  },
  {
   "cell_type": "code",
   "execution_count": 231,
   "id": "81f4fadb-7412-4c5a-bd22-0bb48a0a398a",
   "metadata": {},
   "outputs": [
    {
     "data": {
      "text/latex": [
       "$\\displaystyle \\sigma{\\left(\\omega_{1} + {\\xi}_{0},g_{2},g_{3} \\right)} = - \\sigma{\\left(- \\omega_{1} + {\\xi}_{0},g_{2},g_{3} \\right)} e^{2 \\eta_{1} {\\xi}_{0}}$"
      ],
      "text/plain": [
       "Eq(sigma(omega1 + xi[0], g2, g3), -sigma(-omega1 + xi[0], g2, g3)*exp(2*eta1*xi[0]))"
      ]
     },
     "execution_count": 231,
     "metadata": {},
     "output_type": "execute_result"
    }
   ],
   "source": [
    "sigma_period_eq_1n.subs(n,1).subs(z,xi[0]-omega1)"
   ]
  },
  {
   "cell_type": "code",
   "execution_count": 232,
   "id": "f87f082c-4e73-4921-bffe-4392abab8022",
   "metadata": {},
   "outputs": [
    {
     "data": {
      "text/latex": [
       "$\\displaystyle \\operatorname{pwp}{\\left(z,g_{2},g_{3} \\right)} = - \\frac{\\sigma^{3}{\\left(z - {\\xi}_{0},g_{2},g_{3} \\right)} e^{\\frac{\\alpha z}{2}} e^{3 z \\operatorname{zw}{\\left({\\xi}_{0},g_{2},g_{3} \\right)}} e^{\\alpha n \\omega_{1}} e^{- 6 \\eta_{1} n {\\xi}_{0}} e^{6 n \\omega_{1} \\operatorname{zw}{\\left({\\xi}_{0},g_{2},g_{3} \\right)}}}{\\sigma^{3}{\\left(z,g_{2},g_{3} \\right)} \\sigma^{3}{\\left({\\xi}_{0},g_{2},g_{3} \\right)}} + \\frac{\\sigma^{3}{\\left(z + {\\xi}_{0},g_{2},g_{3} \\right)} e^{- \\frac{\\alpha z}{2}} e^{- 3 z \\operatorname{zw}{\\left({\\xi}_{0},g_{2},g_{3} \\right)}} e^{- \\alpha n \\omega_{1}} e^{6 \\eta_{1} n {\\xi}_{0}} e^{- 6 n \\omega_{1} \\operatorname{zw}{\\left({\\xi}_{0},g_{2},g_{3} \\right)}}}{\\sigma^{3}{\\left(z,g_{2},g_{3} \\right)} \\sigma^{3}{\\left({\\xi}_{0},g_{2},g_{3} \\right)}}$"
      ],
      "text/plain": [
       "Eq(pwp(z, g2, g3), -sigma(z - xi[0], g2, g3)**3*exp(alpha*z/2)*exp(3*z*zw(xi[0], g2, g3))*exp(alpha*n*omega1)*exp(-6*eta1*n*xi[0])*exp(6*n*omega1*zw(xi[0], g2, g3))/(sigma(z, g2, g3)**3*sigma(xi[0], g2, g3)**3) + sigma(z + xi[0], g2, g3)**3*exp(-alpha*z/2)*exp(-3*z*zw(xi[0], g2, g3))*exp(-alpha*n*omega1)*exp(6*eta1*n*xi[0])*exp(-6*n*omega1*zw(xi[0], g2, g3))/(sigma(z, g2, g3)**3*sigma(xi[0], g2, g3)**3))"
      ]
     },
     "execution_count": 232,
     "metadata": {},
     "output_type": "execute_result"
    }
   ],
   "source": [
    "pwp_alpha_sigma_omega1 = pwp_alpha_sigma.subs(z,z+2*n*omega1).subs([\n",
    "    sigma_period_eq_1n.args, sigma_period_eq_1n.subs(z,z-xi[0]).args, sigma_period_eq_1n.subs(z,z+xi[0]).args,\n",
    "    (pwp(2*n*omega1 +z,g2,g3), pwp(z,g2,g3))\n",
    "]).simplify().expand()\n",
    "pwp_alpha_sigma_omega1"
   ]
  },
  {
   "cell_type": "code",
   "execution_count": 233,
   "id": "b4438d6f-5edf-48bf-948e-53faa918814f",
   "metadata": {},
   "outputs": [
    {
     "data": {
      "text/latex": [
       "$\\displaystyle 0 = - \\frac{\\sigma^{3}{\\left(\\omega_{1} - {\\xi}_{0},g_{2},g_{3} \\right)} e^{\\frac{\\alpha \\omega_{1}}{2}} e^{3 \\omega_{1} \\operatorname{zw}{\\left({\\xi}_{0},g_{2},g_{3} \\right)}}}{\\sigma^{3}{\\left(\\omega_{1},g_{2},g_{3} \\right)} \\sigma^{3}{\\left({\\xi}_{0},g_{2},g_{3} \\right)}} + \\frac{\\sigma^{3}{\\left(\\omega_{1} - {\\xi}_{0},g_{2},g_{3} \\right)} e^{- \\frac{\\alpha \\omega_{1}}{2}} e^{6 \\eta_{1} {\\xi}_{0}} e^{- 3 \\omega_{1} \\operatorname{zw}{\\left({\\xi}_{0},g_{2},g_{3} \\right)}}}{\\sigma^{3}{\\left(\\omega_{1},g_{2},g_{3} \\right)} \\sigma^{3}{\\left({\\xi}_{0},g_{2},g_{3} \\right)}}$"
      ],
      "text/plain": [
       "Eq(0, -sigma(omega1 - xi[0], g2, g3)**3*exp(alpha*omega1/2)*exp(3*omega1*zw(xi[0], g2, g3))/(sigma(omega1, g2, g3)**3*sigma(xi[0], g2, g3)**3) + sigma(omega1 - xi[0], g2, g3)**3*exp(-alpha*omega1/2)*exp(6*eta1*xi[0])*exp(-3*omega1*zw(xi[0], g2, g3))/(sigma(omega1, g2, g3)**3*sigma(xi[0], g2, g3)**3))"
      ]
     },
     "execution_count": 233,
     "metadata": {},
     "output_type": "execute_result"
    }
   ],
   "source": [
    "pwp_alpha_sigma_omega1_zero = pwp_alpha_sigma.subs(z,omega1).subs(*sigma_period_eq_1n.subs(n,1).subs(z,xi[0]-omega1).args).subs(\n",
    "    [(sigma(-omega1+xi[0],g2,g3), -sigma(omega1-xi[0],g2,g3)),(pwp(omega1,g2,g3),0)]\n",
    ")\n",
    "pwp_alpha_sigma_omega1_zero"
   ]
  },
  {
   "cell_type": "code",
   "execution_count": 234,
   "id": "103c1daf-96fa-4a2c-8ba8-e16ee1167a05",
   "metadata": {},
   "outputs": [
    {
     "data": {
      "text/latex": [
       "$\\displaystyle 0 = 1 - e^{\\alpha \\omega_{1} - 6 \\eta_{1} {\\xi}_{0} + 6 \\omega_{1} \\operatorname{zw}{\\left({\\xi}_{0},g_{2},g_{3} \\right)}}$"
      ],
      "text/plain": [
       "Eq(0, 1 - exp(alpha*omega1 - 6*eta1*xi[0] + 6*omega1*zw(xi[0], g2, g3)))"
      ]
     },
     "execution_count": 234,
     "metadata": {},
     "output_type": "execute_result"
    }
   ],
   "source": [
    "_terms_pwp_alpha_sigma_omega1_zero = Add.make_args(pwp_alpha_sigma_omega1_zero.rhs)\n",
    "Eq(0, (pwp_alpha_sigma_omega1_zero.rhs/_terms_pwp_alpha_sigma_omega1_zero[1]).simplify())"
   ]
  },
  {
   "cell_type": "code",
   "execution_count": 235,
   "id": "2a0b4385-13af-4dfd-b6b5-b252e8cff97e",
   "metadata": {},
   "outputs": [
    {
     "data": {
      "text/latex": [
       "$\\displaystyle \\sigma{\\left(- 2 \\omega_{1} + 3 {\\xi}_{0},g_{2},g_{3} \\right)} = - \\sigma{\\left(3 {\\xi}_{0},g_{2},g_{3} \\right)} e^{2 \\eta_{1} \\omega_{1}} e^{- 6 \\eta_{1} {\\xi}_{0}}$"
      ],
      "text/plain": [
       "Eq(sigma(-2*omega1 + 3*xi[0], g2, g3), -sigma(3*xi[0], g2, g3)*exp(2*eta1*omega1)*exp(-6*eta1*xi[0]))"
      ]
     },
     "execution_count": 235,
     "metadata": {},
     "output_type": "execute_result"
    }
   ],
   "source": [
    "sigma_period_eq_1n.subs(z,3*xi[0]).expand().subs(n,-1)"
   ]
  },
  {
   "cell_type": "code",
   "execution_count": 236,
   "id": "ea01cdfc-038e-4e28-806e-c8c3e272da1f",
   "metadata": {},
   "outputs": [
    {
     "data": {
      "text/latex": [
       "$\\displaystyle \\sigma{\\left(- 2 \\omega_{1} + {\\xi}_{0},g_{2},g_{3} \\right)} = - \\sigma{\\left({\\xi}_{0},g_{2},g_{3} \\right)} e^{2 \\eta_{1} \\omega_{1}} e^{- 2 \\eta_{1} {\\xi}_{0}}$"
      ],
      "text/plain": [
       "Eq(sigma(-2*omega1 + xi[0], g2, g3), -sigma(xi[0], g2, g3)*exp(2*eta1*omega1)*exp(-2*eta1*xi[0]))"
      ]
     },
     "execution_count": 236,
     "metadata": {},
     "output_type": "execute_result"
    }
   ],
   "source": [
    "sigma_period_eq_1n.subs(z,xi[0]).expand().subs(n,-1)"
   ]
  },
  {
   "cell_type": "code",
   "execution_count": 237,
   "id": "f6842062-d605-4e47-8d4e-fa05ec93162c",
   "metadata": {},
   "outputs": [
    {
     "data": {
      "text/latex": [
       "$\\displaystyle \\operatorname{pwp}{\\left({\\xi}_{0},g_{2},g_{3} \\right)} = \\alpha U{\\left(z \\right)} V{\\left(z \\right)} + U^{3}{\\left(z \\right)} + V^{3}{\\left(z \\right)}$"
      ],
      "text/plain": [
       "Eq(pwp(xi[0], g2, g3), alpha*U(z)*V(z) + U(z)**3 + V(z)**3)"
      ]
     },
     "execution_count": 237,
     "metadata": {},
     "output_type": "execute_result"
    }
   ],
   "source": [
    "potential_scaled_UV.subs(pwp_xi0.rhs, pwp_xi0.lhs)"
   ]
  },
  {
   "cell_type": "code",
   "execution_count": 238,
   "id": "569d2801-33b9-4a8e-beca-3c3fca592974",
   "metadata": {},
   "outputs": [
    {
     "data": {
      "text/latex": [
       "$\\displaystyle \\frac{U^{3}{\\left(z \\right)}}{V^{3}{\\left(z \\right)}} = \\frac{\\sigma^{3}{\\left(z - z_{0} - {\\xi}_{0},g_{2},g_{3} \\right)} \\sigma^{2}{\\left({\\xi}_{0},g_{2},g_{3} \\right)} e^{\\alpha z + 6 z \\operatorname{zw}{\\left({\\xi}_{0},g_{2},g_{3} \\right)} + 2 c}}{\\sigma^{3}{\\left(z - z_{0} + {\\xi}_{0},g_{2},g_{3} \\right)}}$"
      ],
      "text/plain": [
       "Eq(U(z)**3/V(z)**3, sigma(z - z0 - xi[0], g2, g3)**3*sigma(xi[0], g2, g3)**2*exp(alpha*z + 6*z*zw(xi[0], g2, g3) + 2*c)/sigma(z - z0 + xi[0], g2, g3)**3)"
      ]
     },
     "execution_count": 238,
     "metadata": {},
     "output_type": "execute_result"
    }
   ],
   "source": [
    "\n",
    "Eq(U(z)**3/V(z)**3,\n",
    "   (U(z)**3/V(z)**3)\n",
    "   .subs(*u_over_v_as_U_over_V.args[::-1])\n",
    "   .subs([pw_alpha.args[::-1],fpw.args])\n",
    "   .subs([u_as_sigma.args, v_as_sigma.args]).simplify()\n",
    "  )\n",
    "    "
   ]
  },
  {
   "cell_type": "code",
   "execution_count": 239,
   "id": "6cc21db2-25d0-4ed7-81ee-95984973a7b1",
   "metadata": {},
   "outputs": [
    {
     "data": {
      "text/latex": [
       "$\\displaystyle \\frac{u{\\left(z \\right)}}{v{\\left(z \\right)}} = \\frac{U^{3}{\\left(z \\right)}}{V^{3}{\\left(z \\right)}}$"
      ],
      "text/plain": [
       "Eq(u(z)/v(z), U(z)**3/V(z)**3)"
      ]
     },
     "execution_count": 239,
     "metadata": {},
     "output_type": "execute_result"
    }
   ],
   "source": [
    "u_over_v_as_U_over_V"
   ]
  },
  {
   "cell_type": "markdown",
   "id": "cdf73b8c-571c-42f4-85aa-6ea811605e39",
   "metadata": {},
   "source": [
    "### Numerical Checks"
   ]
  },
  {
   "cell_type": "code",
   "execution_count": 240,
   "id": "06b6699c-5ce5-40fa-8dfa-b514e52ff000",
   "metadata": {},
   "outputs": [],
   "source": [
    "from numpy import linspace, absolute, angle, square, real, imag, conj, array as arraynp, vectorize, concatenate\n",
    "import scipy.integrate\n",
    "import matplotlib.pyplot as plt\n",
    "\n",
    "# The package containing mpmath expressions for Weierstrass elliptic functions\n",
    "from numerical_evaluation.weierstrass_modified import Weierstrass\n",
    "we = Weierstrass()\n",
    "from mpmath import exp as mpexp"
   ]
  },
  {
   "cell_type": "code",
   "execution_count": 241,
   "id": "eb3c2abb-1610-44d3-be36-f86cba8cf85a",
   "metadata": {},
   "outputs": [
    {
     "data": {
      "text/latex": [
       "$\\displaystyle u{\\left(z \\right)} = \\frac{\\sigma{\\left(- z_{0},g_{2},g_{3} \\right)} \\sigma{\\left(- z_{0} + {\\xi}_{0},g_{2},g_{3} \\right)} \\sigma^{2}{\\left(z - z_{0} - {\\xi}_{0},g_{2},g_{3} \\right)} u{\\left(0 \\right)} e^{\\frac{z \\left(\\alpha + 6 \\operatorname{zw}{\\left({\\xi}_{0},g_{2},g_{3} \\right)}\\right)}{2}}}{\\sigma{\\left(z - z_{0},g_{2},g_{3} \\right)} \\sigma^{2}{\\left(- z_{0} - {\\xi}_{0},g_{2},g_{3} \\right)} \\sigma{\\left(z - z_{0} + {\\xi}_{0},g_{2},g_{3} \\right)}}$"
      ],
      "text/plain": [
       "Eq(u(z), sigma(-z0, g2, g3)*sigma(-z0 + xi[0], g2, g3)*sigma(z - z0 - xi[0], g2, g3)**2*u(0)*exp(z*(alpha + 6*zw(xi[0], g2, g3))/2)/(sigma(z - z0, g2, g3)*sigma(-z0 - xi[0], g2, g3)**2*sigma(z - z0 + xi[0], g2, g3)))"
      ]
     },
     "execution_count": 241,
     "metadata": {},
     "output_type": "execute_result"
    },
    {
     "data": {
      "text/latex": [
       "$\\displaystyle v{\\left(z \\right)} = \\frac{\\sigma{\\left(- z_{0},g_{2},g_{3} \\right)} \\sigma{\\left(- z_{0} - {\\xi}_{0},g_{2},g_{3} \\right)} \\sigma^{2}{\\left(z - z_{0} + {\\xi}_{0},g_{2},g_{3} \\right)} v{\\left(0 \\right)} e^{- \\frac{z \\left(\\alpha + 6 \\operatorname{zw}{\\left({\\xi}_{0},g_{2},g_{3} \\right)}\\right)}{2}}}{\\sigma{\\left(z - z_{0},g_{2},g_{3} \\right)} \\sigma^{2}{\\left(- z_{0} + {\\xi}_{0},g_{2},g_{3} \\right)} \\sigma{\\left(z - z_{0} - {\\xi}_{0},g_{2},g_{3} \\right)}}$"
      ],
      "text/plain": [
       "Eq(v(z), sigma(-z0, g2, g3)*sigma(-z0 - xi[0], g2, g3)*sigma(z - z0 + xi[0], g2, g3)**2*v(0)*exp(-z*(alpha + 6*zw(xi[0], g2, g3))/2)/(sigma(z - z0, g2, g3)*sigma(-z0 + xi[0], g2, g3)**2*sigma(z - z0 - xi[0], g2, g3)))"
      ]
     },
     "execution_count": 241,
     "metadata": {},
     "output_type": "execute_result"
    }
   ],
   "source": [
    "u_as_sigma_u0\n",
    "v_as_sigma_v0"
   ]
  },
  {
   "cell_type": "code",
   "execution_count": 242,
   "id": "3c0e605f-b01c-4fc7-8087-7dc20c0a5e93",
   "metadata": {},
   "outputs": [],
   "source": [
    "def mpc_to_float(mpc_val):\n",
    "    return float(mpc_val.real) + float(mpc_val.imag)*1j\n",
    "\n",
    "mpc_to_float_np = vectorize(mpc_to_float)\n",
    "\n",
    "# The analytic solution\n",
    "def sigma_sol(A0, z0, xi, rho, omegas):\n",
    "    return lambda z: (\n",
    "        A0 * (we.wsigma(-z0, omegas) * we.wsigma(-z0 + xi, omegas) * we.wsigma(-xi + z - z0, omegas)**2 / \n",
    "        (we.wsigma(-xi - z0, omegas)**2 * we.wsigma(z - z0, omegas) * we.wsigma(xi + z - z0, omegas))) * mpexp(z * rho)\n",
    "    )"
   ]
  },
  {
   "cell_type": "code",
   "execution_count": 243,
   "id": "02f4e4f6-4cc7-40ac-a5a2-8197fb6269cc",
   "metadata": {},
   "outputs": [],
   "source": [
    "# initial conditions (initial values)\n",
    "u_v_0 = [0.2, 3.4] \n",
    "\n",
    "# Calculate values for intermediate constants in terms of initial conditions\n",
    "u_v_init_subs = [(u(z), u_v_0[0]), (v(z), u_v_0[1])]\n",
    "u_v_0_init_subs = [(x[0].subs(z,0), x[1]) for x in u_v_init_subs]\n",
    "alpha_val_ = 0.4\n",
    "p_val_ = float(potential_scaled.rhs.subs(u_v_init_subs).subs(alpha, alpha_val_).expand())\n",
    "p_alpha_val_subs = [(p, p_val_), (alpha, alpha_val_)]\n",
    "# Calculate values for elliptic invariants in terms of initial conditions\n",
    "g2val_ = float(g2_eq.rhs.subs(p_alpha_val_subs))\n",
    "g3val_ = float(g3_eq.rhs.subs(p_alpha_val_subs))\n",
    "# Calculate lattice of elliptic functions (half-periods) in terms of initial conditions\n",
    "omega_ = we.omega_from_g(g2val_, g3val_)\n",
    "omega1_ = mpc_to_float(omega_[0])\n",
    "omega2_ = mpc_to_float(omega_[1])\n",
    "omega3_ = mpc_to_float(omega_[2])\n",
    "if im(omega2_/omega1_) <= 0:\n",
    "    omega2_ = -omega2_\n",
    "omegas = (omega1_, omega2_)  \n",
    "# Calculate complex constants in the z plane in terms of initial conditions via inverse Weierstrass P (elliptic integral)\n",
    "xi0val_ = mpc_to_float(we.invwp(pw_alpha.rhs.subs(p_alpha_val_subs), omegas, w_prime=pwp_xi0.rhs.subs(p_alpha_val_subs)))\n",
    "wz0 = pw_z0_u0_v0.rhs.subs(u_v_0_init_subs).subs(p_alpha_val_subs).expand()\n",
    "wz0p = pwp_z0_u0_v0.rhs.subs(u_v_0_init_subs).subs(p_alpha_val_subs).expand()\n",
    "z0val_ = mpc_to_float(we.invwp(wz0, omegas, wz0p))\n",
    "zw_xi0val_ = mpc_to_float(we.wzeta(xi0val_, omegas))\n",
    "rho_val_ = 3*zw_xi0val_ + alpha_val_/2\n",
    "\n",
    "# # Setup z array to evaluate over based on 2 complete periods (4 * omega1)\n",
    "# z_end = abs(4 * omega1_)\n",
    "z_end = real(omega3_)*0.3\n",
    "n_points_z = 200\n",
    "z_eval = linspace(0, z_end, n_points_z) # evaluate integral from z = 0-10 for 50 points\n",
    "\n",
    "# # Complex valued analytic vector solution (numeric evaluation)\n",
    "u_v_sol_mpmath = arraynp([\n",
    "    mpc_to_float_np(vectorize(sigma_sol(u_v_0[0], z0val_, xi0val_, rho_val_, omegas))(z_eval)),\n",
    "    mpc_to_float_np(vectorize(sigma_sol(u_v_0[1], z0val_, -xi0val_, -rho_val_, omegas))(z_eval))\n",
    "])"
   ]
  },
  {
   "cell_type": "code",
   "execution_count": 244,
   "id": "7e5315d3-fb08-4171-9ad4-cf1e3bdcae59",
   "metadata": {},
   "outputs": [],
   "source": [
    "u_p = dv2_scaled.rhs.subs(p_alpha_val_subs)\n",
    "v_p = dv1_scaled.rhs.subs(p_alpha_val_subs)\n",
    "u_v_dot = [u_p, v_p] # complex valued funtions\n",
    "_u_symb = Symbol('_u_symb')\n",
    "_v_symb = Symbol('_v_symb')\n",
    "u_v_dot_symb = [eq.subs([(u(z), _u_symb), (v(z), _v_symb)]) for eq in u_v_dot]\n",
    "f_ = lambdify((z, (_u_symb,_v_symb)), u_v_dot_symb)\n",
    "u_v_init_numeric_only = [x[1] for x in u_v_init_subs]\n",
    "# Call SciPy's ODE initial value problem solver solve_ivp by passing it\n",
    "#   the function f_,\n",
    "#   the interval of integration,\n",
    "#   the initial state, and\n",
    "#   the arguments to pass to the function f (if any)\n",
    "solution = scipy.integrate.solve_ivp(f_, (0, z_end), u_v_init_numeric_only, t_eval=z_eval)\n",
    "h_ri_sol = solution.y\n",
    "\n",
    "# complex valued numeric vector solution\n",
    "A_sol_scipy = h_ri_sol"
   ]
  },
  {
   "cell_type": "code",
   "execution_count": 245,
   "id": "c715fd63-5103-42d6-8f8f-cb7de42aeda8",
   "metadata": {},
   "outputs": [
    {
     "data": {
      "text/plain": [
       "[<matplotlib.lines.Line2D at 0x7f0fd4868370>,\n",
       " <matplotlib.lines.Line2D at 0x7f0fd49fa440>]"
      ]
     },
     "execution_count": 245,
     "metadata": {},
     "output_type": "execute_result"
    },
    {
     "data": {
      "text/plain": [
       "[<matplotlib.lines.Line2D at 0x7f0fd4845b10>,\n",
       " <matplotlib.lines.Line2D at 0x7f0fd48457b0>]"
      ]
     },
     "execution_count": 245,
     "metadata": {},
     "output_type": "execute_result"
    },
    {
     "data": {
      "text/plain": [
       "<matplotlib.legend.Legend at 0x7f0fd48c60b0>"
      ]
     },
     "execution_count": 245,
     "metadata": {},
     "output_type": "execute_result"
    },
    {
     "data": {
      "text/plain": [
       "Text(0, 0.5, 'Absolute Value')"
      ]
     },
     "execution_count": 245,
     "metadata": {},
     "output_type": "execute_result"
    },
    {
     "data": {
      "text/plain": [
       "Text(0.5, 0, 'z')"
      ]
     },
     "execution_count": 245,
     "metadata": {},
     "output_type": "execute_result"
    },
    {
     "data": {
      "image/png": "[encoded data removed]",
      "text/plain": [
       "<Figure size 1600x600 with 1 Axes>"
      ]
     },
     "metadata": {},
     "output_type": "display_data"
    }
   ],
   "source": [
    "fig = plt.figure(figsize=(16, 6))\n",
    "plt.plot(z_eval, absolute(u_v_sol_mpmath.T), linestyle=\"solid\", linewidth=4) \n",
    "__y_vals__ = absolute(A_sol_scipy.T)\n",
    "plt.plot(z_eval[0: len(__y_vals__)], __y_vals__, linestyle=\"dashed\", linewidth=4) \n",
    "plt.legend(['abs(u)**2 mpmath', 'abs(v)**2 mpmath', 'abs(v)**2 scipy', 'abs(v)**2 scipy'], shadow=True) \n",
    "plt.ylabel('Absolute Value')\n",
    "plt.xlabel('z')\n",
    "plt.show()"
   ]
  },
  {
   "cell_type": "markdown",
   "id": "63af3cd9-1856-4f9f-b3c7-6a5a31bd228b",
   "metadata": {},
   "source": [
    "## On the differential equation satisfied by one of the modes"
   ]
  },
  {
   "cell_type": "code",
   "execution_count": 246,
   "id": "4e25e427-8a9f-485c-9a0a-010a6879fc34",
   "metadata": {},
   "outputs": [
    {
     "data": {
      "text/latex": [
       "$\\displaystyle v{\\left(z \\right)} = - \\frac{\\alpha}{2} - \\frac{u{\\left(z \\right)}}{2} - \\frac{\\frac{d}{d z} u{\\left(z \\right)}}{2 u{\\left(z \\right)}}$"
      ],
      "text/plain": [
       "Eq(v(z), -alpha/2 - u(z)/2 - Derivative(u(z), z)/(2*u(z)))"
      ]
     },
     "execution_count": 246,
     "metadata": {},
     "output_type": "execute_result"
    }
   ],
   "source": [
    "v_as_ln_diff_u = Eq(v(z), solve(dv2_scaled.lhs - dv2_scaled.rhs,v(z))[0]).expand()\n",
    "v_as_ln_diff_u"
   ]
  },
  {
   "cell_type": "code",
   "execution_count": 247,
   "id": "d05a4b8b-fe9c-458e-8a90-df8e2d59bb24",
   "metadata": {},
   "outputs": [
    {
     "data": {
      "text/latex": [
       "$\\displaystyle - \\left(- \\frac{\\alpha}{2} - \\frac{u{\\left(z \\right)}}{2} - \\frac{\\frac{d}{d z} u{\\left(z \\right)}}{2 u{\\left(z \\right)}}\\right) \\left(\\frac{\\alpha}{2} + \\frac{3 u{\\left(z \\right)}}{2} - \\frac{\\frac{d}{d z} u{\\left(z \\right)}}{2 u{\\left(z \\right)}}\\right) + \\frac{\\partial}{\\partial z} \\left(- \\frac{\\alpha}{2} - \\frac{u{\\left(z \\right)}}{2} - \\frac{\\frac{d}{d z} u{\\left(z \\right)}}{2 u{\\left(z \\right)}}\\right) = 0$"
      ],
      "text/plain": [
       "Eq(-(-alpha/2 - u(z)/2 - Derivative(u(z), z)/(2*u(z)))*(alpha/2 + 3*u(z)/2 - Derivative(u(z), z)/(2*u(z))) + Derivative(-alpha/2 - u(z)/2 - Derivative(u(z), z)/(2*u(z)), z), 0)"
      ]
     },
     "execution_count": 247,
     "metadata": {},
     "output_type": "execute_result"
    }
   ],
   "source": [
    "diff_u_only_eq = Eq((dv1_scaled.lhs - dv1_scaled.rhs).subs(*v_as_ln_diff_u.args),0)\n",
    "diff_u_only_eq"
   ]
  },
  {
   "cell_type": "code",
   "execution_count": 248,
   "id": "09eaf446-9282-4c7a-ad59-374dbd90ee88",
   "metadata": {},
   "outputs": [
    {
     "data": {
      "text/latex": [
       "$\\displaystyle \\frac{\\alpha^{2}}{4} + \\alpha u{\\left(z \\right)} + \\frac{3 u^{2}{\\left(z \\right)}}{4} - \\frac{\\frac{d^{2}}{d z^{2}} u{\\left(z \\right)}}{2 u{\\left(z \\right)}} + \\frac{\\left(\\frac{d}{d z} u{\\left(z \\right)}\\right)^{2}}{4 u^{2}{\\left(z \\right)}} = 0$"
      ],
      "text/plain": [
       "Eq(alpha**2/4 + alpha*u(z) + 3*u(z)**2/4 - Derivative(u(z), (z, 2))/(2*u(z)) + Derivative(u(z), z)**2/(4*u(z)**2), 0)"
      ]
     },
     "execution_count": 248,
     "metadata": {},
     "output_type": "execute_result"
    }
   ],
   "source": [
    "diff_u_only_eq_expanded = diff_u_only_eq.doit().expand()\n",
    "diff_u_only_eq_expanded"
   ]
  },
  {
   "cell_type": "code",
   "execution_count": 249,
   "id": "00010dc6-2ee7-4c7e-a208-cffe0d19b3ec",
   "metadata": {},
   "outputs": [
    {
     "data": {
      "text/latex": [
       "$\\displaystyle \\alpha^{2} u^{2}{\\left(z \\right)} + 4 \\alpha u^{3}{\\left(z \\right)} + 3 u^{4}{\\left(z \\right)} - 2 u{\\left(z \\right)} \\frac{d^{2}}{d z^{2}} u{\\left(z \\right)} + \\left(\\frac{d}{d z} u{\\left(z \\right)}\\right)^{2}$"
      ],
      "text/plain": [
       "alpha**2*u(z)**2 + 4*alpha*u(z)**3 + 3*u(z)**4 - 2*u(z)*Derivative(u(z), (z, 2)) + Derivative(u(z), z)**2"
      ]
     },
     "execution_count": 249,
     "metadata": {},
     "output_type": "execute_result"
    }
   ],
   "source": [
    "diff_u_only_eq_expanded = (diff_u_only_eq.lhs*u(z)**2*4).doit().expand()\n",
    "diff_u_only_eq_expanded.collect(u(z))"
   ]
  },
  {
   "cell_type": "code",
   "execution_count": 250,
   "id": "f04abc94-4366-4d7f-bd62-82c35dc8c5fd",
   "metadata": {},
   "outputs": [
    {
     "data": {
      "text/latex": [
       "$\\displaystyle - \\left(- \\alpha + \\frac{d}{d z} u{\\left(z \\right)}\\right) \\left(e^{u{\\left(z \\right)}} + 1\\right) - \\frac{d^{2}}{d z^{2}} u{\\left(z \\right)}$"
      ],
      "text/plain": [
       "-(-alpha + Derivative(u(z), z))*(exp(u(z)) + 1) - Derivative(u(z), (z, 2))"
      ]
     },
     "execution_count": 250,
     "metadata": {},
     "output_type": "execute_result"
    }
   ],
   "source": [
    "(diff_u_only_eq_lk_expanded.subs([(beta,1),(kappa,1)]).subs(u(z),exp(u(z)))/exp(2*u(z))).doit().expand().collect(diff(u(z),z,2),factor)"
   ]
  },
  {
   "cell_type": "code",
   "execution_count": 251,
   "id": "dd048e06-0130-4745-aeb9-16207202dd71",
   "metadata": {},
   "outputs": [
    {
     "data": {
      "text/latex": [
       "$\\displaystyle \\frac{\\alpha^{2}}{4} + \\alpha u{\\left(z \\right)} + \\frac{3 u^{2}{\\left(z \\right)}}{4} - \\frac{\\frac{d^{2}}{d z^{2}} u{\\left(z \\right)}}{2 u{\\left(z \\right)}} + \\frac{\\left(\\frac{d}{d z} u{\\left(z \\right)}\\right)^{2}}{4 u^{2}{\\left(z \\right)}} = 0$"
      ],
      "text/plain": [
       "Eq(alpha**2/4 + alpha*u(z) + 3*u(z)**2/4 - Derivative(u(z), (z, 2))/(2*u(z)) + Derivative(u(z), z)**2/(4*u(z)**2), 0)"
      ]
     },
     "execution_count": 251,
     "metadata": {},
     "output_type": "execute_result"
    }
   ],
   "source": [
    "diff_u_only_eq.doit().expand()"
   ]
  },
  {
   "cell_type": "code",
   "execution_count": 252,
   "id": "8190bd91-c269-4a2e-b605-bc3071fecda3",
   "metadata": {},
   "outputs": [
    {
     "data": {
      "text/latex": [
       "$\\displaystyle - \\frac{\\alpha f{\\left(z \\right)} e^{- \\frac{\\alpha z}{3}}}{3} + e^{- \\frac{\\alpha z}{3}} \\frac{d}{d z} f{\\left(z \\right)} = - \\frac{\\alpha f{\\left(z \\right)} e^{- \\frac{\\alpha z}{3}}}{3} - h^{2}{\\left(z \\right)} e^{\\frac{2 \\alpha z}{3}}$"
      ],
      "text/plain": [
       "Eq(-alpha*f(z)*exp(-alpha*z/3)/3 + exp(-alpha*z/3)*Derivative(f(z), z), -alpha*f(z)*exp(-alpha*z/3)/3 - h(z)**2*exp(2*alpha*z/3))"
      ]
     },
     "execution_count": 252,
     "metadata": {},
     "output_type": "execute_result"
    },
    {
     "data": {
      "text/latex": [
       "$\\displaystyle \\frac{\\alpha h{\\left(z \\right)} e^{\\frac{\\alpha z}{3}}}{3} + e^{\\frac{\\alpha z}{3}} \\frac{d}{d z} h{\\left(z \\right)} = \\frac{\\alpha h{\\left(z \\right)} e^{\\frac{\\alpha z}{3}}}{3} + f^{2}{\\left(z \\right)} e^{- \\frac{2 \\alpha z}{3}}$"
      ],
      "text/plain": [
       "Eq(alpha*h(z)*exp(alpha*z/3)/3 + exp(alpha*z/3)*Derivative(h(z), z), alpha*h(z)*exp(alpha*z/3)/3 + f(z)**2*exp(-2*alpha*z/3))"
      ]
     },
     "execution_count": 252,
     "metadata": {},
     "output_type": "execute_result"
    }
   ],
   "source": [
    "dU.subs([(U(z),f(z)*exp(-alpha*z/3)),(V(z),h(z)*exp(alpha*z/3))]).doit()\n",
    "dV.subs([(U(z),f(z)*exp(-alpha*z/3)),(V(z),h(z)*exp(alpha*z/3))]).doit()"
   ]
  },
  {
   "cell_type": "code",
   "execution_count": 253,
   "id": "41b2dde3-5ebf-4404-987f-06983dc21f72",
   "metadata": {},
   "outputs": [
    {
     "data": {
      "text/latex": [
       "$\\displaystyle U{\\left(z \\right)} = \\frac{\\sigma{\\left(z - z_{0} - {\\xi}_{0},g_{2},g_{3} \\right)} e^{z \\left(\\frac{\\alpha}{6} + \\operatorname{zw}{\\left({\\xi}_{0},g_{2},g_{3} \\right)}\\right) + c}}{\\sigma{\\left(z - z_{0},g_{2},g_{3} \\right)}}$"
      ],
      "text/plain": [
       "Eq(U(z), sigma(z - z0 - xi[0], g2, g3)*exp(z*(alpha/6 + zw(xi[0], g2, g3)) + c)/sigma(z - z0, g2, g3))"
      ]
     },
     "execution_count": 253,
     "metadata": {},
     "output_type": "execute_result"
    }
   ],
   "source": [
    "Uz_sigma"
   ]
  },
  {
   "cell_type": "code",
   "execution_count": 254,
   "id": "e3e7b3fa-8033-473b-a29d-f1e40f5d035d",
   "metadata": {},
   "outputs": [
    {
     "data": {
      "text/latex": [
       "$\\displaystyle f{\\left(z \\right)} = \\frac{\\sigma{\\left(z - z_{0} - {\\xi}_{0},g_{2},g_{3} \\right)} e^{\\frac{\\alpha z}{2} + z \\operatorname{zw}{\\left({\\xi}_{0},g_{2},g_{3} \\right)} + c}}{\\sigma{\\left(z - z_{0},g_{2},g_{3} \\right)}}$"
      ],
      "text/plain": [
       "Eq(f(z), sigma(z - z0 - xi[0], g2, g3)*exp(alpha*z/2 + z*zw(xi[0], g2, g3) + c)/sigma(z - z0, g2, g3))"
      ]
     },
     "execution_count": 254,
     "metadata": {},
     "output_type": "execute_result"
    }
   ],
   "source": [
    "Eq(f(z),Uz_sigma.rhs*exp(alpha*z/3)).simplify()"
   ]
  },
  {
   "cell_type": "code",
   "execution_count": 255,
   "id": "a57e705b-f9f3-4b7f-8af3-3c34cf28e173",
   "metadata": {},
   "outputs": [
    {
     "data": {
      "text/latex": [
       "$\\displaystyle \\frac{d}{d z} U{\\left(z \\right)} = - \\frac{\\alpha U{\\left(z \\right)}}{3} - V^{2}{\\left(z \\right)}$"
      ],
      "text/plain": [
       "Eq(Derivative(U(z), z), -alpha*U(z)/3 - V(z)**2)"
      ]
     },
     "execution_count": 255,
     "metadata": {},
     "output_type": "execute_result"
    }
   ],
   "source": [
    "dU"
   ]
  },
  {
   "cell_type": "code",
   "execution_count": 256,
   "id": "9cd95daf-9442-4a0f-9b76-c009f74f63a5",
   "metadata": {},
   "outputs": [
    {
     "data": {
      "text/latex": [
       "$\\displaystyle \\frac{d}{d z} V{\\left(z \\right)} = \\frac{\\alpha V{\\left(z \\right)}}{3} + U^{2}{\\left(z \\right)}$"
      ],
      "text/plain": [
       "Eq(Derivative(V(z), z), alpha*V(z)/3 + U(z)**2)"
      ]
     },
     "execution_count": 256,
     "metadata": {},
     "output_type": "execute_result"
    }
   ],
   "source": [
    "dV"
   ]
  },
  {
   "cell_type": "code",
   "execution_count": 257,
   "id": "3e9e3b76-e258-4238-a1f7-c8c14314526c",
   "metadata": {},
   "outputs": [
    {
     "data": {
      "text/latex": [
       "$\\displaystyle U{\\left(z \\right)} = f{\\left(z \\right)} \\cos{\\left(\\theta \\right)} + h{\\left(z \\right)} \\sin{\\left(\\theta \\right)}$"
      ],
      "text/plain": [
       "Eq(U(z), f(z)*cos(theta) + h(z)*sin(theta))"
      ]
     },
     "execution_count": 257,
     "metadata": {},
     "output_type": "execute_result"
    },
    {
     "data": {
      "text/latex": [
       "$\\displaystyle V{\\left(z \\right)} = f{\\left(z \\right)} \\sin{\\left(\\theta \\right)} - h{\\left(z \\right)} \\cos{\\left(\\theta \\right)}$"
      ],
      "text/plain": [
       "Eq(V(z), f(z)*sin(theta) - h(z)*cos(theta))"
      ]
     },
     "execution_count": 257,
     "metadata": {},
     "output_type": "execute_result"
    }
   ],
   "source": [
    "Ufh = Eq(U(z),cos(theta)*f(z)+sin(theta)*h(z))\n",
    "Vfh = Eq(V(z),sin(theta)*f(z)-cos(theta)*h(z))\n",
    "Ufh\n",
    "Vfh"
   ]
  },
  {
   "cell_type": "code",
   "execution_count": 258,
   "id": "35b927da-0a11-41ce-b137-e2e2d6bb3f33",
   "metadata": {},
   "outputs": [
    {
     "data": {
      "text/latex": [
       "$\\displaystyle f{\\left(z \\right)} = U{\\left(z \\right)} \\cos{\\left(\\theta \\right)} + V{\\left(z \\right)} \\sin{\\left(\\theta \\right)}$"
      ],
      "text/plain": [
       "Eq(f(z), U(z)*cos(theta) + V(z)*sin(theta))"
      ]
     },
     "execution_count": 258,
     "metadata": {},
     "output_type": "execute_result"
    },
    {
     "data": {
      "text/latex": [
       "$\\displaystyle h{\\left(z \\right)} = U{\\left(z \\right)} \\sin{\\left(\\theta \\right)} - V{\\left(z \\right)} \\cos{\\left(\\theta \\right)}$"
      ],
      "text/plain": [
       "Eq(h(z), U(z)*sin(theta) - V(z)*cos(theta))"
      ]
     },
     "execution_count": 258,
     "metadata": {},
     "output_type": "execute_result"
    }
   ],
   "source": [
    "fhsols = solve([Ufh,Vfh],[f(z),h(z)])\n",
    "fUV = Eq(f(z), fhsols[f(z)]).simplify()\n",
    "hUV = Eq(h(z), fhsols[h(z)]).simplify()\n",
    "fUV\n",
    "hUV"
   ]
  },
  {
   "cell_type": "code",
   "execution_count": 259,
   "id": "6ab59094-3177-41b2-b3f7-403beb83f03d",
   "metadata": {},
   "outputs": [
    {
     "data": {
      "text/latex": [
       "$\\displaystyle \\sin{\\left(\\theta \\right)} \\frac{d}{d z} h{\\left(z \\right)} + \\cos{\\left(\\theta \\right)} \\frac{d}{d z} f{\\left(z \\right)} = - \\frac{\\alpha f{\\left(z \\right)} \\cos{\\left(\\theta \\right)}}{3} - \\frac{\\alpha h{\\left(z \\right)} \\sin{\\left(\\theta \\right)}}{3} - f^{2}{\\left(z \\right)} \\sin^{2}{\\left(\\theta \\right)} + 2 f{\\left(z \\right)} h{\\left(z \\right)} \\sin{\\left(\\theta \\right)} \\cos{\\left(\\theta \\right)} - h^{2}{\\left(z \\right)} \\cos^{2}{\\left(\\theta \\right)}$"
      ],
      "text/plain": [
       "Eq(sin(theta)*Derivative(h(z), z) + cos(theta)*Derivative(f(z), z), -alpha*f(z)*cos(theta)/3 - alpha*h(z)*sin(theta)/3 - f(z)**2*sin(theta)**2 + 2*f(z)*h(z)*sin(theta)*cos(theta) - h(z)**2*cos(theta)**2)"
      ]
     },
     "execution_count": 259,
     "metadata": {},
     "output_type": "execute_result"
    }
   ],
   "source": [
    "dU.subs([Ufh.args, Vfh.args]).doit().expand()"
   ]
  },
  {
   "cell_type": "code",
   "execution_count": 260,
   "id": "d06cef92-1bb7-49dc-886f-a976795173d6",
   "metadata": {},
   "outputs": [
    {
     "data": {
      "text/latex": [
       "$\\displaystyle \\sin{\\left(\\theta \\right)} \\frac{d}{d z} f{\\left(z \\right)} - \\cos{\\left(\\theta \\right)} \\frac{d}{d z} h{\\left(z \\right)} = \\frac{\\alpha f{\\left(z \\right)} \\sin{\\left(\\theta \\right)}}{3} - \\frac{\\alpha h{\\left(z \\right)} \\cos{\\left(\\theta \\right)}}{3} + f^{2}{\\left(z \\right)} \\cos^{2}{\\left(\\theta \\right)} + 2 f{\\left(z \\right)} h{\\left(z \\right)} \\sin{\\left(\\theta \\right)} \\cos{\\left(\\theta \\right)} + h^{2}{\\left(z \\right)} \\sin^{2}{\\left(\\theta \\right)}$"
      ],
      "text/plain": [
       "Eq(sin(theta)*Derivative(f(z), z) - cos(theta)*Derivative(h(z), z), alpha*f(z)*sin(theta)/3 - alpha*h(z)*cos(theta)/3 + f(z)**2*cos(theta)**2 + 2*f(z)*h(z)*sin(theta)*cos(theta) + h(z)**2*sin(theta)**2)"
      ]
     },
     "execution_count": 260,
     "metadata": {},
     "output_type": "execute_result"
    }
   ],
   "source": [
    "dV.subs([Ufh.args, Vfh.args]).doit().expand()"
   ]
  },
  {
   "cell_type": "code",
   "execution_count": 261,
   "id": "f5f23890-c858-479e-b074-176903324431",
   "metadata": {},
   "outputs": [
    {
     "ename": "KeyError",
     "evalue": "k",
     "output_type": "error",
     "traceback": [
      "\u001b[0;31m---------------------------------------------------------------------------\u001b[0m",
      "\u001b[0;31mKeyError\u001b[0m                                  Traceback (most recent call last)",
      "Cell \u001b[0;32mIn[261], line 3\u001b[0m\n\u001b[1;32m      1\u001b[0m dfhsols \u001b[38;5;241m=\u001b[39m solve([dU\u001b[38;5;241m.\u001b[39msubs([Ufh\u001b[38;5;241m.\u001b[39margs, Vfh\u001b[38;5;241m.\u001b[39margs])\u001b[38;5;241m.\u001b[39mdoit()\u001b[38;5;241m.\u001b[39mexpand(), dV\u001b[38;5;241m.\u001b[39msubs([Ufh\u001b[38;5;241m.\u001b[39margs, Vfh\u001b[38;5;241m.\u001b[39margs])\u001b[38;5;241m.\u001b[39mdoit()\u001b[38;5;241m.\u001b[39mexpand()], [diff(f(z),z),diff(h(z),z)])\n\u001b[1;32m      2\u001b[0m \u001b[38;5;28;01mfor\u001b[39;00m _k \u001b[38;5;129;01min\u001b[39;00m dfhsols:\n\u001b[0;32m----> 3\u001b[0m     Eq(_k, \u001b[43mdfhsols\u001b[49m\u001b[43m[\u001b[49m\u001b[43mk\u001b[49m\u001b[43m]\u001b[49m\u001b[38;5;241m.\u001b[39msubs(\u001b[38;5;241m3\u001b[39m\u001b[38;5;241m*\u001b[39msin(theta)\u001b[38;5;241m*\u001b[39m\u001b[38;5;241m*\u001b[39m\u001b[38;5;241m2\u001b[39m \u001b[38;5;241m+\u001b[39m \u001b[38;5;241m3\u001b[39m\u001b[38;5;241m*\u001b[39mcos(theta)\u001b[38;5;241m*\u001b[39m\u001b[38;5;241m*\u001b[39m\u001b[38;5;241m2\u001b[39m, \u001b[38;5;241m2\u001b[39m))\u001b[38;5;241m.\u001b[39msubs(theta,pi\u001b[38;5;241m/\u001b[39m\u001b[38;5;241m4\u001b[39m)\n",
      "\u001b[0;31mKeyError\u001b[0m: k"
     ]
    }
   ],
   "source": [
    "dfhsols = solve([dU.subs([Ufh.args, Vfh.args]).doit().expand(), dV.subs([Ufh.args, Vfh.args]).doit().expand()], [diff(f(z),z),diff(h(z),z)])\n",
    "for _k in dfhsols:\n",
    "    Eq(_k, dfhsols[k].subs(3*sin(theta)**2 + 3*cos(theta)**2, 2)).subs(theta,pi/4)"
   ]
  },
  {
   "cell_type": "code",
   "execution_count": null,
   "id": "a16b9214-63b3-4a30-b002-fd173a27f671",
   "metadata": {},
   "outputs": [],
   "source": [
    "uv_plus_subs = [(U(z), U(z)**Rational(3,2)), (V(z), V(z)**Rational(3,2))]\n",
    "Eq(diff(U(z),z), solve(dU.subs(uv_plus_subs).doit().expand(), diff(U(z),z))[0].expand().collect(U(z),simplify))\n",
    "Eq(diff(V(z),z), solve(dV.subs(uv_plus_subs).doit().expand(), diff(V(z),z))[0].expand().collect(V(z),simplify))\n"
   ]
  },
  {
   "cell_type": "code",
   "execution_count": null,
   "id": "e3c1d280-8e89-49d8-9ab7-8bc1fe6eb3b2",
   "metadata": {},
   "outputs": [],
   "source": [
    "1-a-2*b + (2*a + b + 1)"
   ]
  },
  {
   "cell_type": "code",
   "execution_count": 393,
   "id": "49e41072-c723-4601-ab28-98ba397b54c3",
   "metadata": {},
   "outputs": [
    {
     "data": {
      "text/latex": [
       "$\\displaystyle L{\\left(u{\\left(z \\right)},v{\\left(z \\right)},\\frac{d}{d z} u{\\left(z \\right)},\\frac{d}{d z} v{\\left(z \\right)} \\right)} = - \\alpha \\log{\\left(v{\\left(z \\right)} \\right)} + \\delta v{\\left(z \\right)} - u{\\left(z \\right)} \\kappa - \\frac{\\log{\\left(u{\\left(z \\right)} \\right)} \\frac{d}{d z} \\log{\\left(v{\\left(z \\right)} \\right)}}{2} - \\log{\\left(u{\\left(z \\right)} \\right)} \\beta + \\frac{\\log{\\left(v{\\left(z \\right)} \\right)} \\frac{d}{d z} \\log{\\left(u{\\left(z \\right)} \\right)}}{2}$"
      ],
      "text/plain": [
       "Eq(L(u(z), v(z), Derivative(u(z), z), Derivative(v(z), z)), -alpha*log(v(z)) + delta*v(z) - u(z)*kappa - log(u(z))*Derivative(log(v(z)), z)/2 - log(u(z))*beta + log(v(z))*Derivative(log(u(z)), z)/2)"
      ]
     },
     "execution_count": 393,
     "metadata": {},
     "output_type": "execute_result"
    }
   ],
   "source": [
    "lk_lagrangian"
   ]
  },
  {
   "cell_type": "code",
   "execution_count": 394,
   "id": "8444d4da-5598-4721-99d5-96ad11123c73",
   "metadata": {},
   "outputs": [
    {
     "data": {
      "text/latex": [
       "$\\displaystyle L{\\left(u{\\left(z \\right)},v{\\left(z \\right)},\\frac{d}{d z} u{\\left(z \\right)},\\frac{d}{d z} v{\\left(z \\right)} \\right)} = - \\alpha u{\\left(z \\right)} v{\\left(z \\right)} - \\delta u{\\left(z \\right)} v^{2}{\\left(z \\right)} - u^{2}{\\left(z \\right)} v{\\left(z \\right)} \\beta + \\frac{u{\\left(z \\right)} \\frac{d}{d z} v{\\left(z \\right)}}{2} - \\frac{v{\\left(z \\right)} \\frac{d}{d z} u{\\left(z \\right)}}{2}$"
      ],
      "text/plain": [
       "Eq(L(u(z), v(z), Derivative(u(z), z), Derivative(v(z), z)), -alpha*u(z)*v(z) - delta*u(z)*v(z)**2 - u(z)**2*v(z)*beta + u(z)*Derivative(v(z), z)/2 - v(z)*Derivative(u(z), z)/2)"
      ]
     },
     "execution_count": 394,
     "metadata": {},
     "output_type": "execute_result"
    }
   ],
   "source": [
    "lagrangian"
   ]
  },
  {
   "cell_type": "code",
   "execution_count": 407,
   "id": "6a46da3a-ffa6-47fa-9c92-ee1baf10108a",
   "metadata": {},
   "outputs": [
    {
     "data": {
      "text/latex": [
       "$\\displaystyle L{\\left(u{\\left(z \\right)},v{\\left(z \\right)},\\frac{d}{d z} u{\\left(z \\right)},\\frac{d}{d z} v{\\left(z \\right)} \\right)} = - \\alpha \\log{\\left(v{\\left(z \\right)} \\right)} + \\delta v{\\left(z \\right)} + x \\left(\\frac{u{\\left(z \\right)} \\frac{d}{d z} v{\\left(z \\right)}}{2} - \\frac{v{\\left(z \\right)} \\frac{d}{d z} u{\\left(z \\right)}}{2}\\right) - y \\left(\\alpha u{\\left(z \\right)} v{\\left(z \\right)} + \\delta u{\\left(z \\right)} v^{2}{\\left(z \\right)} + u^{2}{\\left(z \\right)} v{\\left(z \\right)} \\beta\\right) - u{\\left(z \\right)} \\kappa - \\frac{\\log{\\left(u{\\left(z \\right)} \\right)} \\frac{d}{d z} \\log{\\left(v{\\left(z \\right)} \\right)}}{2} - \\log{\\left(u{\\left(z \\right)} \\right)} \\beta + \\frac{\\log{\\left(v{\\left(z \\right)} \\right)} \\frac{d}{d z} \\log{\\left(u{\\left(z \\right)} \\right)}}{2}$"
      ],
      "text/plain": [
       "Eq(L(u(z), v(z), Derivative(u(z), z), Derivative(v(z), z)), -alpha*log(v(z)) + delta*v(z) + x*(u(z)*Derivative(v(z), z)/2 - v(z)*Derivative(u(z), z)/2) - y*(alpha*u(z)*v(z) + delta*u(z)*v(z)**2 + u(z)**2*v(z)*beta) - u(z)*kappa - log(u(z))*Derivative(log(v(z)), z)/2 - log(u(z))*beta + log(v(z))*Derivative(log(u(z)), z)/2)"
      ]
     },
     "execution_count": 407,
     "metadata": {},
     "output_type": "execute_result"
    }
   ],
   "source": [
    "l_combined = Eq((lagrangian.lhs+ lk_lagrangian.lhs)/2, lk_kinetic - lk_potential + x*kinetic - y*potential)\n",
    "l_combined"
   ]
  },
  {
   "cell_type": "code",
   "execution_count": 410,
   "id": "625e9978-4049-4ddc-a83c-8c8150ba660f",
   "metadata": {},
   "outputs": [
    {
     "data": {
      "text/latex": [
       "$\\displaystyle \\frac{d}{d z} u{\\left(z \\right)} = - \\frac{\\left(\\alpha y u{\\left(z \\right)} v{\\left(z \\right)} + \\alpha + 2 \\delta y u{\\left(z \\right)} v^{2}{\\left(z \\right)} - \\delta v{\\left(z \\right)} + y u^{2}{\\left(z \\right)} v{\\left(z \\right)} \\beta\\right) u{\\left(z \\right)}}{x u{\\left(z \\right)} v{\\left(z \\right)} - 1}$"
      ],
      "text/plain": [
       "Eq(Derivative(u(z), z), -(alpha*y*u(z)*v(z) + alpha + 2*delta*y*u(z)*v(z)**2 - delta*v(z) + y*u(z)**2*v(z)*beta)*u(z)/(x*u(z)*v(z) - 1))"
      ]
     },
     "execution_count": 410,
     "metadata": {},
     "output_type": "execute_result"
    },
    {
     "data": {
      "text/latex": [
       "$\\displaystyle \\frac{d}{d z} v{\\left(z \\right)} = \\frac{\\left(\\alpha y u{\\left(z \\right)} v{\\left(z \\right)} + \\delta y u{\\left(z \\right)} v^{2}{\\left(z \\right)} + 2 y u^{2}{\\left(z \\right)} v{\\left(z \\right)} \\beta + u{\\left(z \\right)} \\kappa + \\beta\\right) v{\\left(z \\right)}}{x u{\\left(z \\right)} v{\\left(z \\right)} - 1}$"
      ],
      "text/plain": [
       "Eq(Derivative(v(z), z), (alpha*y*u(z)*v(z) + delta*y*u(z)*v(z)**2 + 2*y*u(z)**2*v(z)*beta + u(z)*kappa + beta)*v(z)/(x*u(z)*v(z) - 1))"
      ]
     },
     "execution_count": 410,
     "metadata": {},
     "output_type": "execute_result"
    }
   ],
   "source": [
    "dv1_lk_c = Eq(diff(u(z),z),solve(euler_lagrange_eqs[1].subs(*l_combined.args).doit() , diff(u(z),z))[0]).simplify().expand()\n",
    "dv2_lk_c = Eq(diff(v(z),z),solve(euler_lagrange_eqs[0].subs(*l_combined.args).doit() , diff(v(z),z))[0]).simplify().expand()\n",
    "dv1_lk_c = Eq(dv1_lk_c.lhs, dv1_lk_c.rhs.simplify().factor())\n",
    "dv2_lk_c = Eq(dv2_lk_c.lhs, dv2_lk_c.rhs.simplify().factor())\n",
    "dv1_lk_c\n",
    "dv2_lk_c"
   ]
  },
  {
   "cell_type": "code",
   "execution_count": 406,
   "id": "26c2d46b-1a4c-4307-a60f-5f11a3c4737f",
   "metadata": {},
   "outputs": [
    {
     "data": {
      "text/latex": [
       "$\\displaystyle f{\\left(z \\right)} \\frac{d}{d z} h{\\left(z \\right)} + h{\\left(z \\right)} \\frac{d}{d z} f{\\left(z \\right)} = \\frac{\\alpha x f{\\left(z \\right)} h{\\left(z \\right)}}{x - f{\\left(z \\right)} h{\\left(z \\right)} v{\\left(z \\right)}} + \\frac{\\alpha f^{2}{\\left(z \\right)} h^{2}{\\left(z \\right)} v{\\left(z \\right)}}{x - f{\\left(z \\right)} h{\\left(z \\right)} v{\\left(z \\right)}} - \\frac{\\delta x f{\\left(z \\right)} h{\\left(z \\right)} v{\\left(z \\right)}}{x - f{\\left(z \\right)} h{\\left(z \\right)} v{\\left(z \\right)}} + \\frac{2 \\delta f^{2}{\\left(z \\right)} h^{2}{\\left(z \\right)} v^{2}{\\left(z \\right)}}{x - f{\\left(z \\right)} h{\\left(z \\right)} v{\\left(z \\right)}} + \\frac{f^{3}{\\left(z \\right)} h^{3}{\\left(z \\right)} v{\\left(z \\right)} \\beta}{x - f{\\left(z \\right)} h{\\left(z \\right)} v{\\left(z \\right)}}$"
      ],
      "text/plain": [
       "Eq(f(z)*Derivative(h(z), z) + h(z)*Derivative(f(z), z), alpha*x*f(z)*h(z)/(x - f(z)*h(z)*v(z)) + alpha*f(z)**2*h(z)**2*v(z)/(x - f(z)*h(z)*v(z)) - delta*x*f(z)*h(z)*v(z)/(x - f(z)*h(z)*v(z)) + 2*delta*f(z)**2*h(z)**2*v(z)**2/(x - f(z)*h(z)*v(z)) + f(z)**3*h(z)**3*v(z)*beta/(x - f(z)*h(z)*v(z)))"
      ]
     },
     "execution_count": 406,
     "metadata": {},
     "output_type": "execute_result"
    }
   ],
   "source": [
    "dv1_lk_c.subs(u(z),f(z)*h(z)).doit()"
   ]
  },
  {
   "cell_type": "code",
   "execution_count": null,
   "id": "845d14cb-d60d-4122-81f8-a8d48be0c7ff",
   "metadata": {},
   "outputs": [],
   "source": []
  }
 ],
 "metadata": {
  "kernelspec": {
   "display_name": "Python 3 (ipykernel)",
   "language": "python",
   "name": "python3"
  },
  "language_info": {
   "codemirror_mode": {
    "name": "ipython",
    "version": 3
   },
   "file_extension": ".py",
   "mimetype": "text/x-python",
   "name": "python",
   "nbconvert_exporter": "python",
   "pygments_lexer": "ipython3",
   "version": "3.10.13"
  }
 },
 "nbformat": 4,
 "nbformat_minor": 5
}
