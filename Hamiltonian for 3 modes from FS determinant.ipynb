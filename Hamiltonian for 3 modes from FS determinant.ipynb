{
 "cells": [
  {
   "cell_type": "code",
   "execution_count": null,
   "id": "887c79a7",
   "metadata": {},
   "outputs": [],
   "source": []
  },
  {
   "cell_type": "code",
   "execution_count": 81,
   "id": "08ed5760",
   "metadata": {},
   "outputs": [],
   "source": [
    "from sympy import *\n",
    "(x, y, X, Y, Z, B, C, n, m, l, j, q, N, M, K, k, epsilon, z, s, p1, p2, p3, g2, g3,\n",
    " z0, w1, w2, w3, e1, e2, e3, Delta, \n",
    " omega1, omega2, omega3, eta1, eta2, eta3, d1, d2, d3, i) = symbols(\n",
    "    '''x, y, X, Y, Z, B, C, n, m, l, j, q, N, M, K, k, epsilon, z, s, p1, p2, p3, g2, g3,\n",
    "    z0, w1, w2, w3, e1, e2, e3, Delta, \n",
    "    omega1, omega2, omega3, eta1, eta2, eta3, d1, d2, d3, i'''\n",
    ")\n",
    "alpha, delta, t, nu, epsilon, theta = symbols('alpha, delta, t, nu, epsilon, theta')\n",
    "pw = Function('pw') # Weierstrass P function\n",
    "pwp = Function('pwp') # Derivative of Weierstrass P function\n",
    "zw = Function('zw') # Weierstrass Zeta function\n",
    "sigma = Function('sigma') # Weierstrass Sigma function\n",
    "rho = Function('rho')\n",
    "f = Function('f')\n",
    "h = Function('h')\n",
    "s = Function('s')\n",
    "P = Function('P') # Polynomial\n",
    "Q = Function('Q') # Polynomial\n",
    "phi = Function('phi')\n",
    "Phi = Function('Phi')\n",
    "u = Function('u')\n",
    "v = Function('v')\n",
    "W = Function('W')\n",
    "Kf = Function('Kf')\n",
    "Det = Function(\"Det\")\n",
    "\n",
    "kappa = IndexedBase('kappa')\n",
    "beta = IndexedBase('beta')\n",
    "mu = IndexedBase('mu')\n",
    "xi = IndexedBase('xi')\n",
    "a = IndexedBase('a')\n",
    "b = IndexedBase('b')\n",
    "c = IndexedBase('c')\n",
    "d = IndexedBase('d')\n",
    "p = IndexedBase('p')\n",
    "G = IndexedBase('G')\n",
    "\n",
    "psi = IndexedBase('psi')\n",
    "upsilon = IndexedBase('upsilon')\n",
    "WPdet = Function('WPdet')\n",
    "\n",
    "from IPython.core.interactiveshell import InteractiveShell\n",
    "InteractiveShell.ast_node_interactivity = 'all'"
   ]
  },
  {
   "cell_type": "code",
   "execution_count": 200,
   "id": "07b08743",
   "metadata": {},
   "outputs": [
    {
     "data": {
      "text/latex": [
       "$\\displaystyle \\operatorname{Kf}{\\left(u{\\left(z,0 \\right)},u{\\left(z,1 \\right)},v{\\left(z,0 \\right)},v{\\left(z,1 \\right)} \\right)} = 2 \\beta \\sum_{k=0}^{2} u{\\left(z,k \\right)} v{\\left(z,k \\right)} + \\prod_{k=0}^{2} u{\\left(z,k \\right)} + \\prod_{k=0}^{2} v{\\left(z,k \\right)}$"
      ],
      "text/plain": [
       "Eq(Kf(u(z, 0), u(z, 1), v(z, 0), v(z, 1)), 2*beta*Sum(u(z, k)*v(z, k), (k, 0, 2)) + Product(u(z, k), (k, 0, 2)) + Product(v(z, k), (k, 0, 2)))"
      ]
     },
     "execution_count": 200,
     "metadata": {},
     "output_type": "execute_result"
    },
    {
     "data": {
      "text/latex": [
       "$\\displaystyle K = u{\\left(z,0 \\right)} u{\\left(z,1 \\right)} u{\\left(z,2 \\right)} + 2 u{\\left(z,0 \\right)} v{\\left(z,0 \\right)} \\beta + 2 u{\\left(z,1 \\right)} v{\\left(z,1 \\right)} \\beta + 2 u{\\left(z,2 \\right)} v{\\left(z,2 \\right)} \\beta + v{\\left(z,0 \\right)} v{\\left(z,1 \\right)} v{\\left(z,2 \\right)}$"
      ],
      "text/plain": [
       "Eq(K, u(z, 0)*u(z, 1)*u(z, 2) + 2*u(z, 0)*v(z, 0)*beta + 2*u(z, 1)*v(z, 1)*beta + 2*u(z, 2)*v(z, 2)*beta + v(z, 0)*v(z, 1)*v(z, 2))"
      ]
     },
     "execution_count": 200,
     "metadata": {},
     "output_type": "execute_result"
    }
   ],
   "source": [
    "phase_mod_terms = 2*beta*Sum(u(z, k)*v(z, k), (k, 0, 2))\n",
    "\n",
    "n_wave_mix_terms = Product(u(z, k), (k, 0, 2)) + Product(v(z, k), (k, 0, 2))\n",
    "\n",
    "K_3modes = Eq(\n",
    "    Kf(*([u(z,i) for i in range(2)] + [v(z,i) for i in range(2)])), phase_mod_terms + n_wave_mix_terms\n",
    ")\n",
    "K_3modes_const = Eq(K, K_3modes.doit().expand().rhs)\n",
    "K_3modes\n",
    "K_3modes_const"
   ]
  },
  {
   "cell_type": "code",
   "execution_count": 201,
   "id": "8bff6325",
   "metadata": {},
   "outputs": [
    {
     "data": {
      "text/latex": [
       "$\\displaystyle \\frac{\\partial}{\\partial z} u{\\left(z,i \\right)} = \\frac{d}{d v{\\left(z,i \\right)}} \\operatorname{Kf}{\\left(u{\\left(z,0 \\right)},u{\\left(z,1 \\right)},v{\\left(z,0 \\right)},v{\\left(z,1 \\right)} \\right)}$"
      ],
      "text/plain": [
       "Eq(Derivative(u(z, i), z), Derivative(Kf(u(z, 0), u(z, 1), v(z, 0), v(z, 1)), v(z, i)))"
      ]
     },
     "execution_count": 201,
     "metadata": {},
     "output_type": "execute_result"
    },
    {
     "data": {
      "text/latex": [
       "$\\displaystyle \\frac{\\partial}{\\partial z} v{\\left(z,i \\right)} = - \\frac{d}{d u{\\left(z,i \\right)}} \\operatorname{Kf}{\\left(u{\\left(z,0 \\right)},u{\\left(z,1 \\right)},v{\\left(z,0 \\right)},v{\\left(z,1 \\right)} \\right)}$"
      ],
      "text/plain": [
       "Eq(Derivative(v(z, i), z), -Derivative(Kf(u(z, 0), u(z, 1), v(z, 0), v(z, 1)), u(z, i)))"
      ]
     },
     "execution_count": 201,
     "metadata": {},
     "output_type": "execute_result"
    }
   ],
   "source": [
    "uzi = Eq(Derivative(u(z,i),z), Derivative(K_3modes.lhs, v(z,i)))\n",
    "vzi = Eq(Derivative(v(z,i),z), -Derivative(K_3modes.lhs, u(z,i)))\n",
    "\n",
    "uzi\n",
    "vzi"
   ]
  },
  {
   "cell_type": "code",
   "execution_count": 189,
   "id": "5042edca",
   "metadata": {},
   "outputs": [],
   "source": [
    "u_eqs = [\n",
    "    Eq(Derivative(u(z,i).subs(i,__i),z), \n",
    "       Derivative(K_3modes.lhs, v(z,i).subs(i,__i))).subs(*K_3modes.doit().args).doit() for __i in range(3)]\n",
    "\n",
    "v_eqs = [\n",
    "    Eq(Derivative(v(z,i).subs(i,__i),z), \n",
    "       -Derivative(K_3modes.lhs, u(z,i).subs(i,__i))).subs(*K_3modes.doit().args).doit() for __i in range(3)]\n",
    "\n",
    "pow_differences = [\n",
    "    Eq(u(z,_i)*v(z,_i), p[_i,_j]+u(z,_j)*v(z,_j)) for _i in range(4) for _j in range(4) if _i != _j\n",
    "]"
   ]
  },
  {
   "cell_type": "code",
   "execution_count": 190,
   "id": "b855a1c8",
   "metadata": {},
   "outputs": [
    {
     "data": {
      "text/latex": [
       "$\\displaystyle u{\\left(z,0 \\right)} v{\\left(z,0 \\right)} = u{\\left(z,1 \\right)} v{\\left(z,1 \\right)} + {p}_{0,1}$"
      ],
      "text/plain": [
       "Eq(u(z, 0)*v(z, 0), u(z, 1)*v(z, 1) + p[0, 1])"
      ]
     },
     "execution_count": 190,
     "metadata": {},
     "output_type": "execute_result"
    },
    {
     "data": {
      "text/latex": [
       "$\\displaystyle u{\\left(z,0 \\right)} v{\\left(z,0 \\right)} = u{\\left(z,2 \\right)} v{\\left(z,2 \\right)} + {p}_{0,2}$"
      ],
      "text/plain": [
       "Eq(u(z, 0)*v(z, 0), u(z, 2)*v(z, 2) + p[0, 2])"
      ]
     },
     "execution_count": 190,
     "metadata": {},
     "output_type": "execute_result"
    },
    {
     "data": {
      "text/latex": [
       "$\\displaystyle u{\\left(z,0 \\right)} v{\\left(z,0 \\right)} = u{\\left(z,3 \\right)} v{\\left(z,3 \\right)} + {p}_{0,3}$"
      ],
      "text/plain": [
       "Eq(u(z, 0)*v(z, 0), u(z, 3)*v(z, 3) + p[0, 3])"
      ]
     },
     "execution_count": 190,
     "metadata": {},
     "output_type": "execute_result"
    },
    {
     "data": {
      "text/latex": [
       "$\\displaystyle u{\\left(z,1 \\right)} v{\\left(z,1 \\right)} = u{\\left(z,0 \\right)} v{\\left(z,0 \\right)} + {p}_{1,0}$"
      ],
      "text/plain": [
       "Eq(u(z, 1)*v(z, 1), u(z, 0)*v(z, 0) + p[1, 0])"
      ]
     },
     "execution_count": 190,
     "metadata": {},
     "output_type": "execute_result"
    },
    {
     "data": {
      "text/latex": [
       "$\\displaystyle u{\\left(z,1 \\right)} v{\\left(z,1 \\right)} = u{\\left(z,2 \\right)} v{\\left(z,2 \\right)} + {p}_{1,2}$"
      ],
      "text/plain": [
       "Eq(u(z, 1)*v(z, 1), u(z, 2)*v(z, 2) + p[1, 2])"
      ]
     },
     "execution_count": 190,
     "metadata": {},
     "output_type": "execute_result"
    },
    {
     "data": {
      "text/latex": [
       "$\\displaystyle u{\\left(z,1 \\right)} v{\\left(z,1 \\right)} = u{\\left(z,3 \\right)} v{\\left(z,3 \\right)} + {p}_{1,3}$"
      ],
      "text/plain": [
       "Eq(u(z, 1)*v(z, 1), u(z, 3)*v(z, 3) + p[1, 3])"
      ]
     },
     "execution_count": 190,
     "metadata": {},
     "output_type": "execute_result"
    },
    {
     "data": {
      "text/latex": [
       "$\\displaystyle u{\\left(z,2 \\right)} v{\\left(z,2 \\right)} = u{\\left(z,0 \\right)} v{\\left(z,0 \\right)} + {p}_{2,0}$"
      ],
      "text/plain": [
       "Eq(u(z, 2)*v(z, 2), u(z, 0)*v(z, 0) + p[2, 0])"
      ]
     },
     "execution_count": 190,
     "metadata": {},
     "output_type": "execute_result"
    },
    {
     "data": {
      "text/latex": [
       "$\\displaystyle u{\\left(z,2 \\right)} v{\\left(z,2 \\right)} = u{\\left(z,1 \\right)} v{\\left(z,1 \\right)} + {p}_{2,1}$"
      ],
      "text/plain": [
       "Eq(u(z, 2)*v(z, 2), u(z, 1)*v(z, 1) + p[2, 1])"
      ]
     },
     "execution_count": 190,
     "metadata": {},
     "output_type": "execute_result"
    },
    {
     "data": {
      "text/latex": [
       "$\\displaystyle u{\\left(z,2 \\right)} v{\\left(z,2 \\right)} = u{\\left(z,3 \\right)} v{\\left(z,3 \\right)} + {p}_{2,3}$"
      ],
      "text/plain": [
       "Eq(u(z, 2)*v(z, 2), u(z, 3)*v(z, 3) + p[2, 3])"
      ]
     },
     "execution_count": 190,
     "metadata": {},
     "output_type": "execute_result"
    },
    {
     "data": {
      "text/latex": [
       "$\\displaystyle u{\\left(z,3 \\right)} v{\\left(z,3 \\right)} = u{\\left(z,0 \\right)} v{\\left(z,0 \\right)} + {p}_{3,0}$"
      ],
      "text/plain": [
       "Eq(u(z, 3)*v(z, 3), u(z, 0)*v(z, 0) + p[3, 0])"
      ]
     },
     "execution_count": 190,
     "metadata": {},
     "output_type": "execute_result"
    },
    {
     "data": {
      "text/latex": [
       "$\\displaystyle u{\\left(z,3 \\right)} v{\\left(z,3 \\right)} = u{\\left(z,1 \\right)} v{\\left(z,1 \\right)} + {p}_{3,1}$"
      ],
      "text/plain": [
       "Eq(u(z, 3)*v(z, 3), u(z, 1)*v(z, 1) + p[3, 1])"
      ]
     },
     "execution_count": 190,
     "metadata": {},
     "output_type": "execute_result"
    },
    {
     "data": {
      "text/latex": [
       "$\\displaystyle u{\\left(z,3 \\right)} v{\\left(z,3 \\right)} = u{\\left(z,2 \\right)} v{\\left(z,2 \\right)} + {p}_{3,2}$"
      ],
      "text/plain": [
       "Eq(u(z, 3)*v(z, 3), u(z, 2)*v(z, 2) + p[3, 2])"
      ]
     },
     "execution_count": 190,
     "metadata": {},
     "output_type": "execute_result"
    }
   ],
   "source": [
    "for eq in pow_differences:\n",
    "    eq"
   ]
  },
  {
   "cell_type": "code",
   "execution_count": 191,
   "id": "5b96ecfc",
   "metadata": {},
   "outputs": [
    {
     "data": {
      "text/latex": [
       "$\\displaystyle \\frac{d}{d z} u{\\left(z,0 \\right)} = 2 i u{\\left(z,0 \\right)} \\beta + i v{\\left(z,1 \\right)} v{\\left(z,2 \\right)}$"
      ],
      "text/plain": [
       "Eq(Derivative(u(z, 0), z), 2*I*u(z, 0)*beta + I*v(z, 1)*v(z, 2))"
      ]
     },
     "execution_count": 191,
     "metadata": {},
     "output_type": "execute_result"
    },
    {
     "data": {
      "text/latex": [
       "$\\displaystyle \\frac{d}{d z} u{\\left(z,1 \\right)} = 2 i u{\\left(z,1 \\right)} \\beta + i v{\\left(z,0 \\right)} v{\\left(z,2 \\right)}$"
      ],
      "text/plain": [
       "Eq(Derivative(u(z, 1), z), 2*I*u(z, 1)*beta + I*v(z, 0)*v(z, 2))"
      ]
     },
     "execution_count": 191,
     "metadata": {},
     "output_type": "execute_result"
    },
    {
     "data": {
      "text/latex": [
       "$\\displaystyle \\frac{d}{d z} u{\\left(z,2 \\right)} = 2 i u{\\left(z,2 \\right)} \\beta + i v{\\left(z,0 \\right)} v{\\left(z,1 \\right)}$"
      ],
      "text/plain": [
       "Eq(Derivative(u(z, 2), z), 2*I*u(z, 2)*beta + I*v(z, 0)*v(z, 1))"
      ]
     },
     "execution_count": 191,
     "metadata": {},
     "output_type": "execute_result"
    },
    {
     "data": {
      "text/latex": [
       "$\\displaystyle \\frac{d}{d z} v{\\left(z,0 \\right)} = - i u{\\left(z,1 \\right)} u{\\left(z,2 \\right)} - 2 i v{\\left(z,0 \\right)} \\beta$"
      ],
      "text/plain": [
       "Eq(Derivative(v(z, 0), z), -I*u(z, 1)*u(z, 2) - 2*I*v(z, 0)*beta)"
      ]
     },
     "execution_count": 191,
     "metadata": {},
     "output_type": "execute_result"
    },
    {
     "data": {
      "text/latex": [
       "$\\displaystyle \\frac{d}{d z} v{\\left(z,1 \\right)} = - i u{\\left(z,0 \\right)} u{\\left(z,2 \\right)} - 2 i v{\\left(z,1 \\right)} \\beta$"
      ],
      "text/plain": [
       "Eq(Derivative(v(z, 1), z), -I*u(z, 0)*u(z, 2) - 2*I*v(z, 1)*beta)"
      ]
     },
     "execution_count": 191,
     "metadata": {},
     "output_type": "execute_result"
    },
    {
     "data": {
      "text/latex": [
       "$\\displaystyle \\frac{d}{d z} v{\\left(z,2 \\right)} = - i u{\\left(z,0 \\right)} u{\\left(z,1 \\right)} - 2 i v{\\left(z,2 \\right)} \\beta$"
      ],
      "text/plain": [
       "Eq(Derivative(v(z, 2), z), -I*u(z, 0)*u(z, 1) - 2*I*v(z, 2)*beta)"
      ]
     },
     "execution_count": 191,
     "metadata": {},
     "output_type": "execute_result"
    }
   ],
   "source": [
    "for eq in u_eqs:\n",
    "    eq\n",
    "    \n",
    "for eq in v_eqs:\n",
    "    eq"
   ]
  },
  {
   "cell_type": "code",
   "execution_count": 192,
   "id": "e4cca197",
   "metadata": {},
   "outputs": [
    {
     "data": {
      "text/latex": [
       "$\\displaystyle 0$"
      ],
      "text/plain": [
       "0"
      ]
     },
     "execution_count": 192,
     "metadata": {},
     "output_type": "execute_result"
    }
   ],
   "source": [
    "diff(K_3modes_const.rhs,z).subs([eq.args for eq in (u_eqs + v_eqs)]).simplify()"
   ]
  },
  {
   "cell_type": "code",
   "execution_count": 193,
   "id": "48b22a1f",
   "metadata": {},
   "outputs": [
    {
     "data": {
      "text/latex": [
       "$\\displaystyle u{\\left(z,0 \\right)} \\frac{d}{d z} v{\\left(z,0 \\right)} + v{\\left(z,0 \\right)} \\frac{d}{d z} u{\\left(z,0 \\right)} = - i u{\\left(z,0 \\right)} u{\\left(z,1 \\right)} u{\\left(z,2 \\right)} + i v{\\left(z,0 \\right)} v{\\left(z,1 \\right)} v{\\left(z,2 \\right)}$"
      ],
      "text/plain": [
       "Eq(u(z, 0)*Derivative(v(z, 0), z) + v(z, 0)*Derivative(u(z, 0), z), -I*u(z, 0)*u(z, 1)*u(z, 2) + I*v(z, 0)*v(z, 1)*v(z, 2))"
      ]
     },
     "execution_count": 193,
     "metadata": {},
     "output_type": "execute_result"
    },
    {
     "data": {
      "text/latex": [
       "$\\displaystyle \\left(u{\\left(z,0 \\right)} \\frac{d}{d z} v{\\left(z,0 \\right)} + v{\\left(z,0 \\right)} \\frac{d}{d z} u{\\left(z,0 \\right)}\\right)^{2} = - u^{2}{\\left(z,0 \\right)} u^{2}{\\left(z,1 \\right)} u^{2}{\\left(z,2 \\right)} + 2 u{\\left(z,0 \\right)} u{\\left(z,1 \\right)} u{\\left(z,2 \\right)} v{\\left(z,0 \\right)} v{\\left(z,1 \\right)} v{\\left(z,2 \\right)} - v^{2}{\\left(z,0 \\right)} v^{2}{\\left(z,1 \\right)} v^{2}{\\left(z,2 \\right)}$"
      ],
      "text/plain": [
       "Eq((u(z, 0)*Derivative(v(z, 0), z) + v(z, 0)*Derivative(u(z, 0), z))**2, -u(z, 0)**2*u(z, 1)**2*u(z, 2)**2 + 2*u(z, 0)*u(z, 1)*u(z, 2)*v(z, 0)*v(z, 1)*v(z, 2) - v(z, 0)**2*v(z, 1)**2*v(z, 2)**2)"
      ]
     },
     "execution_count": 193,
     "metadata": {},
     "output_type": "execute_result"
    },
    {
     "data": {
      "text/latex": [
       "$\\displaystyle \\left(u{\\left(z,0 \\right)} \\frac{d}{d z} v{\\left(z,0 \\right)} + v{\\left(z,0 \\right)} \\frac{d}{d z} u{\\left(z,0 \\right)}\\right)^{2} = K^{2} - 4 i K u{\\left(z,0 \\right)} v{\\left(z,0 \\right)} \\beta - 4 i K u{\\left(z,1 \\right)} v{\\left(z,1 \\right)} \\beta - 4 i K u{\\left(z,2 \\right)} v{\\left(z,2 \\right)} \\beta - 4 u^{2}{\\left(z,0 \\right)} v^{2}{\\left(z,0 \\right)} \\beta^{2} + 4 u{\\left(z,0 \\right)} u{\\left(z,1 \\right)} u{\\left(z,2 \\right)} v{\\left(z,0 \\right)} v{\\left(z,1 \\right)} v{\\left(z,2 \\right)} - 8 u{\\left(z,0 \\right)} u{\\left(z,1 \\right)} v{\\left(z,0 \\right)} v{\\left(z,1 \\right)} \\beta^{2} - 8 u{\\left(z,0 \\right)} u{\\left(z,2 \\right)} v{\\left(z,0 \\right)} v{\\left(z,2 \\right)} \\beta^{2} - 4 u^{2}{\\left(z,1 \\right)} v^{2}{\\left(z,1 \\right)} \\beta^{2} - 8 u{\\left(z,1 \\right)} u{\\left(z,2 \\right)} v{\\left(z,1 \\right)} v{\\left(z,2 \\right)} \\beta^{2} - 4 u^{2}{\\left(z,2 \\right)} v^{2}{\\left(z,2 \\right)} \\beta^{2}$"
      ],
      "text/plain": [
       "Eq((u(z, 0)*Derivative(v(z, 0), z) + v(z, 0)*Derivative(u(z, 0), z))**2, K**2 - 4*I*K*u(z, 0)*v(z, 0)*beta - 4*I*K*u(z, 1)*v(z, 1)*beta - 4*I*K*u(z, 2)*v(z, 2)*beta - 4*u(z, 0)**2*v(z, 0)**2*beta**2 + 4*u(z, 0)*u(z, 1)*u(z, 2)*v(z, 0)*v(z, 1)*v(z, 2) - 8*u(z, 0)*u(z, 1)*v(z, 0)*v(z, 1)*beta**2 - 8*u(z, 0)*u(z, 2)*v(z, 0)*v(z, 2)*beta**2 - 4*u(z, 1)**2*v(z, 1)**2*beta**2 - 8*u(z, 1)*u(z, 2)*v(z, 1)*v(z, 2)*beta**2 - 4*u(z, 2)**2*v(z, 2)**2*beta**2)"
      ]
     },
     "execution_count": 193,
     "metadata": {},
     "output_type": "execute_result"
    },
    {
     "data": {
      "text/latex": [
       "$\\displaystyle \\left(u{\\left(z,0 \\right)} \\frac{d}{d z} v{\\left(z,0 \\right)} + v{\\left(z,0 \\right)} \\frac{d}{d z} u{\\left(z,0 \\right)}\\right)^{2} = K^{2} - 12 i K u{\\left(z,0 \\right)} v{\\left(z,0 \\right)} \\beta - 4 i K {p}_{1,0} \\beta - 4 i K {p}_{2,0} \\beta + 4 u^{3}{\\left(z,0 \\right)} v^{3}{\\left(z,0 \\right)} + 4 u^{2}{\\left(z,0 \\right)} v^{2}{\\left(z,0 \\right)} {p}_{1,0} + 4 u^{2}{\\left(z,0 \\right)} v^{2}{\\left(z,0 \\right)} {p}_{2,0} - 36 u^{2}{\\left(z,0 \\right)} v^{2}{\\left(z,0 \\right)} \\beta^{2} + 4 u{\\left(z,0 \\right)} v{\\left(z,0 \\right)} {p}_{1,0} {p}_{2,0} - 24 u{\\left(z,0 \\right)} v{\\left(z,0 \\right)} {p}_{1,0} \\beta^{2} - 24 u{\\left(z,0 \\right)} v{\\left(z,0 \\right)} {p}_{2,0} \\beta^{2} - 4 {p}_{1,0}^{2} \\beta^{2} - 8 {p}_{1,0} {p}_{2,0} \\beta^{2} - 4 {p}_{2,0}^{2} \\beta^{2}$"
      ],
      "text/plain": [
       "Eq((u(z, 0)*Derivative(v(z, 0), z) + v(z, 0)*Derivative(u(z, 0), z))**2, K**2 - 12*I*K*u(z, 0)*v(z, 0)*beta - 4*I*K*p[1, 0]*beta - 4*I*K*p[2, 0]*beta + 4*u(z, 0)**3*v(z, 0)**3 + 4*u(z, 0)**2*v(z, 0)**2*p[1, 0] + 4*u(z, 0)**2*v(z, 0)**2*p[2, 0] - 36*u(z, 0)**2*v(z, 0)**2*beta**2 + 4*u(z, 0)*v(z, 0)*p[1, 0]*p[2, 0] - 24*u(z, 0)*v(z, 0)*p[1, 0]*beta**2 - 24*u(z, 0)*v(z, 0)*p[2, 0]*beta**2 - 4*p[1, 0]**2*beta**2 - 8*p[1, 0]*p[2, 0]*beta**2 - 4*p[2, 0]**2*beta**2)"
      ]
     },
     "execution_count": 193,
     "metadata": {},
     "output_type": "execute_result"
    },
    {
     "data": {
      "text/latex": [
       "$\\displaystyle f{\\left(z,0 \\right)} = u{\\left(z,0 \\right)} v{\\left(z,0 \\right)}$"
      ],
      "text/plain": [
       "Eq(f(z, 0), u(z, 0)*v(z, 0))"
      ]
     },
     "execution_count": 193,
     "metadata": {},
     "output_type": "execute_result"
    },
    {
     "data": {
      "text/latex": [
       "$\\displaystyle \\left(\\frac{d}{d z} f{\\left(z,0 \\right)}\\right)^{2} = \\left(K - 2 i {p}_{1,0} \\beta - 2 i {p}_{2,0} \\beta\\right)^{2} - 4 \\left(- {p}_{1,0} - {p}_{2,0} + 9 \\beta^{2}\\right) f^{2}{\\left(z,0 \\right)} - 4 i \\left(3 K \\beta + i {p}_{1,0} {p}_{2,0} - 6 i {p}_{1,0} \\beta^{2} - 6 i {p}_{2,0} \\beta^{2}\\right) f{\\left(z,0 \\right)} + 4 f^{3}{\\left(z,0 \\right)}$"
      ],
      "text/plain": [
       "Eq(Derivative(f(z, 0), z)**2, (K - 2*I*p[1, 0]*beta - 2*I*p[2, 0]*beta)**2 - 4*(-p[1, 0] - p[2, 0] + 9*beta**2)*f(z, 0)**2 - 4*I*(3*K*beta + I*p[1, 0]*p[2, 0] - 6*I*p[1, 0]*beta**2 - 6*I*p[2, 0]*beta**2)*f(z, 0) + 4*f(z, 0)**3)"
      ]
     },
     "execution_count": 193,
     "metadata": {},
     "output_type": "execute_result"
    },
    {
     "data": {
      "text/latex": [
       "$\\displaystyle \\left(\\frac{d}{d z} W{\\left(z,0 \\right)}\\right)^{2} = K^{2} - 4 i K {p}_{1,0} \\beta - 4 i K {p}_{2,0} \\beta - 12 i K \\beta \\kappa - 4 \\left(- {p}_{1,0} - {p}_{2,0} + 9 \\beta^{2} - 3 \\kappa\\right) W^{2}{\\left(z,0 \\right)} - 4 i \\left(3 K \\beta + i {p}_{1,0} {p}_{2,0} - 6 i {p}_{1,0} \\beta^{2} + 2 i {p}_{1,0} \\kappa - 6 i {p}_{2,0} \\beta^{2} + 2 i {p}_{2,0} \\kappa - 18 i \\beta^{2} \\kappa + 3 i \\kappa^{2}\\right) W{\\left(z,0 \\right)} + 4 W^{3}{\\left(z,0 \\right)} - 4 {p}_{1,0}^{2} \\beta^{2} - 8 {p}_{1,0} {p}_{2,0} \\beta^{2} + 4 {p}_{1,0} {p}_{2,0} \\kappa - 24 {p}_{1,0} \\beta^{2} \\kappa + 4 {p}_{1,0} \\kappa^{2} - 4 {p}_{2,0}^{2} \\beta^{2} - 24 {p}_{2,0} \\beta^{2} \\kappa + 4 {p}_{2,0} \\kappa^{2} - 36 \\beta^{2} \\kappa^{2} + 4 \\kappa^{3}$"
      ],
      "text/plain": [
       "Eq(Derivative(W(z, 0), z)**2, K**2 - 4*I*K*p[1, 0]*beta - 4*I*K*p[2, 0]*beta - 12*I*K*beta*kappa - 4*(-p[1, 0] - p[2, 0] + 9*beta**2 - 3*kappa)*W(z, 0)**2 - 4*I*(3*K*beta + I*p[1, 0]*p[2, 0] - 6*I*p[1, 0]*beta**2 + 2*I*p[1, 0]*kappa - 6*I*p[2, 0]*beta**2 + 2*I*p[2, 0]*kappa - 18*I*beta**2*kappa + 3*I*kappa**2)*W(z, 0) + 4*W(z, 0)**3 - 4*p[1, 0]**2*beta**2 - 8*p[1, 0]*p[2, 0]*beta**2 + 4*p[1, 0]*p[2, 0]*kappa - 24*p[1, 0]*beta**2*kappa + 4*p[1, 0]*kappa**2 - 4*p[2, 0]**2*beta**2 - 24*p[2, 0]*beta**2*kappa + 4*p[2, 0]*kappa**2 - 36*beta**2*kappa**2 + 4*kappa**3)"
      ]
     },
     "execution_count": 193,
     "metadata": {},
     "output_type": "execute_result"
    },
    {
     "data": {
      "text/latex": [
       "$\\displaystyle \\kappa = - \\frac{{p}_{1,0}}{3} - \\frac{{p}_{2,0}}{3} + 3 \\beta^{2}$"
      ],
      "text/plain": [
       "Eq(kappa, -p[1, 0]/3 - p[2, 0]/3 + 3*beta**2)"
      ]
     },
     "execution_count": 193,
     "metadata": {},
     "output_type": "execute_result"
    },
    {
     "data": {
      "text/latex": [
       "$\\displaystyle \\left(\\frac{d}{d z} W{\\left(z,0 \\right)}\\right)^{2} = - \\frac{4 i \\left(9 K \\beta - i {p}_{1,0}^{2} + i {p}_{1,0} {p}_{2,0} - i {p}_{2,0}^{2} - 81 i \\beta^{4}\\right) W{\\left(z,0 \\right)}}{3} + \\frac{27 K^{2} - 972 i K \\beta^{3} + 8 {p}_{1,0}^{3} - 12 {p}_{1,0}^{2} {p}_{2,0} - 108 {p}_{1,0}^{2} \\beta^{2} - 12 {p}_{1,0} {p}_{2,0}^{2} + 108 {p}_{1,0} {p}_{2,0} \\beta^{2} + 8 {p}_{2,0}^{3} - 108 {p}_{2,0}^{2} \\beta^{2} - 5832 \\beta^{6}}{27} + 4 W^{3}{\\left(z,0 \\right)}$"
      ],
      "text/plain": [
       "Eq(Derivative(W(z, 0), z)**2, -4*I*(9*K*beta - I*p[1, 0]**2 + I*p[1, 0]*p[2, 0] - I*p[2, 0]**2 - 81*I*beta**4)*W(z, 0)/3 + (27*K**2 - 972*I*K*beta**3 + 8*p[1, 0]**3 - 12*p[1, 0]**2*p[2, 0] - 108*p[1, 0]**2*beta**2 - 12*p[1, 0]*p[2, 0]**2 + 108*p[1, 0]*p[2, 0]*beta**2 + 8*p[2, 0]**3 - 108*p[2, 0]**2*beta**2 - 5832*beta**6)/27 + 4*W(z, 0)**3)"
      ]
     },
     "execution_count": 193,
     "metadata": {},
     "output_type": "execute_result"
    },
    {
     "data": {
      "text/latex": [
       "$\\displaystyle g_{2} = \\frac{4 i \\left(9 K \\beta - i {p}_{1,0}^{2} + i {p}_{1,0} {p}_{2,0} - i {p}_{2,0}^{2} - 81 i \\beta^{4}\\right)}{3}$"
      ],
      "text/plain": [
       "Eq(g2, 4*I*(9*K*beta - I*p[1, 0]**2 + I*p[1, 0]*p[2, 0] - I*p[2, 0]**2 - 81*I*beta**4)/3)"
      ]
     },
     "execution_count": 193,
     "metadata": {},
     "output_type": "execute_result"
    },
    {
     "data": {
      "text/latex": [
       "$\\displaystyle g_{3} = - \\frac{27 K^{2} - 972 i K \\beta^{3} + 8 {p}_{1,0}^{3} - 12 {p}_{1,0}^{2} {p}_{2,0} - 108 {p}_{1,0}^{2} \\beta^{2} - 12 {p}_{1,0} {p}_{2,0}^{2} + 108 {p}_{1,0} {p}_{2,0} \\beta^{2} + 8 {p}_{2,0}^{3} - 108 {p}_{2,0}^{2} \\beta^{2} - 5832 \\beta^{6}}{27}$"
      ],
      "text/plain": [
       "Eq(g3, -(27*K**2 - 972*I*K*beta**3 + 8*p[1, 0]**3 - 12*p[1, 0]**2*p[2, 0] - 108*p[1, 0]**2*beta**2 - 12*p[1, 0]*p[2, 0]**2 + 108*p[1, 0]*p[2, 0]*beta**2 + 8*p[2, 0]**3 - 108*p[2, 0]**2*beta**2 - 5832*beta**6)/27)"
      ]
     },
     "execution_count": 193,
     "metadata": {},
     "output_type": "execute_result"
    }
   ],
   "source": [
    "duv0 = Eq(u_eqs[0].lhs*v(z,0) + v_eqs[0].lhs*u(z,0), u_eqs[0].rhs*v(z,0) + v_eqs[0].rhs*u(z,0)).expand()\n",
    "duv0_sqrd_a = Eq(duv0.lhs**2, (duv0.rhs**2).expand())\n",
    "duv0_sqrd_b = Eq(duv0_sqrd_a.lhs, \n",
    "                 duv0_sqrd_a.rhs - (n_wave_mix_terms**2 - (phase_mod_terms - K)**2).doit().expand())\n",
    "duv0_sqrd_c = Eq(duv0_sqrd_b.lhs, \n",
    "                 duv0_sqrd_b.rhs.subs([\n",
    "                     (u(z,1),solve(pow_differences[3],u(z,1))[0]), \n",
    "                     (u(z,2),solve(pow_differences[6],u(z,2))[0])\n",
    "                 ]).expand()\n",
    "                )\n",
    "\n",
    "f_uv0 = Eq(f(z,0), u(z,0)*v(z,0))\n",
    "duv0_sqrd_d = duv0_sqrd_c.subs(u(z,0), solve(f_uv0,u(z,0))[0]).doit().expand()\n",
    "duv0_sqrd_d = Eq(duv0_sqrd_d.lhs, duv0_sqrd_d.rhs.collect(f(z,0),factor))\n",
    "duv0_sqrd_e = duv0_sqrd_d.subs(f(z,0), W(z,0) + kappa)\n",
    "kappa_sqrd_zero = Eq(kappa, solve(duv0_sqrd_e.rhs.expand().collect(W(z,0), factor).coeff(W(z,0)**2), kappa)[0])\n",
    "duv0_sqrd_e = Eq(duv0_sqrd_e.lhs.doit(), duv0_sqrd_e.rhs.expand().collect(W(z,0), factor))\n",
    "duv0_sqrd_f = duv0_sqrd_e.subs(*kappa_sqrd_zero.args)\n",
    "duv0_sqrd_f = Eq(duv0_sqrd_f.lhs, duv0_sqrd_f.rhs.expand().collect(W(z,0), factor))\n",
    "\n",
    "g2_W0 = Eq(g2, -duv0_sqrd_f.rhs.coeff(W(z,0)))\n",
    "g3_W0 = Eq(g3, -duv0_sqrd_f.rhs.subs(W(z,0),0))\n",
    "\n",
    "duv0\n",
    "duv0_sqrd_a\n",
    "duv0_sqrd_b\n",
    "duv0_sqrd_c\n",
    "f_uv0\n",
    "duv0_sqrd_d\n",
    "duv0_sqrd_e\n",
    "kappa_sqrd_zero\n",
    "duv0_sqrd_f\n",
    "g2_W0\n",
    "g3_W0"
   ]
  },
  {
   "cell_type": "code",
   "execution_count": 194,
   "id": "0dbd08e4",
   "metadata": {},
   "outputs": [],
   "source": [
    "beta_zw = Eq(beta, Rational(1,3)*Sum(zw(xi[k], g2, g3), (k, 0, 2)))\n",
    "K_pwp = Eq(K, Rational(1,3)*Sum(pwp(xi[k], g2, g3), (k, 0, 2)))\n",
    "g2_3_modes = Eq(g2,\n",
    "   - 4*pw(xi[0], g2, g3)*pw(xi[1], g2, g3) \n",
    "   - 4*pw(xi[0], g2, g3)*pw(xi[2], g2, g3) \n",
    "   - 4*pw(xi[1], g2, g3)*pw(xi[2], g2, g3) \n",
    "   + 4*Sum(pwp(xi[k], g2, g3), (k, 0, 2))*Sum(zw(xi[k], g2, g3), (k, 0, 2))/3 \n",
    "   + 8*Sum(zw(xi[k], g2, g3), (k, 0, 2))**4/3\n",
    "  )\n",
    "\n",
    "g3_modes = Eq(g3,\n",
    "   -(Sum(pwp(xi[k], g2, g3), (k, 0, 2)) + 2*Sum(zw(xi[k], g2, g3), (k, 0, 2))**3)**2/9 + \n",
    "   4*Product(pw(xi[k], g2, g3), (k, 0, 2))\n",
    ")"
   ]
  },
  {
   "cell_type": "code",
   "execution_count": 198,
   "id": "3c19f5eb",
   "metadata": {},
   "outputs": [
    {
     "data": {
      "text/latex": [
       "$\\displaystyle \\frac{4 \\left({p}_{1,0}^{2} - {p}_{1,0} {p}_{2,0} + {p}_{2,0}^{2}\\right)}{3} = \\frac{4 \\operatorname{pw}^{2}{\\left({\\xi}_{0},g_{2},g_{3} \\right)}}{3} - \\frac{4 \\operatorname{pw}{\\left({\\xi}_{0},g_{2},g_{3} \\right)} \\operatorname{pw}{\\left({\\xi}_{1},g_{2},g_{3} \\right)}}{3} - \\frac{4 \\operatorname{pw}{\\left({\\xi}_{0},g_{2},g_{3} \\right)} \\operatorname{pw}{\\left({\\xi}_{2},g_{2},g_{3} \\right)}}{3} + \\frac{4 \\operatorname{pw}^{2}{\\left({\\xi}_{1},g_{2},g_{3} \\right)}}{3} - \\frac{4 \\operatorname{pw}{\\left({\\xi}_{1},g_{2},g_{3} \\right)} \\operatorname{pw}{\\left({\\xi}_{2},g_{2},g_{3} \\right)}}{3} + \\frac{4 \\operatorname{pw}^{2}{\\left({\\xi}_{2},g_{2},g_{3} \\right)}}{3}$"
      ],
      "text/plain": [
       "Eq(4*(p[1, 0]**2 - p[1, 0]*p[2, 0] + p[2, 0]**2)/3, 4*pw(xi[0], g2, g3)**2/3 - 4*pw(xi[0], g2, g3)*pw(xi[1], g2, g3)/3 - 4*pw(xi[0], g2, g3)*pw(xi[2], g2, g3)/3 + 4*pw(xi[1], g2, g3)**2/3 - 4*pw(xi[1], g2, g3)*pw(xi[2], g2, g3)/3 + 4*pw(xi[2], g2, g3)**2/3)"
      ]
     },
     "execution_count": 198,
     "metadata": {},
     "output_type": "execute_result"
    }
   ],
   "source": [
    "p012_subs = [\n",
    "    (p[1,0],-(pw(xi[1],g2,g3) - pw(xi[0],g2,g3))), (p[2,0],-(pw(xi[2],g2,g3) - pw(xi[0],g2,g3)))\n",
    "]\n",
    "p012 = Eq(g2_W0.rhs.subs([(K,0),(beta,0)]).factor(), (g2_W0.rhs.subs([(K,0),(beta,0)])).subs(p012_subs).expand())\n",
    "p012"
   ]
  },
  {
   "cell_type": "code",
   "execution_count": 199,
   "id": "0a7913bd",
   "metadata": {},
   "outputs": [
    {
     "data": {
      "text/latex": [
       "$\\displaystyle g_{2} = \\frac{4 i \\left(- i {p}_{1,0}^{2} + i {p}_{1,0} {p}_{2,0} - i {p}_{2,0}^{2} + \\left(\\sum_{k=0}^{2} \\operatorname{pwp}{\\left({\\xi}_{k},g_{2},g_{3} \\right)}\\right) \\sum_{k=0}^{2} \\operatorname{zw}{\\left({\\xi}_{k},g_{2},g_{3} \\right)} - i \\left(\\sum_{k=0}^{2} \\operatorname{zw}{\\left({\\xi}_{k},g_{2},g_{3} \\right)}\\right)^{4}\\right)}{3}$"
      ],
      "text/plain": [
       "Eq(g2, 4*I*(-I*p[1, 0]**2 + I*p[1, 0]*p[2, 0] - I*p[2, 0]**2 + Sum(pwp(xi[k], g2, g3), (k, 0, 2))*Sum(zw(xi[k], g2, g3), (k, 0, 2)) - I*Sum(zw(xi[k], g2, g3), (k, 0, 2))**4)/3)"
      ]
     },
     "execution_count": 199,
     "metadata": {},
     "output_type": "execute_result"
    }
   ],
   "source": [
    "g2_W0.subs(*p012.args).subs([beta_zw.args, K_pwp.args])"
   ]
  },
  {
   "cell_type": "code",
   "execution_count": 155,
   "id": "8a86483e",
   "metadata": {},
   "outputs": [
    {
     "data": {
      "text/latex": [
       "$\\displaystyle g_{2} = - 4 \\operatorname{pw}{\\left({\\xi}_{0},g_{2},g_{3} \\right)} \\operatorname{pw}{\\left({\\xi}_{1},g_{2},g_{3} \\right)} - 4 \\operatorname{pw}{\\left({\\xi}_{0},g_{2},g_{3} \\right)} \\operatorname{pw}{\\left({\\xi}_{2},g_{2},g_{3} \\right)} - 4 \\operatorname{pw}{\\left({\\xi}_{1},g_{2},g_{3} \\right)} \\operatorname{pw}{\\left({\\xi}_{2},g_{2},g_{3} \\right)} + \\frac{4 \\left(\\sum_{k=0}^{2} \\operatorname{pwp}{\\left({\\xi}_{k},g_{2},g_{3} \\right)}\\right) \\sum_{k=0}^{2} \\operatorname{zw}{\\left({\\xi}_{k},g_{2},g_{3} \\right)}}{3} + \\frac{8 \\left(\\sum_{k=0}^{2} \\operatorname{zw}{\\left({\\xi}_{k},g_{2},g_{3} \\right)}\\right)^{4}}{3}$"
      ],
      "text/plain": [
       "Eq(g2, -4*pw(xi[0], g2, g3)*pw(xi[1], g2, g3) - 4*pw(xi[0], g2, g3)*pw(xi[2], g2, g3) - 4*pw(xi[1], g2, g3)*pw(xi[2], g2, g3) + 4*Sum(pwp(xi[k], g2, g3), (k, 0, 2))*Sum(zw(xi[k], g2, g3), (k, 0, 2))/3 + 8*Sum(zw(xi[k], g2, g3), (k, 0, 2))**4/3)"
      ]
     },
     "execution_count": 155,
     "metadata": {},
     "output_type": "execute_result"
    }
   ],
   "source": [
    "g2_3_modes"
   ]
  },
  {
   "cell_type": "code",
   "execution_count": 150,
   "id": "47f02a87",
   "metadata": {},
   "outputs": [
    {
     "data": {
      "text/latex": [
       "$\\displaystyle - \\frac{4 \\operatorname{pw}^{2}{\\left({\\xi}_{0},g_{2},g_{3} \\right)}}{3} + \\frac{4 \\operatorname{pw}{\\left({\\xi}_{0},g_{2},g_{3} \\right)} \\operatorname{pw}{\\left({\\xi}_{1},g_{2},g_{3} \\right)}}{3} + \\frac{4 \\operatorname{pw}{\\left({\\xi}_{0},g_{2},g_{3} \\right)} \\operatorname{pw}{\\left({\\xi}_{2},g_{2},g_{3} \\right)}}{3} - \\frac{4 \\operatorname{pw}^{2}{\\left({\\xi}_{1},g_{2},g_{3} \\right)}}{3} + \\frac{4 \\operatorname{pw}{\\left({\\xi}_{1},g_{2},g_{3} \\right)} \\operatorname{pw}{\\left({\\xi}_{2},g_{2},g_{3} \\right)}}{3} - \\frac{4 \\operatorname{pw}^{2}{\\left({\\xi}_{2},g_{2},g_{3} \\right)}}{3} - \\frac{4 \\left(\\sum_{k=0}^{2} \\operatorname{pwp}{\\left({\\xi}_{k},g_{2},g_{3} \\right)}\\right) \\sum_{k=0}^{2} \\operatorname{zw}{\\left({\\xi}_{k},g_{2},g_{3} \\right)}}{3} - \\frac{4 \\left(\\sum_{k=0}^{2} \\operatorname{zw}{\\left({\\xi}_{k},g_{2},g_{3} \\right)}\\right)^{4}}{3}$"
      ],
      "text/plain": [
       "-4*pw(xi[0], g2, g3)**2/3 + 4*pw(xi[0], g2, g3)*pw(xi[1], g2, g3)/3 + 4*pw(xi[0], g2, g3)*pw(xi[2], g2, g3)/3 - 4*pw(xi[1], g2, g3)**2/3 + 4*pw(xi[1], g2, g3)*pw(xi[2], g2, g3)/3 - 4*pw(xi[2], g2, g3)**2/3 - 4*Sum(pwp(xi[k], g2, g3), (k, 0, 2))*Sum(zw(xi[k], g2, g3), (k, 0, 2))/3 - 4*Sum(zw(xi[k], g2, g3), (k, 0, 2))**4/3"
      ]
     },
     "execution_count": 150,
     "metadata": {},
     "output_type": "execute_result"
    }
   ],
   "source": [
    "g2_W0.subs(*p012.args).subs([beta_zw.args, K_pwp.args]).rhs"
   ]
  },
  {
   "cell_type": "code",
   "execution_count": 151,
   "id": "8244932d",
   "metadata": {},
   "outputs": [
    {
     "data": {
      "text/latex": [
       "$\\displaystyle - 4 \\operatorname{pw}{\\left({\\xi}_{0},g_{2},g_{3} \\right)} \\operatorname{pw}{\\left({\\xi}_{1},g_{2},g_{3} \\right)} - 4 \\operatorname{pw}{\\left({\\xi}_{0},g_{2},g_{3} \\right)} \\operatorname{pw}{\\left({\\xi}_{2},g_{2},g_{3} \\right)} - 4 \\operatorname{pw}{\\left({\\xi}_{1},g_{2},g_{3} \\right)} \\operatorname{pw}{\\left({\\xi}_{2},g_{2},g_{3} \\right)} + \\frac{4 \\left(\\sum_{k=0}^{2} \\operatorname{pwp}{\\left({\\xi}_{k},g_{2},g_{3} \\right)}\\right) \\sum_{k=0}^{2} \\operatorname{zw}{\\left({\\xi}_{k},g_{2},g_{3} \\right)}}{3} + \\frac{8 \\left(\\sum_{k=0}^{2} \\operatorname{zw}{\\left({\\xi}_{k},g_{2},g_{3} \\right)}\\right)^{4}}{3}$"
      ],
      "text/plain": [
       "-4*pw(xi[0], g2, g3)*pw(xi[1], g2, g3) - 4*pw(xi[0], g2, g3)*pw(xi[2], g2, g3) - 4*pw(xi[1], g2, g3)*pw(xi[2], g2, g3) + 4*Sum(pwp(xi[k], g2, g3), (k, 0, 2))*Sum(zw(xi[k], g2, g3), (k, 0, 2))/3 + 8*Sum(zw(xi[k], g2, g3), (k, 0, 2))**4/3"
      ]
     },
     "execution_count": 151,
     "metadata": {},
     "output_type": "execute_result"
    }
   ],
   "source": [
    "g2_3_modes.rhs"
   ]
  },
  {
   "cell_type": "code",
   "execution_count": 156,
   "id": "79949d04",
   "metadata": {},
   "outputs": [
    {
     "data": {
      "text/latex": [
       "$\\displaystyle g_{3} = - \\frac{\\left(\\sum_{k=0}^{2} \\operatorname{pwp}{\\left({\\xi}_{k},g_{2},g_{3} \\right)} + 2 \\left(\\sum_{k=0}^{2} \\operatorname{zw}{\\left({\\xi}_{k},g_{2},g_{3} \\right)}\\right)^{3}\\right)^{2}}{9} + 4 \\prod_{k=0}^{2} \\operatorname{pw}{\\left({\\xi}_{k},g_{2},g_{3} \\right)}$"
      ],
      "text/plain": [
       "Eq(g3, -(Sum(pwp(xi[k], g2, g3), (k, 0, 2)) + 2*Sum(zw(xi[k], g2, g3), (k, 0, 2))**3)**2/9 + 4*Product(pw(xi[k], g2, g3), (k, 0, 2)))"
      ]
     },
     "execution_count": 156,
     "metadata": {},
     "output_type": "execute_result"
    }
   ],
   "source": [
    "g3_modes"
   ]
  },
  {
   "cell_type": "code",
   "execution_count": 164,
   "id": "645900b9",
   "metadata": {},
   "outputs": [
    {
     "data": {
      "text/latex": [
       "$\\displaystyle g_{3} = - \\frac{8 \\operatorname{pw}^{3}{\\left({\\xi}_{0},g_{2},g_{3} \\right)}}{27} + \\frac{4 \\operatorname{pw}^{2}{\\left({\\xi}_{0},g_{2},g_{3} \\right)} \\operatorname{pw}{\\left({\\xi}_{1},g_{2},g_{3} \\right)}}{9} + \\frac{4 \\operatorname{pw}^{2}{\\left({\\xi}_{0},g_{2},g_{3} \\right)} \\operatorname{pw}{\\left({\\xi}_{2},g_{2},g_{3} \\right)}}{9} - \\frac{4 \\operatorname{pw}^{2}{\\left({\\xi}_{0},g_{2},g_{3} \\right)} \\operatorname{zw}^{2}{\\left({\\xi}_{0},g_{2},g_{3} \\right)}}{9} - \\frac{8 \\operatorname{pw}^{2}{\\left({\\xi}_{0},g_{2},g_{3} \\right)} \\operatorname{zw}{\\left({\\xi}_{0},g_{2},g_{3} \\right)} \\operatorname{zw}{\\left({\\xi}_{1},g_{2},g_{3} \\right)}}{9} - \\frac{8 \\operatorname{pw}^{2}{\\left({\\xi}_{0},g_{2},g_{3} \\right)} \\operatorname{zw}{\\left({\\xi}_{0},g_{2},g_{3} \\right)} \\operatorname{zw}{\\left({\\xi}_{2},g_{2},g_{3} \\right)}}{9} - \\frac{4 \\operatorname{pw}^{2}{\\left({\\xi}_{0},g_{2},g_{3} \\right)} \\operatorname{zw}^{2}{\\left({\\xi}_{1},g_{2},g_{3} \\right)}}{9} - \\frac{8 \\operatorname{pw}^{2}{\\left({\\xi}_{0},g_{2},g_{3} \\right)} \\operatorname{zw}{\\left({\\xi}_{1},g_{2},g_{3} \\right)} \\operatorname{zw}{\\left({\\xi}_{2},g_{2},g_{3} \\right)}}{9} - \\frac{4 \\operatorname{pw}^{2}{\\left({\\xi}_{0},g_{2},g_{3} \\right)} \\operatorname{zw}^{2}{\\left({\\xi}_{2},g_{2},g_{3} \\right)}}{9} + \\frac{4 \\operatorname{pw}{\\left({\\xi}_{0},g_{2},g_{3} \\right)} \\operatorname{pw}^{2}{\\left({\\xi}_{1},g_{2},g_{3} \\right)}}{9} - \\frac{16 \\operatorname{pw}{\\left({\\xi}_{0},g_{2},g_{3} \\right)} \\operatorname{pw}{\\left({\\xi}_{1},g_{2},g_{3} \\right)} \\operatorname{pw}{\\left({\\xi}_{2},g_{2},g_{3} \\right)}}{9} + \\frac{4 \\operatorname{pw}{\\left({\\xi}_{0},g_{2},g_{3} \\right)} \\operatorname{pw}{\\left({\\xi}_{1},g_{2},g_{3} \\right)} \\operatorname{zw}^{2}{\\left({\\xi}_{0},g_{2},g_{3} \\right)}}{9} + \\frac{8 \\operatorname{pw}{\\left({\\xi}_{0},g_{2},g_{3} \\right)} \\operatorname{pw}{\\left({\\xi}_{1},g_{2},g_{3} \\right)} \\operatorname{zw}{\\left({\\xi}_{0},g_{2},g_{3} \\right)} \\operatorname{zw}{\\left({\\xi}_{1},g_{2},g_{3} \\right)}}{9} + \\frac{8 \\operatorname{pw}{\\left({\\xi}_{0},g_{2},g_{3} \\right)} \\operatorname{pw}{\\left({\\xi}_{1},g_{2},g_{3} \\right)} \\operatorname{zw}{\\left({\\xi}_{0},g_{2},g_{3} \\right)} \\operatorname{zw}{\\left({\\xi}_{2},g_{2},g_{3} \\right)}}{9} + \\frac{4 \\operatorname{pw}{\\left({\\xi}_{0},g_{2},g_{3} \\right)} \\operatorname{pw}{\\left({\\xi}_{1},g_{2},g_{3} \\right)} \\operatorname{zw}^{2}{\\left({\\xi}_{1},g_{2},g_{3} \\right)}}{9} + \\frac{8 \\operatorname{pw}{\\left({\\xi}_{0},g_{2},g_{3} \\right)} \\operatorname{pw}{\\left({\\xi}_{1},g_{2},g_{3} \\right)} \\operatorname{zw}{\\left({\\xi}_{1},g_{2},g_{3} \\right)} \\operatorname{zw}{\\left({\\xi}_{2},g_{2},g_{3} \\right)}}{9} + \\frac{4 \\operatorname{pw}{\\left({\\xi}_{0},g_{2},g_{3} \\right)} \\operatorname{pw}{\\left({\\xi}_{1},g_{2},g_{3} \\right)} \\operatorname{zw}^{2}{\\left({\\xi}_{2},g_{2},g_{3} \\right)}}{9} + \\frac{4 \\operatorname{pw}{\\left({\\xi}_{0},g_{2},g_{3} \\right)} \\operatorname{pw}^{2}{\\left({\\xi}_{2},g_{2},g_{3} \\right)}}{9} + \\frac{4 \\operatorname{pw}{\\left({\\xi}_{0},g_{2},g_{3} \\right)} \\operatorname{pw}{\\left({\\xi}_{2},g_{2},g_{3} \\right)} \\operatorname{zw}^{2}{\\left({\\xi}_{0},g_{2},g_{3} \\right)}}{9} + \\frac{8 \\operatorname{pw}{\\left({\\xi}_{0},g_{2},g_{3} \\right)} \\operatorname{pw}{\\left({\\xi}_{2},g_{2},g_{3} \\right)} \\operatorname{zw}{\\left({\\xi}_{0},g_{2},g_{3} \\right)} \\operatorname{zw}{\\left({\\xi}_{1},g_{2},g_{3} \\right)}}{9} + \\frac{8 \\operatorname{pw}{\\left({\\xi}_{0},g_{2},g_{3} \\right)} \\operatorname{pw}{\\left({\\xi}_{2},g_{2},g_{3} \\right)} \\operatorname{zw}{\\left({\\xi}_{0},g_{2},g_{3} \\right)} \\operatorname{zw}{\\left({\\xi}_{2},g_{2},g_{3} \\right)}}{9} + \\frac{4 \\operatorname{pw}{\\left({\\xi}_{0},g_{2},g_{3} \\right)} \\operatorname{pw}{\\left({\\xi}_{2},g_{2},g_{3} \\right)} \\operatorname{zw}^{2}{\\left({\\xi}_{1},g_{2},g_{3} \\right)}}{9} + \\frac{8 \\operatorname{pw}{\\left({\\xi}_{0},g_{2},g_{3} \\right)} \\operatorname{pw}{\\left({\\xi}_{2},g_{2},g_{3} \\right)} \\operatorname{zw}{\\left({\\xi}_{1},g_{2},g_{3} \\right)} \\operatorname{zw}{\\left({\\xi}_{2},g_{2},g_{3} \\right)}}{9} + \\frac{4 \\operatorname{pw}{\\left({\\xi}_{0},g_{2},g_{3} \\right)} \\operatorname{pw}{\\left({\\xi}_{2},g_{2},g_{3} \\right)} \\operatorname{zw}^{2}{\\left({\\xi}_{2},g_{2},g_{3} \\right)}}{9} - \\frac{8 \\operatorname{pw}^{3}{\\left({\\xi}_{1},g_{2},g_{3} \\right)}}{27} + \\frac{4 \\operatorname{pw}^{2}{\\left({\\xi}_{1},g_{2},g_{3} \\right)} \\operatorname{pw}{\\left({\\xi}_{2},g_{2},g_{3} \\right)}}{9} - \\frac{4 \\operatorname{pw}^{2}{\\left({\\xi}_{1},g_{2},g_{3} \\right)} \\operatorname{zw}^{2}{\\left({\\xi}_{0},g_{2},g_{3} \\right)}}{9} - \\frac{8 \\operatorname{pw}^{2}{\\left({\\xi}_{1},g_{2},g_{3} \\right)} \\operatorname{zw}{\\left({\\xi}_{0},g_{2},g_{3} \\right)} \\operatorname{zw}{\\left({\\xi}_{1},g_{2},g_{3} \\right)}}{9} - \\frac{8 \\operatorname{pw}^{2}{\\left({\\xi}_{1},g_{2},g_{3} \\right)} \\operatorname{zw}{\\left({\\xi}_{0},g_{2},g_{3} \\right)} \\operatorname{zw}{\\left({\\xi}_{2},g_{2},g_{3} \\right)}}{9} - \\frac{4 \\operatorname{pw}^{2}{\\left({\\xi}_{1},g_{2},g_{3} \\right)} \\operatorname{zw}^{2}{\\left({\\xi}_{1},g_{2},g_{3} \\right)}}{9} - \\frac{8 \\operatorname{pw}^{2}{\\left({\\xi}_{1},g_{2},g_{3} \\right)} \\operatorname{zw}{\\left({\\xi}_{1},g_{2},g_{3} \\right)} \\operatorname{zw}{\\left({\\xi}_{2},g_{2},g_{3} \\right)}}{9} - \\frac{4 \\operatorname{pw}^{2}{\\left({\\xi}_{1},g_{2},g_{3} \\right)} \\operatorname{zw}^{2}{\\left({\\xi}_{2},g_{2},g_{3} \\right)}}{9} + \\frac{4 \\operatorname{pw}{\\left({\\xi}_{1},g_{2},g_{3} \\right)} \\operatorname{pw}^{2}{\\left({\\xi}_{2},g_{2},g_{3} \\right)}}{9} + \\frac{4 \\operatorname{pw}{\\left({\\xi}_{1},g_{2},g_{3} \\right)} \\operatorname{pw}{\\left({\\xi}_{2},g_{2},g_{3} \\right)} \\operatorname{zw}^{2}{\\left({\\xi}_{0},g_{2},g_{3} \\right)}}{9} + \\frac{8 \\operatorname{pw}{\\left({\\xi}_{1},g_{2},g_{3} \\right)} \\operatorname{pw}{\\left({\\xi}_{2},g_{2},g_{3} \\right)} \\operatorname{zw}{\\left({\\xi}_{0},g_{2},g_{3} \\right)} \\operatorname{zw}{\\left({\\xi}_{1},g_{2},g_{3} \\right)}}{9} + \\frac{8 \\operatorname{pw}{\\left({\\xi}_{1},g_{2},g_{3} \\right)} \\operatorname{pw}{\\left({\\xi}_{2},g_{2},g_{3} \\right)} \\operatorname{zw}{\\left({\\xi}_{0},g_{2},g_{3} \\right)} \\operatorname{zw}{\\left({\\xi}_{2},g_{2},g_{3} \\right)}}{9} + \\frac{4 \\operatorname{pw}{\\left({\\xi}_{1},g_{2},g_{3} \\right)} \\operatorname{pw}{\\left({\\xi}_{2},g_{2},g_{3} \\right)} \\operatorname{zw}^{2}{\\left({\\xi}_{1},g_{2},g_{3} \\right)}}{9} + \\frac{8 \\operatorname{pw}{\\left({\\xi}_{1},g_{2},g_{3} \\right)} \\operatorname{pw}{\\left({\\xi}_{2},g_{2},g_{3} \\right)} \\operatorname{zw}{\\left({\\xi}_{1},g_{2},g_{3} \\right)} \\operatorname{zw}{\\left({\\xi}_{2},g_{2},g_{3} \\right)}}{9} + \\frac{4 \\operatorname{pw}{\\left({\\xi}_{1},g_{2},g_{3} \\right)} \\operatorname{pw}{\\left({\\xi}_{2},g_{2},g_{3} \\right)} \\operatorname{zw}^{2}{\\left({\\xi}_{2},g_{2},g_{3} \\right)}}{9} - \\frac{8 \\operatorname{pw}^{3}{\\left({\\xi}_{2},g_{2},g_{3} \\right)}}{27} - \\frac{4 \\operatorname{pw}^{2}{\\left({\\xi}_{2},g_{2},g_{3} \\right)} \\operatorname{zw}^{2}{\\left({\\xi}_{0},g_{2},g_{3} \\right)}}{9} - \\frac{8 \\operatorname{pw}^{2}{\\left({\\xi}_{2},g_{2},g_{3} \\right)} \\operatorname{zw}{\\left({\\xi}_{0},g_{2},g_{3} \\right)} \\operatorname{zw}{\\left({\\xi}_{1},g_{2},g_{3} \\right)}}{9} - \\frac{8 \\operatorname{pw}^{2}{\\left({\\xi}_{2},g_{2},g_{3} \\right)} \\operatorname{zw}{\\left({\\xi}_{0},g_{2},g_{3} \\right)} \\operatorname{zw}{\\left({\\xi}_{2},g_{2},g_{3} \\right)}}{9} - \\frac{4 \\operatorname{pw}^{2}{\\left({\\xi}_{2},g_{2},g_{3} \\right)} \\operatorname{zw}^{2}{\\left({\\xi}_{1},g_{2},g_{3} \\right)}}{9} - \\frac{8 \\operatorname{pw}^{2}{\\left({\\xi}_{2},g_{2},g_{3} \\right)} \\operatorname{zw}{\\left({\\xi}_{1},g_{2},g_{3} \\right)} \\operatorname{zw}{\\left({\\xi}_{2},g_{2},g_{3} \\right)}}{9} - \\frac{4 \\operatorname{pw}^{2}{\\left({\\xi}_{2},g_{2},g_{3} \\right)} \\operatorname{zw}^{2}{\\left({\\xi}_{2},g_{2},g_{3} \\right)}}{9} - \\frac{\\operatorname{pwp}^{2}{\\left({\\xi}_{0},g_{2},g_{3} \\right)}}{9} - \\frac{2 \\operatorname{pwp}{\\left({\\xi}_{0},g_{2},g_{3} \\right)} \\operatorname{pwp}{\\left({\\xi}_{1},g_{2},g_{3} \\right)}}{9} - \\frac{2 \\operatorname{pwp}{\\left({\\xi}_{0},g_{2},g_{3} \\right)} \\operatorname{pwp}{\\left({\\xi}_{2},g_{2},g_{3} \\right)}}{9} - \\frac{4 \\operatorname{pwp}{\\left({\\xi}_{0},g_{2},g_{3} \\right)} \\operatorname{zw}^{3}{\\left({\\xi}_{0},g_{2},g_{3} \\right)}}{9} - \\frac{4 \\operatorname{pwp}{\\left({\\xi}_{0},g_{2},g_{3} \\right)} \\operatorname{zw}^{2}{\\left({\\xi}_{0},g_{2},g_{3} \\right)} \\operatorname{zw}{\\left({\\xi}_{1},g_{2},g_{3} \\right)}}{3} - \\frac{4 \\operatorname{pwp}{\\left({\\xi}_{0},g_{2},g_{3} \\right)} \\operatorname{zw}^{2}{\\left({\\xi}_{0},g_{2},g_{3} \\right)} \\operatorname{zw}{\\left({\\xi}_{2},g_{2},g_{3} \\right)}}{3} - \\frac{4 \\operatorname{pwp}{\\left({\\xi}_{0},g_{2},g_{3} \\right)} \\operatorname{zw}{\\left({\\xi}_{0},g_{2},g_{3} \\right)} \\operatorname{zw}^{2}{\\left({\\xi}_{1},g_{2},g_{3} \\right)}}{3} - \\frac{8 \\operatorname{pwp}{\\left({\\xi}_{0},g_{2},g_{3} \\right)} \\operatorname{zw}{\\left({\\xi}_{0},g_{2},g_{3} \\right)} \\operatorname{zw}{\\left({\\xi}_{1},g_{2},g_{3} \\right)} \\operatorname{zw}{\\left({\\xi}_{2},g_{2},g_{3} \\right)}}{3} - \\frac{4 \\operatorname{pwp}{\\left({\\xi}_{0},g_{2},g_{3} \\right)} \\operatorname{zw}{\\left({\\xi}_{0},g_{2},g_{3} \\right)} \\operatorname{zw}^{2}{\\left({\\xi}_{2},g_{2},g_{3} \\right)}}{3} - \\frac{4 \\operatorname{pwp}{\\left({\\xi}_{0},g_{2},g_{3} \\right)} \\operatorname{zw}^{3}{\\left({\\xi}_{1},g_{2},g_{3} \\right)}}{9} - \\frac{4 \\operatorname{pwp}{\\left({\\xi}_{0},g_{2},g_{3} \\right)} \\operatorname{zw}^{2}{\\left({\\xi}_{1},g_{2},g_{3} \\right)} \\operatorname{zw}{\\left({\\xi}_{2},g_{2},g_{3} \\right)}}{3} - \\frac{4 \\operatorname{pwp}{\\left({\\xi}_{0},g_{2},g_{3} \\right)} \\operatorname{zw}{\\left({\\xi}_{1},g_{2},g_{3} \\right)} \\operatorname{zw}^{2}{\\left({\\xi}_{2},g_{2},g_{3} \\right)}}{3} - \\frac{4 \\operatorname{pwp}{\\left({\\xi}_{0},g_{2},g_{3} \\right)} \\operatorname{zw}^{3}{\\left({\\xi}_{2},g_{2},g_{3} \\right)}}{9} - \\frac{\\operatorname{pwp}^{2}{\\left({\\xi}_{1},g_{2},g_{3} \\right)}}{9} - \\frac{2 \\operatorname{pwp}{\\left({\\xi}_{1},g_{2},g_{3} \\right)} \\operatorname{pwp}{\\left({\\xi}_{2},g_{2},g_{3} \\right)}}{9} - \\frac{4 \\operatorname{pwp}{\\left({\\xi}_{1},g_{2},g_{3} \\right)} \\operatorname{zw}^{3}{\\left({\\xi}_{0},g_{2},g_{3} \\right)}}{9} - \\frac{4 \\operatorname{pwp}{\\left({\\xi}_{1},g_{2},g_{3} \\right)} \\operatorname{zw}^{2}{\\left({\\xi}_{0},g_{2},g_{3} \\right)} \\operatorname{zw}{\\left({\\xi}_{1},g_{2},g_{3} \\right)}}{3} - \\frac{4 \\operatorname{pwp}{\\left({\\xi}_{1},g_{2},g_{3} \\right)} \\operatorname{zw}^{2}{\\left({\\xi}_{0},g_{2},g_{3} \\right)} \\operatorname{zw}{\\left({\\xi}_{2},g_{2},g_{3} \\right)}}{3} - \\frac{4 \\operatorname{pwp}{\\left({\\xi}_{1},g_{2},g_{3} \\right)} \\operatorname{zw}{\\left({\\xi}_{0},g_{2},g_{3} \\right)} \\operatorname{zw}^{2}{\\left({\\xi}_{1},g_{2},g_{3} \\right)}}{3} - \\frac{8 \\operatorname{pwp}{\\left({\\xi}_{1},g_{2},g_{3} \\right)} \\operatorname{zw}{\\left({\\xi}_{0},g_{2},g_{3} \\right)} \\operatorname{zw}{\\left({\\xi}_{1},g_{2},g_{3} \\right)} \\operatorname{zw}{\\left({\\xi}_{2},g_{2},g_{3} \\right)}}{3} - \\frac{4 \\operatorname{pwp}{\\left({\\xi}_{1},g_{2},g_{3} \\right)} \\operatorname{zw}{\\left({\\xi}_{0},g_{2},g_{3} \\right)} \\operatorname{zw}^{2}{\\left({\\xi}_{2},g_{2},g_{3} \\right)}}{3} - \\frac{4 \\operatorname{pwp}{\\left({\\xi}_{1},g_{2},g_{3} \\right)} \\operatorname{zw}^{3}{\\left({\\xi}_{1},g_{2},g_{3} \\right)}}{9} - \\frac{4 \\operatorname{pwp}{\\left({\\xi}_{1},g_{2},g_{3} \\right)} \\operatorname{zw}^{2}{\\left({\\xi}_{1},g_{2},g_{3} \\right)} \\operatorname{zw}{\\left({\\xi}_{2},g_{2},g_{3} \\right)}}{3} - \\frac{4 \\operatorname{pwp}{\\left({\\xi}_{1},g_{2},g_{3} \\right)} \\operatorname{zw}{\\left({\\xi}_{1},g_{2},g_{3} \\right)} \\operatorname{zw}^{2}{\\left({\\xi}_{2},g_{2},g_{3} \\right)}}{3} - \\frac{4 \\operatorname{pwp}{\\left({\\xi}_{1},g_{2},g_{3} \\right)} \\operatorname{zw}^{3}{\\left({\\xi}_{2},g_{2},g_{3} \\right)}}{9} - \\frac{\\operatorname{pwp}^{2}{\\left({\\xi}_{2},g_{2},g_{3} \\right)}}{9} - \\frac{4 \\operatorname{pwp}{\\left({\\xi}_{2},g_{2},g_{3} \\right)} \\operatorname{zw}^{3}{\\left({\\xi}_{0},g_{2},g_{3} \\right)}}{9} - \\frac{4 \\operatorname{pwp}{\\left({\\xi}_{2},g_{2},g_{3} \\right)} \\operatorname{zw}^{2}{\\left({\\xi}_{0},g_{2},g_{3} \\right)} \\operatorname{zw}{\\left({\\xi}_{1},g_{2},g_{3} \\right)}}{3} - \\frac{4 \\operatorname{pwp}{\\left({\\xi}_{2},g_{2},g_{3} \\right)} \\operatorname{zw}^{2}{\\left({\\xi}_{0},g_{2},g_{3} \\right)} \\operatorname{zw}{\\left({\\xi}_{2},g_{2},g_{3} \\right)}}{3} - \\frac{4 \\operatorname{pwp}{\\left({\\xi}_{2},g_{2},g_{3} \\right)} \\operatorname{zw}{\\left({\\xi}_{0},g_{2},g_{3} \\right)} \\operatorname{zw}^{2}{\\left({\\xi}_{1},g_{2},g_{3} \\right)}}{3} - \\frac{8 \\operatorname{pwp}{\\left({\\xi}_{2},g_{2},g_{3} \\right)} \\operatorname{zw}{\\left({\\xi}_{0},g_{2},g_{3} \\right)} \\operatorname{zw}{\\left({\\xi}_{1},g_{2},g_{3} \\right)} \\operatorname{zw}{\\left({\\xi}_{2},g_{2},g_{3} \\right)}}{3} - \\frac{4 \\operatorname{pwp}{\\left({\\xi}_{2},g_{2},g_{3} \\right)} \\operatorname{zw}{\\left({\\xi}_{0},g_{2},g_{3} \\right)} \\operatorname{zw}^{2}{\\left({\\xi}_{2},g_{2},g_{3} \\right)}}{3} - \\frac{4 \\operatorname{pwp}{\\left({\\xi}_{2},g_{2},g_{3} \\right)} \\operatorname{zw}^{3}{\\left({\\xi}_{1},g_{2},g_{3} \\right)}}{9} - \\frac{4 \\operatorname{pwp}{\\left({\\xi}_{2},g_{2},g_{3} \\right)} \\operatorname{zw}^{2}{\\left({\\xi}_{1},g_{2},g_{3} \\right)} \\operatorname{zw}{\\left({\\xi}_{2},g_{2},g_{3} \\right)}}{3} - \\frac{4 \\operatorname{pwp}{\\left({\\xi}_{2},g_{2},g_{3} \\right)} \\operatorname{zw}{\\left({\\xi}_{1},g_{2},g_{3} \\right)} \\operatorname{zw}^{2}{\\left({\\xi}_{2},g_{2},g_{3} \\right)}}{3} - \\frac{4 \\operatorname{pwp}{\\left({\\xi}_{2},g_{2},g_{3} \\right)} \\operatorname{zw}^{3}{\\left({\\xi}_{2},g_{2},g_{3} \\right)}}{9} - \\frac{8 \\operatorname{zw}^{6}{\\left({\\xi}_{0},g_{2},g_{3} \\right)}}{27} - \\frac{16 \\operatorname{zw}^{5}{\\left({\\xi}_{0},g_{2},g_{3} \\right)} \\operatorname{zw}{\\left({\\xi}_{1},g_{2},g_{3} \\right)}}{9} - \\frac{16 \\operatorname{zw}^{5}{\\left({\\xi}_{0},g_{2},g_{3} \\right)} \\operatorname{zw}{\\left({\\xi}_{2},g_{2},g_{3} \\right)}}{9} - \\frac{40 \\operatorname{zw}^{4}{\\left({\\xi}_{0},g_{2},g_{3} \\right)} \\operatorname{zw}^{2}{\\left({\\xi}_{1},g_{2},g_{3} \\right)}}{9} - \\frac{80 \\operatorname{zw}^{4}{\\left({\\xi}_{0},g_{2},g_{3} \\right)} \\operatorname{zw}{\\left({\\xi}_{1},g_{2},g_{3} \\right)} \\operatorname{zw}{\\left({\\xi}_{2},g_{2},g_{3} \\right)}}{9} - \\frac{40 \\operatorname{zw}^{4}{\\left({\\xi}_{0},g_{2},g_{3} \\right)} \\operatorname{zw}^{2}{\\left({\\xi}_{2},g_{2},g_{3} \\right)}}{9} - \\frac{160 \\operatorname{zw}^{3}{\\left({\\xi}_{0},g_{2},g_{3} \\right)} \\operatorname{zw}^{3}{\\left({\\xi}_{1},g_{2},g_{3} \\right)}}{27} - \\frac{160 \\operatorname{zw}^{3}{\\left({\\xi}_{0},g_{2},g_{3} \\right)} \\operatorname{zw}^{2}{\\left({\\xi}_{1},g_{2},g_{3} \\right)} \\operatorname{zw}{\\left({\\xi}_{2},g_{2},g_{3} \\right)}}{9} - \\frac{160 \\operatorname{zw}^{3}{\\left({\\xi}_{0},g_{2},g_{3} \\right)} \\operatorname{zw}{\\left({\\xi}_{1},g_{2},g_{3} \\right)} \\operatorname{zw}^{2}{\\left({\\xi}_{2},g_{2},g_{3} \\right)}}{9} - \\frac{160 \\operatorname{zw}^{3}{\\left({\\xi}_{0},g_{2},g_{3} \\right)} \\operatorname{zw}^{3}{\\left({\\xi}_{2},g_{2},g_{3} \\right)}}{27} - \\frac{40 \\operatorname{zw}^{2}{\\left({\\xi}_{0},g_{2},g_{3} \\right)} \\operatorname{zw}^{4}{\\left({\\xi}_{1},g_{2},g_{3} \\right)}}{9} - \\frac{160 \\operatorname{zw}^{2}{\\left({\\xi}_{0},g_{2},g_{3} \\right)} \\operatorname{zw}^{3}{\\left({\\xi}_{1},g_{2},g_{3} \\right)} \\operatorname{zw}{\\left({\\xi}_{2},g_{2},g_{3} \\right)}}{9} - \\frac{80 \\operatorname{zw}^{2}{\\left({\\xi}_{0},g_{2},g_{3} \\right)} \\operatorname{zw}^{2}{\\left({\\xi}_{1},g_{2},g_{3} \\right)} \\operatorname{zw}^{2}{\\left({\\xi}_{2},g_{2},g_{3} \\right)}}{3} - \\frac{160 \\operatorname{zw}^{2}{\\left({\\xi}_{0},g_{2},g_{3} \\right)} \\operatorname{zw}{\\left({\\xi}_{1},g_{2},g_{3} \\right)} \\operatorname{zw}^{3}{\\left({\\xi}_{2},g_{2},g_{3} \\right)}}{9} - \\frac{40 \\operatorname{zw}^{2}{\\left({\\xi}_{0},g_{2},g_{3} \\right)} \\operatorname{zw}^{4}{\\left({\\xi}_{2},g_{2},g_{3} \\right)}}{9} - \\frac{16 \\operatorname{zw}{\\left({\\xi}_{0},g_{2},g_{3} \\right)} \\operatorname{zw}^{5}{\\left({\\xi}_{1},g_{2},g_{3} \\right)}}{9} - \\frac{80 \\operatorname{zw}{\\left({\\xi}_{0},g_{2},g_{3} \\right)} \\operatorname{zw}^{4}{\\left({\\xi}_{1},g_{2},g_{3} \\right)} \\operatorname{zw}{\\left({\\xi}_{2},g_{2},g_{3} \\right)}}{9} - \\frac{160 \\operatorname{zw}{\\left({\\xi}_{0},g_{2},g_{3} \\right)} \\operatorname{zw}^{3}{\\left({\\xi}_{1},g_{2},g_{3} \\right)} \\operatorname{zw}^{2}{\\left({\\xi}_{2},g_{2},g_{3} \\right)}}{9} - \\frac{160 \\operatorname{zw}{\\left({\\xi}_{0},g_{2},g_{3} \\right)} \\operatorname{zw}^{2}{\\left({\\xi}_{1},g_{2},g_{3} \\right)} \\operatorname{zw}^{3}{\\left({\\xi}_{2},g_{2},g_{3} \\right)}}{9} - \\frac{80 \\operatorname{zw}{\\left({\\xi}_{0},g_{2},g_{3} \\right)} \\operatorname{zw}{\\left({\\xi}_{1},g_{2},g_{3} \\right)} \\operatorname{zw}^{4}{\\left({\\xi}_{2},g_{2},g_{3} \\right)}}{9} - \\frac{16 \\operatorname{zw}{\\left({\\xi}_{0},g_{2},g_{3} \\right)} \\operatorname{zw}^{5}{\\left({\\xi}_{2},g_{2},g_{3} \\right)}}{9} - \\frac{8 \\operatorname{zw}^{6}{\\left({\\xi}_{1},g_{2},g_{3} \\right)}}{27} - \\frac{16 \\operatorname{zw}^{5}{\\left({\\xi}_{1},g_{2},g_{3} \\right)} \\operatorname{zw}{\\left({\\xi}_{2},g_{2},g_{3} \\right)}}{9} - \\frac{40 \\operatorname{zw}^{4}{\\left({\\xi}_{1},g_{2},g_{3} \\right)} \\operatorname{zw}^{2}{\\left({\\xi}_{2},g_{2},g_{3} \\right)}}{9} - \\frac{160 \\operatorname{zw}^{3}{\\left({\\xi}_{1},g_{2},g_{3} \\right)} \\operatorname{zw}^{3}{\\left({\\xi}_{2},g_{2},g_{3} \\right)}}{27} - \\frac{40 \\operatorname{zw}^{2}{\\left({\\xi}_{1},g_{2},g_{3} \\right)} \\operatorname{zw}^{4}{\\left({\\xi}_{2},g_{2},g_{3} \\right)}}{9} - \\frac{16 \\operatorname{zw}{\\left({\\xi}_{1},g_{2},g_{3} \\right)} \\operatorname{zw}^{5}{\\left({\\xi}_{2},g_{2},g_{3} \\right)}}{9} - \\frac{8 \\operatorname{zw}^{6}{\\left({\\xi}_{2},g_{2},g_{3} \\right)}}{27}$"
      ],
      "text/plain": [
       "Eq(g3, -8*pw(xi[0], g2, g3)**3/27 + 4*pw(xi[0], g2, g3)**2*pw(xi[1], g2, g3)/9 + 4*pw(xi[0], g2, g3)**2*pw(xi[2], g2, g3)/9 - 4*pw(xi[0], g2, g3)**2*zw(xi[0], g2, g3)**2/9 - 8*pw(xi[0], g2, g3)**2*zw(xi[0], g2, g3)*zw(xi[1], g2, g3)/9 - 8*pw(xi[0], g2, g3)**2*zw(xi[0], g2, g3)*zw(xi[2], g2, g3)/9 - 4*pw(xi[0], g2, g3)**2*zw(xi[1], g2, g3)**2/9 - 8*pw(xi[0], g2, g3)**2*zw(xi[1], g2, g3)*zw(xi[2], g2, g3)/9 - 4*pw(xi[0], g2, g3)**2*zw(xi[2], g2, g3)**2/9 + 4*pw(xi[0], g2, g3)*pw(xi[1], g2, g3)**2/9 - 16*pw(xi[0], g2, g3)*pw(xi[1], g2, g3)*pw(xi[2], g2, g3)/9 + 4*pw(xi[0], g2, g3)*pw(xi[1], g2, g3)*zw(xi[0], g2, g3)**2/9 + 8*pw(xi[0], g2, g3)*pw(xi[1], g2, g3)*zw(xi[0], g2, g3)*zw(xi[1], g2, g3)/9 + 8*pw(xi[0], g2, g3)*pw(xi[1], g2, g3)*zw(xi[0], g2, g3)*zw(xi[2], g2, g3)/9 + 4*pw(xi[0], g2, g3)*pw(xi[1], g2, g3)*zw(xi[1], g2, g3)**2/9 + 8*pw(xi[0], g2, g3)*pw(xi[1], g2, g3)*zw(xi[1], g2, g3)*zw(xi[2], g2, g3)/9 + 4*pw(xi[0], g2, g3)*pw(xi[1], g2, g3)*zw(xi[2], g2, g3)**2/9 + 4*pw(xi[0], g2, g3)*pw(xi[2], g2, g3)**2/9 + 4*pw(xi[0], g2, g3)*pw(xi[2], g2, g3)*zw(xi[0], g2, g3)**2/9 + 8*pw(xi[0], g2, g3)*pw(xi[2], g2, g3)*zw(xi[0], g2, g3)*zw(xi[1], g2, g3)/9 + 8*pw(xi[0], g2, g3)*pw(xi[2], g2, g3)*zw(xi[0], g2, g3)*zw(xi[2], g2, g3)/9 + 4*pw(xi[0], g2, g3)*pw(xi[2], g2, g3)*zw(xi[1], g2, g3)**2/9 + 8*pw(xi[0], g2, g3)*pw(xi[2], g2, g3)*zw(xi[1], g2, g3)*zw(xi[2], g2, g3)/9 + 4*pw(xi[0], g2, g3)*pw(xi[2], g2, g3)*zw(xi[2], g2, g3)**2/9 - 8*pw(xi[1], g2, g3)**3/27 + 4*pw(xi[1], g2, g3)**2*pw(xi[2], g2, g3)/9 - 4*pw(xi[1], g2, g3)**2*zw(xi[0], g2, g3)**2/9 - 8*pw(xi[1], g2, g3)**2*zw(xi[0], g2, g3)*zw(xi[1], g2, g3)/9 - 8*pw(xi[1], g2, g3)**2*zw(xi[0], g2, g3)*zw(xi[2], g2, g3)/9 - 4*pw(xi[1], g2, g3)**2*zw(xi[1], g2, g3)**2/9 - 8*pw(xi[1], g2, g3)**2*zw(xi[1], g2, g3)*zw(xi[2], g2, g3)/9 - 4*pw(xi[1], g2, g3)**2*zw(xi[2], g2, g3)**2/9 + 4*pw(xi[1], g2, g3)*pw(xi[2], g2, g3)**2/9 + 4*pw(xi[1], g2, g3)*pw(xi[2], g2, g3)*zw(xi[0], g2, g3)**2/9 + 8*pw(xi[1], g2, g3)*pw(xi[2], g2, g3)*zw(xi[0], g2, g3)*zw(xi[1], g2, g3)/9 + 8*pw(xi[1], g2, g3)*pw(xi[2], g2, g3)*zw(xi[0], g2, g3)*zw(xi[2], g2, g3)/9 + 4*pw(xi[1], g2, g3)*pw(xi[2], g2, g3)*zw(xi[1], g2, g3)**2/9 + 8*pw(xi[1], g2, g3)*pw(xi[2], g2, g3)*zw(xi[1], g2, g3)*zw(xi[2], g2, g3)/9 + 4*pw(xi[1], g2, g3)*pw(xi[2], g2, g3)*zw(xi[2], g2, g3)**2/9 - 8*pw(xi[2], g2, g3)**3/27 - 4*pw(xi[2], g2, g3)**2*zw(xi[0], g2, g3)**2/9 - 8*pw(xi[2], g2, g3)**2*zw(xi[0], g2, g3)*zw(xi[1], g2, g3)/9 - 8*pw(xi[2], g2, g3)**2*zw(xi[0], g2, g3)*zw(xi[2], g2, g3)/9 - 4*pw(xi[2], g2, g3)**2*zw(xi[1], g2, g3)**2/9 - 8*pw(xi[2], g2, g3)**2*zw(xi[1], g2, g3)*zw(xi[2], g2, g3)/9 - 4*pw(xi[2], g2, g3)**2*zw(xi[2], g2, g3)**2/9 - pwp(xi[0], g2, g3)**2/9 - 2*pwp(xi[0], g2, g3)*pwp(xi[1], g2, g3)/9 - 2*pwp(xi[0], g2, g3)*pwp(xi[2], g2, g3)/9 - 4*pwp(xi[0], g2, g3)*zw(xi[0], g2, g3)**3/9 - 4*pwp(xi[0], g2, g3)*zw(xi[0], g2, g3)**2*zw(xi[1], g2, g3)/3 - 4*pwp(xi[0], g2, g3)*zw(xi[0], g2, g3)**2*zw(xi[2], g2, g3)/3 - 4*pwp(xi[0], g2, g3)*zw(xi[0], g2, g3)*zw(xi[1], g2, g3)**2/3 - 8*pwp(xi[0], g2, g3)*zw(xi[0], g2, g3)*zw(xi[1], g2, g3)*zw(xi[2], g2, g3)/3 - 4*pwp(xi[0], g2, g3)*zw(xi[0], g2, g3)*zw(xi[2], g2, g3)**2/3 - 4*pwp(xi[0], g2, g3)*zw(xi[1], g2, g3)**3/9 - 4*pwp(xi[0], g2, g3)*zw(xi[1], g2, g3)**2*zw(xi[2], g2, g3)/3 - 4*pwp(xi[0], g2, g3)*zw(xi[1], g2, g3)*zw(xi[2], g2, g3)**2/3 - 4*pwp(xi[0], g2, g3)*zw(xi[2], g2, g3)**3/9 - pwp(xi[1], g2, g3)**2/9 - 2*pwp(xi[1], g2, g3)*pwp(xi[2], g2, g3)/9 - 4*pwp(xi[1], g2, g3)*zw(xi[0], g2, g3)**3/9 - 4*pwp(xi[1], g2, g3)*zw(xi[0], g2, g3)**2*zw(xi[1], g2, g3)/3 - 4*pwp(xi[1], g2, g3)*zw(xi[0], g2, g3)**2*zw(xi[2], g2, g3)/3 - 4*pwp(xi[1], g2, g3)*zw(xi[0], g2, g3)*zw(xi[1], g2, g3)**2/3 - 8*pwp(xi[1], g2, g3)*zw(xi[0], g2, g3)*zw(xi[1], g2, g3)*zw(xi[2], g2, g3)/3 - 4*pwp(xi[1], g2, g3)*zw(xi[0], g2, g3)*zw(xi[2], g2, g3)**2/3 - 4*pwp(xi[1], g2, g3)*zw(xi[1], g2, g3)**3/9 - 4*pwp(xi[1], g2, g3)*zw(xi[1], g2, g3)**2*zw(xi[2], g2, g3)/3 - 4*pwp(xi[1], g2, g3)*zw(xi[1], g2, g3)*zw(xi[2], g2, g3)**2/3 - 4*pwp(xi[1], g2, g3)*zw(xi[2], g2, g3)**3/9 - pwp(xi[2], g2, g3)**2/9 - 4*pwp(xi[2], g2, g3)*zw(xi[0], g2, g3)**3/9 - 4*pwp(xi[2], g2, g3)*zw(xi[0], g2, g3)**2*zw(xi[1], g2, g3)/3 - 4*pwp(xi[2], g2, g3)*zw(xi[0], g2, g3)**2*zw(xi[2], g2, g3)/3 - 4*pwp(xi[2], g2, g3)*zw(xi[0], g2, g3)*zw(xi[1], g2, g3)**2/3 - 8*pwp(xi[2], g2, g3)*zw(xi[0], g2, g3)*zw(xi[1], g2, g3)*zw(xi[2], g2, g3)/3 - 4*pwp(xi[2], g2, g3)*zw(xi[0], g2, g3)*zw(xi[2], g2, g3)**2/3 - 4*pwp(xi[2], g2, g3)*zw(xi[1], g2, g3)**3/9 - 4*pwp(xi[2], g2, g3)*zw(xi[1], g2, g3)**2*zw(xi[2], g2, g3)/3 - 4*pwp(xi[2], g2, g3)*zw(xi[1], g2, g3)*zw(xi[2], g2, g3)**2/3 - 4*pwp(xi[2], g2, g3)*zw(xi[2], g2, g3)**3/9 - 8*zw(xi[0], g2, g3)**6/27 - 16*zw(xi[0], g2, g3)**5*zw(xi[1], g2, g3)/9 - 16*zw(xi[0], g2, g3)**5*zw(xi[2], g2, g3)/9 - 40*zw(xi[0], g2, g3)**4*zw(xi[1], g2, g3)**2/9 - 80*zw(xi[0], g2, g3)**4*zw(xi[1], g2, g3)*zw(xi[2], g2, g3)/9 - 40*zw(xi[0], g2, g3)**4*zw(xi[2], g2, g3)**2/9 - 160*zw(xi[0], g2, g3)**3*zw(xi[1], g2, g3)**3/27 - 160*zw(xi[0], g2, g3)**3*zw(xi[1], g2, g3)**2*zw(xi[2], g2, g3)/9 - 160*zw(xi[0], g2, g3)**3*zw(xi[1], g2, g3)*zw(xi[2], g2, g3)**2/9 - 160*zw(xi[0], g2, g3)**3*zw(xi[2], g2, g3)**3/27 - 40*zw(xi[0], g2, g3)**2*zw(xi[1], g2, g3)**4/9 - 160*zw(xi[0], g2, g3)**2*zw(xi[1], g2, g3)**3*zw(xi[2], g2, g3)/9 - 80*zw(xi[0], g2, g3)**2*zw(xi[1], g2, g3)**2*zw(xi[2], g2, g3)**2/3 - 160*zw(xi[0], g2, g3)**2*zw(xi[1], g2, g3)*zw(xi[2], g2, g3)**3/9 - 40*zw(xi[0], g2, g3)**2*zw(xi[2], g2, g3)**4/9 - 16*zw(xi[0], g2, g3)*zw(xi[1], g2, g3)**5/9 - 80*zw(xi[0], g2, g3)*zw(xi[1], g2, g3)**4*zw(xi[2], g2, g3)/9 - 160*zw(xi[0], g2, g3)*zw(xi[1], g2, g3)**3*zw(xi[2], g2, g3)**2/9 - 160*zw(xi[0], g2, g3)*zw(xi[1], g2, g3)**2*zw(xi[2], g2, g3)**3/9 - 80*zw(xi[0], g2, g3)*zw(xi[1], g2, g3)*zw(xi[2], g2, g3)**4/9 - 16*zw(xi[0], g2, g3)*zw(xi[2], g2, g3)**5/9 - 8*zw(xi[1], g2, g3)**6/27 - 16*zw(xi[1], g2, g3)**5*zw(xi[2], g2, g3)/9 - 40*zw(xi[1], g2, g3)**4*zw(xi[2], g2, g3)**2/9 - 160*zw(xi[1], g2, g3)**3*zw(xi[2], g2, g3)**3/27 - 40*zw(xi[1], g2, g3)**2*zw(xi[2], g2, g3)**4/9 - 16*zw(xi[1], g2, g3)*zw(xi[2], g2, g3)**5/9 - 8*zw(xi[2], g2, g3)**6/27)"
      ]
     },
     "execution_count": 164,
     "metadata": {},
     "output_type": "execute_result"
    }
   ],
   "source": [
    "g3_W0.subs(p012_subs).subs([beta_zw.args, K_pwp.args]).doit().expand()"
   ]
  },
  {
   "cell_type": "code",
   "execution_count": 163,
   "id": "b1ce565a",
   "metadata": {},
   "outputs": [
    {
     "data": {
      "text/latex": [
       "$\\displaystyle g_{3} = 4 \\operatorname{pw}{\\left({\\xi}_{0},g_{2},g_{3} \\right)} \\operatorname{pw}{\\left({\\xi}_{1},g_{2},g_{3} \\right)} \\operatorname{pw}{\\left({\\xi}_{2},g_{2},g_{3} \\right)} - \\frac{\\operatorname{pwp}^{2}{\\left({\\xi}_{0},g_{2},g_{3} \\right)}}{9} - \\frac{2 \\operatorname{pwp}{\\left({\\xi}_{0},g_{2},g_{3} \\right)} \\operatorname{pwp}{\\left({\\xi}_{1},g_{2},g_{3} \\right)}}{9} - \\frac{2 \\operatorname{pwp}{\\left({\\xi}_{0},g_{2},g_{3} \\right)} \\operatorname{pwp}{\\left({\\xi}_{2},g_{2},g_{3} \\right)}}{9} - \\frac{4 \\operatorname{pwp}{\\left({\\xi}_{0},g_{2},g_{3} \\right)} \\operatorname{zw}^{3}{\\left({\\xi}_{0},g_{2},g_{3} \\right)}}{9} - \\frac{4 \\operatorname{pwp}{\\left({\\xi}_{0},g_{2},g_{3} \\right)} \\operatorname{zw}^{2}{\\left({\\xi}_{0},g_{2},g_{3} \\right)} \\operatorname{zw}{\\left({\\xi}_{1},g_{2},g_{3} \\right)}}{3} - \\frac{4 \\operatorname{pwp}{\\left({\\xi}_{0},g_{2},g_{3} \\right)} \\operatorname{zw}^{2}{\\left({\\xi}_{0},g_{2},g_{3} \\right)} \\operatorname{zw}{\\left({\\xi}_{2},g_{2},g_{3} \\right)}}{3} - \\frac{4 \\operatorname{pwp}{\\left({\\xi}_{0},g_{2},g_{3} \\right)} \\operatorname{zw}{\\left({\\xi}_{0},g_{2},g_{3} \\right)} \\operatorname{zw}^{2}{\\left({\\xi}_{1},g_{2},g_{3} \\right)}}{3} - \\frac{8 \\operatorname{pwp}{\\left({\\xi}_{0},g_{2},g_{3} \\right)} \\operatorname{zw}{\\left({\\xi}_{0},g_{2},g_{3} \\right)} \\operatorname{zw}{\\left({\\xi}_{1},g_{2},g_{3} \\right)} \\operatorname{zw}{\\left({\\xi}_{2},g_{2},g_{3} \\right)}}{3} - \\frac{4 \\operatorname{pwp}{\\left({\\xi}_{0},g_{2},g_{3} \\right)} \\operatorname{zw}{\\left({\\xi}_{0},g_{2},g_{3} \\right)} \\operatorname{zw}^{2}{\\left({\\xi}_{2},g_{2},g_{3} \\right)}}{3} - \\frac{4 \\operatorname{pwp}{\\left({\\xi}_{0},g_{2},g_{3} \\right)} \\operatorname{zw}^{3}{\\left({\\xi}_{1},g_{2},g_{3} \\right)}}{9} - \\frac{4 \\operatorname{pwp}{\\left({\\xi}_{0},g_{2},g_{3} \\right)} \\operatorname{zw}^{2}{\\left({\\xi}_{1},g_{2},g_{3} \\right)} \\operatorname{zw}{\\left({\\xi}_{2},g_{2},g_{3} \\right)}}{3} - \\frac{4 \\operatorname{pwp}{\\left({\\xi}_{0},g_{2},g_{3} \\right)} \\operatorname{zw}{\\left({\\xi}_{1},g_{2},g_{3} \\right)} \\operatorname{zw}^{2}{\\left({\\xi}_{2},g_{2},g_{3} \\right)}}{3} - \\frac{4 \\operatorname{pwp}{\\left({\\xi}_{0},g_{2},g_{3} \\right)} \\operatorname{zw}^{3}{\\left({\\xi}_{2},g_{2},g_{3} \\right)}}{9} - \\frac{\\operatorname{pwp}^{2}{\\left({\\xi}_{1},g_{2},g_{3} \\right)}}{9} - \\frac{2 \\operatorname{pwp}{\\left({\\xi}_{1},g_{2},g_{3} \\right)} \\operatorname{pwp}{\\left({\\xi}_{2},g_{2},g_{3} \\right)}}{9} - \\frac{4 \\operatorname{pwp}{\\left({\\xi}_{1},g_{2},g_{3} \\right)} \\operatorname{zw}^{3}{\\left({\\xi}_{0},g_{2},g_{3} \\right)}}{9} - \\frac{4 \\operatorname{pwp}{\\left({\\xi}_{1},g_{2},g_{3} \\right)} \\operatorname{zw}^{2}{\\left({\\xi}_{0},g_{2},g_{3} \\right)} \\operatorname{zw}{\\left({\\xi}_{1},g_{2},g_{3} \\right)}}{3} - \\frac{4 \\operatorname{pwp}{\\left({\\xi}_{1},g_{2},g_{3} \\right)} \\operatorname{zw}^{2}{\\left({\\xi}_{0},g_{2},g_{3} \\right)} \\operatorname{zw}{\\left({\\xi}_{2},g_{2},g_{3} \\right)}}{3} - \\frac{4 \\operatorname{pwp}{\\left({\\xi}_{1},g_{2},g_{3} \\right)} \\operatorname{zw}{\\left({\\xi}_{0},g_{2},g_{3} \\right)} \\operatorname{zw}^{2}{\\left({\\xi}_{1},g_{2},g_{3} \\right)}}{3} - \\frac{8 \\operatorname{pwp}{\\left({\\xi}_{1},g_{2},g_{3} \\right)} \\operatorname{zw}{\\left({\\xi}_{0},g_{2},g_{3} \\right)} \\operatorname{zw}{\\left({\\xi}_{1},g_{2},g_{3} \\right)} \\operatorname{zw}{\\left({\\xi}_{2},g_{2},g_{3} \\right)}}{3} - \\frac{4 \\operatorname{pwp}{\\left({\\xi}_{1},g_{2},g_{3} \\right)} \\operatorname{zw}{\\left({\\xi}_{0},g_{2},g_{3} \\right)} \\operatorname{zw}^{2}{\\left({\\xi}_{2},g_{2},g_{3} \\right)}}{3} - \\frac{4 \\operatorname{pwp}{\\left({\\xi}_{1},g_{2},g_{3} \\right)} \\operatorname{zw}^{3}{\\left({\\xi}_{1},g_{2},g_{3} \\right)}}{9} - \\frac{4 \\operatorname{pwp}{\\left({\\xi}_{1},g_{2},g_{3} \\right)} \\operatorname{zw}^{2}{\\left({\\xi}_{1},g_{2},g_{3} \\right)} \\operatorname{zw}{\\left({\\xi}_{2},g_{2},g_{3} \\right)}}{3} - \\frac{4 \\operatorname{pwp}{\\left({\\xi}_{1},g_{2},g_{3} \\right)} \\operatorname{zw}{\\left({\\xi}_{1},g_{2},g_{3} \\right)} \\operatorname{zw}^{2}{\\left({\\xi}_{2},g_{2},g_{3} \\right)}}{3} - \\frac{4 \\operatorname{pwp}{\\left({\\xi}_{1},g_{2},g_{3} \\right)} \\operatorname{zw}^{3}{\\left({\\xi}_{2},g_{2},g_{3} \\right)}}{9} - \\frac{\\operatorname{pwp}^{2}{\\left({\\xi}_{2},g_{2},g_{3} \\right)}}{9} - \\frac{4 \\operatorname{pwp}{\\left({\\xi}_{2},g_{2},g_{3} \\right)} \\operatorname{zw}^{3}{\\left({\\xi}_{0},g_{2},g_{3} \\right)}}{9} - \\frac{4 \\operatorname{pwp}{\\left({\\xi}_{2},g_{2},g_{3} \\right)} \\operatorname{zw}^{2}{\\left({\\xi}_{0},g_{2},g_{3} \\right)} \\operatorname{zw}{\\left({\\xi}_{1},g_{2},g_{3} \\right)}}{3} - \\frac{4 \\operatorname{pwp}{\\left({\\xi}_{2},g_{2},g_{3} \\right)} \\operatorname{zw}^{2}{\\left({\\xi}_{0},g_{2},g_{3} \\right)} \\operatorname{zw}{\\left({\\xi}_{2},g_{2},g_{3} \\right)}}{3} - \\frac{4 \\operatorname{pwp}{\\left({\\xi}_{2},g_{2},g_{3} \\right)} \\operatorname{zw}{\\left({\\xi}_{0},g_{2},g_{3} \\right)} \\operatorname{zw}^{2}{\\left({\\xi}_{1},g_{2},g_{3} \\right)}}{3} - \\frac{8 \\operatorname{pwp}{\\left({\\xi}_{2},g_{2},g_{3} \\right)} \\operatorname{zw}{\\left({\\xi}_{0},g_{2},g_{3} \\right)} \\operatorname{zw}{\\left({\\xi}_{1},g_{2},g_{3} \\right)} \\operatorname{zw}{\\left({\\xi}_{2},g_{2},g_{3} \\right)}}{3} - \\frac{4 \\operatorname{pwp}{\\left({\\xi}_{2},g_{2},g_{3} \\right)} \\operatorname{zw}{\\left({\\xi}_{0},g_{2},g_{3} \\right)} \\operatorname{zw}^{2}{\\left({\\xi}_{2},g_{2},g_{3} \\right)}}{3} - \\frac{4 \\operatorname{pwp}{\\left({\\xi}_{2},g_{2},g_{3} \\right)} \\operatorname{zw}^{3}{\\left({\\xi}_{1},g_{2},g_{3} \\right)}}{9} - \\frac{4 \\operatorname{pwp}{\\left({\\xi}_{2},g_{2},g_{3} \\right)} \\operatorname{zw}^{2}{\\left({\\xi}_{1},g_{2},g_{3} \\right)} \\operatorname{zw}{\\left({\\xi}_{2},g_{2},g_{3} \\right)}}{3} - \\frac{4 \\operatorname{pwp}{\\left({\\xi}_{2},g_{2},g_{3} \\right)} \\operatorname{zw}{\\left({\\xi}_{1},g_{2},g_{3} \\right)} \\operatorname{zw}^{2}{\\left({\\xi}_{2},g_{2},g_{3} \\right)}}{3} - \\frac{4 \\operatorname{pwp}{\\left({\\xi}_{2},g_{2},g_{3} \\right)} \\operatorname{zw}^{3}{\\left({\\xi}_{2},g_{2},g_{3} \\right)}}{9} - \\frac{4 \\operatorname{zw}^{6}{\\left({\\xi}_{0},g_{2},g_{3} \\right)}}{9} - \\frac{8 \\operatorname{zw}^{5}{\\left({\\xi}_{0},g_{2},g_{3} \\right)} \\operatorname{zw}{\\left({\\xi}_{1},g_{2},g_{3} \\right)}}{3} - \\frac{8 \\operatorname{zw}^{5}{\\left({\\xi}_{0},g_{2},g_{3} \\right)} \\operatorname{zw}{\\left({\\xi}_{2},g_{2},g_{3} \\right)}}{3} - \\frac{20 \\operatorname{zw}^{4}{\\left({\\xi}_{0},g_{2},g_{3} \\right)} \\operatorname{zw}^{2}{\\left({\\xi}_{1},g_{2},g_{3} \\right)}}{3} - \\frac{40 \\operatorname{zw}^{4}{\\left({\\xi}_{0},g_{2},g_{3} \\right)} \\operatorname{zw}{\\left({\\xi}_{1},g_{2},g_{3} \\right)} \\operatorname{zw}{\\left({\\xi}_{2},g_{2},g_{3} \\right)}}{3} - \\frac{20 \\operatorname{zw}^{4}{\\left({\\xi}_{0},g_{2},g_{3} \\right)} \\operatorname{zw}^{2}{\\left({\\xi}_{2},g_{2},g_{3} \\right)}}{3} - \\frac{80 \\operatorname{zw}^{3}{\\left({\\xi}_{0},g_{2},g_{3} \\right)} \\operatorname{zw}^{3}{\\left({\\xi}_{1},g_{2},g_{3} \\right)}}{9} - \\frac{80 \\operatorname{zw}^{3}{\\left({\\xi}_{0},g_{2},g_{3} \\right)} \\operatorname{zw}^{2}{\\left({\\xi}_{1},g_{2},g_{3} \\right)} \\operatorname{zw}{\\left({\\xi}_{2},g_{2},g_{3} \\right)}}{3} - \\frac{80 \\operatorname{zw}^{3}{\\left({\\xi}_{0},g_{2},g_{3} \\right)} \\operatorname{zw}{\\left({\\xi}_{1},g_{2},g_{3} \\right)} \\operatorname{zw}^{2}{\\left({\\xi}_{2},g_{2},g_{3} \\right)}}{3} - \\frac{80 \\operatorname{zw}^{3}{\\left({\\xi}_{0},g_{2},g_{3} \\right)} \\operatorname{zw}^{3}{\\left({\\xi}_{2},g_{2},g_{3} \\right)}}{9} - \\frac{20 \\operatorname{zw}^{2}{\\left({\\xi}_{0},g_{2},g_{3} \\right)} \\operatorname{zw}^{4}{\\left({\\xi}_{1},g_{2},g_{3} \\right)}}{3} - \\frac{80 \\operatorname{zw}^{2}{\\left({\\xi}_{0},g_{2},g_{3} \\right)} \\operatorname{zw}^{3}{\\left({\\xi}_{1},g_{2},g_{3} \\right)} \\operatorname{zw}{\\left({\\xi}_{2},g_{2},g_{3} \\right)}}{3} - 40 \\operatorname{zw}^{2}{\\left({\\xi}_{0},g_{2},g_{3} \\right)} \\operatorname{zw}^{2}{\\left({\\xi}_{1},g_{2},g_{3} \\right)} \\operatorname{zw}^{2}{\\left({\\xi}_{2},g_{2},g_{3} \\right)} - \\frac{80 \\operatorname{zw}^{2}{\\left({\\xi}_{0},g_{2},g_{3} \\right)} \\operatorname{zw}{\\left({\\xi}_{1},g_{2},g_{3} \\right)} \\operatorname{zw}^{3}{\\left({\\xi}_{2},g_{2},g_{3} \\right)}}{3} - \\frac{20 \\operatorname{zw}^{2}{\\left({\\xi}_{0},g_{2},g_{3} \\right)} \\operatorname{zw}^{4}{\\left({\\xi}_{2},g_{2},g_{3} \\right)}}{3} - \\frac{8 \\operatorname{zw}{\\left({\\xi}_{0},g_{2},g_{3} \\right)} \\operatorname{zw}^{5}{\\left({\\xi}_{1},g_{2},g_{3} \\right)}}{3} - \\frac{40 \\operatorname{zw}{\\left({\\xi}_{0},g_{2},g_{3} \\right)} \\operatorname{zw}^{4}{\\left({\\xi}_{1},g_{2},g_{3} \\right)} \\operatorname{zw}{\\left({\\xi}_{2},g_{2},g_{3} \\right)}}{3} - \\frac{80 \\operatorname{zw}{\\left({\\xi}_{0},g_{2},g_{3} \\right)} \\operatorname{zw}^{3}{\\left({\\xi}_{1},g_{2},g_{3} \\right)} \\operatorname{zw}^{2}{\\left({\\xi}_{2},g_{2},g_{3} \\right)}}{3} - \\frac{80 \\operatorname{zw}{\\left({\\xi}_{0},g_{2},g_{3} \\right)} \\operatorname{zw}^{2}{\\left({\\xi}_{1},g_{2},g_{3} \\right)} \\operatorname{zw}^{3}{\\left({\\xi}_{2},g_{2},g_{3} \\right)}}{3} - \\frac{40 \\operatorname{zw}{\\left({\\xi}_{0},g_{2},g_{3} \\right)} \\operatorname{zw}{\\left({\\xi}_{1},g_{2},g_{3} \\right)} \\operatorname{zw}^{4}{\\left({\\xi}_{2},g_{2},g_{3} \\right)}}{3} - \\frac{8 \\operatorname{zw}{\\left({\\xi}_{0},g_{2},g_{3} \\right)} \\operatorname{zw}^{5}{\\left({\\xi}_{2},g_{2},g_{3} \\right)}}{3} - \\frac{4 \\operatorname{zw}^{6}{\\left({\\xi}_{1},g_{2},g_{3} \\right)}}{9} - \\frac{8 \\operatorname{zw}^{5}{\\left({\\xi}_{1},g_{2},g_{3} \\right)} \\operatorname{zw}{\\left({\\xi}_{2},g_{2},g_{3} \\right)}}{3} - \\frac{20 \\operatorname{zw}^{4}{\\left({\\xi}_{1},g_{2},g_{3} \\right)} \\operatorname{zw}^{2}{\\left({\\xi}_{2},g_{2},g_{3} \\right)}}{3} - \\frac{80 \\operatorname{zw}^{3}{\\left({\\xi}_{1},g_{2},g_{3} \\right)} \\operatorname{zw}^{3}{\\left({\\xi}_{2},g_{2},g_{3} \\right)}}{9} - \\frac{20 \\operatorname{zw}^{2}{\\left({\\xi}_{1},g_{2},g_{3} \\right)} \\operatorname{zw}^{4}{\\left({\\xi}_{2},g_{2},g_{3} \\right)}}{3} - \\frac{8 \\operatorname{zw}{\\left({\\xi}_{1},g_{2},g_{3} \\right)} \\operatorname{zw}^{5}{\\left({\\xi}_{2},g_{2},g_{3} \\right)}}{3} - \\frac{4 \\operatorname{zw}^{6}{\\left({\\xi}_{2},g_{2},g_{3} \\right)}}{9}$"
      ],
      "text/plain": [
       "Eq(g3, 4*pw(xi[0], g2, g3)*pw(xi[1], g2, g3)*pw(xi[2], g2, g3) - pwp(xi[0], g2, g3)**2/9 - 2*pwp(xi[0], g2, g3)*pwp(xi[1], g2, g3)/9 - 2*pwp(xi[0], g2, g3)*pwp(xi[2], g2, g3)/9 - 4*pwp(xi[0], g2, g3)*zw(xi[0], g2, g3)**3/9 - 4*pwp(xi[0], g2, g3)*zw(xi[0], g2, g3)**2*zw(xi[1], g2, g3)/3 - 4*pwp(xi[0], g2, g3)*zw(xi[0], g2, g3)**2*zw(xi[2], g2, g3)/3 - 4*pwp(xi[0], g2, g3)*zw(xi[0], g2, g3)*zw(xi[1], g2, g3)**2/3 - 8*pwp(xi[0], g2, g3)*zw(xi[0], g2, g3)*zw(xi[1], g2, g3)*zw(xi[2], g2, g3)/3 - 4*pwp(xi[0], g2, g3)*zw(xi[0], g2, g3)*zw(xi[2], g2, g3)**2/3 - 4*pwp(xi[0], g2, g3)*zw(xi[1], g2, g3)**3/9 - 4*pwp(xi[0], g2, g3)*zw(xi[1], g2, g3)**2*zw(xi[2], g2, g3)/3 - 4*pwp(xi[0], g2, g3)*zw(xi[1], g2, g3)*zw(xi[2], g2, g3)**2/3 - 4*pwp(xi[0], g2, g3)*zw(xi[2], g2, g3)**3/9 - pwp(xi[1], g2, g3)**2/9 - 2*pwp(xi[1], g2, g3)*pwp(xi[2], g2, g3)/9 - 4*pwp(xi[1], g2, g3)*zw(xi[0], g2, g3)**3/9 - 4*pwp(xi[1], g2, g3)*zw(xi[0], g2, g3)**2*zw(xi[1], g2, g3)/3 - 4*pwp(xi[1], g2, g3)*zw(xi[0], g2, g3)**2*zw(xi[2], g2, g3)/3 - 4*pwp(xi[1], g2, g3)*zw(xi[0], g2, g3)*zw(xi[1], g2, g3)**2/3 - 8*pwp(xi[1], g2, g3)*zw(xi[0], g2, g3)*zw(xi[1], g2, g3)*zw(xi[2], g2, g3)/3 - 4*pwp(xi[1], g2, g3)*zw(xi[0], g2, g3)*zw(xi[2], g2, g3)**2/3 - 4*pwp(xi[1], g2, g3)*zw(xi[1], g2, g3)**3/9 - 4*pwp(xi[1], g2, g3)*zw(xi[1], g2, g3)**2*zw(xi[2], g2, g3)/3 - 4*pwp(xi[1], g2, g3)*zw(xi[1], g2, g3)*zw(xi[2], g2, g3)**2/3 - 4*pwp(xi[1], g2, g3)*zw(xi[2], g2, g3)**3/9 - pwp(xi[2], g2, g3)**2/9 - 4*pwp(xi[2], g2, g3)*zw(xi[0], g2, g3)**3/9 - 4*pwp(xi[2], g2, g3)*zw(xi[0], g2, g3)**2*zw(xi[1], g2, g3)/3 - 4*pwp(xi[2], g2, g3)*zw(xi[0], g2, g3)**2*zw(xi[2], g2, g3)/3 - 4*pwp(xi[2], g2, g3)*zw(xi[0], g2, g3)*zw(xi[1], g2, g3)**2/3 - 8*pwp(xi[2], g2, g3)*zw(xi[0], g2, g3)*zw(xi[1], g2, g3)*zw(xi[2], g2, g3)/3 - 4*pwp(xi[2], g2, g3)*zw(xi[0], g2, g3)*zw(xi[2], g2, g3)**2/3 - 4*pwp(xi[2], g2, g3)*zw(xi[1], g2, g3)**3/9 - 4*pwp(xi[2], g2, g3)*zw(xi[1], g2, g3)**2*zw(xi[2], g2, g3)/3 - 4*pwp(xi[2], g2, g3)*zw(xi[1], g2, g3)*zw(xi[2], g2, g3)**2/3 - 4*pwp(xi[2], g2, g3)*zw(xi[2], g2, g3)**3/9 - 4*zw(xi[0], g2, g3)**6/9 - 8*zw(xi[0], g2, g3)**5*zw(xi[1], g2, g3)/3 - 8*zw(xi[0], g2, g3)**5*zw(xi[2], g2, g3)/3 - 20*zw(xi[0], g2, g3)**4*zw(xi[1], g2, g3)**2/3 - 40*zw(xi[0], g2, g3)**4*zw(xi[1], g2, g3)*zw(xi[2], g2, g3)/3 - 20*zw(xi[0], g2, g3)**4*zw(xi[2], g2, g3)**2/3 - 80*zw(xi[0], g2, g3)**3*zw(xi[1], g2, g3)**3/9 - 80*zw(xi[0], g2, g3)**3*zw(xi[1], g2, g3)**2*zw(xi[2], g2, g3)/3 - 80*zw(xi[0], g2, g3)**3*zw(xi[1], g2, g3)*zw(xi[2], g2, g3)**2/3 - 80*zw(xi[0], g2, g3)**3*zw(xi[2], g2, g3)**3/9 - 20*zw(xi[0], g2, g3)**2*zw(xi[1], g2, g3)**4/3 - 80*zw(xi[0], g2, g3)**2*zw(xi[1], g2, g3)**3*zw(xi[2], g2, g3)/3 - 40*zw(xi[0], g2, g3)**2*zw(xi[1], g2, g3)**2*zw(xi[2], g2, g3)**2 - 80*zw(xi[0], g2, g3)**2*zw(xi[1], g2, g3)*zw(xi[2], g2, g3)**3/3 - 20*zw(xi[0], g2, g3)**2*zw(xi[2], g2, g3)**4/3 - 8*zw(xi[0], g2, g3)*zw(xi[1], g2, g3)**5/3 - 40*zw(xi[0], g2, g3)*zw(xi[1], g2, g3)**4*zw(xi[2], g2, g3)/3 - 80*zw(xi[0], g2, g3)*zw(xi[1], g2, g3)**3*zw(xi[2], g2, g3)**2/3 - 80*zw(xi[0], g2, g3)*zw(xi[1], g2, g3)**2*zw(xi[2], g2, g3)**3/3 - 40*zw(xi[0], g2, g3)*zw(xi[1], g2, g3)*zw(xi[2], g2, g3)**4/3 - 8*zw(xi[0], g2, g3)*zw(xi[2], g2, g3)**5/3 - 4*zw(xi[1], g2, g3)**6/9 - 8*zw(xi[1], g2, g3)**5*zw(xi[2], g2, g3)/3 - 20*zw(xi[1], g2, g3)**4*zw(xi[2], g2, g3)**2/3 - 80*zw(xi[1], g2, g3)**3*zw(xi[2], g2, g3)**3/9 - 20*zw(xi[1], g2, g3)**2*zw(xi[2], g2, g3)**4/3 - 8*zw(xi[1], g2, g3)*zw(xi[2], g2, g3)**5/3 - 4*zw(xi[2], g2, g3)**6/9)"
      ]
     },
     "execution_count": 163,
     "metadata": {},
     "output_type": "execute_result"
    }
   ],
   "source": [
    "g3_modes.doit().expand()"
   ]
  },
  {
   "cell_type": "code",
   "execution_count": null,
   "id": "c8d26582",
   "metadata": {},
   "outputs": [],
   "source": []
  }
 ],
 "metadata": {
  "kernelspec": {
   "display_name": "Python 3 (ipykernel)",
   "language": "python",
   "name": "python3"
  },
  "language_info": {
   "codemirror_mode": {
    "name": "ipython",
    "version": 3
   },
   "file_extension": ".py",
   "mimetype": "text/x-python",
   "name": "python",
   "nbconvert_exporter": "python",
   "pygments_lexer": "ipython3",
   "version": "3.11.6"
  }
 },
 "nbformat": 4,
 "nbformat_minor": 5
}
