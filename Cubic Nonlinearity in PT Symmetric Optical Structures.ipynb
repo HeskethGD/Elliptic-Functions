{
 "cells": [
  {
   "cell_type": "markdown",
   "id": "b6ee18f9-ef9e-46f3-99e3-efe50a0f3c62",
   "metadata": {},
   "source": [
    "# Cubic Nonlinearity in PT Symmetric Optical Structures\n",
    "\n",
    "https://arxiv.org/pdf/1005.5189.pdf"
   ]
  },
  {
   "cell_type": "code",
   "execution_count": 147,
   "id": "3bb8598c-4f12-4411-8fcc-8b62cbca9477",
   "metadata": {},
   "outputs": [],
   "source": [
    "from sympy import *\n",
    "(x, y, X, Y, Z, B, C, J, n, m, l, j, q, N, M, K, K1, K2, K3, k, epsilon, z, s, p1, p2, p3, g2, g3,\n",
    " z0, w1, w2, w3, e1, e2, e3, Delta, \n",
    " omega1, omega2, omega3, eta1, eta2, eta3, d1, d2, d3) = symbols(\n",
    "    '''x, y, X, Y, Z, B, C, J, n, m, l, j, q, N, M, K, K1, K2, K3, k, epsilon, z, s, p1, p2, p3, g2, g3,\n",
    "    z0, w1, w2, w3, e1, e2, e3, Delta, \n",
    "    omega1, omega2, omega3, eta1, eta2, eta3, d1, d2, d3'''\n",
    ")\n",
    "alpha, delta, t, nu, epsilon, theta = symbols('alpha, delta, t, nu, epsilon, theta')\n",
    "pw = Function('pw') # Weierstrass P function\n",
    "pwp = Function('pwp') # Derivative of Weierstrass P function\n",
    "zw = Function('zw') # Weierstrass Zeta function\n",
    "sigma = Function('sigma') # Weierstrass Sigma function\n",
    "rho = Function('rho')\n",
    "f = Function('f')\n",
    "h = Function('h')\n",
    "s = Function('s')\n",
    "u = Function('u')\n",
    "v = Function('v')\n",
    "P = Function('P') # Polynomial\n",
    "Q = Function('Q') # Polynomial\n",
    "R = Function('') # Polynomial\n",
    "phi = Function('phi')\n",
    "Phi = Function('Phi')\n",
    "phi1 = Function('phi1')\n",
    "phi2 = Function('phi2')\n",
    "phi3 = Function('phi3')\n",
    "A = Function('A')\n",
    "Ac = Function('Ac')\n",
    "A1 = Function('A1')\n",
    "A2 = Function('A2')\n",
    "A3 = Function('A3')\n",
    "A4 = Function('A4')\n",
    "Ac1 = Function('Ac1')\n",
    "Ac2 = Function('Ac2')\n",
    "Ac3 = Function('Ac3')\n",
    "Ac4 = Function('Ac4')\n",
    "B1 = Function('B1')\n",
    "B2 = Function('B2')\n",
    "Bc1 = Function('Bc1')\n",
    "Bc2 = Function('Bc2')\n",
    "W1 = Function('W1')\n",
    "W2 = Function('W2')\n",
    "W3 = Function('W3')\n",
    "W4 = Function('W4')\n",
    "W5 = Function('W5')\n",
    "W6 = Function('W6')\n",
    "Det = Function(\"Det\")\n",
    "\n",
    "kappa = IndexedBase('kappa')\n",
    "beta = IndexedBase('beta')\n",
    "mu = IndexedBase('mu')\n",
    "xi = IndexedBase('xi')\n",
    "a = IndexedBase('a')\n",
    "b = IndexedBase('b')\n",
    "c = IndexedBase('c')\n",
    "d = IndexedBase('d')\n",
    "p = IndexedBase('p')\n",
    "G = IndexedBase('G')\n",
    "psi = IndexedBase('psi')\n",
    "upsilon = IndexedBase('upsilon')\n",
    "WPdet = Function('WPdet')\n",
    "\n",
    "Omega = IndexedBase('Omega')\n",
    "T = Function('T')\n",
    "V = Function('V')\n",
    "Dz = Function('Dz') # Derivate w.r.t z\n",
    "L = Function('L')\n",
    "U = Function(\"U\")\n",
    "W = Function(\"W\")\n",
    "from math import prod\n",
    "\n",
    "from IPython.core.interactiveshell import InteractiveShell\n",
    "InteractiveShell.ast_node_interactivity = 'all'"
   ]
  },
  {
   "cell_type": "code",
   "execution_count": 115,
   "id": "8ef40fe6-94f8-479f-b171-0afb72895543",
   "metadata": {},
   "outputs": [],
   "source": [
    "funcs_ = [A1(z), Ac1(z), A2(z), Ac2(z)]"
   ]
  },
  {
   "cell_type": "code",
   "execution_count": 116,
   "id": "89056b73-fa86-4dd0-bf54-e64df64f3e07",
   "metadata": {},
   "outputs": [
    {
     "data": {
      "text/latex": [
       "$\\displaystyle \\frac{d}{d A_{1}{\\left(z \\right)}} L{\\left(A_{1}{\\left(z \\right)},\\operatorname{Ac}_{1}{\\left(z \\right)},A_{2}{\\left(z \\right)},\\operatorname{Ac}_{2}{\\left(z \\right)},\\frac{d}{d z} A_{1}{\\left(z \\right)},\\frac{d}{d z} \\operatorname{Ac}_{1}{\\left(z \\right)},\\frac{d}{d z} A_{2}{\\left(z \\right)},\\frac{d}{d z} \\operatorname{Ac}_{2}{\\left(z \\right)} \\right)} - \\frac{d^{2}}{d zd \\frac{d}{d z} A_{1}{\\left(z \\right)}} L{\\left(A_{1}{\\left(z \\right)},\\operatorname{Ac}_{1}{\\left(z \\right)},A_{2}{\\left(z \\right)},\\operatorname{Ac}_{2}{\\left(z \\right)},\\frac{d}{d z} A_{1}{\\left(z \\right)},\\frac{d}{d z} \\operatorname{Ac}_{1}{\\left(z \\right)},\\frac{d}{d z} A_{2}{\\left(z \\right)},\\frac{d}{d z} \\operatorname{Ac}_{2}{\\left(z \\right)} \\right)} = 0$"
      ],
      "text/plain": [
       "Eq(Derivative(L(A1(z), Ac1(z), A2(z), Ac2(z), Derivative(A1(z), z), Derivative(Ac1(z), z), Derivative(A2(z), z), Derivative(Ac2(z), z)), A1(z)) - Derivative(L(A1(z), Ac1(z), A2(z), Ac2(z), Derivative(A1(z), z), Derivative(Ac1(z), z), Derivative(A2(z), z), Derivative(Ac2(z), z)), Derivative(A1(z), z), z), 0)"
      ]
     },
     "execution_count": 116,
     "metadata": {},
     "output_type": "execute_result"
    },
    {
     "data": {
      "text/latex": [
       "$\\displaystyle \\frac{d}{d \\operatorname{Ac}_{1}{\\left(z \\right)}} L{\\left(A_{1}{\\left(z \\right)},\\operatorname{Ac}_{1}{\\left(z \\right)},A_{2}{\\left(z \\right)},\\operatorname{Ac}_{2}{\\left(z \\right)},\\frac{d}{d z} A_{1}{\\left(z \\right)},\\frac{d}{d z} \\operatorname{Ac}_{1}{\\left(z \\right)},\\frac{d}{d z} A_{2}{\\left(z \\right)},\\frac{d}{d z} \\operatorname{Ac}_{2}{\\left(z \\right)} \\right)} - \\frac{d^{2}}{d zd \\frac{d}{d z} \\operatorname{Ac}_{1}{\\left(z \\right)}} L{\\left(A_{1}{\\left(z \\right)},\\operatorname{Ac}_{1}{\\left(z \\right)},A_{2}{\\left(z \\right)},\\operatorname{Ac}_{2}{\\left(z \\right)},\\frac{d}{d z} A_{1}{\\left(z \\right)},\\frac{d}{d z} \\operatorname{Ac}_{1}{\\left(z \\right)},\\frac{d}{d z} A_{2}{\\left(z \\right)},\\frac{d}{d z} \\operatorname{Ac}_{2}{\\left(z \\right)} \\right)} = 0$"
      ],
      "text/plain": [
       "Eq(Derivative(L(A1(z), Ac1(z), A2(z), Ac2(z), Derivative(A1(z), z), Derivative(Ac1(z), z), Derivative(A2(z), z), Derivative(Ac2(z), z)), Ac1(z)) - Derivative(L(A1(z), Ac1(z), A2(z), Ac2(z), Derivative(A1(z), z), Derivative(Ac1(z), z), Derivative(A2(z), z), Derivative(Ac2(z), z)), Derivative(Ac1(z), z), z), 0)"
      ]
     },
     "execution_count": 116,
     "metadata": {},
     "output_type": "execute_result"
    },
    {
     "data": {
      "text/latex": [
       "$\\displaystyle \\frac{d}{d A_{2}{\\left(z \\right)}} L{\\left(A_{1}{\\left(z \\right)},\\operatorname{Ac}_{1}{\\left(z \\right)},A_{2}{\\left(z \\right)},\\operatorname{Ac}_{2}{\\left(z \\right)},\\frac{d}{d z} A_{1}{\\left(z \\right)},\\frac{d}{d z} \\operatorname{Ac}_{1}{\\left(z \\right)},\\frac{d}{d z} A_{2}{\\left(z \\right)},\\frac{d}{d z} \\operatorname{Ac}_{2}{\\left(z \\right)} \\right)} - \\frac{d^{2}}{d zd \\frac{d}{d z} A_{2}{\\left(z \\right)}} L{\\left(A_{1}{\\left(z \\right)},\\operatorname{Ac}_{1}{\\left(z \\right)},A_{2}{\\left(z \\right)},\\operatorname{Ac}_{2}{\\left(z \\right)},\\frac{d}{d z} A_{1}{\\left(z \\right)},\\frac{d}{d z} \\operatorname{Ac}_{1}{\\left(z \\right)},\\frac{d}{d z} A_{2}{\\left(z \\right)},\\frac{d}{d z} \\operatorname{Ac}_{2}{\\left(z \\right)} \\right)} = 0$"
      ],
      "text/plain": [
       "Eq(Derivative(L(A1(z), Ac1(z), A2(z), Ac2(z), Derivative(A1(z), z), Derivative(Ac1(z), z), Derivative(A2(z), z), Derivative(Ac2(z), z)), A2(z)) - Derivative(L(A1(z), Ac1(z), A2(z), Ac2(z), Derivative(A1(z), z), Derivative(Ac1(z), z), Derivative(A2(z), z), Derivative(Ac2(z), z)), Derivative(A2(z), z), z), 0)"
      ]
     },
     "execution_count": 116,
     "metadata": {},
     "output_type": "execute_result"
    },
    {
     "data": {
      "text/latex": [
       "$\\displaystyle \\frac{d}{d \\operatorname{Ac}_{2}{\\left(z \\right)}} L{\\left(A_{1}{\\left(z \\right)},\\operatorname{Ac}_{1}{\\left(z \\right)},A_{2}{\\left(z \\right)},\\operatorname{Ac}_{2}{\\left(z \\right)},\\frac{d}{d z} A_{1}{\\left(z \\right)},\\frac{d}{d z} \\operatorname{Ac}_{1}{\\left(z \\right)},\\frac{d}{d z} A_{2}{\\left(z \\right)},\\frac{d}{d z} \\operatorname{Ac}_{2}{\\left(z \\right)} \\right)} - \\frac{d^{2}}{d zd \\frac{d}{d z} \\operatorname{Ac}_{2}{\\left(z \\right)}} L{\\left(A_{1}{\\left(z \\right)},\\operatorname{Ac}_{1}{\\left(z \\right)},A_{2}{\\left(z \\right)},\\operatorname{Ac}_{2}{\\left(z \\right)},\\frac{d}{d z} A_{1}{\\left(z \\right)},\\frac{d}{d z} \\operatorname{Ac}_{1}{\\left(z \\right)},\\frac{d}{d z} A_{2}{\\left(z \\right)},\\frac{d}{d z} \\operatorname{Ac}_{2}{\\left(z \\right)} \\right)} = 0$"
      ],
      "text/plain": [
       "Eq(Derivative(L(A1(z), Ac1(z), A2(z), Ac2(z), Derivative(A1(z), z), Derivative(Ac1(z), z), Derivative(A2(z), z), Derivative(Ac2(z), z)), Ac2(z)) - Derivative(L(A1(z), Ac1(z), A2(z), Ac2(z), Derivative(A1(z), z), Derivative(Ac1(z), z), Derivative(A2(z), z), Derivative(Ac2(z), z)), Derivative(Ac2(z), z), z), 0)"
      ]
     },
     "execution_count": 116,
     "metadata": {},
     "output_type": "execute_result"
    }
   ],
   "source": [
    "L_ = L(*funcs_, *[diff(f,z) for f in funcs_])\n",
    "euler_lagrange_eqs = [Eq(Derivative(L_,f) - Derivative(Derivative(L_,Derivative(f,z)),z),0) for f in funcs_]\n",
    "for el in euler_lagrange_eqs:\n",
    "    el "
   ]
  },
  {
   "cell_type": "code",
   "execution_count": 117,
   "id": "8a0fa1a4-15f8-4624-85ca-f577c053975b",
   "metadata": {},
   "outputs": [],
   "source": [
    " termd = Derivative(Derivative(L_,Derivative(Ac1(z),z)),z)\n",
    " terma = Derivative(L_,Ac1(z))"
   ]
  },
  {
   "cell_type": "code",
   "execution_count": 118,
   "id": "c0df2de0-4724-43e2-96ab-37207abaff78",
   "metadata": {},
   "outputs": [
    {
     "data": {
      "text/latex": [
       "$\\displaystyle L{\\left(A_{1}{\\left(z \\right)},\\operatorname{Ac}_{1}{\\left(z \\right)},A_{2}{\\left(z \\right)},\\operatorname{Ac}_{2}{\\left(z \\right)},\\frac{d}{d z} A_{1}{\\left(z \\right)},\\frac{d}{d z} \\operatorname{Ac}_{1}{\\left(z \\right)},\\frac{d}{d z} A_{2}{\\left(z \\right)},\\frac{d}{d z} \\operatorname{Ac}_{2}{\\left(z \\right)} \\right)} = - \\alpha \\log{\\left(A_{1}{\\left(z \\right)} \\operatorname{Ac}_{1}{\\left(z \\right)} \\right)} + \\delta \\left(A_{1}{\\left(z \\right)} \\operatorname{Ac}_{1}{\\left(z \\right)} + A_{2}{\\left(z \\right)} \\operatorname{Ac}_{2}{\\left(z \\right)}\\right) - \\log{\\left(A_{2}{\\left(z \\right)} \\operatorname{Ac}_{2}{\\left(z \\right)} \\right)} \\beta + \\frac{\\log{\\left(A_{1}{\\left(z \\right)} \\right)} \\frac{d}{d z} \\log{\\left(\\operatorname{Ac}_{1}{\\left(z \\right)} \\right)}}{2} + \\frac{\\log{\\left(A_{2}{\\left(z \\right)} \\right)} \\frac{d}{d z} \\log{\\left(\\operatorname{Ac}_{2}{\\left(z \\right)} \\right)}}{2} - \\frac{\\log{\\left(\\operatorname{Ac}_{1}{\\left(z \\right)} \\right)} \\frac{d}{d z} \\log{\\left(A_{1}{\\left(z \\right)} \\right)}}{2} - \\frac{\\log{\\left(\\operatorname{Ac}_{2}{\\left(z \\right)} \\right)} \\frac{d}{d z} \\log{\\left(A_{2}{\\left(z \\right)} \\right)}}{2}$"
      ],
      "text/plain": [
       "Eq(L(A1(z), Ac1(z), A2(z), Ac2(z), Derivative(A1(z), z), Derivative(Ac1(z), z), Derivative(A2(z), z), Derivative(Ac2(z), z)), -alpha*log(A1(z)*Ac1(z)) + delta*(A1(z)*Ac1(z) + A2(z)*Ac2(z)) - log(A2(z)*Ac2(z))*beta + log(A1(z))*Derivative(log(Ac1(z)), z)/2 + log(A2(z))*Derivative(log(Ac2(z)), z)/2 - log(Ac1(z))*Derivative(log(A1(z)), z)/2 - log(Ac2(z))*Derivative(log(A2(z)), z)/2)"
      ]
     },
     "execution_count": 118,
     "metadata": {},
     "output_type": "execute_result"
    }
   ],
   "source": [
    "\n",
    "kinetic  = (ln(A1(z))*Derivative(ln(Ac1(z)),z)/2 - ln(Ac1(z))*Derivative(ln(A1(z)),z)/2 \n",
    "            + ln(A2(z))*Derivative(ln(Ac2(z)),z)/2 - ln(Ac2(z))*Derivative(ln(A2(z)),z)/2)\n",
    "\n",
    "\n",
    "# kinetic  = (a*((A1(z)*Derivative(Ac1(z),z)/2 - Ac1(z)*Derivative(A1(z),z)/2 \n",
    "#             + A2(z)*Derivative(Ac2(z),z)/2 - Ac2(z)*Derivative(A2(z),z)/2)) +\n",
    "#             0*b*(ln(A1(z))*Derivative(ln(Ac1(z)),z)/2 - ln(Ac1(z))*Derivative(ln(A1(z)),z)/2\n",
    "#                         + ln(A2(z))*Derivative(ln(Ac2(z)),z)/2 - ln(Ac2(z))*Derivative(ln(A2(z)),z)/2))\n",
    "potential = (\n",
    "    alpha*ln(A1(z)*Ac1(z)) + beta*ln(A2(z)*Ac2(z))\n",
    "    - delta*(A1(z)*Ac1(z) + A2(z)*Ac2(z))# + kappa*(A1(z)**2*A2(z)**2 + Ac1(z)**2*Ac2(z)**2)\n",
    "    + 0*epsilon*(ln(Ac1(z))*A2(z)/A1(z) + ln(A2(z))*A1(z)/Ac2(z) + ln(A1(z))*Ac2(z)/Ac1(z) + ln(A2(z))*Ac1(z)/Ac2(z))\n",
    "    # +f(*funcs_)\n",
    "    # +mu*(ln(A1(z)*Ac1(z))*A2(z)*Ac2(z) + ln(A2(z)*Ac2(z))*A1(z)*Ac1(z))\n",
    "               )\n",
    "# potential = kappa*(A1(z)*Ac1(z) + A2(z)*Ac2(z)) + I*beta*log(1 - A1(z)*Ac2(z)*kappa) - I*beta*log(1 - Ac1(z)*A2(z)*kappa) + alpha*ln(A1(z)*Ac1(z)) + alpha*ln(A2(z)*Ac2(z))\n",
    "# potential = kappa*(A1(z)*Ac1(z) + A2(z)*Ac2(z)) + I*beta*log(1 - A1(z)*Ac1(z)*kappa) - I*beta*log(1 - Ac2(z)*A2(z)*kappa)\n",
    "lagrangian = Eq(L_, kinetic - potential)\n",
    "lagrangian"
   ]
  },
  {
   "cell_type": "code",
   "execution_count": 58,
   "id": "b0dea36f-e087-4e4e-8378-96be8ad41920",
   "metadata": {},
   "outputs": [
    {
     "data": {
      "text/latex": [
       "$\\displaystyle \\frac{d}{d z} \\operatorname{Ac}_{1}{\\left(z \\right)} = \\alpha \\operatorname{Ac}_{1}{\\left(z \\right)} - \\delta A_{1}{\\left(z \\right)} \\operatorname{Ac}_{1}^{2}{\\left(z \\right)}$"
      ],
      "text/plain": [
       "Eq(Derivative(Ac1(z), z), alpha*Ac1(z) - delta*A1(z)*Ac1(z)**2)"
      ]
     },
     "execution_count": 58,
     "metadata": {},
     "output_type": "execute_result"
    },
    {
     "data": {
      "text/latex": [
       "$\\displaystyle \\frac{d}{d z} A_{1}{\\left(z \\right)} = - \\alpha A_{1}{\\left(z \\right)} + \\delta A_{1}^{2}{\\left(z \\right)} \\operatorname{Ac}_{1}{\\left(z \\right)}$"
      ],
      "text/plain": [
       "Eq(Derivative(A1(z), z), -alpha*A1(z) + delta*A1(z)**2*Ac1(z))"
      ]
     },
     "execution_count": 58,
     "metadata": {},
     "output_type": "execute_result"
    },
    {
     "data": {
      "text/latex": [
       "$\\displaystyle \\frac{d}{d z} \\operatorname{Ac}_{2}{\\left(z \\right)} = - \\delta A_{2}{\\left(z \\right)} \\operatorname{Ac}_{2}^{2}{\\left(z \\right)} + \\operatorname{Ac}_{2}{\\left(z \\right)} \\beta$"
      ],
      "text/plain": [
       "Eq(Derivative(Ac2(z), z), -delta*A2(z)*Ac2(z)**2 + Ac2(z)*beta)"
      ]
     },
     "execution_count": 58,
     "metadata": {},
     "output_type": "execute_result"
    },
    {
     "data": {
      "text/latex": [
       "$\\displaystyle \\frac{d}{d z} A_{2}{\\left(z \\right)} = \\delta A_{2}^{2}{\\left(z \\right)} \\operatorname{Ac}_{2}{\\left(z \\right)} - A_{2}{\\left(z \\right)} \\beta$"
      ],
      "text/plain": [
       "Eq(Derivative(A2(z), z), delta*A2(z)**2*Ac2(z) - A2(z)*beta)"
      ]
     },
     "execution_count": 58,
     "metadata": {},
     "output_type": "execute_result"
    }
   ],
   "source": [
    "dvs = [Eq(diff(f,z),solve(euler_lagrange_eqs[i].subs(*lagrangian.args).doit() , diff(f,z))[0]).expand() \n",
    "       for i,f in enumerate([Ac1(z), A1(z), Ac2(z), A2(z)])]\n",
    "for dv in dvs:\n",
    "    dv"
   ]
  },
  {
   "cell_type": "code",
   "execution_count": 119,
   "id": "81601e8d-4145-4e86-b05d-f0498eaa7302",
   "metadata": {},
   "outputs": [
    {
     "data": {
      "text/latex": [
       "$\\displaystyle A_{1}^{2}{\\left(z \\right)} \\operatorname{Ac}_{1}{\\left(z \\right)} \\kappa - i A_{1}{\\left(z \\right)} \\beta + A_{2}{\\left(z \\right)} + i \\frac{d}{d z} A_{1}{\\left(z \\right)} = 0$"
      ],
      "text/plain": [
       "Eq(A1(z)**2*Ac1(z)*kappa - I*A1(z)*beta + A2(z) + I*Derivative(A1(z), z), 0)"
      ]
     },
     "execution_count": 119,
     "metadata": {},
     "output_type": "execute_result"
    },
    {
     "data": {
      "text/latex": [
       "$\\displaystyle A_{1}{\\left(z \\right)} + A_{2}^{2}{\\left(z \\right)} \\operatorname{Ac}_{2}{\\left(z \\right)} \\kappa + i A_{2}{\\left(z \\right)} \\beta + i \\frac{d}{d z} A_{2}{\\left(z \\right)} = 0$"
      ],
      "text/plain": [
       "Eq(A1(z) + A2(z)**2*Ac2(z)*kappa + I*A2(z)*beta + I*Derivative(A2(z), z), 0)"
      ]
     },
     "execution_count": 119,
     "metadata": {},
     "output_type": "execute_result"
    },
    {
     "data": {
      "text/latex": [
       "$\\displaystyle A_{1}{\\left(z \\right)} \\operatorname{Ac}_{1}^{2}{\\left(z \\right)} \\kappa + i \\operatorname{Ac}_{1}{\\left(z \\right)} \\beta + \\operatorname{Ac}_{2}{\\left(z \\right)} - i \\frac{d}{d z} \\operatorname{Ac}_{1}{\\left(z \\right)} = 0$"
      ],
      "text/plain": [
       "Eq(A1(z)*Ac1(z)**2*kappa + I*Ac1(z)*beta + Ac2(z) - I*Derivative(Ac1(z), z), 0)"
      ]
     },
     "execution_count": 119,
     "metadata": {},
     "output_type": "execute_result"
    },
    {
     "data": {
      "text/latex": [
       "$\\displaystyle A_{2}{\\left(z \\right)} \\operatorname{Ac}_{2}^{2}{\\left(z \\right)} \\kappa + \\operatorname{Ac}_{1}{\\left(z \\right)} - i \\operatorname{Ac}_{2}{\\left(z \\right)} \\beta - i \\frac{d}{d z} \\operatorname{Ac}_{2}{\\left(z \\right)} = 0$"
      ],
      "text/plain": [
       "Eq(A2(z)*Ac2(z)**2*kappa + Ac1(z) - I*Ac2(z)*beta - I*Derivative(Ac2(z), z), 0)"
      ]
     },
     "execution_count": 119,
     "metadata": {},
     "output_type": "execute_result"
    }
   ],
   "source": [
    "eq1__ = Eq(I*diff(A1(z),z) + A2(z) - I*beta*A1(z) + kappa*A1(z)**2*Ac1(z),0)\n",
    "eq2__ = Eq(I*diff(A2(z),z) + A1(z) + I*beta*A2(z) + kappa*A2(z)**2*Ac2(z),0)\n",
    "eqc1__ = Eq(-I*diff(Ac1(z),z) + Ac2(z) + I*beta*Ac1(z) + kappa*Ac1(z)**2*A1(z),0)\n",
    "eqc2__ = Eq(-I*diff(Ac2(z),z) + Ac1(z) - I*beta*Ac2(z) + kappa*Ac2(z)**2*A2(z),0)\n",
    "eq1__\n",
    "eq2__\n",
    "eqc1__\n",
    "eqc2__"
   ]
  },
  {
   "cell_type": "code",
   "execution_count": 120,
   "id": "79fd9a5e-1e93-4cee-a884-f0f3e50431cd",
   "metadata": {},
   "outputs": [
    {
     "data": {
      "text/latex": [
       "$\\displaystyle \\frac{d}{d z} A_{1}{\\left(z \\right)} = i A_{1}^{2}{\\left(z \\right)} \\operatorname{Ac}_{1}{\\left(z \\right)} \\kappa + A_{1}{\\left(z \\right)} \\beta + i A_{2}{\\left(z \\right)}$"
      ],
      "text/plain": [
       "Eq(Derivative(A1(z), z), I*A1(z)**2*Ac1(z)*kappa + A1(z)*beta + I*A2(z))"
      ]
     },
     "execution_count": 120,
     "metadata": {},
     "output_type": "execute_result"
    },
    {
     "data": {
      "text/latex": [
       "$\\displaystyle \\frac{d}{d z} A_{2}{\\left(z \\right)} = i A_{1}{\\left(z \\right)} + i A_{2}^{2}{\\left(z \\right)} \\operatorname{Ac}_{2}{\\left(z \\right)} \\kappa - A_{2}{\\left(z \\right)} \\beta$"
      ],
      "text/plain": [
       "Eq(Derivative(A2(z), z), I*A1(z) + I*A2(z)**2*Ac2(z)*kappa - A2(z)*beta)"
      ]
     },
     "execution_count": 120,
     "metadata": {},
     "output_type": "execute_result"
    },
    {
     "data": {
      "text/latex": [
       "$\\displaystyle \\frac{d}{d z} \\operatorname{Ac}_{1}{\\left(z \\right)} = - i A_{1}{\\left(z \\right)} \\operatorname{Ac}_{1}^{2}{\\left(z \\right)} \\kappa + \\operatorname{Ac}_{1}{\\left(z \\right)} \\beta - i \\operatorname{Ac}_{2}{\\left(z \\right)}$"
      ],
      "text/plain": [
       "Eq(Derivative(Ac1(z), z), -I*A1(z)*Ac1(z)**2*kappa + Ac1(z)*beta - I*Ac2(z))"
      ]
     },
     "execution_count": 120,
     "metadata": {},
     "output_type": "execute_result"
    },
    {
     "data": {
      "text/latex": [
       "$\\displaystyle \\frac{d}{d z} \\operatorname{Ac}_{2}{\\left(z \\right)} = - i A_{2}{\\left(z \\right)} \\operatorname{Ac}_{2}^{2}{\\left(z \\right)} \\kappa - i \\operatorname{Ac}_{1}{\\left(z \\right)} - \\operatorname{Ac}_{2}{\\left(z \\right)} \\beta$"
      ],
      "text/plain": [
       "Eq(Derivative(Ac2(z), z), -I*A2(z)*Ac2(z)**2*kappa - I*Ac1(z) - Ac2(z)*beta)"
      ]
     },
     "execution_count": 120,
     "metadata": {},
     "output_type": "execute_result"
    }
   ],
   "source": [
    "eeq1 = Eq(diff(A1(z),z),solve(eq1__.lhs, diff(A1(z),z))[0])\n",
    "eeq2 = Eq(diff(A2(z),z),solve(eq2__.lhs, diff(A2(z),z))[0])\n",
    "eeqc1 = Eq(diff(Ac1(z),z),solve(eqc1__.lhs, diff(Ac1(z),z))[0])\n",
    "eeqc2 = Eq(diff(Ac2(z),z),solve(eqc2__.lhs, diff(Ac2(z),z))[0])\n",
    "eeq1\n",
    "eeq2\n",
    "eeqc1\n",
    "eeqc2"
   ]
  },
  {
   "cell_type": "code",
   "execution_count": 121,
   "id": "d25c4335-ef2d-49dd-83be-4de35c825f36",
   "metadata": {},
   "outputs": [
    {
     "data": {
      "text/latex": [
       "$\\displaystyle C^{2} = \\left(\\left(A_{1}{\\left(z \\right)} \\operatorname{Ac}_{2}{\\left(z \\right)} + A_{2}{\\left(z \\right)} \\operatorname{Ac}_{1}{\\left(z \\right)}\\right) \\kappa - 2\\right)^{2} - \\left(A_{1}{\\left(z \\right)} \\operatorname{Ac}_{2}{\\left(z \\right)} - A_{2}{\\left(z \\right)} \\operatorname{Ac}_{1}{\\left(z \\right)}\\right)^{2} \\kappa^{2}$"
      ],
      "text/plain": [
       "Eq(C**2, ((A1(z)*Ac2(z) + A2(z)*Ac1(z))*kappa - 2)**2 - (A1(z)*Ac2(z) - A2(z)*Ac1(z))**2*kappa**2)"
      ]
     },
     "execution_count": 121,
     "metadata": {},
     "output_type": "execute_result"
    }
   ],
   "source": [
    "Csqrd = Eq(C**2, (kappa*(A1(z)*Ac2(z) + A2(z)*Ac1(z)) -2)**2 + (kappa*I*(A1(z)*Ac2(z) - A2(z)*Ac1(z)))**2)\n",
    "Csqrd"
   ]
  },
  {
   "cell_type": "code",
   "execution_count": 122,
   "id": "30ef2ddd-bd51-4846-a28a-65abf1499026",
   "metadata": {},
   "outputs": [
    {
     "data": {
      "text/latex": [
       "$\\displaystyle 4 \\left(A_{1}{\\left(z \\right)} \\operatorname{Ac}_{2}{\\left(z \\right)} \\kappa - 1\\right) \\left(A_{2}{\\left(z \\right)} \\operatorname{Ac}_{1}{\\left(z \\right)} \\kappa - 1\\right)$"
      ],
      "text/plain": [
       "4*(A1(z)*Ac2(z)*kappa - 1)*(A2(z)*Ac1(z)*kappa - 1)"
      ]
     },
     "execution_count": 122,
     "metadata": {},
     "output_type": "execute_result"
    }
   ],
   "source": [
    "Csqrd.rhs.factor()"
   ]
  },
  {
   "cell_type": "code",
   "execution_count": 123,
   "id": "4628f381-5b46-484c-b7a6-d017d3556656",
   "metadata": {},
   "outputs": [
    {
     "data": {
      "text/latex": [
       "$\\displaystyle \\sqrt{1 - \\frac{\\left(\\left(A_{1}{\\left(z \\right)} \\operatorname{Ac}_{2}{\\left(z \\right)} + A_{2}{\\left(z \\right)} \\operatorname{Ac}_{1}{\\left(z \\right)}\\right) \\kappa - 2\\right)^{2}}{C^{2}}} = \\frac{i \\left(A_{1}{\\left(z \\right)} \\operatorname{Ac}_{2}{\\left(z \\right)} - A_{2}{\\left(z \\right)} \\operatorname{Ac}_{1}{\\left(z \\right)}\\right) \\kappa}{C}$"
      ],
      "text/plain": [
       "Eq(sqrt(1 - ((A1(z)*Ac2(z) + A2(z)*Ac1(z))*kappa - 2)**2/C**2), I*(A1(z)*Ac2(z) - A2(z)*Ac1(z))*kappa/C)"
      ]
     },
     "execution_count": 123,
     "metadata": {},
     "output_type": "execute_result"
    }
   ],
   "source": [
    "Csqrd2 = Eq(sqrt(1 - ((kappa*(A1(z)*Ac2(z) + A2(z)*Ac1(z)) -2)**2)/C**2),  ((kappa*I*(A1(z)*Ac2(z) - A2(z)*Ac1(z))))/C)\n",
    "Csqrd2"
   ]
  },
  {
   "cell_type": "code",
   "execution_count": 124,
   "id": "6f6df862-4e11-452a-8c4b-5ad1fcbdd370",
   "metadata": {},
   "outputs": [
    {
     "data": {
      "text/latex": [
       "$\\displaystyle J = A_{1}{\\left(z \\right)} \\operatorname{Ac}_{1}{\\left(z \\right)} + A_{2}{\\left(z \\right)} \\operatorname{Ac}_{2}{\\left(z \\right)} + \\frac{2 \\operatorname{asin}{\\left(\\frac{\\left(A_{1}{\\left(z \\right)} \\operatorname{Ac}_{2}{\\left(z \\right)} + A_{2}{\\left(z \\right)} \\operatorname{Ac}_{1}{\\left(z \\right)}\\right) \\kappa - 2}{C} \\right)} \\beta}{\\kappa}$"
      ],
      "text/plain": [
       "Eq(J, A1(z)*Ac1(z) + A2(z)*Ac2(z) + 2*asin(((A1(z)*Ac2(z) + A2(z)*Ac1(z))*kappa - 2)/C)*beta/kappa)"
      ]
     },
     "execution_count": 124,
     "metadata": {},
     "output_type": "execute_result"
    }
   ],
   "source": [
    "Jeq = Eq(J, A1(z)*Ac1(z)+A2(z)*Ac2(z) +2*beta/kappa*asin((kappa*(A1(z)*Ac2(z) + A2(z)*Ac1(z))-2)/C))\n",
    "Jeq"
   ]
  },
  {
   "cell_type": "code",
   "execution_count": 125,
   "id": "1c33e4a5-2447-4066-8844-3cb337814409",
   "metadata": {},
   "outputs": [
    {
     "data": {
      "text/latex": [
       "$\\displaystyle \\operatorname{asin}{\\left(x \\right)} = - i \\log{\\left(i x + \\sqrt{1 - x^{2}} \\right)}$"
      ],
      "text/plain": [
       "Eq(asin(x), -I*log(I*x + sqrt(1 - x**2)))"
      ]
     },
     "execution_count": 125,
     "metadata": {},
     "output_type": "execute_result"
    },
    {
     "data": {
      "text/latex": [
       "$\\displaystyle x \\leq 1$"
      ],
      "text/plain": [
       "x <= 1"
      ]
     },
     "execution_count": 125,
     "metadata": {},
     "output_type": "execute_result"
    },
    {
     "data": {
      "text/latex": [
       "$\\displaystyle x \\geq -1$"
      ],
      "text/plain": [
       "x >= -1"
      ]
     },
     "execution_count": 125,
     "metadata": {},
     "output_type": "execute_result"
    }
   ],
   "source": [
    "Eq(asin(x), -I*ln(I*x+sqrt(1-x**2)))\n",
    "x<=1\n",
    "-1<=x"
   ]
  },
  {
   "cell_type": "code",
   "execution_count": 126,
   "id": "6db771ed-40df-4a5a-bf1d-c53d477f3234",
   "metadata": {},
   "outputs": [
    {
     "data": {
      "text/latex": [
       "$\\displaystyle \\operatorname{asin}{\\left(\\frac{\\left(A_{1}{\\left(z \\right)} \\operatorname{Ac}_{2}{\\left(z \\right)} + A_{2}{\\left(z \\right)} \\operatorname{Ac}_{1}{\\left(z \\right)}\\right) \\kappa - 2}{C} \\right)} = - i \\log{\\left(\\frac{2 i \\left(A_{1}{\\left(z \\right)} \\operatorname{Ac}_{2}{\\left(z \\right)} \\kappa - 1\\right)}{C} \\right)}$"
      ],
      "text/plain": [
       "Eq(asin(((A1(z)*Ac2(z) + A2(z)*Ac1(z))*kappa - 2)/C), -I*log(2*I*(A1(z)*Ac2(z)*kappa - 1)/C))"
      ]
     },
     "execution_count": 126,
     "metadata": {},
     "output_type": "execute_result"
    }
   ],
   "source": [
    "asin_to_logs_A = Eq(asin(x), -I*ln(I*x+sqrt(1-x**2))).subs(x, (kappa*(A1(z)*Ac2(z) + A2(z)*Ac1(z))-2)/C).subs(*Csqrd2.args)\n",
    "asin_to_logs_A = Eq(asin_to_logs_A.lhs, asin_to_logs_A.rhs.simplify())\n",
    "asin_to_logs_A"
   ]
  },
  {
   "cell_type": "code",
   "execution_count": 127,
   "id": "df679615-fc53-4afb-9b78-3ac5fd9e9d2c",
   "metadata": {},
   "outputs": [
    {
     "data": {
      "text/latex": [
       "$\\displaystyle J = A_{1}{\\left(z \\right)} \\operatorname{Ac}_{1}{\\left(z \\right)} + A_{2}{\\left(z \\right)} \\operatorname{Ac}_{2}{\\left(z \\right)} - \\frac{2 i \\log{\\left(\\frac{2 i \\left(A_{1}{\\left(z \\right)} \\operatorname{Ac}_{2}{\\left(z \\right)} \\kappa - 1\\right)}{C} \\right)} \\beta}{\\kappa}$"
      ],
      "text/plain": [
       "Eq(J, A1(z)*Ac1(z) + A2(z)*Ac2(z) - 2*I*log(2*I*(A1(z)*Ac2(z)*kappa - 1)/C)*beta/kappa)"
      ]
     },
     "execution_count": 127,
     "metadata": {},
     "output_type": "execute_result"
    }
   ],
   "source": [
    "Jeq.subs(*asin_to_logs_A.args)"
   ]
  },
  {
   "cell_type": "code",
   "execution_count": 128,
   "id": "945d2cb5-5887-4dac-a69a-b5deda33ea82",
   "metadata": {},
   "outputs": [
    {
     "data": {
      "text/latex": [
       "$\\displaystyle K = \\left(A_{1}{\\left(z \\right)} \\operatorname{Ac}_{1}{\\left(z \\right)} + A_{2}{\\left(z \\right)} \\operatorname{Ac}_{2}{\\left(z \\right)}\\right) \\kappa + i \\log{\\left(- A_{1}{\\left(z \\right)} \\operatorname{Ac}_{2}{\\left(z \\right)} \\kappa + 1 \\right)} \\beta - i \\log{\\left(- A_{2}{\\left(z \\right)} \\operatorname{Ac}_{1}{\\left(z \\right)} \\kappa + 1 \\right)} \\beta$"
      ],
      "text/plain": [
       "Eq(K, (A1(z)*Ac1(z) + A2(z)*Ac2(z))*kappa + I*log(-A1(z)*Ac2(z)*kappa + 1)*beta - I*log(-A2(z)*Ac1(z)*kappa + 1)*beta)"
      ]
     },
     "execution_count": 128,
     "metadata": {},
     "output_type": "execute_result"
    },
    {
     "data": {
      "text/latex": [
       "$\\displaystyle K_{1} = \\left(A_{1}{\\left(z \\right)} \\operatorname{Ac}_{1}{\\left(z \\right)} + A_{2}{\\left(z \\right)} \\operatorname{Ac}_{2}{\\left(z \\right)}\\right) \\kappa + 2 i \\log{\\left(- A_{1}{\\left(z \\right)} \\operatorname{Ac}_{2}{\\left(z \\right)} \\kappa + 1 \\right)} \\beta$"
      ],
      "text/plain": [
       "Eq(K1, (A1(z)*Ac1(z) + A2(z)*Ac2(z))*kappa + 2*I*log(-A1(z)*Ac2(z)*kappa + 1)*beta)"
      ]
     },
     "execution_count": 128,
     "metadata": {},
     "output_type": "execute_result"
    },
    {
     "data": {
      "text/latex": [
       "$\\displaystyle K_{2} = \\left(A_{1}{\\left(z \\right)} \\operatorname{Ac}_{1}{\\left(z \\right)} + A_{2}{\\left(z \\right)} \\operatorname{Ac}_{2}{\\left(z \\right)}\\right) \\kappa - 2 i \\log{\\left(- A_{2}{\\left(z \\right)} \\operatorname{Ac}_{1}{\\left(z \\right)} \\kappa + 1 \\right)} \\beta$"
      ],
      "text/plain": [
       "Eq(K2, (A1(z)*Ac1(z) + A2(z)*Ac2(z))*kappa - 2*I*log(-A2(z)*Ac1(z)*kappa + 1)*beta)"
      ]
     },
     "execution_count": 128,
     "metadata": {},
     "output_type": "execute_result"
    },
    {
     "data": {
      "text/latex": [
       "$\\displaystyle K_{3} = \\left(- A_{1}{\\left(z \\right)} \\operatorname{Ac}_{2}{\\left(z \\right)} \\kappa + 1\\right) \\left(- A_{2}{\\left(z \\right)} \\operatorname{Ac}_{1}{\\left(z \\right)} \\kappa + 1\\right)$"
      ],
      "text/plain": [
       "Eq(K3, (-A1(z)*Ac2(z)*kappa + 1)*(-A2(z)*Ac1(z)*kappa + 1))"
      ]
     },
     "execution_count": 128,
     "metadata": {},
     "output_type": "execute_result"
    }
   ],
   "source": [
    "Keq = Eq(K, kappa*(A1(z)*Ac1(z) + A2(z)*Ac2(z)) + I*beta*log(1 - A1(z)*Ac2(z)*kappa) - I*beta*log(1 - Ac1(z)*A2(z)*kappa))\n",
    "K1eq = Eq(K1, kappa*(A1(z)*Ac1(z) + A2(z)*Ac2(z)) + 2*I*beta*log(1 - A1(z)*Ac2(z)*kappa))\n",
    "K2eq = Eq(K2, kappa*(A1(z)*Ac1(z) + A2(z)*Ac2(z)) - 2*I*beta*log(1 - Ac1(z)*A2(z)*kappa))\n",
    "K3eq = Eq(K3, (1 - kappa*A1(z)*Ac2(z))*(1 - kappa*Ac1(z)*A2(z)))\n",
    "Keq\n",
    "K1eq\n",
    "K2eq\n",
    "K3eq"
   ]
  },
  {
   "cell_type": "code",
   "execution_count": 129,
   "id": "1f390a01-4c3a-41ce-8073-2b8de31eb223",
   "metadata": {},
   "outputs": [
    {
     "data": {
      "text/latex": [
       "$\\displaystyle K_{3} = A_{1}{\\left(z \\right)} A_{2}{\\left(z \\right)} \\operatorname{Ac}_{1}{\\left(z \\right)} \\operatorname{Ac}_{2}{\\left(z \\right)} \\kappa^{2} - A_{1}{\\left(z \\right)} \\operatorname{Ac}_{2}{\\left(z \\right)} \\kappa - A_{2}{\\left(z \\right)} \\operatorname{Ac}_{1}{\\left(z \\right)} \\kappa + 1$"
      ],
      "text/plain": [
       "Eq(K3, A1(z)*A2(z)*Ac1(z)*Ac2(z)*kappa**2 - A1(z)*Ac2(z)*kappa - A2(z)*Ac1(z)*kappa + 1)"
      ]
     },
     "execution_count": 129,
     "metadata": {},
     "output_type": "execute_result"
    }
   ],
   "source": [
    "K3eq.expand()"
   ]
  },
  {
   "cell_type": "code",
   "execution_count": 130,
   "id": "cae0a6ee-965b-4302-a5ac-cac77ea227fd",
   "metadata": {},
   "outputs": [
    {
     "data": {
      "text/latex": [
       "$\\displaystyle 0$"
      ],
      "text/plain": [
       "0"
      ]
     },
     "execution_count": 130,
     "metadata": {},
     "output_type": "execute_result"
    }
   ],
   "source": [
    "diff(Csqrd.rhs,z).subs([dv.args for dv in [eeq1,eeq2,eeqc1,eeqc2]]).factor()"
   ]
  },
  {
   "cell_type": "code",
   "execution_count": 131,
   "id": "c5be16da-32e4-4875-bd47-a9777bf84ede",
   "metadata": {},
   "outputs": [
    {
     "data": {
      "text/latex": [
       "$\\displaystyle 0$"
      ],
      "text/plain": [
       "0"
      ]
     },
     "execution_count": 131,
     "metadata": {},
     "output_type": "execute_result"
    },
    {
     "data": {
      "text/latex": [
       "$\\displaystyle 0$"
      ],
      "text/plain": [
       "0"
      ]
     },
     "execution_count": 131,
     "metadata": {},
     "output_type": "execute_result"
    },
    {
     "data": {
      "text/latex": [
       "$\\displaystyle 0$"
      ],
      "text/plain": [
       "0"
      ]
     },
     "execution_count": 131,
     "metadata": {},
     "output_type": "execute_result"
    },
    {
     "data": {
      "text/latex": [
       "$\\displaystyle 0$"
      ],
      "text/plain": [
       "0"
      ]
     },
     "execution_count": 131,
     "metadata": {},
     "output_type": "execute_result"
    }
   ],
   "source": [
    "diff(Keq.rhs,z).subs([dv.args for dv in [eeq1,eeq2,eeqc1,eeqc2]]).factor()\n",
    "diff(K1eq.rhs,z).subs([dv.args for dv in [eeq1,eeq2,eeqc1,eeqc2]]).factor()\n",
    "diff(K2eq.rhs,z).subs([dv.args for dv in [eeq1,eeq2,eeqc1,eeqc2]]).factor()\n",
    "diff(K3eq.rhs,z).subs([dv.args for dv in [eeq1,eeq2,eeqc1,eeqc2]]).factor()"
   ]
  },
  {
   "cell_type": "code",
   "execution_count": 132,
   "id": "0944ce53-2ce5-4490-82b5-a3941fef3446",
   "metadata": {},
   "outputs": [
    {
     "data": {
      "text/latex": [
       "$\\displaystyle A_{2}{\\left(z \\right)} = \\frac{1 - A_{3}{\\left(z \\right)}}{\\operatorname{Ac}_{1}{\\left(z \\right)} \\kappa}$"
      ],
      "text/plain": [
       "Eq(A2(z), (1 - A3(z))/(Ac1(z)*kappa))"
      ]
     },
     "execution_count": 132,
     "metadata": {},
     "output_type": "execute_result"
    },
    {
     "data": {
      "text/latex": [
       "$\\displaystyle \\operatorname{Ac}_{2}{\\left(z \\right)} = \\frac{1 - \\operatorname{Ac}_{3}{\\left(z \\right)}}{A_{1}{\\left(z \\right)} \\kappa}$"
      ],
      "text/plain": [
       "Eq(Ac2(z), (1 - Ac3(z))/(A1(z)*kappa))"
      ]
     },
     "execution_count": 132,
     "metadata": {},
     "output_type": "execute_result"
    }
   ],
   "source": [
    "a2sub = Eq(A2(z), solve(A3(z) - (1 - kappa*Ac1(z)*A2(z)),A2(z))[0])\n",
    "ac2sub = Eq(Ac2(z), solve(Ac3(z) - (1 - kappa*A1(z)*Ac2(z)),Ac2(z))[0])\n",
    "a2sub\n",
    "ac2sub"
   ]
  },
  {
   "cell_type": "code",
   "execution_count": 135,
   "id": "66543e3e-2701-4d17-be89-0e4cdab1dcda",
   "metadata": {},
   "outputs": [
    {
     "data": {
      "text/latex": [
       "$\\displaystyle K_{3} = A_{3}{\\left(z \\right)} \\operatorname{Ac}_{3}{\\left(z \\right)}$"
      ],
      "text/plain": [
       "Eq(K3, A3(z)*Ac3(z))"
      ]
     },
     "execution_count": 135,
     "metadata": {},
     "output_type": "execute_result"
    }
   ],
   "source": [
    "K3eq.subs([a2sub.args, ac2sub.args])"
   ]
  },
  {
   "cell_type": "code",
   "execution_count": 142,
   "id": "ab3e65db-f7bd-486b-b378-4dee4421ec55",
   "metadata": {},
   "outputs": [
    {
     "data": {
      "text/latex": [
       "$\\displaystyle \\frac{d}{d z} A_{1}{\\left(z \\right)} = \\frac{i \\left(1 - A_{3}{\\left(z \\right)}\\right)}{\\operatorname{Ac}_{1}{\\left(z \\right)} \\kappa} + i A_{1}^{2}{\\left(z \\right)} \\operatorname{Ac}_{1}{\\left(z \\right)} \\kappa + A_{1}{\\left(z \\right)} \\beta$"
      ],
      "text/plain": [
       "Eq(Derivative(A1(z), z), I*(1 - A3(z))/(Ac1(z)*kappa) + I*A1(z)**2*Ac1(z)*kappa + A1(z)*beta)"
      ]
     },
     "execution_count": 142,
     "metadata": {},
     "output_type": "execute_result"
    },
    {
     "data": {
      "text/latex": [
       "$\\displaystyle \\frac{d}{d z} A_{3}{\\left(z \\right)} = - i A_{1}{\\left(z \\right)} A_{3}{\\left(z \\right)} \\operatorname{Ac}_{1}{\\left(z \\right)} \\kappa + \\frac{i A_{3}^{2}{\\left(z \\right)} \\operatorname{Ac}_{3}{\\left(z \\right)}}{A_{1}{\\left(z \\right)} \\operatorname{Ac}_{1}{\\left(z \\right)} \\kappa} - \\frac{i A_{3}^{2}{\\left(z \\right)}}{A_{1}{\\left(z \\right)} \\operatorname{Ac}_{1}{\\left(z \\right)} \\kappa} - \\frac{i A_{3}{\\left(z \\right)} \\operatorname{Ac}_{3}{\\left(z \\right)}}{A_{1}{\\left(z \\right)} \\operatorname{Ac}_{1}{\\left(z \\right)} \\kappa} + \\frac{i A_{3}{\\left(z \\right)}}{A_{1}{\\left(z \\right)} \\operatorname{Ac}_{1}{\\left(z \\right)} \\kappa}$"
      ],
      "text/plain": [
       "Eq(Derivative(A3(z), z), -I*A1(z)*A3(z)*Ac1(z)*kappa + I*A3(z)**2*Ac3(z)/(A1(z)*Ac1(z)*kappa) - I*A3(z)**2/(A1(z)*Ac1(z)*kappa) - I*A3(z)*Ac3(z)/(A1(z)*Ac1(z)*kappa) + I*A3(z)/(A1(z)*Ac1(z)*kappa))"
      ]
     },
     "execution_count": 142,
     "metadata": {},
     "output_type": "execute_result"
    },
    {
     "data": {
      "text/latex": [
       "$\\displaystyle \\frac{d}{d z} \\operatorname{Ac}_{1}{\\left(z \\right)} = - \\frac{i \\left(1 - \\operatorname{Ac}_{3}{\\left(z \\right)}\\right)}{A_{1}{\\left(z \\right)} \\kappa} - i A_{1}{\\left(z \\right)} \\operatorname{Ac}_{1}^{2}{\\left(z \\right)} \\kappa + \\operatorname{Ac}_{1}{\\left(z \\right)} \\beta$"
      ],
      "text/plain": [
       "Eq(Derivative(Ac1(z), z), -I*(1 - Ac3(z))/(A1(z)*kappa) - I*A1(z)*Ac1(z)**2*kappa + Ac1(z)*beta)"
      ]
     },
     "execution_count": 142,
     "metadata": {},
     "output_type": "execute_result"
    },
    {
     "data": {
      "text/latex": [
       "$\\displaystyle \\frac{d}{d z} \\operatorname{Ac}_{3}{\\left(z \\right)} = i A_{1}{\\left(z \\right)} \\operatorname{Ac}_{1}{\\left(z \\right)} \\operatorname{Ac}_{3}{\\left(z \\right)} \\kappa - \\frac{i A_{3}{\\left(z \\right)} \\operatorname{Ac}_{3}^{2}{\\left(z \\right)}}{A_{1}{\\left(z \\right)} \\operatorname{Ac}_{1}{\\left(z \\right)} \\kappa} + \\frac{i A_{3}{\\left(z \\right)} \\operatorname{Ac}_{3}{\\left(z \\right)}}{A_{1}{\\left(z \\right)} \\operatorname{Ac}_{1}{\\left(z \\right)} \\kappa} + \\frac{i \\operatorname{Ac}_{3}^{2}{\\left(z \\right)}}{A_{1}{\\left(z \\right)} \\operatorname{Ac}_{1}{\\left(z \\right)} \\kappa} - \\frac{i \\operatorname{Ac}_{3}{\\left(z \\right)}}{A_{1}{\\left(z \\right)} \\operatorname{Ac}_{1}{\\left(z \\right)} \\kappa}$"
      ],
      "text/plain": [
       "Eq(Derivative(Ac3(z), z), I*A1(z)*Ac1(z)*Ac3(z)*kappa - I*A3(z)*Ac3(z)**2/(A1(z)*Ac1(z)*kappa) + I*A3(z)*Ac3(z)/(A1(z)*Ac1(z)*kappa) + I*Ac3(z)**2/(A1(z)*Ac1(z)*kappa) - I*Ac3(z)/(A1(z)*Ac1(z)*kappa))"
      ]
     },
     "execution_count": 142,
     "metadata": {},
     "output_type": "execute_result"
    }
   ],
   "source": [
    "a1_new = eeq1.subs([a2sub.args, ac2sub.args])\n",
    "_xy01 = eeq2.subs([a2sub.args, ac2sub.args]).doit().subs(*eeqc1.subs([a2sub.args, ac2sub.args]).args)\n",
    "a3_new = Eq(diff(A3(z),z),solve(_xy01.lhs - _xy01.rhs,diff(A3(z),z) )[0]).expand()\n",
    "ac1_new = eeqc1.subs([a2sub.args, ac2sub.args])\n",
    "_xy01b = eeqc2.subs([a2sub.args, ac2sub.args]).doit().subs(*eeq1.subs([a2sub.args, ac2sub.args]).args)\n",
    "ac3_new = Eq(diff(Ac3(z),z),solve(_xy01b.lhs - _xy01b.rhs,diff(Ac3(z),z) )[0]).expand()\n",
    "a1_new\n",
    "a3_new\n",
    "ac1_new\n",
    "ac3_new"
   ]
  },
  {
   "cell_type": "code",
   "execution_count": 148,
   "id": "145eca00-886d-4df2-a133-38fab5880140",
   "metadata": {},
   "outputs": [
    {
     "data": {
      "text/latex": [
       "$\\displaystyle A_{4}{\\left(z \\right)} = A_{1}{\\left(z \\right)} \\operatorname{Ac}_{1}{\\left(z \\right)}$"
      ],
      "text/plain": [
       "Eq(A4(z), A1(z)*Ac1(z))"
      ]
     },
     "execution_count": 148,
     "metadata": {},
     "output_type": "execute_result"
    }
   ],
   "source": [
    "a4eq = Eq(A4(z), A1(z)*Ac1(z))\n",
    "a4eq"
   ]
  },
  {
   "cell_type": "code",
   "execution_count": 155,
   "id": "de572a35-5105-4079-893c-6f7d761a20e1",
   "metadata": {},
   "outputs": [
    {
     "data": {
      "text/latex": [
       "$\\displaystyle \\frac{d}{d z} A_{3}{\\left(z \\right)} = \\frac{i K_{3} A_{3}{\\left(z \\right)}}{A_{4}{\\left(z \\right)} \\kappa} - \\frac{i K_{3}}{A_{4}{\\left(z \\right)} \\kappa} - \\frac{i A_{3}^{2}{\\left(z \\right)}}{A_{4}{\\left(z \\right)} \\kappa} - i A_{3}{\\left(z \\right)} A_{4}{\\left(z \\right)} \\kappa + \\frac{i A_{3}{\\left(z \\right)}}{A_{4}{\\left(z \\right)} \\kappa}$"
      ],
      "text/plain": [
       "Eq(Derivative(A3(z), z), I*K3*A3(z)/(A4(z)*kappa) - I*K3/(A4(z)*kappa) - I*A3(z)**2/(A4(z)*kappa) - I*A3(z)*A4(z)*kappa + I*A3(z)/(A4(z)*kappa))"
      ]
     },
     "execution_count": 155,
     "metadata": {},
     "output_type": "execute_result"
    },
    {
     "data": {
      "text/latex": [
       "$\\displaystyle \\frac{d}{d z} A_{4}{\\left(z \\right)} = \\frac{i K_{3}}{A_{3}{\\left(z \\right)} \\kappa} - \\frac{i A_{3}{\\left(z \\right)}}{\\kappa} + 2 A_{4}{\\left(z \\right)} \\beta$"
      ],
      "text/plain": [
       "Eq(Derivative(A4(z), z), I*K3/(A3(z)*kappa) - I*A3(z)/kappa + 2*A4(z)*beta)"
      ]
     },
     "execution_count": 155,
     "metadata": {},
     "output_type": "execute_result"
    }
   ],
   "source": [
    "A3new = a3_new.subs(Ac1(z),A4(z)/A1(z)).subs(Ac3(z),K3/A3(z))\n",
    "A4new = Eq(Derivative(A1(z)*Ac1(z),z),\n",
    "   Derivative(A1(z)*Ac1(z),z).doit().subs([a1_new.args, ac1_new.args]).expand()).subs(Ac1(z),A4(z)/A1(z)).subs(Ac3(z),K3/A3(z))\n",
    "A3new\n",
    "A4new"
   ]
  },
  {
   "cell_type": "code",
   "execution_count": 167,
   "id": "f7efcb95-3dd3-4e93-96d8-d15d290516c0",
   "metadata": {},
   "outputs": [
    {
     "data": {
      "text/latex": [
       "$\\displaystyle \\frac{A_{3}^{p}{\\left(z \\right)} \\frac{d}{d z} A_{3}{\\left(z \\right)} p}{A_{3}{\\left(z \\right)}} = \\frac{i K_{3} A_{3}^{p}{\\left(z \\right)} p}{A_{4}{\\left(z \\right)} \\kappa} - \\frac{i K_{3} A_{3}^{p}{\\left(z \\right)} p}{A_{3}{\\left(z \\right)} A_{4}{\\left(z \\right)} \\kappa} - \\frac{i A_{3}{\\left(z \\right)} A_{3}^{p}{\\left(z \\right)} p}{A_{4}{\\left(z \\right)} \\kappa} - i A_{3}^{p}{\\left(z \\right)} A_{4}{\\left(z \\right)} \\kappa p + \\frac{i A_{3}^{p}{\\left(z \\right)} p}{A_{4}{\\left(z \\right)} \\kappa}$"
      ],
      "text/plain": [
       "Eq(A3(z)**p*Derivative(A3(z), z)*p/A3(z), I*K3*A3(z)**p*p/(A4(z)*kappa) - I*K3*A3(z)**p*p/(A3(z)*A4(z)*kappa) - I*A3(z)*A3(z)**p*p/(A4(z)*kappa) - I*A3(z)**p*A4(z)*kappa*p + I*A3(z)**p*p/(A4(z)*kappa))"
      ]
     },
     "execution_count": 167,
     "metadata": {},
     "output_type": "execute_result"
    },
    {
     "data": {
      "text/latex": [
       "$\\displaystyle \\frac{d}{d z} B_{2}{\\left(z \\right)} = - \\frac{i K_{3}}{A_{4}^{2}{\\left(z \\right)} \\kappa + 2 A_{4}{\\left(z \\right)} a \\kappa + a^{2} \\kappa} + \\frac{i K_{3} A_{3}{\\left(z \\right)}}{A_{4}^{2}{\\left(z \\right)} \\kappa + A_{4}{\\left(z \\right)} a \\kappa} - \\frac{i K_{3}}{A_{4}^{2}{\\left(z \\right)} \\kappa + A_{4}{\\left(z \\right)} a \\kappa} - \\frac{2 A_{3}{\\left(z \\right)} A_{4}{\\left(z \\right)} \\beta}{A_{4}^{2}{\\left(z \\right)} + 2 A_{4}{\\left(z \\right)} a + a^{2}} + \\frac{i A_{3}^{2}{\\left(z \\right)}}{A_{4}^{2}{\\left(z \\right)} \\kappa + 2 A_{4}{\\left(z \\right)} a \\kappa + a^{2} \\kappa} - \\frac{i A_{3}{\\left(z \\right)} A_{4}{\\left(z \\right)} \\kappa}{A_{4}{\\left(z \\right)} + a} - \\frac{i A_{3}^{2}{\\left(z \\right)}}{A_{4}^{2}{\\left(z \\right)} \\kappa + A_{4}{\\left(z \\right)} a \\kappa} + \\frac{i A_{3}{\\left(z \\right)}}{A_{4}^{2}{\\left(z \\right)} \\kappa + A_{4}{\\left(z \\right)} a \\kappa}$"
      ],
      "text/plain": [
       "Eq(Derivative(B2(z), z), -I*K3/(A4(z)**2*kappa + 2*A4(z)*a*kappa + a**2*kappa) + I*K3*A3(z)/(A4(z)**2*kappa + A4(z)*a*kappa) - I*K3/(A4(z)**2*kappa + A4(z)*a*kappa) - 2*A3(z)*A4(z)*beta/(A4(z)**2 + 2*A4(z)*a + a**2) + I*A3(z)**2/(A4(z)**2*kappa + 2*A4(z)*a*kappa + a**2*kappa) - I*A3(z)*A4(z)*kappa/(A4(z) + a) - I*A3(z)**2/(A4(z)**2*kappa + A4(z)*a*kappa) + I*A3(z)/(A4(z)**2*kappa + A4(z)*a*kappa))"
      ]
     },
     "execution_count": 167,
     "metadata": {},
     "output_type": "execute_result"
    }
   ],
   "source": [
    "B1new = Eq(diff(A3(z)**p,z), diff(A3(z)**p,z).subs([A3new.args, A4new.args]).expand())\n",
    "B2new = Eq(Derivative(B2(z),z), diff(A3(z)/(A4(z)+a),z).subs([A3new.args, A4new.args]).expand())\n",
    "B1new\n",
    "B2new"
   ]
  },
  {
   "cell_type": "code",
   "execution_count": 163,
   "id": "1d8cbb22-11cc-4105-9fc5-60489f21ec4f",
   "metadata": {},
   "outputs": [
    {
     "data": {
      "text/latex": [
       "$\\displaystyle - \\frac{A_{3}{\\left(z \\right)} \\frac{d}{d z} A_{4}{\\left(z \\right)} - A_{4}{\\left(z \\right)} \\frac{d}{d z} A_{3}{\\left(z \\right)}}{A_{4}^{2}{\\left(z \\right)}}$"
      ],
      "text/plain": [
       "-(A3(z)*Derivative(A4(z), z) - A4(z)*Derivative(A3(z), z))/A4(z)**2"
      ]
     },
     "execution_count": 163,
     "metadata": {},
     "output_type": "execute_result"
    }
   ],
   "source": [
    "diff(A3(z)/A4(z),z).factor()"
   ]
  },
  {
   "cell_type": "code",
   "execution_count": 91,
   "id": "7e5fde85-d310-4979-b6e0-549c6751caa8",
   "metadata": {},
   "outputs": [
    {
     "data": {
      "text/latex": [
       "$\\displaystyle A_{1}{\\left(z \\right)} \\operatorname{Ac}_{1}{\\left(z \\right)} = \\frac{K_{1} - A_{2}{\\left(z \\right)} \\operatorname{Ac}_{2}{\\left(z \\right)} \\kappa - 2 i \\log{\\left(- A_{1}{\\left(z \\right)} \\operatorname{Ac}_{2}{\\left(z \\right)} \\kappa + 1 \\right)} \\beta}{\\kappa}$"
      ],
      "text/plain": [
       "Eq(A1(z)*Ac1(z), (K1 - A2(z)*Ac2(z)*kappa - 2*I*log(-A1(z)*Ac2(z)*kappa + 1)*beta)/kappa)"
      ]
     },
     "execution_count": 91,
     "metadata": {},
     "output_type": "execute_result"
    }
   ],
   "source": [
    "aa1 = Eq(Ac1(z)*A1(z), solve(K1eq, Ac1(z)*A1(z))[0])\n",
    "aa1"
   ]
  },
  {
   "cell_type": "code",
   "execution_count": 92,
   "id": "1e903d27-6c8f-4f0d-a457-791f74b5354a",
   "metadata": {},
   "outputs": [
    {
     "data": {
      "text/latex": [
       "$\\displaystyle \\frac{d}{d z} A_{1}{\\left(z \\right)} \\operatorname{Ac}_{2}{\\left(z \\right)} = i \\left(A_{1}{\\left(z \\right)} \\operatorname{Ac}_{1}{\\left(z \\right)} - A_{2}{\\left(z \\right)} \\operatorname{Ac}_{2}{\\left(z \\right)}\\right) \\left(A_{1}{\\left(z \\right)} \\operatorname{Ac}_{2}{\\left(z \\right)} \\kappa - 1\\right)$"
      ],
      "text/plain": [
       "Eq(Derivative(A1(z)*Ac2(z), z), I*(A1(z)*Ac1(z) - A2(z)*Ac2(z))*(A1(z)*Ac2(z)*kappa - 1))"
      ]
     },
     "execution_count": 92,
     "metadata": {},
     "output_type": "execute_result"
    }
   ],
   "source": [
    "da1_ac2 = Eq(Derivative(A1(z)*Ac2(z),z), diff(A1(z)*Ac2(z),z).subs([dv.args for dv in [eeq1,eeq2,eeqc1,eeqc2]]).factor())\n",
    "da1_ac2"
   ]
  },
  {
   "cell_type": "code",
   "execution_count": 99,
   "id": "b452ac68-862c-452f-a9d6-1b0e4a31ec96",
   "metadata": {},
   "outputs": [
    {
     "data": {
      "text/latex": [
       "$\\displaystyle \\frac{d}{d z} A_{1}{\\left(z \\right)} \\operatorname{Ac}_{1}{\\left(z \\right)} = 2 A_{1}{\\left(z \\right)} \\operatorname{Ac}_{1}{\\left(z \\right)} \\beta - i A_{1}{\\left(z \\right)} \\operatorname{Ac}_{2}{\\left(z \\right)} + i A_{2}{\\left(z \\right)} \\operatorname{Ac}_{1}{\\left(z \\right)}$"
      ],
      "text/plain": [
       "Eq(Derivative(A1(z)*Ac1(z), z), 2*A1(z)*Ac1(z)*beta - I*A1(z)*Ac2(z) + I*A2(z)*Ac1(z))"
      ]
     },
     "execution_count": 99,
     "metadata": {},
     "output_type": "execute_result"
    }
   ],
   "source": [
    "da1_ac1 = Eq(Derivative(A1(z)*Ac1(z),z), diff(A1(z)*Ac1(z),z).subs([dv.args for dv in [eeq1,eeq2,eeqc1,eeqc2]]).expand())\n",
    "da1_ac1"
   ]
  },
  {
   "cell_type": "code",
   "execution_count": 98,
   "id": "6326fc63-d0ce-4e3f-8659-7dc520ec0eed",
   "metadata": {},
   "outputs": [
    {
     "data": {
      "text/latex": [
       "$\\displaystyle \\frac{d}{d z} \\frac{A_{1}{\\left(z \\right)}}{\\operatorname{Ac}_{2}{\\left(z \\right)}} = \\frac{i A_{1}^{2}{\\left(z \\right)} \\operatorname{Ac}_{1}{\\left(z \\right)} \\kappa}{\\operatorname{Ac}_{2}{\\left(z \\right)}} + i A_{1}{\\left(z \\right)} A_{2}{\\left(z \\right)} \\kappa + \\frac{i A_{1}{\\left(z \\right)} \\operatorname{Ac}_{1}{\\left(z \\right)}}{\\operatorname{Ac}_{2}^{2}{\\left(z \\right)}} + \\frac{2 A_{1}{\\left(z \\right)} \\beta}{\\operatorname{Ac}_{2}{\\left(z \\right)}} + \\frac{i A_{2}{\\left(z \\right)}}{\\operatorname{Ac}_{2}{\\left(z \\right)}}$"
      ],
      "text/plain": [
       "Eq(Derivative(A1(z)/Ac2(z), z), I*A1(z)**2*Ac1(z)*kappa/Ac2(z) + I*A1(z)*A2(z)*kappa + I*A1(z)*Ac1(z)/Ac2(z)**2 + 2*A1(z)*beta/Ac2(z) + I*A2(z)/Ac2(z))"
      ]
     },
     "execution_count": 98,
     "metadata": {},
     "output_type": "execute_result"
    }
   ],
   "source": [
    "da1_over_ac2 = Eq(Derivative(A1(z)/Ac2(z),z), diff(A1(z)/Ac2(z),z).subs([dv.args for dv in [eeq1,eeq2,eeqc1,eeqc2]]).expand())\n",
    "da1_over_ac2"
   ]
  },
  {
   "cell_type": "code",
   "execution_count": 96,
   "id": "5c9b74bf-7ffb-409d-81b2-8fa0920e986d",
   "metadata": {},
   "outputs": [
    {
     "data": {
      "text/latex": [
       "$\\displaystyle \\frac{d}{d z} A_{1}{\\left(z \\right)} \\operatorname{Ac}_{2}{\\left(z \\right)} = - \\frac{i \\left(A_{1}{\\left(z \\right)} \\operatorname{Ac}_{2}{\\left(z \\right)} \\kappa - 1\\right) \\left(- K_{1} + 2 A_{2}{\\left(z \\right)} \\operatorname{Ac}_{2}{\\left(z \\right)} \\kappa + 2 i \\log{\\left(- A_{1}{\\left(z \\right)} \\operatorname{Ac}_{2}{\\left(z \\right)} \\kappa + 1 \\right)} \\beta\\right)}{\\kappa}$"
      ],
      "text/plain": [
       "Eq(Derivative(A1(z)*Ac2(z), z), -I*(A1(z)*Ac2(z)*kappa - 1)*(-K1 + 2*A2(z)*Ac2(z)*kappa + 2*I*log(-A1(z)*Ac2(z)*kappa + 1)*beta)/kappa)"
      ]
     },
     "execution_count": 96,
     "metadata": {},
     "output_type": "execute_result"
    }
   ],
   "source": [
    "da1_ac2__ = da1_ac2.subs(*aa1.args)\n",
    "da1_ac2__ = Eq(da1_ac2__.lhs, da1_ac2__.rhs.expand().factor())\n",
    "da1_ac2__"
   ]
  },
  {
   "cell_type": "code",
   "execution_count": 218,
   "id": "d6c9a65c-efe5-4229-8760-0499069e7e21",
   "metadata": {},
   "outputs": [
    {
     "data": {
      "text/latex": [
       "$\\displaystyle \\left[\\begin{matrix}\\operatorname{Ac}_{1}{\\left(z \\right)} & \\operatorname{Ac}_{2}{\\left(z \\right)}\\end{matrix}\\right]$"
      ],
      "text/plain": [
       "Matrix([[Ac1(z), Ac2(z)]])"
      ]
     },
     "execution_count": 218,
     "metadata": {},
     "output_type": "execute_result"
    }
   ],
   "source": [
    "Avec = Matrix([A1(z),A2(z)])\n",
    "AvecT = Matrix([Ac1(z),Ac2(z)]).T\n",
    "Bvec = Matrix([B1(z),B2(z)])\n",
    "BvecT = Matrix([Bc1(z),Bc2(z)]).T\n",
    "AvecT"
   ]
  },
  {
   "cell_type": "code",
   "execution_count": 206,
   "id": "6c0bac44-496f-4e03-98fb-5993b31a13b0",
   "metadata": {},
   "outputs": [],
   "source": [
    "M = Matrix([[-I*beta, 1], [I*beta, 1]])\n",
    "P, D = M.diagonalize()\n",
    "# Avec = P*Bvec\n",
    "# AvecT = BvecT*P**-1"
   ]
  },
  {
   "cell_type": "code",
   "execution_count": 247,
   "id": "93a52d24-2e72-463a-ada1-eb21d2c98881",
   "metadata": {},
   "outputs": [],
   "source": [
    "spin0 = Matrix([[1, 0], [0, 1]])\n",
    "spin1 = Matrix([[0, 1], [1, 0]])\n",
    "spin2 = Matrix([[0, -I], [I, 0]])\n",
    "spin3 = Matrix([[1, 0], [0, -1]])\n",
    "t1 = Matrix([[1, 0], [0, 0]])\n",
    "t2 = Matrix([[0, 0], [0, 1]])"
   ]
  },
  {
   "cell_type": "code",
   "execution_count": 200,
   "id": "fabf262a-e116-4158-a5cc-58aafaf26e11",
   "metadata": {},
   "outputs": [
    {
     "data": {
      "text/latex": [
       "$\\displaystyle \\left[\\begin{matrix}A_{1}^{2}{\\left(z \\right)} \\operatorname{Ac}_{1}{\\left(z \\right)} \\kappa - i A_{1}{\\left(z \\right)} \\beta + A_{2}{\\left(z \\right)} + i \\frac{d}{d z} A_{1}{\\left(z \\right)}\\\\i A_{1}{\\left(z \\right)} \\beta + A_{2}^{2}{\\left(z \\right)} \\operatorname{Ac}_{2}{\\left(z \\right)} \\kappa + A_{2}{\\left(z \\right)} + i \\frac{d}{d z} A_{2}{\\left(z \\right)}\\end{matrix}\\right]$"
      ],
      "text/plain": [
       "Matrix([\n",
       "[A1(z)**2*Ac1(z)*kappa - I*A1(z)*beta + A2(z) + I*Derivative(A1(z), z)],\n",
       "[I*A1(z)*beta + A2(z)**2*Ac2(z)*kappa + A2(z) + I*Derivative(A2(z), z)]])"
      ]
     },
     "execution_count": 200,
     "metadata": {},
     "output_type": "execute_result"
    }
   ],
   "source": [
    "meq = kappa*(AvecT*t1*Avec)[0]*t1*Avec + kappa*(AvecT*t2*Avec)[0]*t2*Avec + M*Avec+I*diff(Avec,z)\n",
    "meq.expand()"
   ]
  },
  {
   "cell_type": "code",
   "execution_count": 211,
   "id": "02cff1df-7707-4063-9d50-4ee3153a53eb",
   "metadata": {},
   "outputs": [
    {
     "data": {
      "text/latex": [
       "$\\displaystyle \\left[\\begin{matrix}- \\frac{i \\left(i \\sqrt{- \\beta^{2} + 6 i \\beta + 1} - \\beta + i\\right)}{2 \\sqrt{- \\beta^{2} + 6 i \\beta + 1}} & - \\frac{i \\left(- i \\sqrt{- \\beta^{2} + 6 i \\beta + 1} - \\beta + i\\right)}{2 \\sqrt{- \\beta^{2} + 6 i \\beta + 1}}\\\\\\frac{i \\left(i \\sqrt{- \\beta^{2} + 6 i \\beta + 1} - \\beta + i\\right)}{2 \\sqrt{- \\beta^{2} + 6 i \\beta + 1}} & \\frac{i \\left(- i \\sqrt{- \\beta^{2} + 6 i \\beta + 1} - \\beta + i\\right)}{2 \\sqrt{- \\beta^{2} + 6 i \\beta + 1}}\\end{matrix}\\right]$"
      ],
      "text/plain": [
       "Matrix([\n",
       "[-I*(I*sqrt(-beta**2 + 6*I*beta + 1) - beta + I)/(2*sqrt(-beta**2 + 6*I*beta + 1)), -I*(-I*sqrt(-beta**2 + 6*I*beta + 1) - beta + I)/(2*sqrt(-beta**2 + 6*I*beta + 1))],\n",
       "[ I*(I*sqrt(-beta**2 + 6*I*beta + 1) - beta + I)/(2*sqrt(-beta**2 + 6*I*beta + 1)),  I*(-I*sqrt(-beta**2 + 6*I*beta + 1) - beta + I)/(2*sqrt(-beta**2 + 6*I*beta + 1))]])"
      ]
     },
     "execution_count": 211,
     "metadata": {},
     "output_type": "execute_result"
    }
   ],
   "source": [
    "P**-1*t1*P"
   ]
  },
  {
   "cell_type": "code",
   "execution_count": 220,
   "id": "925d7e75-32aa-4f8c-8de2-d7687de07ed7",
   "metadata": {},
   "outputs": [
    {
     "data": {
      "text/latex": [
       "$\\displaystyle \\left[\\begin{matrix}- \\frac{\\sqrt{- \\beta^{2} + 6 i \\beta + 1} B_{1}{\\left(z \\right)}}{4} + \\frac{\\sqrt{- \\beta^{2} + 6 i \\beta + 1} B_{2}{\\left(z \\right)}}{4} + \\frac{B_{1}^{2}{\\left(z \\right)} \\operatorname{Bc}_{1}{\\left(z \\right)} \\kappa}{2} + B_{1}{\\left(z \\right)} B_{2}{\\left(z \\right)} \\operatorname{Bc}_{2}{\\left(z \\right)} \\kappa - \\frac{i B_{1}{\\left(z \\right)} \\beta}{2} + \\frac{B_{1}{\\left(z \\right)}}{2} + \\frac{B_{2}^{2}{\\left(z \\right)} \\operatorname{Bc}_{1}{\\left(z \\right)} \\kappa}{2} + i \\frac{d}{d z} B_{1}{\\left(z \\right)} + \\frac{i B_{1}^{2}{\\left(z \\right)} \\operatorname{Bc}_{1}{\\left(z \\right)} \\beta \\kappa}{- \\beta^{2} + 6 i \\beta + 1} - \\frac{i B_{1}^{2}{\\left(z \\right)} \\operatorname{Bc}_{2}{\\left(z \\right)} \\beta \\kappa}{- \\beta^{2} + 6 i \\beta + 1} - \\frac{B_{1}{\\left(z \\right)} B_{2}{\\left(z \\right)} \\operatorname{Bc}_{1}{\\left(z \\right)} \\beta^{2} \\kappa}{- \\beta^{2} + 6 i \\beta + 1} + \\frac{2 i B_{1}{\\left(z \\right)} B_{2}{\\left(z \\right)} \\operatorname{Bc}_{1}{\\left(z \\right)} \\beta \\kappa}{- \\beta^{2} + 6 i \\beta + 1} + \\frac{B_{1}{\\left(z \\right)} B_{2}{\\left(z \\right)} \\operatorname{Bc}_{1}{\\left(z \\right)} \\kappa}{- \\beta^{2} + 6 i \\beta + 1} + \\frac{B_{1}{\\left(z \\right)} B_{2}{\\left(z \\right)} \\operatorname{Bc}_{2}{\\left(z \\right)} \\beta^{2} \\kappa}{- \\beta^{2} + 6 i \\beta + 1} - \\frac{2 i B_{1}{\\left(z \\right)} B_{2}{\\left(z \\right)} \\operatorname{Bc}_{2}{\\left(z \\right)} \\beta \\kappa}{- \\beta^{2} + 6 i \\beta + 1} - \\frac{B_{1}{\\left(z \\right)} B_{2}{\\left(z \\right)} \\operatorname{Bc}_{2}{\\left(z \\right)} \\kappa}{- \\beta^{2} + 6 i \\beta + 1} + \\frac{i B_{2}^{2}{\\left(z \\right)} \\operatorname{Bc}_{1}{\\left(z \\right)} \\beta \\kappa}{- \\beta^{2} + 6 i \\beta + 1} - \\frac{i B_{2}^{2}{\\left(z \\right)} \\operatorname{Bc}_{2}{\\left(z \\right)} \\beta \\kappa}{- \\beta^{2} + 6 i \\beta + 1} - \\frac{i B_{1}^{2}{\\left(z \\right)} \\operatorname{Bc}_{2}{\\left(z \\right)} \\beta \\kappa}{2 \\sqrt{- \\beta^{2} + 6 i \\beta + 1}} - \\frac{B_{1}^{2}{\\left(z \\right)} \\operatorname{Bc}_{2}{\\left(z \\right)} \\kappa}{2 \\sqrt{- \\beta^{2} + 6 i \\beta + 1}} - \\frac{i B_{1}{\\left(z \\right)} B_{2}{\\left(z \\right)} \\operatorname{Bc}_{1}{\\left(z \\right)} \\beta \\kappa}{\\sqrt{- \\beta^{2} + 6 i \\beta + 1}} - \\frac{B_{1}{\\left(z \\right)} B_{2}{\\left(z \\right)} \\operatorname{Bc}_{1}{\\left(z \\right)} \\kappa}{\\sqrt{- \\beta^{2} + 6 i \\beta + 1}} + \\frac{B_{1}{\\left(z \\right)} \\beta^{2}}{4 \\sqrt{- \\beta^{2} + 6 i \\beta + 1}} - \\frac{3 i B_{1}{\\left(z \\right)} \\beta}{2 \\sqrt{- \\beta^{2} + 6 i \\beta + 1}} - \\frac{B_{1}{\\left(z \\right)}}{4 \\sqrt{- \\beta^{2} + 6 i \\beta + 1}} - \\frac{i B_{2}^{2}{\\left(z \\right)} \\operatorname{Bc}_{1}{\\left(z \\right)} \\beta \\kappa}{\\sqrt{- \\beta^{2} + 6 i \\beta + 1}} - \\frac{B_{2}^{2}{\\left(z \\right)} \\operatorname{Bc}_{1}{\\left(z \\right)} \\kappa}{\\sqrt{- \\beta^{2} + 6 i \\beta + 1}} + \\frac{i B_{2}^{2}{\\left(z \\right)} \\operatorname{Bc}_{2}{\\left(z \\right)} \\beta \\kappa}{2 \\sqrt{- \\beta^{2} + 6 i \\beta + 1}} + \\frac{B_{2}^{2}{\\left(z \\right)} \\operatorname{Bc}_{2}{\\left(z \\right)} \\kappa}{2 \\sqrt{- \\beta^{2} + 6 i \\beta + 1}} + \\frac{B_{2}{\\left(z \\right)} \\beta^{2}}{4 \\sqrt{- \\beta^{2} + 6 i \\beta + 1}} - \\frac{3 i B_{2}{\\left(z \\right)} \\beta}{2 \\sqrt{- \\beta^{2} + 6 i \\beta + 1}} - \\frac{B_{2}{\\left(z \\right)}}{4 \\sqrt{- \\beta^{2} + 6 i \\beta + 1}} - \\frac{B_{1}^{2}{\\left(z \\right)} \\operatorname{Bc}_{1}{\\left(z \\right)} \\beta^{2} \\kappa}{- 2 \\beta^{2} + 12 i \\beta + 2} + \\frac{B_{1}^{2}{\\left(z \\right)} \\operatorname{Bc}_{1}{\\left(z \\right)} \\kappa}{- 2 \\beta^{2} + 12 i \\beta + 2} + \\frac{B_{1}^{2}{\\left(z \\right)} \\operatorname{Bc}_{2}{\\left(z \\right)} \\beta^{2} \\kappa}{- 2 \\beta^{2} + 12 i \\beta + 2} - \\frac{B_{1}^{2}{\\left(z \\right)} \\operatorname{Bc}_{2}{\\left(z \\right)} \\kappa}{- 2 \\beta^{2} + 12 i \\beta + 2} - \\frac{B_{2}^{2}{\\left(z \\right)} \\operatorname{Bc}_{1}{\\left(z \\right)} \\beta^{2} \\kappa}{- 2 \\beta^{2} + 12 i \\beta + 2} + \\frac{B_{2}^{2}{\\left(z \\right)} \\operatorname{Bc}_{1}{\\left(z \\right)} \\kappa}{- 2 \\beta^{2} + 12 i \\beta + 2} + \\frac{B_{2}^{2}{\\left(z \\right)} \\operatorname{Bc}_{2}{\\left(z \\right)} \\beta^{2} \\kappa}{- 2 \\beta^{2} + 12 i \\beta + 2} - \\frac{B_{2}^{2}{\\left(z \\right)} \\operatorname{Bc}_{2}{\\left(z \\right)} \\kappa}{- 2 \\beta^{2} + 12 i \\beta + 2}\\\\- \\frac{\\sqrt{- \\beta^{2} + 6 i \\beta + 1} B_{1}{\\left(z \\right)}}{4} + \\frac{\\sqrt{- \\beta^{2} + 6 i \\beta + 1} B_{2}{\\left(z \\right)}}{4} + \\frac{B_{1}^{2}{\\left(z \\right)} \\operatorname{Bc}_{2}{\\left(z \\right)} \\kappa}{2} + B_{1}{\\left(z \\right)} B_{2}{\\left(z \\right)} \\operatorname{Bc}_{1}{\\left(z \\right)} \\kappa + \\frac{B_{2}^{2}{\\left(z \\right)} \\operatorname{Bc}_{2}{\\left(z \\right)} \\kappa}{2} - \\frac{i B_{2}{\\left(z \\right)} \\beta}{2} + \\frac{B_{2}{\\left(z \\right)}}{2} + i \\frac{d}{d z} B_{2}{\\left(z \\right)} - \\frac{i B_{1}^{2}{\\left(z \\right)} \\operatorname{Bc}_{1}{\\left(z \\right)} \\beta \\kappa}{- \\beta^{2} + 6 i \\beta + 1} + \\frac{i B_{1}^{2}{\\left(z \\right)} \\operatorname{Bc}_{2}{\\left(z \\right)} \\beta \\kappa}{- \\beta^{2} + 6 i \\beta + 1} + \\frac{B_{1}{\\left(z \\right)} B_{2}{\\left(z \\right)} \\operatorname{Bc}_{1}{\\left(z \\right)} \\beta^{2} \\kappa}{- \\beta^{2} + 6 i \\beta + 1} - \\frac{2 i B_{1}{\\left(z \\right)} B_{2}{\\left(z \\right)} \\operatorname{Bc}_{1}{\\left(z \\right)} \\beta \\kappa}{- \\beta^{2} + 6 i \\beta + 1} - \\frac{B_{1}{\\left(z \\right)} B_{2}{\\left(z \\right)} \\operatorname{Bc}_{1}{\\left(z \\right)} \\kappa}{- \\beta^{2} + 6 i \\beta + 1} - \\frac{B_{1}{\\left(z \\right)} B_{2}{\\left(z \\right)} \\operatorname{Bc}_{2}{\\left(z \\right)} \\beta^{2} \\kappa}{- \\beta^{2} + 6 i \\beta + 1} + \\frac{2 i B_{1}{\\left(z \\right)} B_{2}{\\left(z \\right)} \\operatorname{Bc}_{2}{\\left(z \\right)} \\beta \\kappa}{- \\beta^{2} + 6 i \\beta + 1} + \\frac{B_{1}{\\left(z \\right)} B_{2}{\\left(z \\right)} \\operatorname{Bc}_{2}{\\left(z \\right)} \\kappa}{- \\beta^{2} + 6 i \\beta + 1} - \\frac{i B_{2}^{2}{\\left(z \\right)} \\operatorname{Bc}_{1}{\\left(z \\right)} \\beta \\kappa}{- \\beta^{2} + 6 i \\beta + 1} + \\frac{i B_{2}^{2}{\\left(z \\right)} \\operatorname{Bc}_{2}{\\left(z \\right)} \\beta \\kappa}{- \\beta^{2} + 6 i \\beta + 1} - \\frac{i B_{1}^{2}{\\left(z \\right)} \\operatorname{Bc}_{1}{\\left(z \\right)} \\beta \\kappa}{2 \\sqrt{- \\beta^{2} + 6 i \\beta + 1}} - \\frac{B_{1}^{2}{\\left(z \\right)} \\operatorname{Bc}_{1}{\\left(z \\right)} \\kappa}{2 \\sqrt{- \\beta^{2} + 6 i \\beta + 1}} + \\frac{i B_{1}^{2}{\\left(z \\right)} \\operatorname{Bc}_{2}{\\left(z \\right)} \\beta \\kappa}{\\sqrt{- \\beta^{2} + 6 i \\beta + 1}} + \\frac{B_{1}^{2}{\\left(z \\right)} \\operatorname{Bc}_{2}{\\left(z \\right)} \\kappa}{\\sqrt{- \\beta^{2} + 6 i \\beta + 1}} + \\frac{i B_{1}{\\left(z \\right)} B_{2}{\\left(z \\right)} \\operatorname{Bc}_{2}{\\left(z \\right)} \\beta \\kappa}{\\sqrt{- \\beta^{2} + 6 i \\beta + 1}} + \\frac{B_{1}{\\left(z \\right)} B_{2}{\\left(z \\right)} \\operatorname{Bc}_{2}{\\left(z \\right)} \\kappa}{\\sqrt{- \\beta^{2} + 6 i \\beta + 1}} - \\frac{B_{1}{\\left(z \\right)} \\beta^{2}}{4 \\sqrt{- \\beta^{2} + 6 i \\beta + 1}} + \\frac{3 i B_{1}{\\left(z \\right)} \\beta}{2 \\sqrt{- \\beta^{2} + 6 i \\beta + 1}} + \\frac{B_{1}{\\left(z \\right)}}{4 \\sqrt{- \\beta^{2} + 6 i \\beta + 1}} + \\frac{i B_{2}^{2}{\\left(z \\right)} \\operatorname{Bc}_{1}{\\left(z \\right)} \\beta \\kappa}{2 \\sqrt{- \\beta^{2} + 6 i \\beta + 1}} + \\frac{B_{2}^{2}{\\left(z \\right)} \\operatorname{Bc}_{1}{\\left(z \\right)} \\kappa}{2 \\sqrt{- \\beta^{2} + 6 i \\beta + 1}} - \\frac{B_{2}{\\left(z \\right)} \\beta^{2}}{4 \\sqrt{- \\beta^{2} + 6 i \\beta + 1}} + \\frac{3 i B_{2}{\\left(z \\right)} \\beta}{2 \\sqrt{- \\beta^{2} + 6 i \\beta + 1}} + \\frac{B_{2}{\\left(z \\right)}}{4 \\sqrt{- \\beta^{2} + 6 i \\beta + 1}} + \\frac{B_{1}^{2}{\\left(z \\right)} \\operatorname{Bc}_{1}{\\left(z \\right)} \\beta^{2} \\kappa}{- 2 \\beta^{2} + 12 i \\beta + 2} - \\frac{B_{1}^{2}{\\left(z \\right)} \\operatorname{Bc}_{1}{\\left(z \\right)} \\kappa}{- 2 \\beta^{2} + 12 i \\beta + 2} - \\frac{B_{1}^{2}{\\left(z \\right)} \\operatorname{Bc}_{2}{\\left(z \\right)} \\beta^{2} \\kappa}{- 2 \\beta^{2} + 12 i \\beta + 2} + \\frac{B_{1}^{2}{\\left(z \\right)} \\operatorname{Bc}_{2}{\\left(z \\right)} \\kappa}{- 2 \\beta^{2} + 12 i \\beta + 2} + \\frac{B_{2}^{2}{\\left(z \\right)} \\operatorname{Bc}_{1}{\\left(z \\right)} \\beta^{2} \\kappa}{- 2 \\beta^{2} + 12 i \\beta + 2} - \\frac{B_{2}^{2}{\\left(z \\right)} \\operatorname{Bc}_{1}{\\left(z \\right)} \\kappa}{- 2 \\beta^{2} + 12 i \\beta + 2} - \\frac{B_{2}^{2}{\\left(z \\right)} \\operatorname{Bc}_{2}{\\left(z \\right)} \\beta^{2} \\kappa}{- 2 \\beta^{2} + 12 i \\beta + 2} + \\frac{B_{2}^{2}{\\left(z \\right)} \\operatorname{Bc}_{2}{\\left(z \\right)} \\kappa}{- 2 \\beta^{2} + 12 i \\beta + 2}\\end{matrix}\\right]$"
      ],
      "text/plain": [
       "Matrix([\n",
       "[-sqrt(-beta**2 + 6*I*beta + 1)*B1(z)/4 + sqrt(-beta**2 + 6*I*beta + 1)*B2(z)/4 + B1(z)**2*Bc1(z)*kappa/2 + B1(z)*B2(z)*Bc2(z)*kappa - I*B1(z)*beta/2 + B1(z)/2 + B2(z)**2*Bc1(z)*kappa/2 + I*Derivative(B1(z), z) + I*B1(z)**2*Bc1(z)*beta*kappa/(-beta**2 + 6*I*beta + 1) - I*B1(z)**2*Bc2(z)*beta*kappa/(-beta**2 + 6*I*beta + 1) - B1(z)*B2(z)*Bc1(z)*beta**2*kappa/(-beta**2 + 6*I*beta + 1) + 2*I*B1(z)*B2(z)*Bc1(z)*beta*kappa/(-beta**2 + 6*I*beta + 1) + B1(z)*B2(z)*Bc1(z)*kappa/(-beta**2 + 6*I*beta + 1) + B1(z)*B2(z)*Bc2(z)*beta**2*kappa/(-beta**2 + 6*I*beta + 1) - 2*I*B1(z)*B2(z)*Bc2(z)*beta*kappa/(-beta**2 + 6*I*beta + 1) - B1(z)*B2(z)*Bc2(z)*kappa/(-beta**2 + 6*I*beta + 1) + I*B2(z)**2*Bc1(z)*beta*kappa/(-beta**2 + 6*I*beta + 1) - I*B2(z)**2*Bc2(z)*beta*kappa/(-beta**2 + 6*I*beta + 1) - I*B1(z)**2*Bc2(z)*beta*kappa/(2*sqrt(-beta**2 + 6*I*beta + 1)) - B1(z)**2*Bc2(z)*kappa/(2*sqrt(-beta**2 + 6*I*beta + 1)) - I*B1(z)*B2(z)*Bc1(z)*beta*kappa/sqrt(-beta**2 + 6*I*beta + 1) - B1(z)*B2(z)*Bc1(z)*kappa/sqrt(-beta**2 + 6*I*beta + 1) + B1(z)*beta**2/(4*sqrt(-beta**2 + 6*I*beta + 1)) - 3*I*B1(z)*beta/(2*sqrt(-beta**2 + 6*I*beta + 1)) - B1(z)/(4*sqrt(-beta**2 + 6*I*beta + 1)) - I*B2(z)**2*Bc1(z)*beta*kappa/sqrt(-beta**2 + 6*I*beta + 1) - B2(z)**2*Bc1(z)*kappa/sqrt(-beta**2 + 6*I*beta + 1) + I*B2(z)**2*Bc2(z)*beta*kappa/(2*sqrt(-beta**2 + 6*I*beta + 1)) + B2(z)**2*Bc2(z)*kappa/(2*sqrt(-beta**2 + 6*I*beta + 1)) + B2(z)*beta**2/(4*sqrt(-beta**2 + 6*I*beta + 1)) - 3*I*B2(z)*beta/(2*sqrt(-beta**2 + 6*I*beta + 1)) - B2(z)/(4*sqrt(-beta**2 + 6*I*beta + 1)) - B1(z)**2*Bc1(z)*beta**2*kappa/(-2*beta**2 + 12*I*beta + 2) + B1(z)**2*Bc1(z)*kappa/(-2*beta**2 + 12*I*beta + 2) + B1(z)**2*Bc2(z)*beta**2*kappa/(-2*beta**2 + 12*I*beta + 2) - B1(z)**2*Bc2(z)*kappa/(-2*beta**2 + 12*I*beta + 2) - B2(z)**2*Bc1(z)*beta**2*kappa/(-2*beta**2 + 12*I*beta + 2) + B2(z)**2*Bc1(z)*kappa/(-2*beta**2 + 12*I*beta + 2) + B2(z)**2*Bc2(z)*beta**2*kappa/(-2*beta**2 + 12*I*beta + 2) - B2(z)**2*Bc2(z)*kappa/(-2*beta**2 + 12*I*beta + 2)],\n",
       "[-sqrt(-beta**2 + 6*I*beta + 1)*B1(z)/4 + sqrt(-beta**2 + 6*I*beta + 1)*B2(z)/4 + B1(z)**2*Bc2(z)*kappa/2 + B1(z)*B2(z)*Bc1(z)*kappa + B2(z)**2*Bc2(z)*kappa/2 - I*B2(z)*beta/2 + B2(z)/2 + I*Derivative(B2(z), z) - I*B1(z)**2*Bc1(z)*beta*kappa/(-beta**2 + 6*I*beta + 1) + I*B1(z)**2*Bc2(z)*beta*kappa/(-beta**2 + 6*I*beta + 1) + B1(z)*B2(z)*Bc1(z)*beta**2*kappa/(-beta**2 + 6*I*beta + 1) - 2*I*B1(z)*B2(z)*Bc1(z)*beta*kappa/(-beta**2 + 6*I*beta + 1) - B1(z)*B2(z)*Bc1(z)*kappa/(-beta**2 + 6*I*beta + 1) - B1(z)*B2(z)*Bc2(z)*beta**2*kappa/(-beta**2 + 6*I*beta + 1) + 2*I*B1(z)*B2(z)*Bc2(z)*beta*kappa/(-beta**2 + 6*I*beta + 1) + B1(z)*B2(z)*Bc2(z)*kappa/(-beta**2 + 6*I*beta + 1) - I*B2(z)**2*Bc1(z)*beta*kappa/(-beta**2 + 6*I*beta + 1) + I*B2(z)**2*Bc2(z)*beta*kappa/(-beta**2 + 6*I*beta + 1) - I*B1(z)**2*Bc1(z)*beta*kappa/(2*sqrt(-beta**2 + 6*I*beta + 1)) - B1(z)**2*Bc1(z)*kappa/(2*sqrt(-beta**2 + 6*I*beta + 1)) + I*B1(z)**2*Bc2(z)*beta*kappa/sqrt(-beta**2 + 6*I*beta + 1) + B1(z)**2*Bc2(z)*kappa/sqrt(-beta**2 + 6*I*beta + 1) + I*B1(z)*B2(z)*Bc2(z)*beta*kappa/sqrt(-beta**2 + 6*I*beta + 1) + B1(z)*B2(z)*Bc2(z)*kappa/sqrt(-beta**2 + 6*I*beta + 1) - B1(z)*beta**2/(4*sqrt(-beta**2 + 6*I*beta + 1)) + 3*I*B1(z)*beta/(2*sqrt(-beta**2 + 6*I*beta + 1)) + B1(z)/(4*sqrt(-beta**2 + 6*I*beta + 1)) + I*B2(z)**2*Bc1(z)*beta*kappa/(2*sqrt(-beta**2 + 6*I*beta + 1)) + B2(z)**2*Bc1(z)*kappa/(2*sqrt(-beta**2 + 6*I*beta + 1)) - B2(z)*beta**2/(4*sqrt(-beta**2 + 6*I*beta + 1)) + 3*I*B2(z)*beta/(2*sqrt(-beta**2 + 6*I*beta + 1)) + B2(z)/(4*sqrt(-beta**2 + 6*I*beta + 1)) + B1(z)**2*Bc1(z)*beta**2*kappa/(-2*beta**2 + 12*I*beta + 2) - B1(z)**2*Bc1(z)*kappa/(-2*beta**2 + 12*I*beta + 2) - B1(z)**2*Bc2(z)*beta**2*kappa/(-2*beta**2 + 12*I*beta + 2) + B1(z)**2*Bc2(z)*kappa/(-2*beta**2 + 12*I*beta + 2) + B2(z)**2*Bc1(z)*beta**2*kappa/(-2*beta**2 + 12*I*beta + 2) - B2(z)**2*Bc1(z)*kappa/(-2*beta**2 + 12*I*beta + 2) - B2(z)**2*Bc2(z)*beta**2*kappa/(-2*beta**2 + 12*I*beta + 2) + B2(z)**2*Bc2(z)*kappa/(-2*beta**2 + 12*I*beta + 2)]])"
      ]
     },
     "execution_count": 220,
     "metadata": {},
     "output_type": "execute_result"
    }
   ],
   "source": [
    "bmeq = kappa*(BvecT*P**-1*t1*P*Bvec)[0]*P**-1*t1*P*Bvec + kappa*(BvecT*P**-1*t2*P*Bvec)[0]*P**-1*t2*P*Bvec + P**-1*P*D*P**-1*P*Bvec+I*diff(Bvec,z)\n",
    "bmeq.expand()"
   ]
  },
  {
   "cell_type": "code",
   "execution_count": 238,
   "id": "00983c1f-3c72-46b1-ab8c-7d7b6025a36c",
   "metadata": {},
   "outputs": [
    {
     "data": {
      "text/latex": [
       "$\\displaystyle \\frac{\\sqrt{- \\beta^{2} + 6 i \\beta + 1} B_{2}{\\left(z \\right)}}{4} + \\frac{B_{2}{\\left(z \\right)} \\beta^{2}}{4 \\sqrt{- \\beta^{2} + 6 i \\beta + 1}} - \\frac{3 i B_{2}{\\left(z \\right)} \\beta}{2 \\sqrt{- \\beta^{2} + 6 i \\beta + 1}} - \\frac{B_{2}{\\left(z \\right)}}{4 \\sqrt{- \\beta^{2} + 6 i \\beta + 1}} = 0$"
      ],
      "text/plain": [
       "Eq(sqrt(-beta**2 + 6*I*beta + 1)*B2(z)/4 + B2(z)*beta**2/(4*sqrt(-beta**2 + 6*I*beta + 1)) - 3*I*B2(z)*beta/(2*sqrt(-beta**2 + 6*I*beta + 1)) - B2(z)/(4*sqrt(-beta**2 + 6*I*beta + 1)), 0)"
      ]
     },
     "execution_count": 238,
     "metadata": {},
     "output_type": "execute_result"
    },
    {
     "data": {
      "text/latex": [
       "$\\displaystyle - \\frac{\\sqrt{- \\beta^{2} + 6 i \\beta + 1} B_{1}{\\left(z \\right)}}{4} - \\frac{B_{1}{\\left(z \\right)} \\beta^{2}}{4 \\sqrt{- \\beta^{2} + 6 i \\beta + 1}} + \\frac{3 i B_{1}{\\left(z \\right)} \\beta}{2 \\sqrt{- \\beta^{2} + 6 i \\beta + 1}} + \\frac{B_{1}{\\left(z \\right)}}{4 \\sqrt{- \\beta^{2} + 6 i \\beta + 1}} = 0$"
      ],
      "text/plain": [
       "Eq(-sqrt(-beta**2 + 6*I*beta + 1)*B1(z)/4 - B1(z)*beta**2/(4*sqrt(-beta**2 + 6*I*beta + 1)) + 3*I*B1(z)*beta/(2*sqrt(-beta**2 + 6*I*beta + 1)) + B1(z)/(4*sqrt(-beta**2 + 6*I*beta + 1)), 0)"
      ]
     },
     "execution_count": 238,
     "metadata": {},
     "output_type": "execute_result"
    }
   ],
   "source": [
    "b20_subs = Eq(\n",
    "    bmeq.expand()[0].subs([(diff(B1(z),z),0), (B1(z),0), (Bc1(z),0),(B2(z)**2,0),(Bc2(z)**2,0)]),\n",
    "    bmeq.expand()[0].subs([(diff(B1(z),z),0), (B1(z),0), (Bc1(z),0),(B2(z)**2,0),(Bc2(z)**2,0)]).simplify()\n",
    ")\n",
    "b10_subs = Eq(\n",
    "    bmeq.expand()[1].subs([(diff(B2(z),z),0), (B2(z),0), (Bc2(z),0),(B1(z)**2,0),(Bc1(z)**2,0)]),\n",
    "    bmeq.expand()[1].subs([(diff(B2(z),z),0), (B2(z),0), (Bc2(z),0),(B1(z)**2,0),(Bc1(z)**2,0)]).simplify()\n",
    ")\n",
    "b20_subs\n",
    "b10_subs"
   ]
  },
  {
   "cell_type": "code",
   "execution_count": 201,
   "id": "45ef3c3d-09ea-497e-8f96-2e8046d2a0da",
   "metadata": {},
   "outputs": [
    {
     "data": {
      "text/latex": [
       "$\\displaystyle \\left[\\begin{matrix}- i \\beta & 1\\\\i \\beta & 1\\end{matrix}\\right]$"
      ],
      "text/plain": [
       "Matrix([\n",
       "[-I*beta, 1],\n",
       "[ I*beta, 1]])"
      ]
     },
     "execution_count": 201,
     "metadata": {},
     "output_type": "execute_result"
    }
   ],
   "source": [
    "simplify((P*D*P**-1))"
   ]
  },
  {
   "cell_type": "code",
   "execution_count": 245,
   "id": "4c0c8d98-3a64-4d7c-a785-5ae09a9eb0ce",
   "metadata": {},
   "outputs": [
    {
     "data": {
      "text/latex": [
       "$\\displaystyle \\frac{\\operatorname{Bc}_{1}{\\left(z \\right)} \\kappa}{2} + \\frac{i \\operatorname{Bc}_{1}{\\left(z \\right)} \\beta \\kappa}{- \\beta^{2} + 6 i \\beta + 1} - \\frac{i \\operatorname{Bc}_{1}{\\left(z \\right)} \\beta \\kappa}{\\sqrt{- \\beta^{2} + 6 i \\beta + 1}} - \\frac{\\operatorname{Bc}_{1}{\\left(z \\right)} \\kappa}{\\sqrt{- \\beta^{2} + 6 i \\beta + 1}} - \\frac{\\operatorname{Bc}_{1}{\\left(z \\right)} \\beta^{2} \\kappa}{- 2 \\beta^{2} + 12 i \\beta + 2} + \\frac{\\operatorname{Bc}_{1}{\\left(z \\right)} \\kappa}{- 2 \\beta^{2} + 12 i \\beta + 2}$"
      ],
      "text/plain": [
       "Bc1(z)*kappa/2 + I*Bc1(z)*beta*kappa/(-beta**2 + 6*I*beta + 1) - I*Bc1(z)*beta*kappa/sqrt(-beta**2 + 6*I*beta + 1) - Bc1(z)*kappa/sqrt(-beta**2 + 6*I*beta + 1) - Bc1(z)*beta**2*kappa/(-2*beta**2 + 12*I*beta + 2) + Bc1(z)*kappa/(-2*beta**2 + 12*I*beta + 2)"
      ]
     },
     "execution_count": 245,
     "metadata": {},
     "output_type": "execute_result"
    }
   ],
   "source": [
    "bmeq.expand()[0].collect(B2(z)**2).coeff(B2(z)**2).subs(Bc2(z),0)"
   ]
  },
  {
   "cell_type": "code",
   "execution_count": null,
   "id": "38b6001c-ca94-41b1-a247-fe0dec15b043",
   "metadata": {},
   "outputs": [],
   "source": []
  }
 ],
 "metadata": {
  "kernelspec": {
   "display_name": "Python 3 (ipykernel)",
   "language": "python",
   "name": "python3"
  },
  "language_info": {
   "codemirror_mode": {
    "name": "ipython",
    "version": 3
   },
   "file_extension": ".py",
   "mimetype": "text/x-python",
   "name": "python",
   "nbconvert_exporter": "python",
   "pygments_lexer": "ipython3",
   "version": "3.10.13"
  }
 },
 "nbformat": 4,
 "nbformat_minor": 5
}
