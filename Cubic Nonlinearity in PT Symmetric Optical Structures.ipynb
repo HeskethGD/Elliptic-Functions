{
 "cells": [
  {
   "cell_type": "markdown",
   "id": "b6ee18f9-ef9e-46f3-99e3-efe50a0f3c62",
   "metadata": {},
   "source": [
    "# Cubic Nonlinearity in PT Symmetric Optical Structures\n",
    "\n",
    "https://arxiv.org/pdf/1005.5189.pdf"
   ]
  },
  {
   "cell_type": "code",
   "execution_count": null,
   "id": "3bb8598c-4f12-4411-8fcc-8b62cbca9477",
   "metadata": {},
   "outputs": [],
   "source": []
  }
 ],
 "metadata": {
  "kernelspec": {
   "display_name": "Python 3 (ipykernel)",
   "language": "python",
   "name": "python3"
  },
  "language_info": {
   "codemirror_mode": {
    "name": "ipython",
    "version": 3
   },
   "file_extension": ".py",
   "mimetype": "text/x-python",
   "name": "python",
   "nbconvert_exporter": "python",
   "pygments_lexer": "ipython3",
   "version": "3.10.13"
  }
 },
 "nbformat": 4,
 "nbformat_minor": 5
}
