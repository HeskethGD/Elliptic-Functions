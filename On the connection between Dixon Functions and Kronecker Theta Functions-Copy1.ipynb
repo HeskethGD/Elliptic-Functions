{
 "cells": [
  {
   "cell_type": "markdown",
   "id": "a7b44f85-e617-4d3d-a3dc-72613a7aa4fd",
   "metadata": {},
   "source": [
    "# On the connection between Dixon Functions and Kronecker Theta Functions\n",
    "\n",
    "This notebook derives an interesting Lame like ordinary differential equation from a set of coupled mode equations that are solvable in terms of Kronecker Theta functions. It may be the case that this system is also related to hyper-elliptic functions. Lets find out.\n",
    "\n",
    "Dixon functions:\n",
    "\n",
    "https://arxiv.org/pdf/math/0507268.pdf\n",
    "\n",
    "https://gdz.sub.uni-goettingen.de/id/PPN600494829_0024?tify={%22pages%22:%5b179%5d}"
   ]
  },
  {
   "cell_type": "code",
   "execution_count": 1,
   "id": "366567ea-e84b-4d05-9868-6a72a5933627",
   "metadata": {},
   "outputs": [],
   "source": [
    "from sympy import *\n",
    "(\n",
    "    x, y, z, z0, g2, g3, X, Y, Z\n",
    ") = symbols('''\n",
    "    x, y, z, z0, g2, g3, X, Y, Z\n",
    "''')\n",
    "(\n",
    "    a1, a2, a3, a4, b1, b2, b3, b4, j, k, l, m, n\n",
    ") = symbols('''\n",
    "    a1, a2, a3, a4, b1, b2, b3, b4, j, k, l, m, n\n",
    "''')\n",
    "(\n",
    "    alpha, beta, delta, mu, nu, epsilon, theta, omega, kappa\n",
    ") = symbols('''\n",
    "    alpha, beta, delta, mu, nu, epsilon, theta, omega, kappa\n",
    "''')\n",
    "pw = Function('pw') # Weierstrass P function\n",
    "pwp = Function('pwp') # Derivative of Weierstrass P function\n",
    "zw = Function('zw') # Weierstrass Zeta function\n",
    "sigma = Function('sigma') # Weierstrass Sigma function\n",
    "rho = Function('rho')\n",
    "f = Function('f')\n",
    "h = Function('h')\n",
    "u = Function('u')\n",
    "v = Function('v')\n",
    "q = Function('q')\n",
    "r = Function('r')\n",
    "P = Function('P') # Polynomial\n",
    "Q = Function('Q') # Polynomial\n",
    "R = Function('R') # Polynomial\n",
    "phi = Function('phi')\n",
    "Phi = Function('Phi')\n",
    "phi1 = Function('phi1')\n",
    "phi2 = Function('phi2')\n",
    "phi3 = Function('phi3')\n",
    "\n",
    "Det = Function(\"Det\")\n",
    "\n",
    "mu = IndexedBase('mu')\n",
    "xi = IndexedBase('xi')\n",
    "a = IndexedBase('a')\n",
    "b = IndexedBase('b')\n",
    "c = IndexedBase('c')\n",
    "d = IndexedBase('d')\n",
    "\n",
    "from IPython.core.interactiveshell import InteractiveShell\n",
    "InteractiveShell.ast_node_interactivity = 'all'\n",
    "p = IndexedBase('p')\n",
    "G = IndexedBase('G')\n",
    "psi = IndexedBase('psi')\n",
    "upsilon = IndexedBase('upsilon')\n",
    "WPdet = Function('WPdet')\n",
    "\n",
    "Omega = IndexedBase('Omega')\n",
    "T = Function('T')\n",
    "V = Function('V')\n",
    "Dz = Function('Dz') # Derivate w.r.t z\n",
    "L = Function('L')\n",
    "U = Function(\"U\")\n",
    "W = Function(\"W\")\n",
    "from math import prod\n",
    "\n",
    "from IPython.core.interactiveshell import InteractiveShell\n",
    "InteractiveShell.ast_node_interactivity = 'all'"
   ]
  },
  {
   "cell_type": "markdown",
   "id": "d0cbb1b7-8b8f-4a08-b04e-863e91b59aa4",
   "metadata": {},
   "source": [
    "## The original system quadratic in the modes\n",
    "\n",
    "The starting point is the coupled system below. I have solved it in terms of Kronecker theta functions (ratios of Weierstrass sigma functions) elsewhere in this repo. I have recently since seen that Dixon studied this system and solved it in terms of what became known as Dixon elliptic functions (See eq $40 [here](https://gdz.sub.uni-goettingen.de/id/PPN600494829_0024?tify=%7B%22pages%22%3A%5B199%5D%2C%22pan%22%3A%7B%22x%22%3A0.438%2C%22y%22%3A0.868%7D%2C%22view%22%3A%22info%22%2C%22zoom%22%3A0.525%7D))"
   ]
  },
  {
   "cell_type": "code",
   "execution_count": 2,
   "id": "730e9699-bca9-4563-b568-d2a7f97c91ee",
   "metadata": {},
   "outputs": [
    {
     "data": {
      "text/latex": [
       "$\\displaystyle \\frac{d}{d z} u{\\left(z \\right)} = - u{\\left(z \\right)} - v^{2}{\\left(z \\right)}$"
      ],
      "text/plain": [
       "Eq(Derivative(u(z), z), -u(z) - v(z)**2)"
      ]
     },
     "execution_count": 2,
     "metadata": {},
     "output_type": "execute_result"
    },
    {
     "data": {
      "text/latex": [
       "$\\displaystyle \\frac{d}{d z} v{\\left(z \\right)} = u^{2}{\\left(z \\right)} + v{\\left(z \\right)}$"
      ],
      "text/plain": [
       "Eq(Derivative(v(z), z), u(z)**2 + v(z))"
      ]
     },
     "execution_count": 2,
     "metadata": {},
     "output_type": "execute_result"
    }
   ],
   "source": [
    "du_eq = Eq(diff(u(z),z), -u(z) - v(z)**2)\n",
    "dv_eq = Eq(diff(v(z),z), v(z) + u(z)**2)\n",
    "du_dv_subs = [du_eq.args, dv_eq.args]\n",
    "du_eq\n",
    "dv_eq"
   ]
  },
  {
   "cell_type": "code",
   "execution_count": 3,
   "id": "36eec7b8-5712-402e-9c6a-4362db684979",
   "metadata": {},
   "outputs": [
    {
     "data": {
      "text/latex": [
       "$\\displaystyle p = u^{3}{\\left(z \\right)} + 3 u{\\left(z \\right)} v{\\left(z \\right)} + v^{3}{\\left(z \\right)}$"
      ],
      "text/plain": [
       "Eq(p, u(z)**3 + 3*u(z)*v(z) + v(z)**3)"
      ]
     },
     "execution_count": 3,
     "metadata": {},
     "output_type": "execute_result"
    }
   ],
   "source": [
    "p_conserved = Eq(p, 3*u(z)*v(z) + u(z)**3 + v(z)**3)\n",
    "p_conserved"
   ]
  },
  {
   "cell_type": "code",
   "execution_count": 4,
   "id": "97da3603-9418-48d3-b1c1-19cad268f1eb",
   "metadata": {},
   "outputs": [
    {
     "data": {
      "text/latex": [
       "$\\displaystyle 0$"
      ],
      "text/plain": [
       "0"
      ]
     },
     "execution_count": 4,
     "metadata": {},
     "output_type": "execute_result"
    }
   ],
   "source": [
    "diff(p_conserved.rhs,z).subs(du_dv_subs).expand()"
   ]
  },
  {
   "cell_type": "code",
   "execution_count": 5,
   "id": "497b23fe-5b83-4cdb-ac4b-8019bb6d14de",
   "metadata": {},
   "outputs": [
    {
     "data": {
      "text/latex": [
       "$\\displaystyle \\frac{d}{d z} u{\\left(z \\right)} v{\\left(z \\right)} = u^{3}{\\left(z \\right)} - v^{3}{\\left(z \\right)}$"
      ],
      "text/plain": [
       "Eq(Derivative(u(z)*v(z), z), u(z)**3 - v(z)**3)"
      ]
     },
     "execution_count": 5,
     "metadata": {},
     "output_type": "execute_result"
    }
   ],
   "source": [
    "duv = Eq(Derivative(u(z)*v(z),z), diff(u(z)*v(z),z).subs(du_dv_subs).doit().expand())\n",
    "duv"
   ]
  },
  {
   "cell_type": "code",
   "execution_count": 6,
   "id": "91fc093d-955e-4bb6-b1a6-980b4353d3b3",
   "metadata": {},
   "outputs": [
    {
     "data": {
      "text/latex": [
       "$\\displaystyle \\left(\\frac{d}{d z} u{\\left(z \\right)} v{\\left(z \\right)}\\right)^{2} = u^{6}{\\left(z \\right)} - 2 u^{3}{\\left(z \\right)} v^{3}{\\left(z \\right)} + v^{6}{\\left(z \\right)}$"
      ],
      "text/plain": [
       "Eq(Derivative(u(z)*v(z), z)**2, u(z)**6 - 2*u(z)**3*v(z)**3 + v(z)**6)"
      ]
     },
     "execution_count": 6,
     "metadata": {},
     "output_type": "execute_result"
    }
   ],
   "source": [
    "duv_sqrd = Eq(duv.lhs**2, (duv.rhs**2).expand())\n",
    "duv_sqrd"
   ]
  },
  {
   "cell_type": "code",
   "execution_count": 7,
   "id": "4bfa59fa-04e3-4b16-983c-a6ca6526d787",
   "metadata": {},
   "outputs": [
    {
     "data": {
      "text/latex": [
       "$\\displaystyle 0 = - u^{6}{\\left(z \\right)} - 2 u^{3}{\\left(z \\right)} v^{3}{\\left(z \\right)} + 9 u^{2}{\\left(z \\right)} v^{2}{\\left(z \\right)} - 6 u{\\left(z \\right)} v{\\left(z \\right)} p - v^{6}{\\left(z \\right)} + p^{2}$"
      ],
      "text/plain": [
       "Eq(0, -u(z)**6 - 2*u(z)**3*v(z)**3 + 9*u(z)**2*v(z)**2 - 6*u(z)*v(z)*p - v(z)**6 + p**2)"
      ]
     },
     "execution_count": 7,
     "metadata": {},
     "output_type": "execute_result"
    }
   ],
   "source": [
    "p_sqrd_zero = Eq(0, (p_conserved.lhs - 3*u(z)*v(z))**2 - (p_conserved.rhs - 3*u(z)*v(z))**2).expand()\n",
    "p_sqrd_zero"
   ]
  },
  {
   "cell_type": "code",
   "execution_count": 8,
   "id": "238600e0-8c1c-4b86-9215-0b46f4222cd1",
   "metadata": {},
   "outputs": [
    {
     "data": {
      "text/latex": [
       "$\\displaystyle \\left(\\frac{d}{d z} u{\\left(z \\right)} v{\\left(z \\right)}\\right)^{2} = - 4 u^{3}{\\left(z \\right)} v^{3}{\\left(z \\right)} + 9 u^{2}{\\left(z \\right)} v^{2}{\\left(z \\right)} - 6 u{\\left(z \\right)} v{\\left(z \\right)} p + p^{2}$"
      ],
      "text/plain": [
       "Eq(Derivative(u(z)*v(z), z)**2, -4*u(z)**3*v(z)**3 + 9*u(z)**2*v(z)**2 - 6*u(z)*v(z)*p + p**2)"
      ]
     },
     "execution_count": 8,
     "metadata": {},
     "output_type": "execute_result"
    }
   ],
   "source": [
    "duv_sqrd_cubed = Eq(duv_sqrd.lhs, duv_sqrd.rhs + p_sqrd_zero.rhs)\n",
    "duv_sqrd_cubed"
   ]
  },
  {
   "cell_type": "code",
   "execution_count": 9,
   "id": "72ece88e-1b13-4e18-8850-ad69eb61e65b",
   "metadata": {},
   "outputs": [
    {
     "data": {
      "text/latex": [
       "$\\displaystyle u{\\left(z \\right)} v{\\left(z \\right)} = \\frac{3}{4} - W{\\left(z \\right)}$"
      ],
      "text/plain": [
       "Eq(u(z)*v(z), 3/4 - W(z))"
      ]
     },
     "execution_count": 9,
     "metadata": {},
     "output_type": "execute_result"
    }
   ],
   "source": [
    "uv_W = Eq(u(z)*v(z), -W(z)+Rational(3,4))\n",
    "uv_W"
   ]
  },
  {
   "cell_type": "code",
   "execution_count": 10,
   "id": "f8b6e531-1aec-4979-af6d-3cfd4258e11a",
   "metadata": {},
   "outputs": [
    {
     "data": {
      "text/latex": [
       "$\\displaystyle \\left(\\frac{d}{d z} W{\\left(z \\right)}\\right)^{2} = \\left(6 p - \\frac{27}{4}\\right) W{\\left(z \\right)} + 4 W^{3}{\\left(z \\right)} + p^{2} - \\frac{9 p}{2} + \\frac{27}{8}$"
      ],
      "text/plain": [
       "Eq(Derivative(W(z), z)**2, (6*p - 27/4)*W(z) + 4*W(z)**3 + p**2 - 9*p/2 + 27/8)"
      ]
     },
     "execution_count": 10,
     "metadata": {},
     "output_type": "execute_result"
    }
   ],
   "source": [
    "dW = duv_sqrd_cubed.subs(*uv_W.args).doit().expand()\n",
    "dW = Eq(dW.lhs, dW.rhs.collect(W(z), simplify))\n",
    "dW"
   ]
  },
  {
   "cell_type": "code",
   "execution_count": 11,
   "id": "1ba4e2c4-058e-4b3a-a2c0-8d8cec8d3bd0",
   "metadata": {},
   "outputs": [
    {
     "data": {
      "text/latex": [
       "$\\displaystyle W{\\left(z \\right)} = \\operatorname{pw}{\\left(z - z_{0},g_{2},g_{3} \\right)}$"
      ],
      "text/plain": [
       "Eq(W(z), pw(z - z0, g2, g3))"
      ]
     },
     "execution_count": 11,
     "metadata": {},
     "output_type": "execute_result"
    },
    {
     "data": {
      "text/latex": [
       "$\\displaystyle g_{2} = \\frac{27}{4} - 6 p$"
      ],
      "text/plain": [
       "Eq(g2, 27/4 - 6*p)"
      ]
     },
     "execution_count": 11,
     "metadata": {},
     "output_type": "execute_result"
    },
    {
     "data": {
      "text/latex": [
       "$\\displaystyle g_{3} = - p^{2} + \\frac{9 p}{2} - \\frac{27}{8}$"
      ],
      "text/plain": [
       "Eq(g3, -p**2 + 9*p/2 - 27/8)"
      ]
     },
     "execution_count": 11,
     "metadata": {},
     "output_type": "execute_result"
    }
   ],
   "source": [
    "W_pw = Eq(W(z), pw(z-z0,g2,g3))\n",
    "g2_p = Eq(g2, -dW.rhs.coeff(W(z)))\n",
    "g3_p = Eq(g3, -dW.rhs.subs(W(z),0))\n",
    "W_pw\n",
    "g2_p\n",
    "g3_p"
   ]
  },
  {
   "cell_type": "markdown",
   "id": "26af6417-64e9-4122-ad02-9699da903678",
   "metadata": {},
   "source": [
    "## Transforming the equations"
   ]
  },
  {
   "cell_type": "code",
   "execution_count": 119,
   "id": "ca3d8112-1a02-4b41-9b0f-87d31ec48b71",
   "metadata": {},
   "outputs": [
    {
     "data": {
      "text/latex": [
       "$\\displaystyle u{\\left(z \\right)} = q{\\left(z \\right)} - r{\\left(z \\right)} + \\frac{1}{2}$"
      ],
      "text/plain": [
       "Eq(u(z), q(z) - r(z) + 1/2)"
      ]
     },
     "execution_count": 119,
     "metadata": {},
     "output_type": "execute_result"
    },
    {
     "data": {
      "text/latex": [
       "$\\displaystyle v{\\left(z \\right)} = q{\\left(z \\right)} + r{\\left(z \\right)} + \\frac{1}{2}$"
      ],
      "text/plain": [
       "Eq(v(z), q(z) + r(z) + 1/2)"
      ]
     },
     "execution_count": 119,
     "metadata": {},
     "output_type": "execute_result"
    }
   ],
   "source": [
    "u_q_min_r = Eq(u(z), q(z) + Rational(1,2) - r(z))\n",
    "v_q_plus_r = Eq(v(z), q(z) + Rational(1,2) + r(z))\n",
    "uv_qr_plus_min_subs = [u_q_min_r.args, v_q_plus_r.args]\n",
    "u_q_min_r\n",
    "v_q_plus_r"
   ]
  },
  {
   "cell_type": "code",
   "execution_count": 120,
   "id": "63734c57-5bc3-419f-8acd-7f05acf1460a",
   "metadata": {},
   "outputs": [
    {
     "data": {
      "text/latex": [
       "$\\displaystyle p = 2 q^{3}{\\left(z \\right)} + 6 q^{2}{\\left(z \\right)} + 6 q{\\left(z \\right)} r^{2}{\\left(z \\right)} + \\frac{9 q{\\left(z \\right)}}{2} + 1$"
      ],
      "text/plain": [
       "Eq(p, 2*q(z)**3 + 6*q(z)**2 + 6*q(z)*r(z)**2 + 9*q(z)/2 + 1)"
      ]
     },
     "execution_count": 120,
     "metadata": {},
     "output_type": "execute_result"
    }
   ],
   "source": [
    "p_conserved.subs(uv_qr_plus_min_subs).expand()"
   ]
  },
  {
   "cell_type": "code",
   "execution_count": 121,
   "id": "1236e477-f6be-4896-b55d-e67748facd1b",
   "metadata": {},
   "outputs": [
    {
     "data": {
      "text/latex": [
       "$\\displaystyle \\frac{d}{d z} q{\\left(z \\right)} = - 2 q{\\left(z \\right)} r{\\left(z \\right)}$"
      ],
      "text/plain": [
       "Eq(Derivative(q(z), z), -2*q(z)*r(z))"
      ]
     },
     "execution_count": 121,
     "metadata": {},
     "output_type": "execute_result"
    },
    {
     "data": {
      "text/latex": [
       "$\\displaystyle \\frac{d}{d z} r{\\left(z \\right)} = q^{2}{\\left(z \\right)} + 2 q{\\left(z \\right)} + r^{2}{\\left(z \\right)} + \\frac{3}{4}$"
      ],
      "text/plain": [
       "Eq(Derivative(r(z), z), q(z)**2 + 2*q(z) + r(z)**2 + 3/4)"
      ]
     },
     "execution_count": 121,
     "metadata": {},
     "output_type": "execute_result"
    }
   ],
   "source": [
    "qr_sols_pm = solve([\n",
    "    du_eq.subs(uv_qr_plus_min_subs).doit().expand(),\n",
    "    dv_eq.subs(uv_qr_plus_min_subs).doit().expand()\n",
    "],[diff(q(z),z),(diff(r(z),z))])\n",
    "qr_sols_pm_eqs = [Eq(k, qr_sols_pm[k]) for k in qr_sols_pm]\n",
    "for eq_ in qr_sols_pm_eqs:\n",
    "    eq_"
   ]
  },
  {
   "cell_type": "code",
   "execution_count": 122,
   "id": "8dfeb98d-9e08-469d-a9a7-5e639e78a353",
   "metadata": {},
   "outputs": [
    {
     "data": {
      "text/latex": [
       "$\\displaystyle \\left(\\frac{d}{d z} q{\\left(z \\right)}\\right)^{2} = \\frac{\\left(- \\left(4 q^{2}{\\left(z \\right)} + 12 q{\\left(z \\right)} + 9\\right) q{\\left(z \\right)} + 2 p - 2\\right) q{\\left(z \\right)}}{3}$"
      ],
      "text/plain": [
       "Eq(Derivative(q(z), z)**2, (-(4*q(z)**2 + 12*q(z) + 9)*q(z) + 2*p - 2)*q(z)/3)"
      ]
     },
     "execution_count": 122,
     "metadata": {},
     "output_type": "execute_result"
    }
   ],
   "source": [
    "dq_sqrd = Eq(qr_sols_pm_eqs[0].lhs**2, \n",
    "             (qr_sols_pm_eqs[0].rhs**2).factor()).subs(r(z)**2, solve(p_conserved.subs(uv_qr_plus_min_subs).expand(), r(z)**2)[0])\n",
    "dq_sqrd"
   ]
  },
  {
   "cell_type": "code",
   "execution_count": 126,
   "id": "2d77b184-8949-4302-b511-232bfe5a5357",
   "metadata": {},
   "outputs": [
    {
     "data": {
      "text/latex": [
       "$\\displaystyle \\frac{\\left. \\frac{\\partial^{n}}{\\partial \\xi^{n}} \\frac{\\xi \\left(- \\xi \\left(4 \\xi^{2} + 12 \\xi + 9\\right) + 2 p - 2\\right)}{3} \\right|_{\\substack{ \\xi=0 }}}{n!}$"
      ],
      "text/plain": [
       "Subs(Derivative(_xi*(-_xi*(4*_xi**2 + 12*_xi + 9) + 2*p - 2)/3, (_xi, n)), _xi, 0)/factorial(n)"
      ]
     },
     "execution_count": 126,
     "metadata": {},
     "output_type": "execute_result"
    }
   ],
   "source": [
    "coeff_eq_quart_transform = (Derivative(dq_sqrd.rhs,(q(z),n))/factorial(n)).subs(q(z),0*Rational(1,2))\n",
    "coeff_eq_quart_transform"
   ]
  },
  {
   "cell_type": "code",
   "execution_count": 127,
   "id": "82a2450b-ec7a-4957-9261-20291b7675f4",
   "metadata": {},
   "outputs": [
    {
     "data": {
      "text/latex": [
       "$\\displaystyle \\frac{2 p}{3} - \\frac{2}{3}$"
      ],
      "text/plain": [
       "2*p/3 - 2/3"
      ]
     },
     "execution_count": 127,
     "metadata": {},
     "output_type": "execute_result"
    },
    {
     "data": {
      "text/latex": [
       "$\\displaystyle -3$"
      ],
      "text/plain": [
       "-3"
      ]
     },
     "execution_count": 127,
     "metadata": {},
     "output_type": "execute_result"
    },
    {
     "data": {
      "text/latex": [
       "$\\displaystyle -4$"
      ],
      "text/plain": [
       "-4"
      ]
     },
     "execution_count": 127,
     "metadata": {},
     "output_type": "execute_result"
    },
    {
     "data": {
      "text/latex": [
       "$\\displaystyle - \\frac{4}{3}$"
      ],
      "text/plain": [
       "-4/3"
      ]
     },
     "execution_count": 127,
     "metadata": {},
     "output_type": "execute_result"
    }
   ],
   "source": [
    "coeff_eq_quart_transform.subs(n,1).doit()\n",
    "coeff_eq_quart_transform.subs(n,2).doit()\n",
    "coeff_eq_quart_transform.subs(n,3).doit()\n",
    "coeff_eq_quart_transform.subs(n,4).doit()"
   ]
  },
  {
   "cell_type": "code",
   "execution_count": 128,
   "id": "f1e488f5-8eaf-4787-a356-fbc005a541b2",
   "metadata": {},
   "outputs": [
    {
     "data": {
      "text/latex": [
       "$\\displaystyle \\left(\\frac{d}{d z} q{\\left(z \\right)}\\right)^{2} = \\left(\\frac{2 p}{3} - \\frac{22}{3}\\right) q{\\left(z \\right)} - \\frac{4 q^{4}{\\left(z \\right)}}{3} - \\frac{20 q^{3}{\\left(z \\right)}}{3} - 11 q^{2}{\\left(z \\right)}$"
      ],
      "text/plain": [
       "Eq(Derivative(q(z), z)**2, (2*p/3 - 22/3)*q(z) - 4*q(z)**4/3 - 20*q(z)**3/3 - 11*q(z)**2)"
      ]
     },
     "execution_count": 128,
     "metadata": {},
     "output_type": "execute_result"
    }
   ],
   "source": [
    "Eq(diff(q(z),z)**2, sum([\n",
    "    (Derivative(dq_sqrd.rhs,(q(z),n))/factorial(n)).subs(q(z),Rational(1,2))*(q(z)-0*Rational(1,2))**n for n in range(1,5)\n",
    "])).doit()"
   ]
  },
  {
   "cell_type": "code",
   "execution_count": 130,
   "id": "30829e0e-74c4-4521-9a20-117356857338",
   "metadata": {},
   "outputs": [
    {
     "data": {
      "text/latex": [
       "$\\displaystyle q{\\left(z \\right)} = \\frac{2 p - 2}{12 W{\\left(z \\right)} + 3}$"
      ],
      "text/plain": [
       "Eq(q(z), (2*p - 2)/(12*W(z) + 3))"
      ]
     },
     "execution_count": 130,
     "metadata": {},
     "output_type": "execute_result"
    }
   ],
   "source": [
    "qW_sub = Eq(q(z), 0*Rational(1,2) + 2*(p-1)/(12*W(z) +3))\n",
    "qW_sub"
   ]
  },
  {
   "cell_type": "code",
   "execution_count": 145,
   "id": "4520f143-5339-4b7d-9dc4-d65f96def09a",
   "metadata": {},
   "outputs": [
    {
     "data": {
      "text/latex": [
       "$\\displaystyle \\left(\\frac{d}{d z} W{\\left(z \\right)}\\right)^{2} = \\left(- \\frac{2 p}{3} - \\frac{1}{12}\\right) W{\\left(z \\right)} + 4 W^{3}{\\left(z \\right)} - \\frac{p^{2}}{27} - \\frac{5 p}{54} + \\frac{1}{216}$"
      ],
      "text/plain": [
       "Eq(Derivative(W(z), z)**2, (-2*p/3 - 1/12)*W(z) + 4*W(z)**3 - p**2/27 - 5*p/54 + 1/216)"
      ]
     },
     "execution_count": 145,
     "metadata": {},
     "output_type": "execute_result"
    }
   ],
   "source": [
    "dWsqrd = Eq(diff(W(z),z)**2, solve(dq_sqrd.subs(*qW_sub.args).doit(), diff(W(z),z)**2)[0].simplify().collect(W(z)))\n",
    "dWsqrd"
   ]
  },
  {
   "cell_type": "code",
   "execution_count": 138,
   "id": "9898a0f5-5aaf-475b-b55a-c8b144b4625c",
   "metadata": {},
   "outputs": [
    {
     "data": {
      "text/latex": [
       "$\\displaystyle r{\\left(z \\right)} = \\frac{6 \\frac{d}{d z} W{\\left(z \\right)}}{12 W{\\left(z \\right)} + 3}$"
      ],
      "text/plain": [
       "Eq(r(z), 6*Derivative(W(z), z)/(12*W(z) + 3))"
      ]
     },
     "execution_count": 138,
     "metadata": {},
     "output_type": "execute_result"
    }
   ],
   "source": [
    "r_log_diff_q = Eq(r(z), solve(qr_sols_pm_eqs[0],r(z))[0]).subs(*qW_sub.args).doit()\n",
    "r_log_diff_q"
   ]
  },
  {
   "cell_type": "code",
   "execution_count": 142,
   "id": "bbc543fa-9d2e-404f-9b68-7e76568d219e",
   "metadata": {},
   "outputs": [
    {
     "data": {
      "text/latex": [
       "$\\displaystyle u{\\left(z \\right)} = \\frac{1}{2} + \\frac{2 p - 2}{12 W{\\left(z \\right)} + 3} - \\frac{6 \\frac{d}{d z} W{\\left(z \\right)}}{12 W{\\left(z \\right)} + 3}$"
      ],
      "text/plain": [
       "Eq(u(z), 1/2 + (2*p - 2)/(12*W(z) + 3) - 6*Derivative(W(z), z)/(12*W(z) + 3))"
      ]
     },
     "execution_count": 142,
     "metadata": {},
     "output_type": "execute_result"
    },
    {
     "data": {
      "text/latex": [
       "$\\displaystyle v{\\left(z \\right)} = \\frac{1}{2} + \\frac{2 p - 2}{12 W{\\left(z \\right)} + 3} + \\frac{6 \\frac{d}{d z} W{\\left(z \\right)}}{12 W{\\left(z \\right)} + 3}$"
      ],
      "text/plain": [
       "Eq(v(z), 1/2 + (2*p - 2)/(12*W(z) + 3) + 6*Derivative(W(z), z)/(12*W(z) + 3))"
      ]
     },
     "execution_count": 142,
     "metadata": {},
     "output_type": "execute_result"
    }
   ],
   "source": [
    "rqW_subs = [qW_sub.args, r_log_diff_q.args]\n",
    "u_q_min_r.subs(rqW_subs)\n",
    "v_q_plus_r.subs(rqW_subs)"
   ]
  },
  {
   "cell_type": "code",
   "execution_count": 168,
   "id": "d9a527d9-97a6-47b4-b17d-c0bf082430fc",
   "metadata": {},
   "outputs": [
    {
     "data": {
      "text/latex": [
       "$\\displaystyle W{\\left(\\xi \\right)} = - \\frac{1}{4}$"
      ],
      "text/plain": [
       "Eq(W(xi), -1/4)"
      ]
     },
     "execution_count": 168,
     "metadata": {},
     "output_type": "execute_result"
    },
    {
     "data": {
      "text/latex": [
       "$\\displaystyle \\left. \\frac{d}{d z} W{\\left(z \\right)} \\right|_{\\substack{ z=\\xi }}^{2} = - \\frac{\\left(p - 1\\right)^{2}}{27}$"
      ],
      "text/plain": [
       "Eq(Subs(Derivative(W(z), z), z, xi)**2, -(p - 1)**2/27)"
      ]
     },
     "execution_count": 168,
     "metadata": {},
     "output_type": "execute_result"
    },
    {
     "data": {
      "text/latex": [
       "$\\displaystyle \\left. \\frac{d}{d z} W{\\left(z \\right)} \\right|_{\\substack{ z=\\xi }} = \\frac{\\sqrt{3} i \\left(p - 1\\right)}{9}$"
      ],
      "text/plain": [
       "Eq(Subs(Derivative(W(z), z), z, xi), sqrt(3)*I*(p - 1)/9)"
      ]
     },
     "execution_count": 168,
     "metadata": {},
     "output_type": "execute_result"
    },
    {
     "data": {
      "text/latex": [
       "$\\displaystyle p = - 3 \\sqrt{3} i \\left. \\frac{d}{d z} W{\\left(z \\right)} \\right|_{\\substack{ z=\\xi }} + 1$"
      ],
      "text/plain": [
       "Eq(p, -3*sqrt(3)*I*Subs(Derivative(W(z), z), z, xi) + 1)"
      ]
     },
     "execution_count": 168,
     "metadata": {},
     "output_type": "execute_result"
    }
   ],
   "source": [
    "W_xi = Eq(W(xi), -Rational(1,4))\n",
    "dW_xi_sqrd = dWsqrd.subs(z,xi).subs(*W_xi.args)\n",
    "dW_xi_sqrd = Eq(dW_xi_sqrd.lhs, dW_xi_sqrd.rhs.factor())\n",
    "dW_xi = Eq(Derivative(W(z),z).subs(z,xi), I*(p-1)/sqrt(27))\n",
    "p_dW_xi = Eq(p, solve(dW_xi, p)[0])\n",
    "W_xi\n",
    "dW_xi_sqrd\n",
    "dW_xi\n",
    "p_dW_xi"
   ]
  },
  {
   "cell_type": "code",
   "execution_count": 165,
   "id": "e3846c6f-2571-477c-a98e-efa42075c775",
   "metadata": {},
   "outputs": [
    {
     "data": {
      "text/latex": [
       "$\\displaystyle \\frac{\\frac{d}{d z} W{\\left(z \\right)} - \\left. \\frac{d}{d z} W{\\left(z \\right)} \\right|_{\\substack{ z=\\xi }}}{W{\\left(z \\right)} - W{\\left(\\xi \\right)}} = \\frac{4 \\left(\\sqrt{3} i \\left(1 - p\\right) + 9 \\frac{d}{d z} W{\\left(z \\right)}\\right)}{9 \\cdot \\left(4 W{\\left(z \\right)} + 1\\right)}$"
      ],
      "text/plain": [
       "Eq((Derivative(W(z), z) - Subs(Derivative(W(z), z), z, xi))/(W(z) - W(xi)), 4*(sqrt(3)*I*(1 - p) + 9*Derivative(W(z), z))/(9*(4*W(z) + 1)))"
      ]
     },
     "execution_count": 165,
     "metadata": {},
     "output_type": "execute_result"
    }
   ],
   "source": [
    "Eq((diff(W(z),z) - diff(W(z),z).subs(z,xi))/(W(z) - W(xi)),\n",
    "   ((diff(W(z),z) - diff(W(z),z).subs(z,xi))/(W(z) - W(xi))).subs([W_xi.args, dW_xi.args]).simplify())"
   ]
  },
  {
   "cell_type": "code",
   "execution_count": 181,
   "id": "a44e429b-86a8-4a05-8cec-093fddf61980",
   "metadata": {},
   "outputs": [
    {
     "data": {
      "text/latex": [
       "$\\displaystyle u{\\left(z \\right)} = \\frac{1}{2} + \\frac{\\frac{d}{d z} W{\\left(z \\right)}}{- 2 W{\\left(z \\right)} + 2 W{\\left(\\xi \\right)}} + \\frac{\\sqrt{3} i \\left. \\frac{d}{d z} W{\\left(z \\right)} \\right|_{\\substack{ z=\\xi }}}{- 2 W{\\left(z \\right)} + 2 W{\\left(\\xi \\right)}}$"
      ],
      "text/plain": [
       "Eq(u(z), 1/2 + Derivative(W(z), z)/(-2*W(z) + 2*W(xi)) + sqrt(3)*I*Subs(Derivative(W(z), z), z, xi)/(-2*W(z) + 2*W(xi)))"
      ]
     },
     "execution_count": 181,
     "metadata": {},
     "output_type": "execute_result"
    }
   ],
   "source": [
    "Eq(u_q_min_r.lhs, \n",
    "   (u_q_min_r.rhs.subs(rqW_subs).subs(*p_dW_xi.args).subs(12*W(z)+3,12*W(z)-12*W(xi)) - Rational(1,2)).simplify().expand() + Rational(1,2))"
   ]
  },
  {
   "cell_type": "markdown",
   "id": "9b168798-031c-4fd9-844e-17d4c5bf0a68",
   "metadata": {},
   "source": [
    "## Other ideas..."
   ]
  },
  {
   "cell_type": "code",
   "execution_count": 52,
   "id": "4e674988-2c51-4606-853f-03fea71a5a11",
   "metadata": {},
   "outputs": [
    {
     "data": {
      "text/latex": [
       "$\\displaystyle r{\\left(z \\right)} = - \\frac{\\frac{d}{d z} q{\\left(z \\right)}}{2 q{\\left(z \\right)} - 1}$"
      ],
      "text/plain": [
       "Eq(r(z), -Derivative(q(z), z)/(2*q(z) - 1))"
      ]
     },
     "execution_count": 52,
     "metadata": {},
     "output_type": "execute_result"
    }
   ],
   "source": [
    "rz_in_q = Eq(r(z), solve(qr_sols_pm_eqs[0],r(z))[0])\n",
    "rz_in_q"
   ]
  },
  {
   "cell_type": "code",
   "execution_count": 54,
   "id": "8ee59fde-b797-4892-80b5-bd9ec5eff8b8",
   "metadata": {},
   "outputs": [
    {
     "data": {
      "text/latex": [
       "$\\displaystyle - \\left(q{\\left(z \\right)} + 1\\right) \\left(2 q{\\left(z \\right)} - 1\\right)^{2} q{\\left(z \\right)} - \\left(2 q{\\left(z \\right)} - 1\\right) \\frac{d^{2}}{d z^{2}} q{\\left(z \\right)} + \\left(\\frac{d}{d z} q{\\left(z \\right)}\\right)^{2} = 0$"
      ],
      "text/plain": [
       "Eq(-(q(z) + 1)*(2*q(z) - 1)**2*q(z) - (2*q(z) - 1)*Derivative(q(z), (z, 2)) + Derivative(q(z), z)**2, 0)"
      ]
     },
     "execution_count": 54,
     "metadata": {},
     "output_type": "execute_result"
    }
   ],
   "source": [
    "dq_only = qr_sols_pm_eqs[1].subs(*rz_in_q.args).doit()\n",
    "dq_only = Eq(((dq_only.lhs - dq_only.rhs)*(2*q(z)-1)**2).simplify(), 0)\n",
    "dq_only"
   ]
  },
  {
   "cell_type": "code",
   "execution_count": 55,
   "id": "2d31b3f0-9637-4fc2-8ec1-ceab18262ab9",
   "metadata": {},
   "outputs": [
    {
     "data": {
      "text/latex": [
       "$\\displaystyle q{\\left(z \\right)} = \\frac{f^{2}{\\left(z \\right)}}{2} + \\frac{1}{2}$"
      ],
      "text/plain": [
       "Eq(q(z), f(z)**2/2 + 1/2)"
      ]
     },
     "execution_count": 55,
     "metadata": {},
     "output_type": "execute_result"
    }
   ],
   "source": [
    "q_f = Eq(q(z),(f(z)**2+1)/2)\n",
    "q_f"
   ]
  },
  {
   "cell_type": "code",
   "execution_count": 56,
   "id": "e1291b7b-42c6-4d45-94e1-393b250541cd",
   "metadata": {},
   "outputs": [
    {
     "data": {
      "text/latex": [
       "$\\displaystyle f^{5}{\\left(z \\right)} + 4 f^{3}{\\left(z \\right)} + 3 f{\\left(z \\right)} + 4 \\frac{d^{2}}{d z^{2}} f{\\left(z \\right)} = 0$"
      ],
      "text/plain": [
       "Eq(f(z)**5 + 4*f(z)**3 + 3*f(z) + 4*Derivative(f(z), (z, 2)), 0)"
      ]
     },
     "execution_count": 56,
     "metadata": {},
     "output_type": "execute_result"
    }
   ],
   "source": [
    "df = Eq(-dq_only.subs(*q_f.args).doit().lhs.expand().collect(diff(f(z),z)**2,factor)*4/f(z)**3,0)\n",
    "df"
   ]
  },
  {
   "cell_type": "code",
   "execution_count": 40,
   "id": "7187b4b6-5fb4-45b3-b80a-3a19ef7dffae",
   "metadata": {},
   "outputs": [
    {
     "data": {
      "text/latex": [
       "$\\displaystyle \\left(\\frac{d}{d z} f{\\left(z \\right)}\\right)^{2} = f^{6}{\\left(z \\right)} {c}_{3} + f^{4}{\\left(z \\right)} {c}_{2} + f^{2}{\\left(z \\right)} {c}_{1} + {c}_{0}$"
      ],
      "text/plain": [
       "Eq(Derivative(f(z), z)**2, f(z)**6*c[3] + f(z)**4*c[2] + f(z)**2*c[1] + c[0])"
      ]
     },
     "execution_count": 40,
     "metadata": {},
     "output_type": "execute_result"
    },
    {
     "data": {
      "text/latex": [
       "$\\displaystyle \\frac{d}{d z} \\left(\\frac{d}{d z} f{\\left(z \\right)}\\right)^{2} = \\frac{\\partial}{\\partial z} \\left(f^{6}{\\left(z \\right)} {c}_{3} + f^{4}{\\left(z \\right)} {c}_{2} + f^{2}{\\left(z \\right)} {c}_{1} + {c}_{0}\\right)$"
      ],
      "text/plain": [
       "Eq(Derivative(Derivative(f(z), z)**2, z), Derivative(f(z)**6*c[3] + f(z)**4*c[2] + f(z)**2*c[1] + c[0], z))"
      ]
     },
     "execution_count": 40,
     "metadata": {},
     "output_type": "execute_result"
    },
    {
     "data": {
      "text/latex": [
       "$\\displaystyle 2 \\frac{d}{d z} f{\\left(z \\right)} \\frac{d^{2}}{d z^{2}} f{\\left(z \\right)} = 6 f^{5}{\\left(z \\right)} \\frac{d}{d z} f{\\left(z \\right)} {c}_{3} + 4 f^{3}{\\left(z \\right)} \\frac{d}{d z} f{\\left(z \\right)} {c}_{2} + 2 f{\\left(z \\right)} \\frac{d}{d z} f{\\left(z \\right)} {c}_{1}$"
      ],
      "text/plain": [
       "Eq(2*Derivative(f(z), z)*Derivative(f(z), (z, 2)), 6*f(z)**5*Derivative(f(z), z)*c[3] + 4*f(z)**3*Derivative(f(z), z)*c[2] + 2*f(z)*Derivative(f(z), z)*c[1])"
      ]
     },
     "execution_count": 40,
     "metadata": {},
     "output_type": "execute_result"
    },
    {
     "data": {
      "text/latex": [
       "$\\displaystyle \\frac{d^{2}}{d z^{2}} f{\\left(z \\right)} = 3 f^{5}{\\left(z \\right)} {c}_{3} + 2 f^{3}{\\left(z \\right)} {c}_{2} + f{\\left(z \\right)} {c}_{1}$"
      ],
      "text/plain": [
       "Eq(Derivative(f(z), (z, 2)), 3*f(z)**5*c[3] + 2*f(z)**3*c[2] + f(z)*c[1])"
      ]
     },
     "execution_count": 40,
     "metadata": {},
     "output_type": "execute_result"
    }
   ],
   "source": [
    "Eq(diff(f(z),z)**2,c[0] + c[1]*f(z)**2 + c[2]*f(z)**4 +c[3]*f(z)**6)\n",
    "Eq(Derivative(diff(f(z),z)**2,z),Derivative(c[0] + c[1]*f(z)**2 + c[2]*f(z)**4 +c[3]*f(z)**6,z))\n",
    "Eq(diff(diff(f(z),z)**2,z),diff(c[0] + c[1]*f(z)**2 + c[2]*f(z)**4 +c[3]*f(z)**6,z))\n",
    "Eq(diff(diff(f(z),z)**2,z)/diff(f(z),z)/2,diff(c[0] + c[1]*f(z)**2 + c[2]*f(z)**4 +c[3]*f(z)**6,z)/diff(f(z),z)/2).expand()"
   ]
  },
  {
   "cell_type": "code",
   "execution_count": 33,
   "id": "6d90dde6-9b77-4126-8190-56ef9bf60bad",
   "metadata": {},
   "outputs": [
    {
     "data": {
      "text/latex": [
       "$\\displaystyle \\frac{\\left(\\frac{d}{d z} h{\\left(z \\right)}\\right)^{2}}{4 h{\\left(z \\right)}} = h^{3}{\\left(z \\right)} {c}_{3} + h^{2}{\\left(z \\right)} {c}_{2} + h{\\left(z \\right)} {c}_{1} + {c}_{0}$"
      ],
      "text/plain": [
       "Eq(Derivative(h(z), z)**2/(4*h(z)), h(z)**3*c[3] + h(z)**2*c[2] + h(z)*c[1] + c[0])"
      ]
     },
     "execution_count": 33,
     "metadata": {},
     "output_type": "execute_result"
    }
   ],
   "source": [
    "Eq(diff(f(z),z)**2,c[0] + c[1]*f(z)**2 + c[2]*f(z)**4 +c[3]*f(z)**6).subs(f(z),h(z)**Rational(1,2)).doit()"
   ]
  },
  {
   "cell_type": "code",
   "execution_count": 171,
   "id": "35795cda-f240-4397-a8c9-b4ce825c4b27",
   "metadata": {},
   "outputs": [
    {
     "data": {
      "text/latex": [
       "$\\displaystyle r{\\left(z \\right)} = - \\frac{\\frac{d}{d z} h{\\left(z \\right)}}{2 h{\\left(z \\right)}}$"
      ],
      "text/plain": [
       "Eq(r(z), -Derivative(h(z), z)/(2*h(z)))"
      ]
     },
     "execution_count": 171,
     "metadata": {},
     "output_type": "execute_result"
    }
   ],
   "source": [
    "rz_in_q.subs(*q_f.args).subs(f(z),h(z)**Rational(1,2)).simplify()"
   ]
  },
  {
   "cell_type": "code",
   "execution_count": null,
   "id": "abc3170f-c23b-4ca7-aed0-be6cc1993b52",
   "metadata": {},
   "outputs": [],
   "source": []
  }
 ],
 "metadata": {
  "kernelspec": {
   "display_name": "Python 3 (ipykernel)",
   "language": "python",
   "name": "python3"
  },
  "language_info": {
   "codemirror_mode": {
    "name": "ipython",
    "version": 3
   },
   "file_extension": ".py",
   "mimetype": "text/x-python",
   "name": "python",
   "nbconvert_exporter": "python",
   "pygments_lexer": "ipython3",
   "version": "3.10.13"
  }
 },
 "nbformat": 4,
 "nbformat_minor": 5
}
