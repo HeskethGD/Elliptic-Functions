{
 "cells": [
  {
   "cell_type": "markdown",
   "id": "a025d763",
   "metadata": {},
   "source": [
    "# Fourth order Dixon functions as Kronecker theta functions derived from the Frobenius-Stickelberger determinant\n",
    "\n",
    "Inspired by the derivation of the Dixon elliptic functions as fully degenerate systems of Kronecker theta functions involving products of three modes in the Hamiltonian, this work looks to generalise that idea to the case of products of four modes in the Hamiltonian. \n",
    "\n",
    "It is suspected that the differential equations derived herein describe the propagation of a single frequency, single polarization optical beam interacting nonlinearly with its reflected self through Kerr nonlinearity under the conditions of perfect reflection, such that the backward travelling beam is the complex conjugate of the forward travelling beam, and in the absence of dispersive effects."
   ]
  },
  {
   "cell_type": "code",
   "execution_count": 1,
   "id": "c969311f",
   "metadata": {},
   "outputs": [],
   "source": [
    "from sympy import *\n",
    "(x, y, X, Y, Z, B, C, n, m, l, j, q, N, M, K, k, z, s, p1, p2, p3, g2, g3,\n",
    " z0, w1, w2, w3, e1, e2, e3, Delta, \n",
    " omega1, omega2, omega3, eta1, eta2, eta3, d1, d2, d3) = symbols(\n",
    "    '''x, y, X, Y, Z, B, C, n, m, l, j, q, N, M, K, k, z, s, p1, p2, p3, g2, g3,\n",
    "    z0, w1, w2, w3, e1, e2, e3, Delta, \n",
    "    omega1, omega2, omega3, eta1, eta2, eta3, d1, d2, d3'''\n",
    ")\n",
    "alpha, delta, t, nu, theta = symbols('alpha, delta, t, nu, theta')\n",
    "pw = Function('pw') # Weierstrass P function\n",
    "pwp = Function('pwp') # Derivative of Weierstrass P function\n",
    "zw = Function('zw') # Weierstrass Zeta function\n",
    "sigma = Function('sigma') # Weierstrass Sigma function\n",
    "rho = Function('rho')\n",
    "f = Function('f')\n",
    "h = Function('h')\n",
    "s = Function('s')\n",
    "P = Function('P') # Polynomial\n",
    "Q = Function('Q') # Polynomial\n",
    "phi = Function('phi')\n",
    "Phi = Function('Phi')\n",
    "phi1 = Function('phi1')\n",
    "phi2 = Function('phi2')\n",
    "phi3 = Function('phi3')\n",
    "A = IndexedBase('A')\n",
    "W1 = Function('W1')\n",
    "W2 = Function('W2')\n",
    "W3 = Function('W3')\n",
    "W4 = Function('W4')\n",
    "W5 = Function('W5')\n",
    "W6 = Function('W6')\n",
    "Det = Function(\"Det\")\n",
    "\n",
    "kappa = IndexedBase('kappa')\n",
    "beta = IndexedBase('beta')\n",
    "mu = IndexedBase('mu')\n",
    "xi = IndexedBase('xi')\n",
    "a = IndexedBase('a')\n",
    "b = IndexedBase('b')\n",
    "c = IndexedBase('c')\n",
    "d = IndexedBase('d')\n",
    "p = IndexedBase('p')\n",
    "G = IndexedBase('G')\n",
    "psi = IndexedBase('psi')\n",
    "upsilon = IndexedBase('upsilon')\n",
    "epsilon = IndexedBase('epsilon')\n",
    "WPdet = Function('WPdet')\n",
    "U = Function('U')\n",
    "V = Function('V')\n",
    "W = Function('W')\n",
    "\n",
    "from IPython.core.interactiveshell import InteractiveShell\n",
    "InteractiveShell.ast_node_interactivity = 'all'\n",
    "\n",
    "# kth order derivatives of Weierstrass P\n",
    "from wpk import wpk, run_tests\n",
    "\n",
    "# The package containing mpmath expressions for Weierstrass elliptic functions\n",
    "from numerical_evaluation.weierstrass_modified import Weierstrass\n",
    "we = Weierstrass()\n",
    "from mpmath import exp as mpexp"
   ]
  },
  {
   "cell_type": "code",
   "execution_count": 2,
   "id": "6337b681",
   "metadata": {},
   "outputs": [
    {
     "name": "stdout",
     "output_type": "stream",
     "text": [
      "True\n",
      "True\n",
      "True\n",
      "True\n",
      "True\n",
      "True\n"
     ]
    }
   ],
   "source": [
    "run_tests()"
   ]
  },
  {
   "cell_type": "markdown",
   "id": "065da86e",
   "metadata": {},
   "source": [
    "## Quasi Periodicity"
   ]
  },
  {
   "cell_type": "code",
   "execution_count": 3,
   "id": "ab5c1c01",
   "metadata": {},
   "outputs": [
    {
     "data": {
      "text/latex": [
       "$\\displaystyle \\sigma{\\left(2 m \\omega_{3} + 2 n \\omega_{1} + z,g_{2},g_{3} \\right)} = \\left(-1\\right)^{m n + m + n} \\sigma{\\left(z,g_{2},g_{3} \\right)} e^{2 \\eta_{1} m n \\omega_{3} + 2 \\eta_{1} n^{2} \\omega_{1} + 2 \\eta_{1} n z + 2 \\eta_{3} m^{2} \\omega_{3} + 2 \\eta_{3} m n \\omega_{1} + 2 \\eta_{3} m z}$"
      ],
      "text/plain": [
       "Eq(sigma(2*m*omega3 + 2*n*omega1 + z, g2, g3), (-1)**(m*n + m + n)*sigma(z, g2, g3)*exp(2*eta1*m*n*omega3 + 2*eta1*n**2*omega1 + 2*eta1*n*z + 2*eta3*m**2*omega3 + 2*eta3*m*n*omega1 + 2*eta3*m*z))"
      ]
     },
     "execution_count": 3,
     "metadata": {},
     "output_type": "execute_result"
    }
   ],
   "source": [
    "quasi_period = Eq(sigma(2*m*omega3 + 2*n*omega1 + z, g2, g3),\n",
    " (-1)**(m*n + m + n)*sigma(z, g2, g3)*\n",
    "                  exp(2*eta1*m*n*omega3 + 2*eta1*n**2*omega1 + 2*eta1*n*z + \n",
    "                      2*eta3*m**2*omega3 + 2*eta3*m*n*omega1 + 2*eta3*m*z)\n",
    "                 )\n",
    "\n",
    "quasi_period"
   ]
  },
  {
   "cell_type": "markdown",
   "id": "5735b4d3",
   "metadata": {},
   "source": [
    "## Weierstrass elliptic function identities"
   ]
  },
  {
   "cell_type": "code",
   "execution_count": 4,
   "id": "051f8c1d",
   "metadata": {},
   "outputs": [
    {
     "data": {
      "text/latex": [
       "$\\displaystyle \\operatorname{pw}{\\left(x + y,g_{2},g_{3} \\right)} = - \\operatorname{pw}{\\left(x,g_{2},g_{3} \\right)} - \\operatorname{pw}{\\left(y,g_{2},g_{3} \\right)} + \\frac{\\left(\\operatorname{pwp}{\\left(x,g_{2},g_{3} \\right)} - \\operatorname{pwp}{\\left(y,g_{2},g_{3} \\right)}\\right)^{2}}{4 \\left(\\operatorname{pw}{\\left(x,g_{2},g_{3} \\right)} - \\operatorname{pw}{\\left(y,g_{2},g_{3} \\right)}\\right)^{2}}$"
      ],
      "text/plain": [
       "Eq(pw(x + y, g2, g3), -pw(x, g2, g3) - pw(y, g2, g3) + (pwp(x, g2, g3) - pwp(y, g2, g3))**2/(4*(pw(x, g2, g3) - pw(y, g2, g3))**2))"
      ]
     },
     "execution_count": 4,
     "metadata": {},
     "output_type": "execute_result"
    },
    {
     "data": {
      "text/latex": [
       "$\\displaystyle \\operatorname{pw}{\\left(2 z,g_{2},g_{3} \\right)} = - 2 \\operatorname{pw}{\\left(z,g_{2},g_{3} \\right)} + \\frac{\\left(\\frac{\\partial^{2}}{\\partial z^{2}} \\operatorname{pw}{\\left(z,g_{2},g_{3} \\right)}\\right)^{2}}{4 \\left(\\frac{\\partial}{\\partial z} \\operatorname{pw}{\\left(z,g_{2},g_{3} \\right)}\\right)^{2}}$"
      ],
      "text/plain": [
       "Eq(pw(2*z, g2, g3), -2*pw(z, g2, g3) + Derivative(pw(z, g2, g3), (z, 2))**2/(4*Derivative(pw(z, g2, g3), z)**2))"
      ]
     },
     "execution_count": 4,
     "metadata": {},
     "output_type": "execute_result"
    },
    {
     "data": {
      "text/latex": [
       "$\\displaystyle \\operatorname{pw}{\\left(2 z,g_{2},g_{3} \\right)} = \\frac{\\left(- \\frac{g_{2}}{2} + 6 \\operatorname{pw}^{2}{\\left(z,g_{2},g_{3} \\right)}\\right)^{2}}{4 \\operatorname{pwp}^{2}{\\left(z,g_{2},g_{3} \\right)}} - 2 \\operatorname{pw}{\\left(z,g_{2},g_{3} \\right)}$"
      ],
      "text/plain": [
       "Eq(pw(2*z, g2, g3), (-g2/2 + 6*pw(z, g2, g3)**2)**2/(4*pwp(z, g2, g3)**2) - 2*pw(z, g2, g3))"
      ]
     },
     "execution_count": 4,
     "metadata": {},
     "output_type": "execute_result"
    },
    {
     "data": {
      "text/latex": [
       "$\\displaystyle - \\operatorname{pw}{\\left(x,g_{2},g_{3} \\right)} + \\operatorname{pw}{\\left(y,g_{2},g_{3} \\right)} = \\frac{\\sigma{\\left(x - y,g_{2},g_{3} \\right)} \\sigma{\\left(x + y,g_{2},g_{3} \\right)}}{\\sigma^{2}{\\left(x,g_{2},g_{3} \\right)} \\sigma^{2}{\\left(y,g_{2},g_{3} \\right)}}$"
      ],
      "text/plain": [
       "Eq(-pw(x, g2, g3) + pw(y, g2, g3), sigma(x - y, g2, g3)*sigma(x + y, g2, g3)/(sigma(x, g2, g3)**2*sigma(y, g2, g3)**2))"
      ]
     },
     "execution_count": 4,
     "metadata": {},
     "output_type": "execute_result"
    },
    {
     "data": {
      "text/latex": [
       "$\\displaystyle \\frac{\\operatorname{pwp}{\\left(x,g_{2},g_{3} \\right)} - \\operatorname{pwp}{\\left(y,g_{2},g_{3} \\right)}}{2 \\left(\\operatorname{pw}{\\left(x,g_{2},g_{3} \\right)} - \\operatorname{pw}{\\left(y,g_{2},g_{3} \\right)}\\right)} = - \\operatorname{zw}{\\left(x,g_{2},g_{3} \\right)} - \\operatorname{zw}{\\left(y,g_{2},g_{3} \\right)} + \\operatorname{zw}{\\left(x + y,g_{2},g_{3} \\right)}$"
      ],
      "text/plain": [
       "Eq((pwp(x, g2, g3) - pwp(y, g2, g3))/(2*(pw(x, g2, g3) - pw(y, g2, g3))), -zw(x, g2, g3) - zw(y, g2, g3) + zw(x + y, g2, g3))"
      ]
     },
     "execution_count": 4,
     "metadata": {},
     "output_type": "execute_result"
    },
    {
     "data": {
      "text/latex": [
       "$\\displaystyle \\operatorname{zw}{\\left(2 z,g_{2},g_{3} \\right)} = \\frac{- \\frac{g_{2}}{2} + 6 \\operatorname{pw}^{2}{\\left(z,g_{2},g_{3} \\right)}}{2 \\operatorname{pwp}{\\left(z,g_{2},g_{3} \\right)}} + 2 \\operatorname{zw}{\\left(z,g_{2},g_{3} \\right)}$"
      ],
      "text/plain": [
       "Eq(zw(2*z, g2, g3), (-g2/2 + 6*pw(z, g2, g3)**2)/(2*pwp(z, g2, g3)) + 2*zw(z, g2, g3))"
      ]
     },
     "execution_count": 4,
     "metadata": {},
     "output_type": "execute_result"
    }
   ],
   "source": [
    "pw_xy_addition = Eq(pw(x+y,g2,g3), \n",
    "   ((pwp(x, g2, g3) - pwp(y, g2, g3))**2/(pw(x, g2, g3) - pw(y, g2, g3))**2)/4 - pw(x, g2, g3) - pw(y, g2, g3)\n",
    ")\n",
    "p_duplication_a = Eq(pw(2*z,g2,g3), -2*pw(z,g2,g3) + ((diff(pw(z,g2,g3),z,2)/diff(pw(z,g2,g3),z,1))**2)/4)\n",
    "p_duplication_b = Eq(pw(2*z, g2, g3), (-g2/2 + 6*pw(z, g2, g3)**2)**2/(4*pwp(z, g2, g3)**2) - 2*pw(z, g2, g3))\n",
    "\n",
    "sigma_p_identity = Eq(\n",
    "    pw(y, g2, g3) - pw(x, g2, g3),\n",
    "    sigma(x + y, g2, g3) * sigma(x - y, g2, g3) / (sigma(x, g2, g3) ** 2 * sigma(y, g2, g3) ** 2) \n",
    ")\n",
    "\n",
    "pw_to_zw_identity = Eq(\n",
    "    (pwp(x,g2,g3) - pwp(y,g2,g3))/(pw(x,g2,g3) - pw(y,g2,g3))/2,\n",
    "    zw(x + y,g2, g3) - zw(x,g2, g3) - zw(y,g2, g3)\n",
    ")\n",
    "\n",
    "# 23.10.9 https://dlmf.nist.gov/23.10#E9\n",
    "zw2z_2zwz = Eq(zw(2*z,g2,g3), 2*zw(z,g2,g3) + diff(zw(z,g2,g3),z,3)/diff(zw(z,g2,g3),z,2)/2)\n",
    "dzw_2 = Eq(diff(zw(z,g2,g3),z,2), -pwp(z,g2,g3))\n",
    "dzw_3 = Eq(diff(zw(z,g2,g3),z,3), -diff(pwp(z,g2,g3),z))\n",
    "pwp_def = Eq(pwp(z,g2,g3)**2, 4*pw(z,g2,g3)**3 - g2*pw(z,g2,g3) - g3)\n",
    "pwp2_def = Eq(diff(pwp_def.lhs,z)/pwp(z,g2,g3)/2, \n",
    "              diff(pwp_def.rhs,z).subs(diff(pw(z,g2,g3),z),pwp(z,g2,g3))/pwp(z,g2,g3)/2).expand()\n",
    "zw2z_2zwz_pw_pwp = zw2z_2zwz.subs([dzw_3.args, dzw_2.args]).subs(*pwp2_def.args)\n",
    "\n",
    "pw_xy_addition\n",
    "p_duplication_a\n",
    "p_duplication_b\n",
    "sigma_p_identity\n",
    "pw_to_zw_identity\n",
    "zw2z_2zwz_pw_pwp"
   ]
  },
  {
   "cell_type": "markdown",
   "id": "eb55a9db",
   "metadata": {},
   "source": [
    "## Frobenius Stickelberger determinant formula for Kronecker theta functions"
   ]
  },
  {
   "cell_type": "code",
   "execution_count": 5,
   "id": "523319c6",
   "metadata": {},
   "outputs": [],
   "source": [
    "sigma_product_f_s = (\n",
    "    (-1)**(N*(N-1)/2)*\n",
    "    Product(factorial(k),(k,1,N))*\n",
    "    sigma(Sum(mu[j],(j,0,N)),g2,g3)*\n",
    "    Product(Product(Piecewise((sigma(mu[l] - mu[m], g2, g3),l<m),(1,True)),(l,0,N)),(m,0,N))/\n",
    "    Product(sigma(mu[n],g2,g3)**(N+1),(n,0,N))\n",
    ")\n",
    "\n",
    "def frob_stick(Nval, evaluated=False, WPversion=False):\n",
    "    \"\"\"\n",
    "    Frobenius Stickelberger in its original form\n",
    "    \"\"\"\n",
    "    if evaluated:\n",
    "        return Eq(p_matrix_f_s(Nval).det(), sigma_product_f_s.subs(N,Nval).doit())\n",
    "    elif WPversion:\n",
    "        return Eq(WPdet(Nval), sigma_product_f_s.subs(N,Nval).doit())\n",
    "    return Eq(Det(p_matrix_f_s(Nval)), sigma_product_f_s.subs(N,Nval).doit())"
   ]
  },
  {
   "cell_type": "code",
   "execution_count": 6,
   "id": "8fee0e64",
   "metadata": {},
   "outputs": [],
   "source": [
    "sigma_product_f_s_N_factored = (\n",
    "    (-1)**(N*(N-1)/2)*\n",
    "    Product(factorial(k),(k,1,N-1))*\n",
    "    factorial(N)*\n",
    "    sigma(Sum(mu[j],(j,0,N)),g2,g3)*\n",
    "    Product(Product(Piecewise((sigma(mu[l] - mu[m], g2, g3),l<m),(1,True)),(l,0,N-1)),(m,0,N-1))*\n",
    "    Product(Piecewise((sigma(mu[l] - mu[N], g2, g3),l<N),(1,True)),(l,0,N))/\n",
    "    Product(sigma(mu[n],g2,g3)**(N),(n,0,N))/\n",
    "    Product(sigma(mu[n],g2,g3),(n,0,N))\n",
    ")\n",
    "\n",
    "sigma_product_f_s_N_over_N_minus_1 = (sigma_product_f_s_N_factored/sigma_product_f_s.subs(N,N-1))\n",
    "\n",
    "subs1_list = [\n",
    "    (Product(Piecewise((sigma(mu[l] - mu[N], g2, g3),l<N),(1,True)),(l,0,N)), \n",
    "     (-1)**N*Product(sigma(z - xi[l], g2, g3),(l,0,N))/sigma(z - xi[N], g2, g3)),\n",
    "    (Product(sigma(mu[n],g2,g3),(n,0,N)),Product(sigma(xi[n],g2,g3),(n,0,N))*sigma(z,g2,g3)/sigma(xi[N],g2,g3)),\n",
    "    (sigma(Sum(mu[j],(j,0,N-1)),g2,g3),-sigma(xi[N],g2,g3)),\n",
    "    (Sum(mu[j],(j,0,N)),-xi[N]+z),\n",
    "    (sigma(mu[N],g2,g3),sigma(z,g2,g3))\n",
    "]\n",
    "subs2_list = [\n",
    "    ((-1)**(2*N)*Product(sigma(z - xi[l], g2, g3),(l,0,N)), \n",
    "   Product(sigma(z - xi[l], g2, g3)/sigma(xi[l], g2, g3)/sigma(z, g2, g3),(l,0,N)) *\n",
    "   Product(sigma(xi[n], g2, g3),(n,0,N)) *\n",
    "   (Product(sigma(z, g2, g3),(l,0,N)).doit()))\n",
    "]\n",
    "\n",
    "wp_sigma_product_fs_N_over_N_minus_1_mu_n = Eq(WPdet(N)/WPdet(N-1), sigma_product_f_s_N_over_N_minus_1).subs(\n",
    "    Product(sigma(mu[n],g2,g3)**N,(n,0,N)),sigma(mu[N],g2,g3)**N*Product(sigma(mu[n],g2,g3)**N,(n,0,N-1))\n",
    ").expand()\n",
    "\n",
    "wp_sigma_product_fs_N_over_N_minus_1 = (\n",
    "    wp_sigma_product_fs_N_over_N_minus_1_mu_n\n",
    "    .subs(subs1_list)\n",
    "    .subs(subs2_list)\n",
    ").expand()\n",
    "sigma_product_f_s_N_over_N_minus_1 = wp_sigma_product_fs_N_over_N_minus_1.rhs\n",
    "\n",
    "\n",
    "def p_matrix_f_s(N): \n",
    "    return Matrix([[1, *[pw(x,g2,g3).diff((x,j)).subs(x,mu[k]) for j in range(N)]] for k in range(N+1)])\n",
    "\n",
    "def p_matrix_f_s_1dz(N): \n",
    "    return Matrix([*[[1, *[pw(x,g2,g3).diff((x,j)).subs(x,mu[k]) for j in range(N)]] for k in range(N)],\n",
    "       [1, *[pw(z,g2,g3).diff((z,j)) for j in range(N)]]])\n",
    "\n",
    "def frob_stick_1dz_ratio(Nval, evaluated=False):\n",
    "    \"\"\"\n",
    "    Frobenius Stickelberger adapted for Kronecker theta functions\n",
    "    \"\"\"\n",
    "    if evaluated:\n",
    "        return Eq(\n",
    "            (((-1)**(Nval-1)/factorial(Nval) * p_matrix_f_s_1dz(Nval).det()/p_matrix_f_s(Nval-1).det()).expand())\n",
    "                  .collect([pw(z,g2,g3), diff(pw(z,g2,g3),z)],factor), \n",
    "            (-1)**(Nval-1)/factorial(Nval) * sigma_product_f_s_N_over_N_minus_1.subs(N,Nval).doit().subs(\n",
    "            xi[Nval],-Sum(xi[j],(j,0,Nval-1)).doit()\n",
    "        ).subs([(xi[j],mu[j]) for j in range(Nval)]))\n",
    "    \n",
    "    return Eq(\n",
    "        (-1)**(Nval-1)/factorial(Nval) * Det(p_matrix_f_s_1dz(Nval))/Det(p_matrix_f_s(Nval-1)), \n",
    "        \n",
    "        (-1)**(Nval-1)/factorial(Nval) * sigma_product_f_s_N_over_N_minus_1.subs(N,Nval).doit().subs(\n",
    "            xi[Nval],-Sum(xi[j],(j,0,Nval-1)).doit()\n",
    "        ).subs([(xi[j],mu[j]) for j in range(Nval)]))"
   ]
  },
  {
   "cell_type": "markdown",
   "id": "cd68e7f6",
   "metadata": {},
   "source": [
    "## General completely degenerate case"
   ]
  },
  {
   "cell_type": "code",
   "execution_count": 7,
   "id": "3402fdf1",
   "metadata": {},
   "outputs": [],
   "source": [
    "def diff_mu_0_deg(Nval):\n",
    "    return Matrix([\n",
    "        [1 if j == 0 else 0, *[diff(pw(mu[0], g2, g3), (mu[0], i + j)) for i in range(Nval - 1)]]\n",
    "        for j in range(Nval)\n",
    "    ])\n",
    "\n",
    "def diff_mu_0_z_deg(Nval):\n",
    "    return Matrix([\n",
    "        *[\n",
    "            [1 if j == 0 else 0, *[diff(pw(mu[0], g2, g3), (mu[0], i + j)) for i in range(Nval)]]\n",
    "            for j in range(Nval)\n",
    "        ],\n",
    "        [1, *[diff(pw(z, g2, g3), (z, i)) for i in range(Nval)]]\n",
    "   ])\n",
    "\n",
    "def det_ratio_deg_case(Nval, evaluated=False):\n",
    "    if evaluated:\n",
    "        return Eq(1/factorial(Nval) * det(diff_mu_0_z_deg(Nval))/det(diff_mu_0_deg(Nval)), \n",
    "                  -sigma(z - mu[0], g2, g3)**Nval*sigma(z + Nval*mu[0], g2, g3)\n",
    "                  /sigma(Nval*mu[0], g2, g3)/sigma(mu[0], g2, g3)**Nval/sigma(z, g2, g3)**(Nval +1))\n",
    "    return Eq(1/factorial(Nval) * Det(diff_mu_0_z_deg(Nval))/Det(diff_mu_0_deg(Nval)),\n",
    "              -sigma(z - mu[0], g2, g3)**Nval*sigma(z + Nval*mu[0], g2, g3)\n",
    "                  /sigma(Nval*mu[0], g2, g3)/sigma(mu[0], g2, g3)**Nval/sigma(z, g2, g3)**(Nval+1))\n",
    "    "
   ]
  },
  {
   "cell_type": "code",
   "execution_count": 8,
   "id": "b84260d0",
   "metadata": {},
   "outputs": [],
   "source": [
    "sigma_product_f_sb = (\n",
    "    (-1)**(N*(N-1)/2)*\n",
    "    Product(factorial(k),(k,1,N))*\n",
    "    sigma(Sum(mu[0] + epsilon[j],(j,0,N)),g2,g3)*\n",
    "    Product(Product(Piecewise((sigma(mu[0] + epsilon[l] - mu[0] - epsilon[m], g2, g3),l<m),(1,True)),(l,0,N)),(m,0,N))/\n",
    "    Product(sigma(mu[0] + epsilon[n],g2,g3)**(N+1),(n,0,N))\n",
    ")\n",
    "sigma_product_f_sc = (\n",
    "    (-1)**(N*(N-1)/2)*\n",
    "    Product(factorial(k),(k,1,N))*\n",
    "    sigma(Sum(mu[0],(j,0,N)).doit(),g2,g3)*\n",
    "    Product(Product(Piecewise((sigma(mu[0] + epsilon[l] - mu[0] - epsilon[m], g2, g3),l<m),(1,True)),(l,0,N)),(m,0,N))/\n",
    "    Product(sigma(mu[0],g2,g3)**(N+1),(n,0,N)).doit()\n",
    ")\n",
    "\n",
    "sigma_product_f_sd = (\n",
    "    (-1)**(N*(N-1)/2)*\n",
    "    Product(factorial(k),(k,1,N))**2 *\n",
    "    sigma((N+1)*mu[0],g2,g3)*\n",
    "    Product(Product(Piecewise((sigma(epsilon[l] - epsilon[m], g2, g3),l<m),(1,True)),(l,0,N)),(m,0,N))/\n",
    "    sigma(mu[0],g2,g3)**(N+1)**2/Product(epsilon[j]**j, (j,1,N))\n",
    ")\n",
    "\n",
    "sigma_product_f_se = (\n",
    "    (-1)**(N**2)*Product(factorial(k),(k,1,N))**2 * sigma((N+1)*mu[0],g2,g3)/sigma(mu[0],g2,g3)**(N+1)**2\n",
    ")"
   ]
  },
  {
   "cell_type": "code",
   "execution_count": 9,
   "id": "af8a078f",
   "metadata": {},
   "outputs": [],
   "source": [
    "def det_const_deg_case(Nval, evaluated=False):\n",
    "    if evaluated:\n",
    "        return Eq(det(diff_mu_0_deg(Nval)), \n",
    "            (-1)**((Nval-1)**2)*product(factorial(k),(k,1,Nval - 1))**2 * \n",
    "            sigma(Nval*mu[0],g2,g3)/sigma(mu[0],g2,g3)**((Nval)**2)\n",
    "                 )\n",
    "    return Eq(Det(diff_mu_0_deg(Nval)),\n",
    "        (-1)**((Nval-1)**2)*product(factorial(k),(k,1,Nval - 1))**2 * \n",
    "            sigma(Nval*mu[0],g2,g3)/sigma(mu[0],g2,g3)**((Nval)**2)\n",
    "             )"
   ]
  },
  {
   "cell_type": "markdown",
   "id": "73017e67",
   "metadata": {},
   "source": [
    "## Numerical test"
   ]
  },
  {
   "cell_type": "code",
   "execution_count": 10,
   "id": "92104233",
   "metadata": {},
   "outputs": [],
   "source": [
    "def mpc_to_float(mpc_val):\n",
    "    return float(mpc_val.real) + float(mpc_val.imag)*1j\n",
    "\n",
    "def sigma_prod_const(_z, _N, omegas):\n",
    "    return (    \n",
    "        (-1)**((_N - 1)**2)*product(factorial(k),(k,1,_N - 1))**2 * \n",
    "        we.wsigma(_N *_z, omegas)/we.wsigma(_z, omegas)**(_N**2)\n",
    "    ).expand().evalf()\n",
    "\n",
    "def test_const_det_sigma_power(_z, _g2, _g3, _N):\n",
    "    omega_ = we.omega_from_g(_g2, _g3)\n",
    "    omega1_ = mpc_to_float(omega_[0])\n",
    "    omega2_ = mpc_to_float(omega_[1])\n",
    "    omega3_ = mpc_to_float(omega_[2])\n",
    "    if im(omega2_/omega1_) <= 0:\n",
    "        omega2_ = -omega2_\n",
    "    omegas_ = (omega1_, omega2_)  \n",
    "\n",
    "    pw_val = mpc_to_float(we.wp(_z, omegas_))\n",
    "    pwp_val = mpc_to_float(we.wpprime(_z, omegas_))\n",
    "\n",
    "    sigma_N_val = sigma_prod_const(_z, _N, omegas_)\n",
    "\n",
    "    det_N_val_ = (\n",
    "        det_const_deg_case(Nval=_N, evaluated=False).lhs.args[0]\n",
    "        .subs([wpk(_i).subs(z,mu[0]).args for _i in range(1, 2*_N - 1)][::-1])\n",
    "        .subs([(pw(mu[0],g2,g3),pw_val), (pwp(mu[0],g2,g3),pwp_val), (g2, _g2), (g3, _g3)])\n",
    "        .expand()\n",
    "        .det()\n",
    "    )\n",
    "\n",
    "    err_val = abs(sigma_N_val - det_N_val_)/(sigma_N_val + det_N_val_)\n",
    "    \n",
    "    return {\n",
    "        \"sigma_N_val\": sigma_N_val,\n",
    "        \"det_N_val_\": det_N_val_,\n",
    "        \"err_val\": err_val\n",
    "    }\n",
    "\n",
    "\n",
    "def sigma_prod(_z, _mu0, _N, omegas): \n",
    "    return (    \n",
    "        -we.wsigma(_z - _mu0, omegas)**_N*we.wsigma(_z + _N*_mu0, omegas)/\n",
    "        we.wsigma(_N*_mu0, omegas)/\n",
    "        we.wsigma(_mu0, omegas)**_N/\n",
    "        we.wsigma(_z, omegas)**(_N+1)\n",
    "    )\n",
    "\n",
    "def test_det_ratio(_z, _mu0, _g2, _g3, _N):\n",
    "    omega_ = we.omega_from_g(_g2, _g3)\n",
    "    omega1_ = mpc_to_float(omega_[0])\n",
    "    omega2_ = mpc_to_float(omega_[1])\n",
    "    omega3_ = mpc_to_float(omega_[2])\n",
    "    if im(omega2_/omega1_) <= 0:\n",
    "        omega2_ = -omega2_\n",
    "    omegas_ = (omega1_, omega2_)  \n",
    "\n",
    "    pw_val_mu0 = mpc_to_float(we.wp(_mu0, omegas_))\n",
    "    pwp_val_mu0 = mpc_to_float(we.wpprime(_mu0, omegas_))\n",
    "    pw_val_z = mpc_to_float(we.wp(_z, omegas_))\n",
    "    pwp_val_z = mpc_to_float(we.wpprime(_z, omegas_))\n",
    "\n",
    "    sigma_N_val = sigma_prod(_z, _mu0, _N, omegas_)\n",
    "\n",
    "    det_ratio_N_val_ = ( \n",
    "        diff_mu_0_z_deg(_N)\n",
    "        .subs([wpk(_i).subs(z,mu[0]).args for _i in range(1, 2*_N - 1)][::-1])\n",
    "        .subs([wpk(_i).args for _i in range(1, 2*_N - 1)][::-1])\n",
    "        .subs([(pw(mu[0],g2,g3), pw_val_mu0), (pwp(mu[0],g2,g3),pwp_val_mu0)])\n",
    "        .subs([(pw(z,g2,g3), pw_val_z), (pwp(z,g2,g3), pwp_val_z), (g2, _g2), (g3, _g3)])\n",
    "        .expand()\n",
    "        .det() /\n",
    "        diff_mu_0_deg(_N)\n",
    "        .subs([wpk(_i).subs(z,mu[0]).args for _i in range(1, 2*_N - 1)][::-1])\n",
    "        .subs([wpk(_i).args for _i in range(1, 2*_N - 1)][::-1])\n",
    "        .subs([(pw(mu[0],g2,g3), pw_val_mu0), (pwp(mu[0],g2,g3),pwp_val_mu0)])\n",
    "        .subs([(pw(z,g2,g3), pw_val_z), (pwp(z,g2,g3), pwp_val_z), (g2, _g2), (g3, _g3)])\n",
    "        .expand()\n",
    "        .det() /\n",
    "        factorial(_N)\n",
    "   ).expand().evalf()\n",
    "\n",
    "    err_val = abs(sigma_N_val - det_ratio_N_val_)/(sigma_N_val + det_ratio_N_val_)\n",
    "    \n",
    "    return {\n",
    "        \"sigma_N_val\": sigma_N_val,\n",
    "        \"det_ratio_N_val_\": det_ratio_N_val_,\n",
    "        \"err_val\": err_val\n",
    "    }"
   ]
  },
  {
   "cell_type": "code",
   "execution_count": 11,
   "id": "9fb52d34",
   "metadata": {},
   "outputs": [],
   "source": [
    "def det_ratio_deg_case(Nval, evaluated=False):\n",
    "    if evaluated:\n",
    "        return Eq(1/factorial(Nval) * det(diff_mu_0_z_deg(Nval))/det(diff_mu_0_deg(Nval)), \n",
    "                  -sigma(z - mu[0], g2, g3)**Nval*sigma(z + Nval*mu[0], g2, g3)\n",
    "                  /sigma(Nval*mu[0], g2, g3)/sigma(mu[0], g2, g3)**Nval/sigma(z, g2, g3)**(Nval +1))\n",
    "    return Eq(1/factorial(Nval) * Det(diff_mu_0_z_deg(Nval))/Det(diff_mu_0_deg(Nval)),\n",
    "              -sigma(z - mu[0], g2, g3)**Nval*sigma(z + Nval*mu[0], g2, g3)\n",
    "                  /sigma(Nval*mu[0], g2, g3)/sigma(mu[0], g2, g3)**Nval/sigma(z, g2, g3)**(Nval+1))"
   ]
  },
  {
   "cell_type": "markdown",
   "id": "3da4a685",
   "metadata": {},
   "source": [
    "## Complete degeneracy\n",
    "\n",
    "The final level of degeneracy is achieved by making the parameter $\\mu_0$ take the appropriate rational multiple of a period $\\omega_i$ such that the right hand side of the determinat formula is a monomial in a Kronecker theta function. If $k$ is the order of the monomial, the following condition must be satisifed:"
   ]
  },
  {
   "cell_type": "code",
   "execution_count": 12,
   "id": "a11c94f8",
   "metadata": {},
   "outputs": [
    {
     "data": {
      "text/latex": [
       "$\\displaystyle \\left(k - 1\\right) {\\mu}_{0} = 2 \\omega_{1} - {\\mu}_{0}$"
      ],
      "text/plain": [
       "Eq((k - 1)*mu[0], 2*omega1 - mu[0])"
      ]
     },
     "execution_count": 12,
     "metadata": {},
     "output_type": "execute_result"
    },
    {
     "data": {
      "text/latex": [
       "$\\displaystyle {\\mu}_{0} = \\frac{2 \\omega_{1}}{k}$"
      ],
      "text/plain": [
       "Eq(mu[0], 2*omega1/k)"
      ]
     },
     "execution_count": 12,
     "metadata": {},
     "output_type": "execute_result"
    }
   ],
   "source": [
    "Eq((k-1)*mu[0],2*omega1 - mu[0])\n",
    "Eq(mu[0],2*omega1/k)"
   ]
  },
  {
   "cell_type": "code",
   "execution_count": 13,
   "id": "49165281",
   "metadata": {},
   "outputs": [],
   "source": [
    "vals = [mu[_k] for _k in range(4)]\n",
    "vals.append(z)\n",
    "wpk_subs = [wpk(_n).subs(z, val) for val in vals for _n in range(1,5)][::-1]"
   ]
  },
  {
   "cell_type": "code",
   "execution_count": 14,
   "id": "1cb62547",
   "metadata": {},
   "outputs": [
    {
     "data": {
      "text/latex": [
       "$\\displaystyle \\frac{\\operatorname{Det}{\\left(\\left[\\begin{matrix}1 & \\operatorname{pw}{\\left({\\mu}_{0},g_{2},g_{3} \\right)} & \\frac{\\partial}{\\partial {\\mu}_{0}} \\operatorname{pw}{\\left({\\mu}_{0},g_{2},g_{3} \\right)} & \\frac{\\partial^{2}}{\\partial {\\mu}_{0}^{2}} \\operatorname{pw}{\\left({\\mu}_{0},g_{2},g_{3} \\right)}\\\\0 & \\frac{\\partial}{\\partial {\\mu}_{0}} \\operatorname{pw}{\\left({\\mu}_{0},g_{2},g_{3} \\right)} & \\frac{\\partial^{2}}{\\partial {\\mu}_{0}^{2}} \\operatorname{pw}{\\left({\\mu}_{0},g_{2},g_{3} \\right)} & \\frac{\\partial^{3}}{\\partial {\\mu}_{0}^{3}} \\operatorname{pw}{\\left({\\mu}_{0},g_{2},g_{3} \\right)}\\\\0 & \\frac{\\partial^{2}}{\\partial {\\mu}_{0}^{2}} \\operatorname{pw}{\\left({\\mu}_{0},g_{2},g_{3} \\right)} & \\frac{\\partial^{3}}{\\partial {\\mu}_{0}^{3}} \\operatorname{pw}{\\left({\\mu}_{0},g_{2},g_{3} \\right)} & \\frac{\\partial^{4}}{\\partial {\\mu}_{0}^{4}} \\operatorname{pw}{\\left({\\mu}_{0},g_{2},g_{3} \\right)}\\\\1 & \\operatorname{pw}{\\left(z,g_{2},g_{3} \\right)} & \\frac{\\partial}{\\partial z} \\operatorname{pw}{\\left(z,g_{2},g_{3} \\right)} & \\frac{\\partial^{2}}{\\partial z^{2}} \\operatorname{pw}{\\left(z,g_{2},g_{3} \\right)}\\end{matrix}\\right] \\right)} \\operatorname{Det}^{-1}{\\left(\\left[\\begin{matrix}1 & \\operatorname{pw}{\\left({\\mu}_{0},g_{2},g_{3} \\right)} & \\frac{\\partial}{\\partial {\\mu}_{0}} \\operatorname{pw}{\\left({\\mu}_{0},g_{2},g_{3} \\right)}\\\\0 & \\frac{\\partial}{\\partial {\\mu}_{0}} \\operatorname{pw}{\\left({\\mu}_{0},g_{2},g_{3} \\right)} & \\frac{\\partial^{2}}{\\partial {\\mu}_{0}^{2}} \\operatorname{pw}{\\left({\\mu}_{0},g_{2},g_{3} \\right)}\\\\0 & \\frac{\\partial^{2}}{\\partial {\\mu}_{0}^{2}} \\operatorname{pw}{\\left({\\mu}_{0},g_{2},g_{3} \\right)} & \\frac{\\partial^{3}}{\\partial {\\mu}_{0}^{3}} \\operatorname{pw}{\\left({\\mu}_{0},g_{2},g_{3} \\right)}\\end{matrix}\\right] \\right)}}{6} = - \\frac{\\sigma^{3}{\\left(z - {\\mu}_{0},g_{2},g_{3} \\right)} \\sigma{\\left(z + 3 {\\mu}_{0},g_{2},g_{3} \\right)}}{\\sigma^{4}{\\left(z,g_{2},g_{3} \\right)} \\sigma^{3}{\\left({\\mu}_{0},g_{2},g_{3} \\right)} \\sigma{\\left(3 {\\mu}_{0},g_{2},g_{3} \\right)}}$"
      ],
      "text/plain": [
       "Eq(Det(Matrix([\n",
       "[1,                         pw(mu[0], g2, g3),      Derivative(pw(mu[0], g2, g3), mu[0]), Derivative(pw(mu[0], g2, g3), (mu[0], 2))],\n",
       "[0,      Derivative(pw(mu[0], g2, g3), mu[0]), Derivative(pw(mu[0], g2, g3), (mu[0], 2)), Derivative(pw(mu[0], g2, g3), (mu[0], 3))],\n",
       "[0, Derivative(pw(mu[0], g2, g3), (mu[0], 2)), Derivative(pw(mu[0], g2, g3), (mu[0], 3)), Derivative(pw(mu[0], g2, g3), (mu[0], 4))],\n",
       "[1,                             pw(z, g2, g3),              Derivative(pw(z, g2, g3), z),         Derivative(pw(z, g2, g3), (z, 2))]]))*Det(Matrix([\n",
       "[1,                         pw(mu[0], g2, g3),      Derivative(pw(mu[0], g2, g3), mu[0])],\n",
       "[0,      Derivative(pw(mu[0], g2, g3), mu[0]), Derivative(pw(mu[0], g2, g3), (mu[0], 2))],\n",
       "[0, Derivative(pw(mu[0], g2, g3), (mu[0], 2)), Derivative(pw(mu[0], g2, g3), (mu[0], 3))]]))**(-1)/6, -sigma(z - mu[0], g2, g3)**3*sigma(z + 3*mu[0], g2, g3)/(sigma(z, g2, g3)**4*sigma(mu[0], g2, g3)**3*sigma(3*mu[0], g2, g3)))"
      ]
     },
     "execution_count": 14,
     "metadata": {},
     "output_type": "execute_result"
    },
    {
     "data": {
      "text/latex": [
       "$\\displaystyle \\frac{\\operatorname{Det}{\\left(\\left[\\begin{matrix}1 & \\operatorname{pw}{\\left({\\mu}_{0},g_{2},g_{3} \\right)} & \\operatorname{pwp}{\\left({\\mu}_{0},g_{2},g_{3} \\right)} & - \\frac{g_{2}}{2} + 6 \\operatorname{pw}^{2}{\\left({\\mu}_{0},g_{2},g_{3} \\right)}\\\\0 & \\operatorname{pwp}{\\left({\\mu}_{0},g_{2},g_{3} \\right)} & - \\frac{g_{2}}{2} + 6 \\operatorname{pw}^{2}{\\left({\\mu}_{0},g_{2},g_{3} \\right)} & 12 \\operatorname{pw}{\\left({\\mu}_{0},g_{2},g_{3} \\right)} \\operatorname{pwp}{\\left({\\mu}_{0},g_{2},g_{3} \\right)}\\\\0 & - \\frac{g_{2}}{2} + 6 \\operatorname{pw}^{2}{\\left({\\mu}_{0},g_{2},g_{3} \\right)} & 12 \\operatorname{pw}{\\left({\\mu}_{0},g_{2},g_{3} \\right)} \\operatorname{pwp}{\\left({\\mu}_{0},g_{2},g_{3} \\right)} & - 18 g_{2} \\operatorname{pw}{\\left({\\mu}_{0},g_{2},g_{3} \\right)} - 12 g_{3} + 120 \\operatorname{pw}^{3}{\\left({\\mu}_{0},g_{2},g_{3} \\right)}\\\\1 & \\operatorname{pw}{\\left(z,g_{2},g_{3} \\right)} & \\operatorname{pwp}{\\left(z,g_{2},g_{3} \\right)} & - \\frac{g_{2}}{2} + 6 \\operatorname{pw}^{2}{\\left(z,g_{2},g_{3} \\right)}\\end{matrix}\\right] \\right)} \\operatorname{Det}^{-1}{\\left(\\left[\\begin{matrix}1 & \\operatorname{pw}{\\left({\\mu}_{0},g_{2},g_{3} \\right)} & \\operatorname{pwp}{\\left({\\mu}_{0},g_{2},g_{3} \\right)}\\\\0 & \\operatorname{pwp}{\\left({\\mu}_{0},g_{2},g_{3} \\right)} & - \\frac{g_{2}}{2} + 6 \\operatorname{pw}^{2}{\\left({\\mu}_{0},g_{2},g_{3} \\right)}\\\\0 & - \\frac{g_{2}}{2} + 6 \\operatorname{pw}^{2}{\\left({\\mu}_{0},g_{2},g_{3} \\right)} & 12 \\operatorname{pw}{\\left({\\mu}_{0},g_{2},g_{3} \\right)} \\operatorname{pwp}{\\left({\\mu}_{0},g_{2},g_{3} \\right)}\\end{matrix}\\right] \\right)}}{6} = - \\frac{\\sigma^{3}{\\left(z - {\\mu}_{0},g_{2},g_{3} \\right)} \\sigma{\\left(z + 3 {\\mu}_{0},g_{2},g_{3} \\right)}}{\\sigma^{4}{\\left(z,g_{2},g_{3} \\right)} \\sigma^{3}{\\left({\\mu}_{0},g_{2},g_{3} \\right)} \\sigma{\\left(3 {\\mu}_{0},g_{2},g_{3} \\right)}}$"
      ],
      "text/plain": [
       "Eq(Det(Matrix([\n",
       "[1,              pw(mu[0], g2, g3),                      pwp(mu[0], g2, g3),                              -g2/2 + 6*pw(mu[0], g2, g3)**2],\n",
       "[0,             pwp(mu[0], g2, g3),          -g2/2 + 6*pw(mu[0], g2, g3)**2,                     12*pw(mu[0], g2, g3)*pwp(mu[0], g2, g3)],\n",
       "[0, -g2/2 + 6*pw(mu[0], g2, g3)**2, 12*pw(mu[0], g2, g3)*pwp(mu[0], g2, g3), -18*g2*pw(mu[0], g2, g3) - 12*g3 + 120*pw(mu[0], g2, g3)**3],\n",
       "[1,                  pw(z, g2, g3),                          pwp(z, g2, g3),                                  -g2/2 + 6*pw(z, g2, g3)**2]]))*Det(Matrix([\n",
       "[1,              pw(mu[0], g2, g3),                      pwp(mu[0], g2, g3)],\n",
       "[0,             pwp(mu[0], g2, g3),          -g2/2 + 6*pw(mu[0], g2, g3)**2],\n",
       "[0, -g2/2 + 6*pw(mu[0], g2, g3)**2, 12*pw(mu[0], g2, g3)*pwp(mu[0], g2, g3)]]))**(-1)/6, -sigma(z - mu[0], g2, g3)**3*sigma(z + 3*mu[0], g2, g3)/(sigma(z, g2, g3)**4*sigma(mu[0], g2, g3)**3*sigma(3*mu[0], g2, g3)))"
      ]
     },
     "execution_count": 14,
     "metadata": {},
     "output_type": "execute_result"
    }
   ],
   "source": [
    "drdc_3 = det_ratio_deg_case(3)\n",
    "drdc_3_with_subs = drdc_3.subs([_eq.args for _eq in wpk_subs])\n",
    "\n",
    "drdc_3\n",
    "drdc_3_with_subs\n",
    "\n",
    "# det_ratio_deg_case(3).subs(*det_const_deg_case(Nval=3, evaluated=False).args)"
   ]
  },
  {
   "cell_type": "code",
   "execution_count": 15,
   "id": "184f8b2f",
   "metadata": {},
   "outputs": [],
   "source": [
    "vals = [mu[_k] for _k in range(4)]\n",
    "vals.append(z)\n",
    "wpk_subs = [wpk(_n).subs(z, val) for val in vals for _n in range(1,5)][::-1]"
   ]
  },
  {
   "cell_type": "code",
   "execution_count": 16,
   "id": "51becdbc",
   "metadata": {},
   "outputs": [],
   "source": [
    "__xx = det_ratio_deg_case(3).subs(*det_const_deg_case(Nval=3, evaluated=False).args).subs([_eq.args for _eq in wpk_subs])"
   ]
  },
  {
   "cell_type": "code",
   "execution_count": 17,
   "id": "b8b3a23d",
   "metadata": {},
   "outputs": [
    {
     "data": {
      "text/latex": [
       "$\\displaystyle \\frac{\\sigma^{9}{\\left({\\mu}_{0},g_{2},g_{3} \\right)} \\operatorname{Det}{\\left(\\left[\\begin{matrix}1 & \\operatorname{pw}{\\left({\\mu}_{0},g_{2},g_{3} \\right)} & \\operatorname{pwp}{\\left({\\mu}_{0},g_{2},g_{3} \\right)} & - \\frac{g_{2}}{2} + 6 \\operatorname{pw}^{2}{\\left({\\mu}_{0},g_{2},g_{3} \\right)}\\\\0 & \\operatorname{pwp}{\\left({\\mu}_{0},g_{2},g_{3} \\right)} & - \\frac{g_{2}}{2} + 6 \\operatorname{pw}^{2}{\\left({\\mu}_{0},g_{2},g_{3} \\right)} & 12 \\operatorname{pw}{\\left({\\mu}_{0},g_{2},g_{3} \\right)} \\operatorname{pwp}{\\left({\\mu}_{0},g_{2},g_{3} \\right)}\\\\0 & - \\frac{g_{2}}{2} + 6 \\operatorname{pw}^{2}{\\left({\\mu}_{0},g_{2},g_{3} \\right)} & 12 \\operatorname{pw}{\\left({\\mu}_{0},g_{2},g_{3} \\right)} \\operatorname{pwp}{\\left({\\mu}_{0},g_{2},g_{3} \\right)} & - 18 g_{2} \\operatorname{pw}{\\left({\\mu}_{0},g_{2},g_{3} \\right)} - 12 g_{3} + 120 \\operatorname{pw}^{3}{\\left({\\mu}_{0},g_{2},g_{3} \\right)}\\\\1 & \\operatorname{pw}{\\left(z,g_{2},g_{3} \\right)} & \\operatorname{pwp}{\\left(z,g_{2},g_{3} \\right)} & - \\frac{g_{2}}{2} + 6 \\operatorname{pw}^{2}{\\left(z,g_{2},g_{3} \\right)}\\end{matrix}\\right] \\right)}}{24 \\sigma{\\left(3 {\\mu}_{0},g_{2},g_{3} \\right)}} = - \\frac{\\sigma^{3}{\\left(z - {\\mu}_{0},g_{2},g_{3} \\right)} \\sigma{\\left(z + 3 {\\mu}_{0},g_{2},g_{3} \\right)}}{\\sigma^{4}{\\left(z,g_{2},g_{3} \\right)} \\sigma^{3}{\\left({\\mu}_{0},g_{2},g_{3} \\right)} \\sigma{\\left(3 {\\mu}_{0},g_{2},g_{3} \\right)}}$"
      ],
      "text/plain": [
       "Eq(sigma(mu[0], g2, g3)**9*Det(Matrix([\n",
       "[1,              pw(mu[0], g2, g3),                      pwp(mu[0], g2, g3),                              -g2/2 + 6*pw(mu[0], g2, g3)**2],\n",
       "[0,             pwp(mu[0], g2, g3),          -g2/2 + 6*pw(mu[0], g2, g3)**2,                     12*pw(mu[0], g2, g3)*pwp(mu[0], g2, g3)],\n",
       "[0, -g2/2 + 6*pw(mu[0], g2, g3)**2, 12*pw(mu[0], g2, g3)*pwp(mu[0], g2, g3), -18*g2*pw(mu[0], g2, g3) - 12*g3 + 120*pw(mu[0], g2, g3)**3],\n",
       "[1,                  pw(z, g2, g3),                          pwp(z, g2, g3),                                  -g2/2 + 6*pw(z, g2, g3)**2]]))/(24*sigma(3*mu[0], g2, g3)), -sigma(z - mu[0], g2, g3)**3*sigma(z + 3*mu[0], g2, g3)/(sigma(z, g2, g3)**4*sigma(mu[0], g2, g3)**3*sigma(3*mu[0], g2, g3)))"
      ]
     },
     "execution_count": 17,
     "metadata": {},
     "output_type": "execute_result"
    }
   ],
   "source": [
    "__xx"
   ]
  },
  {
   "cell_type": "code",
   "execution_count": 18,
   "id": "16068b22",
   "metadata": {},
   "outputs": [
    {
     "data": {
      "text/latex": [
       "$\\displaystyle \\frac{\\sigma^{9}{\\left({\\mu}_{0},g_{2},g_{3} \\right)} \\operatorname{Det}{\\left(\\left[\\begin{matrix}1 & \\operatorname{pw}{\\left({\\mu}_{0},g_{2},g_{3} \\right)} & \\operatorname{pwp}{\\left({\\mu}_{0},g_{2},g_{3} \\right)} & - \\frac{g_{2}}{2} + 6 \\operatorname{pw}^{2}{\\left({\\mu}_{0},g_{2},g_{3} \\right)}\\\\0 & \\operatorname{pwp}{\\left({\\mu}_{0},g_{2},g_{3} \\right)} & - \\frac{g_{2}}{2} + 6 \\operatorname{pw}^{2}{\\left({\\mu}_{0},g_{2},g_{3} \\right)} & 12 \\operatorname{pw}{\\left({\\mu}_{0},g_{2},g_{3} \\right)} \\operatorname{pwp}{\\left({\\mu}_{0},g_{2},g_{3} \\right)}\\\\0 & - \\frac{g_{2}}{2} + 6 \\operatorname{pw}^{2}{\\left({\\mu}_{0},g_{2},g_{3} \\right)} & 12 \\operatorname{pw}{\\left({\\mu}_{0},g_{2},g_{3} \\right)} \\operatorname{pwp}{\\left({\\mu}_{0},g_{2},g_{3} \\right)} & - 18 g_{2} \\operatorname{pw}{\\left({\\mu}_{0},g_{2},g_{3} \\right)} - 12 g_{3} + 120 \\operatorname{pw}^{3}{\\left({\\mu}_{0},g_{2},g_{3} \\right)}\\\\1 & \\operatorname{pw}{\\left(z,g_{2},g_{3} \\right)} & \\operatorname{pwp}{\\left(z,g_{2},g_{3} \\right)} & - \\frac{g_{2}}{2} + 6 \\operatorname{pw}^{2}{\\left(z,g_{2},g_{3} \\right)}\\end{matrix}\\right] \\right)}}{24 \\sigma{\\left(3 {\\mu}_{0},g_{2},g_{3} \\right)}} = - \\frac{\\sigma^{3}{\\left(z - {\\mu}_{0},g_{2},g_{3} \\right)} \\sigma{\\left(z + 3 {\\mu}_{0},g_{2},g_{3} \\right)}}{\\sigma^{4}{\\left(z,g_{2},g_{3} \\right)} \\sigma^{3}{\\left({\\mu}_{0},g_{2},g_{3} \\right)} \\sigma{\\left(3 {\\mu}_{0},g_{2},g_{3} \\right)}}$"
      ],
      "text/plain": [
       "Eq(sigma(mu[0], g2, g3)**9*Det(Matrix([\n",
       "[1,              pw(mu[0], g2, g3),                      pwp(mu[0], g2, g3),                              -g2/2 + 6*pw(mu[0], g2, g3)**2],\n",
       "[0,             pwp(mu[0], g2, g3),          -g2/2 + 6*pw(mu[0], g2, g3)**2,                     12*pw(mu[0], g2, g3)*pwp(mu[0], g2, g3)],\n",
       "[0, -g2/2 + 6*pw(mu[0], g2, g3)**2, 12*pw(mu[0], g2, g3)*pwp(mu[0], g2, g3), -18*g2*pw(mu[0], g2, g3) - 12*g3 + 120*pw(mu[0], g2, g3)**3],\n",
       "[1,                  pw(z, g2, g3),                          pwp(z, g2, g3),                                  -g2/2 + 6*pw(z, g2, g3)**2]]))/(24*sigma(3*mu[0], g2, g3)), -sigma(z - mu[0], g2, g3)**3*sigma(z + 3*mu[0], g2, g3)/(sigma(z, g2, g3)**4*sigma(mu[0], g2, g3)**3*sigma(3*mu[0], g2, g3)))"
      ]
     },
     "execution_count": 18,
     "metadata": {},
     "output_type": "execute_result"
    },
    {
     "data": {
      "text/latex": [
       "$\\displaystyle \\frac{\\sigma^{9}{\\left({\\mu}_{0},g_{2},g_{3} \\right)} \\operatorname{Det}{\\left(\\left[\\begin{matrix}1 & \\operatorname{pw}{\\left({\\mu}_{0},g_{2},g_{3} \\right)} & \\operatorname{pwp}{\\left({\\mu}_{0},g_{2},g_{3} \\right)} & - \\frac{g_{2}}{2} - 6 \\operatorname{pw}^{2}{\\left({\\mu}_{0},g_{2},g_{3} \\right)}\\\\0 & \\operatorname{pwp}{\\left({\\mu}_{0},g_{2},g_{3} \\right)} & - \\frac{g_{2}}{2} + 6 \\operatorname{pw}^{2}{\\left({\\mu}_{0},g_{2},g_{3} \\right)} & 0\\\\0 & - \\frac{g_{2}}{2} + 6 \\operatorname{pw}^{2}{\\left({\\mu}_{0},g_{2},g_{3} \\right)} & 12 \\operatorname{pw}{\\left({\\mu}_{0},g_{2},g_{3} \\right)} \\operatorname{pwp}{\\left({\\mu}_{0},g_{2},g_{3} \\right)} & - 12 g_{2} \\operatorname{pw}{\\left({\\mu}_{0},g_{2},g_{3} \\right)} - 12 g_{3} + 48 \\operatorname{pw}^{3}{\\left({\\mu}_{0},g_{2},g_{3} \\right)}\\\\1 & \\operatorname{pw}{\\left(z,g_{2},g_{3} \\right)} & \\operatorname{pwp}{\\left(z,g_{2},g_{3} \\right)} & - \\frac{g_{2}}{2} + 6 \\operatorname{pw}^{2}{\\left(z,g_{2},g_{3} \\right)} - 12 \\operatorname{pw}{\\left(z,g_{2},g_{3} \\right)} \\operatorname{pw}{\\left({\\mu}_{0},g_{2},g_{3} \\right)}\\end{matrix}\\right] \\right)}}{24 \\sigma{\\left(3 {\\mu}_{0},g_{2},g_{3} \\right)}} = - \\frac{\\sigma^{3}{\\left(z - {\\mu}_{0},g_{2},g_{3} \\right)} \\sigma{\\left(z + 3 {\\mu}_{0},g_{2},g_{3} \\right)}}{\\sigma^{4}{\\left(z,g_{2},g_{3} \\right)} \\sigma^{3}{\\left({\\mu}_{0},g_{2},g_{3} \\right)} \\sigma{\\left(3 {\\mu}_{0},g_{2},g_{3} \\right)}}$"
      ],
      "text/plain": [
       "Eq(sigma(mu[0], g2, g3)**9*Det(Matrix([\n",
       "[1,              pw(mu[0], g2, g3),                      pwp(mu[0], g2, g3),                                  -g2/2 - 6*pw(mu[0], g2, g3)**2],\n",
       "[0,             pwp(mu[0], g2, g3),          -g2/2 + 6*pw(mu[0], g2, g3)**2,                                                               0],\n",
       "[0, -g2/2 + 6*pw(mu[0], g2, g3)**2, 12*pw(mu[0], g2, g3)*pwp(mu[0], g2, g3),      -12*g2*pw(mu[0], g2, g3) - 12*g3 + 48*pw(mu[0], g2, g3)**3],\n",
       "[1,                  pw(z, g2, g3),                          pwp(z, g2, g3), -g2/2 + 6*pw(z, g2, g3)**2 - 12*pw(z, g2, g3)*pw(mu[0], g2, g3)]]))/(24*sigma(3*mu[0], g2, g3)), -sigma(z - mu[0], g2, g3)**3*sigma(z + 3*mu[0], g2, g3)/(sigma(z, g2, g3)**4*sigma(mu[0], g2, g3)**3*sigma(3*mu[0], g2, g3)))"
      ]
     },
     "execution_count": 18,
     "metadata": {},
     "output_type": "execute_result"
    },
    {
     "data": {
      "text/latex": [
       "$\\displaystyle \\frac{\\sigma^{9}{\\left({\\mu}_{0},g_{2},g_{3} \\right)} \\operatorname{Det}{\\left(\\left[\\begin{matrix}1 & \\operatorname{pw}{\\left({\\mu}_{0},g_{2},g_{3} \\right)} & \\operatorname{pwp}{\\left({\\mu}_{0},g_{2},g_{3} \\right)} & - \\frac{g_{2}}{2} - 6 \\operatorname{pw}^{2}{\\left({\\mu}_{0},g_{2},g_{3} \\right)}\\\\0 & \\operatorname{pwp}{\\left({\\mu}_{0},g_{2},g_{3} \\right)} & - \\frac{g_{2}}{2} + 6 \\operatorname{pw}^{2}{\\left({\\mu}_{0},g_{2},g_{3} \\right)} & 0\\\\0 & - \\frac{g_{2}}{2} + 6 \\operatorname{pw}^{2}{\\left({\\mu}_{0},g_{2},g_{3} \\right)} & 12 \\operatorname{pw}{\\left({\\mu}_{0},g_{2},g_{3} \\right)} \\operatorname{pwp}{\\left({\\mu}_{0},g_{2},g_{3} \\right)} & - 12 g_{2} \\operatorname{pw}{\\left({\\mu}_{0},g_{2},g_{3} \\right)} - 12 g_{3} + 48 \\operatorname{pw}^{3}{\\left({\\mu}_{0},g_{2},g_{3} \\right)}\\\\0 & \\operatorname{pw}{\\left(z,g_{2},g_{3} \\right)} - \\operatorname{pw}{\\left({\\mu}_{0},g_{2},g_{3} \\right)} & \\operatorname{pwp}{\\left(z,g_{2},g_{3} \\right)} - \\operatorname{pwp}{\\left({\\mu}_{0},g_{2},g_{3} \\right)} & 6 \\left(- \\operatorname{pw}{\\left(z,g_{2},g_{3} \\right)} + \\operatorname{pw}{\\left({\\mu}_{0},g_{2},g_{3} \\right)}\\right)^{2}\\end{matrix}\\right] \\right)}}{24 \\sigma{\\left(3 {\\mu}_{0},g_{2},g_{3} \\right)}} = - \\frac{\\sigma^{3}{\\left(z - {\\mu}_{0},g_{2},g_{3} \\right)} \\sigma{\\left(z + 3 {\\mu}_{0},g_{2},g_{3} \\right)}}{\\sigma^{4}{\\left(z,g_{2},g_{3} \\right)} \\sigma^{3}{\\left({\\mu}_{0},g_{2},g_{3} \\right)} \\sigma{\\left(3 {\\mu}_{0},g_{2},g_{3} \\right)}}$"
      ],
      "text/plain": [
       "Eq(sigma(mu[0], g2, g3)**9*Det(Matrix([\n",
       "[1,                 pw(mu[0], g2, g3),                      pwp(mu[0], g2, g3),                             -g2/2 - 6*pw(mu[0], g2, g3)**2],\n",
       "[0,                pwp(mu[0], g2, g3),          -g2/2 + 6*pw(mu[0], g2, g3)**2,                                                          0],\n",
       "[0,    -g2/2 + 6*pw(mu[0], g2, g3)**2, 12*pw(mu[0], g2, g3)*pwp(mu[0], g2, g3), -12*g2*pw(mu[0], g2, g3) - 12*g3 + 48*pw(mu[0], g2, g3)**3],\n",
       "[0, pw(z, g2, g3) - pw(mu[0], g2, g3),     pwp(z, g2, g3) - pwp(mu[0], g2, g3),                  6*(-pw(z, g2, g3) + pw(mu[0], g2, g3))**2]]))/(24*sigma(3*mu[0], g2, g3)), -sigma(z - mu[0], g2, g3)**3*sigma(z + 3*mu[0], g2, g3)/(sigma(z, g2, g3)**4*sigma(mu[0], g2, g3)**3*sigma(3*mu[0], g2, g3)))"
      ]
     },
     "execution_count": 18,
     "metadata": {},
     "output_type": "execute_result"
    },
    {
     "data": {
      "text/latex": [
       "$\\displaystyle \\frac{\\sigma^{9}{\\left({\\mu}_{0},g_{2},g_{3} \\right)} \\operatorname{Det}{\\left(\\left[\\begin{matrix}1 & \\operatorname{pw}{\\left({\\mu}_{0},g_{2},g_{3} \\right)} & \\operatorname{pwp}{\\left({\\mu}_{0},g_{2},g_{3} \\right)} & - \\frac{g_{2}}{2} - 6 \\operatorname{pw}^{2}{\\left({\\mu}_{0},g_{2},g_{3} \\right)}\\\\0 & \\operatorname{pwp}{\\left({\\mu}_{0},g_{2},g_{3} \\right)} & - \\frac{g_{2}}{2} + 6 \\operatorname{pw}^{2}{\\left({\\mu}_{0},g_{2},g_{3} \\right)} & 0\\\\0 & - \\frac{g_{2}}{2} + 6 \\operatorname{pw}^{2}{\\left({\\mu}_{0},g_{2},g_{3} \\right)} & 12 \\operatorname{pw}{\\left({\\mu}_{0},g_{2},g_{3} \\right)} \\operatorname{pwp}{\\left({\\mu}_{0},g_{2},g_{3} \\right)} & - 12 g_{2} \\operatorname{pw}{\\left({\\mu}_{0},g_{2},g_{3} \\right)} - 12 g_{3} + 48 \\operatorname{pw}^{3}{\\left({\\mu}_{0},g_{2},g_{3} \\right)}\\\\0 & X & Y & Z\\end{matrix}\\right] \\right)}}{24 \\sigma{\\left(3 {\\mu}_{0},g_{2},g_{3} \\right)}} = - \\frac{\\sigma^{3}{\\left(z - {\\mu}_{0},g_{2},g_{3} \\right)} \\sigma{\\left(z + 3 {\\mu}_{0},g_{2},g_{3} \\right)}}{\\sigma^{4}{\\left(z,g_{2},g_{3} \\right)} \\sigma^{3}{\\left({\\mu}_{0},g_{2},g_{3} \\right)} \\sigma{\\left(3 {\\mu}_{0},g_{2},g_{3} \\right)}}$"
      ],
      "text/plain": [
       "Eq(sigma(mu[0], g2, g3)**9*Det(Matrix([\n",
       "[1,              pw(mu[0], g2, g3),                      pwp(mu[0], g2, g3),                             -g2/2 - 6*pw(mu[0], g2, g3)**2],\n",
       "[0,             pwp(mu[0], g2, g3),          -g2/2 + 6*pw(mu[0], g2, g3)**2,                                                          0],\n",
       "[0, -g2/2 + 6*pw(mu[0], g2, g3)**2, 12*pw(mu[0], g2, g3)*pwp(mu[0], g2, g3), -12*g2*pw(mu[0], g2, g3) - 12*g3 + 48*pw(mu[0], g2, g3)**3],\n",
       "[0,                              X,                                       Y,                                                          Z]]))/(24*sigma(3*mu[0], g2, g3)), -sigma(z - mu[0], g2, g3)**3*sigma(z + 3*mu[0], g2, g3)/(sigma(z, g2, g3)**4*sigma(mu[0], g2, g3)**3*sigma(3*mu[0], g2, g3)))"
      ]
     },
     "execution_count": 18,
     "metadata": {},
     "output_type": "execute_result"
    }
   ],
   "source": [
    "Eq((sigma(mu[0], g2, g3)**9)/(24*sigma(3*mu[0], g2, g3))*\n",
    "    Det(Matrix([\n",
    "        [1, pw(mu[0], g2, g3), pwp(mu[0], g2, g3), -g2/2 + 6*pw(mu[0], g2, g3)**2],\n",
    "        [0, pwp(mu[0], g2, g3), -g2/2 + 6*pw(mu[0], g2, g3)**2, 12*pw(mu[0], g2, g3)*pwp(mu[0], g2, g3)],\n",
    "        [0, -g2/2 + 6*pw(mu[0], g2, g3)**2, 12*pw(mu[0], g2, g3)*pwp(mu[0], g2, g3), \n",
    "            -18*g2*pw(mu[0], g2, g3) - 12*g3 + 120*pw(mu[0], g2, g3)**3],\n",
    "        [1, pw(z, g2, g3), pwp(z, g2, g3), -g2/2 + 6*pw(z, g2, g3)**2]])\n",
    "    ),\n",
    "    -sigma(z - mu[0], g2, g3)**3*sigma(z + 3*mu[0], g2, g3)/\n",
    "    (sigma(z, g2, g3)**4*sigma(mu[0], g2, g3)**3*sigma(3*mu[0], g2, g3))\n",
    ")\n",
    "Eq((sigma(mu[0], g2, g3)**9)/(24*sigma(3*mu[0], g2, g3))*\n",
    "    Det(Matrix([\n",
    "        [1, pw(mu[0], g2, g3), pwp(mu[0], g2, g3), -g2/2 + 6*pw(mu[0], g2, g3)**2 - 12*pw(mu[0], g2, g3)**2],\n",
    "        [0, pwp(mu[0], g2, g3), -g2/2 + 6*pw(mu[0], g2, g3)**2, 12*pw(mu[0], g2, g3)*pwp(mu[0], g2, g3) - 12*pw(mu[0], g2, g3)*pwp(mu[0], g2, g3)],\n",
    "        [0, -g2/2 + 6*pw(mu[0], g2, g3)**2, 12*pw(mu[0], g2, g3)*pwp(mu[0], g2, g3), \n",
    "            (-18*g2*pw(mu[0], g2, g3) - 12*g3 + 120*pw(mu[0], g2, g3)**3 - 12*pw(mu[0], g2, g3)*(-g2/2 + 6*pw(mu[0], g2, g3)**2)).expand()],\n",
    "        [1, pw(z, g2, g3), pwp(z, g2, g3), -g2/2 + 6*pw(z, g2, g3)**2 - 12*pw(mu[0], g2, g3)*pw(z, g2, g3)]])\n",
    "    ),\n",
    "    -sigma(z - mu[0], g2, g3)**3*sigma(z + 3*mu[0], g2, g3)/\n",
    "    (sigma(z, g2, g3)**4*sigma(mu[0], g2, g3)**3*sigma(3*mu[0], g2, g3))\n",
    ")\n",
    "Eq((sigma(mu[0], g2, g3)**9)/(24*sigma(3*mu[0], g2, g3))*\n",
    "    Det(Matrix([\n",
    "        [1, pw(mu[0], g2, g3), pwp(mu[0], g2, g3), -g2/2 - 6*pw(mu[0], g2, g3)**2],\n",
    "        [0, pwp(mu[0], g2, g3), -g2/2 + 6*pw(mu[0], g2, g3)**2, 12*pw(mu[0], g2, g3)*pwp(mu[0], g2, g3) - 12*pw(mu[0], g2, g3)*pwp(mu[0], g2, g3)],\n",
    "        [0, -g2/2 + 6*pw(mu[0], g2, g3)**2, 12*pw(mu[0], g2, g3)*pwp(mu[0], g2, g3), \n",
    "            (-18*g2*pw(mu[0], g2, g3) - 12*g3 + 120*pw(mu[0], g2, g3)**3 - 12*pw(mu[0], g2, g3)*(-g2/2 + 6*pw(mu[0], g2, g3)**2)).expand()],\n",
    "        [0, pw(z, g2, g3) - pw(mu[0], g2, g3), pwp(z, g2, g3) - pwp(mu[0], g2, g3), (6*pw(mu[0], g2, g3)**2 + 6*pw(z, g2, g3)**2 - 12*pw(mu[0], g2, g3)*pw(z, g2, g3)).factor()]])\n",
    "    ),\n",
    "    -sigma(z - mu[0], g2, g3)**3*sigma(z + 3*mu[0], g2, g3)/\n",
    "    (sigma(z, g2, g3)**4*sigma(mu[0], g2, g3)**3*sigma(3*mu[0], g2, g3))\n",
    ")\n",
    "\n",
    "XYZ = Eq((sigma(mu[0], g2, g3)**9)/(24*sigma(3*mu[0], g2, g3))*\n",
    "    Det(Matrix([\n",
    "        [1, pw(mu[0], g2, g3), pwp(mu[0], g2, g3), -g2/2 - 6*pw(mu[0], g2, g3)**2],\n",
    "        [0, pwp(mu[0], g2, g3), -g2/2 + 6*pw(mu[0], g2, g3)**2, 12*pw(mu[0], g2, g3)*pwp(mu[0], g2, g3) - 12*pw(mu[0], g2, g3)*pwp(mu[0], g2, g3)],\n",
    "        [0, -g2/2 + 6*pw(mu[0], g2, g3)**2, 12*pw(mu[0], g2, g3)*pwp(mu[0], g2, g3), \n",
    "            (-18*g2*pw(mu[0], g2, g3) - 12*g3 + 120*pw(mu[0], g2, g3)**3 - 12*pw(mu[0], g2, g3)*(-g2/2 + 6*pw(mu[0], g2, g3)**2)).expand()],\n",
    "        [0, X, Y, Z]])\n",
    "    ),\n",
    "    -sigma(z - mu[0], g2, g3)**3*sigma(z + 3*mu[0], g2, g3)/\n",
    "    (sigma(z, g2, g3)**4*sigma(mu[0], g2, g3)**3*sigma(3*mu[0], g2, g3))\n",
    ")\n",
    "XYZ_subs = [(X, pw(z, g2, g3) - pw(mu[0], g2, g3)), \n",
    "            (Y, pwp(z, g2, g3) - pwp(mu[0], g2, g3)), (Z,6*(pw(mu[0], g2, g3) - pw(z, g2, g3))**2)]\n",
    "\n",
    "XYZ"
   ]
  },
  {
   "cell_type": "code",
   "execution_count": 19,
   "id": "13505c72",
   "metadata": {},
   "outputs": [
    {
     "data": {
      "text/latex": [
       "$\\displaystyle \\frac{\\left(g_{2} - 12 \\operatorname{pw}^{2}{\\left({\\mu}_{0},g_{2},g_{3} \\right)}\\right) \\left(\\operatorname{pw}{\\left(z,g_{2},g_{3} \\right)} - \\operatorname{pw}{\\left({\\mu}_{0},g_{2},g_{3} \\right)}\\right) \\left(g_{2} \\operatorname{pw}{\\left({\\mu}_{0},g_{2},g_{3} \\right)} + g_{3} - 4 \\operatorname{pw}^{3}{\\left({\\mu}_{0},g_{2},g_{3} \\right)}\\right) \\sigma^{9}{\\left({\\mu}_{0},g_{2},g_{3} \\right)}}{4 \\sigma{\\left(3 {\\mu}_{0},g_{2},g_{3} \\right)}} - \\frac{\\left(- \\operatorname{pw}{\\left(z,g_{2},g_{3} \\right)} + \\operatorname{pw}{\\left({\\mu}_{0},g_{2},g_{3} \\right)}\\right)^{2} \\left(g_{2}^{2} + 24 g_{2} \\operatorname{pw}^{2}{\\left({\\mu}_{0},g_{2},g_{3} \\right)} + 48 g_{3} \\operatorname{pw}{\\left({\\mu}_{0},g_{2},g_{3} \\right)} - 48 \\operatorname{pw}^{4}{\\left({\\mu}_{0},g_{2},g_{3} \\right)}\\right) \\sigma^{9}{\\left({\\mu}_{0},g_{2},g_{3} \\right)}}{16 \\sigma{\\left(3 {\\mu}_{0},g_{2},g_{3} \\right)}} + \\frac{\\left(\\operatorname{pwp}{\\left(z,g_{2},g_{3} \\right)} - \\operatorname{pwp}{\\left({\\mu}_{0},g_{2},g_{3} \\right)}\\right) \\left(g_{2} \\operatorname{pw}{\\left({\\mu}_{0},g_{2},g_{3} \\right)} + g_{3} - 4 \\operatorname{pw}^{3}{\\left({\\mu}_{0},g_{2},g_{3} \\right)}\\right) \\operatorname{pwp}{\\left({\\mu}_{0},g_{2},g_{3} \\right)} \\sigma^{9}{\\left({\\mu}_{0},g_{2},g_{3} \\right)}}{2 \\sigma{\\left(3 {\\mu}_{0},g_{2},g_{3} \\right)}} = - \\frac{\\sigma^{3}{\\left(z - {\\mu}_{0},g_{2},g_{3} \\right)} \\sigma{\\left(z + 3 {\\mu}_{0},g_{2},g_{3} \\right)}}{\\sigma^{4}{\\left(z,g_{2},g_{3} \\right)} \\sigma^{3}{\\left({\\mu}_{0},g_{2},g_{3} \\right)} \\sigma{\\left(3 {\\mu}_{0},g_{2},g_{3} \\right)}}$"
      ],
      "text/plain": [
       "Eq((g2 - 12*pw(mu[0], g2, g3)**2)*(pw(z, g2, g3) - pw(mu[0], g2, g3))*(g2*pw(mu[0], g2, g3) + g3 - 4*pw(mu[0], g2, g3)**3)*sigma(mu[0], g2, g3)**9/(4*sigma(3*mu[0], g2, g3)) - (-pw(z, g2, g3) + pw(mu[0], g2, g3))**2*(g2**2 + 24*g2*pw(mu[0], g2, g3)**2 + 48*g3*pw(mu[0], g2, g3) - 48*pw(mu[0], g2, g3)**4)*sigma(mu[0], g2, g3)**9/(16*sigma(3*mu[0], g2, g3)) + (pwp(z, g2, g3) - pwp(mu[0], g2, g3))*(g2*pw(mu[0], g2, g3) + g3 - 4*pw(mu[0], g2, g3)**3)*pwp(mu[0], g2, g3)*sigma(mu[0], g2, g3)**9/(2*sigma(3*mu[0], g2, g3)), -sigma(z - mu[0], g2, g3)**3*sigma(z + 3*mu[0], g2, g3)/(sigma(z, g2, g3)**4*sigma(mu[0], g2, g3)**3*sigma(3*mu[0], g2, g3)))"
      ]
     },
     "execution_count": 19,
     "metadata": {},
     "output_type": "execute_result"
    }
   ],
   "source": [
    "_eq_1234x = Eq(\n",
    "    (XYZ.replace(Det,det).lhs.expand().collect([X,Y,Z],factor)\n",
    "    .subs(pwp(mu[0],g2,g3)**2,4*pw(mu[0],g2,g3)**3 - g2*pw(mu[0],g2,g3) - g3)\n",
    "    ).expand().collect([X,Y,Z],factor).subs(XYZ_subs),\n",
    "    XYZ.rhs\n",
    "  )\n",
    "_eq_1234x"
   ]
  },
  {
   "cell_type": "code",
   "execution_count": 20,
   "id": "449e43eb",
   "metadata": {},
   "outputs": [
    {
     "data": {
      "text/latex": [
       "$\\displaystyle \\frac{\\partial}{\\partial {\\mu}_{0}} \\operatorname{pw}{\\left({\\mu}_{0},g_{2},g_{3} \\right)} \\frac{\\partial^{3}}{\\partial {\\mu}_{0}^{3}} \\operatorname{pw}{\\left({\\mu}_{0},g_{2},g_{3} \\right)} - \\left(\\frac{\\partial^{2}}{\\partial {\\mu}_{0}^{2}} \\operatorname{pw}{\\left({\\mu}_{0},g_{2},g_{3} \\right)}\\right)^{2} = \\frac{4 \\sigma{\\left(3 {\\mu}_{0},g_{2},g_{3} \\right)}}{\\sigma^{9}{\\left({\\mu}_{0},g_{2},g_{3} \\right)}}$"
      ],
      "text/plain": [
       "Eq(Derivative(pw(mu[0], g2, g3), mu[0])*Derivative(pw(mu[0], g2, g3), (mu[0], 3)) - Derivative(pw(mu[0], g2, g3), (mu[0], 2))**2, 4*sigma(3*mu[0], g2, g3)/sigma(mu[0], g2, g3)**9)"
      ]
     },
     "execution_count": 20,
     "metadata": {},
     "output_type": "execute_result"
    },
    {
     "data": {
      "text/latex": [
       "$\\displaystyle - \\left(- \\frac{g_{2}}{2} + 6 \\operatorname{pw}^{2}{\\left({\\mu}_{0},g_{2},g_{3} \\right)}\\right)^{2} + 12 \\operatorname{pw}{\\left({\\mu}_{0},g_{2},g_{3} \\right)} \\operatorname{pwp}^{2}{\\left({\\mu}_{0},g_{2},g_{3} \\right)} = \\frac{4 \\sigma{\\left(3 {\\mu}_{0},g_{2},g_{3} \\right)}}{\\sigma^{9}{\\left({\\mu}_{0},g_{2},g_{3} \\right)}}$"
      ],
      "text/plain": [
       "Eq(-(-g2/2 + 6*pw(mu[0], g2, g3)**2)**2 + 12*pw(mu[0], g2, g3)*pwp(mu[0], g2, g3)**2, 4*sigma(3*mu[0], g2, g3)/sigma(mu[0], g2, g3)**9)"
      ]
     },
     "execution_count": 20,
     "metadata": {},
     "output_type": "execute_result"
    },
    {
     "data": {
      "text/latex": [
       "$\\displaystyle - g_{2}^{2} - 24 g_{2} \\operatorname{pw}^{2}{\\left({\\mu}_{0},g_{2},g_{3} \\right)} - 48 g_{3} \\operatorname{pw}{\\left({\\mu}_{0},g_{2},g_{3} \\right)} + 48 \\operatorname{pw}^{4}{\\left({\\mu}_{0},g_{2},g_{3} \\right)} = \\frac{16 \\sigma{\\left(3 {\\mu}_{0},g_{2},g_{3} \\right)}}{\\sigma^{9}{\\left({\\mu}_{0},g_{2},g_{3} \\right)}}$"
      ],
      "text/plain": [
       "Eq(-g2**2 - 24*g2*pw(mu[0], g2, g3)**2 - 48*g3*pw(mu[0], g2, g3) + 48*pw(mu[0], g2, g3)**4, 16*sigma(3*mu[0], g2, g3)/sigma(mu[0], g2, g3)**9)"
      ]
     },
     "execution_count": 20,
     "metadata": {},
     "output_type": "execute_result"
    }
   ],
   "source": [
    "det_const_deg_case(Nval=3, evaluated=True)\n",
    "det_const_deg_case(Nval=3, evaluated=True).subs([_eq.args for _eq in wpk_subs])\n",
    "_eq_p989h78h = det_const_deg_case(Nval=3, evaluated=True).subs([_eq.args for _eq in wpk_subs]).expand().subs(\n",
    "    pwp(mu[0],g2,g3)**2, 4*pw(mu[0],g2,g3)**3 - g2*pw(mu[0],g2,g3) - g3).expand()\n",
    "\n",
    "_eq_p989h78h = Eq(_eq_p989h78h.lhs*4, _eq_p989h78h.rhs*4)\n",
    "_eq_p989h78h"
   ]
  },
  {
   "cell_type": "code",
   "execution_count": 21,
   "id": "1b468273",
   "metadata": {},
   "outputs": [
    {
     "data": {
      "text/latex": [
       "$\\displaystyle - \\frac{\\left(g_{2} - 12 \\operatorname{pw}^{2}{\\left({\\mu}_{0},g_{2},g_{3} \\right)}\\right) \\left(\\operatorname{pw}{\\left(z,g_{2},g_{3} \\right)} - \\operatorname{pw}{\\left({\\mu}_{0},g_{2},g_{3} \\right)}\\right) \\operatorname{pwp}^{2}{\\left({\\mu}_{0},g_{2},g_{3} \\right)} \\sigma^{9}{\\left({\\mu}_{0},g_{2},g_{3} \\right)}}{4 \\sigma{\\left(3 {\\mu}_{0},g_{2},g_{3} \\right)}} + \\left(- \\operatorname{pw}{\\left(z,g_{2},g_{3} \\right)} + \\operatorname{pw}{\\left({\\mu}_{0},g_{2},g_{3} \\right)}\\right)^{2} - \\frac{\\left(\\operatorname{pwp}{\\left(z,g_{2},g_{3} \\right)} - \\operatorname{pwp}{\\left({\\mu}_{0},g_{2},g_{3} \\right)}\\right) \\operatorname{pwp}^{3}{\\left({\\mu}_{0},g_{2},g_{3} \\right)} \\sigma^{9}{\\left({\\mu}_{0},g_{2},g_{3} \\right)}}{2 \\sigma{\\left(3 {\\mu}_{0},g_{2},g_{3} \\right)}} = - \\frac{\\sigma^{3}{\\left(z - {\\mu}_{0},g_{2},g_{3} \\right)} \\sigma{\\left(z + 3 {\\mu}_{0},g_{2},g_{3} \\right)}}{\\sigma^{4}{\\left(z,g_{2},g_{3} \\right)} \\sigma^{3}{\\left({\\mu}_{0},g_{2},g_{3} \\right)} \\sigma{\\left(3 {\\mu}_{0},g_{2},g_{3} \\right)}}$"
      ],
      "text/plain": [
       "Eq(-(g2 - 12*pw(mu[0], g2, g3)**2)*(pw(z, g2, g3) - pw(mu[0], g2, g3))*pwp(mu[0], g2, g3)**2*sigma(mu[0], g2, g3)**9/(4*sigma(3*mu[0], g2, g3)) + (-pw(z, g2, g3) + pw(mu[0], g2, g3))**2 - (pwp(z, g2, g3) - pwp(mu[0], g2, g3))*pwp(mu[0], g2, g3)**3*sigma(mu[0], g2, g3)**9/(2*sigma(3*mu[0], g2, g3)), -sigma(z - mu[0], g2, g3)**3*sigma(z + 3*mu[0], g2, g3)/(sigma(z, g2, g3)**4*sigma(mu[0], g2, g3)**3*sigma(3*mu[0], g2, g3)))"
      ]
     },
     "execution_count": 21,
     "metadata": {},
     "output_type": "execute_result"
    }
   ],
   "source": [
    "_eq_1234xb = _eq_1234x.subs(*_eq_p989h78h.args).subs(\n",
    "    4*pw(mu[0],g2,g3)**3 - g2*pw(mu[0],g2,g3) - g3, pwp(mu[0],g2,g3)**2)\n",
    "_eq_1234xb"
   ]
  },
  {
   "cell_type": "code",
   "execution_count": 22,
   "id": "6a6295d4",
   "metadata": {},
   "outputs": [
    {
     "data": {
      "text/latex": [
       "$\\displaystyle \\frac{\\sigma{\\left(\\frac{3 \\omega_{1}}{2} + z,g_{2},g_{3} \\right)}}{\\sigma{\\left(\\frac{3 \\omega_{1}}{2},g_{2},g_{3} \\right)}} = \\frac{\\sigma{\\left(- \\frac{\\omega_{1}}{2} + z,g_{2},g_{3} \\right)} e^{2 \\eta_{1} z}}{\\sigma{\\left(- \\frac{\\omega_{1}}{2},g_{2},g_{3} \\right)}}$"
      ],
      "text/plain": [
       "Eq(sigma(3*omega1/2 + z, g2, g3)/sigma(3*omega1/2, g2, g3), sigma(-omega1/2 + z, g2, g3)*exp(2*eta1*z)/sigma(-omega1/2, g2, g3))"
      ]
     },
     "execution_count": 22,
     "metadata": {},
     "output_type": "execute_result"
    },
    {
     "data": {
      "text/latex": [
       "$\\displaystyle \\operatorname{pwp}{\\left(\\frac{\\omega_{1}}{2},g_{2},g_{3} \\right)} = - \\frac{\\sigma{\\left(\\omega_{1},g_{2},g_{3} \\right)}}{\\sigma^{4}{\\left(\\frac{\\omega_{1}}{2},g_{2},g_{3} \\right)}}$"
      ],
      "text/plain": [
       "Eq(pwp(omega1/2, g2, g3), -sigma(omega1, g2, g3)/sigma(omega1/2, g2, g3)**4)"
      ]
     },
     "execution_count": 22,
     "metadata": {},
     "output_type": "execute_result"
    }
   ],
   "source": [
    "_qq_a = quasi_period.subs([(m,0),(n,1),(z,z-omega1/2)])\n",
    "_qq_b = Eq(_qq_a.lhs/_qq_a.lhs.subs(z,0), (_qq_a.rhs/_qq_a.rhs.subs(z,0)).simplify())\n",
    "\n",
    "_pwp_omega1 = Eq(pwp(omega1/2,g2,g3), - sigma(omega1,g2,g3)/sigma(omega1/2,g2,g3)**4)\n",
    "_qq_b\n",
    "_pwp_omega1"
   ]
  },
  {
   "cell_type": "code",
   "execution_count": 23,
   "id": "ae11688a",
   "metadata": {},
   "outputs": [
    {
     "data": {
      "text/latex": [
       "$\\displaystyle \\sigma{\\left(\\frac{3 \\omega_{1}}{2},g_{2},g_{3} \\right)} = \\sigma{\\left(\\frac{\\omega_{1}}{2},g_{2},g_{3} \\right)} e^{\\eta_{1} \\omega_{1}}$"
      ],
      "text/plain": [
       "Eq(sigma(3*omega1/2, g2, g3), sigma(omega1/2, g2, g3)*exp(eta1*omega1))"
      ]
     },
     "execution_count": 23,
     "metadata": {},
     "output_type": "execute_result"
    }
   ],
   "source": [
    "q3omega_1omega = (quasi_period\n",
    "                  .subs([(m,0),(n,1),(z,z-omega1/2)])\n",
    "                  .subs(z,0).subs(sigma(-omega1/2,g2,g3), -sigma(omega1/2,g2,g3))\n",
    "                 )\n",
    "q3omega_1omega"
   ]
  },
  {
   "cell_type": "code",
   "execution_count": 24,
   "id": "6c9e1276",
   "metadata": {},
   "outputs": [
    {
     "data": {
      "text/latex": [
       "$\\displaystyle - \\frac{\\left(g_{2} - 12 \\operatorname{pw}^{2}{\\left(\\frac{\\omega_{1}}{2},g_{2},g_{3} \\right)}\\right) \\left(- \\operatorname{pw}{\\left(\\frac{\\omega_{1}}{2},g_{2},g_{3} \\right)} + \\operatorname{pw}{\\left(z,g_{2},g_{3} \\right)}\\right) \\sigma^{2}{\\left(\\omega_{1},g_{2},g_{3} \\right)} e^{- \\eta_{1} \\omega_{1}}}{4} + \\left(\\operatorname{pw}{\\left(\\frac{\\omega_{1}}{2},g_{2},g_{3} \\right)} - \\operatorname{pw}{\\left(z,g_{2},g_{3} \\right)}\\right)^{2} + \\frac{\\left(\\operatorname{pwp}{\\left(z,g_{2},g_{3} \\right)} + \\frac{\\sigma{\\left(\\omega_{1},g_{2},g_{3} \\right)}}{\\sigma^{4}{\\left(\\frac{\\omega_{1}}{2},g_{2},g_{3} \\right)}}\\right) \\sigma^{3}{\\left(\\omega_{1},g_{2},g_{3} \\right)} e^{- \\eta_{1} \\omega_{1}}}{2 \\sigma^{4}{\\left(\\frac{\\omega_{1}}{2},g_{2},g_{3} \\right)}} = \\frac{\\sigma^{4}{\\left(- \\frac{\\omega_{1}}{2} + z,g_{2},g_{3} \\right)} e^{2 \\eta_{1} z}}{\\sigma^{4}{\\left(\\frac{\\omega_{1}}{2},g_{2},g_{3} \\right)} \\sigma^{4}{\\left(z,g_{2},g_{3} \\right)}}$"
      ],
      "text/plain": [
       "Eq(-(g2 - 12*pw(omega1/2, g2, g3)**2)*(-pw(omega1/2, g2, g3) + pw(z, g2, g3))*sigma(omega1, g2, g3)**2*exp(-eta1*omega1)/4 + (pw(omega1/2, g2, g3) - pw(z, g2, g3))**2 + (pwp(z, g2, g3) + sigma(omega1, g2, g3)/sigma(omega1/2, g2, g3)**4)*sigma(omega1, g2, g3)**3*exp(-eta1*omega1)/(2*sigma(omega1/2, g2, g3)**4), sigma(-omega1/2 + z, g2, g3)**4*exp(2*eta1*z)/(sigma(omega1/2, g2, g3)**4*sigma(z, g2, g3)**4))"
      ]
     },
     "execution_count": 24,
     "metadata": {},
     "output_type": "execute_result"
    }
   ],
   "source": [
    "_eq_1234xc = (_eq_1234xb.subs(mu[0], omega1/2).subs(*_qq_b.args).subs(*_pwp_omega1.args)\n",
    ".subs(*(quasi_period.subs([(m,0),(n,1),(z,z-omega1/2)])\n",
    "      .subs(z,0).subs(sigma(-omega1/2,g2,g3), -sigma(omega1/2,g2,g3))).args)\n",
    ").subs(sigma(-omega1/2,g2,g3), -sigma(omega1/2,g2,g3))\n",
    "_eq_1234xc"
   ]
  },
  {
   "cell_type": "code",
   "execution_count": 77,
   "id": "f16f001d",
   "metadata": {},
   "outputs": [
    {
     "data": {
      "text/latex": [
       "$\\displaystyle - \\operatorname{pw}{\\left(x,g_{2},g_{3} \\right)} + \\operatorname{pw}{\\left(y,g_{2},g_{3} \\right)} = \\frac{\\sigma{\\left(x - y,g_{2},g_{3} \\right)} \\sigma{\\left(x + y,g_{2},g_{3} \\right)}}{\\sigma^{2}{\\left(x,g_{2},g_{3} \\right)} \\sigma^{2}{\\left(y,g_{2},g_{3} \\right)}}$"
      ],
      "text/plain": [
       "Eq(-pw(x, g2, g3) + pw(y, g2, g3), sigma(x - y, g2, g3)*sigma(x + y, g2, g3)/(sigma(x, g2, g3)**2*sigma(y, g2, g3)**2))"
      ]
     },
     "execution_count": 77,
     "metadata": {},
     "output_type": "execute_result"
    },
    {
     "data": {
      "text/latex": [
       "$\\displaystyle \\operatorname{pwp}{\\left(z,g_{2},g_{3} \\right)} = - \\frac{\\sigma{\\left(2 z,g_{2},g_{3} \\right)}}{\\sigma^{4}{\\left(z,g_{2},g_{3} \\right)}}$"
      ],
      "text/plain": [
       "Eq(pwp(z, g2, g3), -sigma(2*z, g2, g3)/sigma(z, g2, g3)**4)"
      ]
     },
     "execution_count": 77,
     "metadata": {},
     "output_type": "execute_result"
    },
    {
     "data": {
      "text/latex": [
       "$\\displaystyle e^{\\eta_{1} \\omega_{1}} = \\left(\\operatorname{pw}{\\left(\\frac{\\omega_{1}}{2},g_{2},g_{3} \\right)} - \\operatorname{pw}{\\left(\\omega_{1},g_{2},g_{3} \\right)}\\right) \\sigma^{2}{\\left(\\omega_{1},g_{2},g_{3} \\right)}$"
      ],
      "text/plain": [
       "Eq(exp(eta1*omega1), (pw(omega1/2, g2, g3) - pw(omega1, g2, g3))*sigma(omega1, g2, g3)**2)"
      ]
     },
     "execution_count": 77,
     "metadata": {},
     "output_type": "execute_result"
    },
    {
     "data": {
      "text/latex": [
       "$\\displaystyle \\sigma{\\left(\\omega_{1},g_{2},g_{3} \\right)} = - \\operatorname{pwp}{\\left(\\frac{\\omega_{1}}{2},g_{2},g_{3} \\right)} \\sigma^{4}{\\left(\\frac{\\omega_{1}}{2},g_{2},g_{3} \\right)}$"
      ],
      "text/plain": [
       "Eq(sigma(omega1, g2, g3), -pwp(omega1/2, g2, g3)*sigma(omega1/2, g2, g3)**4)"
      ]
     },
     "execution_count": 77,
     "metadata": {},
     "output_type": "execute_result"
    }
   ],
   "source": [
    "order2 = Eq(-pw(omega1, g2, g3) + pw(z, g2, g3),\n",
    " sigma(-omega1 + z, g2, g3)**2*exp(2*eta1*z)/(sigma(omega1, g2, g3)**2*sigma(z, g2, g3)**2))\n",
    "\n",
    "pwp_sigma_dbl_ratio = Eq(pwp(z,g2,g3), - sigma(2*z,g2,g3)/sigma(z,g2,g3)**4)\n",
    "\n",
    "exp_eta1_omega1 = Eq(exp(eta1*omega1), \n",
    "   solve(order2.subs(z, omega1/2).subs(sigma(-omega1/2,g2,g3), sigma(omega1/2,g2,g3)), exp(eta1*omega1))[0])\n",
    "\n",
    "pwp_omega1_ov2 = Eq(sigma(omega1,g2,g3),solve(pwp_sigma_dbl_ratio.subs(z,omega1/2),sigma(omega1,g2,g3))[0])\n",
    "\n",
    "sigma_p_identity\n",
    "pwp_sigma_dbl_ratio\n",
    "exp_eta1_omega1\n",
    "pwp_omega1_ov2"
   ]
  },
  {
   "cell_type": "code",
   "execution_count": 78,
   "id": "96307d0a",
   "metadata": {},
   "outputs": [
    {
     "data": {
      "text/latex": [
       "$\\displaystyle - \\frac{\\left(g_{2} - 12 \\operatorname{pw}^{2}{\\left(\\frac{\\omega_{1}}{2},g_{2},g_{3} \\right)}\\right) \\left(- \\operatorname{pw}{\\left(\\frac{\\omega_{1}}{2},g_{2},g_{3} \\right)} + \\operatorname{pw}{\\left(z,g_{2},g_{3} \\right)}\\right)}{4 \\left(\\operatorname{pw}{\\left(\\frac{\\omega_{1}}{2},g_{2},g_{3} \\right)} - \\operatorname{pw}{\\left(\\omega_{1},g_{2},g_{3} \\right)}\\right)} + \\left(\\operatorname{pw}{\\left(\\frac{\\omega_{1}}{2},g_{2},g_{3} \\right)} - \\operatorname{pw}{\\left(z,g_{2},g_{3} \\right)}\\right)^{2} - \\frac{\\left(- \\operatorname{pwp}{\\left(\\frac{\\omega_{1}}{2},g_{2},g_{3} \\right)} + \\operatorname{pwp}{\\left(z,g_{2},g_{3} \\right)}\\right) \\operatorname{pwp}{\\left(\\frac{\\omega_{1}}{2},g_{2},g_{3} \\right)}}{2 \\left(\\operatorname{pw}{\\left(\\frac{\\omega_{1}}{2},g_{2},g_{3} \\right)} - \\operatorname{pw}{\\left(\\omega_{1},g_{2},g_{3} \\right)}\\right)} = \\frac{\\sigma^{4}{\\left(- \\frac{\\omega_{1}}{2} + z,g_{2},g_{3} \\right)} e^{2 \\eta_{1} z}}{\\sigma^{4}{\\left(\\frac{\\omega_{1}}{2},g_{2},g_{3} \\right)} \\sigma^{4}{\\left(z,g_{2},g_{3} \\right)}}$"
      ],
      "text/plain": [
       "Eq(-(g2 - 12*pw(omega1/2, g2, g3)**2)*(-pw(omega1/2, g2, g3) + pw(z, g2, g3))/(4*(pw(omega1/2, g2, g3) - pw(omega1, g2, g3))) + (pw(omega1/2, g2, g3) - pw(z, g2, g3))**2 - (-pwp(omega1/2, g2, g3) + pwp(z, g2, g3))*pwp(omega1/2, g2, g3)/(2*(pw(omega1/2, g2, g3) - pw(omega1, g2, g3))), sigma(-omega1/2 + z, g2, g3)**4*exp(2*eta1*z)/(sigma(omega1/2, g2, g3)**4*sigma(z, g2, g3)**4))"
      ]
     },
     "execution_count": 78,
     "metadata": {},
     "output_type": "execute_result"
    }
   ],
   "source": [
    "_eq_1234xc.subs([exp_eta1_omega1.args, pwp_omega1_ov2.args])"
   ]
  },
  {
   "cell_type": "code",
   "execution_count": 91,
   "id": "74b4634c",
   "metadata": {},
   "outputs": [
    {
     "data": {
      "text/latex": [
       "$\\displaystyle \\frac{g_{2} - 12 \\operatorname{pw}^{2}{\\left(\\frac{\\omega_{1}}{2},g_{2},g_{3} \\right)}}{4} - \\frac{\\operatorname{pwp}^{2}{\\left(\\frac{\\omega_{1}}{2},g_{2},g_{3} \\right)}}{2 \\left(- \\operatorname{pw}{\\left(\\frac{\\omega_{1}}{2},g_{2},g_{3} \\right)} + \\operatorname{pw}{\\left(\\omega_{1},g_{2},g_{3} \\right)}\\right)} = 0$"
      ],
      "text/plain": [
       "Eq((g2 - 12*pw(omega1/2, g2, g3)**2)/4 - pwp(omega1/2, g2, g3)**2/(2*(-pw(omega1/2, g2, g3) + pw(omega1, g2, g3))), 0)"
      ]
     },
     "execution_count": 91,
     "metadata": {},
     "output_type": "execute_result"
    }
   ],
   "source": [
    "_pw_omega1_omega1_ov2 = (_eq_1234xc.subs([exp_eta1_omega1.args, pwp_omega1_ov2.args])\n",
    ".subs(z,omega1).subs(pwp(omega1,g2,g3),0)\n",
    " .subs(*exp_eta1_omega1.args)\n",
    ")\n",
    "_pw_omega1_omega1_ov2 = Eq((_pw_omega1_omega1_ov2.lhs - _pw_omega1_omega1_ov2.rhs)\n",
    "                           .expand().collect(pwp(omega1/2,g2,g3),factor), 0)\n",
    "_pw_omega1_omega1_ov2"
   ]
  },
  {
   "cell_type": "code",
   "execution_count": 97,
   "id": "c02886c1",
   "metadata": {},
   "outputs": [
    {
     "data": {
      "text/latex": [
       "$\\displaystyle \\operatorname{pw}{\\left(\\frac{\\omega_{1}}{2},g_{2},g_{3} \\right)} = - \\operatorname{pw}{\\left(\\frac{\\omega_{1}}{2},g_{2},g_{3} \\right)} - \\operatorname{pw}{\\left(\\omega_{1},g_{2},g_{3} \\right)} + \\frac{\\operatorname{pwp}^{2}{\\left(\\frac{\\omega_{1}}{2},g_{2},g_{3} \\right)}}{4 \\left(- \\operatorname{pw}{\\left(\\frac{\\omega_{1}}{2},g_{2},g_{3} \\right)} + \\operatorname{pw}{\\left(\\omega_{1},g_{2},g_{3} \\right)}\\right)^{2}}$"
      ],
      "text/plain": [
       "Eq(pw(omega1/2, g2, g3), -pw(omega1/2, g2, g3) - pw(omega1, g2, g3) + pwp(omega1/2, g2, g3)**2/(4*(-pw(omega1/2, g2, g3) + pw(omega1, g2, g3))**2))"
      ]
     },
     "execution_count": 97,
     "metadata": {},
     "output_type": "execute_result"
    },
    {
     "data": {
      "text/latex": [
       "$\\displaystyle \\operatorname{pw}{\\left(2 z,g_{2},g_{3} \\right)} = - 2 \\operatorname{pw}{\\left(z,g_{2},g_{3} \\right)} + \\frac{\\left(\\frac{\\partial^{2}}{\\partial z^{2}} \\operatorname{pw}{\\left(z,g_{2},g_{3} \\right)}\\right)^{2}}{4 \\left(\\frac{\\partial}{\\partial z} \\operatorname{pw}{\\left(z,g_{2},g_{3} \\right)}\\right)^{2}}$"
      ],
      "text/plain": [
       "Eq(pw(2*z, g2, g3), -2*pw(z, g2, g3) + Derivative(pw(z, g2, g3), (z, 2))**2/(4*Derivative(pw(z, g2, g3), z)**2))"
      ]
     },
     "execution_count": 97,
     "metadata": {},
     "output_type": "execute_result"
    },
    {
     "data": {
      "text/latex": [
       "$\\displaystyle \\operatorname{pw}{\\left(\\omega_{1},g_{2},g_{3} \\right)} = \\frac{\\left(- \\frac{g_{2}}{2} + 6 \\operatorname{pw}^{2}{\\left(\\frac{\\omega_{1}}{2},g_{2},g_{3} \\right)}\\right)^{2}}{4 \\operatorname{pwp}^{2}{\\left(\\frac{\\omega_{1}}{2},g_{2},g_{3} \\right)}} - 2 \\operatorname{pw}{\\left(\\frac{\\omega_{1}}{2},g_{2},g_{3} \\right)}$"
      ],
      "text/plain": [
       "Eq(pw(omega1, g2, g3), (-g2/2 + 6*pw(omega1/2, g2, g3)**2)**2/(4*pwp(omega1/2, g2, g3)**2) - 2*pw(omega1/2, g2, g3))"
      ]
     },
     "execution_count": 97,
     "metadata": {},
     "output_type": "execute_result"
    }
   ],
   "source": [
    "pw_xy_addition.subs([(x,omega1),(y,-omega1/2)]).subs([\n",
    "    (pw(-omega1/2,g2,g3), pw(omega1/2,g2,g3)), (pwp(-omega1/2,g2,g3), -pwp(omega1/2,g2,g3)),\n",
    "    (pwp(omega1,g2,g3), 0)\n",
    "])\n",
    "p_duplication_a\n",
    "p_duplication_b.subs([(z,omega1/2)]).subs([\n",
    "    (pw(-omega1/2,g2,g3), pw(omega1/2,g2,g3)), (pwp(-omega1/2,g2,g3), -pwp(omega1/2,g2,g3)),\n",
    "    (pwp(omega1,g2,g3), 0)\n",
    "])"
   ]
  },
  {
   "cell_type": "code",
   "execution_count": 112,
   "id": "0c0f7442",
   "metadata": {},
   "outputs": [
    {
     "data": {
      "text/latex": [
       "$\\displaystyle \\operatorname{pw}{\\left(\\omega_{1},g_{2},g_{3} \\right)} = - 2 \\operatorname{pw}{\\left(\\frac{\\omega_{1}}{2},g_{2},g_{3} \\right)} + \\frac{\\operatorname{pwp}^{2}{\\left(\\frac{\\omega_{1}}{2},g_{2},g_{3} \\right)}}{4 \\left(- \\operatorname{pw}{\\left(\\frac{\\omega_{1}}{2},g_{2},g_{3} \\right)} + \\operatorname{pw}{\\left(\\omega_{1},g_{2},g_{3} \\right)}\\right)^{2}}$"
      ],
      "text/plain": [
       "Eq(pw(omega1, g2, g3), -2*pw(omega1/2, g2, g3) + pwp(omega1/2, g2, g3)**2/(4*(-pw(omega1/2, g2, g3) + pw(omega1, g2, g3))**2))"
      ]
     },
     "execution_count": 112,
     "metadata": {},
     "output_type": "execute_result"
    }
   ],
   "source": [
    "pw_pwp_omega1_omega1ov2 = p_duplication_b.subs([(z,omega1/2)]).subs([\n",
    "    (pw(-omega1/2,g2,g3), pw(omega1/2,g2,g3)), (pwp(-omega1/2,g2,g3), -pwp(omega1/2,g2,g3)),\n",
    "    (pwp(omega1,g2,g3), 0)\n",
    "]).subs(_pw_omega1_omega1_ov2.args[0].args[0].expand()*2, -_pw_omega1_omega1_ov2.args[0].args[1]*2)\n",
    "\n",
    "pw_pwp_omega1_omega1ov2"
   ]
  },
  {
   "cell_type": "code",
   "execution_count": 122,
   "id": "6551a278",
   "metadata": {},
   "outputs": [
    {
     "data": {
      "text/latex": [
       "$\\displaystyle - 4 \\left(- \\operatorname{pw}{\\left(\\frac{\\omega_{1}}{2},g_{2},g_{3} \\right)} + \\operatorname{pw}{\\left(\\omega_{1},g_{2},g_{3} \\right)}\\right) \\left(2 \\operatorname{pw}{\\left(\\frac{\\omega_{1}}{2},g_{2},g_{3} \\right)} + \\operatorname{pw}{\\left(\\omega_{1},g_{2},g_{3} \\right)}\\right) + 2 \\left(- \\operatorname{pw}{\\left(\\frac{\\omega_{1}}{2},g_{2},g_{3} \\right)} + \\operatorname{pw}{\\left(z,g_{2},g_{3} \\right)}\\right)^{2} + 4 \\left(- \\operatorname{pw}{\\left(\\frac{\\omega_{1}}{2},g_{2},g_{3} \\right)} + \\operatorname{pw}{\\left(z,g_{2},g_{3} \\right)}\\right) \\left(2 \\operatorname{pw}{\\left(\\frac{\\omega_{1}}{2},g_{2},g_{3} \\right)} + \\operatorname{pw}{\\left(\\omega_{1},g_{2},g_{3} \\right)}\\right) = \\frac{\\sigma^{4}{\\left(- \\frac{\\omega_{1}}{2} + z,g_{2},g_{3} \\right)} e^{2 \\eta_{1} z}}{\\sigma^{4}{\\left(\\frac{\\omega_{1}}{2},g_{2},g_{3} \\right)} \\sigma^{4}{\\left(z,g_{2},g_{3} \\right)}} + \\frac{\\sigma^{4}{\\left(\\frac{\\omega_{1}}{2} + z,g_{2},g_{3} \\right)} e^{- 2 \\eta_{1} z}}{\\sigma^{4}{\\left(\\frac{\\omega_{1}}{2},g_{2},g_{3} \\right)} \\sigma^{4}{\\left(z,g_{2},g_{3} \\right)}}$"
      ],
      "text/plain": [
       "Eq(-4*(-pw(omega1/2, g2, g3) + pw(omega1, g2, g3))*(2*pw(omega1/2, g2, g3) + pw(omega1, g2, g3)) + 2*(-pw(omega1/2, g2, g3) + pw(z, g2, g3))**2 + 4*(-pw(omega1/2, g2, g3) + pw(z, g2, g3))*(2*pw(omega1/2, g2, g3) + pw(omega1, g2, g3)), sigma(-omega1/2 + z, g2, g3)**4*exp(2*eta1*z)/(sigma(omega1/2, g2, g3)**4*sigma(z, g2, g3)**4) + sigma(omega1/2 + z, g2, g3)**4*exp(-2*eta1*z)/(sigma(omega1/2, g2, g3)**4*sigma(z, g2, g3)**4))"
      ]
     },
     "execution_count": 122,
     "metadata": {},
     "output_type": "execute_result"
    }
   ],
   "source": [
    "__xx = (_eq_1234xc.subs([exp_eta1_omega1.args, pwp_omega1_ov2.args])\n",
    ".subs(_pw_omega1_omega1_ov2.args[0].args[0]*4, -_pw_omega1_omega1_ov2.args[0].args[1]*4)\n",
    " .expand()\n",
    ".subs(pwp(omega1/2,g2,g3)**2, solve(pw_pwp_omega1_omega1ov2,pwp(omega1/2,g2,g3)**2)[0])\n",
    ")\n",
    "__H = Eq(__xx.lhs.subs(pwp(z,g2,g3),0).expand().simplify()*2, __xx.rhs + __xx.rhs.subs(z,-z))\n",
    "__H = Eq(__H.lhs.subs(pw(z,g2,g3), X + pw(omega1/2,g2,g3)).expand().collect(X,factor)\n",
    "         .subs(X, pw(z,g2,g3) - pw(omega1/2,g2,g3)),__H.rhs.subs([\n",
    "             (sigma(-omega1/2 - z, g2, g3),sigma(omega1/2 + z, g2, g3)),(sigma(-z, g2, g3), -sigma(z, g2, g3))\n",
    "         ]))\n",
    "__H"
   ]
  },
  {
   "cell_type": "code",
   "execution_count": 184,
   "id": "19098c3e",
   "metadata": {},
   "outputs": [
    {
     "data": {
      "text/latex": [
       "$\\displaystyle 0 = - g_{2} \\operatorname{pw}{\\left(\\omega_{1},g_{2},g_{3} \\right)} - g_{3} + 4 \\operatorname{pw}^{3}{\\left(\\omega_{1},g_{2},g_{3} \\right)}$"
      ],
      "text/plain": [
       "Eq(0, -g2*pw(omega1, g2, g3) - g3 + 4*pw(omega1, g2, g3)**3)"
      ]
     },
     "execution_count": 184,
     "metadata": {},
     "output_type": "execute_result"
    },
    {
     "data": {
      "text/latex": [
       "$\\displaystyle \\operatorname{pwp}^{2}{\\left(\\frac{\\omega_{1}}{2},g_{2},g_{3} \\right)} = - g_{2} \\operatorname{pw}{\\left(\\frac{\\omega_{1}}{2},g_{2},g_{3} \\right)} - g_{3} + 4 \\operatorname{pw}^{3}{\\left(\\frac{\\omega_{1}}{2},g_{2},g_{3} \\right)}$"
      ],
      "text/plain": [
       "Eq(pwp(omega1/2, g2, g3)**2, -g2*pw(omega1/2, g2, g3) - g3 + 4*pw(omega1/2, g2, g3)**3)"
      ]
     },
     "execution_count": 184,
     "metadata": {},
     "output_type": "execute_result"
    },
    {
     "data": {
      "text/latex": [
       "$\\displaystyle g_{2} = 4 \\left(- \\operatorname{pw}^{2}{\\left(\\frac{\\omega_{1}}{2},g_{2},g_{3} \\right)} + 2 \\operatorname{pw}{\\left(\\frac{\\omega_{1}}{2},g_{2},g_{3} \\right)} \\operatorname{pw}{\\left(\\omega_{1},g_{2},g_{3} \\right)} + 2 \\operatorname{pw}^{2}{\\left(\\omega_{1},g_{2},g_{3} \\right)}\\right)$"
      ],
      "text/plain": [
       "Eq(g2, 4*(-pw(omega1/2, g2, g3)**2 + 2*pw(omega1/2, g2, g3)*pw(omega1, g2, g3) + 2*pw(omega1, g2, g3)**2))"
      ]
     },
     "execution_count": 184,
     "metadata": {},
     "output_type": "execute_result"
    },
    {
     "data": {
      "text/latex": [
       "$\\displaystyle g_{3} = - 4 \\left(- \\operatorname{pw}^{2}{\\left(\\frac{\\omega_{1}}{2},g_{2},g_{3} \\right)} + 2 \\operatorname{pw}{\\left(\\frac{\\omega_{1}}{2},g_{2},g_{3} \\right)} \\operatorname{pw}{\\left(\\omega_{1},g_{2},g_{3} \\right)} + \\operatorname{pw}^{2}{\\left(\\omega_{1},g_{2},g_{3} \\right)}\\right) \\operatorname{pw}{\\left(\\omega_{1},g_{2},g_{3} \\right)}$"
      ],
      "text/plain": [
       "Eq(g3, -4*(-pw(omega1/2, g2, g3)**2 + 2*pw(omega1/2, g2, g3)*pw(omega1, g2, g3) + pw(omega1, g2, g3)**2)*pw(omega1, g2, g3))"
      ]
     },
     "execution_count": 184,
     "metadata": {},
     "output_type": "execute_result"
    }
   ],
   "source": [
    "Eq(0,4*pw(omega1,g2,g3)**3 - g2*pw(omega1,g2,g3) - g3)\n",
    "Eq(pwp(omega1/2,g2,g3)**2, 4*pw(omega1/2,g2,g3)**3 - g2*pw(omega1/2,g2,g3) - g3)\n",
    "# Eq(pwp(omega1/2,g2,g3)**2,( 4*pw(omega1/2,g2,g3)**3 - g2*pw(omega1/2,g2,g3) - g3 -\n",
    "#    (4*pw(omega1,g2,g3)**3 - g2*pw(omega1,g2,g3) - g3)).factor()).subs(\n",
    "#     pwp(omega1/2,g2,g3)**2, solve(_pw_omega1_omega1_ov2, pwp(omega1/2,g2,g3)**2)[0].factor())\n",
    "g2_pw_omega1_omega1ov2 = Eq(g2,solve(Eq((x - 12*pw(omega1/2, g2, g3)**2)*(-pw(omega1/2, g2, g3) +\n",
    "                                                                          pw(omega1, g2, g3))/2,\n",
    " (-pw(omega1/2, g2, g3) + pw(omega1, g2, g3))*\n",
    "         (x - 4*pw(omega1/2, g2, g3)**2 - 4*pw(omega1/2, g2, g3)*pw(omega1, g2, g3) - \n",
    "          4*pw(omega1, g2, g3)**2)),x)[0].factor())\n",
    "g3_pw_omega1_omega1ov2 = Eq(g3,\n",
    "                            (g3+4*pw(omega1,g2,g3)**3 - x*pw(omega1,g2,g3) - g3)\n",
    "                            .subs(x,g2_pw_omega1_omega1ov2.rhs).expand().factor())\n",
    "\n",
    "g2_pw_omega1_omega1ov2\n",
    "g3_pw_omega1_omega1ov2"
   ]
  },
  {
   "cell_type": "code",
   "execution_count": 193,
   "id": "9b2999fe",
   "metadata": {},
   "outputs": [
    {
     "data": {
      "text/latex": [
       "$\\displaystyle X = - \\operatorname{pw}{\\left(\\frac{\\omega_{1}}{2},g_{2},g_{3} \\right)} + \\operatorname{pw}{\\left(\\omega_{1},g_{2},g_{3} \\right)}$"
      ],
      "text/plain": [
       "Eq(X, -pw(omega1/2, g2, g3) + pw(omega1, g2, g3))"
      ]
     },
     "execution_count": 193,
     "metadata": {},
     "output_type": "execute_result"
    },
    {
     "data": {
      "text/latex": [
       "$\\displaystyle Y = 2 \\operatorname{pw}{\\left(\\frac{\\omega_{1}}{2},g_{2},g_{3} \\right)} + \\operatorname{pw}{\\left(\\omega_{1},g_{2},g_{3} \\right)}$"
      ],
      "text/plain": [
       "Eq(Y, 2*pw(omega1/2, g2, g3) + pw(omega1, g2, g3))"
      ]
     },
     "execution_count": 193,
     "metadata": {},
     "output_type": "execute_result"
    },
    {
     "data": {
      "text/latex": [
       "$\\displaystyle g_{2} = \\frac{4 \\left(X^{2} + 4 X Y + Y^{2}\\right)}{3}$"
      ],
      "text/plain": [
       "Eq(g2, 4*(X**2 + 4*X*Y + Y**2)/3)"
      ]
     },
     "execution_count": 193,
     "metadata": {},
     "output_type": "execute_result"
    },
    {
     "data": {
      "text/latex": [
       "$\\displaystyle g_{3} = \\frac{4 \\cdot \\left(2 X + Y\\right) \\left(X^{2} - 8 X Y - 2 Y^{2}\\right)}{27}$"
      ],
      "text/plain": [
       "Eq(g3, 4*(2*X + Y)*(X**2 - 8*X*Y - 2*Y**2)/27)"
      ]
     },
     "execution_count": 193,
     "metadata": {},
     "output_type": "execute_result"
    }
   ],
   "source": [
    "Xeq1__ = Eq(X, -pw(omega1/2, g2, g3) + pw(omega1, g2, g3))\n",
    "Yeq1__ = Eq(Y, 2*pw(omega1/2, g2, g3) + pw(omega1, g2, g3))\n",
    "__XYsols = solve([Xeq1__,Yeq1__],[pw(omega1/2, g2, g3), pw(omega1, g2, g3)])\n",
    "Xeq1__\n",
    "Yeq1__\n",
    "\n",
    "Eq(g2_pw_omega1_omega1ov2.lhs, \n",
    "   g2_pw_omega1_omega1ov2.rhs.subs([(pw(omega1, g2, g3), __XYsols[pw(omega1, g2, g3)]),\n",
    "                            (pw(omega1/2, g2, g3), __XYsols[pw(omega1/2, g2, g3)])]).expand().factor())\n",
    "Eq(g3_pw_omega1_omega1ov2.lhs, \n",
    "   g3_pw_omega1_omega1ov2.rhs.subs([(pw(omega1, g2, g3), __XYsols[pw(omega1, g2, g3)]),\n",
    "                            (pw(omega1/2, g2, g3), __XYsols[pw(omega1/2, g2, g3)])]).expand().factor())\n"
   ]
  },
  {
   "cell_type": "code",
   "execution_count": 199,
   "id": "425ed922",
   "metadata": {},
   "outputs": [
    {
     "data": {
      "text/latex": [
       "$\\displaystyle g_{2} = - 4 X^{2} + 12 \\operatorname{pw}^{2}{\\left(\\omega_{1},g_{2},g_{3} \\right)}$"
      ],
      "text/plain": [
       "Eq(g2, -4*X**2 + 12*pw(omega1, g2, g3)**2)"
      ]
     },
     "execution_count": 199,
     "metadata": {},
     "output_type": "execute_result"
    },
    {
     "data": {
      "text/latex": [
       "$\\displaystyle g_{3} = 4 X^{2} \\operatorname{pw}{\\left(\\omega_{1},g_{2},g_{3} \\right)} - 2 g_{2} \\operatorname{pw}{\\left(\\omega_{1},g_{2},g_{3} \\right)} + 2 g_{3}$"
      ],
      "text/plain": [
       "Eq(g3, 4*X**2*pw(omega1, g2, g3) - 2*g2*pw(omega1, g2, g3) + 2*g3)"
      ]
     },
     "execution_count": 199,
     "metadata": {},
     "output_type": "execute_result"
    }
   ],
   "source": [
    "Eq(g2_pw_omega1_omega1ov2.lhs, \n",
    "   g2_pw_omega1_omega1ov2.rhs.subs([(pw(omega1, g2, g3), __XYsols[pw(omega1, g2, g3)]),\n",
    "                            (pw(omega1/2, g2, g3), __XYsols[pw(omega1/2, g2, g3)])]).expand().factor()\n",
    "  ).subs(Y,-2*X+3*pw(omega1,g2,g3)).expand()\n",
    "Eq(g3_pw_omega1_omega1ov2.lhs, \n",
    "   g3_pw_omega1_omega1ov2.rhs.subs([(pw(omega1, g2, g3), __XYsols[pw(omega1, g2, g3)]),\n",
    "                            (pw(omega1/2, g2, g3), __XYsols[pw(omega1/2, g2, g3)])]).expand().factor()\n",
    "  ).subs(Y,-2*X+3*pw(omega1,g2,g3)).expand().subs(pw(omega1,g2,g3)**3,g2*pw(omega1,g2,g3)/4-g3/4)"
   ]
  },
  {
   "cell_type": "markdown",
   "id": "87339a09",
   "metadata": {},
   "source": [
    "### Alternative method of evaluating at certain points to get coefficients\n",
    "\n",
    "Instead of expanding the determinant to get the expressions for coefficients, it is also possible to use what we know about the form of the left hand side in terms of Weierstrass P and P Prime with argument $z$ to then just solve for the unknown coefficients $c_i$ in terms of the right hand side at certain values."
   ]
  },
  {
   "cell_type": "code",
   "execution_count": 26,
   "id": "a7acd372",
   "metadata": {},
   "outputs": [
    {
     "data": {
      "text/latex": [
       "$\\displaystyle \\operatorname{pw}^{2}{\\left(z,g_{2},g_{3} \\right)} {c}_{3} + \\operatorname{pw}{\\left(z,g_{2},g_{3} \\right)} {c}_{2} + \\operatorname{pwp}{\\left(z,g_{2},g_{3} \\right)} {c}_{1} + {c}_{0} = \\frac{\\sigma^{4}{\\left(- \\frac{\\omega_{1}}{2} + z,g_{2},g_{3} \\right)} e^{2 \\eta_{1} z}}{\\sigma^{4}{\\left(\\frac{\\omega_{1}}{2},g_{2},g_{3} \\right)} \\sigma^{4}{\\left(z,g_{2},g_{3} \\right)}}$"
      ],
      "text/plain": [
       "Eq(pw(z, g2, g3)**2*c[3] + pw(z, g2, g3)*c[2] + pwp(z, g2, g3)*c[1] + c[0], sigma(-omega1/2 + z, g2, g3)**4*exp(2*eta1*z)/(sigma(omega1/2, g2, g3)**4*sigma(z, g2, g3)**4))"
      ]
     },
     "execution_count": 26,
     "metadata": {},
     "output_type": "execute_result"
    }
   ],
   "source": [
    "eq_c_4 = Eq(c[0] + c[1]*pwp(z,g2,g3) + c[2]*pw(z,g2,g3) + c[3]*pw(z,g2,g3)**2, \n",
    "   (sigma(z - 2*omega1/4, g2, g3)/sigma(z, g2, g3)/sigma(2*omega1/4, g2, g3))**4*exp(2*eta1*z)\n",
    "  )\n",
    "\n",
    "eq_c_4"
   ]
  },
  {
   "cell_type": "code",
   "execution_count": 27,
   "id": "74ef08f1",
   "metadata": {},
   "outputs": [
    {
     "data": {
      "text/latex": [
       "$\\displaystyle 2 \\operatorname{pwp}{\\left(z,g_{2},g_{3} \\right)} {c}_{1} = \\frac{\\sigma^{4}{\\left(- \\frac{\\omega_{1}}{2} + z,g_{2},g_{3} \\right)} e^{2 \\eta_{1} z}}{\\sigma^{4}{\\left(\\frac{\\omega_{1}}{2},g_{2},g_{3} \\right)} \\sigma^{4}{\\left(z,g_{2},g_{3} \\right)}} - \\frac{\\sigma^{4}{\\left(- \\frac{\\omega_{1}}{2} - z,g_{2},g_{3} \\right)} e^{- 2 \\eta_{1} z}}{\\sigma^{4}{\\left(\\frac{\\omega_{1}}{2},g_{2},g_{3} \\right)} \\sigma^{4}{\\left(- z,g_{2},g_{3} \\right)}}$"
      ],
      "text/plain": [
       "Eq(2*pwp(z, g2, g3)*c[1], sigma(-omega1/2 + z, g2, g3)**4*exp(2*eta1*z)/(sigma(omega1/2, g2, g3)**4*sigma(z, g2, g3)**4) - sigma(-omega1/2 - z, g2, g3)**4*exp(-2*eta1*z)/(sigma(omega1/2, g2, g3)**4*sigma(-z, g2, g3)**4))"
      ]
     },
     "execution_count": 27,
     "metadata": {},
     "output_type": "execute_result"
    },
    {
     "data": {
      "text/latex": [
       "$\\displaystyle \\operatorname{pwp}{\\left(\\frac{\\omega_{1}}{2},g_{2},g_{3} \\right)} = - \\frac{\\sigma{\\left(\\omega_{1},g_{2},g_{3} \\right)}}{\\sigma^{4}{\\left(\\frac{\\omega_{1}}{2},g_{2},g_{3} \\right)}}$"
      ],
      "text/plain": [
       "Eq(pwp(omega1/2, g2, g3), -sigma(omega1, g2, g3)/sigma(omega1/2, g2, g3)**4)"
      ]
     },
     "execution_count": 27,
     "metadata": {},
     "output_type": "execute_result"
    },
    {
     "data": {
      "text/latex": [
       "$\\displaystyle - \\frac{2 \\sigma{\\left(\\omega_{1},g_{2},g_{3} \\right)} {c}_{1}}{\\sigma^{4}{\\left(\\frac{\\omega_{1}}{2},g_{2},g_{3} \\right)}} = - \\frac{\\sigma^{4}{\\left(\\omega_{1},g_{2},g_{3} \\right)} e^{- \\eta_{1} \\omega_{1}}}{\\sigma^{8}{\\left(\\frac{\\omega_{1}}{2},g_{2},g_{3} \\right)}}$"
      ],
      "text/plain": [
       "Eq(-2*sigma(omega1, g2, g3)*c[1]/sigma(omega1/2, g2, g3)**4, -sigma(omega1, g2, g3)**4*exp(-eta1*omega1)/sigma(omega1/2, g2, g3)**8)"
      ]
     },
     "execution_count": 27,
     "metadata": {},
     "output_type": "execute_result"
    },
    {
     "data": {
      "text/latex": [
       "$\\displaystyle {c}_{1} = \\frac{\\sigma^{3}{\\left(\\omega_{1},g_{2},g_{3} \\right)} e^{- \\eta_{1} \\omega_{1}}}{2 \\sigma^{4}{\\left(\\frac{\\omega_{1}}{2},g_{2},g_{3} \\right)}}$"
      ],
      "text/plain": [
       "Eq(c[1], sigma(omega1, g2, g3)**3*exp(-eta1*omega1)/(2*sigma(omega1/2, g2, g3)**4))"
      ]
     },
     "execution_count": 27,
     "metadata": {},
     "output_type": "execute_result"
    }
   ],
   "source": [
    "c1_eq_sig_a = Eq(eq_c_4.lhs - eq_c_4.lhs.subs(z,-z), eq_c_4.rhs - eq_c_4.rhs.subs(z,-z)).subs(\n",
    "    [(pw(-z,g2,g3), pw(z,g2,g3)), (pwp(-z,g2,g3), -pwp(z,g2,g3))]\n",
    ")\n",
    "c1_eq_sig = c1_eq_sig_a.subs(z,omega1/2).subs(sigma(0,g2,g3),0).subs([\n",
    "    (sigma(-omega1,g2,g3), sigma(omega1,g2,g3)), (sigma(-omega1/2,g2,g3), sigma(omega1/2,g2,g3))]\n",
    ").subs(pwp(omega1/2,g2,g3), - sigma(omega1,g2,g3)/sigma(omega1/2,g2,g3)**4)\n",
    "c1_eq_sig_a\n",
    "pwp_omeag1_sigma = Eq(pwp(omega1/2,g2,g3), - sigma(omega1,g2,g3)/sigma(omega1/2,g2,g3)**4)\n",
    "pwp_omeag1_sigma\n",
    "c1_eq_sig\n",
    "\n",
    "c1_sol = Eq(c[1], solve(c1_eq_sig.lhs - c1_eq_sig.rhs,c[1])[0])\n",
    "c1_sol"
   ]
  },
  {
   "cell_type": "code",
   "execution_count": 28,
   "id": "aae0361f",
   "metadata": {},
   "outputs": [
    {
     "data": {
      "text/latex": [
       "$\\displaystyle {c}_{0} = - \\operatorname{pw}^{2}{\\left(\\frac{\\omega_{1}}{2},g_{2},g_{3} \\right)} {c}_{3} - \\operatorname{pw}{\\left(\\frac{\\omega_{1}}{2},g_{2},g_{3} \\right)} {c}_{2} - \\frac{\\operatorname{pwp}{\\left(\\frac{\\omega_{1}}{2},g_{2},g_{3} \\right)} \\sigma^{3}{\\left(\\omega_{1},g_{2},g_{3} \\right)} e^{- \\eta_{1} \\omega_{1}}}{2 \\sigma^{4}{\\left(\\frac{\\omega_{1}}{2},g_{2},g_{3} \\right)}}$"
      ],
      "text/plain": [
       "Eq(c[0], -pw(omega1/2, g2, g3)**2*c[3] - pw(omega1/2, g2, g3)*c[2] - pwp(omega1/2, g2, g3)*sigma(omega1, g2, g3)**3*exp(-eta1*omega1)/(2*sigma(omega1/2, g2, g3)**4))"
      ]
     },
     "execution_count": 28,
     "metadata": {},
     "output_type": "execute_result"
    }
   ],
   "source": [
    "c0_sol = Eq(c[0], solve(eq_c_4.subs(*c1_sol.args).subs(z,omega1/2).subs(sigma(0,g2,g3),0),c[0])[0])\n",
    "c0_sol"
   ]
  },
  {
   "cell_type": "code",
   "execution_count": 29,
   "id": "5e8106bf",
   "metadata": {
    "scrolled": true
   },
   "outputs": [
    {
     "data": {
      "text/latex": [
       "$\\displaystyle - \\operatorname{pw}^{2}{\\left(\\frac{\\omega_{1}}{2},g_{2},g_{3} \\right)} - \\operatorname{pw}{\\left(\\frac{\\omega_{1}}{2},g_{2},g_{3} \\right)} {c}_{2} + \\operatorname{pw}^{2}{\\left(z,g_{2},g_{3} \\right)} + \\operatorname{pw}{\\left(z,g_{2},g_{3} \\right)} {c}_{2} - \\frac{\\operatorname{pwp}{\\left(\\frac{\\omega_{1}}{2},g_{2},g_{3} \\right)} \\sigma^{3}{\\left(\\omega_{1},g_{2},g_{3} \\right)} e^{- \\eta_{1} \\omega_{1}}}{2 \\sigma^{4}{\\left(\\frac{\\omega_{1}}{2},g_{2},g_{3} \\right)}} + \\frac{\\operatorname{pwp}{\\left(z,g_{2},g_{3} \\right)} \\sigma^{3}{\\left(\\omega_{1},g_{2},g_{3} \\right)} e^{- \\eta_{1} \\omega_{1}}}{2 \\sigma^{4}{\\left(\\frac{\\omega_{1}}{2},g_{2},g_{3} \\right)}} = \\frac{\\sigma^{4}{\\left(- \\frac{\\omega_{1}}{2} + z,g_{2},g_{3} \\right)} e^{2 \\eta_{1} z}}{\\sigma^{4}{\\left(\\frac{\\omega_{1}}{2},g_{2},g_{3} \\right)} \\sigma^{4}{\\left(z,g_{2},g_{3} \\right)}}$"
      ],
      "text/plain": [
       "Eq(-pw(omega1/2, g2, g3)**2 - pw(omega1/2, g2, g3)*c[2] + pw(z, g2, g3)**2 + pw(z, g2, g3)*c[2] - pwp(omega1/2, g2, g3)*sigma(omega1, g2, g3)**3*exp(-eta1*omega1)/(2*sigma(omega1/2, g2, g3)**4) + pwp(z, g2, g3)*sigma(omega1, g2, g3)**3*exp(-eta1*omega1)/(2*sigma(omega1/2, g2, g3)**4), sigma(-omega1/2 + z, g2, g3)**4*exp(2*eta1*z)/(sigma(omega1/2, g2, g3)**4*sigma(z, g2, g3)**4))"
      ]
     },
     "execution_count": 29,
     "metadata": {},
     "output_type": "execute_result"
    }
   ],
   "source": [
    "_xx3267 = eq_c_4.subs(*c1_sol.args).subs(*c0_sol.args).subs(c[3],1)\n",
    "_xx3267"
   ]
  },
  {
   "cell_type": "code",
   "execution_count": 30,
   "id": "5313028c",
   "metadata": {},
   "outputs": [
    {
     "data": {
      "text/latex": [
       "$\\displaystyle {c}_{2} = - 2 \\operatorname{pw}{\\left(\\frac{\\omega_{1}}{2},g_{2},g_{3} \\right)} + \\frac{\\sigma^{6}{\\left(\\omega_{1},g_{2},g_{3} \\right)} e^{- 2 \\eta_{1} \\omega_{1}}}{2 \\sigma^{8}{\\left(\\frac{\\omega_{1}}{2},g_{2},g_{3} \\right)}}$"
      ],
      "text/plain": [
       "Eq(c[2], -2*pw(omega1/2, g2, g3) + sigma(omega1, g2, g3)**6*exp(-2*eta1*omega1)/(2*sigma(omega1/2, g2, g3)**8))"
      ]
     },
     "execution_count": 30,
     "metadata": {},
     "output_type": "execute_result"
    }
   ],
   "source": [
    "_xx3289083 = ((_xx3267.lhs*(_xx3267.lhs.subs(z,-z)) - (pw(z,g2,g3) - pw(omega1/2,g2,g3))**4)\n",
    ".subs([(pwp(-z,g2,g3),-pwp(z,g2,g3)), (pw(-z,g2,g3),pw(z,g2,g3))])\n",
    " .expand().subs(pwp(z,g2,g3)**2, 4*pw(z,g2,g3)**3 -g2*pw(z,g2,g3) -g3)\n",
    ").expand().collect(pw(z,g2,g3),factor)\n",
    "c2_sol = Eq(c[2], solve(_xx3289083.coeff(pw(z,g2,g3)**3),c[2])[0])\n",
    "c2_sol"
   ]
  },
  {
   "cell_type": "code",
   "execution_count": 31,
   "id": "60cc5c0d",
   "metadata": {},
   "outputs": [
    {
     "data": {
      "text/latex": [
       "$\\displaystyle \\left(\\operatorname{pw}{\\left(\\frac{\\omega_{1}}{2},g_{2},g_{3} \\right)} - \\operatorname{pw}{\\left(z,g_{2},g_{3} \\right)}\\right)^{2} - \\frac{\\left(\\operatorname{pw}{\\left(\\frac{\\omega_{1}}{2},g_{2},g_{3} \\right)} - \\operatorname{pw}{\\left(z,g_{2},g_{3} \\right)}\\right) \\sigma^{6}{\\left(\\omega_{1},g_{2},g_{3} \\right)} e^{- 2 \\eta_{1} \\omega_{1}}}{2 \\sigma^{8}{\\left(\\frac{\\omega_{1}}{2},g_{2},g_{3} \\right)}} - \\frac{\\left(\\operatorname{pwp}{\\left(\\frac{\\omega_{1}}{2},g_{2},g_{3} \\right)} - \\operatorname{pwp}{\\left(z,g_{2},g_{3} \\right)}\\right) \\sigma^{3}{\\left(\\omega_{1},g_{2},g_{3} \\right)} e^{- \\eta_{1} \\omega_{1}}}{2 \\sigma^{4}{\\left(\\frac{\\omega_{1}}{2},g_{2},g_{3} \\right)}} = \\frac{\\sigma^{4}{\\left(- \\frac{\\omega_{1}}{2} + z,g_{2},g_{3} \\right)} e^{2 \\eta_{1} z}}{\\sigma^{4}{\\left(\\frac{\\omega_{1}}{2},g_{2},g_{3} \\right)} \\sigma^{4}{\\left(z,g_{2},g_{3} \\right)}}$"
      ],
      "text/plain": [
       "Eq((pw(omega1/2, g2, g3) - pw(z, g2, g3))**2 - (pw(omega1/2, g2, g3) - pw(z, g2, g3))*sigma(omega1, g2, g3)**6*exp(-2*eta1*omega1)/(2*sigma(omega1/2, g2, g3)**8) - (pwp(omega1/2, g2, g3) - pwp(z, g2, g3))*sigma(omega1, g2, g3)**3*exp(-eta1*omega1)/(2*sigma(omega1/2, g2, g3)**4), sigma(-omega1/2 + z, g2, g3)**4*exp(2*eta1*z)/(sigma(omega1/2, g2, g3)**4*sigma(z, g2, g3)**4))"
      ]
     },
     "execution_count": 31,
     "metadata": {},
     "output_type": "execute_result"
    }
   ],
   "source": [
    "_xx32931 = _xx3267.subs(*c2_sol.args).expand()\n",
    "\n",
    "_xx32931 = Eq(_xx32931.lhs.collect(sigma(omega1,g2,g3),factor), _xx32931.rhs)\n",
    "_xx32931"
   ]
  },
  {
   "cell_type": "markdown",
   "id": "578eba54",
   "metadata": {},
   "source": [
    "### Numeric tests"
   ]
  },
  {
   "cell_type": "code",
   "execution_count": 131,
   "id": "b516713a",
   "metadata": {},
   "outputs": [],
   "source": [
    "from random import random\n",
    "g2val_ = (random() - 0.5) + (random() - 0.5)*1j\n",
    "g3val_ = (random() - 0.5) + (random() - 0.5)*1j\n",
    "zval_ = (random() - 0.5) + (random() - 0.5)*1j\n",
    "# mu_vals = [(random() - 0.5) + (random() - 0.5)*1j for _ in range(4)]\n",
    "\n",
    "omega_ = we.omega_from_g(g2val_, g3val_)\n",
    "omega1_ = mpc_to_float(omega_[0])\n",
    "omega2_ = mpc_to_float(omega_[1])\n",
    "omega3_ = mpc_to_float(omega_[2])\n",
    "if im(omega2_/omega1_) <= 0:\n",
    "    omega2_ = -omega2_\n",
    "omegas = (omega1_, omega2_)  \n",
    "mu_vals = [omega1_/2]\n",
    "\n",
    "\n",
    "\n",
    "num_subs = (\n",
    "    [(pw(mu[k],g2,g3), we.wp(mu_vals[k], omegas)) for k in range(len(mu_vals))] + \n",
    "    [(pw(2*mu[k],g2,g3), we.wp(2*mu_vals[k], omegas)) for k in range(len(mu_vals))] + \n",
    "    [(pwp(mu[k],g2,g3), we.wpprime(mu_vals[k], omegas)) for k in range(len(mu_vals))] + \n",
    "    [(pw(z,g2,g3), we.wp(zval_, omegas)), (pwp(z,g2,g3), we.wpprime(zval_, omegas))] +\n",
    "    [(sigma(z - mu[k], g2, g3), we.wsigma(zval_ - mu_vals[k], omegas)) for k in range(len(mu_vals))] + \n",
    "    [(sigma(mu[k], g2, g3), we.wsigma(mu_vals[k], omegas)) for k in range(len(mu_vals))] +\n",
    "    [(sigma(z , g2, g3), we.wsigma(zval_ , omegas))] + \n",
    "    [(sigma(z - sum([mu[k] for k in range(len(mu_vals))]), g2, g3), we.wsigma(zval_ - sum(mu_vals), omegas))] + \n",
    "    [(sigma(z + sum([mu[k] for k in range(len(mu_vals))]), g2, g3), we.wsigma(zval_ + sum(mu_vals), omegas))] + \n",
    "    [(sigma(- sum([mu[k] for k in range(len(mu_vals))]), g2, g3), we.wsigma(- sum(mu_vals), omegas))] + \n",
    "    [(sigma(3*mu[0],g2,g3), we.wsigma(3*mu_vals[0], omegas))] +\n",
    "    [(sigma(z + 3*mu[0],g2,g3), we.wsigma(zval_ + 3*mu_vals[0], omegas))] +\n",
    "    [(sigma(2*mu[0],g2,g3), we.wsigma(2*mu_vals[0], omegas))] +\n",
    "    [(eta1, we.wzeta(omega1_, omegas)), (omega1, omega1_), (z,zval_), (mu[0], omega1_/2)]\n",
    ")"
   ]
  },
  {
   "cell_type": "code",
   "execution_count": 132,
   "id": "0bf3bf6a",
   "metadata": {},
   "outputs": [
    {
     "data": {
      "text/latex": [
       "$\\displaystyle -18.4038263453193 - 12.1873361411957 i$"
      ],
      "text/plain": [
       "-18.4038263453193 - 12.1873361411957*I"
      ]
     },
     "execution_count": 132,
     "metadata": {},
     "output_type": "execute_result"
    },
    {
     "data": {
      "text/latex": [
       "$\\displaystyle -18.4038263453192 - 12.1873361411955 i$"
      ],
      "text/plain": [
       "-18.4038263453192 - 12.1873361411955*I"
      ]
     },
     "execution_count": 132,
     "metadata": {},
     "output_type": "execute_result"
    }
   ],
   "source": [
    "_eq_1234x.lhs.subs(num_subs).subs([(g2, g2val_), (g3, g3val_)]).evalf()\n",
    "_eq_1234x.rhs.subs(num_subs).subs([(g2, g2val_), (g3, g3val_)]).evalf()"
   ]
  },
  {
   "cell_type": "code",
   "execution_count": 136,
   "id": "8b8e86da",
   "metadata": {},
   "outputs": [
    {
     "data": {
      "text/latex": [
       "$\\displaystyle 18.4667537124081 + 11.3217722819134 i$"
      ],
      "text/plain": [
       "18.4667537124081 + 11.3217722819134*I"
      ]
     },
     "execution_count": 136,
     "metadata": {},
     "output_type": "execute_result"
    },
    {
     "data": {
      "text/latex": [
       "$\\displaystyle 18.4667537124081 + 11.3217722819134 i$"
      ],
      "text/plain": [
       "18.4667537124081 + 11.3217722819134*I"
      ]
     },
     "execution_count": 136,
     "metadata": {},
     "output_type": "execute_result"
    }
   ],
   "source": [
    "__H.lhs.subs(omega1,2*mu[0]).subs(num_subs).subs([(g2, g2val_), (g3, g3val_)]).evalf()\n",
    "__H.rhs.subs(omega1,2*mu[0]).subs(num_subs).subs([(g2, g2val_), (g3, g3val_)]).evalf()"
   ]
  },
  {
   "cell_type": "code",
   "execution_count": 137,
   "id": "588df410",
   "metadata": {},
   "outputs": [
    {
     "data": {
      "text/latex": [
       "$\\displaystyle -18.4038263453192 - 12.1873361411955 i$"
      ],
      "text/plain": [
       "-18.4038263453192 - 12.1873361411955*I"
      ]
     },
     "execution_count": 137,
     "metadata": {},
     "output_type": "execute_result"
    },
    {
     "data": {
      "text/latex": [
       "$\\displaystyle -18.4038263453192 - 12.1873361411955 i$"
      ],
      "text/plain": [
       "-18.4038263453192 - 12.1873361411955*I"
      ]
     },
     "execution_count": 137,
     "metadata": {},
     "output_type": "execute_result"
    }
   ],
   "source": [
    "__xx.lhs.replace(Det,det).subs(omega1,2*mu[0]).subs(num_subs).subs([(g2, g2val_), (g3, g3val_)]).evalf()\n",
    "__xx.rhs.replace(Det,det).subs(omega1,2*mu[0]).subs(num_subs).subs([(g2, g2val_), (g3, g3val_)]).evalf()"
   ]
  },
  {
   "cell_type": "code",
   "execution_count": 138,
   "id": "fe5a0f79",
   "metadata": {},
   "outputs": [
    {
     "data": {
      "text/latex": [
       "$\\displaystyle -18.4038263453193 - 12.1873361411955 i$"
      ],
      "text/plain": [
       "-18.4038263453193 - 12.1873361411955*I"
      ]
     },
     "execution_count": 138,
     "metadata": {},
     "output_type": "execute_result"
    },
    {
     "data": {
      "text/latex": [
       "$\\displaystyle -18.4038263453192 - 12.1873361411955 i$"
      ],
      "text/plain": [
       "-18.4038263453192 - 12.1873361411955*I"
      ]
     },
     "execution_count": 138,
     "metadata": {},
     "output_type": "execute_result"
    }
   ],
   "source": [
    "_xx32931.lhs.subs(omega1,2*mu[0]).subs(num_subs).evalf()\n",
    "_xx32931.rhs.subs(omega1,2*mu[0]).subs(num_subs).evalf()"
   ]
  },
  {
   "cell_type": "code",
   "execution_count": 75,
   "id": "f512440a",
   "metadata": {},
   "outputs": [
    {
     "data": {
      "text/plain": [
       "(0.2135726068715207+0.40952480181662365j)"
      ]
     },
     "execution_count": 75,
     "metadata": {},
     "output_type": "execute_result"
    },
    {
     "data": {
      "text/latex": [
       "$\\displaystyle 1.35004559555555 + 0.166748696244563 i$"
      ],
      "text/plain": [
       "1.35004559555555 + 0.166748696244563*I"
      ]
     },
     "execution_count": 75,
     "metadata": {},
     "output_type": "execute_result"
    }
   ],
   "source": [
    "g2val_\n",
    "pw(mu[0],g2,g3).subs(num_subs).subs([(g2, g2val_), (g3, g3val_)]).evalf()"
   ]
  },
  {
   "cell_type": "markdown",
   "id": "d44b6b24",
   "metadata": {},
   "source": [
    "## Dynamic system"
   ]
  },
  {
   "cell_type": "code",
   "execution_count": 36,
   "id": "92cea6c2",
   "metadata": {},
   "outputs": [
    {
     "data": {
      "text/latex": [
       "$\\displaystyle \\left(\\operatorname{pw}{\\left(\\frac{\\omega_{1}}{2},g_{2},g_{3} \\right)} - \\operatorname{pw}{\\left(z,g_{2},g_{3} \\right)}\\right)^{2} - \\frac{\\left(\\operatorname{pw}{\\left(\\frac{\\omega_{1}}{2},g_{2},g_{3} \\right)} - \\operatorname{pw}{\\left(z,g_{2},g_{3} \\right)}\\right) \\sigma^{6}{\\left(\\omega_{1},g_{2},g_{3} \\right)} e^{- 2 \\eta_{1} \\omega_{1}}}{2 \\sigma^{8}{\\left(\\frac{\\omega_{1}}{2},g_{2},g_{3} \\right)}} - \\frac{\\left(\\operatorname{pwp}{\\left(\\frac{\\omega_{1}}{2},g_{2},g_{3} \\right)} - \\operatorname{pwp}{\\left(z,g_{2},g_{3} \\right)}\\right) \\sigma^{3}{\\left(\\omega_{1},g_{2},g_{3} \\right)} e^{- \\eta_{1} \\omega_{1}}}{2 \\sigma^{4}{\\left(\\frac{\\omega_{1}}{2},g_{2},g_{3} \\right)}} = \\frac{\\sigma^{4}{\\left(- \\frac{\\omega_{1}}{2} + z,g_{2},g_{3} \\right)} e^{2 \\eta_{1} z}}{\\sigma^{4}{\\left(\\frac{\\omega_{1}}{2},g_{2},g_{3} \\right)} \\sigma^{4}{\\left(z,g_{2},g_{3} \\right)}}$"
      ],
      "text/plain": [
       "Eq((pw(omega1/2, g2, g3) - pw(z, g2, g3))**2 - (pw(omega1/2, g2, g3) - pw(z, g2, g3))*sigma(omega1, g2, g3)**6*exp(-2*eta1*omega1)/(2*sigma(omega1/2, g2, g3)**8) - (pwp(omega1/2, g2, g3) - pwp(z, g2, g3))*sigma(omega1, g2, g3)**3*exp(-eta1*omega1)/(2*sigma(omega1/2, g2, g3)**4), sigma(-omega1/2 + z, g2, g3)**4*exp(2*eta1*z)/(sigma(omega1/2, g2, g3)**4*sigma(z, g2, g3)**4))"
      ]
     },
     "execution_count": 36,
     "metadata": {},
     "output_type": "execute_result"
    }
   ],
   "source": [
    "_xx32931"
   ]
  },
  {
   "cell_type": "code",
   "execution_count": 37,
   "id": "8eac84c0",
   "metadata": {},
   "outputs": [
    {
     "data": {
      "text/latex": [
       "$\\displaystyle \\operatorname{pw}{\\left(\\frac{\\omega_{1}}{2},g_{2},g_{3} \\right)} - \\operatorname{pw}{\\left(z,g_{2},g_{3} \\right)} = \\frac{\\sigma{\\left(- \\frac{\\omega_{1}}{2} + z,g_{2},g_{3} \\right)} \\sigma{\\left(\\frac{\\omega_{1}}{2} + z,g_{2},g_{3} \\right)}}{\\sigma^{2}{\\left(\\frac{\\omega_{1}}{2},g_{2},g_{3} \\right)} \\sigma^{2}{\\left(z,g_{2},g_{3} \\right)}}$"
      ],
      "text/plain": [
       "Eq(pw(omega1/2, g2, g3) - pw(z, g2, g3), sigma(-omega1/2 + z, g2, g3)*sigma(omega1/2 + z, g2, g3)/(sigma(omega1/2, g2, g3)**2*sigma(z, g2, g3)**2))"
      ]
     },
     "execution_count": 37,
     "metadata": {},
     "output_type": "execute_result"
    }
   ],
   "source": [
    "pw_sig_omega1 = (frob_stick(1, evaluated=False, WPversion=False)\n",
    "                 .replace(Det,det).subs([(mu[0],z), (mu[1], omega1/2)]))\n",
    "\n",
    "pw_sig_omega1"
   ]
  },
  {
   "cell_type": "code",
   "execution_count": 38,
   "id": "c10e1bf3",
   "metadata": {},
   "outputs": [
    {
     "data": {
      "text/latex": [
       "$\\displaystyle - \\frac{\\left(\\operatorname{pwp}{\\left(\\frac{\\omega_{1}}{2},g_{2},g_{3} \\right)} - \\operatorname{pwp}{\\left(z,g_{2},g_{3} \\right)}\\right) \\sigma^{3}{\\left(\\omega_{1},g_{2},g_{3} \\right)} e^{- \\eta_{1} \\omega_{1}}}{2 \\sigma^{4}{\\left(\\frac{\\omega_{1}}{2},g_{2},g_{3} \\right)}} + \\frac{\\sigma^{2}{\\left(- \\frac{\\omega_{1}}{2} + z,g_{2},g_{3} \\right)} \\sigma^{2}{\\left(\\frac{\\omega_{1}}{2} + z,g_{2},g_{3} \\right)}}{\\sigma^{4}{\\left(\\frac{\\omega_{1}}{2},g_{2},g_{3} \\right)} \\sigma^{4}{\\left(z,g_{2},g_{3} \\right)}} - \\frac{\\sigma^{6}{\\left(\\omega_{1},g_{2},g_{3} \\right)} \\sigma{\\left(- \\frac{\\omega_{1}}{2} + z,g_{2},g_{3} \\right)} \\sigma{\\left(\\frac{\\omega_{1}}{2} + z,g_{2},g_{3} \\right)} e^{- 2 \\eta_{1} \\omega_{1}}}{2 \\sigma^{10}{\\left(\\frac{\\omega_{1}}{2},g_{2},g_{3} \\right)} \\sigma^{2}{\\left(z,g_{2},g_{3} \\right)}} = \\frac{\\sigma^{4}{\\left(- \\frac{\\omega_{1}}{2} + z,g_{2},g_{3} \\right)} e^{2 \\eta_{1} z}}{\\sigma^{4}{\\left(\\frac{\\omega_{1}}{2},g_{2},g_{3} \\right)} \\sigma^{4}{\\left(z,g_{2},g_{3} \\right)}}$"
      ],
      "text/plain": [
       "Eq(-(pwp(omega1/2, g2, g3) - pwp(z, g2, g3))*sigma(omega1, g2, g3)**3*exp(-eta1*omega1)/(2*sigma(omega1/2, g2, g3)**4) + sigma(-omega1/2 + z, g2, g3)**2*sigma(omega1/2 + z, g2, g3)**2/(sigma(omega1/2, g2, g3)**4*sigma(z, g2, g3)**4) - sigma(omega1, g2, g3)**6*sigma(-omega1/2 + z, g2, g3)*sigma(omega1/2 + z, g2, g3)*exp(-2*eta1*omega1)/(2*sigma(omega1/2, g2, g3)**10*sigma(z, g2, g3)**2), sigma(-omega1/2 + z, g2, g3)**4*exp(2*eta1*z)/(sigma(omega1/2, g2, g3)**4*sigma(z, g2, g3)**4))"
      ]
     },
     "execution_count": 38,
     "metadata": {},
     "output_type": "execute_result"
    }
   ],
   "source": [
    "_xx32931.subs(*pw_sig_omega1.args)"
   ]
  },
  {
   "cell_type": "code",
   "execution_count": 39,
   "id": "76470308",
   "metadata": {},
   "outputs": [
    {
     "data": {
      "text/latex": [
       "$\\displaystyle U{\\left(z \\right)} = \\frac{\\sigma{\\left(- \\frac{\\omega_{1}}{2} + z,g_{2},g_{3} \\right)} e^{\\frac{\\eta_{1} z}{2}}}{\\sigma{\\left(\\frac{\\omega_{1}}{2},g_{2},g_{3} \\right)} \\sigma{\\left(z,g_{2},g_{3} \\right)}}$"
      ],
      "text/plain": [
       "Eq(U(z), sigma(-omega1/2 + z, g2, g3)*exp(eta1*z/2)/(sigma(omega1/2, g2, g3)*sigma(z, g2, g3)))"
      ]
     },
     "execution_count": 39,
     "metadata": {},
     "output_type": "execute_result"
    },
    {
     "data": {
      "text/latex": [
       "$\\displaystyle V{\\left(z \\right)} = \\frac{\\sigma{\\left(\\frac{\\omega_{1}}{2} + z,g_{2},g_{3} \\right)} e^{- \\frac{\\eta_{1} z}{2}}}{\\sigma{\\left(\\frac{\\omega_{1}}{2},g_{2},g_{3} \\right)} \\sigma{\\left(z,g_{2},g_{3} \\right)}}$"
      ],
      "text/plain": [
       "Eq(V(z), sigma(omega1/2 + z, g2, g3)*exp(-eta1*z/2)/(sigma(omega1/2, g2, g3)*sigma(z, g2, g3)))"
      ]
     },
     "execution_count": 39,
     "metadata": {},
     "output_type": "execute_result"
    },
    {
     "data": {
      "text/latex": [
       "$\\displaystyle U{\\left(z \\right)} V{\\left(z \\right)} = \\operatorname{pw}{\\left(\\frac{\\omega_{1}}{2},g_{2},g_{3} \\right)} - \\operatorname{pw}{\\left(z,g_{2},g_{3} \\right)}$"
      ],
      "text/plain": [
       "Eq(U(z)*V(z), pw(omega1/2, g2, g3) - pw(z, g2, g3))"
      ]
     },
     "execution_count": 39,
     "metadata": {},
     "output_type": "execute_result"
    }
   ],
   "source": [
    "Uz_sigma_kron = Eq(U(z), sigma(z - omega1/2,g2,g3)/sigma(z,g2,g3)/sigma(omega1/2,g2,g3)*exp(eta1*z/2))\n",
    "Vz_sigma_kron = Eq(V(z), sigma(z + omega1/2,g2,g3)/sigma(z,g2,g3)/sigma(omega1/2,g2,g3)*exp(-eta1*z/2))\n",
    "\n",
    "pw_UV_omega_1 = Eq(Uz_sigma_kron.lhs*Vz_sigma_kron.lhs,\n",
    "                   Uz_sigma_kron.rhs*Vz_sigma_kron.rhs).subs(pw_sig_omega1.rhs, pw_sig_omega1.lhs)\n",
    "Uz_sigma_kron\n",
    "Vz_sigma_kron\n",
    "pw_UV_omega_1"
   ]
  },
  {
   "cell_type": "code",
   "execution_count": 40,
   "id": "b31d9778",
   "metadata": {},
   "outputs": [
    {
     "data": {
      "text/latex": [
       "$\\displaystyle \\sigma{\\left(- \\frac{\\omega_{1}}{2} + z,g_{2},g_{3} \\right)} = U{\\left(z \\right)} \\sigma{\\left(\\frac{\\omega_{1}}{2},g_{2},g_{3} \\right)} \\sigma{\\left(z,g_{2},g_{3} \\right)} e^{- \\frac{\\eta_{1} z}{2}}$"
      ],
      "text/plain": [
       "Eq(sigma(-omega1/2 + z, g2, g3), U(z)*sigma(omega1/2, g2, g3)*sigma(z, g2, g3)*exp(-eta1*z/2))"
      ]
     },
     "execution_count": 40,
     "metadata": {},
     "output_type": "execute_result"
    },
    {
     "data": {
      "text/latex": [
       "$\\displaystyle \\sigma{\\left(\\frac{\\omega_{1}}{2} + z,g_{2},g_{3} \\right)} = V{\\left(z \\right)} \\sigma{\\left(\\frac{\\omega_{1}}{2},g_{2},g_{3} \\right)} \\sigma{\\left(z,g_{2},g_{3} \\right)} e^{\\frac{\\eta_{1} z}{2}}$"
      ],
      "text/plain": [
       "Eq(sigma(omega1/2 + z, g2, g3), V(z)*sigma(omega1/2, g2, g3)*sigma(z, g2, g3)*exp(eta1*z/2))"
      ]
     },
     "execution_count": 40,
     "metadata": {},
     "output_type": "execute_result"
    }
   ],
   "source": [
    "sigma_U = Eq(sigma(z - omega1/2,g2,g3), solve(Uz_sigma_kron.lhs - Uz_sigma_kron.rhs, sigma(z - omega1/2,g2,g3))[0])\n",
    "sigma_V = Eq(sigma(z + omega1/2,g2,g3), solve(Vz_sigma_kron.lhs - Vz_sigma_kron.rhs, sigma(z + omega1/2,g2,g3))[0])\n",
    "\n",
    "sigma_U\n",
    "sigma_V"
   ]
  },
  {
   "cell_type": "code",
   "execution_count": 41,
   "id": "5cc605ee",
   "metadata": {},
   "outputs": [
    {
     "data": {
      "text/latex": [
       "$\\displaystyle \\sigma{\\left(\\frac{\\omega_{1}}{2},g_{2},g_{3} \\right)} = U{\\left(\\omega_{1} \\right)} \\sigma{\\left(\\frac{\\omega_{1}}{2},g_{2},g_{3} \\right)} \\sigma{\\left(\\omega_{1},g_{2},g_{3} \\right)} e^{- \\frac{\\eta_{1} \\omega_{1}}{2}}$"
      ],
      "text/plain": [
       "Eq(sigma(omega1/2, g2, g3), U(omega1)*sigma(omega1/2, g2, g3)*sigma(omega1, g2, g3)*exp(-eta1*omega1/2))"
      ]
     },
     "execution_count": 41,
     "metadata": {},
     "output_type": "execute_result"
    },
    {
     "data": {
      "text/latex": [
       "$\\displaystyle \\sigma{\\left(\\frac{\\omega_{1}}{2},g_{2},g_{3} \\right)} e^{\\eta_{1} \\omega_{1}} = V{\\left(\\omega_{1} \\right)} \\sigma{\\left(\\frac{\\omega_{1}}{2},g_{2},g_{3} \\right)} \\sigma{\\left(\\omega_{1},g_{2},g_{3} \\right)} e^{\\frac{\\eta_{1} \\omega_{1}}{2}}$"
      ],
      "text/plain": [
       "Eq(sigma(omega1/2, g2, g3)*exp(eta1*omega1), V(omega1)*sigma(omega1/2, g2, g3)*sigma(omega1, g2, g3)*exp(eta1*omega1/2))"
      ]
     },
     "execution_count": 41,
     "metadata": {},
     "output_type": "execute_result"
    },
    {
     "data": {
      "text/latex": [
       "$\\displaystyle e^{\\eta_{1} \\omega_{1}} = U{\\left(\\omega_{1} \\right)} V{\\left(\\omega_{1} \\right)} \\sigma^{2}{\\left(\\omega_{1},g_{2},g_{3} \\right)}$"
      ],
      "text/plain": [
       "Eq(exp(eta1*omega1), U(omega1)*V(omega1)*sigma(omega1, g2, g3)**2)"
      ]
     },
     "execution_count": 41,
     "metadata": {},
     "output_type": "execute_result"
    }
   ],
   "source": [
    "U_omega_1 = sigma_U.subs(z,omega1)\n",
    "V_omega_1 = sigma_V.subs(z,omega1).subs(*q3omega_1omega.args)\n",
    "eta_1_UV_sigma = Eq(exp(eta1*omega1), \n",
    "                    solve(U_omega_1.lhs*V_omega_1.lhs - U_omega_1.rhs*V_omega_1.rhs,exp(eta1*omega1))[0]\n",
    "                   )\n",
    "U_omega_1\n",
    "V_omega_1\n",
    "eta_1_UV_sigma\n"
   ]
  },
  {
   "cell_type": "code",
   "execution_count": 42,
   "id": "f5181786",
   "metadata": {},
   "outputs": [
    {
     "data": {
      "text/latex": [
       "$\\displaystyle \\sigma{\\left(\\omega_{1},g_{2},g_{3} \\right)} = - \\operatorname{pwp}{\\left(\\frac{\\omega_{1}}{2},g_{2},g_{3} \\right)} \\sigma^{4}{\\left(\\frac{\\omega_{1}}{2},g_{2},g_{3} \\right)}$"
      ],
      "text/plain": [
       "Eq(sigma(omega1, g2, g3), -pwp(omega1/2, g2, g3)*sigma(omega1/2, g2, g3)**4)"
      ]
     },
     "execution_count": 42,
     "metadata": {},
     "output_type": "execute_result"
    }
   ],
   "source": [
    "sigma_omega1_pwp = Eq(sigma(omega1,g2,g3), \n",
    "                      solve(pwp_omeag1_sigma.lhs - pwp_omeag1_sigma.rhs, sigma(omega1,g2,g3))[0])\n",
    "sigma_omega1_pwp "
   ]
  },
  {
   "cell_type": "code",
   "execution_count": 43,
   "id": "976080ef",
   "metadata": {},
   "outputs": [
    {
     "data": {
      "text/latex": [
       "$\\displaystyle U^{2}{\\left(z \\right)} V^{2}{\\left(z \\right)} + \\frac{\\operatorname{pwp}^{2}{\\left(\\frac{\\omega_{1}}{2},g_{2},g_{3} \\right)}}{2 U{\\left(\\omega_{1} \\right)} V{\\left(\\omega_{1} \\right)}} - \\frac{\\operatorname{pwp}{\\left(\\frac{\\omega_{1}}{2},g_{2},g_{3} \\right)} \\operatorname{pwp}{\\left(z,g_{2},g_{3} \\right)}}{2 U{\\left(\\omega_{1} \\right)} V{\\left(\\omega_{1} \\right)}} - \\frac{U{\\left(z \\right)} V{\\left(z \\right)} \\operatorname{pwp}^{2}{\\left(\\frac{\\omega_{1}}{2},g_{2},g_{3} \\right)}}{2 U^{2}{\\left(\\omega_{1} \\right)} V^{2}{\\left(\\omega_{1} \\right)}} = U^{4}{\\left(z \\right)}$"
      ],
      "text/plain": [
       "Eq(U(z)**2*V(z)**2 + pwp(omega1/2, g2, g3)**2/(2*U(omega1)*V(omega1)) - pwp(omega1/2, g2, g3)*pwp(z, g2, g3)/(2*U(omega1)*V(omega1)) - U(z)*V(z)*pwp(omega1/2, g2, g3)**2/(2*U(omega1)**2*V(omega1)**2), U(z)**4)"
      ]
     },
     "execution_count": 43,
     "metadata": {},
     "output_type": "execute_result"
    }
   ],
   "source": [
    "UV_pwp_UV = (_xx32931.subs(*pw_sig_omega1.args).subs([sigma_U.args, sigma_V.args])\n",
    " .subs(*eta_1_UV_sigma.args).subs(*sigma_omega1_pwp.args)).expand()\n",
    "\n",
    "UV_pwp_UV"
   ]
  },
  {
   "cell_type": "code",
   "execution_count": 44,
   "id": "d8fb2e94",
   "metadata": {},
   "outputs": [
    {
     "data": {
      "text/latex": [
       "$\\displaystyle U^{2}{\\left(z \\right)} V^{2}{\\left(z \\right)} + \\frac{\\operatorname{pwp}^{2}{\\left(\\frac{\\omega_{1}}{2},g_{2},g_{3} \\right)}}{2 U{\\left(\\omega_{1} \\right)} V{\\left(\\omega_{1} \\right)}} + \\frac{\\operatorname{pwp}{\\left(\\frac{\\omega_{1}}{2},g_{2},g_{3} \\right)} \\operatorname{pwp}{\\left(z,g_{2},g_{3} \\right)}}{2 U{\\left(\\omega_{1} \\right)} V{\\left(\\omega_{1} \\right)}} - \\frac{U{\\left(z \\right)} V{\\left(z \\right)} \\operatorname{pwp}^{2}{\\left(\\frac{\\omega_{1}}{2},g_{2},g_{3} \\right)}}{2 U^{2}{\\left(\\omega_{1} \\right)} V^{2}{\\left(\\omega_{1} \\right)}} = V^{4}{\\left(z \\right)}$"
      ],
      "text/plain": [
       "Eq(U(z)**2*V(z)**2 + pwp(omega1/2, g2, g3)**2/(2*U(omega1)*V(omega1)) + pwp(omega1/2, g2, g3)*pwp(z, g2, g3)/(2*U(omega1)*V(omega1)) - U(z)*V(z)*pwp(omega1/2, g2, g3)**2/(2*U(omega1)**2*V(omega1)**2), V(z)**4)"
      ]
     },
     "execution_count": 44,
     "metadata": {},
     "output_type": "execute_result"
    }
   ],
   "source": [
    "UV_pwp_VU = (_xx32931.subs(*pw_sig_omega1.args).subs(z,-z).subs([\n",
    "    (sigma(-omega1/2-z,g2,g3), -sigma(omega1/2+z,g2,g3)), \n",
    "    (sigma(omega1/2-z,g2,g3), -sigma(-omega1/2+z,g2,g3)),\n",
    "    (sigma(-z,g2,g3), -sigma(z,g2,g3)),\n",
    "    (pwp(-z,g2,g3),-pwp(z,g2,g3))\n",
    "]).subs([sigma_U.args, sigma_V.args]).subs(*eta_1_UV_sigma.args).subs(*sigma_omega1_pwp.args)).expand()\n",
    "\n",
    "UV_pwp_VU"
   ]
  },
  {
   "cell_type": "code",
   "execution_count": 45,
   "id": "fa89dc9c",
   "metadata": {},
   "outputs": [
    {
     "data": {
      "text/latex": [
       "$\\displaystyle \\frac{\\operatorname{pwp}^{2}{\\left(\\frac{\\omega_{1}}{2},g_{2},g_{3} \\right)}}{U{\\left(\\omega_{1} \\right)} V{\\left(\\omega_{1} \\right)}} = U^{4}{\\left(z \\right)} - 2 U^{2}{\\left(z \\right)} V^{2}{\\left(z \\right)} + V^{4}{\\left(z \\right)} + \\frac{U{\\left(z \\right)} V{\\left(z \\right)} \\operatorname{pwp}^{2}{\\left(\\frac{\\omega_{1}}{2},g_{2},g_{3} \\right)}}{U^{2}{\\left(\\omega_{1} \\right)} V^{2}{\\left(\\omega_{1} \\right)}}$"
      ],
      "text/plain": [
       "Eq(pwp(omega1/2, g2, g3)**2/(U(omega1)*V(omega1)), U(z)**4 - 2*U(z)**2*V(z)**2 + V(z)**4 + U(z)*V(z)*pwp(omega1/2, g2, g3)**2/(U(omega1)**2*V(omega1)**2))"
      ]
     },
     "execution_count": 45,
     "metadata": {},
     "output_type": "execute_result"
    },
    {
     "data": {
      "text/latex": [
       "$\\displaystyle \\frac{\\operatorname{pwp}^{2}{\\left(\\frac{\\omega_{1}}{2},g_{2},g_{3} \\right)}}{U{\\left(\\omega_{1} \\right)} V{\\left(\\omega_{1} \\right)}} = U^{4}{\\left(z \\right)} - 2 U^{2}{\\left(z \\right)} V^{2}{\\left(z \\right)} + V^{4}{\\left(z \\right)} + \\frac{U{\\left(z \\right)} V{\\left(z \\right)} \\operatorname{pwp}^{2}{\\left(\\frac{\\omega_{1}}{2},g_{2},g_{3} \\right)}}{U^{2}{\\left(\\omega_{1} \\right)} V^{2}{\\left(\\omega_{1} \\right)}}$"
      ],
      "text/plain": [
       "Eq(pwp(omega1/2, g2, g3)**2/(U(omega1)*V(omega1)), U(z)**4 - 2*U(z)**2*V(z)**2 + V(z)**4 + U(z)*V(z)*pwp(omega1/2, g2, g3)**2/(U(omega1)**2*V(omega1)**2))"
      ]
     },
     "execution_count": 45,
     "metadata": {},
     "output_type": "execute_result"
    },
    {
     "data": {
      "text/latex": [
       "$\\displaystyle U^{4}{\\left(z \\right)} + V^{4}{\\left(z \\right)} = 2 U^{2}{\\left(z \\right)} V^{2}{\\left(z \\right)} + \\frac{\\operatorname{pwp}^{2}{\\left(\\frac{\\omega_{1}}{2},g_{2},g_{3} \\right)}}{U{\\left(\\omega_{1} \\right)} V{\\left(\\omega_{1} \\right)}} - \\frac{U{\\left(z \\right)} V{\\left(z \\right)} \\operatorname{pwp}^{2}{\\left(\\frac{\\omega_{1}}{2},g_{2},g_{3} \\right)}}{U^{2}{\\left(\\omega_{1} \\right)} V^{2}{\\left(\\omega_{1} \\right)}}$"
      ],
      "text/plain": [
       "Eq(U(z)**4 + V(z)**4, 2*U(z)**2*V(z)**2 + pwp(omega1/2, g2, g3)**2/(U(omega1)*V(omega1)) - U(z)*V(z)*pwp(omega1/2, g2, g3)**2/(U(omega1)**2*V(omega1)**2))"
      ]
     },
     "execution_count": 45,
     "metadata": {},
     "output_type": "execute_result"
    },
    {
     "data": {
      "text/latex": [
       "$\\displaystyle \\frac{\\operatorname{pwp}{\\left(\\frac{\\omega_{1}}{2},g_{2},g_{3} \\right)}}{4} = \\frac{U{\\left(\\omega_{1} \\right)} U^{4}{\\left(z \\right)} V{\\left(\\omega_{1} \\right)}}{4 \\operatorname{pwp}{\\left(\\frac{\\omega_{1}}{2},g_{2},g_{3} \\right)}} - \\frac{U{\\left(\\omega_{1} \\right)} U^{2}{\\left(z \\right)} V{\\left(\\omega_{1} \\right)} V^{2}{\\left(z \\right)}}{2 \\operatorname{pwp}{\\left(\\frac{\\omega_{1}}{2},g_{2},g_{3} \\right)}} + \\frac{U{\\left(\\omega_{1} \\right)} V{\\left(\\omega_{1} \\right)} V^{4}{\\left(z \\right)}}{4 \\operatorname{pwp}{\\left(\\frac{\\omega_{1}}{2},g_{2},g_{3} \\right)}} + \\frac{U{\\left(z \\right)} V{\\left(z \\right)} \\operatorname{pwp}{\\left(\\frac{\\omega_{1}}{2},g_{2},g_{3} \\right)}}{4 U{\\left(\\omega_{1} \\right)} V{\\left(\\omega_{1} \\right)}}$"
      ],
      "text/plain": [
       "Eq(pwp(omega1/2, g2, g3)/4, U(omega1)*U(z)**4*V(omega1)/(4*pwp(omega1/2, g2, g3)) - U(omega1)*U(z)**2*V(omega1)*V(z)**2/(2*pwp(omega1/2, g2, g3)) + U(omega1)*V(omega1)*V(z)**4/(4*pwp(omega1/2, g2, g3)) + U(z)*V(z)*pwp(omega1/2, g2, g3)/(4*U(omega1)*V(omega1)))"
      ]
     },
     "execution_count": 45,
     "metadata": {},
     "output_type": "execute_result"
    },
    {
     "data": {
      "text/latex": [
       "$\\displaystyle \\frac{U{\\left(\\omega_{1} \\right)} U^{4}{\\left(z \\right)} V{\\left(\\omega_{1} \\right)}}{\\operatorname{pwp}{\\left(\\frac{\\omega_{1}}{2},g_{2},g_{3} \\right)}} + \\frac{U{\\left(\\omega_{1} \\right)} V{\\left(\\omega_{1} \\right)} V^{4}{\\left(z \\right)}}{\\operatorname{pwp}{\\left(\\frac{\\omega_{1}}{2},g_{2},g_{3} \\right)}} = \\frac{2 U{\\left(\\omega_{1} \\right)} U^{2}{\\left(z \\right)} V{\\left(\\omega_{1} \\right)} V^{2}{\\left(z \\right)}}{\\operatorname{pwp}{\\left(\\frac{\\omega_{1}}{2},g_{2},g_{3} \\right)}} + \\operatorname{pwp}{\\left(\\frac{\\omega_{1}}{2},g_{2},g_{3} \\right)} - \\frac{U{\\left(z \\right)} V{\\left(z \\right)} \\operatorname{pwp}{\\left(\\frac{\\omega_{1}}{2},g_{2},g_{3} \\right)}}{U{\\left(\\omega_{1} \\right)} V{\\left(\\omega_{1} \\right)}}$"
      ],
      "text/plain": [
       "Eq(U(omega1)*U(z)**4*V(omega1)/pwp(omega1/2, g2, g3) + U(omega1)*V(omega1)*V(z)**4/pwp(omega1/2, g2, g3), 2*U(omega1)*U(z)**2*V(omega1)*V(z)**2/pwp(omega1/2, g2, g3) + pwp(omega1/2, g2, g3) - U(z)*V(z)*pwp(omega1/2, g2, g3)/(U(omega1)*V(omega1)))"
      ]
     },
     "execution_count": 45,
     "metadata": {},
     "output_type": "execute_result"
    },
    {
     "data": {
      "text/latex": [
       "$\\displaystyle - \\frac{\\operatorname{pwp}{\\left(\\frac{\\omega_{1}}{2},g_{2},g_{3} \\right)} \\operatorname{pwp}{\\left(z,g_{2},g_{3} \\right)}}{U{\\left(\\omega_{1} \\right)} V{\\left(\\omega_{1} \\right)}} = U^{4}{\\left(z \\right)} - V^{4}{\\left(z \\right)}$"
      ],
      "text/plain": [
       "Eq(-pwp(omega1/2, g2, g3)*pwp(z, g2, g3)/(U(omega1)*V(omega1)), U(z)**4 - V(z)**4)"
      ]
     },
     "execution_count": 45,
     "metadata": {},
     "output_type": "execute_result"
    }
   ],
   "source": [
    "hamiltonian_UV_sym = Eq(pwp(omega1/2,g2,g3)**2/U(omega1)/V(omega1) ,\n",
    "    pwp(omega1/2,g2,g3)**2/U(omega1)/V(omega1) - (UV_pwp_UV.lhs + UV_pwp_VU.lhs -(UV_pwp_UV.rhs + UV_pwp_VU.rhs))\n",
    "  )\n",
    "hamiltonian_UV_sym\n",
    "hamiltonian_UV_sym_scaled = Eq(\n",
    "    hamiltonian_UV_sym.lhs*U(omega1)*V(omega1)/pwp(omega1/2,g2,g3)/4,\n",
    "    hamiltonian_UV_sym.rhs*U(omega1)*V(omega1)/pwp(omega1/2,g2,g3)/4\n",
    ").expand()\n",
    "hamiltonian_UV_sym_scaled_a = Eq(\n",
    "    U(omega1)*U(z)**4*V(omega1)/(4*pwp(omega1/2, g2, g3)) + U(omega1)*V(omega1)*V(z)**4/(4*pwp(omega1/2, g2, g3)),\n",
    "    U(omega1)*U(z)**4*V(omega1)/(4*pwp(omega1/2, g2, g3)) + U(omega1)*V(omega1)*V(z)**4/(4*pwp(omega1/2, g2, g3)) +\n",
    "    hamiltonian_UV_sym_scaled.lhs - hamiltonian_UV_sym_scaled.rhs\n",
    ")\n",
    "hamiltonian_UV_sym_scaled_a = Eq(\n",
    "    hamiltonian_UV_sym_scaled_a.lhs*4,\n",
    "    hamiltonian_UV_sym_scaled_a.rhs*4\n",
    ").expand()\n",
    "hamiltonian_UV_sym_a = Eq(U(z)**4 + V(z)**4, U(z)**4 + V(z)**4 + hamiltonian_UV_sym.lhs - hamiltonian_UV_sym.rhs)\n",
    "\n",
    "pwp_UV_sym = Eq(UV_pwp_UV.lhs - UV_pwp_VU.lhs, UV_pwp_UV.rhs - UV_pwp_VU.rhs)\n",
    "\n",
    "hamiltonian_UV_sym\n",
    "hamiltonian_UV_sym_a\n",
    "\n",
    "hamiltonian_UV_sym_scaled\n",
    "hamiltonian_UV_sym_scaled_a\n",
    "\n",
    "pwp_UV_sym"
   ]
  },
  {
   "cell_type": "code",
   "execution_count": 46,
   "id": "4490b976",
   "metadata": {},
   "outputs": [],
   "source": [
    "u = Function('u')\n",
    "v = Function('v')"
   ]
  },
  {
   "cell_type": "code",
   "execution_count": 47,
   "id": "895531c4",
   "metadata": {},
   "outputs": [
    {
     "data": {
      "text/latex": [
       "$\\displaystyle \\frac{\\operatorname{pwp}{\\left(\\frac{\\omega_{1}}{2},g_{2},g_{3} \\right)}}{4} = \\frac{U{\\left(\\omega_{1} \\right)} V{\\left(\\omega_{1} \\right)} u{\\left(z \\right)} v{\\left(z \\right)}}{4 \\operatorname{pwp}{\\left(\\frac{\\omega_{1}}{2},g_{2},g_{3} \\right)}} + \\frac{\\operatorname{pwp}{\\left(\\frac{\\omega_{1}}{2},g_{2},g_{3} \\right)} u{\\left(z \\right)}}{16 U{\\left(\\omega_{1} \\right)} V{\\left(\\omega_{1} \\right)}} - \\frac{\\operatorname{pwp}{\\left(\\frac{\\omega_{1}}{2},g_{2},g_{3} \\right)} v{\\left(z \\right)}}{16 U{\\left(\\omega_{1} \\right)} V{\\left(\\omega_{1} \\right)}}$"
      ],
      "text/plain": [
       "Eq(pwp(omega1/2, g2, g3)/4, U(omega1)*V(omega1)*u(z)*v(z)/(4*pwp(omega1/2, g2, g3)) + pwp(omega1/2, g2, g3)*u(z)/(16*U(omega1)*V(omega1)) - pwp(omega1/2, g2, g3)*v(z)/(16*U(omega1)*V(omega1)))"
      ]
     },
     "execution_count": 47,
     "metadata": {},
     "output_type": "execute_result"
    }
   ],
   "source": [
    "hamiltonian_uv = hamiltonian_UV_sym_scaled.subs(\n",
    "    [(U(z), (sqrt(u(z))+sqrt(v(z)))/2), (V(z), (sqrt(u(z))-sqrt(v(z)))/2)]).expand()\n",
    "\n",
    "hamiltonian_uv"
   ]
  },
  {
   "cell_type": "code",
   "execution_count": 48,
   "id": "13b5603d",
   "metadata": {},
   "outputs": [
    {
     "data": {
      "text/latex": [
       "$\\displaystyle \\frac{d}{d z} u{\\left(z \\right)} = \\frac{U{\\left(\\omega_{1} \\right)} V{\\left(\\omega_{1} \\right)} u{\\left(z \\right)}}{4 \\operatorname{pwp}{\\left(\\frac{\\omega_{1}}{2},g_{2},g_{3} \\right)}} - \\frac{\\operatorname{pwp}{\\left(\\frac{\\omega_{1}}{2},g_{2},g_{3} \\right)}}{16 U{\\left(\\omega_{1} \\right)} V{\\left(\\omega_{1} \\right)}}$"
      ],
      "text/plain": [
       "Eq(Derivative(u(z), z), U(omega1)*V(omega1)*u(z)/(4*pwp(omega1/2, g2, g3)) - pwp(omega1/2, g2, g3)/(16*U(omega1)*V(omega1)))"
      ]
     },
     "execution_count": 48,
     "metadata": {},
     "output_type": "execute_result"
    },
    {
     "data": {
      "text/latex": [
       "$\\displaystyle \\frac{d}{d z} v{\\left(z \\right)} = - \\frac{U{\\left(\\omega_{1} \\right)} V{\\left(\\omega_{1} \\right)} v{\\left(z \\right)}}{4 \\operatorname{pwp}{\\left(\\frac{\\omega_{1}}{2},g_{2},g_{3} \\right)}} - \\frac{\\operatorname{pwp}{\\left(\\frac{\\omega_{1}}{2},g_{2},g_{3} \\right)}}{16 U{\\left(\\omega_{1} \\right)} V{\\left(\\omega_{1} \\right)}}$"
      ],
      "text/plain": [
       "Eq(Derivative(v(z), z), -U(omega1)*V(omega1)*v(z)/(4*pwp(omega1/2, g2, g3)) - pwp(omega1/2, g2, g3)/(16*U(omega1)*V(omega1)))"
      ]
     },
     "execution_count": 48,
     "metadata": {},
     "output_type": "execute_result"
    }
   ],
   "source": [
    "du = Eq(diff(u(z),z), diff(hamiltonian_uv.rhs, v(z)))\n",
    "dv = Eq(diff(v(z),z), -diff(hamiltonian_uv.rhs, u(z)))\n",
    "du\n",
    "dv"
   ]
  },
  {
   "cell_type": "code",
   "execution_count": 49,
   "id": "3393d0fb",
   "metadata": {},
   "outputs": [
    {
     "data": {
      "text/latex": [
       "$\\displaystyle \\frac{d}{d z} U{\\left(z \\right)} = - \\frac{U{\\left(\\omega_{1} \\right)} U^{2}{\\left(z \\right)} V{\\left(\\omega_{1} \\right)} V{\\left(z \\right)}}{\\operatorname{pwp}{\\left(\\frac{\\omega_{1}}{2},g_{2},g_{3} \\right)}} + \\frac{U{\\left(\\omega_{1} \\right)} V{\\left(\\omega_{1} \\right)} V^{3}{\\left(z \\right)}}{\\operatorname{pwp}{\\left(\\frac{\\omega_{1}}{2},g_{2},g_{3} \\right)}} + \\frac{U{\\left(z \\right)} \\operatorname{pwp}{\\left(\\frac{\\omega_{1}}{2},g_{2},g_{3} \\right)}}{4 U{\\left(\\omega_{1} \\right)} V{\\left(\\omega_{1} \\right)}}$"
      ],
      "text/plain": [
       "Eq(Derivative(U(z), z), -U(omega1)*U(z)**2*V(omega1)*V(z)/pwp(omega1/2, g2, g3) + U(omega1)*V(omega1)*V(z)**3/pwp(omega1/2, g2, g3) + U(z)*pwp(omega1/2, g2, g3)/(4*U(omega1)*V(omega1)))"
      ]
     },
     "execution_count": 49,
     "metadata": {},
     "output_type": "execute_result"
    },
    {
     "data": {
      "text/latex": [
       "$\\displaystyle \\frac{d}{d z} V{\\left(z \\right)} = - \\frac{U{\\left(\\omega_{1} \\right)} U^{3}{\\left(z \\right)} V{\\left(\\omega_{1} \\right)}}{\\operatorname{pwp}{\\left(\\frac{\\omega_{1}}{2},g_{2},g_{3} \\right)}} + \\frac{U{\\left(\\omega_{1} \\right)} U{\\left(z \\right)} V{\\left(\\omega_{1} \\right)} V^{2}{\\left(z \\right)}}{\\operatorname{pwp}{\\left(\\frac{\\omega_{1}}{2},g_{2},g_{3} \\right)}} - \\frac{V{\\left(z \\right)} \\operatorname{pwp}{\\left(\\frac{\\omega_{1}}{2},g_{2},g_{3} \\right)}}{4 U{\\left(\\omega_{1} \\right)} V{\\left(\\omega_{1} \\right)}}$"
      ],
      "text/plain": [
       "Eq(Derivative(V(z), z), -U(omega1)*U(z)**3*V(omega1)/pwp(omega1/2, g2, g3) + U(omega1)*U(z)*V(omega1)*V(z)**2/pwp(omega1/2, g2, g3) - V(z)*pwp(omega1/2, g2, g3)/(4*U(omega1)*V(omega1)))"
      ]
     },
     "execution_count": 49,
     "metadata": {},
     "output_type": "execute_result"
    }
   ],
   "source": [
    "dU = Eq(diff(U(z),z), diff(hamiltonian_UV_sym_scaled.rhs, V(z))).expand()\n",
    "dV = Eq(diff(V(z),z), -diff(hamiltonian_UV_sym_scaled.rhs, U(z))).expand()\n",
    "dU\n",
    "dV"
   ]
  },
  {
   "cell_type": "code",
   "execution_count": 50,
   "id": "2aa09839",
   "metadata": {},
   "outputs": [
    {
     "data": {
      "text/latex": [
       "$\\displaystyle 0$"
      ],
      "text/plain": [
       "0"
      ]
     },
     "execution_count": 50,
     "metadata": {},
     "output_type": "execute_result"
    }
   ],
   "source": [
    "diff(hamiltonian_UV_sym_scaled.rhs,z).subs([dU.args, dV.args]).simplify()"
   ]
  },
  {
   "cell_type": "code",
   "execution_count": 51,
   "id": "b192e3ae",
   "metadata": {},
   "outputs": [
    {
     "data": {
      "text/latex": [
       "$\\displaystyle \\frac{4 U^{2}{\\left(\\omega_{1} \\right)} U^{4}{\\left(z \\right)} V^{2}{\\left(\\omega_{1} \\right)} V^{4}{\\left(z \\right)}}{\\operatorname{pwp}^{2}{\\left(\\frac{\\omega_{1}}{2},g_{2},g_{3} \\right)}} + 4 U{\\left(\\omega_{1} \\right)} U^{2}{\\left(z \\right)} V{\\left(\\omega_{1} \\right)} V^{2}{\\left(z \\right)} - 4 U^{3}{\\left(z \\right)} V^{3}{\\left(z \\right)} + \\operatorname{pwp}^{2}{\\left(\\frac{\\omega_{1}}{2},g_{2},g_{3} \\right)} - \\frac{2 U{\\left(z \\right)} V{\\left(z \\right)} \\operatorname{pwp}^{2}{\\left(\\frac{\\omega_{1}}{2},g_{2},g_{3} \\right)}}{U{\\left(\\omega_{1} \\right)} V{\\left(\\omega_{1} \\right)}} + \\frac{U^{2}{\\left(z \\right)} V^{2}{\\left(z \\right)} \\operatorname{pwp}^{2}{\\left(\\frac{\\omega_{1}}{2},g_{2},g_{3} \\right)}}{U^{2}{\\left(\\omega_{1} \\right)} V^{2}{\\left(\\omega_{1} \\right)}}$"
      ],
      "text/plain": [
       "4*U(omega1)**2*U(z)**4*V(omega1)**2*V(z)**4/pwp(omega1/2, g2, g3)**2 + 4*U(omega1)*U(z)**2*V(omega1)*V(z)**2 - 4*U(z)**3*V(z)**3 + pwp(omega1/2, g2, g3)**2 - 2*U(z)*V(z)*pwp(omega1/2, g2, g3)**2/(U(omega1)*V(omega1)) + U(z)**2*V(z)**2*pwp(omega1/2, g2, g3)**2/(U(omega1)**2*V(omega1)**2)"
      ]
     },
     "execution_count": 51,
     "metadata": {},
     "output_type": "execute_result"
    },
    {
     "data": {
      "text/latex": [
       "$\\displaystyle \\frac{U^{2}{\\left(\\omega_{1} \\right)} U^{8}{\\left(z \\right)} V^{2}{\\left(\\omega_{1} \\right)}}{\\operatorname{pwp}^{2}{\\left(\\frac{\\omega_{1}}{2},g_{2},g_{3} \\right)}} + \\frac{2 U^{2}{\\left(\\omega_{1} \\right)} U^{4}{\\left(z \\right)} V^{2}{\\left(\\omega_{1} \\right)} V^{4}{\\left(z \\right)}}{\\operatorname{pwp}^{2}{\\left(\\frac{\\omega_{1}}{2},g_{2},g_{3} \\right)}} + \\frac{U^{2}{\\left(\\omega_{1} \\right)} V^{2}{\\left(\\omega_{1} \\right)} V^{8}{\\left(z \\right)}}{\\operatorname{pwp}^{2}{\\left(\\frac{\\omega_{1}}{2},g_{2},g_{3} \\right)}}$"
      ],
      "text/plain": [
       "U(omega1)**2*U(z)**8*V(omega1)**2/pwp(omega1/2, g2, g3)**2 + 2*U(omega1)**2*U(z)**4*V(omega1)**2*V(z)**4/pwp(omega1/2, g2, g3)**2 + U(omega1)**2*V(omega1)**2*V(z)**8/pwp(omega1/2, g2, g3)**2"
      ]
     },
     "execution_count": 51,
     "metadata": {},
     "output_type": "execute_result"
    }
   ],
   "source": [
    "(hamiltonian_UV_sym_scaled_a.rhs**2).expand()\n",
    "(hamiltonian_UV_sym_scaled_a.lhs**2).expand()"
   ]
  },
  {
   "cell_type": "code",
   "execution_count": 52,
   "id": "a514bb05",
   "metadata": {
    "scrolled": false
   },
   "outputs": [
    {
     "data": {
      "text/latex": [
       "$\\displaystyle U{\\left(z \\right)} \\frac{d}{d z} V{\\left(z \\right)} + V{\\left(z \\right)} \\frac{d}{d z} U{\\left(z \\right)} = - \\frac{U{\\left(\\omega_{1} \\right)} U^{4}{\\left(z \\right)} V{\\left(\\omega_{1} \\right)}}{\\operatorname{pwp}{\\left(\\frac{\\omega_{1}}{2},g_{2},g_{3} \\right)}} + \\frac{U{\\left(\\omega_{1} \\right)} V{\\left(\\omega_{1} \\right)} V^{4}{\\left(z \\right)}}{\\operatorname{pwp}{\\left(\\frac{\\omega_{1}}{2},g_{2},g_{3} \\right)}}$"
      ],
      "text/plain": [
       "Eq(U(z)*Derivative(V(z), z) + V(z)*Derivative(U(z), z), -U(omega1)*U(z)**4*V(omega1)/pwp(omega1/2, g2, g3) + U(omega1)*V(omega1)*V(z)**4/pwp(omega1/2, g2, g3))"
      ]
     },
     "execution_count": 52,
     "metadata": {},
     "output_type": "execute_result"
    },
    {
     "data": {
      "text/latex": [
       "$\\displaystyle \\left(\\frac{d}{d z} U{\\left(z \\right)} V{\\left(z \\right)}\\right)^{2} = \\frac{U^{2}{\\left(\\omega_{1} \\right)} U^{8}{\\left(z \\right)} V^{2}{\\left(\\omega_{1} \\right)}}{\\operatorname{pwp}^{2}{\\left(\\frac{\\omega_{1}}{2},g_{2},g_{3} \\right)}} - \\frac{2 U^{2}{\\left(\\omega_{1} \\right)} U^{4}{\\left(z \\right)} V^{2}{\\left(\\omega_{1} \\right)} V^{4}{\\left(z \\right)}}{\\operatorname{pwp}^{2}{\\left(\\frac{\\omega_{1}}{2},g_{2},g_{3} \\right)}} + \\frac{U^{2}{\\left(\\omega_{1} \\right)} V^{2}{\\left(\\omega_{1} \\right)} V^{8}{\\left(z \\right)}}{\\operatorname{pwp}^{2}{\\left(\\frac{\\omega_{1}}{2},g_{2},g_{3} \\right)}}$"
      ],
      "text/plain": [
       "Eq(Derivative(U(z)*V(z), z)**2, U(omega1)**2*U(z)**8*V(omega1)**2/pwp(omega1/2, g2, g3)**2 - 2*U(omega1)**2*U(z)**4*V(omega1)**2*V(z)**4/pwp(omega1/2, g2, g3)**2 + U(omega1)**2*V(omega1)**2*V(z)**8/pwp(omega1/2, g2, g3)**2)"
      ]
     },
     "execution_count": 52,
     "metadata": {},
     "output_type": "execute_result"
    },
    {
     "data": {
      "text/latex": [
       "$\\displaystyle \\left(\\frac{d}{d z} U{\\left(z \\right)} V{\\left(z \\right)}\\right)^{2} = 4 U{\\left(\\omega_{1} \\right)} U^{2}{\\left(z \\right)} V{\\left(\\omega_{1} \\right)} V^{2}{\\left(z \\right)} - 4 U^{3}{\\left(z \\right)} V^{3}{\\left(z \\right)} + \\operatorname{pwp}^{2}{\\left(\\frac{\\omega_{1}}{2},g_{2},g_{3} \\right)} - \\frac{2 U{\\left(z \\right)} V{\\left(z \\right)} \\operatorname{pwp}^{2}{\\left(\\frac{\\omega_{1}}{2},g_{2},g_{3} \\right)}}{U{\\left(\\omega_{1} \\right)} V{\\left(\\omega_{1} \\right)}} + \\frac{U^{2}{\\left(z \\right)} V^{2}{\\left(z \\right)} \\operatorname{pwp}^{2}{\\left(\\frac{\\omega_{1}}{2},g_{2},g_{3} \\right)}}{U^{2}{\\left(\\omega_{1} \\right)} V^{2}{\\left(\\omega_{1} \\right)}}$"
      ],
      "text/plain": [
       "Eq(Derivative(U(z)*V(z), z)**2, 4*U(omega1)*U(z)**2*V(omega1)*V(z)**2 - 4*U(z)**3*V(z)**3 + pwp(omega1/2, g2, g3)**2 - 2*U(z)*V(z)*pwp(omega1/2, g2, g3)**2/(U(omega1)*V(omega1)) + U(z)**2*V(z)**2*pwp(omega1/2, g2, g3)**2/(U(omega1)**2*V(omega1)**2))"
      ]
     },
     "execution_count": 52,
     "metadata": {},
     "output_type": "execute_result"
    },
    {
     "data": {
      "text/latex": [
       "$\\displaystyle \\left(\\frac{d}{d z} W{\\left(z \\right)}\\right)^{2} = - \\frac{\\left(- U{\\left(\\omega_{1} \\right)} V{\\left(\\omega_{1} \\right)} - W{\\left(z \\right)} + c\\right) \\left(4 U^{2}{\\left(\\omega_{1} \\right)} V^{2}{\\left(\\omega_{1} \\right)} W^{2}{\\left(z \\right)} - 8 U^{2}{\\left(\\omega_{1} \\right)} V^{2}{\\left(\\omega_{1} \\right)} W{\\left(z \\right)} c + 4 U^{2}{\\left(\\omega_{1} \\right)} V^{2}{\\left(\\omega_{1} \\right)} c^{2} + U{\\left(\\omega_{1} \\right)} V{\\left(\\omega_{1} \\right)} \\operatorname{pwp}^{2}{\\left(\\frac{\\omega_{1}}{2},g_{2},g_{3} \\right)} + W{\\left(z \\right)} \\operatorname{pwp}^{2}{\\left(\\frac{\\omega_{1}}{2},g_{2},g_{3} \\right)} - \\operatorname{pwp}^{2}{\\left(\\frac{\\omega_{1}}{2},g_{2},g_{3} \\right)} c\\right)}{U^{2}{\\left(\\omega_{1} \\right)} V^{2}{\\left(\\omega_{1} \\right)}}$"
      ],
      "text/plain": [
       "Eq(Derivative(W(z), z)**2, -(-U(omega1)*V(omega1) - W(z) + c)*(4*U(omega1)**2*V(omega1)**2*W(z)**2 - 8*U(omega1)**2*V(omega1)**2*W(z)*c + 4*U(omega1)**2*V(omega1)**2*c**2 + U(omega1)*V(omega1)*pwp(omega1/2, g2, g3)**2 + W(z)*pwp(omega1/2, g2, g3)**2 - pwp(omega1/2, g2, g3)**2*c)/(U(omega1)**2*V(omega1)**2))"
      ]
     },
     "execution_count": 52,
     "metadata": {},
     "output_type": "execute_result"
    },
    {
     "data": {
      "text/latex": [
       "$\\displaystyle \\left(\\frac{d}{d z} W{\\left(z \\right)}\\right)^{2} = - \\frac{\\left(- U{\\left(\\omega_{1} \\right)} V{\\left(\\omega_{1} \\right)} + c\\right) \\left(4 U^{2}{\\left(\\omega_{1} \\right)} V^{2}{\\left(\\omega_{1} \\right)} c^{2} + U{\\left(\\omega_{1} \\right)} V{\\left(\\omega_{1} \\right)} \\operatorname{pwp}^{2}{\\left(\\frac{\\omega_{1}}{2},g_{2},g_{3} \\right)} - \\operatorname{pwp}^{2}{\\left(\\frac{\\omega_{1}}{2},g_{2},g_{3} \\right)} c\\right)}{U^{2}{\\left(\\omega_{1} \\right)} V^{2}{\\left(\\omega_{1} \\right)}} - \\frac{\\left(- 4 U^{3}{\\left(\\omega_{1} \\right)} V^{3}{\\left(\\omega_{1} \\right)} + 12 U^{2}{\\left(\\omega_{1} \\right)} V^{2}{\\left(\\omega_{1} \\right)} c - \\operatorname{pwp}^{2}{\\left(\\frac{\\omega_{1}}{2},g_{2},g_{3} \\right)}\\right) W^{2}{\\left(z \\right)}}{U^{2}{\\left(\\omega_{1} \\right)} V^{2}{\\left(\\omega_{1} \\right)}} + \\frac{2 \\left(- 4 U^{3}{\\left(\\omega_{1} \\right)} V^{3}{\\left(\\omega_{1} \\right)} c + 6 U^{2}{\\left(\\omega_{1} \\right)} V^{2}{\\left(\\omega_{1} \\right)} c^{2} + U{\\left(\\omega_{1} \\right)} V{\\left(\\omega_{1} \\right)} \\operatorname{pwp}^{2}{\\left(\\frac{\\omega_{1}}{2},g_{2},g_{3} \\right)} - \\operatorname{pwp}^{2}{\\left(\\frac{\\omega_{1}}{2},g_{2},g_{3} \\right)} c\\right) W{\\left(z \\right)}}{U^{2}{\\left(\\omega_{1} \\right)} V^{2}{\\left(\\omega_{1} \\right)}} + 4 W^{3}{\\left(z \\right)}$"
      ],
      "text/plain": [
       "Eq(Derivative(W(z), z)**2, -(-U(omega1)*V(omega1) + c)*(4*U(omega1)**2*V(omega1)**2*c**2 + U(omega1)*V(omega1)*pwp(omega1/2, g2, g3)**2 - pwp(omega1/2, g2, g3)**2*c)/(U(omega1)**2*V(omega1)**2) - (-4*U(omega1)**3*V(omega1)**3 + 12*U(omega1)**2*V(omega1)**2*c - pwp(omega1/2, g2, g3)**2)*W(z)**2/(U(omega1)**2*V(omega1)**2) + 2*(-4*U(omega1)**3*V(omega1)**3*c + 6*U(omega1)**2*V(omega1)**2*c**2 + U(omega1)*V(omega1)*pwp(omega1/2, g2, g3)**2 - pwp(omega1/2, g2, g3)**2*c)*W(z)/(U(omega1)**2*V(omega1)**2) + 4*W(z)**3)"
      ]
     },
     "execution_count": 52,
     "metadata": {},
     "output_type": "execute_result"
    }
   ],
   "source": [
    "dUVa = Eq(dU.lhs*V(z) + dV.lhs*U(z), dU.rhs*V(z) + dV.rhs*U(z)).expand()\n",
    "dUVb = Eq(Derivative(U(z)*V(z),z)**2, diff(U(z)*V(z),z)**2).subs(*dUVa.args).expand()\n",
    "dUVc = Eq(dUVb.lhs, dUVb.rhs + (hamiltonian_UV_sym_scaled_a.rhs**2 - hamiltonian_UV_sym_scaled_a.lhs**2)).expand()\n",
    "UVW_c = Eq(U(z)*V(z), -W(z) + c)\n",
    "dUVd = dUVc.subs(U(z), solve(UVW_c,U(z))[0]).doit()\n",
    "dUVd = Eq(dUVd.lhs, dUVd.rhs.factor())\n",
    "dUVe = Eq(dUVd.lhs, dUVd.rhs.expand().collect(W(z),factor))\n",
    "dUVa\n",
    "dUVb\n",
    "dUVc\n",
    "dUVd\n",
    "dUVe"
   ]
  },
  {
   "cell_type": "code",
   "execution_count": 53,
   "id": "4635d7cd",
   "metadata": {},
   "outputs": [
    {
     "data": {
      "text/latex": [
       "$\\displaystyle c = \\frac{U{\\left(\\omega_{1} \\right)} V{\\left(\\omega_{1} \\right)}}{3} + \\frac{\\operatorname{pwp}^{2}{\\left(\\frac{\\omega_{1}}{2},g_{2},g_{3} \\right)}}{12 U^{2}{\\left(\\omega_{1} \\right)} V^{2}{\\left(\\omega_{1} \\right)}}$"
      ],
      "text/plain": [
       "Eq(c, U(omega1)*V(omega1)/3 + pwp(omega1/2, g2, g3)**2/(12*U(omega1)**2*V(omega1)**2))"
      ]
     },
     "execution_count": 53,
     "metadata": {},
     "output_type": "execute_result"
    },
    {
     "data": {
      "text/latex": [
       "$\\displaystyle \\frac{2 \\operatorname{pw}{\\left(\\frac{\\omega_{1}}{2},g_{2},g_{3} \\right)}}{3} + \\frac{\\operatorname{pw}{\\left(\\omega_{1},g_{2},g_{3} \\right)}}{3} - \\frac{\\operatorname{pwp}^{2}{\\left(\\frac{\\omega_{1}}{2},g_{2},g_{3} \\right)}}{12 \\left(- \\operatorname{pw}{\\left(\\frac{\\omega_{1}}{2},g_{2},g_{3} \\right)} + \\operatorname{pw}{\\left(\\omega_{1},g_{2},g_{3} \\right)}\\right)^{2}} = 0$"
      ],
      "text/plain": [
       "Eq(2*pw(omega1/2, g2, g3)/3 + pw(omega1, g2, g3)/3 - pwp(omega1/2, g2, g3)**2/(12*(-pw(omega1/2, g2, g3) + pw(omega1, g2, g3))**2), 0)"
      ]
     },
     "execution_count": 53,
     "metadata": {},
     "output_type": "execute_result"
    },
    {
     "data": {
      "text/latex": [
       "$\\displaystyle U{\\left(\\omega_{1} \\right)} V{\\left(\\omega_{1} \\right)} = \\operatorname{pw}{\\left(\\frac{\\omega_{1}}{2},g_{2},g_{3} \\right)} - \\operatorname{pw}{\\left(\\omega_{1},g_{2},g_{3} \\right)}$"
      ],
      "text/plain": [
       "Eq(U(omega1)*V(omega1), pw(omega1/2, g2, g3) - pw(omega1, g2, g3))"
      ]
     },
     "execution_count": 53,
     "metadata": {},
     "output_type": "execute_result"
    },
    {
     "data": {
      "text/latex": [
       "$\\displaystyle \\operatorname{pw}{\\left(\\frac{\\omega_{1}}{2},g_{2},g_{3} \\right)} = U{\\left(\\omega_{1} \\right)} V{\\left(\\omega_{1} \\right)} + \\operatorname{pw}{\\left(\\omega_{1},g_{2},g_{3} \\right)}$"
      ],
      "text/plain": [
       "Eq(pw(omega1/2, g2, g3), U(omega1)*V(omega1) + pw(omega1, g2, g3))"
      ]
     },
     "execution_count": 53,
     "metadata": {},
     "output_type": "execute_result"
    },
    {
     "data": {
      "text/latex": [
       "$\\displaystyle c = \\operatorname{pw}{\\left(\\frac{\\omega_{1}}{2},g_{2},g_{3} \\right)}$"
      ],
      "text/plain": [
       "Eq(c, pw(omega1/2, g2, g3))"
      ]
     },
     "execution_count": 53,
     "metadata": {},
     "output_type": "execute_result"
    }
   ],
   "source": [
    "c_sol = Eq(c, solve(dUVe.rhs.coeff(W(z)**2),c)[0]).expand()\n",
    "\n",
    "add_id_omega1 = Eq(\n",
    "    (pw_xy_addition.lhs - pw_xy_addition.rhs)\n",
    "    .subs([(x,omega1),(y,omega1/2)])\n",
    "    .subs(pw(3*omega1/2,g2,g3), pw(omega1/2,g2,g3))\n",
    "    .subs(pwp(omega1,g2,g3),0)/3,\n",
    "   0\n",
    ")\n",
    "UV_omega1_pw = pw_UV_omega_1.subs(z,omega1)\n",
    "UV_omega1_pw_sol_omega_half = Eq(pw(omega1/2,g2,g3),solve(UV_omega1_pw, pw(omega1/2,g2,g3))[0])\n",
    "\n",
    "c_sol\n",
    "add_id_omega1\n",
    "UV_omega1_pw\n",
    "UV_omega1_pw_sol_omega_half\n",
    "c_pw  = Eq(c_sol.lhs,\n",
    "           c_sol.rhs + add_id_omega1.subs(*UV_omega1_pw_sol_omega_half.args).lhs).subs(*UV_omega1_pw.args)\n",
    "c_pw"
   ]
  },
  {
   "cell_type": "code",
   "execution_count": 54,
   "id": "1ecf78c2",
   "metadata": {},
   "outputs": [
    {
     "data": {
      "text/latex": [
       "$\\displaystyle \\left(\\frac{d}{d z} W{\\left(z \\right)}\\right)^{2} = \\frac{\\left(8 U^{3}{\\left(\\omega_{1} \\right)} V^{3}{\\left(\\omega_{1} \\right)} - \\operatorname{pwp}^{2}{\\left(\\frac{\\omega_{1}}{2},g_{2},g_{3} \\right)}\\right) \\left(8 U^{6}{\\left(\\omega_{1} \\right)} V^{6}{\\left(\\omega_{1} \\right)} + 16 U^{3}{\\left(\\omega_{1} \\right)} V^{3}{\\left(\\omega_{1} \\right)} \\operatorname{pwp}^{2}{\\left(\\frac{\\omega_{1}}{2},g_{2},g_{3} \\right)} - \\operatorname{pwp}^{4}{\\left(\\frac{\\omega_{1}}{2},g_{2},g_{3} \\right)}\\right)}{216 U^{6}{\\left(\\omega_{1} \\right)} V^{6}{\\left(\\omega_{1} \\right)}} - \\frac{\\left(16 U^{6}{\\left(\\omega_{1} \\right)} V^{6}{\\left(\\omega_{1} \\right)} - 16 U^{3}{\\left(\\omega_{1} \\right)} V^{3}{\\left(\\omega_{1} \\right)} \\operatorname{pwp}^{2}{\\left(\\frac{\\omega_{1}}{2},g_{2},g_{3} \\right)} + \\operatorname{pwp}^{4}{\\left(\\frac{\\omega_{1}}{2},g_{2},g_{3} \\right)}\\right) W{\\left(z \\right)}}{12 U^{4}{\\left(\\omega_{1} \\right)} V^{4}{\\left(\\omega_{1} \\right)}} + 4 W^{3}{\\left(z \\right)}$"
      ],
      "text/plain": [
       "Eq(Derivative(W(z), z)**2, (8*U(omega1)**3*V(omega1)**3 - pwp(omega1/2, g2, g3)**2)*(8*U(omega1)**6*V(omega1)**6 + 16*U(omega1)**3*V(omega1)**3*pwp(omega1/2, g2, g3)**2 - pwp(omega1/2, g2, g3)**4)/(216*U(omega1)**6*V(omega1)**6) - (16*U(omega1)**6*V(omega1)**6 - 16*U(omega1)**3*V(omega1)**3*pwp(omega1/2, g2, g3)**2 + pwp(omega1/2, g2, g3)**4)*W(z)/(12*U(omega1)**4*V(omega1)**4) + 4*W(z)**3)"
      ]
     },
     "execution_count": 54,
     "metadata": {},
     "output_type": "execute_result"
    }
   ],
   "source": [
    "dUVf = dUVe.subs(*c_sol.args)\n",
    "dUVf = Eq(dUVf.lhs, dUVf.rhs.expand().collect(W(z),factor))\n",
    "dUVf"
   ]
  },
  {
   "cell_type": "code",
   "execution_count": 55,
   "id": "fa7b0419",
   "metadata": {},
   "outputs": [
    {
     "data": {
      "text/latex": [
       "$\\displaystyle \\operatorname{pw}^{2}{\\left(\\omega_{1},g_{2},g_{3} \\right)} = \\frac{g_{2}}{12} + \\frac{U^{2}{\\left(\\omega_{1} \\right)} V^{2}{\\left(\\omega_{1} \\right)}}{3}$"
      ],
      "text/plain": [
       "Eq(pw(omega1, g2, g3)**2, g2/12 + U(omega1)**2*V(omega1)**2/3)"
      ]
     },
     "execution_count": 55,
     "metadata": {},
     "output_type": "execute_result"
    },
    {
     "data": {
      "text/latex": [
       "$\\displaystyle - g_{2} \\operatorname{pw}{\\left(\\omega_{1},g_{2},g_{3} \\right)} - g_{3} + 4 \\operatorname{pw}^{3}{\\left(\\omega_{1},g_{2},g_{3} \\right)} = - g_{2} \\operatorname{pw}{\\left(\\omega_{1},g_{2},g_{3} \\right)} - g_{3} + \\left(\\frac{g_{2}}{3} + \\frac{4 U^{2}{\\left(\\omega_{1} \\right)} V^{2}{\\left(\\omega_{1} \\right)}}{3}\\right) \\operatorname{pw}{\\left(\\omega_{1},g_{2},g_{3} \\right)}$"
      ],
      "text/plain": [
       "Eq(-g2*pw(omega1, g2, g3) - g3 + 4*pw(omega1, g2, g3)**3, -g2*pw(omega1, g2, g3) - g3 + (g2/3 + 4*U(omega1)**2*V(omega1)**2/3)*pw(omega1, g2, g3))"
      ]
     },
     "execution_count": 55,
     "metadata": {},
     "output_type": "execute_result"
    },
    {
     "data": {
      "text/latex": [
       "$\\displaystyle \\operatorname{pw}{\\left(\\omega_{1},g_{2},g_{3} \\right)} = - \\frac{3 g_{3}}{2 g_{2} - 4 U^{2}{\\left(\\omega_{1} \\right)} V^{2}{\\left(\\omega_{1} \\right)}}$"
      ],
      "text/plain": [
       "Eq(pw(omega1, g2, g3), -3*g3/(2*g2 - 4*U(omega1)**2*V(omega1)**2))"
      ]
     },
     "execution_count": 55,
     "metadata": {},
     "output_type": "execute_result"
    },
    {
     "data": {
      "text/latex": [
       "$\\displaystyle g_{2} = - 4 U^{2}{\\left(\\omega_{1} \\right)} V^{2}{\\left(\\omega_{1} \\right)} + 12 \\operatorname{pw}^{2}{\\left(\\omega_{1},g_{2},g_{3} \\right)}$"
      ],
      "text/plain": [
       "Eq(g2, -4*U(omega1)**2*V(omega1)**2 + 12*pw(omega1, g2, g3)**2)"
      ]
     },
     "execution_count": 55,
     "metadata": {},
     "output_type": "execute_result"
    },
    {
     "data": {
      "text/latex": [
       "$\\displaystyle \\left(\\frac{d}{d z} W{\\left(z \\right)}\\right)^{2} = - g_{2} W{\\left(z \\right)} - g_{3} + 4 W^{3}{\\left(z \\right)}$"
      ],
      "text/plain": [
       "Eq(Derivative(W(z), z)**2, -g2*W(z) - g3 + 4*W(z)**3)"
      ]
     },
     "execution_count": 55,
     "metadata": {},
     "output_type": "execute_result"
    },
    {
     "data": {
      "text/latex": [
       "$\\displaystyle U{\\left(z \\right)} V{\\left(z \\right)} = - W{\\left(z \\right)} + \\operatorname{pw}{\\left(\\frac{\\omega_{1}}{2},g_{2},g_{3} \\right)}$"
      ],
      "text/plain": [
       "Eq(U(z)*V(z), -W(z) + pw(omega1/2, g2, g3))"
      ]
     },
     "execution_count": 55,
     "metadata": {},
     "output_type": "execute_result"
    },
    {
     "data": {
      "text/latex": [
       "$\\displaystyle U{\\left(z \\right)} V{\\left(z \\right)} = \\operatorname{pw}{\\left(\\frac{\\omega_{1}}{2},g_{2},g_{3} \\right)} - \\operatorname{pw}{\\left(z,g_{2},g_{3} \\right)}$"
      ],
      "text/plain": [
       "Eq(U(z)*V(z), pw(omega1/2, g2, g3) - pw(z, g2, g3))"
      ]
     },
     "execution_count": 55,
     "metadata": {},
     "output_type": "execute_result"
    }
   ],
   "source": [
    "pwsqrd_UV = Eq(pw(omega1,g2,g3)**2, \n",
    "               solve((c_sol\n",
    " .subs(pwp(omega1/2,g2,g3)**2, 4*pw(omega1/2,g2,g3)**3 - g2*pw(omega1/2,g2,g3) - g3)\n",
    " .subs(*c_pw.args)\n",
    " .subs(*UV_omega1_pw_sol_omega_half.args).expand()\n",
    " .subs(pw(omega1,g2,g3)**3, (pw(omega1,g2,g3)*g2 + g3)/4)).expand(), pw(omega1,g2,g3)**2)[0]\n",
    "              )\n",
    "\n",
    "pwcbd_UV = Eq(4*pwsqrd_UV.lhs*pw(omega1,g2,g3) - g2*pw(omega1,g2,g3) - g3, \n",
    "              4*pwsqrd_UV.rhs*pw(omega1,g2,g3)  - g2*pw(omega1,g2,g3) - g3)\n",
    "pwcbd_UV_b = Eq( pw(omega1,g2,g3),\n",
    "              solve(4*pwsqrd_UV.rhs*pw(omega1,g2,g3)  - g2*pw(omega1,g2,g3) - g3,pw(omega1,g2,g3))[0])\n",
    "\n",
    "g2_pw_sqrd = Eq(g2, solve(pwsqrd_UV.subs(pw(omega1, g2, g3),X),g2)[0].subs(X, pw(omega1, g2, g3)))\n",
    "\n",
    "\n",
    "\n",
    "dUVg = (dUVf\n",
    "        .subs(pwp(omega1/2,g2,g3)**2, 4*pw(omega1/2,g2,g3)**3 - g2*pw(omega1/2,g2,g3) - g3)\n",
    "        .subs(*UV_omega1_pw_sol_omega_half.args)\n",
    "       )\n",
    "\n",
    "_xxx_1 = Eq(dUVg.rhs.coeff(W(z)),\n",
    "    dUVg.rhs.coeff(W(z))\n",
    "    .expand().collect(U(omega1)*V(omega1),factor)\n",
    "    .subs([\n",
    "        (pw(omega1,g2,g3)**3, (pw(omega1,g2,g3)*g2 + g3)/4),\n",
    "        (pw(omega1,g2,g3)**4, pw(omega1,g2,g3)*(pw(omega1,g2,g3)*g2 + g3)/4)\n",
    "    ])\n",
    "    .expand().collect(U(omega1)*V(omega1),factor)\n",
    "    .subs(*pwsqrd_UV.args)\n",
    "    .expand().collect(pw(omega1,g2,g3))\n",
    "    .subs(*pwcbd_UV_b.args)\n",
    "    .simplify().expand()\n",
    "    .subs(g3**2, solve(pwsqrd_UV.subs(*pwcbd_UV_b.args),g3**2)[0])\n",
    "    .simplify().expand().collect(g2,factor)\n",
    ")\n",
    "\n",
    "_xxx_3 = Eq(dUVg.rhs.subs(W(z),0),\n",
    "    (dUVg.rhs.subs(W(z),0) + g3)\n",
    "    .expand().collect(U(omega1)*V(omega1),factor)\n",
    "    .subs([\n",
    "        (pw(omega1,g2,g3)**3, (pw(omega1,g2,g3)*g2 + g3)/4),\n",
    "        (pw(omega1,g2,g3)**4, pw(omega1,g2,g3)*(pw(omega1,g2,g3)*g2 + g3)/4)\n",
    "    ])\n",
    "    .expand().collect(U(omega1)*V(omega1),factor)\n",
    "    .subs(*pwsqrd_UV.args)\n",
    "    .expand().collect(pw(omega1,g2,g3))\n",
    "    .subs(*pwcbd_UV_b.args)\n",
    "    .simplify().expand()\n",
    "    .subs(g3**2, solve(pwsqrd_UV.subs(*pwcbd_UV_b.args),g3**2)[0])\n",
    "    .simplify().expand().collect(g3,factor).simplify().factor()\n",
    "    -g3\n",
    ")\n",
    "_xxx_3 = Eq(_xxx_3.lhs, \n",
    "            _xxx_3.rhs.subs(g3**2, solve(pwsqrd_UV.subs(*pwcbd_UV_b.args),g3**2)[0]).collect(g3,simplify))\n",
    "\n",
    "dUVh = dUVg.subs([_xxx_1.args, _xxx_3.args])\n",
    "\n",
    "UVW_pw = UVW_c.subs(*c_pw.args)\n",
    "UV_pw = UVW_pw.subs(W(z),pw(z,g2,g3))\n",
    "\n",
    "pwsqrd_UV\n",
    "pwcbd_UV\n",
    "pwcbd_UV_b\n",
    "g2_pw_sqrd\n",
    "dUVh\n",
    "UVW_pw\n",
    "UV_pw"
   ]
  },
  {
   "cell_type": "code",
   "execution_count": 56,
   "id": "7e3403f3",
   "metadata": {},
   "outputs": [
    {
     "data": {
      "text/latex": [
       "$\\displaystyle \\frac{\\frac{d}{d z} U{\\left(z \\right)}}{U{\\left(z \\right)}} = - \\frac{U{\\left(\\omega_{1} \\right)} U{\\left(z \\right)} V{\\left(\\omega_{1} \\right)} V{\\left(z \\right)}}{\\operatorname{pwp}{\\left(\\frac{\\omega_{1}}{2},g_{2},g_{3} \\right)}} + \\frac{U{\\left(\\omega_{1} \\right)} V{\\left(\\omega_{1} \\right)} V^{3}{\\left(z \\right)}}{U{\\left(z \\right)} \\operatorname{pwp}{\\left(\\frac{\\omega_{1}}{2},g_{2},g_{3} \\right)}} + \\frac{\\operatorname{pwp}{\\left(\\frac{\\omega_{1}}{2},g_{2},g_{3} \\right)}}{4 U{\\left(\\omega_{1} \\right)} V{\\left(\\omega_{1} \\right)}}$"
      ],
      "text/plain": [
       "Eq(Derivative(U(z), z)/U(z), -U(omega1)*U(z)*V(omega1)*V(z)/pwp(omega1/2, g2, g3) + U(omega1)*V(omega1)*V(z)**3/(U(z)*pwp(omega1/2, g2, g3)) + pwp(omega1/2, g2, g3)/(4*U(omega1)*V(omega1)))"
      ]
     },
     "execution_count": 56,
     "metadata": {},
     "output_type": "execute_result"
    },
    {
     "data": {
      "text/latex": [
       "$\\displaystyle \\frac{U{\\left(\\omega_{1} \\right)} V{\\left(\\omega_{1} \\right)} V^{3}{\\left(z \\right)}}{U{\\left(z \\right)} \\operatorname{pwp}{\\left(\\frac{\\omega_{1}}{2},g_{2},g_{3} \\right)}} = \\frac{U{\\left(\\omega_{1} \\right)} U{\\left(z \\right)} V{\\left(\\omega_{1} \\right)} V{\\left(z \\right)}}{\\operatorname{pwp}{\\left(\\frac{\\omega_{1}}{2},g_{2},g_{3} \\right)}} + \\frac{\\operatorname{pwp}{\\left(\\frac{\\omega_{1}}{2},g_{2},g_{3} \\right)}}{2 U{\\left(z \\right)} V{\\left(z \\right)}} + \\frac{\\operatorname{pwp}{\\left(z,g_{2},g_{3} \\right)}}{2 U{\\left(z \\right)} V{\\left(z \\right)}} - \\frac{\\operatorname{pwp}{\\left(\\frac{\\omega_{1}}{2},g_{2},g_{3} \\right)}}{2 U{\\left(\\omega_{1} \\right)} V{\\left(\\omega_{1} \\right)}}$"
      ],
      "text/plain": [
       "Eq(U(omega1)*V(omega1)*V(z)**3/(U(z)*pwp(omega1/2, g2, g3)), U(omega1)*U(z)*V(omega1)*V(z)/pwp(omega1/2, g2, g3) + pwp(omega1/2, g2, g3)/(2*U(z)*V(z)) + pwp(z, g2, g3)/(2*U(z)*V(z)) - pwp(omega1/2, g2, g3)/(2*U(omega1)*V(omega1)))"
      ]
     },
     "execution_count": 56,
     "metadata": {},
     "output_type": "execute_result"
    },
    {
     "data": {
      "text/latex": [
       "$\\displaystyle \\frac{\\frac{d}{d z} U{\\left(z \\right)}}{U{\\left(z \\right)}} = \\frac{\\operatorname{pwp}{\\left(\\frac{\\omega_{1}}{2},g_{2},g_{3} \\right)}}{2 U{\\left(z \\right)} V{\\left(z \\right)}} + \\frac{\\operatorname{pwp}{\\left(z,g_{2},g_{3} \\right)}}{2 U{\\left(z \\right)} V{\\left(z \\right)}} - \\frac{\\operatorname{pwp}{\\left(\\frac{\\omega_{1}}{2},g_{2},g_{3} \\right)}}{4 U{\\left(\\omega_{1} \\right)} V{\\left(\\omega_{1} \\right)}}$"
      ],
      "text/plain": [
       "Eq(Derivative(U(z), z)/U(z), pwp(omega1/2, g2, g3)/(2*U(z)*V(z)) + pwp(z, g2, g3)/(2*U(z)*V(z)) - pwp(omega1/2, g2, g3)/(4*U(omega1)*V(omega1)))"
      ]
     },
     "execution_count": 56,
     "metadata": {},
     "output_type": "execute_result"
    },
    {
     "data": {
      "text/latex": [
       "$\\displaystyle \\frac{\\frac{d}{d z} U{\\left(z \\right)}}{U{\\left(z \\right)}} = - \\frac{\\operatorname{pwp}{\\left(\\frac{\\omega_{1}}{2},g_{2},g_{3} \\right)}}{4 \\operatorname{pw}{\\left(\\frac{\\omega_{1}}{2},g_{2},g_{3} \\right)} - 4 \\operatorname{pw}{\\left(\\omega_{1},g_{2},g_{3} \\right)}} + \\frac{\\operatorname{pwp}{\\left(\\frac{\\omega_{1}}{2},g_{2},g_{3} \\right)} + \\operatorname{pwp}{\\left(z,g_{2},g_{3} \\right)}}{2 \\operatorname{pw}{\\left(\\frac{\\omega_{1}}{2},g_{2},g_{3} \\right)} - 2 \\operatorname{pw}{\\left(z,g_{2},g_{3} \\right)}}$"
      ],
      "text/plain": [
       "Eq(Derivative(U(z), z)/U(z), -pwp(omega1/2, g2, g3)/(4*pw(omega1/2, g2, g3) - 4*pw(omega1, g2, g3)) + (pwp(omega1/2, g2, g3) + pwp(z, g2, g3))/(2*pw(omega1/2, g2, g3) - 2*pw(z, g2, g3)))"
      ]
     },
     "execution_count": 56,
     "metadata": {},
     "output_type": "execute_result"
    },
    {
     "data": {
      "text/latex": [
       "$\\displaystyle \\frac{- \\operatorname{pwp}{\\left(\\frac{\\omega_{1}}{2},g_{2},g_{3} \\right)} - \\operatorname{pwp}{\\left(z,g_{2},g_{3} \\right)}}{2 \\left(\\operatorname{pw}{\\left(\\frac{\\omega_{1}}{2},g_{2},g_{3} \\right)} - \\operatorname{pw}{\\left(z,g_{2},g_{3} \\right)}\\right)} = \\operatorname{zw}{\\left(\\frac{\\omega_{1}}{2},g_{2},g_{3} \\right)} - \\operatorname{zw}{\\left(z,g_{2},g_{3} \\right)} + \\operatorname{zw}{\\left(- \\frac{\\omega_{1}}{2} + z,g_{2},g_{3} \\right)}$"
      ],
      "text/plain": [
       "Eq((-pwp(omega1/2, g2, g3) - pwp(z, g2, g3))/(2*(pw(omega1/2, g2, g3) - pw(z, g2, g3))), zw(omega1/2, g2, g3) - zw(z, g2, g3) + zw(-omega1/2 + z, g2, g3))"
      ]
     },
     "execution_count": 56,
     "metadata": {},
     "output_type": "execute_result"
    },
    {
     "data": {
      "text/latex": [
       "$\\displaystyle - \\frac{\\operatorname{pwp}{\\left(\\frac{\\omega_{1}}{2},g_{2},g_{3} \\right)}}{2 \\left(\\operatorname{pw}{\\left(\\frac{\\omega_{1}}{2},g_{2},g_{3} \\right)} - \\operatorname{pw}{\\left(\\omega_{1},g_{2},g_{3} \\right)}\\right)} = 2 \\operatorname{zw}{\\left(\\frac{\\omega_{1}}{2},g_{2},g_{3} \\right)} - \\operatorname{zw}{\\left(\\omega_{1},g_{2},g_{3} \\right)}$"
      ],
      "text/plain": [
       "Eq(-pwp(omega1/2, g2, g3)/(2*(pw(omega1/2, g2, g3) - pw(omega1, g2, g3))), 2*zw(omega1/2, g2, g3) - zw(omega1, g2, g3))"
      ]
     },
     "execution_count": 56,
     "metadata": {},
     "output_type": "execute_result"
    },
    {
     "data": {
      "text/latex": [
       "$\\displaystyle \\frac{\\frac{d}{d z} U{\\left(z \\right)}}{U{\\left(z \\right)}} = - \\frac{\\operatorname{zw}{\\left(\\omega_{1},g_{2},g_{3} \\right)}}{2} + \\operatorname{zw}{\\left(z,g_{2},g_{3} \\right)} - \\operatorname{zw}{\\left(- \\frac{\\omega_{1}}{2} + z,g_{2},g_{3} \\right)}$"
      ],
      "text/plain": [
       "Eq(Derivative(U(z), z)/U(z), -zw(omega1, g2, g3)/2 + zw(z, g2, g3) - zw(-omega1/2 + z, g2, g3))"
      ]
     },
     "execution_count": 56,
     "metadata": {},
     "output_type": "execute_result"
    },
    {
     "data": {
      "text/latex": [
       "$\\displaystyle \\frac{\\frac{d}{d z} U{\\left(z \\right)}}{U{\\left(z \\right)}} = - \\frac{\\operatorname{zw}{\\left(\\omega_{1},g_{2},g_{3} \\right)}}{2} + \\frac{\\partial}{\\partial z} \\log{\\left(\\sigma{\\left(z,g_{2},g_{3} \\right)} \\right)} - \\frac{\\partial}{\\partial z} \\log{\\left(\\sigma{\\left(- \\frac{\\omega_{1}}{2} + z,g_{2},g_{3} \\right)} \\right)}$"
      ],
      "text/plain": [
       "Eq(Derivative(U(z), z)/U(z), -zw(omega1, g2, g3)/2 + Derivative(log(sigma(z, g2, g3)), z) - Derivative(log(sigma(-omega1/2 + z, g2, g3)), z))"
      ]
     },
     "execution_count": 56,
     "metadata": {},
     "output_type": "execute_result"
    },
    {
     "data": {
      "text/latex": [
       "$\\displaystyle \\log{\\left(U{\\left(z \\right)} \\right)} = C - \\frac{z \\operatorname{zw}{\\left(\\omega_{1},g_{2},g_{3} \\right)}}{2} + \\log{\\left(\\sigma{\\left(z,g_{2},g_{3} \\right)} \\right)} - \\log{\\left(\\sigma{\\left(- \\frac{\\omega_{1}}{2} + z,g_{2},g_{3} \\right)} \\right)}$"
      ],
      "text/plain": [
       "Eq(log(U(z)), C - z*zw(omega1, g2, g3)/2 + log(sigma(z, g2, g3)) - log(sigma(-omega1/2 + z, g2, g3)))"
      ]
     },
     "execution_count": 56,
     "metadata": {},
     "output_type": "execute_result"
    },
    {
     "data": {
      "text/latex": [
       "$\\displaystyle U{\\left(z \\right)} = \\frac{\\sigma{\\left(z,g_{2},g_{3} \\right)} e^{C - \\frac{z \\operatorname{zw}{\\left(\\omega_{1},g_{2},g_{3} \\right)}}{2}}}{\\sigma{\\left(- \\frac{\\omega_{1}}{2} + z,g_{2},g_{3} \\right)}}$"
      ],
      "text/plain": [
       "Eq(U(z), sigma(z, g2, g3)*exp(C - z*zw(omega1, g2, g3)/2)/sigma(-omega1/2 + z, g2, g3))"
      ]
     },
     "execution_count": 56,
     "metadata": {},
     "output_type": "execute_result"
    }
   ],
   "source": [
    "log_dU = Eq(dU.lhs/U(z), dU.rhs/U(z)).expand()\n",
    "\n",
    "\n",
    "V3_term = Eq(UV_pwp_VU.rhs/(U(z)*V(z))*U(omega1)*V(omega1)/pwp(omega1/2,g2,g3), \n",
    "   UV_pwp_VU.lhs/(U(z)*V(z))*U(omega1)*V(omega1)/pwp(omega1/2,g2,g3)).expand()\n",
    "\n",
    "log_dU_a = log_dU.subs(*V3_term.args)\n",
    "log_dU_b = log_dU_a.subs(*V3_term.args).subs(*UV_pw.args)\n",
    "log_dU_b = Eq(log_dU_b.lhs, log_dU_b.rhs.collect(U(omega1)*V(omega1),factor)).subs(*UV_omega1_pw.args)\n",
    "\n",
    "pw_pwp_zeta_omega1_z = (\n",
    "    pw_to_zw_identity\n",
    "    .subs([(y,z),(x,-omega1/2)])\n",
    "    .subs([(pw(-omega1/2,g2,g3), pw(omega1/2,g2,g3)), (pwp(-omega1/2,g2,g3), -pwp(omega1/2,g2,g3))])\n",
    "    .subs(zw(-omega1/2,g2,g3), -zw(omega1/2,g2,g3))\n",
    ")\n",
    "pw_pwp_zeta_omega1 = (pw_pwp_zeta_omega1_z\n",
    "                      .subs(z,omega1)\n",
    "                      .subs(pwp(omega1,g2,g3),0)\n",
    "                      .subs(zw(-omega1/2,g2,g3), -zw(omega1/2,g2,g3))\n",
    "                     )\n",
    "log_dU_zeta = Eq(log_dU_b.lhs, \n",
    "                 (log_dU_b.rhs + \n",
    "                 -pw_pwp_zeta_omega1_z.rhs + pw_pwp_zeta_omega1_z.lhs +\n",
    "                 pw_pwp_zeta_omega1.rhs/2 - pw_pwp_zeta_omega1.lhs/2)\n",
    "                 .expand()\n",
    "                 .subs(zw(-omega1/2,g2,g3), -zw(omega1/2,g2,g3))\n",
    "                )\n",
    "log_dU_log_sigma = Eq(Derivative(U(z), z)/U(z),\n",
    "                      -zw(omega1, g2, g3)/2 + Derivative(ln(sigma(z, g2, g3)),z) \n",
    "                      - Derivative(ln(sigma(-omega1/2 + z, g2, g3)),z)\n",
    "                     )\n",
    "log_U = Eq(integrate(log_dU_log_sigma.lhs,z), integrate(log_dU_log_sigma.rhs,z) + C)\n",
    "U_sol_sigma = Eq(exp(log_U.lhs), exp(log_U.rhs)).expand().simplify()\n",
    "\n",
    "\n",
    "log_dU\n",
    "V3_term\n",
    "log_dU_a\n",
    "log_dU_b\n",
    "pw_pwp_zeta_omega1_z\n",
    "pw_pwp_zeta_omega1\n",
    "log_dU_zeta\n",
    "log_dU_log_sigma\n",
    "log_U\n",
    "U_sol_sigma"
   ]
  },
  {
   "cell_type": "code",
   "execution_count": 57,
   "id": "2d5845e3",
   "metadata": {},
   "outputs": [
    {
     "data": {
      "text/latex": [
       "$\\displaystyle U{\\left(z \\right)} V{\\left(z \\right)} = \\operatorname{pw}{\\left(\\frac{\\omega_{1}}{2},g_{2},g_{3} \\right)} - \\operatorname{pw}{\\left(z,g_{2},g_{3} \\right)}$"
      ],
      "text/plain": [
       "Eq(U(z)*V(z), pw(omega1/2, g2, g3) - pw(z, g2, g3))"
      ]
     },
     "execution_count": 57,
     "metadata": {},
     "output_type": "execute_result"
    },
    {
     "data": {
      "text/latex": [
       "$\\displaystyle \\operatorname{pw}{\\left(\\frac{\\omega_{1}}{2},g_{2},g_{3} \\right)} - \\operatorname{pw}{\\left(z,g_{2},g_{3} \\right)} = \\frac{\\sigma{\\left(- \\frac{\\omega_{1}}{2} + z,g_{2},g_{3} \\right)} \\sigma{\\left(\\frac{\\omega_{1}}{2} + z,g_{2},g_{3} \\right)}}{\\sigma^{2}{\\left(\\frac{\\omega_{1}}{2},g_{2},g_{3} \\right)} \\sigma^{2}{\\left(z,g_{2},g_{3} \\right)}}$"
      ],
      "text/plain": [
       "Eq(pw(omega1/2, g2, g3) - pw(z, g2, g3), sigma(-omega1/2 + z, g2, g3)*sigma(omega1/2 + z, g2, g3)/(sigma(omega1/2, g2, g3)**2*sigma(z, g2, g3)**2))"
      ]
     },
     "execution_count": 57,
     "metadata": {},
     "output_type": "execute_result"
    },
    {
     "data": {
      "text/latex": [
       "$\\displaystyle U{\\left(z \\right)} V{\\left(z \\right)} = \\frac{\\sigma{\\left(- \\frac{\\omega_{1}}{2} + z,g_{2},g_{3} \\right)} \\sigma{\\left(\\frac{\\omega_{1}}{2} + z,g_{2},g_{3} \\right)}}{\\sigma^{2}{\\left(\\frac{\\omega_{1}}{2},g_{2},g_{3} \\right)} \\sigma^{2}{\\left(z,g_{2},g_{3} \\right)}}$"
      ],
      "text/plain": [
       "Eq(U(z)*V(z), sigma(-omega1/2 + z, g2, g3)*sigma(omega1/2 + z, g2, g3)/(sigma(omega1/2, g2, g3)**2*sigma(z, g2, g3)**2))"
      ]
     },
     "execution_count": 57,
     "metadata": {},
     "output_type": "execute_result"
    }
   ],
   "source": [
    "\n",
    "pw_omega1_sigma_kron = sigma_p_identity.subs([(y,omega1/2),(x,z)])\n",
    "UV_pw_omega1_sigma_kron = UV_pw.subs(*pw_omega1_sigma_kron.args)\n",
    "\n",
    "UV_pw\n",
    "pw_omega1_sigma_kron\n",
    "UV_pw_omega1_sigma_kron"
   ]
  },
  {
   "cell_type": "code",
   "execution_count": 58,
   "id": "82a63e3d",
   "metadata": {},
   "outputs": [
    {
     "data": {
      "text/latex": [
       "$\\displaystyle \\frac{X^{k + 1} k \\Phi\\left(\\frac{X Y e^{i \\pi}}{c}, 1, k + 1\\right) \\Gamma\\left(k + 1\\right)}{\\Gamma\\left(k + 2\\right) c} + \\frac{X^{k + 1} \\Phi\\left(\\frac{X Y e^{i \\pi}}{c}, 1, k + 1\\right) \\Gamma\\left(k + 1\\right)}{\\Gamma\\left(k + 2\\right) c}$"
      ],
      "text/plain": [
       "X**(k + 1)*k*lerchphi(X*Y*exp_polar(I*pi)/c, 1, k + 1)*gamma(k + 1)/(gamma(k + 2)*c) + X**(k + 1)*lerchphi(X*Y*exp_polar(I*pi)/c, 1, k + 1)*gamma(k + 1)/(gamma(k + 2)*c)"
      ]
     },
     "execution_count": 58,
     "metadata": {},
     "output_type": "execute_result"
    }
   ],
   "source": [
    "integrate(X**k/(c + X*Y),X)"
   ]
  },
  {
   "cell_type": "code",
   "execution_count": 59,
   "id": "e7390263",
   "metadata": {},
   "outputs": [
    {
     "data": {
      "text/latex": [
       "$\\displaystyle \\frac{X^{5}}{5 Y} - \\frac{X^{4} c}{4 Y^{2}} + \\frac{X^{3} c^{2}}{3 Y^{3}} - \\frac{X^{2} c^{3}}{2 Y^{4}} + \\frac{X c^{4}}{Y^{5}} - \\frac{\\log{\\left(X Y + c \\right)} c^{5}}{Y^{6}}$"
      ],
      "text/plain": [
       "X**5/(5*Y) - X**4*c/(4*Y**2) + X**3*c**2/(3*Y**3) - X**2*c**3/(2*Y**4) + X*c**4/Y**5 - log(X*Y + c)*c**5/Y**6"
      ]
     },
     "execution_count": 59,
     "metadata": {},
     "output_type": "execute_result"
    },
    {
     "data": {
      "text/latex": [
       "$\\displaystyle \\frac{X^{5}}{5 Y^{2}} + X^{4} \\left(- \\frac{c}{4 Y^{3}} - \\frac{d}{4 Y^{3}}\\right) + X^{3} \\left(\\frac{c^{2}}{3 Y^{4}} + \\frac{c d}{3 Y^{4}} + \\frac{d^{2}}{3 Y^{4}}\\right) + X^{2} \\left(- \\frac{c^{3}}{2 Y^{5}} - \\frac{c^{2} d}{2 Y^{5}} - \\frac{c d^{2}}{2 Y^{5}} - \\frac{d^{3}}{2 Y^{5}}\\right) + X \\left(\\frac{c^{4}}{Y^{6}} + \\frac{c^{3} d}{Y^{6}} + \\frac{c^{2} d^{2}}{Y^{6}} + \\frac{c d^{3}}{Y^{6}} + \\frac{d^{4}}{Y^{6}}\\right) - \\frac{\\log{\\left(X + \\frac{c^{6} d + c d^{6} + \\frac{c^{8}}{c - d} - \\frac{2 c^{7} d}{c - d} + \\frac{c^{6} d^{2}}{c - d}}{Y c^{6} + Y d^{6}} \\right)} c^{6}}{Y^{7} \\left(c - d\\right)} + \\frac{\\log{\\left(X + \\frac{c^{6} d + c d^{6} - \\frac{c^{2} d^{6}}{c - d} + \\frac{2 c d^{7}}{c - d} - \\frac{d^{8}}{c - d}}{Y c^{6} + Y d^{6}} \\right)} d^{6}}{Y^{7} \\left(c - d\\right)}$"
      ],
      "text/plain": [
       "X**5/(5*Y**2) + X**4*(-c/(4*Y**3) - d/(4*Y**3)) + X**3*(c**2/(3*Y**4) + c*d/(3*Y**4) + d**2/(3*Y**4)) + X**2*(-c**3/(2*Y**5) - c**2*d/(2*Y**5) - c*d**2/(2*Y**5) - d**3/(2*Y**5)) + X*(c**4/Y**6 + c**3*d/Y**6 + c**2*d**2/Y**6 + c*d**3/Y**6 + d**4/Y**6) - log(X + (c**6*d + c*d**6 + c**8/(c - d) - 2*c**7*d/(c - d) + c**6*d**2/(c - d))/(Y*c**6 + Y*d**6))*c**6/(Y**7*(c - d)) + log(X + (c**6*d + c*d**6 - c**2*d**6/(c - d) + 2*c*d**7/(c - d) - d**8/(c - d))/(Y*c**6 + Y*d**6))*d**6/(Y**7*(c - d))"
      ]
     },
     "execution_count": 59,
     "metadata": {},
     "output_type": "execute_result"
    }
   ],
   "source": [
    "integrate(X**5/(c + X*Y),X)\n",
    "integrate(X**6/(c + X*Y)/(d + X*Y),X)"
   ]
  },
  {
   "cell_type": "code",
   "execution_count": 60,
   "id": "6ca52d6d",
   "metadata": {},
   "outputs": [
    {
     "data": {
      "text/latex": [
       "$\\displaystyle U^{2}{\\left(z \\right)} V^{2}{\\left(z \\right)} + \\frac{\\operatorname{pwp}^{2}{\\left(\\frac{\\omega_{1}}{2},g_{2},g_{3} \\right)}}{2 U{\\left(\\omega_{1} \\right)} V{\\left(\\omega_{1} \\right)}} - \\frac{\\operatorname{pwp}{\\left(\\frac{\\omega_{1}}{2},g_{2},g_{3} \\right)} \\operatorname{pwp}{\\left(z,g_{2},g_{3} \\right)}}{2 U{\\left(\\omega_{1} \\right)} V{\\left(\\omega_{1} \\right)}} - \\frac{U{\\left(z \\right)} V{\\left(z \\right)} \\operatorname{pwp}^{2}{\\left(\\frac{\\omega_{1}}{2},g_{2},g_{3} \\right)}}{2 U^{2}{\\left(\\omega_{1} \\right)} V^{2}{\\left(\\omega_{1} \\right)}} = U^{4}{\\left(z \\right)}$"
      ],
      "text/plain": [
       "Eq(U(z)**2*V(z)**2 + pwp(omega1/2, g2, g3)**2/(2*U(omega1)*V(omega1)) - pwp(omega1/2, g2, g3)*pwp(z, g2, g3)/(2*U(omega1)*V(omega1)) - U(z)*V(z)*pwp(omega1/2, g2, g3)**2/(2*U(omega1)**2*V(omega1)**2), U(z)**4)"
      ]
     },
     "execution_count": 60,
     "metadata": {},
     "output_type": "execute_result"
    },
    {
     "data": {
      "text/latex": [
       "$\\displaystyle U^{2}{\\left(z \\right)} V^{2}{\\left(z \\right)} + \\frac{\\operatorname{pwp}^{2}{\\left(\\frac{\\omega_{1}}{2},g_{2},g_{3} \\right)}}{2 U{\\left(\\omega_{1} \\right)} V{\\left(\\omega_{1} \\right)}} + \\frac{\\operatorname{pwp}{\\left(\\frac{\\omega_{1}}{2},g_{2},g_{3} \\right)} \\operatorname{pwp}{\\left(z,g_{2},g_{3} \\right)}}{2 U{\\left(\\omega_{1} \\right)} V{\\left(\\omega_{1} \\right)}} - \\frac{U{\\left(z \\right)} V{\\left(z \\right)} \\operatorname{pwp}^{2}{\\left(\\frac{\\omega_{1}}{2},g_{2},g_{3} \\right)}}{2 U^{2}{\\left(\\omega_{1} \\right)} V^{2}{\\left(\\omega_{1} \\right)}} = V^{4}{\\left(z \\right)}$"
      ],
      "text/plain": [
       "Eq(U(z)**2*V(z)**2 + pwp(omega1/2, g2, g3)**2/(2*U(omega1)*V(omega1)) + pwp(omega1/2, g2, g3)*pwp(z, g2, g3)/(2*U(omega1)*V(omega1)) - U(z)*V(z)*pwp(omega1/2, g2, g3)**2/(2*U(omega1)**2*V(omega1)**2), V(z)**4)"
      ]
     },
     "execution_count": 60,
     "metadata": {},
     "output_type": "execute_result"
    }
   ],
   "source": [
    "UV_pwp_UV\n",
    "UV_pwp_VU"
   ]
  },
  {
   "cell_type": "code",
   "execution_count": 61,
   "id": "0b5c069d",
   "metadata": {},
   "outputs": [
    {
     "data": {
      "text/latex": [
       "$\\displaystyle \\operatorname{pw}{\\left(\\frac{\\omega_{1}}{2},g_{2},g_{3} \\right)} = U{\\left(\\omega_{1} \\right)} V{\\left(\\omega_{1} \\right)} + \\operatorname{pw}{\\left(\\omega_{1},g_{2},g_{3} \\right)}$"
      ],
      "text/plain": [
       "Eq(pw(omega1/2, g2, g3), U(omega1)*V(omega1) + pw(omega1, g2, g3))"
      ]
     },
     "execution_count": 61,
     "metadata": {},
     "output_type": "execute_result"
    }
   ],
   "source": [
    "UV_omega1_pw_sol_omega_half"
   ]
  },
  {
   "cell_type": "code",
   "execution_count": 62,
   "id": "0f26304c",
   "metadata": {},
   "outputs": [
    {
     "data": {
      "text/latex": [
       "$\\displaystyle 6 \\left(- g_{2} + 2 c^{2}\\right) U^{4}{\\left(z \\right)} c^{2} - 12 \\left(- g_{2} + 2 c^{2}\\right) U^{2}{\\left(z \\right)} V^{2}{\\left(z \\right)} c^{2} + 6 \\left(- g_{2} + 2 c^{2}\\right) V^{4}{\\left(z \\right)} c^{2} + \\left(6 g_{2}^{2} c - 2 g_{2}^{2} - 3 g_{2} g_{3} - 12 g_{2} c^{3} - 28 g_{2} c^{2} - 12 g_{3} c^{2} + 72 g_{3} c + 64 c^{4}\\right) U{\\left(z \\right)} V{\\left(z \\right)} - \\left(6 g_{2}^{2} c - 2 g_{2}^{2} - 3 g_{2} g_{3} - 12 g_{2} c^{3} - 28 g_{2} c^{2} - 12 g_{3} c^{2} + 72 g_{3} c + 64 c^{4}\\right) c = 0$"
      ],
      "text/plain": [
       "Eq(6*(-g2 + 2*c**2)*U(z)**4*c**2 - 12*(-g2 + 2*c**2)*U(z)**2*V(z)**2*c**2 + 6*(-g2 + 2*c**2)*V(z)**4*c**2 + (6*g2**2*c - 2*g2**2 - 3*g2*g3 - 12*g2*c**3 - 28*g2*c**2 - 12*g3*c**2 + 72*g3*c + 64*c**4)*U(z)*V(z) - (6*g2**2*c - 2*g2**2 - 3*g2*g3 - 12*g2*c**3 - 28*g2*c**2 - 12*g3*c**2 + 72*g3*c + 64*c**4)*c, 0)"
      ]
     },
     "execution_count": 62,
     "metadata": {},
     "output_type": "execute_result"
    }
   ],
   "source": [
    "_kk3 = Eq(\n",
    "    (hamiltonian_UV_sym.lhs - hamiltonian_UV_sym.rhs)\n",
    "    .subs(pwp(omega1/2,g2,g3)**2, 4*pw(omega1/2,g2,g3)**2 - g2*pw(omega1/2,g2,g3) - g3)\n",
    "    .subs(*UV_omega1_pw_sol_omega_half.args)\n",
    "    .expand().collect(pw(omega1,g2,g3),factor)\n",
    "    .subs([pwsqrd_UV.args, pwcbd_UV_b.args])\n",
    "    .simplify()\n",
    "#     .expand().collect(pw(omega1,g2,g3),factor)\n",
    "#     .expand().collect([g2,g3],factor)\n",
    "    ,0\n",
    ")\n",
    "\n",
    "_nkk3, _dkk3 = fraction(_kk3.lhs)\n",
    "\n",
    "_kk3b = Eq(\n",
    "    _nkk3\n",
    "    .expand().collect([U(z),V(z)],factor)\n",
    "    .subs(U(omega1), c/V(omega1))\n",
    "    .expand().collect([U(z),V(z)],factor)\n",
    "    ,0\n",
    ")\n",
    "_kk3b"
   ]
  },
  {
   "cell_type": "code",
   "execution_count": 63,
   "id": "384e4a7c",
   "metadata": {},
   "outputs": [
    {
     "data": {
      "text/latex": [
       "$\\displaystyle \\operatorname{pw}^{2}{\\left(\\omega_{1},g_{2},g_{3} \\right)} = \\frac{g_{2}}{12} + \\frac{U^{2}{\\left(\\omega_{1} \\right)} V^{2}{\\left(\\omega_{1} \\right)}}{3}$"
      ],
      "text/plain": [
       "Eq(pw(omega1, g2, g3)**2, g2/12 + U(omega1)**2*V(omega1)**2/3)"
      ]
     },
     "execution_count": 63,
     "metadata": {},
     "output_type": "execute_result"
    },
    {
     "data": {
      "text/latex": [
       "$\\displaystyle - g_{2} \\operatorname{pw}{\\left(\\omega_{1},g_{2},g_{3} \\right)} - g_{3} + 4 \\operatorname{pw}^{3}{\\left(\\omega_{1},g_{2},g_{3} \\right)} = - g_{2} \\operatorname{pw}{\\left(\\omega_{1},g_{2},g_{3} \\right)} - g_{3} + \\left(\\frac{g_{2}}{3} + \\frac{4 U^{2}{\\left(\\omega_{1} \\right)} V^{2}{\\left(\\omega_{1} \\right)}}{3}\\right) \\operatorname{pw}{\\left(\\omega_{1},g_{2},g_{3} \\right)}$"
      ],
      "text/plain": [
       "Eq(-g2*pw(omega1, g2, g3) - g3 + 4*pw(omega1, g2, g3)**3, -g2*pw(omega1, g2, g3) - g3 + (g2/3 + 4*U(omega1)**2*V(omega1)**2/3)*pw(omega1, g2, g3))"
      ]
     },
     "execution_count": 63,
     "metadata": {},
     "output_type": "execute_result"
    },
    {
     "data": {
      "text/latex": [
       "$\\displaystyle \\operatorname{pw}{\\left(\\omega_{1},g_{2},g_{3} \\right)} = - \\frac{3 g_{3}}{2 g_{2} - 4 U^{2}{\\left(\\omega_{1} \\right)} V^{2}{\\left(\\omega_{1} \\right)}}$"
      ],
      "text/plain": [
       "Eq(pw(omega1, g2, g3), -3*g3/(2*g2 - 4*U(omega1)**2*V(omega1)**2))"
      ]
     },
     "execution_count": 63,
     "metadata": {},
     "output_type": "execute_result"
    }
   ],
   "source": [
    "pwsqrd_UV\n",
    "pwcbd_UV\n",
    "pwcbd_UV_b"
   ]
  },
  {
   "cell_type": "code",
   "execution_count": 64,
   "id": "ab2b1b93",
   "metadata": {},
   "outputs": [
    {
     "data": {
      "text/latex": [
       "$\\displaystyle \\operatorname{pw}{\\left(\\frac{\\omega_{1}}{2},g_{2},g_{3} \\right)} = U{\\left(\\omega_{1} \\right)} V{\\left(\\omega_{1} \\right)} + \\operatorname{pw}{\\left(\\omega_{1},g_{2},g_{3} \\right)}$"
      ],
      "text/plain": [
       "Eq(pw(omega1/2, g2, g3), U(omega1)*V(omega1) + pw(omega1, g2, g3))"
      ]
     },
     "execution_count": 64,
     "metadata": {},
     "output_type": "execute_result"
    }
   ],
   "source": [
    "UV_omega1_pw_sol_omega_half"
   ]
  },
  {
   "cell_type": "code",
   "execution_count": 65,
   "id": "6c6ae4ce",
   "metadata": {},
   "outputs": [
    {
     "data": {
      "text/latex": [
       "$\\displaystyle U{\\left(z \\right)} V{\\left(z \\right)} = - \\frac{3 g_{3}}{2 g_{2} - 4 U^{2}{\\left(\\omega_{1} \\right)} V^{2}{\\left(\\omega_{1} \\right)}} + U{\\left(\\omega_{1} \\right)} V{\\left(\\omega_{1} \\right)} - \\operatorname{pw}{\\left(z,g_{2},g_{3} \\right)}$"
      ],
      "text/plain": [
       "Eq(U(z)*V(z), -3*g3/(2*g2 - 4*U(omega1)**2*V(omega1)**2) + U(omega1)*V(omega1) - pw(z, g2, g3))"
      ]
     },
     "execution_count": 65,
     "metadata": {},
     "output_type": "execute_result"
    }
   ],
   "source": [
    "UV_pw.subs(*UV_omega1_pw_sol_omega_half.args).subs(*pwcbd_UV_b.args)"
   ]
  },
  {
   "cell_type": "code",
   "execution_count": 66,
   "id": "c20aadde",
   "metadata": {},
   "outputs": [
    {
     "data": {
      "text/latex": [
       "$\\displaystyle \\frac{g_{2} \\cdot \\left(2 g_{2} + 3 g_{3}\\right) \\left(2 g_{2} \\operatorname{pw}{\\left(z,g_{2},g_{3} \\right)} + 3 g_{3} - 4 \\operatorname{pw}{\\left(z,g_{2},g_{3} \\right)} c^{2}\\right)}{2 \\left(g_{2} - 2 c^{2}\\right)} - \\frac{6 g_{2} \\cdot \\left(2 g_{2} \\operatorname{pw}{\\left(z,g_{2},g_{3} \\right)} + 3 g_{3} - 4 \\operatorname{pw}{\\left(z,g_{2},g_{3} \\right)} c^{2}\\right) c^{3}}{g_{2} - 2 c^{2}} - 24 c^{6} - \\frac{3 \\left(g_{2}^{2} + 12 g_{3}\\right) \\left(2 g_{2} \\operatorname{pw}{\\left(z,g_{2},g_{3} \\right)} + 3 g_{3} - 4 \\operatorname{pw}{\\left(z,g_{2},g_{3} \\right)} c^{2}\\right) c}{g_{2} - 2 c^{2}} + \\frac{24 \\cdot \\left(2 g_{2} \\operatorname{pw}{\\left(z,g_{2},g_{3} \\right)} + 3 g_{3} - 4 \\operatorname{pw}{\\left(z,g_{2},g_{3} \\right)} c^{2}\\right) c^{5}}{g_{2} - 2 c^{2}} - \\frac{\\left(6 g_{2}^{3} U^{4}{\\left(z \\right)} + 6 g_{2}^{3} V^{4}{\\left(z \\right)} - 12 g_{2}^{3} \\operatorname{pw}^{2}{\\left(z,g_{2},g_{3} \\right)} - 28 g_{2}^{3} \\operatorname{pw}{\\left(z,g_{2},g_{3} \\right)} - 48 g_{2}^{2} g_{3} \\operatorname{pw}{\\left(z,g_{2},g_{3} \\right)} - 42 g_{2}^{2} g_{3} - 24 g_{2}^{2} U^{4}{\\left(z \\right)} c^{2} - 24 g_{2}^{2} V^{4}{\\left(z \\right)} c^{2} + 48 g_{2}^{2} \\operatorname{pw}^{2}{\\left(z,g_{2},g_{3} \\right)} c^{2} + 112 g_{2}^{2} \\operatorname{pw}{\\left(z,g_{2},g_{3} \\right)} c^{2} - 45 g_{2} g_{3}^{2} + 120 g_{2} g_{3} \\operatorname{pw}{\\left(z,g_{2},g_{3} \\right)} c^{2} + 84 g_{2} g_{3} c^{2} + 24 g_{2} U^{4}{\\left(z \\right)} c^{4} + 24 g_{2} V^{4}{\\left(z \\right)} c^{4} - 48 g_{2} \\operatorname{pw}^{2}{\\left(z,g_{2},g_{3} \\right)} c^{4} - 112 g_{2} \\operatorname{pw}{\\left(z,g_{2},g_{3} \\right)} c^{4} + 36 g_{3}^{2} c^{2} - 48 g_{3} \\operatorname{pw}{\\left(z,g_{2},g_{3} \\right)} c^{4}\\right) c^{2}}{\\left(g_{2} - 2 c^{2}\\right)^{2}} + \\frac{2 \\cdot \\left(6 g_{2}^{3} + 6 g_{2}^{2} U^{4}{\\left(z \\right)} + 6 g_{2}^{2} V^{4}{\\left(z \\right)} - 12 g_{2}^{2} \\operatorname{pw}^{2}{\\left(z,g_{2},g_{3} \\right)} - 32 g_{2}^{2} \\operatorname{pw}{\\left(z,g_{2},g_{3} \\right)} - 24 g_{2}^{2} c^{2} - 36 g_{2} g_{3} \\operatorname{pw}{\\left(z,g_{2},g_{3} \\right)} - 48 g_{2} g_{3} - 24 g_{2} U^{4}{\\left(z \\right)} c^{2} - 24 g_{2} V^{4}{\\left(z \\right)} c^{2} + 48 g_{2} \\operatorname{pw}^{2}{\\left(z,g_{2},g_{3} \\right)} c^{2} + 128 g_{2} \\operatorname{pw}{\\left(z,g_{2},g_{3} \\right)} c^{2} + 24 g_{2} c^{4} - 27 g_{3}^{2} + 72 g_{3} \\operatorname{pw}{\\left(z,g_{2},g_{3} \\right)} c^{2} + 96 g_{3} c^{2} + 24 U^{4}{\\left(z \\right)} c^{4} + 24 V^{4}{\\left(z \\right)} c^{4} - 48 \\operatorname{pw}^{2}{\\left(z,g_{2},g_{3} \\right)} c^{4} - 128 \\operatorname{pw}{\\left(z,g_{2},g_{3} \\right)} c^{4}\\right) c^{4}}{\\left(g_{2} - 2 c^{2}\\right)^{2}}$"
      ],
      "text/plain": [
       "g2*(2*g2 + 3*g3)*(2*g2*pw(z, g2, g3) + 3*g3 - 4*pw(z, g2, g3)*c**2)/(2*(g2 - 2*c**2)) - 6*g2*(2*g2*pw(z, g2, g3) + 3*g3 - 4*pw(z, g2, g3)*c**2)*c**3/(g2 - 2*c**2) - 24*c**6 - 3*(g2**2 + 12*g3)*(2*g2*pw(z, g2, g3) + 3*g3 - 4*pw(z, g2, g3)*c**2)*c/(g2 - 2*c**2) + 24*(2*g2*pw(z, g2, g3) + 3*g3 - 4*pw(z, g2, g3)*c**2)*c**5/(g2 - 2*c**2) - (6*g2**3*U(z)**4 + 6*g2**3*V(z)**4 - 12*g2**3*pw(z, g2, g3)**2 - 28*g2**3*pw(z, g2, g3) - 48*g2**2*g3*pw(z, g2, g3) - 42*g2**2*g3 - 24*g2**2*U(z)**4*c**2 - 24*g2**2*V(z)**4*c**2 + 48*g2**2*pw(z, g2, g3)**2*c**2 + 112*g2**2*pw(z, g2, g3)*c**2 - 45*g2*g3**2 + 120*g2*g3*pw(z, g2, g3)*c**2 + 84*g2*g3*c**2 + 24*g2*U(z)**4*c**4 + 24*g2*V(z)**4*c**4 - 48*g2*pw(z, g2, g3)**2*c**4 - 112*g2*pw(z, g2, g3)*c**4 + 36*g3**2*c**2 - 48*g3*pw(z, g2, g3)*c**4)*c**2/(g2 - 2*c**2)**2 + 2*(6*g2**3 + 6*g2**2*U(z)**4 + 6*g2**2*V(z)**4 - 12*g2**2*pw(z, g2, g3)**2 - 32*g2**2*pw(z, g2, g3) - 24*g2**2*c**2 - 36*g2*g3*pw(z, g2, g3) - 48*g2*g3 - 24*g2*U(z)**4*c**2 - 24*g2*V(z)**4*c**2 + 48*g2*pw(z, g2, g3)**2*c**2 + 128*g2*pw(z, g2, g3)*c**2 + 24*g2*c**4 - 27*g3**2 + 72*g3*pw(z, g2, g3)*c**2 + 96*g3*c**2 + 24*U(z)**4*c**4 + 24*V(z)**4*c**4 - 48*pw(z, g2, g3)**2*c**4 - 128*pw(z, g2, g3)*c**4)*c**4/(g2 - 2*c**2)**2"
      ]
     },
     "execution_count": 66,
     "metadata": {},
     "output_type": "execute_result"
    }
   ],
   "source": [
    "(_kk3b.lhs\n",
    "    .subs(*UV_pw.subs(*UV_omega1_pw_sol_omega_half.args)\n",
    "    .subs(*pwcbd_UV_b.args).args).subs(U(omega1), c/V(omega1))\n",
    " .expand().collect(c,factor)\n",
    ")"
   ]
  },
  {
   "cell_type": "code",
   "execution_count": null,
   "id": "f0a071ff",
   "metadata": {},
   "outputs": [],
   "source": []
  },
  {
   "cell_type": "code",
   "execution_count": null,
   "id": "0986cedb",
   "metadata": {},
   "outputs": [],
   "source": []
  },
  {
   "cell_type": "code",
   "execution_count": null,
   "id": "cbec0488",
   "metadata": {},
   "outputs": [],
   "source": []
  }
 ],
 "metadata": {
  "kernelspec": {
   "display_name": "Python 3 (ipykernel)",
   "language": "python",
   "name": "python3"
  },
  "language_info": {
   "codemirror_mode": {
    "name": "ipython",
    "version": 3
   },
   "file_extension": ".py",
   "mimetype": "text/x-python",
   "name": "python",
   "nbconvert_exporter": "python",
   "pygments_lexer": "ipython3",
   "version": "3.11.10"
  }
 },
 "nbformat": 4,
 "nbformat_minor": 5
}
