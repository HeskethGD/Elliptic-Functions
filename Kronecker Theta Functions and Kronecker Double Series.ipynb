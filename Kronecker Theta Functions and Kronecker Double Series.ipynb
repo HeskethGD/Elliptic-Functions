{
 "cells": [
  {
   "cell_type": "markdown",
   "id": "61b444b7-6955-4267-b8e3-361e0f8dc607",
   "metadata": {},
   "source": [
    "# Kronecker Theta Functions and Kronecker Double Series\n",
    "\n",
    "This notebook aims to setup code for exploring Kronecker Theta Functions and Kronecker Double Series. The aims are to:\n",
    "\n",
    "- give defintitions of the Kronecker Theta function in terms of ratios of Jacobi Theta functions and Weierstrass Sigma functions.\n",
    "- numerically verify that the functions can be correctly plotted and tested.\n",
    "- explore the series expansions in some dynamic systems with known sigma function ratio solutions and see if they yield new insights.\n",
    "- ultimately demonstrate the importance of the Kronecker theta function in nonlinear coupled ordinary differential equations and associated applications.\n",
    "\n",
    "**Important References**\n",
    "\n",
    "The term *Kronecker theta function* for the ratio of Jacobi theta functions was first heard by me in 2023 when reading the 2016 publication \n",
    "[*Elliptic Functions According to Eisenstein and Kronecker: An Update*](https://webusers.imj-prg.fr/~pierre.charollois/Charollois-Sczech_EMS.pdf) by Pierre Charollois and Robert Sczech. They attribute the term to [*Algebraic theta functions and p-adic interpolation of Eisenstein-Kronecker numbers*]](https://arxiv.org/abs/math/0610163 by Kenichi Bannai and Shinichi Kobayashi published in 2006. It was the 1976 Andre Weil book that rekindled modern interest in this area of Kronecker's work and inspired the Charollois and Sczech update, and teh Weil book is based on some notes of Kroneckers lectures written up by F. von Dalwigk in 1891 that expanded on work by Eisenstein. Those notes were digitised and made available in German [here](https://webusers.imj-prg.fr/~pierre.charollois/Kronecker.html). It is also worth mentioning that in [*KRONECKER THETA FUNCTION AND A DECOMPOSITION THEOREM FOR THETA FUNCTIONS I*](https://arxiv.org/pdf/2012.01670.pdf) published in 2020 by ZHI-GUO LIU it was shown that meromorphic functions that satisfy certain conditions re poles and functional identities also satisfy a decomposition theorem in terms of Kronecker theta functions. Finally, it is to be noted that part of the work in Charollois and Sczech follows the 2006 paper [*Algebraic theta functions and p-adic interpolation of Eisenstein-Kronecker numbers*](https://arxiv.org/pdf/math/0610163.pdf) by Kenichi Bannai, Shinichi Kobayashi.\n",
    "\n",
    "I was aware that the theta or sigma ratio could be expanded in a *Kronecker double series* and mentioned this in an appendix in the 2015 paper [*General complex envelope solutions of coupled-mode optics with quadratic or cubic nonlinearity*](https://arxiv.org/abs/1512.03092) and in that paper cited two sources for that claim one was *Elliptic Functions according to Eisenstein and Kronecker*, by Andre Weil, published in Springer-Verlag, 1972, and the other was *E. T. Whitaker and G. N. Watson, A Course of Modern Analysis, (Merchant Books, 1915)* (but I can't spot the reference to the Kronecker double series in the Whitaker and Watson book when I last checked, may be a specific edition is needed, although there are several useful points on double series and their convergence in general). I mentioned the double series in the Appendix as I thought a Fourier series could prove useful in optics but never got round to exploring it. That said, the form of the double series mentioned in my Appendix is not the same as the one in Charollois and Sczech, and it is theirs that has once again peaked my interest as it is a pole expansion that could prove useful in physical interpretations and perhaps even be used as an ansatz to find new solutions to dynamic systems that have so far proved illusive. This work will begin my exploration of the Kronecker theta function as a double series pole expansion.s)\n",
    "4006"
   ]
  },
  {
   "cell_type": "markdown",
   "id": "b478f123-9eea-4021-8a32-e24156e577e0",
   "metadata": {},
   "source": [
    "## Setting up the variables"
   ]
  },
  {
   "cell_type": "code",
   "execution_count": 75,
   "id": "7907db7f-ef05-48db-83ca-b9d57f56d17c",
   "metadata": {},
   "outputs": [],
   "source": [
    "from sympy import *\n",
    "(xi, eta, u, tau, N, M, n, m, k, z, q, a, w, s) = symbols('''xi, eta, u, tau, N, M, n, m, k, z, q, a, w, s''')\n",
    "Ser = Function('Ser')\n",
    "pw = Function('pw') # Weierstrass P function\n",
    "pwp = Function('pwp') # Derivative of Weierstrass P function\n",
    "zw = Function('zw') # Weierstrass Zeta function\n",
    "sigma = Function('sigma') # Weierstrass Sigma function\n",
    "f = Function('f')\n",
    "h = Function('h')\n",
    "K = Function('K')\n",
    "theta = Function('theta')\n",
    "Theta = Function('Theta')\n",
    "vartheta = IndexedBase('vartheta')\n",
    "from math import prod\n",
    "\n",
    "from IPython.core.interactiveshell import InteractiveShell\n",
    "InteractiveShell.ast_node_interactivity = 'all'"
   ]
  },
  {
   "cell_type": "code",
   "execution_count": 76,
   "id": "b8f93c6c-8430-422b-8d8f-e3480435a948",
   "metadata": {},
   "outputs": [],
   "source": [
    "from numpy import linspace, absolute, angle, square, real, imag, conj, array as arraynp, vectorize, concatenate\n",
    "import scipy.integrate\n",
    "import matplotlib.pyplot as plt\n",
    "\n",
    "# The package containing mpmath expressions for Weierstrass elliptic functions\n",
    "from numerical_evaluation.weierstrass_modified import Weierstrass\n",
    "we = Weierstrass()\n",
    "from mpmath import exp as mpexp\n",
    "from mpmath import jtheta, mpf\n",
    "def mpc_to_float(mpc_val):\n",
    "    return float(mpc_val.real) + float(mpc_val.imag)*1j\n",
    "\n",
    "# %load_ext autoreload\n",
    "# %autoreload 2"
   ]
  },
  {
   "cell_type": "markdown",
   "id": "f4e804a5-f803-4502-b5d7-734ac69d944d",
   "metadata": {},
   "source": [
    "## The Kronecker theta function as a double series"
   ]
  },
  {
   "cell_type": "markdown",
   "id": "dfbe0449-9336-4fbb-9def-17e4d7605cbb",
   "metadata": {},
   "source": [
    "### Kronecker double series definition\n",
    "Starting from equation $(5)$ in Charollois and Sczech (in the limit that $N,M$ go to $\\infty$)"
   ]
  },
  {
   "cell_type": "code",
   "execution_count": 77,
   "id": "f1f346c9-e5af-4f8c-aa24-aaed492de9f8",
   "metadata": {},
   "outputs": [
    {
     "data": {
      "text/latex": [
       "$\\displaystyle \\operatorname{Ser}{\\left(\\xi,\\eta,u,\\tau \\right)} = \\sum_{\\substack{- N \\leq n \\leq N\\\\- M \\leq m \\leq M}} \\frac{e^{2 i \\pi \\left(\\eta n - m \\xi\\right)}}{m + n \\tau + u}$"
      ],
      "text/plain": [
       "Eq(Ser(xi, eta, u, tau), Sum(exp(2*I*pi*(eta*n - m*xi))/(m + n*tau + u), (n, -N, N), (m, -M, M)))"
      ]
     },
     "execution_count": 77,
     "metadata": {},
     "output_type": "execute_result"
    }
   ],
   "source": [
    "Seq_dbl_series = Eq(Ser(xi, eta, u, tau), Sum(Sum(exp(2*I*pi*(-m*xi + n*eta))/(u + m + n*tau),(n,-N,N)),(m,-M,M)))\n",
    "Seq_dbl_series"
   ]
  },
  {
   "cell_type": "markdown",
   "id": "fd9973f6-cebe-4813-8689-58b06717a310",
   "metadata": {},
   "source": [
    "### Jacobi theta function definition"
   ]
  },
  {
   "cell_type": "markdown",
   "id": "1a4521ec-d79a-487a-aa6e-cd5d3f6b2a9e",
   "metadata": {},
   "source": [
    "Here the Jacobi theta function is defned and it will be denoted using $\\theta$ as sympy is somewhat restricted by characters for functions (although vartheta works as a symbol). This theta function is intended to be the same Jacobi theta function used in Charollois and Sczech and it is commonly denoted $\\mathcal{theta}_1$ elsewhere, e.g. https://mathworld.wolfram.com/JacobiThetaFunctions.html. It will be defined using the same series and products used in Charollois and Sczech. Furthermore, checks are performed to also confirm that the value coming from the $\\mathrm{jtheta}(1,\\pi z,\\exp(i \\pi \\tau))$ function in the mpmath python package also agrees with the definition, which is important as that forms part of the numerical evaluation of Weierstrass elliptic functions used elsewhere."
   ]
  },
  {
   "cell_type": "code",
   "execution_count": 78,
   "id": "5c35fa2d-0e9a-45e3-8ef6-60dcac4928fe",
   "metadata": {},
   "outputs": [
    {
     "data": {
      "text/latex": [
       "$\\displaystyle \\theta{\\left(z,\\tau \\right)} = {\\vartheta}_{1}$"
      ],
      "text/plain": [
       "Eq(theta(z, tau), vartheta[1])"
      ]
     },
     "execution_count": 78,
     "metadata": {},
     "output_type": "execute_result"
    },
    {
     "data": {
      "text/latex": [
       "$\\displaystyle \\operatorname{im}{\\left(\\tau\\right)} > 0$"
      ],
      "text/plain": [
       "im(tau) > 0"
      ]
     },
     "execution_count": 78,
     "metadata": {},
     "output_type": "execute_result"
    },
    {
     "data": {
      "text/latex": [
       "$\\displaystyle q = e^{2 i \\pi \\tau}$"
      ],
      "text/plain": [
       "Eq(q, exp(2*I*pi*tau))"
      ]
     },
     "execution_count": 78,
     "metadata": {},
     "output_type": "execute_result"
    },
    {
     "data": {
      "text/latex": [
       "$\\displaystyle \\theta{\\left(z,\\tau \\right)} = \\sum_{n=- N}^{N} e^{2 i \\pi \\left(\\frac{\\tau \\left(n + \\frac{1}{2}\\right)^{2}}{2} + \\left(n + \\frac{1}{2}\\right) \\left(z - \\frac{1}{2}\\right)\\right)}$"
      ],
      "text/plain": [
       "Eq(theta(z, tau), Sum(exp(2*I*pi*(tau*(n + 1/2)**2/2 + (n + 1/2)*(z - 1/2))), (n, -N, N)))"
      ]
     },
     "execution_count": 78,
     "metadata": {},
     "output_type": "execute_result"
    },
    {
     "data": {
      "text/latex": [
       "$\\displaystyle \\theta{\\left(z,\\tau \\right)} = 2 e^{\\frac{i \\pi \\tau}{4}} \\sin{\\left(\\pi z \\right)} \\prod_{n=1}^{N} \\left(1 - q^{n}\\right) \\left(- q^{n} e^{- 2 i \\pi z} + 1\\right) \\left(- q^{n} e^{2 i \\pi z} + 1\\right)$"
      ],
      "text/plain": [
       "Eq(theta(z, tau), 2*exp(I*pi*tau/4)*sin(pi*z)*Product((1 - q**n)*(-q**n*exp(-2*I*pi*z) + 1)*(-q**n*exp(2*I*pi*z) + 1), (n, 1, N)))"
      ]
     },
     "execution_count": 78,
     "metadata": {},
     "output_type": "execute_result"
    }
   ],
   "source": [
    "Eq(theta(z,tau), vartheta[1])\n",
    "tau_domain = im(tau)>0\n",
    "q_tau = Eq(q, exp(2*I*pi*tau))\n",
    "theta_sum_def = Eq(theta(z,tau), Sum(exp(2*I*pi*((n + Rational(1,2))**2*tau/2 + (n + Rational(1,2))*(z - Rational(1,2)))),(n,-N,N)))\n",
    "theta_prod_def = Eq(theta(z,tau), 2*exp(I*pi*tau/4)*sin(pi*z)*Product((1-q**n)*(1-q**n*exp(2*I*pi*z))*(1-q**n*exp(-2*I*pi*z)),(n,1,N)))\n",
    "tau_domain\n",
    "q_tau\n",
    "theta_sum_def\n",
    "theta_prod_def"
   ]
  },
  {
   "cell_type": "code",
   "execution_count": 79,
   "id": "d56b7ef2-73fc-41a8-9b4d-9bc9e88f8540",
   "metadata": {},
   "outputs": [
    {
     "data": {
      "text/latex": [
       "$\\displaystyle \\theta{\\left(2.245,0.78 + 0.8 i \\right)} = 0.603776148725747 + 0.43055767622146 i$"
      ],
      "text/plain": [
       "Eq(theta(2.245, 0.78 + 0.8*I), 0.603776148725747 + 0.43055767622146*I)"
      ]
     },
     "execution_count": 79,
     "metadata": {},
     "output_type": "execute_result"
    },
    {
     "data": {
      "text/latex": [
       "$\\displaystyle \\theta{\\left(2.245,0.78 + 0.8 i \\right)} = 0.603776148725689 + 0.430557676221541 i$"
      ],
      "text/plain": [
       "Eq(theta(2.245, 0.78 + 0.8*I), 0.603776148725689 + 0.430557676221541*I)"
      ]
     },
     "execution_count": 79,
     "metadata": {},
     "output_type": "execute_result"
    },
    {
     "data": {
      "text/latex": [
       "$\\displaystyle \\theta{\\left(2.245,0.78 + 0.8 i \\right)} = 0.603776148725747 + 0.43055767622146 i$"
      ],
      "text/plain": [
       "Eq(theta(2.245, 0.78 + 0.8*I), 0.603776148725747 + 0.43055767622146*I)"
      ]
     },
     "execution_count": 79,
     "metadata": {},
     "output_type": "execute_result"
    }
   ],
   "source": [
    "N_val = 200\n",
    "z_val = 2.245\n",
    "tau_val = 0.78+I*0.8\n",
    "test_params = [(N,N_val),(z,z_val), (tau, tau_val)]\n",
    "Eq(theta_sum_def.lhs.subs(test_params), theta_sum_def.rhs.subs(test_params).doit().evalf())\n",
    "Eq(theta_prod_def.lhs.subs(test_params), theta_prod_def.rhs.subs(*q_tau.args).subs(test_params).doit().evalf())\n",
    "Eq(theta(z_val, tau_val), mpc_to_float(jtheta(1,(z_val*pi).evalf(), exp(I*pi*tau_val).evalf())))"
   ]
  },
  {
   "cell_type": "markdown",
   "id": "74902d44-192a-4077-b690-c22a84523fa7",
   "metadata": {},
   "source": [
    "#### Derivatives of the Jacobi theta functions\n",
    "The notation from mpmath python package to denote derivatives using a third paramter will be adopted here and the mpmath package will be used to evaluate them, that is:\n",
    "\n",
    "$\\theta(z,\\tau,k)=\\pi^k \\mathrm{jtheta}(1,\\pi z,\\exp(i \\pi \\tau),k)$\n",
    "\n",
    "and let:"
   ]
  },
  {
   "cell_type": "code",
   "execution_count": 80,
   "id": "7a1d70a6-638b-4ca1-a0c7-3339292c2ef9",
   "metadata": {},
   "outputs": [
    {
     "data": {
      "text/latex": [
       "$\\displaystyle \\theta{\\left(z,\\tau,k \\right)} = \\frac{\\partial^{k}}{\\partial z^{k}} \\theta{\\left(z,\\tau \\right)}$"
      ],
      "text/plain": [
       "Eq(theta(z, tau, k), Derivative(theta(z, tau), (z, k)))"
      ]
     },
     "execution_count": 80,
     "metadata": {},
     "output_type": "execute_result"
    }
   ],
   "source": [
    "Eq(theta(z,tau,k), Derivative(theta(z,tau),(z,k)))"
   ]
  },
  {
   "cell_type": "markdown",
   "id": "6cfa3604-fc8a-4ea5-ac04-e3bf7fe82ba8",
   "metadata": {},
   "source": [
    "### Kronecker's theorem relating the Kronecker theta function to the Kronecker double series\n",
    "Kronecker's main result (which is Theorem 2.4 in Charollois and Sczech) is to express the ratio of Jacobi theta functions in terms of the double series as follows:"
   ]
  },
  {
   "cell_type": "code",
   "execution_count": 81,
   "id": "e5dbdce4-d310-47c7-9576-7d3a9ff7b1fc",
   "metadata": {},
   "outputs": [
    {
     "data": {
      "text/latex": [
       "$\\displaystyle \\operatorname{im}{\\left(u\\right)} > 0$"
      ],
      "text/plain": [
       "im(u) > 0"
      ]
     },
     "execution_count": 81,
     "metadata": {},
     "output_type": "execute_result"
    },
    {
     "data": {
      "text/latex": [
       "$\\displaystyle \\operatorname{im}{\\left(u\\right)} < \\operatorname{im}{\\left(\\tau\\right)}$"
      ],
      "text/plain": [
       "im(u) < im(tau)"
      ]
     },
     "execution_count": 81,
     "metadata": {},
     "output_type": "execute_result"
    },
    {
     "data": {
      "text/latex": [
       "$\\displaystyle \\xi > 0$"
      ],
      "text/plain": [
       "xi > 0"
      ]
     },
     "execution_count": 81,
     "metadata": {},
     "output_type": "execute_result"
    },
    {
     "data": {
      "text/latex": [
       "$\\displaystyle \\xi < 1$"
      ],
      "text/plain": [
       "xi < 1"
      ]
     },
     "execution_count": 81,
     "metadata": {},
     "output_type": "execute_result"
    }
   ],
   "source": [
    "0<im(u)\n",
    "im(u)<im(tau)\n",
    "0<xi\n",
    "xi<1"
   ]
  },
  {
   "cell_type": "code",
   "execution_count": 82,
   "id": "4db081be-06a5-4b6b-a196-93ec60fa5bdc",
   "metadata": {},
   "outputs": [
    {
     "data": {
      "text/latex": [
       "$\\displaystyle \\operatorname{Ser}{\\left(\\xi,\\eta,u,\\tau \\right)} = \\frac{\\theta{\\left(\\eta + \\tau \\xi + u,\\tau \\right)} \\theta{\\left(0,\\tau,1 \\right)} e^{2 i \\pi u \\xi}}{\\theta{\\left(u,\\tau \\right)} \\theta{\\left(\\eta + \\tau \\xi,\\tau \\right)}}$"
      ],
      "text/plain": [
       "Eq(Ser(xi, eta, u, tau), theta(eta + tau*xi + u, tau)*theta(0, tau, 1)*exp(2*I*pi*u*xi)/(theta(u, tau)*theta(eta + tau*xi, tau)))"
      ]
     },
     "execution_count": 82,
     "metadata": {},
     "output_type": "execute_result"
    }
   ],
   "source": [
    "Seq_dbl_ktheta = Eq(Ser(xi, eta, u, tau), exp(2*I*pi*xi*u)*theta(0,tau,1)*theta(u + eta + tau*xi, tau)/theta(u, tau)/theta(eta + tau*xi, tau))\n",
    "Seq_dbl_ktheta"
   ]
  },
  {
   "cell_type": "code",
   "execution_count": 83,
   "id": "fabb1cbd-2c6c-4ef6-8a05-382a409e10e5",
   "metadata": {},
   "outputs": [
    {
     "data": {
      "text/latex": [
       "$\\displaystyle \\frac{\\theta{\\left(\\eta + \\tau \\xi + u,\\tau \\right)} \\theta{\\left(0,\\tau,1 \\right)} e^{2 i \\pi u \\xi}}{\\theta{\\left(u,\\tau \\right)} \\theta{\\left(\\eta + \\tau \\xi,\\tau \\right)}} = \\sum_{\\substack{- N \\leq n \\leq N\\\\- M \\leq m \\leq M}} \\frac{e^{2 i \\pi \\left(\\eta n - m \\xi\\right)}}{m + n \\tau + u}$"
      ],
      "text/plain": [
       "Eq(theta(eta + tau*xi + u, tau)*theta(0, tau, 1)*exp(2*I*pi*u*xi)/(theta(u, tau)*theta(eta + tau*xi, tau)), Sum(exp(2*I*pi*(eta*n - m*xi))/(m + n*tau + u), (n, -N, N), (m, -M, M)))"
      ]
     },
     "execution_count": 83,
     "metadata": {},
     "output_type": "execute_result"
    }
   ],
   "source": [
    "ktheta_dbl_series = Seq_dbl_series.subs(*Seq_dbl_ktheta.args)\n",
    "ktheta_dbl_series"
   ]
  },
  {
   "cell_type": "code",
   "execution_count": 202,
   "id": "3b69e8c0-fff1-4ea2-8582-970b077bbcf0",
   "metadata": {},
   "outputs": [],
   "source": [
    "eta_val = 3.78\n",
    "tau_val = 8.239765 + 2.3*I\n",
    "u_val = 4.34144 + 0.8*I\n",
    "xi_val = 0.435\n",
    "N_val = 100\n",
    "M_val = 100\n",
    "S_dbl_subs_eta_tau_u_xi = [(eta, eta_val), (tau, tau_val), (u, u_val), (xi, xi_val), (N, N_val), (M, M_val)]"
   ]
  },
  {
   "cell_type": "code",
   "execution_count": 240,
   "id": "565dbfea-eeee-4f23-85d2-5efe292febcd",
   "metadata": {},
   "outputs": [],
   "source": [
    "def theta_ratio_S(_xi, _eta, _u, _tau):\n",
    "    result = (\n",
    "        exp(2*I*pi*_u*_xi) * \n",
    "        jtheta(1,((_eta + _tau * _xi + _u) * pi).evalf(), exp(I*pi*_tau).evalf()) *\n",
    "        pi * jtheta(1, 0, exp(I*pi*_tau).evalf(), 1) /\n",
    "        (jtheta(1,(_u * pi).evalf(), exp(I*pi*_tau).evalf()) * jtheta(1,((_eta + _tau * _xi) * pi).evalf(), exp(I*pi*_tau).evalf()) )\n",
    "    ).evalf()\n",
    "    return result\n",
    "\n",
    "def theta_ratio_S_u_diff(_xi, _eta, _u, _tau):\n",
    "    result = (\n",
    "        2*I*pi**2*_xi*exp(2*I*pi*_u*_xi) * \n",
    "        jtheta(1,((_eta + _tau * _xi + _u) * pi).evalf(), exp(I*pi*_tau).evalf()) *\n",
    "        jtheta(1, 0, exp(I*pi*_tau).evalf(), 1) /\n",
    "        (jtheta(1,(_u * pi).evalf(), exp(I*pi*_tau).evalf()) * jtheta(1,((_eta + _tau * _xi) * pi).evalf(), exp(I*pi*_tau).evalf()) ) +\n",
    "\n",
    "        pi**2*exp(2*I*pi*_u*_xi) * jtheta(1, 0, exp(I*pi*_tau).evalf(), 1) * \n",
    "        jtheta(1,((_eta + _tau * _xi + _u) * pi).evalf(), exp(I*pi*_tau).evalf(), 1) /\n",
    "        (jtheta(1,(_u * pi).evalf(), exp(I*pi*_tau).evalf()) * jtheta(1,((_eta + _tau * _xi) * pi).evalf(), exp(I*pi*_tau).evalf()) ) -\n",
    "\n",
    "        pi**2*exp(2*I*pi*_u*_xi) * jtheta(1,((_eta + _tau * _xi + _u) * pi).evalf(), exp(I*pi*_tau).evalf()) *\n",
    "        jtheta(1, 0, exp(I*pi*_tau).evalf(), 1) * jtheta(1,(_u * pi).evalf(), exp(I*pi*_tau).evalf(), 1) /\n",
    "        (jtheta(1,(_u * pi).evalf(), exp(I*pi*_tau).evalf()) ** 2 * jtheta(1,((_eta + _tau * _xi) * pi).evalf(), exp(I*pi*_tau).evalf()) ) \n",
    "\n",
    "    ).evalf()\n",
    "    return result\n",
    "\n",
    "def dbl_series_S_summand(_xi, _eta, _u, _tau, _m, _n, _s):\n",
    "    return (\n",
    "        exp(2*I*pi*(- _m * _xi + _n * _eta))/(_u + _m + _n * _tau) ** _s\n",
    "    ).evalf()\n",
    "\n",
    "def dbl_series_S(_xi, _eta, _u, _tau, _M, _N, _s=1):\n",
    "    result = 0\n",
    "    for _m in range(-_M, _M + 1):\n",
    "        for _n in range(-_N, _N + 1):\n",
    "            result += (-1) ** (_s+1) * dbl_series_S_summand(_xi, _eta, _u, _tau, _m, _n, _s)\n",
    "    return result"
   ]
  },
  {
   "cell_type": "code",
   "execution_count": 242,
   "id": "a578fb3d-c484-44b0-a8d7-ab09af025c36",
   "metadata": {},
   "outputs": [
    {
     "data": {
      "text/latex": [
       "$\\displaystyle \\operatorname{Ser}{\\left(\\xi,\\eta,u,\\tau \\right)} = -0.463220020983809 - 0.567076331077644 i$"
      ],
      "text/plain": [
       "Eq(Ser(xi, eta, u, tau), -0.463220020983809 - 0.567076331077644*I)"
      ]
     },
     "execution_count": 242,
     "metadata": {},
     "output_type": "execute_result"
    },
    {
     "data": {
      "text/latex": [
       "$\\displaystyle \\operatorname{Ser}{\\left(\\xi,\\eta,u,\\tau \\right)} = -0.462091113701485 - 0.573383065191033 i$"
      ],
      "text/plain": [
       "Eq(Ser(xi, eta, u, tau), -0.462091113701485 - 0.573383065191033*I)"
      ]
     },
     "execution_count": 242,
     "metadata": {},
     "output_type": "execute_result"
    },
    {
     "data": {
      "text/latex": [
       "$\\displaystyle 0.00218128905779438$"
      ],
      "text/plain": [
       "0.00218128905779438"
      ]
     },
     "execution_count": 242,
     "metadata": {},
     "output_type": "execute_result"
    }
   ],
   "source": [
    "S_val_1 = Eq(Seq_dbl_ktheta.lhs, theta_ratio_S(xi_val, eta_val, u_val, tau_val))\n",
    "S_val_2 = Eq(Seq_dbl_series.lhs, dbl_series_S(xi_val, eta_val, u_val, tau_val, M_val, N_val))\n",
    "S_val_1\n",
    "S_val_2\n",
    "abs(S_val_1.rhs - S_val_2.rhs) / abs(S_val_1.rhs + S_val_2.rhs) / 2"
   ]
  },
  {
   "cell_type": "markdown",
   "id": "acd5735e-5482-4a41-a533-673ad39557d2",
   "metadata": {},
   "source": [
    "#### Checking the derivative also as it will converge faster"
   ]
  },
  {
   "cell_type": "code",
   "execution_count": 243,
   "id": "163c8259-37d5-479d-ba20-46e61e97f7e8",
   "metadata": {},
   "outputs": [
    {
     "data": {
      "text/latex": [
       "$\\displaystyle \\frac{\\partial}{\\partial u} \\frac{\\theta{\\left(\\eta + \\tau \\xi + u,\\tau \\right)} \\theta{\\left(0,\\tau,1 \\right)} e^{2 i \\pi u \\xi}}{\\theta{\\left(u,\\tau \\right)} \\theta{\\left(\\eta + \\tau \\xi,\\tau \\right)}} = \\frac{\\partial}{\\partial u} \\sum_{\\substack{- N \\leq n \\leq N\\\\- M \\leq m \\leq M}} \\frac{e^{2 i \\pi \\left(\\eta n - m \\xi\\right)}}{m + n \\tau + u}$"
      ],
      "text/plain": [
       "Eq(Derivative(theta(eta + tau*xi + u, tau)*theta(0, tau, 1)*exp(2*I*pi*u*xi)/(theta(u, tau)*theta(eta + tau*xi, tau)), u), Derivative(Sum(exp(2*I*pi*(eta*n - m*xi))/(m + n*tau + u), (n, -N, N), (m, -M, M)), u))"
      ]
     },
     "execution_count": 243,
     "metadata": {},
     "output_type": "execute_result"
    },
    {
     "data": {
      "text/latex": [
       "$\\displaystyle \\frac{2 i \\pi \\xi \\theta{\\left(\\eta + \\tau \\xi + u,\\tau \\right)} \\theta{\\left(0,\\tau,1 \\right)} e^{2 i \\pi u \\xi}}{\\theta{\\left(u,\\tau \\right)} \\theta{\\left(\\eta + \\tau \\xi,\\tau \\right)}} + \\frac{\\theta{\\left(0,\\tau,1 \\right)} e^{2 i \\pi u \\xi} \\left. \\frac{\\partial}{\\partial \\xi_{1}} \\theta{\\left(\\xi_{1},\\tau \\right)} \\right|_{\\substack{ \\xi_{1}=\\eta + \\tau \\xi + u }}}{\\theta{\\left(u,\\tau \\right)} \\theta{\\left(\\eta + \\tau \\xi,\\tau \\right)}} - \\frac{\\theta{\\left(\\eta + \\tau \\xi + u,\\tau \\right)} \\theta{\\left(0,\\tau,1 \\right)} e^{2 i \\pi u \\xi} \\frac{\\partial}{\\partial u} \\theta{\\left(u,\\tau \\right)}}{\\theta^{2}{\\left(u,\\tau \\right)} \\theta{\\left(\\eta + \\tau \\xi,\\tau \\right)}} = \\sum_{\\substack{- N \\leq n \\leq N\\\\- M \\leq m \\leq M}} - \\frac{e^{2 i \\pi \\left(\\eta n - m \\xi\\right)}}{\\left(m + n \\tau + u\\right)^{2}}$"
      ],
      "text/plain": [
       "Eq(2*I*pi*xi*theta(eta + tau*xi + u, tau)*theta(0, tau, 1)*exp(2*I*pi*u*xi)/(theta(u, tau)*theta(eta + tau*xi, tau)) + theta(0, tau, 1)*exp(2*I*pi*u*xi)*Subs(Derivative(theta(_xi_1, tau), _xi_1), _xi_1, eta + tau*xi + u)/(theta(u, tau)*theta(eta + tau*xi, tau)) - theta(eta + tau*xi + u, tau)*theta(0, tau, 1)*exp(2*I*pi*u*xi)*Derivative(theta(u, tau), u)/(theta(u, tau)**2*theta(eta + tau*xi, tau)), Sum(-exp(2*I*pi*(eta*n - m*xi))/(m + n*tau + u)**2, (n, -N, N), (m, -M, M)))"
      ]
     },
     "execution_count": 243,
     "metadata": {},
     "output_type": "execute_result"
    }
   ],
   "source": [
    "Eq(Derivative(ktheta_dbl_series.lhs,u), Derivative(ktheta_dbl_series.rhs,u))\n",
    "Eq(diff(ktheta_dbl_series.lhs,u), diff(ktheta_dbl_series.rhs,u))"
   ]
  },
  {
   "cell_type": "code",
   "execution_count": 239,
   "id": "07401068-51fe-49ec-b879-e3c5cb00ef66",
   "metadata": {},
   "outputs": [
    {
     "data": {
      "text/latex": [
       "$\\displaystyle \\frac{2 i \\pi \\xi \\theta{\\left(\\eta + \\tau \\xi + u,\\tau \\right)} \\theta{\\left(0,\\tau,1 \\right)} e^{2 i \\pi u \\xi}}{\\theta{\\left(u,\\tau \\right)} \\theta{\\left(\\eta + \\tau \\xi,\\tau \\right)}} + \\frac{\\theta{\\left(0,\\tau,1 \\right)} \\theta{\\left(\\eta + \\tau \\xi + u,\\tau,1 \\right)} e^{2 i \\pi u \\xi}}{\\theta{\\left(u,\\tau \\right)} \\theta{\\left(\\eta + \\tau \\xi,\\tau \\right)}} - \\frac{\\theta{\\left(\\eta + \\tau \\xi + u,\\tau \\right)} \\theta{\\left(0,\\tau,1 \\right)} \\theta{\\left(u,\\tau,1 \\right)} e^{2 i \\pi u \\xi}}{\\theta^{2}{\\left(u,\\tau \\right)} \\theta{\\left(\\eta + \\tau \\xi,\\tau \\right)}} = - \\sum_{\\substack{- N \\leq n \\leq N\\\\- M \\leq m \\leq M}} \\frac{e^{2 i \\pi \\left(\\eta n - m \\xi\\right)}}{\\left(m + n \\tau + u\\right)^{2}}$"
      ],
      "text/plain": [
       "Eq(2*I*pi*xi*theta(eta + tau*xi + u, tau)*theta(0, tau, 1)*exp(2*I*pi*u*xi)/(theta(u, tau)*theta(eta + tau*xi, tau)) + theta(0, tau, 1)*theta(eta + tau*xi + u, tau, 1)*exp(2*I*pi*u*xi)/(theta(u, tau)*theta(eta + tau*xi, tau)) - theta(eta + tau*xi + u, tau)*theta(0, tau, 1)*theta(u, tau, 1)*exp(2*I*pi*u*xi)/(theta(u, tau)**2*theta(eta + tau*xi, tau)), -Sum(exp(2*I*pi*(eta*n - m*xi))/(m + n*tau + u)**2, (n, -N, N), (m, -M, M)))"
      ]
     },
     "execution_count": 239,
     "metadata": {},
     "output_type": "execute_result"
    }
   ],
   "source": [
    "Eq((theta(0, tau, 1)*exp(2*I*pi*u*xi)*theta(eta + tau*xi + u, tau, 1)/(theta(u, tau)*theta(eta + tau*xi, tau))\n",
    " -theta(eta + tau*xi + u, tau)*theta(0, tau, 1)*exp(2*I*pi*u*xi)*theta(u, tau,1)/(theta(u, tau)**2*theta(eta + tau*xi, tau))+\n",
    " 2*I*pi*xi*theta(eta + tau*xi + u, tau)*theta(0, tau, 1)*exp(2*I*pi*u*xi)/(theta(u, tau)*theta(eta + tau*xi, tau))),\n",
    "   -Sum(Sum(exp(2*I*pi*(-m*xi + n*eta))/(u + m + n*tau)**2,(n,-N,N)),(m,-M,M)))"
   ]
  },
  {
   "cell_type": "code",
   "execution_count": 241,
   "id": "12fc6672-2825-4e45-8d1f-44ecb1298007",
   "metadata": {},
   "outputs": [
    {
     "data": {
      "text/latex": [
       "$\\displaystyle \\frac{\\partial}{\\partial u} \\operatorname{Ser}{\\left(\\xi,\\eta,u,\\tau \\right)} = 1.38332108621588 - 1.14741674471763 i$"
      ],
      "text/plain": [
       "Eq(Derivative(Ser(xi, eta, u, tau), u), 1.38332108621588 - 1.14741674471763*I)"
      ]
     },
     "execution_count": 241,
     "metadata": {},
     "output_type": "execute_result"
    },
    {
     "data": {
      "text/latex": [
       "$\\displaystyle \\frac{\\partial}{\\partial u} \\operatorname{Ser}{\\left(\\xi,\\eta,u,\\tau \\right)} = 1.38415855663739 - 1.1473988546033 i$"
      ],
      "text/plain": [
       "Eq(Derivative(Ser(xi, eta, u, tau), u), 1.38415855663739 - 1.1473988546033*I)"
      ]
     },
     "execution_count": 241,
     "metadata": {},
     "output_type": "execute_result"
    },
    {
     "data": {
      "text/latex": [
       "$\\displaystyle 0.000116498738477364$"
      ],
      "text/plain": [
       "0.000116498738477364"
      ]
     },
     "execution_count": 241,
     "metadata": {},
     "output_type": "execute_result"
    }
   ],
   "source": [
    "S_val_1_diff_u = Eq(Derivative(Seq_dbl_ktheta.lhs,u), theta_ratio_S_u_diff(xi_val, eta_val, u_val, tau_val))\n",
    "S_val_2_diff_u = Eq(Derivative(Seq_dbl_series.lhs,u), dbl_series_S(xi_val, eta_val, u_val, tau_val, M_val, N_val, _s=2))\n",
    "S_val_1_diff_u\n",
    "S_val_2_diff_u\n",
    "abs(S_val_1_diff_u.rhs - S_val_2_diff_u.rhs) / abs(S_val_1_diff_u.rhs + S_val_2_diff_u.rhs) / 2"
   ]
  },
  {
   "cell_type": "markdown",
   "id": "63cc5bad-7508-492f-bc3d-e871a019fe96",
   "metadata": {},
   "source": [
    "### Kronecker-Eisenstein Series\n",
    "Charollois and Sczech go on to introduce the following Kronecker-Eisenstein series (where lattice points that make the denominator zero should be ommitted). Where they sum over lattice points denoted $\\lambda$; I explicitly write those points as $n \\tau +m$, with $\\bar{\\lambda}=m+n\\bar{\\tau}$.\n",
    "\n",
    "Note: I think Charollois and Sczech have a typo in the start of section 3 in their definition of the following function, I think they meant to write $\\psi(\\lambda \\bar{w})$ instead of $\\psi(z \\bar{w})$ in the sum else the character could be factored out."
   ]
  },
  {
   "cell_type": "code",
   "execution_count": 92,
   "id": "3639e53b-eeb9-4f2d-b425-195d9afe4edd",
   "metadata": {},
   "outputs": [
    {
     "data": {
      "text/latex": [
       "$\\displaystyle \\operatorname{re}{\\left(s\\right)} > \\frac{a}{2} + 1$"
      ],
      "text/plain": [
       "re(s) > a/2 + 1"
      ]
     },
     "execution_count": 92,
     "metadata": {},
     "output_type": "execute_result"
    },
    {
     "data": {
      "text/latex": [
       "$\\displaystyle K{\\left(z,w,s,\\tau,a \\right)} = \\sum_{\\substack{- N \\leq n \\leq N\\\\- M \\leq m \\leq M}} \\left(m + n \\overline{\\tau} + \\overline{z}\\right)^{a} e^{\\frac{\\pi \\left(- w \\left(m + n \\overline{\\tau}\\right) + \\left(m + n \\tau\\right) \\overline{w}\\right)}{\\operatorname{im}{\\left(\\tau\\right)}}} \\left|{m + n \\tau + z}\\right|^{- 2 s}$"
      ],
      "text/plain": [
       "Eq(K(z, w, s, tau, a), Sum((m + n*conjugate(tau) + conjugate(z))**a*exp(pi*(-w*(m + n*conjugate(tau)) + (m + n*tau)*conjugate(w))/im(tau))/Abs(m + n*tau + z)**(2*s), (n, -N, N), (m, -M, M)))"
      ]
     },
     "execution_count": 92,
     "metadata": {},
     "output_type": "execute_result"
    }
   ],
   "source": [
    "Kr_Es_dbl_series_K = Eq(K(z,w,s,tau,a), \n",
    "   Sum(Sum(\n",
    "       (conjugate(z) + m + n * conjugate(tau)) ** a / \n",
    "       abs(z + m + n * tau) ** (2*s) \n",
    "       * exp(((m + n * tau)*conjugate(w) - (m + n * conjugate(tau))*w) * pi/im(tau))\n",
    "    ,(n,-N,N)),(m,-M,M))\n",
    "  )\n",
    "re(s)>a/2+1\n",
    "Kr_Es_dbl_series_K"
   ]
  },
  {
   "cell_type": "markdown",
   "id": "36821624-87ab-42e2-a474-70299b8d1228",
   "metadata": {},
   "source": [
    "They then link this back to the double series developed earlier, namely $\\mathrm{Ser}(\\xi, \\eta, u,\\tau )$, by considering the following special case:"
   ]
  },
  {
   "cell_type": "code",
   "execution_count": 93,
   "id": "f80bcf42-a3a5-4a2c-9955-6babd98a36dd",
   "metadata": {},
   "outputs": [
    {
     "data": {
      "text/latex": [
       "$\\displaystyle K{\\left(z,w,1,\\tau,1 \\right)} = \\sum_{\\substack{- N \\leq n \\leq N\\\\- M \\leq m \\leq M}} \\frac{\\left(m + n \\overline{\\tau} + \\overline{z}\\right) e^{\\frac{\\pi \\left(- w \\left(m + n \\overline{\\tau}\\right) + \\left(m + n \\tau\\right) \\overline{w}\\right)}{\\operatorname{im}{\\left(\\tau\\right)}}}}{\\left|{m + n \\tau + z}\\right|^{2}}$"
      ],
      "text/plain": [
       "Eq(K(z, w, 1, tau, 1), Sum((m + n*conjugate(tau) + conjugate(z))*exp(pi*(-w*(m + n*conjugate(tau)) + (m + n*tau)*conjugate(w))/im(tau))/Abs(m + n*tau + z)**2, (n, -N, N), (m, -M, M)))"
      ]
     },
     "execution_count": 93,
     "metadata": {},
     "output_type": "execute_result"
    },
    {
     "data": {
      "text/latex": [
       "$\\displaystyle K{\\left(z,w,\\tau \\right)} = K{\\left(z,w,1,\\tau,1 \\right)}$"
      ],
      "text/plain": [
       "Eq(K(z, w, tau), K(z, w, 1, tau, 1))"
      ]
     },
     "execution_count": 93,
     "metadata": {},
     "output_type": "execute_result"
    },
    {
     "data": {
      "text/latex": [
       "$\\displaystyle K{\\left(z,w,\\tau \\right)} = \\operatorname{Ser}{\\left(\\xi,\\eta,z,\\tau \\right)}$"
      ],
      "text/plain": [
       "Eq(K(z, w, tau), Ser(xi, eta, z, tau))"
      ]
     },
     "execution_count": 93,
     "metadata": {},
     "output_type": "execute_result"
    }
   ],
   "source": [
    "Kr_Es_dbl_series_K.subs([(a,1),(s,1)])\n",
    "Eq(K(z, w, tau), Kr_Es_dbl_series_K.lhs.subs([(a,1),(s,1)]))\n",
    "Eq(K(z, w, tau), Ser(xi, eta, z , tau))"
   ]
  },
  {
   "cell_type": "code",
   "execution_count": 94,
   "id": "28f4efa9-0134-4bfb-88c0-ba23003dabe5",
   "metadata": {},
   "outputs": [
    {
     "data": {
      "text/latex": [
       "$\\displaystyle K{\\left(z,w,\\tau \\right)} = \\sum_{\\substack{- N \\leq n \\leq N\\\\- M \\leq m \\leq M}} \\frac{e^{\\frac{\\pi \\left(- w \\left(m + n \\overline{\\tau}\\right) + \\left(m + n \\tau\\right) \\overline{w}\\right)}{\\operatorname{im}{\\left(\\tau\\right)}}}}{m + n \\tau + z}$"
      ],
      "text/plain": [
       "Eq(K(z, w, tau), Sum(exp(pi*(-w*(m + n*conjugate(tau)) + (m + n*tau)*conjugate(w))/im(tau))/(m + n*tau + z), (n, -N, N), (m, -M, M)))"
      ]
     },
     "execution_count": 94,
     "metadata": {},
     "output_type": "execute_result"
    }
   ],
   "source": [
    "Kr_Es_dbl_series_K_a1_s1 = Eq(\n",
    "    K(z, w, tau), \n",
    "    Sum(Sum(\n",
    "        exp(((m + n * tau)*conjugate(w) - (m + n * conjugate(tau))*w) * pi/im(tau)) / (z + m + n * tau) \n",
    "    ,(n,-N,N)),(m,-M,M))\n",
    ")\n",
    "Kr_Es_dbl_series_K_a1_s1"
   ]
  },
  {
   "cell_type": "markdown",
   "id": "3f4f283e-e537-4b00-affb-f6b905dda938",
   "metadata": {},
   "source": [
    "Where $z, w \\in \\mathbb{C} $ (but they say $z$ cannot be a lattice point), and where $w$ is related to $\\eta, \\xi, \\tau$ in the following way:"
   ]
  },
  {
   "cell_type": "code",
   "execution_count": 95,
   "id": "b5990b03-95a5-4635-8f44-a9c9cd70e43d",
   "metadata": {},
   "outputs": [
    {
     "data": {
      "text/latex": [
       "$\\displaystyle \\operatorname{im}{\\left(\\xi\\right)} = 0$"
      ],
      "text/plain": [
       "Eq(im(xi), 0)"
      ]
     },
     "execution_count": 95,
     "metadata": {},
     "output_type": "execute_result"
    },
    {
     "data": {
      "text/latex": [
       "$\\displaystyle \\operatorname{im}{\\left(\\eta\\right)} = 0$"
      ],
      "text/plain": [
       "Eq(im(eta), 0)"
      ]
     },
     "execution_count": 95,
     "metadata": {},
     "output_type": "execute_result"
    },
    {
     "data": {
      "text/latex": [
       "$\\displaystyle w = \\eta + \\tau \\xi$"
      ],
      "text/plain": [
       "Eq(w, eta + tau*xi)"
      ]
     },
     "execution_count": 95,
     "metadata": {},
     "output_type": "execute_result"
    },
    {
     "data": {
      "text/latex": [
       "$\\displaystyle \\overline{w} = \\eta + \\xi \\overline{\\tau}$"
      ],
      "text/plain": [
       "Eq(conjugate(w), eta + xi*conjugate(tau))"
      ]
     },
     "execution_count": 95,
     "metadata": {},
     "output_type": "execute_result"
    },
    {
     "data": {
      "text/latex": [
       "$\\displaystyle \\frac{\\pi \\left(- w \\left(m + n \\overline{\\tau}\\right) + \\left(m + n \\tau\\right) \\overline{w}\\right)}{\\operatorname{im}{\\left(\\tau\\right)}} = - 2 i \\pi \\left(- \\eta n + m \\xi\\right)$"
      ],
      "text/plain": [
       "Eq(pi*(-w*(m + n*conjugate(tau)) + (m + n*tau)*conjugate(w))/im(tau), -2*I*pi*(-eta*n + m*xi))"
      ]
     },
     "execution_count": 95,
     "metadata": {},
     "output_type": "execute_result"
    },
    {
     "data": {
      "text/latex": [
       "$\\displaystyle \\eta = \\frac{\\tau \\overline{w} - w \\overline{\\tau}}{\\tau - \\overline{\\tau}}$"
      ],
      "text/plain": [
       "Eq(eta, (tau*conjugate(w) - w*conjugate(tau))/(tau - conjugate(tau)))"
      ]
     },
     "execution_count": 95,
     "metadata": {},
     "output_type": "execute_result"
    },
    {
     "data": {
      "text/latex": [
       "$\\displaystyle \\xi = \\frac{w - \\overline{w}}{\\tau - \\overline{\\tau}}$"
      ],
      "text/plain": [
       "Eq(xi, (w - conjugate(w))/(tau - conjugate(tau)))"
      ]
     },
     "execution_count": 95,
     "metadata": {},
     "output_type": "execute_result"
    }
   ],
   "source": [
    "nm_character_arg_w_tau = (((m + n * tau)*conjugate(w) - (m + n * conjugate(tau))*w) * pi/im(tau))\n",
    "w_tau_eta_xi = Eq(w,eta+xi*tau)\n",
    "w_tau_eta_xi_conj = Eq(conjugate(w), eta +xi*conjugate(tau))\n",
    "nm_character_arg_w_tau_eta_xi = Eq(\n",
    "    nm_character_arg_w_tau,\n",
    "    nm_character_arg_w_tau\n",
    "    .subs([w_tau_eta_xi_conj.args, w_tau_eta_xi.args])\n",
    "    .subs([(tau, re(tau) + I *im(tau))])\n",
    "    .expand().factor()\n",
    ")\n",
    "eta_xi_sols_w_tau = solve([w_tau_eta_xi, w_tau_eta_xi_conj],[xi, eta])\n",
    "eta_tau_w = Eq(eta, eta_xi_sols_w_tau[eta].simplify())\n",
    "xi_tau_w = Eq(xi, eta_xi_sols_w_tau[xi].simplify())\n",
    "\n",
    "Eq(im(xi),0)\n",
    "Eq(im(eta),0)\n",
    "w_tau_eta_xi\n",
    "w_tau_eta_xi_conj\n",
    "nm_character_arg_w_tau_eta_xi\n",
    "eta_tau_w\n",
    "xi_tau_w"
   ]
  },
  {
   "cell_type": "markdown",
   "id": "f5d0f3b0-3c7e-4d44-840c-db75e64fa9ea",
   "metadata": {},
   "source": [
    "They then introduce a new function $\\Theta$ and it is this function that they refer to as the *Kronecker theta function*. It is deifned as:"
   ]
  },
  {
   "cell_type": "code",
   "execution_count": 96,
   "id": "a8520b92-2ca8-4a2d-953e-de01afeead87",
   "metadata": {},
   "outputs": [
    {
     "data": {
      "text/latex": [
       "$\\displaystyle \\Theta{\\left(z,w,\\tau \\right)} = K{\\left(z,w,\\tau \\right)} e^{- \\frac{\\pi z \\overline{w}}{\\operatorname{im}{\\left(\\tau\\right)}}}$"
      ],
      "text/plain": [
       "Eq(Theta(z, w, tau), K(z, w, tau)*exp(-pi*z*conjugate(w)/im(tau)))"
      ]
     },
     "execution_count": 96,
     "metadata": {},
     "output_type": "execute_result"
    },
    {
     "data": {
      "text/latex": [
       "$\\displaystyle \\Theta{\\left(z,w,\\tau \\right)} = e^{- \\frac{\\pi z \\overline{w}}{\\operatorname{im}{\\left(\\tau\\right)}}} \\sum_{\\substack{- N \\leq n \\leq N\\\\- M \\leq m \\leq M}} \\frac{e^{\\frac{\\pi \\left(- w \\left(m + n \\overline{\\tau}\\right) + \\left(m + n \\tau\\right) \\overline{w}\\right)}{\\operatorname{im}{\\left(\\tau\\right)}}}}{m + n \\tau + z}$"
      ],
      "text/plain": [
       "Eq(Theta(z, w, tau), exp(-pi*z*conjugate(w)/im(tau))*Sum(exp(pi*(-w*(m + n*conjugate(tau)) + (m + n*tau)*conjugate(w))/im(tau))/(m + n*tau + z), (n, -N, N), (m, -M, M)))"
      ]
     },
     "execution_count": 96,
     "metadata": {},
     "output_type": "execute_result"
    }
   ],
   "source": [
    "Eq(Theta(z, w, tau), K(z, w, tau)*exp(-z*conjugate(w)*pi/im(tau)))\n",
    "Eq(Theta(z, w, tau), exp(-z*conjugate(w)*pi/im(tau))*Sum(Sum(\n",
    "        exp(((m + n * tau)*conjugate(w) - (m + n * conjugate(tau))*w) * pi/im(tau)) / (z + m + n * tau) \n",
    "    ,(n,-N,N)),(m,-M,M)))"
   ]
  },
  {
   "cell_type": "code",
   "execution_count": 97,
   "id": "e1038e5b-4812-434b-837b-2b7d48a82c4e",
   "metadata": {},
   "outputs": [
    {
     "data": {
      "text/latex": [
       "$\\displaystyle \\operatorname{Ser}{\\left(\\xi,\\eta,z,\\tau \\right)} = \\frac{\\theta{\\left(w + z,\\tau \\right)} \\theta{\\left(0,\\tau,1 \\right)} e^{\\frac{\\pi z \\left(w - \\overline{w}\\right)}{\\operatorname{im}{\\left(\\tau\\right)}}}}{\\theta{\\left(w,\\tau \\right)} \\theta{\\left(z,\\tau \\right)}}$"
      ],
      "text/plain": [
       "Eq(Ser(xi, eta, z, tau), theta(w + z, tau)*theta(0, tau, 1)*exp(pi*z*(w - conjugate(w))/im(tau))/(theta(w, tau)*theta(z, tau)))"
      ]
     },
     "execution_count": 97,
     "metadata": {},
     "output_type": "execute_result"
    }
   ],
   "source": [
    "Eq(Seq_dbl_ktheta.lhs.subs(u,z), Seq_dbl_ktheta.rhs.subs([(u,z), (eta + tau*xi, w), xi_tau_w.subs(tau-conjugate(tau),2*I*im(tau)).args]))"
   ]
  },
  {
   "cell_type": "code",
   "execution_count": 98,
   "id": "971e72f6-e862-4227-b5c8-e31bcf1d9933",
   "metadata": {},
   "outputs": [
    {
     "data": {
      "text/latex": [
       "$\\displaystyle \\frac{\\theta{\\left(\\eta + \\tau \\xi + u,\\tau \\right)} \\theta{\\left(0,\\tau,1 \\right)} e^{2 i \\pi u \\xi}}{\\theta{\\left(u,\\tau \\right)} \\theta{\\left(\\eta + \\tau \\xi,\\tau \\right)}}$"
      ],
      "text/plain": [
       "theta(eta + tau*xi + u, tau)*theta(0, tau, 1)*exp(2*I*pi*u*xi)/(theta(u, tau)*theta(eta + tau*xi, tau))"
      ]
     },
     "execution_count": 98,
     "metadata": {},
     "output_type": "execute_result"
    }
   ],
   "source": [
    "exp(2*I*pi*xi*u)*theta(0,tau,1)*theta(u + eta + tau*xi, tau)/theta(u, tau)/theta(eta + tau*xi, tau)"
   ]
  },
  {
   "cell_type": "code",
   "execution_count": 99,
   "id": "4adc8823-5501-436e-b802-12805859f9a7",
   "metadata": {},
   "outputs": [],
   "source": [
    "eta_xi_sols_w_tau = solve([w_tau_eta_xi, w_tau_eta_xi_conj],[xi, eta])\n",
    "eta_tau_w = Eq(eta, eta_xi_sols_w_tau[eta].simplify())\n",
    "xi_tau_w = Eq(xi, eta_xi_sols_w_tau[xi].simplify())"
   ]
  },
  {
   "cell_type": "code",
   "execution_count": 101,
   "id": "a8ffb8a4-46fa-4409-ba28-8eb6c5b5841b",
   "metadata": {},
   "outputs": [],
   "source": [
    "kf1 = ktheta_dbl_series.subs([xi_tau_w.subs(tau-conjugate(tau),2*I*im(tau)).args, eta_tau_w.subs(tau-conjugate(tau),2*I*im(tau)).args])"
   ]
  },
  {
   "cell_type": "code",
   "execution_count": 109,
   "id": "b452376e-3086-49bf-bff0-6009c2898170",
   "metadata": {},
   "outputs": [
    {
     "data": {
      "text/latex": [
       "$\\displaystyle \\frac{\\theta{\\left(u + w,\\tau \\right)} \\theta{\\left(0,\\tau,1 \\right)}}{\\theta{\\left(u,\\tau \\right)} \\theta{\\left(w,\\tau \\right)}} = e^{- \\frac{\\pi u \\left(w - \\overline{w}\\right)}{\\operatorname{im}{\\left(\\tau\\right)}}} \\sum_{\\substack{- N \\leq n \\leq N\\\\- M \\leq m \\leq M}} \\frac{e^{2 i \\pi \\left(\\frac{i m \\left(w - \\overline{w}\\right)}{2 \\operatorname{im}{\\left(\\tau\\right)}} - \\frac{i n \\left(\\tau \\overline{w} - w \\overline{\\tau}\\right)}{2 \\operatorname{im}{\\left(\\tau\\right)}}\\right)}}{m + n \\tau + u}$"
      ],
      "text/plain": [
       "Eq(theta(u + w, tau)*theta(0, tau, 1)/(theta(u, tau)*theta(w, tau)), exp(-pi*u*(w - conjugate(w))/im(tau))*Sum(exp(2*I*pi*(I*m*(w - conjugate(w))/(2*im(tau)) - I*n*(tau*conjugate(w) - w*conjugate(tau))/(2*im(tau))))/(m + n*tau + u), (n, -N, N), (m, -M, M)))"
      ]
     },
     "execution_count": 109,
     "metadata": {},
     "output_type": "execute_result"
    }
   ],
   "source": [
    "Eq((kf1.lhs.subs(conjugate(tau), tau-2*I*im(tau)).simplify()*exp(-pi*u*(w-conjugate(w))/im(tau))).simplify(), \n",
    "   exp(-pi*u*(w-conjugate(w))/im(tau))*kf1.rhs)"
   ]
  },
  {
   "cell_type": "code",
   "execution_count": 90,
   "id": "22e2141e-0a61-4643-a77d-6e4950313617",
   "metadata": {},
   "outputs": [
    {
     "data": {
      "text/latex": [
       "$\\displaystyle e^{- \\frac{\\pi n w}{\\operatorname{im}{\\left(\\tau\\right)}}} e^{\\frac{\\pi n \\overline{w}}{\\operatorname{im}{\\left(\\tau\\right)}}} e^{\\frac{\\pi m \\tau \\overline{w}}{\\operatorname{im}{\\left(\\tau\\right)}}} e^{- \\frac{\\pi m w \\overline{\\tau}}{\\operatorname{im}{\\left(\\tau\\right)}}}$"
      ],
      "text/plain": [
       "exp(-pi*n*w/im(tau))*exp(pi*n*conjugate(w)/im(tau))*exp(pi*m*tau*conjugate(w)/im(tau))*exp(-pi*m*w*conjugate(tau)/im(tau))"
      ]
     },
     "execution_count": 90,
     "metadata": {},
     "output_type": "execute_result"
    }
   ],
   "source": [
    "exp(((n + m * tau)*conjugate(w) - (n + m * conjugate(tau))*w) * pi/im(tau)).expand()"
   ]
  },
  {
   "cell_type": "code",
   "execution_count": null,
   "id": "1b51221f-b518-4948-8767-c73adcb58e68",
   "metadata": {},
   "outputs": [],
   "source": []
  }
 ],
 "metadata": {
  "kernelspec": {
   "display_name": "Python 3 (ipykernel)",
   "language": "python",
   "name": "python3"
  },
  "language_info": {
   "codemirror_mode": {
    "name": "ipython",
    "version": 3
   },
   "file_extension": ".py",
   "mimetype": "text/x-python",
   "name": "python",
   "nbconvert_exporter": "python",
   "pygments_lexer": "ipython3",
   "version": "3.10.13"
  }
 },
 "nbformat": 4,
 "nbformat_minor": 5
}
