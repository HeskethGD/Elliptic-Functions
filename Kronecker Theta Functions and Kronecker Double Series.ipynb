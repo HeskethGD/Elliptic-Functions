{
 "cells": [
  {
   "cell_type": "markdown",
   "id": "61b444b7-6955-4267-b8e3-361e0f8dc607",
   "metadata": {},
   "source": [
    "# Kronecker Theta Functions and Kronecker Double Series\n",
    "\n",
    "This notebook aims to setup code for exploring Kronecker Theta Functions and Kronecker Double Series. The aims are to:\n",
    "\n",
    "- give defintitions of the Kronecker Theta function in terms of ratios of Jacobi Theta functions and Weierstrass Sigma functions.\n",
    "- numerically verify that the functions can be correctly plotted and tested.\n",
    "\n",
    "The motivation for setting this up will become apparent in other notebbooks which aim to:\n",
    "- explore the series expansions in some dynamic systems with known sigma function ratio solutions and see if they yield new insights.\n",
    "- ultimately demonstrate the importance of the Kronecker theta function in nonlinear coupled ordinary differential equations and associated applications.\n",
    "\n",
    "**Important References**\n",
    "\n",
    "The term *Kronecker theta function* for the ratio of Jacobi theta functions was first heard by me in 2023 when reading the 2016 publication \n",
    "[*Elliptic Functions According to Eisenstein and Kronecker: An Update*](https://webusers.imj-prg.fr/~pierre.charollois/Charollois-Sczech_EMS.pdf) by Pierre Charollois and Robert Sczech. They attribute the term to [*Algebraic theta functions and p-adic interpolation of Eisenstein-Kronecker numbers*](https://arxiv.org/abs/math/0610163) by Kenichi Bannai and Shinichi Kobayashi published in 2006. It was the 1976 Andre Weil book that rekindled modern interest in this area of Kronecker's work and inspired the Charollois and Sczech update, and teh Weil book is based on some notes of Kroneckers lectures written up by F. von Dalwigk in 1891 that expanded on work by Eisenstein. Those notes were digitised and made available in German [here](https://webusers.imj-prg.fr/~pierre.charollois/Kronecker.html). It is also worth mentioning that in [*KRONECKER THETA FUNCTION AND A DECOMPOSITION THEOREM FOR THETA FUNCTIONS I*](https://arxiv.org/pdf/2012.01670.pdf) published in 2020 by ZHI-GUO LIU it was shown that meromorphic functions that satisfy certain conditions re poles and functional identities also satisfy a decomposition theorem in terms of Kronecker theta functions. Finally, it is to be noted that part of the work in Charollois and Sczech follows the 2006 paper [*Algebraic theta functions and p-adic interpolation of Eisenstein-Kronecker numbers*](https://arxiv.org/pdf/math/0610163.pdf) by Kenichi Bannai, Shinichi Kobayashi.\n",
    "\n",
    "I was aware that the theta or sigma ratio could be expanded in a *Kronecker double series* and mentioned this in an appendix in the 2015 paper [*General complex envelope solutions of coupled-mode optics with quadratic or cubic nonlinearity*](https://arxiv.org/abs/1512.03092) and in that paper cited two sources for that claim one was *Elliptic Functions according to Eisenstein and Kronecker*, by Andre Weil, published in Springer-Verlag, 1972, and the other was *E. T. Whitaker and G. N. Watson, A Course of Modern Analysis, (Merchant Books, 1915)* (5th edition, excercise 20.34 p20.34 where it is attributed to Math. Trip. 1895). I mentioned the double series in the Appendix as I thought a Fourier series could prove useful in optics but never got round to exploring it. That said, the form of the double series mentioned in my Appendix is not the same as the one in Charollois and Sczech, and it is theirs that has once again peaked my interest as it is a pole expansion that could prove useful in physical interpretations and perhaps even be used as an ansatz to find new solutions to dynamic systems that have so far proved illusive. This work will begin my exploration of the Kronecker theta function as a double series pole expansion."
   ]
  },
  {
   "cell_type": "markdown",
   "id": "b478f123-9eea-4021-8a32-e24156e577e0",
   "metadata": {},
   "source": [
    "## Setting up the variables"
   ]
  },
  {
   "cell_type": "code",
   "execution_count": 90,
   "id": "7907db7f-ef05-48db-83ca-b9d57f56d17c",
   "metadata": {},
   "outputs": [],
   "source": [
    "from sympy import *\n",
    "(\n",
    "   xi, eta, u, tau, N, M, n, m, k, l, z, x, y, t, q, a, w, s, g2, g3, omega1, omega2, omega3, kappa, rho\n",
    ") = symbols(\n",
    "'''xi, eta, u, tau, N, M, n, m, k, l, z, x, y, t, q, a, w, s, g2, g3, omega1, omega2, omega3, kappa, rho'''\n",
    ")\n",
    "x1, x2, x3, x4, x5, x6 = symbols('x1, x2, x3, x4, x5, x6', real=True)\n",
    "Ser = Function('Ser')\n",
    "pw = Function('pw') # Weierstrass P function\n",
    "pwp = Function('pwp') # Derivative of Weierstrass P function\n",
    "zw = Function('zw') # Weierstrass Zeta function\n",
    "sigma = Function('sigma') # Weierstrass Sigma function\n",
    "eta = Function('eta') # Dedekind eta function (used in Kronecker second limit formula)\n",
    "f = Function('f')\n",
    "h = Function('h')\n",
    "K = Function('K')\n",
    "theta = Function('theta')\n",
    "Theta = Function('Theta')\n",
    "\n",
    "vartheta = IndexedBase('vartheta')\n",
    "from math import prod\n",
    "\n",
    "from IPython.core.interactiveshell import InteractiveShell\n",
    "InteractiveShell.ast_node_interactivity = 'all'"
   ]
  },
  {
   "cell_type": "code",
   "execution_count": 2,
   "id": "b8f93c6c-8430-422b-8d8f-e3480435a948",
   "metadata": {},
   "outputs": [],
   "source": [
    "from numpy import linspace, absolute, angle, square, real, imag, conj, array as arraynp, vectorize, concatenate\n",
    "import scipy.integrate\n",
    "import matplotlib.pyplot as plt\n",
    "\n",
    "# The package containing mpmath expressions for Weierstrass elliptic functions\n",
    "from numerical_evaluation.weierstrass_modified import Weierstrass\n",
    "we = Weierstrass()\n",
    "from mpmath import exp as mpexp\n",
    "from mpmath import jtheta, mpf\n",
    "def mpc_to_float(mpc_val):\n",
    "    return float(mpc_val.real) + float(mpc_val.imag)*1j\n",
    "\n",
    "# %load_ext autoreload\n",
    "# %autoreload 2"
   ]
  },
  {
   "cell_type": "markdown",
   "id": "f4e804a5-f803-4502-b5d7-734ac69d944d",
   "metadata": {},
   "source": [
    "## The Kronecker theta function as a double series"
   ]
  },
  {
   "cell_type": "markdown",
   "id": "dfbe0449-9336-4fbb-9def-17e4d7605cbb",
   "metadata": {},
   "source": [
    "### Kronecker double series definition\n",
    "Starting from equation $(5)$ in Charollois and Sczech (in the limit that $N,M$ go to $\\infty$). I am using $\\rho$ where they used the variable $\\eta$ because they later define the function $\\eta(\\tau)$ in the same function which confuses matters. In this notebook $\\eta(\\tau)$ denotes the Dedekind eta function."
   ]
  },
  {
   "cell_type": "code",
   "execution_count": 60,
   "id": "f1f346c9-e5af-4f8c-aa24-aaed492de9f8",
   "metadata": {},
   "outputs": [
    {
     "data": {
      "text/latex": [
       "$\\displaystyle \\operatorname{Ser}{\\left(\\xi,\\rho,u,\\tau \\right)} = \\sum_{\\substack{- N \\leq n \\leq N\\\\- M \\leq m \\leq M}} \\frac{e^{2 i \\pi \\left(- m \\xi + n \\rho\\right)}}{m + n \\tau + u}$"
      ],
      "text/plain": [
       "Eq(Ser(xi, rho, u, tau), Sum(exp(2*I*pi*(-m*xi + n*rho))/(m + n*tau + u), (n, -N, N), (m, -M, M)))"
      ]
     },
     "execution_count": 60,
     "metadata": {},
     "output_type": "execute_result"
    }
   ],
   "source": [
    "Seq_dbl_series = Eq(Ser(xi, rho, u, tau), Sum(Sum(exp(2*I*pi*(-m*xi + n*rho))/(u + m + n*tau),(n,-N,N)),(m,-M,M)))\n",
    "Seq_dbl_series"
   ]
  },
  {
   "cell_type": "markdown",
   "id": "fd9973f6-cebe-4813-8689-58b06717a310",
   "metadata": {},
   "source": [
    "### Jacobi theta function definition"
   ]
  },
  {
   "cell_type": "markdown",
   "id": "1a4521ec-d79a-487a-aa6e-cd5d3f6b2a9e",
   "metadata": {},
   "source": [
    "Here the Jacobi theta function is defned and it will be denoted using $\\theta$ as sympy is somewhat restricted by characters for functions (although vartheta works as a symbol). This theta function is intended to be the same Jacobi theta function used in Charollois and Sczech and it is commonly denoted $\\mathcal{theta}_1$ elsewhere, e.g. https://mathworld.wolfram.com/JacobiThetaFunctions.html. It will be defined using the same series and products used in Charollois and Sczech. Furthermore, checks are performed to also confirm that the value coming from the $\\mathrm{jtheta}(1,\\pi z,\\exp(i \\pi \\tau))$ function in the mpmath python package also agrees with the definition, which is important as that forms part of the numerical evaluation of Weierstrass elliptic functions used elsewhere."
   ]
  },
  {
   "cell_type": "code",
   "execution_count": 4,
   "id": "5c35fa2d-0e9a-45e3-8ef6-60dcac4928fe",
   "metadata": {},
   "outputs": [
    {
     "data": {
      "text/latex": [
       "$\\displaystyle \\theta{\\left(z,\\tau \\right)} = {\\vartheta}_{1}$"
      ],
      "text/plain": [
       "Eq(theta(z, tau), vartheta[1])"
      ]
     },
     "execution_count": 4,
     "metadata": {},
     "output_type": "execute_result"
    },
    {
     "data": {
      "text/latex": [
       "$\\displaystyle \\operatorname{im}{\\left(\\tau\\right)} > 0$"
      ],
      "text/plain": [
       "im(tau) > 0"
      ]
     },
     "execution_count": 4,
     "metadata": {},
     "output_type": "execute_result"
    },
    {
     "data": {
      "text/latex": [
       "$\\displaystyle q = e^{2 i \\pi \\tau}$"
      ],
      "text/plain": [
       "Eq(q, exp(2*I*pi*tau))"
      ]
     },
     "execution_count": 4,
     "metadata": {},
     "output_type": "execute_result"
    },
    {
     "data": {
      "text/latex": [
       "$\\displaystyle \\theta{\\left(z,\\tau \\right)} = \\sum_{n=- N}^{N} e^{2 i \\pi \\left(\\frac{\\tau \\left(n + \\frac{1}{2}\\right)^{2}}{2} + \\left(n + \\frac{1}{2}\\right) \\left(z - \\frac{1}{2}\\right)\\right)}$"
      ],
      "text/plain": [
       "Eq(theta(z, tau), Sum(exp(2*I*pi*(tau*(n + 1/2)**2/2 + (n + 1/2)*(z - 1/2))), (n, -N, N)))"
      ]
     },
     "execution_count": 4,
     "metadata": {},
     "output_type": "execute_result"
    },
    {
     "data": {
      "text/latex": [
       "$\\displaystyle \\theta{\\left(z,\\tau \\right)} = 2 e^{\\frac{i \\pi \\tau}{4}} \\sin{\\left(\\pi z \\right)} \\prod_{n=1}^{N} \\left(1 - q^{n}\\right) \\left(- q^{n} e^{- 2 i \\pi z} + 1\\right) \\left(- q^{n} e^{2 i \\pi z} + 1\\right)$"
      ],
      "text/plain": [
       "Eq(theta(z, tau), 2*exp(I*pi*tau/4)*sin(pi*z)*Product((1 - q**n)*(-q**n*exp(-2*I*pi*z) + 1)*(-q**n*exp(2*I*pi*z) + 1), (n, 1, N)))"
      ]
     },
     "execution_count": 4,
     "metadata": {},
     "output_type": "execute_result"
    }
   ],
   "source": [
    "Eq(theta(z,tau), vartheta[1])\n",
    "tau_domain = im(tau)>0\n",
    "q_tau = Eq(q, exp(2*I*pi*tau))\n",
    "theta_sum_def = Eq(theta(z,tau), Sum(exp(2*I*pi*((n + Rational(1,2))**2*tau/2 + (n + Rational(1,2))*(z - Rational(1,2)))),(n,-N,N)))\n",
    "theta_prod_def = Eq(theta(z,tau), 2*exp(I*pi*tau/4)*sin(pi*z)*Product((1-q**n)*(1-q**n*exp(2*I*pi*z))*(1-q**n*exp(-2*I*pi*z)),(n,1,N)))\n",
    "tau_domain\n",
    "q_tau\n",
    "theta_sum_def\n",
    "theta_prod_def"
   ]
  },
  {
   "cell_type": "code",
   "execution_count": 61,
   "id": "d56b7ef2-73fc-41a8-9b4d-9bc9e88f8540",
   "metadata": {},
   "outputs": [
    {
     "data": {
      "text/latex": [
       "$\\displaystyle \\theta{\\left(2.245,0.78 + 0.8 i \\right)} = 0.603776148725747 + 0.43055767622146 i$"
      ],
      "text/plain": [
       "Eq(theta(2.245, 0.78 + 0.8*I), 0.603776148725747 + 0.43055767622146*I)"
      ]
     },
     "execution_count": 61,
     "metadata": {},
     "output_type": "execute_result"
    },
    {
     "data": {
      "text/latex": [
       "$\\displaystyle \\theta{\\left(2.245,0.78 + 0.8 i \\right)} = 0.603776148725689 + 0.430557676221541 i$"
      ],
      "text/plain": [
       "Eq(theta(2.245, 0.78 + 0.8*I), 0.603776148725689 + 0.430557676221541*I)"
      ]
     },
     "execution_count": 61,
     "metadata": {},
     "output_type": "execute_result"
    },
    {
     "data": {
      "text/latex": [
       "$\\displaystyle \\theta{\\left(2.245,0.78 + 0.8 i \\right)} = 0.603776148725747 + 0.43055767622146 i$"
      ],
      "text/plain": [
       "Eq(theta(2.245, 0.78 + 0.8*I), 0.603776148725747 + 0.43055767622146*I)"
      ]
     },
     "execution_count": 61,
     "metadata": {},
     "output_type": "execute_result"
    }
   ],
   "source": [
    "N_val = 200\n",
    "z_val = 2.245\n",
    "tau_val = 0.78+I*0.8\n",
    "test_params = [(N,N_val),(z,z_val), (tau, tau_val)]\n",
    "Eq(theta_sum_def.lhs.subs(test_params), theta_sum_def.rhs.subs(test_params).doit().evalf())\n",
    "Eq(theta_prod_def.lhs.subs(test_params), theta_prod_def.rhs.subs(*q_tau.args).subs(test_params).doit().evalf())\n",
    "Eq(theta(z_val, tau_val), mpc_to_float(jtheta(1,(z_val*pi).evalf(), exp(I*pi*tau_val).evalf())))"
   ]
  },
  {
   "cell_type": "markdown",
   "id": "74902d44-192a-4077-b690-c22a84523fa7",
   "metadata": {},
   "source": [
    "#### Derivatives of the Jacobi theta functions\n",
    "The notation from mpmath python package to denote derivatives using a third paramter will be adopted here and the mpmath package will be used to evaluate them, that is:\n",
    "\n",
    "$\\theta(z,\\tau,k)=\\pi^k \\mathrm{jtheta}(1,\\pi z,\\exp(i \\pi \\tau),k)$\n",
    "\n",
    "and let:"
   ]
  },
  {
   "cell_type": "code",
   "execution_count": 6,
   "id": "7a1d70a6-638b-4ca1-a0c7-3339292c2ef9",
   "metadata": {},
   "outputs": [
    {
     "data": {
      "text/latex": [
       "$\\displaystyle \\theta{\\left(z,\\tau,k \\right)} = \\frac{\\partial^{k}}{\\partial z^{k}} \\theta{\\left(z,\\tau \\right)}$"
      ],
      "text/plain": [
       "Eq(theta(z, tau, k), Derivative(theta(z, tau), (z, k)))"
      ]
     },
     "execution_count": 6,
     "metadata": {},
     "output_type": "execute_result"
    }
   ],
   "source": [
    "theta_z_k_dif = Eq(theta(z,tau,k), Derivative(theta(z,tau),(z,k)))\n",
    "theta_z_k_dif"
   ]
  },
  {
   "cell_type": "markdown",
   "id": "6cfa3604-fc8a-4ea5-ac04-e3bf7fe82ba8",
   "metadata": {},
   "source": [
    "### Kronecker's theorem relating the Kronecker theta function to the Kronecker double series\n",
    "Kronecker's main result (which is Theorem 2.4 in Charollois and Sczech) is to express the ratio of Jacobi theta functions in terms of the double series as follows:"
   ]
  },
  {
   "cell_type": "code",
   "execution_count": 62,
   "id": "e5dbdce4-d310-47c7-9576-7d3a9ff7b1fc",
   "metadata": {},
   "outputs": [
    {
     "data": {
      "text/latex": [
       "$\\displaystyle \\operatorname{im}{\\left(u\\right)} > 0$"
      ],
      "text/plain": [
       "im(u) > 0"
      ]
     },
     "execution_count": 62,
     "metadata": {},
     "output_type": "execute_result"
    },
    {
     "data": {
      "text/latex": [
       "$\\displaystyle \\operatorname{im}{\\left(u\\right)} < \\operatorname{im}{\\left(\\tau\\right)}$"
      ],
      "text/plain": [
       "im(u) < im(tau)"
      ]
     },
     "execution_count": 62,
     "metadata": {},
     "output_type": "execute_result"
    },
    {
     "data": {
      "text/latex": [
       "$\\displaystyle \\xi > 0$"
      ],
      "text/plain": [
       "xi > 0"
      ]
     },
     "execution_count": 62,
     "metadata": {},
     "output_type": "execute_result"
    },
    {
     "data": {
      "text/latex": [
       "$\\displaystyle \\xi < 1$"
      ],
      "text/plain": [
       "xi < 1"
      ]
     },
     "execution_count": 62,
     "metadata": {},
     "output_type": "execute_result"
    },
    {
     "data": {
      "text/latex": [
       "$\\displaystyle \\operatorname{im}{\\left(\\xi\\right)} = 0$"
      ],
      "text/plain": [
       "Eq(im(xi), 0)"
      ]
     },
     "execution_count": 62,
     "metadata": {},
     "output_type": "execute_result"
    },
    {
     "data": {
      "text/latex": [
       "$\\displaystyle \\operatorname{im}{\\left(\\rho\\right)} = 0$"
      ],
      "text/plain": [
       "Eq(im(rho), 0)"
      ]
     },
     "execution_count": 62,
     "metadata": {},
     "output_type": "execute_result"
    }
   ],
   "source": [
    "0<im(u)\n",
    "im(u)<im(tau)\n",
    "0<xi\n",
    "xi<1\n",
    "Eq(im(xi),0)\n",
    "Eq(im(rho),0)"
   ]
  },
  {
   "cell_type": "code",
   "execution_count": 63,
   "id": "4db081be-06a5-4b6b-a196-93ec60fa5bdc",
   "metadata": {},
   "outputs": [
    {
     "data": {
      "text/latex": [
       "$\\displaystyle \\operatorname{Ser}{\\left(\\xi,\\rho,u,\\tau \\right)} = \\frac{\\theta{\\left(\\rho + \\tau \\xi + u,\\tau \\right)} \\theta{\\left(0,\\tau,1 \\right)} e^{2 i \\pi u \\xi}}{\\theta{\\left(u,\\tau \\right)} \\theta{\\left(\\rho + \\tau \\xi,\\tau \\right)}}$"
      ],
      "text/plain": [
       "Eq(Ser(xi, rho, u, tau), theta(rho + tau*xi + u, tau)*theta(0, tau, 1)*exp(2*I*pi*u*xi)/(theta(u, tau)*theta(rho + tau*xi, tau)))"
      ]
     },
     "execution_count": 63,
     "metadata": {},
     "output_type": "execute_result"
    }
   ],
   "source": [
    "Seq_dbl_ktheta = Eq(Ser(xi, rho, u, tau), exp(2*I*pi*xi*u)*theta(0,tau,1)*theta(u + rho + tau*xi, tau)/theta(u, tau)/theta(rho + tau*xi, tau))\n",
    "Seq_dbl_ktheta"
   ]
  },
  {
   "cell_type": "code",
   "execution_count": 64,
   "id": "fabb1cbd-2c6c-4ef6-8a05-382a409e10e5",
   "metadata": {},
   "outputs": [
    {
     "data": {
      "text/latex": [
       "$\\displaystyle \\frac{\\theta{\\left(\\rho + \\tau \\xi + u,\\tau \\right)} \\theta{\\left(0,\\tau,1 \\right)} e^{2 i \\pi u \\xi}}{\\theta{\\left(u,\\tau \\right)} \\theta{\\left(\\rho + \\tau \\xi,\\tau \\right)}} = \\sum_{\\substack{- N \\leq n \\leq N\\\\- M \\leq m \\leq M}} \\frac{e^{2 i \\pi \\left(- m \\xi + n \\rho\\right)}}{m + n \\tau + u}$"
      ],
      "text/plain": [
       "Eq(theta(rho + tau*xi + u, tau)*theta(0, tau, 1)*exp(2*I*pi*u*xi)/(theta(u, tau)*theta(rho + tau*xi, tau)), Sum(exp(2*I*pi*(-m*xi + n*rho))/(m + n*tau + u), (n, -N, N), (m, -M, M)))"
      ]
     },
     "execution_count": 64,
     "metadata": {},
     "output_type": "execute_result"
    }
   ],
   "source": [
    "ktheta_dbl_series = Seq_dbl_series.subs(*Seq_dbl_ktheta.args)\n",
    "ktheta_dbl_series"
   ]
  },
  {
   "cell_type": "code",
   "execution_count": 208,
   "id": "b64c1688",
   "metadata": {},
   "outputs": [
    {
     "data": {
      "text/plain": [
       "(theta(rho + tau*xi + u, tau)*theta(0, tau, 1)*exp(2*I*pi*u*xi)/(theta(u, tau)*theta(rho + tau*xi, tau)),\n",
       " Sum(exp(2*I*pi*(-m*xi + n*rho))/(m + n*tau + u), (n, -N, N), (m, -M, M)))"
      ]
     },
     "execution_count": 208,
     "metadata": {},
     "output_type": "execute_result"
    }
   ],
   "source": [
    "ktheta_dbl_series.args"
   ]
  },
  {
   "cell_type": "code",
   "execution_count": 69,
   "id": "3b69e8c0-fff1-4ea2-8582-970b077bbcf0",
   "metadata": {},
   "outputs": [],
   "source": [
    "rho_val = 3.78\n",
    "tau_val = 8.239765 + 2.3*I\n",
    "u_val = 4.34144 + 0.8*I\n",
    "xi_val = 0.435\n",
    "N_val = 100\n",
    "M_val = 100\n",
    "S_dbl_subs_rho_tau_u_xi = [(rho, rho_val), (tau, tau_val), (u, u_val), (xi, xi_val), (N, N_val), (M, M_val)]"
   ]
  },
  {
   "cell_type": "code",
   "execution_count": 70,
   "id": "565dbfea-eeee-4f23-85d2-5efe292febcd",
   "metadata": {},
   "outputs": [],
   "source": [
    "def theta_ratio_S(_xi, _rho, _u, _tau):\n",
    "    result = (\n",
    "        exp(2*I*pi*_u*_xi) * \n",
    "        jtheta(1,((_rho + _tau * _xi + _u) * pi).evalf(), exp(I*pi*_tau).evalf()) *\n",
    "        pi * jtheta(1, 0, exp(I*pi*_tau).evalf(), 1) /\n",
    "        (jtheta(1,(_u * pi).evalf(), exp(I*pi*_tau).evalf()) * jtheta(1,((_rho + _tau * _xi) * pi).evalf(), exp(I*pi*_tau).evalf()) )\n",
    "    ).evalf()\n",
    "    return result\n",
    "\n",
    "def theta_ratio_S_u_diff(_xi, _rho, _u, _tau):\n",
    "    result = (\n",
    "        2*I*pi**2*_xi*exp(2*I*pi*_u*_xi) * \n",
    "        jtheta(1,((_rho + _tau * _xi + _u) * pi).evalf(), exp(I*pi*_tau).evalf()) *\n",
    "        jtheta(1, 0, exp(I*pi*_tau).evalf(), 1) /\n",
    "        (jtheta(1,(_u * pi).evalf(), exp(I*pi*_tau).evalf()) * jtheta(1,((_rho + _tau * _xi) * pi).evalf(), exp(I*pi*_tau).evalf()) ) +\n",
    "\n",
    "        pi**2*exp(2*I*pi*_u*_xi) * jtheta(1, 0, exp(I*pi*_tau).evalf(), 1) * \n",
    "        jtheta(1,((_rho + _tau * _xi + _u) * pi).evalf(), exp(I*pi*_tau).evalf(), 1) /\n",
    "        (jtheta(1,(_u * pi).evalf(), exp(I*pi*_tau).evalf()) * jtheta(1,((_rho + _tau * _xi) * pi).evalf(), exp(I*pi*_tau).evalf()) ) -\n",
    "\n",
    "        pi**2*exp(2*I*pi*_u*_xi) * jtheta(1,((_rho + _tau * _xi + _u) * pi).evalf(), exp(I*pi*_tau).evalf()) *\n",
    "        jtheta(1, 0, exp(I*pi*_tau).evalf(), 1) * jtheta(1,(_u * pi).evalf(), exp(I*pi*_tau).evalf(), 1) /\n",
    "        (jtheta(1,(_u * pi).evalf(), exp(I*pi*_tau).evalf()) ** 2 * jtheta(1,((_rho + _tau * _xi) * pi).evalf(), exp(I*pi*_tau).evalf()) ) \n",
    "\n",
    "    ).evalf()\n",
    "    return result\n",
    "\n",
    "def dbl_series_S_summand(_xi, _rho, _u, _tau, _m, _n, _s):\n",
    "    return (\n",
    "        exp(2*I*pi*(- _m * _xi + _n * _rho))/(_u + _m + _n * _tau) ** _s\n",
    "    ).evalf()\n",
    "\n",
    "def dbl_series_S(_xi, _rho, _u, _tau, _M, _N, _s=1):\n",
    "    result = 0\n",
    "    for _m in range(-_M, _M + 1):\n",
    "        for _n in range(-_N, _N + 1):\n",
    "            result += (-1) ** (_s+1) * dbl_series_S_summand(_xi, _rho, _u, _tau, _m, _n, _s)\n",
    "    return result"
   ]
  },
  {
   "cell_type": "code",
   "execution_count": 71,
   "id": "a578fb3d-c484-44b0-a8d7-ab09af025c36",
   "metadata": {},
   "outputs": [
    {
     "data": {
      "text/latex": [
       "$\\displaystyle \\operatorname{Ser}{\\left(\\xi,\\rho,u,\\tau \\right)} = -0.463220020983809 - 0.567076331077644 i$"
      ],
      "text/plain": [
       "Eq(Ser(xi, rho, u, tau), -0.463220020983809 - 0.567076331077644*I)"
      ]
     },
     "execution_count": 71,
     "metadata": {},
     "output_type": "execute_result"
    },
    {
     "data": {
      "text/latex": [
       "$\\displaystyle \\operatorname{Ser}{\\left(\\xi,\\rho,u,\\tau \\right)} = -0.462091113701485 - 0.573383065191033 i$"
      ],
      "text/plain": [
       "Eq(Ser(xi, rho, u, tau), -0.462091113701485 - 0.573383065191033*I)"
      ]
     },
     "execution_count": 71,
     "metadata": {},
     "output_type": "execute_result"
    },
    {
     "data": {
      "text/latex": [
       "$\\displaystyle 0.00218128905779438$"
      ],
      "text/plain": [
       "0.00218128905779438"
      ]
     },
     "execution_count": 71,
     "metadata": {},
     "output_type": "execute_result"
    }
   ],
   "source": [
    "S_val_1 = Eq(Seq_dbl_ktheta.lhs, theta_ratio_S(xi_val, rho_val, u_val, tau_val))\n",
    "S_val_2 = Eq(Seq_dbl_series.lhs, dbl_series_S(xi_val, rho_val, u_val, tau_val, M_val, N_val))\n",
    "S_val_1\n",
    "S_val_2\n",
    "abs(S_val_1.rhs - S_val_2.rhs) / abs(S_val_1.rhs + S_val_2.rhs) / 2"
   ]
  },
  {
   "cell_type": "markdown",
   "id": "acd5735e-5482-4a41-a533-673ad39557d2",
   "metadata": {},
   "source": [
    "#### Checking the derivative also as it will converge faster"
   ]
  },
  {
   "cell_type": "code",
   "execution_count": 21,
   "id": "163c8259-37d5-479d-ba20-46e61e97f7e8",
   "metadata": {},
   "outputs": [
    {
     "data": {
      "text/latex": [
       "$\\displaystyle \\frac{\\partial}{\\partial u} \\frac{\\theta{\\left(\\eta + \\tau \\xi + u,\\tau \\right)} \\theta{\\left(0,\\tau,1 \\right)} e^{2 i \\pi u \\xi}}{\\theta{\\left(u,\\tau \\right)} \\theta{\\left(\\eta + \\tau \\xi,\\tau \\right)}} = \\frac{\\partial}{\\partial u} \\sum_{\\substack{- N \\leq n \\leq N\\\\- M \\leq m \\leq M}} \\frac{e^{2 i \\pi \\left(\\eta n - m \\xi\\right)}}{m + n \\tau + u}$"
      ],
      "text/plain": [
       "Eq(Derivative(theta(eta + tau*xi + u, tau)*theta(0, tau, 1)*exp(2*I*pi*u*xi)/(theta(u, tau)*theta(eta + tau*xi, tau)), u), Derivative(Sum(exp(2*I*pi*(eta*n - m*xi))/(m + n*tau + u), (n, -N, N), (m, -M, M)), u))"
      ]
     },
     "execution_count": 21,
     "metadata": {},
     "output_type": "execute_result"
    },
    {
     "data": {
      "text/latex": [
       "$\\displaystyle \\frac{2 i \\pi \\xi \\theta{\\left(\\eta + \\tau \\xi + u,\\tau \\right)} \\theta{\\left(0,\\tau,1 \\right)} e^{2 i \\pi u \\xi}}{\\theta{\\left(u,\\tau \\right)} \\theta{\\left(\\eta + \\tau \\xi,\\tau \\right)}} + \\frac{\\theta{\\left(0,\\tau,1 \\right)} e^{2 i \\pi u \\xi} \\left. \\frac{\\partial}{\\partial \\xi_{1}} \\theta{\\left(\\xi_{1},\\tau \\right)} \\right|_{\\substack{ \\xi_{1}=\\eta + \\tau \\xi + u }}}{\\theta{\\left(u,\\tau \\right)} \\theta{\\left(\\eta + \\tau \\xi,\\tau \\right)}} - \\frac{\\theta{\\left(\\eta + \\tau \\xi + u,\\tau \\right)} \\theta{\\left(0,\\tau,1 \\right)} e^{2 i \\pi u \\xi} \\frac{\\partial}{\\partial u} \\theta{\\left(u,\\tau \\right)}}{\\theta^{2}{\\left(u,\\tau \\right)} \\theta{\\left(\\eta + \\tau \\xi,\\tau \\right)}} = \\sum_{\\substack{- N \\leq n \\leq N\\\\- M \\leq m \\leq M}} - \\frac{e^{2 i \\pi \\left(\\eta n - m \\xi\\right)}}{\\left(m + n \\tau + u\\right)^{2}}$"
      ],
      "text/plain": [
       "Eq(2*I*pi*xi*theta(eta + tau*xi + u, tau)*theta(0, tau, 1)*exp(2*I*pi*u*xi)/(theta(u, tau)*theta(eta + tau*xi, tau)) + theta(0, tau, 1)*exp(2*I*pi*u*xi)*Subs(Derivative(theta(_xi_1, tau), _xi_1), _xi_1, eta + tau*xi + u)/(theta(u, tau)*theta(eta + tau*xi, tau)) - theta(eta + tau*xi + u, tau)*theta(0, tau, 1)*exp(2*I*pi*u*xi)*Derivative(theta(u, tau), u)/(theta(u, tau)**2*theta(eta + tau*xi, tau)), Sum(-exp(2*I*pi*(eta*n - m*xi))/(m + n*tau + u)**2, (n, -N, N), (m, -M, M)))"
      ]
     },
     "execution_count": 21,
     "metadata": {},
     "output_type": "execute_result"
    }
   ],
   "source": [
    "Eq(Derivative(ktheta_dbl_series.lhs,u), Derivative(ktheta_dbl_series.rhs,u))\n",
    "Eq(diff(ktheta_dbl_series.lhs,u), diff(ktheta_dbl_series.rhs,u))"
   ]
  },
  {
   "cell_type": "code",
   "execution_count": 72,
   "id": "07401068-51fe-49ec-b879-e3c5cb00ef66",
   "metadata": {},
   "outputs": [
    {
     "data": {
      "text/latex": [
       "$\\displaystyle \\frac{2 i \\pi \\xi \\theta{\\left(\\rho + \\tau \\xi + u,\\tau \\right)} \\theta{\\left(0,\\tau,1 \\right)} e^{2 i \\pi u \\xi}}{\\theta{\\left(u,\\tau \\right)} \\theta{\\left(\\rho + \\tau \\xi,\\tau \\right)}} + \\frac{\\theta{\\left(0,\\tau,1 \\right)} \\theta{\\left(\\rho + \\tau \\xi + u,\\tau,1 \\right)} e^{2 i \\pi u \\xi}}{\\theta{\\left(u,\\tau \\right)} \\theta{\\left(\\rho + \\tau \\xi,\\tau \\right)}} - \\frac{\\theta{\\left(\\rho + \\tau \\xi + u,\\tau \\right)} \\theta{\\left(0,\\tau,1 \\right)} \\theta{\\left(u,\\tau,1 \\right)} e^{2 i \\pi u \\xi}}{\\theta^{2}{\\left(u,\\tau \\right)} \\theta{\\left(\\rho + \\tau \\xi,\\tau \\right)}} = - \\sum_{\\substack{- N \\leq n \\leq N\\\\- M \\leq m \\leq M}} \\frac{e^{2 i \\pi \\left(- m \\xi + n \\rho\\right)}}{\\left(m + n \\tau + u\\right)^{2}}$"
      ],
      "text/plain": [
       "Eq(2*I*pi*xi*theta(rho + tau*xi + u, tau)*theta(0, tau, 1)*exp(2*I*pi*u*xi)/(theta(u, tau)*theta(rho + tau*xi, tau)) + theta(0, tau, 1)*theta(rho + tau*xi + u, tau, 1)*exp(2*I*pi*u*xi)/(theta(u, tau)*theta(rho + tau*xi, tau)) - theta(rho + tau*xi + u, tau)*theta(0, tau, 1)*theta(u, tau, 1)*exp(2*I*pi*u*xi)/(theta(u, tau)**2*theta(rho + tau*xi, tau)), -Sum(exp(2*I*pi*(-m*xi + n*rho))/(m + n*tau + u)**2, (n, -N, N), (m, -M, M)))"
      ]
     },
     "execution_count": 72,
     "metadata": {},
     "output_type": "execute_result"
    }
   ],
   "source": [
    "Eq((theta(0, tau, 1)*exp(2*I*pi*u*xi)*theta(rho + tau*xi + u, tau, 1)/(theta(u, tau)*theta(rho + tau*xi, tau))\n",
    " -theta(rho + tau*xi + u, tau)*theta(0, tau, 1)*exp(2*I*pi*u*xi)*theta(u, tau,1)/(theta(u, tau)**2*theta(rho + tau*xi, tau))+\n",
    " 2*I*pi*xi*theta(rho + tau*xi + u, tau)*theta(0, tau, 1)*exp(2*I*pi*u*xi)/(theta(u, tau)*theta(rho + tau*xi, tau))),\n",
    "   -Sum(Sum(exp(2*I*pi*(-m*xi + n*rho))/(u + m + n*tau)**2,(n,-N,N)),(m,-M,M)))"
   ]
  },
  {
   "cell_type": "code",
   "execution_count": 73,
   "id": "12fc6672-2825-4e45-8d1f-44ecb1298007",
   "metadata": {},
   "outputs": [
    {
     "data": {
      "text/latex": [
       "$\\displaystyle \\frac{\\partial}{\\partial u} \\operatorname{Ser}{\\left(\\xi,\\rho,u,\\tau \\right)} = 1.38332108621588 - 1.14741674471763 i$"
      ],
      "text/plain": [
       "Eq(Derivative(Ser(xi, rho, u, tau), u), 1.38332108621588 - 1.14741674471763*I)"
      ]
     },
     "execution_count": 73,
     "metadata": {},
     "output_type": "execute_result"
    },
    {
     "data": {
      "text/latex": [
       "$\\displaystyle \\frac{\\partial}{\\partial u} \\operatorname{Ser}{\\left(\\xi,\\rho,u,\\tau \\right)} = 1.38415855663739 - 1.1473988546033 i$"
      ],
      "text/plain": [
       "Eq(Derivative(Ser(xi, rho, u, tau), u), 1.38415855663739 - 1.1473988546033*I)"
      ]
     },
     "execution_count": 73,
     "metadata": {},
     "output_type": "execute_result"
    },
    {
     "data": {
      "text/latex": [
       "$\\displaystyle 0.000116498738477364$"
      ],
      "text/plain": [
       "0.000116498738477364"
      ]
     },
     "execution_count": 73,
     "metadata": {},
     "output_type": "execute_result"
    }
   ],
   "source": [
    "S_val_1_diff_u = Eq(Derivative(Seq_dbl_ktheta.lhs,u), \n",
    "                    theta_ratio_S_u_diff(xi_val, rho_val, u_val, tau_val))\n",
    "S_val_2_diff_u = Eq(Derivative(Seq_dbl_series.lhs,u), \n",
    "                    dbl_series_S(xi_val, rho_val, u_val, tau_val, M_val, N_val, _s=2))\n",
    "S_val_1_diff_u\n",
    "S_val_2_diff_u\n",
    "abs(S_val_1_diff_u.rhs - S_val_2_diff_u.rhs) / abs(S_val_1_diff_u.rhs + S_val_2_diff_u.rhs) / 2"
   ]
  },
  {
   "cell_type": "markdown",
   "id": "63cc5bad-7508-492f-bc3d-e871a019fe96",
   "metadata": {},
   "source": [
    "### Kronecker-Eisenstein Series\n",
    "Charollois and Sczech go on to introduce the following Kronecker-Eisenstein series (where lattice points that make the denominator zero should be ommitted). Where they sum over lattice points denoted $\\lambda$; I explicitly write those points as $n \\tau +m$, with $\\bar{\\lambda}=m+n\\bar{\\tau}$.\n",
    "\n",
    "Note: I think Charollois and Sczech have a typo in the start of section 3 in their definition of the following function, I think they meant to write $\\psi(\\lambda \\bar{w})$ instead of $\\psi(z \\bar{w})$ in the sum else the character could be factored out."
   ]
  },
  {
   "cell_type": "code",
   "execution_count": 24,
   "id": "3639e53b-eeb9-4f2d-b425-195d9afe4edd",
   "metadata": {},
   "outputs": [
    {
     "data": {
      "text/latex": [
       "$\\displaystyle \\operatorname{re}{\\left(s\\right)} > \\frac{a}{2} + 1$"
      ],
      "text/plain": [
       "re(s) > a/2 + 1"
      ]
     },
     "execution_count": 24,
     "metadata": {},
     "output_type": "execute_result"
    },
    {
     "data": {
      "text/latex": [
       "$\\displaystyle K{\\left(z,w,s,\\tau,a \\right)} = \\sum_{\\substack{- N \\leq n \\leq N\\\\- M \\leq m \\leq M}} \\left(m + n \\overline{\\tau} + \\overline{z}\\right)^{a} e^{\\frac{\\pi \\left(- w \\left(m + n \\overline{\\tau}\\right) + \\left(m + n \\tau\\right) \\overline{w}\\right)}{\\operatorname{im}{\\left(\\tau\\right)}}} \\left|{m + n \\tau + z}\\right|^{- 2 s}$"
      ],
      "text/plain": [
       "Eq(K(z, w, s, tau, a), Sum((m + n*conjugate(tau) + conjugate(z))**a*exp(pi*(-w*(m + n*conjugate(tau)) + (m + n*tau)*conjugate(w))/im(tau))/Abs(m + n*tau + z)**(2*s), (n, -N, N), (m, -M, M)))"
      ]
     },
     "execution_count": 24,
     "metadata": {},
     "output_type": "execute_result"
    }
   ],
   "source": [
    "Kr_Es_dbl_series_K = Eq(K(z,w,s,tau,a), \n",
    "   Sum(Sum(\n",
    "       (conjugate(z) + m + n * conjugate(tau)) ** a / \n",
    "       abs(z + m + n * tau) ** (2*s) \n",
    "       * exp(((m + n * tau)*conjugate(w) - (m + n * conjugate(tau))*w) * pi/im(tau))\n",
    "    ,(n,-N,N)),(m,-M,M))\n",
    "  )\n",
    "re(s)>a/2+1\n",
    "Kr_Es_dbl_series_K"
   ]
  },
  {
   "cell_type": "markdown",
   "id": "36821624-87ab-42e2-a474-70299b8d1228",
   "metadata": {},
   "source": [
    "They then link this back to the double series developed earlier, namely $\\mathrm{Ser}(\\xi, \\eta, u,\\tau )$, by considering the following special case:"
   ]
  },
  {
   "cell_type": "code",
   "execution_count": 25,
   "id": "f80bcf42-a3a5-4a2c-9955-6babd98a36dd",
   "metadata": {},
   "outputs": [
    {
     "data": {
      "text/latex": [
       "$\\displaystyle K{\\left(z,w,1,\\tau,1 \\right)} = \\sum_{\\substack{- N \\leq n \\leq N\\\\- M \\leq m \\leq M}} \\frac{\\left(m + n \\overline{\\tau} + \\overline{z}\\right) e^{\\frac{\\pi \\left(- w \\left(m + n \\overline{\\tau}\\right) + \\left(m + n \\tau\\right) \\overline{w}\\right)}{\\operatorname{im}{\\left(\\tau\\right)}}}}{\\left|{m + n \\tau + z}\\right|^{2}}$"
      ],
      "text/plain": [
       "Eq(K(z, w, 1, tau, 1), Sum((m + n*conjugate(tau) + conjugate(z))*exp(pi*(-w*(m + n*conjugate(tau)) + (m + n*tau)*conjugate(w))/im(tau))/Abs(m + n*tau + z)**2, (n, -N, N), (m, -M, M)))"
      ]
     },
     "execution_count": 25,
     "metadata": {},
     "output_type": "execute_result"
    },
    {
     "data": {
      "text/latex": [
       "$\\displaystyle K{\\left(z,w,\\tau \\right)} = K{\\left(z,w,1,\\tau,1 \\right)}$"
      ],
      "text/plain": [
       "Eq(K(z, w, tau), K(z, w, 1, tau, 1))"
      ]
     },
     "execution_count": 25,
     "metadata": {},
     "output_type": "execute_result"
    },
    {
     "data": {
      "text/latex": [
       "$\\displaystyle K{\\left(z,w,\\tau \\right)} = \\operatorname{Ser}{\\left(\\xi,\\eta,z,\\tau \\right)}$"
      ],
      "text/plain": [
       "Eq(K(z, w, tau), Ser(xi, eta, z, tau))"
      ]
     },
     "execution_count": 25,
     "metadata": {},
     "output_type": "execute_result"
    }
   ],
   "source": [
    "Kr_Es_dbl_series_K.subs([(a,1),(s,1)])\n",
    "Eq(K(z, w, tau), Kr_Es_dbl_series_K.lhs.subs([(a,1),(s,1)]))\n",
    "Eq(K(z, w, tau), Ser(xi, eta, z , tau))"
   ]
  },
  {
   "cell_type": "code",
   "execution_count": 26,
   "id": "28f4efa9-0134-4bfb-88c0-ba23003dabe5",
   "metadata": {},
   "outputs": [
    {
     "data": {
      "text/latex": [
       "$\\displaystyle K{\\left(z,w,\\tau \\right)} = \\sum_{\\substack{- N \\leq n \\leq N\\\\- M \\leq m \\leq M}} \\frac{e^{\\frac{\\pi \\left(- w \\left(m + n \\overline{\\tau}\\right) + \\left(m + n \\tau\\right) \\overline{w}\\right)}{\\operatorname{im}{\\left(\\tau\\right)}}}}{m + n \\tau + z}$"
      ],
      "text/plain": [
       "Eq(K(z, w, tau), Sum(exp(pi*(-w*(m + n*conjugate(tau)) + (m + n*tau)*conjugate(w))/im(tau))/(m + n*tau + z), (n, -N, N), (m, -M, M)))"
      ]
     },
     "execution_count": 26,
     "metadata": {},
     "output_type": "execute_result"
    }
   ],
   "source": [
    "Kr_Es_dbl_series_K_a1_s1 = Eq(\n",
    "    K(z, w, tau), \n",
    "    Sum(Sum(\n",
    "        exp(((m + n * tau)*conjugate(w) - (m + n * conjugate(tau))*w) * pi/im(tau)) / (z + m + n * tau) \n",
    "    ,(n,-N,N)),(m,-M,M))\n",
    ")\n",
    "Kr_Es_dbl_series_K_a1_s1"
   ]
  },
  {
   "cell_type": "markdown",
   "id": "3f4f283e-e537-4b00-affb-f6b905dda938",
   "metadata": {},
   "source": [
    "Where $z, w \\in \\mathbb{C} $ (but they say $z$ cannot be a lattice point), and where $w$ is related to $\\rho, \\xi, \\tau$ in the following way:"
   ]
  },
  {
   "cell_type": "code",
   "execution_count": 74,
   "id": "b5990b03-95a5-4635-8f44-a9c9cd70e43d",
   "metadata": {},
   "outputs": [
    {
     "data": {
      "text/latex": [
       "$\\displaystyle \\operatorname{im}{\\left(\\xi\\right)} = 0$"
      ],
      "text/plain": [
       "Eq(im(xi), 0)"
      ]
     },
     "execution_count": 74,
     "metadata": {},
     "output_type": "execute_result"
    },
    {
     "data": {
      "text/latex": [
       "$\\displaystyle \\operatorname{im}{\\left(\\rho\\right)} = 0$"
      ],
      "text/plain": [
       "Eq(im(rho), 0)"
      ]
     },
     "execution_count": 74,
     "metadata": {},
     "output_type": "execute_result"
    },
    {
     "data": {
      "text/latex": [
       "$\\displaystyle w = \\rho + \\tau \\xi$"
      ],
      "text/plain": [
       "Eq(w, rho + tau*xi)"
      ]
     },
     "execution_count": 74,
     "metadata": {},
     "output_type": "execute_result"
    },
    {
     "data": {
      "text/latex": [
       "$\\displaystyle \\overline{w} = \\rho + \\xi \\overline{\\tau}$"
      ],
      "text/plain": [
       "Eq(conjugate(w), rho + xi*conjugate(tau))"
      ]
     },
     "execution_count": 74,
     "metadata": {},
     "output_type": "execute_result"
    },
    {
     "data": {
      "text/latex": [
       "$\\displaystyle \\frac{\\pi \\left(- w \\left(m + n \\overline{\\tau}\\right) + \\left(m + n \\tau\\right) \\overline{w}\\right)}{\\operatorname{im}{\\left(\\tau\\right)}} = - 2 i \\pi \\left(m \\xi - n \\rho\\right)$"
      ],
      "text/plain": [
       "Eq(pi*(-w*(m + n*conjugate(tau)) + (m + n*tau)*conjugate(w))/im(tau), -2*I*pi*(m*xi - n*rho))"
      ]
     },
     "execution_count": 74,
     "metadata": {},
     "output_type": "execute_result"
    },
    {
     "data": {
      "text/latex": [
       "$\\displaystyle \\rho = \\frac{\\tau \\overline{w} - w \\overline{\\tau}}{\\tau - \\overline{\\tau}}$"
      ],
      "text/plain": [
       "Eq(rho, (tau*conjugate(w) - w*conjugate(tau))/(tau - conjugate(tau)))"
      ]
     },
     "execution_count": 74,
     "metadata": {},
     "output_type": "execute_result"
    },
    {
     "data": {
      "text/latex": [
       "$\\displaystyle \\xi = \\frac{w - \\overline{w}}{\\tau - \\overline{\\tau}}$"
      ],
      "text/plain": [
       "Eq(xi, (w - conjugate(w))/(tau - conjugate(tau)))"
      ]
     },
     "execution_count": 74,
     "metadata": {},
     "output_type": "execute_result"
    }
   ],
   "source": [
    "nm_character_arg_w_tau = (((m + n * tau)*conjugate(w) - (m + n * conjugate(tau))*w) * pi/im(tau))\n",
    "w_tau_rho_xi = Eq(w,rho+xi*tau)\n",
    "w_tau_rho_xi_conj = Eq(conjugate(w), rho +xi*conjugate(tau))\n",
    "nm_character_arg_w_tau_rho_xi = Eq(\n",
    "    nm_character_arg_w_tau,\n",
    "    nm_character_arg_w_tau\n",
    "    .subs([w_tau_rho_xi_conj.args, w_tau_rho_xi.args])\n",
    "    .subs([(tau, re(tau) + I *im(tau))])\n",
    "    .expand().factor()\n",
    ")\n",
    "rho_xi_sols_w_tau = solve([w_tau_rho_xi, w_tau_rho_xi_conj],[xi, rho])\n",
    "rho_tau_w = Eq(rho, rho_xi_sols_w_tau[rho].simplify())\n",
    "xi_tau_w = Eq(xi, rho_xi_sols_w_tau[xi].simplify())\n",
    "\n",
    "Eq(im(xi),0)\n",
    "Eq(im(rho),0)\n",
    "w_tau_rho_xi\n",
    "w_tau_rho_xi_conj\n",
    "nm_character_arg_w_tau_rho_xi\n",
    "rho_tau_w\n",
    "xi_tau_w"
   ]
  },
  {
   "cell_type": "markdown",
   "id": "f5d0f3b0-3c7e-4d44-840c-db75e64fa9ea",
   "metadata": {},
   "source": [
    "They then introduce a new function $\\Theta$ and it is this function that they refer to as the *Kronecker theta function*. It is deifned as:"
   ]
  },
  {
   "cell_type": "code",
   "execution_count": 75,
   "id": "a8520b92-2ca8-4a2d-953e-de01afeead87",
   "metadata": {},
   "outputs": [
    {
     "data": {
      "text/latex": [
       "$\\displaystyle \\Theta{\\left(z,w,\\tau \\right)} = K{\\left(z,w,\\tau \\right)} e^{- \\frac{\\pi z \\overline{w}}{\\operatorname{im}{\\left(\\tau\\right)}}}$"
      ],
      "text/plain": [
       "Eq(Theta(z, w, tau), K(z, w, tau)*exp(-pi*z*conjugate(w)/im(tau)))"
      ]
     },
     "execution_count": 75,
     "metadata": {},
     "output_type": "execute_result"
    },
    {
     "data": {
      "text/latex": [
       "$\\displaystyle \\Theta{\\left(z,w,\\tau \\right)} = e^{- \\frac{\\pi z \\overline{w}}{\\operatorname{im}{\\left(\\tau\\right)}}} \\sum_{\\substack{- N \\leq n \\leq N\\\\- M \\leq m \\leq M}} \\frac{e^{\\frac{\\pi \\left(- w \\left(m + n \\overline{\\tau}\\right) + \\left(m + n \\tau\\right) \\overline{w}\\right)}{\\operatorname{im}{\\left(\\tau\\right)}}}}{m + n \\tau + z}$"
      ],
      "text/plain": [
       "Eq(Theta(z, w, tau), exp(-pi*z*conjugate(w)/im(tau))*Sum(exp(pi*(-w*(m + n*conjugate(tau)) + (m + n*tau)*conjugate(w))/im(tau))/(m + n*tau + z), (n, -N, N), (m, -M, M)))"
      ]
     },
     "execution_count": 75,
     "metadata": {},
     "output_type": "execute_result"
    }
   ],
   "source": [
    "Eq(Theta(z, w, tau), K(z, w, tau)*exp(-z*conjugate(w)*pi/im(tau)))\n",
    "Eq(Theta(z, w, tau), exp(-z*conjugate(w)*pi/im(tau))*Sum(Sum(\n",
    "        exp(((m + n * tau)*conjugate(w) - (m + n * conjugate(tau))*w) * pi/im(tau)) / (z + m + n * tau) \n",
    "    ,(n,-N,N)),(m,-M,M)))"
   ]
  },
  {
   "cell_type": "code",
   "execution_count": 76,
   "id": "e1038e5b-4812-434b-837b-2b7d48a82c4e",
   "metadata": {},
   "outputs": [
    {
     "data": {
      "text/latex": [
       "$\\displaystyle \\operatorname{Ser}{\\left(\\xi,\\rho,z,\\tau \\right)} = \\frac{\\theta{\\left(w + z,\\tau \\right)} \\theta{\\left(0,\\tau,1 \\right)} e^{\\frac{\\pi z \\left(w - \\overline{w}\\right)}{\\operatorname{im}{\\left(\\tau\\right)}}}}{\\theta{\\left(w,\\tau \\right)} \\theta{\\left(z,\\tau \\right)}}$"
      ],
      "text/plain": [
       "Eq(Ser(xi, rho, z, tau), theta(w + z, tau)*theta(0, tau, 1)*exp(pi*z*(w - conjugate(w))/im(tau))/(theta(w, tau)*theta(z, tau)))"
      ]
     },
     "execution_count": 76,
     "metadata": {},
     "output_type": "execute_result"
    }
   ],
   "source": [
    "Eq(Seq_dbl_ktheta.lhs.subs(u,z), \n",
    "   Seq_dbl_ktheta.rhs.subs([(u,z), (rho + tau*xi, w), xi_tau_w.subs(tau-conjugate(tau),2*I*im(tau)).args]))"
   ]
  },
  {
   "cell_type": "code",
   "execution_count": 77,
   "id": "4adc8823-5501-436e-b802-12805859f9a7",
   "metadata": {},
   "outputs": [],
   "source": [
    "rho_xi_sols_w_tau = solve([w_tau_rho_xi, w_tau_rho_xi_conj],[xi, rho])\n",
    "rho_tau_w = Eq(rho, rho_xi_sols_w_tau[rho].simplify())\n",
    "xi_tau_w = Eq(xi, rho_xi_sols_w_tau[xi].simplify())"
   ]
  },
  {
   "cell_type": "code",
   "execution_count": 78,
   "id": "a8ffb8a4-46fa-4409-ba28-8eb6c5b5841b",
   "metadata": {},
   "outputs": [],
   "source": [
    "kf1 = ktheta_dbl_series.subs([\n",
    "    xi_tau_w.subs(tau-conjugate(tau),2*I*im(tau)).args, rho_tau_w.subs(tau-conjugate(tau),2*I*im(tau)).args\n",
    "])"
   ]
  },
  {
   "cell_type": "code",
   "execution_count": 79,
   "id": "b452376e-3086-49bf-bff0-6009c2898170",
   "metadata": {},
   "outputs": [
    {
     "data": {
      "text/latex": [
       "$\\displaystyle \\frac{\\theta{\\left(u + w,\\tau \\right)} \\theta{\\left(0,\\tau,1 \\right)}}{\\theta{\\left(u,\\tau \\right)} \\theta{\\left(w,\\tau \\right)}} = e^{- \\frac{\\pi u \\left(w - \\overline{w}\\right)}{\\operatorname{im}{\\left(\\tau\\right)}}} \\sum_{\\substack{- N \\leq n \\leq N\\\\- M \\leq m \\leq M}} \\frac{e^{2 i \\pi \\left(\\frac{i m \\left(w - \\overline{w}\\right)}{2 \\operatorname{im}{\\left(\\tau\\right)}} - \\frac{i n \\left(\\tau \\overline{w} - w \\overline{\\tau}\\right)}{2 \\operatorname{im}{\\left(\\tau\\right)}}\\right)}}{m + n \\tau + u}$"
      ],
      "text/plain": [
       "Eq(theta(u + w, tau)*theta(0, tau, 1)/(theta(u, tau)*theta(w, tau)), exp(-pi*u*(w - conjugate(w))/im(tau))*Sum(exp(2*I*pi*(I*m*(w - conjugate(w))/(2*im(tau)) - I*n*(tau*conjugate(w) - w*conjugate(tau))/(2*im(tau))))/(m + n*tau + u), (n, -N, N), (m, -M, M)))"
      ]
     },
     "execution_count": 79,
     "metadata": {},
     "output_type": "execute_result"
    }
   ],
   "source": [
    "Eq((kf1.lhs.subs(conjugate(tau), tau-2*I*im(tau)).simplify()*exp(-pi*u*(w-conjugate(w))/im(tau))).simplify(), \n",
    "   exp(-pi*u*(w-conjugate(w))/im(tau))*kf1.rhs)"
   ]
  },
  {
   "cell_type": "code",
   "execution_count": 80,
   "id": "1b51221f-b518-4948-8767-c73adcb58e68",
   "metadata": {},
   "outputs": [],
   "source": [
    "def kron_theta_ratio(_u, _w, _tau):\n",
    "    result = (pi * \n",
    "        jtheta(1,(( _u + _w ) * pi).evalf(), exp(I*pi*_tau).evalf()) * \n",
    "        jtheta(1, 0, exp(I*pi*_tau).evalf(), 1) /\n",
    "        (jtheta(1,( _u ) * pi.evalf(), exp(I*pi*_tau).evalf()) * \n",
    "         jtheta(1,( _w ) * pi.evalf(), exp(I*pi*_tau).evalf()) )\n",
    "    ).evalf()\n",
    "    return result\n",
    "\n",
    "def kron_theta_series(_u, _w, _tau, _M, _N):\n",
    "    \n",
    "    _X = im(_w) / im(_tau)\n",
    "    _Y = im(_tau * conjugate(_w)) / im(_tau)\n",
    "    Total = (2*_M + 1)*(2*_N + 1)\n",
    "    F = floor(Total/10)\n",
    "    count = 0\n",
    "    \n",
    "    result = 0\n",
    "    for _m in range(-_M, _M + 1):\n",
    "        for _n in range(-_N, _N + 1):\n",
    "            \n",
    "            count += 1\n",
    "            \n",
    "            result += (exp(-2*I*pi*( _m * _X  - _n * _Y )) / (_m + _n * _tau +_u)).evalf()\n",
    "            \n",
    "            if not count % F:\n",
    "                print(f\"{floor(100*count/Total)+1}%\")\n",
    "                \n",
    "    result *= exp(-2*I*pi*_u*im(_w)/im(_tau))\n",
    "    \n",
    "    return result.evalf()"
   ]
  },
  {
   "cell_type": "code",
   "execution_count": 81,
   "id": "b05e4ede",
   "metadata": {},
   "outputs": [],
   "source": [
    "w_val = rho_val + xi_val * tau_val"
   ]
  },
  {
   "cell_type": "code",
   "execution_count": 82,
   "id": "7304e126",
   "metadata": {},
   "outputs": [
    {
     "name": "stdout",
     "output_type": "stream",
     "text": [
      "10%\n",
      "20%\n",
      "30%\n",
      "40%\n",
      "50%\n",
      "60%\n",
      "70%\n",
      "80%\n",
      "90%\n",
      "100%\n"
     ]
    },
    {
     "data": {
      "text/latex": [
       "$\\displaystyle 0.14476872365514 - 6.55569002600982 i$"
      ],
      "text/plain": [
       "0.14476872365514 - 6.55569002600982*I"
      ]
     },
     "execution_count": 82,
     "metadata": {},
     "output_type": "execute_result"
    }
   ],
   "source": [
    "k_theta_ser_val = kron_theta_series(u_val, w_val, tau_val, 100, 100)\n",
    "k_theta_ser_val"
   ]
  },
  {
   "cell_type": "code",
   "execution_count": 38,
   "id": "f79ffb24",
   "metadata": {},
   "outputs": [
    {
     "data": {
      "text/latex": [
       "$\\displaystyle 0.100887517211457 - 6.51923194210253 i$"
      ],
      "text/plain": [
       "0.100887517211457 - 6.51923194210253*I"
      ]
     },
     "execution_count": 38,
     "metadata": {},
     "output_type": "execute_result"
    }
   ],
   "source": [
    "k_theta_ratio_val = kron_theta_ratio(u_val, w_val, tau_val)\n",
    "k_theta_ratio_val"
   ]
  },
  {
   "cell_type": "code",
   "execution_count": 39,
   "id": "ad47c3ae",
   "metadata": {},
   "outputs": [
    {
     "data": {
      "text/latex": [
       "$\\displaystyle 0.00568462996931207$"
      ],
      "text/plain": [
       "0.00568462996931207"
      ]
     },
     "execution_count": 39,
     "metadata": {},
     "output_type": "execute_result"
    }
   ],
   "source": [
    "1-abs(k_theta_ratio_val/k_theta_ser_val)"
   ]
  },
  {
   "cell_type": "code",
   "execution_count": 83,
   "id": "3706a3f1",
   "metadata": {},
   "outputs": [
    {
     "data": {
      "text/latex": [
       "$\\displaystyle \\frac{\\theta{\\left(u + w,\\tau \\right)} \\theta{\\left(0,\\tau,1 \\right)}}{\\theta{\\left(u,\\tau \\right)} \\theta{\\left(w,\\tau \\right)}} = e^{- \\frac{2 i \\pi u \\operatorname{im}{\\left(w\\right)}}{\\operatorname{im}{\\left(\\tau\\right)}}} \\sum_{\\substack{- N \\leq n \\leq N\\\\- M \\leq m \\leq M}} \\frac{e^{2 i \\pi \\left(- \\frac{m \\operatorname{im}{\\left(w\\right)}}{\\operatorname{im}{\\left(\\tau\\right)}} + \\frac{n \\operatorname{im}{\\left(\\tau \\overline{w}\\right)}}{\\operatorname{im}{\\left(\\tau\\right)}}\\right)}}{m + n \\tau + u}$"
      ],
      "text/plain": [
       "Eq(theta(u + w, tau)*theta(0, tau, 1)/(theta(u, tau)*theta(w, tau)), exp(-2*I*pi*u*im(w)/im(tau))*Sum(exp(2*I*pi*(-m*im(w)/im(tau) + n*im(tau*conjugate(w))/im(tau)))/(m + n*tau + u), (n, -N, N), (m, -M, M)))"
      ]
     },
     "execution_count": 83,
     "metadata": {},
     "output_type": "execute_result"
    }
   ],
   "source": [
    "w_tau_conj_subs = [\n",
    "    (w - conjugate(w), 2*I*im(w)), \n",
    "    (tau - conjugate(tau), 2*I*im(tau)),\n",
    "    (tau*conjugate(w) - w*conjugate(tau), 2*I*im(tau*conjugate(w)))\n",
    "]\n",
    "exp_u_im_w_im_tau = exp(-2*I*pi*u*im(w)/im(tau))\n",
    "ktheta_dbl_series_w_tau = ktheta_dbl_series.subs([rho_tau_w.args, xi_tau_w.args])\n",
    "ktheta_dbl_series_w_tau = Eq(\n",
    "    (ktheta_dbl_series_w_tau.lhs.simplify().subs(w_tau_conj_subs)*exp_u_im_w_im_tau).simplify(),\n",
    "    ktheta_dbl_series_w_tau.rhs.subs(w_tau_conj_subs)*exp_u_im_w_im_tau\n",
    ")\n",
    "ktheta_dbl_series_w_tau"
   ]
  },
  {
   "cell_type": "code",
   "execution_count": 84,
   "id": "6f57549f",
   "metadata": {},
   "outputs": [
    {
     "data": {
      "text/latex": [
       "$\\displaystyle \\operatorname{im}{\\left(x\\right)} = 0$"
      ],
      "text/plain": [
       "Eq(im(x), 0)"
      ]
     },
     "execution_count": 84,
     "metadata": {},
     "output_type": "execute_result"
    },
    {
     "data": {
      "text/latex": [
       "$\\displaystyle \\frac{\\theta{\\left(\\tau x + u,\\tau \\right)} \\theta{\\left(0,\\tau,1 \\right)}}{\\theta{\\left(u,\\tau \\right)} \\theta{\\left(\\tau x,\\tau \\right)}} = e^{- 2 i \\pi u x} \\sum_{\\substack{- N \\leq n \\leq N\\\\- M \\leq m \\leq M}} \\frac{e^{- 2 i \\pi m x}}{m + n \\tau + u}$"
      ],
      "text/plain": [
       "Eq(theta(tau*x + u, tau)*theta(0, tau, 1)/(theta(u, tau)*theta(tau*x, tau)), exp(-2*I*pi*u*x)*Sum(exp(-2*I*pi*m*x)/(m + n*tau + u), (n, -N, N), (m, -M, M)))"
      ]
     },
     "execution_count": 84,
     "metadata": {},
     "output_type": "execute_result"
    }
   ],
   "source": [
    "Eq(im(x),0)\n",
    "real_x_tau = ktheta_dbl_series_w_tau.subs(w,x*tau).subs([(im(x),0), (im(tau*x),x*im(tau))])\n",
    "real_x_tau"
   ]
  },
  {
   "cell_type": "code",
   "execution_count": 85,
   "id": "000d4fe7",
   "metadata": {},
   "outputs": [
    {
     "data": {
      "text/latex": [
       "$\\displaystyle \\frac{\\theta{\\left(\\frac{k \\tau}{l} + u,\\tau \\right)} \\theta{\\left(0,\\tau,1 \\right)}}{\\theta{\\left(u,\\tau \\right)} \\theta{\\left(\\frac{k \\tau}{l},\\tau \\right)}} = e^{- \\frac{2 i \\pi k u}{l}} \\sum_{\\substack{- N \\leq n \\leq N\\\\- M \\leq m \\leq M}} \\frac{e^{- \\frac{2 i \\pi k m}{l}}}{m + n \\tau + u}$"
      ],
      "text/plain": [
       "Eq(theta(k*tau/l + u, tau)*theta(0, tau, 1)/(theta(u, tau)*theta(k*tau/l, tau)), exp(-2*I*pi*k*u/l)*Sum(exp(-2*I*pi*k*m/l)/(m + n*tau + u), (n, -N, N), (m, -M, M)))"
      ]
     },
     "execution_count": 85,
     "metadata": {},
     "output_type": "execute_result"
    }
   ],
   "source": [
    "real_x_tau.subs(x, k/l)"
   ]
  },
  {
   "cell_type": "markdown",
   "id": "f5593358",
   "metadata": {},
   "source": [
    "## Kronecker Theta Functions in Weierstrass Sigma Form\n",
    "\n",
    "In this section the Kronecker theta function and the associated double sum pole expansion are given in the Weierstrass sigma form."
   ]
  },
  {
   "cell_type": "code",
   "execution_count": 86,
   "id": "9f8f0052",
   "metadata": {},
   "outputs": [
    {
     "data": {
      "text/latex": [
       "$\\displaystyle \\sigma{\\left(z,g_{2},g_{3} \\right)} = \\frac{2 \\omega_{1} \\theta{\\left(\\frac{z}{2 \\omega_{1}},\\tau \\right)} e^{- \\frac{z^{2} \\theta{\\left(0,\\tau,3 \\right)}}{24 \\omega_{1}^{2} \\theta{\\left(0,\\tau,1 \\right)}}}}{\\theta{\\left(0,\\tau,1 \\right)}}$"
      ],
      "text/plain": [
       "Eq(sigma(z, g2, g3), 2*omega1*theta(z/(2*omega1), tau)*exp(-z**2*theta(0, tau, 3)/(24*omega1**2*theta(0, tau, 1)))/theta(0, tau, 1))"
      ]
     },
     "execution_count": 86,
     "metadata": {},
     "output_type": "execute_result"
    },
    {
     "data": {
      "text/latex": [
       "$\\displaystyle \\operatorname{zw}{\\left(\\omega_{1},g_{2},g_{3} \\right)} = - \\frac{\\theta{\\left(0,\\tau,3 \\right)}}{12 \\omega_{1} \\theta{\\left(0,\\tau,1 \\right)}}$"
      ],
      "text/plain": [
       "Eq(zw(omega1, g2, g3), -theta(0, tau, 3)/(12*omega1*theta(0, tau, 1)))"
      ]
     },
     "execution_count": 86,
     "metadata": {},
     "output_type": "execute_result"
    },
    {
     "data": {
      "text/latex": [
       "$\\displaystyle \\frac{\\theta{\\left(u + w,\\tau \\right)} \\theta{\\left(0,\\tau,1 \\right)}}{\\theta{\\left(u,\\tau \\right)} \\theta{\\left(w,\\tau \\right)}} = \\frac{2 \\omega_{1} \\sigma{\\left(2 \\omega_{1} \\left(u + w\\right),g_{2},g_{3} \\right)} e^{- 4 \\omega_{1} u w \\operatorname{zw}{\\left(\\omega_{1},g_{2},g_{3} \\right)}}}{\\sigma{\\left(2 \\omega_{1} u,g_{2},g_{3} \\right)} \\sigma{\\left(2 \\omega_{1} w,g_{2},g_{3} \\right)}}$"
      ],
      "text/plain": [
       "Eq(theta(u + w, tau)*theta(0, tau, 1)/(theta(u, tau)*theta(w, tau)), 2*omega1*sigma(2*omega1*(u + w), g2, g3)*exp(-4*omega1*u*w*zw(omega1, g2, g3))/(sigma(2*omega1*u, g2, g3)*sigma(2*omega1*w, g2, g3)))"
      ]
     },
     "execution_count": 86,
     "metadata": {},
     "output_type": "execute_result"
    }
   ],
   "source": [
    "sigma_z_theta = Eq(sigma(z,g2,g3), \n",
    "   2*omega1/theta(0,tau,1)*exp(-(pi*z/2/omega1)**2 *theta(0,tau,3)/pi**3/6/theta(0,tau,1)*pi)*\n",
    "   theta(z/2/omega1, tau)\n",
    ")\n",
    "\n",
    "zeta_omega1_theta = Eq(zw(omega1,g2,g3), - pi ** 2 * theta(0,tau,3)/pi**3 / ( 12 * omega1 * theta(0,tau,1)/pi))\n",
    "\n",
    "kron_sigma_theta_relation = Eq(\n",
    "    theta(u + w, tau)*theta(0, tau, 1)/(theta(u, tau)*theta(w, tau)),\n",
    "    2*omega1*sigma(2*omega1*(u + w), g2, g3) * \n",
    "    exp(-4*omega1*u*w*zw(omega1, g2, g3))/\n",
    "    (sigma(2*omega1*u, g2, g3)*sigma(2*omega1*w, g2, g3))\n",
    ")\n",
    "\n",
    "sigma_z_theta\n",
    "zeta_omega1_theta\n",
    "kron_sigma_theta_relation"
   ]
  },
  {
   "cell_type": "code",
   "execution_count": 87,
   "id": "e40618e0",
   "metadata": {},
   "outputs": [
    {
     "data": {
      "text/latex": [
       "$\\displaystyle \\frac{\\theta{\\left(u + w,\\tau \\right)} \\theta{\\left(0,\\tau,1 \\right)}}{\\theta{\\left(u,\\tau \\right)} \\theta{\\left(w,\\tau \\right)}} = e^{- \\frac{2 i \\pi u \\operatorname{im}{\\left(w\\right)}}{\\operatorname{im}{\\left(\\tau\\right)}}} \\sum_{\\substack{- N \\leq n \\leq N\\\\- M \\leq m \\leq M}} \\frac{e^{2 i \\pi \\left(- \\frac{m \\operatorname{im}{\\left(w\\right)}}{\\operatorname{im}{\\left(\\tau\\right)}} + \\frac{n \\operatorname{im}{\\left(\\tau \\overline{w}\\right)}}{\\operatorname{im}{\\left(\\tau\\right)}}\\right)}}{m + n \\tau + u}$"
      ],
      "text/plain": [
       "Eq(theta(u + w, tau)*theta(0, tau, 1)/(theta(u, tau)*theta(w, tau)), exp(-2*I*pi*u*im(w)/im(tau))*Sum(exp(2*I*pi*(-m*im(w)/im(tau) + n*im(tau*conjugate(w))/im(tau)))/(m + n*tau + u), (n, -N, N), (m, -M, M)))"
      ]
     },
     "execution_count": 87,
     "metadata": {},
     "output_type": "execute_result"
    },
    {
     "data": {
      "text/latex": [
       "$\\displaystyle w = \\tau x_{2} + x_{1}$"
      ],
      "text/plain": [
       "Eq(w, tau*x2 + x1)"
      ]
     },
     "execution_count": 87,
     "metadata": {},
     "output_type": "execute_result"
    },
    {
     "data": {
      "text/latex": [
       "$\\displaystyle u = \\tau x_{4} + x_{3}$"
      ],
      "text/plain": [
       "Eq(u, tau*x4 + x3)"
      ]
     },
     "execution_count": 87,
     "metadata": {},
     "output_type": "execute_result"
    },
    {
     "data": {
      "text/latex": [
       "$\\displaystyle \\frac{e^{- 2 i \\pi x_{2} \\left(x_{3} + \\frac{\\omega_{2} x_{4}}{\\omega_{1}}\\right)} \\sum_{\\substack{- N \\leq n \\leq N\\\\- M \\leq m \\leq M}} \\frac{e^{- 2 i \\pi m x_{2} + 2 i \\pi n x_{1}}}{m \\omega_{1} + n \\omega_{2} + \\omega_{1} x_{3} + \\omega_{2} x_{4}}}{2} = \\frac{\\sigma{\\left(2 \\omega_{1} \\left(x_{1} + x_{3}\\right) + 2 \\omega_{2} x_{2} + 2 \\omega_{2} x_{4},g_{2},g_{3} \\right)} e^{- \\frac{4 \\left(\\omega_{1} x_{1} + \\omega_{2} x_{2}\\right) \\left(\\omega_{1} x_{3} + \\omega_{2} x_{4}\\right) \\operatorname{zw}{\\left(\\omega_{1},g_{2},g_{3} \\right)}}{\\omega_{1}}}}{\\sigma{\\left(2 \\omega_{1} x_{1} + 2 \\omega_{2} x_{2},g_{2},g_{3} \\right)} \\sigma{\\left(2 \\omega_{1} x_{3} + 2 \\omega_{2} x_{4},g_{2},g_{3} \\right)}}$"
      ],
      "text/plain": [
       "Eq(exp(-2*I*pi*x2*(x3 + omega2*x4/omega1))*Sum(exp(-2*I*pi*m*x2 + 2*I*pi*n*x1)/(m*omega1 + n*omega2 + omega1*x3 + omega2*x4), (n, -N, N), (m, -M, M))/2, sigma(2*omega1*(x1 + x3) + 2*omega2*x2 + 2*omega2*x4, g2, g3)*exp(-4*(omega1*x1 + omega2*x2)*(omega1*x3 + omega2*x4)*zw(omega1, g2, g3)/omega1)/(sigma(2*omega1*x1 + 2*omega2*x2, g2, g3)*sigma(2*omega1*x3 + 2*omega2*x4, g2, g3)))"
      ]
     },
     "execution_count": 87,
     "metadata": {},
     "output_type": "execute_result"
    },
    {
     "data": {
      "text/latex": [
       "$\\displaystyle \\sum_{\\substack{- N \\leq n \\leq N\\\\- M \\leq m \\leq M}} \\frac{e^{- 2 i \\pi m x_{2} + 2 i \\pi n x_{1}}}{2 \\omega_{1} \\left(m + x_{3}\\right) + 2 \\omega_{2} \\left(n + x_{4}\\right)} = \\frac{\\sigma{\\left(2 \\omega_{1} \\left(x_{1} + x_{3}\\right) + 2 \\omega_{2} \\left(x_{2} + x_{4}\\right),g_{2},g_{3} \\right)} e^{\\frac{\\left(- 2 \\omega_{1} x_{1} - 2 \\omega_{2} x_{2}\\right) \\left(2 \\omega_{1} x_{3} + 2 \\omega_{2} x_{4}\\right) \\operatorname{zw}{\\left(\\omega_{1},g_{2},g_{3} \\right)}}{\\omega_{1}}} e^{\\frac{i \\pi x_{2} \\cdot \\left(2 \\omega_{1} x_{3} + 2 \\omega_{2} x_{4}\\right)}{\\omega_{1}}}}{\\sigma{\\left(2 \\omega_{1} x_{1} + 2 \\omega_{2} x_{2},g_{2},g_{3} \\right)} \\sigma{\\left(2 \\omega_{1} x_{3} + 2 \\omega_{2} x_{4},g_{2},g_{3} \\right)}}$"
      ],
      "text/plain": [
       "Eq(Sum(exp(-2*I*pi*m*x2 + 2*I*pi*n*x1)/(2*omega1*(m + x3) + 2*omega2*(n + x4)), (n, -N, N), (m, -M, M)), sigma(2*omega1*(x1 + x3) + 2*omega2*(x2 + x4), g2, g3)*exp((-2*omega1*x1 - 2*omega2*x2)*(2*omega1*x3 + 2*omega2*x4)*zw(omega1, g2, g3)/omega1)*exp(I*pi*x2*(2*omega1*x3 + 2*omega2*x4)/omega1)/(sigma(2*omega1*x1 + 2*omega2*x2, g2, g3)*sigma(2*omega1*x3 + 2*omega2*x4, g2, g3)))"
      ]
     },
     "execution_count": 87,
     "metadata": {},
     "output_type": "execute_result"
    }
   ],
   "source": [
    "w_x1_x2_tau = Eq(w, x1 + x2*tau)\n",
    "u_x3_x4_omega = Eq(u, x3 + x4*tau)\n",
    "ktheta_dbl_series_x_sigma = ktheta_dbl_series_w_tau.subs([\n",
    "    kron_sigma_theta_relation.args,\n",
    "    (im(w), x2*im(tau)), \n",
    "    (im(tau*conjugate(w)), x1*im(tau)), \n",
    "    w_x1_x2_tau.args,\n",
    "    u_x3_x4_omega.args,\n",
    "    (tau,omega2/omega1)\n",
    "])\n",
    "ktheta_dbl_series_x_sigma = Eq(\n",
    "    ktheta_dbl_series_x_sigma.lhs/2/omega1,\n",
    "    ktheta_dbl_series_x_sigma.rhs/2/omega1\n",
    ").simplify()\n",
    "\n",
    "kron_sigma_dbl_sum = Eq(\n",
    "    Sum(exp(-2*I*pi*m*x2 + 2*I*pi*n*x1)/\n",
    "    (2*omega1*(m + x3) + 2*omega2*(n + x4)), (n, -N, N), (m, -M, M)),\n",
    "    sigma(2*omega1*(x1 + x3) + 2*omega2*(x2 + x4), g2, g3)*\n",
    "    exp(-(2*omega1*x1 + 2*omega2*x2)*(2*omega1*x3 + 2*omega2*x4)*zw(omega1, g2, g3)/omega1)/\n",
    "    (sigma(2*omega1*x1 + 2*omega2*x2, g2, g3)*sigma(2*omega1*x3 + 2*omega2*x4, g2, g3))*\n",
    "    exp(I*pi*x2*(2*omega1*x3 + 2*omega2*x4)/omega1)\n",
    ")\n",
    "\n",
    "\n",
    "ktheta_dbl_series_w_tau\n",
    "w_x1_x2_tau\n",
    "u_x3_x4_omega\n",
    "ktheta_dbl_series_x_sigma\n",
    "kron_sigma_dbl_sum"
   ]
  },
  {
   "cell_type": "markdown",
   "id": "98ac1a7d",
   "metadata": {},
   "source": [
    "### Accelerated convergence using the difference between the function evaluated in two places\n",
    "The series can be made to converge faster by subtracting the function evaluated at one point from the function at evaluated at another point and combining the terms in the sum to be quadratic in the denominator rather than linear. This helps test the equations numerically because convergence is generally quite slow."
   ]
  },
  {
   "cell_type": "code",
   "execution_count": 150,
   "id": "006d5191",
   "metadata": {},
   "outputs": [
    {
     "data": {
      "text/latex": [
       "$\\displaystyle - \\frac{1}{2 \\omega_{1} \\left(m + x_{5}\\right) + 2 \\omega_{2} \\left(n + x_{6}\\right)} + \\frac{1}{2 \\omega_{1} \\left(m + x_{3}\\right) + 2 \\omega_{2} \\left(n + x_{4}\\right)} = \\frac{\\omega_{1} \\left(- x_{3} + x_{5}\\right) + \\omega_{2} \\left(- x_{4} + x_{6}\\right)}{2 \\left(\\omega_{1} \\left(m + x_{3}\\right) + \\omega_{2} \\left(n + x_{4}\\right)\\right) \\left(\\omega_{1} \\left(m + x_{5}\\right) + \\omega_{2} \\left(n + x_{6}\\right)\\right)}$"
      ],
      "text/plain": [
       "Eq(-1/(2*omega1*(m + x5) + 2*omega2*(n + x6)) + 1/(2*omega1*(m + x3) + 2*omega2*(n + x4)), (omega1*(-x3 + x5) + omega2*(-x4 + x6))/(2*(omega1*(m + x3) + omega2*(n + x4))*(omega1*(m + x5) + omega2*(n + x6))))"
      ]
     },
     "execution_count": 150,
     "metadata": {},
     "output_type": "execute_result"
    }
   ],
   "source": [
    "two_terms = 1/(2*omega1*(m + x3) + 2*omega2*(n + x4)) - 1/(2*omega1*(m + x5) + 2*omega2*(n + x6))\n",
    "_n,_d = fraction(simplify(two_terms))\n",
    "Eq(\n",
    "    two_terms,\n",
    "    _n.simplify().collect([omega1, omega2])/_d\n",
    ")"
   ]
  },
  {
   "cell_type": "code",
   "execution_count": 459,
   "id": "b78cb21f",
   "metadata": {},
   "outputs": [
    {
     "data": {
      "text/latex": [
       "$\\displaystyle - \\frac{\\sigma{\\left(2 \\omega_{1} \\left(x_{1} + x_{5}\\right) + 2 \\omega_{2} \\left(x_{2} + x_{6}\\right),g_{2},g_{3} \\right)} e^{\\frac{\\left(- 2 \\omega_{1} x_{1} - 2 \\omega_{2} x_{2}\\right) \\left(2 \\omega_{1} x_{5} + 2 \\omega_{2} x_{6}\\right) \\operatorname{zw}{\\left(\\omega_{1},g_{2},g_{3} \\right)}}{\\omega_{1}}} e^{\\frac{i \\pi x_{2} \\cdot \\left(2 \\omega_{1} x_{5} + 2 \\omega_{2} x_{6}\\right)}{\\omega_{1}}}}{\\left(2 \\omega_{1} \\left(- x_{3} + x_{5}\\right) + 2 \\omega_{2} \\left(- x_{4} + x_{6}\\right)\\right) \\sigma{\\left(2 \\omega_{1} x_{1} + 2 \\omega_{2} x_{2},g_{2},g_{3} \\right)} \\sigma{\\left(2 \\omega_{1} x_{5} + 2 \\omega_{2} x_{6},g_{2},g_{3} \\right)}} + \\frac{\\sigma{\\left(2 \\omega_{1} \\left(x_{1} + x_{3}\\right) + 2 \\omega_{2} \\left(x_{2} + x_{4}\\right),g_{2},g_{3} \\right)} e^{\\frac{\\left(- 2 \\omega_{1} x_{1} - 2 \\omega_{2} x_{2}\\right) \\left(2 \\omega_{1} x_{3} + 2 \\omega_{2} x_{4}\\right) \\operatorname{zw}{\\left(\\omega_{1},g_{2},g_{3} \\right)}}{\\omega_{1}}} e^{\\frac{i \\pi x_{2} \\cdot \\left(2 \\omega_{1} x_{3} + 2 \\omega_{2} x_{4}\\right)}{\\omega_{1}}}}{\\left(2 \\omega_{1} \\left(- x_{3} + x_{5}\\right) + 2 \\omega_{2} \\left(- x_{4} + x_{6}\\right)\\right) \\sigma{\\left(2 \\omega_{1} x_{1} + 2 \\omega_{2} x_{2},g_{2},g_{3} \\right)} \\sigma{\\left(2 \\omega_{1} x_{3} + 2 \\omega_{2} x_{4},g_{2},g_{3} \\right)}} = \\sum_{\\substack{- N \\leq n \\leq N\\\\- M \\leq m \\leq M}} \\frac{e^{- 2 i \\pi m x_{2} + 2 i \\pi n x_{1}}}{\\left(2 \\omega_{1} \\left(m + x_{3}\\right) + 2 \\omega_{2} \\left(n + x_{4}\\right)\\right) \\left(2 \\omega_{1} \\left(m + x_{5}\\right) + 2 \\omega_{2} \\left(n + x_{6}\\right)\\right)}$"
      ],
      "text/plain": [
       "Eq(-sigma(2*omega1*(x1 + x5) + 2*omega2*(x2 + x6), g2, g3)*exp((-2*omega1*x1 - 2*omega2*x2)*(2*omega1*x5 + 2*omega2*x6)*zw(omega1, g2, g3)/omega1)*exp(I*pi*x2*(2*omega1*x5 + 2*omega2*x6)/omega1)/((2*omega1*(-x3 + x5) + 2*omega2*(-x4 + x6))*sigma(2*omega1*x1 + 2*omega2*x2, g2, g3)*sigma(2*omega1*x5 + 2*omega2*x6, g2, g3)) + sigma(2*omega1*(x1 + x3) + 2*omega2*(x2 + x4), g2, g3)*exp((-2*omega1*x1 - 2*omega2*x2)*(2*omega1*x3 + 2*omega2*x4)*zw(omega1, g2, g3)/omega1)*exp(I*pi*x2*(2*omega1*x3 + 2*omega2*x4)/omega1)/((2*omega1*(-x3 + x5) + 2*omega2*(-x4 + x6))*sigma(2*omega1*x1 + 2*omega2*x2, g2, g3)*sigma(2*omega1*x3 + 2*omega2*x4, g2, g3)), Sum(exp(-2*I*pi*m*x2 + 2*I*pi*n*x1)/((2*omega1*(m + x3) + 2*omega2*(n + x4))*(2*omega1*(m + x5) + 2*omega2*(n + x6))), (n, -N, N), (m, -M, M)))"
      ]
     },
     "execution_count": 459,
     "metadata": {},
     "output_type": "execute_result"
    }
   ],
   "source": [
    "kron_diff = Eq(\n",
    "    kron_sigma_dbl_sum.rhs / (2*omega1*(x5 - x3) + 2*omega2*(x6 - x4)) - \n",
    "    kron_sigma_dbl_sum.rhs.subs([(x3,x5),(x4,x6)]) / (2*omega1*(x5 - x3) + 2*omega2*(x6 - x4))\n",
    "    ,\n",
    "    Sum(\n",
    "        exp(-2*I*pi*m*x2 + 2*I*pi*n*x1)/\n",
    "        (2*omega1*(m + x3) + 2*omega2*(n + x4))/\n",
    "        (2*omega1*(m + x5) + 2*omega2*(n + x6))\n",
    "    , (n, -N, N), (m, -M, M))\n",
    ")\n",
    "kron_diff"
   ]
  },
  {
   "cell_type": "markdown",
   "id": "661568d8",
   "metadata": {},
   "source": [
    "### Numerical test of the Weierstrass sigma form of Kronecker theta functions"
   ]
  },
  {
   "cell_type": "code",
   "execution_count": 479,
   "id": "51e59154",
   "metadata": {},
   "outputs": [],
   "source": [
    "def kron_sigma_sol(_x1, _x2, _x3, _x4, _x5, _x6, _omega1, _omega2):\n",
    "\n",
    "    omegas = (_omega1, _omega2) \n",
    "    result = (\n",
    "        exp(-(2*_omega1*_x1 + 2*_omega2*_x2)*(2*_omega1*_x5 + 2*_omega2*_x6)*we.wzeta(_omega1, omegas)/_omega1)*\n",
    "        exp(I*pi*_x2*(2*_omega1*_x5 + 2*_omega2*_x6)/_omega1)*\n",
    "        we.wsigma(2*_omega1*(_x1 + _x5) + 2*_omega2*(_x2 + _x6), omegas) / \n",
    "        we.wsigma(2*_omega1*_x1 + 2*_omega2*_x2, omegas) /\n",
    "        we.wsigma(2*_omega1*_x5 + 2*_omega2*_x6, omegas) /\n",
    "        (2*_omega1*(_x3 - _x5) + 2*_omega2*(_x4 - _x6)) -\n",
    "        \n",
    "        exp(-(2*_omega1*_x1 + 2*_omega2*_x2)*(2*_omega1*_x3 + 2*_omega2*_x4)*we.wzeta(_omega1, omegas)/_omega1)*\n",
    "        exp(I*pi*_x2*(2*_omega1*_x3 + 2*_omega2*_x4)/_omega1)*\n",
    "        we.wsigma(2*_omega1*(_x1 + _x3) + 2*_omega2*(_x2 + _x4), omegas) / \n",
    "        we.wsigma(2*_omega1*_x1 + 2*_omega2*_x2, omegas) /\n",
    "        we.wsigma(2*_omega1*_x3 + 2*_omega2*_x4, omegas) /\n",
    "        (2*_omega1*(_x3 - _x5) + 2*_omega2*(_x4 - _x6))\n",
    "    ).evalf()\n",
    "    return result\n",
    "\n",
    "def kron_theta_series_sigma(_x1, _x2, _x3, _x4, _x5, _x6, _omega1, _omega2, _M, _N):\n",
    "    \n",
    "    # Track progress\n",
    "    Total = (2*_M + 1)*(2*_N + 1)\n",
    "    F = floor(Total/10)\n",
    "    count = 0\n",
    "    \n",
    "    result = 0\n",
    "    for _m in range(-_M, _M + 1):\n",
    "        for _n in range(-_N, _N + 1):\n",
    "            \n",
    "            count += 1\n",
    "            \n",
    "            result += (\n",
    "                exp(2*I*pi*(- _m * _x2  + _n * _x1 )) / \n",
    "                (2*_omega1*(_m + _x3) + 2*_omega2*(_n + _x4)) /\n",
    "                (2*_omega1*(_m + _x5) + 2*_omega2*(_n + _x6))\n",
    "            ).evalf()\n",
    "            \n",
    "            if not count % F:\n",
    "                print(f\"{floor(100*count/Total)+1}%\")\n",
    "    \n",
    "    return result.evalf()\n",
    "\n",
    "def kron_sigma_sol_1(_x1, _x2, _x3, _x4, _u, _omega1, _omega2):\n",
    "\n",
    "    omegas = (_omega1, _omega2) \n",
    "    result = (\n",
    "        exp(-(2*_omega1*_x1 + 2*_omega2*_x2)*_u*we.wzeta(_omega1, omegas)/_omega1)*\n",
    "        exp(I*pi*_x2*_u/_omega1)*\n",
    "        we.wsigma(2*_omega1*_x1 + 2*_omega2*_x2 + _u, omegas) / \n",
    "        we.wsigma(2*_omega1*_x1 + 2*_omega2*_x2, omegas) /\n",
    "        we.wsigma(_u, omegas)\n",
    "    ).evalf()\n",
    "    return result\n",
    "\n",
    "def kron_theta_series_sigma_1(_x1, _x2, _x3, _x4, _u, _omega1, _omega2, _M, _N):\n",
    "    \n",
    "    # Track progress\n",
    "    Total = (2*_M + 1)*(2*_N + 1)\n",
    "    F = floor(Total/10)\n",
    "    count = 0\n",
    "    \n",
    "    result = 0\n",
    "    for _m in range(-_M, _M + 1):\n",
    "        for _n in range(-_N, _N + 1):\n",
    "            \n",
    "            count += 1      \n",
    "            result += (exp(2*I*pi*(- _m * _x2  + _n * _x1 )) / (2*_omega1*_m + 2*_omega2*_n + _u)).evalf()\n",
    "            \n",
    "            if not count % F:\n",
    "                print(f\"{floor(100*count/Total)+1}%\")\n",
    "    \n",
    "    return result.evalf()"
   ]
  },
  {
   "cell_type": "code",
   "execution_count": 492,
   "id": "7ae10ca6",
   "metadata": {},
   "outputs": [
    {
     "name": "stdout",
     "output_type": "stream",
     "text": [
      "10%\n",
      "20%\n",
      "30%\n",
      "40%\n",
      "50%\n",
      "60%\n",
      "70%\n",
      "80%\n",
      "90%\n",
      "100%\n"
     ]
    },
    {
     "data": {
      "text/latex": [
       "$\\displaystyle -0.0450182840957089 + 0.0352487459692174 i$"
      ],
      "text/plain": [
       "-0.0450182840957089 + 0.0352487459692174*I"
      ]
     },
     "execution_count": 492,
     "metadata": {},
     "output_type": "execute_result"
    },
    {
     "data": {
      "text/latex": [
       "$\\displaystyle -0.045018192792082 + 0.0352489198981145 i$"
      ],
      "text/plain": [
       "-0.045018192792082 + 0.0352489198981145*I"
      ]
     },
     "execution_count": 492,
     "metadata": {},
     "output_type": "execute_result"
    },
    {
     "data": {
      "text/latex": [
       "$\\displaystyle 3.43564588973059 \\cdot 10^{-6}$"
      ],
      "text/plain": [
       "3.43564588973059e-6"
      ]
     },
     "execution_count": 492,
     "metadata": {},
     "output_type": "execute_result"
    }
   ],
   "source": [
    "in_vals = {\n",
    "    '_x1': 0.245, \n",
    "    '_x2': 0.2345,\n",
    "    '_x3': 0.3256,\n",
    "    '_x4': 0.15,\n",
    "    '_x5': 0.988,\n",
    "    '_x6': 0.489,\n",
    "    '_omega1': 1.89+3.2j,\n",
    "    '_omega2': -2.35+4.3j,\n",
    "    '_M': 150,\n",
    "    '_N': 150\n",
    "}\n",
    "\n",
    "if im(in_vals['_omega2']/in_vals['_omega1']) <= 0:\n",
    "    print('Woops! make omega2 negative')\n",
    "    \n",
    "in_vals_no_MN = {k:in_vals[k] for k in in_vals if k not in ['_M', '_N']}\n",
    "\n",
    "r_1 = kron_theta_series_sigma(**in_vals)\n",
    "r_2 = kron_sigma_sol(**in_vals_no_MN)\n",
    "\n",
    "r_1\n",
    "r_2\n",
    "2*abs(r_1 - r_2)/abs(r_1 + r_2)"
   ]
  },
  {
   "cell_type": "code",
   "execution_count": null,
   "id": "bba34a3b",
   "metadata": {},
   "outputs": [],
   "source": [
    "# in_vals = {\n",
    "#     '_x1': 0.145, \n",
    "#     '_x2': 0.2345,\n",
    "#     '_x3': 0.1256,\n",
    "#     '_x4': 0.15,\n",
    "#     '_x5': 0.088,\n",
    "#     '_x6': 0.189,\n",
    "#     '_omega1': 0.89+1.2j,\n",
    "#     '_omega2': -2.35+0.2j,\n",
    "#     '_M': 200,\n",
    "#     '_N': 200\n",
    "# }\n",
    "# 0.000235756741884392  M = N = 10\n",
    "# 2.18717328312761⋅10−5 M = N = 40\n",
    "# 3.48144971782924⋅10−6 M = N = 70\n",
    "# 4.98448487389926⋅10−6 M = N = 100\n",
    "# 1.72375801839293⋅10−6 M = N = 130\n",
    "# 1.24514498542695⋅10−6 M = N = 200\n",
    "\n",
    "\n",
    "# in_vals = {\n",
    "#     '_x1': 0.245, \n",
    "#     '_x2': 0.2345,\n",
    "#     '_x3': 0.3256,\n",
    "#     '_x4': 0.15,\n",
    "#     '_x5': 0.988,\n",
    "#     '_x6': 0.489,\n",
    "#     '_omega1': 1.89+3.2j,\n",
    "#     '_omega2': -2.35+4.3j,\n",
    "#     '_M': 10,\n",
    "#     '_N': 10\n",
    "# }\n",
    "# M = N = 10, 0.00263409240388377\n",
    "# M = N = 40, 0.000169611151416672\n",
    "# M = N = 70, 1.61380137365884⋅10−5\n",
    "# M = N = 150, 3.43564588973059⋅10−6"
   ]
  },
  {
   "cell_type": "code",
   "execution_count": 482,
   "id": "b985434a",
   "metadata": {},
   "outputs": [
    {
     "name": "stdout",
     "output_type": "stream",
     "text": [
      "10%\n",
      "20%\n",
      "30%\n",
      "40%\n",
      "50%\n",
      "60%\n",
      "70%\n",
      "80%\n",
      "90%\n",
      "100%\n"
     ]
    },
    {
     "data": {
      "text/latex": [
       "$\\displaystyle -0.406342794784371 - 0.681989373868458 i$"
      ],
      "text/plain": [
       "-0.406342794784371 - 0.681989373868458*I"
      ]
     },
     "execution_count": 482,
     "metadata": {},
     "output_type": "execute_result"
    },
    {
     "data": {
      "text/latex": [
       "$\\displaystyle -0.406938469620351 - 0.683674247780049 i$"
      ],
      "text/plain": [
       "-0.406938469620351 - 0.683674247780049*I"
      ]
     },
     "execution_count": 482,
     "metadata": {},
     "output_type": "execute_result"
    },
    {
     "data": {
      "text/latex": [
       "$\\displaystyle 0.00224861800000889$"
      ],
      "text/plain": [
       "0.00224861800000889"
      ]
     },
     "execution_count": 482,
     "metadata": {},
     "output_type": "execute_result"
    }
   ],
   "source": [
    "in_vals_2 = {\n",
    "    '_x1': 0.145, \n",
    "    '_x2': 0.2345,\n",
    "    '_x3': 0.1256,\n",
    "    '_x4': 0.15,\n",
    "    '_u': 1.88,\n",
    "    '_omega1': 0.89+1.2j,\n",
    "    '_omega2': -2.35+0.2j,\n",
    "    '_M': 100,\n",
    "    '_N': 100\n",
    "}\n",
    "\n",
    "if im(in_vals_2['_omega2']/in_vals_2['_omega1']) <= 0:\n",
    "    print('Woops! make omega2 negative')\n",
    "    \n",
    "in_vals_no_MN_2 = {k:in_vals_2[k] for k in in_vals_2 if k not in ['_M', '_N']}\n",
    "r_1 = kron_theta_series_sigma_1(**in_vals_2)\n",
    "\n",
    "r_2 = kron_sigma_sol_1(**in_vals_no_MN_2)\n",
    "\n",
    "r_1\n",
    "r_2\n",
    "2*abs(r_1 - r_2)/abs(r_1 + r_2)"
   ]
  },
  {
   "cell_type": "code",
   "execution_count": null,
   "id": "94613b02",
   "metadata": {},
   "outputs": [],
   "source": [
    "# in_vals_2 = {\n",
    "#     '_x1': 0.145, \n",
    "#     '_x2': 0.2345,\n",
    "#     '_x3': 0.1256,\n",
    "#     '_x4': 0.15,\n",
    "#     '_u': 1.88,\n",
    "#     '_omega1': 0.89+1.2j,\n",
    "#     '_omega2': -2.35+0.2j,\n",
    "#     '_M': 100,\n",
    "#     '_N': 100\n",
    "# }\n",
    "\n",
    "# 0.00841984123373364 M = N = 40 \n",
    "# 0.00609657110821202 M = N = 70 \n",
    "# 0.00224861800000889 M = N = 100 "
   ]
  },
  {
   "cell_type": "markdown",
   "id": "b8ae7b93",
   "metadata": {},
   "source": [
    "## The Kronecker Second Limit Formula\n",
    "\n",
    "This is taken from Equation (7) in Charollois and Sczech but there is no derivation in that reference nor is there a citation to its derivation. I have found a derivation in Siegel [Lectures on advanced analytic number theory](https://www-users.cse.umn.edu/~garrett/m/mfms/notes_2013-14/Siegel_AdvAnNoTh.pdf)"
   ]
  },
  {
   "cell_type": "code",
   "execution_count": 57,
   "id": "9936fffc",
   "metadata": {},
   "outputs": [
    {
     "data": {
      "text/latex": [
       "$\\displaystyle \\operatorname{im}{\\left(\\tau\\right)} > 0$"
      ],
      "text/plain": [
       "im(tau) > 0"
      ]
     },
     "execution_count": 57,
     "metadata": {},
     "output_type": "execute_result"
    },
    {
     "data": {
      "text/latex": [
       "$\\displaystyle \\operatorname{im}{\\left(\\kappa\\right)} < 0$"
      ],
      "text/plain": [
       "im(kappa) < 0"
      ]
     },
     "execution_count": 57,
     "metadata": {},
     "output_type": "execute_result"
    },
    {
     "data": {
      "text/latex": [
       "$\\displaystyle \\operatorname{im}{\\left(\\xi\\right)} = 0$"
      ],
      "text/plain": [
       "Eq(im(xi), 0)"
      ]
     },
     "execution_count": 57,
     "metadata": {},
     "output_type": "execute_result"
    },
    {
     "data": {
      "text/latex": [
       "$\\displaystyle \\operatorname{im}{\\left(\\rho\\right)} = 0$"
      ],
      "text/plain": [
       "Eq(im(rho), 0)"
      ]
     },
     "execution_count": 57,
     "metadata": {},
     "output_type": "execute_result"
    }
   ],
   "source": [
    "im(tau)>0\n",
    "im(kappa)<0\n",
    "Eq(im(xi),0)\n",
    "Eq(im(rho),0)"
   ]
  },
  {
   "cell_type": "code",
   "execution_count": 204,
   "id": "dfd7b907",
   "metadata": {},
   "outputs": [
    {
     "data": {
      "text/latex": [
       "$\\displaystyle \\sum_{\\substack{-\\infty \\leq n \\leq \\infty\\\\-\\infty \\leq m \\leq \\infty}} - \\frac{i \\left(- \\kappa + \\tau\\right) e^{2 i \\pi \\left(m \\rho + n \\xi\\right)}}{2 \\pi \\left(\\kappa m + n\\right) \\left(m \\tau + n\\right)} = - i \\pi \\xi^{2} \\left(- \\kappa + \\tau\\right) - \\log{\\left(\\frac{\\theta{\\left(\\rho - \\tau \\xi,\\tau \\right)} \\theta{\\left(- \\kappa \\xi + \\rho,- \\kappa \\right)}}{\\eta{\\left(- \\kappa \\right)} \\eta{\\left(\\tau \\right)}} \\right)}$"
      ],
      "text/plain": [
       "Eq(Sum(-I*(-kappa + tau)*exp(2*I*pi*(m*rho + n*xi))/(2*pi*(kappa*m + n)*(m*tau + n)), (n, -oo, oo), (m, -oo, oo)), -I*pi*xi**2*(-kappa + tau) - log(theta(rho - tau*xi, tau)*theta(-kappa*xi + rho, -kappa)/(eta(-kappa)*eta(tau))))"
      ]
     },
     "execution_count": 204,
     "metadata": {},
     "output_type": "execute_result"
    }
   ],
   "source": [
    "Eq(Sum((tau - kappa)/(2*pi*I)*exp(2*I*pi*(n*xi +m*rho))/(n + m*tau)/(n+m*kappa),(n,-oo,oo),(m,-oo,oo)),\n",
    "  -ln(theta(rho - xi*tau,tau)*theta(rho - xi*kappa,-kappa)/eta(tau)/eta(-kappa)) -pi*I*xi**2*(tau - kappa)\n",
    "  )"
   ]
  },
  {
   "cell_type": "markdown",
   "id": "0f98c63d",
   "metadata": {},
   "source": [
    "$\\theta(z,\\tau,k)=\\pi^k \\mathrm{jtheta}(1,\\pi z,\\exp(i \\pi \\tau),k)$"
   ]
  },
  {
   "cell_type": "code",
   "execution_count": 201,
   "id": "61189bd0",
   "metadata": {},
   "outputs": [],
   "source": [
    "def kron_second_limit_formula_sum(_xi, _rho, _tau, _kappa, _M, _N):\n",
    "    \n",
    "    # Track progress\n",
    "    Total = (2*_M + 1)*(2*_N + 1)\n",
    "    F = floor(Total/10)\n",
    "    count = 0\n",
    "    \n",
    "    result = 0\n",
    "    for _m in range(-_M, _M + 1):\n",
    "        for _n in range(-_N, _N + 1):\n",
    "            \n",
    "            count += 1\n",
    "            \n",
    "            if not ((_m == 0) and (_n == 0)):\n",
    "            \n",
    "                result += (\n",
    "                    exp(2*I*pi*(_m * _xi  + _n * _rho )) / \n",
    "                    (_m + _n * _tau) /\n",
    "                    (_m + _n * _kappa)\n",
    "                ).evalf()\n",
    "            \n",
    "            if not count % F:\n",
    "                print(f\"{floor(100*count/Total)+1}%\")\n",
    "    \n",
    "    return (result / (2*I*pi) / (_tau - _kappa)).evalf()\n",
    "\n",
    "def dedekind_eta(_tau, _DN):\n",
    "#     q = exp(2*I*pi*_tau)\n",
    "#     return (q**(1/24)*product(1 - q**n,(n,1,_DN))).evalf()\n",
    "    return (exp(2*I*pi*_tau/24) * product(1 - exp(2*I*pi*n*_tau), (n,1,_DN))).evalf()\n",
    "\n",
    "def kron_second_limit_formula_log_theta(_xi, _rho, _tau, _kappa, _DN):\n",
    "    result = (\n",
    "        -I*pi*_xi**2*(_tau - _kappa)\n",
    "        -ln(\n",
    "            jtheta(1, ((_rho - _tau * _xi) * pi).evalf(), exp(I*pi*_tau).evalf() ) *\n",
    "            jtheta(1, ((_rho - _kappa * _xi) * pi).evalf(), exp(-I*pi*_kappa).evalf() ) /\n",
    "            dedekind_eta(_tau, _DN) /\n",
    "            dedekind_eta(-_kappa, _DN)\n",
    "        )\n",
    "    )\n",
    "    return result.evalf()"
   ]
  },
  {
   "cell_type": "code",
   "execution_count": 97,
   "id": "595d2089",
   "metadata": {},
   "outputs": [
    {
     "data": {
      "text/latex": [
       "$\\displaystyle \\frac{n \\left(\\kappa - \\tau\\right)}{\\left(m + n \\tau\\right) \\left(\\kappa n + m\\right)}$"
      ],
      "text/plain": [
       "n*(kappa - tau)/((m + n*tau)*(kappa*n + m))"
      ]
     },
     "execution_count": 97,
     "metadata": {},
     "output_type": "execute_result"
    }
   ],
   "source": [
    "(1/(m + n*tau) -1/(m+n*kappa)).simplify()"
   ]
  },
  {
   "cell_type": "code",
   "execution_count": 202,
   "id": "e390cb84",
   "metadata": {},
   "outputs": [
    {
     "name": "stdout",
     "output_type": "stream",
     "text": [
      "10%\n",
      "20%\n",
      "30%\n",
      "40%\n",
      "50%\n",
      "60%\n",
      "70%\n",
      "80%\n",
      "90%\n",
      "100%\n"
     ]
    },
    {
     "data": {
      "text/latex": [
       "$\\displaystyle -0.105567708560065 - 0.0216186989298628 i$"
      ],
      "text/plain": [
       "-0.105567708560065 - 0.0216186989298628*I"
      ]
     },
     "execution_count": 202,
     "metadata": {},
     "output_type": "execute_result"
    },
    {
     "data": {
      "text/latex": [
       "$\\displaystyle 2.52660103151331 + 1.0599734750031 i$"
      ],
      "text/plain": [
       "2.52660103151331 + 1.0599734750031*I"
      ]
     },
     "execution_count": 202,
     "metadata": {},
     "output_type": "execute_result"
    },
    {
     "data": {
      "text/latex": [
       "$\\displaystyle 2.16051020431978$"
      ],
      "text/plain": [
       "2.16051020431978"
      ]
     },
     "execution_count": 202,
     "metadata": {},
     "output_type": "execute_result"
    }
   ],
   "source": [
    "in_vals_kl = {\n",
    "    '_xi': 0.0,\n",
    "    '_rho': 0.165, \n",
    "    '_tau': 1.1256 + 2.345j,\n",
    "    '_kappa': 0.15 - 2.4456j,\n",
    "    '_M': 100,\n",
    "    '_N': 100,\n",
    "    '_DN': 200\n",
    "}\n",
    "\n",
    "kl_r_1 = kron_second_limit_formula_sum(**{k:in_vals_kl[k] for k in in_vals_kl if k not in ['_DN']})\n",
    "kl_r_2 = kron_second_limit_formula_log_theta(**{k:in_vals_kl[k] for k in in_vals_kl if k not in ['_M','_N']})\n",
    "\n",
    "kl_r_1\n",
    "kl_r_2\n",
    "2*abs(kl_r_1 - kl_r_2)/abs(kl_r_1 + kl_r_2)"
   ]
  },
  {
   "cell_type": "code",
   "execution_count": 200,
   "id": "8264c519",
   "metadata": {},
   "outputs": [
    {
     "data": {
      "text/latex": [
       "$\\displaystyle -0.021102598481314 - 0.00815318627109102 i$"
      ],
      "text/plain": [
       "-0.021102598481314 - 0.00815318627109102*I"
      ]
     },
     "execution_count": 200,
     "metadata": {},
     "output_type": "execute_result"
    },
    {
     "data": {
      "text/latex": [
       "$\\displaystyle 2.52660103151331 + 1.0599734750031 i$"
      ],
      "text/plain": [
       "2.52660103151331 + 1.0599734750031*I"
      ]
     },
     "execution_count": 200,
     "metadata": {},
     "output_type": "execute_result"
    },
    {
     "data": {
      "text/latex": [
       "$\\displaystyle 2.03328813273865$"
      ],
      "text/plain": [
       "2.03328813273865"
      ]
     },
     "execution_count": 200,
     "metadata": {},
     "output_type": "execute_result"
    }
   ],
   "source": [
    "kl_r_2 = kron_second_limit_formula_log_theta(**{k:in_vals_kl[k] for k in in_vals_kl if k not in ['_M','_N']})\n",
    "\n",
    "kl_r_1\n",
    "kl_r_2\n",
    "2*abs(kl_r_1 - kl_r_2)/abs(kl_r_1 + kl_r_2)"
   ]
  },
  {
   "cell_type": "code",
   "execution_count": 176,
   "id": "c44c8aa8",
   "metadata": {},
   "outputs": [
    {
     "data": {
      "text/latex": [
       "$\\displaystyle 0.510849859365029 + 0.18090119779838 i$"
      ],
      "text/plain": [
       "0.510849859365029 + 0.18090119779838*I"
      ]
     },
     "execution_count": 176,
     "metadata": {},
     "output_type": "execute_result"
    }
   ],
   "source": [
    "dedekind_eta(1.3+2.34j, 400)"
   ]
  },
  {
   "cell_type": "code",
   "execution_count": null,
   "id": "ad9fe4ea",
   "metadata": {},
   "outputs": [],
   "source": [
    "0.510849859365029+0.18090119779838𝑖\n",
    "\n",
    "0.5402637477889+0.0425194661684689𝑖"
   ]
  },
  {
   "cell_type": "code",
   "execution_count": 205,
   "id": "3288a37b",
   "metadata": {},
   "outputs": [
    {
     "data": {
      "text/latex": [
       "$\\displaystyle 0.768225422326057$"
      ],
      "text/plain": [
       "0.768225422326057"
      ]
     },
     "execution_count": 205,
     "metadata": {},
     "output_type": "execute_result"
    },
    {
     "data": {
      "text/latex": [
       "$\\displaystyle 0.837755763476598$"
      ],
      "text/plain": [
       "0.837755763476598"
      ]
     },
     "execution_count": 205,
     "metadata": {},
     "output_type": "execute_result"
    }
   ],
   "source": [
    "(gamma(1/4)/(2*pi**(3/4))).evalf()\n",
    "(gamma(1/4)/(2**(7/8)*pi**(3/4))).evalf()"
   ]
  },
  {
   "cell_type": "code",
   "execution_count": 206,
   "id": "b661d2a7",
   "metadata": {},
   "outputs": [
    {
     "data": {
      "text/latex": [
       "$\\displaystyle 0.768225434313799$"
      ],
      "text/plain": [
       "0.768225434313799"
      ]
     },
     "execution_count": 206,
     "metadata": {},
     "output_type": "execute_result"
    },
    {
     "data": {
      "text/latex": [
       "$\\displaystyle 0.837755770012961$"
      ],
      "text/plain": [
       "0.837755770012961"
      ]
     },
     "execution_count": 206,
     "metadata": {},
     "output_type": "execute_result"
    }
   ],
   "source": [
    "dedekind_eta(1j, 10000)\n",
    "dedekind_eta(0.5j, 10000)"
   ]
  },
  {
   "cell_type": "code",
   "execution_count": null,
   "id": "88be0080",
   "metadata": {},
   "outputs": [],
   "source": [
    "0.768225422302643\n",
    "\n",
    "0.768225434313799"
   ]
  },
  {
   "cell_type": "code",
   "execution_count": 194,
   "id": "b76d3040",
   "metadata": {},
   "outputs": [
    {
     "data": {
      "text/latex": [
       "$\\displaystyle i \\pi \\xi^{2} \\left(\\kappa - \\tau\\right)$"
      ],
      "text/plain": [
       "I*pi*xi**2*(kappa - tau)"
      ]
     },
     "execution_count": 194,
     "metadata": {},
     "output_type": "execute_result"
    }
   ],
   "source": [
    "(-pi*I*((rho - xi*tau) - (rho - xi*kappa))**2/(tau - kappa)).simplify()"
   ]
  },
  {
   "cell_type": "code",
   "execution_count": null,
   "id": "4a967bf6",
   "metadata": {},
   "outputs": [],
   "source": []
  }
 ],
 "metadata": {
  "kernelspec": {
   "display_name": "Python 3 (ipykernel)",
   "language": "python",
   "name": "python3"
  },
  "language_info": {
   "codemirror_mode": {
    "name": "ipython",
    "version": 3
   },
   "file_extension": ".py",
   "mimetype": "text/x-python",
   "name": "python",
   "nbconvert_exporter": "python",
   "pygments_lexer": "ipython3",
   "version": "3.11.10"
  }
 },
 "nbformat": 4,
 "nbformat_minor": 5
}
