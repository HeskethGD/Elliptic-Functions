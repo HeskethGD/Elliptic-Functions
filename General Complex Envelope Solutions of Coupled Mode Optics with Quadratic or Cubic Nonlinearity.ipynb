{
 "cells": [
  {
   "cell_type": "markdown",
   "metadata": {},
   "source": [
    "# General Complex Envelope Solutions of Coupled Mode Optics with Quadratic or Cubic Nonlinearity\n",
    "\n",
    "https://arxiv.org/pdf/1512.03092.pdf\n",
    "\n",
    "https://gist.github.com/stla/d771e0a8c351d16d186c79bc838b6c48\n",
    "\n",
    "https://github.com/stla/pyweierstrass\n",
    "\n",
    "https://dlmf.nist.gov/search/search?q=Weierstrass%20sigma%20function#:~:text=2%3A%2023.2%20Definitions%20and%20Periodic%20Properties&text=%E2%80%A6%20%E2%96%BAThe%20function%20%E2%81%A1%20is,zeros%20at%20the%20lattice%20points.%20%E2%80%A6\n",
    "\n",
    "https://www.ncbi.nlm.nih.gov/pmc/articles/PMC4197466/\n",
    "\n",
    "https://math.stackexchange.com/questions/4475194/half-periods-ratio-for-the-wp-weierstrass-function\n",
    "\n",
    "http://www.paris8.free.fr/Apostol%20T.M.%20Modular%20functions%20and%20Dirichlet%20series%20in%20number%20theory%20(Springer,1990)(600dpi)(T)(216s)_MT_.pdf\n",
    "\n",
    "Lame stuff\n",
    "\n",
    "https://arxiv.org/pdf/1706.07371.pdf\n",
    "\n",
    "https://en.wikipedia.org/wiki/Lam%C3%A9_function\n",
    "\n",
    "Numeric Weierstrass package by Stephane Laurent on mathstack STLA on github\n",
    "\n",
    "Other numeric stuff:\n",
    "\n",
    "https://arxiv.org/pdf/1806.06725.pdf\n",
    "\n",
    "https://arxiv.org/abs/1601.04963\n",
    "\n",
    "Other interesting stuff:\n",
    "\n",
    "https://aip.scitation.org/doi/10.1063/1.4960722 HF Jones"
   ]
  },
  {
   "cell_type": "code",
   "execution_count": 1,
   "metadata": {},
   "outputs": [],
   "source": [
    "from weierstrass import Weierstrass\n",
    "wst = Weierstrass()"
   ]
  },
  {
   "cell_type": "code",
   "execution_count": 2,
   "metadata": {},
   "outputs": [],
   "source": [
    "from sympy import *\n",
    "x, y, n, m, K, P, Q, k, epsilon, z, s, p1, p2, p3, g2, g3,c1, c2, c3, z0, xi1, xi2, xi3, rho1, rho2, rho3, w1, w2, w3, e1, e2, e3 = symbols(\n",
    "    'x, y, n, m, K, P, Q, k, epsilon, z, s, p1, p2, p3, g2, g3, c1, c2, c3, z0, xi1, xi2, xi3, rho1, rho2, rho3, w1, w2, w3, e1, e2, e3'\n",
    ")\n",
    "alpha, delta, t, nu, epsilon, theta = symbols('alpha, delta, t, nu, epsilon, theta')\n",
    "pw = Function('pw') # Weierstrass P function\n",
    "pwp = Function('pwp') # Derivative of Weierstrass P function\n",
    "zw = Function('zw') # Weierstrass Zeta function\n",
    "sigma = Function('sigma') # Weierstrass Sigma function\n",
    "f = Function('f')\n",
    "phi = Function('phi')\n",
    "A1 = Function('A1')\n",
    "A2 = Function('A2')\n",
    "A3 = Function('A3')\n",
    "Ac1 = Function('Ac1')\n",
    "Ac2 = Function('Ac2')\n",
    "Ac3 = Function('Ac3')\n",
    "A4 = Function('A4')\n",
    "A5 = Function('A5')\n",
    "A6 = Function('A6')\n",
    "A7 = Function('A7')\n",
    "A8 = Function('A8')\n",
    "W1 = Function('W1')\n",
    "W2 = Function('W2')\n",
    "W3 = Function('W3')\n",
    "W4 = Function('W4')\n",
    "W5 = Function('W5')\n",
    "W6 = Function('W6')\n",
    "p = IndexedBase('p')\n",
    "\n",
    "mu = Function('mu')\n",
    "kappa = IndexedBase('kappa')\n",
    "beta = IndexedBase('beta')\n",
    "a = IndexedBase('a')\n",
    "\n",
    "%load_ext autoreload\n",
    "%autoreload 2\n",
    "from weierstrass_elliptic import WeierstrassElliptic\n",
    "we = WeierstrassElliptic()"
   ]
  },
  {
   "cell_type": "code",
   "execution_count": 91,
   "metadata": {},
   "outputs": [],
   "source": [
    "def mpc_to_float(_mpc):\n",
    "    return (float(_mpc.real) + I*float(_mpc.imag))"
   ]
  },
  {
   "cell_type": "code",
   "execution_count": 92,
   "metadata": {},
   "outputs": [],
   "source": [
    "from mpmath import almosteq, mpc, mpf"
   ]
  },
  {
   "cell_type": "markdown",
   "metadata": {},
   "source": [
    "## 2. Quadratic Case"
   ]
  },
  {
   "cell_type": "markdown",
   "metadata": {},
   "source": [
    "### Equations of Motion"
   ]
  },
  {
   "cell_type": "code",
   "execution_count": null,
   "metadata": {},
   "outputs": [],
   "source": [
    "A1p = I*A1(z) + I*Ac2(z)*A3(z)\n",
    "Ac1p = -I*Ac1(z) - I*A2(z)*Ac3(z)\n",
    "Eq(diff(A1(z),z), A1p)"
   ]
  },
  {
   "cell_type": "code",
   "execution_count": null,
   "metadata": {},
   "outputs": [],
   "source": [
    "A2p = I*A2(z) + I*Ac1(z)*A3(z)\n",
    "Ac2p = -I*Ac2(z) - I*A1(z)*Ac3(z)\n",
    "Eq(diff(A2(z),z), A2p)"
   ]
  },
  {
   "cell_type": "code",
   "execution_count": null,
   "metadata": {},
   "outputs": [],
   "source": [
    "A3p = I*A3(z) + 2*I*A1(z)*A2(z)\n",
    "Ac3p = -I*Ac3(z) - 2*I*Ac1(z)*Ac2(z)\n",
    "Eq(diff(A3(z),z), A3p)"
   ]
  },
  {
   "cell_type": "code",
   "execution_count": null,
   "metadata": {},
   "outputs": [],
   "source": [
    "Pval = A1(z)*Ac1(z) + A2(z)*Ac2(z) + A3(z)*Ac3(z)\n",
    "Qval = A1(z)*Ac1(z) - A2(z)*Ac2(z)\n",
    "Kval = A1(z)*Ac1(z) + A2(z)*Ac2(z) + A3(z)*Ac3(z)/2 + A1(z)*A2(z)*Ac3(z) + Ac1(z)*Ac2(z)*A3(z)\n",
    "diff_subs = [\n",
    "    (diff(A1(z),z),A1p),(diff(A2(z),z),A2p),(diff(A3(z),z),A3p),\n",
    "    (diff(Ac1(z),z),Ac1p),(diff(Ac2(z),z),Ac2p),(diff(Ac3(z),z),Ac3p)\n",
    "]\n",
    "conserved_subs = [(P, Pval), (Q, Qval), (K, Kval)]"
   ]
  },
  {
   "cell_type": "markdown",
   "metadata": {},
   "source": [
    "### Conserved Quantities"
   ]
  },
  {
   "cell_type": "code",
   "execution_count": null,
   "metadata": {},
   "outputs": [],
   "source": [
    "Eq(P,Pval)"
   ]
  },
  {
   "cell_type": "code",
   "execution_count": null,
   "metadata": {},
   "outputs": [],
   "source": [
    "diff(Pval,z).subs(diff_subs).simplify()"
   ]
  },
  {
   "cell_type": "code",
   "execution_count": null,
   "metadata": {},
   "outputs": [],
   "source": [
    "Eq(Q,Qval)"
   ]
  },
  {
   "cell_type": "code",
   "execution_count": null,
   "metadata": {},
   "outputs": [],
   "source": [
    "diff(Qval,z).subs(diff_subs).simplify()"
   ]
  },
  {
   "cell_type": "code",
   "execution_count": null,
   "metadata": {},
   "outputs": [],
   "source": [
    "Eq(K,Kval)"
   ]
  },
  {
   "cell_type": "code",
   "execution_count": null,
   "metadata": {},
   "outputs": [],
   "source": [
    "diff(Kval,z).subs(diff_subs).simplify()"
   ]
  },
  {
   "cell_type": "markdown",
   "metadata": {},
   "source": [
    "### Solving the Modal Power Analytically"
   ]
  },
  {
   "cell_type": "code",
   "execution_count": null,
   "metadata": {},
   "outputs": [],
   "source": [
    "Eq(Derivative(A1(z)*Ac1(z),z),diff(A1(z)*Ac1(z),z).subs(diff_subs).simplify())"
   ]
  },
  {
   "cell_type": "code",
   "execution_count": null,
   "metadata": {},
   "outputs": [],
   "source": [
    "P1pSqrd = (-8*(A1(z)*Ac1(z))**3 - (1 - 12*Q - 4*P)*(A1(z)*Ac1(z))**2 + (2*K - P + Q - 4*Q*P - 4*Q**2)*(A1(z)*Ac1(z)) -\n",
    "   (K - P/2 + Q/2)**2)\n",
    "Eq(Derivative(A1(z)*Ac1(z),z)**2, P1pSqrd)"
   ]
  },
  {
   "cell_type": "code",
   "execution_count": null,
   "metadata": {
    "scrolled": true
   },
   "outputs": [],
   "source": [
    "(diff(A1(z)*Ac1(z),z)**2 - P1pSqrd).subs(diff_subs + conserved_subs).simplify()"
   ]
  },
  {
   "cell_type": "code",
   "execution_count": null,
   "metadata": {},
   "outputs": [],
   "source": [
    "p1val = (P/3 - Rational(1,12) + Q)\n",
    "p2val = (P/3 - Rational(1,12) - Q)\n",
    "p3val = (2*K - P + Q)\n",
    "g2val = 4*(p1val**2 + p1val*p2val + p2val**2) + 2*p3val - p1val + p2val\n",
    "g3val = (p1val - p3val)**2 - 4*(p1val*p2val**2 + p2val*p1val**2) - p1val*p2val"
   ]
  },
  {
   "cell_type": "code",
   "execution_count": null,
   "metadata": {},
   "outputs": [],
   "source": [
    "Eq(W1(z), p1 - 2*A1(z)*Ac1(z))"
   ]
  },
  {
   "cell_type": "code",
   "execution_count": null,
   "metadata": {},
   "outputs": [],
   "source": [
    "eq1 = Eq(4*Derivative(A1(z)*Ac1(z),z)**2, 4*P1pSqrd).subs(Ac1(z), (p1 - W1(z)).subs(p1, p1val)/A1(z)/2).expand()\n",
    "eq2 = Eq(diff(W1(z),z)**2,4*W1(z)**3 - g2*W1(z) - g3)\n",
    "eq2"
   ]
  },
  {
   "cell_type": "code",
   "execution_count": null,
   "metadata": {},
   "outputs": [],
   "source": [
    "Eq(W1(z),pw(z-z0, g2, g3)) # pw = Weierstrass P function"
   ]
  },
  {
   "cell_type": "code",
   "execution_count": null,
   "metadata": {},
   "outputs": [],
   "source": [
    "(eq2.rhs - eq1.rhs).subs([(g2,g2val), (g3,g3val)]).subs([(p1, p1val),(p2,p2val), (p3,p3val)]).simplify()"
   ]
  },
  {
   "cell_type": "code",
   "execution_count": null,
   "metadata": {},
   "outputs": [],
   "source": [
    "eq_pow_1 = Eq(A1(z)*Ac1(z),(p1 - W1(z))/2).subs(W1(z),pw(z-z0, g2, g3))\n",
    "eq_pow_1"
   ]
  },
  {
   "cell_type": "code",
   "execution_count": null,
   "metadata": {},
   "outputs": [],
   "source": [
    "eq_pow_1.subs(p1,p1val)"
   ]
  },
  {
   "cell_type": "code",
   "execution_count": null,
   "metadata": {},
   "outputs": [],
   "source": [
    "eq_pow_1_div = Eq(Derivative(eq_pow_1.lhs,z), diff(eq_pow_1.rhs,z)).subs(diff(pw(z-z0, g2, g3),z),pwp(z-z0, g2, g3))\n",
    "eq_pow_1_div"
   ]
  },
  {
   "cell_type": "markdown",
   "metadata": {},
   "source": [
    "## Solving for the Complex Envelopes via the logarithmic derivative"
   ]
  },
  {
   "cell_type": "code",
   "execution_count": null,
   "metadata": {},
   "outputs": [],
   "source": [
    "eq_logdiv1_a = Eq(diff(A1(z),z)/A1(z), A1p/A1(z)).expand()\n",
    "eq_logdiv1_a"
   ]
  },
  {
   "cell_type": "code",
   "execution_count": null,
   "metadata": {},
   "outputs": [],
   "source": [
    "eq_logdiv1_b = Eq((I*K + I*Q/2 -I*P/2 + Derivative(A1(z)*Ac1(z),z) - I*A1(z)*Ac1(z))/(A1(z)*Ac1(z))/2, \n",
    "   (-I*Pval/2 + I*Qval/2 + I*Kval + diff(A1(z)*Ac1(z),z).subs(diff_subs) - I*A1(z)*Ac1(z))/(A1(z)*Ac1(z))/2\n",
    "  ).expand()\n",
    "eq_logdiv1_b"
   ]
  },
  {
   "cell_type": "code",
   "execution_count": null,
   "metadata": {},
   "outputs": [],
   "source": [
    "eq_logdiv1_c = eq_logdiv1_a.subs(eq_logdiv1_b.rhs,eq_logdiv1_b.lhs)\n",
    "eq_logdiv1_c"
   ]
  },
  {
   "cell_type": "code",
   "execution_count": null,
   "metadata": {},
   "outputs": [],
   "source": [
    "Eq(eq_logdiv1_c.lhs, \n",
    "   eq_logdiv1_c.rhs.subs(eq_pow_1_div.lhs, eq_pow_1_div.rhs).subs(eq_pow_1.lhs/Ac1(z), eq_pow_1.rhs/Ac1(z))\n",
    ").simplify()"
   ]
  },
  {
   "cell_type": "markdown",
   "metadata": {},
   "source": [
    "## Functional Relations"
   ]
  },
  {
   "cell_type": "code",
   "execution_count": null,
   "metadata": {},
   "outputs": [],
   "source": [
    "b1val = 1\n",
    "b2val = 1\n",
    "b3val = 3\n",
    "rho1val = b1val + zw(xi1)\n",
    "rho2val = b2val + zw(xi2)\n",
    "rho3val = b3val + zw(xi3)"
   ]
  },
  {
   "cell_type": "code",
   "execution_count": null,
   "metadata": {},
   "outputs": [],
   "source": [
    "eqq1 = Eq(A1(z),c1*sigma(z-z0 +xi1)/sigma(z-z0)*exp(rho1*z))\n",
    "eqq1"
   ]
  },
  {
   "cell_type": "code",
   "execution_count": null,
   "metadata": {},
   "outputs": [],
   "source": [
    "eqq2 = eqq1.subs(z,-z-xi1+z0).subs([(sigma(-z),-sigma(z)),(sigma(-xi1-z),-sigma(xi1+z))]).subs(z,z-z0)\n",
    "eqq2"
   ]
  },
  {
   "cell_type": "code",
   "execution_count": null,
   "metadata": {},
   "outputs": [],
   "source": [
    "eqq3 = Eq(eqq1.lhs*eqq2.lhs,eqq1.rhs*eqq2.rhs).simplify().subs(z,z+z0-xi1/2)\n",
    "eqq3"
   ]
  },
  {
   "cell_type": "code",
   "execution_count": null,
   "metadata": {},
   "outputs": [],
   "source": [
    "eqq4 = Eq(eqq1.lhs*eqq2.lhs,eqq1.rhs*eqq2.rhs).simplify().subs(z,z+z0-xi1/2).subs(z,0)\n",
    "eqq4"
   ]
  },
  {
   "cell_type": "code",
   "execution_count": null,
   "metadata": {},
   "outputs": [],
   "source": [
    "eqq5 = eqq3.subs(eqq4.lhs,eqq4.rhs)\n",
    "eqq5 = Eq(1, eqq5.rhs/eqq5.lhs)\n",
    "eqq5"
   ]
  },
  {
   "cell_type": "markdown",
   "metadata": {},
   "source": [
    "### Numerical evaluation"
   ]
  },
  {
   "cell_type": "code",
   "execution_count": null,
   "metadata": {},
   "outputs": [],
   "source": [
    "xx = we.p_weierstrass_from_g2_g3(2, 3)(0.1)\n",
    "xx.imag"
   ]
  },
  {
   "cell_type": "code",
   "execution_count": null,
   "metadata": {},
   "outputs": [],
   "source": [
    "mp.plot(we.p_weierstrass_from_g2_g3(2, 3),[0.2,0.25])"
   ]
  },
  {
   "cell_type": "markdown",
   "metadata": {},
   "source": [
    "## Numerical evaluation of the inverse"
   ]
  },
  {
   "cell_type": "code",
   "execution_count": 36,
   "metadata": {},
   "outputs": [
    {
     "data": {
      "text/plain": [
       "45.863000000000056"
      ]
     },
     "execution_count": 36,
     "metadata": {},
     "output_type": "execute_result"
    }
   ],
   "source": [
    "g2_num = 7.7\n",
    "g3_num = 3.9\n",
    "detg = g2_num**3 - 27*g3_num**2\n",
    "detg"
   ]
  },
  {
   "cell_type": "code",
   "execution_count": 37,
   "metadata": {},
   "outputs": [
    {
     "data": {
      "text/plain": [
       "[-0.94528663204419 + 0.e-20*I,\n",
       " -0.647546349819772 - 0.e-23*I,\n",
       " 1.59283298186396 - 0.e-21*I]"
      ]
     },
     "execution_count": 37,
     "metadata": {},
     "output_type": "execute_result"
    }
   ],
   "source": [
    "e_roots = solve((4*s**3 - g2*s - g3).subs([(g2,g2_num),(g3,g3_num)]))\n",
    "e_roots_real = sorted([re(e_) for e_ in e_roots])[::-1]\n",
    "e_g_subs = [\n",
    "    (e1,e_roots_real[0]), (e2,e_roots_real[1]), (e3,e_roots_real[2]), (g2,g2_num), (g3,g3_num)\n",
    "]\n",
    "e_roots"
   ]
  },
  {
   "cell_type": "code",
   "execution_count": 38,
   "metadata": {},
   "outputs": [
    {
     "data": {
      "text/plain": [
       "[1.59283298186396, -0.647546349819772, -0.945286632044190]"
      ]
     },
     "execution_count": 38,
     "metadata": {},
     "output_type": "execute_result"
    }
   ],
   "source": [
    "e_roots_real"
   ]
  },
  {
   "cell_type": "code",
   "execution_count": 44,
   "metadata": {},
   "outputs": [
    {
     "data": {
      "text/latex": [
       "$\\displaystyle w_{1} = \\int\\limits_{e_{1}}^{\\infty} \\frac{1}{\\sqrt{- g_{2} s - g_{3} + 4 s^{3}}}\\, ds$"
      ],
      "text/plain": [
       "Eq(w1, Integral(1/sqrt(-g2*s - g3 + 4*s**3), (s, e1, oo)))"
      ]
     },
     "execution_count": 44,
     "metadata": {},
     "output_type": "execute_result"
    }
   ],
   "source": [
    "w1_int = Integral(1/sqrt(4*s**3 - g2*s - g3),(s,e1,oo))\n",
    "Eq(w1, w1_int)"
   ]
  },
  {
   "cell_type": "code",
   "execution_count": 45,
   "metadata": {},
   "outputs": [
    {
     "data": {
      "text/latex": [
       "$\\displaystyle w_{1} = 1.0169646 - 2.3270147 \\cdot 10^{-9} i$"
      ],
      "text/plain": [
       "Eq(w1, 1.0169646 - 2.3270147e-9*I)"
      ]
     },
     "execution_count": 45,
     "metadata": {},
     "output_type": "execute_result"
    }
   ],
   "source": [
    "Eq(w1, w1_int.subs(e_g_subs).evalf())"
   ]
  },
  {
   "cell_type": "code",
   "execution_count": 46,
   "metadata": {},
   "outputs": [
    {
     "data": {
      "text/latex": [
       "$\\displaystyle w_{3} = i \\int\\limits_{-\\infty}^{e_{3}} \\frac{1}{\\sqrt{g_{2} s + g_{3} - 4 s^{3}}}\\, ds$"
      ],
      "text/plain": [
       "Eq(w3, I*Integral(1/sqrt(g2*s + g3 - 4*s**3), (s, -oo, e3)))"
      ]
     },
     "execution_count": 46,
     "metadata": {},
     "output_type": "execute_result"
    }
   ],
   "source": [
    "w3_int = I*Integral(1/sqrt(-4*s**3 + g2*s + g3),(s,-oo,e3))\n",
    "Eq(w3, w3_int)"
   ]
  },
  {
   "cell_type": "code",
   "execution_count": 47,
   "metadata": {},
   "outputs": [
    {
     "data": {
      "text/latex": [
       "$\\displaystyle w_{3} = 1.510772 \\cdot 10^{-8} + 1.571251 i$"
      ],
      "text/plain": [
       "Eq(w3, 1.510772e-8 + 1.571251*I)"
      ]
     },
     "execution_count": 47,
     "metadata": {},
     "output_type": "execute_result"
    }
   ],
   "source": [
    "Eq(w3, w3_int.subs(e_g_subs).evalf())"
   ]
  },
  {
   "cell_type": "code",
   "execution_count": 16,
   "metadata": {},
   "outputs": [
    {
     "data": {
      "text/latex": [
       "$\\displaystyle z_{0} = - \\int\\limits_{\\operatorname{pw}{\\left(z_{0} \\right)}}^{\\infty} \\frac{1}{\\sqrt{- g_{2} s - g_{3} + 4 s^{3}}}\\, ds$"
      ],
      "text/plain": [
       "Eq(z0, -Integral(1/sqrt(-g2*s - g3 + 4*s**3), (s, pw(z0), oo)))"
      ]
     },
     "execution_count": 16,
     "metadata": {},
     "output_type": "execute_result"
    }
   ],
   "source": [
    "Eq(z0,-Integral(1/sqrt(4*s**3 - g2*s - g3),(s,pw(z0),oo)))"
   ]
  },
  {
   "cell_type": "code",
   "execution_count": 110,
   "metadata": {},
   "outputs": [
    {
     "data": {
      "text/plain": [
       "mpc(real='-0.55865093468115024', imag='0.82940287748468611')"
      ]
     },
     "execution_count": 110,
     "metadata": {},
     "output_type": "execute_result"
    }
   ],
   "source": [
    "tau = wst.tau_from_g(g2_num, g3_num)\n",
    "# tau\n",
    "wst.tau_from_g(1.0, 2.0)"
   ]
  },
  {
   "cell_type": "code",
   "execution_count": 81,
   "metadata": {},
   "outputs": [
    {
     "data": {
      "text/plain": [
       "(mpc(real='0.71560179636113119', imag='-0.44682185464841645'),\n",
       " mpc(real='0.7818888454580385', imag='0.8064867148278273'),\n",
       " mpc(real='1.4974906418191698', imag='0.35966486017941085'))"
      ]
     },
     "execution_count": 81,
     "metadata": {},
     "output_type": "execute_result"
    }
   ],
   "source": [
    "g2_num = mpc(real='-10.55865093468115024', imag='11.82940287748468611')\n",
    "g3_num = mpc(real='-12.765093468115024', imag='-0.940287748468611')\n",
    "omega_1_2_3 = wst.omega_from_g(g2_num, g3_num)\n",
    "omega_1_2_3"
   ]
  },
  {
   "cell_type": "code",
   "execution_count": 90,
   "metadata": {},
   "outputs": [
    {
     "name": "stdout",
     "output_type": "stream",
     "text": [
      "g2 within tolerance True\n",
      "g3 within tolerance True\n"
     ]
    }
   ],
   "source": [
    "omega1, omega2, omega3 = wst.omega_from_g(g2_num, g3_num)\n",
    "g2calc, g3calc = wst.g_from_omega(omega1, omega2)\n",
    "print('g2 within tolerance', almosteq(g2_num, g2calc, 1e-12))\n",
    "print('g3 within tolerance', almosteq(g3_num, g3calc, 1e-12))"
   ]
  },
  {
   "cell_type": "code",
   "execution_count": 93,
   "metadata": {},
   "outputs": [],
   "source": [
    "from random import random"
   ]
  },
  {
   "cell_type": "code",
   "execution_count": 166,
   "metadata": {},
   "outputs": [
    {
     "name": "stdout",
     "output_type": "stream",
     "text": [
      "Error with g2=(-87.2390836265858 - 18.170073642737j) g3=(0.0816918159564306 + 0.162802345653268j) \n",
      " g2calc=(-87.2390836202384 - 18.1700736958184j) not within tolerance for g2_num=(-87.2390836265858 - 18.170073642737j)g3calc=(0.0816918158633445 + 0.162802345710565j) not within tolerance for g3_num=(0.0816918159564306 + 0.162802345653268j)\n",
      "Error with g2=(94.8546857064889 + 99.8833367192326j) g3=(2.99060312604955 + 0.311671975571981j) \n",
      " g2calc=(94.8546856836903 + 99.8833367222362j) not within tolerance for g2_num=(94.8546857064889 + 99.8833367192326j)g3calc=(2.99060312571385 + 0.311671975945298j) not within tolerance for g3_num=(2.99060312604955 + 0.311671975571981j)\n",
      "Error with g2=(-32.0571823955753 + 78.9985951679579j) g3=(0.507036453962373 + 0.991239011865264j) \n",
      " g2calc=(-32.057182383323 + 78.9985951587802j) not within tolerance for g2_num=(-32.0571823955753 + 78.9985951679579j)g3calc=(0.507036453976306 + 0.991239011665867j) not within tolerance for g3_num=(0.507036453962373 + 0.991239011865264j)\n",
      "Error with g2=(67.6225000094047 + 45.4839530768637j) g3=(-0.836861643296327 - 0.702051669656933j) \n",
      " g2calc=(67.6225000153213 + 45.4839530846617j) not within tolerance for g2_num=(67.6225000094047 + 45.4839530768637j)g3calc=(-0.836861643364197 - 0.702051669769279j) not within tolerance for g3_num=(-0.836861643296327 - 0.702051669656933j)\n",
      "Error with g2=(61.569326399075 - 93.5795914144929j) g3=(-0.945998038822604 + 0.647176938376703j) \n",
      " g2calc=(61.5693264193433 - 93.5795914062188j) not within tolerance for g2_num=(61.569326399075 - 93.5795914144929j)g3calc=(-0.945998038982477 + 0.64717693821984j) not within tolerance for g3_num=(-0.945998038822604 + 0.647176938376703j)\n",
      "Error with g2=(-98.406932899292 + 73.4947650221544j) g3=(0.999622176027648 + 1.78392711023068j) \n",
      " g2calc=(-98.4069328982056 + 73.4947649945579j) not within tolerance for g2_num=(-98.406932899292 + 73.4947650221544j)g3calc=(0.999622175574525 + 1.78392711015291j) not within tolerance for g3_num=(0.999622176027648 + 1.78392711023068j)\n",
      "Error with g2=(78.1502039476175 - 69.433142094044j) g3=(-0.92579377831945 - 2.06490734090703j) \n",
      " g2calc=(78.1502039407431 - 69.4331421060312j) not within tolerance for g2_num=(78.1502039476175 - 69.433142094044j)g3calc=(-0.925793778611798 - 2.06490734084285j) not within tolerance for g3_num=(-0.92579377831945 - 2.06490734090703j)\n",
      "Error with g2=(-0.300182666907367 - 0.23834286201494j) g3=(-10.4460446737952 - 91.3367361405231j) \n",
      " g3calc=(-10.4460446878834 - 91.3367361366571j) not within tolerance for g3_num=(-10.4460446737952 - 91.3367361405231j)\n",
      "Error with g2=(7.09325042754381 + 88.8703243038895j) g3=(1.85591553071569 + 0.701789282894327j) \n",
      " g2calc=(7.09325043388492 + 88.8703242934236j) not within tolerance for g2_num=(7.09325042754381 + 88.8703243038895j)g3calc=(1.85591553056527 + 0.701789282667176j) not within tolerance for g3_num=(1.85591553071569 + 0.701789282894327j)\n",
      "Error with g2=(-63.8606681081636 + 76.6328801958788j) g3=(0.380778006075122 + 1.69053386606404j) \n",
      " g2calc=(-63.860668083696 + 76.6328801983106j) not within tolerance for g2_num=(-63.8606681081636 + 76.6328801958788j)g3calc=(0.380778006367394 + 1.69053386575247j) not within tolerance for g3_num=(0.380778006075122 + 1.69053386606404j)\n",
      "0.0001\n"
     ]
    }
   ],
   "source": [
    "Ntests = 100000\n",
    "num_span = 100\n",
    "tolerance=1e-10\n",
    "err_count = 0\n",
    "for _ in range(Ntests):\n",
    "    try:\n",
    "        g2_num = mpc(real=f'{2*num_span*(random() - 0.5)}', imag=f'{2*num_span*(random() - 0.5)}')\n",
    "        g3_num = mpc(real=f'{2*num_span*(random() - 0.5)}', imag=f'{2*num_span*(random() - 0.5)}')\n",
    "        omega1, omega2, omega3 = wst.omega_from_g(g2_num, g3_num, tolerance)\n",
    "        if im(omega2/omega1) <= 0:\n",
    "            omega2 = -omega2\n",
    "        g2calc, g3calc = wst.g_from_omega(omega1, omega2)\n",
    "        err_1 = False\n",
    "        err_2 = False\n",
    "        if not almosteq(g2_num, g2calc, tolerance):\n",
    "            err_msg_1 = f'g2calc={g2calc} not within tolerance for g2_num={g2_num}'\n",
    "            err_1 = True\n",
    "        if not almosteq(g3_num, g3calc, tolerance):\n",
    "            err_msg_2 = f'g3calc={g3calc} not within tolerance for g3_num={g3_num}'\n",
    "            err_2 =True\n",
    "        err_msg = \"\"\n",
    "        if err_1:\n",
    "            err_msg += err_msg_1\n",
    "        if err_2:\n",
    "            err_msg += err_msg_2\n",
    "        if err_1 or err_2:\n",
    "            raise Exception(err_msg)\n",
    "            \n",
    "    except Exception as e:\n",
    "        print(f'Error with g2={g2_num} g3={g3_num} \\n {e}')\n",
    "        err_count += 1\n",
    "        \n",
    "err_rate = err_count / Ntests\n",
    "print(err_rate)"
   ]
  },
  {
   "cell_type": "code",
   "execution_count": 128,
   "metadata": {},
   "outputs": [
    {
     "data": {
      "text/plain": [
       "(mpc(real='0.56869477011762493', imag='-0.24107339155797242'),\n",
       " mpc(real='0.81035313180627955', imag='0.32397209994515747'),\n",
       " mpc(real='0.24165836168865465', imag='0.56504549150312988'))"
      ]
     },
     "execution_count": 128,
     "metadata": {},
     "output_type": "execute_result"
    }
   ],
   "source": [
    "g2_num = mpc(real=f'{2*num_span*(random() - 0.5)}', imag=f'{2*num_span*(random() - 0.5)}')\n",
    "g3_num = mpc(real=f'{2*num_span*(random() - 0.5)}', imag=f'{2*num_span*(random() - 0.5)}')\n",
    "omega1, omega2, omega3 = wst.omega_from_g(g2_num, g3_num, tolerance)\n",
    "omega1, omega2, omega3"
   ]
  },
  {
   "cell_type": "code",
   "execution_count": 135,
   "metadata": {},
   "outputs": [
    {
     "data": {
      "text/plain": [
       "(mpc(real='3.1340267162420519', imag='3.2448792537401108'),\n",
       " mpc(real='0.0080373605995728778', imag='0.038803794965709272'),\n",
       " mpc(real='-3.142064076841625', imag='-3.2836830487058197'))"
      ]
     },
     "execution_count": 135,
     "metadata": {},
     "output_type": "execute_result"
    }
   ],
   "source": [
    "wst.sorted_roots_from_omega1_omega2(omega1, omega2)"
   ]
  },
  {
   "cell_type": "code",
   "execution_count": 136,
   "metadata": {},
   "outputs": [
    {
     "data": {
      "text/plain": [
       "(mpc(real='3.1340267162287274', imag='3.2448792537431363'),\n",
       " mpc(real='0.0080373605995724805', imag='0.038803794965709584'),\n",
       " mpc(real='-3.1420640768283001', imag='-3.2836830487088458'))"
      ]
     },
     "execution_count": 136,
     "metadata": {},
     "output_type": "execute_result"
    }
   ],
   "source": [
    "wst.sorted_roots_from_g2_g3(g2_num, g3_num)"
   ]
  },
  {
   "cell_type": "code",
   "execution_count": 162,
   "metadata": {},
   "outputs": [
    {
     "name": "stdout",
     "output_type": "stream",
     "text": [
      "0.00028461000183597205\n",
      "0.0015878699021413922\n"
     ]
    }
   ],
   "source": [
    "from mpmath import timing\n",
    "g2_num = mpc(real=f'{2*num_span*(random() - 0.5)}', imag=f'{2*num_span*(random() - 0.5)}')\n",
    "g3_num = mpc(real=f'{2*num_span*(random() - 0.5)}', imag=f'{2*num_span*(random() - 0.5)}')\n",
    "omega1, omega2, omega3 = wst.omega_from_g(g2_num, g3_num, tolerance)\n",
    "omega1, omega2, omega3\n",
    "if im(omega2/omega1) <= 0:\n",
    "    omega2 = -omega2\n",
    "print(timing(wst.sorted_roots_from_omega1_omega2,omega1, omega2))\n",
    "print(timing(wst.sorted_roots_from_g2_g3,g2_num,g3_num))"
   ]
  },
  {
   "cell_type": "code",
   "execution_count": null,
   "metadata": {},
   "outputs": [],
   "source": []
  }
 ],
 "metadata": {
  "kernelspec": {
   "display_name": "Python 3",
   "language": "python",
   "name": "python3"
  },
  "language_info": {
   "codemirror_mode": {
    "name": "ipython",
    "version": 3
   },
   "file_extension": ".py",
   "mimetype": "text/x-python",
   "name": "python",
   "nbconvert_exporter": "python",
   "pygments_lexer": "ipython3",
   "version": "3.8.10"
  }
 },
 "nbformat": 4,
 "nbformat_minor": 4
}
