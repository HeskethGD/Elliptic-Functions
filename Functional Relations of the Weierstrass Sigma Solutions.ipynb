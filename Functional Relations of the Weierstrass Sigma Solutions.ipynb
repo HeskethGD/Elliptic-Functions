{
 "cells": [
  {
   "cell_type": "markdown",
   "metadata": {},
   "source": [
    "# Functional Relations of the Weierstrass Sigma Solutions"
   ]
  },
  {
   "cell_type": "code",
   "execution_count": 2,
   "metadata": {},
   "outputs": [],
   "source": [
    "from sympy import *\n",
    "(x, y, n, m, K, P, Q, k, epsilon, z, s, p1, p2, p3, g2, g3,c1, c2, c3, \n",
    " z0, xi1, xi2, xi3, rho1, rho2, rho3, w1, w2, w3, e1, e2, e3, Delta) = symbols(\n",
    "    '''x, y, n, m, K, P, Q, k, epsilon, z, s, p1, p2, p3, g2, g3, c1, c2, c3,\n",
    "    z0, xi1, xi2, xi3, rho1, rho2, rho3, w1, w2, w3, e1, e2, e3, Delta'''\n",
    ")\n",
    "alpha, delta, t, nu, epsilon, theta = symbols('alpha, delta, t, nu, epsilon, theta')\n",
    "pw = Function('pw') # Weierstrass P function\n",
    "pwp = Function('pwp') # Derivative of Weierstrass P function\n",
    "zw = Function('zw') # Weierstrass Zeta function\n",
    "sigma = Function('sigma') # Weierstrass Sigma function\n",
    "f = Function('f')\n",
    "phi = Function('phi')\n",
    "phi1 = Function('phi1')\n",
    "phi2 = Function('phi2')\n",
    "phi3 = Function('phi3')\n",
    "A = Function('A')\n",
    "Ac = Function('Ac')\n",
    "A1 = Function('A1')\n",
    "A2 = Function('A2')\n",
    "A3 = Function('A3')\n",
    "Ac1 = Function('Ac1')\n",
    "Ac2 = Function('Ac2')\n",
    "Ac3 = Function('Ac3')\n",
    "A4 = Function('A4')\n",
    "A5 = Function('A5')\n",
    "A6 = Function('A6')\n",
    "A7 = Function('A7')\n",
    "A8 = Function('A8')\n",
    "W1 = Function('W1')\n",
    "W2 = Function('W2')\n",
    "W3 = Function('W3')\n",
    "W4 = Function('W4')\n",
    "W5 = Function('W5')\n",
    "W6 = Function('W6')\n",
    "p = IndexedBase('p')\n",
    "\n",
    "mu = Function('mu')\n",
    "kappa = IndexedBase('kappa')\n",
    "beta = IndexedBase('beta')\n",
    "a = IndexedBase('a')\n",
    "\n",
    "%load_ext autoreload\n",
    "%autoreload 2\n",
    "# from weierstrass_elliptic import WeierstrassElliptic\n",
    "# we = WeierstrassElliptic()"
   ]
  },
  {
   "cell_type": "code",
   "execution_count": 3,
   "metadata": {},
   "outputs": [],
   "source": [
    "b1val = 1\n",
    "b2val = 1\n",
    "b3val = 3\n",
    "rho1val = b1val + zw(xi1)\n",
    "rho2val = b2val + zw(xi2)\n",
    "rho3val = b3val + zw(xi3)"
   ]
  },
  {
   "cell_type": "code",
   "execution_count": 4,
   "metadata": {},
   "outputs": [
    {
     "data": {
      "text/latex": [
       "$\\displaystyle \\operatorname{A_{1}}{\\left(z \\right)} = \\frac{c_{1} \\sigma{\\left(\\xi_{1} + z - z_{0} \\right)} e^{\\rho_{1} z}}{\\sigma{\\left(z - z_{0} \\right)}}$"
      ],
      "text/plain": [
       "Eq(A1(z), c1*sigma(xi1 + z - z0)*exp(rho1*z)/sigma(z - z0))"
      ]
     },
     "execution_count": 4,
     "metadata": {},
     "output_type": "execute_result"
    }
   ],
   "source": [
    "eqq1 = Eq(A1(z),c1*sigma(z-z0 +xi1)/sigma(z-z0)*exp(rho1*z))\n",
    "eqq1"
   ]
  },
  {
   "cell_type": "code",
   "execution_count": 5,
   "metadata": {},
   "outputs": [
    {
     "data": {
      "text/latex": [
       "$\\displaystyle \\operatorname{A_{1}}{\\left(- \\xi_{1} - z + 2 z_{0} \\right)} = \\frac{c_{1} \\sigma{\\left(z - z_{0} \\right)} e^{\\rho_{1} \\left(- \\xi_{1} - z + 2 z_{0}\\right)}}{\\sigma{\\left(\\xi_{1} + z - z_{0} \\right)}}$"
      ],
      "text/plain": [
       "Eq(A1(-xi1 - z + 2*z0), c1*sigma(z - z0)*exp(rho1*(-xi1 - z + 2*z0))/sigma(xi1 + z - z0))"
      ]
     },
     "execution_count": 5,
     "metadata": {},
     "output_type": "execute_result"
    }
   ],
   "source": [
    "eqq2 = eqq1.subs(z,-z-xi1+z0).subs([(sigma(-z),-sigma(z)),(sigma(-xi1-z),-sigma(xi1+z))]).subs(z,z-z0)\n",
    "eqq2"
   ]
  },
  {
   "cell_type": "code",
   "execution_count": 6,
   "metadata": {},
   "outputs": [
    {
     "data": {
      "text/latex": [
       "$\\displaystyle c_{1}^{2} e^{\\rho_{1} \\left(- \\xi_{1} + 2 z_{0}\\right)} = \\operatorname{A_{1}}{\\left(- \\frac{\\xi_{1}}{2} - z + z_{0} \\right)} \\operatorname{A_{1}}{\\left(- \\frac{\\xi_{1}}{2} + z + z_{0} \\right)}$"
      ],
      "text/plain": [
       "Eq(c1**2*exp(rho1*(-xi1 + 2*z0)), A1(-xi1/2 - z + z0)*A1(-xi1/2 + z + z0))"
      ]
     },
     "execution_count": 6,
     "metadata": {},
     "output_type": "execute_result"
    }
   ],
   "source": [
    "eqq3 = Eq(eqq1.lhs*eqq2.lhs,eqq1.rhs*eqq2.rhs).simplify().subs(z,z+z0-xi1/2)\n",
    "eqq3"
   ]
  },
  {
   "cell_type": "code",
   "execution_count": 7,
   "metadata": {},
   "outputs": [
    {
     "data": {
      "text/latex": [
       "$\\displaystyle c_{1}^{2} e^{\\rho_{1} \\left(- \\xi_{1} + 2 z_{0}\\right)} = \\operatorname{A_{1}}^{2}{\\left(- \\frac{\\xi_{1}}{2} + z_{0} \\right)}$"
      ],
      "text/plain": [
       "Eq(c1**2*exp(rho1*(-xi1 + 2*z0)), A1(-xi1/2 + z0)**2)"
      ]
     },
     "execution_count": 7,
     "metadata": {},
     "output_type": "execute_result"
    }
   ],
   "source": [
    "eqq4 = Eq(eqq1.lhs*eqq2.lhs,eqq1.rhs*eqq2.rhs).simplify().subs(z,z+z0-xi1/2).subs(z,0)\n",
    "eqq4"
   ]
  },
  {
   "cell_type": "code",
   "execution_count": 8,
   "metadata": {},
   "outputs": [
    {
     "data": {
      "text/latex": [
       "$\\displaystyle 1 = \\frac{\\operatorname{A_{1}}{\\left(- \\frac{\\xi_{1}}{2} - z + z_{0} \\right)} \\operatorname{A_{1}}{\\left(- \\frac{\\xi_{1}}{2} + z + z_{0} \\right)}}{\\operatorname{A_{1}}^{2}{\\left(- \\frac{\\xi_{1}}{2} + z_{0} \\right)}}$"
      ],
      "text/plain": [
       "Eq(1, A1(-xi1/2 - z + z0)*A1(-xi1/2 + z + z0)/A1(-xi1/2 + z0)**2)"
      ]
     },
     "execution_count": 8,
     "metadata": {},
     "output_type": "execute_result"
    }
   ],
   "source": [
    "eqq5 = eqq3.subs(eqq4.lhs,eqq4.rhs)\n",
    "eqq5 = Eq(1, eqq5.rhs/eqq5.lhs)\n",
    "eqq5"
   ]
  },
  {
   "cell_type": "code",
   "execution_count": null,
   "metadata": {},
   "outputs": [],
   "source": []
  }
 ],
 "metadata": {
  "kernelspec": {
   "display_name": "Python 3",
   "language": "python",
   "name": "python3"
  },
  "language_info": {
   "codemirror_mode": {
    "name": "ipython",
    "version": 3
   },
   "file_extension": ".py",
   "mimetype": "text/x-python",
   "name": "python",
   "nbconvert_exporter": "python",
   "pygments_lexer": "ipython3",
   "version": "3.8.10"
  }
 },
 "nbformat": 4,
 "nbformat_minor": 4
}
