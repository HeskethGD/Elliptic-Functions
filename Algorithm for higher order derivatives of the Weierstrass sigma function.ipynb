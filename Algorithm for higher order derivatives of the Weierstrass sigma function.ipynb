{
 "cells": [
  {
   "cell_type": "markdown",
   "id": "4537e090",
   "metadata": {},
   "source": [
    "# Algorithm for higher order derivatives of the Weierstrass sigma function"
   ]
  },
  {
   "cell_type": "code",
   "execution_count": 1,
   "id": "134d43e3",
   "metadata": {},
   "outputs": [],
   "source": [
    "from sympy import *\n",
    "from sympy.core.relational import Equality\n",
    "\n",
    "(z, g2, g3, n, m) = symbols('z, g2, g3, n, m')\n",
    "pw = Function('pw') # Weierstrass P function\n",
    "pwp = Function('pwp') # Derivative of Weierstrass P function\n",
    "zw = Function('zw') # Weierstrass zeta function\n",
    "sigma = Function('sigma') # Weierstrass sigma function\n",
    "from wpk import wpk, wsk, run_tests\n",
    "\n",
    "from IPython.core.interactiveshell import InteractiveShell\n",
    "InteractiveShell.ast_node_interactivity = 'all'\n",
    "\n",
    "%load_ext autoreload\n",
    "%autoreload 2"
   ]
  },
  {
   "cell_type": "code",
   "execution_count": 4,
   "id": "42cec21c",
   "metadata": {},
   "outputs": [
    {
     "name": "stdout",
     "output_type": "stream",
     "text": [
      "True\n",
      "True\n",
      "True\n",
      "True\n",
      "True\n",
      "True\n",
      "True\n",
      "True\n",
      "True\n"
     ]
    }
   ],
   "source": [
    "run_tests()"
   ]
  },
  {
   "cell_type": "code",
   "execution_count": null,
   "id": "441b1366",
   "metadata": {},
   "outputs": [],
   "source": [
    "Eq(Derivative(zw(z, g2, g3), z), -pw(z, g2, g3))"
   ]
  },
  {
   "cell_type": "code",
   "execution_count": null,
   "id": "43bc8858",
   "metadata": {},
   "outputs": [],
   "source": [
    "def nth_diff_zeta(nth_order: int) -> Equality:\n",
    "    \n",
    "    \"\"\"\n",
    "    Builds the symbolic equation for the nth_order derivative of the Weierstrass zeta function.\n",
    "    Odd orders: result is an O((n-1)/2 + 1) polynomial in the Weierstrass P function.\n",
    "    Even orders: result is an O(n/2 - 1) polynomial in the Weierstrass P function, multiplied by P Prime.\n",
    "    \n",
    "    Args: nth_order (int > 0)\n",
    "    \n",
    "    Returns: (sympy.core.relational.Equality)\n",
    "    \n",
    "    Params: g2, g3, Weierstrass elliptic invariants\n",
    "    \"\"\"\n",
    "    if nth_order < 1:\n",
    "        print(\"nth_order must not be less than 1\")\n",
    "        raise\n",
    "        \n",
    "    dzw_pw = Eq(diff(zw(z, g2, g3), (z,nth_order)), -diff(pw(z, g2, g3),(z,nth_order-1)))\n",
    "    if nth_order == 1:\n",
    "        return dzw_pw\n",
    "    nth_order_diff_eq = dzw_pw.subs(*nth_diff_pw(nth_order-1).args)\n",
    "        \n",
    "    return nth_order_diff_eq"
   ]
  },
  {
   "cell_type": "code",
   "execution_count": null,
   "id": "0947cb90",
   "metadata": {},
   "outputs": [],
   "source": [
    "def nth_diff_sigma(nth_order: int) -> Equality:\n",
    "    \n",
    "    \"\"\"\n",
    "    Builds the symbolic equation for the nth_order derivative of the Weierstrass sigma function.\n",
    "    The result is a polynomial in the Weierstrass P, P Prime, zeta, and sigma functions.\n",
    "    \n",
    "    Args: nth_order (int > 0)\n",
    "    \n",
    "    Returns: (sympy.core.relational.Equality)\n",
    "    \n",
    "    Params: g2, g3, Weierstrass elliptic invariants\n",
    "    \"\"\"\n",
    "    \n",
    "    if nth_order < 1:\n",
    "        print(\"nth_order must not be less than 1\")\n",
    "        raise\n",
    "\n",
    "        \n",
    "    def _nth_diff_sigma_nth_diff_zw(nth_order):\n",
    "        if nth_order < 1:\n",
    "            print(\"nth_order must not be less than 1\")\n",
    "            raise\n",
    "        return Eq(diff(sigma(z, g2, g3), (z,nth_order)), \n",
    "                  diff(sigma(z, g2, g3)*zw(z, g2, g3), (z,nth_order-1)).doit()\n",
    "                 )\n",
    "    \n",
    "    if nth_order == 1:\n",
    "        return _nth_diff_sigma_nth_diff_zw(nth_order)\n",
    "        \n",
    "    # Calculate all order diff sigma in terms of diff zw\n",
    "    all_orders_dsigma_dzw = [_nth_diff_sigma_nth_diff_zw(_n) for _n in range(1, nth_order + 1)]\n",
    "    nth_order_dsigma_dzw = all_orders_dsigma_dzw[-1]\n",
    "    for nth_dsigma_dzw in all_orders_dsigma_dzw[0:-1][::-1]:\n",
    "        nth_order_dsigma_dzw = Eq(nth_order_dsigma_dzw.lhs,\n",
    "                                  nth_order_dsigma_dzw.rhs.subs(*nth_dsigma_dzw.args))\n",
    "        \n",
    "    # Substitute for derivatives of Weierstrass zeta in terms of polynomials in Weierstrass P and P Prime\n",
    "    all_orders_dzw_dpw_args = [nth_diff_zeta(_n).args for _n in range(1, nth_order)][::-1]\n",
    "    nth_order_dsigma_dzw = nth_order_dsigma_dzw.subs(all_orders_dzw_dpw_args).expand()\n",
    "        \n",
    "    return nth_order_dsigma_dzw"
   ]
  },
  {
   "cell_type": "code",
   "execution_count": null,
   "id": "a1c5f40d",
   "metadata": {},
   "outputs": [],
   "source": [
    "nth_diff_sigma(1).args\n",
    "nth_diff_sigma(2).args\n",
    "nth_diff_sigma(3).args"
   ]
  },
  {
   "cell_type": "code",
   "execution_count": null,
   "id": "700e8e7c",
   "metadata": {},
   "outputs": [],
   "source": [
    "ch3 = Eq(Derivative(sigma(z, g2, g3), (z, 3)),\n",
    " -pw(z, g2, g3)*sigma(z, g2, g3)*zw(z, g2, g3) + sigma(z, g2, g3)*zw(z, g2, g3)**3 + 2*sigma(z, g2, g3)*zw(z, g2, g3)*Derivative(zw(z, g2, g3), z) - sigma(z, g2, g3)*Derivative(pw(z, g2, g3), z))"
   ]
  },
  {
   "cell_type": "code",
   "execution_count": null,
   "id": "d2095154",
   "metadata": {},
   "outputs": [],
   "source": [
    "nth_diff_sigma(3).lhs - ch3.lhs\n",
    "nth_diff_sigma(3).rhs - ch3.rhs.subs([(diff(pw(z,g2,g3),z), pwp(z,g2,g3)), (diff(zw(z, g2, g3), z), -pw(z, g2, g3))])"
   ]
  },
  {
   "cell_type": "code",
   "execution_count": null,
   "id": "fa8ee748",
   "metadata": {},
   "outputs": [],
   "source": []
  },
  {
   "cell_type": "code",
   "execution_count": null,
   "id": "ca423707",
   "metadata": {},
   "outputs": [],
   "source": []
  }
 ],
 "metadata": {
  "kernelspec": {
   "display_name": "Python 3 (ipykernel)",
   "language": "python",
   "name": "python3"
  },
  "language_info": {
   "codemirror_mode": {
    "name": "ipython",
    "version": 3
   },
   "file_extension": ".py",
   "mimetype": "text/x-python",
   "name": "python",
   "nbconvert_exporter": "python",
   "pygments_lexer": "ipython3",
   "version": "3.11.10"
  }
 },
 "nbformat": 4,
 "nbformat_minor": 5
}
