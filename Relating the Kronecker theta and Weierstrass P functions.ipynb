{
 "cells": [
  {
   "cell_type": "markdown",
   "id": "9b92fc67",
   "metadata": {},
   "source": [
    "# Relating the Kronecker theta and Weierstrass P functions"
   ]
  },
  {
   "cell_type": "code",
   "execution_count": 3,
   "id": "690a1cee",
   "metadata": {},
   "outputs": [],
   "source": [
    "from sympy import *\n",
    "(xi, eta, tau, N, M, n, m, k, l, p, z, x, y, q, a, w, s, g2, g3, omega1, omega2, omega3, x1, x2) = symbols(\n",
    "    '''xi, eta, tau, N, M, n, m, k, l, p, z, x, y, q, a, w, s, g2, g3, omega1, omega2, omega3, x1, x2'''\n",
    ")\n",
    "pw = Function('pw') # Weierstrass P function\n",
    "pwp = Function('pwp') # Derivative of Weierstrass P function\n",
    "zw = Function('zw') # Weierstrass Zeta function\n",
    "sigma = Function('sigma') # Weierstrass Sigma function\n",
    "K = Function('K')\n",
    "f = Function('f')\n",
    "u = Function('u')\n",
    "v = Function('v')\n",
    "\n",
    "from math import prod\n",
    "\n",
    "from IPython.core.interactiveshell import InteractiveShell\n",
    "InteractiveShell.ast_node_interactivity = 'all'\n",
    "\n",
    "from nth_diff_pw import nth_diff_pw"
   ]
  },
  {
   "cell_type": "markdown",
   "id": "aeb69967",
   "metadata": {},
   "source": [
    "## Definition of Kronecker theta\n",
    "\n",
    "For the purposes of this investigation we will define a Kronecker theta function $K(x,y)$ as:"
   ]
  },
  {
   "cell_type": "code",
   "execution_count": 4,
   "id": "6e50eeff",
   "metadata": {},
   "outputs": [
    {
     "data": {
      "text/latex": [
       "$\\displaystyle K{\\left(x,y \\right)} = \\frac{\\sigma{\\left(x - y,g_{2},g_{3} \\right)}}{\\sigma{\\left(x,g_{2},g_{3} \\right)} \\sigma{\\left(y,g_{2},g_{3} \\right)}}$"
      ],
      "text/plain": [
       "Eq(K(x, y), sigma(x - y, g2, g3)/(sigma(x, g2, g3)*sigma(y, g2, g3)))"
      ]
     },
     "execution_count": 4,
     "metadata": {},
     "output_type": "execute_result"
    }
   ],
   "source": [
    "K_xy_sig = Eq(K(x,y), sigma(x - y, g2,g3)/sigma(x,g2,g3)/sigma(y,g2,g3))\n",
    "K_xy_sig"
   ]
  },
  {
   "cell_type": "markdown",
   "id": "3b12ea9a",
   "metadata": {},
   "source": [
    "## Relationship to Weierstrass P"
   ]
  },
  {
   "cell_type": "code",
   "execution_count": 5,
   "id": "d7495c32",
   "metadata": {},
   "outputs": [
    {
     "data": {
      "text/latex": [
       "$\\displaystyle \\operatorname{pw}{\\left(x,g_{2},g_{3} \\right)} - \\operatorname{pw}{\\left(y,g_{2},g_{3} \\right)} = - \\frac{\\sigma{\\left(x - y,g_{2},g_{3} \\right)} \\sigma{\\left(x + y,g_{2},g_{3} \\right)}}{\\sigma^{2}{\\left(x,g_{2},g_{3} \\right)} \\sigma^{2}{\\left(y,g_{2},g_{3} \\right)}}$"
      ],
      "text/plain": [
       "Eq(pw(x, g2, g3) - pw(y, g2, g3), -sigma(x - y, g2, g3)*sigma(x + y, g2, g3)/(sigma(x, g2, g3)**2*sigma(y, g2, g3)**2))"
      ]
     },
     "execution_count": 5,
     "metadata": {},
     "output_type": "execute_result"
    }
   ],
   "source": [
    "p_xy_1 = Eq(pw(x,g2,g3) - pw(y,g2,g3), \n",
    "            -sigma(x - y, g2, g3)*sigma(x + y, g2, g3)/sigma(x, g2, g3)**2/sigma(y, g2, g3)**2)\n",
    "\n",
    "p_xy_1"
   ]
  },
  {
   "cell_type": "code",
   "execution_count": 6,
   "id": "b2225714",
   "metadata": {},
   "outputs": [
    {
     "data": {
      "text/latex": [
       "$\\displaystyle \\operatorname{pw}{\\left(x,g_{2},g_{3} \\right)} - \\operatorname{pw}{\\left(y,g_{2},g_{3} \\right)} = K{\\left(x,- y \\right)} K{\\left(x,y \\right)}$"
      ],
      "text/plain": [
       "Eq(pw(x, g2, g3) - pw(y, g2, g3), K(x, -y)*K(x, y))"
      ]
     },
     "execution_count": 6,
     "metadata": {},
     "output_type": "execute_result"
    },
    {
     "data": {
      "text/latex": [
       "$\\displaystyle \\text{True}$"
      ],
      "text/plain": [
       "True"
      ]
     },
     "execution_count": 6,
     "metadata": {},
     "output_type": "execute_result"
    }
   ],
   "source": [
    "p_xy_K_1 = Eq(pw(x,g2,g3) - pw(y,g2,g3), K(x,y)*K(x,-y))\n",
    "p_xy_K_1\n",
    "\n",
    "p_xy_K_1_check = p_xy_K_1.subs([K_xy_sig.args, K_xy_sig.subs(y,-y).subs(sigma(-y,g2,g3),-sigma(y,g2,g3)).args])\n",
    "\n",
    "Eq(p_xy_K_1_check.lhs - p_xy_1.lhs, p_xy_K_1_check.rhs - p_xy_1.rhs)"
   ]
  },
  {
   "cell_type": "code",
   "execution_count": 7,
   "id": "b0e24154",
   "metadata": {},
   "outputs": [
    {
     "data": {
      "text/latex": [
       "$\\displaystyle \\operatorname{pw}{\\left(x,g_{2},g_{3} \\right)} - \\operatorname{pw}{\\left(y,g_{2},g_{3} \\right)} = - K{\\left(- x,y \\right)} K{\\left(x,y \\right)}$"
      ],
      "text/plain": [
       "Eq(pw(x, g2, g3) - pw(y, g2, g3), -K(-x, y)*K(x, y))"
      ]
     },
     "execution_count": 7,
     "metadata": {},
     "output_type": "execute_result"
    },
    {
     "data": {
      "text/latex": [
       "$\\displaystyle \\text{True}$"
      ],
      "text/plain": [
       "True"
      ]
     },
     "execution_count": 7,
     "metadata": {},
     "output_type": "execute_result"
    }
   ],
   "source": [
    "p_xy_K_2 = Eq(pw(x,g2,g3) - pw(y,g2,g3), -K(x,y)*K(-x,y))\n",
    "p_xy_K_2\n",
    "\n",
    "p_xy_K_2_check = p_xy_K_2.subs([\n",
    "    K_xy_sig.args, \n",
    "    K_xy_sig.subs(x,-x).subs(sigma(-x,g2,g3),-sigma(x,g2,g3)).subs(sigma(-x - y,g2,g3),-sigma(x + y,g2,g3)).args,\n",
    "              ])\n",
    "\n",
    "\n",
    "Eq(p_xy_K_2_check.lhs - p_xy_1.lhs, p_xy_K_2_check.rhs - p_xy_1.rhs)"
   ]
  },
  {
   "cell_type": "markdown",
   "id": "d2626fc6",
   "metadata": {},
   "source": [
    "## Symmetry"
   ]
  },
  {
   "cell_type": "code",
   "execution_count": 8,
   "id": "c2f94bc5",
   "metadata": {},
   "outputs": [
    {
     "data": {
      "text/latex": [
       "$\\displaystyle 0 = K{\\left(- x,y \\right)} + K{\\left(x,- y \\right)}$"
      ],
      "text/plain": [
       "Eq(0, K(-x, y) + K(x, -y))"
      ]
     },
     "execution_count": 8,
     "metadata": {},
     "output_type": "execute_result"
    }
   ],
   "source": [
    "Eq(p_xy_K_1.lhs - p_xy_K_2.lhs, ((p_xy_K_1.rhs - p_xy_K_2.rhs)/K(x,y)).expand())"
   ]
  },
  {
   "cell_type": "markdown",
   "id": "09864679",
   "metadata": {},
   "source": [
    "## Relationship to Weierstrass P Prime"
   ]
  },
  {
   "cell_type": "code",
   "execution_count": 9,
   "id": "d94e18dd",
   "metadata": {},
   "outputs": [
    {
     "data": {
      "text/latex": [
       "$\\displaystyle K{\\left(x,- x \\right)} = - \\frac{\\sigma{\\left(2 x,g_{2},g_{3} \\right)}}{\\sigma^{2}{\\left(x,g_{2},g_{3} \\right)}}$"
      ],
      "text/plain": [
       "Eq(K(x, -x), -sigma(2*x, g2, g3)/sigma(x, g2, g3)**2)"
      ]
     },
     "execution_count": 9,
     "metadata": {},
     "output_type": "execute_result"
    }
   ],
   "source": [
    "K_xy_sig.subs(y,-x).subs(sigma(-x,g2,g3), -sigma(x,g2,g3))"
   ]
  },
  {
   "cell_type": "code",
   "execution_count": 10,
   "id": "d23517c8",
   "metadata": {},
   "outputs": [
    {
     "data": {
      "text/latex": [
       "$\\displaystyle \\frac{\\partial}{\\partial x} \\operatorname{pw}{\\left(x,g_{2},g_{3} \\right)} = K{\\left(x,- y \\right)} \\frac{\\partial}{\\partial x} K{\\left(x,y \\right)} + K{\\left(x,y \\right)} \\frac{\\partial}{\\partial x} K{\\left(x,- y \\right)}$"
      ],
      "text/plain": [
       "Eq(Derivative(pw(x, g2, g3), x), K(x, -y)*Derivative(K(x, y), x) + K(x, y)*Derivative(K(x, -y), x))"
      ]
     },
     "execution_count": 10,
     "metadata": {},
     "output_type": "execute_result"
    }
   ],
   "source": [
    "Eq(diff(p_xy_K_1.lhs,x), diff(p_xy_K_1.rhs,x)) "
   ]
  },
  {
   "cell_type": "code",
   "execution_count": 11,
   "id": "0e222aa7",
   "metadata": {},
   "outputs": [
    {
     "data": {
      "text/latex": [
       "$\\displaystyle - \\frac{\\partial}{\\partial y} \\operatorname{pw}{\\left(y,g_{2},g_{3} \\right)} = K{\\left(x,- y \\right)} \\frac{\\partial}{\\partial y} K{\\left(x,y \\right)} - K{\\left(x,y \\right)} \\left. \\frac{\\partial}{\\partial \\xi_{2}} K{\\left(x,\\xi_{2} \\right)} \\right|_{\\substack{ \\xi_{2}=- y }}$"
      ],
      "text/plain": [
       "Eq(-Derivative(pw(y, g2, g3), y), K(x, -y)*Derivative(K(x, y), y) - K(x, y)*Subs(Derivative(K(x, _xi_2), _xi_2), _xi_2, -y))"
      ]
     },
     "execution_count": 11,
     "metadata": {},
     "output_type": "execute_result"
    }
   ],
   "source": [
    "Eq(diff(p_xy_K_1.lhs,y), diff(p_xy_K_1.rhs,y))"
   ]
  },
  {
   "cell_type": "code",
   "execution_count": 12,
   "id": "e2ef2150",
   "metadata": {},
   "outputs": [
    {
     "data": {
      "text/latex": [
       "$\\displaystyle \\frac{\\partial}{\\partial x} \\operatorname{pw}{\\left(x,g_{2},g_{3} \\right)} - \\frac{\\partial}{\\partial y} \\operatorname{pw}{\\left(y,g_{2},g_{3} \\right)} = - \\frac{K{\\left(x,- y \\right)} \\sigma{\\left(x - y,g_{2},g_{3} \\right)} \\frac{\\partial}{\\partial y} \\sigma{\\left(y,g_{2},g_{3} \\right)}}{\\sigma{\\left(x,g_{2},g_{3} \\right)} \\sigma^{2}{\\left(y,g_{2},g_{3} \\right)}} - \\frac{K{\\left(x,- y \\right)} \\sigma{\\left(x - y,g_{2},g_{3} \\right)} \\frac{\\partial}{\\partial x} \\sigma{\\left(x,g_{2},g_{3} \\right)}}{\\sigma^{2}{\\left(x,g_{2},g_{3} \\right)} \\sigma{\\left(y,g_{2},g_{3} \\right)}} + \\frac{\\sigma{\\left(x - y,g_{2},g_{3} \\right)} \\frac{\\partial}{\\partial x} K{\\left(x,- y \\right)}}{\\sigma{\\left(x,g_{2},g_{3} \\right)} \\sigma{\\left(y,g_{2},g_{3} \\right)}} - \\frac{\\sigma{\\left(x - y,g_{2},g_{3} \\right)} \\left. \\frac{\\partial}{\\partial \\xi_{2}} K{\\left(x,\\xi_{2} \\right)} \\right|_{\\substack{ \\xi_{2}=- y }}}{\\sigma{\\left(x,g_{2},g_{3} \\right)} \\sigma{\\left(y,g_{2},g_{3} \\right)}}$"
      ],
      "text/plain": [
       "Eq(Derivative(pw(x, g2, g3), x) - Derivative(pw(y, g2, g3), y), -K(x, -y)*sigma(x - y, g2, g3)*Derivative(sigma(y, g2, g3), y)/(sigma(x, g2, g3)*sigma(y, g2, g3)**2) - K(x, -y)*sigma(x - y, g2, g3)*Derivative(sigma(x, g2, g3), x)/(sigma(x, g2, g3)**2*sigma(y, g2, g3)) + sigma(x - y, g2, g3)*Derivative(K(x, -y), x)/(sigma(x, g2, g3)*sigma(y, g2, g3)) - sigma(x - y, g2, g3)*Subs(Derivative(K(x, _xi_2), _xi_2), _xi_2, -y)/(sigma(x, g2, g3)*sigma(y, g2, g3)))"
      ]
     },
     "execution_count": 12,
     "metadata": {},
     "output_type": "execute_result"
    }
   ],
   "source": [
    "Eq(diff(p_xy_K_1.lhs,x) + diff(p_xy_K_1.lhs,y), diff(p_xy_K_1.rhs,x) + diff(p_xy_K_1.rhs,y)).subs([\n",
    "    K_xy_sig.args\n",
    "]).doit().expand()"
   ]
  },
  {
   "cell_type": "code",
   "execution_count": 13,
   "id": "d5fcc6e3",
   "metadata": {},
   "outputs": [
    {
     "data": {
      "text/latex": [
       "$\\displaystyle \\frac{2 \\left. \\frac{\\partial}{\\partial \\xi_{1}} \\sigma{\\left(\\xi_{1},g_{2},g_{3} \\right)} \\right|_{\\substack{ \\xi_{1}=2 x }}}{\\sigma^{2}{\\left(x,g_{2},g_{3} \\right)}} - \\frac{2 \\sigma{\\left(2 x,g_{2},g_{3} \\right)} \\frac{\\partial}{\\partial x} \\sigma{\\left(x,g_{2},g_{3} \\right)}}{\\sigma^{3}{\\left(x,g_{2},g_{3} \\right)}}$"
      ],
      "text/plain": [
       "2*Subs(Derivative(sigma(_xi_1, g2, g3), _xi_1), _xi_1, 2*x)/sigma(x, g2, g3)**2 - 2*sigma(2*x, g2, g3)*Derivative(sigma(x, g2, g3), x)/sigma(x, g2, g3)**3"
      ]
     },
     "execution_count": 13,
     "metadata": {},
     "output_type": "execute_result"
    }
   ],
   "source": [
    "diff(sigma(2*x,g2,g3)/sigma(x,g2,g3)**2,x)"
   ]
  },
  {
   "cell_type": "markdown",
   "id": "74218cca",
   "metadata": {},
   "source": [
    "## Logarithmic derivative"
   ]
  },
  {
   "cell_type": "code",
   "execution_count": 14,
   "id": "b81c62cc",
   "metadata": {},
   "outputs": [
    {
     "data": {
      "text/latex": [
       "$\\displaystyle \\frac{\\partial}{\\partial z} \\log{\\left(\\frac{\\sigma{\\left(x + z,g_{2},g_{3} \\right)}}{\\sigma{\\left(x,g_{2},g_{3} \\right)} \\sigma{\\left(z,g_{2},g_{3} \\right)}} \\right)} = \\operatorname{zw}{\\left(x,g_{2},g_{3} \\right)} + \\frac{\\operatorname{pwp}{\\left(x,g_{2},g_{3} \\right)} - \\operatorname{pwp}{\\left(z,g_{2},g_{3} \\right)}}{2 \\operatorname{pw}{\\left(x,g_{2},g_{3} \\right)} - 2 \\operatorname{pw}{\\left(z,g_{2},g_{3} \\right)}}$"
      ],
      "text/plain": [
       "Eq(Derivative(log(sigma(x + z, g2, g3)/(sigma(x, g2, g3)*sigma(z, g2, g3))), z), zw(x, g2, g3) + (pwp(x, g2, g3) - pwp(z, g2, g3))/(2*pw(x, g2, g3) - 2*pw(z, g2, g3)))"
      ]
     },
     "execution_count": 14,
     "metadata": {},
     "output_type": "execute_result"
    },
    {
     "data": {
      "text/latex": [
       "$\\displaystyle \\frac{\\partial}{\\partial z} \\log{\\left(\\frac{\\sigma{\\left(- x + z,g_{2},g_{3} \\right)}}{\\sigma{\\left(x,g_{2},g_{3} \\right)} \\sigma{\\left(z,g_{2},g_{3} \\right)}} \\right)} = - \\operatorname{zw}{\\left(x,g_{2},g_{3} \\right)} + \\frac{- \\operatorname{pwp}{\\left(x,g_{2},g_{3} \\right)} - \\operatorname{pwp}{\\left(z,g_{2},g_{3} \\right)}}{2 \\operatorname{pw}{\\left(x,g_{2},g_{3} \\right)} - 2 \\operatorname{pw}{\\left(z,g_{2},g_{3} \\right)}}$"
      ],
      "text/plain": [
       "Eq(Derivative(log(sigma(-x + z, g2, g3)/(sigma(x, g2, g3)*sigma(z, g2, g3))), z), -zw(x, g2, g3) + (-pwp(x, g2, g3) - pwp(z, g2, g3))/(2*pw(x, g2, g3) - 2*pw(z, g2, g3)))"
      ]
     },
     "execution_count": 14,
     "metadata": {},
     "output_type": "execute_result"
    }
   ],
   "source": [
    "log_kron_diff = Eq(Derivative(log(sigma(x + z, g2, g3)/(sigma(x, g2, g3)*sigma(z, g2, g3))), z),\n",
    " zw(x, g2, g3) + (pwp(x, g2, g3) - pwp(z, g2, g3))/(2*(pw(x, g2, g3) - pw(z, g2, g3)))\n",
    "  )\n",
    "\n",
    "# Note: the minus sign is ignored inside the log as the derivative would kill the 2*I*pi anyway\n",
    "log_kron_diff_conj = log_kron_diff.subs(x,-x).subs([\n",
    "    (pwp(-x,g2,g3), -pwp(x,g2,g3)), (pw(-x,g2,g3), pw(x,g2,g3)), (zw(-x,g2,g3), -zw(x,g2,g3))\n",
    "]).subs(sigma(-x,g2,g3), sigma(x,g2,g3))\n",
    "\n",
    "log_kron_diff\n",
    "log_kron_diff_conj"
   ]
  },
  {
   "cell_type": "code",
   "execution_count": 17,
   "id": "b6a2b0a2",
   "metadata": {},
   "outputs": [
    {
     "data": {
      "text/latex": [
       "$\\displaystyle \\frac{\\partial}{\\partial z} \\log{\\left(\\frac{\\sigma{\\left(x + z,g_{2},g_{3} \\right)} e^{- z \\operatorname{zw}{\\left(x,g_{2},g_{3} \\right)}}}{\\sigma{\\left(x,g_{2},g_{3} \\right)} \\sigma{\\left(z,g_{2},g_{3} \\right)}} \\right)} = \\frac{\\operatorname{pwp}{\\left(x,g_{2},g_{3} \\right)} - \\operatorname{pwp}{\\left(z,g_{2},g_{3} \\right)}}{2 \\operatorname{pw}{\\left(x,g_{2},g_{3} \\right)} - 2 \\operatorname{pw}{\\left(z,g_{2},g_{3} \\right)}}$"
      ],
      "text/plain": [
       "Eq(Derivative(log(sigma(x + z, g2, g3)*exp(-z*zw(x, g2, g3))/(sigma(x, g2, g3)*sigma(z, g2, g3))), z), (pwp(x, g2, g3) - pwp(z, g2, g3))/(2*pw(x, g2, g3) - 2*pw(z, g2, g3)))"
      ]
     },
     "execution_count": 17,
     "metadata": {},
     "output_type": "execute_result"
    },
    {
     "data": {
      "text/latex": [
       "$\\displaystyle \\frac{\\partial}{\\partial z} \\log{\\left(\\frac{\\sigma{\\left(- x + z,g_{2},g_{3} \\right)} e^{z \\operatorname{zw}{\\left(x,g_{2},g_{3} \\right)}}}{\\sigma{\\left(x,g_{2},g_{3} \\right)} \\sigma{\\left(z,g_{2},g_{3} \\right)}} \\right)} = \\frac{- \\operatorname{pwp}{\\left(x,g_{2},g_{3} \\right)} - \\operatorname{pwp}{\\left(z,g_{2},g_{3} \\right)}}{2 \\operatorname{pw}{\\left(x,g_{2},g_{3} \\right)} - 2 \\operatorname{pw}{\\left(z,g_{2},g_{3} \\right)}}$"
      ],
      "text/plain": [
       "Eq(Derivative(log(sigma(-x + z, g2, g3)*exp(z*zw(x, g2, g3))/(sigma(x, g2, g3)*sigma(z, g2, g3))), z), (-pwp(x, g2, g3) - pwp(z, g2, g3))/(2*pw(x, g2, g3) - 2*pw(z, g2, g3)))"
      ]
     },
     "execution_count": 17,
     "metadata": {},
     "output_type": "execute_result"
    }
   ],
   "source": [
    "log_diff_kron2 = Eq(Derivative(log(sigma(x + z, g2, g3)/(sigma(x, g2, g3)*sigma(z, g2, g3))*exp(-zw(x, g2, g3)*z)), z),\n",
    "(pwp(x, g2, g3) - pwp(z, g2, g3))/(2*pw(x, g2, g3) - 2*pw(z, g2, g3))\n",
    "  )\n",
    "\n",
    "log_diff_kron2_conj = Eq(Derivative(log(sigma(-x + z, g2, g3)/(sigma(x, g2, g3)*sigma(z, g2, g3))*exp(zw(x, g2, g3)*z)), z),\n",
    "(-pwp(x, g2, g3) - pwp(z, g2, g3))/(2*pw(x, g2, g3) - 2*pw(z, g2, g3))\n",
    "  )\n",
    "\n",
    "log_diff_kron2\n",
    "log_diff_kron2_conj"
   ]
  },
  {
   "cell_type": "code",
   "execution_count": 21,
   "id": "77617add",
   "metadata": {},
   "outputs": [
    {
     "data": {
      "text/latex": [
       "$\\displaystyle \\frac{\\left(\\operatorname{pwp}{\\left(x,g_{2},g_{3} \\right)} - \\operatorname{pwp}{\\left(z,g_{2},g_{3} \\right)}\\right)^{2}}{4 \\left(\\operatorname{pw}{\\left(x,g_{2},g_{3} \\right)} - \\operatorname{pw}{\\left(z,g_{2},g_{3} \\right)}\\right)^{2}} = \\operatorname{pw}{\\left(x,g_{2},g_{3} \\right)} + \\operatorname{pw}{\\left(z,g_{2},g_{3} \\right)} + \\operatorname{pw}{\\left(x + z,g_{2},g_{3} \\right)}$"
      ],
      "text/plain": [
       "Eq((pwp(x, g2, g3) - pwp(z, g2, g3))**2/(4*(pw(x, g2, g3) - pw(z, g2, g3))**2), pw(x, g2, g3) + pw(z, g2, g3) + pw(x + z, g2, g3))"
      ]
     },
     "execution_count": 21,
     "metadata": {},
     "output_type": "execute_result"
    }
   ],
   "source": [
    "pw_xy_addition = Eq(\n",
    "   ((pwp(x, g2, g3) - pwp(z, g2, g3))**2/(pw(x, g2, g3) - pw(z, g2, g3))**2)/4,\n",
    "    pw(x+z,g2,g3)+ pw(x, g2, g3) + pw(z, g2, g3)\n",
    ")\n",
    "pw_xy_addition"
   ]
  },
  {
   "cell_type": "code",
   "execution_count": 23,
   "id": "da102b49",
   "metadata": {},
   "outputs": [
    {
     "data": {
      "text/latex": [
       "$\\displaystyle \\left(\\frac{\\partial}{\\partial z} \\log{\\left(\\frac{\\sigma{\\left(x + z,g_{2},g_{3} \\right)} e^{- z \\operatorname{zw}{\\left(x,g_{2},g_{3} \\right)}}}{\\sigma{\\left(x,g_{2},g_{3} \\right)} \\sigma{\\left(z,g_{2},g_{3} \\right)}} \\right)}\\right)^{2} = \\operatorname{pw}{\\left(x,g_{2},g_{3} \\right)} + \\operatorname{pw}{\\left(z,g_{2},g_{3} \\right)} + \\operatorname{pw}{\\left(x + z,g_{2},g_{3} \\right)}$"
      ],
      "text/plain": [
       "Eq(Derivative(log(sigma(x + z, g2, g3)*exp(-z*zw(x, g2, g3))/(sigma(x, g2, g3)*sigma(z, g2, g3))), z)**2, pw(x, g2, g3) + pw(z, g2, g3) + pw(x + z, g2, g3))"
      ]
     },
     "execution_count": 23,
     "metadata": {},
     "output_type": "execute_result"
    }
   ],
   "source": [
    "log_diff_kron3 = Eq(log_diff_kron2.lhs**2, (log_diff_kron2.rhs**2).simplify().subs(*pw_xy_addition.args))\n",
    "log_diff_kron3"
   ]
  },
  {
   "cell_type": "code",
   "execution_count": 41,
   "id": "9a7ac1a4",
   "metadata": {},
   "outputs": [
    {
     "data": {
      "text/latex": [
       "$\\displaystyle \\frac{\\left(\\frac{\\partial}{\\partial z} K{\\left(x,z \\right)}\\right)^{2}}{K^{2}{\\left(x,z \\right)}} = \\operatorname{pw}{\\left(x,g_{2},g_{3} \\right)} + \\operatorname{pw}{\\left(z,g_{2},g_{3} \\right)} + \\operatorname{pw}{\\left(x + z,g_{2},g_{3} \\right)}$"
      ],
      "text/plain": [
       "Eq(Derivative(K(x, z), z)**2/K(x, z)**2, pw(x, g2, g3) + pw(z, g2, g3) + pw(x + z, g2, g3))"
      ]
     },
     "execution_count": 41,
     "metadata": {},
     "output_type": "execute_result"
    }
   ],
   "source": [
    "__x = log_diff_kron3.subs(\n",
    "    sigma(x + z, g2, g3)*exp(-z*zw(x, g2, g3))/(sigma(x, g2, g3)*sigma(z, g2, g3)), K(x,z)\n",
    ").doit()\n",
    "__x"
   ]
  },
  {
   "cell_type": "code",
   "execution_count": 42,
   "id": "d8a8fecf",
   "metadata": {},
   "outputs": [
    {
     "data": {
      "text/latex": [
       "$\\displaystyle \\frac{2 \\frac{\\partial}{\\partial z} K{\\left(x,z \\right)} \\frac{\\partial^{2}}{\\partial z^{2}} K{\\left(x,z \\right)}}{K^{2}{\\left(x,z \\right)}} - \\frac{2 \\left(\\frac{\\partial}{\\partial z} K{\\left(x,z \\right)}\\right)^{3}}{K^{3}{\\left(x,z \\right)}} = \\frac{\\partial}{\\partial z} \\operatorname{pw}{\\left(z,g_{2},g_{3} \\right)} + \\left. \\frac{\\partial}{\\partial \\xi_{1}} \\operatorname{pw}{\\left(\\xi_{1},g_{2},g_{3} \\right)} \\right|_{\\substack{ \\xi_{1}=x + z }}$"
      ],
      "text/plain": [
       "Eq(2*Derivative(K(x, z), z)*Derivative(K(x, z), (z, 2))/K(x, z)**2 - 2*Derivative(K(x, z), z)**3/K(x, z)**3, Derivative(pw(z, g2, g3), z) + Subs(Derivative(pw(_xi_1, g2, g3), _xi_1), _xi_1, x + z))"
      ]
     },
     "execution_count": 42,
     "metadata": {},
     "output_type": "execute_result"
    }
   ],
   "source": [
    "Eq(diff(__x.lhs,z), diff(__x.rhs,z))"
   ]
  },
  {
   "cell_type": "code",
   "execution_count": 31,
   "id": "70b0a3db",
   "metadata": {},
   "outputs": [
    {
     "data": {
      "text/latex": [
       "$\\displaystyle \\operatorname{pw}{\\left(x,g_{2},g_{3} \\right)} - \\operatorname{pw}{\\left(z,g_{2},g_{3} \\right)} = - \\frac{\\sigma{\\left(x - z,g_{2},g_{3} \\right)} \\sigma{\\left(x + z,g_{2},g_{3} \\right)}}{\\sigma^{2}{\\left(x,g_{2},g_{3} \\right)} \\sigma^{2}{\\left(z,g_{2},g_{3} \\right)}}$"
      ],
      "text/plain": [
       "Eq(pw(x, g2, g3) - pw(z, g2, g3), -sigma(x - z, g2, g3)*sigma(x + z, g2, g3)/(sigma(x, g2, g3)**2*sigma(z, g2, g3)**2))"
      ]
     },
     "execution_count": 31,
     "metadata": {},
     "output_type": "execute_result"
    }
   ],
   "source": [
    "p_xy_1.subs(y,z)"
   ]
  },
  {
   "cell_type": "code",
   "execution_count": 33,
   "id": "2451651d",
   "metadata": {},
   "outputs": [
    {
     "data": {
      "text/latex": [
       "$\\displaystyle - \\operatorname{pw}{\\left(z,g_{2},g_{3} \\right)} + \\operatorname{pw}{\\left(x + z,g_{2},g_{3} \\right)} = - \\frac{\\sigma{\\left(x,g_{2},g_{3} \\right)} \\sigma{\\left(x + 2 z,g_{2},g_{3} \\right)}}{\\sigma^{2}{\\left(z,g_{2},g_{3} \\right)} \\sigma^{2}{\\left(x + z,g_{2},g_{3} \\right)}}$"
      ],
      "text/plain": [
       "Eq(-pw(z, g2, g3) + pw(x + z, g2, g3), -sigma(x, g2, g3)*sigma(x + 2*z, g2, g3)/(sigma(z, g2, g3)**2*sigma(x + z, g2, g3)**2))"
      ]
     },
     "execution_count": 33,
     "metadata": {},
     "output_type": "execute_result"
    }
   ],
   "source": [
    "p_xy_1.subs(y,z).subs(x,x+z)"
   ]
  },
  {
   "cell_type": "code",
   "execution_count": 142,
   "id": "950e557e",
   "metadata": {
    "scrolled": false
   },
   "outputs": [
    {
     "data": {
      "text/latex": [
       "$\\displaystyle p = u^{n}{\\left(z \\right)} + v^{n}{\\left(z \\right)}$"
      ],
      "text/plain": [
       "Eq(p, u(z)**n + v(z)**n)"
      ]
     },
     "execution_count": 142,
     "metadata": {},
     "output_type": "execute_result"
    },
    {
     "data": {
      "text/latex": [
       "$\\displaystyle \\frac{d}{d z} u{\\left(z \\right)} = n v^{n - 1}{\\left(z \\right)}$"
      ],
      "text/plain": [
       "Eq(Derivative(u(z), z), n*v(z)**(n - 1))"
      ]
     },
     "execution_count": 142,
     "metadata": {},
     "output_type": "execute_result"
    },
    {
     "data": {
      "text/latex": [
       "$\\displaystyle \\frac{d}{d z} v{\\left(z \\right)} = - n u^{n - 1}{\\left(z \\right)}$"
      ],
      "text/plain": [
       "Eq(Derivative(v(z), z), -n*u(z)**(n - 1))"
      ]
     },
     "execution_count": 142,
     "metadata": {},
     "output_type": "execute_result"
    },
    {
     "data": {
      "text/latex": [
       "$\\displaystyle \\frac{d}{d z} u{\\left(z \\right)} v{\\left(z \\right)} = n \\left(- u^{n}{\\left(z \\right)} + v^{n}{\\left(z \\right)}\\right)$"
      ],
      "text/plain": [
       "Eq(Derivative(u(z)*v(z), z), n*(-u(z)**n + v(z)**n))"
      ]
     },
     "execution_count": 142,
     "metadata": {},
     "output_type": "execute_result"
    },
    {
     "data": {
      "text/latex": [
       "$\\displaystyle - u{\\left(z \\right)} \\frac{d}{d z} v{\\left(z \\right)} + v{\\left(z \\right)} \\frac{d}{d z} u{\\left(z \\right)} = n p$"
      ],
      "text/plain": [
       "Eq(-u(z)*Derivative(v(z), z) + v(z)*Derivative(u(z), z), n*p)"
      ]
     },
     "execution_count": 142,
     "metadata": {},
     "output_type": "execute_result"
    },
    {
     "data": {
      "text/latex": [
       "$\\displaystyle \\left(- u^{n}{\\left(z \\right)} + v^{n}{\\left(z \\right)}\\right)^{2} = \\left(u^{n}{\\left(z \\right)} + v^{n}{\\left(z \\right)}\\right)^{2} - 4 u^{n}{\\left(z \\right)} v^{n}{\\left(z \\right)}$"
      ],
      "text/plain": [
       "Eq((-u(z)**n + v(z)**n)**2, (u(z)**n + v(z)**n)**2 - 4*u(z)**n*v(z)**n)"
      ]
     },
     "execution_count": 142,
     "metadata": {},
     "output_type": "execute_result"
    },
    {
     "data": {
      "text/latex": [
       "$\\displaystyle \\left(\\frac{d}{d z} u{\\left(z \\right)} v{\\left(z \\right)}\\right)^{2} = n^{2} \\left(p^{2} - 4 u^{n}{\\left(z \\right)} v^{n}{\\left(z \\right)}\\right)$"
      ],
      "text/plain": [
       "Eq(Derivative(u(z)*v(z), z)**2, n**2*(p**2 - 4*u(z)**n*v(z)**n))"
      ]
     },
     "execution_count": 142,
     "metadata": {},
     "output_type": "execute_result"
    },
    {
     "data": {
      "text/latex": [
       "$\\displaystyle f{\\left(z \\right)} = u{\\left(z \\right)} v{\\left(z \\right)}$"
      ],
      "text/plain": [
       "Eq(f(z), u(z)*v(z))"
      ]
     },
     "execution_count": 142,
     "metadata": {},
     "output_type": "execute_result"
    },
    {
     "data": {
      "text/latex": [
       "$\\displaystyle \\left(\\frac{d}{d z} f{\\left(z \\right)}\\right)^{2} = n^{2} \\left(p^{2} - 4 f^{n}{\\left(z \\right)}\\right)$"
      ],
      "text/plain": [
       "Eq(Derivative(f(z), z)**2, n**2*(p**2 - 4*f(z)**n))"
      ]
     },
     "execution_count": 142,
     "metadata": {},
     "output_type": "execute_result"
    },
    {
     "data": {
      "text/plain": [
       "True"
      ]
     },
     "execution_count": 142,
     "metadata": {},
     "output_type": "execute_result"
    },
    {
     "data": {
      "text/latex": [
       "$\\displaystyle \\text{True}$"
      ],
      "text/plain": [
       "True"
      ]
     },
     "execution_count": 142,
     "metadata": {},
     "output_type": "execute_result"
    }
   ],
   "source": [
    "pHam = Eq(p, u(z)**n +v(z)**n)\n",
    "du = Eq(diff(u(z),z), diff(pHam.rhs,v(z))).simplify()\n",
    "dv = Eq(diff(v(z),z), -diff(pHam.rhs,u(z))).simplify()\n",
    "duv = Eq(Derivative(u(z)*v(z),z), diff(u(z)*v(z),z).subs([du.args, dv.args]).simplify())\n",
    "du_min_dv = Eq(du.lhs*v(z) - dv.lhs*u(z), (du.rhs*v(z)  - dv.rhs*u(z)).simplify().subs(pHam.rhs, pHam.lhs))\n",
    "u_min_v_q_sqrd = Eq((-u(z)**n + v(z)**n)**2, (u(z)**n + v(z)**n)**2 -4*u(z)**n*v(z)**n)\n",
    "duv_sqrd = Eq(duv.lhs**2, (duv.rhs**2).subs(*u_min_v_q_sqrd.args).subs(pHam.rhs, pHam.lhs))\n",
    "f_uv = Eq(f(z), u(z)*v(z))\n",
    "df_sqrd = duv_sqrd.subs([(u(z)**n,f(z)**n/v(z)**n), (u(z),f(z)/v(z))]).simplify()\n",
    "\n",
    "pHam\n",
    "du\n",
    "dv\n",
    "duv\n",
    "du_min_dv\n",
    "u_min_v_q_sqrd\n",
    "duv_sqrd\n",
    "f_uv\n",
    "df_sqrd\n",
    "\n",
    "diff(pHam.rhs,z).simplify().subs([du.args, dv.args]).simplify() == 0\n",
    "u_min_v_q_sqrd.expand()"
   ]
  },
  {
   "cell_type": "code",
   "execution_count": 139,
   "id": "ca660333",
   "metadata": {},
   "outputs": [
    {
     "data": {
      "text/latex": [
       "$\\displaystyle \\frac{\\left(\\frac{d}{d z} h{\\left(z \\right)}\\right)^{2}}{4 h^{3}{\\left(z \\right)}} = 36 p^{2} - \\frac{144}{h^{3}{\\left(z \\right)}}$"
      ],
      "text/plain": [
       "Eq(Derivative(h(z), z)**2/(4*h(z)**3), 36*p**2 - 144/h(z)**3)"
      ]
     },
     "execution_count": 139,
     "metadata": {},
     "output_type": "execute_result"
    }
   ],
   "source": [
    "df_sqrd.subs(n,6).subs(f(z),1/h(z)**(Rational(1,2))).doit()"
   ]
  },
  {
   "cell_type": "code",
   "execution_count": 144,
   "id": "eef4e3d9",
   "metadata": {},
   "outputs": [
    {
     "data": {
      "text/latex": [
       "$\\displaystyle - \\frac{\\frac{d}{d z} h{\\left(z \\right)}}{2 h^{\\frac{3}{2}}{\\left(z \\right)}}$"
      ],
      "text/plain": [
       "-Derivative(h(z), z)/(2*h(z)**(3/2))"
      ]
     },
     "execution_count": 144,
     "metadata": {},
     "output_type": "execute_result"
    }
   ],
   "source": [
    "diff(1/h(z)**Rational(1,2),z)"
   ]
  },
  {
   "cell_type": "code",
   "execution_count": 113,
   "id": "7fcfe85e",
   "metadata": {},
   "outputs": [
    {
     "data": {
      "text/latex": [
       "$\\displaystyle \\left(\\frac{d}{d z} f{\\left(z \\right)}\\right)^{2} = \\frac{f^{2}{\\left(z \\right)} f^{- 2 m}{\\left(z \\right)} \\left(\\frac{\\partial}{\\partial z} f^{m}{\\left(z \\right)}\\right)^{2}}{m^{2}}$"
      ],
      "text/plain": [
       "Eq(Derivative(f(z), z)**2, f(z)**2*Derivative(f(z)**m, z)**2/(m**2*f(z)**(2*m)))"
      ]
     },
     "execution_count": 113,
     "metadata": {},
     "output_type": "execute_result"
    }
   ],
   "source": [
    "Eq(diff(f(z)**m,z)**2*f(z)**2/f(z)**(2*m)/m**2, Derivative(f(z)**m,z)**2*f(z)**2/f(z)**(2*m)/m**2)"
   ]
  },
  {
   "cell_type": "code",
   "execution_count": 117,
   "id": "3da4832f",
   "metadata": {},
   "outputs": [
    {
     "data": {
      "text/latex": [
       "$\\displaystyle n^{2} \\left(p^{2} - 4 \\left(h^{\\frac{3}{n}}{\\left(z \\right)}\\right)^{n}\\right) = \\frac{9 h^{\\frac{6}{n}}{\\left(z \\right)} \\left(\\frac{d}{d z} h{\\left(z \\right)}\\right)^{2}}{n^{2} h^{2}{\\left(z \\right)}}$"
      ],
      "text/plain": [
       "Eq(n**2*(p**2 - 4*(h(z)**(3/n))**n), 9*h(z)**(6/n)*Derivative(h(z), z)**2/(n**2*h(z)**2))"
      ]
     },
     "execution_count": 117,
     "metadata": {},
     "output_type": "execute_result"
    }
   ],
   "source": [
    "df_sqrd.subs(f(z),h(z)**(3/n)).simplify()"
   ]
  },
  {
   "cell_type": "code",
   "execution_count": 118,
   "id": "fbec8f36",
   "metadata": {},
   "outputs": [
    {
     "data": {
      "text/latex": [
       "$\\displaystyle \\left(\\frac{d}{d z} f{\\left(z \\right)}\\right)^{2} = 9 p^{2} - 4 f^{3}{\\left(z \\right)}$"
      ],
      "text/plain": [
       "Eq(Derivative(f(z), z)**2, 9*p**2 - 4*f(z)**3)"
      ]
     },
     "execution_count": 118,
     "metadata": {},
     "output_type": "execute_result"
    }
   ],
   "source": [
    "Eq(diff(f(z),z)**2, 9*p**2 - 4*f(z)**3)"
   ]
  },
  {
   "cell_type": "code",
   "execution_count": 134,
   "id": "c7580a6d",
   "metadata": {},
   "outputs": [
    {
     "data": {
      "text/latex": [
       "$\\displaystyle \\left(\\frac{d}{d z} h{\\left(z \\right)}\\right)^{2} = \\frac{9 p^{2} h^{6}{\\left(z \\right)}}{4} - 9$"
      ],
      "text/plain": [
       "Eq(Derivative(h(z), z)**2, 9*p**2*h(z)**6/4 - 9)"
      ]
     },
     "execution_count": 134,
     "metadata": {},
     "output_type": "execute_result"
    }
   ],
   "source": [
    "Eq(diff(h(z),z)**2, solve(df_sqrd.subs(n,3).subs(f(z),h(z)**(-m)).doit(), diff(h(z),z)**2)[0]).expand().subs(m,2)"
   ]
  },
  {
   "cell_type": "code",
   "execution_count": 147,
   "id": "8fd126a1",
   "metadata": {},
   "outputs": [
    {
     "data": {
      "text/latex": [
       "$\\displaystyle \\frac{2 f{\\left(z \\right)} \\frac{d}{d z} u{\\left(z \\right)}}{u{\\left(z \\right)}} - \\frac{d}{d z} f{\\left(z \\right)} = n p$"
      ],
      "text/plain": [
       "Eq(2*f(z)*Derivative(u(z), z)/u(z) - Derivative(f(z), z), n*p)"
      ]
     },
     "execution_count": 147,
     "metadata": {},
     "output_type": "execute_result"
    }
   ],
   "source": [
    "du_min_dv.subs(v(z),f(z)/u(z)).doit().expand()"
   ]
  },
  {
   "cell_type": "code",
   "execution_count": null,
   "id": "78489b5b",
   "metadata": {},
   "outputs": [],
   "source": []
  }
 ],
 "metadata": {
  "kernelspec": {
   "display_name": "Python 3 (ipykernel)",
   "language": "python",
   "name": "python3"
  },
  "language_info": {
   "codemirror_mode": {
    "name": "ipython",
    "version": 3
   },
   "file_extension": ".py",
   "mimetype": "text/x-python",
   "name": "python",
   "nbconvert_exporter": "python",
   "pygments_lexer": "ipython3",
   "version": "3.11.6"
  }
 },
 "nbformat": 4,
 "nbformat_minor": 5
}
